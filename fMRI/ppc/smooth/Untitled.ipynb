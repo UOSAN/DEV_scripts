{
 "cells": [
  {
   "cell_type": "code",
   "execution_count": 1,
   "id": "fabulous-software",
   "metadata": {},
   "outputs": [],
   "source": [
    "import nibabel as nib"
   ]
  },
  {
   "cell_type": "code",
   "execution_count": 3,
   "id": "architectural-crash",
   "metadata": {},
   "outputs": [
    {
     "name": "stderr",
     "output_type": "stream",
     "text": [
      "/home/bsmith16/.conda/envs/DEV_general_py3/lib/python3.8/site-packages/nilearn/datasets/__init__.py:87: FutureWarning: Fetchers from the nilearn.datasets module will be updated in version 0.9 to return python strings instead of bytes and Pandas dataframes instead of Numpy arrays.\n",
      "  warn(\"Fetchers from the nilearn.datasets module will be \"\n"
     ]
    }
   ],
   "source": [
    "import nltools as nlt"
   ]
  },
  {
   "cell_type": "code",
   "execution_count": 4,
   "id": "twelve-bundle",
   "metadata": {},
   "outputs": [],
   "source": [
    "import nilearn as nil"
   ]
  },
  {
   "cell_type": "code",
   "execution_count": 5,
   "id": "royal-tackle",
   "metadata": {},
   "outputs": [],
   "source": [
    "fmri_prep_output_folder = '/gpfs/projects/sanlab/shared/DEV/bids_data/derivatives/fmriprep'"
   ]
  },
  {
   "cell_type": "code",
   "execution_count": 6,
   "id": "capital-slovenia",
   "metadata": {},
   "outputs": [],
   "source": [
    "import glob"
   ]
  },
  {
   "cell_type": "code",
   "execution_count": 20,
   "id": "extended-newark",
   "metadata": {},
   "outputs": [
    {
     "data": {
      "text/plain": [
       "['/gpfs/projects/sanlab/shared/DEV/bids_data/derivatives/fmriprep/sub-DEV118/ses-wave1/func/s6_sub-DEV118_ses-wave1_task-WTP_acq-1_bold_space-MNI152NLin2009cAsym_preproc.nii',\n",
       " '/gpfs/projects/sanlab/shared/DEV/bids_data/derivatives/fmriprep/sub-DEV118/ses-wave1/func/sub-DEV118_ses-wave1_task-WTP_acq-1_bold_space-MNI152NLin2009cAsym_preproc.nii.gz',\n",
       " '/gpfs/projects/sanlab/shared/DEV/bids_data/derivatives/fmriprep/sub-DEV118/ses-wave1/func/sub-DEV118_ses-wave1_task-WTP_acq-2_bold_space-MNI152NLin2009cAsym_preproc.nii.gz',\n",
       " '/gpfs/projects/sanlab/shared/DEV/bids_data/derivatives/fmriprep/sub-DEV118/ses-wave1/func/sub-DEV118_ses-wave1_task-WTP_acq-2_bold_space-MNI152NLin2009cAsym_preproc.nii',\n",
       " '/gpfs/projects/sanlab/shared/DEV/bids_data/derivatives/fmriprep/sub-DEV118/ses-wave1/func/s6_sub-DEV118_ses-wave1_task-WTP_acq-2_bold_space-MNI152NLin2009cAsym_preproc.nii',\n",
       " '/gpfs/projects/sanlab/shared/DEV/bids_data/derivatives/fmriprep/sub-DEV118/ses-wave1/func/sub-DEV118_ses-wave1_task-WTP_acq-4_bold_space-MNI152NLin2009cAsym_preproc.nii.gz',\n",
       " '/gpfs/projects/sanlab/shared/DEV/bids_data/derivatives/fmriprep/sub-DEV118/ses-wave1/func/sub-DEV118_ses-wave1_task-WTP_acq-1_bold_space-MNI152NLin2009cAsym_preproc.nii',\n",
       " '/gpfs/projects/sanlab/shared/DEV/bids_data/derivatives/fmriprep/sub-DEV118/ses-wave2/func/sub-DEV118_ses-wave2_task-WTP_acq-3_bold_space-MNI152NLin2009cAsym_preproc.nii.gz',\n",
       " '/gpfs/projects/sanlab/shared/DEV/bids_data/derivatives/fmriprep/sub-DEV118/ses-wave2/func/sub-DEV118_ses-wave2_task-WTP_acq-2_bold_space-MNI152NLin2009cAsym_preproc.nii.gz',\n",
       " '/gpfs/projects/sanlab/shared/DEV/bids_data/derivatives/fmriprep/sub-DEV118/ses-wave2/func/sub-DEV118_ses-wave2_task-WTP_acq-4_bold_space-MNI152NLin2009cAsym_preproc.nii.gz',\n",
       " '/gpfs/projects/sanlab/shared/DEV/bids_data/derivatives/fmriprep/sub-DEV118/ses-wave2/func/sub-DEV118_ses-wave2_task-WTP_acq-1_bold_space-MNI152NLin2009cAsym_preproc.nii.gz']"
      ]
     },
     "execution_count": 20,
     "metadata": {},
     "output_type": "execute_result"
    }
   ],
   "source": [
    "glob.glob(fmri_prep_output_folder + \"/sub-DEV118/ses-wave*/func/*WTP*bold_space-MNI152NLin2009cAsym_preproc*\")"
   ]
  },
  {
   "cell_type": "code",
   "execution_count": null,
   "id": "bulgarian-politics",
   "metadata": {},
   "outputs": [],
   "source": []
  }
 ],
 "metadata": {
  "kernelspec": {
   "display_name": "Python [conda env:.conda-DEV_general_py3]",
   "language": "python",
   "name": "conda-env-.conda-DEV_general_py3-py"
  },
  "language_info": {
   "codemirror_mode": {
    "name": "ipython",
    "version": 3
   },
   "file_extension": ".py",
   "mimetype": "text/x-python",
   "name": "python",
   "nbconvert_exporter": "python",
   "pygments_lexer": "ipython3",
   "version": "3.8.5"
  }
 },
 "nbformat": 4,
 "nbformat_minor": 5
}
