{
 "cells": [
  {
   "cell_type": "code",
   "execution_count": 18,
   "metadata": {
    "collapsed": true
   },
   "outputs": [],
   "source": [
    "from multiconds import *\n",
    "import numpy as np"
   ]
  },
  {
   "cell_type": "code",
   "execution_count": 2,
   "metadata": {},
   "outputs": [
    {
     "data": {
      "text/plain": [
       "94"
      ]
     },
     "execution_count": 2,
     "metadata": {},
     "output_type": "execute_result"
    }
   ],
   "source": [
    "BUTTON_BOX_6"
   ]
  },
  {
   "cell_type": "markdown",
   "metadata": {},
   "source": [
    "Standard main function:"
   ]
  },
  {
   "cell_type": "raw",
   "metadata": {
    "collapsed": true
   },
   "source": [
    "\n",
    "def main(input_dir: str, bids_dir: str = None):\n",
    "\n",
    "    print(input_dir)\n",
    "\t\n",
    "    files = list(Path(input_dir).glob('DEV*.mat'))\n",
    "    files.sort()\n",
    "    pattern = 'DEV(\\\\d{3})_run(\\\\d{1})_.*.mat'\n",
    "    #pattern = 'DEV(\\\\d{3})_(\\\\d{1})_SST1\\\\.mat'\n",
    "    \n",
    "    for f in files:\n",
    "        match = re.search(pattern, str(f.name))\n",
    "        if match:\n",
    "            subject_id, wave_number = match.groups()\n",
    "            print(f.name)\n",
    "\n",
    "            # Read data out of the .mat file\n",
    "            trial_number, go_no_go_condition, subject_response, reaction_time, trial_duration, trial_start_time = \\\n",
    "                read_data(f)\n",
    "\n",
    "            # Create masks for the various conditions\n",
    "            masks = create_masks(go_no_go_condition, subject_response)\n",
    "\n",
    "            # Perform some quality checking on the numbers of responses (should be 256),\n",
    "            # the number of null trials (should be 128),\n",
    "            # go trials (should be 96), and no-go trials (should be 32)\n",
    "            if subject_response.size != COUNT_RESPONSE:\n",
    "                print(f'Wrong number of responses   : (subject, expected, actual) '\n",
    "                      f'({subject_id}, {COUNT_RESPONSE}, {subject_response.size})')\n",
    "            if numpy.count_nonzero(masks[0] + masks[-1]) != COUNT_GO:\n",
    "                print(f'Wrong number of go trials : (subject, run, expected, actual) '\n",
    "                      f'({subject_id}, {wave_number}, {COUNT_GO}, {numpy.count_nonzero(masks[0] + masks[-1])})')\n",
    "            if numpy.count_nonzero(masks[1] + masks[2]) != COUNT_NO_GO:\n",
    "                print(f'Wrong number of no-go trials: (subject, expected, actual) '\n",
    "                      f'({subject_id}, {COUNT_NO_GO}, {numpy.count_nonzero(masks[1] + masks[2])})')\n",
    "            if numpy.count_nonzero(masks[3]) != COUNT_NULL:\n",
    "                print(f'Wrong number of null trials : (subject, expected, actual) '\n",
    "                      f'({subject_id}, {COUNT_NULL}, {numpy.count_nonzero(masks[3])})')\n",
    "\n",
    "            if bids_dir: #create MAT files storing behavioral information\n",
    "                trial_type = numpy.empty_like(trial_number, dtype=numpy.object)\n",
    "                trial_type_names = ['correct-go', 'correct-stop', 'failed-stop', 'null', 'failed-go']\n",
    "                for mask, name in zip(masks, trial_type_names):\n",
    "                    numpy.putmask(trial_type, mask, name)\n",
    "                write_bids_events(bids_dir, subject_id, wave_number,\n",
    "                                  numpy.stack((trial_start_time, trial_duration, trial_type), axis=1))\n",
    "            else: #create onset files for SPM first-level analysis\n",
    "                trials = create_trials(trial_number, trial_start_time, trial_duration)\n",
    "\n",
    "                # Create paths and file names\n",
    "                write_betaseries(input_dir, subject_id, wave_number, trials)\n",
    "\n",
    "                conditions = create_conditions(trial_start_time, trial_duration, masks)\n",
    "                write_conditions(input_dir, subject_id, wave_number, conditions)\n"
   ]
  },
  {
   "cell_type": "markdown",
   "metadata": {},
   "source": [
    "So we want to do all the same stuff, but create a third onset set-- write_PES_conditions, perhaps. That should do it.\n",
    "\n",
    "And we should probably follow the pattern, and just integrate it with the rest of the code! Since this code already includes `write_betaseries` and `write_conditions`, it would make sense to add a third."
   ]
  },
  {
   "cell_type": "raw",
   "metadata": {
    "collapsed": true
   },
   "source": [
    "description = 'Create multi-condition files for SST task in DEV study'\n",
    "print(description)\n",
    "\n",
    "parser = argparse.ArgumentParser(description=description,\n",
    "                                 add_help=True,\n",
    "                                 formatter_class=argparse.ArgumentDefaultsHelpFormatter)\n",
    "\n",
    "parser.add_argument('-i', '--input', metavar='Input directory', action='store',\n",
    "                    type=str, required=True,\n",
    "                    help='absolute path to directory containing behavioral output from the SST task.',\n",
    "                    dest='input_dir'\n",
    "                    )\n",
    "parser.add_argument('-b', '--bids', metavar='BIDS directory', action='store',\n",
    "                    type=str, required=False, default=None,\n",
    "                    help='absolute path to your top level bids folder.',\n",
    "                    dest='bids_dir'\n",
    "                    )\n",
    "args = parser.parse_args()\n",
    "\n",
    "main(args.input_dir, args.bids_dir)"
   ]
  },
  {
   "cell_type": "raw",
   "metadata": {},
   "source": [
    "# def write_conditions(input_dir: Union[PathLike, str], subject_id: str, wave: str, trials):\n",
    "    path = Path(input_dir) / 'conditions'\n",
    "    path.mkdir(parents=True, exist_ok=True)\n",
    "    file_name = f'DEV{subject_id}_{wave}_SST1.mat'\n",
    "\n",
    "    scipy.io.savemat(str(path / file_name), trials)\n"
   ]
  },
  {
   "cell_type": "code",
   "execution_count": 3,
   "metadata": {
    "collapsed": true
   },
   "outputs": [],
   "source": [
    "input_dir = \"/Users/benjaminsmith/Dropbox (University of Oregon)/UO-SAN Lab/Berkman Lab/Devaluation/Tasks/SST_DEV/output\""
   ]
  },
  {
   "cell_type": "code",
   "execution_count": 4,
   "metadata": {},
   "outputs": [
    {
     "data": {
      "text/plain": [
       "'/Users/benjaminsmith/Dropbox (University of Oregon)/UO-SAN Lab/Berkman Lab/Devaluation/Tasks/SST_DEV/output'"
      ]
     },
     "execution_count": 4,
     "metadata": {},
     "output_type": "execute_result"
    }
   ],
   "source": [
    "input_dir"
   ]
  },
  {
   "cell_type": "markdown",
   "metadata": {},
   "source": [
    "Reconstruct some of the main function just so we can run for a single run, in preparation for creating a function to run all of them."
   ]
  },
  {
   "cell_type": "code",
   "execution_count": 5,
   "metadata": {
    "collapsed": true
   },
   "outputs": [],
   "source": [
    "files = list(Path(input_dir).glob('DEV*.mat'))\n",
    "files.sort()\n",
    "pattern = 'DEV(\\\\d{3})_run(\\\\d{1})_.*.mat'\n"
   ]
  },
  {
   "cell_type": "code",
   "execution_count": 6,
   "metadata": {},
   "outputs": [
    {
     "name": "stdout",
     "output_type": "stream",
     "text": [
      "/Users/benjaminsmith/Dropbox (University of Oregon)/UO-SAN Lab/Berkman Lab/Devaluation/Tasks/SST_DEV/output/DEV004_run1_16-Apr-2018_19-18.mat\n"
     ]
    }
   ],
   "source": [
    "print(files[0])"
   ]
  },
  {
   "cell_type": "code",
   "execution_count": 7,
   "metadata": {
    "collapsed": true
   },
   "outputs": [],
   "source": [
    "f=files[0]"
   ]
  },
  {
   "cell_type": "code",
   "execution_count": 8,
   "metadata": {
    "collapsed": true
   },
   "outputs": [],
   "source": [
    "match = re.search(pattern, str(f.name))"
   ]
  },
  {
   "cell_type": "code",
   "execution_count": 9,
   "metadata": {},
   "outputs": [
    {
     "name": "stdout",
     "output_type": "stream",
     "text": [
      "match\n"
     ]
    }
   ],
   "source": [
    "if match:\n",
    "    print('match')"
   ]
  },
  {
   "cell_type": "code",
   "execution_count": 10,
   "metadata": {},
   "outputs": [
    {
     "name": "stdout",
     "output_type": "stream",
     "text": [
      "DEV004_run1_16-Apr-2018_19-18.mat\n"
     ]
    }
   ],
   "source": [
    "subject_id, wave_number = match.groups()\n",
    "print(f.name)\n"
   ]
  },
  {
   "cell_type": "code",
   "execution_count": 11,
   "metadata": {
    "collapsed": true
   },
   "outputs": [],
   "source": [
    "trial_number, go_no_go_condition, subject_response, reaction_time, trial_duration, trial_start_time = \\\n",
    "    read_data(f)\n",
    "    \n",
    "# Create masks for the various conditions\n",
    "masks = create_masks(go_no_go_condition, subject_response)"
   ]
  },
  {
   "cell_type": "code",
   "execution_count": 12,
   "metadata": {},
   "outputs": [
    {
     "name": "stdout",
     "output_type": "stream",
     "text": [
      "[  1.   2.   3.   4.   5.   6.   7.   8.   9.  10.  11.  12.  13.  14.\n",
      "  15.  16.  17.  18.  19.  20.  21.  22.  23.  24.  25.  26.  27.  28.\n",
      "  29.  30.  31.  32.  33.  34.  35.  36.  37.  38.  39.  40.  41.  42.\n",
      "  43.  44.  45.  46.  47.  48.  49.  50.  51.  52.  53.  54.  55.  56.\n",
      "  57.  58.  59.  60.  61.  62.  63.  64.  65.  66.  67.  68.  69.  70.\n",
      "  71.  72.  73.  74.  75.  76.  77.  78.  79.  80.  81.  82.  83.  84.\n",
      "  85.  86.  87.  88.  89.  90.  91.  92.  93.  94.  95.  96.  97.  98.\n",
      "  99. 100. 101. 102. 103. 104. 105. 106. 107. 108. 109. 110. 111. 112.\n",
      " 113. 114. 115. 116. 117. 118. 119. 120. 121. 122. 123. 124. 125. 126.\n",
      " 127. 128. 129. 130. 131. 132. 133. 134. 135. 136. 137. 138. 139. 140.\n",
      " 141. 142. 143. 144. 145. 146. 147. 148. 149. 150. 151. 152. 153. 154.\n",
      " 155. 156. 157. 158. 159. 160. 161. 162. 163. 164. 165. 166. 167. 168.\n",
      " 169. 170. 171. 172. 173. 174. 175. 176. 177. 178. 179. 180. 181. 182.\n",
      " 183. 184. 185. 186. 187. 188. 189. 190. 191. 192. 193. 194. 195. 196.\n",
      " 197. 198. 199. 200. 201. 202. 203. 204. 205. 206. 207. 208. 209. 210.\n",
      " 211. 212. 213. 214. 215. 216. 217. 218. 219. 220. 221. 222. 223. 224.\n",
      " 225. 226. 227. 228. 229. 230. 231. 232. 233. 234. 235. 236. 237. 238.\n",
      " 239. 240. 241. 242. 243. 244. 245. 246. 247. 248. 249. 250. 251. 252.\n",
      " 253. 254. 255. 256.] [0. 2. 1. 2. 0. 2. 1. 2. 0. 2. 0. 2. 0. 2. 0. 2. 0. 2. 0. 2. 0. 2. 0. 2.\n",
      " 0. 2. 1. 2. 0. 2. 1. 2. 0. 2. 1. 2. 0. 2. 0. 2. 0. 2. 0. 2. 0. 2. 1. 2.\n",
      " 1. 2. 1. 2. 0. 2. 0. 2. 0. 2. 0. 2. 0. 2. 0. 2. 0. 2. 0. 2. 1. 2. 1. 2.\n",
      " 0. 2. 0. 2. 0. 2. 0. 2. 0. 2. 0. 2. 1. 2. 1. 2. 0. 2. 0. 2. 0. 2. 0. 2.\n",
      " 0. 2. 0. 2. 0. 2. 1. 2. 1. 2. 0. 2. 0. 2. 0. 2. 0. 2. 0. 2. 0. 2. 0. 2.\n",
      " 1. 2. 0. 2. 0. 2. 1. 2. 1. 2. 0. 2. 1. 2. 0. 2. 0. 2. 0. 2. 0. 2. 0. 2.\n",
      " 0. 2. 0. 2. 1. 2. 1. 2. 0. 2. 0. 2. 0. 2. 0. 2. 0. 2. 0. 2. 0. 2. 0. 2.\n",
      " 0. 2. 0. 2. 1. 2. 1. 2. 0. 2. 0. 2. 0. 2. 0. 2. 0. 2. 0. 2. 1. 2. 1. 2.\n",
      " 0. 2. 0. 2. 0. 2. 0. 2. 0. 2. 0. 2. 1. 2. 1. 2. 0. 2. 0. 2. 0. 2. 0. 2.\n",
      " 1. 2. 0. 2. 1. 2. 0. 2. 1. 2. 0. 2. 0. 2. 0. 2. 0. 2. 1. 2. 0. 2. 0. 2.\n",
      " 0. 2. 0. 2. 0. 2. 0. 2. 1. 2. 0. 2. 1. 2. 0. 2.] [94.  0. 91.  0. 91.  0. 94.  0. 94.  0. 91.  0. 94.  0. 91.  0. 94.  0.\n",
      " 94.  0. 91.  0. 91.  0. 91.  0. 94.  0. 94.  0. 91.  0. 94.  0.  0.  0.\n",
      " 91.  0. 91.  0. 91.  0. 94.  0. 94.  0.  0.  0. 94.  0.  0.  0. 91.  0.\n",
      " 94.  0. 94.  0. 91.  0. 94.  0. 91.  0. 94.  0. 91.  0.  0.  0. 91.  0.\n",
      " 94.  0. 94.  0. 91.  0. 91.  0. 94.  0. 94.  0.  0.  0. 91.  0. 91.  0.\n",
      " 91.  0. 94.  0. 91.  0. 91.  0. 91.  0. 94.  0.  0.  0.  0.  0. 91.  0.\n",
      " 94.  0. 94.  0. 94.  0. 94.  0. 94.  0. 91.  0.  0.  0. 91.  0. 91.  0.\n",
      " 94.  0.  0.  0. 91.  0.  0.  0. 94.  0. 94.  0. 91.  0. 94.  0. 91.  0.\n",
      " 94.  0. 94.  0.  0.  0. 94.  0. 91.  0. 94.  0. 91.  0. 91.  0. 91.  0.\n",
      " 94.  0. 91.  0. 91.  0. 94.  0. 94.  0. 91.  0. 94.  0. 91.  0. 94.  0.\n",
      " 94.  0. 91.  0. 94.  0. 91.  0.  0.  0. 94.  0. 91.  0. 91.  0. 94.  0.\n",
      " 94.  0. 91.  0. 94.  0.  0.  0. 94.  0. 94.  0. 94.  0. 91.  0. 94.  0.\n",
      "  0.  0. 91.  0. 91.  0. 91.  0. 94.  0. 91.  0. 94.  0. 94.  0. 94.  0.\n",
      "  0.  0. 91.  0. 91.  0. 94.  0. 91.  0. 94.  0. 94.  0. 91.  0. 91.  0.\n",
      "  0.  0.  0.  0.] [0.63060671 0.         0.46799596 0.         0.43275885 0.\n",
      " 0.52256839 0.         0.69477309 0.         0.85533858 0.\n",
      " 0.48996666 0.         0.45333622 0.         0.43802961 0.\n",
      " 0.48634151 0.         0.4635688  0.         0.46236911 0.\n",
      " 0.48150139 0.         0.52798009 0.         0.63063715 0.\n",
      " 0.69931941 0.         0.67311633 0.         0.         0.\n",
      " 0.47535701 0.         0.43273993 0.         0.44876696 0.\n",
      " 0.54321881 0.         0.55879373 0.         0.         0.\n",
      " 0.64832164 0.         0.         0.         0.56938955 0.\n",
      " 0.63679821 0.         0.5124964  0.         0.47949265 0.\n",
      " 0.43951525 0.         0.44011311 0.         0.45349285 0.\n",
      " 0.4470018  0.         0.         0.         0.45229912 0.\n",
      " 0.65665558 0.         0.60521183 0.         0.49784988 0.\n",
      " 0.45353036 0.         0.45096356 0.         0.58152634 0.\n",
      " 0.         0.         0.49366611 0.         0.67562499 0.\n",
      " 0.70807667 0.         0.47493138 0.         0.50838479 0.\n",
      " 0.57035329 0.         0.52396095 0.         0.59848897 0.\n",
      " 0.         0.         0.         0.         0.50385755 0.\n",
      " 0.49305042 0.         0.48090449 0.         0.51068214 0.\n",
      " 0.51577515 0.         0.503737   0.         0.60271307 0.\n",
      " 0.         0.         0.551885   0.         0.65167662 0.\n",
      " 0.72338261 0.         0.         0.         0.62743354 0.\n",
      " 0.         0.         0.60786833 0.         0.71314099 0.\n",
      " 0.87286067 0.         0.67764465 0.         0.43372312 0.\n",
      " 0.53594298 0.         0.5004866  0.         0.         0.\n",
      " 0.50274933 0.         0.55825707 0.         0.54838587 0.\n",
      " 0.58768636 0.         0.48075176 0.         0.47040467 0.\n",
      " 0.40774134 0.         0.49825529 0.         0.47600534 0.\n",
      " 0.59573662 0.         0.47135193 0.         0.47324005 0.\n",
      " 0.42684703 0.         0.52221456 0.         0.5486138  0.\n",
      " 0.45750798 0.         0.44711405 0.         0.44092991 0.\n",
      " 0.42023441 0.         0.         0.         0.39784581 0.\n",
      " 0.5051166  0.         0.69068079 0.         0.47000875 0.\n",
      " 0.53445173 0.         0.52695147 0.         0.57830676 0.\n",
      " 0.         0.         0.43172949 0.         0.61392916 0.\n",
      " 0.4406022  0.         0.4303748  0.         0.54658151 0.\n",
      " 0.         0.         0.48237173 0.         0.49811045 0.\n",
      " 0.65405179 0.         0.50179914 0.         0.47444989 0.\n",
      " 0.5213038  0.         0.55648829 0.         0.47805243 0.\n",
      " 0.         0.         0.57281293 0.         0.64491479 0.\n",
      " 0.51666298 0.         0.48288342 0.         0.40866478 0.\n",
      " 0.43432222 0.         0.47964465 0.         0.45129499 0.\n",
      " 0.         0.         0.         0.        ] [0.63060671 0.75       2.00556    1.375      0.43275885 3.125\n",
      " 2.00556    1.875      0.69477309 2.75       0.85533858 0.875\n",
      " 0.48996666 0.5        0.45333622 1.         0.43802961 0.625\n",
      " 0.48634151 1.         0.4635688  1.         0.46236911 1.5\n",
      " 0.48150139 1.         1.94237    0.625      0.63063715 0.625\n",
      " 2.25834    3.5        0.67311633 0.75       1.94237    2.75\n",
      " 0.47535701 0.625      0.43273993 1.5        0.44876696 0.875\n",
      " 0.54321881 1.125      0.55879373 0.875      1.94237    0.625\n",
      " 1.94237    1.625      1.94237    0.5        0.56938955 0.75\n",
      " 0.63679821 2.         0.5124964  0.5        0.47949265 0.625\n",
      " 0.43951525 0.5        0.44011311 0.625      0.45349285 0.5\n",
      " 0.4470018  0.5        2.00556    2.875      1.94237    1.125\n",
      " 0.65665558 0.625      0.60521183 1.5        0.49784988 0.625\n",
      " 0.45353036 0.875      0.45096356 0.75       0.58152634 4.\n",
      " 2.00556    1.375      1.94237    0.625      0.67562499 1.25\n",
      " 0.70807667 3.375      0.47493138 4.         0.50838479 1.25\n",
      " 0.57035329 0.75       0.52396095 0.625      0.59848897 1.5\n",
      " 1.94237    1.625      1.94237    2.5        0.50385755 0.75\n",
      " 0.49305042 1.25       0.48090449 1.125      0.51068214 1.375\n",
      " 0.51577515 1.         0.503737   0.5        0.60271307 0.625\n",
      " 2.13195    0.75       0.551885   0.875      0.65167662 2.875\n",
      " 1.94237    0.625      1.94237    1.5        0.62743354 2.\n",
      " 1.94237    2.25       0.60786833 0.5        0.71314099 1.375\n",
      " 0.87286067 0.625      0.67764465 1.75       0.43372312 0.5\n",
      " 0.53594298 0.625      0.5004866  0.625      1.87917    0.5\n",
      " 1.94237    2.         0.55825707 0.625      0.54838587 2.75\n",
      " 0.58768636 0.75       0.48075176 0.5        0.47040467 0.625\n",
      " 0.40774134 1.375      0.49825529 0.625      0.47600534 1.75\n",
      " 0.59573662 0.5        0.47135193 1.375      1.87917    1.75\n",
      " 1.94237    0.625      0.52221456 1.         0.5486138  1.75\n",
      " 0.45750798 1.5        0.44711405 0.5        0.44092991 1.625\n",
      " 0.42023441 2.125      2.13195    2.25       1.94237    0.625\n",
      " 0.5051166  1.875      0.69068079 0.875      0.47000875 0.5\n",
      " 0.53445173 0.75       0.52695147 1.         0.57830676 0.5\n",
      " 2.25834    0.5        2.00556    2.5        0.61392916 1.75\n",
      " 0.4406022  1.25       0.4303748  2.625      0.54658151 1.625\n",
      " 1.94237    0.5        0.48237173 0.625      1.94237    0.625\n",
      " 0.65405179 3.         1.94237    2.625      0.47444989 1.5\n",
      " 0.5213038  2.875      0.55648829 1.         0.47805243 0.875\n",
      " 2.25834    1.375      0.57281293 0.75       0.64491479 2.625\n",
      " 0.51666298 2.5        0.48288342 1.5        0.40866478 1.125\n",
      " 0.43432222 0.5        2.00556    0.75       0.45129499 1.75\n",
      " 2.5111     2.5        1.5        1.125     ] [  0.        2.25834   3.00834   5.0139    6.3889    8.64724  11.77224\n",
      "  13.7778   15.6528   17.78475  20.53475  22.47712  23.35212  25.48407\n",
      "  25.98407  27.92644  28.92644  30.80561  31.43061  33.37298  34.37298\n",
      "  36.50493  37.50493  39.4473   40.9473   42.82647  43.82647  45.76884\n",
      "  46.39384  48.33621  48.96121  51.21955  54.71955  56.66192  57.41192\n",
      "  59.35429  62.10429  63.98346  64.60846  66.61402  68.11402  70.11958\n",
      "  70.99458  72.87375  73.99875  76.00431  76.87931  78.82168  79.44668\n",
      "  81.38905  83.01405  84.95642  85.45642  87.39879  88.14879  90.28074\n",
      "  92.28074  94.2863   94.7863   96.79186  97.41686  99.35923  99.85923\n",
      " 101.86479 102.48979 104.49535 104.99535 106.93772 107.43772 109.44328\n",
      " 112.31828 114.26065 115.38565 117.26482 117.88982 120.02177 121.52177\n",
      " 123.40094 124.02594 126.0315  126.9065  128.84887 129.59887 132.10997\n",
      " 136.10997 138.11553 139.49053 141.4329  142.0579  144.00027 145.25027\n",
      " 147.12944 150.50444 152.44681 156.44681 158.38918 159.63918 161.77113\n",
      " 162.52113 164.4635  165.0885  167.34684 168.84684 170.78921 172.41421\n",
      " 174.35658 176.85658 178.79895 179.54895 181.55451 182.80451 184.81007\n",
      " 185.93507 187.94063 189.31563 191.32119 192.32119 194.20036 194.70036\n",
      " 196.83231 197.45731 199.58926 200.33926 202.5976  203.4726  205.41497\n",
      " 208.28997 210.23234 210.85734 212.79971 214.29971 216.24208 218.24208\n",
      " 220.18445 222.43445 224.37682 224.87682 227.00877 228.38377 230.32614\n",
      " 230.95114 232.9567  234.7067  236.71226 237.21226 239.15463 239.77963\n",
      " 241.78519 242.41019 244.28936 244.78936 246.73173 248.73173 251.24283\n",
      " 251.86783 254.37893 257.12893 259.0713  259.8213  261.70047 262.20047\n",
      " 264.07964 264.70464 266.96298 268.33798 270.21715 270.84215 272.72132\n",
      " 274.47132 276.41369 276.91369 278.85606 280.23106 282.11023 283.86023\n",
      " 285.8026  286.4276  288.36997 289.36997 291.24914 292.99914 294.94151\n",
      " 296.44151 298.69985 299.19985 301.20541 302.83041 304.70958 306.83458\n",
      " 308.96653 311.21653 313.1589  313.7839  315.66307 317.53807 320.04917\n",
      " 320.92417 322.86654 323.36654 325.24571 325.99571 328.12766 329.12766\n",
      " 331.00683 331.50683 333.76517 334.26517 336.27073 338.77073 340.6499\n",
      " 342.3999  344.40546 345.65546 347.59783 350.22283 352.1652  353.7902\n",
      " 355.73257 356.23257 358.23813 358.86313 360.8055  361.4305  363.56245\n",
      " 366.56245 368.50482 371.12982 373.00899 374.50899 376.51455 379.38955\n",
      " 381.33192 382.33192 384.21109 385.08609 387.34443 388.71943 390.72499\n",
      " 391.47499 393.60694 396.23194 398.11111 400.61111 402.61667 404.11667\n",
      " 406.12223 407.24723 409.1896  409.6896  411.69516 412.44516 414.45072\n",
      " 416.20072 418.71182 421.21182 422.71182]\n"
     ]
    }
   ],
   "source": [
    "print(trial_number, go_no_go_condition, subject_response, reaction_time, trial_duration, trial_start_time)"
   ]
  },
  {
   "cell_type": "code",
   "execution_count": 13,
   "metadata": {},
   "outputs": [
    {
     "data": {
      "text/plain": [
       "[array([ True, False, False, False,  True, False, False, False,  True,\n",
       "        False,  True, False,  True, False,  True, False,  True, False,\n",
       "         True, False,  True, False,  True, False,  True, False, False,\n",
       "        False,  True, False, False, False,  True, False, False, False,\n",
       "         True, False,  True, False,  True, False,  True, False,  True,\n",
       "        False, False, False, False, False, False, False,  True, False,\n",
       "         True, False,  True, False,  True, False,  True, False,  True,\n",
       "        False,  True, False,  True, False, False, False, False, False,\n",
       "         True, False,  True, False,  True, False,  True, False,  True,\n",
       "        False,  True, False, False, False, False, False,  True, False,\n",
       "         True, False,  True, False,  True, False,  True, False,  True,\n",
       "        False,  True, False, False, False, False, False,  True, False,\n",
       "         True, False,  True, False,  True, False,  True, False,  True,\n",
       "        False,  True, False, False, False,  True, False,  True, False,\n",
       "        False, False, False, False,  True, False, False, False,  True,\n",
       "        False,  True, False,  True, False,  True, False,  True, False,\n",
       "         True, False,  True, False, False, False, False, False,  True,\n",
       "        False,  True, False,  True, False,  True, False,  True, False,\n",
       "         True, False,  True, False,  True, False,  True, False,  True,\n",
       "        False, False, False, False, False,  True, False,  True, False,\n",
       "         True, False,  True, False,  True, False,  True, False, False,\n",
       "        False, False, False,  True, False,  True, False,  True, False,\n",
       "         True, False,  True, False,  True, False, False, False, False,\n",
       "        False,  True, False,  True, False,  True, False,  True, False,\n",
       "        False, False,  True, False, False, False,  True, False, False,\n",
       "        False,  True, False,  True, False,  True, False,  True, False,\n",
       "        False, False,  True, False,  True, False,  True, False,  True,\n",
       "        False,  True, False,  True, False, False, False,  True, False,\n",
       "        False, False, False, False]),\n",
       " array([False, False, False, False, False, False, False, False, False,\n",
       "        False, False, False, False, False, False, False, False, False,\n",
       "        False, False, False, False, False, False, False, False, False,\n",
       "        False, False, False, False, False, False, False,  True, False,\n",
       "        False, False, False, False, False, False, False, False, False,\n",
       "        False,  True, False, False, False,  True, False, False, False,\n",
       "        False, False, False, False, False, False, False, False, False,\n",
       "        False, False, False, False, False,  True, False, False, False,\n",
       "        False, False, False, False, False, False, False, False, False,\n",
       "        False, False, False,  True, False, False, False, False, False,\n",
       "        False, False, False, False, False, False, False, False, False,\n",
       "        False, False, False,  True, False,  True, False, False, False,\n",
       "        False, False, False, False, False, False, False, False, False,\n",
       "        False, False, False,  True, False, False, False, False, False,\n",
       "        False, False,  True, False, False, False,  True, False, False,\n",
       "        False, False, False, False, False, False, False, False, False,\n",
       "        False, False, False, False,  True, False, False, False, False,\n",
       "        False, False, False, False, False, False, False, False, False,\n",
       "        False, False, False, False, False, False, False, False, False,\n",
       "        False, False, False, False, False, False, False, False, False,\n",
       "        False, False, False, False, False, False, False, False,  True,\n",
       "        False, False, False, False, False, False, False, False, False,\n",
       "        False, False, False, False, False, False,  True, False, False,\n",
       "        False, False, False, False, False, False, False, False, False,\n",
       "         True, False, False, False, False, False, False, False, False,\n",
       "        False, False, False, False, False, False, False, False, False,\n",
       "         True, False, False, False, False, False, False, False, False,\n",
       "        False, False, False, False, False, False, False, False, False,\n",
       "         True, False, False, False]),\n",
       " array([False, False,  True, False, False, False,  True, False, False,\n",
       "        False, False, False, False, False, False, False, False, False,\n",
       "        False, False, False, False, False, False, False, False,  True,\n",
       "        False, False, False,  True, False, False, False, False, False,\n",
       "        False, False, False, False, False, False, False, False, False,\n",
       "        False, False, False,  True, False, False, False, False, False,\n",
       "        False, False, False, False, False, False, False, False, False,\n",
       "        False, False, False, False, False, False, False,  True, False,\n",
       "        False, False, False, False, False, False, False, False, False,\n",
       "        False, False, False, False, False,  True, False, False, False,\n",
       "        False, False, False, False, False, False, False, False, False,\n",
       "        False, False, False, False, False, False, False, False, False,\n",
       "        False, False, False, False, False, False, False, False, False,\n",
       "        False, False, False, False, False, False, False, False, False,\n",
       "         True, False, False, False, False, False, False, False, False,\n",
       "        False, False, False, False, False, False, False, False, False,\n",
       "        False, False, False, False, False, False,  True, False, False,\n",
       "        False, False, False, False, False, False, False, False, False,\n",
       "        False, False, False, False, False, False, False, False, False,\n",
       "        False,  True, False,  True, False, False, False, False, False,\n",
       "        False, False, False, False, False, False, False, False, False,\n",
       "        False,  True, False, False, False, False, False, False, False,\n",
       "        False, False, False, False, False, False, False, False,  True,\n",
       "        False, False, False, False, False, False, False, False, False,\n",
       "        False, False, False, False,  True, False, False, False,  True,\n",
       "        False, False, False, False, False, False, False, False, False,\n",
       "        False, False, False, False, False, False, False, False, False,\n",
       "        False, False, False, False, False,  True, False, False, False,\n",
       "        False, False, False, False]),\n",
       " array([False,  True, False,  True, False,  True, False,  True, False,\n",
       "         True, False,  True, False,  True, False,  True, False,  True,\n",
       "        False,  True, False,  True, False,  True, False,  True, False,\n",
       "         True, False,  True, False,  True, False,  True, False,  True,\n",
       "        False,  True, False,  True, False,  True, False,  True, False,\n",
       "         True, False,  True, False,  True, False,  True, False,  True,\n",
       "        False,  True, False,  True, False,  True, False,  True, False,\n",
       "         True, False,  True, False,  True, False,  True, False,  True,\n",
       "        False,  True, False,  True, False,  True, False,  True, False,\n",
       "         True, False,  True, False,  True, False,  True, False,  True,\n",
       "        False,  True, False,  True, False,  True, False,  True, False,\n",
       "         True, False,  True, False,  True, False,  True, False,  True,\n",
       "        False,  True, False,  True, False,  True, False,  True, False,\n",
       "         True, False,  True, False,  True, False,  True, False,  True,\n",
       "        False,  True, False,  True, False,  True, False,  True, False,\n",
       "         True, False,  True, False,  True, False,  True, False,  True,\n",
       "        False,  True, False,  True, False,  True, False,  True, False,\n",
       "         True, False,  True, False,  True, False,  True, False,  True,\n",
       "        False,  True, False,  True, False,  True, False,  True, False,\n",
       "         True, False,  True, False,  True, False,  True, False,  True,\n",
       "        False,  True, False,  True, False,  True, False,  True, False,\n",
       "         True, False,  True, False,  True, False,  True, False,  True,\n",
       "        False,  True, False,  True, False,  True, False,  True, False,\n",
       "         True, False,  True, False,  True, False,  True, False,  True,\n",
       "        False,  True, False,  True, False,  True, False,  True, False,\n",
       "         True, False,  True, False,  True, False,  True, False,  True,\n",
       "        False,  True, False,  True, False,  True, False,  True, False,\n",
       "         True, False,  True, False,  True, False,  True, False,  True,\n",
       "        False,  True, False,  True]),\n",
       " array([False, False, False, False, False, False, False, False, False,\n",
       "        False, False, False, False, False, False, False, False, False,\n",
       "        False, False, False, False, False, False, False, False, False,\n",
       "        False, False, False, False, False, False, False, False, False,\n",
       "        False, False, False, False, False, False, False, False, False,\n",
       "        False, False, False, False, False, False, False, False, False,\n",
       "        False, False, False, False, False, False, False, False, False,\n",
       "        False, False, False, False, False, False, False, False, False,\n",
       "        False, False, False, False, False, False, False, False, False,\n",
       "        False, False, False, False, False, False, False, False, False,\n",
       "        False, False, False, False, False, False, False, False, False,\n",
       "        False, False, False, False, False, False, False, False, False,\n",
       "        False, False, False, False, False, False, False, False, False,\n",
       "        False, False, False, False, False, False, False, False, False,\n",
       "        False, False, False, False, False, False, False, False, False,\n",
       "        False, False, False, False, False, False, False, False, False,\n",
       "        False, False, False, False, False, False, False, False, False,\n",
       "        False, False, False, False, False, False, False, False, False,\n",
       "        False, False, False, False, False, False, False, False, False,\n",
       "        False, False, False, False, False, False, False, False, False,\n",
       "        False, False, False, False, False, False, False, False, False,\n",
       "        False, False, False, False, False, False, False, False, False,\n",
       "        False, False, False, False, False, False, False, False, False,\n",
       "        False, False, False, False, False, False, False, False, False,\n",
       "        False, False, False, False, False, False, False, False, False,\n",
       "        False, False, False, False, False, False, False, False, False,\n",
       "        False, False, False, False, False, False, False, False, False,\n",
       "        False, False, False, False, False, False, False, False, False,\n",
       "        False, False,  True, False])]"
      ]
     },
     "execution_count": 13,
     "metadata": {},
     "output_type": "execute_result"
    }
   ],
   "source": [
    "masks\n",
    "#follows the pattern:     return list((go_success, no_go_success, no_go_fail, null_trials, go_fail))"
   ]
  },
  {
   "cell_type": "code",
   "execution_count": 14,
   "metadata": {
    "collapsed": true
   },
   "outputs": [],
   "source": [
    "no_go_fail = masks[2]\n",
    "no_go_success = masks[1]\n",
    "go = go_no_go_condition==GO_TRIAL"
   ]
  },
  {
   "cell_type": "code",
   "execution_count": 15,
   "metadata": {},
   "outputs": [
    {
     "data": {
      "text/plain": [
       "array([False,  True, False,  True, False,  True, False,  True, False,\n",
       "        True, False,  True, False,  True, False,  True, False,  True,\n",
       "       False,  True, False,  True, False,  True, False,  True, False,\n",
       "        True, False,  True, False,  True, False,  True, False,  True,\n",
       "       False,  True, False,  True, False,  True, False,  True, False,\n",
       "        True, False,  True, False,  True, False,  True, False,  True,\n",
       "       False,  True, False,  True, False,  True, False,  True, False,\n",
       "        True, False,  True, False,  True, False,  True, False,  True,\n",
       "       False,  True, False,  True, False,  True, False,  True, False,\n",
       "        True, False,  True, False,  True, False,  True, False,  True,\n",
       "       False,  True, False,  True, False,  True, False,  True, False,\n",
       "        True, False,  True, False,  True, False,  True, False,  True,\n",
       "       False,  True, False,  True, False,  True, False,  True, False,\n",
       "        True, False,  True, False,  True, False,  True, False,  True,\n",
       "       False,  True, False,  True, False,  True, False,  True, False,\n",
       "        True, False,  True, False,  True, False,  True, False,  True,\n",
       "       False,  True, False,  True, False,  True, False,  True, False,\n",
       "        True, False,  True, False,  True, False,  True, False,  True,\n",
       "       False,  True, False,  True, False,  True, False,  True, False,\n",
       "        True, False,  True, False,  True, False,  True, False,  True,\n",
       "       False,  True, False,  True, False,  True, False,  True, False,\n",
       "        True, False,  True, False,  True, False,  True, False,  True,\n",
       "       False,  True, False,  True, False,  True, False,  True, False,\n",
       "        True, False,  True, False,  True, False,  True, False,  True,\n",
       "       False,  True, False,  True, False,  True, False,  True, False,\n",
       "        True, False,  True, False,  True, False,  True, False,  True,\n",
       "       False,  True, False,  True, False,  True, False,  True, False,\n",
       "        True, False,  True, False,  True, False,  True, False,  True,\n",
       "       False,  True, False,  True])"
      ]
     },
     "execution_count": 15,
     "metadata": {},
     "output_type": "execute_result"
    }
   ],
   "source": [
    "go_no_go_condition==NULL_TRIAL"
   ]
  },
  {
   "cell_type": "code",
   "execution_count": 16,
   "metadata": {},
   "outputs": [
    {
     "data": {
      "text/plain": [
       "256"
      ]
     },
     "execution_count": 16,
     "metadata": {},
     "output_type": "execute_result"
    }
   ],
   "source": [
    "len(go_no_go_condition)"
   ]
  },
  {
   "cell_type": "code",
   "execution_count": 19,
   "metadata": {},
   "outputs": [],
   "source": [
    "#marks if each trial is a (successful or failed) go that follows a failed stop\n",
    "#we shift by 2, not 1, because we ignore the \"NULL TRIAL\" that occurs reliably every second trial\n",
    "go_following_failed_stop = np.append([False, False], (go[2:] & no_go_fail[:(len(no_go_fail)-2)]))\n",
    "#marks if each trial is a (successful or failed) go that follows a successful stop\n",
    "go_following_successful_stop = np.append([False, False], (go[2:] & no_go_success[:(len(no_go_fail)-2)]))"
   ]
  },
  {
   "cell_type": "markdown",
   "metadata": {},
   "source": [
    "Now we can write a function that will do this...."
   ]
  },
  {
   "cell_type": "raw",
   "metadata": {},
   "source": [
    "\n",
    "def create_masks(condition: numpy.ndarray, response: numpy.ndarray) -> List:\n",
    "    \"\"\"Create masks of conditions\"\"\"\n",
    "    temp = numpy.logical_or.reduce((response == NO_RESPONSE, response == RANDOM_3_KEY,\n",
    "                                    response == RANDOM_F_KEY, response == RANDOM_U_KEY,\n",
    "                                    response == RANDOM_UNINTERPRETABLE_KEY))\n",
    "    go_fail = numpy.logical_and(condition == GO_TRIAL, temp)\n",
    "    temp = numpy.logical_or.reduce((response == BUTTON_BOX_3, response == BUTTON_BOX_6,\n",
    "                                    response == BUTTON_BOX_4, response == BUTTON_BOX_5,\n",
    "                                    response == R_KEY, response == L_KEY,\n",
    "                                    response == LESS_THAN_KEY, response == GREATER_THAN_KEY,\n",
    "                                    response == BUTTON_BOX_2, response == BUTTON_BOX_7))\n",
    "    go_success = numpy.logical_and(condition == GO_TRIAL, temp)\n",
    "\n",
    "    no_go_fail = numpy.logical_and(condition == NO_GO_TRIAL, response != NO_RESPONSE)\n",
    "    no_go_success = numpy.logical_and(condition == NO_GO_TRIAL, response == NO_RESPONSE)\n",
    "\n",
    "    null_trials = (condition == NULL_TRIAL)\n",
    "\n",
    "    return list((go_success, no_go_success, no_go_fail, null_trials, go_fail))"
   ]
  },
  {
   "cell_type": "code",
   "execution_count": 70,
   "metadata": {
    "collapsed": true
   },
   "outputs": [],
   "source": [
    "\n",
    "def create_pes_masks_from_masks(condition_masks: List, condition: numpy.ndarray) -> List:\n",
    "    \"\"\"Create masks of post-error slowing conditions, derived from the original set of masks\"\"\"\n",
    "\n",
    "    go_success = condition_masks[0]\n",
    "    no_go_success = condition_masks[1]\n",
    "    no_go_fail = condition_masks[2]\n",
    "    null_trials = condition_masks[3]\n",
    "    go_fail = condition_masks[4]\n",
    "\n",
    "    go = condition==GO_TRIAL\n",
    "\n",
    "    #marks if each trial is a (successful or failed) go that follows a failed stop\n",
    "    #we shift by 2, not 1, because we ignore the \"NULL TRIAL\" that occurs reliably every second trial\n",
    "    go_following_failed_stop = np.append([False, False], (go[2:] & no_go_fail[:(len(no_go_fail)-2)]))\n",
    "    #marks if each trial is a (successful or failed) go that follows a successful stop\n",
    "    go_following_successful_stop = np.append([False, False], (go[2:] & no_go_success[:(len(no_go_fail)-2)]))\n",
    "    \n",
    "    null_trials = condition==NULL_TRIAL\n",
    "    \n",
    "    #create one beta for all the other SuccessGo trials\n",
    "    other_successful_go = go_success & (go_following_successful_stop==False) & (go_following_failed_stop==False)\n",
    "    #then just pass on the other masks as returned from create_masks\n",
    "\n",
    "\n",
    "    other_failed_go = go_fail & (go_following_successful_stop==False) & (go_following_failed_stop==False)\n",
    "    \n",
    "    \n",
    "    \n",
    "    #['GoFollowingCorrectStop', 'GoFollowingFailedStop', \n",
    "    #'OtherCorrectGo', 'CorrectStop', 'FailedStop', 'Cue', 'OtherFailedGo'\n",
    "    return list((go_following_successful_stop, go_following_failed_stop, \n",
    "                 other_successful_go, no_go_success, no_go_fail, null_trials, other_failed_go\n",
    "                ))\n"
   ]
  },
  {
   "cell_type": "raw",
   "metadata": {},
   "source": [
    "\n",
    "def create_conditions(start_time: numpy.ndarray, duration: numpy.ndarray, masks: List):\n",
    "    names = numpy.asarray(['CorrectGo', 'CorrectStop', 'FailedStop', 'Cue', 'FailedGo'], dtype=numpy.object)\n",
    "    onsets = numpy.zeros((len(masks),), dtype=numpy.object)\n",
    "    durations = numpy.zeros((len(masks),), dtype=numpy.object)\n",
    "    # onsets and durations have to be reshaped from 1-d numpy arrays to Nx1 arrays so when written\n",
    "    # by scipy.io.savemat, the correct cell array is created in matlab\n",
    "    for i, mask in enumerate(masks):\n",
    "        onsets[i] = start_time[mask].reshape(numpy.count_nonzero(mask), 1)\n",
    "        durations[i] = duration[mask].reshape(numpy.count_nonzero(mask), 1)\n",
    "\n",
    "    conditions = {'names': names,\n",
    "                  'onsets': onsets,\n",
    "                  'durations': durations}\n",
    "    return conditions"
   ]
  },
  {
   "cell_type": "code",
   "execution_count": 39,
   "metadata": {
    "collapsed": true
   },
   "outputs": [],
   "source": [
    "def create_pes_conditions(start_time: numpy.ndarray, duration: numpy.ndarray, pes_masks: List):\n",
    "    names = numpy.asarray(['GoFollowingCorrectStop', 'GoFollowingFailedStop', \n",
    "                           'OtherCorrectGo', 'CorrectStop', 'FailedStop', 'Cue', 'OtherFailedGo'], dtype=numpy.object)\n",
    "    onsets = numpy.zeros((len(pes_masks),), dtype=numpy.object)\n",
    "    durations = numpy.zeros((len(pes_masks),), dtype=numpy.object)\n",
    "    # onsets and durations have to be reshaped from 1-d numpy arrays to Nx1 arrays so when written\n",
    "    # by scipy.io.savemat, the correct cell array is created in matlab\n",
    "    for i, mask in enumerate(pes_masks):\n",
    "        onsets[i] = start_time[mask].reshape(numpy.count_nonzero(mask), 1)\n",
    "        durations[i] = duration[mask].reshape(numpy.count_nonzero(mask), 1)\n",
    "\n",
    "    conditions = {'names': names,\n",
    "                  'onsets': onsets,\n",
    "                  'durations': durations}\n",
    "    return conditions"
   ]
  },
  {
   "cell_type": "markdown",
   "metadata": {},
   "source": [
    "Let's see if we can run these!"
   ]
  },
  {
   "cell_type": "code",
   "execution_count": 40,
   "metadata": {},
   "outputs": [],
   "source": [
    "pes_masks = create_pes_masks_from_masks(masks, go_no_go_condition)"
   ]
  },
  {
   "cell_type": "code",
   "execution_count": 41,
   "metadata": {},
   "outputs": [
    {
     "data": {
      "text/plain": [
       "5"
      ]
     },
     "execution_count": 41,
     "metadata": {},
     "output_type": "execute_result"
    }
   ],
   "source": [
    "len(masks)"
   ]
  },
  {
   "cell_type": "code",
   "execution_count": 47,
   "metadata": {},
   "outputs": [],
   "source": [
    "def print_mask_signature(masks):\n",
    "    print([str(np.sum(m)) + ' True of ' + (str(len(m))) for m in masks])\n",
    "    print(np.sum([np.sum(m) for m in masks]))"
   ]
  },
  {
   "cell_type": "code",
   "execution_count": 48,
   "metadata": {},
   "outputs": [
    {
     "name": "stdout",
     "output_type": "stream",
     "text": [
      "['95 True of 256', '16 True of 256', '16 True of 256', '128 True of 256', '1 True of 256']\n",
      "256\n"
     ]
    }
   ],
   "source": [
    "print_mask_signature(masks)"
   ]
  },
  {
   "cell_type": "code",
   "execution_count": 49,
   "metadata": {},
   "outputs": [
    {
     "data": {
      "text/plain": [
       "7"
      ]
     },
     "execution_count": 49,
     "metadata": {},
     "output_type": "execute_result"
    }
   ],
   "source": [
    "len(pes_masks)"
   ]
  },
  {
   "cell_type": "code",
   "execution_count": 50,
   "metadata": {},
   "outputs": [
    {
     "name": "stdout",
     "output_type": "stream",
     "text": [
      "['9 True of 256', '13 True of 256', '74 True of 256', '16 True of 256', '16 True of 256', '128 True of 256', '0 True of 256']\n",
      "256\n"
     ]
    }
   ],
   "source": [
    "print_mask_signature(pes_masks)"
   ]
  },
  {
   "cell_type": "markdown",
   "metadata": {},
   "source": [
    "Cool, looks good...so can we then create the onset dictionary?"
   ]
  },
  {
   "cell_type": "code",
   "execution_count": 59,
   "metadata": {},
   "outputs": [],
   "source": [
    "conditions = create_conditions(trial_start_time, trial_duration, masks)\n",
    "pes_conditions = create_pes_conditions(trial_start_time, trial_duration, pes_masks)"
   ]
  },
  {
   "cell_type": "code",
   "execution_count": 62,
   "metadata": {
    "collapsed": true
   },
   "outputs": [],
   "source": [
    "def write_beta_data(input_dir: Union[PathLike, str], subfolder, subject_id: str, wave: str, trials):\n",
    "    path = Path(input_dir) / subfolder\n",
    "    path.mkdir(parents=True, exist_ok=True)\n",
    "    file_name = f'DEV{subject_id}_{wave}_SST1.mat'\n",
    "\n",
    "    scipy.io.savemat(str(path / file_name), trials)"
   ]
  },
  {
   "cell_type": "markdown",
   "metadata": {},
   "source": [
    "Now create a new main file with all this integrated."
   ]
  },
  {
   "cell_type": "code",
   "execution_count": 71,
   "metadata": {
    "collapsed": true
   },
   "outputs": [],
   "source": [
    "\n",
    "def main(input_dir: str, bids_dir: str = None, file_limit=None):\n",
    "\n",
    "    print(input_dir)\n",
    "\t\n",
    "    files = list(Path(input_dir).glob('DEV*.mat'))\n",
    "    files.sort()\n",
    "    pattern = 'DEV(\\\\d{3})_run(\\\\d{1})_.*.mat'\n",
    "    #pattern = 'DEV(\\\\d{3})_(\\\\d{1})_SST1\\\\.mat'\n",
    "    \n",
    "    #for testing\n",
    "    if file_limit is not None:\n",
    "        files = files[0:file_limit]\n",
    "    \n",
    "    for f in files:\n",
    "        match = re.search(pattern, str(f.name))\n",
    "        if match:\n",
    "            subject_id, wave_number = match.groups()\n",
    "            print(f.name)\n",
    "\n",
    "            # Read data out of the .mat file\n",
    "            trial_number, go_no_go_condition, subject_response, reaction_time, trial_duration, trial_start_time = \\\n",
    "                read_data(f)\n",
    "\n",
    "            # Create masks for the various conditions\n",
    "            masks = create_masks(go_no_go_condition, subject_response)\n",
    "            print_mask_signature(masks)\n",
    "            \n",
    "            #create masks for the post-error slowing\n",
    "            pes_masks = create_pes_masks_from_masks(masks, go_no_go_condition)\n",
    "            print_mask_signature(pes_masks)\n",
    "\n",
    "            # Perform some quality checking on the numbers of responses (should be 256),\n",
    "            # the number of null trials (should be 128),\n",
    "            # go trials (should be 96), and no-go trials (should be 32)\n",
    "            if subject_response.size != COUNT_RESPONSE:\n",
    "                print(f'Wrong number of responses   : (subject, expected, actual) '\n",
    "                      f'({subject_id}, {COUNT_RESPONSE}, {subject_response.size})')\n",
    "            if numpy.count_nonzero(masks[0] + masks[-1]) != COUNT_GO:\n",
    "                print(f'Wrong number of go trials : (subject, run, expected, actual) '\n",
    "                      f'({subject_id}, {wave_number}, {COUNT_GO}, {numpy.count_nonzero(masks[0] + masks[-1])})')\n",
    "            if numpy.count_nonzero(masks[1] + masks[2]) != COUNT_NO_GO:\n",
    "                print(f'Wrong number of no-go trials: (subject, expected, actual) '\n",
    "                      f'({subject_id}, {COUNT_NO_GO}, {numpy.count_nonzero(masks[1] + masks[2])})')\n",
    "            if numpy.count_nonzero(masks[3]) != COUNT_NULL:\n",
    "                print(f'Wrong number of null trials : (subject, expected, actual) '\n",
    "                      f'({subject_id}, {COUNT_NULL}, {numpy.count_nonzero(masks[3])})')\n",
    "\n",
    "            if bids_dir: #create MAT files storing behavioral information\n",
    "                trial_type = numpy.empty_like(trial_number, dtype=numpy.object)\n",
    "                trial_type_names = ['correct-go', 'correct-stop', 'failed-stop', 'null', 'failed-go']\n",
    "                for mask, name in zip(masks, trial_type_names):\n",
    "                    numpy.putmask(trial_type, mask, name)\n",
    "                write_bids_events(bids_dir, subject_id, wave_number,\n",
    "                                  numpy.stack((trial_start_time, trial_duration, trial_type), axis=1))\n",
    "            else: #create onset files for SPM first-level analysis\n",
    "                trials = create_trials(trial_number, trial_start_time, trial_duration)\n",
    "\n",
    "                # Create paths and file names\n",
    "                write_betaseries(input_dir, subject_id, wave_number, trials)\n",
    "\n",
    "                conditions = create_conditions(trial_start_time, trial_duration, masks)\n",
    "                write_beta_data(input_dir, 'conditions', subject_id, wave_number, conditions)\n",
    "                \n",
    "                pes_conditions = create_pes_conditions(trial_start_time, trial_duration, pes_masks)\n",
    "                write_beta_data(input_dir, 'pes_conditions', subject_id, wave_number, pes_conditions)\n",
    "            print(\"written data for subject \" + str(subject_id))\n"
   ]
  },
  {
   "cell_type": "code",
   "execution_count": 73,
   "metadata": {},
   "outputs": [
    {
     "name": "stdout",
     "output_type": "stream",
     "text": [
      "/Users/benjaminsmith/Dropbox (University of Oregon)/UO-SAN Lab/Berkman Lab/Devaluation/Tasks/SST_DEV/output\n",
      "DEV004_run1_16-Apr-2018_19-18.mat\n",
      "['95 True of 256', '16 True of 256', '16 True of 256', '128 True of 256', '1 True of 256']\n",
      "256\n",
      "['9 True of 256', '13 True of 256', '74 True of 256', '16 True of 256', '16 True of 256', '128 True of 256', '0 True of 256']\n",
      "256\n",
      "written data for subject 004\n",
      "DEV004_run2_15-May-2018_18-41.mat\n",
      "['94 True of 256', '18 True of 256', '14 True of 256', '128 True of 256', '2 True of 256']\n",
      "256\n",
      "['8 True of 256', '11 True of 256', '76 True of 256', '18 True of 256', '14 True of 256', '128 True of 256', '1 True of 256']\n",
      "256\n",
      "written data for subject 004\n",
      "DEV004_run3_03-Sep-2018_12-48.mat\n",
      "['96 True of 256', '13 True of 256', '19 True of 256', '128 True of 256', '0 True of 256']\n",
      "256\n",
      "['8 True of 256', '12 True of 256', '76 True of 256', '13 True of 256', '19 True of 256', '128 True of 256', '0 True of 256']\n",
      "256\n",
      "written data for subject 004\n",
      "DEV004_run4_15-Nov-2018_18-04.mat\n",
      "['94 True of 256', '16 True of 256', '16 True of 256', '128 True of 256', '2 True of 256']\n",
      "256\n",
      "['10 True of 256', '11 True of 256', '73 True of 256', '16 True of 256', '16 True of 256', '128 True of 256', '2 True of 256']\n",
      "256\n",
      "written data for subject 004\n",
      "DEV004_run5_16-May-2019_18-00.mat\n",
      "['94 True of 256', '17 True of 256', '15 True of 256', '128 True of 256', '2 True of 256']\n",
      "256\n",
      "['11 True of 256', '9 True of 256', '74 True of 256', '17 True of 256', '15 True of 256', '128 True of 256', '2 True of 256']\n",
      "256\n",
      "written data for subject 004\n",
      "DEV005_run1_25-Apr-2018_19-44.mat\n",
      "['80 True of 256', '5 True of 256', '27 True of 256', '128 True of 256', '16 True of 256']\n",
      "256\n",
      "['4 True of 256', '16 True of 256', '62 True of 256', '5 True of 256', '27 True of 256', '128 True of 256', '14 True of 256']\n",
      "256\n",
      "written data for subject 005\n",
      "DEV005_run2_12-Jun-2018_19-04.mat\n",
      "['95 True of 256', '14 True of 256', '18 True of 256', '128 True of 256', '1 True of 256']\n",
      "256\n",
      "['6 True of 256', '15 True of 256', '74 True of 256', '14 True of 256', '18 True of 256', '128 True of 256', '1 True of 256']\n",
      "256\n",
      "written data for subject 005\n",
      "DEV005_run3_12-Nov-2018_12-04.mat\n",
      "['95 True of 256', '11 True of 256', '21 True of 256', '128 True of 256', '1 True of 256']\n",
      "256\n",
      "['7 True of 256', '15 True of 256', '74 True of 256', '11 True of 256', '21 True of 256', '128 True of 256', '0 True of 256']\n",
      "256\n",
      "written data for subject 005\n",
      "DEV006_run1_07-Jun-2018_18-16.mat\n",
      "['92 True of 256', '18 True of 256', '14 True of 256', '128 True of 256', '4 True of 256']\n",
      "256\n",
      "['11 True of 256', '11 True of 256', '72 True of 256', '18 True of 256', '14 True of 256', '128 True of 256', '2 True of 256']\n",
      "256\n",
      "written data for subject 006\n",
      "DEV007_run1_07-May-2018_11-21.mat\n",
      "['96 True of 256', '18 True of 256', '14 True of 256', '128 True of 256', '0 True of 256']\n",
      "256\n",
      "['13 True of 256', '9 True of 256', '74 True of 256', '18 True of 256', '14 True of 256', '128 True of 256', '0 True of 256']\n",
      "256\n",
      "written data for subject 007\n"
     ]
    }
   ],
   "source": [
    "main(input_dir,file_limit=10)"
   ]
  },
  {
   "cell_type": "markdown",
   "metadata": {},
   "source": [
    "The output looks good. So we'll integrate this into the main multiconds.py now."
   ]
  },
  {
   "cell_type": "code",
   "execution_count": null,
   "metadata": {
    "collapsed": true
   },
   "outputs": [],
   "source": []
  }
 ],
 "metadata": {
  "kernelspec": {
   "display_name": "Python [conda env:mybrainiak]",
   "language": "python",
   "name": "conda-env-mybrainiak-py"
  },
  "language_info": {
   "codemirror_mode": {
    "name": "ipython",
    "version": 3
   },
   "file_extension": ".py",
   "mimetype": "text/x-python",
   "name": "python",
   "nbconvert_exporter": "python",
   "pygments_lexer": "ipython3",
   "version": "3.6.8"
  }
 },
 "nbformat": 4,
 "nbformat_minor": 2
}
