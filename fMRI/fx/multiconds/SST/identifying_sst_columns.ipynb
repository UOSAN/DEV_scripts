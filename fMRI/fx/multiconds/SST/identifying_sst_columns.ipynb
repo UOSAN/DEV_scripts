{
 "cells": [
  {
   "cell_type": "code",
   "execution_count": 1,
   "metadata": {},
   "outputs": [
    {
     "ename": "NameError",
     "evalue": "name 'all_data' is not defined",
     "output_type": "error",
     "traceback": [
      "\u001b[0;31m---------------------------------------------------------------------------\u001b[0m",
      "\u001b[0;31mNameError\u001b[0m                                 Traceback (most recent call last)",
      "\u001b[1;32mUntitled-1.ipynb Cell 1\u001b[0m in \u001b[0;36m<cell line: 1>\u001b[0;34m()\u001b[0m\n\u001b[0;32m----> <a href='vscode-notebook-cell:Untitled-1.ipynb?jupyter-notebook#W0sdW50aXRsZWQ%3D?line=0'>1</a>\u001b[0m all_data\u001b[39m.\u001b[39mcolumns\n",
      "\u001b[0;31mNameError\u001b[0m: name 'all_data' is not defined"
     ]
    }
   ],
   "source": [
    "\n",
    "all_data = read_all_data(f)\n",
    "\n",
    "all_data.columns"
   ]
  },
  {
   "attachments": {},
   "cell_type": "markdown",
   "metadata": {},
   "source": [
    "\n",
    "\n",
    "    #     %%%%%%%%%%%%%% Stimuli and Response on same matsrix, pre-determined\n",
    "    # % The first column is trial number;\n",
    "    # % The second column is numchunks number (1-NUMCHUNKS);\n",
    "    # % The third column is 0 = Go, 1 = NoGo; 2 is null, 3 is notrial (kluge, see opt_stop.m)\n",
    "    # % The fourth column is 0=left, 1=right arrow; 2 is null\n",
    "    # % The fifth column is ladder number (1-2);\n",
    "    # % The sixth column is the value currently in \"LadderX\", corresponding to SSD\n",
    "    # % The seventh column is subject response (no response is 0);\n",
    "    # % The eighth column is ladder movement (-1 for down, +1 for up, 0 for N/A)\n",
    "    # % The ninth column is their reaction time (sec)\n",
    "    # % The tenth column is their actual SSD (for error-check)\n",
    "    # % The 11th column is their actual SSD plus time taken to run the command\n",
    "    # % The 12th column is absolute time since beginning of task that trial begins\n",
    "    # % The 13th column is the time elapsed since the beginning of the block at moment when arrows are shown\n",
    "    # % The 14th column is the actual SSD for error check (time from arrow displayed to beep played)\n",
    "    # % The 15th column is the duration of the trial from trialcode\n",
    "    # % The 16th column is the time_course from trialcode\n",
    "    # % The 17th column is the UvH code (0=unhealthy, 1=healthy, 2=null)\n",
    "\n",
    "\n",
    "    "
   ]
  },
  {
   "cell_type": "code",
   "execution_count": null,
   "metadata": {},
   "outputs": [],
   "source": [
    "\n",
    "all_data.loc[0:20,['trial_number','absolute_time','time_course','time_elapsed','actual_ssd_error_check','trial_duration','ssd']]"
   ]
  }
 ],
 "metadata": {
  "kernelspec": {
   "display_name": "Python 3",
   "language": "python",
   "name": "python3"
  },
  "language_info": {
   "codemirror_mode": {
    "name": "ipython",
    "version": 3
   },
   "file_extension": ".py",
   "mimetype": "text/x-python",
   "name": "python",
   "nbconvert_exporter": "python",
   "pygments_lexer": "ipython3",
   "version": "3.8.12 | packaged by conda-forge | (default, Jan 30 2022, 23:36:06) \n[Clang 11.1.0 ]"
  },
  "orig_nbformat": 4,
  "vscode": {
   "interpreter": {
    "hash": "bb050bcc8b81458f4f32a7c8049fedbf3e54bc3b198c16d5af251c0821e39cb4"
   }
  }
 },
 "nbformat": 4,
 "nbformat_minor": 2
}
