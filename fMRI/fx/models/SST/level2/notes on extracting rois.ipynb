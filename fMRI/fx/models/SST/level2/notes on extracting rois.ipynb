{
 "cells": [
  {
   "attachments": {},
   "cell_type": "markdown",
   "metadata": {},
   "source": [
    "## task list\n",
    "\n",
    " - prepping the pipeline\n",
    " - ROIs ready (see below)\n",
    "   - Try to run freesurfer and see how those ROIs look\n",
    "   - I'm in freeview and can view nii.gz files but not the .gii files created by freesurfer.\n",
    "   - I'm downloading the tutorial files from https://surfer.nmr.mgh.harvard.edu/fswiki/FsTutorial/Data to see if I can read those, to determine if the problem is in my freeview installation or the .gii files that fmriprep has generated.\n",
    " - General planning of which ROIs to do"
   ]
  },
  {
   "attachments": {},
   "cell_type": "markdown",
   "metadata": {},
   "source": [
    "## Reading from freesurfer images\n",
    "\n",
    "There's already some data from freesurfer. But the freesurfer data is generated across LOTS of files. how do we identify an ROI in freesurfer and then extract it?\n",
    "\n",
    "First of all, we can use Connectome Workbench to read freesurfer files. Freesurfer's own freeview didn't work very well.\n",
    "\n",
    "To view data from fmriprep in CW,\n",
    "   1. open a surface file from the anat directory. you can use inflated, midthickness, or other files. Be sure to select the `surf.gii` file type.\n",
    "   2. Next, open the brain dat from the `func` directory. You can NOT open the left and right brain data at the same time. Open one and then the other. Pick the `fs_native` images.\n",
    "   3. Hmmm--the problem with these images is that they are raw timeseries images; for our purposes here, we need ROIs extracted for the conditions; we need transforms associated with the conditions. Theoretically you could extract an SPM transform and simply apply it to an ROI extracted from the image but that seems quite complicated.\n",
    "   4. Label files are in `sourcedata/freesurfer/sub*/label/*`. However, these are not inteh format that CW expects, so I'm not sure how to read them. I'm sure we could figure it out; however, at this point, it's not worth it considering we need the condition contrast images.\n",
    "\n"
   ]
  },
  {
   "cell_type": "code",
   "execution_count": null,
   "metadata": {},
   "outputs": [],
   "source": []
  },
  {
   "attachments": {},
   "cell_type": "markdown",
   "metadata": {},
   "source": [
    "## getting ROIs ready\n",
    "getting the ROI readings for the task…\n",
    "(1) can we use the ready-made extracted ROIs from fmriprep?\n",
    "\n",
    "(2) The MARSBAR solution…\n",
    "I copied a file to /Users/benjaminsmith/Google Drive/oregon/code/DEV_scripts/fMRI/fx/models/SST/level2/generate_marsbar_extraction_cg_cs.py; this currently does a level 2 t-test but we could adapt it with instructions below to do MARSBAR extraction:\n",
    "\n",
    "---\n",
    "\n",
    "## from GPT\n",
    "\n",
    "In SPM (Statistical Parametric Mapping), collecting an ROI (Region of Interest) across a particular condition for each subject can be done using the MarsBaR toolbox in combination with custom Python scripts for batch processing. Here's a step-by-step guide on how to do this:\n",
    "\n",
    "1. Install and setup MarsBaR:\n",
    "   - Download the MarsBaR toolbox from the official site (http://marsbar.sourceforge.net/) and extract it to a directory, e.g., `path/to/marsbar-x.y.z`.\n",
    "   - Launch MATLAB, and add MarsBaR to your MATLAB path by running the following commands:\n",
    "     ```\n",
    "     addpath /path/to/marsbar-x.y.z\n",
    "     savepath\n",
    "     marsbar on\n",
    "     ```\n",
    "\n",
    "2. Create or choose an ROI:\n",
    "   - You can create an ROI from within MarsBaR, using the MarsBaR ROI definition options.\n",
    "   - You can also use a predefined ROI. MarsBaR supports various formats such as the Analyze format or MarsBaR ROI files.\n",
    "\n",
    "3. Write a Python script to collect ROI data from SPM contrasts for each subject:\n"
   ]
  },
  {
   "cell_type": "code",
   "execution_count": null,
   "metadata": {},
   "outputs": [],
   "source": [
    "import os\n",
    "import numpy as np\n",
    "import subprocess\n",
    "\n",
    "subjects = [\"sub01\", \"sub02\", “sub03\"]  # List of subject IDs\n",
    "roi_path = \"/path/to/your/roi.nii\"  # The path to your roi file\n",
    "spm_path = \"/path/to/your/spm.mat\"  # The path to your spm.mat file (change file name if needed)\n",
    "output_file = \"output.csv\"\n",
    "\n",
    "roi_data = []\n",
    "\n",
    "# Loop through subjects and extract ROI data\n",
    "for subject in subjects:\n",
    "    subject_spm_path = os.path.join(spm_path, subject)\n",
    "    \n",
    "    cmd = f\"marsbar('extract', '{subject_spm_path}', '{roi_path}')\"\n",
    "    result = subprocess.check_output([\"matlab\", \"-nodisplay\", \"-nosplash\", \"-r\", f\"{cmd};exit;\"])\n",
    "    \n",
    "    # Convert the result to a Python list\n",
    "    data_list = [float(x) for x in result.decode('utf-8').strip().split('\\n') if x]\n",
    "    roi_data.append(data_list)\n",
    "\n",
    "# Save the results to a CSV file\n",
    "roi_data = np.array(roi_data)\n",
    "np.savetxt(output_file, roi_data, delimiter=',')\n",
    "\n",
    "\n"
   ]
  },
  {
   "attachments": {},
   "cell_type": "markdown",
   "metadata": {},
   "source": [
    "Running the Python script will call MATLAB to run MarsBaR functions and extract the ROI data for each subject from the SPM contrasts files. The data will be saved to a CSV file for further analysis."
   ]
  },
  {
   "attachments": {},
   "cell_type": "markdown",
   "metadata": {},
   "source": [
    "## For testing\n",
    "\n",
    "let's use the following test paths:\n",
    "\n",
    " - `/Users/benjaminsmith/Google Drive/oregon/data/DEV/brainmaps/sst_functional/CueFollowing(CS>FS)striatal_cluster_combined.nii` as the ROI\n",
    " - `/Users/benjaminsmith/Google Drive/oregon/data/DEV/nonbids_data/fMRI/fx/models/SST/wave1/conditions/sub-DEV087/beta_0001.nii` as the data to extract from."
   ]
  }
 ],
 "metadata": {
  "language_info": {
   "name": "python"
  },
  "orig_nbformat": 4
 },
 "nbformat": 4,
 "nbformat_minor": 2
}
