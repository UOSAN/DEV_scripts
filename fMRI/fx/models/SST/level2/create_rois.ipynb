{
 "cells": [
  {
   "cell_type": "code",
   "execution_count": 12,
   "metadata": {},
   "outputs": [
    {
     "name": "stdout",
     "output_type": "stream",
     "text": [
      "Benjamins-MacBook-Pro-2.local\n",
      "Benjamins-MacBook-Pro-2.local\n"
     ]
    }
   ],
   "source": [
    "\n",
    "\n",
    "import nibabel as nib\n",
    "import nilearn as nil\n",
    "from nilearn import plotting\n",
    "\n",
    "from socket import gethostname\n",
    "from yaml.loader import SafeLoader\n",
    "import yaml\n",
    "\n",
    "from level2_utils import read_yaml_for_host\n",
    "\n",
    "\n",
    "\n",
    "print(gethostname())\n",
    "# Open the file and load the file\n",
    "config = read_yaml_for_host('l2_config.yml')"
   ]
  },
  {
   "cell_type": "code",
   "execution_count": 13,
   "metadata": {},
   "outputs": [
    {
     "data": {
      "text/plain": [
       "dict_keys(['rubric_dir', 'dropbox_datapath', 'nonbids_data_path', 'sst_wave1_path', 'fmriprep_dir', 'spm_l2_script_template_filepath', 'input_mat_path', 'dev_scripts_path', 'sst_level_2_path', 'spm_path', 'nii_raw_path', 'mask_location'])"
      ]
     },
     "execution_count": 13,
     "metadata": {},
     "output_type": "execute_result"
    }
   ],
   "source": [
    "config.keys()"
   ]
  },
  {
   "cell_type": "code",
   "execution_count": 26,
   "metadata": {},
   "outputs": [],
   "source": [
    "#get the paths of the six striatal mask areas\n",
    "import glob\n",
    "\n",
    "\n",
    "mask_path = config['mask_location']\n",
    "\n",
    "striatal_masks = glob.glob(mask_path + 'striatum' + '/*.nii.gz')\n",
    "\n",
    "#load the masks and add them\n",
    "striatal_joint_mask = nil.image.math_img(\n",
    "    \" + \".join([\"img\" + str(i) for i in range(len(striatal_masks))]),\n",
    "    **{'img'+str(i):sm for i, sm in enumerate(striatal_masks)}\n",
    "    )\n",
    "\n",
    "#now save that mask\n",
    "striatal_joint_mask_filepath = mask_path + 'aim3/striatum_joint_mask.nii.gz'\n",
    "striatal_joint_mask.to_filename(striatal_joint_mask_filepath)\n"
   ]
  },
  {
   "attachments": {},
   "cell_type": "markdown",
   "metadata": {},
   "source": [
    "Next mask we want is an intersection of the striatum mask and the motor control striatal mask"
   ]
  },
  {
   "cell_type": "code",
   "execution_count": 29,
   "metadata": {},
   "outputs": [],
   "source": [
    "motor_control_mask = nil.image.math_img(\n",
    "    \"striatum * motor_control\",\n",
    "    striatum = striatal_joint_mask_filepath,\n",
    "    motor_control = mask_path + 'aim3/neurosynth/motor control_association-test_z_FDR_0.01.nii.gz')\n",
    "\n",
    "motor_control_mask.to_filename(mask_path + 'aim3/motor_control_striatum_joint_mask.nii.gz')"
   ]
  },
  {
   "cell_type": "code",
   "execution_count": null,
   "metadata": {},
   "outputs": [],
   "source": [
    "dev_scripts_abs_path = config['dev_scripts_path']\n",
    "posterror_folder = 'posterror_cues_no_rt_20230512'\n",
    "\n",
    "# roi file to open\n",
    "roi_files = [dev_scripts_abs_path + 'fMRI/fx/models/SST/level2/' + posterror_folder + '/CueFollowing(CS>FS)/CueFollowing(CS>FS)striatal_cluster_1.nii',\n",
    "dev_scripts_abs_path + 'fMRI/fx/models/SST/level2/' + posterror_folder + '/CueFollowing(CS>FS)/CueFollowing(CS>FS)striatal_cluster_2.nii']\n",
    "# load each of the roi files\n",
    " \n",
    "roi_data = []\n",
    "for roi_file in roi_files:\n",
    "    print(roi_file)\n",
    "    ni_file = nib.load(roi_file)\n",
    "    #binarize roi using nilearn\n",
    "    ni_file = nil.image.math_img(\"img > 0\", img=ni_file)\n",
    "    roi_data = roi_data + [ni_file]\n",
    "    #display the roi\n",
    "    #plotting.plot_roi(ni_file, title=roi_file)\n",
    "    print(\"displayed\")\n",
    "#combine the rois\n",
    "#concatenate them\n",
    "combined_roi_data = nil.image.concat_imgs(roi_data)\n",
    "#then add them\n",
    "combined_roi_data = nil.image.math_img(\"np.sum(imgs, axis=3)\", imgs=combined_roi_data)\n",
    "\n",
    "plotting.plot_roi(combined_roi_data, title=\"combined\")\n",
    "#save the combined roi\n",
    "combined_roi_data.to_filename(\n",
    "    dev_scripts_abs_path + '/fMRI/fx/models/SST/level2/' + posterror_folder + '/CueFollowing(CS>FS)/CueFollowing(CS>FS)striatal_cluster_combined.nii')\n",
    "\n",
    "    \n",
    "\n",
    "\n"
   ]
  }
 ],
 "metadata": {
  "kernelspec": {
   "display_name": "neuralsignature",
   "language": "python",
   "name": "python3"
  },
  "language_info": {
   "codemirror_mode": {
    "name": "ipython",
    "version": 3
   },
   "file_extension": ".py",
   "mimetype": "text/x-python",
   "name": "python",
   "nbconvert_exporter": "python",
   "pygments_lexer": "ipython3",
   "version": "3.10.9"
  },
  "orig_nbformat": 4
 },
 "nbformat": 4,
 "nbformat_minor": 2
}
