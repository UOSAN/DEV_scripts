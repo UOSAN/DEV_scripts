{
 "cells": [
  {
   "cell_type": "code",
   "execution_count": 1,
   "metadata": {},
   "outputs": [
    {
     "name": "stdout",
     "output_type": "stream",
     "text": [
      "Benjamins-MacBook-Pro-2.local\n",
      "Benjamins-MacBook-Pro-2.local\n"
     ]
    }
   ],
   "source": [
    "\n",
    "\n",
    "import nibabel as nib\n",
    "import nilearn as nil\n",
    "from nilearn import plotting\n",
    "\n",
    "from socket import gethostname\n",
    "from yaml.loader import SafeLoader\n",
    "import yaml\n",
    "\n",
    "from level2_utils import read_yaml_for_host\n",
    "\n",
    "\n",
    "\n",
    "print(gethostname())\n",
    "# Open the file and load the file\n",
    "config = read_yaml_for_host('l2_config.yml')"
   ]
  },
  {
   "cell_type": "code",
   "execution_count": 3,
   "metadata": {},
   "outputs": [
    {
     "data": {
      "text/plain": [
       "dict_keys(['rubric_dir', 'dropbox_datapath', 'nonbids_data_path', 'sst_wave1_path', 'fmriprep_dir', 'spm_l2_script_template_filepath', 'spm_l2_script_w_confounders_template_filepath', 'confounder_template_path', 'confounder_consess_template_path', 'confounder_conspec_template_path', 'input_mat_path', 'dev_scripts_path', 'sst_level_2_path', 'spm_path', 'nii_raw_path', 'mask_location', 'template_mlr_main', 'template_mlr_confounder_no_centering', 'template_mlr_consess', 'template_mlr_conspec'])"
      ]
     },
     "execution_count": 3,
     "metadata": {},
     "output_type": "execute_result"
    }
   ],
   "source": [
    "config.keys()"
   ]
  },
  {
   "cell_type": "code",
   "execution_count": null,
   "metadata": {},
   "outputs": [],
   "source": []
  },
  {
   "attachments": {},
   "cell_type": "markdown",
   "metadata": {},
   "source": [
    "## Striatum joint mask"
   ]
  },
  {
   "cell_type": "code",
   "execution_count": 26,
   "metadata": {},
   "outputs": [],
   "source": [
    "#get the paths of the six striatal mask areas\n",
    "import glob\n",
    "\n",
    "\n",
    "mask_path = config['mask_location']\n",
    "\n",
    "striatal_masks = glob.glob(mask_path + 'striatum' + '/*.nii.gz')\n",
    "\n",
    "#load the masks and add them\n",
    "striatal_joint_mask = nil.image.math_img(\n",
    "    \" + \".join([\"img\" + str(i) for i in range(len(striatal_masks))]),\n",
    "    **{'img'+str(i):sm for i, sm in enumerate(striatal_masks)}\n",
    "    )\n",
    "\n",
    "#now save that mask\n",
    "striatal_joint_mask_filepath = mask_path + 'aim3/striatum_joint_mask.nii.gz'\n",
    "striatal_joint_mask.to_filename(striatal_joint_mask_filepath)\n"
   ]
  },
  {
   "attachments": {},
   "cell_type": "markdown",
   "metadata": {},
   "source": [
    "Next mask we want is an intersection of the striatum mask and the motor control striatal mask"
   ]
  },
  {
   "cell_type": "code",
   "execution_count": 29,
   "metadata": {},
   "outputs": [],
   "source": [
    "motor_control_mask = nil.image.math_img(\n",
    "    \"striatum * motor_control\",\n",
    "    striatum = striatal_joint_mask_filepath,\n",
    "    motor_control = mask_path + 'aim3/neurosynth/motor control_association-test_z_FDR_0.01.nii.gz')\n",
    "\n",
    "motor_control_mask.to_filename(mask_path + 'aim3/motor_control_striatum_joint_mask.nii.gz')"
   ]
  },
  {
   "attachments": {},
   "cell_type": "markdown",
   "metadata": {},
   "source": [
    "## Striatal SST functional contrast"
   ]
  },
  {
   "attachments": {},
   "cell_type": "markdown",
   "metadata": {},
   "source": [
    "Before we run this, the striatal clusters need to be manually created in SPM."
   ]
  },
  {
   "cell_type": "code",
   "execution_count": null,
   "metadata": {},
   "outputs": [],
   "source": [
    "dev_scripts_abs_path = config['dev_scripts_path']\n",
    "posterror_folder = 'posterror_cues_no_rt_20230512'\n",
    "\n",
    "#these two files need to be manually created in SPM.\n",
    "# roi file to open\n",
    "roi_files = [dev_scripts_abs_path + 'fMRI/fx/models/SST/level2/' + posterror_folder + '/CueFollowing(CS>FS)/CueFollowing(CS>FS)striatal_cluster_1.nii',\n",
    "dev_scripts_abs_path + 'fMRI/fx/models/SST/level2/' + posterror_folder + '/CueFollowing(CS>FS)/CueFollowing(CS>FS)striatal_cluster_2.nii']\n",
    "# load each of the roi files\n",
    " \n",
    "roi_data = []\n",
    "for roi_file in roi_files:\n",
    "    print(roi_file)\n",
    "    ni_file = nib.load(roi_file)\n",
    "    #binarize roi using nilearn\n",
    "    ni_file = nil.image.math_img(\"img > 0\", img=ni_file)\n",
    "    roi_data = roi_data + [ni_file]\n",
    "    #display the roi\n",
    "    #plotting.plot_roi(ni_file, title=roi_file)\n",
    "    print(\"displayed\")\n",
    "#combine the rois\n",
    "#concatenate them\n",
    "combined_roi_data = nil.image.concat_imgs(roi_data)\n",
    "#then add them\n",
    "combined_roi_data = nil.image.math_img(\"np.sum(imgs, axis=3)\", imgs=combined_roi_data)\n",
    "\n",
    "plotting.plot_roi(combined_roi_data, title=\"combined\")\n",
    "#save the combined roi\n",
    "combined_roi_data.to_filename(\n",
    "    dev_scripts_abs_path + '/fMRI/fx/models/SST/level2/' + posterror_folder + '/CueFollowing(CS>FS)/CueFollowing(CS>FS)striatal_cluster_combined.nii')\n",
    "\n",
    "    \n",
    "\n",
    "\n"
   ]
  },
  {
   "attachments": {},
   "cell_type": "markdown",
   "metadata": {},
   "source": [
    "## Hedy Kober image conversion\n",
    "\n",
    "This converts a mask from hdr/img format to nii format"
   ]
  },
  {
   "attachments": {},
   "cell_type": "markdown",
   "metadata": {},
   "source": [
    "nil.load"
   ]
  },
  {
   "cell_type": "code",
   "execution_count": 78,
   "metadata": {},
   "outputs": [],
   "source": [
    "koban_kober_img = nib.load(config['mask_location'] + \"aim3/signatures/koban_kober_craving_wmapN99_boot10K_02-May-2022.img\")\n",
    "\n",
    "img_variance = koban_kober_img.get_fdata()[koban_kober_img.get_fdata()!=0].var()\n",
    "variance_reciprocal = 1/img_variance\n",
    "img_not_zero = np.sum(koban_kober_img.get_fdata()!=0)"
   ]
  },
  {
   "cell_type": "code",
   "execution_count": 84,
   "metadata": {},
   "outputs": [
    {
     "data": {
      "text/plain": [
       "69160"
      ]
     },
     "execution_count": 84,
     "metadata": {},
     "output_type": "execute_result"
    }
   ],
   "source": [
    "np.sum(koban_kober_img.get_fdata()!=0)"
   ]
  },
  {
   "cell_type": "code",
   "execution_count": 54,
   "metadata": {},
   "outputs": [],
   "source": [
    "koban_kober_img_var1 = nil.image.math_img(\"img *\" + str(variance_reciprocal), img=koban_kober_img)"
   ]
  },
  {
   "cell_type": "code",
   "execution_count": 57,
   "metadata": {},
   "outputs": [],
   "source": [
    "nib.save(koban_kober_img_var1, config['mask_location'] + \"aim3/signatures/koban_kober_craving_wmapN99_boot10K_02-May-2022_var1.nii.gz\")"
   ]
  },
  {
   "cell_type": "code",
   "execution_count": 86,
   "metadata": {},
   "outputs": [],
   "source": [
    "koban_kober_img_scaled_up = nil.image.math_img(\"img *\" + str(img_not_zero), img=koban_kober_img)\n",
    "nib.save(koban_kober_img_scaled_up, config['mask_location'] + \"aim3/signatures/koban_kober_craving_wmapN99_boot10K_02-May-2022_notzero.nii.gz\")"
   ]
  },
  {
   "cell_type": "code",
   "execution_count": null,
   "metadata": {},
   "outputs": [],
   "source": []
  },
  {
   "cell_type": "markdown",
   "metadata": {},
   "source": [
    "## Response inhibition"
   ]
  },
  {
   "cell_type": "code",
   "execution_count": 4,
   "metadata": {},
   "outputs": [],
   "source": [
    "mask_path = config['mask_location']\n"
   ]
  },
  {
   "cell_type": "code",
   "execution_count": 5,
   "metadata": {},
   "outputs": [
    {
     "data": {
      "text/plain": [
       "'/Users/benjaminsmith/Google Drive/oregon/data/DEV/brainmaps/'"
      ]
     },
     "execution_count": 5,
     "metadata": {},
     "output_type": "execute_result"
    }
   ],
   "source": [
    "mask_path"
   ]
  },
  {
   "cell_type": "code",
   "execution_count": 28,
   "metadata": {},
   "outputs": [],
   "source": [
    "#get the paths of the six striatal mask areas\n",
    "import glob\n",
    "\n",
    "\n",
    "mask_path = config['mask_location']\n",
    "\n",
    "neurosynth_response_inhibition_filepath = mask_path + 'response_inhibition_related/response inhibition_association-test_z_FDR_0.01.nii.gz'\n",
    "\n",
    "superior_frontal_gyrus_filepath = mask_path + 'response_inhibition_related/harvardoxford-cortical_prob_Superior Frontal Gyrus.nii.gz'\n",
    "\n",
    "right_hemisphere_filepath = mask_path + 'harvardoxford-subcortical_prob_Right Cerebral Cortex.nii.gz'\n",
    "\n",
    "frontal_pole_filepath  = mask_path + 'response_inhibition_related/harvardoxford-cortical_prob_Frontal Pole.nii.gz'\n",
    "\n",
    "#set a threshold of 25 for the h-o masks\n",
    "superior_frontal_gyrus_25 = nil.image.math_img(\"img > 25\", img=superior_frontal_gyrus_filepath)\n",
    "frontal_pole_25 = nil.image.math_img(\"img > 25\", img=frontal_pole_filepath)\n",
    "right_hemisphere_0 = nil.image.math_img(\"img > 0\", img=right_hemisphere)\n"
   ]
  },
  {
   "cell_type": "code",
   "execution_count": 10,
   "metadata": {},
   "outputs": [],
   "source": [
    "neurosynth_response_inhibition = nil.image.load_img(neurosynth_response_inhibition_filepath)"
   ]
  },
  {
   "cell_type": "code",
   "execution_count": 21,
   "metadata": {},
   "outputs": [],
   "source": [
    "#could use the regions extractor, but I would rather use the neurosynth mask as, although we don't necessarily get continguous regions,\n",
    "#the strict multiply method gets us a more replicable mask\n",
    "# import nilearn.regions as regions\n",
    "\n",
    "# regions_list, index_of_each_map = regions.connected_regions(neurosynth_response_inhibition, min_region_size=1000)\n",
    "# regions_list.to_filename(mask_path + 'response_inhibition_related/neurosynth_response_inhibition_connected_regions.nii.gz')"
   ]
  },
  {
   "cell_type": "code",
   "execution_count": null,
   "metadata": {},
   "outputs": [],
   "source": [
    "# functional_mask_filepath=neurosynth_response_inhibition_filepath\n",
    "# base_anatomical_img_set=superior_frontal_gyrus_filepath\n",
    "# hemisphere_filepath = right_hemisphere\n",
    "# functional_thresh = 5\n",
    "# out_filename = mask_path + 'response_inhibition_anatomical_combined/neurosynth_response_inhibition_right_sup_fron_gyrus.nii.gz'\n",
    "\n",
    "# multiply the two h-o masks by the hemisphere mask to get the right hemisphere\n",
    "def combine_neurosynth_anatomical(functional_mask_filepath, base_anatomical_img_set, hemisphere_filepath, functional_thresh, out_filename):\n",
    "    base_anatomical_img = nil.image.load_img(base_anatomical_img_set)\n",
    "    hemisphere_img = nil.image.load_img(hemisphere_filepath)\n",
    "    # binarize the h-o masks\n",
    "    anatomical_mask_bin_25 = nil.image.binarize_img(base_anatomical_img,25)\n",
    "    anatomical_mask_bin_25.to_filename(superior_frontal_gyrus_filepath.replace('.nii.gz', '_bin_25.nii.gz'))\n",
    "    # binarize the hemisphere mask\n",
    "    hemisphere_mask_bin_25 = nil.image.binarize_img(hemisphere_img,25)\n",
    "    hemispheric_anatomical_mask = nil.image.math_img(\"img1 * img2\", img1=anatomical_mask_bin_25, img2=hemisphere_mask_bin_25)\n",
    "    hemispheric_anatomical_mask.to_filename(superior_frontal_gyrus_filepath.replace('.nii.gz', '_hemi_bin_25.nii.gz'))\n",
    "    # binarize the neurosynth mask\n",
    "    functional_mask_bin = nil.image.binarize_img(functional_mask_filepath,functional_thresh)\n",
    "    # multiply the neurosynth mask by each of the h-o masks\n",
    "    combined_mask = nil.image.math_img(\"img1 * img2\", img1=functional_mask_bin, img2=hemispheric_anatomical_mask)\n",
    "    # save each output\n",
    "    combined_mask.to_filename(out_filename)\n",
    "\n",
    "combine_neurosynth_anatomical(neurosynth_response_inhibition_filepath,superior_frontal_gyrus_filepath,\n",
    "                              right_hemisphere_filepath,functional_thresh,out_filename)"
   ]
  },
  {
   "cell_type": "code",
   "execution_count": 23,
   "metadata": {},
   "outputs": [],
   "source": []
  },
  {
   "cell_type": "markdown",
   "metadata": {},
   "source": []
  },
  {
   "cell_type": "code",
   "execution_count": null,
   "metadata": {},
   "outputs": [],
   "source": [
    "#load the masks and add them\n",
    "motor_control_mask = nil.image.math_img(\n",
    "    \"striatum * motor_control\",\n",
    "    striatum = striatal_joint_mask_filepath,\n",
    "    motor_control = mask_path + 'aim3/neurosynth/motor control_association-test_z_FDR_0.01.nii.gz')\n",
    "\n",
    "#now save that mask\n",
    "striatal_joint_mask_filepath = mask_path + 'aim3/striatum_joint_mask.nii.gz'\n",
    "striatal_joint_mask.to_filename(striatal_joint_mask_filepath)\n"
   ]
  }
 ],
 "metadata": {
  "kernelspec": {
   "display_name": "neuralsignature",
   "language": "python",
   "name": "python3"
  },
  "language_info": {
   "codemirror_mode": {
    "name": "ipython",
    "version": 3
   },
   "file_extension": ".py",
   "mimetype": "text/x-python",
   "name": "python",
   "nbconvert_exporter": "python",
   "pygments_lexer": "ipython3",
   "version": "3.10.9"
  },
  "orig_nbformat": 4
 },
 "nbformat": 4,
 "nbformat_minor": 2
}
