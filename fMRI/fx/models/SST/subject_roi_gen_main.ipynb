{
 "cells": [
  {
   "cell_type": "code",
   "execution_count": 1,
   "metadata": {},
   "outputs": [],
   "source": [
    "import glob\n",
    "import pandas as pd\n",
    "\n",
    "from os.path import basename\n",
    "import pickle\n",
    "\n",
    "from level2.level2_utils import *\n",
    "from level2.level2_roi_extraction import load_masks, get_mask_roi_data_for_beta\n",
    "from level2.level2_roi_extraction import get_roi_data_for_l2_betas, get_roi_data_for_multirun_l2_betas\n",
    "#import modules from files in a parallel directory \"direct_regression\"\n",
    "\n",
    "\n",
    "from direct_regression.get_all_series import get_beta_img, get_roi_data, get_moment_trial_type_revealed, get_behavioral_data_with_moment_trial_type_revealed, mask_3d_subject_image\n",
    "from direct_regression.get_all_series import get_all_subj_df\n",
    "from direct_regression.fmri_utils import *\n",
    "\n"
   ]
  },
  {
   "cell_type": "code",
   "execution_count": 2,
   "metadata": {},
   "outputs": [
    {
     "name": "stdout",
     "output_type": "stream",
     "text": [
      "Benjamins-MacBook-Pro-2.local\n",
      "{'dev_scripts_path': '/Users/benjaminsmith/Google Drive/oregon/code/DEV_scripts/', 'rural_data_dir': '/Users/benjaminsmith/Dropbox (University of Oregon)/UO-SAN Lab/Berkman Lab/Devaluation/analysis_files/data/', 'rubric_dir': '/Users/benjaminsmith/Dropbox (University of Oregon)/UO-SAN Lab/Berkman Lab/Devaluation/DEV_scoring_rubrics', 'dev_analysis_data_dir': '/Users/benjaminsmith/Dropbox (University of Oregon)/UO-SAN Lab/Berkman Lab/Devaluation/analysis_files/data/', 'input_mat_path': '/Users/benjaminsmith/oregon/code/DEV_scripts/fMRI/fx/multiconds/SST/full_duration/conditions', 'dropbox_data_dir': '/Users/benjaminsmith/Dropbox (University of Oregon)/UO-SAN Lab/Berkman Lab/Devaluation/analysis_files/data/', 'fmriprep_dir': '/Users/benjaminsmith/Google Drive/oregon/data/DEV/bids_data/derivatives/fmriprep_2022/', 'nii_raw_path': 'sub-DEV*/ses-wave*/func/s6_sub-DEV*_ses-wave*_task-SST_acq-1_space-MNI152NLin2009cAsym_desc-preproc_bold.nii', 'mask_location': '/Users/benjaminsmith/Google Drive/oregon/data/DEV/brainmaps/', 'ben_dev_data_analysis': '/Users/benjaminsmith/Google Drive/oregon/code/bsmith_dev_data_analysis/', 'nonbids_data_path': '/Users/benjaminsmith/Google Drive/oregon/data/DEV/nonbids_data/'}\n"
     ]
    }
   ],
   "source": [
    "\n",
    "config = load_config(\"direct_regression/config.yml\")\n",
    "analysis_name = 'conditions'\n",
    "\n",
    "\n",
    "#get the masks\n",
    "mask_locations = [\n",
    "    #config['mask_location'] + 'failure_related/',\n",
    "    config['mask_location'] + 'aim3/neurosynth/',\n",
    "    config['mask_location'] + 'aim3/'\n",
    "\n",
    "    #config['mask_location'] + 'failure_related/harvardoxford/',\n",
    "    #config['mask_location'] + 'striatum/'\n",
    "]\n",
    "mask_df = get_mask_df_from_mask_locations(mask_locations)\n",
    "#get the list of raw nii files\n",
    "glob_path = config['fmriprep_dir'] + config['nii_raw_path']"
   ]
  },
  {
   "cell_type": "code",
   "execution_count": null,
   "metadata": {},
   "outputs": [],
   "source": [
    "\n",
    "\n",
    "## SST\n",
    "train_betas_with_data = get_data_for_confirmed_train_subjs(\n",
    "    beta_glob = config['nonbids_data_path'] + \"fMRI/fx/models/SST/wave1/conditions/sub-DEV*/\",\n",
    "    nonbids_data_path = config['nonbids_data_path'],\n",
    "    #ml_data_folderpath = ml_data_folderpath,\n",
    "    ml_scripting_path = config['dev_scripts_path'] + \"/fMRI/ml\",\n",
    "    dropbox_datapath=config['dropbox_data_dir'],\n",
    "    exclude_test_subjs=False\n",
    ")\n",
    "train_betas_with_data['wave']=1\n",
    "\n",
    "#we're not interestd in getting contrasts; comment this out.\n",
    "#betas_with_contrasts = get_contrasts_for_betas(train_betas_with_data)\n",
    "betas_with_paths = get_beta_fnames_for_beta_dirs(train_betas_with_data[0:5])\n",
    "\n",
    "beta_name_list = [\n",
    "    'CorrectGo',\n",
    "    'CorrectStop',\n",
    "    'FailedStop',\n",
    "    #'Cue',\n",
    "    #'FailedGo'\n",
    "    ]\n",
    "\n",
    "#get the ROI data\n",
    "roi_data = get_roi_data_for_l2_betas(betas_with_paths, beta_name_list, mask_df[0:2])\n",
    "\n",
    "roi_data.to_csv(config['dropbox_data_dir'] + '/subject_sst_avg_roi_data_raw.csv')\n",
    "\n"
   ]
  },
  {
   "attachments": {},
   "cell_type": "markdown",
   "metadata": {},
   "source": [
    "### WTP"
   ]
  },
  {
   "cell_type": "code",
   "execution_count": 3,
   "metadata": {},
   "outputs": [
    {
     "name": "stdout",
     "output_type": "stream",
     "text": [
      "loaded 275 rows from data_by_ppt.csv\n",
      "246 subjects with no reported problems in task Redcap scanner notes, added to the provision useable_dev_id list.\n",
      "5 subjects excludeable for missing scan data.\n",
      "241 subjects remaining on the provision useable_dev_id list from the redcap list after excluding subjects with missing scan data.\n",
      "241 subjects remaining on the provisional useable_dev_id list from the redcap list after excluding subjects excluded by motion quality process.\n",
      "beta paths before exclusion: 278\n",
      "beta paths after exclusion via nsc_subject_exclusions and the provision useable_dev_id list: 237\n"
     ]
    },
    {
     "name": "stderr",
     "output_type": "stream",
     "text": [
      "/Users/benjaminsmith/Google Drive/oregon/code/DEV_scripts/fMRI/fx/models/SST/level2/level2_utils.py:188: SettingWithCopyWarning: \n",
      "A value is trying to be set on a copy of a slice from a DataFrame\n",
      "\n",
      "See the caveats in the documentation: https://pandas.pydata.org/pandas-docs/stable/user_guide/indexing.html#returning-a-view-versus-a-copy\n",
      "  useable_train_betas_with_data.sort_values('subject_id', inplace=True)\n"
     ]
    }
   ],
   "source": [
    "\n",
    "## WTP\n",
    "train_betas_with_data = get_data_for_confirmed_train_subjs(\n",
    "    beta_glob = config['nonbids_data_path'] + \"fMRI/fx/models/WTP/wave1/conditions_liked_disliked/sub-DEV*/\",\n",
    "    nonbids_data_path = config['nonbids_data_path'],\n",
    "    #ml_data_folderpath = ml_data_folderpath,\n",
    "    ml_scripting_path = config['dev_scripts_path'] + \"/fMRI/ml\",\n",
    "    dropbox_datapath=config['dropbox_data_dir'],\n",
    "    exclude_test_subjs=False,\n",
    "    task='WTP'\n",
    ").copy()\n",
    "train_betas_with_data['wave']=1\n",
    "\n",
    "\n",
    "\n",
    "#we're not interestd in getting contrasts; comment this out.\n",
    "#betas_with_contrasts = get_contrasts_for_betas(train_betas_with_data)\n",
    "betas_with_paths = get_beta_fname_list_for_beta_dirs(train_betas_with_data[0:10])\n",
    "\n",
    "#from level2.level2_roi_extraction import get_roi_data_for_l2_betas, get_roi_data_for_multirun_l2_betas\n",
    "\n",
    "beta_name_list = [\n",
    "    'liked',\n",
    "    'disliked'\n",
    "    ]\n",
    "\n",
    "#get the ROI data\n",
    "roi_data = get_roi_data_for_multirun_l2_betas(betas_with_paths[0:10], condition_list = beta_name_list, mask_df = mask_df[0:2])\n",
    "\n",
    "roi_data.to_csv(config['dropbox_data_dir'] + '/subject_wtp_avg_roi_data_raw.csv')\n"
   ]
  },
  {
   "attachments": {},
   "cell_type": "markdown",
   "metadata": {},
   "source": [
    "### ROC"
   ]
  },
  {
   "cell_type": "code",
   "execution_count": null,
   "metadata": {},
   "outputs": [],
   "source": [
    "\n",
    "## WTP\n",
    "train_betas_with_data = get_data_for_confirmed_train_subjs(\n",
    "    beta_glob = config['nonbids_data_path'] + \"fMRI/fx/models/ROC/wave1/conditions_liked_disliked/sub-DEV*/\",\n",
    "    nonbids_data_path = config['nonbids_data_path'],\n",
    "    #ml_data_folderpath = ml_data_folderpath,\n",
    "    ml_scripting_path = config['dev_scripts_path'] + \"/fMRI/ml\",\n",
    "    dropbox_datapath=config['dropbox_data_dir'],\n",
    "    exclude_test_subjs=False,\n",
    "    task='WTP'\n",
    ").copy()\n",
    "train_betas_with_data['wave']=1\n",
    "\n",
    "\n",
    "\n",
    "#we're not interestd in getting contrasts; comment this out.\n",
    "#betas_with_contrasts = get_contrasts_for_betas(train_betas_with_data)\n",
    "betas_with_paths = get_beta_fname_list_for_beta_dirs(train_betas_with_data[0:10])\n",
    "\n",
    "#from level2.level2_roi_extraction import get_roi_data_for_l2_betas, get_roi_data_for_multirun_l2_betas\n",
    "\n",
    "beta_name_list = [\n",
    "    'liked',\n",
    "    'disliked'\n",
    "    ]\n",
    "\n",
    "#get the ROI data\n",
    "roi_data = get_roi_data_for_multirun_l2_betas(betas_with_paths[0:10], condition_list = beta_name_list, mask_df = mask_df[0:2])\n",
    "\n",
    "roi_data.to_csv(config['dropbox_data_dir'] + '/subject_roc_avg_roi_data_raw.csv')\n"
   ]
  },
  {
   "cell_type": "code",
   "execution_count": null,
   "metadata": {},
   "outputs": [],
   "source": [
    "#save\n",
    "with open(config['dropbox_data_dir'] + '/subject_sst_avg_roi_data_raw.pkl', 'wb') as handle:\n",
    "    pickle.dump(roi_data, handle, protocol=pickle.HIGHEST_PROTOCOL)\n",
    "\n"
   ]
  }
 ],
 "metadata": {
  "kernelspec": {
   "display_name": "neuralsignature",
   "language": "python",
   "name": "python3"
  },
  "language_info": {
   "codemirror_mode": {
    "name": "ipython",
    "version": 3
   },
   "file_extension": ".py",
   "mimetype": "text/x-python",
   "name": "python",
   "nbconvert_exporter": "python",
   "pygments_lexer": "ipython3",
   "version": "3.10.9"
  },
  "orig_nbformat": 4
 },
 "nbformat": 4,
 "nbformat_minor": 2
}
