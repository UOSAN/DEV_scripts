{
 "cells": [
  {
   "cell_type": "code",
   "execution_count": 1,
   "metadata": {},
   "outputs": [],
   "source": [
    "import glob\n",
    "import pandas as pd\n",
    "\n",
    "from os.path import basename\n",
    "import pickle\n",
    "\n",
    "from level2.level2_utils import *\n",
    "from level2.level2_roi_extraction import level2_roi_extractor\n",
    "from level2.level2_roi_extraction import load_rois, get_roi_data_for_beta\n",
    "from level2.level2_roi_extraction import get_roi_data_for_l2_betas, get_roi_data_for_multirun_l2_betas\n",
    "#import modules from files in a parallel directory \"direct_regression\"\n",
    "\n",
    "\n",
    "from direct_regression.get_all_series import get_beta_img, get_roi_data, get_moment_trial_type_revealed, get_behavioral_data_with_moment_trial_type_revealed, mask_3d_subject_image\n",
    "from direct_regression.get_all_series import get_all_subj_df\n",
    "from direct_regression.fmri_utils import *\n",
    "\n"
   ]
  },
  {
   "cell_type": "code",
   "execution_count": 2,
   "metadata": {},
   "outputs": [
    {
     "name": "stdout",
     "output_type": "stream",
     "text": [
      "Benjamins-MacBook-Pro-2.local\n",
      "{'dev_scripts_path': '/Users/benjaminsmith/Google Drive/oregon/code/DEV_scripts/', 'level2_output_path': '/Users/benjaminsmith/Dropbox (University of Oregon)/UO-SAN Lab/Berkman Lab/Devaluation/analysis_files/level2/SST/', 'rural_data_dir': '/Users/benjaminsmith/Dropbox (University of Oregon)/UO-SAN Lab/Berkman Lab/Devaluation/analysis_files/data/', 'rubric_dir': '/Users/benjaminsmith/Dropbox (University of Oregon)/UO-SAN Lab/Berkman Lab/Devaluation/DEV_scoring_rubrics', 'l2_analysis_files': '/Users/benjaminsmith/Dropbox (University of Oregon)/UO-SAN Lab/Berkman Lab/Devaluation/analysis_files/level2/', 'input_mat_path': '/Users/benjaminsmith/oregon/code/DEV_scripts/fMRI/fx/multiconds/SST/full_duration/conditions', 'dropbox_data_dir': '/Users/benjaminsmith/Dropbox (University of Oregon)/UO-SAN Lab/Berkman Lab/Devaluation/analysis_files/data/', 'dev_analysis_data_dir': '/Users/benjaminsmith/Dropbox (University of Oregon)/UO-SAN Lab/Berkman Lab/Devaluation/analysis_files/data/', 'fmriprep_dir': '/Users/benjaminsmith/Google Drive/oregon/data/DEV/bids_data/derivatives/fmriprep_2022/', 'nii_raw_path': 'sub-DEV*/ses-wave*/func/s6_sub-DEV*_ses-wave*_task-SST_acq-1_space-MNI152NLin2009cAsym_desc-preproc_bold.nii', 'mask_location': '/Users/benjaminsmith/Google Drive/oregon/data/DEV/brainmaps/', 'ben_dev_data_analysis': '/Users/benjaminsmith/Google Drive/oregon/code/bsmith_dev_data_analysis/', 'nonbids_data_path': '/Users/benjaminsmith/Google Drive/oregon/data/DEV/nonbids_data/'}\n"
     ]
    }
   ],
   "source": [
    "\n",
    "config = load_config(\"direct_regression/config.yml\")\n",
    "analysis_name = 'conditions'\n",
    "\n",
    "\n",
    "#get the masks\n",
    "mask_locations = [\n",
    "    config['mask_location'] + 'aim3/masks/neurosynth/',\n",
    "    config['mask_location'] + 'aim3/masks/'\n",
    "]\n",
    "\n",
    "signature_locations = [\n",
    "    config['mask_location'] + 'signatures/aim3/'\n",
    "]\n",
    "\n",
    "roi_df = get_mask_df_from_mask_locations(mask_locations)\n",
    "signature_df = get_mask_df_from_mask_locations(signature_locations)\n",
    "roi_df['image_type'] = 'mask'\n",
    "signature_df['image_type'] = 'signature'\n",
    "\n",
    "#combine the two dfs\n",
    "roi_df = pd.concat([roi_df, signature_df])\n",
    "#get the list of raw nii files\n",
    "glob_path = config['fmriprep_dir'] + config['nii_raw_path']"
   ]
  },
  {
   "cell_type": "code",
   "execution_count": null,
   "metadata": {},
   "outputs": [],
   "source": []
  },
  {
   "attachments": {},
   "cell_type": "markdown",
   "metadata": {},
   "source": [
    "## SST"
   ]
  },
  {
   "cell_type": "code",
   "execution_count": null,
   "metadata": {},
   "outputs": [],
   "source": [
    "#filter the mask_label in mask_df, using regex, to only use stiraum, finger movements, motor control, and response inbhitioin\n",
    "sst_roi_df = roi_df.loc[roi_df['mask_label'].str.contains('striatum|finger|motor|response inhibition')]\n",
    "\n",
    "## SST\n",
    "train_betas_with_data = get_data_for_confirmed_train_subjs(\n",
    "    beta_glob = config['nonbids_data_path'] + \"fMRI/fx/models/SST/wave1/conditions/sub-DEV*/\",\n",
    "    nonbids_data_path = config['nonbids_data_path'],\n",
    "    #ml_data_folderpath = ml_data_folderpath,\n",
    "    ml_scripting_path = config['dev_scripts_path'] + \"/fMRI/ml\",\n",
    "    dropbox_datapath=config['dropbox_data_dir'],\n",
    "    exclude_test_subjs=False\n",
    ")\n",
    "train_betas_with_data['wave']=1\n",
    "\n",
    "#we're not interestd in getting contrasts; comment this out.\n",
    "#betas_with_contrasts = get_contrasts_for_betas(train_betas_with_data)\n",
    "betas_with_paths = get_beta_fnames_for_beta_dirs(train_betas_with_data[0:5])\n"
   ]
  },
  {
   "cell_type": "code",
   "execution_count": null,
   "metadata": {},
   "outputs": [],
   "source": [
    "\n",
    "beta_name_list = [\n",
    "    'CorrectGo',\n",
    "    'CorrectStop',\n",
    "    'FailedStop',\n",
    "    #'Cue',\n",
    "    #'FailedGo'\n",
    "    ]\n",
    "\n",
    "#get the ROI data\n",
    "roi_data_sst_conditions = get_roi_data_for_l2_betas(betas_with_paths, beta_name_list, sst_roi_df)\n",
    "\n"
   ]
  },
  {
   "cell_type": "code",
   "execution_count": null,
   "metadata": {},
   "outputs": [],
   "source": [
    "\n",
    "## SST\n",
    "train_betas_with_data = get_data_for_confirmed_train_subjs(\n",
    "    beta_glob = config['nonbids_data_path'] + \"fMRI/fx/models/SST/wave1/posterror_conditions/sub-DEV*/\",\n",
    "    nonbids_data_path = config['nonbids_data_path'],\n",
    "    #ml_data_folderpath = ml_data_folderpath,\n",
    "    ml_scripting_path = config['dev_scripts_path'] + \"/fMRI/ml\",\n",
    "    dropbox_datapath=config['dropbox_data_dir'],\n",
    "    exclude_test_subjs=False\n",
    ")\n",
    "train_betas_with_data['wave']=1\n",
    "\n",
    "#we're not interestd in getting contrasts; comment this out.\n",
    "#betas_with_contrasts = get_contrasts_for_betas(train_betas_with_data)\n",
    "betas_with_paths = get_beta_fnames_for_beta_dirs(train_betas_with_data[0:3])\n",
    "\n",
    "beta_name_list = ['CorrectGoFollowingFailedStop']\n",
    "\n",
    "#get the ROI data\n",
    "roi_data_sst_posterror_conditions = get_roi_data_for_l2_betas(betas_with_paths, beta_name_list, sst_roi_df)\n",
    "\n"
   ]
  },
  {
   "cell_type": "code",
   "execution_count": null,
   "metadata": {},
   "outputs": [],
   "source": [
    "roi_data_sst_posterror_conditions"
   ]
  },
  {
   "cell_type": "code",
   "execution_count": null,
   "metadata": {},
   "outputs": [],
   "source": [
    "roi_data_sst.to_csv(config['dropbox_data_dir'] + '/subject_sst_avg_roi_data_raw.csv')"
   ]
  },
  {
   "cell_type": "markdown",
   "metadata": {},
   "source": [
    "### W1 W2 analysis"
   ]
  },
  {
   "cell_type": "code",
   "execution_count": 3,
   "metadata": {},
   "outputs": [],
   "source": [
    "#get the masks\n",
    "mask_locations = [\n",
    "    config['mask_location'] + 'aim3/masks/neurosynth/',\n",
    "    config['mask_location'] + 'aim3/masks/',\n",
    "    config['mask_location'] + 'striatum/',\n",
    "    config['mask_location']\n",
    "]\n",
    "wave_compare_roi_df = get_mask_df_from_mask_locations(mask_locations)"
   ]
  },
  {
   "cell_type": "code",
   "execution_count": 4,
   "metadata": {},
   "outputs": [
    {
     "data": {
      "text/plain": [
       "['/Users/benjaminsmith/Google Drive/oregon/data/DEV/brainmaps/aim3/masks/neurosynth/',\n",
       " '/Users/benjaminsmith/Google Drive/oregon/data/DEV/brainmaps/aim3/masks/',\n",
       " '/Users/benjaminsmith/Google Drive/oregon/data/DEV/brainmaps/striatum/',\n",
       " '/Users/benjaminsmith/Google Drive/oregon/data/DEV/brainmaps/']"
      ]
     },
     "execution_count": 4,
     "metadata": {},
     "output_type": "execute_result"
    }
   ],
   "source": [
    "mask_locations"
   ]
  },
  {
   "cell_type": "code",
   "execution_count": 5,
   "metadata": {},
   "outputs": [
    {
     "data": {
      "text/html": [
       "<div>\n",
       "<style scoped>\n",
       "    .dataframe tbody tr th:only-of-type {\n",
       "        vertical-align: middle;\n",
       "    }\n",
       "\n",
       "    .dataframe tbody tr th {\n",
       "        vertical-align: top;\n",
       "    }\n",
       "\n",
       "    .dataframe thead th {\n",
       "        text-align: right;\n",
       "    }\n",
       "</style>\n",
       "<table border=\"1\" class=\"dataframe\">\n",
       "  <thead>\n",
       "    <tr style=\"text-align: right;\">\n",
       "      <th></th>\n",
       "      <th>mask_label</th>\n",
       "      <th>mask_path</th>\n",
       "    </tr>\n",
       "  </thead>\n",
       "  <tbody>\n",
       "    <tr>\n",
       "      <th>0</th>\n",
       "      <td>reward_association-test_z_FDR_0.01</td>\n",
       "      <td>/Users/benjaminsmith/Google Drive/oregon/data/...</td>\n",
       "    </tr>\n",
       "    <tr>\n",
       "      <th>1</th>\n",
       "      <td>response inhibition_association-test_z_FDR_0.01</td>\n",
       "      <td>/Users/benjaminsmith/Google Drive/oregon/data/...</td>\n",
       "    </tr>\n",
       "    <tr>\n",
       "      <th>2</th>\n",
       "      <td>finger movements_association-test_z_FDR_0.01</td>\n",
       "      <td>/Users/benjaminsmith/Google Drive/oregon/data/...</td>\n",
       "    </tr>\n",
       "    <tr>\n",
       "      <th>3</th>\n",
       "      <td>reappraisal_association-test_z_FDR_0.01</td>\n",
       "      <td>/Users/benjaminsmith/Google Drive/oregon/data/...</td>\n",
       "    </tr>\n",
       "    <tr>\n",
       "      <th>4</th>\n",
       "      <td>abstract_association-test_z_FDR_0.01</td>\n",
       "      <td>/Users/benjaminsmith/Google Drive/oregon/data/...</td>\n",
       "    </tr>\n",
       "    <tr>\n",
       "      <th>5</th>\n",
       "      <td>attention network_association-test_z_FDR_0.01</td>\n",
       "      <td>/Users/benjaminsmith/Google Drive/oregon/data/...</td>\n",
       "    </tr>\n",
       "    <tr>\n",
       "      <th>6</th>\n",
       "      <td>motor control_association-test_z_FDR_0.01</td>\n",
       "      <td>/Users/benjaminsmith/Google Drive/oregon/data/...</td>\n",
       "    </tr>\n",
       "    <tr>\n",
       "      <th>7</th>\n",
       "      <td>value_association-test_z_FDR_0.01</td>\n",
       "      <td>/Users/benjaminsmith/Google Drive/oregon/data/...</td>\n",
       "    </tr>\n",
       "    <tr>\n",
       "      <th>8</th>\n",
       "      <td>striatum_joint_mask</td>\n",
       "      <td>/Users/benjaminsmith/Google Drive/oregon/data/...</td>\n",
       "    </tr>\n",
       "    <tr>\n",
       "      <th>9</th>\n",
       "      <td>motor_control_striatum_joint_mask</td>\n",
       "      <td>/Users/benjaminsmith/Google Drive/oregon/data/...</td>\n",
       "    </tr>\n",
       "    <tr>\n",
       "      <th>10</th>\n",
       "      <td>striatum_joint_mask</td>\n",
       "      <td>/Users/benjaminsmith/Google Drive/oregon/data/...</td>\n",
       "    </tr>\n",
       "    <tr>\n",
       "      <th>11</th>\n",
       "      <td>harvardoxford-subcortical_prob_Left Putamen</td>\n",
       "      <td>/Users/benjaminsmith/Google Drive/oregon/data/...</td>\n",
       "    </tr>\n",
       "    <tr>\n",
       "      <th>12</th>\n",
       "      <td>harvardoxford-subcortical_prob_Right Accumbens</td>\n",
       "      <td>/Users/benjaminsmith/Google Drive/oregon/data/...</td>\n",
       "    </tr>\n",
       "    <tr>\n",
       "      <th>13</th>\n",
       "      <td>reward_association-test_z_FDR_0.01</td>\n",
       "      <td>/Users/benjaminsmith/Google Drive/oregon/data/...</td>\n",
       "    </tr>\n",
       "    <tr>\n",
       "      <th>14</th>\n",
       "      <td>striatum_joint_reward_mask</td>\n",
       "      <td>/Users/benjaminsmith/Google Drive/oregon/data/...</td>\n",
       "    </tr>\n",
       "    <tr>\n",
       "      <th>15</th>\n",
       "      <td>harvardoxford-subcortical_prob_Right Putamen</td>\n",
       "      <td>/Users/benjaminsmith/Google Drive/oregon/data/...</td>\n",
       "    </tr>\n",
       "    <tr>\n",
       "      <th>16</th>\n",
       "      <td>harvardoxford-subcortical_prob_Left Accumbens</td>\n",
       "      <td>/Users/benjaminsmith/Google Drive/oregon/data/...</td>\n",
       "    </tr>\n",
       "    <tr>\n",
       "      <th>17</th>\n",
       "      <td>harvardoxford-subcortical_prob_Left Caudate</td>\n",
       "      <td>/Users/benjaminsmith/Google Drive/oregon/data/...</td>\n",
       "    </tr>\n",
       "    <tr>\n",
       "      <th>18</th>\n",
       "      <td>harvardoxford-subcortical_prob_Right Caudate</td>\n",
       "      <td>/Users/benjaminsmith/Google Drive/oregon/data/...</td>\n",
       "    </tr>\n",
       "    <tr>\n",
       "      <th>19</th>\n",
       "      <td>harvardoxford-subcortical_prob_Right Cerebral ...</td>\n",
       "      <td>/Users/benjaminsmith/Google Drive/oregon/data/...</td>\n",
       "    </tr>\n",
       "    <tr>\n",
       "      <th>20</th>\n",
       "      <td>cv_train_test_ns_w_hrf_60subjs_sets_outer_n_lo...</td>\n",
       "      <td>/Users/benjaminsmith/Google Drive/oregon/data/...</td>\n",
       "    </tr>\n",
       "    <tr>\n",
       "      <th>21</th>\n",
       "      <td>cv_train_test_ns_6s60subjs_sets_pfc_outer_n_lo...</td>\n",
       "      <td>/Users/benjaminsmith/Google Drive/oregon/data/...</td>\n",
       "    </tr>\n",
       "    <tr>\n",
       "      <th>22</th>\n",
       "      <td>value_association_frontal_medial_cortex</td>\n",
       "      <td>/Users/benjaminsmith/Google Drive/oregon/data/...</td>\n",
       "    </tr>\n",
       "    <tr>\n",
       "      <th>23</th>\n",
       "      <td>prefrontal_cortex</td>\n",
       "      <td>/Users/benjaminsmith/Google Drive/oregon/data/...</td>\n",
       "    </tr>\n",
       "  </tbody>\n",
       "</table>\n",
       "</div>"
      ],
      "text/plain": [
       "                                           mask_label  \\\n",
       "0                  reward_association-test_z_FDR_0.01   \n",
       "1     response inhibition_association-test_z_FDR_0.01   \n",
       "2        finger movements_association-test_z_FDR_0.01   \n",
       "3             reappraisal_association-test_z_FDR_0.01   \n",
       "4                abstract_association-test_z_FDR_0.01   \n",
       "5       attention network_association-test_z_FDR_0.01   \n",
       "6           motor control_association-test_z_FDR_0.01   \n",
       "7                   value_association-test_z_FDR_0.01   \n",
       "8                                 striatum_joint_mask   \n",
       "9                   motor_control_striatum_joint_mask   \n",
       "10                                striatum_joint_mask   \n",
       "11        harvardoxford-subcortical_prob_Left Putamen   \n",
       "12     harvardoxford-subcortical_prob_Right Accumbens   \n",
       "13                 reward_association-test_z_FDR_0.01   \n",
       "14                         striatum_joint_reward_mask   \n",
       "15       harvardoxford-subcortical_prob_Right Putamen   \n",
       "16      harvardoxford-subcortical_prob_Left Accumbens   \n",
       "17        harvardoxford-subcortical_prob_Left Caudate   \n",
       "18       harvardoxford-subcortical_prob_Right Caudate   \n",
       "19  harvardoxford-subcortical_prob_Right Cerebral ...   \n",
       "20  cv_train_test_ns_w_hrf_60subjs_sets_outer_n_lo...   \n",
       "21  cv_train_test_ns_6s60subjs_sets_pfc_outer_n_lo...   \n",
       "22            value_association_frontal_medial_cortex   \n",
       "23                                  prefrontal_cortex   \n",
       "\n",
       "                                            mask_path  \n",
       "0   /Users/benjaminsmith/Google Drive/oregon/data/...  \n",
       "1   /Users/benjaminsmith/Google Drive/oregon/data/...  \n",
       "2   /Users/benjaminsmith/Google Drive/oregon/data/...  \n",
       "3   /Users/benjaminsmith/Google Drive/oregon/data/...  \n",
       "4   /Users/benjaminsmith/Google Drive/oregon/data/...  \n",
       "5   /Users/benjaminsmith/Google Drive/oregon/data/...  \n",
       "6   /Users/benjaminsmith/Google Drive/oregon/data/...  \n",
       "7   /Users/benjaminsmith/Google Drive/oregon/data/...  \n",
       "8   /Users/benjaminsmith/Google Drive/oregon/data/...  \n",
       "9   /Users/benjaminsmith/Google Drive/oregon/data/...  \n",
       "10  /Users/benjaminsmith/Google Drive/oregon/data/...  \n",
       "11  /Users/benjaminsmith/Google Drive/oregon/data/...  \n",
       "12  /Users/benjaminsmith/Google Drive/oregon/data/...  \n",
       "13  /Users/benjaminsmith/Google Drive/oregon/data/...  \n",
       "14  /Users/benjaminsmith/Google Drive/oregon/data/...  \n",
       "15  /Users/benjaminsmith/Google Drive/oregon/data/...  \n",
       "16  /Users/benjaminsmith/Google Drive/oregon/data/...  \n",
       "17  /Users/benjaminsmith/Google Drive/oregon/data/...  \n",
       "18  /Users/benjaminsmith/Google Drive/oregon/data/...  \n",
       "19  /Users/benjaminsmith/Google Drive/oregon/data/...  \n",
       "20  /Users/benjaminsmith/Google Drive/oregon/data/...  \n",
       "21  /Users/benjaminsmith/Google Drive/oregon/data/...  \n",
       "22  /Users/benjaminsmith/Google Drive/oregon/data/...  \n",
       "23  /Users/benjaminsmith/Google Drive/oregon/data/...  "
      ]
     },
     "execution_count": 5,
     "metadata": {},
     "output_type": "execute_result"
    }
   ],
   "source": [
    "wave_compare_roi_df"
   ]
  },
  {
   "cell_type": "code",
   "execution_count": 6,
   "metadata": {},
   "outputs": [],
   "source": [
    "#filter the mask_label in mask_df, using regex, to only use stiraum, finger movements, motor control, and response inbhitioin\n",
    "sst_roi_df = wave_compare_roi_df.loc[wave_compare_roi_df['mask_label'].str.contains('response inhibition|striatum_joint_reward|value')]\n"
   ]
  },
  {
   "cell_type": "code",
   "execution_count": 7,
   "metadata": {},
   "outputs": [
    {
     "name": "stdout",
     "output_type": "stream",
     "text": [
      "loaded 275 rows from data_by_ppt.csv\n",
      "255 subjects with no reported problems in task Redcap scanner notes, added to the provision useable_dev_id list.\n",
      "7 subjects excludeable for missing scan data.\n",
      "251 subjects remaining on the provision useable_dev_id list from the redcap list after excluding subjects with missing scan data.\n",
      "217 subjects remaining on the provisional useable_dev_id list from the redcap list after excluding subjects excluded by motion quality process.\n",
      "beta paths before exclusion: 250\n",
      "beta paths after exclusion via nsc_subject_exclusions and the provision useable_dev_id list: 185\n"
     ]
    },
    {
     "name": "stderr",
     "output_type": "stream",
     "text": [
      "/Users/benjaminsmith/Google Drive/oregon/code/DEV_scripts/fMRI/fx/models/SST/level2/level2_utils.py:258: SettingWithCopyWarning: \n",
      "A value is trying to be set on a copy of a slice from a DataFrame\n",
      "\n",
      "See the caveats in the documentation: https://pandas.pydata.org/pandas-docs/stable/user_guide/indexing.html#returning-a-view-versus-a-copy\n",
      "  useable_betas_with_data.sort_values('subject_id', inplace=True)\n",
      "/var/folders/cj/4mb6t1f906j397tj71pxfxz00000gn/T/ipykernel_13206/377843695.py:11: SettingWithCopyWarning: \n",
      "A value is trying to be set on a copy of a slice from a DataFrame.\n",
      "Try using .loc[row_indexer,col_indexer] = value instead\n",
      "\n",
      "See the caveats in the documentation: https://pandas.pydata.org/pandas-docs/stable/user_guide/indexing.html#returning-a-view-versus-a-copy\n",
      "  train_betas_with_data['wave']='all'\n"
     ]
    }
   ],
   "source": [
    "\n",
    "## SST\n",
    "train_betas_with_data = get_data_for_confirmed_train_subjs(\n",
    "    beta_glob = config['nonbids_data_path'] + \"fMRI/fx/models/SST/all_waves/health_conditions/sub-DEV*/\",\n",
    "    nonbids_data_path = config['nonbids_data_path'],\n",
    "    #ml_data_folderpath = ml_data_folderpath,\n",
    "    ml_scripting_path = config['dev_scripts_path'] + \"/fMRI/ml\",\n",
    "    dropbox_datapath=config['dropbox_data_dir'],\n",
    "    exclude_test_subjs=False\n",
    ")\n",
    "\n",
    "train_betas_with_data['wave']='all'"
   ]
  },
  {
   "cell_type": "markdown",
   "metadata": {},
   "source": []
  },
  {
   "cell_type": "code",
   "execution_count": 8,
   "metadata": {},
   "outputs": [],
   "source": [
    "\n",
    "#we're not interestd in getting contrasts; comment this out.\n",
    "#betas_with_contrasts = get_contrasts_for_betas(train_betas_with_data[0:5])\n",
    "#betas_with_paths = get_beta_fnames_for_beta_dirs(train_betas_with_data[0:5])"
   ]
  },
  {
   "cell_type": "code",
   "execution_count": 9,
   "metadata": {},
   "outputs": [
    {
     "name": "stderr",
     "output_type": "stream",
     "text": [
      "/Users/benjaminsmith/Google Drive/oregon/code/DEV_scripts/fMRI/fx/models/SST/level2/level2_utils.py:28: SettingWithCopyWarning: \n",
      "A value is trying to be set on a copy of a slice from a DataFrame.\n",
      "Try using .loc[row_indexer,col_indexer] = value instead\n",
      "\n",
      "See the caveats in the documentation: https://pandas.pydata.org/pandas-docs/stable/user_guide/indexing.html#returning-a-view-versus-a-copy\n",
      "  betas['spm_l2_targeted_contrast_filepath'] = None\n"
     ]
    },
    {
     "name": "stdout",
     "output_type": "stream",
     "text": [
      "/Users/benjaminsmith/Google Drive/oregon/data/DEV/nonbids_data/fMRI/fx/models/SST/all_waves/health_conditions/sub-DEV008/\n",
      "0: Healthy_Go spmT_0001.nii\n",
      "1: Healthy_NoGo spmT_0002.nii\n",
      "2: Unhealthy_Go spmT_0003.nii\n",
      "3: Unhealthy_NoGo spmT_0004.nii\n",
      "4: Null_Cue spmT_0005.nii\n",
      "5: Stop(Healthy>Unhealthy) spmT_0006.nii\n",
      "6: Stop(Unhealthy>Healthy) spmT_0007.nii\n",
      "7: Go(Healthy>Unhealthy) spmT_0008.nii\n",
      "8: Go(Unhealthy>Healthy) spmT_0009.nii\n",
      "9: Healthy_Go(W2-W1) spmT_0010.nii\n",
      "10: Healthy_Go(W1-W2) spmT_0011.nii\n",
      "11: Healthy_NoGo(W2-W1) spmT_0012.nii\n",
      "12: Healthy_NoGo(W1-W2) spmT_0013.nii\n",
      "13: Unhealthy_Go(W2-W1) spmT_0014.nii\n",
      "14: Unhealthy_Go(W1-W2) spmT_0015.nii\n",
      "15: Unhealthy_NoGo(W2-W1) spmT_0016.nii\n",
      "16: Unhealthy_NoGo(W1-W2) spmT_0017.nii\n",
      "17: Null_Cue(W2-W1) spmT_0018.nii\n",
      "18: Null_Cue(W1-W2) spmT_0019.nii\n",
      "19: Stop(Healthy>Unhealthy)(W2-W1) spmT_0020.nii\n",
      "20: Stop(Healthy>Unhealthy)(W1-W2) spmT_0021.nii\n"
     ]
    },
    {
     "name": "stderr",
     "output_type": "stream",
     "text": [
      "/Users/benjaminsmith/Google Drive/oregon/code/DEV_scripts/fMRI/fx/models/SST/level2/level2_utils.py:49: SettingWithCopyWarning: \n",
      "A value is trying to be set on a copy of a slice from a DataFrame.\n",
      "Try using .loc[row_indexer,col_indexer] = value instead\n",
      "\n",
      "See the caveats in the documentation: https://pandas.pydata.org/pandas-docs/stable/user_guide/indexing.html#returning-a-view-versus-a-copy\n",
      "  betas.loc[beta_i, 'contrast_' + contrast['name'] + \"_fname\"] =contrast['Vspm']['fname']\n",
      "/Users/benjaminsmith/Google Drive/oregon/code/DEV_scripts/fMRI/fx/models/SST/level2/level2_utils.py:49: SettingWithCopyWarning: \n",
      "A value is trying to be set on a copy of a slice from a DataFrame.\n",
      "Try using .loc[row_indexer,col_indexer] = value instead\n",
      "\n",
      "See the caveats in the documentation: https://pandas.pydata.org/pandas-docs/stable/user_guide/indexing.html#returning-a-view-versus-a-copy\n",
      "  betas.loc[beta_i, 'contrast_' + contrast['name'] + \"_fname\"] =contrast['Vspm']['fname']\n",
      "/Users/benjaminsmith/Google Drive/oregon/code/DEV_scripts/fMRI/fx/models/SST/level2/level2_utils.py:49: SettingWithCopyWarning: \n",
      "A value is trying to be set on a copy of a slice from a DataFrame.\n",
      "Try using .loc[row_indexer,col_indexer] = value instead\n",
      "\n",
      "See the caveats in the documentation: https://pandas.pydata.org/pandas-docs/stable/user_guide/indexing.html#returning-a-view-versus-a-copy\n",
      "  betas.loc[beta_i, 'contrast_' + contrast['name'] + \"_fname\"] =contrast['Vspm']['fname']\n",
      "/Users/benjaminsmith/Google Drive/oregon/code/DEV_scripts/fMRI/fx/models/SST/level2/level2_utils.py:49: SettingWithCopyWarning: \n",
      "A value is trying to be set on a copy of a slice from a DataFrame.\n",
      "Try using .loc[row_indexer,col_indexer] = value instead\n",
      "\n",
      "See the caveats in the documentation: https://pandas.pydata.org/pandas-docs/stable/user_guide/indexing.html#returning-a-view-versus-a-copy\n",
      "  betas.loc[beta_i, 'contrast_' + contrast['name'] + \"_fname\"] =contrast['Vspm']['fname']\n",
      "/Users/benjaminsmith/Google Drive/oregon/code/DEV_scripts/fMRI/fx/models/SST/level2/level2_utils.py:49: SettingWithCopyWarning: \n",
      "A value is trying to be set on a copy of a slice from a DataFrame.\n",
      "Try using .loc[row_indexer,col_indexer] = value instead\n",
      "\n",
      "See the caveats in the documentation: https://pandas.pydata.org/pandas-docs/stable/user_guide/indexing.html#returning-a-view-versus-a-copy\n",
      "  betas.loc[beta_i, 'contrast_' + contrast['name'] + \"_fname\"] =contrast['Vspm']['fname']\n",
      "/Users/benjaminsmith/Google Drive/oregon/code/DEV_scripts/fMRI/fx/models/SST/level2/level2_utils.py:49: SettingWithCopyWarning: \n",
      "A value is trying to be set on a copy of a slice from a DataFrame.\n",
      "Try using .loc[row_indexer,col_indexer] = value instead\n",
      "\n",
      "See the caveats in the documentation: https://pandas.pydata.org/pandas-docs/stable/user_guide/indexing.html#returning-a-view-versus-a-copy\n",
      "  betas.loc[beta_i, 'contrast_' + contrast['name'] + \"_fname\"] =contrast['Vspm']['fname']\n",
      "/Users/benjaminsmith/Google Drive/oregon/code/DEV_scripts/fMRI/fx/models/SST/level2/level2_utils.py:49: SettingWithCopyWarning: \n",
      "A value is trying to be set on a copy of a slice from a DataFrame.\n",
      "Try using .loc[row_indexer,col_indexer] = value instead\n",
      "\n",
      "See the caveats in the documentation: https://pandas.pydata.org/pandas-docs/stable/user_guide/indexing.html#returning-a-view-versus-a-copy\n",
      "  betas.loc[beta_i, 'contrast_' + contrast['name'] + \"_fname\"] =contrast['Vspm']['fname']\n",
      "/Users/benjaminsmith/Google Drive/oregon/code/DEV_scripts/fMRI/fx/models/SST/level2/level2_utils.py:49: SettingWithCopyWarning: \n",
      "A value is trying to be set on a copy of a slice from a DataFrame.\n",
      "Try using .loc[row_indexer,col_indexer] = value instead\n",
      "\n",
      "See the caveats in the documentation: https://pandas.pydata.org/pandas-docs/stable/user_guide/indexing.html#returning-a-view-versus-a-copy\n",
      "  betas.loc[beta_i, 'contrast_' + contrast['name'] + \"_fname\"] =contrast['Vspm']['fname']\n",
      "/Users/benjaminsmith/Google Drive/oregon/code/DEV_scripts/fMRI/fx/models/SST/level2/level2_utils.py:49: SettingWithCopyWarning: \n",
      "A value is trying to be set on a copy of a slice from a DataFrame.\n",
      "Try using .loc[row_indexer,col_indexer] = value instead\n",
      "\n",
      "See the caveats in the documentation: https://pandas.pydata.org/pandas-docs/stable/user_guide/indexing.html#returning-a-view-versus-a-copy\n",
      "  betas.loc[beta_i, 'contrast_' + contrast['name'] + \"_fname\"] =contrast['Vspm']['fname']\n",
      "/Users/benjaminsmith/Google Drive/oregon/code/DEV_scripts/fMRI/fx/models/SST/level2/level2_utils.py:49: SettingWithCopyWarning: \n",
      "A value is trying to be set on a copy of a slice from a DataFrame.\n",
      "Try using .loc[row_indexer,col_indexer] = value instead\n",
      "\n",
      "See the caveats in the documentation: https://pandas.pydata.org/pandas-docs/stable/user_guide/indexing.html#returning-a-view-versus-a-copy\n",
      "  betas.loc[beta_i, 'contrast_' + contrast['name'] + \"_fname\"] =contrast['Vspm']['fname']\n",
      "/Users/benjaminsmith/Google Drive/oregon/code/DEV_scripts/fMRI/fx/models/SST/level2/level2_utils.py:49: SettingWithCopyWarning: \n",
      "A value is trying to be set on a copy of a slice from a DataFrame.\n",
      "Try using .loc[row_indexer,col_indexer] = value instead\n",
      "\n",
      "See the caveats in the documentation: https://pandas.pydata.org/pandas-docs/stable/user_guide/indexing.html#returning-a-view-versus-a-copy\n",
      "  betas.loc[beta_i, 'contrast_' + contrast['name'] + \"_fname\"] =contrast['Vspm']['fname']\n",
      "/Users/benjaminsmith/Google Drive/oregon/code/DEV_scripts/fMRI/fx/models/SST/level2/level2_utils.py:49: SettingWithCopyWarning: \n",
      "A value is trying to be set on a copy of a slice from a DataFrame.\n",
      "Try using .loc[row_indexer,col_indexer] = value instead\n",
      "\n",
      "See the caveats in the documentation: https://pandas.pydata.org/pandas-docs/stable/user_guide/indexing.html#returning-a-view-versus-a-copy\n",
      "  betas.loc[beta_i, 'contrast_' + contrast['name'] + \"_fname\"] =contrast['Vspm']['fname']\n",
      "/Users/benjaminsmith/Google Drive/oregon/code/DEV_scripts/fMRI/fx/models/SST/level2/level2_utils.py:49: SettingWithCopyWarning: \n",
      "A value is trying to be set on a copy of a slice from a DataFrame.\n",
      "Try using .loc[row_indexer,col_indexer] = value instead\n",
      "\n",
      "See the caveats in the documentation: https://pandas.pydata.org/pandas-docs/stable/user_guide/indexing.html#returning-a-view-versus-a-copy\n",
      "  betas.loc[beta_i, 'contrast_' + contrast['name'] + \"_fname\"] =contrast['Vspm']['fname']\n",
      "/Users/benjaminsmith/Google Drive/oregon/code/DEV_scripts/fMRI/fx/models/SST/level2/level2_utils.py:49: SettingWithCopyWarning: \n",
      "A value is trying to be set on a copy of a slice from a DataFrame.\n",
      "Try using .loc[row_indexer,col_indexer] = value instead\n",
      "\n",
      "See the caveats in the documentation: https://pandas.pydata.org/pandas-docs/stable/user_guide/indexing.html#returning-a-view-versus-a-copy\n",
      "  betas.loc[beta_i, 'contrast_' + contrast['name'] + \"_fname\"] =contrast['Vspm']['fname']\n",
      "/Users/benjaminsmith/Google Drive/oregon/code/DEV_scripts/fMRI/fx/models/SST/level2/level2_utils.py:49: SettingWithCopyWarning: \n",
      "A value is trying to be set on a copy of a slice from a DataFrame.\n",
      "Try using .loc[row_indexer,col_indexer] = value instead\n",
      "\n",
      "See the caveats in the documentation: https://pandas.pydata.org/pandas-docs/stable/user_guide/indexing.html#returning-a-view-versus-a-copy\n",
      "  betas.loc[beta_i, 'contrast_' + contrast['name'] + \"_fname\"] =contrast['Vspm']['fname']\n",
      "/Users/benjaminsmith/Google Drive/oregon/code/DEV_scripts/fMRI/fx/models/SST/level2/level2_utils.py:49: SettingWithCopyWarning: \n",
      "A value is trying to be set on a copy of a slice from a DataFrame.\n",
      "Try using .loc[row_indexer,col_indexer] = value instead\n",
      "\n",
      "See the caveats in the documentation: https://pandas.pydata.org/pandas-docs/stable/user_guide/indexing.html#returning-a-view-versus-a-copy\n",
      "  betas.loc[beta_i, 'contrast_' + contrast['name'] + \"_fname\"] =contrast['Vspm']['fname']\n",
      "/Users/benjaminsmith/Google Drive/oregon/code/DEV_scripts/fMRI/fx/models/SST/level2/level2_utils.py:49: SettingWithCopyWarning: \n",
      "A value is trying to be set on a copy of a slice from a DataFrame.\n",
      "Try using .loc[row_indexer,col_indexer] = value instead\n",
      "\n",
      "See the caveats in the documentation: https://pandas.pydata.org/pandas-docs/stable/user_guide/indexing.html#returning-a-view-versus-a-copy\n",
      "  betas.loc[beta_i, 'contrast_' + contrast['name'] + \"_fname\"] =contrast['Vspm']['fname']\n",
      "/Users/benjaminsmith/Google Drive/oregon/code/DEV_scripts/fMRI/fx/models/SST/level2/level2_utils.py:49: SettingWithCopyWarning: \n",
      "A value is trying to be set on a copy of a slice from a DataFrame.\n",
      "Try using .loc[row_indexer,col_indexer] = value instead\n",
      "\n",
      "See the caveats in the documentation: https://pandas.pydata.org/pandas-docs/stable/user_guide/indexing.html#returning-a-view-versus-a-copy\n",
      "  betas.loc[beta_i, 'contrast_' + contrast['name'] + \"_fname\"] =contrast['Vspm']['fname']\n",
      "/Users/benjaminsmith/Google Drive/oregon/code/DEV_scripts/fMRI/fx/models/SST/level2/level2_utils.py:49: SettingWithCopyWarning: \n",
      "A value is trying to be set on a copy of a slice from a DataFrame.\n",
      "Try using .loc[row_indexer,col_indexer] = value instead\n",
      "\n",
      "See the caveats in the documentation: https://pandas.pydata.org/pandas-docs/stable/user_guide/indexing.html#returning-a-view-versus-a-copy\n",
      "  betas.loc[beta_i, 'contrast_' + contrast['name'] + \"_fname\"] =contrast['Vspm']['fname']\n",
      "/Users/benjaminsmith/Google Drive/oregon/code/DEV_scripts/fMRI/fx/models/SST/level2/level2_utils.py:49: SettingWithCopyWarning: \n",
      "A value is trying to be set on a copy of a slice from a DataFrame.\n",
      "Try using .loc[row_indexer,col_indexer] = value instead\n",
      "\n",
      "See the caveats in the documentation: https://pandas.pydata.org/pandas-docs/stable/user_guide/indexing.html#returning-a-view-versus-a-copy\n",
      "  betas.loc[beta_i, 'contrast_' + contrast['name'] + \"_fname\"] =contrast['Vspm']['fname']\n",
      "/Users/benjaminsmith/Google Drive/oregon/code/DEV_scripts/fMRI/fx/models/SST/level2/level2_utils.py:49: SettingWithCopyWarning: \n",
      "A value is trying to be set on a copy of a slice from a DataFrame.\n",
      "Try using .loc[row_indexer,col_indexer] = value instead\n",
      "\n",
      "See the caveats in the documentation: https://pandas.pydata.org/pandas-docs/stable/user_guide/indexing.html#returning-a-view-versus-a-copy\n",
      "  betas.loc[beta_i, 'contrast_' + contrast['name'] + \"_fname\"] =contrast['Vspm']['fname']\n"
     ]
    },
    {
     "name": "stdout",
     "output_type": "stream",
     "text": [
      "/Users/benjaminsmith/Google Drive/oregon/data/DEV/nonbids_data/fMRI/fx/models/SST/all_waves/health_conditions/sub-DEV013/\n",
      "0: Healthy_Go spmT_0001.nii\n",
      "1: Healthy_NoGo spmT_0002.nii\n",
      "2: Unhealthy_Go spmT_0003.nii\n",
      "3: Unhealthy_NoGo spmT_0004.nii\n",
      "4: Null_Cue spmT_0005.nii\n",
      "5: Stop(Healthy>Unhealthy) spmT_0006.nii\n",
      "6: Stop(Unhealthy>Healthy) spmT_0007.nii\n",
      "7: Go(Healthy>Unhealthy) spmT_0008.nii\n",
      "8: Go(Unhealthy>Healthy) spmT_0009.nii\n",
      "9: Healthy_Go(W2-W1) spmT_0010.nii\n",
      "10: Healthy_Go(W1-W2) spmT_0011.nii\n",
      "11: Healthy_NoGo(W2-W1) spmT_0012.nii\n",
      "12: Healthy_NoGo(W1-W2) spmT_0013.nii\n",
      "13: Unhealthy_Go(W2-W1) spmT_0014.nii\n",
      "14: Unhealthy_Go(W1-W2) spmT_0015.nii\n",
      "15: Unhealthy_NoGo(W2-W1) spmT_0016.nii\n",
      "16: Unhealthy_NoGo(W1-W2) spmT_0017.nii\n",
      "17: Null_Cue(W2-W1) spmT_0018.nii\n",
      "18: Null_Cue(W1-W2) spmT_0019.nii\n",
      "19: Stop(Healthy>Unhealthy)(W2-W1) spmT_0020.nii\n",
      "20: Stop(Healthy>Unhealthy)(W1-W2) spmT_0021.nii\n",
      "/Users/benjaminsmith/Google Drive/oregon/data/DEV/nonbids_data/fMRI/fx/models/SST/all_waves/health_conditions/sub-DEV014/\n",
      "0: Healthy_Go spmT_0001.nii\n",
      "1: Healthy_NoGo spmT_0002.nii\n",
      "2: Unhealthy_Go spmT_0003.nii\n",
      "3: Unhealthy_NoGo spmT_0004.nii\n",
      "4: Null_Cue spmT_0005.nii\n",
      "5: Stop(Healthy>Unhealthy) spmT_0006.nii\n",
      "6: Stop(Unhealthy>Healthy) spmT_0007.nii\n",
      "7: Go(Healthy>Unhealthy) spmT_0008.nii\n",
      "8: Go(Unhealthy>Healthy) spmT_0009.nii\n",
      "9: Healthy_Go(W2-W1) spmT_0010.nii\n",
      "10: Healthy_Go(W1-W2) spmT_0011.nii\n",
      "11: Healthy_NoGo(W2-W1) spmT_0012.nii\n",
      "12: Healthy_NoGo(W1-W2) spmT_0013.nii\n",
      "13: Unhealthy_Go(W2-W1) spmT_0014.nii\n",
      "14: Unhealthy_Go(W1-W2) spmT_0015.nii\n",
      "15: Unhealthy_NoGo(W2-W1) spmT_0016.nii\n",
      "16: Unhealthy_NoGo(W1-W2) spmT_0017.nii\n",
      "17: Null_Cue(W2-W1) spmT_0018.nii\n",
      "18: Null_Cue(W1-W2) spmT_0019.nii\n",
      "19: Stop(Healthy>Unhealthy)(W2-W1) spmT_0020.nii\n",
      "20: Stop(Healthy>Unhealthy)(W1-W2) spmT_0021.nii\n",
      "/Users/benjaminsmith/Google Drive/oregon/data/DEV/nonbids_data/fMRI/fx/models/SST/all_waves/health_conditions/sub-DEV015/\n",
      "0: Healthy_Go spmT_0001.nii\n",
      "1: Healthy_NoGo spmT_0002.nii\n",
      "2: Unhealthy_Go spmT_0003.nii\n",
      "3: Unhealthy_NoGo spmT_0004.nii\n",
      "4: Null_Cue spmT_0005.nii\n",
      "5: Stop(Healthy>Unhealthy) spmT_0006.nii\n",
      "6: Stop(Unhealthy>Healthy) spmT_0007.nii\n",
      "7: Go(Healthy>Unhealthy) spmT_0008.nii\n",
      "8: Go(Unhealthy>Healthy) spmT_0009.nii\n",
      "9: Healthy_Go(W2-W1) spmT_0010.nii\n",
      "10: Healthy_Go(W1-W2) spmT_0011.nii\n",
      "11: Healthy_NoGo(W2-W1) spmT_0012.nii\n",
      "12: Healthy_NoGo(W1-W2) spmT_0013.nii\n",
      "13: Unhealthy_Go(W2-W1) spmT_0014.nii\n",
      "14: Unhealthy_Go(W1-W2) spmT_0015.nii\n",
      "15: Unhealthy_NoGo(W2-W1) spmT_0016.nii\n",
      "16: Unhealthy_NoGo(W1-W2) spmT_0017.nii\n",
      "17: Null_Cue(W2-W1) spmT_0018.nii\n",
      "18: Null_Cue(W1-W2) spmT_0019.nii\n",
      "19: Stop(Healthy>Unhealthy)(W2-W1) spmT_0020.nii\n",
      "20: Stop(Healthy>Unhealthy)(W1-W2) spmT_0021.nii\n",
      "/Users/benjaminsmith/Google Drive/oregon/data/DEV/nonbids_data/fMRI/fx/models/SST/all_waves/health_conditions/sub-DEV016/\n",
      "0: Healthy_Go spmT_0001.nii\n",
      "1: Healthy_NoGo spmT_0002.nii\n",
      "2: Unhealthy_Go spmT_0003.nii\n",
      "3: Unhealthy_NoGo spmT_0004.nii\n",
      "4: Null_Cue spmT_0005.nii\n",
      "5: Stop(Healthy>Unhealthy) spmT_0006.nii\n",
      "6: Stop(Unhealthy>Healthy) spmT_0007.nii\n",
      "7: Go(Healthy>Unhealthy) spmT_0008.nii\n",
      "8: Go(Unhealthy>Healthy) spmT_0009.nii\n",
      "9: Healthy_Go(W2-W1) spmT_0010.nii\n",
      "10: Healthy_Go(W1-W2) spmT_0011.nii\n",
      "11: Healthy_NoGo(W2-W1) spmT_0012.nii\n",
      "12: Healthy_NoGo(W1-W2) spmT_0013.nii\n",
      "13: Unhealthy_Go(W2-W1) spmT_0014.nii\n",
      "14: Unhealthy_Go(W1-W2) spmT_0015.nii\n",
      "15: Unhealthy_NoGo(W2-W1) spmT_0016.nii\n",
      "16: Unhealthy_NoGo(W1-W2) spmT_0017.nii\n",
      "17: Null_Cue(W2-W1) spmT_0018.nii\n",
      "18: Null_Cue(W1-W2) spmT_0019.nii\n",
      "19: Stop(Healthy>Unhealthy)(W2-W1) spmT_0020.nii\n",
      "20: Stop(Healthy>Unhealthy)(W1-W2) spmT_0021.nii\n"
     ]
    }
   ],
   "source": [
    "contrasts_with_paths = get_contrasts_for_betas(train_betas_with_data[0:5])"
   ]
  },
  {
   "cell_type": "code",
   "execution_count": 17,
   "metadata": {},
   "outputs": [],
   "source": []
  },
  {
   "cell_type": "code",
   "execution_count": 20,
   "metadata": {},
   "outputs": [
    {
     "name": "stdout",
     "output_type": "stream",
     "text": [
      "response inhibition_association-test_z_FDR_0.01\n",
      "producing the vector for this mask/series...\n",
      "value_association-test_z_FDR_0.01\n",
      "producing the vector for this mask/series...\n",
      "striatum_joint_reward_mask\n",
      "producing the vector for this mask/series...\n",
      "value_association_frontal_medial_cortex\n",
      "producing the vector for this mask/series...\n",
      "Unhealthy_NoGo(W2-W1)\n",
      "loading 5images...\n",
      "...loaded.\n",
      "0\n",
      "mean is 0.06116048127866569\n",
      "std is 0.5463909453756108\n",
      "raw mean is -0.1297473061435247\n",
      "raw std is 0.4097005569983938\n",
      "DEV008, all, Unhealthy_NoGo(W2-W1), response inhibition_association-test_z_FDR_0.01\n"
     ]
    },
    {
     "name": "stderr",
     "output_type": "stream",
     "text": [
      "/Users/benjaminsmith/opt/anaconda3/envs/neuralsignature/lib/python3.10/site-packages/nilearn/image/image.py:1041: UserWarning: Data array used to create a new image contains 64-bit ints. This is likely due to creating the array with numpy and passing `int` as the `dtype`. Many tools such as FSL and SPM cannot deal with int64 in Nifti images, so for compatibility the data has been converted to int32.\n",
      "  return new_img_like(niimg, result, niimg.affine)\n"
     ]
    },
    {
     "name": "stdout",
     "output_type": "stream",
     "text": [
      "proportion of image active: 0.01383226975097848\n",
      "activity scalar is 3.0186625e-10\n",
      "DEV008, all, Unhealthy_NoGo(W2-W1), value_association-test_z_FDR_0.01\n"
     ]
    },
    {
     "name": "stderr",
     "output_type": "stream",
     "text": [
      "/Users/benjaminsmith/opt/anaconda3/envs/neuralsignature/lib/python3.10/site-packages/nilearn/image/image.py:1041: UserWarning: Data array used to create a new image contains 64-bit ints. This is likely due to creating the array with numpy and passing `int` as the `dtype`. Many tools such as FSL and SPM cannot deal with int64 in Nifti images, so for compatibility the data has been converted to int32.\n",
      "  return new_img_like(niimg, result, niimg.affine)\n"
     ]
    },
    {
     "name": "stdout",
     "output_type": "stream",
     "text": [
      "proportion of image active: 0.016650108360635286\n",
      "activity scalar is -2.6467427e-11\n",
      "DEV008, all, Unhealthy_NoGo(W2-W1), striatum_joint_reward_mask\n"
     ]
    },
    {
     "name": "stderr",
     "output_type": "stream",
     "text": [
      "/Users/benjaminsmith/opt/anaconda3/envs/neuralsignature/lib/python3.10/site-packages/nilearn/image/resampling.py:545: UserWarning: Casting data from int32 to float32\n",
      "  warnings.warn(\"Casting data from %s to %s\" % (data.dtype.name, aux))\n",
      "/Users/benjaminsmith/opt/anaconda3/envs/neuralsignature/lib/python3.10/site-packages/nilearn/image/resampling.py:274: UserWarning: Resampling binary images with continuous or linear interpolation. This might lead to unexpected results. You might consider using nearest interpolation instead.\n",
      "  warnings.warn(\"Resampling binary images with continuous or \"\n",
      "/Users/benjaminsmith/opt/anaconda3/envs/neuralsignature/lib/python3.10/site-packages/nilearn/image/image.py:1041: UserWarning: Data array used to create a new image contains 64-bit ints. This is likely due to creating the array with numpy and passing `int` as the `dtype`. Many tools such as FSL and SPM cannot deal with int64 in Nifti images, so for compatibility the data has been converted to int32.\n",
      "  return new_img_like(niimg, result, niimg.affine)\n"
     ]
    },
    {
     "name": "stdout",
     "output_type": "stream",
     "text": [
      "proportion of image active: 0.005345483279191523\n",
      "activity scalar is 5.070105e-10\n",
      "DEV008, all, Unhealthy_NoGo(W2-W1), value_association_frontal_medial_cortex\n"
     ]
    },
    {
     "name": "stderr",
     "output_type": "stream",
     "text": [
      "/Users/benjaminsmith/opt/anaconda3/envs/neuralsignature/lib/python3.10/site-packages/nilearn/image/resampling.py:545: UserWarning: Casting data from int32 to float32\n",
      "  warnings.warn(\"Casting data from %s to %s\" % (data.dtype.name, aux))\n",
      "/Users/benjaminsmith/opt/anaconda3/envs/neuralsignature/lib/python3.10/site-packages/nilearn/image/resampling.py:274: UserWarning: Resampling binary images with continuous or linear interpolation. This might lead to unexpected results. You might consider using nearest interpolation instead.\n",
      "  warnings.warn(\"Resampling binary images with continuous or \"\n"
     ]
    },
    {
     "name": "stdout",
     "output_type": "stream",
     "text": [
      "proportion of image active: 0.0007864810288022106\n",
      "activity scalar is 1.1486676e-09\n",
      "1\n"
     ]
    },
    {
     "name": "stderr",
     "output_type": "stream",
     "text": [
      "/Users/benjaminsmith/opt/anaconda3/envs/neuralsignature/lib/python3.10/site-packages/nilearn/image/image.py:1041: UserWarning: Data array used to create a new image contains 64-bit ints. This is likely due to creating the array with numpy and passing `int` as the `dtype`. Many tools such as FSL and SPM cannot deal with int64 in Nifti images, so for compatibility the data has been converted to int32.\n",
      "  return new_img_like(niimg, result, niimg.affine)\n"
     ]
    },
    {
     "name": "stdout",
     "output_type": "stream",
     "text": [
      "mean is 0.3233340855527688\n",
      "std is 0.9099558017863898\n",
      "raw mean is 0.15172655640970592\n",
      "raw std is 0.5608029038394424\n",
      "DEV013, all, Unhealthy_NoGo(W2-W1), response inhibition_association-test_z_FDR_0.01\n"
     ]
    },
    {
     "name": "stderr",
     "output_type": "stream",
     "text": [
      "/Users/benjaminsmith/opt/anaconda3/envs/neuralsignature/lib/python3.10/site-packages/nilearn/image/image.py:1041: UserWarning: Data array used to create a new image contains 64-bit ints. This is likely due to creating the array with numpy and passing `int` as the `dtype`. Many tools such as FSL and SPM cannot deal with int64 in Nifti images, so for compatibility the data has been converted to int32.\n",
      "  return new_img_like(niimg, result, niimg.affine)\n"
     ]
    },
    {
     "name": "stdout",
     "output_type": "stream",
     "text": [
      "proportion of image active: 0.01383226975097848\n",
      "activity scalar is 3.0186625e-10\n",
      "DEV013, all, Unhealthy_NoGo(W2-W1), value_association-test_z_FDR_0.01\n"
     ]
    },
    {
     "name": "stderr",
     "output_type": "stream",
     "text": [
      "/Users/benjaminsmith/opt/anaconda3/envs/neuralsignature/lib/python3.10/site-packages/nilearn/image/image.py:1041: UserWarning: Data array used to create a new image contains 64-bit ints. This is likely due to creating the array with numpy and passing `int` as the `dtype`. Many tools such as FSL and SPM cannot deal with int64 in Nifti images, so for compatibility the data has been converted to int32.\n",
      "  return new_img_like(niimg, result, niimg.affine)\n",
      "/Users/benjaminsmith/opt/anaconda3/envs/neuralsignature/lib/python3.10/site-packages/nilearn/image/resampling.py:545: UserWarning: Casting data from int32 to float32\n",
      "  warnings.warn(\"Casting data from %s to %s\" % (data.dtype.name, aux))\n",
      "/Users/benjaminsmith/opt/anaconda3/envs/neuralsignature/lib/python3.10/site-packages/nilearn/image/resampling.py:274: UserWarning: Resampling binary images with continuous or linear interpolation. This might lead to unexpected results. You might consider using nearest interpolation instead.\n",
      "  warnings.warn(\"Resampling binary images with continuous or \"\n"
     ]
    },
    {
     "name": "stdout",
     "output_type": "stream",
     "text": [
      "proportion of image active: 0.016650108360635286\n",
      "activity scalar is -2.6467427e-11\n",
      "DEV013, all, Unhealthy_NoGo(W2-W1), striatum_joint_reward_mask\n"
     ]
    },
    {
     "name": "stderr",
     "output_type": "stream",
     "text": [
      "/Users/benjaminsmith/opt/anaconda3/envs/neuralsignature/lib/python3.10/site-packages/nilearn/image/image.py:1041: UserWarning: Data array used to create a new image contains 64-bit ints. This is likely due to creating the array with numpy and passing `int` as the `dtype`. Many tools such as FSL and SPM cannot deal with int64 in Nifti images, so for compatibility the data has been converted to int32.\n",
      "  return new_img_like(niimg, result, niimg.affine)\n",
      "/Users/benjaminsmith/opt/anaconda3/envs/neuralsignature/lib/python3.10/site-packages/nilearn/image/resampling.py:545: UserWarning: Casting data from int32 to float32\n",
      "  warnings.warn(\"Casting data from %s to %s\" % (data.dtype.name, aux))\n"
     ]
    },
    {
     "name": "stdout",
     "output_type": "stream",
     "text": [
      "proportion of image active: 0.005345483279191523\n",
      "activity scalar is 5.070105e-10\n",
      "DEV013, all, Unhealthy_NoGo(W2-W1), value_association_frontal_medial_cortex\n"
     ]
    },
    {
     "name": "stderr",
     "output_type": "stream",
     "text": [
      "/Users/benjaminsmith/opt/anaconda3/envs/neuralsignature/lib/python3.10/site-packages/nilearn/image/resampling.py:274: UserWarning: Resampling binary images with continuous or linear interpolation. This might lead to unexpected results. You might consider using nearest interpolation instead.\n",
      "  warnings.warn(\"Resampling binary images with continuous or \"\n"
     ]
    },
    {
     "name": "stdout",
     "output_type": "stream",
     "text": [
      "proportion of image active: 0.0007864810288022106\n",
      "activity scalar is 1.1486676e-09\n",
      "2\n"
     ]
    },
    {
     "name": "stderr",
     "output_type": "stream",
     "text": [
      "/Users/benjaminsmith/opt/anaconda3/envs/neuralsignature/lib/python3.10/site-packages/nilearn/image/image.py:1041: UserWarning: Data array used to create a new image contains 64-bit ints. This is likely due to creating the array with numpy and passing `int` as the `dtype`. Many tools such as FSL and SPM cannot deal with int64 in Nifti images, so for compatibility the data has been converted to int32.\n",
      "  return new_img_like(niimg, result, niimg.affine)\n"
     ]
    }
   ],
   "source": [
    "#from level2.level2_roi_extraction import level2_roi_extractor\n",
    "\n",
    "contrast_name_list = [\n",
    "    'Unhealthy_NoGo(W2-W1)',\n",
    "    'Unhealthy_Go(W2-W1)',\n",
    "    'Stop(Healthy>Unhealthy)(W2-W1)',\n",
    "    ]\n",
    "\n",
    "l2_roi_extractor = level2_roi_extractor(center_data=True,scale_data=True)\n",
    "l2_roi_extractor.load_all_images_simultaneously=True\n",
    "\n",
    "#get the ROI data\n",
    "roi_data_sst_conditions = l2_roi_extractor.get_roi_data_for_l2_contrasts(contrasts_with_paths, contrast_name_list, sst_roi_df)\n",
    "\n"
   ]
  },
  {
   "cell_type": "code",
   "execution_count": null,
   "metadata": {},
   "outputs": [],
   "source": [
    "roi_data_sst_conditions.to_csv(config['dropbox_data_dir'] + '/subject_sst_health_avg_roi_data_raw.csv')"
   ]
  },
  {
   "attachments": {},
   "cell_type": "markdown",
   "metadata": {},
   "source": [
    "## WTP"
   ]
  },
  {
   "cell_type": "code",
   "execution_count": null,
   "metadata": {},
   "outputs": [],
   "source": [
    "#filter the mask_label in mask_df, using regex, to only use stiraum, finger movements, motor control, and response inbhitioin\n",
    "wtp_mask_df = roi_df.loc[roi_df['mask_label'].str.contains('striatum|value')]\n",
    "\n",
    "\n",
    "## WTP\n",
    "train_betas_with_data = get_data_for_confirmed_train_subjs(\n",
    "    beta_glob = config['nonbids_data_path'] + \"fMRI/fx/models/WTP/wave1/conditions_liked_disliked/sub-DEV*/\",\n",
    "    nonbids_data_path = config['nonbids_data_path'],\n",
    "    #ml_data_folderpath = ml_data_folderpath,\n",
    "    ml_scripting_path = config['dev_scripts_path'] + \"/fMRI/ml\",\n",
    "    dropbox_datapath=config['dropbox_data_dir'],\n",
    "    exclude_test_subjs=False,\n",
    "    task='WTP'\n",
    ").copy()\n",
    "train_betas_with_data['wave']=1\n",
    "\n",
    "\n",
    "\n",
    "#we're not interestd in getting contrasts; comment this out.\n",
    "#betas_with_contrasts = get_contrasts_for_betas(train_betas_with_data)\n",
    "betas_with_paths = get_beta_fname_list_for_beta_dirs(train_betas_with_data[0:5])\n",
    "\n",
    "#from level2.level2_roi_extraction import get_roi_data_for_l2_betas, get_roi_data_for_multirun_l2_betas\n",
    "\n",
    "beta_name_list = [\n",
    "    'liked'\n",
    "    ]\n",
    "\n",
    "#get the ROI data\n",
    "roi_data_wtp = get_roi_data_for_multirun_l2_betas(betas_with_paths, condition_list = beta_name_list, mask_df = wtp_mask_df)\n",
    "\n",
    "roi_data_wtp.to_csv(config['dropbox_data_dir'] + '/subject_wtp_avg_roi_data_raw.csv')\n"
   ]
  },
  {
   "attachments": {},
   "cell_type": "markdown",
   "metadata": {},
   "source": [
    "## ROC"
   ]
  },
  {
   "cell_type": "code",
   "execution_count": null,
   "metadata": {},
   "outputs": [],
   "source": [
    "roi_df"
   ]
  },
  {
   "cell_type": "code",
   "execution_count": null,
   "metadata": {},
   "outputs": [],
   "source": [
    "roc_mask_df = roi_df.loc[roi_df['mask_label'].str.contains('reappraisal|abstract|attention|striatum|craving|regulate')]\n",
    "\n",
    "\n",
    "train_betas_with_data = get_data_for_confirmed_train_subjs(\n",
    "    beta_glob = config['nonbids_data_path'] + \"fMRI/fx/models/ROC/wave1/conditions/sub-DEV*/\",\n",
    "    nonbids_data_path = config['nonbids_data_path'],\n",
    "    #ml_data_folderpath = ml_data_folderpath,\n",
    "    ml_scripting_path = config['dev_scripts_path'] + \"/fMRI/ml\",\n",
    "    dropbox_datapath=config['dropbox_data_dir'],\n",
    "    exclude_test_subjs=False,\n",
    "    task='ROC'\n",
    ").copy()\n",
    "train_betas_with_data['wave']=1\n",
    "\n",
    "\n",
    "\n",
    "#we're not interestd in getting contrasts; comment this out.\n",
    "#betas_with_contrasts = get_contrasts_for_betas(train_betas_with_data)\n",
    "betas_with_paths = get_beta_fname_list_for_beta_dirs(train_betas_with_data[0:5])\n",
    "\n",
    "\n",
    "\n",
    "#from level2.level2_roi_extraction import get_roi_data_for_l2_betas, get_roi_data_for_multirun_l2_betas\n",
    "\n",
    "beta_name_list = [\n",
    "    'lookCrave',\n",
    "    'reappraiseCrave'\n",
    "    ]\n",
    "\n",
    "#get the ROI data\n",
    "roi_data_roc = get_roi_data_for_multirun_l2_betas(betas_with_paths, condition_list = beta_name_list, mask_df = roc_mask_df)\n",
    "\n",
    "roi_data_roc.to_csv(config['dropbox_data_dir'] + '/subject_roc_avg_roi_data_raw.csv')\n"
   ]
  },
  {
   "cell_type": "code",
   "execution_count": null,
   "metadata": {},
   "outputs": [],
   "source": [
    "#save\n",
    "with open(config['dropbox_data_dir'] + '/subject_sst_avg_roi_data_raw.pkl', 'wb') as handle:\n",
    "    pickle.dump(roi_data, handle, protocol=pickle.HIGHEST_PROTOCOL)\n",
    "\n"
   ]
  }
 ],
 "metadata": {
  "kernelspec": {
   "display_name": "neuralsignature",
   "language": "python",
   "name": "python3"
  },
  "language_info": {
   "codemirror_mode": {
    "name": "ipython",
    "version": 3
   },
   "file_extension": ".py",
   "mimetype": "text/x-python",
   "name": "python",
   "nbconvert_exporter": "python",
   "pygments_lexer": "ipython3",
   "version": "3.10.9"
  },
  "orig_nbformat": 4
 },
 "nbformat": 4,
 "nbformat_minor": 2
}
