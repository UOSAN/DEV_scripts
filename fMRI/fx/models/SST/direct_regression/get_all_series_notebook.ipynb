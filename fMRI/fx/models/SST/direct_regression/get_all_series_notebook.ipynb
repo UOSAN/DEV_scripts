{
 "cells": [
  {
   "cell_type": "code",
   "execution_count": 1,
   "metadata": {},
   "outputs": [],
   "source": [
    "import glob\n",
    "import pandas as pd\n",
    "import re\n",
    "import nilearn as nil\n",
    "from nilearn import *\n",
    "from nilearn import image\n",
    "from os.path import basename\n",
    "import numpy as np"
   ]
  },
  {
   "cell_type": "markdown",
   "metadata": {},
   "source": [
    "get all series\n",
    "\n",
    "get masks\n",
    "\n",
    "iterate through series\n",
    "\n",
    "iterate through masks\n",
    "\n",
    "produce the vector for this mask/series\n",
    "\n",
    "for each trial [CS, CG, FS, FG], identify the moment the subject learns the class of the trial;\n",
    "this may be slightly different for Go and Stop trials. For Stop trials it is simply the moment of the tone;\n",
    "for Go trials it's harder to specify.\n",
    "\n",
    "for each TRIAL, you will end up with a data table with columns (a) time from trial class reveal to image; (b) separate columns for measurement of each ROI\n",
    "these can be concatenated across trials, runs, and subjects\n",
    "\n",
    "then create n_{ROI}*n_{trial classes} graphs of samples, where x is the time from trial class reveal to image, and y is the measurement. plot a lowess curve.\n",
    "\n",
    "potentially overlay the lowess curves for each trial type so that the response within each ROI can be easily compared.\n"
   ]
  },
  {
   "cell_type": "code",
   "execution_count": 2,
   "metadata": {},
   "outputs": [],
   "source": [
    "#need to replace these with references to the config yml\n",
    "dropbox_data_dir = '/Users/benjaminsmith/Dropbox (University of Oregon)/UO-SAN Lab/Berkman Lab/Devaluation/analysis_files/data/'\n",
    "fmriprep_dir = '/Users/benjaminsmith/Google Drive/oregon/data/DEV/bids_data/derivatives/fmriprep/'\n",
    "nii_raw_path = 'sub-DEV*/ses-wave1/func/s6_sub-DEV*_ses-wave1_task-SST_acq-1_bold_space-MNI152NLin2009cAsym_preproc.nii'\n",
    "mask_location = '/Users/benjaminsmith/Google Drive/oregon/data/DEV/brainmaps/striatum/'"
   ]
  },
  {
   "cell_type": "markdown",
   "metadata": {},
   "source": [
    "get all series"
   ]
  },
  {
   "cell_type": "code",
   "execution_count": 3,
   "metadata": {},
   "outputs": [
    {
     "name": "stdout",
     "output_type": "stream",
     "text": [
      "looking up /Users/benjaminsmith/Google Drive/oregon/data/DEV/bids_data/derivatives/fmriprep/sub-DEV*/ses-wave1/func/s6_sub-DEV*_ses-wave1_task-SST_acq-1_bold_space-MNI152NLin2009cAsym_preproc.nii\n"
     ]
    }
   ],
   "source": [
    "glob_path = fmriprep_dir + nii_raw_path\n",
    "print(\"looking up \" + glob_path)\n",
    "nii_raw_files = glob.glob(glob_path)"
   ]
  },
  {
   "cell_type": "code",
   "execution_count": 4,
   "metadata": {},
   "outputs": [
    {
     "name": "stdout",
     "output_type": "stream",
     "text": [
      "['/Users/benjaminsmith/Google Drive/oregon/data/DEV/bids_data/derivatives/fmriprep/sub-DEV285/ses-wave1/func/s6_sub-DEV285_ses-wave1_task-SST_acq-1_bold_space-MNI152NLin2009cAsym_preproc.nii', '/Users/benjaminsmith/Google Drive/oregon/data/DEV/bids_data/derivatives/fmriprep/sub-DEV004/ses-wave1/func/s6_sub-DEV004_ses-wave1_task-SST_acq-1_bold_space-MNI152NLin2009cAsym_preproc.nii', '/Users/benjaminsmith/Google Drive/oregon/data/DEV/bids_data/derivatives/fmriprep/sub-DEV293/ses-wave1/func/s6_sub-DEV293_ses-wave1_task-SST_acq-1_bold_space-MNI152NLin2009cAsym_preproc.nii']\n"
     ]
    }
   ],
   "source": [
    "print(nii_raw_files)"
   ]
  },
  {
   "cell_type": "markdown",
   "metadata": {},
   "source": [
    "get masks"
   ]
  },
  {
   "cell_type": "code",
   "execution_count": 5,
   "metadata": {},
   "outputs": [],
   "source": [
    "mask_paths = glob.glob(mask_location+\"*.nii.gz\")\n",
    "mask_labels = [re.match(\".*/(.*)\\.nii\\.gz\",mp)[1] for mp in mask_paths]\n",
    "\n",
    "mask_df = pd.DataFrame({\n",
    "    'mask_label':mask_labels,\n",
    "    'mask_path': mask_paths\n",
    "})"
   ]
  },
  {
   "cell_type": "markdown",
   "metadata": {},
   "source": [
    "iterate through series"
   ]
  },
  {
   "cell_type": "code",
   "execution_count": 7,
   "metadata": {},
   "outputs": [
    {
     "name": "stdout",
     "output_type": "stream",
     "text": [
      "DEV285, 1\n",
      "harvardoxford-subcortical_prob_Left Putamen\n",
      "producing the vector for this mask/series...\n"
     ]
    },
    {
     "name": "stderr",
     "output_type": "stream",
     "text": [
      "/Users/benjaminsmith/anaconda/envs/nilearn/lib/python3.8/site-packages/nilearn/image/image.py:1041: UserWarning: Data array used to create a new image contains 64-bit ints. This is likely due to creating the array with numpy and passing `int` as the `dtype`. Many tools such as FSL and SPM cannot deal with int64 in Nifti images, so for compatibility the data has been converted to int32.\n",
      "  return new_img_like(niimg, result, niimg.affine)\n"
     ]
    },
    {
     "name": "stdout",
     "output_type": "stream",
     "text": [
      "created an activity vector for this mask with the following length: 212\n",
      "harvardoxford-subcortical_prob_Right Accumbens\n",
      "producing the vector for this mask/series...\n"
     ]
    },
    {
     "name": "stderr",
     "output_type": "stream",
     "text": [
      "/Users/benjaminsmith/anaconda/envs/nilearn/lib/python3.8/site-packages/nilearn/image/image.py:1041: UserWarning: Data array used to create a new image contains 64-bit ints. This is likely due to creating the array with numpy and passing `int` as the `dtype`. Many tools such as FSL and SPM cannot deal with int64 in Nifti images, so for compatibility the data has been converted to int32.\n",
      "  return new_img_like(niimg, result, niimg.affine)\n"
     ]
    },
    {
     "name": "stdout",
     "output_type": "stream",
     "text": [
      "created an activity vector for this mask with the following length: 212\n",
      "harvardoxford-subcortical_prob_Right Putamen\n",
      "producing the vector for this mask/series...\n"
     ]
    },
    {
     "name": "stderr",
     "output_type": "stream",
     "text": [
      "/Users/benjaminsmith/anaconda/envs/nilearn/lib/python3.8/site-packages/nilearn/image/image.py:1041: UserWarning: Data array used to create a new image contains 64-bit ints. This is likely due to creating the array with numpy and passing `int` as the `dtype`. Many tools such as FSL and SPM cannot deal with int64 in Nifti images, so for compatibility the data has been converted to int32.\n",
      "  return new_img_like(niimg, result, niimg.affine)\n"
     ]
    },
    {
     "name": "stdout",
     "output_type": "stream",
     "text": [
      "created an activity vector for this mask with the following length: 212\n",
      "harvardoxford-subcortical_prob_Left Accumbens\n",
      "producing the vector for this mask/series...\n"
     ]
    },
    {
     "name": "stderr",
     "output_type": "stream",
     "text": [
      "/Users/benjaminsmith/anaconda/envs/nilearn/lib/python3.8/site-packages/nilearn/image/image.py:1041: UserWarning: Data array used to create a new image contains 64-bit ints. This is likely due to creating the array with numpy and passing `int` as the `dtype`. Many tools such as FSL and SPM cannot deal with int64 in Nifti images, so for compatibility the data has been converted to int32.\n",
      "  return new_img_like(niimg, result, niimg.affine)\n"
     ]
    },
    {
     "name": "stdout",
     "output_type": "stream",
     "text": [
      "created an activity vector for this mask with the following length: 212\n",
      "harvardoxford-subcortical_prob_Left Caudate\n",
      "producing the vector for this mask/series...\n"
     ]
    },
    {
     "name": "stderr",
     "output_type": "stream",
     "text": [
      "/Users/benjaminsmith/anaconda/envs/nilearn/lib/python3.8/site-packages/nilearn/image/image.py:1041: UserWarning: Data array used to create a new image contains 64-bit ints. This is likely due to creating the array with numpy and passing `int` as the `dtype`. Many tools such as FSL and SPM cannot deal with int64 in Nifti images, so for compatibility the data has been converted to int32.\n",
      "  return new_img_like(niimg, result, niimg.affine)\n"
     ]
    },
    {
     "name": "stdout",
     "output_type": "stream",
     "text": [
      "created an activity vector for this mask with the following length: 212\n",
      "harvardoxford-subcortical_prob_Right Caudate\n",
      "producing the vector for this mask/series...\n"
     ]
    },
    {
     "name": "stderr",
     "output_type": "stream",
     "text": [
      "/Users/benjaminsmith/anaconda/envs/nilearn/lib/python3.8/site-packages/nilearn/image/image.py:1041: UserWarning: Data array used to create a new image contains 64-bit ints. This is likely due to creating the array with numpy and passing `int` as the `dtype`. Many tools such as FSL and SPM cannot deal with int64 in Nifti images, so for compatibility the data has been converted to int32.\n",
      "  return new_img_like(niimg, result, niimg.affine)\n"
     ]
    },
    {
     "name": "stdout",
     "output_type": "stream",
     "text": [
      "created an activity vector for this mask with the following length: 212\n",
      "DEV004, 1\n",
      "harvardoxford-subcortical_prob_Left Putamen\n",
      "producing the vector for this mask/series...\n"
     ]
    },
    {
     "name": "stderr",
     "output_type": "stream",
     "text": [
      "/Users/benjaminsmith/anaconda/envs/nilearn/lib/python3.8/site-packages/nilearn/image/image.py:1041: UserWarning: Data array used to create a new image contains 64-bit ints. This is likely due to creating the array with numpy and passing `int` as the `dtype`. Many tools such as FSL and SPM cannot deal with int64 in Nifti images, so for compatibility the data has been converted to int32.\n",
      "  return new_img_like(niimg, result, niimg.affine)\n"
     ]
    },
    {
     "name": "stdout",
     "output_type": "stream",
     "text": [
      "created an activity vector for this mask with the following length: 207\n",
      "harvardoxford-subcortical_prob_Right Accumbens\n",
      "producing the vector for this mask/series...\n"
     ]
    },
    {
     "name": "stderr",
     "output_type": "stream",
     "text": [
      "/Users/benjaminsmith/anaconda/envs/nilearn/lib/python3.8/site-packages/nilearn/image/image.py:1041: UserWarning: Data array used to create a new image contains 64-bit ints. This is likely due to creating the array with numpy and passing `int` as the `dtype`. Many tools such as FSL and SPM cannot deal with int64 in Nifti images, so for compatibility the data has been converted to int32.\n",
      "  return new_img_like(niimg, result, niimg.affine)\n"
     ]
    },
    {
     "name": "stdout",
     "output_type": "stream",
     "text": [
      "created an activity vector for this mask with the following length: 207\n",
      "harvardoxford-subcortical_prob_Right Putamen\n",
      "producing the vector for this mask/series...\n"
     ]
    },
    {
     "name": "stderr",
     "output_type": "stream",
     "text": [
      "/Users/benjaminsmith/anaconda/envs/nilearn/lib/python3.8/site-packages/nilearn/image/image.py:1041: UserWarning: Data array used to create a new image contains 64-bit ints. This is likely due to creating the array with numpy and passing `int` as the `dtype`. Many tools such as FSL and SPM cannot deal with int64 in Nifti images, so for compatibility the data has been converted to int32.\n",
      "  return new_img_like(niimg, result, niimg.affine)\n"
     ]
    },
    {
     "name": "stdout",
     "output_type": "stream",
     "text": [
      "created an activity vector for this mask with the following length: 207\n",
      "harvardoxford-subcortical_prob_Left Accumbens\n",
      "producing the vector for this mask/series...\n"
     ]
    },
    {
     "name": "stderr",
     "output_type": "stream",
     "text": [
      "/Users/benjaminsmith/anaconda/envs/nilearn/lib/python3.8/site-packages/nilearn/image/image.py:1041: UserWarning: Data array used to create a new image contains 64-bit ints. This is likely due to creating the array with numpy and passing `int` as the `dtype`. Many tools such as FSL and SPM cannot deal with int64 in Nifti images, so for compatibility the data has been converted to int32.\n",
      "  return new_img_like(niimg, result, niimg.affine)\n"
     ]
    },
    {
     "name": "stdout",
     "output_type": "stream",
     "text": [
      "created an activity vector for this mask with the following length: 207\n",
      "harvardoxford-subcortical_prob_Left Caudate\n",
      "producing the vector for this mask/series...\n"
     ]
    },
    {
     "name": "stderr",
     "output_type": "stream",
     "text": [
      "/Users/benjaminsmith/anaconda/envs/nilearn/lib/python3.8/site-packages/nilearn/image/image.py:1041: UserWarning: Data array used to create a new image contains 64-bit ints. This is likely due to creating the array with numpy and passing `int` as the `dtype`. Many tools such as FSL and SPM cannot deal with int64 in Nifti images, so for compatibility the data has been converted to int32.\n",
      "  return new_img_like(niimg, result, niimg.affine)\n"
     ]
    },
    {
     "name": "stdout",
     "output_type": "stream",
     "text": [
      "created an activity vector for this mask with the following length: 207\n",
      "harvardoxford-subcortical_prob_Right Caudate\n",
      "producing the vector for this mask/series...\n"
     ]
    },
    {
     "name": "stderr",
     "output_type": "stream",
     "text": [
      "/Users/benjaminsmith/anaconda/envs/nilearn/lib/python3.8/site-packages/nilearn/image/image.py:1041: UserWarning: Data array used to create a new image contains 64-bit ints. This is likely due to creating the array with numpy and passing `int` as the `dtype`. Many tools such as FSL and SPM cannot deal with int64 in Nifti images, so for compatibility the data has been converted to int32.\n",
      "  return new_img_like(niimg, result, niimg.affine)\n"
     ]
    },
    {
     "name": "stdout",
     "output_type": "stream",
     "text": [
      "created an activity vector for this mask with the following length: 207\n",
      "DEV293, 1\n",
      "harvardoxford-subcortical_prob_Left Putamen\n",
      "producing the vector for this mask/series...\n"
     ]
    },
    {
     "name": "stderr",
     "output_type": "stream",
     "text": [
      "/Users/benjaminsmith/anaconda/envs/nilearn/lib/python3.8/site-packages/nilearn/image/image.py:1041: UserWarning: Data array used to create a new image contains 64-bit ints. This is likely due to creating the array with numpy and passing `int` as the `dtype`. Many tools such as FSL and SPM cannot deal with int64 in Nifti images, so for compatibility the data has been converted to int32.\n",
      "  return new_img_like(niimg, result, niimg.affine)\n"
     ]
    },
    {
     "name": "stdout",
     "output_type": "stream",
     "text": [
      "created an activity vector for this mask with the following length: 212\n",
      "harvardoxford-subcortical_prob_Right Accumbens\n",
      "producing the vector for this mask/series...\n"
     ]
    },
    {
     "name": "stderr",
     "output_type": "stream",
     "text": [
      "/Users/benjaminsmith/anaconda/envs/nilearn/lib/python3.8/site-packages/nilearn/image/image.py:1041: UserWarning: Data array used to create a new image contains 64-bit ints. This is likely due to creating the array with numpy and passing `int` as the `dtype`. Many tools such as FSL and SPM cannot deal with int64 in Nifti images, so for compatibility the data has been converted to int32.\n",
      "  return new_img_like(niimg, result, niimg.affine)\n"
     ]
    },
    {
     "name": "stdout",
     "output_type": "stream",
     "text": [
      "created an activity vector for this mask with the following length: 212\n",
      "harvardoxford-subcortical_prob_Right Putamen\n",
      "producing the vector for this mask/series...\n"
     ]
    },
    {
     "name": "stderr",
     "output_type": "stream",
     "text": [
      "/Users/benjaminsmith/anaconda/envs/nilearn/lib/python3.8/site-packages/nilearn/image/image.py:1041: UserWarning: Data array used to create a new image contains 64-bit ints. This is likely due to creating the array with numpy and passing `int` as the `dtype`. Many tools such as FSL and SPM cannot deal with int64 in Nifti images, so for compatibility the data has been converted to int32.\n",
      "  return new_img_like(niimg, result, niimg.affine)\n"
     ]
    },
    {
     "name": "stdout",
     "output_type": "stream",
     "text": [
      "created an activity vector for this mask with the following length: 212\n",
      "harvardoxford-subcortical_prob_Left Accumbens\n",
      "producing the vector for this mask/series...\n"
     ]
    },
    {
     "name": "stderr",
     "output_type": "stream",
     "text": [
      "/Users/benjaminsmith/anaconda/envs/nilearn/lib/python3.8/site-packages/nilearn/image/image.py:1041: UserWarning: Data array used to create a new image contains 64-bit ints. This is likely due to creating the array with numpy and passing `int` as the `dtype`. Many tools such as FSL and SPM cannot deal with int64 in Nifti images, so for compatibility the data has been converted to int32.\n",
      "  return new_img_like(niimg, result, niimg.affine)\n"
     ]
    },
    {
     "name": "stdout",
     "output_type": "stream",
     "text": [
      "created an activity vector for this mask with the following length: 212\n",
      "harvardoxford-subcortical_prob_Left Caudate\n",
      "producing the vector for this mask/series...\n"
     ]
    },
    {
     "name": "stderr",
     "output_type": "stream",
     "text": [
      "/Users/benjaminsmith/anaconda/envs/nilearn/lib/python3.8/site-packages/nilearn/image/image.py:1041: UserWarning: Data array used to create a new image contains 64-bit ints. This is likely due to creating the array with numpy and passing `int` as the `dtype`. Many tools such as FSL and SPM cannot deal with int64 in Nifti images, so for compatibility the data has been converted to int32.\n",
      "  return new_img_like(niimg, result, niimg.affine)\n"
     ]
    },
    {
     "name": "stdout",
     "output_type": "stream",
     "text": [
      "created an activity vector for this mask with the following length: 212\n",
      "harvardoxford-subcortical_prob_Right Caudate\n",
      "producing the vector for this mask/series...\n"
     ]
    },
    {
     "name": "stderr",
     "output_type": "stream",
     "text": [
      "/Users/benjaminsmith/anaconda/envs/nilearn/lib/python3.8/site-packages/nilearn/image/image.py:1041: UserWarning: Data array used to create a new image contains 64-bit ints. This is likely due to creating the array with numpy and passing `int` as the `dtype`. Many tools such as FSL and SPM cannot deal with int64 in Nifti images, so for compatibility the data has been converted to int32.\n",
      "  return new_img_like(niimg, result, niimg.affine)\n"
     ]
    },
    {
     "name": "stdout",
     "output_type": "stream",
     "text": [
      "created an activity vector for this mask with the following length: 212\n"
     ]
    }
   ],
   "source": [
    "#mark the number of seconds each scan takes.\n",
    "TR = 2.0\n",
    "\n",
    "roi_data = {}\n",
    "\n",
    "for nii in nii_raw_files:\n",
    "    series_filename = basename(nii)\n",
    "    match_data = re.match('.*(DEV\\d*)_ses-wave(\\d+)*',series_filename)\n",
    "    dev_name = match_data[1]\n",
    "    dev_wave = match_data[2]\n",
    "\n",
    "    #print(basename(nii))\n",
    "    print(dev_name + \", \" + dev_wave)\n",
    "\n",
    "    active_img = image.load_img(nii)\n",
    "\n",
    "    #create a template data frame to populate with the ROI data, for this run\n",
    "    run_len = active_img.shape[3]\n",
    "    if dev_name not in roi_data.keys():\n",
    "        roi_data[dev_name]={}\n",
    "    \n",
    "    run_df = pd.DataFrame(index=range(0,run_len))\n",
    "    #run_df = pd.DataFrame({'image_id':range(0,run_len)})\n",
    "    #run_df['TR_onset']=run_df.image_id*TR\n",
    "\n",
    "\n",
    "    \n",
    "    for m_i, m_set in mask_df.iterrows():\n",
    "        print(m_set['mask_label'])\n",
    "        print('producing the vector for this mask/series...')\n",
    "        \n",
    "        #active_mask = nilearn.masking.compute_brain_mask(m_set['mask_path'])\n",
    "        mask_raw = nil.image.load_img(m_set['mask_path'])\n",
    "        mask_in_subj_space = nil.image.resample_img(mask_raw, target_affine=active_img.affine,target_shape = active_img.slicer[:,:,:,0].shape)\n",
    "        mask_binarized = nil.image.binarize_img(mask_in_subj_space,threshold=50)\n",
    "        active_img_masked = nil.masking.apply_mask(active_img, mask_binarized)\n",
    "        activity_vector = active_img_masked.mean(axis=1)\n",
    "        run_df[m_set['mask_label']]=activity_vector\n",
    "        print(\"created an activity vector for this mask with the following length: \" + str(len(activity_vector)))\n",
    "        #\n",
    "        #nil.plotting.plot_img(mask_applied)\n",
    "        #nilearn.plotting.view_img(active_mask)\n",
    "    #now we've gone through all the masks for this run, add the run_df to the dict dict\n",
    "    roi_data[dev_name][dev_wave] = run_df\n",
    "\n",
    "\n",
    "\n",
    "        \n",
    "\n",
    "        \n",
    "\n"
   ]
  },
  {
   "cell_type": "code",
   "execution_count": 9,
   "metadata": {},
   "outputs": [
    {
     "name": "stdout",
     "output_type": "stream",
     "text": [
      "DEV285\n",
      "1\n",
      "(212, 6)\n",
      "Index(['harvardoxford-subcortical_prob_Left Putamen',\n",
      "       'harvardoxford-subcortical_prob_Right Accumbens',\n",
      "       'harvardoxford-subcortical_prob_Right Putamen',\n",
      "       'harvardoxford-subcortical_prob_Left Accumbens',\n",
      "       'harvardoxford-subcortical_prob_Left Caudate',\n",
      "       'harvardoxford-subcortical_prob_Right Caudate'],\n",
      "      dtype='object')\n",
      "DEV004\n",
      "1\n",
      "(207, 6)\n",
      "Index(['harvardoxford-subcortical_prob_Left Putamen',\n",
      "       'harvardoxford-subcortical_prob_Right Accumbens',\n",
      "       'harvardoxford-subcortical_prob_Right Putamen',\n",
      "       'harvardoxford-subcortical_prob_Left Accumbens',\n",
      "       'harvardoxford-subcortical_prob_Left Caudate',\n",
      "       'harvardoxford-subcortical_prob_Right Caudate'],\n",
      "      dtype='object')\n",
      "DEV293\n",
      "1\n",
      "(212, 6)\n",
      "Index(['harvardoxford-subcortical_prob_Left Putamen',\n",
      "       'harvardoxford-subcortical_prob_Right Accumbens',\n",
      "       'harvardoxford-subcortical_prob_Right Putamen',\n",
      "       'harvardoxford-subcortical_prob_Left Accumbens',\n",
      "       'harvardoxford-subcortical_prob_Left Caudate',\n",
      "       'harvardoxford-subcortical_prob_Right Caudate'],\n",
      "      dtype='object')\n"
     ]
    }
   ],
   "source": [
    "for s in roi_data.keys():\n",
    "    print(s)\n",
    "    for wave in roi_data[s].keys():\n",
    "        print(wave)\n",
    "        print(roi_data[s][wave].shape)\n",
    "        print(roi_data[s][wave].columns)"
   ]
  },
  {
   "cell_type": "code",
   "execution_count": 10,
   "metadata": {},
   "outputs": [],
   "source": [
    "sst_all_behavioral_data = pd.read_csv(dropbox_data_dir + \"sst_behavioral_data_all.csv\")\n",
    "\n"
   ]
  },
  {
   "cell_type": "markdown",
   "metadata": {},
   "source": [
    "for each trial [CS, CG, FS, FG], identify the moment the subject learns the class of the trial;"
   ]
  },
  {
   "cell_type": "code",
   "execution_count": 11,
   "metadata": {},
   "outputs": [],
   "source": [
    "# for each trial [CS, CG, FS, FG], identify the moment the subject learns the class of the trial;\n",
    "\n",
    "# this may be slightly different for Go and Stop trials. For Stop trials it is simply the moment of the tone;\n",
    "# for Go trials it's harder to specify.\n",
    "\n",
    "def get_moment_trial_type_revealed(trial_type, ssdr,first_tone):\n",
    "    trial_type = trial_type.tolist()\n",
    "    ssdr = ssdr.tolist()\n",
    "    expected_tone_time = pd.Series([0.]*len(ssdr))\n",
    "    expected_tone_time[0]=first_tone\n",
    "    expected_tone_time[1]=first_tone\n",
    "\n",
    "    for i in range(2,len(expected_tone_time)):\n",
    "         #these are in increments of 2 because every second event is a cue\n",
    "         #previous trial was a stop\n",
    "        if trial_type[i]==\"Stop\":\n",
    "            expected_tone_time[i] = ssdr[i]\n",
    "        else:\n",
    "            expected_tone_time[i] = expected_tone_time[i-1]\n",
    "    #print(expected_tone_time)\n",
    "    return(expected_tone_time)\n",
    "\n",
    "\n",
    "\n",
    "\n",
    "# but might be the expected time of the onset, which would be the _previous_ stop trial.\n",
    "#create expected tone table\n",
    "expected_tone_table = sst_all_behavioral_data.groupby(['subid', 'waveid','runid']).apply(\n",
    "    lambda sabd_set: get_moment_trial_type_revealed(sabd_set['go_no_go_condition_label'], sabd_set['SSD_recorded'],first_tone=2)\n",
    ")\n",
    "expected_tone_table2=expected_tone_table.reset_index()\n",
    "expected_tone_table2.rename(columns={0:'class_type_reveal'},inplace=True)\n",
    "expected_tone_table2.loc[:,'trial_n']=expected_tone_table2.level_3+1\n",
    "expected_tone_table2.drop('level_3',axis=1,inplace=True)\n",
    "\n",
    "sst_all_behavioral_data = sst_all_behavioral_data.merge(expected_tone_table2,\n",
    "left_on=['subid','waveid','runid','trial_n'],\n",
    "right_on =['subid','waveid','runid','trial_n'],\n",
    "how='left'\n",
    "    \n",
    "    )\n"
   ]
  },
  {
   "cell_type": "code",
   "execution_count": 12,
   "metadata": {},
   "outputs": [],
   "source": [
    "sst_all_behavioral_data['class_type_reveal_onset'] = sst_all_behavioral_data.class_type_reveal + sst_all_behavioral_data.onset\n",
    "sst_all_behavioral_data.loc[sst_all_behavioral_data.go_no_go_condition_label=='Cue','class_type_reveal_onset']=None"
   ]
  },
  {
   "cell_type": "markdown",
   "metadata": {},
   "source": [
    "Now we need a list of the TRs by their time of appearance; that way we can mark which ones are relevant to the ROIs for each trial.\n",
    "\n",
    "For now, let's assume that the timing of the TRs matches the timing in the matlab files, but this MUST be checked."
   ]
  },
  {
   "cell_type": "code",
   "execution_count": null,
   "metadata": {},
   "outputs": [],
   "source": [
    "# run_length = 207\n",
    "# rt_time_list = [x*2.0 for x in range(run_length)]"
   ]
  },
  {
   "cell_type": "markdown",
   "metadata": {},
   "source": [
    "these are going to be generated dynamically based on the run length"
   ]
  },
  {
   "cell_type": "code",
   "execution_count": 18,
   "metadata": {},
   "outputs": [
    {
     "name": "stdout",
     "output_type": "stream",
     "text": [
      "DEV285\n",
      "DEV285, 1:212\n",
      "DEV004\n",
      "DEV004, 1:207\n",
      "DEV293\n",
      "DEV293, 1:212\n"
     ]
    }
   ],
   "source": [
    "# (is there a way to do this vectorized over ALL the data,\n",
    "# or is it more sensible to loop through subjects/runs to do it?\n",
    "# tend to think looping through subjects makes more sense.)\n",
    "all_subj_df_list = [] \n",
    "for s in roi_data.keys():\n",
    "    print(s)\n",
    "    for wave in roi_data[s].keys():\n",
    "        run_length = roi_data[s][wave].shape[0]\n",
    "        print(s +', ' + wave + ':' + str(run_length))\n",
    "        rt_time_list = [x*2.0 for x in range(run_length)]\n",
    "        #now we have a list of the the RTs\n",
    "        #we have actual data at each data point\n",
    "        #we need to get the RTs related to each particular trial.\n",
    "        run_behavioral_data = sst_all_behavioral_data[(sst_all_behavioral_data.subid==s) & (sst_all_behavioral_data.waveid==int(wave))]\n",
    "\n",
    "        run_trial_df_list = []\n",
    "        for i, trial in run_behavioral_data.iterrows():\n",
    "            #print(i)\n",
    "            t_class_type_reveal_onset = trial['class_type_reveal_onset']\n",
    "            #print(trial[['trial_n','class_type_reveal_onset']])\n",
    "            #grab the set of TR times that are relevant based on its\n",
    "            \n",
    "\n",
    "            trial_rt_timing_all = pd.DataFrame({'tr':rt_time_list,'offset':[(tr - t_class_type_reveal_onset) for tr in rt_time_list]})\n",
    "            trs_to_use_for_trial = ((trial_rt_timing_all.offset>-10) & (trial_rt_timing_all.offset<20))\n",
    "            trial_rt_timing_inscope = trial_rt_timing_all.loc[trs_to_use_for_trial]\n",
    "\n",
    "            #and we will also want to grab the actual data we already extracted...\n",
    "            trial_roi_data = pd.merge(trial_rt_timing_inscope,roi_data[s][wave],how='left',\n",
    "            left_index=True,right_index=True\n",
    "            )\n",
    "            trial_roi_data['t_class_type_reveal_onset']=t_class_type_reveal_onset\n",
    "            trial_roi_data['subid']=s\n",
    "            trial_roi_data['wave']=wave\n",
    "            trial_roi_data['go_no_go_condition_label']=trial[['go_no_go_condition_label']][0]\n",
    "            trial_roi_data['condition']=trial[['condition']][0]\n",
    "            trial_roi_data['trial_n']=trial[['trial_n']][0]\n",
    "            trial_roi_data['trial_n']=trial[['trial_n']][0]\n",
    "            \n",
    "            run_trial_df_list.append(trial_roi_data)\n",
    "            #cool. now what? \n",
    "\n",
    "        run_trial_df = pd.concat(run_trial_df_list)\n",
    "        run_trial_df.reset_index(drop=True,inplace=True)\n",
    "\n",
    "        all_subj_df_list.append(run_trial_df)\n",
    "all_subj_df = pd.concat(all_subj_df_list)"
   ]
  },
  {
   "cell_type": "code",
   "execution_count": null,
   "metadata": {},
   "outputs": [],
   "source": []
  },
  {
   "cell_type": "code",
   "execution_count": 14,
   "metadata": {},
   "outputs": [
    {
     "data": {
      "text/plain": [
       "trial_n  subid   wave\n",
       "1        DEV004  1       12\n",
       "         DEV285  1       12\n",
       "         DEV293  1       12\n",
       "3        DEV004  1       12\n",
       "         DEV285  1       13\n",
       "                         ..\n",
       "253      DEV285  1        9\n",
       "         DEV293  1        9\n",
       "255      DEV004  1        1\n",
       "         DEV285  1        7\n",
       "         DEV293  1        7\n",
       "Name: offset, Length: 384, dtype: int64"
      ]
     },
     "execution_count": 14,
     "metadata": {},
     "output_type": "execute_result"
    }
   ],
   "source": [
    "all_subj_df.groupby(['trial_n','subid','wave']).offset.count()"
   ]
  },
  {
   "cell_type": "code",
   "execution_count": 19,
   "metadata": {},
   "outputs": [],
   "source": [
    "all_subj_df.to_csv(dropbox_data_dir + 'SST_roi_by_time_point.csv')"
   ]
  },
  {
   "cell_type": "markdown",
   "metadata": {},
   "source": [
    "We should have up to 420 or so."
   ]
  },
  {
   "cell_type": "code",
   "execution_count": 15,
   "metadata": {},
   "outputs": [
    {
     "data": {
      "text/html": [
       "<div>\n",
       "<style scoped>\n",
       "    .dataframe tbody tr th:only-of-type {\n",
       "        vertical-align: middle;\n",
       "    }\n",
       "\n",
       "    .dataframe tbody tr th {\n",
       "        vertical-align: top;\n",
       "    }\n",
       "\n",
       "    .dataframe thead th {\n",
       "        text-align: right;\n",
       "    }\n",
       "</style>\n",
       "<table border=\"1\" class=\"dataframe\">\n",
       "  <thead>\n",
       "    <tr style=\"text-align: right;\">\n",
       "      <th></th>\n",
       "      <th>trial_n</th>\n",
       "      <th>onset</th>\n",
       "      <th>class_type_reveal_onset</th>\n",
       "      <th>condition</th>\n",
       "    </tr>\n",
       "  </thead>\n",
       "  <tbody>\n",
       "    <tr>\n",
       "      <th>248832</th>\n",
       "      <td>1</td>\n",
       "      <td>0.011194</td>\n",
       "      <td>2.011194</td>\n",
       "      <td>FailedStop</td>\n",
       "    </tr>\n",
       "    <tr>\n",
       "      <th>248833</th>\n",
       "      <td>2</td>\n",
       "      <td>0.000000</td>\n",
       "      <td>NaN</td>\n",
       "      <td>Cue</td>\n",
       "    </tr>\n",
       "    <tr>\n",
       "      <th>248834</th>\n",
       "      <td>3</td>\n",
       "      <td>2.763036</td>\n",
       "      <td>4.763036</td>\n",
       "      <td>CorrectGo</td>\n",
       "    </tr>\n",
       "    <tr>\n",
       "      <th>248835</th>\n",
       "      <td>4</td>\n",
       "      <td>0.000000</td>\n",
       "      <td>NaN</td>\n",
       "      <td>Cue</td>\n",
       "    </tr>\n",
       "    <tr>\n",
       "      <th>248836</th>\n",
       "      <td>5</td>\n",
       "      <td>5.528667</td>\n",
       "      <td>7.528667</td>\n",
       "      <td>CorrectGo</td>\n",
       "    </tr>\n",
       "    <tr>\n",
       "      <th>...</th>\n",
       "      <td>...</td>\n",
       "      <td>...</td>\n",
       "      <td>...</td>\n",
       "      <td>...</td>\n",
       "    </tr>\n",
       "    <tr>\n",
       "      <th>249083</th>\n",
       "      <td>252</td>\n",
       "      <td>0.000000</td>\n",
       "      <td>NaN</td>\n",
       "      <td>Cue</td>\n",
       "    </tr>\n",
       "    <tr>\n",
       "      <th>249084</th>\n",
       "      <td>253</td>\n",
       "      <td>414.584341</td>\n",
       "      <td>414.885800</td>\n",
       "      <td>CorrectGo</td>\n",
       "    </tr>\n",
       "    <tr>\n",
       "      <th>249085</th>\n",
       "      <td>254</td>\n",
       "      <td>0.000000</td>\n",
       "      <td>NaN</td>\n",
       "      <td>Cue</td>\n",
       "    </tr>\n",
       "    <tr>\n",
       "      <th>249086</th>\n",
       "      <td>255</td>\n",
       "      <td>417.849799</td>\n",
       "      <td>418.151915</td>\n",
       "      <td>CorrectStop</td>\n",
       "    </tr>\n",
       "    <tr>\n",
       "      <th>249087</th>\n",
       "      <td>256</td>\n",
       "      <td>0.000000</td>\n",
       "      <td>NaN</td>\n",
       "      <td>Cue</td>\n",
       "    </tr>\n",
       "  </tbody>\n",
       "</table>\n",
       "<p>256 rows × 4 columns</p>\n",
       "</div>"
      ],
      "text/plain": [
       "        trial_n       onset  class_type_reveal_onset    condition\n",
       "248832        1    0.011194                 2.011194   FailedStop\n",
       "248833        2    0.000000                      NaN          Cue\n",
       "248834        3    2.763036                 4.763036    CorrectGo\n",
       "248835        4    0.000000                      NaN          Cue\n",
       "248836        5    5.528667                 7.528667    CorrectGo\n",
       "...         ...         ...                      ...          ...\n",
       "249083      252    0.000000                      NaN          Cue\n",
       "249084      253  414.584341               414.885800    CorrectGo\n",
       "249085      254    0.000000                      NaN          Cue\n",
       "249086      255  417.849799               418.151915  CorrectStop\n",
       "249087      256    0.000000                      NaN          Cue\n",
       "\n",
       "[256 rows x 4 columns]"
      ]
     },
     "execution_count": 15,
     "metadata": {},
     "output_type": "execute_result"
    }
   ],
   "source": [
    "sst_all_behavioral_data.loc[sst_all_behavioral_data.subid=='DEV293'][['trial_n','onset','class_type_reveal_onset','condition']]"
   ]
  },
  {
   "cell_type": "code",
   "execution_count": null,
   "metadata": {},
   "outputs": [],
   "source": [
    "\n",
    "# for each TRIAL, you will end up with a data table with columns (a) time from trial class reveal to image; (b) separate columns for measurement of each ROI\n",
    "# these can be concatenated across trials, runs, and subjects\n",
    "\n",
    "# then create n_{ROI}*n_{trial classes} graphs of samples, where x is the time from trial class reveal to image, and y is the measurement. plot a lowess curve.\n",
    "\n",
    "# potentially overlay the lowess curves for each trial type so that the response within each ROI can be easily compared.\n"
   ]
  }
 ],
 "metadata": {
  "kernelspec": {
   "display_name": "Python 3.8.10 ('nilearn')",
   "language": "python",
   "name": "python3"
  },
  "language_info": {
   "codemirror_mode": {
    "name": "ipython",
    "version": 3
   },
   "file_extension": ".py",
   "mimetype": "text/x-python",
   "name": "python",
   "nbconvert_exporter": "python",
   "pygments_lexer": "ipython3",
   "version": "3.8.13"
  },
  "orig_nbformat": 4,
  "vscode": {
   "interpreter": {
    "hash": "b82bf3dcf59754c665fb61c2f4cdecd04bf09d71d0af7a88be8f82f426f3366b"
   }
  }
 },
 "nbformat": 4,
 "nbformat_minor": 2
}
