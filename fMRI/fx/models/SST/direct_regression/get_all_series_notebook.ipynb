{
 "cells": [
  {
   "cell_type": "code",
   "execution_count": 13,
   "metadata": {},
   "outputs": [],
   "source": [
    "import glob\n",
    "import pandas as pd\n",
    "import re\n",
    "import nilearn as nil\n",
    "from nilearn import *\n",
    "from nilearn import image\n",
    "from os.path import basename\n",
    "import numpy as np\n",
    "import yaml\n",
    "from yaml.loader import SafeLoader\n",
    "from socket import gethostname\n"
   ]
  },
  {
   "cell_type": "code",
   "execution_count": 29,
   "metadata": {},
   "outputs": [
    {
     "data": {
      "text/plain": [
       "'n137'"
      ]
     },
     "execution_count": 29,
     "metadata": {},
     "output_type": "execute_result"
    }
   ],
   "source": [
    "gethostname()"
   ]
  },
  {
   "cell_type": "code",
   "execution_count": 31,
   "metadata": {},
   "outputs": [],
   "source": [
    "# Open the file and load the file\n",
    "with open('config.yml') as f:\n",
    "    all_yaml = yaml.load(f, Loader=SafeLoader)\n",
    "    if gethostname() in all_yaml.keys():\n",
    "        config = all_yaml[gethostname()]\n",
    "    else:\n",
    "        config = all_yaml['default']"
   ]
  },
  {
   "cell_type": "code",
   "execution_count": 32,
   "metadata": {},
   "outputs": [
    {
     "data": {
      "text/plain": [
       "{'dropbox_data_dir': '/gpfs/projects/sanlab/bsmith16/data',\n",
       " 'fmriprep_dir': '/gpfs/projects/sanlab/shared/DEV/bids_data/derivatives/fmriprep/',\n",
       " 'nii_raw_path': 'sub-DEV*/ses-wave1/func/s6_sub-DEV*_ses-wave1_task-SST_acq-1_bold_space-MNI152NLin2009cAsym_preproc.nii',\n",
       " 'mask_location': '/gpfs/projects/sanlab/shared/DEV/nonbids_data/fMRI/ml/masks/'}"
      ]
     },
     "execution_count": 32,
     "metadata": {},
     "output_type": "execute_result"
    }
   ],
   "source": [
    "config"
   ]
  },
  {
   "cell_type": "markdown",
   "metadata": {},
   "source": [
    "get all series\n",
    "\n",
    "get masks\n",
    "\n",
    "iterate through series\n",
    "\n",
    "iterate through masks\n",
    "\n",
    "produce the vector for this mask/series\n",
    "\n",
    "for each trial [CS, CG, FS, FG], identify the moment the subject learns the class of the trial;\n",
    "this may be slightly different for Go and Stop trials. For Stop trials it is simply the moment of the tone;\n",
    "for Go trials it's harder to specify.\n",
    "\n",
    "for each TRIAL, you will end up with a data table with columns (a) time from trial class reveal to image; (b) separate columns for measurement of each ROI\n",
    "these can be concatenated across trials, runs, and subjects\n",
    "\n",
    "then create n_{ROI}*n_{trial classes} graphs of samples, where x is the time from trial class reveal to image, and y is the measurement. plot a lowess curve.\n",
    "\n",
    "potentially overlay the lowess curves for each trial type so that the response within each ROI can be easily compared.\n"
   ]
  },
  {
   "cell_type": "code",
   "execution_count": 33,
   "metadata": {},
   "outputs": [],
   "source": [
    "# #need to replace these with references to the config yml\n",
    "# dropbox_data_dir = '/Users/benjaminsmith/Dropbox (University of Oregon)/UO-SAN Lab/Berkman Lab/Devaluation/analysis_files/data/'\n",
    "# fmriprep_dir = '/Users/benjaminsmith/Google Drive/oregon/data/DEV/bids_data/derivatives/fmriprep/'\n",
    "# nii_raw_path = 'sub-DEV*/ses-wave1/func/s6_sub-DEV*_ses-wave1_task-SST_acq-1_bold_space-MNI152NLin2009cAsym_preproc.nii'\n",
    "# mask_location = '/Users/benjaminsmith/Google Drive/oregon/data/DEV/brainmaps/striatum/'\n",
    "dropbox_data_dir = config['dropbox_data_dir']\n",
    "fmriprep_dir = config['fmriprep_dir']\n",
    "nii_raw_path = config['nii_raw_path']\n",
    "mask_location = config['mask_location'] + 'striatum'"
   ]
  },
  {
   "cell_type": "markdown",
   "metadata": {},
   "source": [
    "get all series"
   ]
  },
  {
   "cell_type": "code",
   "execution_count": 34,
   "metadata": {},
   "outputs": [
    {
     "name": "stdout",
     "output_type": "stream",
     "text": [
      "looking up /gpfs/projects/sanlab/shared/DEV/bids_data/derivatives/fmriprep/sub-DEV*/ses-wave1/func/s6_sub-DEV*_ses-wave1_task-SST_acq-1_bold_space-MNI152NLin2009cAsym_preproc.nii\n"
     ]
    }
   ],
   "source": [
    "glob_path = fmriprep_dir + nii_raw_path\n",
    "print(\"looking up \" + glob_path)\n",
    "nii_raw_files = glob.glob(glob_path)"
   ]
  },
  {
   "cell_type": "code",
   "execution_count": 35,
   "metadata": {},
   "outputs": [
    {
     "name": "stdout",
     "output_type": "stream",
     "text": [
      "['/gpfs/projects/sanlab/shared/DEV/bids_data/derivatives/fmriprep/sub-DEV033/ses-wave1/func/s6_sub-DEV033_ses-wave1_task-SST_acq-1_bold_space-MNI152NLin2009cAsym_preproc.nii', '/gpfs/projects/sanlab/shared/DEV/bids_data/derivatives/fmriprep/sub-DEV079/ses-wave1/func/s6_sub-DEV079_ses-wave1_task-SST_acq-1_bold_space-MNI152NLin2009cAsym_preproc.nii', '/gpfs/projects/sanlab/shared/DEV/bids_data/derivatives/fmriprep/sub-DEV017/ses-wave1/func/s6_sub-DEV017_ses-wave1_task-SST_acq-1_bold_space-MNI152NLin2009cAsym_preproc.nii', '/gpfs/projects/sanlab/shared/DEV/bids_data/derivatives/fmriprep/sub-DEV131/ses-wave1/func/s6_sub-DEV131_ses-wave1_task-SST_acq-1_bold_space-MNI152NLin2009cAsym_preproc.nii', '/gpfs/projects/sanlab/shared/DEV/bids_data/derivatives/fmriprep/sub-DEV122/ses-wave1/func/s6_sub-DEV122_ses-wave1_task-SST_acq-1_bold_space-MNI152NLin2009cAsym_preproc.nii', '/gpfs/projects/sanlab/shared/DEV/bids_data/derivatives/fmriprep/sub-DEV138/ses-wave1/func/s6_sub-DEV138_ses-wave1_task-SST_acq-1_bold_space-MNI152NLin2009cAsym_preproc.nii', '/gpfs/projects/sanlab/shared/DEV/bids_data/derivatives/fmriprep/sub-DEV054/ses-wave1/func/s6_sub-DEV054_ses-wave1_task-SST_acq-1_bold_space-MNI152NLin2009cAsym_preproc.nii', '/gpfs/projects/sanlab/shared/DEV/bids_data/derivatives/fmriprep/sub-DEV194/ses-wave1/func/s6_sub-DEV194_ses-wave1_task-SST_acq-1_bold_space-MNI152NLin2009cAsym_preproc.nii', '/gpfs/projects/sanlab/shared/DEV/bids_data/derivatives/fmriprep/sub-DEV147/ses-wave1/func/s6_sub-DEV147_ses-wave1_task-SST_acq-1_bold_space-MNI152NLin2009cAsym_preproc.nii', '/gpfs/projects/sanlab/shared/DEV/bids_data/derivatives/fmriprep/sub-DEV047/ses-wave1/func/s6_sub-DEV047_ses-wave1_task-SST_acq-1_bold_space-MNI152NLin2009cAsym_preproc.nii', '/gpfs/projects/sanlab/shared/DEV/bids_data/derivatives/fmriprep/sub-DEV215/ses-wave1/func/s6_sub-DEV215_ses-wave1_task-SST_acq-1_bold_space-MNI152NLin2009cAsym_preproc.nii', '/gpfs/projects/sanlab/shared/DEV/bids_data/derivatives/fmriprep/sub-DEV224/ses-wave1/func/s6_sub-DEV224_ses-wave1_task-SST_acq-1_bold_space-MNI152NLin2009cAsym_preproc.nii', '/gpfs/projects/sanlab/shared/DEV/bids_data/derivatives/fmriprep/sub-DEV111/ses-wave1/func/s6_sub-DEV111_ses-wave1_task-SST_acq-1_bold_space-MNI152NLin2009cAsym_preproc.nii', '/gpfs/projects/sanlab/shared/DEV/bids_data/derivatives/fmriprep/sub-DEV014/ses-wave1/func/s6_sub-DEV014_ses-wave1_task-SST_acq-1_bold_space-MNI152NLin2009cAsym_preproc.nii', '/gpfs/projects/sanlab/shared/DEV/bids_data/derivatives/fmriprep/sub-DEV246/ses-wave1/func/s6_sub-DEV246_ses-wave1_task-SST_acq-1_bold_space-MNI152NLin2009cAsym_preproc.nii', '/gpfs/projects/sanlab/shared/DEV/bids_data/derivatives/fmriprep/sub-DEV083/ses-wave1/func/s6_sub-DEV083_ses-wave1_task-SST_acq-1_bold_space-MNI152NLin2009cAsym_preproc.nii', '/gpfs/projects/sanlab/shared/DEV/bids_data/derivatives/fmriprep/sub-DEV265/ses-wave1/func/s6_sub-DEV265_ses-wave1_task-SST_acq-1_bold_space-MNI152NLin2009cAsym_preproc.nii', '/gpfs/projects/sanlab/shared/DEV/bids_data/derivatives/fmriprep/sub-DEV255/ses-wave1/func/s6_sub-DEV255_ses-wave1_task-SST_acq-1_bold_space-MNI152NLin2009cAsym_preproc.nii', '/gpfs/projects/sanlab/shared/DEV/bids_data/derivatives/fmriprep/sub-DEV161/ses-wave1/func/s6_sub-DEV161_ses-wave1_task-SST_acq-1_bold_space-MNI152NLin2009cAsym_preproc.nii', '/gpfs/projects/sanlab/shared/DEV/bids_data/derivatives/fmriprep/sub-DEV026/ses-wave1/func/s6_sub-DEV026_ses-wave1_task-SST_acq-1_bold_space-MNI152NLin2009cAsym_preproc.nii', '/gpfs/projects/sanlab/shared/DEV/bids_data/derivatives/fmriprep/sub-DEV225/ses-wave1/func/s6_sub-DEV225_ses-wave1_task-SST_acq-1_bold_space-MNI152NLin2009cAsym_preproc.nii', '/gpfs/projects/sanlab/shared/DEV/bids_data/derivatives/fmriprep/sub-DEV044/ses-wave1/func/s6_sub-DEV044_ses-wave1_task-SST_acq-1_bold_space-MNI152NLin2009cAsym_preproc.nii', '/gpfs/projects/sanlab/shared/DEV/bids_data/derivatives/fmriprep/sub-DEV005/ses-wave1/func/s6_sub-DEV005_ses-wave1_task-SST_acq-1_bold_space-MNI152NLin2009cAsym_preproc.nii', '/gpfs/projects/sanlab/shared/DEV/bids_data/derivatives/fmriprep/sub-DEV095/ses-wave1/func/s6_sub-DEV095_ses-wave1_task-SST_acq-1_bold_space-MNI152NLin2009cAsym_preproc.nii', '/gpfs/projects/sanlab/shared/DEV/bids_data/derivatives/fmriprep/sub-DEV085/ses-wave1/func/s6_sub-DEV085_ses-wave1_task-SST_acq-1_bold_space-MNI152NLin2009cAsym_preproc.nii', '/gpfs/projects/sanlab/shared/DEV/bids_data/derivatives/fmriprep/sub-DEV240/ses-wave1/func/s6_sub-DEV240_ses-wave1_task-SST_acq-1_bold_space-MNI152NLin2009cAsym_preproc.nii', '/gpfs/projects/sanlab/shared/DEV/bids_data/derivatives/fmriprep/sub-DEV244/ses-wave1/func/s6_sub-DEV244_ses-wave1_task-SST_acq-1_bold_space-MNI152NLin2009cAsym_preproc.nii', '/gpfs/projects/sanlab/shared/DEV/bids_data/derivatives/fmriprep/sub-DEV195/ses-wave1/func/s6_sub-DEV195_ses-wave1_task-SST_acq-1_bold_space-MNI152NLin2009cAsym_preproc.nii', '/gpfs/projects/sanlab/shared/DEV/bids_data/derivatives/fmriprep/sub-DEV182/ses-wave1/func/s6_sub-DEV182_ses-wave1_task-SST_acq-1_bold_space-MNI152NLin2009cAsym_preproc.nii', '/gpfs/projects/sanlab/shared/DEV/bids_data/derivatives/fmriprep/sub-DEV291/ses-wave1/func/s6_sub-DEV291_ses-wave1_task-SST_acq-1_bold_space-MNI152NLin2009cAsym_preproc.nii', '/gpfs/projects/sanlab/shared/DEV/bids_data/derivatives/fmriprep/sub-DEV112/ses-wave1/func/s6_sub-DEV112_ses-wave1_task-SST_acq-1_bold_space-MNI152NLin2009cAsym_preproc.nii', '/gpfs/projects/sanlab/shared/DEV/bids_data/derivatives/fmriprep/sub-DEV278/ses-wave1/func/s6_sub-DEV278_ses-wave1_task-SST_acq-1_bold_space-MNI152NLin2009cAsym_preproc.nii', '/gpfs/projects/sanlab/shared/DEV/bids_data/derivatives/fmriprep/sub-DEV223/ses-wave1/func/s6_sub-DEV223_ses-wave1_task-SST_acq-1_bold_space-MNI152NLin2009cAsym_preproc.nii', '/gpfs/projects/sanlab/shared/DEV/bids_data/derivatives/fmriprep/sub-DEV025/ses-wave1/func/s6_sub-DEV025_ses-wave1_task-SST_acq-1_bold_space-MNI152NLin2009cAsym_preproc.nii', '/gpfs/projects/sanlab/shared/DEV/bids_data/derivatives/fmriprep/sub-DEV268/ses-wave1/func/s6_sub-DEV268_ses-wave1_task-SST_acq-1_bold_space-MNI152NLin2009cAsym_preproc.nii', '/gpfs/projects/sanlab/shared/DEV/bids_data/derivatives/fmriprep/sub-DEV260/ses-wave1/func/s6_sub-DEV260_ses-wave1_task-SST_acq-1_bold_space-MNI152NLin2009cAsym_preproc.nii', '/gpfs/projects/sanlab/shared/DEV/bids_data/derivatives/fmriprep/sub-DEV264/ses-wave1/func/s6_sub-DEV264_ses-wave1_task-SST_acq-1_bold_space-MNI152NLin2009cAsym_preproc.nii', '/gpfs/projects/sanlab/shared/DEV/bids_data/derivatives/fmriprep/sub-DEV254/ses-wave1/func/s6_sub-DEV254_ses-wave1_task-SST_acq-1_bold_space-MNI152NLin2009cAsym_preproc.nii', '/gpfs/projects/sanlab/shared/DEV/bids_data/derivatives/fmriprep/sub-DEV029/ses-wave1/func/s6_sub-DEV029_ses-wave1_task-SST_acq-1_bold_space-MNI152NLin2009cAsym_preproc.nii', '/gpfs/projects/sanlab/shared/DEV/bids_data/derivatives/fmriprep/sub-DEV230/ses-wave1/func/s6_sub-DEV230_ses-wave1_task-SST_acq-1_bold_space-MNI152NLin2009cAsym_preproc.nii', '/gpfs/projects/sanlab/shared/DEV/bids_data/derivatives/fmriprep/sub-DEV082/ses-wave1/func/s6_sub-DEV082_ses-wave1_task-SST_acq-1_bold_space-MNI152NLin2009cAsym_preproc.nii', '/gpfs/projects/sanlab/shared/DEV/bids_data/derivatives/fmriprep/sub-DEV243/ses-wave1/func/s6_sub-DEV243_ses-wave1_task-SST_acq-1_bold_space-MNI152NLin2009cAsym_preproc.nii', '/gpfs/projects/sanlab/shared/DEV/bids_data/derivatives/fmriprep/sub-DEV064/ses-wave1/func/s6_sub-DEV064_ses-wave1_task-SST_acq-1_bold_space-MNI152NLin2009cAsym_preproc.nii', '/gpfs/projects/sanlab/shared/DEV/bids_data/derivatives/fmriprep/sub-DEV042/ses-wave1/func/s6_sub-DEV042_ses-wave1_task-SST_acq-1_bold_space-MNI152NLin2009cAsym_preproc.nii', '/gpfs/projects/sanlab/shared/DEV/bids_data/derivatives/fmriprep/sub-DEV117/ses-wave1/func/s6_sub-DEV117_ses-wave1_task-SST_acq-1_bold_space-MNI152NLin2009cAsym_preproc.nii', '/gpfs/projects/sanlab/shared/DEV/bids_data/derivatives/fmriprep/sub-DEV196/ses-wave1/func/s6_sub-DEV196_ses-wave1_task-SST_acq-1_bold_space-MNI152NLin2009cAsym_preproc.nii', '/gpfs/projects/sanlab/shared/DEV/bids_data/derivatives/fmriprep/sub-DEV169/ses-wave1/func/s6_sub-DEV169_ses-wave1_task-SST_acq-1_bold_space-MNI152NLin2009cAsym_preproc.nii', '/gpfs/projects/sanlab/shared/DEV/bids_data/derivatives/fmriprep/sub-DEV159/ses-wave1/func/s6_sub-DEV159_ses-wave1_task-SST_acq-1_bold_space-MNI152NLin2009cAsym_preproc.nii', '/gpfs/projects/sanlab/shared/DEV/bids_data/derivatives/fmriprep/sub-DEV217/ses-wave1/func/s6_sub-DEV217_ses-wave1_task-SST_acq-1_bold_space-MNI152NLin2009cAsym_preproc.nii', '/gpfs/projects/sanlab/shared/DEV/bids_data/derivatives/fmriprep/sub-DEV180/ses-wave1/func/s6_sub-DEV180_ses-wave1_task-SST_acq-1_bold_space-MNI152NLin2009cAsym_preproc.nii', '/gpfs/projects/sanlab/shared/DEV/bids_data/derivatives/fmriprep/sub-DEV108/ses-wave1/func/s6_sub-DEV108_ses-wave1_task-SST_acq-1_bold_space-MNI152NLin2009cAsym_preproc.nii', '/gpfs/projects/sanlab/shared/DEV/bids_data/derivatives/fmriprep/sub-DEV119/ses-wave1/func/s6_sub-DEV119_ses-wave1_task-SST_acq-1_bold_space-MNI152NLin2009cAsym_preproc.nii', '/gpfs/projects/sanlab/shared/DEV/bids_data/derivatives/fmriprep/sub-DEV222/ses-wave1/func/s6_sub-DEV222_ses-wave1_task-SST_acq-1_bold_space-MNI152NLin2009cAsym_preproc.nii', '/gpfs/projects/sanlab/shared/DEV/bids_data/derivatives/fmriprep/sub-DEV227/ses-wave1/func/s6_sub-DEV227_ses-wave1_task-SST_acq-1_bold_space-MNI152NLin2009cAsym_preproc.nii', '/gpfs/projects/sanlab/shared/DEV/bids_data/derivatives/fmriprep/sub-DEV171/ses-wave1/func/s6_sub-DEV171_ses-wave1_task-SST_acq-1_bold_space-MNI152NLin2009cAsym_preproc.nii', '/gpfs/projects/sanlab/shared/DEV/bids_data/derivatives/fmriprep/sub-DEV193/ses-wave1/func/s6_sub-DEV193_ses-wave1_task-SST_acq-1_bold_space-MNI152NLin2009cAsym_preproc.nii', '/gpfs/projects/sanlab/shared/DEV/bids_data/derivatives/fmriprep/sub-DEV263/ses-wave1/func/s6_sub-DEV263_ses-wave1_task-SST_acq-1_bold_space-MNI152NLin2009cAsym_preproc.nii', '/gpfs/projects/sanlab/shared/DEV/bids_data/derivatives/fmriprep/sub-DEV120/ses-wave1/func/s6_sub-DEV120_ses-wave1_task-SST_acq-1_bold_space-MNI152NLin2009cAsym_preproc.nii', '/gpfs/projects/sanlab/shared/DEV/bids_data/derivatives/fmriprep/sub-DEV247/ses-wave1/func/s6_sub-DEV247_ses-wave1_task-SST_acq-1_bold_space-MNI152NLin2009cAsym_preproc.nii', '/gpfs/projects/sanlab/shared/DEV/bids_data/derivatives/fmriprep/sub-DEV076/ses-wave1/func/s6_sub-DEV076_ses-wave1_task-SST_acq-1_bold_space-MNI152NLin2009cAsym_preproc.nii', '/gpfs/projects/sanlab/shared/DEV/bids_data/derivatives/fmriprep/sub-DEV250/ses-wave1/func/s6_sub-DEV250_ses-wave1_task-SST_acq-1_bold_space-MNI152NLin2009cAsym_preproc.nii', '/gpfs/projects/sanlab/shared/DEV/bids_data/derivatives/fmriprep/sub-DEV105/ses-wave1/func/s6_sub-DEV105_ses-wave1_task-SST_acq-1_bold_space-MNI152NLin2009cAsym_preproc.nii', '/gpfs/projects/sanlab/shared/DEV/bids_data/derivatives/fmriprep/sub-DEV019/ses-wave1/func/s6_sub-DEV019_ses-wave1_task-SST_acq-1_bold_space-MNI152NLin2009cAsym_preproc.nii', '/gpfs/projects/sanlab/shared/DEV/bids_data/derivatives/fmriprep/sub-DEV068/ses-wave1/func/s6_sub-DEV068_ses-wave1_task-SST_acq-1_bold_space-MNI152NLin2009cAsym_preproc.nii', '/gpfs/projects/sanlab/shared/DEV/bids_data/derivatives/fmriprep/sub-DEV008/ses-wave1/func/s6_sub-DEV008_ses-wave1_task-SST_acq-1_bold_space-MNI152NLin2009cAsym_preproc.nii', '/gpfs/projects/sanlab/shared/DEV/bids_data/derivatives/fmriprep/sub-DEV238/ses-wave1/func/s6_sub-DEV238_ses-wave1_task-SST_acq-1_bold_space-MNI152NLin2009cAsym_preproc.nii', '/gpfs/projects/sanlab/shared/DEV/bids_data/derivatives/fmriprep/sub-DEV043/ses-wave1/func/s6_sub-DEV043_ses-wave1_task-SST_acq-1_bold_space-MNI152NLin2009cAsym_preproc.nii', '/gpfs/projects/sanlab/shared/DEV/bids_data/derivatives/fmriprep/sub-DEV107/ses-wave1/func/s6_sub-DEV107_ses-wave1_task-SST_acq-1_bold_space-MNI152NLin2009cAsym_preproc.nii', '/gpfs/projects/sanlab/shared/DEV/bids_data/derivatives/fmriprep/sub-DEV269/ses-wave1/func/s6_sub-DEV269_ses-wave1_task-SST_acq-1_bold_space-MNI152NLin2009cAsym_preproc.nii', '/gpfs/projects/sanlab/shared/DEV/bids_data/derivatives/fmriprep/sub-DEV221/ses-wave1/func/s6_sub-DEV221_ses-wave1_task-SST_acq-1_bold_space-MNI152NLin2009cAsym_preproc.nii', '/gpfs/projects/sanlab/shared/DEV/bids_data/derivatives/fmriprep/sub-DEV177/ses-wave1/func/s6_sub-DEV177_ses-wave1_task-SST_acq-1_bold_space-MNI152NLin2009cAsym_preproc.nii', '/gpfs/projects/sanlab/shared/DEV/bids_data/derivatives/fmriprep/sub-DEV210/ses-wave1/func/s6_sub-DEV210_ses-wave1_task-SST_acq-1_bold_space-MNI152NLin2009cAsym_preproc.nii', '/gpfs/projects/sanlab/shared/DEV/bids_data/derivatives/fmriprep/sub-DEV114/ses-wave1/func/s6_sub-DEV114_ses-wave1_task-SST_acq-1_bold_space-MNI152NLin2009cAsym_preproc.nii', '/gpfs/projects/sanlab/shared/DEV/bids_data/derivatives/fmriprep/sub-DEV038/ses-wave1/func/s6_sub-DEV038_ses-wave1_task-SST_acq-1_bold_space-MNI152NLin2009cAsym_preproc.nii', '/gpfs/projects/sanlab/shared/DEV/bids_data/derivatives/fmriprep/sub-DEV272/ses-wave1/func/s6_sub-DEV272_ses-wave1_task-SST_acq-1_bold_space-MNI152NLin2009cAsym_preproc.nii', '/gpfs/projects/sanlab/shared/DEV/bids_data/derivatives/fmriprep/sub-DEV090/ses-wave1/func/s6_sub-DEV090_ses-wave1_task-SST_acq-1_bold_space-MNI152NLin2009cAsym_preproc.nii', '/gpfs/projects/sanlab/shared/DEV/bids_data/derivatives/fmriprep/sub-DEV257/ses-wave1/func/s6_sub-DEV257_ses-wave1_task-SST_acq-1_bold_space-MNI152NLin2009cAsym_preproc.nii', '/gpfs/projects/sanlab/shared/DEV/bids_data/derivatives/fmriprep/sub-DEV232/ses-wave1/func/s6_sub-DEV232_ses-wave1_task-SST_acq-1_bold_space-MNI152NLin2009cAsym_preproc.nii', '/gpfs/projects/sanlab/shared/DEV/bids_data/derivatives/fmriprep/sub-DEV028/ses-wave1/func/s6_sub-DEV028_ses-wave1_task-SST_acq-1_bold_space-MNI152NLin2009cAsym_preproc.nii', '/gpfs/projects/sanlab/shared/DEV/bids_data/derivatives/fmriprep/sub-DEV133/ses-wave1/func/s6_sub-DEV133_ses-wave1_task-SST_acq-1_bold_space-MNI152NLin2009cAsym_preproc.nii', '/gpfs/projects/sanlab/shared/DEV/bids_data/derivatives/fmriprep/sub-DEV060/ses-wave1/func/s6_sub-DEV060_ses-wave1_task-SST_acq-1_bold_space-MNI152NLin2009cAsym_preproc.nii', '/gpfs/projects/sanlab/shared/DEV/bids_data/derivatives/fmriprep/sub-DEV067/ses-wave1/func/s6_sub-DEV067_ses-wave1_task-SST_acq-1_bold_space-MNI152NLin2009cAsym_preproc.nii', '/gpfs/projects/sanlab/shared/DEV/bids_data/derivatives/fmriprep/sub-DEV197/ses-wave1/func/s6_sub-DEV197_ses-wave1_task-SST_acq-1_bold_space-MNI152NLin2009cAsym_preproc.nii', '/gpfs/projects/sanlab/shared/DEV/bids_data/derivatives/fmriprep/sub-DEV253/ses-wave1/func/s6_sub-DEV253_ses-wave1_task-SST_acq-1_bold_space-MNI152NLin2009cAsym_preproc.nii', '/gpfs/projects/sanlab/shared/DEV/bids_data/derivatives/fmriprep/sub-DEV075/ses-wave1/func/s6_sub-DEV075_ses-wave1_task-SST_acq-1_bold_space-MNI152NLin2009cAsym_preproc.nii', '/gpfs/projects/sanlab/shared/DEV/bids_data/derivatives/fmriprep/sub-DEV219/ses-wave1/func/s6_sub-DEV219_ses-wave1_task-SST_acq-1_bold_space-MNI152NLin2009cAsym_preproc.nii', '/gpfs/projects/sanlab/shared/DEV/bids_data/derivatives/fmriprep/sub-DEV091/ses-wave1/func/s6_sub-DEV091_ses-wave1_task-SST_acq-1_bold_space-MNI152NLin2009cAsym_preproc.nii', '/gpfs/projects/sanlab/shared/DEV/bids_data/derivatives/fmriprep/sub-DEV059/ses-wave1/func/s6_sub-DEV059_ses-wave1_task-SST_acq-1_bold_space-MNI152NLin2009cAsym_preproc.nii', '/gpfs/projects/sanlab/shared/DEV/bids_data/derivatives/fmriprep/sub-DEV110/ses-wave1/func/s6_sub-DEV110_ses-wave1_task-SST_acq-1_bold_space-MNI152NLin2009cAsym_preproc.nii', '/gpfs/projects/sanlab/shared/DEV/bids_data/derivatives/fmriprep/sub-DEV191/ses-wave1/func/s6_sub-DEV191_ses-wave1_task-SST_acq-1_bold_space-MNI152NLin2009cAsym_preproc.nii', '/gpfs/projects/sanlab/shared/DEV/bids_data/derivatives/fmriprep/sub-DEV231/ses-wave1/func/s6_sub-DEV231_ses-wave1_task-SST_acq-1_bold_space-MNI152NLin2009cAsym_preproc.nii', '/gpfs/projects/sanlab/shared/DEV/bids_data/derivatives/fmriprep/sub-DEV099/ses-wave1/func/s6_sub-DEV099_ses-wave1_task-SST_acq-1_bold_space-MNI152NLin2009cAsym_preproc.nii', '/gpfs/projects/sanlab/shared/DEV/bids_data/derivatives/fmriprep/sub-DEV037/ses-wave1/func/s6_sub-DEV037_ses-wave1_task-SST_acq-1_bold_space-MNI152NLin2009cAsym_preproc.nii', '/gpfs/projects/sanlab/shared/DEV/bids_data/derivatives/fmriprep/sub-DEV012/ses-wave1/func/s6_sub-DEV012_ses-wave1_task-SST_acq-1_bold_space-MNI152NLin2009cAsym_preproc.nii', '/gpfs/projects/sanlab/shared/DEV/bids_data/derivatives/fmriprep/sub-DEV027/ses-wave1/func/s6_sub-DEV027_ses-wave1_task-SST_acq-1_bold_space-MNI152NLin2009cAsym_preproc.nii', '/gpfs/projects/sanlab/shared/DEV/bids_data/derivatives/fmriprep/sub-DEV056/ses-wave1/func/s6_sub-DEV056_ses-wave1_task-SST_acq-1_bold_space-MNI152NLin2009cAsym_preproc.nii', '/gpfs/projects/sanlab/shared/DEV/bids_data/derivatives/fmriprep/sub-DEV088/ses-wave1/func/s6_sub-DEV088_ses-wave1_task-SST_acq-1_bold_space-MNI152NLin2009cAsym_preproc.nii', '/gpfs/projects/sanlab/shared/DEV/bids_data/derivatives/fmriprep/sub-DEV022/ses-wave1/func/s6_sub-DEV022_ses-wave1_task-SST_acq-1_bold_space-MNI152NLin2009cAsym_preproc.nii', '/gpfs/projects/sanlab/shared/DEV/bids_data/derivatives/fmriprep/sub-DEV102/ses-wave1/func/s6_sub-DEV102_ses-wave1_task-SST_acq-1_bold_space-MNI152NLin2009cAsym_preproc.nii', '/gpfs/projects/sanlab/shared/DEV/bids_data/derivatives/fmriprep/sub-DEV252/ses-wave1/func/s6_sub-DEV252_ses-wave1_task-SST_acq-1_bold_space-MNI152NLin2009cAsym_preproc.nii', '/gpfs/projects/sanlab/shared/DEV/bids_data/derivatives/fmriprep/sub-DEV016/ses-wave1/func/s6_sub-DEV016_ses-wave1_task-SST_acq-1_bold_space-MNI152NLin2009cAsym_preproc.nii', '/gpfs/projects/sanlab/shared/DEV/bids_data/derivatives/fmriprep/sub-DEV070/ses-wave1/func/s6_sub-DEV070_ses-wave1_task-SST_acq-1_bold_space-MNI152NLin2009cAsym_preproc.nii', '/gpfs/projects/sanlab/shared/DEV/bids_data/derivatives/fmriprep/sub-DEV241/ses-wave1/func/s6_sub-DEV241_ses-wave1_task-SST_acq-1_bold_space-MNI152NLin2009cAsym_preproc.nii', '/gpfs/projects/sanlab/shared/DEV/bids_data/derivatives/fmriprep/sub-DEV166/ses-wave1/func/s6_sub-DEV166_ses-wave1_task-SST_acq-1_bold_space-MNI152NLin2009cAsym_preproc.nii', '/gpfs/projects/sanlab/shared/DEV/bids_data/derivatives/fmriprep/sub-DEV178/ses-wave1/func/s6_sub-DEV178_ses-wave1_task-SST_acq-1_bold_space-MNI152NLin2009cAsym_preproc.nii', '/gpfs/projects/sanlab/shared/DEV/bids_data/derivatives/fmriprep/sub-DEV046/ses-wave1/func/s6_sub-DEV046_ses-wave1_task-SST_acq-1_bold_space-MNI152NLin2009cAsym_preproc.nii', '/gpfs/projects/sanlab/shared/DEV/bids_data/derivatives/fmriprep/sub-DEV055/ses-wave1/func/s6_sub-DEV055_ses-wave1_task-SST_acq-1_bold_space-MNI152NLin2009cAsym_preproc.nii', '/gpfs/projects/sanlab/shared/DEV/bids_data/derivatives/fmriprep/sub-DEV097/ses-wave1/func/s6_sub-DEV097_ses-wave1_task-SST_acq-1_bold_space-MNI152NLin2009cAsym_preproc.nii', '/gpfs/projects/sanlab/shared/DEV/bids_data/derivatives/fmriprep/sub-DEV080/ses-wave1/func/s6_sub-DEV080_ses-wave1_task-SST_acq-1_bold_space-MNI152NLin2009cAsym_preproc.nii', '/gpfs/projects/sanlab/shared/DEV/bids_data/derivatives/fmriprep/sub-DEV087/ses-wave1/func/s6_sub-DEV087_ses-wave1_task-SST_acq-1_bold_space-MNI152NLin2009cAsym_preproc.nii', '/gpfs/projects/sanlab/shared/DEV/bids_data/derivatives/fmriprep/sub-DEV249/ses-wave1/func/s6_sub-DEV249_ses-wave1_task-SST_acq-1_bold_space-MNI152NLin2009cAsym_preproc.nii', '/gpfs/projects/sanlab/shared/DEV/bids_data/derivatives/fmriprep/sub-DEV063/ses-wave1/func/s6_sub-DEV063_ses-wave1_task-SST_acq-1_bold_space-MNI152NLin2009cAsym_preproc.nii', '/gpfs/projects/sanlab/shared/DEV/bids_data/derivatives/fmriprep/sub-DEV270/ses-wave1/func/s6_sub-DEV270_ses-wave1_task-SST_acq-1_bold_space-MNI152NLin2009cAsym_preproc.nii', '/gpfs/projects/sanlab/shared/DEV/bids_data/derivatives/fmriprep/sub-DEV276/ses-wave1/func/s6_sub-DEV276_ses-wave1_task-SST_acq-1_bold_space-MNI152NLin2009cAsym_preproc.nii', '/gpfs/projects/sanlab/shared/DEV/bids_data/derivatives/fmriprep/sub-DEV052/ses-wave1/func/s6_sub-DEV052_ses-wave1_task-SST_acq-1_bold_space-MNI152NLin2009cAsym_preproc.nii', '/gpfs/projects/sanlab/shared/DEV/bids_data/derivatives/fmriprep/sub-DEV233/ses-wave1/func/s6_sub-DEV233_ses-wave1_task-SST_acq-1_bold_space-MNI152NLin2009cAsym_preproc.nii', '/gpfs/projects/sanlab/shared/DEV/bids_data/derivatives/fmriprep/sub-DEV071/ses-wave1/func/s6_sub-DEV071_ses-wave1_task-SST_acq-1_bold_space-MNI152NLin2009cAsym_preproc.nii', '/gpfs/projects/sanlab/shared/DEV/bids_data/derivatives/fmriprep/sub-DEV081/ses-wave1/func/s6_sub-DEV081_ses-wave1_task-SST_acq-1_bold_space-MNI152NLin2009cAsym_preproc.nii', '/gpfs/projects/sanlab/shared/DEV/bids_data/derivatives/fmriprep/sub-DEV040/ses-wave1/func/s6_sub-DEV040_ses-wave1_task-SST_acq-1_bold_space-MNI152NLin2009cAsym_preproc.nii', '/gpfs/projects/sanlab/shared/DEV/bids_data/derivatives/fmriprep/sub-DEV261/ses-wave1/func/s6_sub-DEV261_ses-wave1_task-SST_acq-1_bold_space-MNI152NLin2009cAsym_preproc.nii', '/gpfs/projects/sanlab/shared/DEV/bids_data/derivatives/fmriprep/sub-DEV015/ses-wave1/func/s6_sub-DEV015_ses-wave1_task-SST_acq-1_bold_space-MNI152NLin2009cAsym_preproc.nii', '/gpfs/projects/sanlab/shared/DEV/bids_data/derivatives/fmriprep/sub-DEV275/ses-wave1/func/s6_sub-DEV275_ses-wave1_task-SST_acq-1_bold_space-MNI152NLin2009cAsym_preproc.nii', '/gpfs/projects/sanlab/shared/DEV/bids_data/derivatives/fmriprep/sub-DEV066/ses-wave1/func/s6_sub-DEV066_ses-wave1_task-SST_acq-1_bold_space-MNI152NLin2009cAsym_preproc.nii', '/gpfs/projects/sanlab/shared/DEV/bids_data/derivatives/fmriprep/sub-DEV273/ses-wave1/func/s6_sub-DEV273_ses-wave1_task-SST_acq-1_bold_space-MNI152NLin2009cAsym_preproc.nii', '/gpfs/projects/sanlab/shared/DEV/bids_data/derivatives/fmriprep/sub-DEV089/ses-wave1/func/s6_sub-DEV089_ses-wave1_task-SST_acq-1_bold_space-MNI152NLin2009cAsym_preproc.nii', '/gpfs/projects/sanlab/shared/DEV/bids_data/derivatives/fmriprep/sub-DEV045/ses-wave1/func/s6_sub-DEV045_ses-wave1_task-SST_acq-1_bold_space-MNI152NLin2009cAsym_preproc.nii', '/gpfs/projects/sanlab/shared/DEV/bids_data/derivatives/fmriprep/sub-DEV228/ses-wave1/func/s6_sub-DEV228_ses-wave1_task-SST_acq-1_bold_space-MNI152NLin2009cAsym_preproc.nii', '/gpfs/projects/sanlab/shared/DEV/bids_data/derivatives/fmriprep/sub-DEV218/ses-wave1/func/s6_sub-DEV218_ses-wave1_task-SST_acq-1_bold_space-MNI152NLin2009cAsym_preproc.nii', '/gpfs/projects/sanlab/shared/DEV/bids_data/derivatives/fmriprep/sub-DEV039/ses-wave1/func/s6_sub-DEV039_ses-wave1_task-SST_acq-1_bold_space-MNI152NLin2009cAsym_preproc.nii', '/gpfs/projects/sanlab/shared/DEV/bids_data/derivatives/fmriprep/sub-DEV282/ses-wave1/func/s6_sub-DEV282_ses-wave1_task-SST_acq-1_bold_space-MNI152NLin2009cAsym_preproc.nii', '/gpfs/projects/sanlab/shared/DEV/bids_data/derivatives/fmriprep/sub-DEV127/ses-wave1/func/s6_sub-DEV127_ses-wave1_task-SST_acq-1_bold_space-MNI152NLin2009cAsym_preproc.nii', '/gpfs/projects/sanlab/shared/DEV/bids_data/derivatives/fmriprep/sub-DEV286/ses-wave1/func/s6_sub-DEV286_ses-wave1_task-SST_acq-1_bold_space-MNI152NLin2009cAsym_preproc.nii', '/gpfs/projects/sanlab/shared/DEV/bids_data/derivatives/fmriprep/sub-DEV011/ses-wave1/func/s6_sub-DEV011_ses-wave1_task-SST_acq-1_bold_space-MNI152NLin2009cAsym_preproc.nii', '/gpfs/projects/sanlab/shared/DEV/bids_data/derivatives/fmriprep/sub-DEV141/ses-wave1/func/s6_sub-DEV141_ses-wave1_task-SST_acq-1_bold_space-MNI152NLin2009cAsym_preproc.nii', '/gpfs/projects/sanlab/shared/DEV/bids_data/derivatives/fmriprep/sub-DEV041/ses-wave1/func/s6_sub-DEV041_ses-wave1_task-SST_acq-1_bold_space-MNI152NLin2009cAsym_preproc.nii', '/gpfs/projects/sanlab/shared/DEV/bids_data/derivatives/fmriprep/sub-DEV281/ses-wave1/func/s6_sub-DEV281_ses-wave1_task-SST_acq-1_bold_space-MNI152NLin2009cAsym_preproc.nii', '/gpfs/projects/sanlab/shared/DEV/bids_data/derivatives/fmriprep/sub-DEV049/ses-wave1/func/s6_sub-DEV049_ses-wave1_task-SST_acq-1_bold_space-MNI152NLin2009cAsym_preproc.nii', '/gpfs/projects/sanlab/shared/DEV/bids_data/derivatives/fmriprep/sub-DEV007/ses-wave1/func/s6_sub-DEV007_ses-wave1_task-SST_acq-1_bold_space-MNI152NLin2009cAsym_preproc.nii', '/gpfs/projects/sanlab/shared/DEV/bids_data/derivatives/fmriprep/sub-DEV065/ses-wave1/func/s6_sub-DEV065_ses-wave1_task-SST_acq-1_bold_space-MNI152NLin2009cAsym_preproc.nii', '/gpfs/projects/sanlab/shared/DEV/bids_data/derivatives/fmriprep/sub-DEV073/ses-wave1/func/s6_sub-DEV073_ses-wave1_task-SST_acq-1_bold_space-MNI152NLin2009cAsym_preproc.nii', '/gpfs/projects/sanlab/shared/DEV/bids_data/derivatives/fmriprep/sub-DEV251/ses-wave1/func/s6_sub-DEV251_ses-wave1_task-SST_acq-1_bold_space-MNI152NLin2009cAsym_preproc.nii', '/gpfs/projects/sanlab/shared/DEV/bids_data/derivatives/fmriprep/sub-DEV123/ses-wave1/func/s6_sub-DEV123_ses-wave1_task-SST_acq-1_bold_space-MNI152NLin2009cAsym_preproc.nii', '/gpfs/projects/sanlab/shared/DEV/bids_data/derivatives/fmriprep/sub-DEV168/ses-wave1/func/s6_sub-DEV168_ses-wave1_task-SST_acq-1_bold_space-MNI152NLin2009cAsym_preproc.nii', '/gpfs/projects/sanlab/shared/DEV/bids_data/derivatives/fmriprep/sub-DEV158/ses-wave1/func/s6_sub-DEV158_ses-wave1_task-SST_acq-1_bold_space-MNI152NLin2009cAsym_preproc.nii', '/gpfs/projects/sanlab/shared/DEV/bids_data/derivatives/fmriprep/sub-DEV004/ses-wave1/func/s6_sub-DEV004_ses-wave1_task-SST_acq-1_bold_space-MNI152NLin2009cAsym_preproc.nii', '/gpfs/projects/sanlab/shared/DEV/bids_data/derivatives/fmriprep/sub-DEV285/ses-wave1/func/s6_sub-DEV285_ses-wave1_task-SST_acq-1_bold_space-MNI152NLin2009cAsym_preproc.nii', '/gpfs/projects/sanlab/shared/DEV/bids_data/derivatives/fmriprep/sub-DEV211/ses-wave1/func/s6_sub-DEV211_ses-wave1_task-SST_acq-1_bold_space-MNI152NLin2009cAsym_preproc.nii', '/gpfs/projects/sanlab/shared/DEV/bids_data/derivatives/fmriprep/sub-DEV258/ses-wave1/func/s6_sub-DEV258_ses-wave1_task-SST_acq-1_bold_space-MNI152NLin2009cAsym_preproc.nii', '/gpfs/projects/sanlab/shared/DEV/bids_data/derivatives/fmriprep/sub-DEV259/ses-wave1/func/s6_sub-DEV259_ses-wave1_task-SST_acq-1_bold_space-MNI152NLin2009cAsym_preproc.nii', '/gpfs/projects/sanlab/shared/DEV/bids_data/derivatives/fmriprep/sub-DEV277/ses-wave1/func/s6_sub-DEV277_ses-wave1_task-SST_acq-1_bold_space-MNI152NLin2009cAsym_preproc.nii', '/gpfs/projects/sanlab/shared/DEV/bids_data/derivatives/fmriprep/sub-DEV135/ses-wave1/func/s6_sub-DEV135_ses-wave1_task-SST_acq-1_bold_space-MNI152NLin2009cAsym_preproc.nii', '/gpfs/projects/sanlab/shared/DEV/bids_data/derivatives/fmriprep/sub-DEV094/ses-wave1/func/s6_sub-DEV094_ses-wave1_task-SST_acq-1_bold_space-MNI152NLin2009cAsym_preproc.nii', '/gpfs/projects/sanlab/shared/DEV/bids_data/derivatives/fmriprep/sub-DEV093/ses-wave1/func/s6_sub-DEV093_ses-wave1_task-SST_acq-1_bold_space-MNI152NLin2009cAsym_preproc.nii', '/gpfs/projects/sanlab/shared/DEV/bids_data/derivatives/fmriprep/sub-DEV164/ses-wave1/func/s6_sub-DEV164_ses-wave1_task-SST_acq-1_bold_space-MNI152NLin2009cAsym_preproc.nii', '/gpfs/projects/sanlab/shared/DEV/bids_data/derivatives/fmriprep/sub-DEV084/ses-wave1/func/s6_sub-DEV084_ses-wave1_task-SST_acq-1_bold_space-MNI152NLin2009cAsym_preproc.nii', '/gpfs/projects/sanlab/shared/DEV/bids_data/derivatives/fmriprep/sub-DEV176/ses-wave1/func/s6_sub-DEV176_ses-wave1_task-SST_acq-1_bold_space-MNI152NLin2009cAsym_preproc.nii', '/gpfs/projects/sanlab/shared/DEV/bids_data/derivatives/fmriprep/sub-DEV021/ses-wave1/func/s6_sub-DEV021_ses-wave1_task-SST_acq-1_bold_space-MNI152NLin2009cAsym_preproc.nii', '/gpfs/projects/sanlab/shared/DEV/bids_data/derivatives/fmriprep/sub-DEV009/ses-wave1/func/s6_sub-DEV009_ses-wave1_task-SST_acq-1_bold_space-MNI152NLin2009cAsym_preproc.nii', '/gpfs/projects/sanlab/shared/DEV/bids_data/derivatives/fmriprep/sub-DEV235/ses-wave1/func/s6_sub-DEV235_ses-wave1_task-SST_acq-1_bold_space-MNI152NLin2009cAsym_preproc.nii', '/gpfs/projects/sanlab/shared/DEV/bids_data/derivatives/fmriprep/sub-DEV034/ses-wave1/func/s6_sub-DEV034_ses-wave1_task-SST_acq-1_bold_space-MNI152NLin2009cAsym_preproc.nii', '/gpfs/projects/sanlab/shared/DEV/bids_data/derivatives/fmriprep/sub-DEV284/ses-wave1/func/s6_sub-DEV284_ses-wave1_task-SST_acq-1_bold_space-MNI152NLin2009cAsym_preproc.nii', '/gpfs/projects/sanlab/shared/DEV/bids_data/derivatives/fmriprep/sub-DEV024/ses-wave1/func/s6_sub-DEV024_ses-wave1_task-SST_acq-1_bold_space-MNI152NLin2009cAsym_preproc.nii', '/gpfs/projects/sanlab/shared/DEV/bids_data/derivatives/fmriprep/sub-DEV144/ses-wave1/func/s6_sub-DEV144_ses-wave1_task-SST_acq-1_bold_space-MNI152NLin2009cAsym_preproc.nii', '/gpfs/projects/sanlab/shared/DEV/bids_data/derivatives/fmriprep/sub-DEV183/ses-wave1/func/s6_sub-DEV183_ses-wave1_task-SST_acq-1_bold_space-MNI152NLin2009cAsym_preproc.nii', '/gpfs/projects/sanlab/shared/DEV/bids_data/derivatives/fmriprep/sub-DEV236/ses-wave1/func/s6_sub-DEV236_ses-wave1_task-SST_acq-1_bold_space-MNI152NLin2009cAsym_preproc.nii', '/gpfs/projects/sanlab/shared/DEV/bids_data/derivatives/fmriprep/sub-DEV078/ses-wave1/func/s6_sub-DEV078_ses-wave1_task-SST_acq-1_bold_space-MNI152NLin2009cAsym_preproc.nii', '/gpfs/projects/sanlab/shared/DEV/bids_data/derivatives/fmriprep/sub-DEV118/ses-wave1/func/s6_sub-DEV118_ses-wave1_task-SST_acq-1_bold_space-MNI152NLin2009cAsym_preproc.nii', '/gpfs/projects/sanlab/shared/DEV/bids_data/derivatives/fmriprep/sub-DEV290/ses-wave1/func/s6_sub-DEV290_ses-wave1_task-SST_acq-1_bold_space-MNI152NLin2009cAsym_preproc.nii', '/gpfs/projects/sanlab/shared/DEV/bids_data/derivatives/fmriprep/sub-DEV074/ses-wave1/func/s6_sub-DEV074_ses-wave1_task-SST_acq-1_bold_space-MNI152NLin2009cAsym_preproc.nii', '/gpfs/projects/sanlab/shared/DEV/bids_data/derivatives/fmriprep/sub-DEV062/ses-wave1/func/s6_sub-DEV062_ses-wave1_task-SST_acq-1_bold_space-MNI152NLin2009cAsym_preproc.nii', '/gpfs/projects/sanlab/shared/DEV/bids_data/derivatives/fmriprep/sub-DEV150/ses-wave1/func/s6_sub-DEV150_ses-wave1_task-SST_acq-1_bold_space-MNI152NLin2009cAsym_preproc.nii', '/gpfs/projects/sanlab/shared/DEV/bids_data/derivatives/fmriprep/sub-DEV234/ses-wave1/func/s6_sub-DEV234_ses-wave1_task-SST_acq-1_bold_space-MNI152NLin2009cAsym_preproc.nii', '/gpfs/projects/sanlab/shared/DEV/bids_data/derivatives/fmriprep/sub-DEV239/ses-wave1/func/s6_sub-DEV239_ses-wave1_task-SST_acq-1_bold_space-MNI152NLin2009cAsym_preproc.nii', '/gpfs/projects/sanlab/shared/DEV/bids_data/derivatives/fmriprep/sub-DEV106/ses-wave1/func/s6_sub-DEV106_ses-wave1_task-SST_acq-1_bold_space-MNI152NLin2009cAsym_preproc.nii', '/gpfs/projects/sanlab/shared/DEV/bids_data/derivatives/fmriprep/sub-DEV173/ses-wave1/func/s6_sub-DEV173_ses-wave1_task-SST_acq-1_bold_space-MNI152NLin2009cAsym_preproc.nii', '/gpfs/projects/sanlab/shared/DEV/bids_data/derivatives/fmriprep/sub-DEV271/ses-wave1/func/s6_sub-DEV271_ses-wave1_task-SST_acq-1_bold_space-MNI152NLin2009cAsym_preproc.nii', '/gpfs/projects/sanlab/shared/DEV/bids_data/derivatives/fmriprep/sub-DEV050/ses-wave1/func/s6_sub-DEV050_ses-wave1_task-SST_acq-1_bold_space-MNI152NLin2009cAsym_preproc.nii', '/gpfs/projects/sanlab/shared/DEV/bids_data/derivatives/fmriprep/sub-DEV156/ses-wave1/func/s6_sub-DEV156_ses-wave1_task-SST_acq-1_bold_space-MNI152NLin2009cAsym_preproc.nii', '/gpfs/projects/sanlab/shared/DEV/bids_data/derivatives/fmriprep/sub-DEV267/ses-wave1/func/s6_sub-DEV267_ses-wave1_task-SST_acq-1_bold_space-MNI152NLin2009cAsym_preproc.nii', '/gpfs/projects/sanlab/shared/DEV/bids_data/derivatives/fmriprep/sub-DEV036/ses-wave1/func/s6_sub-DEV036_ses-wave1_task-SST_acq-1_bold_space-MNI152NLin2009cAsym_preproc.nii', '/gpfs/projects/sanlab/shared/DEV/bids_data/derivatives/fmriprep/sub-DEV155/ses-wave1/func/s6_sub-DEV155_ses-wave1_task-SST_acq-1_bold_space-MNI152NLin2009cAsym_preproc.nii', '/gpfs/projects/sanlab/shared/DEV/bids_data/derivatives/fmriprep/sub-DEV031/ses-wave1/func/s6_sub-DEV031_ses-wave1_task-SST_acq-1_bold_space-MNI152NLin2009cAsym_preproc.nii', '/gpfs/projects/sanlab/shared/DEV/bids_data/derivatives/fmriprep/sub-DEV206/ses-wave1/func/s6_sub-DEV206_ses-wave1_task-SST_acq-1_bold_space-MNI152NLin2009cAsym_preproc.nii', '/gpfs/projects/sanlab/shared/DEV/bids_data/derivatives/fmriprep/sub-DEV209/ses-wave1/func/s6_sub-DEV209_ses-wave1_task-SST_acq-1_bold_space-MNI152NLin2009cAsym_preproc.nii', '/gpfs/projects/sanlab/shared/DEV/bids_data/derivatives/fmriprep/sub-DEV077/ses-wave1/func/s6_sub-DEV077_ses-wave1_task-SST_acq-1_bold_space-MNI152NLin2009cAsym_preproc.nii', '/gpfs/projects/sanlab/shared/DEV/bids_data/derivatives/fmriprep/sub-DEV051/ses-wave1/func/s6_sub-DEV051_ses-wave1_task-SST_acq-1_bold_space-MNI152NLin2009cAsym_preproc.nii', '/gpfs/projects/sanlab/shared/DEV/bids_data/derivatives/fmriprep/sub-DEV113/ses-wave1/func/s6_sub-DEV113_ses-wave1_task-SST_acq-1_bold_space-MNI152NLin2009cAsym_preproc.nii', '/gpfs/projects/sanlab/shared/DEV/bids_data/derivatives/fmriprep/sub-DEV100/ses-wave1/func/s6_sub-DEV100_ses-wave1_task-SST_acq-1_bold_space-MNI152NLin2009cAsym_preproc.nii', '/gpfs/projects/sanlab/shared/DEV/bids_data/derivatives/fmriprep/sub-DEV172/ses-wave1/func/s6_sub-DEV172_ses-wave1_task-SST_acq-1_bold_space-MNI152NLin2009cAsym_preproc.nii', '/gpfs/projects/sanlab/shared/DEV/bids_data/derivatives/fmriprep/sub-DEV274/ses-wave1/func/s6_sub-DEV274_ses-wave1_task-SST_acq-1_bold_space-MNI152NLin2009cAsym_preproc.nii', '/gpfs/projects/sanlab/shared/DEV/bids_data/derivatives/fmriprep/sub-DEV121/ses-wave1/func/s6_sub-DEV121_ses-wave1_task-SST_acq-1_bold_space-MNI152NLin2009cAsym_preproc.nii', '/gpfs/projects/sanlab/shared/DEV/bids_data/derivatives/fmriprep/sub-DEV072/ses-wave1/func/s6_sub-DEV072_ses-wave1_task-SST_acq-1_bold_space-MNI152NLin2009cAsym_preproc.nii', '/gpfs/projects/sanlab/shared/DEV/bids_data/derivatives/fmriprep/sub-DEV205/ses-wave1/func/s6_sub-DEV205_ses-wave1_task-SST_acq-1_bold_space-MNI152NLin2009cAsym_preproc.nii', '/gpfs/projects/sanlab/shared/DEV/bids_data/derivatives/fmriprep/sub-DEV013/ses-wave1/func/s6_sub-DEV013_ses-wave1_task-SST_acq-1_bold_space-MNI152NLin2009cAsym_preproc.nii', '/gpfs/projects/sanlab/shared/DEV/bids_data/derivatives/fmriprep/sub-DEV023/ses-wave1/func/s6_sub-DEV023_ses-wave1_task-SST_acq-1_bold_space-MNI152NLin2009cAsym_preproc.nii', '/gpfs/projects/sanlab/shared/DEV/bids_data/derivatives/fmriprep/sub-DEV001/ses-wave1/func/s6_sub-DEV001_ses-wave1_task-SST_acq-1_bold_space-MNI152NLin2009cAsym_preproc.nii', '/gpfs/projects/sanlab/shared/DEV/bids_data/derivatives/fmriprep/sub-DEV058/ses-wave1/func/s6_sub-DEV058_ses-wave1_task-SST_acq-1_bold_space-MNI152NLin2009cAsym_preproc.nii', '/gpfs/projects/sanlab/shared/DEV/bids_data/derivatives/fmriprep/sub-DEV035/ses-wave1/func/s6_sub-DEV035_ses-wave1_task-SST_acq-1_bold_space-MNI152NLin2009cAsym_preproc.nii', '/gpfs/projects/sanlab/shared/DEV/bids_data/derivatives/fmriprep/sub-DEV020/ses-wave1/func/s6_sub-DEV020_ses-wave1_task-SST_acq-1_bold_space-MNI152NLin2009cAsym_preproc.nii', '/gpfs/projects/sanlab/shared/DEV/bids_data/derivatives/fmriprep/sub-DEV069/ses-wave1/func/s6_sub-DEV069_ses-wave1_task-SST_acq-1_bold_space-MNI152NLin2009cAsym_preproc.nii', '/gpfs/projects/sanlab/shared/DEV/bids_data/derivatives/fmriprep/sub-DEV137/ses-wave1/func/s6_sub-DEV137_ses-wave1_task-SST_acq-1_bold_space-MNI152NLin2009cAsym_preproc.nii', '/gpfs/projects/sanlab/shared/DEV/bids_data/derivatives/fmriprep/sub-DEV096/ses-wave1/func/s6_sub-DEV096_ses-wave1_task-SST_acq-1_bold_space-MNI152NLin2009cAsym_preproc.nii', '/gpfs/projects/sanlab/shared/DEV/bids_data/derivatives/fmriprep/sub-DEV086/ses-wave1/func/s6_sub-DEV086_ses-wave1_task-SST_acq-1_bold_space-MNI152NLin2009cAsym_preproc.nii', '/gpfs/projects/sanlab/shared/DEV/bids_data/derivatives/fmriprep/sub-DEV283/ses-wave1/func/s6_sub-DEV283_ses-wave1_task-SST_acq-1_bold_space-MNI152NLin2009cAsym_preproc.nii', '/gpfs/projects/sanlab/shared/DEV/bids_data/derivatives/fmriprep/sub-DEV018/ses-wave1/func/s6_sub-DEV018_ses-wave1_task-SST_acq-1_bold_space-MNI152NLin2009cAsym_preproc.nii', '/gpfs/projects/sanlab/shared/DEV/bids_data/derivatives/fmriprep/sub-DEV202/ses-wave1/func/s6_sub-DEV202_ses-wave1_task-SST_acq-1_bold_space-MNI152NLin2009cAsym_preproc.nii', '/gpfs/projects/sanlab/shared/DEV/bids_data/derivatives/fmriprep/sub-DEV145/ses-wave1/func/s6_sub-DEV145_ses-wave1_task-SST_acq-1_bold_space-MNI152NLin2009cAsym_preproc.nii', '/gpfs/projects/sanlab/shared/DEV/bids_data/derivatives/fmriprep/sub-DEV048/ses-wave1/func/s6_sub-DEV048_ses-wave1_task-SST_acq-1_bold_space-MNI152NLin2009cAsym_preproc.nii', '/gpfs/projects/sanlab/shared/DEV/bids_data/derivatives/fmriprep/sub-DEV057/ses-wave1/func/s6_sub-DEV057_ses-wave1_task-SST_acq-1_bold_space-MNI152NLin2009cAsym_preproc.nii', '/gpfs/projects/sanlab/shared/DEV/bids_data/derivatives/fmriprep/sub-DEV053/ses-wave1/func/s6_sub-DEV053_ses-wave1_task-SST_acq-1_bold_space-MNI152NLin2009cAsym_preproc.nii', '/gpfs/projects/sanlab/shared/DEV/bids_data/derivatives/fmriprep/sub-DEV237/ses-wave1/func/s6_sub-DEV237_ses-wave1_task-SST_acq-1_bold_space-MNI152NLin2009cAsym_preproc.nii', '/gpfs/projects/sanlab/shared/DEV/bids_data/derivatives/fmriprep/sub-DEV103/ses-wave1/func/s6_sub-DEV103_ses-wave1_task-SST_acq-1_bold_space-MNI152NLin2009cAsym_preproc.nii', '/gpfs/projects/sanlab/shared/DEV/bids_data/derivatives/fmriprep/sub-DEV293/ses-wave1/func/s6_sub-DEV293_ses-wave1_task-SST_acq-1_bold_space-MNI152NLin2009cAsym_preproc.nii', '/gpfs/projects/sanlab/shared/DEV/bids_data/derivatives/fmriprep/sub-DEV010/ses-wave1/func/s6_sub-DEV010_ses-wave1_task-SST_acq-1_bold_space-MNI152NLin2009cAsym_preproc.nii', '/gpfs/projects/sanlab/shared/DEV/bids_data/derivatives/fmriprep/sub-DEV186/ses-wave1/func/s6_sub-DEV186_ses-wave1_task-SST_acq-1_bold_space-MNI152NLin2009cAsym_preproc.nii', '/gpfs/projects/sanlab/shared/DEV/bids_data/derivatives/fmriprep/sub-DEV199/ses-wave1/func/s6_sub-DEV199_ses-wave1_task-SST_acq-1_bold_space-MNI152NLin2009cAsym_preproc.nii', '/gpfs/projects/sanlab/shared/DEV/bids_data/derivatives/fmriprep/sub-DEV167/ses-wave1/func/s6_sub-DEV167_ses-wave1_task-SST_acq-1_bold_space-MNI152NLin2009cAsym_preproc.nii', '/gpfs/projects/sanlab/shared/DEV/bids_data/derivatives/fmriprep/sub-DEV201/ses-wave1/func/s6_sub-DEV201_ses-wave1_task-SST_acq-1_bold_space-MNI152NLin2009cAsym_preproc.nii', '/gpfs/projects/sanlab/shared/DEV/bids_data/derivatives/fmriprep/sub-DEV157/ses-wave1/func/s6_sub-DEV157_ses-wave1_task-SST_acq-1_bold_space-MNI152NLin2009cAsym_preproc.nii', '/gpfs/projects/sanlab/shared/DEV/bids_data/derivatives/fmriprep/sub-DEV030/ses-wave1/func/s6_sub-DEV030_ses-wave1_task-SST_acq-1_bold_space-MNI152NLin2009cAsym_preproc.nii', '/gpfs/projects/sanlab/shared/DEV/bids_data/derivatives/fmriprep/sub-DEV262/ses-wave1/func/s6_sub-DEV262_ses-wave1_task-SST_acq-1_bold_space-MNI152NLin2009cAsym_preproc.nii', '/gpfs/projects/sanlab/shared/DEV/bids_data/derivatives/fmriprep/sub-DEV204/ses-wave1/func/s6_sub-DEV204_ses-wave1_task-SST_acq-1_bold_space-MNI152NLin2009cAsym_preproc.nii', '/gpfs/projects/sanlab/shared/DEV/bids_data/derivatives/fmriprep/sub-DEV266/ses-wave1/func/s6_sub-DEV266_ses-wave1_task-SST_acq-1_bold_space-MNI152NLin2009cAsym_preproc.nii', '/gpfs/projects/sanlab/shared/DEV/bids_data/derivatives/fmriprep/sub-DEV256/ses-wave1/func/s6_sub-DEV256_ses-wave1_task-SST_acq-1_bold_space-MNI152NLin2009cAsym_preproc.nii', '/gpfs/projects/sanlab/shared/DEV/bids_data/derivatives/fmriprep/sub-DEV006/ses-wave1/func/s6_sub-DEV006_ses-wave1_task-SST_acq-1_bold_space-MNI152NLin2009cAsym_preproc.nii', '/gpfs/projects/sanlab/shared/DEV/bids_data/derivatives/fmriprep/sub-DEV216/ses-wave1/func/s6_sub-DEV216_ses-wave1_task-SST_acq-1_bold_space-MNI152NLin2009cAsym_preproc.nii', '/gpfs/projects/sanlab/shared/DEV/bids_data/derivatives/fmriprep/sub-DEV179/ses-wave1/func/s6_sub-DEV179_ses-wave1_task-SST_acq-1_bold_space-MNI152NLin2009cAsym_preproc.nii', '/gpfs/projects/sanlab/shared/DEV/bids_data/derivatives/fmriprep/sub-DEV116/ses-wave1/func/s6_sub-DEV116_ses-wave1_task-SST_acq-1_bold_space-MNI152NLin2009cAsym_preproc.nii']\n"
     ]
    }
   ],
   "source": [
    "print(nii_raw_files)"
   ]
  },
  {
   "cell_type": "markdown",
   "metadata": {},
   "source": [
    "get masks"
   ]
  },
  {
   "cell_type": "code",
   "execution_count": 36,
   "metadata": {},
   "outputs": [],
   "source": [
    "mask_paths = glob.glob(mask_location+\"*.nii.gz\")\n",
    "mask_labels = [re.match(\".*/(.*)\\.nii\\.gz\",mp)[1] for mp in mask_paths]\n",
    "\n",
    "mask_df = pd.DataFrame({\n",
    "    'mask_label':mask_labels,\n",
    "    'mask_path': mask_paths\n",
    "})"
   ]
  },
  {
   "cell_type": "markdown",
   "metadata": {},
   "source": [
    "iterate through series"
   ]
  },
  {
   "cell_type": "code",
   "execution_count": null,
   "metadata": {},
   "outputs": [
    {
     "name": "stdout",
     "output_type": "stream",
     "text": [
      "DEV033, 1 DEV079, 1 DEV017, 1 DEV131, 1 DEV122, 1 DEV138, 1 DEV054, 1 DEV194, 1 DEV147, 1 DEV047, 1 DEV215, 1 DEV224, 1 DEV111, 1 DEV014, 1 DEV246, 1 DEV083, 1 DEV265, 1 DEV255, 1 DEV161, 1 DEV026, 1 DEV225, 1 DEV044, 1 DEV005, 1 DEV095, 1 DEV085, 1 DEV240, 1 DEV244, 1 DEV195, 1 DEV182, 1 DEV291, 1 DEV112, 1 DEV278, 1 DEV223, 1 DEV025, 1 DEV268, 1 DEV260, 1 DEV264, 1 DEV254, 1 DEV029, 1 DEV230, 1 DEV082, 1 DEV243, 1 DEV064, 1 DEV042, 1 DEV117, 1 DEV196, 1 DEV169, 1 DEV159, 1 DEV217, 1 DEV180, 1 DEV108, 1 DEV119, 1 DEV222, 1 DEV227, 1 DEV171, 1 DEV193, 1 DEV263, 1 DEV120, 1 DEV247, 1 DEV076, 1 DEV250, 1 DEV105, 1 DEV019, 1 DEV068, 1 DEV008, 1 DEV238, 1 DEV043, 1 DEV107, 1 DEV269, 1 DEV221, 1 DEV177, 1 DEV210, 1 DEV114, 1 DEV038, 1 DEV272, 1 DEV090, 1 DEV257, 1 DEV232, 1 DEV028, 1 DEV133, 1 DEV060, 1 DEV067, 1 DEV197, 1 DEV253, 1 DEV075, 1 DEV219, 1 DEV091, 1 DEV059, 1 DEV110, 1 "
     ]
    }
   ],
   "source": [
    "#mark the number of seconds each scan takes.\n",
    "TR = 2.0\n",
    "\n",
    "roi_data = {}\n",
    "\n",
    "for nii in nii_raw_files:\n",
    "    series_filename = basename(nii)\n",
    "    match_data = re.match('.*(DEV\\d*)_ses-wave(\\d+)*',series_filename)\n",
    "    dev_name = match_data[1]\n",
    "    dev_wave = match_data[2]\n",
    "\n",
    "    #print(basename(nii))\n",
    "    print(dev_name + \", \" + dev_wave,end=\" \")\n",
    "\n",
    "    active_img = image.load_img(nii)\n",
    "\n",
    "    #create a template data frame to populate with the ROI data, for this run\n",
    "    run_len = active_img.shape[3]\n",
    "    if dev_name not in roi_data.keys():\n",
    "        roi_data[dev_name]={}\n",
    "    \n",
    "    run_df = pd.DataFrame(index=range(0,run_len))\n",
    "    #run_df = pd.DataFrame({'image_id':range(0,run_len)})\n",
    "    #run_df['TR_onset']=run_df.image_id*TR\n",
    "\n",
    "\n",
    "    \n",
    "    for m_i, m_set in mask_df.iterrows():\n",
    "        print(m_set['mask_label'])\n",
    "        print('producing the vector for this mask/series...')\n",
    "        \n",
    "        #active_mask = nilearn.masking.compute_brain_mask(m_set['mask_path'])\n",
    "        mask_raw = nil.image.load_img(m_set['mask_path'])\n",
    "        mask_in_subj_space = nil.image.resample_img(mask_raw, target_affine=active_img.affine,target_shape = active_img.slicer[:,:,:,0].shape)\n",
    "        mask_binarized = nil.image.binarize_img(mask_in_subj_space,threshold=50)\n",
    "        active_img_masked = nil.masking.apply_mask(active_img, mask_binarized)\n",
    "        activity_vector = active_img_masked.mean(axis=1)\n",
    "        run_df[m_set['mask_label']]=activity_vector\n",
    "        print(\"created an activity vector for this mask with the following length: \" + str(len(activity_vector)))\n",
    "        #\n",
    "        #nil.plotting.plot_img(mask_applied)\n",
    "        #nilearn.plotting.view_img(active_mask)\n",
    "    #now we've gone through all the masks for this run, add the run_df to the dict dict\n",
    "    roi_data[dev_name][dev_wave] = run_df\n",
    "\n",
    "\n",
    "\n",
    "        \n",
    "\n",
    "        \n",
    "\n"
   ]
  },
  {
   "cell_type": "code",
   "execution_count": null,
   "metadata": {},
   "outputs": [],
   "source": [
    "for s in roi_data.keys():\n",
    "    print(s)\n",
    "    for wave in roi_data[s].keys():\n",
    "        print(wave)\n",
    "        print(roi_data[s][wave].shape)\n",
    "        print(roi_data[s][wave].columns)"
   ]
  },
  {
   "cell_type": "code",
   "execution_count": null,
   "metadata": {},
   "outputs": [],
   "source": [
    "sst_all_behavioral_data = pd.read_csv(dropbox_data_dir + \"sst_behavioral_data_all.csv\")\n",
    "\n"
   ]
  },
  {
   "cell_type": "markdown",
   "metadata": {},
   "source": [
    "for each trial [CS, CG, FS, FG], identify the moment the subject learns the class of the trial;"
   ]
  },
  {
   "cell_type": "code",
   "execution_count": null,
   "metadata": {},
   "outputs": [],
   "source": [
    "# for each trial [CS, CG, FS, FG], identify the moment the subject learns the class of the trial;\n",
    "\n",
    "# this may be slightly different for Go and Stop trials. For Stop trials it is simply the moment of the tone;\n",
    "# for Go trials it's harder to specify.\n",
    "\n",
    "def get_moment_trial_type_revealed(trial_type, ssdr,first_tone):\n",
    "    trial_type = trial_type.tolist()\n",
    "    ssdr = ssdr.tolist()\n",
    "    expected_tone_time = pd.Series([0.]*len(ssdr))\n",
    "    expected_tone_time[0]=first_tone\n",
    "    expected_tone_time[1]=first_tone\n",
    "\n",
    "    for i in range(2,len(expected_tone_time)):\n",
    "         #these are in increments of 2 because every second event is a cue\n",
    "         #previous trial was a stop\n",
    "        if trial_type[i]==\"Stop\":\n",
    "            expected_tone_time[i] = ssdr[i]\n",
    "        else:\n",
    "            expected_tone_time[i] = expected_tone_time[i-1]\n",
    "    #print(expected_tone_time)\n",
    "    return(expected_tone_time)\n",
    "\n",
    "\n",
    "\n",
    "\n",
    "# but might be the expected time of the onset, which would be the _previous_ stop trial.\n",
    "#create expected tone table\n",
    "expected_tone_table = sst_all_behavioral_data.groupby(['subid', 'waveid','runid']).apply(\n",
    "    lambda sabd_set: get_moment_trial_type_revealed(sabd_set['go_no_go_condition_label'], sabd_set['SSD_recorded'],first_tone=2)\n",
    ")\n",
    "expected_tone_table2=expected_tone_table.reset_index()\n",
    "expected_tone_table2.rename(columns={0:'class_type_reveal'},inplace=True)\n",
    "expected_tone_table2.loc[:,'trial_n']=expected_tone_table2.level_3+1\n",
    "expected_tone_table2.drop('level_3',axis=1,inplace=True)\n",
    "\n",
    "sst_all_behavioral_data = sst_all_behavioral_data.merge(expected_tone_table2,\n",
    "left_on=['subid','waveid','runid','trial_n'],\n",
    "right_on =['subid','waveid','runid','trial_n'],\n",
    "how='left'\n",
    "    \n",
    "    )\n"
   ]
  },
  {
   "cell_type": "code",
   "execution_count": null,
   "metadata": {},
   "outputs": [],
   "source": [
    "sst_all_behavioral_data['class_type_reveal_onset'] = sst_all_behavioral_data.class_type_reveal + sst_all_behavioral_data.onset\n",
    "sst_all_behavioral_data.loc[sst_all_behavioral_data.go_no_go_condition_label=='Cue','class_type_reveal_onset']=None"
   ]
  },
  {
   "cell_type": "markdown",
   "metadata": {},
   "source": [
    "Now we need a list of the TRs by their time of appearance; that way we can mark which ones are relevant to the ROIs for each trial.\n",
    "\n",
    "For now, let's assume that the timing of the TRs matches the timing in the matlab files, but this MUST be checked."
   ]
  },
  {
   "cell_type": "code",
   "execution_count": null,
   "metadata": {},
   "outputs": [],
   "source": [
    "# run_length = 207\n",
    "# rt_time_list = [x*2.0 for x in range(run_length)]"
   ]
  },
  {
   "cell_type": "markdown",
   "metadata": {},
   "source": [
    "these are going to be generated dynamically based on the run length"
   ]
  },
  {
   "cell_type": "code",
   "execution_count": null,
   "metadata": {},
   "outputs": [],
   "source": [
    "# (is there a way to do this vectorized over ALL the data,\n",
    "# or is it more sensible to loop through subjects/runs to do it?\n",
    "# tend to think looping through subjects makes more sense.)\n",
    "all_subj_df_list = [] \n",
    "for s in roi_data.keys():\n",
    "    print(s)\n",
    "    for wave in roi_data[s].keys():\n",
    "        run_length = roi_data[s][wave].shape[0]\n",
    "        print(s +', ' + wave + ':' + str(run_length), sep=\"; \")\n",
    "        rt_time_list = [x*2.0 for x in range(run_length)]\n",
    "        #now we have a list of the the RTs\n",
    "        #we have actual data at each data point\n",
    "        #we need to get the RTs related to each particular trial.\n",
    "        run_behavioral_data = sst_all_behavioral_data[(sst_all_behavioral_data.subid==s) & (sst_all_behavioral_data.waveid==int(wave))]\n",
    "\n",
    "        run_trial_df_list = []\n",
    "        for i, trial in run_behavioral_data.iterrows():\n",
    "            #print(i)\n",
    "            t_class_type_reveal_onset = trial['class_type_reveal_onset']\n",
    "            #print(trial[['trial_n','class_type_reveal_onset']])\n",
    "            #grab the set of TR times that are relevant based on its\n",
    "            \n",
    "\n",
    "            trial_rt_timing_all = pd.DataFrame({'tr':rt_time_list,'offset':[(tr - t_class_type_reveal_onset) for tr in rt_time_list]})\n",
    "            trs_to_use_for_trial = ((trial_rt_timing_all.offset>-10) & (trial_rt_timing_all.offset<20))\n",
    "            trial_rt_timing_inscope = trial_rt_timing_all.loc[trs_to_use_for_trial]\n",
    "\n",
    "            #and we will also want to grab the actual data we already extracted...\n",
    "            trial_roi_data = pd.merge(trial_rt_timing_inscope,roi_data[s][wave],how='left',\n",
    "            left_index=True,right_index=True\n",
    "            )\n",
    "            trial_roi_data['t_class_type_reveal_onset']=t_class_type_reveal_onset\n",
    "            trial_roi_data['subid']=s\n",
    "            trial_roi_data['wave']=wave\n",
    "            trial_roi_data['go_no_go_condition_label']=trial[['go_no_go_condition_label']][0]\n",
    "            trial_roi_data['condition']=trial[['condition']][0]\n",
    "            trial_roi_data['trial_n']=trial[['trial_n']][0]\n",
    "            trial_roi_data['trial_n']=trial[['trial_n']][0]\n",
    "            \n",
    "            run_trial_df_list.append(trial_roi_data)\n",
    "            #cool. now what? \n",
    "\n",
    "        run_trial_df = pd.concat(run_trial_df_list)\n",
    "        run_trial_df.reset_index(drop=True,inplace=True)\n",
    "\n",
    "        all_subj_df_list.append(run_trial_df)\n",
    "all_subj_df = pd.concat(all_subj_df_list)"
   ]
  },
  {
   "cell_type": "code",
   "execution_count": null,
   "metadata": {},
   "outputs": [],
   "source": []
  },
  {
   "cell_type": "code",
   "execution_count": null,
   "metadata": {},
   "outputs": [],
   "source": [
    "all_subj_df.groupby(['trial_n','subid','wave']).offset.count()"
   ]
  },
  {
   "cell_type": "code",
   "execution_count": null,
   "metadata": {},
   "outputs": [],
   "source": [
    "all_subj_df.to_csv(dropbox_data_dir + 'SST_roi_by_time_point.csv')"
   ]
  },
  {
   "cell_type": "markdown",
   "metadata": {},
   "source": [
    "We should have up to 420 or so."
   ]
  },
  {
   "cell_type": "code",
   "execution_count": null,
   "metadata": {},
   "outputs": [],
   "source": [
    "sst_all_behavioral_data.loc[sst_all_behavioral_data.subid=='DEV293'][['trial_n','onset','class_type_reveal_onset','condition']]"
   ]
  },
  {
   "cell_type": "code",
   "execution_count": null,
   "metadata": {},
   "outputs": [],
   "source": [
    "\n",
    "# for each TRIAL, you will end up with a data table with columns (a) time from trial class reveal to image; (b) separate columns for measurement of each ROI\n",
    "# these can be concatenated across trials, runs, and subjects\n",
    "\n",
    "# then create n_{ROI}*n_{trial classes} graphs of samples, where x is the time from trial class reveal to image, and y is the measurement. plot a lowess curve.\n",
    "\n",
    "# potentially overlay the lowess curves for each trial type so that the response within each ROI can be easily compared.\n"
   ]
  }
 ],
 "metadata": {
  "kernelspec": {
   "display_name": "Python [conda env:.conda-neuralsignature]",
   "language": "python",
   "name": "conda-env-.conda-neuralsignature-py"
  },
  "vscode": {
   "interpreter": {
    "hash": "b82bf3dcf59754c665fb61c2f4cdecd04bf09d71d0af7a88be8f82f426f3366b"
   }
  }
 },
 "nbformat": 4,
 "nbformat_minor": 2
}
