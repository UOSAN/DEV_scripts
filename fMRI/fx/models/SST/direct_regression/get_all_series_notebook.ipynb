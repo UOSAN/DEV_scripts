{
 "cells": [
  {
   "cell_type": "code",
   "execution_count": 1,
   "metadata": {},
   "outputs": [],
   "source": [
    "import glob\n",
    "import pandas as pd\n",
    "import re\n",
    "import nilearn as nil\n",
    "from nilearn import *\n",
    "from nilearn import image\n",
    "from os.path import basename\n",
    "import numpy as np\n",
    "import yaml\n",
    "from yaml.loader import SafeLoader\n",
    "from socket import gethostname\n",
    "\n",
    "from get_all_series import get_roi_data, get_moment_trial_type_revealed, get_behavioral_data_with_moment_trial_type_revealed\n",
    "from get_all_series import get_all_subj_df"
   ]
  },
  {
   "cell_type": "code",
   "execution_count": 2,
   "metadata": {},
   "outputs": [
    {
     "data": {
      "text/plain": [
       "'Benjamins-MacBook-Pro-2.local'"
      ]
     },
     "execution_count": 2,
     "metadata": {},
     "output_type": "execute_result"
    }
   ],
   "source": [
    "gethostname()"
   ]
  },
  {
   "cell_type": "code",
   "execution_count": 3,
   "metadata": {},
   "outputs": [],
   "source": [
    "# Open the file and load the file\n",
    "with open('config.yml') as f:\n",
    "    all_yaml = yaml.load(f, Loader=SafeLoader)\n",
    "    if gethostname() in all_yaml.keys():\n",
    "        config = all_yaml[gethostname()]\n",
    "    else:\n",
    "        config = all_yaml['default']"
   ]
  },
  {
   "cell_type": "code",
   "execution_count": 4,
   "metadata": {},
   "outputs": [
    {
     "data": {
      "text/plain": [
       "{'dev_scripts_path': '/Users/benjaminsmith/Google Drive/oregon/code/DEV_scripts/',\n",
       " 'rural_data_dir': '/Users/benjaminsmith/Dropbox (University of Oregon)/UO-SAN Lab/Berkman Lab/Devaluation/analysis_files/data/',\n",
       " 'rubric_dir': '/Users/benjaminsmith/Dropbox (University of Oregon)/UO-SAN Lab/Berkman Lab/Devaluation/DEV_scoring_rubrics',\n",
       " 'dev_analysis_data_dir': '/Users/benjaminsmith/Dropbox (University of Oregon)/UO-SAN Lab/Berkman Lab/Devaluation/analysis_files/data/',\n",
       " 'input_mat_path': '/Users/benjaminsmith/oregon/code/DEV_scripts/fMRI/fx/multiconds/SST/full_duration/conditions',\n",
       " 'dropbox_data_dir': '/Users/benjaminsmith/Dropbox (University of Oregon)/UO-SAN Lab/Berkman Lab/Devaluation/analysis_files/data/',\n",
       " 'fmriprep_dir': '/Users/benjaminsmith/Google Drive/oregon/data/DEV/bids_data/derivatives/fmriprep/',\n",
       " 'nii_raw_path': 'sub-DEV*/ses-wave1/func/s6_sub-DEV*_ses-wave1_task-SST_acq-1_bold_space-MNI152NLin2009cAsym_preproc.nii',\n",
       " 'mask_location': '/Users/benjaminsmith/Google Drive/oregon/data/DEV/brainmaps/'}"
      ]
     },
     "execution_count": 4,
     "metadata": {},
     "output_type": "execute_result"
    }
   ],
   "source": [
    "config"
   ]
  },
  {
   "cell_type": "markdown",
   "metadata": {},
   "source": [
    "get all series\n",
    "\n",
    "get masks\n",
    "\n",
    "iterate through series\n",
    "\n",
    "iterate through masks\n",
    "\n",
    "produce the vector for this mask/series\n",
    "\n",
    "for each trial [CS, CG, FS, FG], identify the moment the subject learns the class of the trial;\n",
    "this may be slightly different for Go and Stop trials. For Stop trials it is simply the moment of the tone;\n",
    "for Go trials it's harder to specify.\n",
    "\n",
    "for each TRIAL, you will end up with a data table with columns (a) time from trial class reveal to image; (b) separate columns for measurement of each ROI\n",
    "these can be concatenated across trials, runs, and subjects\n",
    "\n",
    "then create n_{ROI}*n_{trial classes} graphs of samples, where x is the time from trial class reveal to image, and y is the measurement. plot a lowess curve.\n",
    "\n",
    "potentially overlay the lowess curves for each trial type so that the response within each ROI can be easily compared.\n"
   ]
  },
  {
   "cell_type": "code",
   "execution_count": 5,
   "metadata": {},
   "outputs": [],
   "source": [
    "# #need to replace these with references to the config yml\n",
    "# dropbox_data_dir = '/Users/benjaminsmith/Dropbox (University of Oregon)/UO-SAN Lab/Berkman Lab/Devaluation/analysis_files/data/'\n",
    "# fmriprep_dir = '/Users/benjaminsmith/Google Drive/oregon/data/DEV/bids_data/derivatives/fmriprep/'\n",
    "# nii_raw_path = 'sub-DEV*/ses-wave1/func/s6_sub-DEV*_ses-wave1_task-SST_acq-1_bold_space-MNI152NLin2009cAsym_preproc.nii'\n",
    "# mask_location = '/Users/benjaminsmith/Google Drive/oregon/data/DEV/brainmaps/striatum/'\n",
    "dropbox_data_dir = config['dropbox_data_dir']\n",
    "fmriprep_dir = config['fmriprep_dir']\n",
    "nii_raw_path = config['nii_raw_path']\n",
    "mask_location = config['mask_location'] + 'striatum'"
   ]
  },
  {
   "cell_type": "markdown",
   "metadata": {},
   "source": [
    "get all series"
   ]
  },
  {
   "cell_type": "code",
   "execution_count": 6,
   "metadata": {},
   "outputs": [
    {
     "name": "stdout",
     "output_type": "stream",
     "text": [
      "looking up /Users/benjaminsmith/Google Drive/oregon/data/DEV/bids_data/derivatives/fmriprep/sub-DEV*/ses-wave1/func/s6_sub-DEV*_ses-wave1_task-SST_acq-1_bold_space-MNI152NLin2009cAsym_preproc.nii\n"
     ]
    }
   ],
   "source": [
    "glob_path = fmriprep_dir + nii_raw_path\n",
    "print(\"looking up \" + glob_path)\n",
    "nii_raw_files = glob.glob(glob_path)"
   ]
  },
  {
   "cell_type": "code",
   "execution_count": 7,
   "metadata": {},
   "outputs": [
    {
     "name": "stdout",
     "output_type": "stream",
     "text": [
      "['/Users/benjaminsmith/Google Drive/oregon/data/DEV/bids_data/derivatives/fmriprep/sub-DEV285/ses-wave1/func/s6_sub-DEV285_ses-wave1_task-SST_acq-1_bold_space-MNI152NLin2009cAsym_preproc.nii', '/Users/benjaminsmith/Google Drive/oregon/data/DEV/bids_data/derivatives/fmriprep/sub-DEV004/ses-wave1/func/s6_sub-DEV004_ses-wave1_task-SST_acq-1_bold_space-MNI152NLin2009cAsym_preproc.nii', '/Users/benjaminsmith/Google Drive/oregon/data/DEV/bids_data/derivatives/fmriprep/sub-DEV293/ses-wave1/func/s6_sub-DEV293_ses-wave1_task-SST_acq-1_bold_space-MNI152NLin2009cAsym_preproc.nii']\n"
     ]
    }
   ],
   "source": [
    "print(nii_raw_files)"
   ]
  },
  {
   "cell_type": "markdown",
   "metadata": {},
   "source": [
    "get masks"
   ]
  },
  {
   "cell_type": "code",
   "execution_count": 8,
   "metadata": {},
   "outputs": [],
   "source": [
    "mask_paths = glob.glob(mask_location+\"*.nii.gz\")\n",
    "mask_labels = [re.match(\".*/(.*)\\.nii\\.gz\",mp)[1] for mp in mask_paths]\n",
    "\n",
    "mask_df = pd.DataFrame({\n",
    "    'mask_label':mask_labels,\n",
    "    'mask_path': mask_paths\n",
    "})"
   ]
  },
  {
   "cell_type": "markdown",
   "metadata": {},
   "source": [
    "iterate through series"
   ]
  },
  {
   "cell_type": "code",
   "execution_count": 11,
   "metadata": {},
   "outputs": [
    {
     "name": "stdout",
     "output_type": "stream",
     "text": [
      "DEV285, 1\n",
      "DEV004, 1\n",
      "DEV293, 1\n"
     ]
    }
   ],
   "source": [
    "#mark the number of seconds each scan takes.\n",
    "#TR = 2.0\n",
    "roi_data = get_roi_data(nii_raw_files,mask_df)\n",
    "\n"
   ]
  },
  {
   "cell_type": "code",
   "execution_count": 12,
   "metadata": {},
   "outputs": [
    {
     "data": {
      "text/plain": [
       "False"
      ]
     },
     "execution_count": 12,
     "metadata": {},
     "output_type": "execute_result"
    }
   ],
   "source": [
    "roi_data is None"
   ]
  },
  {
   "cell_type": "code",
   "execution_count": 23,
   "metadata": {},
   "outputs": [
    {
     "name": "stdout",
     "output_type": "stream",
     "text": [
      "DEV285\n",
      "1\n",
      "(212, 0)\n",
      "Index([], dtype='object')\n",
      "DEV004\n",
      "1\n",
      "(207, 0)\n",
      "Index([], dtype='object')\n",
      "DEV293\n",
      "1\n",
      "(212, 0)\n",
      "Index([], dtype='object')\n"
     ]
    }
   ],
   "source": [
    "for s in roi_data.keys():\n",
    "    print(s)\n",
    "    for wave in roi_data[s].keys():\n",
    "        print(wave)\n",
    "        print(roi_data[s][wave].shape)\n",
    "        print(roi_data[s][wave].columns)"
   ]
  },
  {
   "cell_type": "code",
   "execution_count": 30,
   "metadata": {},
   "outputs": [],
   "source": [
    "sst_all_behavioral_data = pd.read_csv(dropbox_data_dir + \"sst_behavioral_data_all.csv\")\n",
    "\n"
   ]
  },
  {
   "cell_type": "markdown",
   "metadata": {},
   "source": [
    "for each trial [CS, CG, FS, FG], identify the moment the subject learns the class of the trial;"
   ]
  },
  {
   "cell_type": "code",
   "execution_count": 31,
   "metadata": {},
   "outputs": [],
   "source": [
    "\n",
    "\n",
    "sst_all_behavioral_data = get_behavioral_data_with_moment_trial_type_revealed(sst_all_behavioral_data)\n",
    "\n"
   ]
  },
  {
   "cell_type": "code",
   "execution_count": 32,
   "metadata": {},
   "outputs": [],
   "source": [
    "sst_all_behavioral_data['class_type_reveal_onset'] = sst_all_behavioral_data.class_type_reveal + sst_all_behavioral_data.onset\n",
    "sst_all_behavioral_data.loc[sst_all_behavioral_data.go_no_go_condition_label=='Cue','class_type_reveal_onset']=None"
   ]
  },
  {
   "cell_type": "markdown",
   "metadata": {},
   "source": [
    "Now we need a list of the TRs by their time of appearance; that way we can mark which ones are relevant to the ROIs for each trial.\n",
    "\n",
    "For now, let's assume that the timing of the TRs matches the timing in the matlab files, but this MUST be checked."
   ]
  },
  {
   "cell_type": "code",
   "execution_count": null,
   "metadata": {},
   "outputs": [],
   "source": [
    "# run_length = 207\n",
    "# rt_time_list = [x*2.0 for x in range(run_length)]"
   ]
  },
  {
   "cell_type": "markdown",
   "metadata": {},
   "source": [
    "these are going to be generated dynamically based on the run length"
   ]
  },
  {
   "cell_type": "code",
   "execution_count": 35,
   "metadata": {},
   "outputs": [
    {
     "name": "stdout",
     "output_type": "stream",
     "text": [
      "DEV285\n",
      "DEV285, 1:212\n",
      "DEV004\n",
      "DEV004, 1:207\n",
      "DEV293\n",
      "DEV293, 1:212\n"
     ]
    }
   ],
   "source": [
    "#from get_all_series import get_all_subj_df\n",
    "all_subj_df = get_all_subj_df(roi_data, sst_all_behavioral_data)"
   ]
  },
  {
   "cell_type": "code",
   "execution_count": null,
   "metadata": {},
   "outputs": [],
   "source": []
  },
  {
   "cell_type": "code",
   "execution_count": 36,
   "metadata": {},
   "outputs": [
    {
     "data": {
      "text/plain": [
       "trial_n  subid   wave\n",
       "1        DEV004  1       12\n",
       "         DEV285  1       12\n",
       "         DEV293  1       12\n",
       "3        DEV004  1       12\n",
       "         DEV285  1       13\n",
       "                         ..\n",
       "253      DEV285  1        9\n",
       "         DEV293  1        9\n",
       "255      DEV004  1        1\n",
       "         DEV285  1        7\n",
       "         DEV293  1        7\n",
       "Name: offset, Length: 384, dtype: int64"
      ]
     },
     "execution_count": 36,
     "metadata": {},
     "output_type": "execute_result"
    }
   ],
   "source": [
    "all_subj_df.groupby(['trial_n','subid','wave']).offset.count()"
   ]
  },
  {
   "cell_type": "code",
   "execution_count": 37,
   "metadata": {},
   "outputs": [],
   "source": [
    "all_subj_df.to_csv(dropbox_data_dir + 'SST_roi_by_time_point.csv')"
   ]
  },
  {
   "cell_type": "markdown",
   "metadata": {},
   "source": [
    "We should have up to 420 or so."
   ]
  },
  {
   "cell_type": "code",
   "execution_count": 38,
   "metadata": {},
   "outputs": [
    {
     "data": {
      "text/html": [
       "<div>\n",
       "<style scoped>\n",
       "    .dataframe tbody tr th:only-of-type {\n",
       "        vertical-align: middle;\n",
       "    }\n",
       "\n",
       "    .dataframe tbody tr th {\n",
       "        vertical-align: top;\n",
       "    }\n",
       "\n",
       "    .dataframe thead th {\n",
       "        text-align: right;\n",
       "    }\n",
       "</style>\n",
       "<table border=\"1\" class=\"dataframe\">\n",
       "  <thead>\n",
       "    <tr style=\"text-align: right;\">\n",
       "      <th></th>\n",
       "      <th>trial_n</th>\n",
       "      <th>onset</th>\n",
       "      <th>class_type_reveal_onset</th>\n",
       "      <th>condition</th>\n",
       "    </tr>\n",
       "  </thead>\n",
       "  <tbody>\n",
       "    <tr>\n",
       "      <th>248832</th>\n",
       "      <td>1</td>\n",
       "      <td>0.011194</td>\n",
       "      <td>2.011194</td>\n",
       "      <td>FailedStop</td>\n",
       "    </tr>\n",
       "    <tr>\n",
       "      <th>248833</th>\n",
       "      <td>2</td>\n",
       "      <td>0.000000</td>\n",
       "      <td>NaN</td>\n",
       "      <td>Cue</td>\n",
       "    </tr>\n",
       "    <tr>\n",
       "      <th>248834</th>\n",
       "      <td>3</td>\n",
       "      <td>2.763036</td>\n",
       "      <td>4.763036</td>\n",
       "      <td>CorrectGo</td>\n",
       "    </tr>\n",
       "    <tr>\n",
       "      <th>248835</th>\n",
       "      <td>4</td>\n",
       "      <td>0.000000</td>\n",
       "      <td>NaN</td>\n",
       "      <td>Cue</td>\n",
       "    </tr>\n",
       "    <tr>\n",
       "      <th>248836</th>\n",
       "      <td>5</td>\n",
       "      <td>5.528667</td>\n",
       "      <td>7.528667</td>\n",
       "      <td>CorrectGo</td>\n",
       "    </tr>\n",
       "    <tr>\n",
       "      <th>...</th>\n",
       "      <td>...</td>\n",
       "      <td>...</td>\n",
       "      <td>...</td>\n",
       "      <td>...</td>\n",
       "    </tr>\n",
       "    <tr>\n",
       "      <th>249083</th>\n",
       "      <td>252</td>\n",
       "      <td>0.000000</td>\n",
       "      <td>NaN</td>\n",
       "      <td>Cue</td>\n",
       "    </tr>\n",
       "    <tr>\n",
       "      <th>249084</th>\n",
       "      <td>253</td>\n",
       "      <td>414.584341</td>\n",
       "      <td>414.885800</td>\n",
       "      <td>CorrectGo</td>\n",
       "    </tr>\n",
       "    <tr>\n",
       "      <th>249085</th>\n",
       "      <td>254</td>\n",
       "      <td>0.000000</td>\n",
       "      <td>NaN</td>\n",
       "      <td>Cue</td>\n",
       "    </tr>\n",
       "    <tr>\n",
       "      <th>249086</th>\n",
       "      <td>255</td>\n",
       "      <td>417.849799</td>\n",
       "      <td>418.151915</td>\n",
       "      <td>CorrectStop</td>\n",
       "    </tr>\n",
       "    <tr>\n",
       "      <th>249087</th>\n",
       "      <td>256</td>\n",
       "      <td>0.000000</td>\n",
       "      <td>NaN</td>\n",
       "      <td>Cue</td>\n",
       "    </tr>\n",
       "  </tbody>\n",
       "</table>\n",
       "<p>256 rows × 4 columns</p>\n",
       "</div>"
      ],
      "text/plain": [
       "        trial_n       onset  class_type_reveal_onset    condition\n",
       "248832        1    0.011194                 2.011194   FailedStop\n",
       "248833        2    0.000000                      NaN          Cue\n",
       "248834        3    2.763036                 4.763036    CorrectGo\n",
       "248835        4    0.000000                      NaN          Cue\n",
       "248836        5    5.528667                 7.528667    CorrectGo\n",
       "...         ...         ...                      ...          ...\n",
       "249083      252    0.000000                      NaN          Cue\n",
       "249084      253  414.584341               414.885800    CorrectGo\n",
       "249085      254    0.000000                      NaN          Cue\n",
       "249086      255  417.849799               418.151915  CorrectStop\n",
       "249087      256    0.000000                      NaN          Cue\n",
       "\n",
       "[256 rows x 4 columns]"
      ]
     },
     "execution_count": 38,
     "metadata": {},
     "output_type": "execute_result"
    }
   ],
   "source": [
    "sst_all_behavioral_data.loc[sst_all_behavioral_data.subid=='DEV293'][['trial_n','onset','class_type_reveal_onset','condition']]"
   ]
  },
  {
   "cell_type": "code",
   "execution_count": null,
   "metadata": {},
   "outputs": [],
   "source": [
    "\n",
    "# for each TRIAL, you will end up with a data table with columns (a) time from trial class reveal to image; (b) separate columns for measurement of each ROI\n",
    "# these can be concatenated across trials, runs, and subjects\n",
    "\n",
    "# then create n_{ROI}*n_{trial classes} graphs of samples, where x is the time from trial class reveal to image, and y is the measurement. plot a lowess curve.\n",
    "\n",
    "# potentially overlay the lowess curves for each trial type so that the response within each ROI can be easily compared.\n"
   ]
  }
 ],
 "metadata": {
  "kernelspec": {
   "display_name": "Python [conda env:.conda-neuralsignature]",
   "language": "python",
   "name": "conda-env-.conda-neuralsignature-py"
  },
  "vscode": {
   "interpreter": {
    "hash": "b82bf3dcf59754c665fb61c2f4cdecd04bf09d71d0af7a88be8f82f426f3366b"
   }
  }
 },
 "nbformat": 4,
 "nbformat_minor": 2
}
