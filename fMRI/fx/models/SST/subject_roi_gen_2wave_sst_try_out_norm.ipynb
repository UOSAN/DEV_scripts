{
 "cells": [
  {
   "cell_type": "code",
   "execution_count": 1,
   "metadata": {},
   "outputs": [],
   "source": [
    "import glob\n",
    "import pandas as pd\n",
    "\n",
    "from os.path import basename\n",
    "import pickle\n",
    "\n",
    "from level2.level2_utils import *\n",
    "from level2.level2_roi_extraction import level2_roi_extractor\n",
    "from level2.level2_roi_extraction import load_rois, get_roi_data_for_beta\n",
    "from level2.level2_roi_extraction import get_roi_data_for_l2_betas, get_roi_data_for_multirun_l2_betas\n",
    "#import modules from files in a parallel directory \"direct_regression\"\n",
    "\n",
    "\n",
    "from direct_regression.get_all_series import get_beta_img, get_roi_data, get_moment_trial_type_revealed, get_behavioral_data_with_moment_trial_type_revealed, mask_3d_subject_image\n",
    "from direct_regression.get_all_series import get_all_subj_df\n",
    "from direct_regression.fmri_utils import *\n",
    "\n"
   ]
  },
  {
   "cell_type": "code",
   "execution_count": 2,
   "metadata": {},
   "outputs": [
    {
     "name": "stdout",
     "output_type": "stream",
     "text": [
      "Benjamins-MacBook-Pro-2.local\n",
      "{'dev_scripts_path': '/Users/benjaminsmith/Google Drive/oregon/code/DEV_scripts/', 'level2_output_path': '/Users/benjaminsmith/Dropbox (University of Oregon)/UO-SAN Lab/Berkman Lab/Devaluation/analysis_files/level2/SST/', 'rural_data_dir': '/Users/benjaminsmith/Dropbox (University of Oregon)/UO-SAN Lab/Berkman Lab/Devaluation/analysis_files/data/', 'rubric_dir': '/Users/benjaminsmith/Dropbox (University of Oregon)/UO-SAN Lab/Berkman Lab/Devaluation/DEV_scoring_rubrics', 'l2_analysis_files': '/Users/benjaminsmith/Dropbox (University of Oregon)/UO-SAN Lab/Berkman Lab/Devaluation/analysis_files/level2/', 'input_mat_path': '/Users/benjaminsmith/oregon/code/DEV_scripts/fMRI/fx/multiconds/SST/full_duration/conditions', 'dropbox_data_dir': '/Users/benjaminsmith/Dropbox (University of Oregon)/UO-SAN Lab/Berkman Lab/Devaluation/analysis_files/data/', 'dev_analysis_data_dir': '/Users/benjaminsmith/Dropbox (University of Oregon)/UO-SAN Lab/Berkman Lab/Devaluation/analysis_files/data/', 'fmriprep_dir': '/Users/benjaminsmith/Google Drive/oregon/data/DEV/bids_data/derivatives/fmriprep_2022/', 'nii_raw_path': 'sub-DEV*/ses-wave*/func/s6_sub-DEV*_ses-wave*_task-SST_acq-1_space-MNI152NLin2009cAsym_desc-preproc_bold.nii', 'mask_location': '/Users/benjaminsmith/Google Drive/oregon/data/DEV/brainmaps/', 'ben_dev_data_analysis': '/Users/benjaminsmith/Google Drive/oregon/code/bsmith_dev_data_analysis/', 'nonbids_data_path': '/Users/benjaminsmith/Google Drive/oregon/data/DEV/nonbids_data/'}\n"
     ]
    }
   ],
   "source": [
    "\n",
    "config = load_config(\"direct_regression/config.yml\")\n",
    "analysis_name = 'conditions'\n",
    "\n",
    "\n",
    "#get the masks\n",
    "mask_locations = [\n",
    "    config['mask_location'] + 'aim3/masks/neurosynth/',\n",
    "    config['mask_location'] + 'aim3/masks/'\n",
    "]\n",
    "\n",
    "signature_locations = [\n",
    "    config['mask_location'] + 'signatures/aim3/'\n",
    "]\n",
    "\n",
    "roi_df = get_mask_df_from_mask_locations(mask_locations)\n",
    "signature_df = get_mask_df_from_mask_locations(signature_locations)\n",
    "roi_df['image_type'] = 'mask'\n",
    "signature_df['image_type'] = 'signature'\n",
    "\n",
    "#combine the two dfs\n",
    "roi_df = pd.concat([roi_df, signature_df])\n",
    "#get the list of raw nii files\n",
    "glob_path = config['fmriprep_dir'] + config['nii_raw_path']"
   ]
  },
  {
   "attachments": {},
   "cell_type": "markdown",
   "metadata": {},
   "source": [
    "## SST"
   ]
  },
  {
   "cell_type": "markdown",
   "metadata": {},
   "source": [
    "### W1 W2 analysis"
   ]
  },
  {
   "cell_type": "code",
   "execution_count": 130,
   "metadata": {},
   "outputs": [],
   "source": [
    "#get the masks\n",
    "mask_locations = [\n",
    "    config['mask_location'] + 'aim3/masks/neurosynth/',\n",
    "    config['mask_location'] + 'aim3/masks/',\n",
    "    config['mask_location'] + 'striatum/',\n",
    "    config['mask_location']\n",
    "]\n",
    "wave_compare_roi_df = get_mask_df_from_mask_locations(mask_locations)"
   ]
  },
  {
   "cell_type": "code",
   "execution_count": 131,
   "metadata": {},
   "outputs": [],
   "source": [
    "#filter the mask_label in mask_df, using regex, to only use stiraum, finger movements, motor control, and response inbhitioin\n",
    "sst_roi_df = wave_compare_roi_df.loc[wave_compare_roi_df['mask_label'].str.contains('response inhibition|striatum_joint_reward|value')]\n"
   ]
  },
  {
   "cell_type": "code",
   "execution_count": 132,
   "metadata": {},
   "outputs": [
    {
     "name": "stdout",
     "output_type": "stream",
     "text": [
      "loaded 275 rows from data_by_ppt.csv\n",
      "255 subjects with no reported problems in task Redcap scanner notes, added to the provision useable_dev_id list.\n",
      "7 subjects excludeable for missing scan data.\n",
      "251 subjects remaining on the provision useable_dev_id list from the redcap list after excluding subjects with missing scan data.\n",
      "217 subjects remaining on the provisional useable_dev_id list from the redcap list after excluding subjects excluded by motion quality process.\n",
      "beta paths before exclusion: 250\n",
      "beta paths after exclusion via nsc_subject_exclusions and the provision useable_dev_id list: 185\n"
     ]
    },
    {
     "name": "stderr",
     "output_type": "stream",
     "text": [
      "/Users/benjaminsmith/Google Drive/oregon/code/DEV_scripts/fMRI/fx/models/SST/level2/level2_utils.py:258: SettingWithCopyWarning: \n",
      "A value is trying to be set on a copy of a slice from a DataFrame\n",
      "\n",
      "See the caveats in the documentation: https://pandas.pydata.org/pandas-docs/stable/user_guide/indexing.html#returning-a-view-versus-a-copy\n",
      "  useable_betas_with_data.sort_values('subject_id', inplace=True)\n",
      "/var/folders/cj/4mb6t1f906j397tj71pxfxz00000gn/T/ipykernel_9896/960989048.py:11: SettingWithCopyWarning: \n",
      "A value is trying to be set on a copy of a slice from a DataFrame.\n",
      "Try using .loc[row_indexer,col_indexer] = value instead\n",
      "\n",
      "See the caveats in the documentation: https://pandas.pydata.org/pandas-docs/stable/user_guide/indexing.html#returning-a-view-versus-a-copy\n",
      "  train_betas_with_data['wave']='all'\n"
     ]
    }
   ],
   "source": [
    "\n",
    "## SST\n",
    "train_betas_with_data = get_data_for_confirmed_train_subjs(\n",
    "    beta_glob = config['nonbids_data_path'] + \"fMRI/fx/models/SST/all_waves/health_conditions/sub-DEV*/\",\n",
    "    nonbids_data_path = config['nonbids_data_path'],\n",
    "    #ml_data_folderpath = ml_data_folderpath,\n",
    "    ml_scripting_path = config['dev_scripts_path'] + \"/fMRI/ml\",\n",
    "    dropbox_datapath=config['dropbox_data_dir'],\n",
    "    exclude_test_subjs=False\n",
    ")[0:5]\n",
    "\n",
    "train_betas_with_data['wave']='all'"
   ]
  },
  {
   "cell_type": "code",
   "execution_count": 6,
   "metadata": {},
   "outputs": [
    {
     "name": "stderr",
     "output_type": "stream",
     "text": [
      "/Users/benjaminsmith/Google Drive/oregon/code/DEV_scripts/fMRI/fx/models/SST/level2/level2_utils.py:28: SettingWithCopyWarning: \n",
      "A value is trying to be set on a copy of a slice from a DataFrame.\n",
      "Try using .loc[row_indexer,col_indexer] = value instead\n",
      "\n",
      "See the caveats in the documentation: https://pandas.pydata.org/pandas-docs/stable/user_guide/indexing.html#returning-a-view-versus-a-copy\n",
      "  betas['spm_l2_targeted_contrast_filepath'] = None\n"
     ]
    },
    {
     "name": "stdout",
     "output_type": "stream",
     "text": [
      "/Users/benjaminsmith/Google Drive/oregon/data/DEV/nonbids_data/fMRI/fx/models/SST/all_waves/health_conditions/sub-DEV008/\n",
      "0: Healthy_Go spmT_0001.nii\n",
      "1: Healthy_NoGo spmT_0002.nii\n",
      "2: Unhealthy_Go spmT_0003.nii\n",
      "3: Unhealthy_NoGo spmT_0004.nii\n",
      "4: Null_Cue spmT_0005.nii\n",
      "5: Stop(Healthy>Unhealthy) spmT_0006.nii\n",
      "6: Stop(Unhealthy>Healthy) spmT_0007.nii\n",
      "7: Go(Healthy>Unhealthy) spmT_0008.nii\n",
      "8: Go(Unhealthy>Healthy) spmT_0009.nii\n",
      "9: Healthy_Go(W2-W1) spmT_0010.nii\n",
      "10: Healthy_Go(W1-W2) spmT_0011.nii\n",
      "11: Healthy_NoGo(W2-W1) spmT_0012.nii\n",
      "12: Healthy_NoGo(W1-W2) spmT_0013.nii\n",
      "13: Unhealthy_Go(W2-W1) spmT_0014.nii\n",
      "14: Unhealthy_Go(W1-W2) spmT_0015.nii\n",
      "15: Unhealthy_NoGo(W2-W1) spmT_0016.nii\n",
      "16: Unhealthy_NoGo(W1-W2) spmT_0017.nii\n",
      "17: Null_Cue(W2-W1) spmT_0018.nii\n",
      "18: Null_Cue(W1-W2) spmT_0019.nii\n",
      "19: Stop(Healthy>Unhealthy)(W2-W1) spmT_0020.nii\n",
      "20: Stop(Healthy>Unhealthy)(W1-W2) spmT_0021.nii\n",
      "/Users/benjaminsmith/Google Drive/oregon/data/DEV/nonbids_data/fMRI/fx/models/SST/all_waves/health_conditions/sub-DEV013/\n",
      "0: Healthy_Go spmT_0001.nii\n",
      "1: Healthy_NoGo spmT_0002.nii\n",
      "2: Unhealthy_Go spmT_0003.nii\n",
      "3: Unhealthy_NoGo spmT_0004.nii\n",
      "4: Null_Cue spmT_0005.nii\n",
      "5: Stop(Healthy>Unhealthy) spmT_0006.nii\n",
      "6: Stop(Unhealthy>Healthy) spmT_0007.nii\n",
      "7: Go(Healthy>Unhealthy) spmT_0008.nii\n",
      "8: Go(Unhealthy>Healthy) spmT_0009.nii\n",
      "9: Healthy_Go(W2-W1) spmT_0010.nii\n",
      "10: Healthy_Go(W1-W2) spmT_0011.nii\n",
      "11: Healthy_NoGo(W2-W1) spmT_0012.nii\n",
      "12: Healthy_NoGo(W1-W2) spmT_0013.nii\n",
      "13: Unhealthy_Go(W2-W1) spmT_0014.nii\n",
      "14: Unhealthy_Go(W1-W2) spmT_0015.nii\n",
      "15: Unhealthy_NoGo(W2-W1) spmT_0016.nii\n",
      "16: Unhealthy_NoGo(W1-W2) spmT_0017.nii\n",
      "17: Null_Cue(W2-W1) spmT_0018.nii\n",
      "18: Null_Cue(W1-W2) spmT_0019.nii\n",
      "19: Stop(Healthy>Unhealthy)(W2-W1) spmT_0020.nii\n",
      "20: Stop(Healthy>Unhealthy)(W1-W2) spmT_0021.nii\n",
      "/Users/benjaminsmith/Google Drive/oregon/data/DEV/nonbids_data/fMRI/fx/models/SST/all_waves/health_conditions/sub-DEV014/\n",
      "0: Healthy_Go spmT_0001.nii\n",
      "1: Healthy_NoGo spmT_0002.nii\n",
      "2: Unhealthy_Go spmT_0003.nii\n",
      "3: Unhealthy_NoGo spmT_0004.nii\n",
      "4: Null_Cue spmT_0005.nii\n",
      "5: Stop(Healthy>Unhealthy) spmT_0006.nii\n",
      "6: Stop(Unhealthy>Healthy) spmT_0007.nii\n",
      "7: Go(Healthy>Unhealthy) spmT_0008.nii\n",
      "8: Go(Unhealthy>Healthy) spmT_0009.nii\n",
      "9: Healthy_Go(W2-W1) spmT_0010.nii\n",
      "10: Healthy_Go(W1-W2) spmT_0011.nii\n",
      "11: Healthy_NoGo(W2-W1) spmT_0012.nii\n",
      "12: Healthy_NoGo(W1-W2) spmT_0013.nii\n",
      "13: Unhealthy_Go(W2-W1) spmT_0014.nii\n",
      "14: Unhealthy_Go(W1-W2) spmT_0015.nii\n",
      "15: Unhealthy_NoGo(W2-W1) spmT_0016.nii\n",
      "16: Unhealthy_NoGo(W1-W2) spmT_0017.nii\n",
      "17: Null_Cue(W2-W1) spmT_0018.nii\n",
      "18: Null_Cue(W1-W2) spmT_0019.nii\n",
      "19: Stop(Healthy>Unhealthy)(W2-W1) spmT_0020.nii\n",
      "20: Stop(Healthy>Unhealthy)(W1-W2) spmT_0021.nii\n",
      "/Users/benjaminsmith/Google Drive/oregon/data/DEV/nonbids_data/fMRI/fx/models/SST/all_waves/health_conditions/sub-DEV015/\n",
      "0: Healthy_Go spmT_0001.nii\n",
      "1: Healthy_NoGo spmT_0002.nii\n",
      "2: Unhealthy_Go spmT_0003.nii\n",
      "3: Unhealthy_NoGo spmT_0004.nii\n",
      "4: Null_Cue spmT_0005.nii\n",
      "5: Stop(Healthy>Unhealthy) spmT_0006.nii\n",
      "6: Stop(Unhealthy>Healthy) spmT_0007.nii\n",
      "7: Go(Healthy>Unhealthy) spmT_0008.nii\n",
      "8: Go(Unhealthy>Healthy) spmT_0009.nii\n",
      "9: Healthy_Go(W2-W1) spmT_0010.nii\n",
      "10: Healthy_Go(W1-W2) spmT_0011.nii\n",
      "11: Healthy_NoGo(W2-W1) spmT_0012.nii\n",
      "12: Healthy_NoGo(W1-W2) spmT_0013.nii\n",
      "13: Unhealthy_Go(W2-W1) spmT_0014.nii\n",
      "14: Unhealthy_Go(W1-W2) spmT_0015.nii\n",
      "15: Unhealthy_NoGo(W2-W1) spmT_0016.nii\n",
      "16: Unhealthy_NoGo(W1-W2) spmT_0017.nii\n",
      "17: Null_Cue(W2-W1) spmT_0018.nii\n",
      "18: Null_Cue(W1-W2) spmT_0019.nii\n",
      "19: Stop(Healthy>Unhealthy)(W2-W1) spmT_0020.nii\n",
      "20: Stop(Healthy>Unhealthy)(W1-W2) spmT_0021.nii\n",
      "/Users/benjaminsmith/Google Drive/oregon/data/DEV/nonbids_data/fMRI/fx/models/SST/all_waves/health_conditions/sub-DEV016/\n",
      "0: Healthy_Go spmT_0001.nii\n",
      "1: Healthy_NoGo spmT_0002.nii\n",
      "2: Unhealthy_Go spmT_0003.nii\n",
      "3: Unhealthy_NoGo spmT_0004.nii\n",
      "4: Null_Cue spmT_0005.nii\n",
      "5: Stop(Healthy>Unhealthy) spmT_0006.nii\n",
      "6: Stop(Unhealthy>Healthy) spmT_0007.nii\n",
      "7: Go(Healthy>Unhealthy) spmT_0008.nii\n",
      "8: Go(Unhealthy>Healthy) spmT_0009.nii\n",
      "9: Healthy_Go(W2-W1) spmT_0010.nii\n",
      "10: Healthy_Go(W1-W2) spmT_0011.nii\n",
      "11: Healthy_NoGo(W2-W1) spmT_0012.nii\n",
      "12: Healthy_NoGo(W1-W2) spmT_0013.nii\n",
      "13: Unhealthy_Go(W2-W1) spmT_0014.nii\n",
      "14: Unhealthy_Go(W1-W2) spmT_0015.nii\n",
      "15: Unhealthy_NoGo(W2-W1) spmT_0016.nii\n",
      "16: Unhealthy_NoGo(W1-W2) spmT_0017.nii\n",
      "17: Null_Cue(W2-W1) spmT_0018.nii\n",
      "18: Null_Cue(W1-W2) spmT_0019.nii\n",
      "19: Stop(Healthy>Unhealthy)(W2-W1) spmT_0020.nii\n",
      "20: Stop(Healthy>Unhealthy)(W1-W2) spmT_0021.nii\n"
     ]
    }
   ],
   "source": [
    "contrasts_with_paths = get_contrasts_for_betas(train_betas_with_data)"
   ]
  },
  {
   "cell_type": "markdown",
   "metadata": {},
   "source": [
    "### spatial normalization"
   ]
  },
  {
   "cell_type": "code",
   "execution_count": 135,
   "metadata": {},
   "outputs": [
    {
     "name": "stdout",
     "output_type": "stream",
     "text": [
      "response inhibition_association-test_z_FDR_0.01\n",
      "producing the vector for this mask/series...\n",
      "value_association-test_z_FDR_0.01\n",
      "producing the vector for this mask/series...\n",
      "striatum_joint_reward_mask\n",
      "producing the vector for this mask/series...\n",
      "value_association_frontal_medial_cortex\n",
      "producing the vector for this mask/series...\n",
      "Unhealthy_NoGo(W2-W1)\n",
      "loading 5images...\n",
      "...loaded.\n",
      "['DEV008', 'DEV013', 'DEV014', 'DEV015', 'DEV016'], ['all', 'all', 'all', 'all', 'all'], Unhealthy_NoGo(W2-W1), response inhibition_association-test_z_FDR_0.01\n"
     ]
    },
    {
     "name": "stderr",
     "output_type": "stream",
     "text": [
      "/Users/benjaminsmith/opt/anaconda3/envs/neuralsignature/lib/python3.10/site-packages/nilearn/image/image.py:1041: UserWarning: Data array used to create a new image contains 64-bit ints. This is likely due to creating the array with numpy and passing `int` as the `dtype`. Many tools such as FSL and SPM cannot deal with int64 in Nifti images, so for compatibility the data has been converted to int32.\n",
      "  return new_img_like(niimg, result, niimg.affine)\n"
     ]
    },
    {
     "name": "stdout",
     "output_type": "stream",
     "text": [
      "proportion of image active: 0.01383226975097848\n",
      "activity scalar is [ 0.23372159  0.26805397  0.22419931 -0.32014032  0.21864516]\n",
      "['DEV008', 'DEV013', 'DEV014', 'DEV015', 'DEV016'], ['all', 'all', 'all', 'all', 'all'], Unhealthy_NoGo(W2-W1), value_association-test_z_FDR_0.01\n"
     ]
    },
    {
     "name": "stderr",
     "output_type": "stream",
     "text": [
      "/Users/benjaminsmith/opt/anaconda3/envs/neuralsignature/lib/python3.10/site-packages/nilearn/image/image.py:1041: UserWarning: Data array used to create a new image contains 64-bit ints. This is likely due to creating the array with numpy and passing `int` as the `dtype`. Many tools such as FSL and SPM cannot deal with int64 in Nifti images, so for compatibility the data has been converted to int32.\n",
      "  return new_img_like(niimg, result, niimg.affine)\n",
      "/Users/benjaminsmith/opt/anaconda3/envs/neuralsignature/lib/python3.10/site-packages/nilearn/image/resampling.py:545: UserWarning: Casting data from int32 to float32\n",
      "  warnings.warn(\"Casting data from %s to %s\" % (data.dtype.name, aux))\n",
      "/Users/benjaminsmith/opt/anaconda3/envs/neuralsignature/lib/python3.10/site-packages/nilearn/image/resampling.py:274: UserWarning: Resampling binary images with continuous or linear interpolation. This might lead to unexpected results. You might consider using nearest interpolation instead.\n",
      "  warnings.warn(\"Resampling binary images with continuous or \"\n"
     ]
    },
    {
     "name": "stdout",
     "output_type": "stream",
     "text": [
      "proportion of image active: 0.016650108360635286\n",
      "activity scalar is [-0.3371406   0.45255724 -0.00754983 -0.30309204  0.18685578]\n",
      "['DEV008', 'DEV013', 'DEV014', 'DEV015', 'DEV016'], ['all', 'all', 'all', 'all', 'all'], Unhealthy_NoGo(W2-W1), striatum_joint_reward_mask\n"
     ]
    },
    {
     "name": "stderr",
     "output_type": "stream",
     "text": [
      "/Users/benjaminsmith/opt/anaconda3/envs/neuralsignature/lib/python3.10/site-packages/nilearn/image/image.py:1041: UserWarning: Data array used to create a new image contains 64-bit ints. This is likely due to creating the array with numpy and passing `int` as the `dtype`. Many tools such as FSL and SPM cannot deal with int64 in Nifti images, so for compatibility the data has been converted to int32.\n",
      "  return new_img_like(niimg, result, niimg.affine)\n",
      "/Users/benjaminsmith/opt/anaconda3/envs/neuralsignature/lib/python3.10/site-packages/nilearn/image/resampling.py:545: UserWarning: Casting data from int32 to float32\n",
      "  warnings.warn(\"Casting data from %s to %s\" % (data.dtype.name, aux))\n"
     ]
    },
    {
     "name": "stdout",
     "output_type": "stream",
     "text": [
      "proportion of image active: 0.005345483279191523\n",
      "activity scalar is [ 0.35484639  0.29716763 -0.19952546 -0.59741527  0.28910283]\n",
      "['DEV008', 'DEV013', 'DEV014', 'DEV015', 'DEV016'], ['all', 'all', 'all', 'all', 'all'], Unhealthy_NoGo(W2-W1), value_association_frontal_medial_cortex\n"
     ]
    },
    {
     "name": "stderr",
     "output_type": "stream",
     "text": [
      "/Users/benjaminsmith/opt/anaconda3/envs/neuralsignature/lib/python3.10/site-packages/nilearn/image/resampling.py:274: UserWarning: Resampling binary images with continuous or linear interpolation. This might lead to unexpected results. You might consider using nearest interpolation instead.\n",
      "  warnings.warn(\"Resampling binary images with continuous or \"\n",
      "/Users/benjaminsmith/opt/anaconda3/envs/neuralsignature/lib/python3.10/site-packages/nilearn/image/image.py:1041: UserWarning: Data array used to create a new image contains 64-bit ints. This is likely due to creating the array with numpy and passing `int` as the `dtype`. Many tools such as FSL and SPM cannot deal with int64 in Nifti images, so for compatibility the data has been converted to int32.\n",
      "  return new_img_like(niimg, result, niimg.affine)\n"
     ]
    },
    {
     "name": "stdout",
     "output_type": "stream",
     "text": [
      "proportion of image active: 0.0007864810288022106\n",
      "activity scalar is [-1.89672942  1.00260079  0.50228912 -0.27120448  0.88836969]\n",
      "Unhealthy_Go(W2-W1)\n",
      "loading 5images...\n",
      "...loaded.\n",
      "['DEV008', 'DEV013', 'DEV014', 'DEV015', 'DEV016'], ['all', 'all', 'all', 'all', 'all'], Unhealthy_Go(W2-W1), response inhibition_association-test_z_FDR_0.01\n"
     ]
    },
    {
     "name": "stderr",
     "output_type": "stream",
     "text": [
      "/Users/benjaminsmith/opt/anaconda3/envs/neuralsignature/lib/python3.10/site-packages/nilearn/image/image.py:1041: UserWarning: Data array used to create a new image contains 64-bit ints. This is likely due to creating the array with numpy and passing `int` as the `dtype`. Many tools such as FSL and SPM cannot deal with int64 in Nifti images, so for compatibility the data has been converted to int32.\n",
      "  return new_img_like(niimg, result, niimg.affine)\n"
     ]
    },
    {
     "name": "stdout",
     "output_type": "stream",
     "text": [
      "proportion of image active: 0.01383226975097848\n",
      "activity scalar is [ 0.38148572  0.25262287  0.18533358 -0.42019788  0.2618191 ]\n",
      "['DEV008', 'DEV013', 'DEV014', 'DEV015', 'DEV016'], ['all', 'all', 'all', 'all', 'all'], Unhealthy_Go(W2-W1), value_association-test_z_FDR_0.01\n"
     ]
    },
    {
     "name": "stderr",
     "output_type": "stream",
     "text": [
      "/Users/benjaminsmith/opt/anaconda3/envs/neuralsignature/lib/python3.10/site-packages/nilearn/image/image.py:1041: UserWarning: Data array used to create a new image contains 64-bit ints. This is likely due to creating the array with numpy and passing `int` as the `dtype`. Many tools such as FSL and SPM cannot deal with int64 in Nifti images, so for compatibility the data has been converted to int32.\n",
      "  return new_img_like(niimg, result, niimg.affine)\n",
      "/Users/benjaminsmith/opt/anaconda3/envs/neuralsignature/lib/python3.10/site-packages/nilearn/image/resampling.py:545: UserWarning: Casting data from int32 to float32\n",
      "  warnings.warn(\"Casting data from %s to %s\" % (data.dtype.name, aux))\n",
      "/Users/benjaminsmith/opt/anaconda3/envs/neuralsignature/lib/python3.10/site-packages/nilearn/image/resampling.py:274: UserWarning: Resampling binary images with continuous or linear interpolation. This might lead to unexpected results. You might consider using nearest interpolation instead.\n",
      "  warnings.warn(\"Resampling binary images with continuous or \"\n"
     ]
    },
    {
     "name": "stdout",
     "output_type": "stream",
     "text": [
      "proportion of image active: 0.016650108360635286\n",
      "activity scalar is [-0.21048922  0.52168997 -0.13947916 -0.33478862  0.09571068]\n",
      "['DEV008', 'DEV013', 'DEV014', 'DEV015', 'DEV016'], ['all', 'all', 'all', 'all', 'all'], Unhealthy_Go(W2-W1), striatum_joint_reward_mask\n"
     ]
    },
    {
     "name": "stderr",
     "output_type": "stream",
     "text": [
      "/Users/benjaminsmith/opt/anaconda3/envs/neuralsignature/lib/python3.10/site-packages/nilearn/image/image.py:1041: UserWarning: Data array used to create a new image contains 64-bit ints. This is likely due to creating the array with numpy and passing `int` as the `dtype`. Many tools such as FSL and SPM cannot deal with int64 in Nifti images, so for compatibility the data has been converted to int32.\n",
      "  return new_img_like(niimg, result, niimg.affine)\n",
      "/Users/benjaminsmith/opt/anaconda3/envs/neuralsignature/lib/python3.10/site-packages/nilearn/image/resampling.py:545: UserWarning: Casting data from int32 to float32\n",
      "  warnings.warn(\"Casting data from %s to %s\" % (data.dtype.name, aux))\n"
     ]
    },
    {
     "name": "stdout",
     "output_type": "stream",
     "text": [
      "proportion of image active: 0.005345483279191523\n",
      "activity scalar is [ 0.4930079   0.40040638 -0.25481355 -0.6727482   0.20123851]\n",
      "['DEV008', 'DEV013', 'DEV014', 'DEV015', 'DEV016'], ['all', 'all', 'all', 'all', 'all'], Unhealthy_Go(W2-W1), value_association_frontal_medial_cortex\n"
     ]
    },
    {
     "name": "stderr",
     "output_type": "stream",
     "text": [
      "/Users/benjaminsmith/opt/anaconda3/envs/neuralsignature/lib/python3.10/site-packages/nilearn/image/resampling.py:274: UserWarning: Resampling binary images with continuous or linear interpolation. This might lead to unexpected results. You might consider using nearest interpolation instead.\n",
      "  warnings.warn(\"Resampling binary images with continuous or \"\n",
      "/Users/benjaminsmith/opt/anaconda3/envs/neuralsignature/lib/python3.10/site-packages/nilearn/image/image.py:1041: UserWarning: Data array used to create a new image contains 64-bit ints. This is likely due to creating the array with numpy and passing `int` as the `dtype`. Many tools such as FSL and SPM cannot deal with int64 in Nifti images, so for compatibility the data has been converted to int32.\n",
      "  return new_img_like(niimg, result, niimg.affine)\n"
     ]
    },
    {
     "name": "stdout",
     "output_type": "stream",
     "text": [
      "proportion of image active: 0.0007864810288022106\n",
      "activity scalar is [-1.86498156  1.11703706 -0.07158268 -0.17880452  0.9639957 ]\n",
      "Stop(Healthy>Unhealthy)(W2-W1)\n",
      "loading 5images...\n",
      "...loaded.\n",
      "['DEV008', 'DEV013', 'DEV014', 'DEV015', 'DEV016'], ['all', 'all', 'all', 'all', 'all'], Stop(Healthy>Unhealthy)(W2-W1), response inhibition_association-test_z_FDR_0.01\n"
     ]
    },
    {
     "name": "stderr",
     "output_type": "stream",
     "text": [
      "/Users/benjaminsmith/opt/anaconda3/envs/neuralsignature/lib/python3.10/site-packages/nilearn/image/image.py:1041: UserWarning: Data array used to create a new image contains 64-bit ints. This is likely due to creating the array with numpy and passing `int` as the `dtype`. Many tools such as FSL and SPM cannot deal with int64 in Nifti images, so for compatibility the data has been converted to int32.\n",
      "  return new_img_like(niimg, result, niimg.affine)\n"
     ]
    },
    {
     "name": "stdout",
     "output_type": "stream",
     "text": [
      "proportion of image active: 0.01383226975097848\n",
      "activity scalar is [-0.31743621 -0.29027447 -0.25788366 -0.18944234  0.04070792]\n",
      "['DEV008', 'DEV013', 'DEV014', 'DEV015', 'DEV016'], ['all', 'all', 'all', 'all', 'all'], Stop(Healthy>Unhealthy)(W2-W1), value_association-test_z_FDR_0.01\n"
     ]
    },
    {
     "name": "stderr",
     "output_type": "stream",
     "text": [
      "/Users/benjaminsmith/opt/anaconda3/envs/neuralsignature/lib/python3.10/site-packages/nilearn/image/image.py:1041: UserWarning: Data array used to create a new image contains 64-bit ints. This is likely due to creating the array with numpy and passing `int` as the `dtype`. Many tools such as FSL and SPM cannot deal with int64 in Nifti images, so for compatibility the data has been converted to int32.\n",
      "  return new_img_like(niimg, result, niimg.affine)\n"
     ]
    },
    {
     "name": "stdout",
     "output_type": "stream",
     "text": [
      "proportion of image active: 0.016650108360635286\n",
      "activity scalar is [ 0.22650371 -0.38712601 -0.44804054 -0.02345837  0.06649961]\n",
      "['DEV008', 'DEV013', 'DEV014', 'DEV015', 'DEV016'], ['all', 'all', 'all', 'all', 'all'], Stop(Healthy>Unhealthy)(W2-W1), striatum_joint_reward_mask\n"
     ]
    },
    {
     "name": "stderr",
     "output_type": "stream",
     "text": [
      "/Users/benjaminsmith/opt/anaconda3/envs/neuralsignature/lib/python3.10/site-packages/nilearn/image/resampling.py:545: UserWarning: Casting data from int32 to float32\n",
      "  warnings.warn(\"Casting data from %s to %s\" % (data.dtype.name, aux))\n",
      "/Users/benjaminsmith/opt/anaconda3/envs/neuralsignature/lib/python3.10/site-packages/nilearn/image/resampling.py:274: UserWarning: Resampling binary images with continuous or linear interpolation. This might lead to unexpected results. You might consider using nearest interpolation instead.\n",
      "  warnings.warn(\"Resampling binary images with continuous or \"\n",
      "/Users/benjaminsmith/opt/anaconda3/envs/neuralsignature/lib/python3.10/site-packages/nilearn/image/image.py:1041: UserWarning: Data array used to create a new image contains 64-bit ints. This is likely due to creating the array with numpy and passing `int` as the `dtype`. Many tools such as FSL and SPM cannot deal with int64 in Nifti images, so for compatibility the data has been converted to int32.\n",
      "  return new_img_like(niimg, result, niimg.affine)\n"
     ]
    },
    {
     "name": "stdout",
     "output_type": "stream",
     "text": [
      "proportion of image active: 0.005345483279191523\n",
      "activity scalar is [ 0.26390682 -0.37288797 -0.12177748 -0.12070618  0.16758881]\n",
      "['DEV008', 'DEV013', 'DEV014', 'DEV015', 'DEV016'], ['all', 'all', 'all', 'all', 'all'], Stop(Healthy>Unhealthy)(W2-W1), value_association_frontal_medial_cortex\n"
     ]
    },
    {
     "name": "stderr",
     "output_type": "stream",
     "text": [
      "/Users/benjaminsmith/opt/anaconda3/envs/neuralsignature/lib/python3.10/site-packages/nilearn/image/resampling.py:545: UserWarning: Casting data from int32 to float32\n",
      "  warnings.warn(\"Casting data from %s to %s\" % (data.dtype.name, aux))\n",
      "/Users/benjaminsmith/opt/anaconda3/envs/neuralsignature/lib/python3.10/site-packages/nilearn/image/resampling.py:274: UserWarning: Resampling binary images with continuous or linear interpolation. This might lead to unexpected results. You might consider using nearest interpolation instead.\n",
      "  warnings.warn(\"Resampling binary images with continuous or \"\n",
      "/Users/benjaminsmith/opt/anaconda3/envs/neuralsignature/lib/python3.10/site-packages/nilearn/image/image.py:1041: UserWarning: Data array used to create a new image contains 64-bit ints. This is likely due to creating the array with numpy and passing `int` as the `dtype`. Many tools such as FSL and SPM cannot deal with int64 in Nifti images, so for compatibility the data has been converted to int32.\n",
      "  return new_img_like(niimg, result, niimg.affine)\n"
     ]
    },
    {
     "name": "stdout",
     "output_type": "stream",
     "text": [
      "proportion of image active: 0.0007864810288022106\n",
      "activity scalar is [ 1.02881767  0.04526708 -1.61032048  0.62118094  0.23062074]\n"
     ]
    }
   ],
   "source": [
    "#from level2.level2_roi_extraction import level2_roi_extractor\n",
    "\n",
    "contrast_name_list = [\n",
    "    'Unhealthy_NoGo(W2-W1)',\n",
    "    'Unhealthy_Go(W2-W1)',\n",
    "    'Stop(Healthy>Unhealthy)(W2-W1)'\n",
    "    ]\n",
    "\n",
    "l2_roi_extractor = level2_roi_extractor(center_data=True,scale_data=True)\n",
    "l2_roi_extractor.load_all_images_simultaneously=True\n",
    "l2_roi_extractor.image_standardize=True\n",
    "l2_roi_extractor.brain_mask_path = '/Users/benjaminsmith/anaconda/lib/python3.6/site-packages/nltools/resources/MNI152_T1_2mm_brain_mask.nii.gz'\n",
    "\n",
    "#get the ROI data\n",
    "roi_data_sst_conditions = l2_roi_extractor.get_roi_data_for_l2_contrasts(contrasts_with_paths, contrast_name_list, sst_roi_df)"
   ]
  },
  {
   "cell_type": "code",
   "execution_count": 109,
   "metadata": {},
   "outputs": [
    {
     "name": "stdout",
     "output_type": "stream",
     "text": [
      "response inhibition_association-test_z_FDR_0.01\n",
      "producing the vector for this mask/series...\n",
      "value_association-test_z_FDR_0.01\n",
      "producing the vector for this mask/series...\n",
      "striatum_joint_reward_mask\n",
      "producing the vector for this mask/series...\n",
      "value_association_frontal_medial_cortex\n",
      "producing the vector for this mask/series...\n",
      "Unhealthy_NoGo(W2-W1)\n",
      "loading 5images...\n",
      "...loaded.\n"
     ]
    }
   ],
   "source": [
    "col_function=lambda img_name: \"contrast_\" + img_name + \"_fname\"\n",
    "#iterate through each mask\n",
    "#return(self.get_roi_data_for_l2(beta_list,condition_list,roi_df,col_function)\n",
    "raw_roi_list = l2_roi_extractor.load_rois(roi_df)\n",
    "\n",
    "#now iterate through each beta image\n",
    "#for each beta type\n",
    "# roi_data_all = []\n",
    "\n",
    "print(condition)\n",
    "    \n",
    "#roi_data_sst_conditions = l2_roi_extractor.get_roi_data_for_l2_contrasts(contrasts_with_paths, contrast_name_list, sst_roi_df)\n",
    "beta_list = contrasts_with_paths\n",
    "condition_list = contrast_name_list\n",
    "roi_df = sst_roi_df\n",
    "#def get_roi_data_for_l2_contrasts(self, beta_list, condition_list,roi_df):\n",
    "#return(self.get_roi_data_for_l2(beta_list,condition_list,roi_df,col_function))\n",
    "#def get_roi_data_for_l2(self, beta_list,condition_list,roi_df,col_function):\n",
    "#def get_roi_data_across_all_betas(self,beta_list: pd.DataFrame, condition,col_function, raw_roi_list, roi_df):\n",
    "    # if self.load_all_images_simultaneously:\n",
    "#roi_data = l2_roi_extractor.get_roi_data_across_all_betas(beta_list, condition,col_function, raw_roi_list, roi_df)\n",
    "    # else:\n",
    "    #     roi_data = self.get_roi_data_for_roi_col(beta_list, condition,col_function, raw_roi_list)\n",
    "    # roi_data_all = roi_data_all + roi_data\n",
    "    \n",
    "#def get_roi_data_across_all_betas(self,beta_list: pd.DataFrame, condition,col_function, raw_roi_list, roi_df):\n",
    "colname = col_function(condition)\n",
    "image_series,beta_list_exists = l2_roi_extractor.get_image_series(beta_list,colname)\n",
    "\n"
   ]
  },
  {
   "cell_type": "code",
   "execution_count": 114,
   "metadata": {},
   "outputs": [
    {
     "name": "stdout",
     "output_type": "stream",
     "text": [
      "228352\n",
      "228352\n",
      "228352\n",
      "228352\n",
      "228352\n",
      "228352\n",
      "228352\n"
     ]
    }
   ],
   "source": [
    "print(np.sum(np.sum(np.abs(image_fdata),axis=3)>0.1))\n",
    "print(np.sum(np.sum(np.abs(image_fdata),axis=3)>0.01))\n",
    "print(np.sum(np.sum(np.abs(image_fdata),axis=3)>0.001))\n",
    "print(np.sum(np.sum(np.abs(image_fdata),axis=3)>0.0001))\n",
    "print(np.sum(np.sum(np.abs(image_fdata),axis=3)>0.00001))\n",
    "print(np.sum(np.sum(np.abs(image_fdata),axis=3)>0.000001))\n",
    "print(np.sum(np.sum(np.abs(image_fdata),axis=3)>0.0000001))"
   ]
  },
  {
   "cell_type": "code",
   "execution_count": 118,
   "metadata": {},
   "outputs": [],
   "source": [
    "#put that back into an image\n",
    "image_series_normed = nil.image.new_img_like(image_series,image_series_normed_fdata)\n",
    "\n",
    "image_series.to_filename(\"test_image_raw.nii.gz\")\n",
    "image_series_normed.to_filename(\"test_image_normed.nii.gz\")"
   ]
  },
  {
   "cell_type": "markdown",
   "metadata": {},
   "source": [
    "I think we have work to do, see:\n",
    "\n",
    "https://docs.google.com/spreadsheets/d/15iykB7qzCm8xqt7hgzIH58e-pAWgGz9BWKjEeN0MpBw/edit#gid=0\n"
   ]
  },
  {
   "cell_type": "markdown",
   "metadata": {},
   "source": [
    "# TEMP"
   ]
  },
  {
   "cell_type": "code",
   "execution_count": 134,
   "metadata": {},
   "outputs": [],
   "source": [
    "import os\n",
    "import nilearn as nil\n",
    "import nibabel as nib\n",
    "import pandas as pd\n",
    "import numpy as np\n",
    "from direct_regression.get_all_series import get_beta_img, mask_3d_subject_image, mask_4d_subject_image, signature_weight_3d_subject_image\n",
    "\n",
    "#for backwards compatibility, we expose some functions that work without the class\n",
    "\n",
    "def get_roi_data_for_beta(\n",
    "            subject_id,\n",
    "            wave,\n",
    "            spm_l2_path,\n",
    "            condition,\n",
    "            beta_name,\n",
    "            raw_roi_list, roi_df, active_img_cleaned):\n",
    "    return level2_roi_extractor().get_roi_data_for_beta(\n",
    "            subject_id,\n",
    "            wave,\n",
    "            spm_l2_path,\n",
    "            condition,\n",
    "            beta_name,\n",
    "            raw_roi_list, roi_df, active_img_cleaned)\n",
    "\n",
    "def get_roi_data_for_l2_betas():\n",
    "    return level2_roi_extractor().get_roi_data_for_l2_betas()\n",
    "\n",
    "def load_rois(mask_df):\n",
    "    return level2_roi_extractor().load_rois(mask_df)\n",
    "\n",
    "def get_roi_data_for_multirun_l2_betas(beta_list,condition_list,mask_df,spatial_mean_center=False,\n",
    "                                        collapse_runs=False):\n",
    "    return level2_roi_extractor().get_roi_data_for_multirun_l2_betas(beta_list,condition_list,mask_df,spatial_mean_center=False,\n",
    "                                        collapse_runs=False)\n",
    "\n",
    "class level2_roi_extractor:\n",
    "\n",
    "    # define init\n",
    "    def __init__(self,center_data=False, scale_data=False):\n",
    "        self.center_data = center_data\n",
    "        self.scale_data = scale_data\n",
    "        self.load_all_images_simultaneously = False\n",
    "        self.image_standardize = False\n",
    "        self.brain_mask_path = None\n",
    "\n",
    "\n",
    "    def load_rois(self, mask_df):\n",
    "        raw_mask_list = []\n",
    "        for m_i, m_set in mask_df.iterrows():\n",
    "            print(m_set['mask_label'])\n",
    "            print('producing the vector for this mask/series...')\n",
    "            #get the mask\n",
    "            mask_raw = nil.image.load_img(m_set['mask_path'])\n",
    "            raw_mask_list = raw_mask_list + [mask_raw]\n",
    "\n",
    "        return raw_mask_list\n",
    "    \n",
    "    \n",
    "    def spatially_normalize(self, image_series: nib.nifti1.Nifti1Image) -> nib.nifti1.Nifti1Image:\n",
    "        \"\"\"\n",
    "        takes a 4d image series with 0s representing voxels outside the brain and every other value representing inside the brain\n",
    "        creates an auto-mask from that image series\n",
    "        then spatially normalizes the image series by subtracting the mean and dividing by the standard deviation\n",
    "        \"\"\"\n",
    "        assert (len(image_series.shape)==4)\n",
    "        #get a mean of the first three dimensions of the image\n",
    "        #actually have to mask these first.\n",
    "\n",
    "        image_fdata = image_series.get_fdata()\n",
    "        image_defacto_mask = np.mean(np.abs(image_fdata),axis=3)>0.00001\n",
    "        image_means = np.mean(image_fdata[image_defacto_mask],axis=0)\n",
    "        image_sds = np.std(image_fdata[image_defacto_mask],axis=0)\n",
    "        # print(image_means, image_sds)\n",
    "        # print(np.mean(image_means), np.mean(image_sds))\n",
    "\n",
    "        #now divide each voxel by the mean applicalbe to that voxel\n",
    "        image_series_normed_fdata = image_fdata.copy()\n",
    "        image_series_normed_fdata[image_defacto_mask]= (image_fdata[image_defacto_mask] - image_means)/image_sds\n",
    "\n",
    "        image_series_normed = nil.image.new_img_like(image_series,image_series_normed_fdata)\n",
    "\n",
    "        return(image_series_normed)\n",
    "\n",
    "\n",
    "    \n",
    "    def mask_subject_image(self,roi_raw, active_img_cleaned, bin_threshold):\n",
    "        if len(active_img_cleaned.shape)==3 or active_img_cleaned.shape[3]==1:\n",
    "            masked_img = mask_3d_subject_image(roi_raw, active_img_cleaned, bin_threshold)\n",
    "        elif len(active_img_cleaned.shape)==4:\n",
    "            masked_img = mask_4d_subject_image(roi_raw, active_img_cleaned, bin_threshold)\n",
    "        return(masked_img)\n",
    "    \n",
    "\n",
    "    def get_roi_data_for_beta(self, \n",
    "            subject_id,\n",
    "            wave,\n",
    "            spm_l2_path,\n",
    "            condition,\n",
    "            beta_name,\n",
    "            raw_roi_list, roi_df, active_img_cleaned):\n",
    "        roi_data_for_beta = []\n",
    "        roi_df = roi_df.copy().reset_index(drop=True)\n",
    "        #rules for input: \n",
    "        # length of active_img_cleaned can be 1 or more\n",
    "        # subject_id should be a scalar, a string, or an iterable with the same number of images in active_img_cleaned\n",
    "        assert (len(subject_id)==active_img_cleaned.shape[3] or isinstance(subject_id,str) or (not hasattr(subject_id, \"__iter__\")))\n",
    "        # length of beta_name should also be 1 or the same as the number of images in active_img_cleaned\n",
    "        assert (len(beta_name)==active_img_cleaned.shape[3] or isinstance(beta_name,str) or (not hasattr(beta_name, \"__iter__\")))\n",
    "        #if subject_id or wave are iterables, then beta_name should be, too\n",
    "        if (\n",
    "            (hasattr(subject_id, \"__iter__\") and subject_id is not str) or\n",
    "            (hasattr(wave, \"__iter__\") and wave is not str)):\n",
    "            assert (hasattr(beta_name, \"__iter__\") and beta_name is not str)\n",
    "        # masks are always independent of the number of images in active_img_cleaned\n",
    "        \n",
    "        for m_i, m_set in roi_df.iterrows():\n",
    "            print(str(subject_id) + \", \" + str(wave) + \", \" + str(condition) + \", \" + m_set['mask_label'])\n",
    "            \n",
    "            roi_raw = raw_roi_list[m_i]\n",
    "\n",
    "            if 'image_type' not in m_set.keys():\n",
    "                #no image type set. need to handle this case first in order to avoid errors.\n",
    "                active_img_masked = self.mask_subject_image(roi_raw, active_img_cleaned, bin_threshold=np.max(roi_raw.get_fdata())/1000)\n",
    "            elif m_set['image_type'] == 'mask':\n",
    "                #binary threshold has to be not quite zero because, with the dtype transform, \n",
    "                # some zeros get rounded up to a very-close-to-zero amount.\n",
    "                active_img_masked = self.mask_subject_image(roi_raw, active_img_cleaned, bin_threshold=np.max(roi_raw.get_fdata())/1000)\n",
    "            elif m_set['image_type'] == 'signature':\n",
    "                #handles a bit differently; for signatures we don't set a binary threshold; the images are simply multiplied together.\n",
    "                active_img_masked = signature_weight_3d_subject_image(roi_raw, active_img_cleaned)\n",
    "            else:\n",
    "                raise ValueError(\"image type not recognized\")\n",
    "            \n",
    "            if len(active_img_masked.shape)==1:\n",
    "                activity_scalar = active_img_masked.mean()\n",
    "            elif len(active_img_masked.shape)==2:\n",
    "                #get row means of the masked image\n",
    "                activity_scalar = active_img_masked.mean(axis=1)\n",
    "\n",
    "\n",
    "            print(\"activity scalar is \" + str(activity_scalar))\n",
    "            roi_data_for_beta.append(pd.DataFrame({\n",
    "                'subject_id': subject_id,#r['subject_id'],\n",
    "                'wave':wave,# r['wave'],\n",
    "                'spm_l2_path':spm_l2_path,#r['spm_l2_path'],\n",
    "                'condition' : condition,\n",
    "                'beta_name': beta_name,#r[colname],\n",
    "                'mask_label': m_set['mask_label'],\n",
    "                'roi_activity': activity_scalar\n",
    "            }))\n",
    "        return roi_data_for_beta\n",
    "\n",
    "\n",
    "\n",
    "    def get_roi_data_for_multirun_l2_betas(self, beta_list,condition_list,mask_df,spatial_mean_center=False,\n",
    "                                        collapse_runs=False):\n",
    "        ###\n",
    "        #takes a beta list where each entry is one beta image \n",
    "        #mean-centers each mask\n",
    "        #and gets the ROI data for each beta image\n",
    "        \n",
    "        \n",
    "        raw_mask_list = load_rois(mask_df)\n",
    "\n",
    "        roi_data_all = []\n",
    "\n",
    "        #iterate through each subject and wave\n",
    "        for sub_i,sub in enumerate(np.unique(beta_list.subject_id)):\n",
    "            #and through each condition\n",
    "            for wave_i,wave in enumerate(np.unique(beta_list.wave)):\n",
    "                #get the conditions applicable for this subject\n",
    "                session_betas = beta_list[(beta_list['subject_id']==sub) & (beta_list['wave']==wave)]\n",
    "                #iterate through each condition\n",
    "                for condition in set(np.unique(session_betas.beta_description)).intersection(set(condition_list)):\n",
    "                    #get the betas for this condition\n",
    "                    condition_betas = session_betas[session_betas['beta_description']==condition]\n",
    "\n",
    "\n",
    "                    #iterate through each beta\n",
    "                    for i, r in condition_betas.iterrows():\n",
    "                        #some checks where skipping is necessary\n",
    "                        if type(r['beta_fname'])==float:\n",
    "                            if np.isnan(r['beta_fname']):\n",
    "                                continue\n",
    "                            #we want an error thrown if somehow it's a float but not nan,\n",
    "                            # so we handle that case here.\n",
    "                        if r['beta_fname'] is None:\n",
    "                            continue\n",
    "                        \n",
    "                    \n",
    "                        #get the beta image from which to pull an ROI\n",
    "                        beta_img_filepath = r['spm_l2_path'] + r['beta_fname']\n",
    "                        active_img_cleaned = get_beta_img(beta_img_filepath)\n",
    "                        if active_img_cleaned is None:\n",
    "                            continue\n",
    "\n",
    "                        print(\"img mean is \" + str(np.mean(active_img_cleaned.get_fdata()[np.isnan(active_img_cleaned.get_fdata())==False])))\n",
    "\n",
    "\n",
    "                        if spatial_mean_center:\n",
    "                            #mean center the nifti image\n",
    "                            raise NotImplementedError(\"spatial mean centering not implemented\")\n",
    "                            active_img_cleaned = active_img_cleaned - active_img_cleaned.mean()\n",
    "\n",
    "\n",
    "                            #active_img_cleaned = active_img_cleaned - active_img_cleaned.mean()\n",
    "\n",
    "                        #for each mask\n",
    "                        roi_data_from_masks = get_roi_data_for_beta(\n",
    "                                r['subject_id'],\n",
    "                                r['wave'],\n",
    "                                r['spm_l2_path'],\n",
    "                                condition,\n",
    "                                r['beta_fname'],\n",
    "                                raw_mask_list, mask_df, active_img_cleaned)\n",
    "                        roi_data_from_masks_df = pd.DataFrame(roi_data_from_masks)\n",
    "                        roi_data_from_masks_df['run'] = r['task_run']\n",
    "                        roi_data_all.append(roi_data_from_masks_df)\n",
    "                        \n",
    "        roi_data_all_df = pd.concat(roi_data_all)\n",
    "\n",
    "        if collapse_runs:\n",
    "            roi_data_all_df = collapse_runs(roi_data_all_df)\n",
    "\n",
    "        return roi_data_all_df\n",
    "    \n",
    "\n",
    "\n",
    "    def get_roi_data_for_l2_contrasts(self, beta_list, condition_list,roi_df):\n",
    "        col_function=lambda img_name: \"contrast_\" + img_name + \"_fname\"\n",
    "        #iterate through each mask\n",
    "        return(self.get_roi_data_for_l2(beta_list,condition_list,roi_df,col_function))\n",
    "\n",
    "    def subtract_mean(self, image_series):\n",
    "        img_mask = self.brain_mask_path\n",
    "                # Get a mean image within the roi\n",
    "        mean_image = nil.image.math_img(\"np.mean(img1 * img2, axis=-1)\",\n",
    "                                img1=image_series, img2=img_mask)\n",
    "        \n",
    "        # duplicate the mean image to have the same shape as image_series\n",
    "        mean_image = nil.image.new_img_like(image_series, \n",
    "                                        np.repeat(mean_image.get_fdata()[..., np.newaxis], \n",
    "                                                image_series.shape[-1], axis=-1))\n",
    "\n",
    "        # Subtract the mean from each image\n",
    "        standardized_images = nil.image.math_img('(img1 - img2)', img1=image_series, img2=mean_image)\n",
    "        return(standardized_images)\n",
    "    \n",
    "    def get_image_series(self, beta_list,colname):\n",
    "            \n",
    "        beta_filepaths = [r['spm_l2_path'] + r[colname] for i, r in beta_list.iterrows()]\n",
    "        #strip out the filepaths that don't exist\n",
    "        filepath_exists = [os.path.exists(b) for b in beta_filepaths]\n",
    "        beta_list_exists = beta_list[filepath_exists].reset_index(drop=True,inplace=False)\n",
    "        del beta_list\n",
    "\n",
    "        #get just the beta_filepaths that exist by indexing beta_filepaths with the boolean array\n",
    "        beta_filepath_exists = [beta_filepaths[i] for i in range(len(beta_filepaths)) if filepath_exists[i]]\n",
    "\n",
    "        print(\"loading \" + str(len(beta_filepath_exists)) + \"images...\")\n",
    "        image_series = nil.image.load_img(beta_filepath_exists)\n",
    "        print(\"...loaded.\")\n",
    "        return(image_series,beta_list_exists)\n",
    "\n",
    "\n",
    "    def get_roi_data_across_all_betas(self,beta_list: pd.DataFrame, condition,col_function, raw_roi_list, roi_df):\n",
    "\n",
    "        colname = col_function(condition)\n",
    "        image_series,beta_list_exists = self.get_image_series(beta_list,colname)\n",
    "\n",
    "        #image_series_cleaned = nil.image.clean_img(image_series,detrend=self.center_data ,standardize=self.scale_data)\n",
    "\n",
    "        if self.image_standardize:\n",
    "            #get the f\n",
    "            image_series_cleaned = self.spatially_normalize(image_series)\n",
    "\n",
    "        #image_series_cleaned.to_filename('cleaned_img.nii.gz')\n",
    "        # img_cleaned_fdata = image_series_cleaned.get_fdata()\n",
    "        # #get the mean over the image series\n",
    "        # img_mean = nil.image.mean_img(image_series_cleaned)\n",
    "        # #plot\n",
    "        # nil.plotting.plot_img(img_mean)\n",
    "\n",
    "        roi_data_for_beta = self.get_roi_data_for_beta(\n",
    "                    beta_list_exists['subject_id'].tolist(),\n",
    "                    beta_list_exists['wave'].tolist(),\n",
    "                    beta_list_exists['spm_l2_path'].tolist(),\n",
    "                    condition,\n",
    "                    beta_list_exists[colname].tolist(),\n",
    "                    raw_roi_list, roi_df, image_series_cleaned)\n",
    "        \n",
    "        roi_data_all = roi_data_for_beta\n",
    "\n",
    "        return(roi_data_all)\n",
    "\n",
    "\n",
    "\n",
    "\n",
    "    def get_roi_data_for_roi_col(self,beta_list, condition,col_function, raw_roi_list, roi_df):\n",
    "\n",
    "        colname = col_function(condition)\n",
    "\n",
    "        roi_data_all = []\n",
    "\n",
    "        #iterate through each image, if it exists, and pull the ROI\n",
    "        for i, r in beta_list.iterrows():\n",
    "            #print(r['subject_id'] + \", \" + str(r['wave']))xx\n",
    "            #print(r.index)\n",
    "            #some checks where skipping is necessary\n",
    "            if colname not in beta_list.columns:\n",
    "                continue\n",
    "            if type(r[colname])==float:\n",
    "                if np.isnan(r[colname]):\n",
    "                    continue\n",
    "                #we want an error thrown if somehow it's a float but not nan,\n",
    "                # so we handle that case here.\n",
    "            if r[colname] is None:\n",
    "                continue\n",
    "            \n",
    "        \n",
    "            #get the beta image from which to pull an ROI\n",
    "            beta_img_filepath = r['spm_l2_path'] + r[colname]\n",
    "            active_img_cleaned = get_beta_img(beta_img_filepath)\n",
    "\n",
    "            if self.center_data or self.scale_data:\n",
    "                raise NotImplementedError(\"centering and scaling not implemented\")\n",
    "\n",
    "            if active_img_cleaned is None:\n",
    "                continue\n",
    "\n",
    "            #for each mask\n",
    "            roi_data_for_beta = self.get_roi_data_for_beta(\n",
    "                    r['subject_id'],\n",
    "                    r['wave'],\n",
    "                    r['spm_l2_path'],\n",
    "                    condition,\n",
    "                    r[colname],\n",
    "                    raw_roi_list, roi_df, active_img_cleaned)\n",
    "            \n",
    "            roi_data_all.append(pd.DataFrame(roi_data_for_beta))\n",
    "            \n",
    "        return(roi_data_all)\n",
    "    \n",
    "    def get_roi_data_for_l2(self, beta_list,condition_list,roi_df,col_function):\n",
    "        raw_roi_list = self.load_rois(roi_df)\n",
    "        #now iterate through each beta image\n",
    "        #for each beta type\n",
    "        roi_data_all = []\n",
    "        for condition in condition_list:\n",
    "            print(condition)\n",
    "            \n",
    "            if self.load_all_images_simultaneously:\n",
    "                roi_data = self.get_roi_data_across_all_betas(beta_list, condition,col_function, raw_roi_list, roi_df)\n",
    "            else:\n",
    "                roi_data = self.get_roi_data_for_roi_col(beta_list, condition,col_function, raw_roi_list)\n",
    "            roi_data_all = roi_data_all + roi_data\n",
    "            \n",
    "\n",
    "        roi_data_df = pd.concat(roi_data_all)\n",
    "        return roi_data_df\n",
    "\n",
    "\n",
    "    def get_roi_data_for_l2_betas(self, beta_list, condition_list,roi_df):\n",
    "        col_function=lambda img_name: \"beta_\" + img_name + \"_fname\"\n",
    "        #iterate through each mask\n",
    "        return(self.get_roi_data_for_l2(beta_list,condition_list,roi_df,col_function))\n",
    "\n"
   ]
  },
  {
   "cell_type": "code",
   "execution_count": null,
   "metadata": {},
   "outputs": [],
   "source": []
  }
 ],
 "metadata": {
  "kernelspec": {
   "display_name": "neuralsignature",
   "language": "python",
   "name": "python3"
  },
  "language_info": {
   "codemirror_mode": {
    "name": "ipython",
    "version": 3
   },
   "file_extension": ".py",
   "mimetype": "text/x-python",
   "name": "python",
   "nbconvert_exporter": "python",
   "pygments_lexer": "ipython3",
   "version": "3.10.9"
  },
  "orig_nbformat": 4
 },
 "nbformat": 4,
 "nbformat_minor": 2
}
