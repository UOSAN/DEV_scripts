{
 "cells": [
  {
   "cell_type": "code",
   "execution_count": 2,
   "id": "compressed-acquisition",
   "metadata": {},
   "outputs": [
    {
     "name": "stderr",
     "output_type": "stream",
     "text": [
      "/home/bsmith16/.conda/envs/neuralsignature/lib/python3.8/site-packages/nilearn/datasets/__init__.py:87: FutureWarning: Fetchers from the nilearn.datasets module will be updated in version 0.9 to return python strings instead of bytes and Pandas dataframes instead of Numpy arrays.\n",
      "  warn(\"Fetchers from the nilearn.datasets module will be \"\n"
     ]
    }
   ],
   "source": [
    "import pandas as pd\n",
    "import numpy as np\n",
    "import os\n",
    "import nltools as nlt\n",
    "import nilearn as nil\n",
    "import nibabel as nib\n",
    "import warnings\n",
    "import glob\n",
    "import random\n",
    "import pickle\n",
    "import dev_wtp_io_utils\n",
    "import gc #garbage collection\n",
    "from nilearn import plotting\n",
    "from dev_wtp_io_utils import cv_train_test_sets, asizeof_fmt\n",
    "from sklearn.model_selection import KFold,GroupKFold,LeaveOneOut\n",
    "import os, warnings"
   ]
  },
  {
   "cell_type": "code",
   "execution_count": 3,
   "id": "digital-penny",
   "metadata": {},
   "outputs": [
    {
     "name": "stdout",
     "output_type": "stream",
     "text": [
      "4\n"
     ]
    }
   ],
   "source": [
    "#custom thing I have set in my jupyter notebook task.\n",
    "cpus_available = int(os.getenv('CPUS_PER_TASK'))\n",
    "print(cpus_available)"
   ]
  },
  {
   "cell_type": "code",
   "execution_count": 4,
   "id": "harmful-logic",
   "metadata": {},
   "outputs": [],
   "source": [
    "pd.set_option('display.max_rows', 99)"
   ]
  },
  {
   "cell_type": "markdown",
   "id": "victorian-emperor",
   "metadata": {},
   "source": [
    "This document starts with the nested cross-validation in `Wtp_train_avg_test_ind_nested_cv`.\n",
    "\n",
    "We then apply Dasa's suggestion to measure performance within-subject. rather than trying to calculate $r^2$ across the entire set, we look at how well training can get a good $r^2$ _within_ each subject in the dataset.\n",
    "\n",
    "It might be helpful to extend this logic somehow to the training as well as final evaluation. But let's see.\n",
    "\n",
    "Since the previous analysis found that it wasn't helpful to analyze average data and then classify on individual; I'll restrict to analyzing individual data."
   ]
  },
  {
   "cell_type": "markdown",
   "id": "understanding-attitude",
   "metadata": {},
   "source": [
    "### Load brain data"
   ]
  },
  {
   "cell_type": "code",
   "execution_count": 5,
   "id": "preliminary-effort",
   "metadata": {},
   "outputs": [],
   "source": [
    "test_train_set = pd.read_csv(\"../data/train_test_markers_20210601T183243.csv\")"
   ]
  },
  {
   "cell_type": "code",
   "execution_count": 6,
   "id": "bored-captain",
   "metadata": {},
   "outputs": [
    {
     "name": "stdout",
     "output_type": "stream",
     "text": [
      "checked for intersection and no intersection between the brain data and the subjects was found.\n",
      "there were 60 subjects overlapping between the subjects marked for train data and the training dump file itself.\n"
     ]
    }
   ],
   "source": [
    "with open('../data/Brain_Data_2sns_60subs.pkl', 'rb') as pkl_file:\n",
    "    Brain_Data_allsubs = pickle.load(pkl_file)\n",
    "    \n",
    "dev_wtp_io_utils.check_BD_against_test_train_set(Brain_Data_allsubs,test_train_set)"
   ]
  },
  {
   "cell_type": "markdown",
   "id": "accepted-grave",
   "metadata": {},
   "source": [
    "### Preprocess"
   ]
  },
  {
   "cell_type": "code",
   "execution_count": 7,
   "id": "impressed-studio",
   "metadata": {},
   "outputs": [
    {
     "name": "stdout",
     "output_type": "stream",
     "text": [
      "5.0    1164\n",
      "6.0    1018\n",
      "7.0     904\n",
      "8.0     604\n",
      "Name: response, dtype: int64\n",
      "5.0    1164\n",
      "6.0    1018\n",
      "7.0     904\n",
      "8.0     604\n",
      "Name: response, dtype: int64\n",
      "False    3690\n",
      "True      150\n",
      "Name: response, dtype: int64\n",
      "3690\n",
      "3840\n"
     ]
    }
   ],
   "source": [
    "Brain_Data_allsubs.Y = Brain_Data_allsubs.X.response.copy()\n",
    "print(Brain_Data_allsubs.Y.value_counts())\n",
    "Brain_Data_allsubs.Y[Brain_Data_allsubs.Y=='NULL']=None\n",
    "print(Brain_Data_allsubs.Y.value_counts())\n",
    "print(Brain_Data_allsubs.Y.isnull().value_counts())\n",
    "Brain_Data_allsubs_nn = Brain_Data_allsubs[Brain_Data_allsubs.Y.isnull()==False]\n",
    "print(len(Brain_Data_allsubs_nn))\n",
    "print(len(Brain_Data_allsubs))"
   ]
  },
  {
   "cell_type": "code",
   "execution_count": 8,
   "id": "foreign-confusion",
   "metadata": {},
   "outputs": [
    {
     "data": {
      "text/plain": [
       "0       DEV001\n",
       "1       DEV001\n",
       "2       DEV001\n",
       "3       DEV001\n",
       "4       DEV001\n",
       "         ...  \n",
       "3685    DEV089\n",
       "3686    DEV089\n",
       "3687    DEV089\n",
       "3688    DEV089\n",
       "3689    DEV089\n",
       "Name: subject, Length: 3690, dtype: object"
      ]
     },
     "execution_count": 8,
     "metadata": {},
     "output_type": "execute_result"
    }
   ],
   "source": [
    "all_subs_nn_nifti = Brain_Data_allsubs_nn.to_nifti()\n",
    "all_subs_nn_nifti_Y = Brain_Data_allsubs_nn.Y\n",
    "all_subs_nn_nifti_groups = Brain_Data_allsubs_nn.X.subject\n",
    "all_subs_nn_nifti_groups"
   ]
  },
  {
   "cell_type": "code",
   "execution_count": 9,
   "id": "appropriate-second",
   "metadata": {},
   "outputs": [],
   "source": [
    "all_subs_nn_nifti_metadata = Brain_Data_allsubs_nn.X"
   ]
  },
  {
   "cell_type": "markdown",
   "id": "liable-links",
   "metadata": {},
   "source": [
    "### Get subset"
   ]
  },
  {
   "cell_type": "code",
   "execution_count": 10,
   "id": "traditional-cursor",
   "metadata": {},
   "outputs": [
    {
     "data": {
      "text/plain": [
       "30"
      ]
     },
     "execution_count": 10,
     "metadata": {},
     "output_type": "execute_result"
    }
   ],
   "source": [
    "del Brain_Data_allsubs\n",
    "#del Brain_Data_allsubs_grouped\n",
    "gc.collect()"
   ]
  },
  {
   "cell_type": "code",
   "execution_count": 11,
   "id": "compound-advertiser",
   "metadata": {},
   "outputs": [],
   "source": [
    "from nilearn.decoding import DecoderRegressor\n",
    "dRegressor = DecoderRegressor(estimator = 'ridge_regressor', standardize= True,scoring=\"r2\")"
   ]
  },
  {
   "cell_type": "code",
   "execution_count": 12,
   "id": "macro-utilization",
   "metadata": {},
   "outputs": [
    {
     "name": "stdout",
     "output_type": "stream",
     "text": [
      "all_subs_nn_nifti_metadata: 2484304\n",
      "__: 232614\n",
      "all_subs_nn_nifti_groups: 232614\n",
      "_8: 232614\n",
      "all_subs_nn_nifti_Y: 29664\n",
      "test_train_set: 9549\n",
      "DecoderRegressor: 1472\n",
      "KFold: 1064\n",
      "GroupKFold: 1064\n",
      "LeaveOneOut: 1064\n"
     ]
    }
   ],
   "source": [
    "import sys\n",
    "for name, size in sorted(((name, sys.getsizeof(value)) for name, value in locals().items()),\n",
    "                         key= lambda x: -x[1])[:10]:\n",
    "    print(name + ': ' + str(size))"
   ]
  },
  {
   "cell_type": "code",
   "execution_count": 13,
   "id": "lesser-wiring",
   "metadata": {},
   "outputs": [
    {
     "data": {
      "text/plain": [
       "'3.3 GiB'"
      ]
     },
     "execution_count": 13,
     "metadata": {},
     "output_type": "execute_result"
    }
   ],
   "source": [
    "asizeof_fmt(Brain_Data_allsubs_nn)"
   ]
  },
  {
   "cell_type": "code",
   "execution_count": 14,
   "id": "monthly-shoot",
   "metadata": {},
   "outputs": [
    {
     "data": {
      "text/plain": [
       "'12.4 GiB'"
      ]
     },
     "execution_count": 14,
     "metadata": {},
     "output_type": "execute_result"
    }
   ],
   "source": [
    "asizeof_fmt(all_subs_nn_nifti)"
   ]
  },
  {
   "cell_type": "markdown",
   "id": "failing-polymer",
   "metadata": {},
   "source": [
    "As a control, we'll try this again, this time just training and testing on individual values:"
   ]
  },
  {
   "cell_type": "markdown",
   "id": "sweet-democrat",
   "metadata": {},
   "source": [
    "get a small sample of subjects to extract"
   ]
  },
  {
   "cell_type": "code",
   "execution_count": 15,
   "id": "composite-railway",
   "metadata": {},
   "outputs": [],
   "source": [
    "sample_subject_items = np.unique(all_subs_nn_nifti_groups)[0:30]"
   ]
  },
  {
   "cell_type": "code",
   "execution_count": 16,
   "id": "infinite-wallet",
   "metadata": {},
   "outputs": [],
   "source": [
    "\n",
    "sample_subject_vector = [i for i, x in enumerate(all_subs_nn_nifti_groups) if x in sample_subject_items]\n",
    "#sample_grouped_subject_vector = [i for i, x in enumerate(all_subs_grouped_nifti_groups) if x in sample_subject_items]"
   ]
  },
  {
   "cell_type": "code",
   "execution_count": 17,
   "id": "integrated-production",
   "metadata": {},
   "outputs": [
    {
     "data": {
      "text/plain": [
       "94"
      ]
     },
     "execution_count": 17,
     "metadata": {},
     "output_type": "execute_result"
    }
   ],
   "source": [
    "first_subs_nifti = nib.funcs.concat_images([all_subs_nn_nifti.slicer[...,s] for s in sample_subject_vector])\n",
    "first_subs_nifti_Y = all_subs_nn_nifti_Y[sample_subject_vector]\n",
    "first_subs_nifti = nil.image.clean_img(first_subs_nifti,detrend=False,standardize=True)\n",
    "first_subs_nifti_groups = all_subs_nn_nifti_groups[sample_subject_vector]\n",
    "\n",
    "del all_subs_nn_nifti\n",
    "gc.collect()"
   ]
  },
  {
   "cell_type": "code",
   "execution_count": 18,
   "id": "roman-import",
   "metadata": {},
   "outputs": [],
   "source": [
    "first_subs_nifti_metadata = all_subs_nn_nifti_metadata.loc[sample_subject_vector,:]"
   ]
  },
  {
   "cell_type": "code",
   "execution_count": 19,
   "id": "chinese-physics",
   "metadata": {},
   "outputs": [
    {
     "data": {
      "text/plain": [
       "(1835, 19)"
      ]
     },
     "execution_count": 19,
     "metadata": {},
     "output_type": "execute_result"
    }
   ],
   "source": [
    "first_subs_nifti_metadata.shape"
   ]
  },
  {
   "cell_type": "code",
   "execution_count": 20,
   "id": "stylish-spider",
   "metadata": {},
   "outputs": [
    {
     "data": {
      "text/plain": [
       "(91, 109, 91, 1835)"
      ]
     },
     "execution_count": 20,
     "metadata": {},
     "output_type": "execute_result"
    }
   ],
   "source": [
    "first_subs_nifti.shape"
   ]
  },
  {
   "cell_type": "code",
   "execution_count": 21,
   "id": "iraqi-cologne",
   "metadata": {},
   "outputs": [],
   "source": [
    "cv_outer = KFold(n_splits=3)"
   ]
  },
  {
   "cell_type": "markdown",
   "id": "biological-jersey",
   "metadata": {},
   "source": [
    "### Predict\n",
    "\n",
    "Regressing in nilearn:\n",
    " - https://nilearn.github.io/decoding/estimator_choice.html\n",
    " - http://www.ncbi.nlm.nih.gov/pubmed/20691790\n",
    "\n",
    "\n",
    "\n",
    "\n",
    "\n"
   ]
  },
  {
   "cell_type": "markdown",
   "id": "bacterial-clause",
   "metadata": {},
   "source": [
    "### Predict with the modified evaluation"
   ]
  },
  {
   "cell_type": "markdown",
   "id": "referenced-court",
   "metadata": {},
   "source": [
    "Don't make it too complicated. If we have to pull this function apart and build a new one, then do that; don't waste time trying to be compatible with everything built within this function."
   ]
  },
  {
   "cell_type": "markdown",
   "id": "sophisticated-handle",
   "metadata": {},
   "source": [
    "We're basically trying to design a 'grouped scorer'. To do this we'd need to somehow pass in the groups to the scorer. Can we do that?"
   ]
  },
  {
   "cell_type": "markdown",
   "id": "selected-chile",
   "metadata": {},
   "source": [
    "Working with the DecoderRegressor, you pass in a scorer with the signature:\n",
    "\n",
    "> scorer(estimator, X_test, y_test)\n",
    "\n",
    "https://nilearn.github.io/modules/generated/nilearn.decoding.DecoderRegressor.html\n",
    "\n",
    "It's pretty strict that that has to be the format. So X_test would have to contain the groups. Currently it doesn't, though. It might not be harmful to put a group identifier in X_test as an extra 'voxel' indicating which subject the data came from but it would be a bit of a hack.\n",
    "\n",
    "It seems like nilearn uses `sklearn.metrics.check_scoring` and actually pasess the scorer function to this function:"
   ]
  },
  {
   "cell_type": "raw",
   "id": "random-overview",
   "metadata": {},
   "source": [
    "            self.scorer_ = check_scoring(self.estimator,\n",
    "                                         self.scoring)"
   ]
  },
  {
   "cell_type": "markdown",
   "id": "demanding-gross",
   "metadata": {},
   "source": [
    "(https://github.com/nilearn/nilearn/blob/297b1509/nilearn/decoding/decoder.py#L497).\n",
    "\n",
    "That function has the signature:"
   ]
  },
  {
   "cell_type": "raw",
   "id": "super-binding",
   "metadata": {},
   "source": [
    "def check_scoring(estimator, scoring=None, *, allow_none=False):"
   ]
  },
  {
   "cell_type": "markdown",
   "id": "quantitative-setting",
   "metadata": {},
   "source": [
    "And the documentation says that the scorer object has to have a similar function:\n",
    "    \n",
    ">        scoring : str or callable, default=None\n",
    ">        A string (see model evaluation documentation) or\n",
    ">        a scorer callable object / function with signature\n",
    ">        ``scorer(estimator, X, y)``.\n",
    ">        If None, the provided estimator object's `score` method is used.\n"
   ]
  },
  {
   "cell_type": "markdown",
   "id": "determined-prescription",
   "metadata": {},
   "source": [
    "So we would have to do the trick where a specific value in X stores a grouping variable. Then, we could probably create a wrapper for $r^2$ which scores within group.\n",
    "\n",
    "https://scikit-learn.org/stable/modules/model_evaluation.html#the-scoring-parameter-defining-model-evaluation-rules\n",
    "\n",
    "However, as I said before, this would be a hack because we have to put the grouping variable as an extra data point in X and that might cause problems.\n",
    "\n",
    "You can use the `make_scorer` function where you pass in a score function that takes `y`, `y_pred` and arbitrary `**kwargs`. (https://scikit-learn.org/stable/modules/generated/sklearn.metrics.make_scorer.html#sklearn.metrics.make_scorer).\n",
    "\n",
    "However it seems like those parameters need to be passed to the `make_scorer` as it is created - not derived from the data. This is because `make_scorer` is quite prescriptive that it \n",
    "\n",
    "> returns a callable that scores an estimator’s output. The signature of the call is `(estimator, X, y)` where `estimator` is the model to be evaluated, `X` is the data and `y` is the ground truth labeling (or None in the case of unsupervised models).\n",
    "\n",
    "So there's no way to have group passed in.\n",
    "\n",
    "So we might have to do something quite customized. But in the meantime, let's just try it in evaluating the model's final performance, and not include it in any nested CV."
   ]
  },
  {
   "cell_type": "code",
   "execution_count": 22,
   "id": "alert-photographer",
   "metadata": {},
   "outputs": [],
   "source": [
    "def cv_train_test_sets(\n",
    "    trainset_X, trainset_y, trainset_groups,\n",
    "    regressors = None,\n",
    "    testset_X = None,testset_y = None, testset_groups = None,\n",
    "    param_grid=None,\n",
    "    cpus_to_use=-2,\n",
    "    cv = None):\n",
    "    \"\"\"\n",
    "    uses a division of 'trainset' and 'testset' to allow different values to be trained and tested \n",
    "    in KFold Cross Validation. All the values are used for training and testing, but we use different ones.\n",
    "    This enables us to e.g., pass in aggregated images for training and separate images for testing.\n",
    "    \n",
    "    trainset_X: x values applicalbe for TRAINING\n",
    "    trainset_y\n",
    "    trainset_groups: group allocations for the trainset dataset\n",
    "    testset_X: values grouped into averages for testing\n",
    "    testset_y\n",
    "    cv: a Grouped cross-validator\n",
    "    group_list: name of the groups\n",
    "    \"\"\"\n",
    "    if cv is None:\n",
    "        cv=KFold(n_splits=5)\n",
    "        \n",
    "    if param_grid is not None and regressors is not None:\n",
    "        raise Exception('values for param_grid and regressors both passed, but param_grid is ignored if regressors is passed. choose one.')\n",
    "    \n",
    "    #if the groups we're using are actually the same.\n",
    "    if (testset_X is None) and (testset_y is None):\n",
    "        testset_X = trainset_X\n",
    "        testset_y = trainset_y\n",
    "        testset_groups = trainset_groups\n",
    "        print('Groups are the same.')\n",
    "        \n",
    "    results_by_trainset_item = pd.DataFrame({\n",
    "        'y': trainset_y,\n",
    "        'group':trainset_groups,\n",
    "        'y_pred':np.repeat(None,len(trainset_y))#,\n",
    "        #'y_match':np.repeat(None,len(trainset_y))#just for debugging. delete.\n",
    "    })\n",
    "        \n",
    "\n",
    "    groups_array = np.array(list(set(testset_groups)))\n",
    "    assert(set(trainset_groups)==set(testset_groups))\n",
    "\n",
    "    #the CV that the inner Regressor uses\n",
    "    cv_inner = GroupKFold(3)\n",
    "    if regressors is None:\n",
    "        regressors = [DecoderRegressor(standardize= True,param_grid=param_grid,cv=cv_inner,scoring=\"r2\",\n",
    "                                      n_jobs=cpus_to_use)]\n",
    "        print('using default regressor',end='. ')\n",
    "\n",
    "    #we actually use KFold on the group names themselves, then filter across that\n",
    "    #that's equivalent to doing a GroupedKFold on the data.\n",
    "    test_scores = []\n",
    "    results = []\n",
    "    \n",
    "    outer_n = cv.get_n_splits()\n",
    "    for i, x in enumerate(cv.split(groups_array)):\n",
    "        train_i = x[0]\n",
    "        test_i = x[1]\n",
    "        print(\"fold \" + str(i+1) + \" of \" + str(outer_n))\n",
    "        \n",
    "        fold_i_results = {}\n",
    "        train_group_items, test_group_items = groups_array[train_i], groups_array[test_i]\n",
    "        print('In order to test on a training group of ' +\n",
    "              str(len(train_group_items)) + ' items, holding out the following subjects:' +\n",
    "              str(test_group_items),end='. ')\n",
    "#         print(\n",
    "#             'held out ' + str(len(test_group_items)) + ' items and trained on ' + str(len(train_group_items)) + ' items',\n",
    "#             end='. ')\n",
    "        \n",
    "        print('prepping fold data...',end='. ')\n",
    "        #select training data from the averages\n",
    "        #print('selecting training data',end='. ')\n",
    "        train_selector = [i for i, x in enumerate(trainset_groups) if x in train_group_items]\n",
    "        train_y = trainset_y[train_selector]\n",
    "        train_X = nib.funcs.concat_images([trainset_X.slicer[...,s] for s in train_selector])\n",
    "        train_groups = trainset_groups[train_selector]\n",
    "        #print(train_X.shape,end='. ')\n",
    "        #print(asizeof_fmt(train_X),end='. ')\n",
    "\n",
    "        #select testing data from the individual values\n",
    "        #print('selecting test data',end='. ')\n",
    "        test_selector = [i for i, x in enumerate(testset_groups) if x in test_group_items]\n",
    "        test_y = testset_y[test_selector]\n",
    "        test_X = nib.funcs.concat_images([testset_X.slicer[...,s] for s in test_selector])\n",
    "        test_groups = testset_groups[test_selector]\n",
    "        #print(asizeof_fmt(test_X),end='. ')\n",
    "        #print(test_X.shape,end='. ')\n",
    "\n",
    "\n",
    "        print(\"regressing...\",end='. ')\n",
    "        print(asizeof_fmt(train_X),end='. ')\n",
    "        \n",
    "        val_scores = []\n",
    "        #iterate through regressor objects.\n",
    "        #this is my way of doing cross-validation across different regressors...\n",
    "        hyper_scores = []\n",
    "        train_results = {}\n",
    "        inner_cv_results = {}\n",
    "        for r_i, reg in enumerate(regressors):\n",
    "            cur_r_results = {}\n",
    "            print('trying regressor ' + str(r_i+1) + ' of ' + str(len(regressors)),end='. ')\n",
    "            #if there is nested CV within this function the best hyper-paramters are already being chosen\n",
    "            #we need only to finish the job by identifying the best overall regressor, as the final hyper-parameter\n",
    "            reg.fit(y=train_y,X=train_X,groups=train_groups)\n",
    "            print(\"predicting\",end='. ')\n",
    "            #hyper_score = reg.score(train_X,train_y)\n",
    "            hyper_score = np.max([np.mean(param_values) for param_name, param_values in reg.cv_scores_.items()])\n",
    "            #think there is a bug here. we should not have to be guessing/ignoring param names.\n",
    "            #need to report this.\n",
    "            \n",
    "            hyper_scores = hyper_scores + [hyper_score]\n",
    "            \n",
    "            cur_r_results['hyper_score'] = hyper_score\n",
    "            cur_r_results['cv_scores_'] = reg.cv_scores_\n",
    "            cur_r_results['cv_params_'] = reg.cv_params_\n",
    "            inner_cv_results[str(reg)] = cur_r_results\n",
    "            \n",
    "        fold_i_results['train_results']= inner_cv_results\n",
    "        \n",
    "        #identify which was the best\n",
    "        #print(hyper_scores)\n",
    "        #print(np.where([h==np.max(hyper_scores) for h in hyper_scores])[0][0])\n",
    "        best_hyper_regressor = regressors[np.where([h==np.max(hyper_scores) for h in hyper_scores])[0][0]]\n",
    "        \n",
    "        #print(best_hyper_regressor)\n",
    "        \n",
    "        #now run JUST that one on this fold.\n",
    "        \n",
    "        \n",
    "        #now predict on our test split\n",
    "        test_score = best_hyper_regressor.score(test_X,test_y)\n",
    "        test_y_pred = best_hyper_regressor.predict(test_X)\n",
    "        fold_test_rawdata = pd.DataFrame({\n",
    "            'y_obs':test_y,\n",
    "            'y_pred':test_y_pred,\n",
    "            'y_groups':test_groups\n",
    "            \n",
    "        })\n",
    "        #results_by_trainset_item.loc[train_selector,'y_pred']\n",
    "        results_by_trainset_item.loc[test_selector,'y_pred'] = test_y_pred\n",
    "        #results_by_trainset_item.loc[test_selector,'y_match'] = test_y\n",
    "        fold_i_results['fold_test_rawdata'] = fold_test_rawdata\n",
    "        #so we can do scoring externally to this function.\n",
    "        \n",
    "        test_scores = test_scores+[test_score]\n",
    "        print('test score was:',end='. ')\n",
    "        print(test_score)\n",
    "        \n",
    "        results = results + [fold_i_results]\n",
    "\n",
    "        del test_X\n",
    "        del train_X\n",
    "        gc.collect() #clean up. this is big data we're working with\n",
    "        #https://stackoverflow.com/questions/1316767/how-can-i-explicitly-free-memory-in-python\n",
    "        \n",
    "\n",
    "    #We could use predefined split\n",
    "#     warnings.warn(\n",
    "#         \"regressor was chosen based on train score across the entire train group, not the test fold of the inner CV.\" +\n",
    "#         \"Overall accuracy is not biased but this may yield a sub-optimal regressor selection.\" +\n",
    "#         \"The alternative, testing on the main holdout set, as described in the nilearn example, may overfit the data (see \"+\n",
    "#         \"https://scikit-learn.org/stable/auto_examples/model_selection/plot_nested_cross_validation_iris.html).\" + \n",
    "#         \"this problem could be addressed with the use of a PredefinedSplit.\" + \n",
    "#         \"See https://scikit-learn.org/stable/modules/generated/sklearn.model_selection.PredefinedSplit.html\")\n",
    "\n",
    "    return(test_scores,results,results_by_trainset_item)"
   ]
  },
  {
   "cell_type": "code",
   "execution_count": 23,
   "id": "metric-complement",
   "metadata": {},
   "outputs": [
    {
     "name": "stdout",
     "output_type": "stream",
     "text": [
      "Groups are the same.\n",
      "using default regressor. fold 1 of 3\n",
      "In order to test on a training group of 20 items, holding out the following subjects:['DEV027' 'DEV025' 'DEV029' 'DEV039' 'DEV022' 'DEV019' 'DEV034' 'DEV013'\n",
      " 'DEV010' 'DEV005']. prepping fold data.... regressing.... 8.3 GiB. trying regressor 1 of 1. predicting. test score was:. 0.23344612843461943\n",
      "fold 2 of 3\n",
      "In order to test on a training group of 20 items, holding out the following subjects:['DEV009' 'DEV023' 'DEV040' 'DEV017' 'DEV026' 'DEV001' 'DEV028' 'DEV014'\n",
      " 'DEV018' 'DEV012']. prepping fold data.... regressing.... 8.2 GiB. trying regressor 1 of 1. "
     ]
    },
    {
     "name": "stderr",
     "output_type": "stream",
     "text": [
      "/home/bsmith16/.conda/envs/neuralsignature/lib/python3.8/site-packages/nilearn/decoding/decoder.py:143: UserWarning: Use a custom estimator at your own risk of the process not working as intended.\n",
      "  warnings.warn('Use a custom estimator at your own risk '\n"
     ]
    },
    {
     "name": "stdout",
     "output_type": "stream",
     "text": [
      "predicting. test score was:. 0.22922308477611653\n",
      "fold 3 of 3\n",
      "In order to test on a training group of 20 items, holding out the following subjects:['DEV035' 'DEV041' 'DEV024' 'DEV006' 'DEV015' 'DEV021' 'DEV042' 'DEV036'\n",
      " 'DEV030' 'DEV016']. prepping fold data.... regressing.... 8.2 GiB. trying regressor 1 of 1. "
     ]
    },
    {
     "name": "stderr",
     "output_type": "stream",
     "text": [
      "/home/bsmith16/.conda/envs/neuralsignature/lib/python3.8/site-packages/nilearn/decoding/decoder.py:143: UserWarning: Use a custom estimator at your own risk of the process not working as intended.\n",
      "  warnings.warn('Use a custom estimator at your own risk '\n"
     ]
    },
    {
     "name": "stdout",
     "output_type": "stream",
     "text": [
      "predicting. test score was:. 0.229429325564372\n"
     ]
    }
   ],
   "source": [
    "test_scores_same,tt_results,results_by_trainset_item = cv_train_test_sets(\n",
    "    trainset_X=first_subs_nifti,\n",
    "    trainset_y=first_subs_nifti_Y,\n",
    "    trainset_groups=first_subs_nifti_groups,\n",
    "    cv=cv_outer,\n",
    "    cpus_to_use=cpus_available-1\n",
    "    \n",
    ")\n",
    "\n"
   ]
  },
  {
   "cell_type": "code",
   "execution_count": 24,
   "id": "stylish-destiny",
   "metadata": {},
   "outputs": [
    {
     "name": "stdout",
     "output_type": "stream",
     "text": [
      "0.23344612843461943\n",
      "0.23344612843461943\n"
     ]
    }
   ],
   "source": [
    "print(test_scores_same[0])\n",
    "print(np.mean(test_scores_same[0]))"
   ]
  },
  {
   "cell_type": "code",
   "execution_count": 25,
   "id": "solid-christianity",
   "metadata": {},
   "outputs": [],
   "source": [
    "import pickle\n",
    "with open(\"../data/cv_train_test_sets_outer_n_split3.pkl\", 'wb') as handle:\n",
    "    pickle.dump([test_scores_same,tt_results,results_by_trainset_item],handle)"
   ]
  },
  {
   "cell_type": "code",
   "execution_count": null,
   "id": "rough-learning",
   "metadata": {},
   "outputs": [],
   "source": []
  },
  {
   "cell_type": "markdown",
   "id": "advised-combining",
   "metadata": {},
   "source": [
    "Now combine the metadata and the results."
   ]
  },
  {
   "cell_type": "raw",
   "id": "destroyed-confidentiality",
   "metadata": {},
   "source": [
    "results = pd.concat([first_subs_nifti_metadata,results_by_trainset_item],axis=1)"
   ]
  },
  {
   "cell_type": "code",
   "execution_count": 27,
   "id": "useful-killing",
   "metadata": {},
   "outputs": [
    {
     "data": {
      "text/plain": [
       "1835"
      ]
     },
     "execution_count": 27,
     "metadata": {},
     "output_type": "execute_result"
    }
   ],
   "source": [
    "np.sum(results.subject==results.group)"
   ]
  },
  {
   "cell_type": "code",
   "execution_count": 28,
   "id": "absolute-project",
   "metadata": {},
   "outputs": [],
   "source": [
    "results['result_group'] = results.group + \"_\" + results.run"
   ]
  },
  {
   "cell_type": "code",
   "execution_count": 29,
   "id": "proprietary-stanley",
   "metadata": {},
   "outputs": [],
   "source": [
    "results.y_pred = results.y_pred.astype('float')"
   ]
  },
  {
   "cell_type": "code",
   "execution_count": 30,
   "id": "forward-knock",
   "metadata": {},
   "outputs": [],
   "source": [
    "from sklearn.metrics import r2_score\n",
    "from scipy.stats import pearsonr, spearmanr\n",
    "import math"
   ]
  },
  {
   "cell_type": "code",
   "execution_count": 31,
   "id": "mediterranean-chess",
   "metadata": {},
   "outputs": [
    {
     "data": {
      "text/plain": [
       "0.23184109193532398"
      ]
     },
     "execution_count": 31,
     "metadata": {},
     "output_type": "execute_result"
    }
   ],
   "source": [
    "r2_score(results['y'],results['y_pred'])"
   ]
  },
  {
   "cell_type": "code",
   "execution_count": 61,
   "id": "surface-eclipse",
   "metadata": {},
   "outputs": [
    {
     "data": {
      "text/plain": [
       "0.230699512925036"
      ]
     },
     "execution_count": 61,
     "metadata": {},
     "output_type": "execute_result"
    }
   ],
   "source": [
    "np.mean(test_scores_same)"
   ]
  },
  {
   "cell_type": "markdown",
   "id": "grave-rotation",
   "metadata": {},
   "source": [
    "Not quite the same, but close enough. Now do this within-subject."
   ]
  },
  {
   "cell_type": "code",
   "execution_count": 33,
   "id": "japanese-soundtrack",
   "metadata": {},
   "outputs": [],
   "source": [
    "%matplotlib inline"
   ]
  },
  {
   "cell_type": "code",
   "execution_count": 34,
   "id": "efficient-handling",
   "metadata": {},
   "outputs": [],
   "source": [
    "import seaborn as sns\n",
    "import matplotlib.pyplot as plt"
   ]
  },
  {
   "cell_type": "markdown",
   "id": "asian-provision",
   "metadata": {},
   "source": [
    "### r^2 is not hte same as pearson's r and if we use it per-subject it performs LESS well"
   ]
  },
  {
   "cell_type": "code",
   "execution_count": 35,
   "id": "legal-frontier",
   "metadata": {},
   "outputs": [
    {
     "name": "stdout",
     "output_type": "stream",
     "text": [
      "0.18448045278305858\n",
      "0.4038845411941005\n",
      "0.4574117647058824\n",
      "\n",
      "0.7604778572515768\n",
      "0.7683425392290582\n",
      "0.7414215686274508\n",
      "\n",
      "0.7580007359686911\n",
      "0.8418578702111166\n",
      "0.830205882352941\n",
      "\n",
      "0.4249407528196929\n",
      "0.5338231136829967\n",
      "0.5388863750628454\n",
      "\n",
      "0.04882559324770386\n",
      "0.10933380000292894\n",
      "0.09886425834701695\n",
      "\n",
      "0.36162176409003843\n",
      "0.4623387451283155\n",
      "0.41961709211986686\n",
      "\n",
      "0.3724461006554175\n",
      "0.44733103221498444\n",
      "0.371526409606905\n",
      "\n",
      "0.430605133386442\n",
      "0.4742039438296478\n",
      "0.5064372918978913\n",
      "\n",
      "0.3351895353205203\n",
      "0.5400389408113974\n",
      "0.6363636363636362\n",
      "\n",
      "-0.07643587827236353\n",
      "0.3074700466102745\n",
      "0.2814406900484744\n",
      "\n",
      "0.415759463687958\n",
      "0.6761542475909395\n",
      "0.71245451788963\n",
      "\n",
      "0.2759520670273129\n",
      "0.4883198299363143\n",
      "0.5841013824884792\n",
      "\n",
      "0.0879677310885385\n",
      "0.2393341789428092\n",
      "0.1590416936005171\n",
      "\n",
      "0.4318894382190872\n",
      "0.4504168315976383\n",
      "0.5446120689655172\n",
      "\n",
      "-0.06319530235815662\n",
      "0.012432629203534802\n",
      "0.003263497179693796\n",
      "\n",
      "-0.26890545832076485\n",
      "0.048008451551180165\n",
      "0.02412114845938375\n",
      "\n",
      "0.22565046541911193\n",
      "0.36117087803143916\n",
      "0.38121440603192425\n",
      "\n",
      "0.4543428199559799\n",
      "0.4654510574331006\n",
      "0.40003246753246763\n",
      "\n",
      "-0.0463864094957267\n",
      "0.3425467177811199\n",
      "0.38850916803502994\n",
      "\n",
      "0.20978922254085575\n",
      "0.28839451733103744\n",
      "0.2511481056257175\n",
      "\n",
      "-0.34379809778794135\n",
      "0.12240642376460799\n",
      "0.19067460317460314\n",
      "\n",
      "0.570497463851472\n",
      "0.6093986540152092\n",
      "0.6766666666666664\n",
      "\n",
      "-0.34378978789774584\n",
      "0.4577238809372353\n",
      "0.39819327731092435\n",
      "\n",
      "0.305141759305702\n",
      "0.3643108801231089\n",
      "0.2889495798319328\n",
      "\n",
      "-0.061207227589543\n",
      "0.22565833532580634\n",
      "0.24023330596606454\n",
      "\n",
      "-0.010942157967266164\n",
      "0.2984468000874164\n",
      "0.29060887512899897\n",
      "\n",
      "0.03387811397050533\n",
      "0.5890616310219168\n",
      "0.5259708273553323\n",
      "\n",
      "0.07105276481555112\n",
      "0.46118929632211986\n",
      "0.46822974472808\n",
      "\n",
      "0.16194860633817898\n",
      "0.34091178775272\n",
      "0.41907858519130203\n",
      "\n",
      "0.1942869404841997\n",
      "0.394131741247039\n",
      "0.392489826119127\n",
      "\n",
      "0.6199018790071286\n",
      "0.7151904103880591\n",
      "0.7618294487606363\n",
      "\n",
      "0.2559825726896606\n",
      "0.4322127164454714\n",
      "0.42158943766185725\n",
      "\n",
      "-1.0198369404939243\n",
      "0.05851806638876472\n",
      "0.04960443596807233\n"
     ]
    },
    {
     "data": {
      "text/html": [
       "<div>\n",
       "<style scoped>\n",
       "    .dataframe tbody tr th:only-of-type {\n",
       "        vertical-align: middle;\n",
       "    }\n",
       "\n",
       "    .dataframe tbody tr th {\n",
       "        vertical-align: top;\n",
       "    }\n",
       "\n",
       "    .dataframe thead th {\n",
       "        text-align: right;\n",
       "    }\n",
       "</style>\n",
       "<table border=\"1\" class=\"dataframe\">\n",
       "  <thead>\n",
       "    <tr style=\"text-align: right;\">\n",
       "      <th></th>\n",
       "      <th>y_pred</th>\n",
       "    </tr>\n",
       "    <tr>\n",
       "      <th>y</th>\n",
       "      <th></th>\n",
       "    </tr>\n",
       "  </thead>\n",
       "  <tbody>\n",
       "    <tr>\n",
       "      <th>5.0</th>\n",
       "      <td>6.063357</td>\n",
       "    </tr>\n",
       "    <tr>\n",
       "      <th>6.0</th>\n",
       "      <td>6.799573</td>\n",
       "    </tr>\n",
       "    <tr>\n",
       "      <th>8.0</th>\n",
       "      <td>6.303735</td>\n",
       "    </tr>\n",
       "  </tbody>\n",
       "</table>\n",
       "</div>"
      ],
      "text/plain": [
       "       y_pred\n",
       "y            \n",
       "5.0  6.063357\n",
       "6.0  6.799573\n",
       "8.0  6.303735"
      ]
     },
     "metadata": {},
     "output_type": "display_data"
    },
    {
     "name": "stdout",
     "output_type": "stream",
     "text": [
      "\n",
      "-0.3031566138895321\n",
      "0.6444128142669682\n",
      "0.6732467532467532\n",
      "\n",
      "0.7407216945997132\n",
      "0.8324031999091119\n",
      "0.8008156791661946\n",
      "\n",
      "0.6547069992140107\n",
      "0.6817463650018022\n",
      "0.6454870129870128\n",
      "\n",
      "-0.9374337531901944\n",
      "0.06559247822295038\n",
      "0.006617647058823529\n"
     ]
    },
    {
     "data": {
      "text/html": [
       "<div>\n",
       "<style scoped>\n",
       "    .dataframe tbody tr th:only-of-type {\n",
       "        vertical-align: middle;\n",
       "    }\n",
       "\n",
       "    .dataframe tbody tr th {\n",
       "        vertical-align: top;\n",
       "    }\n",
       "\n",
       "    .dataframe thead th {\n",
       "        text-align: right;\n",
       "    }\n",
       "</style>\n",
       "<table border=\"1\" class=\"dataframe\">\n",
       "  <thead>\n",
       "    <tr style=\"text-align: right;\">\n",
       "      <th></th>\n",
       "      <th>y_pred</th>\n",
       "    </tr>\n",
       "    <tr>\n",
       "      <th>y</th>\n",
       "      <th></th>\n",
       "    </tr>\n",
       "  </thead>\n",
       "  <tbody>\n",
       "    <tr>\n",
       "      <th>5.0</th>\n",
       "      <td>6.911062</td>\n",
       "    </tr>\n",
       "    <tr>\n",
       "      <th>6.0</th>\n",
       "      <td>5.926919</td>\n",
       "    </tr>\n",
       "    <tr>\n",
       "      <th>7.0</th>\n",
       "      <td>6.044470</td>\n",
       "    </tr>\n",
       "  </tbody>\n",
       "</table>\n",
       "</div>"
      ],
      "text/plain": [
       "       y_pred\n",
       "y            \n",
       "5.0  6.911062\n",
       "6.0  5.926919\n",
       "7.0  6.044470"
      ]
     },
     "metadata": {},
     "output_type": "display_data"
    },
    {
     "name": "stdout",
     "output_type": "stream",
     "text": [
      "\n",
      "-0.9301678228326875\n",
      "0.006424728453203575\n",
      "0.016780051150895137\n"
     ]
    },
    {
     "data": {
      "text/html": [
       "<div>\n",
       "<style scoped>\n",
       "    .dataframe tbody tr th:only-of-type {\n",
       "        vertical-align: middle;\n",
       "    }\n",
       "\n",
       "    .dataframe tbody tr th {\n",
       "        vertical-align: top;\n",
       "    }\n",
       "\n",
       "    .dataframe thead th {\n",
       "        text-align: right;\n",
       "    }\n",
       "</style>\n",
       "<table border=\"1\" class=\"dataframe\">\n",
       "  <thead>\n",
       "    <tr style=\"text-align: right;\">\n",
       "      <th></th>\n",
       "      <th>y_pred</th>\n",
       "    </tr>\n",
       "    <tr>\n",
       "      <th>y</th>\n",
       "      <th></th>\n",
       "    </tr>\n",
       "  </thead>\n",
       "  <tbody>\n",
       "    <tr>\n",
       "      <th>5.0</th>\n",
       "      <td>6.953813</td>\n",
       "    </tr>\n",
       "    <tr>\n",
       "      <th>6.0</th>\n",
       "      <td>5.600842</td>\n",
       "    </tr>\n",
       "    <tr>\n",
       "      <th>7.0</th>\n",
       "      <td>6.216995</td>\n",
       "    </tr>\n",
       "    <tr>\n",
       "      <th>8.0</th>\n",
       "      <td>6.258036</td>\n",
       "    </tr>\n",
       "  </tbody>\n",
       "</table>\n",
       "</div>"
      ],
      "text/plain": [
       "       y_pred\n",
       "y            \n",
       "5.0  6.953813\n",
       "6.0  5.600842\n",
       "7.0  6.216995\n",
       "8.0  6.258036"
      ]
     },
     "metadata": {},
     "output_type": "display_data"
    },
    {
     "name": "stdout",
     "output_type": "stream",
     "text": [
      "\n",
      "-0.3907641782283322\n",
      "0.12202811886583383\n",
      "0.07313364055299537\n",
      "\n",
      "-0.08247470617357378\n",
      "0.1631709701488646\n",
      "0.17556010230179023\n",
      "\n",
      "-1.4041754021152468\n",
      "0.262019105761913\n",
      "0.1959028625695292\n"
     ]
    },
    {
     "data": {
      "text/html": [
       "<div>\n",
       "<style scoped>\n",
       "    .dataframe tbody tr th:only-of-type {\n",
       "        vertical-align: middle;\n",
       "    }\n",
       "\n",
       "    .dataframe tbody tr th {\n",
       "        vertical-align: top;\n",
       "    }\n",
       "\n",
       "    .dataframe thead th {\n",
       "        text-align: right;\n",
       "    }\n",
       "</style>\n",
       "<table border=\"1\" class=\"dataframe\">\n",
       "  <thead>\n",
       "    <tr style=\"text-align: right;\">\n",
       "      <th></th>\n",
       "      <th>y_pred</th>\n",
       "    </tr>\n",
       "    <tr>\n",
       "      <th>y</th>\n",
       "      <th></th>\n",
       "    </tr>\n",
       "  </thead>\n",
       "  <tbody>\n",
       "    <tr>\n",
       "      <th>6.0</th>\n",
       "      <td>5.686497</td>\n",
       "    </tr>\n",
       "    <tr>\n",
       "      <th>7.0</th>\n",
       "      <td>6.016576</td>\n",
       "    </tr>\n",
       "    <tr>\n",
       "      <th>8.0</th>\n",
       "      <td>6.258668</td>\n",
       "    </tr>\n",
       "  </tbody>\n",
       "</table>\n",
       "</div>"
      ],
      "text/plain": [
       "       y_pred\n",
       "y            \n",
       "6.0  5.686497\n",
       "7.0  6.016576\n",
       "8.0  6.258668"
      ]
     },
     "metadata": {},
     "output_type": "display_data"
    },
    {
     "name": "stdout",
     "output_type": "stream",
     "text": [
      "\n",
      "-1.9348283271300972\n",
      "0.1072930471622808\n",
      "0.11080586080586076\n"
     ]
    },
    {
     "data": {
      "text/html": [
       "<div>\n",
       "<style scoped>\n",
       "    .dataframe tbody tr th:only-of-type {\n",
       "        vertical-align: middle;\n",
       "    }\n",
       "\n",
       "    .dataframe tbody tr th {\n",
       "        vertical-align: top;\n",
       "    }\n",
       "\n",
       "    .dataframe thead th {\n",
       "        text-align: right;\n",
       "    }\n",
       "</style>\n",
       "<table border=\"1\" class=\"dataframe\">\n",
       "  <thead>\n",
       "    <tr style=\"text-align: right;\">\n",
       "      <th></th>\n",
       "      <th>y_pred</th>\n",
       "    </tr>\n",
       "    <tr>\n",
       "      <th>y</th>\n",
       "      <th></th>\n",
       "    </tr>\n",
       "  </thead>\n",
       "  <tbody>\n",
       "    <tr>\n",
       "      <th>6.0</th>\n",
       "      <td>6.006662</td>\n",
       "    </tr>\n",
       "    <tr>\n",
       "      <th>7.0</th>\n",
       "      <td>5.915257</td>\n",
       "    </tr>\n",
       "    <tr>\n",
       "      <th>8.0</th>\n",
       "      <td>6.373382</td>\n",
       "    </tr>\n",
       "  </tbody>\n",
       "</table>\n",
       "</div>"
      ],
      "text/plain": [
       "       y_pred\n",
       "y            \n",
       "6.0  6.006662\n",
       "7.0  5.915257\n",
       "8.0  6.373382"
      ]
     },
     "metadata": {},
     "output_type": "display_data"
    },
    {
     "name": "stdout",
     "output_type": "stream",
     "text": [
      "\n",
      "-3.160324017065551\n",
      "0.004703089997567484\n",
      "0.006060606060606061\n"
     ]
    },
    {
     "data": {
      "text/html": [
       "<div>\n",
       "<style scoped>\n",
       "    .dataframe tbody tr th:only-of-type {\n",
       "        vertical-align: middle;\n",
       "    }\n",
       "\n",
       "    .dataframe tbody tr th {\n",
       "        vertical-align: top;\n",
       "    }\n",
       "\n",
       "    .dataframe thead th {\n",
       "        text-align: right;\n",
       "    }\n",
       "</style>\n",
       "<table border=\"1\" class=\"dataframe\">\n",
       "  <thead>\n",
       "    <tr style=\"text-align: right;\">\n",
       "      <th></th>\n",
       "      <th>y_pred</th>\n",
       "    </tr>\n",
       "    <tr>\n",
       "      <th>y</th>\n",
       "      <th></th>\n",
       "    </tr>\n",
       "  </thead>\n",
       "  <tbody>\n",
       "    <tr>\n",
       "      <th>6.0</th>\n",
       "      <td>5.596162</td>\n",
       "    </tr>\n",
       "    <tr>\n",
       "      <th>7.0</th>\n",
       "      <td>5.826329</td>\n",
       "    </tr>\n",
       "    <tr>\n",
       "      <th>8.0</th>\n",
       "      <td>5.658948</td>\n",
       "    </tr>\n",
       "  </tbody>\n",
       "</table>\n",
       "</div>"
      ],
      "text/plain": [
       "       y_pred\n",
       "y            \n",
       "6.0  5.596162\n",
       "7.0  5.826329\n",
       "8.0  5.658948"
      ]
     },
     "metadata": {},
     "output_type": "display_data"
    },
    {
     "name": "stdout",
     "output_type": "stream",
     "text": [
      "\n",
      "-1.1642430340495182\n",
      "0.20078470144579386\n",
      "0.22252747252747257\n"
     ]
    },
    {
     "data": {
      "text/html": [
       "<div>\n",
       "<style scoped>\n",
       "    .dataframe tbody tr th:only-of-type {\n",
       "        vertical-align: middle;\n",
       "    }\n",
       "\n",
       "    .dataframe tbody tr th {\n",
       "        vertical-align: top;\n",
       "    }\n",
       "\n",
       "    .dataframe thead th {\n",
       "        text-align: right;\n",
       "    }\n",
       "</style>\n",
       "<table border=\"1\" class=\"dataframe\">\n",
       "  <thead>\n",
       "    <tr style=\"text-align: right;\">\n",
       "      <th></th>\n",
       "      <th>y_pred</th>\n",
       "    </tr>\n",
       "    <tr>\n",
       "      <th>y</th>\n",
       "      <th></th>\n",
       "    </tr>\n",
       "  </thead>\n",
       "  <tbody>\n",
       "    <tr>\n",
       "      <th>6.0</th>\n",
       "      <td>5.802394</td>\n",
       "    </tr>\n",
       "    <tr>\n",
       "      <th>7.0</th>\n",
       "      <td>6.125536</td>\n",
       "    </tr>\n",
       "    <tr>\n",
       "      <th>8.0</th>\n",
       "      <td>6.335625</td>\n",
       "    </tr>\n",
       "  </tbody>\n",
       "</table>\n",
       "</div>"
      ],
      "text/plain": [
       "       y_pred\n",
       "y            \n",
       "6.0  5.802394\n",
       "7.0  6.125536\n",
       "8.0  6.335625"
      ]
     },
     "metadata": {},
     "output_type": "display_data"
    },
    {
     "name": "stdout",
     "output_type": "stream",
     "text": [
      "\n",
      "0.05991295470944413\n",
      "0.4669578456067224\n",
      "0.4493758668515949\n",
      "\n",
      "0.36172645722938734\n",
      "0.377079565881863\n",
      "0.44028059499661926\n",
      "\n",
      "0.15756030510572105\n",
      "0.330160114165769\n",
      "0.37065140489185344\n",
      "\n",
      "0.5416066794651255\n",
      "0.6129815060425243\n",
      "0.6188220262551359\n",
      "\n",
      "0.36375093286623383\n",
      "0.38416798134225716\n",
      "0.4662004662004663\n",
      "\n",
      "-0.18030515668067415\n",
      "0.09843571800016637\n",
      "0.07302129968796636\n",
      "\n",
      "0.22984430330498729\n",
      "0.2605998375031535\n",
      "0.16071428571428578\n",
      "\n",
      "-0.11894279008147968\n",
      "0.09015540585043684\n",
      "0.04363636363636364\n",
      "\n",
      "-0.08769611858774784\n",
      "0.014330171743296453\n",
      "0.017095533865720196\n",
      "\n",
      "-0.3127260955394411\n",
      "0.023061337191002906\n",
      "0.0446664790318041\n",
      "\n",
      "-0.09908132479708831\n",
      "0.255862829836177\n",
      "0.19276960784313718\n",
      "\n",
      "0.3097152224760171\n",
      "0.34030233724732106\n",
      "0.35392156862745094\n",
      "\n",
      "0.45654897853708154\n",
      "0.4934023606130706\n",
      "0.5084948383326842\n",
      "\n",
      "0.42522361871652303\n",
      "0.5362955103503682\n",
      "0.3498299319727891\n",
      "\n",
      "-0.33920165571376826\n",
      "0.007555118487714411\n",
      "0.009220430107526883\n",
      "\n",
      "0.17363908306528597\n",
      "0.18122177034987236\n",
      "0.11363940698230511\n",
      "\n",
      "0.23721529255796603\n",
      "0.3493566890877516\n",
      "0.19623785166240404\n",
      "\n",
      "-0.057378140257074106\n",
      "0.07443656617871695\n",
      "0.04740712074303406\n",
      "\n",
      "-0.48092260588202773\n",
      "0.2662840208621881\n",
      "0.2522058823529412\n",
      "\n",
      "0.22368737996878352\n",
      "0.2655092541882262\n",
      "0.1380290367513125\n",
      "\n",
      "0.29553650105963514\n",
      "0.6379103042658811\n",
      "0.6351733703190012\n",
      "\n",
      "0.20471366015348813\n",
      "0.25635361703068815\n",
      "0.2756504524886878\n",
      "\n",
      "-0.297279519466388\n",
      "0.13505267541983604\n",
      "0.13414027149321264\n",
      "\n",
      "0.2836737582854454\n",
      "0.3114286035288707\n",
      "0.42440464895635677\n",
      "\n",
      "-0.2860449158625977\n",
      "0.3026209886900048\n",
      "0.2884323640960808\n",
      "\n",
      "0.549264131333532\n",
      "0.7329012586312306\n",
      "0.5641025641025643\n",
      "\n",
      "0.36289690771841665\n",
      "0.505791921376578\n",
      "0.5014100346020761\n",
      "\n",
      "0.22002970086663676\n",
      "0.2828201171146538\n",
      "0.08316256105330222\n",
      "\n",
      "0.15898903488675242\n",
      "0.49393160109574447\n",
      "0.35754344177989494\n",
      "\n",
      "0.4106516233262696\n",
      "0.6097715789864293\n",
      "0.6375\n",
      "\n",
      "0.15061341056139343\n",
      "0.5435206159678431\n",
      "0.5007450980392157\n",
      "\n",
      "0.30822667573032836\n",
      "0.5537028126538694\n",
      "0.52149450023912\n",
      "\n",
      "0.3370746194027322\n",
      "0.3505183228821027\n",
      "0.26530612244897955\n",
      "\n",
      "0.5358742394496377\n",
      "0.5599021105807818\n",
      "0.5307214299861358\n",
      "\n",
      "0.2804923709855549\n",
      "0.5662979391808518\n",
      "0.5694971537001897\n",
      "\n",
      "0.5177459028648601\n",
      "0.5296971264369016\n",
      "0.49972238895558213\n",
      "\n",
      "-0.3149259836691234\n",
      "0.12713776821872658\n",
      "0.09745728723830913\n",
      "\n",
      "0.6197996268699163\n",
      "0.6335750367213722\n",
      "0.603448275862069\n",
      "\n",
      "0.140462855957867\n",
      "0.21465514120283447\n",
      "0.2817768199233716\n",
      "\n",
      "0.2446115592832272\n",
      "0.3609223888459017\n",
      "0.37279411764705883\n",
      "\n",
      "0.13102662458117142\n",
      "0.18234856727447735\n",
      "0.14943311195445924\n",
      "\n",
      "-0.13325079361667136\n",
      "0.12146423324887239\n",
      "0.05788155125764105\n",
      "\n",
      "-0.5927926935328769\n",
      "0.0019469889002903047\n",
      "0.026923076923076925\n"
     ]
    },
    {
     "data": {
      "text/html": [
       "<div>\n",
       "<style scoped>\n",
       "    .dataframe tbody tr th:only-of-type {\n",
       "        vertical-align: middle;\n",
       "    }\n",
       "\n",
       "    .dataframe tbody tr th {\n",
       "        vertical-align: top;\n",
       "    }\n",
       "\n",
       "    .dataframe thead th {\n",
       "        text-align: right;\n",
       "    }\n",
       "</style>\n",
       "<table border=\"1\" class=\"dataframe\">\n",
       "  <thead>\n",
       "    <tr style=\"text-align: right;\">\n",
       "      <th></th>\n",
       "      <th>y_pred</th>\n",
       "    </tr>\n",
       "    <tr>\n",
       "      <th>y</th>\n",
       "      <th></th>\n",
       "    </tr>\n",
       "  </thead>\n",
       "  <tbody>\n",
       "    <tr>\n",
       "      <th>5.0</th>\n",
       "      <td>5.593348</td>\n",
       "    </tr>\n",
       "    <tr>\n",
       "      <th>6.0</th>\n",
       "      <td>6.296632</td>\n",
       "    </tr>\n",
       "    <tr>\n",
       "      <th>8.0</th>\n",
       "      <td>5.336284</td>\n",
       "    </tr>\n",
       "  </tbody>\n",
       "</table>\n",
       "</div>"
      ],
      "text/plain": [
       "       y_pred\n",
       "y            \n",
       "5.0  5.593348\n",
       "6.0  6.296632\n",
       "8.0  5.336284"
      ]
     },
     "metadata": {},
     "output_type": "display_data"
    },
    {
     "name": "stdout",
     "output_type": "stream",
     "text": [
      "\n",
      "-0.24688228802069578\n",
      "0.04276219899587339\n",
      "0.039030396847734294\n",
      "\n",
      "0.6145971989989882\n",
      "0.683816086722149\n",
      "0.7248864574731628\n",
      "\n",
      "0.1270744420865475\n",
      "0.17041265195176844\n",
      "0.16542597961283084\n",
      "\n",
      "0.10345541135126124\n",
      "0.11400892286253045\n",
      "0.13509710104137346\n",
      "\n",
      "0.43385465076837026\n",
      "0.6251300132093537\n",
      "0.6127305257363063\n",
      "\n",
      "0.24951281324366648\n",
      "0.2750821445399093\n",
      "0.3429702374987475\n",
      "\n",
      "0.3359191307365169\n",
      "0.507574937183257\n",
      "0.4968756107094001\n",
      "\n",
      "0.07762453903513755\n",
      "0.10638184532031379\n",
      "0.131094851733797\n",
      "\n",
      "-0.06562213239116943\n",
      "0.07335145699264395\n",
      "0.03200458243710838\n",
      "\n",
      "0.16032692800365478\n",
      "0.20476531452249194\n",
      "0.1505656108597285\n",
      "\n",
      "0.16974535824465142\n",
      "0.39744643065223023\n",
      "0.4113533525298232\n",
      "\n",
      "0.6464777962100072\n",
      "0.7570647487453867\n",
      "0.7673890608875128\n",
      "\n",
      "0.532605807320915\n",
      "0.5880741105620904\n",
      "0.5544959319180773\n",
      "\n",
      "0.5915349190350752\n",
      "0.6162496284531994\n",
      "0.625378151260504\n",
      "\n",
      "0.2079877438606137\n",
      "0.5098619310643443\n",
      "0.35743464052287577\n",
      "\n",
      "0.5756018223232489\n",
      "0.7445960310297964\n",
      "0.5996776792908944\n",
      "\n",
      "0.11607873574971328\n",
      "0.20931263392171703\n",
      "0.10081431479695702\n",
      "\n",
      "0.4402458050725765\n",
      "0.5301671243831279\n",
      "0.5764919354838711\n",
      "\n",
      "0.2655229894464941\n",
      "0.447403359364267\n",
      "0.4336710760859367\n",
      "\n",
      "0.17217998199144036\n",
      "0.1825257489488327\n",
      "0.0669449715370019\n",
      "\n",
      "0.31549049916190874\n",
      "0.37461658805650866\n",
      "0.3374121346651869\n",
      "\n",
      "-2.0788391716633225\n",
      "0.0008582334235844996\n",
      "2.6164311878597586e-05\n"
     ]
    },
    {
     "data": {
      "text/html": [
       "<div>\n",
       "<style scoped>\n",
       "    .dataframe tbody tr th:only-of-type {\n",
       "        vertical-align: middle;\n",
       "    }\n",
       "\n",
       "    .dataframe tbody tr th {\n",
       "        vertical-align: top;\n",
       "    }\n",
       "\n",
       "    .dataframe thead th {\n",
       "        text-align: right;\n",
       "    }\n",
       "</style>\n",
       "<table border=\"1\" class=\"dataframe\">\n",
       "  <thead>\n",
       "    <tr style=\"text-align: right;\">\n",
       "      <th></th>\n",
       "      <th>y_pred</th>\n",
       "    </tr>\n",
       "    <tr>\n",
       "      <th>y</th>\n",
       "      <th></th>\n",
       "    </tr>\n",
       "  </thead>\n",
       "  <tbody>\n",
       "    <tr>\n",
       "      <th>5.0</th>\n",
       "      <td>6.204795</td>\n",
       "    </tr>\n",
       "    <tr>\n",
       "      <th>6.0</th>\n",
       "      <td>5.562743</td>\n",
       "    </tr>\n",
       "    <tr>\n",
       "      <th>7.0</th>\n",
       "      <td>6.283561</td>\n",
       "    </tr>\n",
       "  </tbody>\n",
       "</table>\n",
       "</div>"
      ],
      "text/plain": [
       "       y_pred\n",
       "y            \n",
       "5.0  6.204795\n",
       "6.0  5.562743\n",
       "7.0  6.283561"
      ]
     },
     "metadata": {},
     "output_type": "display_data"
    },
    {
     "name": "stdout",
     "output_type": "stream",
     "text": [
      "\n",
      "-1.6218597424601997\n",
      "0.013940156161229122\n",
      "0.005147058823529409\n"
     ]
    },
    {
     "data": {
      "text/html": [
       "<div>\n",
       "<style scoped>\n",
       "    .dataframe tbody tr th:only-of-type {\n",
       "        vertical-align: middle;\n",
       "    }\n",
       "\n",
       "    .dataframe tbody tr th {\n",
       "        vertical-align: top;\n",
       "    }\n",
       "\n",
       "    .dataframe thead th {\n",
       "        text-align: right;\n",
       "    }\n",
       "</style>\n",
       "<table border=\"1\" class=\"dataframe\">\n",
       "  <thead>\n",
       "    <tr style=\"text-align: right;\">\n",
       "      <th></th>\n",
       "      <th>y_pred</th>\n",
       "    </tr>\n",
       "    <tr>\n",
       "      <th>y</th>\n",
       "      <th></th>\n",
       "    </tr>\n",
       "  </thead>\n",
       "  <tbody>\n",
       "    <tr>\n",
       "      <th>5.0</th>\n",
       "      <td>6.114400</td>\n",
       "    </tr>\n",
       "    <tr>\n",
       "      <th>6.0</th>\n",
       "      <td>4.587516</td>\n",
       "    </tr>\n",
       "    <tr>\n",
       "      <th>8.0</th>\n",
       "      <td>7.134827</td>\n",
       "    </tr>\n",
       "  </tbody>\n",
       "</table>\n",
       "</div>"
      ],
      "text/plain": [
       "       y_pred\n",
       "y            \n",
       "5.0  6.114400\n",
       "6.0  4.587516\n",
       "8.0  7.134827"
      ]
     },
     "metadata": {},
     "output_type": "display_data"
    },
    {
     "name": "stdout",
     "output_type": "stream",
     "text": [
      "\n",
      "-0.21931903604460956\n",
      "0.15349829786314936\n",
      "0.18517977490787155\n",
      "\n",
      "0.29711582600741626\n",
      "0.3668784319148291\n",
      "0.5261488970588235\n",
      "\n",
      "0.11539315568718167\n",
      "0.28444611257340596\n",
      "0.3241296518607444\n",
      "\n",
      "-0.34522682512402403\n",
      "0.013132279568064306\n",
      "0.004703832752613241\n",
      "\n",
      "-0.12388331110925899\n",
      "0.24928588880383837\n",
      "0.13287711124053583\n",
      "\n",
      "-0.21474138411832722\n",
      "0.2628461471351247\n",
      "0.34535860855970285\n",
      "\n",
      "-0.8771465279261201\n",
      "0.6048602226365314\n",
      "0.585799319727891\n"
     ]
    },
    {
     "data": {
      "text/html": [
       "<div>\n",
       "<style scoped>\n",
       "    .dataframe tbody tr th:only-of-type {\n",
       "        vertical-align: middle;\n",
       "    }\n",
       "\n",
       "    .dataframe tbody tr th {\n",
       "        vertical-align: top;\n",
       "    }\n",
       "\n",
       "    .dataframe thead th {\n",
       "        text-align: right;\n",
       "    }\n",
       "</style>\n",
       "<table border=\"1\" class=\"dataframe\">\n",
       "  <thead>\n",
       "    <tr style=\"text-align: right;\">\n",
       "      <th></th>\n",
       "      <th>y_pred</th>\n",
       "    </tr>\n",
       "    <tr>\n",
       "      <th>y</th>\n",
       "      <th></th>\n",
       "    </tr>\n",
       "  </thead>\n",
       "  <tbody>\n",
       "    <tr>\n",
       "      <th>5.0</th>\n",
       "      <td>5.730672</td>\n",
       "    </tr>\n",
       "    <tr>\n",
       "      <th>6.0</th>\n",
       "      <td>6.882275</td>\n",
       "    </tr>\n",
       "    <tr>\n",
       "      <th>7.0</th>\n",
       "      <td>6.943490</td>\n",
       "    </tr>\n",
       "  </tbody>\n",
       "</table>\n",
       "</div>"
      ],
      "text/plain": [
       "       y_pred\n",
       "y            \n",
       "5.0  5.730672\n",
       "6.0  6.882275\n",
       "7.0  6.943490"
      ]
     },
     "metadata": {},
     "output_type": "display_data"
    },
    {
     "name": "stdout",
     "output_type": "stream",
     "text": [
      "\n",
      "-0.7709536825998917\n",
      "0.306556380149029\n",
      "0.298694246929541\n"
     ]
    },
    {
     "data": {
      "text/html": [
       "<div>\n",
       "<style scoped>\n",
       "    .dataframe tbody tr th:only-of-type {\n",
       "        vertical-align: middle;\n",
       "    }\n",
       "\n",
       "    .dataframe tbody tr th {\n",
       "        vertical-align: top;\n",
       "    }\n",
       "\n",
       "    .dataframe thead th {\n",
       "        text-align: right;\n",
       "    }\n",
       "</style>\n",
       "<table border=\"1\" class=\"dataframe\">\n",
       "  <thead>\n",
       "    <tr style=\"text-align: right;\">\n",
       "      <th></th>\n",
       "      <th>y_pred</th>\n",
       "    </tr>\n",
       "    <tr>\n",
       "      <th>y</th>\n",
       "      <th></th>\n",
       "    </tr>\n",
       "  </thead>\n",
       "  <tbody>\n",
       "    <tr>\n",
       "      <th>5.0</th>\n",
       "      <td>5.851494</td>\n",
       "    </tr>\n",
       "    <tr>\n",
       "      <th>6.0</th>\n",
       "      <td>6.700813</td>\n",
       "    </tr>\n",
       "    <tr>\n",
       "      <th>7.0</th>\n",
       "      <td>6.706947</td>\n",
       "    </tr>\n",
       "  </tbody>\n",
       "</table>\n",
       "</div>"
      ],
      "text/plain": [
       "       y_pred\n",
       "y            \n",
       "5.0  5.851494\n",
       "6.0  6.700813\n",
       "7.0  6.706947"
      ]
     },
     "metadata": {},
     "output_type": "display_data"
    },
    {
     "name": "stdout",
     "output_type": "stream",
     "text": [
      "\n",
      "-1.3786617126268288\n",
      "0.12877982390773232\n",
      "0.11895697167755995\n"
     ]
    },
    {
     "data": {
      "text/html": [
       "<div>\n",
       "<style scoped>\n",
       "    .dataframe tbody tr th:only-of-type {\n",
       "        vertical-align: middle;\n",
       "    }\n",
       "\n",
       "    .dataframe tbody tr th {\n",
       "        vertical-align: top;\n",
       "    }\n",
       "\n",
       "    .dataframe thead th {\n",
       "        text-align: right;\n",
       "    }\n",
       "</style>\n",
       "<table border=\"1\" class=\"dataframe\">\n",
       "  <thead>\n",
       "    <tr style=\"text-align: right;\">\n",
       "      <th></th>\n",
       "      <th>y_pred</th>\n",
       "    </tr>\n",
       "    <tr>\n",
       "      <th>y</th>\n",
       "      <th></th>\n",
       "    </tr>\n",
       "  </thead>\n",
       "  <tbody>\n",
       "    <tr>\n",
       "      <th>5.0</th>\n",
       "      <td>6.036583</td>\n",
       "    </tr>\n",
       "    <tr>\n",
       "      <th>6.0</th>\n",
       "      <td>6.317377</td>\n",
       "    </tr>\n",
       "    <tr>\n",
       "      <th>7.0</th>\n",
       "      <td>6.873760</td>\n",
       "    </tr>\n",
       "  </tbody>\n",
       "</table>\n",
       "</div>"
      ],
      "text/plain": [
       "       y_pred\n",
       "y            \n",
       "5.0  6.036583\n",
       "6.0  6.317377\n",
       "7.0  6.873760"
      ]
     },
     "metadata": {},
     "output_type": "display_data"
    },
    {
     "name": "stdout",
     "output_type": "stream",
     "text": [
      "\n",
      "-0.40338135769723604\n",
      "0.1508114240213814\n",
      "0.15026640026640023\n",
      "\n"
     ]
    }
   ],
   "source": [
    "within_subj_predictions = []\n",
    "for group in results['result_group'].unique():\n",
    "    group_results = results.loc[results['result_group']==group,]\n",
    "    within_subj_prediction = r2_score(group_results['y'],group_results['y_pred'])\n",
    "    print(within_subj_prediction)\n",
    "    print(math.pow(pearsonr(group_results['y'],group_results['y_pred'])[0],2))\n",
    "    print(math.pow(spearmanr(group_results['y'],group_results['y_pred'])[0],2))\n",
    "    #what if we we re-ranked the predicted values into groups along the \n",
    "    if (within_subj_prediction< (-0.5)):\n",
    "\n",
    "#         sp = sns.scatterplot(group_results['y'],group_results['y_pred'])\n",
    "#         plt.show()\n",
    "        display(pd.DataFrame(group_results.groupby('y').y_pred.mean()))\n",
    "        #display(group_results)\n",
    "    within_subj_predictions = within_subj_predictions + [within_subj_prediction]\n",
    "    print(\"\")\n",
    "    \n",
    "r2_score_within_subj = np.mean(within_subj_predictions)"
   ]
  },
  {
   "cell_type": "markdown",
   "id": "spare-indonesia",
   "metadata": {},
   "source": [
    "We get scores less than -1 when the variance of the observed values is less than the variance of the predicted values.\n",
    "\n",
    "This might suggest we can improve if we can rescale the observed before they go in..."
   ]
  },
  {
   "cell_type": "code",
   "execution_count": 36,
   "id": "alive-tunisia",
   "metadata": {},
   "outputs": [
    {
     "data": {
      "text/plain": [
       "0.008644898442217556"
      ]
     },
     "execution_count": 36,
     "metadata": {},
     "output_type": "execute_result"
    }
   ],
   "source": [
    "r2_score_within_subj"
   ]
  },
  {
   "cell_type": "markdown",
   "id": "silver-lucas",
   "metadata": {},
   "source": [
    "## Mean centering only"
   ]
  },
  {
   "cell_type": "code",
   "execution_count": 37,
   "id": "eleven-resource",
   "metadata": {},
   "outputs": [
    {
     "name": "stdout",
     "output_type": "stream",
     "text": [
      "0.4035146799760675\n",
      "0.4038845411941005\n",
      "\n",
      "0.766023814927876\n",
      "0.7683425392290582\n",
      "\n",
      "0.7742624944593347\n",
      "0.8418578702111164\n",
      "\n",
      "0.4772348026996519\n",
      "0.5338231136829967\n",
      "\n",
      "0.055638036259123225\n",
      "0.10933380000292887\n",
      "\n",
      "0.4509319088273692\n",
      "0.4623387451283155\n",
      "\n",
      "0.3781191535781533\n",
      "0.44733103221498444\n",
      "\n",
      "0.4457125024886466\n",
      "0.474203943829648\n",
      "\n",
      "0.5314534448685921\n",
      "0.5400389408113974\n",
      "\n",
      "0.27612020700085727\n",
      "0.3074700466102745\n",
      "\n",
      "0.5835838532819834\n",
      "0.6761542475909392\n",
      "\n",
      "0.4307522266553985\n",
      "0.48831982993631445\n",
      "\n",
      "0.12969179016913357\n",
      "0.2393341789428092\n",
      "\n",
      "0.4498804539606249\n",
      "0.45041683159763846\n",
      "\n",
      "-0.06219952383173477\n",
      "0.01243262920353479\n",
      "\n",
      "-0.0643198014388131\n",
      "0.048008451551180144\n",
      "\n",
      "0.36105541432125254\n",
      "0.36117087803143927\n",
      "\n",
      "0.464349449838687\n",
      "0.4654510574331006\n",
      "\n",
      "0.3313463671622999\n",
      "0.34254671778112006\n",
      "\n",
      "0.27937402959455593\n",
      "0.28839451733103744\n",
      "\n",
      "-0.013558780686839134\n",
      "0.12240642376460807\n",
      "\n",
      "0.5873905159559047\n",
      "0.6093986540152092\n",
      "\n",
      "0.4087343063708637\n",
      "0.4577238809372353\n",
      "\n",
      "0.3269818605166318\n",
      "0.364310880123109\n",
      "\n",
      "0.2225412173698068\n",
      "0.2256583353258063\n",
      "\n",
      "0.2971845523422967\n",
      "0.2984468000874163\n",
      "\n",
      "0.5343525592405031\n",
      "0.5890616310219164\n",
      "\n",
      "0.43449487220388006\n",
      "0.4611892963221197\n",
      "\n",
      "0.257780790743399\n",
      "0.3409117877527202\n",
      "\n",
      "0.3848528980742537\n",
      "0.394131741247039\n",
      "\n",
      "0.6284949700743823\n",
      "0.7151904103880591\n",
      "\n",
      "0.40619013691840167\n",
      "0.4322127164454712\n",
      "\n",
      "-0.23454662596496356\n",
      "0.05851806638876475\n",
      "\n",
      "0.5660138506509593\n",
      "0.6444128142669682\n",
      "\n",
      "0.7412808691484556\n",
      "0.8324031999091124\n",
      "\n",
      "0.6651924115359041\n",
      "0.6817463650018022\n",
      "\n",
      "-0.833617753563809\n",
      "0.06559247822295038\n"
     ]
    },
    {
     "name": "stderr",
     "output_type": "stream",
     "text": [
      "/home/bsmith16/.conda/envs/neuralsignature/lib/python3.8/site-packages/seaborn/_decorators.py:36: FutureWarning: Pass the following variables as keyword args: x, y. From version 0.12, the only valid positional argument will be `data`, and passing other arguments without an explicit keyword will result in an error or misinterpretation.\n",
      "  warnings.warn(\n"
     ]
    },
    {
     "data": {
      "image/png": "[encoded data removed]",
      "text/plain": [
       "<Figure size 432x288 with 1 Axes>"
      ]
     },
     "metadata": {
      "needs_background": "light"
     },
     "output_type": "display_data"
    },
    {
     "data": {
      "text/html": [
       "<div>\n",
       "<style scoped>\n",
       "    .dataframe tbody tr th:only-of-type {\n",
       "        vertical-align: middle;\n",
       "    }\n",
       "\n",
       "    .dataframe tbody tr th {\n",
       "        vertical-align: top;\n",
       "    }\n",
       "\n",
       "    .dataframe thead th {\n",
       "        text-align: right;\n",
       "    }\n",
       "</style>\n",
       "<table border=\"1\" class=\"dataframe\">\n",
       "  <thead>\n",
       "    <tr style=\"text-align: right;\">\n",
       "      <th></th>\n",
       "      <th>y_pred</th>\n",
       "    </tr>\n",
       "    <tr>\n",
       "      <th>y</th>\n",
       "      <th></th>\n",
       "    </tr>\n",
       "  </thead>\n",
       "  <tbody>\n",
       "    <tr>\n",
       "      <th>-1.1875</th>\n",
       "      <td>0.893246</td>\n",
       "    </tr>\n",
       "    <tr>\n",
       "      <th>-0.1875</th>\n",
       "      <td>-0.090897</td>\n",
       "    </tr>\n",
       "    <tr>\n",
       "      <th>0.8125</th>\n",
       "      <td>0.026654</td>\n",
       "    </tr>\n",
       "  </tbody>\n",
       "</table>\n",
       "</div>"
      ],
      "text/plain": [
       "           y_pred\n",
       "y                \n",
       "-1.1875  0.893246\n",
       "-0.1875 -0.090897\n",
       " 0.8125  0.026654"
      ]
     },
     "metadata": {},
     "output_type": "display_data"
    },
    {
     "name": "stdout",
     "output_type": "stream",
     "text": [
      "\n",
      "-0.6980498384701292\n",
      "0.006424728453203566\n"
     ]
    },
    {
     "name": "stderr",
     "output_type": "stream",
     "text": [
      "/home/bsmith16/.conda/envs/neuralsignature/lib/python3.8/site-packages/seaborn/_decorators.py:36: FutureWarning: Pass the following variables as keyword args: x, y. From version 0.12, the only valid positional argument will be `data`, and passing other arguments without an explicit keyword will result in an error or misinterpretation.\n",
      "  warnings.warn(\n"
     ]
    },
    {
     "data": {
      "image/png": "[encoded data removed]",
      "text/plain": [
       "<Figure size 432x288 with 1 Axes>"
      ]
     },
     "metadata": {
      "needs_background": "light"
     },
     "output_type": "display_data"
    },
    {
     "data": {
      "text/html": [
       "<div>\n",
       "<style scoped>\n",
       "    .dataframe tbody tr th:only-of-type {\n",
       "        vertical-align: middle;\n",
       "    }\n",
       "\n",
       "    .dataframe tbody tr th {\n",
       "        vertical-align: top;\n",
       "    }\n",
       "\n",
       "    .dataframe thead th {\n",
       "        text-align: right;\n",
       "    }\n",
       "</style>\n",
       "<table border=\"1\" class=\"dataframe\">\n",
       "  <thead>\n",
       "    <tr style=\"text-align: right;\">\n",
       "      <th></th>\n",
       "      <th>y_pred</th>\n",
       "    </tr>\n",
       "    <tr>\n",
       "      <th>y</th>\n",
       "      <th></th>\n",
       "    </tr>\n",
       "  </thead>\n",
       "  <tbody>\n",
       "    <tr>\n",
       "      <th>-1.5</th>\n",
       "      <td>0.834699</td>\n",
       "    </tr>\n",
       "    <tr>\n",
       "      <th>-0.5</th>\n",
       "      <td>-0.518272</td>\n",
       "    </tr>\n",
       "    <tr>\n",
       "      <th>0.5</th>\n",
       "      <td>0.097880</td>\n",
       "    </tr>\n",
       "    <tr>\n",
       "      <th>1.5</th>\n",
       "      <td>0.138922</td>\n",
       "    </tr>\n",
       "  </tbody>\n",
       "</table>\n",
       "</div>"
      ],
      "text/plain": [
       "        y_pred\n",
       "y             \n",
       "-1.5  0.834699\n",
       "-0.5 -0.518272\n",
       " 0.5  0.097880\n",
       " 1.5  0.138922"
      ]
     },
     "metadata": {},
     "output_type": "display_data"
    },
    {
     "name": "stdout",
     "output_type": "stream",
     "text": [
      "\n",
      "0.010491516954447944\n",
      "0.12202811886583387\n",
      "\n",
      "0.0844374050083605\n",
      "0.1631709701488646\n",
      "\n",
      "0.2600784555575354\n",
      "0.2620191057619129\n",
      "\n",
      "0.0533636296552068\n",
      "0.10729304716228076\n",
      "\n",
      "-0.1467582874632154\n",
      "0.004703089997567484\n",
      "\n",
      "0.1792010258115706\n",
      "0.20078470144579388\n",
      "\n",
      "0.4164755096371916\n",
      "0.4669578456067222\n",
      "\n",
      "0.37542237115969423\n",
      "0.37707956588186314\n",
      "\n",
      "0.33014958895990765\n",
      "0.330160114165769\n",
      "\n",
      "0.5900906808704061\n",
      "0.6129815060425245\n",
      "\n",
      "0.37170385046622023\n",
      "0.38416798134225716\n",
      "\n",
      "0.0802072705310578\n",
      "0.09843571800016641\n",
      "\n",
      "0.250880905809608\n",
      "0.2605998375031534\n",
      "\n",
      "-0.11671044505335537\n",
      "0.09015540585043696\n",
      "\n",
      "-0.015762941883230797\n",
      "0.014330171743296457\n",
      "\n",
      "-0.31235999227618216\n",
      "0.023061337191002933\n",
      "\n",
      "0.23598226532562283\n",
      "0.2558628298361771\n",
      "\n",
      "0.3306740472737616\n",
      "0.34030233724732095\n",
      "\n",
      "0.46725164609336156\n",
      "0.4934023606130706\n",
      "\n",
      "0.4882504422171091\n",
      "0.536295510350368\n",
      "\n",
      "-0.33896601262211146\n",
      "0.0075551184877144205\n",
      "\n",
      "0.17682921456353717\n",
      "0.1812217703498723\n",
      "\n",
      "0.34725047200174386\n",
      "0.3493566890877516\n",
      "\n",
      "0.06807828642946046\n",
      "0.07443656617871695\n",
      "\n",
      "0.152987904614724\n",
      "0.2662840208621881\n",
      "\n",
      "0.2652716939730483\n",
      "0.2655092541882262\n",
      "\n",
      "0.6153175853310349\n",
      "0.6379103042658814\n",
      "\n",
      "0.2563520418016757\n",
      "0.25635361703068826\n",
      "\n",
      "0.00983407546371029\n",
      "0.13505267541983604\n",
      "\n",
      "0.2889487232736456\n",
      "0.3114286035288708\n",
      "\n",
      "0.2711847852171879\n",
      "0.3026209886900048\n",
      "\n",
      "0.5495884524454882\n",
      "0.7329012586312308\n",
      "\n",
      "0.4053716041933477\n",
      "0.5057919213765782\n",
      "\n",
      "0.22681086576380582\n",
      "0.2828201171146538\n",
      "\n",
      "0.4556877210012604\n",
      "0.49393160109574447\n",
      "\n",
      "0.5155451140673695\n",
      "0.6097715789864293\n",
      "\n",
      "0.3357815173202656\n",
      "0.5435206159678431\n",
      "\n",
      "0.46545338790140545\n",
      "0.5537028126538694\n",
      "\n",
      "0.3499370685833708\n",
      "0.35051832288210283\n",
      "\n",
      "0.5459503846558976\n",
      "0.5599021105807818\n",
      "\n",
      "0.5425366040093085\n",
      "0.5662979391808518\n",
      "\n",
      "0.5205146154609356\n",
      "0.5296971264369018\n",
      "\n",
      "0.017716546951674794\n",
      "0.12713776821872658\n",
      "\n",
      "0.6198449462402347\n",
      "0.6335750367213722\n",
      "\n",
      "0.20234036181543957\n",
      "0.21465514120283447\n",
      "\n",
      "0.34060814971250597\n",
      "0.36092238884590155\n",
      "\n",
      "0.1557444624376061\n",
      "0.18234856727447735\n",
      "\n",
      "-0.05840013606422745\n",
      "0.12146423324887239\n",
      "\n",
      "-0.5923289633344311\n",
      "0.0019469889002903021\n"
     ]
    },
    {
     "name": "stderr",
     "output_type": "stream",
     "text": [
      "/home/bsmith16/.conda/envs/neuralsignature/lib/python3.8/site-packages/seaborn/_decorators.py:36: FutureWarning: Pass the following variables as keyword args: x, y. From version 0.12, the only valid positional argument will be `data`, and passing other arguments without an explicit keyword will result in an error or misinterpretation.\n",
      "  warnings.warn(\n"
     ]
    },
    {
     "data": {
      "image/png": "[encoded data removed]",
      "text/plain": [
       "<Figure size 432x288 with 1 Axes>"
      ]
     },
     "metadata": {
      "needs_background": "light"
     },
     "output_type": "display_data"
    },
    {
     "data": {
      "text/html": [
       "<div>\n",
       "<style scoped>\n",
       "    .dataframe tbody tr th:only-of-type {\n",
       "        vertical-align: middle;\n",
       "    }\n",
       "\n",
       "    .dataframe tbody tr th {\n",
       "        vertical-align: top;\n",
       "    }\n",
       "\n",
       "    .dataframe thead th {\n",
       "        text-align: right;\n",
       "    }\n",
       "</style>\n",
       "<table border=\"1\" class=\"dataframe\">\n",
       "  <thead>\n",
       "    <tr style=\"text-align: right;\">\n",
       "      <th></th>\n",
       "      <th>y_pred</th>\n",
       "    </tr>\n",
       "    <tr>\n",
       "      <th>y</th>\n",
       "      <th></th>\n",
       "    </tr>\n",
       "  </thead>\n",
       "  <tbody>\n",
       "    <tr>\n",
       "      <th>-0.866667</th>\n",
       "      <td>-0.293924</td>\n",
       "    </tr>\n",
       "    <tr>\n",
       "      <th>0.133333</th>\n",
       "      <td>0.409360</td>\n",
       "    </tr>\n",
       "    <tr>\n",
       "      <th>2.133333</th>\n",
       "      <td>-0.550988</td>\n",
       "    </tr>\n",
       "  </tbody>\n",
       "</table>\n",
       "</div>"
      ],
      "text/plain": [
       "             y_pred\n",
       "y                  \n",
       "-0.866667 -0.293924\n",
       " 0.133333  0.409360\n",
       " 2.133333 -0.550988"
      ]
     },
     "metadata": {},
     "output_type": "display_data"
    },
    {
     "name": "stdout",
     "output_type": "stream",
     "text": [
      "\n",
      "-0.21340534879463968\n",
      "0.04276219899587336\n",
      "\n",
      "0.650658541292797\n",
      "0.6838160867221492\n",
      "\n",
      "0.1684959441556687\n",
      "0.17041265195176836\n",
      "\n",
      "0.10371168936425768\n",
      "0.11400892286253045\n",
      "\n",
      "0.5257823423491246\n",
      "0.6251300132093537\n",
      "\n",
      "0.25112637693966555\n",
      "0.2750821445399095\n",
      "\n",
      "0.4877934912806242\n",
      "0.507574937183257\n",
      "\n",
      "0.0782261369707149\n",
      "0.10638184532031379\n",
      "\n",
      "0.02400918615127734\n",
      "0.073351456992644\n",
      "\n",
      "0.2028763464162926\n",
      "0.20476531452249194\n",
      "\n",
      "0.3823404434393729\n",
      "0.3974464306522301\n",
      "\n",
      "0.6512005851927234\n",
      "0.7570647487453867\n",
      "\n",
      "0.5667466103994994\n",
      "0.5880741105620904\n",
      "\n",
      "0.615074343214786\n",
      "0.6162496284531994\n",
      "\n",
      "0.5094733424670612\n",
      "0.5098619310643442\n",
      "\n",
      "0.6688408801367671\n",
      "0.7445960310297964\n",
      "\n",
      "0.2081151861691286\n",
      "0.20931263392171714\n",
      "\n",
      "0.452886913894031\n",
      "0.5301671243831279\n",
      "\n",
      "0.36539951780842594\n",
      "0.447403359364267\n",
      "\n",
      "0.18220155748903744\n",
      "0.1825257489488327\n",
      "\n",
      "0.3547134552342154\n",
      "0.37461658805650866\n",
      "\n",
      "-0.638449740346041\n",
      "0.0008582334235844996\n"
     ]
    },
    {
     "name": "stderr",
     "output_type": "stream",
     "text": [
      "/home/bsmith16/.conda/envs/neuralsignature/lib/python3.8/site-packages/seaborn/_decorators.py:36: FutureWarning: Pass the following variables as keyword args: x, y. From version 0.12, the only valid positional argument will be `data`, and passing other arguments without an explicit keyword will result in an error or misinterpretation.\n",
      "  warnings.warn(\n"
     ]
    },
    {
     "data": {
      "image/png": "[encoded data removed]",
      "text/plain": [
       "<Figure size 432x288 with 1 Axes>"
      ]
     },
     "metadata": {
      "needs_background": "light"
     },
     "output_type": "display_data"
    },
    {
     "data": {
      "text/html": [
       "<div>\n",
       "<style scoped>\n",
       "    .dataframe tbody tr th:only-of-type {\n",
       "        vertical-align: middle;\n",
       "    }\n",
       "\n",
       "    .dataframe tbody tr th {\n",
       "        vertical-align: top;\n",
       "    }\n",
       "\n",
       "    .dataframe thead th {\n",
       "        text-align: right;\n",
       "    }\n",
       "</style>\n",
       "<table border=\"1\" class=\"dataframe\">\n",
       "  <thead>\n",
       "    <tr style=\"text-align: right;\">\n",
       "      <th></th>\n",
       "      <th>y_pred</th>\n",
       "    </tr>\n",
       "    <tr>\n",
       "      <th>y</th>\n",
       "      <th></th>\n",
       "    </tr>\n",
       "  </thead>\n",
       "  <tbody>\n",
       "    <tr>\n",
       "      <th>-0.333333</th>\n",
       "      <td>0.032301</td>\n",
       "    </tr>\n",
       "    <tr>\n",
       "      <th>0.666667</th>\n",
       "      <td>-0.609751</td>\n",
       "    </tr>\n",
       "    <tr>\n",
       "      <th>1.666667</th>\n",
       "      <td>0.111067</td>\n",
       "    </tr>\n",
       "  </tbody>\n",
       "</table>\n",
       "</div>"
      ],
      "text/plain": [
       "             y_pred\n",
       "y                  \n",
       "-0.333333  0.032301\n",
       " 0.666667 -0.609751\n",
       " 1.666667  0.111067"
      ]
     },
     "metadata": {},
     "output_type": "display_data"
    },
    {
     "name": "stdout",
     "output_type": "stream",
     "text": [
      "\n",
      "-1.5656472593001856\n",
      "0.013940156161229122\n"
     ]
    },
    {
     "name": "stderr",
     "output_type": "stream",
     "text": [
      "/home/bsmith16/.conda/envs/neuralsignature/lib/python3.8/site-packages/seaborn/_decorators.py:36: FutureWarning: Pass the following variables as keyword args: x, y. From version 0.12, the only valid positional argument will be `data`, and passing other arguments without an explicit keyword will result in an error or misinterpretation.\n",
      "  warnings.warn(\n"
     ]
    },
    {
     "data": {
      "image/png": "[encoded data removed]",
      "text/plain": [
       "<Figure size 432x288 with 1 Axes>"
      ]
     },
     "metadata": {
      "needs_background": "light"
     },
     "output_type": "display_data"
    },
    {
     "data": {
      "text/html": [
       "<div>\n",
       "<style scoped>\n",
       "    .dataframe tbody tr th:only-of-type {\n",
       "        vertical-align: middle;\n",
       "    }\n",
       "\n",
       "    .dataframe tbody tr th {\n",
       "        vertical-align: top;\n",
       "    }\n",
       "\n",
       "    .dataframe thead th {\n",
       "        text-align: right;\n",
       "    }\n",
       "</style>\n",
       "<table border=\"1\" class=\"dataframe\">\n",
       "  <thead>\n",
       "    <tr style=\"text-align: right;\">\n",
       "      <th></th>\n",
       "      <th>y_pred</th>\n",
       "    </tr>\n",
       "    <tr>\n",
       "      <th>y</th>\n",
       "      <th></th>\n",
       "    </tr>\n",
       "  </thead>\n",
       "  <tbody>\n",
       "    <tr>\n",
       "      <th>-0.625</th>\n",
       "      <td>0.254167</td>\n",
       "    </tr>\n",
       "    <tr>\n",
       "      <th>0.375</th>\n",
       "      <td>-1.272716</td>\n",
       "    </tr>\n",
       "    <tr>\n",
       "      <th>2.375</th>\n",
       "      <td>1.274595</td>\n",
       "    </tr>\n",
       "  </tbody>\n",
       "</table>\n",
       "</div>"
      ],
      "text/plain": [
       "          y_pred\n",
       "y               \n",
       "-0.625  0.254167\n",
       " 0.375 -1.272716\n",
       " 2.375  1.274595"
      ]
     },
     "metadata": {},
     "output_type": "display_data"
    },
    {
     "name": "stdout",
     "output_type": "stream",
     "text": [
      "\n",
      "0.12543403165921196\n",
      "0.15349829786314945\n",
      "\n",
      "0.33627429814606047\n",
      "0.3668784319148291\n",
      "\n",
      "0.24324168168417704\n",
      "0.2844461125734061\n",
      "\n",
      "-0.24136973197168987\n",
      "0.0131322795680643\n",
      "\n",
      "0.23609823352619408\n",
      "0.2492858888038382\n",
      "\n",
      "0.22124690822617732\n",
      "0.26284614713512483\n",
      "\n",
      "0.5347041486229305\n",
      "0.6048602226365314\n",
      "\n",
      "0.1616016075968022\n",
      "0.306556380149029\n",
      "\n",
      "-0.24274681582202096\n",
      "0.12877982390773232\n",
      "\n",
      "-0.11349422766356954\n",
      "0.1508114240213814\n",
      "\n"
     ]
    }
   ],
   "source": [
    "within_subj_predictions = []\n",
    "for group in results['result_group'].unique():\n",
    "    group_results = results.loc[results['result_group']==group,].copy()\n",
    "    \n",
    "    obs_mean = np.mean(group_results['y'])\n",
    "    pred_mean = np.mean(group_results['y_pred'])\n",
    "    obs_sd = np.std(group_results['y'])\n",
    "    pred_sd = np.std(group_results['y_pred'])\n",
    "    \n",
    "    #let's standardize both.\n",
    "    group_results['y'] = (group_results['y'] - obs_mean)\n",
    "    group_results['y_pred'] = (group_results['y_pred'] - pred_mean)\n",
    "    \n",
    "    within_subj_prediction = r2_score(group_results['y'],group_results['y_pred'])\n",
    "    print(within_subj_prediction)\n",
    "    print(math.pow(pearsonr(group_results['y'],group_results['y_pred'])[0],2))\n",
    "\n",
    "    \n",
    "    #what if we we re-ranked the predicted values into groups along the \n",
    "    if (within_subj_prediction< (-0.5)):\n",
    "\n",
    "        sp = sns.scatterplot(group_results['y'],group_results['y_pred'])\n",
    "        plt.show()\n",
    "        display(pd.DataFrame(group_results.groupby('y').y_pred.mean()))\n",
    "        #display(group_results)\n",
    "    within_subj_predictions = within_subj_predictions + [within_subj_prediction]\n",
    "    print(\"\")\n",
    "    \n",
    "r2_score_within_subj = np.mean(within_subj_predictions)"
   ]
  },
  {
   "cell_type": "code",
   "execution_count": 38,
   "id": "elementary-eugene",
   "metadata": {},
   "outputs": [
    {
     "data": {
      "text/plain": [
       "0.2506854934254319"
      ]
     },
     "execution_count": 38,
     "metadata": {},
     "output_type": "execute_result"
    }
   ],
   "source": [
    "r2_score_within_subj"
   ]
  },
  {
   "cell_type": "code",
   "execution_count": 39,
   "id": "gross-restoration",
   "metadata": {},
   "outputs": [
    {
     "data": {
      "text/plain": [
       "0.23184109193532398"
      ]
     },
     "execution_count": 39,
     "metadata": {},
     "output_type": "execute_result"
    }
   ],
   "source": [
    "r2_score(results['y'],results['y_pred'])"
   ]
  },
  {
   "cell_type": "markdown",
   "id": "compact-isaac",
   "metadata": {},
   "source": [
    "## Rank based method"
   ]
  },
  {
   "cell_type": "code",
   "execution_count": 40,
   "id": "synthetic-formula",
   "metadata": {},
   "outputs": [],
   "source": [
    "def rank_obs(group_results):\n",
    "    #assign the predicted value ranks according to the observed data\n",
    "    #i.e., we know how many of each class in our dataset; we just don't know which are which.\n",
    "    obs_values_in_order = list(group_results['y'])\n",
    "    obs_values_in_order.sort()\n",
    "\n",
    "    group_results = group_results.sort_values('y_pred')\n",
    "    group_results.reset_index(drop=True,inplace=True)\n",
    "\n",
    "    for i in range(len(obs_values_in_order)):\n",
    "        group_results.loc[i,'y_pred']  = obs_values_in_order[i]\n",
    "        \n",
    "    return(group_results)\n"
   ]
  },
  {
   "cell_type": "code",
   "execution_count": 41,
   "id": "frozen-physiology",
   "metadata": {},
   "outputs": [
    {
     "name": "stderr",
     "output_type": "stream",
     "text": [
      "/home/bsmith16/.conda/envs/neuralsignature/lib/python3.8/site-packages/seaborn/_decorators.py:36: FutureWarning: Pass the following variables as keyword args: x, y. From version 0.12, the only valid positional argument will be `data`, and passing other arguments without an explicit keyword will result in an error or misinterpretation.\n",
      "  warnings.warn(\n"
     ]
    },
    {
     "data": {
      "image/png": "[encoded data removed]",
      "text/plain": [
       "<Figure size 432x288 with 1 Axes>"
      ]
     },
     "metadata": {
      "needs_background": "light"
     },
     "output_type": "display_data"
    },
    {
     "data": {
      "text/html": [
       "<div>\n",
       "<style scoped>\n",
       "    .dataframe tbody tr th:only-of-type {\n",
       "        vertical-align: middle;\n",
       "    }\n",
       "\n",
       "    .dataframe tbody tr th {\n",
       "        vertical-align: top;\n",
       "    }\n",
       "\n",
       "    .dataframe thead th {\n",
       "        text-align: right;\n",
       "    }\n",
       "</style>\n",
       "<table border=\"1\" class=\"dataframe\">\n",
       "  <thead>\n",
       "    <tr style=\"text-align: right;\">\n",
       "      <th></th>\n",
       "      <th>y_pred</th>\n",
       "    </tr>\n",
       "    <tr>\n",
       "      <th>y</th>\n",
       "      <th></th>\n",
       "    </tr>\n",
       "  </thead>\n",
       "  <tbody>\n",
       "    <tr>\n",
       "      <th>5.0</th>\n",
       "      <td>7.000</td>\n",
       "    </tr>\n",
       "    <tr>\n",
       "      <th>6.0</th>\n",
       "      <td>6.125</td>\n",
       "    </tr>\n",
       "    <tr>\n",
       "      <th>7.0</th>\n",
       "      <td>8.000</td>\n",
       "    </tr>\n",
       "    <tr>\n",
       "      <th>8.0</th>\n",
       "      <td>6.250</td>\n",
       "    </tr>\n",
       "  </tbody>\n",
       "</table>\n",
       "</div>"
      ],
      "text/plain": [
       "     y_pred\n",
       "y          \n",
       "5.0   7.000\n",
       "6.0   6.125\n",
       "7.0   8.000\n",
       "8.0   6.250"
      ]
     },
     "metadata": {},
     "output_type": "display_data"
    },
    {
     "name": "stdout",
     "output_type": "stream",
     "text": [
      "\n"
     ]
    },
    {
     "name": "stderr",
     "output_type": "stream",
     "text": [
      "/home/bsmith16/.conda/envs/neuralsignature/lib/python3.8/site-packages/seaborn/_decorators.py:36: FutureWarning: Pass the following variables as keyword args: x, y. From version 0.12, the only valid positional argument will be `data`, and passing other arguments without an explicit keyword will result in an error or misinterpretation.\n",
      "  warnings.warn(\n"
     ]
    },
    {
     "data": {
      "image/png": "[encoded data removed]",
      "text/plain": [
       "<Figure size 432x288 with 1 Axes>"
      ]
     },
     "metadata": {
      "needs_background": "light"
     },
     "output_type": "display_data"
    },
    {
     "data": {
      "text/html": [
       "<div>\n",
       "<style scoped>\n",
       "    .dataframe tbody tr th:only-of-type {\n",
       "        vertical-align: middle;\n",
       "    }\n",
       "\n",
       "    .dataframe tbody tr th {\n",
       "        vertical-align: top;\n",
       "    }\n",
       "\n",
       "    .dataframe thead th {\n",
       "        text-align: right;\n",
       "    }\n",
       "</style>\n",
       "<table border=\"1\" class=\"dataframe\">\n",
       "  <thead>\n",
       "    <tr style=\"text-align: right;\">\n",
       "      <th></th>\n",
       "      <th>y_pred</th>\n",
       "    </tr>\n",
       "    <tr>\n",
       "      <th>y</th>\n",
       "      <th></th>\n",
       "    </tr>\n",
       "  </thead>\n",
       "  <tbody>\n",
       "    <tr>\n",
       "      <th>5.0</th>\n",
       "      <td>7.000000</td>\n",
       "    </tr>\n",
       "    <tr>\n",
       "      <th>6.0</th>\n",
       "      <td>6.333333</td>\n",
       "    </tr>\n",
       "    <tr>\n",
       "      <th>7.0</th>\n",
       "      <td>5.666667</td>\n",
       "    </tr>\n",
       "    <tr>\n",
       "      <th>8.0</th>\n",
       "      <td>7.500000</td>\n",
       "    </tr>\n",
       "  </tbody>\n",
       "</table>\n",
       "</div>"
      ],
      "text/plain": [
       "       y_pred\n",
       "y            \n",
       "5.0  7.000000\n",
       "6.0  6.333333\n",
       "7.0  5.666667\n",
       "8.0  7.500000"
      ]
     },
     "metadata": {},
     "output_type": "display_data"
    },
    {
     "name": "stdout",
     "output_type": "stream",
     "text": [
      "\n"
     ]
    },
    {
     "name": "stderr",
     "output_type": "stream",
     "text": [
      "/home/bsmith16/.conda/envs/neuralsignature/lib/python3.8/site-packages/seaborn/_decorators.py:36: FutureWarning: Pass the following variables as keyword args: x, y. From version 0.12, the only valid positional argument will be `data`, and passing other arguments without an explicit keyword will result in an error or misinterpretation.\n",
      "  warnings.warn(\n"
     ]
    },
    {
     "data": {
      "image/png": "[encoded data removed]",
      "text/plain": [
       "<Figure size 432x288 with 1 Axes>"
      ]
     },
     "metadata": {
      "needs_background": "light"
     },
     "output_type": "display_data"
    },
    {
     "data": {
      "text/html": [
       "<div>\n",
       "<style scoped>\n",
       "    .dataframe tbody tr th:only-of-type {\n",
       "        vertical-align: middle;\n",
       "    }\n",
       "\n",
       "    .dataframe tbody tr th {\n",
       "        vertical-align: top;\n",
       "    }\n",
       "\n",
       "    .dataframe thead th {\n",
       "        text-align: right;\n",
       "    }\n",
       "</style>\n",
       "<table border=\"1\" class=\"dataframe\">\n",
       "  <thead>\n",
       "    <tr style=\"text-align: right;\">\n",
       "      <th></th>\n",
       "      <th>y_pred</th>\n",
       "    </tr>\n",
       "    <tr>\n",
       "      <th>y</th>\n",
       "      <th></th>\n",
       "    </tr>\n",
       "  </thead>\n",
       "  <tbody>\n",
       "    <tr>\n",
       "      <th>5.0</th>\n",
       "      <td>5.375</td>\n",
       "    </tr>\n",
       "    <tr>\n",
       "      <th>6.0</th>\n",
       "      <td>6.000</td>\n",
       "    </tr>\n",
       "    <tr>\n",
       "      <th>8.0</th>\n",
       "      <td>5.000</td>\n",
       "    </tr>\n",
       "  </tbody>\n",
       "</table>\n",
       "</div>"
      ],
      "text/plain": [
       "     y_pred\n",
       "y          \n",
       "5.0   5.375\n",
       "6.0   6.000\n",
       "8.0   5.000"
      ]
     },
     "metadata": {},
     "output_type": "display_data"
    },
    {
     "name": "stdout",
     "output_type": "stream",
     "text": [
      "\n"
     ]
    },
    {
     "name": "stderr",
     "output_type": "stream",
     "text": [
      "/home/bsmith16/.conda/envs/neuralsignature/lib/python3.8/site-packages/seaborn/_decorators.py:36: FutureWarning: Pass the following variables as keyword args: x, y. From version 0.12, the only valid positional argument will be `data`, and passing other arguments without an explicit keyword will result in an error or misinterpretation.\n",
      "  warnings.warn(\n"
     ]
    },
    {
     "data": {
      "image/png": "[encoded data removed]",
      "text/plain": [
       "<Figure size 432x288 with 1 Axes>"
      ]
     },
     "metadata": {
      "needs_background": "light"
     },
     "output_type": "display_data"
    },
    {
     "data": {
      "text/html": [
       "<div>\n",
       "<style scoped>\n",
       "    .dataframe tbody tr th:only-of-type {\n",
       "        vertical-align: middle;\n",
       "    }\n",
       "\n",
       "    .dataframe tbody tr th {\n",
       "        vertical-align: top;\n",
       "    }\n",
       "\n",
       "    .dataframe thead th {\n",
       "        text-align: right;\n",
       "    }\n",
       "</style>\n",
       "<table border=\"1\" class=\"dataframe\">\n",
       "  <thead>\n",
       "    <tr style=\"text-align: right;\">\n",
       "      <th></th>\n",
       "      <th>y_pred</th>\n",
       "    </tr>\n",
       "    <tr>\n",
       "      <th>y</th>\n",
       "      <th></th>\n",
       "    </tr>\n",
       "  </thead>\n",
       "  <tbody>\n",
       "    <tr>\n",
       "      <th>5.0</th>\n",
       "      <td>7.000000</td>\n",
       "    </tr>\n",
       "    <tr>\n",
       "      <th>6.0</th>\n",
       "      <td>6.090909</td>\n",
       "    </tr>\n",
       "    <tr>\n",
       "      <th>7.0</th>\n",
       "      <td>6.250000</td>\n",
       "    </tr>\n",
       "  </tbody>\n",
       "</table>\n",
       "</div>"
      ],
      "text/plain": [
       "       y_pred\n",
       "y            \n",
       "5.0  7.000000\n",
       "6.0  6.090909\n",
       "7.0  6.250000"
      ]
     },
     "metadata": {},
     "output_type": "display_data"
    },
    {
     "name": "stdout",
     "output_type": "stream",
     "text": [
      "\n"
     ]
    },
    {
     "name": "stderr",
     "output_type": "stream",
     "text": [
      "/home/bsmith16/.conda/envs/neuralsignature/lib/python3.8/site-packages/seaborn/_decorators.py:36: FutureWarning: Pass the following variables as keyword args: x, y. From version 0.12, the only valid positional argument will be `data`, and passing other arguments without an explicit keyword will result in an error or misinterpretation.\n",
      "  warnings.warn(\n"
     ]
    },
    {
     "data": {
      "image/png": "[encoded data removed]",
      "text/plain": [
       "<Figure size 432x288 with 1 Axes>"
      ]
     },
     "metadata": {
      "needs_background": "light"
     },
     "output_type": "display_data"
    },
    {
     "data": {
      "text/html": [
       "<div>\n",
       "<style scoped>\n",
       "    .dataframe tbody tr th:only-of-type {\n",
       "        vertical-align: middle;\n",
       "    }\n",
       "\n",
       "    .dataframe tbody tr th {\n",
       "        vertical-align: top;\n",
       "    }\n",
       "\n",
       "    .dataframe thead th {\n",
       "        text-align: right;\n",
       "    }\n",
       "</style>\n",
       "<table border=\"1\" class=\"dataframe\">\n",
       "  <thead>\n",
       "    <tr style=\"text-align: right;\">\n",
       "      <th></th>\n",
       "      <th>y_pred</th>\n",
       "    </tr>\n",
       "    <tr>\n",
       "      <th>y</th>\n",
       "      <th></th>\n",
       "    </tr>\n",
       "  </thead>\n",
       "  <tbody>\n",
       "    <tr>\n",
       "      <th>5.0</th>\n",
       "      <td>7.500</td>\n",
       "    </tr>\n",
       "    <tr>\n",
       "      <th>6.0</th>\n",
       "      <td>5.800</td>\n",
       "    </tr>\n",
       "    <tr>\n",
       "      <th>7.0</th>\n",
       "      <td>6.625</td>\n",
       "    </tr>\n",
       "    <tr>\n",
       "      <th>8.0</th>\n",
       "      <td>7.000</td>\n",
       "    </tr>\n",
       "  </tbody>\n",
       "</table>\n",
       "</div>"
      ],
      "text/plain": [
       "     y_pred\n",
       "y          \n",
       "5.0   7.500\n",
       "6.0   5.800\n",
       "7.0   6.625\n",
       "8.0   7.000"
      ]
     },
     "metadata": {},
     "output_type": "display_data"
    },
    {
     "name": "stdout",
     "output_type": "stream",
     "text": [
      "\n"
     ]
    },
    {
     "name": "stderr",
     "output_type": "stream",
     "text": [
      "/home/bsmith16/.conda/envs/neuralsignature/lib/python3.8/site-packages/seaborn/_decorators.py:36: FutureWarning: Pass the following variables as keyword args: x, y. From version 0.12, the only valid positional argument will be `data`, and passing other arguments without an explicit keyword will result in an error or misinterpretation.\n",
      "  warnings.warn(\n"
     ]
    },
    {
     "data": {
      "image/png": "[encoded data removed]",
      "text/plain": [
       "<Figure size 432x288 with 1 Axes>"
      ]
     },
     "metadata": {
      "needs_background": "light"
     },
     "output_type": "display_data"
    },
    {
     "data": {
      "text/html": [
       "<div>\n",
       "<style scoped>\n",
       "    .dataframe tbody tr th:only-of-type {\n",
       "        vertical-align: middle;\n",
       "    }\n",
       "\n",
       "    .dataframe tbody tr th {\n",
       "        vertical-align: top;\n",
       "    }\n",
       "\n",
       "    .dataframe thead th {\n",
       "        text-align: right;\n",
       "    }\n",
       "</style>\n",
       "<table border=\"1\" class=\"dataframe\">\n",
       "  <thead>\n",
       "    <tr style=\"text-align: right;\">\n",
       "      <th></th>\n",
       "      <th>y_pred</th>\n",
       "    </tr>\n",
       "    <tr>\n",
       "      <th>y</th>\n",
       "      <th></th>\n",
       "    </tr>\n",
       "  </thead>\n",
       "  <tbody>\n",
       "    <tr>\n",
       "      <th>5.0</th>\n",
       "      <td>6.00</td>\n",
       "    </tr>\n",
       "    <tr>\n",
       "      <th>6.0</th>\n",
       "      <td>6.75</td>\n",
       "    </tr>\n",
       "    <tr>\n",
       "      <th>7.0</th>\n",
       "      <td>6.50</td>\n",
       "    </tr>\n",
       "    <tr>\n",
       "      <th>8.0</th>\n",
       "      <td>7.00</td>\n",
       "    </tr>\n",
       "  </tbody>\n",
       "</table>\n",
       "</div>"
      ],
      "text/plain": [
       "     y_pred\n",
       "y          \n",
       "5.0    6.00\n",
       "6.0    6.75\n",
       "7.0    6.50\n",
       "8.0    7.00"
      ]
     },
     "metadata": {},
     "output_type": "display_data"
    },
    {
     "name": "stdout",
     "output_type": "stream",
     "text": [
      "\n"
     ]
    },
    {
     "name": "stderr",
     "output_type": "stream",
     "text": [
      "/home/bsmith16/.conda/envs/neuralsignature/lib/python3.8/site-packages/seaborn/_decorators.py:36: FutureWarning: Pass the following variables as keyword args: x, y. From version 0.12, the only valid positional argument will be `data`, and passing other arguments without an explicit keyword will result in an error or misinterpretation.\n",
      "  warnings.warn(\n"
     ]
    },
    {
     "data": {
      "image/png": "[encoded data removed]",
      "text/plain": [
       "<Figure size 432x288 with 1 Axes>"
      ]
     },
     "metadata": {
      "needs_background": "light"
     },
     "output_type": "display_data"
    },
    {
     "data": {
      "text/html": [
       "<div>\n",
       "<style scoped>\n",
       "    .dataframe tbody tr th:only-of-type {\n",
       "        vertical-align: middle;\n",
       "    }\n",
       "\n",
       "    .dataframe tbody tr th {\n",
       "        vertical-align: top;\n",
       "    }\n",
       "\n",
       "    .dataframe thead th {\n",
       "        text-align: right;\n",
       "    }\n",
       "</style>\n",
       "<table border=\"1\" class=\"dataframe\">\n",
       "  <thead>\n",
       "    <tr style=\"text-align: right;\">\n",
       "      <th></th>\n",
       "      <th>y_pred</th>\n",
       "    </tr>\n",
       "    <tr>\n",
       "      <th>y</th>\n",
       "      <th></th>\n",
       "    </tr>\n",
       "  </thead>\n",
       "  <tbody>\n",
       "    <tr>\n",
       "      <th>6.0</th>\n",
       "      <td>7.000000</td>\n",
       "    </tr>\n",
       "    <tr>\n",
       "      <th>7.0</th>\n",
       "      <td>6.857143</td>\n",
       "    </tr>\n",
       "    <tr>\n",
       "      <th>8.0</th>\n",
       "      <td>7.333333</td>\n",
       "    </tr>\n",
       "  </tbody>\n",
       "</table>\n",
       "</div>"
      ],
      "text/plain": [
       "       y_pred\n",
       "y            \n",
       "6.0  7.000000\n",
       "7.0  6.857143\n",
       "8.0  7.333333"
      ]
     },
     "metadata": {},
     "output_type": "display_data"
    },
    {
     "name": "stdout",
     "output_type": "stream",
     "text": [
      "\n"
     ]
    },
    {
     "name": "stderr",
     "output_type": "stream",
     "text": [
      "/home/bsmith16/.conda/envs/neuralsignature/lib/python3.8/site-packages/seaborn/_decorators.py:36: FutureWarning: Pass the following variables as keyword args: x, y. From version 0.12, the only valid positional argument will be `data`, and passing other arguments without an explicit keyword will result in an error or misinterpretation.\n",
      "  warnings.warn(\n"
     ]
    },
    {
     "data": {
      "image/png": "[encoded data removed]",
      "text/plain": [
       "<Figure size 432x288 with 1 Axes>"
      ]
     },
     "metadata": {
      "needs_background": "light"
     },
     "output_type": "display_data"
    },
    {
     "data": {
      "text/html": [
       "<div>\n",
       "<style scoped>\n",
       "    .dataframe tbody tr th:only-of-type {\n",
       "        vertical-align: middle;\n",
       "    }\n",
       "\n",
       "    .dataframe tbody tr th {\n",
       "        vertical-align: top;\n",
       "    }\n",
       "\n",
       "    .dataframe thead th {\n",
       "        text-align: right;\n",
       "    }\n",
       "</style>\n",
       "<table border=\"1\" class=\"dataframe\">\n",
       "  <thead>\n",
       "    <tr style=\"text-align: right;\">\n",
       "      <th></th>\n",
       "      <th>y_pred</th>\n",
       "    </tr>\n",
       "    <tr>\n",
       "      <th>y</th>\n",
       "      <th></th>\n",
       "    </tr>\n",
       "  </thead>\n",
       "  <tbody>\n",
       "    <tr>\n",
       "      <th>6.0</th>\n",
       "      <td>7.000000</td>\n",
       "    </tr>\n",
       "    <tr>\n",
       "      <th>7.0</th>\n",
       "      <td>7.200000</td>\n",
       "    </tr>\n",
       "    <tr>\n",
       "      <th>8.0</th>\n",
       "      <td>6.666667</td>\n",
       "    </tr>\n",
       "  </tbody>\n",
       "</table>\n",
       "</div>"
      ],
      "text/plain": [
       "       y_pred\n",
       "y            \n",
       "6.0  7.000000\n",
       "7.0  7.200000\n",
       "8.0  6.666667"
      ]
     },
     "metadata": {},
     "output_type": "display_data"
    },
    {
     "name": "stdout",
     "output_type": "stream",
     "text": [
      "\n"
     ]
    },
    {
     "name": "stderr",
     "output_type": "stream",
     "text": [
      "/home/bsmith16/.conda/envs/neuralsignature/lib/python3.8/site-packages/seaborn/_decorators.py:36: FutureWarning: Pass the following variables as keyword args: x, y. From version 0.12, the only valid positional argument will be `data`, and passing other arguments without an explicit keyword will result in an error or misinterpretation.\n",
      "  warnings.warn(\n"
     ]
    },
    {
     "data": {
      "image/png": "[encoded data removed]",
      "text/plain": [
       "<Figure size 432x288 with 1 Axes>"
      ]
     },
     "metadata": {
      "needs_background": "light"
     },
     "output_type": "display_data"
    },
    {
     "data": {
      "text/html": [
       "<div>\n",
       "<style scoped>\n",
       "    .dataframe tbody tr th:only-of-type {\n",
       "        vertical-align: middle;\n",
       "    }\n",
       "\n",
       "    .dataframe tbody tr th {\n",
       "        vertical-align: top;\n",
       "    }\n",
       "\n",
       "    .dataframe thead th {\n",
       "        text-align: right;\n",
       "    }\n",
       "</style>\n",
       "<table border=\"1\" class=\"dataframe\">\n",
       "  <thead>\n",
       "    <tr style=\"text-align: right;\">\n",
       "      <th></th>\n",
       "      <th>y_pred</th>\n",
       "    </tr>\n",
       "    <tr>\n",
       "      <th>y</th>\n",
       "      <th></th>\n",
       "    </tr>\n",
       "  </thead>\n",
       "  <tbody>\n",
       "    <tr>\n",
       "      <th>6.0</th>\n",
       "      <td>7.00</td>\n",
       "    </tr>\n",
       "    <tr>\n",
       "      <th>7.0</th>\n",
       "      <td>6.60</td>\n",
       "    </tr>\n",
       "    <tr>\n",
       "      <th>8.0</th>\n",
       "      <td>7.25</td>\n",
       "    </tr>\n",
       "  </tbody>\n",
       "</table>\n",
       "</div>"
      ],
      "text/plain": [
       "     y_pred\n",
       "y          \n",
       "6.0    7.00\n",
       "7.0    6.60\n",
       "8.0    7.25"
      ]
     },
     "metadata": {},
     "output_type": "display_data"
    },
    {
     "name": "stdout",
     "output_type": "stream",
     "text": [
      "\n"
     ]
    },
    {
     "name": "stderr",
     "output_type": "stream",
     "text": [
      "/home/bsmith16/.conda/envs/neuralsignature/lib/python3.8/site-packages/seaborn/_decorators.py:36: FutureWarning: Pass the following variables as keyword args: x, y. From version 0.12, the only valid positional argument will be `data`, and passing other arguments without an explicit keyword will result in an error or misinterpretation.\n",
      "  warnings.warn(\n"
     ]
    },
    {
     "data": {
      "image/png": "[encoded data removed]",
      "text/plain": [
       "<Figure size 432x288 with 1 Axes>"
      ]
     },
     "metadata": {
      "needs_background": "light"
     },
     "output_type": "display_data"
    },
    {
     "data": {
      "text/html": [
       "<div>\n",
       "<style scoped>\n",
       "    .dataframe tbody tr th:only-of-type {\n",
       "        vertical-align: middle;\n",
       "    }\n",
       "\n",
       "    .dataframe tbody tr th {\n",
       "        vertical-align: top;\n",
       "    }\n",
       "\n",
       "    .dataframe thead th {\n",
       "        text-align: right;\n",
       "    }\n",
       "</style>\n",
       "<table border=\"1\" class=\"dataframe\">\n",
       "  <thead>\n",
       "    <tr style=\"text-align: right;\">\n",
       "      <th></th>\n",
       "      <th>y_pred</th>\n",
       "    </tr>\n",
       "    <tr>\n",
       "      <th>y</th>\n",
       "      <th></th>\n",
       "    </tr>\n",
       "  </thead>\n",
       "  <tbody>\n",
       "    <tr>\n",
       "      <th>5.0</th>\n",
       "      <td>6.142857</td>\n",
       "    </tr>\n",
       "    <tr>\n",
       "      <th>6.0</th>\n",
       "      <td>5.000000</td>\n",
       "    </tr>\n",
       "    <tr>\n",
       "      <th>7.0</th>\n",
       "      <td>6.000000</td>\n",
       "    </tr>\n",
       "    <tr>\n",
       "      <th>8.0</th>\n",
       "      <td>7.000000</td>\n",
       "    </tr>\n",
       "  </tbody>\n",
       "</table>\n",
       "</div>"
      ],
      "text/plain": [
       "       y_pred\n",
       "y            \n",
       "5.0  6.142857\n",
       "6.0  5.000000\n",
       "7.0  6.000000\n",
       "8.0  7.000000"
      ]
     },
     "metadata": {},
     "output_type": "display_data"
    },
    {
     "name": "stdout",
     "output_type": "stream",
     "text": [
      "\n"
     ]
    },
    {
     "name": "stderr",
     "output_type": "stream",
     "text": [
      "/home/bsmith16/.conda/envs/neuralsignature/lib/python3.8/site-packages/seaborn/_decorators.py:36: FutureWarning: Pass the following variables as keyword args: x, y. From version 0.12, the only valid positional argument will be `data`, and passing other arguments without an explicit keyword will result in an error or misinterpretation.\n",
      "  warnings.warn(\n"
     ]
    },
    {
     "data": {
      "image/png": "[encoded data removed]",
      "text/plain": [
       "<Figure size 432x288 with 1 Axes>"
      ]
     },
     "metadata": {
      "needs_background": "light"
     },
     "output_type": "display_data"
    },
    {
     "data": {
      "text/html": [
       "<div>\n",
       "<style scoped>\n",
       "    .dataframe tbody tr th:only-of-type {\n",
       "        vertical-align: middle;\n",
       "    }\n",
       "\n",
       "    .dataframe tbody tr th {\n",
       "        vertical-align: top;\n",
       "    }\n",
       "\n",
       "    .dataframe thead th {\n",
       "        text-align: right;\n",
       "    }\n",
       "</style>\n",
       "<table border=\"1\" class=\"dataframe\">\n",
       "  <thead>\n",
       "    <tr style=\"text-align: right;\">\n",
       "      <th></th>\n",
       "      <th>y_pred</th>\n",
       "    </tr>\n",
       "    <tr>\n",
       "      <th>y</th>\n",
       "      <th></th>\n",
       "    </tr>\n",
       "  </thead>\n",
       "  <tbody>\n",
       "    <tr>\n",
       "      <th>5.0</th>\n",
       "      <td>6.666667</td>\n",
       "    </tr>\n",
       "    <tr>\n",
       "      <th>6.0</th>\n",
       "      <td>6.000000</td>\n",
       "    </tr>\n",
       "    <tr>\n",
       "      <th>7.0</th>\n",
       "      <td>5.666667</td>\n",
       "    </tr>\n",
       "    <tr>\n",
       "      <th>8.0</th>\n",
       "      <td>6.000000</td>\n",
       "    </tr>\n",
       "  </tbody>\n",
       "</table>\n",
       "</div>"
      ],
      "text/plain": [
       "       y_pred\n",
       "y            \n",
       "5.0  6.666667\n",
       "6.0  6.000000\n",
       "7.0  5.666667\n",
       "8.0  6.000000"
      ]
     },
     "metadata": {},
     "output_type": "display_data"
    },
    {
     "name": "stdout",
     "output_type": "stream",
     "text": [
      "\n"
     ]
    },
    {
     "name": "stderr",
     "output_type": "stream",
     "text": [
      "/home/bsmith16/.conda/envs/neuralsignature/lib/python3.8/site-packages/seaborn/_decorators.py:36: FutureWarning: Pass the following variables as keyword args: x, y. From version 0.12, the only valid positional argument will be `data`, and passing other arguments without an explicit keyword will result in an error or misinterpretation.\n",
      "  warnings.warn(\n"
     ]
    },
    {
     "data": {
      "image/png": "[encoded data removed]",
      "text/plain": [
       "<Figure size 432x288 with 1 Axes>"
      ]
     },
     "metadata": {
      "needs_background": "light"
     },
     "output_type": "display_data"
    },
    {
     "data": {
      "text/html": [
       "<div>\n",
       "<style scoped>\n",
       "    .dataframe tbody tr th:only-of-type {\n",
       "        vertical-align: middle;\n",
       "    }\n",
       "\n",
       "    .dataframe tbody tr th {\n",
       "        vertical-align: top;\n",
       "    }\n",
       "\n",
       "    .dataframe thead th {\n",
       "        text-align: right;\n",
       "    }\n",
       "</style>\n",
       "<table border=\"1\" class=\"dataframe\">\n",
       "  <thead>\n",
       "    <tr style=\"text-align: right;\">\n",
       "      <th></th>\n",
       "      <th>y_pred</th>\n",
       "    </tr>\n",
       "    <tr>\n",
       "      <th>y</th>\n",
       "      <th></th>\n",
       "    </tr>\n",
       "  </thead>\n",
       "  <tbody>\n",
       "    <tr>\n",
       "      <th>5.0</th>\n",
       "      <td>6.125</td>\n",
       "    </tr>\n",
       "    <tr>\n",
       "      <th>6.0</th>\n",
       "      <td>5.000</td>\n",
       "    </tr>\n",
       "    <tr>\n",
       "      <th>7.0</th>\n",
       "      <td>8.000</td>\n",
       "    </tr>\n",
       "    <tr>\n",
       "      <th>8.0</th>\n",
       "      <td>6.000</td>\n",
       "    </tr>\n",
       "  </tbody>\n",
       "</table>\n",
       "</div>"
      ],
      "text/plain": [
       "     y_pred\n",
       "y          \n",
       "5.0   6.125\n",
       "6.0   5.000\n",
       "7.0   8.000\n",
       "8.0   6.000"
      ]
     },
     "metadata": {},
     "output_type": "display_data"
    },
    {
     "name": "stdout",
     "output_type": "stream",
     "text": [
      "\n"
     ]
    },
    {
     "name": "stderr",
     "output_type": "stream",
     "text": [
      "/home/bsmith16/.conda/envs/neuralsignature/lib/python3.8/site-packages/seaborn/_decorators.py:36: FutureWarning: Pass the following variables as keyword args: x, y. From version 0.12, the only valid positional argument will be `data`, and passing other arguments without an explicit keyword will result in an error or misinterpretation.\n",
      "  warnings.warn(\n"
     ]
    },
    {
     "data": {
      "image/png": "[encoded data removed]",
      "text/plain": [
       "<Figure size 432x288 with 1 Axes>"
      ]
     },
     "metadata": {
      "needs_background": "light"
     },
     "output_type": "display_data"
    },
    {
     "data": {
      "text/html": [
       "<div>\n",
       "<style scoped>\n",
       "    .dataframe tbody tr th:only-of-type {\n",
       "        vertical-align: middle;\n",
       "    }\n",
       "\n",
       "    .dataframe tbody tr th {\n",
       "        vertical-align: top;\n",
       "    }\n",
       "\n",
       "    .dataframe thead th {\n",
       "        text-align: right;\n",
       "    }\n",
       "</style>\n",
       "<table border=\"1\" class=\"dataframe\">\n",
       "  <thead>\n",
       "    <tr style=\"text-align: right;\">\n",
       "      <th></th>\n",
       "      <th>y_pred</th>\n",
       "    </tr>\n",
       "    <tr>\n",
       "      <th>y</th>\n",
       "      <th></th>\n",
       "    </tr>\n",
       "  </thead>\n",
       "  <tbody>\n",
       "    <tr>\n",
       "      <th>5.0</th>\n",
       "      <td>5.833333</td>\n",
       "    </tr>\n",
       "    <tr>\n",
       "      <th>6.0</th>\n",
       "      <td>6.400000</td>\n",
       "    </tr>\n",
       "    <tr>\n",
       "      <th>7.0</th>\n",
       "      <td>6.000000</td>\n",
       "    </tr>\n",
       "    <tr>\n",
       "      <th>8.0</th>\n",
       "      <td>6.500000</td>\n",
       "    </tr>\n",
       "  </tbody>\n",
       "</table>\n",
       "</div>"
      ],
      "text/plain": [
       "       y_pred\n",
       "y            \n",
       "5.0  5.833333\n",
       "6.0  6.400000\n",
       "7.0  6.000000\n",
       "8.0  6.500000"
      ]
     },
     "metadata": {},
     "output_type": "display_data"
    },
    {
     "name": "stdout",
     "output_type": "stream",
     "text": [
      "\n"
     ]
    },
    {
     "name": "stderr",
     "output_type": "stream",
     "text": [
      "/home/bsmith16/.conda/envs/neuralsignature/lib/python3.8/site-packages/seaborn/_decorators.py:36: FutureWarning: Pass the following variables as keyword args: x, y. From version 0.12, the only valid positional argument will be `data`, and passing other arguments without an explicit keyword will result in an error or misinterpretation.\n",
      "  warnings.warn(\n"
     ]
    },
    {
     "data": {
      "image/png": "[encoded data removed]",
      "text/plain": [
       "<Figure size 432x288 with 1 Axes>"
      ]
     },
     "metadata": {
      "needs_background": "light"
     },
     "output_type": "display_data"
    },
    {
     "data": {
      "text/html": [
       "<div>\n",
       "<style scoped>\n",
       "    .dataframe tbody tr th:only-of-type {\n",
       "        vertical-align: middle;\n",
       "    }\n",
       "\n",
       "    .dataframe tbody tr th {\n",
       "        vertical-align: top;\n",
       "    }\n",
       "\n",
       "    .dataframe thead th {\n",
       "        text-align: right;\n",
       "    }\n",
       "</style>\n",
       "<table border=\"1\" class=\"dataframe\">\n",
       "  <thead>\n",
       "    <tr style=\"text-align: right;\">\n",
       "      <th></th>\n",
       "      <th>y_pred</th>\n",
       "    </tr>\n",
       "    <tr>\n",
       "      <th>y</th>\n",
       "      <th></th>\n",
       "    </tr>\n",
       "  </thead>\n",
       "  <tbody>\n",
       "    <tr>\n",
       "      <th>5.0</th>\n",
       "      <td>5.500000</td>\n",
       "    </tr>\n",
       "    <tr>\n",
       "      <th>6.0</th>\n",
       "      <td>6.428571</td>\n",
       "    </tr>\n",
       "    <tr>\n",
       "      <th>8.0</th>\n",
       "      <td>5.000000</td>\n",
       "    </tr>\n",
       "  </tbody>\n",
       "</table>\n",
       "</div>"
      ],
      "text/plain": [
       "       y_pred\n",
       "y            \n",
       "5.0  5.500000\n",
       "6.0  6.428571\n",
       "8.0  5.000000"
      ]
     },
     "metadata": {},
     "output_type": "display_data"
    },
    {
     "name": "stdout",
     "output_type": "stream",
     "text": [
      "\n"
     ]
    },
    {
     "name": "stderr",
     "output_type": "stream",
     "text": [
      "/home/bsmith16/.conda/envs/neuralsignature/lib/python3.8/site-packages/seaborn/_decorators.py:36: FutureWarning: Pass the following variables as keyword args: x, y. From version 0.12, the only valid positional argument will be `data`, and passing other arguments without an explicit keyword will result in an error or misinterpretation.\n",
      "  warnings.warn(\n"
     ]
    },
    {
     "data": {
      "image/png": "[encoded data removed]",
      "text/plain": [
       "<Figure size 432x288 with 1 Axes>"
      ]
     },
     "metadata": {
      "needs_background": "light"
     },
     "output_type": "display_data"
    },
    {
     "data": {
      "text/html": [
       "<div>\n",
       "<style scoped>\n",
       "    .dataframe tbody tr th:only-of-type {\n",
       "        vertical-align: middle;\n",
       "    }\n",
       "\n",
       "    .dataframe tbody tr th {\n",
       "        vertical-align: top;\n",
       "    }\n",
       "\n",
       "    .dataframe thead th {\n",
       "        text-align: right;\n",
       "    }\n",
       "</style>\n",
       "<table border=\"1\" class=\"dataframe\">\n",
       "  <thead>\n",
       "    <tr style=\"text-align: right;\">\n",
       "      <th></th>\n",
       "      <th>y_pred</th>\n",
       "    </tr>\n",
       "    <tr>\n",
       "      <th>y</th>\n",
       "      <th></th>\n",
       "    </tr>\n",
       "  </thead>\n",
       "  <tbody>\n",
       "    <tr>\n",
       "      <th>5.0</th>\n",
       "      <td>5.80</td>\n",
       "    </tr>\n",
       "    <tr>\n",
       "      <th>6.0</th>\n",
       "      <td>6.75</td>\n",
       "    </tr>\n",
       "    <tr>\n",
       "      <th>7.0</th>\n",
       "      <td>6.40</td>\n",
       "    </tr>\n",
       "    <tr>\n",
       "      <th>8.0</th>\n",
       "      <td>6.00</td>\n",
       "    </tr>\n",
       "  </tbody>\n",
       "</table>\n",
       "</div>"
      ],
      "text/plain": [
       "     y_pred\n",
       "y          \n",
       "5.0    5.80\n",
       "6.0    6.75\n",
       "7.0    6.40\n",
       "8.0    6.00"
      ]
     },
     "metadata": {},
     "output_type": "display_data"
    },
    {
     "name": "stdout",
     "output_type": "stream",
     "text": [
      "\n"
     ]
    },
    {
     "name": "stderr",
     "output_type": "stream",
     "text": [
      "/home/bsmith16/.conda/envs/neuralsignature/lib/python3.8/site-packages/seaborn/_decorators.py:36: FutureWarning: Pass the following variables as keyword args: x, y. From version 0.12, the only valid positional argument will be `data`, and passing other arguments without an explicit keyword will result in an error or misinterpretation.\n",
      "  warnings.warn(\n"
     ]
    },
    {
     "data": {
      "image/png": "[encoded data removed]",
      "text/plain": [
       "<Figure size 432x288 with 1 Axes>"
      ]
     },
     "metadata": {
      "needs_background": "light"
     },
     "output_type": "display_data"
    },
    {
     "data": {
      "text/html": [
       "<div>\n",
       "<style scoped>\n",
       "    .dataframe tbody tr th:only-of-type {\n",
       "        vertical-align: middle;\n",
       "    }\n",
       "\n",
       "    .dataframe tbody tr th {\n",
       "        vertical-align: top;\n",
       "    }\n",
       "\n",
       "    .dataframe thead th {\n",
       "        text-align: right;\n",
       "    }\n",
       "</style>\n",
       "<table border=\"1\" class=\"dataframe\">\n",
       "  <thead>\n",
       "    <tr style=\"text-align: right;\">\n",
       "      <th></th>\n",
       "      <th>y_pred</th>\n",
       "    </tr>\n",
       "    <tr>\n",
       "      <th>y</th>\n",
       "      <th></th>\n",
       "    </tr>\n",
       "  </thead>\n",
       "  <tbody>\n",
       "    <tr>\n",
       "      <th>5.0</th>\n",
       "      <td>5.416667</td>\n",
       "    </tr>\n",
       "    <tr>\n",
       "      <th>6.0</th>\n",
       "      <td>5.000000</td>\n",
       "    </tr>\n",
       "    <tr>\n",
       "      <th>7.0</th>\n",
       "      <td>5.000000</td>\n",
       "    </tr>\n",
       "  </tbody>\n",
       "</table>\n",
       "</div>"
      ],
      "text/plain": [
       "       y_pred\n",
       "y            \n",
       "5.0  5.416667\n",
       "6.0  5.000000\n",
       "7.0  5.000000"
      ]
     },
     "metadata": {},
     "output_type": "display_data"
    },
    {
     "name": "stdout",
     "output_type": "stream",
     "text": [
      "\n"
     ]
    },
    {
     "name": "stderr",
     "output_type": "stream",
     "text": [
      "/home/bsmith16/.conda/envs/neuralsignature/lib/python3.8/site-packages/seaborn/_decorators.py:36: FutureWarning: Pass the following variables as keyword args: x, y. From version 0.12, the only valid positional argument will be `data`, and passing other arguments without an explicit keyword will result in an error or misinterpretation.\n",
      "  warnings.warn(\n"
     ]
    },
    {
     "data": {
      "image/png": "[encoded data removed]",
      "text/plain": [
       "<Figure size 432x288 with 1 Axes>"
      ]
     },
     "metadata": {
      "needs_background": "light"
     },
     "output_type": "display_data"
    },
    {
     "data": {
      "text/html": [
       "<div>\n",
       "<style scoped>\n",
       "    .dataframe tbody tr th:only-of-type {\n",
       "        vertical-align: middle;\n",
       "    }\n",
       "\n",
       "    .dataframe tbody tr th {\n",
       "        vertical-align: top;\n",
       "    }\n",
       "\n",
       "    .dataframe thead th {\n",
       "        text-align: right;\n",
       "    }\n",
       "</style>\n",
       "<table border=\"1\" class=\"dataframe\">\n",
       "  <thead>\n",
       "    <tr style=\"text-align: right;\">\n",
       "      <th></th>\n",
       "      <th>y_pred</th>\n",
       "    </tr>\n",
       "    <tr>\n",
       "      <th>y</th>\n",
       "      <th></th>\n",
       "    </tr>\n",
       "  </thead>\n",
       "  <tbody>\n",
       "    <tr>\n",
       "      <th>5.0</th>\n",
       "      <td>6.000000</td>\n",
       "    </tr>\n",
       "    <tr>\n",
       "      <th>6.0</th>\n",
       "      <td>6.428571</td>\n",
       "    </tr>\n",
       "    <tr>\n",
       "      <th>7.0</th>\n",
       "      <td>6.250000</td>\n",
       "    </tr>\n",
       "    <tr>\n",
       "      <th>8.0</th>\n",
       "      <td>7.000000</td>\n",
       "    </tr>\n",
       "  </tbody>\n",
       "</table>\n",
       "</div>"
      ],
      "text/plain": [
       "       y_pred\n",
       "y            \n",
       "5.0  6.000000\n",
       "6.0  6.428571\n",
       "7.0  6.250000\n",
       "8.0  7.000000"
      ]
     },
     "metadata": {},
     "output_type": "display_data"
    },
    {
     "name": "stdout",
     "output_type": "stream",
     "text": [
      "\n"
     ]
    }
   ],
   "source": [
    "within_subj_predictions = []\n",
    "for group in results['result_group'].unique():\n",
    "    group_results = rank_obs(results.loc[results['result_group']==group,].copy())\n",
    "    \n",
    "    #let's standardize both.\n",
    "    #obs_mean = np.mean(group_results['y_obs'])\n",
    "    #const_vals = np.repeat(obs_mean,len(group_results['y_pred']))\n",
    "    within_subj_prediction = r2_score(group_results['y'],group_results['y_pred'])\n",
    "    \n",
    "    #what if we we re-ranked the predicted values into groups along the \n",
    "    if (within_subj_prediction< (-0.5)):\n",
    "\n",
    "        sp = sns.scatterplot(group_results['y'],group_results['y_pred'])\n",
    "        plt.show()\n",
    "        display(pd.DataFrame(group_results.groupby('y').y_pred.mean()))\n",
    "        print(\"\")\n",
    "        #display(group_results)\n",
    "    within_subj_predictions = within_subj_predictions + [within_subj_prediction]\n",
    "\n",
    "    \n",
    "r2_score_within_subj = np.mean(within_subj_predictions)"
   ]
  },
  {
   "cell_type": "code",
   "execution_count": 42,
   "id": "tropical-eligibility",
   "metadata": {},
   "outputs": [
    {
     "data": {
      "text/plain": [
       "0.022571679618909633"
      ]
     },
     "execution_count": 42,
     "metadata": {},
     "output_type": "execute_result"
    }
   ],
   "source": [
    "r2_score_within_subj"
   ]
  },
  {
   "cell_type": "markdown",
   "id": "dress-speaker",
   "metadata": {},
   "source": [
    "It's possible we need to do this but within-run instead of within-subject..."
   ]
  },
  {
   "cell_type": "code",
   "execution_count": 43,
   "id": "royal-panama",
   "metadata": {},
   "outputs": [
    {
     "data": {
      "text/plain": [
       "[0.4181818181818182,\n",
       " 0.8333333333333334,\n",
       " 0.9,\n",
       " 0.33333333333333337,\n",
       " -0.4788732394366195,\n",
       " 0.39811912225705326,\n",
       " 0.1428571428571429,\n",
       " 0.323943661971831,\n",
       " 0.5222929936305734,\n",
       " 0.19642857142857162,\n",
       " 0.4385964912280702,\n",
       " 0.533678756476684,\n",
       " -0.15315315315315314,\n",
       " 0.27586206896551735,\n",
       " -1.0,\n",
       " -0.5384615384615385,\n",
       " 0.01754385964912264,\n",
       " 0.17177914110429449,\n",
       " 0.48275862068965525,\n",
       " -0.1470588235294117,\n",
       " -0.3953488372093019,\n",
       " 0.7,\n",
       " 0.2440944881889764,\n",
       " -0.25984251968503935,\n",
       " -0.14406779661016933,\n",
       " 0.1215686274509804,\n",
       " 0.4651810584958217,\n",
       " 0.2195121951219512,\n",
       " 0.2638036809815951,\n",
       " 0.1724137931034483,\n",
       " 0.6353276353276354,\n",
       " 0.5884244372990354,\n",
       " -1.0,\n",
       " 0.5522388059701492,\n",
       " 0.9178885630498533,\n",
       " 0.6319018404907976,\n",
       " -1.2535211267605635,\n",
       " -1.0,\n",
       " -0.6438356164383556,\n",
       " -0.3999999999999999,\n",
       " 0.10344827586206917,\n",
       " -0.6666666666666667,\n",
       " -1.3333333333333335,\n",
       " -0.5,\n",
       " 0.2647058823529411,\n",
       " 0.19999999999999996,\n",
       " 0.16883116883116878,\n",
       " 0.471947194719472,\n",
       " 0.2727272727272727,\n",
       " -0.7920000000000003,\n",
       " 0.46153846153846156,\n",
       " -0.4864864864864866,\n",
       " -0.7229729729729728,\n",
       " -1.54434250764526,\n",
       " -0.26315789473684204,\n",
       " -0.009009009009008917,\n",
       " 0.6631578947368422,\n",
       " 0.19665271966527198,\n",
       " -0.9251336898395719,\n",
       " -0.6044568245125348,\n",
       " -0.07692307692307687,\n",
       " -0.5,\n",
       " 0.0,\n",
       " -0.23671497584541057,\n",
       " 0.5588235294117647,\n",
       " -0.12676056338028174,\n",
       " -0.18518518518518512,\n",
       " 0.05535055350553508,\n",
       " -0.16504854368932032,\n",
       " 0.8888888888888888,\n",
       " 0.5543175487465182,\n",
       " -0.1932203389830509,\n",
       " 0.42068965517241386,\n",
       " 0.6363636363636364,\n",
       " 0.33333333333333337,\n",
       " 0.5844155844155844,\n",
       " 0.21052631578947367,\n",
       " 0.3191489361702128,\n",
       " 0.2536443148688047,\n",
       " 0.4095940959409594,\n",
       " -0.18309859154929575,\n",
       " 0.3661971830985917,\n",
       " 0.11016949152542377,\n",
       " 0.33333333333333337,\n",
       " -0.18081180811808117,\n",
       " -0.3729372937293729,\n",
       " -1.1844660194174765,\n",
       " -0.3700305810397553,\n",
       " 0.5982142857142857,\n",
       " -0.165991902834008,\n",
       " -0.2549019607843137,\n",
       " 0.35582822085889576,\n",
       " -0.16171617161716179,\n",
       " 0.29151291512915134,\n",
       " -0.041860465116279055,\n",
       " -0.7647058823529411,\n",
       " -0.12562814070351758,\n",
       " -0.032258064516129004,\n",
       " 0.8293333333333334,\n",
       " 0.5335276967930029,\n",
       " 0.22580645161290325,\n",
       " 0.5,\n",
       " 0.7746478873239436,\n",
       " -0.17647058823529416,\n",
       " 0.23809523809523814,\n",
       " 0.2222222222222222,\n",
       " -0.3090909090909091,\n",
       " 0.0883190883190883,\n",
       " -1.454545454545455,\n",
       " 0.4920634920634921,\n",
       " -0.04999999999999982,\n",
       " 0.26315789473684215,\n",
       " -0.0062893081761006275,\n",
       " -0.5517241379310345,\n",
       " -0.22404371584699456,\n",
       " 0.32984293193717273,\n",
       " 0.625,\n",
       " -0.25984251968503935,\n",
       " -0.34736842105263155,\n",
       " -0.0344827586206895]"
      ]
     },
     "execution_count": 43,
     "metadata": {},
     "output_type": "execute_result"
    }
   ],
   "source": [
    "within_subj_predictions"
   ]
  },
  {
   "cell_type": "code",
   "execution_count": 44,
   "id": "naked-dryer",
   "metadata": {},
   "outputs": [
    {
     "data": {
      "text/plain": [
       "0.022571679618909633"
      ]
     },
     "execution_count": 44,
     "metadata": {},
     "output_type": "execute_result"
    }
   ],
   "source": [
    "r2_score_within_subj"
   ]
  },
  {
   "cell_type": "markdown",
   "id": "active-replication",
   "metadata": {},
   "source": [
    "Have to understand how pearson's r and this R2 measure vary..."
   ]
  },
  {
   "cell_type": "markdown",
   "id": "blank-trouble",
   "metadata": {},
   "source": [
    "### What if we use Pearson's R?"
   ]
  },
  {
   "cell_type": "code",
   "execution_count": 48,
   "id": "steady-construction",
   "metadata": {},
   "outputs": [
    {
     "name": "stdout",
     "output_type": "stream",
     "text": [
      "0.6355191115883931\n",
      "0.4038845411941005\n",
      "\n",
      "0.8765515040367327\n",
      "0.7683425392290582\n",
      "\n",
      "0.9175281304740015\n",
      "0.8418578702111164\n",
      "\n",
      "0.7306319960712073\n",
      "0.5338231136829967\n",
      "\n",
      "0.33065661947544445\n",
      "0.10933380000292887\n",
      "\n",
      "0.6799549581614326\n",
      "0.4623387451283155\n",
      "\n",
      "0.6688281036372383\n",
      "0.44733103221498444\n",
      "\n",
      "0.6886246755887041\n",
      "0.474203943829648\n",
      "\n",
      "0.7348734182234362\n",
      "0.5400389408113974\n",
      "\n",
      "0.5544998166007582\n",
      "0.3074700466102745\n",
      "\n",
      "0.8222859889302135\n",
      "0.6761542475909392\n",
      "\n",
      "0.6987988479786686\n",
      "0.48831982993631445\n",
      "\n",
      "0.48921792581916823\n",
      "0.2393341789428092\n",
      "\n",
      "0.6711310092654328\n",
      "0.45041683159763846\n",
      "\n",
      "0.11150170045131505\n",
      "0.01243262920353479\n",
      "\n",
      "0.21910831009156212\n",
      "0.048008451551180144\n",
      "\n",
      "0.6009749396035073\n",
      "0.36117087803143927\n",
      "\n",
      "0.6822397360408587\n",
      "0.4654510574331006\n",
      "\n",
      "0.5852749078690458\n",
      "0.34254671778112006\n",
      "\n",
      "0.5370237586280866\n",
      "0.28839451733103744\n",
      "\n",
      "0.34986629412478143\n",
      "0.12240642376460807\n",
      "\n",
      "0.7806399003479192\n",
      "0.6093986540152092\n",
      "\n",
      "0.676552940232496\n",
      "0.4577238809372353\n",
      "\n",
      "0.6035817095664091\n",
      "0.364310880123109\n",
      "\n",
      "0.4750350885206337\n",
      "0.2256583353258063\n",
      "\n",
      "0.546302846493972\n",
      "0.2984468000874163\n",
      "\n",
      "0.7675035055437314\n",
      "0.5890616310219164\n",
      "\n",
      "0.6791091932245651\n",
      "0.4611892963221197\n",
      "\n",
      "0.5838765175554846\n",
      "0.3409117877527202\n",
      "\n",
      "0.6277991249173887\n",
      "0.394131741247039\n",
      "\n",
      "0.8456893107921248\n",
      "0.7151904103880591\n",
      "\n",
      "0.657428867973921\n",
      "0.4322127164454712\n",
      "\n",
      "0.24190507722816557\n",
      "0.05851806638876475\n",
      "\n",
      "0.8027532711032501\n",
      "0.6444128142669682\n",
      "\n",
      "0.9123613318795971\n",
      "0.8324031999091124\n",
      "\n",
      "0.8256793354576595\n",
      "0.6817463650018022\n",
      "\n",
      "-0.25611028527365\n",
      "0.06559247822295038\n",
      "\n",
      "-0.08015440382913197\n",
      "0.006424728453203566\n",
      "\n",
      "0.3493252336517273\n",
      "0.12202811886583387\n",
      "\n",
      "0.40394426614183376\n",
      "0.1631709701488646\n",
      "\n",
      "0.5118780184398554\n",
      "0.2620191057619129\n",
      "\n",
      "0.3275561740561163\n",
      "0.10729304716228076\n",
      "\n",
      "0.06857907842460034\n",
      "0.004703089997567484\n",
      "\n",
      "0.44809005952575415\n",
      "0.20078470144579388\n",
      "\n",
      "0.6833431389914749\n",
      "0.4669578456067222\n",
      "\n",
      "0.6140680466217593\n",
      "0.37707956588186314\n",
      "\n",
      "0.5745956092468589\n",
      "0.330160114165769\n",
      "\n",
      "0.7829313546170728\n",
      "0.6129815060425245\n",
      "\n",
      "0.6198128599361723\n",
      "0.38416798134225716\n",
      "\n",
      "0.31374467007451523\n",
      "0.09843571800016641\n",
      "\n",
      "0.510489801566254\n",
      "0.2605998375031534\n",
      "\n",
      "0.3002588980370723\n",
      "0.09015540585043696\n",
      "\n",
      "0.11970869535374803\n",
      "0.014330171743296457\n",
      "\n",
      "-0.15185959696707657\n",
      "0.023061337191002933\n",
      "\n",
      "0.5058288542937988\n",
      "0.2558628298361771\n",
      "\n",
      "0.5833543839274039\n",
      "0.34030233724732095\n",
      "\n",
      "0.7024260534839739\n",
      "0.4934023606130706\n",
      "\n",
      "0.7323219990894497\n",
      "0.536295510350368\n",
      "\n",
      "-0.08692018458168632\n",
      "0.0075551184877144205\n",
      "\n",
      "0.42570150381443606\n",
      "0.1812217703498723\n",
      "\n",
      "0.5910640312925086\n",
      "0.3493566890877516\n",
      "\n",
      "0.2728306547635675\n",
      "0.07443656617871695\n",
      "\n",
      "0.5160271512839107\n",
      "0.2662840208621881\n",
      "\n",
      "0.5152759010357715\n",
      "0.2655092541882262\n",
      "\n",
      "0.7986928723019139\n",
      "0.6379103042658814\n",
      "\n",
      "0.506313753546838\n",
      "0.25635361703068826\n",
      "\n",
      "0.3674951365934467\n",
      "0.13505267541983604\n",
      "\n",
      "0.5580578854642866\n",
      "0.3114286035288708\n",
      "\n",
      "0.5501099787224413\n",
      "0.3026209886900048\n",
      "\n",
      "0.8560965241321978\n",
      "0.7329012586312308\n",
      "\n",
      "0.7111904958424137\n",
      "0.5057919213765782\n",
      "\n",
      "0.5318083462250793\n",
      "0.2828201171146538\n",
      "\n",
      "0.7028026757886914\n",
      "0.49393160109574447\n",
      "\n",
      "0.7808787223291651\n",
      "0.6097715789864293\n",
      "\n",
      "0.7372385068401155\n",
      "0.5435206159678431\n",
      "\n",
      "0.7441120968334471\n",
      "0.5537028126538694\n",
      "\n",
      "0.5920458790348117\n",
      "0.35051832288210283\n",
      "\n",
      "0.7482660693769174\n",
      "0.5599021105807818\n",
      "\n",
      "0.7525276999425681\n",
      "0.5662979391808518\n",
      "\n",
      "0.7278029447844394\n",
      "0.5296971264369018\n",
      "\n",
      "0.356563834703867\n",
      "0.12713776821872658\n",
      "\n",
      "0.7959742688814584\n",
      "0.6335750367213722\n",
      "\n",
      "0.46330890473077946\n",
      "0.21465514120283447\n",
      "\n",
      "0.6007681656395432\n",
      "0.36092238884590155\n",
      "\n",
      "0.4270229118846872\n",
      "0.18234856727447735\n",
      "\n",
      "0.34851719218551097\n",
      "0.12146423324887239\n",
      "\n",
      "-0.04412469716938919\n",
      "0.0019469889002903021\n",
      "\n",
      "0.20679022944973333\n",
      "0.04276219899587336\n",
      "\n",
      "0.8269317303877928\n",
      "0.6838160867221492\n",
      "\n",
      "0.4128106732532098\n",
      "0.17041265195176836\n",
      "\n",
      "0.33765207368314865\n",
      "0.11400892286253045\n",
      "\n",
      "0.7906516383397645\n",
      "0.6251300132093537\n",
      "\n",
      "0.524482739982842\n",
      "0.2750821445399095\n",
      "\n",
      "0.7124429360890997\n",
      "0.507574937183257\n",
      "\n",
      "0.32616229904805644\n",
      "0.10638184532031379\n",
      "\n",
      "0.27083474111096606\n",
      "0.073351456992644\n",
      "\n",
      "0.45251001593610274\n",
      "0.20476531452249194\n",
      "\n",
      "0.6304335259583124\n",
      "0.3974464306522301\n",
      "\n",
      "0.8700946780353197\n",
      "0.7570647487453867\n",
      "\n",
      "0.7668599028258619\n",
      "0.5880741105620904\n",
      "\n",
      "0.7850156867561306\n",
      "0.6162496284531994\n",
      "\n",
      "0.7140461687204436\n",
      "0.5098619310643442\n",
      "\n",
      "0.8628997804089398\n",
      "0.7445960310297964\n",
      "\n",
      "0.4575069769104261\n",
      "0.20931263392171714\n",
      "\n",
      "0.7281257613785739\n",
      "0.5301671243831279\n",
      "\n",
      "0.6688821715102496\n",
      "0.447403359364267\n",
      "\n",
      "0.4272303230680527\n",
      "0.1825257489488327\n",
      "\n",
      "0.6120593010946804\n",
      "0.37461658805650866\n",
      "\n",
      "-0.029295621235681274\n",
      "0.0008582334235844996\n",
      "\n",
      "0.118068438463584\n",
      "0.013940156161229122\n",
      "\n",
      "0.3917885882247586\n",
      "0.15349829786314945\n",
      "\n",
      "0.6057049049783476\n",
      "0.3668784319148291\n",
      "\n",
      "0.533334897201942\n",
      "0.2844461125734061\n",
      "\n",
      "0.11459615860954633\n",
      "0.0131322795680643\n",
      "\n",
      "0.499285378119406\n",
      "0.2492858888038382\n",
      "\n",
      "0.5126852320236315\n",
      "0.26284614713512483\n",
      "\n",
      "0.7777276018224706\n",
      "0.6048602226365314\n",
      "\n",
      "0.5536753382163856\n",
      "0.306556380149029\n",
      "\n",
      "0.35885905855604694\n",
      "0.12877982390773232\n",
      "\n",
      "0.38834446567626196\n",
      "0.1508114240213814\n",
      "\n"
     ]
    }
   ],
   "source": [
    "within_subj_predictions = []\n",
    "for group in results['result_group'].unique():\n",
    "    group_results = results.loc[results['result_group']==group,].copy()\n",
    "    \n",
    "    #get means and SDs\n",
    "    obs_mean = np.mean(group_results['y'])\n",
    "    pred_mean = np.mean(group_results['y_pred'])\n",
    "    obs_sd = np.std(group_results['y'])\n",
    "    pred_sd = np.std(group_results['y_pred'])\n",
    "    \n",
    "    #mean center\n",
    "    group_results['y'] = (group_results['y'] - obs_mean)\n",
    "    group_results['y_pred'] = (group_results['y_pred'] - pred_mean)\n",
    "    \n",
    "    within_subj_prediction = pearsonr(group_results['y'],group_results['y_pred'])[0]\n",
    "    print(within_subj_prediction)\n",
    "    print(math.pow(pearsonr(group_results['y'],group_results['y_pred'])[0],2))\n",
    "\n",
    "    \n",
    "    #what if we we re-ranked the predicted values into groups along the \n",
    "    if (within_subj_prediction< (-0.5)):\n",
    "\n",
    "        sp = sns.scatterplot(group_results['y'],group_results['y_pred'])\n",
    "        plt.show()\n",
    "        display(pd.DataFrame(group_results.groupby('y').y_pred.mean()))\n",
    "        #display(group_results)\n",
    "    within_subj_predictions = within_subj_predictions + [within_subj_prediction]\n",
    "    print(\"\")\n",
    "    \n",
    "r2_score_within_subj = np.mean(within_subj_predictions)"
   ]
  },
  {
   "cell_type": "code",
   "execution_count": 53,
   "id": "disturbed-destruction",
   "metadata": {},
   "outputs": [
    {
     "data": {
      "text/plain": [
       "0.2874040115034314"
      ]
     },
     "execution_count": 53,
     "metadata": {},
     "output_type": "execute_result"
    }
   ],
   "source": [
    "math.pow(r2_score_within_subj,2)"
   ]
  },
  {
   "cell_type": "code",
   "execution_count": 54,
   "id": "realistic-angle",
   "metadata": {},
   "outputs": [
    {
     "data": {
      "text/plain": [
       "0.24511572191909237"
      ]
     },
     "execution_count": 54,
     "metadata": {},
     "output_type": "execute_result"
    }
   ],
   "source": [
    "math.pow(pearsonr(results['y'],results['y_pred'])[0],2)"
   ]
  },
  {
   "cell_type": "markdown",
   "id": "south-sweet",
   "metadata": {},
   "source": [
    "Using Pearsons' r does not really improve things. The by-subject-run $r$ is around the same as the individual r. Although 0.04 higher is not nothing."
   ]
  },
  {
   "cell_type": "markdown",
   "id": "sunset-polymer",
   "metadata": {},
   "source": [
    "So can we do _calibration_ or _learning_ within-subject somehow?"
   ]
  },
  {
   "cell_type": "code",
   "execution_count": null,
   "id": "running-forum",
   "metadata": {},
   "outputs": [],
   "source": []
  }
 ],
 "metadata": {
  "kernelspec": {
   "display_name": "Python [conda env:.conda-neuralsignature]",
   "language": "python",
   "name": "conda-env-.conda-neuralsignature-py"
  },
  "language_info": {
   "codemirror_mode": {
    "name": "ipython",
    "version": 3
   },
   "file_extension": ".py",
   "mimetype": "text/x-python",
   "name": "python",
   "nbconvert_exporter": "python",
   "pygments_lexer": "ipython3",
   "version": "3.8.5"
  }
 },
 "nbformat": 4,
 "nbformat_minor": 5
}
