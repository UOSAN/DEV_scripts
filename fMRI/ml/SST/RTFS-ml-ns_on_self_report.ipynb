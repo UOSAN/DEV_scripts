{
 "cells": [
  {
   "cell_type": "markdown",
   "id": "angry-conspiracy",
   "metadata": {
    "tags": []
   },
   "source": [
    "This builds on TESQ-ml-ns-nogo-go\n",
    "\n",
    "> **proposal 1**\n",
    "> \n",
    "> Two class (e.g., CorrectStop vs. CorrectGo)\n",
    "> \n",
    "> Leave-One-Out classifier...\n",
    "> \n",
    "> Neural similarity of a subject to the group with a Stop vs. Go contrast might actually be indicative of performance.\n",
    "> \n",
    "> subjects will naturally differ across the task as to how much their average signal responds to that, and the ones with better response might have better response inhibition.\n",
    "\n",
    "We use the same neural data, but instead of regressing on classifying these classes, we take one class or the other or we combine them in some way and we regress on our self report variables."
   ]
  },
  {
   "cell_type": "markdown",
   "id": "humanitarian-discretion",
   "metadata": {},
   "source": [
    "So there are a couple of steps here...\n",
    "\n",
    "1. iterate through subjects, holding out one at a time, and do the following steps.\n",
    "2. Train a regressor across all the training subjects, regressing CorrectStop and CorrectGo on TESQ-E and other self report measures including FFQ either (a) independently (b) contrasted with each other (c) concatenated in a single image.\n",
    "3. If a link can be established, we've shown there is a relevant link between TESQ-E or other self-report measure, and the neural signature.\n",
    "4. ...that seems like a publication in itself!\n",
    "\n",
    "\n"
   ]
  },
  {
   "cell_type": "markdown",
   "id": "taken-certification",
   "metadata": {},
   "source": [
    "As a first pass, we can simplify this a bit just trying that single classifier on all subjects. This means that we're using train for tes tset but it will give us an initial measure of feasibility.\n",
    "\n",
    "We probably do need to restrict to a specific brain region though, and that means retraining. - I think that prefrontal cortex mask we have works well."
   ]
  },
  {
   "cell_type": "markdown",
   "id": "oriental-glucose",
   "metadata": {},
   "source": [
    "## Data already generated"
   ]
  },
  {
   "cell_type": "markdown",
   "id": "opponent-oxford",
   "metadata": {},
   "source": [
    "Can we use data already generated in `SST_inhibition_cv.ipynb`?"
   ]
  },
  {
   "cell_type": "code",
   "execution_count": 1,
   "id": "mineral-pillow",
   "metadata": {},
   "outputs": [],
   "source": [
    "import pickle\n",
    "from IPython.core.display import display, HTML, Markdown"
   ]
  },
  {
   "cell_type": "code",
   "execution_count": 2,
   "id": "mechanical-rainbow",
   "metadata": {},
   "outputs": [],
   "source": [
    "ml_data_folderpath = \"/gpfs/projects/sanlab/shared/DEV/nonbids_data/fMRI/ml\""
   ]
  },
  {
   "cell_type": "code",
   "execution_count": 3,
   "id": "economic-hartford",
   "metadata": {},
   "outputs": [],
   "source": [
    "#results_filepath=ml_data_folderpath + \"/SST/train_test_results_conditions_40subs_twoclasses.pkl\""
   ]
  },
  {
   "cell_type": "code",
   "execution_count": 4,
   "id": "romance-tracker",
   "metadata": {},
   "outputs": [],
   "source": [
    "#results_2c = pickle.load(open(results_filepath,'rb'))"
   ]
  },
  {
   "cell_type": "code",
   "execution_count": 5,
   "id": "athletic-rebel",
   "metadata": {},
   "outputs": [
    {
     "name": "stderr",
     "output_type": "stream",
     "text": [
      "/home/bsmith16/.conda/envs/neuralsignature/lib/python3.8/site-packages/nilearn/datasets/__init__.py:93: FutureWarning: Fetchers from the nilearn.datasets module will be updated in version 0.9 to return python strings instead of bytes and Pandas dataframes instead of Numpy arrays.\n",
      "  warn(\"Fetchers from the nilearn.datasets module will be \"\n"
     ]
    }
   ],
   "source": [
    "from nilearn import plotting\n",
    "from nilearn.masking import compute_brain_mask\n",
    "import nltools as nlt\n",
    "\n",
    "#plotting.view_img(results_2c[3]['CorrectGo'],threshold=0.0002)"
   ]
  },
  {
   "cell_type": "code",
   "execution_count": 6,
   "id": "material-permit",
   "metadata": {},
   "outputs": [],
   "source": [
    "#plotting.plot_glass_brain(results_2c[3]['CorrectGo'])"
   ]
  },
  {
   "cell_type": "code",
   "execution_count": 7,
   "id": "banned-documentary",
   "metadata": {},
   "outputs": [],
   "source": [
    "#plotting.view_img(results_2c[3]['CorrectStop'],cmap='blue_red')"
   ]
  },
  {
   "cell_type": "code",
   "execution_count": 8,
   "id": "dutch-subscriber",
   "metadata": {},
   "outputs": [
    {
     "name": "stderr",
     "output_type": "stream",
     "text": [
      "/home/bsmith16/.conda/envs/neuralsignature/lib/python3.8/site-packages/nilearn/image/resampling.py:531: UserWarning: Casting data from int16 to float32\n",
      "  warnings.warn(\"Casting data from %s to %s\" % (data.dtype.name, aux))\n"
     ]
    }
   ],
   "source": [
    "background_img = nlt.Brain_Data('/projects/sanlab/shared/spm12/canonical/MNI152_T1_1mm_brain.nii').to_nifti()"
   ]
  },
  {
   "cell_type": "markdown",
   "id": "popular-myrtle",
   "metadata": {},
   "source": [
    "Not quite--we need a PFC mask I think. But we can use the script already written to do that."
   ]
  },
  {
   "cell_type": "markdown",
   "id": "falling-queue",
   "metadata": {},
   "source": [
    "## Setup"
   ]
  },
  {
   "cell_type": "code",
   "execution_count": 9,
   "id": "limiting-galaxy",
   "metadata": {},
   "outputs": [
    {
     "name": "stdout",
     "output_type": "stream",
     "text": [
      "python initialized for apply_loocv_and_save\n",
      "cpus available; cpus to use:\n",
      "28 25\n",
      "28\n"
     ]
    }
   ],
   "source": [
    "import sys\n",
    "import os\n",
    "import pandas as pd\n",
    "\n",
    "sys.path.append(os.path.abspath(\"../../ml/\"))\n",
    "\n",
    "from apply_loocv_and_save import *\n",
    "from dev_wtp_io_utils import *\n",
    "import gc\n",
    "import nibabel as nib\n",
    "\n",
    "from os import path\n",
    "\n"
   ]
  },
  {
   "cell_type": "code",
   "execution_count": 10,
   "id": "located-longitude",
   "metadata": {},
   "outputs": [],
   "source": [
    "from analyze_results import *"
   ]
  },
  {
   "cell_type": "markdown",
   "id": "greater-colorado",
   "metadata": {},
   "source": [
    "## condition_contrast"
   ]
  },
  {
   "cell_type": "code",
   "execution_count": 11,
   "id": "endless-texture",
   "metadata": {},
   "outputs": [],
   "source": [
    "#load the matrix associated with this file\n",
    "sl_mat = scipy.io.loadmat(\n",
    "'/gpfs/projects/sanlab/shared/DEV/nonbids_data/fMRI/fx/models/SST/wave1/conditions/sub-DEV073/SPM.mat',\n",
    "simplify_cells=True            \n",
    ")\n",
    "mat_betas = sl_mat['SPM']['Vbeta']"
   ]
  },
  {
   "cell_type": "code",
   "execution_count": 12,
   "id": "floral-invite",
   "metadata": {},
   "outputs": [
    {
     "data": {
      "text/plain": [
       "['spm_spm:beta (0001) - Sn(1) CorrectGo*bf(1)',\n",
       " 'spm_spm:beta (0002) - Sn(1) CorrectStop*bf(1)',\n",
       " 'spm_spm:beta (0003) - Sn(1) FailedStop*bf(1)',\n",
       " 'spm_spm:beta (0004) - Sn(1) Cue*bf(1)',\n",
       " 'spm_spm:beta (0005) - Sn(1) R1',\n",
       " 'spm_spm:beta (0006) - Sn(1) R2',\n",
       " 'spm_spm:beta (0007) - Sn(1) R3',\n",
       " 'spm_spm:beta (0008) - Sn(1) R4',\n",
       " 'spm_spm:beta (0009) - Sn(1) R5',\n",
       " 'spm_spm:beta (0010) - Sn(1) constant']"
      ]
     },
     "execution_count": 12,
     "metadata": {},
     "output_type": "execute_result"
    }
   ],
   "source": [
    "[mat_betas[beta_i]['descrip'] for beta_i in range(len(mat_betas))]"
   ]
  },
  {
   "cell_type": "markdown",
   "id": "circular-conjunction",
   "metadata": {},
   "source": [
    "## stitching contrasts together in different ways\n",
    "\n",
    "We'd want:\n",
    "\n",
    " - contrast of the two conditions\n",
    " - each of the two conditions alone.\n",
    " \n",
    "The contrast is a little tricky. Easiest thing is to try each of the conditions alone. Stitching the two together might not be too hard. Let's try doing CorrectStop first, and then we'll try concatenating the images. Doing a contrast is actually the most difficult becuase I have to backtrack in the process to generate new betas (see https://docs.google.com/presentation/d/1K-nFrZYE6rR8t0myNyacB7frBzV3B1--nMqPhVkwL8E/edit#slide=id.geeff6890fb_0_16)."
   ]
  },
  {
   "cell_type": "markdown",
   "id": "mysterious-omaha",
   "metadata": {},
   "source": [
    "See `different ways of combining images.ipynb`."
   ]
  },
  {
   "cell_type": "markdown",
   "id": "fluid-africa",
   "metadata": {},
   "source": [
    "## template"
   ]
  },
  {
   "cell_type": "raw",
   "id": "clinical-victorian",
   "metadata": {},
   "source": [
    "do_complete_analysis_for_mask('goal')"
   ]
  },
  {
   "cell_type": "markdown",
   "id": "latest-baseball",
   "metadata": {},
   "source": [
    "## regressing on self report"
   ]
  },
  {
   "cell_type": "code",
   "execution_count": 13,
   "id": "superior-depth",
   "metadata": {},
   "outputs": [],
   "source": [
    "nonbids_data_path = \"/gpfs/projects/sanlab/shared/DEV/nonbids_data/\"\n",
    "ml_data_folderpath = \"/gpfs/projects/sanlab/shared/DEV/nonbids_data/fMRI/ml\"\n",
    "train_test_markers_filepath = ml_data_folderpath + \"/train_test_markers_20210601T183243.csv\"\n",
    "test_train_df = pd.read_csv(train_test_markers_filepath)\n",
    "\n",
    "all_sst_events= pd.read_csv(ml_data_folderpath +\"/SST/\" + \"all_sst_events.csv\")\n",
    "\n",
    "\n",
    "dataset_name = 'conditions'\n",
    "\n",
    "from nilearn.decoding import DecoderRegressor, Decoder\n",
    "\n",
    "script_path = '/gpfs/projects/sanlab/shared/DEV/DEV_scripts/fMRI/ml'\n",
    "# HRF 2s\n",
    "\n",
    "#get a PFC mask\n",
    "#pfc_mask = create_mask_from_images(get_pfc_image_filepaths(ml_data_folderpath + \"/\"),threshold=10)"
   ]
  },
  {
   "cell_type": "code",
   "execution_count": 14,
   "id": "welcome-radius",
   "metadata": {},
   "outputs": [],
   "source": [
    "def sr_regressor_trans_func(X):\n",
    "#         print(X.columns)\n",
    "#         print(X[self_report_regression_var])\n",
    "    return(X[self_report_regression_var])\n",
    "\n",
    "def decoderConstructor(*args, **kwargs):\n",
    "    return(DecoderRegressor(scoring='neg_mean_absolute_error',verbose=0, *args, **kwargs))\n",
    "\n"
   ]
  },
  {
   "cell_type": "code",
   "execution_count": 15,
   "id": "italic-sherman",
   "metadata": {},
   "outputs": [],
   "source": [
    "from ml_tools import *"
   ]
  },
  {
   "cell_type": "code",
   "execution_count": 16,
   "id": "reasonable-extent",
   "metadata": {},
   "outputs": [],
   "source": [
    "from analyze_results import *"
   ]
  },
  {
   "cell_type": "code",
   "execution_count": 17,
   "id": "reasonable-award",
   "metadata": {},
   "outputs": [
    {
     "data": {
      "text/plain": [
       "'subject, cancer_promoting_minus_preventing_FCI, cancer_promoting_minus_preventing_FFQ, cancer_promoting_minus_preventing_craved_FCI, cancer_promoting_minus_preventing_craved_FFQ, cancer_promoting_minus_preventing_liked_FCI, cancer_promoting_minus_preventing_liked_FFQ, cancer_promoting_FCI, cancer_promoting_FFQ, cancer_preventing_FCI, cancer_preventing_FFQ, BSCS, cSES, EDM, BIS_11, PCS, RS, TRSQ, bf_1, weight_0, height_0, birthsex, age365, bmi_0, bmi_1, bmi, bf_1_controlled, bf_1_bsexnormedzs, ACES_sum, ACES_household_dysfunction, ACES_neglectful_parenting, ACES_abuse, ACES_divorced_separated, BFI_agreeableness, BFI_conscientiousness, BFI_extraversion, BFI_neuroticism, BFI_openness, DEMO_mcarthur_social_standing, IMI_effort_importance, IMI_interest_enjoyment, IMI_perceived_choice, IMI_perceived_competence, IMI_value_usefulness, IPAQ_moderateminutes, IPAQ_sittinghours, IPAQ_vigorousminutes, IPAQ_walkingminutes, NCS_get_job_done, NCS_deliberating_issues, NCS_prefer_complex, NCS_prefer_little_thought, NCS_intellectual_task, NCS_relief_not_satisfaction, NCS_like_responsibility, NCS_new_solutions_to_problems, NCS_avoid_depth, NCS_tasks_little_thought, NCS_think_minimally, NCS_satisfaction_in_deliberating, NCS_small_daily_projects, NCS_solve_puzzles, NCS_total, NCS_thinking_not_exciting, NCS_abstract_thinking, NCS_thought_appealing, NCS_thinking_not_fun, PLAN_cognitive_strategies, PLAN_temporal_orientation, PLAN_mental_forecasting, RMQ_assessment, RMQ_lie, RMQ_locomotion, RTFS_factor_1, RTFS_factor_2, SRHI_sum, SRHI_healthy, SRHI_unhealthy, TESQ_E_avoidance_of_temptations, TESQ_E_goal_deliberation, TESQ_E_distraction, TESQ_E_goal_and_rule_setting, TESQ_E_sum, TESQ_E_controlling_temptations, TESQ_E_suppression, education_own, zipcode_median_income_acs, household_income_level_medamount, household_income_per_person, ses_aggregate, SST_CorrectGo, SST_CorrectStop, SST_Cue, SST_FailedGo, SST_FailedStop, SST_prop_successful_stops, SST_reaction_time, SST_go_trial_reaction_time, SST_GRTint, SST_GRTmean, SST_GRTmedian, SST_GRTquant, SST_NRCount, SST_PctInhib, SST_SSD, SST_SSRT, SST_SSRTint, SST_SSRTquant, SST_pes_mean_limited, SST_PECG_mean, SST_PCCG_mean, SST_PostErrorSlowW1_mean, SST_PECG_median, SST_PCCG_median, SST_PostErrorSlowW1_median, ROC_Crave_Look, ROC_Crave_Regulate, ROC_Neutral_Look, ROC_No Crave_Look, ROC_Crave_Regulate_Minus_Look, ROC_Crave_Minus_Neutral, ROC_Crave_Minus_NoCrave, WTP_healthy, WTP_unhealthy, WTP_unhealthy_minus_healthy, SRHI_healthy_minus_unhealthy, RTFS_f1_minus_f2, IPAQ_walkingMETminutes, IPAQ_moderateMETminutes, IPAQ_vigorousMETminutes, IPAQ_total_METminutes, IPAQ_MET_kCal, birthsex_factor, FFQ_v2_Mean_Weighted_Nutrient_Density, FFQ_v2_Mean_Weighted_percent_daily_value, FFQ_v2_Mean_Dietary_Nutrient_Density, FFQ_v2_Mean_Energy_Density, FFQ_v2_Mean_Energy, wave'"
      ]
     },
     "execution_count": 17,
     "metadata": {},
     "output_type": "execute_result"
    }
   ],
   "source": [
    "\n",
    "data_by_ppt_name = \"data_by_ppt_2022_02_26.csv\"\n",
    "\n",
    "\n",
    "individual_differences = pd.read_csv(ml_data_folderpath + \"/\"+ data_by_ppt_name)\n",
    "individual_differences = individual_differences.rename(columns={'SID':'subject'})\n",
    "individual_differences['wave']=1\n",
    "\n",
    "\", \".join(individual_differences.columns)"
   ]
  },
  {
   "cell_type": "code",
   "execution_count": 18,
   "id": "according-southwest",
   "metadata": {},
   "outputs": [],
   "source": [
    "harvox_folderpath = ml_data_folderpath + \"/masks/failure_related/harvardoxford/\"\n",
    "neurosynth_folderpath = ml_data_folderpath + \"/masks/failure_related/\"\n",
    "\n",
    "mask_list = pd.concat([get_mask_df(harvox_folderpath,30),\n",
    "          get_mask_df(neurosynth_folderpath,0)])"
   ]
  },
  {
   "cell_type": "code",
   "execution_count": 19,
   "id": "bored-parks",
   "metadata": {},
   "outputs": [
    {
     "data": {
      "text/html": [
       "<div>\n",
       "<style scoped>\n",
       "    .dataframe tbody tr th:only-of-type {\n",
       "        vertical-align: middle;\n",
       "    }\n",
       "\n",
       "    .dataframe tbody tr th {\n",
       "        vertical-align: top;\n",
       "    }\n",
       "\n",
       "    .dataframe thead th {\n",
       "        text-align: right;\n",
       "    }\n",
       "</style>\n",
       "<table border=\"1\" class=\"dataframe\">\n",
       "  <thead>\n",
       "    <tr style=\"text-align: right;\">\n",
       "      <th></th>\n",
       "      <th>name</th>\n",
       "      <th>filename</th>\n",
       "      <th>filepath</th>\n",
       "      <th>threshold</th>\n",
       "    </tr>\n",
       "  </thead>\n",
       "  <tbody>\n",
       "    <tr>\n",
       "      <th>0</th>\n",
       "      <td>harvardoxford-cortical_prob_Frontal Orbital Co...</td>\n",
       "      <td>harvardoxford-cortical_prob_Frontal Orbital Co...</td>\n",
       "      <td>/gpfs/projects/sanlab/shared/DEV/nonbids_data/...</td>\n",
       "      <td>30</td>\n",
       "    </tr>\n",
       "    <tr>\n",
       "      <th>1</th>\n",
       "      <td>harvardoxford-cortical_prob_Cingulate Gyrus, a...</td>\n",
       "      <td>harvardoxford-cortical_prob_Cingulate Gyrus, a...</td>\n",
       "      <td>/gpfs/projects/sanlab/shared/DEV/nonbids_data/...</td>\n",
       "      <td>30</td>\n",
       "    </tr>\n",
       "    <tr>\n",
       "      <th>0</th>\n",
       "      <td>negative affect_association-test_z_FDR_0</td>\n",
       "      <td>negative affect_association-test_z_FDR_0.01.ni...</td>\n",
       "      <td>/gpfs/projects/sanlab/shared/DEV/nonbids_data/...</td>\n",
       "      <td>0</td>\n",
       "    </tr>\n",
       "    <tr>\n",
       "      <th>1</th>\n",
       "      <td>emotion regulation_association-test_z_FDR_0</td>\n",
       "      <td>emotion regulation_association-test_z_FDR_0.01...</td>\n",
       "      <td>/gpfs/projects/sanlab/shared/DEV/nonbids_data/...</td>\n",
       "      <td>0</td>\n",
       "    </tr>\n",
       "    <tr>\n",
       "      <th>2</th>\n",
       "      <td>harvardoxford-cortical_prob_Frontal Medial Cortex</td>\n",
       "      <td>harvardoxford-cortical_prob_Frontal Medial Cor...</td>\n",
       "      <td>/gpfs/projects/sanlab/shared/DEV/nonbids_data/...</td>\n",
       "      <td>0</td>\n",
       "    </tr>\n",
       "    <tr>\n",
       "      <th>3</th>\n",
       "      <td>negative emotions_association-test_z_FDR_0</td>\n",
       "      <td>negative emotions_association-test_z_FDR_0.01....</td>\n",
       "      <td>/gpfs/projects/sanlab/shared/DEV/nonbids_data/...</td>\n",
       "      <td>0</td>\n",
       "    </tr>\n",
       "    <tr>\n",
       "      <th>4</th>\n",
       "      <td>self referential_association-test_z_FDR_0</td>\n",
       "      <td>self referential_association-test_z_FDR_0.01.n...</td>\n",
       "      <td>/gpfs/projects/sanlab/shared/DEV/nonbids_data/...</td>\n",
       "      <td>0</td>\n",
       "    </tr>\n",
       "  </tbody>\n",
       "</table>\n",
       "</div>"
      ],
      "text/plain": [
       "                                                name  \\\n",
       "0  harvardoxford-cortical_prob_Frontal Orbital Co...   \n",
       "1  harvardoxford-cortical_prob_Cingulate Gyrus, a...   \n",
       "0           negative affect_association-test_z_FDR_0   \n",
       "1        emotion regulation_association-test_z_FDR_0   \n",
       "2  harvardoxford-cortical_prob_Frontal Medial Cortex   \n",
       "3         negative emotions_association-test_z_FDR_0   \n",
       "4          self referential_association-test_z_FDR_0   \n",
       "\n",
       "                                            filename  \\\n",
       "0  harvardoxford-cortical_prob_Frontal Orbital Co...   \n",
       "1  harvardoxford-cortical_prob_Cingulate Gyrus, a...   \n",
       "0  negative affect_association-test_z_FDR_0.01.ni...   \n",
       "1  emotion regulation_association-test_z_FDR_0.01...   \n",
       "2  harvardoxford-cortical_prob_Frontal Medial Cor...   \n",
       "3  negative emotions_association-test_z_FDR_0.01....   \n",
       "4  self referential_association-test_z_FDR_0.01.n...   \n",
       "\n",
       "                                            filepath  threshold  \n",
       "0  /gpfs/projects/sanlab/shared/DEV/nonbids_data/...         30  \n",
       "1  /gpfs/projects/sanlab/shared/DEV/nonbids_data/...         30  \n",
       "0  /gpfs/projects/sanlab/shared/DEV/nonbids_data/...          0  \n",
       "1  /gpfs/projects/sanlab/shared/DEV/nonbids_data/...          0  \n",
       "2  /gpfs/projects/sanlab/shared/DEV/nonbids_data/...          0  \n",
       "3  /gpfs/projects/sanlab/shared/DEV/nonbids_data/...          0  \n",
       "4  /gpfs/projects/sanlab/shared/DEV/nonbids_data/...          0  "
      ]
     },
     "execution_count": 19,
     "metadata": {},
     "output_type": "execute_result"
    }
   ],
   "source": [
    "mask_list"
   ]
  },
  {
   "cell_type": "code",
   "execution_count": 20,
   "id": "following-trouble",
   "metadata": {},
   "outputs": [
    {
     "name": "stdout",
     "output_type": "stream",
     "text": [
      "harvardoxford-cortical_prob_Frontal Orbital Cortex.nii.gz\n",
      "/gpfs/projects/sanlab/shared/DEV/nonbids_data/fMRI/ml/SST/regress_sr_RTFS_factor_1/post_stop_cg_spatially_concatenated/regress_sr_no_zscore_RTFS_factor_1_84subs_harvardoxford-cortical_prob_Frontal Orbital Cortex.pkl\n"
     ]
    },
    {
     "data": {
      "text/markdown": [
       "## harvardoxford-cortical_prob_Frontal Orbital Cortex"
      ],
      "text/plain": [
       "<IPython.core.display.Markdown object>"
      ]
     },
     "metadata": {},
     "output_type": "display_data"
    },
    {
     "name": "stdout",
     "output_type": "stream",
     "text": [
      "/gpfs/projects/sanlab/shared/DEV/nonbids_data/fMRI/ml/SST/regress_sr_RTFS_factor_1/post_stop_cg_spatially_concatenated/regress_sr_no_zscore_RTFS_factor_1_84subs_harvardoxford-cortical_prob_Frontal Orbital Cortex.pkl\n",
      "removed 1 outlying predictions or values\n"
     ]
    },
    {
     "data": {
      "text/html": [
       "y"
      ],
      "text/plain": [
       "<IPython.core.display.HTML object>"
      ]
     },
     "metadata": {},
     "output_type": "display_data"
    },
    {
     "data": {
      "text/html": [
       "r=0.12; p-value=0.3719"
      ],
      "text/plain": [
       "<IPython.core.display.HTML object>"
      ]
     },
     "metadata": {},
     "output_type": "display_data"
    },
    {
     "data": {
      "text/html": [
       "rho=0.13; p-value=0.3563"
      ],
      "text/plain": [
       "<IPython.core.display.HTML object>"
      ]
     },
     "metadata": {},
     "output_type": "display_data"
    },
    {
     "data": {
      "image/png": "[encoded data removed]",
      "text/plain": [
       "<Figure size 432x288 with 1 Axes>"
      ]
     },
     "metadata": {
      "needs_background": "light"
     },
     "output_type": "display_data"
    },
    {
     "name": "stdout",
     "output_type": "stream",
     "text": [
      "harvardoxford-cortical_prob_Cingulate Gyrus, anterior division.nii.gz\n",
      "/gpfs/projects/sanlab/shared/DEV/nonbids_data/fMRI/ml/SST/regress_sr_RTFS_factor_1/post_stop_cg_spatially_concatenated/regress_sr_no_zscore_RTFS_factor_1_84subs_harvardoxford-cortical_prob_Cingulate Gyrus, anterior division.pkl\n"
     ]
    },
    {
     "data": {
      "text/markdown": [
       "## harvardoxford-cortical_prob_Cingulate Gyrus, anterior division"
      ],
      "text/plain": [
       "<IPython.core.display.Markdown object>"
      ]
     },
     "metadata": {},
     "output_type": "display_data"
    },
    {
     "name": "stdout",
     "output_type": "stream",
     "text": [
      "/gpfs/projects/sanlab/shared/DEV/nonbids_data/fMRI/ml/SST/regress_sr_RTFS_factor_1/post_stop_cg_spatially_concatenated/regress_sr_no_zscore_RTFS_factor_1_84subs_harvardoxford-cortical_prob_Cingulate Gyrus, anterior division.pkl\n",
      "removed 1 outlying predictions or values\n"
     ]
    },
    {
     "data": {
      "text/html": [
       "y"
      ],
      "text/plain": [
       "<IPython.core.display.HTML object>"
      ]
     },
     "metadata": {},
     "output_type": "display_data"
    },
    {
     "data": {
      "text/html": [
       "r=-0.30; p-value=0.0237"
      ],
      "text/plain": [
       "<IPython.core.display.HTML object>"
      ]
     },
     "metadata": {},
     "output_type": "display_data"
    },
    {
     "data": {
      "text/html": [
       "rho=-0.31; p-value=0.0199"
      ],
      "text/plain": [
       "<IPython.core.display.HTML object>"
      ]
     },
     "metadata": {},
     "output_type": "display_data"
    },
    {
     "data": {
      "image/png": "[encoded data removed]",
      "text/plain": [
       "<Figure size 432x288 with 1 Axes>"
      ]
     },
     "metadata": {
      "needs_background": "light"
     },
     "output_type": "display_data"
    },
    {
     "name": "stdout",
     "output_type": "stream",
     "text": [
      "negative affect_association-test_z_FDR_0.01.nii.gz\n",
      "/gpfs/projects/sanlab/shared/DEV/nonbids_data/fMRI/ml/SST/regress_sr_RTFS_factor_1/post_stop_cg_spatially_concatenated/regress_sr_no_zscore_RTFS_factor_1_84subs_negative affect_association-test_z_FDR_0.pkl\n"
     ]
    },
    {
     "data": {
      "text/markdown": [
       "## negative affect_association-test_z_FDR_0"
      ],
      "text/plain": [
       "<IPython.core.display.Markdown object>"
      ]
     },
     "metadata": {},
     "output_type": "display_data"
    },
    {
     "name": "stdout",
     "output_type": "stream",
     "text": [
      "/gpfs/projects/sanlab/shared/DEV/nonbids_data/fMRI/ml/SST/regress_sr_RTFS_factor_1/post_stop_cg_spatially_concatenated/regress_sr_no_zscore_RTFS_factor_1_84subs_negative affect_association-test_z_FDR_0.pkl\n"
     ]
    },
    {
     "data": {
      "text/html": [
       "y"
      ],
      "text/plain": [
       "<IPython.core.display.HTML object>"
      ]
     },
     "metadata": {},
     "output_type": "display_data"
    },
    {
     "data": {
      "text/html": [
       "r=-0.00; p-value=0.9916"
      ],
      "text/plain": [
       "<IPython.core.display.HTML object>"
      ]
     },
     "metadata": {},
     "output_type": "display_data"
    },
    {
     "data": {
      "text/html": [
       "rho=0.01; p-value=0.9517"
      ],
      "text/plain": [
       "<IPython.core.display.HTML object>"
      ]
     },
     "metadata": {},
     "output_type": "display_data"
    },
    {
     "data": {
      "image/png": "[encoded data removed]",
      "text/plain": [
       "<Figure size 432x288 with 1 Axes>"
      ]
     },
     "metadata": {
      "needs_background": "light"
     },
     "output_type": "display_data"
    },
    {
     "name": "stdout",
     "output_type": "stream",
     "text": [
      "emotion regulation_association-test_z_FDR_0.01.nii.gz\n",
      "/gpfs/projects/sanlab/shared/DEV/nonbids_data/fMRI/ml/SST/regress_sr_RTFS_factor_1/post_stop_cg_spatially_concatenated/regress_sr_no_zscore_RTFS_factor_1_84subs_emotion regulation_association-test_z_FDR_0.pkl\n"
     ]
    },
    {
     "data": {
      "text/markdown": [
       "## emotion regulation_association-test_z_FDR_0"
      ],
      "text/plain": [
       "<IPython.core.display.Markdown object>"
      ]
     },
     "metadata": {},
     "output_type": "display_data"
    },
    {
     "name": "stdout",
     "output_type": "stream",
     "text": [
      "/gpfs/projects/sanlab/shared/DEV/nonbids_data/fMRI/ml/SST/regress_sr_RTFS_factor_1/post_stop_cg_spatially_concatenated/regress_sr_no_zscore_RTFS_factor_1_84subs_emotion regulation_association-test_z_FDR_0.pkl\n"
     ]
    },
    {
     "data": {
      "text/html": [
       "y"
      ],
      "text/plain": [
       "<IPython.core.display.HTML object>"
      ]
     },
     "metadata": {},
     "output_type": "display_data"
    },
    {
     "data": {
      "text/html": [
       "r=-0.18; p-value=0.1866"
      ],
      "text/plain": [
       "<IPython.core.display.HTML object>"
      ]
     },
     "metadata": {},
     "output_type": "display_data"
    },
    {
     "data": {
      "text/html": [
       "rho=-0.12; p-value=0.3632"
      ],
      "text/plain": [
       "<IPython.core.display.HTML object>"
      ]
     },
     "metadata": {},
     "output_type": "display_data"
    },
    {
     "data": {
      "image/png": "[encoded data removed]",
      "text/plain": [
       "<Figure size 432x288 with 1 Axes>"
      ]
     },
     "metadata": {
      "needs_background": "light"
     },
     "output_type": "display_data"
    },
    {
     "name": "stdout",
     "output_type": "stream",
     "text": [
      "harvardoxford-cortical_prob_Frontal Medial Cortex.nii.gz\n",
      "/gpfs/projects/sanlab/shared/DEV/nonbids_data/fMRI/ml/SST/regress_sr_RTFS_factor_1/post_stop_cg_spatially_concatenated/regress_sr_no_zscore_RTFS_factor_1_84subs_harvardoxford-cortical_prob_Frontal Medial Cortex.pkl\n"
     ]
    },
    {
     "data": {
      "text/markdown": [
       "## harvardoxford-cortical_prob_Frontal Medial Cortex"
      ],
      "text/plain": [
       "<IPython.core.display.Markdown object>"
      ]
     },
     "metadata": {},
     "output_type": "display_data"
    },
    {
     "name": "stdout",
     "output_type": "stream",
     "text": [
      "/gpfs/projects/sanlab/shared/DEV/nonbids_data/fMRI/ml/SST/regress_sr_RTFS_factor_1/post_stop_cg_spatially_concatenated/regress_sr_no_zscore_RTFS_factor_1_84subs_harvardoxford-cortical_prob_Frontal Medial Cortex.pkl\n"
     ]
    },
    {
     "data": {
      "text/html": [
       "y"
      ],
      "text/plain": [
       "<IPython.core.display.HTML object>"
      ]
     },
     "metadata": {},
     "output_type": "display_data"
    },
    {
     "data": {
      "text/html": [
       "r=-0.19; p-value=0.1682"
      ],
      "text/plain": [
       "<IPython.core.display.HTML object>"
      ]
     },
     "metadata": {},
     "output_type": "display_data"
    },
    {
     "data": {
      "text/html": [
       "rho=-0.14; p-value=0.3064"
      ],
      "text/plain": [
       "<IPython.core.display.HTML object>"
      ]
     },
     "metadata": {},
     "output_type": "display_data"
    },
    {
     "data": {
      "image/png": "[encoded data removed]",
      "text/plain": [
       "<Figure size 432x288 with 1 Axes>"
      ]
     },
     "metadata": {
      "needs_background": "light"
     },
     "output_type": "display_data"
    },
    {
     "name": "stdout",
     "output_type": "stream",
     "text": [
      "negative emotions_association-test_z_FDR_0.01.nii.gz\n",
      "/gpfs/projects/sanlab/shared/DEV/nonbids_data/fMRI/ml/SST/regress_sr_RTFS_factor_1/post_stop_cg_spatially_concatenated/regress_sr_no_zscore_RTFS_factor_1_84subs_negative emotions_association-test_z_FDR_0.pkl\n"
     ]
    },
    {
     "data": {
      "text/markdown": [
       "## negative emotions_association-test_z_FDR_0"
      ],
      "text/plain": [
       "<IPython.core.display.Markdown object>"
      ]
     },
     "metadata": {},
     "output_type": "display_data"
    },
    {
     "name": "stdout",
     "output_type": "stream",
     "text": [
      "/gpfs/projects/sanlab/shared/DEV/nonbids_data/fMRI/ml/SST/regress_sr_RTFS_factor_1/post_stop_cg_spatially_concatenated/regress_sr_no_zscore_RTFS_factor_1_84subs_negative emotions_association-test_z_FDR_0.pkl\n",
      "removed 1 outlying predictions or values\n"
     ]
    },
    {
     "data": {
      "text/html": [
       "y"
      ],
      "text/plain": [
       "<IPython.core.display.HTML object>"
      ]
     },
     "metadata": {},
     "output_type": "display_data"
    },
    {
     "data": {
      "text/html": [
       "r=-0.30; p-value=0.0282"
      ],
      "text/plain": [
       "<IPython.core.display.HTML object>"
      ]
     },
     "metadata": {},
     "output_type": "display_data"
    },
    {
     "data": {
      "text/html": [
       "rho=-0.31; p-value=0.0222"
      ],
      "text/plain": [
       "<IPython.core.display.HTML object>"
      ]
     },
     "metadata": {},
     "output_type": "display_data"
    },
    {
     "data": {
      "image/png": "[encoded data removed]",
      "text/plain": [
       "<Figure size 432x288 with 1 Axes>"
      ]
     },
     "metadata": {
      "needs_background": "light"
     },
     "output_type": "display_data"
    },
    {
     "name": "stdout",
     "output_type": "stream",
     "text": [
      "self referential_association-test_z_FDR_0.01.nii.gz\n",
      "/gpfs/projects/sanlab/shared/DEV/nonbids_data/fMRI/ml/SST/regress_sr_RTFS_factor_1/post_stop_cg_spatially_concatenated/regress_sr_no_zscore_RTFS_factor_1_84subs_self referential_association-test_z_FDR_0.pkl\n"
     ]
    },
    {
     "data": {
      "text/markdown": [
       "## self referential_association-test_z_FDR_0"
      ],
      "text/plain": [
       "<IPython.core.display.Markdown object>"
      ]
     },
     "metadata": {},
     "output_type": "display_data"
    },
    {
     "name": "stdout",
     "output_type": "stream",
     "text": [
      "/gpfs/projects/sanlab/shared/DEV/nonbids_data/fMRI/ml/SST/regress_sr_RTFS_factor_1/post_stop_cg_spatially_concatenated/regress_sr_no_zscore_RTFS_factor_1_84subs_self referential_association-test_z_FDR_0.pkl\n"
     ]
    },
    {
     "data": {
      "text/html": [
       "y"
      ],
      "text/plain": [
       "<IPython.core.display.HTML object>"
      ]
     },
     "metadata": {},
     "output_type": "display_data"
    },
    {
     "data": {
      "text/html": [
       "r=-0.42; p-value=0.0014"
      ],
      "text/plain": [
       "<IPython.core.display.HTML object>"
      ]
     },
     "metadata": {},
     "output_type": "display_data"
    },
    {
     "data": {
      "text/html": [
       "rho=-0.37; p-value=0.0045"
      ],
      "text/plain": [
       "<IPython.core.display.HTML object>"
      ]
     },
     "metadata": {},
     "output_type": "display_data"
    },
    {
     "data": {
      "image/png": "[encoded data removed]",
      "text/plain": [
       "<Figure size 432x288 with 1 Axes>"
      ]
     },
     "metadata": {
      "needs_background": "light"
     },
     "output_type": "display_data"
    },
    {
     "name": "stdout",
     "output_type": "stream",
     "text": [
      "harvardoxford-cortical_prob_Frontal Orbital Cortex.nii.gz\n",
      "/gpfs/projects/sanlab/shared/DEV/nonbids_data/fMRI/ml/SST/regress_sr_RTFS_factor_1/post_failed_stop_cg_w_supplementary/regress_sr_no_zscore_RTFS_factor_1_84subs_harvardoxford-cortical_prob_Frontal Orbital Cortex.pkl\n"
     ]
    },
    {
     "data": {
      "text/markdown": [
       "## harvardoxford-cortical_prob_Frontal Orbital Cortex"
      ],
      "text/plain": [
       "<IPython.core.display.Markdown object>"
      ]
     },
     "metadata": {},
     "output_type": "display_data"
    },
    {
     "name": "stdout",
     "output_type": "stream",
     "text": [
      "/gpfs/projects/sanlab/shared/DEV/nonbids_data/fMRI/ml/SST/regress_sr_RTFS_factor_1/post_failed_stop_cg_w_supplementary/regress_sr_no_zscore_RTFS_factor_1_84subs_harvardoxford-cortical_prob_Frontal Orbital Cortex.pkl\n",
      "removed 2 outlying predictions or values\n"
     ]
    },
    {
     "data": {
      "text/html": [
       "y"
      ],
      "text/plain": [
       "<IPython.core.display.HTML object>"
      ]
     },
     "metadata": {},
     "output_type": "display_data"
    },
    {
     "data": {
      "text/html": [
       "r=0.00; p-value=0.9794"
      ],
      "text/plain": [
       "<IPython.core.display.HTML object>"
      ]
     },
     "metadata": {},
     "output_type": "display_data"
    },
    {
     "data": {
      "text/html": [
       "rho=-0.02; p-value=0.9044"
      ],
      "text/plain": [
       "<IPython.core.display.HTML object>"
      ]
     },
     "metadata": {},
     "output_type": "display_data"
    },
    {
     "data": {
      "image/png": "[encoded data removed]",
      "text/plain": [
       "<Figure size 432x288 with 1 Axes>"
      ]
     },
     "metadata": {
      "needs_background": "light"
     },
     "output_type": "display_data"
    },
    {
     "name": "stdout",
     "output_type": "stream",
     "text": [
      "harvardoxford-cortical_prob_Cingulate Gyrus, anterior division.nii.gz\n",
      "/gpfs/projects/sanlab/shared/DEV/nonbids_data/fMRI/ml/SST/regress_sr_RTFS_factor_1/post_failed_stop_cg_w_supplementary/regress_sr_no_zscore_RTFS_factor_1_84subs_harvardoxford-cortical_prob_Cingulate Gyrus, anterior division.pkl\n"
     ]
    },
    {
     "data": {
      "text/markdown": [
       "## harvardoxford-cortical_prob_Cingulate Gyrus, anterior division"
      ],
      "text/plain": [
       "<IPython.core.display.Markdown object>"
      ]
     },
     "metadata": {},
     "output_type": "display_data"
    },
    {
     "name": "stdout",
     "output_type": "stream",
     "text": [
      "/gpfs/projects/sanlab/shared/DEV/nonbids_data/fMRI/ml/SST/regress_sr_RTFS_factor_1/post_failed_stop_cg_w_supplementary/regress_sr_no_zscore_RTFS_factor_1_84subs_harvardoxford-cortical_prob_Cingulate Gyrus, anterior division.pkl\n",
      "removed 1 outlying predictions or values\n"
     ]
    },
    {
     "data": {
      "text/html": [
       "y"
      ],
      "text/plain": [
       "<IPython.core.display.HTML object>"
      ]
     },
     "metadata": {},
     "output_type": "display_data"
    },
    {
     "data": {
      "text/html": [
       "r=-0.22; p-value=0.1128"
      ],
      "text/plain": [
       "<IPython.core.display.HTML object>"
      ]
     },
     "metadata": {},
     "output_type": "display_data"
    },
    {
     "data": {
      "text/html": [
       "rho=-0.25; p-value=0.0617"
      ],
      "text/plain": [
       "<IPython.core.display.HTML object>"
      ]
     },
     "metadata": {},
     "output_type": "display_data"
    },
    {
     "data": {
      "image/png": "[encoded data removed]",
      "text/plain": [
       "<Figure size 432x288 with 1 Axes>"
      ]
     },
     "metadata": {
      "needs_background": "light"
     },
     "output_type": "display_data"
    },
    {
     "name": "stdout",
     "output_type": "stream",
     "text": [
      "negative affect_association-test_z_FDR_0.01.nii.gz\n",
      "/gpfs/projects/sanlab/shared/DEV/nonbids_data/fMRI/ml/SST/regress_sr_RTFS_factor_1/post_failed_stop_cg_w_supplementary/regress_sr_no_zscore_RTFS_factor_1_84subs_negative affect_association-test_z_FDR_0.pkl\n"
     ]
    },
    {
     "data": {
      "text/markdown": [
       "## negative affect_association-test_z_FDR_0"
      ],
      "text/plain": [
       "<IPython.core.display.Markdown object>"
      ]
     },
     "metadata": {},
     "output_type": "display_data"
    },
    {
     "name": "stdout",
     "output_type": "stream",
     "text": [
      "/gpfs/projects/sanlab/shared/DEV/nonbids_data/fMRI/ml/SST/regress_sr_RTFS_factor_1/post_failed_stop_cg_w_supplementary/regress_sr_no_zscore_RTFS_factor_1_84subs_negative affect_association-test_z_FDR_0.pkl\n",
      "removed 1 outlying predictions or values\n"
     ]
    },
    {
     "data": {
      "text/html": [
       "y"
      ],
      "text/plain": [
       "<IPython.core.display.HTML object>"
      ]
     },
     "metadata": {},
     "output_type": "display_data"
    },
    {
     "data": {
      "text/html": [
       "r=-0.22; p-value=0.1083"
      ],
      "text/plain": [
       "<IPython.core.display.HTML object>"
      ]
     },
     "metadata": {},
     "output_type": "display_data"
    },
    {
     "data": {
      "text/html": [
       "rho=-0.21; p-value=0.1294"
      ],
      "text/plain": [
       "<IPython.core.display.HTML object>"
      ]
     },
     "metadata": {},
     "output_type": "display_data"
    },
    {
     "data": {
      "image/png": "[encoded data removed]",
      "text/plain": [
       "<Figure size 432x288 with 1 Axes>"
      ]
     },
     "metadata": {
      "needs_background": "light"
     },
     "output_type": "display_data"
    },
    {
     "name": "stdout",
     "output_type": "stream",
     "text": [
      "emotion regulation_association-test_z_FDR_0.01.nii.gz\n",
      "/gpfs/projects/sanlab/shared/DEV/nonbids_data/fMRI/ml/SST/regress_sr_RTFS_factor_1/post_failed_stop_cg_w_supplementary/regress_sr_no_zscore_RTFS_factor_1_84subs_emotion regulation_association-test_z_FDR_0.pkl\n"
     ]
    },
    {
     "data": {
      "text/markdown": [
       "## emotion regulation_association-test_z_FDR_0"
      ],
      "text/plain": [
       "<IPython.core.display.Markdown object>"
      ]
     },
     "metadata": {},
     "output_type": "display_data"
    },
    {
     "name": "stdout",
     "output_type": "stream",
     "text": [
      "/gpfs/projects/sanlab/shared/DEV/nonbids_data/fMRI/ml/SST/regress_sr_RTFS_factor_1/post_failed_stop_cg_w_supplementary/regress_sr_no_zscore_RTFS_factor_1_84subs_emotion regulation_association-test_z_FDR_0.pkl\n",
      "removed 4 outlying predictions or values\n"
     ]
    },
    {
     "data": {
      "text/html": [
       "y"
      ],
      "text/plain": [
       "<IPython.core.display.HTML object>"
      ]
     },
     "metadata": {},
     "output_type": "display_data"
    },
    {
     "data": {
      "text/html": [
       "r=-0.29; p-value=0.0406"
      ],
      "text/plain": [
       "<IPython.core.display.HTML object>"
      ]
     },
     "metadata": {},
     "output_type": "display_data"
    },
    {
     "data": {
      "text/html": [
       "rho=-0.26; p-value=0.0611"
      ],
      "text/plain": [
       "<IPython.core.display.HTML object>"
      ]
     },
     "metadata": {},
     "output_type": "display_data"
    },
    {
     "data": {
      "image/png": "[encoded data removed]",
      "text/plain": [
       "<Figure size 432x288 with 1 Axes>"
      ]
     },
     "metadata": {
      "needs_background": "light"
     },
     "output_type": "display_data"
    },
    {
     "name": "stdout",
     "output_type": "stream",
     "text": [
      "harvardoxford-cortical_prob_Frontal Medial Cortex.nii.gz\n",
      "/gpfs/projects/sanlab/shared/DEV/nonbids_data/fMRI/ml/SST/regress_sr_RTFS_factor_1/post_failed_stop_cg_w_supplementary/regress_sr_no_zscore_RTFS_factor_1_84subs_harvardoxford-cortical_prob_Frontal Medial Cortex.pkl\n"
     ]
    },
    {
     "data": {
      "text/markdown": [
       "## harvardoxford-cortical_prob_Frontal Medial Cortex"
      ],
      "text/plain": [
       "<IPython.core.display.Markdown object>"
      ]
     },
     "metadata": {},
     "output_type": "display_data"
    },
    {
     "name": "stdout",
     "output_type": "stream",
     "text": [
      "/gpfs/projects/sanlab/shared/DEV/nonbids_data/fMRI/ml/SST/regress_sr_RTFS_factor_1/post_failed_stop_cg_w_supplementary/regress_sr_no_zscore_RTFS_factor_1_84subs_harvardoxford-cortical_prob_Frontal Medial Cortex.pkl\n",
      "removed 2 outlying predictions or values\n"
     ]
    },
    {
     "data": {
      "text/html": [
       "y"
      ],
      "text/plain": [
       "<IPython.core.display.HTML object>"
      ]
     },
     "metadata": {},
     "output_type": "display_data"
    },
    {
     "data": {
      "text/html": [
       "r=0.07; p-value=0.5919"
      ],
      "text/plain": [
       "<IPython.core.display.HTML object>"
      ]
     },
     "metadata": {},
     "output_type": "display_data"
    },
    {
     "data": {
      "text/html": [
       "rho=0.06; p-value=0.6560"
      ],
      "text/plain": [
       "<IPython.core.display.HTML object>"
      ]
     },
     "metadata": {},
     "output_type": "display_data"
    },
    {
     "data": {
      "image/png": "[encoded data removed]",
      "text/plain": [
       "<Figure size 432x288 with 1 Axes>"
      ]
     },
     "metadata": {
      "needs_background": "light"
     },
     "output_type": "display_data"
    },
    {
     "name": "stdout",
     "output_type": "stream",
     "text": [
      "negative emotions_association-test_z_FDR_0.01.nii.gz\n",
      "/gpfs/projects/sanlab/shared/DEV/nonbids_data/fMRI/ml/SST/regress_sr_RTFS_factor_1/post_failed_stop_cg_w_supplementary/regress_sr_no_zscore_RTFS_factor_1_84subs_negative emotions_association-test_z_FDR_0.pkl\n"
     ]
    },
    {
     "data": {
      "text/markdown": [
       "## negative emotions_association-test_z_FDR_0"
      ],
      "text/plain": [
       "<IPython.core.display.Markdown object>"
      ]
     },
     "metadata": {},
     "output_type": "display_data"
    },
    {
     "name": "stdout",
     "output_type": "stream",
     "text": [
      "/gpfs/projects/sanlab/shared/DEV/nonbids_data/fMRI/ml/SST/regress_sr_RTFS_factor_1/post_failed_stop_cg_w_supplementary/regress_sr_no_zscore_RTFS_factor_1_84subs_negative emotions_association-test_z_FDR_0.pkl\n",
      "removed 1 outlying predictions or values\n"
     ]
    },
    {
     "data": {
      "text/html": [
       "y"
      ],
      "text/plain": [
       "<IPython.core.display.HTML object>"
      ]
     },
     "metadata": {},
     "output_type": "display_data"
    },
    {
     "data": {
      "text/html": [
       "r=0.00; p-value=0.9979"
      ],
      "text/plain": [
       "<IPython.core.display.HTML object>"
      ]
     },
     "metadata": {},
     "output_type": "display_data"
    },
    {
     "data": {
      "text/html": [
       "rho=0.04; p-value=0.7575"
      ],
      "text/plain": [
       "<IPython.core.display.HTML object>"
      ]
     },
     "metadata": {},
     "output_type": "display_data"
    },
    {
     "data": {
      "image/png": "[encoded data removed]",
      "text/plain": [
       "<Figure size 432x288 with 1 Axes>"
      ]
     },
     "metadata": {
      "needs_background": "light"
     },
     "output_type": "display_data"
    },
    {
     "name": "stdout",
     "output_type": "stream",
     "text": [
      "self referential_association-test_z_FDR_0.01.nii.gz\n",
      "/gpfs/projects/sanlab/shared/DEV/nonbids_data/fMRI/ml/SST/regress_sr_RTFS_factor_1/post_failed_stop_cg_w_supplementary/regress_sr_no_zscore_RTFS_factor_1_84subs_self referential_association-test_z_FDR_0.pkl\n"
     ]
    },
    {
     "data": {
      "text/markdown": [
       "## self referential_association-test_z_FDR_0"
      ],
      "text/plain": [
       "<IPython.core.display.Markdown object>"
      ]
     },
     "metadata": {},
     "output_type": "display_data"
    },
    {
     "name": "stdout",
     "output_type": "stream",
     "text": [
      "/gpfs/projects/sanlab/shared/DEV/nonbids_data/fMRI/ml/SST/regress_sr_RTFS_factor_1/post_failed_stop_cg_w_supplementary/regress_sr_no_zscore_RTFS_factor_1_84subs_self referential_association-test_z_FDR_0.pkl\n",
      "removed 1 outlying predictions or values\n"
     ]
    },
    {
     "data": {
      "text/html": [
       "y"
      ],
      "text/plain": [
       "<IPython.core.display.HTML object>"
      ]
     },
     "metadata": {},
     "output_type": "display_data"
    },
    {
     "data": {
      "text/html": [
       "r=-0.21; p-value=0.1303"
      ],
      "text/plain": [
       "<IPython.core.display.HTML object>"
      ]
     },
     "metadata": {},
     "output_type": "display_data"
    },
    {
     "data": {
      "text/html": [
       "rho=-0.20; p-value=0.1402"
      ],
      "text/plain": [
       "<IPython.core.display.HTML object>"
      ]
     },
     "metadata": {},
     "output_type": "display_data"
    },
    {
     "data": {
      "image/png": "[encoded data removed]",
      "text/plain": [
       "<Figure size 432x288 with 1 Axes>"
      ]
     },
     "metadata": {
      "needs_background": "light"
     },
     "output_type": "display_data"
    },
    {
     "name": "stdout",
     "output_type": "stream",
     "text": [
      "harvardoxford-cortical_prob_Frontal Orbital Cortex.nii.gz\n",
      "/gpfs/projects/sanlab/shared/DEV/nonbids_data/fMRI/ml/SST/regress_sr_RTFS_factor_1/post_correct_stop_cg_w_supplementary/regress_sr_no_zscore_RTFS_factor_1_84subs_harvardoxford-cortical_prob_Frontal Orbital Cortex.pkl\n"
     ]
    },
    {
     "data": {
      "text/markdown": [
       "## harvardoxford-cortical_prob_Frontal Orbital Cortex"
      ],
      "text/plain": [
       "<IPython.core.display.Markdown object>"
      ]
     },
     "metadata": {},
     "output_type": "display_data"
    },
    {
     "name": "stdout",
     "output_type": "stream",
     "text": [
      "/gpfs/projects/sanlab/shared/DEV/nonbids_data/fMRI/ml/SST/regress_sr_RTFS_factor_1/post_correct_stop_cg_w_supplementary/regress_sr_no_zscore_RTFS_factor_1_84subs_harvardoxford-cortical_prob_Frontal Orbital Cortex.pkl\n",
      "removed 1 outlying predictions or values\n"
     ]
    },
    {
     "data": {
      "text/html": [
       "y"
      ],
      "text/plain": [
       "<IPython.core.display.HTML object>"
      ]
     },
     "metadata": {},
     "output_type": "display_data"
    },
    {
     "data": {
      "text/html": [
       "r=0.10; p-value=0.4865"
      ],
      "text/plain": [
       "<IPython.core.display.HTML object>"
      ]
     },
     "metadata": {},
     "output_type": "display_data"
    },
    {
     "data": {
      "text/html": [
       "rho=0.09; p-value=0.4911"
      ],
      "text/plain": [
       "<IPython.core.display.HTML object>"
      ]
     },
     "metadata": {},
     "output_type": "display_data"
    },
    {
     "data": {
      "image/png": "[encoded data removed]",
      "text/plain": [
       "<Figure size 432x288 with 1 Axes>"
      ]
     },
     "metadata": {
      "needs_background": "light"
     },
     "output_type": "display_data"
    },
    {
     "name": "stdout",
     "output_type": "stream",
     "text": [
      "harvardoxford-cortical_prob_Cingulate Gyrus, anterior division.nii.gz\n",
      "/gpfs/projects/sanlab/shared/DEV/nonbids_data/fMRI/ml/SST/regress_sr_RTFS_factor_1/post_correct_stop_cg_w_supplementary/regress_sr_no_zscore_RTFS_factor_1_84subs_harvardoxford-cortical_prob_Cingulate Gyrus, anterior division.pkl\n"
     ]
    },
    {
     "data": {
      "text/markdown": [
       "## harvardoxford-cortical_prob_Cingulate Gyrus, anterior division"
      ],
      "text/plain": [
       "<IPython.core.display.Markdown object>"
      ]
     },
     "metadata": {},
     "output_type": "display_data"
    },
    {
     "name": "stdout",
     "output_type": "stream",
     "text": [
      "/gpfs/projects/sanlab/shared/DEV/nonbids_data/fMRI/ml/SST/regress_sr_RTFS_factor_1/post_correct_stop_cg_w_supplementary/regress_sr_no_zscore_RTFS_factor_1_84subs_harvardoxford-cortical_prob_Cingulate Gyrus, anterior division.pkl\n",
      "removed 1 outlying predictions or values\n"
     ]
    },
    {
     "data": {
      "text/html": [
       "y"
      ],
      "text/plain": [
       "<IPython.core.display.HTML object>"
      ]
     },
     "metadata": {},
     "output_type": "display_data"
    },
    {
     "data": {
      "text/html": [
       "r=-0.30; p-value=0.0270"
      ],
      "text/plain": [
       "<IPython.core.display.HTML object>"
      ]
     },
     "metadata": {},
     "output_type": "display_data"
    },
    {
     "data": {
      "text/html": [
       "rho=-0.29; p-value=0.0317"
      ],
      "text/plain": [
       "<IPython.core.display.HTML object>"
      ]
     },
     "metadata": {},
     "output_type": "display_data"
    },
    {
     "data": {
      "image/png": "[encoded data removed]",
      "text/plain": [
       "<Figure size 432x288 with 1 Axes>"
      ]
     },
     "metadata": {
      "needs_background": "light"
     },
     "output_type": "display_data"
    },
    {
     "name": "stdout",
     "output_type": "stream",
     "text": [
      "negative affect_association-test_z_FDR_0.01.nii.gz\n",
      "/gpfs/projects/sanlab/shared/DEV/nonbids_data/fMRI/ml/SST/regress_sr_RTFS_factor_1/post_correct_stop_cg_w_supplementary/regress_sr_no_zscore_RTFS_factor_1_84subs_negative affect_association-test_z_FDR_0.pkl\n"
     ]
    },
    {
     "data": {
      "text/markdown": [
       "## negative affect_association-test_z_FDR_0"
      ],
      "text/plain": [
       "<IPython.core.display.Markdown object>"
      ]
     },
     "metadata": {},
     "output_type": "display_data"
    },
    {
     "name": "stdout",
     "output_type": "stream",
     "text": [
      "/gpfs/projects/sanlab/shared/DEV/nonbids_data/fMRI/ml/SST/regress_sr_RTFS_factor_1/post_correct_stop_cg_w_supplementary/regress_sr_no_zscore_RTFS_factor_1_84subs_negative affect_association-test_z_FDR_0.pkl\n"
     ]
    },
    {
     "data": {
      "text/html": [
       "y"
      ],
      "text/plain": [
       "<IPython.core.display.HTML object>"
      ]
     },
     "metadata": {},
     "output_type": "display_data"
    },
    {
     "data": {
      "text/html": [
       "r=0.00; p-value=0.9926"
      ],
      "text/plain": [
       "<IPython.core.display.HTML object>"
      ]
     },
     "metadata": {},
     "output_type": "display_data"
    },
    {
     "data": {
      "text/html": [
       "rho=0.00; p-value=0.9962"
      ],
      "text/plain": [
       "<IPython.core.display.HTML object>"
      ]
     },
     "metadata": {},
     "output_type": "display_data"
    },
    {
     "data": {
      "image/png": "[encoded data removed]",
      "text/plain": [
       "<Figure size 432x288 with 1 Axes>"
      ]
     },
     "metadata": {
      "needs_background": "light"
     },
     "output_type": "display_data"
    },
    {
     "name": "stdout",
     "output_type": "stream",
     "text": [
      "emotion regulation_association-test_z_FDR_0.01.nii.gz\n",
      "/gpfs/projects/sanlab/shared/DEV/nonbids_data/fMRI/ml/SST/regress_sr_RTFS_factor_1/post_correct_stop_cg_w_supplementary/regress_sr_no_zscore_RTFS_factor_1_84subs_emotion regulation_association-test_z_FDR_0.pkl\n"
     ]
    },
    {
     "data": {
      "text/markdown": [
       "## emotion regulation_association-test_z_FDR_0"
      ],
      "text/plain": [
       "<IPython.core.display.Markdown object>"
      ]
     },
     "metadata": {},
     "output_type": "display_data"
    },
    {
     "name": "stdout",
     "output_type": "stream",
     "text": [
      "/gpfs/projects/sanlab/shared/DEV/nonbids_data/fMRI/ml/SST/regress_sr_RTFS_factor_1/post_correct_stop_cg_w_supplementary/regress_sr_no_zscore_RTFS_factor_1_84subs_emotion regulation_association-test_z_FDR_0.pkl\n"
     ]
    },
    {
     "data": {
      "text/html": [
       "y"
      ],
      "text/plain": [
       "<IPython.core.display.HTML object>"
      ]
     },
     "metadata": {},
     "output_type": "display_data"
    },
    {
     "data": {
      "text/html": [
       "r=-0.18; p-value=0.1894"
      ],
      "text/plain": [
       "<IPython.core.display.HTML object>"
      ]
     },
     "metadata": {},
     "output_type": "display_data"
    },
    {
     "data": {
      "text/html": [
       "rho=-0.11; p-value=0.4002"
      ],
      "text/plain": [
       "<IPython.core.display.HTML object>"
      ]
     },
     "metadata": {},
     "output_type": "display_data"
    },
    {
     "data": {
      "image/png": "[encoded data removed]",
      "text/plain": [
       "<Figure size 432x288 with 1 Axes>"
      ]
     },
     "metadata": {
      "needs_background": "light"
     },
     "output_type": "display_data"
    },
    {
     "name": "stdout",
     "output_type": "stream",
     "text": [
      "harvardoxford-cortical_prob_Frontal Medial Cortex.nii.gz\n",
      "/gpfs/projects/sanlab/shared/DEV/nonbids_data/fMRI/ml/SST/regress_sr_RTFS_factor_1/post_correct_stop_cg_w_supplementary/regress_sr_no_zscore_RTFS_factor_1_84subs_harvardoxford-cortical_prob_Frontal Medial Cortex.pkl\n"
     ]
    },
    {
     "data": {
      "text/markdown": [
       "## harvardoxford-cortical_prob_Frontal Medial Cortex"
      ],
      "text/plain": [
       "<IPython.core.display.Markdown object>"
      ]
     },
     "metadata": {},
     "output_type": "display_data"
    },
    {
     "name": "stdout",
     "output_type": "stream",
     "text": [
      "/gpfs/projects/sanlab/shared/DEV/nonbids_data/fMRI/ml/SST/regress_sr_RTFS_factor_1/post_correct_stop_cg_w_supplementary/regress_sr_no_zscore_RTFS_factor_1_84subs_harvardoxford-cortical_prob_Frontal Medial Cortex.pkl\n"
     ]
    },
    {
     "data": {
      "text/html": [
       "y"
      ],
      "text/plain": [
       "<IPython.core.display.HTML object>"
      ]
     },
     "metadata": {},
     "output_type": "display_data"
    },
    {
     "data": {
      "text/html": [
       "r=-0.19; p-value=0.1588"
      ],
      "text/plain": [
       "<IPython.core.display.HTML object>"
      ]
     },
     "metadata": {},
     "output_type": "display_data"
    },
    {
     "data": {
      "text/html": [
       "rho=-0.15; p-value=0.2767"
      ],
      "text/plain": [
       "<IPython.core.display.HTML object>"
      ]
     },
     "metadata": {},
     "output_type": "display_data"
    },
    {
     "data": {
      "image/png": "[encoded data removed]",
      "text/plain": [
       "<Figure size 432x288 with 1 Axes>"
      ]
     },
     "metadata": {
      "needs_background": "light"
     },
     "output_type": "display_data"
    },
    {
     "name": "stdout",
     "output_type": "stream",
     "text": [
      "negative emotions_association-test_z_FDR_0.01.nii.gz\n",
      "/gpfs/projects/sanlab/shared/DEV/nonbids_data/fMRI/ml/SST/regress_sr_RTFS_factor_1/post_correct_stop_cg_w_supplementary/regress_sr_no_zscore_RTFS_factor_1_84subs_negative emotions_association-test_z_FDR_0.pkl\n"
     ]
    },
    {
     "data": {
      "text/markdown": [
       "## negative emotions_association-test_z_FDR_0"
      ],
      "text/plain": [
       "<IPython.core.display.Markdown object>"
      ]
     },
     "metadata": {},
     "output_type": "display_data"
    },
    {
     "name": "stdout",
     "output_type": "stream",
     "text": [
      "/gpfs/projects/sanlab/shared/DEV/nonbids_data/fMRI/ml/SST/regress_sr_RTFS_factor_1/post_correct_stop_cg_w_supplementary/regress_sr_no_zscore_RTFS_factor_1_84subs_negative emotions_association-test_z_FDR_0.pkl\n",
      "removed 1 outlying predictions or values\n"
     ]
    },
    {
     "data": {
      "text/html": [
       "y"
      ],
      "text/plain": [
       "<IPython.core.display.HTML object>"
      ]
     },
     "metadata": {},
     "output_type": "display_data"
    },
    {
     "data": {
      "text/html": [
       "r=-0.29; p-value=0.0289"
      ],
      "text/plain": [
       "<IPython.core.display.HTML object>"
      ]
     },
     "metadata": {},
     "output_type": "display_data"
    },
    {
     "data": {
      "text/html": [
       "rho=-0.31; p-value=0.0197"
      ],
      "text/plain": [
       "<IPython.core.display.HTML object>"
      ]
     },
     "metadata": {},
     "output_type": "display_data"
    },
    {
     "data": {
      "image/png": "[encoded data removed]",
      "text/plain": [
       "<Figure size 432x288 with 1 Axes>"
      ]
     },
     "metadata": {
      "needs_background": "light"
     },
     "output_type": "display_data"
    },
    {
     "name": "stdout",
     "output_type": "stream",
     "text": [
      "self referential_association-test_z_FDR_0.01.nii.gz\n",
      "/gpfs/projects/sanlab/shared/DEV/nonbids_data/fMRI/ml/SST/regress_sr_RTFS_factor_1/post_correct_stop_cg_w_supplementary/regress_sr_no_zscore_RTFS_factor_1_84subs_self referential_association-test_z_FDR_0.pkl\n"
     ]
    },
    {
     "data": {
      "text/markdown": [
       "## self referential_association-test_z_FDR_0"
      ],
      "text/plain": [
       "<IPython.core.display.Markdown object>"
      ]
     },
     "metadata": {},
     "output_type": "display_data"
    },
    {
     "name": "stdout",
     "output_type": "stream",
     "text": [
      "/gpfs/projects/sanlab/shared/DEV/nonbids_data/fMRI/ml/SST/regress_sr_RTFS_factor_1/post_correct_stop_cg_w_supplementary/regress_sr_no_zscore_RTFS_factor_1_84subs_self referential_association-test_z_FDR_0.pkl\n"
     ]
    },
    {
     "data": {
      "text/html": [
       "y"
      ],
      "text/plain": [
       "<IPython.core.display.HTML object>"
      ]
     },
     "metadata": {},
     "output_type": "display_data"
    },
    {
     "data": {
      "text/html": [
       "r=-0.42; p-value=0.0015"
      ],
      "text/plain": [
       "<IPython.core.display.HTML object>"
      ]
     },
     "metadata": {},
     "output_type": "display_data"
    },
    {
     "data": {
      "text/html": [
       "rho=-0.37; p-value=0.0051"
      ],
      "text/plain": [
       "<IPython.core.display.HTML object>"
      ]
     },
     "metadata": {},
     "output_type": "display_data"
    },
    {
     "data": {
      "image/png": "[encoded data removed]",
      "text/plain": [
       "<Figure size 432x288 with 1 Axes>"
      ]
     },
     "metadata": {
      "needs_background": "light"
     },
     "output_type": "display_data"
    },
    {
     "name": "stdout",
     "output_type": "stream",
     "text": [
      "harvardoxford-cortical_prob_Frontal Orbital Cortex.nii.gz\n",
      "/gpfs/projects/sanlab/shared/DEV/nonbids_data/fMRI/ml/SST/regress_sr_RTFS_factor_2/post_stop_cg_spatially_concatenated/regress_sr_no_zscore_RTFS_factor_2_84subs_harvardoxford-cortical_prob_Frontal Orbital Cortex.pkl\n"
     ]
    },
    {
     "data": {
      "text/markdown": [
       "## harvardoxford-cortical_prob_Frontal Orbital Cortex"
      ],
      "text/plain": [
       "<IPython.core.display.Markdown object>"
      ]
     },
     "metadata": {},
     "output_type": "display_data"
    },
    {
     "name": "stdout",
     "output_type": "stream",
     "text": [
      "/gpfs/projects/sanlab/shared/DEV/nonbids_data/fMRI/ml/SST/regress_sr_RTFS_factor_2/post_stop_cg_spatially_concatenated/regress_sr_no_zscore_RTFS_factor_2_84subs_harvardoxford-cortical_prob_Frontal Orbital Cortex.pkl\n"
     ]
    },
    {
     "data": {
      "text/html": [
       "y"
      ],
      "text/plain": [
       "<IPython.core.display.HTML object>"
      ]
     },
     "metadata": {},
     "output_type": "display_data"
    },
    {
     "data": {
      "text/html": [
       "r=-0.39; p-value=0.0030"
      ],
      "text/plain": [
       "<IPython.core.display.HTML object>"
      ]
     },
     "metadata": {},
     "output_type": "display_data"
    },
    {
     "data": {
      "text/html": [
       "rho=-0.36; p-value=0.0054"
      ],
      "text/plain": [
       "<IPython.core.display.HTML object>"
      ]
     },
     "metadata": {},
     "output_type": "display_data"
    },
    {
     "data": {
      "image/png": "[encoded data removed]",
      "text/plain": [
       "<Figure size 432x288 with 1 Axes>"
      ]
     },
     "metadata": {
      "needs_background": "light"
     },
     "output_type": "display_data"
    },
    {
     "name": "stdout",
     "output_type": "stream",
     "text": [
      "harvardoxford-cortical_prob_Cingulate Gyrus, anterior division.nii.gz\n",
      "/gpfs/projects/sanlab/shared/DEV/nonbids_data/fMRI/ml/SST/regress_sr_RTFS_factor_2/post_stop_cg_spatially_concatenated/regress_sr_no_zscore_RTFS_factor_2_84subs_harvardoxford-cortical_prob_Cingulate Gyrus, anterior division.pkl\n"
     ]
    },
    {
     "data": {
      "text/markdown": [
       "## harvardoxford-cortical_prob_Cingulate Gyrus, anterior division"
      ],
      "text/plain": [
       "<IPython.core.display.Markdown object>"
      ]
     },
     "metadata": {},
     "output_type": "display_data"
    },
    {
     "name": "stdout",
     "output_type": "stream",
     "text": [
      "/gpfs/projects/sanlab/shared/DEV/nonbids_data/fMRI/ml/SST/regress_sr_RTFS_factor_2/post_stop_cg_spatially_concatenated/regress_sr_no_zscore_RTFS_factor_2_84subs_harvardoxford-cortical_prob_Cingulate Gyrus, anterior division.pkl\n"
     ]
    },
    {
     "data": {
      "text/html": [
       "y"
      ],
      "text/plain": [
       "<IPython.core.display.HTML object>"
      ]
     },
     "metadata": {},
     "output_type": "display_data"
    },
    {
     "data": {
      "text/html": [
       "r=0.16; p-value=0.2364"
      ],
      "text/plain": [
       "<IPython.core.display.HTML object>"
      ]
     },
     "metadata": {},
     "output_type": "display_data"
    },
    {
     "data": {
      "text/html": [
       "rho=0.14; p-value=0.3037"
      ],
      "text/plain": [
       "<IPython.core.display.HTML object>"
      ]
     },
     "metadata": {},
     "output_type": "display_data"
    },
    {
     "data": {
      "image/png": "[encoded data removed]",
      "text/plain": [
       "<Figure size 432x288 with 1 Axes>"
      ]
     },
     "metadata": {
      "needs_background": "light"
     },
     "output_type": "display_data"
    },
    {
     "name": "stdout",
     "output_type": "stream",
     "text": [
      "negative affect_association-test_z_FDR_0.01.nii.gz\n",
      "/gpfs/projects/sanlab/shared/DEV/nonbids_data/fMRI/ml/SST/regress_sr_RTFS_factor_2/post_stop_cg_spatially_concatenated/regress_sr_no_zscore_RTFS_factor_2_84subs_negative affect_association-test_z_FDR_0.pkl\n"
     ]
    },
    {
     "data": {
      "text/markdown": [
       "## negative affect_association-test_z_FDR_0"
      ],
      "text/plain": [
       "<IPython.core.display.Markdown object>"
      ]
     },
     "metadata": {},
     "output_type": "display_data"
    },
    {
     "name": "stdout",
     "output_type": "stream",
     "text": [
      "/gpfs/projects/sanlab/shared/DEV/nonbids_data/fMRI/ml/SST/regress_sr_RTFS_factor_2/post_stop_cg_spatially_concatenated/regress_sr_no_zscore_RTFS_factor_2_84subs_negative affect_association-test_z_FDR_0.pkl\n"
     ]
    },
    {
     "data": {
      "text/html": [
       "y"
      ],
      "text/plain": [
       "<IPython.core.display.HTML object>"
      ]
     },
     "metadata": {},
     "output_type": "display_data"
    },
    {
     "data": {
      "text/html": [
       "r=-0.04; p-value=0.7397"
      ],
      "text/plain": [
       "<IPython.core.display.HTML object>"
      ]
     },
     "metadata": {},
     "output_type": "display_data"
    },
    {
     "data": {
      "text/html": [
       "rho=-0.08; p-value=0.5372"
      ],
      "text/plain": [
       "<IPython.core.display.HTML object>"
      ]
     },
     "metadata": {},
     "output_type": "display_data"
    },
    {
     "data": {
      "image/png": "[encoded data removed]",
      "text/plain": [
       "<Figure size 432x288 with 1 Axes>"
      ]
     },
     "metadata": {
      "needs_background": "light"
     },
     "output_type": "display_data"
    },
    {
     "name": "stdout",
     "output_type": "stream",
     "text": [
      "emotion regulation_association-test_z_FDR_0.01.nii.gz\n",
      "/gpfs/projects/sanlab/shared/DEV/nonbids_data/fMRI/ml/SST/regress_sr_RTFS_factor_2/post_stop_cg_spatially_concatenated/regress_sr_no_zscore_RTFS_factor_2_84subs_emotion regulation_association-test_z_FDR_0.pkl\n"
     ]
    },
    {
     "data": {
      "text/markdown": [
       "## emotion regulation_association-test_z_FDR_0"
      ],
      "text/plain": [
       "<IPython.core.display.Markdown object>"
      ]
     },
     "metadata": {},
     "output_type": "display_data"
    },
    {
     "name": "stdout",
     "output_type": "stream",
     "text": [
      "/gpfs/projects/sanlab/shared/DEV/nonbids_data/fMRI/ml/SST/regress_sr_RTFS_factor_2/post_stop_cg_spatially_concatenated/regress_sr_no_zscore_RTFS_factor_2_84subs_emotion regulation_association-test_z_FDR_0.pkl\n",
      "removed 1 outlying predictions or values\n"
     ]
    },
    {
     "data": {
      "text/html": [
       "y"
      ],
      "text/plain": [
       "<IPython.core.display.HTML object>"
      ]
     },
     "metadata": {},
     "output_type": "display_data"
    },
    {
     "data": {
      "text/html": [
       "r=-0.22; p-value=0.1075"
      ],
      "text/plain": [
       "<IPython.core.display.HTML object>"
      ]
     },
     "metadata": {},
     "output_type": "display_data"
    },
    {
     "data": {
      "text/html": [
       "rho=-0.16; p-value=0.2254"
      ],
      "text/plain": [
       "<IPython.core.display.HTML object>"
      ]
     },
     "metadata": {},
     "output_type": "display_data"
    },
    {
     "data": {
      "image/png": "[encoded data removed]",
      "text/plain": [
       "<Figure size 432x288 with 1 Axes>"
      ]
     },
     "metadata": {
      "needs_background": "light"
     },
     "output_type": "display_data"
    },
    {
     "name": "stdout",
     "output_type": "stream",
     "text": [
      "harvardoxford-cortical_prob_Frontal Medial Cortex.nii.gz\n",
      "/gpfs/projects/sanlab/shared/DEV/nonbids_data/fMRI/ml/SST/regress_sr_RTFS_factor_2/post_stop_cg_spatially_concatenated/regress_sr_no_zscore_RTFS_factor_2_84subs_harvardoxford-cortical_prob_Frontal Medial Cortex.pkl\n"
     ]
    },
    {
     "data": {
      "text/markdown": [
       "## harvardoxford-cortical_prob_Frontal Medial Cortex"
      ],
      "text/plain": [
       "<IPython.core.display.Markdown object>"
      ]
     },
     "metadata": {},
     "output_type": "display_data"
    },
    {
     "name": "stdout",
     "output_type": "stream",
     "text": [
      "/gpfs/projects/sanlab/shared/DEV/nonbids_data/fMRI/ml/SST/regress_sr_RTFS_factor_2/post_stop_cg_spatially_concatenated/regress_sr_no_zscore_RTFS_factor_2_84subs_harvardoxford-cortical_prob_Frontal Medial Cortex.pkl\n"
     ]
    },
    {
     "data": {
      "text/html": [
       "y"
      ],
      "text/plain": [
       "<IPython.core.display.HTML object>"
      ]
     },
     "metadata": {},
     "output_type": "display_data"
    },
    {
     "data": {
      "text/html": [
       "r=-0.06; p-value=0.6533"
      ],
      "text/plain": [
       "<IPython.core.display.HTML object>"
      ]
     },
     "metadata": {},
     "output_type": "display_data"
    },
    {
     "data": {
      "text/html": [
       "rho=-0.03; p-value=0.8075"
      ],
      "text/plain": [
       "<IPython.core.display.HTML object>"
      ]
     },
     "metadata": {},
     "output_type": "display_data"
    },
    {
     "data": {
      "image/png": "[encoded data removed]",
      "text/plain": [
       "<Figure size 432x288 with 1 Axes>"
      ]
     },
     "metadata": {
      "needs_background": "light"
     },
     "output_type": "display_data"
    },
    {
     "name": "stdout",
     "output_type": "stream",
     "text": [
      "negative emotions_association-test_z_FDR_0.01.nii.gz\n",
      "/gpfs/projects/sanlab/shared/DEV/nonbids_data/fMRI/ml/SST/regress_sr_RTFS_factor_2/post_stop_cg_spatially_concatenated/regress_sr_no_zscore_RTFS_factor_2_84subs_negative emotions_association-test_z_FDR_0.pkl\n"
     ]
    },
    {
     "data": {
      "text/markdown": [
       "## negative emotions_association-test_z_FDR_0"
      ],
      "text/plain": [
       "<IPython.core.display.Markdown object>"
      ]
     },
     "metadata": {},
     "output_type": "display_data"
    },
    {
     "name": "stdout",
     "output_type": "stream",
     "text": [
      "/gpfs/projects/sanlab/shared/DEV/nonbids_data/fMRI/ml/SST/regress_sr_RTFS_factor_2/post_stop_cg_spatially_concatenated/regress_sr_no_zscore_RTFS_factor_2_84subs_negative emotions_association-test_z_FDR_0.pkl\n"
     ]
    },
    {
     "data": {
      "text/html": [
       "y"
      ],
      "text/plain": [
       "<IPython.core.display.HTML object>"
      ]
     },
     "metadata": {},
     "output_type": "display_data"
    },
    {
     "data": {
      "text/html": [
       "r=0.12; p-value=0.3849"
      ],
      "text/plain": [
       "<IPython.core.display.HTML object>"
      ]
     },
     "metadata": {},
     "output_type": "display_data"
    },
    {
     "data": {
      "text/html": [
       "rho=0.08; p-value=0.5487"
      ],
      "text/plain": [
       "<IPython.core.display.HTML object>"
      ]
     },
     "metadata": {},
     "output_type": "display_data"
    },
    {
     "data": {
      "image/png": "[encoded data removed]",
      "text/plain": [
       "<Figure size 432x288 with 1 Axes>"
      ]
     },
     "metadata": {
      "needs_background": "light"
     },
     "output_type": "display_data"
    },
    {
     "name": "stdout",
     "output_type": "stream",
     "text": [
      "self referential_association-test_z_FDR_0.01.nii.gz\n",
      "/gpfs/projects/sanlab/shared/DEV/nonbids_data/fMRI/ml/SST/regress_sr_RTFS_factor_2/post_stop_cg_spatially_concatenated/regress_sr_no_zscore_RTFS_factor_2_84subs_self referential_association-test_z_FDR_0.pkl\n"
     ]
    },
    {
     "data": {
      "text/markdown": [
       "## self referential_association-test_z_FDR_0"
      ],
      "text/plain": [
       "<IPython.core.display.Markdown object>"
      ]
     },
     "metadata": {},
     "output_type": "display_data"
    },
    {
     "name": "stdout",
     "output_type": "stream",
     "text": [
      "/gpfs/projects/sanlab/shared/DEV/nonbids_data/fMRI/ml/SST/regress_sr_RTFS_factor_2/post_stop_cg_spatially_concatenated/regress_sr_no_zscore_RTFS_factor_2_84subs_self referential_association-test_z_FDR_0.pkl\n",
      "removed 1 outlying predictions or values\n"
     ]
    },
    {
     "data": {
      "text/html": [
       "y"
      ],
      "text/plain": [
       "<IPython.core.display.HTML object>"
      ]
     },
     "metadata": {},
     "output_type": "display_data"
    },
    {
     "data": {
      "text/html": [
       "r=-0.13; p-value=0.3316"
      ],
      "text/plain": [
       "<IPython.core.display.HTML object>"
      ]
     },
     "metadata": {},
     "output_type": "display_data"
    },
    {
     "data": {
      "text/html": [
       "rho=-0.12; p-value=0.3614"
      ],
      "text/plain": [
       "<IPython.core.display.HTML object>"
      ]
     },
     "metadata": {},
     "output_type": "display_data"
    },
    {
     "data": {
      "image/png": "[encoded data removed]",
      "text/plain": [
       "<Figure size 432x288 with 1 Axes>"
      ]
     },
     "metadata": {
      "needs_background": "light"
     },
     "output_type": "display_data"
    },
    {
     "name": "stdout",
     "output_type": "stream",
     "text": [
      "harvardoxford-cortical_prob_Frontal Orbital Cortex.nii.gz\n",
      "/gpfs/projects/sanlab/shared/DEV/nonbids_data/fMRI/ml/SST/regress_sr_RTFS_factor_2/post_failed_stop_cg_w_supplementary/regress_sr_no_zscore_RTFS_factor_2_84subs_harvardoxford-cortical_prob_Frontal Orbital Cortex.pkl\n"
     ]
    },
    {
     "data": {
      "text/markdown": [
       "## harvardoxford-cortical_prob_Frontal Orbital Cortex"
      ],
      "text/plain": [
       "<IPython.core.display.Markdown object>"
      ]
     },
     "metadata": {},
     "output_type": "display_data"
    },
    {
     "name": "stdout",
     "output_type": "stream",
     "text": [
      "/gpfs/projects/sanlab/shared/DEV/nonbids_data/fMRI/ml/SST/regress_sr_RTFS_factor_2/post_failed_stop_cg_w_supplementary/regress_sr_no_zscore_RTFS_factor_2_84subs_harvardoxford-cortical_prob_Frontal Orbital Cortex.pkl\n",
      "removed 2 outlying predictions or values\n"
     ]
    },
    {
     "data": {
      "text/html": [
       "y"
      ],
      "text/plain": [
       "<IPython.core.display.HTML object>"
      ]
     },
     "metadata": {},
     "output_type": "display_data"
    },
    {
     "data": {
      "text/html": [
       "r=-0.05; p-value=0.6995"
      ],
      "text/plain": [
       "<IPython.core.display.HTML object>"
      ]
     },
     "metadata": {},
     "output_type": "display_data"
    },
    {
     "data": {
      "text/html": [
       "rho=-0.06; p-value=0.6379"
      ],
      "text/plain": [
       "<IPython.core.display.HTML object>"
      ]
     },
     "metadata": {},
     "output_type": "display_data"
    },
    {
     "data": {
      "image/png": "[encoded data removed]",
      "text/plain": [
       "<Figure size 432x288 with 1 Axes>"
      ]
     },
     "metadata": {
      "needs_background": "light"
     },
     "output_type": "display_data"
    },
    {
     "name": "stdout",
     "output_type": "stream",
     "text": [
      "harvardoxford-cortical_prob_Cingulate Gyrus, anterior division.nii.gz\n",
      "/gpfs/projects/sanlab/shared/DEV/nonbids_data/fMRI/ml/SST/regress_sr_RTFS_factor_2/post_failed_stop_cg_w_supplementary/regress_sr_no_zscore_RTFS_factor_2_84subs_harvardoxford-cortical_prob_Cingulate Gyrus, anterior division.pkl\n"
     ]
    },
    {
     "data": {
      "text/markdown": [
       "## harvardoxford-cortical_prob_Cingulate Gyrus, anterior division"
      ],
      "text/plain": [
       "<IPython.core.display.Markdown object>"
      ]
     },
     "metadata": {},
     "output_type": "display_data"
    },
    {
     "name": "stdout",
     "output_type": "stream",
     "text": [
      "/gpfs/projects/sanlab/shared/DEV/nonbids_data/fMRI/ml/SST/regress_sr_RTFS_factor_2/post_failed_stop_cg_w_supplementary/regress_sr_no_zscore_RTFS_factor_2_84subs_harvardoxford-cortical_prob_Cingulate Gyrus, anterior division.pkl\n"
     ]
    },
    {
     "data": {
      "text/html": [
       "y"
      ],
      "text/plain": [
       "<IPython.core.display.HTML object>"
      ]
     },
     "metadata": {},
     "output_type": "display_data"
    },
    {
     "data": {
      "text/html": [
       "r=-0.01; p-value=0.9130"
      ],
      "text/plain": [
       "<IPython.core.display.HTML object>"
      ]
     },
     "metadata": {},
     "output_type": "display_data"
    },
    {
     "data": {
      "text/html": [
       "rho=-0.05; p-value=0.7109"
      ],
      "text/plain": [
       "<IPython.core.display.HTML object>"
      ]
     },
     "metadata": {},
     "output_type": "display_data"
    },
    {
     "data": {
      "image/png": "[encoded data removed]",
      "text/plain": [
       "<Figure size 432x288 with 1 Axes>"
      ]
     },
     "metadata": {
      "needs_background": "light"
     },
     "output_type": "display_data"
    },
    {
     "name": "stdout",
     "output_type": "stream",
     "text": [
      "negative affect_association-test_z_FDR_0.01.nii.gz\n",
      "/gpfs/projects/sanlab/shared/DEV/nonbids_data/fMRI/ml/SST/regress_sr_RTFS_factor_2/post_failed_stop_cg_w_supplementary/regress_sr_no_zscore_RTFS_factor_2_84subs_negative affect_association-test_z_FDR_0.pkl\n"
     ]
    },
    {
     "data": {
      "text/markdown": [
       "## negative affect_association-test_z_FDR_0"
      ],
      "text/plain": [
       "<IPython.core.display.Markdown object>"
      ]
     },
     "metadata": {},
     "output_type": "display_data"
    },
    {
     "name": "stdout",
     "output_type": "stream",
     "text": [
      "/gpfs/projects/sanlab/shared/DEV/nonbids_data/fMRI/ml/SST/regress_sr_RTFS_factor_2/post_failed_stop_cg_w_supplementary/regress_sr_no_zscore_RTFS_factor_2_84subs_negative affect_association-test_z_FDR_0.pkl\n",
      "removed 1 outlying predictions or values\n"
     ]
    },
    {
     "data": {
      "text/html": [
       "y"
      ],
      "text/plain": [
       "<IPython.core.display.HTML object>"
      ]
     },
     "metadata": {},
     "output_type": "display_data"
    },
    {
     "data": {
      "text/html": [
       "r=0.11; p-value=0.4369"
      ],
      "text/plain": [
       "<IPython.core.display.HTML object>"
      ]
     },
     "metadata": {},
     "output_type": "display_data"
    },
    {
     "data": {
      "text/html": [
       "rho=0.12; p-value=0.3680"
      ],
      "text/plain": [
       "<IPython.core.display.HTML object>"
      ]
     },
     "metadata": {},
     "output_type": "display_data"
    },
    {
     "data": {
      "image/png": "[encoded data removed]",
      "text/plain": [
       "<Figure size 432x288 with 1 Axes>"
      ]
     },
     "metadata": {
      "needs_background": "light"
     },
     "output_type": "display_data"
    },
    {
     "name": "stdout",
     "output_type": "stream",
     "text": [
      "emotion regulation_association-test_z_FDR_0.01.nii.gz\n",
      "/gpfs/projects/sanlab/shared/DEV/nonbids_data/fMRI/ml/SST/regress_sr_RTFS_factor_2/post_failed_stop_cg_w_supplementary/regress_sr_no_zscore_RTFS_factor_2_84subs_emotion regulation_association-test_z_FDR_0.pkl\n"
     ]
    },
    {
     "data": {
      "text/markdown": [
       "## emotion regulation_association-test_z_FDR_0"
      ],
      "text/plain": [
       "<IPython.core.display.Markdown object>"
      ]
     },
     "metadata": {},
     "output_type": "display_data"
    },
    {
     "name": "stdout",
     "output_type": "stream",
     "text": [
      "/gpfs/projects/sanlab/shared/DEV/nonbids_data/fMRI/ml/SST/regress_sr_RTFS_factor_2/post_failed_stop_cg_w_supplementary/regress_sr_no_zscore_RTFS_factor_2_84subs_emotion regulation_association-test_z_FDR_0.pkl\n",
      "removed 1 outlying predictions or values\n"
     ]
    },
    {
     "data": {
      "text/html": [
       "y"
      ],
      "text/plain": [
       "<IPython.core.display.HTML object>"
      ]
     },
     "metadata": {},
     "output_type": "display_data"
    },
    {
     "data": {
      "text/html": [
       "r=-0.01; p-value=0.9238"
      ],
      "text/plain": [
       "<IPython.core.display.HTML object>"
      ]
     },
     "metadata": {},
     "output_type": "display_data"
    },
    {
     "data": {
      "text/html": [
       "rho=-0.03; p-value=0.8198"
      ],
      "text/plain": [
       "<IPython.core.display.HTML object>"
      ]
     },
     "metadata": {},
     "output_type": "display_data"
    },
    {
     "data": {
      "image/png": "[encoded data removed]",
      "text/plain": [
       "<Figure size 432x288 with 1 Axes>"
      ]
     },
     "metadata": {
      "needs_background": "light"
     },
     "output_type": "display_data"
    },
    {
     "name": "stdout",
     "output_type": "stream",
     "text": [
      "harvardoxford-cortical_prob_Frontal Medial Cortex.nii.gz\n",
      "/gpfs/projects/sanlab/shared/DEV/nonbids_data/fMRI/ml/SST/regress_sr_RTFS_factor_2/post_failed_stop_cg_w_supplementary/regress_sr_no_zscore_RTFS_factor_2_84subs_harvardoxford-cortical_prob_Frontal Medial Cortex.pkl\n"
     ]
    },
    {
     "data": {
      "text/markdown": [
       "## harvardoxford-cortical_prob_Frontal Medial Cortex"
      ],
      "text/plain": [
       "<IPython.core.display.Markdown object>"
      ]
     },
     "metadata": {},
     "output_type": "display_data"
    },
    {
     "name": "stdout",
     "output_type": "stream",
     "text": [
      "/gpfs/projects/sanlab/shared/DEV/nonbids_data/fMRI/ml/SST/regress_sr_RTFS_factor_2/post_failed_stop_cg_w_supplementary/regress_sr_no_zscore_RTFS_factor_2_84subs_harvardoxford-cortical_prob_Frontal Medial Cortex.pkl\n",
      "removed 2 outlying predictions or values\n"
     ]
    },
    {
     "data": {
      "text/html": [
       "y"
      ],
      "text/plain": [
       "<IPython.core.display.HTML object>"
      ]
     },
     "metadata": {},
     "output_type": "display_data"
    },
    {
     "data": {
      "text/html": [
       "r=-0.03; p-value=0.8228"
      ],
      "text/plain": [
       "<IPython.core.display.HTML object>"
      ]
     },
     "metadata": {},
     "output_type": "display_data"
    },
    {
     "data": {
      "text/html": [
       "rho=-0.02; p-value=0.9045"
      ],
      "text/plain": [
       "<IPython.core.display.HTML object>"
      ]
     },
     "metadata": {},
     "output_type": "display_data"
    },
    {
     "data": {
      "image/png": "[encoded data removed]",
      "text/plain": [
       "<Figure size 432x288 with 1 Axes>"
      ]
     },
     "metadata": {
      "needs_background": "light"
     },
     "output_type": "display_data"
    },
    {
     "name": "stdout",
     "output_type": "stream",
     "text": [
      "negative emotions_association-test_z_FDR_0.01.nii.gz\n",
      "/gpfs/projects/sanlab/shared/DEV/nonbids_data/fMRI/ml/SST/regress_sr_RTFS_factor_2/post_failed_stop_cg_w_supplementary/regress_sr_no_zscore_RTFS_factor_2_84subs_negative emotions_association-test_z_FDR_0.pkl\n"
     ]
    },
    {
     "data": {
      "text/markdown": [
       "## negative emotions_association-test_z_FDR_0"
      ],
      "text/plain": [
       "<IPython.core.display.Markdown object>"
      ]
     },
     "metadata": {},
     "output_type": "display_data"
    },
    {
     "name": "stdout",
     "output_type": "stream",
     "text": [
      "/gpfs/projects/sanlab/shared/DEV/nonbids_data/fMRI/ml/SST/regress_sr_RTFS_factor_2/post_failed_stop_cg_w_supplementary/regress_sr_no_zscore_RTFS_factor_2_84subs_negative emotions_association-test_z_FDR_0.pkl\n"
     ]
    },
    {
     "data": {
      "text/html": [
       "y"
      ],
      "text/plain": [
       "<IPython.core.display.HTML object>"
      ]
     },
     "metadata": {},
     "output_type": "display_data"
    },
    {
     "data": {
      "text/html": [
       "r=-0.06; p-value=0.6707"
      ],
      "text/plain": [
       "<IPython.core.display.HTML object>"
      ]
     },
     "metadata": {},
     "output_type": "display_data"
    },
    {
     "data": {
      "text/html": [
       "rho=-0.11; p-value=0.4227"
      ],
      "text/plain": [
       "<IPython.core.display.HTML object>"
      ]
     },
     "metadata": {},
     "output_type": "display_data"
    },
    {
     "data": {
      "image/png": "[encoded data removed]",
      "text/plain": [
       "<Figure size 432x288 with 1 Axes>"
      ]
     },
     "metadata": {
      "needs_background": "light"
     },
     "output_type": "display_data"
    },
    {
     "name": "stdout",
     "output_type": "stream",
     "text": [
      "self referential_association-test_z_FDR_0.01.nii.gz\n",
      "/gpfs/projects/sanlab/shared/DEV/nonbids_data/fMRI/ml/SST/regress_sr_RTFS_factor_2/post_failed_stop_cg_w_supplementary/regress_sr_no_zscore_RTFS_factor_2_84subs_self referential_association-test_z_FDR_0.pkl\n"
     ]
    },
    {
     "data": {
      "text/markdown": [
       "## self referential_association-test_z_FDR_0"
      ],
      "text/plain": [
       "<IPython.core.display.Markdown object>"
      ]
     },
     "metadata": {},
     "output_type": "display_data"
    },
    {
     "name": "stdout",
     "output_type": "stream",
     "text": [
      "/gpfs/projects/sanlab/shared/DEV/nonbids_data/fMRI/ml/SST/regress_sr_RTFS_factor_2/post_failed_stop_cg_w_supplementary/regress_sr_no_zscore_RTFS_factor_2_84subs_self referential_association-test_z_FDR_0.pkl\n",
      "removed 1 outlying predictions or values\n"
     ]
    },
    {
     "data": {
      "text/html": [
       "y"
      ],
      "text/plain": [
       "<IPython.core.display.HTML object>"
      ]
     },
     "metadata": {},
     "output_type": "display_data"
    },
    {
     "data": {
      "text/html": [
       "r=-0.27; p-value=0.0443"
      ],
      "text/plain": [
       "<IPython.core.display.HTML object>"
      ]
     },
     "metadata": {},
     "output_type": "display_data"
    },
    {
     "data": {
      "text/html": [
       "rho=-0.28; p-value=0.0397"
      ],
      "text/plain": [
       "<IPython.core.display.HTML object>"
      ]
     },
     "metadata": {},
     "output_type": "display_data"
    },
    {
     "data": {
      "image/png": "[encoded data removed]",
      "text/plain": [
       "<Figure size 432x288 with 1 Axes>"
      ]
     },
     "metadata": {
      "needs_background": "light"
     },
     "output_type": "display_data"
    },
    {
     "name": "stdout",
     "output_type": "stream",
     "text": [
      "harvardoxford-cortical_prob_Frontal Orbital Cortex.nii.gz\n",
      "/gpfs/projects/sanlab/shared/DEV/nonbids_data/fMRI/ml/SST/regress_sr_RTFS_factor_2/post_correct_stop_cg_w_supplementary/regress_sr_no_zscore_RTFS_factor_2_84subs_harvardoxford-cortical_prob_Frontal Orbital Cortex.pkl\n"
     ]
    },
    {
     "data": {
      "text/markdown": [
       "## harvardoxford-cortical_prob_Frontal Orbital Cortex"
      ],
      "text/plain": [
       "<IPython.core.display.Markdown object>"
      ]
     },
     "metadata": {},
     "output_type": "display_data"
    },
    {
     "name": "stdout",
     "output_type": "stream",
     "text": [
      "/gpfs/projects/sanlab/shared/DEV/nonbids_data/fMRI/ml/SST/regress_sr_RTFS_factor_2/post_correct_stop_cg_w_supplementary/regress_sr_no_zscore_RTFS_factor_2_84subs_harvardoxford-cortical_prob_Frontal Orbital Cortex.pkl\n"
     ]
    },
    {
     "data": {
      "text/html": [
       "y"
      ],
      "text/plain": [
       "<IPython.core.display.HTML object>"
      ]
     },
     "metadata": {},
     "output_type": "display_data"
    },
    {
     "data": {
      "text/html": [
       "r=-0.39; p-value=0.0027"
      ],
      "text/plain": [
       "<IPython.core.display.HTML object>"
      ]
     },
     "metadata": {},
     "output_type": "display_data"
    },
    {
     "data": {
      "text/html": [
       "rho=-0.37; p-value=0.0044"
      ],
      "text/plain": [
       "<IPython.core.display.HTML object>"
      ]
     },
     "metadata": {},
     "output_type": "display_data"
    },
    {
     "data": {
      "image/png": "[encoded data removed]",
      "text/plain": [
       "<Figure size 432x288 with 1 Axes>"
      ]
     },
     "metadata": {
      "needs_background": "light"
     },
     "output_type": "display_data"
    },
    {
     "name": "stdout",
     "output_type": "stream",
     "text": [
      "harvardoxford-cortical_prob_Cingulate Gyrus, anterior division.nii.gz\n",
      "/gpfs/projects/sanlab/shared/DEV/nonbids_data/fMRI/ml/SST/regress_sr_RTFS_factor_2/post_correct_stop_cg_w_supplementary/regress_sr_no_zscore_RTFS_factor_2_84subs_harvardoxford-cortical_prob_Cingulate Gyrus, anterior division.pkl\n"
     ]
    },
    {
     "data": {
      "text/markdown": [
       "## harvardoxford-cortical_prob_Cingulate Gyrus, anterior division"
      ],
      "text/plain": [
       "<IPython.core.display.Markdown object>"
      ]
     },
     "metadata": {},
     "output_type": "display_data"
    },
    {
     "name": "stdout",
     "output_type": "stream",
     "text": [
      "/gpfs/projects/sanlab/shared/DEV/nonbids_data/fMRI/ml/SST/regress_sr_RTFS_factor_2/post_correct_stop_cg_w_supplementary/regress_sr_no_zscore_RTFS_factor_2_84subs_harvardoxford-cortical_prob_Cingulate Gyrus, anterior division.pkl\n"
     ]
    },
    {
     "data": {
      "text/html": [
       "y"
      ],
      "text/plain": [
       "<IPython.core.display.HTML object>"
      ]
     },
     "metadata": {},
     "output_type": "display_data"
    },
    {
     "data": {
      "text/html": [
       "r=0.16; p-value=0.2323"
      ],
      "text/plain": [
       "<IPython.core.display.HTML object>"
      ]
     },
     "metadata": {},
     "output_type": "display_data"
    },
    {
     "data": {
      "text/html": [
       "rho=0.15; p-value=0.2498"
      ],
      "text/plain": [
       "<IPython.core.display.HTML object>"
      ]
     },
     "metadata": {},
     "output_type": "display_data"
    },
    {
     "data": {
      "image/png": "[encoded data removed]",
      "text/plain": [
       "<Figure size 432x288 with 1 Axes>"
      ]
     },
     "metadata": {
      "needs_background": "light"
     },
     "output_type": "display_data"
    },
    {
     "name": "stdout",
     "output_type": "stream",
     "text": [
      "negative affect_association-test_z_FDR_0.01.nii.gz\n",
      "/gpfs/projects/sanlab/shared/DEV/nonbids_data/fMRI/ml/SST/regress_sr_RTFS_factor_2/post_correct_stop_cg_w_supplementary/regress_sr_no_zscore_RTFS_factor_2_84subs_negative affect_association-test_z_FDR_0.pkl\n"
     ]
    },
    {
     "data": {
      "text/markdown": [
       "## negative affect_association-test_z_FDR_0"
      ],
      "text/plain": [
       "<IPython.core.display.Markdown object>"
      ]
     },
     "metadata": {},
     "output_type": "display_data"
    },
    {
     "name": "stdout",
     "output_type": "stream",
     "text": [
      "/gpfs/projects/sanlab/shared/DEV/nonbids_data/fMRI/ml/SST/regress_sr_RTFS_factor_2/post_correct_stop_cg_w_supplementary/regress_sr_no_zscore_RTFS_factor_2_84subs_negative affect_association-test_z_FDR_0.pkl\n"
     ]
    },
    {
     "data": {
      "text/html": [
       "y"
      ],
      "text/plain": [
       "<IPython.core.display.HTML object>"
      ]
     },
     "metadata": {},
     "output_type": "display_data"
    },
    {
     "data": {
      "text/html": [
       "r=-0.05; p-value=0.7266"
      ],
      "text/plain": [
       "<IPython.core.display.HTML object>"
      ]
     },
     "metadata": {},
     "output_type": "display_data"
    },
    {
     "data": {
      "text/html": [
       "rho=-0.09; p-value=0.5224"
      ],
      "text/plain": [
       "<IPython.core.display.HTML object>"
      ]
     },
     "metadata": {},
     "output_type": "display_data"
    },
    {
     "data": {
      "image/png": "[encoded data removed]",
      "text/plain": [
       "<Figure size 432x288 with 1 Axes>"
      ]
     },
     "metadata": {
      "needs_background": "light"
     },
     "output_type": "display_data"
    },
    {
     "name": "stdout",
     "output_type": "stream",
     "text": [
      "emotion regulation_association-test_z_FDR_0.01.nii.gz\n",
      "/gpfs/projects/sanlab/shared/DEV/nonbids_data/fMRI/ml/SST/regress_sr_RTFS_factor_2/post_correct_stop_cg_w_supplementary/regress_sr_no_zscore_RTFS_factor_2_84subs_emotion regulation_association-test_z_FDR_0.pkl\n"
     ]
    },
    {
     "data": {
      "text/markdown": [
       "## emotion regulation_association-test_z_FDR_0"
      ],
      "text/plain": [
       "<IPython.core.display.Markdown object>"
      ]
     },
     "metadata": {},
     "output_type": "display_data"
    },
    {
     "name": "stdout",
     "output_type": "stream",
     "text": [
      "/gpfs/projects/sanlab/shared/DEV/nonbids_data/fMRI/ml/SST/regress_sr_RTFS_factor_2/post_correct_stop_cg_w_supplementary/regress_sr_no_zscore_RTFS_factor_2_84subs_emotion regulation_association-test_z_FDR_0.pkl\n",
      "removed 1 outlying predictions or values\n"
     ]
    },
    {
     "data": {
      "text/html": [
       "y"
      ],
      "text/plain": [
       "<IPython.core.display.HTML object>"
      ]
     },
     "metadata": {},
     "output_type": "display_data"
    },
    {
     "data": {
      "text/html": [
       "r=-0.22; p-value=0.1009"
      ],
      "text/plain": [
       "<IPython.core.display.HTML object>"
      ]
     },
     "metadata": {},
     "output_type": "display_data"
    },
    {
     "data": {
      "text/html": [
       "rho=-0.17; p-value=0.2102"
      ],
      "text/plain": [
       "<IPython.core.display.HTML object>"
      ]
     },
     "metadata": {},
     "output_type": "display_data"
    },
    {
     "data": {
      "image/png": "[encoded data removed]",
      "text/plain": [
       "<Figure size 432x288 with 1 Axes>"
      ]
     },
     "metadata": {
      "needs_background": "light"
     },
     "output_type": "display_data"
    },
    {
     "name": "stdout",
     "output_type": "stream",
     "text": [
      "harvardoxford-cortical_prob_Frontal Medial Cortex.nii.gz\n",
      "/gpfs/projects/sanlab/shared/DEV/nonbids_data/fMRI/ml/SST/regress_sr_RTFS_factor_2/post_correct_stop_cg_w_supplementary/regress_sr_no_zscore_RTFS_factor_2_84subs_harvardoxford-cortical_prob_Frontal Medial Cortex.pkl\n"
     ]
    },
    {
     "data": {
      "text/markdown": [
       "## harvardoxford-cortical_prob_Frontal Medial Cortex"
      ],
      "text/plain": [
       "<IPython.core.display.Markdown object>"
      ]
     },
     "metadata": {},
     "output_type": "display_data"
    },
    {
     "name": "stdout",
     "output_type": "stream",
     "text": [
      "/gpfs/projects/sanlab/shared/DEV/nonbids_data/fMRI/ml/SST/regress_sr_RTFS_factor_2/post_correct_stop_cg_w_supplementary/regress_sr_no_zscore_RTFS_factor_2_84subs_harvardoxford-cortical_prob_Frontal Medial Cortex.pkl\n"
     ]
    },
    {
     "data": {
      "text/html": [
       "y"
      ],
      "text/plain": [
       "<IPython.core.display.HTML object>"
      ]
     },
     "metadata": {},
     "output_type": "display_data"
    },
    {
     "data": {
      "text/html": [
       "r=-0.06; p-value=0.6556"
      ],
      "text/plain": [
       "<IPython.core.display.HTML object>"
      ]
     },
     "metadata": {},
     "output_type": "display_data"
    },
    {
     "data": {
      "text/html": [
       "rho=-0.03; p-value=0.8181"
      ],
      "text/plain": [
       "<IPython.core.display.HTML object>"
      ]
     },
     "metadata": {},
     "output_type": "display_data"
    },
    {
     "data": {
      "image/png": "[encoded data removed]",
      "text/plain": [
       "<Figure size 432x288 with 1 Axes>"
      ]
     },
     "metadata": {
      "needs_background": "light"
     },
     "output_type": "display_data"
    },
    {
     "name": "stdout",
     "output_type": "stream",
     "text": [
      "negative emotions_association-test_z_FDR_0.01.nii.gz\n",
      "/gpfs/projects/sanlab/shared/DEV/nonbids_data/fMRI/ml/SST/regress_sr_RTFS_factor_2/post_correct_stop_cg_w_supplementary/regress_sr_no_zscore_RTFS_factor_2_84subs_negative emotions_association-test_z_FDR_0.pkl\n"
     ]
    },
    {
     "data": {
      "text/markdown": [
       "## negative emotions_association-test_z_FDR_0"
      ],
      "text/plain": [
       "<IPython.core.display.Markdown object>"
      ]
     },
     "metadata": {},
     "output_type": "display_data"
    },
    {
     "name": "stdout",
     "output_type": "stream",
     "text": [
      "/gpfs/projects/sanlab/shared/DEV/nonbids_data/fMRI/ml/SST/regress_sr_RTFS_factor_2/post_correct_stop_cg_w_supplementary/regress_sr_no_zscore_RTFS_factor_2_84subs_negative emotions_association-test_z_FDR_0.pkl\n"
     ]
    },
    {
     "data": {
      "text/html": [
       "y"
      ],
      "text/plain": [
       "<IPython.core.display.HTML object>"
      ]
     },
     "metadata": {},
     "output_type": "display_data"
    },
    {
     "data": {
      "text/html": [
       "r=0.12; p-value=0.3742"
      ],
      "text/plain": [
       "<IPython.core.display.HTML object>"
      ]
     },
     "metadata": {},
     "output_type": "display_data"
    },
    {
     "data": {
      "text/html": [
       "rho=0.08; p-value=0.5339"
      ],
      "text/plain": [
       "<IPython.core.display.HTML object>"
      ]
     },
     "metadata": {},
     "output_type": "display_data"
    },
    {
     "data": {
      "image/png": "[encoded data removed]",
      "text/plain": [
       "<Figure size 432x288 with 1 Axes>"
      ]
     },
     "metadata": {
      "needs_background": "light"
     },
     "output_type": "display_data"
    },
    {
     "name": "stdout",
     "output_type": "stream",
     "text": [
      "self referential_association-test_z_FDR_0.01.nii.gz\n",
      "/gpfs/projects/sanlab/shared/DEV/nonbids_data/fMRI/ml/SST/regress_sr_RTFS_factor_2/post_correct_stop_cg_w_supplementary/regress_sr_no_zscore_RTFS_factor_2_84subs_self referential_association-test_z_FDR_0.pkl\n"
     ]
    },
    {
     "data": {
      "text/markdown": [
       "## self referential_association-test_z_FDR_0"
      ],
      "text/plain": [
       "<IPython.core.display.Markdown object>"
      ]
     },
     "metadata": {},
     "output_type": "display_data"
    },
    {
     "name": "stdout",
     "output_type": "stream",
     "text": [
      "/gpfs/projects/sanlab/shared/DEV/nonbids_data/fMRI/ml/SST/regress_sr_RTFS_factor_2/post_correct_stop_cg_w_supplementary/regress_sr_no_zscore_RTFS_factor_2_84subs_self referential_association-test_z_FDR_0.pkl\n",
      "removed 1 outlying predictions or values\n"
     ]
    },
    {
     "data": {
      "text/html": [
       "y"
      ],
      "text/plain": [
       "<IPython.core.display.HTML object>"
      ]
     },
     "metadata": {},
     "output_type": "display_data"
    },
    {
     "data": {
      "text/html": [
       "r=-0.13; p-value=0.3369"
      ],
      "text/plain": [
       "<IPython.core.display.HTML object>"
      ]
     },
     "metadata": {},
     "output_type": "display_data"
    },
    {
     "data": {
      "text/html": [
       "rho=-0.12; p-value=0.3963"
      ],
      "text/plain": [
       "<IPython.core.display.HTML object>"
      ]
     },
     "metadata": {},
     "output_type": "display_data"
    },
    {
     "data": {
      "image/png": "[encoded data removed]",
      "text/plain": [
       "<Figure size 432x288 with 1 Axes>"
      ]
     },
     "metadata": {
      "needs_background": "light"
     },
     "output_type": "display_data"
    },
    {
     "name": "stdout",
     "output_type": "stream",
     "text": [
      "harvardoxford-cortical_prob_Frontal Orbital Cortex.nii.gz\n",
      "/gpfs/projects/sanlab/shared/DEV/nonbids_data/fMRI/ml/SST/regress_sr_RTFS_f1_minus_f2/post_stop_cg_spatially_concatenated/regress_sr_no_zscore_RTFS_f1_minus_f2_84subs_harvardoxford-cortical_prob_Frontal Orbital Cortex.pkl\n"
     ]
    },
    {
     "data": {
      "text/markdown": [
       "## harvardoxford-cortical_prob_Frontal Orbital Cortex"
      ],
      "text/plain": [
       "<IPython.core.display.Markdown object>"
      ]
     },
     "metadata": {},
     "output_type": "display_data"
    },
    {
     "name": "stdout",
     "output_type": "stream",
     "text": [
      "/gpfs/projects/sanlab/shared/DEV/nonbids_data/fMRI/ml/SST/regress_sr_RTFS_f1_minus_f2/post_stop_cg_spatially_concatenated/regress_sr_no_zscore_RTFS_f1_minus_f2_84subs_harvardoxford-cortical_prob_Frontal Orbital Cortex.pkl\n",
      "removed 2 outlying predictions or values\n"
     ]
    },
    {
     "data": {
      "text/html": [
       "y"
      ],
      "text/plain": [
       "<IPython.core.display.HTML object>"
      ]
     },
     "metadata": {},
     "output_type": "display_data"
    },
    {
     "data": {
      "text/html": [
       "r=-0.29; p-value=0.0367"
      ],
      "text/plain": [
       "<IPython.core.display.HTML object>"
      ]
     },
     "metadata": {},
     "output_type": "display_data"
    },
    {
     "data": {
      "text/html": [
       "rho=-0.26; p-value=0.0576"
      ],
      "text/plain": [
       "<IPython.core.display.HTML object>"
      ]
     },
     "metadata": {},
     "output_type": "display_data"
    },
    {
     "data": {
      "image/png": "[encoded data removed]",
      "text/plain": [
       "<Figure size 432x288 with 1 Axes>"
      ]
     },
     "metadata": {
      "needs_background": "light"
     },
     "output_type": "display_data"
    },
    {
     "name": "stdout",
     "output_type": "stream",
     "text": [
      "harvardoxford-cortical_prob_Cingulate Gyrus, anterior division.nii.gz\n",
      "/gpfs/projects/sanlab/shared/DEV/nonbids_data/fMRI/ml/SST/regress_sr_RTFS_f1_minus_f2/post_stop_cg_spatially_concatenated/regress_sr_no_zscore_RTFS_f1_minus_f2_84subs_harvardoxford-cortical_prob_Cingulate Gyrus, anterior division.pkl\n"
     ]
    },
    {
     "data": {
      "text/markdown": [
       "## harvardoxford-cortical_prob_Cingulate Gyrus, anterior division"
      ],
      "text/plain": [
       "<IPython.core.display.Markdown object>"
      ]
     },
     "metadata": {},
     "output_type": "display_data"
    },
    {
     "name": "stdout",
     "output_type": "stream",
     "text": [
      "/gpfs/projects/sanlab/shared/DEV/nonbids_data/fMRI/ml/SST/regress_sr_RTFS_f1_minus_f2/post_stop_cg_spatially_concatenated/regress_sr_no_zscore_RTFS_f1_minus_f2_84subs_harvardoxford-cortical_prob_Cingulate Gyrus, anterior division.pkl\n"
     ]
    },
    {
     "data": {
      "text/html": [
       "y"
      ],
      "text/plain": [
       "<IPython.core.display.HTML object>"
      ]
     },
     "metadata": {},
     "output_type": "display_data"
    },
    {
     "data": {
      "text/html": [
       "r=0.08; p-value=0.5725"
      ],
      "text/plain": [
       "<IPython.core.display.HTML object>"
      ]
     },
     "metadata": {},
     "output_type": "display_data"
    },
    {
     "data": {
      "text/html": [
       "rho=0.10; p-value=0.4750"
      ],
      "text/plain": [
       "<IPython.core.display.HTML object>"
      ]
     },
     "metadata": {},
     "output_type": "display_data"
    },
    {
     "data": {
      "image/png": "[encoded data removed]",
      "text/plain": [
       "<Figure size 432x288 with 1 Axes>"
      ]
     },
     "metadata": {
      "needs_background": "light"
     },
     "output_type": "display_data"
    },
    {
     "name": "stdout",
     "output_type": "stream",
     "text": [
      "negative affect_association-test_z_FDR_0.01.nii.gz\n",
      "/gpfs/projects/sanlab/shared/DEV/nonbids_data/fMRI/ml/SST/regress_sr_RTFS_f1_minus_f2/post_stop_cg_spatially_concatenated/regress_sr_no_zscore_RTFS_f1_minus_f2_84subs_negative affect_association-test_z_FDR_0.pkl\n"
     ]
    },
    {
     "data": {
      "text/markdown": [
       "## negative affect_association-test_z_FDR_0"
      ],
      "text/plain": [
       "<IPython.core.display.Markdown object>"
      ]
     },
     "metadata": {},
     "output_type": "display_data"
    },
    {
     "name": "stdout",
     "output_type": "stream",
     "text": [
      "/gpfs/projects/sanlab/shared/DEV/nonbids_data/fMRI/ml/SST/regress_sr_RTFS_f1_minus_f2/post_stop_cg_spatially_concatenated/regress_sr_no_zscore_RTFS_f1_minus_f2_84subs_negative affect_association-test_z_FDR_0.pkl\n"
     ]
    },
    {
     "data": {
      "text/html": [
       "y"
      ],
      "text/plain": [
       "<IPython.core.display.HTML object>"
      ]
     },
     "metadata": {},
     "output_type": "display_data"
    },
    {
     "data": {
      "text/html": [
       "r=0.01; p-value=0.9157"
      ],
      "text/plain": [
       "<IPython.core.display.HTML object>"
      ]
     },
     "metadata": {},
     "output_type": "display_data"
    },
    {
     "data": {
      "text/html": [
       "rho=0.02; p-value=0.8712"
      ],
      "text/plain": [
       "<IPython.core.display.HTML object>"
      ]
     },
     "metadata": {},
     "output_type": "display_data"
    },
    {
     "data": {
      "image/png": "[encoded data removed]",
      "text/plain": [
       "<Figure size 432x288 with 1 Axes>"
      ]
     },
     "metadata": {
      "needs_background": "light"
     },
     "output_type": "display_data"
    },
    {
     "name": "stdout",
     "output_type": "stream",
     "text": [
      "emotion regulation_association-test_z_FDR_0.01.nii.gz\n",
      "/gpfs/projects/sanlab/shared/DEV/nonbids_data/fMRI/ml/SST/regress_sr_RTFS_f1_minus_f2/post_stop_cg_spatially_concatenated/regress_sr_no_zscore_RTFS_f1_minus_f2_84subs_emotion regulation_association-test_z_FDR_0.pkl\n"
     ]
    },
    {
     "data": {
      "text/markdown": [
       "## emotion regulation_association-test_z_FDR_0"
      ],
      "text/plain": [
       "<IPython.core.display.Markdown object>"
      ]
     },
     "metadata": {},
     "output_type": "display_data"
    },
    {
     "name": "stdout",
     "output_type": "stream",
     "text": [
      "/gpfs/projects/sanlab/shared/DEV/nonbids_data/fMRI/ml/SST/regress_sr_RTFS_f1_minus_f2/post_stop_cg_spatially_concatenated/regress_sr_no_zscore_RTFS_f1_minus_f2_84subs_emotion regulation_association-test_z_FDR_0.pkl\n",
      "removed 1 outlying predictions or values\n"
     ]
    },
    {
     "data": {
      "text/html": [
       "y"
      ],
      "text/plain": [
       "<IPython.core.display.HTML object>"
      ]
     },
     "metadata": {},
     "output_type": "display_data"
    },
    {
     "data": {
      "text/html": [
       "r=-0.24; p-value=0.0831"
      ],
      "text/plain": [
       "<IPython.core.display.HTML object>"
      ]
     },
     "metadata": {},
     "output_type": "display_data"
    },
    {
     "data": {
      "text/html": [
       "rho=-0.23; p-value=0.0891"
      ],
      "text/plain": [
       "<IPython.core.display.HTML object>"
      ]
     },
     "metadata": {},
     "output_type": "display_data"
    },
    {
     "data": {
      "image/png": "[encoded data removed]",
      "text/plain": [
       "<Figure size 432x288 with 1 Axes>"
      ]
     },
     "metadata": {
      "needs_background": "light"
     },
     "output_type": "display_data"
    },
    {
     "name": "stdout",
     "output_type": "stream",
     "text": [
      "harvardoxford-cortical_prob_Frontal Medial Cortex.nii.gz\n",
      "/gpfs/projects/sanlab/shared/DEV/nonbids_data/fMRI/ml/SST/regress_sr_RTFS_f1_minus_f2/post_stop_cg_spatially_concatenated/regress_sr_no_zscore_RTFS_f1_minus_f2_84subs_harvardoxford-cortical_prob_Frontal Medial Cortex.pkl\n"
     ]
    },
    {
     "data": {
      "text/markdown": [
       "## harvardoxford-cortical_prob_Frontal Medial Cortex"
      ],
      "text/plain": [
       "<IPython.core.display.Markdown object>"
      ]
     },
     "metadata": {},
     "output_type": "display_data"
    },
    {
     "name": "stdout",
     "output_type": "stream",
     "text": [
      "/gpfs/projects/sanlab/shared/DEV/nonbids_data/fMRI/ml/SST/regress_sr_RTFS_f1_minus_f2/post_stop_cg_spatially_concatenated/regress_sr_no_zscore_RTFS_f1_minus_f2_84subs_harvardoxford-cortical_prob_Frontal Medial Cortex.pkl\n"
     ]
    },
    {
     "data": {
      "text/html": [
       "y"
      ],
      "text/plain": [
       "<IPython.core.display.HTML object>"
      ]
     },
     "metadata": {},
     "output_type": "display_data"
    },
    {
     "data": {
      "text/html": [
       "r=-0.10; p-value=0.4720"
      ],
      "text/plain": [
       "<IPython.core.display.HTML object>"
      ]
     },
     "metadata": {},
     "output_type": "display_data"
    },
    {
     "data": {
      "text/html": [
       "rho=-0.12; p-value=0.3849"
      ],
      "text/plain": [
       "<IPython.core.display.HTML object>"
      ]
     },
     "metadata": {},
     "output_type": "display_data"
    },
    {
     "data": {
      "image/png": "[encoded data removed]",
      "text/plain": [
       "<Figure size 432x288 with 1 Axes>"
      ]
     },
     "metadata": {
      "needs_background": "light"
     },
     "output_type": "display_data"
    },
    {
     "name": "stdout",
     "output_type": "stream",
     "text": [
      "negative emotions_association-test_z_FDR_0.01.nii.gz\n",
      "/gpfs/projects/sanlab/shared/DEV/nonbids_data/fMRI/ml/SST/regress_sr_RTFS_f1_minus_f2/post_stop_cg_spatially_concatenated/regress_sr_no_zscore_RTFS_f1_minus_f2_84subs_negative emotions_association-test_z_FDR_0.pkl\n"
     ]
    },
    {
     "data": {
      "text/markdown": [
       "## negative emotions_association-test_z_FDR_0"
      ],
      "text/plain": [
       "<IPython.core.display.Markdown object>"
      ]
     },
     "metadata": {},
     "output_type": "display_data"
    },
    {
     "name": "stdout",
     "output_type": "stream",
     "text": [
      "/gpfs/projects/sanlab/shared/DEV/nonbids_data/fMRI/ml/SST/regress_sr_RTFS_f1_minus_f2/post_stop_cg_spatially_concatenated/regress_sr_no_zscore_RTFS_f1_minus_f2_84subs_negative emotions_association-test_z_FDR_0.pkl\n",
      "removed 1 outlying predictions or values\n"
     ]
    },
    {
     "data": {
      "text/html": [
       "y"
      ],
      "text/plain": [
       "<IPython.core.display.HTML object>"
      ]
     },
     "metadata": {},
     "output_type": "display_data"
    },
    {
     "data": {
      "text/html": [
       "r=-0.22; p-value=0.1167"
      ],
      "text/plain": [
       "<IPython.core.display.HTML object>"
      ]
     },
     "metadata": {},
     "output_type": "display_data"
    },
    {
     "data": {
      "text/html": [
       "rho=-0.21; p-value=0.1368"
      ],
      "text/plain": [
       "<IPython.core.display.HTML object>"
      ]
     },
     "metadata": {},
     "output_type": "display_data"
    },
    {
     "data": {
      "image/png": "[encoded data removed]",
      "text/plain": [
       "<Figure size 432x288 with 1 Axes>"
      ]
     },
     "metadata": {
      "needs_background": "light"
     },
     "output_type": "display_data"
    },
    {
     "name": "stdout",
     "output_type": "stream",
     "text": [
      "self referential_association-test_z_FDR_0.01.nii.gz\n",
      "/gpfs/projects/sanlab/shared/DEV/nonbids_data/fMRI/ml/SST/regress_sr_RTFS_f1_minus_f2/post_stop_cg_spatially_concatenated/regress_sr_no_zscore_RTFS_f1_minus_f2_84subs_self referential_association-test_z_FDR_0.pkl\n"
     ]
    },
    {
     "data": {
      "text/markdown": [
       "## self referential_association-test_z_FDR_0"
      ],
      "text/plain": [
       "<IPython.core.display.Markdown object>"
      ]
     },
     "metadata": {},
     "output_type": "display_data"
    },
    {
     "name": "stdout",
     "output_type": "stream",
     "text": [
      "/gpfs/projects/sanlab/shared/DEV/nonbids_data/fMRI/ml/SST/regress_sr_RTFS_f1_minus_f2/post_stop_cg_spatially_concatenated/regress_sr_no_zscore_RTFS_f1_minus_f2_84subs_self referential_association-test_z_FDR_0.pkl\n",
      "removed 1 outlying predictions or values\n"
     ]
    },
    {
     "data": {
      "text/html": [
       "y"
      ],
      "text/plain": [
       "<IPython.core.display.HTML object>"
      ]
     },
     "metadata": {},
     "output_type": "display_data"
    },
    {
     "data": {
      "text/html": [
       "r=-0.11; p-value=0.4158"
      ],
      "text/plain": [
       "<IPython.core.display.HTML object>"
      ]
     },
     "metadata": {},
     "output_type": "display_data"
    },
    {
     "data": {
      "text/html": [
       "rho=-0.11; p-value=0.4305"
      ],
      "text/plain": [
       "<IPython.core.display.HTML object>"
      ]
     },
     "metadata": {},
     "output_type": "display_data"
    },
    {
     "data": {
      "image/png": "[encoded data removed]",
      "text/plain": [
       "<Figure size 432x288 with 1 Axes>"
      ]
     },
     "metadata": {
      "needs_background": "light"
     },
     "output_type": "display_data"
    },
    {
     "name": "stdout",
     "output_type": "stream",
     "text": [
      "harvardoxford-cortical_prob_Frontal Orbital Cortex.nii.gz\n",
      "/gpfs/projects/sanlab/shared/DEV/nonbids_data/fMRI/ml/SST/regress_sr_RTFS_f1_minus_f2/post_failed_stop_cg_w_supplementary/regress_sr_no_zscore_RTFS_f1_minus_f2_84subs_harvardoxford-cortical_prob_Frontal Orbital Cortex.pkl\n"
     ]
    },
    {
     "data": {
      "text/markdown": [
       "## harvardoxford-cortical_prob_Frontal Orbital Cortex"
      ],
      "text/plain": [
       "<IPython.core.display.Markdown object>"
      ]
     },
     "metadata": {},
     "output_type": "display_data"
    },
    {
     "name": "stdout",
     "output_type": "stream",
     "text": [
      "/gpfs/projects/sanlab/shared/DEV/nonbids_data/fMRI/ml/SST/regress_sr_RTFS_f1_minus_f2/post_failed_stop_cg_w_supplementary/regress_sr_no_zscore_RTFS_f1_minus_f2_84subs_harvardoxford-cortical_prob_Frontal Orbital Cortex.pkl\n"
     ]
    },
    {
     "data": {
      "text/html": [
       "y"
      ],
      "text/plain": [
       "<IPython.core.display.HTML object>"
      ]
     },
     "metadata": {},
     "output_type": "display_data"
    },
    {
     "data": {
      "text/html": [
       "r=0.15; p-value=0.2854"
      ],
      "text/plain": [
       "<IPython.core.display.HTML object>"
      ]
     },
     "metadata": {},
     "output_type": "display_data"
    },
    {
     "data": {
      "text/html": [
       "rho=0.10; p-value=0.4554"
      ],
      "text/plain": [
       "<IPython.core.display.HTML object>"
      ]
     },
     "metadata": {},
     "output_type": "display_data"
    },
    {
     "data": {
      "image/png": "[encoded data removed]",
      "text/plain": [
       "<Figure size 432x288 with 1 Axes>"
      ]
     },
     "metadata": {
      "needs_background": "light"
     },
     "output_type": "display_data"
    },
    {
     "name": "stdout",
     "output_type": "stream",
     "text": [
      "harvardoxford-cortical_prob_Cingulate Gyrus, anterior division.nii.gz\n",
      "/gpfs/projects/sanlab/shared/DEV/nonbids_data/fMRI/ml/SST/regress_sr_RTFS_f1_minus_f2/post_failed_stop_cg_w_supplementary/regress_sr_no_zscore_RTFS_f1_minus_f2_84subs_harvardoxford-cortical_prob_Cingulate Gyrus, anterior division.pkl\n"
     ]
    },
    {
     "data": {
      "text/markdown": [
       "## harvardoxford-cortical_prob_Cingulate Gyrus, anterior division"
      ],
      "text/plain": [
       "<IPython.core.display.Markdown object>"
      ]
     },
     "metadata": {},
     "output_type": "display_data"
    },
    {
     "name": "stdout",
     "output_type": "stream",
     "text": [
      "/gpfs/projects/sanlab/shared/DEV/nonbids_data/fMRI/ml/SST/regress_sr_RTFS_f1_minus_f2/post_failed_stop_cg_w_supplementary/regress_sr_no_zscore_RTFS_f1_minus_f2_84subs_harvardoxford-cortical_prob_Cingulate Gyrus, anterior division.pkl\n"
     ]
    },
    {
     "data": {
      "text/html": [
       "y"
      ],
      "text/plain": [
       "<IPython.core.display.HTML object>"
      ]
     },
     "metadata": {},
     "output_type": "display_data"
    },
    {
     "data": {
      "text/html": [
       "r=-0.16; p-value=0.2418"
      ],
      "text/plain": [
       "<IPython.core.display.HTML object>"
      ]
     },
     "metadata": {},
     "output_type": "display_data"
    },
    {
     "data": {
      "text/html": [
       "rho=-0.16; p-value=0.2423"
      ],
      "text/plain": [
       "<IPython.core.display.HTML object>"
      ]
     },
     "metadata": {},
     "output_type": "display_data"
    },
    {
     "data": {
      "image/png": "[encoded data removed]",
      "text/plain": [
       "<Figure size 432x288 with 1 Axes>"
      ]
     },
     "metadata": {
      "needs_background": "light"
     },
     "output_type": "display_data"
    },
    {
     "name": "stdout",
     "output_type": "stream",
     "text": [
      "negative affect_association-test_z_FDR_0.01.nii.gz\n",
      "/gpfs/projects/sanlab/shared/DEV/nonbids_data/fMRI/ml/SST/regress_sr_RTFS_f1_minus_f2/post_failed_stop_cg_w_supplementary/regress_sr_no_zscore_RTFS_f1_minus_f2_84subs_negative affect_association-test_z_FDR_0.pkl\n"
     ]
    },
    {
     "data": {
      "text/markdown": [
       "## negative affect_association-test_z_FDR_0"
      ],
      "text/plain": [
       "<IPython.core.display.Markdown object>"
      ]
     },
     "metadata": {},
     "output_type": "display_data"
    },
    {
     "name": "stdout",
     "output_type": "stream",
     "text": [
      "/gpfs/projects/sanlab/shared/DEV/nonbids_data/fMRI/ml/SST/regress_sr_RTFS_f1_minus_f2/post_failed_stop_cg_w_supplementary/regress_sr_no_zscore_RTFS_f1_minus_f2_84subs_negative affect_association-test_z_FDR_0.pkl\n"
     ]
    },
    {
     "data": {
      "text/html": [
       "y"
      ],
      "text/plain": [
       "<IPython.core.display.HTML object>"
      ]
     },
     "metadata": {},
     "output_type": "display_data"
    },
    {
     "data": {
      "text/html": [
       "r=-0.09; p-value=0.4977"
      ],
      "text/plain": [
       "<IPython.core.display.HTML object>"
      ]
     },
     "metadata": {},
     "output_type": "display_data"
    },
    {
     "data": {
      "text/html": [
       "rho=-0.10; p-value=0.4679"
      ],
      "text/plain": [
       "<IPython.core.display.HTML object>"
      ]
     },
     "metadata": {},
     "output_type": "display_data"
    },
    {
     "data": {
      "image/png": "[encoded data removed]",
      "text/plain": [
       "<Figure size 432x288 with 1 Axes>"
      ]
     },
     "metadata": {
      "needs_background": "light"
     },
     "output_type": "display_data"
    },
    {
     "name": "stdout",
     "output_type": "stream",
     "text": [
      "emotion regulation_association-test_z_FDR_0.01.nii.gz\n",
      "/gpfs/projects/sanlab/shared/DEV/nonbids_data/fMRI/ml/SST/regress_sr_RTFS_f1_minus_f2/post_failed_stop_cg_w_supplementary/regress_sr_no_zscore_RTFS_f1_minus_f2_84subs_emotion regulation_association-test_z_FDR_0.pkl\n"
     ]
    },
    {
     "data": {
      "text/markdown": [
       "## emotion regulation_association-test_z_FDR_0"
      ],
      "text/plain": [
       "<IPython.core.display.Markdown object>"
      ]
     },
     "metadata": {},
     "output_type": "display_data"
    },
    {
     "name": "stdout",
     "output_type": "stream",
     "text": [
      "/gpfs/projects/sanlab/shared/DEV/nonbids_data/fMRI/ml/SST/regress_sr_RTFS_f1_minus_f2/post_failed_stop_cg_w_supplementary/regress_sr_no_zscore_RTFS_f1_minus_f2_84subs_emotion regulation_association-test_z_FDR_0.pkl\n",
      "removed 1 outlying predictions or values\n"
     ]
    },
    {
     "data": {
      "text/html": [
       "y"
      ],
      "text/plain": [
       "<IPython.core.display.HTML object>"
      ]
     },
     "metadata": {},
     "output_type": "display_data"
    },
    {
     "data": {
      "text/html": [
       "r=0.02; p-value=0.8751"
      ],
      "text/plain": [
       "<IPython.core.display.HTML object>"
      ]
     },
     "metadata": {},
     "output_type": "display_data"
    },
    {
     "data": {
      "text/html": [
       "rho=0.06; p-value=0.6912"
      ],
      "text/plain": [
       "<IPython.core.display.HTML object>"
      ]
     },
     "metadata": {},
     "output_type": "display_data"
    },
    {
     "data": {
      "image/png": "[encoded data removed]",
      "text/plain": [
       "<Figure size 432x288 with 1 Axes>"
      ]
     },
     "metadata": {
      "needs_background": "light"
     },
     "output_type": "display_data"
    },
    {
     "name": "stdout",
     "output_type": "stream",
     "text": [
      "harvardoxford-cortical_prob_Frontal Medial Cortex.nii.gz\n",
      "/gpfs/projects/sanlab/shared/DEV/nonbids_data/fMRI/ml/SST/regress_sr_RTFS_f1_minus_f2/post_failed_stop_cg_w_supplementary/regress_sr_no_zscore_RTFS_f1_minus_f2_84subs_harvardoxford-cortical_prob_Frontal Medial Cortex.pkl\n"
     ]
    },
    {
     "data": {
      "text/markdown": [
       "## harvardoxford-cortical_prob_Frontal Medial Cortex"
      ],
      "text/plain": [
       "<IPython.core.display.Markdown object>"
      ]
     },
     "metadata": {},
     "output_type": "display_data"
    },
    {
     "name": "stdout",
     "output_type": "stream",
     "text": [
      "/gpfs/projects/sanlab/shared/DEV/nonbids_data/fMRI/ml/SST/regress_sr_RTFS_f1_minus_f2/post_failed_stop_cg_w_supplementary/regress_sr_no_zscore_RTFS_f1_minus_f2_84subs_harvardoxford-cortical_prob_Frontal Medial Cortex.pkl\n",
      "removed 3 outlying predictions or values\n"
     ]
    },
    {
     "data": {
      "text/html": [
       "y"
      ],
      "text/plain": [
       "<IPython.core.display.HTML object>"
      ]
     },
     "metadata": {},
     "output_type": "display_data"
    },
    {
     "data": {
      "text/html": [
       "r=-0.29; p-value=0.0355"
      ],
      "text/plain": [
       "<IPython.core.display.HTML object>"
      ]
     },
     "metadata": {},
     "output_type": "display_data"
    },
    {
     "data": {
      "text/html": [
       "rho=-0.27; p-value=0.0518"
      ],
      "text/plain": [
       "<IPython.core.display.HTML object>"
      ]
     },
     "metadata": {},
     "output_type": "display_data"
    },
    {
     "data": {
      "image/png": "[encoded data removed]",
      "text/plain": [
       "<Figure size 432x288 with 1 Axes>"
      ]
     },
     "metadata": {
      "needs_background": "light"
     },
     "output_type": "display_data"
    },
    {
     "name": "stdout",
     "output_type": "stream",
     "text": [
      "negative emotions_association-test_z_FDR_0.01.nii.gz\n",
      "/gpfs/projects/sanlab/shared/DEV/nonbids_data/fMRI/ml/SST/regress_sr_RTFS_f1_minus_f2/post_failed_stop_cg_w_supplementary/regress_sr_no_zscore_RTFS_f1_minus_f2_84subs_negative emotions_association-test_z_FDR_0.pkl\n"
     ]
    },
    {
     "data": {
      "text/markdown": [
       "## negative emotions_association-test_z_FDR_0"
      ],
      "text/plain": [
       "<IPython.core.display.Markdown object>"
      ]
     },
     "metadata": {},
     "output_type": "display_data"
    },
    {
     "name": "stdout",
     "output_type": "stream",
     "text": [
      "/gpfs/projects/sanlab/shared/DEV/nonbids_data/fMRI/ml/SST/regress_sr_RTFS_f1_minus_f2/post_failed_stop_cg_w_supplementary/regress_sr_no_zscore_RTFS_f1_minus_f2_84subs_negative emotions_association-test_z_FDR_0.pkl\n",
      "removed 1 outlying predictions or values\n"
     ]
    },
    {
     "data": {
      "text/html": [
       "y"
      ],
      "text/plain": [
       "<IPython.core.display.HTML object>"
      ]
     },
     "metadata": {},
     "output_type": "display_data"
    },
    {
     "data": {
      "text/html": [
       "r=0.17; p-value=0.2059"
      ],
      "text/plain": [
       "<IPython.core.display.HTML object>"
      ]
     },
     "metadata": {},
     "output_type": "display_data"
    },
    {
     "data": {
      "text/html": [
       "rho=0.23; p-value=0.0944"
      ],
      "text/plain": [
       "<IPython.core.display.HTML object>"
      ]
     },
     "metadata": {},
     "output_type": "display_data"
    },
    {
     "data": {
      "image/png": "[encoded data removed]",
      "text/plain": [
       "<Figure size 432x288 with 1 Axes>"
      ]
     },
     "metadata": {
      "needs_background": "light"
     },
     "output_type": "display_data"
    },
    {
     "name": "stdout",
     "output_type": "stream",
     "text": [
      "self referential_association-test_z_FDR_0.01.nii.gz\n",
      "/gpfs/projects/sanlab/shared/DEV/nonbids_data/fMRI/ml/SST/regress_sr_RTFS_f1_minus_f2/post_failed_stop_cg_w_supplementary/regress_sr_no_zscore_RTFS_f1_minus_f2_84subs_self referential_association-test_z_FDR_0.pkl\n"
     ]
    },
    {
     "data": {
      "text/markdown": [
       "## self referential_association-test_z_FDR_0"
      ],
      "text/plain": [
       "<IPython.core.display.Markdown object>"
      ]
     },
     "metadata": {},
     "output_type": "display_data"
    },
    {
     "name": "stdout",
     "output_type": "stream",
     "text": [
      "/gpfs/projects/sanlab/shared/DEV/nonbids_data/fMRI/ml/SST/regress_sr_RTFS_f1_minus_f2/post_failed_stop_cg_w_supplementary/regress_sr_no_zscore_RTFS_f1_minus_f2_84subs_self referential_association-test_z_FDR_0.pkl\n"
     ]
    },
    {
     "data": {
      "text/html": [
       "y"
      ],
      "text/plain": [
       "<IPython.core.display.HTML object>"
      ]
     },
     "metadata": {},
     "output_type": "display_data"
    },
    {
     "data": {
      "text/html": [
       "r=-0.19; p-value=0.1610"
      ],
      "text/plain": [
       "<IPython.core.display.HTML object>"
      ]
     },
     "metadata": {},
     "output_type": "display_data"
    },
    {
     "data": {
      "text/html": [
       "rho=-0.16; p-value=0.2340"
      ],
      "text/plain": [
       "<IPython.core.display.HTML object>"
      ]
     },
     "metadata": {},
     "output_type": "display_data"
    },
    {
     "data": {
      "image/png": "[encoded data removed]",
      "text/plain": [
       "<Figure size 432x288 with 1 Axes>"
      ]
     },
     "metadata": {
      "needs_background": "light"
     },
     "output_type": "display_data"
    },
    {
     "name": "stdout",
     "output_type": "stream",
     "text": [
      "harvardoxford-cortical_prob_Frontal Orbital Cortex.nii.gz\n",
      "/gpfs/projects/sanlab/shared/DEV/nonbids_data/fMRI/ml/SST/regress_sr_RTFS_f1_minus_f2/post_correct_stop_cg_w_supplementary/regress_sr_no_zscore_RTFS_f1_minus_f2_84subs_harvardoxford-cortical_prob_Frontal Orbital Cortex.pkl\n"
     ]
    },
    {
     "data": {
      "text/markdown": [
       "## harvardoxford-cortical_prob_Frontal Orbital Cortex"
      ],
      "text/plain": [
       "<IPython.core.display.Markdown object>"
      ]
     },
     "metadata": {},
     "output_type": "display_data"
    },
    {
     "name": "stdout",
     "output_type": "stream",
     "text": [
      "/gpfs/projects/sanlab/shared/DEV/nonbids_data/fMRI/ml/SST/regress_sr_RTFS_f1_minus_f2/post_correct_stop_cg_w_supplementary/regress_sr_no_zscore_RTFS_f1_minus_f2_84subs_harvardoxford-cortical_prob_Frontal Orbital Cortex.pkl\n",
      "removed 2 outlying predictions or values\n"
     ]
    },
    {
     "data": {
      "text/html": [
       "y"
      ],
      "text/plain": [
       "<IPython.core.display.HTML object>"
      ]
     },
     "metadata": {},
     "output_type": "display_data"
    },
    {
     "data": {
      "text/html": [
       "r=-0.29; p-value=0.0345"
      ],
      "text/plain": [
       "<IPython.core.display.HTML object>"
      ]
     },
     "metadata": {},
     "output_type": "display_data"
    },
    {
     "data": {
      "text/html": [
       "rho=-0.27; p-value=0.0515"
      ],
      "text/plain": [
       "<IPython.core.display.HTML object>"
      ]
     },
     "metadata": {},
     "output_type": "display_data"
    },
    {
     "data": {
      "image/png": "[encoded data removed]",
      "text/plain": [
       "<Figure size 432x288 with 1 Axes>"
      ]
     },
     "metadata": {
      "needs_background": "light"
     },
     "output_type": "display_data"
    },
    {
     "name": "stdout",
     "output_type": "stream",
     "text": [
      "harvardoxford-cortical_prob_Cingulate Gyrus, anterior division.nii.gz\n",
      "/gpfs/projects/sanlab/shared/DEV/nonbids_data/fMRI/ml/SST/regress_sr_RTFS_f1_minus_f2/post_correct_stop_cg_w_supplementary/regress_sr_no_zscore_RTFS_f1_minus_f2_84subs_harvardoxford-cortical_prob_Cingulate Gyrus, anterior division.pkl\n"
     ]
    },
    {
     "data": {
      "text/markdown": [
       "## harvardoxford-cortical_prob_Cingulate Gyrus, anterior division"
      ],
      "text/plain": [
       "<IPython.core.display.Markdown object>"
      ]
     },
     "metadata": {},
     "output_type": "display_data"
    },
    {
     "name": "stdout",
     "output_type": "stream",
     "text": [
      "/gpfs/projects/sanlab/shared/DEV/nonbids_data/fMRI/ml/SST/regress_sr_RTFS_f1_minus_f2/post_correct_stop_cg_w_supplementary/regress_sr_no_zscore_RTFS_f1_minus_f2_84subs_harvardoxford-cortical_prob_Cingulate Gyrus, anterior division.pkl\n",
      "removed 1 outlying predictions or values\n"
     ]
    },
    {
     "data": {
      "text/html": [
       "y"
      ],
      "text/plain": [
       "<IPython.core.display.HTML object>"
      ]
     },
     "metadata": {},
     "output_type": "display_data"
    },
    {
     "data": {
      "text/html": [
       "r=0.10; p-value=0.4824"
      ],
      "text/plain": [
       "<IPython.core.display.HTML object>"
      ]
     },
     "metadata": {},
     "output_type": "display_data"
    },
    {
     "data": {
      "text/html": [
       "rho=0.11; p-value=0.4219"
      ],
      "text/plain": [
       "<IPython.core.display.HTML object>"
      ]
     },
     "metadata": {},
     "output_type": "display_data"
    },
    {
     "data": {
      "image/png": "[encoded data removed]",
      "text/plain": [
       "<Figure size 432x288 with 1 Axes>"
      ]
     },
     "metadata": {
      "needs_background": "light"
     },
     "output_type": "display_data"
    },
    {
     "name": "stdout",
     "output_type": "stream",
     "text": [
      "negative affect_association-test_z_FDR_0.01.nii.gz\n",
      "/gpfs/projects/sanlab/shared/DEV/nonbids_data/fMRI/ml/SST/regress_sr_RTFS_f1_minus_f2/post_correct_stop_cg_w_supplementary/regress_sr_no_zscore_RTFS_f1_minus_f2_84subs_negative affect_association-test_z_FDR_0.pkl\n"
     ]
    },
    {
     "data": {
      "text/markdown": [
       "## negative affect_association-test_z_FDR_0"
      ],
      "text/plain": [
       "<IPython.core.display.Markdown object>"
      ]
     },
     "metadata": {},
     "output_type": "display_data"
    },
    {
     "name": "stdout",
     "output_type": "stream",
     "text": [
      "/gpfs/projects/sanlab/shared/DEV/nonbids_data/fMRI/ml/SST/regress_sr_RTFS_f1_minus_f2/post_correct_stop_cg_w_supplementary/regress_sr_no_zscore_RTFS_f1_minus_f2_84subs_negative affect_association-test_z_FDR_0.pkl\n"
     ]
    },
    {
     "data": {
      "text/html": [
       "y"
      ],
      "text/plain": [
       "<IPython.core.display.HTML object>"
      ]
     },
     "metadata": {},
     "output_type": "display_data"
    },
    {
     "data": {
      "text/html": [
       "r=0.01; p-value=0.9434"
      ],
      "text/plain": [
       "<IPython.core.display.HTML object>"
      ]
     },
     "metadata": {},
     "output_type": "display_data"
    },
    {
     "data": {
      "text/html": [
       "rho=0.02; p-value=0.8910"
      ],
      "text/plain": [
       "<IPython.core.display.HTML object>"
      ]
     },
     "metadata": {},
     "output_type": "display_data"
    },
    {
     "data": {
      "image/png": "[encoded data removed]",
      "text/plain": [
       "<Figure size 432x288 with 1 Axes>"
      ]
     },
     "metadata": {
      "needs_background": "light"
     },
     "output_type": "display_data"
    },
    {
     "name": "stdout",
     "output_type": "stream",
     "text": [
      "emotion regulation_association-test_z_FDR_0.01.nii.gz\n",
      "/gpfs/projects/sanlab/shared/DEV/nonbids_data/fMRI/ml/SST/regress_sr_RTFS_f1_minus_f2/post_correct_stop_cg_w_supplementary/regress_sr_no_zscore_RTFS_f1_minus_f2_84subs_emotion regulation_association-test_z_FDR_0.pkl\n"
     ]
    },
    {
     "data": {
      "text/markdown": [
       "## emotion regulation_association-test_z_FDR_0"
      ],
      "text/plain": [
       "<IPython.core.display.Markdown object>"
      ]
     },
     "metadata": {},
     "output_type": "display_data"
    },
    {
     "name": "stdout",
     "output_type": "stream",
     "text": [
      "/gpfs/projects/sanlab/shared/DEV/nonbids_data/fMRI/ml/SST/regress_sr_RTFS_f1_minus_f2/post_correct_stop_cg_w_supplementary/regress_sr_no_zscore_RTFS_f1_minus_f2_84subs_emotion regulation_association-test_z_FDR_0.pkl\n",
      "removed 1 outlying predictions or values\n"
     ]
    },
    {
     "data": {
      "text/html": [
       "y"
      ],
      "text/plain": [
       "<IPython.core.display.HTML object>"
      ]
     },
     "metadata": {},
     "output_type": "display_data"
    },
    {
     "data": {
      "text/html": [
       "r=-0.24; p-value=0.0856"
      ],
      "text/plain": [
       "<IPython.core.display.HTML object>"
      ]
     },
     "metadata": {},
     "output_type": "display_data"
    },
    {
     "data": {
      "text/html": [
       "rho=-0.24; p-value=0.0834"
      ],
      "text/plain": [
       "<IPython.core.display.HTML object>"
      ]
     },
     "metadata": {},
     "output_type": "display_data"
    },
    {
     "data": {
      "image/png": "[encoded data removed]",
      "text/plain": [
       "<Figure size 432x288 with 1 Axes>"
      ]
     },
     "metadata": {
      "needs_background": "light"
     },
     "output_type": "display_data"
    },
    {
     "name": "stdout",
     "output_type": "stream",
     "text": [
      "harvardoxford-cortical_prob_Frontal Medial Cortex.nii.gz\n",
      "/gpfs/projects/sanlab/shared/DEV/nonbids_data/fMRI/ml/SST/regress_sr_RTFS_f1_minus_f2/post_correct_stop_cg_w_supplementary/regress_sr_no_zscore_RTFS_f1_minus_f2_84subs_harvardoxford-cortical_prob_Frontal Medial Cortex.pkl\n"
     ]
    },
    {
     "data": {
      "text/markdown": [
       "## harvardoxford-cortical_prob_Frontal Medial Cortex"
      ],
      "text/plain": [
       "<IPython.core.display.Markdown object>"
      ]
     },
     "metadata": {},
     "output_type": "display_data"
    },
    {
     "name": "stdout",
     "output_type": "stream",
     "text": [
      "/gpfs/projects/sanlab/shared/DEV/nonbids_data/fMRI/ml/SST/regress_sr_RTFS_f1_minus_f2/post_correct_stop_cg_w_supplementary/regress_sr_no_zscore_RTFS_f1_minus_f2_84subs_harvardoxford-cortical_prob_Frontal Medial Cortex.pkl\n"
     ]
    },
    {
     "data": {
      "text/html": [
       "y"
      ],
      "text/plain": [
       "<IPython.core.display.HTML object>"
      ]
     },
     "metadata": {},
     "output_type": "display_data"
    },
    {
     "data": {
      "text/html": [
       "r=-0.10; p-value=0.4800"
      ],
      "text/plain": [
       "<IPython.core.display.HTML object>"
      ]
     },
     "metadata": {},
     "output_type": "display_data"
    },
    {
     "data": {
      "text/html": [
       "rho=-0.12; p-value=0.3826"
      ],
      "text/plain": [
       "<IPython.core.display.HTML object>"
      ]
     },
     "metadata": {},
     "output_type": "display_data"
    },
    {
     "data": {
      "image/png": "[encoded data removed]",
      "text/plain": [
       "<Figure size 432x288 with 1 Axes>"
      ]
     },
     "metadata": {
      "needs_background": "light"
     },
     "output_type": "display_data"
    },
    {
     "name": "stdout",
     "output_type": "stream",
     "text": [
      "negative emotions_association-test_z_FDR_0.01.nii.gz\n",
      "/gpfs/projects/sanlab/shared/DEV/nonbids_data/fMRI/ml/SST/regress_sr_RTFS_f1_minus_f2/post_correct_stop_cg_w_supplementary/regress_sr_no_zscore_RTFS_f1_minus_f2_84subs_negative emotions_association-test_z_FDR_0.pkl\n"
     ]
    },
    {
     "data": {
      "text/markdown": [
       "## negative emotions_association-test_z_FDR_0"
      ],
      "text/plain": [
       "<IPython.core.display.Markdown object>"
      ]
     },
     "metadata": {},
     "output_type": "display_data"
    },
    {
     "name": "stdout",
     "output_type": "stream",
     "text": [
      "/gpfs/projects/sanlab/shared/DEV/nonbids_data/fMRI/ml/SST/regress_sr_RTFS_f1_minus_f2/post_correct_stop_cg_w_supplementary/regress_sr_no_zscore_RTFS_f1_minus_f2_84subs_negative emotions_association-test_z_FDR_0.pkl\n",
      "removed 1 outlying predictions or values\n"
     ]
    },
    {
     "data": {
      "text/html": [
       "y"
      ],
      "text/plain": [
       "<IPython.core.display.HTML object>"
      ]
     },
     "metadata": {},
     "output_type": "display_data"
    },
    {
     "data": {
      "text/html": [
       "r=-0.22; p-value=0.1039"
      ],
      "text/plain": [
       "<IPython.core.display.HTML object>"
      ]
     },
     "metadata": {},
     "output_type": "display_data"
    },
    {
     "data": {
      "text/html": [
       "rho=-0.21; p-value=0.1315"
      ],
      "text/plain": [
       "<IPython.core.display.HTML object>"
      ]
     },
     "metadata": {},
     "output_type": "display_data"
    },
    {
     "data": {
      "image/png": "[encoded data removed]",
      "text/plain": [
       "<Figure size 432x288 with 1 Axes>"
      ]
     },
     "metadata": {
      "needs_background": "light"
     },
     "output_type": "display_data"
    },
    {
     "name": "stdout",
     "output_type": "stream",
     "text": [
      "self referential_association-test_z_FDR_0.01.nii.gz\n",
      "/gpfs/projects/sanlab/shared/DEV/nonbids_data/fMRI/ml/SST/regress_sr_RTFS_f1_minus_f2/post_correct_stop_cg_w_supplementary/regress_sr_no_zscore_RTFS_f1_minus_f2_84subs_self referential_association-test_z_FDR_0.pkl\n"
     ]
    },
    {
     "data": {
      "text/markdown": [
       "## self referential_association-test_z_FDR_0"
      ],
      "text/plain": [
       "<IPython.core.display.Markdown object>"
      ]
     },
     "metadata": {},
     "output_type": "display_data"
    },
    {
     "name": "stdout",
     "output_type": "stream",
     "text": [
      "/gpfs/projects/sanlab/shared/DEV/nonbids_data/fMRI/ml/SST/regress_sr_RTFS_f1_minus_f2/post_correct_stop_cg_w_supplementary/regress_sr_no_zscore_RTFS_f1_minus_f2_84subs_self referential_association-test_z_FDR_0.pkl\n",
      "removed 1 outlying predictions or values\n"
     ]
    },
    {
     "data": {
      "text/html": [
       "y"
      ],
      "text/plain": [
       "<IPython.core.display.HTML object>"
      ]
     },
     "metadata": {},
     "output_type": "display_data"
    },
    {
     "data": {
      "text/html": [
       "r=-0.11; p-value=0.4340"
      ],
      "text/plain": [
       "<IPython.core.display.HTML object>"
      ]
     },
     "metadata": {},
     "output_type": "display_data"
    },
    {
     "data": {
      "text/html": [
       "rho=-0.10; p-value=0.4608"
      ],
      "text/plain": [
       "<IPython.core.display.HTML object>"
      ]
     },
     "metadata": {},
     "output_type": "display_data"
    },
    {
     "data": {
      "image/png": "[encoded data removed]",
      "text/plain": [
       "<Figure size 432x288 with 1 Axes>"
      ]
     },
     "metadata": {
      "needs_background": "light"
     },
     "output_type": "display_data"
    }
   ],
   "source": [
    "\n",
    "for self_report_regression_var in ['RTFS_factor_1', 'RTFS_factor_2', 'RTFS_f1_minus_f2']:\n",
    "    regression_output_folderpath = ml_data_folderpath + \"/SST/regress_sr_\" + self_report_regression_var\n",
    "    if os.path.exists(regression_output_folderpath)==False:\n",
    "        os.mkdir(regression_output_folderpath)\n",
    "    for source_dataset_name in [\n",
    "        'post_stop_cg_spatially_concatenated',\n",
    "        'post_failed_stop_cg_w_supplementary',\n",
    "        'post_correct_stop_cg_w_supplementary'\n",
    "    ]:\n",
    "        source_output_folderpath = regression_output_folderpath + \"/\" + source_dataset_name\n",
    "        if os.path.exists(source_output_folderpath)==False:\n",
    "            os.mkdir(source_output_folderpath)\n",
    "        for mlr_i, mlr in mask_list.iterrows():\n",
    "            print(mlr['filename'])\n",
    "            results_filepath=(\n",
    "                source_output_folderpath + \n",
    "                \"/regress_sr_no_zscore_\" + self_report_regression_var + \"_84subs_\" + \n",
    "                mlr['name'] + \".pkl\"\n",
    "            )\n",
    "            print(results_filepath)\n",
    "            do_complete_sr_regression_analysis_for_mask(\n",
    "                mask_filepath = mlr['filepath'],\n",
    "                mask_threshold = mlr['threshold'],\n",
    "                results_filepath = results_filepath,\n",
    "                apply_loocv_and_save_kwargs = \n",
    "                {'response_transform_func':sr_regressor_trans_func,\n",
    "                    'decoderConstructor' : decoderConstructor,\n",
    "                    \n",
    "                    'brain_data_filepath' : ml_data_folderpath + '/SST/Brain_Data_posterror_conditions_84subs_' + source_dataset_name + '.pkl',\n",
    "                    'train_test_markers_filepath' : train_test_markers_filepath\n",
    "                    }\n",
    "            )\n",
    "            "
   ]
  },
  {
   "cell_type": "code",
   "execution_count": 25,
   "id": "still-peeing",
   "metadata": {},
   "outputs": [
    {
     "name": "stdout",
     "output_type": "stream",
     "text": [
      "/gpfs/projects/sanlab/shared/DEV/nonbids_data/fMRI/ml/SST/regress_sr_RTFS_factor_1/post_stop_cg_spatially_concatenated/regress_sr_no_zscoreRTFS_factor_1_84subs_wholebrain.pkl\n",
      "/gpfs/projects/sanlab/shared/DEV/nonbids_data/fMRI/ml/SST/regress_sr_RTFS_factor_1/post_stop_cg_spatially_concatenated/regress_sr_no_zscoreRTFS_factor_1_84subs_wholebrain.pkl\n"
     ]
    },
    {
     "data": {
      "text/html": [
       "y"
      ],
      "text/plain": [
       "<IPython.core.display.HTML object>"
      ]
     },
     "metadata": {},
     "output_type": "display_data"
    },
    {
     "data": {
      "text/html": [
       "r=-0.02; p-value=0.8553"
      ],
      "text/plain": [
       "<IPython.core.display.HTML object>"
      ]
     },
     "metadata": {},
     "output_type": "display_data"
    },
    {
     "data": {
      "text/html": [
       "rho=0.03; p-value=0.8063"
      ],
      "text/plain": [
       "<IPython.core.display.HTML object>"
      ]
     },
     "metadata": {},
     "output_type": "display_data"
    },
    {
     "data": {
      "image/png": "[encoded data removed]",
      "text/plain": [
       "<Figure size 432x288 with 1 Axes>"
      ]
     },
     "metadata": {
      "needs_background": "light"
     },
     "output_type": "display_data"
    },
    {
     "name": "stdout",
     "output_type": "stream",
     "text": [
      "/gpfs/projects/sanlab/shared/DEV/nonbids_data/fMRI/ml/SST/regress_sr_RTFS_factor_1/post_failed_stop_cg_w_supplementary/regress_sr_no_zscoreRTFS_factor_1_84subs_wholebrain.pkl\n",
      "/gpfs/projects/sanlab/shared/DEV/nonbids_data/fMRI/ml/SST/regress_sr_RTFS_factor_1/post_failed_stop_cg_w_supplementary/regress_sr_no_zscoreRTFS_factor_1_84subs_wholebrain.pkl\n",
      "removed 1 outlying predictions or values\n"
     ]
    },
    {
     "data": {
      "text/html": [
       "y"
      ],
      "text/plain": [
       "<IPython.core.display.HTML object>"
      ]
     },
     "metadata": {},
     "output_type": "display_data"
    },
    {
     "data": {
      "text/html": [
       "r=-0.35; p-value=0.0098"
      ],
      "text/plain": [
       "<IPython.core.display.HTML object>"
      ]
     },
     "metadata": {},
     "output_type": "display_data"
    },
    {
     "data": {
      "text/html": [
       "rho=-0.31; p-value=0.0195"
      ],
      "text/plain": [
       "<IPython.core.display.HTML object>"
      ]
     },
     "metadata": {},
     "output_type": "display_data"
    },
    {
     "data": {
      "image/png": "[encoded data removed]",
      "text/plain": [
       "<Figure size 432x288 with 1 Axes>"
      ]
     },
     "metadata": {
      "needs_background": "light"
     },
     "output_type": "display_data"
    },
    {
     "name": "stdout",
     "output_type": "stream",
     "text": [
      "/gpfs/projects/sanlab/shared/DEV/nonbids_data/fMRI/ml/SST/regress_sr_RTFS_factor_1/post_correct_stop_cg_w_supplementary/regress_sr_no_zscoreRTFS_factor_1_84subs_wholebrain.pkl\n",
      "/gpfs/projects/sanlab/shared/DEV/nonbids_data/fMRI/ml/SST/regress_sr_RTFS_factor_1/post_correct_stop_cg_w_supplementary/regress_sr_no_zscoreRTFS_factor_1_84subs_wholebrain.pkl\n",
      "removed 3 outlying predictions or values\n"
     ]
    },
    {
     "data": {
      "text/html": [
       "y"
      ],
      "text/plain": [
       "<IPython.core.display.HTML object>"
      ]
     },
     "metadata": {},
     "output_type": "display_data"
    },
    {
     "data": {
      "text/html": [
       "r=-0.11; p-value=0.4486"
      ],
      "text/plain": [
       "<IPython.core.display.HTML object>"
      ]
     },
     "metadata": {},
     "output_type": "display_data"
    },
    {
     "data": {
      "text/html": [
       "rho=-0.03; p-value=0.8535"
      ],
      "text/plain": [
       "<IPython.core.display.HTML object>"
      ]
     },
     "metadata": {},
     "output_type": "display_data"
    },
    {
     "data": {
      "image/png": "[encoded data removed]",
      "text/plain": [
       "<Figure size 432x288 with 1 Axes>"
      ]
     },
     "metadata": {
      "needs_background": "light"
     },
     "output_type": "display_data"
    },
    {
     "name": "stdout",
     "output_type": "stream",
     "text": [
      "/gpfs/projects/sanlab/shared/DEV/nonbids_data/fMRI/ml/SST/regress_sr_RTFS_factor_2/post_stop_cg_spatially_concatenated/regress_sr_no_zscoreRTFS_factor_2_84subs_wholebrain.pkl\n",
      "/gpfs/projects/sanlab/shared/DEV/nonbids_data/fMRI/ml/SST/regress_sr_RTFS_factor_2/post_stop_cg_spatially_concatenated/regress_sr_no_zscoreRTFS_factor_2_84subs_wholebrain.pkl\n",
      "removed 1 outlying predictions or values\n"
     ]
    },
    {
     "data": {
      "text/html": [
       "y"
      ],
      "text/plain": [
       "<IPython.core.display.HTML object>"
      ]
     },
     "metadata": {},
     "output_type": "display_data"
    },
    {
     "data": {
      "text/html": [
       "r=-0.07; p-value=0.5978"
      ],
      "text/plain": [
       "<IPython.core.display.HTML object>"
      ]
     },
     "metadata": {},
     "output_type": "display_data"
    },
    {
     "data": {
      "text/html": [
       "rho=-0.11; p-value=0.4038"
      ],
      "text/plain": [
       "<IPython.core.display.HTML object>"
      ]
     },
     "metadata": {},
     "output_type": "display_data"
    },
    {
     "data": {
      "image/png": "[encoded data removed]",
      "text/plain": [
       "<Figure size 432x288 with 1 Axes>"
      ]
     },
     "metadata": {
      "needs_background": "light"
     },
     "output_type": "display_data"
    },
    {
     "name": "stdout",
     "output_type": "stream",
     "text": [
      "/gpfs/projects/sanlab/shared/DEV/nonbids_data/fMRI/ml/SST/regress_sr_RTFS_factor_2/post_failed_stop_cg_w_supplementary/regress_sr_no_zscoreRTFS_factor_2_84subs_wholebrain.pkl\n",
      "/gpfs/projects/sanlab/shared/DEV/nonbids_data/fMRI/ml/SST/regress_sr_RTFS_factor_2/post_failed_stop_cg_w_supplementary/regress_sr_no_zscoreRTFS_factor_2_84subs_wholebrain.pkl\n",
      "removed 3 outlying predictions or values\n"
     ]
    },
    {
     "data": {
      "text/html": [
       "y"
      ],
      "text/plain": [
       "<IPython.core.display.HTML object>"
      ]
     },
     "metadata": {},
     "output_type": "display_data"
    },
    {
     "data": {
      "text/html": [
       "r=-0.04; p-value=0.7726"
      ],
      "text/plain": [
       "<IPython.core.display.HTML object>"
      ]
     },
     "metadata": {},
     "output_type": "display_data"
    },
    {
     "data": {
      "text/html": [
       "rho=-0.04; p-value=0.7642"
      ],
      "text/plain": [
       "<IPython.core.display.HTML object>"
      ]
     },
     "metadata": {},
     "output_type": "display_data"
    },
    {
     "data": {
      "image/png": "[encoded data removed]",
      "text/plain": [
       "<Figure size 432x288 with 1 Axes>"
      ]
     },
     "metadata": {
      "needs_background": "light"
     },
     "output_type": "display_data"
    },
    {
     "name": "stdout",
     "output_type": "stream",
     "text": [
      "/gpfs/projects/sanlab/shared/DEV/nonbids_data/fMRI/ml/SST/regress_sr_RTFS_factor_2/post_correct_stop_cg_w_supplementary/regress_sr_no_zscoreRTFS_factor_2_84subs_wholebrain.pkl\n",
      "/gpfs/projects/sanlab/shared/DEV/nonbids_data/fMRI/ml/SST/regress_sr_RTFS_factor_2/post_correct_stop_cg_w_supplementary/regress_sr_no_zscoreRTFS_factor_2_84subs_wholebrain.pkl\n"
     ]
    },
    {
     "data": {
      "text/html": [
       "y"
      ],
      "text/plain": [
       "<IPython.core.display.HTML object>"
      ]
     },
     "metadata": {},
     "output_type": "display_data"
    },
    {
     "data": {
      "text/html": [
       "r=0.11; p-value=0.4288"
      ],
      "text/plain": [
       "<IPython.core.display.HTML object>"
      ]
     },
     "metadata": {},
     "output_type": "display_data"
    },
    {
     "data": {
      "text/html": [
       "rho=0.05; p-value=0.6897"
      ],
      "text/plain": [
       "<IPython.core.display.HTML object>"
      ]
     },
     "metadata": {},
     "output_type": "display_data"
    },
    {
     "data": {
      "image/png": "[encoded data removed]",
      "text/plain": [
       "<Figure size 432x288 with 1 Axes>"
      ]
     },
     "metadata": {
      "needs_background": "light"
     },
     "output_type": "display_data"
    },
    {
     "name": "stdout",
     "output_type": "stream",
     "text": [
      "/gpfs/projects/sanlab/shared/DEV/nonbids_data/fMRI/ml/SST/regress_sr_RTFS_f1_minus_f2/post_stop_cg_spatially_concatenated/regress_sr_no_zscoreRTFS_f1_minus_f2_84subs_wholebrain.pkl\n",
      "/gpfs/projects/sanlab/shared/DEV/nonbids_data/fMRI/ml/SST/regress_sr_RTFS_f1_minus_f2/post_stop_cg_spatially_concatenated/regress_sr_no_zscoreRTFS_f1_minus_f2_84subs_wholebrain.pkl\n",
      "removed 2 outlying predictions or values\n"
     ]
    },
    {
     "data": {
      "text/html": [
       "y"
      ],
      "text/plain": [
       "<IPython.core.display.HTML object>"
      ]
     },
     "metadata": {},
     "output_type": "display_data"
    },
    {
     "data": {
      "text/html": [
       "r=0.07; p-value=0.6350"
      ],
      "text/plain": [
       "<IPython.core.display.HTML object>"
      ]
     },
     "metadata": {},
     "output_type": "display_data"
    },
    {
     "data": {
      "text/html": [
       "rho=0.04; p-value=0.8022"
      ],
      "text/plain": [
       "<IPython.core.display.HTML object>"
      ]
     },
     "metadata": {},
     "output_type": "display_data"
    },
    {
     "data": {
      "image/png": "[encoded data removed]",
      "text/plain": [
       "<Figure size 432x288 with 1 Axes>"
      ]
     },
     "metadata": {
      "needs_background": "light"
     },
     "output_type": "display_data"
    },
    {
     "name": "stdout",
     "output_type": "stream",
     "text": [
      "/gpfs/projects/sanlab/shared/DEV/nonbids_data/fMRI/ml/SST/regress_sr_RTFS_f1_minus_f2/post_failed_stop_cg_w_supplementary/regress_sr_no_zscoreRTFS_f1_minus_f2_84subs_wholebrain.pkl\n",
      "/gpfs/projects/sanlab/shared/DEV/nonbids_data/fMRI/ml/SST/regress_sr_RTFS_f1_minus_f2/post_failed_stop_cg_w_supplementary/regress_sr_no_zscoreRTFS_f1_minus_f2_84subs_wholebrain.pkl\n",
      "removed 3 outlying predictions or values\n"
     ]
    },
    {
     "data": {
      "text/html": [
       "y"
      ],
      "text/plain": [
       "<IPython.core.display.HTML object>"
      ]
     },
     "metadata": {},
     "output_type": "display_data"
    },
    {
     "data": {
      "text/html": [
       "r=0.04; p-value=0.7860"
      ],
      "text/plain": [
       "<IPython.core.display.HTML object>"
      ]
     },
     "metadata": {},
     "output_type": "display_data"
    },
    {
     "data": {
      "text/html": [
       "rho=0.03; p-value=0.8129"
      ],
      "text/plain": [
       "<IPython.core.display.HTML object>"
      ]
     },
     "metadata": {},
     "output_type": "display_data"
    },
    {
     "data": {
      "image/png": "[encoded data removed]",
      "text/plain": [
       "<Figure size 432x288 with 1 Axes>"
      ]
     },
     "metadata": {
      "needs_background": "light"
     },
     "output_type": "display_data"
    },
    {
     "name": "stdout",
     "output_type": "stream",
     "text": [
      "/gpfs/projects/sanlab/shared/DEV/nonbids_data/fMRI/ml/SST/regress_sr_RTFS_f1_minus_f2/post_correct_stop_cg_w_supplementary/regress_sr_no_zscoreRTFS_f1_minus_f2_84subs_wholebrain.pkl\n",
      "/gpfs/projects/sanlab/shared/DEV/nonbids_data/fMRI/ml/SST/regress_sr_RTFS_f1_minus_f2/post_correct_stop_cg_w_supplementary/regress_sr_no_zscoreRTFS_f1_minus_f2_84subs_wholebrain.pkl\n",
      "removed 1 outlying predictions or values\n"
     ]
    },
    {
     "data": {
      "text/html": [
       "y"
      ],
      "text/plain": [
       "<IPython.core.display.HTML object>"
      ]
     },
     "metadata": {},
     "output_type": "display_data"
    },
    {
     "data": {
      "text/html": [
       "r=0.05; p-value=0.7018"
      ],
      "text/plain": [
       "<IPython.core.display.HTML object>"
      ]
     },
     "metadata": {},
     "output_type": "display_data"
    },
    {
     "data": {
      "text/html": [
       "rho=0.03; p-value=0.8398"
      ],
      "text/plain": [
       "<IPython.core.display.HTML object>"
      ]
     },
     "metadata": {},
     "output_type": "display_data"
    },
    {
     "data": {
      "image/png": "[encoded data removed]",
      "text/plain": [
       "<Figure size 432x288 with 1 Axes>"
      ]
     },
     "metadata": {
      "needs_background": "light"
     },
     "output_type": "display_data"
    }
   ],
   "source": [
    "\n",
    "for self_report_regression_var in ['RTFS_factor_1', 'RTFS_factor_2', 'RTFS_f1_minus_f2']:\n",
    "    regression_output_folderpath = ml_data_folderpath + \"/SST/regress_sr_\" + self_report_regression_var\n",
    "    if os.path.exists(regression_output_folderpath)==False:\n",
    "        os.mkdir(regression_output_folderpath)\n",
    "    for source_dataset_name in [\n",
    "        'post_stop_cg_spatially_concatenated',\n",
    "        'post_failed_stop_cg_w_supplementary',\n",
    "        'post_correct_stop_cg_w_supplementary'\n",
    "    ]:\n",
    "        source_output_folderpath = regression_output_folderpath + \"/\" + source_dataset_name\n",
    "        if os.path.exists(source_output_folderpath)==False:\n",
    "            os.mkdir(source_output_folderpath)\n",
    "#         for mlr_i, mlr in mask_list.iterrows():\n",
    "#             print(mlr['filename'])\n",
    "        results_filepath=(\n",
    "            source_output_folderpath + \n",
    "            \"/regress_sr_no_zscore\" + self_report_regression_var + \"_84subs_\" + \n",
    "        \"wholebrain\" + \".pkl\"\n",
    "        )\n",
    "        print(results_filepath)\n",
    "        do_complete_sr_regression_analysis_for_mask(\n",
    "#             mask_filepath = mlr['filepath'],\n",
    "#             mask_threshold = mlr['threshold'],\n",
    "                results_filepath = results_filepath,\n",
    "                apply_loocv_and_save_kwargs = \n",
    "                {'response_transform_func':sr_regressor_trans_func,\n",
    "                    'decoderConstructor' : decoderConstructor,\n",
    "                    \n",
    "                    'brain_data_filepath' : ml_data_folderpath + '/SST/Brain_Data_posterror_conditions_84subs_' + source_dataset_name + '.pkl',\n",
    "                    'train_test_markers_filepath' : train_test_markers_filepath\n",
    "                    }\n",
    "        )\n"
   ]
  },
  {
   "cell_type": "code",
   "execution_count": 26,
   "id": "hungry-civilization",
   "metadata": {},
   "outputs": [],
   "source": [
    "def visualize_series_corr(series1,series2):\n",
    "    display(HTML(series1.name + \" vs \" + series2.name))\n",
    "    pearson_result = pearsonr(series1,series2)\n",
    "    display(HTML(\"r=\" + format(pearson_result[0],\".2f\") +\"; p-value=\" + format(pearson_result[1],\".4f\")))\n",
    "    spearman_result = spearmanr(series1,series2)\n",
    "    display(HTML(\"rho=\" + format(spearman_result[0],\".2f\") +\"; p-value=\" + format(spearman_result[1],\".4f\")))\n",
    "    cplot = pyplot.scatter(series1,series2)\n",
    "    cplot.axes.set_xlabel(series1.name)\n",
    "    cplot.axes.set_ylabel(series2.name)\n",
    "    pyplot.show()"
   ]
  },
  {
   "cell_type": "code",
   "execution_count": 27,
   "id": "adequate-implementation",
   "metadata": {},
   "outputs": [],
   "source": [
    "from matplotlib import pyplot as plt"
   ]
  },
  {
   "cell_type": "markdown",
   "id": "authorized-myanmar",
   "metadata": {},
   "source": [
    "## generate commands to run the batch version of the above"
   ]
  },
  {
   "cell_type": "code",
   "execution_count": 24,
   "id": "institutional-break",
   "metadata": {},
   "outputs": [
    {
     "name": "stdout",
     "output_type": "stream",
     "text": [
      "sbatch run_sr_learning_script.sbatch ml-ns_on_self_report_batch.py -m \"/gpfs/projects/sanlab/shared/DEV/nonbids_data/fMRI/ml/masks/failure_related/harvardoxford/harvardoxford-cortical_prob_Frontal Orbital Cortex.nii.gz\" -t 30 -r RTFS_factor_1 -s /SST/Brain_Data_posterror_conditions_84subs_post_stop_cg_spatially_concatenated.pkl -o \"/gpfs/projects/sanlab/shared/DEV/nonbids_data/fMRI/ml/SST/regress_sr_RTFS_factor_1/post_stop_cg_spatially_concatenated/regress_sr_no_zscore_RTFS_factor_1_84subs_harvardoxford-cortical_prob_Frontal Orbital Cortex.pkl\"\n",
      "\n",
      "sbatch run_sr_learning_script.sbatch ml-ns_on_self_report_batch.py -m \"/gpfs/projects/sanlab/shared/DEV/nonbids_data/fMRI/ml/masks/failure_related/harvardoxford/harvardoxford-cortical_prob_Cingulate Gyrus, anterior division.nii.gz\" -t 30 -r RTFS_factor_1 -s /SST/Brain_Data_posterror_conditions_84subs_post_stop_cg_spatially_concatenated.pkl -o \"/gpfs/projects/sanlab/shared/DEV/nonbids_data/fMRI/ml/SST/regress_sr_RTFS_factor_1/post_stop_cg_spatially_concatenated/regress_sr_no_zscore_RTFS_factor_1_84subs_harvardoxford-cortical_prob_Cingulate Gyrus, anterior division.pkl\"\n",
      "\n",
      "sbatch run_sr_learning_script.sbatch ml-ns_on_self_report_batch.py -m \"/gpfs/projects/sanlab/shared/DEV/nonbids_data/fMRI/ml/masks/failure_related/negative affect_association-test_z_FDR_0.01.nii.gz\" -t 0 -r RTFS_factor_1 -s /SST/Brain_Data_posterror_conditions_84subs_post_stop_cg_spatially_concatenated.pkl -o \"/gpfs/projects/sanlab/shared/DEV/nonbids_data/fMRI/ml/SST/regress_sr_RTFS_factor_1/post_stop_cg_spatially_concatenated/regress_sr_no_zscore_RTFS_factor_1_84subs_negative affect_association-test_z_FDR_0.pkl\"\n",
      "\n",
      "sbatch run_sr_learning_script.sbatch ml-ns_on_self_report_batch.py -m \"/gpfs/projects/sanlab/shared/DEV/nonbids_data/fMRI/ml/masks/failure_related/emotion regulation_association-test_z_FDR_0.01.nii.gz\" -t 0 -r RTFS_factor_1 -s /SST/Brain_Data_posterror_conditions_84subs_post_stop_cg_spatially_concatenated.pkl -o \"/gpfs/projects/sanlab/shared/DEV/nonbids_data/fMRI/ml/SST/regress_sr_RTFS_factor_1/post_stop_cg_spatially_concatenated/regress_sr_no_zscore_RTFS_factor_1_84subs_emotion regulation_association-test_z_FDR_0.pkl\"\n",
      "\n",
      "sbatch run_sr_learning_script.sbatch ml-ns_on_self_report_batch.py -m \"/gpfs/projects/sanlab/shared/DEV/nonbids_data/fMRI/ml/masks/failure_related/harvardoxford-cortical_prob_Frontal Medial Cortex.nii.gz\" -t 0 -r RTFS_factor_1 -s /SST/Brain_Data_posterror_conditions_84subs_post_stop_cg_spatially_concatenated.pkl -o \"/gpfs/projects/sanlab/shared/DEV/nonbids_data/fMRI/ml/SST/regress_sr_RTFS_factor_1/post_stop_cg_spatially_concatenated/regress_sr_no_zscore_RTFS_factor_1_84subs_harvardoxford-cortical_prob_Frontal Medial Cortex.pkl\"\n",
      "\n",
      "sbatch run_sr_learning_script.sbatch ml-ns_on_self_report_batch.py -m \"/gpfs/projects/sanlab/shared/DEV/nonbids_data/fMRI/ml/masks/failure_related/negative emotions_association-test_z_FDR_0.01.nii.gz\" -t 0 -r RTFS_factor_1 -s /SST/Brain_Data_posterror_conditions_84subs_post_stop_cg_spatially_concatenated.pkl -o \"/gpfs/projects/sanlab/shared/DEV/nonbids_data/fMRI/ml/SST/regress_sr_RTFS_factor_1/post_stop_cg_spatially_concatenated/regress_sr_no_zscore_RTFS_factor_1_84subs_negative emotions_association-test_z_FDR_0.pkl\"\n",
      "\n",
      "sbatch run_sr_learning_script.sbatch ml-ns_on_self_report_batch.py -m \"/gpfs/projects/sanlab/shared/DEV/nonbids_data/fMRI/ml/masks/failure_related/self referential_association-test_z_FDR_0.01.nii.gz\" -t 0 -r RTFS_factor_1 -s /SST/Brain_Data_posterror_conditions_84subs_post_stop_cg_spatially_concatenated.pkl -o \"/gpfs/projects/sanlab/shared/DEV/nonbids_data/fMRI/ml/SST/regress_sr_RTFS_factor_1/post_stop_cg_spatially_concatenated/regress_sr_no_zscore_RTFS_factor_1_84subs_self referential_association-test_z_FDR_0.pkl\"\n",
      "\n",
      "sbatch run_sr_learning_script.sbatch ml-ns_on_self_report_batch.py -m \"/gpfs/projects/sanlab/shared/DEV/nonbids_data/fMRI/ml/masks/failure_related/harvardoxford/harvardoxford-cortical_prob_Frontal Orbital Cortex.nii.gz\" -t 30 -r RTFS_factor_1 -s /SST/Brain_Data_posterror_conditions_84subs_post_failed_stop_cg_w_supplementary.pkl -o \"/gpfs/projects/sanlab/shared/DEV/nonbids_data/fMRI/ml/SST/regress_sr_RTFS_factor_1/post_failed_stop_cg_w_supplementary/regress_sr_no_zscore_RTFS_factor_1_84subs_harvardoxford-cortical_prob_Frontal Orbital Cortex.pkl\"\n",
      "\n",
      "sbatch run_sr_learning_script.sbatch ml-ns_on_self_report_batch.py -m \"/gpfs/projects/sanlab/shared/DEV/nonbids_data/fMRI/ml/masks/failure_related/harvardoxford/harvardoxford-cortical_prob_Cingulate Gyrus, anterior division.nii.gz\" -t 30 -r RTFS_factor_1 -s /SST/Brain_Data_posterror_conditions_84subs_post_failed_stop_cg_w_supplementary.pkl -o \"/gpfs/projects/sanlab/shared/DEV/nonbids_data/fMRI/ml/SST/regress_sr_RTFS_factor_1/post_failed_stop_cg_w_supplementary/regress_sr_no_zscore_RTFS_factor_1_84subs_harvardoxford-cortical_prob_Cingulate Gyrus, anterior division.pkl\"\n",
      "\n",
      "sbatch run_sr_learning_script.sbatch ml-ns_on_self_report_batch.py -m \"/gpfs/projects/sanlab/shared/DEV/nonbids_data/fMRI/ml/masks/failure_related/negative affect_association-test_z_FDR_0.01.nii.gz\" -t 0 -r RTFS_factor_1 -s /SST/Brain_Data_posterror_conditions_84subs_post_failed_stop_cg_w_supplementary.pkl -o \"/gpfs/projects/sanlab/shared/DEV/nonbids_data/fMRI/ml/SST/regress_sr_RTFS_factor_1/post_failed_stop_cg_w_supplementary/regress_sr_no_zscore_RTFS_factor_1_84subs_negative affect_association-test_z_FDR_0.pkl\"\n",
      "\n",
      "sbatch run_sr_learning_script.sbatch ml-ns_on_self_report_batch.py -m \"/gpfs/projects/sanlab/shared/DEV/nonbids_data/fMRI/ml/masks/failure_related/emotion regulation_association-test_z_FDR_0.01.nii.gz\" -t 0 -r RTFS_factor_1 -s /SST/Brain_Data_posterror_conditions_84subs_post_failed_stop_cg_w_supplementary.pkl -o \"/gpfs/projects/sanlab/shared/DEV/nonbids_data/fMRI/ml/SST/regress_sr_RTFS_factor_1/post_failed_stop_cg_w_supplementary/regress_sr_no_zscore_RTFS_factor_1_84subs_emotion regulation_association-test_z_FDR_0.pkl\"\n",
      "\n",
      "sbatch run_sr_learning_script.sbatch ml-ns_on_self_report_batch.py -m \"/gpfs/projects/sanlab/shared/DEV/nonbids_data/fMRI/ml/masks/failure_related/harvardoxford-cortical_prob_Frontal Medial Cortex.nii.gz\" -t 0 -r RTFS_factor_1 -s /SST/Brain_Data_posterror_conditions_84subs_post_failed_stop_cg_w_supplementary.pkl -o \"/gpfs/projects/sanlab/shared/DEV/nonbids_data/fMRI/ml/SST/regress_sr_RTFS_factor_1/post_failed_stop_cg_w_supplementary/regress_sr_no_zscore_RTFS_factor_1_84subs_harvardoxford-cortical_prob_Frontal Medial Cortex.pkl\"\n",
      "\n",
      "sbatch run_sr_learning_script.sbatch ml-ns_on_self_report_batch.py -m \"/gpfs/projects/sanlab/shared/DEV/nonbids_data/fMRI/ml/masks/failure_related/negative emotions_association-test_z_FDR_0.01.nii.gz\" -t 0 -r RTFS_factor_1 -s /SST/Brain_Data_posterror_conditions_84subs_post_failed_stop_cg_w_supplementary.pkl -o \"/gpfs/projects/sanlab/shared/DEV/nonbids_data/fMRI/ml/SST/regress_sr_RTFS_factor_1/post_failed_stop_cg_w_supplementary/regress_sr_no_zscore_RTFS_factor_1_84subs_negative emotions_association-test_z_FDR_0.pkl\"\n",
      "\n",
      "sbatch run_sr_learning_script.sbatch ml-ns_on_self_report_batch.py -m \"/gpfs/projects/sanlab/shared/DEV/nonbids_data/fMRI/ml/masks/failure_related/self referential_association-test_z_FDR_0.01.nii.gz\" -t 0 -r RTFS_factor_1 -s /SST/Brain_Data_posterror_conditions_84subs_post_failed_stop_cg_w_supplementary.pkl -o \"/gpfs/projects/sanlab/shared/DEV/nonbids_data/fMRI/ml/SST/regress_sr_RTFS_factor_1/post_failed_stop_cg_w_supplementary/regress_sr_no_zscore_RTFS_factor_1_84subs_self referential_association-test_z_FDR_0.pkl\"\n",
      "\n",
      "sbatch run_sr_learning_script.sbatch ml-ns_on_self_report_batch.py -m \"/gpfs/projects/sanlab/shared/DEV/nonbids_data/fMRI/ml/masks/failure_related/harvardoxford/harvardoxford-cortical_prob_Frontal Orbital Cortex.nii.gz\" -t 30 -r RTFS_factor_1 -s /SST/Brain_Data_posterror_conditions_84subs_post_correct_stop_cg_w_supplementary.pkl -o \"/gpfs/projects/sanlab/shared/DEV/nonbids_data/fMRI/ml/SST/regress_sr_RTFS_factor_1/post_correct_stop_cg_w_supplementary/regress_sr_no_zscore_RTFS_factor_1_84subs_harvardoxford-cortical_prob_Frontal Orbital Cortex.pkl\"\n",
      "\n",
      "sbatch run_sr_learning_script.sbatch ml-ns_on_self_report_batch.py -m \"/gpfs/projects/sanlab/shared/DEV/nonbids_data/fMRI/ml/masks/failure_related/harvardoxford/harvardoxford-cortical_prob_Cingulate Gyrus, anterior division.nii.gz\" -t 30 -r RTFS_factor_1 -s /SST/Brain_Data_posterror_conditions_84subs_post_correct_stop_cg_w_supplementary.pkl -o \"/gpfs/projects/sanlab/shared/DEV/nonbids_data/fMRI/ml/SST/regress_sr_RTFS_factor_1/post_correct_stop_cg_w_supplementary/regress_sr_no_zscore_RTFS_factor_1_84subs_harvardoxford-cortical_prob_Cingulate Gyrus, anterior division.pkl\"\n",
      "\n",
      "sbatch run_sr_learning_script.sbatch ml-ns_on_self_report_batch.py -m \"/gpfs/projects/sanlab/shared/DEV/nonbids_data/fMRI/ml/masks/failure_related/negative affect_association-test_z_FDR_0.01.nii.gz\" -t 0 -r RTFS_factor_1 -s /SST/Brain_Data_posterror_conditions_84subs_post_correct_stop_cg_w_supplementary.pkl -o \"/gpfs/projects/sanlab/shared/DEV/nonbids_data/fMRI/ml/SST/regress_sr_RTFS_factor_1/post_correct_stop_cg_w_supplementary/regress_sr_no_zscore_RTFS_factor_1_84subs_negative affect_association-test_z_FDR_0.pkl\"\n",
      "\n",
      "sbatch run_sr_learning_script.sbatch ml-ns_on_self_report_batch.py -m \"/gpfs/projects/sanlab/shared/DEV/nonbids_data/fMRI/ml/masks/failure_related/emotion regulation_association-test_z_FDR_0.01.nii.gz\" -t 0 -r RTFS_factor_1 -s /SST/Brain_Data_posterror_conditions_84subs_post_correct_stop_cg_w_supplementary.pkl -o \"/gpfs/projects/sanlab/shared/DEV/nonbids_data/fMRI/ml/SST/regress_sr_RTFS_factor_1/post_correct_stop_cg_w_supplementary/regress_sr_no_zscore_RTFS_factor_1_84subs_emotion regulation_association-test_z_FDR_0.pkl\"\n",
      "\n",
      "sbatch run_sr_learning_script.sbatch ml-ns_on_self_report_batch.py -m \"/gpfs/projects/sanlab/shared/DEV/nonbids_data/fMRI/ml/masks/failure_related/harvardoxford-cortical_prob_Frontal Medial Cortex.nii.gz\" -t 0 -r RTFS_factor_1 -s /SST/Brain_Data_posterror_conditions_84subs_post_correct_stop_cg_w_supplementary.pkl -o \"/gpfs/projects/sanlab/shared/DEV/nonbids_data/fMRI/ml/SST/regress_sr_RTFS_factor_1/post_correct_stop_cg_w_supplementary/regress_sr_no_zscore_RTFS_factor_1_84subs_harvardoxford-cortical_prob_Frontal Medial Cortex.pkl\"\n",
      "\n",
      "sbatch run_sr_learning_script.sbatch ml-ns_on_self_report_batch.py -m \"/gpfs/projects/sanlab/shared/DEV/nonbids_data/fMRI/ml/masks/failure_related/negative emotions_association-test_z_FDR_0.01.nii.gz\" -t 0 -r RTFS_factor_1 -s /SST/Brain_Data_posterror_conditions_84subs_post_correct_stop_cg_w_supplementary.pkl -o \"/gpfs/projects/sanlab/shared/DEV/nonbids_data/fMRI/ml/SST/regress_sr_RTFS_factor_1/post_correct_stop_cg_w_supplementary/regress_sr_no_zscore_RTFS_factor_1_84subs_negative emotions_association-test_z_FDR_0.pkl\"\n",
      "\n",
      "sbatch run_sr_learning_script.sbatch ml-ns_on_self_report_batch.py -m \"/gpfs/projects/sanlab/shared/DEV/nonbids_data/fMRI/ml/masks/failure_related/self referential_association-test_z_FDR_0.01.nii.gz\" -t 0 -r RTFS_factor_1 -s /SST/Brain_Data_posterror_conditions_84subs_post_correct_stop_cg_w_supplementary.pkl -o \"/gpfs/projects/sanlab/shared/DEV/nonbids_data/fMRI/ml/SST/regress_sr_RTFS_factor_1/post_correct_stop_cg_w_supplementary/regress_sr_no_zscore_RTFS_factor_1_84subs_self referential_association-test_z_FDR_0.pkl\"\n",
      "\n",
      "sbatch run_sr_learning_script.sbatch ml-ns_on_self_report_batch.py -m \"/gpfs/projects/sanlab/shared/DEV/nonbids_data/fMRI/ml/masks/failure_related/harvardoxford/harvardoxford-cortical_prob_Frontal Orbital Cortex.nii.gz\" -t 30 -r RTFS_factor_2 -s /SST/Brain_Data_posterror_conditions_84subs_post_stop_cg_spatially_concatenated.pkl -o \"/gpfs/projects/sanlab/shared/DEV/nonbids_data/fMRI/ml/SST/regress_sr_RTFS_factor_2/post_stop_cg_spatially_concatenated/regress_sr_no_zscore_RTFS_factor_2_84subs_harvardoxford-cortical_prob_Frontal Orbital Cortex.pkl\"\n",
      "\n",
      "sbatch run_sr_learning_script.sbatch ml-ns_on_self_report_batch.py -m \"/gpfs/projects/sanlab/shared/DEV/nonbids_data/fMRI/ml/masks/failure_related/harvardoxford/harvardoxford-cortical_prob_Cingulate Gyrus, anterior division.nii.gz\" -t 30 -r RTFS_factor_2 -s /SST/Brain_Data_posterror_conditions_84subs_post_stop_cg_spatially_concatenated.pkl -o \"/gpfs/projects/sanlab/shared/DEV/nonbids_data/fMRI/ml/SST/regress_sr_RTFS_factor_2/post_stop_cg_spatially_concatenated/regress_sr_no_zscore_RTFS_factor_2_84subs_harvardoxford-cortical_prob_Cingulate Gyrus, anterior division.pkl\"\n",
      "\n",
      "sbatch run_sr_learning_script.sbatch ml-ns_on_self_report_batch.py -m \"/gpfs/projects/sanlab/shared/DEV/nonbids_data/fMRI/ml/masks/failure_related/negative affect_association-test_z_FDR_0.01.nii.gz\" -t 0 -r RTFS_factor_2 -s /SST/Brain_Data_posterror_conditions_84subs_post_stop_cg_spatially_concatenated.pkl -o \"/gpfs/projects/sanlab/shared/DEV/nonbids_data/fMRI/ml/SST/regress_sr_RTFS_factor_2/post_stop_cg_spatially_concatenated/regress_sr_no_zscore_RTFS_factor_2_84subs_negative affect_association-test_z_FDR_0.pkl\"\n",
      "\n",
      "sbatch run_sr_learning_script.sbatch ml-ns_on_self_report_batch.py -m \"/gpfs/projects/sanlab/shared/DEV/nonbids_data/fMRI/ml/masks/failure_related/emotion regulation_association-test_z_FDR_0.01.nii.gz\" -t 0 -r RTFS_factor_2 -s /SST/Brain_Data_posterror_conditions_84subs_post_stop_cg_spatially_concatenated.pkl -o \"/gpfs/projects/sanlab/shared/DEV/nonbids_data/fMRI/ml/SST/regress_sr_RTFS_factor_2/post_stop_cg_spatially_concatenated/regress_sr_no_zscore_RTFS_factor_2_84subs_emotion regulation_association-test_z_FDR_0.pkl\"\n",
      "\n",
      "sbatch run_sr_learning_script.sbatch ml-ns_on_self_report_batch.py -m \"/gpfs/projects/sanlab/shared/DEV/nonbids_data/fMRI/ml/masks/failure_related/harvardoxford-cortical_prob_Frontal Medial Cortex.nii.gz\" -t 0 -r RTFS_factor_2 -s /SST/Brain_Data_posterror_conditions_84subs_post_stop_cg_spatially_concatenated.pkl -o \"/gpfs/projects/sanlab/shared/DEV/nonbids_data/fMRI/ml/SST/regress_sr_RTFS_factor_2/post_stop_cg_spatially_concatenated/regress_sr_no_zscore_RTFS_factor_2_84subs_harvardoxford-cortical_prob_Frontal Medial Cortex.pkl\"\n",
      "\n",
      "sbatch run_sr_learning_script.sbatch ml-ns_on_self_report_batch.py -m \"/gpfs/projects/sanlab/shared/DEV/nonbids_data/fMRI/ml/masks/failure_related/negative emotions_association-test_z_FDR_0.01.nii.gz\" -t 0 -r RTFS_factor_2 -s /SST/Brain_Data_posterror_conditions_84subs_post_stop_cg_spatially_concatenated.pkl -o \"/gpfs/projects/sanlab/shared/DEV/nonbids_data/fMRI/ml/SST/regress_sr_RTFS_factor_2/post_stop_cg_spatially_concatenated/regress_sr_no_zscore_RTFS_factor_2_84subs_negative emotions_association-test_z_FDR_0.pkl\"\n",
      "\n",
      "sbatch run_sr_learning_script.sbatch ml-ns_on_self_report_batch.py -m \"/gpfs/projects/sanlab/shared/DEV/nonbids_data/fMRI/ml/masks/failure_related/self referential_association-test_z_FDR_0.01.nii.gz\" -t 0 -r RTFS_factor_2 -s /SST/Brain_Data_posterror_conditions_84subs_post_stop_cg_spatially_concatenated.pkl -o \"/gpfs/projects/sanlab/shared/DEV/nonbids_data/fMRI/ml/SST/regress_sr_RTFS_factor_2/post_stop_cg_spatially_concatenated/regress_sr_no_zscore_RTFS_factor_2_84subs_self referential_association-test_z_FDR_0.pkl\"\n",
      "\n",
      "sbatch run_sr_learning_script.sbatch ml-ns_on_self_report_batch.py -m \"/gpfs/projects/sanlab/shared/DEV/nonbids_data/fMRI/ml/masks/failure_related/harvardoxford/harvardoxford-cortical_prob_Frontal Orbital Cortex.nii.gz\" -t 30 -r RTFS_factor_2 -s /SST/Brain_Data_posterror_conditions_84subs_post_failed_stop_cg_w_supplementary.pkl -o \"/gpfs/projects/sanlab/shared/DEV/nonbids_data/fMRI/ml/SST/regress_sr_RTFS_factor_2/post_failed_stop_cg_w_supplementary/regress_sr_no_zscore_RTFS_factor_2_84subs_harvardoxford-cortical_prob_Frontal Orbital Cortex.pkl\"\n",
      "\n",
      "sbatch run_sr_learning_script.sbatch ml-ns_on_self_report_batch.py -m \"/gpfs/projects/sanlab/shared/DEV/nonbids_data/fMRI/ml/masks/failure_related/harvardoxford/harvardoxford-cortical_prob_Cingulate Gyrus, anterior division.nii.gz\" -t 30 -r RTFS_factor_2 -s /SST/Brain_Data_posterror_conditions_84subs_post_failed_stop_cg_w_supplementary.pkl -o \"/gpfs/projects/sanlab/shared/DEV/nonbids_data/fMRI/ml/SST/regress_sr_RTFS_factor_2/post_failed_stop_cg_w_supplementary/regress_sr_no_zscore_RTFS_factor_2_84subs_harvardoxford-cortical_prob_Cingulate Gyrus, anterior division.pkl\"\n",
      "\n",
      "sbatch run_sr_learning_script.sbatch ml-ns_on_self_report_batch.py -m \"/gpfs/projects/sanlab/shared/DEV/nonbids_data/fMRI/ml/masks/failure_related/negative affect_association-test_z_FDR_0.01.nii.gz\" -t 0 -r RTFS_factor_2 -s /SST/Brain_Data_posterror_conditions_84subs_post_failed_stop_cg_w_supplementary.pkl -o \"/gpfs/projects/sanlab/shared/DEV/nonbids_data/fMRI/ml/SST/regress_sr_RTFS_factor_2/post_failed_stop_cg_w_supplementary/regress_sr_no_zscore_RTFS_factor_2_84subs_negative affect_association-test_z_FDR_0.pkl\"\n",
      "\n",
      "sbatch run_sr_learning_script.sbatch ml-ns_on_self_report_batch.py -m \"/gpfs/projects/sanlab/shared/DEV/nonbids_data/fMRI/ml/masks/failure_related/emotion regulation_association-test_z_FDR_0.01.nii.gz\" -t 0 -r RTFS_factor_2 -s /SST/Brain_Data_posterror_conditions_84subs_post_failed_stop_cg_w_supplementary.pkl -o \"/gpfs/projects/sanlab/shared/DEV/nonbids_data/fMRI/ml/SST/regress_sr_RTFS_factor_2/post_failed_stop_cg_w_supplementary/regress_sr_no_zscore_RTFS_factor_2_84subs_emotion regulation_association-test_z_FDR_0.pkl\"\n",
      "\n",
      "sbatch run_sr_learning_script.sbatch ml-ns_on_self_report_batch.py -m \"/gpfs/projects/sanlab/shared/DEV/nonbids_data/fMRI/ml/masks/failure_related/harvardoxford-cortical_prob_Frontal Medial Cortex.nii.gz\" -t 0 -r RTFS_factor_2 -s /SST/Brain_Data_posterror_conditions_84subs_post_failed_stop_cg_w_supplementary.pkl -o \"/gpfs/projects/sanlab/shared/DEV/nonbids_data/fMRI/ml/SST/regress_sr_RTFS_factor_2/post_failed_stop_cg_w_supplementary/regress_sr_no_zscore_RTFS_factor_2_84subs_harvardoxford-cortical_prob_Frontal Medial Cortex.pkl\"\n",
      "\n",
      "sbatch run_sr_learning_script.sbatch ml-ns_on_self_report_batch.py -m \"/gpfs/projects/sanlab/shared/DEV/nonbids_data/fMRI/ml/masks/failure_related/negative emotions_association-test_z_FDR_0.01.nii.gz\" -t 0 -r RTFS_factor_2 -s /SST/Brain_Data_posterror_conditions_84subs_post_failed_stop_cg_w_supplementary.pkl -o \"/gpfs/projects/sanlab/shared/DEV/nonbids_data/fMRI/ml/SST/regress_sr_RTFS_factor_2/post_failed_stop_cg_w_supplementary/regress_sr_no_zscore_RTFS_factor_2_84subs_negative emotions_association-test_z_FDR_0.pkl\"\n",
      "\n",
      "sbatch run_sr_learning_script.sbatch ml-ns_on_self_report_batch.py -m \"/gpfs/projects/sanlab/shared/DEV/nonbids_data/fMRI/ml/masks/failure_related/self referential_association-test_z_FDR_0.01.nii.gz\" -t 0 -r RTFS_factor_2 -s /SST/Brain_Data_posterror_conditions_84subs_post_failed_stop_cg_w_supplementary.pkl -o \"/gpfs/projects/sanlab/shared/DEV/nonbids_data/fMRI/ml/SST/regress_sr_RTFS_factor_2/post_failed_stop_cg_w_supplementary/regress_sr_no_zscore_RTFS_factor_2_84subs_self referential_association-test_z_FDR_0.pkl\"\n",
      "\n",
      "sbatch run_sr_learning_script.sbatch ml-ns_on_self_report_batch.py -m \"/gpfs/projects/sanlab/shared/DEV/nonbids_data/fMRI/ml/masks/failure_related/harvardoxford/harvardoxford-cortical_prob_Frontal Orbital Cortex.nii.gz\" -t 30 -r RTFS_factor_2 -s /SST/Brain_Data_posterror_conditions_84subs_post_correct_stop_cg_w_supplementary.pkl -o \"/gpfs/projects/sanlab/shared/DEV/nonbids_data/fMRI/ml/SST/regress_sr_RTFS_factor_2/post_correct_stop_cg_w_supplementary/regress_sr_no_zscore_RTFS_factor_2_84subs_harvardoxford-cortical_prob_Frontal Orbital Cortex.pkl\"\n",
      "\n",
      "sbatch run_sr_learning_script.sbatch ml-ns_on_self_report_batch.py -m \"/gpfs/projects/sanlab/shared/DEV/nonbids_data/fMRI/ml/masks/failure_related/harvardoxford/harvardoxford-cortical_prob_Cingulate Gyrus, anterior division.nii.gz\" -t 30 -r RTFS_factor_2 -s /SST/Brain_Data_posterror_conditions_84subs_post_correct_stop_cg_w_supplementary.pkl -o \"/gpfs/projects/sanlab/shared/DEV/nonbids_data/fMRI/ml/SST/regress_sr_RTFS_factor_2/post_correct_stop_cg_w_supplementary/regress_sr_no_zscore_RTFS_factor_2_84subs_harvardoxford-cortical_prob_Cingulate Gyrus, anterior division.pkl\"\n",
      "\n",
      "sbatch run_sr_learning_script.sbatch ml-ns_on_self_report_batch.py -m \"/gpfs/projects/sanlab/shared/DEV/nonbids_data/fMRI/ml/masks/failure_related/negative affect_association-test_z_FDR_0.01.nii.gz\" -t 0 -r RTFS_factor_2 -s /SST/Brain_Data_posterror_conditions_84subs_post_correct_stop_cg_w_supplementary.pkl -o \"/gpfs/projects/sanlab/shared/DEV/nonbids_data/fMRI/ml/SST/regress_sr_RTFS_factor_2/post_correct_stop_cg_w_supplementary/regress_sr_no_zscore_RTFS_factor_2_84subs_negative affect_association-test_z_FDR_0.pkl\"\n",
      "\n",
      "sbatch run_sr_learning_script.sbatch ml-ns_on_self_report_batch.py -m \"/gpfs/projects/sanlab/shared/DEV/nonbids_data/fMRI/ml/masks/failure_related/emotion regulation_association-test_z_FDR_0.01.nii.gz\" -t 0 -r RTFS_factor_2 -s /SST/Brain_Data_posterror_conditions_84subs_post_correct_stop_cg_w_supplementary.pkl -o \"/gpfs/projects/sanlab/shared/DEV/nonbids_data/fMRI/ml/SST/regress_sr_RTFS_factor_2/post_correct_stop_cg_w_supplementary/regress_sr_no_zscore_RTFS_factor_2_84subs_emotion regulation_association-test_z_FDR_0.pkl\"\n",
      "\n",
      "sbatch run_sr_learning_script.sbatch ml-ns_on_self_report_batch.py -m \"/gpfs/projects/sanlab/shared/DEV/nonbids_data/fMRI/ml/masks/failure_related/harvardoxford-cortical_prob_Frontal Medial Cortex.nii.gz\" -t 0 -r RTFS_factor_2 -s /SST/Brain_Data_posterror_conditions_84subs_post_correct_stop_cg_w_supplementary.pkl -o \"/gpfs/projects/sanlab/shared/DEV/nonbids_data/fMRI/ml/SST/regress_sr_RTFS_factor_2/post_correct_stop_cg_w_supplementary/regress_sr_no_zscore_RTFS_factor_2_84subs_harvardoxford-cortical_prob_Frontal Medial Cortex.pkl\"\n",
      "\n",
      "sbatch run_sr_learning_script.sbatch ml-ns_on_self_report_batch.py -m \"/gpfs/projects/sanlab/shared/DEV/nonbids_data/fMRI/ml/masks/failure_related/negative emotions_association-test_z_FDR_0.01.nii.gz\" -t 0 -r RTFS_factor_2 -s /SST/Brain_Data_posterror_conditions_84subs_post_correct_stop_cg_w_supplementary.pkl -o \"/gpfs/projects/sanlab/shared/DEV/nonbids_data/fMRI/ml/SST/regress_sr_RTFS_factor_2/post_correct_stop_cg_w_supplementary/regress_sr_no_zscore_RTFS_factor_2_84subs_negative emotions_association-test_z_FDR_0.pkl\"\n",
      "\n",
      "sbatch run_sr_learning_script.sbatch ml-ns_on_self_report_batch.py -m \"/gpfs/projects/sanlab/shared/DEV/nonbids_data/fMRI/ml/masks/failure_related/self referential_association-test_z_FDR_0.01.nii.gz\" -t 0 -r RTFS_factor_2 -s /SST/Brain_Data_posterror_conditions_84subs_post_correct_stop_cg_w_supplementary.pkl -o \"/gpfs/projects/sanlab/shared/DEV/nonbids_data/fMRI/ml/SST/regress_sr_RTFS_factor_2/post_correct_stop_cg_w_supplementary/regress_sr_no_zscore_RTFS_factor_2_84subs_self referential_association-test_z_FDR_0.pkl\"\n",
      "\n",
      "sbatch run_sr_learning_script.sbatch ml-ns_on_self_report_batch.py -m \"/gpfs/projects/sanlab/shared/DEV/nonbids_data/fMRI/ml/masks/failure_related/harvardoxford/harvardoxford-cortical_prob_Frontal Orbital Cortex.nii.gz\" -t 30 -r RTFS_f1_minus_f2 -s /SST/Brain_Data_posterror_conditions_84subs_post_stop_cg_spatially_concatenated.pkl -o \"/gpfs/projects/sanlab/shared/DEV/nonbids_data/fMRI/ml/SST/regress_sr_RTFS_f1_minus_f2/post_stop_cg_spatially_concatenated/regress_sr_no_zscore_RTFS_f1_minus_f2_84subs_harvardoxford-cortical_prob_Frontal Orbital Cortex.pkl\"\n",
      "\n",
      "sbatch run_sr_learning_script.sbatch ml-ns_on_self_report_batch.py -m \"/gpfs/projects/sanlab/shared/DEV/nonbids_data/fMRI/ml/masks/failure_related/harvardoxford/harvardoxford-cortical_prob_Cingulate Gyrus, anterior division.nii.gz\" -t 30 -r RTFS_f1_minus_f2 -s /SST/Brain_Data_posterror_conditions_84subs_post_stop_cg_spatially_concatenated.pkl -o \"/gpfs/projects/sanlab/shared/DEV/nonbids_data/fMRI/ml/SST/regress_sr_RTFS_f1_minus_f2/post_stop_cg_spatially_concatenated/regress_sr_no_zscore_RTFS_f1_minus_f2_84subs_harvardoxford-cortical_prob_Cingulate Gyrus, anterior division.pkl\"\n",
      "\n",
      "sbatch run_sr_learning_script.sbatch ml-ns_on_self_report_batch.py -m \"/gpfs/projects/sanlab/shared/DEV/nonbids_data/fMRI/ml/masks/failure_related/negative affect_association-test_z_FDR_0.01.nii.gz\" -t 0 -r RTFS_f1_minus_f2 -s /SST/Brain_Data_posterror_conditions_84subs_post_stop_cg_spatially_concatenated.pkl -o \"/gpfs/projects/sanlab/shared/DEV/nonbids_data/fMRI/ml/SST/regress_sr_RTFS_f1_minus_f2/post_stop_cg_spatially_concatenated/regress_sr_no_zscore_RTFS_f1_minus_f2_84subs_negative affect_association-test_z_FDR_0.pkl\"\n",
      "\n",
      "sbatch run_sr_learning_script.sbatch ml-ns_on_self_report_batch.py -m \"/gpfs/projects/sanlab/shared/DEV/nonbids_data/fMRI/ml/masks/failure_related/emotion regulation_association-test_z_FDR_0.01.nii.gz\" -t 0 -r RTFS_f1_minus_f2 -s /SST/Brain_Data_posterror_conditions_84subs_post_stop_cg_spatially_concatenated.pkl -o \"/gpfs/projects/sanlab/shared/DEV/nonbids_data/fMRI/ml/SST/regress_sr_RTFS_f1_minus_f2/post_stop_cg_spatially_concatenated/regress_sr_no_zscore_RTFS_f1_minus_f2_84subs_emotion regulation_association-test_z_FDR_0.pkl\"\n",
      "\n",
      "sbatch run_sr_learning_script.sbatch ml-ns_on_self_report_batch.py -m \"/gpfs/projects/sanlab/shared/DEV/nonbids_data/fMRI/ml/masks/failure_related/harvardoxford-cortical_prob_Frontal Medial Cortex.nii.gz\" -t 0 -r RTFS_f1_minus_f2 -s /SST/Brain_Data_posterror_conditions_84subs_post_stop_cg_spatially_concatenated.pkl -o \"/gpfs/projects/sanlab/shared/DEV/nonbids_data/fMRI/ml/SST/regress_sr_RTFS_f1_minus_f2/post_stop_cg_spatially_concatenated/regress_sr_no_zscore_RTFS_f1_minus_f2_84subs_harvardoxford-cortical_prob_Frontal Medial Cortex.pkl\"\n",
      "\n",
      "sbatch run_sr_learning_script.sbatch ml-ns_on_self_report_batch.py -m \"/gpfs/projects/sanlab/shared/DEV/nonbids_data/fMRI/ml/masks/failure_related/negative emotions_association-test_z_FDR_0.01.nii.gz\" -t 0 -r RTFS_f1_minus_f2 -s /SST/Brain_Data_posterror_conditions_84subs_post_stop_cg_spatially_concatenated.pkl -o \"/gpfs/projects/sanlab/shared/DEV/nonbids_data/fMRI/ml/SST/regress_sr_RTFS_f1_minus_f2/post_stop_cg_spatially_concatenated/regress_sr_no_zscore_RTFS_f1_minus_f2_84subs_negative emotions_association-test_z_FDR_0.pkl\"\n",
      "\n",
      "sbatch run_sr_learning_script.sbatch ml-ns_on_self_report_batch.py -m \"/gpfs/projects/sanlab/shared/DEV/nonbids_data/fMRI/ml/masks/failure_related/self referential_association-test_z_FDR_0.01.nii.gz\" -t 0 -r RTFS_f1_minus_f2 -s /SST/Brain_Data_posterror_conditions_84subs_post_stop_cg_spatially_concatenated.pkl -o \"/gpfs/projects/sanlab/shared/DEV/nonbids_data/fMRI/ml/SST/regress_sr_RTFS_f1_minus_f2/post_stop_cg_spatially_concatenated/regress_sr_no_zscore_RTFS_f1_minus_f2_84subs_self referential_association-test_z_FDR_0.pkl\"\n",
      "\n",
      "sbatch run_sr_learning_script.sbatch ml-ns_on_self_report_batch.py -m \"/gpfs/projects/sanlab/shared/DEV/nonbids_data/fMRI/ml/masks/failure_related/harvardoxford/harvardoxford-cortical_prob_Frontal Orbital Cortex.nii.gz\" -t 30 -r RTFS_f1_minus_f2 -s /SST/Brain_Data_posterror_conditions_84subs_post_failed_stop_cg_w_supplementary.pkl -o \"/gpfs/projects/sanlab/shared/DEV/nonbids_data/fMRI/ml/SST/regress_sr_RTFS_f1_minus_f2/post_failed_stop_cg_w_supplementary/regress_sr_no_zscore_RTFS_f1_minus_f2_84subs_harvardoxford-cortical_prob_Frontal Orbital Cortex.pkl\"\n",
      "\n",
      "sbatch run_sr_learning_script.sbatch ml-ns_on_self_report_batch.py -m \"/gpfs/projects/sanlab/shared/DEV/nonbids_data/fMRI/ml/masks/failure_related/harvardoxford/harvardoxford-cortical_prob_Cingulate Gyrus, anterior division.nii.gz\" -t 30 -r RTFS_f1_minus_f2 -s /SST/Brain_Data_posterror_conditions_84subs_post_failed_stop_cg_w_supplementary.pkl -o \"/gpfs/projects/sanlab/shared/DEV/nonbids_data/fMRI/ml/SST/regress_sr_RTFS_f1_minus_f2/post_failed_stop_cg_w_supplementary/regress_sr_no_zscore_RTFS_f1_minus_f2_84subs_harvardoxford-cortical_prob_Cingulate Gyrus, anterior division.pkl\"\n",
      "\n",
      "sbatch run_sr_learning_script.sbatch ml-ns_on_self_report_batch.py -m \"/gpfs/projects/sanlab/shared/DEV/nonbids_data/fMRI/ml/masks/failure_related/negative affect_association-test_z_FDR_0.01.nii.gz\" -t 0 -r RTFS_f1_minus_f2 -s /SST/Brain_Data_posterror_conditions_84subs_post_failed_stop_cg_w_supplementary.pkl -o \"/gpfs/projects/sanlab/shared/DEV/nonbids_data/fMRI/ml/SST/regress_sr_RTFS_f1_minus_f2/post_failed_stop_cg_w_supplementary/regress_sr_no_zscore_RTFS_f1_minus_f2_84subs_negative affect_association-test_z_FDR_0.pkl\"\n",
      "\n",
      "sbatch run_sr_learning_script.sbatch ml-ns_on_self_report_batch.py -m \"/gpfs/projects/sanlab/shared/DEV/nonbids_data/fMRI/ml/masks/failure_related/emotion regulation_association-test_z_FDR_0.01.nii.gz\" -t 0 -r RTFS_f1_minus_f2 -s /SST/Brain_Data_posterror_conditions_84subs_post_failed_stop_cg_w_supplementary.pkl -o \"/gpfs/projects/sanlab/shared/DEV/nonbids_data/fMRI/ml/SST/regress_sr_RTFS_f1_minus_f2/post_failed_stop_cg_w_supplementary/regress_sr_no_zscore_RTFS_f1_minus_f2_84subs_emotion regulation_association-test_z_FDR_0.pkl\"\n",
      "\n",
      "sbatch run_sr_learning_script.sbatch ml-ns_on_self_report_batch.py -m \"/gpfs/projects/sanlab/shared/DEV/nonbids_data/fMRI/ml/masks/failure_related/harvardoxford-cortical_prob_Frontal Medial Cortex.nii.gz\" -t 0 -r RTFS_f1_minus_f2 -s /SST/Brain_Data_posterror_conditions_84subs_post_failed_stop_cg_w_supplementary.pkl -o \"/gpfs/projects/sanlab/shared/DEV/nonbids_data/fMRI/ml/SST/regress_sr_RTFS_f1_minus_f2/post_failed_stop_cg_w_supplementary/regress_sr_no_zscore_RTFS_f1_minus_f2_84subs_harvardoxford-cortical_prob_Frontal Medial Cortex.pkl\"\n",
      "\n",
      "sbatch run_sr_learning_script.sbatch ml-ns_on_self_report_batch.py -m \"/gpfs/projects/sanlab/shared/DEV/nonbids_data/fMRI/ml/masks/failure_related/negative emotions_association-test_z_FDR_0.01.nii.gz\" -t 0 -r RTFS_f1_minus_f2 -s /SST/Brain_Data_posterror_conditions_84subs_post_failed_stop_cg_w_supplementary.pkl -o \"/gpfs/projects/sanlab/shared/DEV/nonbids_data/fMRI/ml/SST/regress_sr_RTFS_f1_minus_f2/post_failed_stop_cg_w_supplementary/regress_sr_no_zscore_RTFS_f1_minus_f2_84subs_negative emotions_association-test_z_FDR_0.pkl\"\n",
      "\n",
      "sbatch run_sr_learning_script.sbatch ml-ns_on_self_report_batch.py -m \"/gpfs/projects/sanlab/shared/DEV/nonbids_data/fMRI/ml/masks/failure_related/self referential_association-test_z_FDR_0.01.nii.gz\" -t 0 -r RTFS_f1_minus_f2 -s /SST/Brain_Data_posterror_conditions_84subs_post_failed_stop_cg_w_supplementary.pkl -o \"/gpfs/projects/sanlab/shared/DEV/nonbids_data/fMRI/ml/SST/regress_sr_RTFS_f1_minus_f2/post_failed_stop_cg_w_supplementary/regress_sr_no_zscore_RTFS_f1_minus_f2_84subs_self referential_association-test_z_FDR_0.pkl\"\n",
      "\n",
      "sbatch run_sr_learning_script.sbatch ml-ns_on_self_report_batch.py -m \"/gpfs/projects/sanlab/shared/DEV/nonbids_data/fMRI/ml/masks/failure_related/harvardoxford/harvardoxford-cortical_prob_Frontal Orbital Cortex.nii.gz\" -t 30 -r RTFS_f1_minus_f2 -s /SST/Brain_Data_posterror_conditions_84subs_post_correct_stop_cg_w_supplementary.pkl -o \"/gpfs/projects/sanlab/shared/DEV/nonbids_data/fMRI/ml/SST/regress_sr_RTFS_f1_minus_f2/post_correct_stop_cg_w_supplementary/regress_sr_no_zscore_RTFS_f1_minus_f2_84subs_harvardoxford-cortical_prob_Frontal Orbital Cortex.pkl\"\n",
      "\n",
      "sbatch run_sr_learning_script.sbatch ml-ns_on_self_report_batch.py -m \"/gpfs/projects/sanlab/shared/DEV/nonbids_data/fMRI/ml/masks/failure_related/harvardoxford/harvardoxford-cortical_prob_Cingulate Gyrus, anterior division.nii.gz\" -t 30 -r RTFS_f1_minus_f2 -s /SST/Brain_Data_posterror_conditions_84subs_post_correct_stop_cg_w_supplementary.pkl -o \"/gpfs/projects/sanlab/shared/DEV/nonbids_data/fMRI/ml/SST/regress_sr_RTFS_f1_minus_f2/post_correct_stop_cg_w_supplementary/regress_sr_no_zscore_RTFS_f1_minus_f2_84subs_harvardoxford-cortical_prob_Cingulate Gyrus, anterior division.pkl\"\n",
      "\n",
      "sbatch run_sr_learning_script.sbatch ml-ns_on_self_report_batch.py -m \"/gpfs/projects/sanlab/shared/DEV/nonbids_data/fMRI/ml/masks/failure_related/negative affect_association-test_z_FDR_0.01.nii.gz\" -t 0 -r RTFS_f1_minus_f2 -s /SST/Brain_Data_posterror_conditions_84subs_post_correct_stop_cg_w_supplementary.pkl -o \"/gpfs/projects/sanlab/shared/DEV/nonbids_data/fMRI/ml/SST/regress_sr_RTFS_f1_minus_f2/post_correct_stop_cg_w_supplementary/regress_sr_no_zscore_RTFS_f1_minus_f2_84subs_negative affect_association-test_z_FDR_0.pkl\"\n",
      "\n",
      "sbatch run_sr_learning_script.sbatch ml-ns_on_self_report_batch.py -m \"/gpfs/projects/sanlab/shared/DEV/nonbids_data/fMRI/ml/masks/failure_related/emotion regulation_association-test_z_FDR_0.01.nii.gz\" -t 0 -r RTFS_f1_minus_f2 -s /SST/Brain_Data_posterror_conditions_84subs_post_correct_stop_cg_w_supplementary.pkl -o \"/gpfs/projects/sanlab/shared/DEV/nonbids_data/fMRI/ml/SST/regress_sr_RTFS_f1_minus_f2/post_correct_stop_cg_w_supplementary/regress_sr_no_zscore_RTFS_f1_minus_f2_84subs_emotion regulation_association-test_z_FDR_0.pkl\"\n",
      "\n",
      "sbatch run_sr_learning_script.sbatch ml-ns_on_self_report_batch.py -m \"/gpfs/projects/sanlab/shared/DEV/nonbids_data/fMRI/ml/masks/failure_related/harvardoxford-cortical_prob_Frontal Medial Cortex.nii.gz\" -t 0 -r RTFS_f1_minus_f2 -s /SST/Brain_Data_posterror_conditions_84subs_post_correct_stop_cg_w_supplementary.pkl -o \"/gpfs/projects/sanlab/shared/DEV/nonbids_data/fMRI/ml/SST/regress_sr_RTFS_f1_minus_f2/post_correct_stop_cg_w_supplementary/regress_sr_no_zscore_RTFS_f1_minus_f2_84subs_harvardoxford-cortical_prob_Frontal Medial Cortex.pkl\"\n",
      "\n",
      "sbatch run_sr_learning_script.sbatch ml-ns_on_self_report_batch.py -m \"/gpfs/projects/sanlab/shared/DEV/nonbids_data/fMRI/ml/masks/failure_related/negative emotions_association-test_z_FDR_0.01.nii.gz\" -t 0 -r RTFS_f1_minus_f2 -s /SST/Brain_Data_posterror_conditions_84subs_post_correct_stop_cg_w_supplementary.pkl -o \"/gpfs/projects/sanlab/shared/DEV/nonbids_data/fMRI/ml/SST/regress_sr_RTFS_f1_minus_f2/post_correct_stop_cg_w_supplementary/regress_sr_no_zscore_RTFS_f1_minus_f2_84subs_negative emotions_association-test_z_FDR_0.pkl\"\n",
      "\n",
      "sbatch run_sr_learning_script.sbatch ml-ns_on_self_report_batch.py -m \"/gpfs/projects/sanlab/shared/DEV/nonbids_data/fMRI/ml/masks/failure_related/self referential_association-test_z_FDR_0.01.nii.gz\" -t 0 -r RTFS_f1_minus_f2 -s /SST/Brain_Data_posterror_conditions_84subs_post_correct_stop_cg_w_supplementary.pkl -o \"/gpfs/projects/sanlab/shared/DEV/nonbids_data/fMRI/ml/SST/regress_sr_RTFS_f1_minus_f2/post_correct_stop_cg_w_supplementary/regress_sr_no_zscore_RTFS_f1_minus_f2_84subs_self referential_association-test_z_FDR_0.pkl\"\n",
      "\n"
     ]
    }
   ],
   "source": [
    "\n",
    "\n",
    "for self_report_regression_var in ['RTFS_factor_1', 'RTFS_factor_2', 'RTFS_f1_minus_f2']:\n",
    "    regression_output_folderpath = ml_data_folderpath + \"/SST/regress_sr_\" + self_report_regression_var\n",
    "    if os.path.exists(regression_output_folderpath)==False:\n",
    "        os.mkdir(regression_output_folderpath)\n",
    "    for source_dataset_name in [\n",
    "        'post_stop_cg_spatially_concatenated',\n",
    "        'post_failed_stop_cg_w_supplementary',\n",
    "        'post_correct_stop_cg_w_supplementary'\n",
    "    ]:\n",
    "        source_output_folderpath = regression_output_folderpath + \"/\" + source_dataset_name\n",
    "        if os.path.exists(source_output_folderpath)==False:\n",
    "            os.mkdir(source_output_folderpath)\n",
    "        for mlr_i, mlr in mask_list.iterrows():\n",
    "            #print(mlr['filename'])\n",
    "            results_filepath=(\n",
    "                source_output_folderpath + \n",
    "                \"/regress_sr_no_zscore_\" + self_report_regression_var + \"_84subs_\" + \n",
    "                mlr['name'] + \".pkl\"\n",
    "            )\n",
    "            print(\"sbatch run_sr_learning_script.sbatch ml-ns_on_self_report_batch.py\" + \n",
    "                  \" -m \\\"\" + mlr['filepath'] + \"\\\"\" + \n",
    "                  \" -t \" + str(mlr['threshold']) + \n",
    "                  \" -r \" + self_report_regression_var + \n",
    "                  \" -s \" + '/SST/Brain_Data_posterror_conditions_84subs_' + source_dataset_name + '.pkl' +\n",
    "                  \" -o \\\"\" + results_filepath + \"\\\"\")\n",
    "            \n",
    "            print(\"\")\n",
    "        \n",
    "#             do_complete_sr_regression_analysis_for_mask(\n",
    "#                 self_report_regression_var = self_report_regression_var,\n",
    "#                 mask_filepath = mlr['filepath'],\n",
    "#                 mask_threshold = mlr['threshold'],\n",
    "#                 results_filepath = results_filepath,\n",
    "#                 source_dataset_relpath = '/SST/Brain_Data_conditions_84subs_' + source_dataset_name + '_w_supplementary.pkl'\n",
    "#             )\n",
    "         "
   ]
  },
  {
   "cell_type": "markdown",
   "id": "opposite-hindu",
   "metadata": {},
   "source": [
    "## Using the concatenated image version\n",
    "\n",
    "So I wrote some code to concatenate two different images. This will allow us to train a learner that reads off both CorrectGo and CorrectStop, _separately_, and then pick the best voxels across the group for prediction.\n",
    "\n",
    "Let's create new input files at the previous step, at `load_multisubject_brain_data_ssw_w1-conditions.ipynb`. Then we can just input the revised data and run it as its own file."
   ]
  },
  {
   "cell_type": "code",
   "execution_count": null,
   "id": "cordless-sarah",
   "metadata": {},
   "outputs": [],
   "source": []
  }
 ],
 "metadata": {
  "kernelspec": {
   "display_name": "Python [conda env:.conda-neuralsignature]",
   "language": "python",
   "name": "conda-env-.conda-neuralsignature-py"
  },
  "language_info": {
   "codemirror_mode": {
    "name": "ipython",
    "version": 3
   },
   "file_extension": ".py",
   "mimetype": "text/x-python",
   "name": "python",
   "nbconvert_exporter": "python",
   "pygments_lexer": "ipython3",
   "version": "3.8.5"
  }
 },
 "nbformat": 4,
 "nbformat_minor": 5
}
