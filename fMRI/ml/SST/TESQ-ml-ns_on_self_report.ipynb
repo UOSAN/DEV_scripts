{
 "cells": [
  {
   "cell_type": "markdown",
   "id": "angry-conspiracy",
   "metadata": {
    "tags": []
   },
   "source": [
    "This builds on TESQ-ml-ns-nogo-go\n",
    "\n",
    "> **proposal 1**\n",
    "> \n",
    "> Two class (e.g., CorrectStop vs. CorrectGo)\n",
    "> \n",
    "> Leave-One-Out classifier...\n",
    "> \n",
    "> Neural similarity of a subject to the group with a Stop vs. Go contrast might actually be indicative of performance.\n",
    "> \n",
    "> subjects will naturally differ across the task as to how much their average signal responds to that, and the ones with better response might have better response inhibition.\n",
    "\n",
    "We use the same neural data, but instead of regressing on classifying these classes, we take one class or the other or we combine them in some way and we regress on our self report variables."
   ]
  },
  {
   "cell_type": "markdown",
   "id": "humanitarian-discretion",
   "metadata": {},
   "source": [
    "So there are a couple of steps here...\n",
    "\n",
    "1. iterate through subjects, holding out one at a time, and do the following steps.\n",
    "2. Train a regressor across all the training subjects, regressing CorrectStop and CorrectGo on TESQ-E and other self report measures including FFQ either (a) independently (b) contrasted with each other (c) concatenated in a single image.\n",
    "3. If a link can be established, we've shown there is a relevant link between TESQ-E or other self-report measure, and the neural signature.\n",
    "4. ...that seems like a publication in itself!\n",
    "\n",
    "\n"
   ]
  },
  {
   "cell_type": "markdown",
   "id": "taken-certification",
   "metadata": {},
   "source": [
    "As a first pass, we can simplify this a bit just trying that single classifier on all subjects. This means that we're using train for tes tset but it will give us an initial measure of feasibility.\n",
    "\n",
    "We probably do need to restrict to a specific brain region though, and that means retraining. - I think that prefrontal cortex mask we have works well."
   ]
  },
  {
   "cell_type": "markdown",
   "id": "oriental-glucose",
   "metadata": {},
   "source": [
    "## Data already generated"
   ]
  },
  {
   "cell_type": "markdown",
   "id": "opponent-oxford",
   "metadata": {},
   "source": [
    "Can we use data already generated in `SST_inhibition_cv.ipynb`?"
   ]
  },
  {
   "cell_type": "code",
   "execution_count": 1,
   "id": "mineral-pillow",
   "metadata": {},
   "outputs": [],
   "source": [
    "import pickle\n",
    "from IPython.core.display import display, HTML, Markdown"
   ]
  },
  {
   "cell_type": "code",
   "execution_count": 2,
   "id": "mechanical-rainbow",
   "metadata": {},
   "outputs": [],
   "source": [
    "ml_data_folderpath = \"/gpfs/projects/sanlab/shared/DEV/nonbids_data/fMRI/ml\""
   ]
  },
  {
   "cell_type": "code",
   "execution_count": 3,
   "id": "economic-hartford",
   "metadata": {},
   "outputs": [],
   "source": [
    "#results_filepath=ml_data_folderpath + \"/SST/train_test_results_conditions_40subs_twoclasses.pkl\""
   ]
  },
  {
   "cell_type": "code",
   "execution_count": 4,
   "id": "romance-tracker",
   "metadata": {},
   "outputs": [],
   "source": [
    "#results_2c = pickle.load(open(results_filepath,'rb'))"
   ]
  },
  {
   "cell_type": "code",
   "execution_count": 5,
   "id": "athletic-rebel",
   "metadata": {},
   "outputs": [
    {
     "name": "stderr",
     "output_type": "stream",
     "text": [
      "/home/bsmith16/.conda/envs/neuralsignature/lib/python3.8/site-packages/nilearn/datasets/__init__.py:87: FutureWarning: Fetchers from the nilearn.datasets module will be updated in version 0.9 to return python strings instead of bytes and Pandas dataframes instead of Numpy arrays.\n",
      "  warn(\"Fetchers from the nilearn.datasets module will be \"\n"
     ]
    }
   ],
   "source": [
    "from nilearn import plotting\n",
    "from nilearn.masking import compute_brain_mask\n",
    "import nltools as nlt\n",
    "\n",
    "#plotting.view_img(results_2c[3]['CorrectGo'],threshold=0.0002)"
   ]
  },
  {
   "cell_type": "code",
   "execution_count": 6,
   "id": "material-permit",
   "metadata": {},
   "outputs": [],
   "source": [
    "#plotting.plot_glass_brain(results_2c[3]['CorrectGo'])"
   ]
  },
  {
   "cell_type": "code",
   "execution_count": 7,
   "id": "banned-documentary",
   "metadata": {},
   "outputs": [],
   "source": [
    "#plotting.view_img(results_2c[3]['CorrectStop'],cmap='blue_red')"
   ]
  },
  {
   "cell_type": "code",
   "execution_count": 8,
   "id": "dutch-subscriber",
   "metadata": {},
   "outputs": [
    {
     "name": "stderr",
     "output_type": "stream",
     "text": [
      "/home/bsmith16/.conda/envs/neuralsignature/lib/python3.8/site-packages/nilearn/image/resampling.py:527: UserWarning: Casting data from int16 to float32\n",
      "  warnings.warn(\"Casting data from %s to %s\" % (data.dtype.name, aux))\n"
     ]
    }
   ],
   "source": [
    "background_img = nlt.Brain_Data('/projects/sanlab/shared/spm12/canonical/MNI152_T1_1mm_brain.nii').to_nifti()"
   ]
  },
  {
   "cell_type": "markdown",
   "id": "popular-myrtle",
   "metadata": {},
   "source": [
    "Not quite--we need a PFC mask I think. But we can use the script already written to do that."
   ]
  },
  {
   "cell_type": "markdown",
   "id": "falling-queue",
   "metadata": {},
   "source": [
    "## Setup"
   ]
  },
  {
   "cell_type": "code",
   "execution_count": 9,
   "id": "limiting-galaxy",
   "metadata": {},
   "outputs": [
    {
     "name": "stdout",
     "output_type": "stream",
     "text": [
      "python initialized for apply_loocv_and_save\n",
      "cpus available; cpus to use:\n",
      "28 25\n",
      "28\n"
     ]
    }
   ],
   "source": [
    "import sys\n",
    "import os\n",
    "import pandas as pd\n",
    "\n",
    "sys.path.append(os.path.abspath(\"../../ml/\"))\n",
    "\n",
    "from apply_loocv_and_save import *\n",
    "from dev_wtp_io_utils import *\n",
    "import gc\n",
    "import nibabel as nib\n",
    "\n",
    "from os import path\n",
    "\n"
   ]
  },
  {
   "cell_type": "code",
   "execution_count": 10,
   "id": "located-longitude",
   "metadata": {},
   "outputs": [],
   "source": [
    "from analyze_results import *"
   ]
  },
  {
   "cell_type": "markdown",
   "id": "greater-colorado",
   "metadata": {},
   "source": [
    "## condition_contrast"
   ]
  },
  {
   "cell_type": "code",
   "execution_count": 11,
   "id": "endless-texture",
   "metadata": {},
   "outputs": [],
   "source": [
    "#load the matrix associated with this file\n",
    "sl_mat = scipy.io.loadmat(\n",
    "'/gpfs/projects/sanlab/shared/DEV/nonbids_data/fMRI/fx/models/SST/wave1/conditions/sub-DEV073/SPM.mat',\n",
    "simplify_cells=True            \n",
    ")\n",
    "mat_betas = sl_mat['SPM']['Vbeta']"
   ]
  },
  {
   "cell_type": "code",
   "execution_count": 12,
   "id": "floral-invite",
   "metadata": {},
   "outputs": [
    {
     "data": {
      "text/plain": [
       "['spm_spm:beta (0001) - Sn(1) CorrectGo*bf(1)',\n",
       " 'spm_spm:beta (0002) - Sn(1) CorrectStop*bf(1)',\n",
       " 'spm_spm:beta (0003) - Sn(1) FailedStop*bf(1)',\n",
       " 'spm_spm:beta (0004) - Sn(1) Cue*bf(1)',\n",
       " 'spm_spm:beta (0005) - Sn(1) R1',\n",
       " 'spm_spm:beta (0006) - Sn(1) R2',\n",
       " 'spm_spm:beta (0007) - Sn(1) R3',\n",
       " 'spm_spm:beta (0008) - Sn(1) R4',\n",
       " 'spm_spm:beta (0009) - Sn(1) R5',\n",
       " 'spm_spm:beta (0010) - Sn(1) constant']"
      ]
     },
     "execution_count": 12,
     "metadata": {},
     "output_type": "execute_result"
    }
   ],
   "source": [
    "[mat_betas[beta_i]['descrip'] for beta_i in range(len(mat_betas))]"
   ]
  },
  {
   "cell_type": "markdown",
   "id": "circular-conjunction",
   "metadata": {},
   "source": [
    "## stitching contrasts together in different ways\n",
    "\n",
    "We'd want:\n",
    "\n",
    " - contrast of the two conditions\n",
    " - each of the two conditions alone.\n",
    " \n",
    "The contrast is a little tricky. Easiest thing is to try each of the conditions alone. Stitching the two together might not be too hard. Let's try doing CorrectStop first, and then we'll try concatenating the images. Doing a contrast is actually the most difficult becuase I have to backtrack in the process to generate new betas (see https://docs.google.com/presentation/d/1K-nFrZYE6rR8t0myNyacB7frBzV3B1--nMqPhVkwL8E/edit#slide=id.geeff6890fb_0_16)."
   ]
  },
  {
   "cell_type": "markdown",
   "id": "mysterious-omaha",
   "metadata": {},
   "source": [
    "See `different ways of combining images.ipynb`."
   ]
  },
  {
   "cell_type": "markdown",
   "id": "fluid-africa",
   "metadata": {},
   "source": [
    "## template"
   ]
  },
  {
   "cell_type": "raw",
   "id": "clinical-victorian",
   "metadata": {},
   "source": [
    "do_complete_analysis_for_mask('goal')"
   ]
  },
  {
   "cell_type": "markdown",
   "id": "latest-baseball",
   "metadata": {},
   "source": [
    "## regressing on self report"
   ]
  },
  {
   "cell_type": "code",
   "execution_count": 13,
   "id": "superior-depth",
   "metadata": {},
   "outputs": [],
   "source": [
    "nonbids_data_path = \"/gpfs/projects/sanlab/shared/DEV/nonbids_data/\"\n",
    "ml_data_folderpath = \"/gpfs/projects/sanlab/shared/DEV/nonbids_data/fMRI/ml\"\n",
    "train_test_markers_filepath = ml_data_folderpath + \"/train_test_markers_20210601T183243.csv\"\n",
    "test_train_df = pd.read_csv(train_test_markers_filepath)\n",
    "\n",
    "all_sst_events= pd.read_csv(ml_data_folderpath +\"/SST/\" + \"all_sst_events.csv\")\n",
    "\n",
    "\n",
    "dataset_name = 'conditions'\n",
    "\n",
    "from nilearn.decoding import DecoderRegressor, Decoder\n",
    "\n",
    "script_path = '/gpfs/projects/sanlab/shared/DEV/DEV_scripts/fMRI/ml'\n",
    "# HRF 2s\n",
    "\n",
    "#get a PFC mask\n",
    "#pfc_mask = create_mask_from_images(get_pfc_image_filepaths(ml_data_folderpath + \"/\"),threshold=10)"
   ]
  },
  {
   "cell_type": "code",
   "execution_count": 14,
   "id": "welcome-radius",
   "metadata": {},
   "outputs": [],
   "source": [
    "def sr_regressor_trans_func(X):\n",
    "#         print(X.columns)\n",
    "#         print(X[self_report_regression_var])\n",
    "    return(X[self_report_regression_var])\n",
    "\n",
    "def decoderConstructor(*args, **kwargs):\n",
    "    return(DecoderRegressor(scoring='neg_mean_absolute_error',verbose=0, *args, **kwargs))\n",
    "\n",
    "    \n",
    "def do_complete_sr_regression_analysis_for_mask(\n",
    "    self_report_regression_var,\n",
    "    mask_filepath,\n",
    "    mask_threshold,\n",
    "    results_filepath,\n",
    "    source_dataset_relpath\n",
    "):\n",
    "    mask_filename = os.path.basename(mask_filepath)\n",
    "    mask_name = mask_filename.split(\".\")[0]\n",
    "\n",
    "    display(Markdown(\"## \" + mask_name))\n",
    "    mask_img = create_mask_from_images([mask_filepath],threshold=mask_threshold)\n",
    "    \n",
    "    dataset_name = 'conditions'\n",
    "    \n",
    "    brain_data_filepath = ml_data_folderpath + source_dataset_relpath\n",
    "    #brain_data_filepath = ml_data_folderpath + '/SST/Brain_Data_conditions_43subs_correct_cond.pkl'\n",
    "\n",
    "    if path.exists(results_filepath) is False:\n",
    "        apply_loocv_and_save(\n",
    "            results_filepath = results_filepath,\n",
    "            brain_data_filepath = brain_data_filepath,\n",
    "            train_test_markers_filepath = train_test_markers_filepath,\n",
    "#            subjs_to_use = 20,\n",
    "            decoderConstructor = decoderConstructor,\n",
    "            response_transform_func=sr_regressor_trans_func,\n",
    "            mask=mask_img\n",
    "        )\n",
    "    print(results_filepath)\n",
    "    results=pickle.load(open(results_filepath,'rb'))\n",
    "\n",
    "\n",
    "    visualize_series_corr(results[2]['y'],results[2]['y_pred'])\n",
    "\n",
    "    return(results)\n"
   ]
  },
  {
   "cell_type": "code",
   "execution_count": 15,
   "id": "reasonable-extent",
   "metadata": {},
   "outputs": [],
   "source": [
    "from analyze_results import *"
   ]
  },
  {
   "cell_type": "code",
   "execution_count": 16,
   "id": "reasonable-award",
   "metadata": {},
   "outputs": [
    {
     "data": {
      "text/plain": [
       "'subject, cancer_promoting_minus_preventing_FCI, cancer_promoting_minus_preventing_FFQ, cancer_promoting_minus_preventing_craved_FCI, cancer_promoting_minus_preventing_craved_FFQ, cancer_promoting_minus_preventing_liked_FCI, cancer_promoting_minus_preventing_liked_FFQ, cancer_promoting_FCI, cancer_promoting_FFQ, cancer_preventing_FCI, cancer_preventing_FFQ, BSCS, cSES, EDM, BIS_11, PCS, RS, TRSQ, bf_1, weight_0, height_0, birthsex, age365, bmi_0, bmi_1, bmi, bf_1_controlled, bf_1_bsexnormedzs, ACES_sum, ACES_household_dysfunction, ACES_neglectful_parenting, ACES_abuse, ACES_divorced_separated, BFI_agreeableness, BFI_conscientiousness, BFI_extraversion, BFI_neuroticism, BFI_openness, DEMO_mcarthur_social_standing, IMI_effort_importance, IMI_interest_enjoyment, IMI_perceived_choice, IMI_perceived_competence, IMI_value_usefulness, IPAQ_moderateminutes, IPAQ_sittinghours, IPAQ_vigorousminutes, IPAQ_walkingminutes, NCS_get_job_done, NCS_deliberating_issues, NCS_prefer_complex, NCS_prefer_little_thought, NCS_intellectual_task, NCS_relief_not_satisfaction, NCS_like_responsibility, NCS_new_solutions_to_problems, NCS_avoid_depth, NCS_tasks_little_thought, NCS_think_minimally, NCS_satisfaction_in_deliberating, NCS_small_daily_projects, NCS_solve_puzzles, NCS_total, NCS_thinking_not_exciting, NCS_abstract_thinking, NCS_thought_appealing, NCS_thinking_not_fun, PLAN_cognitive_strategies, PLAN_temporal_orientation, PLAN_mental_forecasting, RMQ_assessment, RMQ_lie, RMQ_locomotion, RTFS_factor_1, RTFS_factor_2, SRHI_sum, SRHI_healthy, SRHI_unhealthy, TESQ_E_avoidance_of_temptations, TESQ_E_goal_deliberation, TESQ_E_distraction, TESQ_E_goal_and_rule_setting, TESQ_E_sum, TESQ_E_controlling_temptations, TESQ_E_suppression, education_own, zipcode_median_income_acs, household_income_level_medamount, household_income_per_person, ses_aggregate, SST_CorrectGo, SST_CorrectStop, SST_Cue, SST_FailedGo, SST_FailedStop, SST_prop_successful_stops, SST_reaction_time, SST_go_trial_reaction_time, SST_GRTint, SST_GRTmean, SST_GRTmedian, SST_GRTquant, SST_NRCount, SST_PctInhib, SST_SSD, SST_SSRT, SST_SSRTint, SST_SSRTquant, ROC_Crave_Look, ROC_Crave_Regulate, ROC_Neutral_Look, ROC_No Crave_Look, ROC_Crave_Regulate_Minus_Look, ROC_Crave_Minus_Neutral, ROC_Crave_Minus_NoCrave, WTP_healthy, WTP_unhealthy, WTP_unhealthy_minus_healthy, SRHI_healthy_minus_unhealthy, RTFS_f1_minus_f2, IPAQ_walkingMETminutes, IPAQ_moderateMETminutes, IPAQ_vigorousMETminutes, IPAQ_total_METminutes, IPAQ_MET_kCal, birthsex_factor, wave'"
      ]
     },
     "execution_count": 16,
     "metadata": {},
     "output_type": "execute_result"
    }
   ],
   "source": [
    "\n",
    "data_by_ppt_name = \"data_by_ppt_2021_12_29.csv\"\n",
    "\n",
    "\n",
    "individual_differences = pd.read_csv(ml_data_folderpath + \"/\"+ data_by_ppt_name)\n",
    "individual_differences = individual_differences.rename(columns={'SID':'subject'})\n",
    "individual_differences['wave']=1\n",
    "\n",
    "\", \".join(individual_differences.columns)"
   ]
  },
  {
   "cell_type": "code",
   "execution_count": 17,
   "id": "according-southwest",
   "metadata": {},
   "outputs": [],
   "source": [
    "harvox_folderpath = ml_data_folderpath + \"/masks/response_inhibition_related/harvardoxford/\"\n",
    "neurosynth_folderpath = ml_data_folderpath + \"/masks/response_inhibition_related/\"\n",
    "\n",
    "\n",
    "\n",
    "def get_mask_df(mask_folder,mask_threshold):\n",
    "    mask_name_list = os.listdir(mask_folder)\n",
    "    mask_dict_list = []\n",
    "    for mask_filename in mask_name_list:\n",
    "        mask_filepath = mask_folder + mask_filename\n",
    "        if os.path.isdir(mask_filepath):\n",
    "            continue # this is a directory, don't process it.\n",
    "            \n",
    "        mask_dict_list = mask_dict_list + [\n",
    "            {'name':mask_filename.split(\".\")[0],\n",
    "                'filename' : mask_filename,\n",
    "             'filepath' : mask_filepath,\n",
    "             'threshold': mask_threshold\n",
    "            }]\n",
    "    return(pd.DataFrame(mask_dict_list))\n",
    "\n",
    "mask_list = pd.concat([get_mask_df(harvox_folderpath,30),\n",
    "          get_mask_df(neurosynth_folderpath,0)])\n"
   ]
  },
  {
   "cell_type": "code",
   "execution_count": 67,
   "id": "following-trouble",
   "metadata": {},
   "outputs": [
    {
     "name": "stdout",
     "output_type": "stream",
     "text": [
      "harvardoxford-cortical_prob_Superior Frontal Gyrus.nii.gz\n"
     ]
    },
    {
     "data": {
      "text/markdown": [
       "## harvardoxford-cortical_prob_Superior Frontal Gyrus"
      ],
      "text/plain": [
       "<IPython.core.display.Markdown object>"
      ]
     },
     "metadata": {},
     "output_type": "display_data"
    },
    {
     "name": "stdout",
     "output_type": "stream",
     "text": [
      "checked for intersection and no intersection between the brain data and the subjects was found.\n",
      "there were 58 subjects overlapping between the subjects marked for train data and the training dump file itself.\n",
      "test_train_set: 9549\n",
      "pkl_file: 168\n",
      "brain_data_filepath: 166\n",
      "train_test_markers_filepath: 141\n",
      "response_transform_func: 136\n",
      "sys: 72\n",
      "clean: 60\n",
      "Brain_Data_allsubs: 48\n",
      "subjs_to_use: 16\n",
      "78\n",
      "84\n"
     ]
    },
    {
     "name": "stderr",
     "output_type": "stream",
     "text": [
      "/gpfs/projects/sanlab/shared/DEV/DEV_scripts/fMRI/ml/apply_loocv_and_save.py:209: SettingWithCopyWarning: \n",
      "A value is trying to be set on a copy of a slice from a DataFrame\n",
      "\n",
      "See the caveats in the documentation: https://pandas.pydata.org/pandas-docs/stable/user_guide/indexing.html#returning-a-view-versus-a-copy\n",
      "  Brain_Data_allsubs.Y[Brain_Data_allsubs.Y=='NULL']=None\n"
     ]
    },
    {
     "name": "stdout",
     "output_type": "stream",
     "text": [
      "starting LeaveOneOut\n",
      "finished preprocessing\n",
      "Groups are the same.\n",
      "fold 1 of 78\n",
      "In order to test on a training group of 77 items, holding out the following subjects:['DEV105']. prepping fold data.... fitting.... 635.7 MiB. trying decoder 1 of 1. predicting. "
     ]
    },
    {
     "name": "stderr",
     "output_type": "stream",
     "text": [
      "/home/bsmith16/.conda/envs/neuralsignature/lib/python3.8/site-packages/nilearn/signal.py:58: UserWarning: Standardization of 3D signal has been requested but would lead to zero values. Skipping.\n",
      "  warnings.warn('Standardization of 3D signal has been requested but '\n",
      "/home/bsmith16/.conda/envs/neuralsignature/lib/python3.8/site-packages/nilearn/signal.py:58: UserWarning: Standardization of 3D signal has been requested but would lead to zero values. Skipping.\n",
      "  warnings.warn('Standardization of 3D signal has been requested but '\n"
     ]
    },
    {
     "name": "stdout",
     "output_type": "stream",
     "text": [
      "test score was:. -15.028555041795855\n",
      "fold 2 of 78\n",
      "In order to test on a training group of 77 items, holding out the following subjects:['DEV058']. prepping fold data.... fitting.... 635.7 MiB. trying decoder 1 of 1. "
     ]
    },
    {
     "name": "stderr",
     "output_type": "stream",
     "text": [
      "/home/bsmith16/.conda/envs/neuralsignature/lib/python3.8/site-packages/nilearn/decoding/decoder.py:143: UserWarning: Use a custom estimator at your own risk of the process not working as intended.\n",
      "  warnings.warn('Use a custom estimator at your own risk '\n"
     ]
    },
    {
     "name": "stdout",
     "output_type": "stream",
     "text": [
      "predicting. "
     ]
    },
    {
     "name": "stderr",
     "output_type": "stream",
     "text": [
      "/home/bsmith16/.conda/envs/neuralsignature/lib/python3.8/site-packages/nilearn/signal.py:58: UserWarning: Standardization of 3D signal has been requested but would lead to zero values. Skipping.\n",
      "  warnings.warn('Standardization of 3D signal has been requested but '\n",
      "/home/bsmith16/.conda/envs/neuralsignature/lib/python3.8/site-packages/nilearn/signal.py:58: UserWarning: Standardization of 3D signal has been requested but would lead to zero values. Skipping.\n",
      "  warnings.warn('Standardization of 3D signal has been requested but '\n"
     ]
    },
    {
     "name": "stdout",
     "output_type": "stream",
     "text": [
      "test score was:. -3.973668679722337\n",
      "fold 3 of 78\n",
      "In order to test on a training group of 77 items, holding out the following subjects:['DEV074']. prepping fold data.... fitting.... 635.7 MiB. trying decoder 1 of 1. "
     ]
    },
    {
     "name": "stderr",
     "output_type": "stream",
     "text": [
      "/home/bsmith16/.conda/envs/neuralsignature/lib/python3.8/site-packages/nilearn/decoding/decoder.py:143: UserWarning: Use a custom estimator at your own risk of the process not working as intended.\n",
      "  warnings.warn('Use a custom estimator at your own risk '\n"
     ]
    },
    {
     "name": "stdout",
     "output_type": "stream",
     "text": [
      "predicting. "
     ]
    },
    {
     "name": "stderr",
     "output_type": "stream",
     "text": [
      "/home/bsmith16/.conda/envs/neuralsignature/lib/python3.8/site-packages/nilearn/signal.py:58: UserWarning: Standardization of 3D signal has been requested but would lead to zero values. Skipping.\n",
      "  warnings.warn('Standardization of 3D signal has been requested but '\n",
      "/home/bsmith16/.conda/envs/neuralsignature/lib/python3.8/site-packages/nilearn/signal.py:58: UserWarning: Standardization of 3D signal has been requested but would lead to zero values. Skipping.\n",
      "  warnings.warn('Standardization of 3D signal has been requested but '\n"
     ]
    },
    {
     "name": "stdout",
     "output_type": "stream",
     "text": [
      "test score was:. -0.665794155027676\n",
      "fold 4 of 78\n",
      "In order to test on a training group of 77 items, holding out the following subjects:['DEV197']. prepping fold data.... fitting.... 635.7 MiB. trying decoder 1 of 1. "
     ]
    },
    {
     "name": "stderr",
     "output_type": "stream",
     "text": [
      "/home/bsmith16/.conda/envs/neuralsignature/lib/python3.8/site-packages/nilearn/decoding/decoder.py:143: UserWarning: Use a custom estimator at your own risk of the process not working as intended.\n",
      "  warnings.warn('Use a custom estimator at your own risk '\n"
     ]
    },
    {
     "name": "stdout",
     "output_type": "stream",
     "text": [
      "predicting. "
     ]
    },
    {
     "name": "stderr",
     "output_type": "stream",
     "text": [
      "/home/bsmith16/.conda/envs/neuralsignature/lib/python3.8/site-packages/nilearn/signal.py:58: UserWarning: Standardization of 3D signal has been requested but would lead to zero values. Skipping.\n",
      "  warnings.warn('Standardization of 3D signal has been requested but '\n",
      "/home/bsmith16/.conda/envs/neuralsignature/lib/python3.8/site-packages/nilearn/signal.py:58: UserWarning: Standardization of 3D signal has been requested but would lead to zero values. Skipping.\n",
      "  warnings.warn('Standardization of 3D signal has been requested but '\n"
     ]
    },
    {
     "name": "stdout",
     "output_type": "stream",
     "text": [
      "test score was:. -9.32767702790894\n",
      "fold 5 of 78\n",
      "In order to test on a training group of 77 items, holding out the following subjects:['DEV027']. prepping fold data.... fitting.... 635.7 MiB. trying decoder 1 of 1. "
     ]
    },
    {
     "name": "stderr",
     "output_type": "stream",
     "text": [
      "/home/bsmith16/.conda/envs/neuralsignature/lib/python3.8/site-packages/nilearn/decoding/decoder.py:143: UserWarning: Use a custom estimator at your own risk of the process not working as intended.\n",
      "  warnings.warn('Use a custom estimator at your own risk '\n"
     ]
    },
    {
     "name": "stdout",
     "output_type": "stream",
     "text": [
      "predicting. "
     ]
    },
    {
     "name": "stderr",
     "output_type": "stream",
     "text": [
      "/home/bsmith16/.conda/envs/neuralsignature/lib/python3.8/site-packages/nilearn/signal.py:58: UserWarning: Standardization of 3D signal has been requested but would lead to zero values. Skipping.\n",
      "  warnings.warn('Standardization of 3D signal has been requested but '\n",
      "/home/bsmith16/.conda/envs/neuralsignature/lib/python3.8/site-packages/nilearn/signal.py:58: UserWarning: Standardization of 3D signal has been requested but would lead to zero values. Skipping.\n",
      "  warnings.warn('Standardization of 3D signal has been requested but '\n"
     ]
    },
    {
     "name": "stdout",
     "output_type": "stream",
     "text": [
      "test score was:. -21.161160845151898\n",
      "fold 6 of 78\n",
      "In order to test on a training group of 77 items, holding out the following subjects:['DEV049']. prepping fold data.... fitting.... 635.7 MiB. trying decoder 1 of 1. "
     ]
    },
    {
     "name": "stderr",
     "output_type": "stream",
     "text": [
      "/home/bsmith16/.conda/envs/neuralsignature/lib/python3.8/site-packages/nilearn/decoding/decoder.py:143: UserWarning: Use a custom estimator at your own risk of the process not working as intended.\n",
      "  warnings.warn('Use a custom estimator at your own risk '\n"
     ]
    },
    {
     "name": "stdout",
     "output_type": "stream",
     "text": [
      "predicting. "
     ]
    },
    {
     "name": "stderr",
     "output_type": "stream",
     "text": [
      "/home/bsmith16/.conda/envs/neuralsignature/lib/python3.8/site-packages/nilearn/signal.py:58: UserWarning: Standardization of 3D signal has been requested but would lead to zero values. Skipping.\n",
      "  warnings.warn('Standardization of 3D signal has been requested but '\n",
      "/home/bsmith16/.conda/envs/neuralsignature/lib/python3.8/site-packages/nilearn/signal.py:58: UserWarning: Standardization of 3D signal has been requested but would lead to zero values. Skipping.\n",
      "  warnings.warn('Standardization of 3D signal has been requested but '\n"
     ]
    },
    {
     "name": "stdout",
     "output_type": "stream",
     "text": [
      "test score was:. -3.288405367273832\n",
      "fold 7 of 78\n",
      "In order to test on a training group of 77 items, holding out the following subjects:['DEV026']. prepping fold data.... fitting.... 635.7 MiB. trying decoder 1 of 1. "
     ]
    },
    {
     "name": "stderr",
     "output_type": "stream",
     "text": [
      "/home/bsmith16/.conda/envs/neuralsignature/lib/python3.8/site-packages/nilearn/decoding/decoder.py:143: UserWarning: Use a custom estimator at your own risk of the process not working as intended.\n",
      "  warnings.warn('Use a custom estimator at your own risk '\n"
     ]
    },
    {
     "name": "stdout",
     "output_type": "stream",
     "text": [
      "predicting. "
     ]
    },
    {
     "name": "stderr",
     "output_type": "stream",
     "text": [
      "/home/bsmith16/.conda/envs/neuralsignature/lib/python3.8/site-packages/nilearn/signal.py:58: UserWarning: Standardization of 3D signal has been requested but would lead to zero values. Skipping.\n",
      "  warnings.warn('Standardization of 3D signal has been requested but '\n",
      "/home/bsmith16/.conda/envs/neuralsignature/lib/python3.8/site-packages/nilearn/signal.py:58: UserWarning: Standardization of 3D signal has been requested but would lead to zero values. Skipping.\n",
      "  warnings.warn('Standardization of 3D signal has been requested but '\n"
     ]
    },
    {
     "name": "stdout",
     "output_type": "stream",
     "text": [
      "test score was:. -9.602728738982748\n",
      "fold 8 of 78\n",
      "In order to test on a training group of 77 items, holding out the following subjects:['DEV052']. prepping fold data.... fitting.... 635.7 MiB. trying decoder 1 of 1. "
     ]
    },
    {
     "name": "stderr",
     "output_type": "stream",
     "text": [
      "/home/bsmith16/.conda/envs/neuralsignature/lib/python3.8/site-packages/nilearn/decoding/decoder.py:143: UserWarning: Use a custom estimator at your own risk of the process not working as intended.\n",
      "  warnings.warn('Use a custom estimator at your own risk '\n"
     ]
    },
    {
     "name": "stdout",
     "output_type": "stream",
     "text": [
      "predicting. "
     ]
    },
    {
     "name": "stderr",
     "output_type": "stream",
     "text": [
      "/home/bsmith16/.conda/envs/neuralsignature/lib/python3.8/site-packages/nilearn/signal.py:58: UserWarning: Standardization of 3D signal has been requested but would lead to zero values. Skipping.\n",
      "  warnings.warn('Standardization of 3D signal has been requested but '\n",
      "/home/bsmith16/.conda/envs/neuralsignature/lib/python3.8/site-packages/nilearn/signal.py:58: UserWarning: Standardization of 3D signal has been requested but would lead to zero values. Skipping.\n",
      "  warnings.warn('Standardization of 3D signal has been requested but '\n"
     ]
    },
    {
     "name": "stdout",
     "output_type": "stream",
     "text": [
      "test score was:. -20.8879655172099\n",
      "fold 9 of 78\n",
      "In order to test on a training group of 77 items, holding out the following subjects:['DEV173']. prepping fold data.... fitting.... 635.7 MiB. trying decoder 1 of 1. "
     ]
    },
    {
     "name": "stderr",
     "output_type": "stream",
     "text": [
      "/home/bsmith16/.conda/envs/neuralsignature/lib/python3.8/site-packages/nilearn/decoding/decoder.py:143: UserWarning: Use a custom estimator at your own risk of the process not working as intended.\n",
      "  warnings.warn('Use a custom estimator at your own risk '\n"
     ]
    },
    {
     "name": "stdout",
     "output_type": "stream",
     "text": [
      "predicting. "
     ]
    },
    {
     "name": "stderr",
     "output_type": "stream",
     "text": [
      "/home/bsmith16/.conda/envs/neuralsignature/lib/python3.8/site-packages/nilearn/signal.py:58: UserWarning: Standardization of 3D signal has been requested but would lead to zero values. Skipping.\n",
      "  warnings.warn('Standardization of 3D signal has been requested but '\n",
      "/home/bsmith16/.conda/envs/neuralsignature/lib/python3.8/site-packages/nilearn/signal.py:58: UserWarning: Standardization of 3D signal has been requested but would lead to zero values. Skipping.\n",
      "  warnings.warn('Standardization of 3D signal has been requested but '\n"
     ]
    },
    {
     "name": "stdout",
     "output_type": "stream",
     "text": [
      "test score was:. -4.999689315348029\n",
      "fold 10 of 78\n",
      "In order to test on a training group of 77 items, holding out the following subjects:['DEV087']. prepping fold data.... fitting.... 635.7 MiB. trying decoder 1 of 1. "
     ]
    },
    {
     "name": "stderr",
     "output_type": "stream",
     "text": [
      "/home/bsmith16/.conda/envs/neuralsignature/lib/python3.8/site-packages/nilearn/decoding/decoder.py:143: UserWarning: Use a custom estimator at your own risk of the process not working as intended.\n",
      "  warnings.warn('Use a custom estimator at your own risk '\n"
     ]
    },
    {
     "name": "stdout",
     "output_type": "stream",
     "text": [
      "predicting. "
     ]
    },
    {
     "name": "stderr",
     "output_type": "stream",
     "text": [
      "/home/bsmith16/.conda/envs/neuralsignature/lib/python3.8/site-packages/nilearn/signal.py:58: UserWarning: Standardization of 3D signal has been requested but would lead to zero values. Skipping.\n",
      "  warnings.warn('Standardization of 3D signal has been requested but '\n",
      "/home/bsmith16/.conda/envs/neuralsignature/lib/python3.8/site-packages/nilearn/signal.py:58: UserWarning: Standardization of 3D signal has been requested but would lead to zero values. Skipping.\n",
      "  warnings.warn('Standardization of 3D signal has been requested but '\n"
     ]
    },
    {
     "name": "stdout",
     "output_type": "stream",
     "text": [
      "test score was:. -4.94229143360856\n",
      "fold 11 of 78\n",
      "In order to test on a training group of 77 items, holding out the following subjects:['DEV042']. prepping fold data.... fitting.... 635.7 MiB. trying decoder 1 of 1. "
     ]
    },
    {
     "name": "stderr",
     "output_type": "stream",
     "text": [
      "/home/bsmith16/.conda/envs/neuralsignature/lib/python3.8/site-packages/nilearn/decoding/decoder.py:143: UserWarning: Use a custom estimator at your own risk of the process not working as intended.\n",
      "  warnings.warn('Use a custom estimator at your own risk '\n"
     ]
    },
    {
     "name": "stdout",
     "output_type": "stream",
     "text": [
      "predicting. "
     ]
    },
    {
     "name": "stderr",
     "output_type": "stream",
     "text": [
      "/home/bsmith16/.conda/envs/neuralsignature/lib/python3.8/site-packages/nilearn/signal.py:58: UserWarning: Standardization of 3D signal has been requested but would lead to zero values. Skipping.\n",
      "  warnings.warn('Standardization of 3D signal has been requested but '\n",
      "/home/bsmith16/.conda/envs/neuralsignature/lib/python3.8/site-packages/nilearn/signal.py:58: UserWarning: Standardization of 3D signal has been requested but would lead to zero values. Skipping.\n",
      "  warnings.warn('Standardization of 3D signal has been requested but '\n"
     ]
    },
    {
     "name": "stdout",
     "output_type": "stream",
     "text": [
      "test score was:. -13.132474947034773\n",
      "fold 12 of 78\n",
      "In order to test on a training group of 77 items, holding out the following subjects:['DEV186']. prepping fold data.... fitting.... 635.7 MiB. trying decoder 1 of 1. "
     ]
    },
    {
     "name": "stderr",
     "output_type": "stream",
     "text": [
      "/home/bsmith16/.conda/envs/neuralsignature/lib/python3.8/site-packages/nilearn/decoding/decoder.py:143: UserWarning: Use a custom estimator at your own risk of the process not working as intended.\n",
      "  warnings.warn('Use a custom estimator at your own risk '\n"
     ]
    },
    {
     "name": "stdout",
     "output_type": "stream",
     "text": [
      "predicting. "
     ]
    },
    {
     "name": "stderr",
     "output_type": "stream",
     "text": [
      "/home/bsmith16/.conda/envs/neuralsignature/lib/python3.8/site-packages/nilearn/signal.py:58: UserWarning: Standardization of 3D signal has been requested but would lead to zero values. Skipping.\n",
      "  warnings.warn('Standardization of 3D signal has been requested but '\n",
      "/home/bsmith16/.conda/envs/neuralsignature/lib/python3.8/site-packages/nilearn/signal.py:58: UserWarning: Standardization of 3D signal has been requested but would lead to zero values. Skipping.\n",
      "  warnings.warn('Standardization of 3D signal has been requested but '\n"
     ]
    },
    {
     "name": "stdout",
     "output_type": "stream",
     "text": [
      "test score was:. -1.9206125365551543\n",
      "fold 13 of 78\n",
      "In order to test on a training group of 77 items, holding out the following subjects:['DEV062']. prepping fold data.... fitting.... 635.7 MiB. trying decoder 1 of 1. "
     ]
    },
    {
     "name": "stderr",
     "output_type": "stream",
     "text": [
      "/home/bsmith16/.conda/envs/neuralsignature/lib/python3.8/site-packages/nilearn/decoding/decoder.py:143: UserWarning: Use a custom estimator at your own risk of the process not working as intended.\n",
      "  warnings.warn('Use a custom estimator at your own risk '\n"
     ]
    },
    {
     "name": "stdout",
     "output_type": "stream",
     "text": [
      "predicting. "
     ]
    },
    {
     "name": "stderr",
     "output_type": "stream",
     "text": [
      "/home/bsmith16/.conda/envs/neuralsignature/lib/python3.8/site-packages/nilearn/signal.py:58: UserWarning: Standardization of 3D signal has been requested but would lead to zero values. Skipping.\n",
      "  warnings.warn('Standardization of 3D signal has been requested but '\n",
      "/home/bsmith16/.conda/envs/neuralsignature/lib/python3.8/site-packages/nilearn/signal.py:58: UserWarning: Standardization of 3D signal has been requested but would lead to zero values. Skipping.\n",
      "  warnings.warn('Standardization of 3D signal has been requested but '\n"
     ]
    },
    {
     "name": "stdout",
     "output_type": "stream",
     "text": [
      "test score was:. -5.442242701179772\n",
      "fold 14 of 78\n",
      "In order to test on a training group of 77 items, holding out the following subjects:['DEV053']. prepping fold data.... fitting.... 635.7 MiB. trying decoder 1 of 1. "
     ]
    },
    {
     "name": "stderr",
     "output_type": "stream",
     "text": [
      "/home/bsmith16/.conda/envs/neuralsignature/lib/python3.8/site-packages/nilearn/decoding/decoder.py:143: UserWarning: Use a custom estimator at your own risk of the process not working as intended.\n",
      "  warnings.warn('Use a custom estimator at your own risk '\n"
     ]
    },
    {
     "name": "stdout",
     "output_type": "stream",
     "text": [
      "predicting. "
     ]
    },
    {
     "name": "stderr",
     "output_type": "stream",
     "text": [
      "/home/bsmith16/.conda/envs/neuralsignature/lib/python3.8/site-packages/nilearn/signal.py:58: UserWarning: Standardization of 3D signal has been requested but would lead to zero values. Skipping.\n",
      "  warnings.warn('Standardization of 3D signal has been requested but '\n",
      "/home/bsmith16/.conda/envs/neuralsignature/lib/python3.8/site-packages/nilearn/signal.py:58: UserWarning: Standardization of 3D signal has been requested but would lead to zero values. Skipping.\n",
      "  warnings.warn('Standardization of 3D signal has been requested but '\n"
     ]
    },
    {
     "name": "stdout",
     "output_type": "stream",
     "text": [
      "test score was:. -13.523597209878076\n",
      "fold 15 of 78\n",
      "In order to test on a training group of 77 items, holding out the following subjects:['DEV055']. prepping fold data.... fitting.... 635.7 MiB. trying decoder 1 of 1. "
     ]
    },
    {
     "name": "stderr",
     "output_type": "stream",
     "text": [
      "/home/bsmith16/.conda/envs/neuralsignature/lib/python3.8/site-packages/nilearn/decoding/decoder.py:143: UserWarning: Use a custom estimator at your own risk of the process not working as intended.\n",
      "  warnings.warn('Use a custom estimator at your own risk '\n"
     ]
    },
    {
     "name": "stdout",
     "output_type": "stream",
     "text": [
      "predicting. "
     ]
    },
    {
     "name": "stderr",
     "output_type": "stream",
     "text": [
      "/home/bsmith16/.conda/envs/neuralsignature/lib/python3.8/site-packages/nilearn/signal.py:58: UserWarning: Standardization of 3D signal has been requested but would lead to zero values. Skipping.\n",
      "  warnings.warn('Standardization of 3D signal has been requested but '\n",
      "/home/bsmith16/.conda/envs/neuralsignature/lib/python3.8/site-packages/nilearn/signal.py:58: UserWarning: Standardization of 3D signal has been requested but would lead to zero values. Skipping.\n",
      "  warnings.warn('Standardization of 3D signal has been requested but '\n"
     ]
    },
    {
     "name": "stdout",
     "output_type": "stream",
     "text": [
      "test score was:. -14.813105044381786\n",
      "fold 16 of 78\n",
      "In order to test on a training group of 77 items, holding out the following subjects:['DEV018']. prepping fold data.... fitting.... 635.7 MiB. trying decoder 1 of 1. "
     ]
    },
    {
     "name": "stderr",
     "output_type": "stream",
     "text": [
      "/home/bsmith16/.conda/envs/neuralsignature/lib/python3.8/site-packages/nilearn/decoding/decoder.py:143: UserWarning: Use a custom estimator at your own risk of the process not working as intended.\n",
      "  warnings.warn('Use a custom estimator at your own risk '\n"
     ]
    },
    {
     "name": "stdout",
     "output_type": "stream",
     "text": [
      "predicting. "
     ]
    },
    {
     "name": "stderr",
     "output_type": "stream",
     "text": [
      "/home/bsmith16/.conda/envs/neuralsignature/lib/python3.8/site-packages/nilearn/signal.py:58: UserWarning: Standardization of 3D signal has been requested but would lead to zero values. Skipping.\n",
      "  warnings.warn('Standardization of 3D signal has been requested but '\n",
      "/home/bsmith16/.conda/envs/neuralsignature/lib/python3.8/site-packages/nilearn/signal.py:58: UserWarning: Standardization of 3D signal has been requested but would lead to zero values. Skipping.\n",
      "  warnings.warn('Standardization of 3D signal has been requested but '\n"
     ]
    },
    {
     "name": "stdout",
     "output_type": "stream",
     "text": [
      "test score was:. -10.28999899837524\n",
      "fold 17 of 78\n",
      "In order to test on a training group of 77 items, holding out the following subjects:['DEV073']. prepping fold data.... fitting.... 635.7 MiB. trying decoder 1 of 1. "
     ]
    },
    {
     "name": "stderr",
     "output_type": "stream",
     "text": [
      "/home/bsmith16/.conda/envs/neuralsignature/lib/python3.8/site-packages/nilearn/decoding/decoder.py:143: UserWarning: Use a custom estimator at your own risk of the process not working as intended.\n",
      "  warnings.warn('Use a custom estimator at your own risk '\n"
     ]
    },
    {
     "name": "stdout",
     "output_type": "stream",
     "text": [
      "predicting. "
     ]
    },
    {
     "name": "stderr",
     "output_type": "stream",
     "text": [
      "/home/bsmith16/.conda/envs/neuralsignature/lib/python3.8/site-packages/nilearn/signal.py:58: UserWarning: Standardization of 3D signal has been requested but would lead to zero values. Skipping.\n",
      "  warnings.warn('Standardization of 3D signal has been requested but '\n",
      "/home/bsmith16/.conda/envs/neuralsignature/lib/python3.8/site-packages/nilearn/signal.py:58: UserWarning: Standardization of 3D signal has been requested but would lead to zero values. Skipping.\n",
      "  warnings.warn('Standardization of 3D signal has been requested but '\n"
     ]
    },
    {
     "name": "stdout",
     "output_type": "stream",
     "text": [
      "test score was:. -4.091966593205349\n",
      "fold 18 of 78\n",
      "In order to test on a training group of 77 items, holding out the following subjects:['DEV076']. prepping fold data.... fitting.... 635.7 MiB. trying decoder 1 of 1. "
     ]
    },
    {
     "name": "stderr",
     "output_type": "stream",
     "text": [
      "/home/bsmith16/.conda/envs/neuralsignature/lib/python3.8/site-packages/nilearn/decoding/decoder.py:143: UserWarning: Use a custom estimator at your own risk of the process not working as intended.\n",
      "  warnings.warn('Use a custom estimator at your own risk '\n"
     ]
    },
    {
     "name": "stdout",
     "output_type": "stream",
     "text": [
      "predicting. "
     ]
    },
    {
     "name": "stderr",
     "output_type": "stream",
     "text": [
      "/home/bsmith16/.conda/envs/neuralsignature/lib/python3.8/site-packages/nilearn/signal.py:58: UserWarning: Standardization of 3D signal has been requested but would lead to zero values. Skipping.\n",
      "  warnings.warn('Standardization of 3D signal has been requested but '\n",
      "/home/bsmith16/.conda/envs/neuralsignature/lib/python3.8/site-packages/nilearn/signal.py:58: UserWarning: Standardization of 3D signal has been requested but would lead to zero values. Skipping.\n",
      "  warnings.warn('Standardization of 3D signal has been requested but '\n"
     ]
    },
    {
     "name": "stdout",
     "output_type": "stream",
     "text": [
      "test score was:. -18.976563048309423\n",
      "fold 19 of 78\n",
      "In order to test on a training group of 77 items, holding out the following subjects:['DEV085']. prepping fold data.... fitting.... 635.7 MiB. trying decoder 1 of 1. "
     ]
    },
    {
     "name": "stderr",
     "output_type": "stream",
     "text": [
      "/home/bsmith16/.conda/envs/neuralsignature/lib/python3.8/site-packages/nilearn/decoding/decoder.py:143: UserWarning: Use a custom estimator at your own risk of the process not working as intended.\n",
      "  warnings.warn('Use a custom estimator at your own risk '\n"
     ]
    },
    {
     "name": "stdout",
     "output_type": "stream",
     "text": [
      "predicting. "
     ]
    },
    {
     "name": "stderr",
     "output_type": "stream",
     "text": [
      "/home/bsmith16/.conda/envs/neuralsignature/lib/python3.8/site-packages/nilearn/signal.py:58: UserWarning: Standardization of 3D signal has been requested but would lead to zero values. Skipping.\n",
      "  warnings.warn('Standardization of 3D signal has been requested but '\n",
      "/home/bsmith16/.conda/envs/neuralsignature/lib/python3.8/site-packages/nilearn/signal.py:58: UserWarning: Standardization of 3D signal has been requested but would lead to zero values. Skipping.\n",
      "  warnings.warn('Standardization of 3D signal has been requested but '\n"
     ]
    },
    {
     "name": "stdout",
     "output_type": "stream",
     "text": [
      "test score was:. -8.353370664641055\n",
      "fold 20 of 78\n",
      "In order to test on a training group of 77 items, holding out the following subjects:['DEV169']. prepping fold data.... fitting.... 635.7 MiB. trying decoder 1 of 1. "
     ]
    },
    {
     "name": "stderr",
     "output_type": "stream",
     "text": [
      "/home/bsmith16/.conda/envs/neuralsignature/lib/python3.8/site-packages/nilearn/decoding/decoder.py:143: UserWarning: Use a custom estimator at your own risk of the process not working as intended.\n",
      "  warnings.warn('Use a custom estimator at your own risk '\n"
     ]
    },
    {
     "name": "stdout",
     "output_type": "stream",
     "text": [
      "predicting. "
     ]
    },
    {
     "name": "stderr",
     "output_type": "stream",
     "text": [
      "/home/bsmith16/.conda/envs/neuralsignature/lib/python3.8/site-packages/nilearn/signal.py:58: UserWarning: Standardization of 3D signal has been requested but would lead to zero values. Skipping.\n",
      "  warnings.warn('Standardization of 3D signal has been requested but '\n",
      "/home/bsmith16/.conda/envs/neuralsignature/lib/python3.8/site-packages/nilearn/signal.py:58: UserWarning: Standardization of 3D signal has been requested but would lead to zero values. Skipping.\n",
      "  warnings.warn('Standardization of 3D signal has been requested but '\n"
     ]
    },
    {
     "name": "stdout",
     "output_type": "stream",
     "text": [
      "test score was:. -11.170417889776793\n",
      "fold 21 of 78\n",
      "In order to test on a training group of 77 items, holding out the following subjects:['DEV059']. prepping fold data.... fitting.... 635.7 MiB. trying decoder 1 of 1. "
     ]
    },
    {
     "name": "stderr",
     "output_type": "stream",
     "text": [
      "/home/bsmith16/.conda/envs/neuralsignature/lib/python3.8/site-packages/nilearn/decoding/decoder.py:143: UserWarning: Use a custom estimator at your own risk of the process not working as intended.\n",
      "  warnings.warn('Use a custom estimator at your own risk '\n"
     ]
    },
    {
     "name": "stdout",
     "output_type": "stream",
     "text": [
      "predicting. "
     ]
    },
    {
     "name": "stderr",
     "output_type": "stream",
     "text": [
      "/home/bsmith16/.conda/envs/neuralsignature/lib/python3.8/site-packages/nilearn/signal.py:58: UserWarning: Standardization of 3D signal has been requested but would lead to zero values. Skipping.\n",
      "  warnings.warn('Standardization of 3D signal has been requested but '\n",
      "/home/bsmith16/.conda/envs/neuralsignature/lib/python3.8/site-packages/nilearn/signal.py:58: UserWarning: Standardization of 3D signal has been requested but would lead to zero values. Skipping.\n",
      "  warnings.warn('Standardization of 3D signal has been requested but '\n"
     ]
    },
    {
     "name": "stdout",
     "output_type": "stream",
     "text": [
      "test score was:. -9.92680849715942\n",
      "fold 22 of 78\n",
      "In order to test on a training group of 77 items, holding out the following subjects:['DEV013']. prepping fold data.... fitting.... 635.7 MiB. trying decoder 1 of 1. "
     ]
    },
    {
     "name": "stderr",
     "output_type": "stream",
     "text": [
      "/home/bsmith16/.conda/envs/neuralsignature/lib/python3.8/site-packages/nilearn/decoding/decoder.py:143: UserWarning: Use a custom estimator at your own risk of the process not working as intended.\n",
      "  warnings.warn('Use a custom estimator at your own risk '\n"
     ]
    },
    {
     "name": "stdout",
     "output_type": "stream",
     "text": [
      "predicting. "
     ]
    },
    {
     "name": "stderr",
     "output_type": "stream",
     "text": [
      "/home/bsmith16/.conda/envs/neuralsignature/lib/python3.8/site-packages/nilearn/signal.py:58: UserWarning: Standardization of 3D signal has been requested but would lead to zero values. Skipping.\n",
      "  warnings.warn('Standardization of 3D signal has been requested but '\n",
      "/home/bsmith16/.conda/envs/neuralsignature/lib/python3.8/site-packages/nilearn/signal.py:58: UserWarning: Standardization of 3D signal has been requested but would lead to zero values. Skipping.\n",
      "  warnings.warn('Standardization of 3D signal has been requested but '\n"
     ]
    },
    {
     "name": "stdout",
     "output_type": "stream",
     "text": [
      "test score was:. -7.53781432865658\n",
      "fold 23 of 78\n",
      "In order to test on a training group of 77 items, holding out the following subjects:['DEV029']. prepping fold data.... fitting.... 635.7 MiB. trying decoder 1 of 1. "
     ]
    },
    {
     "name": "stderr",
     "output_type": "stream",
     "text": [
      "/home/bsmith16/.conda/envs/neuralsignature/lib/python3.8/site-packages/nilearn/decoding/decoder.py:143: UserWarning: Use a custom estimator at your own risk of the process not working as intended.\n",
      "  warnings.warn('Use a custom estimator at your own risk '\n"
     ]
    },
    {
     "name": "stdout",
     "output_type": "stream",
     "text": [
      "predicting. "
     ]
    },
    {
     "name": "stderr",
     "output_type": "stream",
     "text": [
      "/home/bsmith16/.conda/envs/neuralsignature/lib/python3.8/site-packages/nilearn/signal.py:58: UserWarning: Standardization of 3D signal has been requested but would lead to zero values. Skipping.\n",
      "  warnings.warn('Standardization of 3D signal has been requested but '\n",
      "/home/bsmith16/.conda/envs/neuralsignature/lib/python3.8/site-packages/nilearn/signal.py:58: UserWarning: Standardization of 3D signal has been requested but would lead to zero values. Skipping.\n",
      "  warnings.warn('Standardization of 3D signal has been requested but '\n"
     ]
    },
    {
     "name": "stdout",
     "output_type": "stream",
     "text": [
      "test score was:. -13.48414075833206\n",
      "fold 24 of 78\n",
      "In order to test on a training group of 77 items, holding out the following subjects:['DEV215']. prepping fold data.... fitting.... 635.7 MiB. trying decoder 1 of 1. "
     ]
    },
    {
     "name": "stderr",
     "output_type": "stream",
     "text": [
      "/home/bsmith16/.conda/envs/neuralsignature/lib/python3.8/site-packages/nilearn/decoding/decoder.py:143: UserWarning: Use a custom estimator at your own risk of the process not working as intended.\n",
      "  warnings.warn('Use a custom estimator at your own risk '\n"
     ]
    },
    {
     "name": "stdout",
     "output_type": "stream",
     "text": [
      "predicting. "
     ]
    },
    {
     "name": "stderr",
     "output_type": "stream",
     "text": [
      "/home/bsmith16/.conda/envs/neuralsignature/lib/python3.8/site-packages/nilearn/signal.py:58: UserWarning: Standardization of 3D signal has been requested but would lead to zero values. Skipping.\n",
      "  warnings.warn('Standardization of 3D signal has been requested but '\n",
      "/home/bsmith16/.conda/envs/neuralsignature/lib/python3.8/site-packages/nilearn/signal.py:58: UserWarning: Standardization of 3D signal has been requested but would lead to zero values. Skipping.\n",
      "  warnings.warn('Standardization of 3D signal has been requested but '\n"
     ]
    },
    {
     "name": "stdout",
     "output_type": "stream",
     "text": [
      "test score was:. -17.070005958480834\n",
      "fold 25 of 78\n",
      "In order to test on a training group of 77 items, holding out the following subjects:['DEV157']. prepping fold data.... fitting.... 635.7 MiB. trying decoder 1 of 1. "
     ]
    },
    {
     "name": "stderr",
     "output_type": "stream",
     "text": [
      "/home/bsmith16/.conda/envs/neuralsignature/lib/python3.8/site-packages/nilearn/decoding/decoder.py:143: UserWarning: Use a custom estimator at your own risk of the process not working as intended.\n",
      "  warnings.warn('Use a custom estimator at your own risk '\n"
     ]
    },
    {
     "name": "stdout",
     "output_type": "stream",
     "text": [
      "predicting. "
     ]
    },
    {
     "name": "stderr",
     "output_type": "stream",
     "text": [
      "/home/bsmith16/.conda/envs/neuralsignature/lib/python3.8/site-packages/nilearn/signal.py:58: UserWarning: Standardization of 3D signal has been requested but would lead to zero values. Skipping.\n",
      "  warnings.warn('Standardization of 3D signal has been requested but '\n",
      "/home/bsmith16/.conda/envs/neuralsignature/lib/python3.8/site-packages/nilearn/signal.py:58: UserWarning: Standardization of 3D signal has been requested but would lead to zero values. Skipping.\n",
      "  warnings.warn('Standardization of 3D signal has been requested but '\n"
     ]
    },
    {
     "name": "stdout",
     "output_type": "stream",
     "text": [
      "test score was:. -2.6317991517150148\n",
      "fold 26 of 78\n",
      "In order to test on a training group of 77 items, holding out the following subjects:['DEV141']. prepping fold data.... fitting.... 635.7 MiB. trying decoder 1 of 1. "
     ]
    },
    {
     "name": "stderr",
     "output_type": "stream",
     "text": [
      "/home/bsmith16/.conda/envs/neuralsignature/lib/python3.8/site-packages/nilearn/decoding/decoder.py:143: UserWarning: Use a custom estimator at your own risk of the process not working as intended.\n",
      "  warnings.warn('Use a custom estimator at your own risk '\n"
     ]
    },
    {
     "name": "stdout",
     "output_type": "stream",
     "text": [
      "predicting. "
     ]
    },
    {
     "name": "stderr",
     "output_type": "stream",
     "text": [
      "/home/bsmith16/.conda/envs/neuralsignature/lib/python3.8/site-packages/nilearn/signal.py:58: UserWarning: Standardization of 3D signal has been requested but would lead to zero values. Skipping.\n",
      "  warnings.warn('Standardization of 3D signal has been requested but '\n",
      "/home/bsmith16/.conda/envs/neuralsignature/lib/python3.8/site-packages/nilearn/signal.py:58: UserWarning: Standardization of 3D signal has been requested but would lead to zero values. Skipping.\n",
      "  warnings.warn('Standardization of 3D signal has been requested but '\n"
     ]
    },
    {
     "name": "stdout",
     "output_type": "stream",
     "text": [
      "test score was:. -18.978256740528266\n",
      "fold 27 of 78\n",
      "In order to test on a training group of 77 items, holding out the following subjects:['DEV051']. prepping fold data.... fitting.... 635.7 MiB. trying decoder 1 of 1. "
     ]
    },
    {
     "name": "stderr",
     "output_type": "stream",
     "text": [
      "/home/bsmith16/.conda/envs/neuralsignature/lib/python3.8/site-packages/nilearn/decoding/decoder.py:143: UserWarning: Use a custom estimator at your own risk of the process not working as intended.\n",
      "  warnings.warn('Use a custom estimator at your own risk '\n"
     ]
    },
    {
     "name": "stdout",
     "output_type": "stream",
     "text": [
      "predicting. "
     ]
    },
    {
     "name": "stderr",
     "output_type": "stream",
     "text": [
      "/home/bsmith16/.conda/envs/neuralsignature/lib/python3.8/site-packages/nilearn/signal.py:58: UserWarning: Standardization of 3D signal has been requested but would lead to zero values. Skipping.\n",
      "  warnings.warn('Standardization of 3D signal has been requested but '\n",
      "/home/bsmith16/.conda/envs/neuralsignature/lib/python3.8/site-packages/nilearn/signal.py:58: UserWarning: Standardization of 3D signal has been requested but would lead to zero values. Skipping.\n",
      "  warnings.warn('Standardization of 3D signal has been requested but '\n"
     ]
    },
    {
     "name": "stdout",
     "output_type": "stream",
     "text": [
      "test score was:. -19.574172382468774\n",
      "fold 28 of 78\n",
      "In order to test on a training group of 77 items, holding out the following subjects:['DEV135']. prepping fold data.... fitting.... 635.7 MiB. trying decoder 1 of 1. "
     ]
    },
    {
     "name": "stderr",
     "output_type": "stream",
     "text": [
      "/home/bsmith16/.conda/envs/neuralsignature/lib/python3.8/site-packages/nilearn/decoding/decoder.py:143: UserWarning: Use a custom estimator at your own risk of the process not working as intended.\n",
      "  warnings.warn('Use a custom estimator at your own risk '\n"
     ]
    },
    {
     "name": "stdout",
     "output_type": "stream",
     "text": [
      "predicting. "
     ]
    },
    {
     "name": "stderr",
     "output_type": "stream",
     "text": [
      "/home/bsmith16/.conda/envs/neuralsignature/lib/python3.8/site-packages/nilearn/signal.py:58: UserWarning: Standardization of 3D signal has been requested but would lead to zero values. Skipping.\n",
      "  warnings.warn('Standardization of 3D signal has been requested but '\n",
      "/home/bsmith16/.conda/envs/neuralsignature/lib/python3.8/site-packages/nilearn/signal.py:58: UserWarning: Standardization of 3D signal has been requested but would lead to zero values. Skipping.\n",
      "  warnings.warn('Standardization of 3D signal has been requested but '\n"
     ]
    },
    {
     "name": "stdout",
     "output_type": "stream",
     "text": [
      "test score was:. -3.738643482836501\n",
      "fold 29 of 78\n",
      "In order to test on a training group of 77 items, holding out the following subjects:['DEV097']. prepping fold data.... fitting.... 635.7 MiB. trying decoder 1 of 1. "
     ]
    },
    {
     "name": "stderr",
     "output_type": "stream",
     "text": [
      "/home/bsmith16/.conda/envs/neuralsignature/lib/python3.8/site-packages/nilearn/decoding/decoder.py:143: UserWarning: Use a custom estimator at your own risk of the process not working as intended.\n",
      "  warnings.warn('Use a custom estimator at your own risk '\n"
     ]
    },
    {
     "name": "stdout",
     "output_type": "stream",
     "text": [
      "predicting. "
     ]
    },
    {
     "name": "stderr",
     "output_type": "stream",
     "text": [
      "/home/bsmith16/.conda/envs/neuralsignature/lib/python3.8/site-packages/nilearn/signal.py:58: UserWarning: Standardization of 3D signal has been requested but would lead to zero values. Skipping.\n",
      "  warnings.warn('Standardization of 3D signal has been requested but '\n",
      "/home/bsmith16/.conda/envs/neuralsignature/lib/python3.8/site-packages/nilearn/signal.py:58: UserWarning: Standardization of 3D signal has been requested but would lead to zero values. Skipping.\n",
      "  warnings.warn('Standardization of 3D signal has been requested but '\n"
     ]
    },
    {
     "name": "stdout",
     "output_type": "stream",
     "text": [
      "test score was:. -5.953194905678515\n",
      "fold 30 of 78\n",
      "In order to test on a training group of 77 items, holding out the following subjects:['DEV017']. prepping fold data.... fitting.... 635.7 MiB. trying decoder 1 of 1. "
     ]
    },
    {
     "name": "stderr",
     "output_type": "stream",
     "text": [
      "/home/bsmith16/.conda/envs/neuralsignature/lib/python3.8/site-packages/nilearn/decoding/decoder.py:143: UserWarning: Use a custom estimator at your own risk of the process not working as intended.\n",
      "  warnings.warn('Use a custom estimator at your own risk '\n"
     ]
    },
    {
     "name": "stdout",
     "output_type": "stream",
     "text": [
      "predicting. "
     ]
    },
    {
     "name": "stderr",
     "output_type": "stream",
     "text": [
      "/home/bsmith16/.conda/envs/neuralsignature/lib/python3.8/site-packages/nilearn/signal.py:58: UserWarning: Standardization of 3D signal has been requested but would lead to zero values. Skipping.\n",
      "  warnings.warn('Standardization of 3D signal has been requested but '\n",
      "/home/bsmith16/.conda/envs/neuralsignature/lib/python3.8/site-packages/nilearn/signal.py:58: UserWarning: Standardization of 3D signal has been requested but would lead to zero values. Skipping.\n",
      "  warnings.warn('Standardization of 3D signal has been requested but '\n"
     ]
    },
    {
     "name": "stdout",
     "output_type": "stream",
     "text": [
      "test score was:. -13.43929021142884\n",
      "fold 31 of 78\n",
      "In order to test on a training group of 77 items, holding out the following subjects:['DEV035']. prepping fold data.... fitting.... 635.7 MiB. trying decoder 1 of 1. "
     ]
    },
    {
     "name": "stderr",
     "output_type": "stream",
     "text": [
      "/home/bsmith16/.conda/envs/neuralsignature/lib/python3.8/site-packages/nilearn/decoding/decoder.py:143: UserWarning: Use a custom estimator at your own risk of the process not working as intended.\n",
      "  warnings.warn('Use a custom estimator at your own risk '\n"
     ]
    },
    {
     "name": "stdout",
     "output_type": "stream",
     "text": [
      "predicting. "
     ]
    },
    {
     "name": "stderr",
     "output_type": "stream",
     "text": [
      "/home/bsmith16/.conda/envs/neuralsignature/lib/python3.8/site-packages/nilearn/signal.py:58: UserWarning: Standardization of 3D signal has been requested but would lead to zero values. Skipping.\n",
      "  warnings.warn('Standardization of 3D signal has been requested but '\n",
      "/home/bsmith16/.conda/envs/neuralsignature/lib/python3.8/site-packages/nilearn/signal.py:58: UserWarning: Standardization of 3D signal has been requested but would lead to zero values. Skipping.\n",
      "  warnings.warn('Standardization of 3D signal has been requested but '\n"
     ]
    },
    {
     "name": "stdout",
     "output_type": "stream",
     "text": [
      "test score was:. -6.974383371670903\n",
      "fold 32 of 78\n",
      "In order to test on a training group of 77 items, holding out the following subjects:['DEV009']. prepping fold data.... fitting.... 635.7 MiB. trying decoder 1 of 1. "
     ]
    },
    {
     "name": "stderr",
     "output_type": "stream",
     "text": [
      "/home/bsmith16/.conda/envs/neuralsignature/lib/python3.8/site-packages/nilearn/decoding/decoder.py:143: UserWarning: Use a custom estimator at your own risk of the process not working as intended.\n",
      "  warnings.warn('Use a custom estimator at your own risk '\n"
     ]
    },
    {
     "name": "stdout",
     "output_type": "stream",
     "text": [
      "predicting. "
     ]
    },
    {
     "name": "stderr",
     "output_type": "stream",
     "text": [
      "/home/bsmith16/.conda/envs/neuralsignature/lib/python3.8/site-packages/nilearn/signal.py:58: UserWarning: Standardization of 3D signal has been requested but would lead to zero values. Skipping.\n",
      "  warnings.warn('Standardization of 3D signal has been requested but '\n",
      "/home/bsmith16/.conda/envs/neuralsignature/lib/python3.8/site-packages/nilearn/signal.py:58: UserWarning: Standardization of 3D signal has been requested but would lead to zero values. Skipping.\n",
      "  warnings.warn('Standardization of 3D signal has been requested but '\n"
     ]
    },
    {
     "name": "stdout",
     "output_type": "stream",
     "text": [
      "test score was:. -1.4086055541761198\n",
      "fold 33 of 78\n",
      "In order to test on a training group of 77 items, holding out the following subjects:['DEV047']. prepping fold data.... fitting.... 635.7 MiB. trying decoder 1 of 1. "
     ]
    },
    {
     "name": "stderr",
     "output_type": "stream",
     "text": [
      "/home/bsmith16/.conda/envs/neuralsignature/lib/python3.8/site-packages/nilearn/decoding/decoder.py:143: UserWarning: Use a custom estimator at your own risk of the process not working as intended.\n",
      "  warnings.warn('Use a custom estimator at your own risk '\n"
     ]
    },
    {
     "name": "stdout",
     "output_type": "stream",
     "text": [
      "predicting. "
     ]
    },
    {
     "name": "stderr",
     "output_type": "stream",
     "text": [
      "/home/bsmith16/.conda/envs/neuralsignature/lib/python3.8/site-packages/nilearn/signal.py:58: UserWarning: Standardization of 3D signal has been requested but would lead to zero values. Skipping.\n",
      "  warnings.warn('Standardization of 3D signal has been requested but '\n",
      "/home/bsmith16/.conda/envs/neuralsignature/lib/python3.8/site-packages/nilearn/signal.py:58: UserWarning: Standardization of 3D signal has been requested but would lead to zero values. Skipping.\n",
      "  warnings.warn('Standardization of 3D signal has been requested but '\n"
     ]
    },
    {
     "name": "stdout",
     "output_type": "stream",
     "text": [
      "test score was:. -2.716294213670679\n",
      "fold 34 of 78\n",
      "In order to test on a training group of 77 items, holding out the following subjects:['DEV206']. prepping fold data.... fitting.... 635.7 MiB. trying decoder 1 of 1. "
     ]
    },
    {
     "name": "stderr",
     "output_type": "stream",
     "text": [
      "/home/bsmith16/.conda/envs/neuralsignature/lib/python3.8/site-packages/nilearn/decoding/decoder.py:143: UserWarning: Use a custom estimator at your own risk of the process not working as intended.\n",
      "  warnings.warn('Use a custom estimator at your own risk '\n"
     ]
    },
    {
     "name": "stdout",
     "output_type": "stream",
     "text": [
      "predicting. "
     ]
    },
    {
     "name": "stderr",
     "output_type": "stream",
     "text": [
      "/home/bsmith16/.conda/envs/neuralsignature/lib/python3.8/site-packages/nilearn/signal.py:58: UserWarning: Standardization of 3D signal has been requested but would lead to zero values. Skipping.\n",
      "  warnings.warn('Standardization of 3D signal has been requested but '\n",
      "/home/bsmith16/.conda/envs/neuralsignature/lib/python3.8/site-packages/nilearn/signal.py:58: UserWarning: Standardization of 3D signal has been requested but would lead to zero values. Skipping.\n",
      "  warnings.warn('Standardization of 3D signal has been requested but '\n"
     ]
    },
    {
     "name": "stdout",
     "output_type": "stream",
     "text": [
      "test score was:. -3.372045661010958\n",
      "fold 35 of 78\n",
      "In order to test on a training group of 77 items, holding out the following subjects:['DEV006']. prepping fold data.... fitting.... 635.7 MiB. trying decoder 1 of 1. "
     ]
    },
    {
     "name": "stderr",
     "output_type": "stream",
     "text": [
      "/home/bsmith16/.conda/envs/neuralsignature/lib/python3.8/site-packages/nilearn/decoding/decoder.py:143: UserWarning: Use a custom estimator at your own risk of the process not working as intended.\n",
      "  warnings.warn('Use a custom estimator at your own risk '\n"
     ]
    },
    {
     "name": "stdout",
     "output_type": "stream",
     "text": [
      "predicting. "
     ]
    },
    {
     "name": "stderr",
     "output_type": "stream",
     "text": [
      "/home/bsmith16/.conda/envs/neuralsignature/lib/python3.8/site-packages/nilearn/signal.py:58: UserWarning: Standardization of 3D signal has been requested but would lead to zero values. Skipping.\n",
      "  warnings.warn('Standardization of 3D signal has been requested but '\n",
      "/home/bsmith16/.conda/envs/neuralsignature/lib/python3.8/site-packages/nilearn/signal.py:58: UserWarning: Standardization of 3D signal has been requested but would lead to zero values. Skipping.\n",
      "  warnings.warn('Standardization of 3D signal has been requested but '\n"
     ]
    },
    {
     "name": "stdout",
     "output_type": "stream",
     "text": [
      "test score was:. -9.919273926340495\n",
      "fold 36 of 78\n",
      "In order to test on a training group of 77 items, holding out the following subjects:['DEV022']. prepping fold data.... fitting.... 635.7 MiB. trying decoder 1 of 1. "
     ]
    },
    {
     "name": "stderr",
     "output_type": "stream",
     "text": [
      "/home/bsmith16/.conda/envs/neuralsignature/lib/python3.8/site-packages/nilearn/decoding/decoder.py:143: UserWarning: Use a custom estimator at your own risk of the process not working as intended.\n",
      "  warnings.warn('Use a custom estimator at your own risk '\n"
     ]
    },
    {
     "name": "stdout",
     "output_type": "stream",
     "text": [
      "predicting. "
     ]
    },
    {
     "name": "stderr",
     "output_type": "stream",
     "text": [
      "/home/bsmith16/.conda/envs/neuralsignature/lib/python3.8/site-packages/nilearn/signal.py:58: UserWarning: Standardization of 3D signal has been requested but would lead to zero values. Skipping.\n",
      "  warnings.warn('Standardization of 3D signal has been requested but '\n",
      "/home/bsmith16/.conda/envs/neuralsignature/lib/python3.8/site-packages/nilearn/signal.py:58: UserWarning: Standardization of 3D signal has been requested but would lead to zero values. Skipping.\n",
      "  warnings.warn('Standardization of 3D signal has been requested but '\n"
     ]
    },
    {
     "name": "stdout",
     "output_type": "stream",
     "text": [
      "test score was:. -10.662638975739668\n",
      "fold 37 of 78\n",
      "In order to test on a training group of 77 items, holding out the following subjects:['DEV040']. prepping fold data.... fitting.... 635.7 MiB. trying decoder 1 of 1. "
     ]
    },
    {
     "name": "stderr",
     "output_type": "stream",
     "text": [
      "/home/bsmith16/.conda/envs/neuralsignature/lib/python3.8/site-packages/nilearn/decoding/decoder.py:143: UserWarning: Use a custom estimator at your own risk of the process not working as intended.\n",
      "  warnings.warn('Use a custom estimator at your own risk '\n"
     ]
    },
    {
     "name": "stdout",
     "output_type": "stream",
     "text": [
      "predicting. "
     ]
    },
    {
     "name": "stderr",
     "output_type": "stream",
     "text": [
      "/home/bsmith16/.conda/envs/neuralsignature/lib/python3.8/site-packages/nilearn/signal.py:58: UserWarning: Standardization of 3D signal has been requested but would lead to zero values. Skipping.\n",
      "  warnings.warn('Standardization of 3D signal has been requested but '\n",
      "/home/bsmith16/.conda/envs/neuralsignature/lib/python3.8/site-packages/nilearn/signal.py:58: UserWarning: Standardization of 3D signal has been requested but would lead to zero values. Skipping.\n",
      "  warnings.warn('Standardization of 3D signal has been requested but '\n"
     ]
    },
    {
     "name": "stdout",
     "output_type": "stream",
     "text": [
      "test score was:. -5.215205932152628\n",
      "fold 38 of 78\n",
      "In order to test on a training group of 77 items, holding out the following subjects:['DEV079']. prepping fold data.... fitting.... 635.7 MiB. trying decoder 1 of 1. "
     ]
    },
    {
     "name": "stderr",
     "output_type": "stream",
     "text": [
      "/home/bsmith16/.conda/envs/neuralsignature/lib/python3.8/site-packages/nilearn/decoding/decoder.py:143: UserWarning: Use a custom estimator at your own risk of the process not working as intended.\n",
      "  warnings.warn('Use a custom estimator at your own risk '\n"
     ]
    },
    {
     "name": "stdout",
     "output_type": "stream",
     "text": [
      "predicting. "
     ]
    },
    {
     "name": "stderr",
     "output_type": "stream",
     "text": [
      "/home/bsmith16/.conda/envs/neuralsignature/lib/python3.8/site-packages/nilearn/signal.py:58: UserWarning: Standardization of 3D signal has been requested but would lead to zero values. Skipping.\n",
      "  warnings.warn('Standardization of 3D signal has been requested but '\n",
      "/home/bsmith16/.conda/envs/neuralsignature/lib/python3.8/site-packages/nilearn/signal.py:58: UserWarning: Standardization of 3D signal has been requested but would lead to zero values. Skipping.\n",
      "  warnings.warn('Standardization of 3D signal has been requested but '\n"
     ]
    },
    {
     "name": "stdout",
     "output_type": "stream",
     "text": [
      "test score was:. -3.3912534443490756\n",
      "fold 39 of 78\n",
      "In order to test on a training group of 77 items, holding out the following subjects:['DEV084']. prepping fold data.... fitting.... 635.7 MiB. trying decoder 1 of 1. "
     ]
    },
    {
     "name": "stderr",
     "output_type": "stream",
     "text": [
      "/home/bsmith16/.conda/envs/neuralsignature/lib/python3.8/site-packages/nilearn/decoding/decoder.py:143: UserWarning: Use a custom estimator at your own risk of the process not working as intended.\n",
      "  warnings.warn('Use a custom estimator at your own risk '\n"
     ]
    },
    {
     "name": "stdout",
     "output_type": "stream",
     "text": [
      "predicting. "
     ]
    },
    {
     "name": "stderr",
     "output_type": "stream",
     "text": [
      "/home/bsmith16/.conda/envs/neuralsignature/lib/python3.8/site-packages/nilearn/signal.py:58: UserWarning: Standardization of 3D signal has been requested but would lead to zero values. Skipping.\n",
      "  warnings.warn('Standardization of 3D signal has been requested but '\n",
      "/home/bsmith16/.conda/envs/neuralsignature/lib/python3.8/site-packages/nilearn/signal.py:58: UserWarning: Standardization of 3D signal has been requested but would lead to zero values. Skipping.\n",
      "  warnings.warn('Standardization of 3D signal has been requested but '\n"
     ]
    },
    {
     "name": "stdout",
     "output_type": "stream",
     "text": [
      "test score was:. -5.347243994948855\n",
      "fold 40 of 78\n",
      "In order to test on a training group of 77 items, holding out the following subjects:['DEV021']. prepping fold data.... fitting.... 635.7 MiB. trying decoder 1 of 1. "
     ]
    },
    {
     "name": "stderr",
     "output_type": "stream",
     "text": [
      "/home/bsmith16/.conda/envs/neuralsignature/lib/python3.8/site-packages/nilearn/decoding/decoder.py:143: UserWarning: Use a custom estimator at your own risk of the process not working as intended.\n",
      "  warnings.warn('Use a custom estimator at your own risk '\n"
     ]
    },
    {
     "name": "stdout",
     "output_type": "stream",
     "text": [
      "predicting. "
     ]
    },
    {
     "name": "stderr",
     "output_type": "stream",
     "text": [
      "/home/bsmith16/.conda/envs/neuralsignature/lib/python3.8/site-packages/nilearn/signal.py:58: UserWarning: Standardization of 3D signal has been requested but would lead to zero values. Skipping.\n",
      "  warnings.warn('Standardization of 3D signal has been requested but '\n",
      "/home/bsmith16/.conda/envs/neuralsignature/lib/python3.8/site-packages/nilearn/signal.py:58: UserWarning: Standardization of 3D signal has been requested but would lead to zero values. Skipping.\n",
      "  warnings.warn('Standardization of 3D signal has been requested but '\n"
     ]
    },
    {
     "name": "stdout",
     "output_type": "stream",
     "text": [
      "test score was:. -14.405427916459693\n",
      "fold 41 of 78\n",
      "In order to test on a training group of 77 items, holding out the following subjects:['DEV015']. prepping fold data.... fitting.... 635.7 MiB. trying decoder 1 of 1. "
     ]
    },
    {
     "name": "stderr",
     "output_type": "stream",
     "text": [
      "/home/bsmith16/.conda/envs/neuralsignature/lib/python3.8/site-packages/nilearn/decoding/decoder.py:143: UserWarning: Use a custom estimator at your own risk of the process not working as intended.\n",
      "  warnings.warn('Use a custom estimator at your own risk '\n"
     ]
    },
    {
     "name": "stdout",
     "output_type": "stream",
     "text": [
      "predicting. "
     ]
    },
    {
     "name": "stderr",
     "output_type": "stream",
     "text": [
      "/home/bsmith16/.conda/envs/neuralsignature/lib/python3.8/site-packages/nilearn/signal.py:58: UserWarning: Standardization of 3D signal has been requested but would lead to zero values. Skipping.\n",
      "  warnings.warn('Standardization of 3D signal has been requested but '\n",
      "/home/bsmith16/.conda/envs/neuralsignature/lib/python3.8/site-packages/nilearn/signal.py:58: UserWarning: Standardization of 3D signal has been requested but would lead to zero values. Skipping.\n",
      "  warnings.warn('Standardization of 3D signal has been requested but '\n"
     ]
    },
    {
     "name": "stdout",
     "output_type": "stream",
     "text": [
      "test score was:. -7.306375203792392\n",
      "fold 42 of 78\n",
      "In order to test on a training group of 77 items, holding out the following subjects:['DEV071']. prepping fold data.... fitting.... 635.7 MiB. trying decoder 1 of 1. "
     ]
    },
    {
     "name": "stderr",
     "output_type": "stream",
     "text": [
      "/home/bsmith16/.conda/envs/neuralsignature/lib/python3.8/site-packages/nilearn/decoding/decoder.py:143: UserWarning: Use a custom estimator at your own risk of the process not working as intended.\n",
      "  warnings.warn('Use a custom estimator at your own risk '\n"
     ]
    },
    {
     "name": "stdout",
     "output_type": "stream",
     "text": [
      "predicting. "
     ]
    },
    {
     "name": "stderr",
     "output_type": "stream",
     "text": [
      "/home/bsmith16/.conda/envs/neuralsignature/lib/python3.8/site-packages/nilearn/signal.py:58: UserWarning: Standardization of 3D signal has been requested but would lead to zero values. Skipping.\n",
      "  warnings.warn('Standardization of 3D signal has been requested but '\n",
      "/home/bsmith16/.conda/envs/neuralsignature/lib/python3.8/site-packages/nilearn/signal.py:58: UserWarning: Standardization of 3D signal has been requested but would lead to zero values. Skipping.\n",
      "  warnings.warn('Standardization of 3D signal has been requested but '\n"
     ]
    },
    {
     "name": "stdout",
     "output_type": "stream",
     "text": [
      "test score was:. -0.0051236062647177505\n",
      "fold 43 of 78\n",
      "In order to test on a training group of 77 items, holding out the following subjects:['DEV060']. prepping fold data.... fitting.... 635.7 MiB. trying decoder 1 of 1. "
     ]
    },
    {
     "name": "stderr",
     "output_type": "stream",
     "text": [
      "/home/bsmith16/.conda/envs/neuralsignature/lib/python3.8/site-packages/nilearn/decoding/decoder.py:143: UserWarning: Use a custom estimator at your own risk of the process not working as intended.\n",
      "  warnings.warn('Use a custom estimator at your own risk '\n"
     ]
    },
    {
     "name": "stdout",
     "output_type": "stream",
     "text": [
      "predicting. "
     ]
    },
    {
     "name": "stderr",
     "output_type": "stream",
     "text": [
      "/home/bsmith16/.conda/envs/neuralsignature/lib/python3.8/site-packages/nilearn/signal.py:58: UserWarning: Standardization of 3D signal has been requested but would lead to zero values. Skipping.\n",
      "  warnings.warn('Standardization of 3D signal has been requested but '\n",
      "/home/bsmith16/.conda/envs/neuralsignature/lib/python3.8/site-packages/nilearn/signal.py:58: UserWarning: Standardization of 3D signal has been requested but would lead to zero values. Skipping.\n",
      "  warnings.warn('Standardization of 3D signal has been requested but '\n"
     ]
    },
    {
     "name": "stdout",
     "output_type": "stream",
     "text": [
      "test score was:. -7.249819542307549\n",
      "fold 44 of 78\n",
      "In order to test on a training group of 77 items, holding out the following subjects:['DEV005']. prepping fold data.... fitting.... 635.7 MiB. trying decoder 1 of 1. "
     ]
    },
    {
     "name": "stderr",
     "output_type": "stream",
     "text": [
      "/home/bsmith16/.conda/envs/neuralsignature/lib/python3.8/site-packages/nilearn/decoding/decoder.py:143: UserWarning: Use a custom estimator at your own risk of the process not working as intended.\n",
      "  warnings.warn('Use a custom estimator at your own risk '\n"
     ]
    },
    {
     "name": "stdout",
     "output_type": "stream",
     "text": [
      "predicting. "
     ]
    },
    {
     "name": "stderr",
     "output_type": "stream",
     "text": [
      "/home/bsmith16/.conda/envs/neuralsignature/lib/python3.8/site-packages/nilearn/signal.py:58: UserWarning: Standardization of 3D signal has been requested but would lead to zero values. Skipping.\n",
      "  warnings.warn('Standardization of 3D signal has been requested but '\n",
      "/home/bsmith16/.conda/envs/neuralsignature/lib/python3.8/site-packages/nilearn/signal.py:58: UserWarning: Standardization of 3D signal has been requested but would lead to zero values. Skipping.\n",
      "  warnings.warn('Standardization of 3D signal has been requested but '\n"
     ]
    },
    {
     "name": "stdout",
     "output_type": "stream",
     "text": [
      "test score was:. -9.191037614999452\n",
      "fold 45 of 78\n",
      "In order to test on a training group of 77 items, holding out the following subjects:['DEV025']. prepping fold data.... fitting.... 635.7 MiB. trying decoder 1 of 1. "
     ]
    },
    {
     "name": "stderr",
     "output_type": "stream",
     "text": [
      "/home/bsmith16/.conda/envs/neuralsignature/lib/python3.8/site-packages/nilearn/decoding/decoder.py:143: UserWarning: Use a custom estimator at your own risk of the process not working as intended.\n",
      "  warnings.warn('Use a custom estimator at your own risk '\n"
     ]
    },
    {
     "name": "stdout",
     "output_type": "stream",
     "text": [
      "predicting. "
     ]
    },
    {
     "name": "stderr",
     "output_type": "stream",
     "text": [
      "/home/bsmith16/.conda/envs/neuralsignature/lib/python3.8/site-packages/nilearn/signal.py:58: UserWarning: Standardization of 3D signal has been requested but would lead to zero values. Skipping.\n",
      "  warnings.warn('Standardization of 3D signal has been requested but '\n",
      "/home/bsmith16/.conda/envs/neuralsignature/lib/python3.8/site-packages/nilearn/signal.py:58: UserWarning: Standardization of 3D signal has been requested but would lead to zero values. Skipping.\n",
      "  warnings.warn('Standardization of 3D signal has been requested but '\n"
     ]
    },
    {
     "name": "stdout",
     "output_type": "stream",
     "text": [
      "test score was:. -31.445228109500633\n",
      "fold 46 of 78\n",
      "In order to test on a training group of 77 items, holding out the following subjects:['DEV039']. prepping fold data.... fitting.... 635.7 MiB. trying decoder 1 of 1. "
     ]
    },
    {
     "name": "stderr",
     "output_type": "stream",
     "text": [
      "/home/bsmith16/.conda/envs/neuralsignature/lib/python3.8/site-packages/nilearn/decoding/decoder.py:143: UserWarning: Use a custom estimator at your own risk of the process not working as intended.\n",
      "  warnings.warn('Use a custom estimator at your own risk '\n"
     ]
    },
    {
     "name": "stdout",
     "output_type": "stream",
     "text": [
      "predicting. "
     ]
    },
    {
     "name": "stderr",
     "output_type": "stream",
     "text": [
      "/home/bsmith16/.conda/envs/neuralsignature/lib/python3.8/site-packages/nilearn/signal.py:58: UserWarning: Standardization of 3D signal has been requested but would lead to zero values. Skipping.\n",
      "  warnings.warn('Standardization of 3D signal has been requested but '\n",
      "/home/bsmith16/.conda/envs/neuralsignature/lib/python3.8/site-packages/nilearn/signal.py:58: UserWarning: Standardization of 3D signal has been requested but would lead to zero values. Skipping.\n",
      "  warnings.warn('Standardization of 3D signal has been requested but '\n"
     ]
    },
    {
     "name": "stdout",
     "output_type": "stream",
     "text": [
      "test score was:. -24.50241607126391\n",
      "fold 47 of 78\n",
      "In order to test on a training group of 77 items, holding out the following subjects:['DEV086']. prepping fold data.... fitting.... 635.7 MiB. trying decoder 1 of 1. "
     ]
    },
    {
     "name": "stderr",
     "output_type": "stream",
     "text": [
      "/home/bsmith16/.conda/envs/neuralsignature/lib/python3.8/site-packages/nilearn/decoding/decoder.py:143: UserWarning: Use a custom estimator at your own risk of the process not working as intended.\n",
      "  warnings.warn('Use a custom estimator at your own risk '\n"
     ]
    },
    {
     "name": "stdout",
     "output_type": "stream",
     "text": [
      "predicting. "
     ]
    },
    {
     "name": "stderr",
     "output_type": "stream",
     "text": [
      "/home/bsmith16/.conda/envs/neuralsignature/lib/python3.8/site-packages/nilearn/signal.py:58: UserWarning: Standardization of 3D signal has been requested but would lead to zero values. Skipping.\n",
      "  warnings.warn('Standardization of 3D signal has been requested but '\n",
      "/home/bsmith16/.conda/envs/neuralsignature/lib/python3.8/site-packages/nilearn/signal.py:58: UserWarning: Standardization of 3D signal has been requested but would lead to zero values. Skipping.\n",
      "  warnings.warn('Standardization of 3D signal has been requested but '\n"
     ]
    },
    {
     "name": "stdout",
     "output_type": "stream",
     "text": [
      "test score was:. -12.667768126982565\n",
      "fold 48 of 78\n",
      "In order to test on a training group of 77 items, holding out the following subjects:['DEV069']. prepping fold data.... fitting.... 635.7 MiB. trying decoder 1 of 1. "
     ]
    },
    {
     "name": "stderr",
     "output_type": "stream",
     "text": [
      "/home/bsmith16/.conda/envs/neuralsignature/lib/python3.8/site-packages/nilearn/decoding/decoder.py:143: UserWarning: Use a custom estimator at your own risk of the process not working as intended.\n",
      "  warnings.warn('Use a custom estimator at your own risk '\n"
     ]
    },
    {
     "name": "stdout",
     "output_type": "stream",
     "text": [
      "predicting. "
     ]
    },
    {
     "name": "stderr",
     "output_type": "stream",
     "text": [
      "/home/bsmith16/.conda/envs/neuralsignature/lib/python3.8/site-packages/nilearn/signal.py:58: UserWarning: Standardization of 3D signal has been requested but would lead to zero values. Skipping.\n",
      "  warnings.warn('Standardization of 3D signal has been requested but '\n",
      "/home/bsmith16/.conda/envs/neuralsignature/lib/python3.8/site-packages/nilearn/signal.py:58: UserWarning: Standardization of 3D signal has been requested but would lead to zero values. Skipping.\n",
      "  warnings.warn('Standardization of 3D signal has been requested but '\n"
     ]
    },
    {
     "name": "stdout",
     "output_type": "stream",
     "text": [
      "test score was:. -8.569522122044653\n",
      "fold 49 of 78\n",
      "In order to test on a training group of 77 items, holding out the following subjects:['DEV159']. prepping fold data.... fitting.... 635.7 MiB. trying decoder 1 of 1. "
     ]
    },
    {
     "name": "stderr",
     "output_type": "stream",
     "text": [
      "/home/bsmith16/.conda/envs/neuralsignature/lib/python3.8/site-packages/nilearn/decoding/decoder.py:143: UserWarning: Use a custom estimator at your own risk of the process not working as intended.\n",
      "  warnings.warn('Use a custom estimator at your own risk '\n"
     ]
    },
    {
     "name": "stdout",
     "output_type": "stream",
     "text": [
      "predicting. "
     ]
    },
    {
     "name": "stderr",
     "output_type": "stream",
     "text": [
      "/home/bsmith16/.conda/envs/neuralsignature/lib/python3.8/site-packages/nilearn/signal.py:58: UserWarning: Standardization of 3D signal has been requested but would lead to zero values. Skipping.\n",
      "  warnings.warn('Standardization of 3D signal has been requested but '\n",
      "/home/bsmith16/.conda/envs/neuralsignature/lib/python3.8/site-packages/nilearn/signal.py:58: UserWarning: Standardization of 3D signal has been requested but would lead to zero values. Skipping.\n",
      "  warnings.warn('Standardization of 3D signal has been requested but '\n"
     ]
    },
    {
     "name": "stdout",
     "output_type": "stream",
     "text": [
      "test score was:. -0.02745319250657019\n",
      "fold 50 of 78\n",
      "In order to test on a training group of 77 items, holding out the following subjects:['DEV011']. prepping fold data.... fitting.... 635.7 MiB. trying decoder 1 of 1. "
     ]
    },
    {
     "name": "stderr",
     "output_type": "stream",
     "text": [
      "/home/bsmith16/.conda/envs/neuralsignature/lib/python3.8/site-packages/nilearn/decoding/decoder.py:143: UserWarning: Use a custom estimator at your own risk of the process not working as intended.\n",
      "  warnings.warn('Use a custom estimator at your own risk '\n"
     ]
    },
    {
     "name": "stdout",
     "output_type": "stream",
     "text": [
      "predicting. "
     ]
    },
    {
     "name": "stderr",
     "output_type": "stream",
     "text": [
      "/home/bsmith16/.conda/envs/neuralsignature/lib/python3.8/site-packages/nilearn/signal.py:58: UserWarning: Standardization of 3D signal has been requested but would lead to zero values. Skipping.\n",
      "  warnings.warn('Standardization of 3D signal has been requested but '\n",
      "/home/bsmith16/.conda/envs/neuralsignature/lib/python3.8/site-packages/nilearn/signal.py:58: UserWarning: Standardization of 3D signal has been requested but would lead to zero values. Skipping.\n",
      "  warnings.warn('Standardization of 3D signal has been requested but '\n"
     ]
    },
    {
     "name": "stdout",
     "output_type": "stream",
     "text": [
      "test score was:. -15.123957676821128\n",
      "fold 51 of 78\n",
      "In order to test on a training group of 77 items, holding out the following subjects:['DEV107']. prepping fold data.... fitting.... 635.7 MiB. trying decoder 1 of 1. "
     ]
    },
    {
     "name": "stderr",
     "output_type": "stream",
     "text": [
      "/home/bsmith16/.conda/envs/neuralsignature/lib/python3.8/site-packages/nilearn/decoding/decoder.py:143: UserWarning: Use a custom estimator at your own risk of the process not working as intended.\n",
      "  warnings.warn('Use a custom estimator at your own risk '\n"
     ]
    },
    {
     "name": "stdout",
     "output_type": "stream",
     "text": [
      "predicting. "
     ]
    },
    {
     "name": "stderr",
     "output_type": "stream",
     "text": [
      "/home/bsmith16/.conda/envs/neuralsignature/lib/python3.8/site-packages/nilearn/signal.py:58: UserWarning: Standardization of 3D signal has been requested but would lead to zero values. Skipping.\n",
      "  warnings.warn('Standardization of 3D signal has been requested but '\n",
      "/home/bsmith16/.conda/envs/neuralsignature/lib/python3.8/site-packages/nilearn/signal.py:58: UserWarning: Standardization of 3D signal has been requested but would lead to zero values. Skipping.\n",
      "  warnings.warn('Standardization of 3D signal has been requested but '\n"
     ]
    },
    {
     "name": "stdout",
     "output_type": "stream",
     "text": [
      "test score was:. -10.80999068194052\n",
      "fold 52 of 78\n",
      "In order to test on a training group of 77 items, holding out the following subjects:['DEV014']. prepping fold data.... fitting.... 635.7 MiB. trying decoder 1 of 1. "
     ]
    },
    {
     "name": "stderr",
     "output_type": "stream",
     "text": [
      "/home/bsmith16/.conda/envs/neuralsignature/lib/python3.8/site-packages/nilearn/decoding/decoder.py:143: UserWarning: Use a custom estimator at your own risk of the process not working as intended.\n",
      "  warnings.warn('Use a custom estimator at your own risk '\n"
     ]
    },
    {
     "name": "stdout",
     "output_type": "stream",
     "text": [
      "predicting. "
     ]
    },
    {
     "name": "stderr",
     "output_type": "stream",
     "text": [
      "/home/bsmith16/.conda/envs/neuralsignature/lib/python3.8/site-packages/nilearn/signal.py:58: UserWarning: Standardization of 3D signal has been requested but would lead to zero values. Skipping.\n",
      "  warnings.warn('Standardization of 3D signal has been requested but '\n",
      "/home/bsmith16/.conda/envs/neuralsignature/lib/python3.8/site-packages/nilearn/signal.py:58: UserWarning: Standardization of 3D signal has been requested but would lead to zero values. Skipping.\n",
      "  warnings.warn('Standardization of 3D signal has been requested but '\n"
     ]
    },
    {
     "name": "stdout",
     "output_type": "stream",
     "text": [
      "test score was:. -12.438445617818829\n",
      "fold 53 of 78\n",
      "In order to test on a training group of 77 items, holding out the following subjects:['DEV057']. prepping fold data.... fitting.... 635.7 MiB. trying decoder 1 of 1. "
     ]
    },
    {
     "name": "stderr",
     "output_type": "stream",
     "text": [
      "/home/bsmith16/.conda/envs/neuralsignature/lib/python3.8/site-packages/nilearn/decoding/decoder.py:143: UserWarning: Use a custom estimator at your own risk of the process not working as intended.\n",
      "  warnings.warn('Use a custom estimator at your own risk '\n"
     ]
    },
    {
     "name": "stdout",
     "output_type": "stream",
     "text": [
      "predicting. "
     ]
    },
    {
     "name": "stderr",
     "output_type": "stream",
     "text": [
      "/home/bsmith16/.conda/envs/neuralsignature/lib/python3.8/site-packages/nilearn/signal.py:58: UserWarning: Standardization of 3D signal has been requested but would lead to zero values. Skipping.\n",
      "  warnings.warn('Standardization of 3D signal has been requested but '\n",
      "/home/bsmith16/.conda/envs/neuralsignature/lib/python3.8/site-packages/nilearn/signal.py:58: UserWarning: Standardization of 3D signal has been requested but would lead to zero values. Skipping.\n",
      "  warnings.warn('Standardization of 3D signal has been requested but '\n"
     ]
    },
    {
     "name": "stdout",
     "output_type": "stream",
     "text": [
      "test score was:. -8.133748500466105\n",
      "fold 54 of 78\n",
      "In order to test on a training group of 77 items, holding out the following subjects:['DEV050']. prepping fold data.... fitting.... 635.7 MiB. trying decoder 1 of 1. "
     ]
    },
    {
     "name": "stderr",
     "output_type": "stream",
     "text": [
      "/home/bsmith16/.conda/envs/neuralsignature/lib/python3.8/site-packages/nilearn/decoding/decoder.py:143: UserWarning: Use a custom estimator at your own risk of the process not working as intended.\n",
      "  warnings.warn('Use a custom estimator at your own risk '\n"
     ]
    },
    {
     "name": "stdout",
     "output_type": "stream",
     "text": [
      "predicting. "
     ]
    },
    {
     "name": "stderr",
     "output_type": "stream",
     "text": [
      "/home/bsmith16/.conda/envs/neuralsignature/lib/python3.8/site-packages/nilearn/signal.py:58: UserWarning: Standardization of 3D signal has been requested but would lead to zero values. Skipping.\n",
      "  warnings.warn('Standardization of 3D signal has been requested but '\n",
      "/home/bsmith16/.conda/envs/neuralsignature/lib/python3.8/site-packages/nilearn/signal.py:58: UserWarning: Standardization of 3D signal has been requested but would lead to zero values. Skipping.\n",
      "  warnings.warn('Standardization of 3D signal has been requested but '\n"
     ]
    },
    {
     "name": "stdout",
     "output_type": "stream",
     "text": [
      "test score was:. -6.510309648155065\n",
      "fold 55 of 78\n",
      "In order to test on a training group of 77 items, holding out the following subjects:['DEV024']. prepping fold data.... fitting.... 635.7 MiB. trying decoder 1 of 1. "
     ]
    },
    {
     "name": "stderr",
     "output_type": "stream",
     "text": [
      "/home/bsmith16/.conda/envs/neuralsignature/lib/python3.8/site-packages/nilearn/decoding/decoder.py:143: UserWarning: Use a custom estimator at your own risk of the process not working as intended.\n",
      "  warnings.warn('Use a custom estimator at your own risk '\n"
     ]
    },
    {
     "name": "stdout",
     "output_type": "stream",
     "text": [
      "predicting. "
     ]
    },
    {
     "name": "stderr",
     "output_type": "stream",
     "text": [
      "/home/bsmith16/.conda/envs/neuralsignature/lib/python3.8/site-packages/nilearn/signal.py:58: UserWarning: Standardization of 3D signal has been requested but would lead to zero values. Skipping.\n",
      "  warnings.warn('Standardization of 3D signal has been requested but '\n",
      "/home/bsmith16/.conda/envs/neuralsignature/lib/python3.8/site-packages/nilearn/signal.py:58: UserWarning: Standardization of 3D signal has been requested but would lead to zero values. Skipping.\n",
      "  warnings.warn('Standardization of 3D signal has been requested but '\n"
     ]
    },
    {
     "name": "stdout",
     "output_type": "stream",
     "text": [
      "test score was:. -1.865803666778966\n",
      "fold 56 of 78\n",
      "In order to test on a training group of 77 items, holding out the following subjects:['DEV036']. prepping fold data.... fitting.... 635.7 MiB. trying decoder 1 of 1. "
     ]
    },
    {
     "name": "stderr",
     "output_type": "stream",
     "text": [
      "/home/bsmith16/.conda/envs/neuralsignature/lib/python3.8/site-packages/nilearn/decoding/decoder.py:143: UserWarning: Use a custom estimator at your own risk of the process not working as intended.\n",
      "  warnings.warn('Use a custom estimator at your own risk '\n"
     ]
    },
    {
     "name": "stdout",
     "output_type": "stream",
     "text": [
      "predicting. "
     ]
    },
    {
     "name": "stderr",
     "output_type": "stream",
     "text": [
      "/home/bsmith16/.conda/envs/neuralsignature/lib/python3.8/site-packages/nilearn/signal.py:58: UserWarning: Standardization of 3D signal has been requested but would lead to zero values. Skipping.\n",
      "  warnings.warn('Standardization of 3D signal has been requested but '\n",
      "/home/bsmith16/.conda/envs/neuralsignature/lib/python3.8/site-packages/nilearn/signal.py:58: UserWarning: Standardization of 3D signal has been requested but would lead to zero values. Skipping.\n",
      "  warnings.warn('Standardization of 3D signal has been requested but '\n"
     ]
    },
    {
     "name": "stdout",
     "output_type": "stream",
     "text": [
      "test score was:. -35.32199602677322\n",
      "fold 57 of 78\n",
      "In order to test on a training group of 77 items, holding out the following subjects:['DEV056']. prepping fold data.... fitting.... 635.7 MiB. trying decoder 1 of 1. "
     ]
    },
    {
     "name": "stderr",
     "output_type": "stream",
     "text": [
      "/home/bsmith16/.conda/envs/neuralsignature/lib/python3.8/site-packages/nilearn/decoding/decoder.py:143: UserWarning: Use a custom estimator at your own risk of the process not working as intended.\n",
      "  warnings.warn('Use a custom estimator at your own risk '\n"
     ]
    },
    {
     "name": "stdout",
     "output_type": "stream",
     "text": [
      "predicting. "
     ]
    },
    {
     "name": "stderr",
     "output_type": "stream",
     "text": [
      "/home/bsmith16/.conda/envs/neuralsignature/lib/python3.8/site-packages/nilearn/signal.py:58: UserWarning: Standardization of 3D signal has been requested but would lead to zero values. Skipping.\n",
      "  warnings.warn('Standardization of 3D signal has been requested but '\n",
      "/home/bsmith16/.conda/envs/neuralsignature/lib/python3.8/site-packages/nilearn/signal.py:58: UserWarning: Standardization of 3D signal has been requested but would lead to zero values. Skipping.\n",
      "  warnings.warn('Standardization of 3D signal has been requested but '\n"
     ]
    },
    {
     "name": "stdout",
     "output_type": "stream",
     "text": [
      "test score was:. -34.16534394216755\n",
      "fold 58 of 78\n",
      "In order to test on a training group of 77 items, holding out the following subjects:['DEV145']. prepping fold data.... fitting.... 635.7 MiB. trying decoder 1 of 1. "
     ]
    },
    {
     "name": "stderr",
     "output_type": "stream",
     "text": [
      "/home/bsmith16/.conda/envs/neuralsignature/lib/python3.8/site-packages/nilearn/decoding/decoder.py:143: UserWarning: Use a custom estimator at your own risk of the process not working as intended.\n",
      "  warnings.warn('Use a custom estimator at your own risk '\n"
     ]
    },
    {
     "name": "stdout",
     "output_type": "stream",
     "text": [
      "predicting. "
     ]
    },
    {
     "name": "stderr",
     "output_type": "stream",
     "text": [
      "/home/bsmith16/.conda/envs/neuralsignature/lib/python3.8/site-packages/nilearn/signal.py:58: UserWarning: Standardization of 3D signal has been requested but would lead to zero values. Skipping.\n",
      "  warnings.warn('Standardization of 3D signal has been requested but '\n",
      "/home/bsmith16/.conda/envs/neuralsignature/lib/python3.8/site-packages/nilearn/signal.py:58: UserWarning: Standardization of 3D signal has been requested but would lead to zero values. Skipping.\n",
      "  warnings.warn('Standardization of 3D signal has been requested but '\n"
     ]
    },
    {
     "name": "stdout",
     "output_type": "stream",
     "text": [
      "test score was:. -31.021415001342675\n",
      "fold 59 of 78\n",
      "In order to test on a training group of 77 items, holding out the following subjects:['DEV067']. prepping fold data.... fitting.... 635.7 MiB. trying decoder 1 of 1. "
     ]
    },
    {
     "name": "stderr",
     "output_type": "stream",
     "text": [
      "/home/bsmith16/.conda/envs/neuralsignature/lib/python3.8/site-packages/nilearn/decoding/decoder.py:143: UserWarning: Use a custom estimator at your own risk of the process not working as intended.\n",
      "  warnings.warn('Use a custom estimator at your own risk '\n"
     ]
    },
    {
     "name": "stdout",
     "output_type": "stream",
     "text": [
      "predicting. "
     ]
    },
    {
     "name": "stderr",
     "output_type": "stream",
     "text": [
      "/home/bsmith16/.conda/envs/neuralsignature/lib/python3.8/site-packages/nilearn/signal.py:58: UserWarning: Standardization of 3D signal has been requested but would lead to zero values. Skipping.\n",
      "  warnings.warn('Standardization of 3D signal has been requested but '\n",
      "/home/bsmith16/.conda/envs/neuralsignature/lib/python3.8/site-packages/nilearn/signal.py:58: UserWarning: Standardization of 3D signal has been requested but would lead to zero values. Skipping.\n",
      "  warnings.warn('Standardization of 3D signal has been requested but '\n"
     ]
    },
    {
     "name": "stdout",
     "output_type": "stream",
     "text": [
      "test score was:. -8.610188870611111\n",
      "fold 60 of 78\n",
      "In order to test on a training group of 77 items, holding out the following subjects:['DEV023']. prepping fold data.... fitting.... 635.7 MiB. trying decoder 1 of 1. "
     ]
    },
    {
     "name": "stderr",
     "output_type": "stream",
     "text": [
      "/home/bsmith16/.conda/envs/neuralsignature/lib/python3.8/site-packages/nilearn/decoding/decoder.py:143: UserWarning: Use a custom estimator at your own risk of the process not working as intended.\n",
      "  warnings.warn('Use a custom estimator at your own risk '\n"
     ]
    },
    {
     "name": "stdout",
     "output_type": "stream",
     "text": [
      "predicting. "
     ]
    },
    {
     "name": "stderr",
     "output_type": "stream",
     "text": [
      "/home/bsmith16/.conda/envs/neuralsignature/lib/python3.8/site-packages/nilearn/signal.py:58: UserWarning: Standardization of 3D signal has been requested but would lead to zero values. Skipping.\n",
      "  warnings.warn('Standardization of 3D signal has been requested but '\n",
      "/home/bsmith16/.conda/envs/neuralsignature/lib/python3.8/site-packages/nilearn/signal.py:58: UserWarning: Standardization of 3D signal has been requested but would lead to zero values. Skipping.\n",
      "  warnings.warn('Standardization of 3D signal has been requested but '\n"
     ]
    },
    {
     "name": "stdout",
     "output_type": "stream",
     "text": [
      "test score was:. -0.2658966383458008\n",
      "fold 61 of 78\n",
      "In order to test on a training group of 77 items, holding out the following subjects:['DEV020']. prepping fold data.... fitting.... 635.7 MiB. trying decoder 1 of 1. "
     ]
    },
    {
     "name": "stderr",
     "output_type": "stream",
     "text": [
      "/home/bsmith16/.conda/envs/neuralsignature/lib/python3.8/site-packages/nilearn/decoding/decoder.py:143: UserWarning: Use a custom estimator at your own risk of the process not working as intended.\n",
      "  warnings.warn('Use a custom estimator at your own risk '\n"
     ]
    },
    {
     "name": "stdout",
     "output_type": "stream",
     "text": [
      "predicting. "
     ]
    },
    {
     "name": "stderr",
     "output_type": "stream",
     "text": [
      "/home/bsmith16/.conda/envs/neuralsignature/lib/python3.8/site-packages/nilearn/signal.py:58: UserWarning: Standardization of 3D signal has been requested but would lead to zero values. Skipping.\n",
      "  warnings.warn('Standardization of 3D signal has been requested but '\n",
      "/home/bsmith16/.conda/envs/neuralsignature/lib/python3.8/site-packages/nilearn/signal.py:58: UserWarning: Standardization of 3D signal has been requested but would lead to zero values. Skipping.\n",
      "  warnings.warn('Standardization of 3D signal has been requested but '\n"
     ]
    },
    {
     "name": "stdout",
     "output_type": "stream",
     "text": [
      "test score was:. -33.80309769086945\n",
      "fold 62 of 78\n",
      "In order to test on a training group of 77 items, holding out the following subjects:['DEV164']. prepping fold data.... fitting.... 635.7 MiB. trying decoder 1 of 1. "
     ]
    },
    {
     "name": "stderr",
     "output_type": "stream",
     "text": [
      "/home/bsmith16/.conda/envs/neuralsignature/lib/python3.8/site-packages/nilearn/decoding/decoder.py:143: UserWarning: Use a custom estimator at your own risk of the process not working as intended.\n",
      "  warnings.warn('Use a custom estimator at your own risk '\n"
     ]
    },
    {
     "name": "stdout",
     "output_type": "stream",
     "text": [
      "predicting. "
     ]
    },
    {
     "name": "stderr",
     "output_type": "stream",
     "text": [
      "/home/bsmith16/.conda/envs/neuralsignature/lib/python3.8/site-packages/nilearn/signal.py:58: UserWarning: Standardization of 3D signal has been requested but would lead to zero values. Skipping.\n",
      "  warnings.warn('Standardization of 3D signal has been requested but '\n",
      "/home/bsmith16/.conda/envs/neuralsignature/lib/python3.8/site-packages/nilearn/signal.py:58: UserWarning: Standardization of 3D signal has been requested but would lead to zero values. Skipping.\n",
      "  warnings.warn('Standardization of 3D signal has been requested but '\n"
     ]
    },
    {
     "name": "stdout",
     "output_type": "stream",
     "text": [
      "test score was:. -2.639389960050991\n",
      "fold 63 of 78\n",
      "In order to test on a training group of 77 items, holding out the following subjects:['DEV216']. prepping fold data.... fitting.... 635.7 MiB. trying decoder 1 of 1. "
     ]
    },
    {
     "name": "stderr",
     "output_type": "stream",
     "text": [
      "/home/bsmith16/.conda/envs/neuralsignature/lib/python3.8/site-packages/nilearn/decoding/decoder.py:143: UserWarning: Use a custom estimator at your own risk of the process not working as intended.\n",
      "  warnings.warn('Use a custom estimator at your own risk '\n"
     ]
    },
    {
     "name": "stdout",
     "output_type": "stream",
     "text": [
      "predicting. "
     ]
    },
    {
     "name": "stderr",
     "output_type": "stream",
     "text": [
      "/home/bsmith16/.conda/envs/neuralsignature/lib/python3.8/site-packages/nilearn/signal.py:58: UserWarning: Standardization of 3D signal has been requested but would lead to zero values. Skipping.\n",
      "  warnings.warn('Standardization of 3D signal has been requested but '\n",
      "/home/bsmith16/.conda/envs/neuralsignature/lib/python3.8/site-packages/nilearn/signal.py:58: UserWarning: Standardization of 3D signal has been requested but would lead to zero values. Skipping.\n",
      "  warnings.warn('Standardization of 3D signal has been requested but '\n"
     ]
    },
    {
     "name": "stdout",
     "output_type": "stream",
     "text": [
      "test score was:. -3.243210828672531\n",
      "fold 64 of 78\n",
      "In order to test on a training group of 77 items, holding out the following subjects:['DEV046']. prepping fold data.... fitting.... 635.7 MiB. trying decoder 1 of 1. "
     ]
    },
    {
     "name": "stderr",
     "output_type": "stream",
     "text": [
      "/home/bsmith16/.conda/envs/neuralsignature/lib/python3.8/site-packages/nilearn/decoding/decoder.py:143: UserWarning: Use a custom estimator at your own risk of the process not working as intended.\n",
      "  warnings.warn('Use a custom estimator at your own risk '\n"
     ]
    },
    {
     "name": "stdout",
     "output_type": "stream",
     "text": [
      "predicting. "
     ]
    },
    {
     "name": "stderr",
     "output_type": "stream",
     "text": [
      "/home/bsmith16/.conda/envs/neuralsignature/lib/python3.8/site-packages/nilearn/signal.py:58: UserWarning: Standardization of 3D signal has been requested but would lead to zero values. Skipping.\n",
      "  warnings.warn('Standardization of 3D signal has been requested but '\n",
      "/home/bsmith16/.conda/envs/neuralsignature/lib/python3.8/site-packages/nilearn/signal.py:58: UserWarning: Standardization of 3D signal has been requested but would lead to zero values. Skipping.\n",
      "  warnings.warn('Standardization of 3D signal has been requested but '\n"
     ]
    },
    {
     "name": "stdout",
     "output_type": "stream",
     "text": [
      "test score was:. -20.042900610172076\n",
      "fold 65 of 78\n",
      "In order to test on a training group of 77 items, holding out the following subjects:['DEV083']. prepping fold data.... fitting.... 635.7 MiB. trying decoder 1 of 1. "
     ]
    },
    {
     "name": "stderr",
     "output_type": "stream",
     "text": [
      "/home/bsmith16/.conda/envs/neuralsignature/lib/python3.8/site-packages/nilearn/decoding/decoder.py:143: UserWarning: Use a custom estimator at your own risk of the process not working as intended.\n",
      "  warnings.warn('Use a custom estimator at your own risk '\n"
     ]
    },
    {
     "name": "stdout",
     "output_type": "stream",
     "text": [
      "predicting. "
     ]
    },
    {
     "name": "stderr",
     "output_type": "stream",
     "text": [
      "/home/bsmith16/.conda/envs/neuralsignature/lib/python3.8/site-packages/nilearn/signal.py:58: UserWarning: Standardization of 3D signal has been requested but would lead to zero values. Skipping.\n",
      "  warnings.warn('Standardization of 3D signal has been requested but '\n",
      "/home/bsmith16/.conda/envs/neuralsignature/lib/python3.8/site-packages/nilearn/signal.py:58: UserWarning: Standardization of 3D signal has been requested but would lead to zero values. Skipping.\n",
      "  warnings.warn('Standardization of 3D signal has been requested but '\n"
     ]
    },
    {
     "name": "stdout",
     "output_type": "stream",
     "text": [
      "test score was:. -21.822200216654664\n",
      "fold 66 of 78\n",
      "In order to test on a training group of 77 items, holding out the following subjects:['DEV064']. prepping fold data.... fitting.... 635.7 MiB. trying decoder 1 of 1. "
     ]
    },
    {
     "name": "stderr",
     "output_type": "stream",
     "text": [
      "/home/bsmith16/.conda/envs/neuralsignature/lib/python3.8/site-packages/nilearn/decoding/decoder.py:143: UserWarning: Use a custom estimator at your own risk of the process not working as intended.\n",
      "  warnings.warn('Use a custom estimator at your own risk '\n"
     ]
    },
    {
     "name": "stdout",
     "output_type": "stream",
     "text": [
      "predicting. "
     ]
    },
    {
     "name": "stderr",
     "output_type": "stream",
     "text": [
      "/home/bsmith16/.conda/envs/neuralsignature/lib/python3.8/site-packages/nilearn/signal.py:58: UserWarning: Standardization of 3D signal has been requested but would lead to zero values. Skipping.\n",
      "  warnings.warn('Standardization of 3D signal has been requested but '\n",
      "/home/bsmith16/.conda/envs/neuralsignature/lib/python3.8/site-packages/nilearn/signal.py:58: UserWarning: Standardization of 3D signal has been requested but would lead to zero values. Skipping.\n",
      "  warnings.warn('Standardization of 3D signal has been requested but '\n"
     ]
    },
    {
     "name": "stdout",
     "output_type": "stream",
     "text": [
      "test score was:. -4.679505554678059\n",
      "fold 67 of 78\n",
      "In order to test on a training group of 77 items, holding out the following subjects:['DEV048']. prepping fold data.... fitting.... 635.7 MiB. trying decoder 1 of 1. "
     ]
    },
    {
     "name": "stderr",
     "output_type": "stream",
     "text": [
      "/home/bsmith16/.conda/envs/neuralsignature/lib/python3.8/site-packages/nilearn/decoding/decoder.py:143: UserWarning: Use a custom estimator at your own risk of the process not working as intended.\n",
      "  warnings.warn('Use a custom estimator at your own risk '\n"
     ]
    },
    {
     "name": "stdout",
     "output_type": "stream",
     "text": [
      "predicting. "
     ]
    },
    {
     "name": "stderr",
     "output_type": "stream",
     "text": [
      "/home/bsmith16/.conda/envs/neuralsignature/lib/python3.8/site-packages/nilearn/signal.py:58: UserWarning: Standardization of 3D signal has been requested but would lead to zero values. Skipping.\n",
      "  warnings.warn('Standardization of 3D signal has been requested but '\n",
      "/home/bsmith16/.conda/envs/neuralsignature/lib/python3.8/site-packages/nilearn/signal.py:58: UserWarning: Standardization of 3D signal has been requested but would lead to zero values. Skipping.\n",
      "  warnings.warn('Standardization of 3D signal has been requested but '\n"
     ]
    },
    {
     "name": "stdout",
     "output_type": "stream",
     "text": [
      "test score was:. -20.43394513423374\n",
      "fold 68 of 78\n",
      "In order to test on a training group of 77 items, holding out the following subjects:['DEV217']. prepping fold data.... fitting.... 635.7 MiB. trying decoder 1 of 1. "
     ]
    },
    {
     "name": "stderr",
     "output_type": "stream",
     "text": [
      "/home/bsmith16/.conda/envs/neuralsignature/lib/python3.8/site-packages/nilearn/decoding/decoder.py:143: UserWarning: Use a custom estimator at your own risk of the process not working as intended.\n",
      "  warnings.warn('Use a custom estimator at your own risk '\n"
     ]
    },
    {
     "name": "stdout",
     "output_type": "stream",
     "text": [
      "predicting. "
     ]
    },
    {
     "name": "stderr",
     "output_type": "stream",
     "text": [
      "/home/bsmith16/.conda/envs/neuralsignature/lib/python3.8/site-packages/nilearn/signal.py:58: UserWarning: Standardization of 3D signal has been requested but would lead to zero values. Skipping.\n",
      "  warnings.warn('Standardization of 3D signal has been requested but '\n",
      "/home/bsmith16/.conda/envs/neuralsignature/lib/python3.8/site-packages/nilearn/signal.py:58: UserWarning: Standardization of 3D signal has been requested but would lead to zero values. Skipping.\n",
      "  warnings.warn('Standardization of 3D signal has been requested but '\n"
     ]
    },
    {
     "name": "stdout",
     "output_type": "stream",
     "text": [
      "test score was:. -2.0364430646083065\n",
      "fold 69 of 78\n",
      "In order to test on a training group of 77 items, holding out the following subjects:['DEV028']. prepping fold data.... fitting.... 635.7 MiB. trying decoder 1 of 1. "
     ]
    },
    {
     "name": "stderr",
     "output_type": "stream",
     "text": [
      "/home/bsmith16/.conda/envs/neuralsignature/lib/python3.8/site-packages/nilearn/decoding/decoder.py:143: UserWarning: Use a custom estimator at your own risk of the process not working as intended.\n",
      "  warnings.warn('Use a custom estimator at your own risk '\n"
     ]
    },
    {
     "name": "stdout",
     "output_type": "stream",
     "text": [
      "predicting. "
     ]
    },
    {
     "name": "stderr",
     "output_type": "stream",
     "text": [
      "/home/bsmith16/.conda/envs/neuralsignature/lib/python3.8/site-packages/nilearn/signal.py:58: UserWarning: Standardization of 3D signal has been requested but would lead to zero values. Skipping.\n",
      "  warnings.warn('Standardization of 3D signal has been requested but '\n",
      "/home/bsmith16/.conda/envs/neuralsignature/lib/python3.8/site-packages/nilearn/signal.py:58: UserWarning: Standardization of 3D signal has been requested but would lead to zero values. Skipping.\n",
      "  warnings.warn('Standardization of 3D signal has been requested but '\n"
     ]
    },
    {
     "name": "stdout",
     "output_type": "stream",
     "text": [
      "test score was:. -4.991505457421908\n",
      "fold 70 of 78\n",
      "In order to test on a training group of 77 items, holding out the following subjects:['DEV010']. prepping fold data.... fitting.... 635.7 MiB. trying decoder 1 of 1. "
     ]
    },
    {
     "name": "stderr",
     "output_type": "stream",
     "text": [
      "/home/bsmith16/.conda/envs/neuralsignature/lib/python3.8/site-packages/nilearn/decoding/decoder.py:143: UserWarning: Use a custom estimator at your own risk of the process not working as intended.\n",
      "  warnings.warn('Use a custom estimator at your own risk '\n"
     ]
    },
    {
     "name": "stdout",
     "output_type": "stream",
     "text": [
      "predicting. "
     ]
    },
    {
     "name": "stderr",
     "output_type": "stream",
     "text": [
      "/home/bsmith16/.conda/envs/neuralsignature/lib/python3.8/site-packages/nilearn/signal.py:58: UserWarning: Standardization of 3D signal has been requested but would lead to zero values. Skipping.\n",
      "  warnings.warn('Standardization of 3D signal has been requested but '\n",
      "/home/bsmith16/.conda/envs/neuralsignature/lib/python3.8/site-packages/nilearn/signal.py:58: UserWarning: Standardization of 3D signal has been requested but would lead to zero values. Skipping.\n",
      "  warnings.warn('Standardization of 3D signal has been requested but '\n"
     ]
    },
    {
     "name": "stdout",
     "output_type": "stream",
     "text": [
      "test score was:. -15.107228726918557\n",
      "fold 71 of 78\n",
      "In order to test on a training group of 77 items, holding out the following subjects:['DEV068']. prepping fold data.... fitting.... 635.7 MiB. trying decoder 1 of 1. "
     ]
    },
    {
     "name": "stderr",
     "output_type": "stream",
     "text": [
      "/home/bsmith16/.conda/envs/neuralsignature/lib/python3.8/site-packages/nilearn/decoding/decoder.py:143: UserWarning: Use a custom estimator at your own risk of the process not working as intended.\n",
      "  warnings.warn('Use a custom estimator at your own risk '\n"
     ]
    },
    {
     "name": "stdout",
     "output_type": "stream",
     "text": [
      "predicting. "
     ]
    },
    {
     "name": "stderr",
     "output_type": "stream",
     "text": [
      "/home/bsmith16/.conda/envs/neuralsignature/lib/python3.8/site-packages/nilearn/signal.py:58: UserWarning: Standardization of 3D signal has been requested but would lead to zero values. Skipping.\n",
      "  warnings.warn('Standardization of 3D signal has been requested but '\n",
      "/home/bsmith16/.conda/envs/neuralsignature/lib/python3.8/site-packages/nilearn/signal.py:58: UserWarning: Standardization of 3D signal has been requested but would lead to zero values. Skipping.\n",
      "  warnings.warn('Standardization of 3D signal has been requested but '\n"
     ]
    },
    {
     "name": "stdout",
     "output_type": "stream",
     "text": [
      "test score was:. -17.339703471550727\n",
      "fold 72 of 78\n",
      "In order to test on a training group of 77 items, holding out the following subjects:['DEV019']. prepping fold data.... fitting.... 635.7 MiB. trying decoder 1 of 1. "
     ]
    },
    {
     "name": "stderr",
     "output_type": "stream",
     "text": [
      "/home/bsmith16/.conda/envs/neuralsignature/lib/python3.8/site-packages/nilearn/decoding/decoder.py:143: UserWarning: Use a custom estimator at your own risk of the process not working as intended.\n",
      "  warnings.warn('Use a custom estimator at your own risk '\n"
     ]
    },
    {
     "name": "stdout",
     "output_type": "stream",
     "text": [
      "predicting. "
     ]
    },
    {
     "name": "stderr",
     "output_type": "stream",
     "text": [
      "/home/bsmith16/.conda/envs/neuralsignature/lib/python3.8/site-packages/nilearn/signal.py:58: UserWarning: Standardization of 3D signal has been requested but would lead to zero values. Skipping.\n",
      "  warnings.warn('Standardization of 3D signal has been requested but '\n",
      "/home/bsmith16/.conda/envs/neuralsignature/lib/python3.8/site-packages/nilearn/signal.py:58: UserWarning: Standardization of 3D signal has been requested but would lead to zero values. Skipping.\n",
      "  warnings.warn('Standardization of 3D signal has been requested but '\n"
     ]
    },
    {
     "name": "stdout",
     "output_type": "stream",
     "text": [
      "test score was:. -20.797050303728966\n",
      "fold 73 of 78\n",
      "In order to test on a training group of 77 items, holding out the following subjects:['DEV158']. prepping fold data.... fitting.... 635.7 MiB. trying decoder 1 of 1. "
     ]
    },
    {
     "name": "stderr",
     "output_type": "stream",
     "text": [
      "/home/bsmith16/.conda/envs/neuralsignature/lib/python3.8/site-packages/nilearn/decoding/decoder.py:143: UserWarning: Use a custom estimator at your own risk of the process not working as intended.\n",
      "  warnings.warn('Use a custom estimator at your own risk '\n"
     ]
    },
    {
     "name": "stdout",
     "output_type": "stream",
     "text": [
      "predicting. "
     ]
    },
    {
     "name": "stderr",
     "output_type": "stream",
     "text": [
      "/home/bsmith16/.conda/envs/neuralsignature/lib/python3.8/site-packages/nilearn/signal.py:58: UserWarning: Standardization of 3D signal has been requested but would lead to zero values. Skipping.\n",
      "  warnings.warn('Standardization of 3D signal has been requested but '\n",
      "/home/bsmith16/.conda/envs/neuralsignature/lib/python3.8/site-packages/nilearn/signal.py:58: UserWarning: Standardization of 3D signal has been requested but would lead to zero values. Skipping.\n",
      "  warnings.warn('Standardization of 3D signal has been requested but '\n"
     ]
    },
    {
     "name": "stdout",
     "output_type": "stream",
     "text": [
      "test score was:. -9.81305592876538\n",
      "fold 74 of 78\n",
      "In order to test on a training group of 77 items, holding out the following subjects:['DEV043']. prepping fold data.... fitting.... 635.7 MiB. trying decoder 1 of 1. "
     ]
    },
    {
     "name": "stderr",
     "output_type": "stream",
     "text": [
      "/home/bsmith16/.conda/envs/neuralsignature/lib/python3.8/site-packages/nilearn/decoding/decoder.py:143: UserWarning: Use a custom estimator at your own risk of the process not working as intended.\n",
      "  warnings.warn('Use a custom estimator at your own risk '\n"
     ]
    },
    {
     "name": "stdout",
     "output_type": "stream",
     "text": [
      "predicting. "
     ]
    },
    {
     "name": "stderr",
     "output_type": "stream",
     "text": [
      "/home/bsmith16/.conda/envs/neuralsignature/lib/python3.8/site-packages/nilearn/signal.py:58: UserWarning: Standardization of 3D signal has been requested but would lead to zero values. Skipping.\n",
      "  warnings.warn('Standardization of 3D signal has been requested but '\n",
      "/home/bsmith16/.conda/envs/neuralsignature/lib/python3.8/site-packages/nilearn/signal.py:58: UserWarning: Standardization of 3D signal has been requested but would lead to zero values. Skipping.\n",
      "  warnings.warn('Standardization of 3D signal has been requested but '\n"
     ]
    },
    {
     "name": "stdout",
     "output_type": "stream",
     "text": [
      "test score was:. -20.897000217409726\n",
      "fold 75 of 78\n",
      "In order to test on a training group of 77 items, holding out the following subjects:['DEV171']. prepping fold data.... fitting.... 635.7 MiB. trying decoder 1 of 1. "
     ]
    },
    {
     "name": "stderr",
     "output_type": "stream",
     "text": [
      "/home/bsmith16/.conda/envs/neuralsignature/lib/python3.8/site-packages/nilearn/decoding/decoder.py:143: UserWarning: Use a custom estimator at your own risk of the process not working as intended.\n",
      "  warnings.warn('Use a custom estimator at your own risk '\n"
     ]
    },
    {
     "name": "stdout",
     "output_type": "stream",
     "text": [
      "predicting. "
     ]
    },
    {
     "name": "stderr",
     "output_type": "stream",
     "text": [
      "/home/bsmith16/.conda/envs/neuralsignature/lib/python3.8/site-packages/nilearn/signal.py:58: UserWarning: Standardization of 3D signal has been requested but would lead to zero values. Skipping.\n",
      "  warnings.warn('Standardization of 3D signal has been requested but '\n",
      "/home/bsmith16/.conda/envs/neuralsignature/lib/python3.8/site-packages/nilearn/signal.py:58: UserWarning: Standardization of 3D signal has been requested but would lead to zero values. Skipping.\n",
      "  warnings.warn('Standardization of 3D signal has been requested but '\n"
     ]
    },
    {
     "name": "stdout",
     "output_type": "stream",
     "text": [
      "test score was:. -19.727086132293238\n",
      "fold 76 of 78\n",
      "In order to test on a training group of 77 items, holding out the following subjects:['DEV012']. prepping fold data.... fitting.... 635.7 MiB. trying decoder 1 of 1. "
     ]
    },
    {
     "name": "stderr",
     "output_type": "stream",
     "text": [
      "/home/bsmith16/.conda/envs/neuralsignature/lib/python3.8/site-packages/nilearn/decoding/decoder.py:143: UserWarning: Use a custom estimator at your own risk of the process not working as intended.\n",
      "  warnings.warn('Use a custom estimator at your own risk '\n"
     ]
    },
    {
     "name": "stdout",
     "output_type": "stream",
     "text": [
      "predicting. "
     ]
    },
    {
     "name": "stderr",
     "output_type": "stream",
     "text": [
      "/home/bsmith16/.conda/envs/neuralsignature/lib/python3.8/site-packages/nilearn/signal.py:58: UserWarning: Standardization of 3D signal has been requested but would lead to zero values. Skipping.\n",
      "  warnings.warn('Standardization of 3D signal has been requested but '\n",
      "/home/bsmith16/.conda/envs/neuralsignature/lib/python3.8/site-packages/nilearn/signal.py:58: UserWarning: Standardization of 3D signal has been requested but would lead to zero values. Skipping.\n",
      "  warnings.warn('Standardization of 3D signal has been requested but '\n"
     ]
    },
    {
     "name": "stdout",
     "output_type": "stream",
     "text": [
      "test score was:. -0.26370420408078843\n",
      "fold 77 of 78\n",
      "In order to test on a training group of 77 items, holding out the following subjects:['DEV041']. prepping fold data.... fitting.... 635.7 MiB. trying decoder 1 of 1. "
     ]
    },
    {
     "name": "stderr",
     "output_type": "stream",
     "text": [
      "/home/bsmith16/.conda/envs/neuralsignature/lib/python3.8/site-packages/nilearn/decoding/decoder.py:143: UserWarning: Use a custom estimator at your own risk of the process not working as intended.\n",
      "  warnings.warn('Use a custom estimator at your own risk '\n"
     ]
    },
    {
     "name": "stdout",
     "output_type": "stream",
     "text": [
      "predicting. "
     ]
    },
    {
     "name": "stderr",
     "output_type": "stream",
     "text": [
      "/home/bsmith16/.conda/envs/neuralsignature/lib/python3.8/site-packages/nilearn/signal.py:58: UserWarning: Standardization of 3D signal has been requested but would lead to zero values. Skipping.\n",
      "  warnings.warn('Standardization of 3D signal has been requested but '\n",
      "/home/bsmith16/.conda/envs/neuralsignature/lib/python3.8/site-packages/nilearn/signal.py:58: UserWarning: Standardization of 3D signal has been requested but would lead to zero values. Skipping.\n",
      "  warnings.warn('Standardization of 3D signal has been requested but '\n"
     ]
    },
    {
     "name": "stdout",
     "output_type": "stream",
     "text": [
      "test score was:. -22.10529689373299\n",
      "fold 78 of 78\n",
      "In order to test on a training group of 77 items, holding out the following subjects:['DEV077']. prepping fold data.... fitting.... 635.7 MiB. trying decoder 1 of 1. "
     ]
    },
    {
     "name": "stderr",
     "output_type": "stream",
     "text": [
      "/home/bsmith16/.conda/envs/neuralsignature/lib/python3.8/site-packages/nilearn/decoding/decoder.py:143: UserWarning: Use a custom estimator at your own risk of the process not working as intended.\n",
      "  warnings.warn('Use a custom estimator at your own risk '\n"
     ]
    },
    {
     "name": "stdout",
     "output_type": "stream",
     "text": [
      "predicting. "
     ]
    },
    {
     "name": "stderr",
     "output_type": "stream",
     "text": [
      "/home/bsmith16/.conda/envs/neuralsignature/lib/python3.8/site-packages/nilearn/signal.py:58: UserWarning: Standardization of 3D signal has been requested but would lead to zero values. Skipping.\n",
      "  warnings.warn('Standardization of 3D signal has been requested but '\n",
      "/home/bsmith16/.conda/envs/neuralsignature/lib/python3.8/site-packages/nilearn/signal.py:58: UserWarning: Standardization of 3D signal has been requested but would lead to zero values. Skipping.\n",
      "  warnings.warn('Standardization of 3D signal has been requested but '\n",
      "/home/bsmith16/.conda/envs/neuralsignature/lib/python3.8/site-packages/nilearn/decoding/decoder.py:143: UserWarning: Use a custom estimator at your own risk of the process not working as intended.\n",
      "  warnings.warn('Use a custom estimator at your own risk '\n"
     ]
    },
    {
     "name": "stdout",
     "output_type": "stream",
     "text": [
      "test score was:. -10.686863248330958\n",
      "-15.028555041795855\n",
      "-15.028555041795855\n",
      "running one more time on whole dataset for beta map\n",
      "finished learning\n",
      "saved.\n",
      "/gpfs/projects/sanlab/shared/DEV/nonbids_data/fMRI/ml/SST/regress_sr_TESQ_E_sum/correct_go/regress_sr_TESQ_E_sum_84subs_harvardoxford-cortical_prob_Superior Frontal Gyrus.pkl\n"
     ]
    },
    {
     "data": {
      "text/html": [
       "y vs y_pred"
      ],
      "text/plain": [
       "<IPython.core.display.HTML object>"
      ]
     },
     "metadata": {},
     "output_type": "display_data"
    },
    {
     "data": {
      "text/html": [
       "r=-0.08; p-value=0.4941"
      ],
      "text/plain": [
       "<IPython.core.display.HTML object>"
      ]
     },
     "metadata": {},
     "output_type": "display_data"
    },
    {
     "data": {
      "text/html": [
       "rho=-0.09; p-value=0.4365"
      ],
      "text/plain": [
       "<IPython.core.display.HTML object>"
      ]
     },
     "metadata": {},
     "output_type": "display_data"
    },
    {
     "data": {
      "image/png": "[encoded data removed]",
      "text/plain": [
       "<Figure size 432x288 with 1 Axes>"
      ]
     },
     "metadata": {
      "needs_background": "light"
     },
     "output_type": "display_data"
    },
    {
     "name": "stdout",
     "output_type": "stream",
     "text": [
      "harvardoxford-cortical_prob_Frontal Pole.nii.gz\n"
     ]
    },
    {
     "data": {
      "text/markdown": [
       "## harvardoxford-cortical_prob_Frontal Pole"
      ],
      "text/plain": [
       "<IPython.core.display.Markdown object>"
      ]
     },
     "metadata": {},
     "output_type": "display_data"
    },
    {
     "name": "stdout",
     "output_type": "stream",
     "text": [
      "checked for intersection and no intersection between the brain data and the subjects was found.\n",
      "there were 58 subjects overlapping between the subjects marked for train data and the training dump file itself.\n",
      "test_train_set: 9549\n",
      "pkl_file: 168\n",
      "brain_data_filepath: 166\n",
      "train_test_markers_filepath: 141\n",
      "response_transform_func: 136\n",
      "sys: 72\n",
      "clean: 60\n",
      "Brain_Data_allsubs: 48\n",
      "subjs_to_use: 16\n",
      "78\n",
      "84\n"
     ]
    },
    {
     "name": "stderr",
     "output_type": "stream",
     "text": [
      "/gpfs/projects/sanlab/shared/DEV/DEV_scripts/fMRI/ml/apply_loocv_and_save.py:209: SettingWithCopyWarning: \n",
      "A value is trying to be set on a copy of a slice from a DataFrame\n",
      "\n",
      "See the caveats in the documentation: https://pandas.pydata.org/pandas-docs/stable/user_guide/indexing.html#returning-a-view-versus-a-copy\n",
      "  Brain_Data_allsubs.Y[Brain_Data_allsubs.Y=='NULL']=None\n"
     ]
    },
    {
     "name": "stdout",
     "output_type": "stream",
     "text": [
      "starting LeaveOneOut\n",
      "finished preprocessing\n",
      "Groups are the same.\n",
      "fold 1 of 78\n",
      "In order to test on a training group of 77 items, holding out the following subjects:['DEV105']. prepping fold data.... fitting.... 635.7 MiB. trying decoder 1 of 1. predicting. "
     ]
    },
    {
     "name": "stderr",
     "output_type": "stream",
     "text": [
      "/home/bsmith16/.conda/envs/neuralsignature/lib/python3.8/site-packages/nilearn/signal.py:58: UserWarning: Standardization of 3D signal has been requested but would lead to zero values. Skipping.\n",
      "  warnings.warn('Standardization of 3D signal has been requested but '\n",
      "/home/bsmith16/.conda/envs/neuralsignature/lib/python3.8/site-packages/nilearn/signal.py:58: UserWarning: Standardization of 3D signal has been requested but would lead to zero values. Skipping.\n",
      "  warnings.warn('Standardization of 3D signal has been requested but '\n"
     ]
    },
    {
     "name": "stdout",
     "output_type": "stream",
     "text": [
      "test score was:. -12.17793085606526\n",
      "fold 2 of 78\n",
      "In order to test on a training group of 77 items, holding out the following subjects:['DEV058']. prepping fold data.... fitting.... 635.7 MiB. trying decoder 1 of 1. "
     ]
    },
    {
     "name": "stderr",
     "output_type": "stream",
     "text": [
      "/home/bsmith16/.conda/envs/neuralsignature/lib/python3.8/site-packages/nilearn/decoding/decoder.py:143: UserWarning: Use a custom estimator at your own risk of the process not working as intended.\n",
      "  warnings.warn('Use a custom estimator at your own risk '\n"
     ]
    },
    {
     "name": "stdout",
     "output_type": "stream",
     "text": [
      "predicting. "
     ]
    },
    {
     "name": "stderr",
     "output_type": "stream",
     "text": [
      "/home/bsmith16/.conda/envs/neuralsignature/lib/python3.8/site-packages/nilearn/signal.py:58: UserWarning: Standardization of 3D signal has been requested but would lead to zero values. Skipping.\n",
      "  warnings.warn('Standardization of 3D signal has been requested but '\n",
      "/home/bsmith16/.conda/envs/neuralsignature/lib/python3.8/site-packages/nilearn/signal.py:58: UserWarning: Standardization of 3D signal has been requested but would lead to zero values. Skipping.\n",
      "  warnings.warn('Standardization of 3D signal has been requested but '\n"
     ]
    },
    {
     "name": "stdout",
     "output_type": "stream",
     "text": [
      "test score was:. -3.7003177387036956\n",
      "fold 3 of 78\n",
      "In order to test on a training group of 77 items, holding out the following subjects:['DEV074']. prepping fold data.... fitting.... 635.7 MiB. trying decoder 1 of 1. "
     ]
    },
    {
     "name": "stderr",
     "output_type": "stream",
     "text": [
      "/home/bsmith16/.conda/envs/neuralsignature/lib/python3.8/site-packages/nilearn/decoding/decoder.py:143: UserWarning: Use a custom estimator at your own risk of the process not working as intended.\n",
      "  warnings.warn('Use a custom estimator at your own risk '\n"
     ]
    },
    {
     "name": "stdout",
     "output_type": "stream",
     "text": [
      "predicting. "
     ]
    },
    {
     "name": "stderr",
     "output_type": "stream",
     "text": [
      "/home/bsmith16/.conda/envs/neuralsignature/lib/python3.8/site-packages/nilearn/signal.py:58: UserWarning: Standardization of 3D signal has been requested but would lead to zero values. Skipping.\n",
      "  warnings.warn('Standardization of 3D signal has been requested but '\n",
      "/home/bsmith16/.conda/envs/neuralsignature/lib/python3.8/site-packages/nilearn/signal.py:58: UserWarning: Standardization of 3D signal has been requested but would lead to zero values. Skipping.\n",
      "  warnings.warn('Standardization of 3D signal has been requested but '\n"
     ]
    },
    {
     "name": "stdout",
     "output_type": "stream",
     "text": [
      "test score was:. -6.4450521650881285\n",
      "fold 4 of 78\n",
      "In order to test on a training group of 77 items, holding out the following subjects:['DEV197']. prepping fold data.... fitting.... 635.7 MiB. trying decoder 1 of 1. "
     ]
    },
    {
     "name": "stderr",
     "output_type": "stream",
     "text": [
      "/home/bsmith16/.conda/envs/neuralsignature/lib/python3.8/site-packages/nilearn/decoding/decoder.py:143: UserWarning: Use a custom estimator at your own risk of the process not working as intended.\n",
      "  warnings.warn('Use a custom estimator at your own risk '\n"
     ]
    },
    {
     "name": "stdout",
     "output_type": "stream",
     "text": [
      "predicting. "
     ]
    },
    {
     "name": "stderr",
     "output_type": "stream",
     "text": [
      "/home/bsmith16/.conda/envs/neuralsignature/lib/python3.8/site-packages/nilearn/signal.py:58: UserWarning: Standardization of 3D signal has been requested but would lead to zero values. Skipping.\n",
      "  warnings.warn('Standardization of 3D signal has been requested but '\n",
      "/home/bsmith16/.conda/envs/neuralsignature/lib/python3.8/site-packages/nilearn/signal.py:58: UserWarning: Standardization of 3D signal has been requested but would lead to zero values. Skipping.\n",
      "  warnings.warn('Standardization of 3D signal has been requested but '\n"
     ]
    },
    {
     "name": "stdout",
     "output_type": "stream",
     "text": [
      "test score was:. -7.532072158445764\n",
      "fold 5 of 78\n",
      "In order to test on a training group of 77 items, holding out the following subjects:['DEV027']. prepping fold data.... fitting.... 635.7 MiB. trying decoder 1 of 1. "
     ]
    },
    {
     "name": "stderr",
     "output_type": "stream",
     "text": [
      "/home/bsmith16/.conda/envs/neuralsignature/lib/python3.8/site-packages/nilearn/decoding/decoder.py:143: UserWarning: Use a custom estimator at your own risk of the process not working as intended.\n",
      "  warnings.warn('Use a custom estimator at your own risk '\n"
     ]
    },
    {
     "ename": "KeyboardInterrupt",
     "evalue": "",
     "output_type": "error",
     "traceback": [
      "\u001b[0;31m---------------------------------------------------------------------------\u001b[0m",
      "\u001b[0;31mKeyboardInterrupt\u001b[0m                         Traceback (most recent call last)",
      "\u001b[0;32m<ipython-input-67-35da6130ae12>\u001b[0m in \u001b[0;36m<module>\u001b[0;34m\u001b[0m\n\u001b[1;32m     14\u001b[0m                 \u001b[0mmlr\u001b[0m\u001b[0;34m[\u001b[0m\u001b[0;34m'name'\u001b[0m\u001b[0;34m]\u001b[0m \u001b[0;34m+\u001b[0m \u001b[0;34m\".pkl\"\u001b[0m\u001b[0;34m\u001b[0m\u001b[0;34m\u001b[0m\u001b[0m\n\u001b[1;32m     15\u001b[0m             )\n\u001b[0;32m---> 16\u001b[0;31m             do_complete_sr_regression_analysis_for_mask(\n\u001b[0m\u001b[1;32m     17\u001b[0m                 \u001b[0mself_report_regression_var\u001b[0m \u001b[0;34m=\u001b[0m \u001b[0mself_report_regression_var\u001b[0m\u001b[0;34m,\u001b[0m\u001b[0;34m\u001b[0m\u001b[0;34m\u001b[0m\u001b[0m\n\u001b[1;32m     18\u001b[0m                 \u001b[0mmask_filepath\u001b[0m \u001b[0;34m=\u001b[0m \u001b[0mmlr\u001b[0m\u001b[0;34m[\u001b[0m\u001b[0;34m'filepath'\u001b[0m\u001b[0;34m]\u001b[0m\u001b[0;34m,\u001b[0m\u001b[0;34m\u001b[0m\u001b[0;34m\u001b[0m\u001b[0m\n",
      "\u001b[0;32m<ipython-input-62-6aced2530fc5>\u001b[0m in \u001b[0;36mdo_complete_sr_regression_analysis_for_mask\u001b[0;34m(self_report_regression_var, mask_filepath, mask_threshold, results_filepath, source_dataset_relpath)\u001b[0m\n\u001b[1;32m     27\u001b[0m \u001b[0;34m\u001b[0m\u001b[0m\n\u001b[1;32m     28\u001b[0m     \u001b[0;32mif\u001b[0m \u001b[0mpath\u001b[0m\u001b[0;34m.\u001b[0m\u001b[0mexists\u001b[0m\u001b[0;34m(\u001b[0m\u001b[0mresults_filepath\u001b[0m\u001b[0;34m)\u001b[0m \u001b[0;32mis\u001b[0m \u001b[0;32mFalse\u001b[0m\u001b[0;34m:\u001b[0m\u001b[0;34m\u001b[0m\u001b[0;34m\u001b[0m\u001b[0m\n\u001b[0;32m---> 29\u001b[0;31m         apply_loocv_and_save(\n\u001b[0m\u001b[1;32m     30\u001b[0m             \u001b[0mresults_filepath\u001b[0m \u001b[0;34m=\u001b[0m \u001b[0mresults_filepath\u001b[0m\u001b[0;34m,\u001b[0m\u001b[0;34m\u001b[0m\u001b[0;34m\u001b[0m\u001b[0m\n\u001b[1;32m     31\u001b[0m             \u001b[0mbrain_data_filepath\u001b[0m \u001b[0;34m=\u001b[0m \u001b[0mbrain_data_filepath\u001b[0m\u001b[0;34m,\u001b[0m\u001b[0;34m\u001b[0m\u001b[0;34m\u001b[0m\u001b[0m\n",
      "\u001b[0;32m/gpfs/projects/sanlab/shared/DEV/DEV_scripts/fMRI/ml/apply_loocv_and_save.py\u001b[0m in \u001b[0;36mapply_loocv_and_save\u001b[0;34m(results_filepath, brain_data_filepath, train_test_markers_filepath, subjs_to_use, response_transform_func, mask, decoderConstructor)\u001b[0m\n\u001b[1;32m     86\u001b[0m \u001b[0;34m\u001b[0m\u001b[0m\n\u001b[1;32m     87\u001b[0m \u001b[0;34m\u001b[0m\u001b[0m\n\u001b[0;32m---> 88\u001b[0;31m     test_scores_same,tt_results,results_by_trainset_item = cv_train_test_sets(\n\u001b[0m\u001b[1;32m     89\u001b[0m         \u001b[0mtrainset_X\u001b[0m\u001b[0;34m=\u001b[0m\u001b[0mfirst_subs_nifti\u001b[0m\u001b[0;34m,\u001b[0m\u001b[0;34m\u001b[0m\u001b[0;34m\u001b[0m\u001b[0m\n\u001b[1;32m     90\u001b[0m         \u001b[0mtrainset_y\u001b[0m\u001b[0;34m=\u001b[0m\u001b[0mfirst_subs_nifti_Y\u001b[0m\u001b[0;34m,\u001b[0m\u001b[0;34m\u001b[0m\u001b[0;34m\u001b[0m\u001b[0m\n",
      "\u001b[0;32m/gpfs/projects/sanlab/shared/DEV/DEV_scripts/fMRI/ml/dev_wtp_io_utils.py\u001b[0m in \u001b[0;36mcv_train_test_sets\u001b[0;34m(trainset_X, trainset_y, trainset_groups, decoders, testset_X, testset_y, testset_groups, param_grid, cpus_to_use, cv, regressors)\u001b[0m\n\u001b[1;32m    611\u001b[0m             \u001b[0;31m#if there is nested CV within this function the best hyper-paramters are already being chosen\u001b[0m\u001b[0;34m\u001b[0m\u001b[0;34m\u001b[0m\u001b[0;34m\u001b[0m\u001b[0m\n\u001b[1;32m    612\u001b[0m             \u001b[0;31m#we need only to finish the job by identifying the best overall decoder, as the final hyper-parameter\u001b[0m\u001b[0;34m\u001b[0m\u001b[0;34m\u001b[0m\u001b[0;34m\u001b[0m\u001b[0m\n\u001b[0;32m--> 613\u001b[0;31m             \u001b[0mreg\u001b[0m\u001b[0;34m.\u001b[0m\u001b[0mfit\u001b[0m\u001b[0;34m(\u001b[0m\u001b[0my\u001b[0m\u001b[0;34m=\u001b[0m\u001b[0mtrain_y\u001b[0m\u001b[0;34m,\u001b[0m\u001b[0mX\u001b[0m\u001b[0;34m=\u001b[0m\u001b[0mtrain_X\u001b[0m\u001b[0;34m,\u001b[0m\u001b[0mgroups\u001b[0m\u001b[0;34m=\u001b[0m\u001b[0mtrain_groups\u001b[0m\u001b[0;34m)\u001b[0m\u001b[0;34m\u001b[0m\u001b[0;34m\u001b[0m\u001b[0m\n\u001b[0m\u001b[1;32m    614\u001b[0m             \u001b[0mprint\u001b[0m\u001b[0;34m(\u001b[0m\u001b[0;34m\"predicting\"\u001b[0m\u001b[0;34m,\u001b[0m\u001b[0mend\u001b[0m\u001b[0;34m=\u001b[0m\u001b[0;34m'. '\u001b[0m\u001b[0;34m)\u001b[0m\u001b[0;34m\u001b[0m\u001b[0;34m\u001b[0m\u001b[0m\n\u001b[1;32m    615\u001b[0m             \u001b[0;31m#hyper_score = reg.score(train_X,train_y)\u001b[0m\u001b[0;34m\u001b[0m\u001b[0;34m\u001b[0m\u001b[0;34m\u001b[0m\u001b[0m\n",
      "\u001b[0;32m~/.conda/envs/neuralsignature/lib/python3.8/site-packages/nilearn/decoding/decoder.py\u001b[0m in \u001b[0;36mfit\u001b[0;34m(self, X, y, groups)\u001b[0m\n\u001b[1;32m    488\u001b[0m         \u001b[0mself\u001b[0m\u001b[0;34m.\u001b[0m\u001b[0mmemory_\u001b[0m \u001b[0;34m=\u001b[0m \u001b[0m_check_memory\u001b[0m\u001b[0;34m(\u001b[0m\u001b[0mself\u001b[0m\u001b[0;34m.\u001b[0m\u001b[0mmemory\u001b[0m\u001b[0;34m,\u001b[0m \u001b[0mself\u001b[0m\u001b[0;34m.\u001b[0m\u001b[0mverbose\u001b[0m\u001b[0;34m)\u001b[0m\u001b[0;34m\u001b[0m\u001b[0;34m\u001b[0m\u001b[0m\n\u001b[1;32m    489\u001b[0m \u001b[0;34m\u001b[0m\u001b[0m\n\u001b[0;32m--> 490\u001b[0;31m         \u001b[0mX\u001b[0m \u001b[0;34m=\u001b[0m \u001b[0mself\u001b[0m\u001b[0;34m.\u001b[0m\u001b[0m_apply_mask\u001b[0m\u001b[0;34m(\u001b[0m\u001b[0mX\u001b[0m\u001b[0;34m)\u001b[0m\u001b[0;34m\u001b[0m\u001b[0;34m\u001b[0m\u001b[0m\n\u001b[0m\u001b[1;32m    491\u001b[0m         \u001b[0mX\u001b[0m\u001b[0;34m,\u001b[0m \u001b[0my\u001b[0m \u001b[0;34m=\u001b[0m \u001b[0mcheck_X_y\u001b[0m\u001b[0;34m(\u001b[0m\u001b[0mX\u001b[0m\u001b[0;34m,\u001b[0m \u001b[0my\u001b[0m\u001b[0;34m,\u001b[0m \u001b[0mdtype\u001b[0m\u001b[0;34m=\u001b[0m\u001b[0mnp\u001b[0m\u001b[0;34m.\u001b[0m\u001b[0mfloat\u001b[0m\u001b[0;34m,\u001b[0m \u001b[0mmulti_output\u001b[0m\u001b[0;34m=\u001b[0m\u001b[0;32mTrue\u001b[0m\u001b[0;34m)\u001b[0m\u001b[0;34m\u001b[0m\u001b[0;34m\u001b[0m\u001b[0m\n\u001b[1;32m    492\u001b[0m \u001b[0;34m\u001b[0m\u001b[0m\n",
      "\u001b[0;32m~/.conda/envs/neuralsignature/lib/python3.8/site-packages/nilearn/decoding/decoder.py\u001b[0m in \u001b[0;36m_apply_mask\u001b[0;34m(self, X)\u001b[0m\n\u001b[1;32m    688\u001b[0m         \u001b[0;31m# Nifti masking\u001b[0m\u001b[0;34m\u001b[0m\u001b[0;34m\u001b[0m\u001b[0;34m\u001b[0m\u001b[0m\n\u001b[1;32m    689\u001b[0m         \u001b[0mself\u001b[0m\u001b[0;34m.\u001b[0m\u001b[0mmasker_\u001b[0m \u001b[0;34m=\u001b[0m \u001b[0mcheck_embedded_nifti_masker\u001b[0m\u001b[0;34m(\u001b[0m\u001b[0mself\u001b[0m\u001b[0;34m,\u001b[0m \u001b[0mmulti_subject\u001b[0m\u001b[0;34m=\u001b[0m\u001b[0;32mFalse\u001b[0m\u001b[0;34m)\u001b[0m\u001b[0;34m\u001b[0m\u001b[0;34m\u001b[0m\u001b[0m\n\u001b[0;32m--> 690\u001b[0;31m         \u001b[0mX\u001b[0m \u001b[0;34m=\u001b[0m \u001b[0mself\u001b[0m\u001b[0;34m.\u001b[0m\u001b[0mmasker_\u001b[0m\u001b[0;34m.\u001b[0m\u001b[0mfit_transform\u001b[0m\u001b[0;34m(\u001b[0m\u001b[0mX\u001b[0m\u001b[0;34m)\u001b[0m\u001b[0;34m\u001b[0m\u001b[0;34m\u001b[0m\u001b[0m\n\u001b[0m\u001b[1;32m    691\u001b[0m         \u001b[0mself\u001b[0m\u001b[0;34m.\u001b[0m\u001b[0mmask_img_\u001b[0m \u001b[0;34m=\u001b[0m \u001b[0mself\u001b[0m\u001b[0;34m.\u001b[0m\u001b[0mmasker_\u001b[0m\u001b[0;34m.\u001b[0m\u001b[0mmask_img_\u001b[0m\u001b[0;34m\u001b[0m\u001b[0;34m\u001b[0m\u001b[0m\n\u001b[1;32m    692\u001b[0m \u001b[0;34m\u001b[0m\u001b[0m\n",
      "\u001b[0;32m~/.conda/envs/neuralsignature/lib/python3.8/site-packages/nilearn/input_data/base_masker.py\u001b[0m in \u001b[0;36mfit_transform\u001b[0;34m(self, X, y, confounds, **fit_params)\u001b[0m\n\u001b[1;32m    228\u001b[0m                                 ).transform(X, confounds=confounds)\n\u001b[1;32m    229\u001b[0m             \u001b[0;32melse\u001b[0m\u001b[0;34m:\u001b[0m\u001b[0;34m\u001b[0m\u001b[0;34m\u001b[0m\u001b[0m\n\u001b[0;32m--> 230\u001b[0;31m                 \u001b[0;32mreturn\u001b[0m \u001b[0mself\u001b[0m\u001b[0;34m.\u001b[0m\u001b[0mfit\u001b[0m\u001b[0;34m(\u001b[0m\u001b[0;34m**\u001b[0m\u001b[0mfit_params\u001b[0m\u001b[0;34m)\u001b[0m\u001b[0;34m.\u001b[0m\u001b[0mtransform\u001b[0m\u001b[0;34m(\u001b[0m\u001b[0mX\u001b[0m\u001b[0;34m,\u001b[0m \u001b[0mconfounds\u001b[0m\u001b[0;34m=\u001b[0m\u001b[0mconfounds\u001b[0m\u001b[0;34m)\u001b[0m\u001b[0;34m\u001b[0m\u001b[0;34m\u001b[0m\u001b[0m\n\u001b[0m\u001b[1;32m    231\u001b[0m         \u001b[0;32melse\u001b[0m\u001b[0;34m:\u001b[0m\u001b[0;34m\u001b[0m\u001b[0;34m\u001b[0m\u001b[0m\n\u001b[1;32m    232\u001b[0m             \u001b[0;31m# fit method of arity 2 (supervised transformation)\u001b[0m\u001b[0;34m\u001b[0m\u001b[0;34m\u001b[0m\u001b[0;34m\u001b[0m\u001b[0m\n",
      "\u001b[0;32m~/.conda/envs/neuralsignature/lib/python3.8/site-packages/nilearn/input_data/base_masker.py\u001b[0m in \u001b[0;36mtransform\u001b[0;34m(self, imgs, confounds)\u001b[0m\n\u001b[1;32m    183\u001b[0m \u001b[0;34m\u001b[0m\u001b[0m\n\u001b[1;32m    184\u001b[0m         \u001b[0;32mif\u001b[0m \u001b[0mconfounds\u001b[0m \u001b[0;32mis\u001b[0m \u001b[0;32mNone\u001b[0m \u001b[0;32mand\u001b[0m \u001b[0;32mnot\u001b[0m \u001b[0mself\u001b[0m\u001b[0;34m.\u001b[0m\u001b[0mhigh_variance_confounds\u001b[0m\u001b[0;34m:\u001b[0m\u001b[0;34m\u001b[0m\u001b[0;34m\u001b[0m\u001b[0m\n\u001b[0;32m--> 185\u001b[0;31m             \u001b[0;32mreturn\u001b[0m \u001b[0mself\u001b[0m\u001b[0;34m.\u001b[0m\u001b[0mtransform_single_imgs\u001b[0m\u001b[0;34m(\u001b[0m\u001b[0mimgs\u001b[0m\u001b[0;34m,\u001b[0m \u001b[0mconfounds\u001b[0m\u001b[0;34m)\u001b[0m\u001b[0;34m\u001b[0m\u001b[0;34m\u001b[0m\u001b[0m\n\u001b[0m\u001b[1;32m    186\u001b[0m \u001b[0;34m\u001b[0m\u001b[0m\n\u001b[1;32m    187\u001b[0m         \u001b[0;31m# Compute high variance confounds if requested\u001b[0m\u001b[0;34m\u001b[0m\u001b[0;34m\u001b[0m\u001b[0;34m\u001b[0m\u001b[0m\n",
      "\u001b[0;32m~/.conda/envs/neuralsignature/lib/python3.8/site-packages/nilearn/input_data/nifti_masker.py\u001b[0m in \u001b[0;36mtransform_single_imgs\u001b[0;34m(self, imgs, confounds, copy)\u001b[0m\n\u001b[1;32m    441\u001b[0m                             ignore=['mask_img', 'mask_args', 'mask_strategy'])\n\u001b[1;32m    442\u001b[0m \u001b[0;34m\u001b[0m\u001b[0m\n\u001b[0;32m--> 443\u001b[0;31m         data = self._cache(filter_and_mask,\n\u001b[0m\u001b[1;32m    444\u001b[0m                            ignore=['verbose', 'memory', 'memory_level',\n\u001b[1;32m    445\u001b[0m                                    'copy'],\n",
      "\u001b[0;32m~/.conda/envs/neuralsignature/lib/python3.8/site-packages/joblib/memory.py\u001b[0m in \u001b[0;36m__call__\u001b[0;34m(self, *args, **kwargs)\u001b[0m\n\u001b[1;32m    350\u001b[0m \u001b[0;34m\u001b[0m\u001b[0m\n\u001b[1;32m    351\u001b[0m     \u001b[0;32mdef\u001b[0m \u001b[0m__call__\u001b[0m\u001b[0;34m(\u001b[0m\u001b[0mself\u001b[0m\u001b[0;34m,\u001b[0m \u001b[0;34m*\u001b[0m\u001b[0margs\u001b[0m\u001b[0;34m,\u001b[0m \u001b[0;34m**\u001b[0m\u001b[0mkwargs\u001b[0m\u001b[0;34m)\u001b[0m\u001b[0;34m:\u001b[0m\u001b[0;34m\u001b[0m\u001b[0;34m\u001b[0m\u001b[0m\n\u001b[0;32m--> 352\u001b[0;31m         \u001b[0;32mreturn\u001b[0m \u001b[0mself\u001b[0m\u001b[0;34m.\u001b[0m\u001b[0mfunc\u001b[0m\u001b[0;34m(\u001b[0m\u001b[0;34m*\u001b[0m\u001b[0margs\u001b[0m\u001b[0;34m,\u001b[0m \u001b[0;34m**\u001b[0m\u001b[0mkwargs\u001b[0m\u001b[0;34m)\u001b[0m\u001b[0;34m\u001b[0m\u001b[0;34m\u001b[0m\u001b[0m\n\u001b[0m\u001b[1;32m    353\u001b[0m \u001b[0;34m\u001b[0m\u001b[0m\n\u001b[1;32m    354\u001b[0m     \u001b[0;32mdef\u001b[0m \u001b[0mcall_and_shelve\u001b[0m\u001b[0;34m(\u001b[0m\u001b[0mself\u001b[0m\u001b[0;34m,\u001b[0m \u001b[0;34m*\u001b[0m\u001b[0margs\u001b[0m\u001b[0;34m,\u001b[0m \u001b[0;34m**\u001b[0m\u001b[0mkwargs\u001b[0m\u001b[0;34m)\u001b[0m\u001b[0;34m:\u001b[0m\u001b[0;34m\u001b[0m\u001b[0;34m\u001b[0m\u001b[0m\n",
      "\u001b[0;32m~/.conda/envs/neuralsignature/lib/python3.8/site-packages/nilearn/input_data/nifti_masker.py\u001b[0m in \u001b[0;36mfilter_and_mask\u001b[0;34m(imgs, mask_img_, parameters, memory_level, memory, verbose, confounds, copy, dtype)\u001b[0m\n\u001b[1;32m     66\u001b[0m         \u001b[0mparameters\u001b[0m\u001b[0;34m[\u001b[0m\u001b[0;34m'target_affine'\u001b[0m\u001b[0;34m]\u001b[0m \u001b[0;34m=\u001b[0m \u001b[0mmask_img_\u001b[0m\u001b[0;34m.\u001b[0m\u001b[0maffine\u001b[0m\u001b[0;34m\u001b[0m\u001b[0;34m\u001b[0m\u001b[0m\n\u001b[1;32m     67\u001b[0m \u001b[0;34m\u001b[0m\u001b[0m\n\u001b[0;32m---> 68\u001b[0;31m     data, affine = filter_and_extract(imgs, _ExtractionFunctor(mask_img_),\n\u001b[0m\u001b[1;32m     69\u001b[0m                                       \u001b[0mparameters\u001b[0m\u001b[0;34m,\u001b[0m\u001b[0;34m\u001b[0m\u001b[0;34m\u001b[0m\u001b[0m\n\u001b[1;32m     70\u001b[0m                                       \u001b[0mmemory_level\u001b[0m\u001b[0;34m=\u001b[0m\u001b[0mmemory_level\u001b[0m\u001b[0;34m,\u001b[0m\u001b[0;34m\u001b[0m\u001b[0;34m\u001b[0m\u001b[0m\n",
      "\u001b[0;32m~/.conda/envs/neuralsignature/lib/python3.8/site-packages/nilearn/input_data/base_masker.py\u001b[0m in \u001b[0;36mfilter_and_extract\u001b[0;34m(imgs, extraction_function, parameters, memory_level, memory, verbose, confounds, copy, dtype)\u001b[0m\n\u001b[1;32m     78\u001b[0m         \u001b[0;32mif\u001b[0m \u001b[0mverbose\u001b[0m \u001b[0;34m>\u001b[0m \u001b[0;36m0\u001b[0m\u001b[0;34m:\u001b[0m\u001b[0;34m\u001b[0m\u001b[0;34m\u001b[0m\u001b[0m\n\u001b[1;32m     79\u001b[0m             \u001b[0mprint\u001b[0m\u001b[0;34m(\u001b[0m\u001b[0;34m\"[%s] Resampling images\"\u001b[0m \u001b[0;34m%\u001b[0m \u001b[0mclass_name\u001b[0m\u001b[0;34m)\u001b[0m\u001b[0;34m\u001b[0m\u001b[0;34m\u001b[0m\u001b[0m\n\u001b[0;32m---> 80\u001b[0;31m         imgs = cache(\n\u001b[0m\u001b[1;32m     81\u001b[0m             \u001b[0mimage\u001b[0m\u001b[0;34m.\u001b[0m\u001b[0mresample_img\u001b[0m\u001b[0;34m,\u001b[0m \u001b[0mmemory\u001b[0m\u001b[0;34m,\u001b[0m \u001b[0mfunc_memory_level\u001b[0m\u001b[0;34m=\u001b[0m\u001b[0;36m2\u001b[0m\u001b[0;34m,\u001b[0m\u001b[0;34m\u001b[0m\u001b[0;34m\u001b[0m\u001b[0m\n\u001b[1;32m     82\u001b[0m             \u001b[0mmemory_level\u001b[0m\u001b[0;34m=\u001b[0m\u001b[0mmemory_level\u001b[0m\u001b[0;34m,\u001b[0m \u001b[0mignore\u001b[0m\u001b[0;34m=\u001b[0m\u001b[0;34m[\u001b[0m\u001b[0;34m'copy'\u001b[0m\u001b[0;34m]\u001b[0m\u001b[0;34m)\u001b[0m\u001b[0;34m(\u001b[0m\u001b[0;34m\u001b[0m\u001b[0;34m\u001b[0m\u001b[0m\n",
      "\u001b[0;32m~/.conda/envs/neuralsignature/lib/python3.8/site-packages/joblib/memory.py\u001b[0m in \u001b[0;36m__call__\u001b[0;34m(self, *args, **kwargs)\u001b[0m\n\u001b[1;32m    350\u001b[0m \u001b[0;34m\u001b[0m\u001b[0m\n\u001b[1;32m    351\u001b[0m     \u001b[0;32mdef\u001b[0m \u001b[0m__call__\u001b[0m\u001b[0;34m(\u001b[0m\u001b[0mself\u001b[0m\u001b[0;34m,\u001b[0m \u001b[0;34m*\u001b[0m\u001b[0margs\u001b[0m\u001b[0;34m,\u001b[0m \u001b[0;34m**\u001b[0m\u001b[0mkwargs\u001b[0m\u001b[0;34m)\u001b[0m\u001b[0;34m:\u001b[0m\u001b[0;34m\u001b[0m\u001b[0;34m\u001b[0m\u001b[0m\n\u001b[0;32m--> 352\u001b[0;31m         \u001b[0;32mreturn\u001b[0m \u001b[0mself\u001b[0m\u001b[0;34m.\u001b[0m\u001b[0mfunc\u001b[0m\u001b[0;34m(\u001b[0m\u001b[0;34m*\u001b[0m\u001b[0margs\u001b[0m\u001b[0;34m,\u001b[0m \u001b[0;34m**\u001b[0m\u001b[0mkwargs\u001b[0m\u001b[0;34m)\u001b[0m\u001b[0;34m\u001b[0m\u001b[0;34m\u001b[0m\u001b[0m\n\u001b[0m\u001b[1;32m    353\u001b[0m \u001b[0;34m\u001b[0m\u001b[0m\n\u001b[1;32m    354\u001b[0m     \u001b[0;32mdef\u001b[0m \u001b[0mcall_and_shelve\u001b[0m\u001b[0;34m(\u001b[0m\u001b[0mself\u001b[0m\u001b[0;34m,\u001b[0m \u001b[0;34m*\u001b[0m\u001b[0margs\u001b[0m\u001b[0;34m,\u001b[0m \u001b[0;34m**\u001b[0m\u001b[0mkwargs\u001b[0m\u001b[0;34m)\u001b[0m\u001b[0;34m:\u001b[0m\u001b[0;34m\u001b[0m\u001b[0;34m\u001b[0m\u001b[0m\n",
      "\u001b[0;32m~/.conda/envs/neuralsignature/lib/python3.8/site-packages/nilearn/image/resampling.py\u001b[0m in \u001b[0;36mresample_img\u001b[0;34m(img, target_affine, target_shape, interpolation, copy, order, clip, fill_value, force_resample)\u001b[0m\n\u001b[1;32m    592\u001b[0m         \u001b[0;31m# computational cost\u001b[0m\u001b[0;34m\u001b[0m\u001b[0;34m\u001b[0m\u001b[0;34m\u001b[0m\u001b[0m\n\u001b[1;32m    593\u001b[0m         \u001b[0;32mfor\u001b[0m \u001b[0mind\u001b[0m \u001b[0;32min\u001b[0m \u001b[0mnp\u001b[0m\u001b[0;34m.\u001b[0m\u001b[0mndindex\u001b[0m\u001b[0;34m(\u001b[0m\u001b[0;34m*\u001b[0m\u001b[0mother_shape\u001b[0m\u001b[0;34m)\u001b[0m\u001b[0;34m:\u001b[0m\u001b[0;34m\u001b[0m\u001b[0;34m\u001b[0m\u001b[0m\n\u001b[0;32m--> 594\u001b[0;31m             _resample_one_img(data[all_img + ind], A, b, target_shape,\n\u001b[0m\u001b[1;32m    595\u001b[0m                               \u001b[0minterpolation_order\u001b[0m\u001b[0;34m,\u001b[0m\u001b[0;34m\u001b[0m\u001b[0;34m\u001b[0m\u001b[0m\n\u001b[1;32m    596\u001b[0m                               \u001b[0mout\u001b[0m\u001b[0;34m=\u001b[0m\u001b[0mresampled_data\u001b[0m\u001b[0;34m[\u001b[0m\u001b[0mall_img\u001b[0m \u001b[0;34m+\u001b[0m \u001b[0mind\u001b[0m\u001b[0;34m]\u001b[0m\u001b[0;34m,\u001b[0m\u001b[0;34m\u001b[0m\u001b[0;34m\u001b[0m\u001b[0m\n",
      "\u001b[0;32m~/.conda/envs/neuralsignature/lib/python3.8/site-packages/nilearn/image/resampling.py\u001b[0m in \u001b[0;36m_resample_one_img\u001b[0;34m(data, A, b, target_shape, interpolation_order, out, copy, fill_value)\u001b[0m\n\u001b[1;32m    281\u001b[0m             \u001b[0mwarnings\u001b[0m\u001b[0;34m.\u001b[0m\u001b[0msimplefilter\u001b[0m\u001b[0;34m(\u001b[0m\u001b[0;34m\"ignore\"\u001b[0m\u001b[0;34m,\u001b[0m \u001b[0mUserWarning\u001b[0m\u001b[0;34m)\u001b[0m\u001b[0;34m\u001b[0m\u001b[0;34m\u001b[0m\u001b[0m\n\u001b[1;32m    282\u001b[0m         \u001b[0;31m# The resampling itself\u001b[0m\u001b[0;34m\u001b[0m\u001b[0;34m\u001b[0m\u001b[0;34m\u001b[0m\u001b[0m\n\u001b[0;32m--> 283\u001b[0;31m         ndimage.affine_transform(data, A,\n\u001b[0m\u001b[1;32m    284\u001b[0m                                  \u001b[0moffset\u001b[0m\u001b[0;34m=\u001b[0m\u001b[0mb\u001b[0m\u001b[0;34m,\u001b[0m\u001b[0;34m\u001b[0m\u001b[0;34m\u001b[0m\u001b[0m\n\u001b[1;32m    285\u001b[0m                                  \u001b[0moutput_shape\u001b[0m\u001b[0;34m=\u001b[0m\u001b[0mtarget_shape\u001b[0m\u001b[0;34m,\u001b[0m\u001b[0;34m\u001b[0m\u001b[0;34m\u001b[0m\u001b[0m\n",
      "\u001b[0;32m~/.conda/envs/neuralsignature/lib/python3.8/site-packages/scipy/ndimage/interpolation.py\u001b[0m in \u001b[0;36maffine_transform\u001b[0;34m(input, matrix, offset, output_shape, output, order, mode, cval, prefilter)\u001b[0m\n\u001b[1;32m    564\u001b[0m     \u001b[0;32mif\u001b[0m \u001b[0mprefilter\u001b[0m \u001b[0;32mand\u001b[0m \u001b[0morder\u001b[0m \u001b[0;34m>\u001b[0m \u001b[0;36m1\u001b[0m\u001b[0;34m:\u001b[0m\u001b[0;34m\u001b[0m\u001b[0;34m\u001b[0m\u001b[0m\n\u001b[1;32m    565\u001b[0m         \u001b[0mpadded\u001b[0m\u001b[0;34m,\u001b[0m \u001b[0mnpad\u001b[0m \u001b[0;34m=\u001b[0m \u001b[0m_prepad_for_spline_filter\u001b[0m\u001b[0;34m(\u001b[0m\u001b[0minput\u001b[0m\u001b[0;34m,\u001b[0m \u001b[0mmode\u001b[0m\u001b[0;34m,\u001b[0m \u001b[0mcval\u001b[0m\u001b[0;34m)\u001b[0m\u001b[0;34m\u001b[0m\u001b[0;34m\u001b[0m\u001b[0m\n\u001b[0;32m--> 566\u001b[0;31m         filtered = spline_filter(padded, order, output=numpy.float64,\n\u001b[0m\u001b[1;32m    567\u001b[0m                                  mode=mode)\n\u001b[1;32m    568\u001b[0m     \u001b[0;32melse\u001b[0m\u001b[0;34m:\u001b[0m\u001b[0;34m\u001b[0m\u001b[0;34m\u001b[0m\u001b[0m\n",
      "\u001b[0;32m~/.conda/envs/neuralsignature/lib/python3.8/site-packages/scipy/ndimage/interpolation.py\u001b[0m in \u001b[0;36mspline_filter\u001b[0;34m(input, order, output, mode)\u001b[0m\n\u001b[1;32m    187\u001b[0m     \u001b[0;32mif\u001b[0m \u001b[0morder\u001b[0m \u001b[0;32mnot\u001b[0m \u001b[0;32min\u001b[0m \u001b[0;34m[\u001b[0m\u001b[0;36m0\u001b[0m\u001b[0;34m,\u001b[0m \u001b[0;36m1\u001b[0m\u001b[0;34m]\u001b[0m \u001b[0;32mand\u001b[0m \u001b[0minput\u001b[0m\u001b[0;34m.\u001b[0m\u001b[0mndim\u001b[0m \u001b[0;34m>\u001b[0m \u001b[0;36m0\u001b[0m\u001b[0;34m:\u001b[0m\u001b[0;34m\u001b[0m\u001b[0;34m\u001b[0m\u001b[0m\n\u001b[1;32m    188\u001b[0m         \u001b[0;32mfor\u001b[0m \u001b[0maxis\u001b[0m \u001b[0;32min\u001b[0m \u001b[0mrange\u001b[0m\u001b[0;34m(\u001b[0m\u001b[0minput\u001b[0m\u001b[0;34m.\u001b[0m\u001b[0mndim\u001b[0m\u001b[0;34m)\u001b[0m\u001b[0;34m:\u001b[0m\u001b[0;34m\u001b[0m\u001b[0;34m\u001b[0m\u001b[0m\n\u001b[0;32m--> 189\u001b[0;31m             \u001b[0mspline_filter1d\u001b[0m\u001b[0;34m(\u001b[0m\u001b[0minput\u001b[0m\u001b[0;34m,\u001b[0m \u001b[0morder\u001b[0m\u001b[0;34m,\u001b[0m \u001b[0maxis\u001b[0m\u001b[0;34m,\u001b[0m \u001b[0moutput\u001b[0m\u001b[0;34m=\u001b[0m\u001b[0moutput\u001b[0m\u001b[0;34m,\u001b[0m \u001b[0mmode\u001b[0m\u001b[0;34m=\u001b[0m\u001b[0mmode\u001b[0m\u001b[0;34m)\u001b[0m\u001b[0;34m\u001b[0m\u001b[0;34m\u001b[0m\u001b[0m\n\u001b[0m\u001b[1;32m    190\u001b[0m             \u001b[0minput\u001b[0m \u001b[0;34m=\u001b[0m \u001b[0moutput\u001b[0m\u001b[0;34m\u001b[0m\u001b[0;34m\u001b[0m\u001b[0m\n\u001b[1;32m    191\u001b[0m     \u001b[0;32melse\u001b[0m\u001b[0;34m:\u001b[0m\u001b[0;34m\u001b[0m\u001b[0;34m\u001b[0m\u001b[0m\n",
      "\u001b[0;32m~/.conda/envs/neuralsignature/lib/python3.8/site-packages/scipy/ndimage/interpolation.py\u001b[0m in \u001b[0;36mspline_filter1d\u001b[0;34m(input, order, axis, output, mode)\u001b[0m\n\u001b[1;32m    129\u001b[0m         \u001b[0mmode\u001b[0m \u001b[0;34m=\u001b[0m \u001b[0m_ni_support\u001b[0m\u001b[0;34m.\u001b[0m\u001b[0m_extend_mode_to_code\u001b[0m\u001b[0;34m(\u001b[0m\u001b[0mmode\u001b[0m\u001b[0;34m)\u001b[0m\u001b[0;34m\u001b[0m\u001b[0;34m\u001b[0m\u001b[0m\n\u001b[1;32m    130\u001b[0m         \u001b[0maxis\u001b[0m \u001b[0;34m=\u001b[0m \u001b[0mnormalize_axis_index\u001b[0m\u001b[0;34m(\u001b[0m\u001b[0maxis\u001b[0m\u001b[0;34m,\u001b[0m \u001b[0minput\u001b[0m\u001b[0;34m.\u001b[0m\u001b[0mndim\u001b[0m\u001b[0;34m)\u001b[0m\u001b[0;34m\u001b[0m\u001b[0;34m\u001b[0m\u001b[0m\n\u001b[0;32m--> 131\u001b[0;31m         \u001b[0m_nd_image\u001b[0m\u001b[0;34m.\u001b[0m\u001b[0mspline_filter1d\u001b[0m\u001b[0;34m(\u001b[0m\u001b[0minput\u001b[0m\u001b[0;34m,\u001b[0m \u001b[0morder\u001b[0m\u001b[0;34m,\u001b[0m \u001b[0maxis\u001b[0m\u001b[0;34m,\u001b[0m \u001b[0moutput\u001b[0m\u001b[0;34m,\u001b[0m \u001b[0mmode\u001b[0m\u001b[0;34m)\u001b[0m\u001b[0;34m\u001b[0m\u001b[0;34m\u001b[0m\u001b[0m\n\u001b[0m\u001b[1;32m    132\u001b[0m     \u001b[0;32mreturn\u001b[0m \u001b[0moutput\u001b[0m\u001b[0;34m\u001b[0m\u001b[0;34m\u001b[0m\u001b[0m\n\u001b[1;32m    133\u001b[0m \u001b[0;34m\u001b[0m\u001b[0m\n",
      "\u001b[0;31mKeyboardInterrupt\u001b[0m: "
     ]
    }
   ],
   "source": [
    "\n",
    "for self_report_regression_var in ['TESQ_E_sum', 'TESQ_E_distraction','TESQ_E_suppression']:\n",
    "    regression_output_folderpath = ml_data_folderpath + \"/SST/regress_sr_\" + self_report_regression_var\n",
    "    if os.path.exists(regression_output_folderpath)==False:\n",
    "        os.mkdir(regression_output_folderpath)\n",
    "    for source_dataset_name in ['correct_go','correct_stop']:\n",
    "        source_output_folderpath = regression_output_folderpath + \"/\" + source_dataset_name\n",
    "        if os.path.exists(source_output_folderpath)==False:\n",
    "            os.mkdir(source_output_folderpath)\n",
    "        for mlr_i, mlr in mask_list.iterrows():\n",
    "            print(mlr['filename'])\n",
    "            results_filepath=(\n",
    "                source_output_folderpath + \n",
    "                \"/regress_sr_\" + self_report_regression_var + \"_84subs_\" + \n",
    "                mlr['name'] + \".pkl\"\n",
    "            )\n",
    "            do_complete_sr_regression_analysis_for_mask(\n",
    "                self_report_regression_var = self_report_regression_var,\n",
    "                mask_filepath = mlr['filepath'],\n",
    "                mask_threshold = mlr['threshold'],\n",
    "                results_filepath = results_filepath,\n",
    "                source_dataset_relpath = '/SST/Brain_Data_conditions_84subs_' + source_dataset_name + '_w_supplementary.pkl'\n",
    "            )\n",
    "            "
   ]
  },
  {
   "cell_type": "code",
   "execution_count": 36,
   "id": "hungry-civilization",
   "metadata": {},
   "outputs": [],
   "source": [
    "def visualize_series_corr(series1,series2):\n",
    "    display(HTML(series1.name + \" vs \" + series2.name))\n",
    "    pearson_result = pearsonr(series1,series2)\n",
    "    display(HTML(\"r=\" + format(pearson_result[0],\".2f\") +\"; p-value=\" + format(pearson_result[1],\".4f\")))\n",
    "    spearman_result = spearmanr(series1,series2)\n",
    "    display(HTML(\"rho=\" + format(spearman_result[0],\".2f\") +\"; p-value=\" + format(spearman_result[1],\".4f\")))\n",
    "    cplot = pyplot.scatter(series1,series2)\n",
    "    cplot.axes.set_xlabel(series1.name)\n",
    "    cplot.axes.set_ylabel(series2.name)\n",
    "    pyplot.show()"
   ]
  },
  {
   "cell_type": "code",
   "execution_count": 37,
   "id": "compound-firmware",
   "metadata": {},
   "outputs": [
    {
     "data": {
      "text/html": [
       "y vs y_pred"
      ],
      "text/plain": [
       "<IPython.core.display.HTML object>"
      ]
     },
     "metadata": {},
     "output_type": "display_data"
    },
    {
     "data": {
      "text/html": [
       "r=0.43; p-value=0.0579"
      ],
      "text/plain": [
       "<IPython.core.display.HTML object>"
      ]
     },
     "metadata": {},
     "output_type": "display_data"
    },
    {
     "data": {
      "text/html": [
       "rho=0.49; p-value=0.0272"
      ],
      "text/plain": [
       "<IPython.core.display.HTML object>"
      ]
     },
     "metadata": {},
     "output_type": "display_data"
    },
    {
     "data": {
      "image/png": "[encoded data removed]",
      "text/plain": [
       "<Figure size 432x288 with 1 Axes>"
      ]
     },
     "metadata": {
      "needs_background": "light"
     },
     "output_type": "display_data"
    }
   ],
   "source": []
  },
  {
   "cell_type": "code",
   "execution_count": 37,
   "id": "adequate-implementation",
   "metadata": {},
   "outputs": [],
   "source": [
    "from matplotlib import pyplot as plt"
   ]
  },
  {
   "cell_type": "markdown",
   "id": "authorized-myanmar",
   "metadata": {},
   "source": [
    "## generate commands to run the batch version of the above"
   ]
  },
  {
   "cell_type": "code",
   "execution_count": 70,
   "id": "institutional-break",
   "metadata": {},
   "outputs": [
    {
     "name": "stdout",
     "output_type": "stream",
     "text": [
      "sbatch run_sr_learning_script.sbatch ml-ns_on_self_report_batch.py -m \"/gpfs/projects/sanlab/shared/DEV/nonbids_data/fMRI/ml/masks/response_inhibition_related/harvardoxford/harvardoxford-cortical_prob_Superior Frontal Gyrus.nii.gz\" -t 30 -r TESQ_E_sum -s /gpfs/projects/sanlab/shared/DEV/nonbids_data/fMRI/ml/SST/Brain_Data_conditions_84subs_correct_go_w_supplementary.pkl -o \"/gpfs/projects/sanlab/shared/DEV/nonbids_data/fMRI/ml/SST/regress_sr_TESQ_E_sum/correct_go/regress_sr_TESQ_E_sum_84subs_harvardoxford-cortical_prob_Superior Frontal Gyrus.pkl\"\n",
      "sbatch run_sr_learning_script.sbatch ml-ns_on_self_report_batch.py -m \"/gpfs/projects/sanlab/shared/DEV/nonbids_data/fMRI/ml/masks/response_inhibition_related/harvardoxford/harvardoxford-cortical_prob_Frontal Pole.nii.gz\" -t 30 -r TESQ_E_sum -s /gpfs/projects/sanlab/shared/DEV/nonbids_data/fMRI/ml/SST/Brain_Data_conditions_84subs_correct_go_w_supplementary.pkl -o \"/gpfs/projects/sanlab/shared/DEV/nonbids_data/fMRI/ml/SST/regress_sr_TESQ_E_sum/correct_go/regress_sr_TESQ_E_sum_84subs_harvardoxford-cortical_prob_Frontal Pole.pkl\"\n",
      "sbatch run_sr_learning_script.sbatch ml-ns_on_self_report_batch.py -m \"/gpfs/projects/sanlab/shared/DEV/nonbids_data/fMRI/ml/masks/response_inhibition_related/harvardoxford/harvardoxford-cortical_prob_Cingulate Gyrus, posterior division.nii.gz\" -t 30 -r TESQ_E_sum -s /gpfs/projects/sanlab/shared/DEV/nonbids_data/fMRI/ml/SST/Brain_Data_conditions_84subs_correct_go_w_supplementary.pkl -o \"/gpfs/projects/sanlab/shared/DEV/nonbids_data/fMRI/ml/SST/regress_sr_TESQ_E_sum/correct_go/regress_sr_TESQ_E_sum_84subs_harvardoxford-cortical_prob_Cingulate Gyrus, posterior division.pkl\"\n",
      "sbatch run_sr_learning_script.sbatch ml-ns_on_self_report_batch.py -m \"/gpfs/projects/sanlab/shared/DEV/nonbids_data/fMRI/ml/masks/response_inhibition_related/harvardoxford/harvardoxford-cortical_prob_Frontal Orbital Cortex.nii.gz\" -t 30 -r TESQ_E_sum -s /gpfs/projects/sanlab/shared/DEV/nonbids_data/fMRI/ml/SST/Brain_Data_conditions_84subs_correct_go_w_supplementary.pkl -o \"/gpfs/projects/sanlab/shared/DEV/nonbids_data/fMRI/ml/SST/regress_sr_TESQ_E_sum/correct_go/regress_sr_TESQ_E_sum_84subs_harvardoxford-cortical_prob_Frontal Orbital Cortex.pkl\"\n",
      "sbatch run_sr_learning_script.sbatch ml-ns_on_self_report_batch.py -m \"/gpfs/projects/sanlab/shared/DEV/nonbids_data/fMRI/ml/masks/response_inhibition_related/harvardoxford/harvardoxford-cortical_prob_Frontal Operculum Cortex.nii.gz\" -t 30 -r TESQ_E_sum -s /gpfs/projects/sanlab/shared/DEV/nonbids_data/fMRI/ml/SST/Brain_Data_conditions_84subs_correct_go_w_supplementary.pkl -o \"/gpfs/projects/sanlab/shared/DEV/nonbids_data/fMRI/ml/SST/regress_sr_TESQ_E_sum/correct_go/regress_sr_TESQ_E_sum_84subs_harvardoxford-cortical_prob_Frontal Operculum Cortex.pkl\"\n",
      "sbatch run_sr_learning_script.sbatch ml-ns_on_self_report_batch.py -m \"/gpfs/projects/sanlab/shared/DEV/nonbids_data/fMRI/ml/masks/response_inhibition_related/harvardoxford/harvardoxford-cortical_prob_Supramarginal Gyrus, posterior division.nii.gz\" -t 30 -r TESQ_E_sum -s /gpfs/projects/sanlab/shared/DEV/nonbids_data/fMRI/ml/SST/Brain_Data_conditions_84subs_correct_go_w_supplementary.pkl -o \"/gpfs/projects/sanlab/shared/DEV/nonbids_data/fMRI/ml/SST/regress_sr_TESQ_E_sum/correct_go/regress_sr_TESQ_E_sum_84subs_harvardoxford-cortical_prob_Supramarginal Gyrus, posterior division.pkl\"\n",
      "sbatch run_sr_learning_script.sbatch ml-ns_on_self_report_batch.py -m \"/gpfs/projects/sanlab/shared/DEV/nonbids_data/fMRI/ml/masks/response_inhibition_related/harvardoxford/harvardoxford-cortical_prob_Angular Gyrus.nii.gz\" -t 30 -r TESQ_E_sum -s /gpfs/projects/sanlab/shared/DEV/nonbids_data/fMRI/ml/SST/Brain_Data_conditions_84subs_correct_go_w_supplementary.pkl -o \"/gpfs/projects/sanlab/shared/DEV/nonbids_data/fMRI/ml/SST/regress_sr_TESQ_E_sum/correct_go/regress_sr_TESQ_E_sum_84subs_harvardoxford-cortical_prob_Angular Gyrus.pkl\"\n",
      "sbatch run_sr_learning_script.sbatch ml-ns_on_self_report_batch.py -m \"/gpfs/projects/sanlab/shared/DEV/nonbids_data/fMRI/ml/masks/response_inhibition_related/harvardoxford/harvardoxford-cortical_prob_Cingulate Gyrus, anterior division.nii.gz\" -t 30 -r TESQ_E_sum -s /gpfs/projects/sanlab/shared/DEV/nonbids_data/fMRI/ml/SST/Brain_Data_conditions_84subs_correct_go_w_supplementary.pkl -o \"/gpfs/projects/sanlab/shared/DEV/nonbids_data/fMRI/ml/SST/regress_sr_TESQ_E_sum/correct_go/regress_sr_TESQ_E_sum_84subs_harvardoxford-cortical_prob_Cingulate Gyrus, anterior division.pkl\"\n",
      "sbatch run_sr_learning_script.sbatch ml-ns_on_self_report_batch.py -m \"/gpfs/projects/sanlab/shared/DEV/nonbids_data/fMRI/ml/masks/response_inhibition_related/harvardoxford/harvardoxford-cortical_prob_Lateral Occipital Cortex, superior division.nii.gz\" -t 30 -r TESQ_E_sum -s /gpfs/projects/sanlab/shared/DEV/nonbids_data/fMRI/ml/SST/Brain_Data_conditions_84subs_correct_go_w_supplementary.pkl -o \"/gpfs/projects/sanlab/shared/DEV/nonbids_data/fMRI/ml/SST/regress_sr_TESQ_E_sum/correct_go/regress_sr_TESQ_E_sum_84subs_harvardoxford-cortical_prob_Lateral Occipital Cortex, superior division.pkl\"\n",
      "sbatch run_sr_learning_script.sbatch ml-ns_on_self_report_batch.py -m \"/gpfs/projects/sanlab/shared/DEV/nonbids_data/fMRI/ml/masks/response_inhibition_related/harvardoxford/harvardoxford-cortical_prob_Inferior Frontal Gyrus, pars opercularis.nii.gz\" -t 30 -r TESQ_E_sum -s /gpfs/projects/sanlab/shared/DEV/nonbids_data/fMRI/ml/SST/Brain_Data_conditions_84subs_correct_go_w_supplementary.pkl -o \"/gpfs/projects/sanlab/shared/DEV/nonbids_data/fMRI/ml/SST/regress_sr_TESQ_E_sum/correct_go/regress_sr_TESQ_E_sum_84subs_harvardoxford-cortical_prob_Inferior Frontal Gyrus, pars opercularis.pkl\"\n",
      "sbatch run_sr_learning_script.sbatch ml-ns_on_self_report_batch.py -m \"/gpfs/projects/sanlab/shared/DEV/nonbids_data/fMRI/ml/masks/response_inhibition_related/harvardoxford/harvardoxford-cortical_prob_Inferior Frontal Gyrus, pars triangularis.nii.gz\" -t 30 -r TESQ_E_sum -s /gpfs/projects/sanlab/shared/DEV/nonbids_data/fMRI/ml/SST/Brain_Data_conditions_84subs_correct_go_w_supplementary.pkl -o \"/gpfs/projects/sanlab/shared/DEV/nonbids_data/fMRI/ml/SST/regress_sr_TESQ_E_sum/correct_go/regress_sr_TESQ_E_sum_84subs_harvardoxford-cortical_prob_Inferior Frontal Gyrus, pars triangularis.pkl\"\n",
      "sbatch run_sr_learning_script.sbatch ml-ns_on_self_report_batch.py -m \"/gpfs/projects/sanlab/shared/DEV/nonbids_data/fMRI/ml/masks/response_inhibition_related/harvardoxford/harvardoxford-cortical_prob_Insular Cortex.nii.gz\" -t 30 -r TESQ_E_sum -s /gpfs/projects/sanlab/shared/DEV/nonbids_data/fMRI/ml/SST/Brain_Data_conditions_84subs_correct_go_w_supplementary.pkl -o \"/gpfs/projects/sanlab/shared/DEV/nonbids_data/fMRI/ml/SST/regress_sr_TESQ_E_sum/correct_go/regress_sr_TESQ_E_sum_84subs_harvardoxford-cortical_prob_Insular Cortex.pkl\"\n",
      "sbatch run_sr_learning_script.sbatch ml-ns_on_self_report_batch.py -m \"/gpfs/projects/sanlab/shared/DEV/nonbids_data/fMRI/ml/masks/response_inhibition_related/negative affect_association-test_z_FDR_0.01.nii.gz\" -t 0 -r TESQ_E_sum -s /gpfs/projects/sanlab/shared/DEV/nonbids_data/fMRI/ml/SST/Brain_Data_conditions_84subs_correct_go_w_supplementary.pkl -o \"/gpfs/projects/sanlab/shared/DEV/nonbids_data/fMRI/ml/SST/regress_sr_TESQ_E_sum/correct_go/regress_sr_TESQ_E_sum_84subs_negative affect_association-test_z_FDR_0.pkl\"\n",
      "sbatch run_sr_learning_script.sbatch ml-ns_on_self_report_batch.py -m \"/gpfs/projects/sanlab/shared/DEV/nonbids_data/fMRI/ml/masks/response_inhibition_related/response inhibition_association-test_z_FDR_0.01.nii.gz\" -t 0 -r TESQ_E_sum -s /gpfs/projects/sanlab/shared/DEV/nonbids_data/fMRI/ml/SST/Brain_Data_conditions_84subs_correct_go_w_supplementary.pkl -o \"/gpfs/projects/sanlab/shared/DEV/nonbids_data/fMRI/ml/SST/regress_sr_TESQ_E_sum/correct_go/regress_sr_TESQ_E_sum_84subs_response inhibition_association-test_z_FDR_0.pkl\"\n",
      "sbatch run_sr_learning_script.sbatch ml-ns_on_self_report_batch.py -m \"/gpfs/projects/sanlab/shared/DEV/nonbids_data/fMRI/ml/masks/response_inhibition_related/negative emotions_association-test_z_FDR_0.01.nii.gz\" -t 0 -r TESQ_E_sum -s /gpfs/projects/sanlab/shared/DEV/nonbids_data/fMRI/ml/SST/Brain_Data_conditions_84subs_correct_go_w_supplementary.pkl -o \"/gpfs/projects/sanlab/shared/DEV/nonbids_data/fMRI/ml/SST/regress_sr_TESQ_E_sum/correct_go/regress_sr_TESQ_E_sum_84subs_negative emotions_association-test_z_FDR_0.pkl\"\n",
      "sbatch run_sr_learning_script.sbatch ml-ns_on_self_report_batch.py -m \"/gpfs/projects/sanlab/shared/DEV/nonbids_data/fMRI/ml/masks/response_inhibition_related/harvardoxford/harvardoxford-cortical_prob_Superior Frontal Gyrus.nii.gz\" -t 30 -r TESQ_E_sum -s /gpfs/projects/sanlab/shared/DEV/nonbids_data/fMRI/ml/SST/Brain_Data_conditions_84subs_correct_stop_w_supplementary.pkl -o \"/gpfs/projects/sanlab/shared/DEV/nonbids_data/fMRI/ml/SST/regress_sr_TESQ_E_sum/correct_stop/regress_sr_TESQ_E_sum_84subs_harvardoxford-cortical_prob_Superior Frontal Gyrus.pkl\"\n",
      "sbatch run_sr_learning_script.sbatch ml-ns_on_self_report_batch.py -m \"/gpfs/projects/sanlab/shared/DEV/nonbids_data/fMRI/ml/masks/response_inhibition_related/harvardoxford/harvardoxford-cortical_prob_Frontal Pole.nii.gz\" -t 30 -r TESQ_E_sum -s /gpfs/projects/sanlab/shared/DEV/nonbids_data/fMRI/ml/SST/Brain_Data_conditions_84subs_correct_stop_w_supplementary.pkl -o \"/gpfs/projects/sanlab/shared/DEV/nonbids_data/fMRI/ml/SST/regress_sr_TESQ_E_sum/correct_stop/regress_sr_TESQ_E_sum_84subs_harvardoxford-cortical_prob_Frontal Pole.pkl\"\n",
      "sbatch run_sr_learning_script.sbatch ml-ns_on_self_report_batch.py -m \"/gpfs/projects/sanlab/shared/DEV/nonbids_data/fMRI/ml/masks/response_inhibition_related/harvardoxford/harvardoxford-cortical_prob_Cingulate Gyrus, posterior division.nii.gz\" -t 30 -r TESQ_E_sum -s /gpfs/projects/sanlab/shared/DEV/nonbids_data/fMRI/ml/SST/Brain_Data_conditions_84subs_correct_stop_w_supplementary.pkl -o \"/gpfs/projects/sanlab/shared/DEV/nonbids_data/fMRI/ml/SST/regress_sr_TESQ_E_sum/correct_stop/regress_sr_TESQ_E_sum_84subs_harvardoxford-cortical_prob_Cingulate Gyrus, posterior division.pkl\"\n",
      "sbatch run_sr_learning_script.sbatch ml-ns_on_self_report_batch.py -m \"/gpfs/projects/sanlab/shared/DEV/nonbids_data/fMRI/ml/masks/response_inhibition_related/harvardoxford/harvardoxford-cortical_prob_Frontal Orbital Cortex.nii.gz\" -t 30 -r TESQ_E_sum -s /gpfs/projects/sanlab/shared/DEV/nonbids_data/fMRI/ml/SST/Brain_Data_conditions_84subs_correct_stop_w_supplementary.pkl -o \"/gpfs/projects/sanlab/shared/DEV/nonbids_data/fMRI/ml/SST/regress_sr_TESQ_E_sum/correct_stop/regress_sr_TESQ_E_sum_84subs_harvardoxford-cortical_prob_Frontal Orbital Cortex.pkl\"\n",
      "sbatch run_sr_learning_script.sbatch ml-ns_on_self_report_batch.py -m \"/gpfs/projects/sanlab/shared/DEV/nonbids_data/fMRI/ml/masks/response_inhibition_related/harvardoxford/harvardoxford-cortical_prob_Frontal Operculum Cortex.nii.gz\" -t 30 -r TESQ_E_sum -s /gpfs/projects/sanlab/shared/DEV/nonbids_data/fMRI/ml/SST/Brain_Data_conditions_84subs_correct_stop_w_supplementary.pkl -o \"/gpfs/projects/sanlab/shared/DEV/nonbids_data/fMRI/ml/SST/regress_sr_TESQ_E_sum/correct_stop/regress_sr_TESQ_E_sum_84subs_harvardoxford-cortical_prob_Frontal Operculum Cortex.pkl\"\n",
      "sbatch run_sr_learning_script.sbatch ml-ns_on_self_report_batch.py -m \"/gpfs/projects/sanlab/shared/DEV/nonbids_data/fMRI/ml/masks/response_inhibition_related/harvardoxford/harvardoxford-cortical_prob_Supramarginal Gyrus, posterior division.nii.gz\" -t 30 -r TESQ_E_sum -s /gpfs/projects/sanlab/shared/DEV/nonbids_data/fMRI/ml/SST/Brain_Data_conditions_84subs_correct_stop_w_supplementary.pkl -o \"/gpfs/projects/sanlab/shared/DEV/nonbids_data/fMRI/ml/SST/regress_sr_TESQ_E_sum/correct_stop/regress_sr_TESQ_E_sum_84subs_harvardoxford-cortical_prob_Supramarginal Gyrus, posterior division.pkl\"\n",
      "sbatch run_sr_learning_script.sbatch ml-ns_on_self_report_batch.py -m \"/gpfs/projects/sanlab/shared/DEV/nonbids_data/fMRI/ml/masks/response_inhibition_related/harvardoxford/harvardoxford-cortical_prob_Angular Gyrus.nii.gz\" -t 30 -r TESQ_E_sum -s /gpfs/projects/sanlab/shared/DEV/nonbids_data/fMRI/ml/SST/Brain_Data_conditions_84subs_correct_stop_w_supplementary.pkl -o \"/gpfs/projects/sanlab/shared/DEV/nonbids_data/fMRI/ml/SST/regress_sr_TESQ_E_sum/correct_stop/regress_sr_TESQ_E_sum_84subs_harvardoxford-cortical_prob_Angular Gyrus.pkl\"\n",
      "sbatch run_sr_learning_script.sbatch ml-ns_on_self_report_batch.py -m \"/gpfs/projects/sanlab/shared/DEV/nonbids_data/fMRI/ml/masks/response_inhibition_related/harvardoxford/harvardoxford-cortical_prob_Cingulate Gyrus, anterior division.nii.gz\" -t 30 -r TESQ_E_sum -s /gpfs/projects/sanlab/shared/DEV/nonbids_data/fMRI/ml/SST/Brain_Data_conditions_84subs_correct_stop_w_supplementary.pkl -o \"/gpfs/projects/sanlab/shared/DEV/nonbids_data/fMRI/ml/SST/regress_sr_TESQ_E_sum/correct_stop/regress_sr_TESQ_E_sum_84subs_harvardoxford-cortical_prob_Cingulate Gyrus, anterior division.pkl\"\n",
      "sbatch run_sr_learning_script.sbatch ml-ns_on_self_report_batch.py -m \"/gpfs/projects/sanlab/shared/DEV/nonbids_data/fMRI/ml/masks/response_inhibition_related/harvardoxford/harvardoxford-cortical_prob_Lateral Occipital Cortex, superior division.nii.gz\" -t 30 -r TESQ_E_sum -s /gpfs/projects/sanlab/shared/DEV/nonbids_data/fMRI/ml/SST/Brain_Data_conditions_84subs_correct_stop_w_supplementary.pkl -o \"/gpfs/projects/sanlab/shared/DEV/nonbids_data/fMRI/ml/SST/regress_sr_TESQ_E_sum/correct_stop/regress_sr_TESQ_E_sum_84subs_harvardoxford-cortical_prob_Lateral Occipital Cortex, superior division.pkl\"\n",
      "sbatch run_sr_learning_script.sbatch ml-ns_on_self_report_batch.py -m \"/gpfs/projects/sanlab/shared/DEV/nonbids_data/fMRI/ml/masks/response_inhibition_related/harvardoxford/harvardoxford-cortical_prob_Inferior Frontal Gyrus, pars opercularis.nii.gz\" -t 30 -r TESQ_E_sum -s /gpfs/projects/sanlab/shared/DEV/nonbids_data/fMRI/ml/SST/Brain_Data_conditions_84subs_correct_stop_w_supplementary.pkl -o \"/gpfs/projects/sanlab/shared/DEV/nonbids_data/fMRI/ml/SST/regress_sr_TESQ_E_sum/correct_stop/regress_sr_TESQ_E_sum_84subs_harvardoxford-cortical_prob_Inferior Frontal Gyrus, pars opercularis.pkl\"\n",
      "sbatch run_sr_learning_script.sbatch ml-ns_on_self_report_batch.py -m \"/gpfs/projects/sanlab/shared/DEV/nonbids_data/fMRI/ml/masks/response_inhibition_related/harvardoxford/harvardoxford-cortical_prob_Inferior Frontal Gyrus, pars triangularis.nii.gz\" -t 30 -r TESQ_E_sum -s /gpfs/projects/sanlab/shared/DEV/nonbids_data/fMRI/ml/SST/Brain_Data_conditions_84subs_correct_stop_w_supplementary.pkl -o \"/gpfs/projects/sanlab/shared/DEV/nonbids_data/fMRI/ml/SST/regress_sr_TESQ_E_sum/correct_stop/regress_sr_TESQ_E_sum_84subs_harvardoxford-cortical_prob_Inferior Frontal Gyrus, pars triangularis.pkl\"\n",
      "sbatch run_sr_learning_script.sbatch ml-ns_on_self_report_batch.py -m \"/gpfs/projects/sanlab/shared/DEV/nonbids_data/fMRI/ml/masks/response_inhibition_related/harvardoxford/harvardoxford-cortical_prob_Insular Cortex.nii.gz\" -t 30 -r TESQ_E_sum -s /gpfs/projects/sanlab/shared/DEV/nonbids_data/fMRI/ml/SST/Brain_Data_conditions_84subs_correct_stop_w_supplementary.pkl -o \"/gpfs/projects/sanlab/shared/DEV/nonbids_data/fMRI/ml/SST/regress_sr_TESQ_E_sum/correct_stop/regress_sr_TESQ_E_sum_84subs_harvardoxford-cortical_prob_Insular Cortex.pkl\"\n",
      "sbatch run_sr_learning_script.sbatch ml-ns_on_self_report_batch.py -m \"/gpfs/projects/sanlab/shared/DEV/nonbids_data/fMRI/ml/masks/response_inhibition_related/negative affect_association-test_z_FDR_0.01.nii.gz\" -t 0 -r TESQ_E_sum -s /gpfs/projects/sanlab/shared/DEV/nonbids_data/fMRI/ml/SST/Brain_Data_conditions_84subs_correct_stop_w_supplementary.pkl -o \"/gpfs/projects/sanlab/shared/DEV/nonbids_data/fMRI/ml/SST/regress_sr_TESQ_E_sum/correct_stop/regress_sr_TESQ_E_sum_84subs_negative affect_association-test_z_FDR_0.pkl\"\n",
      "sbatch run_sr_learning_script.sbatch ml-ns_on_self_report_batch.py -m \"/gpfs/projects/sanlab/shared/DEV/nonbids_data/fMRI/ml/masks/response_inhibition_related/response inhibition_association-test_z_FDR_0.01.nii.gz\" -t 0 -r TESQ_E_sum -s /gpfs/projects/sanlab/shared/DEV/nonbids_data/fMRI/ml/SST/Brain_Data_conditions_84subs_correct_stop_w_supplementary.pkl -o \"/gpfs/projects/sanlab/shared/DEV/nonbids_data/fMRI/ml/SST/regress_sr_TESQ_E_sum/correct_stop/regress_sr_TESQ_E_sum_84subs_response inhibition_association-test_z_FDR_0.pkl\"\n",
      "sbatch run_sr_learning_script.sbatch ml-ns_on_self_report_batch.py -m \"/gpfs/projects/sanlab/shared/DEV/nonbids_data/fMRI/ml/masks/response_inhibition_related/negative emotions_association-test_z_FDR_0.01.nii.gz\" -t 0 -r TESQ_E_sum -s /gpfs/projects/sanlab/shared/DEV/nonbids_data/fMRI/ml/SST/Brain_Data_conditions_84subs_correct_stop_w_supplementary.pkl -o \"/gpfs/projects/sanlab/shared/DEV/nonbids_data/fMRI/ml/SST/regress_sr_TESQ_E_sum/correct_stop/regress_sr_TESQ_E_sum_84subs_negative emotions_association-test_z_FDR_0.pkl\"\n",
      "sbatch run_sr_learning_script.sbatch ml-ns_on_self_report_batch.py -m \"/gpfs/projects/sanlab/shared/DEV/nonbids_data/fMRI/ml/masks/response_inhibition_related/harvardoxford/harvardoxford-cortical_prob_Superior Frontal Gyrus.nii.gz\" -t 30 -r TESQ_E_distraction -s /gpfs/projects/sanlab/shared/DEV/nonbids_data/fMRI/ml/SST/Brain_Data_conditions_84subs_correct_go_w_supplementary.pkl -o \"/gpfs/projects/sanlab/shared/DEV/nonbids_data/fMRI/ml/SST/regress_sr_TESQ_E_distraction/correct_go/regress_sr_TESQ_E_distraction_84subs_harvardoxford-cortical_prob_Superior Frontal Gyrus.pkl\"\n",
      "sbatch run_sr_learning_script.sbatch ml-ns_on_self_report_batch.py -m \"/gpfs/projects/sanlab/shared/DEV/nonbids_data/fMRI/ml/masks/response_inhibition_related/harvardoxford/harvardoxford-cortical_prob_Frontal Pole.nii.gz\" -t 30 -r TESQ_E_distraction -s /gpfs/projects/sanlab/shared/DEV/nonbids_data/fMRI/ml/SST/Brain_Data_conditions_84subs_correct_go_w_supplementary.pkl -o \"/gpfs/projects/sanlab/shared/DEV/nonbids_data/fMRI/ml/SST/regress_sr_TESQ_E_distraction/correct_go/regress_sr_TESQ_E_distraction_84subs_harvardoxford-cortical_prob_Frontal Pole.pkl\"\n",
      "sbatch run_sr_learning_script.sbatch ml-ns_on_self_report_batch.py -m \"/gpfs/projects/sanlab/shared/DEV/nonbids_data/fMRI/ml/masks/response_inhibition_related/harvardoxford/harvardoxford-cortical_prob_Cingulate Gyrus, posterior division.nii.gz\" -t 30 -r TESQ_E_distraction -s /gpfs/projects/sanlab/shared/DEV/nonbids_data/fMRI/ml/SST/Brain_Data_conditions_84subs_correct_go_w_supplementary.pkl -o \"/gpfs/projects/sanlab/shared/DEV/nonbids_data/fMRI/ml/SST/regress_sr_TESQ_E_distraction/correct_go/regress_sr_TESQ_E_distraction_84subs_harvardoxford-cortical_prob_Cingulate Gyrus, posterior division.pkl\"\n",
      "sbatch run_sr_learning_script.sbatch ml-ns_on_self_report_batch.py -m \"/gpfs/projects/sanlab/shared/DEV/nonbids_data/fMRI/ml/masks/response_inhibition_related/harvardoxford/harvardoxford-cortical_prob_Frontal Orbital Cortex.nii.gz\" -t 30 -r TESQ_E_distraction -s /gpfs/projects/sanlab/shared/DEV/nonbids_data/fMRI/ml/SST/Brain_Data_conditions_84subs_correct_go_w_supplementary.pkl -o \"/gpfs/projects/sanlab/shared/DEV/nonbids_data/fMRI/ml/SST/regress_sr_TESQ_E_distraction/correct_go/regress_sr_TESQ_E_distraction_84subs_harvardoxford-cortical_prob_Frontal Orbital Cortex.pkl\"\n",
      "sbatch run_sr_learning_script.sbatch ml-ns_on_self_report_batch.py -m \"/gpfs/projects/sanlab/shared/DEV/nonbids_data/fMRI/ml/masks/response_inhibition_related/harvardoxford/harvardoxford-cortical_prob_Frontal Operculum Cortex.nii.gz\" -t 30 -r TESQ_E_distraction -s /gpfs/projects/sanlab/shared/DEV/nonbids_data/fMRI/ml/SST/Brain_Data_conditions_84subs_correct_go_w_supplementary.pkl -o \"/gpfs/projects/sanlab/shared/DEV/nonbids_data/fMRI/ml/SST/regress_sr_TESQ_E_distraction/correct_go/regress_sr_TESQ_E_distraction_84subs_harvardoxford-cortical_prob_Frontal Operculum Cortex.pkl\"\n",
      "sbatch run_sr_learning_script.sbatch ml-ns_on_self_report_batch.py -m \"/gpfs/projects/sanlab/shared/DEV/nonbids_data/fMRI/ml/masks/response_inhibition_related/harvardoxford/harvardoxford-cortical_prob_Supramarginal Gyrus, posterior division.nii.gz\" -t 30 -r TESQ_E_distraction -s /gpfs/projects/sanlab/shared/DEV/nonbids_data/fMRI/ml/SST/Brain_Data_conditions_84subs_correct_go_w_supplementary.pkl -o \"/gpfs/projects/sanlab/shared/DEV/nonbids_data/fMRI/ml/SST/regress_sr_TESQ_E_distraction/correct_go/regress_sr_TESQ_E_distraction_84subs_harvardoxford-cortical_prob_Supramarginal Gyrus, posterior division.pkl\"\n",
      "sbatch run_sr_learning_script.sbatch ml-ns_on_self_report_batch.py -m \"/gpfs/projects/sanlab/shared/DEV/nonbids_data/fMRI/ml/masks/response_inhibition_related/harvardoxford/harvardoxford-cortical_prob_Angular Gyrus.nii.gz\" -t 30 -r TESQ_E_distraction -s /gpfs/projects/sanlab/shared/DEV/nonbids_data/fMRI/ml/SST/Brain_Data_conditions_84subs_correct_go_w_supplementary.pkl -o \"/gpfs/projects/sanlab/shared/DEV/nonbids_data/fMRI/ml/SST/regress_sr_TESQ_E_distraction/correct_go/regress_sr_TESQ_E_distraction_84subs_harvardoxford-cortical_prob_Angular Gyrus.pkl\"\n",
      "sbatch run_sr_learning_script.sbatch ml-ns_on_self_report_batch.py -m \"/gpfs/projects/sanlab/shared/DEV/nonbids_data/fMRI/ml/masks/response_inhibition_related/harvardoxford/harvardoxford-cortical_prob_Cingulate Gyrus, anterior division.nii.gz\" -t 30 -r TESQ_E_distraction -s /gpfs/projects/sanlab/shared/DEV/nonbids_data/fMRI/ml/SST/Brain_Data_conditions_84subs_correct_go_w_supplementary.pkl -o \"/gpfs/projects/sanlab/shared/DEV/nonbids_data/fMRI/ml/SST/regress_sr_TESQ_E_distraction/correct_go/regress_sr_TESQ_E_distraction_84subs_harvardoxford-cortical_prob_Cingulate Gyrus, anterior division.pkl\"\n",
      "sbatch run_sr_learning_script.sbatch ml-ns_on_self_report_batch.py -m \"/gpfs/projects/sanlab/shared/DEV/nonbids_data/fMRI/ml/masks/response_inhibition_related/harvardoxford/harvardoxford-cortical_prob_Lateral Occipital Cortex, superior division.nii.gz\" -t 30 -r TESQ_E_distraction -s /gpfs/projects/sanlab/shared/DEV/nonbids_data/fMRI/ml/SST/Brain_Data_conditions_84subs_correct_go_w_supplementary.pkl -o \"/gpfs/projects/sanlab/shared/DEV/nonbids_data/fMRI/ml/SST/regress_sr_TESQ_E_distraction/correct_go/regress_sr_TESQ_E_distraction_84subs_harvardoxford-cortical_prob_Lateral Occipital Cortex, superior division.pkl\"\n",
      "sbatch run_sr_learning_script.sbatch ml-ns_on_self_report_batch.py -m \"/gpfs/projects/sanlab/shared/DEV/nonbids_data/fMRI/ml/masks/response_inhibition_related/harvardoxford/harvardoxford-cortical_prob_Inferior Frontal Gyrus, pars opercularis.nii.gz\" -t 30 -r TESQ_E_distraction -s /gpfs/projects/sanlab/shared/DEV/nonbids_data/fMRI/ml/SST/Brain_Data_conditions_84subs_correct_go_w_supplementary.pkl -o \"/gpfs/projects/sanlab/shared/DEV/nonbids_data/fMRI/ml/SST/regress_sr_TESQ_E_distraction/correct_go/regress_sr_TESQ_E_distraction_84subs_harvardoxford-cortical_prob_Inferior Frontal Gyrus, pars opercularis.pkl\"\n",
      "sbatch run_sr_learning_script.sbatch ml-ns_on_self_report_batch.py -m \"/gpfs/projects/sanlab/shared/DEV/nonbids_data/fMRI/ml/masks/response_inhibition_related/harvardoxford/harvardoxford-cortical_prob_Inferior Frontal Gyrus, pars triangularis.nii.gz\" -t 30 -r TESQ_E_distraction -s /gpfs/projects/sanlab/shared/DEV/nonbids_data/fMRI/ml/SST/Brain_Data_conditions_84subs_correct_go_w_supplementary.pkl -o \"/gpfs/projects/sanlab/shared/DEV/nonbids_data/fMRI/ml/SST/regress_sr_TESQ_E_distraction/correct_go/regress_sr_TESQ_E_distraction_84subs_harvardoxford-cortical_prob_Inferior Frontal Gyrus, pars triangularis.pkl\"\n",
      "sbatch run_sr_learning_script.sbatch ml-ns_on_self_report_batch.py -m \"/gpfs/projects/sanlab/shared/DEV/nonbids_data/fMRI/ml/masks/response_inhibition_related/harvardoxford/harvardoxford-cortical_prob_Insular Cortex.nii.gz\" -t 30 -r TESQ_E_distraction -s /gpfs/projects/sanlab/shared/DEV/nonbids_data/fMRI/ml/SST/Brain_Data_conditions_84subs_correct_go_w_supplementary.pkl -o \"/gpfs/projects/sanlab/shared/DEV/nonbids_data/fMRI/ml/SST/regress_sr_TESQ_E_distraction/correct_go/regress_sr_TESQ_E_distraction_84subs_harvardoxford-cortical_prob_Insular Cortex.pkl\"\n",
      "sbatch run_sr_learning_script.sbatch ml-ns_on_self_report_batch.py -m \"/gpfs/projects/sanlab/shared/DEV/nonbids_data/fMRI/ml/masks/response_inhibition_related/negative affect_association-test_z_FDR_0.01.nii.gz\" -t 0 -r TESQ_E_distraction -s /gpfs/projects/sanlab/shared/DEV/nonbids_data/fMRI/ml/SST/Brain_Data_conditions_84subs_correct_go_w_supplementary.pkl -o \"/gpfs/projects/sanlab/shared/DEV/nonbids_data/fMRI/ml/SST/regress_sr_TESQ_E_distraction/correct_go/regress_sr_TESQ_E_distraction_84subs_negative affect_association-test_z_FDR_0.pkl\"\n",
      "sbatch run_sr_learning_script.sbatch ml-ns_on_self_report_batch.py -m \"/gpfs/projects/sanlab/shared/DEV/nonbids_data/fMRI/ml/masks/response_inhibition_related/response inhibition_association-test_z_FDR_0.01.nii.gz\" -t 0 -r TESQ_E_distraction -s /gpfs/projects/sanlab/shared/DEV/nonbids_data/fMRI/ml/SST/Brain_Data_conditions_84subs_correct_go_w_supplementary.pkl -o \"/gpfs/projects/sanlab/shared/DEV/nonbids_data/fMRI/ml/SST/regress_sr_TESQ_E_distraction/correct_go/regress_sr_TESQ_E_distraction_84subs_response inhibition_association-test_z_FDR_0.pkl\"\n",
      "sbatch run_sr_learning_script.sbatch ml-ns_on_self_report_batch.py -m \"/gpfs/projects/sanlab/shared/DEV/nonbids_data/fMRI/ml/masks/response_inhibition_related/negative emotions_association-test_z_FDR_0.01.nii.gz\" -t 0 -r TESQ_E_distraction -s /gpfs/projects/sanlab/shared/DEV/nonbids_data/fMRI/ml/SST/Brain_Data_conditions_84subs_correct_go_w_supplementary.pkl -o \"/gpfs/projects/sanlab/shared/DEV/nonbids_data/fMRI/ml/SST/regress_sr_TESQ_E_distraction/correct_go/regress_sr_TESQ_E_distraction_84subs_negative emotions_association-test_z_FDR_0.pkl\"\n",
      "sbatch run_sr_learning_script.sbatch ml-ns_on_self_report_batch.py -m \"/gpfs/projects/sanlab/shared/DEV/nonbids_data/fMRI/ml/masks/response_inhibition_related/harvardoxford/harvardoxford-cortical_prob_Superior Frontal Gyrus.nii.gz\" -t 30 -r TESQ_E_distraction -s /gpfs/projects/sanlab/shared/DEV/nonbids_data/fMRI/ml/SST/Brain_Data_conditions_84subs_correct_stop_w_supplementary.pkl -o \"/gpfs/projects/sanlab/shared/DEV/nonbids_data/fMRI/ml/SST/regress_sr_TESQ_E_distraction/correct_stop/regress_sr_TESQ_E_distraction_84subs_harvardoxford-cortical_prob_Superior Frontal Gyrus.pkl\"\n",
      "sbatch run_sr_learning_script.sbatch ml-ns_on_self_report_batch.py -m \"/gpfs/projects/sanlab/shared/DEV/nonbids_data/fMRI/ml/masks/response_inhibition_related/harvardoxford/harvardoxford-cortical_prob_Frontal Pole.nii.gz\" -t 30 -r TESQ_E_distraction -s /gpfs/projects/sanlab/shared/DEV/nonbids_data/fMRI/ml/SST/Brain_Data_conditions_84subs_correct_stop_w_supplementary.pkl -o \"/gpfs/projects/sanlab/shared/DEV/nonbids_data/fMRI/ml/SST/regress_sr_TESQ_E_distraction/correct_stop/regress_sr_TESQ_E_distraction_84subs_harvardoxford-cortical_prob_Frontal Pole.pkl\"\n",
      "sbatch run_sr_learning_script.sbatch ml-ns_on_self_report_batch.py -m \"/gpfs/projects/sanlab/shared/DEV/nonbids_data/fMRI/ml/masks/response_inhibition_related/harvardoxford/harvardoxford-cortical_prob_Cingulate Gyrus, posterior division.nii.gz\" -t 30 -r TESQ_E_distraction -s /gpfs/projects/sanlab/shared/DEV/nonbids_data/fMRI/ml/SST/Brain_Data_conditions_84subs_correct_stop_w_supplementary.pkl -o \"/gpfs/projects/sanlab/shared/DEV/nonbids_data/fMRI/ml/SST/regress_sr_TESQ_E_distraction/correct_stop/regress_sr_TESQ_E_distraction_84subs_harvardoxford-cortical_prob_Cingulate Gyrus, posterior division.pkl\"\n",
      "sbatch run_sr_learning_script.sbatch ml-ns_on_self_report_batch.py -m \"/gpfs/projects/sanlab/shared/DEV/nonbids_data/fMRI/ml/masks/response_inhibition_related/harvardoxford/harvardoxford-cortical_prob_Frontal Orbital Cortex.nii.gz\" -t 30 -r TESQ_E_distraction -s /gpfs/projects/sanlab/shared/DEV/nonbids_data/fMRI/ml/SST/Brain_Data_conditions_84subs_correct_stop_w_supplementary.pkl -o \"/gpfs/projects/sanlab/shared/DEV/nonbids_data/fMRI/ml/SST/regress_sr_TESQ_E_distraction/correct_stop/regress_sr_TESQ_E_distraction_84subs_harvardoxford-cortical_prob_Frontal Orbital Cortex.pkl\"\n",
      "sbatch run_sr_learning_script.sbatch ml-ns_on_self_report_batch.py -m \"/gpfs/projects/sanlab/shared/DEV/nonbids_data/fMRI/ml/masks/response_inhibition_related/harvardoxford/harvardoxford-cortical_prob_Frontal Operculum Cortex.nii.gz\" -t 30 -r TESQ_E_distraction -s /gpfs/projects/sanlab/shared/DEV/nonbids_data/fMRI/ml/SST/Brain_Data_conditions_84subs_correct_stop_w_supplementary.pkl -o \"/gpfs/projects/sanlab/shared/DEV/nonbids_data/fMRI/ml/SST/regress_sr_TESQ_E_distraction/correct_stop/regress_sr_TESQ_E_distraction_84subs_harvardoxford-cortical_prob_Frontal Operculum Cortex.pkl\"\n",
      "sbatch run_sr_learning_script.sbatch ml-ns_on_self_report_batch.py -m \"/gpfs/projects/sanlab/shared/DEV/nonbids_data/fMRI/ml/masks/response_inhibition_related/harvardoxford/harvardoxford-cortical_prob_Supramarginal Gyrus, posterior division.nii.gz\" -t 30 -r TESQ_E_distraction -s /gpfs/projects/sanlab/shared/DEV/nonbids_data/fMRI/ml/SST/Brain_Data_conditions_84subs_correct_stop_w_supplementary.pkl -o \"/gpfs/projects/sanlab/shared/DEV/nonbids_data/fMRI/ml/SST/regress_sr_TESQ_E_distraction/correct_stop/regress_sr_TESQ_E_distraction_84subs_harvardoxford-cortical_prob_Supramarginal Gyrus, posterior division.pkl\"\n",
      "sbatch run_sr_learning_script.sbatch ml-ns_on_self_report_batch.py -m \"/gpfs/projects/sanlab/shared/DEV/nonbids_data/fMRI/ml/masks/response_inhibition_related/harvardoxford/harvardoxford-cortical_prob_Angular Gyrus.nii.gz\" -t 30 -r TESQ_E_distraction -s /gpfs/projects/sanlab/shared/DEV/nonbids_data/fMRI/ml/SST/Brain_Data_conditions_84subs_correct_stop_w_supplementary.pkl -o \"/gpfs/projects/sanlab/shared/DEV/nonbids_data/fMRI/ml/SST/regress_sr_TESQ_E_distraction/correct_stop/regress_sr_TESQ_E_distraction_84subs_harvardoxford-cortical_prob_Angular Gyrus.pkl\"\n",
      "sbatch run_sr_learning_script.sbatch ml-ns_on_self_report_batch.py -m \"/gpfs/projects/sanlab/shared/DEV/nonbids_data/fMRI/ml/masks/response_inhibition_related/harvardoxford/harvardoxford-cortical_prob_Cingulate Gyrus, anterior division.nii.gz\" -t 30 -r TESQ_E_distraction -s /gpfs/projects/sanlab/shared/DEV/nonbids_data/fMRI/ml/SST/Brain_Data_conditions_84subs_correct_stop_w_supplementary.pkl -o \"/gpfs/projects/sanlab/shared/DEV/nonbids_data/fMRI/ml/SST/regress_sr_TESQ_E_distraction/correct_stop/regress_sr_TESQ_E_distraction_84subs_harvardoxford-cortical_prob_Cingulate Gyrus, anterior division.pkl\"\n",
      "sbatch run_sr_learning_script.sbatch ml-ns_on_self_report_batch.py -m \"/gpfs/projects/sanlab/shared/DEV/nonbids_data/fMRI/ml/masks/response_inhibition_related/harvardoxford/harvardoxford-cortical_prob_Lateral Occipital Cortex, superior division.nii.gz\" -t 30 -r TESQ_E_distraction -s /gpfs/projects/sanlab/shared/DEV/nonbids_data/fMRI/ml/SST/Brain_Data_conditions_84subs_correct_stop_w_supplementary.pkl -o \"/gpfs/projects/sanlab/shared/DEV/nonbids_data/fMRI/ml/SST/regress_sr_TESQ_E_distraction/correct_stop/regress_sr_TESQ_E_distraction_84subs_harvardoxford-cortical_prob_Lateral Occipital Cortex, superior division.pkl\"\n",
      "sbatch run_sr_learning_script.sbatch ml-ns_on_self_report_batch.py -m \"/gpfs/projects/sanlab/shared/DEV/nonbids_data/fMRI/ml/masks/response_inhibition_related/harvardoxford/harvardoxford-cortical_prob_Inferior Frontal Gyrus, pars opercularis.nii.gz\" -t 30 -r TESQ_E_distraction -s /gpfs/projects/sanlab/shared/DEV/nonbids_data/fMRI/ml/SST/Brain_Data_conditions_84subs_correct_stop_w_supplementary.pkl -o \"/gpfs/projects/sanlab/shared/DEV/nonbids_data/fMRI/ml/SST/regress_sr_TESQ_E_distraction/correct_stop/regress_sr_TESQ_E_distraction_84subs_harvardoxford-cortical_prob_Inferior Frontal Gyrus, pars opercularis.pkl\"\n",
      "sbatch run_sr_learning_script.sbatch ml-ns_on_self_report_batch.py -m \"/gpfs/projects/sanlab/shared/DEV/nonbids_data/fMRI/ml/masks/response_inhibition_related/harvardoxford/harvardoxford-cortical_prob_Inferior Frontal Gyrus, pars triangularis.nii.gz\" -t 30 -r TESQ_E_distraction -s /gpfs/projects/sanlab/shared/DEV/nonbids_data/fMRI/ml/SST/Brain_Data_conditions_84subs_correct_stop_w_supplementary.pkl -o \"/gpfs/projects/sanlab/shared/DEV/nonbids_data/fMRI/ml/SST/regress_sr_TESQ_E_distraction/correct_stop/regress_sr_TESQ_E_distraction_84subs_harvardoxford-cortical_prob_Inferior Frontal Gyrus, pars triangularis.pkl\"\n",
      "sbatch run_sr_learning_script.sbatch ml-ns_on_self_report_batch.py -m \"/gpfs/projects/sanlab/shared/DEV/nonbids_data/fMRI/ml/masks/response_inhibition_related/harvardoxford/harvardoxford-cortical_prob_Insular Cortex.nii.gz\" -t 30 -r TESQ_E_distraction -s /gpfs/projects/sanlab/shared/DEV/nonbids_data/fMRI/ml/SST/Brain_Data_conditions_84subs_correct_stop_w_supplementary.pkl -o \"/gpfs/projects/sanlab/shared/DEV/nonbids_data/fMRI/ml/SST/regress_sr_TESQ_E_distraction/correct_stop/regress_sr_TESQ_E_distraction_84subs_harvardoxford-cortical_prob_Insular Cortex.pkl\"\n",
      "sbatch run_sr_learning_script.sbatch ml-ns_on_self_report_batch.py -m \"/gpfs/projects/sanlab/shared/DEV/nonbids_data/fMRI/ml/masks/response_inhibition_related/negative affect_association-test_z_FDR_0.01.nii.gz\" -t 0 -r TESQ_E_distraction -s /gpfs/projects/sanlab/shared/DEV/nonbids_data/fMRI/ml/SST/Brain_Data_conditions_84subs_correct_stop_w_supplementary.pkl -o \"/gpfs/projects/sanlab/shared/DEV/nonbids_data/fMRI/ml/SST/regress_sr_TESQ_E_distraction/correct_stop/regress_sr_TESQ_E_distraction_84subs_negative affect_association-test_z_FDR_0.pkl\"\n",
      "sbatch run_sr_learning_script.sbatch ml-ns_on_self_report_batch.py -m \"/gpfs/projects/sanlab/shared/DEV/nonbids_data/fMRI/ml/masks/response_inhibition_related/response inhibition_association-test_z_FDR_0.01.nii.gz\" -t 0 -r TESQ_E_distraction -s /gpfs/projects/sanlab/shared/DEV/nonbids_data/fMRI/ml/SST/Brain_Data_conditions_84subs_correct_stop_w_supplementary.pkl -o \"/gpfs/projects/sanlab/shared/DEV/nonbids_data/fMRI/ml/SST/regress_sr_TESQ_E_distraction/correct_stop/regress_sr_TESQ_E_distraction_84subs_response inhibition_association-test_z_FDR_0.pkl\"\n",
      "sbatch run_sr_learning_script.sbatch ml-ns_on_self_report_batch.py -m \"/gpfs/projects/sanlab/shared/DEV/nonbids_data/fMRI/ml/masks/response_inhibition_related/negative emotions_association-test_z_FDR_0.01.nii.gz\" -t 0 -r TESQ_E_distraction -s /gpfs/projects/sanlab/shared/DEV/nonbids_data/fMRI/ml/SST/Brain_Data_conditions_84subs_correct_stop_w_supplementary.pkl -o \"/gpfs/projects/sanlab/shared/DEV/nonbids_data/fMRI/ml/SST/regress_sr_TESQ_E_distraction/correct_stop/regress_sr_TESQ_E_distraction_84subs_negative emotions_association-test_z_FDR_0.pkl\"\n",
      "sbatch run_sr_learning_script.sbatch ml-ns_on_self_report_batch.py -m \"/gpfs/projects/sanlab/shared/DEV/nonbids_data/fMRI/ml/masks/response_inhibition_related/harvardoxford/harvardoxford-cortical_prob_Superior Frontal Gyrus.nii.gz\" -t 30 -r TESQ_E_suppression -s /gpfs/projects/sanlab/shared/DEV/nonbids_data/fMRI/ml/SST/Brain_Data_conditions_84subs_correct_go_w_supplementary.pkl -o \"/gpfs/projects/sanlab/shared/DEV/nonbids_data/fMRI/ml/SST/regress_sr_TESQ_E_suppression/correct_go/regress_sr_TESQ_E_suppression_84subs_harvardoxford-cortical_prob_Superior Frontal Gyrus.pkl\"\n",
      "sbatch run_sr_learning_script.sbatch ml-ns_on_self_report_batch.py -m \"/gpfs/projects/sanlab/shared/DEV/nonbids_data/fMRI/ml/masks/response_inhibition_related/harvardoxford/harvardoxford-cortical_prob_Frontal Pole.nii.gz\" -t 30 -r TESQ_E_suppression -s /gpfs/projects/sanlab/shared/DEV/nonbids_data/fMRI/ml/SST/Brain_Data_conditions_84subs_correct_go_w_supplementary.pkl -o \"/gpfs/projects/sanlab/shared/DEV/nonbids_data/fMRI/ml/SST/regress_sr_TESQ_E_suppression/correct_go/regress_sr_TESQ_E_suppression_84subs_harvardoxford-cortical_prob_Frontal Pole.pkl\"\n",
      "sbatch run_sr_learning_script.sbatch ml-ns_on_self_report_batch.py -m \"/gpfs/projects/sanlab/shared/DEV/nonbids_data/fMRI/ml/masks/response_inhibition_related/harvardoxford/harvardoxford-cortical_prob_Cingulate Gyrus, posterior division.nii.gz\" -t 30 -r TESQ_E_suppression -s /gpfs/projects/sanlab/shared/DEV/nonbids_data/fMRI/ml/SST/Brain_Data_conditions_84subs_correct_go_w_supplementary.pkl -o \"/gpfs/projects/sanlab/shared/DEV/nonbids_data/fMRI/ml/SST/regress_sr_TESQ_E_suppression/correct_go/regress_sr_TESQ_E_suppression_84subs_harvardoxford-cortical_prob_Cingulate Gyrus, posterior division.pkl\"\n",
      "sbatch run_sr_learning_script.sbatch ml-ns_on_self_report_batch.py -m \"/gpfs/projects/sanlab/shared/DEV/nonbids_data/fMRI/ml/masks/response_inhibition_related/harvardoxford/harvardoxford-cortical_prob_Frontal Orbital Cortex.nii.gz\" -t 30 -r TESQ_E_suppression -s /gpfs/projects/sanlab/shared/DEV/nonbids_data/fMRI/ml/SST/Brain_Data_conditions_84subs_correct_go_w_supplementary.pkl -o \"/gpfs/projects/sanlab/shared/DEV/nonbids_data/fMRI/ml/SST/regress_sr_TESQ_E_suppression/correct_go/regress_sr_TESQ_E_suppression_84subs_harvardoxford-cortical_prob_Frontal Orbital Cortex.pkl\"\n",
      "sbatch run_sr_learning_script.sbatch ml-ns_on_self_report_batch.py -m \"/gpfs/projects/sanlab/shared/DEV/nonbids_data/fMRI/ml/masks/response_inhibition_related/harvardoxford/harvardoxford-cortical_prob_Frontal Operculum Cortex.nii.gz\" -t 30 -r TESQ_E_suppression -s /gpfs/projects/sanlab/shared/DEV/nonbids_data/fMRI/ml/SST/Brain_Data_conditions_84subs_correct_go_w_supplementary.pkl -o \"/gpfs/projects/sanlab/shared/DEV/nonbids_data/fMRI/ml/SST/regress_sr_TESQ_E_suppression/correct_go/regress_sr_TESQ_E_suppression_84subs_harvardoxford-cortical_prob_Frontal Operculum Cortex.pkl\"\n",
      "sbatch run_sr_learning_script.sbatch ml-ns_on_self_report_batch.py -m \"/gpfs/projects/sanlab/shared/DEV/nonbids_data/fMRI/ml/masks/response_inhibition_related/harvardoxford/harvardoxford-cortical_prob_Supramarginal Gyrus, posterior division.nii.gz\" -t 30 -r TESQ_E_suppression -s /gpfs/projects/sanlab/shared/DEV/nonbids_data/fMRI/ml/SST/Brain_Data_conditions_84subs_correct_go_w_supplementary.pkl -o \"/gpfs/projects/sanlab/shared/DEV/nonbids_data/fMRI/ml/SST/regress_sr_TESQ_E_suppression/correct_go/regress_sr_TESQ_E_suppression_84subs_harvardoxford-cortical_prob_Supramarginal Gyrus, posterior division.pkl\"\n",
      "sbatch run_sr_learning_script.sbatch ml-ns_on_self_report_batch.py -m \"/gpfs/projects/sanlab/shared/DEV/nonbids_data/fMRI/ml/masks/response_inhibition_related/harvardoxford/harvardoxford-cortical_prob_Angular Gyrus.nii.gz\" -t 30 -r TESQ_E_suppression -s /gpfs/projects/sanlab/shared/DEV/nonbids_data/fMRI/ml/SST/Brain_Data_conditions_84subs_correct_go_w_supplementary.pkl -o \"/gpfs/projects/sanlab/shared/DEV/nonbids_data/fMRI/ml/SST/regress_sr_TESQ_E_suppression/correct_go/regress_sr_TESQ_E_suppression_84subs_harvardoxford-cortical_prob_Angular Gyrus.pkl\"\n",
      "sbatch run_sr_learning_script.sbatch ml-ns_on_self_report_batch.py -m \"/gpfs/projects/sanlab/shared/DEV/nonbids_data/fMRI/ml/masks/response_inhibition_related/harvardoxford/harvardoxford-cortical_prob_Cingulate Gyrus, anterior division.nii.gz\" -t 30 -r TESQ_E_suppression -s /gpfs/projects/sanlab/shared/DEV/nonbids_data/fMRI/ml/SST/Brain_Data_conditions_84subs_correct_go_w_supplementary.pkl -o \"/gpfs/projects/sanlab/shared/DEV/nonbids_data/fMRI/ml/SST/regress_sr_TESQ_E_suppression/correct_go/regress_sr_TESQ_E_suppression_84subs_harvardoxford-cortical_prob_Cingulate Gyrus, anterior division.pkl\"\n",
      "sbatch run_sr_learning_script.sbatch ml-ns_on_self_report_batch.py -m \"/gpfs/projects/sanlab/shared/DEV/nonbids_data/fMRI/ml/masks/response_inhibition_related/harvardoxford/harvardoxford-cortical_prob_Lateral Occipital Cortex, superior division.nii.gz\" -t 30 -r TESQ_E_suppression -s /gpfs/projects/sanlab/shared/DEV/nonbids_data/fMRI/ml/SST/Brain_Data_conditions_84subs_correct_go_w_supplementary.pkl -o \"/gpfs/projects/sanlab/shared/DEV/nonbids_data/fMRI/ml/SST/regress_sr_TESQ_E_suppression/correct_go/regress_sr_TESQ_E_suppression_84subs_harvardoxford-cortical_prob_Lateral Occipital Cortex, superior division.pkl\"\n",
      "sbatch run_sr_learning_script.sbatch ml-ns_on_self_report_batch.py -m \"/gpfs/projects/sanlab/shared/DEV/nonbids_data/fMRI/ml/masks/response_inhibition_related/harvardoxford/harvardoxford-cortical_prob_Inferior Frontal Gyrus, pars opercularis.nii.gz\" -t 30 -r TESQ_E_suppression -s /gpfs/projects/sanlab/shared/DEV/nonbids_data/fMRI/ml/SST/Brain_Data_conditions_84subs_correct_go_w_supplementary.pkl -o \"/gpfs/projects/sanlab/shared/DEV/nonbids_data/fMRI/ml/SST/regress_sr_TESQ_E_suppression/correct_go/regress_sr_TESQ_E_suppression_84subs_harvardoxford-cortical_prob_Inferior Frontal Gyrus, pars opercularis.pkl\"\n",
      "sbatch run_sr_learning_script.sbatch ml-ns_on_self_report_batch.py -m \"/gpfs/projects/sanlab/shared/DEV/nonbids_data/fMRI/ml/masks/response_inhibition_related/harvardoxford/harvardoxford-cortical_prob_Inferior Frontal Gyrus, pars triangularis.nii.gz\" -t 30 -r TESQ_E_suppression -s /gpfs/projects/sanlab/shared/DEV/nonbids_data/fMRI/ml/SST/Brain_Data_conditions_84subs_correct_go_w_supplementary.pkl -o \"/gpfs/projects/sanlab/shared/DEV/nonbids_data/fMRI/ml/SST/regress_sr_TESQ_E_suppression/correct_go/regress_sr_TESQ_E_suppression_84subs_harvardoxford-cortical_prob_Inferior Frontal Gyrus, pars triangularis.pkl\"\n",
      "sbatch run_sr_learning_script.sbatch ml-ns_on_self_report_batch.py -m \"/gpfs/projects/sanlab/shared/DEV/nonbids_data/fMRI/ml/masks/response_inhibition_related/harvardoxford/harvardoxford-cortical_prob_Insular Cortex.nii.gz\" -t 30 -r TESQ_E_suppression -s /gpfs/projects/sanlab/shared/DEV/nonbids_data/fMRI/ml/SST/Brain_Data_conditions_84subs_correct_go_w_supplementary.pkl -o \"/gpfs/projects/sanlab/shared/DEV/nonbids_data/fMRI/ml/SST/regress_sr_TESQ_E_suppression/correct_go/regress_sr_TESQ_E_suppression_84subs_harvardoxford-cortical_prob_Insular Cortex.pkl\"\n",
      "sbatch run_sr_learning_script.sbatch ml-ns_on_self_report_batch.py -m \"/gpfs/projects/sanlab/shared/DEV/nonbids_data/fMRI/ml/masks/response_inhibition_related/negative affect_association-test_z_FDR_0.01.nii.gz\" -t 0 -r TESQ_E_suppression -s /gpfs/projects/sanlab/shared/DEV/nonbids_data/fMRI/ml/SST/Brain_Data_conditions_84subs_correct_go_w_supplementary.pkl -o \"/gpfs/projects/sanlab/shared/DEV/nonbids_data/fMRI/ml/SST/regress_sr_TESQ_E_suppression/correct_go/regress_sr_TESQ_E_suppression_84subs_negative affect_association-test_z_FDR_0.pkl\"\n",
      "sbatch run_sr_learning_script.sbatch ml-ns_on_self_report_batch.py -m \"/gpfs/projects/sanlab/shared/DEV/nonbids_data/fMRI/ml/masks/response_inhibition_related/response inhibition_association-test_z_FDR_0.01.nii.gz\" -t 0 -r TESQ_E_suppression -s /gpfs/projects/sanlab/shared/DEV/nonbids_data/fMRI/ml/SST/Brain_Data_conditions_84subs_correct_go_w_supplementary.pkl -o \"/gpfs/projects/sanlab/shared/DEV/nonbids_data/fMRI/ml/SST/regress_sr_TESQ_E_suppression/correct_go/regress_sr_TESQ_E_suppression_84subs_response inhibition_association-test_z_FDR_0.pkl\"\n",
      "sbatch run_sr_learning_script.sbatch ml-ns_on_self_report_batch.py -m \"/gpfs/projects/sanlab/shared/DEV/nonbids_data/fMRI/ml/masks/response_inhibition_related/negative emotions_association-test_z_FDR_0.01.nii.gz\" -t 0 -r TESQ_E_suppression -s /gpfs/projects/sanlab/shared/DEV/nonbids_data/fMRI/ml/SST/Brain_Data_conditions_84subs_correct_go_w_supplementary.pkl -o \"/gpfs/projects/sanlab/shared/DEV/nonbids_data/fMRI/ml/SST/regress_sr_TESQ_E_suppression/correct_go/regress_sr_TESQ_E_suppression_84subs_negative emotions_association-test_z_FDR_0.pkl\"\n",
      "sbatch run_sr_learning_script.sbatch ml-ns_on_self_report_batch.py -m \"/gpfs/projects/sanlab/shared/DEV/nonbids_data/fMRI/ml/masks/response_inhibition_related/harvardoxford/harvardoxford-cortical_prob_Superior Frontal Gyrus.nii.gz\" -t 30 -r TESQ_E_suppression -s /gpfs/projects/sanlab/shared/DEV/nonbids_data/fMRI/ml/SST/Brain_Data_conditions_84subs_correct_stop_w_supplementary.pkl -o \"/gpfs/projects/sanlab/shared/DEV/nonbids_data/fMRI/ml/SST/regress_sr_TESQ_E_suppression/correct_stop/regress_sr_TESQ_E_suppression_84subs_harvardoxford-cortical_prob_Superior Frontal Gyrus.pkl\"\n",
      "sbatch run_sr_learning_script.sbatch ml-ns_on_self_report_batch.py -m \"/gpfs/projects/sanlab/shared/DEV/nonbids_data/fMRI/ml/masks/response_inhibition_related/harvardoxford/harvardoxford-cortical_prob_Frontal Pole.nii.gz\" -t 30 -r TESQ_E_suppression -s /gpfs/projects/sanlab/shared/DEV/nonbids_data/fMRI/ml/SST/Brain_Data_conditions_84subs_correct_stop_w_supplementary.pkl -o \"/gpfs/projects/sanlab/shared/DEV/nonbids_data/fMRI/ml/SST/regress_sr_TESQ_E_suppression/correct_stop/regress_sr_TESQ_E_suppression_84subs_harvardoxford-cortical_prob_Frontal Pole.pkl\"\n",
      "sbatch run_sr_learning_script.sbatch ml-ns_on_self_report_batch.py -m \"/gpfs/projects/sanlab/shared/DEV/nonbids_data/fMRI/ml/masks/response_inhibition_related/harvardoxford/harvardoxford-cortical_prob_Cingulate Gyrus, posterior division.nii.gz\" -t 30 -r TESQ_E_suppression -s /gpfs/projects/sanlab/shared/DEV/nonbids_data/fMRI/ml/SST/Brain_Data_conditions_84subs_correct_stop_w_supplementary.pkl -o \"/gpfs/projects/sanlab/shared/DEV/nonbids_data/fMRI/ml/SST/regress_sr_TESQ_E_suppression/correct_stop/regress_sr_TESQ_E_suppression_84subs_harvardoxford-cortical_prob_Cingulate Gyrus, posterior division.pkl\"\n",
      "sbatch run_sr_learning_script.sbatch ml-ns_on_self_report_batch.py -m \"/gpfs/projects/sanlab/shared/DEV/nonbids_data/fMRI/ml/masks/response_inhibition_related/harvardoxford/harvardoxford-cortical_prob_Frontal Orbital Cortex.nii.gz\" -t 30 -r TESQ_E_suppression -s /gpfs/projects/sanlab/shared/DEV/nonbids_data/fMRI/ml/SST/Brain_Data_conditions_84subs_correct_stop_w_supplementary.pkl -o \"/gpfs/projects/sanlab/shared/DEV/nonbids_data/fMRI/ml/SST/regress_sr_TESQ_E_suppression/correct_stop/regress_sr_TESQ_E_suppression_84subs_harvardoxford-cortical_prob_Frontal Orbital Cortex.pkl\"\n",
      "sbatch run_sr_learning_script.sbatch ml-ns_on_self_report_batch.py -m \"/gpfs/projects/sanlab/shared/DEV/nonbids_data/fMRI/ml/masks/response_inhibition_related/harvardoxford/harvardoxford-cortical_prob_Frontal Operculum Cortex.nii.gz\" -t 30 -r TESQ_E_suppression -s /gpfs/projects/sanlab/shared/DEV/nonbids_data/fMRI/ml/SST/Brain_Data_conditions_84subs_correct_stop_w_supplementary.pkl -o \"/gpfs/projects/sanlab/shared/DEV/nonbids_data/fMRI/ml/SST/regress_sr_TESQ_E_suppression/correct_stop/regress_sr_TESQ_E_suppression_84subs_harvardoxford-cortical_prob_Frontal Operculum Cortex.pkl\"\n",
      "sbatch run_sr_learning_script.sbatch ml-ns_on_self_report_batch.py -m \"/gpfs/projects/sanlab/shared/DEV/nonbids_data/fMRI/ml/masks/response_inhibition_related/harvardoxford/harvardoxford-cortical_prob_Supramarginal Gyrus, posterior division.nii.gz\" -t 30 -r TESQ_E_suppression -s /gpfs/projects/sanlab/shared/DEV/nonbids_data/fMRI/ml/SST/Brain_Data_conditions_84subs_correct_stop_w_supplementary.pkl -o \"/gpfs/projects/sanlab/shared/DEV/nonbids_data/fMRI/ml/SST/regress_sr_TESQ_E_suppression/correct_stop/regress_sr_TESQ_E_suppression_84subs_harvardoxford-cortical_prob_Supramarginal Gyrus, posterior division.pkl\"\n",
      "sbatch run_sr_learning_script.sbatch ml-ns_on_self_report_batch.py -m \"/gpfs/projects/sanlab/shared/DEV/nonbids_data/fMRI/ml/masks/response_inhibition_related/harvardoxford/harvardoxford-cortical_prob_Angular Gyrus.nii.gz\" -t 30 -r TESQ_E_suppression -s /gpfs/projects/sanlab/shared/DEV/nonbids_data/fMRI/ml/SST/Brain_Data_conditions_84subs_correct_stop_w_supplementary.pkl -o \"/gpfs/projects/sanlab/shared/DEV/nonbids_data/fMRI/ml/SST/regress_sr_TESQ_E_suppression/correct_stop/regress_sr_TESQ_E_suppression_84subs_harvardoxford-cortical_prob_Angular Gyrus.pkl\"\n",
      "sbatch run_sr_learning_script.sbatch ml-ns_on_self_report_batch.py -m \"/gpfs/projects/sanlab/shared/DEV/nonbids_data/fMRI/ml/masks/response_inhibition_related/harvardoxford/harvardoxford-cortical_prob_Cingulate Gyrus, anterior division.nii.gz\" -t 30 -r TESQ_E_suppression -s /gpfs/projects/sanlab/shared/DEV/nonbids_data/fMRI/ml/SST/Brain_Data_conditions_84subs_correct_stop_w_supplementary.pkl -o \"/gpfs/projects/sanlab/shared/DEV/nonbids_data/fMRI/ml/SST/regress_sr_TESQ_E_suppression/correct_stop/regress_sr_TESQ_E_suppression_84subs_harvardoxford-cortical_prob_Cingulate Gyrus, anterior division.pkl\"\n",
      "sbatch run_sr_learning_script.sbatch ml-ns_on_self_report_batch.py -m \"/gpfs/projects/sanlab/shared/DEV/nonbids_data/fMRI/ml/masks/response_inhibition_related/harvardoxford/harvardoxford-cortical_prob_Lateral Occipital Cortex, superior division.nii.gz\" -t 30 -r TESQ_E_suppression -s /gpfs/projects/sanlab/shared/DEV/nonbids_data/fMRI/ml/SST/Brain_Data_conditions_84subs_correct_stop_w_supplementary.pkl -o \"/gpfs/projects/sanlab/shared/DEV/nonbids_data/fMRI/ml/SST/regress_sr_TESQ_E_suppression/correct_stop/regress_sr_TESQ_E_suppression_84subs_harvardoxford-cortical_prob_Lateral Occipital Cortex, superior division.pkl\"\n",
      "sbatch run_sr_learning_script.sbatch ml-ns_on_self_report_batch.py -m \"/gpfs/projects/sanlab/shared/DEV/nonbids_data/fMRI/ml/masks/response_inhibition_related/harvardoxford/harvardoxford-cortical_prob_Inferior Frontal Gyrus, pars opercularis.nii.gz\" -t 30 -r TESQ_E_suppression -s /gpfs/projects/sanlab/shared/DEV/nonbids_data/fMRI/ml/SST/Brain_Data_conditions_84subs_correct_stop_w_supplementary.pkl -o \"/gpfs/projects/sanlab/shared/DEV/nonbids_data/fMRI/ml/SST/regress_sr_TESQ_E_suppression/correct_stop/regress_sr_TESQ_E_suppression_84subs_harvardoxford-cortical_prob_Inferior Frontal Gyrus, pars opercularis.pkl\"\n",
      "sbatch run_sr_learning_script.sbatch ml-ns_on_self_report_batch.py -m \"/gpfs/projects/sanlab/shared/DEV/nonbids_data/fMRI/ml/masks/response_inhibition_related/harvardoxford/harvardoxford-cortical_prob_Inferior Frontal Gyrus, pars triangularis.nii.gz\" -t 30 -r TESQ_E_suppression -s /gpfs/projects/sanlab/shared/DEV/nonbids_data/fMRI/ml/SST/Brain_Data_conditions_84subs_correct_stop_w_supplementary.pkl -o \"/gpfs/projects/sanlab/shared/DEV/nonbids_data/fMRI/ml/SST/regress_sr_TESQ_E_suppression/correct_stop/regress_sr_TESQ_E_suppression_84subs_harvardoxford-cortical_prob_Inferior Frontal Gyrus, pars triangularis.pkl\"\n",
      "sbatch run_sr_learning_script.sbatch ml-ns_on_self_report_batch.py -m \"/gpfs/projects/sanlab/shared/DEV/nonbids_data/fMRI/ml/masks/response_inhibition_related/harvardoxford/harvardoxford-cortical_prob_Insular Cortex.nii.gz\" -t 30 -r TESQ_E_suppression -s /gpfs/projects/sanlab/shared/DEV/nonbids_data/fMRI/ml/SST/Brain_Data_conditions_84subs_correct_stop_w_supplementary.pkl -o \"/gpfs/projects/sanlab/shared/DEV/nonbids_data/fMRI/ml/SST/regress_sr_TESQ_E_suppression/correct_stop/regress_sr_TESQ_E_suppression_84subs_harvardoxford-cortical_prob_Insular Cortex.pkl\"\n",
      "sbatch run_sr_learning_script.sbatch ml-ns_on_self_report_batch.py -m \"/gpfs/projects/sanlab/shared/DEV/nonbids_data/fMRI/ml/masks/response_inhibition_related/negative affect_association-test_z_FDR_0.01.nii.gz\" -t 0 -r TESQ_E_suppression -s /gpfs/projects/sanlab/shared/DEV/nonbids_data/fMRI/ml/SST/Brain_Data_conditions_84subs_correct_stop_w_supplementary.pkl -o \"/gpfs/projects/sanlab/shared/DEV/nonbids_data/fMRI/ml/SST/regress_sr_TESQ_E_suppression/correct_stop/regress_sr_TESQ_E_suppression_84subs_negative affect_association-test_z_FDR_0.pkl\"\n",
      "sbatch run_sr_learning_script.sbatch ml-ns_on_self_report_batch.py -m \"/gpfs/projects/sanlab/shared/DEV/nonbids_data/fMRI/ml/masks/response_inhibition_related/response inhibition_association-test_z_FDR_0.01.nii.gz\" -t 0 -r TESQ_E_suppression -s /gpfs/projects/sanlab/shared/DEV/nonbids_data/fMRI/ml/SST/Brain_Data_conditions_84subs_correct_stop_w_supplementary.pkl -o \"/gpfs/projects/sanlab/shared/DEV/nonbids_data/fMRI/ml/SST/regress_sr_TESQ_E_suppression/correct_stop/regress_sr_TESQ_E_suppression_84subs_response inhibition_association-test_z_FDR_0.pkl\"\n",
      "sbatch run_sr_learning_script.sbatch ml-ns_on_self_report_batch.py -m \"/gpfs/projects/sanlab/shared/DEV/nonbids_data/fMRI/ml/masks/response_inhibition_related/negative emotions_association-test_z_FDR_0.01.nii.gz\" -t 0 -r TESQ_E_suppression -s /gpfs/projects/sanlab/shared/DEV/nonbids_data/fMRI/ml/SST/Brain_Data_conditions_84subs_correct_stop_w_supplementary.pkl -o \"/gpfs/projects/sanlab/shared/DEV/nonbids_data/fMRI/ml/SST/regress_sr_TESQ_E_suppression/correct_stop/regress_sr_TESQ_E_suppression_84subs_negative emotions_association-test_z_FDR_0.pkl\"\n"
     ]
    }
   ],
   "source": [
    "\n",
    "\n",
    "for self_report_regression_var in ['TESQ_E_sum', 'TESQ_E_distraction','TESQ_E_suppression']:\n",
    "    regression_output_folderpath = ml_data_folderpath + \"/SST/regress_sr_\" + self_report_regression_var\n",
    "    if os.path.exists(regression_output_folderpath)==False:\n",
    "        os.mkdir(regression_output_folderpath)\n",
    "    for source_dataset_name in ['correct_go','correct_stop']:\n",
    "        source_output_folderpath = regression_output_folderpath + \"/\" + source_dataset_name\n",
    "        if os.path.exists(source_output_folderpath)==False:\n",
    "            os.mkdir(source_output_folderpath)\n",
    "        for mlr_i, mlr in mask_list.iterrows():\n",
    "            #print(mlr['filename'])\n",
    "            results_filepath=(\n",
    "                source_output_folderpath + \n",
    "                \"/regress_sr_\" + self_report_regression_var + \"_84subs_\" + \n",
    "                mlr['name'] + \".pkl\"\n",
    "            )\n",
    "            print(\"sbatch run_sr_learning_script.sbatch ml-ns_on_self_report_batch.py\" + \n",
    "                  \" -m \\\"\" + mlr['filepath'] + \"\\\"\" + \n",
    "                  \" -t \" + str(mlr['threshold']) + \n",
    "                  \" -r \" + self_report_regression_var + \n",
    "                  \" -s \" + '/SST/Brain_Data_conditions_84subs_' + source_dataset_name + '_w_supplementary.pkl' +\n",
    "                  \" -o \\\"\" + results_filepath + \"\\\"\")\n",
    "        \n",
    "#             do_complete_sr_regression_analysis_for_mask(\n",
    "#                 self_report_regression_var = self_report_regression_var,\n",
    "#                 mask_filepath = mlr['filepath'],\n",
    "#                 mask_threshold = mlr['threshold'],\n",
    "#                 results_filepath = results_filepath,\n",
    "#                 source_dataset_relpath = '/SST/Brain_Data_conditions_84subs_' + source_dataset_name + '_w_supplementary.pkl'\n",
    "#             )\n",
    "         "
   ]
  },
  {
   "cell_type": "markdown",
   "id": "opposite-hindu",
   "metadata": {},
   "source": [
    "## Using the concatenated image version\n",
    "\n",
    "So I wrote some code to concatenate two different images. This will allow us to train a learner that reads off both CorrectGo and CorrectStop, _separately_, and then pick the best voxels across the group for prediction.\n",
    "\n",
    "Let's create new input files at the previous step, at `load_multisubject_brain_data_ssw_w1-conditions.ipynb`. Then we can just input the revised data and run it as its own file."
   ]
  },
  {
   "cell_type": "code",
   "execution_count": null,
   "id": "cordless-sarah",
   "metadata": {},
   "outputs": [],
   "source": []
  }
 ],
 "metadata": {
  "kernelspec": {
   "display_name": "Python [conda env:.conda-neuralsignature]",
   "language": "python",
   "name": "conda-env-.conda-neuralsignature-py"
  },
  "language_info": {
   "codemirror_mode": {
    "name": "ipython",
    "version": 3
   },
   "file_extension": ".py",
   "mimetype": "text/x-python",
   "name": "python",
   "nbconvert_exporter": "python",
   "pygments_lexer": "ipython3",
   "version": "3.8.5"
  }
 },
 "nbformat": 4,
 "nbformat_minor": 5
}
