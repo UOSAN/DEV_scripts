{
 "cells": [
  {
   "cell_type": "markdown",
   "id": "referenced-ability",
   "metadata": {},
   "source": [
    "# SST Individual Discriminability\n",
    "\n",
    "This notebook measures discriminability of conditions for each subject, within runs.\n",
    "\n",
    "It then takes the average discriminability across any multiple runs (I don't think we have them though).\n",
    "\n",
    "Then we can compare discriminability against other subject-level variables.\n",
    "\n"
   ]
  },
  {
   "cell_type": "markdown",
   "id": "handy-parade",
   "metadata": {},
   "source": [
    "Something similar was previously been done in `rsa_within_subj.ipynb`; it took similarity between matrices representing the averages of GNG and compared them intra-class similarity.\n",
    "\n",
    "That file doesn't take the next step of trying to see how that similarity score might measure up against across-subject variables; it seems, because I did not find good evidence that intrasimilarity was actually higher than interclass similarity.\n",
    "\n",
    "Conclusions:\n",
    "\n",
    " - maybe I should have tried discriminability, not just similarity\n",
    " - If we're interested in discriminability, then running an ML algorithm should be superior?\n",
    " - But don't rule out going back to similarity."
   ]
  },
  {
   "cell_type": "markdown",
   "id": "reliable-trader",
   "metadata": {},
   "source": [
    "### General set-up"
   ]
  },
  {
   "cell_type": "markdown",
   "id": "explicit-worker",
   "metadata": {},
   "source": [
    "## TESQ"
   ]
  },
  {
   "cell_type": "markdown",
   "id": "radical-procurement",
   "metadata": {},
   "source": [
    "### TESQ Machine learning set-up\n",
    "\n",
    "Some of the below can probably be moved to \"general set-up\" as appropriate."
   ]
  },
  {
   "cell_type": "code",
   "execution_count": 1,
   "id": "ambient-basics",
   "metadata": {},
   "outputs": [
    {
     "name": "stdout",
     "output_type": "stream",
     "text": [
      "python initialized for apply_loocv_and_save\n"
     ]
    },
    {
     "name": "stderr",
     "output_type": "stream",
     "text": [
      "/home/bsmith16/.conda/envs/neuralsignature/lib/python3.8/site-packages/nilearn/datasets/__init__.py:87: FutureWarning: Fetchers from the nilearn.datasets module will be updated in version 0.9 to return python strings instead of bytes and Pandas dataframes instead of Numpy arrays.\n",
      "  warn(\"Fetchers from the nilearn.datasets module will be \"\n"
     ]
    },
    {
     "name": "stdout",
     "output_type": "stream",
     "text": [
      "28 25\n",
      "28\n"
     ]
    }
   ],
   "source": [
    "from discriminability_tools import *"
   ]
  },
  {
   "cell_type": "code",
   "execution_count": 2,
   "id": "familiar-caution",
   "metadata": {},
   "outputs": [],
   "source": [
    "import pickle\n",
    "from IPython.core.display import display, HTML, Markdown\n",
    "from nilearn.decoding import Decoder\n",
    "from sklearn.model_selection import StratifiedKFold\n",
    "from random import randint\n",
    "import math"
   ]
  },
  {
   "cell_type": "code",
   "execution_count": 3,
   "id": "historical-problem",
   "metadata": {},
   "outputs": [],
   "source": [
    "import sys\n",
    "import os\n",
    "import pandas as pd\n",
    "import gc\n",
    "\n",
    "sys.path.append(os.path.abspath(\"../../ml/\"))\n",
    "\n",
    "from apply_loocv_and_save import *\n",
    "from dev_wtp_io_utils import *\n",
    "import gc\n",
    "import nibabel as nib\n",
    "\n",
    "from os import path\n",
    "\n",
    "\n",
    "\n",
    "nonbids_data_path = \"/gpfs/projects/sanlab/shared/DEV/nonbids_data/\"\n",
    "ml_data_folderpath = \"/gpfs/projects/sanlab/shared/DEV/nonbids_data/fMRI/ml\"\n",
    "train_test_markers_filepath = ml_data_folderpath + \"/train_test_markers_20210601T183243.csv\"\n",
    "test_train_df = pd.read_csv(train_test_markers_filepath)\n",
    "\n",
    "all_sst_events= pd.read_csv(ml_data_folderpath +\"/SST/\" + \"all_sst_events.csv\")\n",
    "\n",
    "\n",
    "dataset_name = 'conditions'\n",
    "\n",
    "from nilearn.decoding import DecoderRegressor, Decoder\n",
    "\n",
    "script_path = '/gpfs/projects/sanlab/shared/DEV/DEV_scripts/fMRI/ml'\n",
    "# HRF 2s\n",
    "\n",
    "#get a PFC mask\n",
    "#pfc_mask = create_mask_from_images(get_pfc_image_filepaths(ml_data_folderpath + \"/\"),threshold=10)\n",
    "\n",
    "\n",
    "def trialtype_resp_trans_func(X):\n",
    "    return(X.trial_type)\n",
    "\n"
   ]
  },
  {
   "cell_type": "code",
   "execution_count": 4,
   "id": "acoustic-peeing",
   "metadata": {},
   "outputs": [
    {
     "name": "stdout",
     "output_type": "stream",
     "text": [
      "4\n"
     ]
    }
   ],
   "source": [
    "\n",
    "cpus_available = int(os.getenv('CPUS_PER_TASK'))\n",
    "#custom thing I have set in my jupyter notebook task.\n",
    "print(cpus_available)\n",
    "cpus_to_use = cpus_available-1"
   ]
  },
  {
   "cell_type": "markdown",
   "id": "disciplinary-sperm",
   "metadata": {},
   "source": [
    "### TESQ Analysis set-up"
   ]
  },
  {
   "cell_type": "code",
   "execution_count": 5,
   "id": "premium-agreement",
   "metadata": {},
   "outputs": [],
   "source": [
    "from analyze_results import remove_selected_outliers\n",
    "from scipy.stats import pearsonr,spearmanr\n",
    "from matplotlib import pyplot\n",
    "\n",
    "def remove_selected_outliers_tesq_study(ind_div_combined,show_plot=False):\n",
    "    idc_outliers_removed = remove_selected_outliers(ind_div_combined,\n",
    "    ['discriminability_overfit_accuracy','discriminability_mean_cv_scores',\n",
    "        'BFI_extraversion','RMQ_locomotion','ses_aggregate','PLAN_cognitive_strategies',\n",
    "     'SST_SSRT','BIS_11','BSCS','TESQ_E_suppression', 'TESQ_E_avoidance_of_temptations', \n",
    "     'TESQ_E_goal_deliberation', 'TESQ_E_controlling_temptations', 'TESQ_E_distraction',\n",
    "     'TESQ_E_goal_and_rule_setting','EDM','RS','TRSQ','ROC_Crave_Regulate_Minus_Look',\n",
    "     'SRHI_unhealthy',\n",
    "     'cancer_promoting_minus_preventing_FFQ','bf_1'],\n",
    "    show_plot=show_plot)\n",
    "    return(idc_outliers_removed)\n",
    "\n",
    "def display_discriminability_correlations(ind_div_combined_3sd):\n",
    "    for neural_var in ['discriminability_overfit_accuracy','discriminability_mean_cv_scores']:\n",
    "        display(Markdown(\"### \" + neural_var))\n",
    "        for correlate in ['BFI_extraversion','RMQ_locomotion','ses_aggregate','PLAN_cognitive_strategies',\n",
    "                          'SST_SSRT','BIS_11','BSCS',\n",
    "                          'TESQ_E_suppression', 'TESQ_E_avoidance_of_temptations', \n",
    "                          'TESQ_E_goal_deliberation', 'TESQ_E_controlling_temptations', 'TESQ_E_distraction',\n",
    "                          'TESQ_E_goal_and_rule_setting',\n",
    "                        'EDM','RS','TRSQ','ROC_Crave_Regulate_Minus_Look','SRHI_unhealthy']:\n",
    "            display(Markdown(\"#### \" + correlate))\n",
    "            nan_rows = np.isnan(ind_div_combined_3sd[correlate]) | np.isnan(ind_div_combined_3sd[neural_var])\n",
    "            cor2way_df = ind_div_combined_3sd.loc[nan_rows==False,]\n",
    "            pearson_result = pearsonr(cor2way_df[neural_var],cor2way_df[correlate])\n",
    "            display(HTML(\"r=\" + format(pearson_result[0],\".2f\") +\"; p-value=\" + format(pearson_result[1],\".4f\")))\n",
    "            spearman_result = spearmanr(cor2way_df[neural_var],cor2way_df[correlate])\n",
    "            display(HTML(\"rho=\" + format(spearman_result[0],\".2f\") +\"; p-value=\" + format(spearman_result[1],\".4f\")))\n",
    "            cplot = pyplot.scatter(cor2way_df[neural_var],cor2way_df[correlate])\n",
    "            cplot.axes.set_xlabel(neural_var)\n",
    "            cplot.axes.ylabel=correlate\n",
    "            pyplot.show()"
   ]
  },
  {
   "cell_type": "markdown",
   "id": "fossil-sessions",
   "metadata": {},
   "source": [
    "## pfc only"
   ]
  },
  {
   "cell_type": "code",
   "execution_count": 6,
   "id": "juvenile-liverpool",
   "metadata": {},
   "outputs": [],
   "source": [
    "dataset_name = 'conditions'\n",
    "\n",
    "\n",
    "brain_data_filepath = ml_data_folderpath + '/SST/Brain_Data_betaseries_84subs_correct_cond.pkl'\n",
    "#brain_data_filepath = ml_data_folderpath + '/SST/Brain_Data_betaseries_58subs_correct_cond.pkl'\n",
    "#brain_data_filepath = ml_data_folderpath + '/SST/Brain_Data_conditions_43subs_correct_cond.pkl'\n",
    "\n",
    "# def decoderConstructor(*args, **kwargs):\n",
    "#     return(Decoder(scoring='accuracy',verbose=0, *args, **kwargs))"
   ]
  },
  {
   "cell_type": "code",
   "execution_count": 7,
   "id": "dominant-mobility",
   "metadata": {},
   "outputs": [
    {
     "name": "stdout",
     "output_type": "stream",
     "text": [
      "(8, 238955)\n",
      "2\n"
     ]
    }
   ],
   "source": [
    "pfc_mask = create_mask_from_images(get_pfc_image_filepaths(ml_data_folderpath + \"/\"),threshold=10)\n",
    "relevant_mask = pfc_mask\n"
   ]
  },
  {
   "cell_type": "code",
   "execution_count": 8,
   "id": "round-harrison",
   "metadata": {},
   "outputs": [
    {
     "name": "stdout",
     "output_type": "stream",
     "text": [
      "checked for intersection and no intersection between the brain data and the subjects was found.\n",
      "there were 58 subjects overlapping between the subjects marked for train data and the training dump file itself.\n",
      "test_train_set: 9549\n",
      "pkl_file: 168\n",
      "brain_data_filepath: 152\n",
      "train_test_markers_filepath: 141\n",
      "response_transform_func: 136\n",
      "sys: 72\n",
      "Brain_Data_allsubs: 48\n",
      "clean: 16\n",
      "subjs_to_use: 16\n"
     ]
    },
    {
     "name": "stderr",
     "output_type": "stream",
     "text": [
      "/gpfs/projects/sanlab/shared/DEV/DEV_scripts/fMRI/ml/apply_loocv_and_save.py:209: SettingWithCopyWarning: \n",
      "A value is trying to be set on a copy of a slice from a DataFrame\n",
      "\n",
      "See the caveats in the documentation: https://pandas.pydata.org/pandas-docs/stable/user_guide/indexing.html#returning-a-view-versus-a-copy\n",
      "  Brain_Data_allsubs.Y[Brain_Data_allsubs.Y=='NULL']=None\n"
     ]
    },
    {
     "name": "stdout",
     "output_type": "stream",
     "text": [
      "9037\n",
      "9037\n"
     ]
    },
    {
     "data": {
      "text/plain": [
       "0"
      ]
     },
     "execution_count": 8,
     "metadata": {},
     "output_type": "execute_result"
    }
   ],
   "source": [
    "all_subjects = load_and_preprocess(\n",
    "    brain_data_filepath,\n",
    "    train_test_markers_filepath,\n",
    "    subjs_to_use = None,\n",
    "    response_transform_func = trialtype_resp_trans_func,\n",
    "    clean=None)\n",
    "\n",
    "all_subjects['groups']\n",
    "\n",
    "subj_list = np.unique(all_subjects['groups'])\n",
    "\n",
    "del all_subjects\n",
    "gc.collect()"
   ]
  },
  {
   "cell_type": "code",
   "execution_count": 9,
   "id": "increasing-supplement",
   "metadata": {},
   "outputs": [
    {
     "data": {
      "text/markdown": [
       "DEV005"
      ],
      "text/plain": [
       "<IPython.core.display.Markdown object>"
      ]
     },
     "metadata": {},
     "output_type": "display_data"
    },
    {
     "name": "stdout",
     "output_type": "stream",
     "text": [
      "/gpfs/projects/sanlab/shared/DEV/nonbids_data/fMRI/ml/SST/discriminability_cache/v_1_pfc/dtt_results_DEV005.pkl\n"
     ]
    },
    {
     "data": {
      "text/markdown": [
       "pre-loaded."
      ],
      "text/plain": [
       "<IPython.core.display.Markdown object>"
      ]
     },
     "metadata": {},
     "output_type": "display_data"
    },
    {
     "data": {
      "text/markdown": [
       "DEV006"
      ],
      "text/plain": [
       "<IPython.core.display.Markdown object>"
      ]
     },
     "metadata": {},
     "output_type": "display_data"
    },
    {
     "name": "stdout",
     "output_type": "stream",
     "text": [
      "/gpfs/projects/sanlab/shared/DEV/nonbids_data/fMRI/ml/SST/discriminability_cache/v_1_pfc/dtt_results_DEV006.pkl\n"
     ]
    },
    {
     "data": {
      "text/markdown": [
       "loading subject DEV006"
      ],
      "text/plain": [
       "<IPython.core.display.Markdown object>"
      ]
     },
     "metadata": {},
     "output_type": "display_data"
    },
    {
     "name": "stdout",
     "output_type": "stream",
     "text": [
      "checked for intersection and no intersection between the brain data and the subjects was found.\n",
      "there were 58 subjects overlapping between the subjects marked for train data and the training dump file itself.\n",
      "test_train_set: 9549\n",
      "pkl_file: 168\n",
      "brain_data_filepath: 152\n",
      "train_test_markers_filepath: 141\n",
      "response_transform_func: 136\n",
      "sys: 72\n",
      "subjs_to_use: 64\n",
      "clean: 60\n",
      "Brain_Data_allsubs: 48\n"
     ]
    },
    {
     "name": "stderr",
     "output_type": "stream",
     "text": [
      "/gpfs/projects/sanlab/shared/DEV/DEV_scripts/fMRI/ml/apply_loocv_and_save.py:202: SettingWithCopyWarning: \n",
      "A value is trying to be set on a copy of a slice from a DataFrame\n",
      "\n",
      "See the caveats in the documentation: https://pandas.pydata.org/pandas-docs/stable/user_guide/indexing.html#returning-a-view-versus-a-copy\n",
      "  Brain_Data_allsubs.Y[Brain_Data_allsubs.Y=='NULL']=None\n"
     ]
    },
    {
     "name": "stdout",
     "output_type": "stream",
     "text": [
      "9037\n",
      "9037\n"
     ]
    },
    {
     "data": {
      "text/plain": [
       "correct-go      92\n",
       "correct-stop    18\n",
       "Name: trial_type, dtype: int64"
      ]
     },
     "metadata": {},
     "output_type": "display_data"
    },
    {
     "data": {
      "text/markdown": [
       "setting up decoder..."
      ],
      "text/plain": [
       "<IPython.core.display.Markdown object>"
      ]
     },
     "metadata": {},
     "output_type": "display_data"
    },
    {
     "data": {
      "text/markdown": [
       "fitting"
      ],
      "text/plain": [
       "<IPython.core.display.Markdown object>"
      ]
     },
     "metadata": {},
     "output_type": "display_data"
    },
    {
     "data": {
      "text/markdown": [
       "evaluating"
      ],
      "text/plain": [
       "<IPython.core.display.Markdown object>"
      ]
     },
     "metadata": {},
     "output_type": "display_data"
    },
    {
     "data": {
      "text/plain": [
       "{'mean_cv_scores': 0.445945945945946,\n",
       " 'overfit_accuracy': 0.7,\n",
       " 'overfit_y_pred_vs_obs':             y_obs        y_pred\n",
       " 85     correct-go  correct-stop\n",
       " 86     correct-go    correct-go\n",
       " 87     correct-go    correct-go\n",
       " 88     correct-go  correct-stop\n",
       " 89     correct-go    correct-go\n",
       " ..            ...           ...\n",
       " 190    correct-go    correct-go\n",
       " 191  correct-stop  correct-stop\n",
       " 192    correct-go    correct-go\n",
       " 193  correct-stop  correct-stop\n",
       " 194    correct-go    correct-go\n",
       " \n",
       " [110 rows x 2 columns]}"
      ]
     },
     "metadata": {},
     "output_type": "display_data"
    },
    {
     "data": {
      "text/markdown": [
       "DEV009"
      ],
      "text/plain": [
       "<IPython.core.display.Markdown object>"
      ]
     },
     "metadata": {},
     "output_type": "display_data"
    },
    {
     "name": "stdout",
     "output_type": "stream",
     "text": [
      "/gpfs/projects/sanlab/shared/DEV/nonbids_data/fMRI/ml/SST/discriminability_cache/v_1_pfc/dtt_results_DEV009.pkl\n"
     ]
    },
    {
     "data": {
      "text/markdown": [
       "loading subject DEV009"
      ],
      "text/plain": [
       "<IPython.core.display.Markdown object>"
      ]
     },
     "metadata": {},
     "output_type": "display_data"
    },
    {
     "name": "stdout",
     "output_type": "stream",
     "text": [
      "checked for intersection and no intersection between the brain data and the subjects was found.\n",
      "there were 58 subjects overlapping between the subjects marked for train data and the training dump file itself.\n",
      "test_train_set: 9549\n",
      "pkl_file: 168\n",
      "brain_data_filepath: 152\n",
      "train_test_markers_filepath: 141\n",
      "response_transform_func: 136\n",
      "sys: 72\n",
      "subjs_to_use: 64\n",
      "clean: 60\n",
      "Brain_Data_allsubs: 48\n"
     ]
    },
    {
     "name": "stderr",
     "output_type": "stream",
     "text": [
      "/gpfs/projects/sanlab/shared/DEV/DEV_scripts/fMRI/ml/apply_loocv_and_save.py:202: SettingWithCopyWarning: \n",
      "A value is trying to be set on a copy of a slice from a DataFrame\n",
      "\n",
      "See the caveats in the documentation: https://pandas.pydata.org/pandas-docs/stable/user_guide/indexing.html#returning-a-view-versus-a-copy\n",
      "  Brain_Data_allsubs.Y[Brain_Data_allsubs.Y=='NULL']=None\n"
     ]
    },
    {
     "name": "stdout",
     "output_type": "stream",
     "text": [
      "9037\n",
      "9037\n"
     ]
    },
    {
     "data": {
      "text/plain": [
       "correct-go    96\n",
       "Name: trial_type, dtype: int64"
      ]
     },
     "metadata": {},
     "output_type": "display_data"
    },
    {
     "data": {
      "text/markdown": [
       "setting up decoder..."
      ],
      "text/plain": [
       "<IPython.core.display.Markdown object>"
      ]
     },
     "metadata": {},
     "output_type": "display_data"
    },
    {
     "data": {
      "text/markdown": [
       "DEV010"
      ],
      "text/plain": [
       "<IPython.core.display.Markdown object>"
      ]
     },
     "metadata": {},
     "output_type": "display_data"
    },
    {
     "name": "stdout",
     "output_type": "stream",
     "text": [
      "/gpfs/projects/sanlab/shared/DEV/nonbids_data/fMRI/ml/SST/discriminability_cache/v_1_pfc/dtt_results_DEV010.pkl\n"
     ]
    },
    {
     "data": {
      "text/markdown": [
       "pre-loaded."
      ],
      "text/plain": [
       "<IPython.core.display.Markdown object>"
      ]
     },
     "metadata": {},
     "output_type": "display_data"
    },
    {
     "data": {
      "text/markdown": [
       "DEV011"
      ],
      "text/plain": [
       "<IPython.core.display.Markdown object>"
      ]
     },
     "metadata": {},
     "output_type": "display_data"
    },
    {
     "name": "stdout",
     "output_type": "stream",
     "text": [
      "/gpfs/projects/sanlab/shared/DEV/nonbids_data/fMRI/ml/SST/discriminability_cache/v_1_pfc/dtt_results_DEV011.pkl\n"
     ]
    },
    {
     "data": {
      "text/markdown": [
       "pre-loaded."
      ],
      "text/plain": [
       "<IPython.core.display.Markdown object>"
      ]
     },
     "metadata": {},
     "output_type": "display_data"
    },
    {
     "data": {
      "text/markdown": [
       "DEV012"
      ],
      "text/plain": [
       "<IPython.core.display.Markdown object>"
      ]
     },
     "metadata": {},
     "output_type": "display_data"
    },
    {
     "name": "stdout",
     "output_type": "stream",
     "text": [
      "/gpfs/projects/sanlab/shared/DEV/nonbids_data/fMRI/ml/SST/discriminability_cache/v_1_pfc/dtt_results_DEV012.pkl\n"
     ]
    },
    {
     "data": {
      "text/markdown": [
       "loading subject DEV012"
      ],
      "text/plain": [
       "<IPython.core.display.Markdown object>"
      ]
     },
     "metadata": {},
     "output_type": "display_data"
    },
    {
     "name": "stdout",
     "output_type": "stream",
     "text": [
      "checked for intersection and no intersection between the brain data and the subjects was found.\n",
      "there were 58 subjects overlapping between the subjects marked for train data and the training dump file itself.\n",
      "test_train_set: 9549\n",
      "pkl_file: 168\n",
      "brain_data_filepath: 152\n",
      "train_test_markers_filepath: 141\n",
      "response_transform_func: 136\n",
      "sys: 72\n",
      "subjs_to_use: 64\n",
      "clean: 60\n",
      "Brain_Data_allsubs: 48\n"
     ]
    },
    {
     "name": "stderr",
     "output_type": "stream",
     "text": [
      "/gpfs/projects/sanlab/shared/DEV/DEV_scripts/fMRI/ml/apply_loocv_and_save.py:202: SettingWithCopyWarning: \n",
      "A value is trying to be set on a copy of a slice from a DataFrame\n",
      "\n",
      "See the caveats in the documentation: https://pandas.pydata.org/pandas-docs/stable/user_guide/indexing.html#returning-a-view-versus-a-copy\n",
      "  Brain_Data_allsubs.Y[Brain_Data_allsubs.Y=='NULL']=None\n"
     ]
    },
    {
     "name": "stdout",
     "output_type": "stream",
     "text": [
      "9037\n",
      "9037\n"
     ]
    },
    {
     "data": {
      "text/plain": [
       "correct-go    95\n",
       "Name: trial_type, dtype: int64"
      ]
     },
     "metadata": {},
     "output_type": "display_data"
    },
    {
     "data": {
      "text/markdown": [
       "setting up decoder..."
      ],
      "text/plain": [
       "<IPython.core.display.Markdown object>"
      ]
     },
     "metadata": {},
     "output_type": "display_data"
    },
    {
     "data": {
      "text/markdown": [
       "DEV013"
      ],
      "text/plain": [
       "<IPython.core.display.Markdown object>"
      ]
     },
     "metadata": {},
     "output_type": "display_data"
    },
    {
     "name": "stdout",
     "output_type": "stream",
     "text": [
      "/gpfs/projects/sanlab/shared/DEV/nonbids_data/fMRI/ml/SST/discriminability_cache/v_1_pfc/dtt_results_DEV013.pkl\n"
     ]
    },
    {
     "data": {
      "text/markdown": [
       "pre-loaded."
      ],
      "text/plain": [
       "<IPython.core.display.Markdown object>"
      ]
     },
     "metadata": {},
     "output_type": "display_data"
    },
    {
     "data": {
      "text/markdown": [
       "DEV014"
      ],
      "text/plain": [
       "<IPython.core.display.Markdown object>"
      ]
     },
     "metadata": {},
     "output_type": "display_data"
    },
    {
     "name": "stdout",
     "output_type": "stream",
     "text": [
      "/gpfs/projects/sanlab/shared/DEV/nonbids_data/fMRI/ml/SST/discriminability_cache/v_1_pfc/dtt_results_DEV014.pkl\n"
     ]
    },
    {
     "data": {
      "text/markdown": [
       "pre-loaded."
      ],
      "text/plain": [
       "<IPython.core.display.Markdown object>"
      ]
     },
     "metadata": {},
     "output_type": "display_data"
    },
    {
     "data": {
      "text/markdown": [
       "DEV015"
      ],
      "text/plain": [
       "<IPython.core.display.Markdown object>"
      ]
     },
     "metadata": {},
     "output_type": "display_data"
    },
    {
     "name": "stdout",
     "output_type": "stream",
     "text": [
      "/gpfs/projects/sanlab/shared/DEV/nonbids_data/fMRI/ml/SST/discriminability_cache/v_1_pfc/dtt_results_DEV015.pkl\n"
     ]
    },
    {
     "data": {
      "text/markdown": [
       "pre-loaded."
      ],
      "text/plain": [
       "<IPython.core.display.Markdown object>"
      ]
     },
     "metadata": {},
     "output_type": "display_data"
    },
    {
     "data": {
      "text/markdown": [
       "DEV016"
      ],
      "text/plain": [
       "<IPython.core.display.Markdown object>"
      ]
     },
     "metadata": {},
     "output_type": "display_data"
    },
    {
     "name": "stdout",
     "output_type": "stream",
     "text": [
      "/gpfs/projects/sanlab/shared/DEV/nonbids_data/fMRI/ml/SST/discriminability_cache/v_1_pfc/dtt_results_DEV016.pkl\n"
     ]
    },
    {
     "data": {
      "text/markdown": [
       "pre-loaded."
      ],
      "text/plain": [
       "<IPython.core.display.Markdown object>"
      ]
     },
     "metadata": {},
     "output_type": "display_data"
    },
    {
     "data": {
      "text/markdown": [
       "DEV017"
      ],
      "text/plain": [
       "<IPython.core.display.Markdown object>"
      ]
     },
     "metadata": {},
     "output_type": "display_data"
    },
    {
     "name": "stdout",
     "output_type": "stream",
     "text": [
      "/gpfs/projects/sanlab/shared/DEV/nonbids_data/fMRI/ml/SST/discriminability_cache/v_1_pfc/dtt_results_DEV017.pkl\n"
     ]
    },
    {
     "data": {
      "text/markdown": [
       "pre-loaded."
      ],
      "text/plain": [
       "<IPython.core.display.Markdown object>"
      ]
     },
     "metadata": {},
     "output_type": "display_data"
    },
    {
     "data": {
      "text/markdown": [
       "DEV018"
      ],
      "text/plain": [
       "<IPython.core.display.Markdown object>"
      ]
     },
     "metadata": {},
     "output_type": "display_data"
    },
    {
     "name": "stdout",
     "output_type": "stream",
     "text": [
      "/gpfs/projects/sanlab/shared/DEV/nonbids_data/fMRI/ml/SST/discriminability_cache/v_1_pfc/dtt_results_DEV018.pkl\n"
     ]
    },
    {
     "data": {
      "text/markdown": [
       "pre-loaded."
      ],
      "text/plain": [
       "<IPython.core.display.Markdown object>"
      ]
     },
     "metadata": {},
     "output_type": "display_data"
    },
    {
     "data": {
      "text/markdown": [
       "DEV019"
      ],
      "text/plain": [
       "<IPython.core.display.Markdown object>"
      ]
     },
     "metadata": {},
     "output_type": "display_data"
    },
    {
     "name": "stdout",
     "output_type": "stream",
     "text": [
      "/gpfs/projects/sanlab/shared/DEV/nonbids_data/fMRI/ml/SST/discriminability_cache/v_1_pfc/dtt_results_DEV019.pkl\n"
     ]
    },
    {
     "data": {
      "text/markdown": [
       "pre-loaded."
      ],
      "text/plain": [
       "<IPython.core.display.Markdown object>"
      ]
     },
     "metadata": {},
     "output_type": "display_data"
    },
    {
     "data": {
      "text/markdown": [
       "DEV020"
      ],
      "text/plain": [
       "<IPython.core.display.Markdown object>"
      ]
     },
     "metadata": {},
     "output_type": "display_data"
    },
    {
     "name": "stdout",
     "output_type": "stream",
     "text": [
      "/gpfs/projects/sanlab/shared/DEV/nonbids_data/fMRI/ml/SST/discriminability_cache/v_1_pfc/dtt_results_DEV020.pkl\n"
     ]
    },
    {
     "data": {
      "text/markdown": [
       "pre-loaded."
      ],
      "text/plain": [
       "<IPython.core.display.Markdown object>"
      ]
     },
     "metadata": {},
     "output_type": "display_data"
    },
    {
     "data": {
      "text/markdown": [
       "DEV021"
      ],
      "text/plain": [
       "<IPython.core.display.Markdown object>"
      ]
     },
     "metadata": {},
     "output_type": "display_data"
    },
    {
     "name": "stdout",
     "output_type": "stream",
     "text": [
      "/gpfs/projects/sanlab/shared/DEV/nonbids_data/fMRI/ml/SST/discriminability_cache/v_1_pfc/dtt_results_DEV021.pkl\n"
     ]
    },
    {
     "data": {
      "text/markdown": [
       "pre-loaded."
      ],
      "text/plain": [
       "<IPython.core.display.Markdown object>"
      ]
     },
     "metadata": {},
     "output_type": "display_data"
    },
    {
     "data": {
      "text/markdown": [
       "DEV022"
      ],
      "text/plain": [
       "<IPython.core.display.Markdown object>"
      ]
     },
     "metadata": {},
     "output_type": "display_data"
    },
    {
     "name": "stdout",
     "output_type": "stream",
     "text": [
      "/gpfs/projects/sanlab/shared/DEV/nonbids_data/fMRI/ml/SST/discriminability_cache/v_1_pfc/dtt_results_DEV022.pkl\n"
     ]
    },
    {
     "data": {
      "text/markdown": [
       "pre-loaded."
      ],
      "text/plain": [
       "<IPython.core.display.Markdown object>"
      ]
     },
     "metadata": {},
     "output_type": "display_data"
    },
    {
     "data": {
      "text/markdown": [
       "DEV023"
      ],
      "text/plain": [
       "<IPython.core.display.Markdown object>"
      ]
     },
     "metadata": {},
     "output_type": "display_data"
    },
    {
     "name": "stdout",
     "output_type": "stream",
     "text": [
      "/gpfs/projects/sanlab/shared/DEV/nonbids_data/fMRI/ml/SST/discriminability_cache/v_1_pfc/dtt_results_DEV023.pkl\n"
     ]
    },
    {
     "data": {
      "text/markdown": [
       "pre-loaded."
      ],
      "text/plain": [
       "<IPython.core.display.Markdown object>"
      ]
     },
     "metadata": {},
     "output_type": "display_data"
    },
    {
     "data": {
      "text/markdown": [
       "DEV024"
      ],
      "text/plain": [
       "<IPython.core.display.Markdown object>"
      ]
     },
     "metadata": {},
     "output_type": "display_data"
    },
    {
     "name": "stdout",
     "output_type": "stream",
     "text": [
      "/gpfs/projects/sanlab/shared/DEV/nonbids_data/fMRI/ml/SST/discriminability_cache/v_1_pfc/dtt_results_DEV024.pkl\n"
     ]
    },
    {
     "data": {
      "text/markdown": [
       "pre-loaded."
      ],
      "text/plain": [
       "<IPython.core.display.Markdown object>"
      ]
     },
     "metadata": {},
     "output_type": "display_data"
    },
    {
     "data": {
      "text/markdown": [
       "DEV025"
      ],
      "text/plain": [
       "<IPython.core.display.Markdown object>"
      ]
     },
     "metadata": {},
     "output_type": "display_data"
    },
    {
     "name": "stdout",
     "output_type": "stream",
     "text": [
      "/gpfs/projects/sanlab/shared/DEV/nonbids_data/fMRI/ml/SST/discriminability_cache/v_1_pfc/dtt_results_DEV025.pkl\n"
     ]
    },
    {
     "data": {
      "text/markdown": [
       "pre-loaded."
      ],
      "text/plain": [
       "<IPython.core.display.Markdown object>"
      ]
     },
     "metadata": {},
     "output_type": "display_data"
    },
    {
     "data": {
      "text/markdown": [
       "DEV026"
      ],
      "text/plain": [
       "<IPython.core.display.Markdown object>"
      ]
     },
     "metadata": {},
     "output_type": "display_data"
    },
    {
     "name": "stdout",
     "output_type": "stream",
     "text": [
      "/gpfs/projects/sanlab/shared/DEV/nonbids_data/fMRI/ml/SST/discriminability_cache/v_1_pfc/dtt_results_DEV026.pkl\n"
     ]
    },
    {
     "data": {
      "text/markdown": [
       "pre-loaded."
      ],
      "text/plain": [
       "<IPython.core.display.Markdown object>"
      ]
     },
     "metadata": {},
     "output_type": "display_data"
    },
    {
     "data": {
      "text/markdown": [
       "DEV027"
      ],
      "text/plain": [
       "<IPython.core.display.Markdown object>"
      ]
     },
     "metadata": {},
     "output_type": "display_data"
    },
    {
     "name": "stdout",
     "output_type": "stream",
     "text": [
      "/gpfs/projects/sanlab/shared/DEV/nonbids_data/fMRI/ml/SST/discriminability_cache/v_1_pfc/dtt_results_DEV027.pkl\n"
     ]
    },
    {
     "data": {
      "text/markdown": [
       "pre-loaded."
      ],
      "text/plain": [
       "<IPython.core.display.Markdown object>"
      ]
     },
     "metadata": {},
     "output_type": "display_data"
    },
    {
     "data": {
      "text/markdown": [
       "DEV028"
      ],
      "text/plain": [
       "<IPython.core.display.Markdown object>"
      ]
     },
     "metadata": {},
     "output_type": "display_data"
    },
    {
     "name": "stdout",
     "output_type": "stream",
     "text": [
      "/gpfs/projects/sanlab/shared/DEV/nonbids_data/fMRI/ml/SST/discriminability_cache/v_1_pfc/dtt_results_DEV028.pkl\n"
     ]
    },
    {
     "data": {
      "text/markdown": [
       "pre-loaded."
      ],
      "text/plain": [
       "<IPython.core.display.Markdown object>"
      ]
     },
     "metadata": {},
     "output_type": "display_data"
    },
    {
     "data": {
      "text/markdown": [
       "DEV029"
      ],
      "text/plain": [
       "<IPython.core.display.Markdown object>"
      ]
     },
     "metadata": {},
     "output_type": "display_data"
    },
    {
     "name": "stdout",
     "output_type": "stream",
     "text": [
      "/gpfs/projects/sanlab/shared/DEV/nonbids_data/fMRI/ml/SST/discriminability_cache/v_1_pfc/dtt_results_DEV029.pkl\n"
     ]
    },
    {
     "data": {
      "text/markdown": [
       "pre-loaded."
      ],
      "text/plain": [
       "<IPython.core.display.Markdown object>"
      ]
     },
     "metadata": {},
     "output_type": "display_data"
    },
    {
     "data": {
      "text/markdown": [
       "DEV030"
      ],
      "text/plain": [
       "<IPython.core.display.Markdown object>"
      ]
     },
     "metadata": {},
     "output_type": "display_data"
    },
    {
     "name": "stdout",
     "output_type": "stream",
     "text": [
      "/gpfs/projects/sanlab/shared/DEV/nonbids_data/fMRI/ml/SST/discriminability_cache/v_1_pfc/dtt_results_DEV030.pkl\n"
     ]
    },
    {
     "data": {
      "text/markdown": [
       "pre-loaded."
      ],
      "text/plain": [
       "<IPython.core.display.Markdown object>"
      ]
     },
     "metadata": {},
     "output_type": "display_data"
    },
    {
     "data": {
      "text/markdown": [
       "DEV034"
      ],
      "text/plain": [
       "<IPython.core.display.Markdown object>"
      ]
     },
     "metadata": {},
     "output_type": "display_data"
    },
    {
     "name": "stdout",
     "output_type": "stream",
     "text": [
      "/gpfs/projects/sanlab/shared/DEV/nonbids_data/fMRI/ml/SST/discriminability_cache/v_1_pfc/dtt_results_DEV034.pkl\n"
     ]
    },
    {
     "data": {
      "text/markdown": [
       "pre-loaded."
      ],
      "text/plain": [
       "<IPython.core.display.Markdown object>"
      ]
     },
     "metadata": {},
     "output_type": "display_data"
    },
    {
     "data": {
      "text/markdown": [
       "DEV035"
      ],
      "text/plain": [
       "<IPython.core.display.Markdown object>"
      ]
     },
     "metadata": {},
     "output_type": "display_data"
    },
    {
     "name": "stdout",
     "output_type": "stream",
     "text": [
      "/gpfs/projects/sanlab/shared/DEV/nonbids_data/fMRI/ml/SST/discriminability_cache/v_1_pfc/dtt_results_DEV035.pkl\n"
     ]
    },
    {
     "data": {
      "text/markdown": [
       "pre-loaded."
      ],
      "text/plain": [
       "<IPython.core.display.Markdown object>"
      ]
     },
     "metadata": {},
     "output_type": "display_data"
    },
    {
     "data": {
      "text/markdown": [
       "DEV036"
      ],
      "text/plain": [
       "<IPython.core.display.Markdown object>"
      ]
     },
     "metadata": {},
     "output_type": "display_data"
    },
    {
     "name": "stdout",
     "output_type": "stream",
     "text": [
      "/gpfs/projects/sanlab/shared/DEV/nonbids_data/fMRI/ml/SST/discriminability_cache/v_1_pfc/dtt_results_DEV036.pkl\n"
     ]
    },
    {
     "data": {
      "text/markdown": [
       "pre-loaded."
      ],
      "text/plain": [
       "<IPython.core.display.Markdown object>"
      ]
     },
     "metadata": {},
     "output_type": "display_data"
    },
    {
     "data": {
      "text/markdown": [
       "DEV039"
      ],
      "text/plain": [
       "<IPython.core.display.Markdown object>"
      ]
     },
     "metadata": {},
     "output_type": "display_data"
    },
    {
     "name": "stdout",
     "output_type": "stream",
     "text": [
      "/gpfs/projects/sanlab/shared/DEV/nonbids_data/fMRI/ml/SST/discriminability_cache/v_1_pfc/dtt_results_DEV039.pkl\n"
     ]
    },
    {
     "data": {
      "text/markdown": [
       "pre-loaded."
      ],
      "text/plain": [
       "<IPython.core.display.Markdown object>"
      ]
     },
     "metadata": {},
     "output_type": "display_data"
    },
    {
     "data": {
      "text/markdown": [
       "DEV040"
      ],
      "text/plain": [
       "<IPython.core.display.Markdown object>"
      ]
     },
     "metadata": {},
     "output_type": "display_data"
    },
    {
     "name": "stdout",
     "output_type": "stream",
     "text": [
      "/gpfs/projects/sanlab/shared/DEV/nonbids_data/fMRI/ml/SST/discriminability_cache/v_1_pfc/dtt_results_DEV040.pkl\n"
     ]
    },
    {
     "data": {
      "text/markdown": [
       "pre-loaded."
      ],
      "text/plain": [
       "<IPython.core.display.Markdown object>"
      ]
     },
     "metadata": {},
     "output_type": "display_data"
    },
    {
     "data": {
      "text/markdown": [
       "DEV041"
      ],
      "text/plain": [
       "<IPython.core.display.Markdown object>"
      ]
     },
     "metadata": {},
     "output_type": "display_data"
    },
    {
     "name": "stdout",
     "output_type": "stream",
     "text": [
      "/gpfs/projects/sanlab/shared/DEV/nonbids_data/fMRI/ml/SST/discriminability_cache/v_1_pfc/dtt_results_DEV041.pkl\n"
     ]
    },
    {
     "data": {
      "text/markdown": [
       "pre-loaded."
      ],
      "text/plain": [
       "<IPython.core.display.Markdown object>"
      ]
     },
     "metadata": {},
     "output_type": "display_data"
    },
    {
     "data": {
      "text/markdown": [
       "DEV042"
      ],
      "text/plain": [
       "<IPython.core.display.Markdown object>"
      ]
     },
     "metadata": {},
     "output_type": "display_data"
    },
    {
     "name": "stdout",
     "output_type": "stream",
     "text": [
      "/gpfs/projects/sanlab/shared/DEV/nonbids_data/fMRI/ml/SST/discriminability_cache/v_1_pfc/dtt_results_DEV042.pkl\n"
     ]
    },
    {
     "data": {
      "text/markdown": [
       "pre-loaded."
      ],
      "text/plain": [
       "<IPython.core.display.Markdown object>"
      ]
     },
     "metadata": {},
     "output_type": "display_data"
    },
    {
     "data": {
      "text/markdown": [
       "DEV043"
      ],
      "text/plain": [
       "<IPython.core.display.Markdown object>"
      ]
     },
     "metadata": {},
     "output_type": "display_data"
    },
    {
     "name": "stdout",
     "output_type": "stream",
     "text": [
      "/gpfs/projects/sanlab/shared/DEV/nonbids_data/fMRI/ml/SST/discriminability_cache/v_1_pfc/dtt_results_DEV043.pkl\n"
     ]
    },
    {
     "data": {
      "text/markdown": [
       "pre-loaded."
      ],
      "text/plain": [
       "<IPython.core.display.Markdown object>"
      ]
     },
     "metadata": {},
     "output_type": "display_data"
    },
    {
     "data": {
      "text/markdown": [
       "DEV046"
      ],
      "text/plain": [
       "<IPython.core.display.Markdown object>"
      ]
     },
     "metadata": {},
     "output_type": "display_data"
    },
    {
     "name": "stdout",
     "output_type": "stream",
     "text": [
      "/gpfs/projects/sanlab/shared/DEV/nonbids_data/fMRI/ml/SST/discriminability_cache/v_1_pfc/dtt_results_DEV046.pkl\n"
     ]
    },
    {
     "data": {
      "text/markdown": [
       "pre-loaded."
      ],
      "text/plain": [
       "<IPython.core.display.Markdown object>"
      ]
     },
     "metadata": {},
     "output_type": "display_data"
    },
    {
     "data": {
      "text/markdown": [
       "DEV047"
      ],
      "text/plain": [
       "<IPython.core.display.Markdown object>"
      ]
     },
     "metadata": {},
     "output_type": "display_data"
    },
    {
     "name": "stdout",
     "output_type": "stream",
     "text": [
      "/gpfs/projects/sanlab/shared/DEV/nonbids_data/fMRI/ml/SST/discriminability_cache/v_1_pfc/dtt_results_DEV047.pkl\n"
     ]
    },
    {
     "data": {
      "text/markdown": [
       "pre-loaded."
      ],
      "text/plain": [
       "<IPython.core.display.Markdown object>"
      ]
     },
     "metadata": {},
     "output_type": "display_data"
    },
    {
     "data": {
      "text/markdown": [
       "DEV048"
      ],
      "text/plain": [
       "<IPython.core.display.Markdown object>"
      ]
     },
     "metadata": {},
     "output_type": "display_data"
    },
    {
     "name": "stdout",
     "output_type": "stream",
     "text": [
      "/gpfs/projects/sanlab/shared/DEV/nonbids_data/fMRI/ml/SST/discriminability_cache/v_1_pfc/dtt_results_DEV048.pkl\n"
     ]
    },
    {
     "data": {
      "text/markdown": [
       "pre-loaded."
      ],
      "text/plain": [
       "<IPython.core.display.Markdown object>"
      ]
     },
     "metadata": {},
     "output_type": "display_data"
    },
    {
     "data": {
      "text/markdown": [
       "DEV049"
      ],
      "text/plain": [
       "<IPython.core.display.Markdown object>"
      ]
     },
     "metadata": {},
     "output_type": "display_data"
    },
    {
     "name": "stdout",
     "output_type": "stream",
     "text": [
      "/gpfs/projects/sanlab/shared/DEV/nonbids_data/fMRI/ml/SST/discriminability_cache/v_1_pfc/dtt_results_DEV049.pkl\n"
     ]
    },
    {
     "data": {
      "text/markdown": [
       "pre-loaded."
      ],
      "text/plain": [
       "<IPython.core.display.Markdown object>"
      ]
     },
     "metadata": {},
     "output_type": "display_data"
    },
    {
     "data": {
      "text/markdown": [
       "DEV050"
      ],
      "text/plain": [
       "<IPython.core.display.Markdown object>"
      ]
     },
     "metadata": {},
     "output_type": "display_data"
    },
    {
     "name": "stdout",
     "output_type": "stream",
     "text": [
      "/gpfs/projects/sanlab/shared/DEV/nonbids_data/fMRI/ml/SST/discriminability_cache/v_1_pfc/dtt_results_DEV050.pkl\n"
     ]
    },
    {
     "data": {
      "text/markdown": [
       "pre-loaded."
      ],
      "text/plain": [
       "<IPython.core.display.Markdown object>"
      ]
     },
     "metadata": {},
     "output_type": "display_data"
    },
    {
     "data": {
      "text/markdown": [
       "DEV051"
      ],
      "text/plain": [
       "<IPython.core.display.Markdown object>"
      ]
     },
     "metadata": {},
     "output_type": "display_data"
    },
    {
     "name": "stdout",
     "output_type": "stream",
     "text": [
      "/gpfs/projects/sanlab/shared/DEV/nonbids_data/fMRI/ml/SST/discriminability_cache/v_1_pfc/dtt_results_DEV051.pkl\n"
     ]
    },
    {
     "data": {
      "text/markdown": [
       "pre-loaded."
      ],
      "text/plain": [
       "<IPython.core.display.Markdown object>"
      ]
     },
     "metadata": {},
     "output_type": "display_data"
    },
    {
     "data": {
      "text/markdown": [
       "DEV052"
      ],
      "text/plain": [
       "<IPython.core.display.Markdown object>"
      ]
     },
     "metadata": {},
     "output_type": "display_data"
    },
    {
     "name": "stdout",
     "output_type": "stream",
     "text": [
      "/gpfs/projects/sanlab/shared/DEV/nonbids_data/fMRI/ml/SST/discriminability_cache/v_1_pfc/dtt_results_DEV052.pkl\n"
     ]
    },
    {
     "data": {
      "text/markdown": [
       "pre-loaded."
      ],
      "text/plain": [
       "<IPython.core.display.Markdown object>"
      ]
     },
     "metadata": {},
     "output_type": "display_data"
    },
    {
     "data": {
      "text/markdown": [
       "DEV053"
      ],
      "text/plain": [
       "<IPython.core.display.Markdown object>"
      ]
     },
     "metadata": {},
     "output_type": "display_data"
    },
    {
     "name": "stdout",
     "output_type": "stream",
     "text": [
      "/gpfs/projects/sanlab/shared/DEV/nonbids_data/fMRI/ml/SST/discriminability_cache/v_1_pfc/dtt_results_DEV053.pkl\n"
     ]
    },
    {
     "data": {
      "text/markdown": [
       "pre-loaded."
      ],
      "text/plain": [
       "<IPython.core.display.Markdown object>"
      ]
     },
     "metadata": {},
     "output_type": "display_data"
    },
    {
     "data": {
      "text/markdown": [
       "DEV055"
      ],
      "text/plain": [
       "<IPython.core.display.Markdown object>"
      ]
     },
     "metadata": {},
     "output_type": "display_data"
    },
    {
     "name": "stdout",
     "output_type": "stream",
     "text": [
      "/gpfs/projects/sanlab/shared/DEV/nonbids_data/fMRI/ml/SST/discriminability_cache/v_1_pfc/dtt_results_DEV055.pkl\n"
     ]
    },
    {
     "data": {
      "text/markdown": [
       "pre-loaded."
      ],
      "text/plain": [
       "<IPython.core.display.Markdown object>"
      ]
     },
     "metadata": {},
     "output_type": "display_data"
    },
    {
     "data": {
      "text/markdown": [
       "DEV056"
      ],
      "text/plain": [
       "<IPython.core.display.Markdown object>"
      ]
     },
     "metadata": {},
     "output_type": "display_data"
    },
    {
     "name": "stdout",
     "output_type": "stream",
     "text": [
      "/gpfs/projects/sanlab/shared/DEV/nonbids_data/fMRI/ml/SST/discriminability_cache/v_1_pfc/dtt_results_DEV056.pkl\n"
     ]
    },
    {
     "data": {
      "text/markdown": [
       "pre-loaded."
      ],
      "text/plain": [
       "<IPython.core.display.Markdown object>"
      ]
     },
     "metadata": {},
     "output_type": "display_data"
    },
    {
     "data": {
      "text/markdown": [
       "DEV057"
      ],
      "text/plain": [
       "<IPython.core.display.Markdown object>"
      ]
     },
     "metadata": {},
     "output_type": "display_data"
    },
    {
     "name": "stdout",
     "output_type": "stream",
     "text": [
      "/gpfs/projects/sanlab/shared/DEV/nonbids_data/fMRI/ml/SST/discriminability_cache/v_1_pfc/dtt_results_DEV057.pkl\n"
     ]
    },
    {
     "data": {
      "text/markdown": [
       "pre-loaded."
      ],
      "text/plain": [
       "<IPython.core.display.Markdown object>"
      ]
     },
     "metadata": {},
     "output_type": "display_data"
    },
    {
     "data": {
      "text/markdown": [
       "DEV058"
      ],
      "text/plain": [
       "<IPython.core.display.Markdown object>"
      ]
     },
     "metadata": {},
     "output_type": "display_data"
    },
    {
     "name": "stdout",
     "output_type": "stream",
     "text": [
      "/gpfs/projects/sanlab/shared/DEV/nonbids_data/fMRI/ml/SST/discriminability_cache/v_1_pfc/dtt_results_DEV058.pkl\n"
     ]
    },
    {
     "data": {
      "text/markdown": [
       "pre-loaded."
      ],
      "text/plain": [
       "<IPython.core.display.Markdown object>"
      ]
     },
     "metadata": {},
     "output_type": "display_data"
    },
    {
     "data": {
      "text/markdown": [
       "DEV059"
      ],
      "text/plain": [
       "<IPython.core.display.Markdown object>"
      ]
     },
     "metadata": {},
     "output_type": "display_data"
    },
    {
     "name": "stdout",
     "output_type": "stream",
     "text": [
      "/gpfs/projects/sanlab/shared/DEV/nonbids_data/fMRI/ml/SST/discriminability_cache/v_1_pfc/dtt_results_DEV059.pkl\n"
     ]
    },
    {
     "data": {
      "text/markdown": [
       "pre-loaded."
      ],
      "text/plain": [
       "<IPython.core.display.Markdown object>"
      ]
     },
     "metadata": {},
     "output_type": "display_data"
    },
    {
     "data": {
      "text/markdown": [
       "DEV060"
      ],
      "text/plain": [
       "<IPython.core.display.Markdown object>"
      ]
     },
     "metadata": {},
     "output_type": "display_data"
    },
    {
     "name": "stdout",
     "output_type": "stream",
     "text": [
      "/gpfs/projects/sanlab/shared/DEV/nonbids_data/fMRI/ml/SST/discriminability_cache/v_1_pfc/dtt_results_DEV060.pkl\n"
     ]
    },
    {
     "data": {
      "text/markdown": [
       "pre-loaded."
      ],
      "text/plain": [
       "<IPython.core.display.Markdown object>"
      ]
     },
     "metadata": {},
     "output_type": "display_data"
    },
    {
     "data": {
      "text/markdown": [
       "DEV062"
      ],
      "text/plain": [
       "<IPython.core.display.Markdown object>"
      ]
     },
     "metadata": {},
     "output_type": "display_data"
    },
    {
     "name": "stdout",
     "output_type": "stream",
     "text": [
      "/gpfs/projects/sanlab/shared/DEV/nonbids_data/fMRI/ml/SST/discriminability_cache/v_1_pfc/dtt_results_DEV062.pkl\n"
     ]
    },
    {
     "data": {
      "text/markdown": [
       "pre-loaded."
      ],
      "text/plain": [
       "<IPython.core.display.Markdown object>"
      ]
     },
     "metadata": {},
     "output_type": "display_data"
    },
    {
     "data": {
      "text/markdown": [
       "DEV064"
      ],
      "text/plain": [
       "<IPython.core.display.Markdown object>"
      ]
     },
     "metadata": {},
     "output_type": "display_data"
    },
    {
     "name": "stdout",
     "output_type": "stream",
     "text": [
      "/gpfs/projects/sanlab/shared/DEV/nonbids_data/fMRI/ml/SST/discriminability_cache/v_1_pfc/dtt_results_DEV064.pkl\n"
     ]
    },
    {
     "data": {
      "text/markdown": [
       "loading subject DEV064"
      ],
      "text/plain": [
       "<IPython.core.display.Markdown object>"
      ]
     },
     "metadata": {},
     "output_type": "display_data"
    },
    {
     "name": "stdout",
     "output_type": "stream",
     "text": [
      "checked for intersection and no intersection between the brain data and the subjects was found.\n",
      "there were 58 subjects overlapping between the subjects marked for train data and the training dump file itself.\n",
      "test_train_set: 9549\n",
      "pkl_file: 168\n",
      "brain_data_filepath: 152\n",
      "train_test_markers_filepath: 141\n",
      "response_transform_func: 136\n",
      "sys: 72\n",
      "subjs_to_use: 64\n",
      "clean: 60\n",
      "Brain_Data_allsubs: 48\n"
     ]
    },
    {
     "name": "stderr",
     "output_type": "stream",
     "text": [
      "/gpfs/projects/sanlab/shared/DEV/DEV_scripts/fMRI/ml/apply_loocv_and_save.py:202: SettingWithCopyWarning: \n",
      "A value is trying to be set on a copy of a slice from a DataFrame\n",
      "\n",
      "See the caveats in the documentation: https://pandas.pydata.org/pandas-docs/stable/user_guide/indexing.html#returning-a-view-versus-a-copy\n",
      "  Brain_Data_allsubs.Y[Brain_Data_allsubs.Y=='NULL']=None\n"
     ]
    },
    {
     "name": "stdout",
     "output_type": "stream",
     "text": [
      "9037\n",
      "9037\n"
     ]
    },
    {
     "data": {
      "text/plain": [
       "correct-go      96\n",
       "correct-stop    16\n",
       "Name: trial_type, dtype: int64"
      ]
     },
     "metadata": {},
     "output_type": "display_data"
    },
    {
     "data": {
      "text/markdown": [
       "setting up decoder..."
      ],
      "text/plain": [
       "<IPython.core.display.Markdown object>"
      ]
     },
     "metadata": {},
     "output_type": "display_data"
    },
    {
     "data": {
      "text/markdown": [
       "fitting"
      ],
      "text/plain": [
       "<IPython.core.display.Markdown object>"
      ]
     },
     "metadata": {},
     "output_type": "display_data"
    },
    {
     "data": {
      "text/markdown": [
       "evaluating"
      ],
      "text/plain": [
       "<IPython.core.display.Markdown object>"
      ]
     },
     "metadata": {},
     "output_type": "display_data"
    },
    {
     "data": {
      "text/plain": [
       "{'mean_cv_scores': 0.4288762446657184,\n",
       " 'overfit_accuracy': 0.7053571428571429,\n",
       " 'overfit_y_pred_vs_obs':              y_obs        y_pred\n",
       " 5008    correct-go    correct-go\n",
       " 5009    correct-go  correct-stop\n",
       " 5010    correct-go  correct-stop\n",
       " 5011    correct-go  correct-stop\n",
       " 5012    correct-go    correct-go\n",
       " ...            ...           ...\n",
       " 5115    correct-go    correct-go\n",
       " 5116    correct-go    correct-go\n",
       " 5117    correct-go    correct-go\n",
       " 5118  correct-stop  correct-stop\n",
       " 5119    correct-go    correct-go\n",
       " \n",
       " [112 rows x 2 columns]}"
      ]
     },
     "metadata": {},
     "output_type": "display_data"
    },
    {
     "data": {
      "text/markdown": [
       "DEV067"
      ],
      "text/plain": [
       "<IPython.core.display.Markdown object>"
      ]
     },
     "metadata": {},
     "output_type": "display_data"
    },
    {
     "name": "stdout",
     "output_type": "stream",
     "text": [
      "/gpfs/projects/sanlab/shared/DEV/nonbids_data/fMRI/ml/SST/discriminability_cache/v_1_pfc/dtt_results_DEV067.pkl\n"
     ]
    },
    {
     "data": {
      "text/markdown": [
       "pre-loaded."
      ],
      "text/plain": [
       "<IPython.core.display.Markdown object>"
      ]
     },
     "metadata": {},
     "output_type": "display_data"
    },
    {
     "data": {
      "text/markdown": [
       "DEV068"
      ],
      "text/plain": [
       "<IPython.core.display.Markdown object>"
      ]
     },
     "metadata": {},
     "output_type": "display_data"
    },
    {
     "name": "stdout",
     "output_type": "stream",
     "text": [
      "/gpfs/projects/sanlab/shared/DEV/nonbids_data/fMRI/ml/SST/discriminability_cache/v_1_pfc/dtt_results_DEV068.pkl\n"
     ]
    },
    {
     "data": {
      "text/markdown": [
       "pre-loaded."
      ],
      "text/plain": [
       "<IPython.core.display.Markdown object>"
      ]
     },
     "metadata": {},
     "output_type": "display_data"
    },
    {
     "data": {
      "text/markdown": [
       "DEV069"
      ],
      "text/plain": [
       "<IPython.core.display.Markdown object>"
      ]
     },
     "metadata": {},
     "output_type": "display_data"
    },
    {
     "name": "stdout",
     "output_type": "stream",
     "text": [
      "/gpfs/projects/sanlab/shared/DEV/nonbids_data/fMRI/ml/SST/discriminability_cache/v_1_pfc/dtt_results_DEV069.pkl\n"
     ]
    },
    {
     "data": {
      "text/markdown": [
       "pre-loaded."
      ],
      "text/plain": [
       "<IPython.core.display.Markdown object>"
      ]
     },
     "metadata": {},
     "output_type": "display_data"
    },
    {
     "data": {
      "text/markdown": [
       "DEV071"
      ],
      "text/plain": [
       "<IPython.core.display.Markdown object>"
      ]
     },
     "metadata": {},
     "output_type": "display_data"
    },
    {
     "name": "stdout",
     "output_type": "stream",
     "text": [
      "/gpfs/projects/sanlab/shared/DEV/nonbids_data/fMRI/ml/SST/discriminability_cache/v_1_pfc/dtt_results_DEV071.pkl\n"
     ]
    },
    {
     "data": {
      "text/markdown": [
       "pre-loaded."
      ],
      "text/plain": [
       "<IPython.core.display.Markdown object>"
      ]
     },
     "metadata": {},
     "output_type": "display_data"
    },
    {
     "data": {
      "text/markdown": [
       "DEV073"
      ],
      "text/plain": [
       "<IPython.core.display.Markdown object>"
      ]
     },
     "metadata": {},
     "output_type": "display_data"
    },
    {
     "name": "stdout",
     "output_type": "stream",
     "text": [
      "/gpfs/projects/sanlab/shared/DEV/nonbids_data/fMRI/ml/SST/discriminability_cache/v_1_pfc/dtt_results_DEV073.pkl\n"
     ]
    },
    {
     "data": {
      "text/markdown": [
       "pre-loaded."
      ],
      "text/plain": [
       "<IPython.core.display.Markdown object>"
      ]
     },
     "metadata": {},
     "output_type": "display_data"
    },
    {
     "data": {
      "text/markdown": [
       "DEV074"
      ],
      "text/plain": [
       "<IPython.core.display.Markdown object>"
      ]
     },
     "metadata": {},
     "output_type": "display_data"
    },
    {
     "name": "stdout",
     "output_type": "stream",
     "text": [
      "/gpfs/projects/sanlab/shared/DEV/nonbids_data/fMRI/ml/SST/discriminability_cache/v_1_pfc/dtt_results_DEV074.pkl\n"
     ]
    },
    {
     "data": {
      "text/markdown": [
       "pre-loaded."
      ],
      "text/plain": [
       "<IPython.core.display.Markdown object>"
      ]
     },
     "metadata": {},
     "output_type": "display_data"
    },
    {
     "data": {
      "text/markdown": [
       "DEV076"
      ],
      "text/plain": [
       "<IPython.core.display.Markdown object>"
      ]
     },
     "metadata": {},
     "output_type": "display_data"
    },
    {
     "name": "stdout",
     "output_type": "stream",
     "text": [
      "/gpfs/projects/sanlab/shared/DEV/nonbids_data/fMRI/ml/SST/discriminability_cache/v_1_pfc/dtt_results_DEV076.pkl\n"
     ]
    },
    {
     "data": {
      "text/markdown": [
       "pre-loaded."
      ],
      "text/plain": [
       "<IPython.core.display.Markdown object>"
      ]
     },
     "metadata": {},
     "output_type": "display_data"
    },
    {
     "data": {
      "text/markdown": [
       "DEV077"
      ],
      "text/plain": [
       "<IPython.core.display.Markdown object>"
      ]
     },
     "metadata": {},
     "output_type": "display_data"
    },
    {
     "name": "stdout",
     "output_type": "stream",
     "text": [
      "/gpfs/projects/sanlab/shared/DEV/nonbids_data/fMRI/ml/SST/discriminability_cache/v_1_pfc/dtt_results_DEV077.pkl\n"
     ]
    },
    {
     "data": {
      "text/markdown": [
       "pre-loaded."
      ],
      "text/plain": [
       "<IPython.core.display.Markdown object>"
      ]
     },
     "metadata": {},
     "output_type": "display_data"
    },
    {
     "data": {
      "text/markdown": [
       "DEV079"
      ],
      "text/plain": [
       "<IPython.core.display.Markdown object>"
      ]
     },
     "metadata": {},
     "output_type": "display_data"
    },
    {
     "name": "stdout",
     "output_type": "stream",
     "text": [
      "/gpfs/projects/sanlab/shared/DEV/nonbids_data/fMRI/ml/SST/discriminability_cache/v_1_pfc/dtt_results_DEV079.pkl\n"
     ]
    },
    {
     "data": {
      "text/markdown": [
       "pre-loaded."
      ],
      "text/plain": [
       "<IPython.core.display.Markdown object>"
      ]
     },
     "metadata": {},
     "output_type": "display_data"
    },
    {
     "data": {
      "text/markdown": [
       "DEV083"
      ],
      "text/plain": [
       "<IPython.core.display.Markdown object>"
      ]
     },
     "metadata": {},
     "output_type": "display_data"
    },
    {
     "name": "stdout",
     "output_type": "stream",
     "text": [
      "/gpfs/projects/sanlab/shared/DEV/nonbids_data/fMRI/ml/SST/discriminability_cache/v_1_pfc/dtt_results_DEV083.pkl\n"
     ]
    },
    {
     "data": {
      "text/markdown": [
       "pre-loaded."
      ],
      "text/plain": [
       "<IPython.core.display.Markdown object>"
      ]
     },
     "metadata": {},
     "output_type": "display_data"
    },
    {
     "data": {
      "text/markdown": [
       "DEV084"
      ],
      "text/plain": [
       "<IPython.core.display.Markdown object>"
      ]
     },
     "metadata": {},
     "output_type": "display_data"
    },
    {
     "name": "stdout",
     "output_type": "stream",
     "text": [
      "/gpfs/projects/sanlab/shared/DEV/nonbids_data/fMRI/ml/SST/discriminability_cache/v_1_pfc/dtt_results_DEV084.pkl\n"
     ]
    },
    {
     "data": {
      "text/markdown": [
       "pre-loaded."
      ],
      "text/plain": [
       "<IPython.core.display.Markdown object>"
      ]
     },
     "metadata": {},
     "output_type": "display_data"
    },
    {
     "data": {
      "text/markdown": [
       "DEV085"
      ],
      "text/plain": [
       "<IPython.core.display.Markdown object>"
      ]
     },
     "metadata": {},
     "output_type": "display_data"
    },
    {
     "name": "stdout",
     "output_type": "stream",
     "text": [
      "/gpfs/projects/sanlab/shared/DEV/nonbids_data/fMRI/ml/SST/discriminability_cache/v_1_pfc/dtt_results_DEV085.pkl\n"
     ]
    },
    {
     "data": {
      "text/markdown": [
       "pre-loaded."
      ],
      "text/plain": [
       "<IPython.core.display.Markdown object>"
      ]
     },
     "metadata": {},
     "output_type": "display_data"
    },
    {
     "data": {
      "text/markdown": [
       "DEV086"
      ],
      "text/plain": [
       "<IPython.core.display.Markdown object>"
      ]
     },
     "metadata": {},
     "output_type": "display_data"
    },
    {
     "name": "stdout",
     "output_type": "stream",
     "text": [
      "/gpfs/projects/sanlab/shared/DEV/nonbids_data/fMRI/ml/SST/discriminability_cache/v_1_pfc/dtt_results_DEV086.pkl\n"
     ]
    },
    {
     "data": {
      "text/markdown": [
       "pre-loaded."
      ],
      "text/plain": [
       "<IPython.core.display.Markdown object>"
      ]
     },
     "metadata": {},
     "output_type": "display_data"
    },
    {
     "data": {
      "text/markdown": [
       "DEV087"
      ],
      "text/plain": [
       "<IPython.core.display.Markdown object>"
      ]
     },
     "metadata": {},
     "output_type": "display_data"
    },
    {
     "name": "stdout",
     "output_type": "stream",
     "text": [
      "/gpfs/projects/sanlab/shared/DEV/nonbids_data/fMRI/ml/SST/discriminability_cache/v_1_pfc/dtt_results_DEV087.pkl\n"
     ]
    },
    {
     "data": {
      "text/markdown": [
       "pre-loaded."
      ],
      "text/plain": [
       "<IPython.core.display.Markdown object>"
      ]
     },
     "metadata": {},
     "output_type": "display_data"
    },
    {
     "data": {
      "text/markdown": [
       "DEV089"
      ],
      "text/plain": [
       "<IPython.core.display.Markdown object>"
      ]
     },
     "metadata": {},
     "output_type": "display_data"
    },
    {
     "name": "stdout",
     "output_type": "stream",
     "text": [
      "/gpfs/projects/sanlab/shared/DEV/nonbids_data/fMRI/ml/SST/discriminability_cache/v_1_pfc/dtt_results_DEV089.pkl\n"
     ]
    },
    {
     "data": {
      "text/markdown": [
       "pre-loaded."
      ],
      "text/plain": [
       "<IPython.core.display.Markdown object>"
      ]
     },
     "metadata": {},
     "output_type": "display_data"
    },
    {
     "data": {
      "text/markdown": [
       "DEV097"
      ],
      "text/plain": [
       "<IPython.core.display.Markdown object>"
      ]
     },
     "metadata": {},
     "output_type": "display_data"
    },
    {
     "name": "stdout",
     "output_type": "stream",
     "text": [
      "/gpfs/projects/sanlab/shared/DEV/nonbids_data/fMRI/ml/SST/discriminability_cache/v_1_pfc/dtt_results_DEV097.pkl\n"
     ]
    },
    {
     "data": {
      "text/markdown": [
       "pre-loaded."
      ],
      "text/plain": [
       "<IPython.core.display.Markdown object>"
      ]
     },
     "metadata": {},
     "output_type": "display_data"
    },
    {
     "data": {
      "text/markdown": [
       "DEV105"
      ],
      "text/plain": [
       "<IPython.core.display.Markdown object>"
      ]
     },
     "metadata": {},
     "output_type": "display_data"
    },
    {
     "name": "stdout",
     "output_type": "stream",
     "text": [
      "/gpfs/projects/sanlab/shared/DEV/nonbids_data/fMRI/ml/SST/discriminability_cache/v_1_pfc/dtt_results_DEV105.pkl\n"
     ]
    },
    {
     "data": {
      "text/markdown": [
       "pre-loaded."
      ],
      "text/plain": [
       "<IPython.core.display.Markdown object>"
      ]
     },
     "metadata": {},
     "output_type": "display_data"
    },
    {
     "data": {
      "text/markdown": [
       "DEV107"
      ],
      "text/plain": [
       "<IPython.core.display.Markdown object>"
      ]
     },
     "metadata": {},
     "output_type": "display_data"
    },
    {
     "name": "stdout",
     "output_type": "stream",
     "text": [
      "/gpfs/projects/sanlab/shared/DEV/nonbids_data/fMRI/ml/SST/discriminability_cache/v_1_pfc/dtt_results_DEV107.pkl\n"
     ]
    },
    {
     "data": {
      "text/markdown": [
       "pre-loaded."
      ],
      "text/plain": [
       "<IPython.core.display.Markdown object>"
      ]
     },
     "metadata": {},
     "output_type": "display_data"
    },
    {
     "data": {
      "text/markdown": [
       "DEV135"
      ],
      "text/plain": [
       "<IPython.core.display.Markdown object>"
      ]
     },
     "metadata": {},
     "output_type": "display_data"
    },
    {
     "name": "stdout",
     "output_type": "stream",
     "text": [
      "/gpfs/projects/sanlab/shared/DEV/nonbids_data/fMRI/ml/SST/discriminability_cache/v_1_pfc/dtt_results_DEV135.pkl\n"
     ]
    },
    {
     "data": {
      "text/markdown": [
       "pre-loaded."
      ],
      "text/plain": [
       "<IPython.core.display.Markdown object>"
      ]
     },
     "metadata": {},
     "output_type": "display_data"
    },
    {
     "data": {
      "text/markdown": [
       "DEV141"
      ],
      "text/plain": [
       "<IPython.core.display.Markdown object>"
      ]
     },
     "metadata": {},
     "output_type": "display_data"
    },
    {
     "name": "stdout",
     "output_type": "stream",
     "text": [
      "/gpfs/projects/sanlab/shared/DEV/nonbids_data/fMRI/ml/SST/discriminability_cache/v_1_pfc/dtt_results_DEV141.pkl\n"
     ]
    },
    {
     "data": {
      "text/markdown": [
       "pre-loaded."
      ],
      "text/plain": [
       "<IPython.core.display.Markdown object>"
      ]
     },
     "metadata": {},
     "output_type": "display_data"
    },
    {
     "data": {
      "text/markdown": [
       "DEV145"
      ],
      "text/plain": [
       "<IPython.core.display.Markdown object>"
      ]
     },
     "metadata": {},
     "output_type": "display_data"
    },
    {
     "name": "stdout",
     "output_type": "stream",
     "text": [
      "/gpfs/projects/sanlab/shared/DEV/nonbids_data/fMRI/ml/SST/discriminability_cache/v_1_pfc/dtt_results_DEV145.pkl\n"
     ]
    },
    {
     "data": {
      "text/markdown": [
       "pre-loaded."
      ],
      "text/plain": [
       "<IPython.core.display.Markdown object>"
      ]
     },
     "metadata": {},
     "output_type": "display_data"
    },
    {
     "data": {
      "text/markdown": [
       "DEV157"
      ],
      "text/plain": [
       "<IPython.core.display.Markdown object>"
      ]
     },
     "metadata": {},
     "output_type": "display_data"
    },
    {
     "name": "stdout",
     "output_type": "stream",
     "text": [
      "/gpfs/projects/sanlab/shared/DEV/nonbids_data/fMRI/ml/SST/discriminability_cache/v_1_pfc/dtt_results_DEV157.pkl\n"
     ]
    },
    {
     "data": {
      "text/markdown": [
       "pre-loaded."
      ],
      "text/plain": [
       "<IPython.core.display.Markdown object>"
      ]
     },
     "metadata": {},
     "output_type": "display_data"
    },
    {
     "data": {
      "text/markdown": [
       "DEV158"
      ],
      "text/plain": [
       "<IPython.core.display.Markdown object>"
      ]
     },
     "metadata": {},
     "output_type": "display_data"
    },
    {
     "name": "stdout",
     "output_type": "stream",
     "text": [
      "/gpfs/projects/sanlab/shared/DEV/nonbids_data/fMRI/ml/SST/discriminability_cache/v_1_pfc/dtt_results_DEV158.pkl\n"
     ]
    },
    {
     "data": {
      "text/markdown": [
       "pre-loaded."
      ],
      "text/plain": [
       "<IPython.core.display.Markdown object>"
      ]
     },
     "metadata": {},
     "output_type": "display_data"
    },
    {
     "data": {
      "text/markdown": [
       "DEV159"
      ],
      "text/plain": [
       "<IPython.core.display.Markdown object>"
      ]
     },
     "metadata": {},
     "output_type": "display_data"
    },
    {
     "name": "stdout",
     "output_type": "stream",
     "text": [
      "/gpfs/projects/sanlab/shared/DEV/nonbids_data/fMRI/ml/SST/discriminability_cache/v_1_pfc/dtt_results_DEV159.pkl\n"
     ]
    },
    {
     "data": {
      "text/markdown": [
       "pre-loaded."
      ],
      "text/plain": [
       "<IPython.core.display.Markdown object>"
      ]
     },
     "metadata": {},
     "output_type": "display_data"
    },
    {
     "data": {
      "text/markdown": [
       "DEV164"
      ],
      "text/plain": [
       "<IPython.core.display.Markdown object>"
      ]
     },
     "metadata": {},
     "output_type": "display_data"
    },
    {
     "name": "stdout",
     "output_type": "stream",
     "text": [
      "/gpfs/projects/sanlab/shared/DEV/nonbids_data/fMRI/ml/SST/discriminability_cache/v_1_pfc/dtt_results_DEV164.pkl\n"
     ]
    },
    {
     "data": {
      "text/markdown": [
       "pre-loaded."
      ],
      "text/plain": [
       "<IPython.core.display.Markdown object>"
      ]
     },
     "metadata": {},
     "output_type": "display_data"
    },
    {
     "data": {
      "text/markdown": [
       "DEV169"
      ],
      "text/plain": [
       "<IPython.core.display.Markdown object>"
      ]
     },
     "metadata": {},
     "output_type": "display_data"
    },
    {
     "name": "stdout",
     "output_type": "stream",
     "text": [
      "/gpfs/projects/sanlab/shared/DEV/nonbids_data/fMRI/ml/SST/discriminability_cache/v_1_pfc/dtt_results_DEV169.pkl\n"
     ]
    },
    {
     "data": {
      "text/markdown": [
       "pre-loaded."
      ],
      "text/plain": [
       "<IPython.core.display.Markdown object>"
      ]
     },
     "metadata": {},
     "output_type": "display_data"
    },
    {
     "data": {
      "text/markdown": [
       "DEV171"
      ],
      "text/plain": [
       "<IPython.core.display.Markdown object>"
      ]
     },
     "metadata": {},
     "output_type": "display_data"
    },
    {
     "name": "stdout",
     "output_type": "stream",
     "text": [
      "/gpfs/projects/sanlab/shared/DEV/nonbids_data/fMRI/ml/SST/discriminability_cache/v_1_pfc/dtt_results_DEV171.pkl\n"
     ]
    },
    {
     "data": {
      "text/markdown": [
       "pre-loaded."
      ],
      "text/plain": [
       "<IPython.core.display.Markdown object>"
      ]
     },
     "metadata": {},
     "output_type": "display_data"
    },
    {
     "data": {
      "text/markdown": [
       "DEV173"
      ],
      "text/plain": [
       "<IPython.core.display.Markdown object>"
      ]
     },
     "metadata": {},
     "output_type": "display_data"
    },
    {
     "name": "stdout",
     "output_type": "stream",
     "text": [
      "/gpfs/projects/sanlab/shared/DEV/nonbids_data/fMRI/ml/SST/discriminability_cache/v_1_pfc/dtt_results_DEV173.pkl\n"
     ]
    },
    {
     "data": {
      "text/markdown": [
       "pre-loaded."
      ],
      "text/plain": [
       "<IPython.core.display.Markdown object>"
      ]
     },
     "metadata": {},
     "output_type": "display_data"
    },
    {
     "data": {
      "text/markdown": [
       "DEV177"
      ],
      "text/plain": [
       "<IPython.core.display.Markdown object>"
      ]
     },
     "metadata": {},
     "output_type": "display_data"
    },
    {
     "name": "stdout",
     "output_type": "stream",
     "text": [
      "/gpfs/projects/sanlab/shared/DEV/nonbids_data/fMRI/ml/SST/discriminability_cache/v_1_pfc/dtt_results_DEV177.pkl\n"
     ]
    },
    {
     "data": {
      "text/markdown": [
       "pre-loaded."
      ],
      "text/plain": [
       "<IPython.core.display.Markdown object>"
      ]
     },
     "metadata": {},
     "output_type": "display_data"
    },
    {
     "data": {
      "text/markdown": [
       "DEV186"
      ],
      "text/plain": [
       "<IPython.core.display.Markdown object>"
      ]
     },
     "metadata": {},
     "output_type": "display_data"
    },
    {
     "name": "stdout",
     "output_type": "stream",
     "text": [
      "/gpfs/projects/sanlab/shared/DEV/nonbids_data/fMRI/ml/SST/discriminability_cache/v_1_pfc/dtt_results_DEV186.pkl\n"
     ]
    },
    {
     "data": {
      "text/markdown": [
       "pre-loaded."
      ],
      "text/plain": [
       "<IPython.core.display.Markdown object>"
      ]
     },
     "metadata": {},
     "output_type": "display_data"
    },
    {
     "data": {
      "text/markdown": [
       "DEV197"
      ],
      "text/plain": [
       "<IPython.core.display.Markdown object>"
      ]
     },
     "metadata": {},
     "output_type": "display_data"
    },
    {
     "name": "stdout",
     "output_type": "stream",
     "text": [
      "/gpfs/projects/sanlab/shared/DEV/nonbids_data/fMRI/ml/SST/discriminability_cache/v_1_pfc/dtt_results_DEV197.pkl\n"
     ]
    },
    {
     "data": {
      "text/markdown": [
       "pre-loaded."
      ],
      "text/plain": [
       "<IPython.core.display.Markdown object>"
      ]
     },
     "metadata": {},
     "output_type": "display_data"
    },
    {
     "data": {
      "text/markdown": [
       "DEV206"
      ],
      "text/plain": [
       "<IPython.core.display.Markdown object>"
      ]
     },
     "metadata": {},
     "output_type": "display_data"
    },
    {
     "name": "stdout",
     "output_type": "stream",
     "text": [
      "/gpfs/projects/sanlab/shared/DEV/nonbids_data/fMRI/ml/SST/discriminability_cache/v_1_pfc/dtt_results_DEV206.pkl\n"
     ]
    },
    {
     "data": {
      "text/markdown": [
       "pre-loaded."
      ],
      "text/plain": [
       "<IPython.core.display.Markdown object>"
      ]
     },
     "metadata": {},
     "output_type": "display_data"
    },
    {
     "data": {
      "text/markdown": [
       "DEV215"
      ],
      "text/plain": [
       "<IPython.core.display.Markdown object>"
      ]
     },
     "metadata": {},
     "output_type": "display_data"
    },
    {
     "name": "stdout",
     "output_type": "stream",
     "text": [
      "/gpfs/projects/sanlab/shared/DEV/nonbids_data/fMRI/ml/SST/discriminability_cache/v_1_pfc/dtt_results_DEV215.pkl\n"
     ]
    },
    {
     "data": {
      "text/markdown": [
       "loading subject DEV215"
      ],
      "text/plain": [
       "<IPython.core.display.Markdown object>"
      ]
     },
     "metadata": {},
     "output_type": "display_data"
    },
    {
     "name": "stdout",
     "output_type": "stream",
     "text": [
      "checked for intersection and no intersection between the brain data and the subjects was found.\n",
      "there were 58 subjects overlapping between the subjects marked for train data and the training dump file itself.\n",
      "test_train_set: 9549\n",
      "pkl_file: 168\n",
      "brain_data_filepath: 152\n",
      "train_test_markers_filepath: 141\n",
      "response_transform_func: 136\n",
      "sys: 72\n",
      "subjs_to_use: 64\n",
      "clean: 60\n",
      "Brain_Data_allsubs: 48\n"
     ]
    },
    {
     "name": "stderr",
     "output_type": "stream",
     "text": [
      "/gpfs/projects/sanlab/shared/DEV/DEV_scripts/fMRI/ml/apply_loocv_and_save.py:202: SettingWithCopyWarning: \n",
      "A value is trying to be set on a copy of a slice from a DataFrame\n",
      "\n",
      "See the caveats in the documentation: https://pandas.pydata.org/pandas-docs/stable/user_guide/indexing.html#returning-a-view-versus-a-copy\n",
      "  Brain_Data_allsubs.Y[Brain_Data_allsubs.Y=='NULL']=None\n"
     ]
    },
    {
     "name": "stdout",
     "output_type": "stream",
     "text": [
      "9037\n",
      "9037\n"
     ]
    },
    {
     "data": {
      "text/plain": [
       "correct-go      93\n",
       "correct-stop    17\n",
       "Name: trial_type, dtype: int64"
      ]
     },
     "metadata": {},
     "output_type": "display_data"
    },
    {
     "data": {
      "text/markdown": [
       "setting up decoder..."
      ],
      "text/plain": [
       "<IPython.core.display.Markdown object>"
      ]
     },
     "metadata": {},
     "output_type": "display_data"
    },
    {
     "data": {
      "text/markdown": [
       "fitting"
      ],
      "text/plain": [
       "<IPython.core.display.Markdown object>"
      ]
     },
     "metadata": {},
     "output_type": "display_data"
    },
    {
     "data": {
      "text/markdown": [
       "evaluating"
      ],
      "text/plain": [
       "<IPython.core.display.Markdown object>"
      ]
     },
     "metadata": {},
     "output_type": "display_data"
    },
    {
     "data": {
      "text/plain": [
       "{'mean_cv_scores': 0.34609609609609615,\n",
       " 'overfit_accuracy': 0.7090909090909091,\n",
       " 'overfit_y_pred_vs_obs':              y_obs        y_pred\n",
       " 8600  correct-stop  correct-stop\n",
       " 8601    correct-go    correct-go\n",
       " 8602    correct-go  correct-stop\n",
       " 8603    correct-go  correct-stop\n",
       " 8604    correct-go  correct-stop\n",
       " ...            ...           ...\n",
       " 8705    correct-go    correct-go\n",
       " 8706    correct-go  correct-stop\n",
       " 8707    correct-go  correct-stop\n",
       " 8708    correct-go    correct-go\n",
       " 8709  correct-stop  correct-stop\n",
       " \n",
       " [110 rows x 2 columns]}"
      ]
     },
     "metadata": {},
     "output_type": "display_data"
    },
    {
     "data": {
      "text/markdown": [
       "DEV216"
      ],
      "text/plain": [
       "<IPython.core.display.Markdown object>"
      ]
     },
     "metadata": {},
     "output_type": "display_data"
    },
    {
     "name": "stdout",
     "output_type": "stream",
     "text": [
      "/gpfs/projects/sanlab/shared/DEV/nonbids_data/fMRI/ml/SST/discriminability_cache/v_1_pfc/dtt_results_DEV216.pkl\n"
     ]
    },
    {
     "data": {
      "text/markdown": [
       "loading subject DEV216"
      ],
      "text/plain": [
       "<IPython.core.display.Markdown object>"
      ]
     },
     "metadata": {},
     "output_type": "display_data"
    },
    {
     "name": "stdout",
     "output_type": "stream",
     "text": [
      "checked for intersection and no intersection between the brain data and the subjects was found.\n",
      "there were 58 subjects overlapping between the subjects marked for train data and the training dump file itself.\n",
      "test_train_set: 9549\n",
      "pkl_file: 168\n",
      "brain_data_filepath: 152\n",
      "train_test_markers_filepath: 141\n",
      "response_transform_func: 136\n",
      "sys: 72\n",
      "subjs_to_use: 64\n",
      "clean: 60\n",
      "Brain_Data_allsubs: 48\n"
     ]
    },
    {
     "name": "stderr",
     "output_type": "stream",
     "text": [
      "/gpfs/projects/sanlab/shared/DEV/DEV_scripts/fMRI/ml/apply_loocv_and_save.py:202: SettingWithCopyWarning: \n",
      "A value is trying to be set on a copy of a slice from a DataFrame\n",
      "\n",
      "See the caveats in the documentation: https://pandas.pydata.org/pandas-docs/stable/user_guide/indexing.html#returning-a-view-versus-a-copy\n",
      "  Brain_Data_allsubs.Y[Brain_Data_allsubs.Y=='NULL']=None\n"
     ]
    },
    {
     "name": "stdout",
     "output_type": "stream",
     "text": [
      "9037\n",
      "9037\n"
     ]
    },
    {
     "data": {
      "text/plain": [
       "correct-go      96\n",
       "correct-stop    14\n",
       "Name: trial_type, dtype: int64"
      ]
     },
     "metadata": {},
     "output_type": "display_data"
    },
    {
     "data": {
      "text/markdown": [
       "setting up decoder..."
      ],
      "text/plain": [
       "<IPython.core.display.Markdown object>"
      ]
     },
     "metadata": {},
     "output_type": "display_data"
    },
    {
     "data": {
      "text/markdown": [
       "fitting"
      ],
      "text/plain": [
       "<IPython.core.display.Markdown object>"
      ]
     },
     "metadata": {},
     "output_type": "display_data"
    },
    {
     "data": {
      "text/markdown": [
       "evaluating"
      ],
      "text/plain": [
       "<IPython.core.display.Markdown object>"
      ]
     },
     "metadata": {},
     "output_type": "display_data"
    },
    {
     "data": {
      "text/plain": [
       "{'mean_cv_scores': 0.37262262262262263,\n",
       " 'overfit_accuracy': 0.6363636363636364,\n",
       " 'overfit_y_pred_vs_obs':              y_obs        y_pred\n",
       " 8710    correct-go    correct-go\n",
       " 8711    correct-go  correct-stop\n",
       " 8712    correct-go  correct-stop\n",
       " 8713    correct-go  correct-stop\n",
       " 8714    correct-go    correct-go\n",
       " ...            ...           ...\n",
       " 8815    correct-go  correct-stop\n",
       " 8816    correct-go    correct-go\n",
       " 8817  correct-stop  correct-stop\n",
       " 8818    correct-go    correct-go\n",
       " 8819    correct-go    correct-go\n",
       " \n",
       " [110 rows x 2 columns]}"
      ]
     },
     "metadata": {},
     "output_type": "display_data"
    },
    {
     "data": {
      "text/markdown": [
       "DEV217"
      ],
      "text/plain": [
       "<IPython.core.display.Markdown object>"
      ]
     },
     "metadata": {},
     "output_type": "display_data"
    },
    {
     "name": "stdout",
     "output_type": "stream",
     "text": [
      "/gpfs/projects/sanlab/shared/DEV/nonbids_data/fMRI/ml/SST/discriminability_cache/v_1_pfc/dtt_results_DEV217.pkl\n"
     ]
    },
    {
     "data": {
      "text/markdown": [
       "loading subject DEV217"
      ],
      "text/plain": [
       "<IPython.core.display.Markdown object>"
      ]
     },
     "metadata": {},
     "output_type": "display_data"
    },
    {
     "name": "stdout",
     "output_type": "stream",
     "text": [
      "checked for intersection and no intersection between the brain data and the subjects was found.\n",
      "there were 58 subjects overlapping between the subjects marked for train data and the training dump file itself.\n",
      "test_train_set: 9549\n",
      "pkl_file: 168\n",
      "brain_data_filepath: 152\n",
      "train_test_markers_filepath: 141\n",
      "response_transform_func: 136\n",
      "sys: 72\n",
      "subjs_to_use: 64\n",
      "clean: 60\n",
      "Brain_Data_allsubs: 48\n"
     ]
    },
    {
     "name": "stderr",
     "output_type": "stream",
     "text": [
      "/gpfs/projects/sanlab/shared/DEV/DEV_scripts/fMRI/ml/apply_loocv_and_save.py:202: SettingWithCopyWarning: \n",
      "A value is trying to be set on a copy of a slice from a DataFrame\n",
      "\n",
      "See the caveats in the documentation: https://pandas.pydata.org/pandas-docs/stable/user_guide/indexing.html#returning-a-view-versus-a-copy\n",
      "  Brain_Data_allsubs.Y[Brain_Data_allsubs.Y=='NULL']=None\n"
     ]
    },
    {
     "name": "stdout",
     "output_type": "stream",
     "text": [
      "9037\n",
      "9037\n"
     ]
    },
    {
     "data": {
      "text/plain": [
       "correct-go      96\n",
       "correct-stop    16\n",
       "Name: trial_type, dtype: int64"
      ]
     },
     "metadata": {},
     "output_type": "display_data"
    },
    {
     "data": {
      "text/markdown": [
       "setting up decoder..."
      ],
      "text/plain": [
       "<IPython.core.display.Markdown object>"
      ]
     },
     "metadata": {},
     "output_type": "display_data"
    },
    {
     "data": {
      "text/markdown": [
       "fitting"
      ],
      "text/plain": [
       "<IPython.core.display.Markdown object>"
      ]
     },
     "metadata": {},
     "output_type": "display_data"
    },
    {
     "data": {
      "text/markdown": [
       "evaluating"
      ],
      "text/plain": [
       "<IPython.core.display.Markdown object>"
      ]
     },
     "metadata": {},
     "output_type": "display_data"
    },
    {
     "data": {
      "text/plain": [
       "{'mean_cv_scores': 0.3745851114272167,\n",
       " 'overfit_accuracy': 0.6607142857142857,\n",
       " 'overfit_y_pred_vs_obs':              y_obs        y_pred\n",
       " 8820    correct-go    correct-go\n",
       " 8821    correct-go  correct-stop\n",
       " 8822    correct-go  correct-stop\n",
       " 8823    correct-go  correct-stop\n",
       " 8824    correct-go    correct-go\n",
       " ...            ...           ...\n",
       " 8927    correct-go    correct-go\n",
       " 8928  correct-stop  correct-stop\n",
       " 8929    correct-go    correct-go\n",
       " 8930  correct-stop  correct-stop\n",
       " 8931    correct-go    correct-go\n",
       " \n",
       " [112 rows x 2 columns]}"
      ]
     },
     "metadata": {},
     "output_type": "display_data"
    },
    {
     "data": {
      "text/markdown": [
       "DEV218"
      ],
      "text/plain": [
       "<IPython.core.display.Markdown object>"
      ]
     },
     "metadata": {},
     "output_type": "display_data"
    },
    {
     "name": "stdout",
     "output_type": "stream",
     "text": [
      "/gpfs/projects/sanlab/shared/DEV/nonbids_data/fMRI/ml/SST/discriminability_cache/v_1_pfc/dtt_results_DEV218.pkl\n"
     ]
    },
    {
     "data": {
      "text/markdown": [
       "loading subject DEV218"
      ],
      "text/plain": [
       "<IPython.core.display.Markdown object>"
      ]
     },
     "metadata": {},
     "output_type": "display_data"
    },
    {
     "name": "stdout",
     "output_type": "stream",
     "text": [
      "checked for intersection and no intersection between the brain data and the subjects was found.\n",
      "there were 58 subjects overlapping between the subjects marked for train data and the training dump file itself.\n",
      "test_train_set: 9549\n",
      "pkl_file: 168\n",
      "brain_data_filepath: 152\n",
      "train_test_markers_filepath: 141\n",
      "response_transform_func: 136\n",
      "sys: 72\n",
      "subjs_to_use: 64\n",
      "clean: 60\n",
      "Brain_Data_allsubs: 48\n"
     ]
    },
    {
     "name": "stderr",
     "output_type": "stream",
     "text": [
      "/gpfs/projects/sanlab/shared/DEV/DEV_scripts/fMRI/ml/apply_loocv_and_save.py:202: SettingWithCopyWarning: \n",
      "A value is trying to be set on a copy of a slice from a DataFrame\n",
      "\n",
      "See the caveats in the documentation: https://pandas.pydata.org/pandas-docs/stable/user_guide/indexing.html#returning-a-view-versus-a-copy\n",
      "  Brain_Data_allsubs.Y[Brain_Data_allsubs.Y=='NULL']=None\n"
     ]
    },
    {
     "name": "stdout",
     "output_type": "stream",
     "text": [
      "9037\n",
      "9037\n"
     ]
    },
    {
     "data": {
      "text/plain": [
       "correct-go      85\n",
       "correct-stop    20\n",
       "Name: trial_type, dtype: int64"
      ]
     },
     "metadata": {},
     "output_type": "display_data"
    },
    {
     "data": {
      "text/markdown": [
       "setting up decoder..."
      ],
      "text/plain": [
       "<IPython.core.display.Markdown object>"
      ]
     },
     "metadata": {},
     "output_type": "display_data"
    },
    {
     "data": {
      "text/markdown": [
       "fitting"
      ],
      "text/plain": [
       "<IPython.core.display.Markdown object>"
      ]
     },
     "metadata": {},
     "output_type": "display_data"
    },
    {
     "data": {
      "text/markdown": [
       "evaluating"
      ],
      "text/plain": [
       "<IPython.core.display.Markdown object>"
      ]
     },
     "metadata": {},
     "output_type": "display_data"
    },
    {
     "data": {
      "text/plain": [
       "{'mean_cv_scores': 0.4000000000000001,\n",
       " 'overfit_accuracy': 0.7047619047619048,\n",
       " 'overfit_y_pred_vs_obs':              y_obs        y_pred\n",
       " 8932    correct-go    correct-go\n",
       " 8933    correct-go    correct-go\n",
       " 8934    correct-go  correct-stop\n",
       " 8935    correct-go    correct-go\n",
       " 8936    correct-go    correct-go\n",
       " ...            ...           ...\n",
       " 9032    correct-go    correct-go\n",
       " 9033    correct-go  correct-stop\n",
       " 9034    correct-go  correct-stop\n",
       " 9035    correct-go    correct-go\n",
       " 9036  correct-stop  correct-stop\n",
       " \n",
       " [105 rows x 2 columns]}"
      ]
     },
     "metadata": {},
     "output_type": "display_data"
    }
   ],
   "source": [
    "summary_results = get_all_subjs_discriminability_masked(\n",
    "    subj_list, \"v_1_pfc\",ml_data_folderpath=ml_data_folderpath,\n",
    "    subject_discrim_args = \n",
    "    {'train_test_markers_filepath':train_test_markers_filepath, \n",
    "     'brain_data_filepath':brain_data_filepath, \n",
    "     'resp_trans_func': trialtype_resp_trans_func,\n",
    "     'mask':pfc_mask})"
   ]
  },
  {
   "cell_type": "markdown",
   "id": "understood-inspection",
   "metadata": {},
   "source": [
    "## RTFS"
   ]
  },
  {
   "cell_type": "code",
   "execution_count": null,
   "id": "japanese-reality",
   "metadata": {},
   "outputs": [],
   "source": []
  }
 ],
 "metadata": {
  "kernelspec": {
   "display_name": "Python [conda env:.conda-neuralsignature]",
   "language": "python",
   "name": "conda-env-.conda-neuralsignature-py"
  },
  "language_info": {
   "codemirror_mode": {
    "name": "ipython",
    "version": 3
   },
   "file_extension": ".py",
   "mimetype": "text/x-python",
   "name": "python",
   "nbconvert_exporter": "python",
   "pygments_lexer": "ipython3",
   "version": "3.8.5"
  }
 },
 "nbformat": 4,
 "nbformat_minor": 5
}
