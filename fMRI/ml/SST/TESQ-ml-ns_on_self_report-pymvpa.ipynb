{
 "cells": [
  {
   "cell_type": "markdown",
   "id": "angry-conspiracy",
   "metadata": {
    "tags": []
   },
   "source": [
    "This builds on TESQ-ml-ns-nogo-go\n",
    "\n",
    "> **proposal 1**\n",
    "> \n",
    "> Two class (e.g., CorrectStop vs. CorrectGo)\n",
    "> \n",
    "> Leave-One-Out classifier...\n",
    "> \n",
    "> Neural similarity of a subject to the group with a Stop vs. Go contrast might actually be indicative of performance.\n",
    "> \n",
    "> subjects will naturally differ across the task as to how much their average signal responds to that, and the ones with better response might have better response inhibition.\n",
    "\n",
    "We use the same neural data, but instead of regressing on classifying these classes, we take one class or the other or we combine them in some way and we regress on our self report variables."
   ]
  },
  {
   "cell_type": "markdown",
   "id": "humanitarian-discretion",
   "metadata": {},
   "source": [
    "So there are a couple of steps here...\n",
    "\n",
    "1. iterate through subjects, holding out one at a time, and do the following steps.\n",
    "2. Train a regressor across all the training subjects, regressing CorrectStop and CorrectGo on TESQ-E and other self report measures including FFQ either (a) independently (b) contrasted with each other (c) concatenated in a single image.\n",
    "3. If a link can be established, we've shown there is a relevant link between TESQ-E or other self-report measure, and the neural signature.\n",
    "4. ...that seems like a publication in itself!\n",
    "\n",
    "\n"
   ]
  },
  {
   "cell_type": "markdown",
   "id": "taken-certification",
   "metadata": {},
   "source": [
    "As a first pass, we can simplify this a bit just trying that single classifier on all subjects. This means that we're using train for tes tset but it will give us an initial measure of feasibility.\n",
    "\n",
    "We probably do need to restrict to a specific brain region though, and that means retraining. - I think that prefrontal cortex mask we have works well."
   ]
  },
  {
   "cell_type": "markdown",
   "id": "oriental-glucose",
   "metadata": {},
   "source": [
    "## Data already generated"
   ]
  },
  {
   "cell_type": "markdown",
   "id": "opponent-oxford",
   "metadata": {},
   "source": [
    "Can we use data already generated in `SST_inhibition_cv.ipynb`?"
   ]
  },
  {
   "cell_type": "code",
   "execution_count": 1,
   "id": "mineral-pillow",
   "metadata": {},
   "outputs": [
    {
     "name": "stderr",
     "output_type": "stream",
     "text": [
      "/tmp/ipykernel_14428/659417397.py:2: DeprecationWarning: Importing display from IPython.core.display is deprecated since IPython 7.14, please import from IPython display\n",
      "  from IPython.core.display import display, HTML, Markdown\n"
     ]
    }
   ],
   "source": [
    "import pickle\n",
    "from IPython.core.display import display, HTML, Markdown"
   ]
  },
  {
   "cell_type": "code",
   "execution_count": 2,
   "id": "mechanical-rainbow",
   "metadata": {},
   "outputs": [],
   "source": [
    "ml_data_folderpath = \"/gpfs/projects/sanlab/shared/DEV/nonbids_data/fMRI/ml\""
   ]
  },
  {
   "cell_type": "code",
   "execution_count": 3,
   "id": "economic-hartford",
   "metadata": {},
   "outputs": [],
   "source": [
    "#results_filepath=ml_data_folderpath + \"/SST/train_test_results_conditions_40subs_twoclasses.pkl\""
   ]
  },
  {
   "cell_type": "code",
   "execution_count": 4,
   "id": "romance-tracker",
   "metadata": {},
   "outputs": [],
   "source": [
    "#results_2c = pickle.load(open(results_filepath,'rb'))"
   ]
  },
  {
   "cell_type": "markdown",
   "id": "popular-myrtle",
   "metadata": {},
   "source": [
    "Not quite--we need a PFC mask I think. But we can use the script already written to do that."
   ]
  },
  {
   "cell_type": "markdown",
   "id": "falling-queue",
   "metadata": {},
   "source": [
    "## Setup"
   ]
  },
  {
   "cell_type": "code",
   "execution_count": 5,
   "id": "limiting-galaxy",
   "metadata": {},
   "outputs": [],
   "source": [
    "import sys\n",
    "import os\n",
    "import pandas as pd\n",
    "\n",
    "sys.path.append(os.path.abspath(\"../../ml/\"))\n",
    "\n",
    "#from apply_loocv_and_save import *\n",
    "#from dev_wtp_io_utils import *\n",
    "import gc\n",
    "import nibabel as nib\n",
    "\n",
    "from os import path\n",
    "\n"
   ]
  },
  {
   "cell_type": "code",
   "execution_count": 6,
   "id": "contemporary-punch",
   "metadata": {},
   "outputs": [],
   "source": [
    "from sklearn.svm import LinearSVC\n",
    "from scipy.stats import ttest_1samp, pearsonr"
   ]
  },
  {
   "cell_type": "code",
   "execution_count": 7,
   "id": "sealed-restriction",
   "metadata": {},
   "outputs": [],
   "source": [
    "from pymvpa2_ml_library import *\n",
    "from generic_utils import *"
   ]
  },
  {
   "cell_type": "code",
   "execution_count": 8,
   "id": "natural-circumstances",
   "metadata": {},
   "outputs": [
    {
     "name": "stderr",
     "output_type": "stream",
     "text": [
      "Failed to import duecredit due to No module named 'duecredit'\n",
      "/home/bsmith16/.conda/envs/py3_mvpa/lib/python3.8/site-packages/mvpa2/datasets/base.py:465: DeprecationWarning: `np.float` is a deprecated alias for the builtin `float`. To silence this warning, use `float` by itself. Doing this will not modify any behavior and is safe. If you specifically wanted the numpy scalar type, use `np.float64` here.\n",
      "Deprecated in NumPy 1.20; for more details and guidance: https://numpy.org/devdocs/release/1.20.0-notes.html#deprecations\n",
      "  def __init__(self, shape=None, sid=None, fid=None, dtype=np.float):\n"
     ]
    }
   ],
   "source": [
    "from mvpa_pipeline_utils import get_Brain_Data_betas_as_mvpa_for_sub, import_beta_series_pymvpa2, sa_to_df"
   ]
  },
  {
   "cell_type": "code",
   "execution_count": 9,
   "id": "located-longitude",
   "metadata": {},
   "outputs": [],
   "source": [
    "#from analyze_results import *"
   ]
  },
  {
   "cell_type": "markdown",
   "id": "greater-colorado",
   "metadata": {},
   "source": [
    "## condition_contrast"
   ]
  },
  {
   "cell_type": "code",
   "execution_count": 10,
   "id": "endless-texture",
   "metadata": {},
   "outputs": [],
   "source": [
    "import scipy\n",
    "#load the matrix associated with this file\n",
    "sl_mat = scipy.io.loadmat(\n",
    "'/gpfs/projects/sanlab/shared/DEV/nonbids_data/fMRI/fx/models/SST/wave1/conditions/sub-DEV073/SPM.mat',\n",
    "simplify_cells=True            \n",
    ")\n",
    "mat_betas = sl_mat['SPM']['Vbeta']"
   ]
  },
  {
   "cell_type": "code",
   "execution_count": 11,
   "id": "floral-invite",
   "metadata": {},
   "outputs": [
    {
     "data": {
      "text/plain": [
       "['spm_spm:beta (0001) - Sn(1) CorrectGo*bf(1)',\n",
       " 'spm_spm:beta (0002) - Sn(1) CorrectStop*bf(1)',\n",
       " 'spm_spm:beta (0003) - Sn(1) FailedStop*bf(1)',\n",
       " 'spm_spm:beta (0004) - Sn(1) Cue*bf(1)',\n",
       " 'spm_spm:beta (0005) - Sn(1) R1',\n",
       " 'spm_spm:beta (0006) - Sn(1) R2',\n",
       " 'spm_spm:beta (0007) - Sn(1) R3',\n",
       " 'spm_spm:beta (0008) - Sn(1) R4',\n",
       " 'spm_spm:beta (0009) - Sn(1) R5',\n",
       " 'spm_spm:beta (0010) - Sn(1) constant']"
      ]
     },
     "execution_count": 11,
     "metadata": {},
     "output_type": "execute_result"
    }
   ],
   "source": [
    "[mat_betas[beta_i]['descrip'] for beta_i in range(len(mat_betas))]"
   ]
  },
  {
   "cell_type": "markdown",
   "id": "circular-conjunction",
   "metadata": {},
   "source": [
    "## stitching contrasts together in different ways\n",
    "\n",
    "We'd want:\n",
    "\n",
    " - contrast of the two conditions\n",
    " - each of the two conditions alone.\n",
    " \n",
    "The contrast is a little tricky. Easiest thing is to try each of the conditions alone. Stitching the two together might not be too hard. Let's try doing CorrectStop first, and then we'll try concatenating the images. Doing a contrast is actually the most difficult becuase I have to backtrack in the process to generate new betas (see https://docs.google.com/presentation/d/1K-nFrZYE6rR8t0myNyacB7frBzV3B1--nMqPhVkwL8E/edit#slide=id.geeff6890fb_0_16)."
   ]
  },
  {
   "cell_type": "markdown",
   "id": "mysterious-omaha",
   "metadata": {},
   "source": [
    "See `different ways of combining images.ipynb`."
   ]
  },
  {
   "cell_type": "markdown",
   "id": "fluid-africa",
   "metadata": {},
   "source": [
    "## template"
   ]
  },
  {
   "cell_type": "raw",
   "id": "clinical-victorian",
   "metadata": {},
   "source": [
    "do_complete_analysis_for_mask('goal')"
   ]
  },
  {
   "cell_type": "markdown",
   "id": "latest-baseball",
   "metadata": {},
   "source": [
    "## regressing on self report"
   ]
  },
  {
   "cell_type": "code",
   "execution_count": 12,
   "id": "superior-depth",
   "metadata": {},
   "outputs": [],
   "source": [
    "nonbids_data_path = \"/gpfs/projects/sanlab/shared/DEV/nonbids_data/\"\n",
    "ml_data_folderpath = \"/gpfs/projects/sanlab/shared/DEV/nonbids_data/fMRI/ml\"\n",
    "train_test_markers_filepath = ml_data_folderpath + \"/train_test_markers_20210601T183243.csv\"\n",
    "test_train_df = pd.read_csv(train_test_markers_filepath)\n",
    "\n",
    "all_sst_events= pd.read_csv(ml_data_folderpath +\"/SST/\" + \"all_sst_events.csv\")\n",
    "\n",
    "\n",
    "script_path = '/gpfs/projects/sanlab/shared/DEV/DEV_scripts/fMRI/ml'\n",
    "# HRF 2s\n",
    "\n"
   ]
  },
  {
   "cell_type": "code",
   "execution_count": 13,
   "id": "passive-brunei",
   "metadata": {},
   "outputs": [],
   "source": [
    "\n",
    "## additional masks\n",
    "\n",
    "all_masks = get_all_masks(ml_data_folderpath)"
   ]
  },
  {
   "cell_type": "code",
   "execution_count": 14,
   "id": "noted-fabric",
   "metadata": {},
   "outputs": [
    {
     "name": "stdout",
     "output_type": "stream",
     "text": [
      "                                           mask_name  \\\n",
      "0               planning_association-test_z_FDR_0.01   \n",
      "1     executive function_association-test_z_FDR_0.01   \n",
      "2    response inhibition_association-test_z_FDR_0.01   \n",
      "3             inhibition_association-test_z_FDR_0.01   \n",
      "4  harvardoxford-cortical_prob_Frontal Orbital Co...   \n",
      "5  harvardoxford-cortical_prob_Inferior Frontal G...   \n",
      "6  harvardoxford-cortical_prob_Inferior Frontal G...   \n",
      "\n",
      "                                       mask_filepath  thresh  \n",
      "0  /gpfs/projects/sanlab/shared/DEV/nonbids_data/...     0.1  \n",
      "1  /gpfs/projects/sanlab/shared/DEV/nonbids_data/...     0.1  \n",
      "2  /gpfs/projects/sanlab/shared/DEV/nonbids_data/...     0.1  \n",
      "3  /gpfs/projects/sanlab/shared/DEV/nonbids_data/...     0.1  \n",
      "4  /gpfs/projects/sanlab/shared/DEV/nonbids_data/...    10.0  \n",
      "5  /gpfs/projects/sanlab/shared/DEV/nonbids_data/...    10.0  \n",
      "6  /gpfs/projects/sanlab/shared/DEV/nonbids_data/...    10.0  \n"
     ]
    }
   ],
   "source": [
    "print(all_masks)"
   ]
  },
  {
   "cell_type": "code",
   "execution_count": 15,
   "id": "comparable-adobe",
   "metadata": {},
   "outputs": [],
   "source": [
    "def setup_metadata(bd,target_val,standardize=True):\n",
    "    #set up chunks and targets so we can do the learning.\n",
    "    attribute_df = sa_to_df(bd.sa)\n",
    "    pd.concat([attribute_df['subject'],attribute_df['wave']],axis=1)\n",
    "    chunk = attribute_df['subject']+\"_\" + attribute_df['wave'].astype(str)\n",
    "    bd.sa['chunks'] = list(chunk)\n",
    "    if standardize:\n",
    "        target_data = bd.sa[target_val].value\n",
    "        target_data_mean = np.nanmean(target_data)\n",
    "        target_data_std = np.nanstd(target_data)\n",
    "        target_data_norm = (target_data-target_data_mean)/target_data_std\n",
    "        bd.sa['targets'] = list(target_data_norm)\n",
    "    else:\n",
    "        bd.sa['targets'] = list(bd.sa[target_val].value)\n",
    "    return(bd)"
   ]
  },
  {
   "cell_type": "code",
   "execution_count": 16,
   "id": "quantitative-hayes",
   "metadata": {},
   "outputs": [],
   "source": [
    "from sklearn.linear_model import Lasso\n",
    "def do_Lasso(train_X,train_y,test_X,test_y):\n",
    "    #if we fit intercept, it actually uses the y values to refit the items, \n",
    "    #adjusting everything up and down, and it can introduce _anticorrelation_ with the predicted value\n",
    "    #may need to mean-center the predicted variable _before_ analysis.\n",
    "    sklearn_regress = Lasso(alpha=2.0,fit_intercept=False)\n",
    "    \n",
    "    sklearn_regress.fit(train_X, train_y)\n",
    "    \n",
    "    predict_y = sklearn_regress.predict(test_X)\n",
    "#    print(predict_y,test_y)\n",
    "    return(predict_y,sklearn_regress)"
   ]
  },
  {
   "cell_type": "code",
   "execution_count": 86,
   "id": "optimum-anthony",
   "metadata": {},
   "outputs": [],
   "source": [
    "import math\n",
    "import numpy as np\n",
    "import pandas as pd\n",
    "from sklearn.model_selection import LeaveOneGroupOut\n",
    "from sklearn.svm import *\n",
    "from sklearn.linear_model import *\n",
    "\n",
    "def do_Ridge(train_X,train_y,test_X,test_y):\n",
    "    sklearn_regress = Ridge(alpha=5.0)\n",
    "    \n",
    "    sklearn_regress.fit(train_X, train_y)\n",
    "    \n",
    "    predict_y = sklearn_regress.predict(test_X)\n",
    "    return(predict_y,sklearn_regress)\n",
    "    \n",
    "def do_regression(dataset,normalization=None,get_prediction=None,verbose=False,require_mean_centered=True):\n",
    "    if get_prediction is None:\n",
    "        get_prediction = do_Ridge\n",
    "    logo=LeaveOneGroupOut()\n",
    "\n",
    "    group_scores = {}\n",
    "    sample_wise_results = []\n",
    "\n",
    "    items_to_eliminate_count = np.sum(np.isnan(dataset.sa.targets))\n",
    "    items_total = len(dataset.sa.targets)\n",
    "    print(\"eliminating \" + str(items_to_eliminate_count) + \" of \" + \n",
    "          str(items_total) + \" items due to null input values.\")\n",
    "    \n",
    "    dataset=dataset[np.isnan(dataset.sa.targets)==False]\n",
    "    \n",
    "    #ensure data is standardized\n",
    "    if abs(np.nanmean(dataset.sa.targets)>0.001) and require_mean_centered:\n",
    "        raise Exception(\"target data is not mean-centred, but mean centering is required.\")\n",
    "\n",
    "    for train_index, test_index in logo.split(\n",
    "        dataset.samples, dataset.sa.targets, dataset.sa.chunks):\n",
    "        iteration_label = np.unique(dataset.sa.chunks[test_index])[0]\n",
    "\n",
    "        #print(iteration_label, \"; TRAIN:\", len(train_index), \" items; TEST:\", test_index)\n",
    "        print(\".\",end=\"\",flush=True)\n",
    "\n",
    "        #do train-test split\n",
    "        train_X=dataset.samples[train_index]\n",
    "        test_X = dataset.samples[test_index]\n",
    "        train_y=dataset.sa.targets[train_index]\n",
    "        test_y = dataset.sa.targets[test_index]\n",
    "        #clf_svc = SVC()\n",
    "        \n",
    "        if normalization==\"train_set_based\":\n",
    "            #get mean based on train set alone\n",
    "            voxel_mean = np.mean(train_X,axis=0)\n",
    "            voxel_sd = np.std(train_X,axis=0)\n",
    "            #apply it to all.\n",
    "            train_X=(train_X-voxel_mean)/voxel_sd\n",
    "            test_X=(test_X-voxel_mean)/voxel_sd\n",
    "            raise Exception(\"this is obsolete--think this method is completely wrong.\")\n",
    "            #print(\"normalizing\")\n",
    "#         print(train_y)\n",
    "#         print(sum(np.isnan(train_y)))\n",
    "#         print(test_y)\n",
    "        predict_y, sklearn_clf = get_prediction(train_X,train_y,test_X,test_y)\n",
    "        predict_y_train = sklearn_clf.predict(train_X)\n",
    "#         print(pearsonr(predict_y_train,train_y))\n",
    "#         print(predict_y)\n",
    "#         print(predict_y_train)\n",
    "        \n",
    "        sample_wise_results_iter = pd.DataFrame({\n",
    "            'chunks':[iteration_label]*len(test_y),\n",
    "            'target_y':test_y,\n",
    "            'pred_y':predict_y,\n",
    "        })\n",
    "            \n",
    "        sample_wise_results = sample_wise_results + [sample_wise_results_iter]\n",
    "        \n",
    "    #need to create one more classifier to return.\n",
    "    #we test and train on the same here, which is OK, because we don't use this to assess performance\n",
    "    y_predict, model_final =get_prediction(\n",
    "        dataset.samples,dataset.sa.targets,dataset.samples,dataset.sa.targets)\n",
    "            \n",
    "    sample_wise_results_df = pd.concat(sample_wise_results)\n",
    "    return({'sample_wise':sample_wise_results_df,#'group_wise':group_scores,\n",
    "            'model':model_final})\n"
   ]
  },
  {
   "cell_type": "markdown",
   "id": "studied-weapon",
   "metadata": {},
   "source": [
    "# Method fine-tuning"
   ]
  },
  {
   "cell_type": "code",
   "execution_count": 18,
   "id": "quarterly-seating",
   "metadata": {},
   "outputs": [],
   "source": [
    "brain_data_filepath = ml_data_folderpath + '/SST/mvpa_Dataset_conditions_84subs_correct_cond.pkl'"
   ]
  },
  {
   "cell_type": "code",
   "execution_count": 19,
   "id": "arabic-negative",
   "metadata": {},
   "outputs": [],
   "source": [
    "with open(brain_data_filepath, 'rb') as pkl_file:\n",
    "    Brain_Data_allsubs = pickle.load(pkl_file)\n"
   ]
  },
  {
   "cell_type": "code",
   "execution_count": 20,
   "id": "immune-shower",
   "metadata": {},
   "outputs": [],
   "source": [
    "Brain_Data_allsubs = setup_metadata(Brain_Data_allsubs,'TESQ_E_sum')"
   ]
  },
  {
   "cell_type": "code",
   "execution_count": 21,
   "id": "significant-minutes",
   "metadata": {},
   "outputs": [],
   "source": [
    "Brain_Data_CorrectStop = Brain_Data_allsubs[Brain_Data_allsubs.sa.condition_label=='CorrectStop']"
   ]
  },
  {
   "cell_type": "code",
   "execution_count": 22,
   "id": "forty-paragraph",
   "metadata": {},
   "outputs": [],
   "source": [
    "from mvpa2.measures.rsa import Regression\n",
    "from sklearn.linear_model import Ridge"
   ]
  },
  {
   "cell_type": "code",
   "execution_count": 23,
   "id": "moral-visiting",
   "metadata": {},
   "outputs": [
    {
     "name": "stdout",
     "output_type": "stream",
     "text": [
      "eliminating 12 of 162 items due to null input values.\n",
      "..........................................................................."
     ]
    }
   ],
   "source": [
    "regression_results = do_regression(Brain_Data_allsubs)"
   ]
  },
  {
   "cell_type": "code",
   "execution_count": 24,
   "id": "geographic-restriction",
   "metadata": {},
   "outputs": [],
   "source": [
    "from sklearn.svm import LinearSVC\n",
    "from scipy.stats import ttest_1samp, pearsonr"
   ]
  },
  {
   "cell_type": "code",
   "execution_count": 25,
   "id": "automated-berry",
   "metadata": {},
   "outputs": [
    {
     "data": {
      "text/plain": [
       "(-0.1604586713191293, 0.04982091377259557)"
      ]
     },
     "execution_count": 25,
     "metadata": {},
     "output_type": "execute_result"
    }
   ],
   "source": [
    "pearsonr(regression_results['sample_wise']['target_y'],regression_results['sample_wise']['pred_y'])"
   ]
  },
  {
   "cell_type": "markdown",
   "id": "apparent-establishment",
   "metadata": {},
   "source": [
    "That's pretty good considering that we are regressing over all images whether they're Stop or Go signal. need to change this so that we alternately regress over stop or go only, or possibly, the difference between them.\n",
    "\n",
    "The contrast between them is probably best, which means we go to generate a new series based on that.\n",
    "\n",
    "Though, wait--why is it _negative_?"
   ]
  },
  {
   "cell_type": "code",
   "execution_count": 72,
   "id": "complete-crowd",
   "metadata": {},
   "outputs": [
    {
     "name": "stdout",
     "output_type": "stream",
     "text": [
      "eliminating 6 of 81 items due to null input values.\n",
      "..........................................................................."
     ]
    },
    {
     "data": {
      "text/plain": [
       "(-0.22395277163350039, 0.0534184155525718)"
      ]
     },
     "execution_count": 72,
     "metadata": {},
     "output_type": "execute_result"
    }
   ],
   "source": [
    "regression_results_CS = do_regression(Brain_Data_CorrectStop)\n",
    "pearsonr(regression_results_CS['sample_wise']['target_y'],regression_results_CS['sample_wise']['pred_y'])"
   ]
  },
  {
   "cell_type": "code",
   "execution_count": 73,
   "id": "british-chocolate",
   "metadata": {},
   "outputs": [
    {
     "data": {
      "text/html": [
       "<div>\n",
       "<style scoped>\n",
       "    .dataframe tbody tr th:only-of-type {\n",
       "        vertical-align: middle;\n",
       "    }\n",
       "\n",
       "    .dataframe tbody tr th {\n",
       "        vertical-align: top;\n",
       "    }\n",
       "\n",
       "    .dataframe thead th {\n",
       "        text-align: right;\n",
       "    }\n",
       "</style>\n",
       "<table border=\"1\" class=\"dataframe\">\n",
       "  <thead>\n",
       "    <tr style=\"text-align: right;\">\n",
       "      <th></th>\n",
       "      <th>chunks</th>\n",
       "      <th>target_y</th>\n",
       "      <th>pred_y</th>\n",
       "    </tr>\n",
       "  </thead>\n",
       "  <tbody>\n",
       "    <tr>\n",
       "      <th>0</th>\n",
       "      <td>DEV005_1</td>\n",
       "      <td>-0.314867</td>\n",
       "      <td>0.412142</td>\n",
       "    </tr>\n",
       "    <tr>\n",
       "      <th>0</th>\n",
       "      <td>DEV006_1</td>\n",
       "      <td>1.328669</td>\n",
       "      <td>0.413454</td>\n",
       "    </tr>\n",
       "    <tr>\n",
       "      <th>0</th>\n",
       "      <td>DEV010_1</td>\n",
       "      <td>-0.747377</td>\n",
       "      <td>-0.225567</td>\n",
       "    </tr>\n",
       "    <tr>\n",
       "      <th>0</th>\n",
       "      <td>DEV011_1</td>\n",
       "      <td>-1.352890</td>\n",
       "      <td>-0.039303</td>\n",
       "    </tr>\n",
       "    <tr>\n",
       "      <th>0</th>\n",
       "      <td>DEV013_1</td>\n",
       "      <td>0.031141</td>\n",
       "      <td>0.154750</td>\n",
       "    </tr>\n",
       "    <tr>\n",
       "      <th>...</th>\n",
       "      <td>...</td>\n",
       "      <td>...</td>\n",
       "      <td>...</td>\n",
       "    </tr>\n",
       "    <tr>\n",
       "      <th>0</th>\n",
       "      <td>DEV197_1</td>\n",
       "      <td>0.550152</td>\n",
       "      <td>0.112409</td>\n",
       "    </tr>\n",
       "    <tr>\n",
       "      <th>0</th>\n",
       "      <td>DEV206_1</td>\n",
       "      <td>-0.487871</td>\n",
       "      <td>-0.247337</td>\n",
       "    </tr>\n",
       "    <tr>\n",
       "      <th>0</th>\n",
       "      <td>DEV215_1</td>\n",
       "      <td>-0.833878</td>\n",
       "      <td>0.207193</td>\n",
       "    </tr>\n",
       "    <tr>\n",
       "      <th>0</th>\n",
       "      <td>DEV216_1</td>\n",
       "      <td>-1.093384</td>\n",
       "      <td>0.545270</td>\n",
       "    </tr>\n",
       "    <tr>\n",
       "      <th>0</th>\n",
       "      <td>DEV217_1</td>\n",
       "      <td>-0.141863</td>\n",
       "      <td>-0.051153</td>\n",
       "    </tr>\n",
       "  </tbody>\n",
       "</table>\n",
       "<p>75 rows × 3 columns</p>\n",
       "</div>"
      ],
      "text/plain": [
       "      chunks  target_y    pred_y\n",
       "0   DEV005_1 -0.314867  0.412142\n",
       "0   DEV006_1  1.328669  0.413454\n",
       "0   DEV010_1 -0.747377 -0.225567\n",
       "0   DEV011_1 -1.352890 -0.039303\n",
       "0   DEV013_1  0.031141  0.154750\n",
       "..       ...       ...       ...\n",
       "0   DEV197_1  0.550152  0.112409\n",
       "0   DEV206_1 -0.487871 -0.247337\n",
       "0   DEV215_1 -0.833878  0.207193\n",
       "0   DEV216_1 -1.093384  0.545270\n",
       "0   DEV217_1 -0.141863 -0.051153\n",
       "\n",
       "[75 rows x 3 columns]"
      ]
     },
     "execution_count": 73,
     "metadata": {},
     "output_type": "execute_result"
    }
   ],
   "source": [
    "regression_results_CS['sample_wise']"
   ]
  },
  {
   "cell_type": "code",
   "execution_count": 74,
   "id": "superb-twenty",
   "metadata": {},
   "outputs": [],
   "source": [
    "from matplotlib.pyplot import scatter"
   ]
  },
  {
   "cell_type": "code",
   "execution_count": 75,
   "id": "accepting-phrase",
   "metadata": {},
   "outputs": [
    {
     "data": {
      "text/plain": [
       "<matplotlib.collections.PathCollection at 0x2aaaffb78b50>"
      ]
     },
     "execution_count": 75,
     "metadata": {},
     "output_type": "execute_result"
    },
    {
     "data": {
      "image/png": "[encoded data removed]",
      "text/plain": [
       "<Figure size 432x288 with 1 Axes>"
      ]
     },
     "metadata": {
      "needs_background": "light"
     },
     "output_type": "display_data"
    }
   ],
   "source": [
    "scatter(regression_results_CS['sample_wise']['target_y'],regression_results_CS['sample_wise']['pred_y'])"
   ]
  },
  {
   "cell_type": "markdown",
   "id": "relative-thread",
   "metadata": {},
   "source": [
    "And really odd--why does it perform equally well for one class as for two? I thought two class analysis would be really nonsensical...which it is...considering the negative correlation for targets vs. pred"
   ]
  },
  {
   "cell_type": "code",
   "execution_count": 57,
   "id": "fuzzy-devices",
   "metadata": {},
   "outputs": [
    {
     "name": "stdout",
     "output_type": "stream",
     "text": [
      "eliminating 6 of 81 items due to null input values.\n",
      "..........................................................................."
     ]
    },
    {
     "data": {
      "text/plain": [
       "(-0.028789840475960636, 0.8063089701891368)"
      ]
     },
     "execution_count": 57,
     "metadata": {},
     "output_type": "execute_result"
    }
   ],
   "source": [
    "Brain_Data_CorrectGo = Brain_Data_allsubs[Brain_Data_allsubs.sa.condition_label=='CorrectGo']\n",
    "regression_results_CG = do_regression(Brain_Data_CorrectGo)\n",
    "pearsonr(regression_results_CG['sample_wise']['target_y'],regression_results_CG['sample_wise']['pred_y'])"
   ]
  },
  {
   "cell_type": "markdown",
   "id": "administrative-bubble",
   "metadata": {},
   "source": [
    "## try lasso"
   ]
  },
  {
   "cell_type": "code",
   "execution_count": 76,
   "id": "native-connection",
   "metadata": {},
   "outputs": [
    {
     "name": "stdout",
     "output_type": "stream",
     "text": [
      "eliminating 12 of 162 items due to null input values.\n",
      "..........................................................................."
     ]
    }
   ],
   "source": [
    "regression_results = do_regression(Brain_Data_allsubs, get_prediction = do_Lasso)"
   ]
  },
  {
   "cell_type": "code",
   "execution_count": 80,
   "id": "broken-titanium",
   "metadata": {},
   "outputs": [
    {
     "data": {
      "text/plain": [
       "(nan, nan)"
      ]
     },
     "execution_count": 80,
     "metadata": {},
     "output_type": "execute_result"
    }
   ],
   "source": [
    "pearsonr(regression_results['sample_wise']['target_y'],regression_results['sample_wise']['pred_y'])"
   ]
  },
  {
   "cell_type": "code",
   "execution_count": 81,
   "id": "prepared-survival",
   "metadata": {},
   "outputs": [
    {
     "data": {
      "text/plain": [
       "0    0.0\n",
       "1    0.0\n",
       "0    0.0\n",
       "1    0.0\n",
       "0    0.0\n",
       "    ... \n",
       "1    0.0\n",
       "0    0.0\n",
       "1    0.0\n",
       "0    0.0\n",
       "1    0.0\n",
       "Name: pred_y, Length: 150, dtype: float32"
      ]
     },
     "execution_count": 81,
     "metadata": {},
     "output_type": "execute_result"
    }
   ],
   "source": [
    "regression_results['sample_wise']['pred_y']"
   ]
  },
  {
   "cell_type": "markdown",
   "id": "caroline-norway",
   "metadata": {},
   "source": [
    "Yes OK, because there's no variance ther ebecause we have both stop and go there."
   ]
  },
  {
   "cell_type": "markdown",
   "id": "mighty-while",
   "metadata": {},
   "source": [
    "## stop minus go contrast"
   ]
  },
  {
   "cell_type": "raw",
   "id": "varied-anchor",
   "metadata": {},
   "source": [
    "from analyze_results import *"
   ]
  },
  {
   "cell_type": "code",
   "execution_count": 26,
   "id": "polished-impact",
   "metadata": {},
   "outputs": [],
   "source": [
    "brain_data_filepath = ml_data_folderpath + '/SST/mvpa_Dataset_conditions_84subs_cor_stop_minus_go_contrast.pkl'\n",
    "with open(brain_data_filepath, 'rb') as pkl_file:\n",
    "    Brain_Data_allsubs = pickle.load(pkl_file)\n",
    "\n",
    "Brain_Data_allsubs = setup_metadata(Brain_Data_allsubs,'TESQ_E_sum')"
   ]
  },
  {
   "cell_type": "code",
   "execution_count": 27,
   "id": "tested-revolution",
   "metadata": {},
   "outputs": [
    {
     "name": "stdout",
     "output_type": "stream",
     "text": [
      "eliminating 6 of 81 items due to null input values.\n",
      "..........................................................................."
     ]
    },
    {
     "data": {
      "text/plain": [
       "(0.06451986257098531, 0.5823556904043573)"
      ]
     },
     "execution_count": 27,
     "metadata": {},
     "output_type": "execute_result"
    }
   ],
   "source": [
    "regression_results = do_regression(Brain_Data_allsubs,get_prediction = do_Lasso)\n",
    "pearsonr(regression_results['sample_wise']['target_y'],regression_results['sample_wise']['pred_y'])"
   ]
  },
  {
   "cell_type": "code",
   "execution_count": 28,
   "id": "italian-firmware",
   "metadata": {},
   "outputs": [
    {
     "data": {
      "text/plain": [
       "0    0.004470\n",
       "0   -0.168758\n",
       "0   -0.071507\n",
       "0   -0.080048\n",
       "0   -0.002358\n",
       "       ...   \n",
       "0    0.036890\n",
       "0    0.122977\n",
       "0    0.082224\n",
       "0    0.043664\n",
       "0    0.334942\n",
       "Name: pred_y, Length: 75, dtype: float32"
      ]
     },
     "execution_count": 28,
     "metadata": {},
     "output_type": "execute_result"
    }
   ],
   "source": [
    "regression_results['sample_wise']['pred_y']"
   ]
  },
  {
   "cell_type": "code",
   "execution_count": 29,
   "id": "thermal-illustration",
   "metadata": {},
   "outputs": [
    {
     "data": {
      "text/plain": [
       "0   -0.314867\n",
       "0    1.328669\n",
       "0   -0.747377\n",
       "0   -1.352890\n",
       "0    0.031141\n",
       "       ...   \n",
       "0    0.550152\n",
       "0   -0.487871\n",
       "0   -0.833878\n",
       "0   -1.093384\n",
       "0   -0.141863\n",
       "Name: target_y, Length: 75, dtype: float64"
      ]
     },
     "execution_count": 29,
     "metadata": {},
     "output_type": "execute_result"
    }
   ],
   "source": [
    "regression_results['sample_wise']['target_y']"
   ]
  },
  {
   "cell_type": "markdown",
   "id": "round-albany",
   "metadata": {},
   "source": [
    "## Trial dummy data"
   ]
  },
  {
   "cell_type": "markdown",
   "id": "durable-regard",
   "metadata": {},
   "source": [
    "We select a linear mix of voxels and try to predict that. should be easy to do with regression..."
   ]
  },
  {
   "cell_type": "code",
   "execution_count": 30,
   "id": "interpreted-payroll",
   "metadata": {},
   "outputs": [],
   "source": [
    "brain_data_filepath = ml_data_folderpath + '/SST/mvpa_Dataset_conditions_84subs_correct_cond.pkl'\n",
    "#mvpa_Dataset_conditions_84subs_cor_stop_minus_go_contrast\n",
    "\n",
    "with open(brain_data_filepath, 'rb') as pkl_file:\n",
    "    Brain_Data_allsubs = pickle.load(pkl_file)\n"
   ]
  },
  {
   "cell_type": "code",
   "execution_count": 31,
   "id": "religious-franklin",
   "metadata": {},
   "outputs": [],
   "source": [
    "mix_target = np.sum(Brain_Data_allsubs.samples[:,15000:15010],axis=1)\n",
    "Brain_Data_allsubs.sa['mix_target']=list(mix_target)"
   ]
  },
  {
   "cell_type": "code",
   "execution_count": 32,
   "id": "precious-guess",
   "metadata": {},
   "outputs": [
    {
     "name": "stdout",
     "output_type": "stream",
     "text": [
      "eliminating 0 of 162 items due to null input values.\n",
      "................................................................................."
     ]
    },
    {
     "data": {
      "text/plain": [
       "(0.28250435621361414, 0.0002701825563630049)"
      ]
     },
     "execution_count": 32,
     "metadata": {},
     "output_type": "execute_result"
    }
   ],
   "source": [
    "\n",
    "Brain_Data_allsubs = setup_metadata(Brain_Data_allsubs,'mix_target')\n",
    "\n",
    "regression_results = do_regression(Brain_Data_allsubs, get_prediction = do_Ridge)\n",
    "\n",
    "pearsonr(regression_results['sample_wise']['target_y'],regression_results['sample_wise']['pred_y'])"
   ]
  },
  {
   "cell_type": "markdown",
   "id": "prescribed-hudson",
   "metadata": {},
   "source": [
    "That's interesting--something like it should be, but not very good considering."
   ]
  },
  {
   "cell_type": "code",
   "execution_count": 33,
   "id": "leading-sense",
   "metadata": {},
   "outputs": [
    {
     "name": "stdout",
     "output_type": "stream",
     "text": [
      "eliminating 0 of 162 items due to null input values.\n",
      "................................................................................."
     ]
    },
    {
     "data": {
      "text/plain": [
       "(0.8000696992645617, 2.443511356815639e-37)"
      ]
     },
     "execution_count": 33,
     "metadata": {},
     "output_type": "execute_result"
    }
   ],
   "source": [
    "mix_target = np.sum(Brain_Data_allsubs.samples[:,15000:15100],axis=1)\n",
    "Brain_Data_allsubs.sa['mix_target']=list(mix_target)\n",
    "Brain_Data_allsubs = setup_metadata(Brain_Data_allsubs,'mix_target')\n",
    "regression_results = do_regression(Brain_Data_allsubs, get_prediction = do_Ridge)\n",
    "pearsonr(regression_results['sample_wise']['target_y'],regression_results['sample_wise']['pred_y'])"
   ]
  },
  {
   "cell_type": "markdown",
   "id": "partial-season",
   "metadata": {},
   "source": [
    "aahhh got it--if the pattern is spread over several voxels, we'll have a better time detecting it."
   ]
  },
  {
   "cell_type": "code",
   "execution_count": 34,
   "id": "chief-identification",
   "metadata": {},
   "outputs": [],
   "source": [
    "mix_target = np.sum(Brain_Data_allsubs.samples[:,15000:15100],axis=1)\n",
    "Brain_Data_allsubs.sa['mix_target']=list(mix_target)"
   ]
  },
  {
   "cell_type": "code",
   "execution_count": 35,
   "id": "fourth-anchor",
   "metadata": {},
   "outputs": [
    {
     "ename": "NameError",
     "evalue": "name 'scatter' is not defined",
     "output_type": "error",
     "traceback": [
      "\u001b[0;31m---------------------------------------------------------------------------\u001b[0m",
      "\u001b[0;31mNameError\u001b[0m                                 Traceback (most recent call last)",
      "Input \u001b[0;32mIn [35]\u001b[0m, in \u001b[0;36m<module>\u001b[0;34m\u001b[0m\n\u001b[0;32m----> 1\u001b[0m \u001b[43mscatter\u001b[49m(regression_results[\u001b[38;5;124m'\u001b[39m\u001b[38;5;124msample_wise\u001b[39m\u001b[38;5;124m'\u001b[39m][\u001b[38;5;124m'\u001b[39m\u001b[38;5;124mtarget_y\u001b[39m\u001b[38;5;124m'\u001b[39m],regression_results[\u001b[38;5;124m'\u001b[39m\u001b[38;5;124msample_wise\u001b[39m\u001b[38;5;124m'\u001b[39m][\u001b[38;5;124m'\u001b[39m\u001b[38;5;124mpred_y\u001b[39m\u001b[38;5;124m'\u001b[39m])\n",
      "\u001b[0;31mNameError\u001b[0m: name 'scatter' is not defined"
     ]
    }
   ],
   "source": [
    "scatter(regression_results['sample_wise']['target_y'],regression_results['sample_wise']['pred_y'])"
   ]
  },
  {
   "cell_type": "markdown",
   "id": "affiliated-blackberry",
   "metadata": {},
   "source": [
    "OK, so if there's a pattern representing a linear combination of voxels then we should be able to detect it using ridge regression. How about lasso?"
   ]
  },
  {
   "cell_type": "code",
   "execution_count": null,
   "id": "intensive-saying",
   "metadata": {},
   "outputs": [],
   "source": [
    "from sklearn.linear_model import Lasso\n",
    "def do_Lasso(train_X,train_y,test_X,test_y):\n",
    "    #if we fit intercept, it actually uses the y values to refit the items, \n",
    "    #adjusting everything up and down, and it can introduce _anticorrelation_ with the predicted value\n",
    "    #may need to mean-center the predicted variable _before_ analysis.\n",
    "    sklearn_regress = Lasso(alpha=1.0,fit_intercept=False)\n",
    "    \n",
    "    sklearn_regress.fit(train_X, train_y)\n",
    "    \n",
    "    predict_y = sklearn_regress.predict(test_X)\n",
    "#    print(predict_y,test_y)\n",
    "    return(predict_y,sklearn_regress)"
   ]
  },
  {
   "cell_type": "code",
   "execution_count": null,
   "id": "latin-gibraltar",
   "metadata": {},
   "outputs": [],
   "source": [
    "regression_results = do_regression(Brain_Data_allsubs, get_prediction = do_Lasso)\n",
    "print(pearsonr(regression_results['sample_wise']['target_y'],regression_results['sample_wise']['pred_y']))\n",
    "scatter(regression_results['sample_wise']['target_y'],regression_results['sample_wise']['pred_y'])"
   ]
  },
  {
   "cell_type": "code",
   "execution_count": null,
   "id": "undefined-monthly",
   "metadata": {},
   "outputs": [],
   "source": [
    "from sklearn.linear_model import Lasso\n",
    "def do_Lasso2(train_X,train_y,test_X,test_y):\n",
    "    #if we fit intercept, it actually uses the y values to refit the items, \n",
    "    #adjusting everything up and down, and it can introduce _anticorrelation_ with the predicted value\n",
    "    #may need to mean-center the predicted variable _before_ analysis.\n",
    "    sklearn_regress = Lasso(alpha=1.0,fit_intercept=True)\n",
    "    \n",
    "    sklearn_regress.fit(train_X, train_y)\n",
    "    \n",
    "    predict_y = sklearn_regress.predict(test_X)\n",
    "#    print(predict_y,test_y)\n",
    "    return(predict_y,sklearn_regress)"
   ]
  },
  {
   "cell_type": "code",
   "execution_count": null,
   "id": "daily-integrity",
   "metadata": {},
   "outputs": [],
   "source": [
    "regression_results = do_regression(Brain_Data_allsubs, get_prediction = do_Lasso2)\n",
    "print(pearsonr(regression_results['sample_wise']['target_y'],regression_results['sample_wise']['pred_y']))\n",
    "scatter(regression_results['sample_wise']['target_y'],regression_results['sample_wise']['pred_y'])"
   ]
  },
  {
   "cell_type": "code",
   "execution_count": 131,
   "id": "comparative-right",
   "metadata": {},
   "outputs": [
    {
     "name": "stdout",
     "output_type": "stream",
     "text": [
      "eliminating 0 of 162 items due to null input values.\n",
      ".."
     ]
    },
    {
     "name": "stderr",
     "output_type": "stream",
     "text": [
      "/home/bsmith16/.conda/envs/py3_mvpa/lib/python3.8/site-packages/sklearn/linear_model/_coordinate_descent.py:647: ConvergenceWarning: Objective did not converge. You might want to increase the number of iterations, check the scale of the features or consider increasing regularisation. Duality gap: 8.876e+02, tolerance: 2.702e+02\n",
      "  model = cd_fast.enet_coordinate_descent(\n"
     ]
    },
    {
     "name": "stdout",
     "output_type": "stream",
     "text": [
      "."
     ]
    },
    {
     "name": "stderr",
     "output_type": "stream",
     "text": [
      "/home/bsmith16/.conda/envs/py3_mvpa/lib/python3.8/site-packages/sklearn/linear_model/_coordinate_descent.py:647: ConvergenceWarning: Objective did not converge. You might want to increase the number of iterations, check the scale of the features or consider increasing regularisation. Duality gap: 8.119e+02, tolerance: 2.713e+02\n",
      "  model = cd_fast.enet_coordinate_descent(\n"
     ]
    },
    {
     "name": "stdout",
     "output_type": "stream",
     "text": [
      "."
     ]
    },
    {
     "name": "stderr",
     "output_type": "stream",
     "text": [
      "/home/bsmith16/.conda/envs/py3_mvpa/lib/python3.8/site-packages/sklearn/linear_model/_coordinate_descent.py:647: ConvergenceWarning: Objective did not converge. You might want to increase the number of iterations, check the scale of the features or consider increasing regularisation. Duality gap: 8.107e+02, tolerance: 2.735e+02\n",
      "  model = cd_fast.enet_coordinate_descent(\n"
     ]
    },
    {
     "name": "stdout",
     "output_type": "stream",
     "text": [
      "."
     ]
    },
    {
     "name": "stderr",
     "output_type": "stream",
     "text": [
      "/home/bsmith16/.conda/envs/py3_mvpa/lib/python3.8/site-packages/sklearn/linear_model/_coordinate_descent.py:647: ConvergenceWarning: Objective did not converge. You might want to increase the number of iterations, check the scale of the features or consider increasing regularisation. Duality gap: 7.364e+02, tolerance: 2.737e+02\n",
      "  model = cd_fast.enet_coordinate_descent(\n"
     ]
    },
    {
     "name": "stdout",
     "output_type": "stream",
     "text": [
      "."
     ]
    },
    {
     "name": "stderr",
     "output_type": "stream",
     "text": [
      "/home/bsmith16/.conda/envs/py3_mvpa/lib/python3.8/site-packages/sklearn/linear_model/_coordinate_descent.py:647: ConvergenceWarning: Objective did not converge. You might want to increase the number of iterations, check the scale of the features or consider increasing regularisation. Duality gap: 8.504e+02, tolerance: 2.745e+02\n",
      "  model = cd_fast.enet_coordinate_descent(\n"
     ]
    },
    {
     "name": "stdout",
     "output_type": "stream",
     "text": [
      "."
     ]
    },
    {
     "name": "stderr",
     "output_type": "stream",
     "text": [
      "/home/bsmith16/.conda/envs/py3_mvpa/lib/python3.8/site-packages/sklearn/linear_model/_coordinate_descent.py:647: ConvergenceWarning: Objective did not converge. You might want to increase the number of iterations, check the scale of the features or consider increasing regularisation. Duality gap: 8.822e+02, tolerance: 2.729e+02\n",
      "  model = cd_fast.enet_coordinate_descent(\n"
     ]
    },
    {
     "name": "stdout",
     "output_type": "stream",
     "text": [
      "."
     ]
    },
    {
     "name": "stderr",
     "output_type": "stream",
     "text": [
      "/home/bsmith16/.conda/envs/py3_mvpa/lib/python3.8/site-packages/sklearn/linear_model/_coordinate_descent.py:647: ConvergenceWarning: Objective did not converge. You might want to increase the number of iterations, check the scale of the features or consider increasing regularisation. Duality gap: 9.510e+02, tolerance: 2.748e+02\n",
      "  model = cd_fast.enet_coordinate_descent(\n"
     ]
    },
    {
     "name": "stdout",
     "output_type": "stream",
     "text": [
      "."
     ]
    },
    {
     "name": "stderr",
     "output_type": "stream",
     "text": [
      "/home/bsmith16/.conda/envs/py3_mvpa/lib/python3.8/site-packages/sklearn/linear_model/_coordinate_descent.py:647: ConvergenceWarning: Objective did not converge. You might want to increase the number of iterations, check the scale of the features or consider increasing regularisation. Duality gap: 9.377e+02, tolerance: 2.748e+02\n",
      "  model = cd_fast.enet_coordinate_descent(\n"
     ]
    },
    {
     "name": "stdout",
     "output_type": "stream",
     "text": [
      "."
     ]
    },
    {
     "name": "stderr",
     "output_type": "stream",
     "text": [
      "/home/bsmith16/.conda/envs/py3_mvpa/lib/python3.8/site-packages/sklearn/linear_model/_coordinate_descent.py:647: ConvergenceWarning: Objective did not converge. You might want to increase the number of iterations, check the scale of the features or consider increasing regularisation. Duality gap: 9.260e+02, tolerance: 2.738e+02\n",
      "  model = cd_fast.enet_coordinate_descent(\n"
     ]
    },
    {
     "name": "stdout",
     "output_type": "stream",
     "text": [
      "."
     ]
    },
    {
     "name": "stderr",
     "output_type": "stream",
     "text": [
      "/home/bsmith16/.conda/envs/py3_mvpa/lib/python3.8/site-packages/sklearn/linear_model/_coordinate_descent.py:647: ConvergenceWarning: Objective did not converge. You might want to increase the number of iterations, check the scale of the features or consider increasing regularisation. Duality gap: 8.927e+02, tolerance: 2.718e+02\n",
      "  model = cd_fast.enet_coordinate_descent(\n"
     ]
    },
    {
     "name": "stdout",
     "output_type": "stream",
     "text": [
      "."
     ]
    },
    {
     "name": "stderr",
     "output_type": "stream",
     "text": [
      "/home/bsmith16/.conda/envs/py3_mvpa/lib/python3.8/site-packages/sklearn/linear_model/_coordinate_descent.py:647: ConvergenceWarning: Objective did not converge. You might want to increase the number of iterations, check the scale of the features or consider increasing regularisation. Duality gap: 1.056e+03, tolerance: 2.746e+02\n",
      "  model = cd_fast.enet_coordinate_descent(\n"
     ]
    },
    {
     "name": "stdout",
     "output_type": "stream",
     "text": [
      "."
     ]
    },
    {
     "name": "stderr",
     "output_type": "stream",
     "text": [
      "/home/bsmith16/.conda/envs/py3_mvpa/lib/python3.8/site-packages/sklearn/linear_model/_coordinate_descent.py:647: ConvergenceWarning: Objective did not converge. You might want to increase the number of iterations, check the scale of the features or consider increasing regularisation. Duality gap: 8.187e+02, tolerance: 2.572e+02\n",
      "  model = cd_fast.enet_coordinate_descent(\n"
     ]
    },
    {
     "name": "stdout",
     "output_type": "stream",
     "text": [
      "."
     ]
    },
    {
     "name": "stderr",
     "output_type": "stream",
     "text": [
      "/home/bsmith16/.conda/envs/py3_mvpa/lib/python3.8/site-packages/sklearn/linear_model/_coordinate_descent.py:647: ConvergenceWarning: Objective did not converge. You might want to increase the number of iterations, check the scale of the features or consider increasing regularisation. Duality gap: 1.011e+03, tolerance: 2.748e+02\n",
      "  model = cd_fast.enet_coordinate_descent(\n"
     ]
    },
    {
     "name": "stdout",
     "output_type": "stream",
     "text": [
      "."
     ]
    },
    {
     "name": "stderr",
     "output_type": "stream",
     "text": [
      "/home/bsmith16/.conda/envs/py3_mvpa/lib/python3.8/site-packages/sklearn/linear_model/_coordinate_descent.py:647: ConvergenceWarning: Objective did not converge. You might want to increase the number of iterations, check the scale of the features or consider increasing regularisation. Duality gap: 8.679e+02, tolerance: 2.749e+02\n",
      "  model = cd_fast.enet_coordinate_descent(\n"
     ]
    },
    {
     "name": "stdout",
     "output_type": "stream",
     "text": [
      "."
     ]
    },
    {
     "name": "stderr",
     "output_type": "stream",
     "text": [
      "/home/bsmith16/.conda/envs/py3_mvpa/lib/python3.8/site-packages/sklearn/linear_model/_coordinate_descent.py:647: ConvergenceWarning: Objective did not converge. You might want to increase the number of iterations, check the scale of the features or consider increasing regularisation. Duality gap: 8.663e+02, tolerance: 2.745e+02\n",
      "  model = cd_fast.enet_coordinate_descent(\n"
     ]
    },
    {
     "name": "stdout",
     "output_type": "stream",
     "text": [
      "."
     ]
    },
    {
     "name": "stderr",
     "output_type": "stream",
     "text": [
      "/home/bsmith16/.conda/envs/py3_mvpa/lib/python3.8/site-packages/sklearn/linear_model/_coordinate_descent.py:647: ConvergenceWarning: Objective did not converge. You might want to increase the number of iterations, check the scale of the features or consider increasing regularisation. Duality gap: 8.364e+02, tolerance: 2.705e+02\n",
      "  model = cd_fast.enet_coordinate_descent(\n"
     ]
    },
    {
     "name": "stdout",
     "output_type": "stream",
     "text": [
      "."
     ]
    },
    {
     "name": "stderr",
     "output_type": "stream",
     "text": [
      "/home/bsmith16/.conda/envs/py3_mvpa/lib/python3.8/site-packages/sklearn/linear_model/_coordinate_descent.py:647: ConvergenceWarning: Objective did not converge. You might want to increase the number of iterations, check the scale of the features or consider increasing regularisation. Duality gap: 9.782e+02, tolerance: 2.744e+02\n",
      "  model = cd_fast.enet_coordinate_descent(\n"
     ]
    },
    {
     "name": "stdout",
     "output_type": "stream",
     "text": [
      "."
     ]
    },
    {
     "name": "stderr",
     "output_type": "stream",
     "text": [
      "/home/bsmith16/.conda/envs/py3_mvpa/lib/python3.8/site-packages/sklearn/linear_model/_coordinate_descent.py:647: ConvergenceWarning: Objective did not converge. You might want to increase the number of iterations, check the scale of the features or consider increasing regularisation. Duality gap: 8.878e+02, tolerance: 2.749e+02\n",
      "  model = cd_fast.enet_coordinate_descent(\n"
     ]
    },
    {
     "name": "stdout",
     "output_type": "stream",
     "text": [
      "."
     ]
    },
    {
     "name": "stderr",
     "output_type": "stream",
     "text": [
      "/home/bsmith16/.conda/envs/py3_mvpa/lib/python3.8/site-packages/sklearn/linear_model/_coordinate_descent.py:647: ConvergenceWarning: Objective did not converge. You might want to increase the number of iterations, check the scale of the features or consider increasing regularisation. Duality gap: 8.366e+02, tolerance: 2.741e+02\n",
      "  model = cd_fast.enet_coordinate_descent(\n"
     ]
    },
    {
     "name": "stdout",
     "output_type": "stream",
     "text": [
      "."
     ]
    },
    {
     "name": "stderr",
     "output_type": "stream",
     "text": [
      "/home/bsmith16/.conda/envs/py3_mvpa/lib/python3.8/site-packages/sklearn/linear_model/_coordinate_descent.py:647: ConvergenceWarning: Objective did not converge. You might want to increase the number of iterations, check the scale of the features or consider increasing regularisation. Duality gap: 7.768e+02, tolerance: 2.729e+02\n",
      "  model = cd_fast.enet_coordinate_descent(\n"
     ]
    },
    {
     "name": "stdout",
     "output_type": "stream",
     "text": [
      "."
     ]
    },
    {
     "name": "stderr",
     "output_type": "stream",
     "text": [
      "/home/bsmith16/.conda/envs/py3_mvpa/lib/python3.8/site-packages/sklearn/linear_model/_coordinate_descent.py:647: ConvergenceWarning: Objective did not converge. You might want to increase the number of iterations, check the scale of the features or consider increasing regularisation. Duality gap: 8.469e+02, tolerance: 2.746e+02\n",
      "  model = cd_fast.enet_coordinate_descent(\n"
     ]
    },
    {
     "name": "stdout",
     "output_type": "stream",
     "text": [
      "."
     ]
    },
    {
     "name": "stderr",
     "output_type": "stream",
     "text": [
      "/home/bsmith16/.conda/envs/py3_mvpa/lib/python3.8/site-packages/sklearn/linear_model/_coordinate_descent.py:647: ConvergenceWarning: Objective did not converge. You might want to increase the number of iterations, check the scale of the features or consider increasing regularisation. Duality gap: 1.093e+03, tolerance: 2.739e+02\n",
      "  model = cd_fast.enet_coordinate_descent(\n"
     ]
    },
    {
     "name": "stdout",
     "output_type": "stream",
     "text": [
      "."
     ]
    },
    {
     "name": "stderr",
     "output_type": "stream",
     "text": [
      "/home/bsmith16/.conda/envs/py3_mvpa/lib/python3.8/site-packages/sklearn/linear_model/_coordinate_descent.py:647: ConvergenceWarning: Objective did not converge. You might want to increase the number of iterations, check the scale of the features or consider increasing regularisation. Duality gap: 8.369e+02, tolerance: 2.492e+02\n",
      "  model = cd_fast.enet_coordinate_descent(\n"
     ]
    },
    {
     "name": "stdout",
     "output_type": "stream",
     "text": [
      "."
     ]
    },
    {
     "name": "stderr",
     "output_type": "stream",
     "text": [
      "/home/bsmith16/.conda/envs/py3_mvpa/lib/python3.8/site-packages/sklearn/linear_model/_coordinate_descent.py:647: ConvergenceWarning: Objective did not converge. You might want to increase the number of iterations, check the scale of the features or consider increasing regularisation. Duality gap: 8.529e+02, tolerance: 2.717e+02\n",
      "  model = cd_fast.enet_coordinate_descent(\n"
     ]
    },
    {
     "name": "stdout",
     "output_type": "stream",
     "text": [
      "."
     ]
    },
    {
     "name": "stderr",
     "output_type": "stream",
     "text": [
      "/home/bsmith16/.conda/envs/py3_mvpa/lib/python3.8/site-packages/sklearn/linear_model/_coordinate_descent.py:647: ConvergenceWarning: Objective did not converge. You might want to increase the number of iterations, check the scale of the features or consider increasing regularisation. Duality gap: 8.362e+02, tolerance: 2.726e+02\n",
      "  model = cd_fast.enet_coordinate_descent(\n"
     ]
    },
    {
     "name": "stdout",
     "output_type": "stream",
     "text": [
      "."
     ]
    },
    {
     "name": "stderr",
     "output_type": "stream",
     "text": [
      "/home/bsmith16/.conda/envs/py3_mvpa/lib/python3.8/site-packages/sklearn/linear_model/_coordinate_descent.py:647: ConvergenceWarning: Objective did not converge. You might want to increase the number of iterations, check the scale of the features or consider increasing regularisation. Duality gap: 9.184e+02, tolerance: 2.746e+02\n",
      "  model = cd_fast.enet_coordinate_descent(\n"
     ]
    },
    {
     "name": "stdout",
     "output_type": "stream",
     "text": [
      "."
     ]
    },
    {
     "name": "stderr",
     "output_type": "stream",
     "text": [
      "/home/bsmith16/.conda/envs/py3_mvpa/lib/python3.8/site-packages/sklearn/linear_model/_coordinate_descent.py:647: ConvergenceWarning: Objective did not converge. You might want to increase the number of iterations, check the scale of the features or consider increasing regularisation. Duality gap: 7.663e+02, tolerance: 2.529e+02\n",
      "  model = cd_fast.enet_coordinate_descent(\n"
     ]
    },
    {
     "name": "stdout",
     "output_type": "stream",
     "text": [
      "."
     ]
    },
    {
     "name": "stderr",
     "output_type": "stream",
     "text": [
      "/home/bsmith16/.conda/envs/py3_mvpa/lib/python3.8/site-packages/sklearn/linear_model/_coordinate_descent.py:647: ConvergenceWarning: Objective did not converge. You might want to increase the number of iterations, check the scale of the features or consider increasing regularisation. Duality gap: 8.113e+02, tolerance: 2.738e+02\n",
      "  model = cd_fast.enet_coordinate_descent(\n"
     ]
    },
    {
     "name": "stdout",
     "output_type": "stream",
     "text": [
      "."
     ]
    },
    {
     "name": "stderr",
     "output_type": "stream",
     "text": [
      "/home/bsmith16/.conda/envs/py3_mvpa/lib/python3.8/site-packages/sklearn/linear_model/_coordinate_descent.py:647: ConvergenceWarning: Objective did not converge. You might want to increase the number of iterations, check the scale of the features or consider increasing regularisation. Duality gap: 9.780e+02, tolerance: 2.743e+02\n",
      "  model = cd_fast.enet_coordinate_descent(\n"
     ]
    },
    {
     "name": "stdout",
     "output_type": "stream",
     "text": [
      "."
     ]
    },
    {
     "name": "stderr",
     "output_type": "stream",
     "text": [
      "/home/bsmith16/.conda/envs/py3_mvpa/lib/python3.8/site-packages/sklearn/linear_model/_coordinate_descent.py:647: ConvergenceWarning: Objective did not converge. You might want to increase the number of iterations, check the scale of the features or consider increasing regularisation. Duality gap: 8.809e+02, tolerance: 2.727e+02\n",
      "  model = cd_fast.enet_coordinate_descent(\n"
     ]
    },
    {
     "name": "stdout",
     "output_type": "stream",
     "text": [
      "."
     ]
    },
    {
     "name": "stderr",
     "output_type": "stream",
     "text": [
      "/home/bsmith16/.conda/envs/py3_mvpa/lib/python3.8/site-packages/sklearn/linear_model/_coordinate_descent.py:647: ConvergenceWarning: Objective did not converge. You might want to increase the number of iterations, check the scale of the features or consider increasing regularisation. Duality gap: 9.438e+02, tolerance: 2.749e+02\n",
      "  model = cd_fast.enet_coordinate_descent(\n"
     ]
    },
    {
     "name": "stdout",
     "output_type": "stream",
     "text": [
      "."
     ]
    },
    {
     "name": "stderr",
     "output_type": "stream",
     "text": [
      "/home/bsmith16/.conda/envs/py3_mvpa/lib/python3.8/site-packages/sklearn/linear_model/_coordinate_descent.py:647: ConvergenceWarning: Objective did not converge. You might want to increase the number of iterations, check the scale of the features or consider increasing regularisation. Duality gap: 7.715e+02, tolerance: 2.723e+02\n",
      "  model = cd_fast.enet_coordinate_descent(\n"
     ]
    },
    {
     "name": "stdout",
     "output_type": "stream",
     "text": [
      "."
     ]
    },
    {
     "name": "stderr",
     "output_type": "stream",
     "text": [
      "/home/bsmith16/.conda/envs/py3_mvpa/lib/python3.8/site-packages/sklearn/linear_model/_coordinate_descent.py:647: ConvergenceWarning: Objective did not converge. You might want to increase the number of iterations, check the scale of the features or consider increasing regularisation. Duality gap: 8.885e+02, tolerance: 2.735e+02\n",
      "  model = cd_fast.enet_coordinate_descent(\n"
     ]
    },
    {
     "name": "stdout",
     "output_type": "stream",
     "text": [
      "."
     ]
    },
    {
     "name": "stderr",
     "output_type": "stream",
     "text": [
      "/home/bsmith16/.conda/envs/py3_mvpa/lib/python3.8/site-packages/sklearn/linear_model/_coordinate_descent.py:647: ConvergenceWarning: Objective did not converge. You might want to increase the number of iterations, check the scale of the features or consider increasing regularisation. Duality gap: 9.010e+02, tolerance: 2.469e+02\n",
      "  model = cd_fast.enet_coordinate_descent(\n"
     ]
    },
    {
     "name": "stdout",
     "output_type": "stream",
     "text": [
      "."
     ]
    },
    {
     "name": "stderr",
     "output_type": "stream",
     "text": [
      "/home/bsmith16/.conda/envs/py3_mvpa/lib/python3.8/site-packages/sklearn/linear_model/_coordinate_descent.py:647: ConvergenceWarning: Objective did not converge. You might want to increase the number of iterations, check the scale of the features or consider increasing regularisation. Duality gap: 8.996e+02, tolerance: 2.635e+02\n",
      "  model = cd_fast.enet_coordinate_descent(\n"
     ]
    },
    {
     "name": "stdout",
     "output_type": "stream",
     "text": [
      "."
     ]
    },
    {
     "name": "stderr",
     "output_type": "stream",
     "text": [
      "/home/bsmith16/.conda/envs/py3_mvpa/lib/python3.8/site-packages/sklearn/linear_model/_coordinate_descent.py:647: ConvergenceWarning: Objective did not converge. You might want to increase the number of iterations, check the scale of the features or consider increasing regularisation. Duality gap: 8.883e+02, tolerance: 2.726e+02\n",
      "  model = cd_fast.enet_coordinate_descent(\n"
     ]
    },
    {
     "name": "stdout",
     "output_type": "stream",
     "text": [
      "."
     ]
    },
    {
     "name": "stderr",
     "output_type": "stream",
     "text": [
      "/home/bsmith16/.conda/envs/py3_mvpa/lib/python3.8/site-packages/sklearn/linear_model/_coordinate_descent.py:647: ConvergenceWarning: Objective did not converge. You might want to increase the number of iterations, check the scale of the features or consider increasing regularisation. Duality gap: 8.904e+02, tolerance: 2.716e+02\n",
      "  model = cd_fast.enet_coordinate_descent(\n"
     ]
    },
    {
     "name": "stdout",
     "output_type": "stream",
     "text": [
      "."
     ]
    },
    {
     "name": "stderr",
     "output_type": "stream",
     "text": [
      "/home/bsmith16/.conda/envs/py3_mvpa/lib/python3.8/site-packages/sklearn/linear_model/_coordinate_descent.py:647: ConvergenceWarning: Objective did not converge. You might want to increase the number of iterations, check the scale of the features or consider increasing regularisation. Duality gap: 9.338e+02, tolerance: 2.736e+02\n",
      "  model = cd_fast.enet_coordinate_descent(\n"
     ]
    },
    {
     "name": "stdout",
     "output_type": "stream",
     "text": [
      "."
     ]
    },
    {
     "name": "stderr",
     "output_type": "stream",
     "text": [
      "/home/bsmith16/.conda/envs/py3_mvpa/lib/python3.8/site-packages/sklearn/linear_model/_coordinate_descent.py:647: ConvergenceWarning: Objective did not converge. You might want to increase the number of iterations, check the scale of the features or consider increasing regularisation. Duality gap: 8.160e+02, tolerance: 2.738e+02\n",
      "  model = cd_fast.enet_coordinate_descent(\n"
     ]
    },
    {
     "name": "stdout",
     "output_type": "stream",
     "text": [
      "."
     ]
    },
    {
     "name": "stderr",
     "output_type": "stream",
     "text": [
      "/home/bsmith16/.conda/envs/py3_mvpa/lib/python3.8/site-packages/sklearn/linear_model/_coordinate_descent.py:647: ConvergenceWarning: Objective did not converge. You might want to increase the number of iterations, check the scale of the features or consider increasing regularisation. Duality gap: 8.090e+02, tolerance: 2.746e+02\n",
      "  model = cd_fast.enet_coordinate_descent(\n"
     ]
    },
    {
     "name": "stdout",
     "output_type": "stream",
     "text": [
      "."
     ]
    },
    {
     "name": "stderr",
     "output_type": "stream",
     "text": [
      "/home/bsmith16/.conda/envs/py3_mvpa/lib/python3.8/site-packages/sklearn/linear_model/_coordinate_descent.py:647: ConvergenceWarning: Objective did not converge. You might want to increase the number of iterations, check the scale of the features or consider increasing regularisation. Duality gap: 9.096e+02, tolerance: 2.733e+02\n",
      "  model = cd_fast.enet_coordinate_descent(\n"
     ]
    },
    {
     "name": "stdout",
     "output_type": "stream",
     "text": [
      "."
     ]
    },
    {
     "name": "stderr",
     "output_type": "stream",
     "text": [
      "/home/bsmith16/.conda/envs/py3_mvpa/lib/python3.8/site-packages/sklearn/linear_model/_coordinate_descent.py:647: ConvergenceWarning: Objective did not converge. You might want to increase the number of iterations, check the scale of the features or consider increasing regularisation. Duality gap: 9.127e+02, tolerance: 2.735e+02\n",
      "  model = cd_fast.enet_coordinate_descent(\n"
     ]
    },
    {
     "name": "stdout",
     "output_type": "stream",
     "text": [
      "."
     ]
    },
    {
     "name": "stderr",
     "output_type": "stream",
     "text": [
      "/home/bsmith16/.conda/envs/py3_mvpa/lib/python3.8/site-packages/sklearn/linear_model/_coordinate_descent.py:647: ConvergenceWarning: Objective did not converge. You might want to increase the number of iterations, check the scale of the features or consider increasing regularisation. Duality gap: 8.677e+02, tolerance: 2.705e+02\n",
      "  model = cd_fast.enet_coordinate_descent(\n"
     ]
    },
    {
     "name": "stdout",
     "output_type": "stream",
     "text": [
      "."
     ]
    },
    {
     "name": "stderr",
     "output_type": "stream",
     "text": [
      "/home/bsmith16/.conda/envs/py3_mvpa/lib/python3.8/site-packages/sklearn/linear_model/_coordinate_descent.py:647: ConvergenceWarning: Objective did not converge. You might want to increase the number of iterations, check the scale of the features or consider increasing regularisation. Duality gap: 9.150e+02, tolerance: 2.730e+02\n",
      "  model = cd_fast.enet_coordinate_descent(\n"
     ]
    },
    {
     "name": "stdout",
     "output_type": "stream",
     "text": [
      "."
     ]
    },
    {
     "name": "stderr",
     "output_type": "stream",
     "text": [
      "/home/bsmith16/.conda/envs/py3_mvpa/lib/python3.8/site-packages/sklearn/linear_model/_coordinate_descent.py:647: ConvergenceWarning: Objective did not converge. You might want to increase the number of iterations, check the scale of the features or consider increasing regularisation. Duality gap: 8.289e+02, tolerance: 2.737e+02\n",
      "  model = cd_fast.enet_coordinate_descent(\n"
     ]
    },
    {
     "name": "stdout",
     "output_type": "stream",
     "text": [
      "."
     ]
    },
    {
     "name": "stderr",
     "output_type": "stream",
     "text": [
      "/home/bsmith16/.conda/envs/py3_mvpa/lib/python3.8/site-packages/sklearn/linear_model/_coordinate_descent.py:647: ConvergenceWarning: Objective did not converge. You might want to increase the number of iterations, check the scale of the features or consider increasing regularisation. Duality gap: 8.224e+02, tolerance: 2.744e+02\n",
      "  model = cd_fast.enet_coordinate_descent(\n"
     ]
    },
    {
     "name": "stdout",
     "output_type": "stream",
     "text": [
      "."
     ]
    },
    {
     "name": "stderr",
     "output_type": "stream",
     "text": [
      "/home/bsmith16/.conda/envs/py3_mvpa/lib/python3.8/site-packages/sklearn/linear_model/_coordinate_descent.py:647: ConvergenceWarning: Objective did not converge. You might want to increase the number of iterations, check the scale of the features or consider increasing regularisation. Duality gap: 1.036e+03, tolerance: 2.741e+02\n",
      "  model = cd_fast.enet_coordinate_descent(\n"
     ]
    },
    {
     "name": "stdout",
     "output_type": "stream",
     "text": [
      "."
     ]
    },
    {
     "name": "stderr",
     "output_type": "stream",
     "text": [
      "/home/bsmith16/.conda/envs/py3_mvpa/lib/python3.8/site-packages/sklearn/linear_model/_coordinate_descent.py:647: ConvergenceWarning: Objective did not converge. You might want to increase the number of iterations, check the scale of the features or consider increasing regularisation. Duality gap: 8.804e+02, tolerance: 2.742e+02\n",
      "  model = cd_fast.enet_coordinate_descent(\n"
     ]
    },
    {
     "name": "stdout",
     "output_type": "stream",
     "text": [
      "."
     ]
    },
    {
     "name": "stderr",
     "output_type": "stream",
     "text": [
      "/home/bsmith16/.conda/envs/py3_mvpa/lib/python3.8/site-packages/sklearn/linear_model/_coordinate_descent.py:647: ConvergenceWarning: Objective did not converge. You might want to increase the number of iterations, check the scale of the features or consider increasing regularisation. Duality gap: 9.026e+02, tolerance: 2.735e+02\n",
      "  model = cd_fast.enet_coordinate_descent(\n"
     ]
    },
    {
     "name": "stdout",
     "output_type": "stream",
     "text": [
      "."
     ]
    },
    {
     "name": "stderr",
     "output_type": "stream",
     "text": [
      "/home/bsmith16/.conda/envs/py3_mvpa/lib/python3.8/site-packages/sklearn/linear_model/_coordinate_descent.py:647: ConvergenceWarning: Objective did not converge. You might want to increase the number of iterations, check the scale of the features or consider increasing regularisation. Duality gap: 9.498e+02, tolerance: 2.727e+02\n",
      "  model = cd_fast.enet_coordinate_descent(\n"
     ]
    },
    {
     "name": "stdout",
     "output_type": "stream",
     "text": [
      "."
     ]
    },
    {
     "name": "stderr",
     "output_type": "stream",
     "text": [
      "/home/bsmith16/.conda/envs/py3_mvpa/lib/python3.8/site-packages/sklearn/linear_model/_coordinate_descent.py:647: ConvergenceWarning: Objective did not converge. You might want to increase the number of iterations, check the scale of the features or consider increasing regularisation. Duality gap: 1.191e+03, tolerance: 2.746e+02\n",
      "  model = cd_fast.enet_coordinate_descent(\n"
     ]
    },
    {
     "name": "stdout",
     "output_type": "stream",
     "text": [
      "."
     ]
    },
    {
     "name": "stderr",
     "output_type": "stream",
     "text": [
      "/home/bsmith16/.conda/envs/py3_mvpa/lib/python3.8/site-packages/sklearn/linear_model/_coordinate_descent.py:647: ConvergenceWarning: Objective did not converge. You might want to increase the number of iterations, check the scale of the features or consider increasing regularisation. Duality gap: 1.047e+03, tolerance: 2.749e+02\n",
      "  model = cd_fast.enet_coordinate_descent(\n"
     ]
    },
    {
     "name": "stdout",
     "output_type": "stream",
     "text": [
      "."
     ]
    },
    {
     "name": "stderr",
     "output_type": "stream",
     "text": [
      "/home/bsmith16/.conda/envs/py3_mvpa/lib/python3.8/site-packages/sklearn/linear_model/_coordinate_descent.py:647: ConvergenceWarning: Objective did not converge. You might want to increase the number of iterations, check the scale of the features or consider increasing regularisation. Duality gap: 8.198e+02, tolerance: 2.735e+02\n",
      "  model = cd_fast.enet_coordinate_descent(\n"
     ]
    },
    {
     "name": "stdout",
     "output_type": "stream",
     "text": [
      "."
     ]
    },
    {
     "name": "stderr",
     "output_type": "stream",
     "text": [
      "/home/bsmith16/.conda/envs/py3_mvpa/lib/python3.8/site-packages/sklearn/linear_model/_coordinate_descent.py:647: ConvergenceWarning: Objective did not converge. You might want to increase the number of iterations, check the scale of the features or consider increasing regularisation. Duality gap: 8.770e+02, tolerance: 2.728e+02\n",
      "  model = cd_fast.enet_coordinate_descent(\n"
     ]
    },
    {
     "name": "stdout",
     "output_type": "stream",
     "text": [
      "."
     ]
    },
    {
     "name": "stderr",
     "output_type": "stream",
     "text": [
      "/home/bsmith16/.conda/envs/py3_mvpa/lib/python3.8/site-packages/sklearn/linear_model/_coordinate_descent.py:647: ConvergenceWarning: Objective did not converge. You might want to increase the number of iterations, check the scale of the features or consider increasing regularisation. Duality gap: 1.010e+03, tolerance: 2.726e+02\n",
      "  model = cd_fast.enet_coordinate_descent(\n"
     ]
    },
    {
     "name": "stdout",
     "output_type": "stream",
     "text": [
      "."
     ]
    },
    {
     "name": "stderr",
     "output_type": "stream",
     "text": [
      "/home/bsmith16/.conda/envs/py3_mvpa/lib/python3.8/site-packages/sklearn/linear_model/_coordinate_descent.py:647: ConvergenceWarning: Objective did not converge. You might want to increase the number of iterations, check the scale of the features or consider increasing regularisation. Duality gap: 8.230e+02, tolerance: 2.748e+02\n",
      "  model = cd_fast.enet_coordinate_descent(\n"
     ]
    },
    {
     "name": "stdout",
     "output_type": "stream",
     "text": [
      "."
     ]
    },
    {
     "name": "stderr",
     "output_type": "stream",
     "text": [
      "/home/bsmith16/.conda/envs/py3_mvpa/lib/python3.8/site-packages/sklearn/linear_model/_coordinate_descent.py:647: ConvergenceWarning: Objective did not converge. You might want to increase the number of iterations, check the scale of the features or consider increasing regularisation. Duality gap: 8.106e+02, tolerance: 2.747e+02\n",
      "  model = cd_fast.enet_coordinate_descent(\n"
     ]
    },
    {
     "name": "stdout",
     "output_type": "stream",
     "text": [
      "."
     ]
    },
    {
     "name": "stderr",
     "output_type": "stream",
     "text": [
      "/home/bsmith16/.conda/envs/py3_mvpa/lib/python3.8/site-packages/sklearn/linear_model/_coordinate_descent.py:647: ConvergenceWarning: Objective did not converge. You might want to increase the number of iterations, check the scale of the features or consider increasing regularisation. Duality gap: 1.048e+03, tolerance: 2.726e+02\n",
      "  model = cd_fast.enet_coordinate_descent(\n"
     ]
    },
    {
     "name": "stdout",
     "output_type": "stream",
     "text": [
      "."
     ]
    },
    {
     "name": "stderr",
     "output_type": "stream",
     "text": [
      "/home/bsmith16/.conda/envs/py3_mvpa/lib/python3.8/site-packages/sklearn/linear_model/_coordinate_descent.py:647: ConvergenceWarning: Objective did not converge. You might want to increase the number of iterations, check the scale of the features or consider increasing regularisation. Duality gap: 9.436e+02, tolerance: 2.746e+02\n",
      "  model = cd_fast.enet_coordinate_descent(\n"
     ]
    },
    {
     "name": "stdout",
     "output_type": "stream",
     "text": [
      "."
     ]
    },
    {
     "name": "stderr",
     "output_type": "stream",
     "text": [
      "/home/bsmith16/.conda/envs/py3_mvpa/lib/python3.8/site-packages/sklearn/linear_model/_coordinate_descent.py:647: ConvergenceWarning: Objective did not converge. You might want to increase the number of iterations, check the scale of the features or consider increasing regularisation. Duality gap: 9.205e+02, tolerance: 2.724e+02\n",
      "  model = cd_fast.enet_coordinate_descent(\n"
     ]
    },
    {
     "name": "stdout",
     "output_type": "stream",
     "text": [
      "."
     ]
    },
    {
     "name": "stderr",
     "output_type": "stream",
     "text": [
      "/home/bsmith16/.conda/envs/py3_mvpa/lib/python3.8/site-packages/sklearn/linear_model/_coordinate_descent.py:647: ConvergenceWarning: Objective did not converge. You might want to increase the number of iterations, check the scale of the features or consider increasing regularisation. Duality gap: 8.085e+02, tolerance: 2.736e+02\n",
      "  model = cd_fast.enet_coordinate_descent(\n"
     ]
    },
    {
     "name": "stdout",
     "output_type": "stream",
     "text": [
      "."
     ]
    },
    {
     "name": "stderr",
     "output_type": "stream",
     "text": [
      "/home/bsmith16/.conda/envs/py3_mvpa/lib/python3.8/site-packages/sklearn/linear_model/_coordinate_descent.py:647: ConvergenceWarning: Objective did not converge. You might want to increase the number of iterations, check the scale of the features or consider increasing regularisation. Duality gap: 8.290e+02, tolerance: 2.703e+02\n",
      "  model = cd_fast.enet_coordinate_descent(\n"
     ]
    },
    {
     "name": "stdout",
     "output_type": "stream",
     "text": [
      "."
     ]
    },
    {
     "name": "stderr",
     "output_type": "stream",
     "text": [
      "/home/bsmith16/.conda/envs/py3_mvpa/lib/python3.8/site-packages/sklearn/linear_model/_coordinate_descent.py:647: ConvergenceWarning: Objective did not converge. You might want to increase the number of iterations, check the scale of the features or consider increasing regularisation. Duality gap: 8.863e+02, tolerance: 2.733e+02\n",
      "  model = cd_fast.enet_coordinate_descent(\n"
     ]
    },
    {
     "name": "stdout",
     "output_type": "stream",
     "text": [
      "."
     ]
    },
    {
     "name": "stderr",
     "output_type": "stream",
     "text": [
      "/home/bsmith16/.conda/envs/py3_mvpa/lib/python3.8/site-packages/sklearn/linear_model/_coordinate_descent.py:647: ConvergenceWarning: Objective did not converge. You might want to increase the number of iterations, check the scale of the features or consider increasing regularisation. Duality gap: 9.009e+02, tolerance: 2.726e+02\n",
      "  model = cd_fast.enet_coordinate_descent(\n"
     ]
    },
    {
     "name": "stdout",
     "output_type": "stream",
     "text": [
      "."
     ]
    },
    {
     "name": "stderr",
     "output_type": "stream",
     "text": [
      "/home/bsmith16/.conda/envs/py3_mvpa/lib/python3.8/site-packages/sklearn/linear_model/_coordinate_descent.py:647: ConvergenceWarning: Objective did not converge. You might want to increase the number of iterations, check the scale of the features or consider increasing regularisation. Duality gap: 8.309e+02, tolerance: 2.697e+02\n",
      "  model = cd_fast.enet_coordinate_descent(\n"
     ]
    },
    {
     "name": "stdout",
     "output_type": "stream",
     "text": [
      "."
     ]
    },
    {
     "name": "stderr",
     "output_type": "stream",
     "text": [
      "/home/bsmith16/.conda/envs/py3_mvpa/lib/python3.8/site-packages/sklearn/linear_model/_coordinate_descent.py:647: ConvergenceWarning: Objective did not converge. You might want to increase the number of iterations, check the scale of the features or consider increasing regularisation. Duality gap: 7.149e+02, tolerance: 2.191e+02\n",
      "  model = cd_fast.enet_coordinate_descent(\n"
     ]
    },
    {
     "name": "stdout",
     "output_type": "stream",
     "text": [
      "."
     ]
    },
    {
     "name": "stderr",
     "output_type": "stream",
     "text": [
      "/home/bsmith16/.conda/envs/py3_mvpa/lib/python3.8/site-packages/sklearn/linear_model/_coordinate_descent.py:647: ConvergenceWarning: Objective did not converge. You might want to increase the number of iterations, check the scale of the features or consider increasing regularisation. Duality gap: 8.225e+02, tolerance: 2.745e+02\n",
      "  model = cd_fast.enet_coordinate_descent(\n"
     ]
    },
    {
     "name": "stdout",
     "output_type": "stream",
     "text": [
      "."
     ]
    },
    {
     "name": "stderr",
     "output_type": "stream",
     "text": [
      "/home/bsmith16/.conda/envs/py3_mvpa/lib/python3.8/site-packages/sklearn/linear_model/_coordinate_descent.py:647: ConvergenceWarning: Objective did not converge. You might want to increase the number of iterations, check the scale of the features or consider increasing regularisation. Duality gap: 8.138e+02, tolerance: 2.744e+02\n",
      "  model = cd_fast.enet_coordinate_descent(\n"
     ]
    },
    {
     "name": "stdout",
     "output_type": "stream",
     "text": [
      "."
     ]
    },
    {
     "name": "stderr",
     "output_type": "stream",
     "text": [
      "/home/bsmith16/.conda/envs/py3_mvpa/lib/python3.8/site-packages/sklearn/linear_model/_coordinate_descent.py:647: ConvergenceWarning: Objective did not converge. You might want to increase the number of iterations, check the scale of the features or consider increasing regularisation. Duality gap: 9.241e+02, tolerance: 2.748e+02\n",
      "  model = cd_fast.enet_coordinate_descent(\n"
     ]
    },
    {
     "name": "stdout",
     "output_type": "stream",
     "text": [
      "."
     ]
    },
    {
     "name": "stderr",
     "output_type": "stream",
     "text": [
      "/home/bsmith16/.conda/envs/py3_mvpa/lib/python3.8/site-packages/sklearn/linear_model/_coordinate_descent.py:647: ConvergenceWarning: Objective did not converge. You might want to increase the number of iterations, check the scale of the features or consider increasing regularisation. Duality gap: 8.439e+02, tolerance: 2.696e+02\n",
      "  model = cd_fast.enet_coordinate_descent(\n"
     ]
    },
    {
     "name": "stdout",
     "output_type": "stream",
     "text": [
      "."
     ]
    },
    {
     "name": "stderr",
     "output_type": "stream",
     "text": [
      "/home/bsmith16/.conda/envs/py3_mvpa/lib/python3.8/site-packages/sklearn/linear_model/_coordinate_descent.py:647: ConvergenceWarning: Objective did not converge. You might want to increase the number of iterations, check the scale of the features or consider increasing regularisation. Duality gap: 9.703e+02, tolerance: 2.747e+02\n",
      "  model = cd_fast.enet_coordinate_descent(\n"
     ]
    },
    {
     "name": "stdout",
     "output_type": "stream",
     "text": [
      "."
     ]
    },
    {
     "name": "stderr",
     "output_type": "stream",
     "text": [
      "/home/bsmith16/.conda/envs/py3_mvpa/lib/python3.8/site-packages/sklearn/linear_model/_coordinate_descent.py:647: ConvergenceWarning: Objective did not converge. You might want to increase the number of iterations, check the scale of the features or consider increasing regularisation. Duality gap: 8.061e+02, tolerance: 2.746e+02\n",
      "  model = cd_fast.enet_coordinate_descent(\n"
     ]
    },
    {
     "name": "stdout",
     "output_type": "stream",
     "text": [
      "."
     ]
    },
    {
     "name": "stderr",
     "output_type": "stream",
     "text": [
      "/home/bsmith16/.conda/envs/py3_mvpa/lib/python3.8/site-packages/sklearn/linear_model/_coordinate_descent.py:647: ConvergenceWarning: Objective did not converge. You might want to increase the number of iterations, check the scale of the features or consider increasing regularisation. Duality gap: 8.484e+02, tolerance: 2.742e+02\n",
      "  model = cd_fast.enet_coordinate_descent(\n"
     ]
    },
    {
     "name": "stdout",
     "output_type": "stream",
     "text": [
      "."
     ]
    },
    {
     "name": "stderr",
     "output_type": "stream",
     "text": [
      "/home/bsmith16/.conda/envs/py3_mvpa/lib/python3.8/site-packages/sklearn/linear_model/_coordinate_descent.py:647: ConvergenceWarning: Objective did not converge. You might want to increase the number of iterations, check the scale of the features or consider increasing regularisation. Duality gap: 9.571e+02, tolerance: 2.743e+02\n",
      "  model = cd_fast.enet_coordinate_descent(\n"
     ]
    },
    {
     "name": "stdout",
     "output_type": "stream",
     "text": [
      "."
     ]
    },
    {
     "name": "stderr",
     "output_type": "stream",
     "text": [
      "/home/bsmith16/.conda/envs/py3_mvpa/lib/python3.8/site-packages/sklearn/linear_model/_coordinate_descent.py:647: ConvergenceWarning: Objective did not converge. You might want to increase the number of iterations, check the scale of the features or consider increasing regularisation. Duality gap: 8.639e+02, tolerance: 2.746e+02\n",
      "  model = cd_fast.enet_coordinate_descent(\n"
     ]
    },
    {
     "name": "stdout",
     "output_type": "stream",
     "text": [
      "."
     ]
    },
    {
     "name": "stderr",
     "output_type": "stream",
     "text": [
      "/home/bsmith16/.conda/envs/py3_mvpa/lib/python3.8/site-packages/sklearn/linear_model/_coordinate_descent.py:647: ConvergenceWarning: Objective did not converge. You might want to increase the number of iterations, check the scale of the features or consider increasing regularisation. Duality gap: 1.402e+03, tolerance: 2.745e+02\n",
      "  model = cd_fast.enet_coordinate_descent(\n"
     ]
    },
    {
     "name": "stdout",
     "output_type": "stream",
     "text": [
      "."
     ]
    },
    {
     "name": "stderr",
     "output_type": "stream",
     "text": [
      "/home/bsmith16/.conda/envs/py3_mvpa/lib/python3.8/site-packages/sklearn/linear_model/_coordinate_descent.py:647: ConvergenceWarning: Objective did not converge. You might want to increase the number of iterations, check the scale of the features or consider increasing regularisation. Duality gap: 9.045e+02, tolerance: 2.734e+02\n",
      "  model = cd_fast.enet_coordinate_descent(\n"
     ]
    },
    {
     "name": "stdout",
     "output_type": "stream",
     "text": [
      "."
     ]
    },
    {
     "name": "stderr",
     "output_type": "stream",
     "text": [
      "/home/bsmith16/.conda/envs/py3_mvpa/lib/python3.8/site-packages/sklearn/linear_model/_coordinate_descent.py:647: ConvergenceWarning: Objective did not converge. You might want to increase the number of iterations, check the scale of the features or consider increasing regularisation. Duality gap: 8.933e+02, tolerance: 2.713e+02\n",
      "  model = cd_fast.enet_coordinate_descent(\n"
     ]
    },
    {
     "name": "stdout",
     "output_type": "stream",
     "text": [
      "."
     ]
    },
    {
     "name": "stderr",
     "output_type": "stream",
     "text": [
      "/home/bsmith16/.conda/envs/py3_mvpa/lib/python3.8/site-packages/sklearn/linear_model/_coordinate_descent.py:647: ConvergenceWarning: Objective did not converge. You might want to increase the number of iterations, check the scale of the features or consider increasing regularisation. Duality gap: 9.883e+02, tolerance: 2.674e+02\n",
      "  model = cd_fast.enet_coordinate_descent(\n"
     ]
    },
    {
     "name": "stdout",
     "output_type": "stream",
     "text": [
      "."
     ]
    },
    {
     "name": "stderr",
     "output_type": "stream",
     "text": [
      "/home/bsmith16/.conda/envs/py3_mvpa/lib/python3.8/site-packages/sklearn/linear_model/_coordinate_descent.py:647: ConvergenceWarning: Objective did not converge. You might want to increase the number of iterations, check the scale of the features or consider increasing regularisation. Duality gap: 8.443e+02, tolerance: 2.743e+02\n",
      "  model = cd_fast.enet_coordinate_descent(\n",
      "/home/bsmith16/.conda/envs/py3_mvpa/lib/python3.8/site-packages/sklearn/linear_model/_coordinate_descent.py:647: ConvergenceWarning: Objective did not converge. You might want to increase the number of iterations, check the scale of the features or consider increasing regularisation. Duality gap: 9.089e+02, tolerance: 2.746e+02\n",
      "  model = cd_fast.enet_coordinate_descent(\n",
      "/home/bsmith16/.conda/envs/py3_mvpa/lib/python3.8/site-packages/sklearn/linear_model/_coordinate_descent.py:647: ConvergenceWarning: Objective did not converge. You might want to increase the number of iterations, check the scale of the features or consider increasing regularisation. Duality gap: 8.644e+02, tolerance: 2.749e+02\n",
      "  model = cd_fast.enet_coordinate_descent(\n"
     ]
    },
    {
     "data": {
      "text/plain": [
       "(0.9693185105846014, 2.032145825622152e-99)"
      ]
     },
     "execution_count": 131,
     "metadata": {},
     "output_type": "execute_result"
    }
   ],
   "source": [
    "mix_target = np.sum(Brain_Data_allsubs.samples[:,15000:15100],axis=1)\n",
    "Brain_Data_allsubs.sa['mix_target']=list(mix_target)\n",
    "Brain_Data_allsubs = setup_metadata(Brain_Data_allsubs,'mix_target',standardize=False)\n",
    "regression_results = do_regression(Brain_Data_allsubs, get_prediction = do_Lasso2, require_mean_centered=False)\n",
    "pearsonr(regression_results['sample_wise']['target_y'],regression_results['sample_wise']['pred_y'])"
   ]
  },
  {
   "cell_type": "code",
   "execution_count": 121,
   "id": "green-celebrity",
   "metadata": {},
   "outputs": [
    {
     "name": "stdout",
     "output_type": "stream",
     "text": [
      "eliminating 0 of 162 items due to null input values.\n",
      ".................................................................................(0.3896282417311052, 2.9793285204147226e-07)\n"
     ]
    },
    {
     "data": {
      "text/plain": [
       "<matplotlib.collections.PathCollection at 0x2aaaf111bdc0>"
      ]
     },
     "execution_count": 121,
     "metadata": {},
     "output_type": "execute_result"
    },
    {
     "data": {
      "image/png": "[encoded data removed]",
      "text/plain": [
       "<Figure size 432x288 with 1 Axes>"
      ]
     },
     "metadata": {
      "needs_background": "light"
     },
     "output_type": "display_data"
    }
   ],
   "source": [
    "regression_results = do_regression(Brain_Data_allsubs, get_prediction = do_Lasso2)\n",
    "print(pearsonr(regression_results['sample_wise']['target_y'],regression_results['sample_wise']['pred_y']))\n",
    "scatter(regression_results['sample_wise']['target_y'],regression_results['sample_wise']['pred_y'])"
   ]
  },
  {
   "cell_type": "code",
   "execution_count": 46,
   "id": "western-brooklyn",
   "metadata": {},
   "outputs": [
    {
     "name": "stdout",
     "output_type": "stream",
     "text": [
      "eliminating 0 of 162 items due to null input values.\n",
      ".................................................................................(0.907475656018222, 3.7843850534794656e-62)\n"
     ]
    },
    {
     "data": {
      "text/plain": [
       "<matplotlib.collections.PathCollection at 0x2aab12f0a760>"
      ]
     },
     "execution_count": 46,
     "metadata": {},
     "output_type": "execute_result"
    },
    {
     "data": {
      "image/png": "[encoded data removed]",
      "text/plain": [
       "<Figure size 432x288 with 1 Axes>"
      ]
     },
     "metadata": {
      "needs_background": "light"
     },
     "output_type": "display_data"
    }
   ],
   "source": [
    "regression_results = do_regression(Brain_Data_allsubs, get_prediction = do_Lasso)\n",
    "print(pearsonr(regression_results['sample_wise']['target_y'],regression_results['sample_wise']['pred_y']))\n",
    "scatter(regression_results['sample_wise']['target_y'],regression_results['sample_wise']['pred_y'])"
   ]
  },
  {
   "cell_type": "code",
   "execution_count": 43,
   "id": "equipped-freedom",
   "metadata": {},
   "outputs": [
    {
     "data": {
      "text/plain": [
       "(0.8000696765345883, 2.443531180731693e-37)"
      ]
     },
     "execution_count": 43,
     "metadata": {},
     "output_type": "execute_result"
    }
   ],
   "source": [
    "pearsonr(regression_results['sample_wise']['target_y'],regression_results['sample_wise']['pred_y'])"
   ]
  },
  {
   "cell_type": "markdown",
   "id": "administrative-director",
   "metadata": {},
   "source": [
    "So in summary--we can't predict TESQ-E-Sum using Ridge or Lasso regression. Because prediction is `greedy' in a sense--it'll take voxels anywhere in the image and emphasize them until they're useful--there's no point in trying different masks. We might try different scales, bu there's no use in doing a regression on masks."
   ]
  },
  {
   "cell_type": "markdown",
   "id": "industrial-timeline",
   "metadata": {},
   "source": [
    "#### Elastic net?"
   ]
  },
  {
   "cell_type": "code",
   "execution_count": 122,
   "id": "velvet-commonwealth",
   "metadata": {},
   "outputs": [],
   "source": [
    "from sklearn.linear_model import ElasticNet\n",
    "def do_ElasticNet(train_X,train_y,test_X,test_y):\n",
    "    sklearn_regress = ElasticNet(alpha=10.0,fit_intercept=False)\n",
    "    \n",
    "    sklearn_regress.fit(train_X, train_y)\n",
    "    \n",
    "    predict_y = sklearn_regress.predict(test_X)\n",
    "    return(predict_y,sklearn_regress)"
   ]
  },
  {
   "cell_type": "code",
   "execution_count": 123,
   "id": "alive-raising",
   "metadata": {},
   "outputs": [
    {
     "name": "stdout",
     "output_type": "stream",
     "text": [
      "eliminating 0 of 162 items due to null input values.\n",
      "................................................................................."
     ]
    }
   ],
   "source": [
    "\n",
    "elastic_regression_results = do_regression(Brain_Data_allsubs, get_prediction = do_ElasticNet)\n"
   ]
  },
  {
   "cell_type": "code",
   "execution_count": null,
   "id": "caring-heavy",
   "metadata": {},
   "outputs": [],
   "source": [
    "\n",
    "scatter(elastic_regression_results['sample_wise']['target_y'],elastic_regression_results['sample_wise']['pred_y'])\n",
    "pearsonr(elastic_regression_results['sample_wise']['target_y'],elastic_regression_results['sample_wise']['pred_y'])"
   ]
  },
  {
   "cell_type": "markdown",
   "id": "sealed-commons",
   "metadata": {},
   "source": [
    "OK, of the three (Ridge, Elastic, Lasso), Lasso performs best on the dummy data, so we'll use that."
   ]
  },
  {
   "cell_type": "markdown",
   "id": "announced-gasoline",
   "metadata": {},
   "source": [
    "## PCA?"
   ]
  },
  {
   "cell_type": "markdown",
   "id": "cellular-marina",
   "metadata": {},
   "source": [
    "# Main analysis: Cycle through relevant variables...\n",
    "\n",
    "We'll cycle through:\n",
    "\n",
    " - TESQ-E subscales\n",
    " - BF%\n",
    " - SSRT"
   ]
  },
  {
   "cell_type": "markdown",
   "id": "electronic-whole",
   "metadata": {},
   "source": [
    "### Stop Minus Go"
   ]
  },
  {
   "cell_type": "code",
   "execution_count": null,
   "id": "athletic-insider",
   "metadata": {},
   "outputs": [],
   "source": []
  },
  {
   "cell_type": "code",
   "execution_count": 36,
   "id": "simple-button",
   "metadata": {},
   "outputs": [
    {
     "name": "stdout",
     "output_type": "stream",
     "text": [
      "eliminating 6 of 81 items due to null input values.\n",
      "..........................................................................."
     ]
    },
    {
     "data": {
      "text/plain": [
       "(0.03887964227786027, 0.7405104037837731)"
      ]
     },
     "execution_count": 36,
     "metadata": {},
     "output_type": "execute_result"
    }
   ],
   "source": [
    "brain_data_filepath = ml_data_folderpath + '/SST/mvpa_Dataset_conditions_84subs_cor_stop_minus_go_contrast.pkl'\n",
    "with open(brain_data_filepath, 'rb') as pkl_file:\n",
    "    Brain_Data_allsubs = pickle.load(pkl_file)\n",
    "\n",
    "Brain_Data_allsubs = setup_metadata(Brain_Data_allsubs,'TESQ_E_sum')\n",
    "\n",
    "regression_results = do_regression(Brain_Data_allsubs,do_Lasso)\n",
    "pearsonr(regression_results['sample_wise']['target_y'],regression_results['sample_wise']['pred_y'])"
   ]
  },
  {
   "cell_type": "code",
   "execution_count": 37,
   "id": "overall-variety",
   "metadata": {},
   "outputs": [],
   "source": [
    "brain_data_filepath = ml_data_folderpath + '/SST/mvpa_Dataset_conditions_84subs_cor_stop_minus_go_contrast.pkl'\n",
    "with open(brain_data_filepath, 'rb') as pkl_file:\n",
    "    Brain_Data_allsubs = pickle.load(pkl_file)\n",
    "\n"
   ]
  },
  {
   "cell_type": "code",
   "execution_count": 87,
   "id": "characteristic-salem",
   "metadata": {},
   "outputs": [
    {
     "name": "stdout",
     "output_type": "stream",
     "text": [
      "TESQ_E_sum\n",
      "eliminating 12 of 162 items due to null input values.\n",
      "......."
     ]
    },
    {
     "ename": "KeyboardInterrupt",
     "evalue": "",
     "output_type": "error",
     "traceback": [
      "\u001b[0;31m---------------------------------------------------------------------------\u001b[0m",
      "\u001b[0;31mKeyboardInterrupt\u001b[0m                         Traceback (most recent call last)",
      "Input \u001b[0;32mIn [87]\u001b[0m, in \u001b[0;36m<module>\u001b[0;34m\u001b[0m\n\u001b[1;32m     10\u001b[0m \u001b[38;5;28mprint\u001b[39m(regression_var)\n\u001b[1;32m     11\u001b[0m Brain_Data_allsubs \u001b[38;5;241m=\u001b[39m setup_metadata(Brain_Data_allsubs,regression_var)\n\u001b[0;32m---> 12\u001b[0m regression_results \u001b[38;5;241m=\u001b[39m \u001b[43mdo_regression\u001b[49m\u001b[43m(\u001b[49m\u001b[43mBrain_Data_allsubs\u001b[49m\u001b[43m,\u001b[49m\u001b[43m \u001b[49m\u001b[43mget_prediction\u001b[49m\u001b[43m \u001b[49m\u001b[38;5;241;43m=\u001b[39;49m\u001b[43m \u001b[49m\u001b[43mdo_Lasso\u001b[49m\u001b[43m)\u001b[49m\n\u001b[1;32m     13\u001b[0m regression_results_dict[regression_var] \u001b[38;5;241m=\u001b[39m regression_results\n\u001b[1;32m     14\u001b[0m \u001b[38;5;28mprint\u001b[39m(pearsonr(regression_results[\u001b[38;5;124m'\u001b[39m\u001b[38;5;124msample_wise\u001b[39m\u001b[38;5;124m'\u001b[39m][\u001b[38;5;124m'\u001b[39m\u001b[38;5;124mtarget_y\u001b[39m\u001b[38;5;124m'\u001b[39m],regression_results[\u001b[38;5;124m'\u001b[39m\u001b[38;5;124msample_wise\u001b[39m\u001b[38;5;124m'\u001b[39m][\u001b[38;5;124m'\u001b[39m\u001b[38;5;124mpred_y\u001b[39m\u001b[38;5;124m'\u001b[39m]))\n",
      "Input \u001b[0;32mIn [86]\u001b[0m, in \u001b[0;36mdo_regression\u001b[0;34m(dataset, normalization, get_prediction, verbose, require_mean_centered)\u001b[0m\n\u001b[1;32m     40\u001b[0m \u001b[38;5;28mprint\u001b[39m(\u001b[38;5;124m\"\u001b[39m\u001b[38;5;124m.\u001b[39m\u001b[38;5;124m\"\u001b[39m,end\u001b[38;5;241m=\u001b[39m\u001b[38;5;124m\"\u001b[39m\u001b[38;5;124m\"\u001b[39m,flush\u001b[38;5;241m=\u001b[39m\u001b[38;5;28;01mTrue\u001b[39;00m)\n\u001b[1;32m     42\u001b[0m \u001b[38;5;66;03m#do train-test split\u001b[39;00m\n\u001b[0;32m---> 43\u001b[0m train_X\u001b[38;5;241m=\u001b[39m\u001b[43mdataset\u001b[49m\u001b[38;5;241;43m.\u001b[39;49m\u001b[43msamples\u001b[49m\u001b[43m[\u001b[49m\u001b[43mtrain_index\u001b[49m\u001b[43m]\u001b[49m\n\u001b[1;32m     44\u001b[0m test_X \u001b[38;5;241m=\u001b[39m dataset\u001b[38;5;241m.\u001b[39msamples[test_index]\n\u001b[1;32m     45\u001b[0m train_y\u001b[38;5;241m=\u001b[39mdataset\u001b[38;5;241m.\u001b[39msa\u001b[38;5;241m.\u001b[39mtargets[train_index]\n",
      "\u001b[0;31mKeyboardInterrupt\u001b[0m: "
     ]
    }
   ],
   "source": [
    "regression_results_dict = {}\n",
    "for regression_var in [\n",
    "    'TESQ_E_sum',\n",
    "    'TESQ_E_distraction',\n",
    "    'TESQ_E_avoidance_of_temptations',\n",
    "                       'TESQ_E_goal_deliberation',\n",
    "                       'TESQ_E_goal_and_rule_setting','TESQ_E_suppression',\n",
    "                       'bf_1','SST_SSRT'\n",
    "                      ]:\n",
    "    print(regression_var)\n",
    "    Brain_Data_allsubs = setup_metadata(Brain_Data_allsubs,regression_var)\n",
    "    regression_results = do_regression(Brain_Data_allsubs, get_prediction = do_Lasso)\n",
    "    regression_results_dict[regression_var] = regression_results\n",
    "    print(pearsonr(regression_results['sample_wise']['target_y'],regression_results['sample_wise']['pred_y']))\n",
    "    print(\"---\")"
   ]
  },
  {
   "cell_type": "markdown",
   "id": "backed-credits",
   "metadata": {},
   "source": [
    "### correct stop and Correct Go separately"
   ]
  },
  {
   "cell_type": "code",
   "execution_count": 88,
   "id": "sudden-hospital",
   "metadata": {},
   "outputs": [],
   "source": [
    "brain_data_filepath = ml_data_folderpath + '/SST/mvpa_Dataset_conditions_84subs_correct_cond.pkl'\n",
    "#mvpa_Dataset_conditions_84subs_cor_stop_minus_go_contrast\n",
    "\n",
    "with open(brain_data_filepath, 'rb') as pkl_file:\n",
    "    Brain_Data_allsubs = pickle.load(pkl_file)\n"
   ]
  },
  {
   "cell_type": "code",
   "execution_count": 89,
   "id": "violent-defensive",
   "metadata": {},
   "outputs": [],
   "source": [
    "Brain_Data_CorrectStop = Brain_Data_allsubs[Brain_Data_allsubs.sa.condition_label=='CorrectStop']\n",
    "Brain_Data_CorrectGo = Brain_Data_allsubs[Brain_Data_allsubs.sa.condition_label=='CorrectGo']"
   ]
  },
  {
   "cell_type": "code",
   "execution_count": 90,
   "id": "deadly-exclusive",
   "metadata": {},
   "outputs": [],
   "source": [
    "def do_Ridge(train_X,train_y,test_X,test_y):\n",
    "    sklearn_regress = Ridge(alpha=2.0)\n",
    "    \n",
    "    sklearn_regress.fit(train_X, train_y)\n",
    "    \n",
    "    predict_y = sklearn_regress.predict(test_X)\n",
    "    return(predict_y,sklearn_regress)"
   ]
  },
  {
   "cell_type": "code",
   "execution_count": 93,
   "id": "efficient-huntington",
   "metadata": {},
   "outputs": [],
   "source": [
    "from sklearn.linear_model import Lasso\n",
    "def do_Lasso(train_X,train_y,test_X,test_y):\n",
    "    #if we fit intercept, it actually uses the y values to refit the items, \n",
    "    #adjusting everything up and down, and it can introduce _anticorrelation_ with the predicted value\n",
    "    #may need to mean-center the predicted variable _before_ analysis.\n",
    "    sklearn_regress = Lasso(alpha=1.0,fit_intercept=False)\n",
    "    \n",
    "    sklearn_regress.fit(train_X, train_y)\n",
    "    \n",
    "    predict_y = sklearn_regress.predict(test_X)\n",
    "    predict_train_y = sklearn_regress.predict(train_X)\n",
    "    pearsonr(predict_train_y,)\n",
    "#    print(predict_y,test_y)\n",
    "    return(predict_y,sklearn_regress)"
   ]
  },
  {
   "cell_type": "code",
   "execution_count": 96,
   "id": "ranking-logistics",
   "metadata": {},
   "outputs": [],
   "source": [
    "from sklearn.linear_model import Lasso\n",
    "def do_Lasso2(train_X,train_y,test_X,test_y):\n",
    "    #if we fit intercept, it actually uses the y values to refit the items, \n",
    "    #adjusting everything up and down, and it can introduce _anticorrelation_ with the predicted value\n",
    "    #may need to mean-center the predicted variable _before_ analysis.\n",
    "    sklearn_regress = Lasso(alpha=1.0,fit_intercept=True)\n",
    "    \n",
    "    sklearn_regress.fit(train_X, train_y)\n",
    "    \n",
    "    predict_y = sklearn_regress.predict(test_X)\n",
    "#    print(predict_y,test_y)\n",
    "    return(predict_y,sklearn_regress)"
   ]
  },
  {
   "cell_type": "code",
   "execution_count": 94,
   "id": "handled-stocks",
   "metadata": {},
   "outputs": [
    {
     "name": "stdout",
     "output_type": "stream",
     "text": [
      "['CorrectStop']\n",
      "TESQ_E_sum\n",
      "eliminating 6 of 81 items due to null input values.\n",
      "...........................................................................(-0.2897391570748111, 0.011688686319622759)\n",
      "---\n",
      "TESQ_E_avoidance_of_temptations\n",
      "eliminating 6 of 81 items due to null input values.\n",
      "...........................................................................(-0.21211752121160998, 0.06770154797999485)\n",
      "---\n",
      "TESQ_E_goal_deliberation\n",
      "eliminating 6 of 81 items due to null input values.\n",
      "...........................................................................(-0.20501276795575663, 0.07765867595589468)\n",
      "---\n",
      "TESQ_E_distraction\n",
      "eliminating 6 of 81 items due to null input values.\n",
      "...........................................................................(-0.24358943934987354, 0.03520882472819055)\n",
      "---\n",
      "TESQ_E_goal_and_rule_setting\n",
      "eliminating 6 of 81 items due to null input values.\n",
      "...........................................................................(-0.298899089729488, 0.009189922013265534)\n",
      "---\n",
      "TESQ_E_suppression\n",
      "eliminating 6 of 81 items due to null input values.\n",
      "...........................................................................(-0.3830322874657558, 0.0006943964845521207)\n",
      "---\n",
      "bf_1\n",
      "eliminating 9 of 81 items due to null input values.\n",
      "........................................................................(-0.12341944404427349, 0.3016621046649797)\n",
      "---\n",
      "SST_SSRT\n",
      "eliminating 2 of 81 items due to null input values.\n",
      "...............................................................................(-0.1005129696608136, 0.37811545294588533)\n",
      "---\n",
      "['CorrectGo']\n",
      "TESQ_E_sum\n",
      "eliminating 6 of 81 items due to null input values.\n",
      "...........................................................................(0.11148386411421911, 0.3409777423110393)\n",
      "---\n",
      "TESQ_E_avoidance_of_temptations\n",
      "eliminating 6 of 81 items due to null input values.\n",
      "...........................................................................(-0.11944703898422215, 0.3073836666703567)\n",
      "---\n",
      "TESQ_E_goal_deliberation\n",
      "eliminating 6 of 81 items due to null input values.\n",
      "...........................................................................(0.2596037649286658, 0.02450069630008311)\n",
      "---\n",
      "TESQ_E_distraction\n",
      "eliminating 6 of 81 items due to null input values.\n",
      "...........................................................................(-0.015408085834020313, 0.895613552068508)\n",
      "---\n",
      "TESQ_E_goal_and_rule_setting\n",
      "eliminating 6 of 81 items due to null input values.\n",
      "............."
     ]
    },
    {
     "ename": "KeyboardInterrupt",
     "evalue": "",
     "output_type": "error",
     "traceback": [
      "\u001b[0;31m---------------------------------------------------------------------------\u001b[0m",
      "\u001b[0;31mKeyboardInterrupt\u001b[0m                         Traceback (most recent call last)",
      "Input \u001b[0;32mIn [94]\u001b[0m, in \u001b[0;36m<module>\u001b[0;34m\u001b[0m\n\u001b[1;32m      8\u001b[0m \u001b[38;5;28mprint\u001b[39m(regression_var)\n\u001b[1;32m     10\u001b[0m bd \u001b[38;5;241m=\u001b[39m setup_metadata(bd,regression_var)\n\u001b[0;32m---> 11\u001b[0m regression_results \u001b[38;5;241m=\u001b[39m \u001b[43mdo_regression\u001b[49m\u001b[43m(\u001b[49m\u001b[43mbd\u001b[49m\u001b[43m,\u001b[49m\u001b[43m \u001b[49m\u001b[43mget_prediction\u001b[49m\u001b[43m \u001b[49m\u001b[38;5;241;43m=\u001b[39;49m\u001b[43m \u001b[49m\u001b[43mdo_Lasso\u001b[49m\u001b[43m)\u001b[49m\n\u001b[1;32m     12\u001b[0m regression_results_dict[regression_var] \u001b[38;5;241m=\u001b[39m regression_results\n\u001b[1;32m     13\u001b[0m \u001b[38;5;28mprint\u001b[39m(pearsonr(regression_results[\u001b[38;5;124m'\u001b[39m\u001b[38;5;124msample_wise\u001b[39m\u001b[38;5;124m'\u001b[39m][\u001b[38;5;124m'\u001b[39m\u001b[38;5;124mtarget_y\u001b[39m\u001b[38;5;124m'\u001b[39m],regression_results[\u001b[38;5;124m'\u001b[39m\u001b[38;5;124msample_wise\u001b[39m\u001b[38;5;124m'\u001b[39m][\u001b[38;5;124m'\u001b[39m\u001b[38;5;124mpred_y\u001b[39m\u001b[38;5;124m'\u001b[39m]))\n",
      "Input \u001b[0;32mIn [86]\u001b[0m, in \u001b[0;36mdo_regression\u001b[0;34m(dataset, normalization, get_prediction, verbose, require_mean_centered)\u001b[0m\n\u001b[1;32m     56\u001b[0m             \u001b[38;5;28;01mraise\u001b[39;00m \u001b[38;5;167;01mException\u001b[39;00m(\u001b[38;5;124m\"\u001b[39m\u001b[38;5;124mthis is obsolete--think this method is completely wrong.\u001b[39m\u001b[38;5;124m\"\u001b[39m)\n\u001b[1;32m     57\u001b[0m             \u001b[38;5;66;03m#print(\"normalizing\")\u001b[39;00m\n\u001b[1;32m     58\u001b[0m \u001b[38;5;66;03m#         print(train_y)\u001b[39;00m\n\u001b[1;32m     59\u001b[0m \u001b[38;5;66;03m#         print(sum(np.isnan(train_y)))\u001b[39;00m\n\u001b[1;32m     60\u001b[0m \u001b[38;5;66;03m#         print(test_y)\u001b[39;00m\n\u001b[0;32m---> 61\u001b[0m         predict_y, sklearn_clf \u001b[38;5;241m=\u001b[39m \u001b[43mget_prediction\u001b[49m\u001b[43m(\u001b[49m\u001b[43mtrain_X\u001b[49m\u001b[43m,\u001b[49m\u001b[43mtrain_y\u001b[49m\u001b[43m,\u001b[49m\u001b[43mtest_X\u001b[49m\u001b[43m,\u001b[49m\u001b[43mtest_y\u001b[49m\u001b[43m)\u001b[49m\n\u001b[1;32m     62\u001b[0m         predict_y_train \u001b[38;5;241m=\u001b[39m sklearn_clf\u001b[38;5;241m.\u001b[39mpredict(train_X)\n\u001b[1;32m     63\u001b[0m \u001b[38;5;66;03m#         print(pearsonr(predict_y_train,train_y))\u001b[39;00m\n\u001b[1;32m     64\u001b[0m \u001b[38;5;66;03m#         print(predict_y)\u001b[39;00m\n\u001b[1;32m     65\u001b[0m \u001b[38;5;66;03m#         print(predict_y_train)\u001b[39;00m\n",
      "Input \u001b[0;32mIn [93]\u001b[0m, in \u001b[0;36mdo_Lasso\u001b[0;34m(train_X, train_y, test_X, test_y)\u001b[0m\n\u001b[1;32m      2\u001b[0m \u001b[38;5;28;01mdef\u001b[39;00m \u001b[38;5;21mdo_Lasso\u001b[39m(train_X,train_y,test_X,test_y):\n\u001b[1;32m      3\u001b[0m     \u001b[38;5;66;03m#if we fit intercept, it actually uses the y values to refit the items, \u001b[39;00m\n\u001b[1;32m      4\u001b[0m     \u001b[38;5;66;03m#adjusting everything up and down, and it can introduce _anticorrelation_ with the predicted value\u001b[39;00m\n\u001b[1;32m      5\u001b[0m     \u001b[38;5;66;03m#may need to mean-center the predicted variable _before_ analysis.\u001b[39;00m\n\u001b[1;32m      6\u001b[0m     sklearn_regress \u001b[38;5;241m=\u001b[39m Lasso(alpha\u001b[38;5;241m=\u001b[39m\u001b[38;5;241m1.0\u001b[39m,fit_intercept\u001b[38;5;241m=\u001b[39m\u001b[38;5;28;01mFalse\u001b[39;00m)\n\u001b[0;32m----> 8\u001b[0m     \u001b[43msklearn_regress\u001b[49m\u001b[38;5;241;43m.\u001b[39;49m\u001b[43mfit\u001b[49m\u001b[43m(\u001b[49m\u001b[43mtrain_X\u001b[49m\u001b[43m,\u001b[49m\u001b[43m \u001b[49m\u001b[43mtrain_y\u001b[49m\u001b[43m)\u001b[49m\n\u001b[1;32m     10\u001b[0m     predict_y \u001b[38;5;241m=\u001b[39m sklearn_regress\u001b[38;5;241m.\u001b[39mpredict(test_X)\n\u001b[1;32m     11\u001b[0m \u001b[38;5;66;03m#    print(predict_y,test_y)\u001b[39;00m\n",
      "File \u001b[0;32m~/.conda/envs/py3_mvpa/lib/python3.8/site-packages/sklearn/linear_model/_coordinate_descent.py:1039\u001b[0m, in \u001b[0;36mElasticNet.fit\u001b[0;34m(self, X, y, sample_weight, check_input)\u001b[0m\n\u001b[1;32m   1037\u001b[0m \u001b[38;5;28;01melse\u001b[39;00m:\n\u001b[1;32m   1038\u001b[0m     this_Xy \u001b[38;5;241m=\u001b[39m \u001b[38;5;28;01mNone\u001b[39;00m\n\u001b[0;32m-> 1039\u001b[0m _, this_coef, this_dual_gap, this_iter \u001b[38;5;241m=\u001b[39m \u001b[38;5;28;43mself\u001b[39;49m\u001b[38;5;241;43m.\u001b[39;49m\u001b[43mpath\u001b[49m\u001b[43m(\u001b[49m\n\u001b[1;32m   1040\u001b[0m \u001b[43m    \u001b[49m\u001b[43mX\u001b[49m\u001b[43m,\u001b[49m\n\u001b[1;32m   1041\u001b[0m \u001b[43m    \u001b[49m\u001b[43my\u001b[49m\u001b[43m[\u001b[49m\u001b[43m:\u001b[49m\u001b[43m,\u001b[49m\u001b[43m \u001b[49m\u001b[43mk\u001b[49m\u001b[43m]\u001b[49m\u001b[43m,\u001b[49m\n\u001b[1;32m   1042\u001b[0m \u001b[43m    \u001b[49m\u001b[43ml1_ratio\u001b[49m\u001b[38;5;241;43m=\u001b[39;49m\u001b[38;5;28;43mself\u001b[39;49m\u001b[38;5;241;43m.\u001b[39;49m\u001b[43ml1_ratio\u001b[49m\u001b[43m,\u001b[49m\n\u001b[1;32m   1043\u001b[0m \u001b[43m    \u001b[49m\u001b[43meps\u001b[49m\u001b[38;5;241;43m=\u001b[39;49m\u001b[38;5;28;43;01mNone\u001b[39;49;00m\u001b[43m,\u001b[49m\n\u001b[1;32m   1044\u001b[0m \u001b[43m    \u001b[49m\u001b[43mn_alphas\u001b[49m\u001b[38;5;241;43m=\u001b[39;49m\u001b[38;5;28;43;01mNone\u001b[39;49;00m\u001b[43m,\u001b[49m\n\u001b[1;32m   1045\u001b[0m \u001b[43m    \u001b[49m\u001b[43malphas\u001b[49m\u001b[38;5;241;43m=\u001b[39;49m\u001b[43m[\u001b[49m\u001b[43malpha\u001b[49m\u001b[43m]\u001b[49m\u001b[43m,\u001b[49m\n\u001b[1;32m   1046\u001b[0m \u001b[43m    \u001b[49m\u001b[43mprecompute\u001b[49m\u001b[38;5;241;43m=\u001b[39;49m\u001b[43mprecompute\u001b[49m\u001b[43m,\u001b[49m\n\u001b[1;32m   1047\u001b[0m \u001b[43m    \u001b[49m\u001b[43mXy\u001b[49m\u001b[38;5;241;43m=\u001b[39;49m\u001b[43mthis_Xy\u001b[49m\u001b[43m,\u001b[49m\n\u001b[1;32m   1048\u001b[0m \u001b[43m    \u001b[49m\u001b[43mcopy_X\u001b[49m\u001b[38;5;241;43m=\u001b[39;49m\u001b[38;5;28;43;01mTrue\u001b[39;49;00m\u001b[43m,\u001b[49m\n\u001b[1;32m   1049\u001b[0m \u001b[43m    \u001b[49m\u001b[43mverbose\u001b[49m\u001b[38;5;241;43m=\u001b[39;49m\u001b[38;5;28;43;01mFalse\u001b[39;49;00m\u001b[43m,\u001b[49m\n\u001b[1;32m   1050\u001b[0m \u001b[43m    \u001b[49m\u001b[43mtol\u001b[49m\u001b[38;5;241;43m=\u001b[39;49m\u001b[38;5;28;43mself\u001b[39;49m\u001b[38;5;241;43m.\u001b[39;49m\u001b[43mtol\u001b[49m\u001b[43m,\u001b[49m\n\u001b[1;32m   1051\u001b[0m \u001b[43m    \u001b[49m\u001b[43mpositive\u001b[49m\u001b[38;5;241;43m=\u001b[39;49m\u001b[38;5;28;43mself\u001b[39;49m\u001b[38;5;241;43m.\u001b[39;49m\u001b[43mpositive\u001b[49m\u001b[43m,\u001b[49m\n\u001b[1;32m   1052\u001b[0m \u001b[43m    \u001b[49m\u001b[43mX_offset\u001b[49m\u001b[38;5;241;43m=\u001b[39;49m\u001b[43mX_offset\u001b[49m\u001b[43m,\u001b[49m\n\u001b[1;32m   1053\u001b[0m \u001b[43m    \u001b[49m\u001b[43mX_scale\u001b[49m\u001b[38;5;241;43m=\u001b[39;49m\u001b[43mX_scale\u001b[49m\u001b[43m,\u001b[49m\n\u001b[1;32m   1054\u001b[0m \u001b[43m    \u001b[49m\u001b[43mreturn_n_iter\u001b[49m\u001b[38;5;241;43m=\u001b[39;49m\u001b[38;5;28;43;01mTrue\u001b[39;49;00m\u001b[43m,\u001b[49m\n\u001b[1;32m   1055\u001b[0m \u001b[43m    \u001b[49m\u001b[43mcoef_init\u001b[49m\u001b[38;5;241;43m=\u001b[39;49m\u001b[43mcoef_\u001b[49m\u001b[43m[\u001b[49m\u001b[43mk\u001b[49m\u001b[43m]\u001b[49m\u001b[43m,\u001b[49m\n\u001b[1;32m   1056\u001b[0m \u001b[43m    \u001b[49m\u001b[43mmax_iter\u001b[49m\u001b[38;5;241;43m=\u001b[39;49m\u001b[38;5;28;43mself\u001b[39;49m\u001b[38;5;241;43m.\u001b[39;49m\u001b[43mmax_iter\u001b[49m\u001b[43m,\u001b[49m\n\u001b[1;32m   1057\u001b[0m \u001b[43m    \u001b[49m\u001b[43mrandom_state\u001b[49m\u001b[38;5;241;43m=\u001b[39;49m\u001b[38;5;28;43mself\u001b[39;49m\u001b[38;5;241;43m.\u001b[39;49m\u001b[43mrandom_state\u001b[49m\u001b[43m,\u001b[49m\n\u001b[1;32m   1058\u001b[0m \u001b[43m    \u001b[49m\u001b[43mselection\u001b[49m\u001b[38;5;241;43m=\u001b[39;49m\u001b[38;5;28;43mself\u001b[39;49m\u001b[38;5;241;43m.\u001b[39;49m\u001b[43mselection\u001b[49m\u001b[43m,\u001b[49m\n\u001b[1;32m   1059\u001b[0m \u001b[43m    \u001b[49m\u001b[43mcheck_input\u001b[49m\u001b[38;5;241;43m=\u001b[39;49m\u001b[38;5;28;43;01mFalse\u001b[39;49;00m\u001b[43m,\u001b[49m\n\u001b[1;32m   1060\u001b[0m \u001b[43m\u001b[49m\u001b[43m)\u001b[49m\n\u001b[1;32m   1061\u001b[0m coef_[k] \u001b[38;5;241m=\u001b[39m this_coef[:, \u001b[38;5;241m0\u001b[39m]\n\u001b[1;32m   1062\u001b[0m dual_gaps_[k] \u001b[38;5;241m=\u001b[39m this_dual_gap[\u001b[38;5;241m0\u001b[39m]\n",
      "File \u001b[0;32m~/.conda/envs/py3_mvpa/lib/python3.8/site-packages/sklearn/linear_model/_coordinate_descent.py:647\u001b[0m, in \u001b[0;36menet_path\u001b[0;34m(X, y, l1_ratio, eps, n_alphas, alphas, precompute, Xy, copy_X, coef_init, verbose, return_n_iter, positive, check_input, **params)\u001b[0m\n\u001b[1;32m    633\u001b[0m     model \u001b[38;5;241m=\u001b[39m cd_fast\u001b[38;5;241m.\u001b[39menet_coordinate_descent_gram(\n\u001b[1;32m    634\u001b[0m         coef_,\n\u001b[1;32m    635\u001b[0m         l1_reg,\n\u001b[0;32m   (...)\u001b[0m\n\u001b[1;32m    644\u001b[0m         positive,\n\u001b[1;32m    645\u001b[0m     )\n\u001b[1;32m    646\u001b[0m \u001b[38;5;28;01melif\u001b[39;00m precompute \u001b[38;5;129;01mis\u001b[39;00m \u001b[38;5;28;01mFalse\u001b[39;00m:\n\u001b[0;32m--> 647\u001b[0m     model \u001b[38;5;241m=\u001b[39m \u001b[43mcd_fast\u001b[49m\u001b[38;5;241;43m.\u001b[39;49m\u001b[43menet_coordinate_descent\u001b[49m\u001b[43m(\u001b[49m\n\u001b[1;32m    648\u001b[0m \u001b[43m        \u001b[49m\u001b[43mcoef_\u001b[49m\u001b[43m,\u001b[49m\u001b[43m \u001b[49m\u001b[43ml1_reg\u001b[49m\u001b[43m,\u001b[49m\u001b[43m \u001b[49m\u001b[43ml2_reg\u001b[49m\u001b[43m,\u001b[49m\u001b[43m \u001b[49m\u001b[43mX\u001b[49m\u001b[43m,\u001b[49m\u001b[43m \u001b[49m\u001b[43my\u001b[49m\u001b[43m,\u001b[49m\u001b[43m \u001b[49m\u001b[43mmax_iter\u001b[49m\u001b[43m,\u001b[49m\u001b[43m \u001b[49m\u001b[43mtol\u001b[49m\u001b[43m,\u001b[49m\u001b[43m \u001b[49m\u001b[43mrng\u001b[49m\u001b[43m,\u001b[49m\u001b[43m \u001b[49m\u001b[43mrandom\u001b[49m\u001b[43m,\u001b[49m\u001b[43m \u001b[49m\u001b[43mpositive\u001b[49m\n\u001b[1;32m    649\u001b[0m \u001b[43m    \u001b[49m\u001b[43m)\u001b[49m\n\u001b[1;32m    650\u001b[0m \u001b[38;5;28;01melse\u001b[39;00m:\n\u001b[1;32m    651\u001b[0m     \u001b[38;5;28;01mraise\u001b[39;00m \u001b[38;5;167;01mValueError\u001b[39;00m(\n\u001b[1;32m    652\u001b[0m         \u001b[38;5;124m\"\u001b[39m\u001b[38;5;124mPrecompute should be one of True, False, \u001b[39m\u001b[38;5;124m'\u001b[39m\u001b[38;5;124mauto\u001b[39m\u001b[38;5;124m'\u001b[39m\u001b[38;5;124m or array-like. Got \u001b[39m\u001b[38;5;132;01m%r\u001b[39;00m\u001b[38;5;124m\"\u001b[39m\n\u001b[1;32m    653\u001b[0m         \u001b[38;5;241m%\u001b[39m precompute\n\u001b[1;32m    654\u001b[0m     )\n",
      "\u001b[0;31mKeyboardInterrupt\u001b[0m: "
     ]
    }
   ],
   "source": [
    "for bd in [Brain_Data_CorrectStop, Brain_Data_CorrectGo]:\n",
    "    print(np.unique(bd.sa.condition_label))\n",
    "    for regression_var in ['TESQ_E_sum', 'TESQ_E_avoidance_of_temptations',\n",
    "                           'TESQ_E_goal_deliberation','TESQ_E_distraction',\n",
    "                           'TESQ_E_goal_and_rule_setting','TESQ_E_suppression',\n",
    "                           'bf_1','SST_SSRT'\n",
    "                          ]:\n",
    "        print(regression_var)\n",
    "        \n",
    "        bd = setup_metadata(bd,regression_var)\n",
    "        regression_results = do_regression(bd, get_prediction = do_Lasso)\n",
    "        regression_results_dict[regression_var] = regression_results\n",
    "        print(pearsonr(regression_results['sample_wise']['target_y'],regression_results['sample_wise']['pred_y']))\n",
    "        print(\"---\")"
   ]
  },
  {
   "cell_type": "code",
   "execution_count": 97,
   "id": "suburban-laser",
   "metadata": {},
   "outputs": [
    {
     "name": "stdout",
     "output_type": "stream",
     "text": [
      "['CorrectStop']\n",
      "TESQ_E_sum\n",
      "eliminating 6 of 81 items due to null input values.\n",
      "...........................................................................(-0.662050774249783, 9.939377950744506e-11)\n",
      "---\n",
      "TESQ_E_avoidance_of_temptations\n",
      "eliminating 6 of 81 items due to null input values.\n",
      "...........................................................................(-0.8706736957303877, 3.40099294415994e-24)\n",
      "---\n",
      "TESQ_E_goal_deliberation\n",
      "eliminating 6 of 81 items due to null input values.\n",
      "...........................................................................(-0.3689253159881247, 0.0011258348475313847)\n",
      "---\n",
      "TESQ_E_distraction\n",
      "eliminating 6 of 81 items due to null input values.\n",
      "...........................................................................(-0.9888666517456229, 3.7537979907903164e-62)\n",
      "---\n",
      "TESQ_E_goal_and_rule_setting\n",
      "eliminating 6 of 81 items due to null input values.\n",
      "...........................................................................(-0.4657845041006153, 2.5405831637441768e-05)\n",
      "---\n",
      "TESQ_E_suppression\n",
      "eliminating 6 of 81 items due to null input values.\n",
      "...........................................................................(-0.7827640548676846, 1.0826926710266976e-16)\n",
      "---\n",
      "bf_1\n",
      "eliminating 9 of 81 items due to null input values.\n",
      "........................................................................(-0.29844081726703287, 0.010885610117737024)\n",
      "---\n",
      "SST_SSRT\n",
      "eliminating 2 of 81 items due to null input values.\n",
      "...............................................................................(-0.30127009353502177, 0.006974497194290303)\n",
      "---\n",
      "['CorrectGo']\n",
      "TESQ_E_sum\n",
      "eliminating 6 of 81 items due to null input values.\n",
      "...........................................................................(0.08999428391067682, 0.44258047078645824)\n",
      "---\n",
      "TESQ_E_avoidance_of_temptations\n",
      "eliminating 6 of 81 items due to null input values.\n",
      "...........................................................................(-0.1444050814144539, 0.21643233935921433)\n",
      "---\n",
      "TESQ_E_goal_deliberation\n",
      "eliminating 6 of 81 items due to null input values.\n",
      "...........................................................................(0.23695641174309376, 0.040669261422939224)\n",
      "---\n",
      "TESQ_E_distraction\n",
      "eliminating 6 of 81 items due to null input values.\n",
      "...........................................................................(-0.03122100219514951, 0.7903121386076513)\n",
      "---\n",
      "TESQ_E_goal_and_rule_setting\n",
      "eliminating 6 of 81 items due to null input values.\n",
      "...........................................................................(-0.12237431465196014, 0.29559348442724537)\n",
      "---\n",
      "TESQ_E_suppression\n",
      "eliminating 6 of 81 items due to null input values.\n",
      "...........................................................................(-0.16839660209306773, 0.14868308304636338)\n",
      "---\n",
      "bf_1\n",
      "eliminating 9 of 81 items due to null input values.\n",
      "........................................................................(-0.04683043257461191, 0.6960712712016681)\n",
      "---\n",
      "SST_SSRT\n",
      "eliminating 2 of 81 items due to null input values.\n",
      "...............................................................................(-0.2669746621674908, 0.017385873017146027)\n",
      "---\n"
     ]
    }
   ],
   "source": [
    "for bd in [Brain_Data_CorrectStop, Brain_Data_CorrectGo]:\n",
    "    print(np.unique(bd.sa.condition_label))\n",
    "    for regression_var in ['TESQ_E_sum', 'TESQ_E_avoidance_of_temptations',\n",
    "                           'TESQ_E_goal_deliberation','TESQ_E_distraction',\n",
    "                           'TESQ_E_goal_and_rule_setting','TESQ_E_suppression',\n",
    "                           'bf_1','SST_SSRT'\n",
    "                          ]:\n",
    "        print(regression_var)\n",
    "        \n",
    "        bd = setup_metadata(bd,regression_var)\n",
    "        regression_results = do_regression(bd, get_prediction = do_Lasso2)\n",
    "        regression_results_dict[regression_var] = regression_results\n",
    "        print(pearsonr(regression_results['sample_wise']['target_y'],regression_results['sample_wise']['pred_y']))\n",
    "        print(\"---\")"
   ]
  },
  {
   "cell_type": "code",
   "execution_count": 73,
   "id": "revised-recipient",
   "metadata": {},
   "outputs": [
    {
     "data": {
      "text/plain": [
       "array([-0.31486695,  1.32866935, -0.74737651, -1.35288988,  0.03114069,\n",
       "        1.93418272,  0.20414451,         nan, -0.92038033, -0.83387842,\n",
       "        1.15566553, -1.5258937 ,  1.24216744, -0.83387842,  0.29064642,\n",
       "        0.55015215, -0.48787078,  1.24216744,  0.03114069,  0.80965788,\n",
       "               nan,         nan, -0.6608746 ,  2.5396961 ,  1.67467699,\n",
       "       -0.83387842, -1.43939179, -1.09338415,  2.02068463, -1.17988606,\n",
       "        0.1176426 ,  1.06916362,  0.72315597, -0.92038033, -1.69889753,\n",
       "       -1.17988606, -0.48787078,  1.58817508,  1.41517126, -0.40136887,\n",
       "        0.89615979,  0.80965788,  0.46365024,  0.29064642,  0.20414451,\n",
       "        0.29064642, -0.40136887, -0.40136887,  0.20414451,  0.20414451,\n",
       "       -0.05536122, -1.35288988, -1.00688224,  0.1176426 , -1.61239562,\n",
       "       -0.31486695,  0.63665406,  0.1176426 , -1.78539944,         nan,\n",
       "       -0.31486695, -0.83387842,  0.72315597, -0.48787078,  1.06916362,\n",
       "       -0.6608746 ,  0.55015215,  0.89615979,  1.06916362, -0.22836504,\n",
       "        1.41517126, -2.04490517,  0.55015215,         nan, -0.05536122,\n",
       "        0.55015215, -0.48787078, -0.83387842, -1.09338415, -0.14186313,\n",
       "               nan])"
      ]
     },
     "execution_count": 73,
     "metadata": {},
     "output_type": "execute_result"
    }
   ],
   "source": [
    "Brain_Data_CorrectStop.sa.targets"
   ]
  },
  {
   "cell_type": "code",
   "execution_count": 61,
   "id": "divine-professional",
   "metadata": {},
   "outputs": [
    {
     "data": {
      "text/plain": [
       "-3.5432275959951593e-16"
      ]
     },
     "execution_count": 61,
     "metadata": {},
     "output_type": "execute_result"
    }
   ],
   "source": [
    "regression_results['sample_wise'].target_y.mean()"
   ]
  },
  {
   "cell_type": "code",
   "execution_count": 62,
   "id": "challenging-radiation",
   "metadata": {},
   "outputs": [
    {
     "data": {
      "text/plain": [
       "array([ 1.35489923,  1.33350454,  0.32321638,  0.32427986,  1.17047363,\n",
       "       -0.61622895,  0.31944403,  0.65823296, -0.64794871, -0.56187779,\n",
       "       -0.52485766, -0.63708751,  1.63167522,  1.7767727 ,  0.2489724 ,\n",
       "        1.08596331,  1.50447453,  0.11924886, -0.81639756, -0.56120991,\n",
       "       -1.16006164, -0.06219032,  0.25274589,  1.47628803, -0.16562328,\n",
       "        1.28279555, -0.8614737 ,  1.68693065,  0.13371825, -0.80895987,\n",
       "       -2.33323289,  1.01203432,  0.04789241,  1.21078765,  0.82256699,\n",
       "       -0.31517965, -1.18540216,  1.63190857,  0.06467069, -0.25444275,\n",
       "       -0.37610303, -1.82542296,  0.45290133, -1.25844849, -0.70067749,\n",
       "        1.03656128,  0.53553286,         nan,  0.61672861, -0.90490378,\n",
       "       -1.15360352, -0.78073143, -0.70612725,  1.36739265, -1.60374533,\n",
       "       -2.05778934,  0.29941276, -1.40719534, -1.43113237, -0.28508069,\n",
       "       -0.95971007,  0.56172321, -0.09578487,  2.11306786, -0.67054316,\n",
       "        0.35836219,  1.37141238,  0.18428869, -0.31119288,  0.14249292,\n",
       "        0.31678476,  0.76168316, -1.305214  ,  0.10307985,  0.9551002 ,\n",
       "       -0.84694448, -0.69253192, -1.4580169 , -0.43017377,  0.12322608,\n",
       "               nan])"
      ]
     },
     "execution_count": 62,
     "metadata": {},
     "output_type": "execute_result"
    }
   ],
   "source": [
    "bd.sa.targets"
   ]
  },
  {
   "cell_type": "code",
   "execution_count": 63,
   "id": "disciplinary-punch",
   "metadata": {},
   "outputs": [
    {
     "data": {
      "text/plain": [
       "<matplotlib.collections.PathCollection at 0x2aaaf16587c0>"
      ]
     },
     "execution_count": 63,
     "metadata": {},
     "output_type": "execute_result"
    },
    {
     "data": {
      "image/png": "[encoded data removed]",
      "text/plain": [
       "<Figure size 432x288 with 1 Axes>"
      ]
     },
     "metadata": {
      "needs_background": "light"
     },
     "output_type": "display_data"
    }
   ],
   "source": [
    "from matplotlib.pyplot import scatter\n",
    "scatter(regression_results['sample_wise']['target_y'],regression_results['sample_wise']['pred_y'])"
   ]
  },
  {
   "cell_type": "code",
   "execution_count": 64,
   "id": "selective-virtue",
   "metadata": {},
   "outputs": [
    {
     "data": {
      "text/plain": [
       "(-0.30319668000701344, 0.006604190146285526)"
      ]
     },
     "execution_count": 64,
     "metadata": {},
     "output_type": "execute_result"
    }
   ],
   "source": [
    "pearsonr(regression_results['sample_wise']['target_y'],regression_results['sample_wise']['pred_y'])"
   ]
  },
  {
   "cell_type": "markdown",
   "id": "ambient-thing",
   "metadata": {},
   "source": [
    "## Correct STop and Correct Go spatially concatenated"
   ]
  },
  {
   "cell_type": "code",
   "execution_count": null,
   "id": "lucky-observer",
   "metadata": {},
   "outputs": [],
   "source": []
  }
 ],
 "metadata": {
  "kernelspec": {
   "display_name": "Python [conda env:.conda-py3_mvpa]",
   "language": "python",
   "name": "conda-env-.conda-py3_mvpa-py"
  },
  "language_info": {
   "codemirror_mode": {
    "name": "ipython",
    "version": 3
   },
   "file_extension": ".py",
   "mimetype": "text/x-python",
   "name": "python",
   "nbconvert_exporter": "python",
   "pygments_lexer": "ipython3",
   "version": "3.8.12"
  }
 },
 "nbformat": 4,
 "nbformat_minor": 5
}
