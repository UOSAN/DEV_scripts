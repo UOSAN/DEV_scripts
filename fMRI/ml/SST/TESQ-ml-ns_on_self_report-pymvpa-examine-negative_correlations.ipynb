{
 "cells": [
  {
   "cell_type": "markdown",
   "id": "angry-conspiracy",
   "metadata": {
    "tags": []
   },
   "source": [
    "This builds on TESQ-ml-ns-nogo-go\n",
    "\n",
    "> **proposal 1**\n",
    "> \n",
    "> Two class (e.g., CorrectStop vs. CorrectGo)\n",
    "> \n",
    "> Leave-One-Out classifier...\n",
    "> \n",
    "> Neural similarity of a subject to the group with a Stop vs. Go contrast might actually be indicative of performance.\n",
    "> \n",
    "> subjects will naturally differ across the task as to how much their average signal responds to that, and the ones with better response might have better response inhibition.\n",
    "\n",
    "We use the same neural data, but instead of regressing on classifying these classes, we take one class or the other or we combine them in some way and we regress on our self report variables."
   ]
  },
  {
   "cell_type": "markdown",
   "id": "humanitarian-discretion",
   "metadata": {},
   "source": [
    "So there are a couple of steps here...\n",
    "\n",
    "1. iterate through subjects, holding out one at a time, and do the following steps.\n",
    "2. Train a regressor across all the training subjects, regressing CorrectStop and CorrectGo on TESQ-E and other self report measures including FFQ either (a) independently (b) contrasted with each other (c) concatenated in a single image.\n",
    "3. If a link can be established, we've shown there is a relevant link between TESQ-E or other self-report measure, and the neural signature.\n",
    "4. ...that seems like a publication in itself!\n",
    "\n",
    "\n"
   ]
  },
  {
   "cell_type": "markdown",
   "id": "taken-certification",
   "metadata": {},
   "source": [
    "As a first pass, we can simplify this a bit just trying that single classifier on all subjects. This means that we're using train for tes tset but it will give us an initial measure of feasibility.\n",
    "\n",
    "We probably do need to restrict to a specific brain region though, and that means retraining. - I think that prefrontal cortex mask we have works well."
   ]
  },
  {
   "cell_type": "markdown",
   "id": "oriental-glucose",
   "metadata": {},
   "source": [
    "## Data already generated"
   ]
  },
  {
   "cell_type": "markdown",
   "id": "opponent-oxford",
   "metadata": {},
   "source": [
    "Can we use data already generated in `SST_inhibition_cv.ipynb`?"
   ]
  },
  {
   "cell_type": "code",
   "execution_count": 1,
   "id": "mineral-pillow",
   "metadata": {},
   "outputs": [
    {
     "name": "stderr",
     "output_type": "stream",
     "text": [
      "/tmp/ipykernel_21688/659417397.py:2: DeprecationWarning: Importing display from IPython.core.display is deprecated since IPython 7.14, please import from IPython display\n",
      "  from IPython.core.display import display, HTML, Markdown\n"
     ]
    }
   ],
   "source": [
    "import pickle\n",
    "from IPython.core.display import display, HTML, Markdown"
   ]
  },
  {
   "cell_type": "code",
   "execution_count": 2,
   "id": "mechanical-rainbow",
   "metadata": {},
   "outputs": [],
   "source": [
    "ml_data_folderpath = \"/gpfs/projects/sanlab/shared/DEV/nonbids_data/fMRI/ml\""
   ]
  },
  {
   "cell_type": "code",
   "execution_count": 3,
   "id": "economic-hartford",
   "metadata": {},
   "outputs": [],
   "source": [
    "#results_filepath=ml_data_folderpath + \"/SST/train_test_results_conditions_40subs_twoclasses.pkl\""
   ]
  },
  {
   "cell_type": "code",
   "execution_count": 4,
   "id": "romance-tracker",
   "metadata": {},
   "outputs": [],
   "source": [
    "#results_2c = pickle.load(open(results_filepath,'rb'))"
   ]
  },
  {
   "cell_type": "markdown",
   "id": "popular-myrtle",
   "metadata": {},
   "source": [
    "Not quite--we need a PFC mask I think. But we can use the script already written to do that."
   ]
  },
  {
   "cell_type": "markdown",
   "id": "falling-queue",
   "metadata": {},
   "source": [
    "## Setup"
   ]
  },
  {
   "cell_type": "code",
   "execution_count": 5,
   "id": "limiting-galaxy",
   "metadata": {},
   "outputs": [],
   "source": [
    "import sys\n",
    "import os\n",
    "import pandas as pd\n",
    "\n",
    "sys.path.append(os.path.abspath(\"../../ml/\"))\n",
    "\n",
    "#from apply_loocv_and_save import *\n",
    "#from dev_wtp_io_utils import *\n",
    "import gc\n",
    "import nibabel as nib\n",
    "\n",
    "from os import path\n",
    "\n"
   ]
  },
  {
   "cell_type": "code",
   "execution_count": 6,
   "id": "contemporary-punch",
   "metadata": {},
   "outputs": [],
   "source": [
    "from sklearn.svm import LinearSVC\n",
    "from scipy.stats import ttest_1samp, pearsonr"
   ]
  },
  {
   "cell_type": "code",
   "execution_count": 7,
   "id": "sealed-restriction",
   "metadata": {},
   "outputs": [],
   "source": [
    "from pymvpa2_ml_library import *\n",
    "from generic_utils import *"
   ]
  },
  {
   "cell_type": "code",
   "execution_count": 8,
   "id": "natural-circumstances",
   "metadata": {},
   "outputs": [
    {
     "name": "stderr",
     "output_type": "stream",
     "text": [
      "Failed to import duecredit due to No module named 'duecredit'\n",
      "/home/bsmith16/.conda/envs/py3_mvpa/lib/python3.8/site-packages/mvpa2/datasets/base.py:465: DeprecationWarning: `np.float` is a deprecated alias for the builtin `float`. To silence this warning, use `float` by itself. Doing this will not modify any behavior and is safe. If you specifically wanted the numpy scalar type, use `np.float64` here.\n",
      "Deprecated in NumPy 1.20; for more details and guidance: https://numpy.org/devdocs/release/1.20.0-notes.html#deprecations\n",
      "  def __init__(self, shape=None, sid=None, fid=None, dtype=np.float):\n"
     ]
    }
   ],
   "source": [
    "from mvpa_pipeline_utils import get_Brain_Data_betas_as_mvpa_for_sub, import_beta_series_pymvpa2, sa_to_df"
   ]
  },
  {
   "cell_type": "code",
   "execution_count": 9,
   "id": "located-longitude",
   "metadata": {},
   "outputs": [],
   "source": [
    "#from analyze_results import *"
   ]
  },
  {
   "cell_type": "markdown",
   "id": "greater-colorado",
   "metadata": {},
   "source": [
    "## condition_contrast"
   ]
  },
  {
   "cell_type": "raw",
   "id": "checked-plasma",
   "metadata": {},
   "source": [
    "import scipy\n",
    "#load the matrix associated with this file\n",
    "sl_mat = scipy.io.loadmat(\n",
    "'/gpfs/projects/sanlab/shared/DEV/nonbids_data/fMRI/fx/models/SST/wave1/conditions/sub-DEV073/SPM.mat',\n",
    "simplify_cells=True            \n",
    ")\n",
    "mat_betas = sl_mat['SPM']['Vbeta']"
   ]
  },
  {
   "cell_type": "raw",
   "id": "featured-bandwidth",
   "metadata": {},
   "source": [
    "[mat_betas[beta_i]['descrip'] for beta_i in range(len(mat_betas))]"
   ]
  },
  {
   "cell_type": "markdown",
   "id": "circular-conjunction",
   "metadata": {},
   "source": [
    "## stitching contrasts together in different ways\n",
    "\n",
    "We'd want:\n",
    "\n",
    " - contrast of the two conditions\n",
    " - each of the two conditions alone.\n",
    " \n",
    "The contrast is a little tricky. Easiest thing is to try each of the conditions alone. Stitching the two together might not be too hard. Let's try doing CorrectStop first, and then we'll try concatenating the images. Doing a contrast is actually the most difficult becuase I have to backtrack in the process to generate new betas (see https://docs.google.com/presentation/d/1K-nFrZYE6rR8t0myNyacB7frBzV3B1--nMqPhVkwL8E/edit#slide=id.geeff6890fb_0_16)."
   ]
  },
  {
   "cell_type": "markdown",
   "id": "mysterious-omaha",
   "metadata": {},
   "source": [
    "See `different ways of combining images.ipynb`."
   ]
  },
  {
   "cell_type": "markdown",
   "id": "fluid-africa",
   "metadata": {},
   "source": [
    "## template"
   ]
  },
  {
   "cell_type": "raw",
   "id": "clinical-victorian",
   "metadata": {},
   "source": [
    "do_complete_analysis_for_mask('goal')"
   ]
  },
  {
   "cell_type": "markdown",
   "id": "latest-baseball",
   "metadata": {},
   "source": [
    "## regressing on self report"
   ]
  },
  {
   "cell_type": "code",
   "execution_count": 12,
   "id": "superior-depth",
   "metadata": {},
   "outputs": [],
   "source": [
    "nonbids_data_path = \"/gpfs/projects/sanlab/shared/DEV/nonbids_data/\"\n",
    "ml_data_folderpath = \"/gpfs/projects/sanlab/shared/DEV/nonbids_data/fMRI/ml\"\n",
    "train_test_markers_filepath = ml_data_folderpath + \"/train_test_markers_20210601T183243.csv\"\n",
    "test_train_df = pd.read_csv(train_test_markers_filepath)\n",
    "\n",
    "all_sst_events= pd.read_csv(ml_data_folderpath +\"/SST/\" + \"all_sst_events.csv\")\n",
    "\n",
    "\n",
    "script_path = '/gpfs/projects/sanlab/shared/DEV/DEV_scripts/fMRI/ml'\n",
    "# HRF 2s\n",
    "\n"
   ]
  },
  {
   "cell_type": "code",
   "execution_count": 13,
   "id": "passive-brunei",
   "metadata": {},
   "outputs": [],
   "source": [
    "\n",
    "## additional masks\n",
    "\n",
    "all_masks = get_all_masks(ml_data_folderpath)"
   ]
  },
  {
   "cell_type": "code",
   "execution_count": 14,
   "id": "noted-fabric",
   "metadata": {},
   "outputs": [
    {
     "name": "stdout",
     "output_type": "stream",
     "text": [
      "                                            mask_name  \\\n",
      "0         negative affect_association-test_z_FDR_0.01   \n",
      "1     response inhibition_association-test_z_FDR_0.01   \n",
      "2       negative emotions_association-test_z_FDR_0.01   \n",
      "0   harvardoxford-cortical_prob_Superior Frontal G...   \n",
      "1            harvardoxford-cortical_prob_Frontal Pole   \n",
      "2   harvardoxford-cortical_prob_Cingulate Gyrus, p...   \n",
      "3   harvardoxford-cortical_prob_Frontal Orbital Co...   \n",
      "4   harvardoxford-cortical_prob_Frontal Operculum ...   \n",
      "5   harvardoxford-cortical_prob_Supramarginal Gyru...   \n",
      "6           harvardoxford-cortical_prob_Angular Gyrus   \n",
      "7   harvardoxford-cortical_prob_Cingulate Gyrus, a...   \n",
      "8   harvardoxford-cortical_prob_Lateral Occipital ...   \n",
      "9   harvardoxford-cortical_prob_Inferior Frontal G...   \n",
      "10  harvardoxford-cortical_prob_Inferior Frontal G...   \n",
      "11         harvardoxford-cortical_prob_Insular Cortex   \n",
      "\n",
      "                                        mask_filepath  thresh  \n",
      "0   /gpfs/projects/sanlab/shared/DEV/nonbids_data/...       0  \n",
      "1   /gpfs/projects/sanlab/shared/DEV/nonbids_data/...       0  \n",
      "2   /gpfs/projects/sanlab/shared/DEV/nonbids_data/...       0  \n",
      "0   /gpfs/projects/sanlab/shared/DEV/nonbids_data/...      10  \n",
      "1   /gpfs/projects/sanlab/shared/DEV/nonbids_data/...      10  \n",
      "2   /gpfs/projects/sanlab/shared/DEV/nonbids_data/...      10  \n",
      "3   /gpfs/projects/sanlab/shared/DEV/nonbids_data/...      10  \n",
      "4   /gpfs/projects/sanlab/shared/DEV/nonbids_data/...      10  \n",
      "5   /gpfs/projects/sanlab/shared/DEV/nonbids_data/...      10  \n",
      "6   /gpfs/projects/sanlab/shared/DEV/nonbids_data/...      10  \n",
      "7   /gpfs/projects/sanlab/shared/DEV/nonbids_data/...      10  \n",
      "8   /gpfs/projects/sanlab/shared/DEV/nonbids_data/...      10  \n",
      "9   /gpfs/projects/sanlab/shared/DEV/nonbids_data/...      10  \n",
      "10  /gpfs/projects/sanlab/shared/DEV/nonbids_data/...      10  \n",
      "11  /gpfs/projects/sanlab/shared/DEV/nonbids_data/...      10  \n"
     ]
    }
   ],
   "source": [
    "print(all_masks)"
   ]
  },
  {
   "cell_type": "code",
   "execution_count": 70,
   "id": "comparable-adobe",
   "metadata": {},
   "outputs": [],
   "source": [
    "def setup_metadata(bd,target_val):\n",
    "    #set up chunks and targets so we can do the learning.\n",
    "    attribute_df = sa_to_df(bd.sa)\n",
    "    pd.concat([attribute_df['subject'],attribute_df['wave']],axis=1)\n",
    "    chunk = attribute_df['subject']+\"_\" + attribute_df['wave'].astype(str)\n",
    "    Brain_Data_allsubs.sa['chunks'] = list(chunk)\n",
    "    target_data = bd.sa[target_val].value\n",
    "    target_data_mean = np.nanmean(target_data)\n",
    "    target_data_std = np.nanstd(target_data)\n",
    "    target_data_norm = (bd.targets-target_data_mean)/target_data_std\n",
    "    Brain_Data_allsubs.sa['targets'] = list(target_data_norm)\n",
    "    return(Brain_Data_allsubs)"
   ]
  },
  {
   "cell_type": "code",
   "execution_count": 16,
   "id": "quantitative-hayes",
   "metadata": {},
   "outputs": [],
   "source": []
  },
  {
   "cell_type": "code",
   "execution_count": 17,
   "id": "optimum-anthony",
   "metadata": {},
   "outputs": [],
   "source": [
    "import numpy as np\n",
    "import pandas as pd\n",
    "from sklearn.model_selection import LeaveOneGroupOut\n",
    "from sklearn.svm import *\n",
    "from sklearn.linear_model import *\n",
    "\n",
    "def do_Ridge(train_X,train_y,test_X,test_y):\n",
    "    sklearn_regress = Ridge(alpha=5.0)\n",
    "    \n",
    "    sklearn_regress.fit(train_X, train_y)\n",
    "    \n",
    "    predict_y = sklearn_regress.predict(test_X)\n",
    "    return(predict_y,sklearn_regress)\n",
    "    \n"
   ]
  },
  {
   "cell_type": "markdown",
   "id": "studied-weapon",
   "metadata": {},
   "source": [
    "## whole-brain"
   ]
  },
  {
   "cell_type": "code",
   "execution_count": 14,
   "id": "quarterly-seating",
   "metadata": {},
   "outputs": [],
   "source": [
    "brain_data_filepath = ml_data_folderpath + '/SST/mvpa_Dataset_conditions_84subs_correct_cond.pkl'"
   ]
  },
  {
   "cell_type": "code",
   "execution_count": 15,
   "id": "arabic-negative",
   "metadata": {},
   "outputs": [],
   "source": [
    "with open(brain_data_filepath, 'rb') as pkl_file:\n",
    "    Brain_Data_allsubs = pickle.load(pkl_file)\n"
   ]
  },
  {
   "cell_type": "code",
   "execution_count": 16,
   "id": "immune-shower",
   "metadata": {},
   "outputs": [],
   "source": [
    "Brain_Data_allsubs = setup_metadata(Brain_Data_allsubs,'TESQ_E_sum')"
   ]
  },
  {
   "cell_type": "code",
   "execution_count": 17,
   "id": "significant-minutes",
   "metadata": {},
   "outputs": [],
   "source": [
    "Brain_Data_CorrectStop = Brain_Data_allsubs[Brain_Data_allsubs.sa.condition_label=='CorrectStop']"
   ]
  },
  {
   "cell_type": "code",
   "execution_count": 18,
   "id": "forty-paragraph",
   "metadata": {},
   "outputs": [],
   "source": [
    "from mvpa2.measures.rsa import Regression\n",
    "from sklearn.linear_model import Ridge"
   ]
  },
  {
   "cell_type": "code",
   "execution_count": 52,
   "id": "moral-visiting",
   "metadata": {},
   "outputs": [
    {
     "name": "stdout",
     "output_type": "stream",
     "text": [
      "eliminating 12 of 162 items due to null input values.\n",
      "..........................................................................."
     ]
    }
   ],
   "source": [
    "regression_results = do_regression(Brain_Data_allsubs)"
   ]
  },
  {
   "cell_type": "code",
   "execution_count": 53,
   "id": "geographic-restriction",
   "metadata": {},
   "outputs": [],
   "source": [
    "from sklearn.svm import LinearSVC\n",
    "from scipy.stats import ttest_1samp, pearsonr"
   ]
  },
  {
   "cell_type": "code",
   "execution_count": 54,
   "id": "automated-berry",
   "metadata": {},
   "outputs": [
    {
     "data": {
      "text/plain": [
       "(-0.16045875168791282, 0.04982079777134878)"
      ]
     },
     "execution_count": 54,
     "metadata": {},
     "output_type": "execute_result"
    }
   ],
   "source": [
    "pearsonr(regression_results['sample_wise']['target_y'],regression_results['sample_wise']['pred_y'])"
   ]
  },
  {
   "cell_type": "markdown",
   "id": "apparent-establishment",
   "metadata": {},
   "source": [
    "That's pretty good considering that we are regressing over all images whether they're Stop or Go signal. need to change this so that we alternately regress over stop or go only, or possibly, the difference between them.\n",
    "\n",
    "The contrast between them is probably best, which means we go to generate a new series based on that.\n",
    "\n",
    "Though, wait--why is it _negative_?"
   ]
  },
  {
   "cell_type": "code",
   "execution_count": 55,
   "id": "complete-crowd",
   "metadata": {},
   "outputs": [
    {
     "name": "stdout",
     "output_type": "stream",
     "text": [
      "eliminating 6 of 81 items due to null input values.\n",
      "..........................................................................."
     ]
    },
    {
     "data": {
      "text/plain": [
       "(-0.2239527012000021, 0.0534184925663768)"
      ]
     },
     "execution_count": 55,
     "metadata": {},
     "output_type": "execute_result"
    }
   ],
   "source": [
    "regression_results_CS = do_regression(Brain_Data_CorrectStop)\n",
    "pearsonr(regression_results_CS['sample_wise']['target_y'],regression_results_CS['sample_wise']['pred_y'])"
   ]
  },
  {
   "cell_type": "code",
   "execution_count": 76,
   "id": "british-chocolate",
   "metadata": {},
   "outputs": [
    {
     "data": {
      "text/html": [
       "<div>\n",
       "<style scoped>\n",
       "    .dataframe tbody tr th:only-of-type {\n",
       "        vertical-align: middle;\n",
       "    }\n",
       "\n",
       "    .dataframe tbody tr th {\n",
       "        vertical-align: top;\n",
       "    }\n",
       "\n",
       "    .dataframe thead th {\n",
       "        text-align: right;\n",
       "    }\n",
       "</style>\n",
       "<table border=\"1\" class=\"dataframe\">\n",
       "  <thead>\n",
       "    <tr style=\"text-align: right;\">\n",
       "      <th></th>\n",
       "      <th>chunks</th>\n",
       "      <th>target_y</th>\n",
       "      <th>pred_y</th>\n",
       "    </tr>\n",
       "  </thead>\n",
       "  <tbody>\n",
       "    <tr>\n",
       "      <th>0</th>\n",
       "      <td>DEV005_1</td>\n",
       "      <td>50.0</td>\n",
       "      <td>58.404549</td>\n",
       "    </tr>\n",
       "    <tr>\n",
       "      <th>0</th>\n",
       "      <td>DEV006_1</td>\n",
       "      <td>69.0</td>\n",
       "      <td>58.419716</td>\n",
       "    </tr>\n",
       "    <tr>\n",
       "      <th>0</th>\n",
       "      <td>DEV010_1</td>\n",
       "      <td>45.0</td>\n",
       "      <td>51.032341</td>\n",
       "    </tr>\n",
       "    <tr>\n",
       "      <th>0</th>\n",
       "      <td>DEV011_1</td>\n",
       "      <td>38.0</td>\n",
       "      <td>53.185638</td>\n",
       "    </tr>\n",
       "    <tr>\n",
       "      <th>0</th>\n",
       "      <td>DEV013_1</td>\n",
       "      <td>54.0</td>\n",
       "      <td>55.428978</td>\n",
       "    </tr>\n",
       "    <tr>\n",
       "      <th>...</th>\n",
       "      <td>...</td>\n",
       "      <td>...</td>\n",
       "      <td>...</td>\n",
       "    </tr>\n",
       "    <tr>\n",
       "      <th>0</th>\n",
       "      <td>DEV197_1</td>\n",
       "      <td>60.0</td>\n",
       "      <td>54.939503</td>\n",
       "    </tr>\n",
       "    <tr>\n",
       "      <th>0</th>\n",
       "      <td>DEV206_1</td>\n",
       "      <td>48.0</td>\n",
       "      <td>50.780682</td>\n",
       "    </tr>\n",
       "    <tr>\n",
       "      <th>0</th>\n",
       "      <td>DEV215_1</td>\n",
       "      <td>44.0</td>\n",
       "      <td>56.035248</td>\n",
       "    </tr>\n",
       "    <tr>\n",
       "      <th>0</th>\n",
       "      <td>DEV216_1</td>\n",
       "      <td>41.0</td>\n",
       "      <td>59.943550</td>\n",
       "    </tr>\n",
       "    <tr>\n",
       "      <th>0</th>\n",
       "      <td>DEV217_1</td>\n",
       "      <td>52.0</td>\n",
       "      <td>53.048649</td>\n",
       "    </tr>\n",
       "  </tbody>\n",
       "</table>\n",
       "<p>75 rows × 3 columns</p>\n",
       "</div>"
      ],
      "text/plain": [
       "      chunks  target_y     pred_y\n",
       "0   DEV005_1      50.0  58.404549\n",
       "0   DEV006_1      69.0  58.419716\n",
       "0   DEV010_1      45.0  51.032341\n",
       "0   DEV011_1      38.0  53.185638\n",
       "0   DEV013_1      54.0  55.428978\n",
       "..       ...       ...        ...\n",
       "0   DEV197_1      60.0  54.939503\n",
       "0   DEV206_1      48.0  50.780682\n",
       "0   DEV215_1      44.0  56.035248\n",
       "0   DEV216_1      41.0  59.943550\n",
       "0   DEV217_1      52.0  53.048649\n",
       "\n",
       "[75 rows x 3 columns]"
      ]
     },
     "execution_count": 76,
     "metadata": {},
     "output_type": "execute_result"
    }
   ],
   "source": [
    "regression_results_CS['sample_wise']"
   ]
  },
  {
   "cell_type": "code",
   "execution_count": 61,
   "id": "superb-twenty",
   "metadata": {},
   "outputs": [],
   "source": [
    "from matplotlib.pyplot import scatter"
   ]
  },
  {
   "cell_type": "code",
   "execution_count": 62,
   "id": "accepting-phrase",
   "metadata": {},
   "outputs": [
    {
     "data": {
      "text/plain": [
       "<matplotlib.collections.PathCollection at 0x2aaaf25c6eb0>"
      ]
     },
     "execution_count": 62,
     "metadata": {},
     "output_type": "execute_result"
    },
    {
     "data": {
      "image/png": "[encoded data removed]",
      "text/plain": [
       "<Figure size 432x288 with 1 Axes>"
      ]
     },
     "metadata": {
      "needs_background": "light"
     },
     "output_type": "display_data"
    }
   ],
   "source": [
    "scatter(regression_results_CS['sample_wise']['target_y'],regression_results_CS['sample_wise']['pred_y'])"
   ]
  },
  {
   "cell_type": "markdown",
   "id": "relative-thread",
   "metadata": {},
   "source": [
    "And really odd--why does it perform equally well for one class as for two? I thought two class analysis would be really nonsensical...which it is...considering the negative correlation for targets vs. pred"
   ]
  },
  {
   "cell_type": "code",
   "execution_count": 57,
   "id": "fuzzy-devices",
   "metadata": {},
   "outputs": [
    {
     "name": "stdout",
     "output_type": "stream",
     "text": [
      "eliminating 6 of 81 items due to null input values.\n",
      "..........................................................................."
     ]
    },
    {
     "data": {
      "text/plain": [
       "(-0.028789840475960636, 0.8063089701891368)"
      ]
     },
     "execution_count": 57,
     "metadata": {},
     "output_type": "execute_result"
    }
   ],
   "source": [
    "Brain_Data_CorrectGo = Brain_Data_allsubs[Brain_Data_allsubs.sa.condition_label=='CorrectGo']\n",
    "regression_results_CG = do_regression(Brain_Data_CorrectGo)\n",
    "pearsonr(regression_results_CG['sample_wise']['target_y'],regression_results_CG['sample_wise']['pred_y'])"
   ]
  },
  {
   "cell_type": "markdown",
   "id": "administrative-bubble",
   "metadata": {},
   "source": [
    "## try lasso"
   ]
  },
  {
   "cell_type": "code",
   "execution_count": 64,
   "id": "native-connection",
   "metadata": {},
   "outputs": [
    {
     "name": "stdout",
     "output_type": "stream",
     "text": [
      "eliminating 12 of 162 items due to null input values.\n",
      "..........................................................................."
     ]
    }
   ],
   "source": [
    "regression_results = do_regression(Brain_Data_allsubs, get_prediction = do_Lasso)"
   ]
  },
  {
   "cell_type": "code",
   "execution_count": 65,
   "id": "broken-titanium",
   "metadata": {},
   "outputs": [
    {
     "data": {
      "text/plain": [
       "(-0.05887433981617397, 0.4742077699655372)"
      ]
     },
     "execution_count": 65,
     "metadata": {},
     "output_type": "execute_result"
    }
   ],
   "source": [
    "pearsonr(regression_results['sample_wise']['target_y'],regression_results['sample_wise']['pred_y'])"
   ]
  },
  {
   "cell_type": "markdown",
   "id": "caroline-norway",
   "metadata": {},
   "source": [
    "Very very different, and honestly a bit frightening one gets such a different result from a very similar method?"
   ]
  },
  {
   "cell_type": "markdown",
   "id": "mighty-while",
   "metadata": {},
   "source": [
    "## stop minus go contrast"
   ]
  },
  {
   "cell_type": "raw",
   "id": "universal-longer",
   "metadata": {},
   "source": [
    "from analyze_results import *"
   ]
  },
  {
   "cell_type": "code",
   "execution_count": 115,
   "id": "polished-impact",
   "metadata": {},
   "outputs": [],
   "source": [
    "brain_data_filepath = ml_data_folderpath + '/SST/mvpa_Dataset_conditions_84subs_cor_stop_minus_go_contrast.pkl'\n",
    "with open(brain_data_filepath, 'rb') as pkl_file:\n",
    "    Brain_Data_allsubs = pickle.load(pkl_file)\n",
    "\n",
    "Brain_Data_allsubs = setup_metadata(Brain_Data_allsubs,'TESQ_E_sum')"
   ]
  },
  {
   "cell_type": "code",
   "execution_count": 116,
   "id": "tested-revolution",
   "metadata": {},
   "outputs": [
    {
     "name": "stdout",
     "output_type": "stream",
     "text": [
      "eliminating 6 of 81 items due to null input values.\n",
      "..........................................................................."
     ]
    },
    {
     "data": {
      "text/plain": [
       "(0.038879700486351594, 0.7405100290028542)"
      ]
     },
     "execution_count": 116,
     "metadata": {},
     "output_type": "execute_result"
    }
   ],
   "source": [
    "regression_results = do_regression(Brain_Data_allsubs)\n",
    "pearsonr(regression_results['sample_wise']['target_y'],regression_results['sample_wise']['pred_y'])"
   ]
  },
  {
   "cell_type": "markdown",
   "id": "round-albany",
   "metadata": {},
   "source": [
    "## Trial dummy data"
   ]
  },
  {
   "cell_type": "markdown",
   "id": "durable-regard",
   "metadata": {},
   "source": [
    "We select a linear mix of voxels and try to predict that. should be easy to do with regression..."
   ]
  },
  {
   "cell_type": "code",
   "execution_count": 28,
   "id": "interpreted-payroll",
   "metadata": {},
   "outputs": [],
   "source": [
    "brain_data_filepath = ml_data_folderpath + '/SST/mvpa_Dataset_conditions_84subs_correct_cond.pkl'\n",
    "#mvpa_Dataset_conditions_84subs_cor_stop_minus_go_contrast\n",
    "\n",
    "with open(brain_data_filepath, 'rb') as pkl_file:\n",
    "    Brain_Data_allsubs = pickle.load(pkl_file)\n"
   ]
  },
  {
   "cell_type": "code",
   "execution_count": 29,
   "id": "religious-franklin",
   "metadata": {},
   "outputs": [],
   "source": [
    "mix_target = np.sum(Brain_Data_allsubs.samples[:,15000:15010],axis=1)\n",
    "Brain_Data_allsubs.sa['mix_target']=list(mix_target)"
   ]
  },
  {
   "cell_type": "code",
   "execution_count": 30,
   "id": "precious-guess",
   "metadata": {},
   "outputs": [
    {
     "name": "stdout",
     "output_type": "stream",
     "text": [
      "eliminating 0 of 162 items due to null input values.\n",
      "................................................................................."
     ]
    },
    {
     "data": {
      "text/plain": [
       "(0.28250428762113333, 0.00027018352457396484)"
      ]
     },
     "execution_count": 30,
     "metadata": {},
     "output_type": "execute_result"
    }
   ],
   "source": [
    "\n",
    "Brain_Data_allsubs = setup_metadata(Brain_Data_allsubs,'mix_target')\n",
    "\n",
    "regression_results = do_regression(Brain_Data_allsubs, get_prediction = do_Ridge)\n",
    "\n",
    "pearsonr(regression_results['sample_wise']['target_y'],regression_results['sample_wise']['pred_y'])"
   ]
  },
  {
   "cell_type": "markdown",
   "id": "prescribed-hudson",
   "metadata": {},
   "source": [
    "That's interesting--something like it should be, but not very good considering."
   ]
  },
  {
   "cell_type": "code",
   "execution_count": 31,
   "id": "leading-sense",
   "metadata": {},
   "outputs": [
    {
     "name": "stdout",
     "output_type": "stream",
     "text": [
      "eliminating 0 of 162 items due to null input values.\n",
      "................................................................................."
     ]
    },
    {
     "data": {
      "text/plain": [
       "(0.8000696765345883, 2.443531180731693e-37)"
      ]
     },
     "execution_count": 31,
     "metadata": {},
     "output_type": "execute_result"
    }
   ],
   "source": [
    "mix_target = np.sum(Brain_Data_allsubs.samples[:,15000:15100],axis=1)\n",
    "Brain_Data_allsubs.sa['mix_target']=list(mix_target)\n",
    "Brain_Data_allsubs = setup_metadata(Brain_Data_allsubs,'mix_target')\n",
    "regression_results = do_regression(Brain_Data_allsubs, get_prediction = do_Ridge)\n",
    "pearsonr(regression_results['sample_wise']['target_y'],regression_results['sample_wise']['pred_y'])"
   ]
  },
  {
   "cell_type": "markdown",
   "id": "partial-season",
   "metadata": {},
   "source": [
    "aahhh got it--if the pattern is spread over several voxels, we'll have a better time detecting it."
   ]
  },
  {
   "cell_type": "code",
   "execution_count": 109,
   "id": "chief-identification",
   "metadata": {},
   "outputs": [],
   "source": [
    "mix_target = np.sum(Brain_Data_allsubs.samples[:,15000:15100],axis=1)\n",
    "Brain_Data_allsubs.sa['mix_target']=list(mix_target)"
   ]
  },
  {
   "cell_type": "code",
   "execution_count": 111,
   "id": "fourth-anchor",
   "metadata": {},
   "outputs": [
    {
     "data": {
      "text/plain": [
       "<matplotlib.collections.PathCollection at 0x2aaaf6fcb220>"
      ]
     },
     "execution_count": 111,
     "metadata": {},
     "output_type": "execute_result"
    },
    {
     "data": {
      "image/png": "[encoded data removed]",
      "text/plain": [
       "<Figure size 432x288 with 1 Axes>"
      ]
     },
     "metadata": {
      "needs_background": "light"
     },
     "output_type": "display_data"
    }
   ],
   "source": [
    "scatter(regression_results['sample_wise']['target_y'],regression_results['sample_wise']['pred_y'])"
   ]
  },
  {
   "cell_type": "markdown",
   "id": "affiliated-blackberry",
   "metadata": {},
   "source": [
    "OK, so if there's a pattern representing a linear combination of voxels then we should be able to detect it using ridge regression. How about lasso?"
   ]
  },
  {
   "cell_type": "code",
   "execution_count": 46,
   "id": "latin-gibraltar",
   "metadata": {},
   "outputs": [
    {
     "name": "stdout",
     "output_type": "stream",
     "text": [
      "eliminating 0 of 162 items due to null input values.\n",
      ".................................................................................(0.907475656018222, 3.7843850534794656e-62)\n"
     ]
    },
    {
     "data": {
      "text/plain": [
       "<matplotlib.collections.PathCollection at 0x2aab12f0a760>"
      ]
     },
     "execution_count": 46,
     "metadata": {},
     "output_type": "execute_result"
    },
    {
     "data": {
      "image/png": "[encoded data removed]",
      "text/plain": [
       "<Figure size 432x288 with 1 Axes>"
      ]
     },
     "metadata": {
      "needs_background": "light"
     },
     "output_type": "display_data"
    }
   ],
   "source": [
    "regression_results = do_regression(Brain_Data_allsubs, get_prediction = do_Lasso)\n",
    "print(pearsonr(regression_results['sample_wise']['target_y'],regression_results['sample_wise']['pred_y']))\n",
    "scatter(regression_results['sample_wise']['target_y'],regression_results['sample_wise']['pred_y'])"
   ]
  },
  {
   "cell_type": "code",
   "execution_count": 43,
   "id": "equipped-freedom",
   "metadata": {},
   "outputs": [
    {
     "data": {
      "text/plain": [
       "(0.8000696765345883, 2.443531180731693e-37)"
      ]
     },
     "execution_count": 43,
     "metadata": {},
     "output_type": "execute_result"
    }
   ],
   "source": [
    "pearsonr(regression_results['sample_wise']['target_y'],regression_results['sample_wise']['pred_y'])"
   ]
  },
  {
   "cell_type": "markdown",
   "id": "administrative-director",
   "metadata": {},
   "source": [
    "So in summary--we can't predict TESQ-E-Sum using Ridge or Lasso regression. Because prediction is `greedy' in a sense--it'll take voxels anywhere in the image and emphasize them until they're useful--there's no point in trying different masks. We might try different scales, bu there's no use in doing a regression on masks."
   ]
  },
  {
   "cell_type": "markdown",
   "id": "industrial-timeline",
   "metadata": {},
   "source": [
    "#### Elastic net?"
   ]
  },
  {
   "cell_type": "code",
   "execution_count": 39,
   "id": "velvet-commonwealth",
   "metadata": {},
   "outputs": [],
   "source": [
    "from sklearn.linear_model import ElasticNet\n",
    "def do_ElasticNet(train_X,train_y,test_X,test_y):\n",
    "    sklearn_regress = ElasticNet(alpha=10.0)\n",
    "    \n",
    "    sklearn_regress.fit(train_X, train_y)\n",
    "    \n",
    "    predict_y = sklearn_regress.predict(test_X)\n",
    "    return(predict_y,sklearn_regress)"
   ]
  },
  {
   "cell_type": "code",
   "execution_count": 40,
   "id": "alive-raising",
   "metadata": {},
   "outputs": [
    {
     "name": "stdout",
     "output_type": "stream",
     "text": [
      "eliminating 0 of 162 items due to null input values.\n",
      ".."
     ]
    },
    {
     "name": "stderr",
     "output_type": "stream",
     "text": [
      "/home/bsmith16/.conda/envs/py3_mvpa/lib/python3.8/site-packages/sklearn/linear_model/_coordinate_descent.py:647: ConvergenceWarning: Objective did not converge. You might want to increase the number of iterations, check the scale of the features or consider increasing regularisation. Duality gap: 1.890e+03, tolerance: 2.702e+02\n",
      "  model = cd_fast.enet_coordinate_descent(\n"
     ]
    },
    {
     "name": "stdout",
     "output_type": "stream",
     "text": [
      "."
     ]
    },
    {
     "name": "stderr",
     "output_type": "stream",
     "text": [
      "/home/bsmith16/.conda/envs/py3_mvpa/lib/python3.8/site-packages/sklearn/linear_model/_coordinate_descent.py:647: ConvergenceWarning: Objective did not converge. You might want to increase the number of iterations, check the scale of the features or consider increasing regularisation. Duality gap: 2.571e+03, tolerance: 2.713e+02\n",
      "  model = cd_fast.enet_coordinate_descent(\n"
     ]
    },
    {
     "name": "stdout",
     "output_type": "stream",
     "text": [
      "."
     ]
    },
    {
     "name": "stderr",
     "output_type": "stream",
     "text": [
      "/home/bsmith16/.conda/envs/py3_mvpa/lib/python3.8/site-packages/sklearn/linear_model/_coordinate_descent.py:647: ConvergenceWarning: Objective did not converge. You might want to increase the number of iterations, check the scale of the features or consider increasing regularisation. Duality gap: 2.108e+03, tolerance: 2.735e+02\n",
      "  model = cd_fast.enet_coordinate_descent(\n"
     ]
    },
    {
     "name": "stdout",
     "output_type": "stream",
     "text": [
      "."
     ]
    },
    {
     "name": "stderr",
     "output_type": "stream",
     "text": [
      "/home/bsmith16/.conda/envs/py3_mvpa/lib/python3.8/site-packages/sklearn/linear_model/_coordinate_descent.py:647: ConvergenceWarning: Objective did not converge. You might want to increase the number of iterations, check the scale of the features or consider increasing regularisation. Duality gap: 1.891e+03, tolerance: 2.737e+02\n",
      "  model = cd_fast.enet_coordinate_descent(\n"
     ]
    },
    {
     "name": "stdout",
     "output_type": "stream",
     "text": [
      "."
     ]
    },
    {
     "name": "stderr",
     "output_type": "stream",
     "text": [
      "/home/bsmith16/.conda/envs/py3_mvpa/lib/python3.8/site-packages/sklearn/linear_model/_coordinate_descent.py:647: ConvergenceWarning: Objective did not converge. You might want to increase the number of iterations, check the scale of the features or consider increasing regularisation. Duality gap: 2.223e+03, tolerance: 2.745e+02\n",
      "  model = cd_fast.enet_coordinate_descent(\n"
     ]
    },
    {
     "name": "stdout",
     "output_type": "stream",
     "text": [
      "."
     ]
    },
    {
     "name": "stderr",
     "output_type": "stream",
     "text": [
      "/home/bsmith16/.conda/envs/py3_mvpa/lib/python3.8/site-packages/sklearn/linear_model/_coordinate_descent.py:647: ConvergenceWarning: Objective did not converge. You might want to increase the number of iterations, check the scale of the features or consider increasing regularisation. Duality gap: 1.691e+03, tolerance: 2.729e+02\n",
      "  model = cd_fast.enet_coordinate_descent(\n"
     ]
    },
    {
     "name": "stdout",
     "output_type": "stream",
     "text": [
      "."
     ]
    },
    {
     "name": "stderr",
     "output_type": "stream",
     "text": [
      "/home/bsmith16/.conda/envs/py3_mvpa/lib/python3.8/site-packages/sklearn/linear_model/_coordinate_descent.py:647: ConvergenceWarning: Objective did not converge. You might want to increase the number of iterations, check the scale of the features or consider increasing regularisation. Duality gap: 1.968e+03, tolerance: 2.748e+02\n",
      "  model = cd_fast.enet_coordinate_descent(\n"
     ]
    },
    {
     "name": "stdout",
     "output_type": "stream",
     "text": [
      "."
     ]
    },
    {
     "name": "stderr",
     "output_type": "stream",
     "text": [
      "/home/bsmith16/.conda/envs/py3_mvpa/lib/python3.8/site-packages/sklearn/linear_model/_coordinate_descent.py:647: ConvergenceWarning: Objective did not converge. You might want to increase the number of iterations, check the scale of the features or consider increasing regularisation. Duality gap: 1.892e+03, tolerance: 2.748e+02\n",
      "  model = cd_fast.enet_coordinate_descent(\n"
     ]
    },
    {
     "name": "stdout",
     "output_type": "stream",
     "text": [
      "."
     ]
    },
    {
     "name": "stderr",
     "output_type": "stream",
     "text": [
      "/home/bsmith16/.conda/envs/py3_mvpa/lib/python3.8/site-packages/sklearn/linear_model/_coordinate_descent.py:647: ConvergenceWarning: Objective did not converge. You might want to increase the number of iterations, check the scale of the features or consider increasing regularisation. Duality gap: 1.927e+03, tolerance: 2.738e+02\n",
      "  model = cd_fast.enet_coordinate_descent(\n"
     ]
    },
    {
     "name": "stdout",
     "output_type": "stream",
     "text": [
      "."
     ]
    },
    {
     "name": "stderr",
     "output_type": "stream",
     "text": [
      "/home/bsmith16/.conda/envs/py3_mvpa/lib/python3.8/site-packages/sklearn/linear_model/_coordinate_descent.py:647: ConvergenceWarning: Objective did not converge. You might want to increase the number of iterations, check the scale of the features or consider increasing regularisation. Duality gap: 1.951e+03, tolerance: 2.718e+02\n",
      "  model = cd_fast.enet_coordinate_descent(\n"
     ]
    },
    {
     "name": "stdout",
     "output_type": "stream",
     "text": [
      "."
     ]
    },
    {
     "name": "stderr",
     "output_type": "stream",
     "text": [
      "/home/bsmith16/.conda/envs/py3_mvpa/lib/python3.8/site-packages/sklearn/linear_model/_coordinate_descent.py:647: ConvergenceWarning: Objective did not converge. You might want to increase the number of iterations, check the scale of the features or consider increasing regularisation. Duality gap: 2.186e+03, tolerance: 2.746e+02\n",
      "  model = cd_fast.enet_coordinate_descent(\n"
     ]
    },
    {
     "name": "stdout",
     "output_type": "stream",
     "text": [
      "."
     ]
    },
    {
     "name": "stderr",
     "output_type": "stream",
     "text": [
      "/home/bsmith16/.conda/envs/py3_mvpa/lib/python3.8/site-packages/sklearn/linear_model/_coordinate_descent.py:647: ConvergenceWarning: Objective did not converge. You might want to increase the number of iterations, check the scale of the features or consider increasing regularisation. Duality gap: 2.272e+03, tolerance: 2.572e+02\n",
      "  model = cd_fast.enet_coordinate_descent(\n"
     ]
    },
    {
     "name": "stdout",
     "output_type": "stream",
     "text": [
      "."
     ]
    },
    {
     "name": "stderr",
     "output_type": "stream",
     "text": [
      "/home/bsmith16/.conda/envs/py3_mvpa/lib/python3.8/site-packages/sklearn/linear_model/_coordinate_descent.py:647: ConvergenceWarning: Objective did not converge. You might want to increase the number of iterations, check the scale of the features or consider increasing regularisation. Duality gap: 1.942e+03, tolerance: 2.748e+02\n",
      "  model = cd_fast.enet_coordinate_descent(\n"
     ]
    },
    {
     "name": "stdout",
     "output_type": "stream",
     "text": [
      "."
     ]
    },
    {
     "name": "stderr",
     "output_type": "stream",
     "text": [
      "/home/bsmith16/.conda/envs/py3_mvpa/lib/python3.8/site-packages/sklearn/linear_model/_coordinate_descent.py:647: ConvergenceWarning: Objective did not converge. You might want to increase the number of iterations, check the scale of the features or consider increasing regularisation. Duality gap: 1.922e+03, tolerance: 2.749e+02\n",
      "  model = cd_fast.enet_coordinate_descent(\n"
     ]
    },
    {
     "name": "stdout",
     "output_type": "stream",
     "text": [
      "."
     ]
    },
    {
     "name": "stderr",
     "output_type": "stream",
     "text": [
      "/home/bsmith16/.conda/envs/py3_mvpa/lib/python3.8/site-packages/sklearn/linear_model/_coordinate_descent.py:647: ConvergenceWarning: Objective did not converge. You might want to increase the number of iterations, check the scale of the features or consider increasing regularisation. Duality gap: 1.813e+03, tolerance: 2.745e+02\n",
      "  model = cd_fast.enet_coordinate_descent(\n"
     ]
    },
    {
     "name": "stdout",
     "output_type": "stream",
     "text": [
      "."
     ]
    },
    {
     "name": "stderr",
     "output_type": "stream",
     "text": [
      "/home/bsmith16/.conda/envs/py3_mvpa/lib/python3.8/site-packages/sklearn/linear_model/_coordinate_descent.py:647: ConvergenceWarning: Objective did not converge. You might want to increase the number of iterations, check the scale of the features or consider increasing regularisation. Duality gap: 2.663e+03, tolerance: 2.705e+02\n",
      "  model = cd_fast.enet_coordinate_descent(\n"
     ]
    },
    {
     "name": "stdout",
     "output_type": "stream",
     "text": [
      "."
     ]
    },
    {
     "name": "stderr",
     "output_type": "stream",
     "text": [
      "/home/bsmith16/.conda/envs/py3_mvpa/lib/python3.8/site-packages/sklearn/linear_model/_coordinate_descent.py:647: ConvergenceWarning: Objective did not converge. You might want to increase the number of iterations, check the scale of the features or consider increasing regularisation. Duality gap: 1.645e+03, tolerance: 2.744e+02\n",
      "  model = cd_fast.enet_coordinate_descent(\n"
     ]
    },
    {
     "name": "stdout",
     "output_type": "stream",
     "text": [
      "."
     ]
    },
    {
     "name": "stderr",
     "output_type": "stream",
     "text": [
      "/home/bsmith16/.conda/envs/py3_mvpa/lib/python3.8/site-packages/sklearn/linear_model/_coordinate_descent.py:647: ConvergenceWarning: Objective did not converge. You might want to increase the number of iterations, check the scale of the features or consider increasing regularisation. Duality gap: 1.936e+03, tolerance: 2.749e+02\n",
      "  model = cd_fast.enet_coordinate_descent(\n"
     ]
    },
    {
     "name": "stdout",
     "output_type": "stream",
     "text": [
      "."
     ]
    },
    {
     "name": "stderr",
     "output_type": "stream",
     "text": [
      "/home/bsmith16/.conda/envs/py3_mvpa/lib/python3.8/site-packages/sklearn/linear_model/_coordinate_descent.py:647: ConvergenceWarning: Objective did not converge. You might want to increase the number of iterations, check the scale of the features or consider increasing regularisation. Duality gap: 2.058e+03, tolerance: 2.741e+02\n",
      "  model = cd_fast.enet_coordinate_descent(\n"
     ]
    },
    {
     "name": "stdout",
     "output_type": "stream",
     "text": [
      "."
     ]
    },
    {
     "name": "stderr",
     "output_type": "stream",
     "text": [
      "/home/bsmith16/.conda/envs/py3_mvpa/lib/python3.8/site-packages/sklearn/linear_model/_coordinate_descent.py:647: ConvergenceWarning: Objective did not converge. You might want to increase the number of iterations, check the scale of the features or consider increasing regularisation. Duality gap: 2.539e+03, tolerance: 2.729e+02\n",
      "  model = cd_fast.enet_coordinate_descent(\n"
     ]
    },
    {
     "name": "stdout",
     "output_type": "stream",
     "text": [
      "."
     ]
    },
    {
     "name": "stderr",
     "output_type": "stream",
     "text": [
      "/home/bsmith16/.conda/envs/py3_mvpa/lib/python3.8/site-packages/sklearn/linear_model/_coordinate_descent.py:647: ConvergenceWarning: Objective did not converge. You might want to increase the number of iterations, check the scale of the features or consider increasing regularisation. Duality gap: 1.940e+03, tolerance: 2.746e+02\n",
      "  model = cd_fast.enet_coordinate_descent(\n"
     ]
    },
    {
     "name": "stdout",
     "output_type": "stream",
     "text": [
      "."
     ]
    },
    {
     "name": "stderr",
     "output_type": "stream",
     "text": [
      "/home/bsmith16/.conda/envs/py3_mvpa/lib/python3.8/site-packages/sklearn/linear_model/_coordinate_descent.py:647: ConvergenceWarning: Objective did not converge. You might want to increase the number of iterations, check the scale of the features or consider increasing regularisation. Duality gap: 1.856e+03, tolerance: 2.739e+02\n",
      "  model = cd_fast.enet_coordinate_descent(\n"
     ]
    },
    {
     "name": "stdout",
     "output_type": "stream",
     "text": [
      "."
     ]
    },
    {
     "name": "stderr",
     "output_type": "stream",
     "text": [
      "/home/bsmith16/.conda/envs/py3_mvpa/lib/python3.8/site-packages/sklearn/linear_model/_coordinate_descent.py:647: ConvergenceWarning: Objective did not converge. You might want to increase the number of iterations, check the scale of the features or consider increasing regularisation. Duality gap: 2.055e+03, tolerance: 2.492e+02\n",
      "  model = cd_fast.enet_coordinate_descent(\n"
     ]
    },
    {
     "name": "stdout",
     "output_type": "stream",
     "text": [
      "."
     ]
    },
    {
     "name": "stderr",
     "output_type": "stream",
     "text": [
      "/home/bsmith16/.conda/envs/py3_mvpa/lib/python3.8/site-packages/sklearn/linear_model/_coordinate_descent.py:647: ConvergenceWarning: Objective did not converge. You might want to increase the number of iterations, check the scale of the features or consider increasing regularisation. Duality gap: 2.418e+03, tolerance: 2.717e+02\n",
      "  model = cd_fast.enet_coordinate_descent(\n"
     ]
    },
    {
     "name": "stdout",
     "output_type": "stream",
     "text": [
      "."
     ]
    },
    {
     "name": "stderr",
     "output_type": "stream",
     "text": [
      "/home/bsmith16/.conda/envs/py3_mvpa/lib/python3.8/site-packages/sklearn/linear_model/_coordinate_descent.py:647: ConvergenceWarning: Objective did not converge. You might want to increase the number of iterations, check the scale of the features or consider increasing regularisation. Duality gap: 1.720e+03, tolerance: 2.726e+02\n",
      "  model = cd_fast.enet_coordinate_descent(\n"
     ]
    },
    {
     "name": "stdout",
     "output_type": "stream",
     "text": [
      "."
     ]
    },
    {
     "name": "stderr",
     "output_type": "stream",
     "text": [
      "/home/bsmith16/.conda/envs/py3_mvpa/lib/python3.8/site-packages/sklearn/linear_model/_coordinate_descent.py:647: ConvergenceWarning: Objective did not converge. You might want to increase the number of iterations, check the scale of the features or consider increasing regularisation. Duality gap: 1.882e+03, tolerance: 2.746e+02\n",
      "  model = cd_fast.enet_coordinate_descent(\n"
     ]
    },
    {
     "name": "stdout",
     "output_type": "stream",
     "text": [
      "."
     ]
    },
    {
     "name": "stderr",
     "output_type": "stream",
     "text": [
      "/home/bsmith16/.conda/envs/py3_mvpa/lib/python3.8/site-packages/sklearn/linear_model/_coordinate_descent.py:647: ConvergenceWarning: Objective did not converge. You might want to increase the number of iterations, check the scale of the features or consider increasing regularisation. Duality gap: 2.757e+03, tolerance: 2.529e+02\n",
      "  model = cd_fast.enet_coordinate_descent(\n"
     ]
    },
    {
     "name": "stdout",
     "output_type": "stream",
     "text": [
      "."
     ]
    },
    {
     "name": "stderr",
     "output_type": "stream",
     "text": [
      "/home/bsmith16/.conda/envs/py3_mvpa/lib/python3.8/site-packages/sklearn/linear_model/_coordinate_descent.py:647: ConvergenceWarning: Objective did not converge. You might want to increase the number of iterations, check the scale of the features or consider increasing regularisation. Duality gap: 1.776e+03, tolerance: 2.738e+02\n",
      "  model = cd_fast.enet_coordinate_descent(\n"
     ]
    },
    {
     "name": "stdout",
     "output_type": "stream",
     "text": [
      "."
     ]
    },
    {
     "name": "stderr",
     "output_type": "stream",
     "text": [
      "/home/bsmith16/.conda/envs/py3_mvpa/lib/python3.8/site-packages/sklearn/linear_model/_coordinate_descent.py:647: ConvergenceWarning: Objective did not converge. You might want to increase the number of iterations, check the scale of the features or consider increasing regularisation. Duality gap: 1.785e+03, tolerance: 2.743e+02\n",
      "  model = cd_fast.enet_coordinate_descent(\n"
     ]
    },
    {
     "name": "stdout",
     "output_type": "stream",
     "text": [
      "."
     ]
    },
    {
     "name": "stderr",
     "output_type": "stream",
     "text": [
      "/home/bsmith16/.conda/envs/py3_mvpa/lib/python3.8/site-packages/sklearn/linear_model/_coordinate_descent.py:647: ConvergenceWarning: Objective did not converge. You might want to increase the number of iterations, check the scale of the features or consider increasing regularisation. Duality gap: 2.082e+03, tolerance: 2.727e+02\n",
      "  model = cd_fast.enet_coordinate_descent(\n"
     ]
    },
    {
     "name": "stdout",
     "output_type": "stream",
     "text": [
      "."
     ]
    },
    {
     "name": "stderr",
     "output_type": "stream",
     "text": [
      "/home/bsmith16/.conda/envs/py3_mvpa/lib/python3.8/site-packages/sklearn/linear_model/_coordinate_descent.py:647: ConvergenceWarning: Objective did not converge. You might want to increase the number of iterations, check the scale of the features or consider increasing regularisation. Duality gap: 1.970e+03, tolerance: 2.749e+02\n",
      "  model = cd_fast.enet_coordinate_descent(\n"
     ]
    },
    {
     "name": "stdout",
     "output_type": "stream",
     "text": [
      "."
     ]
    },
    {
     "name": "stderr",
     "output_type": "stream",
     "text": [
      "/home/bsmith16/.conda/envs/py3_mvpa/lib/python3.8/site-packages/sklearn/linear_model/_coordinate_descent.py:647: ConvergenceWarning: Objective did not converge. You might want to increase the number of iterations, check the scale of the features or consider increasing regularisation. Duality gap: 2.203e+03, tolerance: 2.723e+02\n",
      "  model = cd_fast.enet_coordinate_descent(\n"
     ]
    },
    {
     "name": "stdout",
     "output_type": "stream",
     "text": [
      "."
     ]
    },
    {
     "name": "stderr",
     "output_type": "stream",
     "text": [
      "/home/bsmith16/.conda/envs/py3_mvpa/lib/python3.8/site-packages/sklearn/linear_model/_coordinate_descent.py:647: ConvergenceWarning: Objective did not converge. You might want to increase the number of iterations, check the scale of the features or consider increasing regularisation. Duality gap: 1.903e+03, tolerance: 2.735e+02\n",
      "  model = cd_fast.enet_coordinate_descent(\n"
     ]
    },
    {
     "name": "stdout",
     "output_type": "stream",
     "text": [
      "."
     ]
    },
    {
     "name": "stderr",
     "output_type": "stream",
     "text": [
      "/home/bsmith16/.conda/envs/py3_mvpa/lib/python3.8/site-packages/sklearn/linear_model/_coordinate_descent.py:647: ConvergenceWarning: Objective did not converge. You might want to increase the number of iterations, check the scale of the features or consider increasing regularisation. Duality gap: 1.509e+03, tolerance: 2.469e+02\n",
      "  model = cd_fast.enet_coordinate_descent(\n"
     ]
    },
    {
     "name": "stdout",
     "output_type": "stream",
     "text": [
      "."
     ]
    },
    {
     "name": "stderr",
     "output_type": "stream",
     "text": [
      "/home/bsmith16/.conda/envs/py3_mvpa/lib/python3.8/site-packages/sklearn/linear_model/_coordinate_descent.py:647: ConvergenceWarning: Objective did not converge. You might want to increase the number of iterations, check the scale of the features or consider increasing regularisation. Duality gap: 2.547e+03, tolerance: 2.635e+02\n",
      "  model = cd_fast.enet_coordinate_descent(\n"
     ]
    },
    {
     "name": "stdout",
     "output_type": "stream",
     "text": [
      "."
     ]
    },
    {
     "name": "stderr",
     "output_type": "stream",
     "text": [
      "/home/bsmith16/.conda/envs/py3_mvpa/lib/python3.8/site-packages/sklearn/linear_model/_coordinate_descent.py:647: ConvergenceWarning: Objective did not converge. You might want to increase the number of iterations, check the scale of the features or consider increasing regularisation. Duality gap: 2.021e+03, tolerance: 2.726e+02\n",
      "  model = cd_fast.enet_coordinate_descent(\n"
     ]
    },
    {
     "name": "stdout",
     "output_type": "stream",
     "text": [
      "."
     ]
    },
    {
     "name": "stderr",
     "output_type": "stream",
     "text": [
      "/home/bsmith16/.conda/envs/py3_mvpa/lib/python3.8/site-packages/sklearn/linear_model/_coordinate_descent.py:647: ConvergenceWarning: Objective did not converge. You might want to increase the number of iterations, check the scale of the features or consider increasing regularisation. Duality gap: 2.033e+03, tolerance: 2.716e+02\n",
      "  model = cd_fast.enet_coordinate_descent(\n"
     ]
    },
    {
     "name": "stdout",
     "output_type": "stream",
     "text": [
      "."
     ]
    },
    {
     "name": "stderr",
     "output_type": "stream",
     "text": [
      "/home/bsmith16/.conda/envs/py3_mvpa/lib/python3.8/site-packages/sklearn/linear_model/_coordinate_descent.py:647: ConvergenceWarning: Objective did not converge. You might want to increase the number of iterations, check the scale of the features or consider increasing regularisation. Duality gap: 1.977e+03, tolerance: 2.736e+02\n",
      "  model = cd_fast.enet_coordinate_descent(\n"
     ]
    },
    {
     "name": "stdout",
     "output_type": "stream",
     "text": [
      "."
     ]
    },
    {
     "name": "stderr",
     "output_type": "stream",
     "text": [
      "/home/bsmith16/.conda/envs/py3_mvpa/lib/python3.8/site-packages/sklearn/linear_model/_coordinate_descent.py:647: ConvergenceWarning: Objective did not converge. You might want to increase the number of iterations, check the scale of the features or consider increasing regularisation. Duality gap: 1.719e+03, tolerance: 2.738e+02\n",
      "  model = cd_fast.enet_coordinate_descent(\n"
     ]
    },
    {
     "name": "stdout",
     "output_type": "stream",
     "text": [
      "."
     ]
    },
    {
     "name": "stderr",
     "output_type": "stream",
     "text": [
      "/home/bsmith16/.conda/envs/py3_mvpa/lib/python3.8/site-packages/sklearn/linear_model/_coordinate_descent.py:647: ConvergenceWarning: Objective did not converge. You might want to increase the number of iterations, check the scale of the features or consider increasing regularisation. Duality gap: 2.013e+03, tolerance: 2.746e+02\n",
      "  model = cd_fast.enet_coordinate_descent(\n"
     ]
    },
    {
     "name": "stdout",
     "output_type": "stream",
     "text": [
      "."
     ]
    },
    {
     "name": "stderr",
     "output_type": "stream",
     "text": [
      "/home/bsmith16/.conda/envs/py3_mvpa/lib/python3.8/site-packages/sklearn/linear_model/_coordinate_descent.py:647: ConvergenceWarning: Objective did not converge. You might want to increase the number of iterations, check the scale of the features or consider increasing regularisation. Duality gap: 2.325e+03, tolerance: 2.733e+02\n",
      "  model = cd_fast.enet_coordinate_descent(\n"
     ]
    },
    {
     "name": "stdout",
     "output_type": "stream",
     "text": [
      "."
     ]
    },
    {
     "name": "stderr",
     "output_type": "stream",
     "text": [
      "/home/bsmith16/.conda/envs/py3_mvpa/lib/python3.8/site-packages/sklearn/linear_model/_coordinate_descent.py:647: ConvergenceWarning: Objective did not converge. You might want to increase the number of iterations, check the scale of the features or consider increasing regularisation. Duality gap: 1.918e+03, tolerance: 2.735e+02\n",
      "  model = cd_fast.enet_coordinate_descent(\n"
     ]
    },
    {
     "name": "stdout",
     "output_type": "stream",
     "text": [
      "."
     ]
    },
    {
     "name": "stderr",
     "output_type": "stream",
     "text": [
      "/home/bsmith16/.conda/envs/py3_mvpa/lib/python3.8/site-packages/sklearn/linear_model/_coordinate_descent.py:647: ConvergenceWarning: Objective did not converge. You might want to increase the number of iterations, check the scale of the features or consider increasing regularisation. Duality gap: 1.815e+03, tolerance: 2.705e+02\n",
      "  model = cd_fast.enet_coordinate_descent(\n"
     ]
    },
    {
     "name": "stdout",
     "output_type": "stream",
     "text": [
      "."
     ]
    },
    {
     "name": "stderr",
     "output_type": "stream",
     "text": [
      "/home/bsmith16/.conda/envs/py3_mvpa/lib/python3.8/site-packages/sklearn/linear_model/_coordinate_descent.py:647: ConvergenceWarning: Objective did not converge. You might want to increase the number of iterations, check the scale of the features or consider increasing regularisation. Duality gap: 1.708e+03, tolerance: 2.730e+02\n",
      "  model = cd_fast.enet_coordinate_descent(\n"
     ]
    },
    {
     "name": "stdout",
     "output_type": "stream",
     "text": [
      "."
     ]
    },
    {
     "name": "stderr",
     "output_type": "stream",
     "text": [
      "/home/bsmith16/.conda/envs/py3_mvpa/lib/python3.8/site-packages/sklearn/linear_model/_coordinate_descent.py:647: ConvergenceWarning: Objective did not converge. You might want to increase the number of iterations, check the scale of the features or consider increasing regularisation. Duality gap: 1.984e+03, tolerance: 2.737e+02\n",
      "  model = cd_fast.enet_coordinate_descent(\n"
     ]
    },
    {
     "name": "stdout",
     "output_type": "stream",
     "text": [
      "."
     ]
    },
    {
     "name": "stderr",
     "output_type": "stream",
     "text": [
      "/home/bsmith16/.conda/envs/py3_mvpa/lib/python3.8/site-packages/sklearn/linear_model/_coordinate_descent.py:647: ConvergenceWarning: Objective did not converge. You might want to increase the number of iterations, check the scale of the features or consider increasing regularisation. Duality gap: 1.975e+03, tolerance: 2.744e+02\n",
      "  model = cd_fast.enet_coordinate_descent(\n"
     ]
    },
    {
     "name": "stdout",
     "output_type": "stream",
     "text": [
      "."
     ]
    },
    {
     "name": "stderr",
     "output_type": "stream",
     "text": [
      "/home/bsmith16/.conda/envs/py3_mvpa/lib/python3.8/site-packages/sklearn/linear_model/_coordinate_descent.py:647: ConvergenceWarning: Objective did not converge. You might want to increase the number of iterations, check the scale of the features or consider increasing regularisation. Duality gap: 1.911e+03, tolerance: 2.741e+02\n",
      "  model = cd_fast.enet_coordinate_descent(\n"
     ]
    },
    {
     "name": "stdout",
     "output_type": "stream",
     "text": [
      "."
     ]
    },
    {
     "name": "stderr",
     "output_type": "stream",
     "text": [
      "/home/bsmith16/.conda/envs/py3_mvpa/lib/python3.8/site-packages/sklearn/linear_model/_coordinate_descent.py:647: ConvergenceWarning: Objective did not converge. You might want to increase the number of iterations, check the scale of the features or consider increasing regularisation. Duality gap: 1.981e+03, tolerance: 2.742e+02\n",
      "  model = cd_fast.enet_coordinate_descent(\n"
     ]
    },
    {
     "name": "stdout",
     "output_type": "stream",
     "text": [
      "."
     ]
    },
    {
     "name": "stderr",
     "output_type": "stream",
     "text": [
      "/home/bsmith16/.conda/envs/py3_mvpa/lib/python3.8/site-packages/sklearn/linear_model/_coordinate_descent.py:647: ConvergenceWarning: Objective did not converge. You might want to increase the number of iterations, check the scale of the features or consider increasing regularisation. Duality gap: 1.946e+03, tolerance: 2.735e+02\n",
      "  model = cd_fast.enet_coordinate_descent(\n"
     ]
    },
    {
     "name": "stdout",
     "output_type": "stream",
     "text": [
      "."
     ]
    },
    {
     "name": "stderr",
     "output_type": "stream",
     "text": [
      "/home/bsmith16/.conda/envs/py3_mvpa/lib/python3.8/site-packages/sklearn/linear_model/_coordinate_descent.py:647: ConvergenceWarning: Objective did not converge. You might want to increase the number of iterations, check the scale of the features or consider increasing regularisation. Duality gap: 2.000e+03, tolerance: 2.727e+02\n",
      "  model = cd_fast.enet_coordinate_descent(\n"
     ]
    },
    {
     "name": "stdout",
     "output_type": "stream",
     "text": [
      "."
     ]
    },
    {
     "name": "stderr",
     "output_type": "stream",
     "text": [
      "/home/bsmith16/.conda/envs/py3_mvpa/lib/python3.8/site-packages/sklearn/linear_model/_coordinate_descent.py:647: ConvergenceWarning: Objective did not converge. You might want to increase the number of iterations, check the scale of the features or consider increasing regularisation. Duality gap: 1.934e+03, tolerance: 2.746e+02\n",
      "  model = cd_fast.enet_coordinate_descent(\n"
     ]
    },
    {
     "name": "stdout",
     "output_type": "stream",
     "text": [
      "."
     ]
    },
    {
     "name": "stderr",
     "output_type": "stream",
     "text": [
      "/home/bsmith16/.conda/envs/py3_mvpa/lib/python3.8/site-packages/sklearn/linear_model/_coordinate_descent.py:647: ConvergenceWarning: Objective did not converge. You might want to increase the number of iterations, check the scale of the features or consider increasing regularisation. Duality gap: 1.799e+03, tolerance: 2.749e+02\n",
      "  model = cd_fast.enet_coordinate_descent(\n"
     ]
    },
    {
     "name": "stdout",
     "output_type": "stream",
     "text": [
      "."
     ]
    },
    {
     "name": "stderr",
     "output_type": "stream",
     "text": [
      "/home/bsmith16/.conda/envs/py3_mvpa/lib/python3.8/site-packages/sklearn/linear_model/_coordinate_descent.py:647: ConvergenceWarning: Objective did not converge. You might want to increase the number of iterations, check the scale of the features or consider increasing regularisation. Duality gap: 1.775e+03, tolerance: 2.735e+02\n",
      "  model = cd_fast.enet_coordinate_descent(\n"
     ]
    },
    {
     "name": "stdout",
     "output_type": "stream",
     "text": [
      "."
     ]
    },
    {
     "name": "stderr",
     "output_type": "stream",
     "text": [
      "/home/bsmith16/.conda/envs/py3_mvpa/lib/python3.8/site-packages/sklearn/linear_model/_coordinate_descent.py:647: ConvergenceWarning: Objective did not converge. You might want to increase the number of iterations, check the scale of the features or consider increasing regularisation. Duality gap: 1.854e+03, tolerance: 2.728e+02\n",
      "  model = cd_fast.enet_coordinate_descent(\n"
     ]
    },
    {
     "name": "stdout",
     "output_type": "stream",
     "text": [
      "."
     ]
    },
    {
     "name": "stderr",
     "output_type": "stream",
     "text": [
      "/home/bsmith16/.conda/envs/py3_mvpa/lib/python3.8/site-packages/sklearn/linear_model/_coordinate_descent.py:647: ConvergenceWarning: Objective did not converge. You might want to increase the number of iterations, check the scale of the features or consider increasing regularisation. Duality gap: 2.003e+03, tolerance: 2.726e+02\n",
      "  model = cd_fast.enet_coordinate_descent(\n"
     ]
    },
    {
     "name": "stdout",
     "output_type": "stream",
     "text": [
      "."
     ]
    },
    {
     "name": "stderr",
     "output_type": "stream",
     "text": [
      "/home/bsmith16/.conda/envs/py3_mvpa/lib/python3.8/site-packages/sklearn/linear_model/_coordinate_descent.py:647: ConvergenceWarning: Objective did not converge. You might want to increase the number of iterations, check the scale of the features or consider increasing regularisation. Duality gap: 1.972e+03, tolerance: 2.748e+02\n",
      "  model = cd_fast.enet_coordinate_descent(\n"
     ]
    },
    {
     "name": "stdout",
     "output_type": "stream",
     "text": [
      "."
     ]
    },
    {
     "name": "stderr",
     "output_type": "stream",
     "text": [
      "/home/bsmith16/.conda/envs/py3_mvpa/lib/python3.8/site-packages/sklearn/linear_model/_coordinate_descent.py:647: ConvergenceWarning: Objective did not converge. You might want to increase the number of iterations, check the scale of the features or consider increasing regularisation. Duality gap: 2.004e+03, tolerance: 2.747e+02\n",
      "  model = cd_fast.enet_coordinate_descent(\n"
     ]
    },
    {
     "name": "stdout",
     "output_type": "stream",
     "text": [
      "."
     ]
    },
    {
     "name": "stderr",
     "output_type": "stream",
     "text": [
      "/home/bsmith16/.conda/envs/py3_mvpa/lib/python3.8/site-packages/sklearn/linear_model/_coordinate_descent.py:647: ConvergenceWarning: Objective did not converge. You might want to increase the number of iterations, check the scale of the features or consider increasing regularisation. Duality gap: 2.187e+03, tolerance: 2.726e+02\n",
      "  model = cd_fast.enet_coordinate_descent(\n"
     ]
    },
    {
     "name": "stdout",
     "output_type": "stream",
     "text": [
      "."
     ]
    },
    {
     "name": "stderr",
     "output_type": "stream",
     "text": [
      "/home/bsmith16/.conda/envs/py3_mvpa/lib/python3.8/site-packages/sklearn/linear_model/_coordinate_descent.py:647: ConvergenceWarning: Objective did not converge. You might want to increase the number of iterations, check the scale of the features or consider increasing regularisation. Duality gap: 2.118e+03, tolerance: 2.746e+02\n",
      "  model = cd_fast.enet_coordinate_descent(\n"
     ]
    },
    {
     "name": "stdout",
     "output_type": "stream",
     "text": [
      "."
     ]
    },
    {
     "name": "stderr",
     "output_type": "stream",
     "text": [
      "/home/bsmith16/.conda/envs/py3_mvpa/lib/python3.8/site-packages/sklearn/linear_model/_coordinate_descent.py:647: ConvergenceWarning: Objective did not converge. You might want to increase the number of iterations, check the scale of the features or consider increasing regularisation. Duality gap: 1.858e+03, tolerance: 2.724e+02\n",
      "  model = cd_fast.enet_coordinate_descent(\n"
     ]
    },
    {
     "name": "stdout",
     "output_type": "stream",
     "text": [
      "."
     ]
    },
    {
     "name": "stderr",
     "output_type": "stream",
     "text": [
      "/home/bsmith16/.conda/envs/py3_mvpa/lib/python3.8/site-packages/sklearn/linear_model/_coordinate_descent.py:647: ConvergenceWarning: Objective did not converge. You might want to increase the number of iterations, check the scale of the features or consider increasing regularisation. Duality gap: 2.021e+03, tolerance: 2.736e+02\n",
      "  model = cd_fast.enet_coordinate_descent(\n"
     ]
    },
    {
     "name": "stdout",
     "output_type": "stream",
     "text": [
      "."
     ]
    },
    {
     "name": "stderr",
     "output_type": "stream",
     "text": [
      "/home/bsmith16/.conda/envs/py3_mvpa/lib/python3.8/site-packages/sklearn/linear_model/_coordinate_descent.py:647: ConvergenceWarning: Objective did not converge. You might want to increase the number of iterations, check the scale of the features or consider increasing regularisation. Duality gap: 2.134e+03, tolerance: 2.703e+02\n",
      "  model = cd_fast.enet_coordinate_descent(\n"
     ]
    },
    {
     "name": "stdout",
     "output_type": "stream",
     "text": [
      "."
     ]
    },
    {
     "name": "stderr",
     "output_type": "stream",
     "text": [
      "/home/bsmith16/.conda/envs/py3_mvpa/lib/python3.8/site-packages/sklearn/linear_model/_coordinate_descent.py:647: ConvergenceWarning: Objective did not converge. You might want to increase the number of iterations, check the scale of the features or consider increasing regularisation. Duality gap: 1.960e+03, tolerance: 2.733e+02\n",
      "  model = cd_fast.enet_coordinate_descent(\n"
     ]
    },
    {
     "name": "stdout",
     "output_type": "stream",
     "text": [
      "."
     ]
    },
    {
     "name": "stderr",
     "output_type": "stream",
     "text": [
      "/home/bsmith16/.conda/envs/py3_mvpa/lib/python3.8/site-packages/sklearn/linear_model/_coordinate_descent.py:647: ConvergenceWarning: Objective did not converge. You might want to increase the number of iterations, check the scale of the features or consider increasing regularisation. Duality gap: 1.765e+03, tolerance: 2.726e+02\n",
      "  model = cd_fast.enet_coordinate_descent(\n"
     ]
    },
    {
     "name": "stdout",
     "output_type": "stream",
     "text": [
      "."
     ]
    },
    {
     "name": "stderr",
     "output_type": "stream",
     "text": [
      "/home/bsmith16/.conda/envs/py3_mvpa/lib/python3.8/site-packages/sklearn/linear_model/_coordinate_descent.py:647: ConvergenceWarning: Objective did not converge. You might want to increase the number of iterations, check the scale of the features or consider increasing regularisation. Duality gap: 1.961e+03, tolerance: 2.697e+02\n",
      "  model = cd_fast.enet_coordinate_descent(\n"
     ]
    },
    {
     "name": "stdout",
     "output_type": "stream",
     "text": [
      "."
     ]
    },
    {
     "name": "stderr",
     "output_type": "stream",
     "text": [
      "/home/bsmith16/.conda/envs/py3_mvpa/lib/python3.8/site-packages/sklearn/linear_model/_coordinate_descent.py:647: ConvergenceWarning: Objective did not converge. You might want to increase the number of iterations, check the scale of the features or consider increasing regularisation. Duality gap: 1.189e+03, tolerance: 2.191e+02\n",
      "  model = cd_fast.enet_coordinate_descent(\n"
     ]
    },
    {
     "name": "stdout",
     "output_type": "stream",
     "text": [
      "."
     ]
    },
    {
     "name": "stderr",
     "output_type": "stream",
     "text": [
      "/home/bsmith16/.conda/envs/py3_mvpa/lib/python3.8/site-packages/sklearn/linear_model/_coordinate_descent.py:647: ConvergenceWarning: Objective did not converge. You might want to increase the number of iterations, check the scale of the features or consider increasing regularisation. Duality gap: 1.815e+03, tolerance: 2.745e+02\n",
      "  model = cd_fast.enet_coordinate_descent(\n"
     ]
    },
    {
     "name": "stdout",
     "output_type": "stream",
     "text": [
      "."
     ]
    },
    {
     "name": "stderr",
     "output_type": "stream",
     "text": [
      "/home/bsmith16/.conda/envs/py3_mvpa/lib/python3.8/site-packages/sklearn/linear_model/_coordinate_descent.py:647: ConvergenceWarning: Objective did not converge. You might want to increase the number of iterations, check the scale of the features or consider increasing regularisation. Duality gap: 1.931e+03, tolerance: 2.744e+02\n",
      "  model = cd_fast.enet_coordinate_descent(\n"
     ]
    },
    {
     "name": "stdout",
     "output_type": "stream",
     "text": [
      "."
     ]
    },
    {
     "name": "stderr",
     "output_type": "stream",
     "text": [
      "/home/bsmith16/.conda/envs/py3_mvpa/lib/python3.8/site-packages/sklearn/linear_model/_coordinate_descent.py:647: ConvergenceWarning: Objective did not converge. You might want to increase the number of iterations, check the scale of the features or consider increasing regularisation. Duality gap: 1.921e+03, tolerance: 2.748e+02\n",
      "  model = cd_fast.enet_coordinate_descent(\n"
     ]
    },
    {
     "name": "stdout",
     "output_type": "stream",
     "text": [
      "."
     ]
    },
    {
     "name": "stderr",
     "output_type": "stream",
     "text": [
      "/home/bsmith16/.conda/envs/py3_mvpa/lib/python3.8/site-packages/sklearn/linear_model/_coordinate_descent.py:647: ConvergenceWarning: Objective did not converge. You might want to increase the number of iterations, check the scale of the features or consider increasing regularisation. Duality gap: 2.680e+03, tolerance: 2.696e+02\n",
      "  model = cd_fast.enet_coordinate_descent(\n"
     ]
    },
    {
     "name": "stdout",
     "output_type": "stream",
     "text": [
      "."
     ]
    },
    {
     "name": "stderr",
     "output_type": "stream",
     "text": [
      "/home/bsmith16/.conda/envs/py3_mvpa/lib/python3.8/site-packages/sklearn/linear_model/_coordinate_descent.py:647: ConvergenceWarning: Objective did not converge. You might want to increase the number of iterations, check the scale of the features or consider increasing regularisation. Duality gap: 2.011e+03, tolerance: 2.747e+02\n",
      "  model = cd_fast.enet_coordinate_descent(\n"
     ]
    },
    {
     "name": "stdout",
     "output_type": "stream",
     "text": [
      "."
     ]
    },
    {
     "name": "stderr",
     "output_type": "stream",
     "text": [
      "/home/bsmith16/.conda/envs/py3_mvpa/lib/python3.8/site-packages/sklearn/linear_model/_coordinate_descent.py:647: ConvergenceWarning: Objective did not converge. You might want to increase the number of iterations, check the scale of the features or consider increasing regularisation. Duality gap: 2.001e+03, tolerance: 2.746e+02\n",
      "  model = cd_fast.enet_coordinate_descent(\n"
     ]
    },
    {
     "name": "stdout",
     "output_type": "stream",
     "text": [
      "."
     ]
    },
    {
     "name": "stderr",
     "output_type": "stream",
     "text": [
      "/home/bsmith16/.conda/envs/py3_mvpa/lib/python3.8/site-packages/sklearn/linear_model/_coordinate_descent.py:647: ConvergenceWarning: Objective did not converge. You might want to increase the number of iterations, check the scale of the features or consider increasing regularisation. Duality gap: 1.882e+03, tolerance: 2.742e+02\n",
      "  model = cd_fast.enet_coordinate_descent(\n"
     ]
    },
    {
     "name": "stdout",
     "output_type": "stream",
     "text": [
      "."
     ]
    },
    {
     "name": "stderr",
     "output_type": "stream",
     "text": [
      "/home/bsmith16/.conda/envs/py3_mvpa/lib/python3.8/site-packages/sklearn/linear_model/_coordinate_descent.py:647: ConvergenceWarning: Objective did not converge. You might want to increase the number of iterations, check the scale of the features or consider increasing regularisation. Duality gap: 2.009e+03, tolerance: 2.743e+02\n",
      "  model = cd_fast.enet_coordinate_descent(\n"
     ]
    },
    {
     "name": "stdout",
     "output_type": "stream",
     "text": [
      "."
     ]
    },
    {
     "name": "stderr",
     "output_type": "stream",
     "text": [
      "/home/bsmith16/.conda/envs/py3_mvpa/lib/python3.8/site-packages/sklearn/linear_model/_coordinate_descent.py:647: ConvergenceWarning: Objective did not converge. You might want to increase the number of iterations, check the scale of the features or consider increasing regularisation. Duality gap: 1.903e+03, tolerance: 2.746e+02\n",
      "  model = cd_fast.enet_coordinate_descent(\n"
     ]
    },
    {
     "name": "stdout",
     "output_type": "stream",
     "text": [
      "."
     ]
    },
    {
     "name": "stderr",
     "output_type": "stream",
     "text": [
      "/home/bsmith16/.conda/envs/py3_mvpa/lib/python3.8/site-packages/sklearn/linear_model/_coordinate_descent.py:647: ConvergenceWarning: Objective did not converge. You might want to increase the number of iterations, check the scale of the features or consider increasing regularisation. Duality gap: 1.877e+03, tolerance: 2.745e+02\n",
      "  model = cd_fast.enet_coordinate_descent(\n"
     ]
    },
    {
     "name": "stdout",
     "output_type": "stream",
     "text": [
      "."
     ]
    },
    {
     "name": "stderr",
     "output_type": "stream",
     "text": [
      "/home/bsmith16/.conda/envs/py3_mvpa/lib/python3.8/site-packages/sklearn/linear_model/_coordinate_descent.py:647: ConvergenceWarning: Objective did not converge. You might want to increase the number of iterations, check the scale of the features or consider increasing regularisation. Duality gap: 2.011e+03, tolerance: 2.734e+02\n",
      "  model = cd_fast.enet_coordinate_descent(\n"
     ]
    },
    {
     "name": "stdout",
     "output_type": "stream",
     "text": [
      "."
     ]
    },
    {
     "name": "stderr",
     "output_type": "stream",
     "text": [
      "/home/bsmith16/.conda/envs/py3_mvpa/lib/python3.8/site-packages/sklearn/linear_model/_coordinate_descent.py:647: ConvergenceWarning: Objective did not converge. You might want to increase the number of iterations, check the scale of the features or consider increasing regularisation. Duality gap: 1.957e+03, tolerance: 2.713e+02\n",
      "  model = cd_fast.enet_coordinate_descent(\n"
     ]
    },
    {
     "name": "stdout",
     "output_type": "stream",
     "text": [
      "."
     ]
    },
    {
     "name": "stderr",
     "output_type": "stream",
     "text": [
      "/home/bsmith16/.conda/envs/py3_mvpa/lib/python3.8/site-packages/sklearn/linear_model/_coordinate_descent.py:647: ConvergenceWarning: Objective did not converge. You might want to increase the number of iterations, check the scale of the features or consider increasing regularisation. Duality gap: 2.850e+03, tolerance: 2.674e+02\n",
      "  model = cd_fast.enet_coordinate_descent(\n"
     ]
    },
    {
     "name": "stdout",
     "output_type": "stream",
     "text": [
      "."
     ]
    },
    {
     "name": "stderr",
     "output_type": "stream",
     "text": [
      "/home/bsmith16/.conda/envs/py3_mvpa/lib/python3.8/site-packages/sklearn/linear_model/_coordinate_descent.py:647: ConvergenceWarning: Objective did not converge. You might want to increase the number of iterations, check the scale of the features or consider increasing regularisation. Duality gap: 1.819e+03, tolerance: 2.743e+02\n",
      "  model = cd_fast.enet_coordinate_descent(\n",
      "/home/bsmith16/.conda/envs/py3_mvpa/lib/python3.8/site-packages/sklearn/linear_model/_coordinate_descent.py:647: ConvergenceWarning: Objective did not converge. You might want to increase the number of iterations, check the scale of the features or consider increasing regularisation. Duality gap: 1.876e+03, tolerance: 2.746e+02\n",
      "  model = cd_fast.enet_coordinate_descent(\n",
      "/home/bsmith16/.conda/envs/py3_mvpa/lib/python3.8/site-packages/sklearn/linear_model/_coordinate_descent.py:647: ConvergenceWarning: Objective did not converge. You might want to increase the number of iterations, check the scale of the features or consider increasing regularisation. Duality gap: 2.322e+03, tolerance: 2.749e+02\n",
      "  model = cd_fast.enet_coordinate_descent(\n"
     ]
    }
   ],
   "source": [
    "\n",
    "elastic_regression_results = do_regression(Brain_Data_allsubs, get_prediction = do_ElasticNet)\n"
   ]
  },
  {
   "cell_type": "code",
   "execution_count": 42,
   "id": "caring-heavy",
   "metadata": {},
   "outputs": [
    {
     "data": {
      "text/plain": [
       "(0.878319374933286, 3.7499713555839137e-53)"
      ]
     },
     "execution_count": 42,
     "metadata": {},
     "output_type": "execute_result"
    },
    {
     "data": {
      "image/png": "[encoded data removed]",
      "text/plain": [
       "<Figure size 432x288 with 1 Axes>"
      ]
     },
     "metadata": {
      "needs_background": "light"
     },
     "output_type": "display_data"
    }
   ],
   "source": [
    "\n",
    "scatter(elastic_regression_results['sample_wise']['target_y'],elastic_regression_results['sample_wise']['pred_y'])\n",
    "pearsonr(elastic_regression_results['sample_wise']['target_y'],elastic_regression_results['sample_wise']['pred_y'])"
   ]
  },
  {
   "cell_type": "markdown",
   "id": "cordless-ribbon",
   "metadata": {},
   "source": [
    "OK, of the three (Ridge, Elastic, Lasso), Lasso performs best on the dummy data, so we'll use that."
   ]
  },
  {
   "cell_type": "markdown",
   "id": "announced-gasoline",
   "metadata": {},
   "source": [
    "## PCA?"
   ]
  },
  {
   "cell_type": "markdown",
   "id": "passing-mouse",
   "metadata": {},
   "source": [
    "## odd anti-correlated pattern--need to investigate this!"
   ]
  },
  {
   "cell_type": "code",
   "execution_count": 18,
   "id": "assisted-deviation",
   "metadata": {},
   "outputs": [],
   "source": [
    "brain_data_filepath = ml_data_folderpath + '/SST/mvpa_Dataset_conditions_84subs_correct_cond.pkl'\n",
    "with open(brain_data_filepath, 'rb') as pkl_file:\n",
    "    Brain_Data_allsubs = pickle.load(pkl_file)"
   ]
  },
  {
   "cell_type": "code",
   "execution_count": 67,
   "id": "armed-mustang",
   "metadata": {},
   "outputs": [
    {
     "data": {
      "text/plain": [
       "4"
      ]
     },
     "execution_count": 67,
     "metadata": {},
     "output_type": "execute_result"
    }
   ],
   "source": [
    "abs(-4)"
   ]
  },
  {
   "cell_type": "code",
   "execution_count": 68,
   "id": "corrected-equality",
   "metadata": {},
   "outputs": [],
   "source": [
    "def do_regression(dataset,normalization=None,get_prediction=None,verbose=False):\n",
    "    if get_prediction is None:\n",
    "        get_prediction = do_Ridge\n",
    "    logo=LeaveOneGroupOut()\n",
    "\n",
    "    group_scores = {}\n",
    "    sample_wise_results = []\n",
    "\n",
    "    items_to_eliminate_count = np.sum(np.isnan(dataset.sa.targets))\n",
    "    items_total = len(dataset.sa.targets)\n",
    "    print(\"eliminating \" + str(items_to_eliminate_count) + \" of \" + \n",
    "          str(items_total) + \" items due to null input values.\")\n",
    "    \n",
    "    dataset=dataset[np.isnan(dataset.sa.targets)==False]\n",
    "    \n",
    "    #ensure data is normalized\n",
    "    if abs(np.nanmean(dataset.sa.targets)>0.001):\n",
    "        raise Exception(\"target data is not mean-centred, but mean centering is required.\")\n",
    "\n",
    "    for train_index, test_index in logo.split(\n",
    "        dataset.samples, dataset.sa.targets, dataset.sa.chunks):\n",
    "        iteration_label = np.unique(dataset.sa.chunks[test_index])[0]\n",
    "\n",
    "        #print(iteration_label, \"; TRAIN:\", len(train_index), \" items; TEST:\", test_index)\n",
    "        print(\".\",end=\"\",flush=True)\n",
    "\n",
    "        #do train-test split\n",
    "        train_X=dataset.samples[train_index]\n",
    "        test_X = dataset.samples[test_index]\n",
    "        train_y=dataset.sa.targets[train_index]\n",
    "        test_y = dataset.sa.targets[test_index]\n",
    "        #clf_svc = SVC()\n",
    "        \n",
    "        if normalization==\"train_set_based\":\n",
    "            #get mean based on train set alone\n",
    "            voxel_mean = np.mean(train_X,axis=0)\n",
    "            voxel_sd = np.std(train_X,axis=0)\n",
    "            #apply it to all.\n",
    "            train_X=(train_X-voxel_mean)/voxel_sd\n",
    "            test_X=(test_X-voxel_mean)/voxel_sd\n",
    "            #print(\"normalizing\")\n",
    "#         print(train_y)\n",
    "#         print(test_y)\n",
    "        predict_y, sklearn_clf = get_prediction(train_X,train_y,test_X,test_y)\n",
    "        \n",
    "        sample_wise_results_iter = pd.DataFrame({\n",
    "            'chunks':[iteration_label]*len(test_y),\n",
    "            'target_y':test_y,\n",
    "            'pred_y':predict_y,\n",
    "        })\n",
    "            \n",
    "        sample_wise_results = sample_wise_results + [sample_wise_results_iter]\n",
    "        \n",
    "    #need to create one more classifier to return.\n",
    "    #we test and train on the same here, which is OK, because we don't use this to assess performance\n",
    "    y_predict, model_final =get_prediction(\n",
    "        dataset.samples,dataset.sa.targets,dataset.samples,dataset.sa.targets)\n",
    "            \n",
    "    sample_wise_results_df = pd.concat(sample_wise_results)\n",
    "    return({'sample_wise':sample_wise_results_df,#'group_wise':group_scores,\n",
    "            'model':model_final})\n"
   ]
  },
  {
   "cell_type": "code",
   "execution_count": 71,
   "id": "copyrighted-ladder",
   "metadata": {},
   "outputs": [
    {
     "name": "stdout",
     "output_type": "stream",
     "text": [
      "TESQ_E_distraction\n"
     ]
    },
    {
     "ename": "ValueError",
     "evalue": "Collectable 'targets' with length [81] does not match the required length [162] of collection '<SampleAttributesCollection: ACES_abuse,ACES_divorced_separated,ACES_household_dysfunction,ACES_neglectful_parenting,ACES_sum,BFI_agreeableness,BFI_conscientiousness,BFI_extraversion,BFI_neurotici...>'.",
     "output_type": "error",
     "traceback": [
      "\u001b[0;31m---------------------------------------------------------------------------\u001b[0m",
      "\u001b[0;31mValueError\u001b[0m                                Traceback (most recent call last)",
      "Input \u001b[0;32mIn [71]\u001b[0m, in \u001b[0;36m<module>\u001b[0;34m\u001b[0m\n\u001b[1;32m      2\u001b[0m \u001b[38;5;28;01mfor\u001b[39;00m regression_var \u001b[38;5;129;01min\u001b[39;00m [\n\u001b[1;32m      3\u001b[0m     \u001b[38;5;124m'\u001b[39m\u001b[38;5;124mTESQ_E_distraction\u001b[39m\u001b[38;5;124m'\u001b[39m,\n\u001b[1;32m      4\u001b[0m     \u001b[38;5;124m'\u001b[39m\u001b[38;5;124mTESQ_E_goal_deliberation\u001b[39m\u001b[38;5;124m'\u001b[39m\n\u001b[0;32m   (...)\u001b[0m\n\u001b[1;32m      9\u001b[0m \u001b[38;5;66;03m#                        'bf_1','SST_SSRT'\u001b[39;00m\n\u001b[1;32m     10\u001b[0m                       ]:\n\u001b[1;32m     11\u001b[0m     \u001b[38;5;28mprint\u001b[39m(regression_var)\n\u001b[0;32m---> 12\u001b[0m     Brain_Data_allsubs \u001b[38;5;241m=\u001b[39m \u001b[43msetup_metadata\u001b[49m\u001b[43m(\u001b[49m\u001b[43mBrain_Data_allsubs\u001b[49m\u001b[43m,\u001b[49m\u001b[43mregression_var\u001b[49m\u001b[43m)\u001b[49m\n\u001b[1;32m     13\u001b[0m     regression_results \u001b[38;5;241m=\u001b[39m do_regression(Brain_Data_allsubs, get_prediction \u001b[38;5;241m=\u001b[39m do_Lasso)\n\u001b[1;32m     14\u001b[0m     regression_results_dict[regression_var] \u001b[38;5;241m=\u001b[39m regression_results\n",
      "Input \u001b[0;32mIn [70]\u001b[0m, in \u001b[0;36msetup_metadata\u001b[0;34m(Brain_Data_allsubs, target_val)\u001b[0m\n\u001b[1;32m      9\u001b[0m target_data_std \u001b[38;5;241m=\u001b[39m np\u001b[38;5;241m.\u001b[39mnanstd(target_data)\n\u001b[1;32m     10\u001b[0m target_data_norm \u001b[38;5;241m=\u001b[39m (Brain_Data_CorrectStop\u001b[38;5;241m.\u001b[39mtargets\u001b[38;5;241m-\u001b[39mtarget_data_mean)\u001b[38;5;241m/\u001b[39mtarget_data_std\n\u001b[0;32m---> 11\u001b[0m Brain_Data_allsubs\u001b[38;5;241m.\u001b[39msa[\u001b[38;5;124m'\u001b[39m\u001b[38;5;124mtargets\u001b[39m\u001b[38;5;124m'\u001b[39m] \u001b[38;5;241m=\u001b[39m \u001b[38;5;28mlist\u001b[39m(target_data_norm)\n\u001b[1;32m     12\u001b[0m \u001b[38;5;28;01mreturn\u001b[39;00m(Brain_Data_allsubs)\n",
      "File \u001b[0;32m~/.conda/envs/py3_mvpa/lib/python3.8/site-packages/mvpa2/base/collections.py:592\u001b[0m, in \u001b[0;36mUniformLengthCollection.__setitem__\u001b[0;34m(self, key, value)\u001b[0m\n\u001b[1;32m    590\u001b[0m     ulength \u001b[38;5;241m=\u001b[39m \u001b[38;5;28mlen\u001b[39m(value)\n\u001b[1;32m    591\u001b[0m \u001b[38;5;28;01melif\u001b[39;00m \u001b[38;5;129;01mnot\u001b[39;00m \u001b[38;5;28mlen\u001b[39m(value\u001b[38;5;241m.\u001b[39mvalue) \u001b[38;5;241m==\u001b[39m ulength:\n\u001b[0;32m--> 592\u001b[0m     \u001b[38;5;28;01mraise\u001b[39;00m \u001b[38;5;167;01mValueError\u001b[39;00m(\u001b[38;5;124m\"\u001b[39m\u001b[38;5;124mCollectable \u001b[39m\u001b[38;5;124m'\u001b[39m\u001b[38;5;132;01m%s\u001b[39;00m\u001b[38;5;124m'\u001b[39m\u001b[38;5;124m with length [\u001b[39m\u001b[38;5;132;01m%i\u001b[39;00m\u001b[38;5;124m] does not match \u001b[39m\u001b[38;5;124m\"\u001b[39m\n\u001b[1;32m    593\u001b[0m                      \u001b[38;5;124m\"\u001b[39m\u001b[38;5;124mthe required length [\u001b[39m\u001b[38;5;132;01m%i\u001b[39;00m\u001b[38;5;124m] of collection \u001b[39m\u001b[38;5;124m'\u001b[39m\u001b[38;5;132;01m%s\u001b[39;00m\u001b[38;5;124m'\u001b[39m\u001b[38;5;124m.\u001b[39m\u001b[38;5;124m\"\u001b[39m\n\u001b[1;32m    594\u001b[0m                      \u001b[38;5;241m%\u001b[39m (key,\n\u001b[1;32m    595\u001b[0m                         \u001b[38;5;28mlen\u001b[39m(value\u001b[38;5;241m.\u001b[39mvalue),\n\u001b[1;32m    596\u001b[0m                         ulength,\n\u001b[1;32m    597\u001b[0m                         \u001b[38;5;28mstr\u001b[39m(\u001b[38;5;28mself\u001b[39m)))\n\u001b[1;32m    598\u001b[0m \u001b[38;5;66;03m# tell the attribute to maintain the desired length\u001b[39;00m\n\u001b[1;32m    599\u001b[0m value\u001b[38;5;241m.\u001b[39mset_length_check(ulength)\n",
      "\u001b[0;31mValueError\u001b[0m: Collectable 'targets' with length [81] does not match the required length [162] of collection '<SampleAttributesCollection: ACES_abuse,ACES_divorced_separated,ACES_household_dysfunction,ACES_neglectful_parenting,ACES_sum,BFI_agreeableness,BFI_conscientiousness,BFI_extraversion,BFI_neurotici...>'."
     ]
    }
   ],
   "source": [
    "regression_results_dict = {}\n",
    "for regression_var in [\n",
    "    'TESQ_E_distraction',\n",
    "    'TESQ_E_goal_deliberation'\n",
    "    #,\n",
    "#     'TESQ_E_sum', 'TESQ_E_avoidance_of_temptations',\n",
    "#                        'TESQ_E_goal_deliberation',\n",
    "#                        'TESQ_E_goal_and_rule_setting','TESQ_E_suppression',\n",
    "#                        'bf_1','SST_SSRT'\n",
    "                      ]:\n",
    "    print(regression_var)\n",
    "    Brain_Data_allsubs = setup_metadata(Brain_Data_allsubs,regression_var)\n",
    "    regression_results = do_regression(Brain_Data_allsubs, get_prediction = do_Lasso)\n",
    "    regression_results_dict[regression_var] = regression_results\n",
    "    print(pearsonr(regression_results['sample_wise']['target_y'],regression_results['sample_wise']['pred_y']))\n",
    "    print(\"---\")"
   ]
  },
  {
   "cell_type": "markdown",
   "id": "polyphonic-attachment",
   "metadata": {},
   "source": [
    "Is it entirely limited to trying to predict CorrectSTop and CorrectGo simultaneously, in which they consistently have the same output var?\n",
    "\n",
    "If they do, then it _must_ optimize on features that _are_ related to TESQ-E but have _nothing_ to do with differences between correct stop and correct go.\n",
    "\n",
    "But it's doing one worse than that, it's somehow optimizing on the opposite, and underperforming."
   ]
  },
  {
   "cell_type": "markdown",
   "id": "serial-shelter",
   "metadata": {},
   "source": [
    "### CorrectStop only"
   ]
  },
  {
   "cell_type": "code",
   "execution_count": 25,
   "id": "passive-venture",
   "metadata": {},
   "outputs": [],
   "source": [
    "Brain_Data_CorrectStop = Brain_Data_allsubs[Brain_Data_allsubs.sa.condition_label=='CorrectStop']"
   ]
  },
  {
   "cell_type": "code",
   "execution_count": 29,
   "id": "gothic-voice",
   "metadata": {},
   "outputs": [],
   "source": [
    "from sklearn.linear_model import Lasso\n",
    "def do_Lasso(train_X,train_y,test_X,test_y):\n",
    "    sklearn_regress = Lasso(alpha=5.0)\n",
    "    \n",
    "    sklearn_regress.fit(train_X, train_y)\n",
    "    \n",
    "    predict_y = sklearn_regress.predict(test_X)\n",
    "    print(predict_y,test_y,end=\", \")\n",
    "    return(predict_y,sklearn_regress)"
   ]
  },
  {
   "cell_type": "code",
   "execution_count": 30,
   "id": "external-utilization",
   "metadata": {},
   "outputs": [
    {
     "name": "stdout",
     "output_type": "stream",
     "text": [
      "TESQ_E_distraction\n",
      "eliminating 6 of 81 items due to null input values.\n",
      ".[8.040541] [8.], .[8.] [11.], .[8.054054] [7.], .[8.081081] [5.], .[8.040541] [8.], .[7.9864864] [12.], .[8.054054] [7.], .[8.040541] [8.], .[8.067568] [6.], .[8.040541] [8.], .[8.081081] [5.], .[7.972973] [13.], .[8.027027] [9.], .[7.972973] [13.], .[8.081081] [5.], .[8.054054] [7.], .[8.054054] [7.], .[8.013514] [10.], .[8.067568] [6.], .[8.067568] [6.], .[7.9459457] [15.], .[8.] [11.], .[8.081081] [5.], .[8.081081] [5.], .[8.054054] [7.], .[7.9594593] [14.], .[8.054054] [7.], .[8.054054] [7.], .[8.054054] [7.], .[8.081081] [5.], .[8.054054] [7.], .[8.067568] [6.], .[8.081081] [5.], .[8.054054] [7.], .[8.027027] [9.], .[7.972973] [13.], .[8.040541] [8.], .[8.040541] [8.], .[8.040541] [8.], .[8.054054] [7.], .[8.040541] [8.], .[8.040541] [8.], .[8.] [11.], .[8.067568] [6.], .[8.054054] [7.], .[8.] [11.], .[8.054054] [7.], .[7.9864864] [12.], .[8.067568] [6.], .[8.081081] [5.], .[8.027027] [9.], .[8.067568] [6.], .[8.067568] [6.], .[7.9864864] [12.], .[8.] [11.], .[8.040541] [8.], .[8.] [11.], .[8.094595] [4.], .[8.054054] [7.], .[8.054054] [7.], .[8.013514] [10.], .[8.067568] [6.], .[8.] [11.], .[8.013514] [10.], .[8.040541] [8.], .[8.054054] [7.], .[8.] [11.], .[8.094595] [4.], .[8.054054] [7.], .[8.013514] [10.], .[8.013514] [10.], .[8.094595] [4.], .[8.067568] [6.], .[8.054054] [7.], .[8.040541] [8.], [8.04 8.04 8.04 8.04 8.04 8.04 8.04 8.04 8.04 8.04 8.04 8.04 8.04 8.04\n",
      " 8.04 8.04 8.04 8.04 8.04 8.04 8.04 8.04 8.04 8.04 8.04 8.04 8.04 8.04\n",
      " 8.04 8.04 8.04 8.04 8.04 8.04 8.04 8.04 8.04 8.04 8.04 8.04 8.04 8.04\n",
      " 8.04 8.04 8.04 8.04 8.04 8.04 8.04 8.04 8.04 8.04 8.04 8.04 8.04 8.04\n",
      " 8.04 8.04 8.04 8.04 8.04 8.04 8.04 8.04 8.04 8.04 8.04 8.04 8.04 8.04\n",
      " 8.04 8.04 8.04 8.04 8.04] [ 8. 11.  7.  5.  8. 12.  7.  8.  6.  8.  5. 13.  9. 13.  5.  7.  7. 10.\n",
      "  6.  6. 15. 11.  5.  5.  7. 14.  7.  7.  7.  5.  7.  6.  5.  7.  9. 13.\n",
      "  8.  8.  8.  7.  8.  8. 11.  6.  7. 11.  7. 12.  6.  5.  9.  6.  6. 12.\n",
      " 11.  8. 11.  4.  7.  7. 10.  6. 11. 10.  8.  7. 11.  4.  7. 10. 10.  4.\n",
      "  6.  7.  8.], (-0.9999999999999999, 0.0)\n",
      "---\n",
      "TESQ_E_goal_deliberation\n",
      "eliminating 6 of 81 items due to null input values.\n",
      ".[9.337838] [6.], .[9.27027] [11.], .[9.337838] [6.], .[9.337838] [6.], .[9.27027] [11.], .[9.22973] [14.], .[9.310811] [8.], .[9.256757] [12.], .[9.310811] [8.], .[9.256757] [12.], .[9.324325] [7.], .[9.256757] [12.], .[9.324325] [7.], .[9.310811] [8.], .[9.310811] [8.], .[9.2972975] [9.], .[9.27027] [11.], .[9.324325] [7.], .[9.2972975] [9.], .[9.337838] [6.], .[9.243243] [13.], .[9.256757] [12.], .[9.337838] [6.], .[9.283784] [10.], .[9.324325] [7.], .[9.256757] [12.], .[9.351352] [5.], .[9.27027] [11.], .[9.256757] [12.], .[9.27027] [11.], .[9.324325] [7.], .[9.337838] [6.], .[9.324325] [7.], .[9.324325] [7.], .[9.2027025] [16.], .[9.22973] [14.], .[9.283784] [10.], .[9.256757] [12.], .[9.256757] [12.], .[9.283784] [10.], .[9.256757] [12.], .[9.310811] [8.], .[9.283784] [10.], .[9.310811] [8.], .[9.310811] [8.], .[9.324325] [7.], .[9.2972975] [9.], .[9.2972975] [9.], .[9.310811] [8.], .[9.310811] [8.], .[9.256757] [12.], .[9.2972975] [9.], .[9.2972975] [9.], .[9.310811] [8.], .[9.283784] [10.], .[9.364865] [4.], .[9.2972975] [9.], .[9.310811] [8.], .[9.216216] [15.], .[9.310811] [8.], .[9.256757] [12.], .[9.310811] [8.], .[9.27027] [11.], .[9.283784] [10.], .[9.283784] [10.], .[9.283784] [10.], .[9.27027] [11.], .[9.351352] [5.], .[9.256757] [12.], .[9.310811] [8.], .[9.256757] [12.], .[9.2972975] [9.], .[9.310811] [8.], .[9.337838] [6.], .[9.310811] [8.], [9.293333 9.293333 9.293333 9.293333 9.293333 9.293333 9.293333 9.293333\n",
      " 9.293333 9.293333 9.293333 9.293333 9.293333 9.293333 9.293333 9.293333\n",
      " 9.293333 9.293333 9.293333 9.293333 9.293333 9.293333 9.293333 9.293333\n",
      " 9.293333 9.293333 9.293333 9.293333 9.293333 9.293333 9.293333 9.293333\n",
      " 9.293333 9.293333 9.293333 9.293333 9.293333 9.293333 9.293333 9.293333\n",
      " 9.293333 9.293333 9.293333 9.293333 9.293333 9.293333 9.293333 9.293333\n",
      " 9.293333 9.293333 9.293333 9.293333 9.293333 9.293333 9.293333 9.293333\n",
      " 9.293333 9.293333 9.293333 9.293333 9.293333 9.293333 9.293333 9.293333\n",
      " 9.293333 9.293333 9.293333 9.293333 9.293333 9.293333 9.293333 9.293333\n",
      " 9.293333 9.293333 9.293333] [ 6. 11.  6.  6. 11. 14.  8. 12.  8. 12.  7. 12.  7.  8.  8.  9. 11.  7.\n",
      "  9.  6. 13. 12.  6. 10.  7. 12.  5. 11. 12. 11.  7.  6.  7.  7. 16. 14.\n",
      " 10. 12. 12. 10. 12.  8. 10.  8.  8.  7.  9.  9.  8.  8. 12.  9.  9.  8.\n",
      " 10.  4.  9.  8. 15.  8. 12.  8. 11. 10. 10. 10. 11.  5. 12.  8. 12.  9.\n",
      "  8.  6.  8.], (-0.9999999999999998, 0.0)\n",
      "---\n"
     ]
    }
   ],
   "source": [
    "regression_results_dict = {}\n",
    "for regression_var in [\n",
    "    'TESQ_E_distraction',\n",
    "    'TESQ_E_goal_deliberation'\n",
    "    #,\n",
    "#     'TESQ_E_sum', 'TESQ_E_avoidance_of_temptations',\n",
    "#                        'TESQ_E_goal_deliberation',\n",
    "#                        'TESQ_E_goal_and_rule_setting','TESQ_E_suppression',\n",
    "#                        'bf_1','SST_SSRT'\n",
    "                      ]:\n",
    "    print(regression_var)\n",
    "    Brain_Data_CorrectStop = setup_metadata(Brain_Data_CorrectStop,regression_var)\n",
    "    regression_results = do_regression(Brain_Data_CorrectStop, get_prediction = do_Lasso)\n",
    "    regression_results_dict[regression_var] = regression_results\n",
    "    print(pearsonr(regression_results['sample_wise']['target_y'],regression_results['sample_wise']['pred_y']))\n",
    "    print(\"---\")"
   ]
  },
  {
   "cell_type": "code",
   "execution_count": 31,
   "id": "perfect-mount",
   "metadata": {},
   "outputs": [
    {
     "data": {
      "text/plain": [
       "{'sample_wise':       chunks  target_y    pred_y\n",
       " 0   DEV005_1       8.0  8.040541\n",
       " 0   DEV006_1      11.0  8.000000\n",
       " 0   DEV010_1       7.0  8.054054\n",
       " 0   DEV011_1       5.0  8.081081\n",
       " 0   DEV013_1       8.0  8.040541\n",
       " ..       ...       ...       ...\n",
       " 0   DEV197_1      10.0  8.013514\n",
       " 0   DEV206_1       4.0  8.094595\n",
       " 0   DEV215_1       6.0  8.067568\n",
       " 0   DEV216_1       7.0  8.054054\n",
       " 0   DEV217_1       8.0  8.040541\n",
       " \n",
       " [75 rows x 3 columns],\n",
       " 'model': Lasso(alpha=5.0)}"
      ]
     },
     "execution_count": 31,
     "metadata": {},
     "output_type": "execute_result"
    }
   ],
   "source": [
    "regression_results_dict['TESQ_E_distraction']"
   ]
  },
  {
   "cell_type": "code",
   "execution_count": 32,
   "id": "following-rough",
   "metadata": {},
   "outputs": [
    {
     "data": {
      "text/plain": [
       "<matplotlib.collections.PathCollection at 0x2aaaf9bb8b50>"
      ]
     },
     "execution_count": 32,
     "metadata": {},
     "output_type": "execute_result"
    },
    {
     "data": {
      "image/png": "[encoded data removed]",
      "text/plain": [
       "<Figure size 432x288 with 1 Axes>"
      ]
     },
     "metadata": {
      "needs_background": "light"
     },
     "output_type": "display_data"
    }
   ],
   "source": [
    "from matplotlib.pyplot import scatter\n",
    "rr = regression_results_dict['TESQ_E_distraction']\n",
    "scatter(rr['sample_wise']['target_y'],rr['sample_wise']['pred_y'])"
   ]
  },
  {
   "cell_type": "markdown",
   "id": "lasting-laptop",
   "metadata": {},
   "source": [
    "really odd!! Has the CorrectStop X integrated Y somehow?"
   ]
  },
  {
   "cell_type": "code",
   "execution_count": 40,
   "id": "cellular-eugene",
   "metadata": {},
   "outputs": [
    {
     "data": {
      "text/html": [
       "<div>\n",
       "<style scoped>\n",
       "    .dataframe tbody tr th:only-of-type {\n",
       "        vertical-align: middle;\n",
       "    }\n",
       "\n",
       "    .dataframe tbody tr th {\n",
       "        vertical-align: top;\n",
       "    }\n",
       "\n",
       "    .dataframe thead th {\n",
       "        text-align: right;\n",
       "    }\n",
       "</style>\n",
       "<table border=\"1\" class=\"dataframe\">\n",
       "  <thead>\n",
       "    <tr style=\"text-align: right;\">\n",
       "      <th></th>\n",
       "      <th>targets</th>\n",
       "      <th>TESQ_E_goal_deliberation</th>\n",
       "    </tr>\n",
       "  </thead>\n",
       "  <tbody>\n",
       "    <tr>\n",
       "      <th>1</th>\n",
       "      <td>6.0</td>\n",
       "      <td>6.0</td>\n",
       "    </tr>\n",
       "    <tr>\n",
       "      <th>3</th>\n",
       "      <td>11.0</td>\n",
       "      <td>11.0</td>\n",
       "    </tr>\n",
       "    <tr>\n",
       "      <th>5</th>\n",
       "      <td>6.0</td>\n",
       "      <td>6.0</td>\n",
       "    </tr>\n",
       "    <tr>\n",
       "      <th>7</th>\n",
       "      <td>6.0</td>\n",
       "      <td>6.0</td>\n",
       "    </tr>\n",
       "    <tr>\n",
       "      <th>9</th>\n",
       "      <td>11.0</td>\n",
       "      <td>11.0</td>\n",
       "    </tr>\n",
       "    <tr>\n",
       "      <th>...</th>\n",
       "      <td>...</td>\n",
       "      <td>...</td>\n",
       "    </tr>\n",
       "    <tr>\n",
       "      <th>153</th>\n",
       "      <td>9.0</td>\n",
       "      <td>9.0</td>\n",
       "    </tr>\n",
       "    <tr>\n",
       "      <th>155</th>\n",
       "      <td>8.0</td>\n",
       "      <td>8.0</td>\n",
       "    </tr>\n",
       "    <tr>\n",
       "      <th>157</th>\n",
       "      <td>6.0</td>\n",
       "      <td>6.0</td>\n",
       "    </tr>\n",
       "    <tr>\n",
       "      <th>159</th>\n",
       "      <td>8.0</td>\n",
       "      <td>8.0</td>\n",
       "    </tr>\n",
       "    <tr>\n",
       "      <th>161</th>\n",
       "      <td>NaN</td>\n",
       "      <td>NaN</td>\n",
       "    </tr>\n",
       "  </tbody>\n",
       "</table>\n",
       "<p>81 rows × 2 columns</p>\n",
       "</div>"
      ],
      "text/plain": [
       "     targets  TESQ_E_goal_deliberation\n",
       "1        6.0                       6.0\n",
       "3       11.0                      11.0\n",
       "5        6.0                       6.0\n",
       "7        6.0                       6.0\n",
       "9       11.0                      11.0\n",
       "..       ...                       ...\n",
       "153      9.0                       9.0\n",
       "155      8.0                       8.0\n",
       "157      6.0                       6.0\n",
       "159      8.0                       8.0\n",
       "161      NaN                       NaN\n",
       "\n",
       "[81 rows x 2 columns]"
      ]
     },
     "execution_count": 40,
     "metadata": {},
     "output_type": "execute_result"
    }
   ],
   "source": [
    "sa_to_df(Brain_Data_CorrectStop.sa)[['targets','TESQ_E_goal_deliberation']]"
   ]
  },
  {
   "cell_type": "code",
   "execution_count": 45,
   "id": "changed-highlight",
   "metadata": {},
   "outputs": [
    {
     "name": "stdout",
     "output_type": "stream",
     "text": [
      "eliminating 6 of 81 items due to null input values.\n",
      "[9.293333 9.293333 9.293333 9.293333 9.293333 9.293333 9.293333 9.293333\n",
      " 9.293333 9.293333 9.293333 9.293333 9.293333 9.293333 9.293333 9.293333\n",
      " 9.293333 9.293333 9.293333 9.293333 9.293333 9.293333 9.293333 9.293333\n",
      " 9.293333 9.293333 9.293333 9.293333 9.293333 9.293333 9.293333 9.293333\n",
      " 9.293333 9.293333 9.293333 9.293333 9.293333 9.293333 9.293333 9.293333\n",
      " 9.293333 9.293333 9.293333 9.293333 9.293333 9.293333 9.293333 9.293333\n",
      " 9.293333 9.293333 9.293333 9.293333 9.293333 9.293333 9.293333 9.293333\n",
      " 9.293333 9.293333 9.293333 9.293333 9.293333 9.293333 9.293333 9.293333\n",
      " 9.293333 9.293333 9.293333 9.293333 9.293333 9.293333 9.293333 9.293333\n",
      " 9.293333 9.293333 9.293333] [ 6. 11.  6.  6. 11. 14.  8. 12.  8. 12.  7. 12.  7.  8.  8.  9. 11.  7.\n",
      "  9.  6. 13. 12.  6. 10.  7. 12.  5. 11. 12. 11.  7.  6.  7.  7. 16. 14.\n",
      " 10. 12. 12. 10. 12.  8. 10.  8.  8.  7.  9.  9.  8.  8. 12.  9.  9.  8.\n",
      " 10.  4.  9.  8. 15.  8. 12.  8. 11. 10. 10. 10. 11.  5. 12.  8. 12.  9.\n",
      "  8.  6.  8.], "
     ]
    }
   ],
   "source": [
    "dataset= Brain_Data_CorrectStop\n",
    "items_to_eliminate_count = np.sum(np.isnan(dataset.sa.targets))\n",
    "items_total = len(dataset.sa.targets)\n",
    "print(\"eliminating \" + str(items_to_eliminate_count) + \" of \" + \n",
    "      str(items_total) + \" items due to null input values.\")\n",
    "\n",
    "dataset=dataset[np.isnan(dataset.sa.targets)==False]\n",
    "\n",
    "\n",
    "y_predict, model_final = do_Lasso(\n",
    "    dataset.samples,dataset.sa.targets,dataset.samples,dataset.sa.targets)"
   ]
  },
  {
   "cell_type": "code",
   "execution_count": 47,
   "id": "humanitarian-surveillance",
   "metadata": {},
   "outputs": [
    {
     "data": {
      "text/plain": [
       "<matplotlib.collections.PathCollection at 0x2aaafe4adca0>"
      ]
     },
     "execution_count": 47,
     "metadata": {},
     "output_type": "execute_result"
    },
    {
     "data": {
      "image/png": "[encoded data removed]",
      "text/plain": [
       "<Figure size 432x288 with 1 Axes>"
      ]
     },
     "metadata": {
      "needs_background": "light"
     },
     "output_type": "display_data"
    }
   ],
   "source": [
    "scatter(y_predict,dataset.sa.targets)"
   ]
  },
  {
   "cell_type": "markdown",
   "id": "complicated-senior",
   "metadata": {},
   "source": [
    "hmmm okay, that suggest the lasso function is totally lost, if it's predicting the same output for every target...?"
   ]
  },
  {
   "cell_type": "markdown",
   "id": "northern-reference",
   "metadata": {},
   "source": [
    "Two separate questions:\n",
    "\n",
    " - when we run single predictor, over ALL items, it spits out the _same_ score for every single image\n",
    " - when we run LOOCV, it spits out scores almost perfectly _anticorrelated_ with the training data.\n",
    " - The correlation must come from the adjustment of the intercept, because I can't see any other reason that it is somehow perfectly obtaining the test dataset."
   ]
  },
  {
   "cell_type": "code",
   "execution_count": 50,
   "id": "opposite-probe",
   "metadata": {},
   "outputs": [],
   "source": [
    "def do_regression(dataset,normalization=None,get_prediction=None,verbose=False):\n",
    "    if get_prediction is None:\n",
    "        get_prediction = do_Ridge\n",
    "    logo=LeaveOneGroupOut()\n",
    "\n",
    "    group_scores = {}\n",
    "    sample_wise_results = []\n",
    "\n",
    "    items_to_eliminate_count = np.sum(np.isnan(dataset.sa.targets))\n",
    "    items_total = len(dataset.sa.targets)\n",
    "    print(\"eliminating \" + str(items_to_eliminate_count) + \" of \" + \n",
    "          str(items_total) + \" items due to null input values.\")\n",
    "    \n",
    "    dataset=dataset[np.isnan(dataset.sa.targets)==False]\n",
    "\n",
    "    for train_index, test_index in logo.split(\n",
    "        dataset.samples, dataset.sa.targets, dataset.sa.chunks):\n",
    "        iteration_label = np.unique(dataset.sa.chunks[test_index])[0]\n",
    "\n",
    "        #print(iteration_label, \"; TRAIN:\", len(train_index), \" items; TEST:\", test_index)\n",
    "        print(\".\",end=\"\",flush=True)\n",
    "\n",
    "        #do train-test split\n",
    "        train_X=dataset.samples[train_index]\n",
    "        test_X = dataset.samples[test_index]\n",
    "        train_y=dataset.sa.targets[train_index]\n",
    "        test_y = dataset.sa.targets[test_index]\n",
    "        #clf_svc = SVC()\n",
    "        \n",
    "        if normalization==\"train_set_based\":\n",
    "            #get mean based on train set alone\n",
    "            voxel_mean = np.mean(train_X,axis=0)\n",
    "            voxel_sd = np.std(train_X,axis=0)\n",
    "            #apply it to all.\n",
    "            train_X=(train_X-voxel_mean)/voxel_sd\n",
    "            test_X=(test_X-voxel_mean)/voxel_sd\n",
    "            #print(\"normalizing\")\n",
    "#         print(train_y)\n",
    "#         print(test_y)\n",
    "        predict_y, sklearn_clf = get_prediction(train_X,train_y,test_X,test_y)\n",
    "        \n",
    "        sample_wise_results_iter = pd.DataFrame({\n",
    "            'chunks':[iteration_label]*len(test_y),\n",
    "            'target_y':test_y,\n",
    "            'pred_y':predict_y,\n",
    "        })\n",
    "            \n",
    "        sample_wise_results = sample_wise_results + [sample_wise_results_iter]\n",
    "        \n",
    "    #need to create one more classifier to return.\n",
    "    #we test and train on the same here, which is OK, because we don't use this to assess performance\n",
    "    y_predict, model_final =get_prediction(\n",
    "        dataset.samples,dataset.sa.targets,dataset.samples,dataset.sa.targets)\n",
    "            \n",
    "    sample_wise_results_df = pd.concat(sample_wise_results)\n",
    "    return({'sample_wise':sample_wise_results_df,#'group_wise':group_scores,\n",
    "            'model':model_final})\n"
   ]
  },
  {
   "cell_type": "code",
   "execution_count": 49,
   "id": "nutritional-gilbert",
   "metadata": {},
   "outputs": [],
   "source": [
    "from sklearn.linear_model import Lasso\n",
    "def do_Lasso(train_X,train_y,test_X,test_y):\n",
    "    sklearn_regress = Lasso(alpha=5.0)\n",
    "    \n",
    "    sklearn_regress.fit(train_X, train_y)\n",
    "    predict_train_y = sklearn_regress.predict(train_X)\n",
    "    print(pd.DataFrame({\n",
    "        'prediction_y':predict_train_y,\n",
    "        'train_y': train_y\n",
    "    }))\n",
    "    predict_y = sklearn_regress.predict(test_X)\n",
    "    print(predict_y,test_y,end=\", \")\n",
    "    return(predict_y,sklearn_regress)"
   ]
  },
  {
   "cell_type": "code",
   "execution_count": 53,
   "id": "blessed-department",
   "metadata": {},
   "outputs": [
    {
     "name": "stdout",
     "output_type": "stream",
     "text": [
      "TESQ_E_goal_deliberation\n",
      "eliminating 6 of 81 items due to null input values.\n",
      ".    prediction_y  train_y\n",
      "0       9.337838     11.0\n",
      "1       9.337838      6.0\n",
      "2       9.337838      6.0\n",
      "3       9.337838     11.0\n",
      "4       9.337838     14.0\n",
      "..           ...      ...\n",
      "69      9.337838     12.0\n",
      "70      9.337838      9.0\n",
      "71      9.337838      8.0\n",
      "72      9.337838      6.0\n",
      "73      9.337838      8.0\n",
      "\n",
      "[74 rows x 2 columns]\n",
      "[9.337838] [6.], .    prediction_y  train_y\n",
      "0        9.27027      6.0\n",
      "1        9.27027      6.0\n",
      "2        9.27027      6.0\n",
      "3        9.27027     11.0\n",
      "4        9.27027     14.0\n",
      "..           ...      ...\n",
      "69       9.27027     12.0\n",
      "70       9.27027      9.0\n",
      "71       9.27027      8.0\n",
      "72       9.27027      6.0\n",
      "73       9.27027      8.0\n",
      "\n",
      "[74 rows x 2 columns]\n",
      "[9.27027] [11.], .    prediction_y  train_y\n",
      "0       9.337838      6.0\n",
      "1       9.337838     11.0\n",
      "2       9.337838      6.0\n",
      "3       9.337838     11.0\n",
      "4       9.337838     14.0\n",
      "..           ...      ...\n",
      "69      9.337838     12.0\n",
      "70      9.337838      9.0\n",
      "71      9.337838      8.0\n",
      "72      9.337838      6.0\n",
      "73      9.337838      8.0\n",
      "\n",
      "[74 rows x 2 columns]\n",
      "[9.337838] [6.], .    prediction_y  train_y\n",
      "0       9.337838      6.0\n",
      "1       9.337838     11.0\n",
      "2       9.337838      6.0\n",
      "3       9.337838     11.0\n",
      "4       9.337838     14.0\n",
      "..           ...      ...\n",
      "69      9.337838     12.0\n",
      "70      9.337838      9.0\n",
      "71      9.337838      8.0\n",
      "72      9.337838      6.0\n",
      "73      9.337838      8.0\n",
      "\n",
      "[74 rows x 2 columns]\n",
      "[9.337838] [6.], .    prediction_y  train_y\n",
      "0        9.27027      6.0\n",
      "1        9.27027     11.0\n",
      "2        9.27027      6.0\n",
      "3        9.27027      6.0\n",
      "4        9.27027     14.0\n",
      "..           ...      ...\n",
      "69       9.27027     12.0\n",
      "70       9.27027      9.0\n",
      "71       9.27027      8.0\n",
      "72       9.27027      6.0\n",
      "73       9.27027      8.0\n",
      "\n",
      "[74 rows x 2 columns]\n",
      "[9.27027] [11.], .    prediction_y  train_y\n",
      "0        9.22973      6.0\n",
      "1        9.22973     11.0\n",
      "2        9.22973      6.0\n",
      "3        9.22973      6.0\n",
      "4        9.22973     11.0\n",
      "..           ...      ...\n",
      "69       9.22973     12.0\n",
      "70       9.22973      9.0\n",
      "71       9.22973      8.0\n",
      "72       9.22973      6.0\n",
      "73       9.22973      8.0\n",
      "\n",
      "[74 rows x 2 columns]\n",
      "[9.22973] [14.], .    prediction_y  train_y\n",
      "0       9.310811      6.0\n",
      "1       9.310811     11.0\n",
      "2       9.310811      6.0\n",
      "3       9.310811      6.0\n",
      "4       9.310811     11.0\n",
      "..           ...      ...\n",
      "69      9.310811     12.0\n",
      "70      9.310811      9.0\n",
      "71      9.310811      8.0\n",
      "72      9.310811      6.0\n",
      "73      9.310811      8.0\n",
      "\n",
      "[74 rows x 2 columns]\n",
      "[9.310811] [8.], .    prediction_y  train_y\n",
      "0       9.256757      6.0\n",
      "1       9.256757     11.0\n",
      "2       9.256757      6.0\n",
      "3       9.256757      6.0\n",
      "4       9.256757     11.0\n",
      "..           ...      ...\n",
      "69      9.256757     12.0\n",
      "70      9.256757      9.0\n",
      "71      9.256757      8.0\n",
      "72      9.256757      6.0\n",
      "73      9.256757      8.0\n",
      "\n",
      "[74 rows x 2 columns]\n",
      "[9.256757] [12.], .    prediction_y  train_y\n",
      "0       9.310811      6.0\n",
      "1       9.310811     11.0\n",
      "2       9.310811      6.0\n",
      "3       9.310811      6.0\n",
      "4       9.310811     11.0\n",
      "..           ...      ...\n",
      "69      9.310811     12.0\n",
      "70      9.310811      9.0\n",
      "71      9.310811      8.0\n",
      "72      9.310811      6.0\n",
      "73      9.310811      8.0\n",
      "\n",
      "[74 rows x 2 columns]\n",
      "[9.310811] [8.], .    prediction_y  train_y\n",
      "0       9.256757      6.0\n",
      "1       9.256757     11.0\n",
      "2       9.256757      6.0\n",
      "3       9.256757      6.0\n",
      "4       9.256757     11.0\n",
      "..           ...      ...\n",
      "69      9.256757     12.0\n",
      "70      9.256757      9.0\n",
      "71      9.256757      8.0\n",
      "72      9.256757      6.0\n",
      "73      9.256757      8.0\n",
      "\n",
      "[74 rows x 2 columns]\n",
      "[9.256757] [12.], .    prediction_y  train_y\n",
      "0       9.324325      6.0\n",
      "1       9.324325     11.0\n",
      "2       9.324325      6.0\n",
      "3       9.324325      6.0\n",
      "4       9.324325     11.0\n",
      "..           ...      ...\n",
      "69      9.324325     12.0\n",
      "70      9.324325      9.0\n",
      "71      9.324325      8.0\n",
      "72      9.324325      6.0\n",
      "73      9.324325      8.0\n",
      "\n",
      "[74 rows x 2 columns]\n",
      "[9.324325] [7.], .    prediction_y  train_y\n",
      "0       9.256757      6.0\n",
      "1       9.256757     11.0\n",
      "2       9.256757      6.0\n",
      "3       9.256757      6.0\n",
      "4       9.256757     11.0\n",
      "..           ...      ...\n",
      "69      9.256757     12.0\n",
      "70      9.256757      9.0\n",
      "71      9.256757      8.0\n",
      "72      9.256757      6.0\n",
      "73      9.256757      8.0\n",
      "\n",
      "[74 rows x 2 columns]\n",
      "[9.256757] [12.], .    prediction_y  train_y\n",
      "0       9.324325      6.0\n",
      "1       9.324325     11.0\n",
      "2       9.324325      6.0\n",
      "3       9.324325      6.0\n",
      "4       9.324325     11.0\n",
      "..           ...      ...\n",
      "69      9.324325     12.0\n",
      "70      9.324325      9.0\n",
      "71      9.324325      8.0\n",
      "72      9.324325      6.0\n",
      "73      9.324325      8.0\n",
      "\n",
      "[74 rows x 2 columns]\n",
      "[9.324325] [7.], .    prediction_y  train_y\n",
      "0       9.310811      6.0\n",
      "1       9.310811     11.0\n",
      "2       9.310811      6.0\n",
      "3       9.310811      6.0\n",
      "4       9.310811     11.0\n",
      "..           ...      ...\n",
      "69      9.310811     12.0\n",
      "70      9.310811      9.0\n",
      "71      9.310811      8.0\n",
      "72      9.310811      6.0\n",
      "73      9.310811      8.0\n",
      "\n",
      "[74 rows x 2 columns]\n",
      "[9.310811] [8.], .    prediction_y  train_y\n",
      "0       9.310811      6.0\n",
      "1       9.310811     11.0\n",
      "2       9.310811      6.0\n",
      "3       9.310811      6.0\n",
      "4       9.310811     11.0\n",
      "..           ...      ...\n",
      "69      9.310811     12.0\n",
      "70      9.310811      9.0\n",
      "71      9.310811      8.0\n",
      "72      9.310811      6.0\n",
      "73      9.310811      8.0\n",
      "\n",
      "[74 rows x 2 columns]\n",
      "[9.310811] [8.], .    prediction_y  train_y\n",
      "0       9.297297      6.0\n",
      "1       9.297297     11.0\n",
      "2       9.297297      6.0\n",
      "3       9.297297      6.0\n",
      "4       9.297297     11.0\n",
      "..           ...      ...\n",
      "69      9.297297     12.0\n",
      "70      9.297297      9.0\n",
      "71      9.297297      8.0\n",
      "72      9.297297      6.0\n",
      "73      9.297297      8.0\n",
      "\n",
      "[74 rows x 2 columns]\n",
      "[9.2972975] [9.], .    prediction_y  train_y\n",
      "0        9.27027      6.0\n",
      "1        9.27027     11.0\n",
      "2        9.27027      6.0\n",
      "3        9.27027      6.0\n",
      "4        9.27027     11.0\n",
      "..           ...      ...\n",
      "69       9.27027     12.0\n",
      "70       9.27027      9.0\n",
      "71       9.27027      8.0\n",
      "72       9.27027      6.0\n",
      "73       9.27027      8.0\n",
      "\n",
      "[74 rows x 2 columns]\n",
      "[9.27027] [11.], .    prediction_y  train_y\n",
      "0       9.324325      6.0\n",
      "1       9.324325     11.0\n",
      "2       9.324325      6.0\n",
      "3       9.324325      6.0\n",
      "4       9.324325     11.0\n",
      "..           ...      ...\n",
      "69      9.324325     12.0\n",
      "70      9.324325      9.0\n",
      "71      9.324325      8.0\n",
      "72      9.324325      6.0\n",
      "73      9.324325      8.0\n",
      "\n",
      "[74 rows x 2 columns]\n",
      "[9.324325] [7.], .    prediction_y  train_y\n",
      "0       9.297297      6.0\n",
      "1       9.297297     11.0\n",
      "2       9.297297      6.0\n",
      "3       9.297297      6.0\n",
      "4       9.297297     11.0\n",
      "..           ...      ...\n",
      "69      9.297297     12.0\n",
      "70      9.297297      9.0\n",
      "71      9.297297      8.0\n",
      "72      9.297297      6.0\n",
      "73      9.297297      8.0\n",
      "\n",
      "[74 rows x 2 columns]\n",
      "[9.2972975] [9.], .    prediction_y  train_y\n",
      "0       9.337838      6.0\n",
      "1       9.337838     11.0\n",
      "2       9.337838      6.0\n",
      "3       9.337838      6.0\n",
      "4       9.337838     11.0\n",
      "..           ...      ...\n",
      "69      9.337838     12.0\n",
      "70      9.337838      9.0\n",
      "71      9.337838      8.0\n",
      "72      9.337838      6.0\n",
      "73      9.337838      8.0\n",
      "\n",
      "[74 rows x 2 columns]\n",
      "[9.337838] [6.], .    prediction_y  train_y\n",
      "0       9.243243      6.0\n",
      "1       9.243243     11.0\n",
      "2       9.243243      6.0\n",
      "3       9.243243      6.0\n",
      "4       9.243243     11.0\n",
      "..           ...      ...\n",
      "69      9.243243     12.0\n",
      "70      9.243243      9.0\n",
      "71      9.243243      8.0\n",
      "72      9.243243      6.0\n",
      "73      9.243243      8.0\n",
      "\n",
      "[74 rows x 2 columns]\n",
      "[9.243243] [13.], .    prediction_y  train_y\n",
      "0       9.256757      6.0\n",
      "1       9.256757     11.0\n",
      "2       9.256757      6.0\n",
      "3       9.256757      6.0\n",
      "4       9.256757     11.0\n",
      "..           ...      ...\n",
      "69      9.256757     12.0\n",
      "70      9.256757      9.0\n",
      "71      9.256757      8.0\n",
      "72      9.256757      6.0\n",
      "73      9.256757      8.0\n",
      "\n",
      "[74 rows x 2 columns]\n",
      "[9.256757] [12.], .    prediction_y  train_y\n",
      "0       9.337838      6.0\n",
      "1       9.337838     11.0\n",
      "2       9.337838      6.0\n",
      "3       9.337838      6.0\n",
      "4       9.337838     11.0\n",
      "..           ...      ...\n",
      "69      9.337838     12.0\n",
      "70      9.337838      9.0\n",
      "71      9.337838      8.0\n",
      "72      9.337838      6.0\n",
      "73      9.337838      8.0\n",
      "\n",
      "[74 rows x 2 columns]\n"
     ]
    },
    {
     "name": "stdout",
     "output_type": "stream",
     "text": [
      "[9.337838] [6.], .    prediction_y  train_y\n",
      "0       9.283784      6.0\n",
      "1       9.283784     11.0\n",
      "2       9.283784      6.0\n",
      "3       9.283784      6.0\n",
      "4       9.283784     11.0\n",
      "..           ...      ...\n",
      "69      9.283784     12.0\n",
      "70      9.283784      9.0\n",
      "71      9.283784      8.0\n",
      "72      9.283784      6.0\n",
      "73      9.283784      8.0\n",
      "\n",
      "[74 rows x 2 columns]\n",
      "[9.283784] [10.], .    prediction_y  train_y\n",
      "0       9.324325      6.0\n",
      "1       9.324325     11.0\n",
      "2       9.324325      6.0\n",
      "3       9.324325      6.0\n",
      "4       9.324325     11.0\n",
      "..           ...      ...\n",
      "69      9.324325     12.0\n",
      "70      9.324325      9.0\n",
      "71      9.324325      8.0\n",
      "72      9.324325      6.0\n",
      "73      9.324325      8.0\n",
      "\n",
      "[74 rows x 2 columns]\n",
      "[9.324325] [7.], .    prediction_y  train_y\n",
      "0       9.256757      6.0\n",
      "1       9.256757     11.0\n",
      "2       9.256757      6.0\n",
      "3       9.256757      6.0\n",
      "4       9.256757     11.0\n",
      "..           ...      ...\n",
      "69      9.256757     12.0\n",
      "70      9.256757      9.0\n",
      "71      9.256757      8.0\n",
      "72      9.256757      6.0\n",
      "73      9.256757      8.0\n",
      "\n",
      "[74 rows x 2 columns]\n",
      "[9.256757] [12.], .    prediction_y  train_y\n",
      "0       9.351352      6.0\n",
      "1       9.351352     11.0\n",
      "2       9.351352      6.0\n",
      "3       9.351352      6.0\n",
      "4       9.351352     11.0\n",
      "..           ...      ...\n",
      "69      9.351352     12.0\n",
      "70      9.351352      9.0\n",
      "71      9.351352      8.0\n",
      "72      9.351352      6.0\n",
      "73      9.351352      8.0\n",
      "\n",
      "[74 rows x 2 columns]\n",
      "[9.351352] [5.], .    prediction_y  train_y\n",
      "0        9.27027      6.0\n",
      "1        9.27027     11.0\n",
      "2        9.27027      6.0\n",
      "3        9.27027      6.0\n",
      "4        9.27027     11.0\n",
      "..           ...      ...\n",
      "69       9.27027     12.0\n",
      "70       9.27027      9.0\n",
      "71       9.27027      8.0\n",
      "72       9.27027      6.0\n",
      "73       9.27027      8.0\n",
      "\n",
      "[74 rows x 2 columns]\n",
      "[9.27027] [11.], .    prediction_y  train_y\n",
      "0       9.256757      6.0\n",
      "1       9.256757     11.0\n",
      "2       9.256757      6.0\n",
      "3       9.256757      6.0\n",
      "4       9.256757     11.0\n",
      "..           ...      ...\n",
      "69      9.256757     12.0\n",
      "70      9.256757      9.0\n",
      "71      9.256757      8.0\n",
      "72      9.256757      6.0\n",
      "73      9.256757      8.0\n",
      "\n",
      "[74 rows x 2 columns]\n",
      "[9.256757] [12.], .    prediction_y  train_y\n",
      "0        9.27027      6.0\n",
      "1        9.27027     11.0\n",
      "2        9.27027      6.0\n",
      "3        9.27027      6.0\n",
      "4        9.27027     11.0\n",
      "..           ...      ...\n",
      "69       9.27027     12.0\n",
      "70       9.27027      9.0\n",
      "71       9.27027      8.0\n",
      "72       9.27027      6.0\n",
      "73       9.27027      8.0\n",
      "\n",
      "[74 rows x 2 columns]\n",
      "[9.27027] [11.], .    prediction_y  train_y\n",
      "0       9.324325      6.0\n",
      "1       9.324325     11.0\n",
      "2       9.324325      6.0\n",
      "3       9.324325      6.0\n",
      "4       9.324325     11.0\n",
      "..           ...      ...\n",
      "69      9.324325     12.0\n",
      "70      9.324325      9.0\n",
      "71      9.324325      8.0\n",
      "72      9.324325      6.0\n",
      "73      9.324325      8.0\n",
      "\n",
      "[74 rows x 2 columns]\n",
      "[9.324325] [7.], .    prediction_y  train_y\n",
      "0       9.337838      6.0\n",
      "1       9.337838     11.0\n",
      "2       9.337838      6.0\n",
      "3       9.337838      6.0\n",
      "4       9.337838     11.0\n",
      "..           ...      ...\n",
      "69      9.337838     12.0\n",
      "70      9.337838      9.0\n",
      "71      9.337838      8.0\n",
      "72      9.337838      6.0\n",
      "73      9.337838      8.0\n",
      "\n",
      "[74 rows x 2 columns]\n",
      "[9.337838] [6.], .    prediction_y  train_y\n",
      "0       9.324325      6.0\n",
      "1       9.324325     11.0\n",
      "2       9.324325      6.0\n",
      "3       9.324325      6.0\n",
      "4       9.324325     11.0\n",
      "..           ...      ...\n",
      "69      9.324325     12.0\n",
      "70      9.324325      9.0\n",
      "71      9.324325      8.0\n",
      "72      9.324325      6.0\n",
      "73      9.324325      8.0\n",
      "\n",
      "[74 rows x 2 columns]\n",
      "[9.324325] [7.], .    prediction_y  train_y\n",
      "0       9.324325      6.0\n",
      "1       9.324325     11.0\n",
      "2       9.324325      6.0\n",
      "3       9.324325      6.0\n",
      "4       9.324325     11.0\n",
      "..           ...      ...\n",
      "69      9.324325     12.0\n",
      "70      9.324325      9.0\n",
      "71      9.324325      8.0\n",
      "72      9.324325      6.0\n",
      "73      9.324325      8.0\n",
      "\n",
      "[74 rows x 2 columns]\n",
      "[9.324325] [7.], .    prediction_y  train_y\n",
      "0       9.202703      6.0\n",
      "1       9.202703     11.0\n",
      "2       9.202703      6.0\n",
      "3       9.202703      6.0\n",
      "4       9.202703     11.0\n",
      "..           ...      ...\n",
      "69      9.202703     12.0\n",
      "70      9.202703      9.0\n",
      "71      9.202703      8.0\n",
      "72      9.202703      6.0\n",
      "73      9.202703      8.0\n",
      "\n",
      "[74 rows x 2 columns]\n",
      "[9.2027025] [16.], .    prediction_y  train_y\n",
      "0        9.22973      6.0\n",
      "1        9.22973     11.0\n",
      "2        9.22973      6.0\n",
      "3        9.22973      6.0\n",
      "4        9.22973     11.0\n",
      "..           ...      ...\n",
      "69       9.22973     12.0\n",
      "70       9.22973      9.0\n",
      "71       9.22973      8.0\n",
      "72       9.22973      6.0\n",
      "73       9.22973      8.0\n",
      "\n",
      "[74 rows x 2 columns]\n",
      "[9.22973] [14.], .    prediction_y  train_y\n",
      "0       9.283784      6.0\n",
      "1       9.283784     11.0\n",
      "2       9.283784      6.0\n",
      "3       9.283784      6.0\n",
      "4       9.283784     11.0\n",
      "..           ...      ...\n",
      "69      9.283784     12.0\n",
      "70      9.283784      9.0\n",
      "71      9.283784      8.0\n",
      "72      9.283784      6.0\n",
      "73      9.283784      8.0\n",
      "\n",
      "[74 rows x 2 columns]\n",
      "[9.283784] [10.], .    prediction_y  train_y\n",
      "0       9.256757      6.0\n",
      "1       9.256757     11.0\n",
      "2       9.256757      6.0\n",
      "3       9.256757      6.0\n",
      "4       9.256757     11.0\n",
      "..           ...      ...\n",
      "69      9.256757     12.0\n",
      "70      9.256757      9.0\n",
      "71      9.256757      8.0\n",
      "72      9.256757      6.0\n",
      "73      9.256757      8.0\n",
      "\n",
      "[74 rows x 2 columns]\n",
      "[9.256757] [12.], .    prediction_y  train_y\n",
      "0       9.256757      6.0\n",
      "1       9.256757     11.0\n",
      "2       9.256757      6.0\n",
      "3       9.256757      6.0\n",
      "4       9.256757     11.0\n",
      "..           ...      ...\n",
      "69      9.256757     12.0\n",
      "70      9.256757      9.0\n",
      "71      9.256757      8.0\n",
      "72      9.256757      6.0\n",
      "73      9.256757      8.0\n",
      "\n",
      "[74 rows x 2 columns]\n",
      "[9.256757] [12.], .    prediction_y  train_y\n",
      "0       9.283784      6.0\n",
      "1       9.283784     11.0\n",
      "2       9.283784      6.0\n",
      "3       9.283784      6.0\n",
      "4       9.283784     11.0\n",
      "..           ...      ...\n",
      "69      9.283784     12.0\n",
      "70      9.283784      9.0\n",
      "71      9.283784      8.0\n",
      "72      9.283784      6.0\n",
      "73      9.283784      8.0\n",
      "\n",
      "[74 rows x 2 columns]\n",
      "[9.283784] [10.], .    prediction_y  train_y\n",
      "0       9.256757      6.0\n",
      "1       9.256757     11.0\n",
      "2       9.256757      6.0\n",
      "3       9.256757      6.0\n",
      "4       9.256757     11.0\n",
      "..           ...      ...\n",
      "69      9.256757     12.0\n",
      "70      9.256757      9.0\n",
      "71      9.256757      8.0\n",
      "72      9.256757      6.0\n",
      "73      9.256757      8.0\n",
      "\n",
      "[74 rows x 2 columns]\n",
      "[9.256757] [12.], .    prediction_y  train_y\n",
      "0       9.310811      6.0\n",
      "1       9.310811     11.0\n",
      "2       9.310811      6.0\n",
      "3       9.310811      6.0\n",
      "4       9.310811     11.0\n",
      "..           ...      ...\n",
      "69      9.310811     12.0\n",
      "70      9.310811      9.0\n",
      "71      9.310811      8.0\n",
      "72      9.310811      6.0\n",
      "73      9.310811      8.0\n",
      "\n",
      "[74 rows x 2 columns]\n",
      "[9.310811] [8.], .    prediction_y  train_y\n",
      "0       9.283784      6.0\n",
      "1       9.283784     11.0\n",
      "2       9.283784      6.0\n",
      "3       9.283784      6.0\n",
      "4       9.283784     11.0\n",
      "..           ...      ...\n",
      "69      9.283784     12.0\n",
      "70      9.283784      9.0\n",
      "71      9.283784      8.0\n",
      "72      9.283784      6.0\n",
      "73      9.283784      8.0\n",
      "\n",
      "[74 rows x 2 columns]\n",
      "[9.283784] [10.], .    prediction_y  train_y\n",
      "0       9.310811      6.0\n",
      "1       9.310811     11.0\n",
      "2       9.310811      6.0\n",
      "3       9.310811      6.0\n",
      "4       9.310811     11.0\n",
      "..           ...      ...\n",
      "69      9.310811     12.0\n",
      "70      9.310811      9.0\n",
      "71      9.310811      8.0\n",
      "72      9.310811      6.0\n",
      "73      9.310811      8.0\n",
      "\n",
      "[74 rows x 2 columns]\n",
      "[9.310811] [8.], .    prediction_y  train_y\n",
      "0       9.310811      6.0\n",
      "1       9.310811     11.0\n",
      "2       9.310811      6.0\n",
      "3       9.310811      6.0\n",
      "4       9.310811     11.0\n",
      "..           ...      ...\n",
      "69      9.310811     12.0\n",
      "70      9.310811      9.0\n",
      "71      9.310811      8.0\n",
      "72      9.310811      6.0\n",
      "73      9.310811      8.0\n",
      "\n",
      "[74 rows x 2 columns]\n",
      "[9.310811] [8.], .    prediction_y  train_y\n",
      "0       9.324325      6.0\n",
      "1       9.324325     11.0\n",
      "2       9.324325      6.0\n",
      "3       9.324325      6.0\n",
      "4       9.324325     11.0\n",
      "..           ...      ...\n",
      "69      9.324325     12.0\n",
      "70      9.324325      9.0\n",
      "71      9.324325      8.0\n",
      "72      9.324325      6.0\n",
      "73      9.324325      8.0\n",
      "\n",
      "[74 rows x 2 columns]\n",
      "[9.324325] [7.], .    prediction_y  train_y\n",
      "0       9.297297      6.0\n",
      "1       9.297297     11.0\n",
      "2       9.297297      6.0\n",
      "3       9.297297      6.0\n",
      "4       9.297297     11.0\n",
      "..           ...      ...\n",
      "69      9.297297     12.0\n",
      "70      9.297297      9.0\n",
      "71      9.297297      8.0\n",
      "72      9.297297      6.0\n",
      "73      9.297297      8.0\n",
      "\n",
      "[74 rows x 2 columns]\n"
     ]
    },
    {
     "name": "stdout",
     "output_type": "stream",
     "text": [
      "[9.2972975] [9.], .    prediction_y  train_y\n",
      "0       9.297297      6.0\n",
      "1       9.297297     11.0\n",
      "2       9.297297      6.0\n",
      "3       9.297297      6.0\n",
      "4       9.297297     11.0\n",
      "..           ...      ...\n",
      "69      9.297297     12.0\n",
      "70      9.297297      9.0\n",
      "71      9.297297      8.0\n",
      "72      9.297297      6.0\n",
      "73      9.297297      8.0\n",
      "\n",
      "[74 rows x 2 columns]\n",
      "[9.2972975] [9.], .    prediction_y  train_y\n",
      "0       9.310811      6.0\n",
      "1       9.310811     11.0\n",
      "2       9.310811      6.0\n",
      "3       9.310811      6.0\n",
      "4       9.310811     11.0\n",
      "..           ...      ...\n",
      "69      9.310811     12.0\n",
      "70      9.310811      9.0\n",
      "71      9.310811      8.0\n",
      "72      9.310811      6.0\n",
      "73      9.310811      8.0\n",
      "\n",
      "[74 rows x 2 columns]\n",
      "[9.310811] [8.], .    prediction_y  train_y\n",
      "0       9.310811      6.0\n",
      "1       9.310811     11.0\n",
      "2       9.310811      6.0\n",
      "3       9.310811      6.0\n",
      "4       9.310811     11.0\n",
      "..           ...      ...\n",
      "69      9.310811     12.0\n",
      "70      9.310811      9.0\n",
      "71      9.310811      8.0\n",
      "72      9.310811      6.0\n",
      "73      9.310811      8.0\n",
      "\n",
      "[74 rows x 2 columns]\n",
      "[9.310811] [8.], .    prediction_y  train_y\n",
      "0       9.256757      6.0\n",
      "1       9.256757     11.0\n",
      "2       9.256757      6.0\n",
      "3       9.256757      6.0\n",
      "4       9.256757     11.0\n",
      "..           ...      ...\n",
      "69      9.256757     12.0\n",
      "70      9.256757      9.0\n",
      "71      9.256757      8.0\n",
      "72      9.256757      6.0\n",
      "73      9.256757      8.0\n",
      "\n",
      "[74 rows x 2 columns]\n",
      "[9.256757] [12.], .    prediction_y  train_y\n",
      "0       9.297297      6.0\n",
      "1       9.297297     11.0\n",
      "2       9.297297      6.0\n",
      "3       9.297297      6.0\n",
      "4       9.297297     11.0\n",
      "..           ...      ...\n",
      "69      9.297297     12.0\n",
      "70      9.297297      9.0\n",
      "71      9.297297      8.0\n",
      "72      9.297297      6.0\n",
      "73      9.297297      8.0\n",
      "\n",
      "[74 rows x 2 columns]\n",
      "[9.2972975] [9.], .    prediction_y  train_y\n",
      "0       9.297297      6.0\n",
      "1       9.297297     11.0\n",
      "2       9.297297      6.0\n",
      "3       9.297297      6.0\n",
      "4       9.297297     11.0\n",
      "..           ...      ...\n",
      "69      9.297297     12.0\n",
      "70      9.297297      9.0\n",
      "71      9.297297      8.0\n",
      "72      9.297297      6.0\n",
      "73      9.297297      8.0\n",
      "\n",
      "[74 rows x 2 columns]\n",
      "[9.2972975] [9.], .    prediction_y  train_y\n",
      "0       9.310811      6.0\n",
      "1       9.310811     11.0\n",
      "2       9.310811      6.0\n",
      "3       9.310811      6.0\n",
      "4       9.310811     11.0\n",
      "..           ...      ...\n",
      "69      9.310811     12.0\n",
      "70      9.310811      9.0\n",
      "71      9.310811      8.0\n",
      "72      9.310811      6.0\n",
      "73      9.310811      8.0\n",
      "\n",
      "[74 rows x 2 columns]\n",
      "[9.310811] [8.], .    prediction_y  train_y\n",
      "0       9.283784      6.0\n",
      "1       9.283784     11.0\n",
      "2       9.283784      6.0\n",
      "3       9.283784      6.0\n",
      "4       9.283784     11.0\n",
      "..           ...      ...\n",
      "69      9.283784     12.0\n",
      "70      9.283784      9.0\n",
      "71      9.283784      8.0\n",
      "72      9.283784      6.0\n",
      "73      9.283784      8.0\n",
      "\n",
      "[74 rows x 2 columns]\n",
      "[9.283784] [10.], .    prediction_y  train_y\n",
      "0       9.364865      6.0\n",
      "1       9.364865     11.0\n",
      "2       9.364865      6.0\n",
      "3       9.364865      6.0\n",
      "4       9.364865     11.0\n",
      "..           ...      ...\n",
      "69      9.364865     12.0\n",
      "70      9.364865      9.0\n",
      "71      9.364865      8.0\n",
      "72      9.364865      6.0\n",
      "73      9.364865      8.0\n",
      "\n",
      "[74 rows x 2 columns]\n",
      "[9.364865] [4.], .    prediction_y  train_y\n",
      "0       9.297297      6.0\n",
      "1       9.297297     11.0\n",
      "2       9.297297      6.0\n",
      "3       9.297297      6.0\n",
      "4       9.297297     11.0\n",
      "..           ...      ...\n",
      "69      9.297297     12.0\n",
      "70      9.297297      9.0\n",
      "71      9.297297      8.0\n",
      "72      9.297297      6.0\n",
      "73      9.297297      8.0\n",
      "\n",
      "[74 rows x 2 columns]\n",
      "[9.2972975] [9.], .    prediction_y  train_y\n",
      "0       9.310811      6.0\n",
      "1       9.310811     11.0\n",
      "2       9.310811      6.0\n",
      "3       9.310811      6.0\n",
      "4       9.310811     11.0\n",
      "..           ...      ...\n",
      "69      9.310811     12.0\n",
      "70      9.310811      9.0\n",
      "71      9.310811      8.0\n",
      "72      9.310811      6.0\n",
      "73      9.310811      8.0\n",
      "\n",
      "[74 rows x 2 columns]\n",
      "[9.310811] [8.], .    prediction_y  train_y\n",
      "0       9.216216      6.0\n",
      "1       9.216216     11.0\n",
      "2       9.216216      6.0\n",
      "3       9.216216      6.0\n",
      "4       9.216216     11.0\n",
      "..           ...      ...\n",
      "69      9.216216     12.0\n",
      "70      9.216216      9.0\n",
      "71      9.216216      8.0\n",
      "72      9.216216      6.0\n",
      "73      9.216216      8.0\n",
      "\n",
      "[74 rows x 2 columns]\n",
      "[9.216216] [15.], .    prediction_y  train_y\n",
      "0       9.310811      6.0\n",
      "1       9.310811     11.0\n",
      "2       9.310811      6.0\n",
      "3       9.310811      6.0\n",
      "4       9.310811     11.0\n",
      "..           ...      ...\n",
      "69      9.310811     12.0\n",
      "70      9.310811      9.0\n",
      "71      9.310811      8.0\n",
      "72      9.310811      6.0\n",
      "73      9.310811      8.0\n",
      "\n",
      "[74 rows x 2 columns]\n",
      "[9.310811] [8.], .    prediction_y  train_y\n",
      "0       9.256757      6.0\n",
      "1       9.256757     11.0\n",
      "2       9.256757      6.0\n",
      "3       9.256757      6.0\n",
      "4       9.256757     11.0\n",
      "..           ...      ...\n",
      "69      9.256757     12.0\n",
      "70      9.256757      9.0\n",
      "71      9.256757      8.0\n",
      "72      9.256757      6.0\n",
      "73      9.256757      8.0\n",
      "\n",
      "[74 rows x 2 columns]\n",
      "[9.256757] [12.], .    prediction_y  train_y\n",
      "0       9.310811      6.0\n",
      "1       9.310811     11.0\n",
      "2       9.310811      6.0\n",
      "3       9.310811      6.0\n",
      "4       9.310811     11.0\n",
      "..           ...      ...\n",
      "69      9.310811     12.0\n",
      "70      9.310811      9.0\n",
      "71      9.310811      8.0\n",
      "72      9.310811      6.0\n",
      "73      9.310811      8.0\n",
      "\n",
      "[74 rows x 2 columns]\n",
      "[9.310811] [8.], .    prediction_y  train_y\n",
      "0        9.27027      6.0\n",
      "1        9.27027     11.0\n",
      "2        9.27027      6.0\n",
      "3        9.27027      6.0\n",
      "4        9.27027     11.0\n",
      "..           ...      ...\n",
      "69       9.27027     12.0\n",
      "70       9.27027      9.0\n",
      "71       9.27027      8.0\n",
      "72       9.27027      6.0\n",
      "73       9.27027      8.0\n",
      "\n",
      "[74 rows x 2 columns]\n",
      "[9.27027] [11.], .    prediction_y  train_y\n",
      "0       9.283784      6.0\n",
      "1       9.283784     11.0\n",
      "2       9.283784      6.0\n",
      "3       9.283784      6.0\n",
      "4       9.283784     11.0\n",
      "..           ...      ...\n",
      "69      9.283784     12.0\n",
      "70      9.283784      9.0\n",
      "71      9.283784      8.0\n",
      "72      9.283784      6.0\n",
      "73      9.283784      8.0\n",
      "\n",
      "[74 rows x 2 columns]\n",
      "[9.283784] [10.], .    prediction_y  train_y\n",
      "0       9.283784      6.0\n",
      "1       9.283784     11.0\n",
      "2       9.283784      6.0\n",
      "3       9.283784      6.0\n",
      "4       9.283784     11.0\n",
      "..           ...      ...\n",
      "69      9.283784     12.0\n",
      "70      9.283784      9.0\n",
      "71      9.283784      8.0\n",
      "72      9.283784      6.0\n",
      "73      9.283784      8.0\n",
      "\n",
      "[74 rows x 2 columns]\n",
      "[9.283784] [10.], .    prediction_y  train_y\n",
      "0       9.283784      6.0\n",
      "1       9.283784     11.0\n",
      "2       9.283784      6.0\n",
      "3       9.283784      6.0\n",
      "4       9.283784     11.0\n",
      "..           ...      ...\n",
      "69      9.283784     12.0\n",
      "70      9.283784      9.0\n",
      "71      9.283784      8.0\n",
      "72      9.283784      6.0\n",
      "73      9.283784      8.0\n",
      "\n",
      "[74 rows x 2 columns]\n",
      "[9.283784] [10.], .    prediction_y  train_y\n",
      "0        9.27027      6.0\n",
      "1        9.27027     11.0\n",
      "2        9.27027      6.0\n",
      "3        9.27027      6.0\n",
      "4        9.27027     11.0\n",
      "..           ...      ...\n",
      "69       9.27027     12.0\n",
      "70       9.27027      9.0\n",
      "71       9.27027      8.0\n",
      "72       9.27027      6.0\n",
      "73       9.27027      8.0\n",
      "\n",
      "[74 rows x 2 columns]\n",
      "[9.27027] [11.], .    prediction_y  train_y\n",
      "0       9.351352      6.0\n",
      "1       9.351352     11.0\n",
      "2       9.351352      6.0\n",
      "3       9.351352      6.0\n",
      "4       9.351352     11.0\n",
      "..           ...      ...\n",
      "69      9.351352     12.0\n",
      "70      9.351352      9.0\n",
      "71      9.351352      8.0\n",
      "72      9.351352      6.0\n",
      "73      9.351352      8.0\n",
      "\n",
      "[74 rows x 2 columns]\n",
      "[9.351352] [5.], .    prediction_y  train_y\n",
      "0       9.256757      6.0\n",
      "1       9.256757     11.0\n",
      "2       9.256757      6.0\n",
      "3       9.256757      6.0\n",
      "4       9.256757     11.0\n",
      "..           ...      ...\n",
      "69      9.256757     12.0\n",
      "70      9.256757      9.0\n",
      "71      9.256757      8.0\n",
      "72      9.256757      6.0\n",
      "73      9.256757      8.0\n",
      "\n",
      "[74 rows x 2 columns]\n",
      "[9.256757] [12.], .    prediction_y  train_y\n",
      "0       9.310811      6.0\n",
      "1       9.310811     11.0\n",
      "2       9.310811      6.0\n",
      "3       9.310811      6.0\n",
      "4       9.310811     11.0\n",
      "..           ...      ...\n",
      "69      9.310811     12.0\n",
      "70      9.310811      9.0\n",
      "71      9.310811      8.0\n",
      "72      9.310811      6.0\n",
      "73      9.310811      8.0\n",
      "\n",
      "[74 rows x 2 columns]\n",
      "[9.310811] [8.], .    prediction_y  train_y\n",
      "0       9.256757      6.0\n",
      "1       9.256757     11.0\n",
      "2       9.256757      6.0\n",
      "3       9.256757      6.0\n",
      "4       9.256757     11.0\n",
      "..           ...      ...\n",
      "69      9.256757      8.0\n",
      "70      9.256757      9.0\n",
      "71      9.256757      8.0\n",
      "72      9.256757      6.0\n",
      "73      9.256757      8.0\n",
      "\n",
      "[74 rows x 2 columns]\n"
     ]
    },
    {
     "name": "stdout",
     "output_type": "stream",
     "text": [
      "[9.256757] [12.], .    prediction_y  train_y\n",
      "0       9.297297      6.0\n",
      "1       9.297297     11.0\n",
      "2       9.297297      6.0\n",
      "3       9.297297      6.0\n",
      "4       9.297297     11.0\n",
      "..           ...      ...\n",
      "69      9.297297      8.0\n",
      "70      9.297297     12.0\n",
      "71      9.297297      8.0\n",
      "72      9.297297      6.0\n",
      "73      9.297297      8.0\n",
      "\n",
      "[74 rows x 2 columns]\n",
      "[9.2972975] [9.], .    prediction_y  train_y\n",
      "0       9.310811      6.0\n",
      "1       9.310811     11.0\n",
      "2       9.310811      6.0\n",
      "3       9.310811      6.0\n",
      "4       9.310811     11.0\n",
      "..           ...      ...\n",
      "69      9.310811      8.0\n",
      "70      9.310811     12.0\n",
      "71      9.310811      9.0\n",
      "72      9.310811      6.0\n",
      "73      9.310811      8.0\n",
      "\n",
      "[74 rows x 2 columns]\n",
      "[9.310811] [8.], .    prediction_y  train_y\n",
      "0       9.337838      6.0\n",
      "1       9.337838     11.0\n",
      "2       9.337838      6.0\n",
      "3       9.337838      6.0\n",
      "4       9.337838     11.0\n",
      "..           ...      ...\n",
      "69      9.337838      8.0\n",
      "70      9.337838     12.0\n",
      "71      9.337838      9.0\n",
      "72      9.337838      8.0\n",
      "73      9.337838      8.0\n",
      "\n",
      "[74 rows x 2 columns]\n",
      "[9.337838] [6.], .    prediction_y  train_y\n",
      "0       9.310811      6.0\n",
      "1       9.310811     11.0\n",
      "2       9.310811      6.0\n",
      "3       9.310811      6.0\n",
      "4       9.310811     11.0\n",
      "..           ...      ...\n",
      "69      9.310811      8.0\n",
      "70      9.310811     12.0\n",
      "71      9.310811      9.0\n",
      "72      9.310811      8.0\n",
      "73      9.310811      6.0\n",
      "\n",
      "[74 rows x 2 columns]\n",
      "[9.310811] [8.],     prediction_y  train_y\n",
      "0       9.293333      6.0\n",
      "1       9.293333     11.0\n",
      "2       9.293333      6.0\n",
      "3       9.293333      6.0\n",
      "4       9.293333     11.0\n",
      "..           ...      ...\n",
      "70      9.293333     12.0\n",
      "71      9.293333      9.0\n",
      "72      9.293333      8.0\n",
      "73      9.293333      6.0\n",
      "74      9.293333      8.0\n",
      "\n",
      "[75 rows x 2 columns]\n",
      "[9.293333 9.293333 9.293333 9.293333 9.293333 9.293333 9.293333 9.293333\n",
      " 9.293333 9.293333 9.293333 9.293333 9.293333 9.293333 9.293333 9.293333\n",
      " 9.293333 9.293333 9.293333 9.293333 9.293333 9.293333 9.293333 9.293333\n",
      " 9.293333 9.293333 9.293333 9.293333 9.293333 9.293333 9.293333 9.293333\n",
      " 9.293333 9.293333 9.293333 9.293333 9.293333 9.293333 9.293333 9.293333\n",
      " 9.293333 9.293333 9.293333 9.293333 9.293333 9.293333 9.293333 9.293333\n",
      " 9.293333 9.293333 9.293333 9.293333 9.293333 9.293333 9.293333 9.293333\n",
      " 9.293333 9.293333 9.293333 9.293333 9.293333 9.293333 9.293333 9.293333\n",
      " 9.293333 9.293333 9.293333 9.293333 9.293333 9.293333 9.293333 9.293333\n",
      " 9.293333 9.293333 9.293333] [ 6. 11.  6.  6. 11. 14.  8. 12.  8. 12.  7. 12.  7.  8.  8.  9. 11.  7.\n",
      "  9.  6. 13. 12.  6. 10.  7. 12.  5. 11. 12. 11.  7.  6.  7.  7. 16. 14.\n",
      " 10. 12. 12. 10. 12.  8. 10.  8.  8.  7.  9.  9.  8.  8. 12.  9.  9.  8.\n",
      " 10.  4.  9.  8. 15.  8. 12.  8. 11. 10. 10. 10. 11.  5. 12.  8. 12.  9.\n",
      "  8.  6.  8.], (-0.9999999999999998, 0.0)\n",
      "---\n"
     ]
    }
   ],
   "source": [
    "regression_results_dict = {}\n",
    "for regression_var in [\n",
    "    'TESQ_E_goal_deliberation'\n",
    "    #,\n",
    "#     'TESQ_E_sum', 'TESQ_E_avoidance_of_temptations',\n",
    "#                        'TESQ_E_goal_deliberation',\n",
    "#                        'TESQ_E_goal_and_rule_setting','TESQ_E_suppression',\n",
    "#                        'bf_1','SST_SSRT'\n",
    "                      ]:\n",
    "    print(regression_var)\n",
    "    Brain_Data_CorrectStop = setup_metadata(Brain_Data_CorrectStop,regression_var)\n",
    "    regression_results = do_regression(Brain_Data_CorrectStop, get_prediction = do_Lasso)\n",
    "    regression_results_dict[regression_var] = regression_results\n",
    "    print(pearsonr(regression_results['sample_wise']['target_y'],regression_results['sample_wise']['pred_y']))\n",
    "    print(\"---\")"
   ]
  },
  {
   "cell_type": "markdown",
   "id": "speaking-division",
   "metadata": {},
   "source": [
    "That's probably it--it's probably doing some kind of intercept adjustment..."
   ]
  },
  {
   "cell_type": "code",
   "execution_count": 58,
   "id": "variable-announcement",
   "metadata": {},
   "outputs": [],
   "source": [
    "from sklearn.linear_model import Lasso\n",
    "def do_Lasso_no_intercept(train_X,train_y,test_X,test_y):\n",
    "    sklearn_regress = Lasso(alpha=5.0,fit_intercept=False)\n",
    "    \n",
    "    sklearn_regress.fit(train_X, train_y)\n",
    "    predict_train_y = sklearn_regress.predict(train_X)\n",
    "    print(pd.DataFrame({\n",
    "        'prediction_y':predict_train_y,\n",
    "        'train_y': train_y\n",
    "    }))\n",
    "    predict_y = sklearn_regress.predict(test_X)\n",
    "    print(predict_y,test_y,end=\", \")\n",
    "    return(predict_y,sklearn_regress)"
   ]
  },
  {
   "cell_type": "code",
   "execution_count": 59,
   "id": "average-ceramic",
   "metadata": {},
   "outputs": [
    {
     "name": "stdout",
     "output_type": "stream",
     "text": [
      "TESQ_E_goal_deliberation\n",
      "eliminating 6 of 81 items due to null input values.\n",
      ".    prediction_y  train_y\n",
      "0       6.131403     11.0\n",
      "1       6.087667      6.0\n",
      "2       4.091197      6.0\n",
      "3       5.933305     11.0\n",
      "4       8.954374     14.0\n",
      "..           ...      ...\n",
      "69      3.969534     12.0\n",
      "70      6.444103      9.0\n",
      "71      7.436653      8.0\n",
      "72      8.938215      6.0\n",
      "73      5.567523      8.0\n",
      "\n",
      "[74 rows x 2 columns]\n",
      "[1.8044276] [6.], .    prediction_y  train_y\n",
      "0       2.688902      6.0\n",
      "1       5.868124      6.0\n",
      "2       4.163959      6.0\n",
      "3       6.120960     11.0\n",
      "4       8.447811     14.0\n",
      "..           ...      ...\n",
      "69      3.945163     12.0\n",
      "70      7.032325      9.0\n",
      "71      7.966966      8.0\n",
      "72      8.910761      6.0\n",
      "73      5.754028      8.0\n",
      "\n",
      "[74 rows x 2 columns]\n",
      "[4.7604933] [11.], .    prediction_y  train_y\n",
      "0       2.211436      6.0\n",
      "1       5.915698     11.0\n",
      "2       4.285947      6.0\n",
      "3       6.063834     11.0\n",
      "4       8.776013     14.0\n",
      "..           ...      ...\n",
      "69      3.944636     12.0\n",
      "70      6.633552      9.0\n",
      "71      7.721484      8.0\n",
      "72      9.022001      6.0\n",
      "73      5.681347      8.0\n",
      "\n",
      "[74 rows x 2 columns]\n",
      "[6.0764904] [6.], .    prediction_y  train_y\n",
      "0       2.120705      6.0\n",
      "1       5.854526     11.0\n",
      "2       6.096337      6.0\n",
      "3       5.944467     11.0\n",
      "4       8.732542     14.0\n",
      "..           ...      ...\n",
      "69      3.936760     12.0\n",
      "70      6.543748      9.0\n",
      "71      7.626427      8.0\n",
      "72      8.970671      6.0\n",
      "73      5.615052      8.0\n",
      "\n",
      "[74 rows x 2 columns]\n",
      "[4.009999] [6.], .    prediction_y  train_y\n",
      "0       1.994513      6.0\n",
      "1       6.038623     11.0\n",
      "2       5.853433      6.0\n",
      "3       3.914521      6.0\n",
      "4       8.849207     14.0\n",
      "..           ...      ...\n",
      "69      4.117278     12.0\n",
      "70      6.595436      9.0\n",
      "71      7.258916      8.0\n",
      "72      8.414267      6.0\n",
      "73      5.682670      8.0\n",
      "\n",
      "[74 rows x 2 columns]\n",
      "[4.6516805] [11.], .    prediction_y  train_y\n",
      "0       2.723412      6.0\n",
      "1       5.675514     11.0\n",
      "2       5.538832      6.0\n",
      "3       4.181281      6.0\n",
      "4       5.973451     11.0\n",
      "..           ...      ...\n",
      "69      4.001329     12.0\n",
      "70      6.453110      9.0\n",
      "71      8.393725      8.0\n",
      "72      8.589586      6.0\n",
      "73      6.216974      8.0\n",
      "\n",
      "[74 rows x 2 columns]\n",
      "[6.7812576] [14.], .    prediction_y  train_y\n",
      "0       2.170197      6.0\n",
      "1       5.886923     11.0\n",
      "2       6.145926      6.0\n",
      "3       4.228471      6.0\n",
      "4       5.908490     11.0\n",
      "..           ...      ...\n",
      "69      3.886098     12.0\n",
      "70      6.653584      9.0\n",
      "71      7.618627      8.0\n",
      "72      8.965790      6.0\n",
      "73      5.692855      8.0\n",
      "\n",
      "[74 rows x 2 columns]\n",
      "[5.7597237] [8.], .    prediction_y  train_y\n",
      "0       2.378737      6.0\n",
      "1       5.815987     11.0\n",
      "2       6.028070      6.0\n",
      "3       4.462373      6.0\n",
      "4       6.149645     11.0\n",
      "..           ...      ...\n",
      "69      3.929842     12.0\n",
      "70      6.641327      9.0\n",
      "71      7.787884      8.0\n",
      "72      9.001177      6.0\n",
      "73      5.776945      8.0\n",
      "\n",
      "[74 rows x 2 columns]\n",
      "[9.42814] [12.], .    prediction_y  train_y\n",
      "0       2.214021      6.0\n",
      "1       5.864890     11.0\n",
      "2       6.044603      6.0\n",
      "3       4.251042      6.0\n",
      "4       6.056369     11.0\n",
      "..           ...      ...\n",
      "69      3.943015     12.0\n",
      "70      6.680308      9.0\n",
      "71      7.783889      8.0\n",
      "72      8.964066      6.0\n",
      "73      5.704711      8.0\n",
      "\n",
      "[74 rows x 2 columns]\n",
      "[8.717612] [8.], .    prediction_y  train_y\n",
      "0       2.263034      6.0\n",
      "1       6.148879     11.0\n",
      "2       5.916401      6.0\n",
      "3       4.069026      6.0\n",
      "4       5.813881     11.0\n",
      "..           ...      ...\n",
      "69      3.940580     12.0\n",
      "70      6.656006      9.0\n",
      "71      8.078632      8.0\n",
      "72      8.119563      6.0\n",
      "73      5.581574      8.0\n",
      "\n",
      "[74 rows x 2 columns]\n",
      "[4.132242] [12.], .    prediction_y  train_y\n",
      "0       2.211761      6.0\n",
      "1       5.916538     11.0\n",
      "2       6.072073      6.0\n",
      "3       4.282632      6.0\n",
      "4       6.056091     11.0\n",
      "..           ...      ...\n",
      "69      3.953754     12.0\n",
      "70      6.631700      9.0\n",
      "71      7.716900      8.0\n",
      "72      9.021362      6.0\n",
      "73      5.679875      8.0\n",
      "\n",
      "[74 rows x 2 columns]\n",
      "[7.145013] [7.], .    prediction_y  train_y\n",
      "0       2.607850      6.0\n",
      "1       5.622324     11.0\n",
      "2       5.963868      6.0\n",
      "3       4.012781      6.0\n",
      "4       6.098711     11.0\n",
      "..           ...      ...\n",
      "69      3.895139     12.0\n",
      "70      6.491766      9.0\n",
      "71      8.080700      8.0\n",
      "72      8.433699      6.0\n",
      "73      5.831013      8.0\n",
      "\n",
      "[74 rows x 2 columns]\n",
      "[4.496418] [12.], .    prediction_y  train_y\n",
      "0       2.216124      6.0\n",
      "1       5.889904     11.0\n",
      "2       6.105213      6.0\n",
      "3       4.307110      6.0\n",
      "4       6.009486     11.0\n",
      "..           ...      ...\n",
      "69      3.908701     12.0\n",
      "70      6.612948      9.0\n",
      "71      7.666633      8.0\n",
      "72      9.128818      6.0\n",
      "73      5.602432      8.0\n",
      "\n",
      "[74 rows x 2 columns]\n",
      "[5.8272023] [7.], .    prediction_y  train_y\n",
      "0       2.015618      6.0\n",
      "1       5.989303     11.0\n",
      "2       5.956759      6.0\n",
      "3       4.170874      6.0\n",
      "4       5.889679     11.0\n",
      "..           ...      ...\n",
      "69      4.007105     12.0\n",
      "70      6.534353      9.0\n",
      "71      7.554656      8.0\n",
      "72      8.878927      6.0\n",
      "73      5.783895      8.0\n",
      "\n",
      "[74 rows x 2 columns]\n",
      "[4.9308987] [8.], .    prediction_y  train_y\n",
      "0       2.236356      6.0\n",
      "1       5.695476     11.0\n",
      "2       5.822428      6.0\n",
      "3       4.086083      6.0\n",
      "4       5.424190     11.0\n",
      "..           ...      ...\n",
      "69      4.087252     12.0\n",
      "70      6.774623      9.0\n",
      "71      7.560786      8.0\n",
      "72      8.929053      6.0\n",
      "73      5.579238      8.0\n",
      "\n",
      "[74 rows x 2 columns]\n",
      "[3.8457344] [8.], .    prediction_y  train_y\n",
      "0       2.168064      6.0\n",
      "1       5.861652     11.0\n",
      "2       5.971062      6.0\n",
      "3       4.290312      6.0\n",
      "4       5.891931     11.0\n",
      "..           ...      ...\n",
      "69      3.970671     12.0\n",
      "70      6.658820      9.0\n",
      "71      7.705012      8.0\n",
      "72      8.846484      6.0\n",
      "73      5.633320      8.0\n",
      "\n",
      "[74 rows x 2 columns]\n",
      "[7.364642] [9.], .    prediction_y  train_y\n",
      "0       2.259127      6.0\n",
      "1       5.906817     11.0\n",
      "2       6.171960      6.0\n",
      "3       4.189323      6.0\n",
      "4       5.956265     11.0\n",
      "..           ...      ...\n",
      "69      4.021637     12.0\n",
      "70      6.523105      9.0\n",
      "71      7.659945      8.0\n",
      "72      8.701266      6.0\n",
      "73      5.512879      8.0\n",
      "\n",
      "[74 rows x 2 columns]\n",
      "[4.4853196] [11.], .    prediction_y  train_y\n",
      "0       2.294385      6.0\n",
      "1       6.152739     11.0\n",
      "2       6.187570      6.0\n",
      "3       4.554943      6.0\n",
      "4       6.258827     11.0\n",
      "..           ...      ...\n",
      "69      3.966511     12.0\n",
      "70      6.988082      9.0\n",
      "71      7.852913      8.0\n",
      "72      8.989557      6.0\n",
      "73      5.637667      8.0\n",
      "\n",
      "[74 rows x 2 columns]\n",
      "[9.759774] [7.], .    prediction_y  train_y\n",
      "0       2.326955      6.0\n",
      "1       5.701244     11.0\n",
      "2       6.117083      6.0\n",
      "3       4.253800      6.0\n",
      "4       6.031044     11.0\n",
      "..           ...      ...\n",
      "69      4.071495     12.0\n",
      "70      6.866584      9.0\n",
      "71      7.523746      8.0\n",
      "72      9.003258      6.0\n",
      "73      5.641665      8.0\n",
      "\n",
      "[74 rows x 2 columns]\n",
      "[5.8657513] [9.], .    prediction_y  train_y\n",
      "0       2.195753      6.0\n",
      "1       5.936619     11.0\n",
      "2       6.075327      6.0\n",
      "3       4.302722      6.0\n",
      "4       6.045371     11.0\n",
      "..           ...      ...\n",
      "69      3.938282     12.0\n",
      "70      6.654682      9.0\n",
      "71      7.710532      8.0\n",
      "72      9.024076      6.0\n",
      "73      5.694284      8.0\n",
      "\n",
      "[74 rows x 2 columns]\n",
      "[6.328286] [6.], .    prediction_y  train_y\n",
      "0       1.962525      6.0\n",
      "1       6.261366     11.0\n",
      "2       6.359868      6.0\n",
      "3       3.744966      6.0\n",
      "4       5.984552     11.0\n",
      "..           ...      ...\n",
      "69      3.916351     12.0\n",
      "70      6.569633      9.0\n",
      "71      7.386655      8.0\n",
      "72      8.756197      6.0\n",
      "73      5.220984      8.0\n",
      "\n",
      "[74 rows x 2 columns]\n",
      "[6.268094] [13.], .    prediction_y  train_y\n",
      "0       2.650099      6.0\n",
      "1       5.141906     11.0\n",
      "2       5.994628      6.0\n",
      "3       3.880011      6.0\n",
      "4       5.772081     11.0\n",
      "..           ...      ...\n",
      "69      3.656107     12.0\n",
      "70      6.353627      9.0\n",
      "71      7.786479      8.0\n",
      "72      8.576311      6.0\n",
      "73      5.714210      8.0\n",
      "\n",
      "[74 rows x 2 columns]\n",
      "[3.6102574] [12.], .    prediction_y  train_y\n",
      "0       2.211739      6.0\n",
      "1       5.914755     11.0\n",
      "2       6.072158      6.0\n",
      "3       4.289121      6.0\n",
      "4       6.059744     11.0\n",
      "..           ...      ...\n",
      "69      3.945179     12.0\n",
      "70      6.636768      9.0\n",
      "71      7.723625      8.0\n",
      "72      9.020641      6.0\n",
      "73      5.686780      8.0\n",
      "\n",
      "[74 rows x 2 columns]\n"
     ]
    },
    {
     "name": "stdout",
     "output_type": "stream",
     "text": [
      "[6.088377] [6.], .    prediction_y  train_y\n",
      "0       2.145828      6.0\n",
      "1       5.943300     11.0\n",
      "2       6.001274      6.0\n",
      "3       4.198929      6.0\n",
      "4       5.949630     11.0\n",
      "..           ...      ...\n",
      "69      4.079924     12.0\n",
      "70      6.548527      9.0\n",
      "71      7.574231      8.0\n",
      "72      8.958401      6.0\n",
      "73      5.607855      8.0\n",
      "\n",
      "[74 rows x 2 columns]\n",
      "[7.7330127] [10.], .    prediction_y  train_y\n",
      "0       2.221300      6.0\n",
      "1       5.928645     11.0\n",
      "2       6.087255      6.0\n",
      "3       4.281415      6.0\n",
      "4       6.054428     11.0\n",
      "..           ...      ...\n",
      "69      3.953381     12.0\n",
      "70      6.612775      9.0\n",
      "71      7.716356      8.0\n",
      "72      9.041706      6.0\n",
      "73      5.684235      8.0\n",
      "\n",
      "[74 rows x 2 columns]\n",
      "[7.39762] [7.], .    prediction_y  train_y\n",
      "0       2.255846      6.0\n",
      "1       5.890942     11.0\n",
      "2       5.985003      6.0\n",
      "3       4.386548      6.0\n",
      "4       6.227717     11.0\n",
      "..           ...      ...\n",
      "69      3.896484     12.0\n",
      "70      6.492211      9.0\n",
      "71      7.726896      8.0\n",
      "72      9.110492      6.0\n",
      "73      5.722421      8.0\n",
      "\n",
      "[74 rows x 2 columns]\n",
      "[5.8970566] [12.], .    prediction_y  train_y\n",
      "0       2.087737      6.0\n",
      "1       5.871214     11.0\n",
      "2       5.971754      6.0\n",
      "3       4.078597      6.0\n",
      "4       5.895567     11.0\n",
      "..           ...      ...\n",
      "69      4.008008     12.0\n",
      "70      6.501697      9.0\n",
      "71      7.706043      8.0\n",
      "72      8.711329      6.0\n",
      "73      5.652223      8.0\n",
      "\n",
      "[74 rows x 2 columns]\n",
      "[1.3793592] [5.], .    prediction_y  train_y\n",
      "0       2.167734      6.0\n",
      "1       5.859566     11.0\n",
      "2       6.059842      6.0\n",
      "3       4.255579      6.0\n",
      "4       6.034403     11.0\n",
      "..           ...      ...\n",
      "69      4.018483     12.0\n",
      "70      6.717658      9.0\n",
      "71      7.540012      8.0\n",
      "72      8.951424      6.0\n",
      "73      5.757514      8.0\n",
      "\n",
      "[74 rows x 2 columns]\n",
      "[8.933442] [11.], .    prediction_y  train_y\n",
      "0       1.888704      6.0\n",
      "1       6.206497     11.0\n",
      "2       6.277355      6.0\n",
      "3       4.083870      6.0\n",
      "4       6.683225     11.0\n",
      "..           ...      ...\n",
      "69      3.814976     12.0\n",
      "70      6.492438      9.0\n",
      "71      7.626949      8.0\n",
      "72      8.573524      6.0\n",
      "73      5.199989      8.0\n",
      "\n",
      "[74 rows x 2 columns]\n",
      "[5.167487] [12.], .    prediction_y  train_y\n",
      "0       1.975319      6.0\n",
      "1       5.781359     11.0\n",
      "2       5.841983      6.0\n",
      "3       4.098727      6.0\n",
      "4       5.718098     11.0\n",
      "..           ...      ...\n",
      "69      3.800374     12.0\n",
      "70      6.592052      9.0\n",
      "71      7.893065      8.0\n",
      "72      8.407903      6.0\n",
      "73      5.425854      8.0\n",
      "\n",
      "[74 rows x 2 columns]\n",
      "[4.050727] [11.], .    prediction_y  train_y\n",
      "0       2.091803      6.0\n",
      "1       6.345628     11.0\n",
      "2       6.337705      6.0\n",
      "3       4.148105      6.0\n",
      "4       5.751472     11.0\n",
      "..           ...      ...\n",
      "69      3.878677     12.0\n",
      "70      6.329414      9.0\n",
      "71      7.154579      8.0\n",
      "72      9.496642      6.0\n",
      "73      5.779461      8.0\n",
      "\n",
      "[74 rows x 2 columns]\n",
      "[-0.16328305] [7.], .    prediction_y  train_y\n",
      "0       2.448736      6.0\n",
      "1       6.744761     11.0\n",
      "2       6.417166      6.0\n",
      "3       4.481140      6.0\n",
      "4       5.732685     11.0\n",
      "..           ...      ...\n",
      "69      4.314187     12.0\n",
      "70      6.223902      9.0\n",
      "71      7.566535      8.0\n",
      "72      8.797543      6.0\n",
      "73      5.965651      8.0\n",
      "\n",
      "[74 rows x 2 columns]\n",
      "[16.261654] [6.], .    prediction_y  train_y\n",
      "0       2.262293      6.0\n",
      "1       6.077121     11.0\n",
      "2       6.118099      6.0\n",
      "3       4.245645      6.0\n",
      "4       5.959250     11.0\n",
      "..           ...      ...\n",
      "69      3.855253     12.0\n",
      "70      6.477147      9.0\n",
      "71      7.718396      8.0\n",
      "72      9.018284      6.0\n",
      "73      5.727408      8.0\n",
      "\n",
      "[74 rows x 2 columns]\n",
      "[3.1211226] [7.], .    prediction_y  train_y\n",
      "0       2.172126      6.0\n",
      "1       6.046041     11.0\n",
      "2       6.070991      6.0\n",
      "3       4.362385      6.0\n",
      "4       6.075729     11.0\n",
      "..           ...      ...\n",
      "69      3.983041     12.0\n",
      "70      6.643359      9.0\n",
      "71      7.643125      8.0\n",
      "72      9.025767      6.0\n",
      "73      5.682771      8.0\n",
      "\n",
      "[74 rows x 2 columns]\n",
      "[5.6603312] [7.], .    prediction_y  train_y\n",
      "0       2.095850      6.0\n",
      "1       6.744912     11.0\n",
      "2       4.803967      6.0\n",
      "3       5.148311      6.0\n",
      "4       5.955256     11.0\n",
      "..           ...      ...\n",
      "69      3.731779     12.0\n",
      "70      6.374094      9.0\n",
      "71      8.135965      8.0\n",
      "72      8.828279      6.0\n",
      "73      7.025464      8.0\n",
      "\n",
      "[74 rows x 2 columns]\n",
      "[2.7406313] [16.], .    prediction_y  train_y\n",
      "0       1.752612      6.0\n",
      "1       6.140713     11.0\n",
      "2       6.099467      6.0\n",
      "3       5.032270      6.0\n",
      "4       6.192833     11.0\n",
      "..           ...      ...\n",
      "69      4.169796     12.0\n",
      "70      7.144587      9.0\n",
      "71      7.355665      8.0\n",
      "72      8.129203      6.0\n",
      "73      5.144735      8.0\n",
      "\n",
      "[74 rows x 2 columns]\n",
      "[4.917638] [14.], .    prediction_y  train_y\n",
      "0       2.153933      6.0\n",
      "1       6.001911     11.0\n",
      "2       6.020240      6.0\n",
      "3       4.346180      6.0\n",
      "4       6.039116     11.0\n",
      "..           ...      ...\n",
      "69      3.873984     12.0\n",
      "70      6.464843      9.0\n",
      "71      7.768705      8.0\n",
      "72      8.943377      6.0\n",
      "73      5.633715      8.0\n",
      "\n",
      "[74 rows x 2 columns]\n",
      "[8.649538] [10.], .    prediction_y  train_y\n",
      "0       2.239429      6.0\n",
      "1       5.803859     11.0\n",
      "2       6.075254      6.0\n",
      "3       4.394539      6.0\n",
      "4       5.882799     11.0\n",
      "..           ...      ...\n",
      "69      3.939818     12.0\n",
      "70      6.614920      9.0\n",
      "71      7.537578      8.0\n",
      "72      9.204112      6.0\n",
      "73      5.866663      8.0\n",
      "\n",
      "[74 rows x 2 columns]\n",
      "[3.684423] [12.], .    prediction_y  train_y\n",
      "0       2.152207      6.0\n",
      "1       5.824962     11.0\n",
      "2       6.117378      6.0\n",
      "3       4.102480      6.0\n",
      "4       6.161679     11.0\n",
      "..           ...      ...\n",
      "69      3.897562     12.0\n",
      "70      6.740617      9.0\n",
      "71      7.644855      8.0\n",
      "72      8.941900      6.0\n",
      "73      5.506416      8.0\n",
      "\n",
      "[74 rows x 2 columns]\n",
      "[8.50138] [12.], .    prediction_y  train_y\n",
      "0       1.976016      6.0\n",
      "1       5.851216     11.0\n",
      "2       5.921604      6.0\n",
      "3       4.121309      6.0\n",
      "4       6.118832     11.0\n",
      "..           ...      ...\n",
      "69      3.933828     12.0\n",
      "70      6.382851      9.0\n",
      "71      7.638346      8.0\n",
      "72      8.838198      6.0\n",
      "73      5.526844      8.0\n",
      "\n",
      "[74 rows x 2 columns]\n",
      "[6.3647466] [10.], .    prediction_y  train_y\n",
      "0       2.186082      6.0\n",
      "1       6.233397     11.0\n",
      "2       6.136496      6.0\n",
      "3       3.995336      6.0\n",
      "4       6.039634     11.0\n",
      "..           ...      ...\n",
      "69      3.829388     12.0\n",
      "70      6.193147      9.0\n",
      "71      7.716621      8.0\n",
      "72      9.007044      6.0\n",
      "73      5.562272      8.0\n",
      "\n",
      "[74 rows x 2 columns]\n",
      "[5.8274603] [12.], .    prediction_y  train_y\n",
      "0       2.070861      6.0\n",
      "1       6.068125     11.0\n",
      "2       5.897162      6.0\n",
      "3       4.130196      6.0\n",
      "4       5.578229     11.0\n",
      "..           ...      ...\n",
      "69      3.787192     12.0\n",
      "70      6.297165      9.0\n",
      "71      7.773449      8.0\n",
      "72      8.959394      6.0\n",
      "73      5.809410      8.0\n",
      "\n",
      "[74 rows x 2 columns]\n",
      "[2.666545] [8.], .    prediction_y  train_y\n",
      "0       2.335823      6.0\n",
      "1       5.871238     11.0\n",
      "2       6.153625      6.0\n",
      "3       4.294737      6.0\n",
      "4       6.206223     11.0\n",
      "..           ...      ...\n",
      "69      3.968428     12.0\n",
      "70      6.555182      9.0\n",
      "71      7.688366      8.0\n",
      "72      8.890079      6.0\n",
      "73      5.665236      8.0\n",
      "\n",
      "[74 rows x 2 columns]\n",
      "[7.6075583] [10.], .    prediction_y  train_y\n",
      "0       2.376800      6.0\n",
      "1       5.921465     11.0\n",
      "2       5.836253      6.0\n",
      "3       4.624259      6.0\n",
      "4       6.007996     11.0\n",
      "..           ...      ...\n",
      "69      3.999911     12.0\n",
      "70      6.486032      9.0\n",
      "71      7.746989      8.0\n",
      "72      8.650574      6.0\n",
      "73      6.299966      8.0\n",
      "\n",
      "[74 rows x 2 columns]\n",
      "[1.2864585] [8.], .    prediction_y  train_y\n",
      "0       2.002888      6.0\n",
      "1       6.152874     11.0\n",
      "2       6.076958      6.0\n",
      "3       4.107902      6.0\n",
      "4       5.986205     11.0\n",
      "..           ...      ...\n",
      "69      3.929253     12.0\n",
      "70      6.289536      9.0\n",
      "71      7.555854      8.0\n",
      "72      9.139893      6.0\n",
      "73      5.677347      8.0\n",
      "\n",
      "[74 rows x 2 columns]\n",
      "[1.1489958] [8.], .    prediction_y  train_y\n",
      "0       2.405258      6.0\n",
      "1       5.864688     11.0\n",
      "2       6.163026      6.0\n",
      "3       4.265430      6.0\n",
      "4       6.131453     11.0\n",
      "..           ...      ...\n",
      "69      3.814601     12.0\n",
      "70      6.634794      9.0\n",
      "71      7.760997      8.0\n",
      "72      9.181950      6.0\n",
      "73      5.652886      8.0\n",
      "\n",
      "[74 rows x 2 columns]\n",
      "[3.9312394] [7.], .    prediction_y  train_y\n",
      "0       2.182504      6.0\n",
      "1       5.852991     11.0\n",
      "2       6.021518      6.0\n",
      "3       3.893101      6.0\n",
      "4       6.096986     11.0\n",
      "..           ...      ...\n",
      "69      3.856111     12.0\n",
      "70      6.495879      9.0\n",
      "71      7.899456      8.0\n",
      "72      8.649564      6.0\n",
      "73      5.425658      8.0\n",
      "\n",
      "[74 rows x 2 columns]\n"
     ]
    },
    {
     "name": "stdout",
     "output_type": "stream",
     "text": [
      "[1.7540352] [9.], .    prediction_y  train_y\n",
      "0       2.226230      6.0\n",
      "1       5.909592     11.0\n",
      "2       6.034696      6.0\n",
      "3       4.343656      6.0\n",
      "4       6.097177     11.0\n",
      "..           ...      ...\n",
      "69      3.945625     12.0\n",
      "70      6.623600      9.0\n",
      "71      7.751546      8.0\n",
      "72      8.870815      6.0\n",
      "73      5.677010      8.0\n",
      "\n",
      "[74 rows x 2 columns]\n",
      "[7.760644] [9.], .    prediction_y  train_y\n",
      "0       2.230479      6.0\n",
      "1       5.869723     11.0\n",
      "2       6.105092      6.0\n",
      "3       4.331048      6.0\n",
      "4       6.243871     11.0\n",
      "..           ...      ...\n",
      "69      3.853886     12.0\n",
      "70      6.706920      9.0\n",
      "71      7.752665      8.0\n",
      "72      8.998401      6.0\n",
      "73      5.599457      8.0\n",
      "\n",
      "[74 rows x 2 columns]\n",
      "[5.5418043] [8.], .    prediction_y  train_y\n",
      "0       1.955796      6.0\n",
      "1       6.054581     11.0\n",
      "2       5.925176      6.0\n",
      "3       4.423864      6.0\n",
      "4       5.879585     11.0\n",
      "..           ...      ...\n",
      "69      3.978935     12.0\n",
      "70      6.671075      9.0\n",
      "71      7.670272      8.0\n",
      "72      8.672016      6.0\n",
      "73      5.511516      8.0\n",
      "\n",
      "[74 rows x 2 columns]\n",
      "[1.9077632] [8.], .    prediction_y  train_y\n",
      "0       2.106688      6.0\n",
      "1       5.892505     11.0\n",
      "2       6.141709      6.0\n",
      "3       4.100721      6.0\n",
      "4       6.173217     11.0\n",
      "..           ...      ...\n",
      "69      3.754056     12.0\n",
      "70      6.485352      9.0\n",
      "71      7.710154      8.0\n",
      "72      9.004297      6.0\n",
      "73      5.643132      8.0\n",
      "\n",
      "[74 rows x 2 columns]\n",
      "[9.498828] [12.], .    prediction_y  train_y\n",
      "0       2.444535      6.0\n",
      "1       5.546533     11.0\n",
      "2       6.064546      6.0\n",
      "3       4.242076      6.0\n",
      "4       6.091011     11.0\n",
      "..           ...      ...\n",
      "69      3.893723     12.0\n",
      "70      6.707438      9.0\n",
      "71      7.828020      8.0\n",
      "72      9.019014      6.0\n",
      "73      5.858460      8.0\n",
      "\n",
      "[74 rows x 2 columns]\n",
      "[3.8921962] [9.], .    prediction_y  train_y\n",
      "0       2.216919      6.0\n",
      "1       6.070055     11.0\n",
      "2       6.075891      6.0\n",
      "3       4.304168      6.0\n",
      "4       5.964818     11.0\n",
      "..           ...      ...\n",
      "69      3.927706     12.0\n",
      "70      6.521899      9.0\n",
      "71      7.639532      8.0\n",
      "72      8.986803      6.0\n",
      "73      5.641842      8.0\n",
      "\n",
      "[74 rows x 2 columns]\n",
      "[6.43935] [9.], .    prediction_y  train_y\n",
      "0       2.221153      6.0\n",
      "1       5.889998     11.0\n",
      "2       6.053141      6.0\n",
      "3       4.285996      6.0\n",
      "4       6.065284     11.0\n",
      "..           ...      ...\n",
      "69      3.948296     12.0\n",
      "70      6.620453      9.0\n",
      "71      7.726637      8.0\n",
      "72      9.008102      6.0\n",
      "73      5.676716      8.0\n",
      "\n",
      "[74 rows x 2 columns]\n",
      "[7.60684] [8.], .    prediction_y  train_y\n",
      "0       2.221149      6.0\n",
      "1       6.079059     11.0\n",
      "2       6.057389      6.0\n",
      "3       4.295448      6.0\n",
      "4       6.124050     11.0\n",
      "..           ...      ...\n",
      "69      3.926480     12.0\n",
      "70      6.587878      9.0\n",
      "71      7.946687      8.0\n",
      "72      8.908309      6.0\n",
      "73      5.699929      8.0\n",
      "\n",
      "[74 rows x 2 columns]\n",
      "[12.130846] [10.], .    prediction_y  train_y\n",
      "0       1.956548      6.0\n",
      "1       6.061974     11.0\n",
      "2       6.235565      6.0\n",
      "3       4.091366      6.0\n",
      "4       6.316258     11.0\n",
      "..           ...      ...\n",
      "69      4.015072     12.0\n",
      "70      5.930469      9.0\n",
      "71      7.552224      8.0\n",
      "72      9.410774      6.0\n",
      "73      6.125921      8.0\n",
      "\n",
      "[74 rows x 2 columns]\n",
      "[10.696217] [4.], .    prediction_y  train_y\n",
      "0       2.274852      6.0\n",
      "1       5.859000     11.0\n",
      "2       6.134891      6.0\n",
      "3       4.278896      6.0\n",
      "4       5.871574     11.0\n",
      "..           ...      ...\n",
      "69      4.005334     12.0\n",
      "70      6.804825      9.0\n",
      "71      7.541542      8.0\n",
      "72      8.933701      6.0\n",
      "73      5.625390      8.0\n",
      "\n",
      "[74 rows x 2 columns]\n",
      "[5.7968025] [9.], .    prediction_y  train_y\n",
      "0       2.198456      6.0\n",
      "1       5.879226     11.0\n",
      "2       6.159491      6.0\n",
      "3       4.184599      6.0\n",
      "4       5.920069     11.0\n",
      "..           ...      ...\n",
      "69      3.924549     12.0\n",
      "70      6.875860      9.0\n",
      "71      7.537064      8.0\n",
      "72      9.132860      6.0\n",
      "73      5.565802      8.0\n",
      "\n",
      "[74 rows x 2 columns]\n",
      "[4.9742327] [8.], .    prediction_y  train_y\n",
      "0       1.822555      6.0\n",
      "1       6.707750     11.0\n",
      "2       5.904918      6.0\n",
      "3       3.775641      6.0\n",
      "4       5.539611     11.0\n",
      "..           ...      ...\n",
      "69      3.854059     12.0\n",
      "70      5.558473      9.0\n",
      "71      7.366250      8.0\n",
      "72      8.847279      6.0\n",
      "73      5.031257      8.0\n",
      "\n",
      "[74 rows x 2 columns]\n",
      "[1.4764881] [15.], .    prediction_y  train_y\n",
      "0       2.223655      6.0\n",
      "1       5.895057     11.0\n",
      "2       6.199165      6.0\n",
      "3       4.125254      6.0\n",
      "4       6.068058     11.0\n",
      "..           ...      ...\n",
      "69      3.953549     12.0\n",
      "70      6.649471      9.0\n",
      "71      7.591944      8.0\n",
      "72      9.041894      6.0\n",
      "73      5.681201      8.0\n",
      "\n",
      "[74 rows x 2 columns]\n",
      "[5.0406675] [8.], .    prediction_y  train_y\n",
      "0       2.217495      6.0\n",
      "1       6.110035     11.0\n",
      "2       6.048261      6.0\n",
      "3       4.236433      6.0\n",
      "4       5.857920     11.0\n",
      "..           ...      ...\n",
      "69      3.822732     12.0\n",
      "70      6.541623      9.0\n",
      "71      7.683185      8.0\n",
      "72      8.830241      6.0\n",
      "73      5.694873      8.0\n",
      "\n",
      "[74 rows x 2 columns]\n",
      "[4.3208475] [12.], .    prediction_y  train_y\n",
      "0       2.187903      6.0\n",
      "1       5.902494     11.0\n",
      "2       6.081505      6.0\n",
      "3       4.267607      6.0\n",
      "4       6.023128     11.0\n",
      "..           ...      ...\n",
      "69      4.017682     12.0\n",
      "70      6.687670      9.0\n",
      "71      7.686793      8.0\n",
      "72      9.034604      6.0\n",
      "73      5.701997      8.0\n",
      "\n",
      "[74 rows x 2 columns]\n",
      "[9.026871] [8.], .    prediction_y  train_y\n",
      "0       2.141974      6.0\n",
      "1       6.319016     11.0\n",
      "2       6.072539      6.0\n",
      "3       4.244041      6.0\n",
      "4       5.929569     11.0\n",
      "..           ...      ...\n",
      "69      3.731200     12.0\n",
      "70      6.183692      9.0\n",
      "71      7.612373      8.0\n",
      "72      8.996425      6.0\n",
      "73      5.732246      8.0\n",
      "\n",
      "[74 rows x 2 columns]\n",
      "[4.588542] [11.], .    prediction_y  train_y\n",
      "0       2.218603      6.0\n",
      "1       5.802579     11.0\n",
      "2       5.985930      6.0\n",
      "3       4.698073      6.0\n",
      "4       6.287980     11.0\n",
      "..           ...      ...\n",
      "69      3.885301     12.0\n",
      "70      6.849819      9.0\n",
      "71      7.770876      8.0\n",
      "72      9.147297      6.0\n",
      "73      5.423265      8.0\n",
      "\n",
      "[74 rows x 2 columns]\n",
      "[2.5791385] [10.], .    prediction_y  train_y\n",
      "0       2.298160      6.0\n",
      "1       5.627036     11.0\n",
      "2       5.897702      6.0\n",
      "3       4.175576      6.0\n",
      "4       5.621820     11.0\n",
      "..           ...      ...\n",
      "69      4.103212     12.0\n",
      "70      6.738472      9.0\n",
      "71      7.705226      8.0\n",
      "72      8.746195      6.0\n",
      "73      5.718901      8.0\n",
      "\n",
      "[74 rows x 2 columns]\n",
      "[4.989497] [10.], .    prediction_y  train_y\n",
      "0       2.218044      6.0\n",
      "1       5.832393     11.0\n",
      "2       6.023633      6.0\n",
      "3       4.387972      6.0\n",
      "4       6.121192     11.0\n",
      "..           ...      ...\n",
      "69      3.743368     12.0\n",
      "70      6.579106      9.0\n",
      "71      7.862042      8.0\n",
      "72      8.833311      6.0\n",
      "73      5.569303      8.0\n",
      "\n",
      "[74 rows x 2 columns]\n",
      "[4.614605] [10.], .    prediction_y  train_y\n",
      "0       2.172638      6.0\n",
      "1       6.055236     11.0\n",
      "2       6.048023      6.0\n",
      "3       4.330339      6.0\n",
      "4       5.905512     11.0\n",
      "..           ...      ...\n",
      "69      3.940978     12.0\n",
      "70      6.436955      9.0\n",
      "71      7.583602      8.0\n",
      "72      9.015791      6.0\n",
      "73      5.613543      8.0\n",
      "\n",
      "[74 rows x 2 columns]\n",
      "[8.634979] [11.], .    prediction_y  train_y\n",
      "0       2.217110      6.0\n",
      "1       5.923387     11.0\n",
      "2       6.064242      6.0\n",
      "3       4.300992      6.0\n",
      "4       6.042604     11.0\n",
      "..           ...      ...\n",
      "69      3.955653     12.0\n",
      "70      6.635181      9.0\n",
      "71      7.702315      8.0\n",
      "72      9.015478      6.0\n",
      "73      5.696117      8.0\n",
      "\n",
      "[74 rows x 2 columns]\n",
      "[4.529747] [5.], .    prediction_y  train_y\n",
      "0       2.307382      6.0\n",
      "1       5.661471     11.0\n",
      "2       6.094038      6.0\n",
      "3       4.420737      6.0\n",
      "4       5.987274     11.0\n",
      "..           ...      ...\n",
      "69      3.924100     12.0\n",
      "70      6.796421      9.0\n",
      "71      7.411012      8.0\n",
      "72      9.197557      6.0\n",
      "73      5.771828      8.0\n",
      "\n",
      "[74 rows x 2 columns]\n",
      "[6.7535915] [12.], .    prediction_y  train_y\n",
      "0       2.009290      6.0\n",
      "1       6.089032     11.0\n",
      "2       6.172455      6.0\n",
      "3       4.059551      6.0\n",
      "4       5.906354     11.0\n",
      "..           ...      ...\n",
      "69      4.045710     12.0\n",
      "70      6.821466      9.0\n",
      "71      7.536339      8.0\n",
      "72      8.907532      6.0\n",
      "73      5.790009      8.0\n",
      "\n",
      "[74 rows x 2 columns]\n",
      "[10.820635] [8.], .    prediction_y  train_y\n",
      "0       2.321577      6.0\n",
      "1       5.901531     11.0\n",
      "2       6.076827      6.0\n",
      "3       4.333404      6.0\n",
      "4       6.220256     11.0\n",
      "..           ...      ...\n",
      "69      9.673477      8.0\n",
      "70      6.355918      9.0\n",
      "71      8.043581      8.0\n",
      "72      8.972582      6.0\n",
      "73      5.537420      8.0\n",
      "\n",
      "[74 rows x 2 columns]\n"
     ]
    },
    {
     "name": "stdout",
     "output_type": "stream",
     "text": [
      "[3.3745825] [12.], .    prediction_y  train_y\n",
      "0       2.066240      6.0\n",
      "1       6.102353     11.0\n",
      "2       6.029785      6.0\n",
      "3       4.152893      6.0\n",
      "4       6.082249     11.0\n",
      "..           ...      ...\n",
      "69      9.801458      8.0\n",
      "70      3.841960     12.0\n",
      "71      7.745178      8.0\n",
      "72      8.947182      6.0\n",
      "73      5.686227      8.0\n",
      "\n",
      "[74 rows x 2 columns]\n",
      "[5.9944715] [9.], .    prediction_y  train_y\n",
      "0       2.181494      6.0\n",
      "1       5.922021     11.0\n",
      "2       6.085671      6.0\n",
      "3       4.269966      6.0\n",
      "4       6.033901     11.0\n",
      "..           ...      ...\n",
      "69     10.030405      8.0\n",
      "70      3.954322     12.0\n",
      "71      6.634818      9.0\n",
      "72      9.041983      6.0\n",
      "73      5.669056      8.0\n",
      "\n",
      "[74 rows x 2 columns]\n",
      "[7.656746] [8.], .    prediction_y  train_y\n",
      "0       2.290027      6.0\n",
      "1       5.969409     11.0\n",
      "2       6.405951      6.0\n",
      "3       4.438511      6.0\n",
      "4       6.267802     11.0\n",
      "..           ...      ...\n",
      "69      9.924473      8.0\n",
      "70      3.908402     12.0\n",
      "71      6.703559      9.0\n",
      "72      7.494488      8.0\n",
      "73      5.734087      8.0\n",
      "\n",
      "[74 rows x 2 columns]\n",
      "[9.902149] [6.], .    prediction_y  train_y\n",
      "0       2.112575      6.0\n",
      "1       5.913844     11.0\n",
      "2       6.169422      6.0\n",
      "3       4.201321      6.0\n",
      "4       6.037405     11.0\n",
      "..           ...      ...\n",
      "69      9.904490      8.0\n",
      "70      3.891065     12.0\n",
      "71      6.633335      9.0\n",
      "72      7.607271      8.0\n",
      "73      9.039059      6.0\n",
      "\n",
      "[74 rows x 2 columns]\n",
      "[5.3765764] [8.],     prediction_y  train_y\n",
      "0       2.181471      6.0\n",
      "1       5.922663     11.0\n",
      "2       6.055880      6.0\n",
      "3       4.235750      6.0\n",
      "4       6.014278     11.0\n",
      "..           ...      ...\n",
      "70      3.923032     12.0\n",
      "71      6.593608      9.0\n",
      "72      7.673384      8.0\n",
      "73      8.980471      6.0\n",
      "74      5.654893      8.0\n",
      "\n",
      "[75 rows x 2 columns]\n",
      "[ 2.1814709  5.922663   6.0558796  4.2357497  6.0142784  8.703821\n",
      "  6.349147   9.99291    8.531071   4.9950414  7.091959   5.3646936\n",
      "  6.141367   5.1850014  4.891244   7.6112356  5.032131   8.955841\n",
      "  6.4146934  6.2224364  7.940082   6.1505013  6.060899   8.034672\n",
      "  7.2994504  6.3249545  1.664105   9.252476   6.55894    4.7705913\n",
      "  0.9062713 11.587389   3.2966037  5.8697762 10.115674   8.613956\n",
      "  8.933424   4.2350855  9.07646    6.998163   6.4694557  3.3570466\n",
      "  8.345745   2.9505732  1.3718985  4.318075   2.2385182  8.055071\n",
      "  5.730335   2.3764286  9.911516   4.45105    6.6400986  7.6470013\n",
      " 11.677434   8.413855   6.1255913  5.315366   3.6014     5.2652025\n",
      "  4.5581713  8.726521   5.1148643  3.1123276  5.508529   4.9628377\n",
      "  8.990265   4.5606246  7.2043705  9.999578   3.923032   6.593608\n",
      "  7.673384   8.980471   5.6548934] [ 6. 11.  6.  6. 11. 14.  8. 12.  8. 12.  7. 12.  7.  8.  8.  9. 11.  7.\n",
      "  9.  6. 13. 12.  6. 10.  7. 12.  5. 11. 12. 11.  7.  6.  7.  7. 16. 14.\n",
      " 10. 12. 12. 10. 12.  8. 10.  8.  8.  7.  9.  9.  8.  8. 12.  9.  9.  8.\n",
      " 10.  4.  9.  8. 15.  8. 12.  8. 11. 10. 10. 10. 11.  5. 12.  8. 12.  9.\n",
      "  8.  6.  8.], (-0.10787879320493113, 0.356915558671421)\n",
      "---\n"
     ]
    }
   ],
   "source": [
    "regression_results_dict = {}\n",
    "for regression_var in [\n",
    "    'TESQ_E_goal_deliberation'\n",
    "    #,\n",
    "#     'TESQ_E_sum', 'TESQ_E_avoidance_of_temptations',\n",
    "#                        'TESQ_E_goal_deliberation',\n",
    "#                        'TESQ_E_goal_and_rule_setting','TESQ_E_suppression',\n",
    "#                        'bf_1','SST_SSRT'\n",
    "                      ]:\n",
    "    print(regression_var)\n",
    "    Brain_Data_CorrectStop = setup_metadata(Brain_Data_CorrectStop,regression_var)\n",
    "    regression_results = do_regression(Brain_Data_CorrectStop, get_prediction = do_Lasso_no_intercept)\n",
    "    regression_results_dict[regression_var] = regression_results\n",
    "    print(pearsonr(regression_results['sample_wise']['target_y'],regression_results['sample_wise']['pred_y']))\n",
    "    print(\"---\")"
   ]
  },
  {
   "cell_type": "code",
   "execution_count": 64,
   "id": "beneficial-firmware",
   "metadata": {},
   "outputs": [
    {
     "data": {
      "text/plain": [
       "array([-1.32185772,  0.68501129, -1.32185772, -1.32185772,  0.68501129,\n",
       "        1.88913269, -0.51911012,         nan,  1.08638509, -0.51911012,\n",
       "        1.08638509, -0.92048392,  1.08638509, -0.92048392, -0.51911012,\n",
       "       -0.51911012, -0.11773631,  0.68501129, -0.92048392, -0.11773631,\n",
       "               nan,         nan, -1.32185772,  1.48775889,  1.08638509,\n",
       "       -1.32185772,  0.28363749, -0.92048392,  1.08638509, -1.72323152,\n",
       "        0.68501129,  1.08638509,  0.68501129, -0.92048392, -1.32185772,\n",
       "       -0.92048392, -0.92048392,  2.69188029,  1.88913269,  0.28363749,\n",
       "        1.08638509,  1.08638509,  0.28363749,  1.08638509, -0.51911012,\n",
       "        0.28363749, -0.51911012, -0.51911012, -0.92048392, -0.11773631,\n",
       "       -0.11773631, -0.51911012, -0.51911012,  1.08638509, -0.11773631,\n",
       "       -0.11773631, -0.51911012,  0.28363749, -2.12460532,         nan,\n",
       "       -0.11773631, -0.51911012,  2.29050649, -0.51911012,  1.08638509,\n",
       "       -0.51911012,  0.68501129,  0.28363749,  0.28363749,  0.28363749,\n",
       "        0.68501129, -1.72323152,  1.08638509,         nan, -0.51911012,\n",
       "        1.08638509, -0.11773631, -0.51911012, -1.32185772, -0.51911012,\n",
       "               nan])"
      ]
     },
     "execution_count": 64,
     "metadata": {},
     "output_type": "execute_result"
    }
   ],
   "source": []
  },
  {
   "cell_type": "code",
   "execution_count": null,
   "id": "bacterial-prize",
   "metadata": {},
   "outputs": [],
   "source": []
  }
 ],
 "metadata": {
  "kernelspec": {
   "display_name": "Python [conda env:.conda-py3_mvpa]",
   "language": "python",
   "name": "conda-env-.conda-py3_mvpa-py"
  },
  "language_info": {
   "codemirror_mode": {
    "name": "ipython",
    "version": 3
   },
   "file_extension": ".py",
   "mimetype": "text/x-python",
   "name": "python",
   "nbconvert_exporter": "python",
   "pygments_lexer": "ipython3",
   "version": "3.8.12"
  }
 },
 "nbformat": 4,
 "nbformat_minor": 5
}
