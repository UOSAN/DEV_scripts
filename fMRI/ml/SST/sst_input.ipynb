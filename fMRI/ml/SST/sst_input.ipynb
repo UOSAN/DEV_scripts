{
 "cells": [
  {
   "cell_type": "markdown",
   "id": "opposite-greeting",
   "metadata": {},
   "source": [
    "This notebook exists to explore the input and output for SST\n",
    "\n",
    "`multiconds.py` contains the following outputs:\n",
    "\n",
    " - create_masks\n",
    " - ONE OF the following two:\n",
    "     - write_bids_events, or\n",
    "     - the following two:\n",
    "         - write_betaseries\n",
    "         - write_conditions\n",
    "\n",
    "         \n",
    "Basically, if we pass `multiconds.py` a bids path, it'll output to the bids directory; otherwise it'll write betaseries and conditions.\n",
    "\n",
    "So I guess it has two modes and is designed to be run twice, once to generate events files to bids, and the other time to create betaseries and conditions."
   ]
  },
  {
   "cell_type": "markdown",
   "id": "pressing-violin",
   "metadata": {},
   "source": [
    "## bids data\n",
    "\n",
    "### write_bids_events\n",
    "\n",
    "e.g."
   ]
  },
  {
   "cell_type": "code",
   "execution_count": 1,
   "id": "hourly-algebra",
   "metadata": {},
   "outputs": [],
   "source": [
    "bids_tsv_file_path = '/gpfs/projects/sanlab/shared/DEV/bids_data/sub-DEV085/ses-wave1/func/sub-DEV085_ses-wave1_task-SST_acq-1_events.tsv'\n",
    "bids_json_file_path = '/gpfs/projects/sanlab/shared/DEV/bids_data/sub-DEV085/ses-wave1/func/sub-DEV085_ses-wave1_task-SST_acq-1_events.json'"
   ]
  },
  {
   "cell_type": "code",
   "execution_count": 2,
   "id": "micro-brunswick",
   "metadata": {},
   "outputs": [],
   "source": [
    "import pandas as pd"
   ]
  },
  {
   "cell_type": "code",
   "execution_count": 3,
   "id": "artificial-delaware",
   "metadata": {},
   "outputs": [
    {
     "data": {
      "text/html": [
       "<div>\n",
       "<style scoped>\n",
       "    .dataframe tbody tr th:only-of-type {\n",
       "        vertical-align: middle;\n",
       "    }\n",
       "\n",
       "    .dataframe tbody tr th {\n",
       "        vertical-align: top;\n",
       "    }\n",
       "\n",
       "    .dataframe thead th {\n",
       "        text-align: right;\n",
       "    }\n",
       "</style>\n",
       "<table border=\"1\" class=\"dataframe\">\n",
       "  <thead>\n",
       "    <tr style=\"text-align: right;\">\n",
       "      <th></th>\n",
       "      <th>onset</th>\n",
       "      <th>duration</th>\n",
       "      <th>trial_type</th>\n",
       "    </tr>\n",
       "  </thead>\n",
       "  <tbody>\n",
       "    <tr>\n",
       "      <th>0</th>\n",
       "      <td>0.00000</td>\n",
       "      <td>2.25834</td>\n",
       "      <td>failed-stop</td>\n",
       "    </tr>\n",
       "    <tr>\n",
       "      <th>1</th>\n",
       "      <td>2.25834</td>\n",
       "      <td>0.50000</td>\n",
       "      <td>NaN</td>\n",
       "    </tr>\n",
       "    <tr>\n",
       "      <th>2</th>\n",
       "      <td>2.75834</td>\n",
       "      <td>2.00556</td>\n",
       "      <td>failed-go</td>\n",
       "    </tr>\n",
       "    <tr>\n",
       "      <th>3</th>\n",
       "      <td>4.76390</td>\n",
       "      <td>0.75000</td>\n",
       "      <td>NaN</td>\n",
       "    </tr>\n",
       "    <tr>\n",
       "      <th>4</th>\n",
       "      <td>5.51390</td>\n",
       "      <td>0.47261</td>\n",
       "      <td>correct-go</td>\n",
       "    </tr>\n",
       "    <tr>\n",
       "      <th>...</th>\n",
       "      <td>...</td>\n",
       "      <td>...</td>\n",
       "      <td>...</td>\n",
       "    </tr>\n",
       "    <tr>\n",
       "      <th>251</th>\n",
       "      <td>412.82572</td>\n",
       "      <td>1.75000</td>\n",
       "      <td>NaN</td>\n",
       "    </tr>\n",
       "    <tr>\n",
       "      <th>252</th>\n",
       "      <td>414.57572</td>\n",
       "      <td>0.54468</td>\n",
       "      <td>correct-go</td>\n",
       "    </tr>\n",
       "    <tr>\n",
       "      <th>253</th>\n",
       "      <td>417.08682</td>\n",
       "      <td>0.75000</td>\n",
       "      <td>NaN</td>\n",
       "    </tr>\n",
       "    <tr>\n",
       "      <th>254</th>\n",
       "      <td>417.83682</td>\n",
       "      <td>1.50000</td>\n",
       "      <td>correct-stop</td>\n",
       "    </tr>\n",
       "    <tr>\n",
       "      <th>255</th>\n",
       "      <td>419.33682</td>\n",
       "      <td>1.25000</td>\n",
       "      <td>NaN</td>\n",
       "    </tr>\n",
       "  </tbody>\n",
       "</table>\n",
       "<p>256 rows × 3 columns</p>\n",
       "</div>"
      ],
      "text/plain": [
       "         onset  duration    trial_type\n",
       "0      0.00000   2.25834   failed-stop\n",
       "1      2.25834   0.50000           NaN\n",
       "2      2.75834   2.00556     failed-go\n",
       "3      4.76390   0.75000           NaN\n",
       "4      5.51390   0.47261    correct-go\n",
       "..         ...       ...           ...\n",
       "251  412.82572   1.75000           NaN\n",
       "252  414.57572   0.54468    correct-go\n",
       "253  417.08682   0.75000           NaN\n",
       "254  417.83682   1.50000  correct-stop\n",
       "255  419.33682   1.25000           NaN\n",
       "\n",
       "[256 rows x 3 columns]"
      ]
     },
     "execution_count": 3,
     "metadata": {},
     "output_type": "execute_result"
    }
   ],
   "source": [
    "pd.read_csv(bids_tsv_file_path,sep='\\t')"
   ]
  },
  {
   "cell_type": "code",
   "execution_count": 4,
   "id": "forty-smith",
   "metadata": {},
   "outputs": [],
   "source": [
    "json_file_contents = pd.read_json(bids_json_file_path)"
   ]
  },
  {
   "cell_type": "code",
   "execution_count": 5,
   "id": "ceramic-necessity",
   "metadata": {},
   "outputs": [
    {
     "data": {
      "text/html": [
       "<div>\n",
       "<style scoped>\n",
       "    .dataframe tbody tr th:only-of-type {\n",
       "        vertical-align: middle;\n",
       "    }\n",
       "\n",
       "    .dataframe tbody tr th {\n",
       "        vertical-align: top;\n",
       "    }\n",
       "\n",
       "    .dataframe thead th {\n",
       "        text-align: right;\n",
       "    }\n",
       "</style>\n",
       "<table border=\"1\" class=\"dataframe\">\n",
       "  <thead>\n",
       "    <tr style=\"text-align: right;\">\n",
       "      <th></th>\n",
       "      <th>onset</th>\n",
       "      <th>duration</th>\n",
       "      <th>trial_type</th>\n",
       "    </tr>\n",
       "  </thead>\n",
       "  <tbody>\n",
       "    <tr>\n",
       "      <th>LongName</th>\n",
       "      <td>Onset</td>\n",
       "      <td>Duration</td>\n",
       "      <td>Categorization of a response inhibition task</td>\n",
       "    </tr>\n",
       "    <tr>\n",
       "      <th>Description</th>\n",
       "      <td>Onset of the event measured from the beginning...</td>\n",
       "      <td>Duration of the event, measured from onset.</td>\n",
       "      <td>Education level, self-rated by participant</td>\n",
       "    </tr>\n",
       "    <tr>\n",
       "      <th>Units</th>\n",
       "      <td>s</td>\n",
       "      <td>s</td>\n",
       "      <td>NaN</td>\n",
       "    </tr>\n",
       "    <tr>\n",
       "      <th>Levels</th>\n",
       "      <td>NaN</td>\n",
       "      <td>NaN</td>\n",
       "      <td>{'correct-go': 'Go trial, correct response', '...</td>\n",
       "    </tr>\n",
       "  </tbody>\n",
       "</table>\n",
       "</div>"
      ],
      "text/plain": [
       "                                                         onset  \\\n",
       "LongName                                                 Onset   \n",
       "Description  Onset of the event measured from the beginning...   \n",
       "Units                                                        s   \n",
       "Levels                                                     NaN   \n",
       "\n",
       "                                                duration  \\\n",
       "LongName                                        Duration   \n",
       "Description  Duration of the event, measured from onset.   \n",
       "Units                                                  s   \n",
       "Levels                                               NaN   \n",
       "\n",
       "                                                    trial_type  \n",
       "LongName          Categorization of a response inhibition task  \n",
       "Description         Education level, self-rated by participant  \n",
       "Units                                                      NaN  \n",
       "Levels       {'correct-go': 'Go trial, correct response', '...  "
      ]
     },
     "execution_count": 5,
     "metadata": {},
     "output_type": "execute_result"
    }
   ],
   "source": [
    "json_file_contents"
   ]
  },
  {
   "cell_type": "code",
   "execution_count": 6,
   "id": "dutch-effect",
   "metadata": {},
   "outputs": [
    {
     "data": {
      "text/plain": [
       "{'correct-go': 'Go trial, correct response',\n",
       " 'failed-go': 'Go trial, incorrect or no response',\n",
       " 'correct-stop': 'No-go or stop trial, correct response',\n",
       " 'failed-stop': 'No-go or stop trial, incorrect response',\n",
       " 'null': 'Null trial where cue stimulus is presented for duration'}"
      ]
     },
     "execution_count": 6,
     "metadata": {},
     "output_type": "execute_result"
    }
   ],
   "source": [
    "json_file_contents.loc['Levels','trial_type']"
   ]
  },
  {
   "cell_type": "markdown",
   "id": "natural-commonwealth",
   "metadata": {},
   "source": [
    "Good, so this information in the bids folder contains data about the trials. So if we can use that to move around the output, we have exactly what we need. we just need to work out what exactly is in the betaseries files."
   ]
  },
  {
   "cell_type": "markdown",
   "id": "removed-committee",
   "metadata": {},
   "source": [
    "## nonbids data\n",
    "\n",
    "### write_betaseries"
   ]
  },
  {
   "cell_type": "code",
   "execution_count": 29,
   "id": "designed-pakistan",
   "metadata": {},
   "outputs": [],
   "source": [
    "multiconds_sst_dir = '/gpfs/projects/sanlab/shared/DEV/DEV_scripts/fMRI/fx/multiconds/SST/'"
   ]
  },
  {
   "cell_type": "code",
   "execution_count": 30,
   "id": "armed-technical",
   "metadata": {},
   "outputs": [],
   "source": [
    "betaseries_output_filename = multiconds_sst_dir + 'betaseries/DEV085_1_SST1.mat'\n",
    "\n",
    "\n"
   ]
  },
  {
   "cell_type": "code",
   "execution_count": 31,
   "id": "historical-future",
   "metadata": {},
   "outputs": [],
   "source": [
    "import scipy\n",
    "import scipy.io"
   ]
  },
  {
   "cell_type": "code",
   "execution_count": 32,
   "id": "valuable-combination",
   "metadata": {},
   "outputs": [],
   "source": [
    "dev_085_betaseries_mat = scipy.io.loadmat(\n",
    "    betaseries_output_filename,\n",
    "    simplify_cells=True            \n",
    ")"
   ]
  },
  {
   "cell_type": "markdown",
   "id": "recognized-depression",
   "metadata": {},
   "source": [
    "Obviously a design file:"
   ]
  },
  {
   "cell_type": "code",
   "execution_count": 41,
   "id": "streaming-surname",
   "metadata": {},
   "outputs": [
    {
     "data": {
      "text/plain": [
       "dict_keys(['__header__', '__version__', '__globals__', 'names', 'onsets', 'durations'])"
      ]
     },
     "execution_count": 41,
     "metadata": {},
     "output_type": "execute_result"
    }
   ],
   "source": [
    "dev_085_betaseries_mat.keys()"
   ]
  },
  {
   "cell_type": "markdown",
   "id": "corrected-railway",
   "metadata": {},
   "source": [
    "How do these look like compared to the betaseries files genreated for WTP?"
   ]
  },
  {
   "cell_type": "markdown",
   "id": "mounted-deposit",
   "metadata": {},
   "source": [
    "#### Comparison"
   ]
  },
  {
   "cell_type": "code",
   "execution_count": 42,
   "id": "cubic-convenience",
   "metadata": {},
   "outputs": [],
   "source": [
    "comparable_wtp_mat_filepath = '/gpfs/projects/sanlab/shared/DEV/DEV_scripts/fMRI/fx/multiconds/SST/betaseries/DEV004_1_SST1.mat'\n",
    "comparable_sst_mat_filepath = '/gpfs/projects/sanlab/shared/DEV/DEV_scripts/fMRI/fx/multiconds/WTP/betaseries/DEV004_1_WTP1.mat'"
   ]
  },
  {
   "cell_type": "code",
   "execution_count": 43,
   "id": "mediterranean-glucose",
   "metadata": {},
   "outputs": [
    {
     "data": {
      "text/plain": [
       "dict_keys(['__header__', '__version__', '__globals__', 'names', 'onsets', 'durations'])"
      ]
     },
     "execution_count": 43,
     "metadata": {},
     "output_type": "execute_result"
    }
   ],
   "source": [
    "wtp_004 = scipy.io.loadmat(comparable_wtp_mat_filepath)\n",
    "wtp_004.keys()"
   ]
  },
  {
   "cell_type": "code",
   "execution_count": 44,
   "id": "sacred-tissue",
   "metadata": {},
   "outputs": [
    {
     "data": {
      "text/plain": [
       "dict_keys(['__header__', '__version__', '__globals__', 'durations', 'names', 'onsets'])"
      ]
     },
     "execution_count": 44,
     "metadata": {},
     "output_type": "execute_result"
    }
   ],
   "source": [
    "sst_004 = scipy.io.loadmat(comparable_sst_mat_filepath)\n",
    "sst_004.keys()"
   ]
  },
  {
   "cell_type": "markdown",
   "id": "temporal-monday",
   "metadata": {},
   "source": [
    "Seems to be the same structure. I wonder what's wrong."
   ]
  },
  {
   "cell_type": "markdown",
   "id": "danish-phase",
   "metadata": {},
   "source": [
    "### write_conditions"
   ]
  },
  {
   "cell_type": "code",
   "execution_count": 34,
   "id": "neural-rouge",
   "metadata": {},
   "outputs": [],
   "source": [
    "conditions_output_filename = multiconds_sst_dir + 'conditions/DEV085_1_SST1.mat'\n",
    "\n",
    "\n"
   ]
  },
  {
   "cell_type": "markdown",
   "id": "premier-shade",
   "metadata": {},
   "source": [
    "So this MAT file lists the onsets and durations of items by their class...."
   ]
  },
  {
   "cell_type": "code",
   "execution_count": 35,
   "id": "pediatric-disclosure",
   "metadata": {},
   "outputs": [],
   "source": [
    "dev_085_conditions_mat = scipy.io.loadmat(\n",
    "    conditions_output_filename,\n",
    "    simplify_cells=True            \n",
    ")"
   ]
  },
  {
   "cell_type": "code",
   "execution_count": 36,
   "id": "acceptable-fellow",
   "metadata": {},
   "outputs": [
    {
     "data": {
      "text/plain": [
       "{'__header__': b'MATLAB 5.0 MAT-file Platform: posix, Created on: Tue Nov 12 12:50:21 2019',\n",
       " '__version__': '1.0',\n",
       " '__globals__': [],\n",
       " 'names': array(['CorrectGo', 'CorrectStop', 'FailedStop', 'Cue', 'FailedGo'],\n",
       "       dtype=object),\n",
       " 'onsets': array([array([  5.5139 ,   9.02224,  12.5278 ,  15.90975,  18.35212,  24.42644,\n",
       "         33.87298,  38.87993,  42.5723 ,  45.20147,  50.46121,  53.46955,\n",
       "         56.03692,  58.60429,  62.60846,  65.11402,  73.50431,  76.07168,\n",
       "         78.63905,  81.20642,  84.02379,  87.90574,  92.2863 , 107.81272,\n",
       "        110.56828, 114.01065, 116.51482, 120.14677, 123.40094, 126.4065 ,\n",
       "        137.11553, 140.5579 , 143.37527, 145.87944, 148.32181, 160.8385 ,\n",
       "        166.34684, 168.78921, 171.23158, 175.04895, 177.67951, 182.18507,\n",
       "        189.69619, 192.82536, 195.45731, 205.4726 , 210.73234, 216.17471,\n",
       "        225.75182, 228.38377, 230.95114, 234.0817 , 240.27963, 243.41019,\n",
       "        251.48173, 254.61783, 257.62893, 260.6963 , 263.57547, 273.96715,\n",
       "        278.09632, 281.03869, 283.85606, 286.23523, 288.8026 , 291.86997,\n",
       "        295.24914, 301.44985, 304.83041, 307.70958, 314.1589 , 322.04917,\n",
       "        325.24154, 329.74571, 332.62766, 335.50683, 349.90546, 352.59783,\n",
       "        355.7902 , 359.48257, 361.98813, 364.9305 , 368.56245, 372.75482,\n",
       "        381.58192, 384.08609, 389.34443, 393.22499, 395.98194, 398.86111,\n",
       "        403.99723, 407.3146 , 410.82016, 414.57572]),\n",
       "        array([ 48.01884, 104.24535, 134.48497, 152.13918, 208.16497, 219.36708,\n",
       "        222.43445, 236.71226, 247.78936, 271.33798, 297.81651, 311.21653,\n",
       "        343.27073, 379.01455, 401.49167, 417.83682]),\n",
       "        array([  0.     ,  20.98407,  29.30561,  67.99458,  70.87375,  94.79186,\n",
       "         97.35923, 100.23979, 131.22387, 156.27113, 185.69063, 267.82964,\n",
       "        316.78807, 339.01517, 347.3999 , 375.63399]),\n",
       "        array([  2.25834,   4.7639 ,   7.77224,  11.0278 ,  14.65975,  17.85212,\n",
       "         20.48407,  22.92644,  26.30561,  31.24798,  36.00493,  40.8223 ,\n",
       "         44.45147,  47.14384,  49.96121,  52.71955,  55.41192,  57.97929,\n",
       "         60.48346,  64.61402,  67.11958,  69.87375,  72.87931,  75.44668,\n",
       "         78.01405,  80.58142,  83.14879,  86.15574,  89.9113 ,  94.29186,\n",
       "         96.73423,  99.36479, 102.24535, 106.18772, 109.81828, 112.51065,\n",
       "        115.88982, 118.64677, 122.02594, 125.4065 , 128.34887, 133.73497,\n",
       "        136.49053, 139.0579 , 142.50027, 145.25444, 147.82181, 150.26418,\n",
       "        154.27113, 158.2135 , 163.09684, 168.28921, 170.73158, 173.17395,\n",
       "        177.05451, 179.68507, 184.19063, 187.69619, 191.57536, 194.95731,\n",
       "        197.58926, 203.7226 , 207.41497, 210.10734, 212.67471, 218.11708,\n",
       "        221.30945, 224.37682, 227.88377, 230.32614, 232.9567 , 236.08726,\n",
       "        238.65463, 242.28519, 245.28936, 249.73173, 253.99283, 257.12893,\n",
       "        259.5713 , 262.57547, 265.45464, 270.08798, 273.21715, 275.84632,\n",
       "        280.03869, 282.98106, 285.73523, 288.1776 , 290.74497, 293.74914,\n",
       "        297.19151, 300.07485, 303.45541, 306.70958, 309.84153, 313.1589 ,\n",
       "        316.03807, 319.29917, 323.99154, 327.12071, 331.87766, 334.50683,\n",
       "        337.76517, 341.02073, 345.1499 , 349.40546, 351.84783, 354.5402 ,\n",
       "        357.73257, 361.48813, 363.9305 , 367.06245, 370.50482, 374.63399,\n",
       "        377.63955, 380.95692, 383.46109, 386.34443, 391.34999, 395.35694,\n",
       "        397.86111, 400.86667, 403.49723, 405.9396 , 409.32016, 412.82572,\n",
       "        417.08682, 419.33682]),\n",
       "        array([  2.75834, 201.46426])], dtype=object),\n",
       " 'durations': array([array([0.47260988, 0.5028389 , 0.53432941, 0.64045889, 0.46162251,\n",
       "        0.54309422, 0.72757376, 0.49590091, 0.49755091, 0.55014995,\n",
       "        0.50758679, 0.84331025, 0.63165404, 0.52462165, 0.5210364 ,\n",
       "        0.45936201, 0.00132521, 0.00117364, 0.5541707 , 0.5799599 ,\n",
       "        0.54554695, 0.50111295, 0.44487229, 0.4990962 , 0.51117373,\n",
       "        0.50271044, 0.46609793, 0.38426225, 0.78830696, 0.71838866,\n",
       "        0.58286876, 0.56979917, 0.58390506, 0.76091727, 0.56634342,\n",
       "        0.66226101, 0.54250448, 0.56445586, 0.48236424, 0.61447912,\n",
       "        0.4865617 , 0.46701174, 0.78932474, 0.76568562, 0.74160049,\n",
       "        0.89773423, 0.6749443 , 0.855655  , 0.57709746, 0.53951347,\n",
       "        0.59585428, 0.50367308, 0.54295558, 0.51924026, 0.53875221,\n",
       "        0.55831616, 0.66775112, 0.55623868, 0.57618946, 0.58638979,\n",
       "        0.54106123, 0.66338285, 0.48051531, 0.78477481, 0.70643115,\n",
       "        0.73322623, 0.45455212, 0.57310665, 0.69077898, 0.56772775,\n",
       "        0.70724362, 0.64158492, 0.57344471, 0.58305949, 0.48894724,\n",
       "        0.52725059, 0.85949544, 0.52023343, 0.44754943, 0.51354217,\n",
       "        0.55150181, 0.42509769, 0.56008868, 0.45452417, 0.71433639,\n",
       "        0.4382845 , 0.5826314 , 0.5442429 , 0.48214088, 0.51404003,\n",
       "        0.48453886, 0.51975729, 0.49928859, 0.54467618]),\n",
       "        array([1.94237, 1.94237, 2.00556, 2.13195, 1.94237, 1.94237, 1.94237,\n",
       "        1.94237, 1.94237, 1.87917, 2.25834, 1.94237, 1.87917, 1.94237,\n",
       "        2.00556, 1.5    ]),\n",
       "        array([2.25834, 1.94237, 1.94237, 1.87917, 2.00556, 1.94237, 2.00556,\n",
       "        2.00556, 2.5111 , 1.94237, 2.00556, 2.25834, 2.5111 , 2.00556,\n",
       "        2.00556, 2.00556]),\n",
       "        array([0.5  , 0.75 , 1.25 , 1.5  , 1.25 , 0.5  , 0.5  , 1.5  , 3.   ,\n",
       "        2.625, 2.875, 1.75 , 0.75 , 0.875, 0.5  , 0.75 , 0.625, 0.625,\n",
       "        2.125, 0.5  , 0.875, 1.   , 0.625, 0.625, 0.625, 0.625, 0.875,\n",
       "        1.75 , 2.375, 0.5  , 0.625, 0.875, 2.   , 1.625, 0.75 , 1.5  ,\n",
       "        0.625, 1.5  , 1.375, 1.   , 2.875, 0.75 , 0.625, 1.5  , 0.875,\n",
       "        0.625, 0.5  , 1.875, 2.   , 2.625, 3.25 , 0.5  , 0.5  , 1.875,\n",
       "        0.625, 2.5  , 1.5  , 2.   , 1.25 , 0.5  , 3.875, 1.75 , 0.75 ,\n",
       "        0.625, 3.5  , 1.25 , 1.125, 1.375, 0.5  , 0.625, 1.125, 0.625,\n",
       "        1.625, 1.125, 2.5  , 1.75 , 0.625, 0.5  , 1.125, 1.   , 2.375,\n",
       "        1.25 , 0.75 , 2.25 , 1.   , 0.875, 0.5  , 0.625, 1.125, 1.5  ,\n",
       "        0.625, 1.375, 1.375, 1.   , 1.375, 1.   , 0.75 , 2.75 , 1.25 ,\n",
       "        2.625, 0.75 , 1.   , 1.25 , 2.25 , 2.25 , 0.5  , 0.75 , 1.25 ,\n",
       "        1.75 , 0.5  , 1.   , 1.5  , 2.25 , 1.   , 1.375, 0.625, 0.625,\n",
       "        3.   , 1.875, 0.625, 1.   , 0.625, 0.5  , 1.375, 1.5  , 1.75 ,\n",
       "        0.75 , 1.25 ]),\n",
       "        array([2.00556, 2.25834])], dtype=object)}"
      ]
     },
     "execution_count": 36,
     "metadata": {},
     "output_type": "execute_result"
    }
   ],
   "source": [
    "dev_085_conditions_mat"
   ]
  },
  {
   "cell_type": "code",
   "execution_count": 38,
   "id": "improving-booking",
   "metadata": {},
   "outputs": [
    {
     "data": {
      "text/plain": [
       "dict_keys(['__header__', '__version__', '__globals__', 'names', 'onsets', 'durations'])"
      ]
     },
     "execution_count": 38,
     "metadata": {},
     "output_type": "execute_result"
    }
   ],
   "source": [
    "dev_085_conditions_mat.keys()"
   ]
  },
  {
   "cell_type": "markdown",
   "id": "fossil-sociology",
   "metadata": {},
   "source": [
    "OK, so where do we generate the SPM inputs?\n",
    "\n",
    "The general info flow for DEV is in: https://docs.google.com/presentation/d/1K-nFrZYE6rR8t0myNyacB7frBzV3B1--nMqPhVkwL8E/edit#slide=id.p\n",
    "\n",
    "\n",
    "For WTP, betaseries.m generates mat files that then "
   ]
  },
  {
   "cell_type": "code",
   "execution_count": null,
   "id": "south-medicine",
   "metadata": {},
   "outputs": [],
   "source": [
    "OK, so where do we generate the SPM inputs"
   ]
  },
  {
   "cell_type": "markdown",
   "id": "figured-emperor",
   "metadata": {},
   "source": [
    "## Bids data processing"
   ]
  },
  {
   "cell_type": "code",
   "execution_count": 4,
   "id": "advanced-intro",
   "metadata": {},
   "outputs": [],
   "source": [
    "import glob\n",
    "import os\n",
    "import re\n",
    "import pandas as pd"
   ]
  },
  {
   "cell_type": "code",
   "execution_count": 8,
   "id": "hearing-organic",
   "metadata": {},
   "outputs": [],
   "source": [
    "ml_data_folderpath = \"/gpfs/projects/sanlab/shared/DEV/nonbids_data/fMRI/ml\""
   ]
  },
  {
   "cell_type": "code",
   "execution_count": 6,
   "id": "partial-sherman",
   "metadata": {},
   "outputs": [
    {
     "name": "stdout",
     "output_type": "stream",
     "text": [
      "DEV033: wave1, wave5, wave4, wave3, wave2, ; DEV079: wave1, wave4, wave3, wave2, ; DEV017: wave1, wave3, wave2, ; DEV207: wave1, wave3, wave2, ; DEV131: wave1, ; DEV122: wave1, wave5, wave3, wave2, ; DEV115: wave1, wave5, wave4, wave3, wave2, ; DEV138: wave1, wave5, wave3, wave2, ; DEV054: wave1, wave5, wave4, wave3, wave2, ; DEV194: wave1, wave3, wave2, ; DEV147: wave1, wave5, wave3, wave2, ; DEV047: wave1, wave4, wave3, wave2, ; DEV220: wave1, ; DEV215: wave1, wave2, ; DEV224: wave1, ; DEV111: wave1, ; DEV014: wave1, wave5, wave4, wave3, wave2, ; DEV083: wave1, wave4, wave3, wave2, ; DEV190: wave1, wave4, wave3, wave2, ; DEV161: wave1, wave5, wave2, ; DEV151: wave1, wave5, wave3, wave2, ; DEV026: wave1, wave5, wave4, wave3, wave2, ; DEV225: wave1, ; DEV044: wave1, wave2, ; DEV200: wave1, wave3, wave2, ; DEV132: wave1, wave5, wave3, wave2, ; DEV143: wave1, wave3, wave2, ; DEV005: wave1, wave3, wave2, ; DEV095: wave1, ; DEV085: wave1, wave2, ; DEV195: wave1, wave4, wave3, wave2, ; DEV182: wave1, wave4, wave3, wave2, ; DEV112: wave1, wave4, wave3, wave2, ; DEV223: wave1, ; DEV128: wave1, wave5, wave3, wave2, ; DEV025: wave1, wave5, wave4, wave3, wave2, ; DEV029: wave1, wave2, ; DEV082: wave1, ; DEV064: wave1, wave3, wave2, ; DEV042: wave1, wave5, wave4, wave3, wave2, ; DEV117: wave1, wave3, wave2, ; DEV196: wave1, wave3, wave2, ; DEV169: wave1, ; DEV159: wave1, wave5, wave2, ; DEV217: wave1, ; DEV154: wave1, wave3, wave2, ; DEV180: wave1, wave4, wave3, wave2, ; DEV108: wave1, wave4, wave3, wave2, ; DEV119: wave1, wave5, wave3, wave2, ; DEV222: wave1, ; DEV171: wave1, ; DEV193: wave1, wave3, wave2, ; DEV120: wave1, wave5, wave3, wave2, ; DEV076: wave1, wave4, wave3, wave2, ; DEV105: wave1, ; DEV208: wave1, wave3, wave2, ; DEV019: wave1, wave5, wave4, wave3, wave2, ; DEV140: wave1, wave3, wave2, ; DEV068: wave1, wave5, wave4, wave3, wave2, ; DEV008: wave1, wave2, ; DEV043: wave1, wave5, wave4, wave3, wave2, ; DEV107: wave1, wave4, wave3, wave2, ; DEV221: wave1, ; DEV170: wave1, ; DEV177: wave1, wave4, wave3, wave2, ; DEV114: wave1, wave4, wave3, wave2, ; DEV203: wave1, wave2, ; DEV038: wave1, wave5, wave4, wave3, wave2, ; DEV090: wave1, wave4, wave3, wave2, ; DEV028: wave1, wave5, wave4, wave3, wave2, ; DEV133: wave1, wave5, wave4, wave3, wave2, ; DEV060: wave1, wave5, wave4, wave3, wave2, ; DEV067: wave1, wave5, wave4, wave3, wave2, ; DEV197: wave1, wave3, wave2, ; DEV075: wave1, wave4, wave3, wave2, ; DEV185: wave1, wave4, wave3, wave2, ; DEV219: wave1, ; DEV091: wave1, wave4, wave3, wave2, ; DEV059: wave1, wave5, wave4, wave3, wave2, ; DEV110: wave1, wave4, wave3, wave2, ; DEV061: wave1, wave5, wave4, wave3, wave2, ; DEV191: wave1, wave3, wave2, ; DEV099: wave1, wave4, wave3, wave2, ; DEV037: wave1, ; DEV012: wave1, wave5, wave4, wave3, wave2, ; DEV130: wave1, wave5, wave4, wave3, wave2, ; DEV027: wave1, wave5, wave4, wave3, wave2, ; DEV056: wave1, wave5, wave4, wave3, wave2, ; DEV098: wave1, wave5, wave3, wave2, ; DEV088: wave1, wave4, wave3, wave2, ; DEV149: wave1, wave5, wave3, wave2, ; DEV022: wave1, ; DEV102: wave1, wave2, ; DEV016: wave1, wave5, wave4, wave3, wave2, ; DEV070: wave1, wave5, wave4, wave3, wave2, ; DEV166: wave1, ; DEV178: wave1, wave4, wave3, wave2, ; DEV046: wave1, wave5, wave4, wave3, wave2, ; DEV187: wave1, wave4, wave3, wave2, ; DEV055: wave1, wave4, wave3, wave2, ; DEV097: wave1, wave4, wave3, wave2, ; DEV125: wave1, wave4, wave3, wave2, ; DEV080: wave1, ; DEV087: wave1, wave4, wave3, wave2, ; DEV063: wave1, wave5, wave4, wave3, wave2, ; DEV052: wave1, wave5, wave4, wave3, wave2, ; DEV181: wave1, wave4, wave3, wave2, ; DEV152: wave1, ; DEV071: wave1, wave4, wave3, wave2, ; DEV174: wave1, ; DEV081: wave1, wave4, wave3, wave2, ; DEV040: wave1, wave5, wave4, wave3, wave2, ; DEV126: wave1, wave4, wave3, wave2, ; DEV139: wave1, wave5, wave4, wave3, wave2, ; DEV015: wave1, wave5, wave4, wave3, wave2, ; DEV066: wave1, wave5, wave4, wave3, wave2, ; DEV163: wave1, wave2, ; DEV089: wave1, wave4, wave3, wave2, ; DEV045: wave1, ; DEV218: wave1, wave2, ; DEV039: wave1, wave4, wave3, wave2, ; DEV127: wave1, wave4, wave3, wave2, ; DEV011: wave1, wave5, wave4, wave3, wave2, ; DEV141: wave1, wave5, wave3, wave2, ; DEV041: wave1, wave5, wave4, wave3, wave2, ; DEV134: wave1, wave5, wave3, wave2, ; DEV188: wave1, wave2, ; DEV049: wave1, wave5, wave4, wave3, wave2, ; DEV007: wave1, ; DEV065: wave1, wave5, wave4, wave3, wave2, ; DEV073: wave1, wave4, wave3, wave2, ; DEV123: wave1, ; DEV168: wave1, ; DEV158: wave1, wave5, wave2, ; DEV192: wave1, wave3, wave2, ; DEV004: wave1, wave5, wave4, wave3, wave2, ; DEV211: wave1, wave2, ; DEV032: wave1, ; DEV153: wave1, wave5, wave3, wave2, ; DEV135: wave1, wave5, wave3, wave2, ; DEV094: wave1, wave4, wave3, wave2, ; DEV093: wave1, wave4, wave3, wave2, ; DEV164: wave1, wave5, wave4, wave2, ; DEV084: wave1, wave4, wave3, wave2, ; DEV124: wave1, wave5, wave4, wave3, wave2, ; DEV176: wave1, ; DEV021: wave1, wave5, wave4, wave3, wave2, ; DEV009: wave1, wave5, wave4, wave3, wave2, ; DEV034: wave1, ; DEV024: wave1, wave5, wave4, wave3, wave2, ; DEV144: wave1, wave2, ; DEV183: wave1, wave4, wave3, wave2, ; DEV078: wave1, wave3, wave2, ; DEV118: wave1, wave4, wave3, wave2, ; DEV074: wave1, wave4, wave3, wave2, ; DEV062: wave1, wave4, wave3, wave2, ; DEV150: wave1, wave2, ; DEV101: wave1, wave4, wave3, wave2, ; DEV106: wave1, ; DEV173: wave1, ; DEV050: wave1, wave5, wave4, wave3, wave2, ; DEV156: wave1, wave5, wave2, ; DEV036: wave1, wave5, wave4, wave3, wave2, ; DEV155: wave1, wave5, wave3, wave2, ; DEV031: wave1, wave5, wave4, wave3, wave2, ; DEV206: wave1, wave3, wave2, ; DEV209: wave1, wave2, ; DEV077: wave1, wave4, wave3, wave2, ; DEV051: wave1, wave5, wave4, wave3, wave2, ; DEV113: wave1, wave4, wave3, wave2, ; DEV100: wave1, wave4, wave3, wave2, ; DEV172: wave1, ; DEV121: wave1, wave3, wave2, ; DEV072: wave1, wave4, wave3, wave2, ; DEV205: wave1, wave3, wave2, ; DEV013: wave1, wave5, wave4, wave3, wave2, ; DEV023: wave1, wave5, wave4, wave3, wave2, ; DEV001: wave1, wave2, ; DEV058: wave1, wave5, wave4, wave3, wave2, ; DEV035: wave1, wave5, wave3, wave2, ; DEV020: wave1, wave5, wave4, wave3, wave2, ; DEV069: wave1, wave5, wave4, wave3, wave2, ; DEV137: wave1, wave5, wave3, wave2, ; DEV189: wave1, wave2, ; DEV096: wave1, wave3, wave2, ; DEV129: wave1, wave5, wave3, wave2, ; DEV086: wave1, wave4, wave3, wave2, ; DEV198: wave1, wave3, wave2, ; DEV018: wave1, wave4, wave3, wave2, ; DEV202: wave1, ; DEV145: wave1, wave5, wave3, wave2, ; DEV048: wave1, wave5, wave4, wave3, wave2, ; DEV057: wave1, wave5, wave4, wave3, wave2, ; DEV109: wave1, wave5, wave3, wave2, ; DEV053: wave1, wave5, wave4, wave3, wave2, ; DEV103: wave1, wave4, wave3, wave2, ; DEV010: wave1, wave5, wave4, wave3, wave2, ; DEV186: wave1, wave3, wave2, ; DEV199: wave1, wave2, ; DEV167: wave1, wave5, wave4, wave2, ; DEV201: wave1, wave2, ; DEV104: wave1, wave4, wave3, wave2, ; DEV157: wave1, wave5, wave2, ; DEV030: wave1, wave5, wave4, wave3, wave2, ; DEV204: wave1, wave2, ; DEV006: wave1, ; DEV216: wave1, ; DEV179: wave1, wave4, wave3, wave2, ; DEV116: wave1, wave3, wave2, ; "
     ]
    }
   ],
   "source": [
    "bids_data_folder_path = '/gpfs/projects/sanlab/shared/DEV/bids_data/'\n",
    "subject_folder_pattern = 'sub-DEV*'\n",
    "\n",
    "\n",
    "# get subjects in the folder path\n",
    "dataframe_list = []\n",
    "subject_folderpaths = glob.glob(bids_data_folder_path + subject_folder_pattern)\n",
    "for subj_folderpath in subject_folderpaths:\n",
    "    wave_folder_pattern = \"ses-wave*\"\n",
    "    #loop through waves\n",
    "    subj_wave_folderpaths = glob.glob(subj_folderpath + \"/\" + wave_folder_pattern) \n",
    "    #get the subject ID\n",
    "\n",
    "    subj_id = re.search('sub-(DEV\\d\\d\\d)',subj_folderpath).group(1)\n",
    "    print(subj_id,end=\": \")\n",
    "    \n",
    "    for wave_folderpath in subj_wave_folderpaths:\n",
    "        #print(wave_folderpath)\n",
    "        #get the wave ID\n",
    "        wave_name = re.search('ses-(wave\\d+)',wave_folderpath).group(1)\n",
    "        print(wave_name, end= \", \")\n",
    "        \n",
    "        tsv_name_pattern = 'func/sub-' + subj_id + '_ses-' + wave_name + '_task-SST_acq-*_events.tsv'\n",
    "        #I think we need to ensure there aren't more than one acquisition for each SSt\n",
    "        #that would indicate improper data processing in earlier steps\n",
    "\n",
    "        acquisition_filepath_list = glob.glob(wave_folderpath + \"/\" + tsv_name_pattern)\n",
    "        if(len(acquisition_filepath_list)==0):\n",
    "            #no acquisition for this wave; pass on this wave\n",
    "            #this will happen often. no need to do anything about it.\n",
    "            next\n",
    "        elif (len(acquisition_filepath_list)>1):\n",
    "            raise Exception(\"more than one acquisition for subject \" + subjid + \" wave \" + wave_name + \".\" +\n",
    "                            \"We only expect ONE SST for wave 1 and wave 2 and none for further waves.\" +\n",
    "                            \"Further waves contain SST but should not contain fMRI records of such.\"\n",
    "                           )\n",
    "        else: #len(acquisition_filepath_list)==1\n",
    "            #get the file\n",
    "            acquisition_filepath = acquisition_filepath_list[0]\n",
    "            tsv_filesize = os.path.getsize(acquisition_filepath)\n",
    "            if (tsv_filesize==0):\n",
    "                warning_message = (\"Filesize was zero for subject \" + subj_id + \" wave \" + wave_name + \".\" +\n",
    "                              \" This indicates a problem with the SST behaivoral data. Unclear whether the data was not properly recorded originally \" +\n",
    "                              \"or whether there was a problem in processing. Could have been processing problem in fx/multiconds/.../multiconds.py. \" +\n",
    "                              \"For now, skipping this wave and continuing, but it's important to investigate further.\")\n",
    "                print(\"\\n\" + warning_message+ \"\\n\")\n",
    "                #raise Warning()\n",
    "                break\n",
    "            sst_acquisition_record = pd.read_csv(acquisition_filepath,sep='\\t')\n",
    "            sst_acquisition_record['subject'] = subj_id\n",
    "            sst_acquisition_record['wave'] = wave_name\n",
    "            #add it to the list\n",
    "            dataframe_list = dataframe_list + [sst_acquisition_record]\n",
    "            #print(sst_acquisition_record)\n",
    "    print(\";\", end=\" \")\n",
    "    #break\n",
    "\n",
    "    \n",
    "all_sst_events = pd.concat(dataframe_list)"
   ]
  },
  {
   "cell_type": "code",
   "execution_count": null,
   "id": "aerial-theorem",
   "metadata": {},
   "outputs": [],
   "source": []
  },
  {
   "cell_type": "code",
   "execution_count": 12,
   "id": "opposed-joining",
   "metadata": {},
   "outputs": [],
   "source": [
    "all_sst_events.to_csv(ml_data_folderpath + \"/\"+\"all_sst_events.csv\",index=False)"
   ]
  },
  {
   "cell_type": "code",
   "execution_count": null,
   "id": "purple-philosophy",
   "metadata": {},
   "outputs": [],
   "source": [
    "pd.read_csv(bids_tsv_file_path,sep='\\t')"
   ]
  }
 ],
 "metadata": {
  "kernelspec": {
   "display_name": "Python [conda env:.conda-neuralsignature]",
   "language": "python",
   "name": "conda-env-.conda-neuralsignature-py"
  },
  "language_info": {
   "codemirror_mode": {
    "name": "ipython",
    "version": 3
   },
   "file_extension": ".py",
   "mimetype": "text/x-python",
   "name": "python",
   "nbconvert_exporter": "python",
   "pygments_lexer": "ipython3",
   "version": "3.8.5"
  }
 },
 "nbformat": 4,
 "nbformat_minor": 5
}
