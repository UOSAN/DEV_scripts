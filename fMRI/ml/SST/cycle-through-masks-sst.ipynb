{
 "cells": [
  {
   "cell_type": "code",
   "execution_count": 1,
   "id": "quiet-arkansas",
   "metadata": {},
   "outputs": [],
   "source": [
    "ml_data_folderpath = \"/gpfs/projects/sanlab/shared/DEV/nonbids_data/fMRI/ml\"\n",
    "\n",
    "mask_folder = ml_data_folderpath + \"/masks/response_inhibition_related/\""
   ]
  },
  {
   "cell_type": "code",
   "execution_count": 2,
   "id": "egyptian-central",
   "metadata": {},
   "outputs": [
    {
     "name": "stderr",
     "output_type": "stream",
     "text": [
      "/home/bsmith16/.conda/envs/neuralsignature/lib/python3.8/site-packages/nilearn/datasets/__init__.py:87: FutureWarning: Fetchers from the nilearn.datasets module will be updated in version 0.9 to return python strings instead of bytes and Pandas dataframes instead of Numpy arrays.\n",
      "  warn(\"Fetchers from the nilearn.datasets module will be \"\n"
     ]
    }
   ],
   "source": [
    "import os\n",
    "import sys \n",
    "sys.path.append(os.path.abspath(\"../../ml/\"))\n",
    "from dev_wtp_io_utils import create_mask_from_images\n",
    "from IPython.core.display import display, HTML, Markdown"
   ]
  },
  {
   "cell_type": "code",
   "execution_count": 3,
   "id": "under-valentine",
   "metadata": {},
   "outputs": [],
   "source": [
    "mask_name_list = os.listdir(mask_folder)"
   ]
  },
  {
   "cell_type": "raw",
   "id": "coordinate-automation",
   "metadata": {},
   "source": [
    "from dev_wtp_io_utils import Brain_Data_max\n",
    "import nltools as nlt\n",
    "import nilearn as nil\n",
    "import nibabel as nib\n",
    "\n",
    "def create_mask_from_images(image_filepath_list,threshold=0):\n",
    "    mask_set = nlt.Brain_Data(image_filepath_list)\n",
    "    if len(mask_set.shape())>1:\n",
    "        mask_aggregate = Brain_Data_max(mask_set).to_nifti()\n",
    "    else:\n",
    "        mask_aggregate = mask_set.to_nifti()\n",
    "    mask_binarized = nil.image.new_img_like(mask_aggregate,(mask_aggregate.get_fdata()>threshold).astype(float))\n",
    "\n",
    "    return(mask_binarized)\n"
   ]
  },
  {
   "cell_type": "code",
   "execution_count": 4,
   "id": "painted-klein",
   "metadata": {},
   "outputs": [],
   "source": [
    "# for mask_filename in mask_name_list:\n",
    "#     mask_name = mask_filename.split(\".\")[0]\n",
    "#     display(Markdown(\"## \" + mask_name))\n",
    "#     mask_img = create_mask_from_images(mask_folder + mask_filename,threshold=20)\n",
    "\n"
   ]
  },
  {
   "cell_type": "code",
   "execution_count": 5,
   "id": "copyrighted-continent",
   "metadata": {},
   "outputs": [
    {
     "name": "stdout",
     "output_type": "stream",
     "text": [
      "28 25\n"
     ]
    }
   ],
   "source": [
    "import multiprocessing\n",
    "import math\n",
    "cpus_available = multiprocessing.cpu_count()\n",
    "cpus_to_use = min(cpus_available-1,math.floor(0.9*cpus_available))\n",
    "print(cpus_available, cpus_to_use)"
   ]
  },
  {
   "cell_type": "markdown",
   "id": "miniature-powder",
   "metadata": {},
   "source": [
    "## cycle through masks and start jobs to do the task itself"
   ]
  },
  {
   "cell_type": "code",
   "execution_count": 12,
   "id": "shaped-margin",
   "metadata": {},
   "outputs": [],
   "source": [
    "import os"
   ]
  },
  {
   "cell_type": "code",
   "execution_count": 22,
   "id": "meaning-celebrity",
   "metadata": {},
   "outputs": [],
   "source": [
    "\n",
    "def iterate_through_masks(mask_folder,mask_threshold, script_name):\n",
    "    mask_name_list = os.listdir(mask_folder)\n",
    "\n",
    "    \n",
    "    for mask_filename in mask_name_list:\n",
    "        mask_filepath = mask_folder + mask_filename\n",
    "        if os.path.isdir(mask_filepath):\n",
    "            continue # this is a directory, don't process it.\n",
    "            \n",
    "            \n",
    "        print(\"sbatch run_discriminability_learning_script.sbatch \" + script_name + \" \\\"\" +\n",
    "              mask_filepath + \"\\\" \" + \n",
    "              str(mask_threshold))\n",
    "        \n",
    "        \n",
    "def iterate_through_masks_cgcng_1(mask_folder,mask_threshold):\n",
    "    return(iterate_through_masks(mask_folder,mask_threshold,\"cgcng_discriminability_by_mask.py\"))\n"
   ]
  },
  {
   "cell_type": "code",
   "execution_count": null,
   "id": "european-colors",
   "metadata": {},
   "outputs": [],
   "source": []
  },
  {
   "cell_type": "code",
   "execution_count": 23,
   "id": "apart-passport",
   "metadata": {},
   "outputs": [],
   "source": [
    "harvox_folderpath = ml_data_folderpath + \"/masks/response_inhibition_related/harvardoxford/\"\n",
    "neurosynth_folderpath = ml_data_folderpath + \"/masks/response_inhibition_related/\""
   ]
  },
  {
   "cell_type": "code",
   "execution_count": 24,
   "id": "rough-billion",
   "metadata": {},
   "outputs": [
    {
     "name": "stdout",
     "output_type": "stream",
     "text": [
      "sbatch run_discriminability_learning_script.sbatch cgcng_discriminability_by_mask.py \"/gpfs/projects/sanlab/shared/DEV/nonbids_data/fMRI/ml/masks/response_inhibition_related/harvardoxford/harvardoxford-cortical_prob_Superior Frontal Gyrus.nii.gz\" 10\n",
      "sbatch run_discriminability_learning_script.sbatch cgcng_discriminability_by_mask.py \"/gpfs/projects/sanlab/shared/DEV/nonbids_data/fMRI/ml/masks/response_inhibition_related/harvardoxford/harvardoxford-cortical_prob_Frontal Pole.nii.gz\" 10\n",
      "sbatch run_discriminability_learning_script.sbatch cgcng_discriminability_by_mask.py \"/gpfs/projects/sanlab/shared/DEV/nonbids_data/fMRI/ml/masks/response_inhibition_related/harvardoxford/harvardoxford-cortical_prob_Cingulate Gyrus, posterior division.nii.gz\" 10\n",
      "sbatch run_discriminability_learning_script.sbatch cgcng_discriminability_by_mask.py \"/gpfs/projects/sanlab/shared/DEV/nonbids_data/fMRI/ml/masks/response_inhibition_related/harvardoxford/harvardoxford-cortical_prob_Frontal Orbital Cortex.nii.gz\" 10\n",
      "sbatch run_discriminability_learning_script.sbatch cgcng_discriminability_by_mask.py \"/gpfs/projects/sanlab/shared/DEV/nonbids_data/fMRI/ml/masks/response_inhibition_related/harvardoxford/harvardoxford-cortical_prob_Frontal Operculum Cortex.nii.gz\" 10\n",
      "sbatch run_discriminability_learning_script.sbatch cgcng_discriminability_by_mask.py \"/gpfs/projects/sanlab/shared/DEV/nonbids_data/fMRI/ml/masks/response_inhibition_related/harvardoxford/harvardoxford-cortical_prob_Supramarginal Gyrus, posterior division.nii.gz\" 10\n",
      "sbatch run_discriminability_learning_script.sbatch cgcng_discriminability_by_mask.py \"/gpfs/projects/sanlab/shared/DEV/nonbids_data/fMRI/ml/masks/response_inhibition_related/harvardoxford/harvardoxford-cortical_prob_Angular Gyrus.nii.gz\" 10\n",
      "sbatch run_discriminability_learning_script.sbatch cgcng_discriminability_by_mask.py \"/gpfs/projects/sanlab/shared/DEV/nonbids_data/fMRI/ml/masks/response_inhibition_related/harvardoxford/harvardoxford-cortical_prob_Cingulate Gyrus, anterior division.nii.gz\" 10\n",
      "sbatch run_discriminability_learning_script.sbatch cgcng_discriminability_by_mask.py \"/gpfs/projects/sanlab/shared/DEV/nonbids_data/fMRI/ml/masks/response_inhibition_related/harvardoxford/harvardoxford-cortical_prob_Lateral Occipital Cortex, superior division.nii.gz\" 10\n",
      "sbatch run_discriminability_learning_script.sbatch cgcng_discriminability_by_mask.py \"/gpfs/projects/sanlab/shared/DEV/nonbids_data/fMRI/ml/masks/response_inhibition_related/harvardoxford/harvardoxford-cortical_prob_Inferior Frontal Gyrus, pars opercularis.nii.gz\" 10\n",
      "sbatch run_discriminability_learning_script.sbatch cgcng_discriminability_by_mask.py \"/gpfs/projects/sanlab/shared/DEV/nonbids_data/fMRI/ml/masks/response_inhibition_related/harvardoxford/harvardoxford-cortical_prob_Inferior Frontal Gyrus, pars triangularis.nii.gz\" 10\n",
      "sbatch run_discriminability_learning_script.sbatch cgcng_discriminability_by_mask.py \"/gpfs/projects/sanlab/shared/DEV/nonbids_data/fMRI/ml/masks/response_inhibition_related/harvardoxford/harvardoxford-cortical_prob_Insular Cortex.nii.gz\" 10\n",
      "sbatch run_discriminability_learning_script.sbatch cgcng_discriminability_by_mask.py \"/gpfs/projects/sanlab/shared/DEV/nonbids_data/fMRI/ml/masks/response_inhibition_related/negative affect_association-test_z_FDR_0.01.nii.gz\" 0\n",
      "sbatch run_discriminability_learning_script.sbatch cgcng_discriminability_by_mask.py \"/gpfs/projects/sanlab/shared/DEV/nonbids_data/fMRI/ml/masks/response_inhibition_related/response inhibition_association-test_z_FDR_0.01.nii.gz\" 0\n",
      "sbatch run_discriminability_learning_script.sbatch cgcng_discriminability_by_mask.py \"/gpfs/projects/sanlab/shared/DEV/nonbids_data/fMRI/ml/masks/response_inhibition_related/negative emotions_association-test_z_FDR_0.01.nii.gz\" 0\n"
     ]
    }
   ],
   "source": [
    "iterate_through_masks_cgcng_1(harvox_folderpath,10)\n",
    "\n",
    "iterate_through_masks_cgcng_1(neurosynth_folderpath,0)"
   ]
  },
  {
   "cell_type": "markdown",
   "id": "metallic-switch",
   "metadata": {},
   "source": [
    "### v2"
   ]
  },
  {
   "cell_type": "code",
   "execution_count": 26,
   "id": "preceding-forth",
   "metadata": {},
   "outputs": [
    {
     "name": "stdout",
     "output_type": "stream",
     "text": [
      "sbatch run_discriminability_learning_script.sbatch cgcng_discriminability_by_mask_v2.py \"/gpfs/projects/sanlab/shared/DEV/nonbids_data/fMRI/ml/masks/response_inhibition_related/harvardoxford/harvardoxford-cortical_prob_Superior Frontal Gyrus.nii.gz\" 30\n",
      "sbatch run_discriminability_learning_script.sbatch cgcng_discriminability_by_mask_v2.py \"/gpfs/projects/sanlab/shared/DEV/nonbids_data/fMRI/ml/masks/response_inhibition_related/harvardoxford/harvardoxford-cortical_prob_Frontal Pole.nii.gz\" 30\n",
      "sbatch run_discriminability_learning_script.sbatch cgcng_discriminability_by_mask_v2.py \"/gpfs/projects/sanlab/shared/DEV/nonbids_data/fMRI/ml/masks/response_inhibition_related/harvardoxford/harvardoxford-cortical_prob_Cingulate Gyrus, posterior division.nii.gz\" 30\n",
      "sbatch run_discriminability_learning_script.sbatch cgcng_discriminability_by_mask_v2.py \"/gpfs/projects/sanlab/shared/DEV/nonbids_data/fMRI/ml/masks/response_inhibition_related/harvardoxford/harvardoxford-cortical_prob_Frontal Orbital Cortex.nii.gz\" 30\n",
      "sbatch run_discriminability_learning_script.sbatch cgcng_discriminability_by_mask_v2.py \"/gpfs/projects/sanlab/shared/DEV/nonbids_data/fMRI/ml/masks/response_inhibition_related/harvardoxford/harvardoxford-cortical_prob_Frontal Operculum Cortex.nii.gz\" 30\n",
      "sbatch run_discriminability_learning_script.sbatch cgcng_discriminability_by_mask_v2.py \"/gpfs/projects/sanlab/shared/DEV/nonbids_data/fMRI/ml/masks/response_inhibition_related/harvardoxford/harvardoxford-cortical_prob_Supramarginal Gyrus, posterior division.nii.gz\" 30\n",
      "sbatch run_discriminability_learning_script.sbatch cgcng_discriminability_by_mask_v2.py \"/gpfs/projects/sanlab/shared/DEV/nonbids_data/fMRI/ml/masks/response_inhibition_related/harvardoxford/harvardoxford-cortical_prob_Angular Gyrus.nii.gz\" 30\n",
      "sbatch run_discriminability_learning_script.sbatch cgcng_discriminability_by_mask_v2.py \"/gpfs/projects/sanlab/shared/DEV/nonbids_data/fMRI/ml/masks/response_inhibition_related/harvardoxford/harvardoxford-cortical_prob_Cingulate Gyrus, anterior division.nii.gz\" 30\n",
      "sbatch run_discriminability_learning_script.sbatch cgcng_discriminability_by_mask_v2.py \"/gpfs/projects/sanlab/shared/DEV/nonbids_data/fMRI/ml/masks/response_inhibition_related/harvardoxford/harvardoxford-cortical_prob_Lateral Occipital Cortex, superior division.nii.gz\" 30\n",
      "sbatch run_discriminability_learning_script.sbatch cgcng_discriminability_by_mask_v2.py \"/gpfs/projects/sanlab/shared/DEV/nonbids_data/fMRI/ml/masks/response_inhibition_related/harvardoxford/harvardoxford-cortical_prob_Inferior Frontal Gyrus, pars opercularis.nii.gz\" 30\n",
      "sbatch run_discriminability_learning_script.sbatch cgcng_discriminability_by_mask_v2.py \"/gpfs/projects/sanlab/shared/DEV/nonbids_data/fMRI/ml/masks/response_inhibition_related/harvardoxford/harvardoxford-cortical_prob_Inferior Frontal Gyrus, pars triangularis.nii.gz\" 30\n",
      "sbatch run_discriminability_learning_script.sbatch cgcng_discriminability_by_mask_v2.py \"/gpfs/projects/sanlab/shared/DEV/nonbids_data/fMRI/ml/masks/response_inhibition_related/harvardoxford/harvardoxford-cortical_prob_Insular Cortex.nii.gz\" 30\n",
      "sbatch run_discriminability_learning_script.sbatch cgcng_discriminability_by_mask_v2.py \"/gpfs/projects/sanlab/shared/DEV/nonbids_data/fMRI/ml/masks/response_inhibition_related/negative affect_association-test_z_FDR_0.01.nii.gz\" 0\n",
      "sbatch run_discriminability_learning_script.sbatch cgcng_discriminability_by_mask_v2.py \"/gpfs/projects/sanlab/shared/DEV/nonbids_data/fMRI/ml/masks/response_inhibition_related/response inhibition_association-test_z_FDR_0.01.nii.gz\" 0\n",
      "sbatch run_discriminability_learning_script.sbatch cgcng_discriminability_by_mask_v2.py \"/gpfs/projects/sanlab/shared/DEV/nonbids_data/fMRI/ml/masks/response_inhibition_related/negative emotions_association-test_z_FDR_0.01.nii.gz\" 0\n"
     ]
    }
   ],
   "source": [
    "iterate_through_masks(harvox_folderpath,30,\"cgcng_discriminability_by_mask_v2.py\")\n",
    "\n",
    "iterate_through_masks(neurosynth_folderpath,0,\"cgcng_discriminability_by_mask_v2.py\")"
   ]
  },
  {
   "cell_type": "markdown",
   "id": "terminal-simulation",
   "metadata": {},
   "source": [
    "## cycle through masks for the RTFS"
   ]
  },
  {
   "cell_type": "code",
   "execution_count": 19,
   "id": "formal-morning",
   "metadata": {},
   "outputs": [],
   "source": [
    "\n",
    "def iterate_through_masks_pscg(mask_folder,mask_threshold):\n",
    "    mask_name_list = os.listdir(mask_folder)\n",
    "\n",
    "    \n",
    "    for mask_filename in mask_name_list:\n",
    "        mask_filepath = mask_folder + mask_filename\n",
    "        if os.path.isdir(mask_filepath):\n",
    "            continue # this is a directory, don't process it.\n",
    "            \n",
    "            \n",
    "        print(\"sbatch run_discriminability_learning_script.sbatch pscg_discriminability_by_mask.py \\\"\" + \n",
    "              mask_filepath + \"\\\" \" + \n",
    "              str(mask_threshold))\n",
    "        \n",
    "        \n",
    "        \n"
   ]
  },
  {
   "cell_type": "code",
   "execution_count": 20,
   "id": "straight-stable",
   "metadata": {},
   "outputs": [
    {
     "name": "stdout",
     "output_type": "stream",
     "text": [
      "sbatch run_discriminability_learning_script.sbatch pscg_discriminability_by_mask.py \"/gpfs/projects/sanlab/shared/DEV/nonbids_data/fMRI/ml/masks/response_inhibition_related/negative affect_association-test_z_FDR_0.01.nii.gz\" 0\n",
      "sbatch run_discriminability_learning_script.sbatch pscg_discriminability_by_mask.py \"/gpfs/projects/sanlab/shared/DEV/nonbids_data/fMRI/ml/masks/response_inhibition_related/response inhibition_association-test_z_FDR_0.01.nii.gz\" 0\n",
      "sbatch run_discriminability_learning_script.sbatch pscg_discriminability_by_mask.py \"/gpfs/projects/sanlab/shared/DEV/nonbids_data/fMRI/ml/masks/response_inhibition_related/negative emotions_association-test_z_FDR_0.01.nii.gz\" 0\n",
      "sbatch run_discriminability_learning_script.sbatch pscg_discriminability_by_mask.py \"/gpfs/projects/sanlab/shared/DEV/nonbids_data/fMRI/ml/masks/response_inhibition_related/harvardoxford/harvardoxford-cortical_prob_Superior Frontal Gyrus.nii.gz\" 10\n",
      "sbatch run_discriminability_learning_script.sbatch pscg_discriminability_by_mask.py \"/gpfs/projects/sanlab/shared/DEV/nonbids_data/fMRI/ml/masks/response_inhibition_related/harvardoxford/harvardoxford-cortical_prob_Frontal Pole.nii.gz\" 10\n",
      "sbatch run_discriminability_learning_script.sbatch pscg_discriminability_by_mask.py \"/gpfs/projects/sanlab/shared/DEV/nonbids_data/fMRI/ml/masks/response_inhibition_related/harvardoxford/harvardoxford-cortical_prob_Cingulate Gyrus, posterior division.nii.gz\" 10\n",
      "sbatch run_discriminability_learning_script.sbatch pscg_discriminability_by_mask.py \"/gpfs/projects/sanlab/shared/DEV/nonbids_data/fMRI/ml/masks/response_inhibition_related/harvardoxford/harvardoxford-cortical_prob_Frontal Orbital Cortex.nii.gz\" 10\n",
      "sbatch run_discriminability_learning_script.sbatch pscg_discriminability_by_mask.py \"/gpfs/projects/sanlab/shared/DEV/nonbids_data/fMRI/ml/masks/response_inhibition_related/harvardoxford/harvardoxford-cortical_prob_Frontal Operculum Cortex.nii.gz\" 10\n",
      "sbatch run_discriminability_learning_script.sbatch pscg_discriminability_by_mask.py \"/gpfs/projects/sanlab/shared/DEV/nonbids_data/fMRI/ml/masks/response_inhibition_related/harvardoxford/harvardoxford-cortical_prob_Supramarginal Gyrus, posterior division.nii.gz\" 10\n",
      "sbatch run_discriminability_learning_script.sbatch pscg_discriminability_by_mask.py \"/gpfs/projects/sanlab/shared/DEV/nonbids_data/fMRI/ml/masks/response_inhibition_related/harvardoxford/harvardoxford-cortical_prob_Angular Gyrus.nii.gz\" 10\n",
      "sbatch run_discriminability_learning_script.sbatch pscg_discriminability_by_mask.py \"/gpfs/projects/sanlab/shared/DEV/nonbids_data/fMRI/ml/masks/response_inhibition_related/harvardoxford/harvardoxford-cortical_prob_Cingulate Gyrus, anterior division.nii.gz\" 10\n",
      "sbatch run_discriminability_learning_script.sbatch pscg_discriminability_by_mask.py \"/gpfs/projects/sanlab/shared/DEV/nonbids_data/fMRI/ml/masks/response_inhibition_related/harvardoxford/harvardoxford-cortical_prob_Lateral Occipital Cortex, superior division.nii.gz\" 10\n",
      "sbatch run_discriminability_learning_script.sbatch pscg_discriminability_by_mask.py \"/gpfs/projects/sanlab/shared/DEV/nonbids_data/fMRI/ml/masks/response_inhibition_related/harvardoxford/harvardoxford-cortical_prob_Inferior Frontal Gyrus, pars opercularis.nii.gz\" 10\n",
      "sbatch run_discriminability_learning_script.sbatch pscg_discriminability_by_mask.py \"/gpfs/projects/sanlab/shared/DEV/nonbids_data/fMRI/ml/masks/response_inhibition_related/harvardoxford/harvardoxford-cortical_prob_Inferior Frontal Gyrus, pars triangularis.nii.gz\" 10\n",
      "sbatch run_discriminability_learning_script.sbatch pscg_discriminability_by_mask.py \"/gpfs/projects/sanlab/shared/DEV/nonbids_data/fMRI/ml/masks/response_inhibition_related/harvardoxford/harvardoxford-cortical_prob_Insular Cortex.nii.gz\" 10\n"
     ]
    }
   ],
   "source": [
    "iterate_through_masks_pscg(neurosynth_folderpath,0)\n",
    "iterate_through_masks_pscg(harvox_folderpath,10)"
   ]
  },
  {
   "cell_type": "markdown",
   "id": "gross-improvement",
   "metadata": {},
   "source": [
    "### v2"
   ]
  },
  {
   "cell_type": "code",
   "execution_count": 27,
   "id": "civilian-idaho",
   "metadata": {},
   "outputs": [
    {
     "name": "stdout",
     "output_type": "stream",
     "text": [
      "sbatch run_discriminability_learning_script.sbatch pscg_discriminability_by_mask_v2.py \"/gpfs/projects/sanlab/shared/DEV/nonbids_data/fMRI/ml/masks/response_inhibition_related/harvardoxford/harvardoxford-cortical_prob_Superior Frontal Gyrus.nii.gz\" 30\n",
      "sbatch run_discriminability_learning_script.sbatch pscg_discriminability_by_mask_v2.py \"/gpfs/projects/sanlab/shared/DEV/nonbids_data/fMRI/ml/masks/response_inhibition_related/harvardoxford/harvardoxford-cortical_prob_Frontal Pole.nii.gz\" 30\n",
      "sbatch run_discriminability_learning_script.sbatch pscg_discriminability_by_mask_v2.py \"/gpfs/projects/sanlab/shared/DEV/nonbids_data/fMRI/ml/masks/response_inhibition_related/harvardoxford/harvardoxford-cortical_prob_Cingulate Gyrus, posterior division.nii.gz\" 30\n",
      "sbatch run_discriminability_learning_script.sbatch pscg_discriminability_by_mask_v2.py \"/gpfs/projects/sanlab/shared/DEV/nonbids_data/fMRI/ml/masks/response_inhibition_related/harvardoxford/harvardoxford-cortical_prob_Frontal Orbital Cortex.nii.gz\" 30\n",
      "sbatch run_discriminability_learning_script.sbatch pscg_discriminability_by_mask_v2.py \"/gpfs/projects/sanlab/shared/DEV/nonbids_data/fMRI/ml/masks/response_inhibition_related/harvardoxford/harvardoxford-cortical_prob_Frontal Operculum Cortex.nii.gz\" 30\n",
      "sbatch run_discriminability_learning_script.sbatch pscg_discriminability_by_mask_v2.py \"/gpfs/projects/sanlab/shared/DEV/nonbids_data/fMRI/ml/masks/response_inhibition_related/harvardoxford/harvardoxford-cortical_prob_Supramarginal Gyrus, posterior division.nii.gz\" 30\n",
      "sbatch run_discriminability_learning_script.sbatch pscg_discriminability_by_mask_v2.py \"/gpfs/projects/sanlab/shared/DEV/nonbids_data/fMRI/ml/masks/response_inhibition_related/harvardoxford/harvardoxford-cortical_prob_Angular Gyrus.nii.gz\" 30\n",
      "sbatch run_discriminability_learning_script.sbatch pscg_discriminability_by_mask_v2.py \"/gpfs/projects/sanlab/shared/DEV/nonbids_data/fMRI/ml/masks/response_inhibition_related/harvardoxford/harvardoxford-cortical_prob_Cingulate Gyrus, anterior division.nii.gz\" 30\n",
      "sbatch run_discriminability_learning_script.sbatch pscg_discriminability_by_mask_v2.py \"/gpfs/projects/sanlab/shared/DEV/nonbids_data/fMRI/ml/masks/response_inhibition_related/harvardoxford/harvardoxford-cortical_prob_Lateral Occipital Cortex, superior division.nii.gz\" 30\n",
      "sbatch run_discriminability_learning_script.sbatch pscg_discriminability_by_mask_v2.py \"/gpfs/projects/sanlab/shared/DEV/nonbids_data/fMRI/ml/masks/response_inhibition_related/harvardoxford/harvardoxford-cortical_prob_Inferior Frontal Gyrus, pars opercularis.nii.gz\" 30\n",
      "sbatch run_discriminability_learning_script.sbatch pscg_discriminability_by_mask_v2.py \"/gpfs/projects/sanlab/shared/DEV/nonbids_data/fMRI/ml/masks/response_inhibition_related/harvardoxford/harvardoxford-cortical_prob_Inferior Frontal Gyrus, pars triangularis.nii.gz\" 30\n",
      "sbatch run_discriminability_learning_script.sbatch pscg_discriminability_by_mask_v2.py \"/gpfs/projects/sanlab/shared/DEV/nonbids_data/fMRI/ml/masks/response_inhibition_related/harvardoxford/harvardoxford-cortical_prob_Insular Cortex.nii.gz\" 30\n",
      "sbatch run_discriminability_learning_script.sbatch pscg_discriminability_by_mask_v2.py \"/gpfs/projects/sanlab/shared/DEV/nonbids_data/fMRI/ml/masks/response_inhibition_related/negative affect_association-test_z_FDR_0.01.nii.gz\" 0\n",
      "sbatch run_discriminability_learning_script.sbatch pscg_discriminability_by_mask_v2.py \"/gpfs/projects/sanlab/shared/DEV/nonbids_data/fMRI/ml/masks/response_inhibition_related/response inhibition_association-test_z_FDR_0.01.nii.gz\" 0\n",
      "sbatch run_discriminability_learning_script.sbatch pscg_discriminability_by_mask_v2.py \"/gpfs/projects/sanlab/shared/DEV/nonbids_data/fMRI/ml/masks/response_inhibition_related/negative emotions_association-test_z_FDR_0.01.nii.gz\" 0\n"
     ]
    }
   ],
   "source": [
    "iterate_through_masks(harvox_folderpath,30, \"pscg_discriminability_by_mask_v2.py\")\n",
    "\n",
    "iterate_through_masks(neurosynth_folderpath,0, \"pscg_discriminability_by_mask_v2.py\")"
   ]
  },
  {
   "cell_type": "code",
   "execution_count": null,
   "id": "exact-sunday",
   "metadata": {},
   "outputs": [],
   "source": []
  }
 ],
 "metadata": {
  "kernelspec": {
   "display_name": "Python 3",
   "language": "python",
   "name": "python3"
  },
  "language_info": {
   "codemirror_mode": {
    "name": "ipython",
    "version": 3
   },
   "file_extension": ".py",
   "mimetype": "text/x-python",
   "name": "python",
   "nbconvert_exporter": "python",
   "pygments_lexer": "ipython3",
   "version": "3.11.0 (main, Oct 25 2022, 14:13:24) [Clang 14.0.0 (clang-1400.0.29.202)]"
  },
  "vscode": {
   "interpreter": {
    "hash": "1a1af0ee75eeea9e2e1ee996c87e7a2b11a0bebd85af04bb136d915cefc0abce"
   }
  }
 },
 "nbformat": 4,
 "nbformat_minor": 5
}
