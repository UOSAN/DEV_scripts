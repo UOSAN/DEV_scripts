{
 "cells": [
  {
   "cell_type": "code",
   "execution_count": null,
   "id": "minimal-performer",
   "metadata": {},
   "outputs": [],
   "source": [
    "import sys\n",
    "import os\n",
    "import pandas as pd\n",
    "import re\n",
    "\n",
    "sys.path.append(os.path.abspath(\"../../ml/\"))\n",
    "\n",
    "from dev_wtp_io_utils import *"
   ]
  },
  {
   "cell_type": "code",
   "execution_count": null,
   "id": "buried-background",
   "metadata": {},
   "outputs": [],
   "source": [
    "nonbids_data_path = \"/gpfs/projects/sanlab/shared/DEV/nonbids_data/\"\n",
    "ml_data_folderpath = \"/gpfs/projects/sanlab/shared/DEV/nonbids_data/fMRI/ml\""
   ]
  },
  {
   "cell_type": "code",
   "execution_count": null,
   "id": "simplified-outdoors",
   "metadata": {},
   "outputs": [],
   "source": [
    "#test_train_df_raw = pd.read_csv(nonbids_data_path + \"fMRI/ml/train_test_markers_20210601T183243.csv\")\n",
    "test_train_df_raw = pd.read_csv(nonbids_data_path + \"fMRI/ml/train_test_markers_20211027T173724.csv\")\n"
   ]
  },
  {
   "cell_type": "code",
   "execution_count": null,
   "id": "valuable-making",
   "metadata": {},
   "outputs": [],
   "source": [
    "include_exclude_list = pd.read_csv(\"../nsc_subject_exclusions.csv\")"
   ]
  },
  {
   "cell_type": "code",
   "execution_count": null,
   "id": "romantic-crazy",
   "metadata": {},
   "outputs": [],
   "source": [
    "test_train_df_raw = test_train_df_raw.merge(include_exclude_list[include_exclude_list.Task=='SST'],left_on='sub_label',right_on='SubjectId',how='left')\n",
    "test_train_df_raw.loc[test_train_df_raw.Include.isna(),'Include'] = True\n",
    "test_train_df = test_train_df_raw[test_train_df_raw.Include==True]"
   ]
  },
  {
   "cell_type": "code",
   "execution_count": null,
   "id": "center-holiday",
   "metadata": {},
   "outputs": [],
   "source": [
    "exclude_subjects = ['DEV061','DEV185','DEV187','DEV189','DEV190','DEV192','DEV198','DEV203','DEV220','DEV221']"
   ]
  },
  {
   "cell_type": "code",
   "execution_count": null,
   "id": "recovered-spencer",
   "metadata": {},
   "outputs": [],
   "source": [
    "train_subjs = test_train_df.loc[test_train_df.SplitGroup=='Train','sub_label'].tolist()#only get the train subjects; ignore those previously marked hold-out"
   ]
  },
  {
   "cell_type": "code",
   "execution_count": null,
   "id": "historic-vanilla",
   "metadata": {},
   "outputs": [],
   "source": [
    "test_train_df"
   ]
  },
  {
   "cell_type": "code",
   "execution_count": null,
   "id": "danish-developer",
   "metadata": {},
   "outputs": [],
   "source": [
    "def get_Brain_Data_for_sub(sub_label,behavdesign,betaseries_path='/gpfs/projects/sanlab/shared/DEV/nonbids_data/fMRI/fx/models/SST/wave1/betaseries/'):\n",
    "    return(dev_wtp_io_utils.get_Brain_Data_betas_for_sub(sub_label,behavdesign,betaseries_path))"
   ]
  },
  {
   "cell_type": "code",
   "execution_count": null,
   "id": "joint-livestock",
   "metadata": {},
   "outputs": [],
   "source": [
    "from dev_wtp_io_utils import import_sst_cond_w1_subjs_to_pkl"
   ]
  },
  {
   "cell_type": "code",
   "execution_count": null,
   "id": "closing-parliament",
   "metadata": {},
   "outputs": [],
   "source": [
    "import_sst_cond_w1_subjs_to_pkl(\n",
    "    train_subjs[0:2],'conditions',\n",
    "    out_folder = ml_data_folderpath + \"/\")"
   ]
  },
  {
   "cell_type": "raw",
   "id": "brown-headset",
   "metadata": {},
   "source": [
    "from nilearn import plotting\n",
    "from nilearn import image\n",
    "import nilearn.masking\n",
    "\n",
    "subj_img = image.load_img('/gpfs/projects/sanlab/shared/DEV/nonbids_data/fMRI/fx/models/SST/wave1/betaseries/sub-DEV005/beta_0001.nii')\n",
    "\n",
    "plotting.view_img(subj_img,bg_img = '/projects/sanlab/shared/spm12/canonical/MNI152_T1_1mm_brain_mask.nii'\n",
    "                 ,opacity=0.7,cmap='YlOrRd')\n",
    "                 \n",
    "subj_mask = nilearn.masking.compute_brain_mask(subj_img)"
   ]
  },
  {
   "cell_type": "markdown",
   "id": "congressional-turkey",
   "metadata": {},
   "source": [
    "OK, not bad, so we have learned to load data, and show it. We might be best to re-write the code, though, to use the first image as the image series's own mask--using `nilearn.masking.compute_brain_mask`, rather than worry about why the input mask isn't quite aligned. "
   ]
  },
  {
   "cell_type": "code",
   "execution_count": null,
   "id": "successful-walter",
   "metadata": {},
   "outputs": [],
   "source": [
    "len(train_subjs)"
   ]
  },
  {
   "cell_type": "markdown",
   "id": "innocent-pipeline",
   "metadata": {},
   "source": [
    "### With supplementary data"
   ]
  },
  {
   "cell_type": "code",
   "execution_count": null,
   "id": "indonesian-prayer",
   "metadata": {},
   "outputs": [],
   "source": [
    "individual_differences = pd.read_csv(ml_data_folderpath + \"/data_by_ppt.csv\")\n",
    "individual_differences = individual_differences.rename(columns={'SID':'subject'})\n",
    "individual_differences['wave']=1\n",
    "#individual_differences['wave'] = individual_differences['wave'].astype(object) # for compatibility with the wave column in the dataset"
   ]
  },
  {
   "cell_type": "code",
   "execution_count": null,
   "id": "plastic-blogger",
   "metadata": {},
   "outputs": [],
   "source": [
    "from outlier_detection import *"
   ]
  },
  {
   "cell_type": "code",
   "execution_count": null,
   "id": "political-torture",
   "metadata": {},
   "outputs": [],
   "source": [
    "\"', '\".join(individual_differences.columns)"
   ]
  },
  {
   "cell_type": "raw",
   "id": "removed-value",
   "metadata": {},
   "source": [
    "remove_outliers_for = [\n",
    "    'cancer_promoting_minus_preventing_FCI', 'cancer_promoting_minus_preventing_FFQ', \n",
    "    'cancer_promoting_minus_preventing_craved_FCI', 'cancer_promoting_minus_preventing_craved_FFQ', \n",
    "    'cancer_promoting_minus_preventing_liked_FCI', 'cancer_promoting_minus_preventing_liked_FFQ', \n",
    "    'cancer_promoting_FCI', 'cancer_promoting_FFQ', 'cancer_preventing_FCI', 'cancer_preventing_FFQ', \n",
    "    'BSCS', 'EDM', 'BIS_11', 'PCS', 'RS', 'TRSQ', 'bf_1', 'weight_0', 'height_0', 'birthsex', 'age365', 'bmi_0', 'bmi_1', 'bmi', 'bf_1_controlled', 'bf_1_bsexnormedzs', 'ACES_sum', 'ACES_household_dysfunction', 'ACES_neglectful_parenting', 'ACES_abuse', 'ACES_divorced_separated', 'BFI_agreeableness', 'BFI_conscientiousness', 'BFI_extraversion', 'BFI_neuroticism', 'BFI_openness', 'DEMO_mcarthur_social_standing', 'IMI_effort_importance', 'IMI_interest_enjoyment', 'IMI_perceived_choice', 'IMI_perceived_competence', 'IMI_value_usefulness', 'IPAQ_moderateminutes', 'IPAQ_sittinghours', 'IPAQ_vigorousminutes', 'IPAQ_walkingminutes', 'NCS_get_job_done', 'NCS_deliberating_issues', 'NCS_prefer_complex', 'NCS_prefer_little_thought', 'NCS_intellectual_task', 'NCS_relief_not_satisfaction', 'NCS_like_responsibility', 'NCS_new_solutions_to_problems', 'NCS_avoid_depth', 'NCS_tasks_little_thought', 'NCS_think_minimally', 'NCS_satisfaction_in_deliberating', 'NCS_small_daily_projects', 'NCS_solve_puzzles', 'NCS_total', 'NCS_thinking_not_exciting', 'NCS_abstract_thinking', 'NCS_thought_appealing', 'NCS_thinking_not_fun', 'PLAN_cognitive_strategies', 'PLAN_temporal_orientation', 'PLAN_mental_forecasting', 'RMQ_assessment', 'RMQ_lie', 'RMQ_locomotion', 'RTFS_factor_1', 'RTFS_factor_2', 'SRHI_sum', 'SRHI_healthy', 'SRHI_unhealthy', 'TESQ_E_avoidance_of_temptations', 'TESQ_E_goal_deliberation', 'TESQ_E_distraction', 'TESQ_E_goal_and_rule_setting', 'TESQ_E_sum', 'TESQ_E_controlling_temptations', 'TESQ_E_suppression', 'education_own', 'zipcode_median_income_acs', 'household_income_level_medamount', 'household_income_per_person', 'ses_aggregate', 'SST_CorrectGo', 'SST_CorrectStop', 'SST_Cue', 'SST_FailedGo', 'SST_FailedStop', 'SST_prop_successful_stops', 'SST_reaction_time', 'SST_go_trial_reaction_time', 'SST_GRTint', 'SST_GRTmean', 'SST_GRTmedian', 'SST_GRTquant', 'SST_NRCount', 'SST_PctInhib', 'SST_SSD', 'SST_SSRT', 'SST_SSRTint', 'SST_SSRTquant', 'ROC_Crave_Look', 'ROC_Crave_Regulate', 'ROC_Neutral_Look', 'ROC_No Crave_Look', 'ROC_Crave_Regulate_Minus_Look', 'ROC_Crave_Minus_Neutral', 'ROC_Crave_Minus_NoCrave', 'WTP_healthy', 'WTP_unhealthy', 'WTP_unhealthy_minus_healthy', 'SRHI_healthy_minus_unhealthy', 'RTFS_f1_minus_f2', 'IPAQ_walkingMETminutes', 'IPAQ_moderateMETminutes', 'IPAQ_vigorousMETminutes', 'IPAQ_total_METminutes', 'IPAQ_MET_kCal'\n",
    "]\n",
    "\n",
    "\n",
    "#remove_selected_outliers"
   ]
  },
  {
   "cell_type": "code",
   "execution_count": null,
   "id": "reflected-knife",
   "metadata": {},
   "outputs": [],
   "source": [
    "#we have data missing fro mthese subjects below. not enstirely sure yet; see \n",
    "#https://docs.google.com/document/d/1EB0ACA6qhMkDEgv-zqNTepPCe_x41fRQHaeqT47vazM/edit#heading=h.60rb13rlxkrq\n",
    "\n",
    "\n",
    "train_subjs_selected = [ts for ts in train_subjs if (ts not in exclude_subjects)]"
   ]
  },
  {
   "cell_type": "raw",
   "id": "voluntary-harbor",
   "metadata": {},
   "source": [
    "import_sst_cond_w1_subjs_to_pkl(\n",
    "    train_subjs_selected[0:4],'conditions',\n",
    "    out_folder = ml_data_folderpath + \"/SST/\",\n",
    "    conditions_to_include = ['CorrectGo','CorrectStop'],\n",
    "    condition_count_required=2,\n",
    "    supplementary_df = individual_differences,\n",
    "    out_file_suffix = '_correct_cond'\n",
    ")"
   ]
  },
  {
   "cell_type": "code",
   "execution_count": null,
   "id": "electric-orientation",
   "metadata": {},
   "outputs": [],
   "source": [
    "import_sst_cond_w1_subjs_to_pkl(\n",
    "    train_subjs_selected,'conditions',\n",
    "    out_folder = ml_data_folderpath + \"/SST/\",\n",
    "    conditions_to_include = ['CorrectGo','CorrectStop'],\n",
    "    condition_count_required=2,\n",
    "    supplementary_df = individual_differences,\n",
    "    out_file_suffix = '_correct_cond_spatially_concatenated',\n",
    "    concatenate_condition_labels=True\n",
    ")"
   ]
  },
  {
   "cell_type": "raw",
   "id": "furnished-equilibrium",
   "metadata": {},
   "source": [
    "import_sst_cond_w1_subjs_to_pkl(\n",
    "    train_subjs_selected,'conditions',\n",
    "    out_folder = ml_data_folderpath + \"/SST/\",\n",
    "    conditions_to_include = ['CorrectGo','CorrectStop'],\n",
    "    condition_count_required=2,\n",
    "    supplementary_df = individual_differences,\n",
    "    out_file_suffix = '_correct_cond_w_supplementary'\n",
    ")"
   ]
  },
  {
   "cell_type": "raw",
   "id": "particular-escape",
   "metadata": {},
   "source": [
    "test_file = pickle.load(open('/gpfs/projects/sanlab/shared/DEV/nonbids_data/fMRI/ml/SST/Brain_Data_conditions_84subs_correct_cond_w_supplementary.pkl','rb'))"
   ]
  },
  {
   "cell_type": "markdown",
   "id": "administrative-flesh",
   "metadata": {},
   "source": [
    "## concatenating conditions"
   ]
  },
  {
   "cell_type": "code",
   "execution_count": null,
   "id": "hybrid-cambodia",
   "metadata": {},
   "outputs": [],
   "source": [
    "from nilearn import plotting\n",
    "from nilearn.masking import compute_brain_mask\n",
    "import nltools as nlt\n",
    "import nilearn as nil"
   ]
  },
  {
   "cell_type": "code",
   "execution_count": null,
   "id": "characteristic-queen",
   "metadata": {},
   "outputs": [],
   "source": [
    "from nltools import Brain_Data"
   ]
  },
  {
   "cell_type": "raw",
   "id": "defensive-playing",
   "metadata": {},
   "source": [
    "def import_sst_cond_w1_subjs_to_pkl(subjs,first_level_fileid,out_folder = '../data/', \n",
    "                                    conditions_to_include=None,\n",
    "                                    condition_count_required=None,\n",
    "                                    supplementary_df = None,\n",
    "                                         out_file_suffix ='',\n",
    "                                    concatenate_condition_labels=False\n",
    "                                   ):\n",
    "    ## get a list of the subject folders\n",
    "    sst_wt_repo = '/gpfs/projects/sanlab/shared/DEV/nonbids_data/fMRI/fx/models/SST/wave1/'\n",
    "    first_level_path = sst_wt_repo + first_level_fileid + \"/\"\n",
    "    print(first_level_path)\n",
    "    subj_count = len(subjs)\n",
    "    ## iterate through them\n",
    "    subjs.sort()\n",
    "    bd_dict={}\n",
    "    #get the brain data from the beta files\n",
    "    for sl in subjs:\n",
    "        print(sl)\n",
    "        \n",
    "        #get the design data\n",
    "        \n",
    "        #load the matrix associated with this file\n",
    "        sl_mat = scipy.io.loadmat(\n",
    "            first_level_path + 'sub-' + sl +'/SPM.mat',\n",
    "            simplify_cells=True            \n",
    "        )\n",
    "\n",
    "        #convert from an SPM.mat file into a dataframe list of the betas\n",
    "        beta_dict_list = []\n",
    "        mat_betas = sl_mat['SPM']['Vbeta']\n",
    "        for beta_i in range(len(mat_betas)):\n",
    "            beta = mat_betas[beta_i]\n",
    "            b_description = beta['descrip']\n",
    "            condition_label = re.search('Sn\\(1\\)\\s(.*)\\*bf\\(1\\)',b_description)\n",
    "            if (condition_label is not None):\n",
    "                beta_dict_list = beta_dict_list + [{\n",
    "                    'condition_index':beta_i,\n",
    "                    'condition_label':condition_label.group(1),\n",
    "                    'raw_beta_description':beta['descrip'],\n",
    "                    'beta':beta['fname']\n",
    "                }]\n",
    "        #    print(condition_label)\n",
    "        beta_df = pd.DataFrame(beta_dict_list)\n",
    "\n",
    "        #fill in the details related to the subject\n",
    "        beta_df['subject']=sl\n",
    "        beta_df['wave']=1\n",
    "        \n",
    "        if conditions_to_include is not None:\n",
    "            #cut down conditions to just those specified\n",
    "            #also ensures that the beta_df is in the ORDER SPECIFIED in conditions_to_include\n",
    "            #beta_df = beta_df.loc[beta_df.condition_label.isin(conditions_to_include),]\n",
    "            beta_df = pd.concat([beta_df.loc[beta_df.condition_label==cti,] for cti in conditions_to_include])\n",
    "\n",
    "        if condition_count_required is not None:\n",
    "            if beta_df.shape[0]<condition_count_required:\n",
    "                print(\"not enough conditions for subject \"+ sl + \". Skipping this subject.\")\n",
    "                continue\n",
    "        \n",
    "        \n",
    "        try: \n",
    "            print(beta_df)\n",
    "            bd = get_Brain_Data_betas_for_sub(\n",
    "                sl, beta_df,\n",
    "                betaseries_path = first_level_path,\n",
    "                events_in_design=beta_df.shape[0],\n",
    "                spatially_concatenate = concatenate_condition_labels,\n",
    "                mask = \"beta\" # '/projects/sanlab/shared/spm12/canonical/MNI152_T1_1mm_brain_mask.nii'\n",
    "            )\n",
    "            \n",
    "            #plotting.plot_glass_brain(bd.to_nifti())\n",
    "            \n",
    "            #this is a very unusual feature--we're going to concatenate different conditions to exist in the same space\n",
    "            #I've never seen this before but it will help the learner to draw more information.\n",
    "#             if :\n",
    "#                 bd = concatenate_series_with_labels(bd,conditions_to_include)\n",
    "            \n",
    "            \n",
    "            bd_dict[sl]=bd\n",
    "        except BehavioralDataNotFoundForBrainDataException:\n",
    "            print(\"couldn't get data for subject \" + sl + \" because there was no matching behavioral data\")\n",
    "    \n",
    "            \n",
    "    \n",
    "    #now append into a concatenated brain data file\n",
    "    Brain_Data_allsubs = list(bd_dict.values())[0]\n",
    "    for i in range(1,len(bd_dict.values())):\n",
    "        print(i)\n",
    "        val_to_append = list(bd_dict.values())[i]\n",
    "        Brain_Data_allsubs= Brain_Data_allsubs.append(val_to_append)\n",
    "        \n",
    "    if supplementary_df is not None:\n",
    "        Brain_Data_allsubs.X = pd.merge(Brain_Data_allsubs.X,supplementary_df,how='left',on=['subject','wave'])\n",
    "\n",
    "    #dump\n",
    "    out_filepath = (\n",
    "        out_folder + 'Brain_Data_' +\n",
    "        #'betaseries_' +\n",
    "        first_level_fileid + '_' + str(subj_count) + 'subs' + out_file_suffix + '.pkl'\n",
    "    )\n",
    "    print(out_filepath)\n",
    "\n",
    "    with open(out_filepath, 'wb') as pkl_file:\n",
    "        pickle.dump(Brain_Data_allsubs,pkl_file)\n"
   ]
  },
  {
   "cell_type": "code",
   "execution_count": null,
   "id": "transparent-means",
   "metadata": {},
   "outputs": [],
   "source": [
    "import_sst_cond_w1_subjs_to_pkl(\n",
    "    train_subjs_selected[0:2],'conditions',\n",
    "    out_folder = ml_data_folderpath + \"/SST/\",\n",
    "    conditions_to_include = ['CorrectGo','CorrectStop'],\n",
    "    condition_count_required=2,\n",
    "    supplementary_df = individual_differences,\n",
    "    out_file_suffix = '_correct_cond_spatially_concatenated',\n",
    "    concatenate_condition_labels=True\n",
    ")"
   ]
  },
  {
   "cell_type": "code",
   "execution_count": null,
   "id": "headed-ancient",
   "metadata": {},
   "outputs": [],
   "source": [
    "out_data = pickle.load(open(\n",
    "    '/gpfs/projects/sanlab/shared/DEV/nonbids_data/fMRI/ml/SST/Brain_Data_conditions_2subs_correct_cond_w_supplementary_mask_fix.pkl','rb'\n",
    "))"
   ]
  },
  {
   "cell_type": "code",
   "execution_count": null,
   "id": "worse-village",
   "metadata": {},
   "outputs": [],
   "source": [
    "out_data.shape"
   ]
  },
  {
   "cell_type": "code",
   "execution_count": null,
   "id": "republican-dryer",
   "metadata": {},
   "outputs": [],
   "source": [
    "plotting.plot_glass_brain(out_data[0,].to_nifti())"
   ]
  },
  {
   "cell_type": "markdown",
   "id": "disabled-couple",
   "metadata": {},
   "source": [
    "## post-error conditions"
   ]
  },
  {
   "cell_type": "raw",
   "id": "european-leonard",
   "metadata": {},
   "source": [
    "import_sst_cond_w1_subjs_to_pkl(\n",
    "    train_subjs[0:3],'posterror_conditions',\n",
    "    out_folder = ml_data_folderpath + \"/SST/\",\n",
    "    conditions_to_include = ['CorrectGoFollowingCorrectStop', 'CorrectGoFollowingFailedStop'],\n",
    "    condition_count_required=2,\n",
    "    out_file_suffix = '_correct_cond'\n",
    ")"
   ]
  },
  {
   "cell_type": "code",
   "execution_count": null,
   "id": "consolidated-european",
   "metadata": {},
   "outputs": [],
   "source": [
    "#we have data missing fro mthese subjects below. not enstirely sure yet; see \n",
    "#https://docs.google.com/document/d/1EB0ACA6qhMkDEgv-zqNTepPCe_x41fRQHaeqT47vazM/edit#heading=h.60rb13rlxkrq\n",
    "\n",
    "train_subjs_selected = [ts for ts in train_subjs if (ts not in exclude_subjects)]"
   ]
  },
  {
   "cell_type": "code",
   "execution_count": null,
   "id": "static-essay",
   "metadata": {},
   "outputs": [],
   "source": [
    "import_sst_cond_w1_subjs_to_pkl(\n",
    "    train_subjs_selected[0:2],'posterror_conditions',\n",
    "    out_folder = ml_data_folderpath + \"/SST/\",\n",
    "    conditions_to_include = ['CorrectGoFollowingCorrectStop', 'CorrectGoFollowingFailedStop'],\n",
    "    condition_count_required=2,\n",
    "    supplementary_df = individual_differences,\n",
    "    out_file_suffix = '_correct_cond_w_supplementary'\n",
    ")"
   ]
  },
  {
   "cell_type": "code",
   "execution_count": null,
   "id": "damaged-plate",
   "metadata": {},
   "outputs": [],
   "source": [
    "import_sst_cond_w1_subjs_to_pkl(\n",
    "    train_subjs_selected[0:2],'posterror_conditions',\n",
    "    out_folder = ml_data_folderpath + \"/SST/\",\n",
    "    conditions_to_include = ['CorrectGoFollowingCorrectStop'],\n",
    "    condition_count_required=1,\n",
    "    supplementary_df = individual_differences,\n",
    "    out_file_suffix = '_correct_go_fcs_w_supplementary'\n",
    ")"
   ]
  },
  {
   "cell_type": "code",
   "execution_count": null,
   "id": "conditional-harmony",
   "metadata": {
    "scrolled": false
   },
   "outputs": [],
   "source": [
    "import_sst_cond_w1_subjs_to_pkl(\n",
    "    train_subjs_selected,'posterror_conditions',\n",
    "    out_folder = ml_data_folderpath + \"/SST/\",\n",
    "    conditions_to_include = ['CorrectGoFollowingCorrectStop'],\n",
    "    condition_count_required=1,\n",
    "    supplementary_df = individual_differences,\n",
    "    out_file_suffix = '_post_correct_stop_cg_w_supplementary'\n",
    ")"
   ]
  },
  {
   "cell_type": "code",
   "execution_count": null,
   "id": "forward-cable",
   "metadata": {},
   "outputs": [],
   "source": [
    "import_sst_cond_w1_subjs_to_pkl(\n",
    "    train_subjs_selected,'posterror_conditions',\n",
    "    out_folder = ml_data_folderpath + \"/SST/\",\n",
    "    conditions_to_include = ['CorrectGoFollowingFailedStop'],\n",
    "    condition_count_required=1,\n",
    "    supplementary_df = individual_differences,\n",
    "    out_file_suffix = '_post_failed_stop_cg_failed_stop_w_supplementary'\n",
    ")"
   ]
  },
  {
   "cell_type": "code",
   "execution_count": null,
   "id": "existing-hudson",
   "metadata": {},
   "outputs": [],
   "source": [
    "import_sst_cond_w1_subjs_to_pkl(\n",
    "    train_subjs_selected,'posterror_conditions',\n",
    "    out_folder = ml_data_folderpath + \"/SST/\",\n",
    "    conditions_to_include = ['CorrectGoFollowingCorrectStop', 'CorrectGoFollowingFailedStop'],\n",
    "    condition_count_required=2,\n",
    "    supplementary_df = individual_differences,\n",
    "    out_file_suffix = '_post_stop_cg_spatially_concatenated',\n",
    "    concatenate_condition_labels=True\n",
    ")"
   ]
  },
  {
   "cell_type": "code",
   "execution_count": null,
   "id": "distant-teach",
   "metadata": {},
   "outputs": [],
   "source": []
  }
 ],
 "metadata": {
  "kernelspec": {
   "display_name": "Python [conda env:.conda-neuralsignature]",
   "language": "python",
   "name": "conda-env-.conda-neuralsignature-py"
  },
  "language_info": {
   "codemirror_mode": {
    "name": "ipython",
    "version": 3
   },
   "file_extension": ".py",
   "mimetype": "text/x-python",
   "name": "python",
   "nbconvert_exporter": "python",
   "pygments_lexer": "ipython3",
   "version": "3.8.5"
  }
 },
 "nbformat": 4,
 "nbformat_minor": 5
}
