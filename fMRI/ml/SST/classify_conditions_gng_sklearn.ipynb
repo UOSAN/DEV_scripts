{
 "cells": [
  {
   "attachments": {},
   "cell_type": "markdown",
   "metadata": {},
   "source": [
    "# Classifying conditions: CorrectGo and NoGo\n",
    "\n",
    "There are a number of steps to this. Hopefully we can recycle previous code and be up fairly quickly!\n",
    "\n",
    "1. Load beta data. Ideally this process should include a cache into a pure python object so we don't have to reload it each time.\n",
    "2. Preprocess the data.\n",
    "3. Do cross-validated training and testing. Ideally an inner loop to select best parameters, an outer loop to get cross-validated performance, and final training over all the data to get an image. The inner loop can be probably be handled within the package we use probably."
   ]
  },
  {
   "cell_type": "code",
   "execution_count": 22,
   "metadata": {},
   "outputs": [],
   "source": [
    "import socket\n",
    "import yaml\n",
    "hostname=socket.gethostname()\n",
    "hostname='zzz'\n",
    "with open('sst_config.yml', \"r\") as f:\n",
    "    test_config= yaml.safe_load(f)#[hostname]"
   ]
  },
  {
   "cell_type": "code",
   "execution_count": 23,
   "metadata": {},
   "outputs": [],
   "source": [
    "import sys\n",
    "import os\n",
    "import pandas as pd\n",
    "import numpy as np\n",
    "\n",
    "\n",
    "\n",
    "sys.path.append(os.path.abspath(\"../../ml/\"))\n",
    "from apply_loocv_and_save import load_and_preprocess, load_and_preprocess_Brain_Data\n",
    "from dev_utils import read_yaml_for_host\n",
    "from dev_utils import get_2DX_from_4DX\n",
    "import warnings\n",
    "\n",
    "\n",
    "config_data = read_yaml_for_host(\"sst_config.yml\")\n",
    "\n"
   ]
  },
  {
   "cell_type": "code",
   "execution_count": 24,
   "metadata": {},
   "outputs": [],
   "source": [
    "from sklearn.feature_selection import VarianceThreshold\n",
    "from sklearn.svm import LinearSVC\n",
    "from sklearn.linear_model import LogisticRegression\n",
    "from sklearn.metrics import roc_auc_score\n",
    "#I'll add the feature selection step for the estimators here for now,\n",
    "#but to save time we could add separate functions for preprocessing\n",
    "#advantage of doing it independently from estimators would be to avoid running feature selection twice.\n",
    "#disadvantage would be that we'd have to pass the feature\n",
    "\n",
    "from sklearn.pipeline import Pipeline\n",
    "from sklearn.feature_selection import SelectKBest, f_classif\n",
    "from sklearn.svm import LinearSVC\n",
    "from sklearn.linear_model import LogisticRegression\n",
    "from sklearn.linear_model import RidgeClassifierCV\n",
    "from sklearn.metrics import roc_auc_score\n",
    "from sklearn import decomposition\n",
    "#I'll add the feature selection step for the estimators here for now,\n",
    "#but to save time we could add separate functions for preprocessing\n",
    "#advantage of doing it independently from estimators would be to avoid running feature selection twice.\n",
    "#disadvantage would be that we'd have to pass the feature\n",
    "\n",
    "from sklearn.pipeline import Pipeline\n",
    "from sklearn.feature_selection import SelectKBest, f_classif\n"
   ]
  },
  {
   "cell_type": "code",
   "execution_count": 25,
   "metadata": {},
   "outputs": [
    {
     "name": "stdout",
     "output_type": "stream",
     "text": [
      "9\n"
     ]
    }
   ],
   "source": [
    "import multiprocessing\n",
    "import math\n",
    "import nibabel as nib\n",
    "import nilearn as nl\n",
    "from nilearn.decoding import DecoderRegressor,Decoder\n",
    "from sklearn.model_selection import KFold,GroupKFold,LeaveOneOut\n",
    "cpus_available = multiprocessing.cpu_count()\n",
    "\n",
    "cpus_to_use = min(cpus_available-1,math.floor(0.9*cpus_available))\n",
    "print(cpus_to_use)"
   ]
  },
  {
   "cell_type": "code",
   "execution_count": 26,
   "metadata": {},
   "outputs": [],
   "source": [
    "from dev_wtp_io_utils import cv_train_test_sets, asizeof_fmt\n",
    "from dev_utils import sklearn_nested_cross_validate\n",
    "from nilearn.decoding import DecoderRegressor,Decoder"
   ]
  },
  {
   "cell_type": "code",
   "execution_count": 27,
   "metadata": {},
   "outputs": [],
   "source": [
    "nonbids_data_path = config_data['nonbids_data_path']\n",
    "ml_data_folderpath = nonbids_data_path + \"fMRI/ml\"\n"
   ]
  },
  {
   "cell_type": "markdown",
   "metadata": {},
   "source": [
    "## Set up the paradigm"
   ]
  },
  {
   "cell_type": "code",
   "execution_count": 28,
   "metadata": {},
   "outputs": [],
   "source": [
    "\n",
    "def condition_resp_trans_func(X):\n",
    "    reg_match = \"Sn\\(1\\) (.*)\\*bf\\(1\\)\"\n",
    "    return(X.raw_beta_description.str.extract(reg_match, expand=False))\n"
   ]
  },
  {
   "cell_type": "markdown",
   "metadata": {},
   "source": [
    "## Loading beta data\n",
    "\n",
    "beta data is generally written in `load_multisubject_brain_data_sst_w1.ipynb`.\n",
    "\n",
    "We just have to load it."
   ]
  },
  {
   "cell_type": "code",
   "execution_count": 29,
   "metadata": {},
   "outputs": [
    {
     "name": "stderr",
     "output_type": "stream",
     "text": [
      "/var/folders/cj/4mb6t1f906j397tj71pxfxz00000gn/T/ipykernel_34130/706202569.py:8: UserWarning: not sure if this file holds up--it was created in 2021; need to see if it's still valid\n",
      "  warnings.warn(\"not sure if this file holds up--it was created in 2021; need to see if it's still valid\")\n"
     ]
    }
   ],
   "source": [
    "#brain_data_filepath = ml_data_folderpath + '/SST/Brain_Data_betaseries_30subs_correct_cond_pfc.pkl'\n",
    "#brain_data_filepath = ml_data_folderpath + '/SST/Brain_Data_betaseries_6subs_correct_cond.pkl'\n",
    "#brain_data_filepath = ml_data_folderpath + '/SST/Brain_Data_betaseries_nos_6subs_correct_cond_pfc.pkl'\n",
    "#brain_data_filepath = ml_data_folderpath + '/SST/Brain_Data_conditions_nos_30subs_correct_cond_pfc.pkl'\n",
    "brain_data_filepath = ml_data_folderpath + '/SST/Brain_Data_conditions_nos_181subs_correct_cond_pfc.pkl'\n",
    "\n",
    "\n",
    "warnings.warn(\"not sure if this file holds up--it was created in 2021; need to see if it's still valid\")\n",
    "train_test_markers_filepath = ml_data_folderpath + \"/train_test_markers_20230102T164214.csv\""
   ]
  },
  {
   "cell_type": "code",
   "execution_count": 30,
   "metadata": {},
   "outputs": [
    {
     "name": "stdout",
     "output_type": "stream",
     "text": [
      "checked for intersection and no intersection between the brain data and the subjects was found.\n",
      "there were 173 subjects overlapping between the subjects marked for train data and the training dump file itself.\n",
      "test_train_set: 72407\n",
      "brain_data_filepath: 178\n",
      "pkl_file: 168\n",
      "train_test_markers_filepath: 158\n",
      "response_transform_func: 144\n",
      "Brain_Data_allsubs: 48\n",
      "346\n",
      "346\n"
     ]
    },
    {
     "name": "stderr",
     "output_type": "stream",
     "text": [
      "/var/folders/cj/4mb6t1f906j397tj71pxfxz00000gn/T/ipykernel_34130/3413544225.py:9: UserWarning: the data hasn't been cleaned at any point. the fMRIPrep cleaning pipeline has been applied; nothing else has been.\n",
      "  warnings.warn(\"the data hasn't been cleaned at any point. the fMRIPrep cleaning pipeline has been applied; nothing else has been.\")\n"
     ]
    }
   ],
   "source": [
    "\n",
    "\n",
    "all_subjects = load_and_preprocess_Brain_Data(\n",
    "    brain_data_filepath,\n",
    "    train_test_markers_filepath,\n",
    "    #subjs_to_use = None,\n",
    "    response_transform_func = condition_resp_trans_func\n",
    "    #clean=None\n",
    "    )\n",
    "\n",
    "warnings.warn(\"the data hasn't been cleaned at any point. the fMRIPrep cleaning pipeline has been applied; nothing else has been.\")\n"
   ]
  },
  {
   "cell_type": "code",
   "execution_count": 31,
   "metadata": {},
   "outputs": [],
   "source": [
    "from sklearn.feature_selection import SelectPercentile,f_classif\n",
    "\n",
    "#convert the y array to an integer array representing the string values of the y array\n",
    "all_subjects_y_cat = all_subjects.Y.astype('category')\n",
    "all_subjects_y_int=all_subjects_y_cat.cat.codes"
   ]
  },
  {
   "cell_type": "code",
   "execution_count": 32,
   "metadata": {},
   "outputs": [],
   "source": [
    "mask_nifti = nib.load(ml_data_folderpath + '/prefrontal_cortex.nii.gz')"
   ]
  },
  {
   "cell_type": "code",
   "execution_count": 33,
   "metadata": {},
   "outputs": [],
   "source": [
    "\n",
    "\n",
    "num_subjs = len(all_subjects.X['subject'].unique())\n",
    "if num_subjs < len(all_subjects.X['subject'].unique()):\n",
    "    #select subjs\n",
    "    subjs = all_subjects.X['subject'].unique()\n",
    "    subjs.sort()\n",
    "    selected_sub_ids=subjs[0:num_subjs]\n",
    "    selected_rows = all_subjects.X['subject'].isin(selected_sub_ids)\n",
    "    selected_subjs = all_subjects[selected_rows]\n",
    "    selected_subjs_y_int = all_subjects_y_int[selected_rows]\n",
    "else:\n",
    "    selected_subjs = all_subjects\n",
    "    selected_subjs_y_int = all_subjects_y_int"
   ]
  },
  {
   "cell_type": "code",
   "execution_count": 34,
   "metadata": {},
   "outputs": [
    {
     "name": "stderr",
     "output_type": "stream",
     "text": [
      "/Users/benjaminsmith/opt/anaconda3/envs/neuralsignature/lib/python3.10/site-packages/nilearn/plotting/img_plotting.py:300: FutureWarning: Default resolution of the MNI template will change from 2mm to 1mm in version 0.10.0\n",
      "  anat_img = load_mni152_template()\n"
     ]
    },
    {
     "data": {
      "text/plain": [
       "<nilearn.plotting.displays._slicers.OrthoSlicer at 0x7f8b912ba0e0>"
      ]
     },
     "execution_count": 34,
     "metadata": {},
     "output_type": "execute_result"
    },
    {
     "data": {
      "image/png": "[encoded data removed]",
      "text/plain": [
       "<Figure size 475.2x187.2 with 4 Axes>"
      ]
     },
     "metadata": {},
     "output_type": "display_data"
    }
   ],
   "source": [
    "#visualize the mask that has alreayd been applied\n",
    "nl.plotting.plot_roi(\n",
    "selected_subjs.mask)"
   ]
  },
  {
   "cell_type": "markdown",
   "metadata": {},
   "source": [
    "Looks good! I don't think we need to re-mask. But if we needed to, we could probably use apply_maks, right?"
   ]
  },
  {
   "cell_type": "code",
   "execution_count": 35,
   "metadata": {},
   "outputs": [],
   "source": [
    "# # get the PFC mask\n",
    "# mask_nifti = nib.load(ml_data_folderpath + '/prefrontal_cortex.nii.gz')\n",
    "# selected_subjs_masked = selected_subjs.apply_mask(mask_nifti)\n",
    "# nl.plotting.plot_roi(\n",
    "#selected_subjs.mask)\n"
   ]
  },
  {
   "cell_type": "markdown",
   "metadata": {},
   "source": [
    "The above code took 80 seconds just on a 6-subject dataset. And the mask that was printed looks identical to the previous one. And it seems to have somehow widened the field of view rather than narrowed it. So if we alredy have a pfc-masked dataset, we can skip this."
   ]
  },
  {
   "cell_type": "markdown",
   "metadata": {},
   "source": [
    "Transform our mask into the same space as the data\n"
   ]
  },
  {
   "cell_type": "markdown",
   "metadata": {},
   "source": [
    "# Training\n",
    "\n",
    "I'm going to start with `cv_train_test_sets` and see how that goes. It sems likely it'll have to be re-written somewhat, but it might be a good starting point."
   ]
  },
  {
   "cell_type": "markdown",
   "metadata": {},
   "source": [
    "I think I need to run this without all the extra scaffolding--just tresting the Decoder on the data until I get something sensible. At the very least we need to know the Decoder object is handling balanced classes correctly."
   ]
  },
  {
   "cell_type": "code",
   "execution_count": 36,
   "metadata": {},
   "outputs": [],
   "source": [
    "# use add PFC mask.ipynb to figure out how to get a PFC mask onto this data."
   ]
  },
  {
   "cell_type": "code",
   "execution_count": 37,
   "metadata": {},
   "outputs": [],
   "source": [
    "#import SVC\n",
    "from sklearn.svm import SVC, LinearSVC\n",
    "from sklearn.preprocessing import StandardScaler\n",
    "from sklearn.feature_selection import f_classif, SequentialFeatureSelector, SelectKBest\n"
   ]
  },
  {
   "cell_type": "markdown",
   "metadata": {},
   "source": [
    "Here's a cross-validation function using sklearn. No feature selection yet, but I\"ll build that in next."
   ]
  },
  {
   "cell_type": "code",
   "execution_count": 38,
   "metadata": {},
   "outputs": [],
   "source": [
    "not_na_cols=np.isnan(selected_subjs.data).all(axis=0)==False\n",
    "cleaned_data=selected_subjs.data[:,not_na_cols]\n",
    "#VarianceThreshold(threshold=0).fit(cleaned_data,selected_subjs_y_int)\n",
    "selected_subjs.data=cleaned_data"
   ]
  },
  {
   "cell_type": "code",
   "execution_count": 39,
   "metadata": {},
   "outputs": [
    {
     "name": "stdout",
     "output_type": "stream",
     "text": [
      "there are 0 subjects with nan features. all the subject data will be removed from the dataset\n",
      "173\n",
      "173\n"
     ]
    }
   ],
   "source": [
    "#find out how many nan features there are in each sample\n",
    "nan_features_per_sample = np.isnan(selected_subjs.data).sum(axis=1)\n",
    "#find out which subject each of those samples are associated with\n",
    "nan_features_per_sample_subjs = selected_subjs.X['subject'].iloc[nan_features_per_sample>0]\n",
    "subjects_with_nan_features = nan_features_per_sample_subjs.unique()\n",
    "print(\"there are \" + str(len(subjects_with_nan_features)) + \" subjects with nan features. all the subject data will be removed from the dataset\")\n",
    "#remove those subjects from the dataset\n",
    "print(selected_subjs.X['subject'].nunique())\n",
    "selected_subjs = selected_subjs[~selected_subjs.X['subject'].isin(subjects_with_nan_features)]\n",
    "#okay, so it's just one subject. so we can remove them, and move on!\n",
    "print(selected_subjs.X['subject'].nunique())"
   ]
  },
  {
   "cell_type": "code",
   "execution_count": 40,
   "metadata": {},
   "outputs": [
    {
     "data": {
      "text/plain": [
       "Series([], Name: subject, dtype: object)"
      ]
     },
     "execution_count": 40,
     "metadata": {},
     "output_type": "execute_result"
    }
   ],
   "source": [
    "selected_subjs.X['subject'].iloc[nan_features_per_sample>0]"
   ]
  },
  {
   "cell_type": "code",
   "execution_count": 41,
   "metadata": {},
   "outputs": [
    {
     "data": {
      "text/plain": [
       "0    346\n",
       "dtype: int64"
      ]
     },
     "execution_count": 41,
     "metadata": {},
     "output_type": "execute_result"
    }
   ],
   "source": [
    "pd.Series(nan_features_per_sample).value_counts()"
   ]
  },
  {
   "cell_type": "code",
   "execution_count": 42,
   "metadata": {},
   "outputs": [
    {
     "name": "stdout",
     "output_type": "stream",
     "text": [
      "(346, 40009)\n",
      "(346, 39568)\n"
     ]
    }
   ],
   "source": [
    "#try to get rid of this \"values constant\" warning by pre-removing constant features\n",
    "from sklearn.feature_selection import VarianceThreshold\n",
    "print(selected_subjs.data.shape)\n",
    "X_data_thresholded = VarianceThreshold(threshold=0).fit_transform(selected_subjs.data,selected_subjs_y_int)\n",
    "print(X_data_thresholded.shape)"
   ]
  },
  {
   "cell_type": "code",
   "execution_count": 43,
   "metadata": {},
   "outputs": [
    {
     "name": "stdout",
     "output_type": "stream",
     "text": [
      "generalization test group 0\n",
      "230\n",
      "116\n",
      "hyper-parameter search group 0;  est...est 0; ROC AUC: 0.5769230769230769; \n",
      "est...est 1; ROC AUC: 0.5897435897435898; \n",
      "hyper-parameter search group 1;  est...est 0; ROC AUC: 0.5789473684210525; \n",
      "est...est 1; ROC AUC: 0.5921052631578947; \n",
      "hyper-parameter search group 2;  est...est 0; ROC AUC: 0.5657894736842105; \n",
      "est...est 1; ROC AUC: 0.5921052631578947; \n",
      "\n",
      "\n",
      "generalization test group 1\n",
      "230\n",
      "116\n",
      "hyper-parameter search group 0;  est...est 0; ROC AUC: 0.5897435897435898; \n",
      "est...est 1; ROC AUC: 0.5769230769230769; \n",
      "hyper-parameter search group 1;  est...est 0; ROC AUC: 0.5789473684210527; \n",
      "est...est 1; ROC AUC: 0.5789473684210527; \n",
      "hyper-parameter search group 2;  est...est 0; ROC AUC: 0.618421052631579; \n",
      "est...est 1; ROC AUC: 0.5921052631578947; \n",
      "\n",
      "\n",
      "generalization test group 2\n",
      "232\n",
      "114\n",
      "hyper-parameter search group 0;  est...est 0; ROC AUC: 0.5128205128205128; \n",
      "est...est 1; ROC AUC: 0.5256410256410257; \n",
      "hyper-parameter search group 1;  est...est 0; ROC AUC: 0.6153846153846154; \n",
      "est...est 1; ROC AUC: 0.6538461538461537; \n",
      "hyper-parameter search group 2;  est...est 0; ROC AUC: 0.4605263157894737; \n",
      "est...est 1; ROC AUC: 0.4473684210526316; \n",
      "\n",
      "\n",
      "estimator_i\n",
      "1    0.572087\n",
      "0    0.566389\n",
      "Name: score, dtype: Float64\n",
      "chose estimator 1\n",
      "generalization test group 0\n",
      "generalization test group 1\n",
      "generalization test group 2\n",
      "cross-validated score is: 0.5346820809248555\n",
      "precision, recall, fscore, support:\n",
      "(array([0.54761905, 0.52727273]), array([0.39884393, 0.67052023]), array([0.46153846, 0.59033079]), array([173, 173]))\n",
      "raw (overfit) score is: 0.9884393063583814\n"
     ]
    },
    {
     "data": {
      "text/plain": [
       "0.5346820809248555"
      ]
     },
     "execution_count": 43,
     "metadata": {},
     "output_type": "execute_result"
    }
   ],
   "source": [
    "from sklearn.feature_selection import VarianceThreshold\n",
    "from sklearn.svm import LinearSVC\n",
    "from sklearn.linear_model import LogisticRegression\n",
    "\n",
    "#I'll add the feature selection step for the estimators here for now,\n",
    "#but to save time we could add separate functions for preprocessing\n",
    "#advantage of doing it independently from estimators would be to avoid running feature selection twice.\n",
    "#disadvantage would be that we'd have to pass the feature\n",
    "\n",
    "from sklearn.pipeline import Pipeline\n",
    "from sklearn.feature_selection import SelectKBest, f_classif\n",
    "\n",
    "estimators = [\n",
    "    LinearSVC(penalty='l2',max_iter=1e6,class_weight='balanced'),\n",
    "    LogisticRegression(penalty='l2',solver='liblinear',class_weight='balanced')\n",
    "\n",
    "]\n",
    "estimators_with_fs = []\n",
    "#now wrap the estimators in a pipeline that does feature selection\n",
    "for estimator in estimators:\n",
    "    estimator_with_fs = Pipeline([\n",
    "        ('clean',VarianceThreshold(threshold=0)),\n",
    "        ('select', SelectKBest(f_classif, k=200)),\n",
    "        ('estimator', estimator)])\n",
    "    estimators_with_fs.append(estimator_with_fs)\n",
    "\n",
    "    \n",
    "from dev_utils import sklearn_nested_cross_validate\n",
    "\n",
    "cv_result = sklearn_nested_cross_validate(\n",
    "    selected_subjs.data,\n",
    "    np.array(selected_subjs_y_int),\n",
    "    estimators_with_fs,\n",
    "    groups=np.array(selected_subjs.X['subject']))\n",
    "        \n",
    "   \n",
    "\n",
    "from sklearn.metrics import roc_auc_score\n",
    "\n",
    "\n",
    "pd.Series(cv_result['y_predict_final']).value_counts()\n",
    "roc_auc_score(selected_subjs_y_int,cv_result['y_predict_final'])"
   ]
  },
  {
   "attachments": {},
   "cell_type": "markdown",
   "metadata": {},
   "source": [
    "TO TRY NEXT: TRY CLASSIFYING WHOLE-BRAIN DATA, WITH PCA PRE-CLASSIFICATION IF NECESSARY."
   ]
  },
  {
   "cell_type": "markdown",
   "metadata": {},
   "source": [
    "This is getting quite frustrating--I've worked on this all sprint and I haven't been able to classify. It's possible that the information just doesn't exist in the data. Let's at least see whether we've done steps in this function alright."
   ]
  },
  {
   "cell_type": "markdown",
   "metadata": {},
   "source": [
    "What's the empirical distribution on classifying this number of samples and getting an AUC of 0.56?"
   ]
  },
  {
   "cell_type": "markdown",
   "metadata": {},
   "source": []
  },
  {
   "cell_type": "code",
   "execution_count": 71,
   "metadata": {},
   "outputs": [
    {
     "data": {
      "text/plain": [
       "WilcoxonResult(statistic=6050.0, pvalue=2.693490359580543e-29)"
      ]
     },
     "execution_count": 71,
     "metadata": {},
     "output_type": "execute_result"
    }
   ],
   "source": [
    "#do a wilcox test (Mann-Whitney U test) to see if the difference in AUC significantly differs from 0.5\n",
    "#include a confidence interval\n",
    "from scipy.stats import wilcoxon\n",
    "wilcoxon(cv_result['y_predict_final'],selected_subjs_y_int)"
   ]
  },
  {
   "cell_type": "markdown",
   "metadata": {},
   "source": [
    "Yes, seems to be! That's a good sign."
   ]
  },
  {
   "cell_type": "markdown",
   "metadata": {},
   "source": [
    "## create synthetic data"
   ]
  },
  {
   "cell_type": "code",
   "execution_count": 45,
   "metadata": {},
   "outputs": [
    {
     "name": "stdout",
     "output_type": "stream",
     "text": [
      "(3214, 40009)\n"
     ]
    }
   ],
   "source": [
    "subjs_data_synth = selected_subjs.data.copy()\n",
    "#now select some random features and augment them with some noisy outcome data\n",
    "y_synth = selected_subjs_y_int\n",
    "\n",
    "#let's do 50 features\n",
    "n_features = 50\n",
    "for i in range(n_features):\n",
    "    #select a random feature to augment\n",
    "    feature_to_augment = np.random.randint(0,subjs_data_synth.shape[1])\n",
    "    #mix y_synth with some random data\n",
    "    y_synth_noisy = y_synth + np.random.normal(0,0.1,y_synth.shape)\n",
    "    #add the noisy data to the feature\n",
    "    subjs_data_synth[:,feature_to_augment] = subjs_data_synth[:,feature_to_augment] + y_synth_noisy\n",
    "\n",
    "print(subjs_data_synth.shape)"
   ]
  },
  {
   "cell_type": "code",
   "execution_count": 46,
   "metadata": {},
   "outputs": [
    {
     "name": "stdout",
     "output_type": "stream",
     "text": [
      "generalization test group 0\n",
      "2136\n",
      "1078\n",
      "hyper-parameter search group 0;  est..."
     ]
    },
    {
     "name": "stderr",
     "output_type": "stream",
     "text": [
      "/Users/benjaminsmith/opt/anaconda3/envs/neuralsignature/lib/python3.10/site-packages/sklearn/feature_selection/_variance_threshold.py:104: RuntimeWarning: Degrees of freedom <= 0 for slice.\n",
      "  self.variances_ = np.nanvar(X, axis=0)\n",
      "/Users/benjaminsmith/opt/anaconda3/envs/neuralsignature/lib/python3.10/site-packages/sklearn/feature_selection/_variance_threshold.py:112: RuntimeWarning: All-NaN slice encountered\n",
      "  self.variances_ = np.nanmin(compare_arr, axis=0)\n"
     ]
    },
    {
     "name": "stdout",
     "output_type": "stream",
     "text": [
      "est 0; ROC AUC: 0.9841260906276386; \n",
      "est..."
     ]
    },
    {
     "name": "stderr",
     "output_type": "stream",
     "text": [
      "/Users/benjaminsmith/opt/anaconda3/envs/neuralsignature/lib/python3.10/site-packages/sklearn/feature_selection/_variance_threshold.py:104: RuntimeWarning: Degrees of freedom <= 0 for slice.\n",
      "  self.variances_ = np.nanvar(X, axis=0)\n",
      "/Users/benjaminsmith/opt/anaconda3/envs/neuralsignature/lib/python3.10/site-packages/sklearn/feature_selection/_variance_threshold.py:112: RuntimeWarning: All-NaN slice encountered\n",
      "  self.variances_ = np.nanmin(compare_arr, axis=0)\n"
     ]
    },
    {
     "name": "stdout",
     "output_type": "stream",
     "text": [
      "est 1; ROC AUC: 0.9867154517309317; \n",
      "hyper-parameter search group 1;  est..."
     ]
    },
    {
     "name": "stderr",
     "output_type": "stream",
     "text": [
      "/Users/benjaminsmith/opt/anaconda3/envs/neuralsignature/lib/python3.10/site-packages/sklearn/feature_selection/_variance_threshold.py:104: RuntimeWarning: Degrees of freedom <= 0 for slice.\n",
      "  self.variances_ = np.nanvar(X, axis=0)\n",
      "/Users/benjaminsmith/opt/anaconda3/envs/neuralsignature/lib/python3.10/site-packages/sklearn/feature_selection/_variance_threshold.py:112: RuntimeWarning: All-NaN slice encountered\n",
      "  self.variances_ = np.nanmin(compare_arr, axis=0)\n"
     ]
    },
    {
     "name": "stdout",
     "output_type": "stream",
     "text": [
      "est 0; ROC AUC: 0.9961890243902439; \n",
      "est..."
     ]
    },
    {
     "name": "stderr",
     "output_type": "stream",
     "text": [
      "/Users/benjaminsmith/opt/anaconda3/envs/neuralsignature/lib/python3.10/site-packages/sklearn/feature_selection/_variance_threshold.py:104: RuntimeWarning: Degrees of freedom <= 0 for slice.\n",
      "  self.variances_ = np.nanvar(X, axis=0)\n",
      "/Users/benjaminsmith/opt/anaconda3/envs/neuralsignature/lib/python3.10/site-packages/sklearn/feature_selection/_variance_threshold.py:112: RuntimeWarning: All-NaN slice encountered\n",
      "  self.variances_ = np.nanmin(compare_arr, axis=0)\n"
     ]
    },
    {
     "name": "stdout",
     "output_type": "stream",
     "text": [
      "est 1; ROC AUC: 0.993140243902439; \n",
      "hyper-parameter search group 2;  est..."
     ]
    },
    {
     "name": "stderr",
     "output_type": "stream",
     "text": [
      "/Users/benjaminsmith/opt/anaconda3/envs/neuralsignature/lib/python3.10/site-packages/sklearn/feature_selection/_variance_threshold.py:104: RuntimeWarning: Degrees of freedom <= 0 for slice.\n",
      "  self.variances_ = np.nanvar(X, axis=0)\n",
      "/Users/benjaminsmith/opt/anaconda3/envs/neuralsignature/lib/python3.10/site-packages/sklearn/feature_selection/_variance_threshold.py:112: RuntimeWarning: All-NaN slice encountered\n",
      "  self.variances_ = np.nanmin(compare_arr, axis=0)\n"
     ]
    },
    {
     "name": "stdout",
     "output_type": "stream",
     "text": [
      "est 0; ROC AUC: 0.9797250409165303; \n",
      "est..."
     ]
    },
    {
     "name": "stderr",
     "output_type": "stream",
     "text": [
      "/Users/benjaminsmith/opt/anaconda3/envs/neuralsignature/lib/python3.10/site-packages/sklearn/feature_selection/_variance_threshold.py:104: RuntimeWarning: Degrees of freedom <= 0 for slice.\n",
      "  self.variances_ = np.nanvar(X, axis=0)\n",
      "/Users/benjaminsmith/opt/anaconda3/envs/neuralsignature/lib/python3.10/site-packages/sklearn/feature_selection/_variance_threshold.py:112: RuntimeWarning: All-NaN slice encountered\n",
      "  self.variances_ = np.nanmin(compare_arr, axis=0)\n"
     ]
    },
    {
     "name": "stdout",
     "output_type": "stream",
     "text": [
      "est 1; ROC AUC: 0.986088379705401; \n",
      "\n",
      "\n",
      "generalization test group 1\n",
      "2142\n",
      "1072\n",
      "hyper-parameter search group 0;  est..."
     ]
    },
    {
     "name": "stderr",
     "output_type": "stream",
     "text": [
      "/Users/benjaminsmith/opt/anaconda3/envs/neuralsignature/lib/python3.10/site-packages/sklearn/feature_selection/_variance_threshold.py:104: RuntimeWarning: Degrees of freedom <= 0 for slice.\n",
      "  self.variances_ = np.nanvar(X, axis=0)\n",
      "/Users/benjaminsmith/opt/anaconda3/envs/neuralsignature/lib/python3.10/site-packages/sklearn/feature_selection/_variance_threshold.py:112: RuntimeWarning: All-NaN slice encountered\n",
      "  self.variances_ = np.nanmin(compare_arr, axis=0)\n"
     ]
    },
    {
     "name": "stdout",
     "output_type": "stream",
     "text": [
      "est 0; ROC AUC: 0.9906008950126597; \n",
      "est..."
     ]
    },
    {
     "name": "stderr",
     "output_type": "stream",
     "text": [
      "/Users/benjaminsmith/opt/anaconda3/envs/neuralsignature/lib/python3.10/site-packages/sklearn/feature_selection/_variance_threshold.py:104: RuntimeWarning: Degrees of freedom <= 0 for slice.\n",
      "  self.variances_ = np.nanvar(X, axis=0)\n",
      "/Users/benjaminsmith/opt/anaconda3/envs/neuralsignature/lib/python3.10/site-packages/sklearn/feature_selection/_variance_threshold.py:112: RuntimeWarning: All-NaN slice encountered\n",
      "  self.variances_ = np.nanmin(compare_arr, axis=0)\n"
     ]
    },
    {
     "name": "stdout",
     "output_type": "stream",
     "text": [
      "est 1; ROC AUC: 0.9952305246422893; \n",
      "hyper-parameter search group 1;  est..."
     ]
    },
    {
     "name": "stderr",
     "output_type": "stream",
     "text": [
      "/Users/benjaminsmith/opt/anaconda3/envs/neuralsignature/lib/python3.10/site-packages/sklearn/feature_selection/_variance_threshold.py:104: RuntimeWarning: Degrees of freedom <= 0 for slice.\n",
      "  self.variances_ = np.nanvar(X, axis=0)\n",
      "/Users/benjaminsmith/opt/anaconda3/envs/neuralsignature/lib/python3.10/site-packages/sklearn/feature_selection/_variance_threshold.py:112: RuntimeWarning: All-NaN slice encountered\n",
      "  self.variances_ = np.nanmin(compare_arr, axis=0)\n"
     ]
    },
    {
     "name": "stdout",
     "output_type": "stream",
     "text": [
      "est 0; ROC AUC: 0.9727109006319933; \n",
      "est..."
     ]
    },
    {
     "name": "stderr",
     "output_type": "stream",
     "text": [
      "/Users/benjaminsmith/opt/anaconda3/envs/neuralsignature/lib/python3.10/site-packages/sklearn/feature_selection/_variance_threshold.py:104: RuntimeWarning: Degrees of freedom <= 0 for slice.\n",
      "  self.variances_ = np.nanvar(X, axis=0)\n",
      "/Users/benjaminsmith/opt/anaconda3/envs/neuralsignature/lib/python3.10/site-packages/sklearn/feature_selection/_variance_threshold.py:112: RuntimeWarning: All-NaN slice encountered\n",
      "  self.variances_ = np.nanmin(compare_arr, axis=0)\n"
     ]
    },
    {
     "name": "stdout",
     "output_type": "stream",
     "text": [
      "est 1; ROC AUC: 0.9831246143840986; \n",
      "hyper-parameter search group 2;  est..."
     ]
    },
    {
     "name": "stderr",
     "output_type": "stream",
     "text": [
      "/Users/benjaminsmith/opt/anaconda3/envs/neuralsignature/lib/python3.10/site-packages/sklearn/feature_selection/_variance_threshold.py:104: RuntimeWarning: Degrees of freedom <= 0 for slice.\n",
      "  self.variances_ = np.nanvar(X, axis=0)\n",
      "/Users/benjaminsmith/opt/anaconda3/envs/neuralsignature/lib/python3.10/site-packages/sklearn/feature_selection/_variance_threshold.py:112: RuntimeWarning: All-NaN slice encountered\n",
      "  self.variances_ = np.nanmin(compare_arr, axis=0)\n"
     ]
    },
    {
     "name": "stdout",
     "output_type": "stream",
     "text": [
      "est 0; ROC AUC: 0.9911504424778761; \n",
      "est..."
     ]
    },
    {
     "name": "stderr",
     "output_type": "stream",
     "text": [
      "/Users/benjaminsmith/opt/anaconda3/envs/neuralsignature/lib/python3.10/site-packages/sklearn/feature_selection/_variance_threshold.py:104: RuntimeWarning: Degrees of freedom <= 0 for slice.\n",
      "  self.variances_ = np.nanvar(X, axis=0)\n",
      "/Users/benjaminsmith/opt/anaconda3/envs/neuralsignature/lib/python3.10/site-packages/sklearn/feature_selection/_variance_threshold.py:112: RuntimeWarning: All-NaN slice encountered\n",
      "  self.variances_ = np.nanmin(compare_arr, axis=0)\n"
     ]
    },
    {
     "name": "stdout",
     "output_type": "stream",
     "text": [
      "est 1; ROC AUC: 0.979646017699115; \n",
      "\n",
      "\n",
      "generalization test group 2\n",
      "2150\n",
      "1064\n",
      "hyper-parameter search group 0;  est..."
     ]
    },
    {
     "name": "stderr",
     "output_type": "stream",
     "text": [
      "/Users/benjaminsmith/opt/anaconda3/envs/neuralsignature/lib/python3.10/site-packages/sklearn/feature_selection/_variance_threshold.py:104: RuntimeWarning: Degrees of freedom <= 0 for slice.\n",
      "  self.variances_ = np.nanvar(X, axis=0)\n",
      "/Users/benjaminsmith/opt/anaconda3/envs/neuralsignature/lib/python3.10/site-packages/sklearn/feature_selection/_variance_threshold.py:112: RuntimeWarning: All-NaN slice encountered\n",
      "  self.variances_ = np.nanmin(compare_arr, axis=0)\n"
     ]
    },
    {
     "name": "stdout",
     "output_type": "stream",
     "text": [
      "est 0; ROC AUC: 0.9669380747590474; \n",
      "est..."
     ]
    },
    {
     "name": "stderr",
     "output_type": "stream",
     "text": [
      "/Users/benjaminsmith/opt/anaconda3/envs/neuralsignature/lib/python3.10/site-packages/sklearn/feature_selection/_variance_threshold.py:104: RuntimeWarning: Degrees of freedom <= 0 for slice.\n",
      "  self.variances_ = np.nanvar(X, axis=0)\n",
      "/Users/benjaminsmith/opt/anaconda3/envs/neuralsignature/lib/python3.10/site-packages/sklearn/feature_selection/_variance_threshold.py:112: RuntimeWarning: All-NaN slice encountered\n",
      "  self.variances_ = np.nanmin(compare_arr, axis=0)\n"
     ]
    },
    {
     "name": "stdout",
     "output_type": "stream",
     "text": [
      "est 1; ROC AUC: 0.9657481854187562; \n",
      "hyper-parameter search group 1;  est..."
     ]
    },
    {
     "name": "stderr",
     "output_type": "stream",
     "text": [
      "/Users/benjaminsmith/opt/anaconda3/envs/neuralsignature/lib/python3.10/site-packages/sklearn/feature_selection/_variance_threshold.py:104: RuntimeWarning: Degrees of freedom <= 0 for slice.\n",
      "  self.variances_ = np.nanvar(X, axis=0)\n",
      "/Users/benjaminsmith/opt/anaconda3/envs/neuralsignature/lib/python3.10/site-packages/sklearn/feature_selection/_variance_threshold.py:112: RuntimeWarning: All-NaN slice encountered\n",
      "  self.variances_ = np.nanmin(compare_arr, axis=0)\n"
     ]
    },
    {
     "name": "stdout",
     "output_type": "stream",
     "text": [
      "est 0; ROC AUC: 0.9991007194244604; \n",
      "est..."
     ]
    },
    {
     "name": "stderr",
     "output_type": "stream",
     "text": [
      "/Users/benjaminsmith/opt/anaconda3/envs/neuralsignature/lib/python3.10/site-packages/sklearn/feature_selection/_variance_threshold.py:104: RuntimeWarning: Degrees of freedom <= 0 for slice.\n",
      "  self.variances_ = np.nanvar(X, axis=0)\n",
      "/Users/benjaminsmith/opt/anaconda3/envs/neuralsignature/lib/python3.10/site-packages/sklearn/feature_selection/_variance_threshold.py:112: RuntimeWarning: All-NaN slice encountered\n",
      "  self.variances_ = np.nanmin(compare_arr, axis=0)\n"
     ]
    },
    {
     "name": "stdout",
     "output_type": "stream",
     "text": [
      "est 1; ROC AUC: 0.9964028776978417; \n",
      "hyper-parameter search group 2;  est..."
     ]
    },
    {
     "name": "stderr",
     "output_type": "stream",
     "text": [
      "/Users/benjaminsmith/opt/anaconda3/envs/neuralsignature/lib/python3.10/site-packages/sklearn/feature_selection/_variance_threshold.py:104: RuntimeWarning: Degrees of freedom <= 0 for slice.\n",
      "  self.variances_ = np.nanvar(X, axis=0)\n",
      "/Users/benjaminsmith/opt/anaconda3/envs/neuralsignature/lib/python3.10/site-packages/sklearn/feature_selection/_variance_threshold.py:112: RuntimeWarning: All-NaN slice encountered\n",
      "  self.variances_ = np.nanmin(compare_arr, axis=0)\n"
     ]
    },
    {
     "name": "stdout",
     "output_type": "stream",
     "text": [
      "est 0; ROC AUC: 0.9923076923076923; \n",
      "est..."
     ]
    },
    {
     "name": "stderr",
     "output_type": "stream",
     "text": [
      "/Users/benjaminsmith/opt/anaconda3/envs/neuralsignature/lib/python3.10/site-packages/sklearn/feature_selection/_variance_threshold.py:104: RuntimeWarning: Degrees of freedom <= 0 for slice.\n",
      "  self.variances_ = np.nanvar(X, axis=0)\n",
      "/Users/benjaminsmith/opt/anaconda3/envs/neuralsignature/lib/python3.10/site-packages/sklearn/feature_selection/_variance_threshold.py:112: RuntimeWarning: All-NaN slice encountered\n",
      "  self.variances_ = np.nanmin(compare_arr, axis=0)\n"
     ]
    },
    {
     "name": "stdout",
     "output_type": "stream",
     "text": [
      "est 1; ROC AUC: 0.9923076923076923; \n",
      "\n",
      "\n",
      "estimator_i\n",
      "1    0.986489\n",
      "0    0.985872\n",
      "Name: score, dtype: Float64\n",
      "chose estimator 1\n",
      "generalization test group 0\n"
     ]
    },
    {
     "name": "stderr",
     "output_type": "stream",
     "text": [
      "/Users/benjaminsmith/opt/anaconda3/envs/neuralsignature/lib/python3.10/site-packages/sklearn/feature_selection/_variance_threshold.py:104: RuntimeWarning: Degrees of freedom <= 0 for slice.\n",
      "  self.variances_ = np.nanvar(X, axis=0)\n",
      "/Users/benjaminsmith/opt/anaconda3/envs/neuralsignature/lib/python3.10/site-packages/sklearn/feature_selection/_variance_threshold.py:112: RuntimeWarning: All-NaN slice encountered\n",
      "  self.variances_ = np.nanmin(compare_arr, axis=0)\n"
     ]
    },
    {
     "name": "stdout",
     "output_type": "stream",
     "text": [
      "generalization test group 1\n"
     ]
    },
    {
     "name": "stderr",
     "output_type": "stream",
     "text": [
      "/Users/benjaminsmith/opt/anaconda3/envs/neuralsignature/lib/python3.10/site-packages/sklearn/feature_selection/_variance_threshold.py:104: RuntimeWarning: Degrees of freedom <= 0 for slice.\n",
      "  self.variances_ = np.nanvar(X, axis=0)\n",
      "/Users/benjaminsmith/opt/anaconda3/envs/neuralsignature/lib/python3.10/site-packages/sklearn/feature_selection/_variance_threshold.py:112: RuntimeWarning: All-NaN slice encountered\n",
      "  self.variances_ = np.nanmin(compare_arr, axis=0)\n"
     ]
    },
    {
     "name": "stdout",
     "output_type": "stream",
     "text": [
      "generalization test group 2\n"
     ]
    },
    {
     "name": "stderr",
     "output_type": "stream",
     "text": [
      "/Users/benjaminsmith/opt/anaconda3/envs/neuralsignature/lib/python3.10/site-packages/sklearn/feature_selection/_variance_threshold.py:104: RuntimeWarning: Degrees of freedom <= 0 for slice.\n",
      "  self.variances_ = np.nanvar(X, axis=0)\n",
      "/Users/benjaminsmith/opt/anaconda3/envs/neuralsignature/lib/python3.10/site-packages/sklearn/feature_selection/_variance_threshold.py:112: RuntimeWarning: All-NaN slice encountered\n",
      "  self.variances_ = np.nanmin(compare_arr, axis=0)\n"
     ]
    },
    {
     "name": "stdout",
     "output_type": "stream",
     "text": [
      "cross-validated score is: 0.9826571409844662\n",
      "precision, recall, fscore, support:\n",
      "(array([0.99852235, 0.85996055]), array([0.97440519, 0.99090909]), array([0.98631637, 0.92080253]), array([2774,  440]))\n"
     ]
    },
    {
     "name": "stderr",
     "output_type": "stream",
     "text": [
      "/Users/benjaminsmith/opt/anaconda3/envs/neuralsignature/lib/python3.10/site-packages/sklearn/feature_selection/_variance_threshold.py:104: RuntimeWarning: Degrees of freedom <= 0 for slice.\n",
      "  self.variances_ = np.nanvar(X, axis=0)\n",
      "/Users/benjaminsmith/opt/anaconda3/envs/neuralsignature/lib/python3.10/site-packages/sklearn/feature_selection/_variance_threshold.py:112: RuntimeWarning: All-NaN slice encountered\n",
      "  self.variances_ = np.nanmin(compare_arr, axis=0)\n"
     ]
    },
    {
     "name": "stdout",
     "output_type": "stream",
     "text": [
      "raw (overfit) score is: 1.0\n"
     ]
    },
    {
     "data": {
      "text/plain": [
       "0.9826571409844662"
      ]
     },
     "execution_count": 46,
     "metadata": {},
     "output_type": "execute_result"
    }
   ],
   "source": [
    "from sklearn.feature_selection import VarianceThreshold\n",
    "from sklearn.svm import LinearSVC\n",
    "from sklearn.linear_model import LogisticRegression\n",
    "\n",
    "#I'll add the feature selection step for the estimators here for now,\n",
    "#but to save time we could add separate functions for preprocessing\n",
    "#advantage of doing it independently from estimators would be to avoid running feature selection twice.\n",
    "#disadvantage would be that we'd have to pass the feature\n",
    "\n",
    "from sklearn.pipeline import Pipeline\n",
    "from sklearn.feature_selection import SelectKBest, f_classif\n",
    "\n",
    "estimators = [\n",
    "    LinearSVC(penalty='l2',max_iter=1e6,class_weight='balanced'),\n",
    "    LogisticRegression(penalty='l2',solver='liblinear',class_weight='balanced')\n",
    "\n",
    "]\n",
    "estimators_with_fs = []\n",
    "#now wrap the estimators in a pipeline that does feature selection\n",
    "for estimator in estimators:\n",
    "    estimator_with_fs = Pipeline([\n",
    "        ('clean',VarianceThreshold(threshold=0)),\n",
    "        ('select', SelectKBest(f_classif, k=200)),\n",
    "        ('estimator', estimator)])\n",
    "    estimators_with_fs.append(estimator_with_fs)\n",
    "\n",
    "    \n",
    "\n",
    "cv_result = sklearn_nested_cross_validate(\n",
    "    subjs_data_synth,\n",
    "    np.array(selected_subjs_y_int),\n",
    "    estimators_with_fs,\n",
    "    groups=np.array(selected_subjs.X['subject']))\n",
    "        \n",
    "   \n",
    "\n",
    "from sklearn.metrics import roc_auc_score\n",
    "\n",
    "\n",
    "pd.Series(cv_result['y_predict_final']).value_counts()\n",
    "roc_auc_score(selected_subjs_y_int,cv_result['y_predict_final'])"
   ]
  },
  {
   "attachments": {},
   "cell_type": "markdown",
   "metadata": {},
   "source": [
    "### with the simple classifier\n",
    "\n",
    "That's odd. If we mix y data in with the X then, when we predict, the predictor should be able to pick up on those features and predict. something isn't right. Maybe we need to take out the nested CV and try it without that."
   ]
  },
  {
   "cell_type": "code",
   "execution_count": 86,
   "metadata": {},
   "outputs": [
    {
     "name": "stdout",
     "output_type": "stream",
     "text": [
      "(634, 40009)\n",
      "(634, 200)\n",
      "generalization test group 0, estimating... "
     ]
    },
    {
     "ename": "KeyboardInterrupt",
     "evalue": "",
     "output_type": "error",
     "traceback": [
      "\u001b[0;31m---------------------------------------------------------------------------\u001b[0m",
      "\u001b[0;31mKeyboardInterrupt\u001b[0m                         Traceback (most recent call last)",
      "\u001b[1;32m/Users/benjaminsmith/Google Drive/oregon/code/DEV_scripts/fMRI/ml/SST/classify_trialwise_gng_BD_sklearn.ipynb Cell 41\u001b[0m in \u001b[0;36m<cell line: 9>\u001b[0;34m()\u001b[0m\n\u001b[1;32m      <a href='vscode-notebook-cell:/Users/benjaminsmith/Google%20Drive/oregon/code/DEV_scripts/fMRI/ml/SST/classify_trialwise_gng_BD_sklearn.ipynb#X55sZmlsZQ%3D%3D?line=5'>6</a>\u001b[0m \u001b[39mprint\u001b[39m(subjs_data_synth_fs\u001b[39m.\u001b[39mshape)\n\u001b[1;32m      <a href='vscode-notebook-cell:/Users/benjaminsmith/Google%20Drive/oregon/code/DEV_scripts/fMRI/ml/SST/classify_trialwise_gng_BD_sklearn.ipynb#X55sZmlsZQ%3D%3D?line=6'>7</a>\u001b[0m estimator \u001b[39m=\u001b[39m LinearSVC(penalty\u001b[39m=\u001b[39m\u001b[39m'\u001b[39m\u001b[39ml2\u001b[39m\u001b[39m'\u001b[39m,max_iter\u001b[39m=\u001b[39m\u001b[39m1e6\u001b[39m,class_weight\u001b[39m=\u001b[39m\u001b[39m'\u001b[39m\u001b[39mbalanced\u001b[39m\u001b[39m'\u001b[39m)\n\u001b[0;32m----> <a href='vscode-notebook-cell:/Users/benjaminsmith/Google%20Drive/oregon/code/DEV_scripts/fMRI/ml/SST/classify_trialwise_gng_BD_sklearn.ipynb#X55sZmlsZQ%3D%3D?line=8'>9</a>\u001b[0m cv_result \u001b[39m=\u001b[39m sklearn_simple_cross_validate(\n\u001b[1;32m     <a href='vscode-notebook-cell:/Users/benjaminsmith/Google%20Drive/oregon/code/DEV_scripts/fMRI/ml/SST/classify_trialwise_gng_BD_sklearn.ipynb#X55sZmlsZQ%3D%3D?line=9'>10</a>\u001b[0m     subjs_data_synth_fs,\n\u001b[1;32m     <a href='vscode-notebook-cell:/Users/benjaminsmith/Google%20Drive/oregon/code/DEV_scripts/fMRI/ml/SST/classify_trialwise_gng_BD_sklearn.ipynb#X55sZmlsZQ%3D%3D?line=10'>11</a>\u001b[0m     np\u001b[39m.\u001b[39;49marray(selected_subjs_y_int),\n\u001b[1;32m     <a href='vscode-notebook-cell:/Users/benjaminsmith/Google%20Drive/oregon/code/DEV_scripts/fMRI/ml/SST/classify_trialwise_gng_BD_sklearn.ipynb#X55sZmlsZQ%3D%3D?line=11'>12</a>\u001b[0m     estimator,\n\u001b[1;32m     <a href='vscode-notebook-cell:/Users/benjaminsmith/Google%20Drive/oregon/code/DEV_scripts/fMRI/ml/SST/classify_trialwise_gng_BD_sklearn.ipynb#X55sZmlsZQ%3D%3D?line=12'>13</a>\u001b[0m     groups\u001b[39m=\u001b[39;49mnp\u001b[39m.\u001b[39;49marray(selected_subjs\u001b[39m.\u001b[39;49mX[\u001b[39m'\u001b[39;49m\u001b[39msubject\u001b[39;49m\u001b[39m'\u001b[39;49m]))\n",
      "File \u001b[0;32m~/Google Drive/oregon/code/DEV_scripts/fMRI/ml/dev_utils.py:169\u001b[0m, in \u001b[0;36msklearn_simple_cross_validate\u001b[0;34m(X, y, estimator, groups, scoring_function)\u001b[0m\n\u001b[1;32m    167\u001b[0m \u001b[39mprint\u001b[39m(\u001b[39m\"\u001b[39m\u001b[39mgeneralization test group \u001b[39m\u001b[39m\"\u001b[39m \u001b[39m+\u001b[39m \u001b[39mstr\u001b[39m(i), end\u001b[39m=\u001b[39m\u001b[39m\"\u001b[39m\u001b[39m, \u001b[39m\u001b[39m\"\u001b[39m)\n\u001b[1;32m    168\u001b[0m \u001b[39mprint\u001b[39m(\u001b[39m'\u001b[39m\u001b[39mestimating... \u001b[39m\u001b[39m'\u001b[39m, end\u001b[39m=\u001b[39m\u001b[39m\"\u001b[39m\u001b[39m\"\u001b[39m)\n\u001b[0;32m--> 169\u001b[0m estimator\u001b[39m.\u001b[39;49mfit(X[train_i],y\u001b[39m=\u001b[39;49my[train_i])\n\u001b[1;32m    170\u001b[0m \u001b[39mprint\u001b[39m(\u001b[39m'\u001b[39m\u001b[39mestimated; predicting... \u001b[39m\u001b[39m'\u001b[39m)\n\u001b[1;32m    171\u001b[0m \u001b[39m#now, evaluate the performance of the estimator on the validation set\u001b[39;00m\n",
      "File \u001b[0;32m~/opt/anaconda3/envs/neuralsignature/lib/python3.10/site-packages/sklearn/svm/_classes.py:257\u001b[0m, in \u001b[0;36mLinearSVC.fit\u001b[0;34m(self, X, y, sample_weight)\u001b[0m\n\u001b[1;32m    254\u001b[0m check_classification_targets(y)\n\u001b[1;32m    255\u001b[0m \u001b[39mself\u001b[39m\u001b[39m.\u001b[39mclasses_ \u001b[39m=\u001b[39m np\u001b[39m.\u001b[39munique(y)\n\u001b[0;32m--> 257\u001b[0m \u001b[39mself\u001b[39m\u001b[39m.\u001b[39mcoef_, \u001b[39mself\u001b[39m\u001b[39m.\u001b[39mintercept_, \u001b[39mself\u001b[39m\u001b[39m.\u001b[39mn_iter_ \u001b[39m=\u001b[39m _fit_liblinear(\n\u001b[1;32m    258\u001b[0m     X,\n\u001b[1;32m    259\u001b[0m     y,\n\u001b[1;32m    260\u001b[0m     \u001b[39mself\u001b[39;49m\u001b[39m.\u001b[39;49mC,\n\u001b[1;32m    261\u001b[0m     \u001b[39mself\u001b[39;49m\u001b[39m.\u001b[39;49mfit_intercept,\n\u001b[1;32m    262\u001b[0m     \u001b[39mself\u001b[39;49m\u001b[39m.\u001b[39;49mintercept_scaling,\n\u001b[1;32m    263\u001b[0m     \u001b[39mself\u001b[39;49m\u001b[39m.\u001b[39;49mclass_weight,\n\u001b[1;32m    264\u001b[0m     \u001b[39mself\u001b[39;49m\u001b[39m.\u001b[39;49mpenalty,\n\u001b[1;32m    265\u001b[0m     \u001b[39mself\u001b[39;49m\u001b[39m.\u001b[39;49mdual,\n\u001b[1;32m    266\u001b[0m     \u001b[39mself\u001b[39;49m\u001b[39m.\u001b[39;49mverbose,\n\u001b[1;32m    267\u001b[0m     \u001b[39mself\u001b[39;49m\u001b[39m.\u001b[39;49mmax_iter,\n\u001b[1;32m    268\u001b[0m     \u001b[39mself\u001b[39;49m\u001b[39m.\u001b[39;49mtol,\n\u001b[1;32m    269\u001b[0m     \u001b[39mself\u001b[39;49m\u001b[39m.\u001b[39;49mrandom_state,\n\u001b[1;32m    270\u001b[0m     \u001b[39mself\u001b[39;49m\u001b[39m.\u001b[39;49mmulti_class,\n\u001b[1;32m    271\u001b[0m     \u001b[39mself\u001b[39;49m\u001b[39m.\u001b[39;49mloss,\n\u001b[1;32m    272\u001b[0m     sample_weight\u001b[39m=\u001b[39;49msample_weight,\n\u001b[1;32m    273\u001b[0m )\n\u001b[1;32m    275\u001b[0m \u001b[39mif\u001b[39;00m \u001b[39mself\u001b[39m\u001b[39m.\u001b[39mmulti_class \u001b[39m==\u001b[39m \u001b[39m\"\u001b[39m\u001b[39mcrammer_singer\u001b[39m\u001b[39m\"\u001b[39m \u001b[39mand\u001b[39;00m \u001b[39mlen\u001b[39m(\u001b[39mself\u001b[39m\u001b[39m.\u001b[39mclasses_) \u001b[39m==\u001b[39m \u001b[39m2\u001b[39m:\n\u001b[1;32m    276\u001b[0m     \u001b[39mself\u001b[39m\u001b[39m.\u001b[39mcoef_ \u001b[39m=\u001b[39m (\u001b[39mself\u001b[39m\u001b[39m.\u001b[39mcoef_[\u001b[39m1\u001b[39m] \u001b[39m-\u001b[39m \u001b[39mself\u001b[39m\u001b[39m.\u001b[39mcoef_[\u001b[39m0\u001b[39m])\u001b[39m.\u001b[39mreshape(\u001b[39m1\u001b[39m, \u001b[39m-\u001b[39m\u001b[39m1\u001b[39m)\n",
      "File \u001b[0;32m~/opt/anaconda3/envs/neuralsignature/lib/python3.10/site-packages/sklearn/svm/_base.py:1186\u001b[0m, in \u001b[0;36m_fit_liblinear\u001b[0;34m(X, y, C, fit_intercept, intercept_scaling, class_weight, penalty, dual, verbose, max_iter, tol, random_state, multi_class, loss, epsilon, sample_weight)\u001b[0m\n\u001b[1;32m   1183\u001b[0m sample_weight \u001b[39m=\u001b[39m _check_sample_weight(sample_weight, X, dtype\u001b[39m=\u001b[39mnp\u001b[39m.\u001b[39mfloat64)\n\u001b[1;32m   1185\u001b[0m solver_type \u001b[39m=\u001b[39m _get_liblinear_solver_type(multi_class, penalty, loss, dual)\n\u001b[0;32m-> 1186\u001b[0m raw_coef_, n_iter_ \u001b[39m=\u001b[39m liblinear\u001b[39m.\u001b[39;49mtrain_wrap(\n\u001b[1;32m   1187\u001b[0m     X,\n\u001b[1;32m   1188\u001b[0m     y_ind,\n\u001b[1;32m   1189\u001b[0m     sp\u001b[39m.\u001b[39;49misspmatrix(X),\n\u001b[1;32m   1190\u001b[0m     solver_type,\n\u001b[1;32m   1191\u001b[0m     tol,\n\u001b[1;32m   1192\u001b[0m     bias,\n\u001b[1;32m   1193\u001b[0m     C,\n\u001b[1;32m   1194\u001b[0m     class_weight_,\n\u001b[1;32m   1195\u001b[0m     max_iter,\n\u001b[1;32m   1196\u001b[0m     rnd\u001b[39m.\u001b[39;49mrandint(np\u001b[39m.\u001b[39;49miinfo(\u001b[39m\"\u001b[39;49m\u001b[39mi\u001b[39;49m\u001b[39m\"\u001b[39;49m)\u001b[39m.\u001b[39;49mmax),\n\u001b[1;32m   1197\u001b[0m     epsilon,\n\u001b[1;32m   1198\u001b[0m     sample_weight,\n\u001b[1;32m   1199\u001b[0m )\n\u001b[1;32m   1200\u001b[0m \u001b[39m# Regarding rnd.randint(..) in the above signature:\u001b[39;00m\n\u001b[1;32m   1201\u001b[0m \u001b[39m# seed for srand in range [0..INT_MAX); due to limitations in Numpy\u001b[39;00m\n\u001b[1;32m   1202\u001b[0m \u001b[39m# on 32-bit platforms, we can't get to the UINT_MAX limit that\u001b[39;00m\n\u001b[1;32m   1203\u001b[0m \u001b[39m# srand supports\u001b[39;00m\n\u001b[1;32m   1204\u001b[0m n_iter_ \u001b[39m=\u001b[39m \u001b[39mmax\u001b[39m(n_iter_)\n",
      "\u001b[0;31mKeyboardInterrupt\u001b[0m: "
     ]
    }
   ],
   "source": [
    "from dev_utils import sklearn_simple_cross_validate\n",
    "print(subjs_data_synth.shape)\n",
    "subjs_data_synth_cleaned = VarianceThreshold(threshold=0).fit_transform(subjs_data_synth)\n",
    "subjs_data_synth_fs = SelectKBest(f_classif, k=200).fit_transform(subjs_data_synth_cleaned,selected_subjs_y_int)\n",
    "\n",
    "print(subjs_data_synth_fs.shape)\n",
    "estimator = LinearSVC(penalty='l2',max_iter=1e6,class_weight='balanced')\n",
    "\n",
    "cv_result = sklearn_simple_cross_validate(\n",
    "    subjs_data_synth_fs,\n",
    "    np.array(selected_subjs_y_int),\n",
    "    estimator,\n",
    "    groups=np.array(selected_subjs.X['subject']))\n"
   ]
  },
  {
   "cell_type": "code",
   "execution_count": 81,
   "metadata": {},
   "outputs": [
    {
     "data": {
      "text/plain": [
       "array([[282, 254],\n",
       "       [ 40,  58]])"
      ]
     },
     "execution_count": 81,
     "metadata": {},
     "output_type": "execute_result"
    }
   ],
   "source": [
    "#get a confusion matrix\n",
    "from sklearn.metrics import confusion_matrix\n",
    "confusion_matrix(selected_subjs_y_int,cv_result['y_predict_final'])"
   ]
  },
  {
   "cell_type": "markdown",
   "metadata": {},
   "source": [
    "Seems like it is working--but not very well. That's interesting because we have it pretty easy data to interpret!\n",
    "\n",
    "Suggests maybe we haven't got the best algorithm? What if we tried ridge regression?"
   ]
  },
  {
   "cell_type": "markdown",
   "metadata": {},
   "source": [
    "#### Add Ridge Regression"
   ]
  },
  {
   "cell_type": "code",
   "execution_count": 87,
   "metadata": {},
   "outputs": [
    {
     "name": "stdout",
     "output_type": "stream",
     "text": [
      "generalization test group 0, estimating... estimated; predicting... \n",
      "generalization test group 1, estimating... estimated; predicting... \n",
      "generalization test group 2, estimating... estimated; predicting... \n",
      "cross-validated score is: 0.5622144380140115\n",
      "precision, recall, fscore, support:\n",
      "(array([0.87774295, 0.18730159]), array([0.52238806, 0.60204082]), array([0.65497076, 0.28571429]), array([536,  98]))\n",
      "raw (overfit) score is: 1.0\n",
      "generalization test group 0, estimating... estimated; predicting... \n",
      "generalization test group 1, estimating... estimated; predicting... \n",
      "generalization test group 2, estimating... estimated; predicting... \n",
      "cross-validated score is: 0.9400890953396284\n",
      "precision, recall, fscore, support:\n",
      "(array([0.98301887, 0.85576923]), array([0.97201493, 0.90816327]), array([0.97748593, 0.88118812]), array([536,  98]))\n",
      "raw (overfit) score is: 1.0\n"
     ]
    }
   ],
   "source": [
    "from sklearn.linear_model import RidgeClassifierCV\n",
    "\n",
    "\n",
    "estimators = [\n",
    "    LinearSVC(penalty='l2',max_iter=1e6,class_weight='balanced'),\n",
    "    LogisticRegression(penalty='l2',solver='liblinear',class_weight='balanced'),\n",
    "    RidgeClassifierCV(class_weight='balanced')\n",
    "\n",
    "]\n",
    "estimators_with_fs = []\n",
    "#now wrap the estimators in a pipeline that does feature selection\n",
    "for estimator in estimators:\n",
    "    estimator_with_fs = Pipeline([\n",
    "        ('clean',VarianceThreshold(threshold=0)),\n",
    "        ('select', SelectKBest(f_classif, k=200)),\n",
    "        ('estimator', estimator)])\n",
    "    estimators_with_fs.append(estimator_with_fs)\n",
    "\n",
    "\n",
    "# cv_result_0 = sklearn_simple_cross_validate(\n",
    "#     X_2d_masked_synth,\n",
    "#     np.array(selected_subjs_y_int),\n",
    "#     estimators_with_fs[0],\n",
    "#     groups=np.array(selected_subjs.X['subject']))\n",
    "\n",
    "cv_result_1 = sklearn_simple_cross_validate(\n",
    "    subjs_data_synth_fs,\n",
    "    np.array(selected_subjs_y_int),\n",
    "    estimators_with_fs[1],\n",
    "    groups=np.array(selected_subjs.X['subject']))\n",
    "\n",
    "cv_result_2 = sklearn_simple_cross_validate(\n",
    "    subjs_data_synth_fs,\n",
    "    np.array(selected_subjs_y_int),\n",
    "    estimators_with_fs[2],\n",
    "    groups=np.array(selected_subjs.X['subject']))"
   ]
  },
  {
   "cell_type": "code",
   "execution_count": 88,
   "metadata": {},
   "outputs": [
    {
     "data": {
      "text/plain": [
       "array([[521,   9],\n",
       "       [ 15,  89]])"
      ]
     },
     "execution_count": 88,
     "metadata": {},
     "output_type": "execute_result"
    }
   ],
   "source": [
    "confusion_matrix(cv_result_2['y_predict_final'],selected_subjs_y_int)"
   ]
  },
  {
   "cell_type": "code",
   "execution_count": 89,
   "metadata": {},
   "outputs": [
    {
     "name": "stdout",
     "output_type": "stream",
     "text": [
      "generalization test group 0, estimating... estimated; predicting... \n",
      "generalization test group 1, estimating... estimated; predicting... \n",
      "generalization test group 2, estimating... estimated; predicting... \n",
      "cross-validated score is: 0.5432911970758453\n",
      "precision, recall, fscore, support:\n",
      "(array([0.86627907, 0.17931034]), array([0.55597015, 0.53061224]), array([0.67727273, 0.26804124]), array([536,  98]))\n",
      "raw (overfit) score is: 0.9152832774901006\n",
      "generalization test group 0, estimating... estimated; predicting... \n",
      "generalization test group 1, estimating... estimated; predicting... \n",
      "generalization test group 2, estimating... estimated; predicting... \n",
      "cross-validated score is: 0.500780536095035\n",
      "precision, recall, fscore, support:\n",
      "(array([0.84575835, 0.15510204]), array([0.61380597, 0.3877551 ]), array([0.71135135, 0.22157434]), array([536,  98]))\n",
      "raw (overfit) score is: 0.8492803837953092\n"
     ]
    }
   ],
   "source": [
    "from sklearn.linear_model import RidgeClassifierCV\n",
    "\n",
    "\n",
    "estimators = [\n",
    "    LinearSVC(penalty='l2',max_iter=1e6,class_weight='balanced'),\n",
    "    LogisticRegression(penalty='l2',solver='liblinear',class_weight='balanced'),\n",
    "    RidgeClassifierCV(class_weight='balanced')\n",
    "\n",
    "]\n",
    "estimators_with_fs = []\n",
    "#now wrap the estimators in a pipeline that does feature selection\n",
    "for estimator in estimators:\n",
    "    estimator_with_fs = Pipeline([\n",
    "        ('clean',VarianceThreshold(threshold=0)),\n",
    "        ('select', SelectKBest(f_classif, k=200)),\n",
    "        ('estimator', estimator)])\n",
    "    estimators_with_fs.append(estimator_with_fs)\n",
    "\n",
    "\n",
    "cv_result_1 = sklearn_simple_cross_validate(\n",
    "    selected_subjs.data,\n",
    "    np.array(selected_subjs_y_int),\n",
    "    estimators_with_fs[1],\n",
    "    groups=np.array(selected_subjs.X['subject']))\n",
    "\n",
    "cv_result_2 = sklearn_simple_cross_validate(\n",
    "    selected_subjs.data,\n",
    "    np.array(selected_subjs_y_int),\n",
    "    estimators_with_fs[2],\n",
    "    groups=np.array(selected_subjs.X['subject']))"
   ]
  },
  {
   "cell_type": "code",
   "execution_count": 90,
   "metadata": {},
   "outputs": [
    {
     "data": {
      "text/plain": [
       "array([[329,  60],\n",
       "       [207,  38]])"
      ]
     },
     "execution_count": 90,
     "metadata": {},
     "output_type": "execute_result"
    }
   ],
   "source": [
    "confusion_matrix(cv_result_2['y_predict_final'],np.array(selected_subjs_y_int))"
   ]
  },
  {
   "cell_type": "markdown",
   "metadata": {},
   "source": [
    "Okay. Another way to get a feel for how good this is is to change the grouping indicator, to, say, perhaps just a shuffled subject group. \n",
    "That is 'cheating' in a way because we're learning within-subject, to a degree, but this might be useful for understanding the behavior of the algorithms I'm testing out."
   ]
  },
  {
   "cell_type": "code",
   "execution_count": 91,
   "metadata": {},
   "outputs": [],
   "source": [
    "import time\n",
    "\n",
    "\n",
    "timestamp=int(time.time())\n"
   ]
  },
  {
   "cell_type": "code",
   "execution_count": 94,
   "metadata": {},
   "outputs": [
    {
     "name": "stdout",
     "output_type": "stream",
     "text": [
      "generalization test group 0, estimating... estimated; predicting... \n",
      "generalization test group 1, estimating... estimated; predicting... \n",
      "generalization test group 2, estimating... estimated; predicting... \n",
      "cross-validated score is: 0.5025319829424307\n",
      "precision, recall, fscore, support:\n",
      "(array([0.84657534, 0.15613383]), array([0.57649254, 0.42857143]), array([0.68590455, 0.22888283]), array([536,  98]))\n",
      "raw (overfit) score is: 0.9152832774901006\n",
      "generalization test group 0, estimating... estimated; predicting... \n",
      "generalization test group 1, estimating... estimated; predicting... \n",
      "generalization test group 2, estimating... estimated; predicting... \n",
      "cross-validated score is: 0.5112701797136766\n",
      "precision, recall, fscore, support:\n",
      "(array([0.84955752, 0.16483516]), array([0.71641791, 0.30612245]), array([0.77732794, 0.21428571]), array([536,  98]))\n",
      "raw (overfit) score is: 0.8492803837953092\n"
     ]
    }
   ],
   "source": [
    "from sklearn.linear_model import RidgeClassifierCV\n",
    "\n",
    "#create a random seed based on the current timestamp\n",
    "\n",
    "#timestamp=int(time.time())\n",
    "np.random.seed(1672890861)\n",
    "#shuffle the groups randomly\n",
    "groups_shuffled = selected_subjs.X['subject'].sample(frac=1).values\n",
    "\n",
    "estimators = [\n",
    "    #LinearSVC(penalty='l2',max_iter=1e6,class_weight='balanced'),\n",
    "    LogisticRegression(penalty='l2',solver='liblinear',class_weight='balanced'),\n",
    "    RidgeClassifierCV(class_weight='balanced')\n",
    "\n",
    "]\n",
    "estimators_with_fs = []\n",
    "#now wrap the estimators in a pipeline that does feature selection\n",
    "for estimator in estimators:\n",
    "    estimator_with_fs = Pipeline([\n",
    "        ('clean',VarianceThreshold(threshold=0)),\n",
    "        ('select', SelectKBest(f_classif, k=200)),\n",
    "        ('estimator', estimator)])\n",
    "    estimators_with_fs.append(estimator_with_fs)\n",
    "\n",
    "# cv_result_0 = sklearn_simple_cross_validate(\n",
    "#     selected_subjs.data,\n",
    "#     np.array(selected_subjs_y_int),\n",
    "#     estimators_with_fs[1],\n",
    "#     groups=np.array(groups_shuffled))\n",
    "\n",
    "cv_result_1 = sklearn_simple_cross_validate(\n",
    "    selected_subjs.data,\n",
    "    np.array(selected_subjs_y_int),\n",
    "    estimators_with_fs[0],\n",
    "    groups=np.array(groups_shuffled))\n",
    "\n",
    "cv_result_2 = sklearn_simple_cross_validate(\n",
    "    selected_subjs.data,\n",
    "    np.array(selected_subjs_y_int),\n",
    "    estimators_with_fs[1],\n",
    "    groups=np.array(groups_shuffled))"
   ]
  },
  {
   "cell_type": "markdown",
   "metadata": {},
   "source": [
    "Really odd, and kind of worrying, to see that we can't classify better than chance even when we shuffle the groups."
   ]
  },
  {
   "cell_type": "markdown",
   "metadata": {},
   "source": [
    "### Do cross-validation"
   ]
  },
  {
   "cell_type": "markdown",
   "metadata": {},
   "source": [
    "That's kind of a bad sign? This suggests we can't even really learn within-subject. Whatever else, you'd think we could at least do that.\n",
    "\n",
    "If we can't learn within-subject, then I am _very_ sceptical that just throwing more subjects at this will get us better results.\n",
    "\n",
    "By the way, now that we've found a (practically perfect) classifier of the synthetic data, I do want to run it through the nested cross-validator to ensure that the nested cross-validator works."
   ]
  },
  {
   "cell_type": "code",
   "execution_count": 95,
   "metadata": {},
   "outputs": [
    {
     "name": "stdout",
     "output_type": "stream",
     "text": [
      "generalization test group 0\n",
      "439\n",
      "195\n",
      "hyper-parameter search group 0\n",
      "327\n",
      "112\n",
      "estimating...estimator 0; ROC AUC score: 0.6041666666666666\n",
      "estimating...estimator 1; ROC AUC score: 0.46875\n",
      "hyper-parameter search group 1\n",
      "327\n",
      "112\n",
      "estimating...estimator 0; ROC AUC score: 0.6458333333333334\n",
      "estimating...estimator 1; ROC AUC score: 0.5364583333333334\n",
      "hyper-parameter search group 2\n",
      "224\n",
      "215\n",
      "estimating...estimator 0; ROC AUC score: 0.5356579984239558\n",
      "estimating...estimator 1; ROC AUC score: 0.48532308904649335\n",
      "generalization test group 1\n",
      "414\n",
      "220\n",
      "hyper-parameter search group 0\n",
      "301\n",
      "113\n",
      "estimating...estimator 0; ROC AUC score: 0.4439338235294118\n",
      "estimating...estimator 1; ROC AUC score: 0.43566176470588236\n",
      "hyper-parameter search group 1\n",
      "302\n",
      "112\n",
      "estimating...estimator 0; ROC AUC score: 0.578125\n",
      "estimating...estimator 1; ROC AUC score: 0.5885416666666666\n",
      "hyper-parameter search group 2\n",
      "225\n",
      "189\n",
      "estimating...estimator 0; ROC AUC score: 0.4026565464895635\n",
      "estimating...estimator 1; ROC AUC score: 0.5453510436432637\n",
      "generalization test group 2\n",
      "415\n",
      "219\n",
      "hyper-parameter search group 0\n",
      "302\n",
      "113\n",
      "estimating...estimator 0; ROC AUC score: 0.47273284313725494\n",
      "estimating...estimator 1; ROC AUC score: 0.35723039215686275\n",
      "hyper-parameter search group 1\n",
      "303\n",
      "112\n",
      "estimating...estimator 0; ROC AUC score: 0.4322916666666667\n",
      "estimating...estimator 1; ROC AUC score: 0.40104166666666663\n",
      "hyper-parameter search group 2\n",
      "225\n",
      "190\n",
      "estimating...estimator 0; ROC AUC score: 0.544338456103162\n",
      "estimating...estimator 1; ROC AUC score: 0.5452216922805158\n",
      "estimator_i\n",
      "0    0.517748\n",
      "1    0.484842\n",
      "Name: score, dtype: Float64\n",
      "0\n",
      "generalization test group 0\n",
      "generalization test group 1\n",
      "generalization test group 2\n",
      "cross-validated score is: 0.5432911970758453\n",
      "precision, recall, fscore, support:\n",
      "(array([0.86627907, 0.17931034]), array([0.55597015, 0.53061224]), array([0.67727273, 0.26804124]), array([536,  98]))\n",
      "raw (overfit) score is: 0.9152832774901006\n"
     ]
    },
    {
     "data": {
      "text/plain": [
       "0.5432911970758453"
      ]
     },
     "execution_count": 95,
     "metadata": {},
     "output_type": "execute_result"
    }
   ],
   "source": [
    "from sklearn.feature_selection import VarianceThreshold\n",
    "from sklearn.svm import LinearSVC\n",
    "from sklearn.linear_model import LogisticRegression\n",
    "\n",
    "#I'll add the feature selection step for the estimators here for now,\n",
    "#but to save time we could add separate functions for preprocessing\n",
    "#advantage of doing it independently from estimators would be to avoid running feature selection twice.\n",
    "#disadvantage would be that we'd have to pass the feature\n",
    "\n",
    "from sklearn.pipeline import Pipeline\n",
    "from sklearn.feature_selection import SelectKBest, f_classif\n",
    "\n",
    "estimators = [\n",
    "    LogisticRegression(penalty='l2',solver='liblinear',class_weight='balanced'),\n",
    "    RidgeClassifierCV(class_weight='balanced')\n",
    "]\n",
    "estimators_with_fs = []\n",
    "#now wrap the estimators in a pipeline that does feature selection\n",
    "for estimator in estimators:\n",
    "    estimator_with_fs = Pipeline([\n",
    "        ('clean',VarianceThreshold(threshold=0)),\n",
    "        ('select', SelectKBest(f_classif, k=200)),\n",
    "        ('estimator', estimator)])\n",
    "    estimators_with_fs.append(estimator_with_fs)\n",
    "\n",
    "    \n",
    "#from dev_utils import sklearn_nested_cross_validate\n",
    "\n",
    "cv_result = sklearn_nested_cross_validate(\n",
    "    selected_subjs.data,\n",
    "    np.array(selected_subjs_y_int),\n",
    "    estimators_with_fs,\n",
    "    groups=np.array(selected_subjs.X['subject']))\n",
    "        \n",
    "   \n",
    "\n",
    "from sklearn.metrics import roc_auc_score\n",
    "\n",
    "\n",
    "pd.Series(cv_result['y_predict_final']).value_counts()\n",
    "roc_auc_score(selected_subjs_y_int,cv_result['y_predict_final'])"
   ]
  },
  {
   "cell_type": "code",
   "execution_count": null,
   "metadata": {},
   "outputs": [],
   "source": []
  },
  {
   "cell_type": "markdown",
   "metadata": {},
   "source": [
    "## Classifying _within_ subject\n",
    "\n",
    "Can we at least do a classification _within_ subject? If we can't do _that_, we're in trouble, maybe."
   ]
  },
  {
   "cell_type": "code",
   "execution_count": 128,
   "metadata": {},
   "outputs": [
    {
     "name": "stdout",
     "output_type": "stream",
     "text": [
      "DEV011\n",
      "generalization test group 0\n",
      "72\n",
      "36\n",
      "hyper-parameter search group 0\n",
      "50\n",
      "22\n",
      "estimating...estimator 0; ROC AUC score: 0.39473684210526316\n",
      "estimating...estimator 1; ROC AUC score: 0.5\n",
      "hyper-parameter search group 1\n",
      "50\n",
      "22\n",
      "estimating...estimator 0; ROC AUC score: 0.587719298245614\n",
      "estimating...estimator 1; ROC AUC score: 0.4473684210526316\n",
      "hyper-parameter search group 2\n",
      "44\n",
      "28\n",
      "estimating...estimator 0; ROC AUC score: 0.5833333333333334\n",
      "estimating...estimator 1; ROC AUC score: 0.375\n",
      "generalization test group 1\n",
      "72\n",
      "36\n",
      "hyper-parameter search group 0\n",
      "50\n",
      "22\n",
      "estimating...estimator 0; ROC AUC score: 0.7017543859649122\n",
      "estimating...estimator 1; ROC AUC score: 0.4736842105263158\n",
      "hyper-parameter search group 1\n",
      "50\n",
      "22\n",
      "estimating...estimator 0; ROC AUC score: 0.42105263157894735\n",
      "estimating...estimator 1; ROC AUC score: 0.6140350877192982\n",
      "hyper-parameter search group 2\n",
      "44\n",
      "28\n",
      "estimating...estimator 0; ROC AUC score: 0.5833333333333334\n",
      "estimating...estimator 1; ROC AUC score: 0.5833333333333333\n",
      "generalization test group 2\n",
      "72\n",
      "36\n",
      "hyper-parameter search group 0\n",
      "50\n",
      "22\n",
      "estimating...estimator 0; ROC AUC score: 0.5350877192982456\n",
      "estimating...estimator 1; ROC AUC score: 0.4736842105263158\n",
      "hyper-parameter search group 1\n",
      "50\n",
      "22\n",
      "estimating...estimator 0; ROC AUC score: 0.5614035087719298\n",
      "estimating...estimator 1; ROC AUC score: 0.587719298245614\n",
      "hyper-parameter search group 2\n",
      "44\n",
      "28\n",
      "estimating...estimator 0; ROC AUC score: 0.7916666666666667\n",
      "estimating...estimator 1; ROC AUC score: 0.5\n",
      "estimator_i\n",
      "0    0.573343\n",
      "1    0.506092\n",
      "Name: score, dtype: Float64\n",
      "0\n",
      "generalization test group 0\n",
      "generalization test group 1\n",
      "generalization test group 2\n",
      "cross-validated score is: 0.5161290322580645\n",
      "precision, recall, fscore, support:\n",
      "(array([0.86666667, 0.15151515]), array([0.69892473, 0.33333333]), array([0.77380952, 0.20833333]), array([93, 15]))\n",
      "raw (overfit) score is: 1.0\n",
      "0.0    75\n",
      "1.0    33\n",
      "dtype: int64\n",
      "0.5161290322580645\n",
      "DEV020\n",
      "generalization test group 0\n",
      "70\n",
      "42\n",
      "hyper-parameter search group 0\n",
      "42\n",
      "28\n",
      "estimating...estimator 0; ROC AUC score: 0.7916666666666666\n",
      "estimating...estimator 1; ROC AUC score: 0.3125\n",
      "hyper-parameter search group 1\n",
      "49\n",
      "21\n",
      "estimating...estimator 0; ROC AUC score: 0.5\n",
      "estimating...estimator 1; ROC AUC score: 0.4444444444444444\n",
      "hyper-parameter search group 2\n",
      "49\n",
      "21\n",
      "estimating...estimator 0; ROC AUC score: 0.7777777777777778\n",
      "estimating...estimator 1; ROC AUC score: 0.3888888888888889\n",
      "generalization test group 1\n",
      "77\n",
      "35\n",
      "hyper-parameter search group 0\n",
      "49\n",
      "28\n",
      "estimating...estimator 0; ROC AUC score: 0.6041666666666667\n",
      "estimating...estimator 1; ROC AUC score: 0.4166666666666667\n",
      "hyper-parameter search group 1\n",
      "49\n",
      "28\n",
      "estimating...estimator 0; ROC AUC score: 0.45833333333333337\n",
      "estimating...estimator 1; ROC AUC score: 0.5833333333333334\n",
      "hyper-parameter search group 2\n",
      "56\n",
      "21\n",
      "estimating...estimator 0; ROC AUC score: 0.5\n",
      "estimating...estimator 1; ROC AUC score: 0.5555555555555556\n",
      "generalization test group 2\n",
      "77\n",
      "35\n",
      "hyper-parameter search group 0\n",
      "49\n",
      "28\n",
      "estimating...estimator 0; ROC AUC score: 0.47916666666666663\n",
      "estimating...estimator 1; ROC AUC score: 0.4375\n",
      "hyper-parameter search group 1\n",
      "49\n",
      "28\n",
      "estimating...estimator 0; ROC AUC score: 0.5625\n",
      "estimating...estimator 1; ROC AUC score: 0.4791666666666667\n",
      "hyper-parameter search group 2\n",
      "56\n",
      "21\n",
      "estimating...estimator 0; ROC AUC score: 0.638888888888889\n",
      "estimating...estimator 1; ROC AUC score: 0.6666666666666666\n",
      "estimator_i\n",
      "0    0.590278\n",
      "1     0.47608\n",
      "Name: score, dtype: Float64\n",
      "0\n",
      "generalization test group 0\n",
      "generalization test group 1\n",
      "generalization test group 2\n",
      "cross-validated score is: 0.40625\n",
      "precision, recall, fscore, support:\n",
      "(array([0.80769231, 0.1       ]), array([0.4375, 0.375 ]), array([0.56756757, 0.15789474]), array([96, 16]))\n",
      "raw (overfit) score is: 1.0\n",
      "1.0    60\n",
      "0.0    52\n",
      "dtype: int64\n",
      "0.40625\n",
      "DEV047\n",
      "generalization test group 0\n",
      "73\n",
      "40\n",
      "hyper-parameter search group 0\n",
      "52\n",
      "21\n",
      "estimating...estimator 0; ROC AUC score: 0.4166666666666667\n",
      "estimating...estimator 1; ROC AUC score: 0.4722222222222222\n",
      "hyper-parameter search group 1\n",
      "47\n",
      "26\n",
      "estimating...estimator 0; ROC AUC score: 0.4431818181818182\n",
      "estimating...estimator 1; ROC AUC score: 0.5340909090909091\n",
      "hyper-parameter search group 2\n",
      "47\n",
      "26\n",
      "estimating...estimator 0; ROC AUC score: 0.38636363636363635\n",
      "estimating...estimator 1; ROC AUC score: 0.45454545454545453\n",
      "generalization test group 1\n",
      "79\n",
      "34\n",
      "hyper-parameter search group 0\n",
      "52\n",
      "27\n",
      "estimating...estimator 0; ROC AUC score: 0.391304347826087\n",
      "estimating...estimator 1; ROC AUC score: 0.5597826086956521\n",
      "hyper-parameter search group 1\n",
      "53\n",
      "26\n",
      "estimating...estimator 0; ROC AUC score: 0.5340909090909091\n",
      "estimating...estimator 1; ROC AUC score: 0.5113636363636364\n",
      "hyper-parameter search group 2\n",
      "53\n",
      "26\n",
      "estimating...estimator 0; ROC AUC score: 0.38636363636363635\n",
      "estimating...estimator 1; ROC AUC score: 0.3977272727272727\n",
      "generalization test group 2\n",
      "74\n",
      "39\n",
      "hyper-parameter search group 0\n",
      "47\n",
      "27\n",
      "estimating...estimator 0; ROC AUC score: 0.6793478260869565\n",
      "estimating...estimator 1; ROC AUC score: 0.6576086956521741\n",
      "hyper-parameter search group 1\n",
      "53\n",
      "21\n",
      "estimating...estimator 0; ROC AUC score: 0.3611111111111111\n",
      "estimating...estimator 1; ROC AUC score: 0.5277777777777778\n",
      "hyper-parameter search group 2\n",
      "48\n",
      "26\n",
      "estimating...estimator 0; ROC AUC score: 0.5340909090909091\n",
      "estimating...estimator 1; ROC AUC score: 0.5340909090909091\n",
      "estimator_i\n",
      "1    0.516579\n",
      "0    0.459169\n",
      "Name: score, dtype: Float64\n",
      "1\n",
      "generalization test group 0\n",
      "generalization test group 1\n",
      "generalization test group 2\n",
      "cross-validated score is: 0.4856004901960784\n",
      "precision, recall, fscore, support:\n",
      "(array([0.84415584, 0.13888889]), array([0.67708333, 0.29411765]), array([0.75144509, 0.18867925]), array([96, 17]))\n",
      "raw (overfit) score is: 1.0\n",
      "0.0    77\n",
      "1.0    36\n",
      "dtype: int64\n",
      "0.4856004901960784\n",
      "DEV063\n",
      "generalization test group 0\n",
      "71\n",
      "36\n",
      "hyper-parameter search group 0\n",
      "44\n",
      "27\n",
      "estimating...estimator 0; ROC AUC score: 0.37499999999999994\n",
      "estimating...estimator 1; ROC AUC score: 0.4583333333333333\n",
      "hyper-parameter search group 1\n",
      "45\n",
      "26\n",
      "estimating...estimator 0; ROC AUC score: 0.7173913043478262\n",
      "estimating...estimator 1; ROC AUC score: 0.644927536231884\n",
      "hyper-parameter search group 2\n",
      "53\n",
      "18\n",
      "estimating...estimator 0; ROC AUC score: 0.25\n",
      "estimating...estimator 1; ROC AUC score: 0.4375\n",
      "generalization test group 1\n",
      "71\n",
      "36\n",
      "hyper-parameter search group 0\n",
      "44\n",
      "27\n",
      "estimating...estimator 0; ROC AUC score: 0.5416666666666666\n",
      "estimating...estimator 1; ROC AUC score: 0.4791666666666667\n",
      "hyper-parameter search group 1\n",
      "45\n",
      "26\n",
      "estimating...estimator 0; ROC AUC score: 0.8043478260869565\n",
      "estimating...estimator 1; ROC AUC score: 0.4782608695652174\n",
      "hyper-parameter search group 2\n",
      "53\n",
      "18\n",
      "estimating...estimator 0; ROC AUC score: 0.21875\n",
      "estimating...estimator 1; ROC AUC score: 0.59375\n",
      "generalization test group 2\n",
      "72\n",
      "35\n",
      "hyper-parameter search group 0\n",
      "45\n",
      "27\n",
      "estimating...estimator 0; ROC AUC score: 0.43750000000000006\n",
      "estimating...estimator 1; ROC AUC score: 0.4583333333333333\n",
      "hyper-parameter search group 1\n",
      "45\n",
      "27\n",
      "estimating...estimator 0; ROC AUC score: 0.5625\n",
      "estimating...estimator 1; ROC AUC score: 0.6666666666666666\n",
      "hyper-parameter search group 2\n",
      "54\n",
      "18\n",
      "estimating...estimator 0; ROC AUC score: 0.46875\n",
      "estimating...estimator 1; ROC AUC score: 0.71875\n",
      "estimator_i\n",
      "1     0.54841\n",
      "0    0.486212\n",
      "Name: score, dtype: Float64\n",
      "1\n",
      "generalization test group 0\n",
      "generalization test group 1\n",
      "generalization test group 2\n",
      "cross-validated score is: 0.5254385964912281\n",
      "precision, recall, fscore, support:\n",
      "(array([0.89361702, 0.15384615]), array([0.88421053, 0.16666667]), array([0.88888889, 0.16      ]), array([95, 12]))\n",
      "raw (overfit) score is: 1.0\n",
      "0.0    94\n",
      "1.0    13\n",
      "dtype: int64\n",
      "0.5254385964912281\n",
      "DEV064\n",
      "generalization test group 0\n",
      "70\n",
      "42\n",
      "hyper-parameter search group 0\n",
      "42\n",
      "28\n",
      "estimating...estimator 0; ROC AUC score: 0.6041666666666667\n",
      "estimating...estimator 1; ROC AUC score: 0.5208333333333333\n",
      "hyper-parameter search group 1\n",
      "49\n",
      "21\n",
      "estimating...estimator 0; ROC AUC score: 0.33333333333333337\n",
      "estimating...estimator 1; ROC AUC score: 0.4722222222222222\n",
      "hyper-parameter search group 2\n",
      "49\n",
      "21\n",
      "estimating...estimator 0; ROC AUC score: 0.638888888888889\n",
      "estimating...estimator 1; ROC AUC score: 0.5\n",
      "generalization test group 1\n",
      "77\n",
      "35\n",
      "hyper-parameter search group 0\n",
      "49\n",
      "28\n",
      "estimating...estimator 0; ROC AUC score: 0.2916666666666667\n",
      "estimating...estimator 1; ROC AUC score: 0.4166666666666667\n",
      "hyper-parameter search group 1\n",
      "49\n",
      "28\n",
      "estimating...estimator 0; ROC AUC score: 0.4375\n",
      "estimating...estimator 1; ROC AUC score: 0.5625\n",
      "hyper-parameter search group 2\n",
      "56\n",
      "21\n",
      "estimating...estimator 0; ROC AUC score: 0.41666666666666663\n",
      "estimating...estimator 1; ROC AUC score: 0.5833333333333334\n",
      "generalization test group 2\n",
      "77\n",
      "35\n",
      "hyper-parameter search group 0\n",
      "49\n",
      "28\n",
      "estimating...estimator 0; ROC AUC score: 0.5416666666666666\n",
      "estimating...estimator 1; ROC AUC score: 0.7083333333333334\n",
      "hyper-parameter search group 1\n",
      "49\n",
      "28\n",
      "estimating...estimator 0; ROC AUC score: 0.7083333333333334\n",
      "estimating...estimator 1; ROC AUC score: 0.7083333333333334\n",
      "hyper-parameter search group 2\n",
      "56\n",
      "21\n",
      "estimating...estimator 0; ROC AUC score: 0.5833333333333334\n",
      "estimating...estimator 1; ROC AUC score: 0.6388888888888888\n",
      "estimator_i\n",
      "1    0.567901\n",
      "0    0.506173\n",
      "Name: score, dtype: Float64\n",
      "1\n",
      "generalization test group 0\n",
      "generalization test group 1\n",
      "generalization test group 2\n",
      "cross-validated score is: 0.5416666666666667\n",
      "precision, recall, fscore, support:\n",
      "(array([0.86956522, 0.2       ]), array([0.83333333, 0.25      ]), array([0.85106383, 0.22222222]), array([96, 16]))\n",
      "raw (overfit) score is: 1.0\n",
      "0.0    92\n",
      "1.0    20\n",
      "dtype: int64\n",
      "0.5416666666666667\n",
      "DEV067\n",
      "generalization test group 0\n",
      "55\n",
      "27\n",
      "hyper-parameter search group 0\n",
      "36\n",
      "19\n",
      "estimating...estimator 0; ROC AUC score: 0.5857142857142856\n",
      "estimating...estimator 1; ROC AUC score: 0.5642857142857143\n",
      "hyper-parameter search group 1\n",
      "37\n",
      "18\n",
      "estimating...estimator 0; ROC AUC score: 0.5076923076923077\n",
      "estimating...estimator 1; ROC AUC score: 0.3846153846153846\n",
      "hyper-parameter search group 2\n",
      "37\n",
      "18\n",
      "estimating...estimator 0; ROC AUC score: 0.6076923076923078\n",
      "estimating...estimator 1; ROC AUC score: 0.4307692307692308\n",
      "generalization test group 1\n",
      "53\n",
      "29\n",
      "hyper-parameter search group 0\n",
      "34\n",
      "19\n",
      "estimating...estimator 0; ROC AUC score: 0.48571428571428565\n",
      "estimating...estimator 1; ROC AUC score: 0.4285714285714286\n",
      "hyper-parameter search group 1\n",
      "37\n",
      "16\n",
      "estimating...estimator 0; ROC AUC score: 0.3333333333333333\n",
      "estimating...estimator 1; ROC AUC score: 0.5416666666666667\n",
      "hyper-parameter search group 2\n",
      "35\n",
      "18\n",
      "estimating...estimator 0; ROC AUC score: 0.7461538461538462\n",
      "estimating...estimator 1; ROC AUC score: 0.4230769230769231\n",
      "generalization test group 2\n",
      "56\n",
      "26\n",
      "hyper-parameter search group 0\n",
      "37\n",
      "19\n",
      "estimating...estimator 0; ROC AUC score: 0.25\n",
      "estimating...estimator 1; ROC AUC score: 0.5642857142857143\n",
      "hyper-parameter search group 1\n",
      "37\n",
      "19\n",
      "estimating...estimator 0; ROC AUC score: 0.5214285714285714\n",
      "estimating...estimator 1; ROC AUC score: 0.4928571428571428\n",
      "hyper-parameter search group 2\n",
      "38\n",
      "18\n",
      "estimating...estimator 0; ROC AUC score: 0.45384615384615384\n",
      "estimating...estimator 1; ROC AUC score: 0.523076923076923\n",
      "estimator_i\n",
      "0    0.499064\n",
      "1    0.483689\n",
      "Name: score, dtype: Float64\n",
      "0\n",
      "generalization test group 0\n",
      "generalization test group 1\n",
      "generalization test group 2\n",
      "cross-validated score is: 0.5416666666666666\n",
      "precision, recall, fscore, support:\n",
      "(array([0.76086957, 0.30555556]), array([0.58333333, 0.5       ]), array([0.66037736, 0.37931034]), array([60, 22]))\n",
      "raw (overfit) score is: 1.0\n",
      "0.0    46\n",
      "1.0    36\n",
      "dtype: int64\n",
      "0.5416666666666666\n"
     ]
    }
   ],
   "source": [
    "\n",
    "\n",
    "estimators = [\n",
    "    LogisticRegression(penalty='l2',solver='liblinear',class_weight='balanced'),\n",
    "    RidgeClassifierCV(class_weight='balanced')\n",
    "]\n",
    "estimators_with_fs = []\n",
    "#now wrap the estimators in a pipeline that does feature selection\n",
    "for estimator in estimators:\n",
    "    estimator_with_fs = Pipeline([\n",
    "        ('clean',VarianceThreshold(threshold=0)),\n",
    "        ('select', SelectKBest(f_classif, k=200)),\n",
    "        ('estimator', estimator)])\n",
    "    estimators_with_fs.append(estimator_with_fs)\n",
    "\n",
    "    \n",
    "#from dev_utils import sklearn_nested_cross_validate\n",
    "\n",
    "for subj in np.unique(selected_subjs.X['subject']):\n",
    "    #do classification one subject at a time.\n",
    "    this_subj_samples = selected_subjs.X['subject']==subj\n",
    "    print(subj)\n",
    "\n",
    "    #create some pseudogroups, ensuring that each group has some of each outcome type\n",
    "    this_subj_y = selected_subjs_y_int[this_subj_samples]\n",
    "    group_size = this_subj_y.value_counts().min()\n",
    "    #now assign every item in each sample to a number between 1 and group_size\n",
    "    #cumulatively number each item type in the sample\n",
    "    pseudo_groups = this_subj_y.groupby(this_subj_y).cumcount() % group_size + 1\n",
    "    \n",
    "\n",
    "    cv_result = sklearn_nested_cross_validate(\n",
    "        selected_subjs[this_subj_samples].data,\n",
    "        np.array(this_subj_y),\n",
    "        estimators_with_fs,\n",
    "        groups=np.array(pseudo_groups))\n",
    "\n",
    "    print(pd.Series(cv_result['y_predict_final']).value_counts())\n",
    "    print(roc_auc_score(this_subj_y,cv_result['y_predict_final']))"
   ]
  },
  {
   "cell_type": "markdown",
   "metadata": {},
   "source": [
    "## Other attempts at feature selection"
   ]
  },
  {
   "cell_type": "markdown",
   "metadata": {},
   "source": [
    "OK, this should make us really sceptical there is good data here. The fact that the overfit score is high shows that on some shallow level, the classification is working--it just isn't picking up signal. It might be worth adding a PCA I suppose."
   ]
  },
  {
   "cell_type": "code",
   "execution_count": 16,
   "metadata": {},
   "outputs": [
    {
     "data": {
      "text/plain": [
       "156.25"
      ]
     },
     "execution_count": 16,
     "metadata": {},
     "output_type": "execute_result"
    }
   ],
   "source": [
    "40000/256"
   ]
  },
  {
   "cell_type": "code",
   "execution_count": 17,
   "metadata": {},
   "outputs": [
    {
     "name": "stdout",
     "output_type": "stream",
     "text": [
      "317\n",
      "158\n",
      "79\n",
      "39\n",
      "19\n",
      "generalization test group 0\n",
      "439\n",
      "195\n",
      "hyper-parameter search group 0\n",
      "327\n",
      "112\n",
      "estimating...estimator 0; ROC AUC score: 0.4791666666666666\n",
      "estimating...estimator 1; ROC AUC score: 0.4322916666666667\n",
      "estimating...estimator 2; ROC AUC score: 0.4479166666666667\n",
      "estimating...estimator 3; ROC AUC score: 0.5104166666666666\n",
      "estimating..."
     ]
    },
    {
     "name": "stderr",
     "output_type": "stream",
     "text": [
      "/Users/benjaminsmith/opt/anaconda3/envs/neuralsignature/lib/python3.10/site-packages/sklearn/svm/_base.py:1206: ConvergenceWarning: Liblinear failed to converge, increase the number of iterations.\n",
      "  warnings.warn(\n"
     ]
    },
    {
     "name": "stdout",
     "output_type": "stream",
     "text": [
      "estimator 4; ROC AUC score: 0.5364583333333333\n",
      "estimating...estimator 5; ROC AUC score: 0.5\n",
      "estimating...estimator 6; ROC AUC score: 0.4947916666666667\n",
      "estimating...estimator 7; ROC AUC score: 0.4895833333333333\n",
      "estimating...estimator 8; ROC AUC score: 0.5\n",
      "estimating...estimator 9; ROC AUC score: 0.4947916666666667\n",
      "estimating...estimator 10; ROC AUC score: 0.4947916666666667\n",
      "estimating...estimator 11; ROC AUC score: 0.5\n",
      "estimating...estimator 12; ROC AUC score: 0.546875\n",
      "estimating...estimator 13; ROC AUC score: 0.5364583333333334\n",
      "estimating...estimator 14; ROC AUC score: 0.4947916666666667\n",
      "hyper-parameter search group 1\n",
      "327\n",
      "112\n",
      "estimating...estimator 0; ROC AUC score: 0.515625\n",
      "estimating...estimator 1; ROC AUC score: 0.53125\n",
      "estimating...estimator 2; ROC AUC score: 0.53125\n",
      "estimating..."
     ]
    }
   ],
   "source": [
    "\n",
    "\n",
    "estimators = [\n",
    "    LogisticRegression(penalty='l1',solver='liblinear',class_weight='balanced'),\n",
    "    LogisticRegression(penalty='l2',solver='liblinear',class_weight='balanced'),\n",
    "    RidgeClassifierCV(class_weight='balanced')\n",
    "]\n",
    "estimators_with_fs = []\n",
    "#now wrap the estimators in a pipeline that does feature selection\n",
    "for decomp_prop in [2,4,8,16,32]:#[4,16,64,256]:\n",
    "    #decomp_components = (int)(selected_subjs.data.shape[1]/decomp_prop)\n",
    "    decomp_components = (int)(min(selected_subjs.data.shape)/decomp_prop)\n",
    "    print(str(decomp_components) + ' components')\n",
    "    for estimator in estimators:\n",
    "        estimator_with_fs = Pipeline([\n",
    "            ('clean',VarianceThreshold(threshold=0)),\n",
    "            ('decompose', decomposition.PCA(n_components=decomp_components)),\n",
    "            #('select', SelectKBest(f_classif, k=150)),\n",
    "            ('estimator', estimator)])\n",
    "        estimators_with_fs.append(estimator_with_fs)\n",
    "\n",
    "    \n",
    "#from dev_utils import sklearn_nested_cross_validate\n",
    "\n",
    "cv_result = sklearn_nested_cross_validate(\n",
    "    selected_subjs.data,\n",
    "    np.array(selected_subjs_y_int),\n",
    "    estimators_with_fs,\n",
    "    groups=np.array(selected_subjs.X['subject']))\n",
    "        \n",
    "   \n",
    "\n",
    "from sklearn.metrics import roc_auc_score\n",
    "\n",
    "\n",
    "pd.Series(cv_result['y_predict_final']).value_counts()\n",
    "roc_auc_score(selected_subjs_y_int,cv_result['y_predict_final'])"
   ]
  },
  {
   "cell_type": "code",
   "execution_count": null,
   "metadata": {},
   "outputs": [],
   "source": []
  }
 ],
 "metadata": {
  "kernelspec": {
   "display_name": "neuralsignature",
   "language": "python",
   "name": "python3"
  },
  "language_info": {
   "codemirror_mode": {
    "name": "ipython",
    "version": 3
   },
   "file_extension": ".py",
   "mimetype": "text/x-python",
   "name": "python",
   "nbconvert_exporter": "python",
   "pygments_lexer": "ipython3",
   "version": "3.10.4"
  },
  "vscode": {
   "interpreter": {
    "hash": "0cca8238de402a161b34e58e1e3b4d299a0bf48c5783c9dc7c173d82c36576a7"
   }
  }
 },
 "nbformat": 4,
 "nbformat_minor": 2
}
