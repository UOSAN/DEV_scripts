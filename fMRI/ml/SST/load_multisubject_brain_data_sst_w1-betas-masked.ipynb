{
 "cells": [
  {
   "cell_type": "code",
   "execution_count": 1,
   "id": "african-praise",
   "metadata": {},
   "outputs": [],
   "source": [
    "import sys\n",
    "import os\n",
    "import pandas as pd\n",
    "\n",
    "sys.path.append(os.path.abspath(\"../../ml/\"))\n",
    "\n",
    "from dev_wtp_io_utils import *"
   ]
  },
  {
   "cell_type": "code",
   "execution_count": 2,
   "id": "general-expansion",
   "metadata": {},
   "outputs": [
    {
     "name": "stdout",
     "output_type": "stream",
     "text": [
      "python initialized for apply_loocv_and_save\n",
      "cpus available; cpus to use:\n",
      "10 9\n",
      "10\n"
     ]
    }
   ],
   "source": [
    "# nonbids_data_path = \"/gpfs/projects/sanlab/shared/DEV/nonbids_data/\"\n",
    "# ml_data_folderpath = \"/gpfs/projects/sanlab/shared/DEV/nonbids_data/fMRI/ml\"\n",
    "\n",
    "sys.path.append(os.path.abspath(\"../../ml/\"))\n",
    "from apply_loocv_and_save import load_and_preprocess\n",
    "from dev_utils import read_yaml_for_host\n",
    "import warnings\n",
    "\n",
    "\n",
    "config_data = read_yaml_for_host(\"sst_config.yml\")\n",
    "\n"
   ]
  },
  {
   "cell_type": "code",
   "execution_count": 3,
   "id": "7f6a6981",
   "metadata": {},
   "outputs": [],
   "source": [
    "nonbids_data_path = config_data['nonbids_data_path']\n",
    "ml_data_folderpath = nonbids_data_path + \"fMRI/ml\"\n"
   ]
  },
  {
   "cell_type": "code",
   "execution_count": 4,
   "id": "charming-iraqi",
   "metadata": {},
   "outputs": [],
   "source": [
    "#test_train_df_raw = pd.read_csv(nonbids_data_path + \"fMRI/ml/train_test_markers_20210601T183243.csv\")\n",
    "#test_train_df_raw = pd.read_csv(nonbids_data_path + \"fMRI/ml/train_test_markers_20211027T173724.csv\")\n",
    "test_train_df_raw = pd.read_csv(nonbids_data_path + \"fMRI/ml/train_test_markers_20220818T144138.csv\")"
   ]
  },
  {
   "cell_type": "code",
   "execution_count": 5,
   "id": "hispanic-cover",
   "metadata": {},
   "outputs": [],
   "source": [
    "include_exclude_list = pd.read_csv(\"../nsc_subject_exclusions.csv\")"
   ]
  },
  {
   "cell_type": "code",
   "execution_count": 6,
   "id": "preliminary-prompt",
   "metadata": {},
   "outputs": [],
   "source": [
    "test_train_df_raw = test_train_df_raw.merge(include_exclude_list[include_exclude_list.Task=='SST'],left_on='sub_label',right_on='SubjectId',how='left')\n",
    "test_train_df_raw.loc[test_train_df_raw.Include.isna(),'Include'] = True\n",
    "test_train_df = test_train_df_raw[test_train_df_raw.Include==True]"
   ]
  },
  {
   "cell_type": "code",
   "execution_count": 7,
   "id": "restricted-discipline",
   "metadata": {},
   "outputs": [],
   "source": [
    "exclude_subjects = ['DEV061','DEV185','DEV187','DEV189','DEV190','DEV192','DEV198','DEV203','DEV220','DEV221']\n",
    "#2022-01-06 added DEV157 because of an error"
   ]
  },
  {
   "cell_type": "code",
   "execution_count": 8,
   "id": "adjusted-midnight",
   "metadata": {},
   "outputs": [],
   "source": [
    "train_subjs = test_train_df.loc[test_train_df.SplitGroup=='Train','sub_label'].tolist()#only get the train subjects; ignore those previously marked hold-out"
   ]
  },
  {
   "cell_type": "code",
   "execution_count": 9,
   "id": "resistant-charter",
   "metadata": {},
   "outputs": [],
   "source": [
    "def get_Brain_Data_for_sub(sub_label,behavdesign,betaseries_path='/gpfs/projects/sanlab/shared/DEV/nonbids_data/fMRI/fx/models/SST/wave1/betaseries/'):\n",
    "    return(dev_wtp_io_utils.get_Brain_Data_betas_for_sub(sub_label,behavdesign,betaseries_path))"
   ]
  },
  {
   "cell_type": "code",
   "execution_count": 10,
   "id": "vulnerable-approval",
   "metadata": {},
   "outputs": [],
   "source": [
    "from dev_wtp_io_utils import import_sst_betaseries_w1_subjs_to_pkl"
   ]
  },
  {
   "cell_type": "code",
   "execution_count": 11,
   "id": "contemporary-lloyd",
   "metadata": {},
   "outputs": [],
   "source": [
    "all_sst_events= pd.read_csv(ml_data_folderpath +\"/SST/\" + \"all_sst_events.csv\")\n",
    "#cut out other waves\n",
    "sst_1_behavdesign_1 = all_sst_events[(all_sst_events.wave=='wave1')].reset_index(drop=True)\n",
    "#label the ITI as such\n",
    "sst_1_behavdesign_1.loc[(all_sst_events.trial_type.isna()),'trial_type']='ITI'\n",
    "#ensure it is correctly ordered\n",
    "sst_1_behavdesign_clean = sst_1_behavdesign_1.sort_values(['subject','onset']).reset_index(drop=True)\n",
    "#now tell it the name of the corresponding beta. this is easy; they are all consecutive\n",
    "sst_1_behavdesign_clean['beta'] = 'beta_' + (sst_1_behavdesign_clean.groupby(['subject','wave']).cumcount()+1).astype(str).apply(lambda x: x.zfill(4)) + '.nii'"
   ]
  },
  {
   "cell_type": "code",
   "execution_count": 12,
   "id": "adequate-encyclopedia",
   "metadata": {},
   "outputs": [],
   "source": [
    "#I want to import this other module; we don't actually use it but it's a good reference\n",
    "#for future programmers to see\n",
    "#it's important we keep the logic consistent for the two main conditions\n",
    "sys.path.append(os.path.abspath(\"../../fx/multiconds/SST/\"))\n",
    "from multiconds import create_posterror_masks_from_masks\n",
    "\n",
    "#sst_1_behavdesign_clean['prev_trial_type'] = sst_1_behavdesign_clean['trial_type']\n",
    "sst_1_behavdesign_clean['prev_trial_type'] = (\n",
    "    sst_1_behavdesign_clean\n",
    "    .loc[sst_1_behavdesign_clean['trial_type']!='ITI']\n",
    "    .groupby(['subject','wave'])\n",
    "    .shift(1)\n",
    "    ['trial_type']\n",
    ")#this works because during assignment, items will be assigned to the line corresponding to their index\n",
    "#very important you don't reset index during this operation.\n",
    "is_post_stop_correct_go = (\n",
    "    (sst_1_behavdesign_clean['trial_type']=='correct-go') & \n",
    "    (sst_1_behavdesign_clean['prev_trial_type'].isin(['failed-stop','correct-stop']))\n",
    ")\n",
    "\n",
    "sst_1_behavdesign_clean.loc[is_post_stop_correct_go,'post_stop_correct_go_subtype'] = 'Other'\n",
    "sst_1_behavdesign_clean.loc[is_post_stop_correct_go & (sst_1_behavdesign_clean['prev_trial_type']=='failed-stop'),'post_stop_correct_go_subtype'] = 'post-error'\n",
    "sst_1_behavdesign_clean.loc[is_post_stop_correct_go & (sst_1_behavdesign_clean['prev_trial_type']=='correct-stop'),'post_stop_correct_go_subtype'] = 'post-correct'\n"
   ]
  },
  {
   "cell_type": "code",
   "execution_count": 13,
   "id": "executive-chuck",
   "metadata": {},
   "outputs": [
    {
     "data": {
      "text/html": [
       "<div>\n",
       "<style scoped>\n",
       "    .dataframe tbody tr th:only-of-type {\n",
       "        vertical-align: middle;\n",
       "    }\n",
       "\n",
       "    .dataframe tbody tr th {\n",
       "        vertical-align: top;\n",
       "    }\n",
       "\n",
       "    .dataframe thead th {\n",
       "        text-align: right;\n",
       "    }\n",
       "</style>\n",
       "<table border=\"1\" class=\"dataframe\">\n",
       "  <thead>\n",
       "    <tr style=\"text-align: right;\">\n",
       "      <th></th>\n",
       "      <th>trial_type</th>\n",
       "      <th>post_stop_correct_go_subtype</th>\n",
       "      <th>0</th>\n",
       "    </tr>\n",
       "  </thead>\n",
       "  <tbody>\n",
       "    <tr>\n",
       "      <th>0</th>\n",
       "      <td>correct-go</td>\n",
       "      <td>post-correct</td>\n",
       "      <td>1879</td>\n",
       "    </tr>\n",
       "    <tr>\n",
       "      <th>1</th>\n",
       "      <td>correct-go</td>\n",
       "      <td>post-error</td>\n",
       "      <td>2145</td>\n",
       "    </tr>\n",
       "  </tbody>\n",
       "</table>\n",
       "</div>"
      ],
      "text/plain": [
       "   trial_type post_stop_correct_go_subtype     0\n",
       "0  correct-go                 post-correct  1879\n",
       "1  correct-go                   post-error  2145"
      ]
     },
     "execution_count": 13,
     "metadata": {},
     "output_type": "execute_result"
    }
   ],
   "source": [
    "sst_1_behavdesign_clean.groupby(['trial_type','post_stop_correct_go_subtype']).size().reset_index()"
   ]
  },
  {
   "cell_type": "code",
   "execution_count": 14,
   "id": "introductory-captain",
   "metadata": {},
   "outputs": [
    {
     "data": {
      "text/plain": [
       "ITI             26112\n",
       "correct-go      18750\n",
       "failed-stop      3434\n",
       "correct-stop     3094\n",
       "failed-go         834\n",
       "Name: trial_type, dtype: int64"
      ]
     },
     "execution_count": 14,
     "metadata": {},
     "output_type": "execute_result"
    }
   ],
   "source": [
    "sst_1_behavdesign_clean['trial_type'].value_counts()"
   ]
  },
  {
   "cell_type": "code",
   "execution_count": 15,
   "id": "falling-stationery",
   "metadata": {},
   "outputs": [],
   "source": [
    "behavdesign = sst_1_behavdesign_clean\n",
    "sst_1_behavdesign_clean_dev005 = behavdesign[[s in 'DEV005' for s in behavdesign.subject]]"
   ]
  },
  {
   "cell_type": "markdown",
   "id": "personal-latvia",
   "metadata": {},
   "source": [
    "## Just subjects in the conditions of interest: CorrectStop vs. CorrectGo"
   ]
  },
  {
   "cell_type": "code",
   "execution_count": 16,
   "id": "indian-blood",
   "metadata": {},
   "outputs": [
    {
     "data": {
      "text/plain": [
       "ITI             26112\n",
       "correct-go      18750\n",
       "failed-stop      3434\n",
       "correct-stop     3094\n",
       "failed-go         834\n",
       "Name: trial_type, dtype: int64"
      ]
     },
     "execution_count": 16,
     "metadata": {},
     "output_type": "execute_result"
    }
   ],
   "source": [
    "sst_1_behavdesign_clean.trial_type.value_counts()"
   ]
  },
  {
   "cell_type": "code",
   "execution_count": 17,
   "id": "simplified-leonard",
   "metadata": {},
   "outputs": [],
   "source": [
    "sst_1_behavdesign_correct_conditions=sst_1_behavdesign_clean[sst_1_behavdesign_clean.trial_type.isin(['correct-go','correct-stop'])]"
   ]
  },
  {
   "cell_type": "code",
   "execution_count": 18,
   "id": "smooth-electric",
   "metadata": {},
   "outputs": [
    {
     "data": {
      "text/plain": [
       "correct-go      18750\n",
       "correct-stop     3094\n",
       "Name: trial_type, dtype: int64"
      ]
     },
     "execution_count": 18,
     "metadata": {},
     "output_type": "execute_result"
    }
   ],
   "source": [
    "sst_1_behavdesign_correct_conditions.trial_type.value_counts()"
   ]
  },
  {
   "cell_type": "code",
   "execution_count": 19,
   "id": "touched-knock",
   "metadata": {},
   "outputs": [],
   "source": [
    "#we have data missing fro mthese subjects below. not enstirely sure yet; see \n",
    "#https://docs.google.com/document/d/1EB0ACA6qhMkDEgv-zqNTepPCe_x41fRQHaeqT47vazM/edit#heading=h.60rb13rlxkrq\n",
    "\n",
    "\n",
    "train_subjs_selected = [ts for ts in train_subjs if (ts not in exclude_subjects)]"
   ]
  },
  {
   "cell_type": "code",
   "execution_count": 20,
   "id": "scientific-portfolio",
   "metadata": {},
   "outputs": [
    {
     "data": {
      "text/html": [
       "<div>\n",
       "<style scoped>\n",
       "    .dataframe tbody tr th:only-of-type {\n",
       "        vertical-align: middle;\n",
       "    }\n",
       "\n",
       "    .dataframe tbody tr th {\n",
       "        vertical-align: top;\n",
       "    }\n",
       "\n",
       "    .dataframe thead th {\n",
       "        text-align: right;\n",
       "    }\n",
       "</style>\n",
       "<table border=\"1\" class=\"dataframe\">\n",
       "  <thead>\n",
       "    <tr style=\"text-align: right;\">\n",
       "      <th></th>\n",
       "      <th>onset</th>\n",
       "      <th>duration</th>\n",
       "      <th>trial_type</th>\n",
       "      <th>subject</th>\n",
       "      <th>wave</th>\n",
       "      <th>beta</th>\n",
       "      <th>prev_trial_type</th>\n",
       "      <th>post_stop_correct_go_subtype</th>\n",
       "    </tr>\n",
       "  </thead>\n",
       "  <tbody>\n",
       "    <tr>\n",
       "      <th>37376</th>\n",
       "      <td>0.00000</td>\n",
       "      <td>0.87197</td>\n",
       "      <td>correct-go</td>\n",
       "      <td>DEV157</td>\n",
       "      <td>wave1</td>\n",
       "      <td>beta_0001.nii</td>\n",
       "      <td>NaN</td>\n",
       "      <td>NaN</td>\n",
       "    </tr>\n",
       "    <tr>\n",
       "      <th>37380</th>\n",
       "      <td>6.38890</td>\n",
       "      <td>0.08329</td>\n",
       "      <td>correct-go</td>\n",
       "      <td>DEV157</td>\n",
       "      <td>wave1</td>\n",
       "      <td>beta_0005.nii</td>\n",
       "      <td>failed-stop</td>\n",
       "      <td>post-error</td>\n",
       "    </tr>\n",
       "    <tr>\n",
       "      <th>37384</th>\n",
       "      <td>15.65280</td>\n",
       "      <td>0.59839</td>\n",
       "      <td>correct-go</td>\n",
       "      <td>DEV157</td>\n",
       "      <td>wave1</td>\n",
       "      <td>beta_0009.nii</td>\n",
       "      <td>failed-stop</td>\n",
       "      <td>post-error</td>\n",
       "    </tr>\n",
       "    <tr>\n",
       "      <th>37386</th>\n",
       "      <td>20.53475</td>\n",
       "      <td>0.46574</td>\n",
       "      <td>correct-go</td>\n",
       "      <td>DEV157</td>\n",
       "      <td>wave1</td>\n",
       "      <td>beta_0011.nii</td>\n",
       "      <td>correct-go</td>\n",
       "      <td>NaN</td>\n",
       "    </tr>\n",
       "    <tr>\n",
       "      <th>37388</th>\n",
       "      <td>23.35212</td>\n",
       "      <td>0.34208</td>\n",
       "      <td>correct-go</td>\n",
       "      <td>DEV157</td>\n",
       "      <td>wave1</td>\n",
       "      <td>beta_0013.nii</td>\n",
       "      <td>correct-go</td>\n",
       "      <td>NaN</td>\n",
       "    </tr>\n",
       "    <tr>\n",
       "      <th>...</th>\n",
       "      <td>...</td>\n",
       "      <td>...</td>\n",
       "      <td>...</td>\n",
       "      <td>...</td>\n",
       "      <td>...</td>\n",
       "      <td>...</td>\n",
       "      <td>...</td>\n",
       "      <td>...</td>\n",
       "    </tr>\n",
       "    <tr>\n",
       "      <th>37618</th>\n",
       "      <td>400.61111</td>\n",
       "      <td>0.43916</td>\n",
       "      <td>correct-go</td>\n",
       "      <td>DEV157</td>\n",
       "      <td>wave1</td>\n",
       "      <td>beta_0243.nii</td>\n",
       "      <td>correct-go</td>\n",
       "      <td>NaN</td>\n",
       "    </tr>\n",
       "    <tr>\n",
       "      <th>37620</th>\n",
       "      <td>404.11667</td>\n",
       "      <td>0.72024</td>\n",
       "      <td>correct-go</td>\n",
       "      <td>DEV157</td>\n",
       "      <td>wave1</td>\n",
       "      <td>beta_0245.nii</td>\n",
       "      <td>correct-go</td>\n",
       "      <td>NaN</td>\n",
       "    </tr>\n",
       "    <tr>\n",
       "      <th>37622</th>\n",
       "      <td>407.24723</td>\n",
       "      <td>0.43989</td>\n",
       "      <td>correct-go</td>\n",
       "      <td>DEV157</td>\n",
       "      <td>wave1</td>\n",
       "      <td>beta_0247.nii</td>\n",
       "      <td>correct-go</td>\n",
       "      <td>NaN</td>\n",
       "    </tr>\n",
       "    <tr>\n",
       "      <th>37626</th>\n",
       "      <td>412.44516</td>\n",
       "      <td>0.00170</td>\n",
       "      <td>correct-go</td>\n",
       "      <td>DEV157</td>\n",
       "      <td>wave1</td>\n",
       "      <td>beta_0251.nii</td>\n",
       "      <td>failed-stop</td>\n",
       "      <td>post-error</td>\n",
       "    </tr>\n",
       "    <tr>\n",
       "      <th>37630</th>\n",
       "      <td>421.21182</td>\n",
       "      <td>0.54806</td>\n",
       "      <td>correct-go</td>\n",
       "      <td>DEV157</td>\n",
       "      <td>wave1</td>\n",
       "      <td>beta_0255.nii</td>\n",
       "      <td>failed-stop</td>\n",
       "      <td>post-error</td>\n",
       "    </tr>\n",
       "  </tbody>\n",
       "</table>\n",
       "<p>105 rows × 8 columns</p>\n",
       "</div>"
      ],
      "text/plain": [
       "           onset  duration  trial_type subject   wave           beta  \\\n",
       "37376    0.00000   0.87197  correct-go  DEV157  wave1  beta_0001.nii   \n",
       "37380    6.38890   0.08329  correct-go  DEV157  wave1  beta_0005.nii   \n",
       "37384   15.65280   0.59839  correct-go  DEV157  wave1  beta_0009.nii   \n",
       "37386   20.53475   0.46574  correct-go  DEV157  wave1  beta_0011.nii   \n",
       "37388   23.35212   0.34208  correct-go  DEV157  wave1  beta_0013.nii   \n",
       "...          ...       ...         ...     ...    ...            ...   \n",
       "37618  400.61111   0.43916  correct-go  DEV157  wave1  beta_0243.nii   \n",
       "37620  404.11667   0.72024  correct-go  DEV157  wave1  beta_0245.nii   \n",
       "37622  407.24723   0.43989  correct-go  DEV157  wave1  beta_0247.nii   \n",
       "37626  412.44516   0.00170  correct-go  DEV157  wave1  beta_0251.nii   \n",
       "37630  421.21182   0.54806  correct-go  DEV157  wave1  beta_0255.nii   \n",
       "\n",
       "      prev_trial_type post_stop_correct_go_subtype  \n",
       "37376             NaN                          NaN  \n",
       "37380     failed-stop                   post-error  \n",
       "37384     failed-stop                   post-error  \n",
       "37386      correct-go                          NaN  \n",
       "37388      correct-go                          NaN  \n",
       "...               ...                          ...  \n",
       "37618      correct-go                          NaN  \n",
       "37620      correct-go                          NaN  \n",
       "37622      correct-go                          NaN  \n",
       "37626     failed-stop                   post-error  \n",
       "37630     failed-stop                   post-error  \n",
       "\n",
       "[105 rows x 8 columns]"
      ]
     },
     "execution_count": 20,
     "metadata": {},
     "output_type": "execute_result"
    }
   ],
   "source": [
    "sst_1_behavdesign_correct_conditions[sst_1_behavdesign_correct_conditions.subject=='DEV157']"
   ]
  },
  {
   "cell_type": "markdown",
   "id": "completed-progress",
   "metadata": {},
   "source": [
    "### Now mask those subjects"
   ]
  },
  {
   "cell_type": "code",
   "execution_count": 21,
   "id": "f3575031",
   "metadata": {},
   "outputs": [],
   "source": [
    "# get the PFC mask\n",
    "mask_pfc = nib.load(ml_data_folderpath + '/prefrontal_cortex.nii.gz')"
   ]
  },
  {
   "cell_type": "code",
   "execution_count": 27,
   "id": "unsigned-greene",
   "metadata": {},
   "outputs": [
    {
     "name": "stdout",
     "output_type": "stream",
     "text": [
      "running\n",
      "really\n",
      "/Users/benjaminsmith/Google Drive/oregon/data/DEV/nonbids_data/fMRI/fx/models/SST/wave1/betaseries/\n",
      "DEV005\n",
      "........................................................................................verified that all expected betas exist! Processing...retrieving a mask from the first image in the series beta_0001.nii\n",
      "During mask creation, received error 'Resampling binary images with continuous or linear interpolation.'. This is normal.\n",
      "temp mask created.\n",
      "loading files. This step may take some time...\n",
      "converting to nifti and fdata\n",
      "         onset  duration    trial_type subject   wave           beta  \\\n",
      "256    0.00000   2.25834  correct-stop  DEV005  wave1  beta_0001.nii   \n",
      "258    2.75834   0.40082    correct-go  DEV005  wave1  beta_0003.nii   \n",
      "260    5.51390   0.66191    correct-go  DEV005  wave1  beta_0005.nii   \n",
      "264   12.52780   0.51712    correct-go  DEV005  wave1  beta_0009.nii   \n",
      "266   15.90975   0.39906    correct-go  DEV005  wave1  beta_0011.nii   \n",
      "..         ...       ...           ...     ...    ...            ...   \n",
      "498  398.86111   0.49379    correct-go  DEV005  wave1  beta_0243.nii   \n",
      "502  403.99723   0.47630    correct-go  DEV005  wave1  beta_0247.nii   \n",
      "504  407.31460   0.48262    correct-go  DEV005  wave1  beta_0249.nii   \n",
      "506  410.82016   0.40118    correct-go  DEV005  wave1  beta_0251.nii   \n",
      "508  414.57572   0.49767    correct-go  DEV005  wave1  beta_0253.nii   \n",
      "\n",
      "    prev_trial_type post_stop_correct_go_subtype  \n",
      "256             NaN                          NaN  \n",
      "258    correct-stop                 post-correct  \n",
      "260      correct-go                          NaN  \n",
      "264       failed-go                          NaN  \n",
      "266      correct-go                          NaN  \n",
      "..              ...                          ...  \n",
      "498       failed-go                          NaN  \n",
      "502     failed-stop                   post-error  \n",
      "504      correct-go                          NaN  \n",
      "506      correct-go                          NaN  \n",
      "508      correct-go                          NaN  \n",
      "\n",
      "[85 rows x 8 columns]\n",
      "...imported data.\n",
      "DEV006\n",
      ".................................................................................................................verified that all expected betas exist! Processing...retrieving a mask from the first image in the series beta_0009.nii\n",
      "During mask creation, received error 'Resampling binary images with continuous or linear interpolation.'. This is normal.\n",
      "temp mask created.\n",
      "loading files. This step may take some time...\n",
      "converting to nifti and fdata\n",
      "         onset  duration    trial_type subject   wave           beta  \\\n",
      "520   15.65280   0.83414    correct-go  DEV006  wave1  beta_0009.nii   \n",
      "524   23.35212   0.44596    correct-go  DEV006  wave1  beta_0013.nii   \n",
      "526   25.98407   0.54291    correct-go  DEV006  wave1  beta_0015.nii   \n",
      "528   28.92644   0.58249    correct-go  DEV006  wave1  beta_0017.nii   \n",
      "530   31.43061   0.34380    correct-go  DEV006  wave1  beta_0019.nii   \n",
      "..         ...       ...           ...     ...    ...            ...   \n",
      "758  407.24723   0.66796    correct-go  DEV006  wave1  beta_0247.nii   \n",
      "760  409.68960   2.00556  correct-stop  DEV006  wave1  beta_0249.nii   \n",
      "762  412.44516   0.61129    correct-go  DEV006  wave1  beta_0251.nii   \n",
      "764  416.20072   2.51110  correct-stop  DEV006  wave1  beta_0253.nii   \n",
      "766  421.21182   0.66960    correct-go  DEV006  wave1  beta_0255.nii   \n",
      "\n",
      "    prev_trial_type post_stop_correct_go_subtype  \n",
      "520     failed-stop                   post-error  \n",
      "524       failed-go                          NaN  \n",
      "526      correct-go                          NaN  \n",
      "528      correct-go                          NaN  \n",
      "530      correct-go                          NaN  \n",
      "..              ...                          ...  \n",
      "758      correct-go                          NaN  \n",
      "760      correct-go                          NaN  \n",
      "762    correct-stop                 post-correct  \n",
      "764      correct-go                          NaN  \n",
      "766    correct-stop                 post-correct  \n",
      "\n",
      "[110 rows x 8 columns]\n",
      "...imported data.\n",
      "1\n",
      "/Users/benjaminsmith/Google Drive/oregon/data/DEV/nonbids_data/fMRI/ml/SST/Brain_Data_betaseries_2subs_correct_cond.pkl\n"
     ]
    },
    {
     "name": "stderr",
     "output_type": "stream",
     "text": [
      "/Users/benjaminsmith/opt/anaconda3/envs/neuralsignature/lib/python3.10/site-packages/nltools/data/brain_data.py:887: FutureWarning: The frame.append method is deprecated and will be removed from pandas in a future version. Use pandas.concat instead.\n",
      "  out.X = self.X.append(data.X, **kwargs)\n"
     ]
    }
   ],
   "source": [
    "print (\"running\")\n",
    "print('really')\n",
    "import_sst_betaseries_w1_subjs_to_pkl(\n",
    "    train_subjs[0:2],'betaseries',\n",
    "    behavioral_design=sst_1_behavdesign_correct_conditions,\n",
    "    out_folder = ml_data_folderpath + \"/SST/\",\n",
    "    mask = mask_pfc,\n",
    "    out_file_suffix = '_correct_cond',\n",
    "    sst_wt_repo = nonbids_data_path + \"fMRI/fx/models/SST/wave1/\")"
   ]
  }
 ],
 "metadata": {
  "kernelspec": {
   "display_name": "neuralsignature",
   "language": "python",
   "name": "python3"
  },
  "language_info": {
   "codemirror_mode": {
    "name": "ipython",
    "version": 3
   },
   "file_extension": ".py",
   "mimetype": "text/x-python",
   "name": "python",
   "nbconvert_exporter": "python",
   "pygments_lexer": "ipython3",
   "version": "3.10.4"
  },
  "vscode": {
   "interpreter": {
    "hash": "0cca8238de402a161b34e58e1e3b4d299a0bf48c5783c9dc7c173d82c36576a7"
   }
  }
 },
 "nbformat": 4,
 "nbformat_minor": 5
}
