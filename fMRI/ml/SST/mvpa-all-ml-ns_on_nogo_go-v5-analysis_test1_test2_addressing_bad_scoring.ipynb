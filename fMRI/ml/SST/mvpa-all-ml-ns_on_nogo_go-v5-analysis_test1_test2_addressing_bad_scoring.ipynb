{
 "cells": [
  {
   "cell_type": "code",
   "execution_count": 1,
   "id": "smooth-click",
   "metadata": {},
   "outputs": [],
   "source": [
    "import pandas as pd\n",
    "import numpy as np\n",
    "import scipy.io\n",
    "import re\n",
    "import sys\n",
    "import warnings\n",
    "import pickle"
   ]
  },
  {
   "cell_type": "code",
   "execution_count": 2,
   "id": "statistical-algebra",
   "metadata": {},
   "outputs": [
    {
     "name": "stderr",
     "output_type": "stream",
     "text": [
      "/tmp/ipykernel_25391/659417397.py:2: DeprecationWarning: Importing display from IPython.core.display is deprecated since IPython 7.14, please import from IPython display\n",
      "  from IPython.core.display import display, HTML, Markdown\n"
     ]
    }
   ],
   "source": [
    "import pickle\n",
    "from IPython.core.display import display, HTML, Markdown"
   ]
  },
  {
   "cell_type": "code",
   "execution_count": 3,
   "id": "fixed-signal",
   "metadata": {},
   "outputs": [
    {
     "name": "stderr",
     "output_type": "stream",
     "text": [
      "Failed to import duecredit due to No module named 'duecredit'\n",
      "/home/bsmith16/.conda/envs/py3_mvpa/lib/python3.8/site-packages/mvpa2/datasets/base.py:465: DeprecationWarning: `np.float` is a deprecated alias for the builtin `float`. To silence this warning, use `float` by itself. Doing this will not modify any behavior and is safe. If you specifically wanted the numpy scalar type, use `np.float64` here.\n",
      "Deprecated in NumPy 1.20; for more details and guidance: https://numpy.org/devdocs/release/1.20.0-notes.html#deprecations\n",
      "  def __init__(self, shape=None, sid=None, fid=None, dtype=np.float):\n"
     ]
    }
   ],
   "source": [
    "from mvpa2.datasets.mri import fmri_dataset"
   ]
  },
  {
   "cell_type": "code",
   "execution_count": 4,
   "id": "cordless-stamp",
   "metadata": {},
   "outputs": [],
   "source": [
    "class BehavioralDataNotFoundForBrainDataException(Exception):\n",
    "    \"\"\"Behavioral data could not be matched to a subject.\"\"\"\n",
    "    pass"
   ]
  },
  {
   "cell_type": "code",
   "execution_count": 5,
   "id": "peripheral-career",
   "metadata": {},
   "outputs": [],
   "source": [
    "from nilearn.masking import unmask"
   ]
  },
  {
   "cell_type": "markdown",
   "id": "requested-british",
   "metadata": {},
   "source": [
    "Replicating earlier work on mvpa. Try not to overly complicate it--the main point is just to verify we get similar results on a different package to validate prior work. ANd we are primarily interested in validating the very high cross-validation results I got with nltools. Should aim for readable code.\n",
    "\n",
    "\n",
    "Version 5 uses scikit-learn directly, bypassing mvpa2's framework altogether. We also implement a 'forced choice' scorer."
   ]
  },
  {
   "cell_type": "code",
   "execution_count": 6,
   "id": "generic-north",
   "metadata": {},
   "outputs": [
    {
     "name": "stderr",
     "output_type": "stream",
     "text": [
      "/gpfs/projects/sanlab/shared/DEV/DEV_scripts/fMRI/ml/SST/visualization.py:7: DeprecationWarning: Importing display from IPython.core.display is deprecated since IPython 7.14, please import from IPython display\n",
      "  from IPython.core.display import display, HTML, Markdown\n"
     ]
    }
   ],
   "source": [
    "from visualization import visualize_corr\n",
    "import mvpa2"
   ]
  },
  {
   "cell_type": "code",
   "execution_count": 7,
   "id": "surrounded-telescope",
   "metadata": {},
   "outputs": [],
   "source": [
    "import sys\n",
    "import os\n",
    "\n",
    "sys.path.append(os.path.abspath(\"../../ml/\"))\n"
   ]
  },
  {
   "cell_type": "markdown",
   "id": "intimate-lighting",
   "metadata": {},
   "source": [
    "## Load"
   ]
  },
  {
   "cell_type": "code",
   "execution_count": 8,
   "id": "latest-rainbow",
   "metadata": {},
   "outputs": [],
   "source": [
    "\n",
    "\n",
    "nonbids_data_path = \"/gpfs/projects/sanlab/shared/DEV/nonbids_data/\"\n",
    "ml_data_folderpath = \"/gpfs/projects/sanlab/shared/DEV/nonbids_data/fMRI/ml\""
   ]
  },
  {
   "cell_type": "code",
   "execution_count": 9,
   "id": "intimate-pharmacy",
   "metadata": {},
   "outputs": [],
   "source": [
    "include_exclude_list = pd.read_csv(\"../nsc_subject_exclusions.csv\")"
   ]
  },
  {
   "cell_type": "code",
   "execution_count": 10,
   "id": "level-filling",
   "metadata": {},
   "outputs": [],
   "source": [
    "test_train_df_raw = pd.read_csv(nonbids_data_path + \"fMRI/ml/train_test_markers_20211027T173724.csv\")\n",
    "test_train_df_raw = test_train_df_raw.merge(include_exclude_list[include_exclude_list.Task=='SST'],left_on='sub_label',right_on='SubjectId',how='left')\n",
    "test_train_df_raw.loc[test_train_df_raw.Include.isna(),'Include'] = True\n",
    "test_train_df = test_train_df_raw[test_train_df_raw.Include==True]\n",
    "exclude_subjects = ['DEV061','DEV185','DEV187','DEV189','DEV190','DEV192','DEV198','DEV203','DEV220','DEV221']\n",
    "train_subjs = test_train_df.loc[test_train_df.SplitGroup=='Train','sub_label'].tolist()#only get the train subjects; ignore those previously marked hold-out"
   ]
  },
  {
   "cell_type": "code",
   "execution_count": 11,
   "id": "caroline-representative",
   "metadata": {},
   "outputs": [],
   "source": [
    "train_subjs_selected = [ts for ts in train_subjs if (ts not in exclude_subjects)]"
   ]
  },
  {
   "cell_type": "code",
   "execution_count": 12,
   "id": "continued-correction",
   "metadata": {},
   "outputs": [],
   "source": [
    "individual_differences = pd.read_csv(ml_data_folderpath + \"/data_by_ppt_2022_02_26.csv\")\n",
    "individual_differences = individual_differences.rename(columns={'SID':'subject'})\n",
    "individual_differences['wave']=1"
   ]
  },
  {
   "cell_type": "markdown",
   "id": "olympic-explosion",
   "metadata": {},
   "source": [
    "We probably actually want to start the pipeline from the betas rather than loading from pickle. to be continued..."
   ]
  },
  {
   "cell_type": "code",
   "execution_count": 13,
   "id": "african-cooking",
   "metadata": {},
   "outputs": [],
   "source": [
    "from mvpa_pipeline_utils import get_Brain_Data_betas_as_mvpa_for_sub, import_beta_series_pymvpa2, sa_to_df"
   ]
  },
  {
   "cell_type": "markdown",
   "id": "affiliated-screw",
   "metadata": {},
   "source": [
    "## new code"
   ]
  },
  {
   "cell_type": "code",
   "execution_count": 14,
   "id": "rocky-absorption",
   "metadata": {},
   "outputs": [
    {
     "name": "stderr",
     "output_type": "stream",
     "text": [
      "/gpfs/projects/sanlab/shared/DEV/DEV_scripts/fMRI/ml/SST/mvpa_sst_utils.py:10: DeprecationWarning: Importing display from IPython.core.display is deprecated since IPython 7.14, please import from IPython display\n",
      "  from IPython.core.display import display, HTML, Markdown\n",
      "/gpfs/projects/sanlab/shared/DEV/DEV_scripts/fMRI/ml/SST/outlier_detection.py:7: DeprecationWarning: Importing display from IPython.core.display is deprecated since IPython 7.14, please import from IPython display\n",
      "  from IPython.core.display import display, HTML, Markdown\n"
     ]
    }
   ],
   "source": [
    "from mvpa_sst_utils import *"
   ]
  },
  {
   "cell_type": "code",
   "execution_count": 15,
   "id": "weekly-general",
   "metadata": {},
   "outputs": [],
   "source": [
    "from sklearn.model_selection import LeaveOneGroupOut"
   ]
  },
  {
   "cell_type": "code",
   "execution_count": 16,
   "id": "retained-operations",
   "metadata": {},
   "outputs": [],
   "source": [
    "def remove_selected_outliers_mvpa_tesq_study(\n",
    "    ind_div_combined,\n",
    "    show_plot=False,\n",
    "    neural_measures = ['CorGo_ln_inv_pred_prob_CorrectGo','CorStop_ln_inv_pred_prob_CorrectStop']):\n",
    "    idc_outliers_removed = remove_selected_outliers(ind_div_combined,\n",
    "    ['BFI_extraversion','RMQ_locomotion','ses_aggregate','PLAN_cognitive_strategies',\n",
    "     'SST_SSRT','BIS_11','BSCS','TESQ_E_suppression', 'TESQ_E_avoidance_of_temptations', \n",
    "     'TESQ_E_goal_deliberation', 'TESQ_E_controlling_temptations', 'TESQ_E_distraction',\n",
    "     'TESQ_E_goal_and_rule_setting','TESQ_E_sum','EDM','RS','TRSQ','ROC_Crave_Regulate_Minus_Look',\n",
    "     'SRHI_unhealthy','cancer_promoting_minus_preventing_FFQ','bf_1'] + neural_measures,\n",
    "    show_plot=show_plot)\n",
    "    return(idc_outliers_removed)"
   ]
  },
  {
   "cell_type": "code",
   "execution_count": 17,
   "id": "governing-intermediate",
   "metadata": {},
   "outputs": [],
   "source": [
    "from outlier_detection import *"
   ]
  },
  {
   "cell_type": "code",
   "execution_count": 18,
   "id": "hispanic-mozambique",
   "metadata": {},
   "outputs": [],
   "source": [
    "from sklearn.svm import SVC\n",
    "#from mvpa2.measures.base import CrossValidation\n",
    "#from mvpa2.clfs.meta import NFoldPartitioner\n",
    "#from mvpa2.clfs.svm import LinearCSVMC\n",
    "from sklearn.calibration import CalibratedClassifierCV\n"
   ]
  },
  {
   "cell_type": "code",
   "execution_count": 19,
   "id": "metallic-bowling",
   "metadata": {},
   "outputs": [],
   "source": [
    "from sklearn.model_selection import LeaveOneGroupOut"
   ]
  },
  {
   "cell_type": "code",
   "execution_count": 20,
   "id": "isolated-grass",
   "metadata": {},
   "outputs": [],
   "source": [
    "from generic_utils import *"
   ]
  },
  {
   "cell_type": "markdown",
   "id": "unlimited-audio",
   "metadata": {},
   "source": [
    "## whole brain"
   ]
  },
  {
   "cell_type": "markdown",
   "id": "relevant-pocket",
   "metadata": {},
   "source": [
    "Now let's scale that up to the full dataset."
   ]
  },
  {
   "cell_type": "markdown",
   "id": "controlled-gender",
   "metadata": {},
   "source": [
    "## masks"
   ]
  },
  {
   "cell_type": "markdown",
   "id": "congressional-cosmetic",
   "metadata": {},
   "source": [
    "We get the same file this time, but we apply a mask before doing learning."
   ]
  },
  {
   "cell_type": "code",
   "execution_count": 21,
   "id": "fabulous-freedom",
   "metadata": {},
   "outputs": [],
   "source": [
    "## additional masks\n",
    "\n",
    "all_masks = get_all_masks(ml_data_folderpath)"
   ]
  },
  {
   "cell_type": "code",
   "execution_count": 22,
   "id": "chicken-nation",
   "metadata": {},
   "outputs": [
    {
     "name": "stdout",
     "output_type": "stream",
     "text": [
      "planning_association-test_z_FDR_0.01, executive function_association-test_z_FDR_0.01, response inhibition_association-test_z_FDR_0.01, inhibition_association-test_z_FDR_0.01, error_association-test_z_FDR_0.01, harvardoxford-cortical_prob_Frontal Orbital Cortex, harvardoxford-cortical_prob_Inferior Frontal Gyrus, pars opercularis, harvardoxford-cortical_prob_Inferior Frontal Gyrus, pars triangularis, "
     ]
    }
   ],
   "source": [
    "for mask_name in all_masks['mask_name']:\n",
    "#    mask_value = all_masks[mask_name]\n",
    "    print(mask_name,end=\", \")"
   ]
  },
  {
   "cell_type": "markdown",
   "id": "prescription-object",
   "metadata": {},
   "source": [
    "Next to do:\n",
    "1. Consider re-implementing LinearSVM and getting similarity rather than this probability measure\n",
    "2. Visualize for all the other values."
   ]
  },
  {
   "cell_type": "markdown",
   "id": "respiratory-seafood",
   "metadata": {},
   "source": [
    "Now we've decoupled the learner from the framework where we apply it, we can pass in any arbitrary learner. It just has to output:\n",
    "\n",
    "1. predictions \n",
    "2. prediction confidence \n",
    "3. the classifier itself"
   ]
  },
  {
   "cell_type": "markdown",
   "id": "smoking-jones",
   "metadata": {},
   "source": [
    "### Re-implementing v3\n",
    "\n",
    "This is a useful sanity check, becuase it's helpufl to try and explain why we're doing so much  better than rpeviously."
   ]
  },
  {
   "cell_type": "code",
   "execution_count": 23,
   "id": "velvet-turkey",
   "metadata": {},
   "outputs": [],
   "source": [
    "brain_data_filepath = (\n",
    "    \"/gpfs/projects/sanlab/shared/DEV/nonbids_data/fMRI/ml/SST/mvpa_Dataset_conditions_84subs_correct_cond.pkl\"\n",
    ")\n",
    "\n",
    "with open(brain_data_filepath, 'rb') as pkl_file:\n",
    "    Brain_Data_allsubs = pickle.load(pkl_file)\n",
    "\n",
    "Brain_Data_allsubs = setup_metadata(Brain_Data_allsubs)\n"
   ]
  },
  {
   "cell_type": "code",
   "execution_count": 24,
   "id": "ecological-essay",
   "metadata": {},
   "outputs": [
    {
     "name": "stdout",
     "output_type": "stream",
     "text": [
      "................................................................................."
     ]
    }
   ],
   "source": [
    "linear_results_with_similarity = do_forced_choice(\n",
    "    Brain_Data_allsubs,\n",
    "    get_predict_and_prob=do_LinearSVC)"
   ]
  },
  {
   "cell_type": "code",
   "execution_count": 26,
   "id": "basic-restaurant",
   "metadata": {},
   "outputs": [],
   "source": [
    "LinearSVC_correlation_wholebrain = linear_results_with_similarity"
   ]
  },
  {
   "cell_type": "code",
   "execution_count": 27,
   "id": "acknowledged-death",
   "metadata": {},
   "outputs": [],
   "source": [
    "forced_choice_results = linear_results_with_similarity"
   ]
  },
  {
   "cell_type": "code",
   "execution_count": 28,
   "id": "capital-institute",
   "metadata": {},
   "outputs": [],
   "source": [
    "prediction = np.mean(forced_choice_results['sample_wise']['target_y']==forced_choice_results['sample_wise']['pred_y'])\n",
    "forced_choice_prediction = np.mean(forced_choice_results['sample_wise']['target_y']==forced_choice_results['sample_wise']['pred_y_forced_choice'])"
   ]
  },
  {
   "cell_type": "code",
   "execution_count": 29,
   "id": "communist-hobby",
   "metadata": {},
   "outputs": [
    {
     "data": {
      "text/html": [
       "<div>\n",
       "<style scoped>\n",
       "    .dataframe tbody tr th:only-of-type {\n",
       "        vertical-align: middle;\n",
       "    }\n",
       "\n",
       "    .dataframe tbody tr th {\n",
       "        vertical-align: top;\n",
       "    }\n",
       "\n",
       "    .dataframe thead th {\n",
       "        text-align: right;\n",
       "    }\n",
       "</style>\n",
       "<table border=\"1\" class=\"dataframe\">\n",
       "  <thead>\n",
       "    <tr style=\"text-align: right;\">\n",
       "      <th></th>\n",
       "      <th>chunks</th>\n",
       "      <th>target_y</th>\n",
       "      <th>pred_y</th>\n",
       "      <th>pred_y_forced_choice</th>\n",
       "      <th>pred_prob_CorrectGo</th>\n",
       "      <th>pred_prob_CorrectStop</th>\n",
       "    </tr>\n",
       "  </thead>\n",
       "  <tbody>\n",
       "    <tr>\n",
       "      <th>0</th>\n",
       "      <td>DEV005_1</td>\n",
       "      <td>CorrectGo</td>\n",
       "      <td>CorrectGo</td>\n",
       "      <td>CorrectStop</td>\n",
       "      <td>0.050014</td>\n",
       "      <td>-0.050014</td>\n",
       "    </tr>\n",
       "    <tr>\n",
       "      <th>1</th>\n",
       "      <td>DEV005_1</td>\n",
       "      <td>CorrectStop</td>\n",
       "      <td>CorrectGo</td>\n",
       "      <td>CorrectGo</td>\n",
       "      <td>0.071863</td>\n",
       "      <td>-0.071863</td>\n",
       "    </tr>\n",
       "    <tr>\n",
       "      <th>0</th>\n",
       "      <td>DEV006_1</td>\n",
       "      <td>CorrectGo</td>\n",
       "      <td>CorrectGo</td>\n",
       "      <td>CorrectGo</td>\n",
       "      <td>0.097374</td>\n",
       "      <td>-0.097374</td>\n",
       "    </tr>\n",
       "    <tr>\n",
       "      <th>1</th>\n",
       "      <td>DEV006_1</td>\n",
       "      <td>CorrectStop</td>\n",
       "      <td>CorrectGo</td>\n",
       "      <td>CorrectStop</td>\n",
       "      <td>-0.002773</td>\n",
       "      <td>0.002773</td>\n",
       "    </tr>\n",
       "    <tr>\n",
       "      <th>0</th>\n",
       "      <td>DEV010_1</td>\n",
       "      <td>CorrectGo</td>\n",
       "      <td>CorrectGo</td>\n",
       "      <td>CorrectGo</td>\n",
       "      <td>0.036757</td>\n",
       "      <td>-0.036757</td>\n",
       "    </tr>\n",
       "    <tr>\n",
       "      <th>...</th>\n",
       "      <td>...</td>\n",
       "      <td>...</td>\n",
       "      <td>...</td>\n",
       "      <td>...</td>\n",
       "      <td>...</td>\n",
       "      <td>...</td>\n",
       "    </tr>\n",
       "    <tr>\n",
       "      <th>1</th>\n",
       "      <td>DEV216_1</td>\n",
       "      <td>CorrectStop</td>\n",
       "      <td>CorrectStop</td>\n",
       "      <td>CorrectStop</td>\n",
       "      <td>-0.161358</td>\n",
       "      <td>0.161358</td>\n",
       "    </tr>\n",
       "    <tr>\n",
       "      <th>0</th>\n",
       "      <td>DEV217_1</td>\n",
       "      <td>CorrectGo</td>\n",
       "      <td>CorrectGo</td>\n",
       "      <td>CorrectGo</td>\n",
       "      <td>0.055084</td>\n",
       "      <td>-0.055084</td>\n",
       "    </tr>\n",
       "    <tr>\n",
       "      <th>1</th>\n",
       "      <td>DEV217_1</td>\n",
       "      <td>CorrectStop</td>\n",
       "      <td>CorrectStop</td>\n",
       "      <td>CorrectStop</td>\n",
       "      <td>-0.002729</td>\n",
       "      <td>0.002729</td>\n",
       "    </tr>\n",
       "    <tr>\n",
       "      <th>0</th>\n",
       "      <td>DEV218_1</td>\n",
       "      <td>CorrectGo</td>\n",
       "      <td>CorrectGo</td>\n",
       "      <td>CorrectGo</td>\n",
       "      <td>0.030549</td>\n",
       "      <td>-0.030549</td>\n",
       "    </tr>\n",
       "    <tr>\n",
       "      <th>1</th>\n",
       "      <td>DEV218_1</td>\n",
       "      <td>CorrectStop</td>\n",
       "      <td>CorrectStop</td>\n",
       "      <td>CorrectStop</td>\n",
       "      <td>-0.032046</td>\n",
       "      <td>0.032046</td>\n",
       "    </tr>\n",
       "  </tbody>\n",
       "</table>\n",
       "<p>162 rows × 6 columns</p>\n",
       "</div>"
      ],
      "text/plain": [
       "      chunks     target_y       pred_y pred_y_forced_choice  \\\n",
       "0   DEV005_1    CorrectGo    CorrectGo          CorrectStop   \n",
       "1   DEV005_1  CorrectStop    CorrectGo            CorrectGo   \n",
       "0   DEV006_1    CorrectGo    CorrectGo            CorrectGo   \n",
       "1   DEV006_1  CorrectStop    CorrectGo          CorrectStop   \n",
       "0   DEV010_1    CorrectGo    CorrectGo            CorrectGo   \n",
       "..       ...          ...          ...                  ...   \n",
       "1   DEV216_1  CorrectStop  CorrectStop          CorrectStop   \n",
       "0   DEV217_1    CorrectGo    CorrectGo            CorrectGo   \n",
       "1   DEV217_1  CorrectStop  CorrectStop          CorrectStop   \n",
       "0   DEV218_1    CorrectGo    CorrectGo            CorrectGo   \n",
       "1   DEV218_1  CorrectStop  CorrectStop          CorrectStop   \n",
       "\n",
       "    pred_prob_CorrectGo  pred_prob_CorrectStop  \n",
       "0              0.050014              -0.050014  \n",
       "1              0.071863              -0.071863  \n",
       "0              0.097374              -0.097374  \n",
       "1             -0.002773               0.002773  \n",
       "0              0.036757              -0.036757  \n",
       "..                  ...                    ...  \n",
       "1             -0.161358               0.161358  \n",
       "0              0.055084              -0.055084  \n",
       "1             -0.002729               0.002729  \n",
       "0              0.030549              -0.030549  \n",
       "1             -0.032046               0.032046  \n",
       "\n",
       "[162 rows x 6 columns]"
      ]
     },
     "execution_count": 29,
     "metadata": {},
     "output_type": "execute_result"
    }
   ],
   "source": [
    "forced_choice_results['sample_wise']"
   ]
  },
  {
   "cell_type": "code",
   "execution_count": 30,
   "id": "described-female",
   "metadata": {},
   "outputs": [
    {
     "data": {
      "text/plain": [
       "(0.7962962962962963, 0.9876543209876543)"
      ]
     },
     "execution_count": 30,
     "metadata": {},
     "output_type": "execute_result"
    }
   ],
   "source": [
    "(prediction, forced_choice_prediction)"
   ]
  },
  {
   "cell_type": "markdown",
   "id": "distinguished-uganda",
   "metadata": {},
   "source": [
    "Because this uses similarity, it doesn't make sense to talk about mean absolute error; we're not calculating a percent probability here. We could do some other figure derived from summing the similarity across the CS and CG items, then working out a proportion, but that would not be comparable to the mean absolute error reported below."
   ]
  },
  {
   "cell_type": "markdown",
   "id": "patent-registration",
   "metadata": {},
   "source": [
    "An alternative is to use SVM as below, but use the linear kernel instead of the default, rbf."
   ]
  },
  {
   "cell_type": "code",
   "execution_count": 31,
   "id": "several-daniel",
   "metadata": {},
   "outputs": [],
   "source": [
    "\n",
    "\n",
    "def do_LinearSVC_proba(train_X,train_y,test_X,test_y):\n",
    "    sklearn_clf = SVC(kernel='linear',probability=True)\n",
    "\n",
    "    #create the classifier with a probability function\n",
    "    #https://mmuratarat.github.io/2019-10-12/probabilistic-output-of-svm#:~:text=SVMs%20don't%20output%20probabilities,the%20output%20to%20class%20probabilities.&text=For%20many%20problems%2C%20it%20is,of%20certainty%20about%20the%20answer.\n",
    "    #we don't need this I'm doing my own probability estimate\n",
    "    #hmmm, is this why the model is performing so well? the tuning?\n",
    "    #sklearn_clf = CalibratedClassifierCV(clf_svc)\n",
    "    #train\n",
    "    sklearn_clf.fit(train_X, train_y)\n",
    "\n",
    "    #get the _probability_ we fall into each class\n",
    "    predict_y_prob = sklearn_clf.predict_proba(test_X)\n",
    "    predict_y = sklearn_clf.predict(test_X)\n",
    "    return(predict_y,predict_y_prob,sklearn_clf)\n"
   ]
  },
  {
   "cell_type": "markdown",
   "id": "combined-colorado",
   "metadata": {},
   "source": [
    "The bigger differnce bwteen these methods (apart from the different kernel) is that one has use a pearson's correlation of each image with the mask, and that's what we are using to get the `pred_y_forced_choice`. It's methodologically questionable, so, considering it clashes with below, we probably shouldn't proceed with it. We might want to try a linear kernel with a real probability prediction, as below, to see what that gets us."
   ]
  },
  {
   "cell_type": "code",
   "execution_count": 32,
   "id": "reverse-technology",
   "metadata": {},
   "outputs": [
    {
     "name": "stdout",
     "output_type": "stream",
     "text": [
      "................................................................................."
     ]
    }
   ],
   "source": [
    "brain_data_filepath = (\n",
    "    \"/gpfs/projects/sanlab/shared/DEV/nonbids_data/fMRI/ml/SST/mvpa_Dataset_conditions_84subs_correct_cond.pkl\"\n",
    ")\n",
    "\n",
    "with open(brain_data_filepath, 'rb') as pkl_file:\n",
    "    Brain_Data_allsubs = pickle.load(pkl_file)\n",
    "\n",
    "Brain_Data_allsubs = setup_metadata(Brain_Data_allsubs)\n",
    "\n",
    "linear_results_with_similarity = do_forced_choice(\n",
    "    Brain_Data_allsubs,\n",
    "    get_predict_and_prob=do_LinearSVC_proba)\n",
    "\n",
    "LinearSVC_correlation_wholebrain = linear_results_with_similarity\n",
    "forced_choice_results = linear_results_with_similarity\n",
    "prediction = np.mean(forced_choice_results['sample_wise']['target_y']==forced_choice_results['sample_wise']['pred_y'])\n",
    "forced_choice_prediction = np.mean(forced_choice_results['sample_wise']['target_y']==forced_choice_results['sample_wise']['pred_y_forced_choice'])"
   ]
  },
  {
   "cell_type": "code",
   "execution_count": 33,
   "id": "adjacent-basis",
   "metadata": {},
   "outputs": [],
   "source": [
    "forced_choice_results['sample_wise']['error']=None"
   ]
  },
  {
   "cell_type": "code",
   "execution_count": 34,
   "id": "creative-chinese",
   "metadata": {},
   "outputs": [],
   "source": [
    "pred_prob_CG = forced_choice_results['sample_wise'].pred_prob_CorrectGo\n",
    "target_is_CG = forced_choice_results['sample_wise'].target_y==\"CorrectGo\"\n",
    "error = np.abs(target_is_CG-pred_prob_CG) #calculate absolute error\n",
    "forced_choice_results['sample_wise']['error'] = error\n",
    "mean_absolute_error = error.mean()"
   ]
  },
  {
   "cell_type": "code",
   "execution_count": 35,
   "id": "genuine-calgary",
   "metadata": {},
   "outputs": [
    {
     "data": {
      "text/plain": [
       "(0.8271604938271605, 0.9876543209876543, 0.25608929144250314)"
      ]
     },
     "execution_count": 35,
     "metadata": {},
     "output_type": "execute_result"
    }
   ],
   "source": [
    "(prediction, forced_choice_prediction, mean_absolute_error)"
   ]
  },
  {
   "cell_type": "markdown",
   "id": "motivated-castle",
   "metadata": {},
   "source": [
    "When this finishes, we can decide whether we still think the mean_absolute_error is performing (a) OK and (b) different from that below. Then we can proceed with waht we want to do with this analysis.\n",
    "\n",
    "At the risk of 'overfitting' to this dataset, I think I'll proceed with this kernel and see how we go with the rest of the data. But in the meantime, we might try one or two more kernels."
   ]
  },
  {
   "cell_type": "code",
   "execution_count": 37,
   "id": "peripheral-canberra",
   "metadata": {},
   "outputs": [],
   "source": [
    "def do_LinearSVC_proba(train_X,train_y,test_X,test_y,svc_kernel='linear'):\n",
    "    sklearn_clf = SVC(kernel=svc_kernel,probability=True)\n",
    "\n",
    "    #create the classifier with a probability function\n",
    "    #https://mmuratarat.github.io/2019-10-12/probabilistic-output-of-svm#:~:text=SVMs%20don't%20output%20probabilities,the%20output%20to%20class%20probabilities.&text=For%20many%20problems%2C%20it%20is,of%20certainty%20about%20the%20answer.\n",
    "    #we don't need this I'm doing my own probability estimate\n",
    "    #hmmm, is this why the model is performing so well? the tuning?\n",
    "    #sklearn_clf = CalibratedClassifierCV(clf_svc)\n",
    "    #train\n",
    "    sklearn_clf.fit(train_X, train_y)\n",
    "\n",
    "    #get the _probability_ we fall into each class\n",
    "    predict_y_prob = sklearn_clf.predict_proba(test_X)\n",
    "    predict_y = sklearn_clf.predict(test_X)\n",
    "    return(predict_y,predict_y_prob,sklearn_clf)\n",
    "\n",
    "def do_LinearSVC_proba_poly(train_X,train_y,test_X,test_y):\n",
    "    return(do_LinearSVC_proba(train_X,train_y,test_X,test_y,svc_kernel='poly'))\n",
    "\n",
    "def do_LinearSVC_proba_sigmoid(train_X,train_y,test_X,test_y):\n",
    "    return(do_LinearSVC_proba(train_X,train_y,test_X,test_y,svc_kernel='sigmoid'))"
   ]
  },
  {
   "cell_type": "code",
   "execution_count": 38,
   "id": "departmental-technical",
   "metadata": {},
   "outputs": [
    {
     "name": "stdout",
     "output_type": "stream",
     "text": [
      "................................................................................."
     ]
    },
    {
     "data": {
      "text/plain": [
       "(0.5432098765432098, 0.06172839506172839, 0.5617166663294687)"
      ]
     },
     "execution_count": 38,
     "metadata": {},
     "output_type": "execute_result"
    }
   ],
   "source": [
    "brain_data_filepath = (\n",
    "    \"/gpfs/projects/sanlab/shared/DEV/nonbids_data/fMRI/ml/SST/mvpa_Dataset_conditions_84subs_correct_cond.pkl\"\n",
    ")\n",
    "\n",
    "with open(brain_data_filepath, 'rb') as pkl_file:\n",
    "    Brain_Data_allsubs = pickle.load(pkl_file)\n",
    "\n",
    "Brain_Data_allsubs = setup_metadata(Brain_Data_allsubs)\n",
    "\n",
    "linear_results_with_similarity = do_forced_choice(\n",
    "    Brain_Data_allsubs,\n",
    "    get_predict_and_prob=do_LinearSVC_proba_poly)\n",
    "\n",
    "LinearSVC_correlation_wholebrain = linear_results_with_similarity\n",
    "forced_choice_results = linear_results_with_similarity\n",
    "prediction = np.mean(forced_choice_results['sample_wise']['target_y']==forced_choice_results['sample_wise']['pred_y'])\n",
    "forced_choice_prediction = np.mean(forced_choice_results['sample_wise']['target_y']==forced_choice_results['sample_wise']['pred_y_forced_choice'])\n",
    "\n",
    "forced_choice_results['sample_wise']['error']=None\n",
    "\n",
    "pred_prob_CG = forced_choice_results['sample_wise'].pred_prob_CorrectGo\n",
    "target_is_CG = forced_choice_results['sample_wise'].target_y==\"CorrectGo\"\n",
    "error = np.abs(target_is_CG-pred_prob_CG) #calculate absolute error\n",
    "forced_choice_results['sample_wise']['error'] = error\n",
    "mean_absolute_error = error.mean()\n",
    "\n",
    "(prediction, forced_choice_prediction, mean_absolute_error)"
   ]
  },
  {
   "cell_type": "code",
   "execution_count": 39,
   "id": "competitive-characteristic",
   "metadata": {},
   "outputs": [
    {
     "name": "stdout",
     "output_type": "stream",
     "text": [
      "................................................................................."
     ]
    },
    {
     "data": {
      "text/plain": [
       "(0.7716049382716049, 0.9876543209876543, 0.4185678588406077)"
      ]
     },
     "execution_count": 39,
     "metadata": {},
     "output_type": "execute_result"
    }
   ],
   "source": [
    "brain_data_filepath = (\n",
    "    \"/gpfs/projects/sanlab/shared/DEV/nonbids_data/fMRI/ml/SST/mvpa_Dataset_conditions_84subs_correct_cond.pkl\"\n",
    ")\n",
    "\n",
    "with open(brain_data_filepath, 'rb') as pkl_file:\n",
    "    Brain_Data_allsubs = pickle.load(pkl_file)\n",
    "\n",
    "Brain_Data_allsubs = setup_metadata(Brain_Data_allsubs)\n",
    "\n",
    "linear_results_with_similarity = do_forced_choice(\n",
    "    Brain_Data_allsubs,\n",
    "    get_predict_and_prob=do_LinearSVC_proba_sigmoid)\n",
    "\n",
    "LinearSVC_correlation_wholebrain = linear_results_with_similarity\n",
    "forced_choice_results = linear_results_with_similarity\n",
    "prediction = np.mean(forced_choice_results['sample_wise']['target_y']==forced_choice_results['sample_wise']['pred_y'])\n",
    "forced_choice_prediction = np.mean(forced_choice_results['sample_wise']['target_y']==forced_choice_results['sample_wise']['pred_y_forced_choice'])\n",
    "\n",
    "forced_choice_results['sample_wise']['error']=None\n",
    "\n",
    "pred_prob_CG = forced_choice_results['sample_wise'].pred_prob_CorrectGo\n",
    "target_is_CG = forced_choice_results['sample_wise'].target_y==\"CorrectGo\"\n",
    "error = np.abs(target_is_CG-pred_prob_CG) #calculate absolute error\n",
    "forced_choice_results['sample_wise']['error'] = error\n",
    "mean_absolute_error = error.mean()\n",
    "\n",
    "(prediction, forced_choice_prediction, mean_absolute_error)"
   ]
  },
  {
   "cell_type": "markdown",
   "id": "nearby-embassy",
   "metadata": {},
   "source": [
    "It seems that the forced choice method dramatically exaggerates the performance level, which in some ways is unsurprising, but we need to be quite careful about using it. The `mean absolute error` measure is going to be the most sensitive measure of all."
   ]
  },
  {
   "cell_type": "markdown",
   "id": "bridal-appeal",
   "metadata": {},
   "source": [
    "#### v3 mask"
   ]
  },
  {
   "cell_type": "markdown",
   "id": "experienced-tyler",
   "metadata": {},
   "source": [
    "This one seems to perform very well with the prediction but apparently the one below doesn't???"
   ]
  },
  {
   "cell_type": "raw",
   "id": "statistical-copper",
   "metadata": {},
   "source": [
    "forced_choice_results_dict = {}\n",
    "for m_i,m_r in all_masks.iterrows():\n",
    "    mask_name=m_r['mask_name']\n",
    "    brain_data_filepath = (\n",
    "        \"/gpfs/projects/sanlab/shared/DEV/nonbids_data/fMRI/ml/SST/mvpa_Dataset_conditions_84subs_correct_cond_\" +\n",
    "        mask_name\n",
    "        + \".pkl\"\n",
    "    )\n",
    "    if os.path.exists(brain_data_filepath):\n",
    "        with open(brain_data_filepath, 'rb') as pkl_file:\n",
    "            Brain_Data_allsubs = pickle.load(pkl_file)\n",
    "            \n",
    "        print(mask_name)\n",
    "\n",
    "        Brain_Data_allsubs = setup_metadata(Brain_Data_allsubs)\n",
    "        \n",
    "        print(sum(sum(Brain_Data_allsubs.samples>0))/len(Brain_Data_allsubs.samples))\n",
    "        \n",
    "        masked_preview = unmask(Brain_Data_allsubs.samples[0], Brain_Data_allsubs.a['mask_nifti'].value)\n",
    "        plotting.plot_stat_map(masked_preview,vmax=18)\n",
    "\n",
    "        forced_choice_results = do_forced_choice(Brain_Data_allsubs,get_predict_and_prob=do_LinearSVC)\n",
    "        print(\"\")\n",
    "        \n",
    "        prediction = np.mean(forced_choice_results['sample_wise']['target_y']==forced_choice_results['sample_wise']['pred_y'])\n",
    "        forced_choice_prediction = np.mean(forced_choice_results['sample_wise']['target_y']==forced_choice_results['sample_wise']['pred_y_forced_choice'])\n",
    "        \n",
    "        print(prediction,forced_choice_prediction)\n",
    "\n",
    "        forced_choice_results_dict[mask_name]=forced_choice_results\n",
    "        "
   ]
  },
  {
   "cell_type": "raw",
   "id": "frequent-grill",
   "metadata": {},
   "source": [
    "LinearSVC_correlation_masked = forced_choice_results_dict"
   ]
  },
  {
   "cell_type": "raw",
   "id": "defensive-ethiopia",
   "metadata": {},
   "source": [
    "for k in forced_choice_results_dict.keys():\n",
    "    v=forced_choice_results_dict[k]\n",
    "    print(k)\n",
    "    print_forced_choice_results(v,individual_differences,['pred_prob_CorrectStop'])"
   ]
  },
  {
   "cell_type": "markdown",
   "id": "breeding-sociology",
   "metadata": {},
   "source": [
    "## Apply the main analysis, looping through masks"
   ]
  },
  {
   "cell_type": "markdown",
   "id": "loving-france",
   "metadata": {},
   "source": [
    "### Whole brain"
   ]
  },
  {
   "cell_type": "code",
   "execution_count": null,
   "id": "exact-replication",
   "metadata": {},
   "outputs": [],
   "source": [
    "#/gpfs/projects/sanlab/shared/DEV/nonbids_data/fMRI/ml/SST/mvpa_Dataset_conditions_84subs_correct_cond.pkl\n",
    "#/gpfs/projects/sanlab/shared/DEV/nonbids_data/fMRI/ml/SST/mvpa_Dataset_conditions_84subs_correct_cond.pkl"
   ]
  },
  {
   "cell_type": "code",
   "execution_count": 24,
   "id": "sought-austin",
   "metadata": {},
   "outputs": [
    {
     "name": "stdout",
     "output_type": "stream",
     "text": [
      "whole brain\n",
      "124486.5\n",
      ".................................................................................0.7283950617283951 0.08641975308641975\n",
      "(0.7283950617283951, 0.08641975308641975)\n"
     ]
    },
    {
     "data": {
      "text/html": [
       "bf_1"
      ],
      "text/plain": [
       "<IPython.core.display.HTML object>"
      ]
     },
     "metadata": {},
     "output_type": "display_data"
    },
    {
     "data": {
      "text/html": [
       "r=0.13; p-value=0.2825"
      ],
      "text/plain": [
       "<IPython.core.display.HTML object>"
      ]
     },
     "metadata": {},
     "output_type": "display_data"
    },
    {
     "data": {
      "text/html": [
       "rho=0.09; p-value=0.4754"
      ],
      "text/plain": [
       "<IPython.core.display.HTML object>"
      ]
     },
     "metadata": {},
     "output_type": "display_data"
    },
    {
     "data": {
      "image/png": "[encoded data removed]",
      "text/plain": [
       "<Figure size 432x288 with 1 Axes>"
      ]
     },
     "metadata": {
      "needs_background": "light"
     },
     "output_type": "display_data"
    },
    {
     "data": {
      "text/html": [
       "cancer_promoting_minus_preventing_FFQ"
      ],
      "text/plain": [
       "<IPython.core.display.HTML object>"
      ]
     },
     "metadata": {},
     "output_type": "display_data"
    },
    {
     "data": {
      "text/html": [
       "r=-0.09; p-value=0.4326"
      ],
      "text/plain": [
       "<IPython.core.display.HTML object>"
      ]
     },
     "metadata": {},
     "output_type": "display_data"
    },
    {
     "data": {
      "text/html": [
       "rho=-0.08; p-value=0.4805"
      ],
      "text/plain": [
       "<IPython.core.display.HTML object>"
      ]
     },
     "metadata": {},
     "output_type": "display_data"
    },
    {
     "data": {
      "image/png": "[encoded data removed]",
      "text/plain": [
       "<Figure size 432x288 with 1 Axes>"
      ]
     },
     "metadata": {
      "needs_background": "light"
     },
     "output_type": "display_data"
    },
    {
     "data": {
      "text/html": [
       "TESQ_E_sum"
      ],
      "text/plain": [
       "<IPython.core.display.HTML object>"
      ]
     },
     "metadata": {},
     "output_type": "display_data"
    },
    {
     "data": {
      "text/html": [
       "r=-0.06; p-value=0.6331"
      ],
      "text/plain": [
       "<IPython.core.display.HTML object>"
      ]
     },
     "metadata": {},
     "output_type": "display_data"
    },
    {
     "data": {
      "text/html": [
       "rho=-0.07; p-value=0.5593"
      ],
      "text/plain": [
       "<IPython.core.display.HTML object>"
      ]
     },
     "metadata": {},
     "output_type": "display_data"
    },
    {
     "data": {
      "image/png": "[encoded data removed]",
      "text/plain": [
       "<Figure size 432x288 with 1 Axes>"
      ]
     },
     "metadata": {
      "needs_background": "light"
     },
     "output_type": "display_data"
    }
   ],
   "source": [
    "print(\"whole brain\")\n",
    "brain_data_filepath = (\n",
    "    \"/gpfs/projects/sanlab/shared/DEV/nonbids_data/fMRI/ml/SST/mvpa_Dataset_conditions_84subs_correct_cond.pkl\"\n",
    ")\n",
    "\n",
    "with open(brain_data_filepath, 'rb') as pkl_file:\n",
    "    Brain_Data_allsubs = pickle.load(pkl_file)\n",
    "\n",
    "Brain_Data_allsubs = setup_metadata(Brain_Data_allsubs)\n",
    "\n",
    "print(sum(sum(Brain_Data_allsubs.samples>0))/len(Brain_Data_allsubs.samples))\n",
    "\n",
    "#masked_preview = unmask(Brain_Data_allsubs.samples[0], Brain_Data_allsubs.a['mask_nifti'].value)\n",
    "#plotting.plot_stat_map(masked_preview,vmax=18)\n",
    "\n",
    "forced_choice_results = do_forced_choice(Brain_Data_allsubs,get_predict_and_prob=do_SVC)\n",
    "\n",
    "\n",
    "sample_wise_results = forced_choice_results['sample_wise']\n",
    "prediction = np.mean(forced_choice_results['sample_wise']['target_y']==forced_choice_results['sample_wise']['pred_y'])\n",
    "forced_choice_prediction = np.mean(forced_choice_results['sample_wise']['target_y']==forced_choice_results['sample_wise']['pred_y_forced_choice'])\n",
    "\n",
    "forced_choice_results['sample_wise']['ln_inv_pred_prob_CorrectGo']=inv_log_transform(sample_wise_results['pred_prob_CorrectGo'])\n",
    "forced_choice_results['sample_wise']['ln_inv_pred_prob_CorrectStop']=inv_log_transform(sample_wise_results['pred_prob_CorrectStop'])\n",
    "\n",
    "\n",
    "\n",
    "print(prediction,forced_choice_prediction)\n",
    "\n",
    "#forced_choice_results_dict[mask_name]=forced_choice_results\n",
    "print_forced_choice_results(forced_choice_results,individual_differences,['ln_inv_pred_prob_CorrectStop'])\n",
    "\n",
    "\n",
    "SVC_proba_wholebrain = forced_choice_results"
   ]
  },
  {
   "cell_type": "markdown",
   "id": "personal-islam",
   "metadata": {},
   "source": [
    "#### forced choice prediction performance\n",
    "\n",
    "I want to find out why those forced choice performance scores are so low. I haven't seen this befroe but the \"force choice prediction\" is lower than the other scores. need to find out why that is--perhaps there's an error in the forced_choice_prediction scoring."
   ]
  },
  {
   "cell_type": "markdown",
   "id": "sunrise-incidence",
   "metadata": {},
   "source": [
    "So we can replicate the forced_choice logic below, using `forced_choice_results['sample_wise']`, then "
   ]
  },
  {
   "cell_type": "code",
   "execution_count": 26,
   "id": "correct-synthesis",
   "metadata": {},
   "outputs": [
    {
     "data": {
      "text/html": [
       "<div>\n",
       "<style scoped>\n",
       "    .dataframe tbody tr th:only-of-type {\n",
       "        vertical-align: middle;\n",
       "    }\n",
       "\n",
       "    .dataframe tbody tr th {\n",
       "        vertical-align: top;\n",
       "    }\n",
       "\n",
       "    .dataframe thead th {\n",
       "        text-align: right;\n",
       "    }\n",
       "</style>\n",
       "<table border=\"1\" class=\"dataframe\">\n",
       "  <thead>\n",
       "    <tr style=\"text-align: right;\">\n",
       "      <th></th>\n",
       "      <th>chunks</th>\n",
       "      <th>target_y</th>\n",
       "      <th>pred_y</th>\n",
       "      <th>pred_y_forced_choice</th>\n",
       "      <th>pred_prob_CorrectGo</th>\n",
       "      <th>pred_prob_CorrectStop</th>\n",
       "      <th>ln_inv_pred_prob_CorrectGo</th>\n",
       "      <th>ln_inv_pred_prob_CorrectStop</th>\n",
       "    </tr>\n",
       "  </thead>\n",
       "  <tbody>\n",
       "    <tr>\n",
       "      <th>0</th>\n",
       "      <td>DEV005_1</td>\n",
       "      <td>CorrectGo</td>\n",
       "      <td>CorrectGo</td>\n",
       "      <td>CorrectGo</td>\n",
       "      <td>0.475979</td>\n",
       "      <td>0.524021</td>\n",
       "      <td>-0.646223</td>\n",
       "      <td>-0.742382</td>\n",
       "    </tr>\n",
       "    <tr>\n",
       "      <th>1</th>\n",
       "      <td>DEV005_1</td>\n",
       "      <td>CorrectStop</td>\n",
       "      <td>CorrectGo</td>\n",
       "      <td>CorrectStop</td>\n",
       "      <td>0.474099</td>\n",
       "      <td>0.525901</td>\n",
       "      <td>-0.642642</td>\n",
       "      <td>-0.746340</td>\n",
       "    </tr>\n",
       "    <tr>\n",
       "      <th>0</th>\n",
       "      <td>DEV006_1</td>\n",
       "      <td>CorrectGo</td>\n",
       "      <td>CorrectGo</td>\n",
       "      <td>CorrectStop</td>\n",
       "      <td>0.405563</td>\n",
       "      <td>0.594437</td>\n",
       "      <td>-0.520140</td>\n",
       "      <td>-0.902479</td>\n",
       "    </tr>\n",
       "    <tr>\n",
       "      <th>1</th>\n",
       "      <td>DEV006_1</td>\n",
       "      <td>CorrectStop</td>\n",
       "      <td>CorrectGo</td>\n",
       "      <td>CorrectGo</td>\n",
       "      <td>0.472021</td>\n",
       "      <td>0.527979</td>\n",
       "      <td>-0.638699</td>\n",
       "      <td>-0.750731</td>\n",
       "    </tr>\n",
       "    <tr>\n",
       "      <th>0</th>\n",
       "      <td>DEV010_1</td>\n",
       "      <td>CorrectGo</td>\n",
       "      <td>CorrectGo</td>\n",
       "      <td>CorrectStop</td>\n",
       "      <td>0.456703</td>\n",
       "      <td>0.543297</td>\n",
       "      <td>-0.610099</td>\n",
       "      <td>-0.783722</td>\n",
       "    </tr>\n",
       "    <tr>\n",
       "      <th>...</th>\n",
       "      <td>...</td>\n",
       "      <td>...</td>\n",
       "      <td>...</td>\n",
       "      <td>...</td>\n",
       "      <td>...</td>\n",
       "      <td>...</td>\n",
       "      <td>...</td>\n",
       "      <td>...</td>\n",
       "    </tr>\n",
       "    <tr>\n",
       "      <th>1</th>\n",
       "      <td>DEV216_1</td>\n",
       "      <td>CorrectStop</td>\n",
       "      <td>CorrectStop</td>\n",
       "      <td>CorrectGo</td>\n",
       "      <td>0.593357</td>\n",
       "      <td>0.406643</td>\n",
       "      <td>-0.899820</td>\n",
       "      <td>-0.521959</td>\n",
       "    </tr>\n",
       "    <tr>\n",
       "      <th>0</th>\n",
       "      <td>DEV217_1</td>\n",
       "      <td>CorrectGo</td>\n",
       "      <td>CorrectStop</td>\n",
       "      <td>CorrectStop</td>\n",
       "      <td>0.568567</td>\n",
       "      <td>0.431433</td>\n",
       "      <td>-0.840643</td>\n",
       "      <td>-0.564636</td>\n",
       "    </tr>\n",
       "    <tr>\n",
       "      <th>1</th>\n",
       "      <td>DEV217_1</td>\n",
       "      <td>CorrectStop</td>\n",
       "      <td>CorrectStop</td>\n",
       "      <td>CorrectGo</td>\n",
       "      <td>0.633142</td>\n",
       "      <td>0.366858</td>\n",
       "      <td>-1.002781</td>\n",
       "      <td>-0.457060</td>\n",
       "    </tr>\n",
       "    <tr>\n",
       "      <th>0</th>\n",
       "      <td>DEV218_1</td>\n",
       "      <td>CorrectGo</td>\n",
       "      <td>CorrectGo</td>\n",
       "      <td>CorrectStop</td>\n",
       "      <td>0.455550</td>\n",
       "      <td>0.544450</td>\n",
       "      <td>-0.607979</td>\n",
       "      <td>-0.786250</td>\n",
       "    </tr>\n",
       "    <tr>\n",
       "      <th>1</th>\n",
       "      <td>DEV218_1</td>\n",
       "      <td>CorrectStop</td>\n",
       "      <td>CorrectStop</td>\n",
       "      <td>CorrectGo</td>\n",
       "      <td>0.577208</td>\n",
       "      <td>0.422792</td>\n",
       "      <td>-0.860876</td>\n",
       "      <td>-0.549552</td>\n",
       "    </tr>\n",
       "  </tbody>\n",
       "</table>\n",
       "<p>162 rows × 8 columns</p>\n",
       "</div>"
      ],
      "text/plain": [
       "      chunks     target_y       pred_y pred_y_forced_choice  \\\n",
       "0   DEV005_1    CorrectGo    CorrectGo            CorrectGo   \n",
       "1   DEV005_1  CorrectStop    CorrectGo          CorrectStop   \n",
       "0   DEV006_1    CorrectGo    CorrectGo          CorrectStop   \n",
       "1   DEV006_1  CorrectStop    CorrectGo            CorrectGo   \n",
       "0   DEV010_1    CorrectGo    CorrectGo          CorrectStop   \n",
       "..       ...          ...          ...                  ...   \n",
       "1   DEV216_1  CorrectStop  CorrectStop            CorrectGo   \n",
       "0   DEV217_1    CorrectGo  CorrectStop          CorrectStop   \n",
       "1   DEV217_1  CorrectStop  CorrectStop            CorrectGo   \n",
       "0   DEV218_1    CorrectGo    CorrectGo          CorrectStop   \n",
       "1   DEV218_1  CorrectStop  CorrectStop            CorrectGo   \n",
       "\n",
       "    pred_prob_CorrectGo  pred_prob_CorrectStop  ln_inv_pred_prob_CorrectGo  \\\n",
       "0              0.475979               0.524021                   -0.646223   \n",
       "1              0.474099               0.525901                   -0.642642   \n",
       "0              0.405563               0.594437                   -0.520140   \n",
       "1              0.472021               0.527979                   -0.638699   \n",
       "0              0.456703               0.543297                   -0.610099   \n",
       "..                  ...                    ...                         ...   \n",
       "1              0.593357               0.406643                   -0.899820   \n",
       "0              0.568567               0.431433                   -0.840643   \n",
       "1              0.633142               0.366858                   -1.002781   \n",
       "0              0.455550               0.544450                   -0.607979   \n",
       "1              0.577208               0.422792                   -0.860876   \n",
       "\n",
       "    ln_inv_pred_prob_CorrectStop  \n",
       "0                      -0.742382  \n",
       "1                      -0.746340  \n",
       "0                      -0.902479  \n",
       "1                      -0.750731  \n",
       "0                      -0.783722  \n",
       "..                           ...  \n",
       "1                      -0.521959  \n",
       "0                      -0.564636  \n",
       "1                      -0.457060  \n",
       "0                      -0.786250  \n",
       "1                      -0.549552  \n",
       "\n",
       "[162 rows x 8 columns]"
      ]
     },
     "execution_count": 26,
     "metadata": {},
     "output_type": "execute_result"
    }
   ],
   "source": [
    "forced_choice_results['sample_wise']"
   ]
  },
  {
   "cell_type": "code",
   "execution_count": 36,
   "id": "imposed-lodging",
   "metadata": {},
   "outputs": [],
   "source": [
    "pred_prob_CG = forced_choice_results['sample_wise'].pred_prob_CorrectGo\n",
    "target_is_CG = forced_choice_results['sample_wise'].target_y==\"CorrectGo\"\n",
    "error = np.abs(target_is_CG-pred_prob_CG) #calculate absolute error\n",
    "forced_choice_results['sample_wise']['error'] = error\n",
    "mean_absolute_error = error.mean()"
   ]
  },
  {
   "cell_type": "code",
   "execution_count": 37,
   "id": "obvious-mercury",
   "metadata": {},
   "outputs": [
    {
     "data": {
      "text/html": [
       "<div>\n",
       "<style scoped>\n",
       "    .dataframe tbody tr th:only-of-type {\n",
       "        vertical-align: middle;\n",
       "    }\n",
       "\n",
       "    .dataframe tbody tr th {\n",
       "        vertical-align: top;\n",
       "    }\n",
       "\n",
       "    .dataframe thead th {\n",
       "        text-align: right;\n",
       "    }\n",
       "</style>\n",
       "<table border=\"1\" class=\"dataframe\">\n",
       "  <thead>\n",
       "    <tr style=\"text-align: right;\">\n",
       "      <th></th>\n",
       "      <th>chunks</th>\n",
       "      <th>target_y</th>\n",
       "      <th>pred_y</th>\n",
       "      <th>pred_y_forced_choice</th>\n",
       "      <th>pred_prob_CorrectGo</th>\n",
       "      <th>pred_prob_CorrectStop</th>\n",
       "      <th>ln_inv_pred_prob_CorrectGo</th>\n",
       "      <th>ln_inv_pred_prob_CorrectStop</th>\n",
       "      <th>error</th>\n",
       "    </tr>\n",
       "  </thead>\n",
       "  <tbody>\n",
       "    <tr>\n",
       "      <th>0</th>\n",
       "      <td>DEV005_1</td>\n",
       "      <td>CorrectGo</td>\n",
       "      <td>CorrectGo</td>\n",
       "      <td>CorrectGo</td>\n",
       "      <td>0.475979</td>\n",
       "      <td>0.524021</td>\n",
       "      <td>-0.646223</td>\n",
       "      <td>-0.742382</td>\n",
       "      <td>0.524021</td>\n",
       "    </tr>\n",
       "    <tr>\n",
       "      <th>1</th>\n",
       "      <td>DEV005_1</td>\n",
       "      <td>CorrectStop</td>\n",
       "      <td>CorrectGo</td>\n",
       "      <td>CorrectStop</td>\n",
       "      <td>0.474099</td>\n",
       "      <td>0.525901</td>\n",
       "      <td>-0.642642</td>\n",
       "      <td>-0.746340</td>\n",
       "      <td>0.474099</td>\n",
       "    </tr>\n",
       "    <tr>\n",
       "      <th>0</th>\n",
       "      <td>DEV006_1</td>\n",
       "      <td>CorrectGo</td>\n",
       "      <td>CorrectGo</td>\n",
       "      <td>CorrectStop</td>\n",
       "      <td>0.405563</td>\n",
       "      <td>0.594437</td>\n",
       "      <td>-0.520140</td>\n",
       "      <td>-0.902479</td>\n",
       "      <td>0.594437</td>\n",
       "    </tr>\n",
       "    <tr>\n",
       "      <th>1</th>\n",
       "      <td>DEV006_1</td>\n",
       "      <td>CorrectStop</td>\n",
       "      <td>CorrectGo</td>\n",
       "      <td>CorrectGo</td>\n",
       "      <td>0.472021</td>\n",
       "      <td>0.527979</td>\n",
       "      <td>-0.638699</td>\n",
       "      <td>-0.750731</td>\n",
       "      <td>0.472021</td>\n",
       "    </tr>\n",
       "    <tr>\n",
       "      <th>0</th>\n",
       "      <td>DEV010_1</td>\n",
       "      <td>CorrectGo</td>\n",
       "      <td>CorrectGo</td>\n",
       "      <td>CorrectStop</td>\n",
       "      <td>0.456703</td>\n",
       "      <td>0.543297</td>\n",
       "      <td>-0.610099</td>\n",
       "      <td>-0.783722</td>\n",
       "      <td>0.543297</td>\n",
       "    </tr>\n",
       "    <tr>\n",
       "      <th>...</th>\n",
       "      <td>...</td>\n",
       "      <td>...</td>\n",
       "      <td>...</td>\n",
       "      <td>...</td>\n",
       "      <td>...</td>\n",
       "      <td>...</td>\n",
       "      <td>...</td>\n",
       "      <td>...</td>\n",
       "      <td>...</td>\n",
       "    </tr>\n",
       "    <tr>\n",
       "      <th>1</th>\n",
       "      <td>DEV216_1</td>\n",
       "      <td>CorrectStop</td>\n",
       "      <td>CorrectStop</td>\n",
       "      <td>CorrectGo</td>\n",
       "      <td>0.593357</td>\n",
       "      <td>0.406643</td>\n",
       "      <td>-0.899820</td>\n",
       "      <td>-0.521959</td>\n",
       "      <td>0.593357</td>\n",
       "    </tr>\n",
       "    <tr>\n",
       "      <th>0</th>\n",
       "      <td>DEV217_1</td>\n",
       "      <td>CorrectGo</td>\n",
       "      <td>CorrectStop</td>\n",
       "      <td>CorrectStop</td>\n",
       "      <td>0.568567</td>\n",
       "      <td>0.431433</td>\n",
       "      <td>-0.840643</td>\n",
       "      <td>-0.564636</td>\n",
       "      <td>0.431433</td>\n",
       "    </tr>\n",
       "    <tr>\n",
       "      <th>1</th>\n",
       "      <td>DEV217_1</td>\n",
       "      <td>CorrectStop</td>\n",
       "      <td>CorrectStop</td>\n",
       "      <td>CorrectGo</td>\n",
       "      <td>0.633142</td>\n",
       "      <td>0.366858</td>\n",
       "      <td>-1.002781</td>\n",
       "      <td>-0.457060</td>\n",
       "      <td>0.633142</td>\n",
       "    </tr>\n",
       "    <tr>\n",
       "      <th>0</th>\n",
       "      <td>DEV218_1</td>\n",
       "      <td>CorrectGo</td>\n",
       "      <td>CorrectGo</td>\n",
       "      <td>CorrectStop</td>\n",
       "      <td>0.455550</td>\n",
       "      <td>0.544450</td>\n",
       "      <td>-0.607979</td>\n",
       "      <td>-0.786250</td>\n",
       "      <td>0.544450</td>\n",
       "    </tr>\n",
       "    <tr>\n",
       "      <th>1</th>\n",
       "      <td>DEV218_1</td>\n",
       "      <td>CorrectStop</td>\n",
       "      <td>CorrectStop</td>\n",
       "      <td>CorrectGo</td>\n",
       "      <td>0.577208</td>\n",
       "      <td>0.422792</td>\n",
       "      <td>-0.860876</td>\n",
       "      <td>-0.549552</td>\n",
       "      <td>0.577208</td>\n",
       "    </tr>\n",
       "  </tbody>\n",
       "</table>\n",
       "<p>162 rows × 9 columns</p>\n",
       "</div>"
      ],
      "text/plain": [
       "      chunks     target_y       pred_y pred_y_forced_choice  \\\n",
       "0   DEV005_1    CorrectGo    CorrectGo            CorrectGo   \n",
       "1   DEV005_1  CorrectStop    CorrectGo          CorrectStop   \n",
       "0   DEV006_1    CorrectGo    CorrectGo          CorrectStop   \n",
       "1   DEV006_1  CorrectStop    CorrectGo            CorrectGo   \n",
       "0   DEV010_1    CorrectGo    CorrectGo          CorrectStop   \n",
       "..       ...          ...          ...                  ...   \n",
       "1   DEV216_1  CorrectStop  CorrectStop            CorrectGo   \n",
       "0   DEV217_1    CorrectGo  CorrectStop          CorrectStop   \n",
       "1   DEV217_1  CorrectStop  CorrectStop            CorrectGo   \n",
       "0   DEV218_1    CorrectGo    CorrectGo          CorrectStop   \n",
       "1   DEV218_1  CorrectStop  CorrectStop            CorrectGo   \n",
       "\n",
       "    pred_prob_CorrectGo  pred_prob_CorrectStop  ln_inv_pred_prob_CorrectGo  \\\n",
       "0              0.475979               0.524021                   -0.646223   \n",
       "1              0.474099               0.525901                   -0.642642   \n",
       "0              0.405563               0.594437                   -0.520140   \n",
       "1              0.472021               0.527979                   -0.638699   \n",
       "0              0.456703               0.543297                   -0.610099   \n",
       "..                  ...                    ...                         ...   \n",
       "1              0.593357               0.406643                   -0.899820   \n",
       "0              0.568567               0.431433                   -0.840643   \n",
       "1              0.633142               0.366858                   -1.002781   \n",
       "0              0.455550               0.544450                   -0.607979   \n",
       "1              0.577208               0.422792                   -0.860876   \n",
       "\n",
       "    ln_inv_pred_prob_CorrectStop     error  \n",
       "0                      -0.742382  0.524021  \n",
       "1                      -0.746340  0.474099  \n",
       "0                      -0.902479  0.594437  \n",
       "1                      -0.750731  0.472021  \n",
       "0                      -0.783722  0.543297  \n",
       "..                           ...       ...  \n",
       "1                      -0.521959  0.593357  \n",
       "0                      -0.564636  0.431433  \n",
       "1                      -0.457060  0.633142  \n",
       "0                      -0.786250  0.544450  \n",
       "1                      -0.549552  0.577208  \n",
       "\n",
       "[162 rows x 9 columns]"
      ]
     },
     "execution_count": 37,
     "metadata": {},
     "output_type": "execute_result"
    }
   ],
   "source": [
    "forced_choice_results['sample_wise']"
   ]
  },
  {
   "cell_type": "code",
   "execution_count": 39,
   "id": "desirable-marks",
   "metadata": {},
   "outputs": [
    {
     "data": {
      "text/plain": [
       "target_y\n",
       "CorrectGo      0.531402\n",
       "CorrectStop    0.541330\n",
       "Name: error, dtype: float64"
      ]
     },
     "execution_count": 39,
     "metadata": {},
     "output_type": "execute_result"
    }
   ],
   "source": [
    "forced_choice_results['sample_wise'].groupby('target_y').error.mean() #mean absolute error"
   ]
  },
  {
   "cell_type": "code",
   "execution_count": 43,
   "id": "romantic-relaxation",
   "metadata": {},
   "outputs": [
    {
     "data": {
      "text/html": [
       "<div>\n",
       "<style scoped>\n",
       "    .dataframe tbody tr th:only-of-type {\n",
       "        vertical-align: middle;\n",
       "    }\n",
       "\n",
       "    .dataframe tbody tr th {\n",
       "        vertical-align: top;\n",
       "    }\n",
       "\n",
       "    .dataframe thead th {\n",
       "        text-align: right;\n",
       "    }\n",
       "</style>\n",
       "<table border=\"1\" class=\"dataframe\">\n",
       "  <thead>\n",
       "    <tr style=\"text-align: right;\">\n",
       "      <th></th>\n",
       "      <th>chunks</th>\n",
       "      <th>target_y</th>\n",
       "      <th>pred_y</th>\n",
       "      <th>pred_y_forced_choice</th>\n",
       "      <th>pred_prob_CorrectGo</th>\n",
       "      <th>pred_prob_CorrectStop</th>\n",
       "      <th>ln_inv_pred_prob_CorrectGo</th>\n",
       "      <th>ln_inv_pred_prob_CorrectStop</th>\n",
       "      <th>error</th>\n",
       "    </tr>\n",
       "  </thead>\n",
       "  <tbody>\n",
       "    <tr>\n",
       "      <th>0</th>\n",
       "      <td>DEV005_1</td>\n",
       "      <td>CorrectGo</td>\n",
       "      <td>CorrectGo</td>\n",
       "      <td>CorrectGo</td>\n",
       "      <td>0.475979</td>\n",
       "      <td>0.524021</td>\n",
       "      <td>-0.646223</td>\n",
       "      <td>-0.742382</td>\n",
       "      <td>0.524021</td>\n",
       "    </tr>\n",
       "    <tr>\n",
       "      <th>1</th>\n",
       "      <td>DEV005_1</td>\n",
       "      <td>CorrectStop</td>\n",
       "      <td>CorrectGo</td>\n",
       "      <td>CorrectStop</td>\n",
       "      <td>0.474099</td>\n",
       "      <td>0.525901</td>\n",
       "      <td>-0.642642</td>\n",
       "      <td>-0.746340</td>\n",
       "      <td>0.474099</td>\n",
       "    </tr>\n",
       "    <tr>\n",
       "      <th>0</th>\n",
       "      <td>DEV006_1</td>\n",
       "      <td>CorrectGo</td>\n",
       "      <td>CorrectGo</td>\n",
       "      <td>CorrectStop</td>\n",
       "      <td>0.405563</td>\n",
       "      <td>0.594437</td>\n",
       "      <td>-0.520140</td>\n",
       "      <td>-0.902479</td>\n",
       "      <td>0.594437</td>\n",
       "    </tr>\n",
       "    <tr>\n",
       "      <th>1</th>\n",
       "      <td>DEV006_1</td>\n",
       "      <td>CorrectStop</td>\n",
       "      <td>CorrectGo</td>\n",
       "      <td>CorrectGo</td>\n",
       "      <td>0.472021</td>\n",
       "      <td>0.527979</td>\n",
       "      <td>-0.638699</td>\n",
       "      <td>-0.750731</td>\n",
       "      <td>0.472021</td>\n",
       "    </tr>\n",
       "    <tr>\n",
       "      <th>0</th>\n",
       "      <td>DEV010_1</td>\n",
       "      <td>CorrectGo</td>\n",
       "      <td>CorrectGo</td>\n",
       "      <td>CorrectStop</td>\n",
       "      <td>0.456703</td>\n",
       "      <td>0.543297</td>\n",
       "      <td>-0.610099</td>\n",
       "      <td>-0.783722</td>\n",
       "      <td>0.543297</td>\n",
       "    </tr>\n",
       "    <tr>\n",
       "      <th>...</th>\n",
       "      <td>...</td>\n",
       "      <td>...</td>\n",
       "      <td>...</td>\n",
       "      <td>...</td>\n",
       "      <td>...</td>\n",
       "      <td>...</td>\n",
       "      <td>...</td>\n",
       "      <td>...</td>\n",
       "      <td>...</td>\n",
       "    </tr>\n",
       "    <tr>\n",
       "      <th>1</th>\n",
       "      <td>DEV216_1</td>\n",
       "      <td>CorrectStop</td>\n",
       "      <td>CorrectStop</td>\n",
       "      <td>CorrectGo</td>\n",
       "      <td>0.593357</td>\n",
       "      <td>0.406643</td>\n",
       "      <td>-0.899820</td>\n",
       "      <td>-0.521959</td>\n",
       "      <td>0.593357</td>\n",
       "    </tr>\n",
       "    <tr>\n",
       "      <th>0</th>\n",
       "      <td>DEV217_1</td>\n",
       "      <td>CorrectGo</td>\n",
       "      <td>CorrectStop</td>\n",
       "      <td>CorrectStop</td>\n",
       "      <td>0.568567</td>\n",
       "      <td>0.431433</td>\n",
       "      <td>-0.840643</td>\n",
       "      <td>-0.564636</td>\n",
       "      <td>0.431433</td>\n",
       "    </tr>\n",
       "    <tr>\n",
       "      <th>1</th>\n",
       "      <td>DEV217_1</td>\n",
       "      <td>CorrectStop</td>\n",
       "      <td>CorrectStop</td>\n",
       "      <td>CorrectGo</td>\n",
       "      <td>0.633142</td>\n",
       "      <td>0.366858</td>\n",
       "      <td>-1.002781</td>\n",
       "      <td>-0.457060</td>\n",
       "      <td>0.633142</td>\n",
       "    </tr>\n",
       "    <tr>\n",
       "      <th>0</th>\n",
       "      <td>DEV218_1</td>\n",
       "      <td>CorrectGo</td>\n",
       "      <td>CorrectGo</td>\n",
       "      <td>CorrectStop</td>\n",
       "      <td>0.455550</td>\n",
       "      <td>0.544450</td>\n",
       "      <td>-0.607979</td>\n",
       "      <td>-0.786250</td>\n",
       "      <td>0.544450</td>\n",
       "    </tr>\n",
       "    <tr>\n",
       "      <th>1</th>\n",
       "      <td>DEV218_1</td>\n",
       "      <td>CorrectStop</td>\n",
       "      <td>CorrectStop</td>\n",
       "      <td>CorrectGo</td>\n",
       "      <td>0.577208</td>\n",
       "      <td>0.422792</td>\n",
       "      <td>-0.860876</td>\n",
       "      <td>-0.549552</td>\n",
       "      <td>0.577208</td>\n",
       "    </tr>\n",
       "  </tbody>\n",
       "</table>\n",
       "<p>162 rows × 9 columns</p>\n",
       "</div>"
      ],
      "text/plain": [
       "      chunks     target_y       pred_y pred_y_forced_choice  \\\n",
       "0   DEV005_1    CorrectGo    CorrectGo            CorrectGo   \n",
       "1   DEV005_1  CorrectStop    CorrectGo          CorrectStop   \n",
       "0   DEV006_1    CorrectGo    CorrectGo          CorrectStop   \n",
       "1   DEV006_1  CorrectStop    CorrectGo            CorrectGo   \n",
       "0   DEV010_1    CorrectGo    CorrectGo          CorrectStop   \n",
       "..       ...          ...          ...                  ...   \n",
       "1   DEV216_1  CorrectStop  CorrectStop            CorrectGo   \n",
       "0   DEV217_1    CorrectGo  CorrectStop          CorrectStop   \n",
       "1   DEV217_1  CorrectStop  CorrectStop            CorrectGo   \n",
       "0   DEV218_1    CorrectGo    CorrectGo          CorrectStop   \n",
       "1   DEV218_1  CorrectStop  CorrectStop            CorrectGo   \n",
       "\n",
       "    pred_prob_CorrectGo  pred_prob_CorrectStop  ln_inv_pred_prob_CorrectGo  \\\n",
       "0              0.475979               0.524021                   -0.646223   \n",
       "1              0.474099               0.525901                   -0.642642   \n",
       "0              0.405563               0.594437                   -0.520140   \n",
       "1              0.472021               0.527979                   -0.638699   \n",
       "0              0.456703               0.543297                   -0.610099   \n",
       "..                  ...                    ...                         ...   \n",
       "1              0.593357               0.406643                   -0.899820   \n",
       "0              0.568567               0.431433                   -0.840643   \n",
       "1              0.633142               0.366858                   -1.002781   \n",
       "0              0.455550               0.544450                   -0.607979   \n",
       "1              0.577208               0.422792                   -0.860876   \n",
       "\n",
       "    ln_inv_pred_prob_CorrectStop     error  \n",
       "0                      -0.742382  0.524021  \n",
       "1                      -0.746340  0.474099  \n",
       "0                      -0.902479  0.594437  \n",
       "1                      -0.750731  0.472021  \n",
       "0                      -0.783722  0.543297  \n",
       "..                           ...       ...  \n",
       "1                      -0.521959  0.593357  \n",
       "0                      -0.564636  0.431433  \n",
       "1                      -0.457060  0.633142  \n",
       "0                      -0.786250  0.544450  \n",
       "1                      -0.549552  0.577208  \n",
       "\n",
       "[162 rows x 9 columns]"
      ]
     },
     "execution_count": 43,
     "metadata": {},
     "output_type": "execute_result"
    }
   ],
   "source": [
    "forced_choice_results['sample_wise']"
   ]
  },
  {
   "cell_type": "markdown",
   "id": "korean-africa",
   "metadata": {},
   "source": [
    "### Mask"
   ]
  },
  {
   "cell_type": "code",
   "execution_count": 40,
   "id": "compact-community",
   "metadata": {},
   "outputs": [
    {
     "name": "stdout",
     "output_type": "stream",
     "text": [
      "planning_association-test_z_FDR_0.01\n",
      "2746.3888888888887\n"
     ]
    },
    {
     "name": "stderr",
     "output_type": "stream",
     "text": [
      "/home/bsmith16/.conda/envs/py3_mvpa/lib/python3.8/site-packages/scipy/ndimage/measurements.py:305: DeprecationWarning: In future, it will be an error for 'np.bool_' scalars to be interpreted as an index\n",
      "  return _nd_image.find_objects(input, max_label)\n"
     ]
    },
    {
     "data": {
      "image/png": "[encoded data removed]",
      "text/plain": [
       "<Figure size 525.6x187.2 with 5 Axes>"
      ]
     },
     "metadata": {},
     "output_type": "display_data"
    },
    {
     "name": "stdout",
     "output_type": "stream",
     "text": [
      ".................................................................................\n",
      "0.6851851851851852 0.06172839506172839\n",
      "(0.6851851851851852, 0.06172839506172839)\n"
     ]
    },
    {
     "data": {
      "text/html": [
       "bf_1"
      ],
      "text/plain": [
       "<IPython.core.display.HTML object>"
      ]
     },
     "metadata": {},
     "output_type": "display_data"
    },
    {
     "data": {
      "text/html": [
       "r=0.11; p-value=0.3559"
      ],
      "text/plain": [
       "<IPython.core.display.HTML object>"
      ]
     },
     "metadata": {},
     "output_type": "display_data"
    },
    {
     "data": {
      "text/html": [
       "rho=0.08; p-value=0.5093"
      ],
      "text/plain": [
       "<IPython.core.display.HTML object>"
      ]
     },
     "metadata": {},
     "output_type": "display_data"
    },
    {
     "data": {
      "image/png": "[encoded data removed]",
      "text/plain": [
       "<Figure size 432x288 with 1 Axes>"
      ]
     },
     "metadata": {
      "needs_background": "light"
     },
     "output_type": "display_data"
    },
    {
     "data": {
      "text/html": [
       "cancer_promoting_minus_preventing_FFQ"
      ],
      "text/plain": [
       "<IPython.core.display.HTML object>"
      ]
     },
     "metadata": {},
     "output_type": "display_data"
    },
    {
     "data": {
      "text/html": [
       "r=-0.08; p-value=0.4670"
      ],
      "text/plain": [
       "<IPython.core.display.HTML object>"
      ]
     },
     "metadata": {},
     "output_type": "display_data"
    },
    {
     "data": {
      "text/html": [
       "rho=-0.07; p-value=0.5547"
      ],
      "text/plain": [
       "<IPython.core.display.HTML object>"
      ]
     },
     "metadata": {},
     "output_type": "display_data"
    },
    {
     "data": {
      "image/png": "[encoded data removed]",
      "text/plain": [
       "<Figure size 432x288 with 1 Axes>"
      ]
     },
     "metadata": {
      "needs_background": "light"
     },
     "output_type": "display_data"
    },
    {
     "data": {
      "text/html": [
       "TESQ_E_sum"
      ],
      "text/plain": [
       "<IPython.core.display.HTML object>"
      ]
     },
     "metadata": {},
     "output_type": "display_data"
    },
    {
     "data": {
      "text/html": [
       "r=-0.25; p-value=0.0296"
      ],
      "text/plain": [
       "<IPython.core.display.HTML object>"
      ]
     },
     "metadata": {},
     "output_type": "display_data"
    },
    {
     "data": {
      "text/html": [
       "rho=-0.30; p-value=0.0094"
      ],
      "text/plain": [
       "<IPython.core.display.HTML object>"
      ]
     },
     "metadata": {},
     "output_type": "display_data"
    },
    {
     "data": {
      "image/png": "[encoded data removed]",
      "text/plain": [
       "<Figure size 432x288 with 1 Axes>"
      ]
     },
     "metadata": {
      "needs_background": "light"
     },
     "output_type": "display_data"
    },
    {
     "name": "stdout",
     "output_type": "stream",
     "text": [
      "executive function_association-test_z_FDR_0.01\n",
      "95.46296296296296\n"
     ]
    },
    {
     "name": "stderr",
     "output_type": "stream",
     "text": [
      "/home/bsmith16/.conda/envs/py3_mvpa/lib/python3.8/site-packages/scipy/ndimage/measurements.py:305: DeprecationWarning: In future, it will be an error for 'np.bool_' scalars to be interpreted as an index\n",
      "  return _nd_image.find_objects(input, max_label)\n"
     ]
    },
    {
     "data": {
      "image/png": "[encoded data removed]",
      "text/plain": [
       "<Figure size 525.6x187.2 with 5 Axes>"
      ]
     },
     "metadata": {},
     "output_type": "display_data"
    },
    {
     "name": "stdout",
     "output_type": "stream",
     "text": [
      ".................................................................................\n",
      "0.6111111111111112 0.09876543209876543\n",
      "(0.6111111111111112, 0.09876543209876543)\n"
     ]
    },
    {
     "data": {
      "text/html": [
       "bf_1"
      ],
      "text/plain": [
       "<IPython.core.display.HTML object>"
      ]
     },
     "metadata": {},
     "output_type": "display_data"
    },
    {
     "data": {
      "text/html": [
       "r=0.27; p-value=0.0248"
      ],
      "text/plain": [
       "<IPython.core.display.HTML object>"
      ]
     },
     "metadata": {},
     "output_type": "display_data"
    },
    {
     "data": {
      "text/html": [
       "rho=0.20; p-value=0.0932"
      ],
      "text/plain": [
       "<IPython.core.display.HTML object>"
      ]
     },
     "metadata": {},
     "output_type": "display_data"
    },
    {
     "data": {
      "image/png": "[encoded data removed]",
      "text/plain": [
       "<Figure size 432x288 with 1 Axes>"
      ]
     },
     "metadata": {
      "needs_background": "light"
     },
     "output_type": "display_data"
    },
    {
     "data": {
      "text/html": [
       "cancer_promoting_minus_preventing_FFQ"
      ],
      "text/plain": [
       "<IPython.core.display.HTML object>"
      ]
     },
     "metadata": {},
     "output_type": "display_data"
    },
    {
     "data": {
      "text/html": [
       "r=0.09; p-value=0.4204"
      ],
      "text/plain": [
       "<IPython.core.display.HTML object>"
      ]
     },
     "metadata": {},
     "output_type": "display_data"
    },
    {
     "data": {
      "text/html": [
       "rho=0.14; p-value=0.2289"
      ],
      "text/plain": [
       "<IPython.core.display.HTML object>"
      ]
     },
     "metadata": {},
     "output_type": "display_data"
    },
    {
     "data": {
      "image/png": "[encoded data removed]",
      "text/plain": [
       "<Figure size 432x288 with 1 Axes>"
      ]
     },
     "metadata": {
      "needs_background": "light"
     },
     "output_type": "display_data"
    },
    {
     "data": {
      "text/html": [
       "TESQ_E_sum"
      ],
      "text/plain": [
       "<IPython.core.display.HTML object>"
      ]
     },
     "metadata": {},
     "output_type": "display_data"
    },
    {
     "data": {
      "text/html": [
       "r=-0.07; p-value=0.5736"
      ],
      "text/plain": [
       "<IPython.core.display.HTML object>"
      ]
     },
     "metadata": {},
     "output_type": "display_data"
    },
    {
     "data": {
      "text/html": [
       "rho=-0.08; p-value=0.4813"
      ],
      "text/plain": [
       "<IPython.core.display.HTML object>"
      ]
     },
     "metadata": {},
     "output_type": "display_data"
    },
    {
     "data": {
      "image/png": "[encoded data removed]",
      "text/plain": [
       "<Figure size 432x288 with 1 Axes>"
      ]
     },
     "metadata": {
      "needs_background": "light"
     },
     "output_type": "display_data"
    },
    {
     "name": "stdout",
     "output_type": "stream",
     "text": [
      "response inhibition_association-test_z_FDR_0.01\n",
      "1881.9197530864199\n"
     ]
    },
    {
     "name": "stderr",
     "output_type": "stream",
     "text": [
      "/home/bsmith16/.conda/envs/py3_mvpa/lib/python3.8/site-packages/scipy/ndimage/measurements.py:305: DeprecationWarning: In future, it will be an error for 'np.bool_' scalars to be interpreted as an index\n",
      "  return _nd_image.find_objects(input, max_label)\n"
     ]
    },
    {
     "data": {
      "image/png": "[encoded data removed]",
      "text/plain": [
       "<Figure size 525.6x187.2 with 5 Axes>"
      ]
     },
     "metadata": {},
     "output_type": "display_data"
    },
    {
     "name": "stdout",
     "output_type": "stream",
     "text": [
      ".................................................................................\n",
      "0.6975308641975309 0.9629629629629629\n",
      "(0.6975308641975309, 0.9629629629629629)\n"
     ]
    },
    {
     "data": {
      "text/html": [
       "bf_1"
      ],
      "text/plain": [
       "<IPython.core.display.HTML object>"
      ]
     },
     "metadata": {},
     "output_type": "display_data"
    },
    {
     "data": {
      "text/html": [
       "r=0.00; p-value=0.9981"
      ],
      "text/plain": [
       "<IPython.core.display.HTML object>"
      ]
     },
     "metadata": {},
     "output_type": "display_data"
    },
    {
     "data": {
      "text/html": [
       "rho=0.01; p-value=0.9028"
      ],
      "text/plain": [
       "<IPython.core.display.HTML object>"
      ]
     },
     "metadata": {},
     "output_type": "display_data"
    },
    {
     "data": {
      "image/png": "[encoded data removed]",
      "text/plain": [
       "<Figure size 432x288 with 1 Axes>"
      ]
     },
     "metadata": {
      "needs_background": "light"
     },
     "output_type": "display_data"
    },
    {
     "data": {
      "text/html": [
       "cancer_promoting_minus_preventing_FFQ"
      ],
      "text/plain": [
       "<IPython.core.display.HTML object>"
      ]
     },
     "metadata": {},
     "output_type": "display_data"
    },
    {
     "data": {
      "text/html": [
       "r=-0.04; p-value=0.7425"
      ],
      "text/plain": [
       "<IPython.core.display.HTML object>"
      ]
     },
     "metadata": {},
     "output_type": "display_data"
    },
    {
     "data": {
      "text/html": [
       "rho=-0.01; p-value=0.9608"
      ],
      "text/plain": [
       "<IPython.core.display.HTML object>"
      ]
     },
     "metadata": {},
     "output_type": "display_data"
    },
    {
     "data": {
      "image/png": "[encoded data removed]",
      "text/plain": [
       "<Figure size 432x288 with 1 Axes>"
      ]
     },
     "metadata": {
      "needs_background": "light"
     },
     "output_type": "display_data"
    },
    {
     "data": {
      "text/html": [
       "TESQ_E_sum"
      ],
      "text/plain": [
       "<IPython.core.display.HTML object>"
      ]
     },
     "metadata": {},
     "output_type": "display_data"
    },
    {
     "data": {
      "text/html": [
       "r=0.07; p-value=0.5362"
      ],
      "text/plain": [
       "<IPython.core.display.HTML object>"
      ]
     },
     "metadata": {},
     "output_type": "display_data"
    },
    {
     "data": {
      "text/html": [
       "rho=0.10; p-value=0.3915"
      ],
      "text/plain": [
       "<IPython.core.display.HTML object>"
      ]
     },
     "metadata": {},
     "output_type": "display_data"
    },
    {
     "data": {
      "image/png": "[encoded data removed]",
      "text/plain": [
       "<Figure size 432x288 with 1 Axes>"
      ]
     },
     "metadata": {
      "needs_background": "light"
     },
     "output_type": "display_data"
    },
    {
     "name": "stdout",
     "output_type": "stream",
     "text": [
      "inhibition_association-test_z_FDR_0.01\n",
      "635.574074074074\n"
     ]
    },
    {
     "name": "stderr",
     "output_type": "stream",
     "text": [
      "/home/bsmith16/.conda/envs/py3_mvpa/lib/python3.8/site-packages/scipy/ndimage/measurements.py:305: DeprecationWarning: In future, it will be an error for 'np.bool_' scalars to be interpreted as an index\n",
      "  return _nd_image.find_objects(input, max_label)\n"
     ]
    },
    {
     "data": {
      "image/png": "[encoded data removed]",
      "text/plain": [
       "<Figure size 525.6x187.2 with 5 Axes>"
      ]
     },
     "metadata": {},
     "output_type": "display_data"
    },
    {
     "name": "stdout",
     "output_type": "stream",
     "text": [
      ".................................................................................\n",
      "0.6790123456790124 0.9382716049382716\n",
      "(0.6790123456790124, 0.9382716049382716)\n"
     ]
    },
    {
     "data": {
      "text/html": [
       "bf_1"
      ],
      "text/plain": [
       "<IPython.core.display.HTML object>"
      ]
     },
     "metadata": {},
     "output_type": "display_data"
    },
    {
     "data": {
      "text/html": [
       "r=0.16; p-value=0.1678"
      ],
      "text/plain": [
       "<IPython.core.display.HTML object>"
      ]
     },
     "metadata": {},
     "output_type": "display_data"
    },
    {
     "data": {
      "text/html": [
       "rho=0.17; p-value=0.1511"
      ],
      "text/plain": [
       "<IPython.core.display.HTML object>"
      ]
     },
     "metadata": {},
     "output_type": "display_data"
    },
    {
     "data": {
      "image/png": "[encoded data removed]",
      "text/plain": [
       "<Figure size 432x288 with 1 Axes>"
      ]
     },
     "metadata": {
      "needs_background": "light"
     },
     "output_type": "display_data"
    },
    {
     "data": {
      "text/html": [
       "cancer_promoting_minus_preventing_FFQ"
      ],
      "text/plain": [
       "<IPython.core.display.HTML object>"
      ]
     },
     "metadata": {},
     "output_type": "display_data"
    },
    {
     "data": {
      "text/html": [
       "r=-0.07; p-value=0.5331"
      ],
      "text/plain": [
       "<IPython.core.display.HTML object>"
      ]
     },
     "metadata": {},
     "output_type": "display_data"
    },
    {
     "data": {
      "text/html": [
       "rho=-0.05; p-value=0.6716"
      ],
      "text/plain": [
       "<IPython.core.display.HTML object>"
      ]
     },
     "metadata": {},
     "output_type": "display_data"
    },
    {
     "data": {
      "image/png": "[encoded data removed]",
      "text/plain": [
       "<Figure size 432x288 with 1 Axes>"
      ]
     },
     "metadata": {
      "needs_background": "light"
     },
     "output_type": "display_data"
    },
    {
     "data": {
      "text/html": [
       "TESQ_E_sum"
      ],
      "text/plain": [
       "<IPython.core.display.HTML object>"
      ]
     },
     "metadata": {},
     "output_type": "display_data"
    },
    {
     "data": {
      "text/html": [
       "r=0.01; p-value=0.9432"
      ],
      "text/plain": [
       "<IPython.core.display.HTML object>"
      ]
     },
     "metadata": {},
     "output_type": "display_data"
    },
    {
     "data": {
      "text/html": [
       "rho=0.03; p-value=0.8269"
      ],
      "text/plain": [
       "<IPython.core.display.HTML object>"
      ]
     },
     "metadata": {},
     "output_type": "display_data"
    },
    {
     "data": {
      "image/png": "[encoded data removed]",
      "text/plain": [
       "<Figure size 432x288 with 1 Axes>"
      ]
     },
     "metadata": {
      "needs_background": "light"
     },
     "output_type": "display_data"
    },
    {
     "name": "stdout",
     "output_type": "stream",
     "text": [
      "error_association-test_z_FDR_0.01\n",
      "402.7654320987654\n"
     ]
    },
    {
     "name": "stderr",
     "output_type": "stream",
     "text": [
      "/home/bsmith16/.conda/envs/py3_mvpa/lib/python3.8/site-packages/scipy/ndimage/measurements.py:305: DeprecationWarning: In future, it will be an error for 'np.bool_' scalars to be interpreted as an index\n",
      "  return _nd_image.find_objects(input, max_label)\n"
     ]
    },
    {
     "data": {
      "image/png": "[encoded data removed]",
      "text/plain": [
       "<Figure size 525.6x187.2 with 5 Axes>"
      ]
     },
     "metadata": {},
     "output_type": "display_data"
    },
    {
     "name": "stdout",
     "output_type": "stream",
     "text": [
      ".................................................................................\n",
      "0.6851851851851852 0.9135802469135802\n",
      "(0.6851851851851852, 0.9135802469135802)\n"
     ]
    },
    {
     "data": {
      "text/html": [
       "bf_1"
      ],
      "text/plain": [
       "<IPython.core.display.HTML object>"
      ]
     },
     "metadata": {},
     "output_type": "display_data"
    },
    {
     "data": {
      "text/html": [
       "r=-0.08; p-value=0.5110"
      ],
      "text/plain": [
       "<IPython.core.display.HTML object>"
      ]
     },
     "metadata": {},
     "output_type": "display_data"
    },
    {
     "data": {
      "text/html": [
       "rho=-0.04; p-value=0.7508"
      ],
      "text/plain": [
       "<IPython.core.display.HTML object>"
      ]
     },
     "metadata": {},
     "output_type": "display_data"
    },
    {
     "data": {
      "image/png": "[encoded data removed]",
      "text/plain": [
       "<Figure size 432x288 with 1 Axes>"
      ]
     },
     "metadata": {
      "needs_background": "light"
     },
     "output_type": "display_data"
    },
    {
     "data": {
      "text/html": [
       "cancer_promoting_minus_preventing_FFQ"
      ],
      "text/plain": [
       "<IPython.core.display.HTML object>"
      ]
     },
     "metadata": {},
     "output_type": "display_data"
    },
    {
     "data": {
      "text/html": [
       "r=-0.05; p-value=0.6782"
      ],
      "text/plain": [
       "<IPython.core.display.HTML object>"
      ]
     },
     "metadata": {},
     "output_type": "display_data"
    },
    {
     "data": {
      "text/html": [
       "rho=-0.06; p-value=0.6092"
      ],
      "text/plain": [
       "<IPython.core.display.HTML object>"
      ]
     },
     "metadata": {},
     "output_type": "display_data"
    },
    {
     "data": {
      "image/png": "[encoded data removed]",
      "text/plain": [
       "<Figure size 432x288 with 1 Axes>"
      ]
     },
     "metadata": {
      "needs_background": "light"
     },
     "output_type": "display_data"
    },
    {
     "data": {
      "text/html": [
       "TESQ_E_sum"
      ],
      "text/plain": [
       "<IPython.core.display.HTML object>"
      ]
     },
     "metadata": {},
     "output_type": "display_data"
    },
    {
     "data": {
      "text/html": [
       "r=-0.06; p-value=0.5828"
      ],
      "text/plain": [
       "<IPython.core.display.HTML object>"
      ]
     },
     "metadata": {},
     "output_type": "display_data"
    },
    {
     "data": {
      "text/html": [
       "rho=0.03; p-value=0.7698"
      ],
      "text/plain": [
       "<IPython.core.display.HTML object>"
      ]
     },
     "metadata": {},
     "output_type": "display_data"
    },
    {
     "data": {
      "image/png": "[encoded data removed]",
      "text/plain": [
       "<Figure size 432x288 with 1 Axes>"
      ]
     },
     "metadata": {
      "needs_background": "light"
     },
     "output_type": "display_data"
    },
    {
     "name": "stdout",
     "output_type": "stream",
     "text": [
      "harvardoxford-cortical_prob_Frontal Orbital Cortex\n",
      "3024.91975308642\n"
     ]
    },
    {
     "name": "stderr",
     "output_type": "stream",
     "text": [
      "/home/bsmith16/.conda/envs/py3_mvpa/lib/python3.8/site-packages/scipy/ndimage/measurements.py:305: DeprecationWarning: In future, it will be an error for 'np.bool_' scalars to be interpreted as an index\n",
      "  return _nd_image.find_objects(input, max_label)\n"
     ]
    },
    {
     "data": {
      "image/png": "[encoded data removed]",
      "text/plain": [
       "<Figure size 525.6x187.2 with 5 Axes>"
      ]
     },
     "metadata": {},
     "output_type": "display_data"
    },
    {
     "name": "stdout",
     "output_type": "stream",
     "text": [
      ".................................................................................\n",
      "0.691358024691358 0.9629629629629629\n",
      "(0.691358024691358, 0.9629629629629629)\n"
     ]
    },
    {
     "data": {
      "text/html": [
       "bf_1"
      ],
      "text/plain": [
       "<IPython.core.display.HTML object>"
      ]
     },
     "metadata": {},
     "output_type": "display_data"
    },
    {
     "data": {
      "text/html": [
       "r=-0.15; p-value=0.1992"
      ],
      "text/plain": [
       "<IPython.core.display.HTML object>"
      ]
     },
     "metadata": {},
     "output_type": "display_data"
    },
    {
     "data": {
      "text/html": [
       "rho=-0.13; p-value=0.2846"
      ],
      "text/plain": [
       "<IPython.core.display.HTML object>"
      ]
     },
     "metadata": {},
     "output_type": "display_data"
    },
    {
     "data": {
      "image/png": "[encoded data removed]",
      "text/plain": [
       "<Figure size 432x288 with 1 Axes>"
      ]
     },
     "metadata": {
      "needs_background": "light"
     },
     "output_type": "display_data"
    },
    {
     "data": {
      "text/html": [
       "cancer_promoting_minus_preventing_FFQ"
      ],
      "text/plain": [
       "<IPython.core.display.HTML object>"
      ]
     },
     "metadata": {},
     "output_type": "display_data"
    },
    {
     "data": {
      "text/html": [
       "r=0.06; p-value=0.5871"
      ],
      "text/plain": [
       "<IPython.core.display.HTML object>"
      ]
     },
     "metadata": {},
     "output_type": "display_data"
    },
    {
     "data": {
      "text/html": [
       "rho=0.05; p-value=0.6479"
      ],
      "text/plain": [
       "<IPython.core.display.HTML object>"
      ]
     },
     "metadata": {},
     "output_type": "display_data"
    },
    {
     "data": {
      "image/png": "[encoded data removed]",
      "text/plain": [
       "<Figure size 432x288 with 1 Axes>"
      ]
     },
     "metadata": {
      "needs_background": "light"
     },
     "output_type": "display_data"
    },
    {
     "data": {
      "text/html": [
       "TESQ_E_sum"
      ],
      "text/plain": [
       "<IPython.core.display.HTML object>"
      ]
     },
     "metadata": {},
     "output_type": "display_data"
    },
    {
     "data": {
      "text/html": [
       "r=0.02; p-value=0.8398"
      ],
      "text/plain": [
       "<IPython.core.display.HTML object>"
      ]
     },
     "metadata": {},
     "output_type": "display_data"
    },
    {
     "data": {
      "text/html": [
       "rho=0.06; p-value=0.6301"
      ],
      "text/plain": [
       "<IPython.core.display.HTML object>"
      ]
     },
     "metadata": {},
     "output_type": "display_data"
    },
    {
     "data": {
      "image/png": "[encoded data removed]",
      "text/plain": [
       "<Figure size 432x288 with 1 Axes>"
      ]
     },
     "metadata": {
      "needs_background": "light"
     },
     "output_type": "display_data"
    },
    {
     "name": "stdout",
     "output_type": "stream",
     "text": [
      "harvardoxford-cortical_prob_Inferior Frontal Gyrus, pars opercularis\n",
      "2344.4506172839506\n"
     ]
    },
    {
     "name": "stderr",
     "output_type": "stream",
     "text": [
      "/home/bsmith16/.conda/envs/py3_mvpa/lib/python3.8/site-packages/scipy/ndimage/measurements.py:305: DeprecationWarning: In future, it will be an error for 'np.bool_' scalars to be interpreted as an index\n",
      "  return _nd_image.find_objects(input, max_label)\n"
     ]
    },
    {
     "data": {
      "image/png": "[encoded data removed]",
      "text/plain": [
       "<Figure size 525.6x187.2 with 5 Axes>"
      ]
     },
     "metadata": {},
     "output_type": "display_data"
    },
    {
     "name": "stdout",
     "output_type": "stream",
     "text": [
      ".................................................................................\n",
      "0.654320987654321 0.2222222222222222\n",
      "(0.654320987654321, 0.2222222222222222)\n"
     ]
    },
    {
     "data": {
      "text/html": [
       "bf_1"
      ],
      "text/plain": [
       "<IPython.core.display.HTML object>"
      ]
     },
     "metadata": {},
     "output_type": "display_data"
    },
    {
     "data": {
      "text/html": [
       "r=0.15; p-value=0.2034"
      ],
      "text/plain": [
       "<IPython.core.display.HTML object>"
      ]
     },
     "metadata": {},
     "output_type": "display_data"
    },
    {
     "data": {
      "text/html": [
       "rho=0.13; p-value=0.2920"
      ],
      "text/plain": [
       "<IPython.core.display.HTML object>"
      ]
     },
     "metadata": {},
     "output_type": "display_data"
    },
    {
     "data": {
      "image/png": "[encoded data removed]",
      "text/plain": [
       "<Figure size 432x288 with 1 Axes>"
      ]
     },
     "metadata": {
      "needs_background": "light"
     },
     "output_type": "display_data"
    },
    {
     "data": {
      "text/html": [
       "cancer_promoting_minus_preventing_FFQ"
      ],
      "text/plain": [
       "<IPython.core.display.HTML object>"
      ]
     },
     "metadata": {},
     "output_type": "display_data"
    },
    {
     "data": {
      "text/html": [
       "r=-0.01; p-value=0.9461"
      ],
      "text/plain": [
       "<IPython.core.display.HTML object>"
      ]
     },
     "metadata": {},
     "output_type": "display_data"
    },
    {
     "data": {
      "text/html": [
       "rho=0.00; p-value=0.9927"
      ],
      "text/plain": [
       "<IPython.core.display.HTML object>"
      ]
     },
     "metadata": {},
     "output_type": "display_data"
    },
    {
     "data": {
      "image/png": "[encoded data removed]",
      "text/plain": [
       "<Figure size 432x288 with 1 Axes>"
      ]
     },
     "metadata": {
      "needs_background": "light"
     },
     "output_type": "display_data"
    },
    {
     "data": {
      "text/html": [
       "TESQ_E_sum"
      ],
      "text/plain": [
       "<IPython.core.display.HTML object>"
      ]
     },
     "metadata": {},
     "output_type": "display_data"
    },
    {
     "data": {
      "text/html": [
       "r=-0.10; p-value=0.3892"
      ],
      "text/plain": [
       "<IPython.core.display.HTML object>"
      ]
     },
     "metadata": {},
     "output_type": "display_data"
    },
    {
     "data": {
      "text/html": [
       "rho=-0.14; p-value=0.2328"
      ],
      "text/plain": [
       "<IPython.core.display.HTML object>"
      ]
     },
     "metadata": {},
     "output_type": "display_data"
    },
    {
     "data": {
      "image/png": "[encoded data removed]",
      "text/plain": [
       "<Figure size 432x288 with 1 Axes>"
      ]
     },
     "metadata": {
      "needs_background": "light"
     },
     "output_type": "display_data"
    },
    {
     "name": "stdout",
     "output_type": "stream",
     "text": [
      "harvardoxford-cortical_prob_Inferior Frontal Gyrus, pars triangularis\n",
      "1943.0246913580247\n"
     ]
    },
    {
     "name": "stderr",
     "output_type": "stream",
     "text": [
      "/home/bsmith16/.conda/envs/py3_mvpa/lib/python3.8/site-packages/scipy/ndimage/measurements.py:305: DeprecationWarning: In future, it will be an error for 'np.bool_' scalars to be interpreted as an index\n",
      "  return _nd_image.find_objects(input, max_label)\n"
     ]
    },
    {
     "data": {
      "image/png": "[encoded data removed]",
      "text/plain": [
       "<Figure size 525.6x187.2 with 5 Axes>"
      ]
     },
     "metadata": {},
     "output_type": "display_data"
    },
    {
     "name": "stdout",
     "output_type": "stream",
     "text": [
      ".................................................................................\n",
      "0.691358024691358 0.7407407407407407\n",
      "(0.691358024691358, 0.7407407407407407)\n"
     ]
    },
    {
     "data": {
      "text/html": [
       "bf_1"
      ],
      "text/plain": [
       "<IPython.core.display.HTML object>"
      ]
     },
     "metadata": {},
     "output_type": "display_data"
    },
    {
     "data": {
      "text/html": [
       "r=-0.09; p-value=0.4526"
      ],
      "text/plain": [
       "<IPython.core.display.HTML object>"
      ]
     },
     "metadata": {},
     "output_type": "display_data"
    },
    {
     "data": {
      "text/html": [
       "rho=-0.10; p-value=0.4089"
      ],
      "text/plain": [
       "<IPython.core.display.HTML object>"
      ]
     },
     "metadata": {},
     "output_type": "display_data"
    },
    {
     "data": {
      "image/png": "[encoded data removed]",
      "text/plain": [
       "<Figure size 432x288 with 1 Axes>"
      ]
     },
     "metadata": {
      "needs_background": "light"
     },
     "output_type": "display_data"
    },
    {
     "data": {
      "text/html": [
       "cancer_promoting_minus_preventing_FFQ"
      ],
      "text/plain": [
       "<IPython.core.display.HTML object>"
      ]
     },
     "metadata": {},
     "output_type": "display_data"
    },
    {
     "data": {
      "text/html": [
       "r=0.03; p-value=0.7722"
      ],
      "text/plain": [
       "<IPython.core.display.HTML object>"
      ]
     },
     "metadata": {},
     "output_type": "display_data"
    },
    {
     "data": {
      "text/html": [
       "rho=-0.02; p-value=0.8791"
      ],
      "text/plain": [
       "<IPython.core.display.HTML object>"
      ]
     },
     "metadata": {},
     "output_type": "display_data"
    },
    {
     "data": {
      "image/png": "[encoded data removed]",
      "text/plain": [
       "<Figure size 432x288 with 1 Axes>"
      ]
     },
     "metadata": {
      "needs_background": "light"
     },
     "output_type": "display_data"
    },
    {
     "data": {
      "text/html": [
       "TESQ_E_sum"
      ],
      "text/plain": [
       "<IPython.core.display.HTML object>"
      ]
     },
     "metadata": {},
     "output_type": "display_data"
    },
    {
     "data": {
      "text/html": [
       "r=0.07; p-value=0.5715"
      ],
      "text/plain": [
       "<IPython.core.display.HTML object>"
      ]
     },
     "metadata": {},
     "output_type": "display_data"
    },
    {
     "data": {
      "text/html": [
       "rho=0.08; p-value=0.4790"
      ],
      "text/plain": [
       "<IPython.core.display.HTML object>"
      ]
     },
     "metadata": {},
     "output_type": "display_data"
    },
    {
     "data": {
      "image/png": "[encoded data removed]",
      "text/plain": [
       "<Figure size 432x288 with 1 Axes>"
      ]
     },
     "metadata": {
      "needs_background": "light"
     },
     "output_type": "display_data"
    }
   ],
   "source": [
    "forced_choice_results_dict = {}\n",
    "for m_i,m_r in all_masks.iterrows():\n",
    "    mask_name=m_r['mask_name']\n",
    "    brain_data_filepath = (\n",
    "        \"/gpfs/projects/sanlab/shared/DEV/nonbids_data/fMRI/ml/SST/mvpa_Dataset_conditions_84subs_correct_cond_\" +\n",
    "        mask_name\n",
    "        + \".pkl\"\n",
    "    )\n",
    "    if os.path.exists(brain_data_filepath):\n",
    "        with open(brain_data_filepath, 'rb') as pkl_file:\n",
    "            Brain_Data_allsubs = pickle.load(pkl_file)\n",
    "            \n",
    "        print(mask_name)\n",
    "\n",
    "        Brain_Data_allsubs = setup_metadata(Brain_Data_allsubs)\n",
    "        \n",
    "        print(sum(sum(Brain_Data_allsubs.samples>0))/len(Brain_Data_allsubs.samples))\n",
    "        \n",
    "        masked_preview = unmask(Brain_Data_allsubs.samples[0], Brain_Data_allsubs.a['mask_nifti'].value)\n",
    "        plotting.plot_stat_map(masked_preview,vmax=18)\n",
    "        plotting.show()\n",
    "        forced_choice_results = do_forced_choice(Brain_Data_allsubs,get_predict_and_prob=do_SVC)\n",
    "        print(\"\")\n",
    "        \n",
    "        prediction = np.mean(forced_choice_results['sample_wise']['target_y']==forced_choice_results['sample_wise']['pred_y'])\n",
    "        forced_choice_prediction = np.mean(forced_choice_results['sample_wise']['target_y']==forced_choice_results['sample_wise']['pred_y_forced_choice'])\n",
    "        \n",
    "        forced_choice_results['sample_wise']['ln_inv_pred_prob_CorrectGo']=inv_log_transform(forced_choice_results['sample_wise']['pred_prob_CorrectGo'])\n",
    "        forced_choice_results['sample_wise']['ln_inv_pred_prob_CorrectStop']=inv_log_transform(forced_choice_results['sample_wise']['pred_prob_CorrectStop'])\n",
    "\n",
    "\n",
    "        \n",
    "        print(prediction,forced_choice_prediction)\n",
    "\n",
    "        forced_choice_results_dict[mask_name]=forced_choice_results\n",
    "        print_forced_choice_results(forced_choice_results,individual_differences,['ln_inv_pred_prob_CorrectStop'])"
   ]
  },
  {
   "cell_type": "code",
   "execution_count": 41,
   "id": "female-option",
   "metadata": {},
   "outputs": [],
   "source": [
    "SVC_proba_masked = forced_choice_results_dict"
   ]
  },
  {
   "cell_type": "markdown",
   "id": "ceramic-toronto",
   "metadata": {},
   "source": [
    "## Contrast between CorrectStop and CorrectGo..."
   ]
  },
  {
   "cell_type": "markdown",
   "id": "empirical-number",
   "metadata": {},
   "source": [
    "This does a _regression_ of the beta image on the covariate rather than measuring the discriminability-covariate correlation."
   ]
  },
  {
   "cell_type": "code",
   "execution_count": 44,
   "id": "painful-recommendation",
   "metadata": {},
   "outputs": [],
   "source": [
    "def print_regression_results(forced_choice_results, neural_measures = ['mae']):\n",
    "    sample_wise_results = forced_choice_results['sample_wise']\n",
    "#    cs_cs_prob = sample_wise_results.loc[sample_wise_results.target_y=='CorrectStop']\n",
    "\n",
    "    individual_differences['subj_wave'] = individual_differences.subject+\"_\"+individual_differences.wave.astype(str)\n",
    "    full_dataset_cs = individual_differences.merge(sample_wise_results,how='outer',left_on='subj_wave',right_on='chunks')\n",
    "    print(full_dataset_cs.columns)\n",
    "    full_dataset_cs = remove_selected_outliers_mvpa_tesq_study(\n",
    "        full_dataset_cs,neural_measures = neural_measures,\n",
    "        show_plot=False)\n",
    "    \n",
    "    #https://docs.google.com/presentation/d/10tKHw1VF2WiMapvKXkh2C9VeFHk6iCjTmc0tDTiugOk/edit#slide=id.g11512b79600_0_10\n",
    "    for nm in neural_measures:\n",
    "        visualize_corr(nm,'bf_1',full_dataset_cs)\n",
    "        visualize_corr(nm,'cancer_promoting_minus_preventing_FFQ',full_dataset_cs)\n",
    "        visualize_corr(nm,'TESQ_E_sum',full_dataset_cs)\n",
    "    \n",
    "    \n",
    "\n",
    "    "
   ]
  },
  {
   "cell_type": "code",
   "execution_count": 45,
   "id": "current-reduction",
   "metadata": {},
   "outputs": [],
   "source": [
    "forced_choice_results_dict = {}\n",
    "for m_i,m_r in all_masks.iterrows():\n",
    "    mask_name=m_r['mask_name']\n",
    "    brain_data_filepath = (\n",
    "        \"/gpfs/projects/sanlab/shared/DEV/nonbids_data/fMRI/ml/SST/mvpa_Dataset_conditions_84subs_correct_stop_go_contrast_\" +\n",
    "        mask_name\n",
    "        + \".pkl\"\n",
    "    )\n",
    "    if os.path.exists(brain_data_filepath):\n",
    "\n",
    "        target='SST_SSRT'\n",
    "\n",
    "        with open(brain_data_filepath, 'rb') as pkl_file:\n",
    "            Brain_Data_allsubs = pickle.load(pkl_file)\n",
    "\n",
    "        Brain_Data_allsubs = Brain_Data_allsubs[np.isnan(Brain_Data_allsubs.sa[target].value)==False]\n",
    "\n",
    "        print(mask_name)\n",
    "\n",
    "        Brain_Data_allsubs = setup_metadata(Brain_Data_allsubs,target,standardize=True)\n",
    "\n",
    "        print(sum(sum(Brain_Data_allsubs.samples>0))/len(Brain_Data_allsubs.samples))\n",
    "\n",
    "        masked_preview = unmask(Brain_Data_allsubs.samples[0], Brain_Data_allsubs.a['mask_nifti'].value)\n",
    "        plotting.plot_stat_map(masked_preview,vmax=18)\n",
    "        plotting.show()\n",
    "        forced_choice_results = do_regression(Brain_Data_allsubs,get_predict_and_prob=do_Ridge)\n",
    "        print(\"\")\n",
    "\n",
    "\n",
    "        forced_choice_results_dict[mask_name]=forced_choice_results\n",
    "        print_regression_results(forced_choice_results,['mae'])\n",
    "        \n",
    "mae_predictivity_masked = forced_choice_results_dict"
   ]
  },
  {
   "cell_type": "code",
   "execution_count": 46,
   "id": "reverse-lighter",
   "metadata": {},
   "outputs": [
    {
     "ename": "FileNotFoundError",
     "evalue": "[Errno 2] No such file or directory: '/gpfs/projects/sanlab/shared/DEV/nonbids_data/fMRI/ml/SST/mvpa_Dataset_conditions_84subs_correct_stop_go_contrast.pkl'",
     "output_type": "error",
     "traceback": [
      "\u001b[0;31m---------------------------------------------------------------------------\u001b[0m",
      "\u001b[0;31mFileNotFoundError\u001b[0m                         Traceback (most recent call last)",
      "Input \u001b[0;32mIn [46]\u001b[0m, in \u001b[0;36m<module>\u001b[0;34m\u001b[0m\n\u001b[1;32m      1\u001b[0m brain_data_filepath \u001b[38;5;241m=\u001b[39m (\n\u001b[1;32m      2\u001b[0m     \u001b[38;5;124m\"\u001b[39m\u001b[38;5;124m/gpfs/projects/sanlab/shared/DEV/nonbids_data/fMRI/ml/SST/mvpa_Dataset_conditions_84subs_correct_stop_go_contrast.pkl\u001b[39m\u001b[38;5;124m\"\u001b[39m\n\u001b[1;32m      3\u001b[0m )\n\u001b[1;32m      5\u001b[0m target\u001b[38;5;241m=\u001b[39m\u001b[38;5;124m'\u001b[39m\u001b[38;5;124mSST_SSRT\u001b[39m\u001b[38;5;124m'\u001b[39m\n\u001b[0;32m----> 7\u001b[0m \u001b[38;5;28;01mwith\u001b[39;00m \u001b[38;5;28;43mopen\u001b[39;49m\u001b[43m(\u001b[49m\u001b[43mbrain_data_filepath\u001b[49m\u001b[43m,\u001b[49m\u001b[43m \u001b[49m\u001b[38;5;124;43m'\u001b[39;49m\u001b[38;5;124;43mrb\u001b[39;49m\u001b[38;5;124;43m'\u001b[39;49m\u001b[43m)\u001b[49m \u001b[38;5;28;01mas\u001b[39;00m pkl_file:\n\u001b[1;32m      8\u001b[0m     Brain_Data_allsubs \u001b[38;5;241m=\u001b[39m pickle\u001b[38;5;241m.\u001b[39mload(pkl_file)\n\u001b[1;32m     10\u001b[0m Brain_Data_allsubs \u001b[38;5;241m=\u001b[39m Brain_Data_allsubs[np\u001b[38;5;241m.\u001b[39misnan(Brain_Data_allsubs\u001b[38;5;241m.\u001b[39msa[target]\u001b[38;5;241m.\u001b[39mvalue)\u001b[38;5;241m==\u001b[39m\u001b[38;5;28;01mFalse\u001b[39;00m]\n",
      "\u001b[0;31mFileNotFoundError\u001b[0m: [Errno 2] No such file or directory: '/gpfs/projects/sanlab/shared/DEV/nonbids_data/fMRI/ml/SST/mvpa_Dataset_conditions_84subs_correct_stop_go_contrast.pkl'"
     ]
    }
   ],
   "source": [
    "brain_data_filepath = (\n",
    "    \"/gpfs/projects/sanlab/shared/DEV/nonbids_data/fMRI/ml/SST/mvpa_Dataset_conditions_84subs_correct_stop_go_contrast.pkl\"\n",
    ")\n",
    "\n",
    "target='SST_SSRT'\n",
    "\n",
    "with open(brain_data_filepath, 'rb') as pkl_file:\n",
    "    Brain_Data_allsubs = pickle.load(pkl_file)\n",
    "\n",
    "Brain_Data_allsubs = Brain_Data_allsubs[np.isnan(Brain_Data_allsubs.sa[target].value)==False]\n",
    "\n",
    "print(mask_name)\n",
    "\n",
    "Brain_Data_allsubs = setup_metadata(Brain_Data_allsubs,target,standardize=True)\n",
    "\n",
    "print(sum(sum(Brain_Data_allsubs.samples>0))/len(Brain_Data_allsubs.samples))\n",
    "\n",
    "masked_preview = unmask(Brain_Data_allsubs.samples[0], Brain_Data_allsubs.a['mask_nifti'].value)\n",
    "plotting.plot_stat_map(masked_preview,vmax=18)\n",
    "plotting.show()\n",
    "forced_choice_results = do_regression(Brain_Data_allsubs,get_predict_and_prob=do_Ridge)\n",
    "print(\"\")\n",
    "\n",
    "\n",
    "forced_choice_results_dict[mask_name]=forced_choice_results\n",
    "print_regression_results(forced_choice_results,['mae'])"
   ]
  },
  {
   "cell_type": "code",
   "execution_count": null,
   "id": "aerial-blackberry",
   "metadata": {},
   "outputs": [],
   "source": [
    "mae_predictivity_wholebrain = forced_choice_results"
   ]
  },
  {
   "cell_type": "markdown",
   "id": "competitive-arizona",
   "metadata": {},
   "source": [
    "## Test 2"
   ]
  },
  {
   "cell_type": "code",
   "execution_count": null,
   "id": "consolidated-murder",
   "metadata": {},
   "outputs": [],
   "source": [
    "individual_differences = pd.read_csv(ml_data_folderpath + \"/data_by_ppt_2022_02_26.csv\")\n",
    "individual_differences = individual_differences.rename(columns={'SID':'subject'})\n",
    "individual_differences['wave']=1"
   ]
  },
  {
   "cell_type": "code",
   "execution_count": null,
   "id": "transparent-exhibition",
   "metadata": {},
   "outputs": [],
   "source": [
    "brain_data_filepath = (\n",
    "    \"/gpfs/projects/sanlab/shared/DEV/nonbids_data/fMRI/ml/SST/mvpa_Dataset_conditions_84subs_correct_cond.pkl\"\n",
    ")\n",
    "\n",
    "with open(brain_data_filepath, 'rb') as pkl_file:\n",
    "    Brain_Data_allsubs = pickle.load(pkl_file)\n",
    "\n",
    "Brain_Data_allsubs = setup_metadata(Brain_Data_allsubs)\n"
   ]
  },
  {
   "cell_type": "markdown",
   "id": "theoretical-comfort",
   "metadata": {},
   "source": [
    "So actually, probably neural activity explains additional variance in a very straightforward way.\n",
    "\n",
    "We found some relationships with FFQ. If these hold, it would be interesting to see support from them."
   ]
  },
  {
   "cell_type": "markdown",
   "id": "shaped-category",
   "metadata": {},
   "source": [
    "sooo...let's get a record of all the items from test 1 that we want to try running..."
   ]
  },
  {
   "cell_type": "code",
   "execution_count": null,
   "id": "indirect-lincoln",
   "metadata": {},
   "outputs": [],
   "source": [
    "def select_CS_trials(df):\n",
    "    return(df[df['target_y']=='CorrectStop'])\n",
    "\n",
    "def select_CS_and_labels(df):\n",
    "    return(df.loc[:,['chunks','pred_prob_CorrectStop']])\n",
    "\n",
    "def label_cols(df, prepend):\n",
    "    df1=df.copy()\n",
    "    df1.columns = [prepend + c if c!=\"chunks\" else c for c in df.columns]\n",
    "    return(df1)"
   ]
  },
  {
   "cell_type": "code",
   "execution_count": null,
   "id": "incomplete-turkish",
   "metadata": {},
   "outputs": [],
   "source": [
    "linearSVC_cor_wholebrain_CS_CS = label_cols(prepend=\"linearSVC_cor_wholebrain_CS_CS\", df=select_CS_and_labels(select_CS_trials(LinearSVC_correlation_wholebrain['sample_wise'])))\n",
    "linearSVC_cor_planning_CS_CS = label_cols(prepend=\"linearSVC_cor_planning_CS_CS\", df=select_CS_and_labels(select_CS_trials(LinearSVC_correlation_masked['planning_association-test_z_FDR_0.01']['sample_wise'])))\n",
    "SVC_prob_planning_CS_CS = label_cols(prepend=\"SVC_prob_planning_CS_CS\", df=select_CS_and_labels(select_CS_trials(SVC_proba_masked['planning_association-test_z_FDR_0.01']['sample_wise'])))\n",
    "SVC_prob_exec_function_CS_CS = label_cols(prepend=\"SVC_prob_exec_function_CS_CS\", df=select_CS_and_labels(select_CS_trials(SVC_proba_masked['executive function_association-test_z_FDR_0.01']['sample_wise'])))\n",
    "SVC_inhib_CS_CS = label_cols(prepend=\"SVC_inhib_CS_CS\", df=select_CS_and_labels(select_CS_trials(SVC_proba_masked['inhibition_association-test_z_FDR_0.01']['sample_wise'])))\n",
    "SVC_IFG_PT_CS_CS = label_cols(prepend=\"SVC_IFG_PT_CS_CS\", df=select_CS_and_labels(select_CS_trials(SVC_proba_masked['harvardoxford-cortical_prob_Inferior Frontal Gyrus, pars triangularis']['sample_wise'])))\n",
    "SVC_wholebrain_CS_CS = label_cols(prepend=\"SVC_wholebrain_CS_CS\", df=select_CS_and_labels(select_CS_trials(SVC_proba_wholebrain['sample_wise'])))"
   ]
  },
  {
   "cell_type": "code",
   "execution_count": null,
   "id": "measured-cement",
   "metadata": {},
   "outputs": [],
   "source": [
    "neural_all = pd.merge(pd.merge(pd.merge(pd.merge(pd.merge(pd.merge(\n",
    "        linearSVC_cor_wholebrain_CS_CS,\n",
    "        linearSVC_cor_planning_CS_CS),\n",
    "        SVC_prob_planning_CS_CS),\n",
    "        SVC_prob_exec_function_CS_CS),\n",
    "        SVC_inhib_CS_CS),\n",
    "        SVC_IFG_PT_CS_CS),\n",
    "        SVC_wholebrain_CS_CS)"
   ]
  },
  {
   "cell_type": "code",
   "execution_count": null,
   "id": "subsequent-blade",
   "metadata": {},
   "outputs": [],
   "source": []
  },
  {
   "cell_type": "code",
   "execution_count": null,
   "id": "crude-clock",
   "metadata": {},
   "outputs": [],
   "source": [
    "individual_differences['subj_wave'] = individual_differences.subject + \"_\" + individual_differences.wave.astype(str)"
   ]
  },
  {
   "cell_type": "code",
   "execution_count": null,
   "id": "animated-paint",
   "metadata": {},
   "outputs": [],
   "source": [
    "neural_behavioral = pd.merge(\n",
    "    neural_all,\n",
    "    individual_differences,\n",
    "    left_on='chunks',right_on='subj_wave')\n",
    "\n"
   ]
  },
  {
   "cell_type": "code",
   "execution_count": null,
   "id": "basic-constitutional",
   "metadata": {},
   "outputs": [],
   "source": [
    "neural_behavioral.to_csv(ml_data_folderpath + \"/analysis_v5_test1.csv\")"
   ]
  },
  {
   "cell_type": "code",
   "execution_count": null,
   "id": "chicken-graham",
   "metadata": {},
   "outputs": [],
   "source": [
    "ml_data_folderpath"
   ]
  },
  {
   "cell_type": "markdown",
   "id": "monthly-scout",
   "metadata": {},
   "source": [
    "# PES-related"
   ]
  },
  {
   "cell_type": "markdown",
   "id": "valuable-andorra",
   "metadata": {},
   "source": [
    "Discriminability"
   ]
  },
  {
   "cell_type": "code",
   "execution_count": null,
   "id": "undefined-texture",
   "metadata": {},
   "outputs": [],
   "source": [
    "pes_vars_of_interest  =['RTFS_factor_1','RTFS_factor_2','RTFS_f1_minus_f2', \n",
    "                        'SST_PostErrorSlowW1_median','SST_PostErrorSlowW1_mean','SST_pes_mean_limited',\n",
    "                        'FFQ_v2_Mean_Weighted_Nutrient_Density']"
   ]
  },
  {
   "cell_type": "code",
   "execution_count": null,
   "id": "instant-activation",
   "metadata": {},
   "outputs": [],
   "source": [
    "\n",
    "all_masks = get_failure_masks(ml_data_folderpath)"
   ]
  },
  {
   "cell_type": "markdown",
   "id": "unavailable-underground",
   "metadata": {},
   "source": [
    "## PES-related conditions separate"
   ]
  },
  {
   "cell_type": "markdown",
   "id": "variable-scout",
   "metadata": {},
   "source": [
    "whole-brain:"
   ]
  },
  {
   "cell_type": "code",
   "execution_count": null,
   "id": "military-italian",
   "metadata": {},
   "outputs": [],
   "source": [
    "np.random.seed(1646100326)"
   ]
  },
  {
   "cell_type": "code",
   "execution_count": null,
   "id": "generic-carrier",
   "metadata": {},
   "outputs": [],
   "source": [
    "print(\"whole brain\")\n",
    "brain_data_filepath = (\n",
    "    \"/gpfs/projects/sanlab/shared/DEV/nonbids_data/fMRI/ml/SST/mvpa_Dataset_posterror_conditions_84subs_post_stop_cg.pkl\"\n",
    ")\n",
    "\n",
    "with open(brain_data_filepath, 'rb') as pkl_file:\n",
    "    Brain_Data_allsubs = pickle.load(pkl_file)\n",
    "\n",
    "Brain_Data_allsubs = setup_metadata(Brain_Data_allsubs)\n",
    "\n",
    "print(sum(sum(Brain_Data_allsubs.samples>0))/len(Brain_Data_allsubs.samples))\n",
    "\n",
    "#masked_preview = unmask(Brain_Data_allsubs.samples[0], Brain_Data_allsubs.a['mask_nifti'].value)\n",
    "#plotting.plot_stat_map(masked_preview,vmax=18)\n",
    "\n",
    "forced_choice_results = do_forced_choice(Brain_Data_allsubs,get_predict_and_prob=do_SVC)\n"
   ]
  },
  {
   "cell_type": "code",
   "execution_count": null,
   "id": "traditional-clone",
   "metadata": {},
   "outputs": [],
   "source": [
    "\n",
    "forced_choice_results['sample_wise']['ln_inv_pred_prob_CGAfterCS']=inv_log_transform(forced_choice_results['sample_wise']['pred_prob_CorrectGoFollowingCorrectStop'])\n",
    "forced_choice_results['sample_wise']['ln_inv_pred_prob_CGAfterFS']=inv_log_transform(forced_choice_results['sample_wise']['pred_prob_CorrectGoFollowingFailedStop'])\n",
    "\n",
    "\n",
    "sample_wise_results = forced_choice_results['sample_wise']\n",
    "prediction = np.mean(forced_choice_results['sample_wise']['target_y']==forced_choice_results['sample_wise']['pred_y'])\n",
    "forced_choice_prediction = np.mean(forced_choice_results['sample_wise']['target_y']==forced_choice_results['sample_wise']['pred_y_forced_choice'])\n",
    "\n",
    "\n",
    "print_forced_choice_results(\n",
    "    forced_choice_results,\n",
    "    individual_differences,\n",
    "    ['ln_inv_pred_prob_CGAfterCS'],\n",
    "    behavioral_measures = pes_vars_of_interest,\n",
    "    target_y='CorrectGoFollowingCorrectStop')\n",
    "print_forced_choice_results(\n",
    "    forced_choice_results,\n",
    "    individual_differences,\n",
    "    ['ln_inv_pred_prob_CGAfterFS'],\n",
    "    behavioral_measures = pes_vars_of_interest,\n",
    "    target_y='CorrectGoFollowingFailedStop')\n",
    "\n",
    "print(prediction,forced_choice_prediction)"
   ]
  },
  {
   "cell_type": "code",
   "execution_count": null,
   "id": "promotional-algeria",
   "metadata": {},
   "outputs": [],
   "source": [
    "print(\"whole brain\")\n",
    "brain_data_filepath = (\n",
    "    \"/gpfs/projects/sanlab/shared/DEV/nonbids_data/fMRI/ml/SST/mvpa_Dataset_posterror_conditions_84subs_post_stop_cg.pkl\"\n",
    ")\n",
    "\n",
    "with open(brain_data_filepath, 'rb') as pkl_file:\n",
    "    Brain_Data_allsubs = pickle.load(pkl_file)\n",
    "\n",
    "Brain_Data_allsubs = setup_metadata(Brain_Data_allsubs)\n",
    "\n",
    "print(sum(sum(Brain_Data_allsubs.samples>0))/len(Brain_Data_allsubs.samples))\n",
    "\n",
    "#masked_preview = unmask(Brain_Data_allsubs.samples[0], Brain_Data_allsubs.a['mask_nifti'].value)\n",
    "#plotting.plot_stat_map(masked_preview,vmax=18)\n",
    "\n",
    "forced_choice_results = do_forced_choice(Brain_Data_allsubs,get_predict_and_prob=do_SVC)\n",
    "\n",
    "\n",
    "forced_choice_results['sample_wise']['ln_inv_pred_prob_CGAfterCS']=inv_log_transform(forced_choice_results['sample_wise']['pred_prob_CorrectGoFollowingCorrectStop'])\n",
    "forced_choice_results['sample_wise']['ln_inv_pred_prob_CGAfterFS']=inv_log_transform(forced_choice_results['sample_wise']['pred_prob_CorrectGoFollowingFailedStop'])\n",
    "\n",
    "\n",
    "sample_wise_results = forced_choice_results['sample_wise']\n",
    "prediction = np.mean(forced_choice_results['sample_wise']['target_y']==forced_choice_results['sample_wise']['pred_y'])\n",
    "forced_choice_prediction = np.mean(forced_choice_results['sample_wise']['target_y']==forced_choice_results['sample_wise']['pred_y_forced_choice'])\n",
    "\n",
    "print(prediction,forced_choice_prediction)\n",
    "\n",
    "print_forced_choice_results(\n",
    "    forced_choice_results,\n",
    "    individual_differences,\n",
    "    ['ln_inv_pred_prob_CGAfterCS'],\n",
    "    behavioral_measures = pes_vars_of_interest,\n",
    "    target_y='CorrectGoFollowingCorrectStop')\n",
    "print_forced_choice_results(\n",
    "    forced_choice_results,\n",
    "    individual_differences,\n",
    "    ['ln_inv_pred_prob_CGAfterFS'],\n",
    "    behavioral_measures = pes_vars_of_interest,\n",
    "    target_y='CorrectGoFollowingFailedStop')\n",
    "\n",
    "print(prediction,forced_choice_prediction)"
   ]
  },
  {
   "cell_type": "code",
   "execution_count": null,
   "id": "suspended-dating",
   "metadata": {},
   "outputs": [],
   "source": [
    "forced_choice_results['sample_wise']"
   ]
  },
  {
   "cell_type": "code",
   "execution_count": null,
   "id": "descending-piano",
   "metadata": {},
   "outputs": [],
   "source": [
    "SVC_proba_wholebrain = forced_choice_results"
   ]
  },
  {
   "cell_type": "markdown",
   "id": "ordered-belle",
   "metadata": {},
   "source": [
    "masked:"
   ]
  },
  {
   "cell_type": "code",
   "execution_count": null,
   "id": "professional-belarus",
   "metadata": {
    "scrolled": false
   },
   "outputs": [],
   "source": [
    "forced_choice_results_dict = {}\n",
    "for m_i,m_r in all_masks.iterrows():\n",
    "    mask_name=m_r['mask_name']\n",
    "    brain_data_filepath = (\n",
    "        \"/gpfs/projects/sanlab/shared/DEV/nonbids_data/fMRI/ml/SST/mvpa_Dataset_posterror_conditions_84subs_post_stop_cg_\" +\n",
    "        mask_name\n",
    "        + \".pkl\"\n",
    "    )\n",
    "    print(brain_data_filepath)\n",
    "    if os.path.exists(brain_data_filepath):\n",
    "        with open(brain_data_filepath, 'rb') as pkl_file:\n",
    "            Brain_Data_allsubs = pickle.load(pkl_file)\n",
    "            \n",
    "        print(mask_name)\n",
    "\n",
    "        Brain_Data_allsubs = setup_metadata(Brain_Data_allsubs)\n",
    "        \n",
    "        print(sum(sum(Brain_Data_allsubs.samples>0))/len(Brain_Data_allsubs.samples))\n",
    "        \n",
    "        masked_preview = unmask(Brain_Data_allsubs.samples[0], Brain_Data_allsubs.a['mask_nifti'].value)\n",
    "        plotting.plot_stat_map(masked_preview,vmax=18)\n",
    "        plotting.show()\n",
    "        forced_choice_results = do_forced_choice(Brain_Data_allsubs,get_predict_and_prob=do_SVC)\n",
    "        \n",
    "        \n",
    "        prediction = np.mean(forced_choice_results['sample_wise']['target_y']==forced_choice_results['sample_wise']['pred_y'])\n",
    "        forced_choice_prediction = np.mean(forced_choice_results['sample_wise']['target_y']==forced_choice_results['sample_wise']['pred_y_forced_choice'])\n",
    "        \n",
    "        forced_choice_results['sample_wise']['ln_inv_pred_prob_CGAfterCS']=inv_log_transform(forced_choice_results['sample_wise']['pred_prob_CorrectGoFollowingCorrectStop'])\n",
    "        forced_choice_results['sample_wise']['ln_inv_pred_prob_CGAfterFS']=inv_log_transform(forced_choice_results['sample_wise']['pred_prob_CorrectGoFollowingFailedStop'])\n",
    "\n",
    "        print(prediction,forced_choice_prediction)\n",
    "\n",
    "        forced_choice_results_dict[mask_name]=forced_choice_results\n",
    "\n",
    "        \n",
    "        print_forced_choice_results(\n",
    "            forced_choice_results,\n",
    "            individual_differences,\n",
    "            ['ln_inv_pred_prob_CGAfterCS'],\n",
    "            behavioral_measures = pes_vars_of_interest,\n",
    "            target_y='CorrectGoFollowingCorrectStop')\n",
    "        print_forced_choice_results(\n",
    "            forced_choice_results,\n",
    "            individual_differences,\n",
    "            ['ln_inv_pred_prob_CGAfterFS'],\n",
    "            behavioral_measures = pes_vars_of_interest,\n",
    "            target_y='CorrectGoFollowingFailedStop')"
   ]
  },
  {
   "cell_type": "code",
   "execution_count": null,
   "id": "handled-superior",
   "metadata": {},
   "outputs": [],
   "source": [
    "pes_proba_masked = forced_choice_results_dict"
   ]
  },
  {
   "cell_type": "code",
   "execution_count": null,
   "id": "adequate-alcohol",
   "metadata": {},
   "outputs": [],
   "source": [
    "def select_trials_by_type(df,trial_type):\n",
    "    return(df[df['target_y']==trial_type])\n",
    "\n",
    "def select_prob_col_with_label(df,prob_col):\n",
    "    return(df.loc[:,['chunks',prob_col]])\n",
    "\n",
    "\n",
    "# def select_CS_trials(df):\n",
    "#     return(df[df['pred_y_forced_choice']=='CorrectStop'])\n",
    "\n",
    "# def select_CS_and_labels(df):\n",
    "#     return(df.loc[:,['chunks','pred_prob_CorrectStop']])\n",
    "\n",
    "def label_cols(df, prepend):\n",
    "    df1=df.copy()\n",
    "    df1.columns = [prepend + c if c!=\"chunks\" else c for c in df.columns]\n",
    "    return(df1)\n"
   ]
  },
  {
   "cell_type": "code",
   "execution_count": null,
   "id": "marine-excerpt",
   "metadata": {},
   "outputs": [],
   "source": [
    "pes_proba_masked['harvardoxford-cortical_prob_Frontal Orbital Cortex']['sample_wise']"
   ]
  },
  {
   "cell_type": "code",
   "execution_count": null,
   "id": "coordinate-checklist",
   "metadata": {},
   "outputs": [],
   "source": [
    "pes_proba_masked.keys()"
   ]
  },
  {
   "cell_type": "code",
   "execution_count": null,
   "id": "heavy-pavilion",
   "metadata": {},
   "outputs": [],
   "source": [
    "CG_p_CS_wholebrain = label_cols(\n",
    "    select_prob_col_with_label(\n",
    "    select_trials_by_type(SVC_proba_wholebrain['sample_wise'],'CorrectGoFollowingCorrectStop'),\n",
    "    \"pred_prob_CorrectGoFollowingCorrectStop\"\n",
    "),'CG_p_CS_wholebrain_')\n",
    "\n",
    "CG_p_FS_wholebrain = label_cols(\n",
    "    select_prob_col_with_label(\n",
    "    select_trials_by_type(SVC_proba_wholebrain['sample_wise'],'CorrectGoFollowingFailedStop'),\n",
    "    \"pred_prob_CorrectGoFollowingFailedStop\"\n",
    "),'CG_p_FS_wholebrain_')\n",
    "\n",
    "CG_p_FS_emotion_regulation = label_cols(\n",
    "    select_prob_col_with_label(\n",
    "    select_trials_by_type(\n",
    "        pes_proba_masked['emotion regulation_association-test_z_FDR_0.01']['sample_wise']\n",
    "        ,'CorrectGoFollowingFailedStop'),\n",
    "    \"pred_prob_CorrectGoFollowingFailedStop\"\n",
    "),'CG_p_FS_Frontal Orbital Cortex_')\n",
    "\n",
    "CG_p_FS_Frontal_Orbital_Cortex = label_cols(\n",
    "    select_prob_col_with_label(\n",
    "    select_trials_by_type(\n",
    "        pes_proba_masked['harvardoxford-cortical_prob_Frontal Orbital Cortex']['sample_wise']\n",
    "        ,'CorrectGoFollowingFailedStop'),\n",
    "    \"pred_prob_CorrectGoFollowingFailedStop\"\n",
    "),'CG_p_FS_Frontal Orbital Cortex_')\n",
    "\n",
    "# CG_p_CS_ACC = label_cols(\n",
    "#     select_prob_col_with_label(\n",
    "#     select_trials_by_type(\n",
    "#         pes_proba_masked['harvardoxford-cortical_prob_Cingulate Gyrus, anterior division']['sample_wise']\n",
    "#         ,'CorrectGoFollowingCorrectStop'),\n",
    "#     \"pred_prob_CorrectGoFollowingCorrectStop\"\n",
    "# ),'CG_p_CS_ACC_')\n",
    "\n",
    "# CG_p_CS_Negative_Affect = label_cols(\n",
    "#     select_prob_col_with_label(\n",
    "#     select_trials_by_type(\n",
    "#         pes_proba_masked['negative affect_association-test_z_FDR_0.01']['sample_wise']\n",
    "#         ,'CorrectGoFollowingCorrectStop'),\n",
    "#     \"pred_prob_CorrectGoFollowingCorrectStop\"\n",
    "# ),'CG_p_CS_negative affect_')"
   ]
  },
  {
   "cell_type": "code",
   "execution_count": null,
   "id": "physical-david",
   "metadata": {},
   "outputs": [],
   "source": [
    "neural_all = pd.merge(pd.merge(pd.merge(\n",
    "        CG_p_CS_wholebrain,\n",
    "        CG_p_FS_wholebrain),\n",
    "        CG_p_FS_emotion_regulation),\n",
    "        CG_p_FS_Frontal_Orbital_Cortex)"
   ]
  },
  {
   "cell_type": "code",
   "execution_count": null,
   "id": "infrared-windows",
   "metadata": {},
   "outputs": [],
   "source": [
    "neural_behavioral = pd.merge(\n",
    "    neural_all,\n",
    "    individual_differences,\n",
    "    left_on='chunks',right_on='subj_wave')\n",
    "\n"
   ]
  },
  {
   "cell_type": "code",
   "execution_count": null,
   "id": "trained-canvas",
   "metadata": {},
   "outputs": [],
   "source": [
    "neural_behavioral.to_csv(ml_data_folderpath + \"/analysis_v5_pes_test1.csv\")"
   ]
  },
  {
   "cell_type": "code",
   "execution_count": null,
   "id": "caring-purple",
   "metadata": {},
   "outputs": [],
   "source": []
  }
 ],
 "metadata": {
  "kernelspec": {
   "display_name": "Python [conda env:.conda-py3_mvpa]",
   "language": "python",
   "name": "conda-env-.conda-py3_mvpa-py"
  },
  "language_info": {
   "codemirror_mode": {
    "name": "ipython",
    "version": 3
   },
   "file_extension": ".py",
   "mimetype": "text/x-python",
   "name": "python",
   "nbconvert_exporter": "python",
   "pygments_lexer": "ipython3",
   "version": "3.8.12"
  }
 },
 "nbformat": 4,
 "nbformat_minor": 5
}
