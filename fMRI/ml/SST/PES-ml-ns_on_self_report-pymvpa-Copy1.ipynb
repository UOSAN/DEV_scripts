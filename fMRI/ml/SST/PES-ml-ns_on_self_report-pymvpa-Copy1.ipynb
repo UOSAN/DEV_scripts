{
 "cells": [
  {
   "cell_type": "markdown",
   "id": "angry-conspiracy",
   "metadata": {
    "tags": []
   },
   "source": [
    "This builds on TESQ-ml-ns-nogo-go\n",
    "\n",
    "> **proposal 1**\n",
    "> \n",
    "> Two class (e.g., CorrectStop vs. CorrectGo)\n",
    "> \n",
    "> Leave-One-Out classifier...\n",
    "> \n",
    "> Neural similarity of a subject to the group with a Stop vs. Go contrast might actually be indicative of performance.\n",
    "> \n",
    "> subjects will naturally differ across the task as to how much their average signal responds to that, and the ones with better response might have better response inhibition.\n",
    "\n",
    "We use the same neural data, but instead of regressing on classifying these classes, we take one class or the other or we combine them in some way and we regress on our self report variables."
   ]
  },
  {
   "cell_type": "markdown",
   "id": "humanitarian-discretion",
   "metadata": {},
   "source": [
    "So there are a couple of steps here...\n",
    "\n",
    "1. iterate through subjects, holding out one at a time, and do the following steps.\n",
    "2. Train a regressor across all the training subjects, regressing CorrectStop and CorrectGo on TESQ-E and other self report measures including FFQ either (a) independently (b) contrasted with each other (c) concatenated in a single image.\n",
    "3. If a link can be established, we've shown there is a relevant link between TESQ-E or other self-report measure, and the neural signature.\n",
    "4. ...that seems like a publication in itself!\n",
    "\n",
    "\n"
   ]
  },
  {
   "cell_type": "markdown",
   "id": "taken-certification",
   "metadata": {},
   "source": [
    "As a first pass, we can simplify this a bit just trying that single classifier on all subjects. This means that we're using train for tes tset but it will give us an initial measure of feasibility.\n",
    "\n",
    "We probably do need to restrict to a specific brain region though, and that means retraining. - I think that prefrontal cortex mask we have works well."
   ]
  },
  {
   "cell_type": "markdown",
   "id": "oriental-glucose",
   "metadata": {},
   "source": [
    "## Data already generated"
   ]
  },
  {
   "cell_type": "markdown",
   "id": "opponent-oxford",
   "metadata": {},
   "source": [
    "Can we use data already generated in `SST_inhibition_cv.ipynb`?"
   ]
  },
  {
   "cell_type": "code",
   "execution_count": 1,
   "id": "mineral-pillow",
   "metadata": {},
   "outputs": [
    {
     "name": "stderr",
     "output_type": "stream",
     "text": [
      "/tmp/ipykernel_14189/659417397.py:2: DeprecationWarning: Importing display from IPython.core.display is deprecated since IPython 7.14, please import from IPython display\n",
      "  from IPython.core.display import display, HTML, Markdown\n"
     ]
    }
   ],
   "source": [
    "import pickle\n",
    "from IPython.core.display import display, HTML, Markdown"
   ]
  },
  {
   "cell_type": "code",
   "execution_count": 2,
   "id": "mechanical-rainbow",
   "metadata": {},
   "outputs": [],
   "source": [
    "ml_data_folderpath = \"/gpfs/projects/sanlab/shared/DEV/nonbids_data/fMRI/ml\""
   ]
  },
  {
   "cell_type": "code",
   "execution_count": 3,
   "id": "economic-hartford",
   "metadata": {},
   "outputs": [],
   "source": [
    "#results_filepath=ml_data_folderpath + \"/SST/train_test_results_conditions_40subs_twoclasses.pkl\""
   ]
  },
  {
   "cell_type": "code",
   "execution_count": 4,
   "id": "romance-tracker",
   "metadata": {},
   "outputs": [],
   "source": [
    "#results_2c = pickle.load(open(results_filepath,'rb'))"
   ]
  },
  {
   "cell_type": "markdown",
   "id": "popular-myrtle",
   "metadata": {},
   "source": [
    "Not quite--we need a PFC mask I think. But we can use the script already written to do that."
   ]
  },
  {
   "cell_type": "markdown",
   "id": "falling-queue",
   "metadata": {},
   "source": [
    "## Setup"
   ]
  },
  {
   "cell_type": "code",
   "execution_count": 5,
   "id": "limiting-galaxy",
   "metadata": {},
   "outputs": [],
   "source": [
    "import sys\n",
    "import os\n",
    "import pandas as pd\n",
    "\n",
    "sys.path.append(os.path.abspath(\"../../ml/\"))\n",
    "\n",
    "#from apply_loocv_and_save import *\n",
    "#from dev_wtp_io_utils import *\n",
    "import gc\n",
    "import nibabel as nib\n",
    "\n",
    "from os import path\n",
    "\n"
   ]
  },
  {
   "cell_type": "code",
   "execution_count": 6,
   "id": "contemporary-punch",
   "metadata": {},
   "outputs": [],
   "source": [
    "from sklearn.svm import LinearSVC\n",
    "from scipy.stats import ttest_1samp, pearsonr"
   ]
  },
  {
   "cell_type": "code",
   "execution_count": 7,
   "id": "sealed-restriction",
   "metadata": {},
   "outputs": [],
   "source": [
    "from pymvpa2_ml_library import *\n",
    "from generic_utils import *"
   ]
  },
  {
   "cell_type": "code",
   "execution_count": 8,
   "id": "natural-circumstances",
   "metadata": {},
   "outputs": [
    {
     "name": "stderr",
     "output_type": "stream",
     "text": [
      "Failed to import duecredit due to No module named 'duecredit'\n",
      "/home/bsmith16/.conda/envs/py3_mvpa/lib/python3.8/site-packages/mvpa2/datasets/base.py:465: DeprecationWarning: `np.float` is a deprecated alias for the builtin `float`. To silence this warning, use `float` by itself. Doing this will not modify any behavior and is safe. If you specifically wanted the numpy scalar type, use `np.float64` here.\n",
      "Deprecated in NumPy 1.20; for more details and guidance: https://numpy.org/devdocs/release/1.20.0-notes.html#deprecations\n",
      "  def __init__(self, shape=None, sid=None, fid=None, dtype=np.float):\n"
     ]
    }
   ],
   "source": [
    "from mvpa_pipeline_utils import get_Brain_Data_betas_as_mvpa_for_sub, import_beta_series_pymvpa2, sa_to_df"
   ]
  },
  {
   "cell_type": "code",
   "execution_count": 9,
   "id": "located-longitude",
   "metadata": {},
   "outputs": [],
   "source": [
    "#from analyze_results import *"
   ]
  },
  {
   "cell_type": "markdown",
   "id": "greater-colorado",
   "metadata": {},
   "source": [
    "## condition_contrast"
   ]
  },
  {
   "cell_type": "markdown",
   "id": "circular-conjunction",
   "metadata": {},
   "source": [
    "## stitching contrasts together in different ways\n",
    "\n",
    "We'd want:\n",
    "\n",
    " - contrast of the two conditions\n",
    " - each of the two conditions alone.\n",
    " \n",
    "The contrast is a little tricky. Easiest thing is to try each of the conditions alone. Stitching the two together might not be too hard. Let's try doing CorrectStop first, and then we'll try concatenating the images. Doing a contrast is actually the most difficult becuase I have to backtrack in the process to generate new betas (see https://docs.google.com/presentation/d/1K-nFrZYE6rR8t0myNyacB7frBzV3B1--nMqPhVkwL8E/edit#slide=id.geeff6890fb_0_16)."
   ]
  },
  {
   "cell_type": "markdown",
   "id": "mysterious-omaha",
   "metadata": {},
   "source": [
    "See `different ways of combining images.ipynb`."
   ]
  },
  {
   "cell_type": "markdown",
   "id": "fluid-africa",
   "metadata": {},
   "source": [
    "## template"
   ]
  },
  {
   "cell_type": "raw",
   "id": "clinical-victorian",
   "metadata": {},
   "source": [
    "do_complete_analysis_for_mask('goal')"
   ]
  },
  {
   "cell_type": "markdown",
   "id": "latest-baseball",
   "metadata": {},
   "source": [
    "## regressing on self report"
   ]
  },
  {
   "cell_type": "code",
   "execution_count": 10,
   "id": "superior-depth",
   "metadata": {},
   "outputs": [],
   "source": [
    "nonbids_data_path = \"/gpfs/projects/sanlab/shared/DEV/nonbids_data/\"\n",
    "ml_data_folderpath = \"/gpfs/projects/sanlab/shared/DEV/nonbids_data/fMRI/ml\"\n",
    "train_test_markers_filepath = ml_data_folderpath + \"/train_test_markers_20210601T183243.csv\"\n",
    "test_train_df = pd.read_csv(train_test_markers_filepath)\n",
    "\n",
    "all_sst_events= pd.read_csv(ml_data_folderpath +\"/SST/\" + \"all_sst_events.csv\")\n",
    "\n",
    "\n",
    "script_path = '/gpfs/projects/sanlab/shared/DEV/DEV_scripts/fMRI/ml'\n",
    "# HRF 2s\n",
    "\n"
   ]
  },
  {
   "cell_type": "code",
   "execution_count": 11,
   "id": "passive-brunei",
   "metadata": {},
   "outputs": [],
   "source": [
    "\n",
    "## additional masks\n",
    "\n",
    "all_masks = get_all_masks(ml_data_folderpath)"
   ]
  },
  {
   "cell_type": "code",
   "execution_count": 12,
   "id": "comparable-adobe",
   "metadata": {},
   "outputs": [],
   "source": [
    "def setup_metadata(bd,target_val,standardize=True):\n",
    "    #set up chunks and targets so we can do the learning.\n",
    "    attribute_df = sa_to_df(bd.sa)\n",
    "    pd.concat([attribute_df['subject'],attribute_df['wave']],axis=1)\n",
    "    chunk = attribute_df['subject']+\"_\" + attribute_df['wave'].astype(str)\n",
    "    bd.sa['chunks'] = list(chunk)\n",
    "    if standardize:\n",
    "        target_data = bd.sa[target_val].value\n",
    "        target_data_mean = np.nanmean(target_data)\n",
    "        target_data_std = np.nanstd(target_data)\n",
    "        target_data_norm = (target_data-target_data_mean)/target_data_std\n",
    "        bd.sa['targets'] = list(target_data_norm)\n",
    "    else:\n",
    "        bd.sa['targets'] = list(bd.sa[target_val].value)\n",
    "    return(bd)"
   ]
  },
  {
   "cell_type": "code",
   "execution_count": 13,
   "id": "quantitative-hayes",
   "metadata": {},
   "outputs": [],
   "source": [
    "from sklearn.linear_model import Lasso\n",
    "def do_Lasso(train_X,train_y,test_X,test_y):\n",
    "    #if we fit intercept, it actually uses the y values to refit the items, \n",
    "    #adjusting everything up and down, and it can introduce _anticorrelation_ with the predicted value\n",
    "    #may need to mean-center the predicted variable _before_ analysis.\n",
    "    sklearn_regress = Lasso(alpha=2.0,fit_intercept=False)\n",
    "    \n",
    "    sklearn_regress.fit(train_X, train_y)\n",
    "    \n",
    "    predict_y = sklearn_regress.predict(test_X)\n",
    "#    print(predict_y,test_y)\n",
    "    return(predict_y,sklearn_regress)"
   ]
  },
  {
   "cell_type": "code",
   "execution_count": 14,
   "id": "optimum-anthony",
   "metadata": {},
   "outputs": [],
   "source": [
    "import math\n",
    "import numpy as np\n",
    "import pandas as pd\n",
    "from sklearn.model_selection import LeaveOneGroupOut\n",
    "from sklearn.svm import *\n",
    "from sklearn.linear_model import *\n",
    "\n",
    "def do_Ridge(train_X,train_y,test_X,test_y):\n",
    "    sklearn_regress = Ridge(alpha=5.0)\n",
    "    \n",
    "    sklearn_regress.fit(train_X, train_y)\n",
    "    \n",
    "    predict_y = sklearn_regress.predict(test_X)\n",
    "    return(predict_y,sklearn_regress)\n",
    "    \n",
    "def do_regression(dataset,normalization=None,get_prediction=None,verbose=False,require_mean_centered=True):\n",
    "    if get_prediction is None:\n",
    "        get_prediction = do_Ridge\n",
    "    logo=LeaveOneGroupOut()\n",
    "\n",
    "    group_scores = {}\n",
    "    sample_wise_results = []\n",
    "\n",
    "    items_to_eliminate_count = np.sum(np.isnan(dataset.sa.targets))\n",
    "    items_total = len(dataset.sa.targets)\n",
    "    print(\"eliminating \" + str(items_to_eliminate_count) + \" of \" + \n",
    "          str(items_total) + \" items due to null input values.\")\n",
    "    \n",
    "    dataset=dataset[np.isnan(dataset.sa.targets)==False]\n",
    "    \n",
    "    #ensure data is standardized\n",
    "    if abs(np.nanmean(dataset.sa.targets)>0.001) and require_mean_centered:\n",
    "        raise Exception(\"target data is not mean-centred, but mean centering is required.\")\n",
    "\n",
    "    for train_index, test_index in logo.split(\n",
    "        dataset.samples, dataset.sa.targets, dataset.sa.chunks):\n",
    "        iteration_label = np.unique(dataset.sa.chunks[test_index])[0]\n",
    "\n",
    "        #print(iteration_label, \"; TRAIN:\", len(train_index), \" items; TEST:\", test_index)\n",
    "        print(\".\",end=\"\",flush=True)\n",
    "\n",
    "        #do train-test split\n",
    "        train_X=dataset.samples[train_index]\n",
    "        test_X = dataset.samples[test_index]\n",
    "        train_y=dataset.sa.targets[train_index]\n",
    "        test_y = dataset.sa.targets[test_index]\n",
    "        #clf_svc = SVC()\n",
    "        \n",
    "        if normalization==\"train_set_based\":\n",
    "            #get mean based on train set alone\n",
    "            voxel_mean = np.mean(train_X,axis=0)\n",
    "            voxel_sd = np.std(train_X,axis=0)\n",
    "            #apply it to all.\n",
    "            train_X=(train_X-voxel_mean)/voxel_sd\n",
    "            test_X=(test_X-voxel_mean)/voxel_sd\n",
    "            raise Exception(\"this is obsolete--think this method is completely wrong.\")\n",
    "            #print(\"normalizing\")\n",
    "#         print(train_y)\n",
    "#         print(sum(np.isnan(train_y)))\n",
    "#         print(test_y)\n",
    "        predict_y, sklearn_clf = get_prediction(train_X,train_y,test_X,test_y)\n",
    "        predict_y_train = sklearn_clf.predict(train_X)\n",
    "#         print(pearsonr(predict_y_train,train_y))\n",
    "#         print(predict_y)\n",
    "#         print(predict_y_train)\n",
    "        \n",
    "        sample_wise_results_iter = pd.DataFrame({\n",
    "            'chunks':[iteration_label]*len(test_y),\n",
    "            'target_y':test_y,\n",
    "            'pred_y':predict_y,\n",
    "        })\n",
    "            \n",
    "        sample_wise_results = sample_wise_results + [sample_wise_results_iter]\n",
    "        \n",
    "    #need to create one more classifier to return.\n",
    "    #we test and train on the same here, which is OK, because we don't use this to assess performance\n",
    "    y_predict, model_final =get_prediction(\n",
    "        dataset.samples,dataset.sa.targets,dataset.samples,dataset.sa.targets)\n",
    "            \n",
    "    sample_wise_results_df = pd.concat(sample_wise_results)\n",
    "    return({'sample_wise':sample_wise_results_df,#'group_wise':group_scores,\n",
    "            'model':model_final})\n"
   ]
  },
  {
   "cell_type": "markdown",
   "id": "studied-weapon",
   "metadata": {},
   "source": [
    "# Method fine-tuning"
   ]
  },
  {
   "cell_type": "code",
   "execution_count": 15,
   "id": "quarterly-seating",
   "metadata": {},
   "outputs": [],
   "source": [
    "brain_data_filepath = ml_data_folderpath + '/SST/mvpa_Dataset_posterror_conditions_84subs_post_stop_cg.pkl'"
   ]
  },
  {
   "cell_type": "code",
   "execution_count": 16,
   "id": "presidential-remedy",
   "metadata": {},
   "outputs": [
    {
     "data": {
      "text/plain": [
       "'/gpfs/projects/sanlab/shared/DEV/nonbids_data/fMRI/ml'"
      ]
     },
     "execution_count": 16,
     "metadata": {},
     "output_type": "execute_result"
    }
   ],
   "source": [
    "ml_data_folderpath"
   ]
  },
  {
   "cell_type": "code",
   "execution_count": 17,
   "id": "arabic-negative",
   "metadata": {},
   "outputs": [],
   "source": [
    "with open(brain_data_filepath, 'rb') as pkl_file:\n",
    "    Brain_Data_allsubs = pickle.load(pkl_file)\n"
   ]
  },
  {
   "cell_type": "code",
   "execution_count": 18,
   "id": "immune-shower",
   "metadata": {},
   "outputs": [],
   "source": [
    "Brain_Data_allsubs = setup_metadata(Brain_Data_allsubs,'TESQ_E_sum')"
   ]
  },
  {
   "cell_type": "code",
   "execution_count": 19,
   "id": "sufficient-vault",
   "metadata": {},
   "outputs": [
    {
     "data": {
      "text/plain": [
       "array(['CorrectGoFollowingCorrectStop', 'CorrectGoFollowingFailedStop'],\n",
       "      dtype='<U29')"
      ]
     },
     "execution_count": 19,
     "metadata": {},
     "output_type": "execute_result"
    }
   ],
   "source": [
    "np.unique(Brain_Data_allsubs.sa.condition_label)"
   ]
  },
  {
   "cell_type": "code",
   "execution_count": 20,
   "id": "significant-minutes",
   "metadata": {},
   "outputs": [],
   "source": [
    "Brain_Data_CorrectGoFollowingCorrectStop = Brain_Data_allsubs[Brain_Data_allsubs.sa.condition_label=='CorrectGoFollowingCorrectStop']"
   ]
  },
  {
   "cell_type": "code",
   "execution_count": null,
   "id": "aquatic-gasoline",
   "metadata": {},
   "outputs": [],
   "source": []
  },
  {
   "cell_type": "code",
   "execution_count": 21,
   "id": "built-water",
   "metadata": {},
   "outputs": [],
   "source": [
    "Brain_Data_CorrectGoFollowingFailedStop = Brain_Data_allsubs[Brain_Data_allsubs.sa.condition_label=='CorrectGoFollowingFailedStop']"
   ]
  },
  {
   "cell_type": "code",
   "execution_count": 22,
   "id": "forty-paragraph",
   "metadata": {},
   "outputs": [],
   "source": [
    "from mvpa2.measures.rsa import Regression\n",
    "from sklearn.linear_model import Ridge"
   ]
  },
  {
   "cell_type": "code",
   "execution_count": 23,
   "id": "moral-visiting",
   "metadata": {},
   "outputs": [
    {
     "name": "stdout",
     "output_type": "stream",
     "text": [
      "eliminating 12 of 162 items due to null input values.\n",
      "..........................................................................."
     ]
    }
   ],
   "source": [
    "regression_results = do_regression(Brain_Data_allsubs)"
   ]
  },
  {
   "cell_type": "code",
   "execution_count": 24,
   "id": "geographic-restriction",
   "metadata": {},
   "outputs": [],
   "source": [
    "from sklearn.svm import LinearSVC\n",
    "from scipy.stats import ttest_1samp, pearsonr, spearmanr"
   ]
  },
  {
   "cell_type": "code",
   "execution_count": 25,
   "id": "automated-berry",
   "metadata": {},
   "outputs": [
    {
     "data": {
      "text/plain": [
       "(0.0742045878296486, 0.3668129918504953)"
      ]
     },
     "execution_count": 25,
     "metadata": {},
     "output_type": "execute_result"
    }
   ],
   "source": [
    "pearsonr(regression_results['sample_wise']['target_y'],regression_results['sample_wise']['pred_y'])"
   ]
  },
  {
   "cell_type": "markdown",
   "id": "apparent-establishment",
   "metadata": {},
   "source": [
    "That's pretty good considering that we are regressing over all images whether they're Stop or Go signal. need to change this so that we alternately regress over stop or go only, or possibly, the difference between them.\n",
    "\n",
    "The contrast between them is probably best, which means we go to generate a new series based on that.\n",
    "\n",
    "Though, wait--why is it _negative_?"
   ]
  },
  {
   "cell_type": "code",
   "execution_count": 26,
   "id": "complete-crowd",
   "metadata": {},
   "outputs": [
    {
     "name": "stdout",
     "output_type": "stream",
     "text": [
      "eliminating 6 of 81 items due to null input values.\n",
      "..........................................................................."
     ]
    },
    {
     "data": {
      "text/plain": [
       "(0.05564655686335038, 0.6353666837185526)"
      ]
     },
     "execution_count": 26,
     "metadata": {},
     "output_type": "execute_result"
    }
   ],
   "source": [
    "regression_results_CS = do_regression(Brain_Data_CorrectGoFollowingFailedStop)\n",
    "pearsonr(regression_results_CS['sample_wise']['target_y'],regression_results_CS['sample_wise']['pred_y'])"
   ]
  },
  {
   "cell_type": "code",
   "execution_count": 27,
   "id": "vital-attempt",
   "metadata": {},
   "outputs": [
    {
     "data": {
      "text/plain": [
       "(0.05564655686335038, 0.6353666837185526)"
      ]
     },
     "execution_count": 27,
     "metadata": {},
     "output_type": "execute_result"
    }
   ],
   "source": [
    "pearsonr(regression_results_CS['sample_wise']['target_y'],regression_results_CS['sample_wise']['pred_y'])"
   ]
  },
  {
   "cell_type": "code",
   "execution_count": 28,
   "id": "british-chocolate",
   "metadata": {},
   "outputs": [
    {
     "data": {
      "text/html": [
       "<div>\n",
       "<style scoped>\n",
       "    .dataframe tbody tr th:only-of-type {\n",
       "        vertical-align: middle;\n",
       "    }\n",
       "\n",
       "    .dataframe tbody tr th {\n",
       "        vertical-align: top;\n",
       "    }\n",
       "\n",
       "    .dataframe thead th {\n",
       "        text-align: right;\n",
       "    }\n",
       "</style>\n",
       "<table border=\"1\" class=\"dataframe\">\n",
       "  <thead>\n",
       "    <tr style=\"text-align: right;\">\n",
       "      <th></th>\n",
       "      <th>chunks</th>\n",
       "      <th>target_y</th>\n",
       "      <th>pred_y</th>\n",
       "    </tr>\n",
       "  </thead>\n",
       "  <tbody>\n",
       "    <tr>\n",
       "      <th>0</th>\n",
       "      <td>DEV005_1</td>\n",
       "      <td>-0.314867</td>\n",
       "      <td>0.511084</td>\n",
       "    </tr>\n",
       "    <tr>\n",
       "      <th>0</th>\n",
       "      <td>DEV006_1</td>\n",
       "      <td>1.328669</td>\n",
       "      <td>0.037375</td>\n",
       "    </tr>\n",
       "    <tr>\n",
       "      <th>0</th>\n",
       "      <td>DEV010_1</td>\n",
       "      <td>-0.747377</td>\n",
       "      <td>-0.757483</td>\n",
       "    </tr>\n",
       "    <tr>\n",
       "      <th>0</th>\n",
       "      <td>DEV011_1</td>\n",
       "      <td>-1.352890</td>\n",
       "      <td>-0.025431</td>\n",
       "    </tr>\n",
       "    <tr>\n",
       "      <th>0</th>\n",
       "      <td>DEV013_1</td>\n",
       "      <td>0.031141</td>\n",
       "      <td>0.180333</td>\n",
       "    </tr>\n",
       "    <tr>\n",
       "      <th>...</th>\n",
       "      <td>...</td>\n",
       "      <td>...</td>\n",
       "      <td>...</td>\n",
       "    </tr>\n",
       "    <tr>\n",
       "      <th>0</th>\n",
       "      <td>DEV197_1</td>\n",
       "      <td>0.550152</td>\n",
       "      <td>-0.071238</td>\n",
       "    </tr>\n",
       "    <tr>\n",
       "      <th>0</th>\n",
       "      <td>DEV206_1</td>\n",
       "      <td>-0.487871</td>\n",
       "      <td>-0.397298</td>\n",
       "    </tr>\n",
       "    <tr>\n",
       "      <th>0</th>\n",
       "      <td>DEV215_1</td>\n",
       "      <td>-0.833878</td>\n",
       "      <td>0.450203</td>\n",
       "    </tr>\n",
       "    <tr>\n",
       "      <th>0</th>\n",
       "      <td>DEV216_1</td>\n",
       "      <td>-1.093384</td>\n",
       "      <td>-0.793119</td>\n",
       "    </tr>\n",
       "    <tr>\n",
       "      <th>0</th>\n",
       "      <td>DEV217_1</td>\n",
       "      <td>-0.141863</td>\n",
       "      <td>0.263249</td>\n",
       "    </tr>\n",
       "  </tbody>\n",
       "</table>\n",
       "<p>75 rows × 3 columns</p>\n",
       "</div>"
      ],
      "text/plain": [
       "      chunks  target_y    pred_y\n",
       "0   DEV005_1 -0.314867  0.511084\n",
       "0   DEV006_1  1.328669  0.037375\n",
       "0   DEV010_1 -0.747377 -0.757483\n",
       "0   DEV011_1 -1.352890 -0.025431\n",
       "0   DEV013_1  0.031141  0.180333\n",
       "..       ...       ...       ...\n",
       "0   DEV197_1  0.550152 -0.071238\n",
       "0   DEV206_1 -0.487871 -0.397298\n",
       "0   DEV215_1 -0.833878  0.450203\n",
       "0   DEV216_1 -1.093384 -0.793119\n",
       "0   DEV217_1 -0.141863  0.263249\n",
       "\n",
       "[75 rows x 3 columns]"
      ]
     },
     "execution_count": 28,
     "metadata": {},
     "output_type": "execute_result"
    }
   ],
   "source": [
    "regression_results_CS['sample_wise']"
   ]
  },
  {
   "cell_type": "code",
   "execution_count": 29,
   "id": "superb-twenty",
   "metadata": {},
   "outputs": [],
   "source": [
    "from matplotlib.pyplot import scatter"
   ]
  },
  {
   "cell_type": "code",
   "execution_count": 30,
   "id": "accepting-phrase",
   "metadata": {},
   "outputs": [
    {
     "data": {
      "text/plain": [
       "<matplotlib.collections.PathCollection at 0x2aab0313cdf0>"
      ]
     },
     "execution_count": 30,
     "metadata": {},
     "output_type": "execute_result"
    },
    {
     "data": {
      "image/png": "[encoded data removed]",
      "text/plain": [
       "<Figure size 432x288 with 1 Axes>"
      ]
     },
     "metadata": {
      "needs_background": "light"
     },
     "output_type": "display_data"
    }
   ],
   "source": [
    "scatter(regression_results_CS['sample_wise']['target_y'],regression_results_CS['sample_wise']['pred_y'])"
   ]
  },
  {
   "cell_type": "markdown",
   "id": "relative-thread",
   "metadata": {},
   "source": [
    "And really odd--why does it perform equally well for one class as for two? I thought two class analysis would be really nonsensical...which it is...considering the negative correlation for targets vs. pred"
   ]
  },
  {
   "cell_type": "code",
   "execution_count": 31,
   "id": "fuzzy-devices",
   "metadata": {},
   "outputs": [
    {
     "name": "stdout",
     "output_type": "stream",
     "text": [
      "eliminating 0 of 0 items due to null input values.\n"
     ]
    },
    {
     "name": "stderr",
     "output_type": "stream",
     "text": [
      "/tmp/ipykernel_19030/4091791375.py:32: RuntimeWarning: Mean of empty slice\n",
      "  if abs(np.nanmean(dataset.sa.targets)>0.001) and require_mean_centered:\n"
     ]
    },
    {
     "ename": "ValueError",
     "evalue": "Found array with 0 sample(s) (shape=(0,)) while a minimum of 1 is required.",
     "output_type": "error",
     "traceback": [
      "\u001b[0;31m---------------------------------------------------------------------------\u001b[0m",
      "\u001b[0;31mValueError\u001b[0m                                Traceback (most recent call last)",
      "Input \u001b[0;32mIn [31]\u001b[0m, in \u001b[0;36m<module>\u001b[0;34m\u001b[0m\n\u001b[1;32m      1\u001b[0m Brain_Data_CorrectGo \u001b[38;5;241m=\u001b[39m Brain_Data_allsubs[Brain_Data_allsubs\u001b[38;5;241m.\u001b[39msa\u001b[38;5;241m.\u001b[39mcondition_label\u001b[38;5;241m==\u001b[39m\u001b[38;5;124m'\u001b[39m\u001b[38;5;124mCorrectGo\u001b[39m\u001b[38;5;124m'\u001b[39m]\n\u001b[0;32m----> 2\u001b[0m regression_results_CG \u001b[38;5;241m=\u001b[39m \u001b[43mdo_regression\u001b[49m\u001b[43m(\u001b[49m\u001b[43mBrain_Data_CorrectGo\u001b[49m\u001b[43m)\u001b[49m\n\u001b[1;32m      3\u001b[0m pearsonr(regression_results_CG[\u001b[38;5;124m'\u001b[39m\u001b[38;5;124msample_wise\u001b[39m\u001b[38;5;124m'\u001b[39m][\u001b[38;5;124m'\u001b[39m\u001b[38;5;124mtarget_y\u001b[39m\u001b[38;5;124m'\u001b[39m],regression_results_CG[\u001b[38;5;124m'\u001b[39m\u001b[38;5;124msample_wise\u001b[39m\u001b[38;5;124m'\u001b[39m][\u001b[38;5;124m'\u001b[39m\u001b[38;5;124mpred_y\u001b[39m\u001b[38;5;124m'\u001b[39m])\n",
      "Input \u001b[0;32mIn [14]\u001b[0m, in \u001b[0;36mdo_regression\u001b[0;34m(dataset, normalization, get_prediction, verbose, require_mean_centered)\u001b[0m\n\u001b[1;32m     32\u001b[0m \u001b[38;5;28;01mif\u001b[39;00m \u001b[38;5;28mabs\u001b[39m(np\u001b[38;5;241m.\u001b[39mnanmean(dataset\u001b[38;5;241m.\u001b[39msa\u001b[38;5;241m.\u001b[39mtargets)\u001b[38;5;241m>\u001b[39m\u001b[38;5;241m0.001\u001b[39m) \u001b[38;5;129;01mand\u001b[39;00m require_mean_centered:\n\u001b[1;32m     33\u001b[0m     \u001b[38;5;28;01mraise\u001b[39;00m \u001b[38;5;167;01mException\u001b[39;00m(\u001b[38;5;124m\"\u001b[39m\u001b[38;5;124mtarget data is not mean-centred, but mean centering is required.\u001b[39m\u001b[38;5;124m\"\u001b[39m)\n\u001b[0;32m---> 35\u001b[0m \u001b[38;5;28;01mfor\u001b[39;00m train_index, test_index \u001b[38;5;129;01min\u001b[39;00m logo\u001b[38;5;241m.\u001b[39msplit(\n\u001b[1;32m     36\u001b[0m     dataset\u001b[38;5;241m.\u001b[39msamples, dataset\u001b[38;5;241m.\u001b[39msa\u001b[38;5;241m.\u001b[39mtargets, dataset\u001b[38;5;241m.\u001b[39msa\u001b[38;5;241m.\u001b[39mchunks):\n\u001b[1;32m     37\u001b[0m     iteration_label \u001b[38;5;241m=\u001b[39m np\u001b[38;5;241m.\u001b[39munique(dataset\u001b[38;5;241m.\u001b[39msa\u001b[38;5;241m.\u001b[39mchunks[test_index])[\u001b[38;5;241m0\u001b[39m]\n\u001b[1;32m     39\u001b[0m     \u001b[38;5;66;03m#print(iteration_label, \"; TRAIN:\", len(train_index), \" items; TEST:\", test_index)\u001b[39;00m\n",
      "File \u001b[0;32m~/.conda/envs/py3_mvpa/lib/python3.8/site-packages/sklearn/model_selection/_split.py:86\u001b[0m, in \u001b[0;36mBaseCrossValidator.split\u001b[0;34m(self, X, y, groups)\u001b[0m\n\u001b[1;32m     84\u001b[0m X, y, groups \u001b[38;5;241m=\u001b[39m indexable(X, y, groups)\n\u001b[1;32m     85\u001b[0m indices \u001b[38;5;241m=\u001b[39m np\u001b[38;5;241m.\u001b[39marange(_num_samples(X))\n\u001b[0;32m---> 86\u001b[0m \u001b[38;5;28;01mfor\u001b[39;00m test_index \u001b[38;5;129;01min\u001b[39;00m \u001b[38;5;28mself\u001b[39m\u001b[38;5;241m.\u001b[39m_iter_test_masks(X, y, groups):\n\u001b[1;32m     87\u001b[0m     train_index \u001b[38;5;241m=\u001b[39m indices[np\u001b[38;5;241m.\u001b[39mlogical_not(test_index)]\n\u001b[1;32m     88\u001b[0m     test_index \u001b[38;5;241m=\u001b[39m indices[test_index]\n",
      "File \u001b[0;32m~/.conda/envs/py3_mvpa/lib/python3.8/site-packages/sklearn/model_selection/_split.py:1147\u001b[0m, in \u001b[0;36mLeaveOneGroupOut._iter_test_masks\u001b[0;34m(self, X, y, groups)\u001b[0m\n\u001b[1;32m   1145\u001b[0m     \u001b[38;5;28;01mraise\u001b[39;00m \u001b[38;5;167;01mValueError\u001b[39;00m(\u001b[38;5;124m\"\u001b[39m\u001b[38;5;124mThe \u001b[39m\u001b[38;5;124m'\u001b[39m\u001b[38;5;124mgroups\u001b[39m\u001b[38;5;124m'\u001b[39m\u001b[38;5;124m parameter should not be None.\u001b[39m\u001b[38;5;124m\"\u001b[39m)\n\u001b[1;32m   1146\u001b[0m \u001b[38;5;66;03m# We make a copy of groups to avoid side-effects during iteration\u001b[39;00m\n\u001b[0;32m-> 1147\u001b[0m groups \u001b[38;5;241m=\u001b[39m \u001b[43mcheck_array\u001b[49m\u001b[43m(\u001b[49m\u001b[43mgroups\u001b[49m\u001b[43m,\u001b[49m\u001b[43m \u001b[49m\u001b[43mcopy\u001b[49m\u001b[38;5;241;43m=\u001b[39;49m\u001b[38;5;28;43;01mTrue\u001b[39;49;00m\u001b[43m,\u001b[49m\u001b[43m \u001b[49m\u001b[43mensure_2d\u001b[49m\u001b[38;5;241;43m=\u001b[39;49m\u001b[38;5;28;43;01mFalse\u001b[39;49;00m\u001b[43m,\u001b[49m\u001b[43m \u001b[49m\u001b[43mdtype\u001b[49m\u001b[38;5;241;43m=\u001b[39;49m\u001b[38;5;28;43;01mNone\u001b[39;49;00m\u001b[43m)\u001b[49m\n\u001b[1;32m   1148\u001b[0m unique_groups \u001b[38;5;241m=\u001b[39m np\u001b[38;5;241m.\u001b[39munique(groups)\n\u001b[1;32m   1149\u001b[0m \u001b[38;5;28;01mif\u001b[39;00m \u001b[38;5;28mlen\u001b[39m(unique_groups) \u001b[38;5;241m<\u001b[39m\u001b[38;5;241m=\u001b[39m \u001b[38;5;241m1\u001b[39m:\n",
      "File \u001b[0;32m~/.conda/envs/py3_mvpa/lib/python3.8/site-packages/sklearn/utils/validation.py:805\u001b[0m, in \u001b[0;36mcheck_array\u001b[0;34m(array, accept_sparse, accept_large_sparse, dtype, order, copy, force_all_finite, ensure_2d, allow_nd, ensure_min_samples, ensure_min_features, estimator)\u001b[0m\n\u001b[1;32m    803\u001b[0m     n_samples \u001b[38;5;241m=\u001b[39m _num_samples(array)\n\u001b[1;32m    804\u001b[0m     \u001b[38;5;28;01mif\u001b[39;00m n_samples \u001b[38;5;241m<\u001b[39m ensure_min_samples:\n\u001b[0;32m--> 805\u001b[0m         \u001b[38;5;28;01mraise\u001b[39;00m \u001b[38;5;167;01mValueError\u001b[39;00m(\n\u001b[1;32m    806\u001b[0m             \u001b[38;5;124m\"\u001b[39m\u001b[38;5;124mFound array with \u001b[39m\u001b[38;5;132;01m%d\u001b[39;00m\u001b[38;5;124m sample(s) (shape=\u001b[39m\u001b[38;5;132;01m%s\u001b[39;00m\u001b[38;5;124m) while a\u001b[39m\u001b[38;5;124m\"\u001b[39m\n\u001b[1;32m    807\u001b[0m             \u001b[38;5;124m\"\u001b[39m\u001b[38;5;124m minimum of \u001b[39m\u001b[38;5;132;01m%d\u001b[39;00m\u001b[38;5;124m is required\u001b[39m\u001b[38;5;132;01m%s\u001b[39;00m\u001b[38;5;124m.\u001b[39m\u001b[38;5;124m\"\u001b[39m\n\u001b[1;32m    808\u001b[0m             \u001b[38;5;241m%\u001b[39m (n_samples, array\u001b[38;5;241m.\u001b[39mshape, ensure_min_samples, context)\n\u001b[1;32m    809\u001b[0m         )\n\u001b[1;32m    811\u001b[0m \u001b[38;5;28;01mif\u001b[39;00m ensure_min_features \u001b[38;5;241m>\u001b[39m \u001b[38;5;241m0\u001b[39m \u001b[38;5;129;01mand\u001b[39;00m array\u001b[38;5;241m.\u001b[39mndim \u001b[38;5;241m==\u001b[39m \u001b[38;5;241m2\u001b[39m:\n\u001b[1;32m    812\u001b[0m     n_features \u001b[38;5;241m=\u001b[39m array\u001b[38;5;241m.\u001b[39mshape[\u001b[38;5;241m1\u001b[39m]\n",
      "\u001b[0;31mValueError\u001b[0m: Found array with 0 sample(s) (shape=(0,)) while a minimum of 1 is required."
     ]
    }
   ],
   "source": [
    "Brain_Data_CorrectGo = Brain_Data_allsubs[Brain_Data_allsubs.sa.condition_label=='CorrectGo']\n",
    "regression_results_CG = do_regression(Brain_Data_CorrectGo)\n",
    "pearsonr(regression_results_CG['sample_wise']['target_y'],regression_results_CG['sample_wise']['pred_y'])"
   ]
  },
  {
   "cell_type": "markdown",
   "id": "administrative-bubble",
   "metadata": {},
   "source": [
    "## try lasso"
   ]
  },
  {
   "cell_type": "code",
   "execution_count": null,
   "id": "native-connection",
   "metadata": {},
   "outputs": [],
   "source": [
    "regression_results = do_regression(Brain_Data_allsubs, get_prediction = do_Lasso)"
   ]
  },
  {
   "cell_type": "code",
   "execution_count": null,
   "id": "broken-titanium",
   "metadata": {},
   "outputs": [],
   "source": [
    "pearsonr(regression_results['sample_wise']['target_y'],regression_results['sample_wise']['pred_y'])"
   ]
  },
  {
   "cell_type": "code",
   "execution_count": null,
   "id": "prepared-survival",
   "metadata": {},
   "outputs": [],
   "source": [
    "regression_results['sample_wise']['pred_y']"
   ]
  },
  {
   "cell_type": "markdown",
   "id": "caroline-norway",
   "metadata": {},
   "source": [
    "Yes OK, because there's no variance ther ebecause we have both stop and go there."
   ]
  },
  {
   "cell_type": "markdown",
   "id": "mighty-while",
   "metadata": {},
   "source": [
    "## stop minus go contrast"
   ]
  },
  {
   "cell_type": "raw",
   "id": "varied-anchor",
   "metadata": {},
   "source": [
    "from analyze_results import *"
   ]
  },
  {
   "cell_type": "code",
   "execution_count": null,
   "id": "polished-impact",
   "metadata": {},
   "outputs": [],
   "source": [
    "brain_data_filepath = ml_data_folderpath + '/SST/mvpa_Dataset_posterror_conditions_84subs_post_stop_cg_contrast.pkl'\n",
    "with open(brain_data_filepath, 'rb') as pkl_file:\n",
    "    Brain_Data_allsubs = pickle.load(pkl_file)\n",
    "\n",
    "Brain_Data_allsubs = setup_metadata(Brain_Data_allsubs,'TESQ_E_sum')"
   ]
  },
  {
   "cell_type": "code",
   "execution_count": null,
   "id": "tested-revolution",
   "metadata": {},
   "outputs": [],
   "source": [
    "regression_results = do_regression(Brain_Data_allsubs,get_prediction = do_Ridge)\n",
    "pearsonr(regression_results['sample_wise']['target_y'],regression_results['sample_wise']['pred_y'])"
   ]
  },
  {
   "cell_type": "code",
   "execution_count": null,
   "id": "italian-firmware",
   "metadata": {},
   "outputs": [],
   "source": [
    "regression_results['sample_wise']['pred_y']"
   ]
  },
  {
   "cell_type": "code",
   "execution_count": null,
   "id": "thermal-illustration",
   "metadata": {},
   "outputs": [],
   "source": [
    "regression_results['sample_wise']['target_y']"
   ]
  },
  {
   "cell_type": "markdown",
   "id": "round-albany",
   "metadata": {},
   "source": [
    "## Trial dummy data"
   ]
  },
  {
   "cell_type": "markdown",
   "id": "durable-regard",
   "metadata": {},
   "source": [
    "We select a linear mix of voxels and try to predict that. should be easy to do with regression..."
   ]
  },
  {
   "cell_type": "code",
   "execution_count": null,
   "id": "interpreted-payroll",
   "metadata": {},
   "outputs": [],
   "source": [
    "brain_data_filepath = ml_data_folderpath + '/SST/mvpa_Dataset_posterror_conditions_84subs_post_stop_cg_contrast.pkl'\n",
    "#mvpa_Dataset_conditions_84subs_cor_stop_minus_go_contrast\n",
    "\n",
    "with open(brain_data_filepath, 'rb') as pkl_file:\n",
    "    Brain_Data_allsubs = pickle.load(pkl_file)\n"
   ]
  },
  {
   "cell_type": "code",
   "execution_count": null,
   "id": "religious-franklin",
   "metadata": {},
   "outputs": [],
   "source": [
    "mix_target = np.sum(Brain_Data_allsubs.samples[:,15000:15010],axis=1)\n",
    "Brain_Data_allsubs.sa['mix_target']=list(mix_target)"
   ]
  },
  {
   "cell_type": "code",
   "execution_count": null,
   "id": "precious-guess",
   "metadata": {},
   "outputs": [],
   "source": [
    "\n",
    "Brain_Data_allsubs = setup_metadata(Brain_Data_allsubs,'mix_target')\n",
    "\n",
    "regression_results = do_regression(Brain_Data_allsubs, get_prediction = do_Ridge)\n",
    "\n",
    "pearsonr(regression_results['sample_wise']['target_y'],regression_results['sample_wise']['pred_y'])"
   ]
  },
  {
   "cell_type": "markdown",
   "id": "prescribed-hudson",
   "metadata": {},
   "source": [
    "That's interesting--something like it should be, but not very good considering."
   ]
  },
  {
   "cell_type": "code",
   "execution_count": null,
   "id": "leading-sense",
   "metadata": {},
   "outputs": [],
   "source": [
    "mix_target = np.sum(Brain_Data_allsubs.samples[:,15000:15100],axis=1)\n",
    "Brain_Data_allsubs.sa['mix_target']=list(mix_target)\n",
    "Brain_Data_allsubs = setup_metadata(Brain_Data_allsubs,'mix_target')\n",
    "regression_results = do_regression(Brain_Data_allsubs, get_prediction = do_Ridge)\n",
    "pearsonr(regression_results['sample_wise']['target_y'],regression_results['sample_wise']['pred_y'])"
   ]
  },
  {
   "cell_type": "markdown",
   "id": "partial-season",
   "metadata": {},
   "source": [
    "aahhh got it--if the pattern is spread over several voxels, we'll have a better time detecting it."
   ]
  },
  {
   "cell_type": "code",
   "execution_count": null,
   "id": "chief-identification",
   "metadata": {},
   "outputs": [],
   "source": [
    "mix_target = np.sum(Brain_Data_allsubs.samples[:,15000:15100],axis=1)\n",
    "Brain_Data_allsubs.sa['mix_target']=list(mix_target)"
   ]
  },
  {
   "cell_type": "code",
   "execution_count": null,
   "id": "fourth-anchor",
   "metadata": {},
   "outputs": [],
   "source": [
    "scatter(regression_results['sample_wise']['target_y'],regression_results['sample_wise']['pred_y'])"
   ]
  },
  {
   "cell_type": "markdown",
   "id": "affiliated-blackberry",
   "metadata": {},
   "source": [
    "OK, so if there's a pattern representing a linear combination of voxels then we should be able to detect it using ridge regression. How about lasso?"
   ]
  },
  {
   "cell_type": "code",
   "execution_count": null,
   "id": "intensive-saying",
   "metadata": {},
   "outputs": [],
   "source": [
    "from sklearn.linear_model import Lasso\n",
    "def do_Lasso(train_X,train_y,test_X,test_y):\n",
    "    #if we fit intercept, it actually uses the y values to refit the items, \n",
    "    #adjusting everything up and down, and it can introduce _anticorrelation_ with the predicted value\n",
    "    #may need to mean-center the predicted variable _before_ analysis.\n",
    "    sklearn_regress = Lasso(alpha=1.0,fit_intercept=False)\n",
    "    \n",
    "    sklearn_regress.fit(train_X, train_y)\n",
    "    \n",
    "    predict_y = sklearn_regress.predict(test_X)\n",
    "#    print(predict_y,test_y)\n",
    "    return(predict_y,sklearn_regress)"
   ]
  },
  {
   "cell_type": "code",
   "execution_count": null,
   "id": "latin-gibraltar",
   "metadata": {},
   "outputs": [],
   "source": [
    "regression_results = do_regression(Brain_Data_allsubs, get_prediction = do_Lasso)\n",
    "print(pearsonr(regression_results['sample_wise']['target_y'],regression_results['sample_wise']['pred_y']))\n",
    "scatter(regression_results['sample_wise']['target_y'],regression_results['sample_wise']['pred_y'])"
   ]
  },
  {
   "cell_type": "code",
   "execution_count": null,
   "id": "undefined-monthly",
   "metadata": {},
   "outputs": [],
   "source": [
    "from sklearn.linear_model import Lasso\n",
    "def do_Lasso2(train_X,train_y,test_X,test_y):\n",
    "    #if we fit intercept, it actually uses the y values to refit the items, \n",
    "    #adjusting everything up and down, and it can introduce _anticorrelation_ with the predicted value\n",
    "    #may need to mean-center the predicted variable _before_ analysis.\n",
    "    sklearn_regress = Lasso(alpha=1.0,fit_intercept=True)\n",
    "    \n",
    "    sklearn_regress.fit(train_X, train_y)\n",
    "    \n",
    "    predict_y = sklearn_regress.predict(test_X)\n",
    "#    print(predict_y,test_y)\n",
    "    return(predict_y,sklearn_regress)"
   ]
  },
  {
   "cell_type": "code",
   "execution_count": null,
   "id": "daily-integrity",
   "metadata": {},
   "outputs": [],
   "source": [
    "regression_results = do_regression(Brain_Data_allsubs, get_prediction = do_Lasso2)\n",
    "print(pearsonr(regression_results['sample_wise']['target_y'],regression_results['sample_wise']['pred_y']))\n",
    "scatter(regression_results['sample_wise']['target_y'],regression_results['sample_wise']['pred_y'])"
   ]
  },
  {
   "cell_type": "code",
   "execution_count": null,
   "id": "comparative-right",
   "metadata": {},
   "outputs": [],
   "source": [
    "mix_target = np.sum(Brain_Data_allsubs.samples[:,15000:15100],axis=1)\n",
    "Brain_Data_allsubs.sa['mix_target']=list(mix_target)\n",
    "Brain_Data_allsubs = setup_metadata(Brain_Data_allsubs,'mix_target',standardize=False)\n",
    "regression_results = do_regression(Brain_Data_allsubs, get_prediction = do_Lasso2, require_mean_centered=False)\n",
    "pearsonr(regression_results['sample_wise']['target_y'],regression_results['sample_wise']['pred_y'])"
   ]
  },
  {
   "cell_type": "code",
   "execution_count": null,
   "id": "green-celebrity",
   "metadata": {},
   "outputs": [],
   "source": [
    "regression_results = do_regression(Brain_Data_allsubs, get_prediction = do_Lasso2)\n",
    "print(pearsonr(regression_results['sample_wise']['target_y'],regression_results['sample_wise']['pred_y']))\n",
    "scatter(regression_results['sample_wise']['target_y'],regression_results['sample_wise']['pred_y'])"
   ]
  },
  {
   "cell_type": "code",
   "execution_count": null,
   "id": "western-brooklyn",
   "metadata": {},
   "outputs": [],
   "source": [
    "regression_results = do_regression(Brain_Data_allsubs, get_prediction = do_Lasso)\n",
    "print(pearsonr(regression_results['sample_wise']['target_y'],regression_results['sample_wise']['pred_y']))\n",
    "scatter(regression_results['sample_wise']['target_y'],regression_results['sample_wise']['pred_y'])"
   ]
  },
  {
   "cell_type": "code",
   "execution_count": null,
   "id": "equipped-freedom",
   "metadata": {},
   "outputs": [],
   "source": [
    "pearsonr(regression_results['sample_wise']['target_y'],regression_results['sample_wise']['pred_y'])"
   ]
  },
  {
   "cell_type": "markdown",
   "id": "administrative-director",
   "metadata": {},
   "source": [
    "So in summary--we can't predict TESQ-E-Sum using Ridge or Lasso regression. Because prediction is `greedy' in a sense--it'll take voxels anywhere in the image and emphasize them until they're useful--there's no point in trying different masks. We might try different scales, bu there's no use in doing a regression on masks."
   ]
  },
  {
   "cell_type": "markdown",
   "id": "industrial-timeline",
   "metadata": {},
   "source": [
    "#### Elastic net?"
   ]
  },
  {
   "cell_type": "code",
   "execution_count": null,
   "id": "velvet-commonwealth",
   "metadata": {},
   "outputs": [],
   "source": [
    "from sklearn.linear_model import ElasticNet\n",
    "def do_ElasticNet(train_X,train_y,test_X,test_y):\n",
    "    sklearn_regress = ElasticNet(alpha=10.0,fit_intercept=False)\n",
    "    \n",
    "    sklearn_regress.fit(train_X, train_y)\n",
    "    \n",
    "    predict_y = sklearn_regress.predict(test_X)\n",
    "    return(predict_y,sklearn_regress)"
   ]
  },
  {
   "cell_type": "code",
   "execution_count": null,
   "id": "alive-raising",
   "metadata": {},
   "outputs": [],
   "source": [
    "\n",
    "elastic_regression_results = do_regression(Brain_Data_allsubs, get_prediction = do_ElasticNet)\n"
   ]
  },
  {
   "cell_type": "code",
   "execution_count": null,
   "id": "caring-heavy",
   "metadata": {},
   "outputs": [],
   "source": [
    "\n",
    "scatter(elastic_regression_results['sample_wise']['target_y'],elastic_regression_results['sample_wise']['pred_y'])\n",
    "pearsonr(elastic_regression_results['sample_wise']['target_y'],elastic_regression_results['sample_wise']['pred_y'])"
   ]
  },
  {
   "cell_type": "markdown",
   "id": "sealed-commons",
   "metadata": {},
   "source": [
    "OK, of the three (Ridge, Elastic, Lasso), Lasso performs best on the dummy data, so we'll use that."
   ]
  },
  {
   "cell_type": "markdown",
   "id": "announced-gasoline",
   "metadata": {},
   "source": [
    "## PCA?"
   ]
  },
  {
   "cell_type": "markdown",
   "id": "cellular-marina",
   "metadata": {},
   "source": [
    "# Main analysis: Cycle through relevant variables...\n",
    "\n",
    "We'll cycle through:\n",
    "\n",
    " - TESQ-E subscales\n",
    " - BF%\n",
    " - SSRT"
   ]
  },
  {
   "cell_type": "markdown",
   "id": "electronic-whole",
   "metadata": {},
   "source": [
    "### Stop Minus Go"
   ]
  },
  {
   "cell_type": "code",
   "execution_count": 26,
   "id": "athletic-insider",
   "metadata": {},
   "outputs": [
    {
     "data": {
      "text/plain": [
       "'time_indices, time_coords, condition_index, condition_label, raw_beta_description, beta, subject, wave, cancer_promoting_minus_preventing_FCI, cancer_promoting_minus_preventing_FFQ, cancer_promoting_minus_preventing_craved_FCI, cancer_promoting_minus_preventing_craved_FFQ, cancer_promoting_minus_preventing_liked_FCI, cancer_promoting_minus_preventing_liked_FFQ, cancer_promoting_FCI, cancer_promoting_FFQ, cancer_preventing_FCI, cancer_preventing_FFQ, BSCS, cSES, EDM, BIS_11, PCS, RS, TRSQ, bf_1, weight_0, height_0, birthsex, age365, bmi_0, bmi_1, bmi, bf_1_controlled, bf_1_bsexnormedzs, ACES_sum, ACES_household_dysfunction, ACES_neglectful_parenting, ACES_abuse, ACES_divorced_separated, BFI_agreeableness, BFI_conscientiousness, BFI_extraversion, BFI_neuroticism, BFI_openness, DEMO_mcarthur_social_standing, IMI_effort_importance, IMI_interest_enjoyment, IMI_perceived_choice, IMI_perceived_competence, IMI_value_usefulness, IPAQ_moderateminutes, IPAQ_sittinghours, IPAQ_vigorousminutes, IPAQ_walkingminutes, NCS_get_job_done, NCS_deliberating_issues, NCS_prefer_complex, NCS_prefer_little_thought, NCS_intellectual_task, NCS_relief_not_satisfaction, NCS_like_responsibility, NCS_new_solutions_to_problems, NCS_avoid_depth, NCS_tasks_little_thought, NCS_think_minimally, NCS_satisfaction_in_deliberating, NCS_small_daily_projects, NCS_solve_puzzles, NCS_total, NCS_thinking_not_exciting, NCS_abstract_thinking, NCS_thought_appealing, NCS_thinking_not_fun, PLAN_cognitive_strategies, PLAN_temporal_orientation, PLAN_mental_forecasting, RMQ_assessment, RMQ_lie, RMQ_locomotion, RTFS_factor_1, RTFS_factor_2, SRHI_sum, SRHI_healthy, SRHI_unhealthy, TESQ_E_avoidance_of_temptations, TESQ_E_goal_deliberation, TESQ_E_distraction, TESQ_E_goal_and_rule_setting, TESQ_E_sum, TESQ_E_controlling_temptations, TESQ_E_suppression, education_own, zipcode_median_income_acs, household_income_level_medamount, household_income_per_person, ses_aggregate, SST_CorrectGo, SST_CorrectStop, SST_Cue, SST_FailedGo, SST_FailedStop, SST_prop_successful_stops, SST_reaction_time, SST_go_trial_reaction_time, SST_GRTint, SST_GRTmean, SST_GRTmedian, SST_GRTquant, SST_NRCount, SST_PctInhib, SST_SSD, SST_SSRT, SST_SSRTint, SST_SSRTquant, SST_pes_mean_limited, SST_PECG_mean, SST_PCCG_mean, SST_PostErrorSlowW1_mean, SST_PECG_median, SST_PCCG_median, SST_PostErrorSlowW1_median, ROC_Crave_Look, ROC_Crave_Regulate, ROC_Neutral_Look, ROC_No Crave_Look, ROC_Crave_Regulate_Minus_Look, ROC_Crave_Minus_Neutral, ROC_Crave_Minus_NoCrave, WTP_healthy, WTP_unhealthy, WTP_unhealthy_minus_healthy, SRHI_healthy_minus_unhealthy, RTFS_f1_minus_f2, IPAQ_walkingMETminutes, IPAQ_moderateMETminutes, IPAQ_vigorousMETminutes, IPAQ_total_METminutes, IPAQ_MET_kCal, birthsex_factor, FFQ_v2_Mean_Weighted_Nutrient_Density, FFQ_v2_Mean_Weighted_percent_daily_value, FFQ_v2_Mean_Dietary_Nutrient_Density, FFQ_v2_Mean_Energy_Density, FFQ_v2_Mean_Energy, chunks, targets'"
      ]
     },
     "execution_count": 26,
     "metadata": {},
     "output_type": "execute_result"
    }
   ],
   "source": [
    "\", \".join(sa_to_df(Brain_Data_allsubs.sa).columns)"
   ]
  },
  {
   "cell_type": "code",
   "execution_count": 27,
   "id": "simple-button",
   "metadata": {},
   "outputs": [
    {
     "name": "stdout",
     "output_type": "stream",
     "text": [
      "eliminating 8 of 81 items due to null input values.\n",
      "........................................................................."
     ]
    },
    {
     "data": {
      "text/plain": [
       "(-0.22230173762044284, 0.05871900289544976)"
      ]
     },
     "execution_count": 27,
     "metadata": {},
     "output_type": "execute_result"
    }
   ],
   "source": [
    "brain_data_filepath = ml_data_folderpath + '/SST/mvpa_Dataset_posterror_conditions_84subs_post_stop_cg_contrast.pkl'\n",
    "with open(brain_data_filepath, 'rb') as pkl_file:\n",
    "    Brain_Data_allsubs = pickle.load(pkl_file)\n",
    "\n",
    "Brain_Data_allsubs = setup_metadata(Brain_Data_allsubs,'FFQ_v2_Mean_Weighted_Nutrient_Density')\n",
    "\n",
    "regression_results = do_regression(Brain_Data_allsubs,do_Lasso)\n",
    "pearsonr(regression_results['sample_wise']['target_y'],regression_results['sample_wise']['pred_y'])"
   ]
  },
  {
   "cell_type": "code",
   "execution_count": 28,
   "id": "overall-variety",
   "metadata": {},
   "outputs": [],
   "source": [
    "brain_data_filepath = ml_data_folderpath + '/SST/mvpa_Dataset_posterror_conditions_84subs_post_stop_cg_contrast.pkl'\n",
    "with open(brain_data_filepath, 'rb') as pkl_file:\n",
    "    Brain_Data_allsubs = pickle.load(pkl_file)\n",
    "\n"
   ]
  },
  {
   "cell_type": "code",
   "execution_count": 29,
   "id": "characteristic-salem",
   "metadata": {},
   "outputs": [
    {
     "name": "stdout",
     "output_type": "stream",
     "text": [
      "FFQ_v2_Mean_Weighted_Nutrient_Density\n",
      "eliminating 8 of 81 items due to null input values.\n",
      ".........................................................................(-0.1432150784222959, 0.2267577179364377)\n",
      "---\n",
      "SST_pes_mean_limited\n",
      "eliminating 15 of 81 items due to null input values.\n",
      "..................................................................(-0.09079193424666142, 0.46844986440702807)\n",
      "---\n",
      "SST_PostErrorSlowW1_mean\n",
      "eliminating 16 of 81 items due to null input values.\n",
      ".................................................................(0.16705888041230982, 0.18348299519293643)\n",
      "---\n",
      "RTFS_factor_1\n",
      "eliminating 30 of 81 items due to null input values.\n",
      "...................................................(0.04786458620847692, 0.7387277441848147)\n",
      "---\n",
      "RTFS_factor_2\n",
      "eliminating 30 of 81 items due to null input values.\n",
      "...................................................(0.22507741662535566, 0.11229162427140402)\n",
      "---\n",
      "RTFS_f1_minus_f2\n",
      "eliminating 32 of 81 items due to null input values.\n",
      ".................................................(-0.20305515476652072, 0.16171733237562125)\n",
      "---\n"
     ]
    }
   ],
   "source": [
    "regression_results_dict = {}\n",
    "for regression_var in [\n",
    "    'FFQ_v2_Mean_Weighted_Nutrient_Density',\n",
    "    'SST_pes_mean_limited',\n",
    "    'SST_PostErrorSlowW1_mean',\n",
    "    'RTFS_factor_1',\n",
    "    'RTFS_factor_2','RTFS_f1_minus_f2'\n",
    "                      ]:\n",
    "    print(regression_var)\n",
    "    Brain_Data_allsubs = setup_metadata(Brain_Data_allsubs,regression_var)\n",
    "    regression_results = do_regression(Brain_Data_allsubs, get_prediction = do_Lasso)\n",
    "    regression_results_dict[regression_var] = regression_results\n",
    "    print(pearsonr(regression_results['sample_wise']['target_y'],regression_results['sample_wise']['pred_y']))\n",
    "    print(\"---\")"
   ]
  },
  {
   "cell_type": "markdown",
   "id": "liberal-vitamin",
   "metadata": {},
   "source": [
    "No signficant results here."
   ]
  },
  {
   "cell_type": "markdown",
   "id": "backed-credits",
   "metadata": {},
   "source": [
    "### two conditions separately"
   ]
  },
  {
   "cell_type": "code",
   "execution_count": 36,
   "id": "sudden-hospital",
   "metadata": {},
   "outputs": [],
   "source": [
    "brain_data_filepath = ml_data_folderpath + '/SST/mvpa_Dataset_posterror_conditions_84subs_post_stop_cg.pkl'\n",
    "#mvpa_Dataset_conditions_84subs_cor_stop_minus_go_contrast\n",
    "\n",
    "with open(brain_data_filepath, 'rb') as pkl_file:\n",
    "    Brain_Data_allsubs = pickle.load(pkl_file)\n"
   ]
  },
  {
   "cell_type": "code",
   "execution_count": 37,
   "id": "violent-defensive",
   "metadata": {},
   "outputs": [],
   "source": [
    "Brain_Data_CorrectGoFollowingCorrectStop = Brain_Data_allsubs[Brain_Data_allsubs.sa.condition_label=='CorrectGoFollowingCorrectStop']\n",
    "Brain_Data_CorrectGoFollowingFailedStop = Brain_Data_allsubs[Brain_Data_allsubs.sa.condition_label=='CorrectGoFollowingFailedStop']"
   ]
  },
  {
   "cell_type": "code",
   "execution_count": 38,
   "id": "deadly-exclusive",
   "metadata": {},
   "outputs": [],
   "source": [
    "def do_Ridge(train_X,train_y,test_X,test_y):\n",
    "    sklearn_regress = Ridge(alpha=2.0)\n",
    "    \n",
    "    sklearn_regress.fit(train_X, train_y)\n",
    "    \n",
    "    predict_y = sklearn_regress.predict(test_X)\n",
    "    return(predict_y,sklearn_regress)"
   ]
  },
  {
   "cell_type": "raw",
   "id": "mounted-thread",
   "metadata": {},
   "source": [
    "from sklearn.linear_model import Lasso\n",
    "def do_Lasso(train_X,train_y,test_X,test_y):\n",
    "    #if we fit intercept, it actually uses the y values to refit the items, \n",
    "    #adjusting everything up and down, and it can introduce _anticorrelation_ with the predicted value\n",
    "    #may need to mean-center the predicted variable _before_ analysis.\n",
    "    sklearn_regress = Lasso(alpha=1.0,fit_intercept=False)\n",
    "    \n",
    "    sklearn_regress.fit(train_X, train_y)\n",
    "    \n",
    "    predict_y = sklearn_regress.predict(test_X)\n",
    "    predict_train_y = sklearn_regress.predict(train_X)\n",
    "    pearsonr(predict_train_y,)\n",
    "#    print(predict_y,test_y)\n",
    "    return(predict_y,sklearn_regress)"
   ]
  },
  {
   "cell_type": "raw",
   "id": "specific-insured",
   "metadata": {},
   "source": [
    "from sklearn.linear_model import Lasso\n",
    "def do_Lasso2(train_X,train_y,test_X,test_y):\n",
    "    #if we fit intercept, it actually uses the y values to refit the items, \n",
    "    #adjusting everything up and down, and it can introduce _anticorrelation_ with the predicted value\n",
    "    #may need to mean-center the predicted variable _before_ analysis.\n",
    "    sklearn_regress = Lasso(alpha=1.0,fit_intercept=True)\n",
    "    \n",
    "    sklearn_regress.fit(train_X, train_y)\n",
    "    \n",
    "    predict_y = sklearn_regress.predict(test_X)\n",
    "#    print(predict_y,test_y)\n",
    "    return(predict_y,sklearn_regress)"
   ]
  },
  {
   "cell_type": "code",
   "execution_count": 39,
   "id": "handled-stocks",
   "metadata": {},
   "outputs": [
    {
     "name": "stdout",
     "output_type": "stream",
     "text": [
      "['CorrectGoFollowingCorrectStop']\n",
      "FFQ_v2_Mean_Weighted_Nutrient_Density\n",
      "eliminating 8 of 81 items due to null input values.\n",
      ".........................................................................(-0.30011621879321265, 0.009888657989672912)\n",
      "---\n",
      "SST_pes_mean_limited\n",
      "eliminating 15 of 81 items due to null input values.\n",
      "..................................................................(nan, nan)\n",
      "---\n",
      "SST_PostErrorSlowW1_mean\n",
      "eliminating 16 of 81 items due to null input values.\n",
      "."
     ]
    },
    {
     "name": "stderr",
     "output_type": "stream",
     "text": [
      "/home/bsmith16/.conda/envs/py3_mvpa/lib/python3.8/site-packages/scipy/stats/stats.py:3913: PearsonRConstantInputWarning: An input array is constant; the correlation coefficent is not defined.\n",
      "  warnings.warn(PearsonRConstantInputWarning())\n"
     ]
    },
    {
     "name": "stdout",
     "output_type": "stream",
     "text": [
      "................................................................(0.05323298519018589, 0.6736459649612041)\n",
      "---\n",
      "RTFS_factor_1\n",
      "eliminating 30 of 81 items due to null input values.\n",
      "...................................................(-0.45607727688272515, 0.0007695946729048088)\n",
      "---\n",
      "RTFS_factor_2\n",
      "eliminating 30 of 81 items due to null input values.\n",
      "...................................................(0.2623669722447763, 0.06289194320407067)\n",
      "---\n",
      "RTFS_f1_minus_f2\n",
      "eliminating 32 of 81 items due to null input values.\n",
      ".................................................(-0.04979495235856285, 0.7340242673822558)\n",
      "---\n",
      "['CorrectGoFollowingFailedStop']\n",
      "FFQ_v2_Mean_Weighted_Nutrient_Density\n",
      "eliminating 8 of 81 items due to null input values.\n",
      ".........................................................................(-0.3480589314735139, 0.0025491622451461766)\n",
      "---\n",
      "SST_pes_mean_limited\n",
      "eliminating 15 of 81 items due to null input values.\n",
      "..................................................................(-0.1474417027913058, 0.23744164792708422)\n",
      "---\n",
      "SST_PostErrorSlowW1_mean\n",
      "eliminating 16 of 81 items due to null input values.\n",
      ".................................................................(-0.14351965439243608, 0.25405412711075775)\n",
      "---\n",
      "RTFS_factor_1\n",
      "eliminating 30 of 81 items due to null input values.\n",
      "...................................................(-0.25790743052522974, 0.06766752037478309)\n",
      "---\n",
      "RTFS_factor_2\n",
      "eliminating 30 of 81 items due to null input values.\n",
      "...................................................(0.09346311471593406, 0.5141797474766746)\n",
      "---\n",
      "RTFS_f1_minus_f2\n",
      "eliminating 32 of 81 items due to null input values.\n",
      ".................................................(-0.23567550913462623, 0.10306033862920526)\n",
      "---\n"
     ]
    }
   ],
   "source": [
    "for bd in [Brain_Data_CorrectGoFollowingCorrectStop, Brain_Data_CorrectGoFollowingFailedStop]:\n",
    "    print(np.unique(bd.sa.condition_label))\n",
    "    for regression_var in [\n",
    "    'FFQ_v2_Mean_Weighted_Nutrient_Density',\n",
    "    'SST_pes_mean_limited',\n",
    "    'SST_PostErrorSlowW1_mean',\n",
    "    'RTFS_factor_1',\n",
    "    'RTFS_factor_2',\n",
    "        'RTFS_f1_minus_f2'\n",
    "                          ]:\n",
    "        print(regression_var)\n",
    "        \n",
    "        bd = setup_metadata(bd,regression_var)\n",
    "        regression_results = do_regression(bd, get_prediction = do_Lasso)\n",
    "        regression_results_dict[regression_var] = regression_results\n",
    "        print(pearsonr(regression_results['sample_wise']['target_y'],regression_results['sample_wise']['pred_y']))\n",
    "        print(\"---\")"
   ]
  },
  {
   "cell_type": "markdown",
   "id": "color-uganda",
   "metadata": {},
   "source": [
    "Predictions passing the threshold of r>=0.25:\n",
    "    \n",
    " - RTFS_factor_2 * CorrectGoFollowingCorrectStop\n"
   ]
  },
  {
   "cell_type": "code",
   "execution_count": 40,
   "id": "divine-professional",
   "metadata": {},
   "outputs": [
    {
     "data": {
      "text/plain": [
       "-3.6252180395923476e-17"
      ]
     },
     "execution_count": 40,
     "metadata": {},
     "output_type": "execute_result"
    }
   ],
   "source": [
    "regression_results['sample_wise'].target_y.mean()"
   ]
  },
  {
   "cell_type": "code",
   "execution_count": 41,
   "id": "challenging-radiation",
   "metadata": {},
   "outputs": [
    {
     "data": {
      "text/plain": [
       "array([        nan,         nan,         nan,         nan,  2.01547744,\n",
       "               nan,         nan,         nan, -2.33438633,  0.77265922,\n",
       "               nan,         nan,  0.42467012,         nan,         nan,\n",
       "       -0.470159  ,         nan, -1.26556266,         nan,         nan,\n",
       "               nan,         nan,         nan,         nan,         nan,\n",
       "       -0.04760081,         nan,  0.82237195,         nan,         nan,\n",
       "       -0.84300447,         nan, -1.83725905,  1.59291924,  1.06070062,\n",
       "               nan, -0.53117008, -0.79329174, -1.21224756, -1.19099357,\n",
       "       -0.81814811,  1.09579195,  0.05182465, -0.24844555, -0.76843538,\n",
       "        0.37495739,  0.94665377,         nan,  0.27553193, -0.24645172,\n",
       "        0.16028878,         nan,  0.69809012, -2.02616742,  0.15125011,\n",
       "       -0.84300447,  0.79751558,  0.49923921,  0.59866467,         nan,\n",
       "       -0.59444083,         nan, -0.53407537,  0.25067556,  0.20096284,\n",
       "        0.82237195, -1.51412631,  0.69809012,  0.58091012, -0.12472431,\n",
       "        0.27814839,         nan, -1.16613721,         nan,  1.59291924,\n",
       "       -0.74357901,         nan,  0.67323376,  0.60258936,  2.11490289,\n",
       "               nan])"
      ]
     },
     "execution_count": 41,
     "metadata": {},
     "output_type": "execute_result"
    }
   ],
   "source": [
    "bd.sa.targets"
   ]
  },
  {
   "cell_type": "code",
   "execution_count": 42,
   "id": "disciplinary-punch",
   "metadata": {},
   "outputs": [
    {
     "data": {
      "text/plain": [
       "<matplotlib.collections.PathCollection at 0x2aaaf941bf10>"
      ]
     },
     "execution_count": 42,
     "metadata": {},
     "output_type": "execute_result"
    },
    {
     "data": {
      "image/png": "[encoded data removed]",
      "text/plain": [
       "<Figure size 432x288 with 1 Axes>"
      ]
     },
     "metadata": {
      "needs_background": "light"
     },
     "output_type": "display_data"
    }
   ],
   "source": [
    "from matplotlib.pyplot import scatter\n",
    "scatter(regression_results['sample_wise']['target_y'],regression_results['sample_wise']['pred_y'])"
   ]
  },
  {
   "cell_type": "code",
   "execution_count": 43,
   "id": "selective-virtue",
   "metadata": {},
   "outputs": [
    {
     "data": {
      "text/plain": [
       "(-0.23567550913462623, 0.10306033862920526)"
      ]
     },
     "execution_count": 43,
     "metadata": {},
     "output_type": "execute_result"
    }
   ],
   "source": [
    "pearsonr(regression_results['sample_wise']['target_y'],regression_results['sample_wise']['pred_y'])"
   ]
  },
  {
   "cell_type": "code",
   "execution_count": 44,
   "id": "lucky-observer",
   "metadata": {},
   "outputs": [
    {
     "name": "stdout",
     "output_type": "stream",
     "text": [
      "finishsed\n"
     ]
    }
   ],
   "source": [
    "print('finishsed')"
   ]
  },
  {
   "cell_type": "markdown",
   "id": "ambient-thing",
   "metadata": {},
   "source": [
    "## Correct STop and Correct Go spatially concatenated"
   ]
  },
  {
   "cell_type": "code",
   "execution_count": null,
   "id": "american-terminal",
   "metadata": {},
   "outputs": [],
   "source": []
  }
 ],
 "metadata": {
  "kernelspec": {
   "display_name": "Python [conda env:.conda-py3_mvpa]",
   "language": "python",
   "name": "conda-env-.conda-py3_mvpa-py"
  },
  "language_info": {
   "codemirror_mode": {
    "name": "ipython",
    "version": 3
   },
   "file_extension": ".py",
   "mimetype": "text/x-python",
   "name": "python",
   "nbconvert_exporter": "python",
   "pygments_lexer": "ipython3",
   "version": "3.8.12"
  }
 },
 "nbformat": 4,
 "nbformat_minor": 5
}
