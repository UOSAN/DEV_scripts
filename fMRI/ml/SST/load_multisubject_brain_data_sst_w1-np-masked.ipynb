{
 "cells": [
  {
   "cell_type": "code",
   "execution_count": 6,
   "id": "african-praise",
   "metadata": {},
   "outputs": [],
   "source": [
    "import sys\n",
    "import os\n",
    "import pandas as pd\n",
    "\n",
    "sys.path.append(os.path.abspath(\"../../ml/\"))\n",
    "\n",
    "from dev_wtp_io_utils import *"
   ]
  },
  {
   "cell_type": "code",
   "execution_count": 7,
   "id": "general-expansion",
   "metadata": {},
   "outputs": [],
   "source": [
    "# nonbids_data_path = \"/gpfs/projects/sanlab/shared/DEV/nonbids_data/\"\n",
    "# ml_data_folderpath = \"/gpfs/projects/sanlab/shared/DEV/nonbids_data/fMRI/ml\"\n",
    "\n",
    "sys.path.append(os.path.abspath(\"../../ml/\"))\n",
    "from apply_loocv_and_save import load_and_preprocess\n",
    "from dev_utils import read_yaml_for_host\n",
    "import warnings\n",
    "\n",
    "\n",
    "config_data = read_yaml_for_host(\"sst_config.yml\")\n",
    "\n"
   ]
  },
  {
   "cell_type": "code",
   "execution_count": 8,
   "id": "7f6a6981",
   "metadata": {},
   "outputs": [],
   "source": [
    "nonbids_data_path = config_data['nonbids_data_path']\n",
    "ml_data_folderpath = nonbids_data_path + \"fMRI/ml\"\n"
   ]
  },
  {
   "cell_type": "code",
   "execution_count": 9,
   "id": "precious-maldives",
   "metadata": {},
   "outputs": [
    {
     "data": {
      "text/plain": [
       "'/Users/benjaminsmith/Google Drive/oregon/data/DEV/nonbids_data/'"
      ]
     },
     "execution_count": 9,
     "metadata": {},
     "output_type": "execute_result"
    }
   ],
   "source": [
    "nonbids_data_path"
   ]
  },
  {
   "cell_type": "code",
   "execution_count": 10,
   "id": "charming-iraqi",
   "metadata": {},
   "outputs": [],
   "source": [
    "#test_train_df_raw = pd.read_csv(nonbids_data_path + \"fMRI/ml/train_test_markers_20210601T183243.csv\")\n",
    "#test_train_df_raw = pd.read_csv(nonbids_data_path + \"fMRI/ml/train_test_markers_20211027T173724.csv\")\n",
    "test_train_df_raw = pd.read_csv(nonbids_data_path + \"fMRI/ml/train_test_markers_20220818T144138.csv\")\n",
    "test_train_df_raw = pd.read_csv(nonbids_data_path + \"fMRI/ml/train_test_markers_20230102T164214.csv\")\n"
   ]
  },
  {
   "cell_type": "code",
   "execution_count": 11,
   "id": "hispanic-cover",
   "metadata": {},
   "outputs": [],
   "source": [
    "include_exclude_list = pd.read_csv(\"../nsc_subject_exclusions.csv\")"
   ]
  },
  {
   "cell_type": "code",
   "execution_count": 12,
   "id": "preliminary-prompt",
   "metadata": {},
   "outputs": [],
   "source": [
    "test_train_df_raw = test_train_df_raw.merge(include_exclude_list[include_exclude_list.Task=='SST'],left_on='sub_label',right_on='SubjectId',how='left')\n",
    "test_train_df_raw.loc[test_train_df_raw.Include.isna(),'Include'] = True\n",
    "test_train_df = test_train_df_raw[test_train_df_raw.Include==True]"
   ]
  },
  {
   "cell_type": "code",
   "execution_count": 13,
   "id": "restricted-discipline",
   "metadata": {},
   "outputs": [],
   "source": [
    "exclude_subjects = [\n",
    "    'DEV012','DEV018', 'DEV068', 'DEV073','DEV159', #excluded during the conversion process for reasons I'm not sure about\n",
    "\n",
    "    'DEV061','DEV185','DEV187',\n",
    "    'DEV189','DEV190','DEV192',\n",
    "    'DEV198','DEV203','DEV220','DEV221']\n",
    "#2022-01-06 added DEV157 because of an error\n",
    "#2023-01-02 to -03 added DEV068, DEV101 because of an error"
   ]
  },
  {
   "cell_type": "code",
   "execution_count": 14,
   "id": "adjusted-midnight",
   "metadata": {},
   "outputs": [],
   "source": [
    "train_subjs = test_train_df.loc[test_train_df.SplitGroup_75_25=='Train','sub_label'].tolist()#only get the train subjects; ignore those previously marked hold-out"
   ]
  },
  {
   "cell_type": "code",
   "execution_count": 15,
   "id": "resistant-charter",
   "metadata": {},
   "outputs": [],
   "source": [
    "def get_Brain_Data_for_sub(sub_label,behavdesign,betaseries_path='/gpfs/projects/sanlab/shared/DEV/nonbids_data/fMRI/fx/models/SST/wave1/betaseries_nos/'):\n",
    "    return(dev_wtp_io_utils.get_Brain_Data_betas_for_sub(sub_label,behavdesign,betaseries_path))"
   ]
  },
  {
   "cell_type": "code",
   "execution_count": 17,
   "id": "vulnerable-approval",
   "metadata": {},
   "outputs": [],
   "source": [
    "from dev_wtp_io_utils import import_sst_betaseries_w1_subjs_to_masked_numpy_pkl"
   ]
  },
  {
   "cell_type": "code",
   "execution_count": 18,
   "id": "contemporary-lloyd",
   "metadata": {},
   "outputs": [],
   "source": [
    "all_sst_events= pd.read_csv(ml_data_folderpath +\"/SST/\" + \"all_sst_events.csv\")\n",
    "#cut out other waves\n",
    "sst_1_behavdesign_1 = all_sst_events[(all_sst_events.wave=='wave1')].reset_index(drop=True)\n",
    "#label the ITI as such\n",
    "sst_1_behavdesign_1.loc[(all_sst_events.trial_type.isna()),'trial_type']='ITI'\n",
    "#ensure it is correctly ordered\n",
    "sst_1_behavdesign_clean = sst_1_behavdesign_1.sort_values(['subject','onset']).reset_index(drop=True)\n",
    "#now tell it the name of the corresponding beta. this is easy; they are all consecutive\n",
    "sst_1_behavdesign_clean['beta'] = 'beta_' + (sst_1_behavdesign_clean.groupby(['subject','wave']).cumcount()+1).astype(str).apply(lambda x: x.zfill(4)) + '.nii'"
   ]
  },
  {
   "cell_type": "code",
   "execution_count": 19,
   "id": "adequate-encyclopedia",
   "metadata": {},
   "outputs": [],
   "source": [
    "#I want to import this other module; we don't actually use it but it's a good reference\n",
    "#for future programmers to see\n",
    "#it's important we keep the logic consistent for the two main conditions\n",
    "sys.path.append(os.path.abspath(\"../../fx/multiconds/SST/\"))\n",
    "from multiconds import create_posterror_masks_from_masks\n",
    "\n",
    "#sst_1_behavdesign_clean['prev_trial_type'] = sst_1_behavdesign_clean['trial_type']\n",
    "sst_1_behavdesign_clean['prev_trial_type'] = (\n",
    "    sst_1_behavdesign_clean\n",
    "    .loc[sst_1_behavdesign_clean['trial_type']!='ITI']\n",
    "    .groupby(['subject','wave'])\n",
    "    .shift(1)\n",
    "    ['trial_type']\n",
    ")#this works because during assignment, items will be assigned to the line corresponding to their index\n",
    "#very important you don't reset index during this operation.\n",
    "is_post_stop_correct_go = (\n",
    "    (sst_1_behavdesign_clean['trial_type']=='correct-go') & \n",
    "    (sst_1_behavdesign_clean['prev_trial_type'].isin(['failed-stop','correct-stop']))\n",
    ")\n",
    "\n",
    "sst_1_behavdesign_clean.loc[is_post_stop_correct_go,'post_stop_correct_go_subtype'] = 'Other'\n",
    "sst_1_behavdesign_clean.loc[is_post_stop_correct_go & (sst_1_behavdesign_clean['prev_trial_type']=='failed-stop'),'post_stop_correct_go_subtype'] = 'post-error'\n",
    "sst_1_behavdesign_clean.loc[is_post_stop_correct_go & (sst_1_behavdesign_clean['prev_trial_type']=='correct-stop'),'post_stop_correct_go_subtype'] = 'post-correct'\n"
   ]
  },
  {
   "cell_type": "code",
   "execution_count": 20,
   "id": "executive-chuck",
   "metadata": {},
   "outputs": [
    {
     "data": {
      "text/html": [
       "<div>\n",
       "<style scoped>\n",
       "    .dataframe tbody tr th:only-of-type {\n",
       "        vertical-align: middle;\n",
       "    }\n",
       "\n",
       "    .dataframe tbody tr th {\n",
       "        vertical-align: top;\n",
       "    }\n",
       "\n",
       "    .dataframe thead th {\n",
       "        text-align: right;\n",
       "    }\n",
       "</style>\n",
       "<table border=\"1\" class=\"dataframe\">\n",
       "  <thead>\n",
       "    <tr style=\"text-align: right;\">\n",
       "      <th></th>\n",
       "      <th>trial_type</th>\n",
       "      <th>post_stop_correct_go_subtype</th>\n",
       "      <th>0</th>\n",
       "    </tr>\n",
       "  </thead>\n",
       "  <tbody>\n",
       "    <tr>\n",
       "      <th>0</th>\n",
       "      <td>correct-go</td>\n",
       "      <td>post-correct</td>\n",
       "      <td>1879</td>\n",
       "    </tr>\n",
       "    <tr>\n",
       "      <th>1</th>\n",
       "      <td>correct-go</td>\n",
       "      <td>post-error</td>\n",
       "      <td>2145</td>\n",
       "    </tr>\n",
       "  </tbody>\n",
       "</table>\n",
       "</div>"
      ],
      "text/plain": [
       "   trial_type post_stop_correct_go_subtype     0\n",
       "0  correct-go                 post-correct  1879\n",
       "1  correct-go                   post-error  2145"
      ]
     },
     "execution_count": 20,
     "metadata": {},
     "output_type": "execute_result"
    }
   ],
   "source": [
    "sst_1_behavdesign_clean.groupby(['trial_type','post_stop_correct_go_subtype']).size().reset_index()"
   ]
  },
  {
   "cell_type": "code",
   "execution_count": 21,
   "id": "introductory-captain",
   "metadata": {},
   "outputs": [
    {
     "data": {
      "text/plain": [
       "ITI             26112\n",
       "correct-go      18750\n",
       "failed-stop      3434\n",
       "correct-stop     3094\n",
       "failed-go         834\n",
       "Name: trial_type, dtype: int64"
      ]
     },
     "execution_count": 21,
     "metadata": {},
     "output_type": "execute_result"
    }
   ],
   "source": [
    "sst_1_behavdesign_clean['trial_type'].value_counts()"
   ]
  },
  {
   "cell_type": "code",
   "execution_count": 22,
   "id": "falling-stationery",
   "metadata": {},
   "outputs": [],
   "source": [
    "behavdesign = sst_1_behavdesign_clean\n",
    "sst_1_behavdesign_clean_dev005 = behavdesign[[s in 'DEV005' for s in behavdesign.subject]]"
   ]
  },
  {
   "cell_type": "markdown",
   "id": "personal-latvia",
   "metadata": {},
   "source": [
    "## Just subjects in the conditions of interest: CorrectStop vs. CorrectGo"
   ]
  },
  {
   "cell_type": "code",
   "execution_count": 23,
   "id": "indian-blood",
   "metadata": {},
   "outputs": [
    {
     "data": {
      "text/plain": [
       "ITI             26112\n",
       "correct-go      18750\n",
       "failed-stop      3434\n",
       "correct-stop     3094\n",
       "failed-go         834\n",
       "Name: trial_type, dtype: int64"
      ]
     },
     "execution_count": 23,
     "metadata": {},
     "output_type": "execute_result"
    }
   ],
   "source": [
    "sst_1_behavdesign_clean.trial_type.value_counts()"
   ]
  },
  {
   "cell_type": "code",
   "execution_count": 24,
   "id": "simplified-leonard",
   "metadata": {},
   "outputs": [],
   "source": [
    "sst_1_behavdesign_correct_conditions=sst_1_behavdesign_clean[sst_1_behavdesign_clean.trial_type.isin(['correct-go','correct-stop'])]"
   ]
  },
  {
   "cell_type": "code",
   "execution_count": 25,
   "id": "smooth-electric",
   "metadata": {},
   "outputs": [
    {
     "data": {
      "text/plain": [
       "correct-go      18750\n",
       "correct-stop     3094\n",
       "Name: trial_type, dtype: int64"
      ]
     },
     "execution_count": 25,
     "metadata": {},
     "output_type": "execute_result"
    }
   ],
   "source": [
    "sst_1_behavdesign_correct_conditions.trial_type.value_counts()"
   ]
  },
  {
   "cell_type": "code",
   "execution_count": 26,
   "id": "touched-knock",
   "metadata": {},
   "outputs": [],
   "source": [
    "#we have data missing fro mthese subjects below. not enstirely sure yet; see \n",
    "#https://docs.google.com/document/d/1EB0ACA6qhMkDEgv-zqNTepPCe_x41fRQHaeqT47vazM/edit#heading=h.60rb13rlxkrq\n",
    "\n",
    "\n",
    "train_subjs_selected = [ts for ts in train_subjs if (ts not in exclude_subjects)]"
   ]
  },
  {
   "cell_type": "markdown",
   "id": "completed-progress",
   "metadata": {},
   "source": [
    "### Now mask those subjects"
   ]
  },
  {
   "cell_type": "code",
   "execution_count": 27,
   "id": "f3575031",
   "metadata": {},
   "outputs": [],
   "source": [
    "# get the PFC mask\n",
    "mask_path = ml_data_folderpath + '/prefrontal_cortex.nii.gz'\n",
    "mask_pfc = nib.load(ml_data_folderpath + '/prefrontal_cortex.nii.gz')"
   ]
  },
  {
   "cell_type": "code",
   "execution_count": 30,
   "id": "d5fba2ec",
   "metadata": {},
   "outputs": [
    {
     "data": {
      "text/plain": [
       "'DEV011 DEV020 DEV047 DEV063 DEV064 DEV067 DEV075 DEV088 DEV094 DEV097 DEV100 DEV102 DEV105 DEV107 DEV111 DEV113 DEV114 DEV116 DEV118 DEV119 DEV135 DEV138 DEV141 DEV144 DEV145 DEV155 DEV156 DEV157 DEV158 DEV159 DEV161 DEV164 DEV168 DEV169 DEV171 DEV173 DEV174 DEV176 DEV177 DEV178 DEV183 DEV185 DEV186 DEV187 DEV189 DEV191 DEV192 DEV193 DEV194 DEV196 DEV197 DEV198 DEV201 DEV202 DEV203 DEV205 DEV206 DEV208 DEV209 DEV211 DEV215 DEV216 DEV217 DEV218 DEV220 DEV221 DEV222 DEV223 DEV224 DEV004 DEV005 DEV006 DEV009 DEV010 DEV012 DEV013 DEV014 DEV015 DEV016 DEV017 DEV018 DEV019 DEV021 DEV022 DEV023 DEV024 DEV025 DEV026 DEV027 DEV028 DEV029 DEV030 DEV033 DEV034 DEV035 DEV036 DEV038 DEV039 DEV040 DEV041 DEV042 DEV043 DEV044 DEV045 DEV046 DEV048 DEV049 DEV050 DEV051 DEV052 DEV053 DEV054 DEV055 DEV056 DEV057 DEV058 DEV059 DEV060 DEV061 DEV062 DEV065 DEV066 DEV068 DEV069 DEV070 DEV071 DEV073 DEV074 DEV076 DEV077 DEV079 DEV080 DEV083 DEV084 DEV085 DEV086 DEV087 DEV089 DEV210 DEV228 DEV230 DEV231 DEV232 DEV233 DEV234 DEV236 DEV237 DEV238 DEV239 DEV240 DEV243 DEV244 DEV247 DEV249 DEV250 DEV251 DEV252 DEV254 DEV255 DEV256 DEV259 DEV260 DEV262 DEV264 DEV265 DEV266 DEV267 DEV268 DEV272 DEV273 DEV274 DEV275 DEV276 DEV277 DEV278 DEV281 DEV283 DEV284 DEV285 DEV286 DEV290 DEV291 DEV293 DEV101 DEV104 DEV109 DEV115 DEV124 DEV126 DEV128 DEV129 DEV130 DEV132 DEV134 DEV139 DEV140 DEV151 DEV190 DEV292 DEV294 DEV295 DEV296 DEV297 DEV299 DEV300 DEV303 DEV304 DEV305 DEV306 DEV309 DEV310 DEV312'"
      ]
     },
     "execution_count": 30,
     "metadata": {},
     "output_type": "execute_result"
    }
   ],
   "source": [
    "\" \".join(train_subjs)"
   ]
  },
  {
   "cell_type": "code",
   "execution_count": 32,
   "id": "ef3a684e",
   "metadata": {},
   "outputs": [
    {
     "name": "stdout",
     "output_type": "stream",
     "text": [
      "/Users/benjaminsmith/Google Drive/oregon/data/DEV/nonbids_data/fMRI/fx/models/SST/wave1/betaseries_nos/\n",
      "DEV011\n",
      "...............................................................................................................verified that all expected betas exist! Processing...retrieving a mask from the first image in the series beta_0003.nii\n",
      "...using a combined mask of the first image and the passed in masktemp mask created.\n",
      "loading files. This step may take some time...\n",
      "converting to nifti and fdata\n",
      "          onset  duration  trial_type subject   wave           beta  \\\n",
      "1794    2.75834   0.64209  correct-go  DEV011  wave1  beta_0003.nii   \n",
      "1796    5.51390   0.56936  correct-go  DEV011  wave1  beta_0005.nii   \n",
      "1798    9.02224   0.46994  correct-go  DEV011  wave1  beta_0007.nii   \n",
      "1800   12.52780   0.40205  correct-go  DEV011  wave1  beta_0009.nii   \n",
      "1802   15.90975   0.44627  correct-go  DEV011  wave1  beta_0011.nii   \n",
      "...         ...       ...         ...     ...    ...            ...   \n",
      "2032  395.98194   0.43385  correct-go  DEV011  wave1  beta_0241.nii   \n",
      "2034  398.86111   0.60501  correct-go  DEV011  wave1  beta_0243.nii   \n",
      "2038  403.99723   0.65516  correct-go  DEV011  wave1  beta_0247.nii   \n",
      "2040  407.31460   0.55862  correct-go  DEV011  wave1  beta_0249.nii   \n",
      "2044  414.57572   0.76224  correct-go  DEV011  wave1  beta_0253.nii   \n",
      "\n",
      "     prev_trial_type post_stop_correct_go_subtype  \n",
      "1794     failed-stop                   post-error  \n",
      "1796      correct-go                          NaN  \n",
      "1798      correct-go                          NaN  \n",
      "1800      correct-go                          NaN  \n",
      "1802      correct-go                          NaN  \n",
      "...              ...                          ...  \n",
      "2032       failed-go                          NaN  \n",
      "2034      correct-go                          NaN  \n",
      "2038     failed-stop                   post-error  \n",
      "2040      correct-go                          NaN  \n",
      "2044       failed-go                          NaN  \n",
      "\n",
      "[108 rows x 8 columns]\n",
      "...imported data.\n",
      "DEV020\n",
      "...................................................................................................................verified that all expected betas exist! Processing...retrieving a mask from the first image in the series beta_0003.nii\n",
      "...using a combined mask of the first image and the passed in masktemp mask created.\n",
      "loading files. This step may take some time...\n",
      "converting to nifti and fdata\n",
      "          onset  duration    trial_type subject   wave           beta  \\\n",
      "4098    2.75834   0.75769    correct-go  DEV020  wave1  beta_0003.nii   \n",
      "4100    5.51390   0.53414    correct-go  DEV020  wave1  beta_0005.nii   \n",
      "4102    9.02224   0.60132    correct-go  DEV020  wave1  beta_0007.nii   \n",
      "4104   12.52780   0.62845    correct-go  DEV020  wave1  beta_0009.nii   \n",
      "4106   15.90975   0.63436    correct-go  DEV020  wave1  beta_0011.nii   \n",
      "...         ...       ...           ...     ...    ...            ...   \n",
      "4340  401.49167   2.00556  correct-stop  DEV020  wave1  beta_0245.nii   \n",
      "4342  403.99723   0.60572    correct-go  DEV020  wave1  beta_0247.nii   \n",
      "4344  407.31460   0.57269    correct-go  DEV020  wave1  beta_0249.nii   \n",
      "4346  410.82016   0.48897    correct-go  DEV020  wave1  beta_0251.nii   \n",
      "4348  414.57572   0.00126    correct-go  DEV020  wave1  beta_0253.nii   \n",
      "\n",
      "     prev_trial_type post_stop_correct_go_subtype  \n",
      "4098     failed-stop                   post-error  \n",
      "4100      correct-go                          NaN  \n",
      "4102      correct-go                          NaN  \n",
      "4104      correct-go                          NaN  \n",
      "4106      correct-go                          NaN  \n",
      "...              ...                          ...  \n",
      "4340      correct-go                          NaN  \n",
      "4342    correct-stop                 post-correct  \n",
      "4344      correct-go                          NaN  \n",
      "4346      correct-go                          NaN  \n",
      "4348      correct-go                          NaN  \n",
      "\n",
      "[112 rows x 8 columns]\n",
      "...imported data.\n",
      "1\n"
     ]
    },
    {
     "name": "stderr",
     "output_type": "stream",
     "text": [
      "/Users/benjaminsmith/opt/anaconda3/envs/neuralsignature/lib/python3.10/site-packages/nltools/data/brain_data.py:887: FutureWarning: The frame.append method is deprecated and will be removed from pandas in a future version. Use pandas.concat instead.\n",
      "  out.X = self.X.append(data.X, **kwargs)\n"
     ]
    },
    {
     "ename": "IndexError",
     "evalue": "arrays used as indices must be of integer (or boolean) type",
     "output_type": "error",
     "traceback": [
      "\u001b[0;31m---------------------------------------------------------------------------\u001b[0m",
      "\u001b[0;31mIndexError\u001b[0m                                Traceback (most recent call last)",
      "\u001b[1;32m/Users/benjaminsmith/Google Drive/oregon/code/DEV_scripts/fMRI/ml/SST/load_multisubject_brain_data_sst_w1-np-masked.ipynb Cell 25\u001b[0m in \u001b[0;36m<cell line: 1>\u001b[0;34m()\u001b[0m\n\u001b[0;32m----> <a href='vscode-notebook-cell:/Users/benjaminsmith/Google%20Drive/oregon/code/DEV_scripts/fMRI/ml/SST/load_multisubject_brain_data_sst_w1-np-masked.ipynb#X33sZmlsZQ%3D%3D?line=0'>1</a>\u001b[0m import_sst_betaseries_w1_subjs_to_masked_numpy_pkl(\n\u001b[1;32m      <a href='vscode-notebook-cell:/Users/benjaminsmith/Google%20Drive/oregon/code/DEV_scripts/fMRI/ml/SST/load_multisubject_brain_data_sst_w1-np-masked.ipynb#X33sZmlsZQ%3D%3D?line=1'>2</a>\u001b[0m     train_subjs[\u001b[39m0\u001b[39;49m:\u001b[39m2\u001b[39;49m],\u001b[39m'\u001b[39;49m\u001b[39mbetaseries_nos\u001b[39;49m\u001b[39m'\u001b[39;49m,\n\u001b[1;32m      <a href='vscode-notebook-cell:/Users/benjaminsmith/Google%20Drive/oregon/code/DEV_scripts/fMRI/ml/SST/load_multisubject_brain_data_sst_w1-np-masked.ipynb#X33sZmlsZQ%3D%3D?line=2'>3</a>\u001b[0m     behavioral_design\u001b[39m=\u001b[39;49msst_1_behavdesign_correct_conditions,\n\u001b[1;32m      <a href='vscode-notebook-cell:/Users/benjaminsmith/Google%20Drive/oregon/code/DEV_scripts/fMRI/ml/SST/load_multisubject_brain_data_sst_w1-np-masked.ipynb#X33sZmlsZQ%3D%3D?line=3'>4</a>\u001b[0m     mask_path\u001b[39m=\u001b[39;49mmask_path,\n\u001b[1;32m      <a href='vscode-notebook-cell:/Users/benjaminsmith/Google%20Drive/oregon/code/DEV_scripts/fMRI/ml/SST/load_multisubject_brain_data_sst_w1-np-masked.ipynb#X33sZmlsZQ%3D%3D?line=4'>5</a>\u001b[0m     out_folder \u001b[39m=\u001b[39;49m ml_data_folderpath \u001b[39m+\u001b[39;49m \u001b[39m\"\u001b[39;49m\u001b[39m/SST/\u001b[39;49m\u001b[39m\"\u001b[39;49m,\n\u001b[1;32m      <a href='vscode-notebook-cell:/Users/benjaminsmith/Google%20Drive/oregon/code/DEV_scripts/fMRI/ml/SST/load_multisubject_brain_data_sst_w1-np-masked.ipynb#X33sZmlsZQ%3D%3D?line=5'>6</a>\u001b[0m     out_file_suffix \u001b[39m=\u001b[39;49m \u001b[39m'\u001b[39;49m\u001b[39m_correct_cond_pfc\u001b[39;49m\u001b[39m'\u001b[39;49m,\n\u001b[1;32m      <a href='vscode-notebook-cell:/Users/benjaminsmith/Google%20Drive/oregon/code/DEV_scripts/fMRI/ml/SST/load_multisubject_brain_data_sst_w1-np-masked.ipynb#X33sZmlsZQ%3D%3D?line=6'>7</a>\u001b[0m     sst_wt_repo \u001b[39m=\u001b[39;49m nonbids_data_path \u001b[39m+\u001b[39;49m \u001b[39m\"\u001b[39;49m\u001b[39mfMRI/fx/models/SST/wave1/\u001b[39;49m\u001b[39m\"\u001b[39;49m,\n\u001b[1;32m      <a href='vscode-notebook-cell:/Users/benjaminsmith/Google%20Drive/oregon/code/DEV_scripts/fMRI/ml/SST/load_multisubject_brain_data_sst_w1-np-masked.ipynb#X33sZmlsZQ%3D%3D?line=7'>8</a>\u001b[0m     subj_brain_data_args \u001b[39m=\u001b[39;49m {\n\u001b[1;32m      <a href='vscode-notebook-cell:/Users/benjaminsmith/Google%20Drive/oregon/code/DEV_scripts/fMRI/ml/SST/load_multisubject_brain_data_sst_w1-np-masked.ipynb#X33sZmlsZQ%3D%3D?line=8'>9</a>\u001b[0m         \u001b[39m'\u001b[39;49m\u001b[39mstandardize_by_condition\u001b[39;49m\u001b[39m'\u001b[39;49m:\u001b[39mFalse\u001b[39;49;00m,\n\u001b[1;32m     <a href='vscode-notebook-cell:/Users/benjaminsmith/Google%20Drive/oregon/code/DEV_scripts/fMRI/ml/SST/load_multisubject_brain_data_sst_w1-np-masked.ipynb#X33sZmlsZQ%3D%3D?line=9'>10</a>\u001b[0m         \u001b[39m'\u001b[39;49m\u001b[39mmask\u001b[39;49m\u001b[39m'\u001b[39;49m:mask_pfc\n\u001b[1;32m     <a href='vscode-notebook-cell:/Users/benjaminsmith/Google%20Drive/oregon/code/DEV_scripts/fMRI/ml/SST/load_multisubject_brain_data_sst_w1-np-masked.ipynb#X33sZmlsZQ%3D%3D?line=10'>11</a>\u001b[0m     }\n\u001b[1;32m     <a href='vscode-notebook-cell:/Users/benjaminsmith/Google%20Drive/oregon/code/DEV_scripts/fMRI/ml/SST/load_multisubject_brain_data_sst_w1-np-masked.ipynb#X33sZmlsZQ%3D%3D?line=11'>12</a>\u001b[0m     )\n",
      "File \u001b[0;32m~/Google Drive/oregon/code/DEV_scripts/fMRI/ml/dev_wtp_io_utils.py:1152\u001b[0m, in \u001b[0;36mimport_sst_betaseries_w1_subjs_to_masked_numpy_pkl\u001b[0;34m(subjs, first_level_fileid, behavioral_design, mask_path, out_folder, out_file_suffix, sst_wt_repo, subj_brain_data_args)\u001b[0m\n\u001b[1;32m   1144\u001b[0m subj_count \u001b[39m=\u001b[39m \u001b[39mlen\u001b[39m(subjs)\n\u001b[1;32m   1146\u001b[0m Brain_Data_allsubs \u001b[39m=\u001b[39m import_sst_betaseries_w1_subjs(\n\u001b[1;32m   1147\u001b[0m     subjs,first_level_fileid, behavioral_design,\n\u001b[1;32m   1148\u001b[0m     sst_wt_repo \u001b[39m=\u001b[39m sst_wt_repo,\n\u001b[1;32m   1149\u001b[0m     subj_brain_data_args \u001b[39m=\u001b[39m subj_brain_data_args\n\u001b[1;32m   1150\u001b[0m )\n\u001b[0;32m-> 1152\u001b[0m img_data_masked \u001b[39m=\u001b[39m transform_nifti_img_to_masked_numpy_X(Brain_Data_allsubs[\u001b[39m'\u001b[39;49m\u001b[39mX\u001b[39;49m\u001b[39m'\u001b[39;49m],mask_path)\n\u001b[1;32m   1155\u001b[0m \u001b[39m#dump\u001b[39;00m\n\u001b[1;32m   1156\u001b[0m out_filepath \u001b[39m=\u001b[39m (\n\u001b[1;32m   1157\u001b[0m     out_folder \u001b[39m+\u001b[39m \u001b[39m'\u001b[39m\u001b[39mBrain_Data_\u001b[39m\u001b[39m'\u001b[39m \u001b[39m+\u001b[39m\n\u001b[1;32m   1158\u001b[0m     \u001b[39m#'betaseries_' +\u001b[39;00m\n\u001b[1;32m   1159\u001b[0m     first_level_fileid \u001b[39m+\u001b[39m \u001b[39m'\u001b[39m\u001b[39m_\u001b[39m\u001b[39m'\u001b[39m \u001b[39m+\u001b[39m \u001b[39mstr\u001b[39m(subj_count) \u001b[39m+\u001b[39m \u001b[39m'\u001b[39m\u001b[39msubs\u001b[39m\u001b[39m'\u001b[39m \u001b[39m+\u001b[39m out_file_suffix \u001b[39m+\u001b[39m \u001b[39m'\u001b[39m\u001b[39m.pkl\u001b[39m\u001b[39m'\u001b[39m\n\u001b[1;32m   1160\u001b[0m )\n",
      "File \u001b[0;32m~/opt/anaconda3/envs/neuralsignature/lib/python3.10/site-packages/nltools/data/brain_data.py:256\u001b[0m, in \u001b[0;36mBrain_Data.__getitem__\u001b[0;34m(self, index)\u001b[0m\n\u001b[1;32m    254\u001b[0m     \u001b[39melse\u001b[39;00m:\n\u001b[1;32m    255\u001b[0m         index \u001b[39m=\u001b[39m np\u001b[39m.\u001b[39marray(index)\u001b[39m.\u001b[39mflatten()\n\u001b[0;32m--> 256\u001b[0m         new\u001b[39m.\u001b[39mdata \u001b[39m=\u001b[39m np\u001b[39m.\u001b[39marray(\u001b[39mself\u001b[39;49m\u001b[39m.\u001b[39;49mdata[index, :])\u001b[39m.\u001b[39msqueeze()\n\u001b[1;32m    257\u001b[0m \u001b[39mif\u001b[39;00m \u001b[39mnot\u001b[39;00m \u001b[39mself\u001b[39m\u001b[39m.\u001b[39mY\u001b[39m.\u001b[39mempty:\n\u001b[1;32m    258\u001b[0m     new\u001b[39m.\u001b[39mY \u001b[39m=\u001b[39m \u001b[39mself\u001b[39m\u001b[39m.\u001b[39mY\u001b[39m.\u001b[39miloc[index]\n",
      "\u001b[0;31mIndexError\u001b[0m: arrays used as indices must be of integer (or boolean) type"
     ]
    }
   ],
   "source": [
    "import_sst_betaseries_w1_subjs_to_masked_numpy_pkl(\n",
    "    train_subjs[0:2],'betaseries_nos',\n",
    "    behavioral_design=sst_1_behavdesign_correct_conditions,\n",
    "    mask_path=mask_path,\n",
    "    out_folder = ml_data_folderpath + \"/SST/\",\n",
    "    out_file_suffix = '_correct_cond_pfc',\n",
    "    sst_wt_repo = nonbids_data_path + \"fMRI/fx/models/SST/wave1/\",\n",
    "    subj_brain_data_args = {\n",
    "        'standardize_by_condition':False,\n",
    "        'mask':mask_pfc\n",
    "    }\n",
    "    )"
   ]
  },
  {
   "cell_type": "code",
   "execution_count": null,
   "id": "unsigned-greene",
   "metadata": {},
   "outputs": [],
   "source": [
    "print(\"running\")\n",
    "print('really')\n",
    "import_sst_betaseries_w1_subjs_to_pkl(\n",
    "    train_subjs[0:6],'betaseries_nos',\n",
    "    behavioral_design=sst_1_behavdesign_correct_conditions,\n",
    "    out_folder = ml_data_folderpath + \"/SST/\",\n",
    "    out_file_suffix = '_correct_cond_pfc',\n",
    "    sst_wt_repo = nonbids_data_path + \"fMRI/fx/models/SST/wave1/\",\n",
    "    subj_brain_data_args = {\n",
    "        'standardize_by_condition':False,\n",
    "        'mask':mask_pfc\n",
    "    }\n",
    ")"
   ]
  },
  {
   "cell_type": "code",
   "execution_count": null,
   "id": "coated-river",
   "metadata": {},
   "outputs": [],
   "source": [
    "print (\"running\")\n",
    "print('really')\n",
    "import_sst_betaseries_w1_subjs_to_pkl(\n",
    "    train_subjs[0:30],'betaseries_nos',\n",
    "    behavioral_design=sst_1_behavdesign_correct_conditions,\n",
    "    out_folder = ml_data_folderpath + \"/SST/\",\n",
    "    out_file_suffix = '_correct_cond_pfc',\n",
    "    sst_wt_repo = nonbids_data_path + \"fMRI/fx/models/SST/wave1/\",\n",
    "    subj_brain_data_args = {\n",
    "        'standardize_by_condition':True,\n",
    "        'mask':mask_pfc\n",
    "    }\n",
    ")"
   ]
  },
  {
   "cell_type": "markdown",
   "id": "banner-interest",
   "metadata": {},
   "source": [
    "### Standardize by condition"
   ]
  },
  {
   "cell_type": "code",
   "execution_count": null,
   "id": "periodic-better",
   "metadata": {},
   "outputs": [],
   "source": [
    "print (\"running\")\n",
    "print('really')\n",
    "import_sst_betaseries_w1_subjs_to_pkl(\n",
    "    train_subjs[0:2],'betaseries_nos',\n",
    "    behavioral_design=sst_1_behavdesign_correct_conditions,\n",
    "    out_folder = ml_data_folderpath + \"/SST/\",\n",
    "    out_file_suffix = '_correct_cond_pfc_condstd',\n",
    "    sst_wt_repo = nonbids_data_path + \"fMRI/fx/models/SST/wave1/\",\n",
    "    subj_brain_data_args = {\n",
    "        'standardize_by_condition':True,\n",
    "        'mask':mask_pfc\n",
    "    }\n",
    "    )"
   ]
  },
  {
   "cell_type": "code",
   "execution_count": null,
   "id": "missing-graham",
   "metadata": {},
   "outputs": [],
   "source": [
    "print (\"running\")\n",
    "print('really')\n",
    "import_sst_betaseries_w1_subjs_to_pkl(\n",
    "    train_subjs[0:6],'betaseries_nos',\n",
    "    behavioral_design=sst_1_behavdesign_correct_conditions,\n",
    "    out_folder = ml_data_folderpath + \"/SST/\",\n",
    "    out_file_suffix = '_correct_cond_pfc_condstd',\n",
    "    sst_wt_repo = nonbids_data_path + \"fMRI/fx/models/SST/wave1/\",\n",
    "    subj_brain_data_args = {\n",
    "        'standardize_by_condition':True,\n",
    "        'mask':mask_pfc\n",
    "    }\n",
    "    )"
   ]
  },
  {
   "cell_type": "code",
   "execution_count": null,
   "id": "stable-disorder",
   "metadata": {},
   "outputs": [],
   "source": [
    "print (\"running\")\n",
    "print('really')\n",
    "import_sst_betaseries_w1_subjs_to_pkl(\n",
    "    train_subjs[0:30],'betaseries_nos',\n",
    "    behavioral_design=sst_1_behavdesign_correct_conditions,\n",
    "    out_folder = ml_data_folderpath + \"/SST/\",\n",
    "    out_file_suffix = '_correct_cond_pfc_condstd',\n",
    "    sst_wt_repo = nonbids_data_path + \"fMRI/fx/models/SST/wave1/\",\n",
    "    subj_brain_data_args = {\n",
    "        'standardize_by_condition':True,\n",
    "        'mask':mask_pfc\n",
    "    }\n",
    "    )"
   ]
  },
  {
   "cell_type": "code",
   "execution_count": null,
   "id": "solved-turtle",
   "metadata": {},
   "outputs": [],
   "source": [
    "train_subjs_selected"
   ]
  },
  {
   "cell_type": "code",
   "execution_count": null,
   "id": "other-italic",
   "metadata": {},
   "outputs": [],
   "source": [
    "print (\"running\")\n",
    "print('really')\n",
    "import_sst_betaseries_w1_subjs_to_pkl(\n",
    "    train_subjs_selected,'betaseries_nos',\n",
    "    behavioral_design=sst_1_behavdesign_correct_conditions,\n",
    "    out_folder = ml_data_folderpath + \"/SST/\",\n",
    "    out_file_suffix = '_correct_cond_pfc_condstd',\n",
    "    sst_wt_repo = nonbids_data_path + \"fMRI/fx/models/SST/wave1/\",\n",
    "    subj_brain_data_args = {\n",
    "        'standardize_by_condition':True,\n",
    "        'mask':mask_pfc\n",
    "    }\n",
    ")"
   ]
  },
  {
   "cell_type": "code",
   "execution_count": null,
   "id": "controlled-timber",
   "metadata": {},
   "outputs": [],
   "source": []
  }
 ],
 "metadata": {
  "kernelspec": {
   "display_name": "neuralsignature",
   "language": "python",
   "name": "python3"
  },
  "language_info": {
   "codemirror_mode": {
    "name": "ipython",
    "version": 3
   },
   "file_extension": ".py",
   "mimetype": "text/x-python",
   "name": "python",
   "nbconvert_exporter": "python",
   "pygments_lexer": "ipython3",
   "version": "3.10.4"
  },
  "vscode": {
   "interpreter": {
    "hash": "0cca8238de402a161b34e58e1e3b4d299a0bf48c5783c9dc7c173d82c36576a7"
   }
  }
 },
 "nbformat": 4,
 "nbformat_minor": 5
}
