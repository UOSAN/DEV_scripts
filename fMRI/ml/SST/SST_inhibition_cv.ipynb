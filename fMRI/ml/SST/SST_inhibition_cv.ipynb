{
 "cells": [
  {
   "cell_type": "markdown",
   "id": "medieval-telescope",
   "metadata": {},
   "source": [
    "This is intended to be a scratchpad for measures of between-subject SST inhibition.\n",
    "\n",
    "This is based on SST_inhibition_basic_tests.ipynb.\n",
    "\n"
   ]
  },
  {
   "cell_type": "markdown",
   "id": "inclusive-sector",
   "metadata": {},
   "source": [
    "### SST as a measure of inhibition"
   ]
  },
  {
   "cell_type": "markdown",
   "id": "unusual-county",
   "metadata": {},
   "source": [
    "Our subject-level behavioral measure is SSRT. But it seems like Post-Error slowing is another important measure. So what about subject-level?\n",
    "\n",
    "\n",
    "\n",
    " - Similarity of successful no-go trials to successful go trials\n",
    " - Similarity of successful no-go trials to failed no-go trials\n",
    " \n",
    " \n",
    " \n",
    " - Similarity of NoGo trials"
   ]
  },
  {
   "cell_type": "markdown",
   "id": "ecological-kentucky",
   "metadata": {},
   "source": [
    "For each measure we want to:\n",
    "\n",
    "1. validate it works by showing whether we can do within-run LOOCV to identify nogo and go trials, on average, across the subject group\n",
    "2. Reduce to a numerical value for each subject for between-subject comparison\n",
    "3. Compare to ohter measures of inhibition\n",
    "4. predict"
   ]
  },
  {
   "cell_type": "markdown",
   "id": "increasing-empty",
   "metadata": {},
   "source": [
    "We're going to do a subject-level analysis.\n",
    "\n",
    "To regress at the subject level you would probably (?) take the average subject image and regress across subjects. This would be fairly straightforward. Then, you'd regress on:\n",
    "\n",
    " - various measures of TESQ-E\n",
    " - Other measures of inhibition? Bis11?\n",
    " - behavioral measures of the SST including mean session SSRT and PES"
   ]
  },
  {
   "cell_type": "markdown",
   "id": "judicial-pulse",
   "metadata": {},
   "source": [
    "Some basic steps to do the subject-level stuff:\n",
    "    \n",
    "1) Do a single regressor across trials for each trial type\n",
    "2) Across subjects, predict each of our measures of inhibition for each trial contrast we're interested in\n",
    "3) Finish\n",
    "\n",
    "That's really quite basic from an ML point of view but it might be all we're looking for here."
   ]
  },
  {
   "cell_type": "markdown",
   "id": "prescription-bulgaria",
   "metadata": {},
   "source": [
    "### Basic subject-level\n",
    "\n",
    "First set up the data"
   ]
  },
  {
   "cell_type": "code",
   "execution_count": 4,
   "id": "identified-lottery",
   "metadata": {},
   "outputs": [],
   "source": [
    "import sys\n",
    "import os\n",
    "import pandas as pd\n",
    "\n",
    "sys.path.append(os.path.abspath(\"../../ml/\"))\n",
    "\n",
    "from apply_loocv_and_save import *\n",
    "import gc\n",
    "import nibabel as nib\n",
    "\n",
    "nonbids_data_path = \"/gpfs/projects/sanlab/shared/DEV/nonbids_data/\"\n",
    "ml_data_folderpath = \"/gpfs/projects/sanlab/shared/DEV/nonbids_data/fMRI/ml\"\n",
    "test_train_df = pd.read_csv(nonbids_data_path + \"fMRI/ml/train_test_markers_20210601T183243.csv\")\n",
    "\n",
    "all_sst_events= pd.read_csv(ml_data_folderpath +\"/SST/\" + \"all_sst_events.csv\")\n",
    "\n",
    "\n",
    "dataset_name = 'conditions'\n",
    "brain_data_filepath = ml_data_folderpath + '/SST/Brain_Data_' + dataset_name + '_40subs.pkl'\n",
    "\n",
    "with open(brain_data_filepath, 'rb') as pkl_file:\n",
    "    Brain_Data_allsubs = pickle.load(pkl_file)\n",
    "    \n",
    "    \n",
    "\n",
    "\n",
    "from nilearn.decoding import DecoderRegressor, Decoder\n",
    "\n",
    "script_path = '/gpfs/projects/sanlab/shared/DEV/DEV_scripts/fMRI/ml'\n",
    "data_path = \"/gpfs/projects/sanlab/shared/DEV/nonbids_data/fMRI/ml/\"\n",
    "# HRF 2s\n",
    "\n"
   ]
  },
  {
   "cell_type": "code",
   "execution_count": 5,
   "id": "reduced-phone",
   "metadata": {},
   "outputs": [],
   "source": [
    "\n",
    "def condition_resp_trans_func(X):\n",
    "    return(X.condition_label)\n"
   ]
  },
  {
   "cell_type": "markdown",
   "id": "directed-russia",
   "metadata": {},
   "source": [
    "scaffold arguments for function in following paragraph"
   ]
  },
  {
   "cell_type": "code",
   "execution_count": 7,
   "id": "determined-edwards",
   "metadata": {},
   "outputs": [],
   "source": [
    "#set vars for the function\n",
    "\n",
    "brain_data_filepath = brain_data_filepath\n",
    "train_test_markers_filepath = data_path + \"train_test_markers_20210601T183243.csv\"\n",
    "subjs_to_use = 40\n",
    "response_transform_func=condition_resp_trans_func\n",
    "decoder = Decoder(scoring='accuracy',cv=LeaveOneGroupOut(),verbose=1)\n",
    "mask=None\n",
    "\n",
    "results_filepath=data_path + \"SST/train_test_results_\" + dataset_name + \"_40subs.pkl\""
   ]
  },
  {
   "cell_type": "code",
   "execution_count": null,
   "id": "wireless-while",
   "metadata": {},
   "outputs": [],
   "source": []
  },
  {
   "cell_type": "markdown",
   "id": "subsequent-installation",
   "metadata": {},
   "source": [
    "### Functions to re-implement"
   ]
  },
  {
   "cell_type": "markdown",
   "id": "fleet-cricket",
   "metadata": {},
   "source": [
    "The below are not run; they're set to \"raw\" only. See the below code."
   ]
  },
  {
   "cell_type": "raw",
   "id": "sunset-study",
   "metadata": {},
   "source": [
    "def cv_train_test_sets(\n",
    "    trainset_X, trainset_y, trainset_groups,\n",
    "\n",
    "    decoders = None,\n",
    "    testset_X = None,testset_y = None, testset_groups = None,\n",
    "    param_grid=None,\n",
    "    cpus_to_use=-2,\n",
    "    cv = None,\n",
    "    regressors = None\n",
    "    ):\n",
    "    \"\"\"\n",
    "    uses a division of 'trainset' and 'testset' to allow different values to be trained and tested \n",
    "    in KFold Cross Validation. All the values are used for training and testing, but we use different ones.\n",
    "    This enables us to e.g., pass in aggregated images for training and separate images for testing.\n",
    "\n",
    "    trainset_X: x values applicable for TRAINING\n",
    "    trainset_y\n",
    "    trainset_groups: group allocations for the trainset dataset\n",
    "    testset_X: values grouped into averages for testing\n",
    "    testset_y\n",
    "    cv: a Grouped cross-validator\n",
    "    group_list: name of the groups\n",
    "    \"\"\"\n",
    "    if regressors is not None:\n",
    "        raise Exception(\"cv_train_test_sets 'regressors' argument is deprecated. Use 'decoders' instead. \")\n",
    "    if cv is None:\n",
    "        cv=KFold(n_splits=5)\n",
    "\n",
    "    if param_grid is not None and decoders is not None:\n",
    "        raise Exception('values for param_grid and decoders both passed, but param_grid is ignored if decoders is passed. choose one.')\n",
    "\n",
    "    #if the groups we're using are actually the same.\n",
    "    if (testset_X is None) and (testset_y is None):\n",
    "        testset_X = trainset_X\n",
    "        testset_y = trainset_y\n",
    "        testset_groups = trainset_groups\n",
    "        print('Groups are the same.')\n",
    "\n",
    "    results_by_trainset_item = pd.DataFrame({\n",
    "        'y': trainset_y,\n",
    "        'group':trainset_groups,\n",
    "        'y_pred':np.repeat(None,len(trainset_y))#,\n",
    "        #'y_match':np.repeat(None,len(trainset_y))#just for debugging. delete.\n",
    "    })\n",
    "\n",
    "\n",
    "    groups_array = np.array(list(set(testset_groups)))\n",
    "    assert(set(trainset_groups)==set(testset_groups))\n",
    "\n",
    "    #the CV that the inner decoder uses\n",
    "    cv_inner = GroupKFold(3)\n",
    "    if decoders is None:\n",
    "        decoders = [DecoderRegressor(standardize= True,param_grid=param_grid,cv=cv_inner,scoring=\"r2\",\n",
    "                                      n_jobs=cpus_to_use)]\n",
    "        print('using default decoder, DecoderRegressor',end='. ')\n",
    "\n",
    "    #we actually use KFold on the group names themselves, then filter across that\n",
    "    #that's equivalent to doing a GroupedKFold on the data.\n",
    "    test_scores = []\n",
    "    results = []\n",
    "\n",
    "    if type(cv)==type(LeaveOneOut()):\n",
    "        outer_n=len(groups_array)\n",
    "    else:\n",
    "        outer_n = cv.get_n_splits()\n",
    "    for i, x in enumerate(cv.split(groups_array)):\n",
    "        train_i = x[0]\n",
    "        test_i = x[1]\n",
    "        print(\"fold \" + str(i+1) + \" of \" + str(outer_n))\n",
    "\n",
    "        fold_i_results = {}\n",
    "        train_group_items, test_group_items = groups_array[train_i], groups_array[test_i]\n",
    "        print('In order to test on a training group of ' +\n",
    "              str(len(train_group_items)) + ' items, holding out the following subjects:' +\n",
    "              str(test_group_items),end='. ')\n",
    "#         print(\n",
    "#             'held out ' + str(len(test_group_items)) + ' items and trained on ' + str(len(train_group_items)) + ' items',\n",
    "#             end='. ')\n",
    "\n",
    "        print('prepping fold data...',end='. ')\n",
    "        #select training data from the averages\n",
    "        #print('selecting training data',end='. ')\n",
    "        train_selector = [i for i, x in enumerate(trainset_groups) if x in train_group_items]\n",
    "        train_y = trainset_y[train_selector]\n",
    "        train_X = nib.funcs.concat_images([trainset_X.slicer[...,s] for s in train_selector])\n",
    "        train_groups = trainset_groups[train_selector]\n",
    "        #print(train_X.shape,end='. ')\n",
    "        #print(asizeof_fmt(train_X),end='. ')\n",
    "\n",
    "        #select testing data from the individual values\n",
    "        #print('selecting test data',end='. ')\n",
    "        test_selector = [i for i, x in enumerate(testset_groups) if x in test_group_items]\n",
    "        test_y = testset_y[test_selector]\n",
    "        test_X = nib.funcs.concat_images([testset_X.slicer[...,s] for s in test_selector])\n",
    "        test_groups = testset_groups[test_selector]\n",
    "        #print(asizeof_fmt(test_X),end='. ')\n",
    "        #print(test_X.shape,end='. ')\n",
    "\n",
    "\n",
    "        print(\"fitting...\",end='. ')\n",
    "        print(asizeof_fmt(train_X),end='. ')\n",
    "\n",
    "        val_scores = []\n",
    "        #iterate through decoder objects.\n",
    "        #this is my way of doing cross-validation across different decoders...\n",
    "        hyper_scores = []\n",
    "        train_results = {}\n",
    "        inner_cv_results = {}\n",
    "        for r_i, reg in enumerate(decoders):\n",
    "            cur_r_results = {}\n",
    "            print('trying decoder ' + str(r_i+1) + ' of ' + str(len(decoders)),end='. ')\n",
    "            #if there is nested CV within this function the best hyper-paramters are already being chosen\n",
    "            #we need only to finish the job by identifying the best overall decoder, as the final hyper-parameter\n",
    "            reg.fit(y=train_y,X=train_X,groups=train_groups)\n",
    "            print(\"predicting\",end='. ')\n",
    "            #hyper_score = reg.score(train_X,train_y)\n",
    "            hyper_score = np.max([np.mean(param_values) for param_name, param_values in reg.cv_scores_.items()])\n",
    "            #think there is a bug here. we should not have to be guessing/ignoring param names.\n",
    "            #need to report this.\n",
    "\n",
    "            hyper_scores = hyper_scores + [hyper_score]\n",
    "\n",
    "            cur_r_results['hyper_score'] = hyper_score\n",
    "            cur_r_results['cv_scores_'] = reg.cv_scores_\n",
    "            cur_r_results['cv_params_'] = reg.cv_params_\n",
    "            inner_cv_results[str(reg)] = cur_r_results\n",
    "\n",
    "        fold_i_results['train_results']= inner_cv_results\n",
    "\n",
    "        #identify which was the best\n",
    "        #print(hyper_scores)\n",
    "        #print(np.where([h==np.max(hyper_scores) for h in hyper_scores])[0][0])\n",
    "        best_hyper_decoder = decoders[np.where([h==np.max(hyper_scores) for h in hyper_scores])[0][0]]\n",
    "\n",
    "        #print(best_hyper_decoder)\n",
    "\n",
    "        #now run JUST that one on this fold.\n",
    "\n",
    "\n",
    "        #now predict on our test split\n",
    "        test_score = best_hyper_decoder.score(test_X,test_y)\n",
    "        test_y_pred = best_hyper_decoder.predict(test_X)\n",
    "        fold_test_rawdata = pd.DataFrame({\n",
    "            'y_obs':test_y,\n",
    "            'y_pred':test_y_pred,\n",
    "            'y_groups':test_groups\n",
    "\n",
    "        })\n",
    "        #results_by_trainset_item.loc[train_selector,'y_pred']\n",
    "        results_by_trainset_item.loc[test_selector,'y_pred'] = test_y_pred\n",
    "        #results_by_trainset_item.loc[test_selector,'y_match'] = test_y\n",
    "        fold_i_results['fold_test_rawdata'] = fold_test_rawdata\n",
    "        #so we can do scoring externally to this function.\n",
    "\n",
    "        test_scores = test_scores+[test_score]\n",
    "        print('test score was:',end='. ')\n",
    "        print(test_score)\n",
    "\n",
    "        results = results + [fold_i_results]\n",
    "\n",
    "        del test_X\n",
    "        del train_X\n",
    "        gc.collect() #clean up. this is big data we're working with\n",
    "\n",
    "    return(test_scores,results,results_by_trainset_item)\n",
    "\n",
    "\n",
    "\n"
   ]
  },
  {
   "cell_type": "raw",
   "id": "pursuant-technology",
   "metadata": {},
   "source": [
    "\n",
    "def apply_loocv_and_save(\n",
    "    results_filepath,\n",
    "    brain_data_filepath = '../data/Brain_Data_2sns_60subs.pkl',\n",
    "    train_test_markers_filepath = \"../data/train_test_markers_20210601T183243.csv\",\n",
    "    subjs_to_use = None, #set this to get a subset, otherwise use all of them.\n",
    "    response_transform_func = None,\n",
    "    mask=None,\n",
    "    decoderConstructor=DecoderRegressor\n",
    "    ):\n",
    "    \n",
    "\n",
    "    preprocessed_data = load_and_preprocess(brain_data_filepath,train_test_markers_filepath,subjs_to_use,response_transform_func)\n",
    "\n",
    "    first_subs_nifti_Y = preprocessed_data['y']\n",
    "    first_subs_nifti = preprocessed_data['X']\n",
    "    first_subs_nifti_groups = preprocessed_data['groups']\n",
    "\n",
    "    print(\"starting LeaveOneOut\")\n",
    "\n",
    "    cv_inner = GroupKFold(3)\n",
    "\n",
    "    decoder = decoderConstructor(\n",
    "        standardize= True,cv=cv_inner,\n",
    "        mask=mask,\n",
    "        n_jobs=cpus_to_use)\n",
    "    \n",
    "    #in this design, we're actually dealing with groups\n",
    "    #we select group IDs and then grab the subjects\n",
    "    #so we don't need to use LeaveOneGroupOut\n",
    "    #the grouping is implicit\n",
    "    cv_outer = LeaveOneOut()\n",
    "    \n",
    "    \n",
    "\n",
    "\n",
    "    print(\"finished preprocessing\")\n",
    "\n",
    "\n",
    "\n",
    "\n",
    "    test_scores_same,tt_results,results_by_trainset_item = cv_train_test_sets(\n",
    "        trainset_X=first_subs_nifti,\n",
    "        trainset_y=first_subs_nifti_Y,\n",
    "        trainset_groups=first_subs_nifti_groups,\n",
    "        decoders=[decoder],\n",
    "        cv=cv_outer,\n",
    "        cpus_to_use=cpus_available\n",
    "\n",
    "    )\n",
    "\n",
    "    print(test_scores_same[0])\n",
    "    print(np.mean(test_scores_same[0]))\n",
    "    \n",
    "    print('running one more time on whole dataset for beta map')\n",
    "    regress_result = decoder.fit(\n",
    "    y=first_subs_nifti_Y,X=first_subs_nifti,groups=first_subs_nifti_groups)\n",
    "\n",
    "    if type(decoder)==DecoderRegressor:\n",
    "        weight_img = decoder.coef_img_['beta']\n",
    "    else:\n",
    "        weight_img = decoder.coef_img_\n",
    "\n",
    "    print('finished learning')\n",
    "\n",
    "    with open(results_filepath, 'wb') as handle:\n",
    "        pickle.dump([test_scores_same,tt_results,results_by_trainset_item,weight_img],handle)\n",
    "\n",
    "\n",
    "    print('saved.')"
   ]
  },
  {
   "cell_type": "markdown",
   "id": "foreign-honey",
   "metadata": {},
   "source": [
    "`apply_loocv_and_save` loads the data and does do the final last-pass decoder. `cv_train_test_sets` does the meaty stuff. So, re-implementing that:"
   ]
  },
  {
   "cell_type": "markdown",
   "id": "proved-means",
   "metadata": {},
   "source": [
    "#### `apply_loocv_and_save` initial code"
   ]
  },
  {
   "cell_type": "code",
   "execution_count": 8,
   "id": "seven-stuff",
   "metadata": {},
   "outputs": [],
   "source": [
    "def decoderConstructor(*args, **kwargs):\n",
    "    return(Decoder(scoring='accuracy',verbose=0, *args, **kwargs))"
   ]
  },
  {
   "cell_type": "code",
   "execution_count": 9,
   "id": "established-husband",
   "metadata": {},
   "outputs": [],
   "source": [
    "cpus_to_use=40\n",
    "subjs_to_use=40"
   ]
  },
  {
   "cell_type": "code",
   "execution_count": 19,
   "id": "vocal-perfume",
   "metadata": {},
   "outputs": [
    {
     "name": "stdout",
     "output_type": "stream",
     "text": [
      "checked for intersection and no intersection between the brain data and the subjects was found.\n",
      "there were 40 subjects overlapping between the subjects marked for train data and the training dump file itself.\n",
      "FailedStop     40\n",
      "Cue            40\n",
      "CorrectGo      40\n",
      "CorrectStop    37\n",
      "FailedGo       26\n",
      "Name: condition_label, dtype: int64\n",
      "FailedStop     40\n",
      "Cue            40\n",
      "CorrectGo      40\n",
      "CorrectStop    37\n",
      "FailedGo       26\n",
      "Name: condition_label, dtype: int64\n",
      "test_train_set: 9549\n",
      "pkl_file: 168\n",
      "train_test_markers_filepath: 141\n",
      "brain_data_filepath: 139\n",
      "response_transform_func: 136\n",
      "sys: 72\n",
      "Brain_Data_allsubs: 48\n",
      "subjs_to_use: 28\n",
      "False    183\n",
      "Name: condition_label, dtype: int64\n"
     ]
    },
    {
     "name": "stderr",
     "output_type": "stream",
     "text": [
      "/gpfs/projects/sanlab/shared/DEV/DEV_scripts/fMRI/ml/apply_loocv_and_save.py:191: SettingWithCopyWarning: \n",
      "A value is trying to be set on a copy of a slice from a DataFrame\n",
      "\n",
      "See the caveats in the documentation: https://pandas.pydata.org/pandas-docs/stable/user_guide/indexing.html#returning-a-view-versus-a-copy\n",
      "  Brain_Data_allsubs.Y[Brain_Data_allsubs.Y=='NULL']=None\n"
     ]
    },
    {
     "name": "stdout",
     "output_type": "stream",
     "text": [
      "183\n",
      "183\n",
      "using 40 subjects\n",
      "starting LeaveOneOut\n",
      "finished preprocessing\n"
     ]
    }
   ],
   "source": [
    "# results_filepath,\n",
    "# brain_data_filepath = '../data/Brain_Data_2sns_60subs.pkl',\n",
    "# train_test_markers_filepath = \"../data/train_test_markers_20210601T183243.csv\",\n",
    "# subjs_to_use = None, #set this to get a subset, otherwise use all of them.\n",
    "# response_transform_func = None,\n",
    "# mask=None,\n",
    "# decoderConstructor=DecoderRegressor\n",
    "# ):\n",
    "\n",
    "\n",
    "preprocessed_data = load_and_preprocess(brain_data_filepath,train_test_markers_filepath,subjs_to_use,response_transform_func)\n",
    "\n",
    "first_subs_nifti_Y = preprocessed_data['y']\n",
    "first_subs_nifti = preprocessed_data['X']\n",
    "first_subs_nifti_groups = preprocessed_data['groups']\n",
    "\n",
    "print(\"starting LeaveOneOut\")\n",
    "\n",
    "#implicit CV done by Decoder's in-built CV algorithm. I cna't really turn this off.\n",
    "cv_inner = GroupKFold(3)\n",
    "\n",
    "decoder = decoderConstructor(\n",
    "    standardize= True,cv=cv_inner,\n",
    "    mask=mask,\n",
    "    n_jobs=cpus_to_use)\n",
    "\n",
    "\n",
    "#CV I'm writing myself\n",
    "#in this design, we're actually dealing with groups\n",
    "#we select group IDs and then grab the subjects\n",
    "#so we don't need to use LeaveOneGroupOut\n",
    "#the grouping is implicit\n",
    "cv_outer = LeaveOneOut()\n",
    "\n",
    "\n",
    "\n",
    "\n",
    "print(\"finished preprocessing\")\n",
    "\n",
    "\n"
   ]
  },
  {
   "cell_type": "markdown",
   "id": "sealed-great",
   "metadata": {},
   "source": [
    "#### cv_train_test_sets"
   ]
  },
  {
   "cell_type": "code",
   "execution_count": 36,
   "id": "proper-timothy",
   "metadata": {},
   "outputs": [
    {
     "ename": "NameError",
     "evalue": "name 'first_subs_nifti_Y' is not defined",
     "output_type": "error",
     "traceback": [
      "\u001b[0;31m---------------------------------------------------------------------------\u001b[0m",
      "\u001b[0;31mNameError\u001b[0m                                 Traceback (most recent call last)",
      "\u001b[0;32m<ipython-input-36-913cc1fb0f9c>\u001b[0m in \u001b[0;36m<module>\u001b[0;34m\u001b[0m\n\u001b[0;32m----> 1\u001b[0;31m \u001b[0mtrainset_y\u001b[0m \u001b[0;34m=\u001b[0m \u001b[0mfirst_subs_nifti_Y\u001b[0m\u001b[0;31m# = preprocessed_data['y']\u001b[0m\u001b[0;34m\u001b[0m\u001b[0;34m\u001b[0m\u001b[0m\n\u001b[0m\u001b[1;32m      2\u001b[0m \u001b[0mtrainset_X\u001b[0m \u001b[0;34m=\u001b[0m \u001b[0mfirst_subs_nifti\u001b[0m\u001b[0;31m# = preprocessed_data['X']\u001b[0m\u001b[0;34m\u001b[0m\u001b[0;34m\u001b[0m\u001b[0m\n\u001b[1;32m      3\u001b[0m \u001b[0mtrainset_groups\u001b[0m \u001b[0;34m=\u001b[0m \u001b[0mfirst_subs_nifti_groups\u001b[0m\u001b[0;31m# = preprocessed_data['groups']\u001b[0m\u001b[0;34m\u001b[0m\u001b[0;34m\u001b[0m\u001b[0m\n",
      "\u001b[0;31mNameError\u001b[0m: name 'first_subs_nifti_Y' is not defined"
     ]
    }
   ],
   "source": [
    "trainset_y = first_subs_nifti_Y# = preprocessed_data['y']\n",
    "trainset_X = first_subs_nifti# = preprocessed_data['X']\n",
    "trainset_groups = first_subs_nifti_groups# = preprocessed_data['groups']\n"
   ]
  },
  {
   "cell_type": "code",
   "execution_count": 37,
   "id": "sacred-reward",
   "metadata": {},
   "outputs": [],
   "source": [
    "cpus_to_use=40\n",
    "decoders = [decoder]\n",
    "regressors=None\n",
    "cv = None\n",
    "param_grid=None\n",
    "testset_X = None\n",
    "testset_y = None\n",
    "testset_groups=None\n",
    "testset_groups = None"
   ]
  },
  {
   "cell_type": "code",
   "execution_count": 22,
   "id": "eligible-banking",
   "metadata": {},
   "outputs": [
    {
     "name": "stdout",
     "output_type": "stream",
     "text": [
      "Groups are the same.\n"
     ]
    }
   ],
   "source": [
    "# def cv_train_test_sets(\n",
    "#     trainset_X, trainset_y, trainset_groups,\n",
    "#     decoders = None,\n",
    "#     testset_X = None,testset_y = None, testset_groups = None,\n",
    "#     param_grid=None,\n",
    "#     cpus_to_use=-2,\n",
    "#     cv = None,\n",
    "#     regressors = None\n",
    "#     ):\n",
    "# \"\"\"\n",
    "# uses a division of 'trainset' and 'testset' to allow different values to be trained and tested \n",
    "# in KFold Cross Validation. All the values are used for training and testing, but we use different ones.\n",
    "# This enables us to e.g., pass in aggregated images for training and separate images for testing.\n",
    "\n",
    "# trainset_X: x values applicable for TRAINING\n",
    "# trainset_y\n",
    "# trainset_groups: group allocations for the trainset dataset\n",
    "# testset_X: values grouped into averages for testing\n",
    "# testset_y\n",
    "# cv: a Grouped cross-validator\n",
    "# group_list: name of the groups\n",
    "# \"\"\"\n",
    "\n",
    "if regressors is not None:\n",
    "    raise Exception(\"cv_train_test_sets 'regressors' argument is deprecated. Use 'decoders' instead. \")\n",
    "if cv is None:\n",
    "    cv=LeaveOneOut()\n",
    "\n",
    "if param_grid is not None and decoders is not None:\n",
    "    raise Exception('values for param_grid and decoders both passed, but param_grid is ignored if decoders is passed. choose one.')\n",
    "\n",
    "#if the groups we're using are actually the same.\n",
    "if (testset_X is None) and (testset_y is None):\n",
    "    testset_X = trainset_X\n",
    "    testset_y = trainset_y\n",
    "    testset_groups = trainset_groups\n",
    "    print('Groups are the same.')\n",
    "\n",
    "results_by_trainset_item = pd.DataFrame({\n",
    "    'y': trainset_y,\n",
    "    'group':trainset_groups,\n",
    "    'y_pred':np.repeat(None,len(trainset_y))#,\n",
    "    #'y_match':np.repeat(None,len(trainset_y))#just for debugging. delete.\n",
    "})"
   ]
  },
  {
   "cell_type": "code",
   "execution_count": 23,
   "id": "rolled-arena",
   "metadata": {},
   "outputs": [
    {
     "name": "stdout",
     "output_type": "stream",
     "text": [
      "fold 1 of 40\n",
      "In order to test on a training group of 39 items, holding out the following subjects:['DEV041']. prepping fold data.... fitting.... 1.4 GiB. trying decoder 1 of 1. predicting. test score was:. 1.0\n",
      "fold 2 of 40\n",
      "In order to test on a training group of 39 items, holding out the following subjects:['DEV029']. prepping fold data.... fitting.... 1.4 GiB. trying decoder 1 of 1. "
     ]
    },
    {
     "name": "stderr",
     "output_type": "stream",
     "text": [
      "/home/bsmith16/.conda/envs/neuralsignature/lib/python3.8/site-packages/nilearn/decoding/decoder.py:143: UserWarning: Use a custom estimator at your own risk of the process not working as intended.\n",
      "  warnings.warn('Use a custom estimator at your own risk '\n"
     ]
    },
    {
     "name": "stdout",
     "output_type": "stream",
     "text": [
      "predicting. test score was:. 0.75\n",
      "fold 3 of 40\n",
      "In order to test on a training group of 39 items, holding out the following subjects:['DEV022']. prepping fold data.... fitting.... 1.4 GiB. trying decoder 1 of 1. "
     ]
    },
    {
     "name": "stderr",
     "output_type": "stream",
     "text": [
      "/home/bsmith16/.conda/envs/neuralsignature/lib/python3.8/site-packages/nilearn/decoding/decoder.py:143: UserWarning: Use a custom estimator at your own risk of the process not working as intended.\n",
      "  warnings.warn('Use a custom estimator at your own risk '\n"
     ]
    },
    {
     "name": "stdout",
     "output_type": "stream",
     "text": [
      "predicting. test score was:. 0.8\n",
      "fold 4 of 40\n",
      "In order to test on a training group of 39 items, holding out the following subjects:['DEV057']. prepping fold data.... fitting.... 1.4 GiB. trying decoder 1 of 1. "
     ]
    },
    {
     "name": "stderr",
     "output_type": "stream",
     "text": [
      "/home/bsmith16/.conda/envs/neuralsignature/lib/python3.8/site-packages/nilearn/decoding/decoder.py:143: UserWarning: Use a custom estimator at your own risk of the process not working as intended.\n",
      "  warnings.warn('Use a custom estimator at your own risk '\n"
     ]
    },
    {
     "name": "stdout",
     "output_type": "stream",
     "text": [
      "predicting. test score was:. 1.0\n",
      "fold 5 of 40\n",
      "In order to test on a training group of 39 items, holding out the following subjects:['DEV019']. prepping fold data.... fitting.... 1.4 GiB. trying decoder 1 of 1. "
     ]
    },
    {
     "name": "stderr",
     "output_type": "stream",
     "text": [
      "/home/bsmith16/.conda/envs/neuralsignature/lib/python3.8/site-packages/nilearn/decoding/decoder.py:143: UserWarning: Use a custom estimator at your own risk of the process not working as intended.\n",
      "  warnings.warn('Use a custom estimator at your own risk '\n"
     ]
    },
    {
     "name": "stdout",
     "output_type": "stream",
     "text": [
      "predicting. test score was:. 1.0\n",
      "fold 6 of 40\n",
      "In order to test on a training group of 39 items, holding out the following subjects:['DEV030']. prepping fold data.... fitting.... 1.4 GiB. trying decoder 1 of 1. "
     ]
    },
    {
     "name": "stderr",
     "output_type": "stream",
     "text": [
      "/home/bsmith16/.conda/envs/neuralsignature/lib/python3.8/site-packages/nilearn/decoding/decoder.py:143: UserWarning: Use a custom estimator at your own risk of the process not working as intended.\n",
      "  warnings.warn('Use a custom estimator at your own risk '\n"
     ]
    },
    {
     "name": "stdout",
     "output_type": "stream",
     "text": [
      "predicting. test score was:. 0.8\n",
      "fold 7 of 40\n",
      "In order to test on a training group of 39 items, holding out the following subjects:['DEV012']. prepping fold data.... fitting.... 1.4 GiB. trying decoder 1 of 1. "
     ]
    },
    {
     "name": "stderr",
     "output_type": "stream",
     "text": [
      "/home/bsmith16/.conda/envs/neuralsignature/lib/python3.8/site-packages/nilearn/decoding/decoder.py:143: UserWarning: Use a custom estimator at your own risk of the process not working as intended.\n",
      "  warnings.warn('Use a custom estimator at your own risk '\n"
     ]
    },
    {
     "name": "stdout",
     "output_type": "stream",
     "text": [
      "predicting. test score was:. 0.75\n",
      "fold 8 of 40\n",
      "In order to test on a training group of 39 items, holding out the following subjects:['DEV050']. prepping fold data.... fitting.... 1.4 GiB. trying decoder 1 of 1. "
     ]
    },
    {
     "name": "stderr",
     "output_type": "stream",
     "text": [
      "/home/bsmith16/.conda/envs/neuralsignature/lib/python3.8/site-packages/nilearn/decoding/decoder.py:143: UserWarning: Use a custom estimator at your own risk of the process not working as intended.\n",
      "  warnings.warn('Use a custom estimator at your own risk '\n"
     ]
    },
    {
     "name": "stdout",
     "output_type": "stream",
     "text": [
      "predicting. test score was:. 0.4\n",
      "fold 9 of 40\n",
      "In order to test on a training group of 39 items, holding out the following subjects:['DEV048']. prepping fold data.... fitting.... 1.4 GiB. trying decoder 1 of 1. "
     ]
    },
    {
     "name": "stderr",
     "output_type": "stream",
     "text": [
      "/home/bsmith16/.conda/envs/neuralsignature/lib/python3.8/site-packages/nilearn/decoding/decoder.py:143: UserWarning: Use a custom estimator at your own risk of the process not working as intended.\n",
      "  warnings.warn('Use a custom estimator at your own risk '\n"
     ]
    },
    {
     "name": "stdout",
     "output_type": "stream",
     "text": [
      "predicting. test score was:. 0.8\n",
      "fold 10 of 40\n",
      "In order to test on a training group of 39 items, holding out the following subjects:['DEV051']. prepping fold data.... fitting.... 1.4 GiB. trying decoder 1 of 1. "
     ]
    },
    {
     "name": "stderr",
     "output_type": "stream",
     "text": [
      "/home/bsmith16/.conda/envs/neuralsignature/lib/python3.8/site-packages/nilearn/decoding/decoder.py:143: UserWarning: Use a custom estimator at your own risk of the process not working as intended.\n",
      "  warnings.warn('Use a custom estimator at your own risk '\n"
     ]
    },
    {
     "name": "stdout",
     "output_type": "stream",
     "text": [
      "predicting. test score was:. 0.8\n",
      "fold 11 of 40\n",
      "In order to test on a training group of 39 items, holding out the following subjects:['DEV039']. prepping fold data.... fitting.... 1.4 GiB. trying decoder 1 of 1. "
     ]
    },
    {
     "name": "stderr",
     "output_type": "stream",
     "text": [
      "/home/bsmith16/.conda/envs/neuralsignature/lib/python3.8/site-packages/nilearn/decoding/decoder.py:143: UserWarning: Use a custom estimator at your own risk of the process not working as intended.\n",
      "  warnings.warn('Use a custom estimator at your own risk '\n"
     ]
    },
    {
     "name": "stdout",
     "output_type": "stream",
     "text": [
      "predicting. test score was:. 0.6\n",
      "fold 12 of 40\n",
      "In order to test on a training group of 39 items, holding out the following subjects:['DEV040']. prepping fold data.... fitting.... 1.4 GiB. trying decoder 1 of 1. "
     ]
    },
    {
     "name": "stderr",
     "output_type": "stream",
     "text": [
      "/home/bsmith16/.conda/envs/neuralsignature/lib/python3.8/site-packages/nilearn/decoding/decoder.py:143: UserWarning: Use a custom estimator at your own risk of the process not working as intended.\n",
      "  warnings.warn('Use a custom estimator at your own risk '\n"
     ]
    },
    {
     "name": "stdout",
     "output_type": "stream",
     "text": [
      "predicting. test score was:. 0.8\n",
      "fold 13 of 40\n",
      "In order to test on a training group of 39 items, holding out the following subjects:['DEV049']. prepping fold data.... fitting.... 1.4 GiB. trying decoder 1 of 1. "
     ]
    },
    {
     "name": "stderr",
     "output_type": "stream",
     "text": [
      "/home/bsmith16/.conda/envs/neuralsignature/lib/python3.8/site-packages/nilearn/decoding/decoder.py:143: UserWarning: Use a custom estimator at your own risk of the process not working as intended.\n",
      "  warnings.warn('Use a custom estimator at your own risk '\n"
     ]
    },
    {
     "name": "stdout",
     "output_type": "stream",
     "text": [
      "predicting. test score was:. 0.8\n",
      "fold 14 of 40\n",
      "In order to test on a training group of 39 items, holding out the following subjects:['DEV015']. prepping fold data.... fitting.... 1.4 GiB. trying decoder 1 of 1. "
     ]
    },
    {
     "name": "stderr",
     "output_type": "stream",
     "text": [
      "/home/bsmith16/.conda/envs/neuralsignature/lib/python3.8/site-packages/nilearn/decoding/decoder.py:143: UserWarning: Use a custom estimator at your own risk of the process not working as intended.\n",
      "  warnings.warn('Use a custom estimator at your own risk '\n"
     ]
    },
    {
     "name": "stdout",
     "output_type": "stream",
     "text": [
      "predicting. test score was:. 0.6\n",
      "fold 15 of 40\n",
      "In order to test on a training group of 39 items, holding out the following subjects:['DEV021']. prepping fold data.... fitting.... 1.4 GiB. trying decoder 1 of 1. "
     ]
    },
    {
     "name": "stderr",
     "output_type": "stream",
     "text": [
      "/home/bsmith16/.conda/envs/neuralsignature/lib/python3.8/site-packages/nilearn/decoding/decoder.py:143: UserWarning: Use a custom estimator at your own risk of the process not working as intended.\n",
      "  warnings.warn('Use a custom estimator at your own risk '\n"
     ]
    },
    {
     "name": "stdout",
     "output_type": "stream",
     "text": [
      "predicting. test score was:. 0.8\n",
      "fold 16 of 40\n",
      "In order to test on a training group of 39 items, holding out the following subjects:['DEV043']. prepping fold data.... fitting.... 1.4 GiB. trying decoder 1 of 1. "
     ]
    },
    {
     "name": "stderr",
     "output_type": "stream",
     "text": [
      "/home/bsmith16/.conda/envs/neuralsignature/lib/python3.8/site-packages/nilearn/decoding/decoder.py:143: UserWarning: Use a custom estimator at your own risk of the process not working as intended.\n",
      "  warnings.warn('Use a custom estimator at your own risk '\n"
     ]
    },
    {
     "name": "stdout",
     "output_type": "stream",
     "text": [
      "predicting. test score was:. 1.0\n",
      "fold 17 of 40\n",
      "In order to test on a training group of 39 items, holding out the following subjects:['DEV042']. prepping fold data.... fitting.... 1.4 GiB. trying decoder 1 of 1. "
     ]
    },
    {
     "name": "stderr",
     "output_type": "stream",
     "text": [
      "/home/bsmith16/.conda/envs/neuralsignature/lib/python3.8/site-packages/nilearn/decoding/decoder.py:143: UserWarning: Use a custom estimator at your own risk of the process not working as intended.\n",
      "  warnings.warn('Use a custom estimator at your own risk '\n"
     ]
    },
    {
     "name": "stdout",
     "output_type": "stream",
     "text": [
      "predicting. test score was:. 0.8\n",
      "fold 18 of 40\n",
      "In order to test on a training group of 39 items, holding out the following subjects:['DEV034']. prepping fold data.... fitting.... 1.4 GiB. trying decoder 1 of 1. "
     ]
    },
    {
     "name": "stderr",
     "output_type": "stream",
     "text": [
      "/home/bsmith16/.conda/envs/neuralsignature/lib/python3.8/site-packages/nilearn/decoding/decoder.py:143: UserWarning: Use a custom estimator at your own risk of the process not working as intended.\n",
      "  warnings.warn('Use a custom estimator at your own risk '\n"
     ]
    },
    {
     "name": "stdout",
     "output_type": "stream",
     "text": [
      "predicting. test score was:. 1.0\n",
      "fold 19 of 40\n",
      "In order to test on a training group of 39 items, holding out the following subjects:['DEV016']. prepping fold data.... fitting.... 1.4 GiB. trying decoder 1 of 1. "
     ]
    },
    {
     "name": "stderr",
     "output_type": "stream",
     "text": [
      "/home/bsmith16/.conda/envs/neuralsignature/lib/python3.8/site-packages/nilearn/decoding/decoder.py:143: UserWarning: Use a custom estimator at your own risk of the process not working as intended.\n",
      "  warnings.warn('Use a custom estimator at your own risk '\n"
     ]
    },
    {
     "name": "stdout",
     "output_type": "stream",
     "text": [
      "predicting. test score was:. 0.8\n",
      "fold 20 of 40\n",
      "In order to test on a training group of 39 items, holding out the following subjects:['DEV036']. prepping fold data.... fitting.... 1.4 GiB. trying decoder 1 of 1. "
     ]
    },
    {
     "name": "stderr",
     "output_type": "stream",
     "text": [
      "/home/bsmith16/.conda/envs/neuralsignature/lib/python3.8/site-packages/nilearn/decoding/decoder.py:143: UserWarning: Use a custom estimator at your own risk of the process not working as intended.\n",
      "  warnings.warn('Use a custom estimator at your own risk '\n"
     ]
    },
    {
     "name": "stdout",
     "output_type": "stream",
     "text": [
      "predicting. test score was:. 0.8\n",
      "fold 21 of 40\n",
      "In order to test on a training group of 39 items, holding out the following subjects:['DEV010']. prepping fold data.... fitting.... 1.4 GiB. trying decoder 1 of 1. "
     ]
    },
    {
     "name": "stderr",
     "output_type": "stream",
     "text": [
      "/home/bsmith16/.conda/envs/neuralsignature/lib/python3.8/site-packages/nilearn/decoding/decoder.py:143: UserWarning: Use a custom estimator at your own risk of the process not working as intended.\n",
      "  warnings.warn('Use a custom estimator at your own risk '\n"
     ]
    },
    {
     "name": "stdout",
     "output_type": "stream",
     "text": [
      "predicting. test score was:. 0.6\n",
      "fold 22 of 40\n",
      "In order to test on a training group of 39 items, holding out the following subjects:['DEV014']. prepping fold data.... fitting.... 1.4 GiB. trying decoder 1 of 1. "
     ]
    },
    {
     "name": "stderr",
     "output_type": "stream",
     "text": [
      "/home/bsmith16/.conda/envs/neuralsignature/lib/python3.8/site-packages/nilearn/decoding/decoder.py:143: UserWarning: Use a custom estimator at your own risk of the process not working as intended.\n",
      "  warnings.warn('Use a custom estimator at your own risk '\n"
     ]
    },
    {
     "name": "stdout",
     "output_type": "stream",
     "text": [
      "predicting. test score was:. 1.0\n",
      "fold 23 of 40\n",
      "In order to test on a training group of 39 items, holding out the following subjects:['DEV053']. prepping fold data.... fitting.... 1.4 GiB. trying decoder 1 of 1. "
     ]
    },
    {
     "name": "stderr",
     "output_type": "stream",
     "text": [
      "/home/bsmith16/.conda/envs/neuralsignature/lib/python3.8/site-packages/nilearn/decoding/decoder.py:143: UserWarning: Use a custom estimator at your own risk of the process not working as intended.\n",
      "  warnings.warn('Use a custom estimator at your own risk '\n"
     ]
    },
    {
     "name": "stdout",
     "output_type": "stream",
     "text": [
      "predicting. test score was:. 0.5\n",
      "fold 24 of 40\n",
      "In order to test on a training group of 39 items, holding out the following subjects:['DEV026']. prepping fold data.... fitting.... 1.4 GiB. trying decoder 1 of 1. "
     ]
    },
    {
     "name": "stderr",
     "output_type": "stream",
     "text": [
      "/home/bsmith16/.conda/envs/neuralsignature/lib/python3.8/site-packages/nilearn/decoding/decoder.py:143: UserWarning: Use a custom estimator at your own risk of the process not working as intended.\n",
      "  warnings.warn('Use a custom estimator at your own risk '\n"
     ]
    },
    {
     "name": "stdout",
     "output_type": "stream",
     "text": [
      "predicting. test score was:. 0.8\n",
      "fold 25 of 40\n",
      "In order to test on a training group of 39 items, holding out the following subjects:['DEV028']. prepping fold data.... fitting.... 1.4 GiB. trying decoder 1 of 1. "
     ]
    },
    {
     "name": "stderr",
     "output_type": "stream",
     "text": [
      "/home/bsmith16/.conda/envs/neuralsignature/lib/python3.8/site-packages/nilearn/decoding/decoder.py:143: UserWarning: Use a custom estimator at your own risk of the process not working as intended.\n",
      "  warnings.warn('Use a custom estimator at your own risk '\n"
     ]
    },
    {
     "name": "stdout",
     "output_type": "stream",
     "text": [
      "predicting. test score was:. 1.0\n",
      "fold 26 of 40\n",
      "In order to test on a training group of 39 items, holding out the following subjects:['DEV056']. prepping fold data.... fitting.... 1.4 GiB. trying decoder 1 of 1. "
     ]
    },
    {
     "name": "stderr",
     "output_type": "stream",
     "text": [
      "/home/bsmith16/.conda/envs/neuralsignature/lib/python3.8/site-packages/nilearn/decoding/decoder.py:143: UserWarning: Use a custom estimator at your own risk of the process not working as intended.\n",
      "  warnings.warn('Use a custom estimator at your own risk '\n"
     ]
    },
    {
     "name": "stdout",
     "output_type": "stream",
     "text": [
      "predicting. test score was:. 0.6\n",
      "fold 27 of 40\n",
      "In order to test on a training group of 39 items, holding out the following subjects:['DEV035']. prepping fold data.... fitting.... 1.4 GiB. trying decoder 1 of 1. "
     ]
    },
    {
     "name": "stderr",
     "output_type": "stream",
     "text": [
      "/home/bsmith16/.conda/envs/neuralsignature/lib/python3.8/site-packages/nilearn/decoding/decoder.py:143: UserWarning: Use a custom estimator at your own risk of the process not working as intended.\n",
      "  warnings.warn('Use a custom estimator at your own risk '\n"
     ]
    },
    {
     "name": "stdout",
     "output_type": "stream",
     "text": [
      "predicting. test score was:. 1.0\n",
      "fold 28 of 40\n",
      "In order to test on a training group of 39 items, holding out the following subjects:['DEV027']. prepping fold data.... fitting.... 1.4 GiB. trying decoder 1 of 1. "
     ]
    },
    {
     "name": "stderr",
     "output_type": "stream",
     "text": [
      "/home/bsmith16/.conda/envs/neuralsignature/lib/python3.8/site-packages/nilearn/decoding/decoder.py:143: UserWarning: Use a custom estimator at your own risk of the process not working as intended.\n",
      "  warnings.warn('Use a custom estimator at your own risk '\n"
     ]
    },
    {
     "name": "stdout",
     "output_type": "stream",
     "text": [
      "predicting. test score was:. 1.0\n",
      "fold 29 of 40\n",
      "In order to test on a training group of 39 items, holding out the following subjects:['DEV006']. prepping fold data.... fitting.... 1.4 GiB. trying decoder 1 of 1. "
     ]
    },
    {
     "name": "stderr",
     "output_type": "stream",
     "text": [
      "/home/bsmith16/.conda/envs/neuralsignature/lib/python3.8/site-packages/nilearn/decoding/decoder.py:143: UserWarning: Use a custom estimator at your own risk of the process not working as intended.\n",
      "  warnings.warn('Use a custom estimator at your own risk '\n"
     ]
    },
    {
     "name": "stdout",
     "output_type": "stream",
     "text": [
      "predicting. test score was:. 0.6\n",
      "fold 30 of 40\n",
      "In order to test on a training group of 39 items, holding out the following subjects:['DEV017']. prepping fold data.... fitting.... 1.4 GiB. trying decoder 1 of 1. "
     ]
    },
    {
     "name": "stderr",
     "output_type": "stream",
     "text": [
      "/home/bsmith16/.conda/envs/neuralsignature/lib/python3.8/site-packages/nilearn/decoding/decoder.py:143: UserWarning: Use a custom estimator at your own risk of the process not working as intended.\n",
      "  warnings.warn('Use a custom estimator at your own risk '\n"
     ]
    },
    {
     "name": "stdout",
     "output_type": "stream",
     "text": [
      "predicting. test score was:. 0.6\n",
      "fold 31 of 40\n",
      "In order to test on a training group of 39 items, holding out the following subjects:['DEV024']. prepping fold data.... fitting.... 1.4 GiB. trying decoder 1 of 1. "
     ]
    },
    {
     "name": "stderr",
     "output_type": "stream",
     "text": [
      "/home/bsmith16/.conda/envs/neuralsignature/lib/python3.8/site-packages/nilearn/decoding/decoder.py:143: UserWarning: Use a custom estimator at your own risk of the process not working as intended.\n",
      "  warnings.warn('Use a custom estimator at your own risk '\n"
     ]
    },
    {
     "name": "stdout",
     "output_type": "stream",
     "text": [
      "predicting. test score was:. 0.6\n",
      "fold 32 of 40\n",
      "In order to test on a training group of 39 items, holding out the following subjects:['DEV046']. prepping fold data.... fitting.... 1.4 GiB. trying decoder 1 of 1. "
     ]
    },
    {
     "name": "stderr",
     "output_type": "stream",
     "text": [
      "/home/bsmith16/.conda/envs/neuralsignature/lib/python3.8/site-packages/nilearn/decoding/decoder.py:143: UserWarning: Use a custom estimator at your own risk of the process not working as intended.\n",
      "  warnings.warn('Use a custom estimator at your own risk '\n"
     ]
    },
    {
     "name": "stdout",
     "output_type": "stream",
     "text": [
      "predicting. test score was:. 0.4\n",
      "fold 33 of 40\n",
      "In order to test on a training group of 39 items, holding out the following subjects:['DEV025']. prepping fold data.... fitting.... 1.5 GiB. trying decoder 1 of 1. "
     ]
    },
    {
     "name": "stderr",
     "output_type": "stream",
     "text": [
      "/home/bsmith16/.conda/envs/neuralsignature/lib/python3.8/site-packages/nilearn/decoding/decoder.py:143: UserWarning: Use a custom estimator at your own risk of the process not working as intended.\n",
      "  warnings.warn('Use a custom estimator at your own risk '\n"
     ]
    },
    {
     "name": "stdout",
     "output_type": "stream",
     "text": [
      "predicting. test score was:. 1.0\n",
      "fold 34 of 40\n",
      "In order to test on a training group of 39 items, holding out the following subjects:['DEV018']. prepping fold data.... fitting.... 1.4 GiB. trying decoder 1 of 1. "
     ]
    },
    {
     "name": "stderr",
     "output_type": "stream",
     "text": [
      "/home/bsmith16/.conda/envs/neuralsignature/lib/python3.8/site-packages/nilearn/decoding/decoder.py:143: UserWarning: Use a custom estimator at your own risk of the process not working as intended.\n",
      "  warnings.warn('Use a custom estimator at your own risk '\n"
     ]
    },
    {
     "name": "stdout",
     "output_type": "stream",
     "text": [
      "predicting. test score was:. 0.75\n",
      "fold 35 of 40\n",
      "In order to test on a training group of 39 items, holding out the following subjects:['DEV005']. prepping fold data.... fitting.... 1.4 GiB. trying decoder 1 of 1. "
     ]
    },
    {
     "name": "stderr",
     "output_type": "stream",
     "text": [
      "/home/bsmith16/.conda/envs/neuralsignature/lib/python3.8/site-packages/nilearn/decoding/decoder.py:143: UserWarning: Use a custom estimator at your own risk of the process not working as intended.\n",
      "  warnings.warn('Use a custom estimator at your own risk '\n"
     ]
    },
    {
     "name": "stdout",
     "output_type": "stream",
     "text": [
      "predicting. test score was:. 0.6\n",
      "fold 36 of 40\n",
      "In order to test on a training group of 39 items, holding out the following subjects:['DEV013']. prepping fold data.... fitting.... 1.4 GiB. trying decoder 1 of 1. "
     ]
    },
    {
     "name": "stderr",
     "output_type": "stream",
     "text": [
      "/home/bsmith16/.conda/envs/neuralsignature/lib/python3.8/site-packages/nilearn/decoding/decoder.py:143: UserWarning: Use a custom estimator at your own risk of the process not working as intended.\n",
      "  warnings.warn('Use a custom estimator at your own risk '\n"
     ]
    },
    {
     "name": "stdout",
     "output_type": "stream",
     "text": [
      "predicting. test score was:. 0.6\n",
      "fold 37 of 40\n",
      "In order to test on a training group of 39 items, holding out the following subjects:['DEV052']. prepping fold data.... fitting.... 1.4 GiB. trying decoder 1 of 1. "
     ]
    },
    {
     "name": "stderr",
     "output_type": "stream",
     "text": [
      "/home/bsmith16/.conda/envs/neuralsignature/lib/python3.8/site-packages/nilearn/decoding/decoder.py:143: UserWarning: Use a custom estimator at your own risk of the process not working as intended.\n",
      "  warnings.warn('Use a custom estimator at your own risk '\n"
     ]
    },
    {
     "name": "stdout",
     "output_type": "stream",
     "text": [
      "predicting. test score was:. 0.8\n",
      "fold 38 of 40\n",
      "In order to test on a training group of 39 items, holding out the following subjects:['DEV055']. prepping fold data.... fitting.... 1.4 GiB. trying decoder 1 of 1. "
     ]
    },
    {
     "name": "stderr",
     "output_type": "stream",
     "text": [
      "/home/bsmith16/.conda/envs/neuralsignature/lib/python3.8/site-packages/nilearn/decoding/decoder.py:143: UserWarning: Use a custom estimator at your own risk of the process not working as intended.\n",
      "  warnings.warn('Use a custom estimator at your own risk '\n"
     ]
    },
    {
     "name": "stdout",
     "output_type": "stream",
     "text": [
      "predicting. test score was:. 0.75\n",
      "fold 39 of 40\n",
      "In order to test on a training group of 39 items, holding out the following subjects:['DEV009']. prepping fold data.... fitting.... 1.5 GiB. trying decoder 1 of 1. "
     ]
    },
    {
     "name": "stderr",
     "output_type": "stream",
     "text": [
      "/home/bsmith16/.conda/envs/neuralsignature/lib/python3.8/site-packages/nilearn/decoding/decoder.py:143: UserWarning: Use a custom estimator at your own risk of the process not working as intended.\n",
      "  warnings.warn('Use a custom estimator at your own risk '\n"
     ]
    },
    {
     "name": "stdout",
     "output_type": "stream",
     "text": [
      "predicting. test score was:. 1.0\n",
      "fold 40 of 40\n",
      "In order to test on a training group of 39 items, holding out the following subjects:['DEV023']. prepping fold data.... fitting.... 1.4 GiB. trying decoder 1 of 1. "
     ]
    },
    {
     "name": "stderr",
     "output_type": "stream",
     "text": [
      "/home/bsmith16/.conda/envs/neuralsignature/lib/python3.8/site-packages/nilearn/decoding/decoder.py:143: UserWarning: Use a custom estimator at your own risk of the process not working as intended.\n",
      "  warnings.warn('Use a custom estimator at your own risk '\n"
     ]
    },
    {
     "name": "stdout",
     "output_type": "stream",
     "text": [
      "predicting. test score was:. 0.8\n"
     ]
    }
   ],
   "source": [
    "groups_array = np.array(list(set(testset_groups)))\n",
    "assert(set(trainset_groups)==set(testset_groups))\n",
    "\n",
    "if decoders is None:\n",
    "    #the CV that the inner decoder uses\n",
    "    cv_inner = GroupKFold(3)\n",
    "    decoders = [DecoderRegressor(standardize= True,param_grid=param_grid,cv=cv_inner,scoring=\"r2\",\n",
    "                                  n_jobs=cpus_to_use)]\n",
    "    print('using default decoder, DecoderRegressor',end='. ')\n",
    "\n",
    "#we actually use KFold on the group names themselves, then filter across that\n",
    "#that's equivalent to doing a GroupedKFold on the data.\n",
    "test_scores = []\n",
    "results = []\n",
    "\n",
    "if type(cv)==type(LeaveOneOut()):\n",
    "    outer_n=len(groups_array)\n",
    "else:\n",
    "    outer_n = cv.get_n_splits()\n",
    "for i, x in enumerate(cv.split(groups_array)):\n",
    "    train_i = x[0]\n",
    "    test_i = x[1]\n",
    "    print(\"fold \" + str(i+1) + \" of \" + str(outer_n))\n",
    "\n",
    "    fold_i_results = {}\n",
    "    train_group_items, test_group_items = groups_array[train_i], groups_array[test_i]\n",
    "    print('In order to test on a training group of ' +\n",
    "          str(len(train_group_items)) + ' items, holding out the following subjects:' +\n",
    "          str(test_group_items),end='. ')\n",
    "#         print(\n",
    "#             'held out ' + str(len(test_group_items)) + ' items and trained on ' + str(len(train_group_items)) + ' items',\n",
    "#             end='. ')\n",
    "\n",
    "    print('prepping fold data...',end='. ')\n",
    "    #select training data from the averages\n",
    "    #print('selecting training data',end='. ')\n",
    "    train_selector = [i for i, x in enumerate(trainset_groups) if x in train_group_items]\n",
    "    train_y = trainset_y[train_selector]\n",
    "    train_X = nib.funcs.concat_images([trainset_X.slicer[...,s] for s in train_selector])\n",
    "    train_groups = trainset_groups[train_selector]\n",
    "    #print(train_X.shape,end='. ')\n",
    "    #print(asizeof_fmt(train_X),end='. ')\n",
    "\n",
    "    #select testing data from the individual values\n",
    "    #print('selecting test data',end='. ')\n",
    "    test_selector = [i for i, x in enumerate(testset_groups) if x in test_group_items]\n",
    "    test_y = testset_y[test_selector]\n",
    "    test_X = nib.funcs.concat_images([testset_X.slicer[...,s] for s in test_selector])\n",
    "    test_groups = testset_groups[test_selector]\n",
    "    #print(asizeof_fmt(test_X),end='. ')\n",
    "    #print(test_X.shape,end='. ')\n",
    "\n",
    "\n",
    "    print(\"fitting...\",end='. ')\n",
    "    print(asizeof_fmt(train_X),end='. ')\n",
    "\n",
    "    val_scores = []\n",
    "    #iterate through decoder objects.\n",
    "    #this is my way of doing cross-validation across different decoders...\n",
    "    hyper_scores = []\n",
    "    train_results = {}\n",
    "    inner_cv_results = {}\n",
    "    for r_i, reg in enumerate(decoders):\n",
    "        cur_r_results = {}\n",
    "        print('trying decoder ' + str(r_i+1) + ' of ' + str(len(decoders)),end='. ')\n",
    "        #if there is nested CV within this function the best hyper-paramters are already being chosen\n",
    "        #we need only to finish the job by identifying the best overall decoder, as the final hyper-parameter\n",
    "        reg.fit(y=train_y,X=train_X,groups=train_groups)\n",
    "        print(\"predicting\",end='. ')\n",
    "\n",
    "        hyper_score = np.max([np.mean(param_values) for param_name, param_values in reg.cv_scores_.items()])\n",
    "        #think there is a bug here. we should not have to be guessing/ignoring param names.\n",
    "        #need to report this.\n",
    "\n",
    "        hyper_scores = hyper_scores + [hyper_score]\n",
    "\n",
    "        cur_r_results['hyper_score'] = hyper_score\n",
    "        cur_r_results['cv_scores_'] = reg.cv_scores_\n",
    "        cur_r_results['cv_params_'] = reg.cv_params_\n",
    "        inner_cv_results[str(reg)] = cur_r_results\n",
    "\n",
    "    fold_i_results['train_results']= inner_cv_results\n",
    "\n",
    "    #identify which was the best\n",
    "    best_hyper_decoder = decoders[np.where([h==np.max(hyper_scores) for h in hyper_scores])[0][0]]\n",
    "\n",
    "    #now run JUST that one on this fold.\n",
    "\n",
    "\n",
    "    #now predict on our test split\n",
    "    test_score = best_hyper_decoder.score(test_X,test_y)\n",
    "    test_y_pred = best_hyper_decoder.predict(test_X)\n",
    "    fold_test_rawdata = pd.DataFrame({\n",
    "        'y_obs':test_y,\n",
    "        'y_pred':test_y_pred,\n",
    "        'y_groups':test_groups\n",
    "\n",
    "    })\n",
    "    #results_by_trainset_item.loc[train_selector,'y_pred']\n",
    "    results_by_trainset_item.loc[test_selector,'y_pred'] = test_y_pred\n",
    "    #results_by_trainset_item.loc[test_selector,'y_match'] = test_y\n",
    "    fold_i_results['fold_test_rawdata'] = fold_test_rawdata\n",
    "    #so we can do scoring externally to this function.\n",
    "\n",
    "    test_scores = test_scores+[test_score]\n",
    "    print('test score was:',end='. ')\n",
    "    print(test_score)\n",
    "\n",
    "    results = results + [fold_i_results]\n",
    "\n",
    "    del test_X\n",
    "    del train_X\n",
    "    gc.collect() #clean up. this is big data we're working with\n",
    "\n",
    "#return(test_scores,results,results_by_trainset_item)\n"
   ]
  },
  {
   "cell_type": "markdown",
   "id": "intellectual-going",
   "metadata": {},
   "source": [
    "#### Initial results"
   ]
  },
  {
   "cell_type": "code",
   "execution_count": 24,
   "id": "suffering-fantasy",
   "metadata": {},
   "outputs": [
    {
     "data": {
      "text/plain": [
       "0.7775000000000001"
      ]
     },
     "execution_count": 24,
     "metadata": {},
     "output_type": "execute_result"
    }
   ],
   "source": [
    "np.mean(test_scores)"
   ]
  },
  {
   "cell_type": "markdown",
   "id": "finite-danger",
   "metadata": {},
   "source": [
    "This is the average train-test performance over 40 subjects LOOCV. Not bad!"
   ]
  },
  {
   "cell_type": "code",
   "execution_count": 25,
   "id": "massive-roots",
   "metadata": {},
   "outputs": [],
   "source": [
    "test_predictions = pd.concat([testsub['fold_test_rawdata'] for testsub in results])"
   ]
  },
  {
   "cell_type": "code",
   "execution_count": 26,
   "id": "finnish-rally",
   "metadata": {},
   "outputs": [
    {
     "data": {
      "text/plain": [
       "123      CorrectGo\n",
       "124    CorrectStop\n",
       "125     FailedStop\n",
       "126            Cue\n",
       "91       CorrectGo\n",
       "          ...     \n",
       "64       CorrectGo\n",
       "65     CorrectStop\n",
       "66      FailedStop\n",
       "67             Cue\n",
       "68        FailedGo\n",
       "Name: y_obs, Length: 183, dtype: object"
      ]
     },
     "execution_count": 26,
     "metadata": {},
     "output_type": "execute_result"
    }
   ],
   "source": [
    "test_predictions['y_obs']"
   ]
  },
  {
   "cell_type": "code",
   "execution_count": 27,
   "id": "indirect-lafayette",
   "metadata": {},
   "outputs": [],
   "source": [
    "from sklearn.metrics import accuracy_score"
   ]
  },
  {
   "cell_type": "code",
   "execution_count": 28,
   "id": "enclosed-disco",
   "metadata": {},
   "outputs": [
    {
     "name": "stdout",
     "output_type": "stream",
     "text": [
      "CorrectGo\n",
      "0.9\n",
      "CorrectStop\n",
      "0.7567567567567568\n",
      "Cue\n",
      "0.975\n",
      "FailedGo\n",
      "0.038461538461538464\n",
      "FailedStop\n",
      "0.9\n"
     ]
    }
   ],
   "source": [
    "#accuracy by group\n",
    "for group in np.unique(test_predictions['y_obs']):\n",
    "    print(group)\n",
    "    predictions_for_group = test_predictions.loc[test_predictions['y_obs']==group]\n",
    "    print(accuracy_score(predictions_for_group['y_pred'],predictions_for_group['y_obs']))"
   ]
  },
  {
   "cell_type": "markdown",
   "id": "outside-shuttle",
   "metadata": {},
   "source": [
    "It's important to remember that, during classification, these groups are more-or-less balanced (OK, _much_ fewer FailedGo, but not an order of magnitude less). The rason Failed Go doesn't perform very well must be because we don't have a very good beta of it because there are so few instances of it."
   ]
  },
  {
   "cell_type": "code",
   "execution_count": 30,
   "id": "alleged-webmaster",
   "metadata": {},
   "outputs": [
    {
     "data": {
      "text/plain": [
       "FailedStop     40\n",
       "Cue            40\n",
       "CorrectGo      40\n",
       "CorrectStop    37\n",
       "FailedGo       26\n",
       "Name: y_obs, dtype: int64"
      ]
     },
     "execution_count": 30,
     "metadata": {},
     "output_type": "execute_result"
    }
   ],
   "source": [
    "test_predictions['y_obs'].value_counts()"
   ]
  },
  {
   "cell_type": "markdown",
   "id": "bound-neutral",
   "metadata": {},
   "source": [
    "So what next?"
   ]
  },
  {
   "cell_type": "markdown",
   "id": "intermediate-leather",
   "metadata": {},
   "source": [
    "So what next?"
   ]
  },
  {
   "cell_type": "markdown",
   "id": "simplified-things",
   "metadata": {},
   "source": [
    "So what next? Need a way to get at inhibition..."
   ]
  },
  {
   "cell_type": "markdown",
   "id": "continental-truth",
   "metadata": {},
   "source": [
    "### Next step: wrap this in an encapsulated function..."
   ]
  },
  {
   "cell_type": "markdown",
   "id": "silver-diving",
   "metadata": {},
   "source": [
    "We didn't actually change the code at all."
   ]
  },
  {
   "cell_type": "raw",
   "id": "stock-trademark",
   "metadata": {},
   "source": [
    "def apply_loocv_and_save(\n",
    "    results_filepath,\n",
    "    brain_data_filepath = '../data/Brain_Data_2sns_60subs.pkl',\n",
    "    train_test_markers_filepath = \"../data/train_test_markers_20210601T183243.csv\",\n",
    "    subjs_to_use = None, #set this to get a subset, otherwise use all of them.\n",
    "    response_transform_func = None,\n",
    "    mask=None,\n",
    "    decoderConstructor=DecoderRegressor\n",
    "    ):"
   ]
  },
  {
   "cell_type": "code",
   "execution_count": 23,
   "id": "accessory-consumer",
   "metadata": {},
   "outputs": [],
   "source": [
    "#set vars for the function\n",
    "\n",
    "train_test_markers_filepath = data_path + \"train_test_markers_20210601T183243.csv\"\n",
    "response_transform_func=condition_resp_trans_func\n",
    "mask=None\n",
    "\n",
    "results_filepath=data_path + \"SST/train_test_results_\" + dataset_name + \"_10subs.pkl\""
   ]
  },
  {
   "cell_type": "code",
   "execution_count": 24,
   "id": "floating-committee",
   "metadata": {},
   "outputs": [],
   "source": [
    "def decoderConstructor(*args, **kwargs):\n",
    "    return(Decoder(scoring='accuracy',verbose=0, *args, **kwargs))"
   ]
  },
  {
   "cell_type": "code",
   "execution_count": 56,
   "id": "rough-ontario",
   "metadata": {},
   "outputs": [
    {
     "name": "stdout",
     "output_type": "stream",
     "text": [
      "checked for intersection and no intersection between the brain data and the subjects was found.\n",
      "there were 40 subjects overlapping between the subjects marked for train data and the training dump file itself.\n",
      "FailedStop     40\n",
      "Cue            40\n",
      "CorrectGo      40\n",
      "CorrectStop    37\n",
      "FailedGo       26\n",
      "Name: condition_label, dtype: int64\n",
      "FailedStop     40\n",
      "Cue            40\n",
      "CorrectGo      40\n",
      "CorrectStop    37\n",
      "FailedGo       26\n",
      "Name: condition_label, dtype: int64\n",
      "test_train_set: 9549\n",
      "pkl_file: 168\n",
      "train_test_markers_filepath: 141\n",
      "brain_data_filepath: 139\n",
      "response_transform_func: 136\n",
      "sys: 72\n",
      "Brain_Data_allsubs: 48\n",
      "subjs_to_use: 28\n",
      "False    183\n",
      "Name: condition_label, dtype: int64\n"
     ]
    },
    {
     "name": "stderr",
     "output_type": "stream",
     "text": [
      "/gpfs/projects/sanlab/shared/DEV/DEV_scripts/fMRI/ml/apply_loocv_and_save.py:191: SettingWithCopyWarning: \n",
      "A value is trying to be set on a copy of a slice from a DataFrame\n",
      "\n",
      "See the caveats in the documentation: https://pandas.pydata.org/pandas-docs/stable/user_guide/indexing.html#returning-a-view-versus-a-copy\n",
      "  Brain_Data_allsubs.Y[Brain_Data_allsubs.Y=='NULL']=None\n"
     ]
    },
    {
     "name": "stdout",
     "output_type": "stream",
     "text": [
      "183\n",
      "183\n",
      "using 40 subjects\n",
      "starting LeaveOneOut\n",
      "finished preprocessing\n",
      "Groups are the same.\n",
      "fold 1 of 40\n",
      "In order to test on a training group of 39 items, holding out the following subjects:['DEV041']. prepping fold data.... fitting.... 1.4 GiB. trying decoder 1 of 1. predicting. test score was:. 1.0\n",
      "fold 2 of 40\n",
      "In order to test on a training group of 39 items, holding out the following subjects:['DEV029']. prepping fold data.... fitting.... 1.4 GiB. trying decoder 1 of 1. "
     ]
    },
    {
     "name": "stderr",
     "output_type": "stream",
     "text": [
      "/home/bsmith16/.conda/envs/neuralsignature/lib/python3.8/site-packages/nilearn/decoding/decoder.py:143: UserWarning: Use a custom estimator at your own risk of the process not working as intended.\n",
      "  warnings.warn('Use a custom estimator at your own risk '\n"
     ]
    },
    {
     "name": "stdout",
     "output_type": "stream",
     "text": [
      "predicting. test score was:. 0.75\n",
      "fold 3 of 40\n",
      "In order to test on a training group of 39 items, holding out the following subjects:['DEV022']. prepping fold data.... fitting.... 1.4 GiB. trying decoder 1 of 1. "
     ]
    },
    {
     "name": "stderr",
     "output_type": "stream",
     "text": [
      "/home/bsmith16/.conda/envs/neuralsignature/lib/python3.8/site-packages/nilearn/decoding/decoder.py:143: UserWarning: Use a custom estimator at your own risk of the process not working as intended.\n",
      "  warnings.warn('Use a custom estimator at your own risk '\n"
     ]
    },
    {
     "name": "stdout",
     "output_type": "stream",
     "text": [
      "predicting. test score was:. 0.8\n",
      "fold 4 of 40\n",
      "In order to test on a training group of 39 items, holding out the following subjects:['DEV057']. prepping fold data.... fitting.... 1.4 GiB. trying decoder 1 of 1. "
     ]
    },
    {
     "name": "stderr",
     "output_type": "stream",
     "text": [
      "/home/bsmith16/.conda/envs/neuralsignature/lib/python3.8/site-packages/nilearn/decoding/decoder.py:143: UserWarning: Use a custom estimator at your own risk of the process not working as intended.\n",
      "  warnings.warn('Use a custom estimator at your own risk '\n"
     ]
    },
    {
     "name": "stdout",
     "output_type": "stream",
     "text": [
      "predicting. test score was:. 1.0\n",
      "fold 5 of 40\n",
      "In order to test on a training group of 39 items, holding out the following subjects:['DEV019']. prepping fold data.... fitting.... 1.4 GiB. trying decoder 1 of 1. "
     ]
    },
    {
     "name": "stderr",
     "output_type": "stream",
     "text": [
      "/home/bsmith16/.conda/envs/neuralsignature/lib/python3.8/site-packages/nilearn/decoding/decoder.py:143: UserWarning: Use a custom estimator at your own risk of the process not working as intended.\n",
      "  warnings.warn('Use a custom estimator at your own risk '\n"
     ]
    },
    {
     "name": "stdout",
     "output_type": "stream",
     "text": [
      "predicting. test score was:. 1.0\n",
      "fold 6 of 40\n",
      "In order to test on a training group of 39 items, holding out the following subjects:['DEV030']. prepping fold data.... fitting.... 1.4 GiB. trying decoder 1 of 1. "
     ]
    },
    {
     "name": "stderr",
     "output_type": "stream",
     "text": [
      "/home/bsmith16/.conda/envs/neuralsignature/lib/python3.8/site-packages/nilearn/decoding/decoder.py:143: UserWarning: Use a custom estimator at your own risk of the process not working as intended.\n",
      "  warnings.warn('Use a custom estimator at your own risk '\n"
     ]
    },
    {
     "name": "stdout",
     "output_type": "stream",
     "text": [
      "predicting. test score was:. 0.8\n",
      "fold 7 of 40\n",
      "In order to test on a training group of 39 items, holding out the following subjects:['DEV012']. prepping fold data.... fitting.... 1.4 GiB. trying decoder 1 of 1. "
     ]
    },
    {
     "name": "stderr",
     "output_type": "stream",
     "text": [
      "/home/bsmith16/.conda/envs/neuralsignature/lib/python3.8/site-packages/nilearn/decoding/decoder.py:143: UserWarning: Use a custom estimator at your own risk of the process not working as intended.\n",
      "  warnings.warn('Use a custom estimator at your own risk '\n"
     ]
    },
    {
     "name": "stdout",
     "output_type": "stream",
     "text": [
      "predicting. test score was:. 0.75\n",
      "fold 8 of 40\n",
      "In order to test on a training group of 39 items, holding out the following subjects:['DEV050']. prepping fold data.... fitting.... 1.4 GiB. trying decoder 1 of 1. "
     ]
    },
    {
     "name": "stderr",
     "output_type": "stream",
     "text": [
      "/home/bsmith16/.conda/envs/neuralsignature/lib/python3.8/site-packages/nilearn/decoding/decoder.py:143: UserWarning: Use a custom estimator at your own risk of the process not working as intended.\n",
      "  warnings.warn('Use a custom estimator at your own risk '\n"
     ]
    },
    {
     "name": "stdout",
     "output_type": "stream",
     "text": [
      "predicting. test score was:. 0.4\n",
      "fold 9 of 40\n",
      "In order to test on a training group of 39 items, holding out the following subjects:['DEV048']. prepping fold data.... fitting.... 1.4 GiB. trying decoder 1 of 1. "
     ]
    },
    {
     "name": "stderr",
     "output_type": "stream",
     "text": [
      "/home/bsmith16/.conda/envs/neuralsignature/lib/python3.8/site-packages/nilearn/decoding/decoder.py:143: UserWarning: Use a custom estimator at your own risk of the process not working as intended.\n",
      "  warnings.warn('Use a custom estimator at your own risk '\n"
     ]
    },
    {
     "name": "stdout",
     "output_type": "stream",
     "text": [
      "predicting. test score was:. 0.8\n",
      "fold 10 of 40\n",
      "In order to test on a training group of 39 items, holding out the following subjects:['DEV051']. prepping fold data.... fitting.... 1.4 GiB. trying decoder 1 of 1. "
     ]
    },
    {
     "name": "stderr",
     "output_type": "stream",
     "text": [
      "/home/bsmith16/.conda/envs/neuralsignature/lib/python3.8/site-packages/nilearn/decoding/decoder.py:143: UserWarning: Use a custom estimator at your own risk of the process not working as intended.\n",
      "  warnings.warn('Use a custom estimator at your own risk '\n"
     ]
    },
    {
     "name": "stdout",
     "output_type": "stream",
     "text": [
      "predicting. test score was:. 0.8\n",
      "fold 11 of 40\n",
      "In order to test on a training group of 39 items, holding out the following subjects:['DEV039']. prepping fold data.... fitting.... 1.4 GiB. trying decoder 1 of 1. "
     ]
    },
    {
     "name": "stderr",
     "output_type": "stream",
     "text": [
      "/home/bsmith16/.conda/envs/neuralsignature/lib/python3.8/site-packages/nilearn/decoding/decoder.py:143: UserWarning: Use a custom estimator at your own risk of the process not working as intended.\n",
      "  warnings.warn('Use a custom estimator at your own risk '\n"
     ]
    },
    {
     "name": "stdout",
     "output_type": "stream",
     "text": [
      "predicting. test score was:. 0.6\n",
      "fold 12 of 40\n",
      "In order to test on a training group of 39 items, holding out the following subjects:['DEV040']. prepping fold data.... fitting.... 1.4 GiB. trying decoder 1 of 1. "
     ]
    },
    {
     "name": "stderr",
     "output_type": "stream",
     "text": [
      "/home/bsmith16/.conda/envs/neuralsignature/lib/python3.8/site-packages/nilearn/decoding/decoder.py:143: UserWarning: Use a custom estimator at your own risk of the process not working as intended.\n",
      "  warnings.warn('Use a custom estimator at your own risk '\n"
     ]
    },
    {
     "name": "stdout",
     "output_type": "stream",
     "text": [
      "predicting. test score was:. 0.8\n",
      "fold 13 of 40\n",
      "In order to test on a training group of 39 items, holding out the following subjects:['DEV049']. prepping fold data.... fitting.... 1.4 GiB. trying decoder 1 of 1. "
     ]
    },
    {
     "name": "stderr",
     "output_type": "stream",
     "text": [
      "/home/bsmith16/.conda/envs/neuralsignature/lib/python3.8/site-packages/nilearn/decoding/decoder.py:143: UserWarning: Use a custom estimator at your own risk of the process not working as intended.\n",
      "  warnings.warn('Use a custom estimator at your own risk '\n"
     ]
    },
    {
     "name": "stdout",
     "output_type": "stream",
     "text": [
      "predicting. test score was:. 0.8\n",
      "fold 14 of 40\n",
      "In order to test on a training group of 39 items, holding out the following subjects:['DEV015']. prepping fold data.... fitting.... 1.4 GiB. trying decoder 1 of 1. "
     ]
    },
    {
     "name": "stderr",
     "output_type": "stream",
     "text": [
      "/home/bsmith16/.conda/envs/neuralsignature/lib/python3.8/site-packages/nilearn/decoding/decoder.py:143: UserWarning: Use a custom estimator at your own risk of the process not working as intended.\n",
      "  warnings.warn('Use a custom estimator at your own risk '\n"
     ]
    },
    {
     "name": "stdout",
     "output_type": "stream",
     "text": [
      "predicting. test score was:. 0.6\n",
      "fold 15 of 40\n",
      "In order to test on a training group of 39 items, holding out the following subjects:['DEV021']. prepping fold data.... fitting.... 1.4 GiB. trying decoder 1 of 1. "
     ]
    },
    {
     "name": "stderr",
     "output_type": "stream",
     "text": [
      "/home/bsmith16/.conda/envs/neuralsignature/lib/python3.8/site-packages/nilearn/decoding/decoder.py:143: UserWarning: Use a custom estimator at your own risk of the process not working as intended.\n",
      "  warnings.warn('Use a custom estimator at your own risk '\n"
     ]
    },
    {
     "name": "stdout",
     "output_type": "stream",
     "text": [
      "predicting. test score was:. 0.8\n",
      "fold 16 of 40\n",
      "In order to test on a training group of 39 items, holding out the following subjects:['DEV043']. prepping fold data.... fitting.... 1.4 GiB. trying decoder 1 of 1. "
     ]
    },
    {
     "name": "stderr",
     "output_type": "stream",
     "text": [
      "/home/bsmith16/.conda/envs/neuralsignature/lib/python3.8/site-packages/nilearn/decoding/decoder.py:143: UserWarning: Use a custom estimator at your own risk of the process not working as intended.\n",
      "  warnings.warn('Use a custom estimator at your own risk '\n"
     ]
    },
    {
     "name": "stdout",
     "output_type": "stream",
     "text": [
      "predicting. test score was:. 1.0\n",
      "fold 17 of 40\n",
      "In order to test on a training group of 39 items, holding out the following subjects:['DEV042']. prepping fold data.... fitting.... 1.4 GiB. trying decoder 1 of 1. "
     ]
    },
    {
     "name": "stderr",
     "output_type": "stream",
     "text": [
      "/home/bsmith16/.conda/envs/neuralsignature/lib/python3.8/site-packages/nilearn/decoding/decoder.py:143: UserWarning: Use a custom estimator at your own risk of the process not working as intended.\n",
      "  warnings.warn('Use a custom estimator at your own risk '\n"
     ]
    },
    {
     "name": "stdout",
     "output_type": "stream",
     "text": [
      "predicting. test score was:. 0.8\n",
      "fold 18 of 40\n",
      "In order to test on a training group of 39 items, holding out the following subjects:['DEV034']. prepping fold data.... fitting.... 1.4 GiB. trying decoder 1 of 1. "
     ]
    },
    {
     "name": "stderr",
     "output_type": "stream",
     "text": [
      "/home/bsmith16/.conda/envs/neuralsignature/lib/python3.8/site-packages/nilearn/decoding/decoder.py:143: UserWarning: Use a custom estimator at your own risk of the process not working as intended.\n",
      "  warnings.warn('Use a custom estimator at your own risk '\n"
     ]
    },
    {
     "name": "stdout",
     "output_type": "stream",
     "text": [
      "predicting. test score was:. 1.0\n",
      "fold 19 of 40\n",
      "In order to test on a training group of 39 items, holding out the following subjects:['DEV016']. prepping fold data.... fitting.... 1.4 GiB. trying decoder 1 of 1. "
     ]
    },
    {
     "name": "stderr",
     "output_type": "stream",
     "text": [
      "/home/bsmith16/.conda/envs/neuralsignature/lib/python3.8/site-packages/nilearn/decoding/decoder.py:143: UserWarning: Use a custom estimator at your own risk of the process not working as intended.\n",
      "  warnings.warn('Use a custom estimator at your own risk '\n"
     ]
    },
    {
     "name": "stdout",
     "output_type": "stream",
     "text": [
      "predicting. test score was:. 0.8\n",
      "fold 20 of 40\n",
      "In order to test on a training group of 39 items, holding out the following subjects:['DEV036']. prepping fold data.... fitting.... 1.4 GiB. trying decoder 1 of 1. "
     ]
    },
    {
     "name": "stderr",
     "output_type": "stream",
     "text": [
      "/home/bsmith16/.conda/envs/neuralsignature/lib/python3.8/site-packages/nilearn/decoding/decoder.py:143: UserWarning: Use a custom estimator at your own risk of the process not working as intended.\n",
      "  warnings.warn('Use a custom estimator at your own risk '\n"
     ]
    },
    {
     "name": "stdout",
     "output_type": "stream",
     "text": [
      "predicting. test score was:. 0.8\n",
      "fold 21 of 40\n",
      "In order to test on a training group of 39 items, holding out the following subjects:['DEV010']. prepping fold data.... fitting.... 1.4 GiB. trying decoder 1 of 1. "
     ]
    },
    {
     "name": "stderr",
     "output_type": "stream",
     "text": [
      "/home/bsmith16/.conda/envs/neuralsignature/lib/python3.8/site-packages/nilearn/decoding/decoder.py:143: UserWarning: Use a custom estimator at your own risk of the process not working as intended.\n",
      "  warnings.warn('Use a custom estimator at your own risk '\n"
     ]
    },
    {
     "name": "stdout",
     "output_type": "stream",
     "text": [
      "predicting. test score was:. 0.6\n",
      "fold 22 of 40\n",
      "In order to test on a training group of 39 items, holding out the following subjects:['DEV014']. prepping fold data.... fitting.... 1.4 GiB. trying decoder 1 of 1. "
     ]
    },
    {
     "name": "stderr",
     "output_type": "stream",
     "text": [
      "/home/bsmith16/.conda/envs/neuralsignature/lib/python3.8/site-packages/nilearn/decoding/decoder.py:143: UserWarning: Use a custom estimator at your own risk of the process not working as intended.\n",
      "  warnings.warn('Use a custom estimator at your own risk '\n"
     ]
    },
    {
     "name": "stdout",
     "output_type": "stream",
     "text": [
      "predicting. test score was:. 1.0\n",
      "fold 23 of 40\n",
      "In order to test on a training group of 39 items, holding out the following subjects:['DEV053']. prepping fold data.... fitting.... 1.4 GiB. trying decoder 1 of 1. "
     ]
    },
    {
     "name": "stderr",
     "output_type": "stream",
     "text": [
      "/home/bsmith16/.conda/envs/neuralsignature/lib/python3.8/site-packages/nilearn/decoding/decoder.py:143: UserWarning: Use a custom estimator at your own risk of the process not working as intended.\n",
      "  warnings.warn('Use a custom estimator at your own risk '\n"
     ]
    },
    {
     "name": "stdout",
     "output_type": "stream",
     "text": [
      "predicting. test score was:. 0.5\n",
      "fold 24 of 40\n",
      "In order to test on a training group of 39 items, holding out the following subjects:['DEV026']. prepping fold data.... fitting.... 1.4 GiB. trying decoder 1 of 1. "
     ]
    },
    {
     "name": "stderr",
     "output_type": "stream",
     "text": [
      "/home/bsmith16/.conda/envs/neuralsignature/lib/python3.8/site-packages/nilearn/decoding/decoder.py:143: UserWarning: Use a custom estimator at your own risk of the process not working as intended.\n",
      "  warnings.warn('Use a custom estimator at your own risk '\n"
     ]
    },
    {
     "name": "stdout",
     "output_type": "stream",
     "text": [
      "predicting. test score was:. 0.8\n",
      "fold 25 of 40\n",
      "In order to test on a training group of 39 items, holding out the following subjects:['DEV028']. prepping fold data.... fitting.... 1.4 GiB. trying decoder 1 of 1. "
     ]
    },
    {
     "name": "stderr",
     "output_type": "stream",
     "text": [
      "/home/bsmith16/.conda/envs/neuralsignature/lib/python3.8/site-packages/nilearn/decoding/decoder.py:143: UserWarning: Use a custom estimator at your own risk of the process not working as intended.\n",
      "  warnings.warn('Use a custom estimator at your own risk '\n"
     ]
    },
    {
     "name": "stdout",
     "output_type": "stream",
     "text": [
      "predicting. test score was:. 1.0\n",
      "fold 26 of 40\n",
      "In order to test on a training group of 39 items, holding out the following subjects:['DEV056']. prepping fold data.... fitting.... 1.4 GiB. trying decoder 1 of 1. "
     ]
    },
    {
     "name": "stderr",
     "output_type": "stream",
     "text": [
      "/home/bsmith16/.conda/envs/neuralsignature/lib/python3.8/site-packages/nilearn/decoding/decoder.py:143: UserWarning: Use a custom estimator at your own risk of the process not working as intended.\n",
      "  warnings.warn('Use a custom estimator at your own risk '\n"
     ]
    },
    {
     "name": "stdout",
     "output_type": "stream",
     "text": [
      "predicting. test score was:. 0.6\n",
      "fold 27 of 40\n",
      "In order to test on a training group of 39 items, holding out the following subjects:['DEV035']. prepping fold data.... fitting.... 1.4 GiB. trying decoder 1 of 1. "
     ]
    },
    {
     "name": "stderr",
     "output_type": "stream",
     "text": [
      "/home/bsmith16/.conda/envs/neuralsignature/lib/python3.8/site-packages/nilearn/decoding/decoder.py:143: UserWarning: Use a custom estimator at your own risk of the process not working as intended.\n",
      "  warnings.warn('Use a custom estimator at your own risk '\n"
     ]
    },
    {
     "name": "stdout",
     "output_type": "stream",
     "text": [
      "predicting. test score was:. 1.0\n",
      "fold 28 of 40\n",
      "In order to test on a training group of 39 items, holding out the following subjects:['DEV027']. prepping fold data.... fitting.... 1.4 GiB. trying decoder 1 of 1. "
     ]
    },
    {
     "name": "stderr",
     "output_type": "stream",
     "text": [
      "/home/bsmith16/.conda/envs/neuralsignature/lib/python3.8/site-packages/nilearn/decoding/decoder.py:143: UserWarning: Use a custom estimator at your own risk of the process not working as intended.\n",
      "  warnings.warn('Use a custom estimator at your own risk '\n"
     ]
    },
    {
     "name": "stdout",
     "output_type": "stream",
     "text": [
      "predicting. test score was:. 1.0\n",
      "fold 29 of 40\n",
      "In order to test on a training group of 39 items, holding out the following subjects:['DEV006']. prepping fold data.... fitting.... 1.4 GiB. trying decoder 1 of 1. "
     ]
    },
    {
     "name": "stderr",
     "output_type": "stream",
     "text": [
      "/home/bsmith16/.conda/envs/neuralsignature/lib/python3.8/site-packages/nilearn/decoding/decoder.py:143: UserWarning: Use a custom estimator at your own risk of the process not working as intended.\n",
      "  warnings.warn('Use a custom estimator at your own risk '\n"
     ]
    },
    {
     "name": "stdout",
     "output_type": "stream",
     "text": [
      "predicting. test score was:. 0.6\n",
      "fold 30 of 40\n",
      "In order to test on a training group of 39 items, holding out the following subjects:['DEV017']. prepping fold data.... fitting.... 1.4 GiB. trying decoder 1 of 1. "
     ]
    },
    {
     "name": "stderr",
     "output_type": "stream",
     "text": [
      "/home/bsmith16/.conda/envs/neuralsignature/lib/python3.8/site-packages/nilearn/decoding/decoder.py:143: UserWarning: Use a custom estimator at your own risk of the process not working as intended.\n",
      "  warnings.warn('Use a custom estimator at your own risk '\n"
     ]
    },
    {
     "name": "stdout",
     "output_type": "stream",
     "text": [
      "predicting. test score was:. 0.6\n",
      "fold 31 of 40\n",
      "In order to test on a training group of 39 items, holding out the following subjects:['DEV024']. prepping fold data.... fitting.... 1.4 GiB. trying decoder 1 of 1. "
     ]
    },
    {
     "name": "stderr",
     "output_type": "stream",
     "text": [
      "/home/bsmith16/.conda/envs/neuralsignature/lib/python3.8/site-packages/nilearn/decoding/decoder.py:143: UserWarning: Use a custom estimator at your own risk of the process not working as intended.\n",
      "  warnings.warn('Use a custom estimator at your own risk '\n"
     ]
    },
    {
     "name": "stdout",
     "output_type": "stream",
     "text": [
      "predicting. test score was:. 0.6\n",
      "fold 32 of 40\n",
      "In order to test on a training group of 39 items, holding out the following subjects:['DEV046']. prepping fold data.... fitting.... 1.4 GiB. trying decoder 1 of 1. "
     ]
    },
    {
     "name": "stderr",
     "output_type": "stream",
     "text": [
      "/home/bsmith16/.conda/envs/neuralsignature/lib/python3.8/site-packages/nilearn/decoding/decoder.py:143: UserWarning: Use a custom estimator at your own risk of the process not working as intended.\n",
      "  warnings.warn('Use a custom estimator at your own risk '\n"
     ]
    },
    {
     "name": "stdout",
     "output_type": "stream",
     "text": [
      "predicting. test score was:. 0.4\n",
      "fold 33 of 40\n",
      "In order to test on a training group of 39 items, holding out the following subjects:['DEV025']. prepping fold data.... fitting.... 1.5 GiB. trying decoder 1 of 1. "
     ]
    },
    {
     "name": "stderr",
     "output_type": "stream",
     "text": [
      "/home/bsmith16/.conda/envs/neuralsignature/lib/python3.8/site-packages/nilearn/decoding/decoder.py:143: UserWarning: Use a custom estimator at your own risk of the process not working as intended.\n",
      "  warnings.warn('Use a custom estimator at your own risk '\n"
     ]
    },
    {
     "name": "stdout",
     "output_type": "stream",
     "text": [
      "predicting. test score was:. 1.0\n",
      "fold 34 of 40\n",
      "In order to test on a training group of 39 items, holding out the following subjects:['DEV018']. prepping fold data.... fitting.... 1.4 GiB. trying decoder 1 of 1. "
     ]
    },
    {
     "name": "stderr",
     "output_type": "stream",
     "text": [
      "/home/bsmith16/.conda/envs/neuralsignature/lib/python3.8/site-packages/nilearn/decoding/decoder.py:143: UserWarning: Use a custom estimator at your own risk of the process not working as intended.\n",
      "  warnings.warn('Use a custom estimator at your own risk '\n"
     ]
    },
    {
     "name": "stdout",
     "output_type": "stream",
     "text": [
      "predicting. test score was:. 0.75\n",
      "fold 35 of 40\n",
      "In order to test on a training group of 39 items, holding out the following subjects:['DEV005']. prepping fold data.... fitting.... 1.4 GiB. trying decoder 1 of 1. "
     ]
    },
    {
     "name": "stderr",
     "output_type": "stream",
     "text": [
      "/home/bsmith16/.conda/envs/neuralsignature/lib/python3.8/site-packages/nilearn/decoding/decoder.py:143: UserWarning: Use a custom estimator at your own risk of the process not working as intended.\n",
      "  warnings.warn('Use a custom estimator at your own risk '\n"
     ]
    },
    {
     "name": "stdout",
     "output_type": "stream",
     "text": [
      "predicting. test score was:. 0.6\n",
      "fold 36 of 40\n",
      "In order to test on a training group of 39 items, holding out the following subjects:['DEV013']. prepping fold data.... fitting.... 1.4 GiB. trying decoder 1 of 1. "
     ]
    },
    {
     "name": "stderr",
     "output_type": "stream",
     "text": [
      "/home/bsmith16/.conda/envs/neuralsignature/lib/python3.8/site-packages/nilearn/decoding/decoder.py:143: UserWarning: Use a custom estimator at your own risk of the process not working as intended.\n",
      "  warnings.warn('Use a custom estimator at your own risk '\n"
     ]
    },
    {
     "name": "stdout",
     "output_type": "stream",
     "text": [
      "predicting. test score was:. 0.6\n",
      "fold 37 of 40\n",
      "In order to test on a training group of 39 items, holding out the following subjects:['DEV052']. prepping fold data.... fitting.... 1.4 GiB. trying decoder 1 of 1. "
     ]
    },
    {
     "name": "stderr",
     "output_type": "stream",
     "text": [
      "/home/bsmith16/.conda/envs/neuralsignature/lib/python3.8/site-packages/nilearn/decoding/decoder.py:143: UserWarning: Use a custom estimator at your own risk of the process not working as intended.\n",
      "  warnings.warn('Use a custom estimator at your own risk '\n"
     ]
    },
    {
     "name": "stdout",
     "output_type": "stream",
     "text": [
      "predicting. test score was:. 0.8\n",
      "fold 38 of 40\n",
      "In order to test on a training group of 39 items, holding out the following subjects:['DEV055']. prepping fold data.... fitting.... 1.4 GiB. trying decoder 1 of 1. "
     ]
    },
    {
     "name": "stderr",
     "output_type": "stream",
     "text": [
      "/home/bsmith16/.conda/envs/neuralsignature/lib/python3.8/site-packages/nilearn/decoding/decoder.py:143: UserWarning: Use a custom estimator at your own risk of the process not working as intended.\n",
      "  warnings.warn('Use a custom estimator at your own risk '\n"
     ]
    },
    {
     "name": "stdout",
     "output_type": "stream",
     "text": [
      "predicting. test score was:. 0.75\n",
      "fold 39 of 40\n",
      "In order to test on a training group of 39 items, holding out the following subjects:['DEV009']. prepping fold data.... fitting.... 1.5 GiB. trying decoder 1 of 1. "
     ]
    },
    {
     "name": "stderr",
     "output_type": "stream",
     "text": [
      "/home/bsmith16/.conda/envs/neuralsignature/lib/python3.8/site-packages/nilearn/decoding/decoder.py:143: UserWarning: Use a custom estimator at your own risk of the process not working as intended.\n",
      "  warnings.warn('Use a custom estimator at your own risk '\n"
     ]
    },
    {
     "name": "stdout",
     "output_type": "stream",
     "text": [
      "predicting. test score was:. 1.0\n",
      "fold 40 of 40\n",
      "In order to test on a training group of 39 items, holding out the following subjects:['DEV023']. prepping fold data.... fitting.... 1.4 GiB. trying decoder 1 of 1. "
     ]
    },
    {
     "name": "stderr",
     "output_type": "stream",
     "text": [
      "/home/bsmith16/.conda/envs/neuralsignature/lib/python3.8/site-packages/nilearn/decoding/decoder.py:143: UserWarning: Use a custom estimator at your own risk of the process not working as intended.\n",
      "  warnings.warn('Use a custom estimator at your own risk '\n"
     ]
    },
    {
     "name": "stdout",
     "output_type": "stream",
     "text": [
      "predicting. test score was:. 0.8\n",
      "1.0\n",
      "1.0\n",
      "running one more time on whole dataset for beta map\n"
     ]
    },
    {
     "name": "stderr",
     "output_type": "stream",
     "text": [
      "/home/bsmith16/.conda/envs/neuralsignature/lib/python3.8/site-packages/nilearn/decoding/decoder.py:143: UserWarning: Use a custom estimator at your own risk of the process not working as intended.\n",
      "  warnings.warn('Use a custom estimator at your own risk '\n"
     ]
    },
    {
     "name": "stdout",
     "output_type": "stream",
     "text": [
      "finished learning\n",
      "saved.\n"
     ]
    }
   ],
   "source": [
    "apply_loocv_and_save(\n",
    "    results_filepath = results_filepath,\n",
    "    brain_data_filepath = brain_data_filepath,\n",
    "    train_test_markers_filepath = data_path + \"train_test_markers_20210601T183243.csv\",\n",
    "    subjs_to_use = 40,\n",
    "    decoderConstructor = decoderConstructor,\n",
    "    response_transform_func=condition_resp_trans_func,\n",
    "    mask=None                               \n",
    "    \n",
    ")"
   ]
  },
  {
   "cell_type": "code",
   "execution_count": 57,
   "id": "opponent-salem",
   "metadata": {},
   "outputs": [],
   "source": [
    "metadata = pickle.load(open(results_filepath,'rb'))\n"
   ]
  },
  {
   "cell_type": "code",
   "execution_count": 58,
   "id": "single-brunei",
   "metadata": {},
   "outputs": [
    {
     "name": "stdout",
     "output_type": "stream",
     "text": [
      "CorrectGo\n",
      "0.9\n",
      "CorrectStop\n",
      "0.7567567567567568\n",
      "Cue\n",
      "0.975\n",
      "FailedGo\n",
      "0.038461538461538464\n",
      "FailedStop\n",
      "0.9\n"
     ]
    }
   ],
   "source": [
    "test_predictions = pd.concat([testsub['fold_test_rawdata'] for testsub in metadata[1]])\n",
    "#accuracy by group\n",
    "for group in np.unique(test_predictions['y_obs']):\n",
    "    print(group)\n",
    "    predictions_for_group = test_predictions.loc[test_predictions['y_obs']==group]\n",
    "    print(accuracy_score(predictions_for_group['y_pred'],predictions_for_group['y_obs']))"
   ]
  },
  {
   "cell_type": "markdown",
   "id": "second-customer",
   "metadata": {},
   "source": [
    "That looks good. Now let's try with an abridged dataset with just CorrectStop and FailedStop."
   ]
  },
  {
   "cell_type": "code",
   "execution_count": 60,
   "id": "southwest-coach",
   "metadata": {},
   "outputs": [
    {
     "data": {
      "text/plain": [
       "FailedStop     40\n",
       "Cue            40\n",
       "CorrectGo      40\n",
       "CorrectStop    37\n",
       "FailedGo       26\n",
       "Name: y_obs, dtype: int64"
      ]
     },
     "execution_count": 60,
     "metadata": {},
     "output_type": "execute_result"
    }
   ],
   "source": [
    "test_predictions['y_obs'].value_counts()"
   ]
  },
  {
   "cell_type": "markdown",
   "id": "southern-commercial",
   "metadata": {},
   "source": [
    "Might make more sense to do CorrectStop vs. CorrectGo"
   ]
  },
  {
   "cell_type": "markdown",
   "id": "nominated-hazard",
   "metadata": {},
   "source": [
    "### Thoughts with Meeting with Ell"
   ]
  },
  {
   "cell_type": "markdown",
   "id": "encouraging-prayer",
   "metadata": {},
   "source": [
    "Think about looking at the image map and mask out motor cortex or mask-in only PFC"
   ]
  },
  {
   "cell_type": "markdown",
   "id": "elder-execution",
   "metadata": {},
   "source": [
    "To implement plan from https://uoregonctn.atlassian.net/wiki/spaces/DE/pages/1730019339/TESQ-E+and+measures+of+response+inhibition+and+suppression:\n",
    "        \n",
    "\n",
    "- Do a regression of a simple CorrectStop vs. CorrectGo on subject-level SSRT"
   ]
  },
  {
   "cell_type": "markdown",
   "id": "adjustable-persian",
   "metadata": {},
   "source": [
    "#### proposal\n",
    "\n",
    "Two class (e.g., CorrectStop vs. CorrectGo)\n",
    "\n",
    "Leave-One-Out classifier...\n",
    "\n",
    "Neural similarity of a subject to the group with a Stop vs. Go contrast might actually be indicative of performance.\n",
    "\n",
    "#### proposal\n",
    "\n",
    "Building the measure: Dissimilarity measure of CorrectStop vs. CorrectGo within subject. Repeat for each subject and we have dissimilarity measures across the group.\n",
    "\n",
    "Ultimate research question: does this better predict FFQ?\n",
    "\n",
    "\n",
    "#### proposal\n",
    "\n",
    "within-subject classification of trials (CorrectStop vs. CorrectGo) usign LOOCV WITHIN each subject/run\n",
    "\n",
    "Then use prediction accuracy or disimilarity as an indivdual difference\n",
    "\n",
    "Enhance with focus on specific theoretically relevant region, or make it harder using CorrectStop vs. FailedStop ???\n",
    "\n",
    "#### Follow-up\n",
    "\n",
    "Might be lots of other ideas but these would be a good start.\n",
    "Would be cool to have a correlation matrix of all of these things together."
   ]
  },
  {
   "cell_type": "markdown",
   "id": "skilled-puppy",
   "metadata": {},
   "source": [
    "## Post-error slowing\n",
    "Subdivide among stop trials, an instead o correct vs. incorrect, split them as previous stop ERROR vs. previous stop NO ERROR.\n",
    "\n",
    "Then might try within-subject classification of trials."
   ]
  },
  {
   "cell_type": "markdown",
   "id": "outer-earth",
   "metadata": {},
   "source": [
    "## what's the wider scientific value of this which might guide our choices?\n",
    "\n",
    "Not predicting FFQ in itself but \"construct discovery\"--how does behavior on a simple task like this and how does neural activity on a task like this influence FFQ and ultimately health outcomes?\n",
    "\n"
   ]
  },
  {
   "cell_type": "markdown",
   "id": "eligible-spoke",
   "metadata": {},
   "source": [
    "##  ...and classify FailedStop vs. CorrectStop"
   ]
  },
  {
   "cell_type": "code",
   "execution_count": 10,
   "id": "rural-karen",
   "metadata": {},
   "outputs": [],
   "source": [
    "brain_data_filepath = ml_data_folderpath + '/SST/Brain_Data_conditions_58subs_correct_cond.pkl'"
   ]
  },
  {
   "cell_type": "code",
   "execution_count": 11,
   "id": "statewide-treaty",
   "metadata": {},
   "outputs": [],
   "source": [
    "#set vars for the function\n",
    "train_test_markers_filepath = data_path + \"train_test_markers_20210601T183243.csv\"\n",
    "response_transform_func=condition_resp_trans_func\n",
    "mask=None\n",
    "\n",
    "results_filepath=data_path + \"SST/train_test_results_\" + dataset_name + \"_40subs_twoclasses.pkl\"\n",
    "\n",
    "def decoderConstructor(*args, **kwargs):\n",
    "    return(Decoder(scoring='accuracy',verbose=0, *args, **kwargs))"
   ]
  },
  {
   "cell_type": "code",
   "execution_count": 12,
   "id": "buried-bernard",
   "metadata": {},
   "outputs": [
    {
     "name": "stdout",
     "output_type": "stream",
     "text": [
      "checked for intersection and no intersection between the brain data and the subjects was found.\n",
      "there were 55 subjects overlapping between the subjects marked for train data and the training dump file itself.\n",
      "test_train_set: 9549\n",
      "pkl_file: 168\n",
      "brain_data_filepath: 152\n",
      "train_test_markers_filepath: 141\n",
      "response_transform_func: 136\n",
      "sys: 72\n",
      "Brain_Data_allsubs: 48\n",
      "subjs_to_use: 28\n"
     ]
    },
    {
     "name": "stderr",
     "output_type": "stream",
     "text": [
      "/gpfs/projects/sanlab/shared/DEV/DEV_scripts/fMRI/ml/apply_loocv_and_save.py:201: SettingWithCopyWarning: \n",
      "A value is trying to be set on a copy of a slice from a DataFrame\n",
      "\n",
      "See the caveats in the documentation: https://pandas.pydata.org/pandas-docs/stable/user_guide/indexing.html#returning-a-view-versus-a-copy\n",
      "  Brain_Data_allsubs.Y[Brain_Data_allsubs.Y=='NULL']=None\n"
     ]
    },
    {
     "name": "stdout",
     "output_type": "stream",
     "text": [
      "110\n",
      "110\n",
      "using 58 subjects\n",
      "starting LeaveOneOut\n",
      "finished preprocessing\n",
      "Groups are the same.\n",
      "fold 1 of 55\n",
      "In order to test on a training group of 54 items, holding out the following subjects:['DEV057']. prepping fold data.... fitting.... 891.6 MiB. trying decoder 1 of 1. predicting. test score was:. 1.0\n",
      "fold 2 of 55\n",
      "In order to test on a training group of 54 items, holding out the following subjects:['DEV058']. prepping fold data.... fitting.... 891.6 MiB. trying decoder 1 of 1. "
     ]
    },
    {
     "name": "stderr",
     "output_type": "stream",
     "text": [
      "/home/bsmith16/.conda/envs/neuralsignature/lib/python3.8/site-packages/nilearn/decoding/decoder.py:143: UserWarning: Use a custom estimator at your own risk of the process not working as intended.\n",
      "  warnings.warn('Use a custom estimator at your own risk '\n"
     ]
    },
    {
     "name": "stdout",
     "output_type": "stream",
     "text": [
      "predicting. test score was:. 1.0\n",
      "fold 3 of 55\n",
      "In order to test on a training group of 54 items, holding out the following subjects:['DEV062']. prepping fold data.... fitting.... 891.6 MiB. trying decoder 1 of 1. "
     ]
    },
    {
     "name": "stderr",
     "output_type": "stream",
     "text": [
      "/home/bsmith16/.conda/envs/neuralsignature/lib/python3.8/site-packages/nilearn/decoding/decoder.py:143: UserWarning: Use a custom estimator at your own risk of the process not working as intended.\n",
      "  warnings.warn('Use a custom estimator at your own risk '\n"
     ]
    },
    {
     "name": "stdout",
     "output_type": "stream",
     "text": [
      "predicting. test score was:. 1.0\n",
      "fold 4 of 55\n",
      "In order to test on a training group of 54 items, holding out the following subjects:['DEV040']. prepping fold data.... fitting.... 891.6 MiB. trying decoder 1 of 1. "
     ]
    },
    {
     "name": "stderr",
     "output_type": "stream",
     "text": [
      "/home/bsmith16/.conda/envs/neuralsignature/lib/python3.8/site-packages/nilearn/decoding/decoder.py:143: UserWarning: Use a custom estimator at your own risk of the process not working as intended.\n",
      "  warnings.warn('Use a custom estimator at your own risk '\n"
     ]
    },
    {
     "name": "stdout",
     "output_type": "stream",
     "text": [
      "predicting. test score was:. 1.0\n",
      "fold 5 of 55\n",
      "In order to test on a training group of 54 items, holding out the following subjects:['DEV019']. prepping fold data.... fitting.... 891.6 MiB. trying decoder 1 of 1. "
     ]
    },
    {
     "name": "stderr",
     "output_type": "stream",
     "text": [
      "/home/bsmith16/.conda/envs/neuralsignature/lib/python3.8/site-packages/nilearn/decoding/decoder.py:143: UserWarning: Use a custom estimator at your own risk of the process not working as intended.\n",
      "  warnings.warn('Use a custom estimator at your own risk '\n"
     ]
    },
    {
     "name": "stdout",
     "output_type": "stream",
     "text": [
      "predicting. test score was:. 1.0\n",
      "fold 6 of 55\n",
      "In order to test on a training group of 54 items, holding out the following subjects:['DEV068']. prepping fold data.... fitting.... 891.6 MiB. trying decoder 1 of 1. "
     ]
    },
    {
     "name": "stderr",
     "output_type": "stream",
     "text": [
      "/home/bsmith16/.conda/envs/neuralsignature/lib/python3.8/site-packages/nilearn/decoding/decoder.py:143: UserWarning: Use a custom estimator at your own risk of the process not working as intended.\n",
      "  warnings.warn('Use a custom estimator at your own risk '\n"
     ]
    },
    {
     "name": "stdout",
     "output_type": "stream",
     "text": [
      "predicting. test score was:. 0.0\n",
      "fold 7 of 55\n",
      "In order to test on a training group of 54 items, holding out the following subjects:['DEV076']. prepping fold data.... fitting.... 891.6 MiB. trying decoder 1 of 1. "
     ]
    },
    {
     "name": "stderr",
     "output_type": "stream",
     "text": [
      "/home/bsmith16/.conda/envs/neuralsignature/lib/python3.8/site-packages/nilearn/decoding/decoder.py:143: UserWarning: Use a custom estimator at your own risk of the process not working as intended.\n",
      "  warnings.warn('Use a custom estimator at your own risk '\n"
     ]
    },
    {
     "name": "stdout",
     "output_type": "stream",
     "text": [
      "predicting. test score was:. 0.0\n",
      "fold 8 of 55\n",
      "In order to test on a training group of 54 items, holding out the following subjects:['DEV015']. prepping fold data.... fitting.... 891.6 MiB. trying decoder 1 of 1. "
     ]
    },
    {
     "name": "stderr",
     "output_type": "stream",
     "text": [
      "/home/bsmith16/.conda/envs/neuralsignature/lib/python3.8/site-packages/nilearn/decoding/decoder.py:143: UserWarning: Use a custom estimator at your own risk of the process not working as intended.\n",
      "  warnings.warn('Use a custom estimator at your own risk '\n"
     ]
    },
    {
     "name": "stdout",
     "output_type": "stream",
     "text": [
      "predicting. test score was:. 1.0\n",
      "fold 9 of 55\n",
      "In order to test on a training group of 54 items, holding out the following subjects:['DEV006']. prepping fold data.... fitting.... 891.6 MiB. trying decoder 1 of 1. "
     ]
    },
    {
     "name": "stderr",
     "output_type": "stream",
     "text": [
      "/home/bsmith16/.conda/envs/neuralsignature/lib/python3.8/site-packages/nilearn/decoding/decoder.py:143: UserWarning: Use a custom estimator at your own risk of the process not working as intended.\n",
      "  warnings.warn('Use a custom estimator at your own risk '\n"
     ]
    },
    {
     "name": "stdout",
     "output_type": "stream",
     "text": [
      "predicting. test score was:. 1.0\n",
      "fold 10 of 55\n",
      "In order to test on a training group of 54 items, holding out the following subjects:['DEV018']. prepping fold data.... fitting.... 891.6 MiB. trying decoder 1 of 1. "
     ]
    },
    {
     "name": "stderr",
     "output_type": "stream",
     "text": [
      "/home/bsmith16/.conda/envs/neuralsignature/lib/python3.8/site-packages/nilearn/decoding/decoder.py:143: UserWarning: Use a custom estimator at your own risk of the process not working as intended.\n",
      "  warnings.warn('Use a custom estimator at your own risk '\n"
     ]
    },
    {
     "name": "stdout",
     "output_type": "stream",
     "text": [
      "predicting. test score was:. 1.0\n",
      "fold 11 of 55\n",
      "In order to test on a training group of 54 items, holding out the following subjects:['DEV030']. prepping fold data.... fitting.... 891.6 MiB. trying decoder 1 of 1. "
     ]
    },
    {
     "name": "stderr",
     "output_type": "stream",
     "text": [
      "/home/bsmith16/.conda/envs/neuralsignature/lib/python3.8/site-packages/nilearn/decoding/decoder.py:143: UserWarning: Use a custom estimator at your own risk of the process not working as intended.\n",
      "  warnings.warn('Use a custom estimator at your own risk '\n"
     ]
    },
    {
     "name": "stdout",
     "output_type": "stream",
     "text": [
      "predicting. test score was:. 1.0\n",
      "fold 12 of 55\n",
      "In order to test on a training group of 54 items, holding out the following subjects:['DEV035']. prepping fold data.... fitting.... 891.6 MiB. trying decoder 1 of 1. "
     ]
    },
    {
     "name": "stderr",
     "output_type": "stream",
     "text": [
      "/home/bsmith16/.conda/envs/neuralsignature/lib/python3.8/site-packages/nilearn/decoding/decoder.py:143: UserWarning: Use a custom estimator at your own risk of the process not working as intended.\n",
      "  warnings.warn('Use a custom estimator at your own risk '\n"
     ]
    },
    {
     "name": "stdout",
     "output_type": "stream",
     "text": [
      "predicting. test score was:. 1.0\n",
      "fold 13 of 55\n",
      "In order to test on a training group of 54 items, holding out the following subjects:['DEV087']. prepping fold data.... fitting.... 891.6 MiB. trying decoder 1 of 1. "
     ]
    },
    {
     "name": "stderr",
     "output_type": "stream",
     "text": [
      "/home/bsmith16/.conda/envs/neuralsignature/lib/python3.8/site-packages/nilearn/decoding/decoder.py:143: UserWarning: Use a custom estimator at your own risk of the process not working as intended.\n",
      "  warnings.warn('Use a custom estimator at your own risk '\n"
     ]
    },
    {
     "name": "stdout",
     "output_type": "stream",
     "text": [
      "predicting. test score was:. 1.0\n",
      "fold 14 of 55\n",
      "In order to test on a training group of 54 items, holding out the following subjects:['DEV042']. prepping fold data.... fitting.... 891.6 MiB. trying decoder 1 of 1. "
     ]
    },
    {
     "name": "stderr",
     "output_type": "stream",
     "text": [
      "/home/bsmith16/.conda/envs/neuralsignature/lib/python3.8/site-packages/nilearn/decoding/decoder.py:143: UserWarning: Use a custom estimator at your own risk of the process not working as intended.\n",
      "  warnings.warn('Use a custom estimator at your own risk '\n"
     ]
    },
    {
     "name": "stdout",
     "output_type": "stream",
     "text": [
      "predicting. test score was:. 1.0\n",
      "fold 15 of 55\n",
      "In order to test on a training group of 54 items, holding out the following subjects:['DEV084']. prepping fold data.... fitting.... 891.6 MiB. trying decoder 1 of 1. "
     ]
    },
    {
     "name": "stderr",
     "output_type": "stream",
     "text": [
      "/home/bsmith16/.conda/envs/neuralsignature/lib/python3.8/site-packages/nilearn/decoding/decoder.py:143: UserWarning: Use a custom estimator at your own risk of the process not working as intended.\n",
      "  warnings.warn('Use a custom estimator at your own risk '\n"
     ]
    },
    {
     "name": "stdout",
     "output_type": "stream",
     "text": [
      "predicting. test score was:. 1.0\n",
      "fold 16 of 55\n",
      "In order to test on a training group of 54 items, holding out the following subjects:['DEV086']. prepping fold data.... fitting.... 891.6 MiB. trying decoder 1 of 1. "
     ]
    },
    {
     "name": "stderr",
     "output_type": "stream",
     "text": [
      "/home/bsmith16/.conda/envs/neuralsignature/lib/python3.8/site-packages/nilearn/decoding/decoder.py:143: UserWarning: Use a custom estimator at your own risk of the process not working as intended.\n",
      "  warnings.warn('Use a custom estimator at your own risk '\n"
     ]
    },
    {
     "name": "stdout",
     "output_type": "stream",
     "text": [
      "predicting. test score was:. 1.0\n",
      "fold 17 of 55\n",
      "In order to test on a training group of 54 items, holding out the following subjects:['DEV071']. prepping fold data.... fitting.... 891.6 MiB. trying decoder 1 of 1. "
     ]
    },
    {
     "name": "stderr",
     "output_type": "stream",
     "text": [
      "/home/bsmith16/.conda/envs/neuralsignature/lib/python3.8/site-packages/nilearn/decoding/decoder.py:143: UserWarning: Use a custom estimator at your own risk of the process not working as intended.\n",
      "  warnings.warn('Use a custom estimator at your own risk '\n"
     ]
    },
    {
     "name": "stdout",
     "output_type": "stream",
     "text": [
      "predicting. test score was:. 0.0\n",
      "fold 18 of 55\n",
      "In order to test on a training group of 54 items, holding out the following subjects:['DEV023']. prepping fold data.... fitting.... 891.6 MiB. trying decoder 1 of 1. "
     ]
    },
    {
     "name": "stderr",
     "output_type": "stream",
     "text": [
      "/home/bsmith16/.conda/envs/neuralsignature/lib/python3.8/site-packages/nilearn/decoding/decoder.py:143: UserWarning: Use a custom estimator at your own risk of the process not working as intended.\n",
      "  warnings.warn('Use a custom estimator at your own risk '\n"
     ]
    },
    {
     "name": "stdout",
     "output_type": "stream",
     "text": [
      "predicting. test score was:. 1.0\n",
      "fold 19 of 55\n",
      "In order to test on a training group of 54 items, holding out the following subjects:['DEV026']. prepping fold data.... fitting.... 891.6 MiB. trying decoder 1 of 1. "
     ]
    },
    {
     "name": "stderr",
     "output_type": "stream",
     "text": [
      "/home/bsmith16/.conda/envs/neuralsignature/lib/python3.8/site-packages/nilearn/decoding/decoder.py:143: UserWarning: Use a custom estimator at your own risk of the process not working as intended.\n",
      "  warnings.warn('Use a custom estimator at your own risk '\n"
     ]
    },
    {
     "name": "stdout",
     "output_type": "stream",
     "text": [
      "predicting. test score was:. 1.0\n",
      "fold 20 of 55\n",
      "In order to test on a training group of 54 items, holding out the following subjects:['DEV079']. prepping fold data.... fitting.... 891.6 MiB. trying decoder 1 of 1. "
     ]
    },
    {
     "name": "stderr",
     "output_type": "stream",
     "text": [
      "/home/bsmith16/.conda/envs/neuralsignature/lib/python3.8/site-packages/nilearn/decoding/decoder.py:143: UserWarning: Use a custom estimator at your own risk of the process not working as intended.\n",
      "  warnings.warn('Use a custom estimator at your own risk '\n"
     ]
    },
    {
     "name": "stdout",
     "output_type": "stream",
     "text": [
      "predicting. test score was:. 1.0\n",
      "fold 21 of 55\n",
      "In order to test on a training group of 54 items, holding out the following subjects:['DEV048']. prepping fold data.... fitting.... 891.6 MiB. trying decoder 1 of 1. "
     ]
    },
    {
     "name": "stderr",
     "output_type": "stream",
     "text": [
      "/home/bsmith16/.conda/envs/neuralsignature/lib/python3.8/site-packages/nilearn/decoding/decoder.py:143: UserWarning: Use a custom estimator at your own risk of the process not working as intended.\n",
      "  warnings.warn('Use a custom estimator at your own risk '\n"
     ]
    },
    {
     "name": "stdout",
     "output_type": "stream",
     "text": [
      "predicting. test score was:. 1.0\n",
      "fold 22 of 55\n",
      "In order to test on a training group of 54 items, holding out the following subjects:['DEV073']. prepping fold data.... fitting.... 891.6 MiB. trying decoder 1 of 1. "
     ]
    },
    {
     "name": "stderr",
     "output_type": "stream",
     "text": [
      "/home/bsmith16/.conda/envs/neuralsignature/lib/python3.8/site-packages/nilearn/decoding/decoder.py:143: UserWarning: Use a custom estimator at your own risk of the process not working as intended.\n",
      "  warnings.warn('Use a custom estimator at your own risk '\n"
     ]
    },
    {
     "name": "stdout",
     "output_type": "stream",
     "text": [
      "predicting. test score was:. 1.0\n",
      "fold 23 of 55\n",
      "In order to test on a training group of 54 items, holding out the following subjects:['DEV021']. prepping fold data.... fitting.... 891.6 MiB. trying decoder 1 of 1. "
     ]
    },
    {
     "name": "stderr",
     "output_type": "stream",
     "text": [
      "/home/bsmith16/.conda/envs/neuralsignature/lib/python3.8/site-packages/nilearn/decoding/decoder.py:143: UserWarning: Use a custom estimator at your own risk of the process not working as intended.\n",
      "  warnings.warn('Use a custom estimator at your own risk '\n"
     ]
    },
    {
     "name": "stdout",
     "output_type": "stream",
     "text": [
      "predicting. test score was:. 1.0\n",
      "fold 24 of 55\n",
      "In order to test on a training group of 54 items, holding out the following subjects:['DEV056']. prepping fold data.... fitting.... 891.6 MiB. trying decoder 1 of 1. "
     ]
    },
    {
     "name": "stderr",
     "output_type": "stream",
     "text": [
      "/home/bsmith16/.conda/envs/neuralsignature/lib/python3.8/site-packages/nilearn/decoding/decoder.py:143: UserWarning: Use a custom estimator at your own risk of the process not working as intended.\n",
      "  warnings.warn('Use a custom estimator at your own risk '\n"
     ]
    },
    {
     "name": "stdout",
     "output_type": "stream",
     "text": [
      "predicting. test score was:. 1.0\n",
      "fold 25 of 55\n",
      "In order to test on a training group of 54 items, holding out the following subjects:['DEV055']. prepping fold data.... fitting.... 891.6 MiB. trying decoder 1 of 1. "
     ]
    },
    {
     "name": "stderr",
     "output_type": "stream",
     "text": [
      "/home/bsmith16/.conda/envs/neuralsignature/lib/python3.8/site-packages/nilearn/decoding/decoder.py:143: UserWarning: Use a custom estimator at your own risk of the process not working as intended.\n",
      "  warnings.warn('Use a custom estimator at your own risk '\n"
     ]
    },
    {
     "name": "stdout",
     "output_type": "stream",
     "text": [
      "predicting. test score was:. 0.0\n",
      "fold 26 of 55\n",
      "In order to test on a training group of 54 items, holding out the following subjects:['DEV028']. prepping fold data.... fitting.... 891.6 MiB. trying decoder 1 of 1. "
     ]
    },
    {
     "name": "stderr",
     "output_type": "stream",
     "text": [
      "/home/bsmith16/.conda/envs/neuralsignature/lib/python3.8/site-packages/nilearn/decoding/decoder.py:143: UserWarning: Use a custom estimator at your own risk of the process not working as intended.\n",
      "  warnings.warn('Use a custom estimator at your own risk '\n"
     ]
    },
    {
     "name": "stdout",
     "output_type": "stream",
     "text": [
      "predicting. test score was:. 1.0\n",
      "fold 27 of 55\n",
      "In order to test on a training group of 54 items, holding out the following subjects:['DEV052']. prepping fold data.... fitting.... 891.6 MiB. trying decoder 1 of 1. "
     ]
    },
    {
     "name": "stderr",
     "output_type": "stream",
     "text": [
      "/home/bsmith16/.conda/envs/neuralsignature/lib/python3.8/site-packages/nilearn/decoding/decoder.py:143: UserWarning: Use a custom estimator at your own risk of the process not working as intended.\n",
      "  warnings.warn('Use a custom estimator at your own risk '\n"
     ]
    },
    {
     "name": "stdout",
     "output_type": "stream",
     "text": [
      "predicting. test score was:. 1.0\n",
      "fold 28 of 55\n",
      "In order to test on a training group of 54 items, holding out the following subjects:['DEV013']. prepping fold data.... fitting.... 891.6 MiB. trying decoder 1 of 1. "
     ]
    },
    {
     "name": "stderr",
     "output_type": "stream",
     "text": [
      "/home/bsmith16/.conda/envs/neuralsignature/lib/python3.8/site-packages/nilearn/decoding/decoder.py:143: UserWarning: Use a custom estimator at your own risk of the process not working as intended.\n",
      "  warnings.warn('Use a custom estimator at your own risk '\n"
     ]
    },
    {
     "name": "stdout",
     "output_type": "stream",
     "text": [
      "predicting. test score was:. 1.0\n",
      "fold 29 of 55\n",
      "In order to test on a training group of 54 items, holding out the following subjects:['DEV027']. prepping fold data.... fitting.... 891.6 MiB. trying decoder 1 of 1. "
     ]
    },
    {
     "name": "stderr",
     "output_type": "stream",
     "text": [
      "/home/bsmith16/.conda/envs/neuralsignature/lib/python3.8/site-packages/nilearn/decoding/decoder.py:143: UserWarning: Use a custom estimator at your own risk of the process not working as intended.\n",
      "  warnings.warn('Use a custom estimator at your own risk '\n"
     ]
    },
    {
     "name": "stdout",
     "output_type": "stream",
     "text": [
      "predicting. test score was:. 1.0\n",
      "fold 30 of 55\n",
      "In order to test on a training group of 54 items, holding out the following subjects:['DEV017']. prepping fold data.... fitting.... 891.6 MiB. trying decoder 1 of 1. "
     ]
    },
    {
     "name": "stderr",
     "output_type": "stream",
     "text": [
      "/home/bsmith16/.conda/envs/neuralsignature/lib/python3.8/site-packages/nilearn/decoding/decoder.py:143: UserWarning: Use a custom estimator at your own risk of the process not working as intended.\n",
      "  warnings.warn('Use a custom estimator at your own risk '\n"
     ]
    },
    {
     "name": "stdout",
     "output_type": "stream",
     "text": [
      "predicting. test score was:. 1.0\n",
      "fold 31 of 55\n",
      "In order to test on a training group of 54 items, holding out the following subjects:['DEV029']. prepping fold data.... fitting.... 891.6 MiB. trying decoder 1 of 1. "
     ]
    },
    {
     "name": "stderr",
     "output_type": "stream",
     "text": [
      "/home/bsmith16/.conda/envs/neuralsignature/lib/python3.8/site-packages/nilearn/decoding/decoder.py:143: UserWarning: Use a custom estimator at your own risk of the process not working as intended.\n",
      "  warnings.warn('Use a custom estimator at your own risk '\n"
     ]
    },
    {
     "name": "stdout",
     "output_type": "stream",
     "text": [
      "predicting. test score was:. 1.0\n",
      "fold 32 of 55\n",
      "In order to test on a training group of 54 items, holding out the following subjects:['DEV069']. prepping fold data.... fitting.... 891.6 MiB. trying decoder 1 of 1. "
     ]
    },
    {
     "name": "stderr",
     "output_type": "stream",
     "text": [
      "/home/bsmith16/.conda/envs/neuralsignature/lib/python3.8/site-packages/nilearn/decoding/decoder.py:143: UserWarning: Use a custom estimator at your own risk of the process not working as intended.\n",
      "  warnings.warn('Use a custom estimator at your own risk '\n"
     ]
    },
    {
     "name": "stdout",
     "output_type": "stream",
     "text": [
      "predicting. test score was:. 1.0\n",
      "fold 33 of 55\n",
      "In order to test on a training group of 54 items, holding out the following subjects:['DEV041']. prepping fold data.... fitting.... 891.6 MiB. trying decoder 1 of 1. "
     ]
    },
    {
     "name": "stderr",
     "output_type": "stream",
     "text": [
      "/home/bsmith16/.conda/envs/neuralsignature/lib/python3.8/site-packages/nilearn/decoding/decoder.py:143: UserWarning: Use a custom estimator at your own risk of the process not working as intended.\n",
      "  warnings.warn('Use a custom estimator at your own risk '\n"
     ]
    },
    {
     "name": "stdout",
     "output_type": "stream",
     "text": [
      "predicting. test score was:. 1.0\n",
      "fold 34 of 55\n",
      "In order to test on a training group of 54 items, holding out the following subjects:['DEV034']. prepping fold data.... fitting.... 891.6 MiB. trying decoder 1 of 1. "
     ]
    },
    {
     "name": "stderr",
     "output_type": "stream",
     "text": [
      "/home/bsmith16/.conda/envs/neuralsignature/lib/python3.8/site-packages/nilearn/decoding/decoder.py:143: UserWarning: Use a custom estimator at your own risk of the process not working as intended.\n",
      "  warnings.warn('Use a custom estimator at your own risk '\n"
     ]
    },
    {
     "name": "stdout",
     "output_type": "stream",
     "text": [
      "predicting. test score was:. 1.0\n",
      "fold 35 of 55\n",
      "In order to test on a training group of 54 items, holding out the following subjects:['DEV089']. prepping fold data.... fitting.... 891.6 MiB. trying decoder 1 of 1. "
     ]
    },
    {
     "name": "stderr",
     "output_type": "stream",
     "text": [
      "/home/bsmith16/.conda/envs/neuralsignature/lib/python3.8/site-packages/nilearn/decoding/decoder.py:143: UserWarning: Use a custom estimator at your own risk of the process not working as intended.\n",
      "  warnings.warn('Use a custom estimator at your own risk '\n"
     ]
    },
    {
     "name": "stdout",
     "output_type": "stream",
     "text": [
      "predicting. test score was:. 1.0\n",
      "fold 36 of 55\n",
      "In order to test on a training group of 54 items, holding out the following subjects:['DEV059']. prepping fold data.... fitting.... 891.6 MiB. trying decoder 1 of 1. "
     ]
    },
    {
     "name": "stderr",
     "output_type": "stream",
     "text": [
      "/home/bsmith16/.conda/envs/neuralsignature/lib/python3.8/site-packages/nilearn/decoding/decoder.py:143: UserWarning: Use a custom estimator at your own risk of the process not working as intended.\n",
      "  warnings.warn('Use a custom estimator at your own risk '\n"
     ]
    },
    {
     "name": "stdout",
     "output_type": "stream",
     "text": [
      "predicting. test score was:. 1.0\n",
      "fold 37 of 55\n",
      "In order to test on a training group of 54 items, holding out the following subjects:['DEV036']. prepping fold data.... fitting.... 891.6 MiB. trying decoder 1 of 1. "
     ]
    },
    {
     "name": "stderr",
     "output_type": "stream",
     "text": [
      "/home/bsmith16/.conda/envs/neuralsignature/lib/python3.8/site-packages/nilearn/decoding/decoder.py:143: UserWarning: Use a custom estimator at your own risk of the process not working as intended.\n",
      "  warnings.warn('Use a custom estimator at your own risk '\n"
     ]
    },
    {
     "name": "stdout",
     "output_type": "stream",
     "text": [
      "predicting. test score was:. 1.0\n",
      "fold 38 of 55\n",
      "In order to test on a training group of 54 items, holding out the following subjects:['DEV024']. prepping fold data.... fitting.... 891.6 MiB. trying decoder 1 of 1. "
     ]
    },
    {
     "name": "stderr",
     "output_type": "stream",
     "text": [
      "/home/bsmith16/.conda/envs/neuralsignature/lib/python3.8/site-packages/nilearn/decoding/decoder.py:143: UserWarning: Use a custom estimator at your own risk of the process not working as intended.\n",
      "  warnings.warn('Use a custom estimator at your own risk '\n"
     ]
    },
    {
     "name": "stdout",
     "output_type": "stream",
     "text": [
      "predicting. test score was:. 1.0\n",
      "fold 39 of 55\n",
      "In order to test on a training group of 54 items, holding out the following subjects:['DEV010']. prepping fold data.... fitting.... 891.6 MiB. trying decoder 1 of 1. "
     ]
    },
    {
     "name": "stderr",
     "output_type": "stream",
     "text": [
      "/home/bsmith16/.conda/envs/neuralsignature/lib/python3.8/site-packages/nilearn/decoding/decoder.py:143: UserWarning: Use a custom estimator at your own risk of the process not working as intended.\n",
      "  warnings.warn('Use a custom estimator at your own risk '\n"
     ]
    },
    {
     "name": "stdout",
     "output_type": "stream",
     "text": [
      "predicting. test score was:. 1.0\n",
      "fold 40 of 55\n",
      "In order to test on a training group of 54 items, holding out the following subjects:['DEV005']. prepping fold data.... fitting.... 891.6 MiB. trying decoder 1 of 1. "
     ]
    },
    {
     "name": "stderr",
     "output_type": "stream",
     "text": [
      "/home/bsmith16/.conda/envs/neuralsignature/lib/python3.8/site-packages/nilearn/decoding/decoder.py:143: UserWarning: Use a custom estimator at your own risk of the process not working as intended.\n",
      "  warnings.warn('Use a custom estimator at your own risk '\n"
     ]
    },
    {
     "name": "stdout",
     "output_type": "stream",
     "text": [
      "predicting. test score was:. 0.0\n",
      "fold 41 of 55\n",
      "In order to test on a training group of 54 items, holding out the following subjects:['DEV060']. prepping fold data.... fitting.... 891.6 MiB. trying decoder 1 of 1. "
     ]
    },
    {
     "name": "stderr",
     "output_type": "stream",
     "text": [
      "/home/bsmith16/.conda/envs/neuralsignature/lib/python3.8/site-packages/nilearn/decoding/decoder.py:143: UserWarning: Use a custom estimator at your own risk of the process not working as intended.\n",
      "  warnings.warn('Use a custom estimator at your own risk '\n"
     ]
    },
    {
     "name": "stdout",
     "output_type": "stream",
     "text": [
      "predicting. test score was:. 1.0\n",
      "fold 42 of 55\n",
      "In order to test on a training group of 54 items, holding out the following subjects:['DEV083']. prepping fold data.... fitting.... 891.6 MiB. trying decoder 1 of 1. "
     ]
    },
    {
     "name": "stderr",
     "output_type": "stream",
     "text": [
      "/home/bsmith16/.conda/envs/neuralsignature/lib/python3.8/site-packages/nilearn/decoding/decoder.py:143: UserWarning: Use a custom estimator at your own risk of the process not working as intended.\n",
      "  warnings.warn('Use a custom estimator at your own risk '\n"
     ]
    },
    {
     "name": "stdout",
     "output_type": "stream",
     "text": [
      "predicting. test score was:. 1.0\n",
      "fold 43 of 55\n",
      "In order to test on a training group of 54 items, holding out the following subjects:['DEV077']. prepping fold data.... fitting.... 891.6 MiB. trying decoder 1 of 1. "
     ]
    },
    {
     "name": "stderr",
     "output_type": "stream",
     "text": [
      "/home/bsmith16/.conda/envs/neuralsignature/lib/python3.8/site-packages/nilearn/decoding/decoder.py:143: UserWarning: Use a custom estimator at your own risk of the process not working as intended.\n",
      "  warnings.warn('Use a custom estimator at your own risk '\n"
     ]
    },
    {
     "name": "stdout",
     "output_type": "stream",
     "text": [
      "predicting. test score was:. 1.0\n",
      "fold 44 of 55\n",
      "In order to test on a training group of 54 items, holding out the following subjects:['DEV022']. prepping fold data.... fitting.... 891.6 MiB. trying decoder 1 of 1. "
     ]
    },
    {
     "name": "stderr",
     "output_type": "stream",
     "text": [
      "/home/bsmith16/.conda/envs/neuralsignature/lib/python3.8/site-packages/nilearn/decoding/decoder.py:143: UserWarning: Use a custom estimator at your own risk of the process not working as intended.\n",
      "  warnings.warn('Use a custom estimator at your own risk '\n"
     ]
    },
    {
     "name": "stdout",
     "output_type": "stream",
     "text": [
      "predicting. test score was:. 1.0\n",
      "fold 45 of 55\n",
      "In order to test on a training group of 54 items, holding out the following subjects:['DEV043']. prepping fold data.... fitting.... 891.6 MiB. trying decoder 1 of 1. "
     ]
    },
    {
     "name": "stderr",
     "output_type": "stream",
     "text": [
      "/home/bsmith16/.conda/envs/neuralsignature/lib/python3.8/site-packages/nilearn/decoding/decoder.py:143: UserWarning: Use a custom estimator at your own risk of the process not working as intended.\n",
      "  warnings.warn('Use a custom estimator at your own risk '\n"
     ]
    },
    {
     "name": "stdout",
     "output_type": "stream",
     "text": [
      "predicting. test score was:. 1.0\n",
      "fold 46 of 55\n",
      "In order to test on a training group of 54 items, holding out the following subjects:['DEV051']. prepping fold data.... fitting.... 891.6 MiB. trying decoder 1 of 1. "
     ]
    },
    {
     "name": "stderr",
     "output_type": "stream",
     "text": [
      "/home/bsmith16/.conda/envs/neuralsignature/lib/python3.8/site-packages/nilearn/decoding/decoder.py:143: UserWarning: Use a custom estimator at your own risk of the process not working as intended.\n",
      "  warnings.warn('Use a custom estimator at your own risk '\n"
     ]
    },
    {
     "name": "stdout",
     "output_type": "stream",
     "text": [
      "predicting. test score was:. 1.0\n",
      "fold 47 of 55\n",
      "In order to test on a training group of 54 items, holding out the following subjects:['DEV074']. prepping fold data.... fitting.... 891.6 MiB. trying decoder 1 of 1. "
     ]
    },
    {
     "name": "stderr",
     "output_type": "stream",
     "text": [
      "/home/bsmith16/.conda/envs/neuralsignature/lib/python3.8/site-packages/nilearn/decoding/decoder.py:143: UserWarning: Use a custom estimator at your own risk of the process not working as intended.\n",
      "  warnings.warn('Use a custom estimator at your own risk '\n"
     ]
    },
    {
     "name": "stdout",
     "output_type": "stream",
     "text": [
      "predicting. test score was:. 1.0\n",
      "fold 48 of 55\n",
      "In order to test on a training group of 54 items, holding out the following subjects:['DEV046']. prepping fold data.... fitting.... 891.6 MiB. trying decoder 1 of 1. "
     ]
    },
    {
     "name": "stderr",
     "output_type": "stream",
     "text": [
      "/home/bsmith16/.conda/envs/neuralsignature/lib/python3.8/site-packages/nilearn/decoding/decoder.py:143: UserWarning: Use a custom estimator at your own risk of the process not working as intended.\n",
      "  warnings.warn('Use a custom estimator at your own risk '\n"
     ]
    },
    {
     "name": "stdout",
     "output_type": "stream",
     "text": [
      "predicting. test score was:. 1.0\n",
      "fold 49 of 55\n",
      "In order to test on a training group of 54 items, holding out the following subjects:['DEV050']. prepping fold data.... fitting.... 891.6 MiB. trying decoder 1 of 1. "
     ]
    },
    {
     "name": "stderr",
     "output_type": "stream",
     "text": [
      "/home/bsmith16/.conda/envs/neuralsignature/lib/python3.8/site-packages/nilearn/decoding/decoder.py:143: UserWarning: Use a custom estimator at your own risk of the process not working as intended.\n",
      "  warnings.warn('Use a custom estimator at your own risk '\n"
     ]
    },
    {
     "name": "stdout",
     "output_type": "stream",
     "text": [
      "predicting. test score was:. 1.0\n",
      "fold 50 of 55\n",
      "In order to test on a training group of 54 items, holding out the following subjects:['DEV016']. prepping fold data.... fitting.... 891.6 MiB. trying decoder 1 of 1. "
     ]
    },
    {
     "name": "stderr",
     "output_type": "stream",
     "text": [
      "/home/bsmith16/.conda/envs/neuralsignature/lib/python3.8/site-packages/nilearn/decoding/decoder.py:143: UserWarning: Use a custom estimator at your own risk of the process not working as intended.\n",
      "  warnings.warn('Use a custom estimator at your own risk '\n"
     ]
    },
    {
     "name": "stdout",
     "output_type": "stream",
     "text": [
      "predicting. test score was:. 1.0\n",
      "fold 51 of 55\n",
      "In order to test on a training group of 54 items, holding out the following subjects:['DEV085']. prepping fold data.... fitting.... 891.6 MiB. trying decoder 1 of 1. "
     ]
    },
    {
     "name": "stderr",
     "output_type": "stream",
     "text": [
      "/home/bsmith16/.conda/envs/neuralsignature/lib/python3.8/site-packages/nilearn/decoding/decoder.py:143: UserWarning: Use a custom estimator at your own risk of the process not working as intended.\n",
      "  warnings.warn('Use a custom estimator at your own risk '\n"
     ]
    },
    {
     "name": "stdout",
     "output_type": "stream",
     "text": [
      "predicting. test score was:. 1.0\n",
      "fold 52 of 55\n",
      "In order to test on a training group of 54 items, holding out the following subjects:['DEV053']. prepping fold data.... fitting.... 891.6 MiB. trying decoder 1 of 1. "
     ]
    },
    {
     "name": "stderr",
     "output_type": "stream",
     "text": [
      "/home/bsmith16/.conda/envs/neuralsignature/lib/python3.8/site-packages/nilearn/decoding/decoder.py:143: UserWarning: Use a custom estimator at your own risk of the process not working as intended.\n",
      "  warnings.warn('Use a custom estimator at your own risk '\n"
     ]
    },
    {
     "name": "stdout",
     "output_type": "stream",
     "text": [
      "predicting. test score was:. 1.0\n",
      "fold 53 of 55\n",
      "In order to test on a training group of 54 items, holding out the following subjects:['DEV039']. prepping fold data.... fitting.... 891.6 MiB. trying decoder 1 of 1. "
     ]
    },
    {
     "name": "stderr",
     "output_type": "stream",
     "text": [
      "/home/bsmith16/.conda/envs/neuralsignature/lib/python3.8/site-packages/nilearn/decoding/decoder.py:143: UserWarning: Use a custom estimator at your own risk of the process not working as intended.\n",
      "  warnings.warn('Use a custom estimator at your own risk '\n"
     ]
    },
    {
     "name": "stdout",
     "output_type": "stream",
     "text": [
      "predicting. test score was:. 1.0\n",
      "fold 54 of 55\n",
      "In order to test on a training group of 54 items, holding out the following subjects:['DEV014']. prepping fold data.... fitting.... 891.6 MiB. trying decoder 1 of 1. "
     ]
    },
    {
     "name": "stderr",
     "output_type": "stream",
     "text": [
      "/home/bsmith16/.conda/envs/neuralsignature/lib/python3.8/site-packages/nilearn/decoding/decoder.py:143: UserWarning: Use a custom estimator at your own risk of the process not working as intended.\n",
      "  warnings.warn('Use a custom estimator at your own risk '\n"
     ]
    },
    {
     "name": "stdout",
     "output_type": "stream",
     "text": [
      "predicting. test score was:. 1.0\n",
      "fold 55 of 55\n",
      "In order to test on a training group of 54 items, holding out the following subjects:['DEV049']. prepping fold data.... fitting.... 891.6 MiB. trying decoder 1 of 1. "
     ]
    },
    {
     "name": "stderr",
     "output_type": "stream",
     "text": [
      "/home/bsmith16/.conda/envs/neuralsignature/lib/python3.8/site-packages/nilearn/decoding/decoder.py:143: UserWarning: Use a custom estimator at your own risk of the process not working as intended.\n",
      "  warnings.warn('Use a custom estimator at your own risk '\n"
     ]
    },
    {
     "name": "stdout",
     "output_type": "stream",
     "text": [
      "predicting. test score was:. 1.0\n",
      "1.0\n",
      "1.0\n",
      "running one more time on whole dataset for beta map\n"
     ]
    },
    {
     "name": "stderr",
     "output_type": "stream",
     "text": [
      "/home/bsmith16/.conda/envs/neuralsignature/lib/python3.8/site-packages/nilearn/decoding/decoder.py:143: UserWarning: Use a custom estimator at your own risk of the process not working as intended.\n",
      "  warnings.warn('Use a custom estimator at your own risk '\n"
     ]
    },
    {
     "name": "stdout",
     "output_type": "stream",
     "text": [
      "finished learning\n",
      "saved.\n"
     ]
    }
   ],
   "source": [
    "apply_loocv_and_save(\n",
    "    results_filepath = results_filepath,\n",
    "    brain_data_filepath = brain_data_filepath,\n",
    "    train_test_markers_filepath = data_path + \"train_test_markers_20210601T183243.csv\",\n",
    "    subjs_to_use = 58,\n",
    "    decoderConstructor = decoderConstructor,\n",
    "    response_transform_func=condition_resp_trans_func,\n",
    "    mask=None\n",
    ")"
   ]
  },
  {
   "cell_type": "code",
   "execution_count": 11,
   "id": "touched-change",
   "metadata": {},
   "outputs": [],
   "source": [
    "results_2c = pickle.load(open(results_filepath,'rb'))"
   ]
  },
  {
   "cell_type": "code",
   "execution_count": 12,
   "id": "bulgarian-spiritual",
   "metadata": {},
   "outputs": [],
   "source": [
    "from sklearn.metrics import accuracy_score"
   ]
  },
  {
   "cell_type": "code",
   "execution_count": 13,
   "id": "subsequent-brook",
   "metadata": {},
   "outputs": [
    {
     "name": "stdout",
     "output_type": "stream",
     "text": [
      "CorrectGo\n",
      "0.95\n",
      "CorrectStop\n",
      "0.95\n"
     ]
    }
   ],
   "source": [
    "test_predictions = pd.concat([testsub['fold_test_rawdata'] for testsub in results_2c[1]])\n",
    "#accuracy by group\n",
    "for group in np.unique(test_predictions['y_obs']):\n",
    "    print(group)\n",
    "    predictions_for_group = test_predictions.loc[test_predictions['y_obs']==group]\n",
    "    print(accuracy_score(predictions_for_group['y_pred'],predictions_for_group['y_obs']))"
   ]
  },
  {
   "cell_type": "code",
   "execution_count": 14,
   "id": "national-arrival",
   "metadata": {},
   "outputs": [
    {
     "data": {
      "text/plain": [
       "y_groups\n",
       "DEV005    0.0\n",
       "DEV006    1.0\n",
       "DEV010    1.0\n",
       "DEV013    1.0\n",
       "DEV014    1.0\n",
       "DEV015    1.0\n",
       "DEV016    1.0\n",
       "DEV017    1.0\n",
       "DEV018    1.0\n",
       "DEV019    1.0\n",
       "DEV021    1.0\n",
       "DEV022    1.0\n",
       "DEV023    1.0\n",
       "DEV024    1.0\n",
       "DEV026    1.0\n",
       "DEV027    1.0\n",
       "DEV028    1.0\n",
       "DEV029    1.0\n",
       "DEV030    1.0\n",
       "DEV034    1.0\n",
       "DEV035    1.0\n",
       "DEV036    1.0\n",
       "DEV039    1.0\n",
       "DEV040    1.0\n",
       "DEV041    1.0\n",
       "DEV042    1.0\n",
       "DEV043    1.0\n",
       "DEV046    1.0\n",
       "DEV048    1.0\n",
       "DEV049    1.0\n",
       "DEV050    1.0\n",
       "DEV051    1.0\n",
       "DEV052    1.0\n",
       "DEV053    1.0\n",
       "DEV055    0.0\n",
       "DEV056    1.0\n",
       "DEV057    1.0\n",
       "DEV058    1.0\n",
       "DEV059    1.0\n",
       "DEV060    1.0\n",
       "dtype: float64"
      ]
     },
     "execution_count": 14,
     "metadata": {},
     "output_type": "execute_result"
    }
   ],
   "source": [
    "def sbg(x):\n",
    "    return(accuracy_score(x['y_pred'],x['y_obs']))\n",
    "\n",
    "\n",
    "test_predictions.groupby('y_groups').apply(func=sbg)"
   ]
  },
  {
   "cell_type": "markdown",
   "id": "thrown-devices",
   "metadata": {},
   "source": [
    "Well, that performance is very good! Almost too good, but we have done everything right here--I am pretty confident we've managed the data properly to avoid overfitting. The only potential problem is that we do cross-validation in the inner CV, built into the decoder, without properly handling how that went, but ~~it shouldn't make a big difference~~ I don't think that's a problem at all. In the end, it still has to then make a prediction to new data that has not been optimized for."
   ]
  },
  {
   "cell_type": "markdown",
   "id": "labeled-petroleum",
   "metadata": {},
   "source": [
    "Next steps is to proceed with some of the bespoke similarity analysis I was going to do."
   ]
  },
  {
   "cell_type": "markdown",
   "id": "atlantic-economy",
   "metadata": {},
   "source": [
    "Since we're here, though, do we want to try a simple regression against some subject-level variables? See `SST_against_inddiv.ipynb`"
   ]
  },
  {
   "cell_type": "code",
   "execution_count": null,
   "id": "particular-external",
   "metadata": {},
   "outputs": [],
   "source": []
  }
 ],
 "metadata": {
  "kernelspec": {
   "display_name": "Python [conda env:.conda-neuralsignature]",
   "language": "python",
   "name": "conda-env-.conda-neuralsignature-py"
  },
  "language_info": {
   "codemirror_mode": {
    "name": "ipython",
    "version": 3
   },
   "file_extension": ".py",
   "mimetype": "text/x-python",
   "name": "python",
   "nbconvert_exporter": "python",
   "pygments_lexer": "ipython3",
   "version": "3.8.5"
  }
 },
 "nbformat": 4,
 "nbformat_minor": 5
}
