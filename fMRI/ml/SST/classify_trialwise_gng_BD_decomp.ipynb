{
 "cells": [
  {
   "attachments": {},
   "cell_type": "markdown",
   "metadata": {},
   "source": [
    "# Classifying trialwise CorrectGo and NoGo trials\n",
    "\n",
    "There are a number of steps to this. Hopefully we can recycle previous code and be up fairly quickly!\n",
    "\n",
    "1. Load beta data. Ideally this process should include a cache into a pure python object so we don't have to reload it each time.\n",
    "2. Preprocess the data.\n",
    "3. Do cross-validated training and testing. Ideally an inner loop to select best parameters, an outer loop to get cross-validated performance, and final training over all the data to get an image. The inner loop can be probably be handled within the package we use probably."
   ]
  },
  {
   "cell_type": "code",
   "execution_count": 1,
   "metadata": {},
   "outputs": [],
   "source": [
    "import socket\n",
    "import yaml\n",
    "hostname=socket.gethostname()\n",
    "hostname='zzz'\n",
    "with open('sst_config.yml', \"r\") as f:\n",
    "    test_config= yaml.safe_load(f)#[hostname]"
   ]
  },
  {
   "cell_type": "code",
   "execution_count": 2,
   "metadata": {},
   "outputs": [
    {
     "name": "stdout",
     "output_type": "stream",
     "text": [
      "python initialized for apply_loocv_and_save\n",
      "cpus available; cpus to use:\n",
      "10 9\n",
      "10\n"
     ]
    }
   ],
   "source": [
    "import sys\n",
    "import os\n",
    "import pandas as pd\n",
    "import numpy as np\n",
    "\n",
    "\n",
    "\n",
    "sys.path.append(os.path.abspath(\"../../ml/\"))\n",
    "from apply_loocv_and_save import load_and_preprocess, load_and_preprocess_Brain_Data\n",
    "from dev_utils import read_yaml_for_host\n",
    "from dev_utils import get_2DX_from_4DX\n",
    "import warnings\n",
    "\n",
    "\n",
    "config_data = read_yaml_for_host(\"sst_config.yml\")\n",
    "\n"
   ]
  },
  {
   "cell_type": "code",
   "execution_count": 3,
   "metadata": {},
   "outputs": [],
   "source": [
    "from sklearn.feature_selection import VarianceThreshold\n",
    "from sklearn.svm import LinearSVC\n",
    "from sklearn.linear_model import LogisticRegression\n",
    "from sklearn.metrics import roc_auc_score\n",
    "#I'll add the feature selection step for the estimators here for now,\n",
    "#but to save time we could add separate functions for preprocessing\n",
    "#advantage of doing it independently from estimators would be to avoid running feature selection twice.\n",
    "#disadvantage would be that we'd have to pass the feature\n",
    "\n",
    "from sklearn.pipeline import Pipeline\n",
    "from sklearn.feature_selection import SelectKBest, f_classif\n",
    "from sklearn.svm import LinearSVC\n",
    "from sklearn.linear_model import LogisticRegression\n",
    "from sklearn.linear_model import RidgeClassifierCV\n",
    "from sklearn.metrics import roc_auc_score\n",
    "from sklearn import decomposition\n",
    "#I'll add the feature selection step for the estimators here for now,\n",
    "#but to save time we could add separate functions for preprocessing\n",
    "#advantage of doing it independently from estimators would be to avoid running feature selection twice.\n",
    "#disadvantage would be that we'd have to pass the feature\n",
    "\n",
    "from sklearn.pipeline import Pipeline\n",
    "from sklearn.feature_selection import SelectKBest, f_classif\n"
   ]
  },
  {
   "cell_type": "code",
   "execution_count": 4,
   "metadata": {},
   "outputs": [
    {
     "name": "stdout",
     "output_type": "stream",
     "text": [
      "9\n"
     ]
    }
   ],
   "source": [
    "import multiprocessing\n",
    "import math\n",
    "import nibabel as nib\n",
    "import nilearn as nl\n",
    "from nilearn.decoding import DecoderRegressor,Decoder\n",
    "from sklearn.model_selection import KFold,GroupKFold,LeaveOneOut\n",
    "cpus_available = multiprocessing.cpu_count()\n",
    "\n",
    "cpus_to_use = min(cpus_available-1,math.floor(0.9*cpus_available))\n",
    "print(cpus_to_use)"
   ]
  },
  {
   "cell_type": "code",
   "execution_count": 5,
   "metadata": {},
   "outputs": [],
   "source": [
    "from dev_wtp_io_utils import cv_train_test_sets, asizeof_fmt\n",
    "from dev_utils import sklearn_nested_cross_validate\n",
    "from nilearn.decoding import DecoderRegressor,Decoder"
   ]
  },
  {
   "cell_type": "code",
   "execution_count": 6,
   "metadata": {},
   "outputs": [],
   "source": [
    "nonbids_data_path = config_data['nonbids_data_path']\n",
    "ml_data_folderpath = nonbids_data_path + \"fMRI/ml\"\n"
   ]
  },
  {
   "attachments": {},
   "cell_type": "markdown",
   "metadata": {},
   "source": [
    "## Set up the paradigm"
   ]
  },
  {
   "cell_type": "code",
   "execution_count": 7,
   "metadata": {},
   "outputs": [],
   "source": [
    "\n",
    "def trialtype_resp_trans_func(X):\n",
    "    return(X.trial_type)\n"
   ]
  },
  {
   "attachments": {},
   "cell_type": "markdown",
   "metadata": {},
   "source": [
    "## Loading beta data\n",
    "\n",
    "beta data is generally written in `load_multisubject_brain_data_sst_w1.ipynb`.\n",
    "\n",
    "We just have to load it."
   ]
  },
  {
   "cell_type": "code",
   "execution_count": 8,
   "metadata": {},
   "outputs": [
    {
     "name": "stderr",
     "output_type": "stream",
     "text": [
      "/var/folders/cj/4mb6t1f906j397tj71pxfxz00000gn/T/ipykernel_53863/1833047562.py:5: UserWarning: not sure if this file holds up--it was created in 2021; need to see if it's still valid\n",
      "  warnings.warn(\"not sure if this file holds up--it was created in 2021; need to see if it's still valid\")\n"
     ]
    }
   ],
   "source": [
    "#brain_data_filepath = ml_data_folderpath + '/SST/Brain_Data_betaseries_30subs_correct_cond_pfc.pkl'\n",
    "#brain_data_filepath = ml_data_folderpath + '/SST/Brain_Data_betaseries_6subs_correct_cond.pkl'\n",
    "brain_data_filepath = ml_data_folderpath + '/SST/Brain_Data_betaseries_nos_6subs_correct_cond_pfc.pkl'\n",
    "\n",
    "warnings.warn(\"not sure if this file holds up--it was created in 2021; need to see if it's still valid\")\n",
    "train_test_markers_filepath = ml_data_folderpath + \"/train_test_markers_20220818T144138.csv\""
   ]
  },
  {
   "cell_type": "code",
   "execution_count": 9,
   "metadata": {},
   "outputs": [
    {
     "name": "stdout",
     "output_type": "stream",
     "text": [
      "checked for intersection and no intersection between the brain data and the subjects was found.\n",
      "there were 6 subjects overlapping between the subjects marked for train data and the training dump file itself.\n"
     ]
    },
    {
     "name": "stderr",
     "output_type": "stream",
     "text": [
      "/Users/benjaminsmith/opt/anaconda3/envs/neuralsignature/lib/python3.10/site-packages/nilearn/input_data/__init__.py:27: FutureWarning: The import path 'nilearn.input_data' is deprecated in version 0.9. Importing from 'nilearn.input_data' will be possible at least until release 0.13.0. Please import from 'nilearn.maskers' instead.\n",
      "  warnings.warn(message, FutureWarning)\n"
     ]
    },
    {
     "name": "stdout",
     "output_type": "stream",
     "text": [
      "test_train_set: 62918\n",
      "brain_data_filepath: 176\n",
      "pkl_file: 168\n",
      "train_test_markers_filepath: 158\n",
      "response_transform_func: 144\n",
      "Brain_Data_allsubs: 48\n",
      "634\n",
      "634\n"
     ]
    },
    {
     "name": "stderr",
     "output_type": "stream",
     "text": [
      "/Users/benjaminsmith/Google Drive/oregon/code/DEV_scripts/fMRI/ml/apply_loocv_and_save.py:290: SettingWithCopyWarning: \n",
      "A value is trying to be set on a copy of a slice from a DataFrame\n",
      "\n",
      "See the caveats in the documentation: https://pandas.pydata.org/pandas-docs/stable/user_guide/indexing.html#returning-a-view-versus-a-copy\n",
      "  Brain_Data_allsubs.Y[Brain_Data_allsubs.Y=='NULL']=None\n",
      "/var/folders/cj/4mb6t1f906j397tj71pxfxz00000gn/T/ipykernel_53863/878541407.py:9: UserWarning: the data hasn't been cleaned at any point. the fMRIPrep cleaning pipeline has been applied; nothing else has been.\n",
      "  warnings.warn(\"the data hasn't been cleaned at any point. the fMRIPrep cleaning pipeline has been applied; nothing else has been.\")\n"
     ]
    }
   ],
   "source": [
    "\n",
    "\n",
    "all_subjects = load_and_preprocess_Brain_Data(\n",
    "    brain_data_filepath,\n",
    "    train_test_markers_filepath,\n",
    "    #subjs_to_use = None,\n",
    "    response_transform_func = trialtype_resp_trans_func\n",
    "    #clean=None\n",
    "    )\n",
    "\n",
    "warnings.warn(\"the data hasn't been cleaned at any point. the fMRIPrep cleaning pipeline has been applied; nothing else has been.\")\n"
   ]
  },
  {
   "cell_type": "code",
   "execution_count": 10,
   "metadata": {},
   "outputs": [
    {
     "data": {
      "text/plain": [
       "nltools.data.brain_data.Brain_Data"
      ]
     },
     "execution_count": 10,
     "metadata": {},
     "output_type": "execute_result"
    }
   ],
   "source": [
    "type(all_subjects)\n",
    "\n"
   ]
  },
  {
   "cell_type": "code",
   "execution_count": 11,
   "metadata": {},
   "outputs": [],
   "source": [
    "from sklearn.feature_selection import SelectPercentile,f_classif\n",
    "\n",
    "#convert the y array to an integer array representing the string values of the y array\n",
    "all_subjects_y_cat = all_subjects.Y.astype('category')\n",
    "all_subjects_y_int=all_subjects_y_cat.cat.codes"
   ]
  },
  {
   "cell_type": "code",
   "execution_count": 12,
   "metadata": {},
   "outputs": [],
   "source": [
    "mask_nifti = nib.load(ml_data_folderpath + '/prefrontal_cortex.nii.gz')"
   ]
  },
  {
   "cell_type": "code",
   "execution_count": null,
   "metadata": {},
   "outputs": [],
   "source": []
  },
  {
   "cell_type": "code",
   "execution_count": 13,
   "metadata": {},
   "outputs": [],
   "source": [
    "\n",
    "\n",
    "num_subjs = 6\n",
    "if num_subjs < len(all_subjects.X['subject'].unique()):\n",
    "    #select subjs\n",
    "    subjs = all_subjects.X['subject'].unique()\n",
    "    subjs.sort()\n",
    "    selected_sub_ids=subjs[0:num_subjs]\n",
    "    selected_rows = all_subjects.X['subject'].isin(selected_sub_ids)\n",
    "    selected_subjs = all_subjects[selected_rows]\n",
    "    selected_subjs_y_int = all_subjects_y_int[selected_rows]\n",
    "else:\n",
    "    selected_subjs = all_subjects\n",
    "    selected_subjs_y_int = all_subjects_y_int"
   ]
  },
  {
   "cell_type": "code",
   "execution_count": 14,
   "metadata": {},
   "outputs": [
    {
     "name": "stdout",
     "output_type": "stream",
     "text": [
      "DEV011\n",
      "correct-go\n",
      "93\n",
      "correct-stop\n",
      "15\n",
      "DEV020\n",
      "correct-go\n",
      "96\n",
      "correct-stop\n",
      "16\n",
      "DEV047\n",
      "correct-go\n",
      "96\n",
      "correct-stop\n",
      "17\n",
      "DEV063\n",
      "correct-go\n",
      "95\n",
      "correct-stop\n",
      "12\n",
      "DEV064\n",
      "correct-go\n",
      "96\n",
      "correct-stop\n",
      "16\n",
      "DEV067\n",
      "correct-go\n",
      "60\n",
      "correct-stop\n",
      "22\n"
     ]
    }
   ],
   "source": [
    "#check whether every subject has some of each trial type\n",
    "trial_types = selected_subjs.Y.unique()\n",
    "for subj in selected_subjs.X.subject.unique():\n",
    "    print(subj)\n",
    "    for trial_type in trial_types:\n",
    "        print(trial_type)\n",
    "        print(selected_subjs.X[(selected_subjs.X.subject == subj) & (selected_subjs.Y == trial_type)].shape[0])"
   ]
  },
  {
   "cell_type": "code",
   "execution_count": 15,
   "metadata": {},
   "outputs": [
    {
     "name": "stderr",
     "output_type": "stream",
     "text": [
      "/Users/benjaminsmith/opt/anaconda3/envs/neuralsignature/lib/python3.10/site-packages/nilearn/plotting/img_plotting.py:300: FutureWarning: Default resolution of the MNI template will change from 2mm to 1mm in version 0.10.0\n",
      "  anat_img = load_mni152_template()\n"
     ]
    },
    {
     "data": {
      "text/plain": [
       "<nilearn.plotting.displays._slicers.OrthoSlicer at 0x7fe89a230820>"
      ]
     },
     "execution_count": 15,
     "metadata": {},
     "output_type": "execute_result"
    },
    {
     "data": {
      "image/png": "[encoded data removed]",
      "text/plain": [
       "<Figure size 475.2x187.2 with 4 Axes>"
      ]
     },
     "metadata": {},
     "output_type": "display_data"
    }
   ],
   "source": [
    "#visualize the mask that has alreayd been applied\n",
    "nl.plotting.plot_roi(\n",
    "selected_subjs.mask)"
   ]
  },
  {
   "attachments": {},
   "cell_type": "markdown",
   "metadata": {},
   "source": [
    "Looks good! I don't think we need to re-mask. But if we needed to, we could probably use apply_maks, right?"
   ]
  },
  {
   "cell_type": "code",
   "execution_count": 16,
   "metadata": {},
   "outputs": [],
   "source": [
    "# # get the PFC mask\n",
    "# mask_nifti = nib.load(ml_data_folderpath + '/prefrontal_cortex.nii.gz')\n",
    "# selected_subjs_masked = selected_subjs.apply_mask(mask_nifti)\n",
    "# nl.plotting.plot_roi(\n",
    "#selected_subjs.mask)\n"
   ]
  },
  {
   "attachments": {},
   "cell_type": "markdown",
   "metadata": {},
   "source": [
    "The above code took 80 seconds just on a 6-subject dataset. And the mask that was printed looks identical to the previous one. And it seems to have somehow widened the field of view rather than narrowed it. So if we alredy have a pfc-masked dataset, we can skip this."
   ]
  },
  {
   "attachments": {},
   "cell_type": "markdown",
   "metadata": {},
   "source": [
    "Transform our mask into the same space as the data\n"
   ]
  },
  {
   "attachments": {},
   "cell_type": "markdown",
   "metadata": {},
   "source": [
    "# Training\n",
    "\n",
    "I'm going to start with `cv_train_test_sets` and see how that goes. It sems likely it'll have to be re-written somewhat, but it might be a good starting point."
   ]
  },
  {
   "attachments": {},
   "cell_type": "markdown",
   "metadata": {},
   "source": [
    "I think I need to run this without all the extra scaffolding--just tresting the Decoder on the data until I get something sensible. At the very least we need to know the Decoder object is handling balanced classes correctly."
   ]
  },
  {
   "cell_type": "code",
   "execution_count": 17,
   "metadata": {},
   "outputs": [],
   "source": [
    "# use add PFC mask.ipynb to figure out how to get a PFC mask onto this data."
   ]
  },
  {
   "cell_type": "code",
   "execution_count": 18,
   "metadata": {},
   "outputs": [],
   "source": [
    "#import SVC\n",
    "from sklearn.svm import SVC, LinearSVC\n",
    "from sklearn.preprocessing import StandardScaler\n",
    "from sklearn.feature_selection import f_classif, SequentialFeatureSelector, SelectKBest\n"
   ]
  },
  {
   "attachments": {},
   "cell_type": "markdown",
   "metadata": {},
   "source": [
    "## Other attempts at feature selection"
   ]
  },
  {
   "attachments": {},
   "cell_type": "markdown",
   "metadata": {},
   "source": [
    "OK, this should make us really sceptical there is good data here. The fact that the overfit score is high shows that on some shallow level, the classification is working--it just isn't picking up signal. It might be worth adding a PCA I suppose."
   ]
  },
  {
   "cell_type": "code",
   "execution_count": 27,
   "metadata": {},
   "outputs": [
    {
     "name": "stdout",
     "output_type": "stream",
     "text": [
      "281.77777777777777\n",
      "140 components\n",
      "success!\n",
      "70 components\n",
      "success!\n",
      "35 components\n",
      "success!\n",
      "17 components\n",
      "success!\n",
      "8 components\n",
      "success!\n"
     ]
    }
   ],
   "source": [
    "inner_folds = 3\n",
    "outer_folds = 3\n",
    "sample_size_with_cv = (inner_folds-1)/inner_folds * (outer_folds-1)/outer_folds * selected_subjs.data.shape[0]\n",
    "print(sample_size_with_cv)\n",
    "for decomp_prop in [2,4,8,16,32]:#[4,16,64,256]:\n",
    "    \n",
    "    #decomp_components = (int)(selected_subjs.data.shape[1]/decomp_prop)\n",
    "    decomp_components = (int)(min(sample_size_with_cv, selected_subjs.data.shape[1])/decomp_prop)\n",
    "    print(str(decomp_components) + ' components')\n",
    "\n",
    "    # pca_decomp = decomposition.PCA(n_components=decomp_components)\n",
    "    # pca_decomp.fit(selected_subjs.data)\n",
    "\n",
    "    # data_pca = pca_decomp.transform(selected_subjs.data)\n",
    "    print('success!')"
   ]
  },
  {
   "cell_type": "code",
   "execution_count": 32,
   "metadata": {},
   "outputs": [
    {
     "name": "stdout",
     "output_type": "stream",
     "text": [
      "281.77777777777777\n",
      "140 components\n",
      "70 components\n",
      "35 components\n",
      "17 components\n",
      "8 components\n",
      "generalization test group 0\n",
      "439\n",
      "195\n",
      "hyper-parameter search group 0\n",
      "327\n",
      "112\n",
      "estimating...estimator 0; ROC AUC score: 0.5\n",
      "estimating...estimator 1; ROC AUC score: 0.5\n",
      "estimating...estimator 2; ROC AUC score: 0.515625\n",
      "estimating...estimator 3; ROC AUC score: 0.4791666666666667\n",
      "estimating...estimator 4; ROC AUC score: 0.484375\n",
      "estimating...estimator 5; ROC AUC score: 0.4635416666666667\n",
      "estimating...estimator 6; ROC AUC score: 0.453125\n",
      "hyper-parameter search group 1\n",
      "327\n",
      "112\n",
      "estimating...estimator 0; ROC AUC score: 0.4947916666666667\n",
      "estimating...estimator 1; ROC AUC score: 0.5\n",
      "estimating...estimator 2; ROC AUC score: 0.4791666666666667\n",
      "estimating...estimator 3; ROC AUC score: 0.5052083333333334\n",
      "estimating...estimator 4; ROC AUC score: 0.46875\n",
      "estimating...estimator 5; ROC AUC score: 0.53125\n",
      "estimating...estimator 6; ROC AUC score: 0.5677083333333334\n",
      "hyper-parameter search group 2\n",
      "224\n",
      "215\n",
      "estimating...estimator 0; ROC AUC score: 0.4973404255319149\n",
      "estimating...estimator 1; ROC AUC score: 0.49724192277383766\n",
      "estimating...estimator 2; ROC AUC score: 0.5051221434200157\n",
      "estimating...estimator 3; ROC AUC score: 0.5157604412923562\n",
      "estimating...estimator 4; ROC AUC score: 0.5158589440504333\n",
      "estimating...estimator 5; ROC AUC score: 0.5210795902285263\n",
      "estimating...estimator 6; ROC AUC score: 0.44050433412135537\n",
      "generalization test group 1\n",
      "414\n",
      "220\n",
      "hyper-parameter search group 0\n",
      "301\n",
      "113\n",
      "estimating...estimator 0; ROC AUC score: 0.4947916666666667\n",
      "estimating...estimator 1; ROC AUC score: 0.47732843137254904\n",
      "estimating...estimator 2; ROC AUC score: 0.5\n",
      "estimating...estimator 3; ROC AUC score: 0.47028186274509803\n",
      "estimating...estimator 4; ROC AUC score: 0.4666053921568628\n",
      "estimating...estimator 5; ROC AUC score: 0.49295343137254904\n",
      "estimating...estimator 6; ROC AUC score: 0.4077818627450981\n",
      "hyper-parameter search group 1\n",
      "302\n",
      "112\n",
      "estimating...estimator 0; ROC AUC score: 0.484375\n",
      "estimating...estimator 1; ROC AUC score: 0.5\n",
      "estimating...estimator 2; ROC AUC score: 0.5\n",
      "estimating...estimator 3; ROC AUC score: 0.5104166666666667\n",
      "estimating...estimator 4; ROC AUC score: 0.59375\n",
      "estimating...estimator 5; ROC AUC score: 0.53125\n",
      "estimating...estimator 6; ROC AUC score: 0.6354166666666666\n",
      "hyper-parameter search group 2\n",
      "225\n",
      "189\n",
      "estimating...estimator 0; ROC AUC score: 0.5319734345351044\n",
      "estimating...estimator 1; ROC AUC score: 0.5706831119544592\n",
      "estimating...estimator 2; ROC AUC score: 0.5247628083491461\n",
      "estimating...estimator 3; ROC AUC score: 0.5706831119544592\n",
      "estimating...estimator 4; ROC AUC score: 0.527988614800759\n",
      "estimating...estimator 5; ROC AUC score: 0.5129981024667931\n",
      "estimating...estimator 6; ROC AUC score: 0.4887096774193548\n",
      "generalization test group 2\n",
      "415\n",
      "219\n",
      "hyper-parameter search group 0\n",
      "302\n",
      "113\n",
      "estimating...estimator 0; ROC AUC score: 0.5137867647058824\n",
      "estimating...estimator 1; ROC AUC score: 0.46875\n",
      "estimating...estimator 2; ROC AUC score: 0.4947916666666667\n",
      "estimating...estimator 3; ROC AUC score: 0.5487132352941176\n",
      "estimating...estimator 4; ROC AUC score: 0.4739583333333333\n",
      "estimating...estimator 5; ROC AUC score: 0.4635416666666667\n",
      "estimating...estimator 6; ROC AUC score: 0.4715073529411764\n",
      "hyper-parameter search group 1\n",
      "303\n",
      "112\n",
      "estimating...estimator 0; ROC AUC score: 0.5104166666666667\n",
      "estimating...estimator 1; ROC AUC score: 0.4947916666666667\n",
      "estimating...estimator 2; ROC AUC score: 0.5104166666666666\n",
      "estimating...estimator 3; ROC AUC score: 0.6354166666666667\n",
      "estimating...estimator 4; ROC AUC score: 0.4583333333333333\n",
      "estimating...estimator 5; ROC AUC score: 0.5052083333333333\n",
      "estimating...estimator 6; ROC AUC score: 0.453125\n",
      "hyper-parameter search group 2\n",
      "225\n",
      "190\n",
      "estimating...estimator 0; ROC AUC score: 0.5045928281222399\n",
      "estimating...estimator 1; ROC AUC score: 0.5409821586292175\n",
      "estimating...estimator 2; ROC AUC score: 0.5\n",
      "estimating...estimator 3; ROC AUC score: 0.5488429606076665\n",
      "estimating...estimator 4; ROC AUC score: 0.503709591944886\n",
      "estimating...estimator 5; ROC AUC score: 0.5547606429959371\n",
      "estimating...estimator 6; ROC AUC score: 0.575516693163752\n",
      "estimator_i\n",
      "3     0.53161\n",
      "5    0.508509\n",
      "1    0.505531\n",
      "0    0.503563\n",
      "2    0.503321\n",
      "6    0.499266\n",
      "4    0.499259\n",
      "Name: score, dtype: Float64\n",
      "chose estimator 3\n",
      "generalization test group 0\n",
      "generalization test group 1\n",
      "generalization test group 2\n",
      "cross-validated score is: 0.49506929637526653\n",
      "precision, recall, fscore, support:\n",
      "(array([0.84313725, 0.15162455]), array([0.56156716, 0.42857143]), array([0.67413214, 0.224     ]), array([536,  98]))\n",
      "raw (overfit) score is: 0.6166996649406031\n"
     ]
    },
    {
     "data": {
      "text/plain": [
       "0.49506929637526653"
      ]
     },
     "execution_count": 32,
     "metadata": {},
     "output_type": "execute_result"
    }
   ],
   "source": [
    "\n",
    "\n",
    "estimators = [\n",
    "    # LogisticRegression(penalty='l1',solver='liblinear',class_weight='balanced'),\n",
    "    # LogisticRegression(penalty='l2',solver='liblinear',class_weight='balanced'),\n",
    "    RidgeClassifierCV(class_weight='balanced')\n",
    "]\n",
    "estimators_with_fs = []\n",
    "#now wrap the estimators in a pipeline that does feature selection\n",
    "inner_folds = 3\n",
    "outer_folds = 3\n",
    "sample_size_with_cv = (inner_folds-1)/inner_folds * (outer_folds-1)/outer_folds * selected_subjs.data.shape[0]\n",
    "print(sample_size_with_cv)\n",
    "\n",
    "for estimator in estimators:\n",
    "    for decomp_prop in [2,4,8,16,32]:#[4,16,64,256]:\n",
    "        #decomp_components = (int)(selected_subjs.data.shape[1]/decomp_prop)\n",
    "        decomp_components = (int)(min(sample_size_with_cv, selected_subjs.data.shape[1])/decomp_prop)\n",
    "        print(str(decomp_components) + ' components')\n",
    "\n",
    "        estimator_with_fs = Pipeline([\n",
    "            ('clean',VarianceThreshold(threshold=0)),\n",
    "            ('decompose', decomposition.PCA(n_components=decomp_components)),\n",
    "            #('select', SelectKBest(f_classif, k=150)),\n",
    "            ('estimator', estimator)])\n",
    "        estimators_with_fs.append(estimator_with_fs)\n",
    "\n",
    "\n",
    "    estimator_with_fs = Pipeline([\n",
    "        ('clean',VarianceThreshold(threshold=0)),\n",
    "        #('select', SelectKBest(f_classif, k=150)),\n",
    "        ('estimator', estimator)])\n",
    "    estimators_with_fs.append(estimator_with_fs)\n",
    "\n",
    "    estimator_with_fs = Pipeline([\n",
    "        ('clean',VarianceThreshold(threshold=0)),\n",
    "        ('select', SelectKBest(f_classif, k=150)),\n",
    "        ('estimator', estimator)])\n",
    "    estimators_with_fs.append(estimator_with_fs)\n",
    "\n",
    "\n",
    "    \n",
    "#from dev_utils import sklearn_nested_cross_validate\n",
    "\n",
    "cv_result = sklearn_nested_cross_validate(\n",
    "    selected_subjs.data,\n",
    "    np.array(selected_subjs_y_int),\n",
    "    estimators_with_fs,\n",
    "    groups=np.array(selected_subjs.X['subject']))\n",
    "        \n",
    "   \n",
    "\n",
    "from sklearn.metrics import roc_auc_score\n",
    "\n",
    "\n",
    "pd.Series(cv_result['y_predict_final']).value_counts()\n",
    "roc_auc_score(selected_subjs_y_int,cv_result['y_predict_final'])"
   ]
  },
  {
   "cell_type": "code",
   "execution_count": 33,
   "metadata": {},
   "outputs": [
    {
     "name": "stdout",
     "output_type": "stream",
     "text": [
      "generalization test group 0\n",
      "439\n",
      "195\n",
      "hyper-parameter search group 0\n",
      "327\n",
      "112\n",
      "estimating...estimator 0; ROC AUC score: 0.59375\n",
      "estimating...estimator 1; ROC AUC score: 0.6041666666666666\n",
      "hyper-parameter search group 1\n",
      "327\n",
      "112\n",
      "estimating...estimator 0; ROC AUC score: 0.5833333333333334\n",
      "estimating...estimator 1; ROC AUC score: 0.6458333333333334\n",
      "hyper-parameter search group 2\n",
      "224\n",
      "215\n",
      "estimating...estimator 0; ROC AUC score: 0.5171394799054374\n",
      "estimating...estimator 1; ROC AUC score: 0.5356579984239558\n",
      "generalization test group 1\n",
      "414\n",
      "220\n",
      "hyper-parameter search group 0\n",
      "301\n",
      "113\n",
      "estimating...estimator 0; ROC AUC score: 0.4387254901960784\n",
      "estimating...estimator 1; ROC AUC score: 0.4439338235294118\n",
      "hyper-parameter search group 1\n",
      "302\n",
      "112\n",
      "estimating...estimator 0; ROC AUC score: 0.6041666666666666\n",
      "estimating...estimator 1; ROC AUC score: 0.578125\n",
      "hyper-parameter search group 2\n",
      "225\n",
      "189\n",
      "estimating...estimator 0; ROC AUC score: 0.43671726755218215\n",
      "estimating...estimator 1; ROC AUC score: 0.4026565464895635\n",
      "generalization test group 2\n",
      "415\n",
      "219\n",
      "hyper-parameter search group 0\n",
      "302\n",
      "113\n",
      "estimating...estimator 0; ROC AUC score: 0.4675245098039216\n",
      "estimating...estimator 1; ROC AUC score: 0.47273284313725494\n",
      "hyper-parameter search group 1\n",
      "303\n",
      "112\n",
      "estimating...estimator 0; ROC AUC score: 0.484375\n",
      "estimating...estimator 1; ROC AUC score: 0.4322916666666667\n",
      "hyper-parameter search group 2\n",
      "225\n",
      "190\n",
      "estimating...estimator 0; ROC AUC score: 0.5467231937820173\n",
      "estimating...estimator 1; ROC AUC score: 0.544338456103162\n",
      "estimator_i\n",
      "0    0.519162\n",
      "1    0.517748\n",
      "Name: score, dtype: Float64\n",
      "chose estimator 0\n",
      "generalization test group 0\n"
     ]
    },
    {
     "name": "stderr",
     "output_type": "stream",
     "text": [
      "/Users/benjaminsmith/opt/anaconda3/envs/neuralsignature/lib/python3.10/site-packages/sklearn/svm/_base.py:1206: ConvergenceWarning: Liblinear failed to converge, increase the number of iterations.\n",
      "  warnings.warn(\n"
     ]
    },
    {
     "name": "stdout",
     "output_type": "stream",
     "text": [
      "generalization test group 1\n"
     ]
    },
    {
     "name": "stderr",
     "output_type": "stream",
     "text": [
      "/Users/benjaminsmith/opt/anaconda3/envs/neuralsignature/lib/python3.10/site-packages/sklearn/svm/_base.py:1206: ConvergenceWarning: Liblinear failed to converge, increase the number of iterations.\n",
      "  warnings.warn(\n"
     ]
    },
    {
     "name": "stdout",
     "output_type": "stream",
     "text": [
      "generalization test group 2\n",
      "cross-validated score is: 0.5632614986293024\n",
      "precision, recall, fscore, support:\n",
      "(array([0.87572254, 0.19097222]), array([0.56529851, 0.56122449]), array([0.68707483, 0.28497409]), array([536,  98]))\n",
      "raw (overfit) score is: 0.7888745050258911\n"
     ]
    },
    {
     "name": "stderr",
     "output_type": "stream",
     "text": [
      "/Users/benjaminsmith/opt/anaconda3/envs/neuralsignature/lib/python3.10/site-packages/sklearn/svm/_base.py:1206: ConvergenceWarning: Liblinear failed to converge, increase the number of iterations.\n",
      "  warnings.warn(\n"
     ]
    },
    {
     "data": {
      "text/plain": [
       "0.5632614986293024"
      ]
     },
     "execution_count": 33,
     "metadata": {},
     "output_type": "execute_result"
    }
   ],
   "source": [
    "from sklearn.feature_selection import VarianceThreshold\n",
    "from sklearn.svm import LinearSVC\n",
    "from sklearn.linear_model import LogisticRegression\n",
    "\n",
    "#I'll add the feature selection step for the estimators here for now,\n",
    "#but to save time we could add separate functions for preprocessing\n",
    "#advantage of doing it independently from estimators would be to avoid running feature selection twice.\n",
    "#disadvantage would be that we'd have to pass the feature\n",
    "\n",
    "from sklearn.pipeline import Pipeline\n",
    "from sklearn.feature_selection import SelectKBest, f_classif\n",
    "\n",
    "estimators = [\n",
    "    LinearSVC(penalty='l2',max_iter=1e6,class_weight='balanced'),\n",
    "    LogisticRegression(penalty='l2',solver='liblinear',class_weight='balanced')\n",
    "\n",
    "]\n",
    "estimators_with_fs = []\n",
    "#now wrap the estimators in a pipeline that does feature selection\n",
    "for estimator in estimators:\n",
    "    estimator_with_fs = Pipeline([\n",
    "        ('clean',VarianceThreshold(threshold=0)),\n",
    "        ('select', SelectKBest(f_classif, k=200)),\n",
    "        ('estimator', estimator)])\n",
    "    estimators_with_fs.append(estimator_with_fs)\n",
    "\n",
    "    \n",
    "from dev_utils import sklearn_nested_cross_validate\n",
    "\n",
    "cv_result = sklearn_nested_cross_validate(\n",
    "    selected_subjs.data,\n",
    "    np.array(selected_subjs_y_int),\n",
    "    estimators_with_fs,\n",
    "    groups=np.array(selected_subjs.X['subject']))\n",
    "        \n",
    "   \n",
    "\n",
    "from sklearn.metrics import roc_auc_score\n",
    "\n",
    "\n",
    "pd.Series(cv_result['y_predict_final']).value_counts()\n",
    "roc_auc_score(selected_subjs_y_int,cv_result['y_predict_final'])"
   ]
  },
  {
   "cell_type": "code",
   "execution_count": 34,
   "metadata": {},
   "outputs": [
    {
     "name": "stdout",
     "output_type": "stream",
     "text": [
      "generalization test group 0\n",
      "439\n",
      "195\n",
      "hyper-parameter search group 0\n",
      "327\n",
      "112\n",
      "estimating...estimator 0; ROC AUC score: 0.6041666666666666\n",
      "hyper-parameter search group 1\n",
      "327\n",
      "112\n",
      "estimating...estimator 0; ROC AUC score: 0.6458333333333334\n",
      "hyper-parameter search group 2\n",
      "224\n",
      "215\n",
      "estimating...estimator 0; ROC AUC score: 0.5356579984239558\n",
      "generalization test group 1\n",
      "414\n",
      "220\n",
      "hyper-parameter search group 0\n",
      "301\n",
      "113\n",
      "estimating...estimator 0; ROC AUC score: 0.4439338235294118\n",
      "hyper-parameter search group 1\n",
      "302\n",
      "112\n",
      "estimating...estimator 0; ROC AUC score: 0.578125\n",
      "hyper-parameter search group 2\n",
      "225\n",
      "189\n",
      "estimating...estimator 0; ROC AUC score: 0.4026565464895635\n",
      "generalization test group 2\n",
      "415\n",
      "219\n",
      "hyper-parameter search group 0\n",
      "302\n",
      "113\n",
      "estimating...estimator 0; ROC AUC score: 0.47273284313725494\n",
      "hyper-parameter search group 1\n",
      "303\n",
      "112\n",
      "estimating...estimator 0; ROC AUC score: 0.4322916666666667\n",
      "hyper-parameter search group 2\n",
      "225\n",
      "190\n",
      "estimating...estimator 0; ROC AUC score: 0.544338456103162\n",
      "estimator_i\n",
      "0    0.517748\n",
      "Name: score, dtype: Float64\n",
      "chose estimator 0\n",
      "generalization test group 0\n",
      "generalization test group 1\n",
      "generalization test group 2\n",
      "cross-validated score is: 0.5432911970758453\n",
      "precision, recall, fscore, support:\n",
      "(array([0.86627907, 0.17931034]), array([0.55597015, 0.53061224]), array([0.67727273, 0.26804124]), array([536,  98]))\n",
      "raw (overfit) score is: 0.9152832774901006\n"
     ]
    },
    {
     "data": {
      "text/plain": [
       "0.5432911970758453"
      ]
     },
     "execution_count": 34,
     "metadata": {},
     "output_type": "execute_result"
    }
   ],
   "source": [
    "from sklearn.feature_selection import VarianceThreshold\n",
    "from sklearn.svm import LinearSVC\n",
    "from sklearn.linear_model import LogisticRegression\n",
    "\n",
    "#I'll add the feature selection step for the estimators here for now,\n",
    "#but to save time we could add separate functions for preprocessing\n",
    "#advantage of doing it independently from estimators would be to avoid running feature selection twice.\n",
    "#disadvantage would be that we'd have to pass the feature\n",
    "\n",
    "from sklearn.pipeline import Pipeline\n",
    "from sklearn.feature_selection import SelectKBest, f_classif\n",
    "\n",
    "estimators = [\n",
    "    LogisticRegression(penalty='l2',solver='liblinear',class_weight='balanced')\n",
    "\n",
    "]\n",
    "estimators_with_fs = []\n",
    "#now wrap the estimators in a pipeline that does feature selection\n",
    "for estimator in estimators:\n",
    "    estimator_with_fs = Pipeline([\n",
    "        ('clean',VarianceThreshold(threshold=0)),\n",
    "        ('select', SelectKBest(f_classif, k=200)),\n",
    "        ('estimator', estimator)])\n",
    "    estimators_with_fs.append(estimator_with_fs)\n",
    "\n",
    "    \n",
    "from dev_utils import sklearn_nested_cross_validate\n",
    "\n",
    "cv_result = sklearn_nested_cross_validate(\n",
    "    selected_subjs.data,\n",
    "    np.array(selected_subjs_y_int),\n",
    "    estimators_with_fs,\n",
    "    groups=np.array(selected_subjs.X['subject']))\n",
    "        \n",
    "   \n",
    "\n",
    "from sklearn.metrics import roc_auc_score\n",
    "\n",
    "\n",
    "pd.Series(cv_result['y_predict_final']).value_counts()\n",
    "roc_auc_score(selected_subjs_y_int,cv_result['y_predict_final'])"
   ]
  },
  {
   "cell_type": "code",
   "execution_count": 35,
   "metadata": {},
   "outputs": [
    {
     "name": "stdout",
     "output_type": "stream",
     "text": [
      "140 components\n",
      "70 components\n",
      "35 components\n",
      "17 components\n",
      "8 components\n",
      "generalization test group 0\n",
      "439\n",
      "195\n",
      "hyper-parameter search group 0\n",
      "327\n",
      "112\n",
      "estimating..."
     ]
    },
    {
     "name": "stderr",
     "output_type": "stream",
     "text": [
      "/Users/benjaminsmith/opt/anaconda3/envs/neuralsignature/lib/python3.10/site-packages/sklearn/svm/_base.py:1206: ConvergenceWarning: Liblinear failed to converge, increase the number of iterations.\n",
      "  warnings.warn(\n"
     ]
    },
    {
     "name": "stdout",
     "output_type": "stream",
     "text": [
      "estimator 0; ROC AUC score: 0.515625\n",
      "estimating...estimator 1; ROC AUC score: 0.4895833333333333\n",
      "estimating...estimator 2; ROC AUC score: 0.5\n",
      "estimating...estimator 3; ROC AUC score: 0.5260416666666667\n",
      "estimating...estimator 4; ROC AUC score: 0.4583333333333333\n",
      "estimating...estimator 5; ROC AUC score: 0.359375\n",
      "hyper-parameter search group 1\n",
      "327\n",
      "112\n",
      "estimating..."
     ]
    },
    {
     "name": "stderr",
     "output_type": "stream",
     "text": [
      "/Users/benjaminsmith/opt/anaconda3/envs/neuralsignature/lib/python3.10/site-packages/sklearn/svm/_base.py:1206: ConvergenceWarning: Liblinear failed to converge, increase the number of iterations.\n",
      "  warnings.warn(\n"
     ]
    },
    {
     "name": "stdout",
     "output_type": "stream",
     "text": [
      "estimator 0; ROC AUC score: 0.4479166666666667\n",
      "estimating...estimator 1; ROC AUC score: 0.5\n",
      "estimating...estimator 2; ROC AUC score: 0.484375\n",
      "estimating...estimator 3; ROC AUC score: 0.38541666666666663\n",
      "estimating...estimator 4; ROC AUC score: 0.42708333333333337\n",
      "estimating...estimator 5; ROC AUC score: 0.5260416666666667\n",
      "hyper-parameter search group 2\n",
      "224\n",
      "215\n",
      "estimating...estimator 0; ROC AUC score: 0.5339834515366431\n",
      "estimating...estimator 1; ROC AUC score: 0.505220646178093\n",
      "estimating...estimator 2; ROC AUC score: 0.5025610717100079\n",
      "estimating...estimator 3; ROC AUC score: 0.49990149724192273\n",
      "estimating...estimator 4; ROC AUC score: 0.5131993695823482\n",
      "estimating...estimator 5; ROC AUC score: 0.45360520094562645\n",
      "generalization test group 1\n",
      "414\n",
      "220\n",
      "hyper-parameter search group 0\n",
      "301\n",
      "113\n",
      "estimating..."
     ]
    },
    {
     "name": "stderr",
     "output_type": "stream",
     "text": [
      "/Users/benjaminsmith/opt/anaconda3/envs/neuralsignature/lib/python3.10/site-packages/sklearn/svm/_base.py:1206: ConvergenceWarning: Liblinear failed to converge, increase the number of iterations.\n",
      "  warnings.warn(\n"
     ]
    },
    {
     "name": "stdout",
     "output_type": "stream",
     "text": [
      "estimator 0; ROC AUC score: 0.5689338235294118\n",
      "estimating..."
     ]
    },
    {
     "name": "stderr",
     "output_type": "stream",
     "text": [
      "/Users/benjaminsmith/opt/anaconda3/envs/neuralsignature/lib/python3.10/site-packages/sklearn/svm/_base.py:1206: ConvergenceWarning: Liblinear failed to converge, increase the number of iterations.\n",
      "  warnings.warn(\n"
     ]
    },
    {
     "name": "stdout",
     "output_type": "stream",
     "text": [
      "estimator 1; ROC AUC score: 0.4822303921568628\n",
      "estimating...estimator 2; ROC AUC score: 0.4895833333333333\n",
      "estimating...estimator 3; ROC AUC score: 0.4822303921568628\n",
      "estimating...estimator 4; ROC AUC score: 0.49264705882352944\n",
      "estimating...estimator 5; ROC AUC score: 0.4696691176470589\n",
      "hyper-parameter search group 1\n",
      "302\n",
      "112\n",
      "estimating..."
     ]
    },
    {
     "name": "stderr",
     "output_type": "stream",
     "text": [
      "/Users/benjaminsmith/opt/anaconda3/envs/neuralsignature/lib/python3.10/site-packages/sklearn/svm/_base.py:1206: ConvergenceWarning: Liblinear failed to converge, increase the number of iterations.\n",
      "  warnings.warn(\n"
     ]
    },
    {
     "name": "stdout",
     "output_type": "stream",
     "text": [
      "estimator 0; ROC AUC score: 0.5416666666666666\n",
      "estimating..."
     ]
    },
    {
     "name": "stderr",
     "output_type": "stream",
     "text": [
      "/Users/benjaminsmith/opt/anaconda3/envs/neuralsignature/lib/python3.10/site-packages/sklearn/svm/_base.py:1206: ConvergenceWarning: Liblinear failed to converge, increase the number of iterations.\n",
      "  warnings.warn(\n"
     ]
    },
    {
     "name": "stdout",
     "output_type": "stream",
     "text": [
      "estimator 1; ROC AUC score: 0.5260416666666666\n",
      "estimating...estimator 2; ROC AUC score: 0.4895833333333333\n",
      "estimating...estimator 3; ROC AUC score: 0.59375\n",
      "estimating...estimator 4; ROC AUC score: 0.59375\n",
      "estimating...estimator 5; ROC AUC score: 0.5052083333333334\n",
      "hyper-parameter search group 2\n",
      "225\n",
      "189\n",
      "estimating..."
     ]
    },
    {
     "name": "stderr",
     "output_type": "stream",
     "text": [
      "/Users/benjaminsmith/opt/anaconda3/envs/neuralsignature/lib/python3.10/site-packages/sklearn/svm/_base.py:1206: ConvergenceWarning: Liblinear failed to converge, increase the number of iterations.\n",
      "  warnings.warn(\n"
     ]
    },
    {
     "name": "stdout",
     "output_type": "stream",
     "text": [
      "estimator 0; ROC AUC score: 0.568595825426945\n",
      "estimating...estimator 1; ROC AUC score: 0.5789373814041746\n",
      "estimating...estimator 2; ROC AUC score: 0.5624288425047438\n",
      "estimating...estimator 3; ROC AUC score: 0.5706831119544592\n",
      "estimating...estimator 4; ROC AUC score: 0.5132827324478179\n",
      "estimating...estimator 5; ROC AUC score: 0.4679316888045541\n",
      "generalization test group 2\n",
      "415\n",
      "219\n",
      "hyper-parameter search group 0\n",
      "302\n",
      "113\n",
      "estimating..."
     ]
    },
    {
     "name": "stderr",
     "output_type": "stream",
     "text": [
      "/Users/benjaminsmith/opt/anaconda3/envs/neuralsignature/lib/python3.10/site-packages/sklearn/svm/_base.py:1206: ConvergenceWarning: Liblinear failed to converge, increase the number of iterations.\n",
      "  warnings.warn(\n"
     ]
    },
    {
     "name": "stdout",
     "output_type": "stream",
     "text": [
      "estimator 0; ROC AUC score: 0.4788602941176471\n",
      "estimating...estimator 1; ROC AUC score: 0.484375\n",
      "estimating...estimator 2; ROC AUC score: 0.5033700980392157\n",
      "estimating...estimator 3; ROC AUC score: 0.529718137254902\n",
      "estimating...estimator 4; ROC AUC score: 0.49295343137254904\n",
      "estimating...estimator 5; ROC AUC score: 0.4935661764705883\n",
      "hyper-parameter search group 1\n",
      "303\n",
      "112\n",
      "estimating..."
     ]
    },
    {
     "name": "stderr",
     "output_type": "stream",
     "text": [
      "/Users/benjaminsmith/opt/anaconda3/envs/neuralsignature/lib/python3.10/site-packages/sklearn/svm/_base.py:1206: ConvergenceWarning: Liblinear failed to converge, increase the number of iterations.\n",
      "  warnings.warn(\n"
     ]
    },
    {
     "name": "stdout",
     "output_type": "stream",
     "text": [
      "estimator 0; ROC AUC score: 0.45833333333333337\n",
      "estimating..."
     ]
    },
    {
     "name": "stderr",
     "output_type": "stream",
     "text": [
      "/Users/benjaminsmith/opt/anaconda3/envs/neuralsignature/lib/python3.10/site-packages/sklearn/svm/_base.py:1206: ConvergenceWarning: Liblinear failed to converge, increase the number of iterations.\n",
      "  warnings.warn(\n"
     ]
    },
    {
     "name": "stdout",
     "output_type": "stream",
     "text": [
      "estimator 1; ROC AUC score: 0.453125\n",
      "estimating...estimator 2; ROC AUC score: 0.5\n",
      "estimating...estimator 3; ROC AUC score: 0.578125\n",
      "estimating...estimator 4; ROC AUC score: 0.5052083333333333\n",
      "estimating...estimator 5; ROC AUC score: 0.4375\n",
      "hyper-parameter search group 2\n",
      "225\n",
      "190\n",
      "estimating..."
     ]
    },
    {
     "name": "stderr",
     "output_type": "stream",
     "text": [
      "/Users/benjaminsmith/opt/anaconda3/envs/neuralsignature/lib/python3.10/site-packages/sklearn/svm/_base.py:1206: ConvergenceWarning: Liblinear failed to converge, increase the number of iterations.\n",
      "  warnings.warn(\n"
     ]
    },
    {
     "name": "stdout",
     "output_type": "stream",
     "text": [
      "estimator 0; ROC AUC score: 0.47915562621444974\n",
      "estimating...estimator 1; ROC AUC score: 0.5074191838897721\n",
      "estimating...estimator 2; ROC AUC score: 0.5069775658010952\n",
      "estimating...estimator 3; ROC AUC score: 0.5399222752163928\n",
      "estimating...estimator 4; ROC AUC score: 0.5004416180886769\n",
      "estimating...estimator 5; ROC AUC score: 0.5591768238827062\n",
      "estimator_i\n",
      "3    0.522865\n",
      "0    0.510341\n",
      "2     0.50432\n",
      "1    0.502993\n",
      "4    0.499655\n",
      "5    0.474675\n",
      "Name: score, dtype: Float64\n",
      "chose estimator 3\n",
      "generalization test group 0\n",
      "generalization test group 1\n",
      "generalization test group 2\n",
      "cross-validated score is: 0.4820667072799269\n",
      "precision, recall, fscore, support:\n",
      "(array([0.83707865, 0.14388489]), array([0.55597015, 0.40816327]), array([0.66816143, 0.21276596]), array([536,  98]))\n",
      "raw (overfit) score is: 0.6153289674078587\n"
     ]
    },
    {
     "data": {
      "text/plain": [
       "0.4820667072799269"
      ]
     },
     "execution_count": 35,
     "metadata": {},
     "output_type": "execute_result"
    }
   ],
   "source": [
    "from sklearn.feature_selection import VarianceThreshold\n",
    "from sklearn.svm import LinearSVC\n",
    "from sklearn.linear_model import LogisticRegression\n",
    "\n",
    "#I'll add the feature selection step for the estimators here for now,\n",
    "#but to save time we could add separate functions for preprocessing\n",
    "#advantage of doing it independently from estimators would be to avoid running feature selection twice.\n",
    "#disadvantage would be that we'd have to pass the feature\n",
    "\n",
    "from sklearn.pipeline import Pipeline\n",
    "from sklearn.feature_selection import SelectKBest, f_classif\n",
    "\n",
    "estimators = [\n",
    "    LogisticRegression(penalty='l2',solver='liblinear',class_weight='balanced')\n",
    "\n",
    "]\n",
    "estimators_with_fs = []\n",
    "\n",
    "\n",
    "for estimator in estimators:\n",
    "    for decomp_prop in [2,4,8,16,32]:#[4,16,64,256]:\n",
    "        #decomp_components = (int)(selected_subjs.data.shape[1]/decomp_prop)\n",
    "        decomp_components = (int)(min(sample_size_with_cv, selected_subjs.data.shape[1])/decomp_prop)\n",
    "        print(str(decomp_components) + ' components')\n",
    "\n",
    "        estimator_with_fs = Pipeline([\n",
    "            ('clean',VarianceThreshold(threshold=0)),\n",
    "            ('decompose', decomposition.PCA(n_components=decomp_components)),\n",
    "            #('select', SelectKBest(f_classif, k=150)),\n",
    "            ('estimator', estimator)])\n",
    "        estimators_with_fs.append(estimator_with_fs)\n",
    "\n",
    "    estimator_with_fs = Pipeline([\n",
    "        ('clean',VarianceThreshold(threshold=0)),\n",
    "        ('select', SelectKBest(f_classif, k=150)),\n",
    "        ('estimator', estimator)])\n",
    "    estimators_with_fs.append(estimator_with_fs)\n",
    "    \n",
    "    \n",
    "from dev_utils import sklearn_nested_cross_validate\n",
    "\n",
    "cv_result = sklearn_nested_cross_validate(\n",
    "    selected_subjs.data,\n",
    "    np.array(selected_subjs_y_int),\n",
    "    estimators_with_fs,\n",
    "    groups=np.array(selected_subjs.X['subject']))\n",
    "        \n",
    "   \n",
    "\n",
    "from sklearn.metrics import roc_auc_score\n",
    "\n",
    "\n",
    "pd.Series(cv_result['y_predict_final']).value_counts()\n",
    "roc_auc_score(selected_subjs_y_int,cv_result['y_predict_final'])"
   ]
  },
  {
   "cell_type": "code",
   "execution_count": 36,
   "metadata": {},
   "outputs": [
    {
     "data": {
      "text/plain": [
       "WilcoxonResult(statistic=8613.0, pvalue=1.287101945119916e-25)"
      ]
     },
     "execution_count": 36,
     "metadata": {},
     "output_type": "execute_result"
    }
   ],
   "source": [
    "#do a wilcox test (Mann-Whitney U test) to see if the difference in AUC significantly differs from 0.5\n",
    "#include a confidence interval\n",
    "from scipy.stats import wilcoxon\n",
    "wilcoxon(cv_result['y_predict_final'],selected_subjs_y_int)"
   ]
  },
  {
   "cell_type": "code",
   "execution_count": null,
   "metadata": {},
   "outputs": [],
   "source": []
  }
 ],
 "metadata": {
  "kernelspec": {
   "display_name": "neuralsignature",
   "language": "python",
   "name": "python3"
  },
  "language_info": {
   "codemirror_mode": {
    "name": "ipython",
    "version": 3
   },
   "file_extension": ".py",
   "mimetype": "text/x-python",
   "name": "python",
   "nbconvert_exporter": "python",
   "pygments_lexer": "ipython3",
   "version": "3.10.4"
  },
  "orig_nbformat": 4,
  "vscode": {
   "interpreter": {
    "hash": "0cca8238de402a161b34e58e1e3b4d299a0bf48c5783c9dc7c173d82c36576a7"
   }
  }
 },
 "nbformat": 4,
 "nbformat_minor": 2
}
