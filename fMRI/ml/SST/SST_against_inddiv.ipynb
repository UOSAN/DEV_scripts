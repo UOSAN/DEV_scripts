{
 "cells": [
  {
   "cell_type": "markdown",
   "id": "behavioral-former",
   "metadata": {},
   "source": [
    "This is a basic exploration of regressing SST against individual difference measures to see how well we can do with that. It extends/builds on `SST_inhibition_cv.ipynb`."
   ]
  },
  {
   "cell_type": "markdown",
   "id": "thick-wholesale",
   "metadata": {},
   "source": [
    "## Setup"
   ]
  },
  {
   "cell_type": "code",
   "execution_count": 1,
   "id": "incorporate-tomorrow",
   "metadata": {},
   "outputs": [
    {
     "name": "stdout",
     "output_type": "stream",
     "text": [
      "python initialized for apply_loocv_and_save\n"
     ]
    },
    {
     "name": "stderr",
     "output_type": "stream",
     "text": [
      "/home/bsmith16/.conda/envs/neuralsignature/lib/python3.8/site-packages/nilearn/datasets/__init__.py:87: FutureWarning: Fetchers from the nilearn.datasets module will be updated in version 0.9 to return python strings instead of bytes and Pandas dataframes instead of Numpy arrays.\n",
      "  warn(\"Fetchers from the nilearn.datasets module will be \"\n"
     ]
    },
    {
     "name": "stdout",
     "output_type": "stream",
     "text": [
      "4\n"
     ]
    }
   ],
   "source": [
    "import sys\n",
    "import os\n",
    "import pandas as pd\n",
    "\n",
    "sys.path.append(os.path.abspath(\"../../ml/\"))\n",
    "\n",
    "from apply_loocv_and_save import *\n",
    "import gc\n",
    "import nibabel as nib\n",
    "\n",
    "nonbids_data_path = \"/gpfs/projects/sanlab/shared/DEV/nonbids_data/\"\n",
    "ml_data_folderpath = \"/gpfs/projects/sanlab/shared/DEV/nonbids_data/fMRI/ml\"\n",
    "test_train_df = pd.read_csv(nonbids_data_path + \"fMRI/ml/train_test_markers_20210601T183243.csv\")\n",
    "\n",
    "all_sst_events= pd.read_csv(ml_data_folderpath +\"/SST/\" + \"all_sst_events.csv\")\n",
    "\n",
    "\n",
    "dataset_name = 'conditions'\n",
    "brain_data_filepath = ml_data_folderpath + '/SST/Brain_Data_' + dataset_name + '_40subs.pkl'\n",
    "\n",
    "with open(brain_data_filepath, 'rb') as pkl_file:\n",
    "    Brain_Data_allsubs = pickle.load(pkl_file)\n",
    "    \n",
    "    \n",
    "\n",
    "\n",
    "from nilearn.decoding import DecoderRegressor, Decoder\n",
    "\n",
    "script_path = '/gpfs/projects/sanlab/shared/DEV/DEV_scripts/fMRI/ml'\n",
    "data_path = \"/gpfs/projects/sanlab/shared/DEV/nonbids_data/fMRI/ml/\"\n",
    "# HRF 2s\n",
    "\n"
   ]
  },
  {
   "cell_type": "code",
   "execution_count": 2,
   "id": "gothic-margin",
   "metadata": {},
   "outputs": [],
   "source": [
    "brain_data_filepath = ml_data_folderpath + '/SST/Brain_Data_conditions_43subs_CorrectStopWithSupplementary.pkl'"
   ]
  },
  {
   "cell_type": "code",
   "execution_count": 19,
   "id": "differential-impact",
   "metadata": {},
   "outputs": [],
   "source": [
    "def decoderConstructor(*args, **kwargs):\n",
    "    return(DecoderRegressor(scoring='r2',verbose=0, *args, **kwargs))"
   ]
  },
  {
   "cell_type": "markdown",
   "id": "vital-denial",
   "metadata": {},
   "source": [
    "Now we load the individual differences file... This contains PII-adjacent data so important it's not in the git."
   ]
  },
  {
   "cell_type": "code",
   "execution_count": 4,
   "id": "average-density",
   "metadata": {},
   "outputs": [],
   "source": [
    "individual_differences = pd.read_csv(ml_data_folderpath + \"/data_by_ppt.csv\")"
   ]
  },
  {
   "cell_type": "code",
   "execution_count": 5,
   "id": "terminal-lightning",
   "metadata": {},
   "outputs": [
    {
     "data": {
      "text/html": [
       "<div>\n",
       "<style scoped>\n",
       "    .dataframe tbody tr th:only-of-type {\n",
       "        vertical-align: middle;\n",
       "    }\n",
       "\n",
       "    .dataframe tbody tr th {\n",
       "        vertical-align: top;\n",
       "    }\n",
       "\n",
       "    .dataframe thead th {\n",
       "        text-align: right;\n",
       "    }\n",
       "</style>\n",
       "<table border=\"1\" class=\"dataframe\">\n",
       "  <thead>\n",
       "    <tr style=\"text-align: right;\">\n",
       "      <th></th>\n",
       "      <th>SID</th>\n",
       "      <th>cancer_promoting_minus_preventing_FCI</th>\n",
       "      <th>cancer_promoting_minus_preventing_FFQ</th>\n",
       "      <th>cancer_promoting_minus_preventing_craved_FCI</th>\n",
       "      <th>cancer_promoting_minus_preventing_craved_FFQ</th>\n",
       "      <th>cancer_promoting_minus_preventing_liked_FCI</th>\n",
       "      <th>cancer_promoting_minus_preventing_liked_FFQ</th>\n",
       "      <th>cancer_promoting_FCI</th>\n",
       "      <th>cancer_promoting_FFQ</th>\n",
       "      <th>cancer_preventing_FCI</th>\n",
       "      <th>...</th>\n",
       "      <th>WTP_healthy</th>\n",
       "      <th>WTP_unhealthy</th>\n",
       "      <th>WTP_unhealthy_minus_healthy</th>\n",
       "      <th>SRHI_healthy_minus_unhealthy</th>\n",
       "      <th>RTFS_f1_minus_f2</th>\n",
       "      <th>IPAQ_walkingMETminutes</th>\n",
       "      <th>IPAQ_moderateMETminutes</th>\n",
       "      <th>IPAQ_vigorousMETminutes</th>\n",
       "      <th>IPAQ_total_METminutes</th>\n",
       "      <th>IPAQ_MET_kCal</th>\n",
       "    </tr>\n",
       "  </thead>\n",
       "  <tbody>\n",
       "    <tr>\n",
       "      <th>0</th>\n",
       "      <td>DEV001</td>\n",
       "      <td>-0.134946</td>\n",
       "      <td>-0.113462</td>\n",
       "      <td>-0.020430</td>\n",
       "      <td>NaN</td>\n",
       "      <td>-0.249462</td>\n",
       "      <td>NaN</td>\n",
       "      <td>2.548387</td>\n",
       "      <td>1.925</td>\n",
       "      <td>2.683333</td>\n",
       "      <td>...</td>\n",
       "      <td>2.062500</td>\n",
       "      <td>1.750000</td>\n",
       "      <td>-0.312500</td>\n",
       "      <td>-22.0</td>\n",
       "      <td>NaN</td>\n",
       "      <td>396.0</td>\n",
       "      <td>2160.0</td>\n",
       "      <td>1920.0</td>\n",
       "      <td>4476.0</td>\n",
       "      <td>NaN</td>\n",
       "    </tr>\n",
       "    <tr>\n",
       "      <th>1</th>\n",
       "      <td>DEV002</td>\n",
       "      <td>-0.541398</td>\n",
       "      <td>-0.682692</td>\n",
       "      <td>-0.903226</td>\n",
       "      <td>NaN</td>\n",
       "      <td>-0.179570</td>\n",
       "      <td>NaN</td>\n",
       "      <td>2.741935</td>\n",
       "      <td>1.625</td>\n",
       "      <td>3.283333</td>\n",
       "      <td>...</td>\n",
       "      <td>1.656250</td>\n",
       "      <td>2.096774</td>\n",
       "      <td>0.440524</td>\n",
       "      <td>-9.0</td>\n",
       "      <td>NaN</td>\n",
       "      <td>99.0</td>\n",
       "      <td>0.0</td>\n",
       "      <td>120.0</td>\n",
       "      <td>219.0</td>\n",
       "      <td>NaN</td>\n",
       "    </tr>\n",
       "    <tr>\n",
       "      <th>2</th>\n",
       "      <td>DEV004</td>\n",
       "      <td>0.113978</td>\n",
       "      <td>-0.698077</td>\n",
       "      <td>0.023656</td>\n",
       "      <td>NaN</td>\n",
       "      <td>0.204301</td>\n",
       "      <td>NaN</td>\n",
       "      <td>2.580645</td>\n",
       "      <td>1.725</td>\n",
       "      <td>2.466667</td>\n",
       "      <td>...</td>\n",
       "      <td>2.190476</td>\n",
       "      <td>2.000000</td>\n",
       "      <td>-0.190476</td>\n",
       "      <td>-11.0</td>\n",
       "      <td>NaN</td>\n",
       "      <td>0.0</td>\n",
       "      <td>1440.0</td>\n",
       "      <td>240.0</td>\n",
       "      <td>1680.0</td>\n",
       "      <td>NaN</td>\n",
       "    </tr>\n",
       "    <tr>\n",
       "      <th>3</th>\n",
       "      <td>DEV005</td>\n",
       "      <td>0.083871</td>\n",
       "      <td>0.321154</td>\n",
       "      <td>0.044086</td>\n",
       "      <td>NaN</td>\n",
       "      <td>0.123656</td>\n",
       "      <td>NaN</td>\n",
       "      <td>2.483871</td>\n",
       "      <td>2.475</td>\n",
       "      <td>2.400000</td>\n",
       "      <td>...</td>\n",
       "      <td>2.281250</td>\n",
       "      <td>2.451613</td>\n",
       "      <td>0.170363</td>\n",
       "      <td>-38.0</td>\n",
       "      <td>NaN</td>\n",
       "      <td>99.0</td>\n",
       "      <td>160.0</td>\n",
       "      <td>8.0</td>\n",
       "      <td>267.0</td>\n",
       "      <td>NaN</td>\n",
       "    </tr>\n",
       "    <tr>\n",
       "      <th>4</th>\n",
       "      <td>DEV006</td>\n",
       "      <td>0.430645</td>\n",
       "      <td>-0.603846</td>\n",
       "      <td>0.449462</td>\n",
       "      <td>NaN</td>\n",
       "      <td>0.411828</td>\n",
       "      <td>NaN</td>\n",
       "      <td>2.580645</td>\n",
       "      <td>2.050</td>\n",
       "      <td>2.150000</td>\n",
       "      <td>...</td>\n",
       "      <td>2.333333</td>\n",
       "      <td>1.838710</td>\n",
       "      <td>-0.494624</td>\n",
       "      <td>-16.0</td>\n",
       "      <td>NaN</td>\n",
       "      <td>1039.5</td>\n",
       "      <td>1080.0</td>\n",
       "      <td>8.0</td>\n",
       "      <td>2127.5</td>\n",
       "      <td>NaN</td>\n",
       "    </tr>\n",
       "    <tr>\n",
       "      <th>...</th>\n",
       "      <td>...</td>\n",
       "      <td>...</td>\n",
       "      <td>...</td>\n",
       "      <td>...</td>\n",
       "      <td>...</td>\n",
       "      <td>...</td>\n",
       "      <td>...</td>\n",
       "      <td>...</td>\n",
       "      <td>...</td>\n",
       "      <td>...</td>\n",
       "      <td>...</td>\n",
       "      <td>...</td>\n",
       "      <td>...</td>\n",
       "      <td>...</td>\n",
       "      <td>...</td>\n",
       "      <td>...</td>\n",
       "      <td>...</td>\n",
       "      <td>...</td>\n",
       "      <td>...</td>\n",
       "      <td>...</td>\n",
       "      <td>...</td>\n",
       "    </tr>\n",
       "    <tr>\n",
       "      <th>195</th>\n",
       "      <td>DEV216</td>\n",
       "      <td>1.033333</td>\n",
       "      <td>-0.405769</td>\n",
       "      <td>1.149462</td>\n",
       "      <td>NaN</td>\n",
       "      <td>0.917204</td>\n",
       "      <td>NaN</td>\n",
       "      <td>3.000000</td>\n",
       "      <td>1.825</td>\n",
       "      <td>1.966667</td>\n",
       "      <td>...</td>\n",
       "      <td>1.937500</td>\n",
       "      <td>2.406250</td>\n",
       "      <td>0.468750</td>\n",
       "      <td>-49.0</td>\n",
       "      <td>0.298246</td>\n",
       "      <td>99.0</td>\n",
       "      <td>360.0</td>\n",
       "      <td>600.0</td>\n",
       "      <td>1059.0</td>\n",
       "      <td>NaN</td>\n",
       "    </tr>\n",
       "    <tr>\n",
       "      <th>196</th>\n",
       "      <td>DEV217</td>\n",
       "      <td>-0.519892</td>\n",
       "      <td>-0.676923</td>\n",
       "      <td>-0.559140</td>\n",
       "      <td>NaN</td>\n",
       "      <td>-0.480645</td>\n",
       "      <td>NaN</td>\n",
       "      <td>2.596774</td>\n",
       "      <td>1.900</td>\n",
       "      <td>3.116667</td>\n",
       "      <td>...</td>\n",
       "      <td>1.900000</td>\n",
       "      <td>1.269231</td>\n",
       "      <td>-0.630769</td>\n",
       "      <td>-14.0</td>\n",
       "      <td>2.833333</td>\n",
       "      <td>165.0</td>\n",
       "      <td>60.0</td>\n",
       "      <td>160.0</td>\n",
       "      <td>385.0</td>\n",
       "      <td>NaN</td>\n",
       "    </tr>\n",
       "    <tr>\n",
       "      <th>197</th>\n",
       "      <td>DEV219</td>\n",
       "      <td>0.702688</td>\n",
       "      <td>-0.280769</td>\n",
       "      <td>0.834409</td>\n",
       "      <td>NaN</td>\n",
       "      <td>0.570968</td>\n",
       "      <td>NaN</td>\n",
       "      <td>2.919355</td>\n",
       "      <td>1.450</td>\n",
       "      <td>2.216667</td>\n",
       "      <td>...</td>\n",
       "      <td>2.034483</td>\n",
       "      <td>2.148148</td>\n",
       "      <td>0.113665</td>\n",
       "      <td>-18.0</td>\n",
       "      <td>NaN</td>\n",
       "      <td>0.0</td>\n",
       "      <td>80.0</td>\n",
       "      <td>360.0</td>\n",
       "      <td>440.0</td>\n",
       "      <td>NaN</td>\n",
       "    </tr>\n",
       "    <tr>\n",
       "      <th>198</th>\n",
       "      <td>DEV250</td>\n",
       "      <td>-0.358602</td>\n",
       "      <td>-0.950000</td>\n",
       "      <td>-0.520430</td>\n",
       "      <td>NaN</td>\n",
       "      <td>-0.196774</td>\n",
       "      <td>NaN</td>\n",
       "      <td>2.758065</td>\n",
       "      <td>1.550</td>\n",
       "      <td>3.116667</td>\n",
       "      <td>...</td>\n",
       "      <td>NaN</td>\n",
       "      <td>NaN</td>\n",
       "      <td>NaN</td>\n",
       "      <td>NaN</td>\n",
       "      <td>-0.083333</td>\n",
       "      <td>NaN</td>\n",
       "      <td>NaN</td>\n",
       "      <td>NaN</td>\n",
       "      <td>NaN</td>\n",
       "      <td>NaN</td>\n",
       "    </tr>\n",
       "    <tr>\n",
       "      <th>199</th>\n",
       "      <td>DEV280</td>\n",
       "      <td>-0.825806</td>\n",
       "      <td>-0.773077</td>\n",
       "      <td>-0.911828</td>\n",
       "      <td>NaN</td>\n",
       "      <td>-0.739785</td>\n",
       "      <td>NaN</td>\n",
       "      <td>2.274194</td>\n",
       "      <td>2.150</td>\n",
       "      <td>3.100000</td>\n",
       "      <td>...</td>\n",
       "      <td>NaN</td>\n",
       "      <td>NaN</td>\n",
       "      <td>NaN</td>\n",
       "      <td>19.0</td>\n",
       "      <td>-0.187500</td>\n",
       "      <td>198.0</td>\n",
       "      <td>840.0</td>\n",
       "      <td>960.0</td>\n",
       "      <td>1998.0</td>\n",
       "      <td>NaN</td>\n",
       "    </tr>\n",
       "  </tbody>\n",
       "</table>\n",
       "<p>200 rows × 117 columns</p>\n",
       "</div>"
      ],
      "text/plain": [
       "        SID  cancer_promoting_minus_preventing_FCI  \\\n",
       "0    DEV001                              -0.134946   \n",
       "1    DEV002                              -0.541398   \n",
       "2    DEV004                               0.113978   \n",
       "3    DEV005                               0.083871   \n",
       "4    DEV006                               0.430645   \n",
       "..      ...                                    ...   \n",
       "195  DEV216                               1.033333   \n",
       "196  DEV217                              -0.519892   \n",
       "197  DEV219                               0.702688   \n",
       "198  DEV250                              -0.358602   \n",
       "199  DEV280                              -0.825806   \n",
       "\n",
       "     cancer_promoting_minus_preventing_FFQ  \\\n",
       "0                                -0.113462   \n",
       "1                                -0.682692   \n",
       "2                                -0.698077   \n",
       "3                                 0.321154   \n",
       "4                                -0.603846   \n",
       "..                                     ...   \n",
       "195                              -0.405769   \n",
       "196                              -0.676923   \n",
       "197                              -0.280769   \n",
       "198                              -0.950000   \n",
       "199                              -0.773077   \n",
       "\n",
       "     cancer_promoting_minus_preventing_craved_FCI  \\\n",
       "0                                       -0.020430   \n",
       "1                                       -0.903226   \n",
       "2                                        0.023656   \n",
       "3                                        0.044086   \n",
       "4                                        0.449462   \n",
       "..                                            ...   \n",
       "195                                      1.149462   \n",
       "196                                     -0.559140   \n",
       "197                                      0.834409   \n",
       "198                                     -0.520430   \n",
       "199                                     -0.911828   \n",
       "\n",
       "     cancer_promoting_minus_preventing_craved_FFQ  \\\n",
       "0                                             NaN   \n",
       "1                                             NaN   \n",
       "2                                             NaN   \n",
       "3                                             NaN   \n",
       "4                                             NaN   \n",
       "..                                            ...   \n",
       "195                                           NaN   \n",
       "196                                           NaN   \n",
       "197                                           NaN   \n",
       "198                                           NaN   \n",
       "199                                           NaN   \n",
       "\n",
       "     cancer_promoting_minus_preventing_liked_FCI  \\\n",
       "0                                      -0.249462   \n",
       "1                                      -0.179570   \n",
       "2                                       0.204301   \n",
       "3                                       0.123656   \n",
       "4                                       0.411828   \n",
       "..                                           ...   \n",
       "195                                     0.917204   \n",
       "196                                    -0.480645   \n",
       "197                                     0.570968   \n",
       "198                                    -0.196774   \n",
       "199                                    -0.739785   \n",
       "\n",
       "     cancer_promoting_minus_preventing_liked_FFQ  cancer_promoting_FCI  \\\n",
       "0                                            NaN              2.548387   \n",
       "1                                            NaN              2.741935   \n",
       "2                                            NaN              2.580645   \n",
       "3                                            NaN              2.483871   \n",
       "4                                            NaN              2.580645   \n",
       "..                                           ...                   ...   \n",
       "195                                          NaN              3.000000   \n",
       "196                                          NaN              2.596774   \n",
       "197                                          NaN              2.919355   \n",
       "198                                          NaN              2.758065   \n",
       "199                                          NaN              2.274194   \n",
       "\n",
       "     cancer_promoting_FFQ  cancer_preventing_FCI  ...  WTP_healthy  \\\n",
       "0                   1.925               2.683333  ...     2.062500   \n",
       "1                   1.625               3.283333  ...     1.656250   \n",
       "2                   1.725               2.466667  ...     2.190476   \n",
       "3                   2.475               2.400000  ...     2.281250   \n",
       "4                   2.050               2.150000  ...     2.333333   \n",
       "..                    ...                    ...  ...          ...   \n",
       "195                 1.825               1.966667  ...     1.937500   \n",
       "196                 1.900               3.116667  ...     1.900000   \n",
       "197                 1.450               2.216667  ...     2.034483   \n",
       "198                 1.550               3.116667  ...          NaN   \n",
       "199                 2.150               3.100000  ...          NaN   \n",
       "\n",
       "     WTP_unhealthy  WTP_unhealthy_minus_healthy  SRHI_healthy_minus_unhealthy  \\\n",
       "0         1.750000                    -0.312500                         -22.0   \n",
       "1         2.096774                     0.440524                          -9.0   \n",
       "2         2.000000                    -0.190476                         -11.0   \n",
       "3         2.451613                     0.170363                         -38.0   \n",
       "4         1.838710                    -0.494624                         -16.0   \n",
       "..             ...                          ...                           ...   \n",
       "195       2.406250                     0.468750                         -49.0   \n",
       "196       1.269231                    -0.630769                         -14.0   \n",
       "197       2.148148                     0.113665                         -18.0   \n",
       "198            NaN                          NaN                           NaN   \n",
       "199            NaN                          NaN                          19.0   \n",
       "\n",
       "     RTFS_f1_minus_f2  IPAQ_walkingMETminutes  IPAQ_moderateMETminutes  \\\n",
       "0                 NaN                   396.0                   2160.0   \n",
       "1                 NaN                    99.0                      0.0   \n",
       "2                 NaN                     0.0                   1440.0   \n",
       "3                 NaN                    99.0                    160.0   \n",
       "4                 NaN                  1039.5                   1080.0   \n",
       "..                ...                     ...                      ...   \n",
       "195          0.298246                    99.0                    360.0   \n",
       "196          2.833333                   165.0                     60.0   \n",
       "197               NaN                     0.0                     80.0   \n",
       "198         -0.083333                     NaN                      NaN   \n",
       "199         -0.187500                   198.0                    840.0   \n",
       "\n",
       "     IPAQ_vigorousMETminutes  IPAQ_total_METminutes  IPAQ_MET_kCal  \n",
       "0                     1920.0                 4476.0            NaN  \n",
       "1                      120.0                  219.0            NaN  \n",
       "2                      240.0                 1680.0            NaN  \n",
       "3                        8.0                  267.0            NaN  \n",
       "4                        8.0                 2127.5            NaN  \n",
       "..                       ...                    ...            ...  \n",
       "195                    600.0                 1059.0            NaN  \n",
       "196                    160.0                  385.0            NaN  \n",
       "197                    360.0                  440.0            NaN  \n",
       "198                      NaN                    NaN            NaN  \n",
       "199                    960.0                 1998.0            NaN  \n",
       "\n",
       "[200 rows x 117 columns]"
      ]
     },
     "execution_count": 5,
     "metadata": {},
     "output_type": "execute_result"
    }
   ],
   "source": [
    "individual_differences"
   ]
  },
  {
   "cell_type": "code",
   "execution_count": 13,
   "id": "moving-newfoundland",
   "metadata": {},
   "outputs": [
    {
     "data": {
      "text/html": [
       "<div>\n",
       "<style scoped>\n",
       "    .dataframe tbody tr th:only-of-type {\n",
       "        vertical-align: middle;\n",
       "    }\n",
       "\n",
       "    .dataframe tbody tr th {\n",
       "        vertical-align: top;\n",
       "    }\n",
       "\n",
       "    .dataframe thead th {\n",
       "        text-align: right;\n",
       "    }\n",
       "</style>\n",
       "<table border=\"1\" class=\"dataframe\">\n",
       "  <thead>\n",
       "    <tr style=\"text-align: right;\">\n",
       "      <th></th>\n",
       "      <th>SID</th>\n",
       "      <th>SST_SSRT</th>\n",
       "    </tr>\n",
       "  </thead>\n",
       "  <tbody>\n",
       "    <tr>\n",
       "      <th>0</th>\n",
       "      <td>DEV001</td>\n",
       "      <td>NaN</td>\n",
       "    </tr>\n",
       "    <tr>\n",
       "      <th>1</th>\n",
       "      <td>DEV002</td>\n",
       "      <td>NaN</td>\n",
       "    </tr>\n",
       "    <tr>\n",
       "      <th>2</th>\n",
       "      <td>DEV004</td>\n",
       "      <td>224.009792</td>\n",
       "    </tr>\n",
       "    <tr>\n",
       "      <th>3</th>\n",
       "      <td>DEV005</td>\n",
       "      <td>386.743402</td>\n",
       "    </tr>\n",
       "    <tr>\n",
       "      <th>4</th>\n",
       "      <td>DEV006</td>\n",
       "      <td>385.519463</td>\n",
       "    </tr>\n",
       "    <tr>\n",
       "      <th>5</th>\n",
       "      <td>DEV007</td>\n",
       "      <td>254.046057</td>\n",
       "    </tr>\n",
       "    <tr>\n",
       "      <th>6</th>\n",
       "      <td>DEV008</td>\n",
       "      <td>370.836441</td>\n",
       "    </tr>\n",
       "    <tr>\n",
       "      <th>7</th>\n",
       "      <td>DEV009</td>\n",
       "      <td>493.708792</td>\n",
       "    </tr>\n",
       "    <tr>\n",
       "      <th>8</th>\n",
       "      <td>DEV010</td>\n",
       "      <td>327.723316</td>\n",
       "    </tr>\n",
       "    <tr>\n",
       "      <th>9</th>\n",
       "      <td>DEV011</td>\n",
       "      <td>327.784155</td>\n",
       "    </tr>\n",
       "    <tr>\n",
       "      <th>10</th>\n",
       "      <td>DEV012</td>\n",
       "      <td>484.672162</td>\n",
       "    </tr>\n",
       "    <tr>\n",
       "      <th>11</th>\n",
       "      <td>DEV013</td>\n",
       "      <td>376.192858</td>\n",
       "    </tr>\n",
       "    <tr>\n",
       "      <th>12</th>\n",
       "      <td>DEV014</td>\n",
       "      <td>273.979916</td>\n",
       "    </tr>\n",
       "    <tr>\n",
       "      <th>13</th>\n",
       "      <td>DEV015</td>\n",
       "      <td>327.507509</td>\n",
       "    </tr>\n",
       "    <tr>\n",
       "      <th>14</th>\n",
       "      <td>DEV016</td>\n",
       "      <td>346.888806</td>\n",
       "    </tr>\n",
       "    <tr>\n",
       "      <th>15</th>\n",
       "      <td>DEV017</td>\n",
       "      <td>272.165305</td>\n",
       "    </tr>\n",
       "    <tr>\n",
       "      <th>16</th>\n",
       "      <td>DEV018</td>\n",
       "      <td>277.089215</td>\n",
       "    </tr>\n",
       "    <tr>\n",
       "      <th>17</th>\n",
       "      <td>DEV019</td>\n",
       "      <td>279.207047</td>\n",
       "    </tr>\n",
       "    <tr>\n",
       "      <th>18</th>\n",
       "      <td>DEV020</td>\n",
       "      <td>272.786648</td>\n",
       "    </tr>\n",
       "    <tr>\n",
       "      <th>19</th>\n",
       "      <td>DEV021</td>\n",
       "      <td>402.577088</td>\n",
       "    </tr>\n",
       "    <tr>\n",
       "      <th>20</th>\n",
       "      <td>DEV022</td>\n",
       "      <td>410.877765</td>\n",
       "    </tr>\n",
       "  </tbody>\n",
       "</table>\n",
       "</div>"
      ],
      "text/plain": [
       "       SID    SST_SSRT\n",
       "0   DEV001         NaN\n",
       "1   DEV002         NaN\n",
       "2   DEV004  224.009792\n",
       "3   DEV005  386.743402\n",
       "4   DEV006  385.519463\n",
       "5   DEV007  254.046057\n",
       "6   DEV008  370.836441\n",
       "7   DEV009  493.708792\n",
       "8   DEV010  327.723316\n",
       "9   DEV011  327.784155\n",
       "10  DEV012  484.672162\n",
       "11  DEV013  376.192858\n",
       "12  DEV014  273.979916\n",
       "13  DEV015  327.507509\n",
       "14  DEV016  346.888806\n",
       "15  DEV017  272.165305\n",
       "16  DEV018  277.089215\n",
       "17  DEV019  279.207047\n",
       "18  DEV020  272.786648\n",
       "19  DEV021  402.577088\n",
       "20  DEV022  410.877765"
      ]
     },
     "execution_count": 13,
     "metadata": {},
     "output_type": "execute_result"
    }
   ],
   "source": [
    "individual_differences.loc[0:20,['SID','SST_SSRT']]"
   ]
  },
  {
   "cell_type": "markdown",
   "id": "equipped-assurance",
   "metadata": {},
   "source": [
    "### Test 1\n",
    "\n",
    "Just"
   ]
  },
  {
   "cell_type": "code",
   "execution_count": 6,
   "id": "relative-badge",
   "metadata": {},
   "outputs": [],
   "source": [
    "results_filepath=data_path + \"SST/ttr_\" + dataset_name + \"_40subs_inddiv_1.pkl\""
   ]
  },
  {
   "cell_type": "code",
   "execution_count": 8,
   "id": "agricultural-crystal",
   "metadata": {},
   "outputs": [],
   "source": [
    "\n",
    "import pickle\n",
    "\n",
    "bd = pickle.load(open(brain_data_filepath,'rb'))"
   ]
  },
  {
   "cell_type": "code",
   "execution_count": 15,
   "id": "intellectual-thanks",
   "metadata": {},
   "outputs": [
    {
     "name": "stdout",
     "output_type": "stream",
     "text": [
      "condition_index, condition_label, raw_beta_description, beta, subject, wave, cancer_promoting_minus_preventing_FCI, cancer_promoting_minus_preventing_FFQ, cancer_promoting_minus_preventing_craved_FCI, cancer_promoting_minus_preventing_craved_FFQ, cancer_promoting_minus_preventing_liked_FCI, cancer_promoting_minus_preventing_liked_FFQ, cancer_promoting_FCI, cancer_promoting_FFQ, cancer_preventing_FCI, cancer_preventing_FFQ, BSCS, cSES, EDM, BIS_11, PCS, RS, TRSQ, bf_1, weight_0, ACES_abuse, ACES_neglectful_parenting, ACES_sum, ACES_household_dysfunction, ACES_divorced_separated, BFI_agreeableness, BFI_conscientiousness, BFI_extraversion, BFI_neuroticism, BFI_openness, DEMO_mcarthur_social_standing, IMI_value_usefulness, IMI_perceived_choice, IMI_perceived_competence, IMI_effort_importance, IMI_interest_enjoyment, IPAQ_sittinghours, IPAQ_moderateminutes, IPAQ_vigorousminutes, IPAQ_walkingminutes, NCS_get_job_done, NCS_intellectual_task, NCS_abstract_thinking, NCS_like_responsibility, NCS_thinking_not_exciting, NCS_think_minimally, NCS_thinking_not_fun, NCS_avoid_depth, NCS_deliberating_issues, NCS_prefer_little_thought, NCS_relief_not_satisfaction, NCS_satisfaction_in_deliberating, NCS_thought_appealing, NCS_total, NCS_tasks_little_thought, NCS_solve_puzzles, NCS_small_daily_projects, NCS_new_solutions_to_problems, NCS_prefer_complex, PLAN_mental_forecasting, PLAN_cognitive_strategies, PLAN_temporal_orientation, RMQ_assessment, RMQ_lie, RMQ_locomotion, RTFS_factor_1, RTFS_factor_2, SRHI_sum, SRHI_unhealthy, SRHI_healthy, TESQ_E_sum, TESQ_E_suppression, TESQ_E_avoidance_of_temptations, TESQ_E_goal_deliberation, TESQ_E_controlling_temptations, TESQ_E_distraction, TESQ_E_goal_and_rule_setting, education_own, zipcode_median_income_acs, household_income_level_medamount, household_income_per_person, ses_aggregate, SST_CorrectGo, SST_CorrectStop, SST_Cue, SST_FailedGo, SST_FailedStop, SST_prop_successful_stops, SST_reaction_time, SST_go_trial_reaction_time, SST_GRTint, SST_GRTmean, SST_GRTmedian, SST_GRTquant, SST_NRCount, SST_PctInhib, SST_SSD, SST_SSRT, SST_SSRTint, SST_SSRTquant, ROC_Crave_Look, ROC_Crave_Regulate, ROC_Neutral_Look, ROC_No Crave_Look, ROC_Crave_Regulate_Minus_Look, ROC_Crave_Minus_Neutral, ROC_Crave_Minus_NoCrave, WTP_healthy, WTP_unhealthy, WTP_unhealthy_minus_healthy, SRHI_healthy_minus_unhealthy, RTFS_f1_minus_f2, IPAQ_walkingMETminutes, IPAQ_moderateMETminutes, IPAQ_vigorousMETminutes, IPAQ_total_METminutes, IPAQ_MET_kCal, "
     ]
    }
   ],
   "source": [
    "for c in bd.X.columns:\n",
    "    print(c + \", \", end=\"\")"
   ]
  },
  {
   "cell_type": "code",
   "execution_count": 56,
   "id": "tamil-halifax",
   "metadata": {},
   "outputs": [
    {
     "data": {
      "text/plain": [
       "0     2.800\n",
       "1     2.750\n",
       "2     3.750\n",
       "3     2.500\n",
       "4     3.250\n",
       "5     3.000\n",
       "6     3.875\n",
       "7     2.000\n",
       "8     2.625\n",
       "9     3.875\n",
       "10    4.125\n",
       "11    1.250\n",
       "12    3.750\n",
       "13    2.250\n",
       "14    2.250\n",
       "15    3.250\n",
       "16    2.875\n",
       "17    2.750\n",
       "18    2.125\n",
       "19    3.750\n",
       "20    2.500\n",
       "21    2.750\n",
       "22    4.000\n",
       "23    2.750\n",
       "24    2.750\n",
       "25    3.125\n",
       "26    2.750\n",
       "27    4.250\n",
       "28    4.750\n",
       "29    4.000\n",
       "30    3.250\n",
       "31    2.875\n",
       "32    4.375\n",
       "33    2.000\n",
       "34    3.375\n",
       "35    2.625\n",
       "36    2.875\n",
       "37    2.750\n",
       "38    3.500\n",
       "39    2.000\n",
       "Name: EDM, dtype: float64"
      ]
     },
     "execution_count": 56,
     "metadata": {},
     "output_type": "execute_result"
    }
   ],
   "source": [
    "bd.X.EDM"
   ]
  },
  {
   "cell_type": "code",
   "execution_count": 70,
   "id": "frank-cover",
   "metadata": {},
   "outputs": [],
   "source": [
    "from sklearn.preprocessing import StandardScaler"
   ]
  },
  {
   "cell_type": "code",
   "execution_count": 75,
   "id": "amateur-youth",
   "metadata": {},
   "outputs": [],
   "source": [
    "def condition_resp_trans_func(X):\n",
    "    x=X.BIS_11\n",
    "    return((x-np.mean(x))/np.std(x))"
   ]
  },
  {
   "cell_type": "code",
   "execution_count": 76,
   "id": "ongoing-proportion",
   "metadata": {},
   "outputs": [
    {
     "name": "stdout",
     "output_type": "stream",
     "text": [
      "checked for intersection and no intersection between the brain data and the subjects was found.\n",
      "there were 40 subjects overlapping between the subjects marked for train data and the training dump file itself.\n",
      "-0.447770    3\n",
      " 0.066908    3\n",
      " 0.169844    3\n",
      " 0.478651    2\n",
      "-0.344834    2\n",
      "-1.168320    2\n",
      "-0.962448    2\n",
      " 0.684522    2\n",
      " 0.581586    2\n",
      " 1.302136    2\n",
      " 0.890393    1\n",
      "-1.785933    1\n",
      "-1.477126    1\n",
      "-1.374191    1\n",
      " 0.375715    1\n",
      " 1.610943    1\n",
      "-1.271255    1\n",
      " 1.096265    1\n",
      "-0.550706    1\n",
      " 1.199200    1\n",
      " 0.787458    1\n",
      " 2.331492    1\n",
      "-0.756577    1\n",
      " 1.508007    1\n",
      "-0.241899    1\n",
      "-0.859513    1\n",
      "-1.991805    1\n",
      "Name: BIS_11, dtype: int64\n",
      "-0.447770    3\n",
      " 0.066908    3\n",
      " 0.169844    3\n",
      " 0.478651    2\n",
      "-0.344834    2\n",
      "-1.168320    2\n",
      "-0.962448    2\n",
      " 0.684522    2\n",
      " 0.581586    2\n",
      " 1.302136    2\n",
      " 0.890393    1\n",
      "-1.785933    1\n",
      "-1.477126    1\n",
      "-1.374191    1\n",
      " 0.375715    1\n",
      " 1.610943    1\n",
      "-1.271255    1\n",
      " 1.096265    1\n",
      "-0.550706    1\n",
      " 1.199200    1\n",
      " 0.787458    1\n",
      " 2.331492    1\n",
      "-0.756577    1\n",
      " 1.508007    1\n",
      "-0.241899    1\n",
      "-0.859513    1\n",
      "-1.991805    1\n",
      "Name: BIS_11, dtype: int64\n",
      "test_train_set: 9549\n",
      "brain_data_filepath: 168\n",
      "pkl_file: 168\n",
      "train_test_markers_filepath: 141\n",
      "response_transform_func: 136\n",
      "sys: 72\n",
      "Brain_Data_allsubs: 48\n",
      "subjs_to_use: 28\n",
      "False    40\n",
      "Name: BIS_11, dtype: int64\n",
      "40\n",
      "40\n",
      "using 40 subjects\n",
      "starting LeaveOneOut\n",
      "finished preprocessing\n",
      "Groups are the same.\n",
      "fold 1 of 40\n",
      "In order to test on a training group of 39 items, holding out the following subjects:['DEV026']. prepping fold data.... fitting.... 322.0 MiB. trying decoder 1 of 1. predicting. "
     ]
    },
    {
     "name": "stderr",
     "output_type": "stream",
     "text": [
      "/home/bsmith16/.conda/envs/neuralsignature/lib/python3.8/site-packages/nilearn/signal.py:58: UserWarning: Standardization of 3D signal has been requested but would lead to zero values. Skipping.\n",
      "  warnings.warn('Standardization of 3D signal has been requested but '\n",
      "/home/bsmith16/.conda/envs/neuralsignature/lib/python3.8/site-packages/sklearn/metrics/_regression.py:682: UndefinedMetricWarning: R^2 score is not well-defined with less than two samples.\n",
      "  warnings.warn(msg, UndefinedMetricWarning)\n",
      "/home/bsmith16/.conda/envs/neuralsignature/lib/python3.8/site-packages/nilearn/signal.py:58: UserWarning: Standardization of 3D signal has been requested but would lead to zero values. Skipping.\n",
      "  warnings.warn('Standardization of 3D signal has been requested but '\n"
     ]
    },
    {
     "name": "stdout",
     "output_type": "stream",
     "text": [
      "test score was:. nan\n",
      "fold 2 of 40\n",
      "In order to test on a training group of 39 items, holding out the following subjects:['DEV005']. prepping fold data.... fitting.... 322.0 MiB. trying decoder 1 of 1. "
     ]
    },
    {
     "name": "stderr",
     "output_type": "stream",
     "text": [
      "/home/bsmith16/.conda/envs/neuralsignature/lib/python3.8/site-packages/nilearn/decoding/decoder.py:143: UserWarning: Use a custom estimator at your own risk of the process not working as intended.\n",
      "  warnings.warn('Use a custom estimator at your own risk '\n"
     ]
    },
    {
     "name": "stdout",
     "output_type": "stream",
     "text": [
      "predicting. "
     ]
    },
    {
     "name": "stderr",
     "output_type": "stream",
     "text": [
      "/home/bsmith16/.conda/envs/neuralsignature/lib/python3.8/site-packages/nilearn/signal.py:58: UserWarning: Standardization of 3D signal has been requested but would lead to zero values. Skipping.\n",
      "  warnings.warn('Standardization of 3D signal has been requested but '\n",
      "/home/bsmith16/.conda/envs/neuralsignature/lib/python3.8/site-packages/sklearn/metrics/_regression.py:682: UndefinedMetricWarning: R^2 score is not well-defined with less than two samples.\n",
      "  warnings.warn(msg, UndefinedMetricWarning)\n",
      "/home/bsmith16/.conda/envs/neuralsignature/lib/python3.8/site-packages/nilearn/signal.py:58: UserWarning: Standardization of 3D signal has been requested but would lead to zero values. Skipping.\n",
      "  warnings.warn('Standardization of 3D signal has been requested but '\n"
     ]
    },
    {
     "name": "stdout",
     "output_type": "stream",
     "text": [
      "test score was:. nan\n",
      "fold 3 of 40\n",
      "In order to test on a training group of 39 items, holding out the following subjects:['DEV035']. prepping fold data.... fitting.... 322.0 MiB. trying decoder 1 of 1. "
     ]
    },
    {
     "name": "stderr",
     "output_type": "stream",
     "text": [
      "/home/bsmith16/.conda/envs/neuralsignature/lib/python3.8/site-packages/nilearn/decoding/decoder.py:143: UserWarning: Use a custom estimator at your own risk of the process not working as intended.\n",
      "  warnings.warn('Use a custom estimator at your own risk '\n"
     ]
    },
    {
     "name": "stdout",
     "output_type": "stream",
     "text": [
      "predicting. "
     ]
    },
    {
     "name": "stderr",
     "output_type": "stream",
     "text": [
      "/home/bsmith16/.conda/envs/neuralsignature/lib/python3.8/site-packages/nilearn/signal.py:58: UserWarning: Standardization of 3D signal has been requested but would lead to zero values. Skipping.\n",
      "  warnings.warn('Standardization of 3D signal has been requested but '\n",
      "/home/bsmith16/.conda/envs/neuralsignature/lib/python3.8/site-packages/sklearn/metrics/_regression.py:682: UndefinedMetricWarning: R^2 score is not well-defined with less than two samples.\n",
      "  warnings.warn(msg, UndefinedMetricWarning)\n",
      "/home/bsmith16/.conda/envs/neuralsignature/lib/python3.8/site-packages/nilearn/signal.py:58: UserWarning: Standardization of 3D signal has been requested but would lead to zero values. Skipping.\n",
      "  warnings.warn('Standardization of 3D signal has been requested but '\n"
     ]
    },
    {
     "name": "stdout",
     "output_type": "stream",
     "text": [
      "test score was:. nan\n",
      "fold 4 of 40\n",
      "In order to test on a training group of 39 items, holding out the following subjects:['DEV023']. prepping fold data.... fitting.... 322.0 MiB. trying decoder 1 of 1. "
     ]
    },
    {
     "name": "stderr",
     "output_type": "stream",
     "text": [
      "/home/bsmith16/.conda/envs/neuralsignature/lib/python3.8/site-packages/nilearn/decoding/decoder.py:143: UserWarning: Use a custom estimator at your own risk of the process not working as intended.\n",
      "  warnings.warn('Use a custom estimator at your own risk '\n"
     ]
    },
    {
     "name": "stdout",
     "output_type": "stream",
     "text": [
      "predicting. "
     ]
    },
    {
     "name": "stderr",
     "output_type": "stream",
     "text": [
      "/home/bsmith16/.conda/envs/neuralsignature/lib/python3.8/site-packages/nilearn/signal.py:58: UserWarning: Standardization of 3D signal has been requested but would lead to zero values. Skipping.\n",
      "  warnings.warn('Standardization of 3D signal has been requested but '\n",
      "/home/bsmith16/.conda/envs/neuralsignature/lib/python3.8/site-packages/sklearn/metrics/_regression.py:682: UndefinedMetricWarning: R^2 score is not well-defined with less than two samples.\n",
      "  warnings.warn(msg, UndefinedMetricWarning)\n",
      "/home/bsmith16/.conda/envs/neuralsignature/lib/python3.8/site-packages/nilearn/signal.py:58: UserWarning: Standardization of 3D signal has been requested but would lead to zero values. Skipping.\n",
      "  warnings.warn('Standardization of 3D signal has been requested but '\n"
     ]
    },
    {
     "name": "stdout",
     "output_type": "stream",
     "text": [
      "test score was:. nan\n",
      "fold 5 of 40\n",
      "In order to test on a training group of 39 items, holding out the following subjects:['DEV015']. prepping fold data.... fitting.... 322.0 MiB. trying decoder 1 of 1. "
     ]
    },
    {
     "name": "stderr",
     "output_type": "stream",
     "text": [
      "/home/bsmith16/.conda/envs/neuralsignature/lib/python3.8/site-packages/nilearn/decoding/decoder.py:143: UserWarning: Use a custom estimator at your own risk of the process not working as intended.\n",
      "  warnings.warn('Use a custom estimator at your own risk '\n"
     ]
    },
    {
     "name": "stdout",
     "output_type": "stream",
     "text": [
      "predicting. "
     ]
    },
    {
     "name": "stderr",
     "output_type": "stream",
     "text": [
      "/home/bsmith16/.conda/envs/neuralsignature/lib/python3.8/site-packages/nilearn/signal.py:58: UserWarning: Standardization of 3D signal has been requested but would lead to zero values. Skipping.\n",
      "  warnings.warn('Standardization of 3D signal has been requested but '\n",
      "/home/bsmith16/.conda/envs/neuralsignature/lib/python3.8/site-packages/sklearn/metrics/_regression.py:682: UndefinedMetricWarning: R^2 score is not well-defined with less than two samples.\n",
      "  warnings.warn(msg, UndefinedMetricWarning)\n",
      "/home/bsmith16/.conda/envs/neuralsignature/lib/python3.8/site-packages/nilearn/signal.py:58: UserWarning: Standardization of 3D signal has been requested but would lead to zero values. Skipping.\n",
      "  warnings.warn('Standardization of 3D signal has been requested but '\n"
     ]
    },
    {
     "name": "stdout",
     "output_type": "stream",
     "text": [
      "test score was:. nan\n",
      "fold 6 of 40\n",
      "In order to test on a training group of 39 items, holding out the following subjects:['DEV048']. prepping fold data.... fitting.... 322.0 MiB. trying decoder 1 of 1. "
     ]
    },
    {
     "name": "stderr",
     "output_type": "stream",
     "text": [
      "/home/bsmith16/.conda/envs/neuralsignature/lib/python3.8/site-packages/nilearn/decoding/decoder.py:143: UserWarning: Use a custom estimator at your own risk of the process not working as intended.\n",
      "  warnings.warn('Use a custom estimator at your own risk '\n"
     ]
    },
    {
     "name": "stdout",
     "output_type": "stream",
     "text": [
      "predicting. "
     ]
    },
    {
     "name": "stderr",
     "output_type": "stream",
     "text": [
      "/home/bsmith16/.conda/envs/neuralsignature/lib/python3.8/site-packages/nilearn/signal.py:58: UserWarning: Standardization of 3D signal has been requested but would lead to zero values. Skipping.\n",
      "  warnings.warn('Standardization of 3D signal has been requested but '\n",
      "/home/bsmith16/.conda/envs/neuralsignature/lib/python3.8/site-packages/sklearn/metrics/_regression.py:682: UndefinedMetricWarning: R^2 score is not well-defined with less than two samples.\n",
      "  warnings.warn(msg, UndefinedMetricWarning)\n",
      "/home/bsmith16/.conda/envs/neuralsignature/lib/python3.8/site-packages/nilearn/signal.py:58: UserWarning: Standardization of 3D signal has been requested but would lead to zero values. Skipping.\n",
      "  warnings.warn('Standardization of 3D signal has been requested but '\n"
     ]
    },
    {
     "name": "stdout",
     "output_type": "stream",
     "text": [
      "test score was:. nan\n",
      "fold 7 of 40\n",
      "In order to test on a training group of 39 items, holding out the following subjects:['DEV057']. prepping fold data.... fitting.... 322.0 MiB. trying decoder 1 of 1. "
     ]
    },
    {
     "name": "stderr",
     "output_type": "stream",
     "text": [
      "/home/bsmith16/.conda/envs/neuralsignature/lib/python3.8/site-packages/nilearn/decoding/decoder.py:143: UserWarning: Use a custom estimator at your own risk of the process not working as intended.\n",
      "  warnings.warn('Use a custom estimator at your own risk '\n"
     ]
    },
    {
     "name": "stdout",
     "output_type": "stream",
     "text": [
      "predicting. "
     ]
    },
    {
     "name": "stderr",
     "output_type": "stream",
     "text": [
      "/home/bsmith16/.conda/envs/neuralsignature/lib/python3.8/site-packages/nilearn/signal.py:58: UserWarning: Standardization of 3D signal has been requested but would lead to zero values. Skipping.\n",
      "  warnings.warn('Standardization of 3D signal has been requested but '\n",
      "/home/bsmith16/.conda/envs/neuralsignature/lib/python3.8/site-packages/sklearn/metrics/_regression.py:682: UndefinedMetricWarning: R^2 score is not well-defined with less than two samples.\n",
      "  warnings.warn(msg, UndefinedMetricWarning)\n",
      "/home/bsmith16/.conda/envs/neuralsignature/lib/python3.8/site-packages/nilearn/signal.py:58: UserWarning: Standardization of 3D signal has been requested but would lead to zero values. Skipping.\n",
      "  warnings.warn('Standardization of 3D signal has been requested but '\n"
     ]
    },
    {
     "name": "stdout",
     "output_type": "stream",
     "text": [
      "test score was:. nan\n",
      "fold 8 of 40\n",
      "In order to test on a training group of 39 items, holding out the following subjects:['DEV018']. prepping fold data.... fitting.... 322.0 MiB. trying decoder 1 of 1. "
     ]
    },
    {
     "name": "stderr",
     "output_type": "stream",
     "text": [
      "/home/bsmith16/.conda/envs/neuralsignature/lib/python3.8/site-packages/nilearn/decoding/decoder.py:143: UserWarning: Use a custom estimator at your own risk of the process not working as intended.\n",
      "  warnings.warn('Use a custom estimator at your own risk '\n"
     ]
    },
    {
     "name": "stdout",
     "output_type": "stream",
     "text": [
      "predicting. "
     ]
    },
    {
     "name": "stderr",
     "output_type": "stream",
     "text": [
      "/home/bsmith16/.conda/envs/neuralsignature/lib/python3.8/site-packages/nilearn/signal.py:58: UserWarning: Standardization of 3D signal has been requested but would lead to zero values. Skipping.\n",
      "  warnings.warn('Standardization of 3D signal has been requested but '\n",
      "/home/bsmith16/.conda/envs/neuralsignature/lib/python3.8/site-packages/sklearn/metrics/_regression.py:682: UndefinedMetricWarning: R^2 score is not well-defined with less than two samples.\n",
      "  warnings.warn(msg, UndefinedMetricWarning)\n",
      "/home/bsmith16/.conda/envs/neuralsignature/lib/python3.8/site-packages/nilearn/signal.py:58: UserWarning: Standardization of 3D signal has been requested but would lead to zero values. Skipping.\n",
      "  warnings.warn('Standardization of 3D signal has been requested but '\n"
     ]
    },
    {
     "name": "stdout",
     "output_type": "stream",
     "text": [
      "test score was:. nan\n",
      "fold 9 of 40\n",
      "In order to test on a training group of 39 items, holding out the following subjects:['DEV016']. prepping fold data.... fitting.... 322.0 MiB. trying decoder 1 of 1. "
     ]
    },
    {
     "name": "stderr",
     "output_type": "stream",
     "text": [
      "/home/bsmith16/.conda/envs/neuralsignature/lib/python3.8/site-packages/nilearn/decoding/decoder.py:143: UserWarning: Use a custom estimator at your own risk of the process not working as intended.\n",
      "  warnings.warn('Use a custom estimator at your own risk '\n"
     ]
    },
    {
     "name": "stdout",
     "output_type": "stream",
     "text": [
      "predicting. "
     ]
    },
    {
     "name": "stderr",
     "output_type": "stream",
     "text": [
      "/home/bsmith16/.conda/envs/neuralsignature/lib/python3.8/site-packages/nilearn/signal.py:58: UserWarning: Standardization of 3D signal has been requested but would lead to zero values. Skipping.\n",
      "  warnings.warn('Standardization of 3D signal has been requested but '\n",
      "/home/bsmith16/.conda/envs/neuralsignature/lib/python3.8/site-packages/sklearn/metrics/_regression.py:682: UndefinedMetricWarning: R^2 score is not well-defined with less than two samples.\n",
      "  warnings.warn(msg, UndefinedMetricWarning)\n",
      "/home/bsmith16/.conda/envs/neuralsignature/lib/python3.8/site-packages/nilearn/signal.py:58: UserWarning: Standardization of 3D signal has been requested but would lead to zero values. Skipping.\n",
      "  warnings.warn('Standardization of 3D signal has been requested but '\n"
     ]
    },
    {
     "name": "stdout",
     "output_type": "stream",
     "text": [
      "test score was:. nan\n",
      "fold 10 of 40\n",
      "In order to test on a training group of 39 items, holding out the following subjects:['DEV041']. prepping fold data.... fitting.... 322.0 MiB. trying decoder 1 of 1. "
     ]
    },
    {
     "name": "stderr",
     "output_type": "stream",
     "text": [
      "/home/bsmith16/.conda/envs/neuralsignature/lib/python3.8/site-packages/nilearn/decoding/decoder.py:143: UserWarning: Use a custom estimator at your own risk of the process not working as intended.\n",
      "  warnings.warn('Use a custom estimator at your own risk '\n"
     ]
    },
    {
     "name": "stdout",
     "output_type": "stream",
     "text": [
      "predicting. "
     ]
    },
    {
     "name": "stderr",
     "output_type": "stream",
     "text": [
      "/home/bsmith16/.conda/envs/neuralsignature/lib/python3.8/site-packages/nilearn/signal.py:58: UserWarning: Standardization of 3D signal has been requested but would lead to zero values. Skipping.\n",
      "  warnings.warn('Standardization of 3D signal has been requested but '\n",
      "/home/bsmith16/.conda/envs/neuralsignature/lib/python3.8/site-packages/sklearn/metrics/_regression.py:682: UndefinedMetricWarning: R^2 score is not well-defined with less than two samples.\n",
      "  warnings.warn(msg, UndefinedMetricWarning)\n",
      "/home/bsmith16/.conda/envs/neuralsignature/lib/python3.8/site-packages/nilearn/signal.py:58: UserWarning: Standardization of 3D signal has been requested but would lead to zero values. Skipping.\n",
      "  warnings.warn('Standardization of 3D signal has been requested but '\n"
     ]
    },
    {
     "name": "stdout",
     "output_type": "stream",
     "text": [
      "test score was:. nan\n",
      "fold 11 of 40\n",
      "In order to test on a training group of 39 items, holding out the following subjects:['DEV052']. prepping fold data.... fitting.... 322.0 MiB. trying decoder 1 of 1. "
     ]
    },
    {
     "name": "stderr",
     "output_type": "stream",
     "text": [
      "/home/bsmith16/.conda/envs/neuralsignature/lib/python3.8/site-packages/nilearn/decoding/decoder.py:143: UserWarning: Use a custom estimator at your own risk of the process not working as intended.\n",
      "  warnings.warn('Use a custom estimator at your own risk '\n"
     ]
    },
    {
     "name": "stdout",
     "output_type": "stream",
     "text": [
      "predicting. "
     ]
    },
    {
     "name": "stderr",
     "output_type": "stream",
     "text": [
      "/home/bsmith16/.conda/envs/neuralsignature/lib/python3.8/site-packages/nilearn/signal.py:58: UserWarning: Standardization of 3D signal has been requested but would lead to zero values. Skipping.\n",
      "  warnings.warn('Standardization of 3D signal has been requested but '\n",
      "/home/bsmith16/.conda/envs/neuralsignature/lib/python3.8/site-packages/sklearn/metrics/_regression.py:682: UndefinedMetricWarning: R^2 score is not well-defined with less than two samples.\n",
      "  warnings.warn(msg, UndefinedMetricWarning)\n",
      "/home/bsmith16/.conda/envs/neuralsignature/lib/python3.8/site-packages/nilearn/signal.py:58: UserWarning: Standardization of 3D signal has been requested but would lead to zero values. Skipping.\n",
      "  warnings.warn('Standardization of 3D signal has been requested but '\n"
     ]
    },
    {
     "name": "stdout",
     "output_type": "stream",
     "text": [
      "test score was:. nan\n",
      "fold 12 of 40\n",
      "In order to test on a training group of 39 items, holding out the following subjects:['DEV006']. prepping fold data.... fitting.... 322.0 MiB. trying decoder 1 of 1. "
     ]
    },
    {
     "name": "stderr",
     "output_type": "stream",
     "text": [
      "/home/bsmith16/.conda/envs/neuralsignature/lib/python3.8/site-packages/nilearn/decoding/decoder.py:143: UserWarning: Use a custom estimator at your own risk of the process not working as intended.\n",
      "  warnings.warn('Use a custom estimator at your own risk '\n"
     ]
    },
    {
     "name": "stdout",
     "output_type": "stream",
     "text": [
      "predicting. "
     ]
    },
    {
     "name": "stderr",
     "output_type": "stream",
     "text": [
      "/home/bsmith16/.conda/envs/neuralsignature/lib/python3.8/site-packages/nilearn/signal.py:58: UserWarning: Standardization of 3D signal has been requested but would lead to zero values. Skipping.\n",
      "  warnings.warn('Standardization of 3D signal has been requested but '\n",
      "/home/bsmith16/.conda/envs/neuralsignature/lib/python3.8/site-packages/sklearn/metrics/_regression.py:682: UndefinedMetricWarning: R^2 score is not well-defined with less than two samples.\n",
      "  warnings.warn(msg, UndefinedMetricWarning)\n",
      "/home/bsmith16/.conda/envs/neuralsignature/lib/python3.8/site-packages/nilearn/signal.py:58: UserWarning: Standardization of 3D signal has been requested but would lead to zero values. Skipping.\n",
      "  warnings.warn('Standardization of 3D signal has been requested but '\n"
     ]
    },
    {
     "name": "stdout",
     "output_type": "stream",
     "text": [
      "test score was:. nan\n",
      "fold 13 of 40\n",
      "In order to test on a training group of 39 items, holding out the following subjects:['DEV019']. prepping fold data.... fitting.... 322.0 MiB. trying decoder 1 of 1. "
     ]
    },
    {
     "name": "stderr",
     "output_type": "stream",
     "text": [
      "/home/bsmith16/.conda/envs/neuralsignature/lib/python3.8/site-packages/nilearn/decoding/decoder.py:143: UserWarning: Use a custom estimator at your own risk of the process not working as intended.\n",
      "  warnings.warn('Use a custom estimator at your own risk '\n"
     ]
    },
    {
     "name": "stdout",
     "output_type": "stream",
     "text": [
      "predicting. "
     ]
    },
    {
     "name": "stderr",
     "output_type": "stream",
     "text": [
      "/home/bsmith16/.conda/envs/neuralsignature/lib/python3.8/site-packages/nilearn/signal.py:58: UserWarning: Standardization of 3D signal has been requested but would lead to zero values. Skipping.\n",
      "  warnings.warn('Standardization of 3D signal has been requested but '\n",
      "/home/bsmith16/.conda/envs/neuralsignature/lib/python3.8/site-packages/sklearn/metrics/_regression.py:682: UndefinedMetricWarning: R^2 score is not well-defined with less than two samples.\n",
      "  warnings.warn(msg, UndefinedMetricWarning)\n",
      "/home/bsmith16/.conda/envs/neuralsignature/lib/python3.8/site-packages/nilearn/signal.py:58: UserWarning: Standardization of 3D signal has been requested but would lead to zero values. Skipping.\n",
      "  warnings.warn('Standardization of 3D signal has been requested but '\n"
     ]
    },
    {
     "name": "stdout",
     "output_type": "stream",
     "text": [
      "test score was:. nan\n",
      "fold 14 of 40\n",
      "In order to test on a training group of 39 items, holding out the following subjects:['DEV014']. prepping fold data.... fitting.... 322.0 MiB. trying decoder 1 of 1. "
     ]
    },
    {
     "name": "stderr",
     "output_type": "stream",
     "text": [
      "/home/bsmith16/.conda/envs/neuralsignature/lib/python3.8/site-packages/nilearn/decoding/decoder.py:143: UserWarning: Use a custom estimator at your own risk of the process not working as intended.\n",
      "  warnings.warn('Use a custom estimator at your own risk '\n"
     ]
    },
    {
     "name": "stdout",
     "output_type": "stream",
     "text": [
      "predicting. "
     ]
    },
    {
     "name": "stderr",
     "output_type": "stream",
     "text": [
      "/home/bsmith16/.conda/envs/neuralsignature/lib/python3.8/site-packages/nilearn/signal.py:58: UserWarning: Standardization of 3D signal has been requested but would lead to zero values. Skipping.\n",
      "  warnings.warn('Standardization of 3D signal has been requested but '\n",
      "/home/bsmith16/.conda/envs/neuralsignature/lib/python3.8/site-packages/sklearn/metrics/_regression.py:682: UndefinedMetricWarning: R^2 score is not well-defined with less than two samples.\n",
      "  warnings.warn(msg, UndefinedMetricWarning)\n",
      "/home/bsmith16/.conda/envs/neuralsignature/lib/python3.8/site-packages/nilearn/signal.py:58: UserWarning: Standardization of 3D signal has been requested but would lead to zero values. Skipping.\n",
      "  warnings.warn('Standardization of 3D signal has been requested but '\n"
     ]
    },
    {
     "name": "stdout",
     "output_type": "stream",
     "text": [
      "test score was:. nan\n",
      "fold 15 of 40\n",
      "In order to test on a training group of 39 items, holding out the following subjects:['DEV046']. prepping fold data.... fitting.... 322.0 MiB. trying decoder 1 of 1. "
     ]
    },
    {
     "name": "stderr",
     "output_type": "stream",
     "text": [
      "/home/bsmith16/.conda/envs/neuralsignature/lib/python3.8/site-packages/nilearn/decoding/decoder.py:143: UserWarning: Use a custom estimator at your own risk of the process not working as intended.\n",
      "  warnings.warn('Use a custom estimator at your own risk '\n"
     ]
    },
    {
     "name": "stdout",
     "output_type": "stream",
     "text": [
      "predicting. "
     ]
    },
    {
     "name": "stderr",
     "output_type": "stream",
     "text": [
      "/home/bsmith16/.conda/envs/neuralsignature/lib/python3.8/site-packages/nilearn/signal.py:58: UserWarning: Standardization of 3D signal has been requested but would lead to zero values. Skipping.\n",
      "  warnings.warn('Standardization of 3D signal has been requested but '\n",
      "/home/bsmith16/.conda/envs/neuralsignature/lib/python3.8/site-packages/sklearn/metrics/_regression.py:682: UndefinedMetricWarning: R^2 score is not well-defined with less than two samples.\n",
      "  warnings.warn(msg, UndefinedMetricWarning)\n",
      "/home/bsmith16/.conda/envs/neuralsignature/lib/python3.8/site-packages/nilearn/signal.py:58: UserWarning: Standardization of 3D signal has been requested but would lead to zero values. Skipping.\n",
      "  warnings.warn('Standardization of 3D signal has been requested but '\n"
     ]
    },
    {
     "name": "stdout",
     "output_type": "stream",
     "text": [
      "test score was:. nan\n",
      "fold 16 of 40\n",
      "In order to test on a training group of 39 items, holding out the following subjects:['DEV055']. prepping fold data.... fitting.... 322.0 MiB. trying decoder 1 of 1. "
     ]
    },
    {
     "name": "stderr",
     "output_type": "stream",
     "text": [
      "/home/bsmith16/.conda/envs/neuralsignature/lib/python3.8/site-packages/nilearn/decoding/decoder.py:143: UserWarning: Use a custom estimator at your own risk of the process not working as intended.\n",
      "  warnings.warn('Use a custom estimator at your own risk '\n"
     ]
    },
    {
     "name": "stdout",
     "output_type": "stream",
     "text": [
      "predicting. "
     ]
    },
    {
     "name": "stderr",
     "output_type": "stream",
     "text": [
      "/home/bsmith16/.conda/envs/neuralsignature/lib/python3.8/site-packages/nilearn/signal.py:58: UserWarning: Standardization of 3D signal has been requested but would lead to zero values. Skipping.\n",
      "  warnings.warn('Standardization of 3D signal has been requested but '\n",
      "/home/bsmith16/.conda/envs/neuralsignature/lib/python3.8/site-packages/sklearn/metrics/_regression.py:682: UndefinedMetricWarning: R^2 score is not well-defined with less than two samples.\n",
      "  warnings.warn(msg, UndefinedMetricWarning)\n",
      "/home/bsmith16/.conda/envs/neuralsignature/lib/python3.8/site-packages/nilearn/signal.py:58: UserWarning: Standardization of 3D signal has been requested but would lead to zero values. Skipping.\n",
      "  warnings.warn('Standardization of 3D signal has been requested but '\n"
     ]
    },
    {
     "name": "stdout",
     "output_type": "stream",
     "text": [
      "test score was:. nan\n",
      "fold 17 of 40\n",
      "In order to test on a training group of 39 items, holding out the following subjects:['DEV040']. prepping fold data.... fitting.... 322.0 MiB. trying decoder 1 of 1. "
     ]
    },
    {
     "name": "stderr",
     "output_type": "stream",
     "text": [
      "/home/bsmith16/.conda/envs/neuralsignature/lib/python3.8/site-packages/nilearn/decoding/decoder.py:143: UserWarning: Use a custom estimator at your own risk of the process not working as intended.\n",
      "  warnings.warn('Use a custom estimator at your own risk '\n"
     ]
    },
    {
     "name": "stdout",
     "output_type": "stream",
     "text": [
      "predicting. "
     ]
    },
    {
     "name": "stderr",
     "output_type": "stream",
     "text": [
      "/home/bsmith16/.conda/envs/neuralsignature/lib/python3.8/site-packages/nilearn/signal.py:58: UserWarning: Standardization of 3D signal has been requested but would lead to zero values. Skipping.\n",
      "  warnings.warn('Standardization of 3D signal has been requested but '\n",
      "/home/bsmith16/.conda/envs/neuralsignature/lib/python3.8/site-packages/sklearn/metrics/_regression.py:682: UndefinedMetricWarning: R^2 score is not well-defined with less than two samples.\n",
      "  warnings.warn(msg, UndefinedMetricWarning)\n",
      "/home/bsmith16/.conda/envs/neuralsignature/lib/python3.8/site-packages/nilearn/signal.py:58: UserWarning: Standardization of 3D signal has been requested but would lead to zero values. Skipping.\n",
      "  warnings.warn('Standardization of 3D signal has been requested but '\n"
     ]
    },
    {
     "name": "stdout",
     "output_type": "stream",
     "text": [
      "test score was:. nan\n",
      "fold 18 of 40\n",
      "In order to test on a training group of 39 items, holding out the following subjects:['DEV039']. prepping fold data.... fitting.... 322.0 MiB. trying decoder 1 of 1. "
     ]
    },
    {
     "name": "stderr",
     "output_type": "stream",
     "text": [
      "/home/bsmith16/.conda/envs/neuralsignature/lib/python3.8/site-packages/nilearn/decoding/decoder.py:143: UserWarning: Use a custom estimator at your own risk of the process not working as intended.\n",
      "  warnings.warn('Use a custom estimator at your own risk '\n"
     ]
    },
    {
     "name": "stdout",
     "output_type": "stream",
     "text": [
      "predicting. "
     ]
    },
    {
     "name": "stderr",
     "output_type": "stream",
     "text": [
      "/home/bsmith16/.conda/envs/neuralsignature/lib/python3.8/site-packages/nilearn/signal.py:58: UserWarning: Standardization of 3D signal has been requested but would lead to zero values. Skipping.\n",
      "  warnings.warn('Standardization of 3D signal has been requested but '\n",
      "/home/bsmith16/.conda/envs/neuralsignature/lib/python3.8/site-packages/sklearn/metrics/_regression.py:682: UndefinedMetricWarning: R^2 score is not well-defined with less than two samples.\n",
      "  warnings.warn(msg, UndefinedMetricWarning)\n",
      "/home/bsmith16/.conda/envs/neuralsignature/lib/python3.8/site-packages/nilearn/signal.py:58: UserWarning: Standardization of 3D signal has been requested but would lead to zero values. Skipping.\n",
      "  warnings.warn('Standardization of 3D signal has been requested but '\n"
     ]
    },
    {
     "name": "stdout",
     "output_type": "stream",
     "text": [
      "test score was:. nan\n",
      "fold 19 of 40\n",
      "In order to test on a training group of 39 items, holding out the following subjects:['DEV042']. prepping fold data.... fitting.... 322.0 MiB. trying decoder 1 of 1. "
     ]
    },
    {
     "name": "stderr",
     "output_type": "stream",
     "text": [
      "/home/bsmith16/.conda/envs/neuralsignature/lib/python3.8/site-packages/nilearn/decoding/decoder.py:143: UserWarning: Use a custom estimator at your own risk of the process not working as intended.\n",
      "  warnings.warn('Use a custom estimator at your own risk '\n"
     ]
    },
    {
     "name": "stdout",
     "output_type": "stream",
     "text": [
      "predicting. "
     ]
    },
    {
     "name": "stderr",
     "output_type": "stream",
     "text": [
      "/home/bsmith16/.conda/envs/neuralsignature/lib/python3.8/site-packages/nilearn/signal.py:58: UserWarning: Standardization of 3D signal has been requested but would lead to zero values. Skipping.\n",
      "  warnings.warn('Standardization of 3D signal has been requested but '\n",
      "/home/bsmith16/.conda/envs/neuralsignature/lib/python3.8/site-packages/sklearn/metrics/_regression.py:682: UndefinedMetricWarning: R^2 score is not well-defined with less than two samples.\n",
      "  warnings.warn(msg, UndefinedMetricWarning)\n",
      "/home/bsmith16/.conda/envs/neuralsignature/lib/python3.8/site-packages/nilearn/signal.py:58: UserWarning: Standardization of 3D signal has been requested but would lead to zero values. Skipping.\n",
      "  warnings.warn('Standardization of 3D signal has been requested but '\n"
     ]
    },
    {
     "name": "stdout",
     "output_type": "stream",
     "text": [
      "test score was:. nan\n",
      "fold 20 of 40\n",
      "In order to test on a training group of 39 items, holding out the following subjects:['DEV034']. prepping fold data.... fitting.... 322.0 MiB. trying decoder 1 of 1. "
     ]
    },
    {
     "name": "stderr",
     "output_type": "stream",
     "text": [
      "/home/bsmith16/.conda/envs/neuralsignature/lib/python3.8/site-packages/nilearn/decoding/decoder.py:143: UserWarning: Use a custom estimator at your own risk of the process not working as intended.\n",
      "  warnings.warn('Use a custom estimator at your own risk '\n"
     ]
    },
    {
     "name": "stdout",
     "output_type": "stream",
     "text": [
      "predicting. "
     ]
    },
    {
     "name": "stderr",
     "output_type": "stream",
     "text": [
      "/home/bsmith16/.conda/envs/neuralsignature/lib/python3.8/site-packages/nilearn/signal.py:58: UserWarning: Standardization of 3D signal has been requested but would lead to zero values. Skipping.\n",
      "  warnings.warn('Standardization of 3D signal has been requested but '\n",
      "/home/bsmith16/.conda/envs/neuralsignature/lib/python3.8/site-packages/sklearn/metrics/_regression.py:682: UndefinedMetricWarning: R^2 score is not well-defined with less than two samples.\n",
      "  warnings.warn(msg, UndefinedMetricWarning)\n",
      "/home/bsmith16/.conda/envs/neuralsignature/lib/python3.8/site-packages/nilearn/signal.py:58: UserWarning: Standardization of 3D signal has been requested but would lead to zero values. Skipping.\n",
      "  warnings.warn('Standardization of 3D signal has been requested but '\n"
     ]
    },
    {
     "name": "stdout",
     "output_type": "stream",
     "text": [
      "test score was:. nan\n",
      "fold 21 of 40\n",
      "In order to test on a training group of 39 items, holding out the following subjects:['DEV030']. prepping fold data.... fitting.... 322.0 MiB. trying decoder 1 of 1. "
     ]
    },
    {
     "name": "stderr",
     "output_type": "stream",
     "text": [
      "/home/bsmith16/.conda/envs/neuralsignature/lib/python3.8/site-packages/nilearn/decoding/decoder.py:143: UserWarning: Use a custom estimator at your own risk of the process not working as intended.\n",
      "  warnings.warn('Use a custom estimator at your own risk '\n"
     ]
    },
    {
     "name": "stdout",
     "output_type": "stream",
     "text": [
      "predicting. "
     ]
    },
    {
     "name": "stderr",
     "output_type": "stream",
     "text": [
      "/home/bsmith16/.conda/envs/neuralsignature/lib/python3.8/site-packages/nilearn/signal.py:58: UserWarning: Standardization of 3D signal has been requested but would lead to zero values. Skipping.\n",
      "  warnings.warn('Standardization of 3D signal has been requested but '\n",
      "/home/bsmith16/.conda/envs/neuralsignature/lib/python3.8/site-packages/sklearn/metrics/_regression.py:682: UndefinedMetricWarning: R^2 score is not well-defined with less than two samples.\n",
      "  warnings.warn(msg, UndefinedMetricWarning)\n",
      "/home/bsmith16/.conda/envs/neuralsignature/lib/python3.8/site-packages/nilearn/signal.py:58: UserWarning: Standardization of 3D signal has been requested but would lead to zero values. Skipping.\n",
      "  warnings.warn('Standardization of 3D signal has been requested but '\n"
     ]
    },
    {
     "name": "stdout",
     "output_type": "stream",
     "text": [
      "test score was:. nan\n",
      "fold 22 of 40\n",
      "In order to test on a training group of 39 items, holding out the following subjects:['DEV043']. prepping fold data.... fitting.... 322.0 MiB. trying decoder 1 of 1. "
     ]
    },
    {
     "name": "stderr",
     "output_type": "stream",
     "text": [
      "/home/bsmith16/.conda/envs/neuralsignature/lib/python3.8/site-packages/nilearn/decoding/decoder.py:143: UserWarning: Use a custom estimator at your own risk of the process not working as intended.\n",
      "  warnings.warn('Use a custom estimator at your own risk '\n"
     ]
    },
    {
     "name": "stdout",
     "output_type": "stream",
     "text": [
      "predicting. "
     ]
    },
    {
     "name": "stderr",
     "output_type": "stream",
     "text": [
      "/home/bsmith16/.conda/envs/neuralsignature/lib/python3.8/site-packages/nilearn/signal.py:58: UserWarning: Standardization of 3D signal has been requested but would lead to zero values. Skipping.\n",
      "  warnings.warn('Standardization of 3D signal has been requested but '\n",
      "/home/bsmith16/.conda/envs/neuralsignature/lib/python3.8/site-packages/sklearn/metrics/_regression.py:682: UndefinedMetricWarning: R^2 score is not well-defined with less than two samples.\n",
      "  warnings.warn(msg, UndefinedMetricWarning)\n",
      "/home/bsmith16/.conda/envs/neuralsignature/lib/python3.8/site-packages/nilearn/signal.py:58: UserWarning: Standardization of 3D signal has been requested but would lead to zero values. Skipping.\n",
      "  warnings.warn('Standardization of 3D signal has been requested but '\n"
     ]
    },
    {
     "name": "stdout",
     "output_type": "stream",
     "text": [
      "test score was:. nan\n",
      "fold 23 of 40\n",
      "In order to test on a training group of 39 items, holding out the following subjects:['DEV051']. prepping fold data.... fitting.... 322.0 MiB. trying decoder 1 of 1. "
     ]
    },
    {
     "name": "stderr",
     "output_type": "stream",
     "text": [
      "/home/bsmith16/.conda/envs/neuralsignature/lib/python3.8/site-packages/nilearn/decoding/decoder.py:143: UserWarning: Use a custom estimator at your own risk of the process not working as intended.\n",
      "  warnings.warn('Use a custom estimator at your own risk '\n"
     ]
    },
    {
     "name": "stdout",
     "output_type": "stream",
     "text": [
      "predicting. "
     ]
    },
    {
     "name": "stderr",
     "output_type": "stream",
     "text": [
      "/home/bsmith16/.conda/envs/neuralsignature/lib/python3.8/site-packages/nilearn/signal.py:58: UserWarning: Standardization of 3D signal has been requested but would lead to zero values. Skipping.\n",
      "  warnings.warn('Standardization of 3D signal has been requested but '\n",
      "/home/bsmith16/.conda/envs/neuralsignature/lib/python3.8/site-packages/sklearn/metrics/_regression.py:682: UndefinedMetricWarning: R^2 score is not well-defined with less than two samples.\n",
      "  warnings.warn(msg, UndefinedMetricWarning)\n",
      "/home/bsmith16/.conda/envs/neuralsignature/lib/python3.8/site-packages/nilearn/signal.py:58: UserWarning: Standardization of 3D signal has been requested but would lead to zero values. Skipping.\n",
      "  warnings.warn('Standardization of 3D signal has been requested but '\n"
     ]
    },
    {
     "name": "stdout",
     "output_type": "stream",
     "text": [
      "test score was:. nan\n",
      "fold 24 of 40\n",
      "In order to test on a training group of 39 items, holding out the following subjects:['DEV027']. prepping fold data.... fitting.... 322.0 MiB. trying decoder 1 of 1. "
     ]
    },
    {
     "name": "stderr",
     "output_type": "stream",
     "text": [
      "/home/bsmith16/.conda/envs/neuralsignature/lib/python3.8/site-packages/nilearn/decoding/decoder.py:143: UserWarning: Use a custom estimator at your own risk of the process not working as intended.\n",
      "  warnings.warn('Use a custom estimator at your own risk '\n"
     ]
    },
    {
     "name": "stdout",
     "output_type": "stream",
     "text": [
      "predicting. "
     ]
    },
    {
     "name": "stderr",
     "output_type": "stream",
     "text": [
      "/home/bsmith16/.conda/envs/neuralsignature/lib/python3.8/site-packages/nilearn/signal.py:58: UserWarning: Standardization of 3D signal has been requested but would lead to zero values. Skipping.\n",
      "  warnings.warn('Standardization of 3D signal has been requested but '\n",
      "/home/bsmith16/.conda/envs/neuralsignature/lib/python3.8/site-packages/sklearn/metrics/_regression.py:682: UndefinedMetricWarning: R^2 score is not well-defined with less than two samples.\n",
      "  warnings.warn(msg, UndefinedMetricWarning)\n",
      "/home/bsmith16/.conda/envs/neuralsignature/lib/python3.8/site-packages/nilearn/signal.py:58: UserWarning: Standardization of 3D signal has been requested but would lead to zero values. Skipping.\n",
      "  warnings.warn('Standardization of 3D signal has been requested but '\n"
     ]
    },
    {
     "name": "stdout",
     "output_type": "stream",
     "text": [
      "test score was:. nan\n",
      "fold 25 of 40\n",
      "In order to test on a training group of 39 items, holding out the following subjects:['DEV049']. prepping fold data.... fitting.... 322.0 MiB. trying decoder 1 of 1. "
     ]
    },
    {
     "name": "stderr",
     "output_type": "stream",
     "text": [
      "/home/bsmith16/.conda/envs/neuralsignature/lib/python3.8/site-packages/nilearn/decoding/decoder.py:143: UserWarning: Use a custom estimator at your own risk of the process not working as intended.\n",
      "  warnings.warn('Use a custom estimator at your own risk '\n"
     ]
    },
    {
     "name": "stdout",
     "output_type": "stream",
     "text": [
      "predicting. "
     ]
    },
    {
     "name": "stderr",
     "output_type": "stream",
     "text": [
      "/home/bsmith16/.conda/envs/neuralsignature/lib/python3.8/site-packages/nilearn/signal.py:58: UserWarning: Standardization of 3D signal has been requested but would lead to zero values. Skipping.\n",
      "  warnings.warn('Standardization of 3D signal has been requested but '\n",
      "/home/bsmith16/.conda/envs/neuralsignature/lib/python3.8/site-packages/sklearn/metrics/_regression.py:682: UndefinedMetricWarning: R^2 score is not well-defined with less than two samples.\n",
      "  warnings.warn(msg, UndefinedMetricWarning)\n",
      "/home/bsmith16/.conda/envs/neuralsignature/lib/python3.8/site-packages/nilearn/signal.py:58: UserWarning: Standardization of 3D signal has been requested but would lead to zero values. Skipping.\n",
      "  warnings.warn('Standardization of 3D signal has been requested but '\n"
     ]
    },
    {
     "name": "stdout",
     "output_type": "stream",
     "text": [
      "test score was:. nan\n",
      "fold 26 of 40\n",
      "In order to test on a training group of 39 items, holding out the following subjects:['DEV013']. prepping fold data.... fitting.... 322.0 MiB. trying decoder 1 of 1. "
     ]
    },
    {
     "name": "stderr",
     "output_type": "stream",
     "text": [
      "/home/bsmith16/.conda/envs/neuralsignature/lib/python3.8/site-packages/nilearn/decoding/decoder.py:143: UserWarning: Use a custom estimator at your own risk of the process not working as intended.\n",
      "  warnings.warn('Use a custom estimator at your own risk '\n"
     ]
    },
    {
     "name": "stdout",
     "output_type": "stream",
     "text": [
      "predicting. "
     ]
    },
    {
     "name": "stderr",
     "output_type": "stream",
     "text": [
      "/home/bsmith16/.conda/envs/neuralsignature/lib/python3.8/site-packages/nilearn/signal.py:58: UserWarning: Standardization of 3D signal has been requested but would lead to zero values. Skipping.\n",
      "  warnings.warn('Standardization of 3D signal has been requested but '\n",
      "/home/bsmith16/.conda/envs/neuralsignature/lib/python3.8/site-packages/sklearn/metrics/_regression.py:682: UndefinedMetricWarning: R^2 score is not well-defined with less than two samples.\n",
      "  warnings.warn(msg, UndefinedMetricWarning)\n",
      "/home/bsmith16/.conda/envs/neuralsignature/lib/python3.8/site-packages/nilearn/signal.py:58: UserWarning: Standardization of 3D signal has been requested but would lead to zero values. Skipping.\n",
      "  warnings.warn('Standardization of 3D signal has been requested but '\n"
     ]
    },
    {
     "name": "stdout",
     "output_type": "stream",
     "text": [
      "test score was:. nan\n",
      "fold 27 of 40\n",
      "In order to test on a training group of 39 items, holding out the following subjects:['DEV058']. prepping fold data.... fitting.... 322.0 MiB. trying decoder 1 of 1. "
     ]
    },
    {
     "name": "stderr",
     "output_type": "stream",
     "text": [
      "/home/bsmith16/.conda/envs/neuralsignature/lib/python3.8/site-packages/nilearn/decoding/decoder.py:143: UserWarning: Use a custom estimator at your own risk of the process not working as intended.\n",
      "  warnings.warn('Use a custom estimator at your own risk '\n"
     ]
    },
    {
     "name": "stdout",
     "output_type": "stream",
     "text": [
      "predicting. "
     ]
    },
    {
     "name": "stderr",
     "output_type": "stream",
     "text": [
      "/home/bsmith16/.conda/envs/neuralsignature/lib/python3.8/site-packages/nilearn/signal.py:58: UserWarning: Standardization of 3D signal has been requested but would lead to zero values. Skipping.\n",
      "  warnings.warn('Standardization of 3D signal has been requested but '\n",
      "/home/bsmith16/.conda/envs/neuralsignature/lib/python3.8/site-packages/sklearn/metrics/_regression.py:682: UndefinedMetricWarning: R^2 score is not well-defined with less than two samples.\n",
      "  warnings.warn(msg, UndefinedMetricWarning)\n",
      "/home/bsmith16/.conda/envs/neuralsignature/lib/python3.8/site-packages/nilearn/signal.py:58: UserWarning: Standardization of 3D signal has been requested but would lead to zero values. Skipping.\n",
      "  warnings.warn('Standardization of 3D signal has been requested but '\n"
     ]
    },
    {
     "name": "stdout",
     "output_type": "stream",
     "text": [
      "test score was:. nan\n",
      "fold 28 of 40\n",
      "In order to test on a training group of 39 items, holding out the following subjects:['DEV060']. prepping fold data.... fitting.... 322.0 MiB. trying decoder 1 of 1. "
     ]
    },
    {
     "name": "stderr",
     "output_type": "stream",
     "text": [
      "/home/bsmith16/.conda/envs/neuralsignature/lib/python3.8/site-packages/nilearn/decoding/decoder.py:143: UserWarning: Use a custom estimator at your own risk of the process not working as intended.\n",
      "  warnings.warn('Use a custom estimator at your own risk '\n"
     ]
    },
    {
     "name": "stdout",
     "output_type": "stream",
     "text": [
      "predicting. "
     ]
    },
    {
     "name": "stderr",
     "output_type": "stream",
     "text": [
      "/home/bsmith16/.conda/envs/neuralsignature/lib/python3.8/site-packages/nilearn/signal.py:58: UserWarning: Standardization of 3D signal has been requested but would lead to zero values. Skipping.\n",
      "  warnings.warn('Standardization of 3D signal has been requested but '\n",
      "/home/bsmith16/.conda/envs/neuralsignature/lib/python3.8/site-packages/sklearn/metrics/_regression.py:682: UndefinedMetricWarning: R^2 score is not well-defined with less than two samples.\n",
      "  warnings.warn(msg, UndefinedMetricWarning)\n",
      "/home/bsmith16/.conda/envs/neuralsignature/lib/python3.8/site-packages/nilearn/signal.py:58: UserWarning: Standardization of 3D signal has been requested but would lead to zero values. Skipping.\n",
      "  warnings.warn('Standardization of 3D signal has been requested but '\n"
     ]
    },
    {
     "name": "stdout",
     "output_type": "stream",
     "text": [
      "test score was:. nan\n",
      "fold 29 of 40\n",
      "In order to test on a training group of 39 items, holding out the following subjects:['DEV028']. prepping fold data.... fitting.... 322.0 MiB. trying decoder 1 of 1. "
     ]
    },
    {
     "name": "stderr",
     "output_type": "stream",
     "text": [
      "/home/bsmith16/.conda/envs/neuralsignature/lib/python3.8/site-packages/nilearn/decoding/decoder.py:143: UserWarning: Use a custom estimator at your own risk of the process not working as intended.\n",
      "  warnings.warn('Use a custom estimator at your own risk '\n"
     ]
    },
    {
     "name": "stdout",
     "output_type": "stream",
     "text": [
      "predicting. "
     ]
    },
    {
     "name": "stderr",
     "output_type": "stream",
     "text": [
      "/home/bsmith16/.conda/envs/neuralsignature/lib/python3.8/site-packages/nilearn/signal.py:58: UserWarning: Standardization of 3D signal has been requested but would lead to zero values. Skipping.\n",
      "  warnings.warn('Standardization of 3D signal has been requested but '\n",
      "/home/bsmith16/.conda/envs/neuralsignature/lib/python3.8/site-packages/sklearn/metrics/_regression.py:682: UndefinedMetricWarning: R^2 score is not well-defined with less than two samples.\n",
      "  warnings.warn(msg, UndefinedMetricWarning)\n",
      "/home/bsmith16/.conda/envs/neuralsignature/lib/python3.8/site-packages/nilearn/signal.py:58: UserWarning: Standardization of 3D signal has been requested but would lead to zero values. Skipping.\n",
      "  warnings.warn('Standardization of 3D signal has been requested but '\n"
     ]
    },
    {
     "name": "stdout",
     "output_type": "stream",
     "text": [
      "test score was:. nan\n",
      "fold 30 of 40\n",
      "In order to test on a training group of 39 items, holding out the following subjects:['DEV029']. prepping fold data.... fitting.... 322.0 MiB. trying decoder 1 of 1. "
     ]
    },
    {
     "name": "stderr",
     "output_type": "stream",
     "text": [
      "/home/bsmith16/.conda/envs/neuralsignature/lib/python3.8/site-packages/nilearn/decoding/decoder.py:143: UserWarning: Use a custom estimator at your own risk of the process not working as intended.\n",
      "  warnings.warn('Use a custom estimator at your own risk '\n"
     ]
    },
    {
     "name": "stdout",
     "output_type": "stream",
     "text": [
      "predicting. "
     ]
    },
    {
     "name": "stderr",
     "output_type": "stream",
     "text": [
      "/home/bsmith16/.conda/envs/neuralsignature/lib/python3.8/site-packages/nilearn/signal.py:58: UserWarning: Standardization of 3D signal has been requested but would lead to zero values. Skipping.\n",
      "  warnings.warn('Standardization of 3D signal has been requested but '\n",
      "/home/bsmith16/.conda/envs/neuralsignature/lib/python3.8/site-packages/sklearn/metrics/_regression.py:682: UndefinedMetricWarning: R^2 score is not well-defined with less than two samples.\n",
      "  warnings.warn(msg, UndefinedMetricWarning)\n",
      "/home/bsmith16/.conda/envs/neuralsignature/lib/python3.8/site-packages/nilearn/signal.py:58: UserWarning: Standardization of 3D signal has been requested but would lead to zero values. Skipping.\n",
      "  warnings.warn('Standardization of 3D signal has been requested but '\n"
     ]
    },
    {
     "name": "stdout",
     "output_type": "stream",
     "text": [
      "test score was:. nan\n",
      "fold 31 of 40\n",
      "In order to test on a training group of 39 items, holding out the following subjects:['DEV017']. prepping fold data.... fitting.... 322.0 MiB. trying decoder 1 of 1. "
     ]
    },
    {
     "name": "stderr",
     "output_type": "stream",
     "text": [
      "/home/bsmith16/.conda/envs/neuralsignature/lib/python3.8/site-packages/nilearn/decoding/decoder.py:143: UserWarning: Use a custom estimator at your own risk of the process not working as intended.\n",
      "  warnings.warn('Use a custom estimator at your own risk '\n"
     ]
    },
    {
     "name": "stdout",
     "output_type": "stream",
     "text": [
      "predicting. "
     ]
    },
    {
     "name": "stderr",
     "output_type": "stream",
     "text": [
      "/home/bsmith16/.conda/envs/neuralsignature/lib/python3.8/site-packages/nilearn/signal.py:58: UserWarning: Standardization of 3D signal has been requested but would lead to zero values. Skipping.\n",
      "  warnings.warn('Standardization of 3D signal has been requested but '\n",
      "/home/bsmith16/.conda/envs/neuralsignature/lib/python3.8/site-packages/sklearn/metrics/_regression.py:682: UndefinedMetricWarning: R^2 score is not well-defined with less than two samples.\n",
      "  warnings.warn(msg, UndefinedMetricWarning)\n",
      "/home/bsmith16/.conda/envs/neuralsignature/lib/python3.8/site-packages/nilearn/signal.py:58: UserWarning: Standardization of 3D signal has been requested but would lead to zero values. Skipping.\n",
      "  warnings.warn('Standardization of 3D signal has been requested but '\n"
     ]
    },
    {
     "name": "stdout",
     "output_type": "stream",
     "text": [
      "test score was:. nan\n",
      "fold 32 of 40\n",
      "In order to test on a training group of 39 items, holding out the following subjects:['DEV010']. prepping fold data.... fitting.... 322.0 MiB. trying decoder 1 of 1. "
     ]
    },
    {
     "name": "stderr",
     "output_type": "stream",
     "text": [
      "/home/bsmith16/.conda/envs/neuralsignature/lib/python3.8/site-packages/nilearn/decoding/decoder.py:143: UserWarning: Use a custom estimator at your own risk of the process not working as intended.\n",
      "  warnings.warn('Use a custom estimator at your own risk '\n"
     ]
    },
    {
     "name": "stdout",
     "output_type": "stream",
     "text": [
      "predicting. "
     ]
    },
    {
     "name": "stderr",
     "output_type": "stream",
     "text": [
      "/home/bsmith16/.conda/envs/neuralsignature/lib/python3.8/site-packages/nilearn/signal.py:58: UserWarning: Standardization of 3D signal has been requested but would lead to zero values. Skipping.\n",
      "  warnings.warn('Standardization of 3D signal has been requested but '\n",
      "/home/bsmith16/.conda/envs/neuralsignature/lib/python3.8/site-packages/sklearn/metrics/_regression.py:682: UndefinedMetricWarning: R^2 score is not well-defined with less than two samples.\n",
      "  warnings.warn(msg, UndefinedMetricWarning)\n",
      "/home/bsmith16/.conda/envs/neuralsignature/lib/python3.8/site-packages/nilearn/signal.py:58: UserWarning: Standardization of 3D signal has been requested but would lead to zero values. Skipping.\n",
      "  warnings.warn('Standardization of 3D signal has been requested but '\n"
     ]
    },
    {
     "name": "stdout",
     "output_type": "stream",
     "text": [
      "test score was:. nan\n",
      "fold 33 of 40\n",
      "In order to test on a training group of 39 items, holding out the following subjects:['DEV056']. prepping fold data.... fitting.... 322.0 MiB. trying decoder 1 of 1. "
     ]
    },
    {
     "name": "stderr",
     "output_type": "stream",
     "text": [
      "/home/bsmith16/.conda/envs/neuralsignature/lib/python3.8/site-packages/nilearn/decoding/decoder.py:143: UserWarning: Use a custom estimator at your own risk of the process not working as intended.\n",
      "  warnings.warn('Use a custom estimator at your own risk '\n"
     ]
    },
    {
     "name": "stdout",
     "output_type": "stream",
     "text": [
      "predicting. "
     ]
    },
    {
     "name": "stderr",
     "output_type": "stream",
     "text": [
      "/home/bsmith16/.conda/envs/neuralsignature/lib/python3.8/site-packages/nilearn/signal.py:58: UserWarning: Standardization of 3D signal has been requested but would lead to zero values. Skipping.\n",
      "  warnings.warn('Standardization of 3D signal has been requested but '\n",
      "/home/bsmith16/.conda/envs/neuralsignature/lib/python3.8/site-packages/sklearn/metrics/_regression.py:682: UndefinedMetricWarning: R^2 score is not well-defined with less than two samples.\n",
      "  warnings.warn(msg, UndefinedMetricWarning)\n",
      "/home/bsmith16/.conda/envs/neuralsignature/lib/python3.8/site-packages/nilearn/signal.py:58: UserWarning: Standardization of 3D signal has been requested but would lead to zero values. Skipping.\n",
      "  warnings.warn('Standardization of 3D signal has been requested but '\n"
     ]
    },
    {
     "name": "stdout",
     "output_type": "stream",
     "text": [
      "test score was:. nan\n",
      "fold 34 of 40\n",
      "In order to test on a training group of 39 items, holding out the following subjects:['DEV021']. prepping fold data.... fitting.... 322.0 MiB. trying decoder 1 of 1. "
     ]
    },
    {
     "name": "stderr",
     "output_type": "stream",
     "text": [
      "/home/bsmith16/.conda/envs/neuralsignature/lib/python3.8/site-packages/nilearn/decoding/decoder.py:143: UserWarning: Use a custom estimator at your own risk of the process not working as intended.\n",
      "  warnings.warn('Use a custom estimator at your own risk '\n"
     ]
    },
    {
     "name": "stdout",
     "output_type": "stream",
     "text": [
      "predicting. "
     ]
    },
    {
     "name": "stderr",
     "output_type": "stream",
     "text": [
      "/home/bsmith16/.conda/envs/neuralsignature/lib/python3.8/site-packages/nilearn/signal.py:58: UserWarning: Standardization of 3D signal has been requested but would lead to zero values. Skipping.\n",
      "  warnings.warn('Standardization of 3D signal has been requested but '\n",
      "/home/bsmith16/.conda/envs/neuralsignature/lib/python3.8/site-packages/sklearn/metrics/_regression.py:682: UndefinedMetricWarning: R^2 score is not well-defined with less than two samples.\n",
      "  warnings.warn(msg, UndefinedMetricWarning)\n",
      "/home/bsmith16/.conda/envs/neuralsignature/lib/python3.8/site-packages/nilearn/signal.py:58: UserWarning: Standardization of 3D signal has been requested but would lead to zero values. Skipping.\n",
      "  warnings.warn('Standardization of 3D signal has been requested but '\n"
     ]
    },
    {
     "name": "stdout",
     "output_type": "stream",
     "text": [
      "test score was:. nan\n",
      "fold 35 of 40\n",
      "In order to test on a training group of 39 items, holding out the following subjects:['DEV022']. prepping fold data.... fitting.... 322.0 MiB. trying decoder 1 of 1. "
     ]
    },
    {
     "name": "stderr",
     "output_type": "stream",
     "text": [
      "/home/bsmith16/.conda/envs/neuralsignature/lib/python3.8/site-packages/nilearn/decoding/decoder.py:143: UserWarning: Use a custom estimator at your own risk of the process not working as intended.\n",
      "  warnings.warn('Use a custom estimator at your own risk '\n"
     ]
    },
    {
     "name": "stdout",
     "output_type": "stream",
     "text": [
      "predicting. "
     ]
    },
    {
     "name": "stderr",
     "output_type": "stream",
     "text": [
      "/home/bsmith16/.conda/envs/neuralsignature/lib/python3.8/site-packages/nilearn/signal.py:58: UserWarning: Standardization of 3D signal has been requested but would lead to zero values. Skipping.\n",
      "  warnings.warn('Standardization of 3D signal has been requested but '\n",
      "/home/bsmith16/.conda/envs/neuralsignature/lib/python3.8/site-packages/sklearn/metrics/_regression.py:682: UndefinedMetricWarning: R^2 score is not well-defined with less than two samples.\n",
      "  warnings.warn(msg, UndefinedMetricWarning)\n",
      "/home/bsmith16/.conda/envs/neuralsignature/lib/python3.8/site-packages/nilearn/signal.py:58: UserWarning: Standardization of 3D signal has been requested but would lead to zero values. Skipping.\n",
      "  warnings.warn('Standardization of 3D signal has been requested but '\n"
     ]
    },
    {
     "name": "stdout",
     "output_type": "stream",
     "text": [
      "test score was:. nan\n",
      "fold 36 of 40\n",
      "In order to test on a training group of 39 items, holding out the following subjects:['DEV036']. prepping fold data.... fitting.... 322.0 MiB. trying decoder 1 of 1. "
     ]
    },
    {
     "name": "stderr",
     "output_type": "stream",
     "text": [
      "/home/bsmith16/.conda/envs/neuralsignature/lib/python3.8/site-packages/nilearn/decoding/decoder.py:143: UserWarning: Use a custom estimator at your own risk of the process not working as intended.\n",
      "  warnings.warn('Use a custom estimator at your own risk '\n"
     ]
    },
    {
     "name": "stdout",
     "output_type": "stream",
     "text": [
      "predicting. "
     ]
    },
    {
     "name": "stderr",
     "output_type": "stream",
     "text": [
      "/home/bsmith16/.conda/envs/neuralsignature/lib/python3.8/site-packages/nilearn/signal.py:58: UserWarning: Standardization of 3D signal has been requested but would lead to zero values. Skipping.\n",
      "  warnings.warn('Standardization of 3D signal has been requested but '\n",
      "/home/bsmith16/.conda/envs/neuralsignature/lib/python3.8/site-packages/sklearn/metrics/_regression.py:682: UndefinedMetricWarning: R^2 score is not well-defined with less than two samples.\n",
      "  warnings.warn(msg, UndefinedMetricWarning)\n",
      "/home/bsmith16/.conda/envs/neuralsignature/lib/python3.8/site-packages/nilearn/signal.py:58: UserWarning: Standardization of 3D signal has been requested but would lead to zero values. Skipping.\n",
      "  warnings.warn('Standardization of 3D signal has been requested but '\n"
     ]
    },
    {
     "name": "stdout",
     "output_type": "stream",
     "text": [
      "test score was:. nan\n",
      "fold 37 of 40\n",
      "In order to test on a training group of 39 items, holding out the following subjects:['DEV059']. prepping fold data.... fitting.... 322.0 MiB. trying decoder 1 of 1. "
     ]
    },
    {
     "name": "stderr",
     "output_type": "stream",
     "text": [
      "/home/bsmith16/.conda/envs/neuralsignature/lib/python3.8/site-packages/nilearn/decoding/decoder.py:143: UserWarning: Use a custom estimator at your own risk of the process not working as intended.\n",
      "  warnings.warn('Use a custom estimator at your own risk '\n"
     ]
    },
    {
     "name": "stdout",
     "output_type": "stream",
     "text": [
      "predicting. "
     ]
    },
    {
     "name": "stderr",
     "output_type": "stream",
     "text": [
      "/home/bsmith16/.conda/envs/neuralsignature/lib/python3.8/site-packages/nilearn/signal.py:58: UserWarning: Standardization of 3D signal has been requested but would lead to zero values. Skipping.\n",
      "  warnings.warn('Standardization of 3D signal has been requested but '\n",
      "/home/bsmith16/.conda/envs/neuralsignature/lib/python3.8/site-packages/sklearn/metrics/_regression.py:682: UndefinedMetricWarning: R^2 score is not well-defined with less than two samples.\n",
      "  warnings.warn(msg, UndefinedMetricWarning)\n",
      "/home/bsmith16/.conda/envs/neuralsignature/lib/python3.8/site-packages/nilearn/signal.py:58: UserWarning: Standardization of 3D signal has been requested but would lead to zero values. Skipping.\n",
      "  warnings.warn('Standardization of 3D signal has been requested but '\n"
     ]
    },
    {
     "name": "stdout",
     "output_type": "stream",
     "text": [
      "test score was:. nan\n",
      "fold 38 of 40\n",
      "In order to test on a training group of 39 items, holding out the following subjects:['DEV050']. prepping fold data.... fitting.... 322.0 MiB. trying decoder 1 of 1. "
     ]
    },
    {
     "name": "stderr",
     "output_type": "stream",
     "text": [
      "/home/bsmith16/.conda/envs/neuralsignature/lib/python3.8/site-packages/nilearn/decoding/decoder.py:143: UserWarning: Use a custom estimator at your own risk of the process not working as intended.\n",
      "  warnings.warn('Use a custom estimator at your own risk '\n"
     ]
    },
    {
     "name": "stdout",
     "output_type": "stream",
     "text": [
      "predicting. "
     ]
    },
    {
     "name": "stderr",
     "output_type": "stream",
     "text": [
      "/home/bsmith16/.conda/envs/neuralsignature/lib/python3.8/site-packages/nilearn/signal.py:58: UserWarning: Standardization of 3D signal has been requested but would lead to zero values. Skipping.\n",
      "  warnings.warn('Standardization of 3D signal has been requested but '\n",
      "/home/bsmith16/.conda/envs/neuralsignature/lib/python3.8/site-packages/sklearn/metrics/_regression.py:682: UndefinedMetricWarning: R^2 score is not well-defined with less than two samples.\n",
      "  warnings.warn(msg, UndefinedMetricWarning)\n",
      "/home/bsmith16/.conda/envs/neuralsignature/lib/python3.8/site-packages/nilearn/signal.py:58: UserWarning: Standardization of 3D signal has been requested but would lead to zero values. Skipping.\n",
      "  warnings.warn('Standardization of 3D signal has been requested but '\n"
     ]
    },
    {
     "name": "stdout",
     "output_type": "stream",
     "text": [
      "test score was:. nan\n",
      "fold 39 of 40\n",
      "In order to test on a training group of 39 items, holding out the following subjects:['DEV024']. prepping fold data.... fitting.... 322.0 MiB. trying decoder 1 of 1. "
     ]
    },
    {
     "name": "stderr",
     "output_type": "stream",
     "text": [
      "/home/bsmith16/.conda/envs/neuralsignature/lib/python3.8/site-packages/nilearn/decoding/decoder.py:143: UserWarning: Use a custom estimator at your own risk of the process not working as intended.\n",
      "  warnings.warn('Use a custom estimator at your own risk '\n"
     ]
    },
    {
     "name": "stdout",
     "output_type": "stream",
     "text": [
      "predicting. "
     ]
    },
    {
     "name": "stderr",
     "output_type": "stream",
     "text": [
      "/home/bsmith16/.conda/envs/neuralsignature/lib/python3.8/site-packages/nilearn/signal.py:58: UserWarning: Standardization of 3D signal has been requested but would lead to zero values. Skipping.\n",
      "  warnings.warn('Standardization of 3D signal has been requested but '\n",
      "/home/bsmith16/.conda/envs/neuralsignature/lib/python3.8/site-packages/sklearn/metrics/_regression.py:682: UndefinedMetricWarning: R^2 score is not well-defined with less than two samples.\n",
      "  warnings.warn(msg, UndefinedMetricWarning)\n",
      "/home/bsmith16/.conda/envs/neuralsignature/lib/python3.8/site-packages/nilearn/signal.py:58: UserWarning: Standardization of 3D signal has been requested but would lead to zero values. Skipping.\n",
      "  warnings.warn('Standardization of 3D signal has been requested but '\n"
     ]
    },
    {
     "name": "stdout",
     "output_type": "stream",
     "text": [
      "test score was:. nan\n",
      "fold 40 of 40\n",
      "In order to test on a training group of 39 items, holding out the following subjects:['DEV053']. prepping fold data.... fitting.... 322.0 MiB. trying decoder 1 of 1. "
     ]
    },
    {
     "name": "stderr",
     "output_type": "stream",
     "text": [
      "/home/bsmith16/.conda/envs/neuralsignature/lib/python3.8/site-packages/nilearn/decoding/decoder.py:143: UserWarning: Use a custom estimator at your own risk of the process not working as intended.\n",
      "  warnings.warn('Use a custom estimator at your own risk '\n"
     ]
    },
    {
     "name": "stdout",
     "output_type": "stream",
     "text": [
      "predicting. "
     ]
    },
    {
     "name": "stderr",
     "output_type": "stream",
     "text": [
      "/home/bsmith16/.conda/envs/neuralsignature/lib/python3.8/site-packages/nilearn/signal.py:58: UserWarning: Standardization of 3D signal has been requested but would lead to zero values. Skipping.\n",
      "  warnings.warn('Standardization of 3D signal has been requested but '\n",
      "/home/bsmith16/.conda/envs/neuralsignature/lib/python3.8/site-packages/sklearn/metrics/_regression.py:682: UndefinedMetricWarning: R^2 score is not well-defined with less than two samples.\n",
      "  warnings.warn(msg, UndefinedMetricWarning)\n",
      "/home/bsmith16/.conda/envs/neuralsignature/lib/python3.8/site-packages/nilearn/signal.py:58: UserWarning: Standardization of 3D signal has been requested but would lead to zero values. Skipping.\n",
      "  warnings.warn('Standardization of 3D signal has been requested but '\n",
      "/home/bsmith16/.conda/envs/neuralsignature/lib/python3.8/site-packages/nilearn/decoding/decoder.py:143: UserWarning: Use a custom estimator at your own risk of the process not working as intended.\n",
      "  warnings.warn('Use a custom estimator at your own risk '\n"
     ]
    },
    {
     "name": "stdout",
     "output_type": "stream",
     "text": [
      "test score was:. nan\n",
      "nan\n",
      "nan\n",
      "running one more time on whole dataset for beta map\n",
      "finished learning\n",
      "saved.\n"
     ]
    }
   ],
   "source": [
    "apply_loocv_and_save(\n",
    "    results_filepath = results_filepath,\n",
    "    brain_data_filepath = brain_data_filepath,\n",
    "    train_test_markers_filepath = data_path + \"train_test_markers_20210601T183243.csv\",\n",
    "    subjs_to_use = 40,\n",
    "    decoderConstructor = decoderConstructor,\n",
    "    response_transform_func=condition_resp_trans_func,\n",
    "    mask=None\n",
    ")"
   ]
  },
  {
   "cell_type": "code",
   "execution_count": 77,
   "id": "least-local",
   "metadata": {},
   "outputs": [],
   "source": [
    "metadata = pickle.load(open(results_filepath,'rb'))"
   ]
  },
  {
   "cell_type": "code",
   "execution_count": 78,
   "id": "sophisticated-richmond",
   "metadata": {},
   "outputs": [],
   "source": [
    "from sklearn.metrics import r2_score"
   ]
  },
  {
   "cell_type": "code",
   "execution_count": 79,
   "id": "mineral-halloween",
   "metadata": {},
   "outputs": [
    {
     "data": {
      "text/plain": [
       "-0.21441759992894593"
      ]
     },
     "execution_count": 79,
     "metadata": {},
     "output_type": "execute_result"
    }
   ],
   "source": [
    "test_predictions = pd.concat([testsub['fold_test_rawdata'] for testsub in metadata[1]])\n",
    "#accuracy by group\n",
    "\n",
    "r2_score(test_predictions['y_obs'],test_predictions['y_pred'])\n",
    "# for group in np.unique(test_predictions['y_obs']):\n",
    "#     print(group)\n",
    "#     predictions_for_group = test_predictions.loc[test_predictions['y_obs']==group]\n",
    "#     print()\n",
    "#     #print(r2_score(predictions_for_group['y_pred'],predictions_for_group['y_obs']))"
   ]
  },
  {
   "cell_type": "code",
   "execution_count": 80,
   "id": "incident-seeker",
   "metadata": {},
   "outputs": [
    {
     "data": {
      "text/html": [
       "<div>\n",
       "<style scoped>\n",
       "    .dataframe tbody tr th:only-of-type {\n",
       "        vertical-align: middle;\n",
       "    }\n",
       "\n",
       "    .dataframe tbody tr th {\n",
       "        vertical-align: top;\n",
       "    }\n",
       "\n",
       "    .dataframe thead th {\n",
       "        text-align: right;\n",
       "    }\n",
       "</style>\n",
       "<table border=\"1\" class=\"dataframe\">\n",
       "  <thead>\n",
       "    <tr style=\"text-align: right;\">\n",
       "      <th></th>\n",
       "      <th>y_obs</th>\n",
       "      <th>y_pred</th>\n",
       "      <th>y_groups</th>\n",
       "    </tr>\n",
       "  </thead>\n",
       "  <tbody>\n",
       "    <tr>\n",
       "      <th>14</th>\n",
       "      <td>0.581586</td>\n",
       "      <td>-0.197887</td>\n",
       "      <td>DEV026</td>\n",
       "    </tr>\n",
       "    <tr>\n",
       "      <th>0</th>\n",
       "      <td>1.302136</td>\n",
       "      <td>-0.262957</td>\n",
       "      <td>DEV005</td>\n",
       "    </tr>\n",
       "    <tr>\n",
       "      <th>20</th>\n",
       "      <td>-0.447770</td>\n",
       "      <td>0.190861</td>\n",
       "      <td>DEV035</td>\n",
       "    </tr>\n",
       "    <tr>\n",
       "      <th>12</th>\n",
       "      <td>-1.991805</td>\n",
       "      <td>-0.053193</td>\n",
       "      <td>DEV023</td>\n",
       "    </tr>\n",
       "    <tr>\n",
       "      <th>5</th>\n",
       "      <td>-0.550706</td>\n",
       "      <td>-0.389657</td>\n",
       "      <td>DEV015</td>\n",
       "    </tr>\n",
       "    <tr>\n",
       "      <th>28</th>\n",
       "      <td>-1.168320</td>\n",
       "      <td>0.236156</td>\n",
       "      <td>DEV048</td>\n",
       "    </tr>\n",
       "    <tr>\n",
       "      <th>36</th>\n",
       "      <td>-0.344834</td>\n",
       "      <td>0.066698</td>\n",
       "      <td>DEV057</td>\n",
       "    </tr>\n",
       "    <tr>\n",
       "      <th>8</th>\n",
       "      <td>0.375715</td>\n",
       "      <td>0.081943</td>\n",
       "      <td>DEV018</td>\n",
       "    </tr>\n",
       "    <tr>\n",
       "      <th>6</th>\n",
       "      <td>-0.447770</td>\n",
       "      <td>0.410836</td>\n",
       "      <td>DEV016</td>\n",
       "    </tr>\n",
       "    <tr>\n",
       "      <th>24</th>\n",
       "      <td>1.610943</td>\n",
       "      <td>-0.030588</td>\n",
       "      <td>DEV041</td>\n",
       "    </tr>\n",
       "    <tr>\n",
       "      <th>32</th>\n",
       "      <td>-0.859513</td>\n",
       "      <td>-0.410692</td>\n",
       "      <td>DEV052</td>\n",
       "    </tr>\n",
       "    <tr>\n",
       "      <th>1</th>\n",
       "      <td>0.169844</td>\n",
       "      <td>-0.549269</td>\n",
       "      <td>DEV006</td>\n",
       "    </tr>\n",
       "    <tr>\n",
       "      <th>9</th>\n",
       "      <td>0.169844</td>\n",
       "      <td>0.140545</td>\n",
       "      <td>DEV019</td>\n",
       "    </tr>\n",
       "    <tr>\n",
       "      <th>4</th>\n",
       "      <td>-1.168320</td>\n",
       "      <td>0.111891</td>\n",
       "      <td>DEV014</td>\n",
       "    </tr>\n",
       "    <tr>\n",
       "      <th>27</th>\n",
       "      <td>-1.477126</td>\n",
       "      <td>-0.202037</td>\n",
       "      <td>DEV046</td>\n",
       "    </tr>\n",
       "    <tr>\n",
       "      <th>34</th>\n",
       "      <td>0.684522</td>\n",
       "      <td>-0.265698</td>\n",
       "      <td>DEV055</td>\n",
       "    </tr>\n",
       "    <tr>\n",
       "      <th>23</th>\n",
       "      <td>-0.241899</td>\n",
       "      <td>0.258911</td>\n",
       "      <td>DEV040</td>\n",
       "    </tr>\n",
       "    <tr>\n",
       "      <th>22</th>\n",
       "      <td>-0.447770</td>\n",
       "      <td>-0.042951</td>\n",
       "      <td>DEV039</td>\n",
       "    </tr>\n",
       "    <tr>\n",
       "      <th>25</th>\n",
       "      <td>0.066908</td>\n",
       "      <td>0.037528</td>\n",
       "      <td>DEV042</td>\n",
       "    </tr>\n",
       "    <tr>\n",
       "      <th>19</th>\n",
       "      <td>-0.756577</td>\n",
       "      <td>-0.044539</td>\n",
       "      <td>DEV034</td>\n",
       "    </tr>\n",
       "    <tr>\n",
       "      <th>18</th>\n",
       "      <td>0.066908</td>\n",
       "      <td>-0.027568</td>\n",
       "      <td>DEV030</td>\n",
       "    </tr>\n",
       "    <tr>\n",
       "      <th>26</th>\n",
       "      <td>-0.962448</td>\n",
       "      <td>-0.080894</td>\n",
       "      <td>DEV043</td>\n",
       "    </tr>\n",
       "    <tr>\n",
       "      <th>31</th>\n",
       "      <td>0.478651</td>\n",
       "      <td>0.157491</td>\n",
       "      <td>DEV051</td>\n",
       "    </tr>\n",
       "    <tr>\n",
       "      <th>15</th>\n",
       "      <td>-1.785933</td>\n",
       "      <td>0.231101</td>\n",
       "      <td>DEV027</td>\n",
       "    </tr>\n",
       "    <tr>\n",
       "      <th>29</th>\n",
       "      <td>1.508007</td>\n",
       "      <td>-0.432629</td>\n",
       "      <td>DEV049</td>\n",
       "    </tr>\n",
       "    <tr>\n",
       "      <th>3</th>\n",
       "      <td>1.199200</td>\n",
       "      <td>-0.107256</td>\n",
       "      <td>DEV013</td>\n",
       "    </tr>\n",
       "    <tr>\n",
       "      <th>37</th>\n",
       "      <td>0.581586</td>\n",
       "      <td>-0.410154</td>\n",
       "      <td>DEV058</td>\n",
       "    </tr>\n",
       "    <tr>\n",
       "      <th>39</th>\n",
       "      <td>2.331492</td>\n",
       "      <td>-0.028512</td>\n",
       "      <td>DEV060</td>\n",
       "    </tr>\n",
       "    <tr>\n",
       "      <th>16</th>\n",
       "      <td>0.169844</td>\n",
       "      <td>0.386968</td>\n",
       "      <td>DEV028</td>\n",
       "    </tr>\n",
       "    <tr>\n",
       "      <th>17</th>\n",
       "      <td>1.096265</td>\n",
       "      <td>0.403428</td>\n",
       "      <td>DEV029</td>\n",
       "    </tr>\n",
       "    <tr>\n",
       "      <th>7</th>\n",
       "      <td>0.684522</td>\n",
       "      <td>-0.161962</td>\n",
       "      <td>DEV017</td>\n",
       "    </tr>\n",
       "    <tr>\n",
       "      <th>2</th>\n",
       "      <td>0.890393</td>\n",
       "      <td>-0.061165</td>\n",
       "      <td>DEV010</td>\n",
       "    </tr>\n",
       "    <tr>\n",
       "      <th>35</th>\n",
       "      <td>-0.344834</td>\n",
       "      <td>-0.178547</td>\n",
       "      <td>DEV056</td>\n",
       "    </tr>\n",
       "    <tr>\n",
       "      <th>10</th>\n",
       "      <td>-1.374191</td>\n",
       "      <td>-0.358495</td>\n",
       "      <td>DEV021</td>\n",
       "    </tr>\n",
       "    <tr>\n",
       "      <th>11</th>\n",
       "      <td>0.478651</td>\n",
       "      <td>0.146201</td>\n",
       "      <td>DEV022</td>\n",
       "    </tr>\n",
       "    <tr>\n",
       "      <th>21</th>\n",
       "      <td>1.302136</td>\n",
       "      <td>-0.297557</td>\n",
       "      <td>DEV036</td>\n",
       "    </tr>\n",
       "    <tr>\n",
       "      <th>38</th>\n",
       "      <td>-0.962448</td>\n",
       "      <td>0.024079</td>\n",
       "      <td>DEV059</td>\n",
       "    </tr>\n",
       "    <tr>\n",
       "      <th>30</th>\n",
       "      <td>0.787458</td>\n",
       "      <td>-1.487467</td>\n",
       "      <td>DEV050</td>\n",
       "    </tr>\n",
       "    <tr>\n",
       "      <th>13</th>\n",
       "      <td>0.066908</td>\n",
       "      <td>0.214381</td>\n",
       "      <td>DEV024</td>\n",
       "    </tr>\n",
       "    <tr>\n",
       "      <th>33</th>\n",
       "      <td>-1.271255</td>\n",
       "      <td>-0.362449</td>\n",
       "      <td>DEV053</td>\n",
       "    </tr>\n",
       "  </tbody>\n",
       "</table>\n",
       "</div>"
      ],
      "text/plain": [
       "       y_obs    y_pred y_groups\n",
       "14  0.581586 -0.197887   DEV026\n",
       "0   1.302136 -0.262957   DEV005\n",
       "20 -0.447770  0.190861   DEV035\n",
       "12 -1.991805 -0.053193   DEV023\n",
       "5  -0.550706 -0.389657   DEV015\n",
       "28 -1.168320  0.236156   DEV048\n",
       "36 -0.344834  0.066698   DEV057\n",
       "8   0.375715  0.081943   DEV018\n",
       "6  -0.447770  0.410836   DEV016\n",
       "24  1.610943 -0.030588   DEV041\n",
       "32 -0.859513 -0.410692   DEV052\n",
       "1   0.169844 -0.549269   DEV006\n",
       "9   0.169844  0.140545   DEV019\n",
       "4  -1.168320  0.111891   DEV014\n",
       "27 -1.477126 -0.202037   DEV046\n",
       "34  0.684522 -0.265698   DEV055\n",
       "23 -0.241899  0.258911   DEV040\n",
       "22 -0.447770 -0.042951   DEV039\n",
       "25  0.066908  0.037528   DEV042\n",
       "19 -0.756577 -0.044539   DEV034\n",
       "18  0.066908 -0.027568   DEV030\n",
       "26 -0.962448 -0.080894   DEV043\n",
       "31  0.478651  0.157491   DEV051\n",
       "15 -1.785933  0.231101   DEV027\n",
       "29  1.508007 -0.432629   DEV049\n",
       "3   1.199200 -0.107256   DEV013\n",
       "37  0.581586 -0.410154   DEV058\n",
       "39  2.331492 -0.028512   DEV060\n",
       "16  0.169844  0.386968   DEV028\n",
       "17  1.096265  0.403428   DEV029\n",
       "7   0.684522 -0.161962   DEV017\n",
       "2   0.890393 -0.061165   DEV010\n",
       "35 -0.344834 -0.178547   DEV056\n",
       "10 -1.374191 -0.358495   DEV021\n",
       "11  0.478651  0.146201   DEV022\n",
       "21  1.302136 -0.297557   DEV036\n",
       "38 -0.962448  0.024079   DEV059\n",
       "30  0.787458 -1.487467   DEV050\n",
       "13  0.066908  0.214381   DEV024\n",
       "33 -1.271255 -0.362449   DEV053"
      ]
     },
     "execution_count": 80,
     "metadata": {},
     "output_type": "execute_result"
    }
   ],
   "source": [
    "test_predictions"
   ]
  },
  {
   "cell_type": "markdown",
   "id": "spread-situation",
   "metadata": {},
   "source": [
    "OK, nothing much here. There's a lot more to try:\n",
    "\n",
    " - I'm not confident in this accuracy measure. The fact we're getting a negative R^2 instead of zero R^2 suggests something funny is going on. We can try again another time.\n",
    " - there's a lot more variables to try\n",
    " - We're regressing on the CorrectStop items by themselves whereas we probably should be using CorrectStop minus CorrectGo or similar."
   ]
  },
  {
   "cell_type": "code",
   "execution_count": null,
   "id": "forty-friend",
   "metadata": {},
   "outputs": [],
   "source": []
  }
 ],
 "metadata": {
  "kernelspec": {
   "display_name": "Python [conda env:.conda-neuralsignature]",
   "language": "python",
   "name": "conda-env-.conda-neuralsignature-py"
  },
  "language_info": {
   "codemirror_mode": {
    "name": "ipython",
    "version": 3
   },
   "file_extension": ".py",
   "mimetype": "text/x-python",
   "name": "python",
   "nbconvert_exporter": "python",
   "pygments_lexer": "ipython3",
   "version": "3.8.5"
  }
 },
 "nbformat": 4,
 "nbformat_minor": 5
}
