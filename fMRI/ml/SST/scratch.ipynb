{
 "cells": [
  {
   "cell_type": "code",
   "execution_count": 1,
   "id": "democratic-classification",
   "metadata": {},
   "outputs": [],
   "source": [
    "import pandas as pd"
   ]
  },
  {
   "cell_type": "code",
   "execution_count": 2,
   "id": "elegant-dinner",
   "metadata": {},
   "outputs": [],
   "source": [
    "ml_data_folderpath = \"/gpfs/projects/sanlab/shared/DEV/nonbids_data/fMRI/ml\""
   ]
  },
  {
   "cell_type": "code",
   "execution_count": 4,
   "id": "pending-crowd",
   "metadata": {},
   "outputs": [],
   "source": [
    "all_sst_events = pd.read_csv(ml_data_folderpath + \"/\"+\"all_sst_events.csv\")"
   ]
  },
  {
   "cell_type": "code",
   "execution_count": 22,
   "id": "tracked-clinic",
   "metadata": {},
   "outputs": [],
   "source": [
    "dev_010_events = all_sst_events[(all_sst_events.subject==\"DEV010\") & (all_sst_events.trial_type.isna()==False)]"
   ]
  },
  {
   "cell_type": "code",
   "execution_count": 19,
   "id": "legislative-cloud",
   "metadata": {},
   "outputs": [
    {
     "data": {
      "text/plain": [
       "0        False\n",
       "1         True\n",
       "2        False\n",
       "3         True\n",
       "4        False\n",
       "         ...  \n",
       "95995     True\n",
       "95996    False\n",
       "95997     True\n",
       "95998    False\n",
       "95999     True\n",
       "Name: trial_type, Length: 96000, dtype: bool"
      ]
     },
     "execution_count": 19,
     "metadata": {},
     "output_type": "execute_result"
    }
   ],
   "source": [
    "all_sst_events.trial_type.isna()"
   ]
  },
  {
   "cell_type": "code",
   "execution_count": 23,
   "id": "accredited-psychiatry",
   "metadata": {},
   "outputs": [
    {
     "data": {
      "text/html": [
       "<div>\n",
       "<style scoped>\n",
       "    .dataframe tbody tr th:only-of-type {\n",
       "        vertical-align: middle;\n",
       "    }\n",
       "\n",
       "    .dataframe tbody tr th {\n",
       "        vertical-align: top;\n",
       "    }\n",
       "\n",
       "    .dataframe thead th {\n",
       "        text-align: right;\n",
       "    }\n",
       "</style>\n",
       "<table border=\"1\" class=\"dataframe\">\n",
       "  <thead>\n",
       "    <tr style=\"text-align: right;\">\n",
       "      <th></th>\n",
       "      <th>onset</th>\n",
       "      <th>duration</th>\n",
       "      <th>trial_type</th>\n",
       "      <th>subject</th>\n",
       "      <th>wave</th>\n",
       "    </tr>\n",
       "  </thead>\n",
       "  <tbody>\n",
       "    <tr>\n",
       "      <th>89856</th>\n",
       "      <td>0.00000</td>\n",
       "      <td>2.25834</td>\n",
       "      <td>correct-stop</td>\n",
       "      <td>DEV010</td>\n",
       "      <td>wave1</td>\n",
       "    </tr>\n",
       "    <tr>\n",
       "      <th>89858</th>\n",
       "      <td>2.75834</td>\n",
       "      <td>0.63264</td>\n",
       "      <td>correct-go</td>\n",
       "      <td>DEV010</td>\n",
       "      <td>wave1</td>\n",
       "    </tr>\n",
       "    <tr>\n",
       "      <th>89860</th>\n",
       "      <td>5.51390</td>\n",
       "      <td>0.45172</td>\n",
       "      <td>correct-go</td>\n",
       "      <td>DEV010</td>\n",
       "      <td>wave1</td>\n",
       "    </tr>\n",
       "    <tr>\n",
       "      <th>89862</th>\n",
       "      <td>9.02224</td>\n",
       "      <td>0.49037</td>\n",
       "      <td>correct-go</td>\n",
       "      <td>DEV010</td>\n",
       "      <td>wave1</td>\n",
       "    </tr>\n",
       "    <tr>\n",
       "      <th>89864</th>\n",
       "      <td>12.52780</td>\n",
       "      <td>0.55239</td>\n",
       "      <td>correct-go</td>\n",
       "      <td>DEV010</td>\n",
       "      <td>wave1</td>\n",
       "    </tr>\n",
       "    <tr>\n",
       "      <th>...</th>\n",
       "      <td>...</td>\n",
       "      <td>...</td>\n",
       "      <td>...</td>\n",
       "      <td>...</td>\n",
       "      <td>...</td>\n",
       "    </tr>\n",
       "    <tr>\n",
       "      <th>90358</th>\n",
       "      <td>404.24723</td>\n",
       "      <td>1.94237</td>\n",
       "      <td>correct-go</td>\n",
       "      <td>DEV010</td>\n",
       "      <td>wave2</td>\n",
       "    </tr>\n",
       "    <tr>\n",
       "      <th>90360</th>\n",
       "      <td>407.56460</td>\n",
       "      <td>2.00556</td>\n",
       "      <td>correct-go</td>\n",
       "      <td>DEV010</td>\n",
       "      <td>wave2</td>\n",
       "    </tr>\n",
       "    <tr>\n",
       "      <th>90362</th>\n",
       "      <td>410.94516</td>\n",
       "      <td>2.00556</td>\n",
       "      <td>correct-go</td>\n",
       "      <td>DEV010</td>\n",
       "      <td>wave2</td>\n",
       "    </tr>\n",
       "    <tr>\n",
       "      <th>90364</th>\n",
       "      <td>413.82572</td>\n",
       "      <td>2.51110</td>\n",
       "      <td>failed-stop</td>\n",
       "      <td>DEV010</td>\n",
       "      <td>wave2</td>\n",
       "    </tr>\n",
       "    <tr>\n",
       "      <th>90366</th>\n",
       "      <td>417.21182</td>\n",
       "      <td>1.50000</td>\n",
       "      <td>correct-stop</td>\n",
       "      <td>DEV010</td>\n",
       "      <td>wave2</td>\n",
       "    </tr>\n",
       "  </tbody>\n",
       "</table>\n",
       "<p>256 rows × 5 columns</p>\n",
       "</div>"
      ],
      "text/plain": [
       "           onset  duration    trial_type subject   wave\n",
       "89856    0.00000   2.25834  correct-stop  DEV010  wave1\n",
       "89858    2.75834   0.63264    correct-go  DEV010  wave1\n",
       "89860    5.51390   0.45172    correct-go  DEV010  wave1\n",
       "89862    9.02224   0.49037    correct-go  DEV010  wave1\n",
       "89864   12.52780   0.55239    correct-go  DEV010  wave1\n",
       "...          ...       ...           ...     ...    ...\n",
       "90358  404.24723   1.94237    correct-go  DEV010  wave2\n",
       "90360  407.56460   2.00556    correct-go  DEV010  wave2\n",
       "90362  410.94516   2.00556    correct-go  DEV010  wave2\n",
       "90364  413.82572   2.51110   failed-stop  DEV010  wave2\n",
       "90366  417.21182   1.50000  correct-stop  DEV010  wave2\n",
       "\n",
       "[256 rows x 5 columns]"
      ]
     },
     "execution_count": 23,
     "metadata": {},
     "output_type": "execute_result"
    }
   ],
   "source": [
    "dev_010_events"
   ]
  },
  {
   "cell_type": "code",
   "execution_count": null,
   "id": "bored-portable",
   "metadata": {},
   "outputs": [],
   "source": []
  }
 ],
 "metadata": {
  "kernelspec": {
   "display_name": "Python [conda env:.conda-neuralsignature]",
   "language": "python",
   "name": "conda-env-.conda-neuralsignature-py"
  },
  "language_info": {
   "codemirror_mode": {
    "name": "ipython",
    "version": 3
   },
   "file_extension": ".py",
   "mimetype": "text/x-python",
   "name": "python",
   "nbconvert_exporter": "python",
   "pygments_lexer": "ipython3",
   "version": "3.8.5"
  }
 },
 "nbformat": 4,
 "nbformat_minor": 5
}
