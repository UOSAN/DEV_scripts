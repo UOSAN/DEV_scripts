{
 "cells": [
  {
   "cell_type": "code",
   "execution_count": 1,
   "id": "aboriginal-interim",
   "metadata": {},
   "outputs": [],
   "source": [
    "import pickle\n",
    "import numpy as np\n",
    "import pandas as pd"
   ]
  },
  {
   "cell_type": "code",
   "execution_count": 2,
   "id": "native-vegetation",
   "metadata": {},
   "outputs": [],
   "source": [
    "from sklearn.metrics import r2_score\n",
    "from scipy.stats import pearsonr, spearmanr\n",
    "import math"
   ]
  },
  {
   "cell_type": "code",
   "execution_count": 3,
   "id": "following-operation",
   "metadata": {},
   "outputs": [],
   "source": [
    "import seaborn as sns\n",
    "import matplotlib.pyplot as plt"
   ]
  },
  {
   "cell_type": "code",
   "execution_count": 4,
   "id": "theoretical-destruction",
   "metadata": {},
   "outputs": [],
   "source": [
    "import nibabel as nib"
   ]
  },
  {
   "cell_type": "code",
   "execution_count": 5,
   "id": "proof-basket",
   "metadata": {},
   "outputs": [
    {
     "name": "stderr",
     "output_type": "stream",
     "text": [
      "/home/bsmith16/.conda/envs/neuralsignature/lib/python3.8/site-packages/nilearn/datasets/__init__.py:87: FutureWarning: Fetchers from the nilearn.datasets module will be updated in version 0.9 to return python strings instead of bytes and Pandas dataframes instead of Numpy arrays.\n",
      "  warn(\"Fetchers from the nilearn.datasets module will be \"\n"
     ]
    }
   ],
   "source": [
    "from nilearn import plotting\n"
   ]
  },
  {
   "cell_type": "code",
   "execution_count": 6,
   "id": "postal-outside",
   "metadata": {},
   "outputs": [],
   "source": [
    "data_path = '/gpfs/projects/sanlab/bsmith16/data/'"
   ]
  },
  {
   "cell_type": "markdown",
   "id": "bored-election",
   "metadata": {},
   "source": [
    "## Setup"
   ]
  },
  {
   "cell_type": "code",
   "execution_count": 7,
   "id": "fatal-threat",
   "metadata": {},
   "outputs": [],
   "source": [
    "metadata = pickle.load(open(data_path + \"first_subs_nifti_metadata.pkl\",'rb'))"
   ]
  },
  {
   "cell_type": "code",
   "execution_count": 47,
   "id": "simplified-theme",
   "metadata": {},
   "outputs": [],
   "source": [
    "from measure_results import *"
   ]
  },
  {
   "cell_type": "markdown",
   "id": "artificial-botswana",
   "metadata": {},
   "source": [
    "## Full analysis with nested CV"
   ]
  },
  {
   "cell_type": "code",
   "execution_count": 10,
   "id": "rapid-philip",
   "metadata": {},
   "outputs": [
    {
     "ename": "FileNotFoundError",
     "evalue": "[Errno 2] No such file or directory: '/gpfs/projects/sanlab/bsmith16/data/cv_train_test_60subjs_sets_outer_n_loocv.pkl'",
     "output_type": "error",
     "traceback": [
      "\u001b[0;31m---------------------------------------------------------------------------\u001b[0m",
      "\u001b[0;31mFileNotFoundError\u001b[0m                         Traceback (most recent call last)",
      "\u001b[0;32m<ipython-input-10-13f9c924d303>\u001b[0m in \u001b[0;36m<module>\u001b[0;34m\u001b[0m\n\u001b[0;32m----> 1\u001b[0;31m \u001b[0mloocv_results\u001b[0m \u001b[0;34m=\u001b[0m \u001b[0mpickle\u001b[0m\u001b[0;34m.\u001b[0m\u001b[0mload\u001b[0m\u001b[0;34m(\u001b[0m\u001b[0mopen\u001b[0m\u001b[0;34m(\u001b[0m\u001b[0mdata_path\u001b[0m \u001b[0;34m+\u001b[0m \u001b[0;34m\"cv_train_test_60subjs_sets_outer_n_loocv.pkl\"\u001b[0m\u001b[0;34m,\u001b[0m\u001b[0;34m'rb'\u001b[0m\u001b[0;34m)\u001b[0m\u001b[0;34m)\u001b[0m\u001b[0;34m\u001b[0m\u001b[0;34m\u001b[0m\u001b[0m\n\u001b[0m\u001b[1;32m      2\u001b[0m \u001b[0mtest_scores_same\u001b[0m\u001b[0;34m=\u001b[0m\u001b[0mloocv_results\u001b[0m\u001b[0;34m[\u001b[0m\u001b[0;36m0\u001b[0m\u001b[0;34m]\u001b[0m\u001b[0;34m\u001b[0m\u001b[0;34m\u001b[0m\u001b[0m\n\u001b[1;32m      3\u001b[0m \u001b[0mtt_results\u001b[0m\u001b[0;34m=\u001b[0m\u001b[0mloocv_results\u001b[0m\u001b[0;34m[\u001b[0m\u001b[0;36m1\u001b[0m\u001b[0;34m]\u001b[0m\u001b[0;34m\u001b[0m\u001b[0;34m\u001b[0m\u001b[0m\n\u001b[1;32m      4\u001b[0m \u001b[0mresults_by_trainset_item\u001b[0m\u001b[0;34m=\u001b[0m\u001b[0mloocv_results\u001b[0m\u001b[0;34m[\u001b[0m\u001b[0;36m2\u001b[0m\u001b[0;34m]\u001b[0m\u001b[0;34m\u001b[0m\u001b[0;34m\u001b[0m\u001b[0m\n",
      "\u001b[0;31mFileNotFoundError\u001b[0m: [Errno 2] No such file or directory: '/gpfs/projects/sanlab/bsmith16/data/cv_train_test_60subjs_sets_outer_n_loocv.pkl'"
     ]
    }
   ],
   "source": [
    "loocv_results = pickle.load(open(data_path + \"cv_train_test_60subjs_sets_outer_n_loocv.pkl\",'rb'))\n",
    "test_scores_same=loocv_results[0]\n",
    "tt_results=loocv_results[1]\n",
    "results_by_trainset_item=loocv_results[2]"
   ]
  },
  {
   "cell_type": "code",
   "execution_count": 21,
   "id": "subject-mercury",
   "metadata": {},
   "outputs": [],
   "source": [
    "results = pd.concat([metadata,results_by_trainset_item],axis=1)"
   ]
  },
  {
   "cell_type": "code",
   "execution_count": 22,
   "id": "moral-german",
   "metadata": {},
   "outputs": [],
   "source": [
    "results['result_group'] = results.group + \"_\" + results.run"
   ]
  },
  {
   "cell_type": "code",
   "execution_count": 23,
   "id": "natural-soccer",
   "metadata": {},
   "outputs": [],
   "source": [
    "\n",
    "\n",
    "within_subj_predictions = within_group_performance(results,pearsonr_cor_func,'result_group')\n",
    "    \n",
    "r2_score_within_subj = math.pow(np.mean(within_subj_predictions),2)"
   ]
  },
  {
   "cell_type": "code",
   "execution_count": 24,
   "id": "killing-forty",
   "metadata": {},
   "outputs": [
    {
     "data": {
      "text/plain": [
       "0.22593644995643092"
      ]
     },
     "execution_count": 24,
     "metadata": {},
     "output_type": "execute_result"
    }
   ],
   "source": [
    "math.pow(pearsonr(results['y'],results['y_pred'])[0],2)"
   ]
  },
  {
   "cell_type": "code",
   "execution_count": 25,
   "id": "dying-fever",
   "metadata": {},
   "outputs": [
    {
     "data": {
      "text/plain": [
       "0.24964975312247112"
      ]
     },
     "execution_count": 25,
     "metadata": {},
     "output_type": "execute_result"
    }
   ],
   "source": [
    "r2_score_within_subj"
   ]
  },
  {
   "cell_type": "code",
   "execution_count": 26,
   "id": "hindu-january",
   "metadata": {},
   "outputs": [
    {
     "name": "stdout",
     "output_type": "stream",
     "text": [
      "0.4765406183765473\n",
      "0.499649630363589\n"
     ]
    }
   ],
   "source": [
    "\n",
    "within_subj_predictions_spearman = within_group_performance(results,spearmanr_cor_func,'result_group')\n",
    "    \n",
    "rho_score_within_subj = np.mean(within_subj_predictions)\n",
    "\n",
    "print(spearmanr(results['y'],results['y_pred'])[0])\n",
    "print(rho_score_within_subj)"
   ]
  },
  {
   "cell_type": "markdown",
   "id": "narrative-thesaurus",
   "metadata": {},
   "source": [
    "OK great that appears to have worked??? No improvement over previous, but that's OK; we're just trying to get a more consistent measure working."
   ]
  },
  {
   "cell_type": "code",
   "execution_count": 27,
   "id": "metallic-chrome",
   "metadata": {},
   "outputs": [
    {
     "data": {
      "text/plain": [
       "60"
      ]
     },
     "execution_count": 27,
     "metadata": {},
     "output_type": "execute_result"
    }
   ],
   "source": [
    "len(tt_results)"
   ]
  },
  {
   "cell_type": "code",
   "execution_count": 28,
   "id": "successful-delivery",
   "metadata": {},
   "outputs": [
    {
     "data": {
      "text/plain": [
       "3"
      ]
     },
     "execution_count": 28,
     "metadata": {},
     "output_type": "execute_result"
    }
   ],
   "source": [
    "len(loocv_results)"
   ]
  },
  {
   "cell_type": "markdown",
   "id": "communist-damage",
   "metadata": {},
   "source": [
    "## simple\n",
    "\n",
    "Doesn't seem to be able to give us the model for each individual fold so we might leave this and just focus on the method above."
   ]
  },
  {
   "cell_type": "code",
   "execution_count": 12,
   "id": "vanilla-soldier",
   "metadata": {},
   "outputs": [
    {
     "data": {
      "text/plain": [
       "6"
      ]
     },
     "execution_count": 12,
     "metadata": {},
     "output_type": "execute_result"
    }
   ],
   "source": [
    "loocv_simple_scores = pickle.load(open(data_path + \"train_test_simple_results_ns_w_hrf_from_spm_40subs.pkl\",'rb'))\n",
    "\n",
    "len(loocv_simple_scores)\n",
    "\n"
   ]
  },
  {
   "cell_type": "markdown",
   "id": "liked-malaysia",
   "metadata": {},
   "source": [
    "OK we can line up the obs, train_y_pred, and the metadata with a simple concat."
   ]
  },
  {
   "cell_type": "code",
   "execution_count": 39,
   "id": "sophisticated-blues",
   "metadata": {},
   "outputs": [],
   "source": [
    "if np.all(loocv_simple_scores['obs']==loocv_simple_scores['metadata'].response):\n",
    "    results = pd.concat([loocv_simple_scores['metadata'],\n",
    "                         pd.Series(loocv_simple_scores['train_y_pred'],name='train_y_pred')\n",
    "                        ],axis=1)\n",
    "else:\n",
    "    raise Exception(\"error: obs out of sync with metadata\")"
   ]
  },
  {
   "cell_type": "code",
   "execution_count": 42,
   "id": "vocational-container",
   "metadata": {},
   "outputs": [
    {
     "data": {
      "text/plain": [
       "Index(['beta', 'type', 'task', 'event_id', 'isi_pre', 'onset', 'duration',\n",
       "       'food_pic', 'food_num', 'cond', 'health_cond', 'liking_cond',\n",
       "       'liking_rating', 'response', 'isi_post', 'end', 'run', 'wave',\n",
       "       'subject', 'train_y_pred'],\n",
       "      dtype='object')"
      ]
     },
     "execution_count": 42,
     "metadata": {},
     "output_type": "execute_result"
    }
   ],
   "source": [
    "results.columns"
   ]
  },
  {
   "cell_type": "code",
   "execution_count": 43,
   "id": "streaming-adult",
   "metadata": {},
   "outputs": [],
   "source": [
    "results['result_group'] = results.subject + \"_\" + results.run"
   ]
  },
  {
   "cell_type": "code",
   "execution_count": 51,
   "id": "refined-pontiac",
   "metadata": {},
   "outputs": [
    {
     "name": "stdout",
     "output_type": "stream",
     "text": [
      "Pearson's R^2 within subject and run:\n",
      "0.9732283507257504\n",
      "Pearson's R^2 within subject only:\n",
      "0.9732481125298129\n",
      "Pearson's R^2 across subjects:\n"
     ]
    },
    {
     "data": {
      "text/plain": [
       "0.9776390624681254"
      ]
     },
     "execution_count": 51,
     "metadata": {},
     "output_type": "execute_result"
    }
   ],
   "source": [
    "within_group_predictions = within_group_performance(\n",
    "    results,pearsonr_cor_func,'result_group',obs_col_name='response',pred_col_name='train_y_pred') \n",
    "r2_score_within_subj = math.pow(np.mean(within_group_predictions),2)\n",
    "print(\"Pearson's R^2 within subject and run:\")\n",
    "print(r2_score_within_subj)\n",
    "\n",
    "within_subj_predictions = within_group_performance(results,pearsonr_cor_func,'subject',obs_col_name='response',pred_col_name='train_y_pred') \n",
    "r2_score_within_subj_run = math.pow(np.mean(within_subj_predictions),2)\n",
    "print(\"Pearson's R^2 within subject only:\")\n",
    "print(r2_score_within_subj_run)\n",
    "\n",
    "\n",
    "\n",
    "print(\"Pearson's R^2 across subjects:\")\n",
    "math.pow(pearsonr(results['response'],results['train_y_pred'])[0],2)"
   ]
  },
  {
   "cell_type": "markdown",
   "id": "musical-bulgarian",
   "metadata": {},
   "source": [
    "I can't see how to get a cross-validated list out of this object. So I think we will not use this method again--I can't properly ensure a cross-validated accuracy score."
   ]
  },
  {
   "cell_type": "markdown",
   "id": "forward-thriller",
   "metadata": {},
   "source": [
    "## No HRF"
   ]
  },
  {
   "cell_type": "code",
   "execution_count": 58,
   "id": "noble-representative",
   "metadata": {},
   "outputs": [
    {
     "data": {
      "text/plain": [
       "6"
      ]
     },
     "execution_count": 58,
     "metadata": {},
     "output_type": "execute_result"
    }
   ],
   "source": [
    "loocv_simple_scores = pickle.load(open(data_path + \"train_test_simple_results_ns_no_hrf_from_spm_40subs.pkl\",'rb'))\n",
    "\n",
    "len(loocv_simple_scores)\n",
    "\n"
   ]
  },
  {
   "cell_type": "code",
   "execution_count": 70,
   "id": "about-hungarian",
   "metadata": {},
   "outputs": [],
   "source": [
    "def print_r_squared_results(loocv_simple_scores):\n",
    "    if np.all(loocv_simple_scores['obs']==loocv_simple_scores['metadata'].response):\n",
    "        results = pd.concat([loocv_simple_scores['metadata'],\n",
    "                             pd.Series(loocv_simple_scores['train_y_pred'],name='train_y_pred')\n",
    "                            ],axis=1)\n",
    "    else:\n",
    "        raise Exception(\"error: obs out of sync with metadata\")\n",
    "\n",
    "    results['result_group'] = results.subject + \"_\" + results.run\n",
    "\n",
    "    within_group_predictions = within_group_performance(\n",
    "        results,pearsonr_cor_func,'result_group',obs_col_name='response',pred_col_name='train_y_pred') \n",
    "    r2_score_within_subj = math.pow(np.mean(within_group_predictions),2)\n",
    "    print(\"Pearson's R^2 within subject and run:\")\n",
    "    print(r2_score_within_subj)\n",
    "\n",
    "    within_subj_predictions = within_group_performance(results,pearsonr_cor_func,'subject',obs_col_name='response',pred_col_name='train_y_pred') \n",
    "    r2_score_within_subj_run = math.pow(np.mean(within_subj_predictions),2)\n",
    "    print(\"Pearson's R^2 within subject only:\")\n",
    "    print(r2_score_within_subj_run)\n",
    "\n",
    "\n",
    "\n",
    "    print(\"Pearson's R^2 across subjects:\")\n",
    "    print(math.pow(pearsonr(results['response'],results['train_y_pred'])[0],2))"
   ]
  },
  {
   "cell_type": "code",
   "execution_count": 64,
   "id": "rural-detective",
   "metadata": {},
   "outputs": [
    {
     "name": "stdout",
     "output_type": "stream",
     "text": [
      "Pearson's R^2 within subject and run:\n",
      "0.9876036107669584\n",
      "Pearson's R^2 within subject only:\n",
      "0.9873310369883388\n",
      "Pearson's R^2 across subjects:\n"
     ]
    }
   ],
   "source": [
    "print_r_squared_results(loocv_simple_scores)"
   ]
  },
  {
   "cell_type": "markdown",
   "id": "excited-mayor",
   "metadata": {},
   "source": [
    "## ns_6s_no_hrf_from_spm_40subs"
   ]
  },
  {
   "cell_type": "code",
   "execution_count": 65,
   "id": "absolute-direction",
   "metadata": {},
   "outputs": [
    {
     "data": {
      "text/plain": [
       "6"
      ]
     },
     "execution_count": 65,
     "metadata": {},
     "output_type": "execute_result"
    }
   ],
   "source": [
    "loocv_simple_scores = pickle.load(open(data_path + \"train_test_simple_results_ns_6s_no_hrf_from_spm_40subs.pkl\",'rb'))\n",
    "\n",
    "len(loocv_simple_scores)\n",
    "\n"
   ]
  },
  {
   "cell_type": "code",
   "execution_count": 66,
   "id": "bright-cookbook",
   "metadata": {},
   "outputs": [
    {
     "name": "stdout",
     "output_type": "stream",
     "text": [
      "Pearson's R^2 within subject and run:\n",
      "0.982710128912157\n",
      "Pearson's R^2 within subject only:\n",
      "0.9826215680586369\n",
      "Pearson's R^2 across subjects:\n"
     ]
    }
   ],
   "source": [
    "print_r_squared_results(loocv_simple_scores)"
   ]
  },
  {
   "cell_type": "markdown",
   "id": "changing-redhead",
   "metadata": {},
   "source": [
    "## ns_w_hrf_from_spm_at_fingerpress_40subs"
   ]
  },
  {
   "cell_type": "code",
   "execution_count": 69,
   "id": "smooth-holocaust",
   "metadata": {},
   "outputs": [
    {
     "data": {
      "text/plain": [
       "6"
      ]
     },
     "execution_count": 69,
     "metadata": {},
     "output_type": "execute_result"
    }
   ],
   "source": [
    "loocv_simple_scores = pickle.load(\n",
    "    open(data_path + \n",
    "         \"train_test_simple_results_ns_w_hrf_from_spm_at_fingerpress_40subs.pkl\",'rb'))\n",
    "\n",
    "len(loocv_simple_scores)\n",
    "\n"
   ]
  },
  {
   "cell_type": "code",
   "execution_count": 71,
   "id": "cosmetic-bloom",
   "metadata": {},
   "outputs": [
    {
     "name": "stdout",
     "output_type": "stream",
     "text": [
      "Pearson's R^2 within subject and run:\n",
      "0.96874064080543\n",
      "Pearson's R^2 within subject only:\n",
      "0.9672889124896762\n",
      "Pearson's R^2 across subjects:\n",
      "0.9710799807879283\n"
     ]
    }
   ],
   "source": [
    "print_r_squared_results(loocv_simple_scores)"
   ]
  },
  {
   "cell_type": "markdown",
   "id": "sound-cooper",
   "metadata": {},
   "source": [
    "## ns_2s_split_0_40subs"
   ]
  },
  {
   "cell_type": "code",
   "execution_count": 73,
   "id": "romance-precipitation",
   "metadata": {},
   "outputs": [
    {
     "data": {
      "text/plain": [
       "6"
      ]
     },
     "execution_count": 73,
     "metadata": {},
     "output_type": "execute_result"
    }
   ],
   "source": [
    "loocv_simple_scores = pickle.load(\n",
    "    open(data_path + \n",
    "         \"train_test_simple_results_ns_2s_split_0_40subs.pkl\",'rb'))\n",
    "\n",
    "len(loocv_simple_scores)\n",
    "\n"
   ]
  },
  {
   "cell_type": "code",
   "execution_count": 74,
   "id": "geological-preview",
   "metadata": {},
   "outputs": [
    {
     "name": "stdout",
     "output_type": "stream",
     "text": [
      "Pearson's R^2 within subject and run:\n",
      "0.9876036107669584\n",
      "Pearson's R^2 within subject only:\n",
      "0.9873310369883388\n",
      "Pearson's R^2 across subjects:\n",
      "0.989454130644467\n"
     ]
    }
   ],
   "source": [
    "print_r_squared_results(loocv_simple_scores)"
   ]
  },
  {
   "cell_type": "code",
   "execution_count": null,
   "id": "original-sullivan",
   "metadata": {},
   "outputs": [],
   "source": []
  }
 ],
 "metadata": {
  "kernelspec": {
   "display_name": "Python [conda env:.conda-neuralsignature]",
   "language": "python",
   "name": "conda-env-.conda-neuralsignature-py"
  },
  "language_info": {
   "codemirror_mode": {
    "name": "ipython",
    "version": 3
   },
   "file_extension": ".py",
   "mimetype": "text/x-python",
   "name": "python",
   "nbconvert_exporter": "python",
   "pygments_lexer": "ipython3",
   "version": "3.8.5"
  }
 },
 "nbformat": 4,
 "nbformat_minor": 5
}
