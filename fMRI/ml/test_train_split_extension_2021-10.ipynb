{
 "cells": [
  {
   "cell_type": "markdown",
   "id": "sapphire-ranch",
   "metadata": {},
   "source": [
    "This file extends the earlier test-train split to 50-50 subjects."
   ]
  },
  {
   "cell_type": "code",
   "execution_count": 2,
   "id": "prompt-roberts",
   "metadata": {},
   "outputs": [
    {
     "name": "stderr",
     "output_type": "stream",
     "text": [
      "/home/bsmith16/.conda/envs/neuralsignature/lib/python3.8/site-packages/nilearn/datasets/__init__.py:87: FutureWarning: Fetchers from the nilearn.datasets module will be updated in version 0.9 to return python strings instead of bytes and Pandas dataframes instead of Numpy arrays.\n",
      "  warn(\"Fetchers from the nilearn.datasets module will be \"\n"
     ]
    }
   ],
   "source": [
    "import sys\n",
    "import os\n",
    "import pandas as pd\n",
    "import re\n",
    "\n",
    "sys.path.append(os.path.abspath(\"../../ml/\"))\n",
    "\n",
    "from dev_wtp_io_utils import *\n",
    "\n",
    "nonbids_data_path = \"/gpfs/projects/sanlab/shared/DEV/nonbids_data/\"\n",
    "ml_data_folderpath = \"/gpfs/projects/sanlab/shared/DEV/nonbids_data/fMRI/ml\""
   ]
  },
  {
   "cell_type": "code",
   "execution_count": 3,
   "id": "extraordinary-segment",
   "metadata": {},
   "outputs": [],
   "source": [
    "train_test_markers_filepath = ml_data_folderpath + \"/train_test_markers_20210601T183243.csv\""
   ]
  },
  {
   "cell_type": "code",
   "execution_count": 4,
   "id": "assured-sunday",
   "metadata": {},
   "outputs": [
    {
     "data": {
      "text/plain": [
       "'/gpfs/projects/sanlab/shared/DEV/nonbids_data/fMRI/ml/train_test_markers_20210601T183243.csv'"
      ]
     },
     "execution_count": 4,
     "metadata": {},
     "output_type": "execute_result"
    }
   ],
   "source": [
    "train_test_markers_filepath"
   ]
  },
  {
   "cell_type": "code",
   "execution_count": null,
   "id": "ultimate-estate",
   "metadata": {},
   "outputs": [],
   "source": [
    "pre_determined_training_subjs = already_peaked_labels"
   ]
  }
 ],
 "metadata": {
  "kernelspec": {
   "display_name": "Python [conda env:.conda-neuralsignature]",
   "language": "python",
   "name": "conda-env-.conda-neuralsignature-py"
  },
  "language_info": {
   "codemirror_mode": {
    "name": "ipython",
    "version": 3
   },
   "file_extension": ".py",
   "mimetype": "text/x-python",
   "name": "python",
   "nbconvert_exporter": "python",
   "pygments_lexer": "ipython3",
   "version": "3.8.5"
  }
 },
 "nbformat": 4,
 "nbformat_minor": 5
}
