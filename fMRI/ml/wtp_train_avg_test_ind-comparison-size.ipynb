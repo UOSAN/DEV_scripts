{
 "cells": [
  {
   "cell_type": "code",
   "execution_count": 1,
   "id": "substantial-crawford",
   "metadata": {},
   "outputs": [
    {
     "name": "stderr",
     "output_type": "stream",
     "text": [
      "/home/bsmith16/.conda/envs/neuralsignature/lib/python3.8/site-packages/nilearn/datasets/__init__.py:87: FutureWarning: Fetchers from the nilearn.datasets module will be updated in version 0.9 to return python strings instead of bytes and Pandas dataframes instead of Numpy arrays.\n",
      "  warn(\"Fetchers from the nilearn.datasets module will be \"\n"
     ]
    }
   ],
   "source": [
    "import pandas as pd\n",
    "import numpy as np\n",
    "import os\n",
    "import nltools as nlt\n",
    "import nilearn as nil\n",
    "import nibabel as nib\n",
    "import warnings\n",
    "import glob\n",
    "import random\n",
    "import pickle\n",
    "import dev_wtp_io_utils\n",
    "from dev_wtp_io_utils import cv_train_test_sets\n",
    "import gc #garbage collection\n",
    "from nilearn import plotting\n",
    "from sklearn.model_selection import KFold,GroupKFold"
   ]
  },
  {
   "cell_type": "code",
   "execution_count": 2,
   "id": "agreed-aging",
   "metadata": {},
   "outputs": [],
   "source": [
    "pd.set_option('display.max_rows', 99)"
   ]
  },
  {
   "cell_type": "markdown",
   "id": "raising-surgery",
   "metadata": {},
   "source": [
    "In this doc we're going to repeatedly do analyses to work out how large a sample do we need to get fairly stable estimates."
   ]
  },
  {
   "cell_type": "markdown",
   "id": "further-moore",
   "metadata": {},
   "source": [
    "### Load brain data"
   ]
  },
  {
   "cell_type": "code",
   "execution_count": null,
   "id": "chronic-bargain",
   "metadata": {},
   "outputs": [],
   "source": []
  },
  {
   "cell_type": "code",
   "execution_count": 3,
   "id": "labeled-alias",
   "metadata": {},
   "outputs": [],
   "source": [
    "test_train_set = pd.read_csv(\"../data/train_test_markers_20210601T183243.csv\")"
   ]
  },
  {
   "cell_type": "code",
   "execution_count": 4,
   "id": "close-robertson",
   "metadata": {},
   "outputs": [
    {
     "name": "stdout",
     "output_type": "stream",
     "text": [
      "checked for intersection and no intersection between the brain data and the subjects was found.\n",
      "there were 60 subjects overlapping between the subjects marked for train data and the training dump file itself.\n"
     ]
    }
   ],
   "source": [
    "with open('../data/Brain_Data_2sns_60subs.pkl', 'rb') as pkl_file:\n",
    "    Brain_Data_allsubs = pickle.load(pkl_file)\n",
    "    \n",
    "dev_wtp_io_utils.check_BD_against_test_train_set(Brain_Data_allsubs,test_train_set)"
   ]
  },
  {
   "cell_type": "code",
   "execution_count": 5,
   "id": "progressive-novel",
   "metadata": {},
   "outputs": [
    {
     "name": "stdout",
     "output_type": "stream",
     "text": [
      "checked for intersection and no intersection between the brain data and the subjects was found.\n",
      "there were 60 subjects overlapping between the subjects marked for train data and the training dump file itself.\n"
     ]
    }
   ],
   "source": [
    "with open('../data/Brain_Data_2sns_60subs_grouped.pkl', 'rb') as pkl_file:\n",
    "    Brain_Data_allsubs_grouped = pickle.load(pkl_file)\n",
    "    \n",
    "dev_wtp_io_utils.check_BD_against_test_train_set(Brain_Data_allsubs_grouped,test_train_set)"
   ]
  },
  {
   "cell_type": "markdown",
   "id": "soviet-mouse",
   "metadata": {},
   "source": [
    "### Preprocess"
   ]
  },
  {
   "cell_type": "code",
   "execution_count": 6,
   "id": "extended-grant",
   "metadata": {},
   "outputs": [
    {
     "name": "stdout",
     "output_type": "stream",
     "text": [
      "5.0    1164\n",
      "6.0    1018\n",
      "7.0     904\n",
      "8.0     604\n",
      "Name: response, dtype: int64\n",
      "5.0    1164\n",
      "6.0    1018\n",
      "7.0     904\n",
      "8.0     604\n",
      "Name: response, dtype: int64\n",
      "False    3690\n",
      "True      150\n",
      "Name: response, dtype: int64\n",
      "3690\n",
      "3840\n"
     ]
    }
   ],
   "source": [
    "Brain_Data_allsubs.Y = Brain_Data_allsubs.X.response.copy()\n",
    "print(Brain_Data_allsubs.Y.value_counts())\n",
    "Brain_Data_allsubs.Y[Brain_Data_allsubs.Y=='NULL']=None\n",
    "print(Brain_Data_allsubs.Y.value_counts())\n",
    "print(Brain_Data_allsubs.Y.isnull().value_counts())\n",
    "Brain_Data_allsubs_nn = Brain_Data_allsubs[Brain_Data_allsubs.Y.isnull()==False]\n",
    "print(len(Brain_Data_allsubs_nn))\n",
    "print(len(Brain_Data_allsubs))"
   ]
  },
  {
   "cell_type": "code",
   "execution_count": 7,
   "id": "noble-observer",
   "metadata": {},
   "outputs": [
    {
     "data": {
      "text/plain": [
       "0       DEV001\n",
       "1       DEV001\n",
       "2       DEV001\n",
       "3       DEV001\n",
       "4       DEV001\n",
       "         ...  \n",
       "3685    DEV089\n",
       "3686    DEV089\n",
       "3687    DEV089\n",
       "3688    DEV089\n",
       "3689    DEV089\n",
       "Name: subject, Length: 3690, dtype: object"
      ]
     },
     "execution_count": 7,
     "metadata": {},
     "output_type": "execute_result"
    }
   ],
   "source": [
    "all_subs_nn_nifti = Brain_Data_allsubs_nn.to_nifti()\n",
    "all_subs_nn_nifti_Y = Brain_Data_allsubs_nn.Y\n",
    "all_subs_nn_nifti_groups = Brain_Data_allsubs_nn.X.subject\n",
    "all_subs_nn_nifti_groups"
   ]
  },
  {
   "cell_type": "code",
   "execution_count": 8,
   "id": "listed-strap",
   "metadata": {},
   "outputs": [
    {
     "name": "stdout",
     "output_type": "stream",
     "text": [
      "6.0    236\n",
      "7.0    235\n",
      "5.0    227\n",
      "8.0    202\n",
      "Name: response, dtype: int64\n"
     ]
    },
    {
     "data": {
      "text/plain": [
       "0      DEV001\n",
       "1      DEV001\n",
       "2      DEV001\n",
       "3      DEV001\n",
       "4      DEV001\n",
       "        ...  \n",
       "895    DEV089\n",
       "896    DEV089\n",
       "897    DEV089\n",
       "898    DEV089\n",
       "899    DEV089\n",
       "Name: subject, Length: 900, dtype: object"
      ]
     },
     "execution_count": 8,
     "metadata": {},
     "output_type": "execute_result"
    }
   ],
   "source": [
    "Brain_Data_allsubs_grouped.Y = Brain_Data_allsubs_grouped.X.response.copy()\n",
    "print(Brain_Data_allsubs_grouped.Y.value_counts())\n",
    "all_subs_grouped_nifti = Brain_Data_allsubs_grouped.to_nifti()\n",
    "all_subs_grouped_nifti_Y = Brain_Data_allsubs_grouped.Y\n",
    "all_subs_grouped_nifti_groups = Brain_Data_allsubs_grouped.X.subject\n",
    "all_subs_grouped_nifti_groups"
   ]
  },
  {
   "cell_type": "markdown",
   "id": "greater-basin",
   "metadata": {},
   "source": [
    "### Predict\n",
    "\n",
    "Regressing in nilearn:\n",
    " - https://nilearn.github.io/decoding/estimator_choice.html\n",
    " - http://www.ncbi.nlm.nih.gov/pubmed/20691790\n",
    "\n",
    "\n",
    "\n",
    "\n",
    "\n"
   ]
  },
  {
   "cell_type": "markdown",
   "id": "authentic-flight",
   "metadata": {},
   "source": [
    "OK, so that's how you do it. It's pretty straightforward.\n",
    "\n",
    "So...we won't look at nested cross-validation juuust yet, because the next step is to work out how to train on one set and predict on another. that will definitely require a custom pipeline. Let's get started..."
   ]
  },
  {
   "cell_type": "code",
   "execution_count": 9,
   "id": "removable-transfer",
   "metadata": {},
   "outputs": [
    {
     "data": {
      "text/plain": [
       "15"
      ]
     },
     "execution_count": 9,
     "metadata": {},
     "output_type": "execute_result"
    }
   ],
   "source": [
    "del Brain_Data_allsubs\n",
    "del Brain_Data_allsubs_grouped\n",
    "gc.collect()"
   ]
  },
  {
   "cell_type": "code",
   "execution_count": 10,
   "id": "least-quarter",
   "metadata": {},
   "outputs": [
    {
     "name": "stdout",
     "output_type": "stream",
     "text": [
      "___: 232614\n",
      "all_subs_nn_nifti_groups: 232614\n",
      "_7: 232614\n",
      "__: 56844\n",
      "all_subs_grouped_nifti_groups: 56844\n",
      "_8: 56844\n",
      "all_subs_nn_nifti_Y: 29664\n",
      "test_train_set: 9549\n",
      "all_subs_grouped_nifti_Y: 7344\n",
      "_i6: 448\n"
     ]
    }
   ],
   "source": [
    "import sys\n",
    "for name, size in sorted(((name, sys.getsizeof(value)) for name, value in locals().items()),\n",
    "                         key= lambda x: -x[1])[:10]:\n",
    "    print(name + ': ' + str(size))"
   ]
  },
  {
   "cell_type": "markdown",
   "id": "radio-nitrogen",
   "metadata": {},
   "source": [
    "As a control, we'll try this again, this time just training and testing on individual values:"
   ]
  },
  {
   "cell_type": "code",
   "execution_count": 11,
   "id": "listed-glory",
   "metadata": {},
   "outputs": [],
   "source": [
    "from pympler.asizeof import asizeof\n",
    "\n",
    "def asizeof_fmt(obj, suffix='B'):\n",
    "    ''' by Fred Cirera,  https://stackoverflow.com/a/1094933/1870254, modified'''\n",
    "    num = asizeof(obj)\n",
    "    for unit in ['','Ki','Mi','Gi','Ti','Pi','Ei','Zi']:\n",
    "        if abs(num) < 1024.0:\n",
    "            return \"%3.1f %s%s\" % (num, unit, suffix)\n",
    "        num /= 1024.0\n",
    "    return \"%.1f %s%s\" % (num, 'Yi', suffix)\n",
    "\n",
    "# for name, size in sorted(((name, asizeof(value)) for name, value in locals().items()),\n",
    "#                          key= lambda x: -x[1])[:10]:\n"
   ]
  },
  {
   "cell_type": "code",
   "execution_count": 12,
   "id": "olive-venezuela",
   "metadata": {},
   "outputs": [
    {
     "data": {
      "text/plain": [
       "'3.3 GiB'"
      ]
     },
     "execution_count": 12,
     "metadata": {},
     "output_type": "execute_result"
    }
   ],
   "source": [
    "asizeof_fmt(Brain_Data_allsubs_nn)"
   ]
  },
  {
   "cell_type": "code",
   "execution_count": 13,
   "id": "antique-favor",
   "metadata": {},
   "outputs": [
    {
     "data": {
      "text/plain": [
       "'12.4 GiB'"
      ]
     },
     "execution_count": 13,
     "metadata": {},
     "output_type": "execute_result"
    }
   ],
   "source": [
    "asizeof_fmt(all_subs_nn_nifti)"
   ]
  },
  {
   "cell_type": "markdown",
   "id": "optical-perspective",
   "metadata": {},
   "source": [
    "### Sample size of 20\n",
    "\n",
    "We'll try this with different KFold sizes which will give us differing amounts of folds.\n",
    "\n",
    "The more folds, the slower it is, but the more accurate and stable the estimate will be.\n",
    "\n",
    "If we increase the number of samples, don't think that it will slow down too much. I expect estimate would increase linearly with (a) size of fold multiplied by (b) number of folds. So 40 subjects with 2-fold would probably be much more accurate than 20 subjects with 5-fold but would take the same amount of time.\n",
    "\n",
    "buuuuuuut....we can't handle a kernel that large... :-( "
   ]
  },
  {
   "cell_type": "markdown",
   "id": "adapted-gamma",
   "metadata": {},
   "source": [
    "get a small sample of subjects to extract"
   ]
  },
  {
   "cell_type": "code",
   "execution_count": 14,
   "id": "subsequent-lingerie",
   "metadata": {},
   "outputs": [],
   "source": [
    "sample_subject_items = np.unique(all_subs_nn_nifti_groups)[0:20]"
   ]
  },
  {
   "cell_type": "code",
   "execution_count": 15,
   "id": "antique-thread",
   "metadata": {},
   "outputs": [],
   "source": [
    "sample_subject_vector = [i for i, x in enumerate(all_subs_nn_nifti_groups) if x in sample_subject_items]\n",
    "sample_grouped_subject_vector = [i for i, x in enumerate(all_subs_grouped_nifti_groups) if x in sample_subject_items]"
   ]
  },
  {
   "cell_type": "code",
   "execution_count": 16,
   "id": "economic-thought",
   "metadata": {},
   "outputs": [
    {
     "data": {
      "text/plain": [
       "1208"
      ]
     },
     "execution_count": 16,
     "metadata": {},
     "output_type": "execute_result"
    }
   ],
   "source": [
    "len(sample_subject_vector)"
   ]
  },
  {
   "cell_type": "markdown",
   "id": "experimental-click",
   "metadata": {},
   "source": [
    "and now extract them"
   ]
  },
  {
   "cell_type": "code",
   "execution_count": 17,
   "id": "opened-party",
   "metadata": {},
   "outputs": [],
   "source": [
    "first_subs_nifti = nib.funcs.concat_images([all_subs_nn_nifti.slicer[...,s] for s in sample_subject_vector])\n",
    "first_subs_nifti_Y = all_subs_nn_nifti_Y[sample_subject_vector]\n",
    "first_subs_nifti = nil.image.clean_img(first_subs_nifti,detrend=False,standardize=True)\n",
    "first_subs_nifti_groups = all_subs_nn_nifti_groups[sample_subject_vector]\n",
    "\n",
    "#del all_subs_nn_nifti\n",
    "#gc.collect()"
   ]
  },
  {
   "cell_type": "code",
   "execution_count": 18,
   "id": "false-cannon",
   "metadata": {},
   "outputs": [],
   "source": [
    "first_subs_grouped_nifti = nib.funcs.concat_images([all_subs_grouped_nifti.slicer[...,s] for s in sample_grouped_subject_vector])\n",
    "first_subs_grouped_nifti_Y = all_subs_grouped_nifti_Y[sample_grouped_subject_vector]\n",
    "first_subs_grouped_nifti = nil.image.clean_img(first_subs_grouped_nifti,detrend=False,standardize=True)\n",
    "first_subs_grouped_nifti_groups = all_subs_grouped_nifti_groups[sample_grouped_subject_vector]\n",
    "\n",
    "#del all_subs_grouped_nifti\n",
    "#gc.collect()"
   ]
  },
  {
   "cell_type": "code",
   "execution_count": 19,
   "id": "israeli-electronics",
   "metadata": {},
   "outputs": [],
   "source": []
  },
  {
   "cell_type": "code",
   "execution_count": 21,
   "id": "terminal-block",
   "metadata": {},
   "outputs": [
    {
     "name": "stdout",
     "output_type": "stream",
     "text": [
      "__________________\n",
      "TRYING WITH N SPLIT 3\n",
      "ATTEMPT 0\n",
      "using default regressor. In order to test on a training group of 13 items, holding out the following subjects:['DEV001' 'DEV012' 'DEV010' 'DEV017' 'DEV015' 'DEV026' 'DEV027']. selecting training data. (91, 109, 91, 199). 1.3 GiB. selecting test data. 2.8 GiB. (91, 109, 91, 414). regressing. 1.3 GiB. trying regressor 1 of 1. predicting. test score was:. 0.1213591957682395\n",
      "In order to test on a training group of 13 items, holding out the following subjects:['DEV005' 'DEV006' 'DEV009' 'DEV021' 'DEV025' 'DEV023' 'DEV022']. selecting training data. (91, 109, 91, 189). 1.3 GiB. selecting test data. 2.9 GiB. (91, 109, 91, 435). regressing. 1.3 GiB. trying regressor 1 of 1. "
     ]
    },
    {
     "name": "stderr",
     "output_type": "stream",
     "text": [
      "/home/bsmith16/.conda/envs/neuralsignature/lib/python3.8/site-packages/nilearn/decoding/decoder.py:143: UserWarning: Use a custom estimator at your own risk of the process not working as intended.\n",
      "  warnings.warn('Use a custom estimator at your own risk '\n"
     ]
    },
    {
     "name": "stdout",
     "output_type": "stream",
     "text": [
      "predicting. test score was:. 0.07168659067695593\n",
      "In order to test on a training group of 14 items, holding out the following subjects:['DEV016' 'DEV018' 'DEV024' 'DEV013' 'DEV014' 'DEV019']. selecting training data. (91, 109, 91, 208). 1.4 GiB. selecting test data. 2.4 GiB. (91, 109, 91, 359). regressing. 1.4 GiB. trying regressor 1 of 1. "
     ]
    },
    {
     "name": "stderr",
     "output_type": "stream",
     "text": [
      "/home/bsmith16/.conda/envs/neuralsignature/lib/python3.8/site-packages/nilearn/decoding/decoder.py:143: UserWarning: Use a custom estimator at your own risk of the process not working as intended.\n",
      "  warnings.warn('Use a custom estimator at your own risk '\n"
     ]
    },
    {
     "name": "stdout",
     "output_type": "stream",
     "text": [
      "predicting. test score was:. -0.028535436877964004\n",
      "ATTEMPT 1\n",
      "using default regressor. In order to test on a training group of 13 items, holding out the following subjects:['DEV001' 'DEV010' 'DEV018' 'DEV024' 'DEV026' 'DEV022' 'DEV019']. selecting training data. (91, 109, 91, 193). 1.3 GiB. selecting test data. 2.8 GiB. (91, 109, 91, 416). regressing. 1.3 GiB. trying regressor 1 of 1. predicting. test score was:. 0.08675396529590695\n",
      "In order to test on a training group of 13 items, holding out the following subjects:['DEV012' 'DEV013' 'DEV017' 'DEV015' 'DEV023' 'DEV014' 'DEV027']. selecting training data. (91, 109, 91, 198). 1.3 GiB. selecting test data. 2.8 GiB. (91, 109, 91, 421). regressing. 1.3 GiB. trying regressor 1 of 1. "
     ]
    },
    {
     "name": "stderr",
     "output_type": "stream",
     "text": [
      "/home/bsmith16/.conda/envs/neuralsignature/lib/python3.8/site-packages/nilearn/decoding/decoder.py:143: UserWarning: Use a custom estimator at your own risk of the process not working as intended.\n",
      "  warnings.warn('Use a custom estimator at your own risk '\n"
     ]
    },
    {
     "name": "stdout",
     "output_type": "stream",
     "text": [
      "predicting. test score was:. -0.03860237444608705\n",
      "In order to test on a training group of 14 items, holding out the following subjects:['DEV005' 'DEV006' 'DEV009' 'DEV016' 'DEV021' 'DEV025']. selecting training data. (91, 109, 91, 205). 1.4 GiB. selecting test data. 2.5 GiB. (91, 109, 91, 371). regressing. 1.4 GiB. trying regressor 1 of 1. "
     ]
    },
    {
     "name": "stderr",
     "output_type": "stream",
     "text": [
      "/home/bsmith16/.conda/envs/neuralsignature/lib/python3.8/site-packages/nilearn/decoding/decoder.py:143: UserWarning: Use a custom estimator at your own risk of the process not working as intended.\n",
      "  warnings.warn('Use a custom estimator at your own risk '\n"
     ]
    },
    {
     "name": "stdout",
     "output_type": "stream",
     "text": [
      "predicting. test score was:. 0.104964470665178\n",
      "ATTEMPT 2\n",
      "using default regressor. In order to test on a training group of 13 items, holding out the following subjects:['DEV021' 'DEV024' 'DEV015' 'DEV026' 'DEV014' 'DEV027' 'DEV019']. selecting training data. (91, 109, 91, 195). 1.3 GiB. selecting test data. 2.8 GiB. (91, 109, 91, 414). regressing. 1.3 GiB. trying regressor 1 of 1. predicting. test score was:. 0.1169246345302285\n",
      "In order to test on a training group of 13 items, holding out the following subjects:['DEV009' 'DEV016' 'DEV010' 'DEV013' 'DEV017' 'DEV023' 'DEV022']. selecting training data. (91, 109, 91, 193). 1.3 GiB. selecting test data. 2.8 GiB. (91, 109, 91, 422). regressing. 1.3 GiB. trying regressor 1 of 1. "
     ]
    },
    {
     "name": "stderr",
     "output_type": "stream",
     "text": [
      "/home/bsmith16/.conda/envs/neuralsignature/lib/python3.8/site-packages/nilearn/decoding/decoder.py:143: UserWarning: Use a custom estimator at your own risk of the process not working as intended.\n",
      "  warnings.warn('Use a custom estimator at your own risk '\n"
     ]
    },
    {
     "name": "stdout",
     "output_type": "stream",
     "text": [
      "predicting. test score was:. -0.005769637726260601\n",
      "In order to test on a training group of 14 items, holding out the following subjects:['DEV005' 'DEV001' 'DEV006' 'DEV012' 'DEV025' 'DEV018']. selecting training data. (91, 109, 91, 208). 1.4 GiB. selecting test data. 2.5 GiB. (91, 109, 91, 372). regressing. 1.4 GiB. trying regressor 1 of 1. "
     ]
    },
    {
     "name": "stderr",
     "output_type": "stream",
     "text": [
      "/home/bsmith16/.conda/envs/neuralsignature/lib/python3.8/site-packages/nilearn/decoding/decoder.py:143: UserWarning: Use a custom estimator at your own risk of the process not working as intended.\n",
      "  warnings.warn('Use a custom estimator at your own risk '\n"
     ]
    },
    {
     "name": "stdout",
     "output_type": "stream",
     "text": [
      "predicting. test score was:. 0.11616137280039252\n",
      "ATTEMPT 3\n",
      "using default regressor. In order to test on a training group of 13 items, holding out the following subjects:['DEV005' 'DEV012' 'DEV024' 'DEV013' 'DEV023' 'DEV014' 'DEV022']. selecting training data. (91, 109, 91, 191). 1.3 GiB. selecting test data. 3.0 GiB. (91, 109, 91, 441). regressing. 1.3 GiB. trying regressor 1 of 1. predicting. test score was:. -0.02342095354056939\n",
      "In order to test on a training group of 13 items, holding out the following subjects:['DEV001' 'DEV009' 'DEV016' 'DEV021' 'DEV025' 'DEV015' 'DEV026']. selecting training data. (91, 109, 91, 193). 1.3 GiB. selecting test data. 2.9 GiB. (91, 109, 91, 429). regressing. 1.3 GiB. trying regressor 1 of 1. "
     ]
    },
    {
     "name": "stderr",
     "output_type": "stream",
     "text": [
      "/home/bsmith16/.conda/envs/neuralsignature/lib/python3.8/site-packages/nilearn/decoding/decoder.py:143: UserWarning: Use a custom estimator at your own risk of the process not working as intended.\n",
      "  warnings.warn('Use a custom estimator at your own risk '\n"
     ]
    },
    {
     "name": "stdout",
     "output_type": "stream",
     "text": [
      "predicting. test score was:. 0.13058069913108394\n",
      "In order to test on a training group of 14 items, holding out the following subjects:['DEV006' 'DEV010' 'DEV018' 'DEV017' 'DEV027' 'DEV019']. selecting training data. (91, 109, 91, 212). 1.4 GiB. selecting test data. 2.3 GiB. (91, 109, 91, 338). regressing. 1.4 GiB. trying regressor 1 of 1. "
     ]
    },
    {
     "name": "stderr",
     "output_type": "stream",
     "text": [
      "/home/bsmith16/.conda/envs/neuralsignature/lib/python3.8/site-packages/nilearn/decoding/decoder.py:143: UserWarning: Use a custom estimator at your own risk of the process not working as intended.\n",
      "  warnings.warn('Use a custom estimator at your own risk '\n"
     ]
    },
    {
     "name": "stdout",
     "output_type": "stream",
     "text": [
      "predicting. test score was:. 0.10479875101558\n",
      "ATTEMPT 4\n",
      "using default regressor. In order to test on a training group of 13 items, holding out the following subjects:['DEV009' 'DEV012' 'DEV018' 'DEV015' 'DEV023' 'DEV014' 'DEV019']. selecting training data. (91, 109, 91, 197). 1.3 GiB. selecting test data. 2.8 GiB. (91, 109, 91, 414). regressing. 1.3 GiB. trying regressor 1 of 1. predicting. test score was:. 0.09922921157700848\n",
      "In order to test on a training group of 13 items, holding out the following subjects:['DEV006' 'DEV016' 'DEV010' 'DEV025' 'DEV013' 'DEV026' 'DEV027']. selecting training data. (91, 109, 91, 190). 1.3 GiB. selecting test data. 2.9 GiB. (91, 109, 91, 428). regressing. 1.3 GiB. trying regressor 1 of 1. "
     ]
    },
    {
     "name": "stderr",
     "output_type": "stream",
     "text": [
      "/home/bsmith16/.conda/envs/neuralsignature/lib/python3.8/site-packages/nilearn/decoding/decoder.py:143: UserWarning: Use a custom estimator at your own risk of the process not working as intended.\n",
      "  warnings.warn('Use a custom estimator at your own risk '\n"
     ]
    },
    {
     "name": "stdout",
     "output_type": "stream",
     "text": [
      "predicting. test score was:. 0.06615892082442165\n",
      "In order to test on a training group of 14 items, holding out the following subjects:['DEV005' 'DEV001' 'DEV021' 'DEV024' 'DEV017' 'DEV022']. selecting training data. (91, 109, 91, 209). 1.4 GiB. selecting test data. 2.5 GiB. (91, 109, 91, 366). regressing. 1.4 GiB. trying regressor 1 of 1. "
     ]
    },
    {
     "name": "stderr",
     "output_type": "stream",
     "text": [
      "/home/bsmith16/.conda/envs/neuralsignature/lib/python3.8/site-packages/nilearn/decoding/decoder.py:143: UserWarning: Use a custom estimator at your own risk of the process not working as intended.\n",
      "  warnings.warn('Use a custom estimator at your own risk '\n"
     ]
    },
    {
     "name": "stdout",
     "output_type": "stream",
     "text": [
      "predicting. test score was:. 0.11602320890409668\n",
      "[0.05483678318907714, 0.051038687171665965, 0.07577212320145348, 0.07065283220203152, 0.09380378043517561]\n",
      "__________________\n",
      "TRYING WITH N SPLIT 5\n",
      "ATTEMPT 0\n",
      "using default regressor. In order to test on a training group of 16 items, holding out the following subjects:['DEV018' 'DEV024' 'DEV015' 'DEV019']. selecting training data. (91, 109, 91, 241). 1.6 GiB. selecting test data. 1.5 GiB. (91, 109, 91, 226). regressing. 1.6 GiB. trying regressor 1 of 1. predicting. test score was:. 0.11476413426513765\n",
      "In order to test on a training group of 16 items, holding out the following subjects:['DEV005' 'DEV017' 'DEV023' 'DEV027']. selecting training data. (91, 109, 91, 241). 1.6 GiB. selecting test data. 1.6 GiB. (91, 109, 91, 240). regressing. 1.6 GiB. trying regressor 1 of 1. "
     ]
    },
    {
     "name": "stderr",
     "output_type": "stream",
     "text": [
      "/home/bsmith16/.conda/envs/neuralsignature/lib/python3.8/site-packages/nilearn/decoding/decoder.py:143: UserWarning: Use a custom estimator at your own risk of the process not working as intended.\n",
      "  warnings.warn('Use a custom estimator at your own risk '\n"
     ]
    },
    {
     "name": "stdout",
     "output_type": "stream",
     "text": [
      "predicting. test score was:. -0.1086744599941496\n",
      "In order to test on a training group of 16 items, holding out the following subjects:['DEV001' 'DEV016' 'DEV021' 'DEV013']. selecting training data. (91, 109, 91, 237). 1.6 GiB. selecting test data. 1.7 GiB. (91, 109, 91, 253). regressing. 1.6 GiB. trying regressor 1 of 1. "
     ]
    },
    {
     "name": "stderr",
     "output_type": "stream",
     "text": [
      "/home/bsmith16/.conda/envs/neuralsignature/lib/python3.8/site-packages/nilearn/decoding/decoder.py:143: UserWarning: Use a custom estimator at your own risk of the process not working as intended.\n",
      "  warnings.warn('Use a custom estimator at your own risk '\n"
     ]
    },
    {
     "name": "stdout",
     "output_type": "stream",
     "text": [
      "predicting. test score was:. 0.1761931770139633\n",
      "In order to test on a training group of 16 items, holding out the following subjects:['DEV006' 'DEV009' 'DEV010' 'DEV014']. selecting training data. (91, 109, 91, 235). 1.6 GiB. selecting test data. 1.6 GiB. (91, 109, 91, 243). regressing. 1.6 GiB. trying regressor 1 of 1. "
     ]
    },
    {
     "name": "stderr",
     "output_type": "stream",
     "text": [
      "/home/bsmith16/.conda/envs/neuralsignature/lib/python3.8/site-packages/nilearn/decoding/decoder.py:143: UserWarning: Use a custom estimator at your own risk of the process not working as intended.\n",
      "  warnings.warn('Use a custom estimator at your own risk '\n"
     ]
    },
    {
     "name": "stdout",
     "output_type": "stream",
     "text": [
      "predicting. test score was:. 0.09651513285360058\n",
      "In order to test on a training group of 16 items, holding out the following subjects:['DEV012' 'DEV025' 'DEV026' 'DEV022']. selecting training data. (91, 109, 91, 238). 1.6 GiB. selecting test data. 1.7 GiB. (91, 109, 91, 246). regressing. 1.6 GiB. trying regressor 1 of 1. "
     ]
    },
    {
     "name": "stderr",
     "output_type": "stream",
     "text": [
      "/home/bsmith16/.conda/envs/neuralsignature/lib/python3.8/site-packages/nilearn/decoding/decoder.py:143: UserWarning: Use a custom estimator at your own risk of the process not working as intended.\n",
      "  warnings.warn('Use a custom estimator at your own risk '\n"
     ]
    },
    {
     "name": "stdout",
     "output_type": "stream",
     "text": [
      "predicting. test score was:. 0.019130553151902152\n",
      "ATTEMPT 1\n",
      "using default regressor. In order to test on a training group of 16 items, holding out the following subjects:['DEV001' 'DEV017' 'DEV022' 'DEV019']. selecting training data. (91, 109, 91, 244). 1.6 GiB. selecting test data. 1.5 GiB. (91, 109, 91, 221). regressing. 1.6 GiB. trying regressor 1 of 1. predicting. test score was:. 0.1323080555282825\n",
      "In order to test on a training group of 16 items, holding out the following subjects:['DEV021' 'DEV018' 'DEV024' 'DEV014']. selecting training data. (91, 109, 91, 235). 1.6 GiB. selecting test data. 1.7 GiB. (91, 109, 91, 252). regressing. 1.6 GiB. trying regressor 1 of 1. "
     ]
    },
    {
     "name": "stderr",
     "output_type": "stream",
     "text": [
      "/home/bsmith16/.conda/envs/neuralsignature/lib/python3.8/site-packages/nilearn/decoding/decoder.py:143: UserWarning: Use a custom estimator at your own risk of the process not working as intended.\n",
      "  warnings.warn('Use a custom estimator at your own risk '\n"
     ]
    },
    {
     "name": "stdout",
     "output_type": "stream",
     "text": [
      "predicting. test score was:. 0.1348821419515711\n",
      "In order to test on a training group of 16 items, holding out the following subjects:['DEV009' 'DEV010' 'DEV013' 'DEV026']. selecting training data. (91, 109, 91, 235). 1.6 GiB. selecting test data. 1.6 GiB. (91, 109, 91, 244). regressing. 1.6 GiB. trying regressor 1 of 1. "
     ]
    },
    {
     "name": "stderr",
     "output_type": "stream",
     "text": [
      "/home/bsmith16/.conda/envs/neuralsignature/lib/python3.8/site-packages/nilearn/decoding/decoder.py:143: UserWarning: Use a custom estimator at your own risk of the process not working as intended.\n",
      "  warnings.warn('Use a custom estimator at your own risk '\n"
     ]
    },
    {
     "name": "stdout",
     "output_type": "stream",
     "text": [
      "predicting. test score was:. 0.11514585491283102\n",
      "In order to test on a training group of 16 items, holding out the following subjects:['DEV005' 'DEV006' 'DEV012' 'DEV025']. selecting training data. (91, 109, 91, 238). 1.6 GiB. selecting test data. 1.6 GiB. (91, 109, 91, 245). regressing. 1.6 GiB. trying regressor 1 of 1. "
     ]
    },
    {
     "name": "stderr",
     "output_type": "stream",
     "text": [
      "/home/bsmith16/.conda/envs/neuralsignature/lib/python3.8/site-packages/nilearn/decoding/decoder.py:143: UserWarning: Use a custom estimator at your own risk of the process not working as intended.\n",
      "  warnings.warn('Use a custom estimator at your own risk '\n"
     ]
    },
    {
     "name": "stdout",
     "output_type": "stream",
     "text": [
      "predicting. test score was:. 0.07060121713395329\n",
      "In order to test on a training group of 16 items, holding out the following subjects:['DEV016' 'DEV015' 'DEV023' 'DEV027']. selecting training data. (91, 109, 91, 240). 1.6 GiB. selecting test data. 1.7 GiB. (91, 109, 91, 246). regressing. 1.6 GiB. trying regressor 1 of 1. "
     ]
    },
    {
     "name": "stderr",
     "output_type": "stream",
     "text": [
      "/home/bsmith16/.conda/envs/neuralsignature/lib/python3.8/site-packages/nilearn/decoding/decoder.py:143: UserWarning: Use a custom estimator at your own risk of the process not working as intended.\n",
      "  warnings.warn('Use a custom estimator at your own risk '\n"
     ]
    },
    {
     "name": "stdout",
     "output_type": "stream",
     "text": [
      "predicting. test score was:. 0.06379659962179729\n",
      "ATTEMPT 2\n",
      "using default regressor. In order to test on a training group of 16 items, holding out the following subjects:['DEV005' 'DEV012' 'DEV010' 'DEV019']. selecting training data. (91, 109, 91, 241). 1.6 GiB. selecting test data. 1.5 GiB. (91, 109, 91, 226). regressing. 1.6 GiB. trying regressor 1 of 1. predicting. test score was:. 0.11461834763515555\n",
      "In order to test on a training group of 16 items, holding out the following subjects:['DEV006' 'DEV009' 'DEV026' 'DEV022']. selecting training data. (91, 109, 91, 235). 1.6 GiB. selecting test data. 1.7 GiB. (91, 109, 91, 248). regressing. 1.6 GiB. trying regressor 1 of 1. "
     ]
    },
    {
     "name": "stderr",
     "output_type": "stream",
     "text": [
      "/home/bsmith16/.conda/envs/neuralsignature/lib/python3.8/site-packages/nilearn/decoding/decoder.py:143: UserWarning: Use a custom estimator at your own risk of the process not working as intended.\n",
      "  warnings.warn('Use a custom estimator at your own risk '\n"
     ]
    },
    {
     "name": "stdout",
     "output_type": "stream",
     "text": [
      "predicting. test score was:. 0.14145991828558213\n",
      "In order to test on a training group of 16 items, holding out the following subjects:['DEV025' 'DEV017' 'DEV015' 'DEV027']. selecting training data. (91, 109, 91, 243). 1.6 GiB. selecting test data. 1.5 GiB. (91, 109, 91, 228). regressing. 1.6 GiB. trying regressor 1 of 1. "
     ]
    },
    {
     "name": "stderr",
     "output_type": "stream",
     "text": [
      "/home/bsmith16/.conda/envs/neuralsignature/lib/python3.8/site-packages/nilearn/decoding/decoder.py:143: UserWarning: Use a custom estimator at your own risk of the process not working as intended.\n",
      "  warnings.warn('Use a custom estimator at your own risk '\n"
     ]
    },
    {
     "name": "stdout",
     "output_type": "stream",
     "text": [
      "predicting. test score was:. -0.016030812079597778\n",
      "In order to test on a training group of 16 items, holding out the following subjects:['DEV016' 'DEV021' 'DEV018' 'DEV024']. selecting training data. (91, 109, 91, 236). 1.6 GiB. selecting test data. 1.7 GiB. (91, 109, 91, 252). regressing. 1.6 GiB. trying regressor 1 of 1. "
     ]
    },
    {
     "name": "stderr",
     "output_type": "stream",
     "text": [
      "/home/bsmith16/.conda/envs/neuralsignature/lib/python3.8/site-packages/nilearn/decoding/decoder.py:143: UserWarning: Use a custom estimator at your own risk of the process not working as intended.\n",
      "  warnings.warn('Use a custom estimator at your own risk '\n"
     ]
    },
    {
     "name": "stdout",
     "output_type": "stream",
     "text": [
      "predicting. test score was:. 0.11566449065569806\n",
      "In order to test on a training group of 16 items, holding out the following subjects:['DEV001' 'DEV013' 'DEV023' 'DEV014']. selecting training data. (91, 109, 91, 237). 1.6 GiB. selecting test data. 1.7 GiB. (91, 109, 91, 254). regressing. 1.6 GiB. trying regressor 1 of 1. "
     ]
    },
    {
     "name": "stderr",
     "output_type": "stream",
     "text": [
      "/home/bsmith16/.conda/envs/neuralsignature/lib/python3.8/site-packages/nilearn/decoding/decoder.py:143: UserWarning: Use a custom estimator at your own risk of the process not working as intended.\n",
      "  warnings.warn('Use a custom estimator at your own risk '\n"
     ]
    },
    {
     "name": "stdout",
     "output_type": "stream",
     "text": [
      "predicting. test score was:. 0.04325496851082122\n",
      "ATTEMPT 3\n",
      "using default regressor. In order to test on a training group of 16 items, holding out the following subjects:['DEV012' 'DEV010' 'DEV015' 'DEV019']. selecting training data. (91, 109, 91, 243). 1.6 GiB. selecting test data. 1.5 GiB. (91, 109, 91, 219). regressing. 1.6 GiB. trying regressor 1 of 1. predicting. test score was:. 0.08695343503553077\n",
      "In order to test on a training group of 16 items, holding out the following subjects:['DEV006' 'DEV009' 'DEV017' 'DEV027']. selecting training data. (91, 109, 91, 241). 1.6 GiB. selecting test data. 1.6 GiB. (91, 109, 91, 236). regressing. 1.6 GiB. trying regressor 1 of 1. "
     ]
    },
    {
     "name": "stderr",
     "output_type": "stream",
     "text": [
      "/home/bsmith16/.conda/envs/neuralsignature/lib/python3.8/site-packages/nilearn/decoding/decoder.py:143: UserWarning: Use a custom estimator at your own risk of the process not working as intended.\n",
      "  warnings.warn('Use a custom estimator at your own risk '\n"
     ]
    },
    {
     "name": "stdout",
     "output_type": "stream",
     "text": [
      "predicting. test score was:. -0.057796697120590546\n",
      "In order to test on a training group of 16 items, holding out the following subjects:['DEV001' 'DEV025' 'DEV023' 'DEV014']. selecting training data. (91, 109, 91, 238). 1.6 GiB. selecting test data. 1.7 GiB. (91, 109, 91, 250). regressing. 1.6 GiB. trying regressor 1 of 1. "
     ]
    },
    {
     "name": "stderr",
     "output_type": "stream",
     "text": [
      "/home/bsmith16/.conda/envs/neuralsignature/lib/python3.8/site-packages/nilearn/decoding/decoder.py:143: UserWarning: Use a custom estimator at your own risk of the process not working as intended.\n",
      "  warnings.warn('Use a custom estimator at your own risk '\n"
     ]
    },
    {
     "name": "stdout",
     "output_type": "stream",
     "text": [
      "predicting. test score was:. 0.0849463653263215\n",
      "In order to test on a training group of 16 items, holding out the following subjects:['DEV005' 'DEV021' 'DEV026' 'DEV022']. selecting training data. (91, 109, 91, 234). 1.6 GiB. selecting test data. 1.7 GiB. (91, 109, 91, 251). regressing. 1.6 GiB. trying regressor 1 of 1. "
     ]
    },
    {
     "name": "stderr",
     "output_type": "stream",
     "text": [
      "/home/bsmith16/.conda/envs/neuralsignature/lib/python3.8/site-packages/nilearn/decoding/decoder.py:143: UserWarning: Use a custom estimator at your own risk of the process not working as intended.\n",
      "  warnings.warn('Use a custom estimator at your own risk '\n"
     ]
    },
    {
     "name": "stdout",
     "output_type": "stream",
     "text": [
      "predicting. test score was:. 0.15999863145343096\n",
      "In order to test on a training group of 16 items, holding out the following subjects:['DEV016' 'DEV018' 'DEV024' 'DEV013']. selecting training data. (91, 109, 91, 236). 1.6 GiB. selecting test data. 1.7 GiB. (91, 109, 91, 252). regressing. 1.6 GiB. trying regressor 1 of 1. "
     ]
    },
    {
     "name": "stderr",
     "output_type": "stream",
     "text": [
      "/home/bsmith16/.conda/envs/neuralsignature/lib/python3.8/site-packages/nilearn/decoding/decoder.py:143: UserWarning: Use a custom estimator at your own risk of the process not working as intended.\n",
      "  warnings.warn('Use a custom estimator at your own risk '\n"
     ]
    },
    {
     "name": "stdout",
     "output_type": "stream",
     "text": [
      "predicting. test score was:. 0.09427814219938313\n",
      "ATTEMPT 4\n",
      "using default regressor. In order to test on a training group of 16 items, holding out the following subjects:['DEV018' 'DEV026' 'DEV027' 'DEV022']. selecting training data. (91, 109, 91, 236). 1.6 GiB. selecting test data. 1.7 GiB. (91, 109, 91, 251). regressing. 1.6 GiB. trying regressor 1 of 1. predicting. test score was:. 0.1404590990083533\n",
      "In order to test on a training group of 16 items, holding out the following subjects:['DEV001' 'DEV010' 'DEV017' 'DEV023']. selecting training data. (91, 109, 91, 241). 1.6 GiB. selecting test data. 1.6 GiB. (91, 109, 91, 235). regressing. 1.6 GiB. trying regressor 1 of 1. "
     ]
    },
    {
     "name": "stderr",
     "output_type": "stream",
     "text": [
      "/home/bsmith16/.conda/envs/neuralsignature/lib/python3.8/site-packages/nilearn/decoding/decoder.py:143: UserWarning: Use a custom estimator at your own risk of the process not working as intended.\n",
      "  warnings.warn('Use a custom estimator at your own risk '\n"
     ]
    },
    {
     "name": "stdout",
     "output_type": "stream",
     "text": [
      "predicting. test score was:. 0.07365239612218422\n",
      "In order to test on a training group of 16 items, holding out the following subjects:['DEV005' 'DEV009' 'DEV016' 'DEV025']. selecting training data. (91, 109, 91, 237). 1.6 GiB. selecting test data. 1.7 GiB. (91, 109, 91, 247). regressing. 1.6 GiB. trying regressor 1 of 1. "
     ]
    },
    {
     "name": "stderr",
     "output_type": "stream",
     "text": [
      "/home/bsmith16/.conda/envs/neuralsignature/lib/python3.8/site-packages/nilearn/decoding/decoder.py:143: UserWarning: Use a custom estimator at your own risk of the process not working as intended.\n",
      "  warnings.warn('Use a custom estimator at your own risk '\n"
     ]
    },
    {
     "name": "stdout",
     "output_type": "stream",
     "text": [
      "predicting. test score was:. 0.1035928920818181\n",
      "In order to test on a training group of 16 items, holding out the following subjects:['DEV012' 'DEV024' 'DEV014' 'DEV019']. selecting training data. (91, 109, 91, 242). 1.6 GiB. selecting test data. 1.6 GiB. (91, 109, 91, 232). regressing. 1.6 GiB. trying regressor 1 of 1. "
     ]
    },
    {
     "name": "stderr",
     "output_type": "stream",
     "text": [
      "/home/bsmith16/.conda/envs/neuralsignature/lib/python3.8/site-packages/nilearn/decoding/decoder.py:143: UserWarning: Use a custom estimator at your own risk of the process not working as intended.\n",
      "  warnings.warn('Use a custom estimator at your own risk '\n"
     ]
    },
    {
     "name": "stdout",
     "output_type": "stream",
     "text": [
      "predicting. test score was:. 0.0792304350068248\n",
      "In order to test on a training group of 16 items, holding out the following subjects:['DEV006' 'DEV021' 'DEV013' 'DEV015']. selecting training data. (91, 109, 91, 236). 1.6 GiB. selecting test data. 1.6 GiB. (91, 109, 91, 243). regressing. 1.6 GiB. trying regressor 1 of 1. "
     ]
    },
    {
     "name": "stderr",
     "output_type": "stream",
     "text": [
      "/home/bsmith16/.conda/envs/neuralsignature/lib/python3.8/site-packages/nilearn/decoding/decoder.py:143: UserWarning: Use a custom estimator at your own risk of the process not working as intended.\n",
      "  warnings.warn('Use a custom estimator at your own risk '\n"
     ]
    },
    {
     "name": "stdout",
     "output_type": "stream",
     "text": [
      "predicting. test score was:. 0.1259039646895026\n",
      "[0.05958570745809082, 0.10334677382968704, 0.07979338260153183, 0.07367597537881516, 0.1045677573817366]\n"
     ]
    }
   ],
   "source": [
    "split_dict  = {}\n",
    "for n_split in [3,5]:\n",
    "    print(\"__________________\")\n",
    "    print(\"TRYING WITH N SPLIT \" + str(n_split))\n",
    "    attempt = []\n",
    "    for i in range(5):\n",
    "        print(\"ATTEMPT \" + str(i))\n",
    "        test_scores_different = cv_train_test_sets(\n",
    "            trainset_X=first_subs_grouped_nifti,\n",
    "            trainset_y=first_subs_grouped_nifti_Y,\n",
    "            trainset_groups=first_subs_grouped_nifti_groups,\n",
    "            testset_X=first_subs_nifti,\n",
    "            testset_y=first_subs_nifti_Y,\n",
    "            testset_groups=first_subs_nifti_groups,\n",
    "            cv = KFold(n_splits = n_split,shuffle=True)\n",
    "        )\n",
    "        attempt = attempt + [np.mean(test_scores_different)]\n",
    "        \n",
    "    print(attempt)\n",
    "    split_dict[n_split] = attempt\n"
   ]
  },
  {
   "cell_type": "code",
   "execution_count": 22,
   "id": "rough-contrary",
   "metadata": {},
   "outputs": [
    {
     "data": {
      "text/plain": [
       "{3: [0.05483678318907714,\n",
       "  0.051038687171665965,\n",
       "  0.07577212320145348,\n",
       "  0.07065283220203152,\n",
       "  0.09380378043517561],\n",
       " 5: [0.05958570745809082,\n",
       "  0.10334677382968704,\n",
       "  0.07979338260153183,\n",
       "  0.07367597537881516,\n",
       "  0.1045677573817366]}"
      ]
     },
     "execution_count": 22,
     "metadata": {},
     "output_type": "execute_result"
    }
   ],
   "source": [
    "split_dict"
   ]
  },
  {
   "cell_type": "code",
   "execution_count": 13,
   "id": "hybrid-socket",
   "metadata": {},
   "outputs": [
    {
     "data": {
      "text/plain": [
       "0.015406379493602391"
      ]
     },
     "execution_count": 13,
     "metadata": {},
     "output_type": "execute_result"
    }
   ],
   "source": [
    "split_dict_20 = {3:[0.05483678318907714,\n",
    "  0.051038687171665965,\n",
    "  0.07577212320145348,\n",
    "  0.07065283220203152,\n",
    "  0.09380378043517561],\n",
    "                5:[0.05958570745809082,\n",
    "  0.10334677382968704,\n",
    "  0.07979338260153183,\n",
    "  0.07367597537881516,\n",
    "  0.1045677573817366]}\n"
   ]
  },
  {
   "cell_type": "code",
   "execution_count": 20,
   "id": "powered-modem",
   "metadata": {},
   "outputs": [
    {
     "ename": "NameError",
     "evalue": "name 'split_dict_20' is not defined",
     "output_type": "error",
     "traceback": [
      "\u001b[0;31m---------------------------------------------------------------------------\u001b[0m",
      "\u001b[0;31mNameError\u001b[0m                                 Traceback (most recent call last)",
      "\u001b[0;32m<ipython-input-20-93276528af24>\u001b[0m in \u001b[0;36m<module>\u001b[0;34m\u001b[0m\n\u001b[1;32m      2\u001b[0m     \u001b[0;32mreturn\u001b[0m\u001b[0;34m(\u001b[0m\u001b[0;34m[\u001b[0m\u001b[0;34m{\u001b[0m\u001b[0mk\u001b[0m\u001b[0;34m:\u001b[0m\u001b[0;34m{\u001b[0m\u001b[0;34m'mean'\u001b[0m\u001b[0;34m:\u001b[0m\u001b[0mnp\u001b[0m\u001b[0;34m.\u001b[0m\u001b[0mmean\u001b[0m\u001b[0;34m(\u001b[0m\u001b[0mv\u001b[0m\u001b[0;34m)\u001b[0m\u001b[0;34m,\u001b[0m\u001b[0;34m'sd'\u001b[0m\u001b[0;34m:\u001b[0m\u001b[0mnp\u001b[0m\u001b[0;34m.\u001b[0m\u001b[0mstd\u001b[0m\u001b[0;34m(\u001b[0m\u001b[0mv\u001b[0m\u001b[0;34m)\u001b[0m\u001b[0;34m}\u001b[0m\u001b[0;34m}\u001b[0m \u001b[0;32mfor\u001b[0m \u001b[0mk\u001b[0m\u001b[0;34m,\u001b[0m \u001b[0mv\u001b[0m \u001b[0;32min\u001b[0m \u001b[0mdict_results\u001b[0m\u001b[0;34m.\u001b[0m\u001b[0mitems\u001b[0m\u001b[0;34m(\u001b[0m\u001b[0;34m)\u001b[0m\u001b[0;34m]\u001b[0m\u001b[0;34m)\u001b[0m\u001b[0;34m\u001b[0m\u001b[0;34m\u001b[0m\u001b[0m\n\u001b[1;32m      3\u001b[0m \u001b[0;34m\u001b[0m\u001b[0m\n\u001b[0;32m----> 4\u001b[0;31m \u001b[0mget_summary_stats\u001b[0m\u001b[0;34m(\u001b[0m\u001b[0msplit_dict_20\u001b[0m\u001b[0;34m)\u001b[0m\u001b[0;34m\u001b[0m\u001b[0;34m\u001b[0m\u001b[0m\n\u001b[0m",
      "\u001b[0;31mNameError\u001b[0m: name 'split_dict_20' is not defined"
     ]
    }
   ],
   "source": [
    "def get_summary_stats(dict_results):\n",
    "    return([{k:{'mean':np.mean(v),'sd':np.std(v)}} for k, v in dict_results.items()])\n",
    "\n",
    "get_summary_stats(split_dict_20)\n"
   ]
  },
  {
   "cell_type": "markdown",
   "id": "disciplinary-buddy",
   "metadata": {},
   "source": [
    "### Sample size 30"
   ]
  },
  {
   "cell_type": "code",
   "execution_count": 16,
   "id": "sixth-investment",
   "metadata": {},
   "outputs": [],
   "source": [
    "sample_subject_items = np.unique(all_subs_nn_nifti_groups)[0:30]"
   ]
  },
  {
   "cell_type": "code",
   "execution_count": 17,
   "id": "valuable-channel",
   "metadata": {},
   "outputs": [],
   "source": [
    "sample_subject_vector = [i for i, x in enumerate(all_subs_nn_nifti_groups) if x in sample_subject_items]\n",
    "sample_grouped_subject_vector = [i for i, x in enumerate(all_subs_grouped_nifti_groups) if x in sample_subject_items]\n",
    "len(sample_subject_vector)\n",
    "\n",
    "first_subs_nifti = nib.funcs.concat_images([all_subs_nn_nifti.slicer[...,s] for s in sample_subject_vector])\n",
    "first_subs_nifti_Y = all_subs_nn_nifti_Y[sample_subject_vector]\n",
    "first_subs_nifti = nil.image.clean_img(first_subs_nifti,detrend=False,standardize=True)\n",
    "first_subs_nifti_groups = all_subs_nn_nifti_groups[sample_subject_vector]\n",
    "\n",
    "#del all_subs_nn_nifti\n",
    "#gc.collect()\n",
    "\n",
    "first_subs_grouped_nifti = nib.funcs.concat_images([all_subs_grouped_nifti.slicer[...,s] for s in sample_grouped_subject_vector])\n",
    "first_subs_grouped_nifti_Y = all_subs_grouped_nifti_Y[sample_grouped_subject_vector]\n",
    "first_subs_grouped_nifti = nil.image.clean_img(first_subs_grouped_nifti,detrend=False,standardize=True)\n",
    "first_subs_grouped_nifti_groups = all_subs_grouped_nifti_groups[sample_grouped_subject_vector]\n",
    "\n",
    "#del all_subs_grouped_nifti\n",
    "#gc.collect()"
   ]
  },
  {
   "cell_type": "code",
   "execution_count": 18,
   "id": "extensive-affiliation",
   "metadata": {},
   "outputs": [
    {
     "name": "stdout",
     "output_type": "stream",
     "text": [
      "using default regressor. In order to test on a training group of 20 items, holding out the following subjects:['DEV018' 'DEV030' 'DEV035' 'DEV027' 'DEV014' 'DEV039' 'DEV009' 'DEV042'\n",
      " 'DEV010' 'DEV015']. selecting training data. (91, 109, 91, 297). 2.0 GiB. selecting test data. 4.1 GiB. (91, 109, 91, 616). regressing. 2.0 GiB. trying regressor 1 of 1. predicting. test score was:. 0.06619781671402536\n",
      "In order to test on a training group of 20 items, holding out the following subjects:['DEV001' 'DEV041' 'DEV028' 'DEV021' 'DEV034' 'DEV017' 'DEV006' 'DEV025'\n",
      " 'DEV036' 'DEV024']. selecting training data. (91, 109, 91, 297). 2.0 GiB. selecting test data. 4.1 GiB. (91, 109, 91, 611). regressing. 2.0 GiB. trying regressor 1 of 1. "
     ]
    },
    {
     "name": "stderr",
     "output_type": "stream",
     "text": [
      "/home/bsmith16/.conda/envs/neuralsignature/lib/python3.8/site-packages/nilearn/decoding/decoder.py:143: UserWarning: Use a custom estimator at your own risk of the process not working as intended.\n",
      "  warnings.warn('Use a custom estimator at your own risk '\n"
     ]
    },
    {
     "name": "stdout",
     "output_type": "stream",
     "text": [
      "4.1 GiB. (91, 109, 91, 617). regressing. 2.0 GiB. trying regressor 1 of 1. predicting. test score was:. 0.10662993325129377\n",
      "In order to test on a training group of 20 items, holding out the following subjects:['DEV018' 'DEV041' 'DEV029' 'DEV028' 'DEV027' 'DEV013' 'DEV009' 'DEV005'\n",
      " 'DEV012' 'DEV022']. selecting training data. (91, 109, 91, 294). 2.0 GiB. selecting test data. 4.2 GiB. (91, 109, 91, 625). regressing. 2.0 GiB. trying regressor 1 of 1. "
     ]
    },
    {
     "name": "stderr",
     "output_type": "stream",
     "text": [
      "/home/bsmith16/.conda/envs/neuralsignature/lib/python3.8/site-packages/nilearn/decoding/decoder.py:143: UserWarning: Use a custom estimator at your own risk of the process not working as intended.\n",
      "  warnings.warn('Use a custom estimator at your own risk '\n"
     ]
    },
    {
     "name": "stdout",
     "output_type": "stream",
     "text": [
      "predicting. test score was:. 0.10164896215373154\n",
      "In order to test on a training group of 20 items, holding out the following subjects:['DEV019' 'DEV023' 'DEV026' 'DEV014' 'DEV039' 'DEV034' 'DEV017' 'DEV042'\n",
      " 'DEV006' 'DEV025']. selecting training data. (91, 109, 91, 300). 2.0 GiB. selecting test data. 4.0 GiB. (91, 109, 91, 593). regressing. 2.0 GiB. trying regressor 1 of 1. "
     ]
    },
    {
     "name": "stderr",
     "output_type": "stream",
     "text": [
      "/home/bsmith16/.conda/envs/neuralsignature/lib/python3.8/site-packages/nilearn/decoding/decoder.py:143: UserWarning: Use a custom estimator at your own risk of the process not working as intended.\n",
      "  warnings.warn('Use a custom estimator at your own risk '\n"
     ]
    },
    {
     "name": "stdout",
     "output_type": "stream",
     "text": [
      "predicting. test score was:. 0.05839593767530993\n",
      "using default regressor. In order to test on a training group of 20 items, holding out the following subjects:['DEV019' 'DEV001' 'DEV028' 'DEV026' 'DEV027' 'DEV039' 'DEV010' 'DEV006'\n",
      " 'DEV015' 'DEV005']. selecting training data. (91, 109, 91, 297). 2.0 GiB. selecting test data. 4.0 GiB. (91, 109, 91, 594). regressing. 2.0 GiB. trying regressor 1 of 1. predicting. test score was:. 0.11635861387234725\n",
      "In order to test on a training group of 20 items, holding out the following subjects:['DEV023' 'DEV041' 'DEV029' 'DEV013' 'DEV034' 'DEV017' 'DEV022' 'DEV025'\n",
      " 'DEV036' 'DEV024']. selecting training data. (91, 109, 91, 296). 2.0 GiB. selecting test data. 4.1 GiB. (91, 109, 91, 616). regressing. 2.0 GiB. trying regressor 1 of 1. "
     ]
    },
    {
     "name": "stderr",
     "output_type": "stream",
     "text": [
      "/home/bsmith16/.conda/envs/neuralsignature/lib/python3.8/site-packages/nilearn/decoding/decoder.py:143: UserWarning: Use a custom estimator at your own risk of the process not working as intended.\n",
      "  warnings.warn('Use a custom estimator at your own risk '\n"
     ]
    },
    {
     "name": "stdout",
     "output_type": "stream",
     "text": [
      "predicting. test score was:. 0.005818887935712613\n",
      "In order to test on a training group of 20 items, holding out the following subjects:['DEV018' 'DEV016' 'DEV030' 'DEV035' 'DEV040' 'DEV014' 'DEV021' 'DEV009'\n",
      " 'DEV042' 'DEV012']. selecting training data. (91, 109, 91, 299). 2.0 GiB. selecting test data. 4.2 GiB. (91, 109, 91, 625). regressing. 2.0 GiB. trying regressor 1 of 1. "
     ]
    },
    {
     "name": "stderr",
     "output_type": "stream",
     "text": [
      "/home/bsmith16/.conda/envs/neuralsignature/lib/python3.8/site-packages/nilearn/decoding/decoder.py:143: UserWarning: Use a custom estimator at your own risk of the process not working as intended.\n",
      "  warnings.warn('Use a custom estimator at your own risk '\n"
     ]
    },
    {
     "name": "stdout",
     "output_type": "stream",
     "text": [
      "predicting. test score was:. 0.1128512397921414\n",
      "using default regressor. In order to test on a training group of 20 items, holding out the following subjects:['DEV023' 'DEV026' 'DEV040' 'DEV039' 'DEV021' 'DEV013' 'DEV034' 'DEV015'\n",
      " 'DEV005' 'DEV012']. selecting training data. (91, 109, 91, 294). 2.0 GiB. selecting test data. 4.2 GiB. (91, 109, 91, 622). regressing. 2.0 GiB. trying regressor 1 of 1. predicting. test score was:. 0.14881587021720322\n",
      "In order to test on a training group of 20 items, holding out the following subjects:['DEV018' 'DEV001' 'DEV035' 'DEV017' 'DEV042' 'DEV010' 'DEV006' 'DEV022'\n",
      " 'DEV036' 'DEV024']. selecting training data. (91, 109, 91, 301). 2.0 GiB. selecting test data. 4.1 GiB. (91, 109, 91, 611). regressing. 2.0 GiB. trying regressor 1 of 1. "
     ]
    },
    {
     "name": "stderr",
     "output_type": "stream",
     "text": [
      "/home/bsmith16/.conda/envs/neuralsignature/lib/python3.8/site-packages/nilearn/decoding/decoder.py:143: UserWarning: Use a custom estimator at your own risk of the process not working as intended.\n",
      "  warnings.warn('Use a custom estimator at your own risk '\n"
     ]
    },
    {
     "name": "stdout",
     "output_type": "stream",
     "text": [
      "predicting. test score was:. 0.033363322350682734\n",
      "In order to test on a training group of 20 items, holding out the following subjects:['DEV019' 'DEV016' 'DEV041' 'DEV029' 'DEV028' 'DEV030' 'DEV027' 'DEV014'\n",
      " 'DEV009' 'DEV025']. selecting training data. (91, 109, 91, 297). 2.0 GiB. selecting test data. 4.0 GiB. (91, 109, 91, 602). regressing. 2.0 GiB. trying regressor 1 of 1. "
     ]
    },
    {
     "name": "stderr",
     "output_type": "stream",
     "text": [
      "/home/bsmith16/.conda/envs/neuralsignature/lib/python3.8/site-packages/nilearn/decoding/decoder.py:143: UserWarning: Use a custom estimator at your own risk of the process not working as intended.\n",
      "  warnings.warn('Use a custom estimator at your own risk '\n"
     ]
    },
    {
     "name": "stdout",
     "output_type": "stream",
     "text": [
      "predicting. test score was:. 0.052454493732482343\n",
      "using default regressor. In order to test on a training group of 20 items, holding out the following subjects:['DEV023' 'DEV029' 'DEV026' 'DEV027' 'DEV039' 'DEV021' 'DEV042' 'DEV010'\n",
      " 'DEV005' 'DEV022']. selecting training data. (91, 109, 91, 294). 2.0 GiB. selecting test data. 4.2 GiB. (91, 109, 91, 624). regressing. 2.0 GiB. trying regressor 1 of 1. predicting. test score was:. 0.07633562210373124\n",
      "In order to test on a training group of 20 items, holding out the following subjects:['DEV016' 'DEV041' 'DEV030' 'DEV040' 'DEV014' 'DEV009' 'DEV034' 'DEV017'\n",
      " 'DEV012' 'DEV025']. selecting training data. (91, 109, 91, 298). 2.0 GiB. selecting test data. 4.1 GiB. (91, 109, 91, 609). regressing. 2.0 GiB. trying regressor 1 of 1. "
     ]
    },
    {
     "name": "stderr",
     "output_type": "stream",
     "text": [
      "/home/bsmith16/.conda/envs/neuralsignature/lib/python3.8/site-packages/nilearn/decoding/decoder.py:143: UserWarning: Use a custom estimator at your own risk of the process not working as intended.\n",
      "  warnings.warn('Use a custom estimator at your own risk '\n"
     ]
    },
    {
     "name": "stdout",
     "output_type": "stream",
     "text": [
      "predicting. test score was:. 0.029169417648594487\n",
      "In order to test on a training group of 20 items, holding out the following subjects:['DEV019' 'DEV018' 'DEV001' 'DEV028' 'DEV035' 'DEV013' 'DEV006' 'DEV015'\n",
      " 'DEV036' 'DEV024']. selecting training data. (91, 109, 91, 300). 2.0 GiB. selecting test data. 4.0 GiB. (91, 109, 91, 602). regressing. 2.0 GiB. trying regressor 1 of 1. "
     ]
    },
    {
     "name": "stderr",
     "output_type": "stream",
     "text": [
      "/home/bsmith16/.conda/envs/neuralsignature/lib/python3.8/site-packages/nilearn/decoding/decoder.py:143: UserWarning: Use a custom estimator at your own risk of the process not working as intended.\n",
      "  warnings.warn('Use a custom estimator at your own risk '\n"
     ]
    },
    {
     "name": "stdout",
     "output_type": "stream",
     "text": [
      "predicting. test score was:. 0.1469000992666767\n",
      "attempt:[0.08814339041826484, 0.08889161102677841, 0.07834291386673375, 0.07821122876678943, 0.08413504633966747]\n",
      "using default regressor. In order to test on a training group of 24 items, holding out the following subjects:['DEV023' 'DEV014' 'DEV013' 'DEV017' 'DEV015' 'DEV025']. selecting training data. (91, 109, 91, 358). 2.4 GiB. selecting test data. 2.4 GiB. (91, 109, 91, 355). regressing. 2.4 GiB. trying regressor 1 of 1. predicting. test score was:. -0.049677300891257214\n",
      "In order to test on a training group of 24 items, holding out the following subjects:['DEV018' 'DEV026' 'DEV040' 'DEV039' 'DEV012' 'DEV024']. selecting training data. (91, 109, 91, 356). 2.4 GiB. selecting test data. 2.5 GiB. (91, 109, 91, 375). regressing. 2.4 GiB. trying regressor 1 of 1. "
     ]
    },
    {
     "name": "stderr",
     "output_type": "stream",
     "text": [
      "/home/bsmith16/.conda/envs/neuralsignature/lib/python3.8/site-packages/nilearn/decoding/decoder.py:143: UserWarning: Use a custom estimator at your own risk of the process not working as intended.\n",
      "  warnings.warn('Use a custom estimator at your own risk '\n"
     ]
    },
    {
     "name": "stdout",
     "output_type": "stream",
     "text": [
      "predicting. test score was:. 0.023149904099926788\n",
      "In order to test on a training group of 24 items, holding out the following subjects:['DEV019' 'DEV041' 'DEV035' 'DEV042' 'DEV010' 'DEV005']. selecting training data. (91, 109, 91, 360). 2.4 GiB. selecting test data. 2.4 GiB. (91, 109, 91, 353). regressing. 2.4 GiB. trying regressor 1 of 1. "
     ]
    },
    {
     "name": "stderr",
     "output_type": "stream",
     "text": [
      "/home/bsmith16/.conda/envs/neuralsignature/lib/python3.8/site-packages/nilearn/decoding/decoder.py:143: UserWarning: Use a custom estimator at your own risk of the process not working as intended.\n",
      "  warnings.warn('Use a custom estimator at your own risk '\n"
     ]
    },
    {
     "name": "stdout",
     "output_type": "stream",
     "text": [
      "predicting. test score was:. 0.05717805814816679\n",
      "In order to test on a training group of 24 items, holding out the following subjects:['DEV028' 'DEV027' 'DEV021' 'DEV034' 'DEV022' 'DEV036']. selecting training data. (91, 109, 91, 355). 2.4 GiB. selecting test data. 2.5 GiB. (91, 109, 91, 377). regressing. 2.4 GiB. trying regressor 1 of 1. "
     ]
    },
    {
     "name": "stderr",
     "output_type": "stream",
     "text": [
      "/home/bsmith16/.conda/envs/neuralsignature/lib/python3.8/site-packages/nilearn/decoding/decoder.py:143: UserWarning: Use a custom estimator at your own risk of the process not working as intended.\n",
      "  warnings.warn('Use a custom estimator at your own risk '\n"
     ]
    },
    {
     "name": "stdout",
     "output_type": "stream",
     "text": [
      "predicting. test score was:. 0.07609050223289626\n",
      "In order to test on a training group of 24 items, holding out the following subjects:['DEV001' 'DEV016' 'DEV029' 'DEV030' 'DEV009' 'DEV006']. selecting training data. (91, 109, 91, 355). 2.4 GiB. selecting test data. 2.5 GiB. (91, 109, 91, 375). regressing. 2.4 GiB. trying regressor 1 of 1. "
     ]
    },
    {
     "name": "stderr",
     "output_type": "stream",
     "text": [
      "/home/bsmith16/.conda/envs/neuralsignature/lib/python3.8/site-packages/nilearn/decoding/decoder.py:143: UserWarning: Use a custom estimator at your own risk of the process not working as intended.\n",
      "  warnings.warn('Use a custom estimator at your own risk '\n"
     ]
    },
    {
     "name": "stdout",
     "output_type": "stream",
     "text": [
      "predicting. test score was:. 0.21424231016572992\n",
      "using default regressor. In order to test on a training group of 24 items, holding out the following subjects:['DEV023' 'DEV029' 'DEV030' 'DEV035' 'DEV009' 'DEV024']. selecting training data. (91, 109, 91, 356). 2.4 GiB. selecting test data. 2.5 GiB. (91, 109, 91, 378). regressing. 2.4 GiB. trying regressor 1 of 1. predicting. test score was:. 0.09424648258131096\n",
      "In order to test on a training group of 24 items, holding out the following subjects:['DEV019' 'DEV018' 'DEV040' 'DEV039' 'DEV021' 'DEV022']. selecting training data. (91, 109, 91, 356). 2.4 GiB. selecting test data. 2.4 GiB. (91, 109, 91, 358). regressing. 2.4 GiB. trying regressor 1 of 1. "
     ]
    },
    {
     "name": "stderr",
     "output_type": "stream",
     "text": [
      "/home/bsmith16/.conda/envs/neuralsignature/lib/python3.8/site-packages/nilearn/decoding/decoder.py:143: UserWarning: Use a custom estimator at your own risk of the process not working as intended.\n",
      "  warnings.warn('Use a custom estimator at your own risk '\n"
     ]
    },
    {
     "name": "stdout",
     "output_type": "stream",
     "text": [
      "predicting. test score was:. 0.1315032762018966\n",
      "In order to test on a training group of 24 items, holding out the following subjects:['DEV016' 'DEV034' 'DEV042' 'DEV012' 'DEV025' 'DEV036']. selecting training data. (91, 109, 91, 361). 2.4 GiB. selecting test data. 2.5 GiB. (91, 109, 91, 374). regressing. 2.4 GiB. trying regressor 1 of 1. "
     ]
    },
    {
     "name": "stderr",
     "output_type": "stream",
     "text": [
      "/home/bsmith16/.conda/envs/neuralsignature/lib/python3.8/site-packages/nilearn/decoding/decoder.py:143: UserWarning: Use a custom estimator at your own risk of the process not working as intended.\n",
      "  warnings.warn('Use a custom estimator at your own risk '\n"
     ]
    },
    {
     "name": "stdout",
     "output_type": "stream",
     "text": [
      "predicting. test score was:. -0.07290642976885842\n",
      "In order to test on a training group of 24 items, holding out the following subjects:['DEV001' 'DEV041' 'DEV026' 'DEV013' 'DEV006' 'DEV015']. selecting training data. (91, 109, 91, 354). 2.4 GiB. selecting test data. 2.5 GiB. (91, 109, 91, 369). regressing. 2.4 GiB. trying regressor 1 of 1. "
     ]
    },
    {
     "name": "stderr",
     "output_type": "stream",
     "text": [
      "/home/bsmith16/.conda/envs/neuralsignature/lib/python3.8/site-packages/nilearn/decoding/decoder.py:143: UserWarning: Use a custom estimator at your own risk of the process not working as intended.\n",
      "  warnings.warn('Use a custom estimator at your own risk '\n"
     ]
    },
    {
     "name": "stdout",
     "output_type": "stream",
     "text": [
      "predicting. test score was:. 0.15426448410272997\n",
      "In order to test on a training group of 24 items, holding out the following subjects:['DEV028' 'DEV027' 'DEV014' 'DEV017' 'DEV010' 'DEV005']. selecting training data. (91, 109, 91, 357). 2.4 GiB. selecting test data. 2.4 GiB. (91, 109, 91, 356). regressing. 2.4 GiB. trying regressor 1 of 1. "
     ]
    },
    {
     "name": "stderr",
     "output_type": "stream",
     "text": [
      "/home/bsmith16/.conda/envs/neuralsignature/lib/python3.8/site-packages/nilearn/decoding/decoder.py:143: UserWarning: Use a custom estimator at your own risk of the process not working as intended.\n",
      "  warnings.warn('Use a custom estimator at your own risk '\n"
     ]
    },
    {
     "name": "stdout",
     "output_type": "stream",
     "text": [
      "predicting. test score was:. 0.006969513544133887\n",
      "using default regressor. In order to test on a training group of 24 items, holding out the following subjects:['DEV041' 'DEV029' 'DEV028' 'DEV035' 'DEV014' 'DEV012']. selecting training data. (91, 109, 91, 357). 2.4 GiB. selecting test data. 2.5 GiB. (91, 109, 91, 375). regressing. 2.4 GiB. trying regressor 1 of 1. predicting. test score was:. 0.09068194303317723\n",
      "In order to test on a training group of 24 items, holding out the following subjects:['DEV023' 'DEV026' 'DEV017' 'DEV042' 'DEV025' 'DEV024']. selecting training data. (91, 109, 91, 361). 2.4 GiB. selecting test data. 2.4 GiB. (91, 109, 91, 360). regressing. 2.4 GiB. trying regressor 1 of 1. "
     ]
    },
    {
     "name": "stderr",
     "output_type": "stream",
     "text": [
      "/home/bsmith16/.conda/envs/neuralsignature/lib/python3.8/site-packages/nilearn/decoding/decoder.py:143: UserWarning: Use a custom estimator at your own risk of the process not working as intended.\n",
      "  warnings.warn('Use a custom estimator at your own risk '\n"
     ]
    },
    {
     "name": "stdout",
     "output_type": "stream",
     "text": [
      "predicting. test score was:. -0.13845470433327534\n",
      "In order to test on a training group of 24 items, holding out the following subjects:['DEV018' 'DEV001' 'DEV040' 'DEV013' 'DEV034' 'DEV022']. selecting training data. (91, 109, 91, 354). 2.4 GiB. selecting test data. 2.5 GiB. (91, 109, 91, 378). regressing. 2.4 GiB. trying regressor 1 of 1. "
     ]
    },
    {
     "name": "stderr",
     "output_type": "stream",
     "text": [
      "/home/bsmith16/.conda/envs/neuralsignature/lib/python3.8/site-packages/nilearn/decoding/decoder.py:143: UserWarning: Use a custom estimator at your own risk of the process not working as intended.\n",
      "  warnings.warn('Use a custom estimator at your own risk '\n"
     ]
    },
    {
     "name": "stdout",
     "output_type": "stream",
     "text": [
      "predicting. test score was:. 0.10839181354942673\n",
      "In order to test on a training group of 24 items, holding out the following subjects:['DEV019' 'DEV030' 'DEV027' 'DEV009' 'DEV006' 'DEV005']. selecting training data. (91, 109, 91, 357). 2.4 GiB. selecting test data. 2.4 GiB. (91, 109, 91, 355). regressing. 2.4 GiB. trying regressor 1 of 1. "
     ]
    },
    {
     "name": "stderr",
     "output_type": "stream",
     "text": [
      "/home/bsmith16/.conda/envs/neuralsignature/lib/python3.8/site-packages/nilearn/decoding/decoder.py:143: UserWarning: Use a custom estimator at your own risk of the process not working as intended.\n",
      "  warnings.warn('Use a custom estimator at your own risk '\n"
     ]
    },
    {
     "name": "stdout",
     "output_type": "stream",
     "text": [
      "predicting. test score was:. 0.1412802640995111\n",
      "In order to test on a training group of 24 items, holding out the following subjects:['DEV016' 'DEV039' 'DEV021' 'DEV010' 'DEV015' 'DEV036']. selecting training data. (91, 109, 91, 355). 2.4 GiB. selecting test data. 2.5 GiB. (91, 109, 91, 367). regressing. 2.4 GiB. trying regressor 1 of 1. "
     ]
    },
    {
     "name": "stderr",
     "output_type": "stream",
     "text": [
      "/home/bsmith16/.conda/envs/neuralsignature/lib/python3.8/site-packages/nilearn/decoding/decoder.py:143: UserWarning: Use a custom estimator at your own risk of the process not working as intended.\n",
      "  warnings.warn('Use a custom estimator at your own risk '\n"
     ]
    },
    {
     "name": "stdout",
     "output_type": "stream",
     "text": [
      "predicting. test score was:. 0.06814596292672426\n",
      "using default regressor. In order to test on a training group of 24 items, holding out the following subjects:['DEV018' 'DEV030' 'DEV035' 'DEV027' 'DEV042' 'DEV022']. selecting training data. (91, 109, 91, 358). 2.4 GiB. selecting test data. 2.5 GiB. (91, 109, 91, 377). regressing. 2.4 GiB. trying regressor 1 of 1. predicting. test score was:. 0.12701535316258072\n",
      "In order to test on a training group of 24 items, holding out the following subjects:['DEV001' 'DEV041' 'DEV013' 'DEV017' 'DEV025' 'DEV024']. selecting training data. (91, 109, 91, 358). 2.4 GiB. selecting test data. 2.4 GiB. (91, 109, 91, 362). regressing. 2.4 GiB. trying regressor 1 of 1. "
     ]
    },
    {
     "name": "stderr",
     "output_type": "stream",
     "text": [
      "/home/bsmith16/.conda/envs/neuralsignature/lib/python3.8/site-packages/nilearn/decoding/decoder.py:143: UserWarning: Use a custom estimator at your own risk of the process not working as intended.\n",
      "  warnings.warn('Use a custom estimator at your own risk '\n"
     ]
    },
    {
     "name": "stdout",
     "output_type": "stream",
     "text": [
      "predicting. test score was:. -0.040361638188362026\n",
      "In order to test on a training group of 24 items, holding out the following subjects:['DEV040' 'DEV014' 'DEV039' 'DEV010' 'DEV012' 'DEV036']. selecting training data. (91, 109, 91, 357). 2.4 GiB. selecting test data. 2.5 GiB. (91, 109, 91, 371). regressing. 2.4 GiB. trying regressor 1 of 1. "
     ]
    },
    {
     "name": "stderr",
     "output_type": "stream",
     "text": [
      "/home/bsmith16/.conda/envs/neuralsignature/lib/python3.8/site-packages/nilearn/decoding/decoder.py:143: UserWarning: Use a custom estimator at your own risk of the process not working as intended.\n",
      "  warnings.warn('Use a custom estimator at your own risk '\n"
     ]
    },
    {
     "name": "stdout",
     "output_type": "stream",
     "text": [
      "predicting. test score was:. 0.05515637539011908\n",
      "In order to test on a training group of 24 items, holding out the following subjects:['DEV019' 'DEV028' 'DEV021' 'DEV009' 'DEV034' 'DEV015']. selecting training data. (91, 109, 91, 358). 2.4 GiB. selecting test data. 2.3 GiB. (91, 109, 91, 349). regressing. 2.4 GiB. trying regressor 1 of 1. "
     ]
    },
    {
     "name": "stderr",
     "output_type": "stream",
     "text": [
      "/home/bsmith16/.conda/envs/neuralsignature/lib/python3.8/site-packages/nilearn/decoding/decoder.py:143: UserWarning: Use a custom estimator at your own risk of the process not working as intended.\n",
      "  warnings.warn('Use a custom estimator at your own risk '\n"
     ]
    },
    {
     "name": "stdout",
     "output_type": "stream",
     "text": [
      "predicting. test score was:. 0.1476505004231794\n",
      "In order to test on a training group of 24 items, holding out the following subjects:['DEV023' 'DEV016' 'DEV029' 'DEV026' 'DEV006' 'DEV005']. selecting training data. (91, 109, 91, 353). 2.4 GiB. selecting test data. 2.5 GiB. (91, 109, 91, 376). regressing. 2.4 GiB. trying regressor 1 of 1. "
     ]
    },
    {
     "name": "stderr",
     "output_type": "stream",
     "text": [
      "/home/bsmith16/.conda/envs/neuralsignature/lib/python3.8/site-packages/nilearn/decoding/decoder.py:143: UserWarning: Use a custom estimator at your own risk of the process not working as intended.\n",
      "  warnings.warn('Use a custom estimator at your own risk '\n"
     ]
    },
    {
     "name": "stdout",
     "output_type": "stream",
     "text": [
      "predicting. test score was:. 0.19754282472724138\n",
      "using default regressor. In order to test on a training group of 24 items, holding out the following subjects:['DEV028' 'DEV027' 'DEV039' 'DEV034' 'DEV015' 'DEV012']. selecting training data. (91, 109, 91, 358). 2.4 GiB. selecting test data. 2.5 GiB. (91, 109, 91, 369). regressing. 2.4 GiB. trying regressor 1 of 1. predicting. test score was:. 0.11685268247322556\n",
      "In order to test on a training group of 24 items, holding out the following subjects:['DEV019' 'DEV041' 'DEV035' 'DEV009' 'DEV006' 'DEV036']. selecting training data. (91, 109, 91, 359). 2.4 GiB. selecting test data. 2.4 GiB. (91, 109, 91, 358). regressing. 2.4 GiB. trying regressor 1 of 1. "
     ]
    },
    {
     "name": "stderr",
     "output_type": "stream",
     "text": [
      "/home/bsmith16/.conda/envs/neuralsignature/lib/python3.8/site-packages/nilearn/decoding/decoder.py:143: UserWarning: Use a custom estimator at your own risk of the process not working as intended.\n",
      "  warnings.warn('Use a custom estimator at your own risk '\n"
     ]
    },
    {
     "name": "stdout",
     "output_type": "stream",
     "text": [
      "predicting. test score was:. 0.16716038404514977\n",
      "In order to test on a training group of 24 items, holding out the following subjects:['DEV016' 'DEV030' 'DEV014' 'DEV005' 'DEV022' 'DEV025']. selecting training data. (91, 109, 91, 352). 2.4 GiB. selecting test data. 2.5 GiB. (91, 109, 91, 373). regressing. 2.4 GiB. trying regressor 1 of 1. "
     ]
    },
    {
     "name": "stderr",
     "output_type": "stream",
     "text": [
      "/home/bsmith16/.conda/envs/neuralsignature/lib/python3.8/site-packages/nilearn/decoding/decoder.py:143: UserWarning: Use a custom estimator at your own risk of the process not working as intended.\n",
      "  warnings.warn('Use a custom estimator at your own risk '\n"
     ]
    },
    {
     "name": "stdout",
     "output_type": "stream",
     "text": [
      "predicting. test score was:. 0.05228208805439871\n",
      "In order to test on a training group of 24 items, holding out the following subjects:['DEV001' 'DEV029' 'DEV021' 'DEV013' 'DEV017' 'DEV042']. selecting training data. (91, 109, 91, 361). 2.4 GiB. selecting test data. 2.5 GiB. (91, 109, 91, 365). regressing. 2.4 GiB. trying regressor 1 of 1. "
     ]
    },
    {
     "name": "stderr",
     "output_type": "stream",
     "text": [
      "/home/bsmith16/.conda/envs/neuralsignature/lib/python3.8/site-packages/nilearn/decoding/decoder.py:143: UserWarning: Use a custom estimator at your own risk of the process not working as intended.\n",
      "  warnings.warn('Use a custom estimator at your own risk '\n"
     ]
    },
    {
     "name": "stdout",
     "output_type": "stream",
     "text": [
      "predicting. test score was:. 0.03726006748788924\n",
      "In order to test on a training group of 24 items, holding out the following subjects:['DEV018' 'DEV023' 'DEV026' 'DEV040' 'DEV010' 'DEV024']. selecting training data. (91, 109, 91, 354). 2.4 GiB. selecting test data. 2.5 GiB. (91, 109, 91, 370). regressing. 2.4 GiB. trying regressor 1 of 1. "
     ]
    },
    {
     "name": "stderr",
     "output_type": "stream",
     "text": [
      "/home/bsmith16/.conda/envs/neuralsignature/lib/python3.8/site-packages/nilearn/decoding/decoder.py:143: UserWarning: Use a custom estimator at your own risk of the process not working as intended.\n",
      "  warnings.warn('Use a custom estimator at your own risk '\n"
     ]
    },
    {
     "name": "stdout",
     "output_type": "stream",
     "text": [
      "predicting. test score was:. 0.0010491902775677797\n",
      "attempt:[0.0641966947510925, 0.06281546533224261, 0.0540090558551128, 0.09740068310295172, 0.07492088246764621]\n",
      "using default regressor. In order to test on a training group of 27 items, holding out the following subjects:['DEV018' 'DEV006' 'DEV005']. selecting training data. (91, 109, 91, 398). 2.7 GiB. selecting test data. 1.3 GiB. (91, 109, 91, 187). regressing. 2.7 GiB. trying regressor 1 of 1. predicting. test score was:. 0.26525255005851345\n",
      "In order to test on a training group of 27 items, holding out the following subjects:['DEV023' 'DEV016' 'DEV024']. selecting training data. (91, 109, 91, 401). 2.7 GiB. selecting test data. 1.3 GiB. (91, 109, 91, 190). regressing. 2.7 GiB. trying regressor 1 of 1. "
     ]
    },
    {
     "name": "stderr",
     "output_type": "stream",
     "text": [
      "/home/bsmith16/.conda/envs/neuralsignature/lib/python3.8/site-packages/nilearn/decoding/decoder.py:143: UserWarning: Use a custom estimator at your own risk of the process not working as intended.\n",
      "  warnings.warn('Use a custom estimator at your own risk '\n"
     ]
    },
    {
     "name": "stdout",
     "output_type": "stream",
     "text": [
      "predicting. test score was:. -0.11569688757795826\n",
      "In order to test on a training group of 27 items, holding out the following subjects:['DEV019' 'DEV026' 'DEV022']. selecting training data. (91, 109, 91, 402). 2.7 GiB. selecting test data. 1.1 GiB. (91, 109, 91, 169). regressing. 2.7 GiB. trying regressor 1 of 1. "
     ]
    },
    {
     "name": "stderr",
     "output_type": "stream",
     "text": [
      "/home/bsmith16/.conda/envs/neuralsignature/lib/python3.8/site-packages/nilearn/decoding/decoder.py:143: UserWarning: Use a custom estimator at your own risk of the process not working as intended.\n",
      "  warnings.warn('Use a custom estimator at your own risk '\n"
     ]
    },
    {
     "name": "stdout",
     "output_type": "stream",
     "text": [
      "predicting. test score was:. 0.12194935012057306\n",
      "In order to test on a training group of 27 items, holding out the following subjects:['DEV040' 'DEV013' 'DEV034']. selecting training data. (91, 109, 91, 400). 2.7 GiB. selecting test data. 1.3 GiB. (91, 109, 91, 188). regressing. 2.7 GiB. trying regressor 1 of 1. "
     ]
    },
    {
     "name": "stderr",
     "output_type": "stream",
     "text": [
      "/home/bsmith16/.conda/envs/neuralsignature/lib/python3.8/site-packages/nilearn/decoding/decoder.py:143: UserWarning: Use a custom estimator at your own risk of the process not working as intended.\n",
      "  warnings.warn('Use a custom estimator at your own risk '\n"
     ]
    },
    {
     "name": "stdout",
     "output_type": "stream",
     "text": [
      "predicting. test score was:. 0.07666797018951299\n",
      "In order to test on a training group of 27 items, holding out the following subjects:['DEV039' 'DEV042' 'DEV025']. selecting training data. (91, 109, 91, 403). 2.7 GiB. selecting test data. 1.2 GiB. (91, 109, 91, 185). regressing. 2.7 GiB. trying regressor 1 of 1. "
     ]
    },
    {
     "name": "stderr",
     "output_type": "stream",
     "text": [
      "/home/bsmith16/.conda/envs/neuralsignature/lib/python3.8/site-packages/nilearn/decoding/decoder.py:143: UserWarning: Use a custom estimator at your own risk of the process not working as intended.\n",
      "  warnings.warn('Use a custom estimator at your own risk '\n"
     ]
    },
    {
     "name": "stdout",
     "output_type": "stream",
     "text": [
      "predicting. test score was:. -0.07476236184137619\n",
      "In order to test on a training group of 27 items, holding out the following subjects:['DEV028' 'DEV012' 'DEV036']. selecting training data. (91, 109, 91, 404). 2.7 GiB. selecting test data. 1.3 GiB. (91, 109, 91, 186). regressing. 2.7 GiB. trying regressor 1 of 1. "
     ]
    },
    {
     "name": "stderr",
     "output_type": "stream",
     "text": [
      "/home/bsmith16/.conda/envs/neuralsignature/lib/python3.8/site-packages/nilearn/decoding/decoder.py:143: UserWarning: Use a custom estimator at your own risk of the process not working as intended.\n",
      "  warnings.warn('Use a custom estimator at your own risk '\n"
     ]
    },
    {
     "name": "stdout",
     "output_type": "stream",
     "text": [
      "predicting. test score was:. 0.005080871300414125\n",
      "In order to test on a training group of 27 items, holding out the following subjects:['DEV029' 'DEV014' 'DEV010']. selecting training data. (91, 109, 91, 399). 2.7 GiB. selecting test data. 1.2 GiB. (91, 109, 91, 183). regressing. 2.7 GiB. trying regressor 1 of 1. "
     ]
    },
    {
     "name": "stderr",
     "output_type": "stream",
     "text": [
      "/home/bsmith16/.conda/envs/neuralsignature/lib/python3.8/site-packages/nilearn/decoding/decoder.py:143: UserWarning: Use a custom estimator at your own risk of the process not working as intended.\n",
      "  warnings.warn('Use a custom estimator at your own risk '\n"
     ]
    },
    {
     "name": "stdout",
     "output_type": "stream",
     "text": [
      "predicting. test score was:. 0.12650100822080224\n",
      "In order to test on a training group of 27 items, holding out the following subjects:['DEV009' 'DEV017' 'DEV015']. selecting training data. (91, 109, 91, 405). 2.7 GiB. selecting test data. 1.1 GiB. (91, 109, 91, 168). regressing. 2.7 GiB. trying regressor 1 of 1. "
     ]
    },
    {
     "name": "stderr",
     "output_type": "stream",
     "text": [
      "/home/bsmith16/.conda/envs/neuralsignature/lib/python3.8/site-packages/nilearn/decoding/decoder.py:143: UserWarning: Use a custom estimator at your own risk of the process not working as intended.\n",
      "  warnings.warn('Use a custom estimator at your own risk '\n"
     ]
    },
    {
     "name": "stdout",
     "output_type": "stream",
     "text": [
      "predicting. test score was:. -0.07675599212134676\n",
      "In order to test on a training group of 27 items, holding out the following subjects:['DEV001' 'DEV027' 'DEV021']. selecting training data. (91, 109, 91, 402). 2.7 GiB. selecting test data. 1.3 GiB. (91, 109, 91, 190). regressing. 2.7 GiB. trying regressor 1 of 1. "
     ]
    },
    {
     "name": "stderr",
     "output_type": "stream",
     "text": [
      "/home/bsmith16/.conda/envs/neuralsignature/lib/python3.8/site-packages/nilearn/decoding/decoder.py:143: UserWarning: Use a custom estimator at your own risk of the process not working as intended.\n",
      "  warnings.warn('Use a custom estimator at your own risk '\n"
     ]
    },
    {
     "name": "stdout",
     "output_type": "stream",
     "text": [
      "predicting. test score was:. 0.1819763281219653\n",
      "In order to test on a training group of 27 items, holding out the following subjects:['DEV041' 'DEV030' 'DEV035']. selecting training data. (91, 109, 91, 400). 2.7 GiB. selecting test data. 1.3 GiB. (91, 109, 91, 189). regressing. 2.7 GiB. trying regressor 1 of 1. "
     ]
    },
    {
     "name": "stderr",
     "output_type": "stream",
     "text": [
      "/home/bsmith16/.conda/envs/neuralsignature/lib/python3.8/site-packages/nilearn/decoding/decoder.py:143: UserWarning: Use a custom estimator at your own risk of the process not working as intended.\n",
      "  warnings.warn('Use a custom estimator at your own risk '\n"
     ]
    },
    {
     "name": "stdout",
     "output_type": "stream",
     "text": [
      "predicting. test score was:. 0.10181284649028877\n",
      "using default regressor. In order to test on a training group of 27 items, holding out the following subjects:['DEV029' 'DEV040' 'DEV024']. selecting training data. (91, 109, 91, 402). 2.7 GiB. selecting test data. 1.3 GiB. (91, 109, 91, 187). regressing. 2.7 GiB. trying regressor 1 of 1. predicting. test score was:. 0.0010545005092640336\n",
      "In order to test on a training group of 27 items, holding out the following subjects:['DEV018' 'DEV015' 'DEV022']. selecting training data. (91, 109, 91, 400). 2.7 GiB. selecting test data. 1.2 GiB. (91, 109, 91, 182). regressing. 2.7 GiB. trying regressor 1 of 1. "
     ]
    },
    {
     "name": "stderr",
     "output_type": "stream",
     "text": [
      "/home/bsmith16/.conda/envs/neuralsignature/lib/python3.8/site-packages/nilearn/decoding/decoder.py:143: UserWarning: Use a custom estimator at your own risk of the process not working as intended.\n",
      "  warnings.warn('Use a custom estimator at your own risk '\n"
     ]
    },
    {
     "name": "stdout",
     "output_type": "stream",
     "text": [
      "predicting. test score was:. 0.23544936314641407\n",
      "In order to test on a training group of 27 items, holding out the following subjects:['DEV016' 'DEV030' 'DEV013']. selecting training data. (91, 109, 91, 399). 2.7 GiB. selecting test data. 1.3 GiB. (91, 109, 91, 188). regressing. 2.7 GiB. trying regressor 1 of 1. "
     ]
    },
    {
     "name": "stderr",
     "output_type": "stream",
     "text": [
      "/home/bsmith16/.conda/envs/neuralsignature/lib/python3.8/site-packages/nilearn/decoding/decoder.py:143: UserWarning: Use a custom estimator at your own risk of the process not working as intended.\n",
      "  warnings.warn('Use a custom estimator at your own risk '\n"
     ]
    },
    {
     "name": "stdout",
     "output_type": "stream",
     "text": [
      "predicting. test score was:. 0.08853281236098054\n",
      "In order to test on a training group of 27 items, holding out the following subjects:['DEV019' 'DEV014' 'DEV017']. selecting training data. (91, 109, 91, 406). 2.7 GiB. selecting test data. 1.1 GiB. (91, 109, 91, 157). regressing. 2.7 GiB. trying regressor 1 of 1. "
     ]
    },
    {
     "name": "stderr",
     "output_type": "stream",
     "text": [
      "/home/bsmith16/.conda/envs/neuralsignature/lib/python3.8/site-packages/nilearn/decoding/decoder.py:143: UserWarning: Use a custom estimator at your own risk of the process not working as intended.\n",
      "  warnings.warn('Use a custom estimator at your own risk '\n"
     ]
    },
    {
     "name": "stdout",
     "output_type": "stream",
     "text": [
      "predicting. test score was:. -0.36454040484894334\n",
      "In order to test on a training group of 27 items, holding out the following subjects:['DEV039' 'DEV034' 'DEV010']. selecting training data. (91, 109, 91, 398). 2.7 GiB. selecting test data. 1.2 GiB. (91, 109, 91, 185). regressing. 2.7 GiB. trying regressor 1 of 1. "
     ]
    },
    {
     "name": "stderr",
     "output_type": "stream",
     "text": [
      "/home/bsmith16/.conda/envs/neuralsignature/lib/python3.8/site-packages/nilearn/decoding/decoder.py:143: UserWarning: Use a custom estimator at your own risk of the process not working as intended.\n",
      "  warnings.warn('Use a custom estimator at your own risk '\n"
     ]
    },
    {
     "name": "stdout",
     "output_type": "stream",
     "text": [
      "predicting. test score was:. 0.17862379773084447\n",
      "In order to test on a training group of 27 items, holding out the following subjects:['DEV001' 'DEV028' 'DEV009']. selecting training data. (91, 109, 91, 402). 2.7 GiB. selecting test data. 1.3 GiB. (91, 109, 91, 186). regressing. 2.7 GiB. trying regressor 1 of 1. "
     ]
    },
    {
     "name": "stderr",
     "output_type": "stream",
     "text": [
      "/home/bsmith16/.conda/envs/neuralsignature/lib/python3.8/site-packages/nilearn/decoding/decoder.py:143: UserWarning: Use a custom estimator at your own risk of the process not working as intended.\n",
      "  warnings.warn('Use a custom estimator at your own risk '\n"
     ]
    },
    {
     "name": "stdout",
     "output_type": "stream",
     "text": [
      "predicting. test score was:. 0.2085916991833131\n",
      "In order to test on a training group of 27 items, holding out the following subjects:['DEV035' 'DEV006' 'DEV005']. selecting training data. (91, 109, 91, 400). 2.7 GiB. selecting test data. 1.3 GiB. (91, 109, 91, 188). regressing. 2.7 GiB. trying regressor 1 of 1. "
     ]
    },
    {
     "name": "stderr",
     "output_type": "stream",
     "text": [
      "/home/bsmith16/.conda/envs/neuralsignature/lib/python3.8/site-packages/nilearn/decoding/decoder.py:143: UserWarning: Use a custom estimator at your own risk of the process not working as intended.\n",
      "  warnings.warn('Use a custom estimator at your own risk '\n"
     ]
    },
    {
     "name": "stdout",
     "output_type": "stream",
     "text": [
      "predicting. test score was:. 0.2755155670645447\n",
      "In order to test on a training group of 27 items, holding out the following subjects:['DEV023' 'DEV041' 'DEV025']. selecting training data. (91, 109, 91, 400). 2.7 GiB. selecting test data. 1.3 GiB. (91, 109, 91, 186). regressing. 2.7 GiB. trying regressor 1 of 1. "
     ]
    },
    {
     "name": "stderr",
     "output_type": "stream",
     "text": [
      "/home/bsmith16/.conda/envs/neuralsignature/lib/python3.8/site-packages/nilearn/decoding/decoder.py:143: UserWarning: Use a custom estimator at your own risk of the process not working as intended.\n",
      "  warnings.warn('Use a custom estimator at your own risk '\n"
     ]
    },
    {
     "name": "stdout",
     "output_type": "stream",
     "text": [
      "predicting. test score was:. -0.1480116356715533\n",
      "In order to test on a training group of 27 items, holding out the following subjects:['DEV026' 'DEV027' 'DEV021']. selecting training data. (91, 109, 91, 400). 2.7 GiB. selecting test data. 1.3 GiB. (91, 109, 91, 188). regressing. 2.7 GiB. trying regressor 1 of 1. "
     ]
    },
    {
     "name": "stderr",
     "output_type": "stream",
     "text": [
      "/home/bsmith16/.conda/envs/neuralsignature/lib/python3.8/site-packages/nilearn/decoding/decoder.py:143: UserWarning: Use a custom estimator at your own risk of the process not working as intended.\n",
      "  warnings.warn('Use a custom estimator at your own risk '\n"
     ]
    },
    {
     "name": "stdout",
     "output_type": "stream",
     "text": [
      "predicting. test score was:. 0.1907208562568048\n",
      "In order to test on a training group of 27 items, holding out the following subjects:['DEV042' 'DEV012' 'DEV036']. selecting training data. (91, 109, 91, 407). 2.7 GiB. selecting test data. 1.3 GiB. (91, 109, 91, 188). regressing. 2.7 GiB. trying regressor 1 of 1. "
     ]
    },
    {
     "name": "stderr",
     "output_type": "stream",
     "text": [
      "/home/bsmith16/.conda/envs/neuralsignature/lib/python3.8/site-packages/nilearn/decoding/decoder.py:143: UserWarning: Use a custom estimator at your own risk of the process not working as intended.\n",
      "  warnings.warn('Use a custom estimator at your own risk '\n"
     ]
    },
    {
     "name": "stdout",
     "output_type": "stream",
     "text": [
      "predicting. test score was:. -0.7661612760545193\n",
      "using default regressor. In order to test on a training group of 27 items, holding out the following subjects:['DEV023' 'DEV035' 'DEV025']. selecting training data. (91, 109, 91, 402). 2.7 GiB. selecting test data. 1.3 GiB. (91, 109, 91, 187). regressing. 2.7 GiB. trying regressor 1 of 1. predicting. test score was:. 0.10404246547832807\n",
      "In order to test on a training group of 27 items, holding out the following subjects:['DEV017' 'DEV010' 'DEV006']. selecting training data. (91, 109, 91, 402). 2.7 GiB. selecting test data. 1.1 GiB. (91, 109, 91, 168). regressing. 2.7 GiB. trying regressor 1 of 1. "
     ]
    },
    {
     "name": "stderr",
     "output_type": "stream",
     "text": [
      "/home/bsmith16/.conda/envs/neuralsignature/lib/python3.8/site-packages/nilearn/decoding/decoder.py:143: UserWarning: Use a custom estimator at your own risk of the process not working as intended.\n",
      "  warnings.warn('Use a custom estimator at your own risk '\n"
     ]
    },
    {
     "name": "stdout",
     "output_type": "stream",
     "text": [
      "predicting. test score was:. 0.0641310070676443\n",
      "In order to test on a training group of 27 items, holding out the following subjects:['DEV016' 'DEV026' 'DEV012']. selecting training data. (91, 109, 91, 402). 2.7 GiB. selecting test data. 1.3 GiB. (91, 109, 91, 187). regressing. 2.7 GiB. trying regressor 1 of 1. "
     ]
    },
    {
     "name": "stderr",
     "output_type": "stream",
     "text": [
      "/home/bsmith16/.conda/envs/neuralsignature/lib/python3.8/site-packages/nilearn/decoding/decoder.py:143: UserWarning: Use a custom estimator at your own risk of the process not working as intended.\n",
      "  warnings.warn('Use a custom estimator at your own risk '\n"
     ]
    },
    {
     "name": "stdout",
     "output_type": "stream",
     "text": [
      "predicting. test score was:. 0.20046275478077002\n",
      "In order to test on a training group of 27 items, holding out the following subjects:['DEV019' 'DEV001' 'DEV030']. selecting training data. (91, 109, 91, 404). 2.7 GiB. selecting test data. 1.1 GiB. (91, 109, 91, 170). regressing. 2.7 GiB. trying regressor 1 of 1. "
     ]
    },
    {
     "name": "stderr",
     "output_type": "stream",
     "text": [
      "/home/bsmith16/.conda/envs/neuralsignature/lib/python3.8/site-packages/nilearn/decoding/decoder.py:143: UserWarning: Use a custom estimator at your own risk of the process not working as intended.\n",
      "  warnings.warn('Use a custom estimator at your own risk '\n"
     ]
    },
    {
     "name": "stdout",
     "output_type": "stream",
     "text": [
      "predicting. test score was:. 0.286344773524543\n",
      "In order to test on a training group of 27 items, holding out the following subjects:['DEV018' 'DEV040' 'DEV024']. selecting training data. (91, 109, 91, 401). 2.7 GiB. selecting test data. 1.3 GiB. (91, 109, 91, 187). regressing. 2.7 GiB. trying regressor 1 of 1. "
     ]
    },
    {
     "name": "stderr",
     "output_type": "stream",
     "text": [
      "/home/bsmith16/.conda/envs/neuralsignature/lib/python3.8/site-packages/nilearn/decoding/decoder.py:143: UserWarning: Use a custom estimator at your own risk of the process not working as intended.\n",
      "  warnings.warn('Use a custom estimator at your own risk '\n"
     ]
    },
    {
     "name": "stdout",
     "output_type": "stream",
     "text": [
      "predicting. test score was:. -0.03008200398682548\n",
      "In order to test on a training group of 27 items, holding out the following subjects:['DEV028' 'DEV014' 'DEV013']. selecting training data. (91, 109, 91, 399). 2.7 GiB. selecting test data. 1.3 GiB. (91, 109, 91, 186). regressing. 2.7 GiB. trying regressor 1 of 1. "
     ]
    },
    {
     "name": "stderr",
     "output_type": "stream",
     "text": [
      "/home/bsmith16/.conda/envs/neuralsignature/lib/python3.8/site-packages/nilearn/decoding/decoder.py:143: UserWarning: Use a custom estimator at your own risk of the process not working as intended.\n",
      "  warnings.warn('Use a custom estimator at your own risk '\n"
     ]
    },
    {
     "name": "stdout",
     "output_type": "stream",
     "text": [
      "predicting. test score was:. 0.034828798367610436\n",
      "In order to test on a training group of 27 items, holding out the following subjects:['DEV029' 'DEV021' 'DEV009']. selecting training data. (91, 109, 91, 400). 2.7 GiB. selecting test data. 1.3 GiB. (91, 109, 91, 188). regressing. 2.7 GiB. trying regressor 1 of 1. "
     ]
    },
    {
     "name": "stderr",
     "output_type": "stream",
     "text": [
      "/home/bsmith16/.conda/envs/neuralsignature/lib/python3.8/site-packages/nilearn/decoding/decoder.py:143: UserWarning: Use a custom estimator at your own risk of the process not working as intended.\n",
      "  warnings.warn('Use a custom estimator at your own risk '\n"
     ]
    },
    {
     "name": "stdout",
     "output_type": "stream",
     "text": [
      "predicting. test score was:. 0.09827530933725814\n",
      "In order to test on a training group of 27 items, holding out the following subjects:['DEV041' 'DEV039' 'DEV015']. selecting training data. (91, 109, 91, 400). 2.7 GiB. selecting test data. 1.2 GiB. (91, 109, 91, 183). regressing. 2.7 GiB. trying regressor 1 of 1. "
     ]
    },
    {
     "name": "stderr",
     "output_type": "stream",
     "text": [
      "/home/bsmith16/.conda/envs/neuralsignature/lib/python3.8/site-packages/nilearn/decoding/decoder.py:143: UserWarning: Use a custom estimator at your own risk of the process not working as intended.\n",
      "  warnings.warn('Use a custom estimator at your own risk '\n"
     ]
    },
    {
     "name": "stdout",
     "output_type": "stream",
     "text": [
      "predicting. test score was:. 0.03758348501627762\n",
      "In order to test on a training group of 27 items, holding out the following subjects:['DEV034' 'DEV042' 'DEV036']. selecting training data. (91, 109, 91, 404). 2.7 GiB. selecting test data. 1.3 GiB. (91, 109, 91, 190). regressing. 2.7 GiB. trying regressor 1 of 1. "
     ]
    },
    {
     "name": "stderr",
     "output_type": "stream",
     "text": [
      "/home/bsmith16/.conda/envs/neuralsignature/lib/python3.8/site-packages/nilearn/decoding/decoder.py:143: UserWarning: Use a custom estimator at your own risk of the process not working as intended.\n",
      "  warnings.warn('Use a custom estimator at your own risk '\n"
     ]
    },
    {
     "name": "stdout",
     "output_type": "stream",
     "text": [
      "predicting. test score was:. -0.2799945621852211\n",
      "In order to test on a training group of 27 items, holding out the following subjects:['DEV027' 'DEV005' 'DEV022']. selecting training data. (91, 109, 91, 400). 2.7 GiB. selecting test data. 1.3 GiB. (91, 109, 91, 189). regressing. 2.7 GiB. trying regressor 1 of 1. "
     ]
    },
    {
     "name": "stderr",
     "output_type": "stream",
     "text": [
      "/home/bsmith16/.conda/envs/neuralsignature/lib/python3.8/site-packages/nilearn/decoding/decoder.py:143: UserWarning: Use a custom estimator at your own risk of the process not working as intended.\n",
      "  warnings.warn('Use a custom estimator at your own risk '\n"
     ]
    },
    {
     "name": "stdout",
     "output_type": "stream",
     "text": [
      "predicting. test score was:. 0.15530496770821545\n",
      "using default regressor. In order to test on a training group of 27 items, holding out the following subjects:['DEV028' 'DEV039' 'DEV015']. selecting training data. (91, 109, 91, 401). 2.7 GiB. selecting test data. 1.2 GiB. (91, 109, 91, 180). regressing. 2.7 GiB. trying regressor 1 of 1. predicting. test score was:. 0.13308336675259258\n",
      "In order to test on a training group of 27 items, holding out the following subjects:['DEV018' 'DEV029' 'DEV035']. selecting training data. (91, 109, 91, 401). 2.7 GiB. selecting test data. 1.3 GiB. (91, 109, 91, 190). regressing. 2.7 GiB. trying regressor 1 of 1. "
     ]
    },
    {
     "name": "stderr",
     "output_type": "stream",
     "text": [
      "/home/bsmith16/.conda/envs/neuralsignature/lib/python3.8/site-packages/nilearn/decoding/decoder.py:143: UserWarning: Use a custom estimator at your own risk of the process not working as intended.\n",
      "  warnings.warn('Use a custom estimator at your own risk '\n"
     ]
    },
    {
     "name": "stdout",
     "output_type": "stream",
     "text": [
      "predicting. test score was:. 0.22592648596356035\n",
      "In order to test on a training group of 27 items, holding out the following subjects:['DEV041' 'DEV010' 'DEV022']. selecting training data. (91, 109, 91, 398). 2.7 GiB. selecting test data. 1.2 GiB. (91, 109, 91, 183). regressing. 2.7 GiB. trying regressor 1 of 1. "
     ]
    },
    {
     "name": "stderr",
     "output_type": "stream",
     "text": [
      "/home/bsmith16/.conda/envs/neuralsignature/lib/python3.8/site-packages/nilearn/decoding/decoder.py:143: UserWarning: Use a custom estimator at your own risk of the process not working as intended.\n",
      "  warnings.warn('Use a custom estimator at your own risk '\n"
     ]
    },
    {
     "name": "stdout",
     "output_type": "stream",
     "text": [
      "predicting. test score was:. 0.05866554340710772\n",
      "In order to test on a training group of 27 items, holding out the following subjects:['DEV001' 'DEV025' 'DEV036']. selecting training data. (91, 109, 91, 403). 2.7 GiB. selecting test data. 1.3 GiB. (91, 109, 91, 187). regressing. 2.7 GiB. trying regressor 1 of 1. "
     ]
    },
    {
     "name": "stderr",
     "output_type": "stream",
     "text": [
      "/home/bsmith16/.conda/envs/neuralsignature/lib/python3.8/site-packages/nilearn/decoding/decoder.py:143: UserWarning: Use a custom estimator at your own risk of the process not working as intended.\n",
      "  warnings.warn('Use a custom estimator at your own risk '\n"
     ]
    },
    {
     "name": "stdout",
     "output_type": "stream",
     "text": [
      "predicting. test score was:. -0.09013338986017327\n",
      "In order to test on a training group of 27 items, holding out the following subjects:['DEV034' 'DEV017' 'DEV042']. selecting training data. (91, 109, 91, 406). 2.7 GiB. selecting test data. 1.2 GiB. (91, 109, 91, 176). regressing. 2.7 GiB. trying regressor 1 of 1. "
     ]
    },
    {
     "name": "stderr",
     "output_type": "stream",
     "text": [
      "/home/bsmith16/.conda/envs/neuralsignature/lib/python3.8/site-packages/nilearn/decoding/decoder.py:143: UserWarning: Use a custom estimator at your own risk of the process not working as intended.\n",
      "  warnings.warn('Use a custom estimator at your own risk '\n"
     ]
    },
    {
     "name": "stdout",
     "output_type": "stream",
     "text": [
      "predicting. test score was:. -0.17830634866178352\n",
      "In order to test on a training group of 27 items, holding out the following subjects:['DEV013' 'DEV005' 'DEV012']. selecting training data. (91, 109, 91, 401). 2.7 GiB. selecting test data. 1.3 GiB. (91, 109, 91, 188). regressing. 2.7 GiB. trying regressor 1 of 1. "
     ]
    },
    {
     "name": "stderr",
     "output_type": "stream",
     "text": [
      "/home/bsmith16/.conda/envs/neuralsignature/lib/python3.8/site-packages/nilearn/decoding/decoder.py:143: UserWarning: Use a custom estimator at your own risk of the process not working as intended.\n",
      "  warnings.warn('Use a custom estimator at your own risk '\n"
     ]
    },
    {
     "name": "stdout",
     "output_type": "stream",
     "text": [
      "predicting. test score was:. 0.07554026741486997\n",
      "In order to test on a training group of 27 items, holding out the following subjects:['DEV040' 'DEV009' 'DEV006']. selecting training data. (91, 109, 91, 401). 2.7 GiB. selecting test data. 1.2 GiB. (91, 109, 91, 184). regressing. 2.7 GiB. trying regressor 1 of 1. "
     ]
    },
    {
     "name": "stderr",
     "output_type": "stream",
     "text": [
      "/home/bsmith16/.conda/envs/neuralsignature/lib/python3.8/site-packages/nilearn/decoding/decoder.py:143: UserWarning: Use a custom estimator at your own risk of the process not working as intended.\n",
      "  warnings.warn('Use a custom estimator at your own risk '\n"
     ]
    },
    {
     "name": "stdout",
     "output_type": "stream",
     "text": [
      "predicting. test score was:. 0.09670114069023861\n",
      "In order to test on a training group of 27 items, holding out the following subjects:['DEV026' 'DEV027' 'DEV024']. selecting training data. (91, 109, 91, 401). 2.7 GiB. selecting test data. 1.3 GiB. (91, 109, 91, 188). regressing. 2.7 GiB. trying regressor 1 of 1. "
     ]
    },
    {
     "name": "stderr",
     "output_type": "stream",
     "text": [
      "/home/bsmith16/.conda/envs/neuralsignature/lib/python3.8/site-packages/nilearn/decoding/decoder.py:143: UserWarning: Use a custom estimator at your own risk of the process not working as intended.\n",
      "  warnings.warn('Use a custom estimator at your own risk '\n"
     ]
    },
    {
     "name": "stdout",
     "output_type": "stream",
     "text": [
      "predicting. test score was:. 0.06694452394977723\n",
      "In order to test on a training group of 27 items, holding out the following subjects:['DEV019' 'DEV016' 'DEV021']. selecting training data. (91, 109, 91, 403). 2.7 GiB. selecting test data. 1.1 GiB. (91, 109, 91, 170). regressing. 2.7 GiB. trying regressor 1 of 1. "
     ]
    },
    {
     "name": "stderr",
     "output_type": "stream",
     "text": [
      "/home/bsmith16/.conda/envs/neuralsignature/lib/python3.8/site-packages/nilearn/decoding/decoder.py:143: UserWarning: Use a custom estimator at your own risk of the process not working as intended.\n",
      "  warnings.warn('Use a custom estimator at your own risk '\n"
     ]
    },
    {
     "name": "stdout",
     "output_type": "stream",
     "text": [
      "predicting. test score was:. 0.09386401234344521\n",
      "In order to test on a training group of 27 items, holding out the following subjects:['DEV023' 'DEV030' 'DEV014']. selecting training data. (91, 109, 91, 399). 2.7 GiB. selecting test data. 1.3 GiB. (91, 109, 91, 189). regressing. 2.7 GiB. trying regressor 1 of 1. "
     ]
    },
    {
     "name": "stderr",
     "output_type": "stream",
     "text": [
      "/home/bsmith16/.conda/envs/neuralsignature/lib/python3.8/site-packages/nilearn/decoding/decoder.py:143: UserWarning: Use a custom estimator at your own risk of the process not working as intended.\n",
      "  warnings.warn('Use a custom estimator at your own risk '\n"
     ]
    },
    {
     "name": "stdout",
     "output_type": "stream",
     "text": [
      "predicting. test score was:. 0.09149777857553221\n",
      "using default regressor. In order to test on a training group of 27 items, holding out the following subjects:['DEV018' 'DEV021' 'DEV009']. selecting training data. (91, 109, 91, 399). 2.7 GiB. selecting test data. 1.3 GiB. (91, 109, 91, 188). regressing. 2.7 GiB. trying regressor 1 of 1. predicting. test score was:. 0.15788208881713472\n",
      "In order to test on a training group of 27 items, holding out the following subjects:['DEV035' 'DEV040' 'DEV025']. selecting training data. (91, 109, 91, 403). 2.7 GiB. selecting test data. 1.2 GiB. (91, 109, 91, 184). regressing. 2.7 GiB. trying regressor 1 of 1. "
     ]
    },
    {
     "name": "stderr",
     "output_type": "stream",
     "text": [
      "/home/bsmith16/.conda/envs/neuralsignature/lib/python3.8/site-packages/nilearn/decoding/decoder.py:143: UserWarning: Use a custom estimator at your own risk of the process not working as intended.\n",
      "  warnings.warn('Use a custom estimator at your own risk '\n"
     ]
    },
    {
     "name": "stdout",
     "output_type": "stream",
     "text": [
      "predicting. test score was:. -0.029752133993287355\n",
      "In order to test on a training group of 27 items, holding out the following subjects:['DEV030' 'DEV027' 'DEV010']. selecting training data. (91, 109, 91, 400). 2.7 GiB. selecting test data. 1.2 GiB. (91, 109, 91, 182). regressing. 2.7 GiB. trying regressor 1 of 1. "
     ]
    },
    {
     "name": "stderr",
     "output_type": "stream",
     "text": [
      "/home/bsmith16/.conda/envs/neuralsignature/lib/python3.8/site-packages/nilearn/decoding/decoder.py:143: UserWarning: Use a custom estimator at your own risk of the process not working as intended.\n",
      "  warnings.warn('Use a custom estimator at your own risk '\n"
     ]
    },
    {
     "name": "stdout",
     "output_type": "stream",
     "text": [
      "predicting. test score was:. 0.16391818249156898\n",
      "In order to test on a training group of 27 items, holding out the following subjects:['DEV026' 'DEV005' 'DEV012']. selecting training data. (91, 109, 91, 401). 2.7 GiB. selecting test data. 1.3 GiB. (91, 109, 91, 187). regressing. 2.7 GiB. trying regressor 1 of 1. "
     ]
    },
    {
     "name": "stderr",
     "output_type": "stream",
     "text": [
      "/home/bsmith16/.conda/envs/neuralsignature/lib/python3.8/site-packages/nilearn/decoding/decoder.py:143: UserWarning: Use a custom estimator at your own risk of the process not working as intended.\n",
      "  warnings.warn('Use a custom estimator at your own risk '\n"
     ]
    },
    {
     "name": "stdout",
     "output_type": "stream",
     "text": [
      "predicting. test score was:. 0.21798652856478684\n",
      "In order to test on a training group of 27 items, holding out the following subjects:['DEV028' 'DEV006' 'DEV022']. selecting training data. (91, 109, 91, 399). 2.7 GiB. selecting test data. 1.2 GiB. (91, 109, 91, 184). regressing. 2.7 GiB. trying regressor 1 of 1. "
     ]
    },
    {
     "name": "stderr",
     "output_type": "stream",
     "text": [
      "/home/bsmith16/.conda/envs/neuralsignature/lib/python3.8/site-packages/nilearn/decoding/decoder.py:143: UserWarning: Use a custom estimator at your own risk of the process not working as intended.\n",
      "  warnings.warn('Use a custom estimator at your own risk '\n"
     ]
    },
    {
     "name": "stdout",
     "output_type": "stream",
     "text": [
      "predicting. test score was:. 0.08012451031650902\n",
      "In order to test on a training group of 27 items, holding out the following subjects:['DEV001' 'DEV016' 'DEV014']. selecting training data. (91, 109, 91, 401). 2.7 GiB. selecting test data. 1.3 GiB. (91, 109, 91, 190). regressing. 2.7 GiB. trying regressor 1 of 1. "
     ]
    },
    {
     "name": "stderr",
     "output_type": "stream",
     "text": [
      "/home/bsmith16/.conda/envs/neuralsignature/lib/python3.8/site-packages/nilearn/decoding/decoder.py:143: UserWarning: Use a custom estimator at your own risk of the process not working as intended.\n",
      "  warnings.warn('Use a custom estimator at your own risk '\n"
     ]
    },
    {
     "name": "stdout",
     "output_type": "stream",
     "text": [
      "predicting. test score was:. 0.18471900678031294\n",
      "In order to test on a training group of 27 items, holding out the following subjects:['DEV039' 'DEV036' 'DEV024']. selecting training data. (91, 109, 91, 401). 2.7 GiB. selecting test data. 1.3 GiB. (91, 109, 91, 191). regressing. 2.7 GiB. trying regressor 1 of 1. "
     ]
    },
    {
     "name": "stderr",
     "output_type": "stream",
     "text": [
      "/home/bsmith16/.conda/envs/neuralsignature/lib/python3.8/site-packages/nilearn/decoding/decoder.py:143: UserWarning: Use a custom estimator at your own risk of the process not working as intended.\n",
      "  warnings.warn('Use a custom estimator at your own risk '\n"
     ]
    },
    {
     "name": "stdout",
     "output_type": "stream",
     "text": [
      "predicting. test score was:. -0.023141435272355793\n",
      "In order to test on a training group of 27 items, holding out the following subjects:['DEV023' 'DEV041' 'DEV029']. selecting training data. (91, 109, 91, 400). 2.7 GiB. selecting test data. 1.3 GiB. (91, 109, 91, 190). regressing. 2.7 GiB. trying regressor 1 of 1. "
     ]
    },
    {
     "name": "stderr",
     "output_type": "stream",
     "text": [
      "/home/bsmith16/.conda/envs/neuralsignature/lib/python3.8/site-packages/nilearn/decoding/decoder.py:143: UserWarning: Use a custom estimator at your own risk of the process not working as intended.\n",
      "  warnings.warn('Use a custom estimator at your own risk '\n"
     ]
    },
    {
     "name": "stdout",
     "output_type": "stream",
     "text": [
      "predicting. test score was:. 0.013325802064383052\n",
      "In order to test on a training group of 27 items, holding out the following subjects:['DEV013' 'DEV017' 'DEV042']. selecting training data. (91, 109, 91, 406). 2.7 GiB. selecting test data. 1.2 GiB. (91, 109, 91, 175). regressing. 2.7 GiB. trying regressor 1 of 1. "
     ]
    },
    {
     "name": "stderr",
     "output_type": "stream",
     "text": [
      "/home/bsmith16/.conda/envs/neuralsignature/lib/python3.8/site-packages/nilearn/decoding/decoder.py:143: UserWarning: Use a custom estimator at your own risk of the process not working as intended.\n",
      "  warnings.warn('Use a custom estimator at your own risk '\n"
     ]
    },
    {
     "name": "stdout",
     "output_type": "stream",
     "text": [
      "predicting. test score was:. -0.12846896552984344\n",
      "In order to test on a training group of 27 items, holding out the following subjects:['DEV019' 'DEV034' 'DEV015']. selecting training data. (91, 109, 91, 404). 2.7 GiB. selecting test data. 1.1 GiB. (91, 109, 91, 164). regressing. 2.7 GiB. trying regressor 1 of 1. "
     ]
    },
    {
     "name": "stderr",
     "output_type": "stream",
     "text": [
      "/home/bsmith16/.conda/envs/neuralsignature/lib/python3.8/site-packages/nilearn/decoding/decoder.py:143: UserWarning: Use a custom estimator at your own risk of the process not working as intended.\n",
      "  warnings.warn('Use a custom estimator at your own risk '\n"
     ]
    },
    {
     "name": "stdout",
     "output_type": "stream",
     "text": [
      "predicting. test score was:. 0.21265858691608175\n",
      "attempt:[0.06120256829613887, -0.010022472032285023, 0.06708969951086005, 0.05737833805751671, 0.08492521711552907]\n"
     ]
    }
   ],
   "source": [
    "split_dict_30  = {}\n",
    "for n_split in [3,5,10]:\n",
    "    attempt = []\n",
    "    for i in range(5):\n",
    "        test_scores_different = cv_train_test_sets(\n",
    "            trainset_X=first_subs_grouped_nifti,\n",
    "            trainset_y=first_subs_grouped_nifti_Y,\n",
    "            trainset_groups=first_subs_grouped_nifti_groups,\n",
    "            testset_X=first_subs_nifti,\n",
    "            testset_y=first_subs_nifti_Y,\n",
    "            testset_groups=first_subs_nifti_groups,\n",
    "            cv = KFold(n_splits = n_split,shuffle=True)\n",
    "        )\n",
    "        attempt = attempt + [np.mean(test_scores_different)]\n",
    "    print(\"attempt:\" + str(attempt))\n",
    "    split_dict_30[n_split] = attempt\n"
   ]
  },
  {
   "cell_type": "code",
   "execution_count": 19,
   "id": "oriental-newcastle",
   "metadata": {},
   "outputs": [
    {
     "data": {
      "text/plain": [
       "{3: [0.08814339041826484,\n",
       "  0.08889161102677841,\n",
       "  0.07834291386673375,\n",
       "  0.07821122876678943,\n",
       "  0.08413504633966747],\n",
       " 5: [0.0641966947510925,\n",
       "  0.06281546533224261,\n",
       "  0.0540090558551128,\n",
       "  0.09740068310295172,\n",
       "  0.07492088246764621],\n",
       " 10: [0.06120256829613887,\n",
       "  -0.010022472032285023,\n",
       "  0.06708969951086005,\n",
       "  0.05737833805751671,\n",
       "  0.08492521711552907]}"
      ]
     },
     "execution_count": 19,
     "metadata": {},
     "output_type": "execute_result"
    }
   ],
   "source": [
    "split_dict_30"
   ]
  },
  {
   "cell_type": "code",
   "execution_count": 23,
   "id": "entitled-tuner",
   "metadata": {},
   "outputs": [
    {
     "data": {
      "text/plain": [
       "[{3: {'mean': 0.08354483808364678, 'sd': 0.004595441527611343}},\n",
       " {5: {'mean': 0.07066855630180915, 'sd': 0.014925038465440786}},\n",
       " {10: {'mean': 0.05211467018955194, 'sd': 0.032471846352409746}},\n",
       " {2: {'mean': 0.06252641986765033, 'sd': 0.02081765232658925}}]"
      ]
     },
     "execution_count": 23,
     "metadata": {},
     "output_type": "execute_result"
    }
   ],
   "source": [
    "get_summary_stats(split_dict_30)"
   ]
  },
  {
   "cell_type": "code",
   "execution_count": 22,
   "id": "seventh-safety",
   "metadata": {},
   "outputs": [
    {
     "name": "stdout",
     "output_type": "stream",
     "text": [
      "using default regressor. In order to test on a training group of 15 items, holding out the following subjects:['DEV019' 'DEV001' 'DEV041' 'DEV035' 'DEV040' 'DEV027' 'DEV039' 'DEV021'\n",
      " 'DEV013' 'DEV009' 'DEV034' 'DEV017' 'DEV005' 'DEV036' 'DEV024']. selecting training data. (91, 109, 91, 226). 1.5 GiB. selecting test data. 6.2 GiB. (91, 109, 91, 915). regressing. 1.5 GiB. trying regressor 1 of 1. predicting. test score was:. 0.03985298630731049\n",
      "In order to test on a training group of 15 items, holding out the following subjects:['DEV018' 'DEV023' 'DEV016' 'DEV029' 'DEV028' 'DEV026' 'DEV030' 'DEV014'\n",
      " 'DEV042' 'DEV010' 'DEV006' 'DEV015' 'DEV012' 'DEV022' 'DEV025']. selecting training data. (91, 109, 91, 220). 1.5 GiB. selecting test data. 6.2 GiB. (91, 109, 91, 920). regressing. 1.5 GiB. trying regressor 1 of 1. "
     ]
    },
    {
     "name": "stderr",
     "output_type": "stream",
     "text": [
      "/home/bsmith16/.conda/envs/neuralsignature/lib/python3.8/site-packages/nilearn/decoding/decoder.py:143: UserWarning: Use a custom estimator at your own risk of the process not working as intended.\n",
      "  warnings.warn('Use a custom estimator at your own risk '\n"
     ]
    },
    {
     "name": "stdout",
     "output_type": "stream",
     "text": [
      "predicting. test score was:. 0.07249206329258251\n",
      "using default regressor. In order to test on a training group of 15 items, holding out the following subjects:['DEV019' 'DEV016' 'DEV041' 'DEV028' 'DEV026' 'DEV035' 'DEV014' 'DEV009'\n",
      " 'DEV034' 'DEV010' 'DEV015' 'DEV005' 'DEV012' 'DEV025' 'DEV036']. selecting training data. (91, 109, 91, 223). 1.5 GiB. selecting test data. 6.1 GiB. (91, 109, 91, 906). regressing. 1.5 GiB. trying regressor 1 of 1. predicting. test score was:. 0.021567051703714313\n",
      "In order to test on a training group of 15 items, holding out the following subjects:['DEV018' 'DEV023' 'DEV001' 'DEV029' 'DEV030' 'DEV040' 'DEV027' 'DEV039'\n",
      " 'DEV021' 'DEV013' 'DEV017' 'DEV042' 'DEV006' 'DEV022' 'DEV024']. selecting training data. (91, 109, 91, 223). 1.5 GiB. selecting test data. 6.2 GiB. (91, 109, 91, 929). regressing. 1.5 GiB. trying regressor 1 of 1. "
     ]
    },
    {
     "name": "stderr",
     "output_type": "stream",
     "text": [
      "/home/bsmith16/.conda/envs/neuralsignature/lib/python3.8/site-packages/nilearn/decoding/decoder.py:143: UserWarning: Use a custom estimator at your own risk of the process not working as intended.\n",
      "  warnings.warn('Use a custom estimator at your own risk '\n"
     ]
    },
    {
     "name": "stdout",
     "output_type": "stream",
     "text": [
      "predicting. test score was:. 0.0345711893964491\n",
      "using default regressor. In order to test on a training group of 15 items, holding out the following subjects:['DEV019' 'DEV018' 'DEV041' 'DEV029' 'DEV026' 'DEV035' 'DEV027' 'DEV021'\n",
      " 'DEV013' 'DEV009' 'DEV010' 'DEV015' 'DEV022' 'DEV025' 'DEV024']. selecting training data. (91, 109, 91, 220). 1.5 GiB. selecting test data. 6.1 GiB. (91, 109, 91, 908). regressing. 1.5 GiB. trying regressor 1 of 1. predicting. test score was:. 0.09676325823052268\n",
      "In order to test on a training group of 15 items, holding out the following subjects:['DEV023' 'DEV001' 'DEV016' 'DEV028' 'DEV030' 'DEV040' 'DEV014' 'DEV039'\n",
      " 'DEV034' 'DEV017' 'DEV042' 'DEV006' 'DEV005' 'DEV012' 'DEV036']. selecting training data. (91, 109, 91, 226). 1.5 GiB. selecting test data. 6.2 GiB. (91, 109, 91, 927). regressing. 1.5 GiB. trying regressor 1 of 1. "
     ]
    },
    {
     "name": "stderr",
     "output_type": "stream",
     "text": [
      "/home/bsmith16/.conda/envs/neuralsignature/lib/python3.8/site-packages/nilearn/decoding/decoder.py:143: UserWarning: Use a custom estimator at your own risk of the process not working as intended.\n",
      "  warnings.warn('Use a custom estimator at your own risk '\n"
     ]
    },
    {
     "name": "stdout",
     "output_type": "stream",
     "text": [
      "predicting. test score was:. 0.06388964341210968\n",
      "using default regressor. In order to test on a training group of 15 items, holding out the following subjects:['DEV023' 'DEV001' 'DEV016' 'DEV029' 'DEV026' 'DEV030' 'DEV040' 'DEV014'\n",
      " 'DEV021' 'DEV013' 'DEV009' 'DEV034' 'DEV015' 'DEV012' 'DEV024']. selecting training data. (91, 109, 91, 220). 1.5 GiB. selecting test data. 6.3 GiB. (91, 109, 91, 935). regressing. 1.5 GiB. trying regressor 1 of 1. predicting. test score was:. 0.13555410849817473\n",
      "In order to test on a training group of 15 items, holding out the following subjects:['DEV019' 'DEV018' 'DEV041' 'DEV028' 'DEV035' 'DEV027' 'DEV039' 'DEV017'\n",
      " 'DEV042' 'DEV010' 'DEV006' 'DEV005' 'DEV022' 'DEV025' 'DEV036']. selecting training data. (91, 109, 91, 226). 1.5 GiB. selecting test data. 6.1 GiB. (91, 109, 91, 900). regressing. 1.5 GiB. trying regressor 1 of 1. "
     ]
    },
    {
     "name": "stderr",
     "output_type": "stream",
     "text": [
      "/home/bsmith16/.conda/envs/neuralsignature/lib/python3.8/site-packages/nilearn/decoding/decoder.py:143: UserWarning: Use a custom estimator at your own risk of the process not working as intended.\n",
      "  warnings.warn('Use a custom estimator at your own risk '\n"
     ]
    },
    {
     "name": "stdout",
     "output_type": "stream",
     "text": [
      "predicting. test score was:. 0.03925303808802083\n",
      "using default regressor. In order to test on a training group of 15 items, holding out the following subjects:['DEV019' 'DEV018' 'DEV001' 'DEV029' 'DEV026' 'DEV014' 'DEV039' 'DEV021'\n",
      " 'DEV017' 'DEV042' 'DEV010' 'DEV005' 'DEV025' 'DEV036' 'DEV024']. selecting training data. (91, 109, 91, 225). 1.5 GiB. selecting test data. 6.1 GiB. (91, 109, 91, 904). regressing. 1.5 GiB. trying regressor 1 of 1. predicting. test score was:. 0.0480011393916816\n",
      "In order to test on a training group of 15 items, holding out the following subjects:['DEV023' 'DEV016' 'DEV041' 'DEV028' 'DEV030' 'DEV035' 'DEV040' 'DEV027'\n",
      " 'DEV013' 'DEV009' 'DEV034' 'DEV006' 'DEV015' 'DEV012' 'DEV022']. selecting training data. (91, 109, 91, 221). 1.5 GiB. selecting test data. 6.3 GiB. (91, 109, 91, 931). regressing. 1.5 GiB. trying regressor 1 of 1. "
     ]
    },
    {
     "name": "stderr",
     "output_type": "stream",
     "text": [
      "/home/bsmith16/.conda/envs/neuralsignature/lib/python3.8/site-packages/nilearn/decoding/decoder.py:143: UserWarning: Use a custom estimator at your own risk of the process not working as intended.\n",
      "  warnings.warn('Use a custom estimator at your own risk '\n"
     ]
    },
    {
     "name": "stdout",
     "output_type": "stream",
     "text": [
      "predicting. test score was:. 0.07331972035593737\n",
      "attempt:[0.0561725247999465, 0.028069120550081705, 0.08032645082131618, 0.08740357329309778, 0.060660429873809485]\n"
     ]
    }
   ],
   "source": [
    "for n_split in [2]:\n",
    "    attempt = []\n",
    "    for i in range(5):\n",
    "        test_scores_different = cv_train_test_sets(\n",
    "            trainset_X=first_subs_grouped_nifti,\n",
    "            trainset_y=first_subs_grouped_nifti_Y,\n",
    "            trainset_groups=first_subs_grouped_nifti_groups,\n",
    "            testset_X=first_subs_nifti,\n",
    "            testset_y=first_subs_nifti_Y,\n",
    "            testset_groups=first_subs_nifti_groups,\n",
    "            cv = KFold(n_splits = n_split,shuffle=True)\n",
    "        )\n",
    "        attempt = attempt + [np.mean(test_scores_different)]\n",
    "    print(\"attempt:\" + str(attempt))\n",
    "    split_dict_30[n_split] = attempt\n"
   ]
  },
  {
   "cell_type": "code",
   "execution_count": null,
   "id": "professional-plaintiff",
   "metadata": {},
   "outputs": [],
   "source": []
  }
 ],
 "metadata": {
  "kernelspec": {
   "display_name": "Python [conda env:.conda-neuralsignature]",
   "language": "python",
   "name": "conda-env-.conda-neuralsignature-py"
  },
  "language_info": {
   "codemirror_mode": {
    "name": "ipython",
    "version": 3
   },
   "file_extension": ".py",
   "mimetype": "text/x-python",
   "name": "python",
   "nbconvert_exporter": "python",
   "pygments_lexer": "ipython3",
   "version": "3.8.8"
  }
 },
 "nbformat": 4,
 "nbformat_minor": 5
}
