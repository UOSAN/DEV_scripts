{
 "cells": [
  {
   "cell_type": "markdown",
   "id": "palestinian-retro",
   "metadata": {},
   "source": [
    "Aim of this notebook is to try to run first-level SPM analyses in nipy.\n",
    "\n",
    "Steps I want to aim for:\n",
    "\n",
    "1. Preprocess some subject data\n",
    "2. Verify that my pre-processing replicates what Dani has done for that subject\n",
    "3. Modify to suit my needs for this project\n",
    "4. Implement."
   ]
  },
  {
   "cell_type": "code",
   "execution_count": 1,
   "id": "every-calcium",
   "metadata": {},
   "outputs": [],
   "source": [
    "from __future__ import print_function\n",
    "from builtins import str\n",
    "from builtins import range\n",
    "\n",
    "import os  # system functions\n",
    "\n",
    "from nipype import config\n",
    "# config.enable_provenance()\n",
    "\n",
    "from nipype.interfaces import spm, fsl\n",
    "\n",
    "# In order to use this example with SPM's matlab common runtime\n",
    "# matlab_cmd = ('/Users/satra/Downloads/spm8/run_spm8.sh '\n",
    "#               '/Applications/MATLAB/MATLAB_Compiler_Runtime/v713/ script')\n",
    "# spm.SPMCommand.set_mlab_paths(matlab_cmd=matlab_cmd, use_mcr=True)\n",
    "\n",
    "import nipype.interfaces.io as nio  # Data i/o\n",
    "import nipype.interfaces.utility as util  # utility\n",
    "import nipype.pipeline.engine as pe  # pypeline engine\n",
    "import nipype.algorithms.rapidart as ra  # artifact detection\n",
    "import nipype.algorithms.modelgen as model  # model specification\n",
    "import nipype.interfaces.matlab as mlab"
   ]
  },
  {
   "cell_type": "markdown",
   "id": "olive-sellers",
   "metadata": {},
   "source": [
    "https://nipype.readthedocs.io/en/latest/users/examples/fmri_spm.html"
   ]
  },
  {
   "cell_type": "code",
   "execution_count": 3,
   "id": "positive-decade",
   "metadata": {},
   "outputs": [],
   "source": [
    "import dev_wtp_io_utils"
   ]
  },
  {
   "cell_type": "code",
   "execution_count": 4,
   "id": "brown-behavior",
   "metadata": {},
   "outputs": [],
   "source": [
    "wtp_example_filepath = get_wtp_filepath_for_run(\"DEV048\",1,1)"
   ]
  },
  {
   "cell_type": "code",
   "execution_count": 5,
   "id": "early-audio",
   "metadata": {},
   "outputs": [
    {
     "data": {
      "text/plain": [
       "'/gpfs/projects/sanlab/shared/DEV/bids_data/derivatives/fmriprep/sub-DEV048/ses-wave1/func/s6_sub-DEV048_ses-wave1_task-WTP_acq-1_bold_space-MNI152NLin2009cAsym_preproc.nii'"
      ]
     },
     "execution_count": 5,
     "metadata": {},
     "output_type": "execute_result"
    }
   ],
   "source": [
    "wtp_example_filepath"
   ]
  },
  {
   "cell_type": "code",
   "execution_count": 7,
   "id": "developed-scholar",
   "metadata": {},
   "outputs": [],
   "source": [
    "subject_list = ['sub-DEV049','sub-DEV048']"
   ]
  },
  {
   "cell_type": "code",
   "execution_count": 8,
   "id": "proved-clause",
   "metadata": {},
   "outputs": [],
   "source": [
    "data_dir = '/gpfs/projects/sanlab/shared/DEV/bids_data/derivatives/fmriprep/'"
   ]
  },
  {
   "cell_type": "code",
   "execution_count": null,
   "id": "organizational-cream",
   "metadata": {},
   "outputs": [],
   "source": []
  }
 ],
 "metadata": {
  "kernelspec": {
   "display_name": "Python [conda env:.conda-dev_nipype]",
   "language": "python",
   "name": "conda-env-.conda-dev_nipype-py"
  },
  "language_info": {
   "codemirror_mode": {
    "name": "ipython",
    "version": 3
   },
   "file_extension": ".py",
   "mimetype": "text/x-python",
   "name": "python",
   "nbconvert_exporter": "python",
   "pygments_lexer": "ipython3",
   "version": "3.8.8"
  }
 },
 "nbformat": 4,
 "nbformat_minor": 5
}
