{
 "cells": [
  {
   "cell_type": "code",
   "execution_count": null,
   "id": "lasting-escape",
   "metadata": {},
   "outputs": [],
   "source": []
  },
  {
   "cell_type": "code",
   "execution_count": 1,
   "id": "considered-chicago",
   "metadata": {},
   "outputs": [
    {
     "name": "stderr",
     "output_type": "stream",
     "text": [
      "/home/bsmith16/.conda/envs/neuralsignature/lib/python3.8/site-packages/nilearn/datasets/__init__.py:87: FutureWarning: Fetchers from the nilearn.datasets module will be updated in version 0.9 to return python strings instead of bytes and Pandas dataframes instead of Numpy arrays.\n",
      "  warn(\"Fetchers from the nilearn.datasets module will be \"\n"
     ]
    }
   ],
   "source": [
    "import pandas as pd\n",
    "import numpy as np\n",
    "import os\n",
    "import nltools as nlt\n",
    "import nilearn as nil\n",
    "import nibabel as nib\n",
    "import warnings\n",
    "import glob\n",
    "import random\n",
    "import pickle\n",
    "from operator import itemgetter\n",
    "import dev_wtp_io_utils\n",
    "\n",
    "import re"
   ]
  },
  {
   "cell_type": "code",
   "execution_count": 2,
   "id": "italian-relation",
   "metadata": {},
   "outputs": [
    {
     "name": "stdout",
     "output_type": "stream",
     "text": [
      "loading pkl...\n",
      "pkl loaded.\n",
      "filtered by response.\n",
      "iterating through group\n",
      "0 of 46, 1 of 46, 2 of 46, 3 of 46, 4 of 46, 5 of 46, 6 of 46, 7 of 46, 8 of 46, 9 of 46, 10 of 46, 11 of 46, 12 of 46, 13 of 46, 14 of 46, 15 of 46, 16 of 46, 17 of 46, 18 of 46, 19 of 46, 20 of 46, 21 of 46, 22 of 46, 23 of 46, 24 of 46, 25 of 46, 26 of 46, 27 of 46, 28 of 46, 29 of 46, 30 of 46, 31 of 46, 32 of 46, 33 of 46, 34 of 46, 35 of 46, 36 of 46, 37 of 46, 38 of 46, 39 of 46, 40 of 46, 41 of 46, 42 of 46, 43 of 46, 44 of 46, 45 of 46, concatenating...\n",
      "saving /gpfs/projects/sanlab/bsmith16/data/Brain_Data_ns_3subs_grouped.pkl\n"
     ]
    }
   ],
   "source": [
    "dev_wtp_io_utils.save_grouped_Brain_Data_archive_from_raw('/gpfs/projects/sanlab/bsmith16/data/Brain_Data_ns_3subs.pkl')"
   ]
  },
  {
   "cell_type": "code",
   "execution_count": 3,
   "id": "major-navigator",
   "metadata": {},
   "outputs": [
    {
     "name": "stdout",
     "output_type": "stream",
     "text": [
      "loading pkl...\n",
      "pkl loaded.\n",
      "filtered by response.\n",
      "iterating through group\n",
      "0 of 900, 1 of 900, 2 of 900, 3 of 900, 4 of 900, 5 of 900, 6 of 900, 7 of 900, 8 of 900, 9 of 900, 10 of 900, 11 of 900, 12 of 900, 13 of 900, 14 of 900, 15 of 900, 16 of 900, 17 of 900, 18 of 900, 19 of 900, 20 of 900, 21 of 900, 22 of 900, 23 of 900, 24 of 900, 25 of 900, 26 of 900, 27 of 900, 28 of 900, 29 of 900, 30 of 900, 31 of 900, 32 of 900, 33 of 900, 34 of 900, 35 of 900, 36 of 900, 37 of 900, 38 of 900, 39 of 900, 40 of 900, 41 of 900, 42 of 900, 43 of 900, 44 of 900, 45 of 900, 46 of 900, 47 of 900, 48 of 900, 49 of 900, 50 of 900, 51 of 900, 52 of 900, 53 of 900, 54 of 900, 55 of 900, 56 of 900, 57 of 900, 58 of 900, 59 of 900, 60 of 900, 61 of 900, 62 of 900, 63 of 900, 64 of 900, 65 of 900, 66 of 900, 67 of 900, 68 of 900, 69 of 900, 70 of 900, 71 of 900, 72 of 900, 73 of 900, 74 of 900, 75 of 900, 76 of 900, 77 of 900, 78 of 900, 79 of 900, 80 of 900, 81 of 900, 82 of 900, 83 of 900, 84 of 900, 85 of 900, 86 of 900, 87 of 900, 88 of 900, 89 of 900, 90 of 900, 91 of 900, 92 of 900, 93 of 900, 94 of 900, 95 of 900, 96 of 900, 97 of 900, 98 of 900, 99 of 900, 100 of 900, 101 of 900, 102 of 900, 103 of 900, 104 of 900, 105 of 900, 106 of 900, 107 of 900, 108 of 900, 109 of 900, 110 of 900, 111 of 900, 112 of 900, 113 of 900, 114 of 900, 115 of 900, 116 of 900, 117 of 900, 118 of 900, 119 of 900, 120 of 900, 121 of 900, 122 of 900, 123 of 900, 124 of 900, 125 of 900, 126 of 900, 127 of 900, 128 of 900, 129 of 900, 130 of 900, 131 of 900, 132 of 900, 133 of 900, 134 of 900, 135 of 900, 136 of 900, 137 of 900, 138 of 900, 139 of 900, 140 of 900, 141 of 900, 142 of 900, 143 of 900, 144 of 900, 145 of 900, 146 of 900, 147 of 900, 148 of 900, 149 of 900, 150 of 900, 151 of 900, 152 of 900, 153 of 900, 154 of 900, 155 of 900, 156 of 900, 157 of 900, 158 of 900, 159 of 900, 160 of 900, 161 of 900, 162 of 900, 163 of 900, 164 of 900, 165 of 900, 166 of 900, 167 of 900, 168 of 900, 169 of 900, 170 of 900, 171 of 900, 172 of 900, 173 of 900, 174 of 900, 175 of 900, 176 of 900, 177 of 900, 178 of 900, 179 of 900, 180 of 900, 181 of 900, 182 of 900, 183 of 900, 184 of 900, 185 of 900, 186 of 900, 187 of 900, 188 of 900, 189 of 900, 190 of 900, 191 of 900, 192 of 900, 193 of 900, 194 of 900, 195 of 900, 196 of 900, 197 of 900, 198 of 900, 199 of 900, 200 of 900, 201 of 900, 202 of 900, 203 of 900, 204 of 900, 205 of 900, 206 of 900, 207 of 900, 208 of 900, 209 of 900, 210 of 900, 211 of 900, 212 of 900, 213 of 900, 214 of 900, 215 of 900, 216 of 900, 217 of 900, 218 of 900, 219 of 900, 220 of 900, 221 of 900, 222 of 900, 223 of 900, 224 of 900, 225 of 900, 226 of 900, 227 of 900, 228 of 900, 229 of 900, 230 of 900, 231 of 900, 232 of 900, 233 of 900, 234 of 900, 235 of 900, 236 of 900, 237 of 900, 238 of 900, 239 of 900, 240 of 900, 241 of 900, 242 of 900, 243 of 900, 244 of 900, 245 of 900, 246 of 900, 247 of 900, 248 of 900, 249 of 900, 250 of 900, 251 of 900, 252 of 900, 253 of 900, 254 of 900, 255 of 900, 256 of 900, 257 of 900, 258 of 900, 259 of 900, 260 of 900, 261 of 900, 262 of 900, 263 of 900, 264 of 900, 265 of 900, 266 of 900, 267 of 900, 268 of 900, 269 of 900, 270 of 900, 271 of 900, 272 of 900, 273 of 900, 274 of 900, 275 of 900, 276 of 900, 277 of 900, 278 of 900, 279 of 900, 280 of 900, 281 of 900, 282 of 900, 283 of 900, 284 of 900, 285 of 900, 286 of 900, 287 of 900, 288 of 900, 289 of 900, 290 of 900, 291 of 900, 292 of 900, 293 of 900, 294 of 900, 295 of 900, 296 of 900, 297 of 900, 298 of 900, 299 of 900, 300 of 900, 301 of 900, 302 of 900, 303 of 900, 304 of 900, 305 of 900, 306 of 900, 307 of 900, 308 of 900, 309 of 900, 310 of 900, 311 of 900, 312 of 900, 313 of 900, 314 of 900, 315 of 900, 316 of 900, 317 of 900, 318 of 900, 319 of 900, 320 of 900, 321 of 900, 322 of 900, 323 of 900, 324 of 900, 325 of 900, 326 of 900, 327 of 900, 328 of 900, 329 of 900, 330 of 900, 331 of 900, 332 of 900, 333 of 900, 334 of 900, 335 of 900, 336 of 900, 337 of 900, 338 of 900, 339 of 900, 340 of 900, 341 of 900, 342 of 900, 343 of 900, 344 of 900, 345 of 900, 346 of 900, 347 of 900, 348 of 900, 349 of 900, 350 of 900, 351 of 900, 352 of 900, 353 of 900, 354 of 900, 355 of 900, 356 of 900, 357 of 900, 358 of 900, 359 of 900, 360 of 900, 361 of 900, 362 of 900, 363 of 900, 364 of 900, 365 of 900, 366 of 900, 367 of 900, 368 of 900, 369 of 900, 370 of 900, 371 of 900, 372 of 900, 373 of 900, 374 of 900, 375 of 900, 376 of 900, 377 of 900, 378 of 900, 379 of 900, 380 of 900, 381 of 900, 382 of 900, 383 of 900, 384 of 900, 385 of 900, 386 of 900, 387 of 900, 388 of 900, 389 of 900, 390 of 900, 391 of 900, 392 of 900, 393 of 900, 394 of 900, 395 of 900, 396 of 900, 397 of 900, 398 of 900, 399 of 900, 400 of 900, 401 of 900, 402 of 900, 403 of 900, 404 of 900, 405 of 900, 406 of 900, 407 of 900, 408 of 900, 409 of 900, 410 of 900, 411 of 900, 412 of 900, 413 of 900, 414 of 900, 415 of 900, 416 of 900, 417 of 900, 418 of 900, 419 of 900, 420 of 900, 421 of 900, 422 of 900, 423 of 900, 424 of 900, 425 of 900, 426 of 900, 427 of 900, 428 of 900, 429 of 900, 430 of 900, 431 of 900, 432 of 900, 433 of 900, 434 of 900, 435 of 900, 436 of 900, 437 of 900, 438 of 900, 439 of 900, 440 of 900, 441 of 900, 442 of 900, 443 of 900, 444 of 900, 445 of 900, 446 of 900, 447 of 900, 448 of 900, 449 of 900, 450 of 900, 451 of 900, 452 of 900, 453 of 900, 454 of 900, 455 of 900, 456 of 900, 457 of 900, 458 of 900, 459 of 900, 460 of 900, 461 of 900, 462 of 900, 463 of 900, 464 of 900, 465 of 900, 466 of 900, 467 of 900, 468 of 900, 469 of 900, 470 of 900, 471 of 900, 472 of 900, 473 of 900, 474 of 900, 475 of 900, 476 of 900, 477 of 900, 478 of 900, 479 of 900, 480 of 900, 481 of 900, 482 of 900, 483 of 900, 484 of 900, 485 of 900, 486 of 900, 487 of 900, 488 of 900, 489 of 900, 490 of 900, 491 of 900, 492 of 900, 493 of 900, 494 of 900, 495 of 900, 496 of 900, 497 of 900, 498 of 900, 499 of 900, 500 of 900, 501 of 900, 502 of 900, 503 of 900, 504 of 900, 505 of 900, 506 of 900, 507 of 900, 508 of 900, 509 of 900, 510 of 900, 511 of 900, 512 of 900, 513 of 900, 514 of 900, 515 of 900, 516 of 900, 517 of 900, 518 of 900, 519 of 900, 520 of 900, 521 of 900, 522 of 900, 523 of 900, 524 of 900, 525 of 900, 526 of 900, 527 of 900, 528 of 900, 529 of 900, 530 of 900, 531 of 900, 532 of 900, 533 of 900, 534 of 900, 535 of 900, 536 of 900, 537 of 900, 538 of 900, 539 of 900, 540 of 900, 541 of 900, 542 of 900, 543 of 900, 544 of 900, 545 of 900, 546 of 900, 547 of 900, 548 of 900, 549 of 900, 550 of 900, 551 of 900, 552 of 900, 553 of 900, 554 of 900, 555 of 900, 556 of 900, 557 of 900, 558 of 900, 559 of 900, 560 of 900, 561 of 900, 562 of 900, 563 of 900, 564 of 900, 565 of 900, 566 of 900, 567 of 900, 568 of 900, 569 of 900, 570 of 900, 571 of 900, 572 of 900, 573 of 900, 574 of 900, 575 of 900, 576 of 900, 577 of 900, 578 of 900, 579 of 900, 580 of 900, 581 of 900, 582 of 900, 583 of 900, 584 of 900, 585 of 900, 586 of 900, 587 of 900, 588 of 900, 589 of 900, 590 of 900, 591 of 900, 592 of 900, 593 of 900, 594 of 900, 595 of 900, 596 of 900, 597 of 900, 598 of 900, 599 of 900, 600 of 900, 601 of 900, 602 of 900, 603 of 900, 604 of 900, 605 of 900, 606 of 900, 607 of 900, 608 of 900, 609 of 900, 610 of 900, 611 of 900, 612 of 900, 613 of 900, 614 of 900, 615 of 900, 616 of 900, 617 of 900, 618 of 900, 619 of 900, 620 of 900, 621 of 900, 622 of 900, 623 of 900, 624 of 900, 625 of 900, 626 of 900, 627 of 900, 628 of 900, 629 of 900, 630 of 900, 631 of 900, 632 of 900, 633 of 900, 634 of 900, 635 of 900, 636 of 900, 637 of 900, 638 of 900, 639 of 900, 640 of 900, 641 of 900, 642 of 900, 643 of 900, 644 of 900, 645 of 900, 646 of 900, 647 of 900, 648 of 900, 649 of 900, 650 of 900, 651 of 900, 652 of 900, 653 of 900, 654 of 900, 655 of 900, 656 of 900, 657 of 900, 658 of 900, 659 of 900, 660 of 900, 661 of 900, 662 of 900, 663 of 900, 664 of 900, 665 of 900, 666 of 900, 667 of 900, 668 of 900, 669 of 900, 670 of 900, 671 of 900, 672 of 900, 673 of 900, 674 of 900, 675 of 900, 676 of 900, 677 of 900, 678 of 900, 679 of 900, 680 of 900, 681 of 900, 682 of 900, 683 of 900, 684 of 900, 685 of 900, 686 of 900, 687 of 900, 688 of 900, 689 of 900, 690 of 900, 691 of 900, 692 of 900, 693 of 900, 694 of 900, 695 of 900, 696 of 900, 697 of 900, 698 of 900, 699 of 900, 700 of 900, 701 of 900, 702 of 900, 703 of 900, 704 of 900, 705 of 900, 706 of 900, 707 of 900, 708 of 900, 709 of 900, 710 of 900, 711 of 900, 712 of 900, 713 of 900, 714 of 900, 715 of 900, 716 of 900, 717 of 900, 718 of 900, 719 of 900, 720 of 900, 721 of 900, 722 of 900, 723 of 900, 724 of 900, 725 of 900, 726 of 900, 727 of 900, 728 of 900, 729 of 900, 730 of 900, 731 of 900, 732 of 900, 733 of 900, 734 of 900, 735 of 900, 736 of 900, 737 of 900, 738 of 900, 739 of 900, 740 of 900, 741 of 900, 742 of 900, 743 of 900, 744 of 900, 745 of 900, 746 of 900, 747 of 900, 748 of 900, 749 of 900, 750 of 900, 751 of 900, 752 of 900, 753 of 900, 754 of 900, 755 of 900, 756 of 900, 757 of 900, 758 of 900, 759 of 900, 760 of 900, 761 of 900, 762 of 900, 763 of 900, 764 of 900, 765 of 900, 766 of 900, 767 of 900, 768 of 900, 769 of 900, 770 of 900, 771 of 900, 772 of 900, 773 of 900, 774 of 900, 775 of 900, 776 of 900, 777 of 900, 778 of 900, 779 of 900, 780 of 900, 781 of 900, 782 of 900, 783 of 900, 784 of 900, 785 of 900, 786 of 900, 787 of 900, 788 of 900, 789 of 900, 790 of 900, 791 of 900, 792 of 900, 793 of 900, 794 of 900, 795 of 900, 796 of 900, 797 of 900, 798 of 900, 799 of 900, 800 of 900, 801 of 900, 802 of 900, 803 of 900, 804 of 900, 805 of 900, 806 of 900, 807 of 900, 808 of 900, 809 of 900, 810 of 900, 811 of 900, 812 of 900, 813 of 900, 814 of 900, 815 of 900, 816 of 900, 817 of 900, 818 of 900, 819 of 900, 820 of 900, 821 of 900, 822 of 900, 823 of 900, 824 of 900, 825 of 900, 826 of 900, 827 of 900, 828 of 900, 829 of 900, 830 of 900, 831 of 900, 832 of 900, 833 of 900, 834 of 900, 835 of 900, 836 of 900, 837 of 900, 838 of 900, 839 of 900, 840 of 900, 841 of 900, 842 of 900, 843 of 900, 844 of 900, 845 of 900, 846 of 900, 847 of 900, 848 of 900, 849 of 900, 850 of 900, 851 of 900, 852 of 900, 853 of 900, 854 of 900, 855 of 900, 856 of 900, 857 of 900, 858 of 900, 859 of 900, 860 of 900, 861 of 900, 862 of 900, 863 of 900, 864 of 900, 865 of 900, 866 of 900, 867 of 900, 868 of 900, 869 of 900, 870 of 900, 871 of 900, 872 of 900, 873 of 900, 874 of 900, 875 of 900, 876 of 900, 877 of 900, 878 of 900, 879 of 900, 880 of 900, 881 of 900, 882 of 900, 883 of 900, 884 of 900, 885 of 900, 886 of 900, 887 of 900, 888 of 900, 889 of 900, 890 of 900, 891 of 900, 892 of 900, 893 of 900, 894 of 900, 895 of 900, 896 of 900, 897 of 900, 898 of 900, 899 of 900, concatenating...\n",
      "saving /gpfs/projects/sanlab/bsmith16/data/Brain_Data_ns_6s_60subs_grouped.pkl\n"
     ]
    }
   ],
   "source": [
    "dev_wtp_io_utils.save_grouped_Brain_Data_archive_from_raw('/gpfs/projects/sanlab/bsmith16/data/Brain_Data_ns_6s_60subs.pkl')"
   ]
  },
  {
   "cell_type": "code",
   "execution_count": 4,
   "id": "trying-republican",
   "metadata": {},
   "outputs": [
    {
     "name": "stdout",
     "output_type": "stream",
     "text": [
      "done\n"
     ]
    }
   ],
   "source": [
    "print(\"done\")"
   ]
  },
  {
   "cell_type": "code",
   "execution_count": 5,
   "id": "alpha-washington",
   "metadata": {},
   "outputs": [
    {
     "name": "stdout",
     "output_type": "stream",
     "text": [
      "loading pkl...\n",
      "pkl loaded.\n",
      "filtered by response.\n",
      "iterating through group\n",
      "0 of 900, 1 of 900, 2 of 900, 3 of 900, 4 of 900, 5 of 900, 6 of 900, 7 of 900, 8 of 900, 9 of 900, 10 of 900, 11 of 900, 12 of 900, 13 of 900, 14 of 900, 15 of 900, 16 of 900, 17 of 900, 18 of 900, 19 of 900, 20 of 900, 21 of 900, 22 of 900, 23 of 900, 24 of 900, 25 of 900, 26 of 900, 27 of 900, 28 of 900, 29 of 900, 30 of 900, 31 of 900, 32 of 900, 33 of 900, 34 of 900, 35 of 900, 36 of 900, 37 of 900, 38 of 900, 39 of 900, 40 of 900, 41 of 900, 42 of 900, 43 of 900, 44 of 900, 45 of 900, 46 of 900, 47 of 900, 48 of 900, 49 of 900, 50 of 900, 51 of 900, 52 of 900, 53 of 900, 54 of 900, 55 of 900, 56 of 900, 57 of 900, 58 of 900, 59 of 900, 60 of 900, 61 of 900, 62 of 900, 63 of 900, 64 of 900, 65 of 900, 66 of 900, 67 of 900, 68 of 900, 69 of 900, 70 of 900, 71 of 900, 72 of 900, 73 of 900, 74 of 900, 75 of 900, 76 of 900, 77 of 900, 78 of 900, 79 of 900, 80 of 900, 81 of 900, 82 of 900, 83 of 900, 84 of 900, 85 of 900, 86 of 900, 87 of 900, 88 of 900, 89 of 900, 90 of 900, 91 of 900, 92 of 900, 93 of 900, 94 of 900, 95 of 900, 96 of 900, 97 of 900, 98 of 900, 99 of 900, 100 of 900, 101 of 900, 102 of 900, 103 of 900, 104 of 900, 105 of 900, 106 of 900, 107 of 900, 108 of 900, 109 of 900, 110 of 900, 111 of 900, 112 of 900, 113 of 900, 114 of 900, 115 of 900, 116 of 900, 117 of 900, 118 of 900, 119 of 900, 120 of 900, 121 of 900, 122 of 900, 123 of 900, 124 of 900, 125 of 900, 126 of 900, 127 of 900, 128 of 900, 129 of 900, 130 of 900, 131 of 900, 132 of 900, 133 of 900, 134 of 900, 135 of 900, 136 of 900, 137 of 900, 138 of 900, 139 of 900, 140 of 900, 141 of 900, 142 of 900, 143 of 900, 144 of 900, 145 of 900, 146 of 900, 147 of 900, 148 of 900, 149 of 900, 150 of 900, 151 of 900, 152 of 900, 153 of 900, 154 of 900, 155 of 900, 156 of 900, 157 of 900, 158 of 900, 159 of 900, 160 of 900, 161 of 900, 162 of 900, 163 of 900, 164 of 900, 165 of 900, 166 of 900, 167 of 900, 168 of 900, 169 of 900, 170 of 900, 171 of 900, 172 of 900, 173 of 900, 174 of 900, 175 of 900, 176 of 900, 177 of 900, 178 of 900, 179 of 900, 180 of 900, 181 of 900, 182 of 900, 183 of 900, 184 of 900, 185 of 900, 186 of 900, 187 of 900, 188 of 900, 189 of 900, 190 of 900, 191 of 900, 192 of 900, 193 of 900, 194 of 900, 195 of 900, 196 of 900, 197 of 900, 198 of 900, 199 of 900, 200 of 900, 201 of 900, 202 of 900, 203 of 900, 204 of 900, 205 of 900, 206 of 900, 207 of 900, 208 of 900, 209 of 900, 210 of 900, 211 of 900, 212 of 900, 213 of 900, 214 of 900, 215 of 900, 216 of 900, 217 of 900, 218 of 900, 219 of 900, 220 of 900, 221 of 900, 222 of 900, 223 of 900, 224 of 900, 225 of 900, 226 of 900, 227 of 900, 228 of 900, 229 of 900, 230 of 900, 231 of 900, 232 of 900, 233 of 900, 234 of 900, 235 of 900, 236 of 900, 237 of 900, 238 of 900, 239 of 900, 240 of 900, 241 of 900, 242 of 900, 243 of 900, 244 of 900, 245 of 900, 246 of 900, 247 of 900, 248 of 900, 249 of 900, 250 of 900, 251 of 900, 252 of 900, 253 of 900, 254 of 900, 255 of 900, 256 of 900, 257 of 900, 258 of 900, 259 of 900, 260 of 900, 261 of 900, 262 of 900, 263 of 900, 264 of 900, 265 of 900, 266 of 900, 267 of 900, 268 of 900, 269 of 900, 270 of 900, 271 of 900, 272 of 900, 273 of 900, 274 of 900, 275 of 900, 276 of 900, 277 of 900, 278 of 900, 279 of 900, 280 of 900, 281 of 900, 282 of 900, 283 of 900, 284 of 900, 285 of 900, 286 of 900, 287 of 900, 288 of 900, 289 of 900, 290 of 900, 291 of 900, 292 of 900, 293 of 900, 294 of 900, 295 of 900, 296 of 900, 297 of 900, 298 of 900, 299 of 900, 300 of 900, 301 of 900, 302 of 900, 303 of 900, 304 of 900, 305 of 900, 306 of 900, 307 of 900, 308 of 900, 309 of 900, 310 of 900, 311 of 900, 312 of 900, 313 of 900, 314 of 900, 315 of 900, 316 of 900, 317 of 900, 318 of 900, 319 of 900, 320 of 900, 321 of 900, 322 of 900, 323 of 900, 324 of 900, 325 of 900, 326 of 900, 327 of 900, 328 of 900, 329 of 900, 330 of 900, 331 of 900, 332 of 900, 333 of 900, 334 of 900, 335 of 900, 336 of 900, 337 of 900, 338 of 900, 339 of 900, 340 of 900, 341 of 900, 342 of 900, 343 of 900, 344 of 900, 345 of 900, 346 of 900, 347 of 900, 348 of 900, 349 of 900, 350 of 900, 351 of 900, 352 of 900, 353 of 900, 354 of 900, 355 of 900, 356 of 900, 357 of 900, 358 of 900, 359 of 900, 360 of 900, 361 of 900, 362 of 900, 363 of 900, 364 of 900, 365 of 900, 366 of 900, 367 of 900, 368 of 900, 369 of 900, 370 of 900, 371 of 900, 372 of 900, 373 of 900, 374 of 900, 375 of 900, 376 of 900, 377 of 900, 378 of 900, 379 of 900, 380 of 900, 381 of 900, 382 of 900, 383 of 900, 384 of 900, 385 of 900, 386 of 900, 387 of 900, 388 of 900, 389 of 900, 390 of 900, 391 of 900, 392 of 900, 393 of 900, 394 of 900, 395 of 900, 396 of 900, 397 of 900, 398 of 900, 399 of 900, 400 of 900, 401 of 900, 402 of 900, 403 of 900, 404 of 900, 405 of 900, 406 of 900, 407 of 900, 408 of 900, 409 of 900, 410 of 900, 411 of 900, 412 of 900, 413 of 900, 414 of 900, 415 of 900, 416 of 900, 417 of 900, 418 of 900, 419 of 900, 420 of 900, 421 of 900, 422 of 900, 423 of 900, 424 of 900, 425 of 900, 426 of 900, 427 of 900, 428 of 900, 429 of 900, 430 of 900, 431 of 900, 432 of 900, 433 of 900, 434 of 900, 435 of 900, 436 of 900, 437 of 900, 438 of 900, 439 of 900, 440 of 900, 441 of 900, 442 of 900, 443 of 900, 444 of 900, 445 of 900, 446 of 900, 447 of 900, 448 of 900, 449 of 900, 450 of 900, 451 of 900, 452 of 900, 453 of 900, 454 of 900, 455 of 900, 456 of 900, 457 of 900, 458 of 900, 459 of 900, 460 of 900, 461 of 900, 462 of 900, 463 of 900, 464 of 900, 465 of 900, 466 of 900, 467 of 900, 468 of 900, 469 of 900, 470 of 900, 471 of 900, 472 of 900, 473 of 900, 474 of 900, 475 of 900, 476 of 900, 477 of 900, 478 of 900, 479 of 900, 480 of 900, 481 of 900, 482 of 900, 483 of 900, 484 of 900, 485 of 900, 486 of 900, 487 of 900, 488 of 900, 489 of 900, 490 of 900, 491 of 900, 492 of 900, 493 of 900, 494 of 900, 495 of 900, 496 of 900, 497 of 900, 498 of 900, 499 of 900, 500 of 900, 501 of 900, 502 of 900, 503 of 900, 504 of 900, 505 of 900, 506 of 900, 507 of 900, 508 of 900, 509 of 900, 510 of 900, 511 of 900, 512 of 900, 513 of 900, 514 of 900, 515 of 900, 516 of 900, 517 of 900, 518 of 900, 519 of 900, 520 of 900, 521 of 900, 522 of 900, 523 of 900, 524 of 900, 525 of 900, 526 of 900, 527 of 900, 528 of 900, 529 of 900, 530 of 900, 531 of 900, 532 of 900, 533 of 900, 534 of 900, 535 of 900, 536 of 900, 537 of 900, 538 of 900, 539 of 900, 540 of 900, 541 of 900, 542 of 900, 543 of 900, 544 of 900, 545 of 900, 546 of 900, 547 of 900, 548 of 900, 549 of 900, 550 of 900, 551 of 900, 552 of 900, 553 of 900, 554 of 900, 555 of 900, 556 of 900, 557 of 900, 558 of 900, 559 of 900, 560 of 900, 561 of 900, 562 of 900, 563 of 900, 564 of 900, 565 of 900, 566 of 900, 567 of 900, 568 of 900, 569 of 900, 570 of 900, 571 of 900, 572 of 900, 573 of 900, 574 of 900, 575 of 900, 576 of 900, 577 of 900, 578 of 900, 579 of 900, 580 of 900, 581 of 900, 582 of 900, 583 of 900, 584 of 900, 585 of 900, 586 of 900, 587 of 900, 588 of 900, 589 of 900, 590 of 900, 591 of 900, 592 of 900, 593 of 900, 594 of 900, 595 of 900, 596 of 900, 597 of 900, 598 of 900, 599 of 900, 600 of 900, 601 of 900, 602 of 900, 603 of 900, 604 of 900, 605 of 900, 606 of 900, 607 of 900, 608 of 900, 609 of 900, 610 of 900, 611 of 900, 612 of 900, 613 of 900, 614 of 900, 615 of 900, 616 of 900, 617 of 900, 618 of 900, 619 of 900, 620 of 900, 621 of 900, 622 of 900, 623 of 900, 624 of 900, 625 of 900, 626 of 900, 627 of 900, 628 of 900, 629 of 900, 630 of 900, 631 of 900, 632 of 900, 633 of 900, 634 of 900, 635 of 900, 636 of 900, 637 of 900, 638 of 900, 639 of 900, 640 of 900, 641 of 900, 642 of 900, 643 of 900, 644 of 900, 645 of 900, 646 of 900, 647 of 900, 648 of 900, 649 of 900, 650 of 900, 651 of 900, 652 of 900, 653 of 900, 654 of 900, 655 of 900, 656 of 900, 657 of 900, 658 of 900, 659 of 900, 660 of 900, 661 of 900, 662 of 900, 663 of 900, 664 of 900, 665 of 900, 666 of 900, 667 of 900, 668 of 900, 669 of 900, 670 of 900, 671 of 900, 672 of 900, 673 of 900, 674 of 900, 675 of 900, 676 of 900, 677 of 900, 678 of 900, 679 of 900, 680 of 900, 681 of 900, 682 of 900, 683 of 900, 684 of 900, 685 of 900, 686 of 900, 687 of 900, 688 of 900, 689 of 900, 690 of 900, 691 of 900, 692 of 900, 693 of 900, 694 of 900, 695 of 900, 696 of 900, 697 of 900, 698 of 900, 699 of 900, 700 of 900, 701 of 900, 702 of 900, 703 of 900, 704 of 900, 705 of 900, 706 of 900, 707 of 900, 708 of 900, 709 of 900, 710 of 900, 711 of 900, 712 of 900, 713 of 900, 714 of 900, 715 of 900, 716 of 900, 717 of 900, 718 of 900, 719 of 900, 720 of 900, 721 of 900, 722 of 900, 723 of 900, 724 of 900, 725 of 900, 726 of 900, 727 of 900, 728 of 900, 729 of 900, 730 of 900, 731 of 900, 732 of 900, 733 of 900, 734 of 900, 735 of 900, 736 of 900, 737 of 900, 738 of 900, 739 of 900, 740 of 900, 741 of 900, 742 of 900, 743 of 900, 744 of 900, 745 of 900, 746 of 900, 747 of 900, 748 of 900, 749 of 900, 750 of 900, 751 of 900, 752 of 900, 753 of 900, 754 of 900, 755 of 900, 756 of 900, 757 of 900, 758 of 900, 759 of 900, 760 of 900, 761 of 900, 762 of 900, 763 of 900, 764 of 900, 765 of 900, 766 of 900, 767 of 900, 768 of 900, 769 of 900, 770 of 900, 771 of 900, 772 of 900, 773 of 900, 774 of 900, 775 of 900, 776 of 900, 777 of 900, 778 of 900, 779 of 900, 780 of 900, 781 of 900, 782 of 900, 783 of 900, 784 of 900, 785 of 900, 786 of 900, 787 of 900, 788 of 900, 789 of 900, 790 of 900, 791 of 900, 792 of 900, 793 of 900, 794 of 900, 795 of 900, 796 of 900, 797 of 900, 798 of 900, 799 of 900, 800 of 900, 801 of 900, 802 of 900, 803 of 900, 804 of 900, 805 of 900, 806 of 900, 807 of 900, 808 of 900, 809 of 900, 810 of 900, 811 of 900, 812 of 900, 813 of 900, 814 of 900, 815 of 900, 816 of 900, 817 of 900, 818 of 900, 819 of 900, 820 of 900, 821 of 900, 822 of 900, 823 of 900, 824 of 900, 825 of 900, 826 of 900, 827 of 900, 828 of 900, 829 of 900, 830 of 900, 831 of 900, 832 of 900, 833 of 900, 834 of 900, 835 of 900, 836 of 900, 837 of 900, 838 of 900, 839 of 900, 840 of 900, 841 of 900, 842 of 900, 843 of 900, 844 of 900, 845 of 900, 846 of 900, 847 of 900, 848 of 900, 849 of 900, 850 of 900, 851 of 900, 852 of 900, 853 of 900, 854 of 900, 855 of 900, 856 of 900, 857 of 900, 858 of 900, 859 of 900, 860 of 900, 861 of 900, 862 of 900, 863 of 900, 864 of 900, 865 of 900, 866 of 900, 867 of 900, 868 of 900, 869 of 900, 870 of 900, 871 of 900, 872 of 900, 873 of 900, 874 of 900, 875 of 900, 876 of 900, 877 of 900, 878 of 900, 879 of 900, 880 of 900, 881 of 900, 882 of 900, 883 of 900, 884 of 900, 885 of 900, 886 of 900, 887 of 900, 888 of 900, 889 of 900, 890 of 900, 891 of 900, 892 of 900, 893 of 900, 894 of 900, 895 of 900, 896 of 900, 897 of 900, 898 of 900, 899 of 900, concatenating...\n",
      "saving /gpfs/projects/sanlab/bsmith16/data/Brain_Data_ns_w_hrf_60subs_grouped.pkl\n"
     ]
    }
   ],
   "source": [
    "dev_wtp_io_utils.save_grouped_Brain_Data_archive_from_raw('/gpfs/projects/sanlab/bsmith16/data/Brain_Data_ns_w_hrf_60subs.pkl')"
   ]
  },
  {
   "cell_type": "code",
   "execution_count": null,
   "id": "comic-brown",
   "metadata": {},
   "outputs": [],
   "source": [
    "\n",
    "dev_wtp_io_utils.save_grouped_Brain_Data_archive_from_raw('/gpfs/projects/sanlab/bsmith16/data/Brain_Data_ns_w_hrf_60subs.pkl')\n",
    "dev_wtp_io_utils.save_grouped_Brain_Data_archive_from_raw('/gpfs/projects/sanlab/bsmith16/data/Brain_Data_ns_w_hrf_60subs.pkl')\n",
    "dev_wtp_io_utils.save_grouped_Brain_Data_archive_from_raw('/gpfs/projects/sanlab/bsmith16/data/Brain_Data_ns_w_hrf_60subs.pkl')"
   ]
  }
 ],
 "metadata": {
  "kernelspec": {
   "display_name": "Python [conda env:.conda-neuralsignature]",
   "language": "python",
   "name": "conda-env-.conda-neuralsignature-py"
  },
  "language_info": {
   "codemirror_mode": {
    "name": "ipython",
    "version": 3
   },
   "file_extension": ".py",
   "mimetype": "text/x-python",
   "name": "python",
   "nbconvert_exporter": "python",
   "pygments_lexer": "ipython3",
   "version": "3.8.5"
  }
 },
 "nbformat": 4,
 "nbformat_minor": 5
}
