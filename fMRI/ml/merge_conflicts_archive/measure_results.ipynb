{
 "cells": [
  {
   "cell_type": "markdown",
<<<<<<< HEAD
   "id": "educated-salon",
=======
   "id": "electronic-exception",
>>>>>>> f1fd970dfb9ec5fcfe7b2c2668526e789a921626
   "metadata": {},
   "source": [
    "# Full analysis with nested CV"
   ]
  },
  {
   "cell_type": "code",
<<<<<<< HEAD
   "execution_count": 49,
   "id": "varying-combine",
=======
   "execution_count": 18,
   "id": "institutional-disco",
>>>>>>> f1fd970dfb9ec5fcfe7b2c2668526e789a921626
   "metadata": {},
   "outputs": [],
   "source": [
    "import pickle\n",
    "import numpy as np\n",
    "import pandas as pd"
   ]
  },
  {
   "cell_type": "code",
<<<<<<< HEAD
   "execution_count": 50,
   "id": "equipped-chapel",
=======
   "execution_count": 19,
   "id": "beneficial-mapping",
>>>>>>> f1fd970dfb9ec5fcfe7b2c2668526e789a921626
   "metadata": {},
   "outputs": [],
   "source": [
    "from sklearn.metrics import r2_score\n",
    "from scipy.stats import pearsonr, spearmanr\n",
    "import math"
   ]
  },
  {
   "cell_type": "code",
<<<<<<< HEAD
   "execution_count": 51,
   "id": "british-circumstances",
=======
   "execution_count": 20,
   "id": "comparable-dryer",
>>>>>>> f1fd970dfb9ec5fcfe7b2c2668526e789a921626
   "metadata": {},
   "outputs": [],
   "source": [
    "import seaborn as sns\n",
    "import matplotlib.pyplot as plt"
   ]
  },
  {
   "cell_type": "code",
<<<<<<< HEAD
   "execution_count": 52,
   "id": "superb-defense",
=======
   "execution_count": 21,
   "id": "negative-engineering",
>>>>>>> f1fd970dfb9ec5fcfe7b2c2668526e789a921626
   "metadata": {},
   "outputs": [],
   "source": [
    "import nibabel as nib"
   ]
  },
  {
   "cell_type": "code",
<<<<<<< HEAD
   "execution_count": 53,
   "id": "textile-laundry",
=======
   "execution_count": 22,
   "id": "norwegian-supervision",
>>>>>>> f1fd970dfb9ec5fcfe7b2c2668526e789a921626
   "metadata": {},
   "outputs": [],
   "source": [
    "from nilearn import plotting\n"
   ]
  },
  {
   "cell_type": "code",
<<<<<<< HEAD
   "execution_count": 54,
   "id": "offshore-change",
=======
   "execution_count": 23,
   "id": "composite-fountain",
>>>>>>> f1fd970dfb9ec5fcfe7b2c2668526e789a921626
   "metadata": {},
   "outputs": [],
   "source": [
    "data_path = '/gpfs/projects/sanlab/bsmith16/data/'"
   ]
  },
  {
   "cell_type": "markdown",
<<<<<<< HEAD
   "id": "asian-mount",
=======
   "id": "human-aquarium",
>>>>>>> f1fd970dfb9ec5fcfe7b2c2668526e789a921626
   "metadata": {},
   "source": [
    "## Setup"
   ]
  },
  {
   "cell_type": "code",
<<<<<<< HEAD
   "execution_count": 55,
   "id": "cognitive-transportation",
=======
   "execution_count": 24,
   "id": "minus-degree",
>>>>>>> f1fd970dfb9ec5fcfe7b2c2668526e789a921626
   "metadata": {},
   "outputs": [],
   "source": [
    "metadata = pickle.load(open(data_path + \"first_subs_nifti_metadata.pkl\",'rb'))"
   ]
  },
  {
   "cell_type": "code",
<<<<<<< HEAD
   "execution_count": 56,
   "id": "vulnerable-corruption",
=======
   "execution_count": 25,
   "id": "atlantic-twelve",
>>>>>>> f1fd970dfb9ec5fcfe7b2c2668526e789a921626
   "metadata": {},
   "outputs": [],
   "source": [
    "from measure_results import *"
   ]
  },
  {
   "cell_type": "code",
<<<<<<< HEAD
   "execution_count": 57,
   "id": "north-directory",
=======
   "execution_count": 26,
   "id": "comparable-magnitude",
>>>>>>> f1fd970dfb9ec5fcfe7b2c2668526e789a921626
   "metadata": {},
   "outputs": [],
   "source": [
    "def within_group_performance(results,cor_func,\n",
    "                             group_col_name='result_group',\n",
    "                             obs_col_name='y',\n",
    "                             pred_col_name='y_pred'\n",
    "                             \n",
    "                            ):\n",
    "    results[obs_col_name] = results[obs_col_name].astype(float)\n",
    "    results[pred_col_name] = results[pred_col_name].astype(float)\n",
    "    within_subj_predictions = []\n",
    "    #print(results[group_col_name].unique())\n",
    "    for group in results[group_col_name].unique():\n",
    "        group_results = results.loc[results[group_col_name]==group,].copy()\n",
    "\n",
    "        #get means and SDs\n",
    "        obs_mean = np.mean(group_results[obs_col_name])\n",
    "        pred_mean = np.mean(group_results[pred_col_name])\n",
    "        obs_sd = np.std(group_results[obs_col_name])\n",
    "        pred_sd = np.std(group_results[pred_col_name])\n",
    "\n",
    "        #mean center\n",
    "        group_results[obs_col_name] = (group_results[obs_col_name] - obs_mean)\n",
    "        group_results[pred_col_name] = (group_results[pred_col_name] - pred_mean)\n",
    "        \n",
    "        if(group_results.shape[0]==0):\n",
    "            print(group_results.shape)\n",
    "            print(group)\n",
    "\n",
    "        within_subj_prediction = pearsonr(group_results[obs_col_name],group_results[pred_col_name])[0]\n",
    "        #print(within_subj_prediction)\n",
    "        #print(math.pow(pearsonr(group_results[obs_col_name],group_results['y_pred'])[0],2))\n",
    "\n",
    "\n",
    "        #what if we we re-ranked the predicted values into groups along the \n",
    "        if (within_subj_prediction< (-0.5)):\n",
    "\n",
    "            sp = sns.scatterplot(group_results[obs_col_name],group_results[pred_col_name])\n",
    "            plt.show()\n",
    "            display(pd.DataFrame(group_results.groupby(obs_col_name).y_pred.mean()))\n",
    "            #display(group_results)\n",
    "        within_subj_predictions = within_subj_predictions + [within_subj_prediction]\n",
    "    return(within_subj_predictions)"
   ]
  },
  {
   "cell_type": "markdown",
<<<<<<< HEAD
   "id": "european-genius",
=======
   "id": "specified-radio",
>>>>>>> f1fd970dfb9ec5fcfe7b2c2668526e789a921626
   "metadata": {},
   "source": [
    "## ns_w_hrf_from_spm_40subs"
   ]
  },
  {
   "cell_type": "code",
<<<<<<< HEAD
   "execution_count": 58,
   "id": "aggregate-wrong",
=======
   "execution_count": 27,
   "id": "approved-hacker",
>>>>>>> f1fd970dfb9ec5fcfe7b2c2668526e789a921626
   "metadata": {},
   "outputs": [],
   "source": [
    "loocv_results = pickle.load(open(data_path + \"train_test_results_ns_w_hrf_from_spm_40subs.pkl\",'rb'))\n",
    "test_scores_same=loocv_results[0]\n",
    "tt_results=loocv_results[1]\n",
    "results_by_trainset_item=loocv_results[2]"
   ]
  },
  {
   "cell_type": "code",
<<<<<<< HEAD
   "execution_count": 59,
   "id": "isolated-narrow",
=======
   "execution_count": 28,
   "id": "assumed-diesel",
>>>>>>> f1fd970dfb9ec5fcfe7b2c2668526e789a921626
   "metadata": {},
   "outputs": [
    {
     "data": {
      "text/html": [
       "<div>\n",
       "<style scoped>\n",
       "    .dataframe tbody tr th:only-of-type {\n",
       "        vertical-align: middle;\n",
       "    }\n",
       "\n",
       "    .dataframe tbody tr th {\n",
       "        vertical-align: top;\n",
       "    }\n",
       "\n",
       "    .dataframe thead th {\n",
       "        text-align: right;\n",
       "    }\n",
       "</style>\n",
       "<table border=\"1\" class=\"dataframe\">\n",
       "  <thead>\n",
       "    <tr style=\"text-align: right;\">\n",
       "      <th></th>\n",
       "      <th>y</th>\n",
       "      <th>group</th>\n",
       "      <th>y_pred</th>\n",
       "    </tr>\n",
       "  </thead>\n",
       "  <tbody>\n",
       "    <tr>\n",
       "      <th>0</th>\n",
<<<<<<< HEAD
       "      <td>1.175024</td>\n",
       "      <td>DEV001</td>\n",
       "      <td>1.29817</td>\n",
       "    </tr>\n",
       "    <tr>\n",
       "      <th>1</th>\n",
       "      <td>0.130558</td>\n",
       "      <td>DEV001</td>\n",
       "      <td>-0.34738</td>\n",
       "    </tr>\n",
       "    <tr>\n",
       "      <th>2</th>\n",
       "      <td>0.130558</td>\n",
       "      <td>DEV001</td>\n",
       "      <td>-1.04094</td>\n",
       "    </tr>\n",
       "    <tr>\n",
       "      <th>3</th>\n",
       "      <td>-0.913908</td>\n",
       "      <td>DEV001</td>\n",
       "      <td>-0.92561</td>\n",
       "    </tr>\n",
       "    <tr>\n",
       "      <th>4</th>\n",
       "      <td>1.175024</td>\n",
       "      <td>DEV001</td>\n",
       "      <td>1.46262</td>\n",
=======
       "      <td>7.0</td>\n",
       "      <td>DEV001</td>\n",
       "      <td>7.46465</td>\n",
       "    </tr>\n",
       "    <tr>\n",
       "      <th>1</th>\n",
       "      <td>6.0</td>\n",
       "      <td>DEV001</td>\n",
       "      <td>5.41228</td>\n",
       "    </tr>\n",
       "    <tr>\n",
       "      <th>2</th>\n",
       "      <td>6.0</td>\n",
       "      <td>DEV001</td>\n",
       "      <td>5.92956</td>\n",
       "    </tr>\n",
       "    <tr>\n",
       "      <th>3</th>\n",
       "      <td>5.0</td>\n",
       "      <td>DEV001</td>\n",
       "      <td>5.26228</td>\n",
       "    </tr>\n",
       "    <tr>\n",
       "      <th>4</th>\n",
       "      <td>7.0</td>\n",
       "      <td>DEV001</td>\n",
       "      <td>7.23188</td>\n",
>>>>>>> f1fd970dfb9ec5fcfe7b2c2668526e789a921626
       "    </tr>\n",
       "    <tr>\n",
       "      <th>...</th>\n",
       "      <td>...</td>\n",
       "      <td>...</td>\n",
       "      <td>...</td>\n",
       "    </tr>\n",
       "    <tr>\n",
       "      <th>2457</th>\n",
<<<<<<< HEAD
       "      <td>-1.137926</td>\n",
       "      <td>DEV056</td>\n",
       "      <td>0.294635</td>\n",
       "    </tr>\n",
       "    <tr>\n",
       "      <th>2458</th>\n",
       "      <td>0.445275</td>\n",
       "      <td>DEV056</td>\n",
       "      <td>0.809732</td>\n",
       "    </tr>\n",
       "    <tr>\n",
       "      <th>2459</th>\n",
       "      <td>-0.346325</td>\n",
       "      <td>DEV056</td>\n",
       "      <td>-0.292278</td>\n",
       "    </tr>\n",
       "    <tr>\n",
       "      <th>2460</th>\n",
       "      <td>1.236876</td>\n",
       "      <td>DEV056</td>\n",
       "      <td>0.672674</td>\n",
       "    </tr>\n",
       "    <tr>\n",
       "      <th>2461</th>\n",
       "      <td>0.445275</td>\n",
       "      <td>DEV056</td>\n",
       "      <td>0.788911</td>\n",
=======
       "      <td>5.0</td>\n",
       "      <td>DEV056</td>\n",
       "      <td>6.64668</td>\n",
       "    </tr>\n",
       "    <tr>\n",
       "      <th>2458</th>\n",
       "      <td>7.0</td>\n",
       "      <td>DEV056</td>\n",
       "      <td>7.06105</td>\n",
       "    </tr>\n",
       "    <tr>\n",
       "      <th>2459</th>\n",
       "      <td>6.0</td>\n",
       "      <td>DEV056</td>\n",
       "      <td>5.78202</td>\n",
       "    </tr>\n",
       "    <tr>\n",
       "      <th>2460</th>\n",
       "      <td>8.0</td>\n",
       "      <td>DEV056</td>\n",
       "      <td>7.3732</td>\n",
       "    </tr>\n",
       "    <tr>\n",
       "      <th>2461</th>\n",
       "      <td>7.0</td>\n",
       "      <td>DEV056</td>\n",
       "      <td>6.58513</td>\n",
>>>>>>> f1fd970dfb9ec5fcfe7b2c2668526e789a921626
       "    </tr>\n",
       "  </tbody>\n",
       "</table>\n",
       "<p>2462 rows × 3 columns</p>\n",
       "</div>"
      ],
      "text/plain": [
<<<<<<< HEAD
       "             y   group    y_pred\n",
       "0     1.175024  DEV001   1.29817\n",
       "1     0.130558  DEV001  -0.34738\n",
       "2     0.130558  DEV001  -1.04094\n",
       "3    -0.913908  DEV001  -0.92561\n",
       "4     1.175024  DEV001   1.46262\n",
       "...        ...     ...       ...\n",
       "2457 -1.137926  DEV056  0.294635\n",
       "2458  0.445275  DEV056  0.809732\n",
       "2459 -0.346325  DEV056 -0.292278\n",
       "2460  1.236876  DEV056  0.672674\n",
       "2461  0.445275  DEV056  0.788911\n",
=======
       "        y   group   y_pred\n",
       "0     7.0  DEV001  7.46465\n",
       "1     6.0  DEV001  5.41228\n",
       "2     6.0  DEV001  5.92956\n",
       "3     5.0  DEV001  5.26228\n",
       "4     7.0  DEV001  7.23188\n",
       "...   ...     ...      ...\n",
       "2457  5.0  DEV056  6.64668\n",
       "2458  7.0  DEV056  7.06105\n",
       "2459  6.0  DEV056  5.78202\n",
       "2460  8.0  DEV056   7.3732\n",
       "2461  7.0  DEV056  6.58513\n",
>>>>>>> f1fd970dfb9ec5fcfe7b2c2668526e789a921626
       "\n",
       "[2462 rows x 3 columns]"
      ]
     },
<<<<<<< HEAD
     "execution_count": 59,
=======
     "execution_count": 28,
>>>>>>> f1fd970dfb9ec5fcfe7b2c2668526e789a921626
     "metadata": {},
     "output_type": "execute_result"
    }
   ],
   "source": [
    "results_by_trainset_item"
   ]
  },
  {
   "cell_type": "code",
<<<<<<< HEAD
   "execution_count": 60,
   "id": "promotional-fetish",
=======
   "execution_count": 29,
   "id": "boolean-story",
>>>>>>> f1fd970dfb9ec5fcfe7b2c2668526e789a921626
   "metadata": {},
   "outputs": [],
   "source": [
    "results = pd.concat([metadata,results_by_trainset_item],axis=1)\n",
    "results['result_group'] = results.group + \"_\" + results.run\n",
    "#trim subjects where we don't have data. this will be 20 because there's 20 subjects in the metadata but only 40 being processed.\n",
    "results = results.loc[pd.isnull(results.result_group)==False,]"
   ]
  },
  {
   "cell_type": "code",
<<<<<<< HEAD
   "execution_count": 61,
   "id": "weird-coverage",
=======
   "execution_count": 30,
   "id": "revolutionary-puppy",
>>>>>>> f1fd970dfb9ec5fcfe7b2c2668526e789a921626
   "metadata": {},
   "outputs": [
    {
     "name": "stdout",
     "output_type": "stream",
     "text": [
      "Pearson's R^2 within subject and run:\n",
<<<<<<< HEAD
      "0.22183296657547655\n",
      "Pearson's R^2 within subject only:\n",
      "0.2026010481842681\n",
      "Pearson's R^2 across subjects:\n",
      "0.21052005832956106\n"
     ]
    }
   ],
   "source": [
    "\n",
    "within_group_predictions = within_group_performance(\n",
    "    results,pearsonr_cor_func,'result_group',obs_col_name='y',pred_col_name='y_pred') \n",
    "r2_score_within_subj = math.pow(np.mean(within_group_predictions),2)\n",
    "print(\"Pearson's R^2 within subject and run:\")\n",
    "print(r2_score_within_subj)\n",
    "\n",
    "within_subj_predictions = within_group_performance(results,pearsonr_cor_func,'subject',obs_col_name='y',pred_col_name='y_pred') \n",
    "r2_score_within_subj_run = math.pow(np.mean(within_subj_predictions),2)\n",
    "print(\"Pearson's R^2 within subject only:\")\n",
    "print(r2_score_within_subj_run)\n",
    "\n",
    "\n",
    "\n",
    "print(\"Pearson's R^2 across subjects:\")\n",
    "print(math.pow(pearsonr(results['y'],results['y_pred'])[0],2))"
   ]
  },
  {
   "cell_type": "code",
   "execution_count": 62,
   "id": "practical-validation",
   "metadata": {},
   "outputs": [
    {
     "name": "stdout",
     "output_type": "stream",
     "text": [
      "Spearman's rho within subject and run:\n",
      "0.47099147187128193\n",
      "Spearman's rho within subject only:\n",
      "0.4501122617572955\n",
      "Spearman's rho across subjects:\n",
      "0.46351971707530976\n"
     ]
    }
   ],
   "source": [
    "within_group_predictions_sp = within_group_performance(\n",
    "    results,spearmanr_cor_func,'result_group',obs_col_name='y',pred_col_name='y_pred') \n",
    "rho_score_within_subj = np.mean(within_group_predictions_sp)\n",
    "print(\"Spearman's rho within subject and run:\")\n",
    "print(rho_score_within_subj)\n",
    "\n",
    "within_subj_predictions_sp = within_group_performance(results,spearmanr_cor_func,'subject',obs_col_name='y',pred_col_name='y_pred') \n",
    "rho_score_within_subj_run = np.mean(within_subj_predictions_sp)\n",
    "print(\"Spearman's rho within subject only:\")\n",
    "print(rho_score_within_subj_run)\n",
    "\n",
    "\n",
    "\n",
    "print(\"Spearman's rho across subjects:\")\n",
    "print(spearmanr(results['y'],results['y_pred'])[0])"
   ]
  },
  {
   "cell_type": "markdown",
   "id": "accomplished-baseline",
   "metadata": {},
   "source": [
    "#### PFC mask"
   ]
  },
  {
   "cell_type": "code",
   "execution_count": 63,
   "id": "divine-beach",
   "metadata": {},
   "outputs": [
    {
     "ename": "FileNotFoundError",
     "evalue": "[Errno 2] No such file or directory: '/gpfs/projects/sanlab/bsmith16/data/.pkl'",
     "output_type": "error",
     "traceback": [
      "\u001b[0;31m---------------------------------------------------------------------------\u001b[0m",
      "\u001b[0;31mFileNotFoundError\u001b[0m                         Traceback (most recent call last)",
      "\u001b[0;32m<ipython-input-63-5aafc6292f6d>\u001b[0m in \u001b[0;36m<module>\u001b[0;34m\u001b[0m\n\u001b[0;32m----> 1\u001b[0;31m \u001b[0mloocv_results\u001b[0m \u001b[0;34m=\u001b[0m \u001b[0mpickle\u001b[0m\u001b[0;34m.\u001b[0m\u001b[0mload\u001b[0m\u001b[0;34m(\u001b[0m\u001b[0mopen\u001b[0m\u001b[0;34m(\u001b[0m\u001b[0mdata_path\u001b[0m \u001b[0;34m+\u001b[0m \u001b[0;34m\".pkl\"\u001b[0m\u001b[0;34m,\u001b[0m\u001b[0;34m'rb'\u001b[0m\u001b[0;34m)\u001b[0m\u001b[0;34m)\u001b[0m\u001b[0;34m\u001b[0m\u001b[0;34m\u001b[0m\u001b[0m\n\u001b[0m\u001b[1;32m      2\u001b[0m \u001b[0mtest_scores_same\u001b[0m\u001b[0;34m=\u001b[0m\u001b[0mloocv_results\u001b[0m\u001b[0;34m[\u001b[0m\u001b[0;36m0\u001b[0m\u001b[0;34m]\u001b[0m\u001b[0;34m\u001b[0m\u001b[0;34m\u001b[0m\u001b[0m\n\u001b[1;32m      3\u001b[0m \u001b[0mtt_results\u001b[0m\u001b[0;34m=\u001b[0m\u001b[0mloocv_results\u001b[0m\u001b[0;34m[\u001b[0m\u001b[0;36m1\u001b[0m\u001b[0;34m]\u001b[0m\u001b[0;34m\u001b[0m\u001b[0;34m\u001b[0m\u001b[0m\n\u001b[1;32m      4\u001b[0m \u001b[0mresults_by_trainset_item\u001b[0m\u001b[0;34m=\u001b[0m\u001b[0mloocv_results\u001b[0m\u001b[0;34m[\u001b[0m\u001b[0;36m2\u001b[0m\u001b[0;34m]\u001b[0m\u001b[0;34m\u001b[0m\u001b[0;34m\u001b[0m\u001b[0m\n\u001b[1;32m      5\u001b[0m \u001b[0;34m\u001b[0m\u001b[0m\n",
      "\u001b[0;31mFileNotFoundError\u001b[0m: [Errno 2] No such file or directory: '/gpfs/projects/sanlab/bsmith16/data/.pkl'"
=======
      "0.2547561984707979\n",
      "Pearson's R^2 within subject only:\n",
      "0.2474323602984913\n",
      "Pearson's R^2 across subjects:\n",
      "0.22326323278626192\n"
>>>>>>> f1fd970dfb9ec5fcfe7b2c2668526e789a921626
     ]
    }
   ],
   "source": [
<<<<<<< HEAD
    "loocv_results = pickle.load(open(data_path + \".pkl\",'rb'))\n",
    "test_scores_same=loocv_results[0]\n",
    "tt_results=loocv_results[1]\n",
    "results_by_trainset_item=loocv_results[2]\n",
    "\n",
    "results = pd.concat([metadata,results_by_trainset_item],axis=1)\n",
    "results['result_group'] = results.group + \"_\" + results.run\n",
    "#trim subjects where we don't have data. this will be 20 because there's 20 subjects in the metadata but only 40 being processed.\n",
    "results = results.loc[pd.isnull(results.result_group)==False,]"
   ]
  },
  {
   "cell_type": "code",
   "execution_count": null,
   "id": "catholic-calendar",
   "metadata": {},
   "outputs": [],
   "source": [
=======
>>>>>>> f1fd970dfb9ec5fcfe7b2c2668526e789a921626
    "\n",
    "within_group_predictions = within_group_performance(\n",
    "    results,pearsonr_cor_func,'result_group',obs_col_name='y',pred_col_name='y_pred') \n",
    "r2_score_within_subj = math.pow(np.mean(within_group_predictions),2)\n",
    "print(\"Pearson's R^2 within subject and run:\")\n",
    "print(r2_score_within_subj)\n",
    "\n",
    "within_subj_predictions = within_group_performance(results,pearsonr_cor_func,'subject',obs_col_name='y',pred_col_name='y_pred') \n",
    "r2_score_within_subj_run = math.pow(np.mean(within_subj_predictions),2)\n",
    "print(\"Pearson's R^2 within subject only:\")\n",
    "print(r2_score_within_subj_run)\n",
    "\n",
    "\n",
    "\n",
    "print(\"Pearson's R^2 across subjects:\")\n",
    "print(math.pow(pearsonr(results['y'],results['y_pred'])[0],2))"
   ]
  },
  {
   "cell_type": "code",
<<<<<<< HEAD
   "execution_count": 64,
   "id": "daily-hayes",
=======
   "execution_count": 31,
   "id": "failing-permission",
>>>>>>> f1fd970dfb9ec5fcfe7b2c2668526e789a921626
   "metadata": {},
   "outputs": [
    {
     "name": "stdout",
     "output_type": "stream",
     "text": [
      "Spearman's rho within subject and run:\n",
<<<<<<< HEAD
      "0.47099147187128193\n",
      "Spearman's rho within subject only:\n",
      "0.4501122617572955\n",
      "Spearman's rho across subjects:\n",
      "0.46351971707530976\n"
=======
      "0.504733789705819\n",
      "Spearman's rho within subject only:\n",
      "0.497425733450222\n",
      "Spearman's rho across subjects:\n",
      "0.4801862447703641\n"
>>>>>>> f1fd970dfb9ec5fcfe7b2c2668526e789a921626
     ]
    }
   ],
   "source": [
    "within_group_predictions_sp = within_group_performance(\n",
    "    results,spearmanr_cor_func,'result_group',obs_col_name='y',pred_col_name='y_pred') \n",
    "rho_score_within_subj = np.mean(within_group_predictions_sp)\n",
    "print(\"Spearman's rho within subject and run:\")\n",
    "print(rho_score_within_subj)\n",
    "\n",
    "within_subj_predictions_sp = within_group_performance(results,spearmanr_cor_func,'subject',obs_col_name='y',pred_col_name='y_pred') \n",
    "rho_score_within_subj_run = np.mean(within_subj_predictions_sp)\n",
    "print(\"Spearman's rho within subject only:\")\n",
    "print(rho_score_within_subj_run)\n",
    "\n",
    "\n",
    "\n",
    "print(\"Spearman's rho across subjects:\")\n",
    "print(spearmanr(results['y'],results['y_pred'])[0])"
   ]
  },
  {
   "cell_type": "markdown",
<<<<<<< HEAD
   "id": "described-rehabilitation",
=======
   "id": "dominican-tumor",
>>>>>>> f1fd970dfb9ec5fcfe7b2c2668526e789a921626
   "metadata": {},
   "source": [
    "## ns_6s_no_hrf_from_spm_40subs"
   ]
  },
  {
   "cell_type": "code",
<<<<<<< HEAD
   "execution_count": 45,
   "id": "pregnant-russia",
=======
   "execution_count": 32,
   "id": "continent-springer",
>>>>>>> f1fd970dfb9ec5fcfe7b2c2668526e789a921626
   "metadata": {},
   "outputs": [],
   "source": [
    "loocv_results = pickle.load(open(data_path + \"train_test_results_ns_6s_no_hrf_from_spm_40subs.pkl\",'rb'))\n",
    "test_scores_same=loocv_results[0]\n",
    "tt_results=loocv_results[1]\n",
    "results_by_trainset_item=loocv_results[2]"
   ]
  },
  {
   "cell_type": "code",
<<<<<<< HEAD
   "execution_count": 40,
   "id": "loving-affair",
=======
   "execution_count": 33,
   "id": "acute-center",
>>>>>>> f1fd970dfb9ec5fcfe7b2c2668526e789a921626
   "metadata": {},
   "outputs": [],
   "source": [
    "results = pd.concat([metadata,results_by_trainset_item],axis=1)\n",
    "results['result_group'] = results.group + \"_\" + results.run\n",
    "#trim subjects where we don't have data. this will be 20 because there's 20 subjects in the metadata but only 40 being processed.\n",
    "results = results.loc[pd.isnull(results.result_group)==False,]"
   ]
  },
  {
   "cell_type": "code",
<<<<<<< HEAD
   "execution_count": 35,
   "id": "democratic-bolivia",
=======
   "execution_count": 34,
   "id": "suspended-cartoon",
>>>>>>> f1fd970dfb9ec5fcfe7b2c2668526e789a921626
   "metadata": {},
   "outputs": [
    {
     "name": "stderr",
     "output_type": "stream",
     "text": [
      "/home/bsmith16/.conda/envs/neuralsignature/lib/python3.8/site-packages/seaborn/_decorators.py:36: FutureWarning: Pass the following variables as keyword args: x, y. From version 0.12, the only valid positional argument will be `data`, and passing other arguments without an explicit keyword will result in an error or misinterpretation.\n",
      "  warnings.warn(\n"
     ]
    },
    {
     "data": {
      "image/png": "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\n",
      "text/plain": [
       "<Figure size 432x288 with 1 Axes>"
      ]
     },
     "metadata": {
      "needs_background": "light"
     },
     "output_type": "display_data"
    },
    {
     "data": {
      "text/html": [
       "<div>\n",
       "<style scoped>\n",
       "    .dataframe tbody tr th:only-of-type {\n",
       "        vertical-align: middle;\n",
       "    }\n",
       "\n",
       "    .dataframe tbody tr th {\n",
       "        vertical-align: top;\n",
       "    }\n",
       "\n",
       "    .dataframe thead th {\n",
       "        text-align: right;\n",
       "    }\n",
       "</style>\n",
       "<table border=\"1\" class=\"dataframe\">\n",
       "  <thead>\n",
       "    <tr style=\"text-align: right;\">\n",
       "      <th></th>\n",
       "      <th>y_pred</th>\n",
       "    </tr>\n",
       "    <tr>\n",
       "      <th>y</th>\n",
       "      <th></th>\n",
       "    </tr>\n",
       "  </thead>\n",
       "  <tbody>\n",
       "    <tr>\n",
       "      <th>-1.642857</th>\n",
       "      <td>0.653976</td>\n",
       "    </tr>\n",
       "    <tr>\n",
       "      <th>-0.642857</th>\n",
       "      <td>0.343554</td>\n",
       "    </tr>\n",
       "    <tr>\n",
       "      <th>0.357143</th>\n",
       "      <td>-0.366721</td>\n",
       "    </tr>\n",
       "    <tr>\n",
       "      <th>1.357143</th>\n",
       "      <td>-0.149569</td>\n",
       "    </tr>\n",
       "  </tbody>\n",
       "</table>\n",
       "</div>"
      ],
      "text/plain": [
       "             y_pred\n",
       "y                  \n",
       "-1.642857  0.653976\n",
       "-0.642857  0.343554\n",
       " 0.357143 -0.366721\n",
       " 1.357143 -0.149569"
      ]
     },
     "metadata": {},
     "output_type": "display_data"
    },
    {
     "name": "stdout",
     "output_type": "stream",
     "text": [
      "Pearson's R^2 within subject and run:\n",
      "0.014796586224707434\n",
      "Pearson's R^2 within subject only:\n",
      "0.01313927986042674\n",
      "Pearson's R^2 across subjects:\n",
      "0.010398565820511711\n"
     ]
    }
   ],
   "source": [
    "\n",
    "within_group_predictions = within_group_performance(\n",
    "    results,pearsonr_cor_func,'result_group',obs_col_name='y',pred_col_name='y_pred') \n",
    "r2_score_within_subj = math.pow(np.mean(within_group_predictions),2)\n",
    "print(\"Pearson's R^2 within subject and run:\")\n",
    "print(r2_score_within_subj)\n",
    "\n",
    "within_subj_predictions = within_group_performance(results,pearsonr_cor_func,'subject',obs_col_name='y',pred_col_name='y_pred') \n",
    "r2_score_within_subj_run = math.pow(np.mean(within_subj_predictions),2)\n",
    "print(\"Pearson's R^2 within subject only:\")\n",
    "print(r2_score_within_subj_run)\n",
    "\n",
    "\n",
    "\n",
    "print(\"Pearson's R^2 across subjects:\")\n",
    "print(math.pow(pearsonr(results['y'],results['y_pred'])[0],2))"
   ]
  },
  {
   "cell_type": "code",
<<<<<<< HEAD
   "execution_count": 36,
   "id": "arbitrary-going",
=======
   "execution_count": 35,
   "id": "incorrect-priest",
>>>>>>> f1fd970dfb9ec5fcfe7b2c2668526e789a921626
   "metadata": {},
   "outputs": [
    {
     "name": "stderr",
     "output_type": "stream",
     "text": [
      "/home/bsmith16/.conda/envs/neuralsignature/lib/python3.8/site-packages/seaborn/_decorators.py:36: FutureWarning: Pass the following variables as keyword args: x, y. From version 0.12, the only valid positional argument will be `data`, and passing other arguments without an explicit keyword will result in an error or misinterpretation.\n",
      "  warnings.warn(\n"
     ]
    },
    {
     "data": {
      "image/png": "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\n",
      "text/plain": [
       "<Figure size 432x288 with 1 Axes>"
      ]
     },
     "metadata": {
      "needs_background": "light"
     },
     "output_type": "display_data"
    },
    {
     "data": {
      "text/html": [
       "<div>\n",
       "<style scoped>\n",
       "    .dataframe tbody tr th:only-of-type {\n",
       "        vertical-align: middle;\n",
       "    }\n",
       "\n",
       "    .dataframe tbody tr th {\n",
       "        vertical-align: top;\n",
       "    }\n",
       "\n",
       "    .dataframe thead th {\n",
       "        text-align: right;\n",
       "    }\n",
       "</style>\n",
       "<table border=\"1\" class=\"dataframe\">\n",
       "  <thead>\n",
       "    <tr style=\"text-align: right;\">\n",
       "      <th></th>\n",
       "      <th>y_pred</th>\n",
       "    </tr>\n",
       "    <tr>\n",
       "      <th>y</th>\n",
       "      <th></th>\n",
       "    </tr>\n",
       "  </thead>\n",
       "  <tbody>\n",
       "    <tr>\n",
       "      <th>-1.642857</th>\n",
       "      <td>0.653976</td>\n",
       "    </tr>\n",
       "    <tr>\n",
       "      <th>-0.642857</th>\n",
       "      <td>0.343554</td>\n",
       "    </tr>\n",
       "    <tr>\n",
       "      <th>0.357143</th>\n",
       "      <td>-0.366721</td>\n",
       "    </tr>\n",
       "    <tr>\n",
       "      <th>1.357143</th>\n",
       "      <td>-0.149569</td>\n",
       "    </tr>\n",
       "  </tbody>\n",
       "</table>\n",
       "</div>"
      ],
      "text/plain": [
       "             y_pred\n",
       "y                  \n",
       "-1.642857  0.653976\n",
       "-0.642857  0.343554\n",
       " 0.357143 -0.366721\n",
       " 1.357143 -0.149569"
      ]
     },
     "metadata": {},
     "output_type": "display_data"
    },
    {
     "name": "stdout",
     "output_type": "stream",
     "text": [
      "Spearman's rho within subject and run:\n",
      "0.12164121926677418\n",
      "Spearman's rho within subject only:\n",
      "0.1146266978518824\n",
      "Spearman's rho across subjects:\n",
      "0.10179533937104121\n"
     ]
    }
   ],
   "source": [
    "within_group_predictions_sp = within_group_performance(\n",
    "    results,spearmanr_cor_func,'result_group',obs_col_name='y',pred_col_name='y_pred') \n",
    "rho_score_within_subj = np.mean(within_group_predictions_sp)\n",
    "print(\"Spearman's rho within subject and run:\")\n",
    "print(rho_score_within_subj)\n",
    "\n",
    "within_subj_predictions_sp = within_group_performance(results,spearmanr_cor_func,'subject',obs_col_name='y',pred_col_name='y_pred') \n",
    "rho_score_within_subj_run = np.mean(within_subj_predictions_sp)\n",
    "print(\"Spearman's rho within subject only:\")\n",
    "print(rho_score_within_subj_run)\n",
    "\n",
    "\n",
    "\n",
    "print(\"Spearman's rho across subjects:\")\n",
    "print(spearmanr(results['y'],results['y_pred'])[0])"
   ]
  },
  {
   "cell_type": "markdown",
<<<<<<< HEAD
   "id": "athletic-enzyme",
=======
   "id": "amateur-money",
>>>>>>> f1fd970dfb9ec5fcfe7b2c2668526e789a921626
   "metadata": {},
   "source": [
    "## ns_no_hrf_from_spm_40subs"
   ]
  },
  {
   "cell_type": "code",
   "execution_count": 41,
<<<<<<< HEAD
   "id": "eligible-display",
=======
   "id": "executive-withdrawal",
>>>>>>> f1fd970dfb9ec5fcfe7b2c2668526e789a921626
   "metadata": {},
   "outputs": [],
   "source": [
    "loocv_results = pickle.load(open(data_path + \"train_test_results_ns_no_hrf_from_spm_40subs.pkl\",'rb'))\n",
    "test_scores_same=loocv_results[0]\n",
    "tt_results=loocv_results[1]\n",
    "results_by_trainset_item=loocv_results[2]"
   ]
  },
  {
   "cell_type": "code",
   "execution_count": 42,
<<<<<<< HEAD
   "id": "cardiovascular-interim",
=======
   "id": "royal-roman",
>>>>>>> f1fd970dfb9ec5fcfe7b2c2668526e789a921626
   "metadata": {},
   "outputs": [],
   "source": [
    "results = pd.concat([metadata,results_by_trainset_item],axis=1)\n",
    "results['result_group'] = results.group + \"_\" + results.run\n",
    "#trim subjects where we don't have data. this will be 20 because there's 20 subjects in the metadata but only 40 being processed.\n",
    "results = results.loc[pd.isnull(results.result_group)==False,]"
   ]
  },
  {
   "cell_type": "code",
   "execution_count": 43,
<<<<<<< HEAD
   "id": "statutory-edinburgh",
=======
   "id": "hired-carolina",
>>>>>>> f1fd970dfb9ec5fcfe7b2c2668526e789a921626
   "metadata": {},
   "outputs": [
    {
     "name": "stderr",
     "output_type": "stream",
     "text": [
      "/home/bsmith16/.conda/envs/neuralsignature/lib/python3.8/site-packages/seaborn/_decorators.py:36: FutureWarning: Pass the following variables as keyword args: x, y. From version 0.12, the only valid positional argument will be `data`, and passing other arguments without an explicit keyword will result in an error or misinterpretation.\n",
      "  warnings.warn(\n"
     ]
    },
    {
     "data": {
      "image/png": "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\n",
      "text/plain": [
       "<Figure size 432x288 with 1 Axes>"
      ]
     },
     "metadata": {
      "needs_background": "light"
     },
     "output_type": "display_data"
    },
    {
     "data": {
      "text/html": [
       "<div>\n",
       "<style scoped>\n",
       "    .dataframe tbody tr th:only-of-type {\n",
       "        vertical-align: middle;\n",
       "    }\n",
       "\n",
       "    .dataframe tbody tr th {\n",
       "        vertical-align: top;\n",
       "    }\n",
       "\n",
       "    .dataframe thead th {\n",
       "        text-align: right;\n",
       "    }\n",
       "</style>\n",
       "<table border=\"1\" class=\"dataframe\">\n",
       "  <thead>\n",
       "    <tr style=\"text-align: right;\">\n",
       "      <th></th>\n",
       "      <th>y_pred</th>\n",
       "    </tr>\n",
       "    <tr>\n",
       "      <th>y</th>\n",
       "      <th></th>\n",
       "    </tr>\n",
       "  </thead>\n",
       "  <tbody>\n",
       "    <tr>\n",
       "      <th>-0.8125</th>\n",
       "      <td>0.238212</td>\n",
       "    </tr>\n",
       "    <tr>\n",
       "      <th>0.1875</th>\n",
       "      <td>0.020276</td>\n",
       "    </tr>\n",
       "    <tr>\n",
       "      <th>1.1875</th>\n",
       "      <td>-0.423308</td>\n",
       "    </tr>\n",
       "    <tr>\n",
       "      <th>2.1875</th>\n",
       "      <td>-0.679061</td>\n",
       "    </tr>\n",
       "  </tbody>\n",
       "</table>\n",
       "</div>"
      ],
      "text/plain": [
       "           y_pred\n",
       "y                \n",
       "-0.8125  0.238212\n",
       " 0.1875  0.020276\n",
       " 1.1875 -0.423308\n",
       " 2.1875 -0.679061"
      ]
     },
     "metadata": {},
     "output_type": "display_data"
    },
    {
     "name": "stderr",
     "output_type": "stream",
     "text": [
      "/home/bsmith16/.conda/envs/neuralsignature/lib/python3.8/site-packages/seaborn/_decorators.py:36: FutureWarning: Pass the following variables as keyword args: x, y. From version 0.12, the only valid positional argument will be `data`, and passing other arguments without an explicit keyword will result in an error or misinterpretation.\n",
      "  warnings.warn(\n"
     ]
    },
    {
     "data": {
      "image/png": "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\n",
      "text/plain": [
       "<Figure size 432x288 with 1 Axes>"
      ]
     },
     "metadata": {
      "needs_background": "light"
     },
     "output_type": "display_data"
    },
    {
     "data": {
      "text/html": [
       "<div>\n",
       "<style scoped>\n",
       "    .dataframe tbody tr th:only-of-type {\n",
       "        vertical-align: middle;\n",
       "    }\n",
       "\n",
       "    .dataframe tbody tr th {\n",
       "        vertical-align: top;\n",
       "    }\n",
       "\n",
       "    .dataframe thead th {\n",
       "        text-align: right;\n",
       "    }\n",
       "</style>\n",
       "<table border=\"1\" class=\"dataframe\">\n",
       "  <thead>\n",
       "    <tr style=\"text-align: right;\">\n",
       "      <th></th>\n",
       "      <th>y_pred</th>\n",
       "    </tr>\n",
       "    <tr>\n",
       "      <th>y</th>\n",
       "      <th></th>\n",
       "    </tr>\n",
       "  </thead>\n",
       "  <tbody>\n",
       "    <tr>\n",
       "      <th>-1.642857</th>\n",
       "      <td>0.899667</td>\n",
       "    </tr>\n",
       "    <tr>\n",
       "      <th>-0.642857</th>\n",
       "      <td>-0.224108</td>\n",
       "    </tr>\n",
       "    <tr>\n",
       "      <th>0.357143</th>\n",
       "      <td>0.018454</td>\n",
       "    </tr>\n",
       "    <tr>\n",
       "      <th>1.357143</th>\n",
       "      <td>-0.787171</td>\n",
       "    </tr>\n",
       "  </tbody>\n",
       "</table>\n",
       "</div>"
      ],
      "text/plain": [
       "             y_pred\n",
       "y                  \n",
       "-1.642857  0.899667\n",
       "-0.642857 -0.224108\n",
       " 0.357143  0.018454\n",
       " 1.357143 -0.787171"
      ]
     },
     "metadata": {},
     "output_type": "display_data"
    },
    {
     "name": "stderr",
     "output_type": "stream",
     "text": [
      "/home/bsmith16/.conda/envs/neuralsignature/lib/python3.8/site-packages/seaborn/_decorators.py:36: FutureWarning: Pass the following variables as keyword args: x, y. From version 0.12, the only valid positional argument will be `data`, and passing other arguments without an explicit keyword will result in an error or misinterpretation.\n",
      "  warnings.warn(\n"
     ]
    },
    {
     "data": {
      "image/png": "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\n",
      "text/plain": [
       "<Figure size 432x288 with 1 Axes>"
      ]
     },
     "metadata": {
      "needs_background": "light"
     },
     "output_type": "display_data"
    },
    {
     "data": {
      "text/html": [
       "<div>\n",
       "<style scoped>\n",
       "    .dataframe tbody tr th:only-of-type {\n",
       "        vertical-align: middle;\n",
       "    }\n",
       "\n",
       "    .dataframe tbody tr th {\n",
       "        vertical-align: top;\n",
       "    }\n",
       "\n",
       "    .dataframe thead th {\n",
       "        text-align: right;\n",
       "    }\n",
       "</style>\n",
       "<table border=\"1\" class=\"dataframe\">\n",
       "  <thead>\n",
       "    <tr style=\"text-align: right;\">\n",
       "      <th></th>\n",
       "      <th>y_pred</th>\n",
       "    </tr>\n",
       "    <tr>\n",
       "      <th>y</th>\n",
       "      <th></th>\n",
       "    </tr>\n",
       "  </thead>\n",
       "  <tbody>\n",
       "    <tr>\n",
       "      <th>-1.375</th>\n",
       "      <td>0.677456</td>\n",
       "    </tr>\n",
       "    <tr>\n",
       "      <th>-0.375</th>\n",
       "      <td>-0.026542</td>\n",
       "    </tr>\n",
       "    <tr>\n",
       "      <th>0.625</th>\n",
       "      <td>-0.021202</td>\n",
       "    </tr>\n",
       "    <tr>\n",
       "      <th>1.625</th>\n",
       "      <td>-0.883556</td>\n",
       "    </tr>\n",
       "  </tbody>\n",
       "</table>\n",
       "</div>"
      ],
      "text/plain": [
       "          y_pred\n",
       "y               \n",
       "-1.375  0.677456\n",
       "-0.375 -0.026542\n",
       " 0.625 -0.021202\n",
       " 1.625 -0.883556"
      ]
     },
     "metadata": {},
     "output_type": "display_data"
    },
    {
     "name": "stderr",
     "output_type": "stream",
     "text": [
      "/home/bsmith16/.conda/envs/neuralsignature/lib/python3.8/site-packages/seaborn/_decorators.py:36: FutureWarning: Pass the following variables as keyword args: x, y. From version 0.12, the only valid positional argument will be `data`, and passing other arguments without an explicit keyword will result in an error or misinterpretation.\n",
      "  warnings.warn(\n"
     ]
    },
    {
     "data": {
      "image/png": "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\n",
      "text/plain": [
       "<Figure size 432x288 with 1 Axes>"
      ]
     },
     "metadata": {
      "needs_background": "light"
     },
     "output_type": "display_data"
    },
    {
     "data": {
      "text/html": [
       "<div>\n",
       "<style scoped>\n",
       "    .dataframe tbody tr th:only-of-type {\n",
       "        vertical-align: middle;\n",
       "    }\n",
       "\n",
       "    .dataframe tbody tr th {\n",
       "        vertical-align: top;\n",
       "    }\n",
       "\n",
       "    .dataframe thead th {\n",
       "        text-align: right;\n",
       "    }\n",
       "</style>\n",
       "<table border=\"1\" class=\"dataframe\">\n",
       "  <thead>\n",
       "    <tr style=\"text-align: right;\">\n",
       "      <th></th>\n",
       "      <th>y_pred</th>\n",
       "    </tr>\n",
       "    <tr>\n",
       "      <th>y</th>\n",
       "      <th></th>\n",
       "    </tr>\n",
       "  </thead>\n",
       "  <tbody>\n",
       "    <tr>\n",
       "      <th>-0.75</th>\n",
       "      <td>0.162018</td>\n",
       "    </tr>\n",
       "    <tr>\n",
       "      <th>0.25</th>\n",
       "      <td>0.308981</td>\n",
       "    </tr>\n",
       "    <tr>\n",
       "      <th>1.25</th>\n",
       "      <td>-0.164169</td>\n",
       "    </tr>\n",
       "    <tr>\n",
       "      <th>2.25</th>\n",
       "      <td>-1.272482</td>\n",
       "    </tr>\n",
       "  </tbody>\n",
       "</table>\n",
       "</div>"
      ],
      "text/plain": [
       "         y_pred\n",
       "y              \n",
       "-0.75  0.162018\n",
       " 0.25  0.308981\n",
       " 1.25 -0.164169\n",
       " 2.25 -1.272482"
      ]
     },
     "metadata": {},
     "output_type": "display_data"
    },
    {
     "name": "stderr",
     "output_type": "stream",
     "text": [
      "/home/bsmith16/.conda/envs/neuralsignature/lib/python3.8/site-packages/seaborn/_decorators.py:36: FutureWarning: Pass the following variables as keyword args: x, y. From version 0.12, the only valid positional argument will be `data`, and passing other arguments without an explicit keyword will result in an error or misinterpretation.\n",
      "  warnings.warn(\n"
     ]
    },
    {
     "data": {
      "image/png": "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\n",
      "text/plain": [
       "<Figure size 432x288 with 1 Axes>"
      ]
     },
     "metadata": {
      "needs_background": "light"
     },
     "output_type": "display_data"
    },
    {
     "data": {
      "text/html": [
       "<div>\n",
       "<style scoped>\n",
       "    .dataframe tbody tr th:only-of-type {\n",
       "        vertical-align: middle;\n",
       "    }\n",
       "\n",
       "    .dataframe tbody tr th {\n",
       "        vertical-align: top;\n",
       "    }\n",
       "\n",
       "    .dataframe thead th {\n",
       "        text-align: right;\n",
       "    }\n",
       "</style>\n",
       "<table border=\"1\" class=\"dataframe\">\n",
       "  <thead>\n",
       "    <tr style=\"text-align: right;\">\n",
       "      <th></th>\n",
       "      <th>y_pred</th>\n",
       "    </tr>\n",
       "    <tr>\n",
       "      <th>y</th>\n",
       "      <th></th>\n",
       "    </tr>\n",
       "  </thead>\n",
       "  <tbody>\n",
       "    <tr>\n",
       "      <th>-2.375</th>\n",
       "      <td>0.777107</td>\n",
       "    </tr>\n",
       "    <tr>\n",
       "      <th>-0.375</th>\n",
       "      <td>0.051955</td>\n",
       "    </tr>\n",
       "    <tr>\n",
       "      <th>0.625</th>\n",
       "      <td>-0.176203</td>\n",
       "    </tr>\n",
       "  </tbody>\n",
       "</table>\n",
       "</div>"
      ],
      "text/plain": [
       "          y_pred\n",
       "y               \n",
       "-2.375  0.777107\n",
       "-0.375  0.051955\n",
       " 0.625 -0.176203"
      ]
     },
     "metadata": {},
     "output_type": "display_data"
    },
    {
     "name": "stdout",
     "output_type": "stream",
     "text": [
      "Pearson's R^2 within subject and run:\n",
      "0.0015236721319045932\n",
      "Pearson's R^2 within subject only:\n",
      "0.0011288811686392237\n",
      "Pearson's R^2 across subjects:\n",
      "0.0006871510163054083\n"
     ]
    }
   ],
   "source": [
    "\n",
    "within_group_predictions = within_group_performance(\n",
    "    results,pearsonr_cor_func,'result_group',obs_col_name='y',pred_col_name='y_pred') \n",
    "r2_score_within_subj = math.pow(np.mean(within_group_predictions),2)\n",
    "print(\"Pearson's R^2 within subject and run:\")\n",
    "print(r2_score_within_subj)\n",
    "\n",
    "within_subj_predictions = within_group_performance(results,pearsonr_cor_func,'subject',obs_col_name='y',pred_col_name='y_pred') \n",
    "r2_score_within_subj_run = math.pow(np.mean(within_subj_predictions),2)\n",
    "print(\"Pearson's R^2 within subject only:\")\n",
    "print(r2_score_within_subj_run)\n",
    "\n",
    "\n",
    "\n",
    "print(\"Pearson's R^2 across subjects:\")\n",
    "print(math.pow(pearsonr(results['y'],results['y_pred'])[0],2))"
   ]
  },
  {
   "cell_type": "code",
   "execution_count": 44,
<<<<<<< HEAD
   "id": "broke-imperial",
=======
   "id": "confidential-dialogue",
>>>>>>> f1fd970dfb9ec5fcfe7b2c2668526e789a921626
   "metadata": {},
   "outputs": [
    {
     "name": "stderr",
     "output_type": "stream",
     "text": [
      "/home/bsmith16/.conda/envs/neuralsignature/lib/python3.8/site-packages/seaborn/_decorators.py:36: FutureWarning: Pass the following variables as keyword args: x, y. From version 0.12, the only valid positional argument will be `data`, and passing other arguments without an explicit keyword will result in an error or misinterpretation.\n",
      "  warnings.warn(\n"
     ]
    },
    {
     "data": {
      "image/png": "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\n",
      "text/plain": [
       "<Figure size 432x288 with 1 Axes>"
      ]
     },
     "metadata": {
      "needs_background": "light"
     },
     "output_type": "display_data"
    },
    {
     "data": {
      "text/html": [
       "<div>\n",
       "<style scoped>\n",
       "    .dataframe tbody tr th:only-of-type {\n",
       "        vertical-align: middle;\n",
       "    }\n",
       "\n",
       "    .dataframe tbody tr th {\n",
       "        vertical-align: top;\n",
       "    }\n",
       "\n",
       "    .dataframe thead th {\n",
       "        text-align: right;\n",
       "    }\n",
       "</style>\n",
       "<table border=\"1\" class=\"dataframe\">\n",
       "  <thead>\n",
       "    <tr style=\"text-align: right;\">\n",
       "      <th></th>\n",
       "      <th>y_pred</th>\n",
       "    </tr>\n",
       "    <tr>\n",
       "      <th>y</th>\n",
       "      <th></th>\n",
       "    </tr>\n",
       "  </thead>\n",
       "  <tbody>\n",
       "    <tr>\n",
       "      <th>-0.8125</th>\n",
       "      <td>0.238212</td>\n",
       "    </tr>\n",
       "    <tr>\n",
       "      <th>0.1875</th>\n",
       "      <td>0.020276</td>\n",
       "    </tr>\n",
       "    <tr>\n",
       "      <th>1.1875</th>\n",
       "      <td>-0.423308</td>\n",
       "    </tr>\n",
       "    <tr>\n",
       "      <th>2.1875</th>\n",
       "      <td>-0.679061</td>\n",
       "    </tr>\n",
       "  </tbody>\n",
       "</table>\n",
       "</div>"
      ],
      "text/plain": [
       "           y_pred\n",
       "y                \n",
       "-0.8125  0.238212\n",
       " 0.1875  0.020276\n",
       " 1.1875 -0.423308\n",
       " 2.1875 -0.679061"
      ]
     },
     "metadata": {},
     "output_type": "display_data"
    },
    {
     "name": "stderr",
     "output_type": "stream",
     "text": [
      "/home/bsmith16/.conda/envs/neuralsignature/lib/python3.8/site-packages/seaborn/_decorators.py:36: FutureWarning: Pass the following variables as keyword args: x, y. From version 0.12, the only valid positional argument will be `data`, and passing other arguments without an explicit keyword will result in an error or misinterpretation.\n",
      "  warnings.warn(\n"
     ]
    },
    {
     "data": {
      "image/png": "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\n",
      "text/plain": [
       "<Figure size 432x288 with 1 Axes>"
      ]
     },
     "metadata": {
      "needs_background": "light"
     },
     "output_type": "display_data"
    },
    {
     "data": {
      "text/html": [
       "<div>\n",
       "<style scoped>\n",
       "    .dataframe tbody tr th:only-of-type {\n",
       "        vertical-align: middle;\n",
       "    }\n",
       "\n",
       "    .dataframe tbody tr th {\n",
       "        vertical-align: top;\n",
       "    }\n",
       "\n",
       "    .dataframe thead th {\n",
       "        text-align: right;\n",
       "    }\n",
       "</style>\n",
       "<table border=\"1\" class=\"dataframe\">\n",
       "  <thead>\n",
       "    <tr style=\"text-align: right;\">\n",
       "      <th></th>\n",
       "      <th>y_pred</th>\n",
       "    </tr>\n",
       "    <tr>\n",
       "      <th>y</th>\n",
       "      <th></th>\n",
       "    </tr>\n",
       "  </thead>\n",
       "  <tbody>\n",
       "    <tr>\n",
       "      <th>-1.642857</th>\n",
       "      <td>0.899667</td>\n",
       "    </tr>\n",
       "    <tr>\n",
       "      <th>-0.642857</th>\n",
       "      <td>-0.224108</td>\n",
       "    </tr>\n",
       "    <tr>\n",
       "      <th>0.357143</th>\n",
       "      <td>0.018454</td>\n",
       "    </tr>\n",
       "    <tr>\n",
       "      <th>1.357143</th>\n",
       "      <td>-0.787171</td>\n",
       "    </tr>\n",
       "  </tbody>\n",
       "</table>\n",
       "</div>"
      ],
      "text/plain": [
       "             y_pred\n",
       "y                  \n",
       "-1.642857  0.899667\n",
       "-0.642857 -0.224108\n",
       " 0.357143  0.018454\n",
       " 1.357143 -0.787171"
      ]
     },
     "metadata": {},
     "output_type": "display_data"
    },
    {
     "name": "stderr",
     "output_type": "stream",
     "text": [
      "/home/bsmith16/.conda/envs/neuralsignature/lib/python3.8/site-packages/seaborn/_decorators.py:36: FutureWarning: Pass the following variables as keyword args: x, y. From version 0.12, the only valid positional argument will be `data`, and passing other arguments without an explicit keyword will result in an error or misinterpretation.\n",
      "  warnings.warn(\n"
     ]
    },
    {
     "data": {
      "image/png": "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\n",
      "text/plain": [
       "<Figure size 432x288 with 1 Axes>"
      ]
     },
     "metadata": {
      "needs_background": "light"
     },
     "output_type": "display_data"
    },
    {
     "data": {
      "text/html": [
       "<div>\n",
       "<style scoped>\n",
       "    .dataframe tbody tr th:only-of-type {\n",
       "        vertical-align: middle;\n",
       "    }\n",
       "\n",
       "    .dataframe tbody tr th {\n",
       "        vertical-align: top;\n",
       "    }\n",
       "\n",
       "    .dataframe thead th {\n",
       "        text-align: right;\n",
       "    }\n",
       "</style>\n",
       "<table border=\"1\" class=\"dataframe\">\n",
       "  <thead>\n",
       "    <tr style=\"text-align: right;\">\n",
       "      <th></th>\n",
       "      <th>y_pred</th>\n",
       "    </tr>\n",
       "    <tr>\n",
       "      <th>y</th>\n",
       "      <th></th>\n",
       "    </tr>\n",
       "  </thead>\n",
       "  <tbody>\n",
       "    <tr>\n",
       "      <th>-1.375</th>\n",
       "      <td>0.677456</td>\n",
       "    </tr>\n",
       "    <tr>\n",
       "      <th>-0.375</th>\n",
       "      <td>-0.026542</td>\n",
       "    </tr>\n",
       "    <tr>\n",
       "      <th>0.625</th>\n",
       "      <td>-0.021202</td>\n",
       "    </tr>\n",
       "    <tr>\n",
       "      <th>1.625</th>\n",
       "      <td>-0.883556</td>\n",
       "    </tr>\n",
       "  </tbody>\n",
       "</table>\n",
       "</div>"
      ],
      "text/plain": [
       "          y_pred\n",
       "y               \n",
       "-1.375  0.677456\n",
       "-0.375 -0.026542\n",
       " 0.625 -0.021202\n",
       " 1.625 -0.883556"
      ]
     },
     "metadata": {},
     "output_type": "display_data"
    },
    {
     "name": "stderr",
     "output_type": "stream",
     "text": [
      "/home/bsmith16/.conda/envs/neuralsignature/lib/python3.8/site-packages/seaborn/_decorators.py:36: FutureWarning: Pass the following variables as keyword args: x, y. From version 0.12, the only valid positional argument will be `data`, and passing other arguments without an explicit keyword will result in an error or misinterpretation.\n",
      "  warnings.warn(\n"
     ]
    },
    {
     "data": {
      "image/png": "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\n",
      "text/plain": [
       "<Figure size 432x288 with 1 Axes>"
      ]
     },
     "metadata": {
      "needs_background": "light"
     },
     "output_type": "display_data"
    },
    {
     "data": {
      "text/html": [
       "<div>\n",
       "<style scoped>\n",
       "    .dataframe tbody tr th:only-of-type {\n",
       "        vertical-align: middle;\n",
       "    }\n",
       "\n",
       "    .dataframe tbody tr th {\n",
       "        vertical-align: top;\n",
       "    }\n",
       "\n",
       "    .dataframe thead th {\n",
       "        text-align: right;\n",
       "    }\n",
       "</style>\n",
       "<table border=\"1\" class=\"dataframe\">\n",
       "  <thead>\n",
       "    <tr style=\"text-align: right;\">\n",
       "      <th></th>\n",
       "      <th>y_pred</th>\n",
       "    </tr>\n",
       "    <tr>\n",
       "      <th>y</th>\n",
       "      <th></th>\n",
       "    </tr>\n",
       "  </thead>\n",
       "  <tbody>\n",
       "    <tr>\n",
       "      <th>-0.75</th>\n",
       "      <td>0.162018</td>\n",
       "    </tr>\n",
       "    <tr>\n",
       "      <th>0.25</th>\n",
       "      <td>0.308981</td>\n",
       "    </tr>\n",
       "    <tr>\n",
       "      <th>1.25</th>\n",
       "      <td>-0.164169</td>\n",
       "    </tr>\n",
       "    <tr>\n",
       "      <th>2.25</th>\n",
       "      <td>-1.272482</td>\n",
       "    </tr>\n",
       "  </tbody>\n",
       "</table>\n",
       "</div>"
      ],
      "text/plain": [
       "         y_pred\n",
       "y              \n",
       "-0.75  0.162018\n",
       " 0.25  0.308981\n",
       " 1.25 -0.164169\n",
       " 2.25 -1.272482"
      ]
     },
     "metadata": {},
     "output_type": "display_data"
    },
    {
     "name": "stderr",
     "output_type": "stream",
     "text": [
      "/home/bsmith16/.conda/envs/neuralsignature/lib/python3.8/site-packages/seaborn/_decorators.py:36: FutureWarning: Pass the following variables as keyword args: x, y. From version 0.12, the only valid positional argument will be `data`, and passing other arguments without an explicit keyword will result in an error or misinterpretation.\n",
      "  warnings.warn(\n"
     ]
    },
    {
     "data": {
      "image/png": "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\n",
      "text/plain": [
       "<Figure size 432x288 with 1 Axes>"
      ]
     },
     "metadata": {
      "needs_background": "light"
     },
     "output_type": "display_data"
    },
    {
     "data": {
      "text/html": [
       "<div>\n",
       "<style scoped>\n",
       "    .dataframe tbody tr th:only-of-type {\n",
       "        vertical-align: middle;\n",
       "    }\n",
       "\n",
       "    .dataframe tbody tr th {\n",
       "        vertical-align: top;\n",
       "    }\n",
       "\n",
       "    .dataframe thead th {\n",
       "        text-align: right;\n",
       "    }\n",
       "</style>\n",
       "<table border=\"1\" class=\"dataframe\">\n",
       "  <thead>\n",
       "    <tr style=\"text-align: right;\">\n",
       "      <th></th>\n",
       "      <th>y_pred</th>\n",
       "    </tr>\n",
       "    <tr>\n",
       "      <th>y</th>\n",
       "      <th></th>\n",
       "    </tr>\n",
       "  </thead>\n",
       "  <tbody>\n",
       "    <tr>\n",
       "      <th>-2.375</th>\n",
       "      <td>0.777107</td>\n",
       "    </tr>\n",
       "    <tr>\n",
       "      <th>-0.375</th>\n",
       "      <td>0.051955</td>\n",
       "    </tr>\n",
       "    <tr>\n",
       "      <th>0.625</th>\n",
       "      <td>-0.176203</td>\n",
       "    </tr>\n",
       "  </tbody>\n",
       "</table>\n",
       "</div>"
      ],
      "text/plain": [
       "          y_pred\n",
       "y               \n",
       "-2.375  0.777107\n",
       "-0.375  0.051955\n",
       " 0.625 -0.176203"
      ]
     },
     "metadata": {},
     "output_type": "display_data"
    },
    {
     "name": "stdout",
     "output_type": "stream",
     "text": [
      "Spearman's rho within subject and run:\n",
      "0.039034243068165074\n",
      "Spearman's rho within subject only:\n",
      "0.03359882689379532\n",
      "Spearman's rho across subjects:\n",
      "0.034733471357189336\n"
     ]
    }
   ],
   "source": [
    "within_group_predictions_sp = within_group_performance(\n",
    "    results,spearmanr_cor_func,'result_group',obs_col_name='y',pred_col_name='y_pred') \n",
    "rho_score_within_subj = np.mean(within_group_predictions_sp)\n",
    "print(\"Spearman's rho within subject and run:\")\n",
    "print(rho_score_within_subj)\n",
    "\n",
    "within_subj_predictions_sp = within_group_performance(results,spearmanr_cor_func,'subject',obs_col_name='y',pred_col_name='y_pred') \n",
    "rho_score_within_subj_run = np.mean(within_subj_predictions_sp)\n",
    "print(\"Spearman's rho within subject only:\")\n",
    "print(rho_score_within_subj_run)\n",
    "\n",
    "\n",
    "\n",
    "print(\"Spearman's rho across subjects:\")\n",
    "print(spearmanr(results['y'],results['y_pred'])[0])"
   ]
  },
  {
   "cell_type": "markdown",
<<<<<<< HEAD
   "id": "italic-cartridge",
=======
   "id": "parliamentary-kenya",
>>>>>>> f1fd970dfb9ec5fcfe7b2c2668526e789a921626
   "metadata": {},
   "source": [
    "These numbers are really bad, but we might expect those low scores for no HRF with 2s only."
   ]
  },
  {
   "cell_type": "markdown",
<<<<<<< HEAD
   "id": "legitimate-tanzania",
=======
   "id": "cubic-logan",
>>>>>>> f1fd970dfb9ec5fcfe7b2c2668526e789a921626
   "metadata": {},
   "source": [
    "## ns_w_hrf_from_spm_at_fingerpress_40subs"
   ]
  },
  {
   "cell_type": "code",
   "execution_count": 45,
<<<<<<< HEAD
   "id": "amber-romania",
=======
   "id": "accomplished-venture",
>>>>>>> f1fd970dfb9ec5fcfe7b2c2668526e789a921626
   "metadata": {},
   "outputs": [],
   "source": [
    "loocv_results = pickle.load(open(data_path + \"train_test_results_ns_w_hrf_from_spm_at_fingerpress_40subs.pkl\",'rb'))\n",
    "test_scores_same=loocv_results[0]\n",
    "tt_results=loocv_results[1]\n",
    "results_by_trainset_item=loocv_results[2]"
   ]
  },
  {
   "cell_type": "code",
   "execution_count": 46,
<<<<<<< HEAD
   "id": "welcome-textbook",
=======
   "id": "continued-corrections",
>>>>>>> f1fd970dfb9ec5fcfe7b2c2668526e789a921626
   "metadata": {},
   "outputs": [],
   "source": [
    "results = pd.concat([metadata,results_by_trainset_item],axis=1)\n",
    "results['result_group'] = results.group + \"_\" + results.run\n",
    "#trim subjects where we don't have data. this will be 20 because there's 20 subjects in the metadata but only 40 being processed.\n",
    "results = results.loc[pd.isnull(results.result_group)==False,]"
   ]
  },
  {
   "cell_type": "code",
   "execution_count": 47,
<<<<<<< HEAD
   "id": "stuffed-commerce",
=======
   "id": "laughing-bailey",
>>>>>>> f1fd970dfb9ec5fcfe7b2c2668526e789a921626
   "metadata": {},
   "outputs": [
    {
     "name": "stderr",
     "output_type": "stream",
     "text": [
      "/home/bsmith16/.conda/envs/neuralsignature/lib/python3.8/site-packages/seaborn/_decorators.py:36: FutureWarning: Pass the following variables as keyword args: x, y. From version 0.12, the only valid positional argument will be `data`, and passing other arguments without an explicit keyword will result in an error or misinterpretation.\n",
      "  warnings.warn(\n"
     ]
    },
    {
     "data": {
      "image/png": "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\n",
      "text/plain": [
       "<Figure size 432x288 with 1 Axes>"
      ]
     },
     "metadata": {
      "needs_background": "light"
     },
     "output_type": "display_data"
    },
    {
     "data": {
      "text/html": [
       "<div>\n",
       "<style scoped>\n",
       "    .dataframe tbody tr th:only-of-type {\n",
       "        vertical-align: middle;\n",
       "    }\n",
       "\n",
       "    .dataframe tbody tr th {\n",
       "        vertical-align: top;\n",
       "    }\n",
       "\n",
       "    .dataframe thead th {\n",
       "        text-align: right;\n",
       "    }\n",
       "</style>\n",
       "<table border=\"1\" class=\"dataframe\">\n",
       "  <thead>\n",
       "    <tr style=\"text-align: right;\">\n",
       "      <th></th>\n",
       "      <th>y_pred</th>\n",
       "    </tr>\n",
       "    <tr>\n",
       "      <th>y</th>\n",
       "      <th></th>\n",
       "    </tr>\n",
       "  </thead>\n",
       "  <tbody>\n",
       "    <tr>\n",
       "      <th>-1.076923</th>\n",
       "      <td>1.332698</td>\n",
       "    </tr>\n",
       "    <tr>\n",
       "      <th>-0.076923</th>\n",
       "      <td>-0.406930</td>\n",
       "    </tr>\n",
       "    <tr>\n",
       "      <th>0.923077</th>\n",
       "      <td>-0.740614</td>\n",
       "    </tr>\n",
       "  </tbody>\n",
       "</table>\n",
       "</div>"
      ],
      "text/plain": [
       "             y_pred\n",
       "y                  \n",
       "-1.076923  1.332698\n",
       "-0.076923 -0.406930\n",
       " 0.923077 -0.740614"
      ]
     },
     "metadata": {},
     "output_type": "display_data"
    },
    {
     "name": "stdout",
     "output_type": "stream",
     "text": [
      "Pearson's R^2 within subject and run:\n",
      "0.06968384338062028\n",
      "Pearson's R^2 within subject only:\n",
      "0.054564235148747614\n",
      "Pearson's R^2 across subjects:\n",
      "0.04721550206692823\n"
     ]
    }
   ],
   "source": [
    "within_group_predictions = within_group_performance(\n",
    "    results,pearsonr_cor_func,'result_group',obs_col_name='y',pred_col_name='y_pred') \n",
    "r2_score_within_subj = math.pow(np.mean(within_group_predictions),2)\n",
    "print(\"Pearson's R^2 within subject and run:\")\n",
    "print(r2_score_within_subj)\n",
    "\n",
    "within_subj_predictions = within_group_performance(results,pearsonr_cor_func,'subject',obs_col_name='y',pred_col_name='y_pred') \n",
    "r2_score_within_subj_run = math.pow(np.mean(within_subj_predictions),2)\n",
    "print(\"Pearson's R^2 within subject only:\")\n",
    "print(r2_score_within_subj_run)\n",
    "\n",
    "\n",
    "\n",
    "print(\"Pearson's R^2 across subjects:\")\n",
    "print(math.pow(pearsonr(results['y'],results['y_pred'])[0],2))"
   ]
  },
  {
   "cell_type": "markdown",
<<<<<<< HEAD
   "id": "useful-works",
=======
   "id": "humanitarian-bones",
>>>>>>> f1fd970dfb9ec5fcfe7b2c2668526e789a921626
   "metadata": {},
   "source": [
    "That's implausibly bad for finger-press. Need to re-investigate."
   ]
  },
  {
   "cell_type": "code",
   "execution_count": 48,
<<<<<<< HEAD
   "id": "greek-criterion",
=======
   "id": "insured-member",
>>>>>>> f1fd970dfb9ec5fcfe7b2c2668526e789a921626
   "metadata": {},
   "outputs": [
    {
     "name": "stderr",
     "output_type": "stream",
     "text": [
      "/home/bsmith16/.conda/envs/neuralsignature/lib/python3.8/site-packages/seaborn/_decorators.py:36: FutureWarning: Pass the following variables as keyword args: x, y. From version 0.12, the only valid positional argument will be `data`, and passing other arguments without an explicit keyword will result in an error or misinterpretation.\n",
      "  warnings.warn(\n"
     ]
    },
    {
     "data": {
      "image/png": "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\n",
      "text/plain": [
       "<Figure size 432x288 with 1 Axes>"
      ]
     },
     "metadata": {
      "needs_background": "light"
     },
     "output_type": "display_data"
    },
    {
     "data": {
      "text/html": [
       "<div>\n",
       "<style scoped>\n",
       "    .dataframe tbody tr th:only-of-type {\n",
       "        vertical-align: middle;\n",
       "    }\n",
       "\n",
       "    .dataframe tbody tr th {\n",
       "        vertical-align: top;\n",
       "    }\n",
       "\n",
       "    .dataframe thead th {\n",
       "        text-align: right;\n",
       "    }\n",
       "</style>\n",
       "<table border=\"1\" class=\"dataframe\">\n",
       "  <thead>\n",
       "    <tr style=\"text-align: right;\">\n",
       "      <th></th>\n",
       "      <th>y_pred</th>\n",
       "    </tr>\n",
       "    <tr>\n",
       "      <th>y</th>\n",
       "      <th></th>\n",
       "    </tr>\n",
       "  </thead>\n",
       "  <tbody>\n",
       "    <tr>\n",
       "      <th>-1.076923</th>\n",
       "      <td>1.332698</td>\n",
       "    </tr>\n",
       "    <tr>\n",
       "      <th>-0.076923</th>\n",
       "      <td>-0.406930</td>\n",
       "    </tr>\n",
       "    <tr>\n",
       "      <th>0.923077</th>\n",
       "      <td>-0.740614</td>\n",
       "    </tr>\n",
       "  </tbody>\n",
       "</table>\n",
       "</div>"
      ],
      "text/plain": [
       "             y_pred\n",
       "y                  \n",
       "-1.076923  1.332698\n",
       "-0.076923 -0.406930\n",
       " 0.923077 -0.740614"
      ]
     },
     "metadata": {},
     "output_type": "display_data"
    },
    {
     "name": "stdout",
     "output_type": "stream",
     "text": [
      "Spearman's rho within subject and run:\n",
      "0.2639769750955948\n",
      "Spearman's rho within subject only:\n",
      "0.23358988665767963\n",
      "Spearman's rho across subjects:\n",
      "0.22100484993490596\n"
     ]
    }
   ],
   "source": [
    "within_group_predictions_sp = within_group_performance(\n",
    "    results,spearmanr_cor_func,'result_group',obs_col_name='y',pred_col_name='y_pred') \n",
    "rho_score_within_subj = np.mean(within_group_predictions_sp)\n",
    "print(\"Spearman's rho within subject and run:\")\n",
    "print(rho_score_within_subj)\n",
    "\n",
    "within_subj_predictions_sp = within_group_performance(results,spearmanr_cor_func,'subject',obs_col_name='y',pred_col_name='y_pred') \n",
    "rho_score_within_subj_run = np.mean(within_subj_predictions_sp)\n",
    "print(\"Spearman's rho within subject only:\")\n",
    "print(rho_score_within_subj_run)\n",
    "\n",
    "\n",
    "\n",
    "print(\"Spearman's rho across subjects:\")\n",
    "print(spearmanr(results['y'],results['y_pred'])[0])"
   ]
  },
  {
   "cell_type": "markdown",
<<<<<<< HEAD
   "id": "bored-aquarium",
   "metadata": {},
   "source": [
    "## ns_w_hrf_from_spm_before_fingerpress_40subs"
   ]
  },
  {
   "cell_type": "code",
   "execution_count": 11,
   "id": "controlling-anchor",
   "metadata": {},
   "outputs": [],
   "source": [
    "loocv_results = pickle.load(open(data_path + \"train_test_results_ns_w_hrf_from_spm_before_fingerpress_40subs.pkl\",'rb'))\n",
    "test_scores_same=loocv_results[0]\n",
    "tt_results=loocv_results[1]\n",
    "results_by_trainset_item=loocv_results[2]\n",
    "\n",
    "results = pd.concat([metadata,results_by_trainset_item],axis=1)\n",
    "results['result_group'] = results.group + \"_\" + results.run\n",
    "#trim subjects where we don't have data. this will be 20 because there's 20 subjects in the metadata but only 40 being processed.\n",
    "results = results.loc[pd.isnull(results.result_group)==False,]"
=======
   "id": "polar-orientation",
   "metadata": {},
   "source": [
    "## ns_2s_split_*_40subs"
>>>>>>> f1fd970dfb9ec5fcfe7b2c2668526e789a921626
   ]
  },
  {
   "cell_type": "code",
   "execution_count": 12,
<<<<<<< HEAD
   "id": "alone-bernard",
   "metadata": {},
   "outputs": [
    {
     "name": "stdout",
     "output_type": "stream",
     "text": [
      "Pearson's R^2 within subject and run:\n",
      "0.3334372115468901\n",
      "Pearson's R^2 within subject only:\n",
      "0.3137848970933003\n",
      "Pearson's R^2 across subjects:\n",
      "0.27887339851034865\n"
     ]
    }
   ],
   "source": [
    "within_group_predictions = within_group_performance(\n",
    "    results,pearsonr_cor_func,'result_group',obs_col_name='y',pred_col_name='y_pred') \n",
    "r2_score_within_subj = math.pow(np.mean(within_group_predictions),2)\n",
    "print(\"Pearson's R^2 within subject and run:\")\n",
    "print(r2_score_within_subj)\n",
    "\n",
    "within_subj_predictions = within_group_performance(results,pearsonr_cor_func,'subject',obs_col_name='y',pred_col_name='y_pred') \n",
    "r2_score_within_subj_run = math.pow(np.mean(within_subj_predictions),2)\n",
    "print(\"Pearson's R^2 within subject only:\")\n",
    "print(r2_score_within_subj_run)\n",
    "\n",
    "\n",
    "\n",
    "print(\"Pearson's R^2 across subjects:\")\n",
    "print(math.pow(pearsonr(results['y'],results['y_pred'])[0],2))"
   ]
  },
  {
   "cell_type": "code",
   "execution_count": 13,
   "id": "matched-arbor",
   "metadata": {},
   "outputs": [
    {
     "name": "stdout",
     "output_type": "stream",
     "text": [
      "Spearman's rho within subject and run:\n",
      "0.5774402233538032\n",
      "Spearman's rho within subject only:\n",
      "0.5601650623640324\n",
      "Spearman's rho across subjects:\n",
      "0.5341542408444294\n"
     ]
    }
   ],
   "source": [
    "within_group_predictions_sp = within_group_performance(\n",
    "    results,spearmanr_cor_func,'result_group',obs_col_name='y',pred_col_name='y_pred') \n",
    "rho_score_within_subj = np.mean(within_group_predictions_sp)\n",
    "print(\"Spearman's rho within subject and run:\")\n",
    "print(rho_score_within_subj)\n",
    "\n",
    "within_subj_predictions_sp = within_group_performance(results,spearmanr_cor_func,'subject',obs_col_name='y',pred_col_name='y_pred') \n",
    "rho_score_within_subj_run = np.mean(within_subj_predictions_sp)\n",
    "print(\"Spearman's rho within subject only:\")\n",
    "print(rho_score_within_subj_run)\n",
    "\n",
    "\n",
    "\n",
    "print(\"Spearman's rho across subjects:\")\n",
    "print(spearmanr(results['y'],results['y_pred'])[0])"
   ]
  },
  {
   "cell_type": "markdown",
   "id": "addressed-forestry",
   "metadata": {},
   "source": [
    "#### PFC only"
   ]
  },
  {
   "cell_type": "code",
   "execution_count": 10,
   "id": "developing-dominant",
   "metadata": {},
   "outputs": [],
   "source": [
    "loocv_results = pickle.load(open(data_path + \"train_test_results_ns_w_hrf_from_spm_before_fingerpress_40subs_mask_pfc.pkl\",'rb'))\n",
    "test_scores_same=loocv_results[0]\n",
    "tt_results=loocv_results[1]\n",
    "results_by_trainset_item=loocv_results[2]\n",
    "\n",
    "results = pd.concat([metadata,results_by_trainset_item],axis=1)\n",
    "results['result_group'] = results.group + \"_\" + results.run\n",
    "#trim subjects where we don't have data. this will be 20 because there's 20 subjects in the metadata but only 40 being processed.\n",
    "results = results.loc[pd.isnull(results.result_group)==False,]"
   ]
  },
  {
   "cell_type": "code",
   "execution_count": 11,
   "id": "average-dispatch",
=======
   "id": "solved-reach",
>>>>>>> f1fd970dfb9ec5fcfe7b2c2668526e789a921626
   "metadata": {},
   "outputs": [
    {
     "name": "stderr",
     "output_type": "stream",
     "text": [
      "/home/bsmith16/.conda/envs/neuralsignature/lib/python3.8/site-packages/seaborn/_decorators.py:36: FutureWarning: Pass the following variables as keyword args: x, y. From version 0.12, the only valid positional argument will be `data`, and passing other arguments without an explicit keyword will result in an error or misinterpretation.\n",
      "  warnings.warn(\n"
     ]
    },
    {
     "data": {
<<<<<<< HEAD
      "image/png": "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\n",
=======
      "image/png": "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\n",
>>>>>>> f1fd970dfb9ec5fcfe7b2c2668526e789a921626
      "text/plain": [
       "<Figure size 432x288 with 1 Axes>"
      ]
     },
     "metadata": {
      "needs_background": "light"
     },
     "output_type": "display_data"
    },
    {
     "data": {
      "text/html": [
       "<div>\n",
       "<style scoped>\n",
       "    .dataframe tbody tr th:only-of-type {\n",
       "        vertical-align: middle;\n",
       "    }\n",
       "\n",
       "    .dataframe tbody tr th {\n",
       "        vertical-align: top;\n",
       "    }\n",
       "\n",
       "    .dataframe thead th {\n",
       "        text-align: right;\n",
       "    }\n",
       "</style>\n",
       "<table border=\"1\" class=\"dataframe\">\n",
       "  <thead>\n",
       "    <tr style=\"text-align: right;\">\n",
       "      <th></th>\n",
       "      <th>y_pred</th>\n",
       "    </tr>\n",
       "    <tr>\n",
       "      <th>y</th>\n",
       "      <th></th>\n",
       "    </tr>\n",
       "  </thead>\n",
       "  <tbody>\n",
       "    <tr>\n",
       "      <th>-0.8125</th>\n",
<<<<<<< HEAD
       "      <td>0.472212</td>\n",
       "    </tr>\n",
       "    <tr>\n",
       "      <th>0.1875</th>\n",
       "      <td>-0.106401</td>\n",
       "    </tr>\n",
       "    <tr>\n",
       "      <th>1.1875</th>\n",
       "      <td>-0.977924</td>\n",
       "    </tr>\n",
       "    <tr>\n",
       "      <th>2.1875</th>\n",
       "      <td>-0.987429</td>\n",
=======
       "      <td>0.238212</td>\n",
       "    </tr>\n",
       "    <tr>\n",
       "      <th>0.1875</th>\n",
       "      <td>0.020276</td>\n",
       "    </tr>\n",
       "    <tr>\n",
       "      <th>1.1875</th>\n",
       "      <td>-0.423308</td>\n",
       "    </tr>\n",
       "    <tr>\n",
       "      <th>2.1875</th>\n",
       "      <td>-0.679061</td>\n",
>>>>>>> f1fd970dfb9ec5fcfe7b2c2668526e789a921626
       "    </tr>\n",
       "  </tbody>\n",
       "</table>\n",
       "</div>"
      ],
      "text/plain": [
       "           y_pred\n",
       "y                \n",
<<<<<<< HEAD
       "-0.8125  0.472212\n",
       " 0.1875 -0.106401\n",
       " 1.1875 -0.977924\n",
       " 2.1875 -0.987429"
=======
       "-0.8125  0.238212\n",
       " 0.1875  0.020276\n",
       " 1.1875 -0.423308\n",
       " 2.1875 -0.679061"
>>>>>>> f1fd970dfb9ec5fcfe7b2c2668526e789a921626
      ]
     },
     "metadata": {},
     "output_type": "display_data"
    },
    {
     "name": "stderr",
     "output_type": "stream",
     "text": [
      "/home/bsmith16/.conda/envs/neuralsignature/lib/python3.8/site-packages/seaborn/_decorators.py:36: FutureWarning: Pass the following variables as keyword args: x, y. From version 0.12, the only valid positional argument will be `data`, and passing other arguments without an explicit keyword will result in an error or misinterpretation.\n",
      "  warnings.warn(\n"
     ]
    },
    {
     "data": {
<<<<<<< HEAD
      "image/png": "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\n",
=======
      "image/png": "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\n",
>>>>>>> f1fd970dfb9ec5fcfe7b2c2668526e789a921626
      "text/plain": [
       "<Figure size 432x288 with 1 Axes>"
      ]
     },
     "metadata": {
      "needs_background": "light"
     },
     "output_type": "display_data"
    },
    {
     "data": {
      "text/html": [
       "<div>\n",
       "<style scoped>\n",
       "    .dataframe tbody tr th:only-of-type {\n",
       "        vertical-align: middle;\n",
       "    }\n",
       "\n",
       "    .dataframe tbody tr th {\n",
       "        vertical-align: top;\n",
       "    }\n",
       "\n",
       "    .dataframe thead th {\n",
       "        text-align: right;\n",
       "    }\n",
       "</style>\n",
       "<table border=\"1\" class=\"dataframe\">\n",
       "  <thead>\n",
       "    <tr style=\"text-align: right;\">\n",
       "      <th></th>\n",
       "      <th>y_pred</th>\n",
       "    </tr>\n",
       "    <tr>\n",
       "      <th>y</th>\n",
       "      <th></th>\n",
       "    </tr>\n",
       "  </thead>\n",
       "  <tbody>\n",
       "    <tr>\n",
<<<<<<< HEAD
       "      <th>-1.4375</th>\n",
       "      <td>0.381338</td>\n",
       "    </tr>\n",
       "    <tr>\n",
       "      <th>-0.4375</th>\n",
       "      <td>0.779932</td>\n",
       "    </tr>\n",
       "    <tr>\n",
       "      <th>0.5625</th>\n",
       "      <td>-0.505291</td>\n",
       "    </tr>\n",
       "    <tr>\n",
       "      <th>1.5625</th>\n",
       "      <td>-0.556330</td>\n",
=======
       "      <th>-1.642857</th>\n",
       "      <td>0.899667</td>\n",
       "    </tr>\n",
       "    <tr>\n",
       "      <th>-0.642857</th>\n",
       "      <td>-0.224108</td>\n",
       "    </tr>\n",
       "    <tr>\n",
       "      <th>0.357143</th>\n",
       "      <td>0.018454</td>\n",
       "    </tr>\n",
       "    <tr>\n",
       "      <th>1.357143</th>\n",
       "      <td>-0.787171</td>\n",
>>>>>>> f1fd970dfb9ec5fcfe7b2c2668526e789a921626
       "    </tr>\n",
       "  </tbody>\n",
       "</table>\n",
       "</div>"
      ],
      "text/plain": [
<<<<<<< HEAD
       "           y_pred\n",
       "y                \n",
       "-1.4375  0.381338\n",
       "-0.4375  0.779932\n",
       " 0.5625 -0.505291\n",
       " 1.5625 -0.556330"
=======
       "             y_pred\n",
       "y                  \n",
       "-1.642857  0.899667\n",
       "-0.642857 -0.224108\n",
       " 0.357143  0.018454\n",
       " 1.357143 -0.787171"
>>>>>>> f1fd970dfb9ec5fcfe7b2c2668526e789a921626
      ]
     },
     "metadata": {},
     "output_type": "display_data"
    },
    {
<<<<<<< HEAD
     "name": "stdout",
     "output_type": "stream",
     "text": [
      "Pearson's R^2 within subject and run:\n",
      "0.03152263016518661\n",
      "Pearson's R^2 within subject only:\n",
      "0.03083755773480667\n",
      "Pearson's R^2 across subjects:\n",
      "0.02491845779851727\n"
     ]
    }
   ],
   "source": [
    "within_group_predictions = within_group_performance(\n",
    "    results,pearsonr_cor_func,'result_group',obs_col_name='y',pred_col_name='y_pred') \n",
    "r2_score_within_subj = math.pow(np.mean(within_group_predictions),2)\n",
    "print(\"Pearson's R^2 within subject and run:\")\n",
    "print(r2_score_within_subj)\n",
    "\n",
    "within_subj_predictions = within_group_performance(results,pearsonr_cor_func,'subject',obs_col_name='y',pred_col_name='y_pred') \n",
    "r2_score_within_subj_run = math.pow(np.mean(within_subj_predictions),2)\n",
    "print(\"Pearson's R^2 within subject only:\")\n",
    "print(r2_score_within_subj_run)\n",
    "\n",
    "\n",
    "\n",
    "print(\"Pearson's R^2 across subjects:\")\n",
    "print(math.pow(pearsonr(results['y'],results['y_pred'])[0],2))"
   ]
  },
  {
   "cell_type": "code",
   "execution_count": 12,
   "id": "naughty-legend",
   "metadata": {},
   "outputs": [
    {
     "name": "stderr",
     "output_type": "stream",
     "text": [
      "/home/bsmith16/.conda/envs/neuralsignature/lib/python3.8/site-packages/seaborn/_decorators.py:36: FutureWarning: Pass the following variables as keyword args: x, y. From version 0.12, the only valid positional argument will be `data`, and passing other arguments without an explicit keyword will result in an error or misinterpretation.\n",
      "  warnings.warn(\n"
=======
     "name": "stderr",
     "output_type": "stream",
     "text": [
      "/home/bsmith16/.conda/envs/neuralsignature/lib/python3.8/site-packages/seaborn/_decorators.py:36: FutureWarning: Pass the following variables as keyword args: x, y. From version 0.12, the only valid positional argument will be `data`, and passing other arguments without an explicit keyword will result in an error or misinterpretation.\n",
      "  warnings.warn(\n"
>>>>>>> f1fd970dfb9ec5fcfe7b2c2668526e789a921626
     ]
    },
    {
     "data": {
<<<<<<< HEAD
      "image/png": "iVBORw0KGgoAAAANSUhEUgAAAYEAAAEGCAYAAACD7ClEAAAAOXRFWHRTb2Z0d2FyZQBNYXRwbG90bGliIHZlcnNpb24zLjMuNCwgaHR0cHM6Ly9tYXRwbG90bGliLm9yZy8QVMy6AAAACXBIWXMAAAsTAAALEwEAmpwYAAATI0lEQVR4nO3df2zcd33H8dfrWpeTYru0iWNHbYPrEVHIfqSdVVpBGWo7FlUIOn5E5Q9GN1CAiaUok1i3TjAhwRjTIsEo6iLaDiYGzfixZltbKKWsYyodbhto0wAJnTtSJU4wLE7dXetw7/1xZ+MEn3Mhd/f53n2eD8nK3X2//t77o3P88vf7+Xw/H0eEAAB5KqUuAACQDiEAABkjBAAgY4QAAGSMEACAjJ2ZuoBTtWrVqhgdHU1dBgB0lYcffvjHETF04utdFwKjo6OamJhIXQYAdBXbTy31OpeDACBjhAAAZIwQAICMEQIAkDFCAAAy1nWjg34Z1WpocnpWUzMVDQ+WNbpyhUolpy4LAJLr+RCoVkP37D6orTt2qTJXVbmvpG2bNmjj+hGCAED2ev5y0OT07EIASFJlrqqtO3Zpcno2cWUAkF7Ph8DUTGUhAOZV5qo6dLSSqCIAKI6eD4HhwbLKfcc3s9xX0uqBcqKKAKA4ej4ERleu0LZNGxaCYL5PYHTlisSVAUB6Pd8xXCpZG9eP6KItV+jQ0YpWDzA6CADm9XwISLUgGBvq19hQf+pSAKBQev5yEACgMUIAADJGCABAxggBAMhY0hCwfYHt+20/YXu37RtS1gMAuUk9OuiYpD+OiEdsD0h62Pa9EfFE4roAIAtJzwQi4kBEPFJ/fFTSHknnpawJAHJSmD4B26OSLpb0UOJSACAbhQgB2/2SvijpvRExs8T2zbYnbE8cPny48wUCQI9KHgK2+1QLgM9GxJeW2icitkfEeESMDw0NdbZAAOhhqUcHWdKtkvZExLaUtQBAjlKfCbxC0lslXWl7V/3rmsQ1AUA2kg4RjYhvSmI6TwBIJPWZAAAgIUIAADJGCABAxggBAMgYIQAAGSMEACBjhAAAZIwQAICMEQIAkDFCAAAyRggAQMYIAQDIGCEAABkjBAAgY4QAAGSMEACAjBECAJAxQgAAMkYIAEDGCAEAyBghAAAZIwQAIGOEAABkjBAAgIydmbqATqhWQ5PTs5qaqWh4sKzRlStUKjl1WQCQXM+HQLUaumf3QW3dsUuVuarKfSVt27RBG9ePEAQAstfzl4Mmp2cXAkCSKnNVbd2xS5PTs4krA4D0ej4EpmYqCwEwrzJX1aGjlUQVAUBx9HwIDA+WVe47vpnlvpJWD5QTVQQAxdHzITC6coW2bdqwEATzfQKjK1ckrgwA0uv5juFSyXrNS4d1x+bLdOBIRWvOLmv9mrPpFAYAZRAC1WroG3sP6bv7j6ga0p4DMzr8zHO68iXDBAGA7PV8CPzPT2a1d+oZbX/gyYUhojdctU4vHurX6Kr+1OUBQFI93ycwNfOcPnbf3uOGiH7svr2amnkucWUAkF7Ph8Ds88eWHCL67PPHElUEAMWRPARs32b7kO3H23H8F527YskhomvPZXQQACQPAUl/L2ljuw5+4aqlh4heuIoQAIDkHcMR8YDt0XYdv1SyNq4f0UVbrtChoxWtHmACOQCYV4QzgY6JSF0BABRL8jOBZtjeLGmzJK1du/aUvpdZRAGgsa44E4iI7RExHhHjQ0NDp/S9zCIKAI11RQicDmYRBYDGkoeA7c9JelDSS2zvt/32Vh5/9cDSs4gO9TOLKAAkD4GIeEtErImIvog4PyJubeXxzyhJN1y17rghojdctU5nJG85AKTXFR3Dp+PAkYo+8+BTevsrx2TXRgh95sGndPHaFzJ3EIDs9XwIDA+W9dNnn9fN9+9beI1FZQCgpucvirCoDAA01vNnAtwxDACN9XwISLUgGBvq19gQfQAAsFjPXw4CADRGCABAxggBAMgYIQAAGSMEACBjhAAAZIwQAICMEQIAkDFCAAAylsUdwyimajU0OT2rqZmKhgeZzgNIgRBAEqz9DBQDl4OQBGs/A8VACCAJ1n4GioEQQBLDg0uv/cxiP0BnEQJIgsV+gGKgYxhJsNgPUAyEAJJhsR8gPS4HAUDGCAEAyNiyl4Ns/62kaLQ9Ira0vCIAQMec7ExgQtLDksqSLpG0t/61QdJZba0MANB2y54JRMSnJcn2uyW9MiKO1Z/fIuk/2l8eAKCdmu0TOEfS4KLn/fXXAABdrNkhoh+R9Kjt+yVZ0qsk/UW7igIAdEZTIRARt9u+W9LL6y/9SUQcbF9ZAIBOaOpykG1LulrSb0TEnZLOsn1pWysDALRds30Cn5R0uaS31J8flXRzWyoCAHRMs30CL4+IS2w/KkkR8VPbDBEFgC7X7JnAnO0zVL9xzPaQpOry3wIAKLpmQ+Djkr4sabXtD0n6pqQPt60qAEBHnDQEbJck/bek90n6S0kHJF0bEf/UigJsb7T9fdv7bN/YimMCAJpz0j6BiKjavjkiLpb0vVa+ef0S082SflvSfknftr0zIp5o5fsAAJbW7OWg+2y/sT5UtJUulbQvIp6MiOclfV7S61v8HiioajX05OFn9OAPf6wnDz+jarXhXIUA2qTZ0UHvlLRV0s9sz68EHhExuMz3NOM8ST9a9Hy/fn5DGnpYtRq6Z/dBbd2xS5W56sLykhvXj7C6GNBBTZ0JRMRARJQioq/+eKAFAdA025ttT9ieOHz4cKfeFm00OT27EACSVJmrauuOXZqcnk1cGZCXpheVsf0G29ts/43ta1v0/k9LumDR8/Prrx0nIrZHxHhEjA8NDbXorZHS1ExlIQDmVeaqOnS00uA7ALRDs9NGfFLSuyQ9JulxSe+y3Yo7hr8taZ3tC+s3n10naWcLjouCGx4sq9x3/I9fua+k1QPlRBUBeWr2TOBKSb8TEbdHxO2Srqm/dlrq6xO8R9JXJO2RtCMidp/ucVF8oytXaNumDQtBMN8nMLpyReLKgLw02zG8T9JaSU/Vn19Qf+20RcRdku5qxbHQPUola+P6EV205QodOlrR6oGyRleuoFMY6LBmQ2BA0h7b/6Xa1BGXSpqwvVOSIuJ1baoPPaxUssaG+jU21J+6FCBbzYbA+9taBQAgiWYXlfn35bbbfjAiLm9NSQCATml6iOhJMKQDALpQq0KA+/0BoAu1KgQAAF2o2ZvF/sj2Ocvt0qJ6AAAd1OyZwLBq0zzvqM//f+Iv/be2uC4AQAc0O4Hcn0taJ+lWSddL2mv7w7Z/pb798bZVCAAZa/eU683eJ6CICNsHJR2UdEzSOZK+YPveiHhfS6sCAHRkyvVm+wRusP2wpI9K+k9JvxYR75b0m5Le2JJKAADH6cSU682eCZwr6Q0R8dTiF+tLT762ZdUAABYsN+V6q6ZbafaO4Q8ss21PSyoBABxnfsr1xUHQ6inXs7hPgLVsAXSjTky53nTHcLdiLVsA3aoTU673/JkAa9kC6GbzU65fNrZKY0P9Lf/jtedDgLVsAaCxng8B1rIFgMZ6PgRYyxYAGuv5juFSyXrNS4d1x+bLdOBIRWvOLmv9mrPpFAYAZRAC1Wroq3umGB0EAEvo+ctBjA4CgMZ6PgQYHQQAjfV8CDA6CAAa6/kQYHQQADTW8x3DnbjtGgC6Vc+HgPTz265bNfUqWqNaDU1Oz2pqpqLhQcIZSCGLEEDxMLEfUAw93yeAYmLoLlAMhACSYOguUAyEAJJg6C5QDIQAkmDoLlAMdAwjCYbuFhMjtvJDCCAZhu4WCyO28sTlIACSGLGVq2QhYPvNtnfbrtoeT1UHgBpGbOUp5ZnA45LeIOmBhDUAqGPEVp6ShUBE7ImI76d6fwDHY8RWnugYBrDgrDOtza8aUzWkkmvP0dvaGgK2vyZpZIlNN0XEnadwnM2SNkvS2rVrW1QdgMUmp2f1nn989Lh+gXJfSXdtuYIRXD2srSEQEVe36DjbJW2XpPHx8WjFMQEcb7mOYUKgdzFEFIAkOoZzlXKI6O/a3i/pckn/ZvsrqWoBQMdwrhzRXVdXxsfHY2JiInUZQE+anzaCqTx6j+2HI+IX7slidBCABUzlkR/6BAAgY4QAAGSMEACAjBECAJAxQgAAMkYIAEDGCAEAyBghAAAZIwQAIGOEAABkjBAAgIwRAgCQMUIAADJGCABAxggBAMgYIQAAGSMEACBjrCwGAAU2v+Tn1ExFw4OtX/KTEACAgqpWQ/fsPqitO3apMldVua+kbZs2aOP6kZYFAZeDAKCgJqdnFwJAkipzVW3dsUuT07Mtew9CAAAKamqmshAA8ypzVR06WmnZexACAFBQw4NllfuO/zVd7itp9UC5Ze9BCABAQY2uXKFtmzYsBMF8n8DoyhUtew86hgGgoEola+P6EV205QodOlrR6gFGBwFAVkola2yoX2ND/e05fluOCgDoCoQAAGSMEACAjBECAJAxQgAAMkYIAEDGCAEAyBghAAAZIwQAIGPJQsD2X9v+nu3v2v6y7RemqgUAcpXyTOBeSb8aEb8u6QeS/jRhLQCQpWQhEBFfjYhj9affknR+qloAIFdF6RP4A0l3py4CAHLT1llEbX9N0sgSm26KiDvr+9wk6Zikzy5znM2SNkvS2rVr21ApAOSprSEQEVcvt9329ZJeK+mqiIhljrNd0nZJGh8fb7gfAODUJFtPwPZGSe+T9FsR8WyqOgAgZyn7BD4haUDSvbZ32b4lYS0AkKVkZwIR8eJU7w0AqCnK6CAAQAJZrDFcrYYmp2c1NVPR8GDrF2oGgG7V8yFQrYbu2X1QW3fsUmWuqnJfSds2bdDG9SMEAYDs9fzloMnp2YUAkKTKXFVbd+zS5PRs4soAIL2eD4GpmcpCAMyrzFV16GglUUUAUBw9HwLDg2WV+45vZrmvpNUD5UQVAUBx9HwIjK5coW2bNiwEwXyfwOjKFYkrA4D0er5juFSyNq4f0UVbrtChoxWtHmB0EADM6/kQkGpBMDbUr7Gh/tSlAECh9PzlIABAY4QAAGSMEACAjBECAJAxQgAAMuZlFvQqJNuHJT2Vuo5f0ipJP05dRIv0Slt6pR0SbSmiIrXjRRExdOKLXRcC3cz2RESMp66jFXqlLb3SDom2FFE3tIPLQQCQMUIAADJGCHTW9tQFtFCvtKVX2iHRliIqfDvoEwCAjHEmAAAZIwQAIGOEQBvZPtf2vbb31v89p8F+P7O9q/61s9N1NmJ7o+3v295n+8Yltr/A9h317Q/ZHk1QZlOaaMv1tg8v+hzekaLOk7F9m+1Dth9vsN22P15v53dtX9LpGpvVRFtebfvIos/k/Z2usRm2L7B9v+0nbO+2fcMS+xT3c4kIvtr0Jemjkm6sP75R0l812O+Z1LUuUdMZkn4oaUzSWZK+I+llJ+zzh5JuqT++TtIdqes+jbZcL+kTqWttoi2vknSJpMcbbL9G0t2SLOkySQ+lrvk02vJqSf+aus4m2rFG0iX1xwOSfrDEz1dhPxfOBNrr9ZI+XX/8aUnXpivllF0qaV9EPBkRz0v6vGrtWWxx+74g6SrbRVytp5m2dIWIeEDST5bZ5fWSPhM135L0QttrOlPdqWmiLV0hIg5ExCP1x0cl7ZF03gm7FfZzIQTaazgiDtQfH5Q03GC/su0J29+yfW1nSjup8yT9aNHz/frFH+yFfSLimKQjklZ2pLpT00xbJOmN9VP1L9i+oDOltVyzbe0Wl9v+ju27ba9PXczJ1C+JXizpoRM2FfZzyWJlsXay/TVJI0tsumnxk4gI243G474oIp62PSbp67Yfi4gftrpWLOtfJH0uIp6z/U7VznCuTFxT7h5R7f/GM7avkfTPktalLakx2/2SvijpvRExk7qeZhECpykirm60zfaU7TURcaB+6neowTGerv/7pO1vqPaXROoQeFrS4r+Gz6+/ttQ++22fKelsSdOdKe+UnLQtEbG47k+p1p/TjZr53LrC4l+kEXGX7U/aXhURRZmQbYHtPtUC4LMR8aUldins58LloPbaKelt9cdvk3TniTvYPsf2C+qPV0l6haQnOlZhY9+WtM72hbbPUq3j98SRS4vb9yZJX496L1jBnLQtJ1yffZ1q13W70U5Jv1cfjXKZpCOLLkl2Fdsj831Mti9V7fdV4f7IqNd4q6Q9EbGtwW6F/Vw4E2ivj0jaYfvtqk1/vUmSbI9LeldEvEPSSyX9ne2qaj/kH4mI5CEQEcdsv0fSV1QbXXNbROy2/UFJExGxU7Uf/H+wvU+1Dr7r0lXcWJNt2WL7dZKOqdaW65MVvAzbn1Nt1Mwq2/slfUBSnyRFxC2S7lJtJMo+Sc9K+v00lZ5cE215k6R32z4m6f8kXVfQPzJeIemtkh6zvav+2p9JWisV/3Nh2ggAyBiXgwAgY4QAAGSMEACAjBECAJAxQgAAMkYIAEDGCAEAyBghAJwm2x+0/d5Fzz+01JzyQBFxsxhwmuozR34pIi6xXZK0V9KlJ8xHBBQS00YApykiJm1P275YtenCHyUA0C0IAaA1PqXafEMjkm5LWwrQPC4HAS1Qn530MdUmQFsXET9LXBLQFM4EgBaIiOdt3y/pfwkAdBNCAGiBeofwZZLenLoW4FQwRBQ4TbZfpto88fdFxN7U9QCngj4BAMgYZwIAkDFCAAAyRggAQMYIAQDIGCEAABn7f0ICf591AVqpAAAAAElFTkSuQmCC\n",
=======
      "image/png": "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\n",
>>>>>>> f1fd970dfb9ec5fcfe7b2c2668526e789a921626
      "text/plain": [
       "<Figure size 432x288 with 1 Axes>"
      ]
     },
     "metadata": {
      "needs_background": "light"
     },
     "output_type": "display_data"
    },
    {
     "data": {
      "text/html": [
       "<div>\n",
       "<style scoped>\n",
       "    .dataframe tbody tr th:only-of-type {\n",
       "        vertical-align: middle;\n",
       "    }\n",
       "\n",
       "    .dataframe tbody tr th {\n",
       "        vertical-align: top;\n",
       "    }\n",
       "\n",
       "    .dataframe thead th {\n",
       "        text-align: right;\n",
       "    }\n",
       "</style>\n",
       "<table border=\"1\" class=\"dataframe\">\n",
       "  <thead>\n",
       "    <tr style=\"text-align: right;\">\n",
       "      <th></th>\n",
       "      <th>y_pred</th>\n",
       "    </tr>\n",
       "    <tr>\n",
       "      <th>y</th>\n",
       "      <th></th>\n",
       "    </tr>\n",
       "  </thead>\n",
       "  <tbody>\n",
       "    <tr>\n",
<<<<<<< HEAD
       "      <th>-0.8125</th>\n",
       "      <td>0.472212</td>\n",
       "    </tr>\n",
       "    <tr>\n",
       "      <th>0.1875</th>\n",
       "      <td>-0.106401</td>\n",
       "    </tr>\n",
       "    <tr>\n",
       "      <th>1.1875</th>\n",
       "      <td>-0.977924</td>\n",
       "    </tr>\n",
       "    <tr>\n",
       "      <th>2.1875</th>\n",
       "      <td>-0.987429</td>\n",
=======
       "      <th>-1.375</th>\n",
       "      <td>0.677456</td>\n",
       "    </tr>\n",
       "    <tr>\n",
       "      <th>-0.375</th>\n",
       "      <td>-0.026542</td>\n",
       "    </tr>\n",
       "    <tr>\n",
       "      <th>0.625</th>\n",
       "      <td>-0.021202</td>\n",
       "    </tr>\n",
       "    <tr>\n",
       "      <th>1.625</th>\n",
       "      <td>-0.883556</td>\n",
>>>>>>> f1fd970dfb9ec5fcfe7b2c2668526e789a921626
       "    </tr>\n",
       "  </tbody>\n",
       "</table>\n",
       "</div>"
      ],
      "text/plain": [
<<<<<<< HEAD
       "           y_pred\n",
       "y                \n",
       "-0.8125  0.472212\n",
       " 0.1875 -0.106401\n",
       " 1.1875 -0.977924\n",
       " 2.1875 -0.987429"
=======
       "          y_pred\n",
       "y               \n",
       "-1.375  0.677456\n",
       "-0.375 -0.026542\n",
       " 0.625 -0.021202\n",
       " 1.625 -0.883556"
>>>>>>> f1fd970dfb9ec5fcfe7b2c2668526e789a921626
      ]
     },
     "metadata": {},
     "output_type": "display_data"
    },
    {
     "name": "stderr",
     "output_type": "stream",
     "text": [
      "/home/bsmith16/.conda/envs/neuralsignature/lib/python3.8/site-packages/seaborn/_decorators.py:36: FutureWarning: Pass the following variables as keyword args: x, y. From version 0.12, the only valid positional argument will be `data`, and passing other arguments without an explicit keyword will result in an error or misinterpretation.\n",
      "  warnings.warn(\n"
     ]
    },
    {
     "data": {
<<<<<<< HEAD
      "image/png": "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\n",
=======
      "image/png": "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\n",
>>>>>>> f1fd970dfb9ec5fcfe7b2c2668526e789a921626
      "text/plain": [
       "<Figure size 432x288 with 1 Axes>"
      ]
     },
     "metadata": {
      "needs_background": "light"
     },
     "output_type": "display_data"
    },
    {
     "data": {
      "text/html": [
       "<div>\n",
       "<style scoped>\n",
       "    .dataframe tbody tr th:only-of-type {\n",
       "        vertical-align: middle;\n",
       "    }\n",
       "\n",
       "    .dataframe tbody tr th {\n",
       "        vertical-align: top;\n",
       "    }\n",
       "\n",
       "    .dataframe thead th {\n",
       "        text-align: right;\n",
       "    }\n",
       "</style>\n",
       "<table border=\"1\" class=\"dataframe\">\n",
       "  <thead>\n",
       "    <tr style=\"text-align: right;\">\n",
       "      <th></th>\n",
       "      <th>y_pred</th>\n",
       "    </tr>\n",
       "    <tr>\n",
       "      <th>y</th>\n",
       "      <th></th>\n",
       "    </tr>\n",
       "  </thead>\n",
       "  <tbody>\n",
       "    <tr>\n",
<<<<<<< HEAD
       "      <th>-1.4375</th>\n",
       "      <td>0.381338</td>\n",
       "    </tr>\n",
       "    <tr>\n",
       "      <th>-0.4375</th>\n",
       "      <td>0.779932</td>\n",
       "    </tr>\n",
       "    <tr>\n",
       "      <th>0.5625</th>\n",
       "      <td>-0.505291</td>\n",
       "    </tr>\n",
       "    <tr>\n",
       "      <th>1.5625</th>\n",
       "      <td>-0.556330</td>\n",
=======
       "      <th>-0.75</th>\n",
       "      <td>0.162018</td>\n",
       "    </tr>\n",
       "    <tr>\n",
       "      <th>0.25</th>\n",
       "      <td>0.308981</td>\n",
       "    </tr>\n",
       "    <tr>\n",
       "      <th>1.25</th>\n",
       "      <td>-0.164169</td>\n",
       "    </tr>\n",
       "    <tr>\n",
       "      <th>2.25</th>\n",
       "      <td>-1.272482</td>\n",
>>>>>>> f1fd970dfb9ec5fcfe7b2c2668526e789a921626
       "    </tr>\n",
       "  </tbody>\n",
       "</table>\n",
       "</div>"
      ],
      "text/plain": [
<<<<<<< HEAD
       "           y_pred\n",
       "y                \n",
       "-1.4375  0.381338\n",
       "-0.4375  0.779932\n",
       " 0.5625 -0.505291\n",
       " 1.5625 -0.556330"
=======
       "         y_pred\n",
       "y              \n",
       "-0.75  0.162018\n",
       " 0.25  0.308981\n",
       " 1.25 -0.164169\n",
       " 2.25 -1.272482"
>>>>>>> f1fd970dfb9ec5fcfe7b2c2668526e789a921626
      ]
     },
     "metadata": {},
     "output_type": "display_data"
    },
    {
<<<<<<< HEAD
     "name": "stdout",
     "output_type": "stream",
     "text": [
      "Spearman's rho within subject and run:\n",
      "0.1775461353147024\n",
      "Spearman's rho within subject only:\n",
      "0.17560625767553578\n",
      "Spearman's rho across subjects:\n",
      "0.1673160815634501\n"
     ]
    }
   ],
   "source": [
    "within_group_predictions_sp = within_group_performance(\n",
    "    results,spearmanr_cor_func,'result_group',obs_col_name='y',pred_col_name='y_pred') \n",
    "rho_score_within_subj = np.mean(within_group_predictions_sp)\n",
    "print(\"Spearman's rho within subject and run:\")\n",
    "print(rho_score_within_subj)\n",
    "\n",
    "within_subj_predictions_sp = within_group_performance(results,spearmanr_cor_func,'subject',obs_col_name='y',pred_col_name='y_pred') \n",
    "rho_score_within_subj_run = np.mean(within_subj_predictions_sp)\n",
    "print(\"Spearman's rho within subject only:\")\n",
    "print(rho_score_within_subj_run)\n",
    "\n",
    "\n",
    "\n",
    "print(\"Spearman's rho across subjects:\")\n",
    "print(spearmanr(results['y'],results['y_pred'])[0])"
   ]
  },
  {
   "cell_type": "markdown",
   "id": "inside-place",
   "metadata": {},
   "source": [
    "## ns_2s_split_*_40subs"
   ]
  },
  {
   "cell_type": "code",
   "execution_count": 12,
   "id": "virgin-violation",
   "metadata": {},
   "outputs": [
    {
=======
>>>>>>> f1fd970dfb9ec5fcfe7b2c2668526e789a921626
     "name": "stderr",
     "output_type": "stream",
     "text": [
      "/home/bsmith16/.conda/envs/neuralsignature/lib/python3.8/site-packages/seaborn/_decorators.py:36: FutureWarning: Pass the following variables as keyword args: x, y. From version 0.12, the only valid positional argument will be `data`, and passing other arguments without an explicit keyword will result in an error or misinterpretation.\n",
      "  warnings.warn(\n"
     ]
    },
    {
     "data": {
<<<<<<< HEAD
      "image/png": "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\n",
=======
      "image/png": "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\n",
>>>>>>> f1fd970dfb9ec5fcfe7b2c2668526e789a921626
      "text/plain": [
       "<Figure size 432x288 with 1 Axes>"
      ]
     },
     "metadata": {
      "needs_background": "light"
     },
     "output_type": "display_data"
    },
    {
     "data": {
      "text/html": [
       "<div>\n",
       "<style scoped>\n",
       "    .dataframe tbody tr th:only-of-type {\n",
       "        vertical-align: middle;\n",
       "    }\n",
       "\n",
       "    .dataframe tbody tr th {\n",
       "        vertical-align: top;\n",
       "    }\n",
       "\n",
       "    .dataframe thead th {\n",
       "        text-align: right;\n",
       "    }\n",
       "</style>\n",
       "<table border=\"1\" class=\"dataframe\">\n",
       "  <thead>\n",
       "    <tr style=\"text-align: right;\">\n",
       "      <th></th>\n",
       "      <th>y_pred</th>\n",
       "    </tr>\n",
       "    <tr>\n",
       "      <th>y</th>\n",
       "      <th></th>\n",
       "    </tr>\n",
       "  </thead>\n",
       "  <tbody>\n",
       "    <tr>\n",
<<<<<<< HEAD
       "      <th>-0.8125</th>\n",
       "      <td>0.238212</td>\n",
       "    </tr>\n",
       "    <tr>\n",
       "      <th>0.1875</th>\n",
       "      <td>0.020276</td>\n",
       "    </tr>\n",
       "    <tr>\n",
       "      <th>1.1875</th>\n",
       "      <td>-0.423308</td>\n",
       "    </tr>\n",
       "    <tr>\n",
       "      <th>2.1875</th>\n",
       "      <td>-0.679061</td>\n",
=======
       "      <th>-2.375</th>\n",
       "      <td>0.777107</td>\n",
       "    </tr>\n",
       "    <tr>\n",
       "      <th>-0.375</th>\n",
       "      <td>0.051955</td>\n",
       "    </tr>\n",
       "    <tr>\n",
       "      <th>0.625</th>\n",
       "      <td>-0.176203</td>\n",
>>>>>>> f1fd970dfb9ec5fcfe7b2c2668526e789a921626
       "    </tr>\n",
       "  </tbody>\n",
       "</table>\n",
       "</div>"
      ],
      "text/plain": [
<<<<<<< HEAD
       "           y_pred\n",
       "y                \n",
       "-0.8125  0.238212\n",
       " 0.1875  0.020276\n",
       " 1.1875 -0.423308\n",
       " 2.1875 -0.679061"
=======
       "          y_pred\n",
       "y               \n",
       "-2.375  0.777107\n",
       "-0.375  0.051955\n",
       " 0.625 -0.176203"
>>>>>>> f1fd970dfb9ec5fcfe7b2c2668526e789a921626
      ]
     },
     "metadata": {},
     "output_type": "display_data"
    },
    {
<<<<<<< HEAD
     "name": "stderr",
     "output_type": "stream",
     "text": [
      "/home/bsmith16/.conda/envs/neuralsignature/lib/python3.8/site-packages/seaborn/_decorators.py:36: FutureWarning: Pass the following variables as keyword args: x, y. From version 0.12, the only valid positional argument will be `data`, and passing other arguments without an explicit keyword will result in an error or misinterpretation.\n",
      "  warnings.warn(\n"
     ]
    },
    {
     "data": {
      "image/png": "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\n",
      "text/plain": [
       "<Figure size 432x288 with 1 Axes>"
      ]
     },
     "metadata": {
      "needs_background": "light"
     },
     "output_type": "display_data"
    },
    {
     "data": {
      "text/html": [
       "<div>\n",
       "<style scoped>\n",
       "    .dataframe tbody tr th:only-of-type {\n",
       "        vertical-align: middle;\n",
       "    }\n",
       "\n",
       "    .dataframe tbody tr th {\n",
       "        vertical-align: top;\n",
       "    }\n",
       "\n",
       "    .dataframe thead th {\n",
       "        text-align: right;\n",
       "    }\n",
       "</style>\n",
       "<table border=\"1\" class=\"dataframe\">\n",
       "  <thead>\n",
       "    <tr style=\"text-align: right;\">\n",
       "      <th></th>\n",
       "      <th>y_pred</th>\n",
       "    </tr>\n",
       "    <tr>\n",
       "      <th>y</th>\n",
       "      <th></th>\n",
       "    </tr>\n",
       "  </thead>\n",
       "  <tbody>\n",
       "    <tr>\n",
       "      <th>-1.642857</th>\n",
       "      <td>0.899667</td>\n",
       "    </tr>\n",
       "    <tr>\n",
       "      <th>-0.642857</th>\n",
       "      <td>-0.224108</td>\n",
       "    </tr>\n",
       "    <tr>\n",
       "      <th>0.357143</th>\n",
       "      <td>0.018454</td>\n",
       "    </tr>\n",
       "    <tr>\n",
       "      <th>1.357143</th>\n",
       "      <td>-0.787171</td>\n",
       "    </tr>\n",
       "  </tbody>\n",
       "</table>\n",
       "</div>"
      ],
      "text/plain": [
       "             y_pred\n",
       "y                  \n",
       "-1.642857  0.899667\n",
       "-0.642857 -0.224108\n",
       " 0.357143  0.018454\n",
       " 1.357143 -0.787171"
      ]
     },
     "metadata": {},
     "output_type": "display_data"
    },
=======
     "name": "stdout",
     "output_type": "stream",
     "text": [
      "Pearson's R^2 within subject and run:\n",
      "0.0015236721319045932\n",
      "Pearson's R^2 within subject only:\n",
      "0.0011288811686392237\n",
      "Pearson's R^2 across subjects:\n",
      "0.0006871510163054083\n"
     ]
    }
   ],
   "source": [
    "loocv_results = pickle.load(open(data_path + \"train_test_results_ns_2s_split_0_40subs.pkl\",'rb'))\n",
    "test_scores_same=loocv_results[0]\n",
    "tt_results=loocv_results[1]\n",
    "results_by_trainset_item=loocv_results[2]\n",
    "\n",
    "results = pd.concat([metadata,results_by_trainset_item],axis=1)\n",
    "results['result_group'] = results.group + \"_\" + results.run\n",
    "#trim subjects where we don't have data. this will be 20 because there's 20 subjects in the metadata but only 40 being processed.\n",
    "results = results.loc[pd.isnull(results.result_group)==False,]\n",
    "\n",
    "\n",
    "within_group_predictions = within_group_performance(\n",
    "    results,pearsonr_cor_func,'result_group',obs_col_name='y',pred_col_name='y_pred') \n",
    "r2_score_within_subj = math.pow(np.mean(within_group_predictions),2)\n",
    "print(\"Pearson's R^2 within subject and run:\")\n",
    "print(r2_score_within_subj)\n",
    "\n",
    "within_subj_predictions = within_group_performance(results,pearsonr_cor_func,'subject',obs_col_name='y',pred_col_name='y_pred') \n",
    "r2_score_within_subj_run = math.pow(np.mean(within_subj_predictions),2)\n",
    "print(\"Pearson's R^2 within subject only:\")\n",
    "print(r2_score_within_subj_run)\n",
    "\n",
    "\n",
    "\n",
    "print(\"Pearson's R^2 across subjects:\")\n",
    "print(math.pow(pearsonr(results['y'],results['y_pred'])[0],2))"
   ]
  },
  {
   "cell_type": "code",
   "execution_count": 49,
   "id": "arranged-breakdown",
   "metadata": {},
   "outputs": [
>>>>>>> f1fd970dfb9ec5fcfe7b2c2668526e789a921626
    {
     "name": "stderr",
     "output_type": "stream",
     "text": [
      "/home/bsmith16/.conda/envs/neuralsignature/lib/python3.8/site-packages/seaborn/_decorators.py:36: FutureWarning: Pass the following variables as keyword args: x, y. From version 0.12, the only valid positional argument will be `data`, and passing other arguments without an explicit keyword will result in an error or misinterpretation.\n",
      "  warnings.warn(\n"
     ]
    },
    {
     "data": {
<<<<<<< HEAD
      "image/png": "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\n",
=======
      "image/png": "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\n",
>>>>>>> f1fd970dfb9ec5fcfe7b2c2668526e789a921626
      "text/plain": [
       "<Figure size 432x288 with 1 Axes>"
      ]
     },
     "metadata": {
      "needs_background": "light"
     },
     "output_type": "display_data"
    },
    {
     "data": {
      "text/html": [
       "<div>\n",
       "<style scoped>\n",
       "    .dataframe tbody tr th:only-of-type {\n",
       "        vertical-align: middle;\n",
       "    }\n",
       "\n",
       "    .dataframe tbody tr th {\n",
       "        vertical-align: top;\n",
       "    }\n",
       "\n",
       "    .dataframe thead th {\n",
       "        text-align: right;\n",
       "    }\n",
       "</style>\n",
       "<table border=\"1\" class=\"dataframe\">\n",
       "  <thead>\n",
       "    <tr style=\"text-align: right;\">\n",
       "      <th></th>\n",
       "      <th>y_pred</th>\n",
       "    </tr>\n",
       "    <tr>\n",
       "      <th>y</th>\n",
       "      <th></th>\n",
       "    </tr>\n",
       "  </thead>\n",
       "  <tbody>\n",
       "    <tr>\n",
<<<<<<< HEAD
       "      <th>-1.375</th>\n",
       "      <td>0.677456</td>\n",
       "    </tr>\n",
       "    <tr>\n",
       "      <th>-0.375</th>\n",
       "      <td>-0.026542</td>\n",
       "    </tr>\n",
       "    <tr>\n",
       "      <th>0.625</th>\n",
       "      <td>-0.021202</td>\n",
       "    </tr>\n",
       "    <tr>\n",
       "      <th>1.625</th>\n",
       "      <td>-0.883556</td>\n",
       "    </tr>\n",
       "  </tbody>\n",
       "</table>\n",
       "</div>"
      ],
      "text/plain": [
       "          y_pred\n",
       "y               \n",
       "-1.375  0.677456\n",
       "-0.375 -0.026542\n",
       " 0.625 -0.021202\n",
       " 1.625 -0.883556"
      ]
     },
     "metadata": {},
     "output_type": "display_data"
    },
    {
     "name": "stderr",
     "output_type": "stream",
     "text": [
      "/home/bsmith16/.conda/envs/neuralsignature/lib/python3.8/site-packages/seaborn/_decorators.py:36: FutureWarning: Pass the following variables as keyword args: x, y. From version 0.12, the only valid positional argument will be `data`, and passing other arguments without an explicit keyword will result in an error or misinterpretation.\n",
      "  warnings.warn(\n"
     ]
    },
    {
     "data": {
      "image/png": "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\n",
      "text/plain": [
       "<Figure size 432x288 with 1 Axes>"
      ]
     },
     "metadata": {
      "needs_background": "light"
     },
     "output_type": "display_data"
    },
    {
     "data": {
      "text/html": [
       "<div>\n",
       "<style scoped>\n",
       "    .dataframe tbody tr th:only-of-type {\n",
       "        vertical-align: middle;\n",
       "    }\n",
       "\n",
       "    .dataframe tbody tr th {\n",
       "        vertical-align: top;\n",
       "    }\n",
       "\n",
       "    .dataframe thead th {\n",
       "        text-align: right;\n",
       "    }\n",
       "</style>\n",
       "<table border=\"1\" class=\"dataframe\">\n",
       "  <thead>\n",
       "    <tr style=\"text-align: right;\">\n",
       "      <th></th>\n",
       "      <th>y_pred</th>\n",
       "    </tr>\n",
       "    <tr>\n",
       "      <th>y</th>\n",
       "      <th></th>\n",
       "    </tr>\n",
       "  </thead>\n",
       "  <tbody>\n",
       "    <tr>\n",
       "      <th>-0.75</th>\n",
       "      <td>0.162018</td>\n",
       "    </tr>\n",
       "    <tr>\n",
       "      <th>0.25</th>\n",
       "      <td>0.308981</td>\n",
       "    </tr>\n",
       "    <tr>\n",
       "      <th>1.25</th>\n",
       "      <td>-0.164169</td>\n",
       "    </tr>\n",
       "    <tr>\n",
       "      <th>2.25</th>\n",
       "      <td>-1.272482</td>\n",
       "    </tr>\n",
       "  </tbody>\n",
       "</table>\n",
       "</div>"
      ],
      "text/plain": [
       "         y_pred\n",
       "y              \n",
       "-0.75  0.162018\n",
       " 0.25  0.308981\n",
       " 1.25 -0.164169\n",
       " 2.25 -1.272482"
      ]
     },
     "metadata": {},
     "output_type": "display_data"
    },
    {
     "name": "stderr",
     "output_type": "stream",
     "text": [
      "/home/bsmith16/.conda/envs/neuralsignature/lib/python3.8/site-packages/seaborn/_decorators.py:36: FutureWarning: Pass the following variables as keyword args: x, y. From version 0.12, the only valid positional argument will be `data`, and passing other arguments without an explicit keyword will result in an error or misinterpretation.\n",
      "  warnings.warn(\n"
     ]
    },
    {
     "data": {
      "image/png": "iVBORw0KGgoAAAANSUhEUgAAAZEAAAEGCAYAAACkQqisAAAAOXRFWHRTb2Z0d2FyZQBNYXRwbG90bGliIHZlcnNpb24zLjMuNCwgaHR0cHM6Ly9tYXRwbG90bGliLm9yZy8QVMy6AAAACXBIWXMAAAsTAAALEwEAmpwYAAAbIklEQVR4nO3df5Ac5X3n8fdnhMRW6YcRq9VK5teyZV0EOt8J3wTbZxPn+OWNK4WITRThyln4cCm5M5HvVHEQxZWdIscdOHXiKmcSR4Wx5VQCyNRxbCoyMgiIryrgaDkvCIGxFnk5pOjHsvyQEF6QmO/9Mb3yaLWzO2r1TM/sfl5VU9v99NPd396R9FX38/TzKCIwMzNLo5B3AGZm1rqcRMzMLDUnETMzS81JxMzMUnMSMTOz1M7IO4BGW7BgQXR1deUdhplZS3nmmWdei4iOseXTLol0dXXR19eXdxhmZi1F0ivjlftxlpmZpeYkYmZmqTmJmJlZak4iZmaWmpOImZmlNu16Z6VRKgWDw0c4cGiEznltdLXPplBQ3mGZmeXOSWQSpVLwyM79rNvcz8jREm0zC2xYuZyeZYucSMxs2vPjrEkMDh85nkAARo6WWLe5n8HhIzlHZmaWPyeRSRw4NHI8gYwaOVri4OGRnCIyM2seTiKT6JzXRtvME39NbTMLLJzbllNEZmbNw0lkEl3ts9mwcvnxRDLaJtLVPjvnyMzM8ueG9UkUCqJn2SKWrr2Mg4dHWDjXvbPMzEY5idSgUBDdHXPo7piTdyhmZk3Fj7PMzCw1JxEzM0st9yQi6V5JByU9X2W7JP2ZpAFJz0n6SMW21ZJ2JZ/VjYvazMygCZII8F2gZ4LtvwEsST5rgL8AkHQ28HXgo8ClwNclza9rpGZmdoLck0hE/Ah4fYIqK4DvRdnTwFmSFgOfBh6NiNcj4g3gUSZORmZmlrHck0gNzgFerVjfk5RVKz+JpDWS+iT1DQ0N1S1QM7PpphWSyGmLiI0RUYyIYkfHSfPMm5lZSq2QRPYC51Wsn5uUVSs3M7MGaYUk0gt8Ieml9THgrYjYB2wFrpY0P2lQvzopMzOzBsn9jXVJ9wG/DiyQtIdyj6uZABHxLWAL8BlgAHgH+GKy7XVJfwJsTw51W0RM1EBvZmYZyz2JRMT1k2wP4MtVtt0L3FuPuMzMbHKt8DjLzMyalJOImZml5iRiZmapOYmYmVlqTiJmZpaak4iZmaXmJGJmZqk5iZiZWWpOImZmlpqTiJmZpeYkYmZmqTmJmJlZak4iZmaWmpOImZml5iRiZmap5Z5EJPVIeknSgKT142y/S1J/8vmZpDcrtr1fsa23oYGbmVm+k1JJmgHcDVwF7AG2S+qNiBdG60TEf6qo/wfAJRWH+EVELG9QuGZmNkbedyKXAgMRsTsi3gPuB1ZMUP964L6GRGZmZpPKO4mcA7xasb4nKTuJpAuAC4HHK4rbJPVJelrStXWL0szMxpX7HOunYBXwYES8X1F2QUTsldQNPC5pR0S8PHZHSWuANQDnn39+Y6I1M5sG8r4T2QucV7F+blI2nlWMeZQVEXuTn7uBJzmxvaSy3saIKEZEsaOj43RjNjNrGaVSsHvobZ56+TV2D71NqRSZHj/vO5HtwBJJF1JOHquAz4+tJGkpMB94qqJsPvBORLwraQHwCeAbDYnazKwFlErBIzv3s25zPyNHS7TNLLBh5XJ6li2iUFAm58j1TiQijgE3AVuBF4HNEbFT0m2Srqmougq4PyIqU+hFQJ+kZ4EngDsqe3WZmU13g8NHjicQgJGjJdZt7mdw+Ehm58j7ToSI2AJsGVP2tTHrfzzOfv8AfLiuwZmZtbADh0aOJ5BRI0dLHDw8QnfHnEzOkXebiJmZ1UnnvDbaZp74z3zbzAIL57Zldg4nETOzKaqrfTYbVi4/nkhG20S62mdndo7cH2eZmVl9FAqiZ9kilq69jIOHR1g4t42u9tmZNaqDk4iZ2ZRWKIjujjmZtYGcdPy6HNXMzKYFJxEzM0vNScTMzFJzEjEzs9ScRMzMLDUnETMzS81JxMzMUnMSMTOz1JxEzMwsNScRMzNLzUnEzMxScxIxM7PUck8iknokvSRpQNL6cbbfIGlIUn/y+VLFttWSdiWf1Y2N3MzMch3FV9IM4G7gKmAPsF1S7zjT3D4QETeN2fds4OtAEQjgmWTfNxoQupmZkf+dyKXAQETsjoj3gPuBFTXu+2ng0Yh4PUkcjwI9dYrTzMzGkXcSOQd4tWJ9T1I21uckPSfpQUnnneK+SFojqU9S39DQUBZxm5kZ+SeRWvwt0BUR/4Ly3camUz1ARGyMiGJEFDs6OjIP0Mxsuso7iewFzqtYPzcpOy4ihiPi3WT1HuBf1bpvVkqlYPfQ2zz18mvsHnqbUinqcRozs5aT9/S424Elki6knABWAZ+vrCBpcUTsS1avAV5MlrcC/1XS/GT9auCWrAMslYJHdu5n3eZ+Ro6Wjk9037NsUabzFJuZtaJc70Qi4hhwE+WE8CKwOSJ2SrpN0jVJtbWSdkp6FlgL3JDs+zrwJ5QT0XbgtqQsU4PDR44nEICRoyXWbe5ncPhI1qcyM2s5ed+JEBFbgC1jyr5WsXwLVe4wIuJe4N56xnfg0MjxBDJq5GiJg4dH6jbxvZlZq8i7TaTpdc5ro23mib+mtpkFFs5tyykiM7Pm4SQyia722WxYufx4IhltE+lqn51zZGZm+cv9cVazKxREz7JFLF17GQcPj7Bwbhtd7bPdqG5mhpNITQoF0d0xx20gZmZjOImYWWZKpWBw+AgHDo3QOc937dOBk4iZZcLvVE1Pblg3s0z4narpyUnEzDIx0TtVNnU5iZhZJvxO1fTkJGJmmfA7VdOTG9bNLBN+p2p6chIxs8z4narpx4+zzMwsNd+JmFlm/LLh9OMkYmaZ8MuG05MfZ5lZJvyy4fSUexKR1CPpJUkDktaPs32dpBckPSdpm6QLKra9L6k/+fQ2NnIzq+SXDaenXB9nSZoB3A1cBewBtkvqjYgXKqr9BChGxDuS/j3wDeB3km2/iIjljYzZzMY3+rJhZSLxy4ZTX953IpcCAxGxOyLeA+4HVlRWiIgnIuKdZPVp4NwGx2hmNfDLhtNT3g3r5wCvVqzvAT46Qf0bgR9UrLdJ6gOOAXdExP8ebydJa4A1AOeff/7pxGtmVfhlw+kp7yRSM0m/CxSBT1UUXxAReyV1A49L2hERL4/dNyI2AhsBisViNCRgs2nILxs2n3p3u54wiUj6n0DVf3QjYu1pnn8vcF7F+rlJ2dg4rgRuBT4VEe9WnH9v8nO3pCeBS4CTkoiZ2XTUiG7Xk7WJ9AHPAG3AR4BdyWc5MCuD828Hlki6UNIsYBVwQi8rSZcAfwlcExEHK8rnSzozWV4AfAKobJA3M5vWGtHtesI7kYjYBJD0ivpkRBxL1r8F/J/TPXlEHJN0E7AVmAHcGxE7Jd0G9EVEL/CnwBzg+5IA/l9EXANcBPylpBLlZHjHmF5dZmbT2kTdrrN65Fhrm8h8YB7werI+Jyk7bRGxBdgypuxrFctXVtnvH4APZxGDmdlU1Ihu17UmkTuAn0h6AhDwa8AfZxaFmZllrqt9Nt/8/CU8t+ctSgEzBB8+9wOZdruuKYlExHck/YBfdr+9OSL2ZxaFmZnVxXvHgo0/2n1Cw3qWanrZUOXGiCuBfxkRDwOzJF2aaSRmZpapRjSs1/rG+p8DHweuT9YPUx6uxMzMmlQjxjOrNYl8NCK+DIwARMQbZNPF18zM6mS0Yb1S1g3rtSaRo8lgiQEgqQMoTbyLmZnlqRHjmdXaO+vPgIeAhZJuB64D/nNmUZiZWV3MOkOs+bVuSgEFldezNGkSkVQAfg78EXAF5S6+10bEi5lGYmYtz9PjNpfB4SPc9Dc/Oek9kS1rL2vcy4YRUZJ0d0RcAvw0k7Oa2ZTj6XGbTyPeWK+1TWSbpM8lXX3NzE7i6XGbTzM1rP8e8H3gPUmHk8+hzKIws5bn6XGbT9M0rEfE3MzOaGZTkqfHbT6NmCis5ulxJX1W0gZJ/13StZlFYGZTgqfHbU6jE4V9rHsB3R1zMm+fqulORNKfAx8C7kuKfl/SVckLiGZmnh53mqr1PZHLgYsiYvRlw03AzrpFZWYtydPjTj+1Ps4aAM6vWD8vKTMzs2ms1iQyF3hR0pPJnCIvAPMk9UrqnWTfCUnqkfSSpAFJ68fZfqakB5LtP5bUVbHtlqT8JUmfPp04zMzs1NX6OOtrk1c5dcl4XHcDVwF7gO2SesdMc3sj8EZEfEjSKuBO4HckXUx5TvZlwAeBxyT9s4h4vx6xmpnZyWrt4vv3E22X9FREfDzF+S8FBiJid3Kc+4EVlO90Rq3gl7MoPgh8M3npcQVwf0S8C/xc0kByvKdSxGFmZinU3MV3Emk7gp8DvFqxvicpG7dORBwD3gLaa9wXAElrJPVJ6hsaGkoZqpmZjZVVEomMjlMXEbExIooRUezo6Mg7HDOzKSOrJJLWXso9vUadm5SNW0fSGcAHgOEa9zUzszqqdY71P5A0f6IqKc+/HVgi6UJJsyg3lI/t7dULrE6WrwMeT95X6QVWJb23LgSWAP+YMg4zM0uh1t5ZnZR7Tv1f4F5g6+iLh4l/m+bkEXFM0k3AVmAGcG9E7JR0G9AXEb3At4G/ShrOX6ecaEjqbabcCH8M+LJ7ZpmZNZZOzAUTVCz3iLoa+CJQBDYD346Il+sXXvaKxWL09fXlHYaZWUuR9ExEFMeW19wmktx57E8+x4D5wIOSvpFZlGZm1lJqHYDxK8AXgNeAe4CvRsTRZOrcXZSnzjUzs2mm1jaRs4HPRsQrlYXJ1Lm/mX1YZmbWCmp9Y/3rE2x7MbtwzMysleT9noiZmbUwJxEzM0vNScTMzFJzEjEzs9ScRMzMLLVau/iamVkLKpWCweEjHDg0Que8NrraZ1MopB3u8GROImZmU1SpFDyycz/rNvczcrRE28wCG1Yup2fZoswSiR9nmZlNUYPDR44nEICRoyXWbe5ncPhIZudwEjEzm6IOHBo5nkBGjRwtcfDwSGbncBIxM5uiOue10TbzxH/m22YWWDg37YzmJ3MSMTOborraZ7Nh5fLjiWS0TaSrfXZm58itYV3S2cADQBcwCKyMiDfG1FkO/AUwD3gfuD0iHki2fRf4FPBWUv2GiOivf+RmZq2hUBA9yxaxdO1lHDw8wsK52ffOyvNOZD2wLSKWANuS9bHeAb4QEcuAHuB/SDqrYvtXI2J58umvd8BmZq2qxvkHT1meXXxXAL+eLG8CngRurqwQET+rWP4nSQeBDuDNhkRoZtbCpnoX386I2Jcs76c8j3tVki4FZgGV0/HeLuk5SXdJOnOCfddI6pPUNzQ0dNqBm5m1gpbv4ivpMUnPj/NZUVkvmXq36s2WpMXAXwFfjIjR/mq3AEuBX6U8adbNVXYnIjZGRDEiih0dHad7WWZmLaERXXzr+jgrIq6stk3SAUmLI2JfkiQOVqk3D/g74NaIeLri2KN3Me9K+g7whxmGbmbW8ka7+FYmkqnUxbcXWJ0srwYeHltB0izgIeB7EfHgmG2Lk58CrgWer2ewZmatphFdfBX1arKf7MRSO7AZOB94hXIX39clFYHfj4gvSfpd4DvAzopdb4iIfkmPU25kF9Cf7PP2ZOctFovR19eX8dWYmTWn0QEYT7eLr6RnIqJ4UnleSSQvTiJmZqeuWhLxG+tmZpaak4iZmaXmJGJmZqk5iZiZWWpOImZmlpqTiJmZpeYkYmZmqTmJmJlZankOBW9mZnU2+sb6gUMjdM7LflIqJxEzsylqqs8nYmZmddTy84mYmVl+GjGfiJOImdkUNTqfSKWpNJ+ImZnVUSPmE3HDupnZFFUoiJ5li1i69rLTnk+kGicRM7MprFAQ3R1z6O6YU5/j1+WoNZB0tqRHJe1Kfs6vUu99Sf3Jp7ei/EJJP5Y0IOmBZCpdMzNroDzbRNYD2yJiCbAtWR/PLyJiefK5pqL8TuCuiPgQ8AZwY33DNTOzsfJMIiuATcnyJuDaWneUJOBy4ME0+5uZWTbyTCKdEbEvWd4PdFap1yapT9LTkq5NytqBNyPiWLK+Bzin2okkrUmO0Tc0NJRF7GY2jlIp2D30Nk+9/Bq7h96mVIq8Q7I6q2vDuqTHgEXjbLq1ciUiQlK1P20XRMReSd3A45J2AG+dShwRsRHYCFAsFv2n2qwOGjHEhjWfut6JRMSVEfHPx/k8DByQtBgg+XmwyjH2Jj93A08ClwDDwFmSRpPgucDeel6LmU2sEUNsWPPJ83FWL7A6WV4NPDy2gqT5ks5MlhcAnwBeiIgAngCum2h/M2ucRgyxYc0nzyRyB3CVpF3Alck6koqS7knqXAT0SXqWctK4IyJeSLbdDKyTNEC5jeTbDY3ezE7QiCE2rPmo/J/66aNYLEZfX1/eYZhNOW4TaU5ZzSci6ZmIKI4t9xvrZpaJRgyxYafG84mYWUsZHWLjY90L6O6Y4wSSM88nYmZmqXk+ETMzS23h3PE7O3TM8XwiZmY2iRkF+MoVS06YT+QrVyxhRob/8rth3cxsitr31gjfe+oVbvxkNxJEwPeeeoVLzj+LrgXZDA3vJGJmNkV1zmvjjXfe4+4nBo6XeXpcMzOriafHNTOz1Dw9rpmZnZYpOz2umZm1PicRMzNLzUnEzMxScxIxM7PUnETMzCw1JxEzM0sttyQi6WxJj0ralfycP06dfyOpv+IzIunaZNt3Jf28YtvyRl+Dmdl0l+edyHpgW0QsAbYl6yeIiCciYnlELAcuB94BflhR5auj2yOivwExm5lZhTyTyApgU7K8Cbh2kvrXAT+IiHfqGZSZmdUuzyTSGRH7kuX9QOck9VcB940pu13Sc5LuknRmtR0lrZHUJ6lvaGjoNEI2M7NKdU0ikh6T9Pw4nxWV9SIigJjgOIuBDwNbK4pvAZYCvwqcDdxcbf+I2BgRxYgodnR0nM4lmZlZhbqOnRURV1bbJumApMURsS9JEgcnONRK4KGIOFpx7NG7mHclfQf4w0yCNjOzmuX5OKsXWJ0srwYenqDu9Yx5lJUkHiSJcnvK89mHaGZmE8kzidwBXCVpF3Blso6koqR7RitJ6gLOA/5+zP5/LWkHsANYAPyXRgRtZma/lNtQ8BExDFwxTnkf8KWK9UHgnHHqXV7P+MzMbHJ+Y93MzFJzEjEzs9ScRMzMLDUnETMzS81JxMzMUnMSMTOz1HLr4mtmZvVXKgWDw0c4cGiEznltdLXPplBQZsd3EjEzm6JKpeCRnftZt7mfkaMl2mYW2LByOT3LFmWWSPw4y8xsihocPnI8gQCMHC2xbnM/g8NHMjuHk4iZ2RR14NDI8QQyauRoiYOHRzI7h5OImdkU1TmvjbaZJ/4z3zazwMK5bZmdw0nEzGyK6mqfzYaVy48nktE2ka722Zmdww3rZmZTVKEgepYtYunayzh4eISFc907y8zMTkGhILo75tDdMac+x6/LUc3MbFrILYlI+m1JOyWVJBUnqNcj6SVJA5LWV5RfKOnHSfkDkmY1JnIzMxuV553I88BngR9VqyBpBnA38BvAxcD1ki5ONt8J3BURHwLeAG6sb7hmZjZWbkkkIl6MiJcmqXYpMBARuyPiPeB+YEUyr/rlwINJvU2U51k3M7MGavY2kXOAVyvW9yRl7cCbEXFsTLmZmTVQXXtnSXoMWDTOplsj4uF6nntMHGuANcnq25JeAhYArzUqhjrztTSfqXId4GtpVo2+lgvGK6xrEomIK0/zEHuB8yrWz03KhoGzJJ2R3I2MlleLYyOwsbJMUl9EVG3QbyW+luYzVa4DfC3NqlmupdkfZ20HliQ9sWYBq4DeiAjgCeC6pN5qoGF3NmZmVpZnF9/fkrQH+Djwd5K2JuUflLQFILnLuAnYCrwIbI6InckhbgbWSRqg3Eby7UZfg5nZdJfbG+sR8RDw0Djl/wR8pmJ9C7BlnHq7KffeSmvj5FVahq+l+UyV6wBfS7NqimtR+cmQmZnZqWv2NhEzM2tiTiJmZpbatEkikv5U0k8lPSfpIUlnVak3KGmHpH5JfQ0OsyancC3jjjvWTE5hDLWm/l5Odyy4ZiLpbEmPStqV/Jxfpd77yffRL6m30XFOZLLfs6QzkzH3BpIx+LpyCHNSNVzHDZKGKr6HLzU8yIiYFh/gauCMZPlO4M4q9QaBBXnHe7rXAswAXga6gVnAs8DFecc+TpwXAb8CPAkUJ6jX1N9LLdfRQt/JN4D1yfL6Cf6uvJ13rGl/z8B/AL6VLK8CHsg77pTXcQPwzTzjnDZ3IhHxw/jlMClPU35BsSXVeC3jjjvWqBhrFbWNodb0aryOlvhOKMe0KVluxXHpavk9V17jg8AVyZh8zaQl/rxMmyQyxr8DflBlWwA/lPRMMlxKs6t2LdXGHWtVrfa9jKdVvpPOiNiXLO8HOqvUa5PUJ+lpSdc2JrSa1PJ7Pl4n+Q/ZW5TfN2smtf55+VzyaPtBSeeNs72uptTMhrWM1SXpVuAY8NdVDvPJiNgraSHwqKSfRkTV4errJaNraQoZjaGW+/fSLGPBZWGia6lciYiQVO09gAuS76QbeFzSjoh4OetYbUJ/C9wXEe9K+j3Kd1eXNzKAKZVEYpKxuiTdAPwmcEUkDxTHOcbe5OdBSQ9RvqVseBLJ4FqqjTvWcJNdS43HyP17yeA6WuI7kXRA0uKI2CdpMXCwyjFGv5Pdkp4ELqH8DD9vtfyeR+vskXQG8AHKY/I1k0mvIyIqY76HcntWQ02bx1mSeoA/Aq6JiHeq1Jktae7oMuUG7OcbF2VtarkWqow71qgYs9Qq30sNWuU76aU8Hh1UGZdO0nxJZybLC4BPAC80LMKJ1fJ7rrzG64DHq/3HMkeTXkeS5EddQ3l4qMbKuwdCoz7AAOXni/3JZ7RnxgeBLclyN+UeEM8COyk/psg99jTXkqx/BvgZ5f8dNuu1/BblZ73vAgeAra34vdRyHS30nbQD24BdwGPA2Ul5EbgnWf7XwI7kO9kB3Jh33GOu4aTfM3Ab5f94AbQB30/+Lv0j0J13zCmv478lfyeepTwo7dJGx+hhT8zMLLVp8zjLzMyy5yRiZmapOYmYmVlqTiJmZpaak4iZmaXmJGJmZqk5iZiZWWpOImY5knSbpP9YsX67pK/kGJLZKfHLhmY5SiZD+l8R8RFJBcpviV8aJ46JZNa0ptQAjGatJiIGJQ1LuoTykOs/cQKxVuIkYpa/eyjPULcIuDffUMxOjR9nmeUsGaF1BzATWBIR7+ccklnNfCdilrOIeE/SE8CbTiDWapxEzHKWNKh/DPjtvGMxO1Xu4muWI0kXU57TYltE7Mo7HrNT5TYRMzNLzXciZmaWmpOImZml5iRiZmapOYmYmVlqTiJmZpba/wc4VDbwWuO0gQAAAABJRU5ErkJggg==\n",
      "text/plain": [
       "<Figure size 432x288 with 1 Axes>"
      ]
     },
     "metadata": {
      "needs_background": "light"
     },
     "output_type": "display_data"
    },
    {
     "data": {
      "text/html": [
       "<div>\n",
       "<style scoped>\n",
       "    .dataframe tbody tr th:only-of-type {\n",
       "        vertical-align: middle;\n",
       "    }\n",
       "\n",
       "    .dataframe tbody tr th {\n",
       "        vertical-align: top;\n",
       "    }\n",
       "\n",
       "    .dataframe thead th {\n",
       "        text-align: right;\n",
       "    }\n",
       "</style>\n",
       "<table border=\"1\" class=\"dataframe\">\n",
       "  <thead>\n",
       "    <tr style=\"text-align: right;\">\n",
       "      <th></th>\n",
       "      <th>y_pred</th>\n",
       "    </tr>\n",
       "    <tr>\n",
       "      <th>y</th>\n",
       "      <th></th>\n",
       "    </tr>\n",
       "  </thead>\n",
       "  <tbody>\n",
       "    <tr>\n",
       "      <th>-2.375</th>\n",
       "      <td>0.777107</td>\n",
       "    </tr>\n",
       "    <tr>\n",
       "      <th>-0.375</th>\n",
       "      <td>0.051955</td>\n",
       "    </tr>\n",
       "    <tr>\n",
       "      <th>0.625</th>\n",
       "      <td>-0.176203</td>\n",
       "    </tr>\n",
       "  </tbody>\n",
       "</table>\n",
       "</div>"
      ],
      "text/plain": [
       "          y_pred\n",
       "y               \n",
       "-2.375  0.777107\n",
       "-0.375  0.051955\n",
       " 0.625 -0.176203"
      ]
     },
     "metadata": {},
     "output_type": "display_data"
    },
    {
     "name": "stdout",
     "output_type": "stream",
     "text": [
      "Pearson's R^2 within subject and run:\n",
      "0.0015236721319045932\n",
      "Pearson's R^2 within subject only:\n",
      "0.0011288811686392237\n",
      "Pearson's R^2 across subjects:\n",
      "0.0006871510163054083\n"
     ]
    }
   ],
   "source": [
    "loocv_results = pickle.load(open(data_path + \"train_test_results_ns_2s_split_0_40subs.pkl\",'rb'))\n",
    "test_scores_same=loocv_results[0]\n",
    "tt_results=loocv_results[1]\n",
    "results_by_trainset_item=loocv_results[2]\n",
    "\n",
    "results = pd.concat([metadata,results_by_trainset_item],axis=1)\n",
    "results['result_group'] = results.group + \"_\" + results.run\n",
    "#trim subjects where we don't have data. this will be 20 because there's 20 subjects in the metadata but only 40 being processed.\n",
    "results = results.loc[pd.isnull(results.result_group)==False,]\n",
    "\n",
    "\n",
    "within_group_predictions = within_group_performance(\n",
    "    results,pearsonr_cor_func,'result_group',obs_col_name='y',pred_col_name='y_pred') \n",
    "r2_score_within_subj = math.pow(np.mean(within_group_predictions),2)\n",
    "print(\"Pearson's R^2 within subject and run:\")\n",
    "print(r2_score_within_subj)\n",
    "\n",
    "within_subj_predictions = within_group_performance(results,pearsonr_cor_func,'subject',obs_col_name='y',pred_col_name='y_pred') \n",
    "r2_score_within_subj_run = math.pow(np.mean(within_subj_predictions),2)\n",
    "print(\"Pearson's R^2 within subject only:\")\n",
    "print(r2_score_within_subj_run)\n",
    "\n",
    "\n",
    "\n",
    "print(\"Pearson's R^2 across subjects:\")\n",
    "print(math.pow(pearsonr(results['y'],results['y_pred'])[0],2))"
   ]
  },
  {
   "cell_type": "code",
   "execution_count": 49,
   "id": "sudden-explorer",
   "metadata": {},
   "outputs": [
    {
     "name": "stderr",
     "output_type": "stream",
     "text": [
      "/home/bsmith16/.conda/envs/neuralsignature/lib/python3.8/site-packages/seaborn/_decorators.py:36: FutureWarning: Pass the following variables as keyword args: x, y. From version 0.12, the only valid positional argument will be `data`, and passing other arguments without an explicit keyword will result in an error or misinterpretation.\n",
      "  warnings.warn(\n"
     ]
    },
    {
     "data": {
      "image/png": "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\n",
      "text/plain": [
       "<Figure size 432x288 with 1 Axes>"
      ]
     },
     "metadata": {
      "needs_background": "light"
     },
     "output_type": "display_data"
    },
    {
     "data": {
      "text/html": [
       "<div>\n",
       "<style scoped>\n",
       "    .dataframe tbody tr th:only-of-type {\n",
       "        vertical-align: middle;\n",
       "    }\n",
       "\n",
       "    .dataframe tbody tr th {\n",
       "        vertical-align: top;\n",
       "    }\n",
       "\n",
       "    .dataframe thead th {\n",
       "        text-align: right;\n",
       "    }\n",
       "</style>\n",
       "<table border=\"1\" class=\"dataframe\">\n",
       "  <thead>\n",
       "    <tr style=\"text-align: right;\">\n",
       "      <th></th>\n",
       "      <th>y_pred</th>\n",
       "    </tr>\n",
       "    <tr>\n",
       "      <th>y</th>\n",
       "      <th></th>\n",
       "    </tr>\n",
       "  </thead>\n",
       "  <tbody>\n",
       "    <tr>\n",
       "      <th>-1.076923</th>\n",
       "      <td>1.332698</td>\n",
       "    </tr>\n",
       "    <tr>\n",
       "      <th>-0.076923</th>\n",
       "      <td>-0.406930</td>\n",
       "    </tr>\n",
       "    <tr>\n",
       "      <th>0.923077</th>\n",
       "      <td>-0.740614</td>\n",
       "    </tr>\n",
       "  </tbody>\n",
       "</table>\n",
       "</div>"
      ],
      "text/plain": [
       "             y_pred\n",
       "y                  \n",
       "-1.076923  1.332698\n",
       "-0.076923 -0.406930\n",
       " 0.923077 -0.740614"
      ]
     },
     "metadata": {},
     "output_type": "display_data"
    },
    {
     "name": "stdout",
     "output_type": "stream",
     "text": [
      "Spearman's rho within subject and run:\n",
      "0.2639769750955948\n",
      "Spearman's rho within subject only:\n",
      "0.23358988665767963\n",
      "Spearman's rho across subjects:\n",
      "0.22100484993490596\n"
     ]
    }
   ],
   "source": [
    "within_group_predictions_sp = within_group_performance(\n",
    "    results,spearmanr_cor_func,'result_group',obs_col_name='y',pred_col_name='y_pred') \n",
    "rho_score_within_subj = np.mean(within_group_predictions_sp)\n",
    "print(\"Spearman's rho within subject and run:\")\n",
    "print(rho_score_within_subj)\n",
    "\n",
    "within_subj_predictions_sp = within_group_performance(results,spearmanr_cor_func,'subject',obs_col_name='y',pred_col_name='y_pred') \n",
    "rho_score_within_subj_run = np.mean(within_subj_predictions_sp)\n",
    "print(\"Spearman's rho within subject only:\")\n",
    "print(rho_score_within_subj_run)\n",
    "\n",
    "\n",
    "\n",
    "print(\"Spearman's rho across subjects:\")\n",
    "print(spearmanr(results['y'],results['y_pred'])[0])"
   ]
  },
  {
   "cell_type": "markdown",
   "id": "homeless-wagner",
   "metadata": {},
   "source": [
    "### 2s"
   ]
  },
  {
   "cell_type": "code",
   "execution_count": 50,
   "id": "monthly-charlotte",
   "metadata": {},
   "outputs": [
    {
     "name": "stderr",
     "output_type": "stream",
     "text": [
      "/home/bsmith16/.conda/envs/neuralsignature/lib/python3.8/site-packages/seaborn/_decorators.py:36: FutureWarning: Pass the following variables as keyword args: x, y. From version 0.12, the only valid positional argument will be `data`, and passing other arguments without an explicit keyword will result in an error or misinterpretation.\n",
      "  warnings.warn(\n"
     ]
    },
    {
     "data": {
      "image/png": "iVBORw0KGgoAAAANSUhEUgAAAYsAAAEGCAYAAACUzrmNAAAAOXRFWHRTb2Z0d2FyZQBNYXRwbG90bGliIHZlcnNpb24zLjMuNCwgaHR0cHM6Ly9tYXRwbG90bGliLm9yZy8QVMy6AAAACXBIWXMAAAsTAAALEwEAmpwYAAAVX0lEQVR4nO3dfYxdd33n8fd3EidT/ACOPbHTPE289SqNW3DSUQoUuilQ1bAozhaaTbptkzYohQJpFWmXVEFQRUuXUilUFGjWyqaEVgox0TaYbYCGBBZWEGACzoOhIY4xYDexJ5M0TkyH2Nzv/nF/Y66HuT538Nxz5uH9kq7mPN17vnPutT9zfr97zi8yE0mSjmWg6QIkSXOfYSFJqmRYSJIqGRaSpEqGhSSp0olNF9APq1evzuHh4abLkKR55f77738yM4emW7cgw2J4eJjR0dGmy5CkeSUivtttnc1QkqRKjYZFRNwSEfsj4uEu6y+KiGciYnt5vKvuGiVJzTdDfQT4IPDRY2zzxcx8fT3lSJKm0+iZRWZ+AXiqyRokSdXmQ5/FyyLigYj4VERs6LZRRFwdEaMRMTo2NlZnfZK04M31sPg6cHZmvgT4a+DObhtm5pbMHMnMkaGhab/5VanVSnaNPceXH3uSXWPP0Wp5k0VJgub7LI4pMw90TN8VER+OiNWZ+eRs76vVSj694wmu3bqdiUMtBpcMcOOlG9m0YS0DAzHbu5OkeWVOn1lExNqIiDJ9Ie16x/uxr93jB48EBcDEoRbXbt3O7vGD/didJM0rjZ5ZRMRtwEXA6ojYA7wbWAKQmTcBbwTeEhGHgX8DLss+DcCx78DEkaCYNHGoxf5nJ1g3tKwfu5SkeaPRsMjMyyvWf5D2V2v7bs2KQQaXDBwVGINLBjh1+WAdu5ekOW1ON0PVaXjVUm68dCODS9qHZLLPYnjV0oYrk6TmzekO7joNDASbNqzl3Gteyf5nJzh1+SDDq5bauS1JGBZHGRgI1g0ts49CkqawGUqSVMmwkCRVMiwkSZUMC0lSJcNCklTJsJAkVTIsJEmVDAtJUiXDQpJUybCQJFUyLCRJlQwLSVIlw0KSVMmwkCRVMiwkSZUMC0lSJcNCklTJsJAkVTIsJEmVDAtJUiXDQpJUybCQJFUyLCRJlQwLSVIlw0KSVMmwkCRVMiwkSZUMC0lSJcNCklTJsJAkVWo8LCLilojYHxEPd1kfEfGBiNgZEQ9GxAV11yhJi13jYQF8BNh0jPWvBdaXx9XA39RQkySpQ+NhkZlfAJ46xiabgY9m233AiyLitHqqkyTBHAiLHpwOfL9jfk9ZJkmqyXwIi55ExNURMRoRo2NjY02XI0kLynwIi73AmR3zZ5RlR8nMLZk5kpkjQ0NDtRUnSYvBfAiLbcDvlW9FvRR4JjMfb7ooSVpMTmy6gIi4DbgIWB0Re4B3A0sAMvMm4C7gdcBO4AfA7zdTqSQtXo2HRWZeXrE+gbfWVI4kaRrzoRlKktQww0KSVMmwkCRVMiwkSZUMC0lSJcNCklTJsJAkVTIsJEmVDAtJUiXDQpJUybCQJFUyLCRJlQwLSVIlw0KSVMmwkCRVMiwkSZUMC0lSJcNCklTJsJAkVTIsJEmVDAtJUiXDQpJUybCQJFUyLCRJlQwLSVIlw0KSVMmwkCRVMiwkSZUMC0lSpRObLmAuabWS3eMH2XdggjUrBhletZSBgWi6LElqnGFRtFrJp3c8wbVbtzNxqMXgkgFuvHQjmzasNTAkLXo2QxW7xw8eCQqAiUMtrt26nd3jBxuuTJKaZ1gU+w5MHAmKSROHWux/dqKhiiRp7jAsijUrBhlccvThGFwywKnLBxuqSJLmjsbDIiI2RcQjEbEzIq6bZv2VETEWEdvL4039qGN41VJuvHTjkcCY7LMYXrW0H7uTpHml0Q7uiDgB+BDw68Ae4GsRsS0zvzll09sz8239rGVgINi0YS3nXvNK9j87wanL/TaUJE1q+ttQFwI7M3MXQER8DNgMTA2LWgwMBOuGlrFuaFkTu5ekOavpZqjTge93zO8py6Z6Q0Q8GBF3RMSZ071QRFwdEaMRMTo2NtaPWiVp0Wo6LHrxSWA4M18M3A3cOt1GmbklM0cyc2RoaKjWAiVpoWs6LPYCnWcKZ5RlR2TmeGb+sMzeDPxSTbVJkoqmw+JrwPqIOCciTgIuA7Z1bhARp3XMXgx8q8b6JEk03MGdmYcj4m3AZ4ATgFsyc0dE3ACMZuY24JqIuBg4DDwFXNlYwZK0SEVmdl8Z8ddA1w0y85p+FHW8RkZGcnR0tOkyJGleiYj7M3NkunVVzVCjwP3AIHAB8Gh5bAROmsUaJUlz2DGboTLzVoCIeAvwisw8XOZvAr7Y//IkSXNBrx3cK4EVHfPLyjJJ0iLQawf3e4FvRMTngAB+FfizfhUlSZpbegqLzPzbiPgU8Mtl0Tsy84n+lSVJmkt6aoaKiABeA7wkMz8BnBQRF/a1MknSnNFrn8WHgZcBl5f5Z2nfLVaStAj02mfxy5l5QUR8AyAzny5XXEuSFoFezywOlbEnEiAihoDWsZ8iSVooeg2LDwD/AJwaEe8B/h/w532rSpI0p1Q2Q0XEAPAd4L8Br6b91dlLMnPB3dCv1Up2jx9k34EJ1qxwpDxJmlQZFpnZiogPZeb5wD/XUFMjWq3k0zue4Nqt25k41DoyBvemDWsNDEmLXq/NUPdExBvKV2gXpN3jB48EBcDEoRbXbt3O7vGDDVcmSc3rNSz+EPg48HxEPFseB/pYV+32HZg4EhSTJg612P/sREMVSdLc0esV3Mv7XUjT1qwYZHDJwFGBMbhkgFOXDzZYlSTNDT0PfhQRvwm8gvbXZ7+YmXf2q6gmDK9aygd/+3we3PMMrYQTAn7xjBcyvGpp06VJUuN6CouI+DDwc8BtZdGbI+LXM/OtfausAc8fTrZ8YddRHdySpN7PLF4F/HyWYfUi4lZgR9+qakC3Du5zr3kl64aWNVydJDWr1w7uncBZHfNnlmULhh3cktRdr2cWy4FvRcRXafdZXAiMRsQ2gMy8uE/11WbNikHOXvUzvP7FpzP5BeFPPrDXDm5JoveweFdfq5gDzlr5At7+qvW8886Hj/RZ/PdLfoGzVr6g6dIkqXG9fnX2/x5rfUR8OTNfNjslNeN7T//gSFBAuwnqnXc+zAVnrbTPQtKi12ufRZV531Zjn4UkdTdbYZGz9DqNmbwor5MX5UlS22yFxbw3vGopN1668UhgTF5n4UV5ktT7RXlvB/4+M5/utsnsldSMgYFg04a1nHvNK9n/7ASnLvcW5ZI0qddvQ60BvhYRXwduAT4zeYFe8buzXlkDBgaCdUPL7NCWpCl6aobKzHcC64H/BVwJPBoRfx4R/66sf7hvFUqSGtdzn0U5k3iiPA4DK4E7IuJ9fapNkjRH9Npn8cfA7wFPAjcD/zUzD5UhVx+lPeSqJGmB6rXP4hTgNzPzu50Ly5Crr5/9siRJc0mvV3C/+xjrvjV75UiS5qKeBz9aDFqtZPf4QfYdmGDNCr86K0mTDIui1Uo+veOJI2NaTF6Ut2nDWgND0qLX+BXcEbEpIh6JiJ0Rcd0060+OiNvL+q9ExHA/6ug2+NHu8YP92J0kzSuNhkVEnAB8CHgtcB5weUScN2Wzq4CnM/PngPcDf9GPWryRoCR11/SZxYXAzszclZnPAx8DNk/ZZjNwa5m+A3h1RMx6u5A3EpSk7poOi9OB73fM7ynLpt0mMw8DzwCrpr5QRFwdEaMRMTo2NjbjQryRoCR1t2A6uDNzC7AFYGRkZMa3TPdGgpLUXdNhsRc4s2P+jLJsum32RMSJwAuB8X4U440EJWl6TTdDfQ1YHxHnRMRJwGXAtinbbAOuKNNvBO6dcsdbSVKfNXpmkZmHI+JtwGeAE4BbMnNHRNwAjGbmNtp3uv27iNgJPEU7UCRJNWq6GYrMvAu4a8qyd3VMTwC/VXddkqQfa7oZSpI0DxgWkqRKhoUkqZJhIUmqZFhIkioZFpKkSoaFJKmSYSFJqmRYSJIqNX4F91ziGNySND3DonAMbknqzmaowjG4Jak7w6JwDG5J6s6wKByDW5K6MywKx+CWpO7s4C4cg1uSujMsOjgGtyRNz2YoSVIlw0KSVMmwkCRVMiwkSZUMC0lSJcNCklTJsJAkVTIsJEmVDAtJUiXDQpJUydt9dHCkPEmanmFROFKeJHVnM1ThSHmS1J1hUThSniR1Z1gUjpQnSd0ZFoUj5UlSd3ZwF46UJ0ndNRYWEXEKcDswDOwGLs3Mp6fZ7kfAQ2X2e5l5cb9qcqQ8SZpek81Q1wH3ZOZ64J4yP51/y8yN5dG3oJCk+azVSnaNPceXH3uSXWPP0WrlrL5+k81Qm4GLyvStwOeBdzRVjCTNV3VcJ9bkmcWazHy8TD8BrOmy3WBEjEbEfRFxSbcXi4iry3ajY2Njs12rJM1ZdVwn1tczi4j4LLB2mlXXd85kZkZEt3OmszNzb0SsA+6NiIcy87GpG2XmFmALwMjIyOyef0nSHHas68Rmqw+2r2GRma/pti4i9kXEaZn5eEScBuzv8hp7y89dEfF54HzgJ8JCkharyevEOgNjtq8Ta7IZahtwRZm+AvjE1A0iYmVEnFymVwO/AnyztgolaR6o4zqxJju43wtsjYirgO8ClwJExAjw5sx8E/DzwP+MiBbtYHtvZhoWktShjuvEInPhNe+PjIzk6Oho02VI0rwSEfdn5sh067zdhySpkmEhSapkWEiSKhkWkqRKhoUkqZJhIUmqZFhIkioZFpKkSo6UJ0kLQKuV7B4/yL4DE6xZMftXcBsWkjTPLfTxLCRJs6CO8SwMC0ma5441nsVsMSwkaZ6bHM+i00Iaz0KSNAsW+ngWkqRZUMd4FoaFJC0AAwPBuqFlszbm9k+8fl9eVZK0oBgWkqRKhoUkqZJhIUmqZFhIkioZFpKkSn51VqpJv+8KKvWTYSHVoI67gkr9ZDOUVIM67goq9ZNhIdWgjruCSv1kWEg1qOOuoFI/GRZSDeq4K6jUT3ZwSzWo466gUj8ZFlJN+n1XUKmfbIaSJFUyLCRJlQwLSVIlw0KSVMmwkCRVisxsuoZZFxFjwHcrNlsNPFlDOTNlXTNjXTNjXTOz2Oo6OzOHpluxIMOiFxExmpkjTdcxlXXNjHXNjHXNjHX9mM1QkqRKhoUkqdJiDostTRfQhXXNjHXNjHXNjHUVi7bPQpLUu8V8ZiFJ6pFhIUmqtKDDIiJOiYi7I+LR8nNll+1+FBHby2Nbx/JzIuIrEbEzIm6PiJPqqCkiNkbElyNiR0Q8GBH/uWPdRyLiOx31bjzOejZFxCPld7xumvUnl999ZzkWwx3r/rQsfyQifuN46vgp6ro2Ir5Zjs89EXF2x7pp38+a6royIsY69v+mjnVXlPf90Yi4oua63t9R07cj4l871vXzeN0SEfsj4uEu6yMiPlDqfjAiLuhY18/jVVXXfyn1PBQRX4qIl3Ss212Wb4+I0Zrruiginul4v97Vse6Yn4HjlpkL9gG8D7iuTF8H/EWX7Z7rsnwrcFmZvgl4Sx01Af8eWF+mfxZ4HHhRmf8I8MZZOj4nAI8B64CTgAeA86Zs80fATWX6MuD2Mn1e2f5k4JzyOifUWNevAS8o02+ZrOtY72dNdV0JfHCa554C7Co/V5bplXXVNWX7twO39Pt4ldf+VeAC4OEu618HfAoI4KXAV/p9vHqs6+WT+wNeO1lXmd8NrG7oeF0E/J/j/Qz8NI8FfWYBbAZuLdO3Apf0+sSICOBVwB0/zfOPp6bM/HZmPlqm/wXYD0x7VeVxuhDYmZm7MvN54GOlvm713gG8uhybzcDHMvOHmfkdYGd5vVrqyszPZeYPyux9wBmztO/jqusYfgO4OzOfysyngbuBTQ3VdTlw2yzt+5gy8wvAU8fYZDPw0Wy7D3hRRJxGf49XZV2Z+aWyX6jv89XL8ermeD6bPVnoYbEmMx8v008Aa7psNxgRoxFxX0RcUpatAv41Mw+X+T3A6TXWBEBEXEj7L4XHOha/p5wivz8iTj6OWk4Hvt8xP93veGSbciyeoX1senluP+vqdBXtv04nTfd+1lnXG8r7c0dEnDnD5/azLkpz3TnAvR2L+3W8etGt9n4er5ma+vlK4J8i4v6IuLqBel4WEQ9ExKciYkNZ1vfjNe9HyouIzwJrp1l1fedMZmZEdPue8NmZuTci1gH3RsRDtP9TbLImyl9YfwdckZmtsvhPaYfMSbS/a/0O4Iafttb5LiJ+BxgB/kPH4p94PzPzselfYdZ9ErgtM38YEX9I+6zsVTXtuxeXAXdk5o86ljV5vOa0iPg12mHxio7FryjH61Tg7oj453JGUIev036/nouI1wF3Auvr2PG8P7PIzNdk5i9M8/gEsK/8hzv5H+/+Lq+xt/zcBXweOB8Yp31KPBmoZwB766opIlYA/whcX07PJ1/78XLK/kPgbzm+pp+9wJkd89P9jke2KcfihbSPTS/P7WddRMRraAfwxeV4AF3fz1rqyszxjlpuBn6p1+f2s64OlzGlCaqPx6sX3Wrv5/HqSUS8mPZ7uDkzxyeXdxyv/cA/MHvNr5Uy80BmPlem7wKWRMRq6jhes9kBMtcewF9ydGfy+6bZZiVwcpleDTxK6RgCPs7RHdx/VFNNJwH3AH8yzbrTys8A/gp473HUciLtjsNz+HGn2IYp27yVozu4t5bpDRzdwb2L2evg7qWu82k3za3v9f2sqa7TOqb/E3BfmT4F+E6pb2WZPqWuusp259LunI06jlfHPobp3mH7Hzm6g/ur/T5ePdZ1Fu1+uJdPWb4UWN4x/SVgU411rZ18/2iH1PfKsevpM3Bcdc3mi821B+229XvKP4DPTn7YaDdb3FymXw48VA7uQ8BVHc9fB3y1fGg+PvmPqoaafgc4BGzveGws6+4tdT4M/D2w7DjreR3wbdr/8V5flt1A+691gMHyu+8sx2Jdx3OvL897BHjtLL93VXV9FtjXcXy2Vb2fNdX1P4AdZf+fA87teO4flOO4E/j9Ousq83/GlD8uajhet9H+Nt8h2u3oVwFvBt5c1gfwoVL3Q8BITcerqq6bgac7Pl+jZfm6cqweKO/z9TXX9baOz9d9dITZdJ+B2Xx4uw9JUqV532chSeo/w0KSVMmwkCRVMiwkSZUMC0lSJcNCklTJsJAkVTIspBpExA0R8Scd8++JiD9usCRpRrwoT6pBtAeN+t+ZeUFEDNC+gv/C7LjnkDSXzfu7zkrzQWbujojxiDif9m3pv2FQaD4xLKT63Ex7JL21wC3NliLNjM1QUk2iPYb7Q8AS2nfL/VHFU6Q5wzMLqSaZ+XxEfI72CIwGheYVw0KqSenYfinwW03XIs2UX52VahAR59Eel+GezHy06XqkmbLPQpJUyTMLSVIlw0KSVMmwkCRVMiwkSZUMC0lSpf8PLgJiU9F+VSoAAAAASUVORK5CYII=\n",
      "text/plain": [
       "<Figure size 432x288 with 1 Axes>"
      ]
     },
     "metadata": {
      "needs_background": "light"
     },
     "output_type": "display_data"
    },
    {
     "data": {
      "text/html": [
       "<div>\n",
       "<style scoped>\n",
       "    .dataframe tbody tr th:only-of-type {\n",
       "        vertical-align: middle;\n",
       "    }\n",
       "\n",
       "    .dataframe tbody tr th {\n",
       "        vertical-align: top;\n",
       "    }\n",
       "\n",
       "    .dataframe thead th {\n",
       "        text-align: right;\n",
       "    }\n",
       "</style>\n",
       "<table border=\"1\" class=\"dataframe\">\n",
       "  <thead>\n",
       "    <tr style=\"text-align: right;\">\n",
       "      <th></th>\n",
       "      <th>y_pred</th>\n",
       "    </tr>\n",
       "    <tr>\n",
       "      <th>y</th>\n",
       "      <th></th>\n",
       "    </tr>\n",
       "  </thead>\n",
       "  <tbody>\n",
       "    <tr>\n",
       "      <th>-0.454545</th>\n",
       "      <td>0.260062</td>\n",
       "    </tr>\n",
       "    <tr>\n",
       "      <th>0.545455</th>\n",
       "      <td>-0.866231</td>\n",
       "    </tr>\n",
       "    <tr>\n",
       "      <th>1.545455</th>\n",
       "      <td>-0.607135</td>\n",
       "    </tr>\n",
       "  </tbody>\n",
       "</table>\n",
       "</div>"
      ],
      "text/plain": [
       "             y_pred\n",
       "y                  \n",
       "-0.454545  0.260062\n",
       " 0.545455 -0.866231\n",
       " 1.545455 -0.607135"
      ]
     },
     "metadata": {},
     "output_type": "display_data"
    },
    {
     "name": "stderr",
     "output_type": "stream",
     "text": [
      "/home/bsmith16/.conda/envs/neuralsignature/lib/python3.8/site-packages/seaborn/_decorators.py:36: FutureWarning: Pass the following variables as keyword args: x, y. From version 0.12, the only valid positional argument will be `data`, and passing other arguments without an explicit keyword will result in an error or misinterpretation.\n",
      "  warnings.warn(\n"
     ]
    },
    {
     "data": {
      "image/png": "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\n",
      "text/plain": [
       "<Figure size 432x288 with 1 Axes>"
      ]
     },
     "metadata": {
      "needs_background": "light"
     },
     "output_type": "display_data"
    },
    {
     "data": {
      "text/html": [
       "<div>\n",
       "<style scoped>\n",
       "    .dataframe tbody tr th:only-of-type {\n",
       "        vertical-align: middle;\n",
       "    }\n",
       "\n",
       "    .dataframe tbody tr th {\n",
       "        vertical-align: top;\n",
       "    }\n",
       "\n",
       "    .dataframe thead th {\n",
       "        text-align: right;\n",
       "    }\n",
       "</style>\n",
       "<table border=\"1\" class=\"dataframe\">\n",
       "  <thead>\n",
       "    <tr style=\"text-align: right;\">\n",
       "      <th></th>\n",
       "      <th>y_pred</th>\n",
       "    </tr>\n",
       "    <tr>\n",
       "      <th>y</th>\n",
       "      <th></th>\n",
       "    </tr>\n",
       "  </thead>\n",
       "  <tbody>\n",
       "    <tr>\n",
       "      <th>-1.0625</th>\n",
       "      <td>0.446328</td>\n",
       "    </tr>\n",
       "    <tr>\n",
       "      <th>-0.0625</th>\n",
       "      <td>-0.721532</td>\n",
       "    </tr>\n",
       "    <tr>\n",
       "      <th>0.9375</th>\n",
       "      <td>-0.283022</td>\n",
       "    </tr>\n",
       "    <tr>\n",
       "      <th>1.9375</th>\n",
       "      <td>0.016899</td>\n",
       "    </tr>\n",
       "  </tbody>\n",
       "</table>\n",
       "</div>"
      ],
      "text/plain": [
       "           y_pred\n",
       "y                \n",
       "-1.0625  0.446328\n",
       "-0.0625 -0.721532\n",
       " 0.9375 -0.283022\n",
       " 1.9375  0.016899"
      ]
     },
     "metadata": {},
     "output_type": "display_data"
    },
    {
     "name": "stdout",
     "output_type": "stream",
     "text": [
      "Pearson's R^2 within subject and run:\n",
      "0.0032775026968980187\n",
      "Pearson's R^2 within subject only:\n",
      "0.004250309334337535\n",
      "Pearson's R^2 across subjects:\n",
      "0.0036006249725942844\n"
     ]
    }
   ],
   "source": [
    "loocv_results = pickle.load(open(data_path + \"train_test_results_ns_2s_split_2_40subs.pkl\",'rb'))\n",
    "test_scores_same=loocv_results[0]\n",
    "tt_results=loocv_results[1]\n",
    "results_by_trainset_item=loocv_results[2]\n",
    "\n",
    "results = pd.concat([metadata,results_by_trainset_item],axis=1)\n",
    "results['result_group'] = results.group + \"_\" + results.run\n",
    "#trim subjects where we don't have data. this will be 20 because there's 20 subjects in the metadata but only 40 being processed.\n",
    "results = results.loc[pd.isnull(results.result_group)==False,]\n",
    "\n",
    "\n",
    "within_group_predictions = within_group_performance(\n",
    "    results,pearsonr_cor_func,'result_group',obs_col_name='y',pred_col_name='y_pred') \n",
    "r2_score_within_subj = math.pow(np.mean(within_group_predictions),2)\n",
    "print(\"Pearson's R^2 within subject and run:\")\n",
    "print(r2_score_within_subj)\n",
    "\n",
    "within_subj_predictions = within_group_performance(results,pearsonr_cor_func,'subject',obs_col_name='y',pred_col_name='y_pred') \n",
    "r2_score_within_subj_run = math.pow(np.mean(within_subj_predictions),2)\n",
    "print(\"Pearson's R^2 within subject only:\")\n",
    "print(r2_score_within_subj_run)\n",
    "\n",
    "\n",
    "\n",
    "print(\"Pearson's R^2 across subjects:\")\n",
    "print(math.pow(pearsonr(results['y'],results['y_pred'])[0],2))"
   ]
  },
  {
   "cell_type": "code",
   "execution_count": 51,
   "id": "indonesian-contractor",
   "metadata": {},
   "outputs": [
    {
     "name": "stderr",
     "output_type": "stream",
     "text": [
      "/home/bsmith16/.conda/envs/neuralsignature/lib/python3.8/site-packages/seaborn/_decorators.py:36: FutureWarning: Pass the following variables as keyword args: x, y. From version 0.12, the only valid positional argument will be `data`, and passing other arguments without an explicit keyword will result in an error or misinterpretation.\n",
      "  warnings.warn(\n"
     ]
    },
    {
     "data": {
      "image/png": "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\n",
      "text/plain": [
       "<Figure size 432x288 with 1 Axes>"
      ]
     },
     "metadata": {
      "needs_background": "light"
     },
     "output_type": "display_data"
    },
    {
     "data": {
      "text/html": [
       "<div>\n",
       "<style scoped>\n",
       "    .dataframe tbody tr th:only-of-type {\n",
       "        vertical-align: middle;\n",
       "    }\n",
       "\n",
       "    .dataframe tbody tr th {\n",
       "        vertical-align: top;\n",
       "    }\n",
       "\n",
       "    .dataframe thead th {\n",
       "        text-align: right;\n",
       "    }\n",
       "</style>\n",
       "<table border=\"1\" class=\"dataframe\">\n",
       "  <thead>\n",
       "    <tr style=\"text-align: right;\">\n",
       "      <th></th>\n",
       "      <th>y_pred</th>\n",
       "    </tr>\n",
       "    <tr>\n",
       "      <th>y</th>\n",
       "      <th></th>\n",
       "    </tr>\n",
       "  </thead>\n",
       "  <tbody>\n",
       "    <tr>\n",
       "      <th>-0.454545</th>\n",
       "      <td>0.260062</td>\n",
       "    </tr>\n",
       "    <tr>\n",
       "      <th>0.545455</th>\n",
       "      <td>-0.866231</td>\n",
       "    </tr>\n",
       "    <tr>\n",
       "      <th>1.545455</th>\n",
       "      <td>-0.607135</td>\n",
       "    </tr>\n",
       "  </tbody>\n",
       "</table>\n",
       "</div>"
      ],
      "text/plain": [
       "             y_pred\n",
       "y                  \n",
       "-0.454545  0.260062\n",
       " 0.545455 -0.866231\n",
       " 1.545455 -0.607135"
      ]
     },
     "metadata": {},
     "output_type": "display_data"
    },
    {
     "name": "stderr",
     "output_type": "stream",
     "text": [
      "/home/bsmith16/.conda/envs/neuralsignature/lib/python3.8/site-packages/seaborn/_decorators.py:36: FutureWarning: Pass the following variables as keyword args: x, y. From version 0.12, the only valid positional argument will be `data`, and passing other arguments without an explicit keyword will result in an error or misinterpretation.\n",
      "  warnings.warn(\n"
     ]
    },
    {
     "data": {
      "image/png": "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\n",
      "text/plain": [
       "<Figure size 432x288 with 1 Axes>"
      ]
     },
     "metadata": {
      "needs_background": "light"
     },
     "output_type": "display_data"
    },
    {
     "data": {
      "text/html": [
       "<div>\n",
       "<style scoped>\n",
       "    .dataframe tbody tr th:only-of-type {\n",
       "        vertical-align: middle;\n",
       "    }\n",
       "\n",
       "    .dataframe tbody tr th {\n",
       "        vertical-align: top;\n",
       "    }\n",
       "\n",
       "    .dataframe thead th {\n",
       "        text-align: right;\n",
       "    }\n",
       "</style>\n",
       "<table border=\"1\" class=\"dataframe\">\n",
       "  <thead>\n",
       "    <tr style=\"text-align: right;\">\n",
       "      <th></th>\n",
       "      <th>y_pred</th>\n",
       "    </tr>\n",
       "    <tr>\n",
       "      <th>y</th>\n",
       "      <th></th>\n",
       "    </tr>\n",
       "  </thead>\n",
       "  <tbody>\n",
       "    <tr>\n",
       "      <th>-1.0625</th>\n",
       "      <td>0.446328</td>\n",
       "    </tr>\n",
       "    <tr>\n",
       "      <th>-0.0625</th>\n",
       "      <td>-0.721532</td>\n",
       "    </tr>\n",
       "    <tr>\n",
       "      <th>0.9375</th>\n",
       "      <td>-0.283022</td>\n",
       "    </tr>\n",
       "    <tr>\n",
       "      <th>1.9375</th>\n",
       "      <td>0.016899</td>\n",
       "    </tr>\n",
       "  </tbody>\n",
       "</table>\n",
       "</div>"
      ],
      "text/plain": [
       "           y_pred\n",
       "y                \n",
       "-1.0625  0.446328\n",
       "-0.0625 -0.721532\n",
       " 0.9375 -0.283022\n",
       " 1.9375  0.016899"
      ]
     },
     "metadata": {},
     "output_type": "display_data"
    },
    {
     "name": "stdout",
     "output_type": "stream",
     "text": [
      "Spearman's rho within subject and run:\n",
      "0.05724947769978359\n",
      "Spearman's rho within subject only:\n",
      "0.06519439649492535\n",
      "Spearman's rho across subjects:\n",
      "0.06334057103506147\n"
     ]
    }
   ],
   "source": [
    "within_group_predictions_sp = within_group_performance(\n",
    "    results,spearmanr_cor_func,'result_group',obs_col_name='y',pred_col_name='y_pred') \n",
    "rho_score_within_subj = np.mean(within_group_predictions_sp)\n",
    "print(\"Spearman's rho within subject and run:\")\n",
    "print(rho_score_within_subj)\n",
    "\n",
    "within_subj_predictions_sp = within_group_performance(results,spearmanr_cor_func,'subject',obs_col_name='y',pred_col_name='y_pred') \n",
    "rho_score_within_subj_run = np.mean(within_subj_predictions_sp)\n",
    "print(\"Spearman's rho within subject only:\")\n",
    "print(rho_score_within_subj_run)\n",
    "\n",
    "\n",
    "\n",
    "print(\"Spearman's rho across subjects:\")\n",
    "print(spearmanr(results['y'],results['y_pred'])[0])"
   ]
  },
  {
   "cell_type": "markdown",
   "id": "boring-hebrew",
   "metadata": {},
   "source": [
    "### 4s"
   ]
  },
  {
   "cell_type": "code",
   "execution_count": 52,
   "id": "designing-segment",
   "metadata": {},
   "outputs": [
    {
     "name": "stderr",
     "output_type": "stream",
     "text": [
      "/home/bsmith16/.conda/envs/neuralsignature/lib/python3.8/site-packages/seaborn/_decorators.py:36: FutureWarning: Pass the following variables as keyword args: x, y. From version 0.12, the only valid positional argument will be `data`, and passing other arguments without an explicit keyword will result in an error or misinterpretation.\n",
      "  warnings.warn(\n"
     ]
    },
    {
     "data": {
      "image/png": "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\n",
      "text/plain": [
       "<Figure size 432x288 with 1 Axes>"
      ]
     },
     "metadata": {
      "needs_background": "light"
     },
     "output_type": "display_data"
    },
    {
     "data": {
      "text/html": [
       "<div>\n",
       "<style scoped>\n",
       "    .dataframe tbody tr th:only-of-type {\n",
       "        vertical-align: middle;\n",
       "    }\n",
       "\n",
       "    .dataframe tbody tr th {\n",
       "        vertical-align: top;\n",
       "    }\n",
       "\n",
       "    .dataframe thead th {\n",
       "        text-align: right;\n",
       "    }\n",
       "</style>\n",
       "<table border=\"1\" class=\"dataframe\">\n",
       "  <thead>\n",
       "    <tr style=\"text-align: right;\">\n",
       "      <th></th>\n",
       "      <th>y_pred</th>\n",
       "    </tr>\n",
       "    <tr>\n",
       "      <th>y</th>\n",
       "      <th></th>\n",
       "    </tr>\n",
       "  </thead>\n",
       "  <tbody>\n",
       "    <tr>\n",
       "      <th>-1.066667</th>\n",
       "      <td>0.196826</td>\n",
       "    </tr>\n",
       "    <tr>\n",
       "      <th>-0.066667</th>\n",
       "      <td>-0.000570</td>\n",
       "    </tr>\n",
       "    <tr>\n",
       "      <th>0.933333</th>\n",
       "      <td>0.155172</td>\n",
       "    </tr>\n",
       "    <tr>\n",
       "      <th>1.933333</th>\n",
       "      <td>-0.432159</td>\n",
       "    </tr>\n",
       "  </tbody>\n",
       "</table>\n",
       "</div>"
      ],
      "text/plain": [
       "             y_pred\n",
       "y                  \n",
       "-1.066667  0.196826\n",
       "-0.066667 -0.000570\n",
       " 0.933333  0.155172\n",
       " 1.933333 -0.432159"
      ]
     },
     "metadata": {},
     "output_type": "display_data"
    },
    {
     "name": "stdout",
     "output_type": "stream",
     "text": [
      "Pearson's R^2 within subject and run:\n",
      "0.047083100956367925\n",
      "Pearson's R^2 within subject only:\n",
      "0.04917184087123544\n",
      "Pearson's R^2 across subjects:\n",
      "0.04518776118862989\n"
     ]
    }
   ],
   "source": [
    "loocv_results = pickle.load(open(data_path + \"train_test_results_ns_2s_split_4_40subs.pkl\",'rb'))\n",
    "test_scores_same=loocv_results[0]\n",
    "tt_results=loocv_results[1]\n",
    "results_by_trainset_item=loocv_results[2]\n",
    "\n",
    "results = pd.concat([metadata,results_by_trainset_item],axis=1)\n",
    "results['result_group'] = results.group + \"_\" + results.run\n",
    "#trim subjects where we don't have data. this will be 20 because there's 20 subjects in the metadata but only 40 being processed.\n",
    "results = results.loc[pd.isnull(results.result_group)==False,]\n",
    "\n",
    "\n",
    "within_group_predictions = within_group_performance(\n",
    "    results,pearsonr_cor_func,'result_group',obs_col_name='y',pred_col_name='y_pred') \n",
    "r2_score_within_subj = math.pow(np.mean(within_group_predictions),2)\n",
    "print(\"Pearson's R^2 within subject and run:\")\n",
    "print(r2_score_within_subj)\n",
    "\n",
    "within_subj_predictions = within_group_performance(results,pearsonr_cor_func,'subject',obs_col_name='y',pred_col_name='y_pred') \n",
    "r2_score_within_subj_run = math.pow(np.mean(within_subj_predictions),2)\n",
    "print(\"Pearson's R^2 within subject only:\")\n",
    "print(r2_score_within_subj_run)\n",
    "\n",
    "\n",
    "\n",
    "print(\"Pearson's R^2 across subjects:\")\n",
    "print(math.pow(pearsonr(results['y'],results['y_pred'])[0],2))"
   ]
  },
  {
   "cell_type": "code",
   "execution_count": 53,
   "id": "mounted-retrieval",
   "metadata": {},
   "outputs": [
    {
     "name": "stderr",
     "output_type": "stream",
     "text": [
      "/home/bsmith16/.conda/envs/neuralsignature/lib/python3.8/site-packages/seaborn/_decorators.py:36: FutureWarning: Pass the following variables as keyword args: x, y. From version 0.12, the only valid positional argument will be `data`, and passing other arguments without an explicit keyword will result in an error or misinterpretation.\n",
      "  warnings.warn(\n"
     ]
    },
    {
     "data": {
      "image/png": "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\n",
      "text/plain": [
       "<Figure size 432x288 with 1 Axes>"
      ]
     },
     "metadata": {
      "needs_background": "light"
     },
     "output_type": "display_data"
    },
    {
     "data": {
      "text/html": [
       "<div>\n",
       "<style scoped>\n",
       "    .dataframe tbody tr th:only-of-type {\n",
       "        vertical-align: middle;\n",
       "    }\n",
       "\n",
       "    .dataframe tbody tr th {\n",
       "        vertical-align: top;\n",
       "    }\n",
       "\n",
       "    .dataframe thead th {\n",
       "        text-align: right;\n",
       "    }\n",
       "</style>\n",
       "<table border=\"1\" class=\"dataframe\">\n",
       "  <thead>\n",
       "    <tr style=\"text-align: right;\">\n",
       "      <th></th>\n",
       "      <th>y_pred</th>\n",
       "    </tr>\n",
       "    <tr>\n",
       "      <th>y</th>\n",
       "      <th></th>\n",
       "    </tr>\n",
       "  </thead>\n",
       "  <tbody>\n",
       "    <tr>\n",
       "      <th>-1.066667</th>\n",
       "      <td>0.196826</td>\n",
       "    </tr>\n",
       "    <tr>\n",
       "      <th>-0.066667</th>\n",
       "      <td>-0.000570</td>\n",
       "    </tr>\n",
       "    <tr>\n",
       "      <th>0.933333</th>\n",
       "      <td>0.155172</td>\n",
       "    </tr>\n",
       "    <tr>\n",
       "      <th>1.933333</th>\n",
       "      <td>-0.432159</td>\n",
       "    </tr>\n",
       "  </tbody>\n",
       "</table>\n",
       "</div>"
      ],
      "text/plain": [
       "             y_pred\n",
       "y                  \n",
       "-1.066667  0.196826\n",
       "-0.066667 -0.000570\n",
       " 0.933333  0.155172\n",
       " 1.933333 -0.432159"
      ]
     },
     "metadata": {},
     "output_type": "display_data"
    },
    {
     "name": "stdout",
     "output_type": "stream",
     "text": [
      "Spearman's rho within subject and run:\n",
      "0.2169864073078494\n",
      "Spearman's rho within subject only:\n",
      "0.2217472454648207\n",
      "Spearman's rho across subjects:\n",
      "0.20238953083730976\n"
     ]
    }
   ],
   "source": [
    "within_group_predictions_sp = within_group_performance(\n",
    "    results,spearmanr_cor_func,'result_group',obs_col_name='y',pred_col_name='y_pred') \n",
    "rho_score_within_subj = np.mean(within_group_predictions_sp)\n",
    "print(\"Spearman's rho within subject and run:\")\n",
    "print(rho_score_within_subj)\n",
    "\n",
    "within_subj_predictions_sp = within_group_performance(results,spearmanr_cor_func,'subject',obs_col_name='y',pred_col_name='y_pred') \n",
    "rho_score_within_subj_run = np.mean(within_subj_predictions_sp)\n",
    "print(\"Spearman's rho within subject only:\")\n",
    "print(rho_score_within_subj_run)\n",
    "\n",
    "\n",
    "\n",
    "print(\"Spearman's rho across subjects:\")\n",
    "print(spearmanr(results['y'],results['y_pred'])[0])"
   ]
  },
  {
   "cell_type": "markdown",
   "id": "loaded-frequency",
   "metadata": {},
   "source": [
    "## 6, 8, 10, 12"
   ]
  },
  {
   "cell_type": "code",
   "execution_count": 24,
   "id": "monetary-batman",
   "metadata": {},
   "outputs": [
    {
     "name": "stdout",
     "output_type": "stream",
     "text": [
      "Pearson's R^2 within subject and run:\n",
      "0.10000335019986945\n",
      "Pearson's R^2 within subject only:\n",
      "0.09347535578752861\n",
      "Pearson's R^2 across subjects:\n",
      "0.07724090040076491\n"
     ]
    }
   ],
   "source": [
    "loocv_results = pickle.load(open(data_path + \"train_test_results_ns_2s_split_6_40subs.pkl\",'rb'))\n",
    "test_scores_same=loocv_results[0]\n",
    "tt_results=loocv_results[1]\n",
    "results_by_trainset_item=loocv_results[2]\n",
    "\n",
    "results = pd.concat([metadata,results_by_trainset_item],axis=1)\n",
    "results['result_group'] = results.group + \"_\" + results.run\n",
    "#trim subjects where we don't have data. this will be 20 because there's 20 subjects in the metadata but only 40 being processed.\n",
    "results = results.loc[pd.isnull(results.result_group)==False,]\n",
    "\n",
    "\n",
    "within_group_predictions = within_group_performance(\n",
    "    results,pearsonr_cor_func,'result_group',obs_col_name='y',pred_col_name='y_pred') \n",
    "r2_score_within_subj = math.pow(np.mean(within_group_predictions),2)\n",
    "print(\"Pearson's R^2 within subject and run:\")\n",
    "print(r2_score_within_subj)\n",
    "\n",
    "within_subj_predictions = within_group_performance(results,pearsonr_cor_func,'subject',obs_col_name='y',pred_col_name='y_pred') \n",
    "r2_score_within_subj_run = math.pow(np.mean(within_subj_predictions),2)\n",
    "print(\"Pearson's R^2 within subject only:\")\n",
    "print(r2_score_within_subj_run)\n",
    "\n",
    "\n",
    "\n",
    "print(\"Pearson's R^2 across subjects:\")\n",
    "print(math.pow(pearsonr(results['y'],results['y_pred'])[0],2))"
   ]
  },
  {
   "cell_type": "code",
   "execution_count": 25,
   "id": "relevant-investing",
   "metadata": {},
   "outputs": [
    {
     "name": "stdout",
     "output_type": "stream",
     "text": [
      "Spearman's rho within subject and run:\n",
      "0.3162330631035747\n",
      "Spearman's rho within subject only:\n",
      "0.30573739677626716\n",
      "Spearman's rho across subjects:\n",
      "0.3021925873980788\n"
     ]
    }
   ],
   "source": [
    "within_group_predictions_sp = within_group_performance(\n",
    "    results,spearmanr_cor_func,'result_group',obs_col_name='y',pred_col_name='y_pred') \n",
    "rho_score_within_subj = np.mean(within_group_predictions_sp)\n",
    "print(\"Spearman's rho within subject and run:\")\n",
    "print(rho_score_within_subj)\n",
    "\n",
    "within_subj_predictions_sp = within_group_performance(results,spearmanr_cor_func,'subject',obs_col_name='y',pred_col_name='y_pred') \n",
    "rho_score_within_subj_run = np.mean(within_subj_predictions_sp)\n",
    "print(\"Spearman's rho within subject only:\")\n",
    "print(rho_score_within_subj_run)\n",
    "\n",
    "\n",
    "\n",
    "print(\"Spearman's rho across subjects:\")\n",
    "print(spearmanr(results['y'],results['y_pred'])[0])"
   ]
  },
  {
   "cell_type": "code",
   "execution_count": 26,
   "id": "rising-sperm",
   "metadata": {},
   "outputs": [
    {
     "name": "stdout",
     "output_type": "stream",
     "text": [
      "Pearson's R^2 within subject and run:\n",
      "0.17996332571827264\n",
      "Pearson's R^2 within subject only:\n",
      "0.16765421940948289\n",
      "Pearson's R^2 across subjects:\n",
      "0.1520602443873762\n"
     ]
    }
   ],
   "source": [
    "loocv_results = pickle.load(open(data_path + \"train_test_results_ns_2s_split_8_40subs.pkl\",'rb'))\n",
    "test_scores_same=loocv_results[0]\n",
    "tt_results=loocv_results[1]\n",
    "results_by_trainset_item=loocv_results[2]\n",
    "\n",
    "results = pd.concat([metadata,results_by_trainset_item],axis=1)\n",
    "results['result_group'] = results.group + \"_\" + results.run\n",
    "#trim subjects where we don't have data. this will be 20 because there's 20 subjects in the metadata but only 40 being processed.\n",
    "results = results.loc[pd.isnull(results.result_group)==False,]\n",
    "\n",
    "\n",
    "within_group_predictions = within_group_performance(\n",
    "    results,pearsonr_cor_func,'result_group',obs_col_name='y',pred_col_name='y_pred') \n",
    "r2_score_within_subj = math.pow(np.mean(within_group_predictions),2)\n",
    "print(\"Pearson's R^2 within subject and run:\")\n",
    "print(r2_score_within_subj)\n",
    "\n",
    "within_subj_predictions = within_group_performance(results,pearsonr_cor_func,'subject',obs_col_name='y',pred_col_name='y_pred') \n",
    "r2_score_within_subj_run = math.pow(np.mean(within_subj_predictions),2)\n",
    "print(\"Pearson's R^2 within subject only:\")\n",
    "print(r2_score_within_subj_run)\n",
    "\n",
    "\n",
    "\n",
    "print(\"Pearson's R^2 across subjects:\")\n",
    "print(math.pow(pearsonr(results['y'],results['y_pred'])[0],2))"
   ]
  },
  {
   "cell_type": "code",
   "execution_count": 27,
   "id": "played-crown",
   "metadata": {},
   "outputs": [
    {
     "name": "stdout",
     "output_type": "stream",
     "text": [
      "Spearman's rho within subject and run:\n",
      "0.4242208454546672\n",
      "Spearman's rho within subject only:\n",
      "0.40945600424158257\n",
      "Spearman's rho across subjects:\n",
      "0.395609842030635\n"
     ]
    }
   ],
   "source": [
    "within_group_predictions_sp = within_group_performance(\n",
    "    results,spearmanr_cor_func,'result_group',obs_col_name='y',pred_col_name='y_pred') \n",
    "rho_score_within_subj = np.mean(within_group_predictions_sp)\n",
    "print(\"Spearman's rho within subject and run:\")\n",
    "print(rho_score_within_subj)\n",
    "\n",
    "within_subj_predictions_sp = within_group_performance(results,spearmanr_cor_func,'subject',obs_col_name='y',pred_col_name='y_pred') \n",
    "rho_score_within_subj_run = np.mean(within_subj_predictions_sp)\n",
    "print(\"Spearman's rho within subject only:\")\n",
    "print(rho_score_within_subj_run)\n",
    "\n",
    "\n",
    "\n",
    "print(\"Spearman's rho across subjects:\")\n",
    "print(spearmanr(results['y'],results['y_pred'])[0])"
   ]
  },
  {
   "cell_type": "code",
   "execution_count": 28,
   "id": "nervous-confidence",
   "metadata": {},
   "outputs": [
    {
     "name": "stderr",
     "output_type": "stream",
     "text": [
      "/home/bsmith16/.conda/envs/neuralsignature/lib/python3.8/site-packages/seaborn/_decorators.py:36: FutureWarning: Pass the following variables as keyword args: x, y. From version 0.12, the only valid positional argument will be `data`, and passing other arguments without an explicit keyword will result in an error or misinterpretation.\n",
      "  warnings.warn(\n"
     ]
    },
    {
     "data": {
      "image/png": "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\n",
      "text/plain": [
       "<Figure size 432x288 with 1 Axes>"
      ]
     },
     "metadata": {
      "needs_background": "light"
     },
     "output_type": "display_data"
    },
    {
     "data": {
      "text/html": [
       "<div>\n",
       "<style scoped>\n",
       "    .dataframe tbody tr th:only-of-type {\n",
       "        vertical-align: middle;\n",
       "    }\n",
       "\n",
       "    .dataframe tbody tr th {\n",
       "        vertical-align: top;\n",
       "    }\n",
       "\n",
       "    .dataframe thead th {\n",
       "        text-align: right;\n",
       "    }\n",
       "</style>\n",
       "<table border=\"1\" class=\"dataframe\">\n",
       "  <thead>\n",
       "    <tr style=\"text-align: right;\">\n",
       "      <th></th>\n",
       "      <th>y_pred</th>\n",
       "    </tr>\n",
       "    <tr>\n",
       "      <th>y</th>\n",
       "      <th></th>\n",
       "    </tr>\n",
       "  </thead>\n",
       "  <tbody>\n",
       "    <tr>\n",
       "      <th>-1.785714</th>\n",
       "      <td>1.013842</td>\n",
       "    </tr>\n",
       "    <tr>\n",
       "      <th>-0.785714</th>\n",
       "      <td>0.220712</td>\n",
       "    </tr>\n",
       "    <tr>\n",
       "      <th>0.214286</th>\n",
       "      <td>-0.186498</td>\n",
       "    </tr>\n",
       "    <tr>\n",
       "      <th>1.214286</th>\n",
       "      <td>-0.259235</td>\n",
       "    </tr>\n",
       "  </tbody>\n",
       "</table>\n",
       "</div>"
      ],
      "text/plain": [
       "             y_pred\n",
       "y                  \n",
       "-1.785714  1.013842\n",
       "-0.785714  0.220712\n",
       " 0.214286 -0.186498\n",
       " 1.214286 -0.259235"
      ]
     },
     "metadata": {},
     "output_type": "display_data"
    },
    {
     "name": "stdout",
     "output_type": "stream",
     "text": [
      "Pearson's R^2 within subject and run:\n",
      "0.047693157058342525\n",
      "Pearson's R^2 within subject only:\n",
      "0.04764562675670651\n",
      "Pearson's R^2 across subjects:\n",
      "0.04174810420026515\n"
     ]
    }
   ],
   "source": [
    "loocv_results = pickle.load(open(data_path + \"train_test_results_ns_2s_split_10_40subs.pkl\",'rb'))\n",
    "test_scores_same=loocv_results[0]\n",
    "tt_results=loocv_results[1]\n",
    "results_by_trainset_item=loocv_results[2]\n",
    "\n",
    "results = pd.concat([metadata,results_by_trainset_item],axis=1)\n",
    "results['result_group'] = results.group + \"_\" + results.run\n",
    "#trim subjects where we don't have data. this will be 20 because there's 20 subjects in the metadata but only 40 being processed.\n",
    "results = results.loc[pd.isnull(results.result_group)==False,]\n",
    "\n",
    "\n",
    "within_group_predictions = within_group_performance(\n",
    "    results,pearsonr_cor_func,'result_group',obs_col_name='y',pred_col_name='y_pred') \n",
    "r2_score_within_subj = math.pow(np.mean(within_group_predictions),2)\n",
    "print(\"Pearson's R^2 within subject and run:\")\n",
    "print(r2_score_within_subj)\n",
    "\n",
    "within_subj_predictions = within_group_performance(results,pearsonr_cor_func,'subject',obs_col_name='y',pred_col_name='y_pred') \n",
    "r2_score_within_subj_run = math.pow(np.mean(within_subj_predictions),2)\n",
    "print(\"Pearson's R^2 within subject only:\")\n",
    "print(r2_score_within_subj_run)\n",
    "\n",
    "\n",
    "\n",
    "print(\"Pearson's R^2 across subjects:\")\n",
    "print(math.pow(pearsonr(results['y'],results['y_pred'])[0],2))"
   ]
  },
  {
   "cell_type": "code",
   "execution_count": 29,
   "id": "norman-frontier",
   "metadata": {},
   "outputs": [
    {
     "name": "stderr",
     "output_type": "stream",
     "text": [
      "/home/bsmith16/.conda/envs/neuralsignature/lib/python3.8/site-packages/seaborn/_decorators.py:36: FutureWarning: Pass the following variables as keyword args: x, y. From version 0.12, the only valid positional argument will be `data`, and passing other arguments without an explicit keyword will result in an error or misinterpretation.\n",
      "  warnings.warn(\n"
     ]
    },
    {
     "data": {
      "image/png": "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\n",
      "text/plain": [
       "<Figure size 432x288 with 1 Axes>"
      ]
     },
     "metadata": {
      "needs_background": "light"
     },
     "output_type": "display_data"
    },
    {
     "data": {
      "text/html": [
       "<div>\n",
       "<style scoped>\n",
       "    .dataframe tbody tr th:only-of-type {\n",
       "        vertical-align: middle;\n",
       "    }\n",
       "\n",
       "    .dataframe tbody tr th {\n",
       "        vertical-align: top;\n",
       "    }\n",
       "\n",
       "    .dataframe thead th {\n",
       "        text-align: right;\n",
       "    }\n",
       "</style>\n",
       "<table border=\"1\" class=\"dataframe\">\n",
       "  <thead>\n",
       "    <tr style=\"text-align: right;\">\n",
       "      <th></th>\n",
       "      <th>y_pred</th>\n",
       "    </tr>\n",
       "    <tr>\n",
       "      <th>y</th>\n",
       "      <th></th>\n",
       "    </tr>\n",
       "  </thead>\n",
       "  <tbody>\n",
       "    <tr>\n",
       "      <th>-1.785714</th>\n",
       "      <td>1.013842</td>\n",
       "    </tr>\n",
       "    <tr>\n",
       "      <th>-0.785714</th>\n",
       "      <td>0.220712</td>\n",
       "    </tr>\n",
       "    <tr>\n",
       "      <th>0.214286</th>\n",
       "      <td>-0.186498</td>\n",
       "    </tr>\n",
       "    <tr>\n",
       "      <th>1.214286</th>\n",
       "      <td>-0.259235</td>\n",
=======
       "      <th>-1.076923</th>\n",
       "      <td>1.332698</td>\n",
       "    </tr>\n",
       "    <tr>\n",
       "      <th>-0.076923</th>\n",
       "      <td>-0.406930</td>\n",
       "    </tr>\n",
       "    <tr>\n",
       "      <th>0.923077</th>\n",
       "      <td>-0.740614</td>\n",
>>>>>>> f1fd970dfb9ec5fcfe7b2c2668526e789a921626
       "    </tr>\n",
       "  </tbody>\n",
       "</table>\n",
       "</div>"
      ],
      "text/plain": [
       "             y_pred\n",
       "y                  \n",
<<<<<<< HEAD
       "-1.785714  1.013842\n",
       "-0.785714  0.220712\n",
       " 0.214286 -0.186498\n",
       " 1.214286 -0.259235"
      ]
     },
     "metadata": {},
     "output_type": "display_data"
    },
    {
     "name": "stdout",
     "output_type": "stream",
     "text": [
      "Spearman's rho within subject and run:\n",
      "0.21838763027777586\n",
      "Spearman's rho within subject only:\n",
      "0.21827878219539917\n",
      "Spearman's rho across subjects:\n",
      "0.20518643083999952\n"
     ]
    }
   ],
   "source": [
    "within_group_predictions_sp = within_group_performance(\n",
    "    results,spearmanr_cor_func,'result_group',obs_col_name='y',pred_col_name='y_pred') \n",
    "rho_score_within_subj = np.mean(within_group_predictions_sp)\n",
    "print(\"Spearman's rho within subject and run:\")\n",
    "print(rho_score_within_subj)\n",
    "\n",
    "within_subj_predictions_sp = within_group_performance(results,spearmanr_cor_func,'subject',obs_col_name='y',pred_col_name='y_pred') \n",
    "rho_score_within_subj_run = np.mean(within_subj_predictions_sp)\n",
    "print(\"Spearman's rho within subject only:\")\n",
    "print(rho_score_within_subj_run)\n",
    "\n",
    "\n",
    "\n",
    "print(\"Spearman's rho across subjects:\")\n",
    "print(spearmanr(results['y'],results['y_pred'])[0])"
   ]
  },
  {
   "cell_type": "code",
   "execution_count": 30,
   "id": "governmental-playback",
   "metadata": {},
   "outputs": [
    {
     "name": "stderr",
     "output_type": "stream",
     "text": [
      "/home/bsmith16/.conda/envs/neuralsignature/lib/python3.8/site-packages/seaborn/_decorators.py:36: FutureWarning: Pass the following variables as keyword args: x, y. From version 0.12, the only valid positional argument will be `data`, and passing other arguments without an explicit keyword will result in an error or misinterpretation.\n",
      "  warnings.warn(\n"
     ]
    },
    {
     "data": {
      "image/png": "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\n",
      "text/plain": [
       "<Figure size 432x288 with 1 Axes>"
      ]
     },
     "metadata": {
      "needs_background": "light"
     },
     "output_type": "display_data"
    },
    {
     "data": {
      "text/html": [
       "<div>\n",
       "<style scoped>\n",
       "    .dataframe tbody tr th:only-of-type {\n",
       "        vertical-align: middle;\n",
       "    }\n",
       "\n",
       "    .dataframe tbody tr th {\n",
       "        vertical-align: top;\n",
       "    }\n",
       "\n",
       "    .dataframe thead th {\n",
       "        text-align: right;\n",
       "    }\n",
       "</style>\n",
       "<table border=\"1\" class=\"dataframe\">\n",
       "  <thead>\n",
       "    <tr style=\"text-align: right;\">\n",
       "      <th></th>\n",
       "      <th>y_pred</th>\n",
       "    </tr>\n",
       "    <tr>\n",
       "      <th>y</th>\n",
       "      <th></th>\n",
       "    </tr>\n",
       "  </thead>\n",
       "  <tbody>\n",
       "    <tr>\n",
       "      <th>-1.1875</th>\n",
       "      <td>0.725865</td>\n",
       "    </tr>\n",
       "    <tr>\n",
       "      <th>-0.1875</th>\n",
       "      <td>0.162791</td>\n",
       "    </tr>\n",
       "    <tr>\n",
       "      <th>0.8125</th>\n",
       "      <td>-0.629142</td>\n",
       "    </tr>\n",
       "  </tbody>\n",
       "</table>\n",
       "</div>"
      ],
      "text/plain": [
       "           y_pred\n",
       "y                \n",
       "-1.1875  0.725865\n",
       "-0.1875  0.162791\n",
       " 0.8125 -0.629142"
      ]
     },
     "metadata": {},
     "output_type": "display_data"
    },
    {
     "name": "stderr",
     "output_type": "stream",
     "text": [
      "/home/bsmith16/.conda/envs/neuralsignature/lib/python3.8/site-packages/seaborn/_decorators.py:36: FutureWarning: Pass the following variables as keyword args: x, y. From version 0.12, the only valid positional argument will be `data`, and passing other arguments without an explicit keyword will result in an error or misinterpretation.\n",
      "  warnings.warn(\n"
     ]
    },
    {
     "data": {
      "image/png": "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\n",
      "text/plain": [
       "<Figure size 432x288 with 1 Axes>"
      ]
     },
     "metadata": {
      "needs_background": "light"
     },
     "output_type": "display_data"
    },
    {
     "data": {
      "text/html": [
       "<div>\n",
       "<style scoped>\n",
       "    .dataframe tbody tr th:only-of-type {\n",
       "        vertical-align: middle;\n",
       "    }\n",
       "\n",
       "    .dataframe tbody tr th {\n",
       "        vertical-align: top;\n",
       "    }\n",
       "\n",
       "    .dataframe thead th {\n",
       "        text-align: right;\n",
       "    }\n",
       "</style>\n",
       "<table border=\"1\" class=\"dataframe\">\n",
       "  <thead>\n",
       "    <tr style=\"text-align: right;\">\n",
       "      <th></th>\n",
       "      <th>y_pred</th>\n",
       "    </tr>\n",
       "    <tr>\n",
       "      <th>y</th>\n",
       "      <th></th>\n",
       "    </tr>\n",
       "  </thead>\n",
       "  <tbody>\n",
       "    <tr>\n",
       "      <th>-1.1875</th>\n",
       "      <td>0.369309</td>\n",
       "    </tr>\n",
       "    <tr>\n",
       "      <th>-0.1875</th>\n",
       "      <td>0.249236</td>\n",
       "    </tr>\n",
       "    <tr>\n",
       "      <th>0.8125</th>\n",
       "      <td>-0.296542</td>\n",
       "    </tr>\n",
       "    <tr>\n",
       "      <th>1.8125</th>\n",
       "      <td>-1.064239</td>\n",
       "    </tr>\n",
       "  </tbody>\n",
       "</table>\n",
       "</div>"
      ],
      "text/plain": [
       "           y_pred\n",
       "y                \n",
       "-1.1875  0.369309\n",
       "-0.1875  0.249236\n",
       " 0.8125 -0.296542\n",
       " 1.8125 -1.064239"
=======
       "-1.076923  1.332698\n",
       "-0.076923 -0.406930\n",
       " 0.923077 -0.740614"
>>>>>>> f1fd970dfb9ec5fcfe7b2c2668526e789a921626
      ]
     },
     "metadata": {},
     "output_type": "display_data"
    },
    {
<<<<<<< HEAD
=======
     "name": "stdout",
     "output_type": "stream",
     "text": [
      "Spearman's rho within subject and run:\n",
      "0.2639769750955948\n",
      "Spearman's rho within subject only:\n",
      "0.23358988665767963\n",
      "Spearman's rho across subjects:\n",
      "0.22100484993490596\n"
     ]
    }
   ],
   "source": [
    "within_group_predictions_sp = within_group_performance(\n",
    "    results,spearmanr_cor_func,'result_group',obs_col_name='y',pred_col_name='y_pred') \n",
    "rho_score_within_subj = np.mean(within_group_predictions_sp)\n",
    "print(\"Spearman's rho within subject and run:\")\n",
    "print(rho_score_within_subj)\n",
    "\n",
    "within_subj_predictions_sp = within_group_performance(results,spearmanr_cor_func,'subject',obs_col_name='y',pred_col_name='y_pred') \n",
    "rho_score_within_subj_run = np.mean(within_subj_predictions_sp)\n",
    "print(\"Spearman's rho within subject only:\")\n",
    "print(rho_score_within_subj_run)\n",
    "\n",
    "\n",
    "\n",
    "print(\"Spearman's rho across subjects:\")\n",
    "print(spearmanr(results['y'],results['y_pred'])[0])"
   ]
  },
  {
   "cell_type": "markdown",
   "id": "postal-wheel",
   "metadata": {},
   "source": [
    "### 2s"
   ]
  },
  {
   "cell_type": "code",
   "execution_count": 50,
   "id": "regional-tragedy",
   "metadata": {},
   "outputs": [
    {
>>>>>>> f1fd970dfb9ec5fcfe7b2c2668526e789a921626
     "name": "stderr",
     "output_type": "stream",
     "text": [
      "/home/bsmith16/.conda/envs/neuralsignature/lib/python3.8/site-packages/seaborn/_decorators.py:36: FutureWarning: Pass the following variables as keyword args: x, y. From version 0.12, the only valid positional argument will be `data`, and passing other arguments without an explicit keyword will result in an error or misinterpretation.\n",
      "  warnings.warn(\n"
     ]
    },
    {
     "data": {
<<<<<<< HEAD
      "image/png": "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\n",
=======
      "image/png": "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\n",
>>>>>>> f1fd970dfb9ec5fcfe7b2c2668526e789a921626
      "text/plain": [
       "<Figure size 432x288 with 1 Axes>"
      ]
     },
     "metadata": {
      "needs_background": "light"
     },
     "output_type": "display_data"
    },
    {
     "data": {
      "text/html": [
       "<div>\n",
       "<style scoped>\n",
       "    .dataframe tbody tr th:only-of-type {\n",
       "        vertical-align: middle;\n",
       "    }\n",
       "\n",
       "    .dataframe tbody tr th {\n",
       "        vertical-align: top;\n",
       "    }\n",
       "\n",
       "    .dataframe thead th {\n",
       "        text-align: right;\n",
       "    }\n",
       "</style>\n",
       "<table border=\"1\" class=\"dataframe\">\n",
       "  <thead>\n",
       "    <tr style=\"text-align: right;\">\n",
       "      <th></th>\n",
       "      <th>y_pred</th>\n",
       "    </tr>\n",
       "    <tr>\n",
       "      <th>y</th>\n",
       "      <th></th>\n",
       "    </tr>\n",
       "  </thead>\n",
       "  <tbody>\n",
       "    <tr>\n",
<<<<<<< HEAD
       "      <th>-1.466667</th>\n",
       "      <td>0.360445</td>\n",
       "    </tr>\n",
       "    <tr>\n",
       "      <th>-0.466667</th>\n",
       "      <td>0.388944</td>\n",
       "    </tr>\n",
       "    <tr>\n",
       "      <th>0.533333</th>\n",
       "      <td>-0.456552</td>\n",
       "    </tr>\n",
       "    <tr>\n",
       "      <th>1.533333</th>\n",
       "      <td>-0.399948</td>\n",
=======
       "      <th>-0.454545</th>\n",
       "      <td>0.260062</td>\n",
       "    </tr>\n",
       "    <tr>\n",
       "      <th>0.545455</th>\n",
       "      <td>-0.866231</td>\n",
       "    </tr>\n",
       "    <tr>\n",
       "      <th>1.545455</th>\n",
       "      <td>-0.607135</td>\n",
>>>>>>> f1fd970dfb9ec5fcfe7b2c2668526e789a921626
       "    </tr>\n",
       "  </tbody>\n",
       "</table>\n",
       "</div>"
      ],
      "text/plain": [
       "             y_pred\n",
       "y                  \n",
<<<<<<< HEAD
       "-1.466667  0.360445\n",
       "-0.466667  0.388944\n",
       " 0.533333 -0.456552\n",
       " 1.533333 -0.399948"
=======
       "-0.454545  0.260062\n",
       " 0.545455 -0.866231\n",
       " 1.545455 -0.607135"
>>>>>>> f1fd970dfb9ec5fcfe7b2c2668526e789a921626
      ]
     },
     "metadata": {},
     "output_type": "display_data"
    },
    {
     "name": "stderr",
     "output_type": "stream",
     "text": [
      "/home/bsmith16/.conda/envs/neuralsignature/lib/python3.8/site-packages/seaborn/_decorators.py:36: FutureWarning: Pass the following variables as keyword args: x, y. From version 0.12, the only valid positional argument will be `data`, and passing other arguments without an explicit keyword will result in an error or misinterpretation.\n",
      "  warnings.warn(\n"
     ]
    },
    {
     "data": {
<<<<<<< HEAD
      "image/png": "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\n",
=======
      "image/png": "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\n",
>>>>>>> f1fd970dfb9ec5fcfe7b2c2668526e789a921626
      "text/plain": [
       "<Figure size 432x288 with 1 Axes>"
      ]
     },
     "metadata": {
      "needs_background": "light"
     },
     "output_type": "display_data"
    },
    {
     "data": {
      "text/html": [
       "<div>\n",
       "<style scoped>\n",
       "    .dataframe tbody tr th:only-of-type {\n",
       "        vertical-align: middle;\n",
       "    }\n",
       "\n",
       "    .dataframe tbody tr th {\n",
       "        vertical-align: top;\n",
       "    }\n",
       "\n",
       "    .dataframe thead th {\n",
       "        text-align: right;\n",
       "    }\n",
       "</style>\n",
       "<table border=\"1\" class=\"dataframe\">\n",
       "  <thead>\n",
       "    <tr style=\"text-align: right;\">\n",
       "      <th></th>\n",
       "      <th>y_pred</th>\n",
       "    </tr>\n",
       "    <tr>\n",
       "      <th>y</th>\n",
       "      <th></th>\n",
       "    </tr>\n",
       "  </thead>\n",
       "  <tbody>\n",
       "    <tr>\n",
<<<<<<< HEAD
       "      <th>-1.785714</th>\n",
       "      <td>1.181976</td>\n",
       "    </tr>\n",
       "    <tr>\n",
       "      <th>-0.785714</th>\n",
       "      <td>0.188605</td>\n",
       "    </tr>\n",
       "    <tr>\n",
       "      <th>0.214286</th>\n",
       "      <td>-0.208981</td>\n",
       "    </tr>\n",
       "    <tr>\n",
       "      <th>1.214286</th>\n",
       "      <td>-0.322270</td>\n",
=======
       "      <th>-1.0625</th>\n",
       "      <td>0.446328</td>\n",
       "    </tr>\n",
       "    <tr>\n",
       "      <th>-0.0625</th>\n",
       "      <td>-0.721532</td>\n",
       "    </tr>\n",
       "    <tr>\n",
       "      <th>0.9375</th>\n",
       "      <td>-0.283022</td>\n",
       "    </tr>\n",
       "    <tr>\n",
       "      <th>1.9375</th>\n",
       "      <td>0.016899</td>\n",
>>>>>>> f1fd970dfb9ec5fcfe7b2c2668526e789a921626
       "    </tr>\n",
       "  </tbody>\n",
       "</table>\n",
       "</div>"
      ],
      "text/plain": [
<<<<<<< HEAD
       "             y_pred\n",
       "y                  \n",
       "-1.785714  1.181976\n",
       "-0.785714  0.188605\n",
       " 0.214286 -0.208981\n",
       " 1.214286 -0.322270"
=======
       "           y_pred\n",
       "y                \n",
       "-1.0625  0.446328\n",
       "-0.0625 -0.721532\n",
       " 0.9375 -0.283022\n",
       " 1.9375  0.016899"
>>>>>>> f1fd970dfb9ec5fcfe7b2c2668526e789a921626
      ]
     },
     "metadata": {},
     "output_type": "display_data"
    },
    {
     "name": "stdout",
     "output_type": "stream",
     "text": [
      "Pearson's R^2 within subject and run:\n",
<<<<<<< HEAD
      "0.002093573724680856\n",
      "Pearson's R^2 within subject only:\n",
      "0.001953907975400417\n",
      "Pearson's R^2 across subjects:\n",
      "0.0010958250014552668\n"
=======
      "0.0032775026968980187\n",
      "Pearson's R^2 within subject only:\n",
      "0.004250309334337535\n",
      "Pearson's R^2 across subjects:\n",
      "0.0036006249725942844\n"
>>>>>>> f1fd970dfb9ec5fcfe7b2c2668526e789a921626
     ]
    }
   ],
   "source": [
<<<<<<< HEAD
    "loocv_results = pickle.load(open(data_path + \"train_test_results_ns_2s_split_12_40subs.pkl\",'rb'))\n",
=======
    "loocv_results = pickle.load(open(data_path + \"train_test_results_ns_2s_split_2_40subs.pkl\",'rb'))\n",
>>>>>>> f1fd970dfb9ec5fcfe7b2c2668526e789a921626
    "test_scores_same=loocv_results[0]\n",
    "tt_results=loocv_results[1]\n",
    "results_by_trainset_item=loocv_results[2]\n",
    "\n",
    "results = pd.concat([metadata,results_by_trainset_item],axis=1)\n",
    "results['result_group'] = results.group + \"_\" + results.run\n",
    "#trim subjects where we don't have data. this will be 20 because there's 20 subjects in the metadata but only 40 being processed.\n",
    "results = results.loc[pd.isnull(results.result_group)==False,]\n",
    "\n",
    "\n",
    "within_group_predictions = within_group_performance(\n",
    "    results,pearsonr_cor_func,'result_group',obs_col_name='y',pred_col_name='y_pred') \n",
    "r2_score_within_subj = math.pow(np.mean(within_group_predictions),2)\n",
    "print(\"Pearson's R^2 within subject and run:\")\n",
    "print(r2_score_within_subj)\n",
    "\n",
    "within_subj_predictions = within_group_performance(results,pearsonr_cor_func,'subject',obs_col_name='y',pred_col_name='y_pred') \n",
    "r2_score_within_subj_run = math.pow(np.mean(within_subj_predictions),2)\n",
    "print(\"Pearson's R^2 within subject only:\")\n",
    "print(r2_score_within_subj_run)\n",
    "\n",
    "\n",
    "\n",
    "print(\"Pearson's R^2 across subjects:\")\n",
    "print(math.pow(pearsonr(results['y'],results['y_pred'])[0],2))"
   ]
  },
  {
   "cell_type": "code",
<<<<<<< HEAD
   "execution_count": 31,
   "id": "angry-intake",
=======
   "execution_count": 51,
   "id": "severe-toner",
>>>>>>> f1fd970dfb9ec5fcfe7b2c2668526e789a921626
   "metadata": {},
   "outputs": [
    {
     "name": "stderr",
     "output_type": "stream",
     "text": [
      "/home/bsmith16/.conda/envs/neuralsignature/lib/python3.8/site-packages/seaborn/_decorators.py:36: FutureWarning: Pass the following variables as keyword args: x, y. From version 0.12, the only valid positional argument will be `data`, and passing other arguments without an explicit keyword will result in an error or misinterpretation.\n",
      "  warnings.warn(\n"
     ]
    },
    {
     "data": {
<<<<<<< HEAD
      "image/png": "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\n",
=======
      "image/png": "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\n",
>>>>>>> f1fd970dfb9ec5fcfe7b2c2668526e789a921626
      "text/plain": [
       "<Figure size 432x288 with 1 Axes>"
      ]
     },
     "metadata": {
      "needs_background": "light"
     },
     "output_type": "display_data"
    },
    {
     "data": {
      "text/html": [
       "<div>\n",
       "<style scoped>\n",
       "    .dataframe tbody tr th:only-of-type {\n",
       "        vertical-align: middle;\n",
       "    }\n",
       "\n",
       "    .dataframe tbody tr th {\n",
       "        vertical-align: top;\n",
       "    }\n",
       "\n",
       "    .dataframe thead th {\n",
       "        text-align: right;\n",
       "    }\n",
       "</style>\n",
       "<table border=\"1\" class=\"dataframe\">\n",
       "  <thead>\n",
       "    <tr style=\"text-align: right;\">\n",
       "      <th></th>\n",
       "      <th>y_pred</th>\n",
       "    </tr>\n",
       "    <tr>\n",
       "      <th>y</th>\n",
       "      <th></th>\n",
       "    </tr>\n",
       "  </thead>\n",
       "  <tbody>\n",
       "    <tr>\n",
<<<<<<< HEAD
       "      <th>-1.1875</th>\n",
       "      <td>0.725865</td>\n",
       "    </tr>\n",
       "    <tr>\n",
       "      <th>-0.1875</th>\n",
       "      <td>0.162791</td>\n",
       "    </tr>\n",
       "    <tr>\n",
       "      <th>0.8125</th>\n",
       "      <td>-0.629142</td>\n",
=======
       "      <th>-0.454545</th>\n",
       "      <td>0.260062</td>\n",
       "    </tr>\n",
       "    <tr>\n",
       "      <th>0.545455</th>\n",
       "      <td>-0.866231</td>\n",
       "    </tr>\n",
       "    <tr>\n",
       "      <th>1.545455</th>\n",
       "      <td>-0.607135</td>\n",
>>>>>>> f1fd970dfb9ec5fcfe7b2c2668526e789a921626
       "    </tr>\n",
       "  </tbody>\n",
       "</table>\n",
       "</div>"
      ],
      "text/plain": [
<<<<<<< HEAD
       "           y_pred\n",
       "y                \n",
       "-1.1875  0.725865\n",
       "-0.1875  0.162791\n",
       " 0.8125 -0.629142"
=======
       "             y_pred\n",
       "y                  \n",
       "-0.454545  0.260062\n",
       " 0.545455 -0.866231\n",
       " 1.545455 -0.607135"
>>>>>>> f1fd970dfb9ec5fcfe7b2c2668526e789a921626
      ]
     },
     "metadata": {},
     "output_type": "display_data"
    },
    {
     "name": "stderr",
     "output_type": "stream",
     "text": [
      "/home/bsmith16/.conda/envs/neuralsignature/lib/python3.8/site-packages/seaborn/_decorators.py:36: FutureWarning: Pass the following variables as keyword args: x, y. From version 0.12, the only valid positional argument will be `data`, and passing other arguments without an explicit keyword will result in an error or misinterpretation.\n",
      "  warnings.warn(\n"
     ]
    },
    {
     "data": {
<<<<<<< HEAD
      "image/png": "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\n",
=======
      "image/png": "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\n",
>>>>>>> f1fd970dfb9ec5fcfe7b2c2668526e789a921626
      "text/plain": [
       "<Figure size 432x288 with 1 Axes>"
      ]
     },
     "metadata": {
      "needs_background": "light"
     },
     "output_type": "display_data"
    },
    {
     "data": {
      "text/html": [
       "<div>\n",
       "<style scoped>\n",
       "    .dataframe tbody tr th:only-of-type {\n",
       "        vertical-align: middle;\n",
       "    }\n",
       "\n",
       "    .dataframe tbody tr th {\n",
       "        vertical-align: top;\n",
       "    }\n",
       "\n",
       "    .dataframe thead th {\n",
       "        text-align: right;\n",
       "    }\n",
       "</style>\n",
       "<table border=\"1\" class=\"dataframe\">\n",
       "  <thead>\n",
       "    <tr style=\"text-align: right;\">\n",
       "      <th></th>\n",
       "      <th>y_pred</th>\n",
       "    </tr>\n",
       "    <tr>\n",
       "      <th>y</th>\n",
       "      <th></th>\n",
       "    </tr>\n",
       "  </thead>\n",
       "  <tbody>\n",
       "    <tr>\n",
<<<<<<< HEAD
       "      <th>-1.1875</th>\n",
       "      <td>0.369309</td>\n",
       "    </tr>\n",
       "    <tr>\n",
       "      <th>-0.1875</th>\n",
       "      <td>0.249236</td>\n",
       "    </tr>\n",
       "    <tr>\n",
       "      <th>0.8125</th>\n",
       "      <td>-0.296542</td>\n",
       "    </tr>\n",
       "    <tr>\n",
       "      <th>1.8125</th>\n",
       "      <td>-1.064239</td>\n",
=======
       "      <th>-1.0625</th>\n",
       "      <td>0.446328</td>\n",
       "    </tr>\n",
       "    <tr>\n",
       "      <th>-0.0625</th>\n",
       "      <td>-0.721532</td>\n",
       "    </tr>\n",
       "    <tr>\n",
       "      <th>0.9375</th>\n",
       "      <td>-0.283022</td>\n",
       "    </tr>\n",
       "    <tr>\n",
       "      <th>1.9375</th>\n",
       "      <td>0.016899</td>\n",
>>>>>>> f1fd970dfb9ec5fcfe7b2c2668526e789a921626
       "    </tr>\n",
       "  </tbody>\n",
       "</table>\n",
       "</div>"
      ],
      "text/plain": [
       "           y_pred\n",
       "y                \n",
<<<<<<< HEAD
       "-1.1875  0.369309\n",
       "-0.1875  0.249236\n",
       " 0.8125 -0.296542\n",
       " 1.8125 -1.064239"
=======
       "-1.0625  0.446328\n",
       "-0.0625 -0.721532\n",
       " 0.9375 -0.283022\n",
       " 1.9375  0.016899"
>>>>>>> f1fd970dfb9ec5fcfe7b2c2668526e789a921626
      ]
     },
     "metadata": {},
     "output_type": "display_data"
    },
    {
<<<<<<< HEAD
=======
     "name": "stdout",
     "output_type": "stream",
     "text": [
      "Spearman's rho within subject and run:\n",
      "0.05724947769978359\n",
      "Spearman's rho within subject only:\n",
      "0.06519439649492535\n",
      "Spearman's rho across subjects:\n",
      "0.06334057103506147\n"
     ]
    }
   ],
   "source": [
    "within_group_predictions_sp = within_group_performance(\n",
    "    results,spearmanr_cor_func,'result_group',obs_col_name='y',pred_col_name='y_pred') \n",
    "rho_score_within_subj = np.mean(within_group_predictions_sp)\n",
    "print(\"Spearman's rho within subject and run:\")\n",
    "print(rho_score_within_subj)\n",
    "\n",
    "within_subj_predictions_sp = within_group_performance(results,spearmanr_cor_func,'subject',obs_col_name='y',pred_col_name='y_pred') \n",
    "rho_score_within_subj_run = np.mean(within_subj_predictions_sp)\n",
    "print(\"Spearman's rho within subject only:\")\n",
    "print(rho_score_within_subj_run)\n",
    "\n",
    "\n",
    "\n",
    "print(\"Spearman's rho across subjects:\")\n",
    "print(spearmanr(results['y'],results['y_pred'])[0])"
   ]
  },
  {
   "cell_type": "markdown",
   "id": "quick-breathing",
   "metadata": {},
   "source": [
    "### 4s"
   ]
  },
  {
   "cell_type": "code",
   "execution_count": 52,
   "id": "interstate-kentucky",
   "metadata": {},
   "outputs": [
    {
>>>>>>> f1fd970dfb9ec5fcfe7b2c2668526e789a921626
     "name": "stderr",
     "output_type": "stream",
     "text": [
      "/home/bsmith16/.conda/envs/neuralsignature/lib/python3.8/site-packages/seaborn/_decorators.py:36: FutureWarning: Pass the following variables as keyword args: x, y. From version 0.12, the only valid positional argument will be `data`, and passing other arguments without an explicit keyword will result in an error or misinterpretation.\n",
      "  warnings.warn(\n"
     ]
    },
    {
     "data": {
<<<<<<< HEAD
      "image/png": "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\n",
=======
      "image/png": "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\n",
>>>>>>> f1fd970dfb9ec5fcfe7b2c2668526e789a921626
      "text/plain": [
       "<Figure size 432x288 with 1 Axes>"
      ]
     },
     "metadata": {
      "needs_background": "light"
     },
     "output_type": "display_data"
    },
    {
     "data": {
      "text/html": [
       "<div>\n",
       "<style scoped>\n",
       "    .dataframe tbody tr th:only-of-type {\n",
       "        vertical-align: middle;\n",
       "    }\n",
       "\n",
       "    .dataframe tbody tr th {\n",
       "        vertical-align: top;\n",
       "    }\n",
       "\n",
       "    .dataframe thead th {\n",
       "        text-align: right;\n",
       "    }\n",
       "</style>\n",
       "<table border=\"1\" class=\"dataframe\">\n",
       "  <thead>\n",
       "    <tr style=\"text-align: right;\">\n",
       "      <th></th>\n",
       "      <th>y_pred</th>\n",
       "    </tr>\n",
       "    <tr>\n",
       "      <th>y</th>\n",
       "      <th></th>\n",
       "    </tr>\n",
       "  </thead>\n",
       "  <tbody>\n",
       "    <tr>\n",
<<<<<<< HEAD
       "      <th>-1.466667</th>\n",
       "      <td>0.360445</td>\n",
       "    </tr>\n",
       "    <tr>\n",
       "      <th>-0.466667</th>\n",
       "      <td>0.388944</td>\n",
       "    </tr>\n",
       "    <tr>\n",
       "      <th>0.533333</th>\n",
       "      <td>-0.456552</td>\n",
       "    </tr>\n",
       "    <tr>\n",
       "      <th>1.533333</th>\n",
       "      <td>-0.399948</td>\n",
=======
       "      <th>-1.066667</th>\n",
       "      <td>0.196826</td>\n",
       "    </tr>\n",
       "    <tr>\n",
       "      <th>-0.066667</th>\n",
       "      <td>-0.000570</td>\n",
       "    </tr>\n",
       "    <tr>\n",
       "      <th>0.933333</th>\n",
       "      <td>0.155172</td>\n",
       "    </tr>\n",
       "    <tr>\n",
       "      <th>1.933333</th>\n",
       "      <td>-0.432159</td>\n",
>>>>>>> f1fd970dfb9ec5fcfe7b2c2668526e789a921626
       "    </tr>\n",
       "  </tbody>\n",
       "</table>\n",
       "</div>"
      ],
      "text/plain": [
       "             y_pred\n",
       "y                  \n",
<<<<<<< HEAD
       "-1.466667  0.360445\n",
       "-0.466667  0.388944\n",
       " 0.533333 -0.456552\n",
       " 1.533333 -0.399948"
=======
       "-1.066667  0.196826\n",
       "-0.066667 -0.000570\n",
       " 0.933333  0.155172\n",
       " 1.933333 -0.432159"
>>>>>>> f1fd970dfb9ec5fcfe7b2c2668526e789a921626
      ]
     },
     "metadata": {},
     "output_type": "display_data"
    },
    {
<<<<<<< HEAD
=======
     "name": "stdout",
     "output_type": "stream",
     "text": [
      "Pearson's R^2 within subject and run:\n",
      "0.047083100956367925\n",
      "Pearson's R^2 within subject only:\n",
      "0.04917184087123544\n",
      "Pearson's R^2 across subjects:\n",
      "0.04518776118862989\n"
     ]
    }
   ],
   "source": [
    "loocv_results = pickle.load(open(data_path + \"train_test_results_ns_2s_split_4_40subs.pkl\",'rb'))\n",
    "test_scores_same=loocv_results[0]\n",
    "tt_results=loocv_results[1]\n",
    "results_by_trainset_item=loocv_results[2]\n",
    "\n",
    "results = pd.concat([metadata,results_by_trainset_item],axis=1)\n",
    "results['result_group'] = results.group + \"_\" + results.run\n",
    "#trim subjects where we don't have data. this will be 20 because there's 20 subjects in the metadata but only 40 being processed.\n",
    "results = results.loc[pd.isnull(results.result_group)==False,]\n",
    "\n",
    "\n",
    "within_group_predictions = within_group_performance(\n",
    "    results,pearsonr_cor_func,'result_group',obs_col_name='y',pred_col_name='y_pred') \n",
    "r2_score_within_subj = math.pow(np.mean(within_group_predictions),2)\n",
    "print(\"Pearson's R^2 within subject and run:\")\n",
    "print(r2_score_within_subj)\n",
    "\n",
    "within_subj_predictions = within_group_performance(results,pearsonr_cor_func,'subject',obs_col_name='y',pred_col_name='y_pred') \n",
    "r2_score_within_subj_run = math.pow(np.mean(within_subj_predictions),2)\n",
    "print(\"Pearson's R^2 within subject only:\")\n",
    "print(r2_score_within_subj_run)\n",
    "\n",
    "\n",
    "\n",
    "print(\"Pearson's R^2 across subjects:\")\n",
    "print(math.pow(pearsonr(results['y'],results['y_pred'])[0],2))"
   ]
  },
  {
   "cell_type": "code",
   "execution_count": 53,
   "id": "nearby-oxide",
   "metadata": {},
   "outputs": [
    {
>>>>>>> f1fd970dfb9ec5fcfe7b2c2668526e789a921626
     "name": "stderr",
     "output_type": "stream",
     "text": [
      "/home/bsmith16/.conda/envs/neuralsignature/lib/python3.8/site-packages/seaborn/_decorators.py:36: FutureWarning: Pass the following variables as keyword args: x, y. From version 0.12, the only valid positional argument will be `data`, and passing other arguments without an explicit keyword will result in an error or misinterpretation.\n",
      "  warnings.warn(\n"
     ]
    },
    {
     "data": {
<<<<<<< HEAD
      "image/png": "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\n",
=======
      "image/png": "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\n",
>>>>>>> f1fd970dfb9ec5fcfe7b2c2668526e789a921626
      "text/plain": [
       "<Figure size 432x288 with 1 Axes>"
      ]
     },
     "metadata": {
      "needs_background": "light"
     },
     "output_type": "display_data"
    },
    {
     "data": {
      "text/html": [
       "<div>\n",
       "<style scoped>\n",
       "    .dataframe tbody tr th:only-of-type {\n",
       "        vertical-align: middle;\n",
       "    }\n",
       "\n",
       "    .dataframe tbody tr th {\n",
       "        vertical-align: top;\n",
       "    }\n",
       "\n",
       "    .dataframe thead th {\n",
       "        text-align: right;\n",
       "    }\n",
       "</style>\n",
       "<table border=\"1\" class=\"dataframe\">\n",
       "  <thead>\n",
       "    <tr style=\"text-align: right;\">\n",
       "      <th></th>\n",
       "      <th>y_pred</th>\n",
       "    </tr>\n",
       "    <tr>\n",
       "      <th>y</th>\n",
       "      <th></th>\n",
       "    </tr>\n",
       "  </thead>\n",
       "  <tbody>\n",
       "    <tr>\n",
<<<<<<< HEAD
       "      <th>-1.785714</th>\n",
       "      <td>1.181976</td>\n",
       "    </tr>\n",
       "    <tr>\n",
       "      <th>-0.785714</th>\n",
       "      <td>0.188605</td>\n",
       "    </tr>\n",
       "    <tr>\n",
       "      <th>0.214286</th>\n",
       "      <td>-0.208981</td>\n",
       "    </tr>\n",
       "    <tr>\n",
       "      <th>1.214286</th>\n",
       "      <td>-0.322270</td>\n",
=======
       "      <th>-1.066667</th>\n",
       "      <td>0.196826</td>\n",
       "    </tr>\n",
       "    <tr>\n",
       "      <th>-0.066667</th>\n",
       "      <td>-0.000570</td>\n",
       "    </tr>\n",
       "    <tr>\n",
       "      <th>0.933333</th>\n",
       "      <td>0.155172</td>\n",
       "    </tr>\n",
       "    <tr>\n",
       "      <th>1.933333</th>\n",
       "      <td>-0.432159</td>\n",
>>>>>>> f1fd970dfb9ec5fcfe7b2c2668526e789a921626
       "    </tr>\n",
       "  </tbody>\n",
       "</table>\n",
       "</div>"
      ],
      "text/plain": [
       "             y_pred\n",
       "y                  \n",
<<<<<<< HEAD
       "-1.785714  1.181976\n",
       "-0.785714  0.188605\n",
       " 0.214286 -0.208981\n",
       " 1.214286 -0.322270"
=======
       "-1.066667  0.196826\n",
       "-0.066667 -0.000570\n",
       " 0.933333  0.155172\n",
       " 1.933333 -0.432159"
>>>>>>> f1fd970dfb9ec5fcfe7b2c2668526e789a921626
      ]
     },
     "metadata": {},
     "output_type": "display_data"
    },
    {
     "name": "stdout",
     "output_type": "stream",
     "text": [
      "Spearman's rho within subject and run:\n",
<<<<<<< HEAD
      "0.04575558681386194\n",
      "Spearman's rho within subject only:\n",
      "0.044203031291987396\n",
      "Spearman's rho across subjects:\n",
      "0.036514123688870574\n"
=======
      "0.2169864073078494\n",
      "Spearman's rho within subject only:\n",
      "0.2217472454648207\n",
      "Spearman's rho across subjects:\n",
      "0.20238953083730976\n"
>>>>>>> f1fd970dfb9ec5fcfe7b2c2668526e789a921626
     ]
    }
   ],
   "source": [
    "within_group_predictions_sp = within_group_performance(\n",
    "    results,spearmanr_cor_func,'result_group',obs_col_name='y',pred_col_name='y_pred') \n",
    "rho_score_within_subj = np.mean(within_group_predictions_sp)\n",
    "print(\"Spearman's rho within subject and run:\")\n",
    "print(rho_score_within_subj)\n",
    "\n",
    "within_subj_predictions_sp = within_group_performance(results,spearmanr_cor_func,'subject',obs_col_name='y',pred_col_name='y_pred') \n",
    "rho_score_within_subj_run = np.mean(within_subj_predictions_sp)\n",
    "print(\"Spearman's rho within subject only:\")\n",
    "print(rho_score_within_subj_run)\n",
    "\n",
    "\n",
    "\n",
    "print(\"Spearman's rho across subjects:\")\n",
    "print(spearmanr(results['y'],results['y_pred'])[0])"
   ]
  },
  {
<<<<<<< HEAD
   "cell_type": "markdown",
   "id": "advised-sustainability",
   "metadata": {},
   "source": [
    "## More results"
   ]
  },
  {
   "cell_type": "code",
   "execution_count": null,
   "id": "transparent-soldier",
   "metadata": {},
   "outputs": [],
   "source": [
    "loocv_results = pickle.load(open(data_path + \"train_test_results_ns_2s_split_0_40subs.pkl\",'rb'))\n",
    "test_scores_same=loocv_results[0]\n",
    "tt_results=loocv_results[1]\n",
    "results_by_trainset_item=loocv_results[2]\n",
    "\n",
    "results = pd.concat([metadata,results_by_trainset_item],axis=1)\n",
    "results['result_group'] = results.group + \"_\" + results.run\n",
    "#trim subjects where we don't have data. this will be 20 because there's 20 subjects in the metadata but only 40 being processed.\n",
    "results = results.loc[pd.isnull(results.result_group)==False,]\n",
    "\n",
    "\n",
    "within_group_predictions = within_group_performance(\n",
    "    results,pearsonr_cor_func,'result_group',obs_col_name='y',pred_col_name='y_pred') \n",
    "r2_score_within_subj = math.pow(np.mean(within_group_predictions),2)\n",
    "print(\"Pearson's R^2 within subject and run:\")\n",
    "print(r2_score_within_subj)\n",
    "\n",
    "within_subj_predictions = within_group_performance(results,pearsonr_cor_func,'subject',obs_col_name='y',pred_col_name='y_pred') \n",
    "r2_score_within_subj_run = math.pow(np.mean(within_subj_predictions),2)\n",
    "print(\"Pearson's R^2 within subject only:\")\n",
    "print(r2_score_within_subj_run)\n",
    "\n",
    "print(\"Pearson's R^2 across subjects:\")\n",
    "print(math.pow(pearsonr(results['y'],results['y_pred'])[0],2))"
   ]
=======
   "cell_type": "code",
   "execution_count": null,
   "id": "infinite-drove",
   "metadata": {},
   "outputs": [],
   "source": []
>>>>>>> f1fd970dfb9ec5fcfe7b2c2668526e789a921626
  }
 ],
 "metadata": {
  "kernelspec": {
   "display_name": "Python [conda env:.conda-neuralsignature]",
   "language": "python",
   "name": "conda-env-.conda-neuralsignature-py"
  },
  "language_info": {
   "codemirror_mode": {
    "name": "ipython",
    "version": 3
   },
   "file_extension": ".py",
   "mimetype": "text/x-python",
   "name": "python",
   "nbconvert_exporter": "python",
   "pygments_lexer": "ipython3",
   "version": "3.8.5"
  }
 },
 "nbformat": 4,
 "nbformat_minor": 5
}
