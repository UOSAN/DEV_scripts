{
 "cells": [
  {
   "cell_type": "code",
   "execution_count": 1,
   "id": "competitive-instrument",
   "metadata": {},
   "outputs": [
    {
     "name": "stderr",
     "output_type": "stream",
     "text": [
      "/home/bsmith16/.conda/envs/neuralsignature/lib/python3.8/site-packages/nilearn/datasets/__init__.py:87: FutureWarning: Fetchers from the nilearn.datasets module will be updated in version 0.9 to return python strings instead of bytes and Pandas dataframes instead of Numpy arrays.\n",
      "  warn(\"Fetchers from the nilearn.datasets module will be \"\n"
     ]
    }
   ],
   "source": [
    "import pandas as pd\n",
    "import numpy as np\n",
    "import os\n",
    "import nltools as nlt\n",
    "import nilearn as nil\n",
    "import nibabel as nib\n",
    "import warnings\n",
    "import glob\n",
    "import random\n",
    "import pickle\n",
    "import dev_wtp_io_utils\n",
    "import gc #garbage collection\n",
    "from nilearn import plotting\n",
    "from dev_wtp_io_utils import cv_train_test_sets, asizeof_fmt\n",
    "from sklearn.model_selection import KFold,GroupKFold,LeaveOneOut\n",
    "import os, warnings"
   ]
  },
  {
   "cell_type": "code",
   "execution_count": 2,
   "id": "welcome-labor",
   "metadata": {},
   "outputs": [
    {
     "name": "stdout",
     "output_type": "stream",
     "text": [
      "4\n"
     ]
    }
   ],
   "source": [
    "#custom thing I have set in my jupyter notebook task.\n",
    "cpus_available = int(os.getenv('CPUS_PER_TASK'))\n",
    "print(cpus_available)"
   ]
  },
  {
   "cell_type": "code",
   "execution_count": 3,
   "id": "damaged-collaboration",
   "metadata": {},
   "outputs": [],
   "source": [
    "pd.set_option('display.max_rows', 99)"
   ]
  },
  {
   "cell_type": "markdown",
   "id": "sunset-error",
   "metadata": {},
   "source": [
    "This document starts with the nested cross-validation in `Wtp_train_avg_test_ind_nested_cv`.\n",
    "\n",
    "We then apply Dasa's suggestion to measure performance within-subject. rather than trying to calculate $r^2$ across the entire set, we look at how well training can get a good $r^2$ _within_ each subject in the dataset.\n",
    "\n",
    "It might be helpful to extend this logic somehow to the training as well as final evaluation. But let's see.\n",
    "\n",
    "Since the previous analysis found that it wasn't helpful to analyze average data and then classify on individual; I'll restrict to analyzing individual data."
   ]
  },
  {
   "cell_type": "markdown",
   "id": "textile-fancy",
   "metadata": {},
   "source": [
    "### Load brain data"
   ]
  },
  {
   "cell_type": "code",
   "execution_count": null,
   "id": "enclosed-estate",
   "metadata": {},
   "outputs": [],
   "source": []
  },
  {
   "cell_type": "code",
   "execution_count": 4,
   "id": "pressing-interim",
   "metadata": {},
   "outputs": [],
   "source": [
    "test_train_set = pd.read_csv(\"../data/train_test_markers_20210601T183243.csv\")"
   ]
  },
  {
   "cell_type": "code",
   "execution_count": 5,
   "id": "sorted-platform",
   "metadata": {},
   "outputs": [
    {
     "name": "stdout",
     "output_type": "stream",
     "text": [
      "checked for intersection and no intersection between the brain data and the subjects was found.\n",
      "there were 60 subjects overlapping between the subjects marked for train data and the training dump file itself.\n"
     ]
    }
   ],
   "source": [
    "with open('../data/Brain_Data_2sns_60subs.pkl', 'rb') as pkl_file:\n",
    "    Brain_Data_allsubs = pickle.load(pkl_file)\n",
    "    \n",
    "dev_wtp_io_utils.check_BD_against_test_train_set(Brain_Data_allsubs,test_train_set)"
   ]
  },
  {
   "cell_type": "markdown",
   "id": "golden-decimal",
   "metadata": {},
   "source": [
    "### Preprocess"
   ]
  },
  {
   "cell_type": "code",
   "execution_count": 6,
   "id": "delayed-great",
   "metadata": {},
   "outputs": [
    {
     "name": "stdout",
     "output_type": "stream",
     "text": [
      "5.0    1164\n",
      "6.0    1018\n",
      "7.0     904\n",
      "8.0     604\n",
      "Name: response, dtype: int64\n",
      "5.0    1164\n",
      "6.0    1018\n",
      "7.0     904\n",
      "8.0     604\n",
      "Name: response, dtype: int64\n",
      "False    3690\n",
      "True      150\n",
      "Name: response, dtype: int64\n",
      "3690\n",
      "3840\n"
     ]
    }
   ],
   "source": [
    "Brain_Data_allsubs.Y = Brain_Data_allsubs.X.response.copy()\n",
    "print(Brain_Data_allsubs.Y.value_counts())\n",
    "Brain_Data_allsubs.Y[Brain_Data_allsubs.Y=='NULL']=None\n",
    "print(Brain_Data_allsubs.Y.value_counts())\n",
    "print(Brain_Data_allsubs.Y.isnull().value_counts())\n",
    "Brain_Data_allsubs_nn = Brain_Data_allsubs[Brain_Data_allsubs.Y.isnull()==False]\n",
    "print(len(Brain_Data_allsubs_nn))\n",
    "print(len(Brain_Data_allsubs))"
   ]
  },
  {
   "cell_type": "code",
   "execution_count": 7,
   "id": "painful-brick",
   "metadata": {},
   "outputs": [
    {
     "data": {
      "text/plain": [
       "0       DEV001\n",
       "1       DEV001\n",
       "2       DEV001\n",
       "3       DEV001\n",
       "4       DEV001\n",
       "         ...  \n",
       "3685    DEV089\n",
       "3686    DEV089\n",
       "3687    DEV089\n",
       "3688    DEV089\n",
       "3689    DEV089\n",
       "Name: subject, Length: 3690, dtype: object"
      ]
     },
     "execution_count": 7,
     "metadata": {},
     "output_type": "execute_result"
    }
   ],
   "source": [
    "all_subs_nn_nifti = Brain_Data_allsubs_nn.to_nifti()\n",
    "all_subs_nn_nifti_Y = Brain_Data_allsubs_nn.Y\n",
    "all_subs_nn_nifti_groups = Brain_Data_allsubs_nn.X.subject\n",
    "all_subs_nn_nifti_groups"
   ]
  },
  {
   "cell_type": "markdown",
   "id": "collaborative-reduction",
   "metadata": {},
   "source": [
    "### Get subset"
   ]
  },
  {
   "cell_type": "code",
   "execution_count": 8,
   "id": "latter-climate",
   "metadata": {},
   "outputs": [
    {
     "data": {
      "text/plain": [
       "15"
      ]
     },
     "execution_count": 8,
     "metadata": {},
     "output_type": "execute_result"
    }
   ],
   "source": [
    "del Brain_Data_allsubs\n",
    "#del Brain_Data_allsubs_grouped\n",
    "gc.collect()"
   ]
  },
  {
   "cell_type": "code",
   "execution_count": 9,
   "id": "interested-orientation",
   "metadata": {},
   "outputs": [],
   "source": [
    "from nilearn.decoding import DecoderRegressor\n",
    "dRegressor = DecoderRegressor(estimator = 'ridge_regressor', standardize= True,scoring=\"r2\")"
   ]
  },
  {
   "cell_type": "code",
   "execution_count": 10,
   "id": "sticky-republican",
   "metadata": {},
   "outputs": [
    {
     "name": "stdout",
     "output_type": "stream",
     "text": [
      "__: 232614\n",
      "all_subs_nn_nifti_groups: 232614\n",
      "_7: 232614\n",
      "all_subs_nn_nifti_Y: 29664\n",
      "test_train_set: 9549\n",
      "DecoderRegressor: 1472\n",
      "KFold: 1064\n",
      "GroupKFold: 1064\n",
      "LeaveOneOut: 1064\n",
      "_i1: 448\n"
     ]
    }
   ],
   "source": [
    "import sys\n",
    "for name, size in sorted(((name, sys.getsizeof(value)) for name, value in locals().items()),\n",
    "                         key= lambda x: -x[1])[:10]:\n",
    "    print(name + ': ' + str(size))"
   ]
  },
  {
   "cell_type": "code",
   "execution_count": 11,
   "id": "adjusted-spending",
   "metadata": {},
   "outputs": [
    {
     "data": {
      "text/plain": [
       "'3.3 GiB'"
      ]
     },
     "execution_count": 11,
     "metadata": {},
     "output_type": "execute_result"
    }
   ],
   "source": [
    "asizeof_fmt(Brain_Data_allsubs_nn)"
   ]
  },
  {
   "cell_type": "code",
   "execution_count": 12,
   "id": "settled-diary",
   "metadata": {},
   "outputs": [
    {
     "data": {
      "text/plain": [
       "'12.4 GiB'"
      ]
     },
     "execution_count": 12,
     "metadata": {},
     "output_type": "execute_result"
    }
   ],
   "source": [
    "asizeof_fmt(all_subs_nn_nifti)"
   ]
  },
  {
   "cell_type": "markdown",
   "id": "incredible-gender",
   "metadata": {},
   "source": [
    "As a control, we'll try this again, this time just training and testing on individual values:"
   ]
  },
  {
   "cell_type": "markdown",
   "id": "intense-jesus",
   "metadata": {},
   "source": [
    "get a small sample of subjects to extract"
   ]
  },
  {
   "cell_type": "code",
   "execution_count": 13,
   "id": "super-brisbane",
   "metadata": {},
   "outputs": [],
   "source": [
    "sample_subject_items = np.unique(all_subs_nn_nifti_groups)[0:30]"
   ]
  },
  {
   "cell_type": "code",
   "execution_count": 14,
   "id": "formed-publisher",
   "metadata": {},
   "outputs": [],
   "source": [
    "\n",
    "sample_subject_vector = [i for i, x in enumerate(all_subs_nn_nifti_groups) if x in sample_subject_items]\n",
    "#sample_grouped_subject_vector = [i for i, x in enumerate(all_subs_grouped_nifti_groups) if x in sample_subject_items]"
   ]
  },
  {
   "cell_type": "code",
   "execution_count": 15,
   "id": "extra-appointment",
   "metadata": {},
   "outputs": [
    {
     "data": {
      "text/plain": [
       "50"
      ]
     },
     "execution_count": 15,
     "metadata": {},
     "output_type": "execute_result"
    }
   ],
   "source": [
    "first_subs_nifti = nib.funcs.concat_images([all_subs_nn_nifti.slicer[...,s] for s in sample_subject_vector])\n",
    "first_subs_nifti_Y = all_subs_nn_nifti_Y[sample_subject_vector]\n",
    "first_subs_nifti = nil.image.clean_img(first_subs_nifti,detrend=False,standardize=True)\n",
    "first_subs_nifti_groups = all_subs_nn_nifti_groups[sample_subject_vector]\n",
    "\n",
    "del all_subs_nn_nifti\n",
    "gc.collect()"
   ]
  },
  {
   "cell_type": "code",
   "execution_count": 16,
   "id": "sharp-swift",
   "metadata": {},
   "outputs": [
    {
     "data": {
      "text/plain": [
       "(91, 109, 91, 1835)"
      ]
     },
     "execution_count": 16,
     "metadata": {},
     "output_type": "execute_result"
    }
   ],
   "source": [
    "first_subs_nifti.shape"
   ]
  },
  {
   "cell_type": "code",
   "execution_count": 17,
   "id": "sustained-fossil",
   "metadata": {},
   "outputs": [],
   "source": [
    "cv_outer = KFold(n_splits=3)"
   ]
  },
  {
   "cell_type": "markdown",
   "id": "documented-experience",
   "metadata": {},
   "source": [
    "### Predict\n",
    "\n",
    "Regressing in nilearn:\n",
    " - https://nilearn.github.io/decoding/estimator_choice.html\n",
    " - http://www.ncbi.nlm.nih.gov/pubmed/20691790\n",
    "\n",
    "\n",
    "\n",
    "\n",
    "\n"
   ]
  },
  {
   "cell_type": "markdown",
   "id": "personal-mistress",
   "metadata": {},
   "source": [
    "### Predict with the modified evaluation"
   ]
  },
  {
   "cell_type": "markdown",
   "id": "loved-desire",
   "metadata": {},
   "source": [
    "Don't make it too complicated. If we have to pull this function apart and build a new one, then do that; don't waste time trying to be compatible with everything built within this function."
   ]
  },
  {
   "cell_type": "markdown",
   "id": "cooked-gentleman",
   "metadata": {},
   "source": [
    "We're basically trying to design a 'grouped scorer'. To do this we'd need to somehow pass in the groups to the scorer. Can we do that?"
   ]
  },
  {
   "cell_type": "markdown",
   "id": "alien-level",
   "metadata": {},
   "source": [
    "Working with the DecoderRegressor, you pass in a scorer with the signature:\n",
    "\n",
    "> scorer(estimator, X_test, y_test)\n",
    "\n",
    "https://nilearn.github.io/modules/generated/nilearn.decoding.DecoderRegressor.html\n",
    "\n",
    "It's pretty strict that that has to be the format. So X_test would have to contain the groups. Currently it doesn't, though. It might not be harmful to put a group identifier in X_test as an extra 'voxel' indicating which subject the data came from but it would be a bit of a hack.\n",
    "\n",
    "It seems like nilearn uses `sklearn.metrics.check_scoring` and actually pasess the scorer function to this function:"
   ]
  },
  {
   "cell_type": "raw",
   "id": "unique-nothing",
   "metadata": {},
   "source": [
    "            self.scorer_ = check_scoring(self.estimator,\n",
    "                                         self.scoring)"
   ]
  },
  {
   "cell_type": "markdown",
   "id": "matched-february",
   "metadata": {},
   "source": [
    "(https://github.com/nilearn/nilearn/blob/297b1509/nilearn/decoding/decoder.py#L497).\n",
    "\n",
    "That function has the signature:"
   ]
  },
  {
   "cell_type": "raw",
   "id": "dress-killing",
   "metadata": {},
   "source": [
    "def check_scoring(estimator, scoring=None, *, allow_none=False):"
   ]
  },
  {
   "cell_type": "markdown",
   "id": "subject-sweden",
   "metadata": {},
   "source": [
    "And the documentation says that the scorer object has to have a similar function:\n",
    "    \n",
    ">        scoring : str or callable, default=None\n",
    ">        A string (see model evaluation documentation) or\n",
    ">        a scorer callable object / function with signature\n",
    ">        ``scorer(estimator, X, y)``.\n",
    ">        If None, the provided estimator object's `score` method is used.\n"
   ]
  },
  {
   "cell_type": "markdown",
   "id": "biological-directory",
   "metadata": {},
   "source": [
    "So we would have to do the trick where a specific value in X stores a grouping variable. Then, we could probably create a wrapper for $r^2$ which scores within group.\n",
    "\n",
    "https://scikit-learn.org/stable/modules/model_evaluation.html#the-scoring-parameter-defining-model-evaluation-rules\n",
    "\n",
    "However, as I said before, this would be a hack because we have to put the grouping variable as an extra data point in X and that might cause problems.\n",
    "\n",
    "You can use the `make_scorer` function where you pass in a score function that takes `y`, `y_pred` and arbitrary `**kwargs`. (https://scikit-learn.org/stable/modules/generated/sklearn.metrics.make_scorer.html#sklearn.metrics.make_scorer).\n",
    "\n",
    "However it seems like those parameters need to be passed to the `make_scorer` as it is created - not derived from the data. This is because `make_scorer` is quite prescriptive that it \n",
    "\n",
    "> returns a callable that scores an estimator’s output. The signature of the call is `(estimator, X, y)` where `estimator` is the model to be evaluated, `X` is the data and `y` is the ground truth labeling (or None in the case of unsupervised models).\n",
    "\n",
    "So there's no way to have group passed in.\n",
    "\n",
    "So we might have to do something quite customized. But in the meantime, let's just try it in evaluating the model's final performance, and not include it in any nested CV."
   ]
  },
  {
   "cell_type": "code",
   "execution_count": 18,
   "id": "hidden-bridge",
   "metadata": {},
   "outputs": [],
   "source": [
    "def cv_train_test_sets(\n",
    "    trainset_X, trainset_y, trainset_groups,\n",
    "    regressors = None,\n",
    "    testset_X = None,testset_y = None, testset_groups = None,\n",
    "    param_grid=None,\n",
    "    cpus_to_use=-2,\n",
    "    cv = None):\n",
    "    \"\"\"\n",
    "    uses a division of 'trainset' and 'testset' to allow different values to be trained and tested \n",
    "    in KFold Cross Validation. All the values are used for training and testing, but we use different ones.\n",
    "    This enables us to e.g., pass in aggregated images for training and separate images for testing.\n",
    "    \n",
    "    trainset_X: x values applicalbe for TRAINING\n",
    "    trainset_y\n",
    "    trainset_groups: group allocations for the trainset dataset\n",
    "    testset_X: values grouped into averages for testing\n",
    "    testset_y\n",
    "    cv: a Grouped cross-validator\n",
    "    group_list: name of the groups\n",
    "    \"\"\"\n",
    "    if cv is None:\n",
    "        cv=KFold(n_splits=5)\n",
    "        \n",
    "    if param_grid is not None and regressors is not None:\n",
    "        raise Exception('values for param_grid and regressors both passed, but param_grid is ignored if regressors is passed. choose one.')\n",
    "    \n",
    "    #if the groups we're using are actually the same.\n",
    "    if (testset_X is None) and (testset_y is None):\n",
    "        testset_X = trainset_X\n",
    "        testset_y = trainset_y\n",
    "        testset_groups = trainset_groups\n",
    "        print('Groups are the same.')\n",
    "        \n",
    "\n",
    "    groups_array = np.array(list(set(testset_groups)))\n",
    "    assert(set(trainset_groups)==set(testset_groups))\n",
    "\n",
    "    #the CV that the inner Regressor uses\n",
    "    cv_inner = GroupKFold(3)\n",
    "    if regressors is None:\n",
    "        regressors = [DecoderRegressor(standardize= True,param_grid=param_grid,cv=cv_inner,scoring=\"r2\",\n",
    "                                      n_jobs=cpus_to_use)]\n",
    "        print('using default regressor',end='. ')\n",
    "\n",
    "    #we actually use KFold on the group names themselves, then filter across that\n",
    "    #that's equivalent to doing a GroupedKFold on the data.\n",
    "    test_scores = []\n",
    "    results = []\n",
    "    \n",
    "    outer_n = cv.get_n_splits()\n",
    "    for i, x in enumerate(cv.split(groups_array)):\n",
    "        train_i = x[0]\n",
    "        test_i = x[1]\n",
    "        print(\"fold \" + str(i+1) + \" of \" + str(outer_n))\n",
    "        \n",
    "        fold_i_results = {}\n",
    "        train_group_items, test_group_items = groups_array[train_i], groups_array[test_i]\n",
    "        print('In order to test on a training group of ' +\n",
    "              str(len(train_group_items)) + ' items, holding out the following subjects:' +\n",
    "              str(test_group_items),end='. ')\n",
    "#         print(\n",
    "#             'held out ' + str(len(test_group_items)) + ' items and trained on ' + str(len(train_group_items)) + ' items',\n",
    "#             end='. ')\n",
    "        \n",
    "        print('prepping fold data...',end='. ')\n",
    "        #select training data from the averages\n",
    "        #print('selecting training data',end='. ')\n",
    "        train_selector = [i for i, x in enumerate(trainset_groups) if x in train_group_items]\n",
    "        train_y = trainset_y[train_selector]\n",
    "        train_X = nib.funcs.concat_images([trainset_X.slicer[...,s] for s in train_selector])\n",
    "        train_groups = trainset_groups[train_selector]\n",
    "        #print(train_X.shape,end='. ')\n",
    "        #print(asizeof_fmt(train_X),end='. ')\n",
    "\n",
    "        #select testing data from the individual values\n",
    "        #print('selecting test data',end='. ')\n",
    "        test_selector = [i for i, x in enumerate(testset_groups) if x in test_group_items]\n",
    "        test_y = testset_y[test_selector]\n",
    "        test_X = nib.funcs.concat_images([testset_X.slicer[...,s] for s in test_selector])\n",
    "        test_groups = testset_groups[test_selector]\n",
    "        #print(asizeof_fmt(test_X),end='. ')\n",
    "        #print(test_X.shape,end='. ')\n",
    "\n",
    "\n",
    "        print(\"regressing...\",end='. ')\n",
    "        print(asizeof_fmt(train_X),end='. ')\n",
    "        \n",
    "        val_scores = []\n",
    "        #iterate through regressor objects.\n",
    "        #this is my way of doing cross-validation across different regressors...\n",
    "        hyper_scores = []\n",
    "        train_results = {}\n",
    "        inner_cv_results = {}\n",
    "        for r_i, reg in enumerate(regressors):\n",
    "            cur_r_results = {}\n",
    "            print('trying regressor ' + str(r_i+1) + ' of ' + str(len(regressors)),end='. ')\n",
    "            #if there is nested CV within this function the best hyper-paramters are already being chosen\n",
    "            #we need only to finish the job by identifying the best overall regressor, as the final hyper-parameter\n",
    "            reg.fit(y=train_y,X=train_X,groups=train_groups)\n",
    "            print(\"predicting\",end='. ')\n",
    "            #hyper_score = reg.score(train_X,train_y)\n",
    "            hyper_score = np.max([np.mean(param_values) for param_name, param_values in reg.cv_scores_.items()])\n",
    "            #think there is a bug here. we should not have to be guessing/ignoring param names.\n",
    "            #need to report this.\n",
    "            \n",
    "            hyper_scores = hyper_scores + [hyper_score]\n",
    "            \n",
    "            cur_r_results['hyper_score'] = hyper_score\n",
    "            cur_r_results['cv_scores_'] = reg.cv_scores_\n",
    "            cur_r_results['cv_params_'] = reg.cv_params_\n",
    "            inner_cv_results[str(reg)] = cur_r_results\n",
    "            \n",
    "        fold_i_results['train_results']= inner_cv_results\n",
    "        \n",
    "        #identify which was the best\n",
    "        #print(hyper_scores)\n",
    "        #print(np.where([h==np.max(hyper_scores) for h in hyper_scores])[0][0])\n",
    "        best_hyper_regressor = regressors[np.where([h==np.max(hyper_scores) for h in hyper_scores])[0][0]]\n",
    "        \n",
    "        #print(best_hyper_regressor)\n",
    "        \n",
    "        #now run JUST that one on this fold.\n",
    "        \n",
    "        \n",
    "        #now predict on our test split\n",
    "        test_score = best_hyper_regressor.score(test_X,test_y)\n",
    "        test_y_pred = best_hyper_regressor.predict(test_X)\n",
    "        fold_test_rawdata = pd.DataFrame({\n",
    "            'y_obs':test_y,\n",
    "            'y_pred':test_y_pred,\n",
    "            'y_groups':test_groups\n",
    "            \n",
    "        })\n",
    "        fold_i_results['fold_test_rawdata'] = fold_test_rawdata\n",
    "        #so we can do scoring externally to this function.\n",
    "        \n",
    "        test_scores = test_scores+[test_score]\n",
    "        print('test score was:',end='. ')\n",
    "        print(test_score)\n",
    "        \n",
    "        results = results + [fold_i_results]\n",
    "\n",
    "        del test_X\n",
    "        del train_X\n",
    "        gc.collect() #clean up. this is big data we're working with\n",
    "        #https://stackoverflow.com/questions/1316767/how-can-i-explicitly-free-memory-in-python\n",
    "        \n",
    "\n",
    "    #We could use predefined split\n",
    "#     warnings.warn(\n",
    "#         \"regressor was chosen based on train score across the entire train group, not the test fold of the inner CV.\" +\n",
    "#         \"Overall accuracy is not biased but this may yield a sub-optimal regressor selection.\" +\n",
    "#         \"The alternative, testing on the main holdout set, as described in the nilearn example, may overfit the data (see \"+\n",
    "#         \"https://scikit-learn.org/stable/auto_examples/model_selection/plot_nested_cross_validation_iris.html).\" + \n",
    "#         \"this problem could be addressed with the use of a PredefinedSplit.\" + \n",
    "#         \"See https://scikit-learn.org/stable/modules/generated/sklearn.model_selection.PredefinedSplit.html\")\n",
    "\n",
    "    return(test_scores,results)"
   ]
  },
  {
   "cell_type": "code",
   "execution_count": 19,
   "id": "willing-revelation",
   "metadata": {},
   "outputs": [
    {
     "name": "stdout",
     "output_type": "stream",
     "text": [
      "Groups are the same.\n",
      "using default regressor. fold 1 of 3\n",
      "In order to test on a training group of 20 items, holding out the following subjects:['DEV012' 'DEV042' 'DEV017' 'DEV039' 'DEV024' 'DEV019' 'DEV005' 'DEV001'\n",
      " 'DEV013' 'DEV016']. prepping fold data.... regressing.... 8.3 GiB. trying regressor 1 of 1. predicting. test score was:. 0.17771902615602253\n",
      "fold 2 of 3\n",
      "In order to test on a training group of 20 items, holding out the following subjects:['DEV021' 'DEV028' 'DEV009' 'DEV022' 'DEV010' 'DEV029' 'DEV006' 'DEV035'\n",
      " 'DEV030' 'DEV034']. prepping fold data.... regressing.... 8.2 GiB. trying regressor 1 of 1. "
     ]
    },
    {
     "name": "stderr",
     "output_type": "stream",
     "text": [
      "/home/bsmith16/.conda/envs/neuralsignature/lib/python3.8/site-packages/nilearn/decoding/decoder.py:143: UserWarning: Use a custom estimator at your own risk of the process not working as intended.\n",
      "  warnings.warn('Use a custom estimator at your own risk '\n"
     ]
    },
    {
     "name": "stdout",
     "output_type": "stream",
     "text": [
      "predicting. test score was:. 0.15975874507336685\n",
      "fold 3 of 3\n",
      "In order to test on a training group of 20 items, holding out the following subjects:['DEV026' 'DEV023' 'DEV014' 'DEV036' 'DEV025' 'DEV041' 'DEV018' 'DEV015'\n",
      " 'DEV027' 'DEV040']. prepping fold data.... regressing.... 8.2 GiB. trying regressor 1 of 1. "
     ]
    },
    {
     "name": "stderr",
     "output_type": "stream",
     "text": [
      "/home/bsmith16/.conda/envs/neuralsignature/lib/python3.8/site-packages/nilearn/decoding/decoder.py:143: UserWarning: Use a custom estimator at your own risk of the process not working as intended.\n",
      "  warnings.warn('Use a custom estimator at your own risk '\n"
     ]
    },
    {
     "name": "stdout",
     "output_type": "stream",
     "text": [
      "predicting. test score was:. 0.17553690126317345\n"
     ]
    }
   ],
   "source": [
    "test_scores_same,tt_results = cv_train_test_sets(\n",
    "    trainset_X=first_subs_nifti,\n",
    "    trainset_y=first_subs_nifti_Y,\n",
    "    trainset_groups=first_subs_nifti_groups,\n",
    "    cv=cv_outer,\n",
    "    cpus_to_use=cpus_available-1\n",
    "    \n",
    ")\n",
    "\n"
   ]
  },
  {
   "cell_type": "code",
   "execution_count": 20,
   "id": "economic-consumption",
   "metadata": {},
   "outputs": [
    {
     "name": "stdout",
     "output_type": "stream",
     "text": [
      "0.17771902615602253\n",
      "0.17771902615602253\n"
     ]
    }
   ],
   "source": [
    "print(test_scores_same[0])\n",
    "print(np.mean(test_scores_same[0]))"
   ]
  },
  {
   "cell_type": "code",
   "execution_count": null,
   "id": "understanding-fashion",
   "metadata": {},
   "outputs": [],
   "source": []
  },
  {
   "cell_type": "code",
   "execution_count": 21,
   "id": "enhanced-tribune",
   "metadata": {},
   "outputs": [],
   "source": [
    "results = pd.concat([fold['fold_test_rawdata'] for fold in tt_results])"
   ]
  },
  {
   "cell_type": "code",
   "execution_count": 22,
   "id": "fixed-harrison",
   "metadata": {},
   "outputs": [
    {
     "data": {
      "text/html": [
       "<div>\n",
       "<style scoped>\n",
       "    .dataframe tbody tr th:only-of-type {\n",
       "        vertical-align: middle;\n",
       "    }\n",
       "\n",
       "    .dataframe tbody tr th {\n",
       "        vertical-align: top;\n",
       "    }\n",
       "\n",
       "    .dataframe thead th {\n",
       "        text-align: right;\n",
       "    }\n",
       "</style>\n",
       "<table border=\"1\" class=\"dataframe\">\n",
       "  <thead>\n",
       "    <tr style=\"text-align: right;\">\n",
       "      <th></th>\n",
       "      <th>y_obs</th>\n",
       "      <th>y_pred</th>\n",
       "      <th>y_groups</th>\n",
       "    </tr>\n",
       "  </thead>\n",
       "  <tbody>\n",
       "    <tr>\n",
       "      <th>972</th>\n",
       "      <td>6.0</td>\n",
       "      <td>4.404733</td>\n",
       "      <td>DEV024</td>\n",
       "    </tr>\n",
       "    <tr>\n",
       "      <th>379</th>\n",
       "      <td>7.0</td>\n",
       "      <td>5.864720</td>\n",
       "      <td>DEV013</td>\n",
       "    </tr>\n",
       "    <tr>\n",
       "      <th>212</th>\n",
       "      <td>7.0</td>\n",
       "      <td>5.989234</td>\n",
       "      <td>DEV009</td>\n",
       "    </tr>\n",
       "    <tr>\n",
       "      <th>247</th>\n",
       "      <td>6.0</td>\n",
       "      <td>4.538596</td>\n",
       "      <td>DEV009</td>\n",
       "    </tr>\n",
       "    <tr>\n",
       "      <th>85</th>\n",
       "      <td>7.0</td>\n",
       "      <td>5.749128</td>\n",
       "      <td>DEV005</td>\n",
       "    </tr>\n",
       "  </tbody>\n",
       "</table>\n",
       "</div>"
      ],
      "text/plain": [
       "     y_obs    y_pred y_groups\n",
       "972    6.0  4.404733   DEV024\n",
       "379    7.0  5.864720   DEV013\n",
       "212    7.0  5.989234   DEV009\n",
       "247    6.0  4.538596   DEV009\n",
       "85     7.0  5.749128   DEV005"
      ]
     },
     "execution_count": 22,
     "metadata": {},
     "output_type": "execute_result"
    }
   ],
   "source": [
    "results.sample(5)"
   ]
  },
  {
   "cell_type": "code",
   "execution_count": null,
   "id": "pursuant-reproduction",
   "metadata": {},
   "outputs": [],
   "source": []
  },
  {
   "cell_type": "code",
   "execution_count": 45,
   "id": "noticed-spoke",
   "metadata": {},
   "outputs": [],
   "source": [
    "from sklearn.metrics import r2_score\n",
    "from scipy.stats import pearsonr, spearmanr\n",
    "import math"
   ]
  },
  {
   "cell_type": "code",
   "execution_count": 24,
   "id": "supposed-durham",
   "metadata": {},
   "outputs": [
    {
     "data": {
      "text/plain": [
       "0.17568498734067828"
      ]
     },
     "execution_count": 24,
     "metadata": {},
     "output_type": "execute_result"
    }
   ],
   "source": [
    "r2_score(results['y_obs'],results['y_pred'])"
   ]
  },
  {
   "cell_type": "code",
   "execution_count": 25,
   "id": "occupied-glucose",
   "metadata": {},
   "outputs": [
    {
     "data": {
      "text/plain": [
       "0.17100489083085427"
      ]
     },
     "execution_count": 25,
     "metadata": {},
     "output_type": "execute_result"
    }
   ],
   "source": [
    "np.mean(test_scores_same)"
   ]
  },
  {
   "cell_type": "markdown",
   "id": "adapted-jamaica",
   "metadata": {},
   "source": [
    "Not quite the same, but close enough. Now do this within-subject."
   ]
  },
  {
   "cell_type": "code",
   "execution_count": 26,
   "id": "canadian-botswana",
   "metadata": {},
   "outputs": [],
   "source": [
    "%matplotlib inline"
   ]
  },
  {
   "cell_type": "code",
   "execution_count": 27,
   "id": "precious-kentucky",
   "metadata": {},
   "outputs": [],
   "source": [
    "import seaborn as sns\n",
    "import matplotlib.pyplot as plt"
   ]
  },
  {
   "cell_type": "markdown",
   "id": "perfect-dinner",
   "metadata": {},
   "source": [
    "### r^2 is not hte same as pearson's r and if we use it per-subject it performs LESS well"
   ]
  },
  {
   "cell_type": "code",
   "execution_count": 46,
   "id": "careful-unknown",
   "metadata": {},
   "outputs": [
    {
     "name": "stdout",
     "output_type": "stream",
     "text": [
      "0.5902070536039614\n",
      "0.5944331618534141\n",
      "0.5991605764498206\n",
      "\n",
      "0.3364065853081375\n",
      "0.3684542564398912\n",
      "0.3344782540902762\n",
      "\n",
      "-0.16292075460628141\n",
      "0.3568338850141375\n",
      "0.3880174333149336\n",
      "\n",
      "0.15947674958638125\n",
      "0.24153962311594315\n",
      "0.2318100325532858\n",
      "\n",
      "-0.44746372111713995\n",
      "0.0963258413860082\n",
      "0.149990093170772\n",
      "\n",
      "-1.575303995607518\n",
      "0.1252556042734655\n",
      "0.12498875675064769\n"
     ]
    },
    {
     "name": "stderr",
     "output_type": "stream",
     "text": [
      "/home/bsmith16/.conda/envs/neuralsignature/lib/python3.8/site-packages/seaborn/_decorators.py:36: FutureWarning: Pass the following variables as keyword args: x, y. From version 0.12, the only valid positional argument will be `data`, and passing other arguments without an explicit keyword will result in an error or misinterpretation.\n",
      "  warnings.warn(\n"
     ]
    },
    {
     "data": {
      "image/png": "[encoded data removed]",
      "text/plain": [
       "<Figure size 432x288 with 1 Axes>"
      ]
     },
     "metadata": {
      "needs_background": "light"
     },
     "output_type": "display_data"
    },
    {
     "data": {
      "text/html": [
       "<div>\n",
       "<style scoped>\n",
       "    .dataframe tbody tr th:only-of-type {\n",
       "        vertical-align: middle;\n",
       "    }\n",
       "\n",
       "    .dataframe tbody tr th {\n",
       "        vertical-align: top;\n",
       "    }\n",
       "\n",
       "    .dataframe thead th {\n",
       "        text-align: right;\n",
       "    }\n",
       "</style>\n",
       "<table border=\"1\" class=\"dataframe\">\n",
       "  <thead>\n",
       "    <tr style=\"text-align: right;\">\n",
       "      <th></th>\n",
       "      <th>y_pred</th>\n",
       "    </tr>\n",
       "    <tr>\n",
       "      <th>y_obs</th>\n",
       "      <th></th>\n",
       "    </tr>\n",
       "  </thead>\n",
       "  <tbody>\n",
       "    <tr>\n",
       "      <th>6.0</th>\n",
       "      <td>5.862691</td>\n",
       "    </tr>\n",
       "    <tr>\n",
       "      <th>7.0</th>\n",
       "      <td>5.988570</td>\n",
       "    </tr>\n",
       "    <tr>\n",
       "      <th>8.0</th>\n",
       "      <td>6.377388</td>\n",
       "    </tr>\n",
       "  </tbody>\n",
       "</table>\n",
       "</div>"
      ],
      "text/plain": [
       "         y_pred\n",
       "y_obs          \n",
       "6.0    5.862691\n",
       "7.0    5.988570\n",
       "8.0    6.377388"
      ]
     },
     "metadata": {},
     "output_type": "display_data"
    },
    {
     "name": "stdout",
     "output_type": "stream",
     "text": [
      "\n",
      "0.03736468209341426\n",
      "0.12549564861964785\n",
      "0.08327673613905207\n",
      "\n",
      "-0.21577456738807377\n",
      "0.08131910482294644\n",
      "0.09177473982538704\n",
      "\n",
      "0.21361213901480958\n",
      "0.3196357958266123\n",
      "0.3398271205755053\n",
      "\n",
      "-0.9146270575279458\n",
      "0.08679867576435546\n",
      "0.10426445283877185\n"
     ]
    },
    {
     "name": "stderr",
     "output_type": "stream",
     "text": [
      "/home/bsmith16/.conda/envs/neuralsignature/lib/python3.8/site-packages/seaborn/_decorators.py:36: FutureWarning: Pass the following variables as keyword args: x, y. From version 0.12, the only valid positional argument will be `data`, and passing other arguments without an explicit keyword will result in an error or misinterpretation.\n",
      "  warnings.warn(\n"
     ]
    },
    {
     "data": {
      "image/png": "[encoded data removed]",
      "text/plain": [
       "<Figure size 432x288 with 1 Axes>"
      ]
     },
     "metadata": {
      "needs_background": "light"
     },
     "output_type": "display_data"
    },
    {
     "data": {
      "text/html": [
       "<div>\n",
       "<style scoped>\n",
       "    .dataframe tbody tr th:only-of-type {\n",
       "        vertical-align: middle;\n",
       "    }\n",
       "\n",
       "    .dataframe tbody tr th {\n",
       "        vertical-align: top;\n",
       "    }\n",
       "\n",
       "    .dataframe thead th {\n",
       "        text-align: right;\n",
       "    }\n",
       "</style>\n",
       "<table border=\"1\" class=\"dataframe\">\n",
       "  <thead>\n",
       "    <tr style=\"text-align: right;\">\n",
       "      <th></th>\n",
       "      <th>y_pred</th>\n",
       "    </tr>\n",
       "    <tr>\n",
       "      <th>y_obs</th>\n",
       "      <th></th>\n",
       "    </tr>\n",
       "  </thead>\n",
       "  <tbody>\n",
       "    <tr>\n",
       "      <th>5.0</th>\n",
       "      <td>5.751330</td>\n",
       "    </tr>\n",
       "    <tr>\n",
       "      <th>6.0</th>\n",
       "      <td>6.170618</td>\n",
       "    </tr>\n",
       "    <tr>\n",
       "      <th>7.0</th>\n",
       "      <td>6.249888</td>\n",
       "    </tr>\n",
       "  </tbody>\n",
       "</table>\n",
       "</div>"
      ],
      "text/plain": [
       "         y_pred\n",
       "y_obs          \n",
       "5.0    5.751330\n",
       "6.0    6.170618\n",
       "7.0    6.249888"
      ]
     },
     "metadata": {},
     "output_type": "display_data"
    },
    {
     "name": "stdout",
     "output_type": "stream",
     "text": [
      "\n",
      "0.10659834719241157\n",
      "0.4568515087815647\n",
      "0.5334540387709965\n",
      "\n",
      "0.04280578862471618\n",
      "0.20648861952300748\n",
      "0.20897006038468677\n",
      "\n",
      "0.07952755118349497\n",
      "0.31318927812722014\n",
      "0.31186573793888556\n",
      "\n",
      "0.038345590768861904\n",
      "0.09309948975856114\n",
      "0.09452067482443373\n",
      "\n",
      "0.08212900195075934\n",
      "0.12257185361528115\n",
      "0.13122307338629244\n",
      "\n",
      "0.34475400677246704\n",
      "0.4095871108843185\n",
      "0.4267689870013297\n",
      "\n",
      "-0.14407354793289184\n",
      "0.06119492111331084\n",
      "0.07337623321857104\n",
      "\n",
      "0.35718074642328423\n",
      "0.3987545854209187\n",
      "0.3935298277179057\n",
      "\n",
      "0.1663086938729086\n",
      "0.19441543268415362\n",
      "0.19260097048935\n",
      "\n",
      "0.48747577778038786\n",
      "0.5436783615724378\n",
      "0.5579748230174196\n",
      "\n",
      "0.3461914208380785\n",
      "0.3693378755869378\n",
      "0.4216849071926294\n",
      "\n",
      "0.2528879791668863\n",
      "0.45221441118416145\n",
      "0.49645329009637656\n",
      "\n",
      "0.35503568551485654\n",
      "0.4462576327102741\n",
      "0.5204806624291062\n",
      "\n",
      "-0.17506231052522025\n",
      "0.1536301191714578\n",
      "0.14531658530712313\n",
      "\n",
      "0.18813768522258878\n",
      "0.32152217730612415\n",
      "0.24901617099695642\n",
      "\n",
      "0.12390529019654706\n",
      "0.14258352442697486\n",
      "0.1655110039192041\n",
      "\n",
      "0.3440766912869795\n",
      "0.36496399215447944\n",
      "0.3524130149560433\n",
      "\n",
      "0.3115680780234612\n",
      "0.49754538279194527\n",
      "0.4203698345380855\n",
      "\n",
      "-0.8006775113628357\n",
      "0.03170188362571266\n",
      "0.07703469871331756\n"
     ]
    },
    {
     "name": "stderr",
     "output_type": "stream",
     "text": [
      "/home/bsmith16/.conda/envs/neuralsignature/lib/python3.8/site-packages/seaborn/_decorators.py:36: FutureWarning: Pass the following variables as keyword args: x, y. From version 0.12, the only valid positional argument will be `data`, and passing other arguments without an explicit keyword will result in an error or misinterpretation.\n",
      "  warnings.warn(\n"
     ]
    },
    {
     "data": {
      "image/png": "[encoded data removed]",
      "text/plain": [
       "<Figure size 432x288 with 1 Axes>"
      ]
     },
     "metadata": {
      "needs_background": "light"
     },
     "output_type": "display_data"
    },
    {
     "data": {
      "text/html": [
       "<div>\n",
       "<style scoped>\n",
       "    .dataframe tbody tr th:only-of-type {\n",
       "        vertical-align: middle;\n",
       "    }\n",
       "\n",
       "    .dataframe tbody tr th {\n",
       "        vertical-align: top;\n",
       "    }\n",
       "\n",
       "    .dataframe thead th {\n",
       "        text-align: right;\n",
       "    }\n",
       "</style>\n",
       "<table border=\"1\" class=\"dataframe\">\n",
       "  <thead>\n",
       "    <tr style=\"text-align: right;\">\n",
       "      <th></th>\n",
       "      <th>y_pred</th>\n",
       "    </tr>\n",
       "    <tr>\n",
       "      <th>y_obs</th>\n",
       "      <th></th>\n",
       "    </tr>\n",
       "  </thead>\n",
       "  <tbody>\n",
       "    <tr>\n",
       "      <th>5.0</th>\n",
       "      <td>6.053357</td>\n",
       "    </tr>\n",
       "    <tr>\n",
       "      <th>6.0</th>\n",
       "      <td>5.586015</td>\n",
       "    </tr>\n",
       "    <tr>\n",
       "      <th>7.0</th>\n",
       "      <td>6.358400</td>\n",
       "    </tr>\n",
       "    <tr>\n",
       "      <th>8.0</th>\n",
       "      <td>6.789002</td>\n",
       "    </tr>\n",
       "  </tbody>\n",
       "</table>\n",
       "</div>"
      ],
      "text/plain": [
       "         y_pred\n",
       "y_obs          \n",
       "5.0    6.053357\n",
       "6.0    5.586015\n",
       "7.0    6.358400\n",
       "8.0    6.789002"
      ]
     },
     "metadata": {},
     "output_type": "display_data"
    },
    {
     "name": "stdout",
     "output_type": "stream",
     "text": [
      "\n",
      "-0.4819851922276075\n",
      "0.13837773921534918\n",
      "0.1382553292794903\n",
      "\n"
     ]
    }
   ],
   "source": [
    "within_subj_predictions = []\n",
    "for group in results['y_groups'].unique():\n",
    "    group_results = results.loc[results['y_groups']==group,]\n",
    "    within_subj_prediction = r2_score(group_results['y_obs'],group_results['y_pred'])\n",
    "    print(within_subj_prediction)\n",
    "    print(math.pow(pearsonr(group_results['y_obs'],group_results['y_pred'])[0],2))\n",
    "    print(math.pow(spearmanr(group_results['y_obs'],group_results['y_pred'])[0],2))\n",
    "    #what if we we re-ranked the predicted values into groups along the \n",
    "    if (within_subj_prediction< (-0.5)):\n",
    "\n",
    "        sp = sns.scatterplot(group_results['y_obs'],group_results['y_pred'])\n",
    "        plt.show()\n",
    "        display(pd.DataFrame(group_results.groupby('y_obs').y_pred.mean()))\n",
    "        #display(group_results)\n",
    "    within_subj_predictions = within_subj_predictions + [within_subj_prediction]\n",
    "    print(\"\")\n",
    "    \n",
    "r2_score_within_subj = np.mean(within_subj_predictions)"
   ]
  },
  {
   "cell_type": "markdown",
   "id": "qualified-tuning",
   "metadata": {},
   "source": [
    "We get scores less than -1 when the variance of the observed values is less than the variance of the predicted values.\n",
    "\n",
    "This might suggest we can improve if we can rescale the observed before they go in..."
   ]
  },
  {
   "cell_type": "code",
   "execution_count": 34,
   "id": "later-process",
   "metadata": {},
   "outputs": [
    {
     "data": {
      "text/plain": [
       "0.051858766279825066"
      ]
     },
     "execution_count": 34,
     "metadata": {},
     "output_type": "execute_result"
    }
   ],
   "source": [
    "r2_score_within_subj"
   ]
  },
  {
   "cell_type": "code",
   "execution_count": 35,
   "id": "suspected-conversion",
   "metadata": {},
   "outputs": [
    {
     "data": {
      "text/plain": [
       "[0.26934103772128615,\n",
       " 0.030356279982798662,\n",
       " 0.06323882989498175,\n",
       " 0.16680240135756863,\n",
       " 0.451359977456675,\n",
       " 0.48607431936881995,\n",
       " 0.47209747666790225,\n",
       " 0.1020254367869523,\n",
       " -0.30689405255581725,\n",
       " -0.1868996389924067,\n",
       " 0.4918370285262048,\n",
       " 0.09108172933090974,\n",
       " -0.09027450070030363,\n",
       " 0.33125478032221445,\n",
       " 0.43037419114947617,\n",
       " -0.1700834771946771,\n",
       " -1.5767034537490323,\n",
       " -0.11300485972448926,\n",
       " 0.29756771290442807,\n",
       " -1.319347014289904,\n",
       " 0.08445200052177981,\n",
       " 0.27633403391452827,\n",
       " 0.08055293786767848,\n",
       " 0.44486011197321174,\n",
       " -0.058822273491554444,\n",
       " 0.10286242344026608,\n",
       " 0.4301525685645733,\n",
       " 0.39190464285861804,\n",
       " -0.2710931373656784,\n",
       " 0.1543554758477409]"
      ]
     },
     "execution_count": 35,
     "metadata": {},
     "output_type": "execute_result"
    }
   ],
   "source": [
    "within_subj_predictions"
   ]
  },
  {
   "cell_type": "markdown",
   "id": "pacific-squad",
   "metadata": {},
   "source": [
    "## standardizing doesn't do any good"
   ]
  },
  {
   "cell_type": "markdown",
   "id": "constant-dairy",
   "metadata": {},
   "source": [
    "First, easy fix...reshape the predictions into the exact distribution (mean and SD) as the observations."
   ]
  },
  {
   "cell_type": "code",
   "execution_count": 143,
   "id": "shaped-coaching",
   "metadata": {},
   "outputs": [
    {
     "name": "stdout",
     "output_type": "stream",
     "text": [
      "0.541989833758205\n",
      "0.5944331618534143\n",
      "\n",
      "0.2140086596723948\n",
      "0.36845425643989105\n",
      "\n",
      "0.1947114882081572\n",
      "0.35683388501413726\n",
      "\n",
      "-0.01706638450820419\n",
      "0.2415396231159431\n",
      "\n",
      "-0.3792719069157311\n",
      "0.0963258413860082\n",
      "\n",
      "-0.2921706299581357\n",
      "0.12525560427346555\n",
      "\n",
      "-0.2914926997704317\n",
      "0.12549564861964785\n",
      "\n",
      "-0.42966990322113796\n",
      "0.08131910482294648\n",
      "\n",
      "0.1307268385009921\n",
      "0.3196357958266123\n",
      "\n",
      "-0.41076770025954823\n",
      "0.08679867576435546\n",
      "\n",
      "0.35181582884883367\n",
      "0.4568515087815647\n",
      "\n",
      "-0.09117962275704317\n",
      "0.20648861952300748\n",
      "\n",
      "0.11926632778301738\n",
      "0.31318927812722014\n",
      "\n",
      "-0.38975582015537014\n",
      "0.09309948975856117\n",
      "\n",
      "-0.29979473405213164\n",
      "0.12257185361528115\n",
      "\n",
      "0.2799798605983119\n",
      "0.40958711088431865\n",
      "\n",
      "-0.5052478555344675\n",
      "0.06119492111331084\n"
     ]
    },
    {
     "name": "stderr",
     "output_type": "stream",
     "text": [
      "/home/bsmith16/.conda/envs/neuralsignature/lib/python3.8/site-packages/seaborn/_decorators.py:36: FutureWarning: Pass the following variables as keyword args: x, y. From version 0.12, the only valid positional argument will be `data`, and passing other arguments without an explicit keyword will result in an error or misinterpretation.\n",
      "  warnings.warn(\n"
     ]
    },
    {
     "data": {
      "image/png": "[encoded data removed]",
      "text/plain": [
       "<Figure size 432x288 with 1 Axes>"
      ]
     },
     "metadata": {
      "needs_background": "light"
     },
     "output_type": "display_data"
    },
    {
     "data": {
      "text/html": [
       "<div>\n",
       "<style scoped>\n",
       "    .dataframe tbody tr th:only-of-type {\n",
       "        vertical-align: middle;\n",
       "    }\n",
       "\n",
       "    .dataframe tbody tr th {\n",
       "        vertical-align: top;\n",
       "    }\n",
       "\n",
       "    .dataframe thead th {\n",
       "        text-align: right;\n",
       "    }\n",
       "</style>\n",
       "<table border=\"1\" class=\"dataframe\">\n",
       "  <thead>\n",
       "    <tr style=\"text-align: right;\">\n",
       "      <th></th>\n",
       "      <th>y_pred</th>\n",
       "    </tr>\n",
       "    <tr>\n",
       "      <th>y_obs</th>\n",
       "      <th></th>\n",
       "    </tr>\n",
       "  </thead>\n",
       "  <tbody>\n",
       "    <tr>\n",
       "      <th>-0.957038</th>\n",
       "      <td>-0.402241</td>\n",
       "    </tr>\n",
       "    <tr>\n",
       "      <th>-0.014954</th>\n",
       "      <td>0.445133</td>\n",
       "    </tr>\n",
       "    <tr>\n",
       "      <th>0.927130</th>\n",
       "      <td>-0.231447</td>\n",
       "    </tr>\n",
       "    <tr>\n",
       "      <th>1.869214</th>\n",
       "      <td>0.453752</td>\n",
       "    </tr>\n",
       "  </tbody>\n",
       "</table>\n",
       "</div>"
      ],
      "text/plain": [
       "             y_pred\n",
       "y_obs              \n",
       "-0.957038 -0.402241\n",
       "-0.014954  0.445133\n",
       " 0.927130 -0.231447\n",
       " 1.869214  0.453752"
      ]
     },
     "metadata": {},
     "output_type": "display_data"
    },
    {
     "name": "stdout",
     "output_type": "stream",
     "text": [
      "\n",
      "0.2629403555527372\n",
      "0.3987545854209187\n",
      "\n",
      "-0.11814869125423733\n",
      "0.1944154326841537\n",
      "\n",
      "0.4746909663688019\n",
      "0.5436783615724378\n",
      "\n",
      "0.21546349280747634\n",
      "0.3693378755869378\n",
      "\n",
      "0.344937784708514\n",
      "0.45221441118416145\n",
      "\n",
      "0.33605034741999773\n",
      "0.44625763271027424\n",
      "\n",
      "-0.21608643544978046\n",
      "0.15363011917145786\n",
      "\n",
      "0.1340585122578536\n",
      "0.321522177306124\n",
      "\n",
      "-0.24479532727352704\n",
      "0.14258352442697486\n",
      "\n",
      "0.20824499527948281\n",
      "0.36496399215447956\n",
      "\n",
      "0.4107379385157901\n",
      "0.49754538279194527\n",
      "\n",
      "-0.6438995443658482\n",
      "0.031701883625712655\n"
     ]
    },
    {
     "name": "stderr",
     "output_type": "stream",
     "text": [
      "/home/bsmith16/.conda/envs/neuralsignature/lib/python3.8/site-packages/seaborn/_decorators.py:36: FutureWarning: Pass the following variables as keyword args: x, y. From version 0.12, the only valid positional argument will be `data`, and passing other arguments without an explicit keyword will result in an error or misinterpretation.\n",
      "  warnings.warn(\n"
     ]
    },
    {
     "data": {
      "image/png": "[encoded data removed]",
      "text/plain": [
       "<Figure size 432x288 with 1 Axes>"
      ]
     },
     "metadata": {
      "needs_background": "light"
     },
     "output_type": "display_data"
    },
    {
     "data": {
      "text/html": [
       "<div>\n",
       "<style scoped>\n",
       "    .dataframe tbody tr th:only-of-type {\n",
       "        vertical-align: middle;\n",
       "    }\n",
       "\n",
       "    .dataframe tbody tr th {\n",
       "        vertical-align: top;\n",
       "    }\n",
       "\n",
       "    .dataframe thead th {\n",
       "        text-align: right;\n",
       "    }\n",
       "</style>\n",
       "<table border=\"1\" class=\"dataframe\">\n",
       "  <thead>\n",
       "    <tr style=\"text-align: right;\">\n",
       "      <th></th>\n",
       "      <th>y_pred</th>\n",
       "    </tr>\n",
       "    <tr>\n",
       "      <th>y_obs</th>\n",
       "      <th></th>\n",
       "    </tr>\n",
       "  </thead>\n",
       "  <tbody>\n",
       "    <tr>\n",
       "      <th>-0.604708</th>\n",
       "      <td>-0.009831</td>\n",
       "    </tr>\n",
       "    <tr>\n",
       "      <th>0.449212</th>\n",
       "      <td>-0.538640</td>\n",
       "    </tr>\n",
       "    <tr>\n",
       "      <th>1.503131</th>\n",
       "      <td>0.335331</td>\n",
       "    </tr>\n",
       "    <tr>\n",
       "      <th>2.557051</th>\n",
       "      <td>0.822566</td>\n",
       "    </tr>\n",
       "  </tbody>\n",
       "</table>\n",
       "</div>"
      ],
      "text/plain": [
       "             y_pred\n",
       "y_obs              \n",
       "-0.604708 -0.009831\n",
       " 0.449212 -0.538640\n",
       " 1.503131  0.335331\n",
       " 2.557051  0.822566"
      ]
     },
     "metadata": {},
     "output_type": "display_data"
    },
    {
     "name": "stdout",
     "output_type": "stream",
     "text": [
      "\n",
      "-0.256016830256627\n",
      "0.13837773921534918\n",
      "\n"
     ]
    }
   ],
   "source": [
    "within_subj_predictions = []\n",
    "for group in results['y_groups'].unique():\n",
    "    group_results = results.loc[results['y_groups']==group,].copy()\n",
    "    \n",
    "    obs_mean = np.mean(group_results['y_obs'])\n",
    "    pred_mean = np.mean(group_results['y_pred'])\n",
    "    obs_sd = np.std(group_results['y_obs'])\n",
    "    pred_sd = np.std(group_results['y_pred'])\n",
    "    \n",
    "    #let's standardize both.\n",
    "    group_results['y_obs'] = (group_results['y_obs'] - obs_mean)/obs_sd\n",
    "    group_results['y_pred'] = (group_results['y_pred'] - pred_mean)/pred_sd\n",
    "    \n",
    "    within_subj_prediction = r2_score(group_results['y_obs'],group_results['y_pred'])\n",
    "    print(within_subj_prediction)\n",
    "    print(math.pow(pearsonr(group_results['y_obs'],group_results['y_pred'])[0],2))\n",
    "\n",
    "    \n",
    "    #what if we we re-ranked the predicted values into groups along the \n",
    "    if (within_subj_prediction< (-0.5)):\n",
    "\n",
    "        sp = sns.scatterplot(group_results['y_obs'],group_results['y_pred'])\n",
    "        plt.show()\n",
    "        display(pd.DataFrame(group_results.groupby('y_obs').y_pred.mean()))\n",
    "        #display(group_results)\n",
    "    within_subj_predictions = within_subj_predictions + [within_subj_prediction]\n",
    "    print(\"\")\n",
    "    \n",
    "r2_score_within_subj = np.mean(within_subj_predictions)"
   ]
  },
  {
   "cell_type": "code",
   "execution_count": 144,
   "id": "peripheral-notification",
   "metadata": {},
   "outputs": [
    {
     "data": {
      "text/plain": [
       "-0.012191361848388515"
      ]
     },
     "execution_count": 144,
     "metadata": {},
     "output_type": "execute_result"
    }
   ],
   "source": [
    "r2_score_within_subj"
   ]
  },
  {
   "cell_type": "markdown",
   "id": "chief-amino",
   "metadata": {},
   "source": [
    "## Mean centering only"
   ]
  },
  {
   "cell_type": "code",
   "execution_count": 148,
   "id": "expanded-bones",
   "metadata": {},
   "outputs": [
    {
     "name": "stdout",
     "output_type": "stream",
     "text": [
      "0.5908150800143482\n",
      "0.594433161853414\n",
      "\n",
      "0.36845324405119584\n",
      "0.3684542564398912\n",
      "\n",
      "0.28265202774744613\n",
      "0.35683388501413726\n",
      "\n",
      "0.23985160266088812\n",
      "0.24153962311594315\n",
      "\n",
      "-0.09804857034175751\n",
      "0.0963258413860082\n",
      "\n",
      "-0.01809531847312562\n",
      "0.12525560427346547\n",
      "\n",
      "0.044479056296277464\n",
      "0.12549564861964785\n",
      "\n",
      "-0.0735656092867456\n",
      "0.08131910482294648\n",
      "\n",
      "0.31708955337481826\n",
      "0.3196357958266123\n",
      "\n",
      "-0.46349049312177004\n",
      "0.08679867576435546\n",
      "\n",
      "0.4487799093766277\n",
      "0.4568515087815647\n",
      "\n",
      "0.1849129572560706\n",
      "0.20648861952300748\n",
      "\n",
      "0.31035474304853417\n",
      "0.31318927812722014\n",
      "\n",
      "0.08925277956270228\n",
      "0.09309948975856117\n",
      "\n",
      "0.09163689352921611\n",
      "0.12257185361528115\n",
      "\n",
      "0.40958000335310485\n",
      "0.4095871108843185\n",
      "\n",
      "-0.1439811291575499\n",
      "0.06119492111331085\n",
      "\n",
      "0.37855366345731467\n",
      "0.3987545854209187\n",
      "\n",
      "0.18244680372818767\n",
      "0.19441543268415357\n",
      "\n",
      "0.5080945689634344\n",
      "0.5436783615724378\n",
      "\n",
      "0.3609532246603312\n",
      "0.3693378755869378\n",
      "\n",
      "0.4506067483660169\n",
      "0.45221441118416145\n",
      "\n",
      "0.4317000514929613\n",
      "0.4462576327102741\n",
      "\n",
      "0.08056208126340614\n",
      "0.1536301191714578\n",
      "\n",
      "0.2904535696780217\n",
      "0.32152217730612415\n",
      "\n",
      "0.13180186040108066\n",
      "0.14258352442697492\n",
      "\n",
      "0.35737914135558924\n",
      "0.36496399215447944\n",
      "\n",
      "0.4969961843768662\n",
      "0.49754538279194527\n",
      "\n",
      "-0.5358611035641985\n",
      "0.03170188362571266\n"
     ]
    },
    {
     "name": "stderr",
     "output_type": "stream",
     "text": [
      "/home/bsmith16/.conda/envs/neuralsignature/lib/python3.8/site-packages/seaborn/_decorators.py:36: FutureWarning: Pass the following variables as keyword args: x, y. From version 0.12, the only valid positional argument will be `data`, and passing other arguments without an explicit keyword will result in an error or misinterpretation.\n",
      "  warnings.warn(\n"
     ]
    },
    {
     "data": {
      "image/png": "[encoded data removed]",
      "text/plain": [
       "<Figure size 432x288 with 1 Axes>"
      ]
     },
     "metadata": {
      "needs_background": "light"
     },
     "output_type": "display_data"
    },
    {
     "data": {
      "text/html": [
       "<div>\n",
       "<style scoped>\n",
       "    .dataframe tbody tr th:only-of-type {\n",
       "        vertical-align: middle;\n",
       "    }\n",
       "\n",
       "    .dataframe tbody tr th {\n",
       "        vertical-align: top;\n",
       "    }\n",
       "\n",
       "    .dataframe thead th {\n",
       "        text-align: right;\n",
       "    }\n",
       "</style>\n",
       "<table border=\"1\" class=\"dataframe\">\n",
       "  <thead>\n",
       "    <tr style=\"text-align: right;\">\n",
       "      <th></th>\n",
       "      <th>y_pred</th>\n",
       "    </tr>\n",
       "    <tr>\n",
       "      <th>y_obs</th>\n",
       "      <th></th>\n",
       "    </tr>\n",
       "  </thead>\n",
       "  <tbody>\n",
       "    <tr>\n",
       "      <th>-0.57377</th>\n",
       "      <td>-0.008689</td>\n",
       "    </tr>\n",
       "    <tr>\n",
       "      <th>0.42623</th>\n",
       "      <td>-0.476031</td>\n",
       "    </tr>\n",
       "    <tr>\n",
       "      <th>1.42623</th>\n",
       "      <td>0.296354</td>\n",
       "    </tr>\n",
       "    <tr>\n",
       "      <th>2.42623</th>\n",
       "      <td>0.726956</td>\n",
       "    </tr>\n",
       "  </tbody>\n",
       "</table>\n",
       "</div>"
      ],
      "text/plain": [
       "            y_pred\n",
       "y_obs             \n",
       "-0.57377 -0.008689\n",
       " 0.42623 -0.476031\n",
       " 1.42623  0.296354\n",
       " 2.42623  0.726956"
      ]
     },
     "metadata": {},
     "output_type": "display_data"
    },
    {
     "name": "stdout",
     "output_type": "stream",
     "text": [
      "\n",
      "-0.003682981568658983\n",
      "0.13837773921534918\n",
      "\n"
     ]
    }
   ],
   "source": [
    "within_subj_predictions = []\n",
    "for group in results['y_groups'].unique():\n",
    "    group_results = results.loc[results['y_groups']==group,].copy()\n",
    "    \n",
    "    obs_mean = np.mean(group_results['y_obs'])\n",
    "    pred_mean = np.mean(group_results['y_pred'])\n",
    "    obs_sd = np.std(group_results['y_obs'])\n",
    "    pred_sd = np.std(group_results['y_pred'])\n",
    "    \n",
    "    #let's standardize both.\n",
    "    group_results['y_obs'] = (group_results['y_obs'] - obs_mean)\n",
    "    group_results['y_pred'] = (group_results['y_pred'] - pred_mean)\n",
    "    \n",
    "    within_subj_prediction = r2_score(group_results['y_obs'],group_results['y_pred'])\n",
    "    print(within_subj_prediction)\n",
    "    print(math.pow(pearsonr(group_results['y_obs'],group_results['y_pred'])[0],2))\n",
    "\n",
    "    \n",
    "    #what if we we re-ranked the predicted values into groups along the \n",
    "    if (within_subj_prediction< (-0.5)):\n",
    "\n",
    "        sp = sns.scatterplot(group_results['y_obs'],group_results['y_pred'])\n",
    "        plt.show()\n",
    "        display(pd.DataFrame(group_results.groupby('y_obs').y_pred.mean()))\n",
    "        #display(group_results)\n",
    "    within_subj_predictions = within_subj_predictions + [within_subj_prediction]\n",
    "    print(\"\")\n",
    "    \n",
    "r2_score_within_subj = np.mean(within_subj_predictions)"
   ]
  },
  {
   "cell_type": "code",
   "execution_count": 149,
   "id": "worst-transportation",
   "metadata": {},
   "outputs": [
    {
     "data": {
      "text/plain": [
       "0.19035601808335442"
      ]
     },
     "execution_count": 149,
     "metadata": {},
     "output_type": "execute_result"
    }
   ],
   "source": [
    "r2_score_within_subj"
   ]
  },
  {
   "cell_type": "code",
   "execution_count": 150,
   "id": "surgical-forest",
   "metadata": {},
   "outputs": [
    {
     "data": {
      "text/plain": [
       "0.17568498734067828"
      ]
     },
     "execution_count": 150,
     "metadata": {},
     "output_type": "execute_result"
    }
   ],
   "source": [
    "r2_score(results['y_obs'],results['y_pred'])"
   ]
  },
  {
   "cell_type": "code",
   "execution_count": 151,
   "id": "correct-vegetable",
   "metadata": {},
   "outputs": [
    {
     "data": {
      "text/html": [
       "<div>\n",
       "<style scoped>\n",
       "    .dataframe tbody tr th:only-of-type {\n",
       "        vertical-align: middle;\n",
       "    }\n",
       "\n",
       "    .dataframe tbody tr th {\n",
       "        vertical-align: top;\n",
       "    }\n",
       "\n",
       "    .dataframe thead th {\n",
       "        text-align: right;\n",
       "    }\n",
       "</style>\n",
       "<table border=\"1\" class=\"dataframe\">\n",
       "  <thead>\n",
       "    <tr style=\"text-align: right;\">\n",
       "      <th></th>\n",
       "      <th>y_obs</th>\n",
       "      <th>y_pred</th>\n",
       "      <th>y_groups</th>\n",
       "    </tr>\n",
       "  </thead>\n",
       "  <tbody>\n",
       "    <tr>\n",
       "      <th>1710</th>\n",
       "      <td>0.507937</td>\n",
       "      <td>1.267153</td>\n",
       "      <td>DEV041</td>\n",
       "    </tr>\n",
       "    <tr>\n",
       "      <th>1711</th>\n",
       "      <td>0.507937</td>\n",
       "      <td>0.784531</td>\n",
       "      <td>DEV041</td>\n",
       "    </tr>\n",
       "    <tr>\n",
       "      <th>1712</th>\n",
       "      <td>-0.492063</td>\n",
       "      <td>-0.076164</td>\n",
       "      <td>DEV041</td>\n",
       "    </tr>\n",
       "    <tr>\n",
       "      <th>1713</th>\n",
       "      <td>0.507937</td>\n",
       "      <td>0.658888</td>\n",
       "      <td>DEV041</td>\n",
       "    </tr>\n",
       "    <tr>\n",
       "      <th>1714</th>\n",
       "      <td>0.507937</td>\n",
       "      <td>-0.179745</td>\n",
       "      <td>DEV041</td>\n",
       "    </tr>\n",
       "    <tr>\n",
       "      <th>1715</th>\n",
       "      <td>-0.492063</td>\n",
       "      <td>-1.160978</td>\n",
       "      <td>DEV041</td>\n",
       "    </tr>\n",
       "    <tr>\n",
       "      <th>1716</th>\n",
       "      <td>0.507937</td>\n",
       "      <td>0.663509</td>\n",
       "      <td>DEV041</td>\n",
       "    </tr>\n",
       "    <tr>\n",
       "      <th>1717</th>\n",
       "      <td>-0.492063</td>\n",
       "      <td>0.752524</td>\n",
       "      <td>DEV041</td>\n",
       "    </tr>\n",
       "    <tr>\n",
       "      <th>1718</th>\n",
       "      <td>-0.492063</td>\n",
       "      <td>-0.103531</td>\n",
       "      <td>DEV041</td>\n",
       "    </tr>\n",
       "    <tr>\n",
       "      <th>1719</th>\n",
       "      <td>0.507937</td>\n",
       "      <td>-0.391272</td>\n",
       "      <td>DEV041</td>\n",
       "    </tr>\n",
       "    <tr>\n",
       "      <th>1720</th>\n",
       "      <td>-0.492063</td>\n",
       "      <td>-0.718724</td>\n",
       "      <td>DEV041</td>\n",
       "    </tr>\n",
       "    <tr>\n",
       "      <th>1721</th>\n",
       "      <td>-1.492063</td>\n",
       "      <td>-0.736180</td>\n",
       "      <td>DEV041</td>\n",
       "    </tr>\n",
       "    <tr>\n",
       "      <th>1722</th>\n",
       "      <td>-1.492063</td>\n",
       "      <td>-0.146219</td>\n",
       "      <td>DEV041</td>\n",
       "    </tr>\n",
       "    <tr>\n",
       "      <th>1723</th>\n",
       "      <td>0.507937</td>\n",
       "      <td>-0.619186</td>\n",
       "      <td>DEV041</td>\n",
       "    </tr>\n",
       "    <tr>\n",
       "      <th>1724</th>\n",
       "      <td>1.507937</td>\n",
       "      <td>0.427959</td>\n",
       "      <td>DEV041</td>\n",
       "    </tr>\n",
       "    <tr>\n",
       "      <th>1725</th>\n",
       "      <td>-0.492063</td>\n",
       "      <td>-0.121677</td>\n",
       "      <td>DEV041</td>\n",
       "    </tr>\n",
       "    <tr>\n",
       "      <th>1726</th>\n",
       "      <td>0.507937</td>\n",
       "      <td>-0.575433</td>\n",
       "      <td>DEV041</td>\n",
       "    </tr>\n",
       "    <tr>\n",
       "      <th>1727</th>\n",
       "      <td>-0.492063</td>\n",
       "      <td>0.478769</td>\n",
       "      <td>DEV041</td>\n",
       "    </tr>\n",
       "    <tr>\n",
       "      <th>1728</th>\n",
       "      <td>0.507937</td>\n",
       "      <td>1.053087</td>\n",
       "      <td>DEV041</td>\n",
       "    </tr>\n",
       "    <tr>\n",
       "      <th>1729</th>\n",
       "      <td>1.507937</td>\n",
       "      <td>0.970873</td>\n",
       "      <td>DEV041</td>\n",
       "    </tr>\n",
       "    <tr>\n",
       "      <th>1730</th>\n",
       "      <td>0.507937</td>\n",
       "      <td>-0.342973</td>\n",
       "      <td>DEV041</td>\n",
       "    </tr>\n",
       "    <tr>\n",
       "      <th>1731</th>\n",
       "      <td>-0.492063</td>\n",
       "      <td>0.577522</td>\n",
       "      <td>DEV041</td>\n",
       "    </tr>\n",
       "    <tr>\n",
       "      <th>1732</th>\n",
       "      <td>-0.492063</td>\n",
       "      <td>-0.099633</td>\n",
       "      <td>DEV041</td>\n",
       "    </tr>\n",
       "    <tr>\n",
       "      <th>1733</th>\n",
       "      <td>-1.492063</td>\n",
       "      <td>0.124416</td>\n",
       "      <td>DEV041</td>\n",
       "    </tr>\n",
       "    <tr>\n",
       "      <th>1734</th>\n",
       "      <td>-0.492063</td>\n",
       "      <td>0.850462</td>\n",
       "      <td>DEV041</td>\n",
       "    </tr>\n",
       "    <tr>\n",
       "      <th>1735</th>\n",
       "      <td>-0.492063</td>\n",
       "      <td>0.070796</td>\n",
       "      <td>DEV041</td>\n",
       "    </tr>\n",
       "    <tr>\n",
       "      <th>1736</th>\n",
       "      <td>-1.492063</td>\n",
       "      <td>-0.598932</td>\n",
       "      <td>DEV041</td>\n",
       "    </tr>\n",
       "    <tr>\n",
       "      <th>1737</th>\n",
       "      <td>-0.492063</td>\n",
       "      <td>-0.483735</td>\n",
       "      <td>DEV041</td>\n",
       "    </tr>\n",
       "    <tr>\n",
       "      <th>1738</th>\n",
       "      <td>-0.492063</td>\n",
       "      <td>-0.846206</td>\n",
       "      <td>DEV041</td>\n",
       "    </tr>\n",
       "    <tr>\n",
       "      <th>1739</th>\n",
       "      <td>1.507937</td>\n",
       "      <td>-0.472023</td>\n",
       "      <td>DEV041</td>\n",
       "    </tr>\n",
       "    <tr>\n",
       "      <th>1740</th>\n",
       "      <td>0.507937</td>\n",
       "      <td>-0.193254</td>\n",
       "      <td>DEV041</td>\n",
       "    </tr>\n",
       "    <tr>\n",
       "      <th>1741</th>\n",
       "      <td>0.507937</td>\n",
       "      <td>0.734643</td>\n",
       "      <td>DEV041</td>\n",
       "    </tr>\n",
       "    <tr>\n",
       "      <th>1742</th>\n",
       "      <td>1.507937</td>\n",
       "      <td>1.129437</td>\n",
       "      <td>DEV041</td>\n",
       "    </tr>\n",
       "    <tr>\n",
       "      <th>1743</th>\n",
       "      <td>0.507937</td>\n",
       "      <td>0.511814</td>\n",
       "      <td>DEV041</td>\n",
       "    </tr>\n",
       "    <tr>\n",
       "      <th>1744</th>\n",
       "      <td>1.507937</td>\n",
       "      <td>0.086211</td>\n",
       "      <td>DEV041</td>\n",
       "    </tr>\n",
       "    <tr>\n",
       "      <th>1745</th>\n",
       "      <td>-0.492063</td>\n",
       "      <td>-1.017419</td>\n",
       "      <td>DEV041</td>\n",
       "    </tr>\n",
       "    <tr>\n",
       "      <th>1746</th>\n",
       "      <td>-1.492063</td>\n",
       "      <td>-0.732915</td>\n",
       "      <td>DEV041</td>\n",
       "    </tr>\n",
       "    <tr>\n",
       "      <th>1747</th>\n",
       "      <td>0.507937</td>\n",
       "      <td>-0.137561</td>\n",
       "      <td>DEV041</td>\n",
       "    </tr>\n",
       "    <tr>\n",
       "      <th>1748</th>\n",
       "      <td>-0.492063</td>\n",
       "      <td>-0.154263</td>\n",
       "      <td>DEV041</td>\n",
       "    </tr>\n",
       "    <tr>\n",
       "      <th>1749</th>\n",
       "      <td>-0.492063</td>\n",
       "      <td>-0.044875</td>\n",
       "      <td>DEV041</td>\n",
       "    </tr>\n",
       "    <tr>\n",
       "      <th>1750</th>\n",
       "      <td>0.507937</td>\n",
       "      <td>-0.605832</td>\n",
       "      <td>DEV041</td>\n",
       "    </tr>\n",
       "    <tr>\n",
       "      <th>1751</th>\n",
       "      <td>0.507937</td>\n",
       "      <td>0.657459</td>\n",
       "      <td>DEV041</td>\n",
       "    </tr>\n",
       "    <tr>\n",
       "      <th>1752</th>\n",
       "      <td>-0.492063</td>\n",
       "      <td>-0.748985</td>\n",
       "      <td>DEV041</td>\n",
       "    </tr>\n",
       "    <tr>\n",
       "      <th>1753</th>\n",
       "      <td>-0.492063</td>\n",
       "      <td>-0.199315</td>\n",
       "      <td>DEV041</td>\n",
       "    </tr>\n",
       "    <tr>\n",
       "      <th>1754</th>\n",
       "      <td>-0.492063</td>\n",
       "      <td>0.722273</td>\n",
       "      <td>DEV041</td>\n",
       "    </tr>\n",
       "    <tr>\n",
       "      <th>1755</th>\n",
       "      <td>1.507937</td>\n",
       "      <td>0.636225</td>\n",
       "      <td>DEV041</td>\n",
       "    </tr>\n",
       "    <tr>\n",
       "      <th>1756</th>\n",
       "      <td>0.507937</td>\n",
       "      <td>0.088797</td>\n",
       "      <td>DEV041</td>\n",
       "    </tr>\n",
       "    <tr>\n",
       "      <th>1757</th>\n",
       "      <td>-0.492063</td>\n",
       "      <td>-0.840235</td>\n",
       "      <td>DEV041</td>\n",
       "    </tr>\n",
       "    <tr>\n",
       "      <th>1758</th>\n",
       "      <td>-0.492063</td>\n",
       "      <td>-0.540932</td>\n",
       "      <td>DEV041</td>\n",
       "    </tr>\n",
       "    <tr>\n",
       "      <th>1759</th>\n",
       "      <td>1.507937</td>\n",
       "      <td>-0.433706</td>\n",
       "      <td>DEV041</td>\n",
       "    </tr>\n",
       "    <tr>\n",
       "      <th>1760</th>\n",
       "      <td>-0.492063</td>\n",
       "      <td>-1.039302</td>\n",
       "      <td>DEV041</td>\n",
       "    </tr>\n",
       "    <tr>\n",
       "      <th>1761</th>\n",
       "      <td>0.507937</td>\n",
       "      <td>0.286777</td>\n",
       "      <td>DEV041</td>\n",
       "    </tr>\n",
       "    <tr>\n",
       "      <th>1762</th>\n",
       "      <td>-0.492063</td>\n",
       "      <td>-1.053264</td>\n",
       "      <td>DEV041</td>\n",
       "    </tr>\n",
       "    <tr>\n",
       "      <th>1763</th>\n",
       "      <td>-0.492063</td>\n",
       "      <td>0.193965</td>\n",
       "      <td>DEV041</td>\n",
       "    </tr>\n",
       "    <tr>\n",
       "      <th>1764</th>\n",
       "      <td>0.507937</td>\n",
       "      <td>1.315148</td>\n",
       "      <td>DEV041</td>\n",
       "    </tr>\n",
       "    <tr>\n",
       "      <th>1765</th>\n",
       "      <td>0.507937</td>\n",
       "      <td>0.489095</td>\n",
       "      <td>DEV041</td>\n",
       "    </tr>\n",
       "    <tr>\n",
       "      <th>1766</th>\n",
       "      <td>-1.492063</td>\n",
       "      <td>0.211509</td>\n",
       "      <td>DEV041</td>\n",
       "    </tr>\n",
       "    <tr>\n",
       "      <th>1767</th>\n",
       "      <td>-0.492063</td>\n",
       "      <td>-0.274026</td>\n",
       "      <td>DEV041</td>\n",
       "    </tr>\n",
       "    <tr>\n",
       "      <th>1768</th>\n",
       "      <td>-0.492063</td>\n",
       "      <td>-0.342889</td>\n",
       "      <td>DEV041</td>\n",
       "    </tr>\n",
       "    <tr>\n",
       "      <th>1769</th>\n",
       "      <td>0.507937</td>\n",
       "      <td>1.124241</td>\n",
       "      <td>DEV041</td>\n",
       "    </tr>\n",
       "    <tr>\n",
       "      <th>1770</th>\n",
       "      <td>-1.492063</td>\n",
       "      <td>-0.223992</td>\n",
       "      <td>DEV041</td>\n",
       "    </tr>\n",
       "    <tr>\n",
       "      <th>1771</th>\n",
       "      <td>0.507937</td>\n",
       "      <td>-0.587409</td>\n",
       "      <td>DEV041</td>\n",
       "    </tr>\n",
       "    <tr>\n",
       "      <th>1772</th>\n",
       "      <td>1.507937</td>\n",
       "      <td>-0.025296</td>\n",
       "      <td>DEV041</td>\n",
       "    </tr>\n",
       "  </tbody>\n",
       "</table>\n",
       "</div>"
      ],
      "text/plain": [
       "         y_obs    y_pred y_groups\n",
       "1710  0.507937  1.267153   DEV041\n",
       "1711  0.507937  0.784531   DEV041\n",
       "1712 -0.492063 -0.076164   DEV041\n",
       "1713  0.507937  0.658888   DEV041\n",
       "1714  0.507937 -0.179745   DEV041\n",
       "1715 -0.492063 -1.160978   DEV041\n",
       "1716  0.507937  0.663509   DEV041\n",
       "1717 -0.492063  0.752524   DEV041\n",
       "1718 -0.492063 -0.103531   DEV041\n",
       "1719  0.507937 -0.391272   DEV041\n",
       "1720 -0.492063 -0.718724   DEV041\n",
       "1721 -1.492063 -0.736180   DEV041\n",
       "1722 -1.492063 -0.146219   DEV041\n",
       "1723  0.507937 -0.619186   DEV041\n",
       "1724  1.507937  0.427959   DEV041\n",
       "1725 -0.492063 -0.121677   DEV041\n",
       "1726  0.507937 -0.575433   DEV041\n",
       "1727 -0.492063  0.478769   DEV041\n",
       "1728  0.507937  1.053087   DEV041\n",
       "1729  1.507937  0.970873   DEV041\n",
       "1730  0.507937 -0.342973   DEV041\n",
       "1731 -0.492063  0.577522   DEV041\n",
       "1732 -0.492063 -0.099633   DEV041\n",
       "1733 -1.492063  0.124416   DEV041\n",
       "1734 -0.492063  0.850462   DEV041\n",
       "1735 -0.492063  0.070796   DEV041\n",
       "1736 -1.492063 -0.598932   DEV041\n",
       "1737 -0.492063 -0.483735   DEV041\n",
       "1738 -0.492063 -0.846206   DEV041\n",
       "1739  1.507937 -0.472023   DEV041\n",
       "1740  0.507937 -0.193254   DEV041\n",
       "1741  0.507937  0.734643   DEV041\n",
       "1742  1.507937  1.129437   DEV041\n",
       "1743  0.507937  0.511814   DEV041\n",
       "1744  1.507937  0.086211   DEV041\n",
       "1745 -0.492063 -1.017419   DEV041\n",
       "1746 -1.492063 -0.732915   DEV041\n",
       "1747  0.507937 -0.137561   DEV041\n",
       "1748 -0.492063 -0.154263   DEV041\n",
       "1749 -0.492063 -0.044875   DEV041\n",
       "1750  0.507937 -0.605832   DEV041\n",
       "1751  0.507937  0.657459   DEV041\n",
       "1752 -0.492063 -0.748985   DEV041\n",
       "1753 -0.492063 -0.199315   DEV041\n",
       "1754 -0.492063  0.722273   DEV041\n",
       "1755  1.507937  0.636225   DEV041\n",
       "1756  0.507937  0.088797   DEV041\n",
       "1757 -0.492063 -0.840235   DEV041\n",
       "1758 -0.492063 -0.540932   DEV041\n",
       "1759  1.507937 -0.433706   DEV041\n",
       "1760 -0.492063 -1.039302   DEV041\n",
       "1761  0.507937  0.286777   DEV041\n",
       "1762 -0.492063 -1.053264   DEV041\n",
       "1763 -0.492063  0.193965   DEV041\n",
       "1764  0.507937  1.315148   DEV041\n",
       "1765  0.507937  0.489095   DEV041\n",
       "1766 -1.492063  0.211509   DEV041\n",
       "1767 -0.492063 -0.274026   DEV041\n",
       "1768 -0.492063 -0.342889   DEV041\n",
       "1769  0.507937  1.124241   DEV041\n",
       "1770 -1.492063 -0.223992   DEV041\n",
       "1771  0.507937 -0.587409   DEV041\n",
       "1772  1.507937 -0.025296   DEV041"
      ]
     },
     "execution_count": 151,
     "metadata": {},
     "output_type": "execute_result"
    }
   ],
   "source": [
    "group_results"
   ]
  },
  {
   "cell_type": "markdown",
   "id": "loaded-smile",
   "metadata": {},
   "source": [
    "## Rank based method"
   ]
  },
  {
   "cell_type": "code",
   "execution_count": 98,
   "id": "pressing-astrology",
   "metadata": {},
   "outputs": [],
   "source": [
    "def rank_obs(group_results):\n",
    "    #assign the predicted value ranks according to the observed data\n",
    "    #i.e., we know how many of each class in our dataset; we just don't know which are which.\n",
    "    obs_values_in_order = list(group_results['y_obs'])\n",
    "    obs_values_in_order.sort()\n",
    "\n",
    "    group_results = group_results.sort_values('y_pred')\n",
    "    group_results.reset_index(drop=True,inplace=True)\n",
    "\n",
    "    for i in range(len(obs_values_in_order)):\n",
    "        group_results.loc[i,'y_pred']  = obs_values_in_order[i]\n",
    "        \n",
    "    return(group_results)\n"
   ]
  },
  {
   "cell_type": "code",
   "execution_count": 99,
   "id": "nonprofit-worst",
   "metadata": {},
   "outputs": [
    {
     "data": {
      "text/plain": [
       "array(['DEV001', 'DEV005', 'DEV012', 'DEV013', 'DEV016', 'DEV017',\n",
       "       'DEV019', 'DEV024', 'DEV039', 'DEV042', 'DEV006', 'DEV009',\n",
       "       'DEV010', 'DEV021', 'DEV022', 'DEV028', 'DEV029', 'DEV030',\n",
       "       'DEV034', 'DEV035', 'DEV014', 'DEV015', 'DEV018', 'DEV023',\n",
       "       'DEV025', 'DEV026', 'DEV027', 'DEV036', 'DEV040', 'DEV041'],\n",
       "      dtype=object)"
      ]
     },
     "execution_count": 99,
     "metadata": {},
     "output_type": "execute_result"
    }
   ],
   "source": [
    "results['y_groups'].unique()"
   ]
  },
  {
   "cell_type": "code",
   "execution_count": 100,
   "id": "protecting-mozambique",
   "metadata": {},
   "outputs": [
    {
     "data": {
      "text/html": [
       "<div>\n",
       "<style scoped>\n",
       "    .dataframe tbody tr th:only-of-type {\n",
       "        vertical-align: middle;\n",
       "    }\n",
       "\n",
       "    .dataframe tbody tr th {\n",
       "        vertical-align: top;\n",
       "    }\n",
       "\n",
       "    .dataframe thead th {\n",
       "        text-align: right;\n",
       "    }\n",
       "</style>\n",
       "<table border=\"1\" class=\"dataframe\">\n",
       "  <thead>\n",
       "    <tr style=\"text-align: right;\">\n",
       "      <th></th>\n",
       "      <th>y_obs</th>\n",
       "      <th>y_pred</th>\n",
       "      <th>y_groups</th>\n",
       "    </tr>\n",
       "  </thead>\n",
       "  <tbody>\n",
       "    <tr>\n",
       "      <th>0</th>\n",
       "      <td>7.0</td>\n",
       "      <td>6.323644</td>\n",
       "      <td>DEV001</td>\n",
       "    </tr>\n",
       "    <tr>\n",
       "      <th>1</th>\n",
       "      <td>6.0</td>\n",
       "      <td>6.116234</td>\n",
       "      <td>DEV001</td>\n",
       "    </tr>\n",
       "    <tr>\n",
       "      <th>2</th>\n",
       "      <td>6.0</td>\n",
       "      <td>5.719710</td>\n",
       "      <td>DEV001</td>\n",
       "    </tr>\n",
       "    <tr>\n",
       "      <th>3</th>\n",
       "      <td>5.0</td>\n",
       "      <td>5.346074</td>\n",
       "      <td>DEV001</td>\n",
       "    </tr>\n",
       "    <tr>\n",
       "      <th>4</th>\n",
       "      <td>7.0</td>\n",
       "      <td>6.317051</td>\n",
       "      <td>DEV001</td>\n",
       "    </tr>\n",
       "    <tr>\n",
       "      <th>...</th>\n",
       "      <td>...</td>\n",
       "      <td>...</td>\n",
       "      <td>...</td>\n",
       "    </tr>\n",
       "    <tr>\n",
       "      <th>1768</th>\n",
       "      <td>6.0</td>\n",
       "      <td>5.559845</td>\n",
       "      <td>DEV041</td>\n",
       "    </tr>\n",
       "    <tr>\n",
       "      <th>1769</th>\n",
       "      <td>7.0</td>\n",
       "      <td>7.026975</td>\n",
       "      <td>DEV041</td>\n",
       "    </tr>\n",
       "    <tr>\n",
       "      <th>1770</th>\n",
       "      <td>5.0</td>\n",
       "      <td>5.678742</td>\n",
       "      <td>DEV041</td>\n",
       "    </tr>\n",
       "    <tr>\n",
       "      <th>1771</th>\n",
       "      <td>7.0</td>\n",
       "      <td>5.315326</td>\n",
       "      <td>DEV041</td>\n",
       "    </tr>\n",
       "    <tr>\n",
       "      <th>1772</th>\n",
       "      <td>8.0</td>\n",
       "      <td>5.877439</td>\n",
       "      <td>DEV041</td>\n",
       "    </tr>\n",
       "  </tbody>\n",
       "</table>\n",
       "<p>1835 rows × 3 columns</p>\n",
       "</div>"
      ],
      "text/plain": [
       "      y_obs    y_pred y_groups\n",
       "0       7.0  6.323644   DEV001\n",
       "1       6.0  6.116234   DEV001\n",
       "2       6.0  5.719710   DEV001\n",
       "3       5.0  5.346074   DEV001\n",
       "4       7.0  6.317051   DEV001\n",
       "...     ...       ...      ...\n",
       "1768    6.0  5.559845   DEV041\n",
       "1769    7.0  7.026975   DEV041\n",
       "1770    5.0  5.678742   DEV041\n",
       "1771    7.0  5.315326   DEV041\n",
       "1772    8.0  5.877439   DEV041\n",
       "\n",
       "[1835 rows x 3 columns]"
      ]
     },
     "execution_count": 100,
     "metadata": {},
     "output_type": "execute_result"
    }
   ],
   "source": [
    "results"
   ]
  },
  {
   "cell_type": "code",
   "execution_count": 132,
   "id": "tough-employer",
   "metadata": {},
   "outputs": [
    {
     "data": {
      "text/plain": [
       "array([2, 2, 2, 2, 2, 2, 2, 2, 2, 2, 2, 2, 2, 2, 2, 2, 2, 2, 2, 2, 2, 2,\n",
       "       2, 2, 2, 2, 2, 2, 2, 2, 2, 2, 2, 2, 2, 2, 2, 2, 2, 2, 2, 2, 2, 2,\n",
       "       2, 2, 2, 2, 2, 2, 2, 2, 2, 2, 2, 2, 2, 2, 2, 2, 2, 2, 2])"
      ]
     },
     "execution_count": 132,
     "metadata": {},
     "output_type": "execute_result"
    }
   ],
   "source": []
  },
  {
   "cell_type": "code",
   "execution_count": null,
   "id": "conceptual-flesh",
   "metadata": {},
   "outputs": [],
   "source": []
  },
  {
   "cell_type": "code",
   "execution_count": 139,
   "id": "entitled-gauge",
   "metadata": {},
   "outputs": [
    {
     "name": "stderr",
     "output_type": "stream",
     "text": [
      "/home/bsmith16/.conda/envs/neuralsignature/lib/python3.8/site-packages/seaborn/_decorators.py:36: FutureWarning: Pass the following variables as keyword args: x, y. From version 0.12, the only valid positional argument will be `data`, and passing other arguments without an explicit keyword will result in an error or misinterpretation.\n",
      "  warnings.warn(\n"
     ]
    },
    {
     "data": {
      "image/png": "[encoded data removed]",
      "text/plain": [
       "<Figure size 432x288 with 1 Axes>"
      ]
     },
     "metadata": {
      "needs_background": "light"
     },
     "output_type": "display_data"
    },
    {
     "data": {
      "text/html": [
       "<div>\n",
       "<style scoped>\n",
       "    .dataframe tbody tr th:only-of-type {\n",
       "        vertical-align: middle;\n",
       "    }\n",
       "\n",
       "    .dataframe tbody tr th {\n",
       "        vertical-align: top;\n",
       "    }\n",
       "\n",
       "    .dataframe thead th {\n",
       "        text-align: right;\n",
       "    }\n",
       "</style>\n",
       "<table border=\"1\" class=\"dataframe\">\n",
       "  <thead>\n",
       "    <tr style=\"text-align: right;\">\n",
       "      <th></th>\n",
       "      <th>y_pred</th>\n",
       "    </tr>\n",
       "    <tr>\n",
       "      <th>y_obs</th>\n",
       "      <th></th>\n",
       "    </tr>\n",
       "  </thead>\n",
       "  <tbody>\n",
       "    <tr>\n",
       "      <th>5.0</th>\n",
       "      <td>5.333333</td>\n",
       "    </tr>\n",
       "    <tr>\n",
       "      <th>6.0</th>\n",
       "      <td>5.705882</td>\n",
       "    </tr>\n",
       "    <tr>\n",
       "      <th>7.0</th>\n",
       "      <td>5.666667</td>\n",
       "    </tr>\n",
       "  </tbody>\n",
       "</table>\n",
       "</div>"
      ],
      "text/plain": [
       "         y_pred\n",
       "y_obs          \n",
       "5.0    5.333333\n",
       "6.0    5.705882\n",
       "7.0    5.666667"
      ]
     },
     "metadata": {},
     "output_type": "display_data"
    },
    {
     "name": "stdout",
     "output_type": "stream",
     "text": [
      "\n"
     ]
    },
    {
     "name": "stderr",
     "output_type": "stream",
     "text": [
      "/home/bsmith16/.conda/envs/neuralsignature/lib/python3.8/site-packages/seaborn/_decorators.py:36: FutureWarning: Pass the following variables as keyword args: x, y. From version 0.12, the only valid positional argument will be `data`, and passing other arguments without an explicit keyword will result in an error or misinterpretation.\n",
      "  warnings.warn(\n"
     ]
    },
    {
     "data": {
      "image/png": "[encoded data removed]",
      "text/plain": [
       "<Figure size 432x288 with 1 Axes>"
      ]
     },
     "metadata": {
      "needs_background": "light"
     },
     "output_type": "display_data"
    },
    {
     "data": {
      "text/html": [
       "<div>\n",
       "<style scoped>\n",
       "    .dataframe tbody tr th:only-of-type {\n",
       "        vertical-align: middle;\n",
       "    }\n",
       "\n",
       "    .dataframe tbody tr th {\n",
       "        vertical-align: top;\n",
       "    }\n",
       "\n",
       "    .dataframe thead th {\n",
       "        text-align: right;\n",
       "    }\n",
       "</style>\n",
       "<table border=\"1\" class=\"dataframe\">\n",
       "  <thead>\n",
       "    <tr style=\"text-align: right;\">\n",
       "      <th></th>\n",
       "      <th>y_pred</th>\n",
       "    </tr>\n",
       "    <tr>\n",
       "      <th>y_obs</th>\n",
       "      <th></th>\n",
       "    </tr>\n",
       "  </thead>\n",
       "  <tbody>\n",
       "    <tr>\n",
       "      <th>5.0</th>\n",
       "      <td>5.615385</td>\n",
       "    </tr>\n",
       "    <tr>\n",
       "      <th>6.0</th>\n",
       "      <td>6.526316</td>\n",
       "    </tr>\n",
       "    <tr>\n",
       "      <th>7.0</th>\n",
       "      <td>5.666667</td>\n",
       "    </tr>\n",
       "    <tr>\n",
       "      <th>8.0</th>\n",
       "      <td>6.444444</td>\n",
       "    </tr>\n",
       "  </tbody>\n",
       "</table>\n",
       "</div>"
      ],
      "text/plain": [
       "         y_pred\n",
       "y_obs          \n",
       "5.0    5.615385\n",
       "6.0    6.526316\n",
       "7.0    5.666667\n",
       "8.0    6.444444"
      ]
     },
     "metadata": {},
     "output_type": "display_data"
    },
    {
     "name": "stdout",
     "output_type": "stream",
     "text": [
      "\n"
     ]
    }
   ],
   "source": [
    "within_subj_predictions = []\n",
    "for group in results['y_groups'].unique():\n",
    "    group_results = rank_obs(results.loc[results['y_groups']==group,].copy())\n",
    "    \n",
    "    #let's standardize both.\n",
    "    #obs_mean = np.mean(group_results['y_obs'])\n",
    "    #const_vals = np.repeat(obs_mean,len(group_results['y_pred']))\n",
    "    within_subj_prediction = r2_score(group_results['y_obs'],group_results['y_pred'])\n",
    "    \n",
    "    #what if we we re-ranked the predicted values into groups along the \n",
    "    if (within_subj_prediction< (-0.5)):\n",
    "\n",
    "        sp = sns.scatterplot(group_results['y_obs'],group_results['y_pred'])\n",
    "        plt.show()\n",
    "        display(pd.DataFrame(group_results.groupby('y_obs').y_pred.mean()))\n",
    "        print(\"\")\n",
    "        #display(group_results)\n",
    "    within_subj_predictions = within_subj_predictions + [within_subj_prediction]\n",
    "\n",
    "    \n",
    "r2_score_within_subj = np.mean(within_subj_predictions)"
   ]
  },
  {
   "cell_type": "code",
   "execution_count": 137,
   "id": "greek-shape",
   "metadata": {},
   "outputs": [
    {
     "data": {
      "text/plain": [
       "-1.0838577486508307"
      ]
     },
     "execution_count": 137,
     "metadata": {},
     "output_type": "execute_result"
    }
   ],
   "source": [
    "r2_score_within_subj"
   ]
  },
  {
   "cell_type": "markdown",
   "id": "signed-speed",
   "metadata": {},
   "source": [
    "It's possible we need to do this but within-run instead of within-subject..."
   ]
  },
  {
   "cell_type": "code",
   "execution_count": 106,
   "id": "responsible-glory",
   "metadata": {},
   "outputs": [
    {
     "data": {
      "text/plain": [
       "[0.5670800450958287,\n",
       " 0.007673667205169488,\n",
       " 0.04181818181818164,\n",
       " -0.06733275412684647,\n",
       " -0.35483870967742015,\n",
       " -0.38026224982746726,\n",
       " -0.3538461538461537,\n",
       " -0.4554455445544554,\n",
       " 0.12348133421692065,\n",
       " -0.5308641975308639,\n",
       " 0.3763725861416132,\n",
       " -0.16340891321344775,\n",
       " 0.044836956521739135,\n",
       " -0.3617021276595749,\n",
       " -0.1546920821114366,\n",
       " 0.26530612244897955,\n",
       " -0.5778175313059031,\n",
       " 0.1558685446009389,\n",
       " -0.08449736661323559,\n",
       " 0.4752903666590754,\n",
       " 0.22857142857142843,\n",
       " 0.2344900105152471,\n",
       " 0.390151515151515,\n",
       " -0.31803471609296863,\n",
       " 0.08276177411979868,\n",
       " -0.3654761904761905,\n",
       " 0.12813941568426424,\n",
       " 0.42028985507246375,\n",
       " -0.34746268656716395,\n",
       " -0.2678695350451077]"
      ]
     },
     "execution_count": 106,
     "metadata": {},
     "output_type": "execute_result"
    }
   ],
   "source": [
    "within_subj_predictions"
   ]
  },
  {
   "cell_type": "code",
   "execution_count": 105,
   "id": "changed-teddy",
   "metadata": {},
   "outputs": [
    {
     "data": {
      "text/plain": [
       "-0.04138063182750238"
      ]
     },
     "execution_count": 105,
     "metadata": {},
     "output_type": "execute_result"
    }
   ],
   "source": [
    "r2_score_within_subj"
   ]
  },
  {
   "cell_type": "markdown",
   "id": "polish-setting",
   "metadata": {},
   "source": [
    "Have to understand how pearson's r and this R2 measure vary..."
   ]
  },
  {
   "cell_type": "code",
   "execution_count": null,
   "id": "animated-moses",
   "metadata": {},
   "outputs": [],
   "source": []
  },
  {
   "cell_type": "code",
   "execution_count": 123,
   "id": "cathedral-challenge",
   "metadata": {},
   "outputs": [],
   "source": [
    "def my_pearsons_r(x,y):\n",
    "    n=len(x)\n",
    "    numerator = n*np.sum(x*y)-np.sum(x)*np.sum(y)\n",
    "    denominator = np.sqrt(\n",
    "        (n*np.sum(np.power(x,2))-np.power(np.sum(x),2))*\n",
    "        (n*np.sum(np.power(y,2))-np.power(np.sum(y),2))\n",
    "    )\n",
    "    return(numerator/denominator)\n"
   ]
  },
  {
   "cell_type": "code",
   "execution_count": 124,
   "id": "brown-korean",
   "metadata": {},
   "outputs": [
    {
     "data": {
      "text/plain": [
       "0.3660652324774462"
      ]
     },
     "execution_count": 124,
     "metadata": {},
     "output_type": "execute_result"
    }
   ],
   "source": [
    "my_pearsons_r(group_results['y_obs'],group_results['y_pred'])"
   ]
  },
  {
   "cell_type": "code",
   "execution_count": 129,
   "id": "later-prairie",
   "metadata": {},
   "outputs": [
    {
     "ename": "TypeError",
     "evalue": "object of type 'int' has no len()",
     "output_type": "error",
     "traceback": [
      "\u001b[0;31m---------------------------------------------------------------------------\u001b[0m",
      "\u001b[0;31mTypeError\u001b[0m                                 Traceback (most recent call last)",
      "\u001b[0;32m<ipython-input-129-1b21fa70df8a>\u001b[0m in \u001b[0;36m<module>\u001b[0;34m\u001b[0m\n\u001b[0;32m----> 1\u001b[0;31m \u001b[0mpearsonr\u001b[0m\u001b[0;34m(\u001b[0m\u001b[0mgroup_results\u001b[0m\u001b[0;34m[\u001b[0m\u001b[0;34m'y_obs'\u001b[0m\u001b[0;34m]\u001b[0m\u001b[0;34m,\u001b[0m\u001b[0;36m2\u001b[0m\u001b[0;34m)\u001b[0m\u001b[0;34m\u001b[0m\u001b[0;34m\u001b[0m\u001b[0m\n\u001b[0m",
      "\u001b[0;32m~/.conda/envs/neuralsignature/lib/python3.8/site-packages/scipy/stats/stats.py\u001b[0m in \u001b[0;36mpearsonr\u001b[0;34m(x, y)\u001b[0m\n\u001b[1;32m   3900\u001b[0m     \"\"\"\n\u001b[1;32m   3901\u001b[0m     \u001b[0mn\u001b[0m \u001b[0;34m=\u001b[0m \u001b[0mlen\u001b[0m\u001b[0;34m(\u001b[0m\u001b[0mx\u001b[0m\u001b[0;34m)\u001b[0m\u001b[0;34m\u001b[0m\u001b[0;34m\u001b[0m\u001b[0m\n\u001b[0;32m-> 3902\u001b[0;31m     \u001b[0;32mif\u001b[0m \u001b[0mn\u001b[0m \u001b[0;34m!=\u001b[0m \u001b[0mlen\u001b[0m\u001b[0;34m(\u001b[0m\u001b[0my\u001b[0m\u001b[0;34m)\u001b[0m\u001b[0;34m:\u001b[0m\u001b[0;34m\u001b[0m\u001b[0;34m\u001b[0m\u001b[0m\n\u001b[0m\u001b[1;32m   3903\u001b[0m         \u001b[0;32mraise\u001b[0m \u001b[0mValueError\u001b[0m\u001b[0;34m(\u001b[0m\u001b[0;34m'x and y must have the same length.'\u001b[0m\u001b[0;34m)\u001b[0m\u001b[0;34m\u001b[0m\u001b[0;34m\u001b[0m\u001b[0m\n\u001b[1;32m   3904\u001b[0m \u001b[0;34m\u001b[0m\u001b[0m\n",
      "\u001b[0;31mTypeError\u001b[0m: object of type 'int' has no len()"
     ]
    }
   ],
   "source": [
    "pearsonr(group_results['y_obs'],group_results['y_pred'])"
   ]
  },
  {
   "cell_type": "code",
   "execution_count": null,
   "id": "homeless-reader",
   "metadata": {},
   "outputs": [],
   "source": []
  }
 ],
 "metadata": {
  "kernelspec": {
   "display_name": "Python [conda env:.conda-neuralsignature]",
   "language": "python",
   "name": "conda-env-.conda-neuralsignature-py"
  },
  "language_info": {
   "codemirror_mode": {
    "name": "ipython",
    "version": 3
   },
   "file_extension": ".py",
   "mimetype": "text/x-python",
   "name": "python",
   "nbconvert_exporter": "python",
   "pygments_lexer": "ipython3",
   "version": "3.8.5"
  }
 },
 "nbformat": 4,
 "nbformat_minor": 5
}
