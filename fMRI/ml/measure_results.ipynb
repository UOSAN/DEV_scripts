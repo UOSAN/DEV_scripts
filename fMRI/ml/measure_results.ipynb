{
 "cells": [
  {
   "cell_type": "markdown",
   "id": "electronic-exception",
   "metadata": {},
   "source": [
    "# Full analysis with nested CV"
   ]
  },
  {
   "cell_type": "code",
   "execution_count": 18,
   "id": "institutional-disco",
   "metadata": {},
   "outputs": [],
   "source": [
    "import pickle\n",
    "import numpy as np\n",
    "import pandas as pd"
   ]
  },
  {
   "cell_type": "code",
   "execution_count": 19,
   "id": "beneficial-mapping",
   "metadata": {},
   "outputs": [],
   "source": [
    "from sklearn.metrics import r2_score\n",
    "from scipy.stats import pearsonr, spearmanr\n",
    "import math"
   ]
  },
  {
   "cell_type": "code",
   "execution_count": 20,
   "id": "comparable-dryer",
   "metadata": {},
   "outputs": [],
   "source": [
    "import seaborn as sns\n",
    "import matplotlib.pyplot as plt"
   ]
  },
  {
   "cell_type": "code",
   "execution_count": 21,
   "id": "negative-engineering",
   "metadata": {},
   "outputs": [],
   "source": [
    "import nibabel as nib"
   ]
  },
  {
   "cell_type": "code",
   "execution_count": 22,
   "id": "norwegian-supervision",
   "metadata": {},
   "outputs": [],
   "source": [
    "from nilearn import plotting\n"
   ]
  },
  {
   "cell_type": "code",
   "execution_count": 23,
   "id": "composite-fountain",
   "metadata": {},
   "outputs": [],
   "source": [
    "data_path = '/gpfs/projects/sanlab/bsmith16/data/'"
   ]
  },
  {
   "cell_type": "markdown",
   "id": "human-aquarium",
   "metadata": {},
   "source": [
    "## Setup"
   ]
  },
  {
   "cell_type": "code",
   "execution_count": 24,
   "id": "minus-degree",
   "metadata": {},
   "outputs": [],
   "source": [
    "metadata = pickle.load(open(data_path + \"first_subs_nifti_metadata.pkl\",'rb'))"
   ]
  },
  {
   "cell_type": "code",
   "execution_count": 25,
   "id": "atlantic-twelve",
   "metadata": {},
   "outputs": [],
   "source": [
    "from measure_results import *"
   ]
  },
  {
   "cell_type": "code",
   "execution_count": 26,
   "id": "comparable-magnitude",
   "metadata": {},
   "outputs": [],
   "source": [
    "def within_group_performance(results,cor_func,\n",
    "                             group_col_name='result_group',\n",
    "                             obs_col_name='y',\n",
    "                             pred_col_name='y_pred'\n",
    "                             \n",
    "                            ):\n",
    "    results[obs_col_name] = results[obs_col_name].astype(float)\n",
    "    results[pred_col_name] = results[pred_col_name].astype(float)\n",
    "    within_subj_predictions = []\n",
    "    #print(results[group_col_name].unique())\n",
    "    for group in results[group_col_name].unique():\n",
    "        group_results = results.loc[results[group_col_name]==group,].copy()\n",
    "\n",
    "        #get means and SDs\n",
    "        obs_mean = np.mean(group_results[obs_col_name])\n",
    "        pred_mean = np.mean(group_results[pred_col_name])\n",
    "        obs_sd = np.std(group_results[obs_col_name])\n",
    "        pred_sd = np.std(group_results[pred_col_name])\n",
    "\n",
    "        #mean center\n",
    "        group_results[obs_col_name] = (group_results[obs_col_name] - obs_mean)\n",
    "        group_results[pred_col_name] = (group_results[pred_col_name] - pred_mean)\n",
    "        \n",
    "        if(group_results.shape[0]==0):\n",
    "            print(group_results.shape)\n",
    "            print(group)\n",
    "\n",
    "        within_subj_prediction = pearsonr(group_results[obs_col_name],group_results[pred_col_name])[0]\n",
    "        #print(within_subj_prediction)\n",
    "        #print(math.pow(pearsonr(group_results[obs_col_name],group_results['y_pred'])[0],2))\n",
    "\n",
    "\n",
    "        #what if we we re-ranked the predicted values into groups along the \n",
    "        if (within_subj_prediction< (-0.5)):\n",
    "\n",
    "            sp = sns.scatterplot(group_results[obs_col_name],group_results[pred_col_name])\n",
    "            plt.show()\n",
    "            display(pd.DataFrame(group_results.groupby(obs_col_name).y_pred.mean()))\n",
    "            #display(group_results)\n",
    "        within_subj_predictions = within_subj_predictions + [within_subj_prediction]\n",
    "    return(within_subj_predictions)"
   ]
  },
  {
   "cell_type": "markdown",
   "id": "specified-radio",
   "metadata": {},
   "source": [
    "## ns_w_hrf_from_spm_40subs"
   ]
  },
  {
   "cell_type": "code",
   "execution_count": 27,
   "id": "approved-hacker",
   "metadata": {},
   "outputs": [],
   "source": [
    "loocv_results = pickle.load(open(data_path + \"train_test_results_ns_w_hrf_from_spm_40subs.pkl\",'rb'))\n",
    "test_scores_same=loocv_results[0]\n",
    "tt_results=loocv_results[1]\n",
    "results_by_trainset_item=loocv_results[2]"
   ]
  },
  {
   "cell_type": "code",
   "execution_count": 28,
   "id": "assumed-diesel",
   "metadata": {},
   "outputs": [
    {
     "data": {
      "text/html": [
       "<div>\n",
       "<style scoped>\n",
       "    .dataframe tbody tr th:only-of-type {\n",
       "        vertical-align: middle;\n",
       "    }\n",
       "\n",
       "    .dataframe tbody tr th {\n",
       "        vertical-align: top;\n",
       "    }\n",
       "\n",
       "    .dataframe thead th {\n",
       "        text-align: right;\n",
       "    }\n",
       "</style>\n",
       "<table border=\"1\" class=\"dataframe\">\n",
       "  <thead>\n",
       "    <tr style=\"text-align: right;\">\n",
       "      <th></th>\n",
       "      <th>y</th>\n",
       "      <th>group</th>\n",
       "      <th>y_pred</th>\n",
       "    </tr>\n",
       "  </thead>\n",
       "  <tbody>\n",
       "    <tr>\n",
       "      <th>0</th>\n",
       "      <td>7.0</td>\n",
       "      <td>DEV001</td>\n",
       "      <td>7.46465</td>\n",
       "    </tr>\n",
       "    <tr>\n",
       "      <th>1</th>\n",
       "      <td>6.0</td>\n",
       "      <td>DEV001</td>\n",
       "      <td>5.41228</td>\n",
       "    </tr>\n",
       "    <tr>\n",
       "      <th>2</th>\n",
       "      <td>6.0</td>\n",
       "      <td>DEV001</td>\n",
       "      <td>5.92956</td>\n",
       "    </tr>\n",
       "    <tr>\n",
       "      <th>3</th>\n",
       "      <td>5.0</td>\n",
       "      <td>DEV001</td>\n",
       "      <td>5.26228</td>\n",
       "    </tr>\n",
       "    <tr>\n",
       "      <th>4</th>\n",
       "      <td>7.0</td>\n",
       "      <td>DEV001</td>\n",
       "      <td>7.23188</td>\n",
       "    </tr>\n",
       "    <tr>\n",
       "      <th>...</th>\n",
       "      <td>...</td>\n",
       "      <td>...</td>\n",
       "      <td>...</td>\n",
       "    </tr>\n",
       "    <tr>\n",
       "      <th>2457</th>\n",
       "      <td>5.0</td>\n",
       "      <td>DEV056</td>\n",
       "      <td>6.64668</td>\n",
       "    </tr>\n",
       "    <tr>\n",
       "      <th>2458</th>\n",
       "      <td>7.0</td>\n",
       "      <td>DEV056</td>\n",
       "      <td>7.06105</td>\n",
       "    </tr>\n",
       "    <tr>\n",
       "      <th>2459</th>\n",
       "      <td>6.0</td>\n",
       "      <td>DEV056</td>\n",
       "      <td>5.78202</td>\n",
       "    </tr>\n",
       "    <tr>\n",
       "      <th>2460</th>\n",
       "      <td>8.0</td>\n",
       "      <td>DEV056</td>\n",
       "      <td>7.3732</td>\n",
       "    </tr>\n",
       "    <tr>\n",
       "      <th>2461</th>\n",
       "      <td>7.0</td>\n",
       "      <td>DEV056</td>\n",
       "      <td>6.58513</td>\n",
       "    </tr>\n",
       "  </tbody>\n",
       "</table>\n",
       "<p>2462 rows × 3 columns</p>\n",
       "</div>"
      ],
      "text/plain": [
       "        y   group   y_pred\n",
       "0     7.0  DEV001  7.46465\n",
       "1     6.0  DEV001  5.41228\n",
       "2     6.0  DEV001  5.92956\n",
       "3     5.0  DEV001  5.26228\n",
       "4     7.0  DEV001  7.23188\n",
       "...   ...     ...      ...\n",
       "2457  5.0  DEV056  6.64668\n",
       "2458  7.0  DEV056  7.06105\n",
       "2459  6.0  DEV056  5.78202\n",
       "2460  8.0  DEV056   7.3732\n",
       "2461  7.0  DEV056  6.58513\n",
       "\n",
       "[2462 rows x 3 columns]"
      ]
     },
     "execution_count": 28,
     "metadata": {},
     "output_type": "execute_result"
    }
   ],
   "source": [
    "results_by_trainset_item"
   ]
  },
  {
   "cell_type": "code",
   "execution_count": 29,
   "id": "boolean-story",
   "metadata": {},
   "outputs": [],
   "source": [
    "results = pd.concat([metadata,results_by_trainset_item],axis=1)\n",
    "results['result_group'] = results.group + \"_\" + results.run\n",
    "#trim subjects where we don't have data. this will be 20 because there's 20 subjects in the metadata but only 40 being processed.\n",
    "results = results.loc[pd.isnull(results.result_group)==False,]"
   ]
  },
  {
   "cell_type": "code",
   "execution_count": 30,
   "id": "revolutionary-puppy",
   "metadata": {},
   "outputs": [
    {
     "name": "stdout",
     "output_type": "stream",
     "text": [
      "Pearson's R^2 within subject and run:\n",
      "0.2547561984707979\n",
      "Pearson's R^2 within subject only:\n",
      "0.2474323602984913\n",
      "Pearson's R^2 across subjects:\n",
      "0.22326323278626192\n"
     ]
    }
   ],
   "source": [
    "\n",
    "within_group_predictions = within_group_performance(\n",
    "    results,pearsonr_cor_func,'result_group',obs_col_name='y',pred_col_name='y_pred') \n",
    "r2_score_within_subj = math.pow(np.mean(within_group_predictions),2)\n",
    "print(\"Pearson's R^2 within subject and run:\")\n",
    "print(r2_score_within_subj)\n",
    "\n",
    "within_subj_predictions = within_group_performance(results,pearsonr_cor_func,'subject',obs_col_name='y',pred_col_name='y_pred') \n",
    "r2_score_within_subj_run = math.pow(np.mean(within_subj_predictions),2)\n",
    "print(\"Pearson's R^2 within subject only:\")\n",
    "print(r2_score_within_subj_run)\n",
    "\n",
    "\n",
    "\n",
    "print(\"Pearson's R^2 across subjects:\")\n",
    "print(math.pow(pearsonr(results['y'],results['y_pred'])[0],2))"
   ]
  },
  {
   "cell_type": "code",
   "execution_count": 31,
   "id": "failing-permission",
   "metadata": {},
   "outputs": [
    {
     "name": "stdout",
     "output_type": "stream",
     "text": [
      "Spearman's rho within subject and run:\n",
      "0.504733789705819\n",
      "Spearman's rho within subject only:\n",
      "0.497425733450222\n",
      "Spearman's rho across subjects:\n",
      "0.4801862447703641\n"
     ]
    }
   ],
   "source": [
    "within_group_predictions_sp = within_group_performance(\n",
    "    results,spearmanr_cor_func,'result_group',obs_col_name='y',pred_col_name='y_pred') \n",
    "rho_score_within_subj = np.mean(within_group_predictions_sp)\n",
    "print(\"Spearman's rho within subject and run:\")\n",
    "print(rho_score_within_subj)\n",
    "\n",
    "within_subj_predictions_sp = within_group_performance(results,spearmanr_cor_func,'subject',obs_col_name='y',pred_col_name='y_pred') \n",
    "rho_score_within_subj_run = np.mean(within_subj_predictions_sp)\n",
    "print(\"Spearman's rho within subject only:\")\n",
    "print(rho_score_within_subj_run)\n",
    "\n",
    "\n",
    "\n",
    "print(\"Spearman's rho across subjects:\")\n",
    "print(spearmanr(results['y'],results['y_pred'])[0])"
   ]
  },
  {
   "cell_type": "markdown",
   "id": "dominican-tumor",
   "metadata": {},
   "source": [
    "## ns_6s_no_hrf_from_spm_40subs"
   ]
  },
  {
   "cell_type": "code",
   "execution_count": 32,
   "id": "continent-springer",
   "metadata": {},
   "outputs": [],
   "source": [
    "loocv_results = pickle.load(open(data_path + \"train_test_results_ns_6s_no_hrf_from_spm_40subs.pkl\",'rb'))\n",
    "test_scores_same=loocv_results[0]\n",
    "tt_results=loocv_results[1]\n",
    "results_by_trainset_item=loocv_results[2]"
   ]
  },
  {
   "cell_type": "code",
   "execution_count": 33,
   "id": "acute-center",
   "metadata": {},
   "outputs": [],
   "source": [
    "results = pd.concat([metadata,results_by_trainset_item],axis=1)\n",
    "results['result_group'] = results.group + \"_\" + results.run\n",
    "#trim subjects where we don't have data. this will be 20 because there's 20 subjects in the metadata but only 40 being processed.\n",
    "results = results.loc[pd.isnull(results.result_group)==False,]"
   ]
  },
  {
   "cell_type": "code",
   "execution_count": 34,
   "id": "suspended-cartoon",
   "metadata": {},
   "outputs": [
    {
     "name": "stderr",
     "output_type": "stream",
     "text": [
      "/home/bsmith16/.conda/envs/neuralsignature/lib/python3.8/site-packages/seaborn/_decorators.py:36: FutureWarning: Pass the following variables as keyword args: x, y. From version 0.12, the only valid positional argument will be `data`, and passing other arguments without an explicit keyword will result in an error or misinterpretation.\n",
      "  warnings.warn(\n"
     ]
    },
    {
     "data": {
      "image/png": "[encoded data removed]",
      "text/plain": [
       "<Figure size 432x288 with 1 Axes>"
      ]
     },
     "metadata": {
      "needs_background": "light"
     },
     "output_type": "display_data"
    },
    {
     "data": {
      "text/html": [
       "<div>\n",
       "<style scoped>\n",
       "    .dataframe tbody tr th:only-of-type {\n",
       "        vertical-align: middle;\n",
       "    }\n",
       "\n",
       "    .dataframe tbody tr th {\n",
       "        vertical-align: top;\n",
       "    }\n",
       "\n",
       "    .dataframe thead th {\n",
       "        text-align: right;\n",
       "    }\n",
       "</style>\n",
       "<table border=\"1\" class=\"dataframe\">\n",
       "  <thead>\n",
       "    <tr style=\"text-align: right;\">\n",
       "      <th></th>\n",
       "      <th>y_pred</th>\n",
       "    </tr>\n",
       "    <tr>\n",
       "      <th>y</th>\n",
       "      <th></th>\n",
       "    </tr>\n",
       "  </thead>\n",
       "  <tbody>\n",
       "    <tr>\n",
       "      <th>-1.642857</th>\n",
       "      <td>0.653976</td>\n",
       "    </tr>\n",
       "    <tr>\n",
       "      <th>-0.642857</th>\n",
       "      <td>0.343554</td>\n",
       "    </tr>\n",
       "    <tr>\n",
       "      <th>0.357143</th>\n",
       "      <td>-0.366721</td>\n",
       "    </tr>\n",
       "    <tr>\n",
       "      <th>1.357143</th>\n",
       "      <td>-0.149569</td>\n",
       "    </tr>\n",
       "  </tbody>\n",
       "</table>\n",
       "</div>"
      ],
      "text/plain": [
       "             y_pred\n",
       "y                  \n",
       "-1.642857  0.653976\n",
       "-0.642857  0.343554\n",
       " 0.357143 -0.366721\n",
       " 1.357143 -0.149569"
      ]
     },
     "metadata": {},
     "output_type": "display_data"
    },
    {
     "name": "stdout",
     "output_type": "stream",
     "text": [
      "Pearson's R^2 within subject and run:\n",
      "0.014796586224707434\n",
      "Pearson's R^2 within subject only:\n",
      "0.01313927986042674\n",
      "Pearson's R^2 across subjects:\n",
      "0.010398565820511711\n"
     ]
    }
   ],
   "source": [
    "\n",
    "within_group_predictions = within_group_performance(\n",
    "    results,pearsonr_cor_func,'result_group',obs_col_name='y',pred_col_name='y_pred') \n",
    "r2_score_within_subj = math.pow(np.mean(within_group_predictions),2)\n",
    "print(\"Pearson's R^2 within subject and run:\")\n",
    "print(r2_score_within_subj)\n",
    "\n",
    "within_subj_predictions = within_group_performance(results,pearsonr_cor_func,'subject',obs_col_name='y',pred_col_name='y_pred') \n",
    "r2_score_within_subj_run = math.pow(np.mean(within_subj_predictions),2)\n",
    "print(\"Pearson's R^2 within subject only:\")\n",
    "print(r2_score_within_subj_run)\n",
    "\n",
    "\n",
    "\n",
    "print(\"Pearson's R^2 across subjects:\")\n",
    "print(math.pow(pearsonr(results['y'],results['y_pred'])[0],2))"
   ]
  },
  {
   "cell_type": "code",
   "execution_count": 35,
   "id": "incorrect-priest",
   "metadata": {},
   "outputs": [
    {
     "name": "stderr",
     "output_type": "stream",
     "text": [
      "/home/bsmith16/.conda/envs/neuralsignature/lib/python3.8/site-packages/seaborn/_decorators.py:36: FutureWarning: Pass the following variables as keyword args: x, y. From version 0.12, the only valid positional argument will be `data`, and passing other arguments without an explicit keyword will result in an error or misinterpretation.\n",
      "  warnings.warn(\n"
     ]
    },
    {
     "data": {
      "image/png": "[encoded data removed]",
      "text/plain": [
       "<Figure size 432x288 with 1 Axes>"
      ]
     },
     "metadata": {
      "needs_background": "light"
     },
     "output_type": "display_data"
    },
    {
     "data": {
      "text/html": [
       "<div>\n",
       "<style scoped>\n",
       "    .dataframe tbody tr th:only-of-type {\n",
       "        vertical-align: middle;\n",
       "    }\n",
       "\n",
       "    .dataframe tbody tr th {\n",
       "        vertical-align: top;\n",
       "    }\n",
       "\n",
       "    .dataframe thead th {\n",
       "        text-align: right;\n",
       "    }\n",
       "</style>\n",
       "<table border=\"1\" class=\"dataframe\">\n",
       "  <thead>\n",
       "    <tr style=\"text-align: right;\">\n",
       "      <th></th>\n",
       "      <th>y_pred</th>\n",
       "    </tr>\n",
       "    <tr>\n",
       "      <th>y</th>\n",
       "      <th></th>\n",
       "    </tr>\n",
       "  </thead>\n",
       "  <tbody>\n",
       "    <tr>\n",
       "      <th>-1.642857</th>\n",
       "      <td>0.653976</td>\n",
       "    </tr>\n",
       "    <tr>\n",
       "      <th>-0.642857</th>\n",
       "      <td>0.343554</td>\n",
       "    </tr>\n",
       "    <tr>\n",
       "      <th>0.357143</th>\n",
       "      <td>-0.366721</td>\n",
       "    </tr>\n",
       "    <tr>\n",
       "      <th>1.357143</th>\n",
       "      <td>-0.149569</td>\n",
       "    </tr>\n",
       "  </tbody>\n",
       "</table>\n",
       "</div>"
      ],
      "text/plain": [
       "             y_pred\n",
       "y                  \n",
       "-1.642857  0.653976\n",
       "-0.642857  0.343554\n",
       " 0.357143 -0.366721\n",
       " 1.357143 -0.149569"
      ]
     },
     "metadata": {},
     "output_type": "display_data"
    },
    {
     "name": "stdout",
     "output_type": "stream",
     "text": [
      "Spearman's rho within subject and run:\n",
      "0.12164121926677418\n",
      "Spearman's rho within subject only:\n",
      "0.1146266978518824\n",
      "Spearman's rho across subjects:\n",
      "0.10179533937104121\n"
     ]
    }
   ],
   "source": [
    "within_group_predictions_sp = within_group_performance(\n",
    "    results,spearmanr_cor_func,'result_group',obs_col_name='y',pred_col_name='y_pred') \n",
    "rho_score_within_subj = np.mean(within_group_predictions_sp)\n",
    "print(\"Spearman's rho within subject and run:\")\n",
    "print(rho_score_within_subj)\n",
    "\n",
    "within_subj_predictions_sp = within_group_performance(results,spearmanr_cor_func,'subject',obs_col_name='y',pred_col_name='y_pred') \n",
    "rho_score_within_subj_run = np.mean(within_subj_predictions_sp)\n",
    "print(\"Spearman's rho within subject only:\")\n",
    "print(rho_score_within_subj_run)\n",
    "\n",
    "\n",
    "\n",
    "print(\"Spearman's rho across subjects:\")\n",
    "print(spearmanr(results['y'],results['y_pred'])[0])"
   ]
  },
  {
   "cell_type": "markdown",
   "id": "amateur-money",
   "metadata": {},
   "source": [
    "## ns_no_hrf_from_spm_40subs"
   ]
  },
  {
   "cell_type": "code",
   "execution_count": 41,
   "id": "executive-withdrawal",
   "metadata": {},
   "outputs": [],
   "source": [
    "loocv_results = pickle.load(open(data_path + \"train_test_results_ns_no_hrf_from_spm_40subs.pkl\",'rb'))\n",
    "test_scores_same=loocv_results[0]\n",
    "tt_results=loocv_results[1]\n",
    "results_by_trainset_item=loocv_results[2]"
   ]
  },
  {
   "cell_type": "code",
   "execution_count": 42,
   "id": "royal-roman",
   "metadata": {},
   "outputs": [],
   "source": [
    "results = pd.concat([metadata,results_by_trainset_item],axis=1)\n",
    "results['result_group'] = results.group + \"_\" + results.run\n",
    "#trim subjects where we don't have data. this will be 20 because there's 20 subjects in the metadata but only 40 being processed.\n",
    "results = results.loc[pd.isnull(results.result_group)==False,]"
   ]
  },
  {
   "cell_type": "code",
   "execution_count": 43,
   "id": "hired-carolina",
   "metadata": {},
   "outputs": [
    {
     "name": "stderr",
     "output_type": "stream",
     "text": [
      "/home/bsmith16/.conda/envs/neuralsignature/lib/python3.8/site-packages/seaborn/_decorators.py:36: FutureWarning: Pass the following variables as keyword args: x, y. From version 0.12, the only valid positional argument will be `data`, and passing other arguments without an explicit keyword will result in an error or misinterpretation.\n",
      "  warnings.warn(\n"
     ]
    },
    {
     "data": {
      "image/png": "[encoded data removed]",
      "text/plain": [
       "<Figure size 432x288 with 1 Axes>"
      ]
     },
     "metadata": {
      "needs_background": "light"
     },
     "output_type": "display_data"
    },
    {
     "data": {
      "text/html": [
       "<div>\n",
       "<style scoped>\n",
       "    .dataframe tbody tr th:only-of-type {\n",
       "        vertical-align: middle;\n",
       "    }\n",
       "\n",
       "    .dataframe tbody tr th {\n",
       "        vertical-align: top;\n",
       "    }\n",
       "\n",
       "    .dataframe thead th {\n",
       "        text-align: right;\n",
       "    }\n",
       "</style>\n",
       "<table border=\"1\" class=\"dataframe\">\n",
       "  <thead>\n",
       "    <tr style=\"text-align: right;\">\n",
       "      <th></th>\n",
       "      <th>y_pred</th>\n",
       "    </tr>\n",
       "    <tr>\n",
       "      <th>y</th>\n",
       "      <th></th>\n",
       "    </tr>\n",
       "  </thead>\n",
       "  <tbody>\n",
       "    <tr>\n",
       "      <th>-0.8125</th>\n",
       "      <td>0.238212</td>\n",
       "    </tr>\n",
       "    <tr>\n",
       "      <th>0.1875</th>\n",
       "      <td>0.020276</td>\n",
       "    </tr>\n",
       "    <tr>\n",
       "      <th>1.1875</th>\n",
       "      <td>-0.423308</td>\n",
       "    </tr>\n",
       "    <tr>\n",
       "      <th>2.1875</th>\n",
       "      <td>-0.679061</td>\n",
       "    </tr>\n",
       "  </tbody>\n",
       "</table>\n",
       "</div>"
      ],
      "text/plain": [
       "           y_pred\n",
       "y                \n",
       "-0.8125  0.238212\n",
       " 0.1875  0.020276\n",
       " 1.1875 -0.423308\n",
       " 2.1875 -0.679061"
      ]
     },
     "metadata": {},
     "output_type": "display_data"
    },
    {
     "name": "stderr",
     "output_type": "stream",
     "text": [
      "/home/bsmith16/.conda/envs/neuralsignature/lib/python3.8/site-packages/seaborn/_decorators.py:36: FutureWarning: Pass the following variables as keyword args: x, y. From version 0.12, the only valid positional argument will be `data`, and passing other arguments without an explicit keyword will result in an error or misinterpretation.\n",
      "  warnings.warn(\n"
     ]
    },
    {
     "data": {
      "image/png": "[encoded data removed]",
      "text/plain": [
       "<Figure size 432x288 with 1 Axes>"
      ]
     },
     "metadata": {
      "needs_background": "light"
     },
     "output_type": "display_data"
    },
    {
     "data": {
      "text/html": [
       "<div>\n",
       "<style scoped>\n",
       "    .dataframe tbody tr th:only-of-type {\n",
       "        vertical-align: middle;\n",
       "    }\n",
       "\n",
       "    .dataframe tbody tr th {\n",
       "        vertical-align: top;\n",
       "    }\n",
       "\n",
       "    .dataframe thead th {\n",
       "        text-align: right;\n",
       "    }\n",
       "</style>\n",
       "<table border=\"1\" class=\"dataframe\">\n",
       "  <thead>\n",
       "    <tr style=\"text-align: right;\">\n",
       "      <th></th>\n",
       "      <th>y_pred</th>\n",
       "    </tr>\n",
       "    <tr>\n",
       "      <th>y</th>\n",
       "      <th></th>\n",
       "    </tr>\n",
       "  </thead>\n",
       "  <tbody>\n",
       "    <tr>\n",
       "      <th>-1.642857</th>\n",
       "      <td>0.899667</td>\n",
       "    </tr>\n",
       "    <tr>\n",
       "      <th>-0.642857</th>\n",
       "      <td>-0.224108</td>\n",
       "    </tr>\n",
       "    <tr>\n",
       "      <th>0.357143</th>\n",
       "      <td>0.018454</td>\n",
       "    </tr>\n",
       "    <tr>\n",
       "      <th>1.357143</th>\n",
       "      <td>-0.787171</td>\n",
       "    </tr>\n",
       "  </tbody>\n",
       "</table>\n",
       "</div>"
      ],
      "text/plain": [
       "             y_pred\n",
       "y                  \n",
       "-1.642857  0.899667\n",
       "-0.642857 -0.224108\n",
       " 0.357143  0.018454\n",
       " 1.357143 -0.787171"
      ]
     },
     "metadata": {},
     "output_type": "display_data"
    },
    {
     "name": "stderr",
     "output_type": "stream",
     "text": [
      "/home/bsmith16/.conda/envs/neuralsignature/lib/python3.8/site-packages/seaborn/_decorators.py:36: FutureWarning: Pass the following variables as keyword args: x, y. From version 0.12, the only valid positional argument will be `data`, and passing other arguments without an explicit keyword will result in an error or misinterpretation.\n",
      "  warnings.warn(\n"
     ]
    },
    {
     "data": {
      "image/png": "[encoded data removed]",
      "text/plain": [
       "<Figure size 432x288 with 1 Axes>"
      ]
     },
     "metadata": {
      "needs_background": "light"
     },
     "output_type": "display_data"
    },
    {
     "data": {
      "text/html": [
       "<div>\n",
       "<style scoped>\n",
       "    .dataframe tbody tr th:only-of-type {\n",
       "        vertical-align: middle;\n",
       "    }\n",
       "\n",
       "    .dataframe tbody tr th {\n",
       "        vertical-align: top;\n",
       "    }\n",
       "\n",
       "    .dataframe thead th {\n",
       "        text-align: right;\n",
       "    }\n",
       "</style>\n",
       "<table border=\"1\" class=\"dataframe\">\n",
       "  <thead>\n",
       "    <tr style=\"text-align: right;\">\n",
       "      <th></th>\n",
       "      <th>y_pred</th>\n",
       "    </tr>\n",
       "    <tr>\n",
       "      <th>y</th>\n",
       "      <th></th>\n",
       "    </tr>\n",
       "  </thead>\n",
       "  <tbody>\n",
       "    <tr>\n",
       "      <th>-1.375</th>\n",
       "      <td>0.677456</td>\n",
       "    </tr>\n",
       "    <tr>\n",
       "      <th>-0.375</th>\n",
       "      <td>-0.026542</td>\n",
       "    </tr>\n",
       "    <tr>\n",
       "      <th>0.625</th>\n",
       "      <td>-0.021202</td>\n",
       "    </tr>\n",
       "    <tr>\n",
       "      <th>1.625</th>\n",
       "      <td>-0.883556</td>\n",
       "    </tr>\n",
       "  </tbody>\n",
       "</table>\n",
       "</div>"
      ],
      "text/plain": [
       "          y_pred\n",
       "y               \n",
       "-1.375  0.677456\n",
       "-0.375 -0.026542\n",
       " 0.625 -0.021202\n",
       " 1.625 -0.883556"
      ]
     },
     "metadata": {},
     "output_type": "display_data"
    },
    {
     "name": "stderr",
     "output_type": "stream",
     "text": [
      "/home/bsmith16/.conda/envs/neuralsignature/lib/python3.8/site-packages/seaborn/_decorators.py:36: FutureWarning: Pass the following variables as keyword args: x, y. From version 0.12, the only valid positional argument will be `data`, and passing other arguments without an explicit keyword will result in an error or misinterpretation.\n",
      "  warnings.warn(\n"
     ]
    },
    {
     "data": {
      "image/png": "[encoded data removed]",
      "text/plain": [
       "<Figure size 432x288 with 1 Axes>"
      ]
     },
     "metadata": {
      "needs_background": "light"
     },
     "output_type": "display_data"
    },
    {
     "data": {
      "text/html": [
       "<div>\n",
       "<style scoped>\n",
       "    .dataframe tbody tr th:only-of-type {\n",
       "        vertical-align: middle;\n",
       "    }\n",
       "\n",
       "    .dataframe tbody tr th {\n",
       "        vertical-align: top;\n",
       "    }\n",
       "\n",
       "    .dataframe thead th {\n",
       "        text-align: right;\n",
       "    }\n",
       "</style>\n",
       "<table border=\"1\" class=\"dataframe\">\n",
       "  <thead>\n",
       "    <tr style=\"text-align: right;\">\n",
       "      <th></th>\n",
       "      <th>y_pred</th>\n",
       "    </tr>\n",
       "    <tr>\n",
       "      <th>y</th>\n",
       "      <th></th>\n",
       "    </tr>\n",
       "  </thead>\n",
       "  <tbody>\n",
       "    <tr>\n",
       "      <th>-0.75</th>\n",
       "      <td>0.162018</td>\n",
       "    </tr>\n",
       "    <tr>\n",
       "      <th>0.25</th>\n",
       "      <td>0.308981</td>\n",
       "    </tr>\n",
       "    <tr>\n",
       "      <th>1.25</th>\n",
       "      <td>-0.164169</td>\n",
       "    </tr>\n",
       "    <tr>\n",
       "      <th>2.25</th>\n",
       "      <td>-1.272482</td>\n",
       "    </tr>\n",
       "  </tbody>\n",
       "</table>\n",
       "</div>"
      ],
      "text/plain": [
       "         y_pred\n",
       "y              \n",
       "-0.75  0.162018\n",
       " 0.25  0.308981\n",
       " 1.25 -0.164169\n",
       " 2.25 -1.272482"
      ]
     },
     "metadata": {},
     "output_type": "display_data"
    },
    {
     "name": "stderr",
     "output_type": "stream",
     "text": [
      "/home/bsmith16/.conda/envs/neuralsignature/lib/python3.8/site-packages/seaborn/_decorators.py:36: FutureWarning: Pass the following variables as keyword args: x, y. From version 0.12, the only valid positional argument will be `data`, and passing other arguments without an explicit keyword will result in an error or misinterpretation.\n",
      "  warnings.warn(\n"
     ]
    },
    {
     "data": {
      "image/png": "[encoded data removed]",
      "text/plain": [
       "<Figure size 432x288 with 1 Axes>"
      ]
     },
     "metadata": {
      "needs_background": "light"
     },
     "output_type": "display_data"
    },
    {
     "data": {
      "text/html": [
       "<div>\n",
       "<style scoped>\n",
       "    .dataframe tbody tr th:only-of-type {\n",
       "        vertical-align: middle;\n",
       "    }\n",
       "\n",
       "    .dataframe tbody tr th {\n",
       "        vertical-align: top;\n",
       "    }\n",
       "\n",
       "    .dataframe thead th {\n",
       "        text-align: right;\n",
       "    }\n",
       "</style>\n",
       "<table border=\"1\" class=\"dataframe\">\n",
       "  <thead>\n",
       "    <tr style=\"text-align: right;\">\n",
       "      <th></th>\n",
       "      <th>y_pred</th>\n",
       "    </tr>\n",
       "    <tr>\n",
       "      <th>y</th>\n",
       "      <th></th>\n",
       "    </tr>\n",
       "  </thead>\n",
       "  <tbody>\n",
       "    <tr>\n",
       "      <th>-2.375</th>\n",
       "      <td>0.777107</td>\n",
       "    </tr>\n",
       "    <tr>\n",
       "      <th>-0.375</th>\n",
       "      <td>0.051955</td>\n",
       "    </tr>\n",
       "    <tr>\n",
       "      <th>0.625</th>\n",
       "      <td>-0.176203</td>\n",
       "    </tr>\n",
       "  </tbody>\n",
       "</table>\n",
       "</div>"
      ],
      "text/plain": [
       "          y_pred\n",
       "y               \n",
       "-2.375  0.777107\n",
       "-0.375  0.051955\n",
       " 0.625 -0.176203"
      ]
     },
     "metadata": {},
     "output_type": "display_data"
    },
    {
     "name": "stdout",
     "output_type": "stream",
     "text": [
      "Pearson's R^2 within subject and run:\n",
      "0.0015236721319045932\n",
      "Pearson's R^2 within subject only:\n",
      "0.0011288811686392237\n",
      "Pearson's R^2 across subjects:\n",
      "0.0006871510163054083\n"
     ]
    }
   ],
   "source": [
    "\n",
    "within_group_predictions = within_group_performance(\n",
    "    results,pearsonr_cor_func,'result_group',obs_col_name='y',pred_col_name='y_pred') \n",
    "r2_score_within_subj = math.pow(np.mean(within_group_predictions),2)\n",
    "print(\"Pearson's R^2 within subject and run:\")\n",
    "print(r2_score_within_subj)\n",
    "\n",
    "within_subj_predictions = within_group_performance(results,pearsonr_cor_func,'subject',obs_col_name='y',pred_col_name='y_pred') \n",
    "r2_score_within_subj_run = math.pow(np.mean(within_subj_predictions),2)\n",
    "print(\"Pearson's R^2 within subject only:\")\n",
    "print(r2_score_within_subj_run)\n",
    "\n",
    "\n",
    "\n",
    "print(\"Pearson's R^2 across subjects:\")\n",
    "print(math.pow(pearsonr(results['y'],results['y_pred'])[0],2))"
   ]
  },
  {
   "cell_type": "code",
   "execution_count": 44,
   "id": "confidential-dialogue",
   "metadata": {},
   "outputs": [
    {
     "name": "stderr",
     "output_type": "stream",
     "text": [
      "/home/bsmith16/.conda/envs/neuralsignature/lib/python3.8/site-packages/seaborn/_decorators.py:36: FutureWarning: Pass the following variables as keyword args: x, y. From version 0.12, the only valid positional argument will be `data`, and passing other arguments without an explicit keyword will result in an error or misinterpretation.\n",
      "  warnings.warn(\n"
     ]
    },
    {
     "data": {
      "image/png": "[encoded data removed]",
      "text/plain": [
       "<Figure size 432x288 with 1 Axes>"
      ]
     },
     "metadata": {
      "needs_background": "light"
     },
     "output_type": "display_data"
    },
    {
     "data": {
      "text/html": [
       "<div>\n",
       "<style scoped>\n",
       "    .dataframe tbody tr th:only-of-type {\n",
       "        vertical-align: middle;\n",
       "    }\n",
       "\n",
       "    .dataframe tbody tr th {\n",
       "        vertical-align: top;\n",
       "    }\n",
       "\n",
       "    .dataframe thead th {\n",
       "        text-align: right;\n",
       "    }\n",
       "</style>\n",
       "<table border=\"1\" class=\"dataframe\">\n",
       "  <thead>\n",
       "    <tr style=\"text-align: right;\">\n",
       "      <th></th>\n",
       "      <th>y_pred</th>\n",
       "    </tr>\n",
       "    <tr>\n",
       "      <th>y</th>\n",
       "      <th></th>\n",
       "    </tr>\n",
       "  </thead>\n",
       "  <tbody>\n",
       "    <tr>\n",
       "      <th>-0.8125</th>\n",
       "      <td>0.238212</td>\n",
       "    </tr>\n",
       "    <tr>\n",
       "      <th>0.1875</th>\n",
       "      <td>0.020276</td>\n",
       "    </tr>\n",
       "    <tr>\n",
       "      <th>1.1875</th>\n",
       "      <td>-0.423308</td>\n",
       "    </tr>\n",
       "    <tr>\n",
       "      <th>2.1875</th>\n",
       "      <td>-0.679061</td>\n",
       "    </tr>\n",
       "  </tbody>\n",
       "</table>\n",
       "</div>"
      ],
      "text/plain": [
       "           y_pred\n",
       "y                \n",
       "-0.8125  0.238212\n",
       " 0.1875  0.020276\n",
       " 1.1875 -0.423308\n",
       " 2.1875 -0.679061"
      ]
     },
     "metadata": {},
     "output_type": "display_data"
    },
    {
     "name": "stderr",
     "output_type": "stream",
     "text": [
      "/home/bsmith16/.conda/envs/neuralsignature/lib/python3.8/site-packages/seaborn/_decorators.py:36: FutureWarning: Pass the following variables as keyword args: x, y. From version 0.12, the only valid positional argument will be `data`, and passing other arguments without an explicit keyword will result in an error or misinterpretation.\n",
      "  warnings.warn(\n"
     ]
    },
    {
     "data": {
      "image/png": "[encoded data removed]",
      "text/plain": [
       "<Figure size 432x288 with 1 Axes>"
      ]
     },
     "metadata": {
      "needs_background": "light"
     },
     "output_type": "display_data"
    },
    {
     "data": {
      "text/html": [
       "<div>\n",
       "<style scoped>\n",
       "    .dataframe tbody tr th:only-of-type {\n",
       "        vertical-align: middle;\n",
       "    }\n",
       "\n",
       "    .dataframe tbody tr th {\n",
       "        vertical-align: top;\n",
       "    }\n",
       "\n",
       "    .dataframe thead th {\n",
       "        text-align: right;\n",
       "    }\n",
       "</style>\n",
       "<table border=\"1\" class=\"dataframe\">\n",
       "  <thead>\n",
       "    <tr style=\"text-align: right;\">\n",
       "      <th></th>\n",
       "      <th>y_pred</th>\n",
       "    </tr>\n",
       "    <tr>\n",
       "      <th>y</th>\n",
       "      <th></th>\n",
       "    </tr>\n",
       "  </thead>\n",
       "  <tbody>\n",
       "    <tr>\n",
       "      <th>-1.642857</th>\n",
       "      <td>0.899667</td>\n",
       "    </tr>\n",
       "    <tr>\n",
       "      <th>-0.642857</th>\n",
       "      <td>-0.224108</td>\n",
       "    </tr>\n",
       "    <tr>\n",
       "      <th>0.357143</th>\n",
       "      <td>0.018454</td>\n",
       "    </tr>\n",
       "    <tr>\n",
       "      <th>1.357143</th>\n",
       "      <td>-0.787171</td>\n",
       "    </tr>\n",
       "  </tbody>\n",
       "</table>\n",
       "</div>"
      ],
      "text/plain": [
       "             y_pred\n",
       "y                  \n",
       "-1.642857  0.899667\n",
       "-0.642857 -0.224108\n",
       " 0.357143  0.018454\n",
       " 1.357143 -0.787171"
      ]
     },
     "metadata": {},
     "output_type": "display_data"
    },
    {
     "name": "stderr",
     "output_type": "stream",
     "text": [
      "/home/bsmith16/.conda/envs/neuralsignature/lib/python3.8/site-packages/seaborn/_decorators.py:36: FutureWarning: Pass the following variables as keyword args: x, y. From version 0.12, the only valid positional argument will be `data`, and passing other arguments without an explicit keyword will result in an error or misinterpretation.\n",
      "  warnings.warn(\n"
     ]
    },
    {
     "data": {
      "image/png": "[encoded data removed]",
      "text/plain": [
       "<Figure size 432x288 with 1 Axes>"
      ]
     },
     "metadata": {
      "needs_background": "light"
     },
     "output_type": "display_data"
    },
    {
     "data": {
      "text/html": [
       "<div>\n",
       "<style scoped>\n",
       "    .dataframe tbody tr th:only-of-type {\n",
       "        vertical-align: middle;\n",
       "    }\n",
       "\n",
       "    .dataframe tbody tr th {\n",
       "        vertical-align: top;\n",
       "    }\n",
       "\n",
       "    .dataframe thead th {\n",
       "        text-align: right;\n",
       "    }\n",
       "</style>\n",
       "<table border=\"1\" class=\"dataframe\">\n",
       "  <thead>\n",
       "    <tr style=\"text-align: right;\">\n",
       "      <th></th>\n",
       "      <th>y_pred</th>\n",
       "    </tr>\n",
       "    <tr>\n",
       "      <th>y</th>\n",
       "      <th></th>\n",
       "    </tr>\n",
       "  </thead>\n",
       "  <tbody>\n",
       "    <tr>\n",
       "      <th>-1.375</th>\n",
       "      <td>0.677456</td>\n",
       "    </tr>\n",
       "    <tr>\n",
       "      <th>-0.375</th>\n",
       "      <td>-0.026542</td>\n",
       "    </tr>\n",
       "    <tr>\n",
       "      <th>0.625</th>\n",
       "      <td>-0.021202</td>\n",
       "    </tr>\n",
       "    <tr>\n",
       "      <th>1.625</th>\n",
       "      <td>-0.883556</td>\n",
       "    </tr>\n",
       "  </tbody>\n",
       "</table>\n",
       "</div>"
      ],
      "text/plain": [
       "          y_pred\n",
       "y               \n",
       "-1.375  0.677456\n",
       "-0.375 -0.026542\n",
       " 0.625 -0.021202\n",
       " 1.625 -0.883556"
      ]
     },
     "metadata": {},
     "output_type": "display_data"
    },
    {
     "name": "stderr",
     "output_type": "stream",
     "text": [
      "/home/bsmith16/.conda/envs/neuralsignature/lib/python3.8/site-packages/seaborn/_decorators.py:36: FutureWarning: Pass the following variables as keyword args: x, y. From version 0.12, the only valid positional argument will be `data`, and passing other arguments without an explicit keyword will result in an error or misinterpretation.\n",
      "  warnings.warn(\n"
     ]
    },
    {
     "data": {
      "image/png": "[encoded data removed]",
      "text/plain": [
       "<Figure size 432x288 with 1 Axes>"
      ]
     },
     "metadata": {
      "needs_background": "light"
     },
     "output_type": "display_data"
    },
    {
     "data": {
      "text/html": [
       "<div>\n",
       "<style scoped>\n",
       "    .dataframe tbody tr th:only-of-type {\n",
       "        vertical-align: middle;\n",
       "    }\n",
       "\n",
       "    .dataframe tbody tr th {\n",
       "        vertical-align: top;\n",
       "    }\n",
       "\n",
       "    .dataframe thead th {\n",
       "        text-align: right;\n",
       "    }\n",
       "</style>\n",
       "<table border=\"1\" class=\"dataframe\">\n",
       "  <thead>\n",
       "    <tr style=\"text-align: right;\">\n",
       "      <th></th>\n",
       "      <th>y_pred</th>\n",
       "    </tr>\n",
       "    <tr>\n",
       "      <th>y</th>\n",
       "      <th></th>\n",
       "    </tr>\n",
       "  </thead>\n",
       "  <tbody>\n",
       "    <tr>\n",
       "      <th>-0.75</th>\n",
       "      <td>0.162018</td>\n",
       "    </tr>\n",
       "    <tr>\n",
       "      <th>0.25</th>\n",
       "      <td>0.308981</td>\n",
       "    </tr>\n",
       "    <tr>\n",
       "      <th>1.25</th>\n",
       "      <td>-0.164169</td>\n",
       "    </tr>\n",
       "    <tr>\n",
       "      <th>2.25</th>\n",
       "      <td>-1.272482</td>\n",
       "    </tr>\n",
       "  </tbody>\n",
       "</table>\n",
       "</div>"
      ],
      "text/plain": [
       "         y_pred\n",
       "y              \n",
       "-0.75  0.162018\n",
       " 0.25  0.308981\n",
       " 1.25 -0.164169\n",
       " 2.25 -1.272482"
      ]
     },
     "metadata": {},
     "output_type": "display_data"
    },
    {
     "name": "stderr",
     "output_type": "stream",
     "text": [
      "/home/bsmith16/.conda/envs/neuralsignature/lib/python3.8/site-packages/seaborn/_decorators.py:36: FutureWarning: Pass the following variables as keyword args: x, y. From version 0.12, the only valid positional argument will be `data`, and passing other arguments without an explicit keyword will result in an error or misinterpretation.\n",
      "  warnings.warn(\n"
     ]
    },
    {
     "data": {
      "image/png": "[encoded data removed]",
      "text/plain": [
       "<Figure size 432x288 with 1 Axes>"
      ]
     },
     "metadata": {
      "needs_background": "light"
     },
     "output_type": "display_data"
    },
    {
     "data": {
      "text/html": [
       "<div>\n",
       "<style scoped>\n",
       "    .dataframe tbody tr th:only-of-type {\n",
       "        vertical-align: middle;\n",
       "    }\n",
       "\n",
       "    .dataframe tbody tr th {\n",
       "        vertical-align: top;\n",
       "    }\n",
       "\n",
       "    .dataframe thead th {\n",
       "        text-align: right;\n",
       "    }\n",
       "</style>\n",
       "<table border=\"1\" class=\"dataframe\">\n",
       "  <thead>\n",
       "    <tr style=\"text-align: right;\">\n",
       "      <th></th>\n",
       "      <th>y_pred</th>\n",
       "    </tr>\n",
       "    <tr>\n",
       "      <th>y</th>\n",
       "      <th></th>\n",
       "    </tr>\n",
       "  </thead>\n",
       "  <tbody>\n",
       "    <tr>\n",
       "      <th>-2.375</th>\n",
       "      <td>0.777107</td>\n",
       "    </tr>\n",
       "    <tr>\n",
       "      <th>-0.375</th>\n",
       "      <td>0.051955</td>\n",
       "    </tr>\n",
       "    <tr>\n",
       "      <th>0.625</th>\n",
       "      <td>-0.176203</td>\n",
       "    </tr>\n",
       "  </tbody>\n",
       "</table>\n",
       "</div>"
      ],
      "text/plain": [
       "          y_pred\n",
       "y               \n",
       "-2.375  0.777107\n",
       "-0.375  0.051955\n",
       " 0.625 -0.176203"
      ]
     },
     "metadata": {},
     "output_type": "display_data"
    },
    {
     "name": "stdout",
     "output_type": "stream",
     "text": [
      "Spearman's rho within subject and run:\n",
      "0.039034243068165074\n",
      "Spearman's rho within subject only:\n",
      "0.03359882689379532\n",
      "Spearman's rho across subjects:\n",
      "0.034733471357189336\n"
     ]
    }
   ],
   "source": [
    "within_group_predictions_sp = within_group_performance(\n",
    "    results,spearmanr_cor_func,'result_group',obs_col_name='y',pred_col_name='y_pred') \n",
    "rho_score_within_subj = np.mean(within_group_predictions_sp)\n",
    "print(\"Spearman's rho within subject and run:\")\n",
    "print(rho_score_within_subj)\n",
    "\n",
    "within_subj_predictions_sp = within_group_performance(results,spearmanr_cor_func,'subject',obs_col_name='y',pred_col_name='y_pred') \n",
    "rho_score_within_subj_run = np.mean(within_subj_predictions_sp)\n",
    "print(\"Spearman's rho within subject only:\")\n",
    "print(rho_score_within_subj_run)\n",
    "\n",
    "\n",
    "\n",
    "print(\"Spearman's rho across subjects:\")\n",
    "print(spearmanr(results['y'],results['y_pred'])[0])"
   ]
  },
  {
   "cell_type": "markdown",
   "id": "parliamentary-kenya",
   "metadata": {},
   "source": [
    "These numbers are really bad, but we might expect those low scores for no HRF with 2s only."
   ]
  },
  {
   "cell_type": "markdown",
   "id": "cubic-logan",
   "metadata": {},
   "source": [
    "## ns_w_hrf_from_spm_at_fingerpress_40subs"
   ]
  },
  {
   "cell_type": "code",
   "execution_count": 45,
   "id": "accomplished-venture",
   "metadata": {},
   "outputs": [],
   "source": [
    "loocv_results = pickle.load(open(data_path + \"train_test_results_ns_w_hrf_from_spm_at_fingerpress_40subs.pkl\",'rb'))\n",
    "test_scores_same=loocv_results[0]\n",
    "tt_results=loocv_results[1]\n",
    "results_by_trainset_item=loocv_results[2]"
   ]
  },
  {
   "cell_type": "code",
   "execution_count": 46,
   "id": "continued-corrections",
   "metadata": {},
   "outputs": [],
   "source": [
    "results = pd.concat([metadata,results_by_trainset_item],axis=1)\n",
    "results['result_group'] = results.group + \"_\" + results.run\n",
    "#trim subjects where we don't have data. this will be 20 because there's 20 subjects in the metadata but only 40 being processed.\n",
    "results = results.loc[pd.isnull(results.result_group)==False,]"
   ]
  },
  {
   "cell_type": "code",
   "execution_count": 47,
   "id": "laughing-bailey",
   "metadata": {},
   "outputs": [
    {
     "name": "stderr",
     "output_type": "stream",
     "text": [
      "/home/bsmith16/.conda/envs/neuralsignature/lib/python3.8/site-packages/seaborn/_decorators.py:36: FutureWarning: Pass the following variables as keyword args: x, y. From version 0.12, the only valid positional argument will be `data`, and passing other arguments without an explicit keyword will result in an error or misinterpretation.\n",
      "  warnings.warn(\n"
     ]
    },
    {
     "data": {
      "image/png": "[encoded data removed]",
      "text/plain": [
       "<Figure size 432x288 with 1 Axes>"
      ]
     },
     "metadata": {
      "needs_background": "light"
     },
     "output_type": "display_data"
    },
    {
     "data": {
      "text/html": [
       "<div>\n",
       "<style scoped>\n",
       "    .dataframe tbody tr th:only-of-type {\n",
       "        vertical-align: middle;\n",
       "    }\n",
       "\n",
       "    .dataframe tbody tr th {\n",
       "        vertical-align: top;\n",
       "    }\n",
       "\n",
       "    .dataframe thead th {\n",
       "        text-align: right;\n",
       "    }\n",
       "</style>\n",
       "<table border=\"1\" class=\"dataframe\">\n",
       "  <thead>\n",
       "    <tr style=\"text-align: right;\">\n",
       "      <th></th>\n",
       "      <th>y_pred</th>\n",
       "    </tr>\n",
       "    <tr>\n",
       "      <th>y</th>\n",
       "      <th></th>\n",
       "    </tr>\n",
       "  </thead>\n",
       "  <tbody>\n",
       "    <tr>\n",
       "      <th>-1.076923</th>\n",
       "      <td>1.332698</td>\n",
       "    </tr>\n",
       "    <tr>\n",
       "      <th>-0.076923</th>\n",
       "      <td>-0.406930</td>\n",
       "    </tr>\n",
       "    <tr>\n",
       "      <th>0.923077</th>\n",
       "      <td>-0.740614</td>\n",
       "    </tr>\n",
       "  </tbody>\n",
       "</table>\n",
       "</div>"
      ],
      "text/plain": [
       "             y_pred\n",
       "y                  \n",
       "-1.076923  1.332698\n",
       "-0.076923 -0.406930\n",
       " 0.923077 -0.740614"
      ]
     },
     "metadata": {},
     "output_type": "display_data"
    },
    {
     "name": "stdout",
     "output_type": "stream",
     "text": [
      "Pearson's R^2 within subject and run:\n",
      "0.06968384338062028\n",
      "Pearson's R^2 within subject only:\n",
      "0.054564235148747614\n",
      "Pearson's R^2 across subjects:\n",
      "0.04721550206692823\n"
     ]
    }
   ],
   "source": [
    "within_group_predictions = within_group_performance(\n",
    "    results,pearsonr_cor_func,'result_group',obs_col_name='y',pred_col_name='y_pred') \n",
    "r2_score_within_subj = math.pow(np.mean(within_group_predictions),2)\n",
    "print(\"Pearson's R^2 within subject and run:\")\n",
    "print(r2_score_within_subj)\n",
    "\n",
    "within_subj_predictions = within_group_performance(results,pearsonr_cor_func,'subject',obs_col_name='y',pred_col_name='y_pred') \n",
    "r2_score_within_subj_run = math.pow(np.mean(within_subj_predictions),2)\n",
    "print(\"Pearson's R^2 within subject only:\")\n",
    "print(r2_score_within_subj_run)\n",
    "\n",
    "\n",
    "\n",
    "print(\"Pearson's R^2 across subjects:\")\n",
    "print(math.pow(pearsonr(results['y'],results['y_pred'])[0],2))"
   ]
  },
  {
   "cell_type": "markdown",
   "id": "humanitarian-bones",
   "metadata": {},
   "source": [
    "That's implausibly bad for finger-press. Need to re-investigate."
   ]
  },
  {
   "cell_type": "code",
   "execution_count": 48,
   "id": "insured-member",
   "metadata": {},
   "outputs": [
    {
     "name": "stderr",
     "output_type": "stream",
     "text": [
      "/home/bsmith16/.conda/envs/neuralsignature/lib/python3.8/site-packages/seaborn/_decorators.py:36: FutureWarning: Pass the following variables as keyword args: x, y. From version 0.12, the only valid positional argument will be `data`, and passing other arguments without an explicit keyword will result in an error or misinterpretation.\n",
      "  warnings.warn(\n"
     ]
    },
    {
     "data": {
      "image/png": "[encoded data removed]",
      "text/plain": [
       "<Figure size 432x288 with 1 Axes>"
      ]
     },
     "metadata": {
      "needs_background": "light"
     },
     "output_type": "display_data"
    },
    {
     "data": {
      "text/html": [
       "<div>\n",
       "<style scoped>\n",
       "    .dataframe tbody tr th:only-of-type {\n",
       "        vertical-align: middle;\n",
       "    }\n",
       "\n",
       "    .dataframe tbody tr th {\n",
       "        vertical-align: top;\n",
       "    }\n",
       "\n",
       "    .dataframe thead th {\n",
       "        text-align: right;\n",
       "    }\n",
       "</style>\n",
       "<table border=\"1\" class=\"dataframe\">\n",
       "  <thead>\n",
       "    <tr style=\"text-align: right;\">\n",
       "      <th></th>\n",
       "      <th>y_pred</th>\n",
       "    </tr>\n",
       "    <tr>\n",
       "      <th>y</th>\n",
       "      <th></th>\n",
       "    </tr>\n",
       "  </thead>\n",
       "  <tbody>\n",
       "    <tr>\n",
       "      <th>-1.076923</th>\n",
       "      <td>1.332698</td>\n",
       "    </tr>\n",
       "    <tr>\n",
       "      <th>-0.076923</th>\n",
       "      <td>-0.406930</td>\n",
       "    </tr>\n",
       "    <tr>\n",
       "      <th>0.923077</th>\n",
       "      <td>-0.740614</td>\n",
       "    </tr>\n",
       "  </tbody>\n",
       "</table>\n",
       "</div>"
      ],
      "text/plain": [
       "             y_pred\n",
       "y                  \n",
       "-1.076923  1.332698\n",
       "-0.076923 -0.406930\n",
       " 0.923077 -0.740614"
      ]
     },
     "metadata": {},
     "output_type": "display_data"
    },
    {
     "name": "stdout",
     "output_type": "stream",
     "text": [
      "Spearman's rho within subject and run:\n",
      "0.2639769750955948\n",
      "Spearman's rho within subject only:\n",
      "0.23358988665767963\n",
      "Spearman's rho across subjects:\n",
      "0.22100484993490596\n"
     ]
    }
   ],
   "source": [
    "within_group_predictions_sp = within_group_performance(\n",
    "    results,spearmanr_cor_func,'result_group',obs_col_name='y',pred_col_name='y_pred') \n",
    "rho_score_within_subj = np.mean(within_group_predictions_sp)\n",
    "print(\"Spearman's rho within subject and run:\")\n",
    "print(rho_score_within_subj)\n",
    "\n",
    "within_subj_predictions_sp = within_group_performance(results,spearmanr_cor_func,'subject',obs_col_name='y',pred_col_name='y_pred') \n",
    "rho_score_within_subj_run = np.mean(within_subj_predictions_sp)\n",
    "print(\"Spearman's rho within subject only:\")\n",
    "print(rho_score_within_subj_run)\n",
    "\n",
    "\n",
    "\n",
    "print(\"Spearman's rho across subjects:\")\n",
    "print(spearmanr(results['y'],results['y_pred'])[0])"
   ]
  },
  {
   "cell_type": "markdown",
   "id": "polar-orientation",
   "metadata": {},
   "source": [
    "## ns_2s_split_*_40subs"
   ]
  },
  {
   "cell_type": "code",
   "execution_count": 12,
   "id": "solved-reach",
   "metadata": {},
   "outputs": [
    {
     "name": "stderr",
     "output_type": "stream",
     "text": [
      "/home/bsmith16/.conda/envs/neuralsignature/lib/python3.8/site-packages/seaborn/_decorators.py:36: FutureWarning: Pass the following variables as keyword args: x, y. From version 0.12, the only valid positional argument will be `data`, and passing other arguments without an explicit keyword will result in an error or misinterpretation.\n",
      "  warnings.warn(\n"
     ]
    },
    {
     "data": {
      "image/png": "[encoded data removed]",
      "text/plain": [
       "<Figure size 432x288 with 1 Axes>"
      ]
     },
     "metadata": {
      "needs_background": "light"
     },
     "output_type": "display_data"
    },
    {
     "data": {
      "text/html": [
       "<div>\n",
       "<style scoped>\n",
       "    .dataframe tbody tr th:only-of-type {\n",
       "        vertical-align: middle;\n",
       "    }\n",
       "\n",
       "    .dataframe tbody tr th {\n",
       "        vertical-align: top;\n",
       "    }\n",
       "\n",
       "    .dataframe thead th {\n",
       "        text-align: right;\n",
       "    }\n",
       "</style>\n",
       "<table border=\"1\" class=\"dataframe\">\n",
       "  <thead>\n",
       "    <tr style=\"text-align: right;\">\n",
       "      <th></th>\n",
       "      <th>y_pred</th>\n",
       "    </tr>\n",
       "    <tr>\n",
       "      <th>y</th>\n",
       "      <th></th>\n",
       "    </tr>\n",
       "  </thead>\n",
       "  <tbody>\n",
       "    <tr>\n",
       "      <th>-0.8125</th>\n",
       "      <td>0.238212</td>\n",
       "    </tr>\n",
       "    <tr>\n",
       "      <th>0.1875</th>\n",
       "      <td>0.020276</td>\n",
       "    </tr>\n",
       "    <tr>\n",
       "      <th>1.1875</th>\n",
       "      <td>-0.423308</td>\n",
       "    </tr>\n",
       "    <tr>\n",
       "      <th>2.1875</th>\n",
       "      <td>-0.679061</td>\n",
       "    </tr>\n",
       "  </tbody>\n",
       "</table>\n",
       "</div>"
      ],
      "text/plain": [
       "           y_pred\n",
       "y                \n",
       "-0.8125  0.238212\n",
       " 0.1875  0.020276\n",
       " 1.1875 -0.423308\n",
       " 2.1875 -0.679061"
      ]
     },
     "metadata": {},
     "output_type": "display_data"
    },
    {
     "name": "stderr",
     "output_type": "stream",
     "text": [
      "/home/bsmith16/.conda/envs/neuralsignature/lib/python3.8/site-packages/seaborn/_decorators.py:36: FutureWarning: Pass the following variables as keyword args: x, y. From version 0.12, the only valid positional argument will be `data`, and passing other arguments without an explicit keyword will result in an error or misinterpretation.\n",
      "  warnings.warn(\n"
     ]
    },
    {
     "data": {
      "image/png": "[encoded data removed]",
      "text/plain": [
       "<Figure size 432x288 with 1 Axes>"
      ]
     },
     "metadata": {
      "needs_background": "light"
     },
     "output_type": "display_data"
    },
    {
     "data": {
      "text/html": [
       "<div>\n",
       "<style scoped>\n",
       "    .dataframe tbody tr th:only-of-type {\n",
       "        vertical-align: middle;\n",
       "    }\n",
       "\n",
       "    .dataframe tbody tr th {\n",
       "        vertical-align: top;\n",
       "    }\n",
       "\n",
       "    .dataframe thead th {\n",
       "        text-align: right;\n",
       "    }\n",
       "</style>\n",
       "<table border=\"1\" class=\"dataframe\">\n",
       "  <thead>\n",
       "    <tr style=\"text-align: right;\">\n",
       "      <th></th>\n",
       "      <th>y_pred</th>\n",
       "    </tr>\n",
       "    <tr>\n",
       "      <th>y</th>\n",
       "      <th></th>\n",
       "    </tr>\n",
       "  </thead>\n",
       "  <tbody>\n",
       "    <tr>\n",
       "      <th>-1.642857</th>\n",
       "      <td>0.899667</td>\n",
       "    </tr>\n",
       "    <tr>\n",
       "      <th>-0.642857</th>\n",
       "      <td>-0.224108</td>\n",
       "    </tr>\n",
       "    <tr>\n",
       "      <th>0.357143</th>\n",
       "      <td>0.018454</td>\n",
       "    </tr>\n",
       "    <tr>\n",
       "      <th>1.357143</th>\n",
       "      <td>-0.787171</td>\n",
       "    </tr>\n",
       "  </tbody>\n",
       "</table>\n",
       "</div>"
      ],
      "text/plain": [
       "             y_pred\n",
       "y                  \n",
       "-1.642857  0.899667\n",
       "-0.642857 -0.224108\n",
       " 0.357143  0.018454\n",
       " 1.357143 -0.787171"
      ]
     },
     "metadata": {},
     "output_type": "display_data"
    },
    {
     "name": "stderr",
     "output_type": "stream",
     "text": [
      "/home/bsmith16/.conda/envs/neuralsignature/lib/python3.8/site-packages/seaborn/_decorators.py:36: FutureWarning: Pass the following variables as keyword args: x, y. From version 0.12, the only valid positional argument will be `data`, and passing other arguments without an explicit keyword will result in an error or misinterpretation.\n",
      "  warnings.warn(\n"
     ]
    },
    {
     "data": {
      "image/png": "[encoded data removed]",
      "text/plain": [
       "<Figure size 432x288 with 1 Axes>"
      ]
     },
     "metadata": {
      "needs_background": "light"
     },
     "output_type": "display_data"
    },
    {
     "data": {
      "text/html": [
       "<div>\n",
       "<style scoped>\n",
       "    .dataframe tbody tr th:only-of-type {\n",
       "        vertical-align: middle;\n",
       "    }\n",
       "\n",
       "    .dataframe tbody tr th {\n",
       "        vertical-align: top;\n",
       "    }\n",
       "\n",
       "    .dataframe thead th {\n",
       "        text-align: right;\n",
       "    }\n",
       "</style>\n",
       "<table border=\"1\" class=\"dataframe\">\n",
       "  <thead>\n",
       "    <tr style=\"text-align: right;\">\n",
       "      <th></th>\n",
       "      <th>y_pred</th>\n",
       "    </tr>\n",
       "    <tr>\n",
       "      <th>y</th>\n",
       "      <th></th>\n",
       "    </tr>\n",
       "  </thead>\n",
       "  <tbody>\n",
       "    <tr>\n",
       "      <th>-1.375</th>\n",
       "      <td>0.677456</td>\n",
       "    </tr>\n",
       "    <tr>\n",
       "      <th>-0.375</th>\n",
       "      <td>-0.026542</td>\n",
       "    </tr>\n",
       "    <tr>\n",
       "      <th>0.625</th>\n",
       "      <td>-0.021202</td>\n",
       "    </tr>\n",
       "    <tr>\n",
       "      <th>1.625</th>\n",
       "      <td>-0.883556</td>\n",
       "    </tr>\n",
       "  </tbody>\n",
       "</table>\n",
       "</div>"
      ],
      "text/plain": [
       "          y_pred\n",
       "y               \n",
       "-1.375  0.677456\n",
       "-0.375 -0.026542\n",
       " 0.625 -0.021202\n",
       " 1.625 -0.883556"
      ]
     },
     "metadata": {},
     "output_type": "display_data"
    },
    {
     "name": "stderr",
     "output_type": "stream",
     "text": [
      "/home/bsmith16/.conda/envs/neuralsignature/lib/python3.8/site-packages/seaborn/_decorators.py:36: FutureWarning: Pass the following variables as keyword args: x, y. From version 0.12, the only valid positional argument will be `data`, and passing other arguments without an explicit keyword will result in an error or misinterpretation.\n",
      "  warnings.warn(\n"
     ]
    },
    {
     "data": {
      "image/png": "[encoded data removed]",
      "text/plain": [
       "<Figure size 432x288 with 1 Axes>"
      ]
     },
     "metadata": {
      "needs_background": "light"
     },
     "output_type": "display_data"
    },
    {
     "data": {
      "text/html": [
       "<div>\n",
       "<style scoped>\n",
       "    .dataframe tbody tr th:only-of-type {\n",
       "        vertical-align: middle;\n",
       "    }\n",
       "\n",
       "    .dataframe tbody tr th {\n",
       "        vertical-align: top;\n",
       "    }\n",
       "\n",
       "    .dataframe thead th {\n",
       "        text-align: right;\n",
       "    }\n",
       "</style>\n",
       "<table border=\"1\" class=\"dataframe\">\n",
       "  <thead>\n",
       "    <tr style=\"text-align: right;\">\n",
       "      <th></th>\n",
       "      <th>y_pred</th>\n",
       "    </tr>\n",
       "    <tr>\n",
       "      <th>y</th>\n",
       "      <th></th>\n",
       "    </tr>\n",
       "  </thead>\n",
       "  <tbody>\n",
       "    <tr>\n",
       "      <th>-0.75</th>\n",
       "      <td>0.162018</td>\n",
       "    </tr>\n",
       "    <tr>\n",
       "      <th>0.25</th>\n",
       "      <td>0.308981</td>\n",
       "    </tr>\n",
       "    <tr>\n",
       "      <th>1.25</th>\n",
       "      <td>-0.164169</td>\n",
       "    </tr>\n",
       "    <tr>\n",
       "      <th>2.25</th>\n",
       "      <td>-1.272482</td>\n",
       "    </tr>\n",
       "  </tbody>\n",
       "</table>\n",
       "</div>"
      ],
      "text/plain": [
       "         y_pred\n",
       "y              \n",
       "-0.75  0.162018\n",
       " 0.25  0.308981\n",
       " 1.25 -0.164169\n",
       " 2.25 -1.272482"
      ]
     },
     "metadata": {},
     "output_type": "display_data"
    },
    {
     "name": "stderr",
     "output_type": "stream",
     "text": [
      "/home/bsmith16/.conda/envs/neuralsignature/lib/python3.8/site-packages/seaborn/_decorators.py:36: FutureWarning: Pass the following variables as keyword args: x, y. From version 0.12, the only valid positional argument will be `data`, and passing other arguments without an explicit keyword will result in an error or misinterpretation.\n",
      "  warnings.warn(\n"
     ]
    },
    {
     "data": {
      "image/png": "[encoded data removed]",
      "text/plain": [
       "<Figure size 432x288 with 1 Axes>"
      ]
     },
     "metadata": {
      "needs_background": "light"
     },
     "output_type": "display_data"
    },
    {
     "data": {
      "text/html": [
       "<div>\n",
       "<style scoped>\n",
       "    .dataframe tbody tr th:only-of-type {\n",
       "        vertical-align: middle;\n",
       "    }\n",
       "\n",
       "    .dataframe tbody tr th {\n",
       "        vertical-align: top;\n",
       "    }\n",
       "\n",
       "    .dataframe thead th {\n",
       "        text-align: right;\n",
       "    }\n",
       "</style>\n",
       "<table border=\"1\" class=\"dataframe\">\n",
       "  <thead>\n",
       "    <tr style=\"text-align: right;\">\n",
       "      <th></th>\n",
       "      <th>y_pred</th>\n",
       "    </tr>\n",
       "    <tr>\n",
       "      <th>y</th>\n",
       "      <th></th>\n",
       "    </tr>\n",
       "  </thead>\n",
       "  <tbody>\n",
       "    <tr>\n",
       "      <th>-2.375</th>\n",
       "      <td>0.777107</td>\n",
       "    </tr>\n",
       "    <tr>\n",
       "      <th>-0.375</th>\n",
       "      <td>0.051955</td>\n",
       "    </tr>\n",
       "    <tr>\n",
       "      <th>0.625</th>\n",
       "      <td>-0.176203</td>\n",
       "    </tr>\n",
       "  </tbody>\n",
       "</table>\n",
       "</div>"
      ],
      "text/plain": [
       "          y_pred\n",
       "y               \n",
       "-2.375  0.777107\n",
       "-0.375  0.051955\n",
       " 0.625 -0.176203"
      ]
     },
     "metadata": {},
     "output_type": "display_data"
    },
    {
     "name": "stdout",
     "output_type": "stream",
     "text": [
      "Pearson's R^2 within subject and run:\n",
      "0.0015236721319045932\n",
      "Pearson's R^2 within subject only:\n",
      "0.0011288811686392237\n",
      "Pearson's R^2 across subjects:\n",
      "0.0006871510163054083\n"
     ]
    }
   ],
   "source": [
    "loocv_results = pickle.load(open(data_path + \"train_test_results_ns_2s_split_0_40subs.pkl\",'rb'))\n",
    "test_scores_same=loocv_results[0]\n",
    "tt_results=loocv_results[1]\n",
    "results_by_trainset_item=loocv_results[2]\n",
    "\n",
    "results = pd.concat([metadata,results_by_trainset_item],axis=1)\n",
    "results['result_group'] = results.group + \"_\" + results.run\n",
    "#trim subjects where we don't have data. this will be 20 because there's 20 subjects in the metadata but only 40 being processed.\n",
    "results = results.loc[pd.isnull(results.result_group)==False,]\n",
    "\n",
    "\n",
    "within_group_predictions = within_group_performance(\n",
    "    results,pearsonr_cor_func,'result_group',obs_col_name='y',pred_col_name='y_pred') \n",
    "r2_score_within_subj = math.pow(np.mean(within_group_predictions),2)\n",
    "print(\"Pearson's R^2 within subject and run:\")\n",
    "print(r2_score_within_subj)\n",
    "\n",
    "within_subj_predictions = within_group_performance(results,pearsonr_cor_func,'subject',obs_col_name='y',pred_col_name='y_pred') \n",
    "r2_score_within_subj_run = math.pow(np.mean(within_subj_predictions),2)\n",
    "print(\"Pearson's R^2 within subject only:\")\n",
    "print(r2_score_within_subj_run)\n",
    "\n",
    "\n",
    "\n",
    "print(\"Pearson's R^2 across subjects:\")\n",
    "print(math.pow(pearsonr(results['y'],results['y_pred'])[0],2))"
   ]
  },
  {
   "cell_type": "code",
   "execution_count": 49,
   "id": "arranged-breakdown",
   "metadata": {},
   "outputs": [
    {
     "name": "stderr",
     "output_type": "stream",
     "text": [
      "/home/bsmith16/.conda/envs/neuralsignature/lib/python3.8/site-packages/seaborn/_decorators.py:36: FutureWarning: Pass the following variables as keyword args: x, y. From version 0.12, the only valid positional argument will be `data`, and passing other arguments without an explicit keyword will result in an error or misinterpretation.\n",
      "  warnings.warn(\n"
     ]
    },
    {
     "data": {
      "image/png": "[encoded data removed]",
      "text/plain": [
       "<Figure size 432x288 with 1 Axes>"
      ]
     },
     "metadata": {
      "needs_background": "light"
     },
     "output_type": "display_data"
    },
    {
     "data": {
      "text/html": [
       "<div>\n",
       "<style scoped>\n",
       "    .dataframe tbody tr th:only-of-type {\n",
       "        vertical-align: middle;\n",
       "    }\n",
       "\n",
       "    .dataframe tbody tr th {\n",
       "        vertical-align: top;\n",
       "    }\n",
       "\n",
       "    .dataframe thead th {\n",
       "        text-align: right;\n",
       "    }\n",
       "</style>\n",
       "<table border=\"1\" class=\"dataframe\">\n",
       "  <thead>\n",
       "    <tr style=\"text-align: right;\">\n",
       "      <th></th>\n",
       "      <th>y_pred</th>\n",
       "    </tr>\n",
       "    <tr>\n",
       "      <th>y</th>\n",
       "      <th></th>\n",
       "    </tr>\n",
       "  </thead>\n",
       "  <tbody>\n",
       "    <tr>\n",
       "      <th>-1.076923</th>\n",
       "      <td>1.332698</td>\n",
       "    </tr>\n",
       "    <tr>\n",
       "      <th>-0.076923</th>\n",
       "      <td>-0.406930</td>\n",
       "    </tr>\n",
       "    <tr>\n",
       "      <th>0.923077</th>\n",
       "      <td>-0.740614</td>\n",
       "    </tr>\n",
       "  </tbody>\n",
       "</table>\n",
       "</div>"
      ],
      "text/plain": [
       "             y_pred\n",
       "y                  \n",
       "-1.076923  1.332698\n",
       "-0.076923 -0.406930\n",
       " 0.923077 -0.740614"
      ]
     },
     "metadata": {},
     "output_type": "display_data"
    },
    {
     "name": "stdout",
     "output_type": "stream",
     "text": [
      "Spearman's rho within subject and run:\n",
      "0.2639769750955948\n",
      "Spearman's rho within subject only:\n",
      "0.23358988665767963\n",
      "Spearman's rho across subjects:\n",
      "0.22100484993490596\n"
     ]
    }
   ],
   "source": [
    "within_group_predictions_sp = within_group_performance(\n",
    "    results,spearmanr_cor_func,'result_group',obs_col_name='y',pred_col_name='y_pred') \n",
    "rho_score_within_subj = np.mean(within_group_predictions_sp)\n",
    "print(\"Spearman's rho within subject and run:\")\n",
    "print(rho_score_within_subj)\n",
    "\n",
    "within_subj_predictions_sp = within_group_performance(results,spearmanr_cor_func,'subject',obs_col_name='y',pred_col_name='y_pred') \n",
    "rho_score_within_subj_run = np.mean(within_subj_predictions_sp)\n",
    "print(\"Spearman's rho within subject only:\")\n",
    "print(rho_score_within_subj_run)\n",
    "\n",
    "\n",
    "\n",
    "print(\"Spearman's rho across subjects:\")\n",
    "print(spearmanr(results['y'],results['y_pred'])[0])"
   ]
  },
  {
   "cell_type": "markdown",
   "id": "postal-wheel",
   "metadata": {},
   "source": [
    "### 2s"
   ]
  },
  {
   "cell_type": "code",
   "execution_count": 50,
   "id": "regional-tragedy",
   "metadata": {},
   "outputs": [
    {
     "name": "stderr",
     "output_type": "stream",
     "text": [
      "/home/bsmith16/.conda/envs/neuralsignature/lib/python3.8/site-packages/seaborn/_decorators.py:36: FutureWarning: Pass the following variables as keyword args: x, y. From version 0.12, the only valid positional argument will be `data`, and passing other arguments without an explicit keyword will result in an error or misinterpretation.\n",
      "  warnings.warn(\n"
     ]
    },
    {
     "data": {
      "image/png": "[encoded data removed]",
      "text/plain": [
       "<Figure size 432x288 with 1 Axes>"
      ]
     },
     "metadata": {
      "needs_background": "light"
     },
     "output_type": "display_data"
    },
    {
     "data": {
      "text/html": [
       "<div>\n",
       "<style scoped>\n",
       "    .dataframe tbody tr th:only-of-type {\n",
       "        vertical-align: middle;\n",
       "    }\n",
       "\n",
       "    .dataframe tbody tr th {\n",
       "        vertical-align: top;\n",
       "    }\n",
       "\n",
       "    .dataframe thead th {\n",
       "        text-align: right;\n",
       "    }\n",
       "</style>\n",
       "<table border=\"1\" class=\"dataframe\">\n",
       "  <thead>\n",
       "    <tr style=\"text-align: right;\">\n",
       "      <th></th>\n",
       "      <th>y_pred</th>\n",
       "    </tr>\n",
       "    <tr>\n",
       "      <th>y</th>\n",
       "      <th></th>\n",
       "    </tr>\n",
       "  </thead>\n",
       "  <tbody>\n",
       "    <tr>\n",
       "      <th>-0.454545</th>\n",
       "      <td>0.260062</td>\n",
       "    </tr>\n",
       "    <tr>\n",
       "      <th>0.545455</th>\n",
       "      <td>-0.866231</td>\n",
       "    </tr>\n",
       "    <tr>\n",
       "      <th>1.545455</th>\n",
       "      <td>-0.607135</td>\n",
       "    </tr>\n",
       "  </tbody>\n",
       "</table>\n",
       "</div>"
      ],
      "text/plain": [
       "             y_pred\n",
       "y                  \n",
       "-0.454545  0.260062\n",
       " 0.545455 -0.866231\n",
       " 1.545455 -0.607135"
      ]
     },
     "metadata": {},
     "output_type": "display_data"
    },
    {
     "name": "stderr",
     "output_type": "stream",
     "text": [
      "/home/bsmith16/.conda/envs/neuralsignature/lib/python3.8/site-packages/seaborn/_decorators.py:36: FutureWarning: Pass the following variables as keyword args: x, y. From version 0.12, the only valid positional argument will be `data`, and passing other arguments without an explicit keyword will result in an error or misinterpretation.\n",
      "  warnings.warn(\n"
     ]
    },
    {
     "data": {
      "image/png": "[encoded data removed]",
      "text/plain": [
       "<Figure size 432x288 with 1 Axes>"
      ]
     },
     "metadata": {
      "needs_background": "light"
     },
     "output_type": "display_data"
    },
    {
     "data": {
      "text/html": [
       "<div>\n",
       "<style scoped>\n",
       "    .dataframe tbody tr th:only-of-type {\n",
       "        vertical-align: middle;\n",
       "    }\n",
       "\n",
       "    .dataframe tbody tr th {\n",
       "        vertical-align: top;\n",
       "    }\n",
       "\n",
       "    .dataframe thead th {\n",
       "        text-align: right;\n",
       "    }\n",
       "</style>\n",
       "<table border=\"1\" class=\"dataframe\">\n",
       "  <thead>\n",
       "    <tr style=\"text-align: right;\">\n",
       "      <th></th>\n",
       "      <th>y_pred</th>\n",
       "    </tr>\n",
       "    <tr>\n",
       "      <th>y</th>\n",
       "      <th></th>\n",
       "    </tr>\n",
       "  </thead>\n",
       "  <tbody>\n",
       "    <tr>\n",
       "      <th>-1.0625</th>\n",
       "      <td>0.446328</td>\n",
       "    </tr>\n",
       "    <tr>\n",
       "      <th>-0.0625</th>\n",
       "      <td>-0.721532</td>\n",
       "    </tr>\n",
       "    <tr>\n",
       "      <th>0.9375</th>\n",
       "      <td>-0.283022</td>\n",
       "    </tr>\n",
       "    <tr>\n",
       "      <th>1.9375</th>\n",
       "      <td>0.016899</td>\n",
       "    </tr>\n",
       "  </tbody>\n",
       "</table>\n",
       "</div>"
      ],
      "text/plain": [
       "           y_pred\n",
       "y                \n",
       "-1.0625  0.446328\n",
       "-0.0625 -0.721532\n",
       " 0.9375 -0.283022\n",
       " 1.9375  0.016899"
      ]
     },
     "metadata": {},
     "output_type": "display_data"
    },
    {
     "name": "stdout",
     "output_type": "stream",
     "text": [
      "Pearson's R^2 within subject and run:\n",
      "0.0032775026968980187\n",
      "Pearson's R^2 within subject only:\n",
      "0.004250309334337535\n",
      "Pearson's R^2 across subjects:\n",
      "0.0036006249725942844\n"
     ]
    }
   ],
   "source": [
    "loocv_results = pickle.load(open(data_path + \"train_test_results_ns_2s_split_2_40subs.pkl\",'rb'))\n",
    "test_scores_same=loocv_results[0]\n",
    "tt_results=loocv_results[1]\n",
    "results_by_trainset_item=loocv_results[2]\n",
    "\n",
    "results = pd.concat([metadata,results_by_trainset_item],axis=1)\n",
    "results['result_group'] = results.group + \"_\" + results.run\n",
    "#trim subjects where we don't have data. this will be 20 because there's 20 subjects in the metadata but only 40 being processed.\n",
    "results = results.loc[pd.isnull(results.result_group)==False,]\n",
    "\n",
    "\n",
    "within_group_predictions = within_group_performance(\n",
    "    results,pearsonr_cor_func,'result_group',obs_col_name='y',pred_col_name='y_pred') \n",
    "r2_score_within_subj = math.pow(np.mean(within_group_predictions),2)\n",
    "print(\"Pearson's R^2 within subject and run:\")\n",
    "print(r2_score_within_subj)\n",
    "\n",
    "within_subj_predictions = within_group_performance(results,pearsonr_cor_func,'subject',obs_col_name='y',pred_col_name='y_pred') \n",
    "r2_score_within_subj_run = math.pow(np.mean(within_subj_predictions),2)\n",
    "print(\"Pearson's R^2 within subject only:\")\n",
    "print(r2_score_within_subj_run)\n",
    "\n",
    "\n",
    "\n",
    "print(\"Pearson's R^2 across subjects:\")\n",
    "print(math.pow(pearsonr(results['y'],results['y_pred'])[0],2))"
   ]
  },
  {
   "cell_type": "code",
   "execution_count": 51,
   "id": "severe-toner",
   "metadata": {},
   "outputs": [
    {
     "name": "stderr",
     "output_type": "stream",
     "text": [
      "/home/bsmith16/.conda/envs/neuralsignature/lib/python3.8/site-packages/seaborn/_decorators.py:36: FutureWarning: Pass the following variables as keyword args: x, y. From version 0.12, the only valid positional argument will be `data`, and passing other arguments without an explicit keyword will result in an error or misinterpretation.\n",
      "  warnings.warn(\n"
     ]
    },
    {
     "data": {
      "image/png": "[encoded data removed]",
      "text/plain": [
       "<Figure size 432x288 with 1 Axes>"
      ]
     },
     "metadata": {
      "needs_background": "light"
     },
     "output_type": "display_data"
    },
    {
     "data": {
      "text/html": [
       "<div>\n",
       "<style scoped>\n",
       "    .dataframe tbody tr th:only-of-type {\n",
       "        vertical-align: middle;\n",
       "    }\n",
       "\n",
       "    .dataframe tbody tr th {\n",
       "        vertical-align: top;\n",
       "    }\n",
       "\n",
       "    .dataframe thead th {\n",
       "        text-align: right;\n",
       "    }\n",
       "</style>\n",
       "<table border=\"1\" class=\"dataframe\">\n",
       "  <thead>\n",
       "    <tr style=\"text-align: right;\">\n",
       "      <th></th>\n",
       "      <th>y_pred</th>\n",
       "    </tr>\n",
       "    <tr>\n",
       "      <th>y</th>\n",
       "      <th></th>\n",
       "    </tr>\n",
       "  </thead>\n",
       "  <tbody>\n",
       "    <tr>\n",
       "      <th>-0.454545</th>\n",
       "      <td>0.260062</td>\n",
       "    </tr>\n",
       "    <tr>\n",
       "      <th>0.545455</th>\n",
       "      <td>-0.866231</td>\n",
       "    </tr>\n",
       "    <tr>\n",
       "      <th>1.545455</th>\n",
       "      <td>-0.607135</td>\n",
       "    </tr>\n",
       "  </tbody>\n",
       "</table>\n",
       "</div>"
      ],
      "text/plain": [
       "             y_pred\n",
       "y                  \n",
       "-0.454545  0.260062\n",
       " 0.545455 -0.866231\n",
       " 1.545455 -0.607135"
      ]
     },
     "metadata": {},
     "output_type": "display_data"
    },
    {
     "name": "stderr",
     "output_type": "stream",
     "text": [
      "/home/bsmith16/.conda/envs/neuralsignature/lib/python3.8/site-packages/seaborn/_decorators.py:36: FutureWarning: Pass the following variables as keyword args: x, y. From version 0.12, the only valid positional argument will be `data`, and passing other arguments without an explicit keyword will result in an error or misinterpretation.\n",
      "  warnings.warn(\n"
     ]
    },
    {
     "data": {
      "image/png": "[encoded data removed]",
      "text/plain": [
       "<Figure size 432x288 with 1 Axes>"
      ]
     },
     "metadata": {
      "needs_background": "light"
     },
     "output_type": "display_data"
    },
    {
     "data": {
      "text/html": [
       "<div>\n",
       "<style scoped>\n",
       "    .dataframe tbody tr th:only-of-type {\n",
       "        vertical-align: middle;\n",
       "    }\n",
       "\n",
       "    .dataframe tbody tr th {\n",
       "        vertical-align: top;\n",
       "    }\n",
       "\n",
       "    .dataframe thead th {\n",
       "        text-align: right;\n",
       "    }\n",
       "</style>\n",
       "<table border=\"1\" class=\"dataframe\">\n",
       "  <thead>\n",
       "    <tr style=\"text-align: right;\">\n",
       "      <th></th>\n",
       "      <th>y_pred</th>\n",
       "    </tr>\n",
       "    <tr>\n",
       "      <th>y</th>\n",
       "      <th></th>\n",
       "    </tr>\n",
       "  </thead>\n",
       "  <tbody>\n",
       "    <tr>\n",
       "      <th>-1.0625</th>\n",
       "      <td>0.446328</td>\n",
       "    </tr>\n",
       "    <tr>\n",
       "      <th>-0.0625</th>\n",
       "      <td>-0.721532</td>\n",
       "    </tr>\n",
       "    <tr>\n",
       "      <th>0.9375</th>\n",
       "      <td>-0.283022</td>\n",
       "    </tr>\n",
       "    <tr>\n",
       "      <th>1.9375</th>\n",
       "      <td>0.016899</td>\n",
       "    </tr>\n",
       "  </tbody>\n",
       "</table>\n",
       "</div>"
      ],
      "text/plain": [
       "           y_pred\n",
       "y                \n",
       "-1.0625  0.446328\n",
       "-0.0625 -0.721532\n",
       " 0.9375 -0.283022\n",
       " 1.9375  0.016899"
      ]
     },
     "metadata": {},
     "output_type": "display_data"
    },
    {
     "name": "stdout",
     "output_type": "stream",
     "text": [
      "Spearman's rho within subject and run:\n",
      "0.05724947769978359\n",
      "Spearman's rho within subject only:\n",
      "0.06519439649492535\n",
      "Spearman's rho across subjects:\n",
      "0.06334057103506147\n"
     ]
    }
   ],
   "source": [
    "within_group_predictions_sp = within_group_performance(\n",
    "    results,spearmanr_cor_func,'result_group',obs_col_name='y',pred_col_name='y_pred') \n",
    "rho_score_within_subj = np.mean(within_group_predictions_sp)\n",
    "print(\"Spearman's rho within subject and run:\")\n",
    "print(rho_score_within_subj)\n",
    "\n",
    "within_subj_predictions_sp = within_group_performance(results,spearmanr_cor_func,'subject',obs_col_name='y',pred_col_name='y_pred') \n",
    "rho_score_within_subj_run = np.mean(within_subj_predictions_sp)\n",
    "print(\"Spearman's rho within subject only:\")\n",
    "print(rho_score_within_subj_run)\n",
    "\n",
    "\n",
    "\n",
    "print(\"Spearman's rho across subjects:\")\n",
    "print(spearmanr(results['y'],results['y_pred'])[0])"
   ]
  },
  {
   "cell_type": "markdown",
   "id": "quick-breathing",
   "metadata": {},
   "source": [
    "### 4s"
   ]
  },
  {
   "cell_type": "code",
   "execution_count": 52,
   "id": "interstate-kentucky",
   "metadata": {},
   "outputs": [
    {
     "name": "stderr",
     "output_type": "stream",
     "text": [
      "/home/bsmith16/.conda/envs/neuralsignature/lib/python3.8/site-packages/seaborn/_decorators.py:36: FutureWarning: Pass the following variables as keyword args: x, y. From version 0.12, the only valid positional argument will be `data`, and passing other arguments without an explicit keyword will result in an error or misinterpretation.\n",
      "  warnings.warn(\n"
     ]
    },
    {
     "data": {
      "image/png": "[encoded data removed]",
      "text/plain": [
       "<Figure size 432x288 with 1 Axes>"
      ]
     },
     "metadata": {
      "needs_background": "light"
     },
     "output_type": "display_data"
    },
    {
     "data": {
      "text/html": [
       "<div>\n",
       "<style scoped>\n",
       "    .dataframe tbody tr th:only-of-type {\n",
       "        vertical-align: middle;\n",
       "    }\n",
       "\n",
       "    .dataframe tbody tr th {\n",
       "        vertical-align: top;\n",
       "    }\n",
       "\n",
       "    .dataframe thead th {\n",
       "        text-align: right;\n",
       "    }\n",
       "</style>\n",
       "<table border=\"1\" class=\"dataframe\">\n",
       "  <thead>\n",
       "    <tr style=\"text-align: right;\">\n",
       "      <th></th>\n",
       "      <th>y_pred</th>\n",
       "    </tr>\n",
       "    <tr>\n",
       "      <th>y</th>\n",
       "      <th></th>\n",
       "    </tr>\n",
       "  </thead>\n",
       "  <tbody>\n",
       "    <tr>\n",
       "      <th>-1.066667</th>\n",
       "      <td>0.196826</td>\n",
       "    </tr>\n",
       "    <tr>\n",
       "      <th>-0.066667</th>\n",
       "      <td>-0.000570</td>\n",
       "    </tr>\n",
       "    <tr>\n",
       "      <th>0.933333</th>\n",
       "      <td>0.155172</td>\n",
       "    </tr>\n",
       "    <tr>\n",
       "      <th>1.933333</th>\n",
       "      <td>-0.432159</td>\n",
       "    </tr>\n",
       "  </tbody>\n",
       "</table>\n",
       "</div>"
      ],
      "text/plain": [
       "             y_pred\n",
       "y                  \n",
       "-1.066667  0.196826\n",
       "-0.066667 -0.000570\n",
       " 0.933333  0.155172\n",
       " 1.933333 -0.432159"
      ]
     },
     "metadata": {},
     "output_type": "display_data"
    },
    {
     "name": "stdout",
     "output_type": "stream",
     "text": [
      "Pearson's R^2 within subject and run:\n",
      "0.047083100956367925\n",
      "Pearson's R^2 within subject only:\n",
      "0.04917184087123544\n",
      "Pearson's R^2 across subjects:\n",
      "0.04518776118862989\n"
     ]
    }
   ],
   "source": [
    "loocv_results = pickle.load(open(data_path + \"train_test_results_ns_2s_split_4_40subs.pkl\",'rb'))\n",
    "test_scores_same=loocv_results[0]\n",
    "tt_results=loocv_results[1]\n",
    "results_by_trainset_item=loocv_results[2]\n",
    "\n",
    "results = pd.concat([metadata,results_by_trainset_item],axis=1)\n",
    "results['result_group'] = results.group + \"_\" + results.run\n",
    "#trim subjects where we don't have data. this will be 20 because there's 20 subjects in the metadata but only 40 being processed.\n",
    "results = results.loc[pd.isnull(results.result_group)==False,]\n",
    "\n",
    "\n",
    "within_group_predictions = within_group_performance(\n",
    "    results,pearsonr_cor_func,'result_group',obs_col_name='y',pred_col_name='y_pred') \n",
    "r2_score_within_subj = math.pow(np.mean(within_group_predictions),2)\n",
    "print(\"Pearson's R^2 within subject and run:\")\n",
    "print(r2_score_within_subj)\n",
    "\n",
    "within_subj_predictions = within_group_performance(results,pearsonr_cor_func,'subject',obs_col_name='y',pred_col_name='y_pred') \n",
    "r2_score_within_subj_run = math.pow(np.mean(within_subj_predictions),2)\n",
    "print(\"Pearson's R^2 within subject only:\")\n",
    "print(r2_score_within_subj_run)\n",
    "\n",
    "\n",
    "\n",
    "print(\"Pearson's R^2 across subjects:\")\n",
    "print(math.pow(pearsonr(results['y'],results['y_pred'])[0],2))"
   ]
  },
  {
   "cell_type": "code",
   "execution_count": 53,
   "id": "nearby-oxide",
   "metadata": {},
   "outputs": [
    {
     "name": "stderr",
     "output_type": "stream",
     "text": [
      "/home/bsmith16/.conda/envs/neuralsignature/lib/python3.8/site-packages/seaborn/_decorators.py:36: FutureWarning: Pass the following variables as keyword args: x, y. From version 0.12, the only valid positional argument will be `data`, and passing other arguments without an explicit keyword will result in an error or misinterpretation.\n",
      "  warnings.warn(\n"
     ]
    },
    {
     "data": {
      "image/png": "[encoded data removed]",
      "text/plain": [
       "<Figure size 432x288 with 1 Axes>"
      ]
     },
     "metadata": {
      "needs_background": "light"
     },
     "output_type": "display_data"
    },
    {
     "data": {
      "text/html": [
       "<div>\n",
       "<style scoped>\n",
       "    .dataframe tbody tr th:only-of-type {\n",
       "        vertical-align: middle;\n",
       "    }\n",
       "\n",
       "    .dataframe tbody tr th {\n",
       "        vertical-align: top;\n",
       "    }\n",
       "\n",
       "    .dataframe thead th {\n",
       "        text-align: right;\n",
       "    }\n",
       "</style>\n",
       "<table border=\"1\" class=\"dataframe\">\n",
       "  <thead>\n",
       "    <tr style=\"text-align: right;\">\n",
       "      <th></th>\n",
       "      <th>y_pred</th>\n",
       "    </tr>\n",
       "    <tr>\n",
       "      <th>y</th>\n",
       "      <th></th>\n",
       "    </tr>\n",
       "  </thead>\n",
       "  <tbody>\n",
       "    <tr>\n",
       "      <th>-1.066667</th>\n",
       "      <td>0.196826</td>\n",
       "    </tr>\n",
       "    <tr>\n",
       "      <th>-0.066667</th>\n",
       "      <td>-0.000570</td>\n",
       "    </tr>\n",
       "    <tr>\n",
       "      <th>0.933333</th>\n",
       "      <td>0.155172</td>\n",
       "    </tr>\n",
       "    <tr>\n",
       "      <th>1.933333</th>\n",
       "      <td>-0.432159</td>\n",
       "    </tr>\n",
       "  </tbody>\n",
       "</table>\n",
       "</div>"
      ],
      "text/plain": [
       "             y_pred\n",
       "y                  \n",
       "-1.066667  0.196826\n",
       "-0.066667 -0.000570\n",
       " 0.933333  0.155172\n",
       " 1.933333 -0.432159"
      ]
     },
     "metadata": {},
     "output_type": "display_data"
    },
    {
     "name": "stdout",
     "output_type": "stream",
     "text": [
      "Spearman's rho within subject and run:\n",
      "0.2169864073078494\n",
      "Spearman's rho within subject only:\n",
      "0.2217472454648207\n",
      "Spearman's rho across subjects:\n",
      "0.20238953083730976\n"
     ]
    }
   ],
   "source": [
    "within_group_predictions_sp = within_group_performance(\n",
    "    results,spearmanr_cor_func,'result_group',obs_col_name='y',pred_col_name='y_pred') \n",
    "rho_score_within_subj = np.mean(within_group_predictions_sp)\n",
    "print(\"Spearman's rho within subject and run:\")\n",
    "print(rho_score_within_subj)\n",
    "\n",
    "within_subj_predictions_sp = within_group_performance(results,spearmanr_cor_func,'subject',obs_col_name='y',pred_col_name='y_pred') \n",
    "rho_score_within_subj_run = np.mean(within_subj_predictions_sp)\n",
    "print(\"Spearman's rho within subject only:\")\n",
    "print(rho_score_within_subj_run)\n",
    "\n",
    "\n",
    "\n",
    "print(\"Spearman's rho across subjects:\")\n",
    "print(spearmanr(results['y'],results['y_pred'])[0])"
   ]
  },
  {
   "cell_type": "code",
   "execution_count": null,
   "id": "infinite-drove",
   "metadata": {},
   "outputs": [],
   "source": []
  }
 ],
 "metadata": {
  "kernelspec": {
   "display_name": "Python 3 (ipykernel)",
   "language": "python",
   "name": "python3"
  },
  "language_info": {
   "codemirror_mode": {
    "name": "ipython",
    "version": 3
   },
   "file_extension": ".py",
   "mimetype": "text/x-python",
   "name": "python",
   "nbconvert_exporter": "python",
   "pygments_lexer": "ipython3",
   "version": "3.9.12"
  }
 },
 "nbformat": 4,
 "nbformat_minor": 5
}
