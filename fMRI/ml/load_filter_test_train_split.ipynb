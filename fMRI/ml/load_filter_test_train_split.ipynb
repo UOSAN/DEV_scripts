{
 "cells": [
  {
   "cell_type": "code",
   "execution_count": 1,
   "id": "listed-finish",
   "metadata": {},
   "outputs": [
    {
     "name": "stderr",
     "output_type": "stream",
     "text": [
      "/home/bsmith16/.conda/envs/neuralsignature/lib/python3.8/site-packages/nilearn/datasets/__init__.py:87: FutureWarning: Fetchers from the nilearn.datasets module will be updated in version 0.9 to return python strings instead of bytes and Pandas dataframes instead of Numpy arrays.\n",
      "  warn(\"Fetchers from the nilearn.datasets module will be \"\n"
     ]
    }
   ],
   "source": [
    "import pandas as pd\n",
    "import numpy as np\n",
    "import os\n",
    "import nltools as nlt\n",
    "import nilearn as nil\n",
    "import nibabel as nib\n",
    "import warnings\n",
    "import glob\n",
    "import random\n",
    "import pickle\n",
    "from operator import itemgetter\n",
    "import datetime"
   ]
  },
  {
   "cell_type": "markdown",
   "id": "streaming-intent",
   "metadata": {},
   "source": [
    "This file loads the behavioral data from the output file, matches it to the list of betas we have, and then splits it into train and test groups.\n",
    "\n",
    "As long as input data doesn't change it shouldn't change which subjects are allocated to each group each time.\n",
    "\n",
    "If input data does change, then you can use the previous output of this file to manually hardcode which groups already-classified subjects should be in using `already_peaked_paths` files: see below."
   ]
  },
  {
   "cell_type": "code",
   "execution_count": 2,
   "id": "peaceful-sense",
   "metadata": {},
   "outputs": [
    {
     "name": "stdout",
     "output_type": "stream",
     "text": [
      "subject 040, subject 039, subject 168, subject 063, subject 129, subject 067, subject 150, subject 159, \n",
      "SUBJ 159, 2, run14\n",
      "no data for this run.\n",
      "subject 004, subject 091, subject 180, subject 008, subject 095, subject 099, subject 032, \n",
      "SUBJ 032, 2, run2\n",
      "no data for this run.\n",
      "subject 036, subject 171, subject 100, \n",
      "SUBJ 100, 3, run2\n",
      "no data for this run.\n",
      "subject 109, subject 041, subject 060, subject 059, subject 130, subject 064, subject 068, subject 001, subject 087, subject 192, subject 005, subject 121, subject 999, \n",
      "SUBJ 999, 2, run1\n",
      "no data for this run.\n",
      "\n",
      "\n",
      "SUBJ 999, 2, run2\n",
      "Data for this run is not in the expected format or is missing. Skipping this run.\n",
      "time: 29-Oct-2020 17:09:09\n",
      "\n",
      "StartTime: 3035.874545661\n",
      "\n",
      "Jitter: array of length 16\n",
      "\n",
      "TrialStart: array of length 2\n",
      "\n",
      "ISI: array of length 2\n",
      "\n",
      "FoodOn: array of length 2\n",
      "\n",
      "BidOn: array of length 2\n",
      "\n",
      "FoodOnset: array of length 2\n",
      "\n",
      "BidOnset: array of length 2\n",
      "\n",
      "FoodDuration: array of length 2\n",
      "\n",
      "BidDuration: array of length 2\n",
      "\n",
      "FoodPic: array of length 2\n",
      "\n",
      "FoodNum: array of length 2\n",
      "\n",
      "Cond: array of length 2\n",
      "\n",
      "HealthCond: array of length 2\n",
      "\n",
      "LikingCond: array of length 2\n",
      "\n",
      "LikingRating: array of length 2\n",
      "\n",
      "Resp: array of length 2\n",
      "\n",
      "RT: array of length 2\n",
      "\n",
      "subject 010, subject 151, subject 096, subject 028, subject 153, subject 033, subject 183, subject 112, subject 037, subject 056, subject 994, subject 142, subject 061, subject 172, \n",
      "SUBJ 172, 1, run172\n",
      "no data for this run.\n",
      "\n",
      "\n",
      "SUBJ 172, 1, run2\n",
      "Data for this run is not in the expected format or is missing. Skipping this run.\n",
      "time: 12-Mar-2020 14:48:05\n",
      "\n",
      "StartTime: 168508.67269277\n",
      "\n",
      "Jitter: array of length 16\n",
      "\n",
      "TrialStart: 168508.740422762\n",
      "\n",
      "ISI: 6\n",
      "\n",
      "FoodOn: 168514.747711751\n",
      "\n",
      "BidOn: 168518.757813166\n",
      "\n",
      "FoodOnset: 6.0750189810059965\n",
      "\n",
      "BidOnset: 10.085120396019192\n",
      "\n",
      "FoodDuration: 4.010101415013196\n",
      "\n",
      "BidDuration: 98.6482863809797\n",
      "\n",
      "FoodPic: SourPunch.bmp\n",
      "\n",
      "FoodNum: 1\n",
      "\n",
      "Cond: unhealthy_liked\n",
      "\n",
      "HealthCond: unhealthy\n",
      "\n",
      "LikingCond: liked\n",
      "\n",
      "LikingRating: 2\n",
      "\n",
      "Resp: NULL\n",
      "\n",
      "RT: NaN\n",
      "\n",
      "subject 101, subject 065, subject 174, subject 103, subject 002, subject 088, subject 133, subject 006, subject 093, subject 025, subject 163, subject 030, subject 029, subject 195, subject 034, subject 124, subject 154, subject 057, subject 062, subject 113, subject 186, subject 115, subject 085, subject 145, subject 090, subject 089, subject 104, subject 026, subject 177, subject 106, subject 031, subject 054, subject 166, subject 058, subject 125, \n",
      "\n",
      "SUBJ 125, 1, run2\n",
      "Data for this run is not in the expected format or is missing. Skipping this run.\n",
      "time: 20-Jul-2019 10:34:18\n",
      "\n",
      "StartTime: 702.10789738\n",
      "\n",
      "Jitter: array of length 16\n",
      "\n",
      "TrialStart: array of length 15\n",
      "\n",
      "ISI: array of length 15\n",
      "\n",
      "FoodOn: array of length 15\n",
      "\n",
      "BidOn: array of length 15\n",
      "\n",
      "FoodOnset: array of length 15\n",
      "\n",
      "BidOnset: array of length 15\n",
      "\n",
      "FoodDuration: array of length 15\n",
      "\n",
      "BidDuration: array of length 15\n",
      "\n",
      "FoodPic: array of length 15\n",
      "\n",
      "FoodNum: array of length 15\n",
      "\n",
      "Cond: array of length 15\n",
      "\n",
      "HealthCond: array of length 15\n",
      "\n",
      "LikingCond: array of length 15\n",
      "\n",
      "LikingRating: array of length 15\n",
      "\n",
      "Resp: array of length 15\n",
      "\n",
      "RT: array of length 15\n",
      "\n",
      "subject 198, subject 127, subject 082, \n",
      "SUBJ 082, 1, run4\n",
      "no data for this run.\n",
      "subject 998, subject 000, subject 157, subject 086, subject 187, subject 023, subject 116, subject 189, subject 118, subject 027, subject 051, subject 206, subject 178, subject 055, subject 107, subject 078, subject 139, subject 083, subject 169, subject 190, subject 020, subject 019, subject 128, subject 024, \n",
      "SUBJ 024, 1, run12\n",
      "no data for this run.\n",
      "subject 047, subject 181, subject 110, subject 052, subject 119, subject 140, subject 075, \n",
      "SUBJ 075, 2, run0\n",
      "no data for this run.\n",
      "subject 170, subject 080, subject 079, subject 084, subject 016, subject 021, subject 161, subject 044, subject 191, subject 120, subject 193, subject 048, subject 122, subject 053, \n",
      "SUBJ 053, 2, run45\n",
      "no data for this run.\n",
      "subject 152, subject 072, \n",
      "SUBJ 072, 1, run1\n",
      "no data for this run.\n",
      "\n",
      "SUBJ 072, 3, run2\n",
      "no data for this run.\n",
      "subject 182, subject 076, subject 111, subject 081, subject 013, subject 141, subject 143, subject 017, subject 173, subject 022, subject 102, subject 045, subject 132, subject 134, subject 050, subject 049, subject 164, subject 073, subject 194, subject 123, subject 196, subject 077, subject 009, subject 014, subject 155, subject 018, subject 185, subject 114, subject 042, subject 144, subject 046, subject 176, subject 070, subject 069, subject 105, subject 074, subject 135, subject 137, subject 011, subject 097, subject 167, subject 015, subject 197, subject 126, subject 038, \n",
      "SUBJ 038, 4, run1\n",
      "no data for this run.\n",
      "subject 156, subject 043, subject 158, subject 066, subject 117, subject 071, subject 147, \n",
      "SUBJ 147, 3, run3\n",
      "no data for this run.\n",
      "subject 007, subject 149, subject 094, subject 012, subject 179, subject 098, subject 108, subject 035, subject 138, "
     ]
    }
   ],
   "source": [
    "#load behavioral data\n",
    "\n",
    "import dev_wtp_io_utils\n",
    "behavioral_data_path = '/gpfs/projects/sanlab/shared/DEV/nonbids_data/Tasks/WTP/output/'\n",
    "[run_list, run_event_df_list, run_event_stage_df_list] = dev_wtp_io_utils.get_comprehensive_run_data_from_mat_dir(behavioral_data_path)\n",
    "\n"
   ]
  },
  {
   "cell_type": "code",
   "execution_count": 3,
   "id": "bulgarian-better",
   "metadata": {},
   "outputs": [],
   "source": [
    "#load design data from the official list of task design.\n",
    "#this is NOT per subject.\n",
    "betas = pd.read_csv(\"../data/DEV QC and Exclusions - betas_machine_readable.csv\")\n",
    "wtp_betas = betas[betas.task=='WTP betas']\n",
    "#get the betas just for the four runs\n",
    "wtp_betas_runfiles = wtp_betas[[bt in ['run1','run2','run3','run4'] for bt in wtp_betas.type]].copy()\n",
    "#number them\n",
    "wtp_betas_runfiles['event_id'] = wtp_betas_runfiles.groupby('type').cumcount()+1"
   ]
  },
  {
   "cell_type": "code",
   "execution_count": 4,
   "id": "damaged-profile",
   "metadata": {},
   "outputs": [
    {
     "data": {
      "text/html": [
       "<div>\n",
       "<style scoped>\n",
       "    .dataframe tbody tr th:only-of-type {\n",
       "        vertical-align: middle;\n",
       "    }\n",
       "\n",
       "    .dataframe tbody tr th {\n",
       "        vertical-align: top;\n",
       "    }\n",
       "\n",
       "    .dataframe thead th {\n",
       "        text-align: right;\n",
       "    }\n",
       "</style>\n",
       "<table border=\"1\" class=\"dataframe\">\n",
       "  <thead>\n",
       "    <tr style=\"text-align: right;\">\n",
       "      <th></th>\n",
       "      <th>beta</th>\n",
       "      <th>type</th>\n",
       "      <th>task</th>\n",
       "      <th>event_id</th>\n",
       "      <th>isi_pre</th>\n",
       "      <th>onset</th>\n",
       "      <th>duration</th>\n",
       "      <th>food_pic</th>\n",
       "      <th>food_num</th>\n",
       "      <th>cond</th>\n",
       "      <th>health_cond</th>\n",
       "      <th>liking_cond</th>\n",
       "      <th>liking_rating</th>\n",
       "      <th>response</th>\n",
       "      <th>isi_post</th>\n",
       "      <th>end</th>\n",
       "      <th>run</th>\n",
       "      <th>wave</th>\n",
       "      <th>subject</th>\n",
       "    </tr>\n",
       "  </thead>\n",
       "  <tbody>\n",
       "    <tr>\n",
       "      <th>1107</th>\n",
       "      <td>beta_0002.nii</td>\n",
       "      <td>run1</td>\n",
       "      <td>WTP betas</td>\n",
       "      <td>2</td>\n",
       "      <td>3.000000</td>\n",
       "      <td>18.646307</td>\n",
       "      <td>6.520440</td>\n",
       "      <td>Pistachios.bmp</td>\n",
       "      <td>2</td>\n",
       "      <td>healthy_liked</td>\n",
       "      <td>healthy</td>\n",
       "      <td>liked</td>\n",
       "      <td>4</td>\n",
       "      <td>6</td>\n",
       "      <td>1.780283</td>\n",
       "      <td>25.166746</td>\n",
       "      <td>run1</td>\n",
       "      <td>1</td>\n",
       "      <td>DEV022</td>\n",
       "    </tr>\n",
       "    <tr>\n",
       "      <th>9761</th>\n",
       "      <td>beta_0016.nii</td>\n",
       "      <td>run1</td>\n",
       "      <td>WTP betas</td>\n",
       "      <td>16</td>\n",
       "      <td>1.421652</td>\n",
       "      <td>168.756718</td>\n",
       "      <td>6.516436</td>\n",
       "      <td>lunchables_turkey.bmp</td>\n",
       "      <td>16</td>\n",
       "      <td>unhealthy_liked</td>\n",
       "      <td>unhealthy</td>\n",
       "      <td>liked</td>\n",
       "      <td>4</td>\n",
       "      <td>8</td>\n",
       "      <td>NaN</td>\n",
       "      <td>175.273155</td>\n",
       "      <td>run1</td>\n",
       "      <td>1</td>\n",
       "      <td>DEV060</td>\n",
       "    </tr>\n",
       "    <tr>\n",
       "      <th>21577</th>\n",
       "      <td>beta_0046.nii</td>\n",
       "      <td>run3</td>\n",
       "      <td>WTP betas</td>\n",
       "      <td>4</td>\n",
       "      <td>0.095117</td>\n",
       "      <td>39.681025</td>\n",
       "      <td>6.528325</td>\n",
       "      <td>CoolRanchDoritos.bmp</td>\n",
       "      <td>4</td>\n",
       "      <td>unhealthy_disliked</td>\n",
       "      <td>unhealthy</td>\n",
       "      <td>disliked</td>\n",
       "      <td>2</td>\n",
       "      <td>NULL</td>\n",
       "      <td>2.680966</td>\n",
       "      <td>46.209350</td>\n",
       "      <td>run3</td>\n",
       "      <td>1</td>\n",
       "      <td>DEV032</td>\n",
       "    </tr>\n",
       "    <tr>\n",
       "      <th>23320</th>\n",
       "      <td>beta_0051.nii</td>\n",
       "      <td>run3</td>\n",
       "      <td>WTP betas</td>\n",
       "      <td>9</td>\n",
       "      <td>1.584060</td>\n",
       "      <td>96.124035</td>\n",
       "      <td>6.525667</td>\n",
       "      <td>Strawberries.bmp</td>\n",
       "      <td>9</td>\n",
       "      <td>healthy_liked</td>\n",
       "      <td>healthy</td>\n",
       "      <td>liked</td>\n",
       "      <td>4</td>\n",
       "      <td>7</td>\n",
       "      <td>0.800571</td>\n",
       "      <td>102.649703</td>\n",
       "      <td>run3</td>\n",
       "      <td>1</td>\n",
       "      <td>DEV153</td>\n",
       "    </tr>\n",
       "    <tr>\n",
       "      <th>28543</th>\n",
       "      <td>beta_0071.nii</td>\n",
       "      <td>run4</td>\n",
       "      <td>WTP betas</td>\n",
       "      <td>8</td>\n",
       "      <td>2.083661</td>\n",
       "      <td>84.866294</td>\n",
       "      <td>6.520734</td>\n",
       "      <td>laffytaffyred_one.bmp</td>\n",
       "      <td>8</td>\n",
       "      <td>unhealthy_disliked</td>\n",
       "      <td>unhealthy</td>\n",
       "      <td>disliked</td>\n",
       "      <td>1</td>\n",
       "      <td>5</td>\n",
       "      <td>1.584060</td>\n",
       "      <td>91.387028</td>\n",
       "      <td>run4</td>\n",
       "      <td>1</td>\n",
       "      <td>DEV024</td>\n",
       "    </tr>\n",
       "  </tbody>\n",
       "</table>\n",
       "</div>"
      ],
      "text/plain": [
       "                beta  type       task  event_id   isi_pre       onset  \\\n",
       "1107   beta_0002.nii  run1  WTP betas         2  3.000000   18.646307   \n",
       "9761   beta_0016.nii  run1  WTP betas        16  1.421652  168.756718   \n",
       "21577  beta_0046.nii  run3  WTP betas         4  0.095117   39.681025   \n",
       "23320  beta_0051.nii  run3  WTP betas         9  1.584060   96.124035   \n",
       "28543  beta_0071.nii  run4  WTP betas         8  2.083661   84.866294   \n",
       "\n",
       "       duration               food_pic  food_num                cond  \\\n",
       "1107   6.520440         Pistachios.bmp         2       healthy_liked   \n",
       "9761   6.516436  lunchables_turkey.bmp        16     unhealthy_liked   \n",
       "21577  6.528325   CoolRanchDoritos.bmp         4  unhealthy_disliked   \n",
       "23320  6.525667       Strawberries.bmp         9       healthy_liked   \n",
       "28543  6.520734  laffytaffyred_one.bmp         8  unhealthy_disliked   \n",
       "\n",
       "      health_cond liking_cond  liking_rating response  isi_post         end  \\\n",
       "1107      healthy       liked              4        6  1.780283   25.166746   \n",
       "9761    unhealthy       liked              4        8       NaN  175.273155   \n",
       "21577   unhealthy    disliked              2     NULL  2.680966   46.209350   \n",
       "23320     healthy       liked              4        7  0.800571  102.649703   \n",
       "28543   unhealthy    disliked              1        5  1.584060   91.387028   \n",
       "\n",
       "        run  wave subject  \n",
       "1107   run1     1  DEV022  \n",
       "9761   run1     1  DEV060  \n",
       "21577  run3     1  DEV032  \n",
       "23320  run3     1  DEV153  \n",
       "28543  run4     1  DEV024  "
      ]
     },
     "execution_count": 4,
     "metadata": {},
     "output_type": "execute_result"
    }
   ],
   "source": [
    "wtpw1_behavdesign = wtp_betas_runfiles.merge(run_event_df_list, how='left',\n",
    "                         left_on=['type','event_id'],\n",
    "                        right_on=['run','event_id'])\n",
    "\n",
    "wtpw1_behavdesign = wtpw1_behavdesign[(wtpw1_behavdesign.wave==1)]\n",
    "\n",
    "wtpw1_behavdesign.sample(5)\n"
   ]
  },
  {
   "cell_type": "code",
   "execution_count": 5,
   "id": "cardiovascular-oracle",
   "metadata": {},
   "outputs": [],
   "source": [
    "#iterate through subject directories.\n",
    "\n",
    "subject_dirs_all = glob.glob('/gpfs/projects/sanlab/shared/DEV/nonbids_data/fMRI/fx/models/WTP/wave1/betaseries/sub-DEV*')\n",
    "subject_dirs_all.sort()"
   ]
  },
  {
   "cell_type": "code",
   "execution_count": 6,
   "id": "adjusted-enhancement",
   "metadata": {},
   "outputs": [],
   "source": [
    "#make some labels based on this list\n",
    "import re\n",
    "sub_labels_all = [(re.search(\"DEV(\\\\d\\\\d\\\\d)\",sid)[0]) for sid in subject_dirs_all]\n",
    "sub_ids_all = [(int)(re.search(\"DEV(\\\\d\\\\d\\\\d)\",sid)[1]) for sid in subject_dirs_all]"
   ]
  },
  {
   "cell_type": "markdown",
   "id": "celtic-edmonton",
   "metadata": {},
   "source": [
    "## Deal with incomplete data"
   ]
  },
  {
   "cell_type": "markdown",
   "id": "informed-malawi",
   "metadata": {},
   "source": [
    "1. Events listed in betas that do not have a betas file"
   ]
  },
  {
   "cell_type": "markdown",
   "id": "capable-vocabulary",
   "metadata": {},
   "source": [
    "2. Subjects listed in subject_dirs that don't have corresponding beta data"
   ]
  },
  {
   "cell_type": "code",
   "execution_count": 7,
   "id": "artificial-lebanon",
   "metadata": {},
   "outputs": [
    {
     "data": {
      "text/html": [
       "<div>\n",
       "<style scoped>\n",
       "    .dataframe tbody tr th:only-of-type {\n",
       "        vertical-align: middle;\n",
       "    }\n",
       "\n",
       "    .dataframe tbody tr th {\n",
       "        vertical-align: top;\n",
       "    }\n",
       "\n",
       "    .dataframe thead th {\n",
       "        text-align: right;\n",
       "    }\n",
       "</style>\n",
       "<table border=\"1\" class=\"dataframe\">\n",
       "  <thead>\n",
       "    <tr style=\"text-align: right;\">\n",
       "      <th></th>\n",
       "      <th>beta</th>\n",
       "      <th>type</th>\n",
       "      <th>task</th>\n",
       "      <th>event_id</th>\n",
       "      <th>isi_pre</th>\n",
       "      <th>onset</th>\n",
       "      <th>duration</th>\n",
       "      <th>food_pic</th>\n",
       "      <th>food_num</th>\n",
       "      <th>cond</th>\n",
       "      <th>health_cond</th>\n",
       "      <th>liking_cond</th>\n",
       "      <th>liking_rating</th>\n",
       "      <th>response</th>\n",
       "      <th>isi_post</th>\n",
       "      <th>end</th>\n",
       "      <th>run</th>\n",
       "      <th>wave</th>\n",
       "      <th>subject</th>\n",
       "    </tr>\n",
       "  </thead>\n",
       "  <tbody>\n",
       "    <tr>\n",
       "      <th>3</th>\n",
       "      <td>beta_0001.nii</td>\n",
       "      <td>run1</td>\n",
       "      <td>WTP betas</td>\n",
       "      <td>1</td>\n",
       "      <td>3.000000</td>\n",
       "      <td>6.080660</td>\n",
       "      <td>6.564707</td>\n",
       "      <td>SourPunch.bmp</td>\n",
       "      <td>1</td>\n",
       "      <td>unhealthy_liked</td>\n",
       "      <td>unhealthy</td>\n",
       "      <td>liked</td>\n",
       "      <td>4</td>\n",
       "      <td>NULL</td>\n",
       "      <td>3.0</td>\n",
       "      <td>12.645367</td>\n",
       "      <td>run1</td>\n",
       "      <td>1</td>\n",
       "      <td>DEV040</td>\n",
       "    </tr>\n",
       "    <tr>\n",
       "      <th>6</th>\n",
       "      <td>beta_0001.nii</td>\n",
       "      <td>run1</td>\n",
       "      <td>WTP betas</td>\n",
       "      <td>1</td>\n",
       "      <td>3.000000</td>\n",
       "      <td>6.068091</td>\n",
       "      <td>6.548297</td>\n",
       "      <td>M&amp;Ms.bmp</td>\n",
       "      <td>1</td>\n",
       "      <td>unhealthy_liked</td>\n",
       "      <td>unhealthy</td>\n",
       "      <td>liked</td>\n",
       "      <td>4</td>\n",
       "      <td>6</td>\n",
       "      <td>3.0</td>\n",
       "      <td>12.616389</td>\n",
       "      <td>run1</td>\n",
       "      <td>1</td>\n",
       "      <td>DEV039</td>\n",
       "    </tr>\n",
       "    <tr>\n",
       "      <th>9</th>\n",
       "      <td>beta_0001.nii</td>\n",
       "      <td>run1</td>\n",
       "      <td>WTP betas</td>\n",
       "      <td>1</td>\n",
       "      <td>3.000000</td>\n",
       "      <td>6.076286</td>\n",
       "      <td>6.548571</td>\n",
       "      <td>MacNCheese.bmp</td>\n",
       "      <td>1</td>\n",
       "      <td>unhealthy_liked</td>\n",
       "      <td>unhealthy</td>\n",
       "      <td>liked</td>\n",
       "      <td>3</td>\n",
       "      <td>8</td>\n",
       "      <td>3.0</td>\n",
       "      <td>12.624857</td>\n",
       "      <td>run1</td>\n",
       "      <td>1</td>\n",
       "      <td>DEV168</td>\n",
       "    </tr>\n",
       "    <tr>\n",
       "      <th>13</th>\n",
       "      <td>beta_0001.nii</td>\n",
       "      <td>run1</td>\n",
       "      <td>WTP betas</td>\n",
       "      <td>1</td>\n",
       "      <td>3.000000</td>\n",
       "      <td>6.085906</td>\n",
       "      <td>6.553895</td>\n",
       "      <td>FamousAmos.bmp</td>\n",
       "      <td>1</td>\n",
       "      <td>unhealthy_liked</td>\n",
       "      <td>unhealthy</td>\n",
       "      <td>liked</td>\n",
       "      <td>2</td>\n",
       "      <td>6</td>\n",
       "      <td>3.0</td>\n",
       "      <td>12.639801</td>\n",
       "      <td>run1</td>\n",
       "      <td>1</td>\n",
       "      <td>DEV063</td>\n",
       "    </tr>\n",
       "    <tr>\n",
       "      <th>16</th>\n",
       "      <td>beta_0001.nii</td>\n",
       "      <td>run1</td>\n",
       "      <td>WTP betas</td>\n",
       "      <td>1</td>\n",
       "      <td>3.000000</td>\n",
       "      <td>6.068752</td>\n",
       "      <td>6.549177</td>\n",
       "      <td>PeanutButterCup.bmp</td>\n",
       "      <td>1</td>\n",
       "      <td>unhealthy_liked</td>\n",
       "      <td>unhealthy</td>\n",
       "      <td>liked</td>\n",
       "      <td>4</td>\n",
       "      <td>NULL</td>\n",
       "      <td>3.0</td>\n",
       "      <td>12.617930</td>\n",
       "      <td>run1</td>\n",
       "      <td>1</td>\n",
       "      <td>DEV129</td>\n",
       "    </tr>\n",
       "    <tr>\n",
       "      <th>...</th>\n",
       "      <td>...</td>\n",
       "      <td>...</td>\n",
       "      <td>...</td>\n",
       "      <td>...</td>\n",
       "      <td>...</td>\n",
       "      <td>...</td>\n",
       "      <td>...</td>\n",
       "      <td>...</td>\n",
       "      <td>...</td>\n",
       "      <td>...</td>\n",
       "      <td>...</td>\n",
       "      <td>...</td>\n",
       "      <td>...</td>\n",
       "      <td>...</td>\n",
       "      <td>...</td>\n",
       "      <td>...</td>\n",
       "      <td>...</td>\n",
       "      <td>...</td>\n",
       "      <td>...</td>\n",
       "    </tr>\n",
       "    <tr>\n",
       "      <th>31399</th>\n",
       "      <td>beta_0079.nii</td>\n",
       "      <td>run4</td>\n",
       "      <td>WTP betas</td>\n",
       "      <td>16</td>\n",
       "      <td>1.421652</td>\n",
       "      <td>168.783176</td>\n",
       "      <td>6.532094</td>\n",
       "      <td>lunchables_turkey.bmp</td>\n",
       "      <td>16</td>\n",
       "      <td>unhealthy_liked</td>\n",
       "      <td>unhealthy</td>\n",
       "      <td>liked</td>\n",
       "      <td>1</td>\n",
       "      <td>NULL</td>\n",
       "      <td>NaN</td>\n",
       "      <td>175.315270</td>\n",
       "      <td>run4</td>\n",
       "      <td>1</td>\n",
       "      <td>DEV179</td>\n",
       "    </tr>\n",
       "    <tr>\n",
       "      <th>31400</th>\n",
       "      <td>beta_0079.nii</td>\n",
       "      <td>run4</td>\n",
       "      <td>WTP betas</td>\n",
       "      <td>16</td>\n",
       "      <td>1.421652</td>\n",
       "      <td>168.726133</td>\n",
       "      <td>6.532007</td>\n",
       "      <td>FamousAmos.bmp</td>\n",
       "      <td>16</td>\n",
       "      <td>unhealthy_liked</td>\n",
       "      <td>unhealthy</td>\n",
       "      <td>liked</td>\n",
       "      <td>3</td>\n",
       "      <td>6</td>\n",
       "      <td>NaN</td>\n",
       "      <td>175.258140</td>\n",
       "      <td>run4</td>\n",
       "      <td>1</td>\n",
       "      <td>DEV098</td>\n",
       "    </tr>\n",
       "    <tr>\n",
       "      <th>31403</th>\n",
       "      <td>beta_0079.nii</td>\n",
       "      <td>run4</td>\n",
       "      <td>WTP betas</td>\n",
       "      <td>16</td>\n",
       "      <td>1.421652</td>\n",
       "      <td>168.782857</td>\n",
       "      <td>6.533177</td>\n",
       "      <td>SourCreamChips.bmp</td>\n",
       "      <td>16</td>\n",
       "      <td>unhealthy_liked</td>\n",
       "      <td>unhealthy</td>\n",
       "      <td>liked</td>\n",
       "      <td>4</td>\n",
       "      <td>7</td>\n",
       "      <td>NaN</td>\n",
       "      <td>175.316034</td>\n",
       "      <td>run4</td>\n",
       "      <td>1</td>\n",
       "      <td>DEV108</td>\n",
       "    </tr>\n",
       "    <tr>\n",
       "      <th>31404</th>\n",
       "      <td>beta_0079.nii</td>\n",
       "      <td>run4</td>\n",
       "      <td>WTP betas</td>\n",
       "      <td>16</td>\n",
       "      <td>1.421652</td>\n",
       "      <td>168.644515</td>\n",
       "      <td>6.516474</td>\n",
       "      <td>Poptart1.bmp</td>\n",
       "      <td>16</td>\n",
       "      <td>unhealthy_liked</td>\n",
       "      <td>unhealthy</td>\n",
       "      <td>liked</td>\n",
       "      <td>2</td>\n",
       "      <td>5</td>\n",
       "      <td>NaN</td>\n",
       "      <td>175.160989</td>\n",
       "      <td>run4</td>\n",
       "      <td>1</td>\n",
       "      <td>DEV035</td>\n",
       "    </tr>\n",
       "    <tr>\n",
       "      <th>31406</th>\n",
       "      <td>beta_0079.nii</td>\n",
       "      <td>run4</td>\n",
       "      <td>WTP betas</td>\n",
       "      <td>16</td>\n",
       "      <td>1.421652</td>\n",
       "      <td>168.785056</td>\n",
       "      <td>6.533191</td>\n",
       "      <td>PeanutButterCup.bmp</td>\n",
       "      <td>16</td>\n",
       "      <td>unhealthy_liked</td>\n",
       "      <td>unhealthy</td>\n",
       "      <td>liked</td>\n",
       "      <td>4</td>\n",
       "      <td>8</td>\n",
       "      <td>NaN</td>\n",
       "      <td>175.318246</td>\n",
       "      <td>run4</td>\n",
       "      <td>1</td>\n",
       "      <td>DEV138</td>\n",
       "    </tr>\n",
       "  </tbody>\n",
       "</table>\n",
       "<p>11824 rows × 19 columns</p>\n",
       "</div>"
      ],
      "text/plain": [
       "                beta  type       task  event_id   isi_pre       onset  \\\n",
       "3      beta_0001.nii  run1  WTP betas         1  3.000000    6.080660   \n",
       "6      beta_0001.nii  run1  WTP betas         1  3.000000    6.068091   \n",
       "9      beta_0001.nii  run1  WTP betas         1  3.000000    6.076286   \n",
       "13     beta_0001.nii  run1  WTP betas         1  3.000000    6.085906   \n",
       "16     beta_0001.nii  run1  WTP betas         1  3.000000    6.068752   \n",
       "...              ...   ...        ...       ...       ...         ...   \n",
       "31399  beta_0079.nii  run4  WTP betas        16  1.421652  168.783176   \n",
       "31400  beta_0079.nii  run4  WTP betas        16  1.421652  168.726133   \n",
       "31403  beta_0079.nii  run4  WTP betas        16  1.421652  168.782857   \n",
       "31404  beta_0079.nii  run4  WTP betas        16  1.421652  168.644515   \n",
       "31406  beta_0079.nii  run4  WTP betas        16  1.421652  168.785056   \n",
       "\n",
       "       duration               food_pic  food_num             cond health_cond  \\\n",
       "3      6.564707          SourPunch.bmp         1  unhealthy_liked   unhealthy   \n",
       "6      6.548297               M&Ms.bmp         1  unhealthy_liked   unhealthy   \n",
       "9      6.548571         MacNCheese.bmp         1  unhealthy_liked   unhealthy   \n",
       "13     6.553895         FamousAmos.bmp         1  unhealthy_liked   unhealthy   \n",
       "16     6.549177    PeanutButterCup.bmp         1  unhealthy_liked   unhealthy   \n",
       "...         ...                    ...       ...              ...         ...   \n",
       "31399  6.532094  lunchables_turkey.bmp        16  unhealthy_liked   unhealthy   \n",
       "31400  6.532007         FamousAmos.bmp        16  unhealthy_liked   unhealthy   \n",
       "31403  6.533177     SourCreamChips.bmp        16  unhealthy_liked   unhealthy   \n",
       "31404  6.516474           Poptart1.bmp        16  unhealthy_liked   unhealthy   \n",
       "31406  6.533191    PeanutButterCup.bmp        16  unhealthy_liked   unhealthy   \n",
       "\n",
       "      liking_cond  liking_rating response  isi_post         end   run  wave  \\\n",
       "3           liked              4     NULL       3.0   12.645367  run1     1   \n",
       "6           liked              4        6       3.0   12.616389  run1     1   \n",
       "9           liked              3        8       3.0   12.624857  run1     1   \n",
       "13          liked              2        6       3.0   12.639801  run1     1   \n",
       "16          liked              4     NULL       3.0   12.617930  run1     1   \n",
       "...           ...            ...      ...       ...         ...   ...   ...   \n",
       "31399       liked              1     NULL       NaN  175.315270  run4     1   \n",
       "31400       liked              3        6       NaN  175.258140  run4     1   \n",
       "31403       liked              4        7       NaN  175.316034  run4     1   \n",
       "31404       liked              2        5       NaN  175.160989  run4     1   \n",
       "31406       liked              4        8       NaN  175.318246  run4     1   \n",
       "\n",
       "      subject  \n",
       "3      DEV040  \n",
       "6      DEV039  \n",
       "9      DEV168  \n",
       "13     DEV063  \n",
       "16     DEV129  \n",
       "...       ...  \n",
       "31399  DEV179  \n",
       "31400  DEV098  \n",
       "31403  DEV108  \n",
       "31404  DEV035  \n",
       "31406  DEV138  \n",
       "\n",
       "[11824 rows x 19 columns]"
      ]
     },
     "execution_count": 7,
     "metadata": {},
     "output_type": "execute_result"
    }
   ],
   "source": [
    "wtpw1_behavdesign"
   ]
  },
  {
   "cell_type": "code",
   "execution_count": 8,
   "id": "piano-jacob",
   "metadata": {},
   "outputs": [],
   "source": [
    "pd.set_option('display.max_rows', 50)"
   ]
  },
  {
   "cell_type": "markdown",
   "id": "powerful-program",
   "metadata": {},
   "source": [
    "Exclude from consideration subjects that have too few events (i.e., less than 64)."
   ]
  },
  {
   "cell_type": "code",
   "execution_count": 9,
   "id": "bridal-sacrifice",
   "metadata": {},
   "outputs": [],
   "source": [
    "events_per_subject = wtpw1_behavdesign.groupby('subject').duration.count()\n",
    "subjects_with_too_few_events = events_per_subject[events_per_subject<64].index.tolist()\n",
    "\n",
    "wtpw1_behavdesign_clean = wtpw1_behavdesign.loc[[(s in subjects_with_too_few_events)==False for s in wtpw1_behavdesign.subject]]\n"
   ]
  },
  {
   "cell_type": "code",
   "execution_count": 10,
   "id": "victorian-marks",
   "metadata": {},
   "outputs": [
    {
     "name": "stdout",
     "output_type": "stream",
     "text": [
      "(11648, 19) (11824, 19)\n"
     ]
    }
   ],
   "source": [
    "print(wtpw1_behavdesign_clean.shape, wtpw1_behavdesign.shape)"
   ]
  },
  {
   "cell_type": "markdown",
   "id": "first-fountain",
   "metadata": {},
   "source": [
    "The following subjects have behavioral data recorded in the MATLAB behavioral output folder via the function `get_comprehensive_run_data_from_mat_dir`, but they do not have a beta.nii folder:"
   ]
  },
  {
   "cell_type": "code",
   "execution_count": 11,
   "id": "simplified-clause",
   "metadata": {},
   "outputs": [
    {
     "name": "stdout",
     "output_type": "stream",
     "text": [
      "['DEV002', 'DEV007', 'DEV011', 'DEV020', 'DEV032', 'DEV047', 'DEV063', 'DEV064', 'DEV067', 'DEV075', 'DEV078', 'DEV088', 'DEV090', 'DEV093', 'DEV094', 'DEV095', 'DEV096', 'DEV097', 'DEV098', 'DEV099', 'DEV100', 'DEV101', 'DEV102', 'DEV103', 'DEV104', 'DEV105', 'DEV106', 'DEV107', 'DEV108', 'DEV109', 'DEV110', 'DEV111', 'DEV112', 'DEV113', 'DEV115', 'DEV116', 'DEV117', 'DEV118', 'DEV119', 'DEV120', 'DEV121', 'DEV122', 'DEV123', 'DEV124', 'DEV126', 'DEV127', 'DEV128', 'DEV129', 'DEV130', 'DEV132', 'DEV133', 'DEV134', 'DEV135', 'DEV137', 'DEV138', 'DEV139', 'DEV140', 'DEV141', 'DEV143', 'DEV144', 'DEV145', 'DEV147', 'DEV149', 'DEV150', 'DEV151', 'DEV152', 'DEV153', 'DEV154', 'DEV155', 'DEV156', 'DEV157', 'DEV158', 'DEV159', 'DEV161', 'DEV163', 'DEV164', 'DEV166', 'DEV167', 'DEV168', 'DEV169', 'DEV170', 'DEV171', 'DEV173', 'DEV174', 'DEV176', 'DEV177', 'DEV178', 'DEV179', 'DEV180', 'DEV181', 'DEV182', 'DEV183', 'DEV185', 'DEV186', 'DEV187', 'DEV189', 'DEV190', 'DEV191', 'DEV192', 'DEV193', 'DEV194', 'DEV195', 'DEV196', 'DEV197', 'DEV198', 'DEV206', 'DEV999']\n"
     ]
    }
   ],
   "source": [
    "\n",
    "subjects_with_behavioral_no_beta_folder = set(wtpw1_behavdesign_clean.subject).difference(set(sub_labels_all))\n",
    "subjects_with_behavioral_no_beta_folder = list(subjects_with_behavioral_no_beta_folder)\n",
    "subjects_with_behavioral_no_beta_folder.sort()\n",
    "print( subjects_with_behavioral_no_beta_folder)"
   ]
  },
  {
   "cell_type": "markdown",
   "id": "atmospheric-glory",
   "metadata": {},
   "source": [
    "The following subjects have a `beta.nii` folder but they do not have behavioral data recorded in the MATLAB behavioral output folder via the function `get_comprehensive_run_data_from_mat_dir`.\n",
    "\n",
    "See: https://docs.google.com/presentation/d/1K-nFrZYE6rR8t0myNyacB7frBzV3B1--nMqPhVkwL8E/edit#slide=id.gd9fcc4129a_0_0"
   ]
  },
  {
   "cell_type": "code",
   "execution_count": 12,
   "id": "circular-isolation",
   "metadata": {},
   "outputs": [],
   "source": [
    "behavioral_data_subjects = set(wtpw1_behavdesign_clean.subject)"
   ]
  },
  {
   "cell_type": "code",
   "execution_count": 13,
   "id": "bulgarian-basin",
   "metadata": {},
   "outputs": [],
   "source": [
    "subjects_with_beta_folder_no_behavioral = set(sub_labels_all).difference(behavioral_data_subjects)"
   ]
  },
  {
   "cell_type": "code",
   "execution_count": 14,
   "id": "starting-evening",
   "metadata": {},
   "outputs": [
    {
     "data": {
      "text/plain": [
       "{'DEV072', 'DEV082'}"
      ]
     },
     "execution_count": 14,
     "metadata": {},
     "output_type": "execute_result"
    }
   ],
   "source": [
    "subjects_with_beta_folder_no_behavioral"
   ]
  },
  {
   "cell_type": "markdown",
   "id": "educated-valentine",
   "metadata": {},
   "source": [
    "Finally we want to remove those subjects with no behavioral data from the list..."
   ]
  },
  {
   "cell_type": "code",
   "execution_count": 15,
   "id": "listed-restoration",
   "metadata": {},
   "outputs": [],
   "source": [
    "subject_dirs_usable = [d for d, sl in zip(subject_dirs_all,sub_labels_all) if sl not in subjects_with_beta_folder_no_behavioral]\n",
    "sub_labels_usable = [sl for d, sl in zip(subject_dirs_all,sub_labels_all) if sl not in subjects_with_beta_folder_no_behavioral]"
   ]
  },
  {
   "cell_type": "code",
   "execution_count": 16,
   "id": "developed-capitol",
   "metadata": {},
   "outputs": [],
   "source": [
    "ts = datetime.datetime.now().strftime('%Y%m%dT%H%M%S')"
   ]
  },
  {
   "cell_type": "code",
   "execution_count": 17,
   "id": "instrumental-honduras",
   "metadata": {},
   "outputs": [],
   "source": [
    "added_labels = pd.DataFrame({\"sub_label\":sub_labels_usable})\n",
    "added_labels['added'] = datetime.datetime.now()\n",
    "added_labels.to_csv(\"../data/useable_subject_labels.csv\",index=False)"
   ]
  },
  {
   "cell_type": "markdown",
   "id": "young-meeting",
   "metadata": {},
   "source": [
    "### Manage split and select subjects"
   ]
  },
  {
   "cell_type": "code",
   "execution_count": 18,
   "id": "seventh-integer",
   "metadata": {},
   "outputs": [],
   "source": [
    "# #make some labels based on this list\n",
    "# import re\n",
    "# sub_labels = [(re.search(\"DEV(\\\\d\\\\d\\\\d)\",sid)[0]) for sid in subject_dirs]\n",
    "# sub_ids = [(int)(re.search(\"DEV(\\\\d\\\\d\\\\d)\",sid)[1]) for sid in subject_dirs]"
   ]
  },
  {
   "cell_type": "markdown",
   "id": "referenced-surprise",
   "metadata": {},
   "source": [
    "Get the subjects we've already peaked at. These were _also_ chosen randomly, just via a prior process. They'll be part of the train group."
   ]
  },
  {
   "cell_type": "code",
   "execution_count": 19,
   "id": "confirmed-massachusetts",
   "metadata": {},
   "outputs": [],
   "source": [
    "already_peaked_paths = pd.concat(\n",
    "    [pd.read_csv(\"../data/train_subjs_25_20210601T131602.csv\"),\n",
    "    pd.read_csv(\"../data/holdout_subjs_5_20210601T131602.csv\")]\n",
    ")\n",
    "\n",
    "\n",
    "already_peaked_labels = [(re.search(\"DEV(\\\\d\\\\d\\\\d)\",sid)[0]) for sid in already_peaked_paths['0']]\n"
   ]
  },
  {
   "cell_type": "code",
   "execution_count": 20,
   "id": "charitable-proportion",
   "metadata": {},
   "outputs": [],
   "source": [
    "pre_determined_training_subjs = already_peaked_labels"
   ]
  },
  {
   "cell_type": "markdown",
   "id": "endangered-birthday",
   "metadata": {},
   "source": [
    "Determine the sizes of the groups we want to use:"
   ]
  },
  {
   "cell_type": "code",
   "execution_count": 21,
   "id": "regular-gambling",
   "metadata": {},
   "outputs": [],
   "source": [
    "total_sample_size = len(subject_dirs_usable)# - (len(subject_dirs_usable) % 5)\n",
    "holdout_size = 5\n",
    "holdout_n = (int)(total_sample_size/holdout_size)"
   ]
  },
  {
   "cell_type": "code",
   "execution_count": 22,
   "id": "hollow-toddler",
   "metadata": {},
   "outputs": [
    {
     "data": {
      "text/plain": [
       "15"
      ]
     },
     "execution_count": 22,
     "metadata": {},
     "output_type": "execute_result"
    }
   ],
   "source": [
    "holdout_n"
   ]
  },
  {
   "cell_type": "code",
   "execution_count": 23,
   "id": "unavailable-hungary",
   "metadata": {},
   "outputs": [
    {
     "name": "stdout",
     "output_type": "stream",
     "text": [
      "75 15 60\n"
     ]
    }
   ],
   "source": [
    "print(total_sample_size,holdout_n,total_sample_size-holdout_n)"
   ]
  },
  {
   "cell_type": "markdown",
   "id": "arranged-exchange",
   "metadata": {},
   "source": [
    "The only way to get a REALLY stable set of useable subjects, robust to even corrections to the dataset, is to make this list manually, so that's what we'll do."
   ]
  },
  {
   "cell_type": "code",
   "execution_count": 24,
   "id": "incredible-stack",
   "metadata": {},
   "outputs": [],
   "source": [
    "\n",
    "ts = datetime.datetime.now().strftime('%Y%m%dT%H%M%S')"
   ]
  },
  {
   "cell_type": "code",
   "execution_count": 25,
   "id": "oriental-sender",
   "metadata": {},
   "outputs": [
    {
     "data": {
      "text/plain": [
       "'20210719T114802'"
      ]
     },
     "execution_count": 25,
     "metadata": {},
     "output_type": "execute_result"
    }
   ],
   "source": [
    "ts"
   ]
  },
  {
   "cell_type": "code",
   "execution_count": null,
   "id": "accompanied-evanescence",
   "metadata": {},
   "outputs": [],
   "source": []
  },
  {
   "cell_type": "code",
   "execution_count": 26,
   "id": "derived-albany",
   "metadata": {},
   "outputs": [],
   "source": [
    "test_train_df = pd.DataFrame({\"sub_label\":sub_labels_usable})"
   ]
  },
  {
   "cell_type": "markdown",
   "id": "later-anaheim",
   "metadata": {},
   "source": [
    "Now we get the pre-determined subjects marked as 'train' first"
   ]
  },
  {
   "cell_type": "code",
   "execution_count": 27,
   "id": "responsible-reality",
   "metadata": {},
   "outputs": [],
   "source": [
    "test_train_df['SplitGroup'] = None"
   ]
  },
  {
   "cell_type": "code",
   "execution_count": 28,
   "id": "expressed-scheduling",
   "metadata": {},
   "outputs": [],
   "source": [
    "for sl in test_train_df.sub_label:\n",
    "    if sl in pre_determined_training_subjs:\n",
    "        test_train_df.loc[test_train_df.sub_label==sl,'SplitGroup']='Train'\n",
    "    "
   ]
  },
  {
   "cell_type": "code",
   "execution_count": 29,
   "id": "taken-calculator",
   "metadata": {},
   "outputs": [
    {
     "data": {
      "text/plain": [
       "Train    30\n",
       "Name: SplitGroup, dtype: int64"
      ]
     },
     "execution_count": 29,
     "metadata": {},
     "output_type": "execute_result"
    }
   ],
   "source": [
    "test_train_df.SplitGroup.value_counts()"
   ]
  },
  {
   "cell_type": "markdown",
   "id": "active-limit",
   "metadata": {},
   "source": [
    "And _now_ we can use the order of the subjects in the randomization to select remaining subjects to allocate to the two groups. "
   ]
  },
  {
   "cell_type": "markdown",
   "id": "incoming-commercial",
   "metadata": {},
   "source": [
    "Set a random order for the subjects to be selected from..."
   ]
  },
  {
   "cell_type": "code",
   "execution_count": 30,
   "id": "chief-syracuse",
   "metadata": {},
   "outputs": [],
   "source": [
    "unallocated_subjects = test_train_df[test_train_df.SplitGroup.isnull()].sub_label.tolist()"
   ]
  },
  {
   "cell_type": "code",
   "execution_count": 31,
   "id": "eastern-assurance",
   "metadata": {},
   "outputs": [],
   "source": [
    "random.seed(a=1622149277.6487303)\n",
    "subj_labels_randomized = random.sample(unallocated_subjects,k=len(unallocated_subjects)) # add an extra 5 as a hold-out"
   ]
  },
  {
   "cell_type": "code",
   "execution_count": 32,
   "id": "trying-glucose",
   "metadata": {},
   "outputs": [],
   "source": [
    "holdout_subjs = subj_labels_randomized[0:holdout_n]\n"
   ]
  },
  {
   "cell_type": "code",
   "execution_count": 33,
   "id": "successful-provider",
   "metadata": {},
   "outputs": [],
   "source": [
    "for hs in holdout_subjs:\n",
    "    test_train_df.loc[test_train_df.sub_label==hs,'SplitGroup']='Holdout'"
   ]
  },
  {
   "cell_type": "code",
   "execution_count": 34,
   "id": "macro-inquiry",
   "metadata": {},
   "outputs": [],
   "source": [
    "#mark the remaining subjects as for training\n",
    "test_train_df.loc[test_train_df.SplitGroup.isnull(),'SplitGroup']='Train'"
   ]
  },
  {
   "cell_type": "code",
   "execution_count": 35,
   "id": "impossible-sample",
   "metadata": {},
   "outputs": [],
   "source": [
    "test_train_df.to_csv(\"../data/train_test_markers_\"+ts+\".csv\",index=False)"
   ]
  },
  {
   "cell_type": "code",
   "execution_count": 36,
   "id": "elect-jonathan",
   "metadata": {},
   "outputs": [
    {
     "data": {
      "text/plain": [
       "Train      60\n",
       "Holdout    15\n",
       "Name: SplitGroup, dtype: int64"
      ]
     },
     "execution_count": 36,
     "metadata": {},
     "output_type": "execute_result"
    }
   ],
   "source": [
    "test_train_df.SplitGroup.value_counts()"
   ]
  },
  {
   "cell_type": "code",
   "execution_count": 37,
   "id": "recent-knock",
   "metadata": {},
   "outputs": [
    {
     "data": {
      "text/plain": [
       "(75, 2)"
      ]
     },
     "execution_count": 37,
     "metadata": {},
     "output_type": "execute_result"
    }
   ],
   "source": [
    "test_train_df.shape"
   ]
  },
  {
   "cell_type": "code",
   "execution_count": 38,
   "id": "upset-ottawa",
   "metadata": {},
   "outputs": [],
   "source": [
    "wtpw1_behavdesign_clean.to_csv(\"../data/wtpw1_behavdesign_clean.csv\",index=False)"
   ]
  },
  {
   "cell_type": "code",
   "execution_count": null,
   "id": "willing-copying",
   "metadata": {},
   "outputs": [],
   "source": []
  }
 ],
 "metadata": {
  "kernelspec": {
   "display_name": "Python [conda env:.conda-neuralsignature]",
   "language": "python",
   "name": "conda-env-.conda-neuralsignature-py"
  },
  "language_info": {
   "codemirror_mode": {
    "name": "ipython",
    "version": 3
   },
   "file_extension": ".py",
   "mimetype": "text/x-python",
   "name": "python",
   "nbconvert_exporter": "python",
   "pygments_lexer": "ipython3",
   "version": "3.8.5"
  }
 },
 "nbformat": 4,
 "nbformat_minor": 5
}
