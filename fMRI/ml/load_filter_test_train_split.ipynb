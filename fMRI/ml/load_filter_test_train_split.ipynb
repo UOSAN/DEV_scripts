{
 "cells": [
  {
   "cell_type": "code",
   "execution_count": 1,
   "id": "fatty-redhead",
   "metadata": {},
   "outputs": [
    {
     "name": "stderr",
     "output_type": "stream",
     "text": [
      "/home/bsmith16/.conda/envs/neuralsignature/lib/python3.8/site-packages/nilearn/datasets/__init__.py:87: FutureWarning: Fetchers from the nilearn.datasets module will be updated in version 0.9 to return python strings instead of bytes and Pandas dataframes instead of Numpy arrays.\n",
      "  warn(\"Fetchers from the nilearn.datasets module will be \"\n"
     ]
    }
   ],
   "source": [
    "import pandas as pd\n",
    "import numpy as np\n",
    "import os\n",
    "import nltools as nlt\n",
    "import nilearn as nil\n",
    "import nibabel as nib\n",
    "import warnings\n",
    "import glob\n",
    "import random\n",
    "import pickle\n",
    "from operator import itemgetter\n",
    "import datetime"
   ]
  },
  {
   "cell_type": "markdown",
   "id": "defensive-strength",
   "metadata": {},
   "source": [
    "This file loads the behavioral data from the output file, matches it to the list of betas we have, and then splits it into train and test groups.\n",
    "\n",
    "As long as input data doesn't change it shouldn't change which subjects are allocated to each group each time.\n",
    "\n",
    "If input data does change, then you can use the previous output of this file to manually hardcode which groups already-classified subjects should be in using `already_peaked_paths` files: see below."
   ]
  },
  {
   "cell_type": "code",
   "execution_count": 48,
   "id": "hourly-status",
   "metadata": {},
   "outputs": [],
   "source": [
    "ml_data_path = \"/gpfs/projects/sanlab/shared/DEV/nonbids_data/fMRI/ml\""
   ]
  },
  {
   "cell_type": "code",
   "execution_count": 2,
   "id": "sought-bulgaria",
   "metadata": {},
   "outputs": [
    {
     "name": "stdout",
     "output_type": "stream",
     "text": [
      "subject 040, subject 039, subject 168, subject 063, subject 224, subject 129, subject 067, subject 150, subject 159, \n",
      "SUBJ 159, 2, run14\n",
      "no data for this run.\n",
      "subject 004, subject 091, subject 180, subject 008, subject 095, subject 099, subject 032, \n",
      "SUBJ 032, 2, run2\n",
      "no data for this run.\n",
      "subject 218, subject 036, subject 171, subject 100, \n",
      "SUBJ 100, 3, run2\n",
      "no data for this run.\n",
      "subject 109, subject 041, subject 060, subject 059, subject 130, subject 223, subject 203, subject 064, subject 068, subject 001, subject 087, subject 192, subject 005, subject 121, subject 999, \n",
      "SUBJ 999, 2, run1\n",
      "no data for this run.\n",
      "\n",
      "\n",
      "SUBJ 999, 2, run2\n",
      "Data for this run is not in the expected format or is missing. Skipping this run.\n",
      "time: 29-Oct-2020 17:09:09\n",
      "\n",
      "StartTime: 3035.874545661\n",
      "\n",
      "Jitter: array of length 16\n",
      "\n",
      "TrialStart: array of length 2\n",
      "\n",
      "ISI: array of length 2\n",
      "\n",
      "FoodOn: array of length 2\n",
      "\n",
      "BidOn: array of length 2\n",
      "\n",
      "FoodOnset: array of length 2\n",
      "\n",
      "BidOnset: array of length 2\n",
      "\n",
      "FoodDuration: array of length 2\n",
      "\n",
      "BidDuration: array of length 2\n",
      "\n",
      "FoodPic: array of length 2\n",
      "\n",
      "FoodNum: array of length 2\n",
      "\n",
      "Cond: array of length 2\n",
      "\n",
      "HealthCond: array of length 2\n",
      "\n",
      "LikingCond: array of length 2\n",
      "\n",
      "LikingRating: array of length 2\n",
      "\n",
      "Resp: array of length 2\n",
      "\n",
      "RT: array of length 2\n",
      "\n",
      "subject 010, subject 151, subject 096, subject 028, subject 153, subject 033, subject 217, subject 183, subject 112, subject 037, subject 056, subject 994, subject 142, subject 061, subject 202, subject 172, \n",
      "SUBJ 172, 1, run172\n",
      "no data for this run.\n",
      "\n",
      "\n",
      "SUBJ 172, 1, run2\n",
      "Data for this run is not in the expected format or is missing. Skipping this run.\n",
      "time: 12-Mar-2020 14:48:05\n",
      "\n",
      "StartTime: 168508.67269277\n",
      "\n",
      "Jitter: array of length 16\n",
      "\n",
      "TrialStart: 168508.740422762\n",
      "\n",
      "ISI: 6\n",
      "\n",
      "FoodOn: 168514.747711751\n",
      "\n",
      "BidOn: 168518.757813166\n",
      "\n",
      "FoodOnset: 6.0750189810059965\n",
      "\n",
      "BidOnset: 10.085120396019192\n",
      "\n",
      "FoodDuration: 4.010101415013196\n",
      "\n",
      "BidDuration: 98.6482863809797\n",
      "\n",
      "FoodPic: SourPunch.bmp\n",
      "\n",
      "FoodNum: 1\n",
      "\n",
      "Cond: unhealthy_liked\n",
      "\n",
      "HealthCond: unhealthy\n",
      "\n",
      "LikingCond: liked\n",
      "\n",
      "LikingRating: 2\n",
      "\n",
      "Resp: NULL\n",
      "\n",
      "RT: NaN\n",
      "\n",
      "subject 101, subject 065, subject 174, subject 103, subject 002, subject 088, subject 133, subject 006, subject 093, subject 025, subject 163, subject 030, subject 029, subject 216, subject 195, subject 034, subject 124, subject 154, subject 057, subject 201, subject 062, subject 113, subject 186, subject 115, subject 085, subject 145, subject 090, subject 089, subject 104, subject 026, subject 177, subject 106, subject 031, subject 054, subject 166, subject 058, subject 125, \n",
      "\n",
      "SUBJ 125, 1, run2\n",
      "Data for this run is not in the expected format or is missing. Skipping this run.\n",
      "time: 20-Jul-2019 10:34:18\n",
      "\n",
      "StartTime: 702.10789738\n",
      "\n",
      "Jitter: array of length 16\n",
      "\n",
      "TrialStart: array of length 15\n",
      "\n",
      "ISI: array of length 15\n",
      "\n",
      "FoodOn: array of length 15\n",
      "\n",
      "BidOn: array of length 15\n",
      "\n",
      "FoodOnset: array of length 15\n",
      "\n",
      "BidOnset: array of length 15\n",
      "\n",
      "FoodDuration: array of length 15\n",
      "\n",
      "BidDuration: array of length 15\n",
      "\n",
      "FoodPic: array of length 15\n",
      "\n",
      "FoodNum: array of length 15\n",
      "\n",
      "Cond: array of length 15\n",
      "\n",
      "HealthCond: array of length 15\n",
      "\n",
      "LikingCond: array of length 15\n",
      "\n",
      "LikingRating: array of length 15\n",
      "\n",
      "Resp: array of length 15\n",
      "\n",
      "RT: array of length 15\n",
      "\n",
      "subject 198, subject 127, subject 082, \n",
      "SUBJ 082, 1, run4\n",
      "no data for this run.\n",
      "subject 998, subject 000, subject 157, subject 086, subject 209, subject 187, subject 023, subject 116, subject 189, subject 118, subject 027, subject 051, subject 206, subject 178, subject 055, subject 107, subject 211, subject 078, subject 139, subject 083, subject 169, subject 190, subject 020, subject 019, subject 199, subject 128, subject 024, \n",
      "SUBJ 024, 1, run12\n",
      "no data for this run.\n",
      "subject 225, subject 047, subject 181, subject 205, subject 110, subject 052, subject 119, subject 140, subject 075, \n",
      "SUBJ 075, 2, run0\n",
      "no data for this run.\n",
      "subject 222, subject 170, subject 080, subject 079, subject 084, subject 016, subject 131, subject 219, subject 021, subject 161, subject 044, subject 191, subject 120, subject 193, subject 204, subject 048, subject 122, subject 053, \n",
      "SUBJ 053, 2, run45\n",
      "no data for this run.\n",
      "subject 152, subject 072, \n",
      "SUBJ 072, 1, run1\n",
      "no data for this run.\n",
      "\n",
      "SUBJ 072, 3, run2\n",
      "no data for this run.\n",
      "subject 221, subject 182, subject 076, subject 111, subject 081, subject 013, subject 141, subject 143, subject 017, subject 173, subject 022, subject 102, subject 045, subject 132, subject 134, subject 215, subject 050, subject 049, subject 164, subject 073, subject 220, subject 194, subject 123, subject 200, subject 196, subject 077, subject 009, subject 014, subject 155, subject 018, subject 185, subject 114, subject 042, subject 144, subject 046, subject 176, subject 070, subject 069, subject 105, subject 074, subject 135, subject 137, subject 011, subject 097, subject 167, subject 015, subject 197, subject 208, subject 126, subject 038, \n",
      "SUBJ 038, 4, run1\n",
      "no data for this run.\n",
      "subject 156, subject 043, subject 158, subject 066, subject 188, subject 117, subject 071, subject 147, \n",
      "SUBJ 147, 3, run3\n",
      "no data for this run.\n",
      "subject 210, subject 007, subject 149, subject 094, subject 012, subject 179, subject 098, subject 108, subject 035, subject 207, subject 138, "
     ]
    }
   ],
   "source": [
    "#load behavioral data\n",
    "\n",
    "import dev_wtp_io_utils\n",
    "behavioral_data_path = '/gpfs/projects/sanlab/shared/DEV/nonbids_data/Tasks/WTP/output/'\n",
    "[run_list, run_event_df_list, run_event_stage_df_list] = dev_wtp_io_utils.get_comprehensive_run_data_from_mat_dir(behavioral_data_path)\n",
    "\n"
   ]
  },
  {
   "cell_type": "markdown",
   "id": "psychological-robinson",
   "metadata": {},
   "source": [
    "This file is a snapshot from: https://docs.google.com/spreadsheets/d/1NywNwiRxwlAOjb2eZ7q58MklRWUGvgE5hlaILurwFIs/edit#gid=0"
   ]
  },
  {
   "cell_type": "code",
   "execution_count": 3,
   "id": "optional-chemistry",
   "metadata": {},
   "outputs": [],
   "source": [
    "#load design data from the official list of task design.\n",
    "#this is NOT per subject.\n",
    "betas = pd.read_csv(\"/gpfs/projects/sanlab/bsmith16/data/DEV QC and Exclusions - betas_machine_readable.csv\")\n",
    "wtp_betas = betas[betas.task=='WTP betas']\n",
    "#get the betas just for the four runs\n",
    "wtp_betas_runfiles = wtp_betas[[bt in ['run1','run2','run3','run4'] for bt in wtp_betas.type]].copy()\n",
    "#number them\n",
    "wtp_betas_runfiles['event_id'] = wtp_betas_runfiles.groupby('type').cumcount()+1"
   ]
  },
  {
   "cell_type": "code",
   "execution_count": 4,
   "id": "funny-composite",
   "metadata": {},
   "outputs": [
    {
     "data": {
      "text/html": [
       "<div>\n",
       "<style scoped>\n",
       "    .dataframe tbody tr th:only-of-type {\n",
       "        vertical-align: middle;\n",
       "    }\n",
       "\n",
       "    .dataframe tbody tr th {\n",
       "        vertical-align: top;\n",
       "    }\n",
       "\n",
       "    .dataframe thead th {\n",
       "        text-align: right;\n",
       "    }\n",
       "</style>\n",
       "<table border=\"1\" class=\"dataframe\">\n",
       "  <thead>\n",
       "    <tr style=\"text-align: right;\">\n",
       "      <th></th>\n",
       "      <th>beta</th>\n",
       "      <th>type</th>\n",
       "      <th>task</th>\n",
       "      <th>event_id</th>\n",
       "      <th>isi_pre</th>\n",
       "      <th>onset</th>\n",
       "      <th>duration</th>\n",
       "      <th>food_pic</th>\n",
       "      <th>food_num</th>\n",
       "      <th>cond</th>\n",
       "      <th>health_cond</th>\n",
       "      <th>liking_cond</th>\n",
       "      <th>liking_rating</th>\n",
       "      <th>response</th>\n",
       "      <th>isi_post</th>\n",
       "      <th>end</th>\n",
       "      <th>run</th>\n",
       "      <th>wave</th>\n",
       "      <th>subject</th>\n",
       "    </tr>\n",
       "  </thead>\n",
       "  <tbody>\n",
       "    <tr>\n",
       "      <th>29863</th>\n",
       "      <td>beta_0066.nii</td>\n",
       "      <td>run4</td>\n",
       "      <td>WTP betas</td>\n",
       "      <td>3</td>\n",
       "      <td>1.780283</td>\n",
       "      <td>30.029739</td>\n",
       "      <td>6.531829</td>\n",
       "      <td>Pistachios.bmp</td>\n",
       "      <td>3</td>\n",
       "      <td>healthy_liked</td>\n",
       "      <td>healthy</td>\n",
       "      <td>liked</td>\n",
       "      <td>4</td>\n",
       "      <td>8</td>\n",
       "      <td>0.095117</td>\n",
       "      <td>36.561569</td>\n",
       "      <td>run4</td>\n",
       "      <td>1</td>\n",
       "      <td>DEV099</td>\n",
       "    </tr>\n",
       "    <tr>\n",
       "      <th>724</th>\n",
       "      <td>beta_0002.nii</td>\n",
       "      <td>run1</td>\n",
       "      <td>WTP betas</td>\n",
       "      <td>2</td>\n",
       "      <td>3.000000</td>\n",
       "      <td>18.697115</td>\n",
       "      <td>6.531634</td>\n",
       "      <td>Kiwi.bmp</td>\n",
       "      <td>2</td>\n",
       "      <td>healthy_liked</td>\n",
       "      <td>healthy</td>\n",
       "      <td>liked</td>\n",
       "      <td>4</td>\n",
       "      <td>5</td>\n",
       "      <td>1.780283</td>\n",
       "      <td>25.228749</td>\n",
       "      <td>run1</td>\n",
       "      <td>1</td>\n",
       "      <td>DEV040</td>\n",
       "    </tr>\n",
       "    <tr>\n",
       "      <th>14234</th>\n",
       "      <td>beta_0025.nii</td>\n",
       "      <td>run2</td>\n",
       "      <td>WTP betas</td>\n",
       "      <td>4</td>\n",
       "      <td>0.095117</td>\n",
       "      <td>39.673193</td>\n",
       "      <td>6.526455</td>\n",
       "      <td>3Musketeers.bmp</td>\n",
       "      <td>4</td>\n",
       "      <td>unhealthy_disliked</td>\n",
       "      <td>unhealthy</td>\n",
       "      <td>disliked</td>\n",
       "      <td>1</td>\n",
       "      <td>5</td>\n",
       "      <td>2.680966</td>\n",
       "      <td>46.199648</td>\n",
       "      <td>run2</td>\n",
       "      <td>1</td>\n",
       "      <td>DEV155</td>\n",
       "    </tr>\n",
       "    <tr>\n",
       "      <th>25727</th>\n",
       "      <td>beta_0050.nii</td>\n",
       "      <td>run3</td>\n",
       "      <td>WTP betas</td>\n",
       "      <td>8</td>\n",
       "      <td>2.083661</td>\n",
       "      <td>84.857648</td>\n",
       "      <td>6.525055</td>\n",
       "      <td>HotTamales.bmp</td>\n",
       "      <td>8</td>\n",
       "      <td>unhealthy_disliked</td>\n",
       "      <td>unhealthy</td>\n",
       "      <td>disliked</td>\n",
       "      <td>1</td>\n",
       "      <td>5</td>\n",
       "      <td>1.584060</td>\n",
       "      <td>91.382703</td>\n",
       "      <td>run3</td>\n",
       "      <td>1</td>\n",
       "      <td>DEV216</td>\n",
       "    </tr>\n",
       "    <tr>\n",
       "      <th>29027</th>\n",
       "      <td>beta_0058.nii</td>\n",
       "      <td>run3</td>\n",
       "      <td>WTP betas</td>\n",
       "      <td>16</td>\n",
       "      <td>1.421652</td>\n",
       "      <td>168.656373</td>\n",
       "      <td>6.515888</td>\n",
       "      <td>peachrings.bmp</td>\n",
       "      <td>16</td>\n",
       "      <td>unhealthy_liked</td>\n",
       "      <td>unhealthy</td>\n",
       "      <td>liked</td>\n",
       "      <td>1</td>\n",
       "      <td>5</td>\n",
       "      <td>NaN</td>\n",
       "      <td>175.172261</td>\n",
       "      <td>run3</td>\n",
       "      <td>1</td>\n",
       "      <td>DEV015</td>\n",
       "    </tr>\n",
       "  </tbody>\n",
       "</table>\n",
       "</div>"
      ],
      "text/plain": [
       "                beta  type       task  event_id   isi_pre       onset  \\\n",
       "29863  beta_0066.nii  run4  WTP betas         3  1.780283   30.029739   \n",
       "724    beta_0002.nii  run1  WTP betas         2  3.000000   18.697115   \n",
       "14234  beta_0025.nii  run2  WTP betas         4  0.095117   39.673193   \n",
       "25727  beta_0050.nii  run3  WTP betas         8  2.083661   84.857648   \n",
       "29027  beta_0058.nii  run3  WTP betas        16  1.421652  168.656373   \n",
       "\n",
       "       duration         food_pic  food_num                cond health_cond  \\\n",
       "29863  6.531829   Pistachios.bmp         3       healthy_liked     healthy   \n",
       "724    6.531634         Kiwi.bmp         2       healthy_liked     healthy   \n",
       "14234  6.526455  3Musketeers.bmp         4  unhealthy_disliked   unhealthy   \n",
       "25727  6.525055   HotTamales.bmp         8  unhealthy_disliked   unhealthy   \n",
       "29027  6.515888   peachrings.bmp        16     unhealthy_liked   unhealthy   \n",
       "\n",
       "      liking_cond  liking_rating response  isi_post         end   run  wave  \\\n",
       "29863       liked              4        8  0.095117   36.561569  run4     1   \n",
       "724         liked              4        5  1.780283   25.228749  run1     1   \n",
       "14234    disliked              1        5  2.680966   46.199648  run2     1   \n",
       "25727    disliked              1        5  1.584060   91.382703  run3     1   \n",
       "29027       liked              1        5       NaN  175.172261  run3     1   \n",
       "\n",
       "      subject  \n",
       "29863  DEV099  \n",
       "724    DEV040  \n",
       "14234  DEV155  \n",
       "25727  DEV216  \n",
       "29027  DEV015  "
      ]
     },
     "execution_count": 4,
     "metadata": {},
     "output_type": "execute_result"
    }
   ],
   "source": [
    "wtpw1_behavdesign = wtp_betas_runfiles.merge(run_event_df_list, how='left',\n",
    "                         left_on=['type','event_id'],\n",
    "                        right_on=['run','event_id'])\n",
    "\n",
    "wtpw1_behavdesign = wtpw1_behavdesign[(wtpw1_behavdesign.wave==1)]\n",
    "\n",
    "wtpw1_behavdesign.sample(5)\n"
   ]
  },
  {
   "cell_type": "code",
   "execution_count": 5,
   "id": "governmental-joseph",
   "metadata": {},
   "outputs": [],
   "source": [
    "#iterate through subject directories.\n",
    "\n",
    "subject_dirs_all = glob.glob('/gpfs/projects/sanlab/shared/DEV/nonbids_data/fMRI/fx/models/WTP/wave1/betaseries/sub-DEV*')\n",
    "subject_dirs_all.sort()"
   ]
  },
  {
   "cell_type": "code",
   "execution_count": 6,
   "id": "plain-trademark",
   "metadata": {},
   "outputs": [],
   "source": [
    "#make some labels based on this list\n",
    "import re\n",
    "sub_labels_all = [(re.search(\"DEV(\\\\d\\\\d\\\\d)\",sid)[0]) for sid in subject_dirs_all]\n",
    "sub_ids_all = [(int)(re.search(\"DEV(\\\\d\\\\d\\\\d)\",sid)[1]) for sid in subject_dirs_all]"
   ]
  },
  {
   "cell_type": "markdown",
   "id": "graphic-error",
   "metadata": {},
   "source": [
    "## Deal with incomplete data"
   ]
  },
  {
   "cell_type": "markdown",
   "id": "guided-hawaiian",
   "metadata": {},
   "source": [
    "1. Events listed in betas that do not have a betas file"
   ]
  },
  {
   "cell_type": "markdown",
   "id": "recorded-married",
   "metadata": {},
   "source": [
    "2. Subjects listed in subject_dirs that don't have corresponding beta data"
   ]
  },
  {
   "cell_type": "code",
   "execution_count": 7,
   "id": "obvious-basement",
   "metadata": {},
   "outputs": [
    {
     "data": {
      "text/html": [
       "<div>\n",
       "<style scoped>\n",
       "    .dataframe tbody tr th:only-of-type {\n",
       "        vertical-align: middle;\n",
       "    }\n",
       "\n",
       "    .dataframe tbody tr th {\n",
       "        vertical-align: top;\n",
       "    }\n",
       "\n",
       "    .dataframe thead th {\n",
       "        text-align: right;\n",
       "    }\n",
       "</style>\n",
       "<table border=\"1\" class=\"dataframe\">\n",
       "  <thead>\n",
       "    <tr style=\"text-align: right;\">\n",
       "      <th></th>\n",
       "      <th>beta</th>\n",
       "      <th>type</th>\n",
       "      <th>task</th>\n",
       "      <th>event_id</th>\n",
       "      <th>isi_pre</th>\n",
       "      <th>onset</th>\n",
       "      <th>duration</th>\n",
       "      <th>food_pic</th>\n",
       "      <th>food_num</th>\n",
       "      <th>cond</th>\n",
       "      <th>health_cond</th>\n",
       "      <th>liking_cond</th>\n",
       "      <th>liking_rating</th>\n",
       "      <th>response</th>\n",
       "      <th>isi_post</th>\n",
       "      <th>end</th>\n",
       "      <th>run</th>\n",
       "      <th>wave</th>\n",
       "      <th>subject</th>\n",
       "    </tr>\n",
       "  </thead>\n",
       "  <tbody>\n",
       "    <tr>\n",
       "      <th>3</th>\n",
       "      <td>beta_0001.nii</td>\n",
       "      <td>run1</td>\n",
       "      <td>WTP betas</td>\n",
       "      <td>1</td>\n",
       "      <td>3.000000</td>\n",
       "      <td>6.080660</td>\n",
       "      <td>6.564707</td>\n",
       "      <td>SourPunch.bmp</td>\n",
       "      <td>1</td>\n",
       "      <td>unhealthy_liked</td>\n",
       "      <td>unhealthy</td>\n",
       "      <td>liked</td>\n",
       "      <td>4</td>\n",
       "      <td>NULL</td>\n",
       "      <td>3.0</td>\n",
       "      <td>12.645367</td>\n",
       "      <td>run1</td>\n",
       "      <td>1</td>\n",
       "      <td>DEV040</td>\n",
       "    </tr>\n",
       "    <tr>\n",
       "      <th>6</th>\n",
       "      <td>beta_0001.nii</td>\n",
       "      <td>run1</td>\n",
       "      <td>WTP betas</td>\n",
       "      <td>1</td>\n",
       "      <td>3.000000</td>\n",
       "      <td>6.068091</td>\n",
       "      <td>6.548297</td>\n",
       "      <td>M&amp;Ms.bmp</td>\n",
       "      <td>1</td>\n",
       "      <td>unhealthy_liked</td>\n",
       "      <td>unhealthy</td>\n",
       "      <td>liked</td>\n",
       "      <td>4</td>\n",
       "      <td>6</td>\n",
       "      <td>3.0</td>\n",
       "      <td>12.616389</td>\n",
       "      <td>run1</td>\n",
       "      <td>1</td>\n",
       "      <td>DEV039</td>\n",
       "    </tr>\n",
       "    <tr>\n",
       "      <th>9</th>\n",
       "      <td>beta_0001.nii</td>\n",
       "      <td>run1</td>\n",
       "      <td>WTP betas</td>\n",
       "      <td>1</td>\n",
       "      <td>3.000000</td>\n",
       "      <td>6.076286</td>\n",
       "      <td>6.548571</td>\n",
       "      <td>MacNCheese.bmp</td>\n",
       "      <td>1</td>\n",
       "      <td>unhealthy_liked</td>\n",
       "      <td>unhealthy</td>\n",
       "      <td>liked</td>\n",
       "      <td>3</td>\n",
       "      <td>8</td>\n",
       "      <td>3.0</td>\n",
       "      <td>12.624857</td>\n",
       "      <td>run1</td>\n",
       "      <td>1</td>\n",
       "      <td>DEV168</td>\n",
       "    </tr>\n",
       "    <tr>\n",
       "      <th>13</th>\n",
       "      <td>beta_0001.nii</td>\n",
       "      <td>run1</td>\n",
       "      <td>WTP betas</td>\n",
       "      <td>1</td>\n",
       "      <td>3.000000</td>\n",
       "      <td>6.085906</td>\n",
       "      <td>6.553895</td>\n",
       "      <td>FamousAmos.bmp</td>\n",
       "      <td>1</td>\n",
       "      <td>unhealthy_liked</td>\n",
       "      <td>unhealthy</td>\n",
       "      <td>liked</td>\n",
       "      <td>2</td>\n",
       "      <td>6</td>\n",
       "      <td>3.0</td>\n",
       "      <td>12.639801</td>\n",
       "      <td>run1</td>\n",
       "      <td>1</td>\n",
       "      <td>DEV063</td>\n",
       "    </tr>\n",
       "    <tr>\n",
       "      <th>15</th>\n",
       "      <td>beta_0001.nii</td>\n",
       "      <td>run1</td>\n",
       "      <td>WTP betas</td>\n",
       "      <td>1</td>\n",
       "      <td>3.000000</td>\n",
       "      <td>6.064116</td>\n",
       "      <td>6.546106</td>\n",
       "      <td>M&amp;Ms.bmp</td>\n",
       "      <td>1</td>\n",
       "      <td>unhealthy_liked</td>\n",
       "      <td>unhealthy</td>\n",
       "      <td>liked</td>\n",
       "      <td>3</td>\n",
       "      <td>7</td>\n",
       "      <td>3.0</td>\n",
       "      <td>12.610221</td>\n",
       "      <td>run1</td>\n",
       "      <td>1</td>\n",
       "      <td>DEV224</td>\n",
       "    </tr>\n",
       "    <tr>\n",
       "      <th>...</th>\n",
       "      <td>...</td>\n",
       "      <td>...</td>\n",
       "      <td>...</td>\n",
       "      <td>...</td>\n",
       "      <td>...</td>\n",
       "      <td>...</td>\n",
       "      <td>...</td>\n",
       "      <td>...</td>\n",
       "      <td>...</td>\n",
       "      <td>...</td>\n",
       "      <td>...</td>\n",
       "      <td>...</td>\n",
       "      <td>...</td>\n",
       "      <td>...</td>\n",
       "      <td>...</td>\n",
       "      <td>...</td>\n",
       "      <td>...</td>\n",
       "      <td>...</td>\n",
       "      <td>...</td>\n",
       "    </tr>\n",
       "    <tr>\n",
       "      <th>35190</th>\n",
       "      <td>beta_0079.nii</td>\n",
       "      <td>run4</td>\n",
       "      <td>WTP betas</td>\n",
       "      <td>16</td>\n",
       "      <td>1.421652</td>\n",
       "      <td>168.783176</td>\n",
       "      <td>6.532094</td>\n",
       "      <td>lunchables_turkey.bmp</td>\n",
       "      <td>16</td>\n",
       "      <td>unhealthy_liked</td>\n",
       "      <td>unhealthy</td>\n",
       "      <td>liked</td>\n",
       "      <td>1</td>\n",
       "      <td>NULL</td>\n",
       "      <td>NaN</td>\n",
       "      <td>175.315270</td>\n",
       "      <td>run4</td>\n",
       "      <td>1</td>\n",
       "      <td>DEV179</td>\n",
       "    </tr>\n",
       "    <tr>\n",
       "      <th>35191</th>\n",
       "      <td>beta_0079.nii</td>\n",
       "      <td>run4</td>\n",
       "      <td>WTP betas</td>\n",
       "      <td>16</td>\n",
       "      <td>1.421652</td>\n",
       "      <td>168.726133</td>\n",
       "      <td>6.532007</td>\n",
       "      <td>FamousAmos.bmp</td>\n",
       "      <td>16</td>\n",
       "      <td>unhealthy_liked</td>\n",
       "      <td>unhealthy</td>\n",
       "      <td>liked</td>\n",
       "      <td>3</td>\n",
       "      <td>6</td>\n",
       "      <td>NaN</td>\n",
       "      <td>175.258140</td>\n",
       "      <td>run4</td>\n",
       "      <td>1</td>\n",
       "      <td>DEV098</td>\n",
       "    </tr>\n",
       "    <tr>\n",
       "      <th>35194</th>\n",
       "      <td>beta_0079.nii</td>\n",
       "      <td>run4</td>\n",
       "      <td>WTP betas</td>\n",
       "      <td>16</td>\n",
       "      <td>1.421652</td>\n",
       "      <td>168.782857</td>\n",
       "      <td>6.533177</td>\n",
       "      <td>SourCreamChips.bmp</td>\n",
       "      <td>16</td>\n",
       "      <td>unhealthy_liked</td>\n",
       "      <td>unhealthy</td>\n",
       "      <td>liked</td>\n",
       "      <td>4</td>\n",
       "      <td>7</td>\n",
       "      <td>NaN</td>\n",
       "      <td>175.316034</td>\n",
       "      <td>run4</td>\n",
       "      <td>1</td>\n",
       "      <td>DEV108</td>\n",
       "    </tr>\n",
       "    <tr>\n",
       "      <th>35195</th>\n",
       "      <td>beta_0079.nii</td>\n",
       "      <td>run4</td>\n",
       "      <td>WTP betas</td>\n",
       "      <td>16</td>\n",
       "      <td>1.421652</td>\n",
       "      <td>168.644515</td>\n",
       "      <td>6.516474</td>\n",
       "      <td>Poptart1.bmp</td>\n",
       "      <td>16</td>\n",
       "      <td>unhealthy_liked</td>\n",
       "      <td>unhealthy</td>\n",
       "      <td>liked</td>\n",
       "      <td>2</td>\n",
       "      <td>5</td>\n",
       "      <td>NaN</td>\n",
       "      <td>175.160989</td>\n",
       "      <td>run4</td>\n",
       "      <td>1</td>\n",
       "      <td>DEV035</td>\n",
       "    </tr>\n",
       "    <tr>\n",
       "      <th>35198</th>\n",
       "      <td>beta_0079.nii</td>\n",
       "      <td>run4</td>\n",
       "      <td>WTP betas</td>\n",
       "      <td>16</td>\n",
       "      <td>1.421652</td>\n",
       "      <td>168.785056</td>\n",
       "      <td>6.533191</td>\n",
       "      <td>PeanutButterCup.bmp</td>\n",
       "      <td>16</td>\n",
       "      <td>unhealthy_liked</td>\n",
       "      <td>unhealthy</td>\n",
       "      <td>liked</td>\n",
       "      <td>4</td>\n",
       "      <td>8</td>\n",
       "      <td>NaN</td>\n",
       "      <td>175.318246</td>\n",
       "      <td>run4</td>\n",
       "      <td>1</td>\n",
       "      <td>DEV138</td>\n",
       "    </tr>\n",
       "  </tbody>\n",
       "</table>\n",
       "<p>13376 rows × 19 columns</p>\n",
       "</div>"
      ],
      "text/plain": [
       "                beta  type       task  event_id   isi_pre       onset  \\\n",
       "3      beta_0001.nii  run1  WTP betas         1  3.000000    6.080660   \n",
       "6      beta_0001.nii  run1  WTP betas         1  3.000000    6.068091   \n",
       "9      beta_0001.nii  run1  WTP betas         1  3.000000    6.076286   \n",
       "13     beta_0001.nii  run1  WTP betas         1  3.000000    6.085906   \n",
       "15     beta_0001.nii  run1  WTP betas         1  3.000000    6.064116   \n",
       "...              ...   ...        ...       ...       ...         ...   \n",
       "35190  beta_0079.nii  run4  WTP betas        16  1.421652  168.783176   \n",
       "35191  beta_0079.nii  run4  WTP betas        16  1.421652  168.726133   \n",
       "35194  beta_0079.nii  run4  WTP betas        16  1.421652  168.782857   \n",
       "35195  beta_0079.nii  run4  WTP betas        16  1.421652  168.644515   \n",
       "35198  beta_0079.nii  run4  WTP betas        16  1.421652  168.785056   \n",
       "\n",
       "       duration               food_pic  food_num             cond health_cond  \\\n",
       "3      6.564707          SourPunch.bmp         1  unhealthy_liked   unhealthy   \n",
       "6      6.548297               M&Ms.bmp         1  unhealthy_liked   unhealthy   \n",
       "9      6.548571         MacNCheese.bmp         1  unhealthy_liked   unhealthy   \n",
       "13     6.553895         FamousAmos.bmp         1  unhealthy_liked   unhealthy   \n",
       "15     6.546106               M&Ms.bmp         1  unhealthy_liked   unhealthy   \n",
       "...         ...                    ...       ...              ...         ...   \n",
       "35190  6.532094  lunchables_turkey.bmp        16  unhealthy_liked   unhealthy   \n",
       "35191  6.532007         FamousAmos.bmp        16  unhealthy_liked   unhealthy   \n",
       "35194  6.533177     SourCreamChips.bmp        16  unhealthy_liked   unhealthy   \n",
       "35195  6.516474           Poptart1.bmp        16  unhealthy_liked   unhealthy   \n",
       "35198  6.533191    PeanutButterCup.bmp        16  unhealthy_liked   unhealthy   \n",
       "\n",
       "      liking_cond  liking_rating response  isi_post         end   run  wave  \\\n",
       "3           liked              4     NULL       3.0   12.645367  run1     1   \n",
       "6           liked              4        6       3.0   12.616389  run1     1   \n",
       "9           liked              3        8       3.0   12.624857  run1     1   \n",
       "13          liked              2        6       3.0   12.639801  run1     1   \n",
       "15          liked              3        7       3.0   12.610221  run1     1   \n",
       "...           ...            ...      ...       ...         ...   ...   ...   \n",
       "35190       liked              1     NULL       NaN  175.315270  run4     1   \n",
       "35191       liked              3        6       NaN  175.258140  run4     1   \n",
       "35194       liked              4        7       NaN  175.316034  run4     1   \n",
       "35195       liked              2        5       NaN  175.160989  run4     1   \n",
       "35198       liked              4        8       NaN  175.318246  run4     1   \n",
       "\n",
       "      subject  \n",
       "3      DEV040  \n",
       "6      DEV039  \n",
       "9      DEV168  \n",
       "13     DEV063  \n",
       "15     DEV224  \n",
       "...       ...  \n",
       "35190  DEV179  \n",
       "35191  DEV098  \n",
       "35194  DEV108  \n",
       "35195  DEV035  \n",
       "35198  DEV138  \n",
       "\n",
       "[13376 rows x 19 columns]"
      ]
     },
     "execution_count": 7,
     "metadata": {},
     "output_type": "execute_result"
    }
   ],
   "source": [
    "wtpw1_behavdesign"
   ]
  },
  {
   "cell_type": "code",
   "execution_count": 8,
   "id": "negative-croatia",
   "metadata": {},
   "outputs": [],
   "source": [
    "pd.set_option('display.max_rows', 50)"
   ]
  },
  {
   "cell_type": "markdown",
   "id": "western-reverse",
   "metadata": {},
   "source": [
    "Exclude from consideration subjects that have too few events (i.e., less than 64)."
   ]
  },
  {
   "cell_type": "code",
   "execution_count": 9,
   "id": "friendly-decade",
   "metadata": {},
   "outputs": [],
   "source": [
    "events_per_subject = wtpw1_behavdesign.groupby('subject').duration.count()\n",
    "subjects_with_too_few_events = events_per_subject[events_per_subject<64].index.tolist()\n",
    "\n",
    "wtpw1_behavdesign_clean = wtpw1_behavdesign.loc[[(s in subjects_with_too_few_events)==False for s in wtpw1_behavdesign.subject]]\n"
   ]
  },
  {
   "cell_type": "code",
   "execution_count": 10,
   "id": "stone-mustang",
   "metadata": {},
   "outputs": [
    {
     "name": "stdout",
     "output_type": "stream",
     "text": [
      "(13120, 19) (13376, 19)\n"
     ]
    }
   ],
   "source": [
    "print(wtpw1_behavdesign_clean.shape, wtpw1_behavdesign.shape)"
   ]
  },
  {
   "cell_type": "markdown",
   "id": "rental-halifax",
   "metadata": {},
   "source": [
    "The following subjects have behavioral data recorded in the MATLAB behavioral output folder via the function `get_comprehensive_run_data_from_mat_dir`, but they do not have a beta.nii folder:"
   ]
  },
  {
   "cell_type": "code",
   "execution_count": 33,
   "id": "passive-attitude",
   "metadata": {},
   "outputs": [
    {
     "data": {
      "text/plain": [
       "array(['DEV001', 'DEV002', 'DEV004', 'DEV005', 'DEV006', 'DEV007',\n",
       "       'DEV008', 'DEV009', 'DEV010', 'DEV011', 'DEV012', 'DEV013',\n",
       "       'DEV014', 'DEV015', 'DEV016', 'DEV017', 'DEV018', 'DEV019',\n",
       "       'DEV020', 'DEV021', 'DEV022', 'DEV023', 'DEV024', 'DEV025',\n",
       "       'DEV026', 'DEV027', 'DEV028', 'DEV029', 'DEV030', 'DEV031',\n",
       "       'DEV032', 'DEV033', 'DEV034', 'DEV035', 'DEV036', 'DEV037',\n",
       "       'DEV038', 'DEV039', 'DEV040', 'DEV041', 'DEV042', 'DEV043',\n",
       "       'DEV044', 'DEV045', 'DEV046', 'DEV047', 'DEV048', 'DEV049',\n",
       "       'DEV050', 'DEV051', 'DEV052', 'DEV053', 'DEV054', 'DEV055',\n",
       "       'DEV056', 'DEV057', 'DEV058', 'DEV059', 'DEV060', 'DEV061',\n",
       "       'DEV062', 'DEV063', 'DEV064', 'DEV065', 'DEV066', 'DEV067',\n",
       "       'DEV068', 'DEV069', 'DEV070', 'DEV071', 'DEV073', 'DEV074',\n",
       "       'DEV075', 'DEV076', 'DEV077', 'DEV078', 'DEV079', 'DEV080',\n",
       "       'DEV081', 'DEV083', 'DEV084', 'DEV085', 'DEV086', 'DEV087',\n",
       "       'DEV088', 'DEV089', 'DEV090', 'DEV091', 'DEV093', 'DEV094',\n",
       "       'DEV095', 'DEV096', 'DEV097', 'DEV098', 'DEV099', 'DEV100',\n",
       "       'DEV101', 'DEV102', 'DEV103', 'DEV104', 'DEV105', 'DEV106',\n",
       "       'DEV107', 'DEV108', 'DEV109', 'DEV110', 'DEV111', 'DEV112',\n",
       "       'DEV113', 'DEV115', 'DEV116', 'DEV117', 'DEV118', 'DEV119',\n",
       "       'DEV120', 'DEV121', 'DEV122', 'DEV123', 'DEV124', 'DEV126',\n",
       "       'DEV127', 'DEV128', 'DEV129', 'DEV130', 'DEV131', 'DEV132',\n",
       "       'DEV133', 'DEV134', 'DEV135', 'DEV137', 'DEV138', 'DEV139',\n",
       "       'DEV140', 'DEV141', 'DEV143', 'DEV144', 'DEV145', 'DEV147',\n",
       "       'DEV149', 'DEV150', 'DEV151', 'DEV152', 'DEV153', 'DEV154',\n",
       "       'DEV155', 'DEV156', 'DEV157', 'DEV158', 'DEV159', 'DEV161',\n",
       "       'DEV163', 'DEV164', 'DEV166', 'DEV167', 'DEV168', 'DEV169',\n",
       "       'DEV170', 'DEV171', 'DEV173', 'DEV174', 'DEV176', 'DEV177',\n",
       "       'DEV178', 'DEV179', 'DEV180', 'DEV181', 'DEV182', 'DEV183',\n",
       "       'DEV185', 'DEV186', 'DEV187', 'DEV188', 'DEV189', 'DEV190',\n",
       "       'DEV191', 'DEV192', 'DEV193', 'DEV194', 'DEV195', 'DEV196',\n",
       "       'DEV197', 'DEV198', 'DEV199', 'DEV200', 'DEV201', 'DEV202',\n",
       "       'DEV203', 'DEV204', 'DEV205', 'DEV206', 'DEV208', 'DEV209',\n",
       "       'DEV210', 'DEV211', 'DEV215', 'DEV216', 'DEV217', 'DEV218',\n",
       "       'DEV219', 'DEV220', 'DEV221', 'DEV223', 'DEV224', 'DEV225',\n",
       "       'DEV999'], dtype=object)"
      ]
     },
     "execution_count": 33,
     "metadata": {},
     "output_type": "execute_result"
    }
   ],
   "source": [
    "subjs_sorted = wtpw1_behavdesign_clean.subject.unique()\n",
    "subjs_sorted.sort()\n",
    "subjs_sorted"
   ]
  },
  {
   "cell_type": "code",
   "execution_count": 11,
   "id": "subjective-panel",
   "metadata": {},
   "outputs": [
    {
     "name": "stdout",
     "output_type": "stream",
     "text": [
      "['DEV002', 'DEV007', 'DEV011', 'DEV020', 'DEV032', 'DEV047', 'DEV063', 'DEV064', 'DEV067', 'DEV075', 'DEV078', 'DEV088', 'DEV090', 'DEV093', 'DEV094', 'DEV095', 'DEV096', 'DEV097', 'DEV098', 'DEV099', 'DEV100', 'DEV101', 'DEV102', 'DEV103', 'DEV104', 'DEV105', 'DEV106', 'DEV107', 'DEV108', 'DEV109', 'DEV110', 'DEV111', 'DEV112', 'DEV113', 'DEV115', 'DEV116', 'DEV117', 'DEV118', 'DEV119', 'DEV120', 'DEV121', 'DEV122', 'DEV123', 'DEV124', 'DEV126', 'DEV127', 'DEV128', 'DEV129', 'DEV130', 'DEV131', 'DEV132', 'DEV133', 'DEV134', 'DEV135', 'DEV137', 'DEV138', 'DEV139', 'DEV140', 'DEV141', 'DEV143', 'DEV144', 'DEV145', 'DEV147', 'DEV149', 'DEV150', 'DEV151', 'DEV152', 'DEV153', 'DEV154', 'DEV155', 'DEV156', 'DEV157', 'DEV158', 'DEV159', 'DEV161', 'DEV163', 'DEV164', 'DEV166', 'DEV167', 'DEV168', 'DEV169', 'DEV170', 'DEV171', 'DEV173', 'DEV174', 'DEV176', 'DEV177', 'DEV178', 'DEV179', 'DEV180', 'DEV181', 'DEV182', 'DEV183', 'DEV185', 'DEV186', 'DEV187', 'DEV188', 'DEV189', 'DEV190', 'DEV191', 'DEV192', 'DEV193', 'DEV194', 'DEV195', 'DEV196', 'DEV197', 'DEV198', 'DEV199', 'DEV200', 'DEV201', 'DEV202', 'DEV203', 'DEV204', 'DEV205', 'DEV206', 'DEV208', 'DEV209', 'DEV210', 'DEV211', 'DEV215', 'DEV216', 'DEV217', 'DEV218', 'DEV219', 'DEV220', 'DEV221', 'DEV223', 'DEV224', 'DEV225', 'DEV999']\n"
     ]
    }
   ],
   "source": [
    "\n",
    "subjects_with_behavioral_no_beta_folder = set(wtpw1_behavdesign_clean.subject).difference(set(sub_labels_all))\n",
    "subjects_with_behavioral_no_beta_folder = list(subjects_with_behavioral_no_beta_folder)\n",
    "subjects_with_behavioral_no_beta_folder.sort()\n",
    "print( subjects_with_behavioral_no_beta_folder)"
   ]
  },
  {
   "cell_type": "markdown",
   "id": "every-stocks",
   "metadata": {},
   "source": [
    "The following subjects have a `beta.nii` folder but they do not have behavioral data recorded in the MATLAB behavioral output folder via the function `get_comprehensive_run_data_from_mat_dir`.\n",
    "\n",
    "See: https://docs.google.com/presentation/d/1K-nFrZYE6rR8t0myNyacB7frBzV3B1--nMqPhVkwL8E/edit#slide=id.gd9fcc4129a_0_0"
   ]
  },
  {
   "cell_type": "code",
   "execution_count": 12,
   "id": "clinical-pressure",
   "metadata": {},
   "outputs": [],
   "source": [
    "behavioral_data_subjects = set(wtpw1_behavdesign_clean.subject)"
   ]
  },
  {
   "cell_type": "code",
   "execution_count": 13,
   "id": "august-function",
   "metadata": {},
   "outputs": [],
   "source": [
    "subjects_with_beta_folder_no_behavioral = set(sub_labels_all).difference(behavioral_data_subjects)"
   ]
  },
  {
   "cell_type": "code",
   "execution_count": 14,
   "id": "typical-badge",
   "metadata": {},
   "outputs": [
    {
     "data": {
      "text/plain": [
       "{'DEV072', 'DEV082'}"
      ]
     },
     "execution_count": 14,
     "metadata": {},
     "output_type": "execute_result"
    }
   ],
   "source": [
    "subjects_with_beta_folder_no_behavioral"
   ]
  },
  {
   "cell_type": "markdown",
   "id": "hired-rotation",
   "metadata": {},
   "source": [
    "Finally we want to remove those subjects with no behavioral data from the list..."
   ]
  },
  {
   "cell_type": "code",
   "execution_count": 15,
   "id": "electrical-witch",
   "metadata": {},
   "outputs": [],
   "source": [
    "subject_dirs_usable = [d for d, sl in zip(subject_dirs_all,sub_labels_all) if sl not in subjects_with_beta_folder_no_behavioral]\n",
    "sub_labels_usable = [sl for d, sl in zip(subject_dirs_all,sub_labels_all) if sl not in subjects_with_beta_folder_no_behavioral]"
   ]
  },
  {
   "cell_type": "code",
   "execution_count": 16,
   "id": "direct-peoples",
   "metadata": {},
   "outputs": [],
   "source": [
    "ts = datetime.datetime.now().strftime('%Y%m%dT%H%M%S')"
   ]
  },
  {
   "cell_type": "code",
   "execution_count": 19,
   "id": "failing-lobby",
   "metadata": {},
   "outputs": [],
   "source": [
    "added_labels = pd.DataFrame({\"sub_label\":sub_labels_usable})\n",
    "added_labels['added'] = datetime.datetime.now()\n",
    "added_labels.to_csv(ml_data_path + \"useable_subject_labels.csv\",index=False)"
   ]
  },
  {
   "cell_type": "markdown",
   "id": "foreign-sunset",
   "metadata": {},
   "source": [
    "### Manage split and select subjects"
   ]
  },
  {
   "cell_type": "code",
   "execution_count": 20,
   "id": "chief-magic",
   "metadata": {},
   "outputs": [],
   "source": [
    "# #make some labels based on this list\n",
    "# import re\n",
    "# sub_labels = [(re.search(\"DEV(\\\\d\\\\d\\\\d)\",sid)[0]) for sid in subject_dirs]\n",
    "# sub_ids = [(int)(re.search(\"DEV(\\\\d\\\\d\\\\d)\",sid)[1]) for sid in subject_dirs]"
   ]
  },
  {
   "cell_type": "markdown",
   "id": "appropriate-rolling",
   "metadata": {},
   "source": [
    "Get the subjects we've already peaked at. These were _also_ chosen randomly, just via a prior process. They'll be part of the train group."
   ]
  },
  {
   "cell_type": "code",
   "execution_count": 21,
   "id": "adequate-steering",
   "metadata": {},
   "outputs": [],
   "source": [
    "already_peaked_paths = pd.concat(\n",
    "    [pd.read_csv(\"/gpfs/projects/sanlab/bsmith16/data/train_subjs_25_20210601T131602.csv\"),\n",
    "    pd.read_csv(\"/gpfs/projects/sanlab/bsmith16/data/holdout_subjs_5_20210601T131602.csv\")]\n",
    ")\n",
    "\n",
    "\n",
    "already_peaked_labels = [(re.search(\"DEV(\\\\d\\\\d\\\\d)\",sid)[0]) for sid in already_peaked_paths['0']]\n"
   ]
  },
  {
   "cell_type": "code",
   "execution_count": 22,
   "id": "latest-backing",
   "metadata": {},
   "outputs": [],
   "source": [
    "pre_determined_training_subjs = already_peaked_labels"
   ]
  },
  {
   "cell_type": "markdown",
   "id": "proof-tongue",
   "metadata": {},
   "source": [
    "Determine the sizes of the groups we want to use:"
   ]
  },
  {
   "cell_type": "code",
   "execution_count": 23,
   "id": "labeled-detail",
   "metadata": {},
   "outputs": [],
   "source": [
    "total_sample_size = len(subject_dirs_usable)# - (len(subject_dirs_usable) % 5)\n",
    "holdout_size = 5\n",
    "holdout_n = (int)(total_sample_size/holdout_size)"
   ]
  },
  {
   "cell_type": "code",
   "execution_count": 24,
   "id": "activated-ratio",
   "metadata": {},
   "outputs": [
    {
     "data": {
      "text/plain": [
       "15"
      ]
     },
     "execution_count": 24,
     "metadata": {},
     "output_type": "execute_result"
    }
   ],
   "source": [
    "holdout_n"
   ]
  },
  {
   "cell_type": "code",
   "execution_count": 25,
   "id": "passive-raising",
   "metadata": {},
   "outputs": [
    {
     "name": "stdout",
     "output_type": "stream",
     "text": [
      "75 15 60\n"
     ]
    }
   ],
   "source": [
    "print(total_sample_size,holdout_n,total_sample_size-holdout_n)"
   ]
  },
  {
   "cell_type": "markdown",
   "id": "presidential-theology",
   "metadata": {},
   "source": [
    "The only way to get a REALLY stable set of useable subjects, robust to even corrections to the dataset, is to make this list manually, so that's what we'll do."
   ]
  },
  {
   "cell_type": "code",
   "execution_count": 26,
   "id": "cleared-montana",
   "metadata": {},
   "outputs": [],
   "source": [
    "\n",
    "ts = datetime.datetime.now().strftime('%Y%m%dT%H%M%S')"
   ]
  },
  {
   "cell_type": "code",
   "execution_count": 27,
   "id": "graduate-surprise",
   "metadata": {},
   "outputs": [
    {
     "data": {
      "text/plain": [
       "'20211027T171101'"
      ]
     },
     "execution_count": 27,
     "metadata": {},
     "output_type": "execute_result"
    }
   ],
   "source": [
    "ts"
   ]
  },
  {
   "cell_type": "code",
   "execution_count": null,
   "id": "beautiful-training",
   "metadata": {},
   "outputs": [],
   "source": []
  },
  {
   "cell_type": "code",
   "execution_count": null,
   "id": "powerful-boxing",
   "metadata": {},
   "outputs": [],
   "source": [
    "test_train_df = pd.DataFrame({\"sub_label\":sub_labels_usable})"
   ]
  },
  {
   "cell_type": "markdown",
   "id": "affecting-healing",
   "metadata": {},
   "source": [
    "Now we get the pre-determined subjects marked as 'train' first"
   ]
  },
  {
   "cell_type": "code",
   "execution_count": null,
   "id": "genetic-regression",
   "metadata": {},
   "outputs": [],
   "source": [
    "test_train_df['SplitGroup'] = None"
   ]
  },
  {
   "cell_type": "code",
   "execution_count": null,
   "id": "periodic-barcelona",
   "metadata": {},
   "outputs": [],
   "source": [
    "for sl in test_train_df.sub_label:\n",
    "    if sl in pre_determined_training_subjs:\n",
    "        test_train_df.loc[test_train_df.sub_label==sl,'SplitGroup']='Train'\n",
    "    "
   ]
  },
  {
   "cell_type": "code",
   "execution_count": null,
   "id": "thousand-faith",
   "metadata": {},
   "outputs": [],
   "source": [
    "test_train_df.SplitGroup.value_counts()"
   ]
  },
  {
   "cell_type": "markdown",
   "id": "annual-serve",
   "metadata": {},
   "source": [
    "And _now_ we can use the order of the subjects in the randomization to select remaining subjects to allocate to the two groups. "
   ]
  },
  {
   "cell_type": "markdown",
   "id": "congressional-opportunity",
   "metadata": {},
   "source": [
    "Set a random order for the subjects to be selected from..."
   ]
  },
  {
   "cell_type": "code",
   "execution_count": null,
   "id": "center-blame",
   "metadata": {},
   "outputs": [],
   "source": [
    "unallocated_subjects = test_train_df[test_train_df.SplitGroup.isnull()].sub_label.tolist()"
   ]
  },
  {
   "cell_type": "code",
   "execution_count": null,
   "id": "placed-liechtenstein",
   "metadata": {},
   "outputs": [],
   "source": [
    "random.seed(a=1622149277.6487303)\n",
    "subj_labels_randomized = random.sample(unallocated_subjects,k=len(unallocated_subjects)) # add an extra 5 as a hold-out"
   ]
  },
  {
   "cell_type": "code",
   "execution_count": null,
   "id": "organizational-crossing",
   "metadata": {},
   "outputs": [],
   "source": [
    "holdout_subjs = subj_labels_randomized[0:holdout_n]\n"
   ]
  },
  {
   "cell_type": "code",
   "execution_count": null,
   "id": "executed-diabetes",
   "metadata": {},
   "outputs": [],
   "source": [
    "for hs in holdout_subjs:\n",
    "    test_train_df.loc[test_train_df.sub_label==hs,'SplitGroup']='Holdout'"
   ]
  },
  {
   "cell_type": "code",
   "execution_count": null,
   "id": "mental-preservation",
   "metadata": {},
   "outputs": [],
   "source": [
    "#mark the remaining subjects as for training\n",
    "test_train_df.loc[test_train_df.SplitGroup.isnull(),'SplitGroup']='Train'"
   ]
  },
  {
   "cell_type": "code",
   "execution_count": 39,
   "id": "correct-hampton",
   "metadata": {},
   "outputs": [],
   "source": [
    "test_train_df.to_csv(\"/gpfs/projects/sanlab/bsmith16/data/train_test_markers_\"+ts+\".csv\",index=False)"
   ]
  },
  {
   "cell_type": "code",
   "execution_count": 40,
   "id": "compound-teddy",
   "metadata": {},
   "outputs": [
    {
     "data": {
      "text/plain": [
       "Train      60\n",
       "Holdout    15\n",
       "Name: SplitGroup, dtype: int64"
      ]
     },
     "execution_count": 40,
     "metadata": {},
     "output_type": "execute_result"
    }
   ],
   "source": [
    "test_train_df.SplitGroup.value_counts()"
   ]
  },
  {
   "cell_type": "code",
   "execution_count": 41,
   "id": "focal-drive",
   "metadata": {},
   "outputs": [
    {
     "data": {
      "text/plain": [
       "(75, 2)"
      ]
     },
     "execution_count": 41,
     "metadata": {},
     "output_type": "execute_result"
    }
   ],
   "source": [
    "test_train_df.shape"
   ]
  },
  {
   "cell_type": "markdown",
   "id": "ranging-woman",
   "metadata": {},
   "source": [
    "# Follow-up October 2021\n",
    "\n",
    "We now want to mark out the remainder of the subjects, **regardless of whether they ahve a wtp neural dataset**. This is because:\n",
    "\n",
    "1. we're no longer doing this just for WTP\n",
    "2. we want to get more data\n",
    "\n",
    "Note that we want to maintain the previous assignments while also assigning new subjects to the train and holdout group. However we are now assigning subjects to groups of 50% test/train split."
   ]
  },
  {
   "cell_type": "code",
   "execution_count": 214,
   "id": "prescribed-anderson",
   "metadata": {},
   "outputs": [],
   "source": [
    "test_train_df_raw = pd.read_csv(ml_data_path + \"/train_test_markers_20210601T183243.csv\")"
   ]
  },
  {
   "cell_type": "code",
   "execution_count": 215,
   "id": "efficient-white",
   "metadata": {},
   "outputs": [],
   "source": [
    "test_train_df_raw['AssignedInJune']=True"
   ]
  },
  {
   "cell_type": "markdown",
   "id": "capable-enclosure",
   "metadata": {},
   "source": [
    "This time we will classify everything that has a folder in fMRIPrep."
   ]
  },
  {
   "cell_type": "code",
   "execution_count": 216,
   "id": "potential-prague",
   "metadata": {},
   "outputs": [],
   "source": [
    "import glob"
   ]
  },
  {
   "cell_type": "code",
   "execution_count": 217,
   "id": "processed-gates",
   "metadata": {},
   "outputs": [],
   "source": [
    "fmriprep_dir = '/gpfs/projects/sanlab/shared/DEV/bids_data/derivatives/fmriprep'\n",
    "\n",
    "subject_dirs_all = glob.glob(fmriprep_dir + \"/sub-DEV*/\")\n",
    "\n",
    "import re\n",
    "sub_labels_all = [(re.search(\"DEV(\\\\d\\\\d\\\\d)\",sid)[0]) for sid in subject_dirs_all]\n",
    "sub_ids_all = [(int)(re.search(\"DEV(\\\\d\\\\d\\\\d)\",sid)[1]) for sid in subject_dirs_all]\n",
    "\n",
    "sub_labels_all.sort()"
   ]
  },
  {
   "cell_type": "code",
   "execution_count": 218,
   "id": "professional-stability",
   "metadata": {},
   "outputs": [],
   "source": [
    "test_train_assignments = pd.DataFrame({'sub_label':sub_labels_all})\n",
    "test_train_assignments = pd.merge(test_train_assignments,test_train_df_raw,how='left') #merge in pre-existing assignments"
   ]
  },
  {
   "cell_type": "code",
   "execution_count": 219,
   "id": "dated-crystal",
   "metadata": {},
   "outputs": [],
   "source": [
    "test_train_assignments.AssignedInJune[test_train_assignments.AssignedInJune.isna()]=False"
   ]
  },
  {
   "cell_type": "code",
   "execution_count": 220,
   "id": "everyday-samoa",
   "metadata": {},
   "outputs": [
    {
     "name": "stdout",
     "output_type": "stream",
     "text": [
      "Train      60\n",
      "Holdout    15\n",
      "Name: SplitGroup, dtype: int64\n",
      "True     114\n",
      "False     75\n",
      "Name: SplitGroup, dtype: int64\n"
     ]
    }
   ],
   "source": [
    "print(test_train_assignments.SplitGroup.value_counts())\n",
    "print(test_train_assignments.SplitGroup.isna().value_counts())\n"
   ]
  },
  {
   "cell_type": "code",
   "execution_count": 221,
   "id": "alike-fusion",
   "metadata": {},
   "outputs": [
    {
     "data": {
      "text/html": [
       "<div>\n",
       "<style scoped>\n",
       "    .dataframe tbody tr th:only-of-type {\n",
       "        vertical-align: middle;\n",
       "    }\n",
       "\n",
       "    .dataframe tbody tr th {\n",
       "        vertical-align: top;\n",
       "    }\n",
       "\n",
       "    .dataframe thead th {\n",
       "        text-align: right;\n",
       "    }\n",
       "</style>\n",
       "<table border=\"1\" class=\"dataframe\">\n",
       "  <thead>\n",
       "    <tr style=\"text-align: right;\">\n",
       "      <th></th>\n",
       "      <th>sub_label</th>\n",
       "      <th>SplitGroup</th>\n",
       "      <th>AssignedInJune</th>\n",
       "    </tr>\n",
       "  </thead>\n",
       "  <tbody>\n",
       "    <tr>\n",
       "      <th>0</th>\n",
       "      <td>DEV001</td>\n",
       "      <td>Train</td>\n",
       "      <td>True</td>\n",
       "    </tr>\n",
       "    <tr>\n",
       "      <th>1</th>\n",
       "      <td>DEV004</td>\n",
       "      <td>Holdout</td>\n",
       "      <td>True</td>\n",
       "    </tr>\n",
       "    <tr>\n",
       "      <th>2</th>\n",
       "      <td>DEV005</td>\n",
       "      <td>Train</td>\n",
       "      <td>True</td>\n",
       "    </tr>\n",
       "    <tr>\n",
       "      <th>3</th>\n",
       "      <td>DEV006</td>\n",
       "      <td>Train</td>\n",
       "      <td>True</td>\n",
       "    </tr>\n",
       "    <tr>\n",
       "      <th>5</th>\n",
       "      <td>DEV008</td>\n",
       "      <td>Holdout</td>\n",
       "      <td>True</td>\n",
       "    </tr>\n",
       "    <tr>\n",
       "      <th>...</th>\n",
       "      <td>...</td>\n",
       "      <td>...</td>\n",
       "      <td>...</td>\n",
       "    </tr>\n",
       "    <tr>\n",
       "      <th>184</th>\n",
       "      <td>DEV221</td>\n",
       "      <td>NaN</td>\n",
       "      <td>False</td>\n",
       "    </tr>\n",
       "    <tr>\n",
       "      <th>185</th>\n",
       "      <td>DEV222</td>\n",
       "      <td>NaN</td>\n",
       "      <td>False</td>\n",
       "    </tr>\n",
       "    <tr>\n",
       "      <th>186</th>\n",
       "      <td>DEV223</td>\n",
       "      <td>NaN</td>\n",
       "      <td>False</td>\n",
       "    </tr>\n",
       "    <tr>\n",
       "      <th>187</th>\n",
       "      <td>DEV224</td>\n",
       "      <td>NaN</td>\n",
       "      <td>False</td>\n",
       "    </tr>\n",
       "    <tr>\n",
       "      <th>188</th>\n",
       "      <td>DEV225</td>\n",
       "      <td>NaN</td>\n",
       "      <td>False</td>\n",
       "    </tr>\n",
       "  </tbody>\n",
       "</table>\n",
       "<p>189 rows × 3 columns</p>\n",
       "</div>"
      ],
      "text/plain": [
       "    sub_label SplitGroup AssignedInJune\n",
       "0      DEV001      Train           True\n",
       "1      DEV004    Holdout           True\n",
       "2      DEV005      Train           True\n",
       "3      DEV006      Train           True\n",
       "5      DEV008    Holdout           True\n",
       "..        ...        ...            ...\n",
       "184    DEV221        NaN          False\n",
       "185    DEV222        NaN          False\n",
       "186    DEV223        NaN          False\n",
       "187    DEV224        NaN          False\n",
       "188    DEV225        NaN          False\n",
       "\n",
       "[189 rows x 3 columns]"
      ]
     },
     "execution_count": 221,
     "metadata": {},
     "output_type": "execute_result"
    }
   ],
   "source": [
    "#order the test train data so that the pre-assigned values come first.\n",
    "test_train_assignments.sort_values(['AssignedInJune','sub_label'],ascending=[False,True],inplace=True)\n",
    "test_train_assignments"
   ]
  },
  {
   "cell_type": "code",
   "execution_count": 222,
   "id": "consistent-syndication",
   "metadata": {},
   "outputs": [
    {
     "data": {
      "text/plain": [
       "114"
      ]
     },
     "execution_count": 222,
     "metadata": {},
     "output_type": "execute_result"
    }
   ],
   "source": [
    "unassigned_count = np.sum(test_train_assignments.SplitGroup.isna())\n",
    "unassigned_count"
   ]
  },
  {
   "cell_type": "code",
   "execution_count": 223,
   "id": "extensive-criterion",
   "metadata": {},
   "outputs": [],
   "source": [
    "unassigned_subjects = test_train_assignments.sub_label[test_train_assignments.SplitGroup.isna()]"
   ]
  },
  {
   "cell_type": "markdown",
   "id": "czech-mumbai",
   "metadata": {},
   "source": [
    "We want 50% of the TOTAL in train and 50% in test."
   ]
  },
  {
   "cell_type": "code",
   "execution_count": 224,
   "id": "seven-czech",
   "metadata": {},
   "outputs": [],
   "source": [
    "total_sample_count = test_train_assignments.shape[0]\n",
    "total_train = np.floor(total_sample_count/2).astype(int)\n",
    "total_test = total_sample_count-total_train\n",
    "remaining_train = total_train - np.sum(test_train_assignments.SplitGroup=='Train')\n",
    "remaining_test = total_test - np.sum(test_train_assignments.SplitGroup=='Holdout')"
   ]
  },
  {
   "cell_type": "code",
   "execution_count": 225,
   "id": "coordinate-scheme",
   "metadata": {},
   "outputs": [
    {
     "name": "stdout",
     "output_type": "stream",
     "text": [
      "189 94 95 34 80\n"
     ]
    }
   ],
   "source": [
    "print(total_sample_count,total_train,total_test,remaining_train,remaining_test)"
   ]
  },
  {
   "cell_type": "code",
   "execution_count": 226,
   "id": "thrown-bookmark",
   "metadata": {},
   "outputs": [],
   "source": [
    "import datetime\n",
    "#datetime.datetime.now().timestamp()\n",
    "current_timestamp = 1635381444.165102"
   ]
  },
  {
   "cell_type": "code",
   "execution_count": 227,
   "id": "electoral-letters",
   "metadata": {},
   "outputs": [],
   "source": [
    "ts = datetime.datetime.fromtimestamp(current_timestamp).strftime('%Y%m%dT%H%M%S')"
   ]
  },
  {
   "cell_type": "code",
   "execution_count": 228,
   "id": "proud-nebraska",
   "metadata": {},
   "outputs": [],
   "source": [
    "random.seed(a=1635381444.165102)"
   ]
  },
  {
   "cell_type": "markdown",
   "id": "renewable-render",
   "metadata": {},
   "source": [
    "Now, although we've set a random seed, we can't rely on this to make our analysis deterministic because it's possible the list of folders will change. therefore, the only way to be absolutely confident we don't change sets as more folders are added is to continue to recurse off old assingments and add as necessary."
   ]
  },
  {
   "cell_type": "code",
   "execution_count": 229,
   "id": "above-muslim",
   "metadata": {},
   "outputs": [],
   "source": [
    "new_train_subjects = random.sample(set(unassigned_subjects),k=remaining_train)"
   ]
  },
  {
   "cell_type": "code",
   "execution_count": 230,
   "id": "veterinary-entry",
   "metadata": {},
   "outputs": [],
   "source": [
    "test_train_assignments.SplitGroup[test_train_assignments.sub_label.isin(new_train_subjects)]='Train'"
   ]
  },
  {
   "cell_type": "code",
   "execution_count": 231,
   "id": "established-column",
   "metadata": {},
   "outputs": [],
   "source": [
    "test_train_assignments.SplitGroup[test_train_assignments.SplitGroup.isna()]='Holdout'"
   ]
  },
  {
   "cell_type": "code",
   "execution_count": 232,
   "id": "necessary-classics",
   "metadata": {},
   "outputs": [
    {
     "name": "stdout",
     "output_type": "stream",
     "text": [
      "Holdout    95\n",
      "Train      94\n",
      "Name: SplitGroup, dtype: int64\n"
     ]
    }
   ],
   "source": [
    "print(test_train_assignments.SplitGroup.value_counts())"
   ]
  },
  {
   "cell_type": "code",
   "execution_count": 233,
   "id": "wireless-cleanup",
   "metadata": {},
   "outputs": [],
   "source": [
    "raise Exception(\"this codee was only supposed to run once. don't run it again.\")\n",
    "test_train_assignments.to_csv(ml_data_path +\"/train_test_markers_\"+ts+\".csv\",index=False)"
   ]
  },
  {
   "cell_type": "code",
   "execution_count": 234,
   "id": "every-virginia",
   "metadata": {},
   "outputs": [
    {
     "data": {
      "text/plain": [
       "'/gpfs/projects/sanlab/shared/DEV/nonbids_data/fMRI/ml'"
      ]
     },
     "execution_count": 234,
     "metadata": {},
     "output_type": "execute_result"
    }
   ],
   "source": [
    "ml_data_path"
   ]
  },
  {
   "cell_type": "code",
   "execution_count": 235,
   "id": "mineral-antibody",
   "metadata": {},
   "outputs": [
    {
     "data": {
      "text/html": [
       "<div>\n",
       "<style scoped>\n",
       "    .dataframe tbody tr th:only-of-type {\n",
       "        vertical-align: middle;\n",
       "    }\n",
       "\n",
       "    .dataframe tbody tr th {\n",
       "        vertical-align: top;\n",
       "    }\n",
       "\n",
       "    .dataframe thead th {\n",
       "        text-align: right;\n",
       "    }\n",
       "</style>\n",
       "<table border=\"1\" class=\"dataframe\">\n",
       "  <thead>\n",
       "    <tr style=\"text-align: right;\">\n",
       "      <th></th>\n",
       "      <th>sub_label</th>\n",
       "      <th>SplitGroup</th>\n",
       "      <th>AssignedInJune</th>\n",
       "    </tr>\n",
       "  </thead>\n",
       "  <tbody>\n",
       "    <tr>\n",
       "      <th>0</th>\n",
       "      <td>DEV001</td>\n",
       "      <td>Train</td>\n",
       "      <td>True</td>\n",
       "    </tr>\n",
       "    <tr>\n",
       "      <th>1</th>\n",
       "      <td>DEV004</td>\n",
       "      <td>Holdout</td>\n",
       "      <td>True</td>\n",
       "    </tr>\n",
       "    <tr>\n",
       "      <th>2</th>\n",
       "      <td>DEV005</td>\n",
       "      <td>Train</td>\n",
       "      <td>True</td>\n",
       "    </tr>\n",
       "    <tr>\n",
       "      <th>3</th>\n",
       "      <td>DEV006</td>\n",
       "      <td>Train</td>\n",
       "      <td>True</td>\n",
       "    </tr>\n",
       "    <tr>\n",
       "      <th>5</th>\n",
       "      <td>DEV008</td>\n",
       "      <td>Holdout</td>\n",
       "      <td>True</td>\n",
       "    </tr>\n",
       "    <tr>\n",
       "      <th>...</th>\n",
       "      <td>...</td>\n",
       "      <td>...</td>\n",
       "      <td>...</td>\n",
       "    </tr>\n",
       "    <tr>\n",
       "      <th>184</th>\n",
       "      <td>DEV221</td>\n",
       "      <td>Train</td>\n",
       "      <td>False</td>\n",
       "    </tr>\n",
       "    <tr>\n",
       "      <th>185</th>\n",
       "      <td>DEV222</td>\n",
       "      <td>Holdout</td>\n",
       "      <td>False</td>\n",
       "    </tr>\n",
       "    <tr>\n",
       "      <th>186</th>\n",
       "      <td>DEV223</td>\n",
       "      <td>Holdout</td>\n",
       "      <td>False</td>\n",
       "    </tr>\n",
       "    <tr>\n",
       "      <th>187</th>\n",
       "      <td>DEV224</td>\n",
       "      <td>Holdout</td>\n",
       "      <td>False</td>\n",
       "    </tr>\n",
       "    <tr>\n",
       "      <th>188</th>\n",
       "      <td>DEV225</td>\n",
       "      <td>Holdout</td>\n",
       "      <td>False</td>\n",
       "    </tr>\n",
       "  </tbody>\n",
       "</table>\n",
       "<p>189 rows × 3 columns</p>\n",
       "</div>"
      ],
      "text/plain": [
       "    sub_label SplitGroup AssignedInJune\n",
       "0      DEV001      Train           True\n",
       "1      DEV004    Holdout           True\n",
       "2      DEV005      Train           True\n",
       "3      DEV006      Train           True\n",
       "5      DEV008    Holdout           True\n",
       "..        ...        ...            ...\n",
       "184    DEV221      Train          False\n",
       "185    DEV222    Holdout          False\n",
       "186    DEV223    Holdout          False\n",
       "187    DEV224    Holdout          False\n",
       "188    DEV225    Holdout          False\n",
       "\n",
       "[189 rows x 3 columns]"
      ]
     },
     "execution_count": 235,
     "metadata": {},
     "output_type": "execute_result"
    }
   ],
   "source": [
    "test_train_assignments"
   ]
  },
  {
   "cell_type": "markdown",
   "id": "innovative-avenue",
   "metadata": {},
   "source": [
    "# Follow-up August 2022"
   ]
  },
  {
   "cell_type": "code",
   "execution_count": 177,
   "id": "united-confusion",
   "metadata": {},
   "outputs": [],
   "source": [
    "import pandas as pd\n",
    "import glob\n",
    "import numpy as np\n",
    "import random"
   ]
  },
  {
   "cell_type": "code",
   "execution_count": 178,
   "id": "narrative-graduation",
   "metadata": {},
   "outputs": [],
   "source": [
    "last_test_train_split = pd.read_csv(\n",
    "    \"/gpfs/projects/sanlab/shared/DEV/nonbids_data/fMRI/ml/train_test_markers_20211027T173724.csv\"\n",
    ")\n",
    "test_train_df_raw = last_test_train_split"
   ]
  },
  {
   "cell_type": "code",
   "execution_count": 179,
   "id": "official-front",
   "metadata": {},
   "outputs": [
    {
     "data": {
      "text/html": [
       "<div>\n",
       "<style scoped>\n",
       "    .dataframe tbody tr th:only-of-type {\n",
       "        vertical-align: middle;\n",
       "    }\n",
       "\n",
       "    .dataframe tbody tr th {\n",
       "        vertical-align: top;\n",
       "    }\n",
       "\n",
       "    .dataframe thead th {\n",
       "        text-align: right;\n",
       "    }\n",
       "</style>\n",
       "<table border=\"1\" class=\"dataframe\">\n",
       "  <thead>\n",
       "    <tr style=\"text-align: right;\">\n",
       "      <th></th>\n",
       "      <th>sub_label</th>\n",
       "      <th>SplitGroup</th>\n",
       "      <th>AssignedInJune</th>\n",
       "    </tr>\n",
       "  </thead>\n",
       "  <tbody>\n",
       "    <tr>\n",
       "      <th>0</th>\n",
       "      <td>DEV001</td>\n",
       "      <td>Train</td>\n",
       "      <td>True</td>\n",
       "    </tr>\n",
       "    <tr>\n",
       "      <th>1</th>\n",
       "      <td>DEV004</td>\n",
       "      <td>Holdout</td>\n",
       "      <td>True</td>\n",
       "    </tr>\n",
       "    <tr>\n",
       "      <th>2</th>\n",
       "      <td>DEV005</td>\n",
       "      <td>Train</td>\n",
       "      <td>True</td>\n",
       "    </tr>\n",
       "    <tr>\n",
       "      <th>3</th>\n",
       "      <td>DEV006</td>\n",
       "      <td>Train</td>\n",
       "      <td>True</td>\n",
       "    </tr>\n",
       "    <tr>\n",
       "      <th>4</th>\n",
       "      <td>DEV008</td>\n",
       "      <td>Holdout</td>\n",
       "      <td>True</td>\n",
       "    </tr>\n",
       "    <tr>\n",
       "      <th>...</th>\n",
       "      <td>...</td>\n",
       "      <td>...</td>\n",
       "      <td>...</td>\n",
       "    </tr>\n",
       "    <tr>\n",
       "      <th>184</th>\n",
       "      <td>DEV221</td>\n",
       "      <td>Train</td>\n",
       "      <td>False</td>\n",
       "    </tr>\n",
       "    <tr>\n",
       "      <th>185</th>\n",
       "      <td>DEV222</td>\n",
       "      <td>Holdout</td>\n",
       "      <td>False</td>\n",
       "    </tr>\n",
       "    <tr>\n",
       "      <th>186</th>\n",
       "      <td>DEV223</td>\n",
       "      <td>Holdout</td>\n",
       "      <td>False</td>\n",
       "    </tr>\n",
       "    <tr>\n",
       "      <th>187</th>\n",
       "      <td>DEV224</td>\n",
       "      <td>Holdout</td>\n",
       "      <td>False</td>\n",
       "    </tr>\n",
       "    <tr>\n",
       "      <th>188</th>\n",
       "      <td>DEV225</td>\n",
       "      <td>Holdout</td>\n",
       "      <td>False</td>\n",
       "    </tr>\n",
       "  </tbody>\n",
       "</table>\n",
       "<p>189 rows × 3 columns</p>\n",
       "</div>"
      ],
      "text/plain": [
       "    sub_label SplitGroup  AssignedInJune\n",
       "0      DEV001      Train            True\n",
       "1      DEV004    Holdout            True\n",
       "2      DEV005      Train            True\n",
       "3      DEV006      Train            True\n",
       "4      DEV008    Holdout            True\n",
       "..        ...        ...             ...\n",
       "184    DEV221      Train           False\n",
       "185    DEV222    Holdout           False\n",
       "186    DEV223    Holdout           False\n",
       "187    DEV224    Holdout           False\n",
       "188    DEV225    Holdout           False\n",
       "\n",
       "[189 rows x 3 columns]"
      ]
     },
     "execution_count": 179,
     "metadata": {},
     "output_type": "execute_result"
    }
   ],
   "source": [
    "last_test_train_split"
   ]
  },
  {
   "cell_type": "code",
   "execution_count": 180,
   "id": "posted-spring",
   "metadata": {},
   "outputs": [],
   "source": [
    "fmriprep_dir = '/gpfs/projects/sanlab/shared/DEV/bids_data/derivatives/fmriprep'\n",
    "\n",
    "subject_dirs_all = glob.glob(fmriprep_dir + \"/sub-DEV*/\")\n",
    "\n",
    "import re\n",
    "sub_labels_all = [(re.search(\"DEV(\\\\d\\\\d\\\\d)\",sid)[0]) for sid in subject_dirs_all]\n",
    "sub_ids_all = [(int)(re.search(\"DEV(\\\\d\\\\d\\\\d)\",sid)[1]) for sid in subject_dirs_all]\n",
    "\n",
    "sub_labels_all.sort()"
   ]
  },
  {
   "cell_type": "code",
   "execution_count": 181,
   "id": "civilian-playback",
   "metadata": {},
   "outputs": [],
   "source": [
    "test_train_assignments = pd.DataFrame({'sub_label':sub_labels_all})\n",
    "test_train_assignments = pd.merge(test_train_assignments,test_train_df_raw,how='left') #merge in pre-existing assignments"
   ]
  },
  {
   "cell_type": "code",
   "execution_count": 182,
   "id": "first-merchant",
   "metadata": {},
   "outputs": [],
   "source": [
    "test_train_assignments[\"Assigned\"] = \"\"\n",
    "test_train_assignments[\"Assigned\"][test_train_assignments[\"AssignedInJune\"]==True]=\"June\"\n",
    "test_train_assignments[\"Assigned\"][test_train_assignments[\"AssignedInJune\"]==False]=\"October2021\""
   ]
  },
  {
   "cell_type": "code",
   "execution_count": 183,
   "id": "average-playing",
   "metadata": {},
   "outputs": [],
   "source": [
    "test_train_assignments['AlreadyAssigned']=test_train_assignments[\"Assigned\"]!=\"\""
   ]
  },
  {
   "cell_type": "code",
   "execution_count": 184,
   "id": "funded-holocaust",
   "metadata": {},
   "outputs": [
    {
     "data": {
      "text/plain": [
       "October2021    114\n",
       "June            75\n",
       "                58\n",
       "Name: Assigned, dtype: int64"
      ]
     },
     "execution_count": 184,
     "metadata": {},
     "output_type": "execute_result"
    }
   ],
   "source": [
    "test_train_assignments.Assigned.value_counts()"
   ]
  },
  {
   "cell_type": "code",
   "execution_count": 185,
   "id": "parental-disease",
   "metadata": {},
   "outputs": [
    {
     "data": {
      "text/plain": [
       "0      DEV001\n",
       "1      DEV004\n",
       "2      DEV005\n",
       "3      DEV006\n",
       "4      DEV007\n",
       "        ...  \n",
       "242    DEV285\n",
       "243    DEV286\n",
       "244    DEV290\n",
       "245    DEV291\n",
       "246    DEV293\n",
       "Name: sub_label, Length: 247, dtype: object"
      ]
     },
     "execution_count": 185,
     "metadata": {},
     "output_type": "execute_result"
    }
   ],
   "source": [
    "test_train_assignments.sub_label.sort_values()"
   ]
  },
  {
   "cell_type": "code",
   "execution_count": 186,
   "id": "numeric-envelope",
   "metadata": {},
   "outputs": [],
   "source": [
    "#order the test train data so that the pre-assigned values come first.\n",
    "test_train_assignments.sort_values(['AlreadyAssigned','sub_label'],ascending=[False,True],inplace=True)"
   ]
  },
  {
   "cell_type": "code",
   "execution_count": 187,
   "id": "uniform-combine",
   "metadata": {},
   "outputs": [
    {
     "data": {
      "text/plain": [
       "58"
      ]
     },
     "execution_count": 187,
     "metadata": {},
     "output_type": "execute_result"
    }
   ],
   "source": [
    "unassigned_count = np.sum(test_train_assignments.SplitGroup.isna())\n",
    "unassigned_count"
   ]
  },
  {
   "cell_type": "code",
   "execution_count": 188,
   "id": "japanese-bleeding",
   "metadata": {},
   "outputs": [],
   "source": [
    "unassigned_subjects = test_train_assignments.sub_label[test_train_assignments.SplitGroup.isna()]\n",
    "\n",
    "\n",
    "\n"
   ]
  },
  {
   "cell_type": "code",
   "execution_count": 189,
   "id": "featured-canberra",
   "metadata": {},
   "outputs": [],
   "source": [
    "total_sample_count = test_train_assignments.shape[0]\n",
    "total_train = np.floor(total_sample_count/2).astype(int)\n",
    "total_test = total_sample_count-total_train\n",
    "remaining_train = total_train - np.sum(test_train_assignments.SplitGroup=='Train')\n",
    "remaining_test = total_test - np.sum(test_train_assignments.SplitGroup=='Holdout')"
   ]
  },
  {
   "cell_type": "code",
   "execution_count": 190,
   "id": "blank-stamp",
   "metadata": {},
   "outputs": [
    {
     "name": "stdout",
     "output_type": "stream",
     "text": [
      "247 123 124 29 29\n"
     ]
    }
   ],
   "source": [
    "print(total_sample_count,total_train,total_test,remaining_train,remaining_test)"
   ]
  },
  {
   "cell_type": "code",
   "execution_count": 191,
   "id": "durable-string",
   "metadata": {},
   "outputs": [],
   "source": [
    "import datetime\n",
    "#datetime.datetime.now().timestamp()\n",
    "current_timestamp = 1660858898.370087"
   ]
  },
  {
   "cell_type": "code",
   "execution_count": 192,
   "id": "veterinary-eugene",
   "metadata": {},
   "outputs": [],
   "source": [
    "ts = datetime.datetime.fromtimestamp(current_timestamp).strftime('%Y%m%dT%H%M%S')"
   ]
  },
  {
   "cell_type": "code",
   "execution_count": 193,
   "id": "virgin-program",
   "metadata": {},
   "outputs": [],
   "source": [
    "random.seed(a=current_timestamp)"
   ]
  },
  {
   "cell_type": "code",
   "execution_count": 194,
   "id": "continuing-arabic",
   "metadata": {},
   "outputs": [
    {
     "name": "stdout",
     "output_type": "stream",
     "text": [
      "Holdout    124\n",
      "Train      123\n",
      "Name: SplitGroup, dtype: int64\n"
     ]
    }
   ],
   "source": [
    "new_train_subjects = random.sample(set(unassigned_subjects),k=remaining_train)\n",
    "test_train_assignments.loc[test_train_assignments.sub_label.isin(new_train_subjects),\"SplitGroup\"]='Train'\n",
    "test_train_assignments.loc[test_train_assignments.SplitGroup.isna(),\"SplitGroup\"]='Holdout'\n",
    "print(test_train_assignments.SplitGroup.value_counts())"
   ]
  },
  {
   "cell_type": "code",
   "execution_count": 195,
   "id": "romance-gender",
   "metadata": {},
   "outputs": [],
   "source": [
    "test_train_assignments.loc[test_train_assignments.Assigned=='',\"Assigned\"]=\"August2022\""
   ]
  },
  {
   "cell_type": "code",
   "execution_count": 196,
   "id": "dirty-proposal",
   "metadata": {},
   "outputs": [],
   "source": [
    "test_train_assignments.drop(columns='AlreadyAssigned',inplace=True)\n",
    "test_train_assignments.drop(columns='AssignedInJune',inplace=True)"
   ]
  },
  {
   "cell_type": "code",
   "execution_count": 197,
   "id": "whole-waterproof",
   "metadata": {},
   "outputs": [
    {
     "data": {
      "text/plain": [
       "'/gpfs/projects/sanlab/shared/DEV/nonbids_data/fMRI/ml'"
      ]
     },
     "execution_count": 197,
     "metadata": {},
     "output_type": "execute_result"
    }
   ],
   "source": [
    "ml_data_path"
   ]
  },
  {
   "cell_type": "code",
   "execution_count": 198,
   "id": "ambient-crack",
   "metadata": {},
   "outputs": [
    {
     "data": {
      "text/html": [
       "<div>\n",
       "<style scoped>\n",
       "    .dataframe tbody tr th:only-of-type {\n",
       "        vertical-align: middle;\n",
       "    }\n",
       "\n",
       "    .dataframe tbody tr th {\n",
       "        vertical-align: top;\n",
       "    }\n",
       "\n",
       "    .dataframe thead th {\n",
       "        text-align: right;\n",
       "    }\n",
       "</style>\n",
       "<table border=\"1\" class=\"dataframe\">\n",
       "  <thead>\n",
       "    <tr style=\"text-align: right;\">\n",
       "      <th></th>\n",
       "      <th>sub_label</th>\n",
       "      <th>SplitGroup</th>\n",
       "      <th>Assigned</th>\n",
       "    </tr>\n",
       "  </thead>\n",
       "  <tbody>\n",
       "    <tr>\n",
       "      <th>0</th>\n",
       "      <td>DEV001</td>\n",
       "      <td>Train</td>\n",
       "      <td>June</td>\n",
       "    </tr>\n",
       "    <tr>\n",
       "      <th>1</th>\n",
       "      <td>DEV004</td>\n",
       "      <td>Holdout</td>\n",
       "      <td>June</td>\n",
       "    </tr>\n",
       "    <tr>\n",
       "      <th>2</th>\n",
       "      <td>DEV005</td>\n",
       "      <td>Train</td>\n",
       "      <td>June</td>\n",
       "    </tr>\n",
       "    <tr>\n",
       "      <th>3</th>\n",
       "      <td>DEV006</td>\n",
       "      <td>Train</td>\n",
       "      <td>June</td>\n",
       "    </tr>\n",
       "    <tr>\n",
       "      <th>4</th>\n",
       "      <td>DEV007</td>\n",
       "      <td>Holdout</td>\n",
       "      <td>October2021</td>\n",
       "    </tr>\n",
       "    <tr>\n",
       "      <th>...</th>\n",
       "      <td>...</td>\n",
       "      <td>...</td>\n",
       "      <td>...</td>\n",
       "    </tr>\n",
       "    <tr>\n",
       "      <th>242</th>\n",
       "      <td>DEV285</td>\n",
       "      <td>Holdout</td>\n",
       "      <td>August2022</td>\n",
       "    </tr>\n",
       "    <tr>\n",
       "      <th>243</th>\n",
       "      <td>DEV286</td>\n",
       "      <td>Holdout</td>\n",
       "      <td>August2022</td>\n",
       "    </tr>\n",
       "    <tr>\n",
       "      <th>244</th>\n",
       "      <td>DEV290</td>\n",
       "      <td>Train</td>\n",
       "      <td>August2022</td>\n",
       "    </tr>\n",
       "    <tr>\n",
       "      <th>245</th>\n",
       "      <td>DEV291</td>\n",
       "      <td>Train</td>\n",
       "      <td>August2022</td>\n",
       "    </tr>\n",
       "    <tr>\n",
       "      <th>246</th>\n",
       "      <td>DEV293</td>\n",
       "      <td>Holdout</td>\n",
       "      <td>August2022</td>\n",
       "    </tr>\n",
       "  </tbody>\n",
       "</table>\n",
       "<p>247 rows × 3 columns</p>\n",
       "</div>"
      ],
      "text/plain": [
       "    sub_label SplitGroup     Assigned\n",
       "0      DEV001      Train         June\n",
       "1      DEV004    Holdout         June\n",
       "2      DEV005      Train         June\n",
       "3      DEV006      Train         June\n",
       "4      DEV007    Holdout  October2021\n",
       "..        ...        ...          ...\n",
       "242    DEV285    Holdout   August2022\n",
       "243    DEV286    Holdout   August2022\n",
       "244    DEV290      Train   August2022\n",
       "245    DEV291      Train   August2022\n",
       "246    DEV293    Holdout   August2022\n",
       "\n",
       "[247 rows x 3 columns]"
      ]
     },
     "execution_count": 198,
     "metadata": {},
     "output_type": "execute_result"
    }
   ],
   "source": [
    "test_train_assignments"
   ]
  },
  {
   "cell_type": "code",
   "execution_count": 199,
   "id": "alive-preparation",
   "metadata": {},
   "outputs": [
    {
     "data": {
      "text/html": [
       "<div>\n",
       "<style scoped>\n",
       "    .dataframe tbody tr th:only-of-type {\n",
       "        vertical-align: middle;\n",
       "    }\n",
       "\n",
       "    .dataframe tbody tr th {\n",
       "        vertical-align: top;\n",
       "    }\n",
       "\n",
       "    .dataframe thead th {\n",
       "        text-align: right;\n",
       "    }\n",
       "</style>\n",
       "<table border=\"1\" class=\"dataframe\">\n",
       "  <thead>\n",
       "    <tr style=\"text-align: right;\">\n",
       "      <th></th>\n",
       "      <th></th>\n",
       "      <th>sub_label</th>\n",
       "    </tr>\n",
       "    <tr>\n",
       "      <th>Assigned</th>\n",
       "      <th>SplitGroup</th>\n",
       "      <th></th>\n",
       "    </tr>\n",
       "  </thead>\n",
       "  <tbody>\n",
       "    <tr>\n",
       "      <th rowspan=\"2\" valign=\"top\">August2022</th>\n",
       "      <th>Holdout</th>\n",
       "      <td>29</td>\n",
       "    </tr>\n",
       "    <tr>\n",
       "      <th>Train</th>\n",
       "      <td>29</td>\n",
       "    </tr>\n",
       "    <tr>\n",
       "      <th rowspan=\"2\" valign=\"top\">June</th>\n",
       "      <th>Holdout</th>\n",
       "      <td>15</td>\n",
       "    </tr>\n",
       "    <tr>\n",
       "      <th>Train</th>\n",
       "      <td>60</td>\n",
       "    </tr>\n",
       "    <tr>\n",
       "      <th rowspan=\"2\" valign=\"top\">October2021</th>\n",
       "      <th>Holdout</th>\n",
       "      <td>80</td>\n",
       "    </tr>\n",
       "    <tr>\n",
       "      <th>Train</th>\n",
       "      <td>34</td>\n",
       "    </tr>\n",
       "  </tbody>\n",
       "</table>\n",
       "</div>"
      ],
      "text/plain": [
       "                        sub_label\n",
       "Assigned    SplitGroup           \n",
       "August2022  Holdout            29\n",
       "            Train              29\n",
       "June        Holdout            15\n",
       "            Train              60\n",
       "October2021 Holdout            80\n",
       "            Train              34"
      ]
     },
     "execution_count": 199,
     "metadata": {},
     "output_type": "execute_result"
    }
   ],
   "source": [
    "test_train_assignments.groupby(['Assigned','SplitGroup']).count()"
   ]
  },
  {
   "cell_type": "code",
   "execution_count": 200,
   "id": "third-acquisition",
   "metadata": {},
   "outputs": [
    {
     "data": {
      "text/html": [
       "<div>\n",
       "<style scoped>\n",
       "    .dataframe tbody tr th:only-of-type {\n",
       "        vertical-align: middle;\n",
       "    }\n",
       "\n",
       "    .dataframe tbody tr th {\n",
       "        vertical-align: top;\n",
       "    }\n",
       "\n",
       "    .dataframe thead th {\n",
       "        text-align: right;\n",
       "    }\n",
       "</style>\n",
       "<table border=\"1\" class=\"dataframe\">\n",
       "  <thead>\n",
       "    <tr style=\"text-align: right;\">\n",
       "      <th></th>\n",
       "      <th>sub_label</th>\n",
       "      <th>Assigned</th>\n",
       "    </tr>\n",
       "    <tr>\n",
       "      <th>SplitGroup</th>\n",
       "      <th></th>\n",
       "      <th></th>\n",
       "    </tr>\n",
       "  </thead>\n",
       "  <tbody>\n",
       "    <tr>\n",
       "      <th>Holdout</th>\n",
       "      <td>124</td>\n",
       "      <td>124</td>\n",
       "    </tr>\n",
       "    <tr>\n",
       "      <th>Train</th>\n",
       "      <td>123</td>\n",
       "      <td>123</td>\n",
       "    </tr>\n",
       "  </tbody>\n",
       "</table>\n",
       "</div>"
      ],
      "text/plain": [
       "            sub_label  Assigned\n",
       "SplitGroup                     \n",
       "Holdout           124       124\n",
       "Train             123       123"
      ]
     },
     "execution_count": 200,
     "metadata": {},
     "output_type": "execute_result"
    }
   ],
   "source": [
    "test_train_assignments.groupby(['SplitGroup']).count()"
   ]
  },
  {
   "cell_type": "markdown",
   "id": "powerful-original",
   "metadata": {},
   "source": [
    "Let's also create a 75/25 split because for some applications we don't necessarily need 50% of the subjects in holdout. So we'll assign all the previously trained subjects to train, but grab an extra 50% of the holdout data which will leave 25% for holdout."
   ]
  },
  {
   "cell_type": "code",
   "execution_count": 201,
   "id": "precious-virginia",
   "metadata": {},
   "outputs": [],
   "source": [
    "test_train_assignments['SplitGroup_75_25'] = test_train_assignments.SplitGroup"
   ]
  },
  {
   "cell_type": "code",
   "execution_count": 202,
   "id": "demonstrated-walnut",
   "metadata": {},
   "outputs": [],
   "source": [
    "holdout_subjs = test_train_assignments.sub_label[test_train_assignments.SplitGroup==\"Holdout\"]"
   ]
  },
  {
   "cell_type": "code",
   "execution_count": 203,
   "id": "desirable-vegetarian",
   "metadata": {},
   "outputs": [],
   "source": [
    "num_holdouts_to_include_in_75pc_train_group = int(len(holdout_subjs)*0.5)"
   ]
  },
  {
   "cell_type": "code",
   "execution_count": 204,
   "id": "annoying-belarus",
   "metadata": {},
   "outputs": [
    {
     "data": {
      "text/plain": [
       "62"
      ]
     },
     "execution_count": 204,
     "metadata": {},
     "output_type": "execute_result"
    }
   ],
   "source": [
    "num_holdouts_to_include_in_75pc_train_group"
   ]
  },
  {
   "cell_type": "code",
   "execution_count": 205,
   "id": "parliamentary-violation",
   "metadata": {},
   "outputs": [],
   "source": [
    "import datetime\n",
    "#datetime.datetime.now().timestamp()\n",
    "current_timestamp = 1660861394.946063\n",
    "random.seed(a=current_timestamp)\n",
    "\n",
    "new_train_subjects_75pc = random.sample(set(holdout_subjs),k=num_holdouts_to_include_in_75pc_train_group)"
   ]
  },
  {
   "cell_type": "code",
   "execution_count": 206,
   "id": "italian-family",
   "metadata": {},
   "outputs": [],
   "source": [
    "test_train_assignments.loc[test_train_assignments.sub_label.isin(new_train_subjects_75pc),\n",
    "                           \"SplitGroup_75_25\"]='Train'\n",
    "\n"
   ]
  },
  {
   "cell_type": "code",
   "execution_count": 207,
   "id": "fifty-field",
   "metadata": {},
   "outputs": [
    {
     "data": {
      "text/plain": [
       "Train      185\n",
       "Holdout     62\n",
       "Name: SplitGroup_75_25, dtype: int64"
      ]
     },
     "execution_count": 207,
     "metadata": {},
     "output_type": "execute_result"
    }
   ],
   "source": [
    "test_train_assignments.SplitGroup_75_25.value_counts()"
   ]
  },
  {
   "cell_type": "code",
   "execution_count": 208,
   "id": "experienced-morrison",
   "metadata": {},
   "outputs": [
    {
     "data": {
      "text/html": [
       "<div>\n",
       "<style scoped>\n",
       "    .dataframe tbody tr th:only-of-type {\n",
       "        vertical-align: middle;\n",
       "    }\n",
       "\n",
       "    .dataframe tbody tr th {\n",
       "        vertical-align: top;\n",
       "    }\n",
       "\n",
       "    .dataframe thead th {\n",
       "        text-align: right;\n",
       "    }\n",
       "</style>\n",
       "<table border=\"1\" class=\"dataframe\">\n",
       "  <thead>\n",
       "    <tr style=\"text-align: right;\">\n",
       "      <th></th>\n",
       "      <th>sub_label</th>\n",
       "      <th>SplitGroup</th>\n",
       "      <th>Assigned</th>\n",
       "      <th>SplitGroup_75_25</th>\n",
       "    </tr>\n",
       "  </thead>\n",
       "  <tbody>\n",
       "    <tr>\n",
       "      <th>0</th>\n",
       "      <td>DEV001</td>\n",
       "      <td>Train</td>\n",
       "      <td>June</td>\n",
       "      <td>Train</td>\n",
       "    </tr>\n",
       "    <tr>\n",
       "      <th>1</th>\n",
       "      <td>DEV004</td>\n",
       "      <td>Holdout</td>\n",
       "      <td>June</td>\n",
       "      <td>Holdout</td>\n",
       "    </tr>\n",
       "    <tr>\n",
       "      <th>2</th>\n",
       "      <td>DEV005</td>\n",
       "      <td>Train</td>\n",
       "      <td>June</td>\n",
       "      <td>Train</td>\n",
       "    </tr>\n",
       "    <tr>\n",
       "      <th>3</th>\n",
       "      <td>DEV006</td>\n",
       "      <td>Train</td>\n",
       "      <td>June</td>\n",
       "      <td>Train</td>\n",
       "    </tr>\n",
       "    <tr>\n",
       "      <th>4</th>\n",
       "      <td>DEV007</td>\n",
       "      <td>Holdout</td>\n",
       "      <td>October2021</td>\n",
       "      <td>Train</td>\n",
       "    </tr>\n",
       "    <tr>\n",
       "      <th>...</th>\n",
       "      <td>...</td>\n",
       "      <td>...</td>\n",
       "      <td>...</td>\n",
       "      <td>...</td>\n",
       "    </tr>\n",
       "    <tr>\n",
       "      <th>242</th>\n",
       "      <td>DEV285</td>\n",
       "      <td>Holdout</td>\n",
       "      <td>August2022</td>\n",
       "      <td>Holdout</td>\n",
       "    </tr>\n",
       "    <tr>\n",
       "      <th>243</th>\n",
       "      <td>DEV286</td>\n",
       "      <td>Holdout</td>\n",
       "      <td>August2022</td>\n",
       "      <td>Train</td>\n",
       "    </tr>\n",
       "    <tr>\n",
       "      <th>244</th>\n",
       "      <td>DEV290</td>\n",
       "      <td>Train</td>\n",
       "      <td>August2022</td>\n",
       "      <td>Train</td>\n",
       "    </tr>\n",
       "    <tr>\n",
       "      <th>245</th>\n",
       "      <td>DEV291</td>\n",
       "      <td>Train</td>\n",
       "      <td>August2022</td>\n",
       "      <td>Train</td>\n",
       "    </tr>\n",
       "    <tr>\n",
       "      <th>246</th>\n",
       "      <td>DEV293</td>\n",
       "      <td>Holdout</td>\n",
       "      <td>August2022</td>\n",
       "      <td>Train</td>\n",
       "    </tr>\n",
       "  </tbody>\n",
       "</table>\n",
       "<p>247 rows × 4 columns</p>\n",
       "</div>"
      ],
      "text/plain": [
       "    sub_label SplitGroup     Assigned SplitGroup_75_25\n",
       "0      DEV001      Train         June            Train\n",
       "1      DEV004    Holdout         June          Holdout\n",
       "2      DEV005      Train         June            Train\n",
       "3      DEV006      Train         June            Train\n",
       "4      DEV007    Holdout  October2021            Train\n",
       "..        ...        ...          ...              ...\n",
       "242    DEV285    Holdout   August2022          Holdout\n",
       "243    DEV286    Holdout   August2022            Train\n",
       "244    DEV290      Train   August2022            Train\n",
       "245    DEV291      Train   August2022            Train\n",
       "246    DEV293    Holdout   August2022            Train\n",
       "\n",
       "[247 rows x 4 columns]"
      ]
     },
     "execution_count": 208,
     "metadata": {},
     "output_type": "execute_result"
    }
   ],
   "source": [
    "test_train_assignments"
   ]
  },
  {
   "cell_type": "code",
   "execution_count": 209,
   "id": "major-draft",
   "metadata": {},
   "outputs": [
    {
     "data": {
      "text/plain": [
       "0.25101214574898784"
      ]
     },
     "execution_count": 209,
     "metadata": {},
     "output_type": "execute_result"
    }
   ],
   "source": [
    "62/(185+62)"
   ]
  },
  {
   "cell_type": "code",
   "execution_count": 211,
   "id": "lasting-doubt",
   "metadata": {},
   "outputs": [
    {
     "ename": "Exception",
     "evalue": "this codee was only supposed to run once. don't run it again.",
     "output_type": "error",
     "traceback": [
      "\u001b[0;31m---------------------------------------------------------------------------\u001b[0m",
      "\u001b[0;31mException\u001b[0m                                 Traceback (most recent call last)",
      "\u001b[0;32m<ipython-input-211-1937b33b823d>\u001b[0m in \u001b[0;36m<module>\u001b[0;34m\u001b[0m\n\u001b[0;32m----> 1\u001b[0;31m \u001b[0;32mraise\u001b[0m \u001b[0mException\u001b[0m\u001b[0;34m(\u001b[0m\u001b[0;34m\"this codee was only supposed to run once. don't run it again.\"\u001b[0m\u001b[0;34m)\u001b[0m\u001b[0;34m\u001b[0m\u001b[0;34m\u001b[0m\u001b[0m\n\u001b[0m\u001b[1;32m      2\u001b[0m \u001b[0mtest_train_assignments\u001b[0m\u001b[0;34m.\u001b[0m\u001b[0mto_csv\u001b[0m\u001b[0;34m(\u001b[0m\u001b[0mml_data_path\u001b[0m \u001b[0;34m+\u001b[0m\u001b[0;34m\"/train_test_markers_\"\u001b[0m\u001b[0;34m+\u001b[0m\u001b[0mts\u001b[0m\u001b[0;34m+\u001b[0m\u001b[0;34m\".csv\"\u001b[0m\u001b[0;34m,\u001b[0m\u001b[0mindex\u001b[0m\u001b[0;34m=\u001b[0m\u001b[0;32mFalse\u001b[0m\u001b[0;34m)\u001b[0m\u001b[0;34m\u001b[0m\u001b[0;34m\u001b[0m\u001b[0m\n",
      "\u001b[0;31mException\u001b[0m: this codee was only supposed to run once. don't run it again."
     ]
    }
   ],
   "source": [
    "raise Exception(\"this codee was only supposed to run once. don't run it again.\")\n",
    "test_train_assignments.to_csv(ml_data_path +\"/train_test_markers_\"+ts+\".csv\",index=False)"
   ]
  },
  {
   "cell_type": "markdown",
   "id": "generous-indiana",
   "metadata": {},
   "source": [
    "The 80/20 split is a bit small, less than 40 subjects once you do data cleaning. Let's do a 75/25 split too."
   ]
  },
  {
   "cell_type": "code",
   "execution_count": null,
   "id": "specified-fisher",
   "metadata": {},
   "outputs": [],
   "source": []
  }
 ],
 "metadata": {
  "kernelspec": {
   "display_name": "Python 3 (ipykernel)",
   "language": "python",
   "name": "python3"
  },
  "language_info": {
   "codemirror_mode": {
    "name": "ipython",
    "version": 3
   },
   "file_extension": ".py",
   "mimetype": "text/x-python",
   "name": "python",
   "nbconvert_exporter": "python",
   "pygments_lexer": "ipython3",
   "version": "3.9.7"
  }
 },
 "nbformat": 4,
 "nbformat_minor": 5
}
