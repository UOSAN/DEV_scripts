{
 "cells": [
  {
   "cell_type": "code",
   "execution_count": null,
   "id": "duplicate-invention",
   "metadata": {},
   "outputs": [],
   "source": [
    "# from SST.classify_trialwise_gng_sklearn import main\n",
    "\n",
    "# res = main('/SST/Brain_Data_betaseries_nos_6subs_correct_cond_pfc.pkl')"
   ]
  },
  {
   "attachments": {},
   "cell_type": "markdown",
   "id": "dd3a2b73",
   "metadata": {},
   "source": [
    "# Trial-wise"
   ]
  },
  {
   "attachments": {},
   "cell_type": "markdown",
   "id": "a580486d",
   "metadata": {},
   "source": [
    "PFC, trial-wise"
   ]
  },
  {
   "cell_type": "code",
   "execution_count": 3,
   "id": "quiet-class",
   "metadata": {},
   "outputs": [
    {
     "name": "stderr",
     "output_type": "stream",
     "text": [
      "/Users/benjaminsmith/Google Drive/oregon/code/DEV_scripts/fMRI/ml/SST/classify_trialwise_gng_sklearn.py:64: UserWarning: not sure if this file holds up--it was created in 2021; need to see if it's still valid\n",
      "  warnings.warn(\"not sure if this file holds up--it was created in 2021; need to see if it's still valid\")\n"
     ]
    },
    {
     "name": "stdout",
     "output_type": "stream",
     "text": [
      "checked for intersection and no intersection between the brain data and the subjects was found.\n",
      "there were 30 subjects overlapping between the subjects marked for train data and the training dump file itself.\n"
     ]
    },
    {
     "name": "stderr",
     "output_type": "stream",
     "text": [
      "/Users/benjaminsmith/Google Drive/oregon/code/DEV_scripts/fMRI/ml/apply_loocv_and_save.py:290: SettingWithCopyWarning: \n",
      "A value is trying to be set on a copy of a slice from a DataFrame\n",
      "\n",
      "See the caveats in the documentation: https://pandas.pydata.org/pandas-docs/stable/user_guide/indexing.html#returning-a-view-versus-a-copy\n",
      "  Brain_Data_allsubs.Y[Brain_Data_allsubs.Y=='NULL']=None\n"
     ]
    },
    {
     "name": "stdout",
     "output_type": "stream",
     "text": [
      "test_train_set: 72407\n",
      "brain_data_filepath: 185\n",
      "pkl_file: 168\n",
      "train_test_markers_filepath: 158\n",
      "response_transform_func: 144\n",
      "Brain_Data_allsubs: 48\n",
      "3213\n",
      "3213\n",
      "there are 0 subjects with nan features. all the subject data will be removed from the dataset...removed.\n",
      "using all subjects\n",
      "generalization test group 0\n",
      "2141\n",
      "1072\n",
      "hyper-parameter search group 0;  est...est 0; ROC AUC: 0.4877076411960133; \n",
      "est...est 1; ROC AUC: 0.4943521594684385; \n",
      "hyper-parameter search group 1;  est...est 0; ROC AUC: 0.5262901655306719; \n",
      "est...est 1; ROC AUC: 0.5055379746835443; \n",
      "hyper-parameter search group 2;  est...est 0; ROC AUC: 0.5027341762953275; \n",
      "est...est 1; ROC AUC: 0.506676477000218; \n",
      "\n",
      "\n",
      "generalization test group 1\n",
      "2149\n",
      "1064\n",
      "hyper-parameter search group 0;  est...est 0; ROC AUC: 0.4769067826933261; \n",
      "est...est 1; ROC AUC: 0.49887646882022074; \n",
      "hyper-parameter search group 1;  est...est 0; ROC AUC: 0.5403732934764778; \n",
      "est...est 1; ROC AUC: 0.5312687968211728; \n",
      "hyper-parameter search group 2;  est...est 0; ROC AUC: 0.526263890469147; \n",
      "est...est 1; ROC AUC: 0.5316114840520347; \n",
      "\n",
      "\n",
      "generalization test group 2\n",
      "2136\n",
      "1077\n",
      "hyper-parameter search group 0;  est...est 0; ROC AUC: 0.5320694782373615; \n",
      "est...est 1; ROC AUC: 0.5293322519599892; \n",
      "hyper-parameter search group 1;  est...est 0; ROC AUC: 0.5047619047619047; \n",
      "est...est 1; ROC AUC: 0.4769480519480519; \n",
      "hyper-parameter search group 2;  est...est 0; ROC AUC: 0.5127433363282419; \n",
      "est...est 1; ROC AUC: 0.5229709493860437; \n",
      "\n",
      "\n",
      "estimator_i\n",
      "0    0.512206\n",
      "1    0.510842\n",
      "Name: score, dtype: Float64\n",
      "chose estimator 0\n",
      "generalization test group 0\n",
      "generalization test group 1\n",
      "generalization test group 2\n",
      "cross-validated score is: 0.5096342868626234\n",
      "precision, recall, fscore, support:\n",
      "(array([0.86572655, 0.14348925]), array([0.51029996, 0.50896861]), array([0.64211005, 0.22386588]), array([2767,  446]))\n",
      "raw (overfit) score is: 0.7376154907048316\n",
      "0.0    1631\n",
      "1.0    1582\n",
      "dtype: int64\n",
      "0.5096342868626234\n"
     ]
    }
   ],
   "source": [
    "from SST.classify_trialwise_gng_sklearn import main\n",
    "\n",
    "res30 = main('/SST/Brain_Data_betaseries_nos_30subs_correct_cond_pfc_condstd.pkl')"
   ]
  },
  {
   "cell_type": "code",
   "execution_count": 2,
   "id": "thermal-proxy",
   "metadata": {},
   "outputs": [
    {
     "name": "stderr",
     "output_type": "stream",
     "text": [
      "/Users/benjaminsmith/Google Drive/oregon/code/DEV_scripts/fMRI/ml/SST/classify_trialwise_gng_sklearn.py:64: UserWarning: not sure if this file holds up--it was created in 2021; need to see if it's still valid\n",
      "  warnings.warn(\"not sure if this file holds up--it was created in 2021; need to see if it's still valid\")\n"
     ]
    },
    {
     "name": "stdout",
     "output_type": "stream",
     "text": [
      "checked for intersection and no intersection between the brain data and the subjects was found.\n",
      "there were 138 subjects overlapping between the subjects marked for train data and the training dump file itself.\n",
      "test_train_set: 72407\n",
      "brain_data_filepath: 186\n",
      "pkl_file: 168\n",
      "train_test_markers_filepath: 158\n",
      "response_transform_func: 144\n",
      "Brain_Data_allsubs: 48\n"
     ]
    },
    {
     "name": "stderr",
     "output_type": "stream",
     "text": [
      "/Users/benjaminsmith/Google Drive/oregon/code/DEV_scripts/fMRI/ml/apply_loocv_and_save.py:290: SettingWithCopyWarning: \n",
      "A value is trying to be set on a copy of a slice from a DataFrame\n",
      "\n",
      "See the caveats in the documentation: https://pandas.pydata.org/pandas-docs/stable/user_guide/indexing.html#returning-a-view-versus-a-copy\n",
      "  Brain_Data_allsubs.Y[Brain_Data_allsubs.Y=='NULL']=None\n"
     ]
    },
    {
     "name": "stdout",
     "output_type": "stream",
     "text": [
      "14745\n",
      "14745\n",
      "there are 1 subjects with nan features. all the subject data will be removed from the dataset...removed.\n",
      "using all subjects\n",
      "generalization test group 0\n",
      "9732\n",
      "4906\n",
      "hyper-parameter search group 0;  est...est 0; ROC AUC: 0.502831516620915; \n",
      "est...est 1; ROC AUC: 0.49646676150974145; \n",
      "hyper-parameter search group 1;  est...est 0; ROC AUC: 0.4742997908622909; \n",
      "est...est 1; ROC AUC: 0.47469514157014153; \n",
      "hyper-parameter search group 2;  est...est 0; ROC AUC: 0.5044960826210826; \n",
      "est...est 1; ROC AUC: 0.5016025641025641; \n",
      "\n",
      "\n",
      "generalization test group 1\n",
      "9805\n",
      "4833\n",
      "hyper-parameter search group 0;  est...est 0; ROC AUC: 0.5079676038157606; \n",
      "est...est 1; ROC AUC: 0.4972774926801624; \n",
      "hyper-parameter search group 1;  est...est 0; ROC AUC: 0.49982381959126143; \n",
      "est...est 1; ROC AUC: 0.5052031947380784; \n",
      "hyper-parameter search group 2;  est...est 0; ROC AUC: 0.49931482696591095; \n",
      "est...est 1; ROC AUC: 0.4890100774743971; \n",
      "\n",
      "\n",
      "generalization test group 2\n",
      "9739\n",
      "4899\n",
      "hyper-parameter search group 0;  est...est 0; ROC AUC: 0.5121712209678713; \n",
      "est...est 1; ROC AUC: 0.5118074523247282; \n",
      "hyper-parameter search group 1;  est...est 0; ROC AUC: 0.5011442157103232; \n",
      "est...est 1; ROC AUC: 0.5096646980017736; \n",
      "hyper-parameter search group 2;  est...est 0; ROC AUC: 0.5054273476069072; \n",
      "est...est 1; ROC AUC: 0.5123661394130057; \n",
      "\n",
      "\n",
      "estimator_i\n",
      "0    0.500831\n",
      "1    0.499788\n",
      "Name: score, dtype: Float64\n",
      "chose estimator 0\n",
      "generalization test group 0\n",
      "generalization test group 1\n",
      "generalization test group 2\n",
      "cross-validated score is: 0.5060563425072444\n",
      "precision, recall, fscore, support:\n",
      "(array([0.86202148, 0.1438449 ]), array([0.49781312, 0.51429956]), array([0.63114382, 0.22481195]), array([12575,  2063]))\n",
      "raw (overfit) score is: 0.6300328132995532\n",
      "1.0    7376\n",
      "0.0    7262\n",
      "dtype: int64\n",
      "0.5060563425072444\n"
     ]
    },
    {
     "data": {
      "text/plain": [
       "{'y_predict_final': array([0., 0., 0., ..., 1., 1., 0.]),\n",
       " 'model_final': Pipeline(steps=[('clean', VarianceThreshold(threshold=0)),\n",
       "                 ('select', SelectKBest(k=200)),\n",
       "                 ('estimator',\n",
       "                  LogisticRegression(class_weight='balanced',\n",
       "                                     solver='liblinear'))])}"
      ]
     },
     "execution_count": 2,
     "metadata": {},
     "output_type": "execute_result"
    }
   ],
   "source": [
    "from SST.classify_trialwise_gng_sklearn import main\n",
    "\n",
    "main('/SST/Brain_Data_betaseries_nos_197subs_correct_cond_pfc_condstd.pkl')"
   ]
  },
  {
   "cell_type": "code",
   "execution_count": 1,
   "id": "17005c44",
   "metadata": {},
   "outputs": [
    {
     "name": "stdout",
     "output_type": "stream",
     "text": [
      "python initialized for apply_loocv_and_save\n",
      "cpus available; cpus to use:\n",
      "10 9\n",
      "10\n",
      "hostname recognized as Benjamins-MacBook-Pro-2.local. Using host-specific settings.\n",
      "9\n"
     ]
    },
    {
     "name": "stderr",
     "output_type": "stream",
     "text": [
      "/Users/benjaminsmith/Google Drive/oregon/code/DEV_scripts/fMRI/ml/SST/classify_trialwise_gng_sklearn.py:64: UserWarning: not sure if this file holds up--it was created in 2021; need to see if it's still valid\n",
      "  warnings.warn(\"not sure if this file holds up--it was created in 2021; need to see if it's still valid\")\n"
     ]
    },
    {
     "ename": "FileNotFoundError",
     "evalue": "[Errno 2] No such file or directory: '/Users/benjaminsmith/Google Drive/oregon/data/DEV/nonbids_data/fMRI/ml/SST/Brain_Data_betaseries_nos_197subs_correct_cond_pfc_condstd.pkl'",
     "output_type": "error",
     "traceback": [
      "\u001b[0;31m---------------------------------------------------------------------------\u001b[0m",
      "\u001b[0;31mFileNotFoundError\u001b[0m                         Traceback (most recent call last)",
      "\u001b[1;32m/Users/benjaminsmith/Google Drive/oregon/code/DEV_scripts/fMRI/ml/try_out_sklearn_classifier.ipynb Cell 6\u001b[0m in \u001b[0;36m<cell line: 3>\u001b[0;34m()\u001b[0m\n\u001b[1;32m      <a href='vscode-notebook-cell:/Users/benjaminsmith/Google%20Drive/oregon/code/DEV_scripts/fMRI/ml/try_out_sklearn_classifier.ipynb#X32sZmlsZQ%3D%3D?line=0'>1</a>\u001b[0m \u001b[39mfrom\u001b[39;00m \u001b[39mSST\u001b[39;00m\u001b[39m.\u001b[39;00m\u001b[39mclassify_trialwise_gng_sklearn\u001b[39;00m \u001b[39mimport\u001b[39;00m main\n\u001b[0;32m----> <a href='vscode-notebook-cell:/Users/benjaminsmith/Google%20Drive/oregon/code/DEV_scripts/fMRI/ml/try_out_sklearn_classifier.ipynb#X32sZmlsZQ%3D%3D?line=2'>3</a>\u001b[0m main(\u001b[39m'\u001b[39;49m\u001b[39m/SST/Brain_Data_betaseries_nos_197subs_correct_cond_pfc_condstd.pkl\u001b[39;49m\u001b[39m'\u001b[39;49m)\n",
      "File \u001b[0;32m~/Google Drive/oregon/code/DEV_scripts/fMRI/ml/SST/classify_trialwise_gng_sklearn.py:69\u001b[0m, in \u001b[0;36mmain\u001b[0;34m(bd_filename, response_transform_function)\u001b[0m\n\u001b[1;32m     64\u001b[0m warnings\u001b[39m.\u001b[39mwarn(\u001b[39m\"\u001b[39m\u001b[39mnot sure if this file holds up--it was created in 2021; need to see if it\u001b[39m\u001b[39m'\u001b[39m\u001b[39ms still valid\u001b[39m\u001b[39m\"\u001b[39m)\n\u001b[1;32m     65\u001b[0m train_test_markers_filepath \u001b[39m=\u001b[39m ml_data_folderpath \u001b[39m+\u001b[39m \u001b[39m\"\u001b[39m\u001b[39m/train_test_markers_20230102T164214.csv\u001b[39m\u001b[39m\"\u001b[39m\n\u001b[0;32m---> 69\u001b[0m all_subjects \u001b[39m=\u001b[39m load_and_preprocess_Brain_Data(\n\u001b[1;32m     70\u001b[0m     brain_data_filepath,\n\u001b[1;32m     71\u001b[0m     train_test_markers_filepath,\n\u001b[1;32m     72\u001b[0m     \u001b[39m#subjs_to_use = None,\u001b[39;49;00m\n\u001b[1;32m     73\u001b[0m     response_transform_func \u001b[39m=\u001b[39;49m response_transform_function\n\u001b[1;32m     74\u001b[0m     \u001b[39m#clean=None\u001b[39;49;00m\n\u001b[1;32m     75\u001b[0m     )\n\u001b[1;32m     76\u001b[0m \u001b[39m#filter out any subjects that don't have all the outcome groups\u001b[39;00m\n\u001b[1;32m     77\u001b[0m \u001b[39m# outcome_groups = pd.DataFrame(\u001b[39;00m\n\u001b[1;32m     78\u001b[0m \u001b[39m#     {'outcomes':all_subjects.Y,'subjects':all_subjects.X['subject']}\u001b[39;00m\n\u001b[0;32m   (...)\u001b[0m\n\u001b[1;32m     83\u001b[0m \n\u001b[1;32m     84\u001b[0m \u001b[39m#remove any features that are all NaN\u001b[39;00m\n\u001b[1;32m     85\u001b[0m not_na_cols\u001b[39m=\u001b[39mnp\u001b[39m.\u001b[39misnan(all_subjects\u001b[39m.\u001b[39mdata)\u001b[39m.\u001b[39mall(axis\u001b[39m=\u001b[39m\u001b[39m0\u001b[39m)\u001b[39m==\u001b[39m\u001b[39mFalse\u001b[39;00m\n",
      "File \u001b[0;32m~/Google Drive/oregon/code/DEV_scripts/fMRI/ml/apply_loocv_and_save.py:273\u001b[0m, in \u001b[0;36mload_and_preprocess_Brain_Data\u001b[0;34m(brain_data_filepath, train_test_markers_filepath, response_transform_func)\u001b[0m\n\u001b[1;32m    266\u001b[0m \u001b[39mdef\u001b[39;00m \u001b[39mload_and_preprocess_Brain_Data\u001b[39m(\n\u001b[1;32m    267\u001b[0m     brain_data_filepath \u001b[39m=\u001b[39m \u001b[39m'\u001b[39m\u001b[39m../data/Brain_Data_2sns_60subs.pkl\u001b[39m\u001b[39m'\u001b[39m,\n\u001b[1;32m    268\u001b[0m     train_test_markers_filepath \u001b[39m=\u001b[39m \u001b[39m\"\u001b[39m\u001b[39m../data/train_test_markers_20210601T183243.csv\u001b[39m\u001b[39m\"\u001b[39m,\n\u001b[1;32m    269\u001b[0m     response_transform_func \u001b[39m=\u001b[39m \u001b[39mNone\u001b[39;00m\n\u001b[1;32m    270\u001b[0m ):\n\u001b[1;32m    271\u001b[0m     test_train_set \u001b[39m=\u001b[39m pd\u001b[39m.\u001b[39mread_csv(train_test_markers_filepath)\n\u001b[0;32m--> 273\u001b[0m     \u001b[39mwith\u001b[39;00m \u001b[39mopen\u001b[39;49m(brain_data_filepath, \u001b[39m'\u001b[39;49m\u001b[39mrb\u001b[39;49m\u001b[39m'\u001b[39;49m) \u001b[39mas\u001b[39;00m pkl_file:\n\u001b[1;32m    274\u001b[0m         Brain_Data_allsubs \u001b[39m=\u001b[39m pickle\u001b[39m.\u001b[39mload(pkl_file)\n\u001b[1;32m    276\u001b[0m     dev_wtp_io_utils\u001b[39m.\u001b[39mcheck_BD_against_test_train_col(Brain_Data_allsubs,test_train_set, test_train_set\u001b[39m.\u001b[39mSplitGroup_75_25)\n",
      "\u001b[0;31mFileNotFoundError\u001b[0m: [Errno 2] No such file or directory: '/Users/benjaminsmith/Google Drive/oregon/data/DEV/nonbids_data/fMRI/ml/SST/Brain_Data_betaseries_nos_197subs_correct_cond_pfc_condstd.pkl'"
     ]
    }
   ],
   "source": [
    "from SST.classify_trialwise_gng_sklearn import main\n",
    "\n",
    "main('/SST/Brain_Data_betaseries_nos_197subs_correct_cond_pfc_condstd.pkl')"
   ]
  },
  {
   "attachments": {},
   "cell_type": "markdown",
   "id": "3c6e5004",
   "metadata": {},
   "source": [
    "## Whole-brain"
   ]
  },
  {
   "cell_type": "code",
   "execution_count": 9,
   "id": "8f048567",
   "metadata": {},
   "outputs": [
    {
     "name": "stderr",
     "output_type": "stream",
     "text": [
      "/Users/benjaminsmith/Google Drive/oregon/code/DEV_scripts/fMRI/ml/SST/classify_trialwise_gng_sklearn.py:64: UserWarning: not sure if this file holds up--it was created in 2021; need to see if it's still valid\n",
      "  warnings.warn(\"not sure if this file holds up--it was created in 2021; need to see if it's still valid\")\n"
     ]
    },
    {
     "name": "stdout",
     "output_type": "stream",
     "text": [
      "checked for intersection and no intersection between the brain data and the subjects was found.\n",
      "there were 30 subjects overlapping between the subjects marked for train data and the training dump file itself.\n"
     ]
    },
    {
     "name": "stderr",
     "output_type": "stream",
     "text": [
      "/Users/benjaminsmith/Google Drive/oregon/code/DEV_scripts/fMRI/ml/apply_loocv_and_save.py:290: SettingWithCopyWarning: \n",
      "A value is trying to be set on a copy of a slice from a DataFrame\n",
      "\n",
      "See the caveats in the documentation: https://pandas.pydata.org/pandas-docs/stable/user_guide/indexing.html#returning-a-view-versus-a-copy\n",
      "  Brain_Data_allsubs.Y[Brain_Data_allsubs.Y=='NULL']=None\n"
     ]
    },
    {
     "name": "stdout",
     "output_type": "stream",
     "text": [
      "test_train_set: 72407\n",
      "brain_data_filepath: 173\n",
      "pkl_file: 168\n",
      "train_test_markers_filepath: 158\n",
      "response_transform_func: 144\n",
      "Brain_Data_allsubs: 48\n",
      "3213\n",
      "3213\n",
      "there are 0 subjects with nan features. all the subject data will be removed from the dataset...removed.\n",
      "using all subjects\n",
      "generalization test group 0\n",
      "2141\n",
      "1072\n",
      "hyper-parameter search group 0;  est..."
     ]
    }
   ],
   "source": [
    "from SST.classify_trialwise_gng_sklearn import main\n",
    "\n",
    "res30 = main('/SST/Brain_Data_betaseries_nos_30subs_correct_cond.pkl')"
   ]
  },
  {
   "attachments": {},
   "cell_type": "markdown",
   "id": "1f689a7f",
   "metadata": {},
   "source": [
    "# Condition-wise"
   ]
  },
  {
   "attachments": {},
   "cell_type": "markdown",
   "id": "4f55d273",
   "metadata": {},
   "source": [
    "The next item does a PFC classification of 30 subjects on a condition-wise basis."
   ]
  },
  {
   "cell_type": "code",
   "execution_count": 6,
   "id": "8747f9b7",
   "metadata": {},
   "outputs": [
    {
     "name": "stderr",
     "output_type": "stream",
     "text": [
      "/Users/benjaminsmith/Google Drive/oregon/code/DEV_scripts/fMRI/ml/SST/classify_trialwise_gng_sklearn.py:64: UserWarning: not sure if this file holds up--it was created in 2021; need to see if it's still valid\n",
      "  warnings.warn(\"not sure if this file holds up--it was created in 2021; need to see if it's still valid\")\n"
     ]
    },
    {
     "name": "stdout",
     "output_type": "stream",
     "text": [
      "checked for intersection and no intersection between the brain data and the subjects was found.\n",
      "there were 29 subjects overlapping between the subjects marked for train data and the training dump file itself.\n",
      "test_train_set: 72407\n",
      "brain_data_filepath: 177\n",
      "pkl_file: 168\n",
      "train_test_markers_filepath: 158\n",
      "response_transform_func: 144\n",
      "Brain_Data_allsubs: 48\n",
      "58\n",
      "58\n",
      "there are 0 subjects with nan features. all the subject data will be removed from the dataset...removed.\n",
      "using all subjects\n",
      "generalization test group 0\n",
      "38\n",
      "20\n",
      "hyper-parameter search group 0;  est...est 0; ROC AUC: 0.6428571428571428; \n",
      "est...est 1; ROC AUC: 0.5; \n",
      "hyper-parameter search group 1;  est...est 0; ROC AUC: 0.5833333333333334; \n",
      "est...est 1; ROC AUC: 0.5833333333333334; \n",
      "hyper-parameter search group 2;  est...est 0; ROC AUC: 0.5; \n",
      "est...est 1; ROC AUC: 0.6666666666666666; \n",
      "\n",
      "\n",
      "generalization test group 1\n",
      "38\n",
      "20\n",
      "hyper-parameter search group 0;  est...est 0; ROC AUC: 0.5; \n",
      "est...est 1; ROC AUC: 0.5714285714285714; \n",
      "hyper-parameter search group 1;  est...est 0; ROC AUC: 0.6666666666666667; \n",
      "est...est 1; ROC AUC: 0.5833333333333334; \n",
      "hyper-parameter search group 2;  est...est 0; ROC AUC: 0.5833333333333333; \n",
      "est...est 1; ROC AUC: 0.5833333333333334; \n",
      "\n",
      "\n",
      "generalization test group 2\n",
      "40\n",
      "18\n",
      "hyper-parameter search group 0;  est...est 0; ROC AUC: 0.5714285714285715; \n",
      "est...est 1; ROC AUC: 0.5714285714285714; \n",
      "hyper-parameter search group 1;  est...est 0; ROC AUC: 0.5; \n",
      "est...est 1; ROC AUC: 0.6428571428571429; \n",
      "hyper-parameter search group 2;  est...est 0; ROC AUC: 0.5; \n",
      "est...est 1; ROC AUC: 0.5833333333333334; \n",
      "\n",
      "\n",
      "estimator_i\n",
      "1    0.587302\n",
      "0    0.560847\n",
      "Name: score, dtype: Float64\n",
      "chose estimator 1\n",
      "generalization test group 0\n",
      "generalization test group 1\n",
      "generalization test group 2\n",
      "cross-validated score is: 0.5172413793103449\n",
      "precision, recall, fscore, support:\n",
      "(array([0.51020408, 0.55555556]), array([0.86206897, 0.17241379]), array([0.64102564, 0.26315789]), array([29, 29]))\n",
      "raw (overfit) score is: 1.0\n",
      "0.0    49\n",
      "1.0     9\n",
      "dtype: int64\n",
      "0.5172413793103449\n"
     ]
    }
   ],
   "source": [
    "from SST.classify_trialwise_gng_sklearn import main\n",
    "\n",
    "\n",
    "def condition_resp_trans_func(X):\n",
    "    reg_match = \"Sn\\(1\\) (.*)\\*bf\\(1\\)\"\n",
    "    return(X.raw_beta_description.str.extract(reg_match, expand=False))\n",
    "\n",
    "\n",
    "res_pfc_181_subjs = main('/SST/Brain_Data_conditions_nos_30subs_correct_cond_pfc.pkl',response_transform_function = condition_resp_trans_func)"
   ]
  },
  {
   "attachments": {},
   "cell_type": "markdown",
   "id": "e67414af",
   "metadata": {},
   "source": [
    "PFC-only, all subjects"
   ]
  },
  {
   "cell_type": "code",
   "execution_count": 3,
   "id": "b46a83ea",
   "metadata": {},
   "outputs": [
    {
     "name": "stderr",
     "output_type": "stream",
     "text": [
      "/Users/benjaminsmith/Google Drive/oregon/code/DEV_scripts/fMRI/ml/SST/classify_trialwise_gng_sklearn.py:64: UserWarning: not sure if this file holds up--it was created in 2021; need to see if it's still valid\n",
      "  warnings.warn(\"not sure if this file holds up--it was created in 2021; need to see if it's still valid\")\n"
     ]
    },
    {
     "name": "stdout",
     "output_type": "stream",
     "text": [
      "checked for intersection and no intersection between the brain data and the subjects was found.\n",
      "there were 173 subjects overlapping between the subjects marked for train data and the training dump file itself.\n",
      "test_train_set: 72407\n",
      "brain_data_filepath: 178\n",
      "pkl_file: 168\n",
      "train_test_markers_filepath: 158\n",
      "response_transform_func: 144\n",
      "Brain_Data_allsubs: 48\n",
      "346\n",
      "346\n",
      "there are 0 subjects with nan features. all the subject data will be removed from the dataset...removed.\n",
      "using all subjects\n",
      "generalization test group 0\n",
      "230\n",
      "116\n",
      "hyper-parameter search group 0;  est...est 0; ROC AUC: 0.5897435897435898; \n",
      "est...est 1; ROC AUC: 0.5897435897435898; \n",
      "hyper-parameter search group 1;  est...est 0; ROC AUC: 0.5921052631578947; \n",
      "est...est 1; ROC AUC: 0.5394736842105263; \n",
      "hyper-parameter search group 2;  est...est 0; ROC AUC: 0.5921052631578947; \n",
      "est...est 1; ROC AUC: 0.6052631578947368; \n",
      "\n",
      "\n",
      "generalization test group 1\n",
      "230\n",
      "116\n",
      "hyper-parameter search group 0;  est...est 0; ROC AUC: 0.5769230769230769; \n",
      "est...est 1; ROC AUC: 0.6025641025641025; \n",
      "hyper-parameter search group 1;  est...est 0; ROC AUC: 0.5789473684210527; \n",
      "est...est 1; ROC AUC: 0.5789473684210527; \n",
      "hyper-parameter search group 2;  est...est 0; ROC AUC: 0.5921052631578947; \n",
      "est...est 1; ROC AUC: 0.631578947368421; \n",
      "\n",
      "\n",
      "generalization test group 2\n",
      "232\n",
      "114\n",
      "hyper-parameter search group 0;  est...est 0; ROC AUC: 0.5256410256410257; \n",
      "est...est 1; ROC AUC: 0.5897435897435898; \n",
      "hyper-parameter search group 1;  est...est 0; ROC AUC: 0.6538461538461537; \n",
      "est...est 1; ROC AUC: 0.5769230769230769; \n",
      "hyper-parameter search group 2;  est...est 0; ROC AUC: 0.4473684210526316; \n",
      "est...est 1; ROC AUC: 0.48684210526315796; \n",
      "\n",
      "\n",
      "estimator_i\n",
      "1    0.577898\n",
      "0    0.572087\n",
      "Name: score, dtype: Float64\n",
      "chose estimator 1\n",
      "generalization test group 0\n",
      "generalization test group 1\n",
      "generalization test group 2\n",
      "cross-validated score is: 0.5317919075144508\n",
      "precision, recall, fscore, support:\n",
      "(array([0.53333333, 0.53038674]), array([0.50867052, 0.55491329]), array([0.52071006, 0.54237288]), array([173, 173]))\n",
      "raw (overfit) score is: 0.9248554913294798\n",
      "1.0    181\n",
      "0.0    165\n",
      "dtype: int64\n",
      "0.5317919075144508\n"
     ]
    }
   ],
   "source": [
    "from SST.classify_trialwise_gng_sklearn import main\n",
    "\n",
    "\n",
    "def condition_resp_trans_func(X):\n",
    "    reg_match = \"Sn\\(1\\) (.*)\\*bf\\(1\\)\"\n",
    "    return(X.raw_beta_description.str.extract(reg_match, expand=False))\n",
    "\n",
    "\n",
    "res_pfc_181_subjs = main('/SST/Brain_Data_conditions_nos_181subs_correct_cond_pfc.pkl',response_transform_function = condition_resp_trans_func)"
   ]
  },
  {
   "attachments": {},
   "cell_type": "markdown",
   "id": "4f72514d",
   "metadata": {},
   "source": [
    "The next item does a whole-brain classification of 30 subjects on a condition-wise basis."
   ]
  },
  {
   "cell_type": "code",
   "execution_count": 1,
   "id": "767d65ba",
   "metadata": {},
   "outputs": [
    {
     "name": "stdout",
     "output_type": "stream",
     "text": [
      "python initialized for apply_loocv_and_save\n",
      "cpus available; cpus to use:\n",
      "10 9\n",
      "10\n",
      "hostname recognized as Benjamins-MacBook-Pro-2.local. Using host-specific settings.\n",
      "9\n",
      "checked for intersection and no intersection between the brain data and the subjects was found.\n",
      "there were 29 subjects overlapping between the subjects marked for train data and the training dump file itself.\n",
      "test_train_set: 72407\n",
      "brain_data_filepath: 173\n",
      "pkl_file: 168\n",
      "train_test_markers_filepath: 158\n",
      "response_transform_func: 144\n",
      "Brain_Data_allsubs: 48\n",
      "58\n",
      "58\n",
      "there are 0 subjects with nan features. all the subject data will be removed from the dataset...removed.\n",
      "using all subjects\n",
      "generalization test group 0\n",
      "38\n",
      "20\n",
      "hyper-parameter search group 0;  est..."
     ]
    },
    {
     "name": "stderr",
     "output_type": "stream",
     "text": [
      "/Users/benjaminsmith/Google Drive/oregon/code/DEV_scripts/fMRI/ml/SST/classify_trialwise_gng_sklearn.py:64: UserWarning: not sure if this file holds up--it was created in 2021; need to see if it's still valid\n",
      "  warnings.warn(\"not sure if this file holds up--it was created in 2021; need to see if it's still valid\")\n",
      "/Users/benjaminsmith/opt/anaconda3/envs/neuralsignature/lib/python3.10/site-packages/nilearn/input_data/__init__.py:27: FutureWarning: The import path 'nilearn.input_data' is deprecated in version 0.9. Importing from 'nilearn.input_data' will be possible at least until release 0.13.0. Please import from 'nilearn.maskers' instead.\n",
      "  warnings.warn(message, FutureWarning)\n"
     ]
    },
    {
     "name": "stdout",
     "output_type": "stream",
     "text": [
      "est 0; ROC AUC: 0.6428571428571428; \n",
      "est...est 1; ROC AUC: 0.5714285714285714; \n",
      "hyper-parameter search group 1;  est...est 0; ROC AUC: 0.5833333333333335; \n",
      "est...est 1; ROC AUC: 0.6666666666666666; \n",
      "hyper-parameter search group 2;  est...est 0; ROC AUC: 0.5; \n",
      "est...est 1; ROC AUC: 0.6666666666666666; \n",
      "\n",
      "\n",
      "generalization test group 1\n",
      "38\n",
      "20\n",
      "hyper-parameter search group 0;  est...est 0; ROC AUC: 0.6428571428571429; \n",
      "est...est 1; ROC AUC: 0.5714285714285714; \n",
      "hyper-parameter search group 1;  est...est 0; ROC AUC: 0.5833333333333334; \n",
      "est...est 1; ROC AUC: 0.6666666666666666; \n",
      "hyper-parameter search group 2;  est...est 0; ROC AUC: 0.5833333333333333; \n",
      "est...est 1; ROC AUC: 0.5833333333333334; \n",
      "\n",
      "\n",
      "generalization test group 2\n",
      "40\n",
      "18\n",
      "hyper-parameter search group 0;  est...est 0; ROC AUC: 0.6428571428571429; \n",
      "est...est 1; ROC AUC: 0.5714285714285714; \n",
      "hyper-parameter search group 1;  est...est 0; ROC AUC: 0.7142857142857143; \n",
      "est...est 1; ROC AUC: 0.7857142857142857; \n",
      "hyper-parameter search group 2;  est...est 0; ROC AUC: 0.75; \n",
      "est...est 1; ROC AUC: 0.6666666666666666; \n",
      "\n",
      "\n",
      "estimator_i\n",
      "1    0.638889\n",
      "0    0.626984\n",
      "Name: score, dtype: Float64\n",
      "chose estimator 1\n",
      "generalization test group 0\n",
      "generalization test group 1\n",
      "generalization test group 2\n",
      "cross-validated score is: 0.689655172413793\n",
      "precision, recall, fscore, support:\n",
      "(array([0.64102564, 0.78947368]), array([0.86206897, 0.51724138]), array([0.73529412, 0.625     ]), array([29, 29]))\n",
      "raw (overfit) score is: 1.0\n",
      "0.0    39\n",
      "1.0    19\n",
      "dtype: int64\n",
      "0.689655172413793\n"
     ]
    }
   ],
   "source": [
    "from SST.classify_trialwise_gng_sklearn import main\n",
    "\n",
    "\n",
    "def condition_resp_trans_func(X):\n",
    "    reg_match = \"Sn\\(1\\) (.*)\\*bf\\(1\\)\"\n",
    "    return(X.raw_beta_description.str.extract(reg_match, expand=False))\n",
    "\n",
    "\n",
    "res30 = main('/SST/Brain_Data_conditions_nos_30subs_correct_cond.pkl',response_transform_function = condition_resp_trans_func)"
   ]
  },
  {
   "attachments": {},
   "cell_type": "markdown",
   "id": "297e05cb",
   "metadata": {},
   "source": [
    "The next item does a whole-brain classification of all subjects on a condition-wise basis--incorporating the most information possible."
   ]
  },
  {
   "cell_type": "code",
   "execution_count": 4,
   "id": "bfb267ca",
   "metadata": {},
   "outputs": [
    {
     "name": "stderr",
     "output_type": "stream",
     "text": [
      "/Users/benjaminsmith/Google Drive/oregon/code/DEV_scripts/fMRI/ml/SST/classify_trialwise_gng_sklearn.py:64: UserWarning: not sure if this file holds up--it was created in 2021; need to see if it's still valid\n",
      "  warnings.warn(\"not sure if this file holds up--it was created in 2021; need to see if it's still valid\")\n"
     ]
    },
    {
     "name": "stdout",
     "output_type": "stream",
     "text": [
      "checked for intersection and no intersection between the brain data and the subjects was found.\n",
      "there were 173 subjects overlapping between the subjects marked for train data and the training dump file itself.\n",
      "test_train_set: 72407\n",
      "brain_data_filepath: 174\n",
      "pkl_file: 168\n",
      "train_test_markers_filepath: 158\n",
      "response_transform_func: 144\n",
      "Brain_Data_allsubs: 48\n",
      "346\n",
      "346\n",
      "there are 0 subjects with nan features. all the subject data will be removed from the dataset...removed.\n",
      "using all subjects\n",
      "generalization test group 0\n",
      "230\n",
      "116\n",
      "hyper-parameter search group 0;  est...est 0; ROC AUC: 0.6282051282051282; \n",
      "est...est 1; ROC AUC: 0.5769230769230769; \n",
      "hyper-parameter search group 1;  est...est 0; ROC AUC: 0.6052631578947367; \n",
      "est...est 1; ROC AUC: 0.5394736842105263; \n",
      "hyper-parameter search group 2;  est...est 0; ROC AUC: 0.6447368421052632; \n",
      "est...est 1; ROC AUC: 0.6052631578947367; \n",
      "\n",
      "\n",
      "generalization test group 1\n",
      "230\n",
      "116\n",
      "hyper-parameter search group 0;  est...est 0; ROC AUC: 0.6025641025641025; \n",
      "est...est 1; ROC AUC: 0.6153846153846154; \n",
      "hyper-parameter search group 1;  est...est 0; ROC AUC: 0.6447368421052633; \n",
      "est...est 1; ROC AUC: 0.6315789473684211; \n",
      "hyper-parameter search group 2;  est...est 0; ROC AUC: 0.6578947368421053; \n",
      "est...est 1; ROC AUC: 0.5921052631578948; \n",
      "\n",
      "\n",
      "generalization test group 2\n",
      "232\n",
      "114\n",
      "hyper-parameter search group 0;  est...est 0; ROC AUC: 0.6153846153846154; \n",
      "est...est 1; ROC AUC: 0.5897435897435898; \n",
      "hyper-parameter search group 1;  est...est 0; ROC AUC: 0.7307692307692307; \n",
      "est...est 1; ROC AUC: 0.6282051282051281; \n",
      "hyper-parameter search group 2;  est...est 0; ROC AUC: 0.6052631578947368; \n",
      "est...est 1; ROC AUC: 0.5657894736842105; \n",
      "\n",
      "\n",
      "estimator_i\n",
      "0    0.637202\n",
      "1     0.59383\n",
      "Name: score, dtype: Float64\n",
      "chose estimator 0\n",
      "generalization test group 0\n",
      "generalization test group 1\n",
      "generalization test group 2\n",
      "cross-validated score is: 0.592485549132948\n",
      "precision, recall, fscore, support:\n",
      "(array([0.61111111, 0.57920792]), array([0.50867052, 0.67630058]), array([0.55520505, 0.624     ]), array([173, 173]))\n",
      "raw (overfit) score is: 1.0\n",
      "1.0    202\n",
      "0.0    144\n",
      "dtype: int64\n",
      "0.592485549132948\n"
     ]
    }
   ],
   "source": [
    "from SST.classify_trialwise_gng_sklearn import main\n",
    "\n",
    "\n",
    "def condition_resp_trans_func(X):\n",
    "    reg_match = \"Sn\\(1\\) (.*)\\*bf\\(1\\)\"\n",
    "    return(X.raw_beta_description.str.extract(reg_match, expand=False))\n",
    "\n",
    "\n",
    "res30 = main('/SST/Brain_Data_conditions_nos_181subs_correct_cond.pkl',response_transform_function = condition_resp_trans_func)"
   ]
  },
  {
   "attachments": {},
   "cell_type": "markdown",
   "id": "3b583b68",
   "metadata": {},
   "source": [
    "The next run does a whole-brain classification on 30 subjects on a condition-wise basis"
   ]
  },
  {
   "cell_type": "code",
   "execution_count": null,
   "id": "15a291e9",
   "metadata": {},
   "outputs": [],
   "source": [
    "The next "
   ]
  }
 ],
 "metadata": {
  "kernelspec": {
   "display_name": "neuralsignature",
   "language": "python",
   "name": "python3"
  },
  "language_info": {
   "codemirror_mode": {
    "name": "ipython",
    "version": 3
   },
   "file_extension": ".py",
   "mimetype": "text/x-python",
   "name": "python",
   "nbconvert_exporter": "python",
   "pygments_lexer": "ipython3",
   "version": "3.10.4"
  },
  "vscode": {
   "interpreter": {
    "hash": "0cca8238de402a161b34e58e1e3b4d299a0bf48c5783c9dc7c173d82c36576a7"
   }
  }
 },
 "nbformat": 4,
 "nbformat_minor": 5
}
