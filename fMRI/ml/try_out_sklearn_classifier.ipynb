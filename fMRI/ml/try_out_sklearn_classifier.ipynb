{
 "cells": [
  {
   "cell_type": "code",
   "execution_count": 1,
   "id": "duplicate-invention",
   "metadata": {},
   "outputs": [
    {
     "name": "stdout",
     "output_type": "stream",
     "text": [
      "python initialized for apply_loocv_and_save\n",
      "cpus available; cpus to use:\n",
      "10 9\n",
      "10\n",
      "9\n",
      "checked for intersection and no intersection between the brain data and the subjects was found.\n",
      "there were 6 subjects overlapping between the subjects marked for train data and the training dump file itself.\n"
     ]
    },
    {
     "name": "stderr",
     "output_type": "stream",
     "text": [
      "/Users/benjaminsmith/Google Drive/oregon/code/DEV_scripts/fMRI/ml/SST/classify_trialwise_gng_sklearn.py:64: UserWarning: not sure if this file holds up--it was created in 2021; need to see if it's still valid\n",
      "  warnings.warn(\"not sure if this file holds up--it was created in 2021; need to see if it's still valid\")\n",
      "/Users/benjaminsmith/opt/anaconda3/envs/neuralsignature/lib/python3.10/site-packages/nilearn/input_data/__init__.py:27: FutureWarning: The import path 'nilearn.input_data' is deprecated in version 0.9. Importing from 'nilearn.input_data' will be possible at least until release 0.13.0. Please import from 'nilearn.maskers' instead.\n",
      "  warnings.warn(message, FutureWarning)\n",
      "/Users/benjaminsmith/Google Drive/oregon/code/DEV_scripts/fMRI/ml/apply_loocv_and_save.py:290: SettingWithCopyWarning: \n",
      "A value is trying to be set on a copy of a slice from a DataFrame\n",
      "\n",
      "See the caveats in the documentation: https://pandas.pydata.org/pandas-docs/stable/user_guide/indexing.html#returning-a-view-versus-a-copy\n",
      "  Brain_Data_allsubs.Y[Brain_Data_allsubs.Y=='NULL']=None\n"
     ]
    },
    {
     "name": "stdout",
     "output_type": "stream",
     "text": [
      "test_train_set: 72407\n",
      "brain_data_filepath: 176\n",
      "pkl_file: 168\n",
      "train_test_markers_filepath: 158\n",
      "response_transform_func: 144\n",
      "Brain_Data_allsubs: 48\n",
      "634\n",
      "634\n",
      "using all subjects\n",
      "generalization test group 0\n",
      "439\n",
      "195\n",
      "hyper-parameter search group 0;  est...est 0; ROC AUC: 0.6041666666666666; \n",
      "est...est 1; ROC AUC: 0.46875; \n",
      "hyper-parameter search group 1;  est...est 0; ROC AUC: 0.6458333333333334; \n",
      "est...est 1; ROC AUC: 0.5364583333333334; \n",
      "hyper-parameter search group 2;  est...est 0; ROC AUC: 0.5356579984239558; \n",
      "est...est 1; ROC AUC: 0.48532308904649335; \n",
      "\n",
      "\n",
      "generalization test group 1\n",
      "414\n",
      "220\n",
      "hyper-parameter search group 0;  est...est 0; ROC AUC: 0.4439338235294118; \n",
      "est...est 1; ROC AUC: 0.43566176470588236; \n",
      "hyper-parameter search group 1;  est...est 0; ROC AUC: 0.578125; \n",
      "est...est 1; ROC AUC: 0.5885416666666666; \n",
      "hyper-parameter search group 2;  est...est 0; ROC AUC: 0.4026565464895635; \n",
      "est...est 1; ROC AUC: 0.5453510436432637; \n",
      "\n",
      "\n",
      "generalization test group 2\n",
      "415\n",
      "219\n",
      "hyper-parameter search group 0;  est...est 0; ROC AUC: 0.47273284313725494; \n",
      "est...est 1; ROC AUC: 0.35723039215686275; \n",
      "hyper-parameter search group 1;  est...est 0; ROC AUC: 0.4322916666666667; \n",
      "est...est 1; ROC AUC: 0.40104166666666663; \n",
      "hyper-parameter search group 2;  est...est 0; ROC AUC: 0.544338456103162; \n",
      "est...est 1; ROC AUC: 0.5452216922805158; \n",
      "\n",
      "\n",
      "estimator_i\n",
      "0    0.517748\n",
      "1    0.484842\n",
      "Name: score, dtype: Float64\n",
      "chose estimator 0\n",
      "generalization test group 0\n",
      "generalization test group 1\n",
      "generalization test group 2\n",
      "cross-validated score is: 0.5432911970758453\n",
      "precision, recall, fscore, support:\n",
      "(array([0.86627907, 0.17931034]), array([0.55597015, 0.53061224]), array([0.67727273, 0.26804124]), array([536,  98]))\n",
      "raw (overfit) score is: 0.9152832774901006\n",
      "0.0    344\n",
      "1.0    290\n",
      "dtype: int64\n",
      "0.5432911970758453\n"
     ]
    }
   ],
   "source": [
    "from SST.classify_trialwise_gng_sklearn import main\n",
    "\n",
    "res = main('/SST/Brain_Data_betaseries_nos_6subs_correct_cond_pfc.pkl')"
   ]
  },
  {
   "cell_type": "code",
   "execution_count": 2,
   "id": "quiet-class",
   "metadata": {},
   "outputs": [
    {
     "name": "stderr",
     "output_type": "stream",
     "text": [
      "/Users/benjaminsmith/Google Drive/oregon/code/DEV_scripts/fMRI/ml/SST/classify_trialwise_gng_sklearn.py:64: UserWarning: not sure if this file holds up--it was created in 2021; need to see if it's still valid\n",
      "  warnings.warn(\"not sure if this file holds up--it was created in 2021; need to see if it's still valid\")\n"
     ]
    },
    {
     "name": "stdout",
     "output_type": "stream",
     "text": [
      "checked for intersection and no intersection between the brain data and the subjects was found.\n",
      "there were 30 subjects overlapping between the subjects marked for train data and the training dump file itself.\n",
      "test_train_set: 72407\n",
      "brain_data_filepath: 185\n",
      "pkl_file: 168\n",
      "train_test_markers_filepath: 158\n",
      "response_transform_func: 144\n",
      "Brain_Data_allsubs: 48\n"
     ]
    },
    {
     "name": "stderr",
     "output_type": "stream",
     "text": [
      "/Users/benjaminsmith/Google Drive/oregon/code/DEV_scripts/fMRI/ml/apply_loocv_and_save.py:290: SettingWithCopyWarning: \n",
      "A value is trying to be set on a copy of a slice from a DataFrame\n",
      "\n",
      "See the caveats in the documentation: https://pandas.pydata.org/pandas-docs/stable/user_guide/indexing.html#returning-a-view-versus-a-copy\n",
      "  Brain_Data_allsubs.Y[Brain_Data_allsubs.Y=='NULL']=None\n"
     ]
    },
    {
     "name": "stdout",
     "output_type": "stream",
     "text": [
      "3214\n",
      "3214\n",
      "using all subjects\n",
      "generalization test group 0\n",
      "2136\n",
      "1078\n",
      "hyper-parameter search group 0;  est...est 0; ROC AUC: 0.5329580636082184; \n",
      "est...est 1; ROC AUC: 0.5328736279200675; \n",
      "hyper-parameter search group 1;  est...est 0; ROC AUC: 0.4961890243902439; \n",
      "est...est 1; ROC AUC: 0.49314024390243905; \n",
      "hyper-parameter search group 2;  est...est 0; ROC AUC: 0.5012307692307693; \n",
      "est...est 1; ROC AUC: 0.47831751227495906; \n",
      "\n",
      "\n",
      "generalization test group 1\n",
      "2142\n",
      "1072\n",
      "hyper-parameter search group 0;  est...est 0; ROC AUC: 0.5455676264499795; \n",
      "est...est 1; ROC AUC: 0.5213007124771831; \n",
      "hyper-parameter search group 1;  est...est 0; ROC AUC: 0.49535593389918126; \n",
      "est...est 1; ROC AUC: 0.4923210325334756; \n",
      "hyper-parameter search group 2;  est...est 0; ROC AUC: 0.5055063913470993; \n",
      "est...est 1; ROC AUC: 0.47782694198623404; \n",
      "\n",
      "\n",
      "generalization test group 2\n",
      "2150\n",
      "1064\n",
      "hyper-parameter search group 0;  est...est 0; ROC AUC: 0.49497696714205586; \n",
      "est...est 1; ROC AUC: 0.4825511227455847; \n",
      "hyper-parameter search group 1;  est...est 0; ROC AUC: 0.5461870503597123; \n",
      "est...est 1; ROC AUC: 0.5226978417266187; \n",
      "hyper-parameter search group 2;  est...est 0; ROC AUC: 0.5030114566284779; \n",
      "est...est 1; ROC AUC: 0.5007037643207856; \n",
      "\n",
      "\n",
      "estimator_i\n",
      "0    0.513443\n",
      "1    0.500193\n",
      "Name: score, dtype: Float64\n",
      "chose estimator 0\n",
      "generalization test group 0\n",
      "generalization test group 1\n",
      "generalization test group 2\n",
      "cross-validated score is: 0.5200858622271743\n",
      "precision, recall, fscore, support:\n",
      "(array([0.87228916, 0.14671815]), array([0.52198991, 0.51818182]), array([0.65313487, 0.22868606]), array([2774,  440]))\n",
      "raw (overfit) score is: 0.7253178868715999\n",
      "0.0    1660\n",
      "1.0    1554\n",
      "dtype: int64\n",
      "0.5200858622271743\n"
     ]
    }
   ],
   "source": [
    "from SST.classify_trialwise_gng_sklearn import main\n",
    "\n",
    "res30 = main('/SST/Brain_Data_betaseries_nos_30subs_correct_cond_pfc_condstd.pkl')"
   ]
  },
  {
   "cell_type": "code",
   "execution_count": 8,
   "id": "thermal-proxy",
   "metadata": {},
   "outputs": [
    {
     "name": "stderr",
     "output_type": "stream",
     "text": [
      "/Users/benjaminsmith/Google Drive/oregon/code/DEV_scripts/fMRI/ml/SST/classify_trialwise_gng_sklearn.py:64: UserWarning: not sure if this file holds up--it was created in 2021; need to see if it's still valid\n",
      "  warnings.warn(\"not sure if this file holds up--it was created in 2021; need to see if it's still valid\")\n"
     ]
    }
   ],
   "source": [
    "from SST.classify_trialwise_gng_sklearn import main\n",
    "\n",
    "main('/SST/Brain_Data_betaseries_nos_197subs_correct_cond_pfc_condstd.pkl')"
   ]
  },
  {
   "cell_type": "code",
   "execution_count": null,
   "id": "optimum-square",
   "metadata": {},
   "outputs": [],
   "source": []
  }
 ],
 "metadata": {
  "kernelspec": {
   "display_name": "neuralsignature",
   "language": "python",
   "name": "python3"
  },
  "language_info": {
   "codemirror_mode": {
    "name": "ipython",
    "version": 3
   },
   "file_extension": ".py",
   "mimetype": "text/x-python",
   "name": "python",
   "nbconvert_exporter": "python",
   "pygments_lexer": "ipython3",
   "version": "3.10.4"
  },
  "vscode": {
   "interpreter": {
    "hash": "0cca8238de402a161b34e58e1e3b4d299a0bf48c5783c9dc7c173d82c36576a7"
   }
  }
 },
 "nbformat": 4,
 "nbformat_minor": 5
}
