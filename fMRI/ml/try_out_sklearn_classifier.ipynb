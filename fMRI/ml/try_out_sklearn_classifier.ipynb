{
 "cells": [
  {
   "cell_type": "code",
   "execution_count": 1,
   "id": "duplicate-invention",
   "metadata": {},
   "outputs": [
    {
     "name": "stdout",
     "output_type": "stream",
     "text": [
      "python initialized for apply_loocv_and_save\n"
     ]
    },
    {
     "name": "stderr",
     "output_type": "stream",
     "text": [
      "/home/bsmith16/.conda/envs/neuralsignature/lib/python3.8/site-packages/nilearn/datasets/__init__.py:93: FutureWarning: Fetchers from the nilearn.datasets module will be updated in version 0.9 to return python strings instead of bytes and Pandas dataframes instead of Numpy arrays.\n",
      "  warn(\"Fetchers from the nilearn.datasets module will be \"\n"
     ]
    },
    {
     "name": "stdout",
     "output_type": "stream",
     "text": [
      "cpus available; cpus to use:\n",
      "28 25\n",
      "28\n",
      "yaml file does not contain host-specific settings for this host. Using default settings.\n",
      "25\n"
     ]
    },
    {
     "name": "stderr",
     "output_type": "stream",
     "text": [
      "/gpfs/projects/sanlab/shared/DEV/DEV_scripts/fMRI/ml/SST/classify_trialwise_gng_sklearn.py:64: UserWarning: not sure if this file holds up--it was created in 2021; need to see if it's still valid\n",
      "  warnings.warn(\"not sure if this file holds up--it was created in 2021; need to see if it's still valid\")\n"
     ]
    },
    {
     "name": "stdout",
     "output_type": "stream",
     "text": [
      "checked for intersection and no intersection between the brain data and the subjects was found.\n",
      "there were 6 subjects overlapping between the subjects marked for train data and the training dump file itself.\n",
      "test_train_set: 72407\n",
      "pkl_file: 168\n",
      "brain_data_filepath: 159\n",
      "train_test_markers_filepath: 141\n",
      "response_transform_func: 136\n",
      "Brain_Data_allsubs: 48\n"
     ]
    },
    {
     "name": "stderr",
     "output_type": "stream",
     "text": [
      "/gpfs/projects/sanlab/shared/DEV/DEV_scripts/fMRI/ml/apply_loocv_and_save.py:290: SettingWithCopyWarning: \n",
      "A value is trying to be set on a copy of a slice from a DataFrame\n",
      "\n",
      "See the caveats in the documentation: https://pandas.pydata.org/pandas-docs/stable/user_guide/indexing.html#returning-a-view-versus-a-copy\n",
      "  Brain_Data_allsubs.Y[Brain_Data_allsubs.Y=='NULL']=None\n"
     ]
    },
    {
     "name": "stdout",
     "output_type": "stream",
     "text": [
      "634\n",
      "634\n",
      "DEV011\n",
      "generalization test group 0\n",
      "72\n",
      "36\n",
      "hyper-parameter search group 0\n",
      "50\n",
      "22\n",
      "estimating...estimator 0; ROC AUC score: 0.39473684210526316\n",
      "estimating...estimator 1; ROC AUC score: 0.5\n",
      "hyper-parameter search group 1\n",
      "50\n",
      "22\n",
      "estimating...estimator 0; ROC AUC score: 0.587719298245614\n",
      "estimating...estimator 1; ROC AUC score: 0.4473684210526316\n",
      "hyper-parameter search group 2\n",
      "44\n",
      "28\n",
      "estimating...estimator 0; ROC AUC score: 0.5833333333333334\n",
      "estimating...estimator 1; ROC AUC score: 0.375\n",
      "generalization test group 1\n",
      "72\n",
      "36\n",
      "hyper-parameter search group 0\n",
      "50\n",
      "22\n",
      "estimating...estimator 0; ROC AUC score: 0.7017543859649122\n",
      "estimating...estimator 1; ROC AUC score: 0.4736842105263158\n",
      "hyper-parameter search group 1\n",
      "50\n",
      "22\n",
      "estimating...estimator 0; ROC AUC score: 0.42105263157894735\n",
      "estimating...estimator 1; ROC AUC score: 0.6140350877192982\n",
      "hyper-parameter search group 2\n",
      "44\n",
      "28\n",
      "estimating...estimator 0; ROC AUC score: 0.5833333333333334\n",
      "estimating...estimator 1; ROC AUC score: 0.5833333333333333\n",
      "generalization test group 2\n",
      "72\n",
      "36\n",
      "hyper-parameter search group 0\n",
      "50\n",
      "22\n",
      "estimating...estimator 0; ROC AUC score: 0.5350877192982456\n",
      "estimating...estimator 1; ROC AUC score: 0.4736842105263158\n",
      "hyper-parameter search group 1\n",
      "50\n",
      "22\n",
      "estimating...estimator 0; ROC AUC score: 0.5614035087719298\n",
      "estimating...estimator 1; ROC AUC score: 0.587719298245614\n",
      "hyper-parameter search group 2\n",
      "44\n",
      "28\n",
      "estimating...estimator 0; ROC AUC score: 0.7916666666666667\n",
      "estimating...estimator 1; ROC AUC score: 0.5\n",
      "estimator_i\n",
      "0    0.573343\n",
      "1    0.506092\n",
      "Name: score, dtype: float64\n",
      "chose estimator 0\n",
      "generalization test group 0\n",
      "generalization test group 1\n",
      "generalization test group 2\n",
      "cross-validated score is: 0.5161290322580645\n",
      "precision, recall, fscore, support:\n",
      "(array([0.86666667, 0.15151515]), array([0.69892473, 0.33333333]), array([0.77380952, 0.20833333]), array([93, 15]))\n",
      "raw (overfit) score is: 1.0\n",
      "0.0    75\n",
      "1.0    33\n",
      "dtype: int64\n",
      "0.5161290322580645\n",
      "DEV020\n",
      "generalization test group 0\n",
      "70\n",
      "42\n",
      "hyper-parameter search group 0\n",
      "42\n",
      "28\n",
      "estimating...estimator 0; ROC AUC score: 0.7916666666666666\n",
      "estimating...estimator 1; ROC AUC score: 0.3125\n",
      "hyper-parameter search group 1\n",
      "49\n",
      "21\n",
      "estimating...estimator 0; ROC AUC score: 0.5\n",
      "estimating...estimator 1; ROC AUC score: 0.4444444444444444\n",
      "hyper-parameter search group 2\n",
      "49\n",
      "21\n",
      "estimating...estimator 0; ROC AUC score: 0.7777777777777778\n",
      "estimating...estimator 1; ROC AUC score: 0.3888888888888889\n",
      "generalization test group 1\n",
      "77\n",
      "35\n",
      "hyper-parameter search group 0\n",
      "49\n",
      "28\n",
      "estimating...estimator 0; ROC AUC score: 0.6041666666666667\n",
      "estimating...estimator 1; ROC AUC score: 0.4166666666666667\n",
      "hyper-parameter search group 1\n",
      "49\n",
      "28\n",
      "estimating...estimator 0; ROC AUC score: 0.45833333333333337\n",
      "estimating...estimator 1; ROC AUC score: 0.5833333333333334\n",
      "hyper-parameter search group 2\n",
      "56\n",
      "21\n",
      "estimating...estimator 0; ROC AUC score: 0.5\n",
      "estimating...estimator 1; ROC AUC score: 0.5555555555555556\n",
      "generalization test group 2\n",
      "77\n",
      "35\n",
      "hyper-parameter search group 0\n",
      "49\n",
      "28\n",
      "estimating...estimator 0; ROC AUC score: 0.47916666666666663\n",
      "estimating...estimator 1; ROC AUC score: 0.4375\n",
      "hyper-parameter search group 1\n",
      "49\n",
      "28\n",
      "estimating...estimator 0; ROC AUC score: 0.5625\n",
      "estimating...estimator 1; ROC AUC score: 0.4791666666666667\n",
      "hyper-parameter search group 2\n",
      "56\n",
      "21\n",
      "estimating...estimator 0; ROC AUC score: 0.638888888888889\n",
      "estimating...estimator 1; ROC AUC score: 0.6666666666666666\n",
      "estimator_i\n",
      "0    0.590278\n",
      "1    0.476080\n",
      "Name: score, dtype: float64\n",
      "chose estimator 0\n",
      "generalization test group 0\n",
      "generalization test group 1\n",
      "generalization test group 2\n",
      "cross-validated score is: 0.40625\n",
      "precision, recall, fscore, support:\n",
      "(array([0.80769231, 0.1       ]), array([0.4375, 0.375 ]), array([0.56756757, 0.15789474]), array([96, 16]))\n",
      "raw (overfit) score is: 1.0\n",
      "1.0    60\n",
      "0.0    52\n",
      "dtype: int64\n",
      "0.40625\n",
      "DEV047\n",
      "generalization test group 0\n",
      "73\n",
      "40\n",
      "hyper-parameter search group 0\n",
      "52\n",
      "21\n",
      "estimating...estimator 0; ROC AUC score: 0.4166666666666667\n",
      "estimating...estimator 1; ROC AUC score: 0.4722222222222222\n",
      "hyper-parameter search group 1\n",
      "47\n",
      "26\n",
      "estimating...estimator 0; ROC AUC score: 0.4431818181818182\n",
      "estimating...estimator 1; ROC AUC score: 0.5340909090909091\n",
      "hyper-parameter search group 2\n",
      "47\n",
      "26\n",
      "estimating...estimator 0; ROC AUC score: 0.38636363636363635\n",
      "estimating...estimator 1; ROC AUC score: 0.45454545454545453\n",
      "generalization test group 1\n",
      "79\n",
      "34\n",
      "hyper-parameter search group 0\n",
      "52\n",
      "27\n",
      "estimating...estimator 0; ROC AUC score: 0.391304347826087\n",
      "estimating...estimator 1; ROC AUC score: 0.5597826086956521\n",
      "hyper-parameter search group 1\n",
      "53\n",
      "26\n",
      "estimating...estimator 0; ROC AUC score: 0.5340909090909091\n",
      "estimating...estimator 1; ROC AUC score: 0.5113636363636364\n",
      "hyper-parameter search group 2\n",
      "53\n",
      "26\n",
      "estimating...estimator 0; ROC AUC score: 0.38636363636363635\n",
      "estimating...estimator 1; ROC AUC score: 0.3977272727272727\n",
      "generalization test group 2\n",
      "74\n",
      "39\n",
      "hyper-parameter search group 0\n",
      "47\n",
      "27\n",
      "estimating...estimator 0; ROC AUC score: 0.6793478260869565\n",
      "estimating...estimator 1; ROC AUC score: 0.6576086956521741\n",
      "hyper-parameter search group 1\n",
      "53\n",
      "21\n",
      "estimating...estimator 0; ROC AUC score: 0.3611111111111111\n",
      "estimating...estimator 1; ROC AUC score: 0.5277777777777778\n",
      "hyper-parameter search group 2\n",
      "48\n",
      "26\n",
      "estimating...estimator 0; ROC AUC score: 0.5340909090909091\n",
      "estimating...estimator 1; ROC AUC score: 0.5340909090909091\n",
      "estimator_i\n",
      "1    0.516579\n",
      "0    0.459169\n",
      "Name: score, dtype: float64\n",
      "chose estimator 1\n",
      "generalization test group 0\n",
      "generalization test group 1\n",
      "generalization test group 2\n",
      "cross-validated score is: 0.4856004901960784\n",
      "precision, recall, fscore, support:\n",
      "(array([0.84415584, 0.13888889]), array([0.67708333, 0.29411765]), array([0.75144509, 0.18867925]), array([96, 17]))\n",
      "raw (overfit) score is: 1.0\n",
      "0.0    77\n",
      "1.0    36\n",
      "dtype: int64\n",
      "0.4856004901960784\n",
      "DEV063\n",
      "generalization test group 0\n",
      "71\n",
      "36\n",
      "hyper-parameter search group 0\n",
      "44\n",
      "27\n",
      "estimating...estimator 0; ROC AUC score: 0.37499999999999994\n",
      "estimating...estimator 1; ROC AUC score: 0.4583333333333333\n",
      "hyper-parameter search group 1\n",
      "45\n",
      "26\n",
      "estimating...estimator 0; ROC AUC score: 0.7173913043478262\n",
      "estimating...estimator 1; ROC AUC score: 0.644927536231884\n",
      "hyper-parameter search group 2\n",
      "53\n",
      "18\n",
      "estimating...estimator 0; ROC AUC score: 0.25\n",
      "estimating...estimator 1; ROC AUC score: 0.4375\n",
      "generalization test group 1\n",
      "71\n",
      "36\n",
      "hyper-parameter search group 0\n",
      "44\n",
      "27\n",
      "estimating...estimator 0; ROC AUC score: 0.5416666666666666\n",
      "estimating...estimator 1; ROC AUC score: 0.4791666666666667\n",
      "hyper-parameter search group 1\n",
      "45\n",
      "26\n",
      "estimating...estimator 0; ROC AUC score: 0.8043478260869565\n",
      "estimating...estimator 1; ROC AUC score: 0.4782608695652174\n",
      "hyper-parameter search group 2\n",
      "53\n",
      "18\n",
      "estimating...estimator 0; ROC AUC score: 0.21875\n",
      "estimating...estimator 1; ROC AUC score: 0.59375\n",
      "generalization test group 2\n",
      "72\n",
      "35\n",
      "hyper-parameter search group 0\n",
      "45\n",
      "27\n",
      "estimating...estimator 0; ROC AUC score: 0.43750000000000006\n",
      "estimating...estimator 1; ROC AUC score: 0.4583333333333333\n",
      "hyper-parameter search group 1\n",
      "45\n",
      "27\n",
      "estimating...estimator 0; ROC AUC score: 0.5625\n",
      "estimating...estimator 1; ROC AUC score: 0.6666666666666666\n",
      "hyper-parameter search group 2\n",
      "54\n",
      "18\n",
      "estimating...estimator 0; ROC AUC score: 0.46875\n",
      "estimating...estimator 1; ROC AUC score: 0.71875\n",
      "estimator_i\n",
      "1    0.548410\n",
      "0    0.486212\n",
      "Name: score, dtype: float64\n",
      "chose estimator 1\n",
      "generalization test group 0\n",
      "generalization test group 1\n",
      "generalization test group 2\n",
      "cross-validated score is: 0.5254385964912281\n",
      "precision, recall, fscore, support:\n",
      "(array([0.89361702, 0.15384615]), array([0.88421053, 0.16666667]), array([0.88888889, 0.16      ]), array([95, 12]))\n",
      "raw (overfit) score is: 1.0\n",
      "0.0    94\n",
      "1.0    13\n",
      "dtype: int64\n",
      "0.5254385964912281\n",
      "DEV064\n",
      "generalization test group 0\n",
      "70\n",
      "42\n",
      "hyper-parameter search group 0\n",
      "42\n",
      "28\n",
      "estimating...estimator 0; ROC AUC score: 0.6041666666666667\n",
      "estimating...estimator 1; ROC AUC score: 0.5208333333333333\n",
      "hyper-parameter search group 1\n",
      "49\n",
      "21\n",
      "estimating...estimator 0; ROC AUC score: 0.33333333333333337\n",
      "estimating...estimator 1; ROC AUC score: 0.4722222222222222\n",
      "hyper-parameter search group 2\n",
      "49\n",
      "21\n",
      "estimating...estimator 0; ROC AUC score: 0.638888888888889\n",
      "estimating...estimator 1; ROC AUC score: 0.5\n",
      "generalization test group 1\n",
      "77\n",
      "35\n",
      "hyper-parameter search group 0\n",
      "49\n",
      "28\n",
      "estimating...estimator 0; ROC AUC score: 0.2916666666666667\n"
     ]
    },
    {
     "name": "stdout",
     "output_type": "stream",
     "text": [
      "estimating...estimator 1; ROC AUC score: 0.4166666666666667\n",
      "hyper-parameter search group 1\n",
      "49\n",
      "28\n",
      "estimating...estimator 0; ROC AUC score: 0.4375\n",
      "estimating...estimator 1; ROC AUC score: 0.5625\n",
      "hyper-parameter search group 2\n",
      "56\n",
      "21\n",
      "estimating...estimator 0; ROC AUC score: 0.41666666666666663\n",
      "estimating...estimator 1; ROC AUC score: 0.5833333333333334\n",
      "generalization test group 2\n",
      "77\n",
      "35\n",
      "hyper-parameter search group 0\n",
      "49\n",
      "28\n",
      "estimating...estimator 0; ROC AUC score: 0.5416666666666666\n",
      "estimating...estimator 1; ROC AUC score: 0.7083333333333334\n",
      "hyper-parameter search group 1\n",
      "49\n",
      "28\n",
      "estimating...estimator 0; ROC AUC score: 0.7083333333333334\n",
      "estimating...estimator 1; ROC AUC score: 0.7083333333333334\n",
      "hyper-parameter search group 2\n",
      "56\n",
      "21\n",
      "estimating...estimator 0; ROC AUC score: 0.5833333333333334\n",
      "estimating...estimator 1; ROC AUC score: 0.6388888888888888\n",
      "estimator_i\n",
      "1    0.567901\n",
      "0    0.506173\n",
      "Name: score, dtype: float64\n",
      "chose estimator 1\n",
      "generalization test group 0\n",
      "generalization test group 1\n",
      "generalization test group 2\n",
      "cross-validated score is: 0.5416666666666667\n",
      "precision, recall, fscore, support:\n",
      "(array([0.86956522, 0.2       ]), array([0.83333333, 0.25      ]), array([0.85106383, 0.22222222]), array([96, 16]))\n",
      "raw (overfit) score is: 1.0\n",
      "0.0    92\n",
      "1.0    20\n",
      "dtype: int64\n",
      "0.5416666666666667\n",
      "DEV067\n",
      "generalization test group 0\n",
      "55\n",
      "27\n",
      "hyper-parameter search group 0\n",
      "36\n",
      "19\n",
      "estimating...estimator 0; ROC AUC score: 0.5857142857142856\n",
      "estimating...estimator 1; ROC AUC score: 0.5642857142857143\n",
      "hyper-parameter search group 1\n",
      "37\n",
      "18\n",
      "estimating...estimator 0; ROC AUC score: 0.5076923076923077\n",
      "estimating...estimator 1; ROC AUC score: 0.3846153846153846\n",
      "hyper-parameter search group 2\n",
      "37\n",
      "18\n",
      "estimating...estimator 0; ROC AUC score: 0.6076923076923078\n",
      "estimating...estimator 1; ROC AUC score: 0.4307692307692308\n",
      "generalization test group 1\n",
      "53\n",
      "29\n",
      "hyper-parameter search group 0\n",
      "34\n",
      "19\n",
      "estimating...estimator 0; ROC AUC score: 0.48571428571428565\n",
      "estimating...estimator 1; ROC AUC score: 0.4285714285714286\n",
      "hyper-parameter search group 1\n",
      "37\n",
      "16\n",
      "estimating...estimator 0; ROC AUC score: 0.3333333333333333\n",
      "estimating...estimator 1; ROC AUC score: 0.5416666666666667\n",
      "hyper-parameter search group 2\n",
      "35\n",
      "18\n",
      "estimating...estimator 0; ROC AUC score: 0.7461538461538462\n",
      "estimating...estimator 1; ROC AUC score: 0.4230769230769231\n",
      "generalization test group 2\n",
      "56\n",
      "26\n",
      "hyper-parameter search group 0\n",
      "37\n",
      "19\n",
      "estimating...estimator 0; ROC AUC score: 0.25\n",
      "estimating...estimator 1; ROC AUC score: 0.5642857142857143\n",
      "hyper-parameter search group 1\n",
      "37\n",
      "19\n",
      "estimating...estimator 0; ROC AUC score: 0.5214285714285714\n",
      "estimating...estimator 1; ROC AUC score: 0.4928571428571428\n",
      "hyper-parameter search group 2\n",
      "38\n",
      "18\n",
      "estimating...estimator 0; ROC AUC score: 0.45384615384615384\n",
      "estimating...estimator 1; ROC AUC score: 0.523076923076923\n",
      "estimator_i\n",
      "0    0.499064\n",
      "1    0.483689\n",
      "Name: score, dtype: float64\n",
      "chose estimator 0\n",
      "generalization test group 0\n",
      "generalization test group 1\n",
      "generalization test group 2\n",
      "cross-validated score is: 0.5416666666666666\n",
      "precision, recall, fscore, support:\n",
      "(array([0.76086957, 0.30555556]), array([0.58333333, 0.5       ]), array([0.66037736, 0.37931034]), array([60, 22]))\n",
      "raw (overfit) score is: 1.0\n",
      "0.0    46\n",
      "1.0    36\n",
      "dtype: int64\n",
      "0.5416666666666666\n"
     ]
    }
   ],
   "source": [
    "from SST.classify_trialwise_gng_sklearn import main\n",
    "\n",
    "main('/SST/Brain_Data_betaseries_nos_6subs_correct_cond_pfc.pkl')"
   ]
  },
  {
   "cell_type": "code",
   "execution_count": 2,
   "id": "quiet-class",
   "metadata": {},
   "outputs": [
    {
     "name": "stderr",
     "output_type": "stream",
     "text": [
      "/gpfs/projects/sanlab/shared/DEV/DEV_scripts/fMRI/ml/SST/classify_trialwise_gng_sklearn.py:64: UserWarning: not sure if this file holds up--it was created in 2021; need to see if it's still valid\n",
      "  warnings.warn(\"not sure if this file holds up--it was created in 2021; need to see if it's still valid\")\n"
     ]
    },
    {
     "name": "stdout",
     "output_type": "stream",
     "text": [
      "checked for intersection and no intersection between the brain data and the subjects was found.\n",
      "there were 30 subjects overlapping between the subjects marked for train data and the training dump file itself.\n",
      "test_train_set: 72407\n",
      "brain_data_filepath: 168\n",
      "pkl_file: 168\n",
      "train_test_markers_filepath: 141\n",
      "response_transform_func: 136\n",
      "Brain_Data_allsubs: 48\n"
     ]
    },
    {
     "name": "stderr",
     "output_type": "stream",
     "text": [
      "/gpfs/projects/sanlab/shared/DEV/DEV_scripts/fMRI/ml/apply_loocv_and_save.py:290: SettingWithCopyWarning: \n",
      "A value is trying to be set on a copy of a slice from a DataFrame\n",
      "\n",
      "See the caveats in the documentation: https://pandas.pydata.org/pandas-docs/stable/user_guide/indexing.html#returning-a-view-versus-a-copy\n",
      "  Brain_Data_allsubs.Y[Brain_Data_allsubs.Y=='NULL']=None\n"
     ]
    },
    {
     "name": "stdout",
     "output_type": "stream",
     "text": [
      "3214\n",
      "3214\n",
      "DEV011\n",
      "generalization test group 0\n",
      "72\n",
      "36\n",
      "hyper-parameter search group 0\n",
      "50\n",
      "22\n",
      "estimating...estimator 0; ROC AUC score: 0.4473684210526316\n",
      "estimating..."
     ]
    },
    {
     "name": "stderr",
     "output_type": "stream",
     "text": [
      "/home/bsmith16/.conda/envs/neuralsignature/lib/python3.8/site-packages/sklearn/feature_selection/_variance_threshold.py:78: RuntimeWarning: Degrees of freedom <= 0 for slice.\n",
      "  self.variances_ = np.nanvar(X, axis=0)\n",
      "/home/bsmith16/.conda/envs/neuralsignature/lib/python3.8/site-packages/sklearn/feature_selection/_variance_threshold.py:86: RuntimeWarning: All-NaN slice encountered\n",
      "  self.variances_ = np.nanmin(compare_arr, axis=0)\n",
      "/home/bsmith16/.conda/envs/neuralsignature/lib/python3.8/site-packages/sklearn/feature_selection/_variance_threshold.py:78: RuntimeWarning: Degrees of freedom <= 0 for slice.\n",
      "  self.variances_ = np.nanvar(X, axis=0)\n",
      "/home/bsmith16/.conda/envs/neuralsignature/lib/python3.8/site-packages/sklearn/feature_selection/_variance_threshold.py:86: RuntimeWarning: All-NaN slice encountered\n",
      "  self.variances_ = np.nanmin(compare_arr, axis=0)\n"
     ]
    },
    {
     "name": "stdout",
     "output_type": "stream",
     "text": [
      "estimator 1; ROC AUC score: 0.5\n",
      "hyper-parameter search group 1\n",
      "50\n",
      "22\n",
      "estimating...estimator 0; ROC AUC score: 0.4473684210526316\n",
      "estimating...estimator 1; ROC AUC score: 0.4736842105263158\n",
      "hyper-parameter search group 2\n",
      "44\n",
      "28\n",
      "estimating..."
     ]
    },
    {
     "name": "stderr",
     "output_type": "stream",
     "text": [
      "/home/bsmith16/.conda/envs/neuralsignature/lib/python3.8/site-packages/sklearn/feature_selection/_variance_threshold.py:78: RuntimeWarning: Degrees of freedom <= 0 for slice.\n",
      "  self.variances_ = np.nanvar(X, axis=0)\n",
      "/home/bsmith16/.conda/envs/neuralsignature/lib/python3.8/site-packages/sklearn/feature_selection/_variance_threshold.py:86: RuntimeWarning: All-NaN slice encountered\n",
      "  self.variances_ = np.nanmin(compare_arr, axis=0)\n",
      "/home/bsmith16/.conda/envs/neuralsignature/lib/python3.8/site-packages/sklearn/feature_selection/_variance_threshold.py:78: RuntimeWarning: Degrees of freedom <= 0 for slice.\n",
      "  self.variances_ = np.nanvar(X, axis=0)\n",
      "/home/bsmith16/.conda/envs/neuralsignature/lib/python3.8/site-packages/sklearn/feature_selection/_variance_threshold.py:86: RuntimeWarning: All-NaN slice encountered\n",
      "  self.variances_ = np.nanmin(compare_arr, axis=0)\n",
      "/home/bsmith16/.conda/envs/neuralsignature/lib/python3.8/site-packages/sklearn/feature_selection/_variance_threshold.py:78: RuntimeWarning: Degrees of freedom <= 0 for slice.\n",
      "  self.variances_ = np.nanvar(X, axis=0)\n",
      "/home/bsmith16/.conda/envs/neuralsignature/lib/python3.8/site-packages/sklearn/feature_selection/_variance_threshold.py:86: RuntimeWarning: All-NaN slice encountered\n",
      "  self.variances_ = np.nanmin(compare_arr, axis=0)\n"
     ]
    },
    {
     "name": "stdout",
     "output_type": "stream",
     "text": [
      "estimator 0; ROC AUC score: 0.6041666666666666\n",
      "estimating...estimator 1; ROC AUC score: 0.4583333333333333\n",
      "generalization test group 1\n",
      "72\n",
      "36\n",
      "hyper-parameter search group 0\n",
      "50\n",
      "22\n",
      "estimating...estimator 0; ROC AUC score: 0.6403508771929824\n",
      "estimating..."
     ]
    },
    {
     "name": "stderr",
     "output_type": "stream",
     "text": [
      "/home/bsmith16/.conda/envs/neuralsignature/lib/python3.8/site-packages/sklearn/feature_selection/_variance_threshold.py:78: RuntimeWarning: Degrees of freedom <= 0 for slice.\n",
      "  self.variances_ = np.nanvar(X, axis=0)\n",
      "/home/bsmith16/.conda/envs/neuralsignature/lib/python3.8/site-packages/sklearn/feature_selection/_variance_threshold.py:86: RuntimeWarning: All-NaN slice encountered\n",
      "  self.variances_ = np.nanmin(compare_arr, axis=0)\n",
      "/home/bsmith16/.conda/envs/neuralsignature/lib/python3.8/site-packages/sklearn/feature_selection/_variance_threshold.py:78: RuntimeWarning: Degrees of freedom <= 0 for slice.\n",
      "  self.variances_ = np.nanvar(X, axis=0)\n",
      "/home/bsmith16/.conda/envs/neuralsignature/lib/python3.8/site-packages/sklearn/feature_selection/_variance_threshold.py:86: RuntimeWarning: All-NaN slice encountered\n",
      "  self.variances_ = np.nanmin(compare_arr, axis=0)\n",
      "/home/bsmith16/.conda/envs/neuralsignature/lib/python3.8/site-packages/sklearn/feature_selection/_variance_threshold.py:78: RuntimeWarning: Degrees of freedom <= 0 for slice.\n",
      "  self.variances_ = np.nanvar(X, axis=0)\n",
      "/home/bsmith16/.conda/envs/neuralsignature/lib/python3.8/site-packages/sklearn/feature_selection/_variance_threshold.py:86: RuntimeWarning: All-NaN slice encountered\n",
      "  self.variances_ = np.nanmin(compare_arr, axis=0)\n",
      "/home/bsmith16/.conda/envs/neuralsignature/lib/python3.8/site-packages/sklearn/feature_selection/_variance_threshold.py:78: RuntimeWarning: Degrees of freedom <= 0 for slice.\n",
      "  self.variances_ = np.nanvar(X, axis=0)\n",
      "/home/bsmith16/.conda/envs/neuralsignature/lib/python3.8/site-packages/sklearn/feature_selection/_variance_threshold.py:86: RuntimeWarning: All-NaN slice encountered\n",
      "  self.variances_ = np.nanmin(compare_arr, axis=0)\n",
      "/home/bsmith16/.conda/envs/neuralsignature/lib/python3.8/site-packages/sklearn/feature_selection/_variance_threshold.py:78: RuntimeWarning: Degrees of freedom <= 0 for slice.\n",
      "  self.variances_ = np.nanvar(X, axis=0)\n",
      "/home/bsmith16/.conda/envs/neuralsignature/lib/python3.8/site-packages/sklearn/feature_selection/_variance_threshold.py:86: RuntimeWarning: All-NaN slice encountered\n",
      "  self.variances_ = np.nanmin(compare_arr, axis=0)\n"
     ]
    },
    {
     "name": "stdout",
     "output_type": "stream",
     "text": [
      "estimator 1; ROC AUC score: 0.4736842105263158\n",
      "hyper-parameter search group 1\n",
      "50\n",
      "22\n",
      "estimating...estimator 0; ROC AUC score: 0.39473684210526316\n",
      "estimating...estimator 1; ROC AUC score: 0.5\n",
      "hyper-parameter search group 2\n",
      "44\n",
      "28\n",
      "estimating..."
     ]
    },
    {
     "name": "stderr",
     "output_type": "stream",
     "text": [
      "/home/bsmith16/.conda/envs/neuralsignature/lib/python3.8/site-packages/sklearn/feature_selection/_variance_threshold.py:78: RuntimeWarning: Degrees of freedom <= 0 for slice.\n",
      "  self.variances_ = np.nanvar(X, axis=0)\n",
      "/home/bsmith16/.conda/envs/neuralsignature/lib/python3.8/site-packages/sklearn/feature_selection/_variance_threshold.py:86: RuntimeWarning: All-NaN slice encountered\n",
      "  self.variances_ = np.nanmin(compare_arr, axis=0)\n",
      "/home/bsmith16/.conda/envs/neuralsignature/lib/python3.8/site-packages/sklearn/feature_selection/_variance_threshold.py:78: RuntimeWarning: Degrees of freedom <= 0 for slice.\n",
      "  self.variances_ = np.nanvar(X, axis=0)\n",
      "/home/bsmith16/.conda/envs/neuralsignature/lib/python3.8/site-packages/sklearn/feature_selection/_variance_threshold.py:86: RuntimeWarning: All-NaN slice encountered\n",
      "  self.variances_ = np.nanmin(compare_arr, axis=0)\n",
      "/home/bsmith16/.conda/envs/neuralsignature/lib/python3.8/site-packages/sklearn/feature_selection/_variance_threshold.py:78: RuntimeWarning: Degrees of freedom <= 0 for slice.\n",
      "  self.variances_ = np.nanvar(X, axis=0)\n",
      "/home/bsmith16/.conda/envs/neuralsignature/lib/python3.8/site-packages/sklearn/feature_selection/_variance_threshold.py:86: RuntimeWarning: All-NaN slice encountered\n",
      "  self.variances_ = np.nanmin(compare_arr, axis=0)\n"
     ]
    },
    {
     "name": "stdout",
     "output_type": "stream",
     "text": [
      "estimator 0; ROC AUC score: 0.6875\n",
      "estimating...estimator 1; ROC AUC score: 0.5833333333333333\n",
      "generalization test group 2\n",
      "72\n",
      "36\n",
      "hyper-parameter search group 0\n",
      "50\n",
      "22\n",
      "estimating...estimator 0; ROC AUC score: 0.5614035087719298\n",
      "estimating..."
     ]
    },
    {
     "name": "stderr",
     "output_type": "stream",
     "text": [
      "/home/bsmith16/.conda/envs/neuralsignature/lib/python3.8/site-packages/sklearn/feature_selection/_variance_threshold.py:78: RuntimeWarning: Degrees of freedom <= 0 for slice.\n",
      "  self.variances_ = np.nanvar(X, axis=0)\n",
      "/home/bsmith16/.conda/envs/neuralsignature/lib/python3.8/site-packages/sklearn/feature_selection/_variance_threshold.py:86: RuntimeWarning: All-NaN slice encountered\n",
      "  self.variances_ = np.nanmin(compare_arr, axis=0)\n",
      "/home/bsmith16/.conda/envs/neuralsignature/lib/python3.8/site-packages/sklearn/feature_selection/_variance_threshold.py:78: RuntimeWarning: Degrees of freedom <= 0 for slice.\n",
      "  self.variances_ = np.nanvar(X, axis=0)\n",
      "/home/bsmith16/.conda/envs/neuralsignature/lib/python3.8/site-packages/sklearn/feature_selection/_variance_threshold.py:86: RuntimeWarning: All-NaN slice encountered\n",
      "  self.variances_ = np.nanmin(compare_arr, axis=0)\n",
      "/home/bsmith16/.conda/envs/neuralsignature/lib/python3.8/site-packages/sklearn/feature_selection/_variance_threshold.py:78: RuntimeWarning: Degrees of freedom <= 0 for slice.\n",
      "  self.variances_ = np.nanvar(X, axis=0)\n",
      "/home/bsmith16/.conda/envs/neuralsignature/lib/python3.8/site-packages/sklearn/feature_selection/_variance_threshold.py:86: RuntimeWarning: All-NaN slice encountered\n",
      "  self.variances_ = np.nanmin(compare_arr, axis=0)\n"
     ]
    },
    {
     "name": "stdout",
     "output_type": "stream",
     "text": [
      "estimator 1; ROC AUC score: 0.4736842105263158\n",
      "hyper-parameter search group 1\n",
      "50\n",
      "22\n",
      "estimating...estimator 0; ROC AUC score: 0.587719298245614\n",
      "estimating...estimator 1; ROC AUC score: 0.5614035087719298\n",
      "hyper-parameter search group 2\n",
      "44\n",
      "28\n",
      "estimating..."
     ]
    },
    {
     "name": "stderr",
     "output_type": "stream",
     "text": [
      "/home/bsmith16/.conda/envs/neuralsignature/lib/python3.8/site-packages/sklearn/feature_selection/_variance_threshold.py:78: RuntimeWarning: Degrees of freedom <= 0 for slice.\n",
      "  self.variances_ = np.nanvar(X, axis=0)\n",
      "/home/bsmith16/.conda/envs/neuralsignature/lib/python3.8/site-packages/sklearn/feature_selection/_variance_threshold.py:86: RuntimeWarning: All-NaN slice encountered\n",
      "  self.variances_ = np.nanmin(compare_arr, axis=0)\n",
      "/home/bsmith16/.conda/envs/neuralsignature/lib/python3.8/site-packages/sklearn/feature_selection/_variance_threshold.py:78: RuntimeWarning: Degrees of freedom <= 0 for slice.\n",
      "  self.variances_ = np.nanvar(X, axis=0)\n",
      "/home/bsmith16/.conda/envs/neuralsignature/lib/python3.8/site-packages/sklearn/feature_selection/_variance_threshold.py:86: RuntimeWarning: All-NaN slice encountered\n",
      "  self.variances_ = np.nanmin(compare_arr, axis=0)\n",
      "/home/bsmith16/.conda/envs/neuralsignature/lib/python3.8/site-packages/sklearn/feature_selection/_variance_threshold.py:78: RuntimeWarning: Degrees of freedom <= 0 for slice.\n",
      "  self.variances_ = np.nanvar(X, axis=0)\n",
      "/home/bsmith16/.conda/envs/neuralsignature/lib/python3.8/site-packages/sklearn/feature_selection/_variance_threshold.py:86: RuntimeWarning: All-NaN slice encountered\n",
      "  self.variances_ = np.nanmin(compare_arr, axis=0)\n"
     ]
    },
    {
     "name": "stdout",
     "output_type": "stream",
     "text": [
      "estimator 0; ROC AUC score: 0.7083333333333334\n",
      "estimating...estimator 1; ROC AUC score: 0.5833333333333333\n",
      "estimator_i\n",
      "0    0.564327\n",
      "1    0.511940\n",
      "Name: score, dtype: float64\n",
      "chose estimator 0\n",
      "generalization test group 0\n",
      "generalization test group 1\n"
     ]
    },
    {
     "name": "stderr",
     "output_type": "stream",
     "text": [
      "/home/bsmith16/.conda/envs/neuralsignature/lib/python3.8/site-packages/sklearn/feature_selection/_variance_threshold.py:78: RuntimeWarning: Degrees of freedom <= 0 for slice.\n",
      "  self.variances_ = np.nanvar(X, axis=0)\n",
      "/home/bsmith16/.conda/envs/neuralsignature/lib/python3.8/site-packages/sklearn/feature_selection/_variance_threshold.py:86: RuntimeWarning: All-NaN slice encountered\n",
      "  self.variances_ = np.nanmin(compare_arr, axis=0)\n",
      "/home/bsmith16/.conda/envs/neuralsignature/lib/python3.8/site-packages/sklearn/feature_selection/_variance_threshold.py:78: RuntimeWarning: Degrees of freedom <= 0 for slice.\n",
      "  self.variances_ = np.nanvar(X, axis=0)\n",
      "/home/bsmith16/.conda/envs/neuralsignature/lib/python3.8/site-packages/sklearn/feature_selection/_variance_threshold.py:86: RuntimeWarning: All-NaN slice encountered\n",
      "  self.variances_ = np.nanmin(compare_arr, axis=0)\n"
     ]
    },
    {
     "name": "stdout",
     "output_type": "stream",
     "text": [
      "generalization test group 2\n",
      "cross-validated score is: 0.6408602150537634\n",
      "precision, recall, fscore, support:\n",
      "(array([0.9010989 , 0.35294118]), array([0.88172043, 0.4       ]), array([0.89130435, 0.375     ]), array([93, 15]))\n"
     ]
    },
    {
     "name": "stderr",
     "output_type": "stream",
     "text": [
      "/home/bsmith16/.conda/envs/neuralsignature/lib/python3.8/site-packages/sklearn/feature_selection/_variance_threshold.py:78: RuntimeWarning: Degrees of freedom <= 0 for slice.\n",
      "  self.variances_ = np.nanvar(X, axis=0)\n",
      "/home/bsmith16/.conda/envs/neuralsignature/lib/python3.8/site-packages/sklearn/feature_selection/_variance_threshold.py:86: RuntimeWarning: All-NaN slice encountered\n",
      "  self.variances_ = np.nanmin(compare_arr, axis=0)\n",
      "/home/bsmith16/.conda/envs/neuralsignature/lib/python3.8/site-packages/sklearn/feature_selection/_variance_threshold.py:78: RuntimeWarning: Degrees of freedom <= 0 for slice.\n",
      "  self.variances_ = np.nanvar(X, axis=0)\n",
      "/home/bsmith16/.conda/envs/neuralsignature/lib/python3.8/site-packages/sklearn/feature_selection/_variance_threshold.py:86: RuntimeWarning: All-NaN slice encountered\n",
      "  self.variances_ = np.nanmin(compare_arr, axis=0)\n"
     ]
    },
    {
     "name": "stdout",
     "output_type": "stream",
     "text": [
      "raw (overfit) score is: 1.0\n",
      "0.0    91\n",
      "1.0    17\n",
      "dtype: int64\n",
      "0.6408602150537634\n",
      "DEV020\n",
      "generalization test group 0\n",
      "70\n",
      "42\n",
      "hyper-parameter search group 0\n",
      "42\n",
      "28\n",
      "estimating...estimator 0; ROC AUC score: 0.7083333333333334\n",
      "estimating..."
     ]
    },
    {
     "name": "stderr",
     "output_type": "stream",
     "text": [
      "/home/bsmith16/.conda/envs/neuralsignature/lib/python3.8/site-packages/sklearn/feature_selection/_variance_threshold.py:78: RuntimeWarning: Degrees of freedom <= 0 for slice.\n",
      "  self.variances_ = np.nanvar(X, axis=0)\n",
      "/home/bsmith16/.conda/envs/neuralsignature/lib/python3.8/site-packages/sklearn/feature_selection/_variance_threshold.py:86: RuntimeWarning: All-NaN slice encountered\n",
      "  self.variances_ = np.nanmin(compare_arr, axis=0)\n",
      "/home/bsmith16/.conda/envs/neuralsignature/lib/python3.8/site-packages/sklearn/feature_selection/_variance_threshold.py:78: RuntimeWarning: Degrees of freedom <= 0 for slice.\n",
      "  self.variances_ = np.nanvar(X, axis=0)\n",
      "/home/bsmith16/.conda/envs/neuralsignature/lib/python3.8/site-packages/sklearn/feature_selection/_variance_threshold.py:86: RuntimeWarning: All-NaN slice encountered\n",
      "  self.variances_ = np.nanmin(compare_arr, axis=0)\n",
      "/home/bsmith16/.conda/envs/neuralsignature/lib/python3.8/site-packages/sklearn/feature_selection/_variance_threshold.py:78: RuntimeWarning: Degrees of freedom <= 0 for slice.\n",
      "  self.variances_ = np.nanvar(X, axis=0)\n",
      "/home/bsmith16/.conda/envs/neuralsignature/lib/python3.8/site-packages/sklearn/feature_selection/_variance_threshold.py:86: RuntimeWarning: All-NaN slice encountered\n",
      "  self.variances_ = np.nanmin(compare_arr, axis=0)\n"
     ]
    },
    {
     "name": "stdout",
     "output_type": "stream",
     "text": [
      "estimator 1; ROC AUC score: 0.4791666666666667\n",
      "hyper-parameter search group 1\n",
      "49\n",
      "21\n",
      "estimating...estimator 0; ROC AUC score: 0.7222222222222222\n",
      "estimating...estimator 1; ROC AUC score: 0.4166666666666667\n",
      "hyper-parameter search group 2\n",
      "49\n",
      "21\n",
      "estimating..."
     ]
    },
    {
     "name": "stderr",
     "output_type": "stream",
     "text": [
      "/home/bsmith16/.conda/envs/neuralsignature/lib/python3.8/site-packages/sklearn/feature_selection/_variance_threshold.py:78: RuntimeWarning: Degrees of freedom <= 0 for slice.\n",
      "  self.variances_ = np.nanvar(X, axis=0)\n",
      "/home/bsmith16/.conda/envs/neuralsignature/lib/python3.8/site-packages/sklearn/feature_selection/_variance_threshold.py:86: RuntimeWarning: All-NaN slice encountered\n",
      "  self.variances_ = np.nanmin(compare_arr, axis=0)\n",
      "/home/bsmith16/.conda/envs/neuralsignature/lib/python3.8/site-packages/sklearn/feature_selection/_variance_threshold.py:78: RuntimeWarning: Degrees of freedom <= 0 for slice.\n",
      "  self.variances_ = np.nanvar(X, axis=0)\n",
      "/home/bsmith16/.conda/envs/neuralsignature/lib/python3.8/site-packages/sklearn/feature_selection/_variance_threshold.py:86: RuntimeWarning: All-NaN slice encountered\n",
      "  self.variances_ = np.nanmin(compare_arr, axis=0)\n",
      "/home/bsmith16/.conda/envs/neuralsignature/lib/python3.8/site-packages/sklearn/feature_selection/_variance_threshold.py:78: RuntimeWarning: Degrees of freedom <= 0 for slice.\n",
      "  self.variances_ = np.nanvar(X, axis=0)\n",
      "/home/bsmith16/.conda/envs/neuralsignature/lib/python3.8/site-packages/sklearn/feature_selection/_variance_threshold.py:86: RuntimeWarning: All-NaN slice encountered\n",
      "  self.variances_ = np.nanmin(compare_arr, axis=0)\n"
     ]
    },
    {
     "name": "stdout",
     "output_type": "stream",
     "text": [
      "estimator 0; ROC AUC score: 0.5555555555555556\n",
      "estimating...estimator 1; ROC AUC score: 0.4166666666666667\n",
      "generalization test group 1\n",
      "77\n",
      "35\n",
      "hyper-parameter search group 0\n",
      "49\n",
      "28\n",
      "estimating...estimator 0; ROC AUC score: 0.4791666666666666\n",
      "estimating..."
     ]
    },
    {
     "name": "stderr",
     "output_type": "stream",
     "text": [
      "/home/bsmith16/.conda/envs/neuralsignature/lib/python3.8/site-packages/sklearn/feature_selection/_variance_threshold.py:78: RuntimeWarning: Degrees of freedom <= 0 for slice.\n",
      "  self.variances_ = np.nanvar(X, axis=0)\n",
      "/home/bsmith16/.conda/envs/neuralsignature/lib/python3.8/site-packages/sklearn/feature_selection/_variance_threshold.py:86: RuntimeWarning: All-NaN slice encountered\n",
      "  self.variances_ = np.nanmin(compare_arr, axis=0)\n",
      "/home/bsmith16/.conda/envs/neuralsignature/lib/python3.8/site-packages/sklearn/feature_selection/_variance_threshold.py:78: RuntimeWarning: Degrees of freedom <= 0 for slice.\n",
      "  self.variances_ = np.nanvar(X, axis=0)\n",
      "/home/bsmith16/.conda/envs/neuralsignature/lib/python3.8/site-packages/sklearn/feature_selection/_variance_threshold.py:86: RuntimeWarning: All-NaN slice encountered\n",
      "  self.variances_ = np.nanmin(compare_arr, axis=0)\n",
      "/home/bsmith16/.conda/envs/neuralsignature/lib/python3.8/site-packages/sklearn/feature_selection/_variance_threshold.py:78: RuntimeWarning: Degrees of freedom <= 0 for slice.\n",
      "  self.variances_ = np.nanvar(X, axis=0)\n",
      "/home/bsmith16/.conda/envs/neuralsignature/lib/python3.8/site-packages/sklearn/feature_selection/_variance_threshold.py:86: RuntimeWarning: All-NaN slice encountered\n",
      "  self.variances_ = np.nanmin(compare_arr, axis=0)\n"
     ]
    },
    {
     "name": "stdout",
     "output_type": "stream",
     "text": [
      "estimator 1; ROC AUC score: 0.4375\n",
      "hyper-parameter search group 1\n",
      "49\n",
      "28\n",
      "estimating...estimator 0; ROC AUC score: 0.7708333333333333\n",
      "estimating...estimator 1; ROC AUC score: 0.5208333333333333\n",
      "hyper-parameter search group 2\n",
      "56\n",
      "21\n",
      "estimating..."
     ]
    },
    {
     "name": "stderr",
     "output_type": "stream",
     "text": [
      "/home/bsmith16/.conda/envs/neuralsignature/lib/python3.8/site-packages/sklearn/feature_selection/_variance_threshold.py:78: RuntimeWarning: Degrees of freedom <= 0 for slice.\n",
      "  self.variances_ = np.nanvar(X, axis=0)\n",
      "/home/bsmith16/.conda/envs/neuralsignature/lib/python3.8/site-packages/sklearn/feature_selection/_variance_threshold.py:86: RuntimeWarning: All-NaN slice encountered\n",
      "  self.variances_ = np.nanmin(compare_arr, axis=0)\n",
      "/home/bsmith16/.conda/envs/neuralsignature/lib/python3.8/site-packages/sklearn/feature_selection/_variance_threshold.py:78: RuntimeWarning: Degrees of freedom <= 0 for slice.\n",
      "  self.variances_ = np.nanvar(X, axis=0)\n",
      "/home/bsmith16/.conda/envs/neuralsignature/lib/python3.8/site-packages/sklearn/feature_selection/_variance_threshold.py:86: RuntimeWarning: All-NaN slice encountered\n",
      "  self.variances_ = np.nanmin(compare_arr, axis=0)\n",
      "/home/bsmith16/.conda/envs/neuralsignature/lib/python3.8/site-packages/sklearn/feature_selection/_variance_threshold.py:78: RuntimeWarning: Degrees of freedom <= 0 for slice.\n",
      "  self.variances_ = np.nanvar(X, axis=0)\n",
      "/home/bsmith16/.conda/envs/neuralsignature/lib/python3.8/site-packages/sklearn/feature_selection/_variance_threshold.py:86: RuntimeWarning: All-NaN slice encountered\n",
      "  self.variances_ = np.nanmin(compare_arr, axis=0)\n"
     ]
    },
    {
     "name": "stdout",
     "output_type": "stream",
     "text": [
      "estimator 0; ROC AUC score: 0.5555555555555556\n",
      "estimating...estimator 1; ROC AUC score: 0.5555555555555556\n",
      "generalization test group 2\n",
      "77\n",
      "35\n",
      "hyper-parameter search group 0\n",
      "49\n",
      "28\n",
      "estimating...estimator 0; ROC AUC score: 0.625\n",
      "estimating..."
     ]
    },
    {
     "name": "stderr",
     "output_type": "stream",
     "text": [
      "/home/bsmith16/.conda/envs/neuralsignature/lib/python3.8/site-packages/sklearn/feature_selection/_variance_threshold.py:78: RuntimeWarning: Degrees of freedom <= 0 for slice.\n",
      "  self.variances_ = np.nanvar(X, axis=0)\n",
      "/home/bsmith16/.conda/envs/neuralsignature/lib/python3.8/site-packages/sklearn/feature_selection/_variance_threshold.py:86: RuntimeWarning: All-NaN slice encountered\n",
      "  self.variances_ = np.nanmin(compare_arr, axis=0)\n",
      "/home/bsmith16/.conda/envs/neuralsignature/lib/python3.8/site-packages/sklearn/feature_selection/_variance_threshold.py:78: RuntimeWarning: Degrees of freedom <= 0 for slice.\n",
      "  self.variances_ = np.nanvar(X, axis=0)\n",
      "/home/bsmith16/.conda/envs/neuralsignature/lib/python3.8/site-packages/sklearn/feature_selection/_variance_threshold.py:86: RuntimeWarning: All-NaN slice encountered\n",
      "  self.variances_ = np.nanmin(compare_arr, axis=0)\n",
      "/home/bsmith16/.conda/envs/neuralsignature/lib/python3.8/site-packages/sklearn/feature_selection/_variance_threshold.py:78: RuntimeWarning: Degrees of freedom <= 0 for slice.\n",
      "  self.variances_ = np.nanvar(X, axis=0)\n",
      "/home/bsmith16/.conda/envs/neuralsignature/lib/python3.8/site-packages/sklearn/feature_selection/_variance_threshold.py:86: RuntimeWarning: All-NaN slice encountered\n",
      "  self.variances_ = np.nanmin(compare_arr, axis=0)\n"
     ]
    },
    {
     "name": "stdout",
     "output_type": "stream",
     "text": [
      "estimator 1; ROC AUC score: 0.3958333333333333\n",
      "hyper-parameter search group 1\n",
      "49\n",
      "28\n",
      "estimating...estimator 0; ROC AUC score: 0.5416666666666667\n",
      "estimating...estimator 1; ROC AUC score: 0.4375\n",
      "hyper-parameter search group 2\n",
      "56\n",
      "21\n",
      "estimating..."
     ]
    },
    {
     "name": "stderr",
     "output_type": "stream",
     "text": [
      "/home/bsmith16/.conda/envs/neuralsignature/lib/python3.8/site-packages/sklearn/feature_selection/_variance_threshold.py:78: RuntimeWarning: Degrees of freedom <= 0 for slice.\n",
      "  self.variances_ = np.nanvar(X, axis=0)\n",
      "/home/bsmith16/.conda/envs/neuralsignature/lib/python3.8/site-packages/sklearn/feature_selection/_variance_threshold.py:86: RuntimeWarning: All-NaN slice encountered\n",
      "  self.variances_ = np.nanmin(compare_arr, axis=0)\n",
      "/home/bsmith16/.conda/envs/neuralsignature/lib/python3.8/site-packages/sklearn/feature_selection/_variance_threshold.py:78: RuntimeWarning: Degrees of freedom <= 0 for slice.\n",
      "  self.variances_ = np.nanvar(X, axis=0)\n",
      "/home/bsmith16/.conda/envs/neuralsignature/lib/python3.8/site-packages/sklearn/feature_selection/_variance_threshold.py:86: RuntimeWarning: All-NaN slice encountered\n",
      "  self.variances_ = np.nanmin(compare_arr, axis=0)\n",
      "/home/bsmith16/.conda/envs/neuralsignature/lib/python3.8/site-packages/sklearn/feature_selection/_variance_threshold.py:78: RuntimeWarning: Degrees of freedom <= 0 for slice.\n",
      "  self.variances_ = np.nanvar(X, axis=0)\n",
      "/home/bsmith16/.conda/envs/neuralsignature/lib/python3.8/site-packages/sklearn/feature_selection/_variance_threshold.py:86: RuntimeWarning: All-NaN slice encountered\n",
      "  self.variances_ = np.nanmin(compare_arr, axis=0)\n"
     ]
    },
    {
     "name": "stdout",
     "output_type": "stream",
     "text": [
      "estimator 0; ROC AUC score: 0.5\n",
      "estimating...estimator 1; ROC AUC score: 0.4722222222222222\n",
      "estimator_i\n",
      "0    0.606481\n",
      "1    0.459105\n",
      "Name: score, dtype: float64\n",
      "chose estimator 0\n",
      "generalization test group 0\n",
      "generalization test group 1\n"
     ]
    },
    {
     "name": "stderr",
     "output_type": "stream",
     "text": [
      "/home/bsmith16/.conda/envs/neuralsignature/lib/python3.8/site-packages/sklearn/feature_selection/_variance_threshold.py:78: RuntimeWarning: Degrees of freedom <= 0 for slice.\n",
      "  self.variances_ = np.nanvar(X, axis=0)\n",
      "/home/bsmith16/.conda/envs/neuralsignature/lib/python3.8/site-packages/sklearn/feature_selection/_variance_threshold.py:86: RuntimeWarning: All-NaN slice encountered\n",
      "  self.variances_ = np.nanmin(compare_arr, axis=0)\n",
      "/home/bsmith16/.conda/envs/neuralsignature/lib/python3.8/site-packages/sklearn/feature_selection/_variance_threshold.py:78: RuntimeWarning: Degrees of freedom <= 0 for slice.\n",
      "  self.variances_ = np.nanvar(X, axis=0)\n",
      "/home/bsmith16/.conda/envs/neuralsignature/lib/python3.8/site-packages/sklearn/feature_selection/_variance_threshold.py:86: RuntimeWarning: All-NaN slice encountered\n",
      "  self.variances_ = np.nanmin(compare_arr, axis=0)\n"
     ]
    },
    {
     "name": "stdout",
     "output_type": "stream",
     "text": [
      "generalization test group 2\n",
      "cross-validated score is: 0.38541666666666663\n",
      "precision, recall, fscore, support:\n",
      "(array([0.81927711, 0.03448276]), array([0.70833333, 0.0625    ]), array([0.75977654, 0.04444444]), array([96, 16]))\n"
     ]
    },
    {
     "name": "stderr",
     "output_type": "stream",
     "text": [
      "/home/bsmith16/.conda/envs/neuralsignature/lib/python3.8/site-packages/sklearn/feature_selection/_variance_threshold.py:78: RuntimeWarning: Degrees of freedom <= 0 for slice.\n",
      "  self.variances_ = np.nanvar(X, axis=0)\n",
      "/home/bsmith16/.conda/envs/neuralsignature/lib/python3.8/site-packages/sklearn/feature_selection/_variance_threshold.py:86: RuntimeWarning: All-NaN slice encountered\n",
      "  self.variances_ = np.nanmin(compare_arr, axis=0)\n",
      "/home/bsmith16/.conda/envs/neuralsignature/lib/python3.8/site-packages/sklearn/feature_selection/_variance_threshold.py:78: RuntimeWarning: Degrees of freedom <= 0 for slice.\n",
      "  self.variances_ = np.nanvar(X, axis=0)\n",
      "/home/bsmith16/.conda/envs/neuralsignature/lib/python3.8/site-packages/sklearn/feature_selection/_variance_threshold.py:86: RuntimeWarning: All-NaN slice encountered\n",
      "  self.variances_ = np.nanmin(compare_arr, axis=0)\n"
     ]
    },
    {
     "name": "stdout",
     "output_type": "stream",
     "text": [
      "raw (overfit) score is: 1.0\n",
      "0.0    83\n",
      "1.0    29\n",
      "dtype: int64\n",
      "0.38541666666666663\n",
      "DEV047\n",
      "generalization test group 0\n",
      "73\n",
      "40\n",
      "hyper-parameter search group 0\n",
      "52\n",
      "21\n",
      "estimating...estimator 0; ROC AUC score: 0.33333333333333337\n",
      "estimating..."
     ]
    },
    {
     "name": "stderr",
     "output_type": "stream",
     "text": [
      "/home/bsmith16/.conda/envs/neuralsignature/lib/python3.8/site-packages/sklearn/feature_selection/_variance_threshold.py:78: RuntimeWarning: Degrees of freedom <= 0 for slice.\n",
      "  self.variances_ = np.nanvar(X, axis=0)\n",
      "/home/bsmith16/.conda/envs/neuralsignature/lib/python3.8/site-packages/sklearn/feature_selection/_variance_threshold.py:86: RuntimeWarning: All-NaN slice encountered\n",
      "  self.variances_ = np.nanmin(compare_arr, axis=0)\n",
      "/home/bsmith16/.conda/envs/neuralsignature/lib/python3.8/site-packages/sklearn/feature_selection/_variance_threshold.py:78: RuntimeWarning: Degrees of freedom <= 0 for slice.\n",
      "  self.variances_ = np.nanvar(X, axis=0)\n",
      "/home/bsmith16/.conda/envs/neuralsignature/lib/python3.8/site-packages/sklearn/feature_selection/_variance_threshold.py:86: RuntimeWarning: All-NaN slice encountered\n",
      "  self.variances_ = np.nanmin(compare_arr, axis=0)\n",
      "/home/bsmith16/.conda/envs/neuralsignature/lib/python3.8/site-packages/sklearn/feature_selection/_variance_threshold.py:78: RuntimeWarning: Degrees of freedom <= 0 for slice.\n",
      "  self.variances_ = np.nanvar(X, axis=0)\n",
      "/home/bsmith16/.conda/envs/neuralsignature/lib/python3.8/site-packages/sklearn/feature_selection/_variance_threshold.py:86: RuntimeWarning: All-NaN slice encountered\n",
      "  self.variances_ = np.nanmin(compare_arr, axis=0)\n"
     ]
    },
    {
     "name": "stdout",
     "output_type": "stream",
     "text": [
      "estimator 1; ROC AUC score: 0.4444444444444444\n",
      "hyper-parameter search group 1\n",
      "47\n",
      "26\n",
      "estimating...estimator 0; ROC AUC score: 0.46590909090909094\n",
      "estimating...estimator 1; ROC AUC score: 0.6363636363636364\n",
      "hyper-parameter search group 2\n",
      "47\n",
      "26\n",
      "estimating..."
     ]
    },
    {
     "name": "stderr",
     "output_type": "stream",
     "text": [
      "/home/bsmith16/.conda/envs/neuralsignature/lib/python3.8/site-packages/sklearn/feature_selection/_variance_threshold.py:78: RuntimeWarning: Degrees of freedom <= 0 for slice.\n",
      "  self.variances_ = np.nanvar(X, axis=0)\n",
      "/home/bsmith16/.conda/envs/neuralsignature/lib/python3.8/site-packages/sklearn/feature_selection/_variance_threshold.py:86: RuntimeWarning: All-NaN slice encountered\n",
      "  self.variances_ = np.nanmin(compare_arr, axis=0)\n",
      "/home/bsmith16/.conda/envs/neuralsignature/lib/python3.8/site-packages/sklearn/feature_selection/_variance_threshold.py:78: RuntimeWarning: Degrees of freedom <= 0 for slice.\n",
      "  self.variances_ = np.nanvar(X, axis=0)\n",
      "/home/bsmith16/.conda/envs/neuralsignature/lib/python3.8/site-packages/sklearn/feature_selection/_variance_threshold.py:86: RuntimeWarning: All-NaN slice encountered\n",
      "  self.variances_ = np.nanmin(compare_arr, axis=0)\n",
      "/home/bsmith16/.conda/envs/neuralsignature/lib/python3.8/site-packages/sklearn/feature_selection/_variance_threshold.py:78: RuntimeWarning: Degrees of freedom <= 0 for slice.\n",
      "  self.variances_ = np.nanvar(X, axis=0)\n",
      "/home/bsmith16/.conda/envs/neuralsignature/lib/python3.8/site-packages/sklearn/feature_selection/_variance_threshold.py:86: RuntimeWarning: All-NaN slice encountered\n",
      "  self.variances_ = np.nanmin(compare_arr, axis=0)\n"
     ]
    },
    {
     "name": "stdout",
     "output_type": "stream",
     "text": [
      "estimator 0; ROC AUC score: 0.45454545454545453\n",
      "estimating...estimator 1; ROC AUC score: 0.4772727272727273\n",
      "generalization test group 1\n",
      "79\n",
      "34\n",
      "hyper-parameter search group 0\n",
      "52\n",
      "27\n",
      "estimating...estimator 0; ROC AUC score: 0.5815217391304348\n",
      "estimating..."
     ]
    },
    {
     "name": "stderr",
     "output_type": "stream",
     "text": [
      "/home/bsmith16/.conda/envs/neuralsignature/lib/python3.8/site-packages/sklearn/feature_selection/_variance_threshold.py:78: RuntimeWarning: Degrees of freedom <= 0 for slice.\n",
      "  self.variances_ = np.nanvar(X, axis=0)\n",
      "/home/bsmith16/.conda/envs/neuralsignature/lib/python3.8/site-packages/sklearn/feature_selection/_variance_threshold.py:86: RuntimeWarning: All-NaN slice encountered\n",
      "  self.variances_ = np.nanmin(compare_arr, axis=0)\n",
      "/home/bsmith16/.conda/envs/neuralsignature/lib/python3.8/site-packages/sklearn/feature_selection/_variance_threshold.py:78: RuntimeWarning: Degrees of freedom <= 0 for slice.\n",
      "  self.variances_ = np.nanvar(X, axis=0)\n",
      "/home/bsmith16/.conda/envs/neuralsignature/lib/python3.8/site-packages/sklearn/feature_selection/_variance_threshold.py:86: RuntimeWarning: All-NaN slice encountered\n",
      "  self.variances_ = np.nanmin(compare_arr, axis=0)\n",
      "/home/bsmith16/.conda/envs/neuralsignature/lib/python3.8/site-packages/sklearn/feature_selection/_variance_threshold.py:78: RuntimeWarning: Degrees of freedom <= 0 for slice.\n",
      "  self.variances_ = np.nanvar(X, axis=0)\n",
      "/home/bsmith16/.conda/envs/neuralsignature/lib/python3.8/site-packages/sklearn/feature_selection/_variance_threshold.py:86: RuntimeWarning: All-NaN slice encountered\n",
      "  self.variances_ = np.nanmin(compare_arr, axis=0)\n"
     ]
    },
    {
     "name": "stdout",
     "output_type": "stream",
     "text": [
      "estimator 1; ROC AUC score: 0.5597826086956521\n",
      "hyper-parameter search group 1\n",
      "53\n",
      "26\n",
      "estimating...estimator 0; ROC AUC score: 0.48863636363636365\n",
      "estimating...estimator 1; ROC AUC score: 0.4318181818181818\n",
      "hyper-parameter search group 2\n",
      "53\n",
      "26\n",
      "estimating..."
     ]
    },
    {
     "name": "stderr",
     "output_type": "stream",
     "text": [
      "/home/bsmith16/.conda/envs/neuralsignature/lib/python3.8/site-packages/sklearn/feature_selection/_variance_threshold.py:78: RuntimeWarning: Degrees of freedom <= 0 for slice.\n",
      "  self.variances_ = np.nanvar(X, axis=0)\n",
      "/home/bsmith16/.conda/envs/neuralsignature/lib/python3.8/site-packages/sklearn/feature_selection/_variance_threshold.py:86: RuntimeWarning: All-NaN slice encountered\n",
      "  self.variances_ = np.nanmin(compare_arr, axis=0)\n",
      "/home/bsmith16/.conda/envs/neuralsignature/lib/python3.8/site-packages/sklearn/feature_selection/_variance_threshold.py:78: RuntimeWarning: Degrees of freedom <= 0 for slice.\n",
      "  self.variances_ = np.nanvar(X, axis=0)\n",
      "/home/bsmith16/.conda/envs/neuralsignature/lib/python3.8/site-packages/sklearn/feature_selection/_variance_threshold.py:86: RuntimeWarning: All-NaN slice encountered\n",
      "  self.variances_ = np.nanmin(compare_arr, axis=0)\n",
      "/home/bsmith16/.conda/envs/neuralsignature/lib/python3.8/site-packages/sklearn/feature_selection/_variance_threshold.py:78: RuntimeWarning: Degrees of freedom <= 0 for slice.\n",
      "  self.variances_ = np.nanvar(X, axis=0)\n",
      "/home/bsmith16/.conda/envs/neuralsignature/lib/python3.8/site-packages/sklearn/feature_selection/_variance_threshold.py:86: RuntimeWarning: All-NaN slice encountered\n",
      "  self.variances_ = np.nanmin(compare_arr, axis=0)\n"
     ]
    },
    {
     "name": "stdout",
     "output_type": "stream",
     "text": [
      "estimator 0; ROC AUC score: 0.590909090909091\n",
      "estimating...estimator 1; ROC AUC score: 0.3977272727272727\n",
      "generalization test group 2\n",
      "74\n",
      "39\n",
      "hyper-parameter search group 0\n",
      "47\n",
      "27\n",
      "estimating...estimator 0; ROC AUC score: 0.46739130434782605\n",
      "estimating..."
     ]
    },
    {
     "name": "stderr",
     "output_type": "stream",
     "text": [
      "/home/bsmith16/.conda/envs/neuralsignature/lib/python3.8/site-packages/sklearn/feature_selection/_variance_threshold.py:78: RuntimeWarning: Degrees of freedom <= 0 for slice.\n",
      "  self.variances_ = np.nanvar(X, axis=0)\n",
      "/home/bsmith16/.conda/envs/neuralsignature/lib/python3.8/site-packages/sklearn/feature_selection/_variance_threshold.py:86: RuntimeWarning: All-NaN slice encountered\n",
      "  self.variances_ = np.nanmin(compare_arr, axis=0)\n",
      "/home/bsmith16/.conda/envs/neuralsignature/lib/python3.8/site-packages/sklearn/feature_selection/_variance_threshold.py:78: RuntimeWarning: Degrees of freedom <= 0 for slice.\n",
      "  self.variances_ = np.nanvar(X, axis=0)\n",
      "/home/bsmith16/.conda/envs/neuralsignature/lib/python3.8/site-packages/sklearn/feature_selection/_variance_threshold.py:86: RuntimeWarning: All-NaN slice encountered\n",
      "  self.variances_ = np.nanmin(compare_arr, axis=0)\n",
      "/home/bsmith16/.conda/envs/neuralsignature/lib/python3.8/site-packages/sklearn/feature_selection/_variance_threshold.py:78: RuntimeWarning: Degrees of freedom <= 0 for slice.\n",
      "  self.variances_ = np.nanvar(X, axis=0)\n",
      "/home/bsmith16/.conda/envs/neuralsignature/lib/python3.8/site-packages/sklearn/feature_selection/_variance_threshold.py:86: RuntimeWarning: All-NaN slice encountered\n",
      "  self.variances_ = np.nanmin(compare_arr, axis=0)\n"
     ]
    },
    {
     "name": "stdout",
     "output_type": "stream",
     "text": [
      "estimator 1; ROC AUC score: 0.5923913043478262\n",
      "hyper-parameter search group 1\n",
      "53\n",
      "21\n",
      "estimating...estimator 0; ROC AUC score: 0.33333333333333337\n",
      "estimating...estimator 1; ROC AUC score: 0.3611111111111111\n",
      "hyper-parameter search group 2\n",
      "48\n",
      "26\n",
      "estimating..."
     ]
    },
    {
     "name": "stderr",
     "output_type": "stream",
     "text": [
      "/home/bsmith16/.conda/envs/neuralsignature/lib/python3.8/site-packages/sklearn/feature_selection/_variance_threshold.py:78: RuntimeWarning: Degrees of freedom <= 0 for slice.\n",
      "  self.variances_ = np.nanvar(X, axis=0)\n",
      "/home/bsmith16/.conda/envs/neuralsignature/lib/python3.8/site-packages/sklearn/feature_selection/_variance_threshold.py:86: RuntimeWarning: All-NaN slice encountered\n",
      "  self.variances_ = np.nanmin(compare_arr, axis=0)\n",
      "/home/bsmith16/.conda/envs/neuralsignature/lib/python3.8/site-packages/sklearn/feature_selection/_variance_threshold.py:78: RuntimeWarning: Degrees of freedom <= 0 for slice.\n",
      "  self.variances_ = np.nanvar(X, axis=0)\n",
      "/home/bsmith16/.conda/envs/neuralsignature/lib/python3.8/site-packages/sklearn/feature_selection/_variance_threshold.py:86: RuntimeWarning: All-NaN slice encountered\n",
      "  self.variances_ = np.nanmin(compare_arr, axis=0)\n",
      "/home/bsmith16/.conda/envs/neuralsignature/lib/python3.8/site-packages/sklearn/feature_selection/_variance_threshold.py:78: RuntimeWarning: Degrees of freedom <= 0 for slice.\n",
      "  self.variances_ = np.nanvar(X, axis=0)\n",
      "/home/bsmith16/.conda/envs/neuralsignature/lib/python3.8/site-packages/sklearn/feature_selection/_variance_threshold.py:86: RuntimeWarning: All-NaN slice encountered\n",
      "  self.variances_ = np.nanmin(compare_arr, axis=0)\n"
     ]
    },
    {
     "name": "stdout",
     "output_type": "stream",
     "text": [
      "estimator 0; ROC AUC score: 0.5340909090909091\n",
      "estimating...estimator 1; ROC AUC score: 0.5795454545454545\n",
      "estimator_i\n",
      "1    0.497829\n",
      "0    0.472186\n",
      "Name: score, dtype: float64\n",
      "chose estimator 1\n",
      "generalization test group 0\n",
      "generalization test group 1\n"
     ]
    },
    {
     "name": "stderr",
     "output_type": "stream",
     "text": [
      "/home/bsmith16/.conda/envs/neuralsignature/lib/python3.8/site-packages/sklearn/feature_selection/_variance_threshold.py:78: RuntimeWarning: Degrees of freedom <= 0 for slice.\n",
      "  self.variances_ = np.nanvar(X, axis=0)\n",
      "/home/bsmith16/.conda/envs/neuralsignature/lib/python3.8/site-packages/sklearn/feature_selection/_variance_threshold.py:86: RuntimeWarning: All-NaN slice encountered\n",
      "  self.variances_ = np.nanmin(compare_arr, axis=0)\n",
      "/home/bsmith16/.conda/envs/neuralsignature/lib/python3.8/site-packages/sklearn/feature_selection/_variance_threshold.py:78: RuntimeWarning: Degrees of freedom <= 0 for slice.\n",
      "  self.variances_ = np.nanvar(X, axis=0)\n",
      "/home/bsmith16/.conda/envs/neuralsignature/lib/python3.8/site-packages/sklearn/feature_selection/_variance_threshold.py:86: RuntimeWarning: All-NaN slice encountered\n",
      "  self.variances_ = np.nanmin(compare_arr, axis=0)\n"
     ]
    },
    {
     "name": "stdout",
     "output_type": "stream",
     "text": [
      "generalization test group 2\n",
      "cross-validated score is: 0.5116421568627452\n",
      "precision, recall, fscore, support:\n",
      "(array([0.85365854, 0.16129032]), array([0.72916667, 0.29411765]), array([0.78651685, 0.20833333]), array([96, 17]))\n"
     ]
    },
    {
     "name": "stderr",
     "output_type": "stream",
     "text": [
      "/home/bsmith16/.conda/envs/neuralsignature/lib/python3.8/site-packages/sklearn/feature_selection/_variance_threshold.py:78: RuntimeWarning: Degrees of freedom <= 0 for slice.\n",
      "  self.variances_ = np.nanvar(X, axis=0)\n",
      "/home/bsmith16/.conda/envs/neuralsignature/lib/python3.8/site-packages/sklearn/feature_selection/_variance_threshold.py:86: RuntimeWarning: All-NaN slice encountered\n",
      "  self.variances_ = np.nanmin(compare_arr, axis=0)\n",
      "/home/bsmith16/.conda/envs/neuralsignature/lib/python3.8/site-packages/sklearn/feature_selection/_variance_threshold.py:78: RuntimeWarning: Degrees of freedom <= 0 for slice.\n",
      "  self.variances_ = np.nanvar(X, axis=0)\n"
     ]
    },
    {
     "name": "stdout",
     "output_type": "stream",
     "text": [
      "raw (overfit) score is: 1.0\n",
      "0.0    82\n",
      "1.0    31\n",
      "dtype: int64\n",
      "0.5116421568627452\n",
      "DEV063\n",
      "generalization test group 0\n",
      "71\n",
      "36\n",
      "hyper-parameter search group 0\n",
      "44\n",
      "27\n",
      "estimating...estimator 0; ROC AUC score: 0.4166666666666667\n",
      "estimating..."
     ]
    },
    {
     "name": "stderr",
     "output_type": "stream",
     "text": [
      "/home/bsmith16/.conda/envs/neuralsignature/lib/python3.8/site-packages/sklearn/feature_selection/_variance_threshold.py:86: RuntimeWarning: All-NaN slice encountered\n",
      "  self.variances_ = np.nanmin(compare_arr, axis=0)\n",
      "/home/bsmith16/.conda/envs/neuralsignature/lib/python3.8/site-packages/sklearn/feature_selection/_variance_threshold.py:78: RuntimeWarning: Degrees of freedom <= 0 for slice.\n",
      "  self.variances_ = np.nanvar(X, axis=0)\n",
      "/home/bsmith16/.conda/envs/neuralsignature/lib/python3.8/site-packages/sklearn/feature_selection/_variance_threshold.py:86: RuntimeWarning: All-NaN slice encountered\n",
      "  self.variances_ = np.nanmin(compare_arr, axis=0)\n",
      "/home/bsmith16/.conda/envs/neuralsignature/lib/python3.8/site-packages/sklearn/feature_selection/_variance_threshold.py:78: RuntimeWarning: Degrees of freedom <= 0 for slice.\n",
      "  self.variances_ = np.nanvar(X, axis=0)\n",
      "/home/bsmith16/.conda/envs/neuralsignature/lib/python3.8/site-packages/sklearn/feature_selection/_variance_threshold.py:86: RuntimeWarning: All-NaN slice encountered\n",
      "  self.variances_ = np.nanmin(compare_arr, axis=0)\n"
     ]
    },
    {
     "name": "stdout",
     "output_type": "stream",
     "text": [
      "estimator 1; ROC AUC score: 0.4791666666666667\n",
      "hyper-parameter search group 1\n",
      "45\n",
      "26\n",
      "estimating...estimator 0; ROC AUC score: 0.43478260869565216\n",
      "estimating...estimator 1; ROC AUC score: 0.5\n",
      "hyper-parameter search group 2\n",
      "53\n",
      "18\n",
      "estimating..."
     ]
    },
    {
     "name": "stderr",
     "output_type": "stream",
     "text": [
      "/home/bsmith16/.conda/envs/neuralsignature/lib/python3.8/site-packages/sklearn/feature_selection/_variance_threshold.py:78: RuntimeWarning: Degrees of freedom <= 0 for slice.\n",
      "  self.variances_ = np.nanvar(X, axis=0)\n",
      "/home/bsmith16/.conda/envs/neuralsignature/lib/python3.8/site-packages/sklearn/feature_selection/_variance_threshold.py:86: RuntimeWarning: All-NaN slice encountered\n",
      "  self.variances_ = np.nanmin(compare_arr, axis=0)\n",
      "/home/bsmith16/.conda/envs/neuralsignature/lib/python3.8/site-packages/sklearn/feature_selection/_variance_threshold.py:78: RuntimeWarning: Degrees of freedom <= 0 for slice.\n",
      "  self.variances_ = np.nanvar(X, axis=0)\n",
      "/home/bsmith16/.conda/envs/neuralsignature/lib/python3.8/site-packages/sklearn/feature_selection/_variance_threshold.py:86: RuntimeWarning: All-NaN slice encountered\n",
      "  self.variances_ = np.nanmin(compare_arr, axis=0)\n",
      "/home/bsmith16/.conda/envs/neuralsignature/lib/python3.8/site-packages/sklearn/feature_selection/_variance_threshold.py:78: RuntimeWarning: Degrees of freedom <= 0 for slice.\n",
      "  self.variances_ = np.nanvar(X, axis=0)\n",
      "/home/bsmith16/.conda/envs/neuralsignature/lib/python3.8/site-packages/sklearn/feature_selection/_variance_threshold.py:86: RuntimeWarning: All-NaN slice encountered\n",
      "  self.variances_ = np.nanmin(compare_arr, axis=0)\n"
     ]
    },
    {
     "name": "stdout",
     "output_type": "stream",
     "text": [
      "estimator 0; ROC AUC score: 0.375\n",
      "estimating...estimator 1; ROC AUC score: 0.4375\n",
      "generalization test group 1\n",
      "71\n",
      "36\n",
      "hyper-parameter search group 0\n",
      "44\n",
      "27\n",
      "estimating...estimator 0; ROC AUC score: 0.5833333333333334\n",
      "estimating..."
     ]
    },
    {
     "name": "stderr",
     "output_type": "stream",
     "text": [
      "/home/bsmith16/.conda/envs/neuralsignature/lib/python3.8/site-packages/sklearn/feature_selection/_variance_threshold.py:78: RuntimeWarning: Degrees of freedom <= 0 for slice.\n",
      "  self.variances_ = np.nanvar(X, axis=0)\n",
      "/home/bsmith16/.conda/envs/neuralsignature/lib/python3.8/site-packages/sklearn/feature_selection/_variance_threshold.py:86: RuntimeWarning: All-NaN slice encountered\n",
      "  self.variances_ = np.nanmin(compare_arr, axis=0)\n",
      "/home/bsmith16/.conda/envs/neuralsignature/lib/python3.8/site-packages/sklearn/feature_selection/_variance_threshold.py:78: RuntimeWarning: Degrees of freedom <= 0 for slice.\n",
      "  self.variances_ = np.nanvar(X, axis=0)\n",
      "/home/bsmith16/.conda/envs/neuralsignature/lib/python3.8/site-packages/sklearn/feature_selection/_variance_threshold.py:86: RuntimeWarning: All-NaN slice encountered\n",
      "  self.variances_ = np.nanmin(compare_arr, axis=0)\n",
      "/home/bsmith16/.conda/envs/neuralsignature/lib/python3.8/site-packages/sklearn/feature_selection/_variance_threshold.py:78: RuntimeWarning: Degrees of freedom <= 0 for slice.\n",
      "  self.variances_ = np.nanvar(X, axis=0)\n",
      "/home/bsmith16/.conda/envs/neuralsignature/lib/python3.8/site-packages/sklearn/feature_selection/_variance_threshold.py:86: RuntimeWarning: All-NaN slice encountered\n",
      "  self.variances_ = np.nanmin(compare_arr, axis=0)\n"
     ]
    },
    {
     "name": "stdout",
     "output_type": "stream",
     "text": [
      "estimator 1; ROC AUC score: 0.4583333333333333\n",
      "hyper-parameter search group 1\n",
      "45\n",
      "26\n",
      "estimating...estimator 0; ROC AUC score: 0.4565217391304348\n",
      "estimating...estimator 1; ROC AUC score: 0.4565217391304348\n",
      "hyper-parameter search group 2\n",
      "53\n",
      "18\n",
      "estimating..."
     ]
    },
    {
     "name": "stderr",
     "output_type": "stream",
     "text": [
      "/home/bsmith16/.conda/envs/neuralsignature/lib/python3.8/site-packages/sklearn/feature_selection/_variance_threshold.py:78: RuntimeWarning: Degrees of freedom <= 0 for slice.\n",
      "  self.variances_ = np.nanvar(X, axis=0)\n",
      "/home/bsmith16/.conda/envs/neuralsignature/lib/python3.8/site-packages/sklearn/feature_selection/_variance_threshold.py:86: RuntimeWarning: All-NaN slice encountered\n",
      "  self.variances_ = np.nanmin(compare_arr, axis=0)\n",
      "/home/bsmith16/.conda/envs/neuralsignature/lib/python3.8/site-packages/sklearn/feature_selection/_variance_threshold.py:78: RuntimeWarning: Degrees of freedom <= 0 for slice.\n",
      "  self.variances_ = np.nanvar(X, axis=0)\n",
      "/home/bsmith16/.conda/envs/neuralsignature/lib/python3.8/site-packages/sklearn/feature_selection/_variance_threshold.py:86: RuntimeWarning: All-NaN slice encountered\n",
      "  self.variances_ = np.nanmin(compare_arr, axis=0)\n",
      "/home/bsmith16/.conda/envs/neuralsignature/lib/python3.8/site-packages/sklearn/feature_selection/_variance_threshold.py:78: RuntimeWarning: Degrees of freedom <= 0 for slice.\n",
      "  self.variances_ = np.nanvar(X, axis=0)\n",
      "/home/bsmith16/.conda/envs/neuralsignature/lib/python3.8/site-packages/sklearn/feature_selection/_variance_threshold.py:86: RuntimeWarning: All-NaN slice encountered\n",
      "  self.variances_ = np.nanmin(compare_arr, axis=0)\n"
     ]
    },
    {
     "name": "stdout",
     "output_type": "stream",
     "text": [
      "estimator 0; ROC AUC score: 0.40625\n",
      "estimating...estimator 1; ROC AUC score: 0.4375\n",
      "generalization test group 2\n",
      "72\n",
      "35\n",
      "hyper-parameter search group 0\n",
      "45\n",
      "27\n",
      "estimating...estimator 0; ROC AUC score: 0.75\n",
      "estimating..."
     ]
    },
    {
     "name": "stderr",
     "output_type": "stream",
     "text": [
      "/home/bsmith16/.conda/envs/neuralsignature/lib/python3.8/site-packages/sklearn/feature_selection/_variance_threshold.py:78: RuntimeWarning: Degrees of freedom <= 0 for slice.\n",
      "  self.variances_ = np.nanvar(X, axis=0)\n",
      "/home/bsmith16/.conda/envs/neuralsignature/lib/python3.8/site-packages/sklearn/feature_selection/_variance_threshold.py:86: RuntimeWarning: All-NaN slice encountered\n",
      "  self.variances_ = np.nanmin(compare_arr, axis=0)\n",
      "/home/bsmith16/.conda/envs/neuralsignature/lib/python3.8/site-packages/sklearn/feature_selection/_variance_threshold.py:78: RuntimeWarning: Degrees of freedom <= 0 for slice.\n",
      "  self.variances_ = np.nanvar(X, axis=0)\n",
      "/home/bsmith16/.conda/envs/neuralsignature/lib/python3.8/site-packages/sklearn/feature_selection/_variance_threshold.py:86: RuntimeWarning: All-NaN slice encountered\n",
      "  self.variances_ = np.nanmin(compare_arr, axis=0)\n",
      "/home/bsmith16/.conda/envs/neuralsignature/lib/python3.8/site-packages/sklearn/feature_selection/_variance_threshold.py:78: RuntimeWarning: Degrees of freedom <= 0 for slice.\n",
      "  self.variances_ = np.nanvar(X, axis=0)\n",
      "/home/bsmith16/.conda/envs/neuralsignature/lib/python3.8/site-packages/sklearn/feature_selection/_variance_threshold.py:86: RuntimeWarning: All-NaN slice encountered\n",
      "  self.variances_ = np.nanmin(compare_arr, axis=0)\n"
     ]
    },
    {
     "name": "stdout",
     "output_type": "stream",
     "text": [
      "estimator 1; ROC AUC score: 0.4583333333333333\n",
      "hyper-parameter search group 1\n",
      "45\n",
      "27\n",
      "estimating...estimator 0; ROC AUC score: 0.6458333333333333\n",
      "estimating...estimator 1; ROC AUC score: 0.6666666666666666\n",
      "hyper-parameter search group 2\n",
      "54\n",
      "18\n",
      "estimating..."
     ]
    },
    {
     "name": "stderr",
     "output_type": "stream",
     "text": [
      "/home/bsmith16/.conda/envs/neuralsignature/lib/python3.8/site-packages/sklearn/feature_selection/_variance_threshold.py:78: RuntimeWarning: Degrees of freedom <= 0 for slice.\n",
      "  self.variances_ = np.nanvar(X, axis=0)\n",
      "/home/bsmith16/.conda/envs/neuralsignature/lib/python3.8/site-packages/sklearn/feature_selection/_variance_threshold.py:86: RuntimeWarning: All-NaN slice encountered\n",
      "  self.variances_ = np.nanmin(compare_arr, axis=0)\n",
      "/home/bsmith16/.conda/envs/neuralsignature/lib/python3.8/site-packages/sklearn/feature_selection/_variance_threshold.py:78: RuntimeWarning: Degrees of freedom <= 0 for slice.\n",
      "  self.variances_ = np.nanvar(X, axis=0)\n",
      "/home/bsmith16/.conda/envs/neuralsignature/lib/python3.8/site-packages/sklearn/feature_selection/_variance_threshold.py:86: RuntimeWarning: All-NaN slice encountered\n",
      "  self.variances_ = np.nanmin(compare_arr, axis=0)\n",
      "/home/bsmith16/.conda/envs/neuralsignature/lib/python3.8/site-packages/sklearn/feature_selection/_variance_threshold.py:78: RuntimeWarning: Degrees of freedom <= 0 for slice.\n",
      "  self.variances_ = np.nanvar(X, axis=0)\n",
      "/home/bsmith16/.conda/envs/neuralsignature/lib/python3.8/site-packages/sklearn/feature_selection/_variance_threshold.py:86: RuntimeWarning: All-NaN slice encountered\n",
      "  self.variances_ = np.nanmin(compare_arr, axis=0)\n"
     ]
    },
    {
     "name": "stdout",
     "output_type": "stream",
     "text": [
      "estimator 0; ROC AUC score: 0.65625\n",
      "estimating...estimator 1; ROC AUC score: 0.46875\n",
      "estimator_i\n",
      "0    0.524960\n",
      "1    0.484752\n",
      "Name: score, dtype: float64\n",
      "chose estimator 0\n",
      "generalization test group 0\n",
      "generalization test group 1\n"
     ]
    },
    {
     "name": "stderr",
     "output_type": "stream",
     "text": [
      "/home/bsmith16/.conda/envs/neuralsignature/lib/python3.8/site-packages/sklearn/feature_selection/_variance_threshold.py:78: RuntimeWarning: Degrees of freedom <= 0 for slice.\n",
      "  self.variances_ = np.nanvar(X, axis=0)\n",
      "/home/bsmith16/.conda/envs/neuralsignature/lib/python3.8/site-packages/sklearn/feature_selection/_variance_threshold.py:86: RuntimeWarning: All-NaN slice encountered\n",
      "  self.variances_ = np.nanmin(compare_arr, axis=0)\n",
      "/home/bsmith16/.conda/envs/neuralsignature/lib/python3.8/site-packages/sklearn/feature_selection/_variance_threshold.py:78: RuntimeWarning: Degrees of freedom <= 0 for slice.\n",
      "  self.variances_ = np.nanvar(X, axis=0)\n",
      "/home/bsmith16/.conda/envs/neuralsignature/lib/python3.8/site-packages/sklearn/feature_selection/_variance_threshold.py:86: RuntimeWarning: All-NaN slice encountered\n",
      "  self.variances_ = np.nanmin(compare_arr, axis=0)\n",
      "/home/bsmith16/.conda/envs/neuralsignature/lib/python3.8/site-packages/sklearn/feature_selection/_variance_threshold.py:78: RuntimeWarning: Degrees of freedom <= 0 for slice.\n",
      "  self.variances_ = np.nanvar(X, axis=0)\n"
     ]
    },
    {
     "name": "stdout",
     "output_type": "stream",
     "text": [
      "generalization test group 2\n",
      "cross-validated score is: 0.5201754385964913\n",
      "precision, recall, fscore, support:\n",
      "(array([0.89247312, 0.14285714]), array([0.87368421, 0.16666667]), array([0.88297872, 0.15384615]), array([95, 12]))\n"
     ]
    },
    {
     "name": "stderr",
     "output_type": "stream",
     "text": [
      "/home/bsmith16/.conda/envs/neuralsignature/lib/python3.8/site-packages/sklearn/feature_selection/_variance_threshold.py:86: RuntimeWarning: All-NaN slice encountered\n",
      "  self.variances_ = np.nanmin(compare_arr, axis=0)\n",
      "/home/bsmith16/.conda/envs/neuralsignature/lib/python3.8/site-packages/sklearn/feature_selection/_variance_threshold.py:78: RuntimeWarning: Degrees of freedom <= 0 for slice.\n",
      "  self.variances_ = np.nanvar(X, axis=0)\n",
      "/home/bsmith16/.conda/envs/neuralsignature/lib/python3.8/site-packages/sklearn/feature_selection/_variance_threshold.py:86: RuntimeWarning: All-NaN slice encountered\n",
      "  self.variances_ = np.nanmin(compare_arr, axis=0)\n"
     ]
    },
    {
     "name": "stdout",
     "output_type": "stream",
     "text": [
      "raw (overfit) score is: 1.0\n",
      "0.0    93\n",
      "1.0    14\n",
      "dtype: int64\n",
      "0.5201754385964913\n",
      "DEV064\n",
      "generalization test group 0\n",
      "70\n",
      "42\n",
      "hyper-parameter search group 0\n",
      "42\n",
      "28\n",
      "estimating...estimator 0; ROC AUC score: 0.5833333333333334\n",
      "estimating..."
     ]
    },
    {
     "name": "stderr",
     "output_type": "stream",
     "text": [
      "/home/bsmith16/.conda/envs/neuralsignature/lib/python3.8/site-packages/sklearn/feature_selection/_variance_threshold.py:78: RuntimeWarning: Degrees of freedom <= 0 for slice.\n",
      "  self.variances_ = np.nanvar(X, axis=0)\n",
      "/home/bsmith16/.conda/envs/neuralsignature/lib/python3.8/site-packages/sklearn/feature_selection/_variance_threshold.py:86: RuntimeWarning: All-NaN slice encountered\n",
      "  self.variances_ = np.nanmin(compare_arr, axis=0)\n",
      "/home/bsmith16/.conda/envs/neuralsignature/lib/python3.8/site-packages/sklearn/feature_selection/_variance_threshold.py:78: RuntimeWarning: Degrees of freedom <= 0 for slice.\n",
      "  self.variances_ = np.nanvar(X, axis=0)\n",
      "/home/bsmith16/.conda/envs/neuralsignature/lib/python3.8/site-packages/sklearn/feature_selection/_variance_threshold.py:86: RuntimeWarning: All-NaN slice encountered\n",
      "  self.variances_ = np.nanmin(compare_arr, axis=0)\n",
      "/home/bsmith16/.conda/envs/neuralsignature/lib/python3.8/site-packages/sklearn/feature_selection/_variance_threshold.py:78: RuntimeWarning: Degrees of freedom <= 0 for slice.\n",
      "  self.variances_ = np.nanvar(X, axis=0)\n",
      "/home/bsmith16/.conda/envs/neuralsignature/lib/python3.8/site-packages/sklearn/feature_selection/_variance_threshold.py:86: RuntimeWarning: All-NaN slice encountered\n",
      "  self.variances_ = np.nanmin(compare_arr, axis=0)\n"
     ]
    },
    {
     "name": "stdout",
     "output_type": "stream",
     "text": [
      "estimator 1; ROC AUC score: 0.5416666666666667\n",
      "hyper-parameter search group 1\n",
      "49\n",
      "21\n",
      "estimating...estimator 0; ROC AUC score: 0.4166666666666667\n",
      "estimating...estimator 1; ROC AUC score: 0.4444444444444444\n",
      "hyper-parameter search group 2\n",
      "49\n",
      "21\n",
      "estimating..."
     ]
    },
    {
     "name": "stderr",
     "output_type": "stream",
     "text": [
      "/home/bsmith16/.conda/envs/neuralsignature/lib/python3.8/site-packages/sklearn/feature_selection/_variance_threshold.py:78: RuntimeWarning: Degrees of freedom <= 0 for slice.\n",
      "  self.variances_ = np.nanvar(X, axis=0)\n",
      "/home/bsmith16/.conda/envs/neuralsignature/lib/python3.8/site-packages/sklearn/feature_selection/_variance_threshold.py:86: RuntimeWarning: All-NaN slice encountered\n",
      "  self.variances_ = np.nanmin(compare_arr, axis=0)\n",
      "/home/bsmith16/.conda/envs/neuralsignature/lib/python3.8/site-packages/sklearn/feature_selection/_variance_threshold.py:78: RuntimeWarning: Degrees of freedom <= 0 for slice.\n",
      "  self.variances_ = np.nanvar(X, axis=0)\n",
      "/home/bsmith16/.conda/envs/neuralsignature/lib/python3.8/site-packages/sklearn/feature_selection/_variance_threshold.py:86: RuntimeWarning: All-NaN slice encountered\n",
      "  self.variances_ = np.nanmin(compare_arr, axis=0)\n",
      "/home/bsmith16/.conda/envs/neuralsignature/lib/python3.8/site-packages/sklearn/feature_selection/_variance_threshold.py:78: RuntimeWarning: Degrees of freedom <= 0 for slice.\n",
      "  self.variances_ = np.nanvar(X, axis=0)\n",
      "/home/bsmith16/.conda/envs/neuralsignature/lib/python3.8/site-packages/sklearn/feature_selection/_variance_threshold.py:86: RuntimeWarning: All-NaN slice encountered\n",
      "  self.variances_ = np.nanmin(compare_arr, axis=0)\n"
     ]
    },
    {
     "name": "stdout",
     "output_type": "stream",
     "text": [
      "estimator 0; ROC AUC score: 0.5833333333333334\n",
      "estimating...estimator 1; ROC AUC score: 0.4722222222222222\n",
      "generalization test group 1\n",
      "77\n",
      "35\n",
      "hyper-parameter search group 0\n",
      "49\n",
      "28\n",
      "estimating...estimator 0; ROC AUC score: 0.4791666666666666\n",
      "estimating..."
     ]
    },
    {
     "name": "stderr",
     "output_type": "stream",
     "text": [
      "/home/bsmith16/.conda/envs/neuralsignature/lib/python3.8/site-packages/sklearn/feature_selection/_variance_threshold.py:78: RuntimeWarning: Degrees of freedom <= 0 for slice.\n",
      "  self.variances_ = np.nanvar(X, axis=0)\n",
      "/home/bsmith16/.conda/envs/neuralsignature/lib/python3.8/site-packages/sklearn/feature_selection/_variance_threshold.py:86: RuntimeWarning: All-NaN slice encountered\n",
      "  self.variances_ = np.nanmin(compare_arr, axis=0)\n",
      "/home/bsmith16/.conda/envs/neuralsignature/lib/python3.8/site-packages/sklearn/feature_selection/_variance_threshold.py:78: RuntimeWarning: Degrees of freedom <= 0 for slice.\n",
      "  self.variances_ = np.nanvar(X, axis=0)\n",
      "/home/bsmith16/.conda/envs/neuralsignature/lib/python3.8/site-packages/sklearn/feature_selection/_variance_threshold.py:86: RuntimeWarning: All-NaN slice encountered\n",
      "  self.variances_ = np.nanmin(compare_arr, axis=0)\n",
      "/home/bsmith16/.conda/envs/neuralsignature/lib/python3.8/site-packages/sklearn/feature_selection/_variance_threshold.py:78: RuntimeWarning: Degrees of freedom <= 0 for slice.\n",
      "  self.variances_ = np.nanvar(X, axis=0)\n",
      "/home/bsmith16/.conda/envs/neuralsignature/lib/python3.8/site-packages/sklearn/feature_selection/_variance_threshold.py:86: RuntimeWarning: All-NaN slice encountered\n",
      "  self.variances_ = np.nanmin(compare_arr, axis=0)\n"
     ]
    },
    {
     "name": "stdout",
     "output_type": "stream",
     "text": [
      "estimator 1; ROC AUC score: 0.4166666666666667\n",
      "hyper-parameter search group 1\n",
      "49\n",
      "28\n",
      "estimating...estimator 0; ROC AUC score: 0.5416666666666667\n",
      "estimating...estimator 1; ROC AUC score: 0.5833333333333333\n",
      "hyper-parameter search group 2\n",
      "56\n",
      "21\n",
      "estimating..."
     ]
    },
    {
     "name": "stderr",
     "output_type": "stream",
     "text": [
      "/home/bsmith16/.conda/envs/neuralsignature/lib/python3.8/site-packages/sklearn/feature_selection/_variance_threshold.py:78: RuntimeWarning: Degrees of freedom <= 0 for slice.\n",
      "  self.variances_ = np.nanvar(X, axis=0)\n",
      "/home/bsmith16/.conda/envs/neuralsignature/lib/python3.8/site-packages/sklearn/feature_selection/_variance_threshold.py:86: RuntimeWarning: All-NaN slice encountered\n",
      "  self.variances_ = np.nanmin(compare_arr, axis=0)\n",
      "/home/bsmith16/.conda/envs/neuralsignature/lib/python3.8/site-packages/sklearn/feature_selection/_variance_threshold.py:78: RuntimeWarning: Degrees of freedom <= 0 for slice.\n",
      "  self.variances_ = np.nanvar(X, axis=0)\n",
      "/home/bsmith16/.conda/envs/neuralsignature/lib/python3.8/site-packages/sklearn/feature_selection/_variance_threshold.py:86: RuntimeWarning: All-NaN slice encountered\n",
      "  self.variances_ = np.nanmin(compare_arr, axis=0)\n",
      "/home/bsmith16/.conda/envs/neuralsignature/lib/python3.8/site-packages/sklearn/feature_selection/_variance_threshold.py:78: RuntimeWarning: Degrees of freedom <= 0 for slice.\n",
      "  self.variances_ = np.nanvar(X, axis=0)\n",
      "/home/bsmith16/.conda/envs/neuralsignature/lib/python3.8/site-packages/sklearn/feature_selection/_variance_threshold.py:86: RuntimeWarning: All-NaN slice encountered\n",
      "  self.variances_ = np.nanmin(compare_arr, axis=0)\n"
     ]
    },
    {
     "name": "stdout",
     "output_type": "stream",
     "text": [
      "estimator 0; ROC AUC score: 0.5555555555555556\n",
      "estimating...estimator 1; ROC AUC score: 0.3888888888888889\n",
      "generalization test group 2\n",
      "77\n",
      "35\n",
      "hyper-parameter search group 0\n",
      "49\n",
      "28\n",
      "estimating...estimator 0; ROC AUC score: 0.7291666666666666\n",
      "estimating..."
     ]
    },
    {
     "name": "stderr",
     "output_type": "stream",
     "text": [
      "/home/bsmith16/.conda/envs/neuralsignature/lib/python3.8/site-packages/sklearn/feature_selection/_variance_threshold.py:78: RuntimeWarning: Degrees of freedom <= 0 for slice.\n",
      "  self.variances_ = np.nanvar(X, axis=0)\n",
      "/home/bsmith16/.conda/envs/neuralsignature/lib/python3.8/site-packages/sklearn/feature_selection/_variance_threshold.py:86: RuntimeWarning: All-NaN slice encountered\n",
      "  self.variances_ = np.nanmin(compare_arr, axis=0)\n",
      "/home/bsmith16/.conda/envs/neuralsignature/lib/python3.8/site-packages/sklearn/feature_selection/_variance_threshold.py:78: RuntimeWarning: Degrees of freedom <= 0 for slice.\n",
      "  self.variances_ = np.nanvar(X, axis=0)\n",
      "/home/bsmith16/.conda/envs/neuralsignature/lib/python3.8/site-packages/sklearn/feature_selection/_variance_threshold.py:86: RuntimeWarning: All-NaN slice encountered\n",
      "  self.variances_ = np.nanmin(compare_arr, axis=0)\n",
      "/home/bsmith16/.conda/envs/neuralsignature/lib/python3.8/site-packages/sklearn/feature_selection/_variance_threshold.py:78: RuntimeWarning: Degrees of freedom <= 0 for slice.\n",
      "  self.variances_ = np.nanvar(X, axis=0)\n",
      "/home/bsmith16/.conda/envs/neuralsignature/lib/python3.8/site-packages/sklearn/feature_selection/_variance_threshold.py:86: RuntimeWarning: All-NaN slice encountered\n",
      "  self.variances_ = np.nanmin(compare_arr, axis=0)\n"
     ]
    },
    {
     "name": "stdout",
     "output_type": "stream",
     "text": [
      "estimator 1; ROC AUC score: 0.7291666666666666\n",
      "hyper-parameter search group 1\n",
      "49\n",
      "28\n",
      "estimating...estimator 0; ROC AUC score: 0.7708333333333333\n",
      "estimating...estimator 1; ROC AUC score: 0.6875\n",
      "hyper-parameter search group 2\n",
      "56\n",
      "21\n",
      "estimating..."
     ]
    },
    {
     "name": "stderr",
     "output_type": "stream",
     "text": [
      "/home/bsmith16/.conda/envs/neuralsignature/lib/python3.8/site-packages/sklearn/feature_selection/_variance_threshold.py:78: RuntimeWarning: Degrees of freedom <= 0 for slice.\n",
      "  self.variances_ = np.nanvar(X, axis=0)\n",
      "/home/bsmith16/.conda/envs/neuralsignature/lib/python3.8/site-packages/sklearn/feature_selection/_variance_threshold.py:86: RuntimeWarning: All-NaN slice encountered\n",
      "  self.variances_ = np.nanmin(compare_arr, axis=0)\n",
      "/home/bsmith16/.conda/envs/neuralsignature/lib/python3.8/site-packages/sklearn/feature_selection/_variance_threshold.py:78: RuntimeWarning: Degrees of freedom <= 0 for slice.\n",
      "  self.variances_ = np.nanvar(X, axis=0)\n",
      "/home/bsmith16/.conda/envs/neuralsignature/lib/python3.8/site-packages/sklearn/feature_selection/_variance_threshold.py:86: RuntimeWarning: All-NaN slice encountered\n",
      "  self.variances_ = np.nanmin(compare_arr, axis=0)\n",
      "/home/bsmith16/.conda/envs/neuralsignature/lib/python3.8/site-packages/sklearn/feature_selection/_variance_threshold.py:78: RuntimeWarning: Degrees of freedom <= 0 for slice.\n",
      "  self.variances_ = np.nanvar(X, axis=0)\n",
      "/home/bsmith16/.conda/envs/neuralsignature/lib/python3.8/site-packages/sklearn/feature_selection/_variance_threshold.py:86: RuntimeWarning: All-NaN slice encountered\n",
      "  self.variances_ = np.nanmin(compare_arr, axis=0)\n"
     ]
    },
    {
     "name": "stdout",
     "output_type": "stream",
     "text": [
      "estimator 0; ROC AUC score: 0.6388888888888888\n",
      "estimating...estimator 1; ROC AUC score: 0.5\n",
      "estimator_i\n",
      "0    0.588735\n",
      "1    0.529321\n",
      "Name: score, dtype: float64\n",
      "chose estimator 0\n",
      "generalization test group 0\n",
      "generalization test group 1\n"
     ]
    },
    {
     "name": "stderr",
     "output_type": "stream",
     "text": [
      "/home/bsmith16/.conda/envs/neuralsignature/lib/python3.8/site-packages/sklearn/feature_selection/_variance_threshold.py:78: RuntimeWarning: Degrees of freedom <= 0 for slice.\n",
      "  self.variances_ = np.nanvar(X, axis=0)\n",
      "/home/bsmith16/.conda/envs/neuralsignature/lib/python3.8/site-packages/sklearn/feature_selection/_variance_threshold.py:86: RuntimeWarning: All-NaN slice encountered\n",
      "  self.variances_ = np.nanmin(compare_arr, axis=0)\n",
      "/home/bsmith16/.conda/envs/neuralsignature/lib/python3.8/site-packages/sklearn/feature_selection/_variance_threshold.py:78: RuntimeWarning: Degrees of freedom <= 0 for slice.\n",
      "  self.variances_ = np.nanvar(X, axis=0)\n",
      "/home/bsmith16/.conda/envs/neuralsignature/lib/python3.8/site-packages/sklearn/feature_selection/_variance_threshold.py:86: RuntimeWarning: All-NaN slice encountered\n",
      "  self.variances_ = np.nanmin(compare_arr, axis=0)\n"
     ]
    },
    {
     "name": "stdout",
     "output_type": "stream",
     "text": [
      "generalization test group 2\n",
      "cross-validated score is: 0.640625\n",
      "precision, recall, fscore, support:\n",
      "(array([0.9       , 0.31818182]), array([0.84375, 0.4375 ]), array([0.87096774, 0.36842105]), array([96, 16]))\n"
     ]
    },
    {
     "name": "stderr",
     "output_type": "stream",
     "text": [
      "/home/bsmith16/.conda/envs/neuralsignature/lib/python3.8/site-packages/sklearn/feature_selection/_variance_threshold.py:78: RuntimeWarning: Degrees of freedom <= 0 for slice.\n",
      "  self.variances_ = np.nanvar(X, axis=0)\n",
      "/home/bsmith16/.conda/envs/neuralsignature/lib/python3.8/site-packages/sklearn/feature_selection/_variance_threshold.py:86: RuntimeWarning: All-NaN slice encountered\n",
      "  self.variances_ = np.nanmin(compare_arr, axis=0)\n",
      "/home/bsmith16/.conda/envs/neuralsignature/lib/python3.8/site-packages/sklearn/feature_selection/_variance_threshold.py:78: RuntimeWarning: Degrees of freedom <= 0 for slice.\n",
      "  self.variances_ = np.nanvar(X, axis=0)\n",
      "/home/bsmith16/.conda/envs/neuralsignature/lib/python3.8/site-packages/sklearn/feature_selection/_variance_threshold.py:86: RuntimeWarning: All-NaN slice encountered\n",
      "  self.variances_ = np.nanmin(compare_arr, axis=0)\n"
     ]
    },
    {
     "name": "stdout",
     "output_type": "stream",
     "text": [
      "raw (overfit) score is: 1.0\n",
      "0.0    90\n",
      "1.0    22\n",
      "dtype: int64\n",
      "0.640625\n",
      "DEV067\n",
      "generalization test group 0\n",
      "55\n",
      "27\n",
      "hyper-parameter search group 0\n",
      "36\n",
      "19\n",
      "estimating...estimator 0; ROC AUC score: 0.7285714285714286\n",
      "estimating...estimator 1; ROC AUC score: 0.5642857142857143\n",
      "hyper-parameter search group 1\n",
      "37\n",
      "18\n",
      "estimating..."
     ]
    },
    {
     "name": "stderr",
     "output_type": "stream",
     "text": [
      "/home/bsmith16/.conda/envs/neuralsignature/lib/python3.8/site-packages/sklearn/feature_selection/_variance_threshold.py:78: RuntimeWarning: Degrees of freedom <= 0 for slice.\n",
      "  self.variances_ = np.nanvar(X, axis=0)\n",
      "/home/bsmith16/.conda/envs/neuralsignature/lib/python3.8/site-packages/sklearn/feature_selection/_variance_threshold.py:86: RuntimeWarning: All-NaN slice encountered\n",
      "  self.variances_ = np.nanmin(compare_arr, axis=0)\n",
      "/home/bsmith16/.conda/envs/neuralsignature/lib/python3.8/site-packages/sklearn/feature_selection/_variance_threshold.py:78: RuntimeWarning: Degrees of freedom <= 0 for slice.\n",
      "  self.variances_ = np.nanvar(X, axis=0)\n",
      "/home/bsmith16/.conda/envs/neuralsignature/lib/python3.8/site-packages/sklearn/feature_selection/_variance_threshold.py:86: RuntimeWarning: All-NaN slice encountered\n",
      "  self.variances_ = np.nanmin(compare_arr, axis=0)\n",
      "/home/bsmith16/.conda/envs/neuralsignature/lib/python3.8/site-packages/sklearn/feature_selection/_variance_threshold.py:78: RuntimeWarning: Degrees of freedom <= 0 for slice.\n",
      "  self.variances_ = np.nanvar(X, axis=0)\n",
      "/home/bsmith16/.conda/envs/neuralsignature/lib/python3.8/site-packages/sklearn/feature_selection/_variance_threshold.py:86: RuntimeWarning: All-NaN slice encountered\n",
      "  self.variances_ = np.nanmin(compare_arr, axis=0)\n"
     ]
    },
    {
     "name": "stdout",
     "output_type": "stream",
     "text": [
      "estimator 0; ROC AUC score: 0.4461538461538461\n",
      "estimating...estimator 1; ROC AUC score: 0.4230769230769231\n",
      "hyper-parameter search group 2\n",
      "37\n",
      "18\n",
      "estimating...estimator 0; ROC AUC score: 0.6461538461538462\n",
      "estimating..."
     ]
    },
    {
     "name": "stderr",
     "output_type": "stream",
     "text": [
      "/home/bsmith16/.conda/envs/neuralsignature/lib/python3.8/site-packages/sklearn/feature_selection/_variance_threshold.py:78: RuntimeWarning: Degrees of freedom <= 0 for slice.\n",
      "  self.variances_ = np.nanvar(X, axis=0)\n",
      "/home/bsmith16/.conda/envs/neuralsignature/lib/python3.8/site-packages/sklearn/feature_selection/_variance_threshold.py:86: RuntimeWarning: All-NaN slice encountered\n",
      "  self.variances_ = np.nanmin(compare_arr, axis=0)\n",
      "/home/bsmith16/.conda/envs/neuralsignature/lib/python3.8/site-packages/sklearn/feature_selection/_variance_threshold.py:78: RuntimeWarning: Degrees of freedom <= 0 for slice.\n",
      "  self.variances_ = np.nanvar(X, axis=0)\n",
      "/home/bsmith16/.conda/envs/neuralsignature/lib/python3.8/site-packages/sklearn/feature_selection/_variance_threshold.py:86: RuntimeWarning: All-NaN slice encountered\n",
      "  self.variances_ = np.nanmin(compare_arr, axis=0)\n",
      "/home/bsmith16/.conda/envs/neuralsignature/lib/python3.8/site-packages/sklearn/feature_selection/_variance_threshold.py:78: RuntimeWarning: Degrees of freedom <= 0 for slice.\n",
      "  self.variances_ = np.nanvar(X, axis=0)\n",
      "/home/bsmith16/.conda/envs/neuralsignature/lib/python3.8/site-packages/sklearn/feature_selection/_variance_threshold.py:86: RuntimeWarning: All-NaN slice encountered\n",
      "  self.variances_ = np.nanmin(compare_arr, axis=0)\n"
     ]
    },
    {
     "name": "stdout",
     "output_type": "stream",
     "text": [
      "estimator 1; ROC AUC score: 0.4307692307692308\n",
      "generalization test group 1\n",
      "53\n",
      "29\n",
      "hyper-parameter search group 0\n",
      "34\n",
      "19\n",
      "estimating...estimator 0; ROC AUC score: 0.4285714285714286\n",
      "estimating...estimator 1; ROC AUC score: 0.5\n",
      "hyper-parameter search group 1\n",
      "37\n",
      "16\n",
      "estimating...estimator 0; ROC AUC score: 0.4166666666666666\n",
      "estimating..."
     ]
    },
    {
     "name": "stderr",
     "output_type": "stream",
     "text": [
      "/home/bsmith16/.conda/envs/neuralsignature/lib/python3.8/site-packages/sklearn/feature_selection/_variance_threshold.py:78: RuntimeWarning: Degrees of freedom <= 0 for slice.\n",
      "  self.variances_ = np.nanvar(X, axis=0)\n",
      "/home/bsmith16/.conda/envs/neuralsignature/lib/python3.8/site-packages/sklearn/feature_selection/_variance_threshold.py:86: RuntimeWarning: All-NaN slice encountered\n",
      "  self.variances_ = np.nanmin(compare_arr, axis=0)\n",
      "/home/bsmith16/.conda/envs/neuralsignature/lib/python3.8/site-packages/sklearn/feature_selection/_variance_threshold.py:78: RuntimeWarning: Degrees of freedom <= 0 for slice.\n",
      "  self.variances_ = np.nanvar(X, axis=0)\n",
      "/home/bsmith16/.conda/envs/neuralsignature/lib/python3.8/site-packages/sklearn/feature_selection/_variance_threshold.py:86: RuntimeWarning: All-NaN slice encountered\n",
      "  self.variances_ = np.nanmin(compare_arr, axis=0)\n",
      "/home/bsmith16/.conda/envs/neuralsignature/lib/python3.8/site-packages/sklearn/feature_selection/_variance_threshold.py:78: RuntimeWarning: Degrees of freedom <= 0 for slice.\n",
      "  self.variances_ = np.nanvar(X, axis=0)\n",
      "/home/bsmith16/.conda/envs/neuralsignature/lib/python3.8/site-packages/sklearn/feature_selection/_variance_threshold.py:86: RuntimeWarning: All-NaN slice encountered\n",
      "  self.variances_ = np.nanmin(compare_arr, axis=0)\n",
      "/home/bsmith16/.conda/envs/neuralsignature/lib/python3.8/site-packages/sklearn/feature_selection/_variance_threshold.py:78: RuntimeWarning: Degrees of freedom <= 0 for slice.\n",
      "  self.variances_ = np.nanvar(X, axis=0)\n"
     ]
    },
    {
     "name": "stdout",
     "output_type": "stream",
     "text": [
      "estimator 1; ROC AUC score: 0.4166666666666666\n",
      "hyper-parameter search group 2\n",
      "35\n",
      "18\n",
      "estimating...estimator 0; ROC AUC score: 0.6615384615384616\n",
      "estimating...estimator 1; ROC AUC score: 0.6615384615384616\n",
      "generalization test group 2\n",
      "56\n",
      "26\n",
      "hyper-parameter search group 0\n",
      "37\n",
      "19\n",
      "estimating..."
     ]
    },
    {
     "name": "stderr",
     "output_type": "stream",
     "text": [
      "/home/bsmith16/.conda/envs/neuralsignature/lib/python3.8/site-packages/sklearn/feature_selection/_variance_threshold.py:86: RuntimeWarning: All-NaN slice encountered\n",
      "  self.variances_ = np.nanmin(compare_arr, axis=0)\n",
      "/home/bsmith16/.conda/envs/neuralsignature/lib/python3.8/site-packages/sklearn/feature_selection/_variance_threshold.py:78: RuntimeWarning: Degrees of freedom <= 0 for slice.\n",
      "  self.variances_ = np.nanvar(X, axis=0)\n",
      "/home/bsmith16/.conda/envs/neuralsignature/lib/python3.8/site-packages/sklearn/feature_selection/_variance_threshold.py:86: RuntimeWarning: All-NaN slice encountered\n",
      "  self.variances_ = np.nanmin(compare_arr, axis=0)\n",
      "/home/bsmith16/.conda/envs/neuralsignature/lib/python3.8/site-packages/sklearn/feature_selection/_variance_threshold.py:78: RuntimeWarning: Degrees of freedom <= 0 for slice.\n",
      "  self.variances_ = np.nanvar(X, axis=0)\n",
      "/home/bsmith16/.conda/envs/neuralsignature/lib/python3.8/site-packages/sklearn/feature_selection/_variance_threshold.py:86: RuntimeWarning: All-NaN slice encountered\n",
      "  self.variances_ = np.nanmin(compare_arr, axis=0)\n",
      "/home/bsmith16/.conda/envs/neuralsignature/lib/python3.8/site-packages/sklearn/feature_selection/_variance_threshold.py:78: RuntimeWarning: Degrees of freedom <= 0 for slice.\n",
      "  self.variances_ = np.nanvar(X, axis=0)\n",
      "/home/bsmith16/.conda/envs/neuralsignature/lib/python3.8/site-packages/sklearn/feature_selection/_variance_threshold.py:86: RuntimeWarning: All-NaN slice encountered\n",
      "  self.variances_ = np.nanmin(compare_arr, axis=0)\n"
     ]
    },
    {
     "name": "stdout",
     "output_type": "stream",
     "text": [
      "estimator 0; ROC AUC score: 0.5928571428571427\n",
      "estimating...estimator 1; ROC AUC score: 0.6285714285714286\n",
      "hyper-parameter search group 1\n",
      "37\n",
      "19\n",
      "estimating...estimator 0; ROC AUC score: 0.4928571428571428\n",
      "estimating..."
     ]
    },
    {
     "name": "stderr",
     "output_type": "stream",
     "text": [
      "/home/bsmith16/.conda/envs/neuralsignature/lib/python3.8/site-packages/sklearn/feature_selection/_variance_threshold.py:78: RuntimeWarning: Degrees of freedom <= 0 for slice.\n",
      "  self.variances_ = np.nanvar(X, axis=0)\n",
      "/home/bsmith16/.conda/envs/neuralsignature/lib/python3.8/site-packages/sklearn/feature_selection/_variance_threshold.py:86: RuntimeWarning: All-NaN slice encountered\n",
      "  self.variances_ = np.nanmin(compare_arr, axis=0)\n",
      "/home/bsmith16/.conda/envs/neuralsignature/lib/python3.8/site-packages/sklearn/feature_selection/_variance_threshold.py:78: RuntimeWarning: Degrees of freedom <= 0 for slice.\n",
      "  self.variances_ = np.nanvar(X, axis=0)\n",
      "/home/bsmith16/.conda/envs/neuralsignature/lib/python3.8/site-packages/sklearn/feature_selection/_variance_threshold.py:86: RuntimeWarning: All-NaN slice encountered\n",
      "  self.variances_ = np.nanmin(compare_arr, axis=0)\n",
      "/home/bsmith16/.conda/envs/neuralsignature/lib/python3.8/site-packages/sklearn/feature_selection/_variance_threshold.py:78: RuntimeWarning: Degrees of freedom <= 0 for slice.\n",
      "  self.variances_ = np.nanvar(X, axis=0)\n",
      "/home/bsmith16/.conda/envs/neuralsignature/lib/python3.8/site-packages/sklearn/feature_selection/_variance_threshold.py:86: RuntimeWarning: All-NaN slice encountered\n",
      "  self.variances_ = np.nanmin(compare_arr, axis=0)\n"
     ]
    },
    {
     "name": "stdout",
     "output_type": "stream",
     "text": [
      "estimator 1; ROC AUC score: 0.4928571428571428\n",
      "hyper-parameter search group 2\n",
      "38\n",
      "18\n",
      "estimating...estimator 0; ROC AUC score: 0.34615384615384615\n",
      "estimating...estimator 1; ROC AUC score: 0.48461538461538456\n",
      "estimator_i\n",
      "0    0.528836\n",
      "1    0.511376\n",
      "Name: score, dtype: float64\n",
      "chose estimator 0\n",
      "generalization test group 0\n"
     ]
    },
    {
     "name": "stderr",
     "output_type": "stream",
     "text": [
      "/home/bsmith16/.conda/envs/neuralsignature/lib/python3.8/site-packages/sklearn/feature_selection/_variance_threshold.py:78: RuntimeWarning: Degrees of freedom <= 0 for slice.\n",
      "  self.variances_ = np.nanvar(X, axis=0)\n",
      "/home/bsmith16/.conda/envs/neuralsignature/lib/python3.8/site-packages/sklearn/feature_selection/_variance_threshold.py:86: RuntimeWarning: All-NaN slice encountered\n",
      "  self.variances_ = np.nanmin(compare_arr, axis=0)\n",
      "/home/bsmith16/.conda/envs/neuralsignature/lib/python3.8/site-packages/sklearn/feature_selection/_variance_threshold.py:78: RuntimeWarning: Degrees of freedom <= 0 for slice.\n",
      "  self.variances_ = np.nanvar(X, axis=0)\n",
      "/home/bsmith16/.conda/envs/neuralsignature/lib/python3.8/site-packages/sklearn/feature_selection/_variance_threshold.py:86: RuntimeWarning: All-NaN slice encountered\n",
      "  self.variances_ = np.nanmin(compare_arr, axis=0)\n",
      "/home/bsmith16/.conda/envs/neuralsignature/lib/python3.8/site-packages/sklearn/feature_selection/_variance_threshold.py:78: RuntimeWarning: Degrees of freedom <= 0 for slice.\n",
      "  self.variances_ = np.nanvar(X, axis=0)\n",
      "/home/bsmith16/.conda/envs/neuralsignature/lib/python3.8/site-packages/sklearn/feature_selection/_variance_threshold.py:86: RuntimeWarning: All-NaN slice encountered\n",
      "  self.variances_ = np.nanmin(compare_arr, axis=0)\n"
     ]
    },
    {
     "name": "stdout",
     "output_type": "stream",
     "text": [
      "generalization test group 1\n",
      "generalization test group 2\n",
      "cross-validated score is: 0.6083333333333333\n",
      "precision, recall, fscore, support:\n",
      "(array([0.7962963 , 0.39285714]), array([0.71666667, 0.5       ]), array([0.75438596, 0.44      ]), array([60, 22]))\n"
     ]
    },
    {
     "name": "stderr",
     "output_type": "stream",
     "text": [
      "/home/bsmith16/.conda/envs/neuralsignature/lib/python3.8/site-packages/sklearn/feature_selection/_variance_threshold.py:78: RuntimeWarning: Degrees of freedom <= 0 for slice.\n",
      "  self.variances_ = np.nanvar(X, axis=0)\n",
      "/home/bsmith16/.conda/envs/neuralsignature/lib/python3.8/site-packages/sklearn/feature_selection/_variance_threshold.py:86: RuntimeWarning: All-NaN slice encountered\n",
      "  self.variances_ = np.nanmin(compare_arr, axis=0)\n",
      "/home/bsmith16/.conda/envs/neuralsignature/lib/python3.8/site-packages/sklearn/feature_selection/_variance_threshold.py:78: RuntimeWarning: Degrees of freedom <= 0 for slice.\n",
      "  self.variances_ = np.nanvar(X, axis=0)\n",
      "/home/bsmith16/.conda/envs/neuralsignature/lib/python3.8/site-packages/sklearn/feature_selection/_variance_threshold.py:86: RuntimeWarning: All-NaN slice encountered\n",
      "  self.variances_ = np.nanmin(compare_arr, axis=0)\n",
      "/home/bsmith16/.conda/envs/neuralsignature/lib/python3.8/site-packages/sklearn/feature_selection/_variance_threshold.py:78: RuntimeWarning: Degrees of freedom <= 0 for slice.\n",
      "  self.variances_ = np.nanvar(X, axis=0)\n",
      "/home/bsmith16/.conda/envs/neuralsignature/lib/python3.8/site-packages/sklearn/feature_selection/_variance_threshold.py:86: RuntimeWarning: All-NaN slice encountered\n",
      "  self.variances_ = np.nanmin(compare_arr, axis=0)\n"
     ]
    },
    {
     "name": "stdout",
     "output_type": "stream",
     "text": [
      "raw (overfit) score is: 1.0\n",
      "0.0    54\n",
      "1.0    28\n",
      "dtype: int64\n",
      "0.6083333333333333\n"
     ]
    }
   ],
   "source": [
    "from SST.classify_trialwise_gng_sklearn import main\n",
    "\n",
    "main('/SST/Brain_Data_betaseries_nos_30subs_correct_cond_pfc_condstd.pkl')"
   ]
  },
  {
   "cell_type": "code",
   "execution_count": 3,
   "id": "thermal-proxy",
   "metadata": {},
   "outputs": [
    {
     "name": "stderr",
     "output_type": "stream",
     "text": [
      "/gpfs/projects/sanlab/shared/DEV/DEV_scripts/fMRI/ml/SST/classify_trialwise_gng_sklearn.py:64: UserWarning: not sure if this file holds up--it was created in 2021; need to see if it's still valid\n",
      "  warnings.warn(\"not sure if this file holds up--it was created in 2021; need to see if it's still valid\")\n"
     ]
    },
    {
     "name": "stdout",
     "output_type": "stream",
     "text": [
      "checked for intersection and no intersection between the brain data and the subjects was found.\n",
      "there were 138 subjects overlapping between the subjects marked for train data and the training dump file itself.\n",
      "test_train_set: 72407\n",
      "brain_data_filepath: 169\n",
      "pkl_file: 168\n",
      "train_test_markers_filepath: 141\n",
      "response_transform_func: 136\n",
      "Brain_Data_allsubs: 48\n"
     ]
    },
    {
     "name": "stderr",
     "output_type": "stream",
     "text": [
      "/gpfs/projects/sanlab/shared/DEV/DEV_scripts/fMRI/ml/apply_loocv_and_save.py:290: SettingWithCopyWarning: \n",
      "A value is trying to be set on a copy of a slice from a DataFrame\n",
      "\n",
      "See the caveats in the documentation: https://pandas.pydata.org/pandas-docs/stable/user_guide/indexing.html#returning-a-view-versus-a-copy\n",
      "  Brain_Data_allsubs.Y[Brain_Data_allsubs.Y=='NULL']=None\n"
     ]
    },
    {
     "name": "stdout",
     "output_type": "stream",
     "text": [
      "14745\n",
      "14745\n",
      "DEV004\n",
      "generalization test group 0\n",
      "70\n",
      "41\n",
      "hyper-parameter search group 0\n",
      "42\n",
      "28\n",
      "estimating...estimator 0; ROC AUC score: 0.6875\n",
      "estimating...estimator 1; ROC AUC score: 0.4375\n",
      "hyper-parameter search group 1\n",
      "49\n",
      "21\n",
      "estimating..."
     ]
    },
    {
     "name": "stderr",
     "output_type": "stream",
     "text": [
      "/home/bsmith16/.conda/envs/neuralsignature/lib/python3.8/site-packages/sklearn/feature_selection/_variance_threshold.py:78: RuntimeWarning: Degrees of freedom <= 0 for slice.\n",
      "  self.variances_ = np.nanvar(X, axis=0)\n",
      "/home/bsmith16/.conda/envs/neuralsignature/lib/python3.8/site-packages/sklearn/feature_selection/_variance_threshold.py:86: RuntimeWarning: All-NaN slice encountered\n",
      "  self.variances_ = np.nanmin(compare_arr, axis=0)\n",
      "/home/bsmith16/.conda/envs/neuralsignature/lib/python3.8/site-packages/sklearn/feature_selection/_variance_threshold.py:78: RuntimeWarning: Degrees of freedom <= 0 for slice.\n",
      "  self.variances_ = np.nanvar(X, axis=0)\n",
      "/home/bsmith16/.conda/envs/neuralsignature/lib/python3.8/site-packages/sklearn/feature_selection/_variance_threshold.py:86: RuntimeWarning: All-NaN slice encountered\n",
      "  self.variances_ = np.nanmin(compare_arr, axis=0)\n",
      "/home/bsmith16/.conda/envs/neuralsignature/lib/python3.8/site-packages/sklearn/feature_selection/_variance_threshold.py:78: RuntimeWarning: Degrees of freedom <= 0 for slice.\n",
      "  self.variances_ = np.nanvar(X, axis=0)\n",
      "/home/bsmith16/.conda/envs/neuralsignature/lib/python3.8/site-packages/sklearn/feature_selection/_variance_threshold.py:86: RuntimeWarning: All-NaN slice encountered\n",
      "  self.variances_ = np.nanmin(compare_arr, axis=0)\n"
     ]
    },
    {
     "name": "stdout",
     "output_type": "stream",
     "text": [
      "estimator 0; ROC AUC score: 0.5555555555555556\n",
      "estimating...estimator 1; ROC AUC score: 0.4722222222222222\n",
      "hyper-parameter search group 2\n",
      "49\n",
      "21\n",
      "estimating...estimator 0; ROC AUC score: 0.4444444444444444\n",
      "estimating..."
     ]
    },
    {
     "name": "stderr",
     "output_type": "stream",
     "text": [
      "/home/bsmith16/.conda/envs/neuralsignature/lib/python3.8/site-packages/sklearn/feature_selection/_variance_threshold.py:78: RuntimeWarning: Degrees of freedom <= 0 for slice.\n",
      "  self.variances_ = np.nanvar(X, axis=0)\n",
      "/home/bsmith16/.conda/envs/neuralsignature/lib/python3.8/site-packages/sklearn/feature_selection/_variance_threshold.py:86: RuntimeWarning: All-NaN slice encountered\n",
      "  self.variances_ = np.nanmin(compare_arr, axis=0)\n",
      "/home/bsmith16/.conda/envs/neuralsignature/lib/python3.8/site-packages/sklearn/feature_selection/_variance_threshold.py:78: RuntimeWarning: Degrees of freedom <= 0 for slice.\n",
      "  self.variances_ = np.nanvar(X, axis=0)\n",
      "/home/bsmith16/.conda/envs/neuralsignature/lib/python3.8/site-packages/sklearn/feature_selection/_variance_threshold.py:86: RuntimeWarning: All-NaN slice encountered\n",
      "  self.variances_ = np.nanmin(compare_arr, axis=0)\n",
      "/home/bsmith16/.conda/envs/neuralsignature/lib/python3.8/site-packages/sklearn/feature_selection/_variance_threshold.py:78: RuntimeWarning: Degrees of freedom <= 0 for slice.\n",
      "  self.variances_ = np.nanvar(X, axis=0)\n",
      "/home/bsmith16/.conda/envs/neuralsignature/lib/python3.8/site-packages/sklearn/feature_selection/_variance_threshold.py:86: RuntimeWarning: All-NaN slice encountered\n",
      "  self.variances_ = np.nanmin(compare_arr, axis=0)\n"
     ]
    },
    {
     "name": "stdout",
     "output_type": "stream",
     "text": [
      "estimator 1; ROC AUC score: 0.4444444444444444\n",
      "generalization test group 1\n",
      "76\n",
      "35\n",
      "hyper-parameter search group 0\n",
      "48\n",
      "28\n",
      "estimating...estimator 0; ROC AUC score: 0.5\n",
      "estimating...estimator 1; ROC AUC score: 0.3958333333333334\n",
      "hyper-parameter search group 1\n",
      "49\n",
      "27\n",
      "estimating..."
     ]
    },
    {
     "name": "stderr",
     "output_type": "stream",
     "text": [
      "/home/bsmith16/.conda/envs/neuralsignature/lib/python3.8/site-packages/sklearn/feature_selection/_variance_threshold.py:78: RuntimeWarning: Degrees of freedom <= 0 for slice.\n",
      "  self.variances_ = np.nanvar(X, axis=0)\n",
      "/home/bsmith16/.conda/envs/neuralsignature/lib/python3.8/site-packages/sklearn/feature_selection/_variance_threshold.py:86: RuntimeWarning: All-NaN slice encountered\n",
      "  self.variances_ = np.nanmin(compare_arr, axis=0)\n",
      "/home/bsmith16/.conda/envs/neuralsignature/lib/python3.8/site-packages/sklearn/feature_selection/_variance_threshold.py:78: RuntimeWarning: Degrees of freedom <= 0 for slice.\n",
      "  self.variances_ = np.nanvar(X, axis=0)\n",
      "/home/bsmith16/.conda/envs/neuralsignature/lib/python3.8/site-packages/sklearn/feature_selection/_variance_threshold.py:86: RuntimeWarning: All-NaN slice encountered\n",
      "  self.variances_ = np.nanmin(compare_arr, axis=0)\n",
      "/home/bsmith16/.conda/envs/neuralsignature/lib/python3.8/site-packages/sklearn/feature_selection/_variance_threshold.py:78: RuntimeWarning: Degrees of freedom <= 0 for slice.\n",
      "  self.variances_ = np.nanvar(X, axis=0)\n",
      "/home/bsmith16/.conda/envs/neuralsignature/lib/python3.8/site-packages/sklearn/feature_selection/_variance_threshold.py:86: RuntimeWarning: All-NaN slice encountered\n",
      "  self.variances_ = np.nanmin(compare_arr, axis=0)\n"
     ]
    },
    {
     "name": "stdout",
     "output_type": "stream",
     "text": [
      "estimator 0; ROC AUC score: 0.5815217391304348\n",
      "estimating...estimator 1; ROC AUC score: 0.6032608695652174\n",
      "hyper-parameter search group 2\n",
      "55\n",
      "21\n",
      "estimating...estimator 0; ROC AUC score: 0.638888888888889\n",
      "estimating..."
     ]
    },
    {
     "name": "stderr",
     "output_type": "stream",
     "text": [
      "/home/bsmith16/.conda/envs/neuralsignature/lib/python3.8/site-packages/sklearn/feature_selection/_variance_threshold.py:78: RuntimeWarning: Degrees of freedom <= 0 for slice.\n",
      "  self.variances_ = np.nanvar(X, axis=0)\n",
      "/home/bsmith16/.conda/envs/neuralsignature/lib/python3.8/site-packages/sklearn/feature_selection/_variance_threshold.py:86: RuntimeWarning: All-NaN slice encountered\n",
      "  self.variances_ = np.nanmin(compare_arr, axis=0)\n",
      "/home/bsmith16/.conda/envs/neuralsignature/lib/python3.8/site-packages/sklearn/feature_selection/_variance_threshold.py:78: RuntimeWarning: Degrees of freedom <= 0 for slice.\n",
      "  self.variances_ = np.nanvar(X, axis=0)\n",
      "/home/bsmith16/.conda/envs/neuralsignature/lib/python3.8/site-packages/sklearn/feature_selection/_variance_threshold.py:86: RuntimeWarning: All-NaN slice encountered\n",
      "  self.variances_ = np.nanmin(compare_arr, axis=0)\n",
      "/home/bsmith16/.conda/envs/neuralsignature/lib/python3.8/site-packages/sklearn/feature_selection/_variance_threshold.py:78: RuntimeWarning: Degrees of freedom <= 0 for slice.\n",
      "  self.variances_ = np.nanvar(X, axis=0)\n",
      "/home/bsmith16/.conda/envs/neuralsignature/lib/python3.8/site-packages/sklearn/feature_selection/_variance_threshold.py:86: RuntimeWarning: All-NaN slice encountered\n",
      "  self.variances_ = np.nanmin(compare_arr, axis=0)\n",
      "/home/bsmith16/.conda/envs/neuralsignature/lib/python3.8/site-packages/sklearn/feature_selection/_variance_threshold.py:78: RuntimeWarning: Degrees of freedom <= 0 for slice.\n",
      "  self.variances_ = np.nanvar(X, axis=0)\n",
      "/home/bsmith16/.conda/envs/neuralsignature/lib/python3.8/site-packages/sklearn/feature_selection/_variance_threshold.py:86: RuntimeWarning: All-NaN slice encountered\n",
      "  self.variances_ = np.nanmin(compare_arr, axis=0)\n",
      "/home/bsmith16/.conda/envs/neuralsignature/lib/python3.8/site-packages/sklearn/feature_selection/_variance_threshold.py:78: RuntimeWarning: Degrees of freedom <= 0 for slice.\n",
      "  self.variances_ = np.nanvar(X, axis=0)\n",
      "/home/bsmith16/.conda/envs/neuralsignature/lib/python3.8/site-packages/sklearn/feature_selection/_variance_threshold.py:86: RuntimeWarning: All-NaN slice encountered\n",
      "  self.variances_ = np.nanmin(compare_arr, axis=0)\n"
     ]
    },
    {
     "name": "stdout",
     "output_type": "stream",
     "text": [
      "estimator 1; ROC AUC score: 0.638888888888889\n",
      "generalization test group 2\n",
      "76\n",
      "35\n",
      "hyper-parameter search group 0\n",
      "48\n",
      "28\n",
      "estimating...estimator 0; ROC AUC score: 0.5416666666666666\n",
      "estimating...estimator 1; ROC AUC score: 0.5625\n",
      "hyper-parameter search group 1\n",
      "49\n",
      "27\n",
      "estimating..."
     ]
    },
    {
     "name": "stderr",
     "output_type": "stream",
     "text": [
      "/home/bsmith16/.conda/envs/neuralsignature/lib/python3.8/site-packages/sklearn/feature_selection/_variance_threshold.py:78: RuntimeWarning: Degrees of freedom <= 0 for slice.\n",
      "  self.variances_ = np.nanvar(X, axis=0)\n",
      "/home/bsmith16/.conda/envs/neuralsignature/lib/python3.8/site-packages/sklearn/feature_selection/_variance_threshold.py:86: RuntimeWarning: All-NaN slice encountered\n",
      "  self.variances_ = np.nanmin(compare_arr, axis=0)\n",
      "/home/bsmith16/.conda/envs/neuralsignature/lib/python3.8/site-packages/sklearn/feature_selection/_variance_threshold.py:78: RuntimeWarning: Degrees of freedom <= 0 for slice.\n",
      "  self.variances_ = np.nanvar(X, axis=0)\n",
      "/home/bsmith16/.conda/envs/neuralsignature/lib/python3.8/site-packages/sklearn/feature_selection/_variance_threshold.py:86: RuntimeWarning: All-NaN slice encountered\n",
      "  self.variances_ = np.nanmin(compare_arr, axis=0)\n",
      "/home/bsmith16/.conda/envs/neuralsignature/lib/python3.8/site-packages/sklearn/feature_selection/_variance_threshold.py:78: RuntimeWarning: Degrees of freedom <= 0 for slice.\n",
      "  self.variances_ = np.nanvar(X, axis=0)\n",
      "/home/bsmith16/.conda/envs/neuralsignature/lib/python3.8/site-packages/sklearn/feature_selection/_variance_threshold.py:86: RuntimeWarning: All-NaN slice encountered\n",
      "  self.variances_ = np.nanmin(compare_arr, axis=0)\n"
     ]
    },
    {
     "name": "stdout",
     "output_type": "stream",
     "text": [
      "estimator 0; ROC AUC score: 0.5978260869565217\n",
      "estimating...estimator 1; ROC AUC score: 0.5163043478260869\n",
      "hyper-parameter search group 2\n",
      "55\n",
      "21\n",
      "estimating...estimator 0; ROC AUC score: 0.8333333333333334\n",
      "estimating..."
     ]
    },
    {
     "name": "stderr",
     "output_type": "stream",
     "text": [
      "/home/bsmith16/.conda/envs/neuralsignature/lib/python3.8/site-packages/sklearn/feature_selection/_variance_threshold.py:78: RuntimeWarning: Degrees of freedom <= 0 for slice.\n",
      "  self.variances_ = np.nanvar(X, axis=0)\n",
      "/home/bsmith16/.conda/envs/neuralsignature/lib/python3.8/site-packages/sklearn/feature_selection/_variance_threshold.py:86: RuntimeWarning: All-NaN slice encountered\n",
      "  self.variances_ = np.nanmin(compare_arr, axis=0)\n",
      "/home/bsmith16/.conda/envs/neuralsignature/lib/python3.8/site-packages/sklearn/feature_selection/_variance_threshold.py:78: RuntimeWarning: Degrees of freedom <= 0 for slice.\n",
      "  self.variances_ = np.nanvar(X, axis=0)\n",
      "/home/bsmith16/.conda/envs/neuralsignature/lib/python3.8/site-packages/sklearn/feature_selection/_variance_threshold.py:86: RuntimeWarning: All-NaN slice encountered\n",
      "  self.variances_ = np.nanmin(compare_arr, axis=0)\n"
     ]
    },
    {
     "name": "stdout",
     "output_type": "stream",
     "text": [
      "estimator 1; ROC AUC score: 0.5555555555555556\n",
      "estimator_i\n",
      "0    0.597860\n",
      "1    0.514057\n",
      "Name: score, dtype: float64\n",
      "chose estimator 0\n",
      "generalization test group 0\n",
      "generalization test group 1\n"
     ]
    },
    {
     "name": "stderr",
     "output_type": "stream",
     "text": [
      "/home/bsmith16/.conda/envs/neuralsignature/lib/python3.8/site-packages/sklearn/feature_selection/_variance_threshold.py:78: RuntimeWarning: Degrees of freedom <= 0 for slice.\n",
      "  self.variances_ = np.nanvar(X, axis=0)\n",
      "/home/bsmith16/.conda/envs/neuralsignature/lib/python3.8/site-packages/sklearn/feature_selection/_variance_threshold.py:86: RuntimeWarning: All-NaN slice encountered\n",
      "  self.variances_ = np.nanmin(compare_arr, axis=0)\n",
      "/home/bsmith16/.conda/envs/neuralsignature/lib/python3.8/site-packages/sklearn/feature_selection/_variance_threshold.py:78: RuntimeWarning: Degrees of freedom <= 0 for slice.\n",
      "  self.variances_ = np.nanvar(X, axis=0)\n",
      "/home/bsmith16/.conda/envs/neuralsignature/lib/python3.8/site-packages/sklearn/feature_selection/_variance_threshold.py:86: RuntimeWarning: All-NaN slice encountered\n",
      "  self.variances_ = np.nanmin(compare_arr, axis=0)\n"
     ]
    },
    {
     "name": "stdout",
     "output_type": "stream",
     "text": [
      "generalization test group 2\n",
      "cross-validated score is: 0.5243421052631579\n",
      "precision, recall, fscore, support:\n",
      "(array([0.86486486, 0.16216216]), array([0.67368421, 0.375     ]), array([0.75739645, 0.22641509]), array([95, 16]))\n"
     ]
    },
    {
     "name": "stderr",
     "output_type": "stream",
     "text": [
      "/home/bsmith16/.conda/envs/neuralsignature/lib/python3.8/site-packages/sklearn/feature_selection/_variance_threshold.py:78: RuntimeWarning: Degrees of freedom <= 0 for slice.\n",
      "  self.variances_ = np.nanvar(X, axis=0)\n",
      "/home/bsmith16/.conda/envs/neuralsignature/lib/python3.8/site-packages/sklearn/feature_selection/_variance_threshold.py:86: RuntimeWarning: All-NaN slice encountered\n",
      "  self.variances_ = np.nanmin(compare_arr, axis=0)\n",
      "/home/bsmith16/.conda/envs/neuralsignature/lib/python3.8/site-packages/sklearn/feature_selection/_variance_threshold.py:78: RuntimeWarning: Degrees of freedom <= 0 for slice.\n",
      "  self.variances_ = np.nanvar(X, axis=0)\n",
      "/home/bsmith16/.conda/envs/neuralsignature/lib/python3.8/site-packages/sklearn/feature_selection/_variance_threshold.py:86: RuntimeWarning: All-NaN slice encountered\n",
      "  self.variances_ = np.nanmin(compare_arr, axis=0)\n"
     ]
    },
    {
     "name": "stdout",
     "output_type": "stream",
     "text": [
      "raw (overfit) score is: 0.96875\n",
      "0.0    74\n",
      "1.0    37\n",
      "dtype: int64\n",
      "0.5243421052631579\n",
      "DEV005\n",
      "generalization test group 0\n",
      "51\n",
      "34\n",
      "hyper-parameter search group 0\n",
      "34\n",
      "17\n",
      "estimating...estimator 0; ROC AUC score: 0.46875\n",
      "estimating...estimator 1; ROC AUC score: 0.5\n",
      "hyper-parameter search group 1\n",
      "34\n",
      "17\n",
      "estimating..."
     ]
    },
    {
     "name": "stderr",
     "output_type": "stream",
     "text": [
      "/home/bsmith16/.conda/envs/neuralsignature/lib/python3.8/site-packages/sklearn/feature_selection/_variance_threshold.py:78: RuntimeWarning: Degrees of freedom <= 0 for slice.\n",
      "  self.variances_ = np.nanvar(X, axis=0)\n",
      "/home/bsmith16/.conda/envs/neuralsignature/lib/python3.8/site-packages/sklearn/feature_selection/_variance_threshold.py:86: RuntimeWarning: All-NaN slice encountered\n",
      "  self.variances_ = np.nanmin(compare_arr, axis=0)\n",
      "/home/bsmith16/.conda/envs/neuralsignature/lib/python3.8/site-packages/sklearn/feature_selection/_variance_threshold.py:78: RuntimeWarning: Degrees of freedom <= 0 for slice.\n",
      "  self.variances_ = np.nanvar(X, axis=0)\n",
      "/home/bsmith16/.conda/envs/neuralsignature/lib/python3.8/site-packages/sklearn/feature_selection/_variance_threshold.py:86: RuntimeWarning: All-NaN slice encountered\n",
      "  self.variances_ = np.nanmin(compare_arr, axis=0)\n",
      "/home/bsmith16/.conda/envs/neuralsignature/lib/python3.8/site-packages/sklearn/feature_selection/_variance_threshold.py:78: RuntimeWarning: Degrees of freedom <= 0 for slice.\n",
      "  self.variances_ = np.nanvar(X, axis=0)\n",
      "/home/bsmith16/.conda/envs/neuralsignature/lib/python3.8/site-packages/sklearn/feature_selection/_variance_threshold.py:86: RuntimeWarning: All-NaN slice encountered\n",
      "  self.variances_ = np.nanmin(compare_arr, axis=0)\n",
      "/home/bsmith16/.conda/envs/neuralsignature/lib/python3.8/site-packages/sklearn/feature_selection/_variance_threshold.py:78: RuntimeWarning: Degrees of freedom <= 0 for slice.\n",
      "  self.variances_ = np.nanvar(X, axis=0)\n",
      "/home/bsmith16/.conda/envs/neuralsignature/lib/python3.8/site-packages/sklearn/feature_selection/_variance_threshold.py:86: RuntimeWarning: All-NaN slice encountered\n",
      "  self.variances_ = np.nanmin(compare_arr, axis=0)\n"
     ]
    },
    {
     "name": "stdout",
     "output_type": "stream",
     "text": [
      "estimator 0; ROC AUC score: 0.90625\n",
      "estimating...estimator 1; ROC AUC score: 0.46875\n",
      "hyper-parameter search group 2\n",
      "34\n",
      "17\n",
      "estimating...estimator 0; ROC AUC score: 0.4375\n",
      "estimating...estimator 1; ROC AUC score: 0.4375\n",
      "generalization test group 1\n",
      "51\n",
      "34\n",
      "hyper-parameter search group 0\n",
      "34\n",
      "17\n",
      "estimating..."
     ]
    },
    {
     "name": "stderr",
     "output_type": "stream",
     "text": [
      "/home/bsmith16/.conda/envs/neuralsignature/lib/python3.8/site-packages/sklearn/feature_selection/_variance_threshold.py:78: RuntimeWarning: Degrees of freedom <= 0 for slice.\n",
      "  self.variances_ = np.nanvar(X, axis=0)\n",
      "/home/bsmith16/.conda/envs/neuralsignature/lib/python3.8/site-packages/sklearn/feature_selection/_variance_threshold.py:86: RuntimeWarning: All-NaN slice encountered\n",
      "  self.variances_ = np.nanmin(compare_arr, axis=0)\n",
      "/home/bsmith16/.conda/envs/neuralsignature/lib/python3.8/site-packages/sklearn/feature_selection/_variance_threshold.py:78: RuntimeWarning: Degrees of freedom <= 0 for slice.\n",
      "  self.variances_ = np.nanvar(X, axis=0)\n",
      "/home/bsmith16/.conda/envs/neuralsignature/lib/python3.8/site-packages/sklearn/feature_selection/_variance_threshold.py:86: RuntimeWarning: All-NaN slice encountered\n",
      "  self.variances_ = np.nanmin(compare_arr, axis=0)\n",
      "/home/bsmith16/.conda/envs/neuralsignature/lib/python3.8/site-packages/sklearn/feature_selection/_variance_threshold.py:78: RuntimeWarning: Degrees of freedom <= 0 for slice.\n",
      "  self.variances_ = np.nanvar(X, axis=0)\n",
      "/home/bsmith16/.conda/envs/neuralsignature/lib/python3.8/site-packages/sklearn/feature_selection/_variance_threshold.py:86: RuntimeWarning: All-NaN slice encountered\n",
      "  self.variances_ = np.nanmin(compare_arr, axis=0)\n",
      "/home/bsmith16/.conda/envs/neuralsignature/lib/python3.8/site-packages/sklearn/feature_selection/_variance_threshold.py:78: RuntimeWarning: Degrees of freedom <= 0 for slice.\n",
      "  self.variances_ = np.nanvar(X, axis=0)\n",
      "/home/bsmith16/.conda/envs/neuralsignature/lib/python3.8/site-packages/sklearn/feature_selection/_variance_threshold.py:86: RuntimeWarning: All-NaN slice encountered\n",
      "  self.variances_ = np.nanmin(compare_arr, axis=0)\n"
     ]
    },
    {
     "name": "stdout",
     "output_type": "stream",
     "text": [
      "estimator 0; ROC AUC score: 0.375\n",
      "estimating...estimator 1; ROC AUC score: 0.46875\n",
      "hyper-parameter search group 1\n",
      "34\n",
      "17\n",
      "estimating...estimator 0; ROC AUC score: 0.84375\n",
      "estimating...estimator 1; ROC AUC score: 0.46875\n",
      "hyper-parameter search group 2\n",
      "34\n",
      "17\n",
      "estimating..."
     ]
    },
    {
     "name": "stderr",
     "output_type": "stream",
     "text": [
      "/home/bsmith16/.conda/envs/neuralsignature/lib/python3.8/site-packages/sklearn/feature_selection/_variance_threshold.py:78: RuntimeWarning: Degrees of freedom <= 0 for slice.\n",
      "  self.variances_ = np.nanvar(X, axis=0)\n",
      "/home/bsmith16/.conda/envs/neuralsignature/lib/python3.8/site-packages/sklearn/feature_selection/_variance_threshold.py:86: RuntimeWarning: All-NaN slice encountered\n",
      "  self.variances_ = np.nanmin(compare_arr, axis=0)\n",
      "/home/bsmith16/.conda/envs/neuralsignature/lib/python3.8/site-packages/sklearn/feature_selection/_variance_threshold.py:78: RuntimeWarning: Degrees of freedom <= 0 for slice.\n",
      "  self.variances_ = np.nanvar(X, axis=0)\n",
      "/home/bsmith16/.conda/envs/neuralsignature/lib/python3.8/site-packages/sklearn/feature_selection/_variance_threshold.py:86: RuntimeWarning: All-NaN slice encountered\n",
      "  self.variances_ = np.nanmin(compare_arr, axis=0)\n",
      "/home/bsmith16/.conda/envs/neuralsignature/lib/python3.8/site-packages/sklearn/feature_selection/_variance_threshold.py:78: RuntimeWarning: Degrees of freedom <= 0 for slice.\n",
      "  self.variances_ = np.nanvar(X, axis=0)\n",
      "/home/bsmith16/.conda/envs/neuralsignature/lib/python3.8/site-packages/sklearn/feature_selection/_variance_threshold.py:86: RuntimeWarning: All-NaN slice encountered\n",
      "  self.variances_ = np.nanmin(compare_arr, axis=0)\n",
      "/home/bsmith16/.conda/envs/neuralsignature/lib/python3.8/site-packages/sklearn/feature_selection/_variance_threshold.py:78: RuntimeWarning: Degrees of freedom <= 0 for slice.\n",
      "  self.variances_ = np.nanvar(X, axis=0)\n",
      "/home/bsmith16/.conda/envs/neuralsignature/lib/python3.8/site-packages/sklearn/feature_selection/_variance_threshold.py:86: RuntimeWarning: All-NaN slice encountered\n",
      "  self.variances_ = np.nanmin(compare_arr, axis=0)\n"
     ]
    },
    {
     "name": "stdout",
     "output_type": "stream",
     "text": [
      "estimator 0; ROC AUC score: 0.40625\n",
      "estimating...estimator 1; ROC AUC score: 0.4375\n",
      "generalization test group 2\n",
      "68\n",
      "17\n",
      "hyper-parameter search group 0\n",
      "34\n",
      "34\n",
      "estimating...estimator 0; ROC AUC score: 0.453125\n",
      "estimating...estimator 1; ROC AUC score: 0.5\n",
      "hyper-parameter search group 1\n",
      "51\n",
      "17\n",
      "estimating..."
     ]
    },
    {
     "name": "stderr",
     "output_type": "stream",
     "text": [
      "/home/bsmith16/.conda/envs/neuralsignature/lib/python3.8/site-packages/sklearn/feature_selection/_variance_threshold.py:78: RuntimeWarning: Degrees of freedom <= 0 for slice.\n",
      "  self.variances_ = np.nanvar(X, axis=0)\n",
      "/home/bsmith16/.conda/envs/neuralsignature/lib/python3.8/site-packages/sklearn/feature_selection/_variance_threshold.py:86: RuntimeWarning: All-NaN slice encountered\n",
      "  self.variances_ = np.nanmin(compare_arr, axis=0)\n",
      "/home/bsmith16/.conda/envs/neuralsignature/lib/python3.8/site-packages/sklearn/feature_selection/_variance_threshold.py:78: RuntimeWarning: Degrees of freedom <= 0 for slice.\n",
      "  self.variances_ = np.nanvar(X, axis=0)\n",
      "/home/bsmith16/.conda/envs/neuralsignature/lib/python3.8/site-packages/sklearn/feature_selection/_variance_threshold.py:86: RuntimeWarning: All-NaN slice encountered\n",
      "  self.variances_ = np.nanmin(compare_arr, axis=0)\n",
      "/home/bsmith16/.conda/envs/neuralsignature/lib/python3.8/site-packages/sklearn/feature_selection/_variance_threshold.py:78: RuntimeWarning: Degrees of freedom <= 0 for slice.\n",
      "  self.variances_ = np.nanvar(X, axis=0)\n",
      "/home/bsmith16/.conda/envs/neuralsignature/lib/python3.8/site-packages/sklearn/feature_selection/_variance_threshold.py:86: RuntimeWarning: All-NaN slice encountered\n",
      "  self.variances_ = np.nanmin(compare_arr, axis=0)\n"
     ]
    },
    {
     "name": "stdout",
     "output_type": "stream",
     "text": [
      "estimator 0; ROC AUC score: 0.40625\n",
      "estimating...estimator 1; ROC AUC score: 0.46875\n",
      "hyper-parameter search group 2\n",
      "51\n",
      "17\n",
      "estimating...estimator 0; ROC AUC score: 0.5\n",
      "estimating..."
     ]
    },
    {
     "name": "stderr",
     "output_type": "stream",
     "text": [
      "/home/bsmith16/.conda/envs/neuralsignature/lib/python3.8/site-packages/sklearn/feature_selection/_variance_threshold.py:78: RuntimeWarning: Degrees of freedom <= 0 for slice.\n",
      "  self.variances_ = np.nanvar(X, axis=0)\n",
      "/home/bsmith16/.conda/envs/neuralsignature/lib/python3.8/site-packages/sklearn/feature_selection/_variance_threshold.py:86: RuntimeWarning: All-NaN slice encountered\n",
      "  self.variances_ = np.nanmin(compare_arr, axis=0)\n",
      "/home/bsmith16/.conda/envs/neuralsignature/lib/python3.8/site-packages/sklearn/feature_selection/_variance_threshold.py:78: RuntimeWarning: Degrees of freedom <= 0 for slice.\n",
      "  self.variances_ = np.nanvar(X, axis=0)\n",
      "/home/bsmith16/.conda/envs/neuralsignature/lib/python3.8/site-packages/sklearn/feature_selection/_variance_threshold.py:86: RuntimeWarning: All-NaN slice encountered\n",
      "  self.variances_ = np.nanmin(compare_arr, axis=0)\n",
      "/home/bsmith16/.conda/envs/neuralsignature/lib/python3.8/site-packages/sklearn/feature_selection/_variance_threshold.py:78: RuntimeWarning: Degrees of freedom <= 0 for slice.\n",
      "  self.variances_ = np.nanvar(X, axis=0)\n",
      "/home/bsmith16/.conda/envs/neuralsignature/lib/python3.8/site-packages/sklearn/feature_selection/_variance_threshold.py:86: RuntimeWarning: All-NaN slice encountered\n",
      "  self.variances_ = np.nanmin(compare_arr, axis=0)\n"
     ]
    },
    {
     "name": "stdout",
     "output_type": "stream",
     "text": [
      "estimator 1; ROC AUC score: 0.5\n",
      "estimator_i\n",
      "0    0.532986\n",
      "1    0.472222\n",
      "Name: score, dtype: float64\n",
      "chose estimator 0\n",
      "generalization test group 0\n",
      "generalization test group 1\n",
      "generalization test group 2\n"
     ]
    },
    {
     "name": "stderr",
     "output_type": "stream",
     "text": [
      "/home/bsmith16/.conda/envs/neuralsignature/lib/python3.8/site-packages/sklearn/feature_selection/_variance_threshold.py:78: RuntimeWarning: Degrees of freedom <= 0 for slice.\n",
      "  self.variances_ = np.nanvar(X, axis=0)\n",
      "/home/bsmith16/.conda/envs/neuralsignature/lib/python3.8/site-packages/sklearn/feature_selection/_variance_threshold.py:86: RuntimeWarning: All-NaN slice encountered\n",
      "  self.variances_ = np.nanmin(compare_arr, axis=0)\n",
      "/home/bsmith16/.conda/envs/neuralsignature/lib/python3.8/site-packages/sklearn/feature_selection/_variance_threshold.py:78: RuntimeWarning: Degrees of freedom <= 0 for slice.\n",
      "  self.variances_ = np.nanvar(X, axis=0)\n",
      "/home/bsmith16/.conda/envs/neuralsignature/lib/python3.8/site-packages/sklearn/feature_selection/_variance_threshold.py:86: RuntimeWarning: All-NaN slice encountered\n",
      "  self.variances_ = np.nanmin(compare_arr, axis=0)\n",
      "/home/bsmith16/.conda/envs/neuralsignature/lib/python3.8/site-packages/sklearn/feature_selection/_variance_threshold.py:78: RuntimeWarning: Degrees of freedom <= 0 for slice.\n",
      "  self.variances_ = np.nanvar(X, axis=0)\n",
      "/home/bsmith16/.conda/envs/neuralsignature/lib/python3.8/site-packages/sklearn/feature_selection/_variance_threshold.py:86: RuntimeWarning: All-NaN slice encountered\n",
      "  self.variances_ = np.nanmin(compare_arr, axis=0)\n"
     ]
    },
    {
     "name": "stdout",
     "output_type": "stream",
     "text": [
      "cross-validated score is: 0.43125\n",
      "precision, recall, fscore, support:\n",
      "(array([0.93243243, 0.        ]), array([0.8625, 0.    ]), array([0.8961039, 0.       ]), array([80,  5]))\n",
      "raw (overfit) score is: 1.0\n",
      "0.0    74\n",
      "1.0    11\n",
      "dtype: int64\n",
      "0.43125\n",
      "DEV006\n",
      "generalization test group 0\n",
      "73\n",
      "37\n",
      "hyper-parameter search group 0\n",
      "48\n",
      "25\n",
      "estimating..."
     ]
    },
    {
     "name": "stderr",
     "output_type": "stream",
     "text": [
      "/home/bsmith16/.conda/envs/neuralsignature/lib/python3.8/site-packages/sklearn/feature_selection/_variance_threshold.py:78: RuntimeWarning: Degrees of freedom <= 0 for slice.\n",
      "  self.variances_ = np.nanvar(X, axis=0)\n",
      "/home/bsmith16/.conda/envs/neuralsignature/lib/python3.8/site-packages/sklearn/feature_selection/_variance_threshold.py:86: RuntimeWarning: All-NaN slice encountered\n",
      "  self.variances_ = np.nanmin(compare_arr, axis=0)\n",
      "/home/bsmith16/.conda/envs/neuralsignature/lib/python3.8/site-packages/sklearn/feature_selection/_variance_threshold.py:78: RuntimeWarning: Degrees of freedom <= 0 for slice.\n",
      "  self.variances_ = np.nanvar(X, axis=0)\n",
      "/home/bsmith16/.conda/envs/neuralsignature/lib/python3.8/site-packages/sklearn/feature_selection/_variance_threshold.py:86: RuntimeWarning: All-NaN slice encountered\n",
      "  self.variances_ = np.nanmin(compare_arr, axis=0)\n",
      "/home/bsmith16/.conda/envs/neuralsignature/lib/python3.8/site-packages/sklearn/feature_selection/_variance_threshold.py:78: RuntimeWarning: Degrees of freedom <= 0 for slice.\n",
      "  self.variances_ = np.nanvar(X, axis=0)\n",
      "/home/bsmith16/.conda/envs/neuralsignature/lib/python3.8/site-packages/sklearn/feature_selection/_variance_threshold.py:86: RuntimeWarning: All-NaN slice encountered\n",
      "  self.variances_ = np.nanmin(compare_arr, axis=0)\n"
     ]
    },
    {
     "name": "stdout",
     "output_type": "stream",
     "text": [
      "estimator 0; ROC AUC score: 0.6547619047619049\n",
      "estimating...estimator 1; ROC AUC score: 0.7797619047619048\n",
      "hyper-parameter search group 1\n",
      "49\n",
      "24\n",
      "estimating...estimator 0; ROC AUC score: 0.475\n",
      "estimating..."
     ]
    },
    {
     "name": "stderr",
     "output_type": "stream",
     "text": [
      "/home/bsmith16/.conda/envs/neuralsignature/lib/python3.8/site-packages/sklearn/feature_selection/_variance_threshold.py:78: RuntimeWarning: Degrees of freedom <= 0 for slice.\n",
      "  self.variances_ = np.nanvar(X, axis=0)\n",
      "/home/bsmith16/.conda/envs/neuralsignature/lib/python3.8/site-packages/sklearn/feature_selection/_variance_threshold.py:86: RuntimeWarning: All-NaN slice encountered\n",
      "  self.variances_ = np.nanmin(compare_arr, axis=0)\n",
      "/home/bsmith16/.conda/envs/neuralsignature/lib/python3.8/site-packages/sklearn/feature_selection/_variance_threshold.py:78: RuntimeWarning: Degrees of freedom <= 0 for slice.\n",
      "  self.variances_ = np.nanvar(X, axis=0)\n",
      "/home/bsmith16/.conda/envs/neuralsignature/lib/python3.8/site-packages/sklearn/feature_selection/_variance_threshold.py:86: RuntimeWarning: All-NaN slice encountered\n",
      "  self.variances_ = np.nanmin(compare_arr, axis=0)\n",
      "/home/bsmith16/.conda/envs/neuralsignature/lib/python3.8/site-packages/sklearn/feature_selection/_variance_threshold.py:78: RuntimeWarning: Degrees of freedom <= 0 for slice.\n",
      "  self.variances_ = np.nanvar(X, axis=0)\n",
      "/home/bsmith16/.conda/envs/neuralsignature/lib/python3.8/site-packages/sklearn/feature_selection/_variance_threshold.py:86: RuntimeWarning: All-NaN slice encountered\n",
      "  self.variances_ = np.nanmin(compare_arr, axis=0)\n"
     ]
    },
    {
     "name": "stdout",
     "output_type": "stream",
     "text": [
      "estimator 1; ROC AUC score: 0.5999999999999999\n",
      "hyper-parameter search group 2\n",
      "49\n",
      "24\n",
      "estimating...estimator 0; ROC AUC score: 0.7000000000000001\n",
      "estimating...estimator 1; ROC AUC score: 0.7000000000000001\n",
      "generalization test group 1\n",
      "73\n",
      "37\n",
      "hyper-parameter search group 0\n",
      "48\n",
      "25\n",
      "estimating..."
     ]
    },
    {
     "name": "stderr",
     "output_type": "stream",
     "text": [
      "/home/bsmith16/.conda/envs/neuralsignature/lib/python3.8/site-packages/sklearn/feature_selection/_variance_threshold.py:78: RuntimeWarning: Degrees of freedom <= 0 for slice.\n",
      "  self.variances_ = np.nanvar(X, axis=0)\n",
      "/home/bsmith16/.conda/envs/neuralsignature/lib/python3.8/site-packages/sklearn/feature_selection/_variance_threshold.py:86: RuntimeWarning: All-NaN slice encountered\n",
      "  self.variances_ = np.nanmin(compare_arr, axis=0)\n",
      "/home/bsmith16/.conda/envs/neuralsignature/lib/python3.8/site-packages/sklearn/feature_selection/_variance_threshold.py:78: RuntimeWarning: Degrees of freedom <= 0 for slice.\n",
      "  self.variances_ = np.nanvar(X, axis=0)\n",
      "/home/bsmith16/.conda/envs/neuralsignature/lib/python3.8/site-packages/sklearn/feature_selection/_variance_threshold.py:86: RuntimeWarning: All-NaN slice encountered\n",
      "  self.variances_ = np.nanmin(compare_arr, axis=0)\n",
      "/home/bsmith16/.conda/envs/neuralsignature/lib/python3.8/site-packages/sklearn/feature_selection/_variance_threshold.py:78: RuntimeWarning: Degrees of freedom <= 0 for slice.\n",
      "  self.variances_ = np.nanvar(X, axis=0)\n",
      "/home/bsmith16/.conda/envs/neuralsignature/lib/python3.8/site-packages/sklearn/feature_selection/_variance_threshold.py:86: RuntimeWarning: All-NaN slice encountered\n",
      "  self.variances_ = np.nanmin(compare_arr, axis=0)\n"
     ]
    },
    {
     "name": "stdout",
     "output_type": "stream",
     "text": [
      "estimator 0; ROC AUC score: 0.6785714285714286\n",
      "estimating...estimator 1; ROC AUC score: 0.4285714285714286\n",
      "hyper-parameter search group 1\n",
      "49\n",
      "24\n",
      "estimating...estimator 0; ROC AUC score: 0.475\n",
      "estimating..."
     ]
    },
    {
     "name": "stderr",
     "output_type": "stream",
     "text": [
      "/home/bsmith16/.conda/envs/neuralsignature/lib/python3.8/site-packages/sklearn/feature_selection/_variance_threshold.py:78: RuntimeWarning: Degrees of freedom <= 0 for slice.\n",
      "  self.variances_ = np.nanvar(X, axis=0)\n",
      "/home/bsmith16/.conda/envs/neuralsignature/lib/python3.8/site-packages/sklearn/feature_selection/_variance_threshold.py:86: RuntimeWarning: All-NaN slice encountered\n",
      "  self.variances_ = np.nanmin(compare_arr, axis=0)\n",
      "/home/bsmith16/.conda/envs/neuralsignature/lib/python3.8/site-packages/sklearn/feature_selection/_variance_threshold.py:78: RuntimeWarning: Degrees of freedom <= 0 for slice.\n",
      "  self.variances_ = np.nanvar(X, axis=0)\n",
      "/home/bsmith16/.conda/envs/neuralsignature/lib/python3.8/site-packages/sklearn/feature_selection/_variance_threshold.py:86: RuntimeWarning: All-NaN slice encountered\n",
      "  self.variances_ = np.nanmin(compare_arr, axis=0)\n",
      "/home/bsmith16/.conda/envs/neuralsignature/lib/python3.8/site-packages/sklearn/feature_selection/_variance_threshold.py:78: RuntimeWarning: Degrees of freedom <= 0 for slice.\n",
      "  self.variances_ = np.nanvar(X, axis=0)\n",
      "/home/bsmith16/.conda/envs/neuralsignature/lib/python3.8/site-packages/sklearn/feature_selection/_variance_threshold.py:86: RuntimeWarning: All-NaN slice encountered\n",
      "  self.variances_ = np.nanmin(compare_arr, axis=0)\n"
     ]
    },
    {
     "name": "stdout",
     "output_type": "stream",
     "text": [
      "estimator 1; ROC AUC score: 0.45\n",
      "hyper-parameter search group 2\n",
      "49\n",
      "24\n",
      "estimating...estimator 0; ROC AUC score: 0.5750000000000001\n",
      "estimating...estimator 1; ROC AUC score: 0.5\n",
      "generalization test group 2\n",
      "74\n",
      "36\n",
      "hyper-parameter search group 0\n",
      "49\n",
      "25\n",
      "estimating..."
     ]
    },
    {
     "name": "stderr",
     "output_type": "stream",
     "text": [
      "/home/bsmith16/.conda/envs/neuralsignature/lib/python3.8/site-packages/sklearn/feature_selection/_variance_threshold.py:78: RuntimeWarning: Degrees of freedom <= 0 for slice.\n",
      "  self.variances_ = np.nanvar(X, axis=0)\n",
      "/home/bsmith16/.conda/envs/neuralsignature/lib/python3.8/site-packages/sklearn/feature_selection/_variance_threshold.py:86: RuntimeWarning: All-NaN slice encountered\n",
      "  self.variances_ = np.nanmin(compare_arr, axis=0)\n",
      "/home/bsmith16/.conda/envs/neuralsignature/lib/python3.8/site-packages/sklearn/feature_selection/_variance_threshold.py:78: RuntimeWarning: Degrees of freedom <= 0 for slice.\n",
      "  self.variances_ = np.nanvar(X, axis=0)\n",
      "/home/bsmith16/.conda/envs/neuralsignature/lib/python3.8/site-packages/sklearn/feature_selection/_variance_threshold.py:86: RuntimeWarning: All-NaN slice encountered\n",
      "  self.variances_ = np.nanmin(compare_arr, axis=0)\n",
      "/home/bsmith16/.conda/envs/neuralsignature/lib/python3.8/site-packages/sklearn/feature_selection/_variance_threshold.py:78: RuntimeWarning: Degrees of freedom <= 0 for slice.\n",
      "  self.variances_ = np.nanvar(X, axis=0)\n",
      "/home/bsmith16/.conda/envs/neuralsignature/lib/python3.8/site-packages/sklearn/feature_selection/_variance_threshold.py:86: RuntimeWarning: All-NaN slice encountered\n",
      "  self.variances_ = np.nanmin(compare_arr, axis=0)\n"
     ]
    },
    {
     "name": "stdout",
     "output_type": "stream",
     "text": [
      "estimator 0; ROC AUC score: 0.6547619047619049\n",
      "estimating...estimator 1; ROC AUC score: 0.5535714285714287\n",
      "hyper-parameter search group 1\n",
      "49\n",
      "25\n",
      "estimating...estimator 0; ROC AUC score: 0.6547619047619049\n",
      "estimating..."
     ]
    },
    {
     "name": "stderr",
     "output_type": "stream",
     "text": [
      "/home/bsmith16/.conda/envs/neuralsignature/lib/python3.8/site-packages/sklearn/feature_selection/_variance_threshold.py:78: RuntimeWarning: Degrees of freedom <= 0 for slice.\n",
      "  self.variances_ = np.nanvar(X, axis=0)\n",
      "/home/bsmith16/.conda/envs/neuralsignature/lib/python3.8/site-packages/sklearn/feature_selection/_variance_threshold.py:86: RuntimeWarning: All-NaN slice encountered\n",
      "  self.variances_ = np.nanmin(compare_arr, axis=0)\n",
      "/home/bsmith16/.conda/envs/neuralsignature/lib/python3.8/site-packages/sklearn/feature_selection/_variance_threshold.py:78: RuntimeWarning: Degrees of freedom <= 0 for slice.\n",
      "  self.variances_ = np.nanvar(X, axis=0)\n",
      "/home/bsmith16/.conda/envs/neuralsignature/lib/python3.8/site-packages/sklearn/feature_selection/_variance_threshold.py:86: RuntimeWarning: All-NaN slice encountered\n",
      "  self.variances_ = np.nanmin(compare_arr, axis=0)\n",
      "/home/bsmith16/.conda/envs/neuralsignature/lib/python3.8/site-packages/sklearn/feature_selection/_variance_threshold.py:78: RuntimeWarning: Degrees of freedom <= 0 for slice.\n",
      "  self.variances_ = np.nanvar(X, axis=0)\n",
      "/home/bsmith16/.conda/envs/neuralsignature/lib/python3.8/site-packages/sklearn/feature_selection/_variance_threshold.py:86: RuntimeWarning: All-NaN slice encountered\n",
      "  self.variances_ = np.nanmin(compare_arr, axis=0)\n"
     ]
    },
    {
     "name": "stdout",
     "output_type": "stream",
     "text": [
      "estimator 1; ROC AUC score: 0.5297619047619048\n",
      "hyper-parameter search group 2\n",
      "50\n",
      "24\n",
      "estimating...estimator 0; ROC AUC score: 0.875\n",
      "estimating...estimator 1; ROC AUC score: 0.75\n",
      "estimator_i\n",
      "0    0.638095\n",
      "1    0.587963\n",
      "Name: score, dtype: float64\n",
      "chose estimator 0\n",
      "generalization test group 0\n"
     ]
    },
    {
     "name": "stderr",
     "output_type": "stream",
     "text": [
      "/home/bsmith16/.conda/envs/neuralsignature/lib/python3.8/site-packages/sklearn/feature_selection/_variance_threshold.py:78: RuntimeWarning: Degrees of freedom <= 0 for slice.\n",
      "  self.variances_ = np.nanvar(X, axis=0)\n",
      "/home/bsmith16/.conda/envs/neuralsignature/lib/python3.8/site-packages/sklearn/feature_selection/_variance_threshold.py:86: RuntimeWarning: All-NaN slice encountered\n",
      "  self.variances_ = np.nanmin(compare_arr, axis=0)\n",
      "/home/bsmith16/.conda/envs/neuralsignature/lib/python3.8/site-packages/sklearn/feature_selection/_variance_threshold.py:78: RuntimeWarning: Degrees of freedom <= 0 for slice.\n",
      "  self.variances_ = np.nanvar(X, axis=0)\n",
      "/home/bsmith16/.conda/envs/neuralsignature/lib/python3.8/site-packages/sklearn/feature_selection/_variance_threshold.py:86: RuntimeWarning: All-NaN slice encountered\n",
      "  self.variances_ = np.nanmin(compare_arr, axis=0)\n"
     ]
    },
    {
     "name": "stdout",
     "output_type": "stream",
     "text": [
      "generalization test group 1\n",
      "generalization test group 2\n"
     ]
    },
    {
     "name": "stderr",
     "output_type": "stream",
     "text": [
      "/home/bsmith16/.conda/envs/neuralsignature/lib/python3.8/site-packages/sklearn/feature_selection/_variance_threshold.py:78: RuntimeWarning: Degrees of freedom <= 0 for slice.\n",
      "  self.variances_ = np.nanvar(X, axis=0)\n",
      "/home/bsmith16/.conda/envs/neuralsignature/lib/python3.8/site-packages/sklearn/feature_selection/_variance_threshold.py:86: RuntimeWarning: All-NaN slice encountered\n",
      "  self.variances_ = np.nanmin(compare_arr, axis=0)\n",
      "/home/bsmith16/.conda/envs/neuralsignature/lib/python3.8/site-packages/sklearn/feature_selection/_variance_threshold.py:78: RuntimeWarning: Degrees of freedom <= 0 for slice.\n",
      "  self.variances_ = np.nanvar(X, axis=0)\n",
      "/home/bsmith16/.conda/envs/neuralsignature/lib/python3.8/site-packages/sklearn/feature_selection/_variance_threshold.py:86: RuntimeWarning: All-NaN slice encountered\n",
      "  self.variances_ = np.nanmin(compare_arr, axis=0)\n"
     ]
    },
    {
     "name": "stdout",
     "output_type": "stream",
     "text": [
      "cross-validated score is: 0.6914251207729469\n",
      "precision, recall, fscore, support:\n",
      "(array([0.91025641, 0.34375   ]), array([0.77173913, 0.61111111]), array([0.83529412, 0.44      ]), array([92, 18]))\n",
      "raw (overfit) score is: 1.0\n",
      "0.0    78\n",
      "1.0    32\n",
      "dtype: int64\n",
      "0.6914251207729469\n",
      "DEV009\n",
      "generalization test group 0\n",
      "64\n",
      "32\n",
      "hyper-parameter search group 0\n",
      "42\n",
      "22\n",
      "estimating..."
     ]
    },
    {
     "name": "stderr",
     "output_type": "stream",
     "text": [
      "/home/bsmith16/.conda/envs/neuralsignature/lib/python3.8/site-packages/sklearn/feature_selection/_variance_threshold.py:78: RuntimeWarning: Degrees of freedom <= 0 for slice.\n",
      "  self.variances_ = np.nanvar(X, axis=0)\n",
      "/home/bsmith16/.conda/envs/neuralsignature/lib/python3.8/site-packages/sklearn/feature_selection/_variance_threshold.py:86: RuntimeWarning: All-NaN slice encountered\n",
      "  self.variances_ = np.nanmin(compare_arr, axis=0)\n",
      "/home/bsmith16/.conda/envs/neuralsignature/lib/python3.8/site-packages/sklearn/feature_selection/_univariate_selection.py:110: RuntimeWarning: invalid value encountered in true_divide\n",
      "  msb = ssbn / float(dfbn)\n"
     ]
    },
    {
     "ename": "ValueError",
     "evalue": "This solver needs samples of at least 2 classes in the data, but the data contains only one class: 0",
     "output_type": "error",
     "traceback": [
      "\u001b[0;31m---------------------------------------------------------------------------\u001b[0m",
      "\u001b[0;31mValueError\u001b[0m                                Traceback (most recent call last)",
      "\u001b[0;32m<ipython-input-3-ac5344fb3271>\u001b[0m in \u001b[0;36m<module>\u001b[0;34m\u001b[0m\n\u001b[1;32m      1\u001b[0m \u001b[0;32mfrom\u001b[0m \u001b[0mSST\u001b[0m\u001b[0;34m.\u001b[0m\u001b[0mclassify_trialwise_gng_sklearn\u001b[0m \u001b[0;32mimport\u001b[0m \u001b[0mmain\u001b[0m\u001b[0;34m\u001b[0m\u001b[0;34m\u001b[0m\u001b[0m\n\u001b[1;32m      2\u001b[0m \u001b[0;34m\u001b[0m\u001b[0m\n\u001b[0;32m----> 3\u001b[0;31m \u001b[0mmain\u001b[0m\u001b[0;34m(\u001b[0m\u001b[0;34m'/SST/Brain_Data_betaseries_nos_197subs_correct_cond_pfc_condstd.pkl'\u001b[0m\u001b[0;34m)\u001b[0m\u001b[0;34m\u001b[0m\u001b[0;34m\u001b[0m\u001b[0m\n\u001b[0m",
      "\u001b[0;32m/gpfs/projects/sanlab/shared/DEV/DEV_scripts/fMRI/ml/SST/classify_trialwise_gng_sklearn.py\u001b[0m in \u001b[0;36mmain\u001b[0;34m(bd_filename)\u001b[0m\n\u001b[1;32m    120\u001b[0m \u001b[0;34m\u001b[0m\u001b[0m\n\u001b[1;32m    121\u001b[0m \u001b[0;34m\u001b[0m\u001b[0m\n\u001b[0;32m--> 122\u001b[0;31m         cv_result = sklearn_nested_cross_validate(\n\u001b[0m\u001b[1;32m    123\u001b[0m             \u001b[0mselected_subjs\u001b[0m\u001b[0;34m[\u001b[0m\u001b[0mthis_subj_samples\u001b[0m\u001b[0;34m]\u001b[0m\u001b[0;34m.\u001b[0m\u001b[0mdata\u001b[0m\u001b[0;34m,\u001b[0m\u001b[0;34m\u001b[0m\u001b[0;34m\u001b[0m\u001b[0m\n\u001b[1;32m    124\u001b[0m             \u001b[0mnp\u001b[0m\u001b[0;34m.\u001b[0m\u001b[0marray\u001b[0m\u001b[0;34m(\u001b[0m\u001b[0mthis_subj_y\u001b[0m\u001b[0;34m)\u001b[0m\u001b[0;34m,\u001b[0m\u001b[0;34m\u001b[0m\u001b[0;34m\u001b[0m\u001b[0m\n",
      "\u001b[0;32m/gpfs/projects/sanlab/shared/DEV/DEV_scripts/fMRI/ml/dev_utils.py\u001b[0m in \u001b[0;36msklearn_nested_cross_validate\u001b[0;34m(X, y, estimator_set, groups)\u001b[0m\n\u001b[1;32m    101\u001b[0m                 \u001b[0;31m#for now, don't implement the gridsearch because we don't need it;\u001b[0m\u001b[0;34m\u001b[0m\u001b[0;34m\u001b[0m\u001b[0;34m\u001b[0m\u001b[0m\n\u001b[1;32m    102\u001b[0m                 \u001b[0;31m# I just want to comapre the performance of the different estimators\u001b[0m\u001b[0;34m\u001b[0m\u001b[0;34m\u001b[0m\u001b[0;34m\u001b[0m\u001b[0m\n\u001b[0;32m--> 103\u001b[0;31m                 \u001b[0mestimator\u001b[0m\u001b[0;34m.\u001b[0m\u001b[0mfit\u001b[0m\u001b[0;34m(\u001b[0m\u001b[0mX_train_i\u001b[0m\u001b[0;34m[\u001b[0m\u001b[0mtrain_j\u001b[0m\u001b[0;34m]\u001b[0m\u001b[0;34m,\u001b[0m\u001b[0my\u001b[0m\u001b[0;34m=\u001b[0m\u001b[0my_train_i\u001b[0m\u001b[0;34m[\u001b[0m\u001b[0mtrain_j\u001b[0m\u001b[0;34m]\u001b[0m\u001b[0;34m)\u001b[0m\u001b[0;34m\u001b[0m\u001b[0;34m\u001b[0m\u001b[0m\n\u001b[0m\u001b[1;32m    104\u001b[0m                 \u001b[0;31m#now, evaluate the performance of the estimator on the validation set\u001b[0m\u001b[0;34m\u001b[0m\u001b[0;34m\u001b[0m\u001b[0;34m\u001b[0m\u001b[0m\n\u001b[1;32m    105\u001b[0m                 \u001b[0minner_y_pred\u001b[0m \u001b[0;34m=\u001b[0m \u001b[0mestimator\u001b[0m\u001b[0;34m.\u001b[0m\u001b[0mpredict\u001b[0m\u001b[0;34m(\u001b[0m\u001b[0mX_train_i\u001b[0m\u001b[0;34m[\u001b[0m\u001b[0mvalidate_j\u001b[0m\u001b[0;34m]\u001b[0m\u001b[0;34m)\u001b[0m\u001b[0;34m\u001b[0m\u001b[0;34m\u001b[0m\u001b[0m\n",
      "\u001b[0;32m~/.conda/envs/neuralsignature/lib/python3.8/site-packages/sklearn/pipeline.py\u001b[0m in \u001b[0;36mfit\u001b[0;34m(self, X, y, **fit_params)\u001b[0m\n\u001b[1;32m    344\u001b[0m             \u001b[0;32mif\u001b[0m \u001b[0mself\u001b[0m\u001b[0;34m.\u001b[0m\u001b[0m_final_estimator\u001b[0m \u001b[0;34m!=\u001b[0m \u001b[0;34m'passthrough'\u001b[0m\u001b[0;34m:\u001b[0m\u001b[0;34m\u001b[0m\u001b[0;34m\u001b[0m\u001b[0m\n\u001b[1;32m    345\u001b[0m                 \u001b[0mfit_params_last_step\u001b[0m \u001b[0;34m=\u001b[0m \u001b[0mfit_params_steps\u001b[0m\u001b[0;34m[\u001b[0m\u001b[0mself\u001b[0m\u001b[0;34m.\u001b[0m\u001b[0msteps\u001b[0m\u001b[0;34m[\u001b[0m\u001b[0;34m-\u001b[0m\u001b[0;36m1\u001b[0m\u001b[0;34m]\u001b[0m\u001b[0;34m[\u001b[0m\u001b[0;36m0\u001b[0m\u001b[0;34m]\u001b[0m\u001b[0;34m]\u001b[0m\u001b[0;34m\u001b[0m\u001b[0;34m\u001b[0m\u001b[0m\n\u001b[0;32m--> 346\u001b[0;31m                 \u001b[0mself\u001b[0m\u001b[0;34m.\u001b[0m\u001b[0m_final_estimator\u001b[0m\u001b[0;34m.\u001b[0m\u001b[0mfit\u001b[0m\u001b[0;34m(\u001b[0m\u001b[0mXt\u001b[0m\u001b[0;34m,\u001b[0m \u001b[0my\u001b[0m\u001b[0;34m,\u001b[0m \u001b[0;34m**\u001b[0m\u001b[0mfit_params_last_step\u001b[0m\u001b[0;34m)\u001b[0m\u001b[0;34m\u001b[0m\u001b[0;34m\u001b[0m\u001b[0m\n\u001b[0m\u001b[1;32m    347\u001b[0m \u001b[0;34m\u001b[0m\u001b[0m\n\u001b[1;32m    348\u001b[0m         \u001b[0;32mreturn\u001b[0m \u001b[0mself\u001b[0m\u001b[0;34m\u001b[0m\u001b[0;34m\u001b[0m\u001b[0m\n",
      "\u001b[0;32m~/.conda/envs/neuralsignature/lib/python3.8/site-packages/sklearn/linear_model/_logistic.py\u001b[0m in \u001b[0;36mfit\u001b[0;34m(self, X, y, sample_weight)\u001b[0m\n\u001b[1;32m   1356\u001b[0m                               \u001b[0;34m\" 'solver' is set to 'liblinear'. Got 'n_jobs'\"\u001b[0m\u001b[0;34m\u001b[0m\u001b[0;34m\u001b[0m\u001b[0m\n\u001b[1;32m   1357\u001b[0m                               \" = {}.\".format(effective_n_jobs(self.n_jobs)))\n\u001b[0;32m-> 1358\u001b[0;31m             self.coef_, self.intercept_, n_iter_ = _fit_liblinear(\n\u001b[0m\u001b[1;32m   1359\u001b[0m                 \u001b[0mX\u001b[0m\u001b[0;34m,\u001b[0m \u001b[0my\u001b[0m\u001b[0;34m,\u001b[0m \u001b[0mself\u001b[0m\u001b[0;34m.\u001b[0m\u001b[0mC\u001b[0m\u001b[0;34m,\u001b[0m \u001b[0mself\u001b[0m\u001b[0;34m.\u001b[0m\u001b[0mfit_intercept\u001b[0m\u001b[0;34m,\u001b[0m \u001b[0mself\u001b[0m\u001b[0;34m.\u001b[0m\u001b[0mintercept_scaling\u001b[0m\u001b[0;34m,\u001b[0m\u001b[0;34m\u001b[0m\u001b[0;34m\u001b[0m\u001b[0m\n\u001b[1;32m   1360\u001b[0m                 \u001b[0mself\u001b[0m\u001b[0;34m.\u001b[0m\u001b[0mclass_weight\u001b[0m\u001b[0;34m,\u001b[0m \u001b[0mself\u001b[0m\u001b[0;34m.\u001b[0m\u001b[0mpenalty\u001b[0m\u001b[0;34m,\u001b[0m \u001b[0mself\u001b[0m\u001b[0;34m.\u001b[0m\u001b[0mdual\u001b[0m\u001b[0;34m,\u001b[0m \u001b[0mself\u001b[0m\u001b[0;34m.\u001b[0m\u001b[0mverbose\u001b[0m\u001b[0;34m,\u001b[0m\u001b[0;34m\u001b[0m\u001b[0;34m\u001b[0m\u001b[0m\n",
      "\u001b[0;32m~/.conda/envs/neuralsignature/lib/python3.8/site-packages/sklearn/svm/_base.py\u001b[0m in \u001b[0;36m_fit_liblinear\u001b[0;34m(X, y, C, fit_intercept, intercept_scaling, class_weight, penalty, dual, verbose, max_iter, tol, random_state, multi_class, loss, epsilon, sample_weight)\u001b[0m\n\u001b[1;32m    933\u001b[0m         \u001b[0mclasses_\u001b[0m \u001b[0;34m=\u001b[0m \u001b[0menc\u001b[0m\u001b[0;34m.\u001b[0m\u001b[0mclasses_\u001b[0m\u001b[0;34m\u001b[0m\u001b[0;34m\u001b[0m\u001b[0m\n\u001b[1;32m    934\u001b[0m         \u001b[0;32mif\u001b[0m \u001b[0mlen\u001b[0m\u001b[0;34m(\u001b[0m\u001b[0mclasses_\u001b[0m\u001b[0;34m)\u001b[0m \u001b[0;34m<\u001b[0m \u001b[0;36m2\u001b[0m\u001b[0;34m:\u001b[0m\u001b[0;34m\u001b[0m\u001b[0;34m\u001b[0m\u001b[0m\n\u001b[0;32m--> 935\u001b[0;31m             raise ValueError(\"This solver needs samples of at least 2 classes\"\n\u001b[0m\u001b[1;32m    936\u001b[0m                              \u001b[0;34m\" in the data, but the data contains only one\"\u001b[0m\u001b[0;34m\u001b[0m\u001b[0;34m\u001b[0m\u001b[0m\n\u001b[1;32m    937\u001b[0m                              \" class: %r\" % classes_[0])\n",
      "\u001b[0;31mValueError\u001b[0m: This solver needs samples of at least 2 classes in the data, but the data contains only one class: 0"
     ]
    }
   ],
   "source": [
    "from SST.classify_trialwise_gng_sklearn import main\n",
    "\n",
    "main('/SST/Brain_Data_betaseries_nos_197subs_correct_cond_pfc_condstd.pkl')"
   ]
  },
  {
   "cell_type": "code",
   "execution_count": null,
   "id": "optimum-square",
   "metadata": {},
   "outputs": [],
   "source": []
  }
 ],
 "metadata": {
  "kernelspec": {
   "display_name": "Python [conda env:.conda-neuralsignature]",
   "language": "python",
   "name": "conda-env-.conda-neuralsignature-py"
  },
  "language_info": {
   "codemirror_mode": {
    "name": "ipython",
    "version": 3
   },
   "file_extension": ".py",
   "mimetype": "text/x-python",
   "name": "python",
   "nbconvert_exporter": "python",
   "pygments_lexer": "ipython3",
   "version": "3.8.5"
  }
 },
 "nbformat": 4,
 "nbformat_minor": 5
}
