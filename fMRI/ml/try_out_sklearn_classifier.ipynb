{
 "cells": [
  {
   "cell_type": "code",
   "execution_count": null,
   "id": "duplicate-invention",
   "metadata": {},
   "outputs": [],
   "source": [
    "# from SST.classify_trialwise_gng_sklearn import main\n",
    "\n",
    "# res = main('/SST/Brain_Data_betaseries_nos_6subs_correct_cond_pfc.pkl')"
   ]
  },
  {
   "cell_type": "code",
   "execution_count": 3,
   "id": "quiet-class",
   "metadata": {},
   "outputs": [
    {
     "name": "stderr",
     "output_type": "stream",
     "text": [
      "/Users/benjaminsmith/Google Drive/oregon/code/DEV_scripts/fMRI/ml/SST/classify_trialwise_gng_sklearn.py:64: UserWarning: not sure if this file holds up--it was created in 2021; need to see if it's still valid\n",
      "  warnings.warn(\"not sure if this file holds up--it was created in 2021; need to see if it's still valid\")\n"
     ]
    },
    {
     "name": "stdout",
     "output_type": "stream",
     "text": [
      "checked for intersection and no intersection between the brain data and the subjects was found.\n",
      "there were 30 subjects overlapping between the subjects marked for train data and the training dump file itself.\n"
     ]
    },
    {
     "name": "stderr",
     "output_type": "stream",
     "text": [
      "/Users/benjaminsmith/Google Drive/oregon/code/DEV_scripts/fMRI/ml/apply_loocv_and_save.py:290: SettingWithCopyWarning: \n",
      "A value is trying to be set on a copy of a slice from a DataFrame\n",
      "\n",
      "See the caveats in the documentation: https://pandas.pydata.org/pandas-docs/stable/user_guide/indexing.html#returning-a-view-versus-a-copy\n",
      "  Brain_Data_allsubs.Y[Brain_Data_allsubs.Y=='NULL']=None\n"
     ]
    },
    {
     "name": "stdout",
     "output_type": "stream",
     "text": [
      "test_train_set: 72407\n",
      "brain_data_filepath: 185\n",
      "pkl_file: 168\n",
      "train_test_markers_filepath: 158\n",
      "response_transform_func: 144\n",
      "Brain_Data_allsubs: 48\n",
      "3213\n",
      "3213\n",
      "there are 0 subjects with nan features. all the subject data will be removed from the dataset...removed.\n",
      "using all subjects\n",
      "generalization test group 0\n",
      "2141\n",
      "1072\n",
      "hyper-parameter search group 0;  est...est 0; ROC AUC: 0.4877076411960133; \n",
      "est...est 1; ROC AUC: 0.4943521594684385; \n",
      "hyper-parameter search group 1;  est...est 0; ROC AUC: 0.5262901655306719; \n",
      "est...est 1; ROC AUC: 0.5055379746835443; \n",
      "hyper-parameter search group 2;  est...est 0; ROC AUC: 0.5027341762953275; \n",
      "est...est 1; ROC AUC: 0.506676477000218; \n",
      "\n",
      "\n",
      "generalization test group 1\n",
      "2149\n",
      "1064\n",
      "hyper-parameter search group 0;  est...est 0; ROC AUC: 0.4769067826933261; \n",
      "est...est 1; ROC AUC: 0.49887646882022074; \n",
      "hyper-parameter search group 1;  est...est 0; ROC AUC: 0.5403732934764778; \n",
      "est...est 1; ROC AUC: 0.5312687968211728; \n",
      "hyper-parameter search group 2;  est...est 0; ROC AUC: 0.526263890469147; \n",
      "est...est 1; ROC AUC: 0.5316114840520347; \n",
      "\n",
      "\n",
      "generalization test group 2\n",
      "2136\n",
      "1077\n",
      "hyper-parameter search group 0;  est...est 0; ROC AUC: 0.5320694782373615; \n",
      "est...est 1; ROC AUC: 0.5293322519599892; \n",
      "hyper-parameter search group 1;  est...est 0; ROC AUC: 0.5047619047619047; \n",
      "est...est 1; ROC AUC: 0.4769480519480519; \n",
      "hyper-parameter search group 2;  est...est 0; ROC AUC: 0.5127433363282419; \n",
      "est...est 1; ROC AUC: 0.5229709493860437; \n",
      "\n",
      "\n",
      "estimator_i\n",
      "0    0.512206\n",
      "1    0.510842\n",
      "Name: score, dtype: Float64\n",
      "chose estimator 0\n",
      "generalization test group 0\n",
      "generalization test group 1\n",
      "generalization test group 2\n",
      "cross-validated score is: 0.5096342868626234\n",
      "precision, recall, fscore, support:\n",
      "(array([0.86572655, 0.14348925]), array([0.51029996, 0.50896861]), array([0.64211005, 0.22386588]), array([2767,  446]))\n",
      "raw (overfit) score is: 0.7376154907048316\n",
      "0.0    1631\n",
      "1.0    1582\n",
      "dtype: int64\n",
      "0.5096342868626234\n"
     ]
    }
   ],
   "source": [
    "from SST.classify_trialwise_gng_sklearn import main\n",
    "\n",
    "res30 = main('/SST/Brain_Data_betaseries_nos_30subs_correct_cond_pfc_condstd.pkl')"
   ]
  },
  {
   "cell_type": "code",
   "execution_count": 2,
   "id": "thermal-proxy",
   "metadata": {},
   "outputs": [
    {
     "name": "stderr",
     "output_type": "stream",
     "text": [
      "/Users/benjaminsmith/Google Drive/oregon/code/DEV_scripts/fMRI/ml/SST/classify_trialwise_gng_sklearn.py:64: UserWarning: not sure if this file holds up--it was created in 2021; need to see if it's still valid\n",
      "  warnings.warn(\"not sure if this file holds up--it was created in 2021; need to see if it's still valid\")\n"
     ]
    },
    {
     "name": "stdout",
     "output_type": "stream",
     "text": [
      "checked for intersection and no intersection between the brain data and the subjects was found.\n",
      "there were 138 subjects overlapping between the subjects marked for train data and the training dump file itself.\n",
      "test_train_set: 72407\n",
      "brain_data_filepath: 186\n",
      "pkl_file: 168\n",
      "train_test_markers_filepath: 158\n",
      "response_transform_func: 144\n",
      "Brain_Data_allsubs: 48\n"
     ]
    },
    {
     "name": "stderr",
     "output_type": "stream",
     "text": [
      "/Users/benjaminsmith/Google Drive/oregon/code/DEV_scripts/fMRI/ml/apply_loocv_and_save.py:290: SettingWithCopyWarning: \n",
      "A value is trying to be set on a copy of a slice from a DataFrame\n",
      "\n",
      "See the caveats in the documentation: https://pandas.pydata.org/pandas-docs/stable/user_guide/indexing.html#returning-a-view-versus-a-copy\n",
      "  Brain_Data_allsubs.Y[Brain_Data_allsubs.Y=='NULL']=None\n"
     ]
    },
    {
     "name": "stdout",
     "output_type": "stream",
     "text": [
      "14745\n",
      "14745\n",
      "there are 1 subjects with nan features. all the subject data will be removed from the dataset...removed.\n",
      "using all subjects\n",
      "generalization test group 0\n",
      "9732\n",
      "4906\n",
      "hyper-parameter search group 0;  est...est 0; ROC AUC: 0.502831516620915; \n",
      "est...est 1; ROC AUC: 0.49646676150974145; \n",
      "hyper-parameter search group 1;  est...est 0; ROC AUC: 0.4742997908622909; \n",
      "est...est 1; ROC AUC: 0.47469514157014153; \n",
      "hyper-parameter search group 2;  est...est 0; ROC AUC: 0.5044960826210826; \n",
      "est...est 1; ROC AUC: 0.5016025641025641; \n",
      "\n",
      "\n",
      "generalization test group 1\n",
      "9805\n",
      "4833\n",
      "hyper-parameter search group 0;  est...est 0; ROC AUC: 0.5079676038157606; \n",
      "est...est 1; ROC AUC: 0.4972774926801624; \n",
      "hyper-parameter search group 1;  est...est 0; ROC AUC: 0.49982381959126143; \n",
      "est...est 1; ROC AUC: 0.5052031947380784; \n",
      "hyper-parameter search group 2;  est...est 0; ROC AUC: 0.49931482696591095; \n",
      "est...est 1; ROC AUC: 0.4890100774743971; \n",
      "\n",
      "\n",
      "generalization test group 2\n",
      "9739\n",
      "4899\n",
      "hyper-parameter search group 0;  est...est 0; ROC AUC: 0.5121712209678713; \n",
      "est...est 1; ROC AUC: 0.5118074523247282; \n",
      "hyper-parameter search group 1;  est...est 0; ROC AUC: 0.5011442157103232; \n",
      "est...est 1; ROC AUC: 0.5096646980017736; \n",
      "hyper-parameter search group 2;  est...est 0; ROC AUC: 0.5054273476069072; \n",
      "est...est 1; ROC AUC: 0.5123661394130057; \n",
      "\n",
      "\n",
      "estimator_i\n",
      "0    0.500831\n",
      "1    0.499788\n",
      "Name: score, dtype: Float64\n",
      "chose estimator 0\n",
      "generalization test group 0\n",
      "generalization test group 1\n",
      "generalization test group 2\n",
      "cross-validated score is: 0.5060563425072444\n",
      "precision, recall, fscore, support:\n",
      "(array([0.86202148, 0.1438449 ]), array([0.49781312, 0.51429956]), array([0.63114382, 0.22481195]), array([12575,  2063]))\n",
      "raw (overfit) score is: 0.6300328132995532\n",
      "1.0    7376\n",
      "0.0    7262\n",
      "dtype: int64\n",
      "0.5060563425072444\n"
     ]
    },
    {
     "data": {
      "text/plain": [
       "{'y_predict_final': array([0., 0., 0., ..., 1., 1., 0.]),\n",
       " 'model_final': Pipeline(steps=[('clean', VarianceThreshold(threshold=0)),\n",
       "                 ('select', SelectKBest(k=200)),\n",
       "                 ('estimator',\n",
       "                  LogisticRegression(class_weight='balanced',\n",
       "                                     solver='liblinear'))])}"
      ]
     },
     "execution_count": 2,
     "metadata": {},
     "output_type": "execute_result"
    }
   ],
   "source": [
    "from SST.classify_trialwise_gng_sklearn import main\n",
    "\n",
    "main('/SST/Brain_Data_betaseries_nos_197subs_correct_cond_pfc_condstd.pkl')"
   ]
  },
  {
   "cell_type": "markdown",
   "id": "4f55d273",
   "metadata": {},
   "source": []
  },
  {
   "attachments": {},
   "cell_type": "markdown",
   "id": "4f72514d",
   "metadata": {},
   "source": [
    "The next item does a whole-brain classification of 30 subjects on a condition-wise basis."
   ]
  },
  {
   "cell_type": "code",
   "execution_count": 1,
   "id": "767d65ba",
   "metadata": {},
   "outputs": [
    {
     "name": "stdout",
     "output_type": "stream",
     "text": [
      "python initialized for apply_loocv_and_save\n",
      "cpus available; cpus to use:\n",
      "10 9\n",
      "10\n",
      "yaml file does not contain host-specific settings for this host. Using default settings.\n",
      "9\n"
     ]
    },
    {
     "ename": "TypeError",
     "evalue": "main() got an unexpected keyword argument 'resp_trans_func'",
     "output_type": "error",
     "traceback": [
      "\u001b[0;31m---------------------------------------------------------------------------\u001b[0m",
      "\u001b[0;31mTypeError\u001b[0m                                 Traceback (most recent call last)",
      "\u001b[1;32m/Users/benjaminsmith/Google Drive/oregon/code/DEV_scripts/fMRI/ml/try_out_sklearn_classifier.ipynb Cell 6\u001b[0m in \u001b[0;36m<cell line: 9>\u001b[0;34m()\u001b[0m\n\u001b[1;32m      <a href='vscode-notebook-cell:/Users/benjaminsmith/Google%20Drive/oregon/code/DEV_scripts/fMRI/ml/try_out_sklearn_classifier.ipynb#W4sZmlsZQ%3D%3D?line=4'>5</a>\u001b[0m     reg_match \u001b[39m=\u001b[39m \u001b[39m\"\u001b[39m\u001b[39mSn\u001b[39m\u001b[39m\\\u001b[39m\u001b[39m(1\u001b[39m\u001b[39m\\\u001b[39m\u001b[39m) (.*)\u001b[39m\u001b[39m\\\u001b[39m\u001b[39m*bf\u001b[39m\u001b[39m\\\u001b[39m\u001b[39m(1\u001b[39m\u001b[39m\\\u001b[39m\u001b[39m)\u001b[39m\u001b[39m\"\u001b[39m\n\u001b[1;32m      <a href='vscode-notebook-cell:/Users/benjaminsmith/Google%20Drive/oregon/code/DEV_scripts/fMRI/ml/try_out_sklearn_classifier.ipynb#W4sZmlsZQ%3D%3D?line=5'>6</a>\u001b[0m     \u001b[39mreturn\u001b[39;00m(X\u001b[39m.\u001b[39mraw_beta_description\u001b[39m.\u001b[39mstr\u001b[39m.\u001b[39mextract(reg_match, expand\u001b[39m=\u001b[39m\u001b[39mFalse\u001b[39;00m))\n\u001b[0;32m----> <a href='vscode-notebook-cell:/Users/benjaminsmith/Google%20Drive/oregon/code/DEV_scripts/fMRI/ml/try_out_sklearn_classifier.ipynb#W4sZmlsZQ%3D%3D?line=8'>9</a>\u001b[0m res30 \u001b[39m=\u001b[39m main(\u001b[39m'\u001b[39;49m\u001b[39m/SST/Brain_Data_conditions_nos_30subs_correct_cond.pkl\u001b[39;49m\u001b[39m'\u001b[39;49m,resp_trans_func \u001b[39m=\u001b[39;49m condition_resp_trans_func)\n",
      "\u001b[0;31mTypeError\u001b[0m: main() got an unexpected keyword argument 'resp_trans_func'"
     ]
    }
   ],
   "source": [
    "from SST.classify_trialwise_gng_sklearn import main\n",
    "\n",
    "\n",
    "def condition_resp_trans_func(X):\n",
    "    reg_match = \"Sn\\(1\\) (.*)\\*bf\\(1\\)\"\n",
    "    return(X.raw_beta_description.str.extract(reg_match, expand=False))\n",
    "\n",
    "\n",
    "res30 = main('/SST/Brain_Data_conditions_nos_30subs_correct_cond.pkl',response_transform_function = condition_resp_trans_func)"
   ]
  },
  {
   "cell_type": "code",
   "execution_count": null,
   "id": "bfb267ca",
   "metadata": {},
   "outputs": [],
   "source": []
  }
 ],
 "metadata": {
  "kernelspec": {
   "display_name": "neuralsignature",
   "language": "python",
   "name": "python3"
  },
  "language_info": {
   "codemirror_mode": {
    "name": "ipython",
    "version": 3
   },
   "file_extension": ".py",
   "mimetype": "text/x-python",
   "name": "python",
   "nbconvert_exporter": "python",
   "pygments_lexer": "ipython3",
   "version": "3.10.4"
  },
  "vscode": {
   "interpreter": {
    "hash": "0cca8238de402a161b34e58e1e3b4d299a0bf48c5783c9dc7c173d82c36576a7"
   }
  }
 },
 "nbformat": 4,
 "nbformat_minor": 5
}
