{
 "cells": [
  {
   "cell_type": "code",
   "execution_count": 1,
   "id": "substantial-crawford",
   "metadata": {},
   "outputs": [
    {
     "name": "stderr",
     "output_type": "stream",
     "text": [
      "/home/bsmith16/.conda/envs/neuralsignature/lib/python3.8/site-packages/nilearn/datasets/__init__.py:87: FutureWarning: Fetchers from the nilearn.datasets module will be updated in version 0.9 to return python strings instead of bytes and Pandas dataframes instead of Numpy arrays.\n",
      "  warn(\"Fetchers from the nilearn.datasets module will be \"\n"
     ]
    }
   ],
   "source": [
    "import pandas as pd\n",
    "import numpy as np\n",
    "import os\n",
    "import nltools as nlt\n",
    "import nilearn as nil\n",
    "import nibabel as nib\n",
    "import warnings\n",
    "import glob\n",
    "import random\n",
    "import pickle\n",
    "import dev_wtp_io_utils\n",
    "from nilearn import plotting\n"
   ]
  },
  {
   "cell_type": "code",
   "execution_count": 2,
   "id": "agreed-aging",
   "metadata": {},
   "outputs": [],
   "source": [
    "pd.set_option('display.max_rows', 99)"
   ]
  },
  {
   "cell_type": "markdown",
   "id": "further-moore",
   "metadata": {},
   "source": [
    "### Load brain data"
   ]
  },
  {
   "cell_type": "code",
   "execution_count": 4,
   "id": "close-robertson",
   "metadata": {},
   "outputs": [],
   "source": [
    "with open('../data/Brain_Data_2sns_60subs.pkl', 'rb') as pkl_file:\n",
    "    Brain_Data_allsubs = pickle.load(pkl_file)"
   ]
  },
  {
   "cell_type": "code",
   "execution_count": 5,
   "id": "labeled-alias",
   "metadata": {},
   "outputs": [],
   "source": [
    "test_train_set = pd.read_csv(\"../data/train_test_markers_20210601T183243.csv\")"
   ]
  },
  {
   "cell_type": "code",
   "execution_count": 6,
   "id": "offshore-poison",
   "metadata": {},
   "outputs": [
    {
     "name": "stdout",
     "output_type": "stream",
     "text": [
      "checked for intersection and no intersection between the brain data and the subjects was found.\n",
      "there were 60 subjects overlapping between the subjects marked for train data and the training dump file itself.\n"
     ]
    }
   ],
   "source": [
    "dev_wtp_io_utils.check_BD_against_test_train_set(Brain_Data_allsubs,test_train_set)"
   ]
  },
  {
   "cell_type": "markdown",
   "id": "soviet-mouse",
   "metadata": {},
   "source": [
    "### Preprocess"
   ]
  },
  {
   "cell_type": "code",
   "execution_count": 7,
   "id": "extended-grant",
   "metadata": {},
   "outputs": [
    {
     "name": "stdout",
     "output_type": "stream",
     "text": [
      "5.0    1164\n",
      "6.0    1018\n",
      "7.0     904\n",
      "8.0     604\n",
      "Name: response, dtype: int64\n",
      "5.0    1164\n",
      "6.0    1018\n",
      "7.0     904\n",
      "8.0     604\n",
      "Name: response, dtype: int64\n",
      "False    3690\n",
      "True      150\n",
      "Name: response, dtype: int64\n",
      "3690\n",
      "3840\n"
     ]
    }
   ],
   "source": [
    "Brain_Data_allsubs.Y = Brain_Data_allsubs.X.response.copy()\n",
    "print(Brain_Data_allsubs.Y.value_counts())\n",
    "Brain_Data_allsubs.Y[Brain_Data_allsubs.Y=='NULL']=None\n",
    "print(Brain_Data_allsubs.Y.value_counts())\n",
    "print(Brain_Data_allsubs.Y.isnull().value_counts())\n",
    "Brain_Data_allsubs_nn = Brain_Data_allsubs[Brain_Data_allsubs.Y.isnull()==False]\n",
    "print(len(Brain_Data_allsubs_nn))\n",
    "print(len(Brain_Data_allsubs))"
   ]
  },
  {
   "cell_type": "code",
   "execution_count": 10,
   "id": "noble-observer",
   "metadata": {},
   "outputs": [],
   "source": [
    "all_subs_nn_nifti = Brain_Data_allsubs_nn.to_nifti()"
   ]
  },
  {
   "cell_type": "code",
   "execution_count": 14,
   "id": "featured-particular",
   "metadata": {},
   "outputs": [],
   "source": [
    "all_subs_nn_nifti_Y = Brain_Data_allsubs_nn.Y"
   ]
  },
  {
   "cell_type": "code",
   "execution_count": 32,
   "id": "norman-elder",
   "metadata": {},
   "outputs": [],
   "source": [
    "all_subs_nn_nifti_groups = Brain_Data_allsubs_nn.X.subject"
   ]
  },
  {
   "cell_type": "code",
   "execution_count": 33,
   "id": "intended-tooth",
   "metadata": {},
   "outputs": [
    {
     "data": {
      "text/plain": [
       "0       DEV001\n",
       "1       DEV001\n",
       "2       DEV001\n",
       "3       DEV001\n",
       "4       DEV001\n",
       "         ...  \n",
       "3685    DEV089\n",
       "3686    DEV089\n",
       "3687    DEV089\n",
       "3688    DEV089\n",
       "3689    DEV089\n",
       "Name: subject, Length: 3690, dtype: object"
      ]
     },
     "execution_count": 33,
     "metadata": {},
     "output_type": "execute_result"
    }
   ],
   "source": [
    "all_subs_nn_nifti_groups"
   ]
  },
  {
   "cell_type": "markdown",
   "id": "greater-basin",
   "metadata": {},
   "source": [
    "### Predict\n",
    "\n",
    "Regressing in nilearn:\n",
    " - https://nilearn.github.io/decoding/estimator_choice.html\n",
    " - http://www.ncbi.nlm.nih.gov/pubmed/20691790\n",
    "\n",
    "\n",
    "\n",
    "\n",
    "\n"
   ]
  },
  {
   "cell_type": "code",
   "execution_count": 13,
   "id": "viral-listening",
   "metadata": {},
   "outputs": [],
   "source": [
    "\n",
    "\n",
    "from nilearn.decoding import DecoderRegressor\n",
    "\n",
    "regressor = DecoderRegressor(estimator = 'ridge_regressor', standardize= True,cv=5)"
   ]
  },
  {
   "cell_type": "code",
   "execution_count": null,
   "id": "unauthorized-vietnam",
   "metadata": {},
   "outputs": [],
   "source": [
    "#output[\"r_xval\"] = pearsonr(output[\"Y\"], output[\"yfit_xval\"])[0]"
   ]
  },
  {
   "cell_type": "code",
   "execution_count": 18,
   "id": "limiting-newfoundland",
   "metadata": {},
   "outputs": [
    {
     "name": "stderr",
     "output_type": "stream",
     "text": [
      "/home/bsmith16/.conda/envs/neuralsignature/lib/python3.8/site-packages/nilearn/decoding/decoder.py:143: UserWarning: Use a custom estimator at your own risk of the process not working as intended.\n",
      "  warnings.warn('Use a custom estimator at your own risk '\n"
     ]
    }
   ],
   "source": [
    "reg_results = regressor.fit(all_subs_nn_nifti, all_subs_nn_nifti_Y)#default scoring is 42"
   ]
  },
  {
   "cell_type": "code",
   "execution_count": 22,
   "id": "framed-server",
   "metadata": {},
   "outputs": [
    {
     "data": {
      "text/plain": [
       "{'beta': [-0.7752011400140235,\n",
       "  -1.0197575102413023,\n",
       "  -0.5455072414813338,\n",
       "  -0.5094201119299464,\n",
       "  -0.6835421929486358,\n",
       "  -0.5216117331328245,\n",
       "  -0.3277013750651854,\n",
       "  -1.2561362345534581,\n",
       "  -0.5259166290404353,\n",
       "  -1.2392101173224317]}"
      ]
     },
     "execution_count": 22,
     "metadata": {},
     "output_type": "execute_result"
    }
   ],
   "source": [
    "regressor.cv_scores_"
   ]
  },
  {
   "cell_type": "code",
   "execution_count": 24,
   "id": "acknowledged-bubble",
   "metadata": {},
   "outputs": [
    {
     "name": "stdout",
     "output_type": "stream",
     "text": [
      "=== DECODER ===\n",
      "explained variance for the cross-validation: 0.740400\n",
      "\n"
     ]
    }
   ],
   "source": [
    "prediction_score = -np.mean(regressor.cv_scores_['beta'])\n",
    "\n",
    "print(\"=== DECODER ===\")\n",
    "print(\"explained variance for the cross-validation: %f\" % prediction_score)\n",
    "print(\"\")"
   ]
  },
  {
   "cell_type": "markdown",
   "id": "color-workplace",
   "metadata": {},
   "source": [
    "But this cross-validation won't have respected subject divisions so it's likely to have data across the subjects. To do that properly we would need a cross-validation generator...\n",
    "\n",
    "https://scikit-learn.org/stable/modules/cross_validation.html"
   ]
  },
  {
   "cell_type": "code",
   "execution_count": 29,
   "id": "judicial-radical",
   "metadata": {},
   "outputs": [
    {
     "name": "stderr",
     "output_type": "stream",
     "text": [
      "/home/bsmith16/.conda/envs/neuralsignature/lib/python3.8/site-packages/nilearn/decoding/decoder.py:143: UserWarning: Use a custom estimator at your own risk of the process not working as intended.\n",
      "  warnings.warn('Use a custom estimator at your own risk '\n"
     ]
    }
   ],
   "source": [
    "#e.g.,...\n",
    "\n",
    "from sklearn.model_selection import KFold\n",
    "\n",
    "kf = KFold(n_splits=5)\n",
    "\n",
    "regressor_kf = DecoderRegressor(estimator = 'ridge_regressor', standardize= True,cv=kf,scoring=\"r2\")\n",
    "reg_results = regressor.fit(all_subs_nn_nifti, all_subs_nn_nifti_Y)"
   ]
  },
  {
   "cell_type": "code",
   "execution_count": 30,
   "id": "initial-soldier",
   "metadata": {},
   "outputs": [
    {
     "name": "stdout",
     "output_type": "stream",
     "text": [
      "=== DECODER ===\n",
      "explained variance for the cross-validation: 0.740400\n",
      "\n"
     ]
    }
   ],
   "source": [
    "prediction_score = -np.mean(regressor.cv_scores_['beta'])\n",
    "\n",
    "print(\"=== DECODER ===\")\n",
    "print(\"explained variance for the cross-validation: %f\" % prediction_score)\n",
    "print(\"\")"
   ]
  },
  {
   "cell_type": "markdown",
   "id": "suburban-president",
   "metadata": {},
   "source": [
    "But that still doens't resepct grouped data. to do that we'll need the GroupKFold.\n",
    "\n",
    "But how do we specify it when passing it to DecoderRegressor? We have to be able to specify the groups.\n"
   ]
  },
  {
   "cell_type": "markdown",
   "id": "skilled-communist",
   "metadata": {},
   "source": [
    "We might not be able to use the built-in cross-validation; have to build our own perhaps.\n",
    "Considering that the ultimate aim is to train on one thing and predict on another, that's probably inevitable anyway?\n",
    "\n",
    "Interesting thing about this is that we can probably/might as well go back to nltools."
   ]
  },
  {
   "cell_type": "code",
   "execution_count": 37,
   "id": "acquired-universal",
   "metadata": {},
   "outputs": [],
   "source": [
    "from sklearn.model_selection import GroupKFold\n",
    "\n",
    "kf = GroupKFold(n_splits=5)\n",
    "\n",
    "regressor_kf = DecoderRegressor(estimator = 'ridge_regressor', standardize= True,cv=kf,scoring=\"r2\")\n",
    "reg_results = regressor_kf.fit(all_subs_nn_nifti, all_subs_nn_nifti_Y,groups=all_subs_nn_nifti_groups)"
   ]
  },
  {
   "cell_type": "code",
   "execution_count": 39,
   "id": "assigned-click",
   "metadata": {},
   "outputs": [
    {
     "data": {
      "text/plain": [
       "[-0.29641380042067,\n",
       " -0.8979007845484785,\n",
       " -0.7959601680162349,\n",
       " -0.5116243845130992,\n",
       " -0.5946075353340565]"
      ]
     },
     "execution_count": 39,
     "metadata": {},
     "output_type": "execute_result"
    }
   ],
   "source": [
    "regressor_kf.cv_scores_['beta']"
   ]
  },
  {
   "cell_type": "code",
   "execution_count": 40,
   "id": "sporting-dynamics",
   "metadata": {},
   "outputs": [
    {
     "name": "stdout",
     "output_type": "stream",
     "text": [
      "=== DECODER ===\n",
      "explained variance for the cross-validation: 0.619301\n",
      "\n"
     ]
    }
   ],
   "source": [
    "prediction_score = -np.mean(regressor_kf.cv_scores_['beta'])\n",
    "\n",
    "print(\"=== DECODER ===\")\n",
    "print(\"explained variance for the cross-validation: %f\" % prediction_score)\n",
    "print(\"\")"
   ]
  },
  {
   "cell_type": "markdown",
   "id": "authentic-flight",
   "metadata": {},
   "source": [
    "OK, so that's how you do it. It's pretty straightforward.\n",
    "\n",
    "So...we won't look at nested cross-validation juuust yet, because the next step is to work out how to train on one set and predict on another. that will definitely require a custom pipeline. Let's get started..."
   ]
  },
  {
   "cell_type": "code",
   "execution_count": null,
   "id": "stylish-swift",
   "metadata": {},
   "outputs": [],
   "source": [
    "#def train_test_cv(averaged_X,averaged_groups, individual_X,individual_groups, Y, cv,group_list)\n",
    "\"\"\"\n",
    "averaged_X: values not grouped\n",
    "averaged_groups: group allocations for the averaged dataset\n",
    "individual_X: values grouped\n",
    "cv: a Grouped cross-validator\n",
    "group_list: name of the groups\n",
    "\"\"\"\n",
    "averaged_groups = all_subs_nn_nifti_groups\n",
    "cv=kf\n",
    "\n",
    "#what we're really doing here is splitting on subjects, so let's make that explicit\n",
    "averaged_groups_set = set(averaged_groups)\n",
    "for groups in kf()"
   ]
  },
  {
   "cell_type": "code",
   "execution_count": null,
   "id": "martial-transparency",
   "metadata": {},
   "outputs": [],
   "source": [
    "#### Nested cross-validation\n",
    "\n",
    "See for instance: http://nilearn.github.io/auto_examples/02_decoding/plot_haxby_grid_search.html"
   ]
  },
  {
   "cell_type": "code",
   "execution_count": null,
   "id": "dependent-halifax",
   "metadata": {},
   "outputs": [],
   "source": []
  }
 ],
 "metadata": {
  "kernelspec": {
   "display_name": "Python [conda env:.conda-neuralsignature]",
   "language": "python",
   "name": "conda-env-.conda-neuralsignature-py"
  },
  "language_info": {
   "codemirror_mode": {
    "name": "ipython",
    "version": 3
   },
   "file_extension": ".py",
   "mimetype": "text/x-python",
   "name": "python",
   "nbconvert_exporter": "python",
   "pygments_lexer": "ipython3",
   "version": "3.8.8"
  }
 },
 "nbformat": 4,
 "nbformat_minor": 5
}
