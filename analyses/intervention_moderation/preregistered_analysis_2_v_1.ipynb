{
 "cells": [
  {
   "cell_type": "code",
   "execution_count": 1,
   "metadata": {},
   "outputs": [],
   "source": [
    "%load_ext autoreload\n",
    "%autoreload 2"
   ]
  },
  {
   "cell_type": "code",
   "execution_count": 2,
   "metadata": {},
   "outputs": [],
   "source": [
    "from dev_interaction_util import *\n",
    "from DevCvAnalysis import DevCvAnalysis"
   ]
  },
  {
   "cell_type": "code",
   "execution_count": 3,
   "metadata": {},
   "outputs": [],
   "source": [
    "config = load_config(\"config.yml\") \n",
    "\n",
    "dropbox_data_dir = config['dropbox_data_dir']\n"
   ]
  },
  {
   "attachments": {},
   "cell_type": "markdown",
   "metadata": {},
   "source": [
    "The basic structure is the following:\n",
    "\n",
    "1. Run the following cross-validated analyses:\n",
    "   1. Predicting change by condition only\n",
    "   2. Predicting change by condition and neural and behavioral measures\n",
    "   3. Predicting change by condition, neural and behavioral measures, and their interactions\n",
    "2. Measure the predictivity of the three models above using anova\n",
    "3. Repeat the steps above separately for three outcome variables, change in: FFQ, ASA-24, and BFP\n",
    "4. "
   ]
  },
  {
   "attachments": {},
   "cell_type": "markdown",
   "metadata": {},
   "source": [
    "Tasks to do to get this job done (not in order):\n",
    "\n",
    "1. Write the analysis pipeline above\n",
    "2. Get the neural data\n",
    "3. Get the behavioral data\n",
    "\n",
    "\n",
    "We have the behavioral data. Do we have the neural data already?\n",
    "\n",
    "What could we delegate here? Behavioral data we already have. We have mostly writen the analysis pipeline. The neural data could be passed on."
   ]
  },
  {
   "attachments": {},
   "cell_type": "markdown",
   "metadata": {},
   "source": [
    "# Get the data"
   ]
  },
  {
   "attachments": {},
   "cell_type": "markdown",
   "metadata": {},
   "source": [
    "## Set up data\n"
   ]
  },
  {
   "cell_type": "code",
   "execution_count": 4,
   "metadata": {},
   "outputs": [
    {
     "name": "stdout",
     "output_type": "stream",
     "text": [
      "The autoreload extension is already loaded. To reload it, use:\n",
      "  %reload_ext autoreload\n"
     ]
    }
   ],
   "source": [
    "%load_ext autoreload\n",
    "%autoreload 2\n",
    "\n",
    "from InterventionCVManager import *\n",
    "\n",
    "dropbox_data_dir = config['dropbox_data_dir']\n",
    "\n",
    "icvm = InterventionCVManager(dropbox_data_dir)\n",
    "icvm.mode = 'fast_pipeline_test'\n",
    "icvm.group_mode = 'dichotomous'\n",
    "#dev_cv_analysis = icvm.get_prepopulated_dev_cv_analysis(set_as_random=True)"
   ]
  },
  {
   "cell_type": "code",
   "execution_count": 5,
   "metadata": {},
   "outputs": [
    {
     "name": "stdout",
     "output_type": "stream",
     "text": [
      "The autoreload extension is already loaded. To reload it, use:\n",
      "  %reload_ext autoreload\n"
     ]
    },
    {
     "name": "stderr",
     "output_type": "stream",
     "text": [
      "/Users/benjaminsmith/Google Drive/oregon/code/DEV_scripts/analyses/intervention_moderation/dev_interaction_util.py:918: FutureWarning: The default value of regex will change from True to False in a future version.\n",
      "  ms_groups['intervention_group'] = ms_groups['group_raw'].str.replace(r\"\\(.*\\)\",\"\")\n"
     ]
    },
    {
     "name": "stdout",
     "output_type": "stream",
     "text": [
      "WARNING: merging group codes with data_by_ppt resulted in a different number of participants\n",
      "pre merge: 275\n",
      "post merge: 270\n",
      "participants in pre merge but not post merge: {'DEV022', 'DEV280', 'DEV002', 'DEV032', 'DEV007'}\n",
      "Index(['Unnamed: 0', 'subject_id', 'wave', 'spm_l2_path', 'condition',\n",
      "       'beta_name', 'mask_label', 'roi_activity', 'run', 'task'],\n",
      "      dtype='object')\n",
      "Index(['Unnamed: 0', 'subject_id', 'wave', 'spm_l2_path', 'condition',\n",
      "       'beta_name', 'mask_label', 'roi_activity', 'run', 'task'],\n",
      "      dtype='object')\n",
      "Index(['Unnamed: 0', 'subject_id', 'wave', 'spm_l2_path', 'condition',\n",
      "       'beta_name', 'mask_label', 'roi_activity', 'task', 'run'],\n",
      "      dtype='object')\n"
     ]
    }
   ],
   "source": [
    "%load_ext autoreload\n",
    "%autoreload 2\n",
    "dev_cv_analysis = icvm.get_prepopulated_dev_cv_analysis(set_as_random=True)"
   ]
  },
  {
   "attachments": {},
   "cell_type": "markdown",
   "metadata": {},
   "source": [
    "# Predict change"
   ]
  },
  {
   "attachments": {},
   "cell_type": "markdown",
   "metadata": {},
   "source": [
    "### Set up sets of variables to run"
   ]
  },
  {
   "attachments": {},
   "cell_type": "markdown",
   "metadata": {},
   "source": [
    "First, we set up a function that loops runs the scoring loop above (which does one cross-validation analysis), and the nadditionally:\n",
    "- selects the best model based on the overall results\n",
    "- Runs a final fit\n",
    "- presents model results"
   ]
  },
  {
   "attachments": {},
   "cell_type": "markdown",
   "metadata": {},
   "source": [
    "Now, we include functions that compare models with and without individual differences and interactions."
   ]
  },
  {
   "attachments": {},
   "cell_type": "markdown",
   "metadata": {},
   "source": [
    "Should manually verify that in the following list, the intervention_group allocations are randomized (if we're running a test run) or that they are accurate (if it's not a test run)."
   ]
  },
  {
   "cell_type": "code",
   "execution_count": 6,
   "metadata": {},
   "outputs": [
    {
     "data": {
      "text/html": [
       "<div>\n",
       "<style scoped>\n",
       "    .dataframe tbody tr th:only-of-type {\n",
       "        vertical-align: middle;\n",
       "    }\n",
       "\n",
       "    .dataframe tbody tr th {\n",
       "        vertical-align: top;\n",
       "    }\n",
       "\n",
       "    .dataframe thead th {\n",
       "        text-align: right;\n",
       "    }\n",
       "</style>\n",
       "<table border=\"1\" class=\"dataframe\">\n",
       "  <thead>\n",
       "    <tr style=\"text-align: right;\">\n",
       "      <th></th>\n",
       "      <th>SID</th>\n",
       "      <th>intervention_group</th>\n",
       "    </tr>\n",
       "  </thead>\n",
       "  <tbody>\n",
       "    <tr>\n",
       "      <th>0</th>\n",
       "      <td>DEV001</td>\n",
       "      <td>control</td>\n",
       "    </tr>\n",
       "    <tr>\n",
       "      <th>1</th>\n",
       "      <td>DEV004</td>\n",
       "      <td>control</td>\n",
       "    </tr>\n",
       "    <tr>\n",
       "      <th>2</th>\n",
       "      <td>DEV005</td>\n",
       "      <td>control</td>\n",
       "    </tr>\n",
       "    <tr>\n",
       "      <th>3</th>\n",
       "      <td>DEV008</td>\n",
       "      <td>control</td>\n",
       "    </tr>\n",
       "    <tr>\n",
       "      <th>4</th>\n",
       "      <td>DEV009</td>\n",
       "      <td>control</td>\n",
       "    </tr>\n",
       "    <tr>\n",
       "      <th>...</th>\n",
       "      <td>...</td>\n",
       "      <td>...</td>\n",
       "    </tr>\n",
       "    <tr>\n",
       "      <th>239</th>\n",
       "      <td>DEV308</td>\n",
       "      <td>control</td>\n",
       "    </tr>\n",
       "    <tr>\n",
       "      <th>240</th>\n",
       "      <td>DEV309</td>\n",
       "      <td>control</td>\n",
       "    </tr>\n",
       "    <tr>\n",
       "      <th>241</th>\n",
       "      <td>DEV310</td>\n",
       "      <td>control</td>\n",
       "    </tr>\n",
       "    <tr>\n",
       "      <th>242</th>\n",
       "      <td>DEV311</td>\n",
       "      <td>control</td>\n",
       "    </tr>\n",
       "    <tr>\n",
       "      <th>243</th>\n",
       "      <td>DEV312</td>\n",
       "      <td>control</td>\n",
       "    </tr>\n",
       "  </tbody>\n",
       "</table>\n",
       "<p>244 rows × 2 columns</p>\n",
       "</div>"
      ],
      "text/plain": [
       "        SID intervention_group\n",
       "0    DEV001            control\n",
       "1    DEV004            control\n",
       "2    DEV005            control\n",
       "3    DEV008            control\n",
       "4    DEV009            control\n",
       "..      ...                ...\n",
       "239  DEV308            control\n",
       "240  DEV309            control\n",
       "241  DEV310            control\n",
       "242  DEV311            control\n",
       "243  DEV312            control\n",
       "\n",
       "[244 rows x 2 columns]"
      ]
     },
     "execution_count": 6,
     "metadata": {},
     "output_type": "execute_result"
    }
   ],
   "source": [
    "pd.concat([\n",
    "    dev_cv_analysis.outcome_measures['SID'],\n",
    "      dev_cv_analysis.group_assignments\n",
    "],axis=1)"
   ]
  },
  {
   "cell_type": "code",
   "execution_count": 7,
   "metadata": {},
   "outputs": [
    {
     "data": {
      "text/plain": [
       "Index(['SID', 'cancer_promoting_minus_preventing_FFQ', 'cancer_promoting_FFQ',\n",
       "       'bf', 'NUTRIENT_DENSITY_2wkAverage'],\n",
       "      dtype='object')"
      ]
     },
     "execution_count": 7,
     "metadata": {},
     "output_type": "execute_result"
    }
   ],
   "source": [
    "dev_cv_analysis.outcome_measures.columns"
   ]
  },
  {
   "cell_type": "code",
   "execution_count": 8,
   "metadata": {},
   "outputs": [],
   "source": [
    "condition_cols = dev_cv_analysis.group_assignment_onehots.columns.tolist()\n",
    "inddiff_cols = dev_cv_analysis.get_predictors_main_names()\n",
    "\n",
    "interaction_cols = [id + \"*\" + cond for id in inddiff_cols for cond in condition_cols]\n",
    "\n",
    "predictor_sets = {\n",
    "    'condition_inddiff_interactions': condition_cols + inddiff_cols + interaction_cols,\n",
    "    'condition_inddiff': condition_cols + inddiff_cols,\n",
    "    'condition_only': condition_cols\n",
    "    \n",
    "    \n",
    "}\n",
    "\n",
    "\n",
    "outcome_vars_to_try = [ 'bf','cancer_promoting_FFQ',\n",
    "       'NUTRIENT_DENSITY_2wkAverage']"
   ]
  },
  {
   "cell_type": "code",
   "execution_count": 9,
   "metadata": {},
   "outputs": [
    {
     "name": "stdout",
     "output_type": "stream",
     "text": [
      "BSCS, EDM, BIS_11, PCS, RS, TRSQ, ACES_sum, BFI_agreeableness, BFI_conscientiousness, BFI_extraversion, BFI_neuroticism, BFI_openness, IMI_effort_importance, IMI_interest_enjoyment, NCS_total, PLAN_cognitive_strategies, PLAN_mental_flexibility, PLAN_temporal_orientation, RMQ_assessment, TESQ_E_sum, SRHI_healthy_minus_unhealthy, RTFS_f1_minus_f2, cancer_promoting_minus_preventing_craved_FCI, cancer_promoting_minus_preventing_liked_FCI, cSES, age365, education_own, SST_SSD, SST_mean_ssrt_0, ROC_Crave_Regulate_Minus_Look, WTP_unhealthy_minus_healthy, wtp_liked_koban_kober_craving_wmapN99_boot10K_02-May-2022_notzero, wtp_liked_value_association-test_z_FDR_0.01, roc_reappraiseCrave_reappraisal_association-test_z_FDR_0.01, roc_reappraiseCrave_abstract_association-test_z_FDR_0.01, roc_reappraiseCrave_multivariate_regulation, roc_lookCrave_koban_kober_craving_wmapN99_boot10K_02-May-2022_notzero, sst_CorrectGo_striatum_joint_mask, sst_CorrectGo_finger movements_association-test_z_FDR_0.01, sst_CorrectStop_motor_control_striatum_joint_mask, sst_CorrectStop_response inhibition_association-test_z_FDR_0.01, sst_FailedStop_motor_control_striatum_joint_mask, sst_CorrectGoFollowingFailedStop_striatum_joint_mask, birthsex_factor_Male\n"
     ]
    }
   ],
   "source": [
    "print(\", \".join(dev_cv_analysis.get_predictor_data().columns))"
   ]
  },
  {
   "attachments": {},
   "cell_type": "markdown",
   "metadata": {},
   "source": [
    "## Body Fat Percentage"
   ]
  },
  {
   "cell_type": "code",
   "execution_count": 10,
   "metadata": {},
   "outputs": [
    {
     "data": {
      "text/markdown": [
       "## condition_inddiff_interactions"
      ],
      "text/plain": [
       "<IPython.core.display.Markdown object>"
      ]
     },
     "metadata": {},
     "output_type": "display_data"
    },
    {
     "name": "stdout",
     "output_type": "stream",
     "text": [
      "loading raw data\n"
     ]
    },
    {
     "ename": "UnboundLocalError",
     "evalue": "cannot access local variable 'devCVAnalysis' where it is not associated with a value",
     "output_type": "error",
     "traceback": [
      "\u001b[0;31m---------------------------------------------------------------------------\u001b[0m",
      "\u001b[0;31mUnboundLocalError\u001b[0m                         Traceback (most recent call last)",
      "Cell \u001b[0;32mIn[10], line 1\u001b[0m\n\u001b[0;32m----> 1\u001b[0m model_outcomes \u001b[39m=\u001b[39m icvm\u001b[39m.\u001b[39;49mdo_predictor_set_comparison(\n\u001b[1;32m      2\u001b[0m     predictor_sets, outcome_vars_to_try[\u001b[39m0\u001b[39;49m], dev_cv_analysis)\n",
      "File \u001b[0;32m~/Google Drive/oregon/code/DEV_scripts/analyses/intervention_moderation/InterventionCVManager.py:66\u001b[0m, in \u001b[0;36mInterventionCVManager.do_predictor_set_comparison\u001b[0;34m(self, predictor_sets, outcome_var, mode)\u001b[0m\n\u001b[1;32m     63\u001b[0m     devCVAnalysis \u001b[39m=\u001b[39m \u001b[39mself\u001b[39m\u001b[39m.\u001b[39mget_prepopulated_dev_cv_analysis(set_as_random\u001b[39m=\u001b[39m\u001b[39mFalse\u001b[39;00m)\n\u001b[1;32m     64\u001b[0m     hyper_func \u001b[39m=\u001b[39m do_hyperparameter_selection_loop\n\u001b[0;32m---> 66\u001b[0m devCVAnalysis\u001b[39m.\u001b[39mset_outcome_target(outcome_var)\n\u001b[1;32m     68\u001b[0m devCVAnalysis\u001b[39m.\u001b[39mset_predictor_subset(predictor_set)\n\u001b[1;32m     75\u001b[0m \u001b[39mprint\u001b[39m(\u001b[39m\"\u001b[39m\u001b[39m attempting to predict \u001b[39m\u001b[39m\"\u001b[39m \u001b[39m+\u001b[39m outcome_var \u001b[39m+\u001b[39m \u001b[39m\"\u001b[39m\u001b[39m with \u001b[39m\u001b[39m\"\u001b[39m \u001b[39m+\u001b[39m \u001b[39mstr\u001b[39m(\u001b[39mlen\u001b[39m(predictor_set)) \u001b[39m+\u001b[39m \u001b[39m\"\u001b[39m\u001b[39m predictors in the set \u001b[39m\u001b[39m\"\u001b[39m \u001b[39m+\u001b[39m psk)\n",
      "\u001b[0;31mUnboundLocalError\u001b[0m: cannot access local variable 'devCVAnalysis' where it is not associated with a value"
     ]
    }
   ],
   "source": [
    "\n",
    "\n",
    "model_outcomes = icvm.do_predictor_set_comparison(\n",
    "    predictor_sets, outcome_vars_to_try[0], dev_cv_analysis)"
   ]
  },
  {
   "attachments": {},
   "cell_type": "markdown",
   "metadata": {},
   "source": [
    "## Unhealthy foods"
   ]
  },
  {
   "cell_type": "code",
   "execution_count": null,
   "metadata": {},
   "outputs": [],
   "source": [
    "\n",
    "\n",
    "model_outcomes = icvm.do_predictor_set_comparison(\n",
    "    predictor_sets, 'cancer_promoting_FFQ')"
   ]
  },
  {
   "attachments": {},
   "cell_type": "markdown",
   "metadata": {},
   "source": [
    "## Nutrient density"
   ]
  },
  {
   "cell_type": "code",
   "execution_count": null,
   "metadata": {},
   "outputs": [],
   "source": [
    "\n",
    "\n",
    "model_outcomes = icvm.do_predictor_set_comparison(\n",
    "    predictor_sets, 'NUTRIENT_DENSITY_2wkAverage')"
   ]
  }
 ],
 "metadata": {
  "kernelspec": {
   "display_name": "dataanalysis",
   "language": "python",
   "name": "python3"
  },
  "language_info": {
   "codemirror_mode": {
    "name": "ipython",
    "version": 3
   },
   "file_extension": ".py",
   "mimetype": "text/x-python",
   "name": "python",
   "nbconvert_exporter": "python",
   "pygments_lexer": "ipython3",
   "version": "3.11.0"
  },
  "orig_nbformat": 4
 },
 "nbformat": 4,
 "nbformat_minor": 2
}
