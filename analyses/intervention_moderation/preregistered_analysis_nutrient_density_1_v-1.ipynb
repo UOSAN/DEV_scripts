{
 "cells": [
  {
   "cell_type": "code",
   "execution_count": 23,
   "metadata": {},
   "outputs": [
    {
     "name": "stdout",
     "output_type": "stream",
     "text": [
      "The autoreload extension is already loaded. To reload it, use:\n",
      "  %reload_ext autoreload\n"
     ]
    }
   ],
   "source": [
    "%load_ext autoreload\n",
    "%autoreload 2"
   ]
  },
  {
   "cell_type": "code",
   "execution_count": 24,
   "metadata": {},
   "outputs": [],
   "source": [
    "import pandas as pd\n",
    "from dev_interaction_util import *\n",
    "from DevCvAnalysis import DevCvAnalysis"
   ]
  },
  {
   "cell_type": "code",
   "execution_count": 25,
   "metadata": {},
   "outputs": [],
   "source": [
    "config = load_config(\"config.yml\") \n",
    "\n",
    "dropbox_data_dir = config['dropbox_data_dir']\n"
   ]
  },
  {
   "attachments": {},
   "cell_type": "markdown",
   "metadata": {},
   "source": [
    "The basic structure is the following:\n",
    "\n",
    "1. Run the following cross-validated analyses:\n",
    "   1. Predicting change by condition only\n",
    "   2. Predicting change by condition and neural and behavioral measures\n",
    "   3. Predicting change by condition, neural and behavioral measures, and their interactions\n",
    "2. Measure the predictivity of the three models above using anova\n",
    "3. Repeat the steps above separately for three outcome variables, change in: FFQ, ASA-24, and BFP\n",
    "4. "
   ]
  },
  {
   "attachments": {},
   "cell_type": "markdown",
   "metadata": {},
   "source": [
    "Tasks to do to get this job done (not in order):\n",
    "\n",
    "1. Write the analysis pipeline above\n",
    "2. Get the neural data\n",
    "3. Get the behavioral data\n",
    "\n",
    "\n",
    "We have the behavioral data. Do we have the neural data already?\n",
    "\n",
    "What could we delegate here? Behavioral data we already have. We have mostly writen the analysis pipeline. The neural data could be passed on."
   ]
  },
  {
   "attachments": {},
   "cell_type": "markdown",
   "metadata": {},
   "source": [
    "# Get the data"
   ]
  },
  {
   "attachments": {},
   "cell_type": "markdown",
   "metadata": {},
   "source": [
    "## Set up data\n"
   ]
  },
  {
   "cell_type": "code",
   "execution_count": 26,
   "metadata": {},
   "outputs": [
    {
     "name": "stdout",
     "output_type": "stream",
     "text": [
      "The autoreload extension is already loaded. To reload it, use:\n",
      "  %reload_ext autoreload\n"
     ]
    }
   ],
   "source": [
    "%load_ext autoreload\n",
    "%autoreload 2\n",
    "\n",
    "from InterventionCVManager import *\n",
    "\n",
    "dropbox_data_dir = config['dropbox_data_dir']\n",
    "\n",
    "icvm = InterventionCVManager(dropbox_data_dir)\n",
    "#icvm.mode = 'full_pipeline_test'\n",
    "#icvm.mode = 'fast_pipeline_test'\n",
    "icvm.mode=  'fast_analysis'\n",
    "#icvm.mode = 'full_analysis'\n",
    "icvm.group_mode = 'exclude_mckenzie'\n",
    "#dev_cv_analysis = icvm.get_prepopulated_dev_cv_analysis(set_as_random=True)"
   ]
  },
  {
   "cell_type": "code",
   "execution_count": 28,
   "metadata": {},
   "outputs": [
    {
     "name": "stdout",
     "output_type": "stream",
     "text": [
      "The autoreload extension is already loaded. To reload it, use:\n",
      "  %reload_ext autoreload\n",
      "WARNING: merging group codes with data_by_ppt resulted in a different number of participants\n",
      "pre merge: 275\n",
      "post merge: 270\n",
      "participants in pre merge but not post merge: {'DEV280', 'DEV022', 'DEV007', 'DEV002', 'DEV032'}\n",
      "Index(['Unnamed: 0', 'subject_id', 'wave', 'spm_l2_path', 'condition',\n",
      "       'beta_name', 'mask_label', 'roi_activity', 'run', 'task'],\n",
      "      dtype='object')\n",
      "Index(['Unnamed: 0', 'subject_id', 'wave', 'spm_l2_path', 'condition',\n",
      "       'beta_name', 'mask_label', 'roi_activity', 'run', 'task'],\n",
      "      dtype='object')\n",
      "Index(['Unnamed: 0', 'subject_id', 'wave', 'spm_l2_path', 'condition',\n",
      "       'beta_name', 'mask_label', 'roi_activity', 'task', 'run'],\n",
      "      dtype='object')\n"
     ]
    },
    {
     "name": "stderr",
     "output_type": "stream",
     "text": [
      "/Users/benjaminsmith/Google Drive/oregon/code/DEV_scripts/analyses/intervention_moderation/dev_interaction_util.py:998: FutureWarning: The default value of regex will change from True to False in a future version.\n",
      "  ms_groups['intervention_group'] = ms_groups['group_raw'].str.replace(r\"\\(.*\\)\",\"\")\n"
     ]
    },
    {
     "ename": "KeyboardInterrupt",
     "evalue": "",
     "output_type": "error",
     "traceback": [
      "\u001b[0;31m---------------------------------------------------------------------------\u001b[0m",
      "\u001b[0;31mKeyboardInterrupt\u001b[0m                         Traceback (most recent call last)",
      "Cell \u001b[0;32mIn[28], line 3\u001b[0m\n\u001b[1;32m      1\u001b[0m get_ipython()\u001b[39m.\u001b[39mrun_line_magic(\u001b[39m'\u001b[39m\u001b[39mload_ext\u001b[39m\u001b[39m'\u001b[39m, \u001b[39m'\u001b[39m\u001b[39mautoreload\u001b[39m\u001b[39m'\u001b[39m)\n\u001b[1;32m      2\u001b[0m get_ipython()\u001b[39m.\u001b[39mrun_line_magic(\u001b[39m'\u001b[39m\u001b[39mautoreload\u001b[39m\u001b[39m'\u001b[39m, \u001b[39m'\u001b[39m\u001b[39m2\u001b[39m\u001b[39m'\u001b[39m)\n\u001b[0;32m----> 3\u001b[0m dev_cv_analysis \u001b[39m=\u001b[39m icvm\u001b[39m.\u001b[39;49mget_prepopulated_dev_cv_analysis(set_as_random\u001b[39m=\u001b[39;49m\u001b[39mFalse\u001b[39;49;00m)\n",
      "File \u001b[0;32m~/Google Drive/oregon/code/DEV_scripts/analyses/intervention_moderation/InterventionCVManager.py:43\u001b[0m, in \u001b[0;36mInterventionCVManager.get_prepopulated_dev_cv_analysis\u001b[0;34m(self, set_as_random)\u001b[0m\n\u001b[1;32m     37\u001b[0m     groups_rekey \u001b[39m=\u001b[39m \u001b[39mNone\u001b[39;00m\n\u001b[1;32m     38\u001b[0m     reference_group \u001b[39m=\u001b[39m \u001b[39m'\u001b[39m\u001b[39mwillamette\u001b[39m\u001b[39m'\u001b[39m\n\u001b[1;32m     40\u001b[0m analysis_data, outcome_measures_raw,group_assignments \u001b[39m=\u001b[39m dev_cv_analysis\u001b[39m.\u001b[39mload_and_preprocess_data_full(\n\u001b[1;32m     41\u001b[0m     use_dummy_outcome_data\u001b[39m=\u001b[39m\u001b[39mFalse\u001b[39;00m,\n\u001b[1;32m     42\u001b[0m     include_neural_data\u001b[39m=\u001b[39m\u001b[39mTrue\u001b[39;00m, include_groups\u001b[39m=\u001b[39m\u001b[39mTrue\u001b[39;00m,\n\u001b[0;32m---> 43\u001b[0m     rearrange_groups\u001b[39m=\u001b[39mgroups_rekey,\n\u001b[1;32m     44\u001b[0m     predictor_transform_func \u001b[39m=\u001b[39m get_combined_roi_analyses\n\u001b[1;32m     45\u001b[0m     )\n\u001b[1;32m     47\u001b[0m dev_cv_analysis\u001b[39m.\u001b[39mset_up_interactions_and_groups(reference_group \u001b[39m=\u001b[39m reference_group)\n\u001b[1;32m     50\u001b[0m \u001b[39mreturn\u001b[39;00m(dev_cv_analysis)\n",
      "File \u001b[0;32m~/Google Drive/oregon/code/DEV_scripts/analyses/intervention_moderation/DevCvAnalysis.py:181\u001b[0m, in \u001b[0;36mDevCvAnalysis.load_and_preprocess_data_full\u001b[0;34m(self, use_dummy_outcome_data, include_neural_data, include_groups, rearrange_groups, predictor_transform_func)\u001b[0m\n\u001b[1;32m    178\u001b[0m \u001b[39m# do a report on missing data\u001b[39;00m\n\u001b[1;32m    179\u001b[0m predictors_df  \u001b[39m=\u001b[39m raw_predictors\u001b[39m.\u001b[39mloc[:,data_codebook\u001b[39m.\u001b[39mloc[data_codebook\u001b[39m.\u001b[39mAim3PredictorsFinal,\u001b[39m\"\u001b[39m\u001b[39mVarName\u001b[39m\u001b[39m\"\u001b[39m]]\u001b[39m.\u001b[39mcopy()\n\u001b[0;32m--> 181\u001b[0m na_values \u001b[39m=\u001b[39m pd\u001b[39m.\u001b[39mDataFrame(raw_predictors\u001b[39m.\u001b[39misna()\u001b[39m.\u001b[39msum())\n\u001b[1;32m    182\u001b[0m na_values\u001b[39m.\u001b[39mcolumns \u001b[39m=\u001b[39m [\u001b[39m'\u001b[39m\u001b[39mNA_Count\u001b[39m\u001b[39m'\u001b[39m]\n\u001b[1;32m    183\u001b[0m na_values[\u001b[39m'\u001b[39m\u001b[39mprop_NA\u001b[39m\u001b[39m'\u001b[39m] \u001b[39m=\u001b[39m na_values\u001b[39m.\u001b[39mNA_Count \u001b[39m/\u001b[39m raw_predictors\u001b[39m.\u001b[39mshape[\u001b[39m0\u001b[39m]\n",
      "File \u001b[0;32m~/Google Drive/oregon/code/DEV_scripts/analyses/intervention_moderation/DevCvAnalysis.py:181\u001b[0m, in \u001b[0;36mDevCvAnalysis.load_and_preprocess_data_full\u001b[0;34m(self, use_dummy_outcome_data, include_neural_data, include_groups, rearrange_groups, predictor_transform_func)\u001b[0m\n\u001b[1;32m    178\u001b[0m \u001b[39m# do a report on missing data\u001b[39;00m\n\u001b[1;32m    179\u001b[0m predictors_df  \u001b[39m=\u001b[39m raw_predictors\u001b[39m.\u001b[39mloc[:,data_codebook\u001b[39m.\u001b[39mloc[data_codebook\u001b[39m.\u001b[39mAim3PredictorsFinal,\u001b[39m\"\u001b[39m\u001b[39mVarName\u001b[39m\u001b[39m\"\u001b[39m]]\u001b[39m.\u001b[39mcopy()\n\u001b[0;32m--> 181\u001b[0m na_values \u001b[39m=\u001b[39m pd\u001b[39m.\u001b[39mDataFrame(raw_predictors\u001b[39m.\u001b[39misna()\u001b[39m.\u001b[39msum())\n\u001b[1;32m    182\u001b[0m na_values\u001b[39m.\u001b[39mcolumns \u001b[39m=\u001b[39m [\u001b[39m'\u001b[39m\u001b[39mNA_Count\u001b[39m\u001b[39m'\u001b[39m]\n\u001b[1;32m    183\u001b[0m na_values[\u001b[39m'\u001b[39m\u001b[39mprop_NA\u001b[39m\u001b[39m'\u001b[39m] \u001b[39m=\u001b[39m na_values\u001b[39m.\u001b[39mNA_Count \u001b[39m/\u001b[39m raw_predictors\u001b[39m.\u001b[39mshape[\u001b[39m0\u001b[39m]\n",
      "File \u001b[0;32m_pydevd_bundle/pydevd_cython.pyx:1457\u001b[0m, in \u001b[0;36m_pydevd_bundle.pydevd_cython.SafeCallWrapper.__call__\u001b[0;34m()\u001b[0m\n",
      "File \u001b[0;32m_pydevd_bundle/pydevd_cython.pyx:701\u001b[0m, in \u001b[0;36m_pydevd_bundle.pydevd_cython.PyDBFrame.trace_dispatch\u001b[0;34m()\u001b[0m\n",
      "File \u001b[0;32m_pydevd_bundle/pydevd_cython.pyx:1152\u001b[0m, in \u001b[0;36m_pydevd_bundle.pydevd_cython.PyDBFrame.trace_dispatch\u001b[0;34m()\u001b[0m\n",
      "File \u001b[0;32m_pydevd_bundle/pydevd_cython.pyx:1135\u001b[0m, in \u001b[0;36m_pydevd_bundle.pydevd_cython.PyDBFrame.trace_dispatch\u001b[0;34m()\u001b[0m\n",
      "File \u001b[0;32m_pydevd_bundle/pydevd_cython.pyx:312\u001b[0m, in \u001b[0;36m_pydevd_bundle.pydevd_cython.PyDBFrame.do_wait_suspend\u001b[0;34m()\u001b[0m\n",
      "File \u001b[0;32m~/opt/anaconda3/envs/dataanalysis/lib/python3.11/site-packages/debugpy/_vendored/pydevd/pydevd.py:2067\u001b[0m, in \u001b[0;36mPyDB.do_wait_suspend\u001b[0;34m(self, thread, frame, event, arg, exception_type)\u001b[0m\n\u001b[1;32m   2064\u001b[0m             from_this_thread\u001b[39m.\u001b[39mappend(frame_custom_thread_id)\n\u001b[1;32m   2066\u001b[0m     \u001b[39mwith\u001b[39;00m \u001b[39mself\u001b[39m\u001b[39m.\u001b[39m_threads_suspended_single_notification\u001b[39m.\u001b[39mnotify_thread_suspended(thread_id, stop_reason):\n\u001b[0;32m-> 2067\u001b[0m         keep_suspended \u001b[39m=\u001b[39m \u001b[39mself\u001b[39;49m\u001b[39m.\u001b[39;49m_do_wait_suspend(thread, frame, event, arg, suspend_type, from_this_thread, frames_tracker)\n\u001b[1;32m   2069\u001b[0m frames_list \u001b[39m=\u001b[39m \u001b[39mNone\u001b[39;00m\n\u001b[1;32m   2071\u001b[0m \u001b[39mif\u001b[39;00m keep_suspended:\n\u001b[1;32m   2072\u001b[0m     \u001b[39m# This means that we should pause again after a set next statement.\u001b[39;00m\n",
      "File \u001b[0;32m~/opt/anaconda3/envs/dataanalysis/lib/python3.11/site-packages/debugpy/_vendored/pydevd/pydevd.py:2103\u001b[0m, in \u001b[0;36mPyDB._do_wait_suspend\u001b[0;34m(self, thread, frame, event, arg, suspend_type, from_this_thread, frames_tracker)\u001b[0m\n\u001b[1;32m   2100\u001b[0m         \u001b[39mself\u001b[39m\u001b[39m.\u001b[39m_call_input_hook()\n\u001b[1;32m   2102\u001b[0m     \u001b[39mself\u001b[39m\u001b[39m.\u001b[39mprocess_internal_commands()\n\u001b[0;32m-> 2103\u001b[0m     time\u001b[39m.\u001b[39msleep(\u001b[39m0.01\u001b[39m)\n\u001b[1;32m   2105\u001b[0m \u001b[39mself\u001b[39m\u001b[39m.\u001b[39mcancel_async_evaluation(get_current_thread_id(thread), \u001b[39mstr\u001b[39m(\u001b[39mid\u001b[39m(frame)))\n\u001b[1;32m   2107\u001b[0m \u001b[39m# process any stepping instructions\u001b[39;00m\n",
      "\u001b[0;31mKeyboardInterrupt\u001b[0m: "
     ]
    }
   ],
   "source": [
    "%load_ext autoreload\n",
    "%autoreload 2\n",
    "dev_cv_analysis = icvm.get_prepopulated_dev_cv_analysis(set_as_random=False)"
   ]
  },
  {
   "attachments": {},
   "cell_type": "markdown",
   "metadata": {},
   "source": [
    "# Predict change"
   ]
  },
  {
   "attachments": {},
   "cell_type": "markdown",
   "metadata": {},
   "source": [
    "### Set up sets of variables to run"
   ]
  },
  {
   "attachments": {},
   "cell_type": "markdown",
   "metadata": {},
   "source": [
    "First, we set up a function that loops runs the scoring loop above (which does one cross-validation analysis), and the nadditionally:\n",
    "- selects the best model based on the overall results\n",
    "- Runs a final fit\n",
    "- presents model results"
   ]
  },
  {
   "attachments": {},
   "cell_type": "markdown",
   "metadata": {},
   "source": [
    "Now, we include functions that compare models with and without individual differences and interactions."
   ]
  },
  {
   "attachments": {},
   "cell_type": "markdown",
   "metadata": {},
   "source": [
    "Should manually verify that in the following list, the intervention_group allocations are randomized (if we're running a test run) or that they are accurate (if it's not a test run)."
   ]
  },
  {
   "cell_type": "code",
   "execution_count": null,
   "metadata": {},
   "outputs": [
    {
     "data": {
      "text/html": [
       "<div>\n",
       "<style scoped>\n",
       "    .dataframe tbody tr th:only-of-type {\n",
       "        vertical-align: middle;\n",
       "    }\n",
       "\n",
       "    .dataframe tbody tr th {\n",
       "        vertical-align: top;\n",
       "    }\n",
       "\n",
       "    .dataframe thead th {\n",
       "        text-align: right;\n",
       "    }\n",
       "</style>\n",
       "<table border=\"1\" class=\"dataframe\">\n",
       "  <thead>\n",
       "    <tr style=\"text-align: right;\">\n",
       "      <th></th>\n",
       "      <th>SID</th>\n",
       "      <th>intervention_group</th>\n",
       "    </tr>\n",
       "  </thead>\n",
       "  <tbody>\n",
       "    <tr>\n",
       "      <th>0</th>\n",
       "      <td>DEV004</td>\n",
       "      <td>umpqua</td>\n",
       "    </tr>\n",
       "    <tr>\n",
       "      <th>1</th>\n",
       "      <td>DEV005</td>\n",
       "      <td>umpqua</td>\n",
       "    </tr>\n",
       "    <tr>\n",
       "      <th>2</th>\n",
       "      <td>DEV008</td>\n",
       "      <td>umpqua</td>\n",
       "    </tr>\n",
       "    <tr>\n",
       "      <th>3</th>\n",
       "      <td>DEV009</td>\n",
       "      <td>umpqua</td>\n",
       "    </tr>\n",
       "    <tr>\n",
       "      <th>4</th>\n",
       "      <td>DEV010</td>\n",
       "      <td>mckenzie</td>\n",
       "    </tr>\n",
       "    <tr>\n",
       "      <th>...</th>\n",
       "      <td>...</td>\n",
       "      <td>...</td>\n",
       "    </tr>\n",
       "    <tr>\n",
       "      <th>238</th>\n",
       "      <td>DEV308</td>\n",
       "      <td>willamette</td>\n",
       "    </tr>\n",
       "    <tr>\n",
       "      <th>239</th>\n",
       "      <td>DEV309</td>\n",
       "      <td>umpqua</td>\n",
       "    </tr>\n",
       "    <tr>\n",
       "      <th>240</th>\n",
       "      <td>DEV310</td>\n",
       "      <td>mckenzie</td>\n",
       "    </tr>\n",
       "    <tr>\n",
       "      <th>241</th>\n",
       "      <td>DEV311</td>\n",
       "      <td>willamette</td>\n",
       "    </tr>\n",
       "    <tr>\n",
       "      <th>242</th>\n",
       "      <td>DEV312</td>\n",
       "      <td>mckenzie</td>\n",
       "    </tr>\n",
       "  </tbody>\n",
       "</table>\n",
       "<p>243 rows × 2 columns</p>\n",
       "</div>"
      ],
      "text/plain": [
       "        SID intervention_group\n",
       "0    DEV004             umpqua\n",
       "1    DEV005             umpqua\n",
       "2    DEV008             umpqua\n",
       "3    DEV009             umpqua\n",
       "4    DEV010           mckenzie\n",
       "..      ...                ...\n",
       "238  DEV308         willamette\n",
       "239  DEV309             umpqua\n",
       "240  DEV310           mckenzie\n",
       "241  DEV311         willamette\n",
       "242  DEV312           mckenzie\n",
       "\n",
       "[243 rows x 2 columns]"
      ]
     },
     "execution_count": 17,
     "metadata": {},
     "output_type": "execute_result"
    }
   ],
   "source": [
    "pd.concat([\n",
    "    dev_cv_analysis.outcome_measures['SID'],\n",
    "      dev_cv_analysis.group_assignments\n",
    "],axis=1)"
   ]
  },
  {
   "cell_type": "code",
   "execution_count": null,
   "metadata": {},
   "outputs": [
    {
     "data": {
      "text/plain": [
       "Index(['SID', 'bf', 'NUTRIENT_RICH_FOODS_INDEX_2wkAverage',\n",
       "       'ANTINUTRIENT_DENSITY_2wkAverage', 'total_calorie'],\n",
       "      dtype='object')"
      ]
     },
     "execution_count": 18,
     "metadata": {},
     "output_type": "execute_result"
    }
   ],
   "source": [
    "dev_cv_analysis.outcome_measures.columns"
   ]
  },
  {
   "cell_type": "code",
   "execution_count": null,
   "metadata": {},
   "outputs": [],
   "source": [
    "condition_cols = dev_cv_analysis.group_assignment_onehots.columns.tolist()\n",
    "inddiff_cols = dev_cv_analysis.get_predictors_main_names()\n",
    "\n",
    "interaction_cols = [id + \"*\" + cond for id in inddiff_cols for cond in condition_cols]\n",
    "\n",
    "predictor_sets = {\n",
    "    'condition_only': condition_cols,\n",
    "    'condition_inddiff': condition_cols + inddiff_cols,\n",
    "    'condition_inddiff_interactions': condition_cols + inddiff_cols + interaction_cols\n",
    "}\n",
    "\n",
    "\n",
    "outcome_vars_to_try = [ 'NUTRIENT_RICH_FOODS_INDEX_2wkAverage']"
   ]
  },
  {
   "cell_type": "code",
   "execution_count": null,
   "metadata": {},
   "outputs": [
    {
     "name": "stdout",
     "output_type": "stream",
     "text": [
      "EDM, BIS_11, PCS, ACES_sum, BFI_agreeableness, BFI_conscientiousness, BFI_extraversion, BFI_neuroticism, BFI_openness, NCS_total, TESQ_E_sum, SRHI_healthy_minus_unhealthy, RTFS_f1_minus_f2, cancer_promoting_minus_preventing_FCI, age365, education_own, household_income_per_person, SST_PostErrorSlowW1_mean, SST_mean_ssrt_0, ROC_Crave_Regulate_Minus_Look, ROC_Crave_Minus_Neutral, WTP_unhealthy_minus_healthy, wtp_liked_value_association-test_z_FDR_0.01, roc_reappraiseCrave_reappraisal_association-test_z_FDR_0.01, roc_reappraiseCrave_multivariate_regulation, sst_CorrectGo_striatum_joint_mask, sst_FailedStop_motor_control_striatum_joint_mask, sst_CorrectGoFollowingFailedStop_striatum_joint_mask, Planning_aggregate, Restraint_aggregate, IMI_effort_importance_aggregate, wtp_roc_koban_kober_craving_combined, birthsex_factor_Male, umpqua, mckenzie, EDM*umpqua, BIS_11*umpqua, PCS*umpqua, ACES_sum*umpqua, BFI_agreeableness*umpqua, BFI_conscientiousness*umpqua, BFI_extraversion*umpqua, BFI_neuroticism*umpqua, BFI_openness*umpqua, NCS_total*umpqua, TESQ_E_sum*umpqua, SRHI_healthy_minus_unhealthy*umpqua, RTFS_f1_minus_f2*umpqua, cancer_promoting_minus_preventing_FCI*umpqua, age365*umpqua, education_own*umpqua, household_income_per_person*umpqua, SST_PostErrorSlowW1_mean*umpqua, SST_mean_ssrt_0*umpqua, ROC_Crave_Regulate_Minus_Look*umpqua, ROC_Crave_Minus_Neutral*umpqua, WTP_unhealthy_minus_healthy*umpqua, wtp_liked_value_association-test_z_FDR_0.01*umpqua, roc_reappraiseCrave_reappraisal_association-test_z_FDR_0.01*umpqua, roc_reappraiseCrave_multivariate_regulation*umpqua, sst_CorrectGo_striatum_joint_mask*umpqua, sst_FailedStop_motor_control_striatum_joint_mask*umpqua, sst_CorrectGoFollowingFailedStop_striatum_joint_mask*umpqua, Planning_aggregate*umpqua, Restraint_aggregate*umpqua, IMI_effort_importance_aggregate*umpqua, wtp_roc_koban_kober_craving_combined*umpqua, birthsex_factor_Male*umpqua, EDM*mckenzie, BIS_11*mckenzie, PCS*mckenzie, ACES_sum*mckenzie, BFI_agreeableness*mckenzie, BFI_conscientiousness*mckenzie, BFI_extraversion*mckenzie, BFI_neuroticism*mckenzie, BFI_openness*mckenzie, NCS_total*mckenzie, TESQ_E_sum*mckenzie, SRHI_healthy_minus_unhealthy*mckenzie, RTFS_f1_minus_f2*mckenzie, cancer_promoting_minus_preventing_FCI*mckenzie, age365*mckenzie, education_own*mckenzie, household_income_per_person*mckenzie, SST_PostErrorSlowW1_mean*mckenzie, SST_mean_ssrt_0*mckenzie, ROC_Crave_Regulate_Minus_Look*mckenzie, ROC_Crave_Minus_Neutral*mckenzie, WTP_unhealthy_minus_healthy*mckenzie, wtp_liked_value_association-test_z_FDR_0.01*mckenzie, roc_reappraiseCrave_reappraisal_association-test_z_FDR_0.01*mckenzie, roc_reappraiseCrave_multivariate_regulation*mckenzie, sst_CorrectGo_striatum_joint_mask*mckenzie, sst_FailedStop_motor_control_striatum_joint_mask*mckenzie, sst_CorrectGoFollowingFailedStop_striatum_joint_mask*mckenzie, Planning_aggregate*mckenzie, Restraint_aggregate*mckenzie, IMI_effort_importance_aggregate*mckenzie, wtp_roc_koban_kober_craving_combined*mckenzie, birthsex_factor_Male*mckenzie\n"
     ]
    }
   ],
   "source": [
    "print(\", \".join(dev_cv_analysis.get_predictor_data().columns))"
   ]
  },
  {
   "cell_type": "code",
   "execution_count": null,
   "metadata": {},
   "outputs": [
    {
     "name": "stdout",
     "output_type": "stream",
     "text": [
      "SID, bf, NUTRIENT_RICH_FOODS_INDEX_2wkAverage, ANTINUTRIENT_DENSITY_2wkAverage, total_calorie\n"
     ]
    }
   ],
   "source": [
    "print(\", \".join(dev_cv_analysis.outcome_measures.columns))"
   ]
  },
  {
   "cell_type": "markdown",
   "metadata": {},
   "source": [
    "## Nutrient density"
   ]
  },
  {
   "cell_type": "code",
   "execution_count": null,
   "metadata": {},
   "outputs": [
    {
     "data": {
      "text/markdown": [
       "## condition_only"
      ],
      "text/plain": [
       "<IPython.core.display.Markdown object>"
      ]
     },
     "metadata": {},
     "output_type": "display_data"
    },
    {
     "name": "stdout",
     "output_type": "stream",
     "text": [
      "loading raw data\n"
     ]
    },
    {
     "name": "stderr",
     "output_type": "stream",
     "text": [
      "/Users/benjaminsmith/Google Drive/oregon/code/DEV_scripts/analyses/intervention_moderation/dev_interaction_util.py:998: FutureWarning: The default value of regex will change from True to False in a future version.\n",
      "  ms_groups['intervention_group'] = ms_groups['group_raw'].str.replace(r\"\\(.*\\)\",\"\")\n"
     ]
    },
    {
     "name": "stdout",
     "output_type": "stream",
     "text": [
      "WARNING: merging group codes with data_by_ppt resulted in a different number of participants\n",
      "pre merge: 275\n",
      "post merge: 270\n",
      "participants in pre merge but not post merge: {'DEV280', 'DEV022', 'DEV007', 'DEV002', 'DEV032'}\n",
      "Index(['Unnamed: 0', 'subject_id', 'wave', 'spm_l2_path', 'condition',\n",
      "       'beta_name', 'mask_label', 'roi_activity', 'run', 'task'],\n",
      "      dtype='object')\n",
      "Index(['Unnamed: 0', 'subject_id', 'wave', 'spm_l2_path', 'condition',\n",
      "       'beta_name', 'mask_label', 'roi_activity', 'run', 'task'],\n",
      "      dtype='object')\n",
      "Index(['Unnamed: 0', 'subject_id', 'wave', 'spm_l2_path', 'condition',\n",
      "       'beta_name', 'mask_label', 'roi_activity', 'task', 'run'],\n",
      "      dtype='object')\n",
      "run_real_analysis is True, so we're not randomizing the outcomes. \n",
      "(243, 33)\n",
      "(243, 33)\n",
      " attempting to predict NUTRIENT_RICH_FOODS_INDEX_2wkAverage with 2 predictors in the set condition_only\n",
      "predictors in that set are umpqua mckenzie\n",
      "outer split0\n",
      "Pipeline(steps=[('scaler', StandardScaler()), ('estimator', Ridge())])\n",
      "{'estimator__alpha': [0.2, 0.99]}\n",
      "Fitting 4 folds for each of 2 candidates, totalling 8 fits\n",
      "Pipeline(steps=[('scaler', StandardScaler()),\n",
      "                ('feature_selection', SelectKBest()), ('estimator', Ridge())])\n",
      "{'feature_selection__score_func': [<function f_regression at 0x17da71a80>], 'feature_selection__k': [2], 'estimator__alpha': [0.2, 0.99]}\n",
      "Fitting 4 folds for each of 2 candidates, totalling 8 fits\n",
      "Time elapsed for Ridge: 0.05 seconds\n",
      "Pipeline(steps=[('scaler', StandardScaler()), ('estimator', Lasso())])\n",
      "{'estimator__alpha': [0.2, 0.99]}\n",
      "Fitting 4 folds for each of 2 candidates, totalling 8 fits\n",
      "Pipeline(steps=[('scaler', StandardScaler()),\n",
      "                ('feature_selection', SelectKBest()), ('estimator', Lasso())])\n",
      "{'feature_selection__score_func': [<function f_regression at 0x17da71a80>], 'feature_selection__k': [2], 'estimator__alpha': [0.2, 0.99]}\n",
      "Fitting 4 folds for each of 2 candidates, totalling 8 fits\n",
      "Time elapsed for Lasso: 0.07 seconds\n",
      "Pipeline(steps=[('scaler', StandardScaler()), ('estimator', SVR())])\n",
      "{'estimator__kernel': ['linear'], 'estimator__C': [0.02, 1, 20]}\n",
      "Fitting 4 folds for each of 3 candidates, totalling 12 fits\n",
      "Pipeline(steps=[('scaler', StandardScaler()),\n",
      "                ('feature_selection', SelectKBest()), ('estimator', SVR())])\n",
      "{'feature_selection__score_func': [<function f_regression at 0x17da71a80>], 'feature_selection__k': [2], 'estimator__kernel': ['linear'], 'estimator__C': [0.02, 1, 20]}\n",
      "Fitting 4 folds for each of 3 candidates, totalling 12 fits\n",
      "Time elapsed for LinearSVR: 0.13 seconds\n",
      "Pipeline(steps=[('scaler', StandardScaler()), ('estimator', SVR())])\n",
      "{'estimator__kernel': ['poly'], 'estimator__C': [0.02, 1, 20], 'estimator__degree': [2, 3], 'estimator__coef0': [0.1, 0.333, 1]}\n",
      "Fitting 4 folds for each of 18 candidates, totalling 72 fits\n",
      "Pipeline(steps=[('scaler', StandardScaler()),\n",
      "                ('feature_selection', SelectKBest()), ('estimator', SVR())])\n",
      "{'feature_selection__score_func': [<function f_regression at 0x17da71a80>], 'feature_selection__k': [2], 'estimator__kernel': ['poly'], 'estimator__C': [0.02, 1, 20], 'estimator__degree': [2, 3], 'estimator__coef0': [0.1, 0.333, 1]}\n",
      "Fitting 4 folds for each of 18 candidates, totalling 72 fits\n",
      "Time elapsed for PolySVR: 0.71 seconds\n",
      "Pipeline(steps=[('scaler', StandardScaler()), ('estimator', SVR())])\n",
      "{'estimator__kernel': ['rbf'], 'estimator__C': [0.02, 1, 20], 'estimator__gamma': [0.02, 1], 'estimator__epsilon': [0.05, 0.5]}\n",
      "Fitting 4 folds for each of 12 candidates, totalling 48 fits\n",
      "Pipeline(steps=[('scaler', StandardScaler()),\n",
      "                ('feature_selection', SelectKBest()), ('estimator', SVR())])\n",
      "{'feature_selection__score_func': [<function f_regression at 0x17da71a80>], 'feature_selection__k': [2], 'estimator__kernel': ['rbf'], 'estimator__C': [0.02, 1, 20], 'estimator__gamma': [0.02, 1], 'estimator__epsilon': [0.05, 0.5]}\n",
      "Fitting 4 folds for each of 12 candidates, totalling 48 fits\n",
      "Time elapsed for RBFSVR: 0.62 seconds\n",
      "outer split1\n",
      "Pipeline(steps=[('scaler', StandardScaler()), ('estimator', Ridge())])\n",
      "{'estimator__alpha': [0.2, 0.99]}\n",
      "Fitting 4 folds for each of 2 candidates, totalling 8 fits\n",
      "Pipeline(steps=[('scaler', StandardScaler()),\n",
      "                ('feature_selection', SelectKBest()), ('estimator', Ridge())])\n",
      "{'feature_selection__score_func': [<function f_regression at 0x17da71a80>], 'feature_selection__k': [2], 'estimator__alpha': [0.2, 0.99]}\n",
      "Fitting 4 folds for each of 2 candidates, totalling 8 fits\n",
      "Time elapsed for Ridge: 0.10 seconds\n",
      "Pipeline(steps=[('scaler', StandardScaler()), ('estimator', Lasso())])\n",
      "{'estimator__alpha': [0.2, 0.99]}\n",
      "Fitting 4 folds for each of 2 candidates, totalling 8 fits\n",
      "Pipeline(steps=[('scaler', StandardScaler()),\n",
      "                ('feature_selection', SelectKBest()), ('estimator', Lasso())])\n",
      "{'feature_selection__score_func': [<function f_regression at 0x17da71a80>], 'feature_selection__k': [2], 'estimator__alpha': [0.2, 0.99]}\n",
      "Fitting 4 folds for each of 2 candidates, totalling 8 fits\n",
      "Time elapsed for Lasso: 0.10 seconds\n",
      "Pipeline(steps=[('scaler', StandardScaler()), ('estimator', SVR())])\n",
      "{'estimator__kernel': ['linear'], 'estimator__C': [0.02, 1, 20]}\n",
      "Fitting 4 folds for each of 3 candidates, totalling 12 fits\n",
      "Pipeline(steps=[('scaler', StandardScaler()),\n",
      "                ('feature_selection', SelectKBest()), ('estimator', SVR())])\n",
      "{'feature_selection__score_func': [<function f_regression at 0x17da71a80>], 'feature_selection__k': [2], 'estimator__kernel': ['linear'], 'estimator__C': [0.02, 1, 20]}\n",
      "Fitting 4 folds for each of 3 candidates, totalling 12 fits\n",
      "Time elapsed for LinearSVR: 0.20 seconds\n",
      "Pipeline(steps=[('scaler', StandardScaler()), ('estimator', SVR())])\n",
      "{'estimator__kernel': ['poly'], 'estimator__C': [0.02, 1, 20], 'estimator__degree': [2, 3], 'estimator__coef0': [0.1, 0.333, 1]}\n",
      "Fitting 4 folds for each of 18 candidates, totalling 72 fits\n",
      "Pipeline(steps=[('scaler', StandardScaler()),\n",
      "                ('feature_selection', SelectKBest()), ('estimator', SVR())])\n",
      "{'feature_selection__score_func': [<function f_regression at 0x17da71a80>], 'feature_selection__k': [2], 'estimator__kernel': ['poly'], 'estimator__C': [0.02, 1, 20], 'estimator__degree': [2, 3], 'estimator__coef0': [0.1, 0.333, 1]}\n",
      "Fitting 4 folds for each of 18 candidates, totalling 72 fits\n",
      "Time elapsed for PolySVR: 1.75 seconds\n",
      "Pipeline(steps=[('scaler', StandardScaler()), ('estimator', SVR())])\n",
      "{'estimator__kernel': ['rbf'], 'estimator__C': [0.02, 1, 20], 'estimator__gamma': [0.02, 1], 'estimator__epsilon': [0.05, 0.5]}\n",
      "Fitting 4 folds for each of 12 candidates, totalling 48 fits\n",
      "Pipeline(steps=[('scaler', StandardScaler()),\n",
      "                ('feature_selection', SelectKBest()), ('estimator', SVR())])\n",
      "{'feature_selection__score_func': [<function f_regression at 0x17da71a80>], 'feature_selection__k': [2], 'estimator__kernel': ['rbf'], 'estimator__C': [0.02, 1, 20], 'estimator__gamma': [0.02, 1], 'estimator__epsilon': [0.05, 0.5]}\n",
      "Fitting 4 folds for each of 12 candidates, totalling 48 fits\n",
      "Time elapsed for RBFSVR: 1.46 seconds\n",
      "outer split2\n",
      "Pipeline(steps=[('scaler', StandardScaler()), ('estimator', Ridge())])\n",
      "{'estimator__alpha': [0.2, 0.99]}\n",
      "Fitting 4 folds for each of 2 candidates, totalling 8 fits\n",
      "Pipeline(steps=[('scaler', StandardScaler()),\n",
      "                ('feature_selection', SelectKBest()), ('estimator', Ridge())])\n",
      "{'feature_selection__score_func': [<function f_regression at 0x17da71a80>], 'feature_selection__k': [2], 'estimator__alpha': [0.2, 0.99]}\n",
      "Fitting 4 folds for each of 2 candidates, totalling 8 fits\n",
      "Time elapsed for Ridge: 0.09 seconds\n",
      "Pipeline(steps=[('scaler', StandardScaler()), ('estimator', Lasso())])\n",
      "{'estimator__alpha': [0.2, 0.99]}\n",
      "Fitting 4 folds for each of 2 candidates, totalling 8 fits\n",
      "Pipeline(steps=[('scaler', StandardScaler()),\n",
      "                ('feature_selection', SelectKBest()), ('estimator', Lasso())])\n",
      "{'feature_selection__score_func': [<function f_regression at 0x17da71a80>], 'feature_selection__k': [2], 'estimator__alpha': [0.2, 0.99]}\n",
      "Fitting 4 folds for each of 2 candidates, totalling 8 fits\n",
      "Time elapsed for Lasso: 0.08 seconds\n",
      "Pipeline(steps=[('scaler', StandardScaler()), ('estimator', SVR())])\n",
      "{'estimator__kernel': ['linear'], 'estimator__C': [0.02, 1, 20]}\n",
      "Fitting 4 folds for each of 3 candidates, totalling 12 fits\n",
      "Pipeline(steps=[('scaler', StandardScaler()),\n",
      "                ('feature_selection', SelectKBest()), ('estimator', SVR())])\n",
      "{'feature_selection__score_func': [<function f_regression at 0x17da71a80>], 'feature_selection__k': [2], 'estimator__kernel': ['linear'], 'estimator__C': [0.02, 1, 20]}\n",
      "Fitting 4 folds for each of 3 candidates, totalling 12 fits\n",
      "Time elapsed for LinearSVR: 0.14 seconds\n",
      "Pipeline(steps=[('scaler', StandardScaler()), ('estimator', SVR())])\n",
      "{'estimator__kernel': ['poly'], 'estimator__C': [0.02, 1, 20], 'estimator__degree': [2, 3], 'estimator__coef0': [0.1, 0.333, 1]}\n",
      "Fitting 4 folds for each of 18 candidates, totalling 72 fits\n",
      "Pipeline(steps=[('scaler', StandardScaler()),\n",
      "                ('feature_selection', SelectKBest()), ('estimator', SVR())])\n",
      "{'feature_selection__score_func': [<function f_regression at 0x17da71a80>], 'feature_selection__k': [2], 'estimator__kernel': ['poly'], 'estimator__C': [0.02, 1, 20], 'estimator__degree': [2, 3], 'estimator__coef0': [0.1, 0.333, 1]}\n",
      "Fitting 4 folds for each of 18 candidates, totalling 72 fits\n",
      "Time elapsed for PolySVR: 0.73 seconds\n",
      "Pipeline(steps=[('scaler', StandardScaler()), ('estimator', SVR())])\n",
      "{'estimator__kernel': ['rbf'], 'estimator__C': [0.02, 1, 20], 'estimator__gamma': [0.02, 1], 'estimator__epsilon': [0.05, 0.5]}\n",
      "Fitting 4 folds for each of 12 candidates, totalling 48 fits\n",
      "Pipeline(steps=[('scaler', StandardScaler()),\n",
      "                ('feature_selection', SelectKBest()), ('estimator', SVR())])\n",
      "{'feature_selection__score_func': [<function f_regression at 0x17da71a80>], 'feature_selection__k': [2], 'estimator__kernel': ['rbf'], 'estimator__C': [0.02, 1, 20], 'estimator__gamma': [0.02, 1], 'estimator__epsilon': [0.05, 0.5]}\n",
      "Fitting 4 folds for each of 12 candidates, totalling 48 fits\n",
      "Time elapsed for RBFSVR: 0.57 seconds\n",
      "outer split3\n",
      "Pipeline(steps=[('scaler', StandardScaler()), ('estimator', Ridge())])\n",
      "{'estimator__alpha': [0.2, 0.99]}\n",
      "Fitting 4 folds for each of 2 candidates, totalling 8 fits\n",
      "Pipeline(steps=[('scaler', StandardScaler()),\n",
      "                ('feature_selection', SelectKBest()), ('estimator', Ridge())])\n",
      "{'feature_selection__score_func': [<function f_regression at 0x17da71a80>], 'feature_selection__k': [2], 'estimator__alpha': [0.2, 0.99]}\n",
      "Fitting 4 folds for each of 2 candidates, totalling 8 fits\n",
      "Time elapsed for Ridge: 0.07 seconds\n",
      "Pipeline(steps=[('scaler', StandardScaler()), ('estimator', Lasso())])\n",
      "{'estimator__alpha': [0.2, 0.99]}\n",
      "Fitting 4 folds for each of 2 candidates, totalling 8 fits\n",
      "Pipeline(steps=[('scaler', StandardScaler()),\n",
      "                ('feature_selection', SelectKBest()), ('estimator', Lasso())])\n",
      "{'feature_selection__score_func': [<function f_regression at 0x17da71a80>], 'feature_selection__k': [2], 'estimator__alpha': [0.2, 0.99]}\n",
      "Fitting 4 folds for each of 2 candidates, totalling 8 fits\n",
      "Time elapsed for Lasso: 0.07 seconds\n",
      "Pipeline(steps=[('scaler', StandardScaler()), ('estimator', SVR())])\n",
      "{'estimator__kernel': ['linear'], 'estimator__C': [0.02, 1, 20]}\n",
      "Fitting 4 folds for each of 3 candidates, totalling 12 fits\n",
      "Pipeline(steps=[('scaler', StandardScaler()),\n",
      "                ('feature_selection', SelectKBest()), ('estimator', SVR())])\n",
      "{'feature_selection__score_func': [<function f_regression at 0x17da71a80>], 'feature_selection__k': [2], 'estimator__kernel': ['linear'], 'estimator__C': [0.02, 1, 20]}\n",
      "Fitting 4 folds for each of 3 candidates, totalling 12 fits\n",
      "Time elapsed for LinearSVR: 0.22 seconds\n",
      "Pipeline(steps=[('scaler', StandardScaler()), ('estimator', SVR())])\n",
      "{'estimator__kernel': ['poly'], 'estimator__C': [0.02, 1, 20], 'estimator__degree': [2, 3], 'estimator__coef0': [0.1, 0.333, 1]}\n",
      "Fitting 4 folds for each of 18 candidates, totalling 72 fits\n",
      "Pipeline(steps=[('scaler', StandardScaler()),\n",
      "                ('feature_selection', SelectKBest()), ('estimator', SVR())])\n",
      "{'feature_selection__score_func': [<function f_regression at 0x17da71a80>], 'feature_selection__k': [2], 'estimator__kernel': ['poly'], 'estimator__C': [0.02, 1, 20], 'estimator__degree': [2, 3], 'estimator__coef0': [0.1, 0.333, 1]}\n",
      "Fitting 4 folds for each of 18 candidates, totalling 72 fits\n",
      "Time elapsed for PolySVR: 1.23 seconds\n",
      "Pipeline(steps=[('scaler', StandardScaler()), ('estimator', SVR())])\n",
      "{'estimator__kernel': ['rbf'], 'estimator__C': [0.02, 1, 20], 'estimator__gamma': [0.02, 1], 'estimator__epsilon': [0.05, 0.5]}\n",
      "Fitting 4 folds for each of 12 candidates, totalling 48 fits\n",
      "Pipeline(steps=[('scaler', StandardScaler()),\n",
      "                ('feature_selection', SelectKBest()), ('estimator', SVR())])\n",
      "{'feature_selection__score_func': [<function f_regression at 0x17da71a80>], 'feature_selection__k': [2], 'estimator__kernel': ['rbf'], 'estimator__C': [0.02, 1, 20], 'estimator__gamma': [0.02, 1], 'estimator__epsilon': [0.05, 0.5]}\n",
      "Fitting 4 folds for each of 12 candidates, totalling 48 fits\n",
      "Time elapsed for RBFSVR: 0.99 seconds\n",
      "outer split4\n",
      "Pipeline(steps=[('scaler', StandardScaler()), ('estimator', Ridge())])\n",
      "{'estimator__alpha': [0.2, 0.99]}\n",
      "Fitting 4 folds for each of 2 candidates, totalling 8 fits\n",
      "Pipeline(steps=[('scaler', StandardScaler()),\n",
      "                ('feature_selection', SelectKBest()), ('estimator', Ridge())])\n",
      "{'feature_selection__score_func': [<function f_regression at 0x17da71a80>], 'feature_selection__k': [2], 'estimator__alpha': [0.2, 0.99]}\n",
      "Fitting 4 folds for each of 2 candidates, totalling 8 fits\n",
      "Time elapsed for Ridge: 0.13 seconds\n",
      "Pipeline(steps=[('scaler', StandardScaler()), ('estimator', Lasso())])\n",
      "{'estimator__alpha': [0.2, 0.99]}\n",
      "Fitting 4 folds for each of 2 candidates, totalling 8 fits\n",
      "Pipeline(steps=[('scaler', StandardScaler()),\n",
      "                ('feature_selection', SelectKBest()), ('estimator', Lasso())])\n",
      "{'feature_selection__score_func': [<function f_regression at 0x17da71a80>], 'feature_selection__k': [2], 'estimator__alpha': [0.2, 0.99]}\n",
      "Fitting 4 folds for each of 2 candidates, totalling 8 fits\n",
      "Time elapsed for Lasso: 0.12 seconds\n",
      "Pipeline(steps=[('scaler', StandardScaler()), ('estimator', SVR())])\n",
      "{'estimator__kernel': ['linear'], 'estimator__C': [0.02, 1, 20]}\n",
      "Fitting 4 folds for each of 3 candidates, totalling 12 fits\n",
      "Pipeline(steps=[('scaler', StandardScaler()),\n",
      "                ('feature_selection', SelectKBest()), ('estimator', SVR())])\n",
      "{'feature_selection__score_func': [<function f_regression at 0x17da71a80>], 'feature_selection__k': [2], 'estimator__kernel': ['linear'], 'estimator__C': [0.02, 1, 20]}\n",
      "Fitting 4 folds for each of 3 candidates, totalling 12 fits\n",
      "Time elapsed for LinearSVR: 0.18 seconds\n",
      "Pipeline(steps=[('scaler', StandardScaler()), ('estimator', SVR())])\n",
      "{'estimator__kernel': ['poly'], 'estimator__C': [0.02, 1, 20], 'estimator__degree': [2, 3], 'estimator__coef0': [0.1, 0.333, 1]}\n",
      "Fitting 4 folds for each of 18 candidates, totalling 72 fits\n",
      "Pipeline(steps=[('scaler', StandardScaler()),\n",
      "                ('feature_selection', SelectKBest()), ('estimator', SVR())])\n",
      "{'feature_selection__score_func': [<function f_regression at 0x17da71a80>], 'feature_selection__k': [2], 'estimator__kernel': ['poly'], 'estimator__C': [0.02, 1, 20], 'estimator__degree': [2, 3], 'estimator__coef0': [0.1, 0.333, 1]}\n",
      "Fitting 4 folds for each of 18 candidates, totalling 72 fits\n",
      "Time elapsed for PolySVR: 0.85 seconds\n",
      "Pipeline(steps=[('scaler', StandardScaler()), ('estimator', SVR())])\n",
      "{'estimator__kernel': ['rbf'], 'estimator__C': [0.02, 1, 20], 'estimator__gamma': [0.02, 1], 'estimator__epsilon': [0.05, 0.5]}\n",
      "Fitting 4 folds for each of 12 candidates, totalling 48 fits\n",
      "Pipeline(steps=[('scaler', StandardScaler()),\n",
      "                ('feature_selection', SelectKBest()), ('estimator', SVR())])\n",
      "{'feature_selection__score_func': [<function f_regression at 0x17da71a80>], 'feature_selection__k': [2], 'estimator__kernel': ['rbf'], 'estimator__C': [0.02, 1, 20], 'estimator__gamma': [0.02, 1], 'estimator__epsilon': [0.05, 0.5]}\n",
      "Fitting 4 folds for each of 12 candidates, totalling 48 fits\n",
      "Time elapsed for RBFSVR: 0.74 seconds\n",
      "scores:\n",
      "[0.06197247541590489, 0.0442508453875079, -0.06782816246411882, -0.0017427577356108337, 0.032773797721075915]\n",
      "overall_score:\n",
      "0.01388523966495181\n"
     ]
    },
    {
     "data": {
      "text/html": [
       "<table border=\"1\" class=\"dataframe\">\n",
       "  <thead>\n",
       "    <tr>\n",
       "      <th></th>\n",
       "      <th></th>\n",
       "      <th colspan=\"2\" halign=\"left\">mean_test_score</th>\n",
       "      <th colspan=\"2\" halign=\"left\">std_test_score</th>\n",
       "    </tr>\n",
       "    <tr>\n",
       "      <th></th>\n",
       "      <th></th>\n",
       "      <th>mean</th>\n",
       "      <th>std</th>\n",
       "      <th>mean</th>\n",
       "      <th>std</th>\n",
       "    </tr>\n",
       "    <tr>\n",
       "      <th>model_description</th>\n",
       "      <th>params_str</th>\n",
       "      <th></th>\n",
       "      <th></th>\n",
       "      <th></th>\n",
       "      <th></th>\n",
       "    </tr>\n",
       "  </thead>\n",
       "  <tbody>\n",
       "    <tr>\n",
       "      <th>dict_values([StandardScaler(), SelectKBest(), SVR()])</th>\n",
       "      <th>{'estimator__C': 1, 'estimator__coef0': 0.333, 'estimator__degree': 2, 'estimator__kernel': 'poly', 'feature_selection__k': 2, 'feature_selection__score_func': &lt;function f_regression at 0x17da71a80&gt;}</th>\n",
       "      <td>-0.001753</td>\n",
       "      <td>0.032938</td>\n",
       "      <td>0.049463</td>\n",
       "      <td>0.017393</td>\n",
       "    </tr>\n",
       "    <tr>\n",
       "      <th>dict_values([StandardScaler(), SVR()])</th>\n",
       "      <th>{'estimator__C': 1, 'estimator__coef0': 0.333, 'estimator__degree': 2, 'estimator__kernel': 'poly'}</th>\n",
       "      <td>-0.001753</td>\n",
       "      <td>0.032938</td>\n",
       "      <td>0.049463</td>\n",
       "      <td>0.017393</td>\n",
       "    </tr>\n",
       "    <tr>\n",
       "      <th>dict_values([StandardScaler(), SelectKBest(), SVR()])</th>\n",
       "      <th>{'estimator__C': 1, 'estimator__coef0': 0.1, 'estimator__degree': 3, 'estimator__kernel': 'poly', 'feature_selection__k': 2, 'feature_selection__score_func': &lt;function f_regression at 0x17da71a80&gt;}</th>\n",
       "      <td>-0.001820</td>\n",
       "      <td>0.034409</td>\n",
       "      <td>0.050127</td>\n",
       "      <td>0.017899</td>\n",
       "    </tr>\n",
       "    <tr>\n",
       "      <th rowspan=\"2\" valign=\"top\">dict_values([StandardScaler(), SVR()])</th>\n",
       "      <th>{'estimator__C': 1, 'estimator__coef0': 0.1, 'estimator__degree': 3, 'estimator__kernel': 'poly'}</th>\n",
       "      <td>-0.001820</td>\n",
       "      <td>0.034409</td>\n",
       "      <td>0.050127</td>\n",
       "      <td>0.017899</td>\n",
       "    </tr>\n",
       "    <tr>\n",
       "      <th>{'estimator__C': 20, 'estimator__epsilon': 0.5, 'estimator__gamma': 0.02, 'estimator__kernel': 'rbf'}</th>\n",
       "      <td>-0.002859</td>\n",
       "      <td>0.033763</td>\n",
       "      <td>0.051284</td>\n",
       "      <td>0.019102</td>\n",
       "    </tr>\n",
       "    <tr>\n",
       "      <th>dict_values([StandardScaler(), SelectKBest(), SVR()])</th>\n",
       "      <th>{'estimator__C': 20, 'estimator__epsilon': 0.5, 'estimator__gamma': 0.02, 'estimator__kernel': 'rbf', 'feature_selection__k': 2, 'feature_selection__score_func': &lt;function f_regression at 0x17da71a80&gt;}</th>\n",
       "      <td>-0.002859</td>\n",
       "      <td>0.033763</td>\n",
       "      <td>0.051284</td>\n",
       "      <td>0.019102</td>\n",
       "    </tr>\n",
       "    <tr>\n",
       "      <th>dict_values([StandardScaler(), SVR()])</th>\n",
       "      <th>{'estimator__C': 1, 'estimator__coef0': 0.333, 'estimator__degree': 3, 'estimator__kernel': 'poly'}</th>\n",
       "      <td>-0.003176</td>\n",
       "      <td>0.034449</td>\n",
       "      <td>0.051186</td>\n",
       "      <td>0.018761</td>\n",
       "    </tr>\n",
       "    <tr>\n",
       "      <th>dict_values([StandardScaler(), SelectKBest(), SVR()])</th>\n",
       "      <th>{'estimator__C': 1, 'estimator__coef0': 0.333, 'estimator__degree': 3, 'estimator__kernel': 'poly', 'feature_selection__k': 2, 'feature_selection__score_func': &lt;function f_regression at 0x17da71a80&gt;}</th>\n",
       "      <td>-0.003176</td>\n",
       "      <td>0.034449</td>\n",
       "      <td>0.051186</td>\n",
       "      <td>0.018761</td>\n",
       "    </tr>\n",
       "    <tr>\n",
       "      <th>dict_values([StandardScaler(), SVR()])</th>\n",
       "      <th>{'estimator__C': 20, 'estimator__epsilon': 0.05, 'estimator__gamma': 0.02, 'estimator__kernel': 'rbf'}</th>\n",
       "      <td>-0.003201</td>\n",
       "      <td>0.033619</td>\n",
       "      <td>0.050296</td>\n",
       "      <td>0.018665</td>\n",
       "    </tr>\n",
       "    <tr>\n",
       "      <th>dict_values([StandardScaler(), SelectKBest(), SVR()])</th>\n",
       "      <th>{'estimator__C': 20, 'estimator__epsilon': 0.05, 'estimator__gamma': 0.02, 'estimator__kernel': 'rbf', 'feature_selection__k': 2, 'feature_selection__score_func': &lt;function f_regression at 0x17da71a80&gt;}</th>\n",
       "      <td>-0.003201</td>\n",
       "      <td>0.033619</td>\n",
       "      <td>0.050296</td>\n",
       "      <td>0.018665</td>\n",
       "    </tr>\n",
       "    <tr>\n",
       "      <th>dict_values([StandardScaler(), SVR()])</th>\n",
       "      <th>{'estimator__C': 1, 'estimator__kernel': 'linear'}</th>\n",
       "      <td>-0.003329</td>\n",
       "      <td>0.034384</td>\n",
       "      <td>0.051799</td>\n",
       "      <td>0.018786</td>\n",
       "    </tr>\n",
       "    <tr>\n",
       "      <th>dict_values([StandardScaler(), SelectKBest(), SVR()])</th>\n",
       "      <th>{'estimator__C': 1, 'estimator__kernel': 'linear', 'feature_selection__k': 2, 'feature_selection__score_func': &lt;function f_regression at 0x17da71a80&gt;}</th>\n",
       "      <td>-0.003329</td>\n",
       "      <td>0.034384</td>\n",
       "      <td>0.051799</td>\n",
       "      <td>0.018786</td>\n",
       "    </tr>\n",
       "    <tr>\n",
       "      <th>dict_values([StandardScaler(), SVR()])</th>\n",
       "      <th>{'estimator__C': 1, 'estimator__coef0': 1, 'estimator__degree': 2, 'estimator__kernel': 'poly'}</th>\n",
       "      <td>-0.003899</td>\n",
       "      <td>0.035288</td>\n",
       "      <td>0.052203</td>\n",
       "      <td>0.019059</td>\n",
       "    </tr>\n",
       "    <tr>\n",
       "      <th>dict_values([StandardScaler(), SelectKBest(), SVR()])</th>\n",
       "      <th>{'estimator__C': 1, 'estimator__coef0': 1, 'estimator__degree': 2, 'estimator__kernel': 'poly', 'feature_selection__k': 2, 'feature_selection__score_func': &lt;function f_regression at 0x17da71a80&gt;}</th>\n",
       "      <td>-0.003899</td>\n",
       "      <td>0.035288</td>\n",
       "      <td>0.052203</td>\n",
       "      <td>0.019059</td>\n",
       "    </tr>\n",
       "    <tr>\n",
       "      <th>dict_values([StandardScaler(), SVR()])</th>\n",
       "      <th>{'estimator__C': 1, 'estimator__epsilon': 0.5, 'estimator__gamma': 1, 'estimator__kernel': 'rbf'}</th>\n",
       "      <td>-0.004018</td>\n",
       "      <td>0.030808</td>\n",
       "      <td>0.046928</td>\n",
       "      <td>0.018763</td>\n",
       "    </tr>\n",
       "    <tr>\n",
       "      <th>dict_values([StandardScaler(), SelectKBest(), SVR()])</th>\n",
       "      <th>{'estimator__C': 1, 'estimator__epsilon': 0.5, 'estimator__gamma': 1, 'estimator__kernel': 'rbf', 'feature_selection__k': 2, 'feature_selection__score_func': &lt;function f_regression at 0x17da71a80&gt;}</th>\n",
       "      <td>-0.004018</td>\n",
       "      <td>0.030808</td>\n",
       "      <td>0.046928</td>\n",
       "      <td>0.018763</td>\n",
       "    </tr>\n",
       "    <tr>\n",
       "      <th>dict_values([StandardScaler(), SVR()])</th>\n",
       "      <th>{'estimator__C': 1, 'estimator__coef0': 0.1, 'estimator__degree': 2, 'estimator__kernel': 'poly'}</th>\n",
       "      <td>-0.004104</td>\n",
       "      <td>0.030277</td>\n",
       "      <td>0.045054</td>\n",
       "      <td>0.016704</td>\n",
       "    </tr>\n",
       "    <tr>\n",
       "      <th>dict_values([StandardScaler(), SelectKBest(), SVR()])</th>\n",
       "      <th>{'estimator__C': 1, 'estimator__coef0': 0.1, 'estimator__degree': 2, 'estimator__kernel': 'poly', 'feature_selection__k': 2, 'feature_selection__score_func': &lt;function f_regression at 0x17da71a80&gt;}</th>\n",
       "      <td>-0.004104</td>\n",
       "      <td>0.030277</td>\n",
       "      <td>0.045054</td>\n",
       "      <td>0.016704</td>\n",
       "    </tr>\n",
       "    <tr>\n",
       "      <th>dict_values([StandardScaler(), SVR()])</th>\n",
       "      <th>{'estimator__C': 1, 'estimator__epsilon': 0.05, 'estimator__gamma': 1, 'estimator__kernel': 'rbf'}</th>\n",
       "      <td>-0.004259</td>\n",
       "      <td>0.031502</td>\n",
       "      <td>0.044552</td>\n",
       "      <td>0.017150</td>\n",
       "    </tr>\n",
       "    <tr>\n",
       "      <th>dict_values([StandardScaler(), SelectKBest(), SVR()])</th>\n",
       "      <th>{'estimator__C': 1, 'estimator__epsilon': 0.05, 'estimator__gamma': 1, 'estimator__kernel': 'rbf', 'feature_selection__k': 2, 'feature_selection__score_func': &lt;function f_regression at 0x17da71a80&gt;}</th>\n",
       "      <td>-0.004259</td>\n",
       "      <td>0.031502</td>\n",
       "      <td>0.044552</td>\n",
       "      <td>0.017150</td>\n",
       "    </tr>\n",
       "  </tbody>\n",
       "</table>"
      ],
      "text/plain": [
       "<IPython.core.display.HTML object>"
      ]
     },
     "metadata": {},
     "output_type": "display_data"
    },
    {
     "name": "stdout",
     "output_type": "stream",
     "text": [
      "doing permutation test on importance; this may take time.\n"
     ]
    },
    {
     "data": {
      "text/html": [
       "<table border=\"1\" class=\"dataframe\">\n",
       "  <thead>\n",
       "    <tr style=\"text-align: right;\">\n",
       "      <th></th>\n",
       "      <th>predictor</th>\n",
       "      <th>coef</th>\n",
       "      <th>feature_importance</th>\n",
       "      <th>fa_abs</th>\n",
       "    </tr>\n",
       "  </thead>\n",
       "  <tbody>\n",
       "    <tr>\n",
       "      <th>0</th>\n",
       "      <td>umpqua</td>\n",
       "      <td>None</td>\n",
       "      <td>0.046981</td>\n",
       "      <td>0.046981</td>\n",
       "    </tr>\n",
       "    <tr>\n",
       "      <th>1</th>\n",
       "      <td>mckenzie</td>\n",
       "      <td>None</td>\n",
       "      <td>0.016123</td>\n",
       "      <td>0.016123</td>\n",
       "    </tr>\n",
       "  </tbody>\n",
       "</table>"
      ],
      "text/plain": [
       "<IPython.core.display.HTML object>"
      ]
     },
     "metadata": {},
     "output_type": "display_data"
    },
    {
     "data": {
      "text/markdown": [
       "## condition_inddiff"
      ],
      "text/plain": [
       "<IPython.core.display.Markdown object>"
      ]
     },
     "metadata": {},
     "output_type": "display_data"
    },
    {
     "name": "stdout",
     "output_type": "stream",
     "text": [
      "loading raw data\n"
     ]
    },
    {
     "name": "stderr",
     "output_type": "stream",
     "text": [
      "/Users/benjaminsmith/Google Drive/oregon/code/DEV_scripts/analyses/intervention_moderation/dev_interaction_util.py:998: FutureWarning: The default value of regex will change from True to False in a future version.\n",
      "  ms_groups['intervention_group'] = ms_groups['group_raw'].str.replace(r\"\\(.*\\)\",\"\")\n"
     ]
    },
    {
     "name": "stdout",
     "output_type": "stream",
     "text": [
      "WARNING: merging group codes with data_by_ppt resulted in a different number of participants\n",
      "pre merge: 275\n",
      "post merge: 270\n",
      "participants in pre merge but not post merge: {'DEV280', 'DEV022', 'DEV007', 'DEV002', 'DEV032'}\n",
      "Index(['Unnamed: 0', 'subject_id', 'wave', 'spm_l2_path', 'condition',\n",
      "       'beta_name', 'mask_label', 'roi_activity', 'run', 'task'],\n",
      "      dtype='object')\n",
      "Index(['Unnamed: 0', 'subject_id', 'wave', 'spm_l2_path', 'condition',\n",
      "       'beta_name', 'mask_label', 'roi_activity', 'run', 'task'],\n",
      "      dtype='object')\n",
      "Index(['Unnamed: 0', 'subject_id', 'wave', 'spm_l2_path', 'condition',\n",
      "       'beta_name', 'mask_label', 'roi_activity', 'task', 'run'],\n",
      "      dtype='object')\n",
      "run_real_analysis is True, so we're not randomizing the outcomes. \n",
      "(243, 33)\n",
      "(243, 33)\n",
      " attempting to predict NUTRIENT_RICH_FOODS_INDEX_2wkAverage with 35 predictors in the set condition_inddiff\n",
      "predictors in that set are umpqua mckenzie EDM BIS_11 PCS ACES_sum BFI_agreeableness BFI_conscientiousness BFI_extraversion BFI_neuroticism BFI_openness NCS_total TESQ_E_sum SRHI_healthy_minus_unhealthy RTFS_f1_minus_f2 cancer_promoting_minus_preventing_FCI age365 education_own household_income_per_person SST_PostErrorSlowW1_mean SST_mean_ssrt_0 ROC_Crave_Regulate_Minus_Look ROC_Crave_Minus_Neutral WTP_unhealthy_minus_healthy wtp_liked_value_association-test_z_FDR_0.01 roc_reappraiseCrave_reappraisal_association-test_z_FDR_0.01 roc_reappraiseCrave_multivariate_regulation sst_CorrectGo_striatum_joint_mask sst_FailedStop_motor_control_striatum_joint_mask sst_CorrectGoFollowingFailedStop_striatum_joint_mask Planning_aggregate Restraint_aggregate IMI_effort_importance_aggregate wtp_roc_koban_kober_craving_combined birthsex_factor_Male\n",
      "outer split0\n"
     ]
    },
    {
     "name": "stderr",
     "output_type": "stream",
     "text": [
      "/Users/benjaminsmith/opt/anaconda3/envs/dataanalysis/lib/python3.11/site-packages/sklearn/impute/_iterative.py:785: ConvergenceWarning: [IterativeImputer] Early stopping criterion not reached.\n",
      "  warnings.warn(\n",
      "/Users/benjaminsmith/opt/anaconda3/envs/dataanalysis/lib/python3.11/site-packages/sklearn/impute/_iterative.py:785: ConvergenceWarning: [IterativeImputer] Early stopping criterion not reached.\n",
      "  warnings.warn(\n"
     ]
    },
    {
     "name": "stdout",
     "output_type": "stream",
     "text": [
      "Pipeline(steps=[('scaler', StandardScaler()), ('estimator', Ridge())])\n",
      "{'estimator__alpha': [0.2, 0.99]}\n",
      "Fitting 4 folds for each of 2 candidates, totalling 8 fits\n",
      "Pipeline(steps=[('scaler', StandardScaler()),\n",
      "                ('feature_selection', SelectKBest()), ('estimator', Ridge())])\n",
      "{'feature_selection__score_func': [<function f_regression at 0x17da71a80>], 'feature_selection__k': [5, 10, 15], 'estimator__alpha': [0.2, 0.99]}\n",
      "Fitting 4 folds for each of 6 candidates, totalling 24 fits\n",
      "Time elapsed for Ridge: 0.28 seconds\n",
      "Pipeline(steps=[('scaler', StandardScaler()), ('estimator', Lasso())])\n",
      "{'estimator__alpha': [0.2, 0.99]}\n",
      "Fitting 4 folds for each of 2 candidates, totalling 8 fits\n",
      "Pipeline(steps=[('scaler', StandardScaler()),\n",
      "                ('feature_selection', SelectKBest()), ('estimator', Lasso())])\n",
      "{'feature_selection__score_func': [<function f_regression at 0x17da71a80>], 'feature_selection__k': [5, 10, 15], 'estimator__alpha': [0.2, 0.99]}\n",
      "Fitting 4 folds for each of 6 candidates, totalling 24 fits\n",
      "Time elapsed for Lasso: 0.34 seconds\n",
      "Pipeline(steps=[('scaler', StandardScaler()), ('estimator', SVR())])\n",
      "{'estimator__kernel': ['linear'], 'estimator__C': [0.02, 1, 20]}\n",
      "Fitting 4 folds for each of 3 candidates, totalling 12 fits\n",
      "Pipeline(steps=[('scaler', StandardScaler()),\n",
      "                ('feature_selection', SelectKBest()), ('estimator', SVR())])\n",
      "{'feature_selection__score_func': [<function f_regression at 0x17da71a80>], 'feature_selection__k': [5, 10, 15], 'estimator__kernel': ['linear'], 'estimator__C': [0.02, 1, 20]}\n",
      "Fitting 4 folds for each of 9 candidates, totalling 36 fits\n",
      "Time elapsed for LinearSVR: 1.62 seconds\n",
      "Pipeline(steps=[('scaler', StandardScaler()), ('estimator', SVR())])\n",
      "{'estimator__kernel': ['poly'], 'estimator__C': [0.02, 1, 20], 'estimator__degree': [2, 3], 'estimator__coef0': [0.1, 0.333, 1]}\n",
      "Fitting 4 folds for each of 18 candidates, totalling 72 fits\n",
      "Pipeline(steps=[('scaler', StandardScaler()),\n",
      "                ('feature_selection', SelectKBest()), ('estimator', SVR())])\n",
      "{'feature_selection__score_func': [<function f_regression at 0x17da71a80>], 'feature_selection__k': [5, 10, 15], 'estimator__kernel': ['poly'], 'estimator__C': [0.02, 1, 20], 'estimator__degree': [2, 3], 'estimator__coef0': [0.1, 0.333, 1]}\n",
      "Fitting 4 folds for each of 54 candidates, totalling 216 fits\n"
     ]
    },
    {
     "ename": "KeyboardInterrupt",
     "evalue": "",
     "output_type": "error",
     "traceback": [
      "\u001b[0;31m---------------------------------------------------------------------------\u001b[0m",
      "\u001b[0;31mKeyboardInterrupt\u001b[0m                         Traceback (most recent call last)",
      "Cell \u001b[0;32mIn[22], line 1\u001b[0m\n\u001b[0;32m----> 1\u001b[0m model_outcomes \u001b[39m=\u001b[39m icvm\u001b[39m.\u001b[39;49mdo_predictor_set_comparison(\n\u001b[1;32m      2\u001b[0m     predictor_sets, \u001b[39m'\u001b[39;49m\u001b[39mNUTRIENT_RICH_FOODS_INDEX_2wkAverage\u001b[39;49m\u001b[39m'\u001b[39;49m, dev_cv_analysis)\n",
      "File \u001b[0;32m~/Google Drive/oregon/code/DEV_scripts/analyses/intervention_moderation/InterventionCVManager.py:93\u001b[0m, in \u001b[0;36mInterventionCVManager.do_predictor_set_comparison\u001b[0;34m(self, predictor_sets, outcome_var, mode)\u001b[0m\n\u001b[1;32m     91\u001b[0m     \u001b[39mprint\u001b[39m(\u001b[39m\"\u001b[39m\u001b[39m attempting to predict \u001b[39m\u001b[39m\"\u001b[39m \u001b[39m+\u001b[39m outcome_var \u001b[39m+\u001b[39m \u001b[39m\"\u001b[39m\u001b[39m with \u001b[39m\u001b[39m\"\u001b[39m \u001b[39m+\u001b[39m \u001b[39mstr\u001b[39m(\u001b[39mlen\u001b[39m(predictor_set)) \u001b[39m+\u001b[39m \u001b[39m\"\u001b[39m\u001b[39m predictors in the set \u001b[39m\u001b[39m\"\u001b[39m \u001b[39m+\u001b[39m psk)\n\u001b[1;32m     92\u001b[0m     \u001b[39mprint\u001b[39m(\u001b[39m'\u001b[39m\u001b[39mpredictors in that set are \u001b[39m\u001b[39m'\u001b[39m \u001b[39m+\u001b[39m \u001b[39m\"\u001b[39m\u001b[39m \u001b[39m\u001b[39m\"\u001b[39m\u001b[39m.\u001b[39mjoin(predictor_set))\n\u001b[0;32m---> 93\u001b[0m     model_outcomes[psk] \u001b[39m=\u001b[39m devCVAnalysis\u001b[39m.\u001b[39;49mscore_and_present(\n\u001b[1;32m     94\u001b[0m         devCVAnalysis\u001b[39m.\u001b[39;49mget_active_predictor_subset(),\n\u001b[1;32m     95\u001b[0m         devCVAnalysis\u001b[39m.\u001b[39;49moutcome,\n\u001b[1;32m     96\u001b[0m         devCVAnalysis\u001b[39m.\u001b[39;49mgroup_assignments,\n\u001b[1;32m     97\u001b[0m         hyper_selection_function\u001b[39m=\u001b[39;49mhyper_func\n\u001b[1;32m     98\u001b[0m             )\n\u001b[1;32m    100\u001b[0m \u001b[39m#get a dictionary of the overall scores for each model\u001b[39;00m\n\u001b[1;32m    101\u001b[0m model_outcomes_comparison \u001b[39m=\u001b[39m { k:\n\u001b[1;32m    102\u001b[0m     model_outcomes[k][\u001b[39m'\u001b[39m\u001b[39moverall_score\u001b[39m\u001b[39m'\u001b[39m] \u001b[39mfor\u001b[39;00m k \u001b[39min\u001b[39;00m model_outcomes\u001b[39m.\u001b[39mkeys()}\n",
      "File \u001b[0;32m~/Google Drive/oregon/code/DEV_scripts/analyses/intervention_moderation/DevCvAnalysis.py:267\u001b[0m, in \u001b[0;36mDevCvAnalysis.score_and_present\u001b[0;34m(self, predictor_data, outcome_measure, group_assignments, hyper_selection_function)\u001b[0m\n\u001b[1;32m    255\u001b[0m     hyper_selection_function\u001b[39m=\u001b[39mdo_hyperparameter_selection_loop\n\u001b[1;32m    257\u001b[0m \u001b[39m# if hyper_selection_function=='fast':\u001b[39;00m\n\u001b[1;32m    258\u001b[0m \u001b[39m#     hyper_selection_function=do_hyperparameter_selection_loop_fast\u001b[39;00m\n\u001b[1;32m    259\u001b[0m \u001b[39m# elif hyper_selection_function=='main':\u001b[39;00m\n\u001b[0;32m   (...)\u001b[0m\n\u001b[1;32m    265\u001b[0m \u001b[39m# outcome_measure = self.outcome\u001b[39;00m\n\u001b[1;32m    266\u001b[0m \u001b[39m# group_assignments = self.group_assignment_onehots\u001b[39;00m\n\u001b[0;32m--> 267\u001b[0m scoring_data \u001b[39m=\u001b[39m do_scoring_loop(X\u001b[39m=\u001b[39;49mpredictor_data, y\u001b[39m=\u001b[39;49m outcome_measure, \n\u001b[1;32m    268\u001b[0m             groups \u001b[39m=\u001b[39;49m group_assignments, \n\u001b[1;32m    269\u001b[0m             hyperparameter_selection_on_fold\u001b[39m=\u001b[39;49mhyper_selection_function,\n\u001b[1;32m    270\u001b[0m             outer_folds\u001b[39m=\u001b[39;49m\u001b[39m5\u001b[39;49m)\n\u001b[1;32m    272\u001b[0m scores \u001b[39m=\u001b[39m scoring_data[\u001b[39m'\u001b[39m\u001b[39mscores\u001b[39m\u001b[39m'\u001b[39m]\n\u001b[1;32m    273\u001b[0m best_models \u001b[39m=\u001b[39m scoring_data[\u001b[39m'\u001b[39m\u001b[39mbest_models\u001b[39m\u001b[39m'\u001b[39m]\n",
      "File \u001b[0;32m~/Google Drive/oregon/code/DEV_scripts/analyses/intervention_moderation/dev_interaction_util.py:339\u001b[0m, in \u001b[0;36mdo_scoring_loop\u001b[0;34m(X, y, groups, hyperparameter_selection_on_fold, outer_folds)\u001b[0m\n\u001b[1;32m    335\u001b[0m \u001b[39m#print(test_i_y)\u001b[39;00m\n\u001b[1;32m    337\u001b[0m inner_cv \u001b[39m=\u001b[39m IndependentVarStratifiedKFold(independent_vars\u001b[39m=\u001b[39mtrain_i_group_assignments, n_splits\u001b[39m=\u001b[39minner_splits, shuffle\u001b[39m=\u001b[39m\u001b[39mTrue\u001b[39;00m, random_state\u001b[39m=\u001b[39m\u001b[39m3211050\u001b[39m)\n\u001b[0;32m--> 339\u001b[0m selection_info \u001b[39m=\u001b[39m hyperparameter_selection_on_fold(train_i_X, train_i_y,cv \u001b[39m=\u001b[39;49m inner_cv)\n\u001b[1;32m    340\u001b[0m best_model_i \u001b[39m=\u001b[39m selection_info[\u001b[39m'\u001b[39m\u001b[39mbest_model\u001b[39m\u001b[39m'\u001b[39m]\n\u001b[1;32m    341\u001b[0m best_params_i \u001b[39m=\u001b[39m selection_info[\u001b[39m'\u001b[39m\u001b[39mbest_params_df\u001b[39m\u001b[39m'\u001b[39m]\n",
      "File \u001b[0;32m~/Google Drive/oregon/code/DEV_scripts/analyses/intervention_moderation/dev_interaction_util.py:381\u001b[0m, in \u001b[0;36mdo_hyperparameter_selection_loop_fast\u001b[0;34m(X, y, cv)\u001b[0m\n\u001b[1;32m    380\u001b[0m \u001b[39mdef\u001b[39;00m \u001b[39mdo_hyperparameter_selection_loop_fast\u001b[39m(X, y, cv):\n\u001b[0;32m--> 381\u001b[0m     \u001b[39mreturn\u001b[39;00m(do_hyperparameter_selection_loop(X, y, cv, fast_mode\u001b[39m=\u001b[39;49m\u001b[39mTrue\u001b[39;49;00m))\n",
      "File \u001b[0;32m~/Google Drive/oregon/code/DEV_scripts/analyses/intervention_moderation/dev_interaction_util.py:519\u001b[0m, in \u001b[0;36mdo_hyperparameter_selection_loop\u001b[0;34m(X, y, cv, fast_mode)\u001b[0m\n\u001b[1;32m    515\u001b[0m gs_1 \u001b[39m=\u001b[39m GridSearchCV(estimator\u001b[39m=\u001b[39mpipeline, \n\u001b[1;32m    516\u001b[0m                     param_grid \u001b[39m=\u001b[39m full_param_grid, \n\u001b[1;32m    517\u001b[0m                     cv\u001b[39m=\u001b[39mcv,scoring\u001b[39m=\u001b[39m\u001b[39m'\u001b[39m\u001b[39mr2\u001b[39m\u001b[39m'\u001b[39m,verbose\u001b[39m=\u001b[39m\u001b[39m1\u001b[39m)\n\u001b[1;32m    518\u001b[0m \u001b[39mtry\u001b[39;00m:\n\u001b[0;32m--> 519\u001b[0m     gs_1\u001b[39m.\u001b[39;49mfit(X,y)\n\u001b[1;32m    520\u001b[0m     all_cv_results\u001b[39m.\u001b[39mappend(gs_1)\n\u001b[1;32m    521\u001b[0m \u001b[39mexcept\u001b[39;00m \u001b[39mValueError\u001b[39;00m \u001b[39mas\u001b[39;00m e:\n",
      "File \u001b[0;32m~/opt/anaconda3/envs/dataanalysis/lib/python3.11/site-packages/sklearn/model_selection/_search.py:874\u001b[0m, in \u001b[0;36mBaseSearchCV.fit\u001b[0;34m(self, X, y, groups, **fit_params)\u001b[0m\n\u001b[1;32m    868\u001b[0m     results \u001b[39m=\u001b[39m \u001b[39mself\u001b[39m\u001b[39m.\u001b[39m_format_results(\n\u001b[1;32m    869\u001b[0m         all_candidate_params, n_splits, all_out, all_more_results\n\u001b[1;32m    870\u001b[0m     )\n\u001b[1;32m    872\u001b[0m     \u001b[39mreturn\u001b[39;00m results\n\u001b[0;32m--> 874\u001b[0m \u001b[39mself\u001b[39;49m\u001b[39m.\u001b[39;49m_run_search(evaluate_candidates)\n\u001b[1;32m    876\u001b[0m \u001b[39m# multimetric is determined here because in the case of a callable\u001b[39;00m\n\u001b[1;32m    877\u001b[0m \u001b[39m# self.scoring the return type is only known after calling\u001b[39;00m\n\u001b[1;32m    878\u001b[0m first_test_score \u001b[39m=\u001b[39m all_out[\u001b[39m0\u001b[39m][\u001b[39m\"\u001b[39m\u001b[39mtest_scores\u001b[39m\u001b[39m\"\u001b[39m]\n",
      "File \u001b[0;32m~/opt/anaconda3/envs/dataanalysis/lib/python3.11/site-packages/sklearn/model_selection/_search.py:1388\u001b[0m, in \u001b[0;36mGridSearchCV._run_search\u001b[0;34m(self, evaluate_candidates)\u001b[0m\n\u001b[1;32m   1386\u001b[0m \u001b[39mdef\u001b[39;00m \u001b[39m_run_search\u001b[39m(\u001b[39mself\u001b[39m, evaluate_candidates):\n\u001b[1;32m   1387\u001b[0m     \u001b[39m\"\"\"Search all candidates in param_grid\"\"\"\u001b[39;00m\n\u001b[0;32m-> 1388\u001b[0m     evaluate_candidates(ParameterGrid(\u001b[39mself\u001b[39;49m\u001b[39m.\u001b[39;49mparam_grid))\n",
      "File \u001b[0;32m~/opt/anaconda3/envs/dataanalysis/lib/python3.11/site-packages/sklearn/model_selection/_search.py:821\u001b[0m, in \u001b[0;36mBaseSearchCV.fit.<locals>.evaluate_candidates\u001b[0;34m(candidate_params, cv, more_results)\u001b[0m\n\u001b[1;32m    813\u001b[0m \u001b[39mif\u001b[39;00m \u001b[39mself\u001b[39m\u001b[39m.\u001b[39mverbose \u001b[39m>\u001b[39m \u001b[39m0\u001b[39m:\n\u001b[1;32m    814\u001b[0m     \u001b[39mprint\u001b[39m(\n\u001b[1;32m    815\u001b[0m         \u001b[39m\"\u001b[39m\u001b[39mFitting \u001b[39m\u001b[39m{0}\u001b[39;00m\u001b[39m folds for each of \u001b[39m\u001b[39m{1}\u001b[39;00m\u001b[39m candidates,\u001b[39m\u001b[39m\"\u001b[39m\n\u001b[1;32m    816\u001b[0m         \u001b[39m\"\u001b[39m\u001b[39m totalling \u001b[39m\u001b[39m{2}\u001b[39;00m\u001b[39m fits\u001b[39m\u001b[39m\"\u001b[39m\u001b[39m.\u001b[39mformat(\n\u001b[1;32m    817\u001b[0m             n_splits, n_candidates, n_candidates \u001b[39m*\u001b[39m n_splits\n\u001b[1;32m    818\u001b[0m         )\n\u001b[1;32m    819\u001b[0m     )\n\u001b[0;32m--> 821\u001b[0m out \u001b[39m=\u001b[39m parallel(\n\u001b[1;32m    822\u001b[0m     delayed(_fit_and_score)(\n\u001b[1;32m    823\u001b[0m         clone(base_estimator),\n\u001b[1;32m    824\u001b[0m         X,\n\u001b[1;32m    825\u001b[0m         y,\n\u001b[1;32m    826\u001b[0m         train\u001b[39m=\u001b[39;49mtrain,\n\u001b[1;32m    827\u001b[0m         test\u001b[39m=\u001b[39;49mtest,\n\u001b[1;32m    828\u001b[0m         parameters\u001b[39m=\u001b[39;49mparameters,\n\u001b[1;32m    829\u001b[0m         split_progress\u001b[39m=\u001b[39;49m(split_idx, n_splits),\n\u001b[1;32m    830\u001b[0m         candidate_progress\u001b[39m=\u001b[39;49m(cand_idx, n_candidates),\n\u001b[1;32m    831\u001b[0m         \u001b[39m*\u001b[39;49m\u001b[39m*\u001b[39;49mfit_and_score_kwargs,\n\u001b[1;32m    832\u001b[0m     )\n\u001b[1;32m    833\u001b[0m     \u001b[39mfor\u001b[39;49;00m (cand_idx, parameters), (split_idx, (train, test)) \u001b[39min\u001b[39;49;00m product(\n\u001b[1;32m    834\u001b[0m         \u001b[39menumerate\u001b[39;49m(candidate_params), \u001b[39menumerate\u001b[39;49m(cv\u001b[39m.\u001b[39;49msplit(X, y, groups))\n\u001b[1;32m    835\u001b[0m     )\n\u001b[1;32m    836\u001b[0m )\n\u001b[1;32m    838\u001b[0m \u001b[39mif\u001b[39;00m \u001b[39mlen\u001b[39m(out) \u001b[39m<\u001b[39m \u001b[39m1\u001b[39m:\n\u001b[1;32m    839\u001b[0m     \u001b[39mraise\u001b[39;00m \u001b[39mValueError\u001b[39;00m(\n\u001b[1;32m    840\u001b[0m         \u001b[39m\"\u001b[39m\u001b[39mNo fits were performed. \u001b[39m\u001b[39m\"\u001b[39m\n\u001b[1;32m    841\u001b[0m         \u001b[39m\"\u001b[39m\u001b[39mWas the CV iterator empty? \u001b[39m\u001b[39m\"\u001b[39m\n\u001b[1;32m    842\u001b[0m         \u001b[39m\"\u001b[39m\u001b[39mWere there no candidates?\u001b[39m\u001b[39m\"\u001b[39m\n\u001b[1;32m    843\u001b[0m     )\n",
      "File \u001b[0;32m~/opt/anaconda3/envs/dataanalysis/lib/python3.11/site-packages/sklearn/utils/parallel.py:63\u001b[0m, in \u001b[0;36mParallel.__call__\u001b[0;34m(self, iterable)\u001b[0m\n\u001b[1;32m     58\u001b[0m config \u001b[39m=\u001b[39m get_config()\n\u001b[1;32m     59\u001b[0m iterable_with_config \u001b[39m=\u001b[39m (\n\u001b[1;32m     60\u001b[0m     (_with_config(delayed_func, config), args, kwargs)\n\u001b[1;32m     61\u001b[0m     \u001b[39mfor\u001b[39;00m delayed_func, args, kwargs \u001b[39min\u001b[39;00m iterable\n\u001b[1;32m     62\u001b[0m )\n\u001b[0;32m---> 63\u001b[0m \u001b[39mreturn\u001b[39;00m \u001b[39msuper\u001b[39;49m()\u001b[39m.\u001b[39;49m\u001b[39m__call__\u001b[39;49m(iterable_with_config)\n",
      "File \u001b[0;32m~/opt/anaconda3/envs/dataanalysis/lib/python3.11/site-packages/joblib/parallel.py:1088\u001b[0m, in \u001b[0;36mParallel.__call__\u001b[0;34m(self, iterable)\u001b[0m\n\u001b[1;32m   1085\u001b[0m \u001b[39mif\u001b[39;00m \u001b[39mself\u001b[39m\u001b[39m.\u001b[39mdispatch_one_batch(iterator):\n\u001b[1;32m   1086\u001b[0m     \u001b[39mself\u001b[39m\u001b[39m.\u001b[39m_iterating \u001b[39m=\u001b[39m \u001b[39mself\u001b[39m\u001b[39m.\u001b[39m_original_iterator \u001b[39mis\u001b[39;00m \u001b[39mnot\u001b[39;00m \u001b[39mNone\u001b[39;00m\n\u001b[0;32m-> 1088\u001b[0m \u001b[39mwhile\u001b[39;00m \u001b[39mself\u001b[39;49m\u001b[39m.\u001b[39;49mdispatch_one_batch(iterator):\n\u001b[1;32m   1089\u001b[0m     \u001b[39mpass\u001b[39;00m\n\u001b[1;32m   1091\u001b[0m \u001b[39mif\u001b[39;00m pre_dispatch \u001b[39m==\u001b[39m \u001b[39m\"\u001b[39m\u001b[39mall\u001b[39m\u001b[39m\"\u001b[39m \u001b[39mor\u001b[39;00m n_jobs \u001b[39m==\u001b[39m \u001b[39m1\u001b[39m:\n\u001b[1;32m   1092\u001b[0m     \u001b[39m# The iterable was consumed all at once by the above for loop.\u001b[39;00m\n\u001b[1;32m   1093\u001b[0m     \u001b[39m# No need to wait for async callbacks to trigger to\u001b[39;00m\n\u001b[1;32m   1094\u001b[0m     \u001b[39m# consumption.\u001b[39;00m\n",
      "File \u001b[0;32m~/opt/anaconda3/envs/dataanalysis/lib/python3.11/site-packages/joblib/parallel.py:901\u001b[0m, in \u001b[0;36mParallel.dispatch_one_batch\u001b[0;34m(self, iterator)\u001b[0m\n\u001b[1;32m    899\u001b[0m     \u001b[39mreturn\u001b[39;00m \u001b[39mFalse\u001b[39;00m\n\u001b[1;32m    900\u001b[0m \u001b[39melse\u001b[39;00m:\n\u001b[0;32m--> 901\u001b[0m     \u001b[39mself\u001b[39;49m\u001b[39m.\u001b[39;49m_dispatch(tasks)\n\u001b[1;32m    902\u001b[0m     \u001b[39mreturn\u001b[39;00m \u001b[39mTrue\u001b[39;00m\n",
      "File \u001b[0;32m~/opt/anaconda3/envs/dataanalysis/lib/python3.11/site-packages/joblib/parallel.py:819\u001b[0m, in \u001b[0;36mParallel._dispatch\u001b[0;34m(self, batch)\u001b[0m\n\u001b[1;32m    817\u001b[0m \u001b[39mwith\u001b[39;00m \u001b[39mself\u001b[39m\u001b[39m.\u001b[39m_lock:\n\u001b[1;32m    818\u001b[0m     job_idx \u001b[39m=\u001b[39m \u001b[39mlen\u001b[39m(\u001b[39mself\u001b[39m\u001b[39m.\u001b[39m_jobs)\n\u001b[0;32m--> 819\u001b[0m     job \u001b[39m=\u001b[39m \u001b[39mself\u001b[39;49m\u001b[39m.\u001b[39;49m_backend\u001b[39m.\u001b[39;49mapply_async(batch, callback\u001b[39m=\u001b[39;49mcb)\n\u001b[1;32m    820\u001b[0m     \u001b[39m# A job can complete so quickly than its callback is\u001b[39;00m\n\u001b[1;32m    821\u001b[0m     \u001b[39m# called before we get here, causing self._jobs to\u001b[39;00m\n\u001b[1;32m    822\u001b[0m     \u001b[39m# grow. To ensure correct results ordering, .insert is\u001b[39;00m\n\u001b[1;32m    823\u001b[0m     \u001b[39m# used (rather than .append) in the following line\u001b[39;00m\n\u001b[1;32m    824\u001b[0m     \u001b[39mself\u001b[39m\u001b[39m.\u001b[39m_jobs\u001b[39m.\u001b[39minsert(job_idx, job)\n",
      "File \u001b[0;32m~/opt/anaconda3/envs/dataanalysis/lib/python3.11/site-packages/joblib/_parallel_backends.py:208\u001b[0m, in \u001b[0;36mSequentialBackend.apply_async\u001b[0;34m(self, func, callback)\u001b[0m\n\u001b[1;32m    206\u001b[0m \u001b[39mdef\u001b[39;00m \u001b[39mapply_async\u001b[39m(\u001b[39mself\u001b[39m, func, callback\u001b[39m=\u001b[39m\u001b[39mNone\u001b[39;00m):\n\u001b[1;32m    207\u001b[0m     \u001b[39m\"\"\"Schedule a func to be run\"\"\"\u001b[39;00m\n\u001b[0;32m--> 208\u001b[0m     result \u001b[39m=\u001b[39m ImmediateResult(func)\n\u001b[1;32m    209\u001b[0m     \u001b[39mif\u001b[39;00m callback:\n\u001b[1;32m    210\u001b[0m         callback(result)\n",
      "File \u001b[0;32m~/opt/anaconda3/envs/dataanalysis/lib/python3.11/site-packages/joblib/_parallel_backends.py:597\u001b[0m, in \u001b[0;36mImmediateResult.__init__\u001b[0;34m(self, batch)\u001b[0m\n\u001b[1;32m    594\u001b[0m \u001b[39mdef\u001b[39;00m \u001b[39m__init__\u001b[39m(\u001b[39mself\u001b[39m, batch):\n\u001b[1;32m    595\u001b[0m     \u001b[39m# Don't delay the application, to avoid keeping the input\u001b[39;00m\n\u001b[1;32m    596\u001b[0m     \u001b[39m# arguments in memory\u001b[39;00m\n\u001b[0;32m--> 597\u001b[0m     \u001b[39mself\u001b[39m\u001b[39m.\u001b[39mresults \u001b[39m=\u001b[39m batch()\n",
      "File \u001b[0;32m~/opt/anaconda3/envs/dataanalysis/lib/python3.11/site-packages/joblib/parallel.py:288\u001b[0m, in \u001b[0;36mBatchedCalls.__call__\u001b[0;34m(self)\u001b[0m\n\u001b[1;32m    284\u001b[0m \u001b[39mdef\u001b[39;00m \u001b[39m__call__\u001b[39m(\u001b[39mself\u001b[39m):\n\u001b[1;32m    285\u001b[0m     \u001b[39m# Set the default nested backend to self._backend but do not set the\u001b[39;00m\n\u001b[1;32m    286\u001b[0m     \u001b[39m# change the default number of processes to -1\u001b[39;00m\n\u001b[1;32m    287\u001b[0m     \u001b[39mwith\u001b[39;00m parallel_backend(\u001b[39mself\u001b[39m\u001b[39m.\u001b[39m_backend, n_jobs\u001b[39m=\u001b[39m\u001b[39mself\u001b[39m\u001b[39m.\u001b[39m_n_jobs):\n\u001b[0;32m--> 288\u001b[0m         \u001b[39mreturn\u001b[39;00m [func(\u001b[39m*\u001b[39;49margs, \u001b[39m*\u001b[39;49m\u001b[39m*\u001b[39;49mkwargs)\n\u001b[1;32m    289\u001b[0m                 \u001b[39mfor\u001b[39;49;00m func, args, kwargs \u001b[39min\u001b[39;49;00m \u001b[39mself\u001b[39;49m\u001b[39m.\u001b[39;49mitems]\n",
      "File \u001b[0;32m~/opt/anaconda3/envs/dataanalysis/lib/python3.11/site-packages/joblib/parallel.py:288\u001b[0m, in \u001b[0;36m<listcomp>\u001b[0;34m(.0)\u001b[0m\n\u001b[1;32m    284\u001b[0m \u001b[39mdef\u001b[39;00m \u001b[39m__call__\u001b[39m(\u001b[39mself\u001b[39m):\n\u001b[1;32m    285\u001b[0m     \u001b[39m# Set the default nested backend to self._backend but do not set the\u001b[39;00m\n\u001b[1;32m    286\u001b[0m     \u001b[39m# change the default number of processes to -1\u001b[39;00m\n\u001b[1;32m    287\u001b[0m     \u001b[39mwith\u001b[39;00m parallel_backend(\u001b[39mself\u001b[39m\u001b[39m.\u001b[39m_backend, n_jobs\u001b[39m=\u001b[39m\u001b[39mself\u001b[39m\u001b[39m.\u001b[39m_n_jobs):\n\u001b[0;32m--> 288\u001b[0m         \u001b[39mreturn\u001b[39;00m [func(\u001b[39m*\u001b[39;49margs, \u001b[39m*\u001b[39;49m\u001b[39m*\u001b[39;49mkwargs)\n\u001b[1;32m    289\u001b[0m                 \u001b[39mfor\u001b[39;00m func, args, kwargs \u001b[39min\u001b[39;00m \u001b[39mself\u001b[39m\u001b[39m.\u001b[39mitems]\n",
      "File \u001b[0;32m~/opt/anaconda3/envs/dataanalysis/lib/python3.11/site-packages/sklearn/utils/parallel.py:123\u001b[0m, in \u001b[0;36m_FuncWrapper.__call__\u001b[0;34m(self, *args, **kwargs)\u001b[0m\n\u001b[1;32m    121\u001b[0m     config \u001b[39m=\u001b[39m {}\n\u001b[1;32m    122\u001b[0m \u001b[39mwith\u001b[39;00m config_context(\u001b[39m*\u001b[39m\u001b[39m*\u001b[39mconfig):\n\u001b[0;32m--> 123\u001b[0m     \u001b[39mreturn\u001b[39;00m \u001b[39mself\u001b[39;49m\u001b[39m.\u001b[39;49mfunction(\u001b[39m*\u001b[39;49margs, \u001b[39m*\u001b[39;49m\u001b[39m*\u001b[39;49mkwargs)\n",
      "File \u001b[0;32m~/opt/anaconda3/envs/dataanalysis/lib/python3.11/site-packages/sklearn/model_selection/_validation.py:686\u001b[0m, in \u001b[0;36m_fit_and_score\u001b[0;34m(estimator, X, y, scorer, train, test, verbose, parameters, fit_params, return_train_score, return_parameters, return_n_test_samples, return_times, return_estimator, split_progress, candidate_progress, error_score)\u001b[0m\n\u001b[1;32m    684\u001b[0m         estimator\u001b[39m.\u001b[39mfit(X_train, \u001b[39m*\u001b[39m\u001b[39m*\u001b[39mfit_params)\n\u001b[1;32m    685\u001b[0m     \u001b[39melse\u001b[39;00m:\n\u001b[0;32m--> 686\u001b[0m         estimator\u001b[39m.\u001b[39;49mfit(X_train, y_train, \u001b[39m*\u001b[39;49m\u001b[39m*\u001b[39;49mfit_params)\n\u001b[1;32m    688\u001b[0m \u001b[39mexcept\u001b[39;00m \u001b[39mException\u001b[39;00m:\n\u001b[1;32m    689\u001b[0m     \u001b[39m# Note fit time as time until error\u001b[39;00m\n\u001b[1;32m    690\u001b[0m     fit_time \u001b[39m=\u001b[39m time\u001b[39m.\u001b[39mtime() \u001b[39m-\u001b[39m start_time\n",
      "File \u001b[0;32m~/opt/anaconda3/envs/dataanalysis/lib/python3.11/site-packages/sklearn/pipeline.py:405\u001b[0m, in \u001b[0;36mPipeline.fit\u001b[0;34m(self, X, y, **fit_params)\u001b[0m\n\u001b[1;32m    403\u001b[0m     \u001b[39mif\u001b[39;00m \u001b[39mself\u001b[39m\u001b[39m.\u001b[39m_final_estimator \u001b[39m!=\u001b[39m \u001b[39m\"\u001b[39m\u001b[39mpassthrough\u001b[39m\u001b[39m\"\u001b[39m:\n\u001b[1;32m    404\u001b[0m         fit_params_last_step \u001b[39m=\u001b[39m fit_params_steps[\u001b[39mself\u001b[39m\u001b[39m.\u001b[39msteps[\u001b[39m-\u001b[39m\u001b[39m1\u001b[39m][\u001b[39m0\u001b[39m]]\n\u001b[0;32m--> 405\u001b[0m         \u001b[39mself\u001b[39;49m\u001b[39m.\u001b[39;49m_final_estimator\u001b[39m.\u001b[39;49mfit(Xt, y, \u001b[39m*\u001b[39;49m\u001b[39m*\u001b[39;49mfit_params_last_step)\n\u001b[1;32m    407\u001b[0m \u001b[39mreturn\u001b[39;00m \u001b[39mself\u001b[39m\n",
      "File \u001b[0;32m~/opt/anaconda3/envs/dataanalysis/lib/python3.11/site-packages/sklearn/svm/_base.py:180\u001b[0m, in \u001b[0;36mBaseLibSVM.fit\u001b[0;34m(self, X, y, sample_weight)\u001b[0m\n\u001b[1;32m    147\u001b[0m \u001b[39mdef\u001b[39;00m \u001b[39mfit\u001b[39m(\u001b[39mself\u001b[39m, X, y, sample_weight\u001b[39m=\u001b[39m\u001b[39mNone\u001b[39;00m):\n\u001b[1;32m    148\u001b[0m     \u001b[39m\"\"\"Fit the SVM model according to the given training data.\u001b[39;00m\n\u001b[1;32m    149\u001b[0m \n\u001b[1;32m    150\u001b[0m \u001b[39m    Parameters\u001b[39;00m\n\u001b[0;32m   (...)\u001b[0m\n\u001b[1;32m    178\u001b[0m \u001b[39m    matrices as input.\u001b[39;00m\n\u001b[1;32m    179\u001b[0m \u001b[39m    \"\"\"\u001b[39;00m\n\u001b[0;32m--> 180\u001b[0m     \u001b[39mself\u001b[39;49m\u001b[39m.\u001b[39;49m_validate_params()\n\u001b[1;32m    182\u001b[0m     rnd \u001b[39m=\u001b[39m check_random_state(\u001b[39mself\u001b[39m\u001b[39m.\u001b[39mrandom_state)\n\u001b[1;32m    184\u001b[0m     sparse \u001b[39m=\u001b[39m sp\u001b[39m.\u001b[39misspmatrix(X)\n",
      "File \u001b[0;32m~/opt/anaconda3/envs/dataanalysis/lib/python3.11/site-packages/sklearn/base.py:602\u001b[0m, in \u001b[0;36mBaseEstimator._validate_params\u001b[0;34m(self)\u001b[0m\n\u001b[1;32m    592\u001b[0m \u001b[39mdef\u001b[39;00m \u001b[39m_validate_params\u001b[39m(\u001b[39mself\u001b[39m):\n\u001b[1;32m    593\u001b[0m     \u001b[39m\"\"\"Validate types and values of constructor parameters\u001b[39;00m\n\u001b[1;32m    594\u001b[0m \n\u001b[1;32m    595\u001b[0m \u001b[39m    The expected type and values must be defined in the `_parameter_constraints`\u001b[39;00m\n\u001b[0;32m   (...)\u001b[0m\n\u001b[1;32m    598\u001b[0m \u001b[39m    accepted constraints.\u001b[39;00m\n\u001b[1;32m    599\u001b[0m \u001b[39m    \"\"\"\u001b[39;00m\n\u001b[1;32m    600\u001b[0m     validate_parameter_constraints(\n\u001b[1;32m    601\u001b[0m         \u001b[39mself\u001b[39m\u001b[39m.\u001b[39m_parameter_constraints,\n\u001b[0;32m--> 602\u001b[0m         \u001b[39mself\u001b[39;49m\u001b[39m.\u001b[39;49mget_params(deep\u001b[39m=\u001b[39;49m\u001b[39mFalse\u001b[39;49;00m),\n\u001b[1;32m    603\u001b[0m         caller_name\u001b[39m=\u001b[39m\u001b[39mself\u001b[39m\u001b[39m.\u001b[39m\u001b[39m__class__\u001b[39m\u001b[39m.\u001b[39m\u001b[39m__name__\u001b[39m,\n\u001b[1;32m    604\u001b[0m     )\n",
      "File \u001b[0;32m~/opt/anaconda3/envs/dataanalysis/lib/python3.11/site-packages/sklearn/base.py:169\u001b[0m, in \u001b[0;36mBaseEstimator.get_params\u001b[0;34m(self, deep)\u001b[0m\n\u001b[1;32m    154\u001b[0m \u001b[39m\"\"\"\u001b[39;00m\n\u001b[1;32m    155\u001b[0m \u001b[39mGet parameters for this estimator.\u001b[39;00m\n\u001b[1;32m    156\u001b[0m \n\u001b[0;32m   (...)\u001b[0m\n\u001b[1;32m    166\u001b[0m \u001b[39m    Parameter names mapped to their values.\u001b[39;00m\n\u001b[1;32m    167\u001b[0m \u001b[39m\"\"\"\u001b[39;00m\n\u001b[1;32m    168\u001b[0m out \u001b[39m=\u001b[39m \u001b[39mdict\u001b[39m()\n\u001b[0;32m--> 169\u001b[0m \u001b[39mfor\u001b[39;00m key \u001b[39min\u001b[39;00m \u001b[39mself\u001b[39;49m\u001b[39m.\u001b[39;49m_get_param_names():\n\u001b[1;32m    170\u001b[0m     value \u001b[39m=\u001b[39m \u001b[39mgetattr\u001b[39m(\u001b[39mself\u001b[39m, key)\n\u001b[1;32m    171\u001b[0m     \u001b[39mif\u001b[39;00m deep \u001b[39mand\u001b[39;00m \u001b[39mhasattr\u001b[39m(value, \u001b[39m\"\u001b[39m\u001b[39mget_params\u001b[39m\u001b[39m\"\u001b[39m) \u001b[39mand\u001b[39;00m \u001b[39mnot\u001b[39;00m \u001b[39misinstance\u001b[39m(value, \u001b[39mtype\u001b[39m):\n",
      "File \u001b[0;32m~/opt/anaconda3/envs/dataanalysis/lib/python3.11/site-packages/sklearn/base.py:134\u001b[0m, in \u001b[0;36mBaseEstimator._get_param_names\u001b[0;34m(cls)\u001b[0m\n\u001b[1;32m    130\u001b[0m     \u001b[39mreturn\u001b[39;00m []\n\u001b[1;32m    132\u001b[0m \u001b[39m# introspect the constructor arguments to find the model parameters\u001b[39;00m\n\u001b[1;32m    133\u001b[0m \u001b[39m# to represent\u001b[39;00m\n\u001b[0;32m--> 134\u001b[0m init_signature \u001b[39m=\u001b[39m inspect\u001b[39m.\u001b[39;49msignature(init)\n\u001b[1;32m    135\u001b[0m \u001b[39m# Consider the constructor parameters excluding 'self'\u001b[39;00m\n\u001b[1;32m    136\u001b[0m parameters \u001b[39m=\u001b[39m [\n\u001b[1;32m    137\u001b[0m     p\n\u001b[1;32m    138\u001b[0m     \u001b[39mfor\u001b[39;00m p \u001b[39min\u001b[39;00m init_signature\u001b[39m.\u001b[39mparameters\u001b[39m.\u001b[39mvalues()\n\u001b[1;32m    139\u001b[0m     \u001b[39mif\u001b[39;00m p\u001b[39m.\u001b[39mname \u001b[39m!=\u001b[39m \u001b[39m\"\u001b[39m\u001b[39mself\u001b[39m\u001b[39m\"\u001b[39m \u001b[39mand\u001b[39;00m p\u001b[39m.\u001b[39mkind \u001b[39m!=\u001b[39m p\u001b[39m.\u001b[39mVAR_KEYWORD\n\u001b[1;32m    140\u001b[0m ]\n",
      "File \u001b[0;32m~/opt/anaconda3/envs/dataanalysis/lib/python3.11/inspect.py:3272\u001b[0m, in \u001b[0;36msignature\u001b[0;34m(obj, follow_wrapped, globals, locals, eval_str)\u001b[0m\n\u001b[1;32m   3270\u001b[0m \u001b[39mdef\u001b[39;00m \u001b[39msignature\u001b[39m(obj, \u001b[39m*\u001b[39m, follow_wrapped\u001b[39m=\u001b[39m\u001b[39mTrue\u001b[39;00m, \u001b[39mglobals\u001b[39m\u001b[39m=\u001b[39m\u001b[39mNone\u001b[39;00m, \u001b[39mlocals\u001b[39m\u001b[39m=\u001b[39m\u001b[39mNone\u001b[39;00m, eval_str\u001b[39m=\u001b[39m\u001b[39mFalse\u001b[39;00m):\n\u001b[1;32m   3271\u001b[0m     \u001b[39m\"\"\"Get a signature object for the passed callable.\"\"\"\u001b[39;00m\n\u001b[0;32m-> 3272\u001b[0m     \u001b[39mreturn\u001b[39;00m Signature\u001b[39m.\u001b[39;49mfrom_callable(obj, follow_wrapped\u001b[39m=\u001b[39;49mfollow_wrapped,\n\u001b[1;32m   3273\u001b[0m                                    \u001b[39mglobals\u001b[39;49m\u001b[39m=\u001b[39;49m\u001b[39mglobals\u001b[39;49m, \u001b[39mlocals\u001b[39;49m\u001b[39m=\u001b[39;49m\u001b[39mlocals\u001b[39;49m, eval_str\u001b[39m=\u001b[39;49meval_str)\n",
      "File \u001b[0;32m~/opt/anaconda3/envs/dataanalysis/lib/python3.11/inspect.py:3020\u001b[0m, in \u001b[0;36mSignature.from_callable\u001b[0;34m(cls, obj, follow_wrapped, globals, locals, eval_str)\u001b[0m\n\u001b[1;32m   3016\u001b[0m \u001b[39m@classmethod\u001b[39m\n\u001b[1;32m   3017\u001b[0m \u001b[39mdef\u001b[39;00m \u001b[39mfrom_callable\u001b[39m(\u001b[39mcls\u001b[39m, obj, \u001b[39m*\u001b[39m,\n\u001b[1;32m   3018\u001b[0m                   follow_wrapped\u001b[39m=\u001b[39m\u001b[39mTrue\u001b[39;00m, \u001b[39mglobals\u001b[39m\u001b[39m=\u001b[39m\u001b[39mNone\u001b[39;00m, \u001b[39mlocals\u001b[39m\u001b[39m=\u001b[39m\u001b[39mNone\u001b[39;00m, eval_str\u001b[39m=\u001b[39m\u001b[39mFalse\u001b[39;00m):\n\u001b[1;32m   3019\u001b[0m     \u001b[39m\"\"\"Constructs Signature for the given callable object.\"\"\"\u001b[39;00m\n\u001b[0;32m-> 3020\u001b[0m     \u001b[39mreturn\u001b[39;00m _signature_from_callable(obj, sigcls\u001b[39m=\u001b[39;49m\u001b[39mcls\u001b[39;49m,\n\u001b[1;32m   3021\u001b[0m                                     follow_wrapper_chains\u001b[39m=\u001b[39;49mfollow_wrapped,\n\u001b[1;32m   3022\u001b[0m                                     \u001b[39mglobals\u001b[39;49m\u001b[39m=\u001b[39;49m\u001b[39mglobals\u001b[39;49m, \u001b[39mlocals\u001b[39;49m\u001b[39m=\u001b[39;49m\u001b[39mlocals\u001b[39;49m, eval_str\u001b[39m=\u001b[39;49meval_str)\n",
      "File \u001b[0;32m~/opt/anaconda3/envs/dataanalysis/lib/python3.11/inspect.py:2504\u001b[0m, in \u001b[0;36m_signature_from_callable\u001b[0;34m(obj, follow_wrapper_chains, skip_bound_arg, globals, locals, eval_str, sigcls)\u001b[0m\n\u001b[1;32m   2501\u001b[0m             new_params \u001b[39m=\u001b[39m (first_wrapped_param,) \u001b[39m+\u001b[39m sig_params\n\u001b[1;32m   2502\u001b[0m             \u001b[39mreturn\u001b[39;00m sig\u001b[39m.\u001b[39mreplace(parameters\u001b[39m=\u001b[39mnew_params)\n\u001b[0;32m-> 2504\u001b[0m \u001b[39mif\u001b[39;00m isfunction(obj) \u001b[39mor\u001b[39;00m _signature_is_functionlike(obj):\n\u001b[1;32m   2505\u001b[0m     \u001b[39m# If it's a pure Python function, or an object that is duck type\u001b[39;00m\n\u001b[1;32m   2506\u001b[0m     \u001b[39m# of a Python function (Cython functions, for instance), then:\u001b[39;00m\n\u001b[1;32m   2507\u001b[0m     \u001b[39mreturn\u001b[39;00m _signature_from_function(sigcls, obj,\n\u001b[1;32m   2508\u001b[0m                                     skip_bound_arg\u001b[39m=\u001b[39mskip_bound_arg,\n\u001b[1;32m   2509\u001b[0m                                     \u001b[39mglobals\u001b[39m\u001b[39m=\u001b[39m\u001b[39mglobals\u001b[39m, \u001b[39mlocals\u001b[39m\u001b[39m=\u001b[39m\u001b[39mlocals\u001b[39m, eval_str\u001b[39m=\u001b[39meval_str)\n\u001b[1;32m   2511\u001b[0m \u001b[39mif\u001b[39;00m _signature_is_builtin(obj):\n",
      "File \u001b[0;32m~/opt/anaconda3/envs/dataanalysis/lib/python3.11/inspect.py:378\u001b[0m, in \u001b[0;36misfunction\u001b[0;34m(object)\u001b[0m\n\u001b[1;32m    372\u001b[0m         \u001b[39m\"\"\"Return true if the object is a getset descriptor.\u001b[39;00m\n\u001b[1;32m    373\u001b[0m \n\u001b[1;32m    374\u001b[0m \u001b[39m        getset descriptors are specialized descriptors defined in extension\u001b[39;00m\n\u001b[1;32m    375\u001b[0m \u001b[39m        modules.\"\"\"\u001b[39;00m\n\u001b[1;32m    376\u001b[0m         \u001b[39mreturn\u001b[39;00m \u001b[39mFalse\u001b[39;00m\n\u001b[0;32m--> 378\u001b[0m \u001b[39mdef\u001b[39;00m \u001b[39misfunction\u001b[39m(\u001b[39mobject\u001b[39m):\n\u001b[1;32m    379\u001b[0m     \u001b[39m\"\"\"Return true if the object is a user-defined function.\u001b[39;00m\n\u001b[1;32m    380\u001b[0m \n\u001b[1;32m    381\u001b[0m \u001b[39m    Function objects provide these attributes:\u001b[39;00m\n\u001b[0;32m   (...)\u001b[0m\n\u001b[1;32m    387\u001b[0m \u001b[39m        __annotations__ dict of parameter annotations\u001b[39;00m\n\u001b[1;32m    388\u001b[0m \u001b[39m        __kwdefaults__  dict of keyword only parameters with defaults\"\"\"\u001b[39;00m\n\u001b[1;32m    389\u001b[0m     \u001b[39mreturn\u001b[39;00m \u001b[39misinstance\u001b[39m(\u001b[39mobject\u001b[39m, types\u001b[39m.\u001b[39mFunctionType)\n",
      "\u001b[0;31mKeyboardInterrupt\u001b[0m: "
     ]
    }
   ],
   "source": [
    "model_outcomes = icvm.do_predictor_set_comparison(\n",
    "    predictor_sets, 'NUTRIENT_RICH_FOODS_INDEX_2wkAverage', dev_cv_analysis)"
   ]
  }
 ],
 "metadata": {
  "kernelspec": {
   "display_name": "dataanalysis",
   "language": "python",
   "name": "python3"
  },
  "language_info": {
   "codemirror_mode": {
    "name": "ipython",
    "version": 3
   },
   "file_extension": ".py",
   "mimetype": "text/x-python",
   "name": "python",
   "nbconvert_exporter": "python",
   "pygments_lexer": "ipython3",
   "version": "3.11.0"
  },
  "orig_nbformat": 4
 },
 "nbformat": 4,
 "nbformat_minor": 2
}
