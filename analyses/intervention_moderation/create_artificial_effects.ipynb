{
 "cells": [
  {
   "cell_type": "markdown",
   "metadata": {},
   "source": [
    "This notebook takes the preprocessed dataset; creates some artificial effects of the predictors on the outcomes, and then saves this into a new file. The reason for doing this is to test whether the pipeline works."
   ]
  },
  {
   "cell_type": "markdown",
   "metadata": {},
   "source": [
    "# Get data for mixing"
   ]
  },
  {
   "cell_type": "code",
   "execution_count": 184,
   "metadata": {},
   "outputs": [
    {
     "name": "stdout",
     "output_type": "stream",
     "text": [
      "The autoreload extension is already loaded. To reload it, use:\n",
      "  %reload_ext autoreload\n"
     ]
    }
   ],
   "source": [
    "%load_ext autoreload\n",
    "%autoreload 2\n",
    "import pandas as pd\n",
    "from dev_interaction_util import *\n",
    "from DevCvAnalysis import DevCvAnalysis\n",
    "import matplotlib.pyplot as plt\n",
    "\n",
    "config = load_config(\"config.yml\") \n",
    "\n",
    "dropbox_data_dir = config['dropbox_data_dir']\n"
   ]
  },
  {
   "cell_type": "code",
   "execution_count": 185,
   "metadata": {},
   "outputs": [
    {
     "name": "stdout",
     "output_type": "stream",
     "text": [
      "The autoreload extension is already loaded. To reload it, use:\n",
      "  %reload_ext autoreload\n"
     ]
    }
   ],
   "source": [
    "%load_ext autoreload\n",
    "%autoreload 2\n",
    "\n",
    "from InterventionCVManager import *\n",
    "\n",
    "dropbox_data_dir = config['dropbox_data_dir']\n",
    "\n",
    "icvm = InterventionCVManager(dropbox_data_dir)\n",
    "#icvm.mode = 'full_pipeline_test'\n",
    "#icvm.mode = 'fast_pipeline_test'\n",
    "icvm.mode = 'full_analysis'\n",
    "\n",
    "#dev_cv_analysis = icvm.get_prepopulated_dev_cv_analysis(set_as_random=True)"
   ]
  },
  {
   "cell_type": "code",
   "execution_count": 186,
   "metadata": {},
   "outputs": [
    {
     "name": "stdout",
     "output_type": "stream",
     "text": [
      "The autoreload extension is already loaded. To reload it, use:\n",
      "  %reload_ext autoreload\n",
      "WARNING: merging group codes with data_by_ppt resulted in a different number of participants\n",
      "pre merge: 275\n",
      "post merge: 270\n",
      "participants in pre merge but not post merge: {'DEV002', 'DEV007', 'DEV280', 'DEV022', 'DEV032'}\n",
      "Index(['Unnamed: 0', 'subject_id', 'wave', 'spm_l2_path', 'condition',\n",
      "       'beta_name', 'mask_label', 'roi_activity', 'run', 'task'],\n",
      "      dtype='object')\n",
      "Index(['Unnamed: 0', 'subject_id', 'wave', 'spm_l2_path', 'condition',\n",
      "       'beta_name', 'mask_label', 'roi_activity', 'run', 'task'],\n",
      "      dtype='object')\n",
      "Index(['Unnamed: 0', 'subject_id', 'wave', 'spm_l2_path', 'condition',\n",
      "       'beta_name', 'mask_label', 'roi_activity', 'task', 'run'],\n",
      "      dtype='object')\n",
      "run_real_analysis is True, so we're not randomizing the outcomes. \n",
      "(243, 33)\n",
      "(243, 33)\n"
     ]
    },
    {
     "name": "stderr",
     "output_type": "stream",
     "text": [
      "/Users/benjaminsmith/Google Drive/oregon/code/DEV_scripts/analyses/intervention_moderation/dev_interaction_util.py:1003: FutureWarning: The default value of regex will change from True to False in a future version.\n",
      "  ms_groups['intervention_group'] = ms_groups['group_raw'].str.replace(r\"\\(.*\\)\",\"\")\n"
     ]
    }
   ],
   "source": [
    "%load_ext autoreload\n",
    "%autoreload 2\n",
    "dev_cv_analysis = icvm.get_prepopulated_dev_cv_analysis(set_as_random=False)"
   ]
  },
  {
   "cell_type": "code",
   "execution_count": 187,
   "metadata": {},
   "outputs": [],
   "source": [
    "data_by_ppt_raw = pd.read_csv(dev_cv_analysis.data_by_ppt_path)"
   ]
  },
  {
   "cell_type": "code",
   "execution_count": 188,
   "metadata": {},
   "outputs": [],
   "source": [
    "data_codebook = pd.read_csv(dev_cv_analysis.data_codebook_path,skiprows=1)"
   ]
  },
  {
   "cell_type": "code",
   "execution_count": 189,
   "metadata": {},
   "outputs": [],
   "source": [
    "data_by_wave = pd.read_csv(dev_cv_analysis.data_by_wave_ppt_path)"
   ]
  },
  {
   "cell_type": "markdown",
   "metadata": {},
   "source": [
    "We will be saving a new 'data by wave' file that mixes in some data from the predictors. Data by wave is not directly what we predict--it's raw values before difference scores are calculated. Because I want to save the data in the actual format used by DevCvAnalysis, we're going to mix predictors into the raw values. These will then be included in the difference scores later on.\n",
    "\n",
    "To do this we need to get data_by_ppt with rows exactly corresponding to data_by_wave. This will help us do the mixing."
   ]
  },
  {
   "cell_type": "code",
   "execution_count": 190,
   "metadata": {},
   "outputs": [],
   "source": [
    "predictors_raw_by_ppt_wave = pd.merge(\n",
    "    data_by_wave.loc[:,['SID']],\n",
    "    data_by_ppt_raw,on='SID',how='left')"
   ]
  },
  {
   "cell_type": "code",
   "execution_count": 191,
   "metadata": {},
   "outputs": [
    {
     "name": "stdout",
     "output_type": "stream",
     "text": [
      "(275, 172)\n",
      "(1813, 128)\n",
      "(1813, 172)\n"
     ]
    }
   ],
   "source": [
    "print(data_by_ppt_raw.shape)\n",
    "print(data_by_wave.shape)\n",
    "print(predictors_raw_by_ppt_wave.shape)"
   ]
  },
  {
   "cell_type": "markdown",
   "metadata": {},
   "source": [
    "# Create a artificial effects mixer"
   ]
  },
  {
   "cell_type": "markdown",
   "metadata": {},
   "source": [
    "Let's start by creating a real simple, dream effect. Let's say there are 5 specific predictors that meaningfully predict change in the outcomes, with, say, r=0.2."
   ]
  },
  {
   "cell_type": "code",
   "execution_count": 192,
   "metadata": {},
   "outputs": [],
   "source": [
    "\n",
    "import numpy as np\n",
    "\n",
    "def create_mixed_vector_no_nas(x, y, r):\n",
    "    x_na = np.isnan(x)\n",
    "    y_na = np.isnan(y)\n",
    "    na_mask = np.logical_or(x_na, y_na)\n",
    "    y_mixed = create_mixed_vector(x[~na_mask], y[~na_mask], r)\n",
    "    y_out = y.copy()\n",
    "    y_out[~na_mask] = y_mixed\n",
    "    return y_out\n",
    "    \n",
    "def create_mixed_vector(x, y, r):\n",
    "\n",
    "    \n",
    "    x_mean = np.mean(x)\n",
    "    y_mean = np.mean(y)\n",
    "    x_norm = x- x_mean\n",
    "    y_norm = y- y_mean\n",
    "    \n",
    "    # Scale by standard deviations\n",
    "    x_std = np.std(x)\n",
    "    y_std = np.std(y)\n",
    "    x_norm /= x_std\n",
    "    y_norm /= y_std\n",
    "    \n",
    "    proj = np.dot(x_norm, y_norm) / np.dot(x_norm, x_norm)\n",
    "    y_orth = y_norm - proj * x_norm\n",
    "    #y_orth = y - proj * x_norm\n",
    "    # Modify the correlation coefficient of y with x\n",
    "    # current_correlation = np.corrcoef(x, y)[0, 1]\n",
    "    # y -= current_correlation * x\n",
    "\n",
    "    \n",
    "    # Scale and shift y to match the desired correlation coefficient\n",
    "    #y_norm = (1- r ) * y_orth + r * x_norm\n",
    "    y_norm = y_orth + r * x_norm\n",
    "    y_norm *= np.sqrt(y_std * x_std)\n",
    "    y_norm += y_mean\n",
    "    \n",
    "    return y_norm"
   ]
  },
  {
   "cell_type": "code",
   "execution_count": 193,
   "metadata": {},
   "outputs": [],
   "source": [
    "\n",
    "# import numpy as np\n",
    "\n",
    "# def create_mixed_vector_no_nas(x, y, r):\n",
    "#     x_na = np.isnan(x)\n",
    "#     y_na = np.isnan(y)\n",
    "#     na_mask = np.logical_or(x_na, y_na)\n",
    "#     y_mixed = create_mixed_vector(x[~na_mask], y[~na_mask], r)\n",
    "#     y_out = y.copy()\n",
    "#     y_out[~na_mask] = y_mixed\n",
    "#     return y_out\n",
    "\n",
    "# def create_mixed_vector(x, y, r):\n",
    "    \n",
    "#     proj = np.dot(x, y) / np.dot(x, x)\n",
    "#     y_orth = y - proj * x\n",
    "#     #in this version we'll normalize AFTER orthogonalizing\n",
    "\n",
    "#     x_mean = np.mean(x)\n",
    "#     y_mean = np.mean(y)\n",
    "#     y_orth_mean = np.mean(y_orth)\n",
    "#     x_norm = x- x_mean\n",
    "#     y_norm = y- y_mean\n",
    "#     y_orth_norm = y_orth - y_orth_mean\n",
    "    \n",
    "#     # Scale by standard deviations\n",
    "#     x_std = np.std(x)\n",
    "#     y_std = np.std(y_orth)\n",
    "#     y_orth_std = np.std(y_orth)\n",
    "#     x_norm /= x_std\n",
    "#     y_norm /= y_std\n",
    "#     y_orth_norm /= y_orth_std\n",
    "    \n",
    "\n",
    "    \n",
    "#     # Scale and shift y to match the desired correlation coefficient\n",
    "#     #y_norm = (1- r ) * y_norm + r * x_norm\n",
    "#     y_out = y_orth_norm + r * x_norm\n",
    "#     #y_norm *= np.sqrt(y_std * x_std)\n",
    "#     y_out *= y_std\n",
    "#     y_out += y_mean\n",
    "    \n",
    "#     return y_out"
   ]
  },
  {
   "cell_type": "markdown",
   "metadata": {},
   "source": [
    "# Test the mixer"
   ]
  },
  {
   "cell_type": "code",
   "execution_count": 194,
   "metadata": {},
   "outputs": [
    {
     "name": "stdout",
     "output_type": "stream",
     "text": [
      "0.2877921552678985\n",
      "0.0006400041868706086\n"
     ]
    }
   ],
   "source": [
    "#import pearson's correlation test\n",
    "from scipy.stats import pearsonr\n",
    "\n",
    "\n",
    "\n",
    "\n",
    "\n",
    "# Create a new vector y2 with Pearson's correlation of 0.3 with vector x\n",
    "#it doesn't work exactly but it's close.\n",
    "#has fairly low variance because we orthogonalize the y before we mix the correlated vector\n",
    "\n",
    "\n",
    "#calculate pearson's correlation\n",
    "corr_mean = [0]*1000\n",
    "for i in range(1000):\n",
    "    # Generate random normally distributed vectors x and y\n",
    "    x = np.random.normal(size=300)\n",
    "    y = np.random.normal(size=300)\n",
    "    y2 = create_mixed_vector_no_nas(x, y, 0.3)\n",
    "    corr, _ = pearsonr(x, y2)\n",
    "    corr_mean[i] = corr\n",
    "    #print(corr)\n",
    "\n",
    "print(np.mean(corr_mean))\n",
    "print(np.std(corr_mean))"
   ]
  },
  {
   "cell_type": "markdown",
   "metadata": {},
   "source": [
    "# Select some variables to mix"
   ]
  },
  {
   "cell_type": "code",
   "execution_count": 195,
   "metadata": {},
   "outputs": [
    {
     "data": {
      "text/plain": [
       "array(['Restraint_aggregate', 'PCS', 'BFI_openness', 'TESQ_E_sum',\n",
       "       'BFI_agreeableness'], dtype=object)"
      ]
     },
     "execution_count": 195,
     "metadata": {},
     "output_type": "execute_result"
    }
   ],
   "source": [
    "# select 5 random predictors\n",
    "#set seed\n",
    "np.random.seed(1158)\n",
    "#select 5 random predictors\n",
    "#to avoid going into the ROI predictors which will be complicated we'll just look for predictors of Category self-report\n",
    "predictors_to_mix = np.random.choice(data_codebook[data_codebook.Aim3PredictorsFinal & (data_codebook.Category=='self-report')]['VarName'], 5, replace=False)\n",
    "predictors_to_mix\n",
    "\n",
    "#now mix them in to specified outcomes\n"
   ]
  },
  {
   "cell_type": "code",
   "execution_count": 196,
   "metadata": {},
   "outputs": [
    {
     "name": "stdout",
     "output_type": "stream",
     "text": [
      "143                                      bf\n",
      "144    NUTRIENT_RICH_FOODS_INDEX_2wkAverage\n",
      "146         ANTINUTRIENT_DENSITY_2wkAverage\n",
      "147                           total_calorie\n",
      "Name: VarName, dtype: object\n"
     ]
    }
   ],
   "source": [
    "all_outcomes = data_codebook[data_codebook.IsSelectedLongitudinalOutcomeMeasure]['VarName']\n",
    "print(all_outcomes)"
   ]
  },
  {
   "cell_type": "markdown",
   "metadata": {},
   "source": [
    "Let's mix in for the two subj evaluated items but not for smoking_feelings."
   ]
  },
  {
   "cell_type": "markdown",
   "metadata": {},
   "source": [
    "# Do the mixing"
   ]
  },
  {
   "cell_type": "markdown",
   "metadata": {},
   "source": [
    "We want the second sessionw with bf and calorie data, which is session 2."
   ]
  },
  {
   "cell_type": "code",
   "execution_count": 197,
   "metadata": {},
   "outputs": [
    {
     "name": "stdout",
     "output_type": "stream",
     "text": [
      "1    284\n",
      "2    254\n",
      "3    233\n",
      "4    203\n",
      "5    159\n",
      "Name: session_id, dtype: int64\n",
      "1    256\n",
      "2    227\n",
      "3    217\n",
      "4    211\n",
      "5    169\n",
      "Name: session_id, dtype: int64\n",
      "bf\n",
      "bf Restraint_aggregate\n",
      "                     Restraint_aggregate        bf\n",
      "Restraint_aggregate             1.000000  0.046393\n",
      "bf                              0.046393  1.000000\n",
      "                     Restraint_aggregate        bf\n",
      "Restraint_aggregate             1.000000  0.287632\n",
      "bf                              0.287632  1.000000\n",
      "bf PCS\n",
      "          PCS        bf\n",
      "PCS  1.000000 -0.139267\n",
      "bf  -0.139267  1.000000\n",
      "          PCS        bf\n",
      "PCS  1.000000  0.289939\n",
      "bf   0.289939  1.000000\n",
      "bf BFI_openness\n",
      "              BFI_openness        bf\n",
      "BFI_openness      1.000000  0.114488\n",
      "bf                0.114488  1.000000\n",
      "              BFI_openness        bf\n",
      "BFI_openness      1.000000  0.289091\n",
      "bf                0.289091  1.000000\n",
      "bf TESQ_E_sum\n",
      "            TESQ_E_sum        bf\n",
      "TESQ_E_sum    1.000000  0.285923\n",
      "bf            0.285923  1.000000\n",
      "            TESQ_E_sum       bf\n",
      "TESQ_E_sum     1.00000  0.29877\n",
      "bf             0.29877  1.00000\n",
      "bf BFI_agreeableness\n",
      "                   BFI_agreeableness        bf\n",
      "BFI_agreeableness           1.000000  0.117774\n",
      "bf                          0.117774  1.000000\n",
      "                   BFI_agreeableness        bf\n",
      "BFI_agreeableness           1.000000  0.289194\n",
      "bf                          0.289194  1.000000\n",
      "total_calorie\n",
      "total_calorie Restraint_aggregate\n",
      "                     Restraint_aggregate  total_calorie\n",
      "Restraint_aggregate             1.000000       0.072978\n",
      "total_calorie                   0.072978       1.000000\n",
      "                     Restraint_aggregate  total_calorie\n",
      "Restraint_aggregate             1.000000       0.288052\n",
      "total_calorie                   0.288052       1.000000\n",
      "total_calorie PCS\n",
      "                    PCS  total_calorie\n",
      "PCS            1.000000       0.032942\n",
      "total_calorie  0.032942       1.000000\n",
      "                    PCS  total_calorie\n",
      "PCS            1.000000       0.287491\n",
      "total_calorie  0.287491       1.000000\n",
      "total_calorie BFI_openness\n",
      "               BFI_openness  total_calorie\n",
      "BFI_openness       1.000000       0.196316\n",
      "total_calorie      0.196316       1.000000\n",
      "               BFI_openness  total_calorie\n",
      "BFI_openness       1.000000       0.292567\n",
      "total_calorie      0.292567       1.000000\n",
      "total_calorie TESQ_E_sum\n",
      "               TESQ_E_sum  total_calorie\n",
      "TESQ_E_sum       1.000000       0.242553\n",
      "total_calorie    0.242553       1.000000\n",
      "               TESQ_E_sum  total_calorie\n",
      "TESQ_E_sum       1.000000       0.295431\n",
      "total_calorie    0.295431       1.000000\n",
      "total_calorie BFI_agreeableness\n",
      "                   BFI_agreeableness  total_calorie\n",
      "BFI_agreeableness           1.000000       0.123551\n",
      "total_calorie               0.123551       1.000000\n",
      "                   BFI_agreeableness  total_calorie\n",
      "BFI_agreeableness           1.000000       0.289381\n",
      "total_calorie               0.289381       1.000000\n"
     ]
    },
    {
     "data": {
      "image/png": "[encoded data removed]",
      "text/plain": [
       "<Figure size 640x480 with 1 Axes>"
      ]
     },
     "metadata": {},
     "output_type": "display_data"
    }
   ],
   "source": [
    "artificial_data = data_by_wave.copy()\n",
    "print(artificial_data.loc[np.isnan(artificial_data.bf)==False,:].session_id.value_counts())\n",
    "print(artificial_data.loc[np.isnan(artificial_data.total_calorie)==False,:].session_id.value_counts())\n",
    "\n",
    "session_to_modify = 2\n",
    "rows_to_modify = artificial_data.session_id==session_to_modify\n",
    "\n",
    "outcomes_to_mix = ['bf','total_calorie']\n",
    "for outcome_to_mix in outcomes_to_mix:\n",
    "    print(outcome_to_mix)\n",
    "    # plt.figure()\n",
    "    # artificial_data.loc[rows_to_modify,outcome_to_mix].hist()\n",
    "    # #show the histogram\n",
    "    # plt.show()\n",
    "\n",
    "    for predictor_to_mix in predictors_to_mix:\n",
    "        print(outcome_to_mix, predictor_to_mix)\n",
    "        print(pd.concat([predictors_raw_by_ppt_wave.loc[rows_to_modify,predictor_to_mix],artificial_data.loc[rows_to_modify,outcome_to_mix]],axis=1).corr())\n",
    "\n",
    "        # #do a histogram\n",
    "        # plt.figure()\n",
    "        # predictors_raw_by_ppt_wave.loc[rows_to_modify,predictor_to_mix].hist()\n",
    "        # #show the histogram\n",
    "        # plt.show()\n",
    "\n",
    "\n",
    "\n",
    "        artificial_data.loc[rows_to_modify,outcome_to_mix].hist()\n",
    "\n",
    "        mixed_data = create_mixed_vector_no_nas(\n",
    "            predictors_raw_by_ppt_wave.loc[rows_to_modify,predictor_to_mix],\n",
    "            artificial_data.loc[rows_to_modify,outcome_to_mix],0.3)\n",
    "        #now, the thing is; we only want to apply the mixed values to a particular wave\n",
    "        artificial_data.loc[rows_to_modify,outcome_to_mix] = mixed_data\n",
    "        print(pd.concat([predictors_raw_by_ppt_wave.loc[rows_to_modify,predictor_to_mix],artificial_data.loc[rows_to_modify,outcome_to_mix]],axis=1).corr())\n",
    "        \n",
    "                        "
   ]
  },
  {
   "cell_type": "code",
   "execution_count": null,
   "metadata": {},
   "outputs": [],
   "source": []
  },
  {
   "cell_type": "code",
   "execution_count": 198,
   "metadata": {},
   "outputs": [
    {
     "data": {
      "text/plain": [
       "3                NaN\n",
       "11               NaN\n",
       "18               NaN\n",
       "29               NaN\n",
       "33               NaN\n",
       "            ...     \n",
       "1781    26746.476508\n",
       "1787    26747.987681\n",
       "1793    26735.300472\n",
       "1799    26746.404501\n",
       "1805    26729.774301\n",
       "Name: total_calorie, Length: 256, dtype: float64"
      ]
     },
     "execution_count": 198,
     "metadata": {},
     "output_type": "execute_result"
    }
   ],
   "source": [
    "artificial_data.loc[rows_to_modify,outcome_to_mix]"
   ]
  },
  {
   "cell_type": "code",
   "execution_count": 199,
   "metadata": {},
   "outputs": [
    {
     "data": {
      "text/plain": [
       "False    1557\n",
       "True      256\n",
       "Name: session_id, dtype: int64"
      ]
     },
     "execution_count": 199,
     "metadata": {},
     "output_type": "execute_result"
    }
   ],
   "source": [
    "rows_to_modify.value_counts()"
   ]
  },
  {
   "cell_type": "markdown",
   "metadata": {},
   "source": [
    "# Verify difference scores correlate with predictors"
   ]
  },
  {
   "cell_type": "markdown",
   "metadata": {},
   "source": [
    "### with raw artificial output"
   ]
  },
  {
   "cell_type": "code",
   "execution_count": 200,
   "metadata": {},
   "outputs": [
    {
     "data": {
      "text/plain": [
       "(243, 214)"
      ]
     },
     "execution_count": 200,
     "metadata": {},
     "output_type": "execute_result"
    }
   ],
   "source": [
    "artificial_data_s2_modified = artificial_data.loc[(artificial_data.session_id==2),['SID']+outcomes_to_mix]\n",
    "all_data = dev_cv_analysis.get_full_dataset().merge(artificial_data_s2_modified,on='SID',how='inner')\n",
    "all_data.shape"
   ]
  },
  {
   "cell_type": "code",
   "execution_count": 201,
   "metadata": {},
   "outputs": [
    {
     "data": {
      "text/html": [
       "<div>\n",
       "<style scoped>\n",
       "    .dataframe tbody tr th:only-of-type {\n",
       "        vertical-align: middle;\n",
       "    }\n",
       "\n",
       "    .dataframe tbody tr th {\n",
       "        vertical-align: top;\n",
       "    }\n",
       "\n",
       "    .dataframe thead th {\n",
       "        text-align: right;\n",
       "    }\n",
       "</style>\n",
       "<table border=\"1\" class=\"dataframe\">\n",
       "  <thead>\n",
       "    <tr style=\"text-align: right;\">\n",
       "      <th></th>\n",
       "      <th>Restraint_aggregate</th>\n",
       "      <th>PCS</th>\n",
       "      <th>BFI_openness</th>\n",
       "      <th>TESQ_E_sum</th>\n",
       "      <th>BFI_agreeableness</th>\n",
       "      <th>bf</th>\n",
       "      <th>total_calorie</th>\n",
       "    </tr>\n",
       "  </thead>\n",
       "  <tbody>\n",
       "    <tr>\n",
       "      <th>Restraint_aggregate</th>\n",
       "      <td>1.000000</td>\n",
       "      <td>0.001655</td>\n",
       "      <td>0.049190</td>\n",
       "      <td>0.385656</td>\n",
       "      <td>-0.037227</td>\n",
       "      <td>0.258545</td>\n",
       "      <td>0.128296</td>\n",
       "    </tr>\n",
       "    <tr>\n",
       "      <th>PCS</th>\n",
       "      <td>0.001655</td>\n",
       "      <td>1.000000</td>\n",
       "      <td>0.204315</td>\n",
       "      <td>0.237916</td>\n",
       "      <td>0.147926</td>\n",
       "      <td>0.334112</td>\n",
       "      <td>0.144213</td>\n",
       "    </tr>\n",
       "    <tr>\n",
       "      <th>BFI_openness</th>\n",
       "      <td>0.049190</td>\n",
       "      <td>0.204315</td>\n",
       "      <td>1.000000</td>\n",
       "      <td>0.125879</td>\n",
       "      <td>0.175945</td>\n",
       "      <td>0.312763</td>\n",
       "      <td>0.318026</td>\n",
       "    </tr>\n",
       "    <tr>\n",
       "      <th>TESQ_E_sum</th>\n",
       "      <td>0.385656</td>\n",
       "      <td>0.237916</td>\n",
       "      <td>0.125879</td>\n",
       "      <td>1.000000</td>\n",
       "      <td>0.051700</td>\n",
       "      <td>0.295799</td>\n",
       "      <td>0.292661</td>\n",
       "    </tr>\n",
       "    <tr>\n",
       "      <th>BFI_agreeableness</th>\n",
       "      <td>-0.037227</td>\n",
       "      <td>0.147926</td>\n",
       "      <td>0.175945</td>\n",
       "      <td>0.051700</td>\n",
       "      <td>1.000000</td>\n",
       "      <td>0.289194</td>\n",
       "      <td>0.289381</td>\n",
       "    </tr>\n",
       "    <tr>\n",
       "      <th>bf</th>\n",
       "      <td>0.258545</td>\n",
       "      <td>0.334112</td>\n",
       "      <td>0.312763</td>\n",
       "      <td>0.295799</td>\n",
       "      <td>0.289194</td>\n",
       "      <td>1.000000</td>\n",
       "      <td>0.037981</td>\n",
       "    </tr>\n",
       "    <tr>\n",
       "      <th>total_calorie</th>\n",
       "      <td>0.128296</td>\n",
       "      <td>0.144213</td>\n",
       "      <td>0.318026</td>\n",
       "      <td>0.292661</td>\n",
       "      <td>0.289381</td>\n",
       "      <td>0.037981</td>\n",
       "      <td>1.000000</td>\n",
       "    </tr>\n",
       "  </tbody>\n",
       "</table>\n",
       "</div>"
      ],
      "text/plain": [
       "                     Restraint_aggregate       PCS  BFI_openness  TESQ_E_sum  \\\n",
       "Restraint_aggregate             1.000000  0.001655      0.049190    0.385656   \n",
       "PCS                             0.001655  1.000000      0.204315    0.237916   \n",
       "BFI_openness                    0.049190  0.204315      1.000000    0.125879   \n",
       "TESQ_E_sum                      0.385656  0.237916      0.125879    1.000000   \n",
       "BFI_agreeableness              -0.037227  0.147926      0.175945    0.051700   \n",
       "bf                              0.258545  0.334112      0.312763    0.295799   \n",
       "total_calorie                   0.128296  0.144213      0.318026    0.292661   \n",
       "\n",
       "                     BFI_agreeableness        bf  total_calorie  \n",
       "Restraint_aggregate          -0.037227  0.258545       0.128296  \n",
       "PCS                           0.147926  0.334112       0.144213  \n",
       "BFI_openness                  0.175945  0.312763       0.318026  \n",
       "TESQ_E_sum                    0.051700  0.295799       0.292661  \n",
       "BFI_agreeableness             1.000000  0.289194       0.289381  \n",
       "bf                            0.289194  1.000000       0.037981  \n",
       "total_calorie                 0.289381  0.037981       1.000000  "
      ]
     },
     "execution_count": 201,
     "metadata": {},
     "output_type": "execute_result"
    }
   ],
   "source": [
    "all_data[predictors_to_mix.tolist()+outcomes_to_mix].corr()"
   ]
  },
  {
   "cell_type": "markdown",
   "metadata": {},
   "source": [
    "### with diff scores"
   ]
  },
  {
   "cell_type": "markdown",
   "metadata": {},
   "source": [
    "First we should run the outcome script in order to view how it works with the difference scores.."
   ]
  },
  {
   "cell_type": "code",
   "execution_count": 202,
   "metadata": {},
   "outputs": [],
   "source": [
    "data_codebook = pd.read_csv(dev_cv_analysis.data_codebook_path,skiprows=1)\n",
    "outcome_data = get_outcome_diff_scores_from_longitudinal_dfs(data_codebook,artificial_data)"
   ]
  },
  {
   "cell_type": "code",
   "execution_count": 203,
   "metadata": {},
   "outputs": [],
   "source": [
    "preprocessed_full_predictor_set = dev_cv_analysis.get_full_dataset()\n",
    "all_data = pd.merge(preprocessed_full_predictor_set,outcome_data,on='SID',how='inner')"
   ]
  },
  {
   "cell_type": "code",
   "execution_count": 204,
   "metadata": {},
   "outputs": [
    {
     "data": {
      "text/plain": [
       "array(['Restraint_aggregate', 'PCS', 'BFI_openness', 'TESQ_E_sum',\n",
       "       'BFI_agreeableness'], dtype=object)"
      ]
     },
     "execution_count": 204,
     "metadata": {},
     "output_type": "execute_result"
    }
   ],
   "source": [
    "predictors_to_mix"
   ]
  },
  {
   "cell_type": "code",
   "execution_count": 205,
   "metadata": {},
   "outputs": [
    {
     "data": {
      "text/html": [
       "<div>\n",
       "<style scoped>\n",
       "    .dataframe tbody tr th:only-of-type {\n",
       "        vertical-align: middle;\n",
       "    }\n",
       "\n",
       "    .dataframe tbody tr th {\n",
       "        vertical-align: top;\n",
       "    }\n",
       "\n",
       "    .dataframe thead th {\n",
       "        text-align: right;\n",
       "    }\n",
       "</style>\n",
       "<table border=\"1\" class=\"dataframe\">\n",
       "  <thead>\n",
       "    <tr style=\"text-align: right;\">\n",
       "      <th></th>\n",
       "      <th>Restraint_aggregate</th>\n",
       "      <th>PCS</th>\n",
       "      <th>BFI_openness</th>\n",
       "      <th>TESQ_E_sum</th>\n",
       "      <th>BFI_agreeableness</th>\n",
       "      <th>bf</th>\n",
       "      <th>total_calorie</th>\n",
       "    </tr>\n",
       "  </thead>\n",
       "  <tbody>\n",
       "    <tr>\n",
       "      <th>Restraint_aggregate</th>\n",
       "      <td>1.000000</td>\n",
       "      <td>0.001655</td>\n",
       "      <td>0.049190</td>\n",
       "      <td>0.385656</td>\n",
       "      <td>-0.037227</td>\n",
       "      <td>0.283642</td>\n",
       "      <td>-0.137862</td>\n",
       "    </tr>\n",
       "    <tr>\n",
       "      <th>PCS</th>\n",
       "      <td>0.001655</td>\n",
       "      <td>1.000000</td>\n",
       "      <td>0.204315</td>\n",
       "      <td>0.237916</td>\n",
       "      <td>0.147926</td>\n",
       "      <td>0.709209</td>\n",
       "      <td>0.036972</td>\n",
       "    </tr>\n",
       "    <tr>\n",
       "      <th>BFI_openness</th>\n",
       "      <td>0.049190</td>\n",
       "      <td>0.204315</td>\n",
       "      <td>1.000000</td>\n",
       "      <td>0.125879</td>\n",
       "      <td>0.175945</td>\n",
       "      <td>0.396669</td>\n",
       "      <td>-0.120324</td>\n",
       "    </tr>\n",
       "    <tr>\n",
       "      <th>TESQ_E_sum</th>\n",
       "      <td>0.385656</td>\n",
       "      <td>0.237916</td>\n",
       "      <td>0.125879</td>\n",
       "      <td>1.000000</td>\n",
       "      <td>0.051700</td>\n",
       "      <td>0.267487</td>\n",
       "      <td>-0.026025</td>\n",
       "    </tr>\n",
       "    <tr>\n",
       "      <th>BFI_agreeableness</th>\n",
       "      <td>-0.037227</td>\n",
       "      <td>0.147926</td>\n",
       "      <td>0.175945</td>\n",
       "      <td>0.051700</td>\n",
       "      <td>1.000000</td>\n",
       "      <td>0.368428</td>\n",
       "      <td>-0.033023</td>\n",
       "    </tr>\n",
       "    <tr>\n",
       "      <th>bf</th>\n",
       "      <td>0.283642</td>\n",
       "      <td>0.709209</td>\n",
       "      <td>0.396669</td>\n",
       "      <td>0.267487</td>\n",
       "      <td>0.368428</td>\n",
       "      <td>1.000000</td>\n",
       "      <td>0.034615</td>\n",
       "    </tr>\n",
       "    <tr>\n",
       "      <th>total_calorie</th>\n",
       "      <td>-0.137862</td>\n",
       "      <td>0.036972</td>\n",
       "      <td>-0.120324</td>\n",
       "      <td>-0.026025</td>\n",
       "      <td>-0.033023</td>\n",
       "      <td>0.034615</td>\n",
       "      <td>1.000000</td>\n",
       "    </tr>\n",
       "  </tbody>\n",
       "</table>\n",
       "</div>"
      ],
      "text/plain": [
       "                     Restraint_aggregate       PCS  BFI_openness  TESQ_E_sum  \\\n",
       "Restraint_aggregate             1.000000  0.001655      0.049190    0.385656   \n",
       "PCS                             0.001655  1.000000      0.204315    0.237916   \n",
       "BFI_openness                    0.049190  0.204315      1.000000    0.125879   \n",
       "TESQ_E_sum                      0.385656  0.237916      0.125879    1.000000   \n",
       "BFI_agreeableness              -0.037227  0.147926      0.175945    0.051700   \n",
       "bf                              0.283642  0.709209      0.396669    0.267487   \n",
       "total_calorie                  -0.137862  0.036972     -0.120324   -0.026025   \n",
       "\n",
       "                     BFI_agreeableness        bf  total_calorie  \n",
       "Restraint_aggregate          -0.037227  0.283642      -0.137862  \n",
       "PCS                           0.147926  0.709209       0.036972  \n",
       "BFI_openness                  0.175945  0.396669      -0.120324  \n",
       "TESQ_E_sum                    0.051700  0.267487      -0.026025  \n",
       "BFI_agreeableness             1.000000  0.368428      -0.033023  \n",
       "bf                            0.368428  1.000000       0.034615  \n",
       "total_calorie                -0.033023  0.034615       1.000000  "
      ]
     },
     "execution_count": 205,
     "metadata": {},
     "output_type": "execute_result"
    }
   ],
   "source": [
    "all_data[predictors_to_mix.tolist()+outcomes_to_mix].corr()"
   ]
  },
  {
   "cell_type": "markdown",
   "metadata": {},
   "source": [
    "# Save"
   ]
  },
  {
   "cell_type": "code",
   "execution_count": 206,
   "metadata": {},
   "outputs": [],
   "source": [
    "artificial_data.to_csv(dropbox_data_dir + 'data_by_wave_ppt_artificial.csv')"
   ]
  },
  {
   "cell_type": "markdown",
   "metadata": {},
   "source": [
    "I haven't really got the intedned correlations, because my function wasn't intended to add these cumulatively.\n",
    "\n",
    "Still, it's now at the point that the cross-validation should detect some effects. If it doesn't, something's wrong with the cross-validation, or it is radically under-powered."
   ]
  }
 ],
 "metadata": {
  "kernelspec": {
   "display_name": "dataanalysis",
   "language": "python",
   "name": "python3"
  },
  "language_info": {
   "codemirror_mode": {
    "name": "ipython",
    "version": 3
   },
   "file_extension": ".py",
   "mimetype": "text/x-python",
   "name": "python",
   "nbconvert_exporter": "python",
   "pygments_lexer": "ipython3",
   "version": "3.11.0"
  },
  "orig_nbformat": 4
 },
 "nbformat": 4,
 "nbformat_minor": 2
}
